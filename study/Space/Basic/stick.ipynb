{
 "cells": [
  {
   "cell_type": "markdown",
   "id": "f0d546fd-2622-45db-adf2-b81a3ad21b8b",
   "metadata": {},
   "source": [
    "# stick \n",
    "\n",
    "Stick is representative of spaces consisting of a single constant invariant coda. \n",
    "A single constant in other words.  It is a space over pass that is the start point \n",
    "for counting, natural numbers, integers, polynomials, rationals, reals,...  These \n",
    "are all spaces descendant from stick. \n",
    "\n",
    "* Language: {|}\n",
    "* Elements: The single coda **\\|**. \n",
    "* Operation: \\| results for any input\n",
    "* Properties: Stick is a simple space, but is not distributive.\n",
    "* Endomorphisms: Any data F is an inner endomorphism of **pass** "
   ]
  },
  {
   "cell_type": "code",
   "execution_count": 1,
   "id": "13f10a7f-6b82-4fb4-995f-bf2e088663a7",
   "metadata": {},
   "outputs": [
    {
     "name": "stdout",
     "output_type": "stream",
     "text": []
    }
   ],
   "source": [
    "Def stick : {|} "
   ]
  },
  {
   "cell_type": "code",
   "execution_count": 2,
   "id": "84f87ea4-e3bf-423a-a902-15de5e59feca",
   "metadata": {},
   "outputs": [
    {
     "name": "stdout",
     "output_type": "stream",
     "text": [
      "|\n",
      "|\n",
      "|\n",
      "|"
     ]
    }
   ],
   "source": [
    "#\n",
    "#   Proof that stick is a space\n",
    "#\n",
    "stick:X? Y?\n",
    "stick:(stick:X?) (stick:Y?)\n",
    "stick:stick:X?\n",
    "stick:X?"
   ]
  },
  {
   "cell_type": "code",
   "execution_count": 3,
   "id": "093b5b97-4c60-450c-8a18-fd852c4090d1",
   "metadata": {},
   "outputs": [
    {
     "name": "stdout",
     "output_type": "stream",
     "text": [
      "|\n",
      "| |"
     ]
    }
   ],
   "source": [
    "#\n",
    "#   Stick is simple, but is not distributive \n",
    "#\n",
    "stick:X? Y?\n",
    "(stick:X?) (stick:Y?)"
   ]
  },
  {
   "cell_type": "code",
   "execution_count": 4,
   "id": "8176f467-042a-4213-b041-956fbc155d3b",
   "metadata": {},
   "outputs": [
    {
     "name": "stdout",
     "output_type": "stream",
     "text": [
      "|\n",
      "|\n",
      "|"
     ]
    }
   ],
   "source": [
    "#\n",
    "#   The endomorphisms of stick are data F such that \n",
    "#   F:stick:X = stick:F:X for all X in pass. In other words,\n",
    "#   data F satisfying F:| = |.\n",
    "#\n",
    "#   Three examples follow. \n",
    "#\n",
    "stick:|\n",
    "pass: | \n",
    "{if (|=B):B} : |"
   ]
  },
  {
   "cell_type": "code",
   "execution_count": 5,
   "id": "525b17c5-5380-4a3f-a8a7-f951139d40d6",
   "metadata": {},
   "outputs": [
    {
     "name": "stdout",
     "output_type": "stream",
     "text": []
    }
   ],
   "source": [
    "#\n",
    "#\n",
    "#   sticks is the space of finite or infinite sequences of | \n",
    "#\n",
    "Def sticks : ap {|} "
   ]
  },
  {
   "cell_type": "code",
   "execution_count": 6,
   "id": "5309913c-4ef2-4416-96f1-13e7c1220aed",
   "metadata": {},
   "outputs": [
    {
     "name": "stdout",
     "output_type": "stream",
     "text": [
      "| | |\n",
      "| | |\n",
      "| | |"
     ]
    }
   ],
   "source": [
    "sticks : a b c \n",
    "sticks : sticks : a b c \n",
    "sticks : (sticks : a b) (sticks:c)"
   ]
  },
  {
   "cell_type": "code",
   "execution_count": 7,
   "id": "f7cb5ab7-c713-411a-914d-3a37725d0ebe",
   "metadata": {},
   "outputs": [
    {
     "name": "stdout",
     "output_type": "stream",
     "text": []
    }
   ],
   "source": [
    "# \n",
    "#    stick itself does addition of finite or infinite numbers of sticks, i.e. stick is the \n",
    "#    natural numbers.\n",
    "#\n",
    "#    Introduce mul as an endomorphism of stick which multiplies the input number by the argument number.\n",
    "#\n",
    "Def mul : {dup (sticks:A) : B}"
   ]
  },
  {
   "cell_type": "code",
   "execution_count": 8,
   "id": "93d93cce-b14c-4ccc-9e9b-5bc2fe4ea96c",
   "metadata": {},
   "outputs": [
    {
     "name": "stdout",
     "output_type": "stream",
     "text": [
      "| | | | | |"
     ]
    }
   ],
   "source": [
    "mul | |  : | | | "
   ]
  },
  {
   "cell_type": "code",
   "execution_count": 9,
   "id": "31f8e936-ed33-489c-b967-efc2d73c9b94",
   "metadata": {},
   "outputs": [
    {
     "name": "stdout",
     "output_type": "stream",
     "text": [
      "| | | | | |"
     ]
    }
   ],
   "source": [
    "(mul | |) * sticks : | | | "
   ]
  },
  {
   "cell_type": "code",
   "execution_count": 10,
   "id": "94f9a680-30a9-4f0b-92e4-6bb4be8f6744",
   "metadata": {},
   "outputs": [
    {
     "name": "stdout",
     "output_type": "stream",
     "text": [
      "| | | | | |"
     ]
    }
   ],
   "source": [
    "sticks * (mul | | ): | | |"
   ]
  },
  {
   "cell_type": "code",
   "execution_count": 11,
   "id": "cd842393-71cb-4d30-b560-22ae116b9f9f",
   "metadata": {},
   "outputs": [
    {
     "name": "stdout",
     "output_type": "stream",
     "text": [
      "| | | | | | | | | |\n",
      "| | | | | | | | | |"
     ]
    }
   ],
   "source": [
    "#\n",
    "#   The endomorphism property of mul | |, for instance, is multiplication distributing over addition. \n",
    "#\n",
    "#   2 * ( 2 + 3) = 2*2 + 2*3 \n",
    "#\n",
    "mul | | : sticks : ( | | ) ( | | | )\n",
    "sticks : (mul | | : | |) (mul | | : | | | )"
   ]
  },
  {
   "cell_type": "code",
   "execution_count": 12,
   "id": "6ad3d0aa-f9db-402a-bd08-3f7672c7e3e5",
   "metadata": {},
   "outputs": [
    {
     "name": "stdout",
     "output_type": "stream",
     "text": [
      "| | | | | | | |\n",
      "| | | | | | | | | | | | | | | | | | | |"
     ]
    }
   ],
   "source": [
    "#\n",
    "#   Demo that addition does not distribute over multiplication  \n",
    "#\n",
    "#   2 + (2 * 3) != (2 + 2) * (2 + 3)\n",
    "#\n",
    "sticks : ( | | ) (mul | | : | | |) \n",
    "mul ( sticks : ( | | ) ( | | ) ) : sticks : ( | | ) ( | | | )  "
   ]
  },
  {
   "cell_type": "code",
   "execution_count": 13,
   "id": "8182f250-6b50-47d7-bfe8-72f42d887acd",
   "metadata": {},
   "outputs": [
    {
     "name": "stdout",
     "output_type": "stream",
     "text": []
    }
   ],
   "source": [
    "Def n: "
   ]
  },
  {
   "cell_type": "code",
   "execution_count": 14,
   "id": "aab1178e-ecac-4f6b-bfae-5e8daa3653be",
   "metadata": {},
   "outputs": [
    {
     "name": "stdout",
     "output_type": "stream",
     "text": []
    }
   ],
   "source": [
    "Def N : ap {put n : sticks : get : B}"
   ]
  },
  {
   "cell_type": "code",
   "execution_count": 15,
   "id": "640771eb-0175-4280-8666-86b925036397",
   "metadata": {},
   "outputs": [
    {
     "name": "stdout",
     "output_type": "stream",
     "text": [
      "(n:| | |) (n:| |) (n:)"
     ]
    }
   ],
   "source": [
    "# \n",
    "#   We can create a space N of natural numbers in another way, \n",
    "#   using n-atoms\n",
    "#\n",
    "N : (:a b c) (:x y) (:)"
   ]
  },
  {
   "cell_type": "code",
   "execution_count": 16,
   "id": "bcc967a9-d653-4129-86a1-1adb926103fd",
   "metadata": {},
   "outputs": [
    {
     "name": "stdout",
     "output_type": "stream",
     "text": []
    }
   ],
   "source": [
    "#\n",
    "#   The data (put n)*(get n) adds such natural numbers \n",
    "#\n",
    "Def N.sum : (put n)*(get n) "
   ]
  },
  {
   "cell_type": "code",
   "execution_count": 17,
   "id": "0085911c-8a3d-4c8b-bd9d-f711ef4298a9",
   "metadata": {},
   "outputs": [
    {
     "name": "stdout",
     "output_type": "stream",
     "text": [
      "(n:| | | | |)"
     ]
    }
   ],
   "source": [
    "N.sum : N : (:a b c) (:x y) (:)"
   ]
  },
  {
   "cell_type": "code",
   "execution_count": 18,
   "id": "45123652-8a0b-425f-94e7-ccd155bf9144",
   "metadata": {},
   "outputs": [
    {
     "name": "stdout",
     "output_type": "stream",
     "text": [
      "(n:| | | | |)"
     ]
    }
   ],
   "source": [
    "N.sum : (n: | | | ) (n : | | )"
   ]
  },
  {
   "cell_type": "code",
   "execution_count": 19,
   "id": "5323df73-49a1-49ab-bfcd-466dbd0fd641",
   "metadata": {},
   "outputs": [
    {
     "name": "stdout",
     "output_type": "stream",
     "text": []
    }
   ],
   "source": [
    "Def N.prod : ap { put n : dup (get n:A) : (get n:B) } "
   ]
  },
  {
   "cell_type": "code",
   "execution_count": 20,
   "id": "59486ab3-85ef-447d-88b9-c4b786c1ffbe",
   "metadata": {},
   "outputs": [
    {
     "name": "stdout",
     "output_type": "stream",
     "text": [
      "(n:| | | | | |) (n:| |)"
     ]
    }
   ],
   "source": [
    "N.prod ( n : | | ) : ( n : | | |) ( n : |) "
   ]
  },
  {
   "cell_type": "code",
   "execution_count": 21,
   "id": "1cd985c7-ceab-411b-8e8b-e7e52c9d6f35",
   "metadata": {},
   "outputs": [
    {
     "name": "stdout",
     "output_type": "stream",
     "text": [
      "(n:| | | | | | | | | |)"
     ]
    }
   ],
   "source": [
    "#\n",
    "#   N.prod is an endomorphism of N.sum \n",
    "# \n",
    "( N.prod ( n : | | ) ) : ( N.sum : ( n : | | ) ( n : | | | ) ) "
   ]
  },
  {
   "cell_type": "code",
   "execution_count": 22,
   "id": "f90b824b-55c1-4f0e-acc4-c2ef51680815",
   "metadata": {},
   "outputs": [
    {
     "name": "stdout",
     "output_type": "stream",
     "text": [
      "(n:| | | | | | | | | |)"
     ]
    }
   ],
   "source": [
    "( N.prod ( n : | | ) ) *  N.sum :  ( n : | | ) ( n : | | | ) ) "
   ]
  },
  {
   "cell_type": "code",
   "execution_count": 23,
   "id": "ecfaf325-419c-4439-9273-73110009bf6f",
   "metadata": {},
   "outputs": [
    {
     "name": "stdout",
     "output_type": "stream",
     "text": [
      "(n:| | | | | | | | | |)"
     ]
    }
   ],
   "source": [
    "N.sum * ( N.prod ( n : | | ) ) : ( n : | | ) ( n : | | | ) ) "
   ]
  },
  {
   "cell_type": "markdown",
   "id": "1758af06-4fb5-4157-ad80-6c5790849e23",
   "metadata": {},
   "source": [
    "So....\n",
    "\n",
    "N are the natural numbers with the usual sum and product (via endomorphism), and with the \n",
    "product distributing over the sum in the usual way.\n",
    "\n",
    "Now we do alternative natural numbers, mentioned by Alain Connes in his Topos talks."
   ]
  },
  {
   "cell_type": "code",
   "execution_count": 24,
   "id": "c3f2b436-0cd9-4e6a-accf-43a0e1002e04",
   "metadata": {},
   "outputs": [
    {
     "name": "stdout",
     "output_type": "stream",
     "text": []
    }
   ],
   "source": [
    "Def m :\n",
    "Def M : ap {put m : sticks : get : B}\n",
    "#\n",
    "#  Let \"sum\" of m and m' be the minimum  \n",
    "#"
   ]
  },
  {
   "cell_type": "code",
   "execution_count": 25,
   "id": "1e071b62-6e5c-4f81-be68-9ce4e8f207a7",
   "metadata": {},
   "outputs": [
    {
     "name": "stdout",
     "output_type": "stream",
     "text": [
      "(m:| | |)"
     ]
    }
   ],
   "source": [
    "{put m : common (get m:A) : (get m:B) } (m: | | | ) : (m:| | | |  |)"
   ]
  },
  {
   "cell_type": "code",
   "execution_count": 26,
   "id": "35e984de-ed36-4aaf-b6d7-d20b54aa3347",
   "metadata": {},
   "outputs": [
    {
     "name": "stdout",
     "output_type": "stream",
     "text": []
    }
   ],
   "source": [
    "Def M.min : {put m : common (get m:A) : (get m:B) }"
   ]
  },
  {
   "cell_type": "code",
   "execution_count": 27,
   "id": "2088be5a-12ac-4ef1-ad52-f8ad2166ce0e",
   "metadata": {},
   "outputs": [
    {
     "name": "stdout",
     "output_type": "stream",
     "text": [
      "(m:)"
     ]
    }
   ],
   "source": [
    "M.min (m:| | |) : (m:)"
   ]
  },
  {
   "cell_type": "code",
   "execution_count": 28,
   "id": "03912ccd-ea0b-4e58-9ade-c994325f8526",
   "metadata": {},
   "outputs": [
    {
     "name": "stdout",
     "output_type": "stream",
     "text": [
      "(m:| |)"
     ]
    }
   ],
   "source": [
    "ax {M.min A:B} : (m:| |) (m:| | |) (m: | | |)"
   ]
  },
  {
   "cell_type": "code",
   "execution_count": 29,
   "id": "3b692f13-1358-48f1-97d0-4aa7e45f8f00",
   "metadata": {},
   "outputs": [
    {
     "name": "stdout",
     "output_type": "stream",
     "text": []
    }
   ],
   "source": [
    "Def M.sum : ax {M.min A:B}"
   ]
  },
  {
   "cell_type": "code",
   "execution_count": 30,
   "id": "c36b201c-e8f8-44db-9d51-c65fd161f41a",
   "metadata": {},
   "outputs": [
    {
     "name": "stdout",
     "output_type": "stream",
     "text": [
      "(m:|)"
     ]
    }
   ],
   "source": [
    "M.sum : (m:| | ) (m:| | | | | ) (m:|)"
   ]
  },
  {
   "cell_type": "code",
   "execution_count": 31,
   "id": "fec2cc4d-1922-4f4d-b238-7c0141740da0",
   "metadata": {},
   "outputs": [
    {
     "name": "stdout",
     "output_type": "stream",
     "text": []
    }
   ],
   "source": [
    "#\n",
    "#   Thus, M.sum is a space.  \n",
    "#\n",
    "#   Let the analogous \"multiplication\" be addition.\n",
    "#\n",
    "Def M.mult : { put m : (get m:A) (get m:B) }"
   ]
  },
  {
   "cell_type": "code",
   "execution_count": 32,
   "id": "eb2ca58a-c89d-47b9-aada-d0be1b482dae",
   "metadata": {},
   "outputs": [
    {
     "name": "stdout",
     "output_type": "stream",
     "text": [
      "(m:| | | |)"
     ]
    }
   ],
   "source": [
    "M.mult (m: | | ) : M.sum : (m : | | | ) (m : | | )"
   ]
  },
  {
   "cell_type": "code",
   "execution_count": 33,
   "id": "815bc282-dab5-450b-9aab-ea88875551fc",
   "metadata": {},
   "outputs": [
    {
     "name": "stdout",
     "output_type": "stream",
     "text": [
      "(m:| | | |)"
     ]
    }
   ],
   "source": [
    "#\n",
    "#   As with standard naturals, M.mult A is an endomorphism for any A and \n",
    "#   M.mult distributes over M.sum \n",
    "#\n",
    "M.sum : ( M.mult (m:| |) : (m : | | | ) ) ( M.mult (m: | | ) : ( m : | |) )"
   ]
  },
  {
   "cell_type": "markdown",
   "id": "8bfc2789-339e-47dc-a895-47361db55365",
   "metadata": {},
   "source": [
    "We have demonstrated the claim that... \n",
    "\n",
    "* N.sum is a space with standard addition of naturals.\n",
    "* N.mult is an endomorphism of N.sum with standard multiplication of naturals.\n",
    "\n",
    "N.mult is not a space.  The endomorphism property implies that multiplication distributes over addition in the \n",
    "standard sense. \n",
    "\n",
    "And there is a separate formulation of natural numbers (taken from a Connes lecture).\n",
    "\n",
    "* M.sum is a space with minimum as \"addition\"\n",
    "* M.mult is standard addition as \"multipliation\"\n",
    "\n",
    "As with standard naturals, M.sum is a space, M.mult is an endomorphism of M.sum and multiplication distributes over addition."
   ]
  },
  {
   "cell_type": "code",
   "execution_count": null,
   "id": "c259b895-3986-4bb4-8913-72e17162b96a",
   "metadata": {},
   "outputs": [],
   "source": []
  }
 ],
 "metadata": {
  "kernelspec": {
   "display_name": "coda",
   "language": "",
   "name": "coda"
  },
  "language_info": {
   "file_extension": ".co",
   "mimetype": "text/plain",
   "name": "Any text"
  }
 },
 "nbformat": 4,
 "nbformat_minor": 5
}
