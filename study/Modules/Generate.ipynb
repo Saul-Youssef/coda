{
 "cells": [
  {
   "cell_type": "markdown",
   "id": "201b8263-bd78-4a96-9093-b09cb02b7e47",
   "metadata": {},
   "source": [
    "## Generate Module \n",
    "\n",
    "The generate module generates data samples by various means.\n",
    "\n",
    "* Generate.Window(width,depth)...generates all pure data up to the specified depth and width.  This grows enormously rapidly with width and depth.\n",
    "* Generate.codas...shows the base set of codas to generate random samples\n",
    "* Generate.Gen(codas,width).set()...gets a sample of codas with width up to `width'"
   ]
  },
  {
   "cell_type": "code",
   "execution_count": 1,
   "id": "92dcaf73-bcc3-4646-b28f-2539d2db39c8",
   "metadata": {},
   "outputs": [],
   "source": [
    "from base import *\n",
    "import Generate,Set"
   ]
  },
  {
   "cell_type": "code",
   "execution_count": 2,
   "id": "5938c6f0-5a46-41ac-9235-76141de5e6b5",
   "metadata": {
    "tags": []
   },
   "outputs": [
    {
     "name": "stdout",
     "output_type": "stream",
     "text": [
      "91\n",
      "\n",
      "◎\n",
      "(:◎)\n",
      "(:◎ ◎)\n",
      "𝟬\n",
      "𝝞\n",
      "◎◎\n",
      "\n",
      "◎\n",
      "◎◎\n",
      "◎ ◎\n",
      "◎ (:◎)\n",
      "◎ (:◎ ◎)\n",
      "◎ 𝟬\n",
      "◎ 𝝞\n",
      "◎ ◎◎\n",
      "◎ \n",
      "◎ ◎\n",
      "◎ ◎◎\n",
      "(:◎) ◎\n",
      "(:◎) (:◎)\n",
      "(:◎) (:◎ ◎)\n",
      "(:◎) 𝟬\n",
      "(:◎) 𝝞\n",
      "(:◎) ◎◎\n",
      "(:◎) \n",
      "(:◎) ◎\n",
      "(:◎) ◎◎\n",
      "(:◎ ◎) ◎\n",
      "(:◎ ◎) (:◎)\n",
      "(:◎ ◎) (:◎ ◎)\n",
      "(:◎ ◎) 𝟬\n",
      "(:◎ ◎) 𝝞\n",
      "(:◎ ◎) ◎◎\n",
      "(:◎ ◎) \n",
      "(:◎ ◎) ◎\n",
      "(:◎ ◎) ◎◎\n",
      "𝟬 ◎\n",
      "𝟬 (:◎)\n",
      "𝟬 (:◎ ◎)\n",
      "𝟬 𝟬\n",
      "𝟬 𝝞\n",
      "𝟬 ◎◎\n",
      "𝟬 \n",
      "𝟬 ◎\n",
      "𝟬 ◎◎\n",
      "𝝞 ◎\n",
      "𝝞 (:◎)\n",
      "𝝞 (:◎ ◎)\n",
      "𝝞 𝟬\n",
      "𝝞 𝝞\n",
      "𝝞 ◎◎\n",
      "𝝞 \n",
      "𝝞 ◎\n",
      "𝝞 ◎◎\n",
      "◎◎ ◎\n",
      "◎◎ (:◎)\n",
      "◎◎ (:◎ ◎)\n",
      "◎◎ 𝟬\n",
      "◎◎ 𝝞\n",
      "◎◎ ◎◎\n",
      "◎◎ \n",
      "◎◎ ◎\n",
      "◎◎ ◎◎\n",
      " ◎\n",
      " (:◎)\n",
      " (:◎ ◎)\n",
      " 𝟬\n",
      " 𝝞\n",
      " ◎◎\n",
      " \n",
      " ◎\n",
      " ◎◎\n",
      "◎ ◎\n",
      "◎ (:◎)\n",
      "◎ (:◎ ◎)\n",
      "◎ 𝟬\n",
      "◎ 𝝞\n",
      "◎ ◎◎\n",
      "◎ \n",
      "◎ ◎\n",
      "◎ ◎◎\n",
      "◎◎ ◎\n",
      "◎◎ (:◎)\n",
      "◎◎ (:◎ ◎)\n",
      "◎◎ 𝟬\n",
      "◎◎ 𝝞\n",
      "◎◎ ◎◎\n",
      "◎◎ \n",
      "◎◎ ◎\n"
     ]
    }
   ],
   "source": [
    "#\n",
    "#   Window generates all data within a specified depth and width.  \n",
    "#\n",
    "W = Generate.Window(2,2)\n",
    "print(len(W))\n",
    "for i in range(max(len(W),50)-1): print(W[i])"
   ]
  },
  {
   "cell_type": "code",
   "execution_count": 3,
   "id": "65ba7a11-2208-4b35-beb4-763d67dae9f6",
   "metadata": {
    "tags": []
   },
   "outputs": [
    {
     "data": {
      "text/plain": [
       "91"
      ]
     },
     "execution_count": 3,
     "metadata": {},
     "output_type": "execute_result"
    }
   ],
   "source": [
    "len(W)"
   ]
  },
  {
   "cell_type": "code",
   "execution_count": 4,
   "id": "f7ecd672-8220-4f07-a9d0-548661c8e1d5",
   "metadata": {
    "tags": []
   },
   "outputs": [
    {
     "name": "stdout",
     "output_type": "stream",
     "text": [
      "◎\n",
      "◎ ◎ ◎\n",
      "◎ ◎ ◎ ◎ ◎\n",
      "◎ ◎ ◎ ◎ ◎ ◎ ◎\n",
      "◎ ◎ ◎ ◎ ◎ ◎ ◎ ◎ ◎\n",
      "◎ ◎ ◎ ◎ ◎ ◎ ◎ ◎ ◎ ◎ ◎\n",
      "◎ ◎ ◎ ◎ ◎ ◎ ◎ ◎ ◎ ◎ ◎ ◎ ◎\n",
      "◎ ◎ ◎ ◎ ◎ ◎ ◎ ◎ ◎ ◎ ◎ ◎ ◎ ◎ ◎\n",
      "◎ ◎ ◎ ◎ ◎ ◎ ◎ ◎ ◎ ◎ ◎ ◎ ◎ ◎ ◎ ◎ ◎\n",
      "◎ ◎ ◎ ◎ ◎ ◎ ◎ ◎ ◎ ◎ ◎ ◎ ◎ ◎ ◎ ◎ ◎ ◎ ◎\n"
     ]
    }
   ],
   "source": [
    "Odd = Generate.OddAtoms(10)\n",
    "for d in Odd: print(d)"
   ]
  },
  {
   "cell_type": "code",
   "execution_count": 5,
   "id": "84663ccc-b622-4ac5-80eb-ed90c4ae448d",
   "metadata": {
    "tags": []
   },
   "outputs": [
    {
     "name": "stdout",
     "output_type": "stream",
     "text": [
      "\n",
      "◎ ◎\n",
      "◎ ◎ ◎ ◎\n",
      "◎ ◎ ◎ ◎ ◎ ◎\n",
      "◎ ◎ ◎ ◎ ◎ ◎ ◎ ◎\n",
      "◎ ◎ ◎ ◎ ◎ ◎ ◎ ◎ ◎ ◎\n",
      "◎ ◎ ◎ ◎ ◎ ◎ ◎ ◎ ◎ ◎ ◎ ◎\n",
      "◎ ◎ ◎ ◎ ◎ ◎ ◎ ◎ ◎ ◎ ◎ ◎ ◎ ◎\n",
      "◎ ◎ ◎ ◎ ◎ ◎ ◎ ◎ ◎ ◎ ◎ ◎ ◎ ◎ ◎ ◎\n",
      "◎ ◎ ◎ ◎ ◎ ◎ ◎ ◎ ◎ ◎ ◎ ◎ ◎ ◎ ◎ ◎ ◎ ◎\n"
     ]
    }
   ],
   "source": [
    "Even = Generate.EvenAtoms(10)\n",
    "for d in Even: print(d)"
   ]
  },
  {
   "cell_type": "code",
   "execution_count": 6,
   "id": "30c1b10a-b70d-4531-a6e0-8517bf95141b",
   "metadata": {
    "tags": []
   },
   "outputs": [
    {
     "name": "stdout",
     "output_type": "stream",
     "text": [
      "◎\n",
      "𝟬\n",
      "𝝞\n",
      "pass\n",
      "null\n",
      "bin\n",
      "domain\n",
      "if\n",
      "put\n",
      "has1\n",
      "get1\n",
      "*\n",
      "rev\n",
      "first\n",
      "tail\n",
      "last\n",
      "rep\n",
      "nth1\n",
      "pre\n",
      "post\n",
      "bool\n",
      "not\n",
      "=\n",
      "or\n",
      "and\n",
      "nor\n",
      "xor\n",
      "nand\n",
      "xnor\n",
      "iff\n",
      "imply\n",
      "ap\n",
      "app\n",
      "ap2\n",
      "aps\n",
      "apby\n",
      "apif\n",
      "wrap\n",
      "startswith\n",
      "endswith\n",
      "join\n",
      "split\n",
      "equiv\n",
      "collect\n",
      "counts\n",
      "0\n",
      "1\n",
      "2\n",
      "3\n",
      "a\n",
      "b\n",
      "A\n",
      "B\n",
      "{$}\n"
     ]
    }
   ],
   "source": [
    "#\n",
    "#    SpaceGen let's you generate data using higher level definitions \n",
    "#\n",
    "#    The \"{$}\" coda gets replaced with {...some data...}. \n",
    "#\n",
    "for c in Generate.codas: print(c)"
   ]
  },
  {
   "cell_type": "code",
   "execution_count": 7,
   "id": "5704bf35-0c54-4c39-9826-ca0d5adf9238",
   "metadata": {},
   "outputs": [],
   "source": [
    "G = Generate.Gen(Generate.codas,3).set()"
   ]
  },
  {
   "cell_type": "code",
   "execution_count": 8,
   "id": "b41fbb06-0b69-445a-a1c4-7b8e69bd7ad3",
   "metadata": {},
   "outputs": [
    {
     "data": {
      "text/plain": [
       "14098"
      ]
     },
     "execution_count": 8,
     "metadata": {},
     "output_type": "execute_result"
    }
   ],
   "source": [
    "G"
   ]
  },
  {
   "cell_type": "code",
   "execution_count": 10,
   "id": "fd9a1d9a-2da1-4b48-bf33-512886ce7622",
   "metadata": {},
   "outputs": [
    {
     "name": "stdout",
     "output_type": "stream",
     "text": [
      "{pre B} not\n",
      "not wrap\n",
      "{startswith B} ap\n",
      "wrap {tail B}\n",
      "{B 𝝞𝝞𝝞𝟬𝝞𝟬𝝞𝝞𝝞𝟬𝝞𝟬𝝞𝝞𝝞𝝞𝟬} ap2\n",
      "{B xnor} iff\n",
      "{join B} has1\n",
      "nand {join B}\n",
      "2 put\n",
      "{equiv B} A\n",
      "post {collect B}\n",
      "aps {B has1}\n",
      "iff {B xnor}\n",
      "post {has1 B}\n",
      "* endswith\n",
      "{3 B} pass\n",
      "put ap2\n",
      "first put\n",
      "xnor {first B}\n",
      "{null B} aps\n"
     ]
    }
   ],
   "source": [
    "for i in range(20): print(G[i])"
   ]
  },
  {
   "cell_type": "code",
   "execution_count": null,
   "id": "f52fa73f-41ed-4a49-9880-137af681370a",
   "metadata": {},
   "outputs": [],
   "source": []
  }
 ],
 "metadata": {
  "kernelspec": {
   "display_name": "Python 3 (ipykernel)",
   "language": "python",
   "name": "python3"
  },
  "language_info": {
   "codemirror_mode": {
    "name": "ipython",
    "version": 3
   },
   "file_extension": ".py",
   "mimetype": "text/x-python",
   "name": "python",
   "nbconvert_exporter": "python",
   "pygments_lexer": "ipython3",
   "version": "3.10.7"
  }
 },
 "nbformat": 4,
 "nbformat_minor": 5
}
