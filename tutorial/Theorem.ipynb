{
 "cells": [
  {
   "cell_type": "markdown",
   "id": "e9f67ed1-dabc-4225-9735-8dfe6293a1e5",
   "metadata": {},
   "source": [
    "## Theorem \n",
    "\n",
    "Data which is never false is called a **theorem**.  "
   ]
  },
  {
   "cell_type": "code",
   "execution_count": null,
   "id": "c177a7ad-1107-41fe-b2aa-c8a4af03950d",
   "metadata": {},
   "outputs": [],
   "source": []
  }
 ],
 "metadata": {
  "kernelspec": {
   "display_name": "coda",
   "language": "",
   "name": "coda"
  },
  "language_info": {
   "file_extension": ".co",
   "mimetype": "text/plain",
   "name": "Any text"
  }
 },
 "nbformat": 4,
 "nbformat_minor": 5
}
