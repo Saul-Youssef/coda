{
 "cells": [
  {
   "cell_type": "code",
   "execution_count": 1,
   "id": "38354a3c-99e9-4692-b865-64ffce4cdc45",
   "metadata": {},
   "outputs": [
    {
     "name": "stdout",
     "output_type": "stream",
     "text": [
      "(defaultTime:1000)"
     ]
    }
   ],
   "source": [
    "defaultTime:1000"
   ]
  },
  {
   "cell_type": "code",
   "execution_count": 2,
   "id": "02de4db5-6c83-4642-b2e7-29dc2720187e",
   "metadata": {},
   "outputs": [
    {
     "name": "stdout",
     "output_type": "stream",
     "text": []
    }
   ],
   "source": [
    "import : dir co : up : up : up : ."
   ]
  },
  {
   "cell_type": "code",
   "execution_count": 6,
   "id": "ddeead8f-bde9-4c87-8829-6b72041e7f84",
   "metadata": {},
   "outputs": [
    {
     "name": "stdout",
     "output_type": "stream",
     "text": [
      " (with constant:◎) \n",
      " (with nilpotent_left:◎) \n",
      " (with nilpotent_right:◎) \n",
      " (with idempotent:◎) \n",
      " (with involution:◎) \n",
      " (with semilattice:◎) \n",
      " (with algebraic_L1:) \n",
      " (with algebraic_R1:) \n"
     ]
    }
   ],
   "source": [
    "tab : dom 1000 : spectrum1 S6? : count"
   ]
  },
  {
   "cell_type": "code",
   "execution_count": 7,
   "id": "0d9101cb-763f-439d-8027-c9fc620b6b3b",
   "metadata": {},
   "outputs": [
    {
     "name": "stdout",
     "output_type": "stream",
     "text": [
      " (with simple:) \n",
      " (with symmetric:◎) \n",
      " (with idempotent2:) \n",
      " (with distributive:◎) \n",
      " (with distributive2:◎) \n",
      " (with commutative:) \n",
      " (with algebraic_L2:) \n",
      " (with algebraic_R2:) \n"
     ]
    }
   ],
   "source": [
    "tab : dom 1000 : spectrum2 S6? : count "
   ]
  },
  {
   "cell_type": "code",
   "execution_count": 8,
   "id": "8a224a2a-268d-47f1-84be-1b63cb141bf3",
   "metadata": {
    "tags": []
   },
   "outputs": [
    {
     "name": "stdout",
     "output_type": "stream",
     "text": [
      " (with ring_left:◎) \n",
      " (with ring_right:◎) \n",
      " (with space_a:◎) \n",
      " (with space_b:◎) \n",
      " (with commutative2:) \n",
      " (with algebraic_L3:) \n",
      " (with algebraic_R3:) \n"
     ]
    }
   ],
   "source": [
    "tab : dom 1000 : spectrum3 S6? : count"
   ]
  },
  {
   "cell_type": "code",
   "execution_count": 10,
   "id": "a7e8d4eb-0740-4abf-93d2-ed32cec58be1",
   "metadata": {
    "tags": []
   },
   "outputs": [
    {
     "name": "stdout",
     "output_type": "stream",
     "text": [
      " (with simple:) \n",
      " (with symmetric:◎) \n",
      " (with idempotent2:) \n",
      " (with distributive:) \n",
      " (with distributive2:) \n",
      " (with commutative:) \n",
      " (with algebraic_L2:) \n",
      " (with algebraic_R2:) \n"
     ]
    }
   ],
   "source": [
    "tab : dom 1000 : spectrum2 S6? : stick "
   ]
  },
  {
   "cell_type": "code",
   "execution_count": 11,
   "id": "8d3ce928-58b6-42d4-b193-3756e898fd49",
   "metadata": {},
   "outputs": [
    {
     "name": "stdout",
     "output_type": "stream",
     "text": [
      " (with simple:◎) \n",
      " (with symmetric:) \n",
      " (with idempotent2:) \n",
      " (with distributive:) \n",
      " (with distributive2:) \n",
      " (with commutative:) \n",
      " (with algebraic_L2:) \n",
      " (with algebraic_R2:) \n"
     ]
    }
   ],
   "source": [
    "tab : dom 1000 : spectrum2 S6? : ring "
   ]
  },
  {
   "cell_type": "code",
   "execution_count": 12,
   "id": "ff6354aa-665a-4080-9275-c5a2ca01bd23",
   "metadata": {},
   "outputs": [
    {
     "name": "stdout",
     "output_type": "stream",
     "text": [
      " (with constant:) \n",
      " (with nilpotent_left:) \n",
      " (with nilpotent_right:) \n",
      " (with idempotent:) \n",
      " (with involution:◎) \n",
      " (with semilattice:) \n",
      " (with algebraic_L1:) \n",
      " (with algebraic_R1:) \n"
     ]
    }
   ],
   "source": [
    "tab : dom 1000 : spectrum1 S6? : ring"
   ]
  },
  {
   "cell_type": "code",
   "execution_count": 13,
   "id": "4b50d4e7-c609-451b-8d12-c2d4382ce03f",
   "metadata": {},
   "outputs": [
    {
     "name": "stdout",
     "output_type": "stream",
     "text": []
    }
   ],
   "source": [
    "Def inv : {(if (arg:B):(right:B)) (nif (arg:B):(:B))} "
   ]
  },
  {
   "cell_type": "code",
   "execution_count": 18,
   "id": "0cd36c55-a34e-4e7e-ab13-6bd5cbeca613",
   "metadata": {},
   "outputs": [
    {
     "name": "stdout",
     "output_type": "stream",
     "text": [
      "𝟬 𝝞 𝝞 𝝞 𝝞 𝟬 𝟬 𝟬 𝟬 𝝞 𝝞 𝝞 𝝞 𝟬 𝟬 𝟬 𝟬 𝝞 𝝞 𝝞 𝝞 𝟬 𝟬 𝟬"
     ]
    }
   ],
   "source": []
  },
  {
   "cell_type": "code",
   "execution_count": null,
   "id": "2bdfcafb-8a79-46c5-b374-11fa9a688afc",
   "metadata": {},
   "outputs": [],
   "source": []
  }
 ],
 "metadata": {
  "kernelspec": {
   "display_name": "coda",
   "language": "",
   "name": "coda"
  },
  "language_info": {
   "file_extension": ".co",
   "mimetype": "text/plain",
   "name": "Any text"
  }
 },
 "nbformat": 4,
 "nbformat_minor": 5
}
