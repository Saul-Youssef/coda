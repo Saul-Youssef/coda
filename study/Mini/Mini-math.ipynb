{
 "cells": [
  {
   "cell_type": "markdown",
   "id": "9bc3a107-3180-4bbf-b79c-ea966b64f43f",
   "metadata": {
    "tags": []
   },
   "source": [
    "#### Mini-math\n",
    "\n",
    "Mini-math is a subproject where we try to create and investigate entire mathematical universes.  These are defined as follows.\n",
    "\n",
    "- **data** is a finite sequence of **data**.\n",
    "- A **definition** is a partial function from data to data.\n",
    "- A **context** is a finite sequence of definitions with disjoint domains. \n",
    "\n",
    "Note that, by a), the empty sequence () is data.  Therefore, ((),(),(())) is also data, by the definition, and you can see that data in general are trees of sequences terminating with empty sequences.  As with the main project, such data are true, false, functions, types, categories, theorems, depending on their properties.  As in the main project, if A and B are data, A B denotes concatenation as sequences and A : B denotes the pair consisting of A first and then B following. \n",
    "\n",
    "A context d_1, d_2,..., d_n induces a sequence-respecting equivalence relation (=) defined with the relations \n",
    "\n",
    "A B = d_i(A) B = A d_i(B)\n",
    "\n",
    "for all data A and B and for i in 1,2,...n.\n",
    "\n",
    "A context is **proper** if it contains the singleton definition ((),()) mapping the empty sequence to itself. Non-empty data A which similarly has a definition (A,A) is called an **atomic** and is called an **atom** if |A|=1. \n"
   ]
  },
  {
   "cell_type": "code",
   "execution_count": 2,
   "id": "5a4789da-5deb-4e14-94a3-6c3d3495fc84",
   "metadata": {
    "tags": []
   },
   "outputs": [
    {
     "name": "stdout",
     "output_type": "stream",
     "text": [
      "0 0 ()\n",
      "1 1 (())\n",
      "2 1 (()())\n",
      "1 2 ((()))\n",
      "1 2 ((()()))\n",
      "2 2 ((())(()))\n",
      "2 2 ((())(()()))\n",
      "2 2 ((()())(()))\n",
      "2 2 ((()())(()()))\n"
     ]
    }
   ],
   "source": [
    "#\n",
    "#  Here we display the universe of data with width at most 3 and depth at most 2\n",
    "#\n",
    "#  Universe sizes grow extremely rapidly. A 3,3 universe is about the most that is manageable. \n",
    "#\n",
    "from mini import *\n",
    "\n",
    "for D in universe(2,2): print(len(D),D.depth(),D)"
   ]
  },
  {
   "cell_type": "markdown",
   "id": "500f5207-fd17-480d-a9fa-6f985eb8453e",
   "metadata": {},
   "source": [
    "We want to find some universes where we can completely compute the resulting idempotents, distributive data, types, categories, theorems, etc. Since the number of data in these universes grows very rapidly, there are only a few possibilities.\n",
    "\n",
    "## Universe Sizes for given widths and depths \n",
    "\n",
    "| Depth     | 1  |  2  |  3    |  4  |      5  |\n",
    "|----------:|---:|----:|------:|----:|--------:|\n",
    "| Width 1:   | 2  |  3  |  4    |  5  |      6  |\n",
    "| Width 2:   | 3  |  9  | 51    | 1857| 3265299 | \n",
    "| Width 3:   | 4  | 43  | 60922 | \n",
    "| Width 4:   | 5  | 345 | \n",
    "\n",
    "The 3,2 universe refers to Universe(3,2) with some set of defintions, etc. "
   ]
  },
  {
   "cell_type": "code",
   "execution_count": 3,
   "id": "33d42f51-cd02-4cb7-a865-c1732041cf85",
   "metadata": {
    "tags": []
   },
   "outputs": [],
   "source": [
    "width,depth = 3,3  #-- change these to repeat the analysis below\n",
    "U = Universe(width,depth)"
   ]
  },
  {
   "cell_type": "code",
   "execution_count": 5,
   "id": "c28ce1ad-336d-4a4d-af24-f81c0501f84f",
   "metadata": {},
   "outputs": [
    {
     "name": "stdout",
     "output_type": "stream",
     "text": [
      "depths: {3: 60879, 2: 39, 0: 1, 1: 3}\n",
      "widths: {3: 59347, 2: 1531, 1: 43, 0: 1}\n",
      "width/depth/size: 3/3/60922\n",
      "definitions/classes/atoms: 1/60922/0\n",
      "empty/atomic/undecided: 1/0/60921\n"
     ]
    }
   ],
   "source": [
    "depths = {}\n",
    "widths = {}\n",
    "for A in U: \n",
    "    depth = A.depth(); width = len(A)\n",
    "    if not depth in depths: depths[depth] = 0\n",
    "    if not width in widths: widths[width] = 0 \n",
    "    depths[depth] += 1 \n",
    "    widths[width] += 1\n",
    "print('depths:',depths)\n",
    "print('widths:',widths)\n",
    "U.display()"
   ]
  },
  {
   "cell_type": "code",
   "execution_count": 4,
   "id": "a8e15325-8f39-46d3-92c9-e5bcf1b83c01",
   "metadata": {},
   "outputs": [
    {
     "name": "stdout",
     "output_type": "stream",
     "text": [
      "width/depth/size: 4/2/345\n",
      "definitions/classes/atoms: 5/345/4\n",
      "empty/atomic/undecided: 1/340/4\n"
     ]
    }
   ],
   "source": [
    "#\n",
    "#   Let's make all the data less than depth 2 atoms as a try \n",
    "#\n",
    "for A in U:\n",
    "    if A.depth()<2: U.define(A,A)\n",
    "U.display()"
   ]
  },
  {
   "cell_type": "code",
   "execution_count": 5,
   "id": "5d7d4cd2-bd33-44a9-ae0b-1df4c9475d2b",
   "metadata": {},
   "outputs": [
    {
     "name": "stdout",
     "output_type": "stream",
     "text": [
      "((()())(()()()()))\n",
      "((()()())(())(()()())(()()()()))\n"
     ]
    }
   ],
   "source": [
    "#   \n",
    "#   Now, we'll chose N random data pairs (A,B) and define A->B for each.  If we randomly choose A to be an atom, \n",
    "#   this will not add a definition since the define method of Universe will ignore it. \n",
    "#\n",
    "import random\n",
    "DATA = [A for A in U]\n",
    "\n",
    "A = random.choice(DATA)\n",
    "B = random.choice(DATA)\n",
    "print(A); print(B)"
   ]
  },
  {
   "cell_type": "code",
   "execution_count": null,
   "id": "6d82e1e4-7552-42e5-9526-0c22953e66a4",
   "metadata": {},
   "outputs": [],
   "source": [
    "U = Universe(width,depth)\n",
    "for A in DATA:\n",
    "    if A.depth()<2: U.define(A,A)\n",
    "N = 500\n",
    "for i in range(N):\n",
    "    A = random.choice(DATA)\n",
    "    B = random.choice(DATA)\n",
    "    U.define(A,B)\n",
    "U.display()"
   ]
  },
  {
   "cell_type": "code",
   "execution_count": 7,
   "id": "4bec30ff-3949-44ad-98b5-4e7b11b0768c",
   "metadata": {},
   "outputs": [
    {
     "name": "stdout",
     "output_type": "stream",
     "text": [
      "1  true: ()\n",
      "1 false: ((()())(()()()())(()())(()()()()))\n",
      "2 false: ((()()())(()()())(()()())(()))\n",
      "3 false: ((()()())(()()()())(()()()())(()()()()))\n",
      "4 false: ((())(()())(()()())(()()()))\n",
      "5 false: ((()()())(()()())(())(()()()))\n"
     ]
    }
   ],
   "source": [
    "n = 0\n",
    "for A in DATA:\n",
    "    if U.equal(A,data()): \n",
    "        n += 1\n",
    "        print(n,' true:',A)\n",
    "        if n>4: break \n",
    "n = 0\n",
    "for A in DATA:\n",
    "    if U.atomic(A): \n",
    "        n += 1\n",
    "        print(n,'false:',A)\n",
    "        if n>4: break "
   ]
  },
  {
   "cell_type": "code",
   "execution_count": 8,
   "id": "3430f169-a6ee-4538-9b1d-ebcced170b7c",
   "metadata": {},
   "outputs": [],
   "source": [
    "def idempotence(A,B,U):\n",
    "    p1 = A.colon(B)\n",
    "    p2 = A.colon(p1)\n",
    "    return p1 in U,p2 in U,U.equal(p1,p2)"
   ]
  },
  {
   "cell_type": "code",
   "execution_count": 9,
   "id": "7346810f-df83-4863-bbcd-8d2d24df7449",
   "metadata": {
    "tags": []
   },
   "outputs": [
    {
     "name": "stdout",
     "output_type": "stream",
     "text": [
      "100000 ...\n",
      "119025\n"
     ]
    }
   ],
   "source": [
    "n = 0\n",
    "for A in DATA: \n",
    "    for B in DATA: \n",
    "        n += 1 \n",
    "        if (n//100000)*100000==n: print(n,'...')\n",
    "        p1 = A.colon(B)\n",
    "        p2 = A.colon(p1)\n",
    "        if p1 in U and p2 in U: print(len(p1),p1.depth(),p1)\n",
    "print(n)"
   ]
  },
  {
   "cell_type": "code",
   "execution_count": null,
   "id": "c1f75468-b9df-4ddb-b470-d079eb5b6558",
   "metadata": {},
   "outputs": [],
   "source": []
  },
  {
   "cell_type": "code",
   "execution_count": null,
   "id": "67ace50d-4295-4ec5-aa3c-9751efe245c8",
   "metadata": {},
   "outputs": [],
   "source": []
  }
 ],
 "metadata": {
  "kernelspec": {
   "display_name": "Python 3 (ipykernel)",
   "language": "python",
   "name": "python3"
  },
  "language_info": {
   "codemirror_mode": {
    "name": "ipython",
    "version": 3
   },
   "file_extension": ".py",
   "mimetype": "text/x-python",
   "name": "python",
   "nbconvert_exporter": "python",
   "pygments_lexer": "ipython3",
   "version": "3.10.7"
  }
 },
 "nbformat": 4,
 "nbformat_minor": 5
}
