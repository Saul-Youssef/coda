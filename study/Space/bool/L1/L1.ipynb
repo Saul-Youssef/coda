{
 "cells": [
  {
   "cell_type": "markdown",
   "id": "5a361ba2-f187-4fd9-96ef-24b79e0c9513",
   "metadata": {},
   "source": [
    "### Boolean space L1 \n",
    "\n",
    "As in the case with \"sticks\", we can use the Seq functor to create the distributive space of sequences of boolean values stored in, say, b-atoms.\n",
    "\n",
    "* L = Seq b : bool \n",
    "\n",
    "where typical data is a sequence like (b:) (b:(:)) (b:). Since front A commutes with any distributive space, \n",
    "\n",
    "* L1 = front | \\* L\n",
    "\n",
    "is the space of <=1 boolean values.  "
   ]
  },
  {
   "cell_type": "code",
   "execution_count": 1,
   "id": "cc5994a0-2269-4348-8694-ecdc9af5a370",
   "metadata": {},
   "outputs": [
    {
     "name": "stdout",
     "output_type": "stream",
     "text": [
      "(defaultTime:1200)"
     ]
    }
   ],
   "source": [
    "defaultTime:1200"
   ]
  },
  {
   "cell_type": "code",
   "execution_count": 2,
   "id": "3da3e5e7-7452-4bfe-8706-606c931ccc04",
   "metadata": {},
   "outputs": [
    {
     "name": "stdout",
     "output_type": "stream",
     "text": []
    }
   ],
   "source": [
    "import : dir co : up : up : ."
   ]
  },
  {
   "cell_type": "code",
   "execution_count": 3,
   "id": "598a9b02-a640-447d-92ef-97395c6b6ddd",
   "metadata": {},
   "outputs": [
    {
     "name": "stdout",
     "output_type": "stream",
     "text": []
    }
   ],
   "source": [
    "#\n",
    "#  b is an atom to hold single boolean values \n",
    "#  L is the space of sequences of boolean values \n",
    "#  L is the space of sequences of boolean values with length <=1\n",
    "#  (E:X) is an endomorphism of L \n",
    "#  (e:X) is the special case of an \"inner\" endomorphism of L \n",
    "#\n",
    "Def b:\n",
    "Def L : (front |) * (Seq b : bool) \n",
    "Def E : {end L:B}\n",
    "Def e : {E:in b:B}"
   ]
  },
  {
   "cell_type": "code",
   "execution_count": 4,
   "id": "22ddb96b-13ff-4b66-b5ff-240888f10ebb",
   "metadata": {},
   "outputs": [
    {
     "name": "stdout",
     "output_type": "stream",
     "text": []
    }
   ],
   "source": [
    "#\n",
    "#   L is the space of <=1 boolean values \n",
    "#\n",
    "Let Domain : aq permutation 0 1 : (b:) (b:(:)) "
   ]
  },
  {
   "cell_type": "code",
   "execution_count": 5,
   "id": "856995ec-0798-4338-8a7d-3cb38f5f7559",
   "metadata": {},
   "outputs": [
    {
     "name": "stdout",
     "output_type": "stream",
     "text": []
    }
   ],
   "source": [
    "Def spectrum : ap {put:A:get:B} \n",
    "Def ispectrum : ap {A:get:B} \n",
    "Def false : const (:) \n",
    "Def true  : const "
   ]
  },
  {
   "cell_type": "code",
   "execution_count": 6,
   "id": "97ecc4a8-402e-4dcb-83c9-12a6702bad83",
   "metadata": {},
   "outputs": [
    {
     "name": "stdout",
     "output_type": "stream",
     "text": [
      "(b:) (b:) (b:)\n",
      "(b:◎) (b:◎) (b:)\n",
      "(b:) (b:) (b:◎)\n",
      "(b:◎) (b:◎) (b:◎)"
     ]
    }
   ],
   "source": [
    "ispectrum (e:true) : Domain?\n",
    "ispectrum (e:not)  : Domain?\n",
    "ispectrum (e:pass) : Domain?\n",
    "ispectrum (e:false) : Domain?"
   ]
  },
  {
   "cell_type": "code",
   "execution_count": 7,
   "id": "b921b8ae-5904-4973-a1cb-6fe610a648c8",
   "metadata": {},
   "outputs": [
    {
     "name": "stdout",
     "output_type": "stream",
     "text": []
    }
   ],
   "source": [
    "Def F : {(if (B):(get:nth 1:A)) (if (B=(b:)):(get:nth 2:A)) (if (B=(b:(:))):(get:nth 3:A))}"
   ]
  },
  {
   "cell_type": "code",
   "execution_count": 8,
   "id": "6c530773-0542-4615-aed4-e82c5ff1b223",
   "metadata": {},
   "outputs": [
    {
     "name": "stdout",
     "output_type": "stream",
     "text": [
      "(b:)\n",
      "(b:◎)\n",
      "◎ (:(b:)) (:(b:◎))"
     ]
    }
   ],
   "source": [
    "F (:) (:(b:)) (:(b:(:))) : ()\n",
    "F (:) (:(b:)) (:(b:(:))) : (b:)\n",
    "F (:) (:(b:)) (:(b:(:))) : (b:(:))\n",
    "spectrum F (:) (:(b:)) (:(b:(:))) : Domain?"
   ]
  },
  {
   "cell_type": "code",
   "execution_count": 9,
   "id": "0af96d42-af8e-427e-ac68-a21761c36174",
   "metadata": {},
   "outputs": [
    {
     "name": "stdout",
     "output_type": "stream",
     "text": []
    }
   ],
   "source": [
    "Let Endomorphism : ap {:F (get:B)} : permutation 3 : Domain?"
   ]
  },
  {
   "cell_type": "code",
   "execution_count": 10,
   "id": "7ba42f59-1058-4823-97f8-24fa069d42a6",
   "metadata": {
    "tags": []
   },
   "outputs": [
    {
     "name": "stdout",
     "output_type": "stream",
     "text": []
    }
   ],
   "source": [
    "# tab : dom 100 : ap {with (get:B) : bool : semilattice (E:get:B) : Domain?} : Endomorphism?"
   ]
  },
  {
   "cell_type": "code",
   "execution_count": 11,
   "id": "db14e91c-00c0-4bb7-9f98-a56cc4e49133",
   "metadata": {},
   "outputs": [
    {
     "name": "stdout",
     "output_type": "stream",
     "text": []
    }
   ],
   "source": [
    "#write involution 1000 : ap {if (right:B):(:arg:B)} : dom 600 : ap {with (get:B) : bool : involution (E:get:B) : Domain?} : Endomorphism?"
   ]
  },
  {
   "cell_type": "code",
   "execution_count": 12,
   "id": "b16d19c2-730c-4aa4-9af4-519b2331b83b",
   "metadata": {},
   "outputs": [
    {
     "name": "stdout",
     "output_type": "stream",
     "text": []
    }
   ],
   "source": [
    "#write idempotent 1000 : ap {if (right:B):(:arg:B)} : dom 600 : ap {with (get:B) : bool : idempotent (E:get:B) : Domain?} : Endomorphism?"
   ]
  },
  {
   "cell_type": "code",
   "execution_count": 13,
   "id": "6f25a495-c168-461e-ad7f-12567671d8a4",
   "metadata": {},
   "outputs": [
    {
     "name": "stdout",
     "output_type": "stream",
     "text": []
    }
   ],
   "source": [
    "#write space 1000 : ap {if (right:B):(:arg:B)} : dom 300 : ap {with (get:B) : bool : ap preSpace (E:get:B) : permutation 2 : Domain?} : Endomorphism?"
   ]
  },
  {
   "cell_type": "code",
   "execution_count": 14,
   "id": "baaeb22f-f7cb-4a1c-8343-97e974cb96e0",
   "metadata": {},
   "outputs": [
    {
     "name": "stdout",
     "output_type": "stream",
     "text": []
    }
   ],
   "source": [
    "Let TRUE  : F (:(b:)) (:(b:)) (:(b:)) \n",
    "Let FALSE : F (:(b:(:))) (:(b:(:))) (:(b:(:))) \n",
    "Let FFT   : F (:(b:(:))) (:(b:(:))) (:(b:)) \n",
    "Let TTF   : F (:(b:)) (:(b:)) (:(b:(:)))  \n",
    "Let IDENTITY : F (:) (:(b:)) (:(b:(:))) \n",
    "write inner 100 : (:TRUE?) (:FALSE?) (:FFT?) (:TTF?) \n",
    "write constant 100 : (:F (:) (:) (:)) (:TRUE?) (:FALSE?)"
   ]
  },
  {
   "cell_type": "code",
   "execution_count": 15,
   "id": "f0406bcd-b0c5-47fc-a31f-7ea96a928762",
   "metadata": {},
   "outputs": [
    {
     "name": "stdout",
     "output_type": "stream",
     "text": []
    }
   ],
   "source": [
    "Def str : {join : ap map (bin (:):0) (bin (:(b:)):T) (bin (:(b:(:))):F) : B} \n",
    "Def st : ap {str:get:B} "
   ]
  },
  {
   "cell_type": "code",
   "execution_count": 16,
   "id": "1cbedc92-6de7-46b5-9acc-6b3ac7015a35",
   "metadata": {
    "tags": []
   },
   "outputs": [
    {
     "name": "stdout",
     "output_type": "stream",
     "text": [
      " TTT \n",
      " FFF \n",
      " FFT \n",
      " TTF \n"
     ]
    }
   ],
   "source": [
    "tab : st : read : inner"
   ]
  },
  {
   "cell_type": "code",
   "execution_count": 17,
   "id": "ad622b86-c260-4e28-a389-655b2496d73b",
   "metadata": {
    "tags": []
   },
   "outputs": [
    {
     "name": "stdout",
     "output_type": "stream",
     "text": [
      " 0TF \n",
      " 0FT \n",
      " T0F \n",
      " FT0 \n"
     ]
    }
   ],
   "source": [
    "tab : st : read : involution"
   ]
  },
  {
   "cell_type": "code",
   "execution_count": 18,
   "id": "a05e191a-1f3f-482f-88b5-9ea5dbcb3f71",
   "metadata": {
    "tags": []
   },
   "outputs": [
    {
     "name": "stdout",
     "output_type": "stream",
     "text": [
      " TTT \n",
      " FFF \n",
      " FFT \n",
      " TTF \n"
     ]
    }
   ],
   "source": [
    "tab : st : read : inner"
   ]
  },
  {
   "cell_type": "code",
   "execution_count": 19,
   "id": "b0cc1bb8-6e3a-4829-a6f4-79c88c5e4976",
   "metadata": {
    "tags": []
   },
   "outputs": [
    {
     "name": "stdout",
     "output_type": "stream",
     "text": [
      " 0TF \n",
      " 0FT \n",
      " T0F \n",
      " TF0 \n",
      " F0T \n",
      " FT0 \n"
     ]
    }
   ],
   "source": [
    "tab : st : read : unit "
   ]
  },
  {
   "cell_type": "code",
   "execution_count": 20,
   "id": "7016cef7-498f-4235-9916-2e50ba3fbc24",
   "metadata": {},
   "outputs": [
    {
     "name": "stdout",
     "output_type": "stream",
     "text": []
    }
   ],
   "source": [
    "Let Inner : read : inner\n",
    "Let Involution : read : involution \n",
    "Let Idempotent : read : idempotent \n",
    "Let Space : read : space \n",
    "Let Constant : read : constant \n",
    "Let Identity : put : IDENTITY?\n",
    "Let Unit : read : unit \n",
    "Let Vanilla : isnt Inner? Involution? Idempotent? Space? Constant? Unit? : Endomorphism?"
   ]
  },
  {
   "cell_type": "code",
   "execution_count": 21,
   "id": "d838c729-87cf-4b7c-a2c8-20c4af8934aa",
   "metadata": {},
   "outputs": [
    {
     "name": "stdout",
     "output_type": "stream",
     "text": [
      "1\n",
      "6\n",
      "4\n",
      "4\n",
      "10\n",
      "6\n",
      "3\n",
      "11\n",
      "27"
     ]
    }
   ],
   "source": [
    "count : Identity?\n",
    "count : Unit?\n",
    "count : Inner? \n",
    "count : Involution? \n",
    "count : Idempotent? \n",
    "count : Space?\n",
    "count : Constant? \n",
    "count : Vanilla?\n",
    "count : Endomorphism?"
   ]
  },
  {
   "cell_type": "code",
   "execution_count": 22,
   "id": "7a6a2d69-0f84-496e-9433-b1a635dd3797",
   "metadata": {},
   "outputs": [
    {
     "name": "stdout",
     "output_type": "stream",
     "text": [
      "0TF\n",
      "000 TTT FFF\n",
      "0TF 0FT T0F TF0 F0T FT0\n",
      "0TF 0FT T0F FT0\n",
      "TTT FFF FFT TTF\n",
      "000 00F 0T0 0TT 0TF 0FF TTT TTF FTF FFF\n",
      "000 0TT 0TF 0FF TTT FFF\n",
      "00T 0F0 T00 T0T TT0 TFT TFF F00 F0F FTT FF0"
     ]
    }
   ],
   "source": [
    "st : Identity? \n",
    "st : Constant?\n",
    "st : Unit?\n",
    "st : Involution?\n",
    "st : Inner?\n",
    "st : Idempotent?\n",
    "st : Space?\n",
    "st : Vanilla?"
   ]
  },
  {
   "cell_type": "code",
   "execution_count": 23,
   "id": "7e3b9428-6de2-4b31-8203-9b61d7865757",
   "metadata": {},
   "outputs": [
    {
     "name": "stdout",
     "output_type": "stream",
     "text": []
    }
   ],
   "source": [
    "Def internal : {ap {with (st:get:B) : (bool : commutator (get:B) : Domain?)} : combination 2 : B} \n",
    "Def compare  : {ap {with (st:get:B) : (bool : commutator (get:B) : Domain?)} : pair A : B } "
   ]
  },
  {
   "cell_type": "code",
   "execution_count": 24,
   "id": "5e6aa20d-1fa0-4c38-8bc4-1b169eb722c6",
   "metadata": {},
   "outputs": [
    {
     "name": "stdout",
     "output_type": "stream",
     "text": []
    }
   ],
   "source": [
    "Def inverse : ap {((get:first:A):(get:last:A):(get:B))=(get:B)} "
   ]
  },
  {
   "cell_type": "code",
   "execution_count": null,
   "id": "7578e9e2-f70e-45ee-bb17-9547613e99fe",
   "metadata": {},
   "outputs": [],
   "source": []
  },
  {
   "cell_type": "code",
   "execution_count": 36,
   "id": "be35bb9d-ad5c-4045-a989-0239e9c8766a",
   "metadata": {},
   "outputs": [
    {
     "name": "stdout",
     "output_type": "stream",
     "text": []
    }
   ],
   "source": [
    "Def statistic : {(count:apif {right:B}:B) (count:apif {not:right:B}:B) (count:B)} "
   ]
  },
  {
   "cell_type": "code",
   "execution_count": null,
   "id": "7883af96-d496-413a-b31c-5df99c357d4f",
   "metadata": {},
   "outputs": [],
   "source": []
  },
  {
   "cell_type": "markdown",
   "id": "48bab4b1-214e-433f-a0d4-bed1853e4184",
   "metadata": {},
   "source": [
    "We have identified collections from Endomorphism of L1 \n",
    "\n",
    "* All Endomorphism 27 \n",
    "* Constants 3 \n",
    "* Involutions 4\n",
    "* Inner Endomorphism 4 \n",
    "* Idempotents 10 \n",
    "* Space Endomorphism 6 \n",
    "\n",
    "Does every endomorphism commute with a space? "
   ]
  }
 ],
 "metadata": {
  "kernelspec": {
   "display_name": "coda",
   "language": "",
   "name": "coda"
  },
  "language_info": {
   "file_extension": ".co",
   "mimetype": "text/plain",
   "name": "Any text"
  }
 },
 "nbformat": 4,
 "nbformat_minor": 5
}
