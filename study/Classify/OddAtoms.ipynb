{
 "cells": [
  {
   "cell_type": "markdown",
   "id": "96191986-5c73-4095-8afb-a26894763481",
   "metadata": {},
   "source": [
    "## A first try at classifying\n",
    "\n",
    "Classifying is meant to be a relatively simple case of machine learning for coda.  We'll start by trying to find classifying data C such that C:odd and C:even have different logic if odd is data with an odd number of atoms and even is data with an even number of atoms. "
   ]
  },
  {
   "cell_type": "code",
   "execution_count": 7,
   "id": "cdc8cfad-785b-4018-905a-7f1c38ea873f",
   "metadata": {},
   "outputs": [],
   "source": [
    "from base import *\n",
    "from Space import Space\n",
    "import Generate"
   ]
  },
  {
   "cell_type": "code",
   "execution_count": 8,
   "id": "f0ddb784-023a-45d8-881b-3958d1ad4232",
   "metadata": {},
   "outputs": [],
   "source": [
    "#\n",
    "#   First, we'll attempt to construct a search space which might contain a classifier as described above \n",
    "#\n",
    "S = Generate.Gen(Generate.codas,3).space()"
   ]
  },
  {
   "cell_type": "code",
   "execution_count": 9,
   "id": "5ea47ff5-b01f-4a81-94f0-dd820d68d575",
   "metadata": {},
   "outputs": [
    {
     "data": {
      "text/plain": [
       "eval: False, true: 0, false:0, undecided:0, codas:143, datas:11568"
      ]
     },
     "execution_count": 9,
     "metadata": {},
     "output_type": "execute_result"
    }
   ],
   "source": [
    "S"
   ]
  },
  {
   "cell_type": "code",
   "execution_count": 10,
   "id": "6dd07958-cd26-46bb-be47-ca54b03652e1",
   "metadata": {},
   "outputs": [
    {
     "name": "stdout",
     "output_type": "stream",
     "text": [
      "{B get1} counts\n",
      "app rep\n",
      "{B post} startswith\n",
      "pass {tail B}\n",
      "{apby B} null\n",
      "equiv b\n",
      "{B if} pre\n",
      "{imply B} has1\n",
      "pass {B 0}\n",
      "endswith {B endswith}\n",
      "A {last B}\n",
      "{has1 B} collect\n",
      "{B ap} nth1\n",
      "rep {2 B}\n",
      "has1 bin\n",
      "{3 B} 𝟬\n",
      "join split\n",
      "𝟬 {if B}\n",
      "{aps B} rep\n",
      "{wrap B} ◎\n"
     ]
    }
   ],
   "source": [
    "for i in range(20): print(S[i])"
   ]
  },
  {
   "cell_type": "code",
   "execution_count": 5,
   "id": "cad0d78e-2048-4d1e-97ed-274628c24747",
   "metadata": {},
   "outputs": [
    {
     "data": {
      "text/plain": [
       "eval: False, true: 0, false:0, undecided:0, codas:1, datas:3"
      ]
     },
     "execution_count": 5,
     "metadata": {},
     "output_type": "execute_result"
    }
   ],
   "source": [
    "Even = Generate.EvenAtoms(3)\n",
    "Odd  = Generate.OddAtoms(3) \n",
    "Odd"
   ]
  },
  {
   "cell_type": "code",
   "execution_count": 11,
   "id": "460642f6-2322-4289-ba05-41dfa40c7f16",
   "metadata": {},
   "outputs": [
    {
     "ename": "TypeError",
     "evalue": "'coda' object is not iterable",
     "output_type": "error",
     "traceback": [
      "\u001b[0;31m---------------------------------------------------------------------------\u001b[0m",
      "\u001b[0;31mTypeError\u001b[0m                                 Traceback (most recent call last)",
      "Cell \u001b[0;32mIn[11], line 11\u001b[0m\n\u001b[1;32m      8\u001b[0m \u001b[38;5;28;01mdef\u001b[39;00m \u001b[38;5;21misempty\u001b[39m (s,t): \u001b[38;5;28;01mreturn\u001b[39;00m \u001b[38;5;28meval\u001b[39m(data(s\u001b[38;5;241m|\u001b[39mt))\u001b[38;5;241m.\u001b[39mempty()\n\u001b[1;32m      9\u001b[0m \u001b[38;5;28;01mdef\u001b[39;00m \u001b[38;5;21misatomic\u001b[39m(s,t): \u001b[38;5;28;01mreturn\u001b[39;00m \u001b[38;5;28meval\u001b[39m(data(s\u001b[38;5;241m|\u001b[39mt))\u001b[38;5;241m.\u001b[39matomic()\n\u001b[0;32m---> 11\u001b[0m S_even \u001b[38;5;241m=\u001b[39m \u001b[43mS\u001b[49m\u001b[38;5;241;43m.\u001b[39;49m\u001b[43msubspace_two\u001b[49m\u001b[43m(\u001b[49m\u001b[43misempty\u001b[49m\u001b[43m,\u001b[49m\u001b[43mEven\u001b[49m\u001b[43m)\u001b[49m\n",
      "File \u001b[0;32m~/coda/py/Space.py:175\u001b[0m, in \u001b[0;36mSpace.subspace_two\u001b[0;34m(self, two, T)\u001b[0m\n\u001b[1;32m    173\u001b[0m \u001b[38;5;28;01mdef\u001b[39;00m \u001b[38;5;21msubspace_two\u001b[39m(\u001b[38;5;28mself\u001b[39m,two,T):\n\u001b[1;32m    174\u001b[0m     \u001b[38;5;28;01mdef\u001b[39;00m \u001b[38;5;21mF\u001b[39m(s): \u001b[38;5;28;01mreturn\u001b[39;00m \u001b[38;5;28mall\u001b[39m([two(s,t) \u001b[38;5;28;01mfor\u001b[39;00m t \u001b[38;5;129;01min\u001b[39;00m T])\n\u001b[0;32m--> 175\u001b[0m     \u001b[38;5;28;01mreturn\u001b[39;00m \u001b[38;5;28;43mself\u001b[39;49m\u001b[38;5;241;43m.\u001b[39;49m\u001b[43msubspace\u001b[49m\u001b[43m(\u001b[49m\u001b[43mF\u001b[49m\u001b[43m)\u001b[49m\n",
      "File \u001b[0;32m~/coda/py/Space.py:160\u001b[0m, in \u001b[0;36mSpace.subspace\u001b[0;34m(self, sub)\u001b[0m\n\u001b[1;32m    158\u001b[0m \u001b[38;5;28;01mfor\u001b[39;00m t \u001b[38;5;129;01min\u001b[39;00m m:\n\u001b[1;32m    159\u001b[0m     \u001b[38;5;28;01mfor\u001b[39;00m s \u001b[38;5;129;01min\u001b[39;00m t: L\u001b[38;5;241m.\u001b[39mappend(s)\n\u001b[0;32m--> 160\u001b[0m \u001b[38;5;28;01mreturn\u001b[39;00m \u001b[43mSpace\u001b[49m\u001b[43m(\u001b[49m\u001b[38;5;241;43m*\u001b[39;49m\u001b[43mL\u001b[49m\u001b[43m)\u001b[49m\n\u001b[1;32m    162\u001b[0m L \u001b[38;5;241m=\u001b[39m []\n\u001b[1;32m    163\u001b[0m n \u001b[38;5;241m=\u001b[39m \u001b[38;5;241m0\u001b[39m\n",
      "File \u001b[0;32m~/coda/py/Space.py:39\u001b[0m, in \u001b[0;36mSpace.__init__\u001b[0;34m(self, *Ds)\u001b[0m\n\u001b[1;32m     37\u001b[0m T \u001b[38;5;241m=\u001b[39m \u001b[38;5;28mset\u001b[39m([])\n\u001b[1;32m     38\u001b[0m \u001b[38;5;28;01mfor\u001b[39;00m d \u001b[38;5;129;01min\u001b[39;00m Ds:\n\u001b[0;32m---> 39\u001b[0m     \u001b[38;5;28;01mfor\u001b[39;00m c \u001b[38;5;129;01min\u001b[39;00m d: T\u001b[38;5;241m.\u001b[39madd(c)\n\u001b[1;32m     40\u001b[0m \u001b[38;5;28mself\u001b[39m\u001b[38;5;241m.\u001b[39m_codas \u001b[38;5;241m=\u001b[39m [c \u001b[38;5;28;01mfor\u001b[39;00m c \u001b[38;5;129;01min\u001b[39;00m T]\n\u001b[1;32m     41\u001b[0m \u001b[38;5;28mself\u001b[39m\u001b[38;5;241m.\u001b[39m_evals \u001b[38;5;241m=\u001b[39m {}\n",
      "\u001b[0;31mTypeError\u001b[0m: 'coda' object is not iterable"
     ]
    }
   ],
   "source": [
    "#\n",
    "#   The strategy is to first filter down S to the subspace which \n",
    "#   satisfies s:Even = ()... \n",
    "#\n",
    "import Evaluate\n",
    "def eval(d): return Evaluate.default(d)\n",
    "\n",
    "def isempty (s,t): return eval(data(s|t)).empty()\n",
    "def isatomic(s,t): return eval(data(s|t)).atomic()\n",
    "                           \n",
    "S_even = S.subspace_two(isempty,Even)"
   ]
  },
  {
   "cell_type": "code",
   "execution_count": 12,
   "id": "18a06d53-0c51-4ed9-ac2f-d6592030d3be",
   "metadata": {},
   "outputs": [
    {
     "ename": "NameError",
     "evalue": "name 'S_even' is not defined",
     "output_type": "error",
     "traceback": [
      "\u001b[0;31m---------------------------------------------------------------------------\u001b[0m",
      "\u001b[0;31mNameError\u001b[0m                                 Traceback (most recent call last)",
      "Cell \u001b[0;32mIn[12], line 1\u001b[0m\n\u001b[0;32m----> 1\u001b[0m \u001b[43mS_even\u001b[49m\n",
      "\u001b[0;31mNameError\u001b[0m: name 'S_even' is not defined"
     ]
    }
   ],
   "source": [
    "S_even"
   ]
  },
  {
   "cell_type": "code",
   "execution_count": null,
   "id": "9b347478-088d-453e-932b-ea24fd3fa148",
   "metadata": {},
   "outputs": [],
   "source": [
    "#\n",
    "#   S_even is empty on even atoms up to 2 atoms.  Let's expand this to 20 atoms to clear it up. \n",
    "#\n",
    "S_even2 = S_even.subspace_two(isempty,Generate.EvenAtoms(20))"
   ]
  },
  {
   "cell_type": "code",
   "execution_count": null,
   "id": "e0227830-8439-4feb-a9d6-0c1f35332069",
   "metadata": {},
   "outputs": [],
   "source": [
    "S_even2"
   ]
  },
  {
   "cell_type": "code",
   "execution_count": null,
   "id": "843f9812-523f-4cb4-b0be-bf2367b40138",
   "metadata": {},
   "outputs": [],
   "source": [
    "#\n",
    "#   This step didn't do anything.  There are still 1316 candidate data \n",
    "#   satisfying d:X = () for X atoms up to 20. \n",
    "#\n",
    "#   so... Now \n",
    "#\n",
    "S_even_odd = S_even.subspace_two(isatomic,Generate.OddAtoms(2))"
   ]
  },
  {
   "cell_type": "code",
   "execution_count": null,
   "id": "67852271-efec-4701-bb14-2adc39585391",
   "metadata": {},
   "outputs": [],
   "source": [
    "S_even_odd"
   ]
  },
  {
   "cell_type": "code",
   "execution_count": null,
   "id": "92f4575c-b182-4b81-a213-872dd34b4355",
   "metadata": {},
   "outputs": [],
   "source": [
    "for d in S_even_odd: print(d)"
   ]
  },
  {
   "cell_type": "code",
   "execution_count": null,
   "id": "62182337-9b07-4b65-9542-23e4ae28b675",
   "metadata": {},
   "outputs": [],
   "source": [
    "for d in S_even_odd: \n",
    "    for o in Generate.OddAtoms(3) : print(eval(data(d|o)),'<-',data(d|o))\n",
    "for d in S_even_odd:\n",
    "    for e in Generate.EvenAtoms(3): print(eval(data(d|e)),'<-',data(d|e))"
   ]
  },
  {
   "cell_type": "markdown",
   "id": "59b71c03-ea42-45db-aa53-cf613e53ad5d",
   "metadata": {},
   "source": [
    "### Success!  \n",
    "\n",
    "This is my first attempt at \"machine learning\".  Notice that it works and it's doing something clever that I did not think of ahead of time.  `aps not:X` combines the binary application `aps` (used to translate a binary operator like a+b into a sequential sum), with a logical operation `not` to compute whether `X` has an even or odd number of atoms. \n",
    "\n",
    "It was only tested on the \"hydrogen atom\" (:), but it's now obvious that it works for any kind of atom as well as any number of atoms.  \n",
    "\n",
    "```\n",
    "step : aps not : x y z w x \n",
    "[0] (({aps not }:):({ x y z w x}:))\n",
    "[1] (({aps not}:):({x y z w x}:))\n",
    "[2] (({aps}:) ({not}:):({x}:) ({y z w x}:))\n",
    "[3] (aps not:x ({y}:) ({z w x}:))\n",
    "[4] (not x:(aps not:y ({z}:) ({w x}:)))\n",
    "[5] (not x:(not y:(aps not:z ({w}:) ({x}:))))\n",
    "[6] (not x:(not y:(not z:(aps not:w x))))\n",
    "[7] (not x:(not y:(not z:(not w:(aps not:x)))))\n",
    "[8] 𝝞𝟬𝟬𝝞𝟬𝝞𝝞𝝞𝟬𝟬𝝞𝝞𝝞𝟬\n",
    "◎\n",
    "```\n",
    "* Isn't that clever?  \n",
    "\n",
    "This is promising.  Compare trying to do this by searching strings interpreted as python programs to find one that distinguises even and odd number of arguments.  \n",
    "\n",
    "Not only does this solve the immediate problem, but it provides additional insight and additional mathematical structure.  The insight is how to distinguish odd from even.  The additional content is that `aps not` is almost a category.  \n"
   ]
  },
  {
   "cell_type": "raw",
   "id": "c74c8f46-8c6b-46f8-be0c-e70ad48dfe97",
   "metadata": {},
   "source": [
    "aps not : x y z"
   ]
  },
  {
   "cell_type": "code",
   "execution_count": null,
   "id": "1af9b6cb-3ce7-4551-b697-1172e94da255",
   "metadata": {},
   "outputs": [],
   "source": []
  }
 ],
 "metadata": {
  "kernelspec": {
   "display_name": "Python 3 (ipykernel)",
   "language": "python",
   "name": "python3"
  },
  "language_info": {
   "codemirror_mode": {
    "name": "ipython",
    "version": 3
   },
   "file_extension": ".py",
   "mimetype": "text/x-python",
   "name": "python",
   "nbconvert_exporter": "python",
   "pygments_lexer": "ipython3",
   "version": "3.10.7"
  }
 },
 "nbformat": 4,
 "nbformat_minor": 5
}
