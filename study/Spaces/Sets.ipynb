{
 "cells": [
  {
   "cell_type": "markdown",
   "id": "9d99b95b-c79e-4f2c-8bca-04c64fcd2765",
   "metadata": {},
   "source": [
    "## Sets as spaces\n",
    "\n",
    "\n"
   ]
  },
  {
   "cell_type": "markdown",
   "id": "de76c286-ec34-441a-93af-cedda0fc4d1a",
   "metadata": {},
   "source": [
    "help : ker"
   ]
  },
  {
   "cell_type": "code",
   "execution_count": 15,
   "id": "66659672-032f-48b9-b682-82da1d0a1590",
   "metadata": {},
   "outputs": [
    {
     "name": "stdout",
     "output_type": "stream",
     "text": []
    }
   ],
   "source": [
    "help : ker"
   ]
  },
  {
   "cell_type": "code",
   "execution_count": null,
   "id": "43e50d32-2598-4402-8a92-a5f99f1bd3ec",
   "metadata": {},
   "outputs": [],
   "source": []
  }
 ],
 "metadata": {
  "kernelspec": {
   "display_name": "coda",
   "language": "",
   "name": "coda"
  },
  "language_info": {
   "file_extension": ".co",
   "mimetype": "text/plain",
   "name": "Any text"
  }
 },
 "nbformat": 4,
 "nbformat_minor": 5
}
