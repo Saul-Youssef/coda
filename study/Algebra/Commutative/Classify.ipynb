{
 "cells": [
  {
   "cell_type": "markdown",
   "id": "f7b0e5cc-6b0a-4088-a763-d04006d8ce82",
   "metadata": {},
   "source": [
    "## Reducing the Candidates\n",
    "\n",
    "We have collected all 742 commutative candidates from S6.  The issue in this notebook is how many of these are equivalent to each other? "
   ]
  },
  {
   "cell_type": "code",
   "execution_count": 1,
   "id": "e7597dd2-79a1-4259-9711-15a2e1aa46cd",
   "metadata": {},
   "outputs": [
    {
     "name": "stdout",
     "output_type": "stream",
     "text": [
      "(defaultTime:100)"
     ]
    }
   ],
   "source": [
    "defaultTime:100"
   ]
  },
  {
   "cell_type": "code",
   "execution_count": 2,
   "id": "58b528ad-292c-498d-9d83-ddde9c4060f7",
   "metadata": {},
   "outputs": [
    {
     "name": "stdout",
     "output_type": "stream",
     "text": []
    }
   ],
   "source": [
    "Let Candidates : ap {:arg:B} : in : endswith -300 : dir : ."
   ]
  },
  {
   "cell_type": "code",
   "execution_count": 3,
   "id": "7fedc843-4f3d-47f1-b8d8-7105ddc92f2c",
   "metadata": {},
   "outputs": [
    {
     "name": "stdout",
     "output_type": "stream",
     "text": [
      "742"
     ]
    }
   ],
   "source": [
    "count : Candidates?"
   ]
  },
  {
   "cell_type": "code",
   "execution_count": 4,
   "id": "230882e8-3a2b-4882-8dae-ef74fb2c18d2",
   "metadata": {},
   "outputs": [
    {
     "name": "stdout",
     "output_type": "stream",
     "text": [
      "(:{is : B} A) \n",
      " (:{sum : B} nif) \n",
      " (:put {sum : B}) \n",
      " (:has null) \n",
      " (:if {B : nif}) \n",
      " (:get has) \n",
      " (:{has : B} has) \n",
      " (:if domain) \n",
      " (:if {put B}) \n",
      " (:has {domain : B}) \n"
     ]
    }
   ],
   "source": [
    "ap post <\\n> : first 10 : Candidates? "
   ]
  },
  {
   "cell_type": "code",
   "execution_count": 5,
   "id": "88ff83c6-2259-4156-9c09-a0b052f74319",
   "metadata": {},
   "outputs": [
    {
     "name": "stdout",
     "output_type": "stream",
     "text": []
    }
   ],
   "source": [
    "import : dir co : up : up : ."
   ]
  },
  {
   "cell_type": "code",
   "execution_count": null,
   "id": "385fc774-5765-4647-b37d-925f654cae96",
   "metadata": {},
   "outputs": [],
   "source": [
    "eval 10000 : Let Class : classify S6? : Candidates?"
   ]
  },
  {
   "cell_type": "code",
   "execution_count": null,
   "id": "fe5f72d8-45b2-47a7-b659-315f9c45ff75",
   "metadata": {},
   "outputs": [],
   "source": [
    "count : Class?"
   ]
  },
  {
   "cell_type": "code",
   "execution_count": null,
   "id": "ce31d4ec-b0f1-4317-b8a6-186a08403ce3",
   "metadata": {},
   "outputs": [],
   "source": []
  }
 ],
 "metadata": {
  "kernelspec": {
   "display_name": "coda",
   "language": "",
   "name": "coda"
  },
  "language_info": {
   "file_extension": ".co",
   "mimetype": "text/plain",
   "name": "Any text"
  }
 },
 "nbformat": 4,
 "nbformat_minor": 5
}
