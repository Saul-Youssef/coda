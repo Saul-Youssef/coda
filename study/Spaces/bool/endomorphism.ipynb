{
 "cells": [
  {
   "cell_type": "code",
   "execution_count": 1,
   "id": "ee4c6213-4e6b-492b-b0f1-7b02e9b4ae21",
   "metadata": {},
   "outputs": [
    {
     "name": "stdout",
     "output_type": "stream",
     "text": [
      "(defaultTime:100)"
     ]
    }
   ],
   "source": [
    "defaultTime:100\n",
    "import : dir co : up : . \n",
    "import : dir co : ."
   ]
  },
  {
   "cell_type": "code",
   "execution_count": 2,
   "id": "38d04e15-0f64-477b-87fa-69f620873be0",
   "metadata": {},
   "outputs": [
    {
     "name": "stdout",
     "output_type": "stream",
     "text": [
      " ◎ \n",
      " (:(b:)) \n",
      " (:(b:◎)) \n",
      " (:(b:) (b:)) \n",
      " (:(b:) (b:◎)) \n",
      " (:(b:◎) (b:)) \n",
      " (:(b:◎) (b:◎)) \n",
      " (:(b:) (b:) (b:)) \n",
      " (:(b:) (b:) (b:◎)) \n",
      " (:(b:) (b:◎) (b:)) \n",
      " (:(b:) (b:◎) (b:◎)) \n",
      " (:(b:◎) (b:) (b:)) \n",
      " (:(b:◎) (b:) (b:◎)) \n",
      " (:(b:◎) (b:◎) (b:)) \n",
      " (:(b:◎) (b:◎) (b:◎)) \n"
     ]
    }
   ],
   "source": [
    "#\n",
    "#  For searching purposes, make all L data up to width 3.\n",
    "#\n",
    "Let L1 : sum (:permutation 0) (:permutation 1) (:permutation 2) (:permutation 3) : (b:) (b:(:))\n",
    "tab : L1?"
   ]
  },
  {
   "cell_type": "code",
   "execution_count": 3,
   "id": "435cba81-a4b9-47d3-a487-21c274f8ed87",
   "metadata": {},
   "outputs": [
    {
     "name": "stdout",
     "output_type": "stream",
     "text": []
    }
   ],
   "source": [
    "Def commute1 : {count : ((get:first:A)*(get:last:A):get:B)=((get:last:A)*(get:first:A):get:B)} "
   ]
  },
  {
   "cell_type": "code",
   "execution_count": 9,
   "id": "b6a802d5-01f0-4deb-82a5-1fa52ce711c6",
   "metadata": {},
   "outputs": [
    {
     "name": "stdout",
     "output_type": "stream",
     "text": []
    }
   ],
   "source": [
    "Def commute2 : {ap commute1 (:A) (:B) : L1?} "
   ]
  },
  {
   "cell_type": "code",
   "execution_count": 7,
   "id": "4256619d-4837-4ae8-9ca2-beee56f83655",
   "metadata": {},
   "outputs": [
    {
     "name": "stdout",
     "output_type": "stream",
     "text": [
      "0 0 0 0 0 0 0 0 1 0 0 0 0 0 0\n",
      "0 0 0 0 0 0 0 0 0 0 0 0 0 0 0\n",
      "1 1 1 1 1 1 1 1 1 1 1 1 1 1 1"
     ]
    }
   ],
   "source": [
    "ap commute1 (:ALL) (:E:first 2) : L1?\n",
    "ap commute1 (:ALL) (:FALSE) : L1?\n",
    "ap commute1 (:ANY) (:FALSE) : L1?"
   ]
  },
  {
   "cell_type": "code",
   "execution_count": 10,
   "id": "ad37ad1e-964c-4195-9751-6750ca8f51f8",
   "metadata": {},
   "outputs": [
    {
     "name": "stdout",
     "output_type": "stream",
     "text": [
      "0 0 0 0 0 0 0 0 0 0 0 0 0 0 0\n",
      "0 0 0 0 0 0 0 0 0 0 0 0 0 0 0"
     ]
    }
   ],
   "source": [
    "ap commute1 (:ANY) (:ALL) : L1?\n",
    "commute2 ANY : ALL "
   ]
  },
  {
   "cell_type": "code",
   "execution_count": 15,
   "id": "47a43333-e400-4a51-8dd2-254837c11a4a",
   "metadata": {},
   "outputs": [
    {
     "name": "stdout",
     "output_type": "stream",
     "text": [
      "0 0 0 0 0 0 0 0 0 0 0 0 0 0 0\n",
      "1 1 1 1 1 1 1 1 1 1 1 1 1 1 1\n",
      "1 1 1 1 1 1 1 1 1 1 1 1 1 1 1\n",
      "0 0 0 0 0 0 0 0 0 0 0 0 0 0 0\n",
      "0 0 0 0 0 0 0 0 1 0 0 0 0 0 0\n",
      "0 0 0 0 1 0 0 0 1 1 1 0 0 0 0\n",
      "0 0 0 0 1 0 0 0 1 1 1 0 0 0 0"
     ]
    }
   ],
   "source": [
    "commute2 ANY : ALL \n",
    "commute2 ANY : TRUE \n",
    "commute2 ANY : FALSE \n",
    "commute2 ANY : ANY \n",
    "commute2 ANY : (E:first 2)\n",
    "commute2 ANY : (E:first) \n",
    "commute2 ALL : (E:first)"
   ]
  },
  {
   "cell_type": "code",
   "execution_count": 16,
   "id": "53ac1f2a-611e-45ea-a231-a599497f940c",
   "metadata": {},
   "outputs": [
    {
     "name": "stdout",
     "output_type": "stream",
     "text": [
      "0 0 0 0 0 0 0 0 0 0 0 0 0 0 0\n",
      "0 0 0 0 0 0 0 0 0 0 0 0 0 0 0\n",
      "0 0 0 0 0 0 0 0 0 0 0 0 0 0 0\n",
      "0 0 0 0 0 0 0 0 0 0 0 0 0 0 0"
     ]
    }
   ],
   "source": [
    "#\n",
    "#   As expected, the small endomorphisms commute with permutations.\n",
    "#\n",
    "commute2 ANY : (E:rev)\n",
    "commute2 ALL : (E:rev) \n",
    "commute2 TRUE : (E:rev)\n",
    "commute2 FALSE : (E:rev)"
   ]
  },
  {
   "cell_type": "code",
   "execution_count": 26,
   "id": "5c652372-a6a2-4ba6-8912-e69355d4a00c",
   "metadata": {},
   "outputs": [
    {
     "name": "stdout",
     "output_type": "stream",
     "text": [
      "0 0 0 0 0 0 0 0 0 0 0 0 0 0 0\n",
      "0 0 0 0 0 0 0 0 0 0 0 0 0 0 0\n",
      "0 0 0 0 0 0 0 0 0 0 0 0 0 0 0\n",
      "0 0 0 0 0 0 0 0 0 0 0 0 0 0 0"
     ]
    }
   ],
   "source": [
    "commute2 ANY : (E:once) \n",
    "commute2 ALL : (E:once)\n",
    "commute2 TRUE : (E:once)\n",
    "commute2 FALSE : (E:once)"
   ]
  },
  {
   "cell_type": "code",
   "execution_count": 27,
   "id": "3b5ea56c-b9dc-4d2e-823e-db6b57b51c4c",
   "metadata": {},
   "outputs": [
    {
     "name": "stdout",
     "output_type": "stream",
     "text": [
      "(b:) (b:◎) (b:) (b:) (b:◎) (b:◎) (b:) (b:◎) (b:) (b:) (b:◎) (b:) (b:◎) (b:) (b:◎) (b:◎) (b:) (b:◎) (b:) (b:◎) (b:) (b:◎)"
     ]
    }
   ],
   "source": [
    "ap {(E:once):get:B} : L1?"
   ]
  },
  {
   "cell_type": "code",
   "execution_count": null,
   "id": "063d6fe7-22f6-4328-a358-161e07b20f6f",
   "metadata": {},
   "outputs": [],
   "source": []
  }
 ],
 "metadata": {
  "kernelspec": {
   "display_name": "coda",
   "language": "",
   "name": "coda"
  },
  "language_info": {
   "file_extension": ".co",
   "mimetype": "text/plain",
   "name": "Any text"
  }
 },
 "nbformat": 4,
 "nbformat_minor": 5
}
