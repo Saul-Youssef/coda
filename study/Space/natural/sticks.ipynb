{
 "cells": [
  {
   "cell_type": "markdown",
   "id": "a487c04e-dac2-4ca6-8a1b-4d4047adc0d7",
   "metadata": {},
   "source": [
    "## natural numbers \n",
    "\n",
    "Pure data is, in a sense, made out of atoms (:) at the bottom, so it's a natural, organic operation to replace each atom in a sequence with the atom (:).  This is done by **atoms** which is defined as the data \n",
    "\n",
    "* def atoms : ap const (:) \n",
    "\n",
    "Of course, **atoms:X** is essentially a quantity - the natural number of atoms in X.  Any atom could be used instead of (:) for this purpose.  In fact, we'll use a \"stick\" instead to emphasize that we're doing primitive counting.\n",
    "\n",
    "* def stick : ap const | \n",
    "\n",
    "**atoms** and **stick** are spaces.  In the case of stick, the the space consists of sequences such as | | |, representing the natural number 3, or the empty sequence, representing the natural number zero.  The space property \n",
    "\n",
    "* stick : (stick : | | | ) (stick : | | )\n",
    "\n",
    "is equal to | | | | | (\"5\"), so stick embodies the sum of natural numbers. \n",
    "\n",
    "We want to treat the space **stick** analogously to **bool** to show common analyses that can be applied to all spaces. \n",
    "\n",
    "1. What are the basic properties of **stick**?\n",
    "2. What are the endomorphisms of **stick**?\n",
    "3. What are the endomorphisms of sequences of natural numbers?\n"
   ]
  },
  {
   "cell_type": "code",
   "execution_count": 1,
   "id": "c31e2340-e63f-4a4a-9985-97c10417f8db",
   "metadata": {},
   "outputs": [
    {
     "name": "stdout",
     "output_type": "stream",
     "text": [
      "(defaultTime:100)"
     ]
    }
   ],
   "source": [
    "defaultTime:100 \n",
    "import : dir co : up : ."
   ]
  },
  {
   "cell_type": "code",
   "execution_count": 2,
   "id": "a79a02be-7d3c-40e3-b025-c29ed550b64b",
   "metadata": {},
   "outputs": [
    {
     "name": "stdout",
     "output_type": "stream",
     "text": []
    }
   ],
   "source": [
    "Def stick : ap const |"
   ]
  },
  {
   "cell_type": "code",
   "execution_count": 3,
   "id": "e870c3a6-22f6-4078-a1f4-18af17494345",
   "metadata": {},
   "outputs": [
    {
     "name": "stdout",
     "output_type": "stream",
     "text": [
      "◎ ◎ ◎\n",
      "| | |"
     ]
    }
   ],
   "source": [
    "atoms : a b c \n",
    "stick : a b c "
   ]
  },
  {
   "cell_type": "markdown",
   "id": "cb9ffb4e-fedd-45bf-97f3-4a957e2fb71a",
   "metadata": {},
   "source": [
    "### 1. What are the basic properties of stick?"
   ]
  },
  {
   "cell_type": "code",
   "execution_count": 4,
   "id": "c183d07f-88b8-4eb0-bfac-b19efe6af664",
   "metadata": {},
   "outputs": [
    {
     "name": "stdout",
     "output_type": "stream",
     "text": [
      "| | | |\n",
      "| | | |\n",
      "| | | |"
     ]
    }
   ],
   "source": [
    "#\n",
    "#   stick is a distributive commutative space.  The data in stick are \n",
    "#   sequences of |s, thus representing natural numbers. \n",
    "#\n",
    "stick : a b c d \n",
    "stick : stick : a b c d \n",
    "stick : (stick : a b) (stick:c d)"
   ]
  },
  {
   "cell_type": "markdown",
   "id": "5e3cff2c-82b9-4df4-9aca-ae4b13140774",
   "metadata": {},
   "source": [
    "### Summary\n",
    "\n",
    "**stick** is a distributive commutative space where the elements of the \n",
    "space represent the natural numbers. "
   ]
  },
  {
   "cell_type": "markdown",
   "id": "27720655-fff0-4ef9-a5e7-2f7208636cf4",
   "metadata": {},
   "source": [
    "### 2. What are the endomorphisms of stick?\n",
    "\n",
    "Since stick is a space, stick\\*X\\*stick is an endomorphism for any data **X**.  Let's look at a few examples."
   ]
  },
  {
   "cell_type": "code",
   "execution_count": 5,
   "id": "1c845454-df64-4568-82a4-bd9857193209",
   "metadata": {},
   "outputs": [
    {
     "name": "stdout",
     "output_type": "stream",
     "text": []
    }
   ],
   "source": [
    "Def end : {End stick:B}"
   ]
  },
  {
   "cell_type": "code",
   "execution_count": 6,
   "id": "2540c8f5-62e1-4376-8460-fb4b088741a3",
   "metadata": {},
   "outputs": [
    {
     "name": "stdout",
     "output_type": "stream",
     "text": [
      "| | | | | |"
     ]
    }
   ],
   "source": [
    "#\n",
    "#   {B B} doubles it's input, so \n",
    "#   (end:{B B}) doubles natural numbers. \n",
    "#\n",
    "(end:{B B}) : | | | "
   ]
  },
  {
   "cell_type": "code",
   "execution_count": 7,
   "id": "3ac9d7e4-85fa-485e-988a-0f70534ecf56",
   "metadata": {},
   "outputs": [
    {
     "name": "stdout",
     "output_type": "stream",
     "text": [
      "| | |\n",
      "| |\n",
      "|\n",
      "|"
     ]
    }
   ],
   "source": [
    "#\n",
    "#   frontstrip | | removes | | from the front, thus \n",
    "#   subtracting at most 2 from a natural number.\n",
    "#\n",
    "frontstrip | | : | | | | |\n",
    "frontstrip | | : | | | |\n",
    "frontstrip | | : | | |  \n",
    "frontstrip | | : | | \n",
    "frontstrip | | : | \n",
    "frontstrip | | : "
   ]
  },
  {
   "cell_type": "code",
   "execution_count": 8,
   "id": "c938a9c7-0ad6-4272-b8e2-11aa56f268de",
   "metadata": {},
   "outputs": [
    {
     "name": "stdout",
     "output_type": "stream",
     "text": [
      "|"
     ]
    }
   ],
   "source": [
    "#\n",
    "#   Thus, while frontstrip | | effectively computes \n",
    "#   mod 2 of the input number.\n",
    "#\n",
    "while frontstrip | | : | | | | |"
   ]
  },
  {
   "cell_type": "code",
   "execution_count": 9,
   "id": "8fa1a33a-8cb7-4e9d-b9f0-d56f04ada5ef",
   "metadata": {},
   "outputs": [
    {
     "name": "stdout",
     "output_type": "stream",
     "text": []
    }
   ],
   "source": [
    "while frontstrip | | : | | | | "
   ]
  },
  {
   "cell_type": "code",
   "execution_count": 10,
   "id": "7ff147a7-ec29-4bf2-a077-6446648c506d",
   "metadata": {},
   "outputs": [
    {
     "name": "stdout",
     "output_type": "stream",
     "text": []
    }
   ],
   "source": [
    "#...motivating the definition \n",
    "\n",
    "Def mod : {while frontstrip A : B} "
   ]
  },
  {
   "cell_type": "code",
   "execution_count": 11,
   "id": "68510e1c-a812-4991-8768-4bcc019224a8",
   "metadata": {},
   "outputs": [
    {
     "name": "stdout",
     "output_type": "stream",
     "text": [
      "|"
     ]
    }
   ],
   "source": [
    "mod | | : | | | | |"
   ]
  },
  {
   "cell_type": "code",
   "execution_count": 12,
   "id": "8da759f4-ac22-46d4-9788-6b9eb4fecadc",
   "metadata": {},
   "outputs": [
    {
     "name": "stdout",
     "output_type": "stream",
     "text": [
      "|\n",
      "|\n",
      "|"
     ]
    }
   ],
   "source": [
    "#\n",
    "#   If we're putting in sticks by hand, we \n",
    "#   may omit end and stick for simplicity.\n",
    "#   I.e. the following are all the same \n",
    "#\n",
    "(end: mod | |) : stick : a b c d e \n",
    "(end: mod | |) : stick : | | | | |\n",
    "mod | | : | | | | | "
   ]
  },
  {
   "cell_type": "markdown",
   "id": "a9149ed4-3696-4cb3-b8f7-817088df0174",
   "metadata": {},
   "source": [
    "We have seen that the space stick itself is addition of natural numbers.  What about multiplication?  This naturally appears as endomorphisms mul A so that mul A applied to some sticks are the sticks repeated A times. This is easily done with **dup**."
   ]
  },
  {
   "cell_type": "code",
   "execution_count": 13,
   "id": "e8e8e01c-60c3-4b00-bf32-e9b5aa340bab",
   "metadata": {},
   "outputs": [
    {
     "name": "stdout",
     "output_type": "stream",
     "text": [
      "| | | | | |"
     ]
    }
   ],
   "source": [
    "dup | | : | | | "
   ]
  },
  {
   "cell_type": "code",
   "execution_count": 14,
   "id": "02bb5f5f-5629-43ad-82c4-998e0ea81a9e",
   "metadata": {},
   "outputs": [
    {
     "name": "stdout",
     "output_type": "stream",
     "text": []
    }
   ],
   "source": [
    "Def mul : {dup (stick:A) : B} "
   ]
  },
  {
   "cell_type": "code",
   "execution_count": 15,
   "id": "2a3ab588-9258-4fb5-97c1-ef6a661d54d2",
   "metadata": {},
   "outputs": [
    {
     "name": "stdout",
     "output_type": "stream",
     "text": [
      "| | | | | |"
     ]
    }
   ],
   "source": [
    "(end : mul | | ) : | | | "
   ]
  },
  {
   "cell_type": "code",
   "execution_count": 16,
   "id": "3ac06bd9-5259-4475-bf2b-f8e099a0c0b2",
   "metadata": {},
   "outputs": [
    {
     "name": "stdout",
     "output_type": "stream",
     "text": [
      "| |\n",
      "| |\n",
      "| |\n",
      "|\n",
      "-\n",
      "| | | |\n",
      "| | |\n",
      "| |\n",
      "| |\n",
      "| |"
     ]
    }
   ],
   "source": [
    "minwidth | | : | | | |\n",
    "minwidth | | : | | |\n",
    "minwidth | | : | |\n",
    "minwidth | | : | \n",
    "minwidth | | : \n",
    "- \n",
    "maxwidth | | : | | | |\n",
    "maxwidth | | : | | |\n",
    "maxwidth | | : | |\n",
    "maxwidth | | : | \n",
    "maxwidth | | : "
   ]
  },
  {
   "cell_type": "markdown",
   "id": "7cf8d417-21f5-4b2e-8df8-529da8086fc3",
   "metadata": {},
   "source": [
    "Now let's examine what commutes with what.  Commuting endomorphisms can be \"structures on stick.\"  "
   ]
  },
  {
   "cell_type": "code",
   "execution_count": 17,
   "id": "8209d36f-3cc2-42f9-a1ba-457d448fb820",
   "metadata": {},
   "outputs": [
    {
     "name": "stdout",
     "output_type": "stream",
     "text": [
      "(use1:(def identity:pass))"
     ]
    }
   ],
   "source": [
    "#\n",
    "#   Create a sample of data from stick \n",
    "#\n",
    "Def identity : pass\n",
    "Def double : {B B}\n",
    "Def add3 : post | | | \n",
    "Def mul2 : mul | | \n",
    "Def mod2 : mod | | \n",
    "Def maxwidth2 : maxwidth | | \n",
    "Def minwidth2 : minwidth | | \n",
    "Def is2 : {if (B=| |):B} \n",
    "Def kermod2 : {nif (mod2:B):B} \n",
    "Def three : const | | |\n",
    "Def onlyone : {if (B=|):|} \n",
    "Let endos : ap : identity double add3 mul2 mod2 maxwidth2 minwidth2 is2 kermod2 three onlyone \n",
    "\n",
    "Let S4 : (:) (:|) (:| |) (:| | |) (:| | | |) "
   ]
  },
  {
   "cell_type": "code",
   "execution_count": 41,
   "id": "da1e68fa-e0b9-498f-bd3f-7ee08649c5e9",
   "metadata": {
    "tags": []
   },
   "outputs": [
    {
     "name": "stdout",
     "output_type": "stream",
     "text": [
      " (with identity:) \n",
      " (with double:◎) \n",
      " (with add3:◎) \n",
      " (with mul2:◎) \n",
      " (with mod2:) \n",
      " (with maxwidth2:◎) \n",
      " (with minwidth2:) \n",
      " (with is2:◎) \n",
      " (with kermod2:◎) \n",
      " (with three:) \n",
      " (with onlyone:◎) \n"
     ]
    }
   ],
   "source": [
    "#\n",
    "#   Look for endomorphisms which are also algebraic spaces \n",
    "#\n",
    "#tab : dom 100 : ap {with (get:B) : bool : involution (get:B) : S4?} : endos? \n",
    "#-\n",
    "#tab : dom 100 : ap {with (get:B) : bool : idempotent (get:B) : S4?} : endos?\n",
    "#-\n",
    "tab : dom 200 : ap {with (get:B) : bool : ap SP (get:B) : permutation 2 : S4?} : endos? "
   ]
  },
  {
   "cell_type": "code",
   "execution_count": 59,
   "id": "034d5970-abe1-4e23-8abb-fe5f6fe079d2",
   "metadata": {},
   "outputs": [
    {
     "name": "stdout",
     "output_type": "stream",
     "text": [
      " (with onlyone:◎) \n"
     ]
    }
   ],
   "source": [
    "tab : do 100 : ap {with (get:B) : bool : ap SP (get:B) : nth 8 : permutation 2 : S4?} : (:onlyone) "
   ]
  },
  {
   "cell_type": "code",
   "execution_count": 60,
   "id": "b4f85f92-6012-4c66-80c7-0f19eb680d30",
   "metadata": {},
   "outputs": [
    {
     "name": "stdout",
     "output_type": "stream",
     "text": [
      "(:(:|) (:| |))"
     ]
    }
   ],
   "source": [
    "nth 8 : permutation 2 : S4?"
   ]
  },
  {
   "cell_type": "code",
   "execution_count": 47,
   "id": "74d4d9eb-adff-4540-a5f1-07b0bd3b9841",
   "metadata": {},
   "outputs": [
    {
     "name": "stdout",
     "output_type": "stream",
     "text": [
      "25"
     ]
    }
   ],
   "source": [
    "count : permutation 2 : S4?"
   ]
  },
  {
   "cell_type": "code",
   "execution_count": 39,
   "id": "f88f5085-a060-476a-bd2d-077fe9b88393",
   "metadata": {},
   "outputs": [
    {
     "name": "stdout",
     "output_type": "stream",
     "text": [
      " (with:◎ ◎) \n",
      " (with:◎ (:|)) \n",
      " (with:◎ (:| |)) \n",
      " (with:◎ (:| | |)) \n",
      " (with:◎ (:| | | |)) \n",
      " (with:(:|) ◎) \n",
      " (with:(:|) (:|)) \n",
      " (with:(:|) (:| |)) \n",
      " (with:(:|) (:| | |)) \n",
      " (with:(:|) (:| | | |)) \n",
      " (with:(:| |) ◎) \n",
      " (with:(:| |) (:|)) \n",
      " (with:(:| |) (:| |)) \n",
      " (with:(:| |) (:| | |)) \n",
      " (with:(:| |) (:| | | |)) \n",
      " (with:(:| | |) ◎) \n",
      " (with:(:| | |) (:|)) \n",
      " (with:(:| | |) (:| |)) \n",
      " (with:(:| | |) (:| | |)) \n",
      " (with:(:| | |) (:| | | |)) \n",
      " (with:(:| | | |) ◎) \n",
      " (with:(:| | | |) (:|)) \n",
      " (with:(:| | | |) (:| |)) \n",
      " (with:(:| | | |) (:| | |)) \n",
      " (with:(:| | | |) (:| | | |)) \n"
     ]
    }
   ],
   "source": [
    "tab : dom 100 : ap {with (bool : SP onlyone : get:B) : get : B} : permutation 2 : S4?"
   ]
  },
  {
   "cell_type": "code",
   "execution_count": 38,
   "id": "85f6e7c2-8c6c-4548-8467-5abad275f362",
   "metadata": {},
   "outputs": [
    {
     "name": "stdout",
     "output_type": "stream",
     "text": [
      " (with ◎:◎ ◎) \n",
      " (with ◎:◎ (:|)) \n",
      " (with ◎:◎ (:| |)) \n",
      " (with ◎:◎ (:| | |)) \n",
      " (with ◎:◎ (:| | | |)) \n",
      " (with ◎:(:|) ◎) \n",
      " (with ◎:(:|) (:|)) \n",
      " (with ◎:(:|) (:| |)) \n",
      " (with ◎:(:|) (:| | |)) \n",
      " (with ◎:(:|) (:| | | |)) \n",
      " (with ◎:(:| |) ◎) \n",
      " (with ◎:(:| |) (:|)) \n",
      " (with ◎:(:| |) (:| |)) \n",
      " (with ◎:(:| |) (:| | |)) \n",
      " (with ◎:(:| |) (:| | | |)) \n",
      " (with ◎:(:| | |) ◎) \n",
      " (with ◎:(:| | |) (:|)) \n",
      " (with ◎:(:| | |) (:| |)) \n",
      " (with ◎:(:| | |) (:| | |)) \n",
      " (with ◎:(:| | |) (:| | | |)) \n",
      " (with ◎:(:| | | |) ◎) \n",
      " (with ◎:(:| | | |) (:|)) \n",
      " (with ◎:(:| | | |) (:| |)) \n",
      " (with ◎:(:| | | |) (:| | |)) \n",
      " (with ◎:(:| | | |) (:| | | |)) \n"
     ]
    }
   ],
   "source": [
    "tab : dom 100 : ap {with (bool : SP maxwidth2 : get:B) : get : B} : permutation 2 : S4?"
   ]
  },
  {
   "cell_type": "markdown",
   "id": "38f2f595-80b3-4afb-b802-e0733674cb4b",
   "metadata": {
    "tags": []
   },
   "source": [
    "Note that both maxwidth and minwidth are idempotent\n",
    "\n",
    "* maxwidth:maxwidth:X = maxwidth:X\n",
    "* maxwidth:X Y = maxwidth:Y X\n",
    "\n",
    "* minwidth:minwidth:X = minwidth:X\n",
    "* minwidth:X Y = minwidth:Y X\n",
    "\n",
    "but only minwidth is a space.  Consider minwidth.  It is sufficient to show that \n",
    "\n",
    "* minwidth X Y = minwidth : X (minwidth : Y) \n",
    "\n",
    "for all X, Y.  If minwidth:Y is not saturated, minwidth:Y=Y and the identity holds.  If minwidth:Y is saturated, \n",
    "then X (minwidth:Y) is also saturated and both sides are equal to the minwidth.  This reasoning fails for maxwidth."
   ]
  },
  {
   "cell_type": "code",
   "execution_count": null,
   "id": "fb1ecc0c-aa01-497d-92c6-da19ca6c180c",
   "metadata": {
    "tags": []
   },
   "outputs": [],
   "source": [
    "tab : dom 100 : ap {with (get:B) : bool : commutator (get:B) : S4?} : combination 2 : endos?"
   ]
  },
  {
   "cell_type": "markdown",
   "id": "0969d2e8-bc15-470e-8749-7b648ad8c248",
   "metadata": {
    "tags": []
   },
   "source": [
    "### Summary \n",
    "\n",
    "Thus, only **identity**, **mod n** and **minwidth n** are both endomorphisms and algebraic spaces.  Furthermore, **mod n** and **minwidth n** do not commute, so if we want algebraic structure on **stick**, there are only two possibilities from the endomorphisms we have here: **stick** with **mod n** and **stick** with **minwidth n**.  \n",
    "  \n",
    "  |        |  stick | double  |  add 3  | mul 2 | mod 2  |  maxwidth 2 | minwidth 2 |  is 2   |space?  |\n",
    "  |--------------:|:-----:|:-----:|:----:|:------:|:------:|:------:|:------:|:--------:|:------:|\n",
    "  |stick          |   -   |   -   |   -  |   -    |   -    |   -    |   -    |    -     |    Y     |\n",
    "  |double         |       |   -   |   X  |   -    |   X    |   X    |   X    |    X     |    -     |\n",
    "  |add 3          |       |       |   -  |   X    |   X    |   X    |   X    |    X     |    -     |\n",
    "  |mul 2          |       |       |      |   -    |   X    |   X    |   X    |    X     |    -     |\n",
    "  |mod 2          |       |       |      |        |   -    |   X    |   X    |    -     |    Y     |\n",
    "  |maxwidth 2        |       |       |      |        |        |   -    |   -    |    X     |    -     |\n",
    "  |minwidth 2      |       |       |      |        |        |        |   -    |    X     |    Y     |\n",
    "  |is 2           |       |       |      |        |        |        |        |    -     |    -     |\n",
    "\n",
    "Are there any other endomorphisms which are algebraic spaces on **stick**? We will attempt to search for these in separate search notebook. "
   ]
  },
  {
   "cell_type": "code",
   "execution_count": 61,
   "id": "fca3a77d-6dac-4f8c-bb81-38eb4ab03d98",
   "metadata": {},
   "outputs": [
    {
     "name": "stdout",
     "output_type": "stream",
     "text": []
    }
   ],
   "source": [
    "Let infinity : | infinity?"
   ]
  },
  {
   "cell_type": "code",
   "execution_count": 70,
   "id": "4c7d690e-2705-4a73-b492-38129e481f0f",
   "metadata": {},
   "outputs": [
    {
     "name": "stdout",
     "output_type": "stream",
     "text": [
      "(equal | | | | | | | | | | | | | | | | | | | | | | | (ap const |:({| infinity?}:)):| ({infinity?}:))"
     ]
    }
   ],
   "source": [
    "(stick : infinity?) = infinity?"
   ]
  },
  {
   "cell_type": "code",
   "execution_count": 65,
   "id": "936b3279-a97d-4417-b75d-c301413b4c9a",
   "metadata": {},
   "outputs": [
    {
     "name": "stdout",
     "output_type": "stream",
     "text": [
      "(defaultTime:2)"
     ]
    }
   ],
   "source": [
    "defaultTime:2"
   ]
  },
  {
   "cell_type": "code",
   "execution_count": 68,
   "id": "823fba47-9dae-49a1-88da-70c3d13e97a0",
   "metadata": {},
   "outputs": [
    {
     "name": "stdout",
     "output_type": "stream",
     "text": [
      "| | |"
     ]
    }
   ],
   "source": [
    "stick : a b c "
   ]
  },
  {
   "cell_type": "code",
   "execution_count": null,
   "id": "5d21d169-ee6d-4b53-9907-6b591a2bd1da",
   "metadata": {},
   "outputs": [],
   "source": []
  }
 ],
 "metadata": {
  "kernelspec": {
   "display_name": "coda",
   "language": "",
   "name": "coda"
  },
  "language_info": {
   "file_extension": ".co",
   "mimetype": "text/plain",
   "name": "Any text"
  }
 },
 "nbformat": 4,
 "nbformat_minor": 5
}
