{
 "cells": [
  {
   "cell_type": "code",
   "execution_count": 1,
   "id": "853e81f0-53c6-4c0f-9e51-317b0f98810d",
   "metadata": {},
   "outputs": [
    {
     "name": "stdout",
     "output_type": "stream",
     "text": [
      "(defaultTime:1000)"
     ]
    }
   ],
   "source": [
    "defaultTime:1000"
   ]
  },
  {
   "cell_type": "code",
   "execution_count": 2,
   "id": "363eda05-965e-419d-a616-5b30fa8e58a7",
   "metadata": {},
   "outputs": [
    {
     "name": "stdout",
     "output_type": "stream",
     "text": []
    }
   ],
   "source": [
    "import : dir co : up : up : up : ."
   ]
  },
  {
   "cell_type": "code",
   "execution_count": 3,
   "id": "55c88a80-c1db-4b00-b8fb-251d4d2821a1",
   "metadata": {},
   "outputs": [
    {
     "name": "stdout",
     "output_type": "stream",
     "text": []
    }
   ],
   "source": [
    "Def F  : ap { if (right:B):(:arg:B)}  \n",
    "Def nF : ap {nif (right:B):(:arg:B)}  "
   ]
  },
  {
   "cell_type": "code",
   "execution_count": 4,
   "id": "e44e71de-2788-4fd8-ac05-98c1f48cb067",
   "metadata": {},
   "outputs": [
    {
     "name": "stdout",
     "output_type": "stream",
     "text": []
    }
   ],
   "source": [
    "write L2R1.nil 1500 : dom 1000: property nilpotent S7? : F : read stable : L2R1 "
   ]
  },
  {
   "cell_type": "code",
   "execution_count": 6,
   "id": "eec8332e-bf34-4a63-a39d-5800adae0b57",
   "metadata": {},
   "outputs": [
    {
     "name": "stdout",
     "output_type": "stream",
     "text": [
      " (with and:◎) \n",
      " (with bool:◎) \n",
      " (with count:◎) \n",
      " (with float_max:◎) \n",
      " (with float_min:◎) \n",
      " (with float_prod:◎) \n",
      " (with float_sort:◎) \n",
      " (with float_sum:◎) \n",
      " (with iff:◎) \n",
      " (with imply:◎) \n",
      " (with int_max:◎) \n",
      " (with int_min:◎) \n",
      " (with int_prod:◎) \n",
      " (with int_sort:◎) \n",
      " (with int_sum:◎) \n",
      " (with nand:◎) \n",
      " (with nat_max:◎) \n",
      " (with nat_min:◎) \n",
      " (with nat_prod:◎) \n",
      " (with nat_sort:◎) \n",
      " (with nat_sum:◎) \n",
      " (with nor:◎) \n",
      " (with not:◎) \n",
      " (with stick:◎) \n",
      " (with text_sort:◎) \n",
      " (with xnor:◎) \n",
      " (with xor:◎) \n",
      " (with is bin:◎) \n",
      " (with is a:◎) \n",
      " (with is b:◎) \n",
      " (with is 1:◎) \n"
     ]
    }
   ],
   "source": [
    "tab : ap {nif (right:B):B} : read stable : L2R1.nil "
   ]
  },
  {
   "cell_type": "code",
   "execution_count": 10,
   "id": "13b045ce-e5b0-4d2d-b0cf-2b62ce300d31",
   "metadata": {},
   "outputs": [
    {
     "name": "stdout",
     "output_type": "stream",
     "text": [
      "(with rev:◎) (with pass:) (with null:) (with is a:)"
     ]
    }
   ],
   "source": [
    "dom 1000 : property idempotent S7? : (:rev) (:pass) (:null) (:is a)"
   ]
  },
  {
   "cell_type": "code",
   "execution_count": null,
   "id": "9242c4aa-8e08-427e-9d90-8d6c60b46d53",
   "metadata": {},
   "outputs": [],
   "source": []
  }
 ],
 "metadata": {
  "kernelspec": {
   "display_name": "coda",
   "language": "",
   "name": "coda"
  },
  "language_info": {
   "file_extension": ".co",
   "mimetype": "text/plain",
   "name": "Any text"
  }
 },
 "nbformat": 4,
 "nbformat_minor": 5
}
