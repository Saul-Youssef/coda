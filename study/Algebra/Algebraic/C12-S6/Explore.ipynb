{
 "cells": [
  {
   "cell_type": "code",
   "execution_count": 1,
   "id": "f14cc4aa-8e1e-4203-a5b6-bc3dfc7d5c89",
   "metadata": {},
   "outputs": [
    {
     "name": "stdout",
     "output_type": "stream",
     "text": [
      "(defaultTime:1000)"
     ]
    }
   ],
   "source": [
    "defaultTime:1000"
   ]
  },
  {
   "cell_type": "code",
   "execution_count": 2,
   "id": "25d00726-09af-45f9-aada-742e47d79c9e",
   "metadata": {},
   "outputs": [
    {
     "name": "stdout",
     "output_type": "stream",
     "text": []
    }
   ],
   "source": [
    "import : dir co : up : up : up : ."
   ]
  },
  {
   "cell_type": "code",
   "execution_count": 3,
   "id": "29570d7d-ee4f-4c57-88ea-55ca66f3b1f7",
   "metadata": {},
   "outputs": [
    {
     "name": "stdout",
     "output_type": "stream",
     "text": [
      "◎ (:0) (:1) (:2) (:0 0) (:0 1) (:0 2) (:1 0) (:1 1) (:1 2) (:2 0) (:2 1) (:2 2) (:0 0 0) (:0 0 1) (:0 1 0) (:0 1 1) (:1 0 0) (:1 0 1) (:1 1 0) (:1 1 1) (:1 2 a b)"
     ]
    }
   ],
   "source": [
    "S5?"
   ]
  },
  {
   "cell_type": "code",
   "execution_count": 4,
   "id": "7dd4cd60-d16b-43e9-92dd-4a25d66fe484",
   "metadata": {},
   "outputs": [
    {
     "name": "stdout",
     "output_type": "stream",
     "text": [
      "(:a) (:b) (:1 2) (:-1 2) ◎ (:1) (:2) (:bin) (:(bin a:x)) (:(bin b:y))"
     ]
    }
   ],
   "source": [
    "S6?"
   ]
  },
  {
   "cell_type": "code",
   "execution_count": 5,
   "id": "6b17fb15-6f79-44f0-a9cb-9fbcc8226190",
   "metadata": {},
   "outputs": [
    {
     "name": "stdout",
     "output_type": "stream",
     "text": [
      "(:a) (:b) (:1 2) (:-1 2) (:(:-1) (:1)) (:(:1) (:-1)) ◎ (:1) (:2) (:bin) (:(bin a:x)) (:(bin b:y))"
     ]
    }
   ],
   "source": [
    "S7?"
   ]
  },
  {
   "cell_type": "code",
   "execution_count": 9,
   "id": "0051735b-9db0-4500-ba78-edb672eb7308",
   "metadata": {},
   "outputs": [
    {
     "name": "stdout",
     "output_type": "stream",
     "text": [
      " (:and) \n",
      " (:bool) \n",
      " (:count) \n",
      " (:float_max) \n",
      " (:float_min) \n",
      " (:float_prod) \n",
      " (:float_sort) \n",
      " (:float_sum) \n",
      " (:iff) \n",
      " (:imply) \n",
      " (:int_max) \n",
      " (:int_min) \n",
      " (:int_prod) \n",
      " (:int_sort) \n",
      " (:int_sum) \n",
      " (:nand) \n",
      " (:nat_max) \n",
      " (:nat_min) \n",
      " (:nat_prod) \n",
      " (:nat_sort) \n",
      " (:nat_sum) \n",
      " (:nor) \n",
      " (:not) \n",
      " (:stick) \n",
      " (:text_sort) \n",
      " (:xnor) \n",
      " (:xor) \n",
      " (:{get : B} bin) \n",
      " (:{has : B} b) \n",
      " (:{has : B} arg) \n",
      " (:{get : B} hasnt) \n",
      " (:put {get : B}) \n",
      " (:{get : B} prod) \n",
      " (:{get : B} A) \n",
      " (:{has : B}) \n",
      " (:{has : B} has) \n",
      " (:{has : B} A) \n",
      " (:{has : B} plus) \n",
      " (:{get : B} null) \n",
      " (:{has : B} const) \n",
      " (:{get : B} B) \n",
      " (:{get : B} left) \n",
      " (:{get : B} b) \n",
      " (:{has : B} nif) \n",
      " (:{has : B} right) \n",
      " (:{get : B} 0) \n",
      " (:{has : B} get) \n",
      " (:{get : B} if) \n",
      " (:{has : B} a) \n",
      " (:{get : B} star) \n",
      " (:{has : B} put) \n",
      " (:{get : B} nif) \n",
      " (:{has : B} domain) \n",
      " (:{get : B} get) \n",
      " (:{has : B} sum) \n",
      " (:{has : B} star) \n",
      " (:{has : B} 0) \n",
      " (:{has : B} B) \n",
      " (:{get : B}) \n",
      " (:{get : B} right) \n",
      " (:{get : B} a) \n",
      " (:{has : B} isnt) \n",
      " (:{has : B} null) \n",
      " (:{get : B} arg) \n",
      " (:{get : B} sum) \n",
      " (:{get : B} pass) \n",
      " (:{has : B} hasnt) \n",
      " (:{has : B} bin) \n",
      " (:{get : B} has) \n",
      " (:{get : B} put) \n",
      " (:{get : B} domain) \n",
      " (:{get : B} const) \n",
      " (:{has : B} pass) \n",
      " (:{has : B} if) \n",
      " (:{get : B} 1) \n",
      " (:{has : B} prod) \n",
      " (:{get : B} plus) \n",
      " (:{get : B} isnt) \n",
      " (:{has : B} 1) \n",
      " (:{has : B} left) \n",
      " (:put {has : B}) \n",
      " (:{has : B} is) \n"
     ]
    }
   ],
   "source": [
    "tab : in : algebraic_L3R3_nonnil.can"
   ]
  },
  {
   "cell_type": "code",
   "execution_count": 16,
   "id": "0d2f5bf7-08d2-4987-8ecc-c8d05acd1d05",
   "metadata": {},
   "outputs": [
    {
     "name": "stdout",
     "output_type": "stream",
     "text": [
      " (:count) \n",
      " (:nand) \n",
      " (:not) \n",
      " (:xor) \n"
     ]
    }
   ],
   "source": [
    "tab : in : algebraic_L3R3_nonidem.can"
   ]
  },
  {
   "cell_type": "code",
   "execution_count": 13,
   "id": "9e795d45-8a01-4883-9962-3a72c826cbec",
   "metadata": {},
   "outputs": [
    {
     "name": "stdout",
     "output_type": "stream",
     "text": [
      "(:a) (:b) (:1 2) (:-1 2) (:(:-1) (:1)) (:(:1) (:-1)) ◎ (:1) (:2) (:bin) (:(bin a:x)) (:(bin b:y))"
     ]
    }
   ],
   "source": [
    "S7?"
   ]
  },
  {
   "cell_type": "code",
   "execution_count": 18,
   "id": "efd11bfc-144b-4629-9d71-1835e1656867",
   "metadata": {},
   "outputs": [
    {
     "name": "stdout",
     "output_type": "stream",
     "text": [
      "(with idempotent:) (with idempotent:(bool:(bool:(equal ((:count):((:count):a)):((:count):a))) (bool:(equal ((:count):((:count):b)):((:count):b))))) (with idempotent:(bool:(bool:(equal ((:count):((:count):a)):((:count):a))) (bool:(equal ((:count):((:count):b)):((:count):b)))))"
     ]
    }
   ],
   "source": [
    "do 1000 : spec idempotent (:a) (:b) : count*count "
   ]
  },
  {
   "cell_type": "code",
   "execution_count": 28,
   "id": "3dbf103c-b4fc-42bd-adf3-6ec7bd88c598",
   "metadata": {},
   "outputs": [
    {
     "name": "stdout",
     "output_type": "stream",
     "text": [
      "(with idempotent:)"
     ]
    }
   ],
   "source": [
    "do 1000 : spec idempotent S7? : {nand:nand:B} "
   ]
  },
  {
   "cell_type": "code",
   "execution_count": 29,
   "id": "809a7267-caf5-457b-85d3-bc2f51b9d020",
   "metadata": {},
   "outputs": [
    {
     "name": "stdout",
     "output_type": "stream",
     "text": [
      "(with idempotent:)"
     ]
    }
   ],
   "source": [
    "do 1000 : spec idempotent S7? : {not:not:B} "
   ]
  },
  {
   "cell_type": "code",
   "execution_count": 30,
   "id": "de461ce5-32ba-4b75-bff9-7b7ec7b17d10",
   "metadata": {},
   "outputs": [
    {
     "name": "stdout",
     "output_type": "stream",
     "text": [
      "(with idempotent:)"
     ]
    }
   ],
   "source": [
    "do 1000 : spec idempotent S7? : {xor:xor:B} "
   ]
  },
  {
   "cell_type": "code",
   "execution_count": null,
   "id": "36f25f09-bad8-453f-a79b-33df53827ac9",
   "metadata": {},
   "outputs": [],
   "source": []
  }
 ],
 "metadata": {
  "kernelspec": {
   "display_name": "coda",
   "language": "",
   "name": "coda"
  },
  "language_info": {
   "file_extension": ".co",
   "mimetype": "text/plain",
   "name": "Any text"
  }
 },
 "nbformat": 4,
 "nbformat_minor": 5
}
