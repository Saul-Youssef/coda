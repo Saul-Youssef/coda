{
 "cells": [
  {
   "cell_type": "markdown",
   "id": "b111e744-7326-4abb-bde3-73810d76875a",
   "metadata": {},
   "source": [
    "## Evaluation Control, Scope and Multiprocessing\n",
    "\n",
    "This system is simple in the sense that there is no distinction between \"computation\", \"compilation\", \"execution\",  \"evaluation\" and \"proof\".  All of these merely consist of starting with some data **D** and applying definitions, in any \n",
    "desired order resulting in some new data **D'**.  For example, when you type some language text like **rev : a b c** in a cell or in the interpreter, this creates data \n",
    "\n",
    "* ({rev : a b c} :)\n",
    "\n",
    "Standard evaluation results in \n",
    "\n",
    "* c b a \n",
    "\n",
    "This is simulataneously:\n",
    "\n",
    "1. Computation of the reverse of the sequence *a, b, c*. \n",
    "2. Compilation of the language expression *rev : a b c*.\n",
    "3. Execution or evaluation of the data *({rev : a b c}:)*.\n",
    "4. Proof that *rev : a b c* is equal to *c b a*.\n",
    "\n",
    "Examples of how to view and control the evaluation process follow below. "
   ]
  },
  {
   "cell_type": "code",
   "execution_count": 3,
   "id": "39656e05-a7a0-4560-bd53-79eaaaf798a3",
   "metadata": {},
   "outputs": [
    {
     "name": "stdout",
     "output_type": "stream",
     "text": [
      "c b a"
     ]
    }
   ],
   "source": [
    "#\n",
    "#   first let's do the example above \n",
    "#\n",
    "rev : a b c "
   ]
  },
  {
   "cell_type": "code",
   "execution_count": 4,
   "id": "a18bec3b-1e0b-484c-8433-c37dde35da1a",
   "metadata": {},
   "outputs": [
    {
     "name": "stdout",
     "output_type": "stream",
     "text": [
      "c b a"
     ]
    }
   ],
   "source": [
    "#\n",
    "#   As advertised, this is the same as \n",
    "#\n",
    "{rev : a b c}:"
   ]
  },
  {
   "cell_type": "code",
   "execution_count": 5,
   "id": "a1fa1c2f-1970-4e05-8893-6bd46d30f7c8",
   "metadata": {},
   "outputs": [
    {
     "name": "stdout",
     "output_type": "stream",
     "text": [
      "[1] (({rev }:):({ a b c}:))\n",
      "[2] (rev:({a b c}:))\n",
      "[3] (rev:({a}:) ({b c}:))\n",
      "[4] (rev:({b c}:)) (rev:({a}:))\n",
      "[5] (rev:({b}:) ({c}:)) (rev:a)\n",
      "[6] (rev:({c}:)) (rev:({b}:)) a\n",
      "[7] (rev:c) (rev:b) a\n",
      "[8] c b a\n",
      "[9] c b a"
     ]
    }
   ],
   "source": [
    "#\n",
    "#   You can watch the evaluation process step by step\n",
    "#\n",
    "step : rev : a b c "
   ]
  },
  {
   "cell_type": "code",
   "execution_count": 9,
   "id": "067a6cd3-74bc-4865-9d45-2b3ac5065197",
   "metadata": {},
   "outputs": [
    {
     "name": "stdout",
     "output_type": "stream",
     "text": [
      "0\n",
      "0"
     ]
    }
   ],
   "source": [
    "#  \n",
    "#   Each item in the list above is a step in the computation.\n",
    "#   We can verify that each of the steps are equal.\n",
    "#\n",
    "count : (rev:({a}:) ({b c}:)) = (rev : a b c)\n",
    "count : (rev:({a}:) ({b c}:)) = c b a "
   ]
  },
  {
   "cell_type": "markdown",
   "id": "1b5479e3-ad6f-45ce-a15c-e79a5dbb0733",
   "metadata": {},
   "source": [
    "As you know from previous tutorials, data does not always reach a fixed point where all codas are atomic.  A simple example is the natural numbers, represented by \n",
    "\n",
    "* (nat:0) = 0 (nat:1) = 0 1 2 3 4 5 (nat:6)...etc.\n",
    "\n",
    "So (nat:0) is not equal to any finite sequence of atoms.  The issue here is how to control how much (nat:0) gets evaluated?\n",
    "\n",
    "The most natural way to control evaluation is to specify a maximum amount of time you want to wait for an answer..."
   ]
  },
  {
   "cell_type": "code",
   "execution_count": 12,
   "id": "122c8c3a-6443-457d-b16c-6e77bb3aa19d",
   "metadata": {},
   "outputs": [
    {
     "name": "stdout",
     "output_type": "stream",
     "text": [
      "0 1 2 3 4 5 6 7 8 9 10 11 12 13 14 15 16 17 18 19 20 21 22 23 24 25 26 27 28 29 30 31 32 33 34 35 36 37 38 39 40 41 42 43 44 45 46 47 (nat:48)"
     ]
    }
   ],
   "source": [
    "#\n",
    "#   In the notebook or interpreter evaluation is done up to a maximum time limit and using up \n",
    "#   to a maximum amount of memory.  The notebook starts with some default, so that (nat:0) \n",
    "#   evaluates partially.\n",
    "#\n",
    "nat:0"
   ]
  },
  {
   "cell_type": "code",
   "execution_count": 19,
   "id": "ffc12796-0a5f-4bb8-96d3-2df2254ec787",
   "metadata": {},
   "outputs": [
    {
     "name": "stdout",
     "output_type": "stream",
     "text": [
      "(defaultTime:0.1)"
     ]
    }
   ],
   "source": [
    "#\n",
    "#   The simplest way to control this is to change the default maximum time like so.\n",
    "#\n",
    "defaultTime : 0.1 "
   ]
  },
  {
   "cell_type": "code",
   "execution_count": 13,
   "id": "a80d2106-2c00-4e91-a0c8-d1d67ff01a0b",
   "metadata": {},
   "outputs": [
    {
     "name": "stdout",
     "output_type": "stream",
     "text": [
      "0 1 2 3 4 5 6 7 8 9 10 11 12 13 14 15 16 17 18 19 20 21 22 23 24 25 26 27 28 29 30 31 32 33 34 35 36 37 38 39 40 41 42 43 44 45 46 47 (nat:48)"
     ]
    }
   ],
   "source": [
    "nat:0"
   ]
  },
  {
   "cell_type": "code",
   "execution_count": 20,
   "id": "39d55d2e-1889-4e92-a77b-14c4e3d6fe37",
   "metadata": {},
   "outputs": [
    {
     "name": "stdout",
     "output_type": "stream",
     "text": [
      "0 1 2 3 4 5 6 7 8 9 10 11 12 13 14 15 16 17 18 19 20 21 22 23 24 25 26 27 28 29 30 31 32 33 34 35 36 37 38 39 40 41 42 43 44 45 46 47 48 49 50 51 52 53 54 55 56 57 58 59 60 61 62 63 64 65 66 67 68 69 70 71 72 73 74 75 76 77 78 79 80 81 82 83 84 85 (nat:86)"
     ]
    }
   ],
   "source": [
    "eval 0.2 : nat:0 "
   ]
  },
  {
   "cell_type": "code",
   "execution_count": 21,
   "id": "055528d8-d7d6-47e6-b843-500e62df1925",
   "metadata": {},
   "outputs": [
    {
     "name": "stdout",
     "output_type": "stream",
     "text": [
      "0 1 2 3 4 5 6 7 8 9 10 11 12 13 14 15 16 17 18 19 20 21 22 23 24 25 26 27 28 29 30 31 32 33 34 35 36 37 38 39 40 41 42 43 44 45 46 47 48 49 50 51 52 53 54 55 56 57 58 59 60 61 62 63 64 65 66 67 68 69 70 71 72 73 74 75 76 77 78 79 80 81 82 83 84 85 86 87 88 89 90 91 92 93 94 95 96 97 98 99 100 101 102 103 104 105 106 107 108 109 110 111 112 113 114 115 116 117 118 119 120 121 122 123 124 125 126 127 128 129 130 131 132 133 134 135 136 137 138 139 140 141 142 143 144 145 146 147 148 149 (nat:150)"
     ]
    }
   ],
   "source": [
    "eval 0.3 : nat:0"
   ]
  },
  {
   "cell_type": "code",
   "execution_count": 22,
   "id": "3d674c55-9b05-4957-9f36-2513ba9ae1c4",
   "metadata": {},
   "outputs": [
    {
     "name": "stdout",
     "output_type": "stream",
     "text": [
      "0 1 2 3 4 5 6 7 8 9 10 11 12 13 14 15 16 17 18 19 20 21 22 23 24 25 26 (nat:27)"
     ]
    }
   ],
   "source": [
    "eval 0.000001 : nat:0"
   ]
  },
  {
   "cell_type": "code",
   "execution_count": null,
   "id": "51583b39-4ecc-4ea3-8b2d-c3c452684829",
   "metadata": {},
   "outputs": [],
   "source": []
  },
  {
   "cell_type": "code",
   "execution_count": 23,
   "id": "f1166056-632a-400f-9e39-348edd423eee",
   "metadata": {},
   "outputs": [
    {
     "name": "stdout",
     "output_type": "stream",
     "text": [
      "(with:({nat : 0}:))"
     ]
    }
   ],
   "source": [
    "with : nat : 0"
   ]
  },
  {
   "cell_type": "code",
   "execution_count": 24,
   "id": "80eb64c0-15f2-4311-a934-3060b2ce116d",
   "metadata": {},
   "outputs": [
    {
     "name": "stdout",
     "output_type": "stream",
     "text": [
      "(with:0 1 2 3 4 5 6 7 8 9 10 11 12 13 14 15 16 17 18 19 20 21 22 23 24 25 26 27 28 29 30 31 32 33 34 35 36 37 38 39 40 41 42 43 44 45 46 47 48 (nat:49))"
     ]
    }
   ],
   "source": [
    "do 0.1 : with : nat : 0 "
   ]
  },
  {
   "cell_type": "code",
   "execution_count": 26,
   "id": "667dde4e-da6a-46c6-886e-c0257d90889f",
   "metadata": {},
   "outputs": [
    {
     "name": "stdout",
     "output_type": "stream",
     "text": [
      "(int_sum:(x:) (x:))"
     ]
    }
   ],
   "source": [
    "int_sum : x? x?"
   ]
  },
  {
   "cell_type": "code",
   "execution_count": 27,
   "id": "4011f7f7-f7be-4e44-9e56-990ec940d4d9",
   "metadata": {
    "tags": []
   },
   "outputs": [
    {
     "name": "stdout",
     "output_type": "stream",
     "text": [
      "(with (({def} x:5) ({A} x:5):({{A} B} x:5)):({int_sum : x? x?}:))"
     ]
    }
   ],
   "source": [
    "with (let x:5) : int_sum : x? x? "
   ]
  },
  {
   "cell_type": "code",
   "execution_count": 30,
   "id": "8c4ecf45-70bb-4889-a3ea-b9c6742c0fd1",
   "metadata": {},
   "outputs": [
    {
     "name": "stdout",
     "output_type": "stream",
     "text": [
      "(defaultTime:10)"
     ]
    }
   ],
   "source": [
    "defaultTime:10"
   ]
  },
  {
   "cell_type": "code",
   "execution_count": 31,
   "id": "0fb8df01-c7de-45f2-b288-8f18a3de8eba",
   "metadata": {},
   "outputs": [
    {
     "name": "stdout",
     "output_type": "stream",
     "text": [
      "(with (def x:{A} 5):10)"
     ]
    }
   ],
   "source": [
    "do 1 : with (let x:5) : int_sum : x? x? "
   ]
  },
  {
   "cell_type": "code",
   "execution_count": 32,
   "id": "387308cc-9025-4561-a868-47d666fbd8d7",
   "metadata": {},
   "outputs": [
    {
     "name": "stdout",
     "output_type": "stream",
     "text": [
      "(x:)"
     ]
    }
   ],
   "source": [
    "x?"
   ]
  },
  {
   "cell_type": "code",
   "execution_count": 33,
   "id": "ff732a4d-e2bc-4855-baa4-511490238692",
   "metadata": {},
   "outputs": [
    {
     "name": "stdout",
     "output_type": "stream",
     "text": [
      "(with:0 1 2 3 4 5 6 7 8 9 10 11 12 13 14 15 16 17 18 19 20 21 22 23 24 25 26 27 28 29 30 31 32 33 34 35 36 37 38 39 40 41 42 43 44 45 46 47 48 49 50 51 52 53 54 55 56 57 58 (nat:59))"
     ]
    }
   ],
   "source": [
    "multi 0.1 : (with:nat:0) "
   ]
  },
  {
   "cell_type": "code",
   "execution_count": 34,
   "id": "d85d6f27-1434-42a5-983d-ecf7fbe77cf2",
   "metadata": {},
   "outputs": [
    {
     "name": "stdout",
     "output_type": "stream",
     "text": [
      "(with:0 1 2 3 4 5 6 7 8 9 10 11 12 13 14 15 16 17 18 19 20 21 22 23 24 25 26 27 28 29 30 31 32 33 34 35 36 37 38 39 40 41 42 43 44 45 46 47 48 49 50 51 52 53 (nat:54)) (with:0 1 2 3 4 5 6 7 8 9 10 11 12 13 14 15 16 17 18 19 20 21 22 23 24 25 26 27 28 29 30 31 32 33 34 35 36 37 38 39 40 41 42 43 44 45 46 47 48 49 50 51 52 53 (nat:54))"
     ]
    }
   ],
   "source": [
    "multi 0.1 : (with:nat:0) (with:nat:0)"
   ]
  },
  {
   "cell_type": "code",
   "execution_count": null,
   "id": "114d573d-47d2-433f-a824-2143c6b385cb",
   "metadata": {},
   "outputs": [],
   "source": []
  }
 ],
 "metadata": {
  "kernelspec": {
   "display_name": "coda",
   "language": "",
   "name": "coda"
  },
  "language_info": {
   "file_extension": ".co",
   "mimetype": "text/plain",
   "name": "Any text"
  }
 },
 "nbformat": 4,
 "nbformat_minor": 5
}
