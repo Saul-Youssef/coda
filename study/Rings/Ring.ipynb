{
 "cells": [
  {
   "cell_type": "code",
   "execution_count": 1,
   "id": "cb1a2373-f61c-4874-b327-955f9380f958",
   "metadata": {},
   "outputs": [
    {
     "name": "stdout",
     "output_type": "stream",
     "text": []
    }
   ],
   "source": [
    "def ring : {ap ap2 A : B}"
   ]
  },
  {
   "cell_type": "code",
   "execution_count": 2,
   "id": "08f77849-af60-47f8-ab0b-5e3ca6e733cd",
   "metadata": {},
   "outputs": [
    {
     "name": "stdout",
     "output_type": "stream",
     "text": [
      "(a b:1) (a b:2) (a b:3)"
     ]
    }
   ],
   "source": [
    "ring a b : 1 2 3 "
   ]
  },
  {
   "cell_type": "code",
   "execution_count": null,
   "id": "3ccea700-79da-41ff-b7cb-6172e3c34095",
   "metadata": {},
   "outputs": [],
   "source": []
  }
 ],
 "metadata": {
  "kernelspec": {
   "display_name": "coda",
   "language": "",
   "name": "coda"
  },
  "language_info": {
   "file_extension": ".co",
   "mimetype": "text/plain",
   "name": "Any text"
  }
 },
 "nbformat": 4,
 "nbformat_minor": 5
}
