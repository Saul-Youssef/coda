{
 "cells": [
  {
   "cell_type": "code",
   "execution_count": 1,
   "id": "3875258a-0476-4bbb-8b7f-534875cb97d6",
   "metadata": {},
   "outputs": [
    {
     "name": "stdout",
     "output_type": "stream",
     "text": [
      "((Sum:𝝞) 𝝞:1 2 3)"
     ]
    }
   ],
   "source": [
    "sum n : 1 2 3 "
   ]
  },
  {
   "cell_type": "code",
   "execution_count": 2,
   "id": "5bb3ac37-b2ca-42de-8b46-da29012ed581",
   "metadata": {},
   "outputs": [
    {
     "name": "stdout",
     "output_type": "stream",
     "text": [
      "((Sum:𝝞) 𝝞:1 2 3)"
     ]
    }
   ],
   "source": [
    "sum int : 1 2 3 "
   ]
  },
  {
   "cell_type": "code",
   "execution_count": 3,
   "id": "b338c1ef-1dad-40c6-8722-66da6de78026",
   "metadata": {},
   "outputs": [
    {
     "name": "stdout",
     "output_type": "stream",
     "text": [
      "(n:6)"
     ]
    }
   ],
   "source": [
    "sum : n? : 1 2 3 "
   ]
  },
  {
   "cell_type": "code",
   "execution_count": 4,
   "id": "4b8aa97a-b104-4ffd-8f44-40961e2932f7",
   "metadata": {},
   "outputs": [
    {
     "name": "stdout",
     "output_type": "stream",
     "text": [
      "(int:-28)"
     ]
    }
   ],
   "source": [
    "sum : int? : 1 2 3 -34"
   ]
  },
  {
   "cell_type": "code",
   "execution_count": null,
   "id": "72bdd93e-cf53-411c-a087-4b3090667303",
   "metadata": {},
   "outputs": [],
   "source": []
  }
 ],
 "metadata": {
  "kernelspec": {
   "display_name": "coda",
   "language": "",
   "name": "coda"
  },
  "language_info": {
   "file_extension": ".co",
   "mimetype": "text/plain",
   "name": "Any text"
  }
 },
 "nbformat": 4,
 "nbformat_minor": 5
}
