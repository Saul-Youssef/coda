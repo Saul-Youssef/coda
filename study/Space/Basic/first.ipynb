{
 "cells": [
  {
   "cell_type": "markdown",
   "id": "d9099d8a-0a11-433c-acf7-46933fb66ed0",
   "metadata": {},
   "source": [
    "| Space | Elements | Operation | Space | Simple | Idempotent | Distributive | Distributive 2 | Commutative | Involution | Nilpotent | Semilattice | \n",
    "|-------|----------|-----------|-----:|-------:|-----------:|-------------:|--------:|------------:|-----------:|----------:|----------:|\n",
    "| first | single atoms | get the first atom | Y | Y | Y | N | Y | N | N | N | Y |\n"
   ]
  },
  {
   "cell_type": "code",
   "execution_count": 1,
   "id": "8baab4c2-c98e-4c25-8152-68fd2cbbb730",
   "metadata": {},
   "outputs": [
    {
     "name": "stdout",
     "output_type": "stream",
     "text": [
      "2 3"
     ]
    }
   ],
   "source": [
    "tail : 1 2 3 "
   ]
  },
  {
   "cell_type": "code",
   "execution_count": 1,
   "id": "b406fce7-9789-4e46-856a-38076b2c707c",
   "metadata": {
    "collapsed": true,
    "jupyter": {
     "outputs_hidden": true
    },
    "tags": []
   },
   "outputs": [
    {
     "name": "stdout",
     "output_type": "stream",
     "text": []
    }
   ],
   "source": [
    "import : dir co : up : ."
   ]
  },
  {
   "cell_type": "code",
   "execution_count": 2,
   "id": "ccb4cdb1-92db-4c29-97b3-5c1210f6fae9",
   "metadata": {
    "collapsed": true,
    "jupyter": {
     "outputs_hidden": true
    },
    "tags": []
   },
   "outputs": [
    {
     "name": "stdout",
     "output_type": "stream",
     "text": []
    }
   ],
   "source": [
    "Def OP : {first:B} "
   ]
  },
  {
   "cell_type": "code",
   "execution_count": 3,
   "id": "6880145e-a347-415d-a675-b7c34df9ac08",
   "metadata": {
    "collapsed": true,
    "jupyter": {
     "outputs_hidden": true,
     "source_hidden": true
    },
    "tags": []
   },
   "outputs": [
    {
     "name": "stdout",
     "output_type": "stream",
     "text": [
      "0\n",
      "0\n",
      "16\n",
      "0\n",
      "0\n",
      "3\n",
      "4\n",
      "0"
     ]
    }
   ],
   "source": [
    "count : theorem (simple:        OP) : S1?\n",
    "count : theorem (idempotent:    OP) : S1?\n",
    "count : theorem (distributive:  OP) : S1?\n",
    "count : theorem (distributive2: OP) : S1?\n",
    "count : theorem (commutative:   OP) : S1? \n",
    "count : theorem (involution:    OP) : S1? \n",
    "count : theorem (nilpotent:     OP) : S1? \n",
    "count : theorem (semilattice:   OP) : S1?"
   ]
  },
  {
   "cell_type": "code",
   "execution_count": 4,
   "id": "42c32a9f-3c9b-4769-9d40-883ffc7f4f9a",
   "metadata": {
    "tags": []
   },
   "outputs": [
    {
     "name": "stdout",
     "output_type": "stream",
     "text": [
      "0\n",
      "0\n",
      "4096\n",
      "0\n",
      "3584\n",
      "64\n",
      "64\n",
      "0"
     ]
    }
   ],
   "source": [
    "count : theorem (simple:        OP) : S2?\n",
    "count : theorem (idempotent:    OP) : S2?\n",
    "count : theorem (distributive:  OP) : S2?\n",
    "count : theorem (distributive2: OP) : S2?\n",
    "count : theorem (commutative:   OP) : S2? \n",
    "count : theorem (involution:    OP) : S2? \n",
    "count : theorem (nilpotent:     OP) : S2? \n",
    "count : theorem (semilattice:   OP) : S2? "
   ]
  }
 ],
 "metadata": {
  "kernelspec": {
   "display_name": "coda",
   "language": "",
   "name": "coda"
  },
  "language_info": {
   "file_extension": ".co",
   "mimetype": "text/plain",
   "name": "Any text"
  }
 },
 "nbformat": 4,
 "nbformat_minor": 5
}
