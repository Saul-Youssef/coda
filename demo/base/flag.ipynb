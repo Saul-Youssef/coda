{
 "cells": [
  {
   "cell_type": "code",
   "execution_count": 1,
   "id": "077f2082-78ce-4790-b0f4-3338c261c9b5",
   "metadata": {},
   "outputs": [],
   "source": [
    "from base import *"
   ]
  },
  {
   "cell_type": "code",
   "execution_count": 2,
   "id": "e1757657-eaa4-47de-8dfc-73e91d2e143b",
   "metadata": {},
   "outputs": [
    {
     "name": "stdout",
     "output_type": "stream",
     "text": [
      "∅ ∅\n",
      "𝟬 ∅\n",
      "(𝟬) ∅\n",
      "(𝟬𝟬) ∅\n",
      "(a) 𝟬\n",
      "(hello world) 𝟬\n",
      "(first) 𝟬\n",
      "(2) 𝟬\n",
      "(abc) 𝟬\n",
      "((a)(b)(c)) a\n",
      "(((first)(2))abc) (first)\n"
     ]
    }
   ],
   "source": [
    "z = data()\n",
    "a = da('a')\n",
    "b = da('hello world')\n",
    "first = da('first')\n",
    "two = da('2')\n",
    "B = da('a') * da('b') * da('c')\n",
    "C = data(da('a'),da('b'),da('c')) \n",
    "D = data(first,two)|B\n",
    "L = [z,z|z,z|z|z,data(z|z,z|z),a,b,first,two,B,C,D]\n",
    "for l in L: print(str(l),str(l.flag()))"
   ]
  },
  {
   "cell_type": "code",
   "execution_count": 3,
   "id": "00e5b4fe-db99-413f-84fc-a7465a98dd9a",
   "metadata": {},
   "outputs": [
    {
     "name": "stdout",
     "output_type": "stream",
     "text": [
      "(first)\n",
      "(((first)(2)))\n",
      "(abc)\n",
      "['((first))', '((2))']\n"
     ]
    }
   ],
   "source": [
    "a,b = D.split()\n",
    "print(D.flag())\n",
    "print(str(a))\n",
    "print(str(b))\n",
    "print([str(d) for d in D[0].split()])"
   ]
  },
  {
   "cell_type": "code",
   "execution_count": 4,
   "id": "326b9a36-60c8-475f-afab-e9e55f573444",
   "metadata": {},
   "outputs": [
    {
     "data": {
      "text/plain": [
       "True"
      ]
     },
     "execution_count": 4,
     "metadata": {},
     "output_type": "execute_result"
    }
   ],
   "source": [
    "pf = PF(da('first'),lambda A,B:B)\n",
    "pf.domain(D)"
   ]
  },
  {
   "cell_type": "code",
   "execution_count": 5,
   "id": "3a736cc7-4165-4944-b3f8-780cdd9ebbfa",
   "metadata": {},
   "outputs": [
    {
     "data": {
      "text/plain": [
       "'(abc)'"
      ]
     },
     "execution_count": 5,
     "metadata": {},
     "output_type": "execute_result"
    }
   ],
   "source": [
    "str(pf(D))"
   ]
  },
  {
   "cell_type": "code",
   "execution_count": 6,
   "id": "50a084b1-acb5-4855-99f7-17364ee1e73d",
   "metadata": {},
   "outputs": [],
   "source": [
    "a = da('first')\n",
    "b = da('1')\n",
    "c = pf(D)"
   ]
  },
  {
   "cell_type": "code",
   "execution_count": 7,
   "id": "46435020-ba66-4107-a8a3-512d17205059",
   "metadata": {},
   "outputs": [
    {
     "data": {
      "text/plain": [
       "'(((first)(1))abc)'"
      ]
     },
     "execution_count": 7,
     "metadata": {},
     "output_type": "execute_result"
    }
   ],
   "source": [
    "str((a**b)|c)"
   ]
  },
  {
   "cell_type": "code",
   "execution_count": 8,
   "id": "6188a4ce-3cd7-4244-9345-9c471053e232",
   "metadata": {},
   "outputs": [
    {
     "data": {
      "text/plain": [
       "'(((first)(2))abc)'"
      ]
     },
     "execution_count": 8,
     "metadata": {},
     "output_type": "execute_result"
    }
   ],
   "source": [
    "str(D)"
   ]
  },
  {
   "cell_type": "code",
   "execution_count": 9,
   "id": "2e4637cd-2ea2-4936-9c3a-83fc505a52d4",
   "metadata": {},
   "outputs": [
    {
     "data": {
      "text/plain": [
       "'(((first)(1))abc)'"
      ]
     },
     "execution_count": 9,
     "metadata": {},
     "output_type": "execute_result"
    }
   ],
   "source": [
    "str(da('first')**da('1')|c)"
   ]
  },
  {
   "cell_type": "code",
   "execution_count": 10,
   "id": "d0c5afac-083d-4c50-84e5-514ce3d8b791",
   "metadata": {},
   "outputs": [
    {
     "name": "stdout",
     "output_type": "stream",
     "text": [
      "∅ ∅\n"
     ]
    }
   ],
   "source": [
    "for key,value in DEF: print(key,value)"
   ]
  },
  {
   "cell_type": "code",
   "execution_count": 11,
   "id": "34a63ed0-bbf0-4454-8643-130763127fda",
   "metadata": {},
   "outputs": [],
   "source": [
    "import Basic"
   ]
  },
  {
   "cell_type": "code",
   "execution_count": 12,
   "id": "153d14c7-1f50-4b93-bd82-ff0785bcff94",
   "metadata": {},
   "outputs": [],
   "source": [
    "DD = da('first')**da('1')|(da('a')*da('b'))"
   ]
  },
  {
   "cell_type": "code",
   "execution_count": 13,
   "id": "2c7a3e10-488b-48d2-9c4d-5e36327a8c78",
   "metadata": {},
   "outputs": [
    {
     "data": {
      "text/plain": [
       "'(((first)(1))ab)'"
      ]
     },
     "execution_count": 13,
     "metadata": {},
     "output_type": "execute_result"
    }
   ],
   "source": [
    "str(DD)"
   ]
  },
  {
   "cell_type": "code",
   "execution_count": 14,
   "id": "c7875a38-522b-4b1b-aad9-f65b0159e91f",
   "metadata": {},
   "outputs": [
    {
     "data": {
      "text/plain": [
       "3"
      ]
     },
     "execution_count": 14,
     "metadata": {},
     "output_type": "execute_result"
    }
   ],
   "source": [
    "len(DD)"
   ]
  },
  {
   "cell_type": "code",
   "execution_count": 15,
   "id": "03e0c83a-0d80-4c1c-95b0-1ab5fa69ec89",
   "metadata": {},
   "outputs": [
    {
     "data": {
      "text/plain": [
       "'b'"
      ]
     },
     "execution_count": 15,
     "metadata": {},
     "output_type": "execute_result"
    }
   ],
   "source": [
    "str(DD[2])"
   ]
  },
  {
   "cell_type": "code",
   "execution_count": 16,
   "id": "d119f65b-29e9-4b81-9e33-f3aed6ec9f33",
   "metadata": {},
   "outputs": [
    {
     "data": {
      "text/plain": [
       "∅,(pass),(null),(first)"
      ]
     },
     "execution_count": 16,
     "metadata": {},
     "output_type": "execute_result"
    }
   ],
   "source": [
    "DEF"
   ]
  },
  {
   "cell_type": "code",
   "execution_count": 17,
   "id": "44217b87-621a-40de-81e2-1701a33fb7c8",
   "metadata": {},
   "outputs": [
    {
     "data": {
      "text/plain": [
       "'(𝟭∅)'"
      ]
     },
     "execution_count": 17,
     "metadata": {},
     "output_type": "execute_result"
    }
   ],
   "source": [
    "str((z**z)**z)"
   ]
  },
  {
   "cell_type": "code",
   "execution_count": 18,
   "id": "b5296a35-c0cc-49c9-8091-8400a924cc8b",
   "metadata": {},
   "outputs": [
    {
     "data": {
      "text/plain": [
       "'𝟬'"
      ]
     },
     "execution_count": 18,
     "metadata": {},
     "output_type": "execute_result"
    }
   ],
   "source": [
    "str(da('a').flag())"
   ]
  },
  {
   "cell_type": "code",
   "execution_count": 19,
   "id": "20c15cc6-40d0-4c94-8062-58d281d26efe",
   "metadata": {},
   "outputs": [],
   "source": [
    "a = da('a')"
   ]
  },
  {
   "cell_type": "code",
   "execution_count": 20,
   "id": "41749dc8-d3c2-4255-aa50-d0c2a007cb38",
   "metadata": {},
   "outputs": [
    {
     "data": {
      "text/plain": [
       "'𝟬'"
      ]
     },
     "execution_count": 20,
     "metadata": {},
     "output_type": "execute_result"
    }
   ],
   "source": [
    "str(a.flag())"
   ]
  },
  {
   "cell_type": "code",
   "execution_count": 21,
   "id": "37ebd454-aa4a-4227-836b-073aae8de231",
   "metadata": {},
   "outputs": [
    {
     "data": {
      "text/plain": [
       "False"
      ]
     },
     "execution_count": 21,
     "metadata": {},
     "output_type": "execute_result"
    }
   ],
   "source": [
    "a.flag() in DEF"
   ]
  },
  {
   "cell_type": "code",
   "execution_count": 22,
   "id": "d3b1a259-e122-443b-9a8a-e37b75d38c0a",
   "metadata": {},
   "outputs": [
    {
     "data": {
      "text/plain": [
       "(())"
      ]
     },
     "execution_count": 22,
     "metadata": {},
     "output_type": "execute_result"
    }
   ],
   "source": [
    "a.flag()"
   ]
  },
  {
   "cell_type": "code",
   "execution_count": 23,
   "id": "5ad74681-36a0-44d6-98e2-df48a0d94848",
   "metadata": {},
   "outputs": [
    {
     "data": {
      "text/plain": [
       "False"
      ]
     },
     "execution_count": 23,
     "metadata": {},
     "output_type": "execute_result"
    }
   ],
   "source": [
    "a.flag() in DEF._definitions"
   ]
  },
  {
   "cell_type": "code",
   "execution_count": 24,
   "id": "d9f4c5a3-2a4a-4f45-b737-def054291a51",
   "metadata": {},
   "outputs": [
    {
     "data": {
      "text/plain": [
       "True"
      ]
     },
     "execution_count": 24,
     "metadata": {},
     "output_type": "execute_result"
    }
   ],
   "source": [
    "data() in DEF._definitions"
   ]
  },
  {
   "cell_type": "code",
   "execution_count": 25,
   "id": "8e65c507-751d-49dd-ae95-bbf69f10b66a",
   "metadata": {},
   "outputs": [
    {
     "data": {
      "text/plain": [
       "True"
      ]
     },
     "execution_count": 25,
     "metadata": {},
     "output_type": "execute_result"
    }
   ],
   "source": [
    "data() in DEF"
   ]
  },
  {
   "cell_type": "code",
   "execution_count": null,
   "id": "9ffe2713-3f21-4fe6-b6ec-0de160ba7878",
   "metadata": {},
   "outputs": [],
   "source": []
  }
 ],
 "metadata": {
  "kernelspec": {
   "display_name": "Python 3 (ipykernel)",
   "language": "python",
   "name": "python3"
  },
  "language_info": {
   "codemirror_mode": {
    "name": "ipython",
    "version": 3
   },
   "file_extension": ".py",
   "mimetype": "text/x-python",
   "name": "python",
   "nbconvert_exporter": "python",
   "pygments_lexer": "ipython3",
   "version": "3.10.7"
  }
 },
 "nbformat": 4,
 "nbformat_minor": 5
}
