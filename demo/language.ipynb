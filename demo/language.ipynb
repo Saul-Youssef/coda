{
 "cells": [
  {
   "cell_type": "code",
   "execution_count": 1,
   "id": "96c7cec9-46d2-4cb4-afcd-77bf199aa816",
   "metadata": {},
   "outputs": [],
   "source": [
    "from base import *\n",
    "import Code"
   ]
  },
  {
   "cell_type": "code",
   "execution_count": 2,
   "id": "e076e080-6c2a-4b3b-9421-525d2ced5adb",
   "metadata": {},
   "outputs": [],
   "source": [
    "front = '{rev:A B}'\n",
    "a = da('1')\n",
    "b = da('2')\n",
    "L = [Code.byte(f) for f in front]\n"
   ]
  },
  {
   "cell_type": "code",
   "execution_count": 3,
   "id": "656b9558-1358-4922-9469-f4870ac372ef",
   "metadata": {},
   "outputs": [],
   "source": [
    "D = (data(*L)+data(a))|b"
   ]
  },
  {
   "cell_type": "code",
   "execution_count": 4,
   "id": "286432e6-13f7-457f-9c0a-639826dff523",
   "metadata": {},
   "outputs": [
    {
     "name": "stdout",
     "output_type": "stream",
     "text": [
      "({rev:A B}(:1):(:2))\n"
     ]
    }
   ],
   "source": [
    "print(D)"
   ]
  },
  {
   "cell_type": "code",
   "execution_count": 5,
   "id": "11c43278-ee68-45a4-9873-a37673ea23bc",
   "metadata": {},
   "outputs": [
    {
     "name": "stdout",
     "output_type": "stream",
     "text": [
      "{\n",
      "r\n",
      "e\n",
      "v\n",
      ":\n",
      "A\n",
      " \n",
      "B\n",
      "}\n",
      "(:1)\n"
     ]
    }
   ],
   "source": [
    "for x in D.left(): print(x)"
   ]
  },
  {
   "cell_type": "code",
   "execution_count": 6,
   "id": "7debba73-521a-4f5e-a7d7-2604454c5379",
   "metadata": {},
   "outputs": [
    {
     "data": {
      "text/plain": [
       "(:(:)(:(:))(:(:))(:(:))(:(:))(:)(:(:))(:(:)))"
      ]
     },
     "execution_count": 6,
     "metadata": {},
     "output_type": "execute_result"
    }
   ],
   "source": [
    "D.domain()"
   ]
  },
  {
   "cell_type": "code",
   "execution_count": 7,
   "id": "e52ac5f7-cfca-4fb0-a5f0-89077c5f949e",
   "metadata": {},
   "outputs": [
    {
     "data": {
      "text/plain": [
       "'{'"
      ]
     },
     "execution_count": 7,
     "metadata": {},
     "output_type": "execute_result"
    }
   ],
   "source": [
    "str(D.domain())"
   ]
  },
  {
   "cell_type": "code",
   "execution_count": 8,
   "id": "5fb1c22b-ff9a-4475-ad4b-f4afa7228be6",
   "metadata": {},
   "outputs": [
    {
     "data": {
      "text/plain": [
       "'(:1)'"
      ]
     },
     "execution_count": 8,
     "metadata": {},
     "output_type": "execute_result"
    }
   ],
   "source": [
    "import Language \n",
    "code,A = Language.split(D.left())\n",
    "str(A)"
   ]
  },
  {
   "cell_type": "code",
   "execution_count": 9,
   "id": "d317f5eb-07a9-4004-ae1b-91bacbfcf13b",
   "metadata": {
    "jupyter": {
     "source_hidden": true
    },
    "tags": []
   },
   "outputs": [
    {
     "data": {
      "text/plain": [
       "'{rev:A B'"
      ]
     },
     "execution_count": 9,
     "metadata": {},
     "output_type": "execute_result"
    }
   ],
   "source": [
    "code"
   ]
  },
  {
   "cell_type": "code",
   "execution_count": 10,
   "id": "ccdbf936-04e0-4c32-bb56-e9125cb6f99a",
   "metadata": {},
   "outputs": [
    {
     "data": {
      "text/plain": [
       "'({rev:A B}(:1):(:2))'"
      ]
     },
     "execution_count": 10,
     "metadata": {},
     "output_type": "execute_result"
    }
   ],
   "source": [
    "str(D)"
   ]
  },
  {
   "cell_type": "code",
   "execution_count": 14,
   "id": "cf1c8246-9f0e-47e5-8f0e-1c94d06a7013",
   "metadata": {},
   "outputs": [
    {
     "data": {
      "text/plain": [
       "'{'"
      ]
     },
     "execution_count": 14,
     "metadata": {},
     "output_type": "execute_result"
    }
   ],
   "source": [
    "str(D.left().split()[0])"
   ]
  },
  {
   "cell_type": "code",
   "execution_count": 15,
   "id": "8f79b277-72ef-4bae-8850-755506e3f7ca",
   "metadata": {},
   "outputs": [
    {
     "data": {
      "text/plain": [
       "(:(:(:)(:)(:(:))(:(:))(:)(:)(:(:))(:)))"
      ]
     },
     "execution_count": 15,
     "metadata": {},
     "output_type": "execute_result"
    }
   ],
   "source": [
    "D.right()"
   ]
  },
  {
   "cell_type": "code",
   "execution_count": 16,
   "id": "dcf703a9-5a3c-441c-820c-109efd9e1a7a",
   "metadata": {},
   "outputs": [
    {
     "data": {
      "text/plain": [
       "'(:2)'"
      ]
     },
     "execution_count": 16,
     "metadata": {},
     "output_type": "execute_result"
    }
   ],
   "source": [
    "str(D.right())"
   ]
  },
  {
   "cell_type": "code",
   "execution_count": 17,
   "id": "0cc611a1-655d-4608-9a30-2868a4208d2e",
   "metadata": {},
   "outputs": [
    {
     "data": {
      "text/plain": [
       "[, (:{)]"
      ]
     },
     "execution_count": 17,
     "metadata": {},
     "output_type": "execute_result"
    }
   ],
   "source": [
    "CONTEXT"
   ]
  },
  {
   "cell_type": "code",
   "execution_count": null,
   "id": "ffc6e647-5659-46a8-9270-cd74e3f14023",
   "metadata": {},
   "outputs": [],
   "source": []
  }
 ],
 "metadata": {
  "kernelspec": {
   "display_name": "Python 3 (ipykernel)",
   "language": "python",
   "name": "python3"
  },
  "language_info": {
   "codemirror_mode": {
    "name": "ipython",
    "version": 3
   },
   "file_extension": ".py",
   "mimetype": "text/x-python",
   "name": "python",
   "nbconvert_exporter": "python",
   "pygments_lexer": "ipython3",
   "version": "3.10.7"
  }
 },
 "nbformat": 4,
 "nbformat_minor": 5
}
