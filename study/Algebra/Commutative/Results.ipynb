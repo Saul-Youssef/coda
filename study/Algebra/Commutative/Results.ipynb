{
 "cells": [
  {
   "cell_type": "code",
   "execution_count": 1,
   "id": "db3e6f90-fda1-4f25-8b0a-d2854c011665",
   "metadata": {},
   "outputs": [
    {
     "name": "stdout",
     "output_type": "stream",
     "text": []
    }
   ],
   "source": [
    "Let Candidates : ap in : Candidates-500 Candidates-500-300 Candidates-800-300"
   ]
  },
  {
   "cell_type": "code",
   "execution_count": 2,
   "id": "000a9572-2aa1-457a-ad55-137297ed16d1",
   "metadata": {},
   "outputs": [
    {
     "name": "stdout",
     "output_type": "stream",
     "text": [
      "145"
     ]
    }
   ],
   "source": [
    "count : Candidates?"
   ]
  },
  {
   "cell_type": "code",
   "execution_count": 3,
   "id": "e3ef41e4-f0df-4b12-8c4d-fadb0ba9544a",
   "metadata": {},
   "outputs": [
    {
     "name": "stdout",
     "output_type": "stream",
     "text": []
    }
   ],
   "source": [
    "Def Tab : {(count : B) (ap post <\\n>:arg:B)}"
   ]
  },
  {
   "cell_type": "code",
   "execution_count": 4,
   "id": "9b9e00f8-d409-4677-b5c9-137044962745",
   "metadata": {},
   "outputs": [
    {
     "name": "stdout",
     "output_type": "stream",
     "text": [
      "step> saturated: True, steps used: 5/500, time used: 0.025/36000.000, context: 135, cache: 0\n"
     ]
    }
   ],
   "source": [
    "log : step"
   ]
  },
  {
   "cell_type": "code",
   "execution_count": 5,
   "id": "a610896f-5aa2-488c-b999-2f22463b286c",
   "metadata": {},
   "outputs": [
    {
     "name": "stdout",
     "output_type": "stream",
     "text": [
      "step> saturated: True, steps used: 145/500, time used: 24.681/36000.000, context: 179, cache: 0\n"
     ]
    }
   ],
   "source": [
    "use : coda : source : readpath : dir co : up : up : ."
   ]
  },
  {
   "cell_type": "code",
   "execution_count": 6,
   "id": "065d47b7-eaaa-49e9-9f91-df9d79adf59a",
   "metadata": {},
   "outputs": [
    {
     "name": "stdout",
     "output_type": "stream",
     "text": [
      "step> saturated: True, steps used: 4/500, time used: 0.007/36000.000, context: 179, cache: 0\n",
      "(:a) (:b) (:a b) ◎ (:1) (:2) (:bin) (:(bin a:x)) (:(bin b:y))"
     ]
    }
   ],
   "source": [
    "S6?"
   ]
  },
  {
   "cell_type": "code",
   "execution_count": 7,
   "id": "9181a6e4-7441-447a-9f7f-cb37a24b0713",
   "metadata": {},
   "outputs": [
    {
     "name": "stdout",
     "output_type": "stream",
     "text": [
      "step> saturated: True, steps used: 104/500, time used: 755.623/36000.000, context: 180, cache: 0\n"
     ]
    }
   ],
   "source": [
    "Let Class-S0 : classify S0? : Candidates?"
   ]
  },
  {
   "cell_type": "code",
   "execution_count": 8,
   "id": "96a90f49-3659-4a2b-9f6d-1904180c989f",
   "metadata": {},
   "outputs": [
    {
     "name": "stdout",
     "output_type": "stream",
     "text": [
      "step> saturated: True, steps used: 106/500, time used: 1335.293/36000.000, context: 181, cache: 0\n"
     ]
    }
   ],
   "source": [
    "Let Class-S6 : classify S6? : Candidates?"
   ]
  },
  {
   "cell_type": "code",
   "execution_count": 9,
   "id": "09a665e0-801d-42ed-ab37-cad8c8e84f16",
   "metadata": {
    "tags": []
   },
   "outputs": [
    {
     "name": "stdout",
     "output_type": "stream",
     "text": [
      "step> saturated: True, steps used: 44/500, time used: 0.424/36000.000, context: 181, cache: 0\n",
      "14 54 \n",
      " 1 \n",
      " 1 \n",
      " 1 \n",
      " 1 \n",
      " 1 \n",
      " 1 \n",
      " 1 \n",
      " 1 \n",
      " 1 \n",
      " 1 \n",
      " 1 \n",
      " 1 \n",
      " 79 \n"
     ]
    }
   ],
   "source": [
    "Tab : Class-S0?"
   ]
  },
  {
   "cell_type": "code",
   "execution_count": 10,
   "id": "faa80ee7-139b-4f27-a846-a1d61a5bc979",
   "metadata": {
    "tags": []
   },
   "outputs": [
    {
     "name": "stdout",
     "output_type": "stream",
     "text": [
      "step> saturated: True, steps used: 44/500, time used: 0.418/36000.000, context: 181, cache: 0\n",
      "14 54 \n",
      " 1 \n",
      " 1 \n",
      " 1 \n",
      " 1 \n",
      " 1 \n",
      " 1 \n",
      " 1 \n",
      " 1 \n",
      " 1 \n",
      " 1 \n",
      " 1 \n",
      " 1 \n",
      " 79 \n"
     ]
    }
   ],
   "source": [
    "Tab : Class-S6?"
   ]
  },
  {
   "cell_type": "code",
   "execution_count": 14,
   "id": "2e6c3ad2-f385-456c-8134-92acfc3064bc",
   "metadata": {},
   "outputs": [
    {
     "name": "stdout",
     "output_type": "stream",
     "text": [
      "step> saturated: True, steps used: 1/500, time used: 0.000/36000.000, context: 181, cache: 0\n",
      "step> saturated: True, steps used: 1/500, time used: 0.000/36000.000, context: 181, cache: 0\n",
      "step> saturated: True, steps used: 51/1000, time used: 402.392/3600.000, context: 181, cache: 0\n",
      "step> saturated: True, steps used: 1/500, time used: 0.000/36000.000, context: 181, cache: 0\n",
      "step> saturated: True, steps used: 1/500, time used: 0.001/36000.000, context: 181, cache: 0\n",
      "(with:(ap {bin (count:right:B):right:B}:(collect:(bin (ap prod (:put) (:prod (:if {pass : B}) (:get)):(T2:)):(:if {pass : B})) (bin (ap prod (:put) (:prod (:has const) (:get)):(T2:)):(:has const)) (bin (ap prod (:put) (:prod (:null {B : bin}) (:get)):(T2:)):(:null {B : bin})) (bin (ap prod (:put) (:prod (:const {B : plus}) (:get)):(T2:)):(:const {B : plus})) (bin (ap prod (:put) (:prod (:has A) (:get)):(T2:)):(:has A)) (bin (ap prod (:put) (:prod (:has {sum : B}) (:get)):(T2:)):(:has {sum : B})) (bin (ap prod (:put) (:prod (:{sum : B} a) (:get)):(T2:)):(:{sum : B} a)) (bin (ap prod (:put) (:prod (:const {right : B}) (:get)):(T2:)):(:const {right : B})) (bin (ap prod (:put) (:prod (:get {get B}) (:get)):(T2:)):(:get {get B})) (bin (ap prod (:put) (:prod (:const {const B}) (:get)):(T2:)):(:const {const B})) (bin (ap prod (:put) (:prod (:{is : B} star) (:get)):(T2:)):(:{is : B} star)) (bin (ap prod (:put) (:prod (:null {B : pass}) (:get)):(T2:)):(:null {B : pass})) (bin (ap prod (:put) (:prod (:const {B sum}) (:get)):(T2:)):(:const {B sum})) (bin (ap prod (:put) (:prod (:{nif : B} null) (:get)):(T2:)):(:{nif : B} null)) (bin (ap prod (:put) (:prod (:if {0 B}) (:get)):(T2:)):(:if {0 B})) (bin (ap prod (:put) (:prod (:get {B if}) (:get)):(T2:)):(:get {B if})) (bin (ap prod (:put) (:prod (:const hasnt) (:get)):(T2:)):(:const hasnt)) (bin (ap prod (:put) (:prod (:null {prod B}) (:get)):(T2:)):(:null {prod B})) (bin (ap prod (:put) (:prod (:{sum : B} bin) (:get)):(T2:)):(:{sum : B} bin)) (bin (ap prod (:put) (:prod (:null {B : left}) (:get)):(T2:)):(:null {B : left})) (bin (ap prod (:put) (:prod (:get arg) (:get)):(T2:)):(:get arg)) (bin (ap prod (:put) (:prod (:has {B domain}) (:get)):(T2:)):(:has {B domain})) (bin (ap prod (:put) (:prod (:const null) (:get)):(T2:)):(:const null)) (bin (ap prod (:put) (:prod (:{is : B} left) (:get)):(T2:)):(:{is : B} left)) (bin (ap prod (:put) (:prod (:{is : B} 0) (:get)):(T2:)):(:{is : B} 0)) (bin (ap prod (:put) (:prod (:{get : B} put) (:get)):(T2:)):(:{get : B} put)) (bin (ap prod (:put) (:prod (:{is : B} if) (:get)):(T2:)):(:{is : B} if)) (bin (ap prod (:put) (:prod (:null {plus B}) (:get)):(T2:)):(:null {plus B})) (bin (ap prod (:put) (:prod (:const {B A}) (:get)):(T2:)):(:const {B A})) (bin (ap prod (:put) (:prod (:null {b B}) (:get)):(T2:)):(:null {b B})) (bin (ap prod (:put) (:prod (:{get : B} arg) (:get)):(T2:)):(:{get : B} arg)) (bin (ap prod (:put) (:prod (:get {plus : B}) (:get)):(T2:)):(:get {plus : B})) (bin (ap prod (:put) (:prod (:null 0) (:get)):(T2:)):(:null 0)) (bin (ap prod (:put) (:prod (:has right) (:get)):(T2:)):(:has right)) (bin (ap prod (:put) (:prod (:get {0 B}) (:get)):(T2:)):(:get {0 B})) (bin (ap prod (:put) (:prod (:{nif : B} prod) (:get)):(T2:)):(:{nif : B} prod)) (bin (ap prod (:put) (:prod (:if {star B}) (:get)):(T2:)):(:if {star B})) (bin (ap prod (:put) (:prod (:has {get : B}) (:get)):(T2:)):(:has {get : B})) (bin (ap prod (:put) (:prod (:{null : B} get) (:get)):(T2:)):(:{null : B} get)) (bin (ap prod (:put) (:prod (:const {pass : B}) (:get)):(T2:)):(:const {pass : B})) (bin (ap prod (:put) (:prod (:has {A B}) (:get)):(T2:)):(:has {A B})) (bin (ap prod (:put) (:prod (:get {B b}) (:get)):(T2:)):(:get {B b})) (bin (ap prod (:put) (:prod (:has {0 B}) (:get)):(T2:)):(:has {0 B})) (bin (ap prod (:put) (:prod (:{const : B} B) (:get)):(T2:)):(:{const : B} B)) (bin (ap prod (:put) (:prod (:{const : B} 1) (:get)):(T2:)):(:{const : B} 1)) (bin (ap prod (:put) (:prod (:{const : B}) (:get)):(T2:)):(:{const : B})) (bin (ap prod (:put) (:prod (:put {null : B}) (:get)):(T2:)):(:put {null : B})) (bin (ap prod (:put) (:prod (:const {a B}) (:get)):(T2:)):(:const {a B})) (bin (ap prod (:put) (:prod (:{null : B} isnt) (:get)):(T2:)):(:{null : B} isnt)) (bin (ap prod (:put) (:prod (:{null : B} hasnt) (:get)):(T2:)):(:{null : B} hasnt)) (bin (ap prod (:put) (:prod (:has b) (:get)):(T2:)):(:has b)) (bin (ap prod (:put) (:prod (:const const) (:get)):(T2:)):(:const const)) (bin (ap prod (:put) (:prod (:has {hasnt : B}) (:get)):(T2:)):(:has {hasnt : B})) (bin (ap prod (:put) (:prod (:{has : B} prod) (:get)):(T2:)):(:{has : B} prod)) (bin (ap prod (:put) (:prod (:const {a : B}) (:get)):(T2:)):(:const {a : B})) (bin (ap prod (:put) (:prod (:get domain) (:get)):(T2:)):(:get domain)) (bin (ap prod (:put) (:prod (:{sum : B} B) (:get)):(T2:)):(:{sum : B} B)) (bin (ap prod (:put) (:prod (:get {B : nif}) (:get)):(T2:)):(:get {B : nif})) (bin (ap prod (:put) (:prod (:{get : B} prod) (:get)):(T2:)):(:{get : B} prod)) (bin (ap prod (:put) (:prod (:if prod) (:get)):(T2:)):(:if prod)) (bin (ap prod (:put) (:prod (:has {const B}) (:get)):(T2:)):(:has {const B})) (bin (ap prod (:put) (:prod (:{is : B} hasnt) (:get)):(T2:)):(:{is : B} hasnt)) (bin (ap prod (:put) (:prod (:{sum : B} pass) (:get)):(T2:)):(:{sum : B} pass)) (bin (ap prod (:put) (:prod (:{null : B} pass) (:get)):(T2:)):(:{null : B} pass)) (bin (ap prod (:put) (:prod (:const left) (:get)):(T2:)):(:const left)) (bin (ap prod (:put) (:prod (:has {B plus}) (:get)):(T2:)):(:has {B plus})) (bin (ap prod (:put) (:prod ◎ (:get)):(T2:)):(bin null {star : B}:0)) (bin (ap prod (:put) (:prod ◎ (:get)):(T2:)):(bin null {B domain}:0)) (bin (ap prod (:put) (:prod ◎ (:get)):(T2:)):(bin get {B : pass}:0)) (bin (ap prod (:put) (:prod ◎ (:get)):(T2:)):(bin const isnt:0)) (bin (ap prod (:put) (:prod ◎ (:get)):(T2:)):(bin has {1 B}:0)) (bin (ap prod (:put) (:prod ◎ (:get)):(T2:)):(bin const put:0)) (bin (ap prod (:put) (:prod ◎ (:get)):(T2:)):(bin const {B is}:0)) (bin (ap prod (:put) (:prod ◎ (:get)):(T2:)):(bin has if:0)) (bin (ap prod (:put) (:prod ◎ (:get)):(T2:)):(bin null {is : B}:0)) (bin (ap prod (:put) (:prod ◎ (:get)):(T2:)):(bin has {hasnt : B}:0)) (bin (ap prod (:put) (:prod ◎ (:get)):(T2:)):(bin const {star : B}:0)) (bin (ap prod (:put) (:prod ◎ (:get)):(T2:)):(bin {nif : B} plus:0)) (bin (ap prod (:put) (:prod ◎ (:get)):(T2:)):(bin const {is B}:0)) (bin (ap prod (:put) (:prod ◎ (:get)):(T2:)):(bin null {B bin}:0)) (bin (ap prod (:put) (:prod ◎ (:get)):(T2:)):(bin if {A B}:0)) (bin (ap prod (:put) (:prod ◎ (:get)):(T2:)):(bin {has : B} const:0)) (bin (ap prod (:put) (:prod ◎ (:get)):(T2:)):(bin has {B : get}:0)) (bin (ap prod (:put) (:prod ◎ (:get)):(T2:)):(bin if {B A}:0)) (bin (ap prod (:put) (:prod ◎ (:get)):(T2:)):(bin const {hasnt B}:0)) (bin (ap prod (:put) (:prod ◎ (:get)):(T2:)):(bin {null : B} isnt:0)) (bin (ap prod (:put) (:prod ◎ (:get)):(T2:)):(bin null pass:0)) (bin (ap prod (:put) (:prod ◎ (:get)):(T2:)):(bin null {B has}:0)) (bin (ap prod (:put) (:prod ◎ (:get)):(T2:)):(bin has {B : const}:0)) (bin (ap prod (:put) (:prod ◎ (:get)):(T2:)):(bin if right:0)) (bin (ap prod (:put) (:prod ◎ (:get)):(T2:)):(bin {get : B} nif:0)) (bin (ap prod (:put) (:prod ◎ (:get)):(T2:)):(bin get {B put}:0)) (bin (ap prod (:put) (:prod ◎ (:get)):(T2:)):(bin get hasnt:0)) (bin (ap prod (:put) (:prod ◎ (:get)):(T2:)):(bin {has : B} arg:0)) (bin (ap prod (:put) (:prod ◎ (:get)):(T2:)):(bin has {B : null}:0)) (bin (ap prod (:put) (:prod ◎ (:get)):(T2:)):(bin const {domain B}:0)) (bin (ap prod (:put) (:prod ◎ (:get)):(T2:)):(bin null {B : 0}:0)) (bin (ap prod (:put) (:prod ◎ (:get)):(T2:)):(bin const domain:0)) (bin (ap prod (:put) (:prod ◎ (:get)):(T2:)):(bin get {B right}:0)) (bin (ap prod (:put) (:prod ◎ (:get)):(T2:)):(bin null {B pass}:0)) (bin (ap prod (:put) (:prod ◎ (:get)):(T2:)):(bin if b:0)) (bin (ap prod (:put) (:prod ◎ (:get)):(T2:)):(bin get {B : sum}:0)) (bin (ap prod (:put) (:prod ◎ (:get)):(T2:)):(bin null {B is}:0)) (bin (ap prod (:put) (:prod ◎ (:get)):(T2:)):(bin put {sum : B}:0)) (bin (ap prod (:put) (:prod ◎ (:get)):(T2:)):(bin get {B star}:0)) (bin (ap prod (:put) (:prod ◎ (:get)):(T2:)):(bin has {B b}:0)) (bin (ap prod (:put) (:prod ◎ (:get)):(T2:)):(bin if {B domain}:0)) (bin (ap prod (:put) (:prod ◎ (:get)):(T2:)):(bin has {b B}:0)) (bin (ap prod (:put) (:prod ◎ (:get)):(T2:)):(bin const {B right}:0)) (bin (ap prod (:put) (:prod ◎ (:get)):(T2:)):(bin if {B : is}:0)) (bin (ap prod (:put) (:prod ◎ (:get)):(T2:)):(bin has 1:0)) (bin (ap prod (:put) (:prod ◎ (:get)):(T2:)):(bin null {0 : B}:0)) (bin (ap prod (:put) (:prod ◎ (:get)):(T2:)):(bin get {B is}:0)) (bin (ap prod (:put) (:prod ◎ (:get)):(T2:)):(bin if nif:0)) (bin (ap prod (:put) (:prod ◎ (:get)):(T2:)):(bin has {const B}:0)) (bin (ap prod (:put) (:prod ◎ (:get)):(T2:)):(bin null b:0)) (bin (ap prod (:put) (:prod ◎ (:get)):(T2:)):(bin if hasnt:0)) (bin (ap prod (:put) (:prod ◎ (:get)):(T2:)):(bin null {B plus}:0)) (bin (ap prod (:put) (:prod ◎ (:get)):(T2:)):(bin get {B b}:0)) (bin (ap prod (:put) (:prod ◎ (:get)):(T2:)):(bin const {left : B}:0)) (bin (ap prod (:put) (:prod ◎ (:get)):(T2:)):(bin const {domain : B}:0)) (bin (ap prod (:put) (:prod ◎ (:get)):(T2:)):(bin {get : B} prod:0)) (bin (ap prod (:put) (:prod ◎ (:get)):(T2:)):(bin {const : B} is:0)) (bin (ap prod (:put) (:prod ◎ (:get)):(T2:)):(bin {has : B} domain:0)) (bin (ap prod (:put) (:prod ◎ (:get)):(T2:)):(bin {sum : B} right:0)) (bin (ap prod (:put) (:prod ◎ (:get)):(T2:)):(bin const {B prod}:0)) (bin (ap prod (:put) (:prod ◎ (:get)):(T2:)):(bin null star:0)) (bin (ap prod (:put) (:prod ◎ (:get)):(T2:)):(bin has {B : a}:0)) (bin (ap prod (:put) (:prod ◎ (:get)):(T2:)):(bin {is : B} domain:0)) (bin (ap prod (:put) (:prod ◎ (:get)):(T2:)):(bin get {const : B}:0)) (bin (ap prod (:put) (:prod ◎ (:get)):(T2:)):(bin get {B : isnt}:0)) (bin (ap prod (:put) (:prod ◎ (:get)):(T2:)):(bin if {B : domain}:0)) (bin (ap prod (:put) (:prod ◎ (:get)):(T2:)):(bin if prod:0)) (bin (ap prod (:put) (:prod ◎ (:get)):(T2:)):(bin get {const B}:0)) (bin (ap prod (:put) (:prod ◎ (:get)):(T2:)):(bin null {null B}:0)) (bin (ap prod (:put) (:prod ◎ (:get)):(T2:)):(bin put {const : B}:0)) (bin (ap prod (:put) (:prod ◎ (:get)):(T2:)):(bin if {a : B}:0)) (bin (ap prod (:put) (:prod ◎ (:get)):(T2:)):(bin get {isnt B}:0)) (bin (ap prod (:put) (:prod ◎ (:get)):(T2:)):(bin if {pass B}:0)) (bin (ap prod (:put) (:prod ◎ (:get)):(T2:)):(bin {has : B} prod:0)) (bin (ap prod (:put) (:prod ◎ (:get)):(T2:)):(bin {get : B} pass:0)) (bin (ap prod (:put) (:prod ◎ (:get)):(T2:)):(bin null {if : B}:0)) (bin (ap prod (:put) (:prod ◎ (:get)):(T2:)):(bin {has : B} plus:0)) (bin (ap prod (:put) (:prod ◎ (:get)):(T2:)):(bin if {is : B}:0)) (bin (ap prod (:put) (:prod ◎ (:get)):(T2:)):(bin if {nif B}:0)))))"
     ]
    }
   ],
   "source": [
    "eval 1000 3600 : with : classify T2? : Candidates?"
   ]
  },
  {
   "cell_type": "code",
   "execution_count": 12,
   "id": "d073093d-9d7b-4021-99d7-d32d75b21951",
   "metadata": {},
   "outputs": [
    {
     "name": "stdout",
     "output_type": "stream",
     "text": [
      "step> saturated: True, steps used: 11/500, time used: 0.172/36000.000, context: 181, cache: 0\n",
      "(count:(Class-T2:)) (ap post \n",
      ":(arg:(Class-T2:)))"
     ]
    }
   ],
   "source": [
    "Tab : Class-T2?"
   ]
  },
  {
   "cell_type": "code",
   "execution_count": null,
   "id": "66e01324-31bd-4ae1-8371-0043a6c2578b",
   "metadata": {},
   "outputs": [],
   "source": []
  }
 ],
 "metadata": {
  "kernelspec": {
   "display_name": "coda",
   "language": "",
   "name": "coda"
  },
  "language_info": {
   "file_extension": ".co",
   "mimetype": "text/plain",
   "name": "Any text"
  }
 },
 "nbformat": 4,
 "nbformat_minor": 5
}
