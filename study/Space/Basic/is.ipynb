{
 "cells": [
  {
   "cell_type": "markdown",
   "id": "6a8c5a93-fd8f-4e3e-aa25-23eb4b360e6b",
   "metadata": {},
   "source": [
    "| is 1 2 3 4 |  |\n",
    "|---|---|\n",
    "| Description | Finite sequences of 1,2,3,4's | \n",
    "| Data | Finite sequences of 1,2,3,4 | \n",
    "| Operation | Concatenation, Setoid union | \n",
    "| Simple? | x | \n",
    "| Distributive? | x | \n",
    "| Neutral element? | x | \n",
    "| Endomorphisms | x | "
   ]
  },
  {
   "cell_type": "code",
   "execution_count": 1,
   "id": "97682adb-ce39-4da2-9e04-6852d5b43a8e",
   "metadata": {},
   "outputs": [
    {
     "name": "stdout",
     "output_type": "stream",
     "text": []
    }
   ],
   "source": [
    "import : dir co : up : ."
   ]
  },
  {
   "cell_type": "code",
   "execution_count": 2,
   "id": "3eec9d60-89e6-4049-9c93-a9b1eceb6418",
   "metadata": {},
   "outputs": [
    {
     "name": "stdout",
     "output_type": "stream",
     "text": []
    }
   ],
   "source": [
    "Let OP : {is 1 2 3 4:B} "
   ]
  },
  {
   "cell_type": "code",
   "execution_count": 3,
   "id": "bf144f84-5b94-47aa-937d-7222aefbc374",
   "metadata": {},
   "outputs": [
    {
     "name": "stdout",
     "output_type": "stream",
     "text": [
      "0\n",
      "0\n",
      "0"
     ]
    }
   ],
   "source": [
    "count : theorem (idempotent1:OP?) : S1?\n",
    "count : theorem (distributive1:OP?) : S1?\n",
    "count : theorem (simple:OP?) : S1?"
   ]
  },
  {
   "cell_type": "code",
   "execution_count": 13,
   "id": "b217b548-d004-4e1c-806b-ccfea4cd5c64",
   "metadata": {},
   "outputs": [
    {
     "name": "stdout",
     "output_type": "stream",
     "text": [
      "0\n",
      "0\n",
      "0"
     ]
    }
   ],
   "source": [
    "count : theorem (idempotent1:OP?) : S2?\n",
    "count : theorem (distributive1:OP?) : S2?\n",
    "count : theorem (simple:OP?) : S2?"
   ]
  },
  {
   "cell_type": "code",
   "execution_count": 14,
   "id": "dea9e183-1f20-46ab-ae20-2058fb7c36ee",
   "metadata": {},
   "outputs": [
    {
     "name": "stdout",
     "output_type": "stream",
     "text": [
      "0"
     ]
    }
   ],
   "source": [
    "count : theorem (idempotent2:OP?) : S2?"
   ]
  },
  {
   "cell_type": "code",
   "execution_count": null,
   "id": "12a17d8a-14f3-4d68-8aed-cff9954ef6a0",
   "metadata": {},
   "outputs": [],
   "source": []
  }
 ],
 "metadata": {
  "kernelspec": {
   "display_name": "coda",
   "language": "",
   "name": "coda"
  },
  "language_info": {
   "file_extension": ".co",
   "mimetype": "text/plain",
   "name": "Any text"
  }
 },
 "nbformat": 4,
 "nbformat_minor": 5
}
