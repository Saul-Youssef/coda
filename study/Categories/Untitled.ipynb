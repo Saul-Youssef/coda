{
 "cells": [
  {
   "cell_type": "markdown",
   "id": "1a0e05d6-19ba-40fc-9eb9-3a6b7316cbaf",
   "metadata": {},
   "source": []
  },
  {
   "cell_type": "code",
   "execution_count": 1,
   "id": "aa906343-f176-41c1-bd8a-23d7508f3fae",
   "metadata": {},
   "outputs": [
    {
     "name": "stdout",
     "output_type": "stream",
     "text": [
      "(int inv:(int:-1) (int:2) (int:-3) (int:-4))"
     ]
    }
   ],
   "source": [
    "int inv : inv int : make int : 1 -2 3 4 "
   ]
  },
  {
   "cell_type": "code",
   "execution_count": 35,
   "id": "faf4d8d2-82ad-4434-ae3a-81ee1764d1d9",
   "metadata": {},
   "outputs": [
    {
     "name": "stdout",
     "output_type": "stream",
     "text": [
      "(n:10)"
     ]
    }
   ],
   "source": [
    "sum2 : make n : 1 2 3 4 "
   ]
  },
  {
   "cell_type": "code",
   "execution_count": 2,
   "id": "2ba56968-a8d2-45cf-b404-edfaddf6d659",
   "metadata": {},
   "outputs": [
    {
     "name": "stdout",
     "output_type": "stream",
     "text": [
      "(n:1) (n:2) (n:3) (n:4) (n:5)"
     ]
    }
   ],
   "source": [
    "sort n : 5 4 3 2 1 "
   ]
  },
  {
   "cell_type": "code",
   "execution_count": 3,
   "id": "eb204fff-a61a-4dd6-941d-010d181503d3",
   "metadata": {},
   "outputs": [
    {
     "name": "stdout",
     "output_type": "stream",
     "text": [
      "(int:-10)"
     ]
    }
   ],
   "source": [
    "inv int : sum int : 1 2 3 4"
   ]
  },
  {
   "cell_type": "code",
   "execution_count": 4,
   "id": "3bb392be-7db9-4457-bc98-5077c00839e6",
   "metadata": {},
   "outputs": [
    {
     "name": "stdout",
     "output_type": "stream",
     "text": [
      "{ap put A : aps int_add : pre 0 : get A : make A : B}"
     ]
    }
   ],
   "source": [
    "Sum:n"
   ]
  },
  {
   "cell_type": "code",
   "execution_count": 5,
   "id": "2afd99c0-75c2-4202-b8d9-0cf2183b9d06",
   "metadata": {},
   "outputs": [
    {
     "name": "stdout",
     "output_type": "stream",
     "text": [
      "{ap put A : int_sort : get A : make A : B}"
     ]
    }
   ],
   "source": [
    "Sort:n"
   ]
  },
  {
   "cell_type": "code",
   "execution_count": 6,
   "id": "80ac484f-2bb3-42e5-9bd5-ee0d63613fe2",
   "metadata": {},
   "outputs": [
    {
     "name": "stdout",
     "output_type": "stream",
     "text": [
      "(n:1) (n:2) (n:3)"
     ]
    }
   ],
   "source": [
    "make n : 1 2 3 "
   ]
  },
  {
   "cell_type": "code",
   "execution_count": 7,
   "id": "83caccef-c95e-4a7a-bc57-eb2caa5f0e29",
   "metadata": {},
   "outputs": [
    {
     "name": "stdout",
     "output_type": "stream",
     "text": [
      "(n:1) (n:2) (n:3)"
     ]
    }
   ],
   "source": [
    "has n : make n : 1 2 3 "
   ]
  },
  {
   "cell_type": "code",
   "execution_count": 8,
   "id": "86409639-6048-448d-b7f0-9b7170b03a15",
   "metadata": {},
   "outputs": [
    {
     "name": "stdout",
     "output_type": "stream",
     "text": [
      "n n n"
     ]
    }
   ],
   "source": [
    "dom : make n : 1 2 3 "
   ]
  },
  {
   "cell_type": "code",
   "execution_count": 9,
   "id": "97e44524-d84c-42d2-beb9-e0a6b6a9c59b",
   "metadata": {},
   "outputs": [
    {
     "name": "stdout",
     "output_type": "stream",
     "text": []
    }
   ],
   "source": [
    "def SORT : {(Sort:(first:dom:B)):B} "
   ]
  },
  {
   "cell_type": "code",
   "execution_count": 10,
   "id": "5708e0b6-bac9-473d-a25f-81bae2441b6f",
   "metadata": {},
   "outputs": [
    {
     "name": "stdout",
     "output_type": "stream",
     "text": [
      "(ap put:(int_sort:(ap get1:((Make:):(n:4) (n:3) (n:2) (n:1))) (ap get1:))) (ap put:)"
     ]
    }
   ],
   "source": [
    "SORT : make n : 4 3 2 1 "
   ]
  },
  {
   "cell_type": "code",
   "execution_count": 11,
   "id": "30944cad-3a39-4de3-ba68-bd9781e4cf59",
   "metadata": {},
   "outputs": [
    {
     "name": "stdout",
     "output_type": "stream",
     "text": [
      "(ap put:(float_sort:(ap get1:((Make:):(float:4.1) (float:3.1) (float:2.1) (float:1.1))) (ap get1:))) (ap put:)"
     ]
    }
   ],
   "source": [
    "SORT : make float : 4.1 3.1 2.1 1.1"
   ]
  },
  {
   "cell_type": "code",
   "execution_count": 12,
   "id": "21f054f3-af9a-4212-b3da-64a20b3c96ad",
   "metadata": {},
   "outputs": [
    {
     "name": "stdout",
     "output_type": "stream",
     "text": [
      "{ap put A : float_sort : get A : make A : B}"
     ]
    }
   ],
   "source": [
    "Sort:float"
   ]
  },
  {
   "cell_type": "code",
   "execution_count": 13,
   "id": "08d4fa44-c8f0-4217-84a7-01a0fda5c0c1",
   "metadata": {},
   "outputs": [
    {
     "name": "stdout",
     "output_type": "stream",
     "text": [
      "(float:1.1) (float:2.1) (float:3.1) (float:4.1)"
     ]
    }
   ],
   "source": [
    "sort float : 4.1 3.1 2.1 1.1"
   ]
  },
  {
   "cell_type": "code",
   "execution_count": 14,
   "id": "3851f873-ab7d-4c99-927e-90a958c65b00",
   "metadata": {},
   "outputs": [
    {
     "name": "stdout",
     "output_type": "stream",
     "text": [
      "(float:4.1) (float:3.1) (float:2.1) (float:1.1)"
     ]
    }
   ],
   "source": [
    "make float : 4.1 3.1 2.1 1.1"
   ]
  },
  {
   "cell_type": "code",
   "execution_count": 15,
   "id": "eb1f646c-d9a7-4e17-9a90-ced188534018",
   "metadata": {},
   "outputs": [
    {
     "name": "stdout",
     "output_type": "stream",
     "text": [
      "float float float float"
     ]
    }
   ],
   "source": [
    "dom : make float : 4.1 3.1 2.1 1.1"
   ]
  },
  {
   "cell_type": "code",
   "execution_count": 16,
   "id": "67cd2a93-73e1-4dc9-979e-61a068354e7c",
   "metadata": {},
   "outputs": [
    {
     "name": "stdout",
     "output_type": "stream",
     "text": [
      "(float:1.1) (float:2.1) (float:3.1) (float:4.1)"
     ]
    }
   ],
   "source": [
    "{sort (first:dom:B) : B} : make float : 4.1 3.1 2.1 1.1"
   ]
  },
  {
   "cell_type": "code",
   "execution_count": 17,
   "id": "d0ebc129-f06e-4a02-9cad-0c9d30e6da7a",
   "metadata": {},
   "outputs": [
    {
     "name": "stdout",
     "output_type": "stream",
     "text": []
    }
   ],
   "source": [
    "def SORT : {sort (first:dom:B) : B} "
   ]
  },
  {
   "cell_type": "code",
   "execution_count": 18,
   "id": "16209076-27fc-40f5-9eb7-85530aea3bdf",
   "metadata": {},
   "outputs": [
    {
     "name": "stdout",
     "output_type": "stream",
     "text": []
    }
   ],
   "source": [
    "def   Order : {sort (first:dom:B) : B} \n",
    "def Abelian : {sum  (first:dom:B) : B} "
   ]
  },
  {
   "cell_type": "code",
   "execution_count": 19,
   "id": "d1497ef9-eebb-4252-aa60-fc2348c3d81e",
   "metadata": {},
   "outputs": [
    {
     "name": "stdout",
     "output_type": "stream",
     "text": [
      "(ap put:(float_sort:(ap get1:((Make:):(float:4.1) (float:3.1) (float:2.1) (float:1.1))) (ap get1:))) (ap put:)"
     ]
    }
   ],
   "source": [
    "SORT : make float : 4.1 3.1 2.1 1.1 "
   ]
  },
  {
   "cell_type": "code",
   "execution_count": 20,
   "id": "359c2a00-8099-4e0e-92eb-7ccebfe116b5",
   "metadata": {},
   "outputs": [
    {
     "name": "stdout",
     "output_type": "stream",
     "text": [
      "(getDefaultdepth:)"
     ]
    }
   ],
   "source": [
    "getDefaultdepth:"
   ]
  },
  {
   "cell_type": "code",
   "execution_count": 21,
   "id": "b11de110-54c1-46dd-a3b7-a80a690b9a11",
   "metadata": {},
   "outputs": [
    {
     "name": "stdout",
     "output_type": "stream",
     "text": [
      "(setDafaultDepth:200)"
     ]
    }
   ],
   "source": [
    "setDafaultDepth:200"
   ]
  },
  {
   "cell_type": "code",
   "execution_count": 22,
   "id": "4a98a36e-019e-411f-a760-22eab593b42e",
   "metadata": {},
   "outputs": [
    {
     "name": "stdout",
     "output_type": "stream",
     "text": [
      "200"
     ]
    }
   ],
   "source": [
    "setDefaultDepth:200"
   ]
  },
  {
   "cell_type": "code",
   "execution_count": 23,
   "id": "cef4d62d-7105-4dd5-9840-3323c01d0764",
   "metadata": {},
   "outputs": [
    {
     "name": "stdout",
     "output_type": "stream",
     "text": [
      "(ap put:(float_sort:(ap get1:((Make:):(float:4.1) (float:3.1) (float:2.1) (float:1.1))) (ap get1:))) (ap put:)"
     ]
    }
   ],
   "source": [
    "SORT : make float : 4.1 3.1 2.1 1.1 "
   ]
  },
  {
   "cell_type": "code",
   "execution_count": 24,
   "id": "60e0170f-8953-4362-98a8-5066e5098f13",
   "metadata": {},
   "outputs": [
    {
     "name": "stdout",
     "output_type": "stream",
     "text": [
      "500"
     ]
    }
   ],
   "source": [
    "setDefaultDepth:500"
   ]
  },
  {
   "cell_type": "code",
   "execution_count": 25,
   "id": "8c626caa-bf57-4a5f-84aa-6e38f26a1e00",
   "metadata": {},
   "outputs": [
    {
     "name": "stdout",
     "output_type": "stream",
     "text": [
      "(float:-3.1) (float:1.1) (float:2.1) (float:4.1)"
     ]
    }
   ],
   "source": [
    "SORT : make float : 4.1 -3.1 2.1 1.1"
   ]
  },
  {
   "cell_type": "code",
   "execution_count": 26,
   "id": "106a539c-a166-4e09-b8a3-4e03f5abe115",
   "metadata": {},
   "outputs": [
    {
     "name": "stdout",
     "output_type": "stream",
     "text": [
      "500"
     ]
    }
   ],
   "source": [
    "getDefaultDepth:"
   ]
  },
  {
   "cell_type": "code",
   "execution_count": 27,
   "id": "1770feac-0551-490e-afe0-f2802ee8312f",
   "metadata": {},
   "outputs": [
    {
     "name": "stdout",
     "output_type": "stream",
     "text": []
    }
   ],
   "source": [
    "Natural : m"
   ]
  },
  {
   "cell_type": "code",
   "execution_count": 28,
   "id": "ae18ddb1-c5da-4610-96a9-ce7e7a674d22",
   "metadata": {},
   "outputs": [
    {
     "name": "stdout",
     "output_type": "stream",
     "text": [
      "(m:1) (m:2) (m:3) (m:4) (m:5)"
     ]
    }
   ],
   "source": [
    "SORT : make m : 5 4 3 2 1"
   ]
  },
  {
   "cell_type": "code",
   "execution_count": 29,
   "id": "d9227431-3c71-4d32-95d0-425f9e611a53",
   "metadata": {},
   "outputs": [
    {
     "name": "stdout",
     "output_type": "stream",
     "text": []
    }
   ],
   "source": [
    "# let's make a morphism from n to m \n",
    "#\n",
    "def MOR : {make m : term n : make n:B} "
   ]
  },
  {
   "cell_type": "code",
   "execution_count": 30,
   "id": "cb031de3-995b-483f-9cdf-0365ceabce6c",
   "metadata": {},
   "outputs": [
    {
     "name": "stdout",
     "output_type": "stream",
     "text": [
      "(m:1) (m:2) (m:3)"
     ]
    }
   ],
   "source": [
    "make m : term n : make n : 1 2 3 "
   ]
  },
  {
   "cell_type": "code",
   "execution_count": 31,
   "id": "bec7de02-a426-4f36-b466-260db386b502",
   "metadata": {},
   "outputs": [
    {
     "name": "stdout",
     "output_type": "stream",
     "text": []
    }
   ],
   "source": [
    "def M : {make m : term n : make n : B} "
   ]
  },
  {
   "cell_type": "code",
   "execution_count": 32,
   "id": "770ab9b2-d1c1-4cb0-84ab-b8f909441612",
   "metadata": {},
   "outputs": [
    {
     "name": "stdout",
     "output_type": "stream",
     "text": [
      "(m:1) (m:2) (m:3)"
     ]
    }
   ],
   "source": [
    "M : make n : 1 2 3 "
   ]
  },
  {
   "cell_type": "code",
   "execution_count": 33,
   "id": "f55fee6e-4f77-4b24-994f-fc0d68e4ecdf",
   "metadata": {},
   "outputs": [
    {
     "name": "stdout",
     "output_type": "stream",
     "text": []
    }
   ],
   "source": [
    "def MM : (make m)*(term n)*(make n)"
   ]
  },
  {
   "cell_type": "code",
   "execution_count": 34,
   "id": "d869d427-f517-4781-8255-d4a73ee3bbed",
   "metadata": {},
   "outputs": [
    {
     "name": "stdout",
     "output_type": "stream",
     "text": [
      "(m:1) (m:2) (m:3)"
     ]
    }
   ],
   "source": [
    "MM : make n : 1 2 3 "
   ]
  },
  {
   "cell_type": "code",
   "execution_count": null,
   "id": "0a250c1e-2126-4620-b408-cc5bebc630d1",
   "metadata": {},
   "outputs": [],
   "source": []
  }
 ],
 "metadata": {
  "kernelspec": {
   "display_name": "coda",
   "language": "",
   "name": "coda"
  },
  "language_info": {
   "file_extension": ".co",
   "mimetype": "text/plain",
   "name": "Any text"
  }
 },
 "nbformat": 4,
 "nbformat_minor": 5
}
