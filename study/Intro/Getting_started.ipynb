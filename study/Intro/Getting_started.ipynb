{
 "cells": [
  {
   "cell_type": "markdown",
   "id": "540e44f3-ff35-4b65-af77-cbc74b17c2c2",
   "metadata": {},
   "source": [
    "## Getting started\n",
    "\n",
    "Coda is software that's an implementation of the ideas around the \"Data definition of Mathematics\" projects.  It's a very tiny framework for defining mathematical structures and questions and for doing general computing.  Unlike other systems, in coda, every computation is a proof.  To understand, see the first paper and/or talks (Which I still need to write!). \n",
    "\n",
    "Mechanically speaking, there is Python3 code including (currently) two interpreters (coda and eval).  This will probably change.  There are also jupyter notebooks and such demonstrating different subjects and showing how to use the system from Python."
   ]
  },
  {
   "cell_type": "code",
   "execution_count": 2,
   "id": "faaeb36b-b43f-4679-b394-cab262088cb6",
   "metadata": {},
   "outputs": [
    {
     "name": "stdout",
     "output_type": "stream",
     "text": [
      "\u001b[;1mcode:\u001b[0m\n",
      "    \u001b[34;7mhelp\u001b[0m\n",
      "\u001b[;1mmodule:\u001b[0m\n",
      "    Help\n",
      "\u001b[;1msummary:\u001b[0m\n",
      "    Help system\n",
      "\u001b[;1mdescription:\u001b[0m\n",
      "\u001b[;1mpath:\u001b[0m\n",
      "    /Users/youssef/math/py/Help.py\n",
      "\u001b[;1mdemos:\u001b[0m\n",
      "    1. \u001b[35;4mhelp : n\u001b[0m\n",
      "    2. \u001b[35;4mhelp : <=>\u001b[0m\n",
      "    3. \u001b[35;4mhelp : <|>\u001b[0m\n",
      "    4. \u001b[35;4mdemo n : 2\u001b[0m\n",
      "    5. \u001b[35;4mhelp : Sequence\u001b[0m\n"
     ]
    }
   ],
   "source": [
    "from start import * "
   ]
  },
  {
   "cell_type": "markdown",
   "id": "d462e64f-5751-4878-83da-9398c0c6084c",
   "metadata": {},
   "source": [
    "This imports what you need and pre-executes a startup file (if any) in ~/.coda/coda.co."
   ]
  },
  {
   "cell_type": "markdown",
   "id": "d2243141-b045-4330-b216-97e911c90411",
   "metadata": {},
   "source": [
    "The two main functions that you need are\n",
    "1. `D = co('<some text>')` to create data, and \n",
    "2. `D.eval(100)` to \"evaluate\" D to depth 100. Evaluation is a crude general evaluator which will freely apply any existing definitions up to 100 iterations.\n",
    "\n",
    "The following, for instance, gets help and demos about a type called `n` which is one representation of the natural numbers.  "
   ]
  },
  {
   "cell_type": "code",
   "execution_count": 3,
   "id": "b0830f85-c996-4d49-ace1-4887cf35ee6c",
   "metadata": {},
   "outputs": [
    {
     "name": "stdout",
     "output_type": "stream",
     "text": [
      "\u001b[;1mcode:\u001b[0m\n",
      "    \u001b[34;7mn\u001b[0m\n",
      "\u001b[;1mmodule:\u001b[0m\n",
      "    Number\n",
      "\u001b[;1msummary:\u001b[0m\n",
      "    Natural numbers implemented with python int\n",
      "\u001b[;1mdescription:\u001b[0m\n",
      "\u001b[;1mpath:\u001b[0m\n",
      "    /Users/youssef/math/co/Number.co\n",
      "\u001b[;1msource code:\u001b[0m\n",
      "\u001b[;1mdemos:\u001b[0m\n",
      "    1. \u001b[35;4mn : 1 2 3 4\u001b[0m\n",
      "    2. \u001b[35;4msum n : 1 2 3 4\u001b[0m\n",
      "    3. \u001b[35;4msum n : n : 1 2 3 4\u001b[0m\n",
      "    4. \u001b[35;4mprod n : 1 2 3 4\u001b[0m\n"
     ]
    },
    {
     "data": {
      "text/plain": []
     },
     "execution_count": 3,
     "metadata": {},
     "output_type": "execute_result"
    }
   ],
   "source": [
    "D = co('help: n'); D.eval(100)"
   ]
  },
  {
   "cell_type": "markdown",
   "id": "a77e70e3-1666-42f4-bd6a-5dfb0516fa22",
   "metadata": {},
   "source": [
    "Now, let's construct a proof that 1+1 = 2 in the system (for the type n).  To show the internal steps, we'll evaluate one step at a time and display the results. "
   ]
  },
  {
   "cell_type": "code",
   "execution_count": 4,
   "id": "f31dc9e1-a652-4cd1-9287-215b07792691",
   "metadata": {},
   "outputs": [],
   "source": [
    "D = co('sum n : 1 1')"
   ]
  },
  {
   "cell_type": "code",
   "execution_count": 43,
   "id": "66a1d7d2-4f63-411a-9c28-99edec224675",
   "metadata": {},
   "outputs": [
    {
     "data": {
      "text/plain": [
       "(n:2)"
      ]
     },
     "execution_count": 43,
     "metadata": {},
     "output_type": "execute_result"
    }
   ],
   "source": [
    "D = D.eval(1); D # repeat this cell until you get an answer"
   ]
  },
  {
   "cell_type": "markdown",
   "id": "751acf20-9a51-4ad5-987c-95216515b312",
   "metadata": {},
   "source": [
    "You can see that the system goes through quite a lot.  This actually constitutes a proof that \n",
    "\n",
    "`{sum n : 1 1} : = (n:2)`\n",
    "\n",
    "in the language, including definitions involved in processing `sum n : 1 1` as a coda language expression.  \n"
   ]
  },
  {
   "cell_type": "markdown",
   "id": "43a415ab-e110-47bd-82d0-16e54b6d44ac",
   "metadata": {},
   "source": [
    "The language is unusual in that there is no such thing as a syntax error.  All code can be validly executed in coda and turned into data via X -> {X}: where X is any code, i.e. any sequence of bytes. The language is expressive enough so that any data can be produced this way.  This is because data is always a **finite** sequence. \n",
    "\n",
    "Speaking of finite, here is an example of how finite data represents the (infinite) natural numbers. "
   ]
  },
  {
   "cell_type": "code",
   "execution_count": 50,
   "id": "2ac582b1-e263-41d5-90d5-bf990ccb7a0c",
   "metadata": {},
   "outputs": [
    {
     "data": {
      "text/plain": [
       "0 1 2 3 4 5 6 7 8 9 10 11 12 13 14 15 16 17 18 19 20 21 22 23 24 25 26 27 28 29 30 31 32 33 34 35 36 37 38 39 40 41 42 43 44 45 46 47 48 49 50 51 52 53 54 55 56 57 58 59 60 61 62 63 64 65 66 67 68 69 70 71 72 73 74 75 76 77 78 79 80 81 82 83 84 85 86 87 88 89 90 91 92 93 94 95 96 97 (nat:98)"
      ]
     },
     "execution_count": 50,
     "metadata": {},
     "output_type": "execute_result"
    }
   ],
   "source": [
    "D = co('nat : 0'); D = D.eval(100); D"
   ]
  },
  {
   "cell_type": "markdown",
   "id": "45883c8e-7de5-4831-b149-f0c8c487f4e0",
   "metadata": {},
   "source": [
    "There is a count function (i.e. data that counts it's \"input\").  "
   ]
  },
  {
   "cell_type": "code",
   "execution_count": 51,
   "id": "d747cd6d-a6df-4b4d-866c-4f99dd9de8c4",
   "metadata": {},
   "outputs": [
    {
     "data": {
      "text/plain": [
       "(n:3)"
      ]
     },
     "execution_count": 51,
     "metadata": {},
     "output_type": "execute_result"
    }
   ],
   "source": [
    "D = co('count : a b c'); D = D.eval(100); D"
   ]
  },
  {
   "cell_type": "markdown",
   "id": "d5484034-f167-4879-9e8b-0f78b20501de",
   "metadata": {},
   "source": [
    "But what happens if you try to count all the natural numbers?  "
   ]
  },
  {
   "cell_type": "code",
   "execution_count": 57,
   "id": "e316a15e-77b1-4bb7-974f-4b1f13bda60b",
   "metadata": {},
   "outputs": [
    {
     "data": {
      "text/plain": [
       "(ap put n:(int:(int:(int:(int:(int:(int:(int:(int:(int:(int:(int:(int:(int:(int:(int:(int:(int:(int:(int:(int:(int:(int:(int:(int:(int:(int:(int:(int:(int:(int:(int:(int:(int:(int:(int:(int:(int:(int:(int:(int:(int:(int:(int:(int:(int:(int:(int:(int:(int:(int:(int:(int:(int:(int:(int:(int:(int:(int:(int:(int:(int:(int:(int:(int:(int:(app int:65 66 (if (= n:n:67) (get1 n:(n:68)) (ap get1 n:(put n:69)) (ap get1 n:(ap put n:(nat1:70))) (ap get1 n:(ap put n:(ap nat1:71))) (ap get1 n:(ap put n:(ap nat1:72 73 74 75 76 77 78 79 80 81 82 83 84 85 86 87 88 89 90 91 92 93 94 95 (nat:96)))) (ap get1 n:(if (= n:):66)) (ap get1 n:(sel1 n:67)) (ap get1 n:(ap sel1 n:68)) (ap get1 n:(ap sel1 n:69 70 71 72 73 74 75 76 77 78 79 80 81 82 83 84 85 86 87 88 89 90 91 92 93 94 95 (nat:96))))))))))))))))))))))))))))))))))))))))))))))))))))))))))))))))))))))"
      ]
     },
     "execution_count": 57,
     "metadata": {},
     "output_type": "execute_result"
    }
   ],
   "source": [
    "D = co('sum n : nat : 0'); D = D.eval(100); D"
   ]
  },
  {
   "cell_type": "markdown",
   "id": "0e90475d-835f-41a1-9a1f-4b5179af42f1",
   "metadata": {},
   "source": [
    "This is correct in the sense that it's never giving you a number.  That fact shows that there is no such answer.  Let's now do the same but for the first 100 numbers. "
   ]
  },
  {
   "cell_type": "code",
   "execution_count": 58,
   "id": "b004ad5f-b165-45a4-8fec-a3cadaaa8664",
   "metadata": {},
   "outputs": [
    {
     "data": {
      "text/plain": [
       "(ap put n:(int:(int:(int:(int:(int:(int:(int:(int:(int:(int:(int:(int:(int:(int:(int:(int:(int:(int:(int:(int:(int:(int:(int:(int:(int:(int:(int:(int:(int:(int:(int:(int:(int:(int:(int:(int:(int:(int:(int:(int:(int:(int:(int:(int:(int:(int:(int:(int:(int:(int:(int:(int:(int:(int:(int:(int:(int:(int:(int:(int:(int:(int:(int:(int:(int:(app int:65 66 (if (= n:n:67) (get1 n:(n:68)) (ap get1 n:(put n:69)) (ap get1 n:(ap put n:(nat1:70))) (ap get1 n:(ap put n:(ap nat1:71))) (ap get1 n:(ap put n:(ap nat1:72 73 74 75 76 77 78 79 80 81 82 83 84 85 86 87 88 89 90 91 92 93 (first 6:(nat:94))))) (ap get1 n:(if (= n:):66)) (ap get1 n:(sel1 n:67)) (ap get1 n:(ap sel1 n:68)) (ap get1 n:(ap sel1 n:69 70 71 72 73 74 75 76 77 78 79 80 81 82 83 84 85 86 87 88 89 90 91 92 93 (first 6:(nat:94)))))))))))))))))))))))))))))))))))))))))))))))))))))))))))))))))))))))"
      ]
     },
     "execution_count": 58,
     "metadata": {},
     "output_type": "execute_result"
    }
   ],
   "source": [
    "D = co('sum n : first 100 : nat : 0'); D = D.eval(100); D"
   ]
  },
  {
   "cell_type": "markdown",
   "id": "0cca0013-6915-4e1c-8e10-5b2930874937",
   "metadata": {},
   "source": [
    "This more-or-less looks like the previous cell, but it actually just needs to be evaluated more deeply."
   ]
  },
  {
   "cell_type": "code",
   "execution_count": 59,
   "id": "eed64101-d8b6-4622-bd3b-2f764499dce9",
   "metadata": {},
   "outputs": [
    {
     "data": {
      "text/plain": [
       "(n:4950)"
      ]
     },
     "execution_count": 59,
     "metadata": {},
     "output_type": "execute_result"
    }
   ],
   "source": [
    "D = co('sum n : first 100 : nat : 0'); D = D.eval(1000); D"
   ]
  },
  {
   "cell_type": "markdown",
   "id": "bf73eb1d-a3dc-4df7-bcf8-712338738282",
   "metadata": {},
   "source": [
    "We'll end with showing what the above looks like in one of the interpreters. "
   ]
  },
  {
   "cell_type": "raw",
   "id": "bb9d7976-7842-47f1-9582-2c1712efa800",
   "metadata": {},
   "source": [
    "% coda \n",
    "@ help : n\n",
    "code:\n",
    "    n\n",
    "module:\n",
    "    Number\n",
    "summary:\n",
    "    Natural numbers implemented with python int\n",
    "description:\n",
    "path:\n",
    "    /Users/youssef/math/co/Number.co\n",
    "source code:\n",
    "demos:\n",
    "    1. n : 1 2 3 4\n",
    "    2. sum n : 1 2 3 4\n",
    "    3. sum n : n : 1 2 3 4\n",
    "    4. prod n : 1 2 3 4\n",
    "@ sum n : first 100 : nat : 0\n",
    "(n:4950)\n",
    "@ demo 4 : n\n",
    "(n:24)\n"
   ]
  },
  {
   "cell_type": "code",
   "execution_count": null,
   "id": "056f1f24-05cf-4a69-b7f8-3c577e081986",
   "metadata": {},
   "outputs": [],
   "source": []
  }
 ],
 "metadata": {
  "kernelspec": {
   "display_name": "Python 3 (ipykernel)",
   "language": "python",
   "name": "python3"
  },
  "language_info": {
   "codemirror_mode": {
    "name": "ipython",
    "version": 3
   },
   "file_extension": ".py",
   "mimetype": "text/x-python",
   "name": "python",
   "nbconvert_exporter": "python",
   "pygments_lexer": "ipython3",
   "version": "3.10.7"
  }
 },
 "nbformat": 4,
 "nbformat_minor": 5
}
