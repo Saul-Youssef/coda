{
 "cells": [
  {
   "cell_type": "markdown",
   "id": "92e6e2ee-b4c0-4f3d-bbab-f2ef78a5643f",
   "metadata": {},
   "source": [
    "# is/isnt  \n",
    "\n",
    "Argument specified atoms."
   ]
  },
  {
   "cell_type": "code",
   "execution_count": 1,
   "id": "3f7aaa85-b094-4b70-82b2-74f5f6c32d99",
   "metadata": {},
   "outputs": [
    {
     "name": "stdout",
     "output_type": "stream",
     "text": []
    }
   ],
   "source": [
    "import : dir co : up : ."
   ]
  },
  {
   "cell_type": "markdown",
   "id": "ee27e2ae-c732-40d1-aaf6-c56cd8804911",
   "metadata": {},
   "source": [
    "## 1. Basics"
   ]
  },
  {
   "cell_type": "code",
   "execution_count": 2,
   "id": "ba81b323-bca6-4540-9ffb-339bb3e1ebe0",
   "metadata": {},
   "outputs": [
    {
     "name": "stdout",
     "output_type": "stream",
     "text": [
      "1 2 y\n",
      "x x x"
     ]
    }
   ],
   "source": [
    "is x y 1 2 : a g ag a 1 2 g g y \n",
    "isnt : x x x "
   ]
  },
  {
   "cell_type": "code",
   "execution_count": 3,
   "id": "cee22506-d61a-4686-8126-4f7e195ae415",
   "metadata": {},
   "outputs": [
    {
     "name": "stdout",
     "output_type": "stream",
     "text": [
      "a b a b\n",
      "a b a b\n",
      "a b a b"
     ]
    }
   ],
   "source": [
    "Def IS : is a b \n",
    "\n",
    "IS : a b x a b y\n",
    "IS : (IS: a b x) (IS : a b y)\n",
    "(IS: a b x) (IS :a b y)"
   ]
  },
  {
   "cell_type": "markdown",
   "id": "43edcd7f-5b8e-4b74-a036-be94ad98896d",
   "metadata": {},
   "source": [
    "## 2. Properties \n",
    "\n",
    "As a space, **is A** is **distributive**, **positive** not **algebraic** and not **semilattice**."
   ]
  },
  {
   "cell_type": "code",
   "execution_count": 4,
   "id": "9fca037a-a1be-4cc5-a4c5-063330a246b0",
   "metadata": {},
   "outputs": [
    {
     "name": "stdout",
     "output_type": "stream",
     "text": [
      "a b b a\n",
      "b a a b"
     ]
    }
   ],
   "source": [
    "#\n",
    "# IS is not algebraic or semilattice \n",
    "#\n",
    "IS : a b b a \n",
    "IS : b a a b "
   ]
  },
  {
   "cell_type": "markdown",
   "id": "ef501d84-93bd-416b-af13-fff7787f6e58",
   "metadata": {},
   "source": [
    "## 3. Kernel, complementary spaces and isomorphisms \n",
    "\n",
    "Since **is a b** is positive,the kernel of **is a b** is a space, in this case, the space of consisting of any sequence of atoms containing no **a**s and no **b**s. \n",
    "\n",
    "The \"functor\" Ker is equal to {if ((A:B)=(A:)):B}, meaning that \n",
    "**Ker is a b** is the kernel space of **is a b**.  This same space is also available directly as **isnt a b**.  "
   ]
  },
  {
   "cell_type": "code",
   "execution_count": 5,
   "id": "630831e6-4bcc-4bf5-a641-03f2eaa12a56",
   "metadata": {},
   "outputs": [
    {
     "name": "stdout",
     "output_type": "stream",
     "text": [
      "a a\n",
      "a a"
     ]
    }
   ],
   "source": [
    "is a : a a \n",
    "is a : x a y a \n",
    "is a : x y "
   ]
  },
  {
   "cell_type": "code",
   "execution_count": 6,
   "id": "f1e2e2db-b789-4b48-a3e2-58650c7f36cb",
   "metadata": {},
   "outputs": [
    {
     "name": "stdout",
     "output_type": "stream",
     "text": [
      "x y\n",
      "x y"
     ]
    }
   ],
   "source": [
    "isnt a : a a \n",
    "isnt a : x a y a\n",
    "isnt a : x y "
   ]
  },
  {
   "cell_type": "code",
   "execution_count": 7,
   "id": "b354e382-0c65-4e3d-9790-ea25f32c1d8a",
   "metadata": {},
   "outputs": [
    {
     "name": "stdout",
     "output_type": "stream",
     "text": [
      "x y\n",
      "x y"
     ]
    }
   ],
   "source": [
    "ker is a : a a \n",
    "ker is a : x a y a \n",
    "ker is a : x y "
   ]
  },
  {
   "cell_type": "code",
   "execution_count": 8,
   "id": "397b9848-777d-4156-b248-1af1ddf54cef",
   "metadata": {},
   "outputs": [
    {
     "name": "stdout",
     "output_type": "stream",
     "text": [
      "x y"
     ]
    }
   ],
   "source": [
    "apif {(A:B)=(A:)} is a : x a y a "
   ]
  },
  {
   "cell_type": "code",
   "execution_count": 9,
   "id": "7ec7b806-8783-46a2-a2f9-dbefc80e7e79",
   "metadata": {},
   "outputs": [
    {
     "name": "stdout",
     "output_type": "stream",
     "text": [
      "a a\n",
      "a a"
     ]
    }
   ],
   "source": [
    "ker isnt a : a a \n",
    "ker isnt a : x a y a\n",
    "ker isnt a : x y "
   ]
  },
  {
   "cell_type": "markdown",
   "id": "a78964fa-fd31-4810-9ba4-5d9fae31009e",
   "metadata": {},
   "source": [
    "|            | a b      | x a y a   |  x y  |  meaning |\n",
    "|------------|----------|-----------|-------|----------|\n",
    "| is a       | a a      |  a a      |       |  the space of sequences of a atoms        |\n",
    "| isnt a     |          |  x y      | x y   |  the space of sequences of non-a atoms        |\n",
    "| Ker is a   |          |           | x y   |  the space of sequences containing no a atoms        |\n",
    "| Ker isnt a | a a      |           |       |  the space of sequences containing no non-a atoms     |"
   ]
  },
  {
   "cell_type": "code",
   "execution_count": 10,
   "id": "2f3dafc7-1704-459d-9d02-f9b51cf6f383",
   "metadata": {},
   "outputs": [
    {
     "name": "stdout",
     "output_type": "stream",
     "text": [
      "x y"
     ]
    }
   ],
   "source": [
    "ker is a b : a b a x y b a b "
   ]
  },
  {
   "cell_type": "code",
   "execution_count": 11,
   "id": "e6c48d2b-c0c3-4f52-ac8d-1df24e0255fb",
   "metadata": {},
   "outputs": [
    {
     "name": "stdout",
     "output_type": "stream",
     "text": [
      "\u001b[;1mcode:\u001b[0m\n",
      "    \u001b[34;7mis\u001b[0m\n",
      "\u001b[;1mmodule:\u001b[0m\n",
      "    Basic\n",
      "\u001b[;1msummary:\u001b[0m\n",
      "    has/hasnt selects, get gets, is/isnt tests\n",
      "\u001b[;1mdescription:\u001b[0m\n",
      "\u001b[;1mpath:\u001b[0m\n",
      "    /Users/youssef/coda/co/Basic.co\n",
      "\u001b[;1msource code:\u001b[0m\n",
      "    def has   : ap {if  (A=(domain:B)):B}\n",
      "    def hasnt : ap {nif (A=(domain:B)):B}\n",
      "    def is    : ap {nif (ar {not:A=B} A:B):B}\n",
      "    def isnt  : ap { if (ar {not:A=B} A:B):B}\n",
      "\u001b[;1mdemos:\u001b[0m\n",
      "    1. \u001b[35;4mhas bin : x y z (bin:a b c) (bin a:b c) (bin:)\u001b[0m\n",
      "    2. \u001b[35;4mhasnt bin : x y z (bin:a b c) (bin a:b c) (bin:)\u001b[0m\n",
      "    3. \u001b[35;4mhas ((:):(:)) : x y z (bin:a b c)\u001b[0m\n",
      "    4. \u001b[35;4mis y : x y z y z y\u001b[0m\n",
      "    5. \u001b[35;4mis y x (bin:a b) : x y z (bin:a b) (bin:a) y z y\u001b[0m\n",
      "    6. \u001b[35;4mis (bin:a b) : x y (bin:a b) z\u001b[0m\n",
      "    7. \u001b[35;4misnt x y : x y z (bin:a b) (bin:a) y z y\u001b[0m\n",
      "    8. \u001b[35;4mget bin : x y z (bin:a b c) (bin:x y)\u001b[0m\n",
      "    9. \u001b[35;4mget ((:):(:)) : x y z (bin: a b c)\u001b[0m\n",
      "    10. \u001b[35;4mget bin: (bin a:b c) (bin:x y)\u001b[0m\n"
     ]
    }
   ],
   "source": [
    "help : is"
   ]
  },
  {
   "cell_type": "code",
   "execution_count": 12,
   "id": "b9f9f7a7-fa15-48fb-afaa-a75de788b0de",
   "metadata": {},
   "outputs": [
    {
     "name": "stdout",
     "output_type": "stream",
     "text": [
      "x y x x x"
     ]
    }
   ],
   "source": [
    "ker is a : x y x x x "
   ]
  },
  {
   "cell_type": "code",
   "execution_count": 13,
   "id": "c05429e1-d630-4c2d-ba2a-cfa43d11ad76",
   "metadata": {},
   "outputs": [
    {
     "name": "stdout",
     "output_type": "stream",
     "text": []
    }
   ],
   "source": [
    "Def K : ker is a b "
   ]
  },
  {
   "cell_type": "code",
   "execution_count": 14,
   "id": "19df39fe-122c-4b01-a241-6105ab4e8e73",
   "metadata": {},
   "outputs": [
    {
     "name": "stdout",
     "output_type": "stream",
     "text": [
      "x y\n",
      "x y"
     ]
    }
   ],
   "source": [
    "K : x y b a b \n",
    "K : (K: x y) (K:b a b) "
   ]
  },
  {
   "cell_type": "code",
   "execution_count": 15,
   "id": "2e57af47-c6a8-4d5b-99d0-1617978fa799",
   "metadata": {},
   "outputs": [
    {
     "name": "stdout",
     "output_type": "stream",
     "text": [
      "x y"
     ]
    }
   ],
   "source": [
    "K : x y a b"
   ]
  },
  {
   "cell_type": "code",
   "execution_count": null,
   "id": "f1353135-7c22-48c2-8d40-8be5334f77e6",
   "metadata": {},
   "outputs": [],
   "source": []
  }
 ],
 "metadata": {
  "kernelspec": {
   "display_name": "coda",
   "language": "",
   "name": "coda"
  },
  "language_info": {
   "file_extension": ".co",
   "mimetype": "text/plain",
   "name": "Any text"
  }
 },
 "nbformat": 4,
 "nbformat_minor": 5
}
