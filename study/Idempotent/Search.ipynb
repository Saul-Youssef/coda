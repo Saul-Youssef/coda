{
 "cells": [
  {
   "cell_type": "markdown",
   "id": "9bf437ab-0c1d-4c9b-8234-4f1f1ca92672",
   "metadata": {},
   "source": [
    "Let's search for \"low lying\" idempotents."
   ]
  },
  {
   "cell_type": "code",
   "execution_count": 1,
   "id": "095a9796-2a4c-4c84-ba70-bd1df0c1c539",
   "metadata": {},
   "outputs": [
    {
     "name": "stdout",
     "output_type": "stream",
     "text": [
      "(defaultTime:1000)"
     ]
    }
   ],
   "source": [
    "defaultTime:1000"
   ]
  },
  {
   "cell_type": "code",
   "execution_count": 2,
   "id": "8120013d-71bb-404f-b0fd-0461224faaa8",
   "metadata": {},
   "outputs": [
    {
     "name": "stdout",
     "output_type": "stream",
     "text": []
    }
   ],
   "source": [
    "import : dir co : ."
   ]
  },
  {
   "cell_type": "code",
   "execution_count": 3,
   "id": "bfb1ea62-08ab-4f1b-82a7-1e3929502104",
   "metadata": {},
   "outputs": [
    {
     "name": "stdout",
     "output_type": "stream",
     "text": []
    }
   ],
   "source": [
    "#\n",
    "#   SEARCH <sample data> : <potential idempotents> \n",
    "#\n",
    "Def IDEMP : {((get:A):(get:A):(get:B))=((get:A):(get:B))} \n",
    "Def SEARCH : ap {with B: count : ap IDEMP B : A} "
   ]
  },
  {
   "cell_type": "code",
   "execution_count": 4,
   "id": "027ff5ac-6e4d-41d7-85de-2d248b1111cc",
   "metadata": {},
   "outputs": [
    {
     "name": "stdout",
     "output_type": "stream",
     "text": [
      "0\n",
      "2"
     ]
    }
   ],
   "source": [
    "count : IDEMP (:pass) : (:1 2 3)\n",
    "count : IDEMP (:rev) : (:1 2 3) "
   ]
  },
  {
   "cell_type": "code",
   "execution_count": 5,
   "id": "a58ed4f1-f325-4ebe-a31e-d6b145cd33f4",
   "metadata": {},
   "outputs": [
    {
     "name": "stdout",
     "output_type": "stream",
     "text": [
      "0\n",
      "4\n",
      "2\n",
      "0"
     ]
    }
   ],
   "source": [
    "count : ap IDEMP (:pass) : (:1 2 3) (:a b c)\n",
    "count : ap IDEMP (:rev) : (:1 2 3) (:a b c)\n",
    "count : ap IDEMP (:rev) : (:1 1 1) (:a b c)\n",
    "count : ap IDEMP (:rev) : (:1 1 1) (:a a)"
   ]
  },
  {
   "cell_type": "code",
   "execution_count": 6,
   "id": "4fe262a2-c387-44d6-b05a-ae4df3b6d600",
   "metadata": {},
   "outputs": [
    {
     "name": "stdout",
     "output_type": "stream",
     "text": [
      "(with (:count):128)"
     ]
    }
   ],
   "source": [
    "do 100 : SEARCH S2? : (:count) "
   ]
  },
  {
   "cell_type": "code",
   "execution_count": 7,
   "id": "c321bd9a-793f-4c26-b32d-86009b181bf9",
   "metadata": {},
   "outputs": [
    {
     "name": "stdout",
     "output_type": "stream",
     "text": [
      "(:b depth) (:hasnt {B null}) (:{B : 0} plus) (:pass {depth B}) (:A {domain : B}) (:star {B sum}) (:{has : B} get) (:{B domain} pass) (:star {B : hasnt}) (:put {sum B})"
     ]
    }
   ],
   "source": [
    "first 10 : skip 100 : C2?:"
   ]
  },
  {
   "cell_type": "code",
   "execution_count": 8,
   "id": "ebadfa8e-aa0c-4672-ab3c-43f9a255f777",
   "metadata": {},
   "outputs": [
    {
     "name": "stdout",
     "output_type": "stream",
     "text": []
    }
   ],
   "source": [
    "write C1-result 1000 : dom 100 : SEARCH S2? : C1?:"
   ]
  },
  {
   "cell_type": "code",
   "execution_count": null,
   "id": "cc65bfdd-314f-438e-9d87-99569d858d69",
   "metadata": {},
   "outputs": [],
   "source": [
    "write C12-result 10000 : dom 200 : SEARCH S2? : C12?:"
   ]
  },
  {
   "cell_type": "code",
   "execution_count": null,
   "id": "d5567ff2-5e0e-4381-b0da-215111da2751",
   "metadata": {},
   "outputs": [],
   "source": [
    "write C13-result 30000 : dom 200 : SEARCH S2? : C13?:"
   ]
  },
  {
   "cell_type": "code",
   "execution_count": null,
   "id": "fe7c0c44-1db8-43c9-bf9b-cd8e44e1ee4f",
   "metadata": {},
   "outputs": [],
   "source": [
    "read : C13-result "
   ]
  },
  {
   "cell_type": "code",
   "execution_count": null,
   "id": "ec3409f5-2f00-4a72-b2db-124728204f53",
   "metadata": {},
   "outputs": [],
   "source": []
  }
 ],
 "metadata": {
  "kernelspec": {
   "display_name": "coda",
   "language": "",
   "name": "coda"
  },
  "language_info": {
   "file_extension": ".co",
   "mimetype": "text/plain",
   "name": "Any text"
  }
 },
 "nbformat": 4,
 "nbformat_minor": 5
}
