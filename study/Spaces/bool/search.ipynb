{
 "cells": [
  {
   "cell_type": "markdown",
   "id": "2e5eb5b7-ded3-4493-9be2-4b998d82e8fb",
   "metadata": {},
   "source": [
    "## Search for Endomorphisms of L\n",
    "\n",
    "Continuing from the **bool.ipynb** notebook, we would like to find endomorphisms of L by systematic searching.  The motivation is partly to understand **bool**, but mostly to explore a procedures that can be applied to other spaces.  \n",
    "\n",
    "Given a collection of data from L (such as L3), and given a collection of potential endomorphisms (\n",
    "\n",
    "1. "
   ]
  },
  {
   "cell_type": "code",
   "execution_count": 1,
   "id": "ab323aa3-31b6-45e6-a5eb-efa8f6f6f644",
   "metadata": {},
   "outputs": [
    {
     "name": "stdout",
     "output_type": "stream",
     "text": [
      "(defaultTime:100)"
     ]
    }
   ],
   "source": [
    "#\n",
    "#    Basic definitions \n",
    "#\n",
    "defaultTime : 100 \n",
    "import : dir co : up : .\n",
    "import : dir co : ."
   ]
  },
  {
   "cell_type": "code",
   "execution_count": 2,
   "id": "5658bbf5-3613-4468-b41c-f4433ab08f03",
   "metadata": {},
   "outputs": [
    {
     "name": "stdout",
     "output_type": "stream",
     "text": [
      "(b:◎)\n",
      "(b:◎) (b:◎) (b:◎)\n",
      "0 0 0 0 0 0 0 0 0 0 0 0 0 0 0"
     ]
    }
   ],
   "source": [
    "#\n",
    "#    Demo \n",
    "#\n",
    "ANY : get :last : L3?\n",
    "(E:pass) : get : last : L3?\n",
    "ap {count:(get:B)=((E:pass):get:B)} : L3?\n",
    "bool : ap {(get:B)=((E:pass):get:B)} : L3?"
   ]
  },
  {
   "cell_type": "code",
   "execution_count": 3,
   "id": "966eb679-9d38-479b-ab68-b0c5ef480d65",
   "metadata": {},
   "outputs": [
    {
     "name": "stdout",
     "output_type": "stream",
     "text": []
    }
   ],
   "source": [
    "#\n",
    "#   First, eliminate trivial endomorphisms who are equal to pass or null on all test data \n",
    "#\n",
    "Def passTest : ap {bool:(get:B)=((E:A):get:B)} \n",
    "Def nullTest : ap {bool:(E:A):get:B} "
   ]
  },
  {
   "cell_type": "code",
   "execution_count": 4,
   "id": "6572385a-876e-46b7-8b94-72aa495a6a0c",
   "metadata": {},
   "outputs": [
    {
     "name": "stdout",
     "output_type": "stream",
     "text": [
      "◎ ◎ ◎ ◎ ◎ ◎ ◎ ◎ ◎ ◎ ◎ ◎ ◎ ◎\n",
      "◎ ◎ ◎ ◎ ◎ ◎ ◎ ◎ ◎ ◎ ◎ ◎ ◎ ◎"
     ]
    }
   ],
   "source": [
    "passTest null : L3?\n",
    "nullTest pass : L3?"
   ]
  },
  {
   "cell_type": "code",
   "execution_count": 5,
   "id": "b963c474-8ff2-46ce-9550-400cb9f701f7",
   "metadata": {},
   "outputs": [
    {
     "name": "stdout",
     "output_type": "stream",
     "text": [
      "(with pass:) (with null:◎) (with once:◎)"
     ]
    }
   ],
   "source": [
    "do 100 : ap {with (get:B): bool : passTest (get:B) : A} L3? : (:pass) (:null) (:once)"
   ]
  },
  {
   "cell_type": "code",
   "execution_count": 6,
   "id": "7510df48-9da3-4086-97d4-6a8d81e82663",
   "metadata": {},
   "outputs": [
    {
     "name": "stdout",
     "output_type": "stream",
     "text": [
      "(with pass:◎) (with null:) (with once:◎)"
     ]
    }
   ],
   "source": [
    "do 100 : ap {with (get:B): bool : nullTest (get:B) : A} L3? : (:pass) (:null) (:once)"
   ]
  },
  {
   "cell_type": "code",
   "execution_count": 7,
   "id": "188c1229-0b2f-49c9-b719-1c406ba3bb8e",
   "metadata": {},
   "outputs": [
    {
     "name": "stdout",
     "output_type": "stream",
     "text": []
    }
   ],
   "source": [
    "Def passTester : ap {with (get:B): bool : passTest (get:B) : A}\n",
    "Def nullTester : ap {with (get:B): bool : nullTest (get:B) : A}"
   ]
  },
  {
   "cell_type": "code",
   "execution_count": 8,
   "id": "867b4131-c2cb-46fb-9e02-347937c502a0",
   "metadata": {},
   "outputs": [
    {
     "name": "stdout",
     "output_type": "stream",
     "text": []
    }
   ],
   "source": [
    "write null1 200 : dom 100 : nullTester L3? : first 10 : (:pass) (:null) (:once) (:ANY) (:ALL) (ap : Organic?) "
   ]
  },
  {
   "cell_type": "code",
   "execution_count": 9,
   "id": "598487bf-e9e7-4b89-9fbf-c7df86547498",
   "metadata": {},
   "outputs": [
    {
     "name": "stdout",
     "output_type": "stream",
     "text": [
      "(with pass:◎) (with null:) (with once:◎) (with ANY:◎) (with ALL:◎) (with aj:◎) (with ap:◎) (with aq:) (with ar:)"
     ]
    }
   ],
   "source": [
    "read : null1"
   ]
  },
  {
   "cell_type": "code",
   "execution_count": 10,
   "id": "34cbcf2a-8bca-4cad-a174-eaab8d7b998c",
   "metadata": {},
   "outputs": [
    {
     "name": "stdout",
     "output_type": "stream",
     "text": []
    }
   ],
   "source": [
    "write pass1 200 : dom 100 : passTester L3? : first 10 : (:pass) (:null) (:once) (:ANY) (:ALL) (ap : Organic?) "
   ]
  },
  {
   "cell_type": "code",
   "execution_count": 11,
   "id": "d9a5e653-7fa3-4f9e-be30-d19ef6f66b69",
   "metadata": {},
   "outputs": [
    {
     "name": "stdout",
     "output_type": "stream",
     "text": [
      "(with pass:) (with null:◎) (with once:◎) (with ANY:◎) (with ALL:◎) (with ap:◎) (with aq:◎) (with ar:◎)"
     ]
    }
   ],
   "source": [
    "read : pass1 "
   ]
  },
  {
   "cell_type": "code",
   "execution_count": 12,
   "id": "4a070965-2474-4ba4-9268-cbfa9981fc51",
   "metadata": {},
   "outputs": [
    {
     "name": "stdout",
     "output_type": "stream",
     "text": [
      "54\n",
      "3025\n",
      " (:sum isnt) \n",
      " (:left while) \n",
      " (:bin arg) \n",
      " (:more more) \n",
      " (:equiv ints) \n",
      " (:ap aq) \n",
      " (:not pass) \n",
      " (:equal front) \n",
      " (:more domain) \n",
      " (:has count) \n"
     ]
    }
   ],
   "source": [
    "Let Level1 : (:ANY) (:ALL) (ap : Organic?) \n",
    "Let Level2 : Level1? (sample.data a b Organic? : 2) \n",
    "count : Level1?\n",
    "count : Level2? \n",
    "tab : first 10 : skip 100 : Level2? "
   ]
  },
  {
   "cell_type": "markdown",
   "id": "490ffec0-b30e-45d9-a8d5-00ebcfdae49b",
   "metadata": {},
   "source": [
    "## Level 1"
   ]
  },
  {
   "cell_type": "code",
   "execution_count": 14,
   "id": "104006ac-9c04-4760-9e6e-3d8b9b454b21",
   "metadata": {},
   "outputs": [
    {
     "name": "stdout",
     "output_type": "stream",
     "text": []
    }
   ],
   "source": [
    "write Level1.pass 200 : dom 100 : passTester L3? : Level1?\n",
    "write Level1.null 200 : dom 100 : nullTester L3? : Level1? "
   ]
  },
  {
   "cell_type": "code",
   "execution_count": 19,
   "id": "827b0c8d-585f-4c60-8411-fc7424b2c2b6",
   "metadata": {},
   "outputs": [
    {
     "name": "stdout",
     "output_type": "stream",
     "text": [
      "(with ANY:◎) (with ALL:◎) (with aj:◎) (with ap:◎) (with aq:) (with ar:) (with arg:) (with atoms:◎) (with back:) (with backstrip:◎) (with bin:◎) (with bool:◎) (with collect:◎) (with common:) (with const:) (with count:◎) (with domain:◎) (with dup:) (with ends:) (with equal:◎) (with equiv:◎) (with front:) (with frontstrip:◎) (with get:) (with grp:◎) (with has:) (with hasnt:◎) (with if:◎) (with ints:) (with is:) (with isnt:◎) (with ker:) (with left:◎) (with less:) (with more:◎) (with nats:) (with nif:) (with not:◎) (with null:) (with once:◎) (with pass:◎) (with plus:◎) (with post:◎) (with pre:◎) (with prod:◎) (with put:◎) (with rev:◎) (with right:◎) (with star:◎) (with starts:◎) (with sum:) (with width:)\n",
      "-\n",
      "(with ANY:◎) (with ALL:◎) (with ap:◎) (with aq:◎) (with ar:◎) (with arg:◎) (with atoms:◎) (with back:◎) (with backstrip:) (with bin:◎) (with bool:◎) (with collect:◎) (with common:◎) (with const:◎) (with count:◎) (with domain:◎) (with dup:◎) (with ends:◎) (with equal:) (with equiv:◎) (with front:◎) (with frontstrip:) (with get:◎) (with grp:◎) (with has:◎) (with hasnt:) (with if:) (with ints:◎) (with is:◎) (with isnt:) (with ker:◎) (with left:◎) (with less:◎) (with more:) (with nats:◎) (with nif:◎) (with not:◎) (with null:◎) (with once:◎) (with pass:) (with plus:◎) (with post:) (with pre:) (with prod:) (with put:◎) (with rev:◎) (with right:◎) (with star:◎) (with starts:) (with sum:◎) (with width:◎)"
     ]
    }
   ],
   "source": [
    "read : Level1.null \n",
    "-\n",
    "read : Level1.pass "
   ]
  },
  {
   "cell_type": "code",
   "execution_count": null,
   "id": "3972fb28-137a-4bf8-9bd7-bd67ef4f79c5",
   "metadata": {},
   "outputs": [],
   "source": [
    "ap {if (not:right:B):(:arg B)} : ap read : Level1.null Level1.pass "
   ]
  },
  {
   "cell_type": "markdown",
   "id": "a4f1499e-abf4-4e9d-910f-ab93d7d6d911",
   "metadata": {},
   "source": [
    "## Level 2"
   ]
  },
  {
   "cell_type": "code",
   "execution_count": null,
   "id": "611b8616-f518-4a61-a16c-39539a0a6e1c",
   "metadata": {},
   "outputs": [],
   "source": [
    "write Level2.pass 600 : dom 100 : passTester L3? : Level2?\n",
    "write Level2.null 600 : dom 100 : nullTester L3? : Level2? "
   ]
  },
  {
   "cell_type": "code",
   "execution_count": null,
   "id": "8712e890-dd8d-4933-ae20-a6c9237204bc",
   "metadata": {},
   "outputs": [],
   "source": []
  }
 ],
 "metadata": {
  "kernelspec": {
   "display_name": "coda",
   "language": "",
   "name": "coda"
  },
  "language_info": {
   "file_extension": ".co",
   "mimetype": "text/plain",
   "name": "Any text"
  }
 },
 "nbformat": 4,
 "nbformat_minor": 5
}
