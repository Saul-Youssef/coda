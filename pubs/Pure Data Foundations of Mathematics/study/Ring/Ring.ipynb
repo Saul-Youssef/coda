{
 "cells": [
  {
   "cell_type": "code",
   "execution_count": 1,
   "id": "3fa64dd0-198a-47d6-b6c3-1afa4f59d387",
   "metadata": {},
   "outputs": [
    {
     "name": "stdout",
     "output_type": "stream",
     "text": []
    }
   ],
   "source": [
    "import : .\n",
    "def integer :"
   ]
  },
  {
   "cell_type": "code",
   "execution_count": 2,
   "id": "59325ecf-9ba2-4fbc-8a13-b4c5f87959be",
   "metadata": {},
   "outputs": [
    {
     "name": "stdout",
     "output_type": "stream",
     "text": []
    }
   ],
   "source": [
    "let 1? : integer : 1 2"
   ]
  },
  {
   "cell_type": "code",
   "execution_count": 3,
   "id": "2adb430f-6b51-4345-a9a6-256b788ec5a2",
   "metadata": {},
   "outputs": [
    {
     "name": "stdout",
     "output_type": "stream",
     "text": []
    }
   ],
   "source": [
    "let 2? : integer : 9 4"
   ]
  },
  {
   "cell_type": "code",
   "execution_count": 4,
   "id": "ef8cc896-220f-49ef-b820-5468d9b2e7f4",
   "metadata": {},
   "outputs": [
    {
     "name": "stdout",
     "output_type": "stream",
     "text": [
      "9 4"
     ]
    }
   ],
   "source": [
    "get integer : 2?"
   ]
  },
  {
   "cell_type": "code",
   "execution_count": 5,
   "id": "0545245e-6509-4096-bb2f-b4f048130a29",
   "metadata": {},
   "outputs": [
    {
     "name": "stdout",
     "output_type": "stream",
     "text": [
      "9 1"
     ]
    }
   ],
   "source": [
    "ap {nth 1 : get integer :B} : 2? 1?"
   ]
  },
  {
   "cell_type": "code",
   "execution_count": 6,
   "id": "d3f1382c-9178-4861-b490-3c7ac004a1bb",
   "metadata": {},
   "outputs": [
    {
     "name": "stdout",
     "output_type": "stream",
     "text": []
    }
   ],
   "source": [
    "def f : {nth 1 : get integer : B}\n",
    "def g : {nth 2 : get integer : B}\n"
   ]
  },
  {
   "cell_type": "code",
   "execution_count": 7,
   "id": "ecd2e43f-f876-4028-8790-c1771bb21a8f",
   "metadata": {},
   "outputs": [
    {
     "name": "stdout",
     "output_type": "stream",
     "text": [
      "9 1"
     ]
    }
   ],
   "source": [
    "ap f : 2? 1?"
   ]
  },
  {
   "cell_type": "code",
   "execution_count": 8,
   "id": "1026efc5-0876-4d96-a5c6-9be2830c727d",
   "metadata": {},
   "outputs": [
    {
     "name": "stdout",
     "output_type": "stream",
     "text": [
      "4 2"
     ]
    }
   ],
   "source": [
    "ap g : 2? 1?"
   ]
  },
  {
   "cell_type": "code",
   "execution_count": 9,
   "id": "150d43b1-3368-4d69-a8ad-e7612043e5d5",
   "metadata": {},
   "outputs": [
    {
     "name": "stdout",
     "output_type": "stream",
     "text": []
    }
   ],
   "source": [
    "def front : {get integer : B} \n",
    "def back : {put integer : B} "
   ]
  },
  {
   "cell_type": "code",
   "execution_count": 14,
   "id": "04927841-5ecc-45c4-8590-5e70bb048f6b",
   "metadata": {},
   "outputs": [
    {
     "name": "stdout",
     "output_type": "stream",
     "text": [
      "1 2 9 4"
     ]
    }
   ],
   "source": [
    "front : 1? 2?"
   ]
  },
  {
   "cell_type": "code",
   "execution_count": null,
   "id": "c65fa15b-7204-4199-9fbb-ce2f51eab831",
   "metadata": {},
   "outputs": [],
   "source": []
  }
 ],
 "metadata": {
  "kernelspec": {
   "display_name": "coda",
   "language": "",
   "name": "coda"
  },
  "language_info": {
   "file_extension": ".co",
   "mimetype": "text/plain",
   "name": "Any text"
  }
 },
 "nbformat": 4,
 "nbformat_minor": 5
}
