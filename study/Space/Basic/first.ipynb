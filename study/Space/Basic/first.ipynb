{
 "cells": [
  {
   "cell_type": "markdown",
   "id": "d9099d8a-0a11-433c-acf7-46933fb66ed0",
   "metadata": {},
   "source": [
    "| first |  |\n",
    "|---|---|\n",
    "| Description | first atom | \n",
    "| Data | single atoms | \n",
    "| Operation | first atom in sequence | \n",
    "| Simple? | Y | \n",
    "| Distributive? | N | \n",
    "| Neutral element? | () | \n",
    "| Endomorphisms | x | "
   ]
  },
  {
   "cell_type": "code",
   "execution_count": 2,
   "id": "b406fce7-9789-4e46-856a-38076b2c707c",
   "metadata": {},
   "outputs": [
    {
     "name": "stdout",
     "output_type": "stream",
     "text": []
    }
   ],
   "source": [
    "import : dir co : up : ."
   ]
  },
  {
   "cell_type": "code",
   "execution_count": 3,
   "id": "ccb4cdb1-92db-4c29-97b3-5c1210f6fae9",
   "metadata": {},
   "outputs": [
    {
     "name": "stdout",
     "output_type": "stream",
     "text": []
    }
   ],
   "source": [
    "Let OP : {first:B} "
   ]
  },
  {
   "cell_type": "code",
   "execution_count": 4,
   "id": "6a03d847-30fd-479a-9017-cb2a3dda69b5",
   "metadata": {},
   "outputs": [
    {
     "name": "stdout",
     "output_type": "stream",
     "text": [
      "0\n",
      "4096\n",
      "0"
     ]
    }
   ],
   "source": [
    "count : theorem (idempotent1:OP?) : S2?\n",
    "count : theorem (distributive1:OP?) : S2?\n",
    "count : theorem (simple:OP?) : S2?"
   ]
  },
  {
   "cell_type": "code",
   "execution_count": 5,
   "id": "e52ad64b-332d-4f42-932d-b899fa3d73e5",
   "metadata": {},
   "outputs": [
    {
     "name": "stdout",
     "output_type": "stream",
     "text": []
    }
   ],
   "source": [
    "Let OP2 : {first 3:B} "
   ]
  },
  {
   "cell_type": "code",
   "execution_count": 6,
   "id": "5ebe1052-f76b-468b-a4e0-614388375994",
   "metadata": {},
   "outputs": [
    {
     "name": "stdout",
     "output_type": "stream",
     "text": [
      "0\n",
      "4096\n",
      "0"
     ]
    }
   ],
   "source": [
    "count : theorem (idempotent1:OP2?) : S2?\n",
    "count : theorem (distributive1:OP2?) : S2?\n",
    "count : theorem (simple:OP2?) : S2?"
   ]
  },
  {
   "cell_type": "code",
   "execution_count": null,
   "id": "092aecb3-8c98-450a-b9df-d8b772c1a1bd",
   "metadata": {},
   "outputs": [],
   "source": []
  }
 ],
 "metadata": {
  "kernelspec": {
   "display_name": "coda",
   "language": "",
   "name": "coda"
  },
  "language_info": {
   "file_extension": ".co",
   "mimetype": "text/plain",
   "name": "Any text"
  }
 },
 "nbformat": 4,
 "nbformat_minor": 5
}
