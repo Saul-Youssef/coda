{
 "cells": [
  {
   "cell_type": "markdown",
   "id": "461b9b8f-296c-495e-8ec9-2283d950e96d",
   "metadata": {},
   "source": [
    "## Length is a space\n",
    "\n",
    "If A is some data, we define the *length* of A to be the number of atoms in A, so \n",
    "\n",
    "length : (length : A) (length : B) = length : A B \n",
    "\n",
    "Meaning that length is a space.\n",
    "\n",
    "Let's work this out as a simple example."
   ]
  },
  {
   "cell_type": "code",
   "execution_count": 1,
   "id": "b6f9a65b-8d1a-4081-b55a-ba5b39c40959",
   "metadata": {},
   "outputs": [
    {
     "name": "stdout",
     "output_type": "stream",
     "text": []
    }
   ],
   "source": [
    "#\n",
    "#  type len and sum len are spaces.  Only type len is a type. \n",
    "#\n",
    "def len:  \n",
    "let type len: {some (has len:B) : (ap put len : ap one : B)} \n",
    "let sum  len: {put len : aps int_add : pre 0 : get len : B} \n",
    "let term len: {get len:B}"
   ]
  },
  {
   "cell_type": "code",
   "execution_count": 2,
   "id": "1ec37d1b-a6a9-4c88-96e5-359d45a49619",
   "metadata": {},
   "outputs": [
    {
     "name": "stdout",
     "output_type": "stream",
     "text": [
      "(len:1) (len:1) (len:1) (len:1) (len:1) (len:1) (len:1) (len:1)"
     ]
    }
   ],
   "source": [
    "type len : a b b ab ab ab a b"
   ]
  },
  {
   "cell_type": "code",
   "execution_count": 3,
   "id": "e6c0d47f-a219-4e40-b261-69743ae314a5",
   "metadata": {},
   "outputs": [
    {
     "name": "stdout",
     "output_type": "stream",
     "text": [
      "(len:3)"
     ]
    }
   ],
   "source": [
    "sum len : type len : a b a "
   ]
  },
  {
   "cell_type": "code",
   "execution_count": 4,
   "id": "23c75e4c-63af-4c73-bff8-8062643b2e13",
   "metadata": {},
   "outputs": [
    {
     "name": "stdout",
     "output_type": "stream",
     "text": [
      "(len:2)"
     ]
    }
   ],
   "source": [
    "sum len : type len : hello world"
   ]
  },
  {
   "cell_type": "code",
   "execution_count": 5,
   "id": "9f0a0d46-32a2-4f0b-a14e-58614464896d",
   "metadata": {},
   "outputs": [
    {
     "name": "stdout",
     "output_type": "stream",
     "text": [
      "(len:10)"
     ]
    }
   ],
   "source": [
    "sum len : type len : get 1? : hello world"
   ]
  },
  {
   "cell_type": "markdown",
   "id": "bf7edebf-d863-4bad-b93f-7364c9a6ca49",
   "metadata": {},
   "source": [
    "## Number of characters is a space too"
   ]
  },
  {
   "cell_type": "code",
   "execution_count": 9,
   "id": "6c259e74-99f6-44e0-89c9-d51d5d125527",
   "metadata": {},
   "outputs": [
    {
     "name": "stdout",
     "output_type": "stream",
     "text": []
    }
   ],
   "source": [
    "#\n",
    "#   nchar is a space too\n",
    "#\n",
    "def nchar:\n",
    "let type nchar : {some (has nchar:B) : ap {put nchar : count : get 1?:B} : B} \n",
    "let sum  nchar : {put nchar : aps int_add : pre 0 : get nchar : B} \n",
    "let term nchar : {get nchar:B} "
   ]
  },
  {
   "cell_type": "code",
   "execution_count": 13,
   "id": "bf63455b-6b63-4276-8692-6f7db7fabcb6",
   "metadata": {},
   "outputs": [
    {
     "name": "stdout",
     "output_type": "stream",
     "text": [
      "(nchar:1) (nchar:1) (nchar:0) (nchar:0) (nchar:0) (nchar:1) (nchar:5) (nchar:2) (nchar:2) (nchar:1) (nchar:1)"
     ]
    }
   ],
   "source": [
    "type nchar :  a b (:) (:) (:) b abssg ab ab a b"
   ]
  },
  {
   "cell_type": "code",
   "execution_count": 14,
   "id": "43bc584f-5805-4a87-b8b9-62538e810743",
   "metadata": {},
   "outputs": [
    {
     "name": "stdout",
     "output_type": "stream",
     "text": [
      "(nchar:14)"
     ]
    }
   ],
   "source": [
    "sum nchar : type nchar : a b (:) (:) (:) b abssg ab ab a b"
   ]
  },
  {
   "cell_type": "code",
   "execution_count": 11,
   "id": "88c717d9-6531-4f83-9316-771d0f2aec70",
   "metadata": {},
   "outputs": [
    {
     "name": "stdout",
     "output_type": "stream",
     "text": [
      "(nchar:0)"
     ]
    }
   ],
   "source": [
    "sum nchar : type nchar : "
   ]
  },
  {
   "cell_type": "code",
   "execution_count": null,
   "id": "71fc2d79-19ec-4d4d-b833-96cad964c817",
   "metadata": {},
   "outputs": [],
   "source": []
  }
 ],
 "metadata": {
  "kernelspec": {
   "display_name": "coda",
   "language": "",
   "name": "coda"
  },
  "language_info": {
   "file_extension": ".co",
   "mimetype": "text/plain",
   "name": "Any text"
  }
 },
 "nbformat": 4,
 "nbformat_minor": 5
}
