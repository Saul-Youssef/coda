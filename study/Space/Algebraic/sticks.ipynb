{
 "cells": [
  {
   "cell_type": "markdown",
   "id": "c08ab240-37c5-4876-8a1a-49b17a70e9f9",
   "metadata": {},
   "source": [
    "The space of \"sticks\" is the space of finite sequences of |, which is the same as the space of natural numbers.  \n",
    "\n",
    "Let's search for \"algebraic data about the natural numbers\" by searching for data D such that D:stick:X Y = D:stick:Y X.  We first search for the subset of suc\n",
    "\n"
   ]
  },
  {
   "cell_type": "code",
   "execution_count": 4,
   "id": "fa6dd69d-25bb-4360-928c-3cce199b2807",
   "metadata": {},
   "outputs": [
    {
     "name": "stdout",
     "output_type": "stream",
     "text": [
      "(:|) (:|) (:|)"
     ]
    }
   ],
   "source": [
    "ap {put : stick:B} : 1 2 3 "
   ]
  },
  {
   "cell_type": "code",
   "execution_count": null,
   "id": "4fe034a7-fec3-4db4-b743-fb7213ee8b58",
   "metadata": {},
   "outputs": [],
   "source": []
  }
 ],
 "metadata": {
  "kernelspec": {
   "display_name": "coda",
   "language": "",
   "name": "coda"
  },
  "language_info": {
   "file_extension": ".co",
   "mimetype": "text/plain",
   "name": "Any text"
  }
 },
 "nbformat": 4,
 "nbformat_minor": 5
}
