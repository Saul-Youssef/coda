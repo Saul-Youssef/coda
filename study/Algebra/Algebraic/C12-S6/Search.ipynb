{
 "cells": [
  {
   "cell_type": "code",
   "execution_count": null,
   "id": "bdfffcd4-8b23-480e-ac17-54ff89300b5b",
   "metadata": {
    "tags": []
   },
   "outputs": [],
   "source": [
    "defaultTime:1000"
   ]
  },
  {
   "cell_type": "code",
   "execution_count": null,
   "id": "a29bf6b2-affd-4a5b-892d-f480978ed280",
   "metadata": {
    "tags": []
   },
   "outputs": [],
   "source": [
    "import : dir co : up : up : up : ."
   ]
  },
  {
   "cell_type": "code",
   "execution_count": null,
   "id": "0f120edd-9b53-49fa-a512-3e770ef7cb32",
   "metadata": {},
   "outputs": [],
   "source": [
    "Def F : {ap {if (right:B):(:arg:B)} : B} "
   ]
  },
  {
   "cell_type": "code",
   "execution_count": null,
   "id": "67b9f89f-498a-4082-8da8-f1da236413ed",
   "metadata": {},
   "outputs": [],
   "source": [
    "#\n",
    "#   Search space a.k.a. \n",
    "#\n",
    "Let Domain : C12?: \n",
    "count : Domain? "
   ]
  },
  {
   "cell_type": "code",
   "execution_count": null,
   "id": "4e3d35e0-8391-42b5-9024-0f01eab47864",
   "metadata": {},
   "outputs": [],
   "source": [
    "out algebraic_L1 3600 : dom 100 : property algebraic_L1 S6? : Domain? \n",
    "out algebraic_L1.can 3600 : F : in stable : algebraic_L1 "
   ]
  },
  {
   "cell_type": "code",
   "execution_count": null,
   "id": "f50fbab9-da2a-4d31-9f59-4ca56304985a",
   "metadata": {},
   "outputs": [],
   "source": [
    "out algebraic_L2 3600 : dom 100 : property algebraic_L2 S6? : in : algebraic_L1.can \n",
    "out algebraic_L2.can 3600 : F : in stable : algebraic_L2 "
   ]
  },
  {
   "cell_type": "code",
   "execution_count": null,
   "id": "3008aab8-3aa6-4da4-b0d1-7f3d38e648c4",
   "metadata": {},
   "outputs": [],
   "source": []
  },
  {
   "cell_type": "code",
   "execution_count": null,
   "id": "a7b880c5-39ff-4ba4-a2e3-146fc4c8570c",
   "metadata": {},
   "outputs": [],
   "source": [
    "out algebraic_R1 3600 : dom 100 : property algebraic_R1 S6? : Domain? \n",
    "out algebraic_R1.can 3600 : F : in stable : algebraic_R1 "
   ]
  },
  {
   "cell_type": "code",
   "execution_count": null,
   "id": "a58541bf-b46f-4f49-83aa-b460a0d7b976",
   "metadata": {},
   "outputs": [],
   "source": [
    "out algebraic_R2 3600 : dom 100 : property algebraic_R2 S6? : in : algebraic_R1.can \n",
    "out algebraic_R2.can 3600 : F : in stable : algebraic_R2 "
   ]
  },
  {
   "cell_type": "code",
   "execution_count": null,
   "id": "557d4f1d-e56f-4482-ba42-f142488f956d",
   "metadata": {},
   "outputs": [],
   "source": []
  },
  {
   "cell_type": "code",
   "execution_count": null,
   "id": "b34958c9-0f62-4cec-9a34-b4bcff6c11a2",
   "metadata": {},
   "outputs": [],
   "source": [
    "out algebraic_L3 3600 : dom 100 : property algebraic_L3 S6? : in : algebraic_L2.can \n",
    "out algebraic_L3.can 3600 : F : in stable : algebraic_L3 "
   ]
  },
  {
   "cell_type": "code",
   "execution_count": null,
   "id": "8285834c-cc89-4251-aa0e-d54316c8d6ff",
   "metadata": {},
   "outputs": [],
   "source": [
    "out algebraic_R3 3600 : dom 100 : property algebraic_R3 S6? : in : algebraic_R2.can \n",
    "out algebraic_R3.can 3600 : F : in stable : algebraic_R3 "
   ]
  },
  {
   "cell_type": "code",
   "execution_count": null,
   "id": "066671ed-f376-4622-a65e-6f736f3ec7b9",
   "metadata": {},
   "outputs": [],
   "source": [
    "count : in : algebraic_L1.can \n",
    "count : in : algebraic_L2.can\n",
    "count : in : algebraic_L3.can\n",
    "count : in : algebraic_R1.can\n",
    "count : in : algebraic_R2.can\n",
    "count : in : algebraic_R3.can"
   ]
  },
  {
   "cell_type": "code",
   "execution_count": null,
   "id": "0543d6ef-54dc-4303-a73a-8f2aeb82c517",
   "metadata": {},
   "outputs": [],
   "source": [
    "tab : in : algebraic_L3.can "
   ]
  },
  {
   "cell_type": "code",
   "execution_count": null,
   "id": "d4103c40-b213-46c0-b307-32b915751cc2",
   "metadata": {},
   "outputs": [],
   "source": [
    "tab : in : algebraic_R3.can"
   ]
  },
  {
   "cell_type": "code",
   "execution_count": null,
   "id": "f8b1afc5-0522-4afb-b506-dd0e28205e82",
   "metadata": {},
   "outputs": [],
   "source": []
  }
 ],
 "metadata": {
  "kernelspec": {
   "display_name": "coda",
   "language": "",
   "name": "coda"
  },
  "language_info": {
   "file_extension": ".co",
   "mimetype": "text/plain",
   "name": "Any text"
  }
 },
 "nbformat": 4,
 "nbformat_minor": 5
}
