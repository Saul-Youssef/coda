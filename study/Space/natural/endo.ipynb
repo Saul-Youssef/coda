{
 "cells": [
  {
   "cell_type": "code",
   "execution_count": 1,
   "id": "50336dbf-da29-49bd-bee2-326d2c9b6aeb",
   "metadata": {},
   "outputs": [],
   "source": [
    "from endo import *"
   ]
  },
  {
   "cell_type": "code",
   "execution_count": 8,
   "id": "2cca586f-bd35-458a-909a-0e4f04f5c6db",
   "metadata": {},
   "outputs": [
    {
     "name": "stdout",
     "output_type": "stream",
     "text": [
      "[]\n",
      "[0]\n",
      "[1]\n",
      "[0, 1]\n",
      "[2]\n",
      "[0, 2]\n",
      "[1, 2]\n",
      "[0, 1, 2]\n",
      "[3]\n",
      "[0, 3]\n",
      "[1, 3]\n",
      "[0, 1, 3]\n",
      "[2, 3]\n",
      "[0, 2, 3]\n",
      "[1, 2, 3]\n",
      "[0, 1, 2, 3]\n"
     ]
    }
   ],
   "source": [
    "for s in subsets(range(4)): print(s)"
   ]
  },
  {
   "cell_type": "code",
   "execution_count": 42,
   "id": "768107fe-4dc1-475e-9631-9c56cb4f2d1b",
   "metadata": {},
   "outputs": [
    {
     "name": "stdout",
     "output_type": "stream",
     "text": [
      "2\n",
      "(1, 3)\n",
      "(0, 2, 3)\n"
     ]
    }
   ],
   "source": [
    "Subs = set([tuple(s) for s in subsets(range(4))])\n",
    "len(Subs)\n",
    "for n in range(9):\n",
    "    for e in End(n).space():\n",
    "        if e.space(): \n",
    "            D = tuple([i for i in e.domain()]) \n",
    "            if D in Subs: Subs.remove(D)\n",
    "    for e in EndMod(n).space():\n",
    "        if e.space():\n",
    "            D = tuple([i for i in e.domain()])\n",
    "            if D in Subs: Subs.remove(D)\n",
    "print(len(Subs))\n",
    "for s in Subs: print(s)"
   ]
  },
  {
   "cell_type": "code",
   "execution_count": null,
   "id": "471ad9c2-ed20-42e2-8d58-409f2e3f9ede",
   "metadata": {},
   "outputs": [],
   "source": [
    "Subs = set([tuple(s) for s in subsets(range(5))])\n",
    "len(Subs)\n",
    "for n in range(10):\n",
    "    for e in End(n).space():\n",
    "        if e.space(): \n",
    "            D = tuple([i for i in e.domain()]) \n",
    "            if D in Subs: Subs.remove(D)\n",
    "    for e in EndMod(n).space():\n",
    "        if e.space():\n",
    "            D = tuple([i for i in e.domain()])\n",
    "            if D in Subs: Subs.remove(D)\n",
    "print(len(Subs))\n",
    "for s in Subs: print(s)"
   ]
  },
  {
   "cell_type": "code",
   "execution_count": null,
   "id": "bad4cc2f-bbf6-4058-9e5d-369ca068fb06",
   "metadata": {},
   "outputs": [],
   "source": [
    "for s in subsets(2): print(s)"
   ]
  },
  {
   "cell_type": "code",
   "execution_count": 49,
   "id": "f89d9ef1-3ba9-4a34-9669-0cd80e26aaa2",
   "metadata": {},
   "outputs": [
    {
     "name": "stdout",
     "output_type": "stream",
     "text": [
      "00000 [0]\n",
      "01111 [0, 1]\n",
      "01222 [0, 1, 2]\n",
      "01233 [0, 1, 2, 3]\n",
      "01234 [0, 1, 2, 3, 4]\n",
      "01244 [0, 1, 2, 4]\n",
      "01333 [0, 1, 3]\n",
      "01444 [0, 1, 4]\n",
      "02222 [0, 2]\n",
      "03333 [0, 3]\n",
      "04444 [0, 4]\n",
      "11111 [1]\n",
      "22222 [2]\n",
      "33333 [3]\n",
      "44444 [4]\n"
     ]
    }
   ],
   "source": [
    "for e in End(5).space(): print(e,[i for i in e.domain()])"
   ]
  },
  {
   "cell_type": "code",
   "execution_count": 51,
   "id": "e1ee0150-5ffb-4428-a0f3-388ff890f498",
   "metadata": {},
   "outputs": [],
   "source": [
    "spaces = [e for e in End(5).space()] "
   ]
  },
  {
   "cell_type": "code",
   "execution_count": 74,
   "id": "5d484896-d25f-498c-b65a-57ed0f2006e1",
   "metadata": {},
   "outputs": [
    {
     "name": "stdout",
     "output_type": "stream",
     "text": [
      "n: 6 spaces: 24 special: 6\n",
      "000000   6 6\n",
      "010101   4 2\n",
      "012012   3 2\n",
      "012345   6 6\n",
      "015015   2 2\n",
      "030303   3 2\n",
      "042042   2 2\n",
      "045045   2 2\n",
      "050505   2 2\n",
      "111111   5 5\n",
      "212121   2 1\n",
      "222222   4 4\n",
      "232323   2 1\n",
      "252525   1 1\n",
      "312312   1 1\n",
      "315315   1 1\n",
      "333333   3 3\n",
      "342342   1 1\n",
      "345345   1 1\n",
      "414141   1 1\n",
      "434343   1 1\n",
      "444444   2 2\n",
      "454545   1 1\n",
      "555555   1 1\n"
     ]
    }
   ],
   "source": [
    "\n",
    "def Spectrum(n):\n",
    "    E = End(n)\n",
    "    Space = [e for e in E.space()]\n",
    "    Special = [e for e in E.special()] \n",
    "    Special2= [e for e in EndMod(n).special()] \n",
    "    \n",
    "    print('n:',n,'spaces:',len(Space),'special:',len(Special)) \n",
    "\n",
    "    for s in Space:\n",
    "        n = len([t for t in Special  if s.commute(t)]) \n",
    "        m = len([t for t in Special2 if s.commute(t)]) \n",
    "        print(s,' ',n,m)\n",
    "\n",
    "def SpectrumMod(n):\n",
    "    E = EndMod(n)\n",
    "    Space = [e for e in E.space()]\n",
    "    Special = [e for e in E.special()] \n",
    "    Special2= [e for e in End(n).special()] \n",
    "    \n",
    "    print('n:',n,'spaces:',len(Space),'special:',len(Special)) \n",
    "\n",
    "    for s in Space:\n",
    "        n = len([t for t in Special  if s.commute(t)]) \n",
    "        m = len([t for t in Special2 if s.commute(t)]) \n",
    "        print(s,' ',n,m)\n",
    "\n",
    "SpectrumMod(6)\n",
    "#\n",
    "#for s in End(5).space():\n",
    "#    n = len([t for t in End(5).special() if s.commute(t)]) \n",
    "#    m = len([t for t in EndMod(5).special() if s.commute(t)]) \n",
    "#    print(s,' ',n,m)\n",
    "#    if any(s.commute(t) for t in End(5).special()): \n",
    "#        print(s)\n",
    "#    else:\n",
    "#        print('--',s)\n",
    "#    for t in End(5).special(): \n",
    "#        if not s.commute(t): print(s,' ',t)"
   ]
  },
  {
   "cell_type": "code",
   "execution_count": null,
   "id": "8aefcbe1-06e9-4217-bb67-2fa0dacf9fe6",
   "metadata": {},
   "outputs": [],
   "source": [
    "for e in EndMod(7).space(): print(e,[i for i in e.domain()])"
   ]
  },
  {
   "cell_type": "code",
   "execution_count": null,
   "id": "7c71b637-824e-4b70-bc5d-5430d1d9dc9a",
   "metadata": {},
   "outputs": [],
   "source": [
    "for e in EndMod(6).space(): print(e,[i for i in e.domain()])"
   ]
  },
  {
   "cell_type": "code",
   "execution_count": null,
   "id": "087ff85c-41bd-4f5d-a43d-e77573ba3ec2",
   "metadata": {
    "tags": []
   },
   "outputs": [],
   "source": [
    "for e in EndMod(9).space(): print(e,[i for i in e.domain()])"
   ]
  },
  {
   "cell_type": "code",
   "execution_count": null,
   "id": "90e27449-2092-4ef7-a389-159248dc79f1",
   "metadata": {
    "tags": []
   },
   "outputs": [],
   "source": [
    "E = End(4)\n",
    "for s in E.special(): print(s)\n",
    "for e in E: \n",
    "    if e.space(): \n",
    "        print(e)\n",
    "        for s in E.special():\n",
    "            print('-',e.commute(s))"
   ]
  },
  {
   "cell_type": "code",
   "execution_count": null,
   "id": "fbc08071-cf75-4fe3-9dd6-374381ee8d32",
   "metadata": {},
   "outputs": [],
   "source": [
    "print(len([e for e in End(5)]))\n",
    "print(len([e for e in End(5) if e.idempotent()])) \n",
    "print(len([e for e in End(5) if e.involution()]))\n",
    "print(len([e for e in End(5) if e.space()])) \n",
    "\n",
    "print(len([e for e in EndMod(5)]))\n",
    "print(len([e for e in EndMod(5) if e.idempotent()])) \n",
    "print(len([e for e in EndMod(5) if e.involution()]))\n",
    "print(len([e for e in EndMod(5) if e.space()])) "
   ]
  },
  {
   "cell_type": "code",
   "execution_count": null,
   "id": "a1c871cb-c939-4f81-bd41-199df613cbf8",
   "metadata": {},
   "outputs": [],
   "source": [
    "print(len([e for e in End(6)]))\n",
    "print(len([e for e in End(6) if e.idempotent()])) \n",
    "print(len([e for e in End(6) if e.involution()]))\n",
    "print(len([e for e in End(6) if e.space()])) \n",
    "\n",
    "print(len([e for e in EndMod(6)]))\n",
    "print(len([e for e in EndMod(6) if e.idempotent()])) \n",
    "print(len([e for e in EndMod(6) if e.involution()]))\n",
    "print(len([e for e in EndMod(6) if e.space()])) "
   ]
  },
  {
   "cell_type": "code",
   "execution_count": null,
   "id": "c6895f41-4c0d-4441-bbb1-ce442dd90eef",
   "metadata": {},
   "outputs": [],
   "source": [
    "#\n",
    "#   A055225 \n",
    "#   https://oeis.org/search?q=1%2c3%2c4%2c9%2c6%2c24%2c8%2c41%20id%3a55225&sort=references\n",
    "#\n",
    "#   A000217\n",
    "#   \"Triangular Numbers\"\n",
    "#\n",
    "for n in range(9):\n",
    "    E1 = End(n)\n",
    "    E2 = EndMod(n)\n",
    "    I1 = [e for e in End(n) if e.idempotent()]\n",
    "    I2 = [e for e in EndMod(n) if e.idempotent()] \n",
    "    S1 = [e for e in End(n) if e.space()]\n",
    "    S2 = [e for e in EndMod(n) if e.space()]\n",
    "    print(n,len(E1),len(I1),len(S1),len(I2),len(S2))"
   ]
  },
  {
   "cell_type": "code",
   "execution_count": null,
   "id": "a49974e4-3948-4b61-9698-0ff632b37645",
   "metadata": {},
   "outputs": [],
   "source": [
    "for n in range(9):\n",
    "    print(len([e for e in End(n) if e.space()]))\n",
    "print('-')\n",
    "for n in range(9):\n",
    "    print(len([e for e in EndMod(n) if e.space()]))"
   ]
  },
  {
   "cell_type": "code",
   "execution_count": null,
   "id": "5095a868-9566-4454-bf24-1e6004ff2378",
   "metadata": {
    "tags": []
   },
   "outputs": [],
   "source": [
    "def f(n): return int((n*(n+1))/2)\n",
    "for i in range(10): print(f(i))"
   ]
  },
  {
   "cell_type": "code",
   "execution_count": null,
   "id": "5e9765b7-b0cb-4d26-ad16-e57e886c2a0b",
   "metadata": {},
   "outputs": [],
   "source": [
    "10%2"
   ]
  },
  {
   "cell_type": "code",
   "execution_count": null,
   "id": "1bc3131e-2f60-492e-9290-ac782555ae3a",
   "metadata": {},
   "outputs": [],
   "source": [
    "def g(n):\n",
    "    sum = 0 \n",
    "    for k in range(1,n):\n",
    "        if (n%k)==0: sum += (n//k)**k\n",
    "    return sum "
   ]
  },
  {
   "cell_type": "code",
   "execution_count": null,
   "id": "ab062e55-d4a8-4946-a925-30673c6fdaae",
   "metadata": {},
   "outputs": [],
   "source": [
    "for i in range(10): print(i,g(i))"
   ]
  },
  {
   "cell_type": "code",
   "execution_count": null,
   "id": "eba945b4-fb40-460e-9caa-b84d2004d1f1",
   "metadata": {},
   "outputs": [],
   "source": []
  }
 ],
 "metadata": {
  "kernelspec": {
   "display_name": "Python 3 (ipykernel)",
   "language": "python",
   "name": "python3"
  },
  "language_info": {
   "codemirror_mode": {
    "name": "ipython",
    "version": 3
   },
   "file_extension": ".py",
   "mimetype": "text/x-python",
   "name": "python",
   "nbconvert_exporter": "python",
   "pygments_lexer": "ipython3",
   "version": "3.11.1"
  }
 },
 "nbformat": 4,
 "nbformat_minor": 5
}
