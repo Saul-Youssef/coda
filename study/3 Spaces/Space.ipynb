{
 "cells": [
  {
   "cell_type": "markdown",
   "id": "f222d34e-b9ee-4455-83f6-11115c259143",
   "metadata": {},
   "source": [
    "Data A is a **space** if \n",
    "\n",
    "1. A X : Y Z = A : (A X:Y) (A X:Z) and \n",
    "2. A X Y : Z = A X: A Y: Z \n",
    "\n",
    "for all data X,Y,Z.\n",
    "\n",
    "As an example, let's consider the pure space of natural numbers defined by \n",
    "\n",
    "`def n : {int_prod : (int_prod:A) (int_sum:B)}`\n",
    "\n",
    "..."
   ]
  },
  {
   "cell_type": "code",
   "execution_count": 1,
   "id": "2e6b0c95-d304-42d3-be6b-a8a5d03d0aa0",
   "metadata": {},
   "outputs": [
    {
     "name": "stdout",
     "output_type": "stream",
     "text": []
    }
   ],
   "source": [
    "#\n",
    "#   Prepare some samples for testing purposes \n",
    "#   \n",
    "#   S1: hydrogen atoms\n",
    "#   S2: more general atoms mix \n",
    "#   S3: pure data mix\n",
    "#   S4: mix with operators and language.\n",
    "#\n",
    "Let S1 : sample.atom : 5\n",
    "Let S2 : permutation 2 : (:) a b 0 1 (bin:a) (bin 1 2:a b) (bin a: bin b:1 2)\n",
    "Let S3 : sample.pure : 2 2 \n",
    "Let S4 : sample.data <A> <B> <{$}> 0 1 a b (defs:Basic) : 2 2 \n",
    "\n",
    "Def idemp0 : {count:((B:B:x?)=(B:x?))} \n",
    "Def idemp1 : {count:((B x? : B : y?)=(B:B x?:y?))} \n",
    "\n",
    "Def n : {int_prod : (int_prod:A) (int_sum:B)}\n",
    "Def Idemp0 : {get with : eval : cases (idemp0:B) : A}\n",
    "Def Idemp1 : {get with : eval : cases (idemp1:B) : A} \n",
    "Def IDEMP0 : ap {bin B : int_sum : Idemp0 A : B} \n",
    "Def IDEMP1 : ap {bin B : int_sum : Idemp1 A : B} "
   ]
  },
  {
   "cell_type": "code",
   "execution_count": 2,
   "id": "17bb5b92-d4f7-4eaa-b942-723bb473f14a",
   "metadata": {},
   "outputs": [
    {
     "name": "stdout",
     "output_type": "stream",
     "text": [
      "0 0 0 0 0 0 0 0 0 0 0 0 0 0 0 0 0 0 0 0 0 0 0 0 0 0 0 0 0 0 0 0 0 0 0 0 0 0 0 0 0 0 0 0 0 0 0 0 0 0 0 0 0 0 0 0 0 0 0 0 0 0 0 0 0 0 0 0 0\n",
      "(bin first:0) (bin pass:0) (bin {first 2:B}:0)"
     ]
    }
   ],
   "source": [
    "Idemp0 S1? S2? : first \n",
    "IDEMP0 S1? : first pass {first 2:B}"
   ]
  },
  {
   "cell_type": "code",
   "execution_count": 3,
   "id": "a424e892-018b-4303-90e3-ad4a25a4b68a",
   "metadata": {},
   "outputs": [
    {
     "name": "stdout",
     "output_type": "stream",
     "text": []
    }
   ],
   "source": [
    "Def F2 : {put bin A (arg bin:B) : (get bin:B)} \n",
    "Def F1 : {put bin : (get bin:B) } \n",
    "Def F0 : int_sum "
   ]
  },
  {
   "cell_type": "code",
   "execution_count": 4,
   "id": "b63a84ed-219c-4075-bcff-c02d59b2fbbb",
   "metadata": {},
   "outputs": [
    {
     "name": "stdout",
     "output_type": "stream",
     "text": [
      "(bin n:0)"
     ]
    }
   ],
   "source": [
    "IDEMP0 S1? S2? S3? : n "
   ]
  },
  {
   "cell_type": "code",
   "execution_count": 5,
   "id": "0689c1bd-e351-413f-94fc-4f298201a7b9",
   "metadata": {},
   "outputs": [
    {
     "name": "stdout",
     "output_type": "stream",
     "text": [
      "(bin F0:0) (bin F1:0) (bin F2:0)\n",
      "(bin F0:0) (bin F1:0) (bin F2:0)\n",
      "(bin F0:0) (bin F1:0) (bin F2:0)"
     ]
    }
   ],
   "source": [
    "IDEMP0 S1? : F0 F1 F2\n",
    "IDEMP0 S2? : F0 F1 F2\n",
    "IDEMP0 S3? : F0 F1 F2 "
   ]
  },
  {
   "cell_type": "code",
   "execution_count": 6,
   "id": "5c4f162e-743f-408e-b1ec-240f6ca0676d",
   "metadata": {},
   "outputs": [
    {
     "name": "stdout",
     "output_type": "stream",
     "text": [
      "(bin n:0)"
     ]
    }
   ],
   "source": [
    "IDEMP1 S1? : n "
   ]
  },
  {
   "cell_type": "code",
   "execution_count": 7,
   "id": "7233cbf6-ee1e-4c87-9cd8-29d931389b60",
   "metadata": {},
   "outputs": [
    {
     "name": "stdout",
     "output_type": "stream",
     "text": [
      "(bin n:0)"
     ]
    }
   ],
   "source": [
    "IDEMP1 S1? S2? S3? : n "
   ]
  },
  {
   "cell_type": "code",
   "execution_count": null,
   "id": "7651764d-6e2f-40d2-a8ae-e181abb6e440",
   "metadata": {},
   "outputs": [],
   "source": [
    "IDEMP1 S1? S2? S3? : F0"
   ]
  },
  {
   "cell_type": "code",
   "execution_count": null,
   "id": "fd57ec6d-1d55-483e-a3a8-635c54c2250b",
   "metadata": {},
   "outputs": [],
   "source": [
    "IDEMP1 S1? S2? S3? : F1 "
   ]
  },
  {
   "cell_type": "code",
   "execution_count": null,
   "id": "fac1a5cc-fc81-4081-98d3-f80f9125424a",
   "metadata": {},
   "outputs": [],
   "source": [
    "IDEMP1 S1? S2? S3? : F2 "
   ]
  }
 ],
 "metadata": {
  "kernelspec": {
   "display_name": "coda",
   "language": "",
   "name": "coda"
  },
  "language_info": {
   "file_extension": ".co",
   "mimetype": "text/plain",
   "name": "Any text"
  }
 },
 "nbformat": 4,
 "nbformat_minor": 5
}
