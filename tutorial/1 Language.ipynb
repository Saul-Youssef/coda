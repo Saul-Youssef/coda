{
 "cells": [
  {
   "cell_type": "markdown",
   "id": "6c303e90-85f2-4dba-853f-dfa51abbe4a0",
   "metadata": {},
   "source": [
    "## The Language\n",
    "\n",
    "The standard foundations of Mathematics is a **formal theory** consisting of the following. \n",
    "\n",
    "1. Two **alphabets**, one for **special symbols** like \"&forall;\" and \"&exist;\" and another for **variable** names like \"x\", \"y\", \"z\".\n",
    "2. Syntax rules for excluding meaningless sentences like \"∀ x (y:z) ∀ ∀ ∃\", and for defining **free variables** and closed formulas without free variables. \n",
    "3. **Deduction rules** for constructing closed formulas from closed formulas.\n",
    "4. A collection of closed formulas called **axioms**.\n",
    "\n",
    "The axioms are meant to be \"true\" intuitively so that &forall; is supposed to behave like what we think of as \"for all\", etc.  For example, the Zermelo-Fraenkel set theory with the Axiom of Choice (ZFC) has ten axioms.  This is the most often cited foundation of Mathematics meaning that mathematical results should be reducible, in principle, to valid deductions in ZFC. \n",
    "\n",
    "This is meant to be an alternative to this as a foundation.  Rather than assuming or using predicate logic syntax, the foundation here is the **finite sequence**.  From this, one defines \"pure\" data and coda.  Logic in is then internal, derived and \"2+ valued\", where `()` and `(:)` are the iconic \"true\" and \"false\" valuea and where there are many \"undecided\" data values like `(foo:bar)`.  We have only one axiom - it is the axiom that defines what constitutes a valid definition.  The language itself is merely one definition like any other.  This means that we don't need any additional axioms or deduction rules. \n",
    "\n",
    "A definition is just a partial function from codas to data.  The language, for instance, is a partial function from coda to data, acting on codas of the form ({...some source code...} A : B) where A and B are any data.  There are essentially only two operations:\n",
    "\n",
    "1. Concatenation of data A and data B, written `A B`.\n",
    "2. Creating a coda from data A and data B, written `A:B`.\n",
    "\n",
    "and the essential idea of the language is to make these two operations specifyable in text string source code ({...some source code...} A : B) and to get programmatic access to the \"A\" data (sometimes called \"argument data\") and the \"B\" data (sometimes called \"input\").  Thus, a sketch of the internal definition is:\n",
    "\n",
    "* `{x : y} A : B` &rightarrow; `({x} A : B) : ({y} A : B)` ..to specify forming a coda from two data \n",
    "* `{x   y} A : B` &rightarrow; `({x} A : B)   ({y} A : B)` ..to specify concatenation of two data \n",
    "* `{A} A : B` &rightarrow; `A` ..to get the \"A part\" of the coda.\n",
    "* `{B} A : B` &rightarrow; `B` ..to get the \"B part\" of the coda.\n",
    "\n",
    "Because the compiler is merely a standard definition, the meaning of the language does not need a special explanation or additional axioms.  We don't even have to define proper syntax.  Coda has the unusual property that all finite sequences of bytes are valid language expressions.  There is no such thing as a syntax error. \n",
    "\n",
    "The full compiler is tiny, easily readable, and can be found in Language.py.  The full compiler and parser is only about 100 lines of Python."
   ]
  },
  {
   "cell_type": "code",
   "execution_count": 1,
   "id": "18c3a276-feb9-4205-9615-c8861cc22f56",
   "metadata": {},
   "outputs": [
    {
     "name": "stdout",
     "output_type": "stream",
     "text": [
      "a b c d e f g"
     ]
    }
   ],
   "source": [
    "#\n",
    "#   Coda uses spaces to denote concatenation and parenthesis to group operations.\n",
    "#   Comment lines must start with # are considered to be comments.\n",
    "#\n",
    "a b (c d) e (f g)"
   ]
  },
  {
   "cell_type": "code",
   "execution_count": 2,
   "id": "089327b3-7318-4b62-9214-0ca0f1b77595",
   "metadata": {},
   "outputs": [
    {
     "name": "stdout",
     "output_type": "stream",
     "text": [
      "3 2 1"
     ]
    }
   ],
   "source": [
    "#\n",
    "#   There are basically two operations: concatenation and colon. here, \n",
    "#   for instance, we reverse the order of 1 2 3 using rev.  This works by first \n",
    "#   creating the coda (rev : 1 2 3).  A definition applies to this coda, which \n",
    "#   results the \"input\" to rev in reverse order 3 2 1.  \n",
    "#\n",
    "rev : 1 2 3 "
   ]
  },
  {
   "cell_type": "code",
   "execution_count": 3,
   "id": "621247e9-81d6-41f0-9833-b6acb8239d8a",
   "metadata": {},
   "outputs": [
    {
     "name": "stdout",
     "output_type": "stream",
     "text": [
      "a b"
     ]
    }
   ],
   "source": [
    "#\n",
    "#   Some \"commands\" like rev have arguments.  first, for example, gets \n",
    "#   the first items from a sequence. \n",
    "#\n",
    "first 2 : a b c d e "
   ]
  },
  {
   "cell_type": "code",
   "execution_count": 4,
   "id": "81bf72d5-31ad-4db3-9011-a72de943512a",
   "metadata": {},
   "outputs": [
    {
     "name": "stdout",
     "output_type": "stream",
     "text": [
      "e d"
     ]
    }
   ],
   "source": [
    "#\n",
    "#   Colons can be combined. The default grouping is from the right.  This is first 2 : (rev : a b c d e).\n",
    "#   (first 2 : rev ) : a b c d e is completely different.  Intuitively, you can think of data flowing \n",
    "#   from the right to the left with a b c d e consumed by rev, and then, the result gets consumed \n",
    "#   by \"first 2:\".\n",
    "#\n",
    "first 2 : rev : a b c d e "
   ]
  },
  {
   "cell_type": "code",
   "execution_count": 5,
   "id": "2bbd88a8-9f33-4414-9f50-dde2697a3db1",
   "metadata": {},
   "outputs": [
    {
     "name": "stdout",
     "output_type": "stream",
     "text": [
      "e d"
     ]
    }
   ],
   "source": [
    "#\n",
    "#   Lines are continued by indentation.\n",
    "#\n",
    "first 2 : rev : a b \n",
    "   c d e"
   ]
  },
  {
   "cell_type": "code",
   "execution_count": 6,
   "id": "18967a58-9362-4a3c-9b67-7adaae9b50aa",
   "metadata": {},
   "outputs": [
    {
     "name": "stdout",
     "output_type": "stream",
     "text": [
      "b a\n",
      "c d e"
     ]
    }
   ],
   "source": [
    "#\n",
    "#   Lines without indentation are the same as (line1) (line2), etc.  \n",
    "#\n",
    "first 2 : rev : a b\n",
    "c d e"
   ]
  },
  {
   "cell_type": "code",
   "execution_count": 7,
   "id": "68edaf1f-9ace-4a1e-8302-98f414fe3db6",
   "metadata": {},
   "outputs": [
    {
     "name": "stdout",
     "output_type": "stream",
     "text": [
      "a b"
     ]
    }
   ],
   "source": [
    "#\n",
    "#   Text in curly braces is interpreted as Coda language expressions.  \"B\" in the language, is a special symbol \n",
    "#   which refers to the \"input\", in this case, the data a b c d e... \n",
    "#\n",
    "{first 2 : B} : a b c d e "
   ]
  },
  {
   "cell_type": "code",
   "execution_count": 8,
   "id": "2ba15323-7e16-448f-9395-a1edcc13b89a",
   "metadata": {},
   "outputs": [
    {
     "name": "stdout",
     "output_type": "stream",
     "text": [
      "1 2 x y 1 2 x y"
     ]
    }
   ],
   "source": [
    "#\n",
    "#   The general language coda is ({...} A : B)  where \"A\" in the language referes to A and \"B\" refers to B.\n",
    "#\n",
    "{A B A B} 1 2 : x y "
   ]
  },
  {
   "cell_type": "code",
   "execution_count": 9,
   "id": "767a86b0-09c2-4f1a-9b19-fb330e1fde82",
   "metadata": {},
   "outputs": [
    {
     "name": "stdout",
     "output_type": "stream",
     "text": [
      "a b"
     ]
    }
   ],
   "source": [
    "#\n",
    "#   So you can do...\n",
    "#\n",
    "{first A : B} 2 : a b c d e "
   ]
  },
  {
   "cell_type": "code",
   "execution_count": 10,
   "id": "2edfc9af-25dd-428f-8291-3dd84df85b10",
   "metadata": {},
   "outputs": [
    {
     "name": "stdout",
     "output_type": "stream",
     "text": [
      "[1] (({{first A : B} 2 }:):({ a b c d e}:))\n",
      "[2] (({{first A : B}}:) ({2}:):({a b c d e}:))\n",
      "[3] (({first A } 2:({a b c d e}:)):({ B} 2:({a b c d e}:)))\n",
      "[4] (({first} 2:({a b c d e}:)) ({A} 2:({a b c d e}:)):({B} 2:({a b c d e}:)))\n",
      "[5] ({head (some A:1) : B} 2:({B} 2:({a b c d e}:)))\n",
      "[6] (({head (some A:1) } 2:({B} 2:({a b c d e}:))):({ B} 2:({B} 2:({a b c d e}:))))\n",
      "[7] (({head} 2:({B} 2:({a b c d e}:))) ({(some A:1)} 2:({B} 2:({a b c d e}:))):({B} 2:({B} 2:({a b c d e}:))))\n",
      "[8] (head (({some A} 2:({B} 2:({a b c d e}:))):({1} 2:({B} 2:({a b c d e}:)))):({B} 2:({a b c d e}:)))\n",
      "[9] (head 2:({a b c d e}:))\n",
      "[10] (head 2:({a}:) ({b c d e}:))\n",
      "[11] (head 2:a ({b}:) ({c d e}:))\n",
      "[12] a (head 1:({b}:) ({c d e}:))\n",
      "[13] a (head 1:b ({c}:) ({d e}:))\n",
      "[14] a b (head 0:({c}:) ({d e}:))\n",
      "[15] a b"
     ]
    }
   ],
   "source": [
    "#\n",
    "#   You can use \"step\" to show how data is evaluated in more detail.  \n",
    "#   Each step below is made by application of definitions.  You can see \n",
    "#   that Coda freely mixes data and source code as it computes.  \n",
    "#\n",
    "step : {first A : B} 2 : a b c d e"
   ]
  },
  {
   "cell_type": "code",
   "execution_count": 11,
   "id": "3848d910-f83d-4643-8d83-c091295548b6",
   "metadata": {},
   "outputs": [
    {
     "name": "stdout",
     "output_type": "stream",
     "text": [
      "e d"
     ]
    }
   ],
   "source": [
    "#\n",
    "#   You can use \"def\" to make your own definitions.  This one defines a new \n",
    "#   command \"mydef\" which gets the first n elements from the reversed input. \n",
    "#\n",
    "Def mydef : {first A : rev : B} \n",
    "mydef 2 : a b c d e"
   ]
  },
  {
   "cell_type": "code",
   "execution_count": 12,
   "id": "fd4d2b37-9e4e-4a97-9c2c-9b984cafb170",
   "metadata": {},
   "outputs": [
    {
     "name": "stdout",
     "output_type": "stream",
     "text": [
      "(rev:(foo:bar)) 3 2 1"
     ]
    }
   ],
   "source": [
    "#\n",
    "#   Notice how Coda handles \"undecided\" data like (foo:bar) where \n",
    "#   no current definition acts on (foo:...)...\n",
    "#\n",
    "rev : 1 2 3 (foo:bar)"
   ]
  },
  {
   "cell_type": "code",
   "execution_count": 13,
   "id": "0c90b76d-114d-4aca-83db-442e34fb0b60",
   "metadata": {},
   "outputs": [
    {
     "name": "stdout",
     "output_type": "stream",
     "text": [
      "2 1"
     ]
    }
   ],
   "source": [
    "#\n",
    "#   (foo:bar) is like a \"variable\", i.e. like something \n",
    "#   that may have a value in the future.  If (foo:bar) gets defined later, \n",
    "#   then (rev:(foo:bar)) 3 2 1 will evaluate to the correct answer while, at the same \n",
    "#   time, current computations will be correct, for instance... \n",
    "#\n",
    "last 2 : rev : 1 2 3 (foo:bar)"
   ]
  },
  {
   "cell_type": "code",
   "execution_count": 14,
   "id": "733a5ea2-b5e5-4e09-a3e0-dd8f1e0b65e8",
   "metadata": {},
   "outputs": [
    {
     "name": "stdout",
     "output_type": "stream",
     "text": [
      "(defaultTime:1)"
     ]
    }
   ],
   "source": [
    "defaultTime:1"
   ]
  },
  {
   "cell_type": "code",
   "execution_count": 15,
   "id": "61971247-f99b-48d6-85cf-a1bbecaf9536",
   "metadata": {},
   "outputs": [
    {
     "name": "stdout",
     "output_type": "stream",
     "text": [
      "0 1 2 3 4 5 6 7 8 9 10 11 12 13 14 15 16 17 18 19 20 21 22 23 24 25 26 27 28 29 30 31 32 33 34 35 36 37 38 39 40 41 42 43 44 45 46 47 48 49 50 51 52 53 54 55 56 57 58 59 60 61 62 63 64 65 66 67 68 69 70 71 72 73 74 75 76 77 78 79 80 81 82 83 84 85 86 87 88 89 90 91 92 93 94 95 96 97 98 99 100 101 102 103 104 105 106 107 108 109 110 111 112 113 114 115 116 117 118 119 120 121 122 123 124 125 126 127 128 129 130 131 132 133 134 135 136 137 138 139 140 141 142 143 144 145 146 147 148 149 150 151 152 153 154 155 156 157 158 159 160 161 162 163 164 165 166 167 168 169 170 171 172 173 174 175 176 177 178 179 180 181 182 183 184 185 186 187 188 189 190 191 192 193 194 195 196 197 198 199 200 201 202 203 204 205 206 207 208 209 210 211 212 213 214 215 216 217 218 219 220 221 222 223 224 225 226 227 228 229 230 231 232 233 234 235 236 237 238 239 240 241 242 243 244 245 246 247 248 249 250 251 252 253 254 255 256 257 258 259 260 261 262 263 264 265 266 267 268 269 270 271 272 273 274 275 276 277 278 279 280 281 282 283 284 285 286 287 288 289 290 291 292 293 294 295 296 297 298 299 300 301 302 303 304 305 306 307 308 309 310 311 312 313 314 315 316 317 318 319 320 321 322 323 324 325 326 327 328 329 330 331 332 333 334 335 336 337 338 339 340 341 342 343 344 345 346 347 348 349 350 351 352 353 354 355 356 357 358 359 360 361 362 363 364 365 366 367 368 369 370 371 372 373 374 375 376 377 378 379 380 381 382 383 384 385 386 387 388 389 390 391 392 393 394 395 396 397 398 399 400 401 402 403 (nat:404)"
     ]
    }
   ],
   "source": [
    "#\n",
    "#    Sequences in Coda are always finite sequences, but this isn't \n",
    "#    a real limitation.  The natural numbers, for instance are embodied by \n",
    "#    a definition (nat:n) -> n (nat:n+1).  This means that (nat:0) will get \n",
    "#    evaluated as necessary.  Although this is finite,  \n",
    "#\n",
    "(nat:0)"
   ]
  },
  {
   "cell_type": "code",
   "execution_count": 16,
   "id": "2deebc24-da8a-4e9b-9f91-f533f179d4f9",
   "metadata": {},
   "outputs": [
    {
     "name": "stdout",
     "output_type": "stream",
     "text": [
      "(rev:213 (nat:214)) 212 211 210 209 208 207 206 205 204 203 202 201 200 199 198 197 196 195 194 193 192 191 190 189 188 187 186 185 184 183 182 181 180 179 178 177 176 175 174 173 172 171 170 169 168 167 166 165 164 163 162 161 160 159 158 157 156 155 154 153 152 151 150 149 148 147 146 145 144 143 142 141 140 139 138 137 136 135 134 133 132 131 130 129 128 127 126 125 124 123 122 121 120 119 118 117 116 115 114 113 112 111 110 109 108 107 106 105 104 103 102 101 100 99 98 97 96 95 94 93 92 91 90 89 88 87 86 85 84 83 82 81 80 79 78 77 76 75 74 73 72 71 70 69 68 67 66 65 64 63 62 61 60 59 58 57 56 55 54 53 52 51 50 49 48 47 46 45 44 43 42 41 40 39 38 37 36 35 34 33 32 31 30 29 28 27 26 25 24 23 22 21 20 19 18 17 16 15 14 13 12 11 10 9 8 7 6 5 4 3 2 1 0"
     ]
    }
   ],
   "source": [
    "#\n",
    "#    What's the \"reverse of the natural numbers?\".  Let's see... \n",
    "#\n",
    "rev : nat : 0"
   ]
  },
  {
   "cell_type": "code",
   "execution_count": 17,
   "id": "5dae37ba-11a4-4923-ab1a-ce06f3b17f9c",
   "metadata": {},
   "outputs": [
    {
     "name": "stdout",
     "output_type": "stream",
     "text": [
      "0 1 2 3 4 5 6 7 8 9 10 11 12 13 14 15 16 17 18 19 20 21 22 23 24 25 26 27 28 29 30 31 32 33 34 35 36 37 38 39 40 41 42 43 44 45 46 47 48 49 50 51 52 53 54 55 56 57 58 59 60 61 62 63 64 65 66 67 68 69 70 71 72 73 74 75 76 77 78 79 80 81 82 83 84 85 86 87 88 89 90 91 92 93 94 95 96 97 98 99 100 101 102 103 104 105 106 107 108 109 110 111 112 113 114 115 116 117 118 119 120 121 122 123 124 125 126 127 128 129 130 131 (rev:(rev:(nat:133)) 132)"
     ]
    }
   ],
   "source": [
    "#\n",
    "#...And, for example, you can reverse twice to get the original natural numbers back.\n",
    "#\n",
    "rev : rev : nat : 0 "
   ]
  },
  {
   "cell_type": "code",
   "execution_count": 18,
   "id": "430be65b-4fdc-4fb9-8592-787cc8175297",
   "metadata": {},
   "outputs": [
    {
     "name": "stdout",
     "output_type": "stream",
     "text": [
      "4 3 2 1 0"
     ]
    }
   ],
   "source": [
    "#\n",
    "#   Notice, that, as expected, the \"first element of the reverse of the \n",
    "#   natural numbers\" is not defined.  Yet, the last element is perfectly OK.\n",
    "#\n",
    "last 5 : rev : nat : 0 "
   ]
  },
  {
   "cell_type": "code",
   "execution_count": 19,
   "id": "f88b8497-164c-4ad5-838c-1919de28b674",
   "metadata": {
    "tags": []
   },
   "outputs": [
    {
     "name": "stdout",
     "output_type": "stream",
     "text": [
      "\u001b[;1mcode:\u001b[0m\n",
      "    \u001b[34;7mfirst\u001b[0m\n",
      "\u001b[;1mmodule:\u001b[0m\n",
      "    Sequence\n",
      "\u001b[;1msummary:\u001b[0m\n",
      "    Basic sequence operations\n",
      "\u001b[;1mdescription:\u001b[0m\n",
      "\u001b[;1mpath:\u001b[0m\n",
      "    /Users/youssef/coda/co/Sequence.co\n",
      "\u001b[;1msource code:\u001b[0m\n",
      "    def first : {head (some A:1) : B}\n",
      "\u001b[;1mdemos:\u001b[0m\n",
      "    1. \u001b[35;4mhead 2 : a b c d e f g\u001b[0m\n",
      "    2. \u001b[35;4mtail 2 : a b c d e f g\u001b[0m\n",
      "    3. \u001b[35;4mfirst 2 : a b c d e f g\u001b[0m\n",
      "    4. \u001b[35;4mlast 2 : a b c d e f g\u001b[0m\n",
      "    5. \u001b[35;4mhead : a b c d e f g\u001b[0m\n",
      "    6. \u001b[35;4mtail :  a b c d e f g\u001b[0m\n",
      "    7. \u001b[35;4mfirst : a b c d e f g\u001b[0m\n",
      "    8. \u001b[35;4mlast : a b c d e f g\u001b[0m\n",
      "    9. \u001b[35;4mhead 2 1 : a b c d e f g\u001b[0m\n",
      "    10. \u001b[35;4mtail 2 1 : a b c d e f g\u001b[0m\n",
      "    11. \u001b[35;4mskip : a b c\u001b[0m\n",
      "    12. \u001b[35;4mskip 2 : a b c d e\u001b[0m\n",
      "    13. \u001b[35;4mby 2 : a b c d e\u001b[0m\n",
      "    14. \u001b[35;4mby : a b c d e\u001b[0m\n",
      "    15. \u001b[35;4mby 2 : nat : 0\u001b[0m\n"
     ]
    }
   ],
   "source": [
    "#\n",
    "#   defs: produces a list of current definitions in context and \n",
    "#   help : first, etc. gives help information and demos which \n",
    "#   you can execute by hand or via the \"demo\" command.\n",
    "#\n",
    "help : first"
   ]
  },
  {
   "cell_type": "code",
   "execution_count": 20,
   "id": "2f8a6b0d-98e2-4a3e-aec1-68d7f7de1fcf",
   "metadata": {},
   "outputs": [
    {
     "name": "stdout",
     "output_type": "stream",
     "text": [
      "f g"
     ]
    }
   ],
   "source": [
    "demo first : 4"
   ]
  },
  {
   "cell_type": "markdown",
   "id": "b3a3bd7c-9505-4dde-bd8a-593e9d26bb32",
   "metadata": {},
   "source": [
    "### Combinatorics \n",
    "\n",
    "Any system of reasoning must contain undefined terms.  In the case of Coda, the **finite sequence** is the foundational concept that is assumed to be understood without definition.  It's pleasing and expected, then, that the low level operations in Coda are things are the natural low level combinatorial operations on finite sequences.  We've looked at two of these as simple examples:\n",
    "\n",
    "* `rev` reverses the order of a sequence. \n",
    "* `first` gets the first n items of a sequence. \n",
    "\n",
    "Some of the most important operations are combinatorics of the form (name A:B) where A gets used in various combinatoric ways on B.  The most important one of these is called `ap`.  The idea is that something like this \n",
    "\n",
    "* `ap A : b1 b2 b3...bn`\n",
    "\n",
    "is defined to be \"A applied to each b1,...bn\".  It's defined to be (A:b1) (A:b2)...(A:bn).  The actual definition of ap is \n",
    "\n",
    "* `ap A : B C -> (ap A:B) (ap A:C)`\n",
    "* `ap A : B -> (A:B)` if B is an atom \n",
    "* `ap A : () -> ()` \n",
    "\n",
    "which is the same idea, applicable to all \"input\" data (B) and all \"arguments\" (A).  Coda has a collection of these named definitions built into the system.  They are all simple combinations of the three ingredients``(name A : B)`.  These are basic definitions underlying many of the more familiar mathematical objects built on top.  As far as I know, these don't have conventional names, so we are forced into naming them.\n",
    "\n",
    "We will do a few examples below.  Each has a help entry and examples which can be run in the notebook or command line.  Although the names are not familiar, they are so simple that an example or two is an effective way to learn them. "
   ]
  },
  {
   "cell_type": "code",
   "execution_count": 21,
   "id": "b3045196-cd46-43de-bf69-dffb23a799c9",
   "metadata": {},
   "outputs": [
    {
     "name": "stdout",
     "output_type": "stream",
     "text": [
      "\u001b[;1mcode:\u001b[0m\n",
      "    \u001b[34;7map\u001b[0m\n",
      "\u001b[;1mmodule:\u001b[0m\n",
      "    Apply\n",
      "\u001b[;1msummary:\u001b[0m\n",
      "    Apply argument to input in various ways.\n",
      "\u001b[;1mdescription:\u001b[0m\n",
      "\u001b[;1mpath:\u001b[0m\n",
      "    /Users/youssef/coda/py/Apply.py\n",
      "\u001b[;1mdemos:\u001b[0m\n",
      "    1. \u001b[35;4map foo : 1 2 3\u001b[0m\n",
      "    2. \u001b[35;4map {bin : B} : 1 2 3\u001b[0m\n",
      "    3. \u001b[35;4map {first A : get bin : B} 2 : (bin:a b c d e) (bin:x y z)\u001b[0m\n",
      "    4. \u001b[35;4map bin a b c : 1 2 3\u001b[0m\n",
      "    5. \u001b[35;4maq bin a b c : 1 2 3\u001b[0m\n",
      "    6. \u001b[35;4mar bin a b c : 1 2 3\u001b[0m\n",
      "    7. \u001b[35;4mar {|} a b c : 1 2 3\u001b[0m\n",
      "    8. \u001b[35;4mas {int_sum : A B} : 1 2 3 4 5\u001b[0m\n",
      "    9. \u001b[35;4mas {int_prod : A B} : 1 2 3 4 5\u001b[0m\n",
      "    10. \u001b[35;4mas {int_prod : A B} :\u001b[0m\n",
      "    11. \u001b[35;4map {if (count:get bin:B)=2:B} : (bin:a b) (bin:a b c) (bin:x y) (bin:a b c d)\u001b[0m\n"
     ]
    }
   ],
   "source": [
    "#\n",
    "#   Each has a help entry with examples.\n",
    "#   You can run the demos by hand or with the demo command. \n",
    "#\n",
    "help : ap "
   ]
  },
  {
   "cell_type": "code",
   "execution_count": 22,
   "id": "7e5d6247-5c5c-43ac-b06f-07590f5c9bb8",
   "metadata": {},
   "outputs": [
    {
     "name": "stdout",
     "output_type": "stream",
     "text": [
      "(bin a b c:1) (bin a b c:2) (bin a b c:3)\n",
      "(bin a:1 2 3) (bin b:1 2 3) (bin c:1 2 3) (bin d:1 2 3)\n",
      "(bin a:1) (bin a:2) (bin a:3) (bin b:1) (bin b:2) (bin b:3) (bin c:1) (bin c:2) (bin c:3)\n",
      "(bin a b c 1:(bin a b c 2:3))"
     ]
    }
   ],
   "source": [
    "#\n",
    "#  The combinatoric meaning of these is easy to demonstrate by using \n",
    "#  any atom, \"bin\" for example.\n",
    "#\n",
    "ap bin a b c : 1 2 3 \n",
    "aq bin a b c d : 1 2 3 \n",
    "ar bin a b c : 1 2 3 \n",
    "as bin a b c : 1 2 3 "
   ]
  },
  {
   "cell_type": "code",
   "execution_count": 23,
   "id": "110b77e0-2e14-4c6a-90b4-0bec882bf492",
   "metadata": {},
   "outputs": [
    {
     "name": "stdout",
     "output_type": "stream",
     "text": [
      "(bin:a b) (bin:x y)\n",
      "| | | | | | | | |"
     ]
    }
   ],
   "source": [
    "#\n",
    "#   These create rich functionality by replacing bin \n",
    "#\n",
    "ap {if ((count:get bin:B)=2):B} : (bin:a b) (bin:a b c) (bin:a b c d) (bin:x y)\n",
    "ar {|} a b c : 1 2 3 "
   ]
  },
  {
   "cell_type": "markdown",
   "id": "d8320fe3-83a4-4fd7-b811-ca473c79938d",
   "metadata": {},
   "source": [
    "## Atoms\n",
    "\n",
    "A definition is a partial function from codas to data and a context is just a collection of definitions with disjoint domains. When a coda c maps to itself (c) under this mapping, it is invariant.  Such codas are called **atoms**.  Atoms are useful, for examples for storage as in the following.\n",
    "\n",
    "* (bin a b c : 1 2 3)..create a single atom with domain bin \n",
    "* put bin a b c : 1 2 3..the same atom created with **put** \n",
    "* (:1 2 3)..() is an atom as well\n",
    "\n",
    "Codas with domains **bin** and **()** map to themselves, thus making atom such as (bin a b c: 1 2 3) invariant.  To get components of an atom like (bin a b c: 1 2 3), use **domain**, **left** and **right** to get the data **bin**, **a b c** and **1 2 3** respectively. \n"
   ]
  },
  {
   "cell_type": "code",
   "execution_count": 24,
   "id": "810dcd9b-6cae-4013-a825-9bb5304a5ead",
   "metadata": {},
   "outputs": [
    {
     "name": "stdout",
     "output_type": "stream",
     "text": [
      "bin bin\n",
      "bin 1 2 bin 3 4\n",
      "a b c d\n",
      "1 2 x y"
     ]
    }
   ],
   "source": [
    "domain : (bin 1 2:a b) (bin 3 4:c d) \n",
    "left   : (bin 1 2:a b) (bin 3 4:c d) \n",
    "right  : (bin 1 2:a b) (bin 3 4:c d) \n",
    "arg    : (bin 1 2:a b) hello (bin x y:c d) (:xxx)"
   ]
  },
  {
   "cell_type": "markdown",
   "id": "fa083f31-0e01-4f05-8bf2-c2cfb5daaeee",
   "metadata": {},
   "source": [
    "## Use of **if** \n",
    "\n",
    "(if A : B) has the meaning B if A is true.  For example..."
   ]
  },
  {
   "cell_type": "code",
   "execution_count": 25,
   "id": "6b13e49a-f12a-4ba8-aed4-b759308d0e5c",
   "metadata": {},
   "outputs": [
    {
     "name": "stdout",
     "output_type": "stream",
     "text": [
      "1 2 3 4"
     ]
    }
   ],
   "source": [
    "if () : 1 2 3 4 \n",
    "if (:) : 1 2 3 4 "
   ]
  },
  {
   "cell_type": "code",
   "execution_count": 26,
   "id": "7aabfbfd-0326-4ed6-8876-fe58ff2c7efb",
   "metadata": {},
   "outputs": [
    {
     "name": "stdout",
     "output_type": "stream",
     "text": [
      "2 2 2\n",
      "x y z a b c\n",
      "x y z a b c"
     ]
    }
   ],
   "source": [
    "#\n",
    "#   if can be nicely combined with other things. \n",
    "#\n",
    "ap {if (B=2):B} : a b c 1 2 a b c 2 2 \n",
    "ap {if ((domain:B)=bin) : right:B} : 1 2 (bin:x y z) (bin: a b c)\n",
    "get bin : 1 2 (bin:x y z) (bin: a b c)"
   ]
  },
  {
   "cell_type": "markdown",
   "id": "4e79bb1f-c1b9-4da7-9920-ee0cd46c3da5",
   "metadata": {},
   "source": [
    "## Definitions \n",
    "\n",
    "Meaning in coda is defined by a **context** which is, simply, a collection of definitions which have non-overlapping domains of applicability.  You can create definitions with **Def** or **Let**.  A few examples follow."
   ]
  },
  {
   "cell_type": "code",
   "execution_count": 27,
   "id": "63f4cb80-cf04-4379-a28a-e9e71cd0312e",
   "metadata": {},
   "outputs": [
    {
     "name": "stdout",
     "output_type": "stream",
     "text": [
      "7 6 5"
     ]
    }
   ],
   "source": [
    "#\n",
    "#   Let's define \"revfirstn\" to compute the first n items of the reversed input. \n",
    "#   For example with n=3...  \n",
    "#\n",
    "first 3 : rev : 1 2 3 4 5 6 7"
   ]
  },
  {
   "cell_type": "code",
   "execution_count": 28,
   "id": "3d441e0d-c343-4881-816f-008ea60f839b",
   "metadata": {},
   "outputs": [
    {
     "name": "stdout",
     "output_type": "stream",
     "text": [
      "8 7 6"
     ]
    }
   ],
   "source": [
    "#\n",
    "#   sometimes * can be used to avoid curly braces as in these two equivalent definitions \n",
    "#\n",
    "Def revfirstn : {first A : rev : B} \n",
    "#\n",
    "#   the above two work the same \n",
    "#\n",
    "revfirstn 3 : 1 2 3 4 5 6 7 8 "
   ]
  },
  {
   "cell_type": "code",
   "execution_count": 29,
   "id": "3c8ac43d-df89-4c53-b232-8913f357f674",
   "metadata": {
    "tags": []
   },
   "outputs": [
    {
     "name": "stdout",
     "output_type": "stream",
     "text": [
      "= Def Let ab allcodes alphabet ap aq ar arg as assign bin bool by cache.clear cache.reset cases co coda codes collect const count def defaultTime defs demo digits dir do do1 domain domulti down down1 endswith equal equiv eval first float_div float_inv float_max float_min float_prod float_sort float_sum floats get has hasnt head help home if import in info int_div int_inv int_max int_min int_prod int_sort int_sum ints is isnt join ker kernel language last left let letters localdef log logging logs module multi mydef nat nat_max nat_min nat_prod nat_sort nat_sum nats nchar nif not nth nth1 null once out pass pause permutation plus post pre printable prod pure put readpath rep rev revfirstn right sample.atom sample.data sample.even sample.odd sample.pure sample.window skip some source sources split star startswith stat step sum tail term text_sort theorem up up1 use use1 wap with wrap ◎ 𝝞 𝟬"
     ]
    }
   ],
   "source": [
    "#\n",
    "#   A few dozen definitions are built into the system and enter via python modules. \n",
    "#   the rest come from .co coda source code files.\n",
    "#\n",
    "defs:"
   ]
  },
  {
   "cell_type": "code",
   "execution_count": 30,
   "id": "473104c3-1023-4d42-b1e0-702d65094f59",
   "metadata": {},
   "outputs": [
    {
     "name": "stdout",
     "output_type": "stream",
     "text": [
      "ab ap aq ar arg as bin co const domain get has hasnt if is isnt ker kernel left nif null pass plus prod put right star sum wap"
     ]
    }
   ],
   "source": [
    "#\n",
    "#    Modules are .co files or .py files containing definitions.  It is sometimes handy to refer to \n",
    "#    groups of definitions by module. \n",
    "#\n",
    "defs : Basic Apply"
   ]
  },
  {
   "cell_type": "code",
   "execution_count": 31,
   "id": "03a32192-a48c-486a-9be8-2d7a305a57db",
   "metadata": {},
   "outputs": [
    {
     "name": "stdout",
     "output_type": "stream",
     "text": [
      "Logic  Define Apply Text Basic Variable Sequence Evaluation Search Source Collect Help IO Evaluate Path Number Import Language Log Time Sample"
     ]
    }
   ],
   "source": [
    "#\n",
    "#    We can display all modules of the currently active definitions.\n",
    "#\n",
    "once : module : defs: "
   ]
  },
  {
   "cell_type": "markdown",
   "id": "1ab3de4d-647d-436f-ba72-c02a4e4d13f9",
   "metadata": {},
   "source": [
    "## Constants\n",
    "\n",
    "Suppose you want some data, say the sequence 1 2 3 to be a convenient constant that you can use in multiple situations.  You can always do \n",
    "\n",
    "Let x : 1 2 3 \n",
    "\n",
    "This creates a definition (x:) &rightarrow; 1 2 3 which can be evalued by the coda source code **(x:)**, or by the equivalent **x?**. "
   ]
  },
  {
   "cell_type": "code",
   "execution_count": 32,
   "id": "e1cf2cce-696b-4cb8-8d8e-b6015f64cada",
   "metadata": {},
   "outputs": [
    {
     "name": "stdout",
     "output_type": "stream",
     "text": [
      "1 2 3\n",
      "1 2 3"
     ]
    }
   ],
   "source": [
    "#\n",
    "#   You can also assign a data values to any undefined coda.  For convenience, \n",
    "#   the compiler takes x? and makes this actually (?:x) to make convenient things that \n",
    "#   look like \"variables\" but are actually codas.  \n",
    "#\n",
    "Let x : 1 2 3 \n",
    "(x:)\n",
    "x?"
   ]
  },
  {
   "cell_type": "markdown",
   "id": "eee13529-1630-4b19-be9b-62260e01e0f8",
   "metadata": {},
   "source": [
    "## **def** and **let** \n",
    "\n",
    "Unlike **Def**, **def** provides a way of treating a bunch of definitions as data, without adding them to the current context. "
   ]
  },
  {
   "cell_type": "code",
   "execution_count": 33,
   "id": "69e295ec-3535-450b-8226-81a29e96dc49",
   "metadata": {},
   "outputs": [
    {
     "name": "stdout",
     "output_type": "stream",
     "text": [
      "(def foo3:{first 3 : B})\n",
      "(foo3:a b c d e f g)\n",
      "a b c"
     ]
    }
   ],
   "source": [
    "#\n",
    "#   def just creates a definition without adding it to context \n",
    "#\n",
    "def foo3 : {first 3 : B}\n",
    "foo3 : a b c d e f g \n",
    "use foo3 : def foo3 : {first 3 : B}\n",
    "foo3 : a b c d e f g "
   ]
  },
  {
   "cell_type": "code",
   "execution_count": 34,
   "id": "d04825ac-4c78-4915-868d-d1b0e4d42d42",
   "metadata": {},
   "outputs": [
    {
     "name": "stdout",
     "output_type": "stream",
     "text": [
      "(def y:{A} 1 2 3)\n",
      "(y:)\n",
      "1 2 3"
     ]
    }
   ],
   "source": [
    "#\n",
    "#   This works similarly with \"let\" vs \"Let\"\n",
    "#\n",
    "let y : 1 2 3 \n",
    "y?\n",
    "use : let y : 1 2 3 \n",
    "y?"
   ]
  },
  {
   "cell_type": "markdown",
   "id": "324dee4a-32d0-47a8-bd9c-92ca8dd5cc78",
   "metadata": {},
   "source": [
    "### Plus and Star are dual to space and colon\n",
    "\n",
    "In coda, the only thing that happens is application of definitions, and a definition is always bound to the domain of a coda.  For instance, the domain of (pass : a b c) is pass and this identifies the unique partial \n",
    "function from such coda to data, (pass : a b c) -> a b c.  The language itself is merely one such definition.  \n",
    "\n",
    "Although nothing else is needed, the language provides binary operators which are sometimes handy for making things look nice or for suggesting ways of thinking.  \n",
    "\n",
    "\n",
    "Operators * and + binary operators are bound to **Star** and **Plus** respectively.  These can be defined as convenient, for example:\n",
    "\n",
    "* Def Star : {prod A:B}\n",
    "* Def Plus : {sum  A:B} "
   ]
  },
  {
   "cell_type": "code",
   "execution_count": 35,
   "id": "c5a70fcc-fe7c-472c-93f1-05858e75f552",
   "metadata": {},
   "outputs": [
    {
     "name": "stdout",
     "output_type": "stream",
     "text": [
      "c b a\n",
      "c b a a b c\n",
      "c b a a b c c b a\n",
      "a b c\n",
      "c b a"
     ]
    }
   ],
   "source": [
    "rev * pass : a b c \n",
    "rev + pass : a b c \n",
    "rev + pass + rev : a b c \n",
    "rev * pass * rev : a b c \n",
    "rev * pass * rev * pass * rev : a b c "
   ]
  },
  {
   "cell_type": "code",
   "execution_count": 36,
   "id": "ea4afa03-2901-4981-baf6-f5ab8e3ec1bd",
   "metadata": {},
   "outputs": [
    {
     "name": "stdout",
     "output_type": "stream",
     "text": [
      "8\n",
      "8 7\n",
      "8 7"
     ]
    }
   ],
   "source": [
    "first * rev : 1 2 3 4 5 6 7 8\n",
    "first 2 * rev : 1 2 3 4 5 6 7 8\n",
    "{first 2:B} * rev : 1 2 3 4 5 6 7 8"
   ]
  },
  {
   "cell_type": "code",
   "execution_count": 37,
   "id": "a43b7f64-dc1b-4107-996c-bc7cf6c4bffb",
   "metadata": {},
   "outputs": [
    {
     "name": "stdout",
     "output_type": "stream",
     "text": [
      "8"
     ]
    }
   ],
   "source": [
    "Def F : first * rev\n",
    "F : 1 2 3 4 5 6 7 8"
   ]
  },
  {
   "cell_type": "markdown",
   "id": "5785d748-af25-4c5e-b902-1c66419098f7",
   "metadata": {},
   "source": [
    "## Domains and undefine data \n",
    "\n",
    "Definitions are partial functions from codas to data.  The partial function (if any) which applies to a coda is determined by the **domain** of the coda, which is accessible via \"domain.\"  "
   ]
  },
  {
   "cell_type": "code",
   "execution_count": 38,
   "id": "f791697f-bb41-47b1-8754-5297afcd1c95",
   "metadata": {},
   "outputs": [
    {
     "name": "stdout",
     "output_type": "stream",
     "text": [
      "𝝞 𝝞 𝝞 ◎ bin\n",
      "𝝞 𝝞 𝝞\n",
      "𝝞 𝝞 𝝞"
     ]
    }
   ],
   "source": [
    "domain : a b c ((:):(:)) (bin:x y z)\n",
    "domain : x?\n",
    "domain : y?"
   ]
  },
  {
   "cell_type": "code",
   "execution_count": null,
   "id": "f23e55ec-16ef-455f-8abf-a25b01797b07",
   "metadata": {},
   "outputs": [],
   "source": []
  }
 ],
 "metadata": {
  "kernelspec": {
   "display_name": "coda",
   "language": "",
   "name": "coda"
  },
  "language_info": {
   "file_extension": ".co",
   "mimetype": "text/plain",
   "name": "Any text"
  }
 },
 "nbformat": 4,
 "nbformat_minor": 5
}
