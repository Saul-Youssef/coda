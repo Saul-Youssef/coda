{
 "cells": [
  {
   "cell_type": "markdown",
   "id": "536ab900-7f16-49bd-8f2c-8cecd1151388",
   "metadata": {},
   "source": [
    "Data U is *universal* over a space S if U : (S:X) (S:Y) = U : (S:Y) (S:X) for all X,Y.\n",
    "\n",
    "Here we search for data that is Universal over the space **pass**, in other words, search for data that is globally universal. \n",
    "\n",
    "The strategy of the search is "
   ]
  },
  {
   "cell_type": "code",
   "execution_count": 1,
   "id": "66814ed7-c92c-40a9-a2aa-826a2a56ca5c",
   "metadata": {},
   "outputs": [
    {
     "name": "stdout",
     "output_type": "stream",
     "text": [
      "(defaultTime:1000)"
     ]
    }
   ],
   "source": [
    "defaultTime:1000"
   ]
  },
  {
   "cell_type": "code",
   "execution_count": null,
   "id": "9897cbc6-c77b-436b-95d7-10eb23bd1a19",
   "metadata": {},
   "outputs": [],
   "source": []
  },
  {
   "cell_type": "code",
   "execution_count": 2,
   "id": "72c21296-b610-414b-8741-f2587b6b967c",
   "metadata": {},
   "outputs": [
    {
     "name": "stdout",
     "output_type": "stream",
     "text": [
      "Logic  Define Apply Text Basic Variable Sequence Evaluation Search Source Collect IO Help Evaluate Path Import Language Log Number Time Sample"
     ]
    }
   ],
   "source": [
    "once : module : defs:"
   ]
  },
  {
   "cell_type": "code",
   "execution_count": 3,
   "id": "3005ff5b-a470-4b8f-bf8c-7c072fd5c303",
   "metadata": {},
   "outputs": [
    {
     "name": "stdout",
     "output_type": "stream",
     "text": []
    }
   ],
   "source": [
    "Let SEARCH : ap : defs: Logic Apply Basic Sequence Collect Number "
   ]
  },
  {
   "cell_type": "code",
   "execution_count": 4,
   "id": "49166cba-73a8-4911-acff-e14a78239769",
   "metadata": {},
   "outputs": [
    {
     "name": "stdout",
     "output_type": "stream",
     "text": [
      "(:=) (:ab) (:ap) (:apby) (:aq) (:ar) (:arg) (:as) (:bin) (:bool) (:by) (:collect) (:const) (:count) (:depth) (:domain) (:equal) (:equiv) (:first) (:get) (:has) (:hasnt) (:head) (:if) (:is) (:isnt) (:ker) (:kernel) (:last) (:left) (:nat) (:nat_max) (:nat_min) (:nat_prod) (:nat_sort) (:nat_sum) (:nats) (:nif) (:not) (:nth) (:nth1) (:null) (:once) (:pass) (:plus) (:post) (:pre) (:prod) (:put) (:rep) (:rev) (:right) (:skip) (:some) (:star) (:sum) (:swap) (:tail) (:text_sort)"
     ]
    }
   ],
   "source": [
    "SEARCH?"
   ]
  },
  {
   "cell_type": "code",
   "execution_count": 5,
   "id": "a88cf99f-0422-487f-b4b1-e3ccf83fccb7",
   "metadata": {},
   "outputs": [
    {
     "name": "stdout",
     "output_type": "stream",
     "text": [
      "59"
     ]
    }
   ],
   "source": [
    "count : SEARCH?"
   ]
  },
  {
   "cell_type": "code",
   "execution_count": 6,
   "id": "e7e014ac-7763-4130-a68a-4b182dd050f6",
   "metadata": {},
   "outputs": [
    {
     "name": "stdout",
     "output_type": "stream",
     "text": []
    }
   ],
   "source": [
    "Def n:\n",
    "Def m:"
   ]
  },
  {
   "cell_type": "code",
   "execution_count": 7,
   "id": "9b54490a-6f68-4fb7-9165-7c06904b7af4",
   "metadata": {},
   "outputs": [
    {
     "name": "stdout",
     "output_type": "stream",
     "text": [
      "(:n n) (:n m) (:n 0) (:n 1) (:n 2) (:n ◎) (:n (:◎)) (:m n) (:m m) (:m 0) (:m 1) (:m 2) (:m ◎) (:m (:◎)) (:0 n) (:0 m) (:0 0) (:0 1) (:0 2) (:0 ◎) (:0 (:◎)) (:1 n) (:1 m) (:1 0) (:1 1) (:1 2) (:1 ◎) (:1 (:◎)) (:2 n) (:2 m) (:2 0) (:2 1) (:2 2) (:2 ◎) (:2 (:◎)) (:◎ n) (:◎ m) (:◎ 0) (:◎ 1) (:◎ 2) (:◎ ◎) (:◎ (:◎)) (:(:◎) n) (:(:◎) m) (:(:◎) 0) (:(:◎) 1) (:(:◎) 2) (:(:◎) ◎) (:(:◎) (:◎))"
     ]
    }
   ],
   "source": [
    "permutation 2 : n m 0 1 2 (:) (:(:)) "
   ]
  },
  {
   "cell_type": "code",
   "execution_count": 8,
   "id": "17bfc052-b7f8-4954-bc6c-f549201f1bb1",
   "metadata": {},
   "outputs": [
    {
     "name": "stdout",
     "output_type": "stream",
     "text": []
    }
   ],
   "source": [
    "Def TEST0 : {((get:A):(get:B))=((get:A):rev:(get:B)) } "
   ]
  },
  {
   "cell_type": "code",
   "execution_count": 9,
   "id": "2ceaa43d-febb-4669-b78a-c976f841b002",
   "metadata": {},
   "outputs": [
    {
     "name": "stdout",
     "output_type": "stream",
     "text": [
      "◎ ◎ ◎ ◎"
     ]
    }
   ],
   "source": [
    "ap TEST0 (:pass) : (:0 0 0) (:1 1 1) (:1 2)"
   ]
  },
  {
   "cell_type": "code",
   "execution_count": 10,
   "id": "db2258ff-43c7-46ba-9869-de7652a1cbbf",
   "metadata": {},
   "outputs": [
    {
     "name": "stdout",
     "output_type": "stream",
     "text": []
    }
   ],
   "source": [
    "Def TEST : {bool : ap TEST0 A : B}"
   ]
  },
  {
   "cell_type": "code",
   "execution_count": 11,
   "id": "0b41d485-08cd-4f6d-bd82-8e459f426123",
   "metadata": {},
   "outputs": [
    {
     "name": "stdout",
     "output_type": "stream",
     "text": [
      "◎"
     ]
    }
   ],
   "source": [
    "TEST (:pass) : (:0 0) (:1 1) (:1 2)"
   ]
  },
  {
   "cell_type": "code",
   "execution_count": 12,
   "id": "41f94c4b-707e-4991-81bf-73d058eae82d",
   "metadata": {},
   "outputs": [
    {
     "name": "stdout",
     "output_type": "stream",
     "text": []
    }
   ],
   "source": [
    "Let SAMPLE : permutation 2 : n m 0 1 2 (:) (:(:)) "
   ]
  },
  {
   "cell_type": "code",
   "execution_count": null,
   "id": "ab44bbe8-06fa-4ce4-9730-c9bda7255efe",
   "metadata": {},
   "outputs": [],
   "source": []
  },
  {
   "cell_type": "code",
   "execution_count": 13,
   "id": "5821d680-3741-45f0-967f-ea0cc699ff78",
   "metadata": {},
   "outputs": [
    {
     "name": "stdout",
     "output_type": "stream",
     "text": []
    }
   ],
   "source": [
    "Let SAMPLE2 : ap {if (right:B):(arg:B)} : dom 1000 : ap {with B : TEST B : SAMPLE?} : SEARCH?"
   ]
  },
  {
   "cell_type": "code",
   "execution_count": 14,
   "id": "3e1402f3-9827-430a-87d1-479c264d0db1",
   "metadata": {},
   "outputs": [
    {
     "name": "stdout",
     "output_type": "stream",
     "text": [
      "(:aq) (:ar) (:arg) (:bool) (:const) (:count) (:depth) (:domain) (:get) (:head) (:is) (:ker) (:kernel) (:left) (:nat_max) (:nat_min) (:nat_prod) (:nat_sort) (:nat_sum) (:nif) (:not) (:nth) (:nth1) (:null) (:sum) (:text_sort)"
     ]
    }
   ],
   "source": [
    "SAMPLE2?"
   ]
  },
  {
   "cell_type": "code",
   "execution_count": 15,
   "id": "fa30f496-28fb-4a51-881d-136dd4e5e50e",
   "metadata": {},
   "outputs": [
    {
     "name": "stdout",
     "output_type": "stream",
     "text": [
      "(:aq) (:ar) (:arg) (:bool) (:const) (:count) (:depth) (:domain) (:get) (:head) (:is) (:ker) (:kernel) (:left) (:nat_max) (:nat_min) (:nat_prod) (:nat_sort) (:nat_sum) (:nif) (:not) (:nth) (:nth1) (:null) (:sum) (:text_sort)"
     ]
    }
   ],
   "source": [
    "SAMPLE2?"
   ]
  },
  {
   "cell_type": "code",
   "execution_count": null,
   "id": "6adcbdeb-b7db-4aa3-84ec-00c549ee53e2",
   "metadata": {},
   "outputs": [],
   "source": []
  }
 ],
 "metadata": {
  "kernelspec": {
   "display_name": "coda",
   "language": "",
   "name": "coda"
  },
  "language_info": {
   "file_extension": ".co",
   "mimetype": "text/plain",
   "name": "Any text"
  }
 },
 "nbformat": 4,
 "nbformat_minor": 5
}
