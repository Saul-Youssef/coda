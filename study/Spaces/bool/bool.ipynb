{
 "cells": [
  {
   "cell_type": "markdown",
   "id": "e93e3adb-594c-4245-a548-c97bdada2c4f",
   "metadata": {},
   "source": [
    "# bool\n",
    "\n",
    "As we know, data is defined to be **true** if it is equal to empty data *()* and is defined to be **false** if it is atomic.  Data can also be **undecided** and, in cases like Godel's theorem, data can be **undecidable**.  Here we consider the built-in partial function **bool** which computes the logical value of data. **bool** is defined by \n",
    "\n",
    "* (bool:B) -> () if B is empty\n",
    "* (bool:B) -> (:) if B is atomic \n",
    "\n",
    "so that bool:X is the logical value of the data X.  Bool is also a **space**, meaning that bool is idempotent and \n",
    "\n",
    "* bool : X Y = bool : (bool : X) (bool:Y) \n",
    "\n",
    "for all data X and Y.  Bool is nice and organic.  It's perhaps the most basic naturally occurring space within the space **pass** of all pure data.  \n",
    "\n",
    "1. Demonstrate basic properties of **bool**.\n",
    "2. What are the endomorphisms of **bool**?\n",
    "3. What are the endomorphisms of \"boolean sequences\" (**Seq b:bool**)?\n"
   ]
  },
  {
   "cell_type": "code",
   "execution_count": 1,
   "id": "eda65bcc-a3e5-4922-94c2-53a7caaedc47",
   "metadata": {},
   "outputs": [
    {
     "name": "stdout",
     "output_type": "stream",
     "text": [
      "(defaultTime:100)"
     ]
    }
   ],
   "source": [
    "#\n",
    "#   Set a convenient defaultTime for evaluation and import \n",
    "#   space-related definitions.\n",
    "#\n",
    "defaultTime:100\n",
    "import : dir co : up : ."
   ]
  },
  {
   "cell_type": "markdown",
   "id": "c62f21c6-c25d-4855-a4ee-bf3c56820733",
   "metadata": {},
   "source": [
    "### 1. Demonstrate basic properties of **bool**"
   ]
  },
  {
   "cell_type": "code",
   "execution_count": 2,
   "id": "3cd9ae6f-b843-4de4-a284-30f4135a83cb",
   "metadata": {},
   "outputs": [
    {
     "name": "stdout",
     "output_type": "stream",
     "text": [
      "◎\n",
      "1\n",
      "0"
     ]
    }
   ],
   "source": [
    "#\n",
    "#   Basic property\n",
    "#\n",
    "bool: (pass : a b c )\n",
    "bool: (null : a b c )\n",
    "#\n",
    "#   It is sometimes convenient to use count for display purposes, \n",
    "#   so that \"true\" data get's count 0. bool:X is true if and only \n",
    "#   if count:X is 0. \n",
    "#\n",
    "count : bool: (pass : a b c )\n",
    "count : bool: (null : a b c )\n",
    "#\n",
    "#   Although count is equivalent in some sense to bool, note that \n",
    "#   count is not a space. \n",
    "#"
   ]
  },
  {
   "cell_type": "code",
   "execution_count": 3,
   "id": "d9dc099e-07fa-448c-b861-2692939fffd4",
   "metadata": {},
   "outputs": [
    {
     "name": "stdout",
     "output_type": "stream",
     "text": [
      "◎\n",
      "◎\n",
      "◎\n",
      "◎"
     ]
    }
   ],
   "source": [
    "#\n",
    "#   bool is a space, meaning the the following should all be equal\n",
    "#\n",
    "bool : a b c \n",
    "bool : bool : a b c \n",
    "bool : (bool : a b ) (bool: c)\n",
    "bool : (bool : ) (bool : a b c )"
   ]
  },
  {
   "cell_type": "markdown",
   "id": "2806a7b9-51f6-406d-99dd-6e453c6f8b49",
   "metadata": {},
   "source": [
    "### Summary \n",
    "\n",
    "**bool** is a non-distributive space with neutral data (bool:)=() and "
   ]
  },
  {
   "cell_type": "markdown",
   "id": "4117cf23-68dd-4a39-8293-97ec783b81bd",
   "metadata": {},
   "source": [
    "### 2. What are the endomorphisms of bool? \n",
    "\n",
    "For any data X, bool\\*X\\*bool is an endomorphism of bool (End bool:X), thus motivating a definition \n",
    "\n",
    "* Def end : {End bool : B}"
   ]
  },
  {
   "cell_type": "code",
   "execution_count": 4,
   "id": "c6980433-e476-484d-bdfb-d3ea7f584e1e",
   "metadata": {},
   "outputs": [
    {
     "name": "stdout",
     "output_type": "stream",
     "text": []
    }
   ],
   "source": [
    "Def end : {End bool:B} "
   ]
  },
  {
   "cell_type": "code",
   "execution_count": 5,
   "id": "caaeda03-8ae0-47eb-802b-34579fe99595",
   "metadata": {},
   "outputs": [
    {
     "name": "stdout",
     "output_type": "stream",
     "text": []
    }
   ],
   "source": [
    "#\n",
    "#   Since bool:X is either () or (:), there are only four \n",
    "#   possible small endomorphisms of bool.  \n",
    "#\n",
    "#   As with all spaces, bool is an endomorphism of itself, thus e1.  \n",
    "#   e2,e3 and e4 are the other possibilities.\n",
    "#\n",
    "Def e1 : bool \n",
    "Def e2 : end : null \n",
    "Def e3 : end : const (:) \n",
    "Def e4 : end : not "
   ]
  },
  {
   "cell_type": "code",
   "execution_count": 6,
   "id": "6d1e98df-7a2c-4f07-a021-bec6d580f264",
   "metadata": {
    "tags": []
   },
   "outputs": [
    {
     "name": "stdout",
     "output_type": "stream",
     "text": [
      "0\n",
      "1\n",
      "-\n",
      "0\n",
      "0\n",
      "-\n",
      "1\n",
      "1\n",
      "-\n",
      "1\n",
      "0"
     ]
    }
   ],
   "source": [
    "count : e1 : ()\n",
    "count : e1 : (:) \n",
    "-\n",
    "count : e2 : () \n",
    "count : e2 : (:) \n",
    "-\n",
    "count : e3 : ()\n",
    "count : e3 : (:) \n",
    "- \n",
    "count : e4 : ()\n",
    "count : e4 : (:) "
   ]
  },
  {
   "cell_type": "code",
   "execution_count": 7,
   "id": "59dd70c4-6378-4e5e-949f-f5b347d38935",
   "metadata": {},
   "outputs": [
    {
     "name": "stdout",
     "output_type": "stream",
     "text": [
      "0\n",
      "1"
     ]
    }
   ],
   "source": [
    "#\n",
    "#   end:X is an endomorphism for any X, but these are \n",
    "#   equal to e1,e2,e3 or e4.  (end:rev), for instance is e1.  \n",
    "#\n",
    "count : (end : rev) : () \n",
    "count : (end : rev) : (:)"
   ]
  },
  {
   "cell_type": "markdown",
   "id": "0a6f5a1a-ceb2-4d12-af15-c5377e4183c2",
   "metadata": {},
   "source": [
    "A single boolean variable is almost the same thing as the space bool. \n",
    "\n",
    "**One b : bool** \n",
    "\n",
    "is the space containing (b:) for true, and (b:(:)) for false. "
   ]
  },
  {
   "cell_type": "code",
   "execution_count": 8,
   "id": "cb471a54-e507-4e3a-8b74-b2b7ee7a4270",
   "metadata": {},
   "outputs": [
    {
     "name": "stdout",
     "output_type": "stream",
     "text": []
    }
   ],
   "source": [
    "#\n",
    "#   Make an atom to hold boolean values () or (:) and let L1 be the space of such values. \n",
    "#\n",
    "Def b: \n",
    "Def L1 : One b : bool "
   ]
  },
  {
   "cell_type": "markdown",
   "id": "37bdf176-7441-4e1d-b108-116f98900138",
   "metadata": {},
   "source": [
    "As always, any data L1\\*X\\*L1 is an endomorphism of L1.  Let's \n",
    "call endomorphisms of the special form L1\\*(put b)\\*X\\*(get b)\\*L1 \"small\" endmorphisms. \n",
    "In this simple case, all endomorphisms are small and they are essentially the same as the endomorphisms of bool.  We include one example."
   ]
  },
  {
   "cell_type": "code",
   "execution_count": 9,
   "id": "674b01c6-c2c8-457c-bcfc-408bfe006ba1",
   "metadata": {},
   "outputs": [
    {
     "name": "stdout",
     "output_type": "stream",
     "text": [
      "(b:◎)\n",
      "(b:◎)\n",
      "(b:◎)"
     ]
    }
   ],
   "source": [
    "#\n",
    "#   L1 contains the data (b:(:)) and (b:) with (L1:) = (b:), so L1 is not \n",
    "#   a distributive space. \n",
    "#\n",
    "#   Since L1 is a space, the following three should be equal. \n",
    "#\n",
    "L1 : (b:x) (b:y) \n",
    "L1 : L1 : (b:x) (b:y) \n",
    "L1 : (L1 : (b:x)) ( L1 : (b:y)) "
   ]
  },
  {
   "cell_type": "markdown",
   "id": "2e907fb7-9647-4c49-aaad-d4d757c09d39",
   "metadata": {},
   "source": [
    "### Summary\n",
    "\n",
    "Thus, the four endomorphism of bool (or small endomorphisms of L1) have the familiar conceptual meaning \n",
    "\n",
    "* IDENTITY (bool)\n",
    "* TRUE (null)\n",
    "* FALSE (const (:))\n",
    "* NOT (not)"
   ]
  },
  {
   "cell_type": "markdown",
   "id": "8f1f556b-6498-4de8-b4a9-96f0f651faf2",
   "metadata": {},
   "source": [
    "### 3. Boolean sequences and their endomorphisms \n",
    "\n",
    "We can also consider sequences of boolean values using the \"functor\" **Seq** to define **L** to be the space of sequences of boolean values. "
   ]
  },
  {
   "cell_type": "code",
   "execution_count": 10,
   "id": "04663bd7-e4e5-419f-8873-4902dad50a64",
   "metadata": {},
   "outputs": [
    {
     "name": "stdout",
     "output_type": "stream",
     "text": []
    }
   ],
   "source": [
    "#\n",
    "#   L is the space of sequences of boolean values  \n",
    "#\n",
    "Def L : Seq b : bool "
   ]
  },
  {
   "cell_type": "code",
   "execution_count": 11,
   "id": "da1acaa4-218b-4066-bb34-bdefabd2b23d",
   "metadata": {},
   "outputs": [
    {
     "name": "stdout",
     "output_type": "stream",
     "text": [
      "(b:◎) (b:) (b:) (b:◎) (b:◎)\n",
      "(b:◎) (b:) (b:) (b:◎) (b:◎)\n",
      "(b:◎) (b:) (b:) (b:◎) (b:◎)"
     ]
    }
   ],
   "source": [
    "#\n",
    "#   These three should be the same, since L is a space \n",
    "#\n",
    "L     : (b:x) (b:) zz (b:y) (b:y)\n",
    "L : L : (b:x) (b:) zz (b:y) (b:y)\n",
    "L : ( L : (b:x) (b:) zz ) ( L : (b:y) (b:y)) "
   ]
  },
  {
   "cell_type": "code",
   "execution_count": 12,
   "id": "64f5b2fa-f6a1-4181-8324-8371eabfa18a",
   "metadata": {},
   "outputs": [
    {
     "name": "stdout",
     "output_type": "stream",
     "text": []
    }
   ],
   "source": [
    "#\n",
    "#   E : X is a \"big\" endomorphism L*X*L \n",
    "#   e : X is a \"small\" endomorphism L*(put b)*X*(get b)*L \n",
    "#\n",
    "Def E : End L \n",
    "Def e : {End L : Down b : B}"
   ]
  },
  {
   "cell_type": "code",
   "execution_count": 13,
   "id": "e21ee54f-d04d-4bf9-a290-f5a443f9a0c0",
   "metadata": {},
   "outputs": [
    {
     "name": "stdout",
     "output_type": "stream",
     "text": [
      "(b:◎) (b:)\n",
      "(b:) (b:◎)\n",
      "(b:) (b:◎) (b:) (b:◎)\n",
      "(b:◎)\n",
      "(b:)\n",
      "(b:◎) (b:)\n",
      "(b:◎) (b:)"
     ]
    }
   ],
   "source": [
    "#\n",
    "#   Some examples... \n",
    "#\n",
    "#   (E:X) and (e:X) are endomorphisms for any X.  Here are a few examples.\n",
    "#\n",
    "(E:rev) : (b:) (b:(:))\n",
    "(E:pass) : (b:) (b:(:))\n",
    "(E:{B B}) : (b:) (b:(:))\n",
    "(e:rev) : (b:) (b:(:))\n",
    "(e:not) : (b:) (b:(:))\n",
    "ap (e:not) : (b:) (b:(:))\n",
    "(E:ap (e:not)) : (b:) (b:(:))"
   ]
  },
  {
   "cell_type": "code",
   "execution_count": 14,
   "id": "dcee49a3-f72a-4f3a-9b65-549a7b76f371",
   "metadata": {
    "tags": []
   },
   "outputs": [
    {
     "name": "stdout",
     "output_type": "stream",
     "text": [
      " ◎ \n",
      " (:(b:)) \n",
      " (:(b:◎)) \n",
      " (:(b:) (b:)) \n",
      " (:(b:) (b:◎)) \n",
      " (:(b:◎) (b:)) \n",
      " (:(b:◎) (b:◎)) \n",
      " (:(b:) (b:) (b:)) \n",
      " (:(b:) (b:) (b:◎)) \n",
      " (:(b:) (b:◎) (b:)) \n",
      " (:(b:) (b:◎) (b:◎)) \n",
      " (:(b:◎) (b:) (b:)) \n",
      " (:(b:◎) (b:) (b:◎)) \n",
      " (:(b:◎) (b:◎) (b:)) \n",
      " (:(b:◎) (b:◎) (b:◎)) \n"
     ]
    }
   ],
   "source": [
    "#\n",
    "#   For more systematic testing, let LS be a sample of all data from L up to width 3.  \n",
    "#\n",
    "Let LS : sum (:permutation 0) (:permutation 1) (:permutation 2) (:permutation 3) : (b:) (b:(:))\n",
    "tab : LS?"
   ]
  },
  {
   "cell_type": "markdown",
   "id": "1014f77d-00b1-4330-81c9-68b20a1696ff",
   "metadata": {},
   "source": [
    "First, consider the small endomorphisms.  Since small endomorphisms start with the (:) contents of their input, small endomorphisms can only detect the presence of one or more false values.  Thus, the small endomorphism **pass**  is true if every boolean is true (and so could be called \"ALL\"), but no small endomorphism can compute \"ANY\".  For that, we can invert the sequence with \"NOT\" and then ANY = NOT\\*ALL\\*NOT. "
   ]
  },
  {
   "cell_type": "code",
   "execution_count": 15,
   "id": "f7f1ccce-5e53-4d27-9a65-7c9099b5474f",
   "metadata": {},
   "outputs": [
    {
     "name": "stdout",
     "output_type": "stream",
     "text": []
    }
   ],
   "source": [
    "Def ALL : (e:pass)\n",
    "Def NOT : ap (e:not)\n",
    "Def ANY : NOT*ALL*NOT\n",
    "Def TRUE : (e:null)\n",
    "Def FALSE : (e:const (:)) "
   ]
  },
  {
   "cell_type": "code",
   "execution_count": 16,
   "id": "9e8f89d1-9353-4e8f-ba9a-db4408d6875c",
   "metadata": {},
   "outputs": [
    {
     "name": "stdout",
     "output_type": "stream",
     "text": [
      "(b:◎)\n",
      "(b:)\n",
      "(b:)\n",
      "(b:◎)"
     ]
    }
   ],
   "source": [
    "ANY:\n",
    "ALL:\n",
    "TRUE:\n",
    "FALSE:"
   ]
  },
  {
   "cell_type": "code",
   "execution_count": 17,
   "id": "ca087090-873c-4a88-9307-1644e2842d67",
   "metadata": {
    "tags": []
   },
   "outputs": [
    {
     "name": "stdout",
     "output_type": "stream",
     "text": [
      "-ALL\n",
      " (b:) \n",
      " (b:) \n",
      " (b:◎) \n",
      " (b:) \n",
      " (b:◎) \n",
      " (b:◎) \n",
      " (b:◎) \n",
      " (b:) \n",
      " (b:◎) \n",
      " (b:◎) \n",
      " (b:◎) \n",
      " (b:◎) \n",
      " (b:◎) \n",
      " (b:◎) \n",
      " (b:◎) \n",
      "\n",
      "-ANY\n",
      " (b:◎) \n",
      " (b:) \n",
      " (b:◎) \n",
      " (b:) \n",
      " (b:) \n",
      " (b:) \n",
      " (b:◎) \n",
      " (b:) \n",
      " (b:) \n",
      " (b:) \n",
      " (b:) \n",
      " (b:) \n",
      " (b:) \n",
      " (b:) \n",
      " (b:◎) \n",
      "\n",
      "-TRUE\n",
      " (b:) \n",
      " (b:) \n",
      " (b:) \n",
      " (b:) \n",
      " (b:) \n",
      " (b:) \n",
      " (b:) \n",
      " (b:) \n",
      " (b:) \n",
      " (b:) \n",
      " (b:) \n",
      " (b:) \n",
      " (b:) \n",
      " (b:) \n",
      " (b:) \n",
      "\n",
      "-FALSE\n",
      " (b:◎) \n",
      " (b:◎) \n",
      " (b:◎) \n",
      " (b:◎) \n",
      " (b:◎) \n",
      " (b:◎) \n",
      " (b:◎) \n",
      " (b:◎) \n",
      " (b:◎) \n",
      " (b:◎) \n",
      " (b:◎) \n",
      " (b:◎) \n",
      " (b:◎) \n",
      " (b:◎) \n",
      " (b:◎) \n"
     ]
    }
   ],
   "source": [
    "-ALL \n",
    "tab : ap {ALL:get:B} : LS?\n",
    "-ANY \n",
    "tab : ap {ANY:get:B} : LS?\n",
    "-TRUE \n",
    "tab : ap {TRUE:get:B} : LS? \n",
    "-FALSE\n",
    "tab : ap {FALSE:get:B} : LS?"
   ]
  },
  {
   "cell_type": "markdown",
   "id": "3fdc53c4-12f7-45ba-904f-55589198a91a",
   "metadata": {},
   "source": [
    "What makes morphisms like ANY and ALL more interesting than, say, (E:nth 45)?  \n",
    "\n",
    "The difference is that ANY and ALL are independent of order and (E:nth 45) isn't. For instance, ANY:(L:X) (L:Y) = ANY:(L:Y) (L:X) for any X, Y.  This means that ANY is independent of finite sequence.  Since finite sequence is the sole concept of this entire system, this means that ANY is, in a sense, a Platonic mathematical object, worthy of a name and of particular interest.\n",
    "\n",
    "This consideration holds for any space including the space **pass** of all pure data.  It means that for any space U, we can consider U with the structure rev.  Endomorphisms of U with rev are automatically \"mathematical.\"  Let's find these for L.\n",
    "\n",
    "An endomorphism U\\*f\\*U commutes with U\\*rev\\*U if U\\*f\\*U\\*rev*\\U = U\\*rev\\*U\\*f\\*U.  In other words, if \n",
    "\n",
    "* U:f:U:rev:X = U:rev:U:f:X for all X in U.\n",
    "\n"
   ]
  },
  {
   "cell_type": "code",
   "execution_count": 18,
   "id": "4f0e6c67-a34c-41b7-9b5d-cf1e1f52e5fd",
   "metadata": {},
   "outputs": [
    {
     "name": "stdout",
     "output_type": "stream",
     "text": []
    }
   ],
   "source": [
    "Def TEST : {(L:A:L:rev:get:B)=(L:rev:L:A:get:B)} "
   ]
  },
  {
   "cell_type": "code",
   "execution_count": 24,
   "id": "8323f364-1797-4bf6-9883-4d0117345e38",
   "metadata": {},
   "outputs": [
    {
     "name": "stdout",
     "output_type": "stream",
     "text": [
      "(b:◎)\n",
      "(b:)\n",
      "◎\n",
      "◎"
     ]
    }
   ],
   "source": [
    "ap {(E:nth 2):get:B}     : (:(b:) (b:(:)))\n",
    "ap {(E:nth 2):rev:get:B} : (:(b:) (b:(:)))\n",
    "TEST (E:nth 2) : (:(b:) (b:(:)))\n",
    "ap TEST (E:nth 2) : (:(b:) (b:(:)))"
   ]
  },
  {
   "cell_type": "code",
   "execution_count": 26,
   "id": "29275c60-67f0-4101-aeeb-007043528f7e",
   "metadata": {},
   "outputs": [
    {
     "name": "stdout",
     "output_type": "stream",
     "text": [
      "◎ ◎\n",
      "0"
     ]
    }
   ],
   "source": [
    "ap TEST (E:nth 2) : LS?\n",
    "count : ap TEST ANY : LS?"
   ]
  },
  {
   "cell_type": "code",
   "execution_count": 35,
   "id": "9507176b-1827-4ea5-a728-c50d432555aa",
   "metadata": {},
   "outputs": [
    {
     "name": "stdout",
     "output_type": "stream",
     "text": [
      "(with (:nth 2):2)"
     ]
    }
   ],
   "source": [
    "do 100 : ap {with B : count : ap TEST (E:get:B) : LS?} : (:nth 2)"
   ]
  },
  {
   "cell_type": "code",
   "execution_count": 36,
   "id": "abe9adf2-4656-49ea-a656-42b796fd54e1",
   "metadata": {},
   "outputs": [
    {
     "name": "stdout",
     "output_type": "stream",
     "text": [
      "(defaultTime:200)"
     ]
    }
   ],
   "source": [
    "defaultTime:200"
   ]
  },
  {
   "cell_type": "code",
   "execution_count": null,
   "id": "b3795274-39a6-47fe-8ffb-bfd403690917",
   "metadata": {},
   "outputs": [],
   "source": [
    "do 200 : ap {with B : count : ap TEST (E:get:B) : LS?} : (:ANY)"
   ]
  },
  {
   "cell_type": "markdown",
   "id": "95601ea8-83e8-4b26-bc8d-f520da4da951",
   "metadata": {},
   "source": [
    "### Conclusion \n",
    "\n",
    "Thus, it seems that the space L has an essentially unique, maximal, mutually commuting structure:\n",
    "\n",
    "1. ANY, ALL\n",
    "2. E(f) for any f that preserves the presence or absence of true values (b()) and preserves the presence or absence of false (b(:)) values.  This includes any permutation, endomorphisms, like doubling E({B B}) and endomorphisms like E(once).\n",
    "\n",
    "This needs a proof, but it is also pretty clear that any endomorphism which fails to satisfy 1 or 2 will not commute with the rest and, thus, the above structure should be maximal on L."
   ]
  },
  {
   "cell_type": "code",
   "execution_count": null,
   "id": "d36a2ecb-b4f2-4296-8104-5e08124bc1e3",
   "metadata": {},
   "outputs": [],
   "source": []
  }
 ],
 "metadata": {
  "kernelspec": {
   "display_name": "coda",
   "language": "",
   "name": "coda"
  },
  "language_info": {
   "file_extension": ".co",
   "mimetype": "text/plain",
   "name": "Any text"
  }
 },
 "nbformat": 4,
 "nbformat_minor": 5
}
