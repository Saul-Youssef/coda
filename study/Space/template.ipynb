{
 "cells": [
  {
   "cell_type": "markdown",
   "id": "7c76b388-84de-411f-8055-a45161f2e05d",
   "metadata": {},
   "source": [
    "# NAME "
   ]
  },
  {
   "cell_type": "markdown",
   "id": "402200e4-6423-40fe-aa80-aa3cb4c13b05",
   "metadata": {},
   "source": [
    "## Basics"
   ]
  },
  {
   "cell_type": "markdown",
   "id": "d8d77b69-b3af-4df3-8c4a-82912ae9a517",
   "metadata": {},
   "source": [
    "### 1. What is the definition of the space?"
   ]
  },
  {
   "cell_type": "markdown",
   "id": "6bdad004-1348-45af-a735-f155d57d2da0",
   "metadata": {},
   "source": [
    "### 2. What data is in the space?"
   ]
  },
  {
   "cell_type": "markdown",
   "id": "a08c7aa1-83e2-4fd5-b96c-66c8236db3d7",
   "metadata": {},
   "source": [
    "### 3. What is the neutral data?"
   ]
  },
  {
   "cell_type": "markdown",
   "id": "899a28ab-b0cc-4211-b11f-d84f998ce28a",
   "metadata": {},
   "source": [
    "## Properties"
   ]
  },
  {
   "cell_type": "markdown",
   "id": "e959c2f0-53ad-4dd2-8f5c-a6387f0d082e",
   "metadata": {},
   "source": [
    "### 4. Is the space distributive?"
   ]
  },
  {
   "cell_type": "markdown",
   "id": "d49e30dd-81ca-4de6-980f-4f08dee9b0ea",
   "metadata": {},
   "source": [
    "### 5. Is the space algebraic?"
   ]
  },
  {
   "cell_type": "markdown",
   "id": "41c86e71-b148-4d48-a81a-5751056d6dde",
   "metadata": {},
   "source": [
    "### 6. Is the space positive?"
   ]
  },
  {
   "cell_type": "markdown",
   "id": "4dfd0f6a-4a8d-46ed-878a-3f749aacd598",
   "metadata": {},
   "source": [
    "### Complementary Spaces and Isomorphisms\n",
    "\n",
    "* What are some complementary spaces? \n",
    "* Are there obvious isomorphisms?"
   ]
  },
  {
   "cell_type": "markdown",
   "id": "807320d1-3ed0-4081-80fb-add2d5c796a1",
   "metadata": {},
   "source": [
    "### Endomorphism basics \n",
    "\n",
    "* What are some sample endomorphisms?\n",
    "* What are 0 and 1 in the semiring of endomorphisms?\n",
    "* What is the positive ideal? \n",
    "* If so, what are they?\n",
    "* Are there space endomorphisms?"
   ]
  },
  {
   "cell_type": "markdown",
   "id": "fc414621-f3b1-416e-946c-45d97d3a3b47",
   "metadata": {},
   "source": [
    "### Special Endomorphisms\n",
    "\n",
    "* What are the units?\n",
    "* What are the involutions?\n",
    "* What is the algebraic ideal?\n",
    "* Are there inner endomorphisms?\n",
    "* Idempotents?\n",
    "* Subspace morphisms?\n",
    "* Inner endomorphisms?"
   ]
  },
  {
   "cell_type": "markdown",
   "id": "97e102cf-6bd7-4d12-a084-7beb656c903c",
   "metadata": {},
   "source": [
    "### Ideals \n",
    "* What is the ideal of algebraic endomorphisms?\n",
    "* What is the ideal of positive endomorphisms?\n",
    "* Is every endomorphism a composition of a unit and an endomorphism?"
   ]
  },
  {
   "cell_type": "code",
   "execution_count": null,
   "id": "4393fe11-16e0-4b34-aa38-e8e44916c697",
   "metadata": {},
   "outputs": [],
   "source": []
  }
 ],
 "metadata": {
  "kernelspec": {
   "display_name": "coda",
   "language": "",
   "name": "coda"
  },
  "language_info": {
   "file_extension": ".co",
   "mimetype": "text/plain",
   "name": "Any text"
  }
 },
 "nbformat": 4,
 "nbformat_minor": 5
}
