{
 "cells": [
  {
   "cell_type": "code",
   "execution_count": 1,
   "id": "49b96420-fca7-4473-b00e-ee190b291d59",
   "metadata": {
    "tags": []
   },
   "outputs": [
    {
     "ename": "ModuleNotFoundError",
     "evalue": "No module named 'Character'",
     "output_type": "error",
     "traceback": [
      "\u001b[0;31m---------------------------------------------------------------------------\u001b[0m",
      "\u001b[0;31mModuleNotFoundError\u001b[0m                       Traceback (most recent call last)",
      "Cell \u001b[0;32mIn[1], line 1\u001b[0m\n\u001b[0;32m----> 1\u001b[0m \u001b[38;5;28;01mimport\u001b[39;00m \u001b[38;5;21;01mstring\u001b[39;00m\u001b[38;5;241m,\u001b[39m\u001b[38;5;21;01mCharacter\u001b[39;00m\n",
      "\u001b[0;31mModuleNotFoundError\u001b[0m: No module named 'Character'"
     ]
    }
   ],
   "source": [
    "import string,Name"
   ]
  },
  {
   "cell_type": "code",
   "execution_count": null,
   "id": "11f2f92d-d6f6-494c-b598-d8f2fcaef196",
   "metadata": {},
   "outputs": [],
   "source": [
    "string.printable"
   ]
  },
  {
   "cell_type": "code",
   "execution_count": null,
   "id": "f3a04d76-928c-49bf-afcb-7e6e4a604b8d",
   "metadata": {},
   "outputs": [],
   "source": [
    "bin(ord('a'))"
   ]
  },
  {
   "cell_type": "code",
   "execution_count": null,
   "id": "6cebbaf4-52ef-40f2-97ba-8ede678738ee",
   "metadata": {},
   "outputs": [],
   "source": [
    "#\n",
    "#   print unicode string a and pure data a \n",
    "#\n",
    "print('a',Name.byte('a'))"
   ]
  },
  {
   "cell_type": "code",
   "execution_count": null,
   "id": "b976cefa-f3fd-4e7c-a709-a7c15d7f05d1",
   "metadata": {},
   "outputs": [],
   "source": []
  }
 ],
 "metadata": {
  "kernelspec": {
   "display_name": "Python 3 (ipykernel)",
   "language": "python",
   "name": "python3"
  },
  "language_info": {
   "codemirror_mode": {
    "name": "ipython",
    "version": 3
   },
   "file_extension": ".py",
   "mimetype": "text/x-python",
   "name": "python",
   "nbconvert_exporter": "python",
   "pygments_lexer": "ipython3",
   "version": "3.10.7"
  }
 },
 "nbformat": 4,
 "nbformat_minor": 5
}
