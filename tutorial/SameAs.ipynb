{
 "cells": [
  {
   "cell_type": "code",
   "execution_count": 1,
   "id": "4a66f0b4-0c1b-4511-88bc-57bb0aab9bb7",
   "metadata": {},
   "outputs": [
    {
     "name": "stdout",
     "output_type": "stream",
     "text": []
    }
   ],
   "source": [
    "#\n",
    "#\n",
    "#  m is a type \n",
    "#\n",
    "let (Make:m) : {ap int1:B}\n",
    "let (Sum:m) : {m : apbin int_add : m : B}\n",
    "let (Prod:m) : {m : apbin int_mult : m : B}\n",
    "let (Inv:m) : {m : int_inv : m : B} "
   ]
  },
  {
   "cell_type": "code",
   "execution_count": 2,
   "id": "e2daa679-5c04-4eca-8862-6090cbf87038",
   "metadata": {},
   "outputs": [
    {
     "name": "stdout",
     "output_type": "stream",
     "text": []
    }
   ],
   "source": [
    "def integer:\n",
    "let (Make:integer) : {(has integer:B) (apby 2 {put integer:B} : make m: hasnt integer : B)}"
   ]
  },
  {
   "cell_type": "code",
   "execution_count": 3,
   "id": "79e454b0-ab24-45ee-b08c-e37884aaacde",
   "metadata": {},
   "outputs": [
    {
     "name": "stdout",
     "output_type": "stream",
     "text": [
      "(integer:1 2) (integer:3 4)"
     ]
    }
   ],
   "source": [
    "(Make:integer) : (Make:integer) :  1 2 3 4 "
   ]
  },
  {
   "cell_type": "code",
   "execution_count": 4,
   "id": "06289df5-f2de-427c-a140-97b0eb6b0797",
   "metadata": {},
   "outputs": [
    {
     "name": "stdout",
     "output_type": "stream",
     "text": [
      "(integer:1 2) (integer:3 4)"
     ]
    }
   ],
   "source": [
    "make integer : make integer : 1 2 3 4 "
   ]
  },
  {
   "cell_type": "code",
   "execution_count": 7,
   "id": "484c41b3-525b-44a5-9f35-a97232aad990",
   "metadata": {},
   "outputs": [
    {
     "name": "stdout",
     "output_type": "stream",
     "text": []
    }
   ],
   "source": [
    "let (Term:integer) : {apbin int_diff : get integer: make integer : B} "
   ]
  },
  {
   "cell_type": "code",
   "execution_count": 11,
   "id": "f827d8d9-8477-4043-a72f-7ac70696502f",
   "metadata": {},
   "outputs": [
    {
     "name": "stdout",
     "output_type": "stream",
     "text": [
      "1 -1"
     ]
    }
   ],
   "source": [
    "term integer : make integer : 1 2 4 3"
   ]
  },
  {
   "cell_type": "code",
   "execution_count": null,
   "id": "6c5c9101-3e8f-4d1c-b77b-1479e69dbe6f",
   "metadata": {},
   "outputs": [],
   "source": []
  }
 ],
 "metadata": {
  "kernelspec": {
   "display_name": "coda",
   "language": "",
   "name": "coda"
  },
  "language_info": {
   "file_extension": ".co",
   "mimetype": "text/plain",
   "name": "Any text"
  }
 },
 "nbformat": 4,
 "nbformat_minor": 5
}
