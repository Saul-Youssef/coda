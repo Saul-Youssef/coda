{
 "cells": [
  {
   "cell_type": "code",
   "execution_count": 1,
   "id": "56a98ae3-3f64-462c-966f-5ec22bc6e59a",
   "metadata": {},
   "outputs": [
    {
     "name": "stdout",
     "output_type": "stream",
     "text": []
    }
   ],
   "source": [
    "import : ."
   ]
  },
  {
   "cell_type": "code",
   "execution_count": 2,
   "id": "301fd6d8-0be1-4dbb-bba3-c9e2c0fc92f5",
   "metadata": {},
   "outputs": [
    {
     "name": "stdout",
     "output_type": "stream",
     "text": []
    }
   ],
   "source": [
    "Def n : {int_prod : (int_prod:A) (int_sum:B)}\n",
    "Def connes : { int_sum : (int_sum:A) (int_max:B) } "
   ]
  },
  {
   "cell_type": "code",
   "execution_count": 3,
   "id": "16fd39e3-a3be-4aac-8f38-8b49f5371c22",
   "metadata": {},
   "outputs": [
    {
     "name": "stdout",
     "output_type": "stream",
     "text": [
      "(bin n:0) (bin connes:0)"
     ]
    }
   ],
   "source": [
    "IDEMP1 S1? S2? : n connes"
   ]
  },
  {
   "cell_type": "code",
   "execution_count": 4,
   "id": "3ea7b314-cfca-407e-bfcc-cd8ff0963962",
   "metadata": {},
   "outputs": [
    {
     "name": "stdout",
     "output_type": "stream",
     "text": [
      "(bin n:25) (bin connes:25)"
     ]
    }
   ],
   "source": [
    "# neither is distributive \n",
    "DIST1 S1? : n connes"
   ]
  },
  {
   "cell_type": "code",
   "execution_count": 5,
   "id": "f9ac89ae-c8c4-4b55-94c6-5fe2c88ce90f",
   "metadata": {},
   "outputs": [
    {
     "name": "stdout",
     "output_type": "stream",
     "text": [
      "(bin n:0) (bin connes:0)"
     ]
    }
   ],
   "source": [
    "# both are DIST2 \n",
    "DIST2 S1? : n connes "
   ]
  },
  {
   "cell_type": "code",
   "execution_count": 6,
   "id": "16827eaf-7163-467f-8e64-47e82ebf11d2",
   "metadata": {},
   "outputs": [
    {
     "name": "stdout",
     "output_type": "stream",
     "text": [
      "(bin n:0) (bin connes:0)"
     ]
    }
   ],
   "source": [
    "DIST3 S1? : n connes "
   ]
  },
  {
   "cell_type": "code",
   "execution_count": null,
   "id": "ced18586-76f3-4f8d-98d3-f46eb3eb2111",
   "metadata": {},
   "outputs": [],
   "source": [
    "DIST3 S2? : n connes "
   ]
  },
  {
   "cell_type": "code",
   "execution_count": null,
   "id": "464c9b18-5375-4050-b1d5-c16a3fd9f7f7",
   "metadata": {},
   "outputs": [],
   "source": []
  }
 ],
 "metadata": {
  "kernelspec": {
   "display_name": "coda",
   "language": "",
   "name": "coda"
  },
  "language_info": {
   "file_extension": ".co",
   "mimetype": "text/plain",
   "name": "Any text"
  }
 },
 "nbformat": 4,
 "nbformat_minor": 5
}
