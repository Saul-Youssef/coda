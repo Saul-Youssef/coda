{
 "cells": [
  {
   "cell_type": "code",
   "execution_count": null,
   "id": "45a2ee2f-54dd-41ea-b437-fd5c3d2409a2",
   "metadata": {},
   "outputs": [],
   "source": [
    "let x? : (^:x?)"
   ]
  },
  {
   "cell_type": "code",
   "execution_count": 2,
   "id": "e79a4676-8433-4c19-b331-90a31400668f",
   "metadata": {},
   "outputs": [
    {
     "name": "stdout",
     "output_type": "stream",
     "text": [
      "(^:(^:(^:(^:(^:(^:(^:(^:(^:(^:(^:(^:(^:(^:(^:(^:(^:(^:(^:(^:(^:(^:(^:(^:(^:(^:(^:(^:(^:(^:(^:(^:(^:(^:(^:(^:(^:(^:(^:(^:(^:(^:(^:(^:(^:(^:(^:(^:(^:(^:(^:(^:(^:(^:(^:(^:(^:(^:(^:(^:(^:(^:(^:(^:(^:(^:(^:(^:(^:(^:(^:(^:(^:(^:(^:(^:(^:(^:(^:(^:(^:(^:(^:(^:(^:(^:(^:(^:(^:(^:(^:(^:(^:(^:(^:(^:(^:(^:(^:(?:x))))))))))))))))))))))))))))))))))))))))))))))))))))))))))))))))))))))))))))))))))))))))))))))))))))"
     ]
    }
   ],
   "source": [
    "x?"
   ]
  },
  {
   "cell_type": "code",
   "execution_count": 3,
   "id": "ef7f1e09-588f-4c41-9c21-c729eeded0c3",
   "metadata": {},
   "outputs": [
    {
     "name": "stdout",
     "output_type": "stream",
     "text": [
      "...traceback: ? is already defined."
     ]
    }
   ],
   "source": [
    "let y? : y?"
   ]
  },
  {
   "cell_type": "code",
   "execution_count": 4,
   "id": "3f16dbfd-4f7a-4a0d-9f60-e4de0bbcaa43",
   "metadata": {},
   "outputs": [
    {
     "name": "stdout",
     "output_type": "stream",
     "text": [
      "...traceback: ? is already defined."
     ]
    }
   ],
   "source": [
    "let z? : z?"
   ]
  },
  {
   "cell_type": "code",
   "execution_count": 5,
   "id": "ec13c9a9-de6f-4f23-9c5b-73bbdb0dfcba",
   "metadata": {},
   "outputs": [
    {
     "name": "stdout",
     "output_type": "stream",
     "text": [
      "...traceback: ? is already defined."
     ]
    }
   ],
   "source": [
    "let z? : 12 \n"
   ]
  },
  {
   "cell_type": "code",
   "execution_count": 6,
   "id": "e726886c-94e7-4578-b3f5-1fb2d9c7ab29",
   "metadata": {},
   "outputs": [
    {
     "name": "stdout",
     "output_type": "stream",
     "text": [
      "(?:z)"
     ]
    }
   ],
   "source": [
    "z?"
   ]
  },
  {
   "cell_type": "code",
   "execution_count": 7,
   "id": "7cfddf62-9e12-4cbb-a043-11539cb6ad2b",
   "metadata": {},
   "outputs": [
    {
     "name": "stdout",
     "output_type": "stream",
     "text": [
      "...traceback: ? is already defined."
     ]
    }
   ],
   "source": [
    "let z? : 124"
   ]
  },
  {
   "cell_type": "code",
   "execution_count": 8,
   "id": "6aabdbdd-03bd-4b52-a0e6-fb76aa5d88b7",
   "metadata": {},
   "outputs": [
    {
     "name": "stdout",
     "output_type": "stream",
     "text": [
      "...traceback: ? is already defined."
     ]
    }
   ],
   "source": [
    "let zz? : ^:zz?"
   ]
  },
  {
   "cell_type": "code",
   "execution_count": 9,
   "id": "c8a35ee3-573d-4181-ab4e-81ab970f587f",
   "metadata": {},
   "outputs": [
    {
     "name": "stdout",
     "output_type": "stream",
     "text": [
      "(^:(^:(^:(^:(^:(^:(^:(^:(^:(^:(^:(^:(^:(^:(^:(^:(^:(^:(^:(^:(^:(^:(^:(^:(^:(^:(^:(^:(^:(^:(^:(^:(^:(^:(^:(^:(^:(^:(^:(^:(^:(^:(^:(^:(^:(^:(^:(^:(^:(^:(^:(^:(^:(^:(^:(^:(^:(^:(^:(^:(^:(^:(^:(^:(^:(^:(^:(^:(^:(^:(^:(^:(^:(^:(^:(^:(^:(^:(^:(^:(^:(^:(^:(^:(^:(^:(^:(^:(^:(^:(^:(^:(^:(^:(^:(^:(^:(^:(^:(?:x))))))))))))))))))))))))))))))))))))))))))))))))))))))))))))))))))))))))))))))))))))))))))))))))))))"
     ]
    }
   ],
   "source": [
    "x?"
   ]
  },
  {
   "cell_type": "code",
   "execution_count": null,
   "id": "284ae117-69f2-444d-b7a2-16f4e570117d",
   "metadata": {},
   "outputs": [],
   "source": []
  }
 ],
 "metadata": {
  "kernelspec": {
   "display_name": "coda",
   "language": "",
   "name": "coda"
  },
  "language_info": {
   "file_extension": ".co",
   "mimetype": "text/plain",
   "name": "Any text"
  }
 },
 "nbformat": 4,
 "nbformat_minor": 5
}
