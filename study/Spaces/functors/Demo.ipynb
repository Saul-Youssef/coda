{
 "cells": [
  {
   "cell_type": "markdown",
   "id": "7f3421e2-fb82-477f-b0da-9903e778a8e7",
   "metadata": {},
   "source": [
    "Demonstrate functors from the file ../Space.co.\n",
    "\n",
    "Suppose that U is a space and b is an atom.  Then \n",
    "\n",
    "* (Up b : U) is the space of sequences of (b:u_1) (b:u_2)... where u_1, u_2,... are in U.\n",
    "* (Pair b : U) is the space of pairs of data in U."
   ]
  },
  {
   "cell_type": "code",
   "execution_count": 1,
   "id": "ae4e79ff-0bff-4ad2-9440-57570299fbfe",
   "metadata": {},
   "outputs": [
    {
     "name": "stdout",
     "output_type": "stream",
     "text": [
      "/Users/youssef/coda/study/Spaces/Space.co"
     ]
    }
   ],
   "source": [
    "dir co : up : ."
   ]
  },
  {
   "cell_type": "code",
   "execution_count": 2,
   "id": "1aebcd6d-12e8-43cd-83c9-f62b53f37b16",
   "metadata": {},
   "outputs": [
    {
     "name": "stdout",
     "output_type": "stream",
     "text": [
      "(defaultTime:100)"
     ]
    }
   ],
   "source": [
    "defaultTime:100 \n",
    "import : dir co : up : ."
   ]
  },
  {
   "cell_type": "code",
   "execution_count": 3,
   "id": "7ad211aa-a342-4b3c-939a-e56f35fe0448",
   "metadata": {},
   "outputs": [
    {
     "name": "stdout",
     "output_type": "stream",
     "text": []
    }
   ],
   "source": [
    "Def n:\n",
    "Def b:"
   ]
  },
  {
   "cell_type": "code",
   "execution_count": 4,
   "id": "13d9370f-d940-4262-86ea-3039f0356cfe",
   "metadata": {},
   "outputs": [
    {
     "name": "stdout",
     "output_type": "stream",
     "text": []
    }
   ],
   "source": [
    "Def Stick : Up n : ap {|} \n",
    "Def Bool  : Up b : bool "
   ]
  },
  {
   "cell_type": "code",
   "execution_count": 5,
   "id": "375b1c49-f707-4361-a840-a0f2b81112c3",
   "metadata": {},
   "outputs": [
    {
     "name": "stdout",
     "output_type": "stream",
     "text": [
      "(n:| |) (n:) (n:| | |)\n",
      "(b:◎) (b:◎) (b:) (b:◎)"
     ]
    }
   ],
   "source": [
    "Stick : (n:a b) (n:) (n:a b c)\n",
    "Bool : (b:a) (b:bb) (b:) (b:(:)) "
   ]
  },
  {
   "cell_type": "code",
   "execution_count": 6,
   "id": "a8c89adf-3421-4b8c-8d93-e5ccd0a9f6a7",
   "metadata": {},
   "outputs": [
    {
     "name": "stdout",
     "output_type": "stream",
     "text": [
      "(n:| |) (n:) (n:| | |)\n",
      "(n:| |) (n:) (n:| | |)\n",
      "(n:| |) (n:) (n:| | |)"
     ]
    }
   ],
   "source": [
    "Stick : (n:a b) (n:) (n:a b c)\n",
    "Stick : Stick : (n:a b) (n:) (n:a b c)\n",
    "Stick : (Stick : (n:a b) (n:) ) (Stick : (n:a b c)) "
   ]
  },
  {
   "cell_type": "code",
   "execution_count": 7,
   "id": "89296ed0-1399-4561-99ce-f700f90160a3",
   "metadata": {},
   "outputs": [
    {
     "name": "stdout",
     "output_type": "stream",
     "text": [
      "(b:◎) (b:◎) (b:) (b:◎)\n",
      "(b:◎) (b:◎) (b:) (b:◎)\n",
      "(b:◎) (b:◎) (b:) (b:◎)"
     ]
    }
   ],
   "source": [
    "Bool : (b:a) (b:bb) (b:) (b:(:)) \n",
    "Bool : Bool : (b:a) (b:bb) (b:) (b:(:)) \n",
    "Bool : (Bool : (b:a) (b:bb) ) ( Bool : (b:) (b:(:)) )"
   ]
  },
  {
   "cell_type": "code",
   "execution_count": 8,
   "id": "59c0725b-9c96-490e-90e3-9f203a81fdf9",
   "metadata": {},
   "outputs": [
    {
     "name": "stdout",
     "output_type": "stream",
     "text": [
      "(b:) (b:◎)\n",
      "(n:| |) (n:| | |)"
     ]
    }
   ],
   "source": [
    "( Pair b : bool ) : (b:) (b:(:)) (b:)\n",
    "( Pair n : ap {|} ) : (n:| |) (n:| | |) (n:|)"
   ]
  },
  {
   "cell_type": "code",
   "execution_count": 9,
   "id": "74be3fd3-c2b2-44d9-8bcf-323a43e311a3",
   "metadata": {},
   "outputs": [
    {
     "name": "stdout",
     "output_type": "stream",
     "text": [
      "(n:| | |) (n:|)"
     ]
    }
   ],
   "source": [
    "ap prod (:put n) (:ap {|}) (:get n) : front | | : (n:a b c) (n:a) (n:xxx)"
   ]
  },
  {
   "cell_type": "code",
   "execution_count": 10,
   "id": "dfbb944b-36df-4dd2-a822-e1e3ce6bbebf",
   "metadata": {},
   "outputs": [
    {
     "name": "stdout",
     "output_type": "stream",
     "text": [
      "(n:| | |) (n:|)"
     ]
    }
   ],
   "source": [
    "( {(ap prod (:put A) (:B) (:get A)) * (front | |) } n : ap {|} ) : (n:a b c) (n:a) (n:xxx)"
   ]
  },
  {
   "cell_type": "code",
   "execution_count": 11,
   "id": "8263083a-25a5-4468-b871-e537f0ab29cf",
   "metadata": {},
   "outputs": [
    {
     "name": "stdout",
     "output_type": "stream",
     "text": []
    }
   ],
   "source": [
    "Def P : {(ap prod (:put A) (:B) (:get A)) * (front | |) } "
   ]
  },
  {
   "cell_type": "code",
   "execution_count": 12,
   "id": "d7dc3dd3-ac7e-4d87-89aa-c35bec4dcd3b",
   "metadata": {},
   "outputs": [
    {
     "name": "stdout",
     "output_type": "stream",
     "text": [
      "(n:| | |) (n:|)"
     ]
    }
   ],
   "source": [
    "(P n : ap {|}) : (n:a b c) (n:a) (n:xxx)"
   ]
  },
  {
   "cell_type": "code",
   "execution_count": 13,
   "id": "a3e37231-bcee-4a33-beef-fc780d7b899b",
   "metadata": {},
   "outputs": [
    {
     "name": "stdout",
     "output_type": "stream",
     "text": [
      "a b"
     ]
    }
   ],
   "source": [
    "front | | : (front | | : a ) (front | | : b c d e) "
   ]
  },
  {
   "cell_type": "code",
   "execution_count": 14,
   "id": "71a4b5a5-281c-4ca4-b550-179457f83d34",
   "metadata": {},
   "outputs": [
    {
     "name": "stdout",
     "output_type": "stream",
     "text": [
      "(:| | |) (:| |)"
     ]
    }
   ],
   "source": [
    "ap prod (:put) (:ap {|}) (:get) : front | | : (:a b c) (:a b)"
   ]
  },
  {
   "cell_type": "code",
   "execution_count": 15,
   "id": "0c6e1e60-e7da-4104-9fdc-07e5b6a7d77a",
   "metadata": {},
   "outputs": [
    {
     "name": "stdout",
     "output_type": "stream",
     "text": [
      "back backstrip by count dup ends first front frontstrip grp head item last less more nth nth1 once post pre rep rev same starts swap tail"
     ]
    }
   ],
   "source": [
    "defs : Sequence"
   ]
  },
  {
   "cell_type": "code",
   "execution_count": 16,
   "id": "c6a14d2b-78f7-4a0c-a8d1-86751cae8f0c",
   "metadata": {},
   "outputs": [
    {
     "name": "stdout",
     "output_type": "stream",
     "text": [
      "| | |"
     ]
    }
   ],
   "source": [
    "{ap {get:B} front | |:get:B} : (:(:| |) (:|))"
   ]
  },
  {
   "cell_type": "code",
   "execution_count": 17,
   "id": "5957f471-99a4-43b5-b1fd-d69372933060",
   "metadata": {},
   "outputs": [
    {
     "name": "stdout",
     "output_type": "stream",
     "text": [
      "(n:(:| |) (:|))"
     ]
    }
   ],
   "source": [
    "prod (:put n) (:ap prod (:put) (:ap {|}) (:get)) (:get n) : (n:(:| |) (:|))"
   ]
  },
  {
   "cell_type": "code",
   "execution_count": 18,
   "id": "437c25e3-f083-4435-917b-9b98f55f0798",
   "metadata": {},
   "outputs": [
    {
     "name": "stdout",
     "output_type": "stream",
     "text": [
      "a b"
     ]
    }
   ],
   "source": [
    "front | | : a b c d "
   ]
  },
  {
   "cell_type": "code",
   "execution_count": 19,
   "id": "05f65d33-322e-4627-acef-102b8aa2e948",
   "metadata": {},
   "outputs": [
    {
     "name": "stdout",
     "output_type": "stream",
     "text": []
    }
   ],
   "source": [
    "Def Bool2 : Pair b : bool\n",
    "Def Stick2 : Pair n : ap {|} "
   ]
  },
  {
   "cell_type": "code",
   "execution_count": 20,
   "id": "5714723d-1840-45c2-ad91-2c72d5c9fd1b",
   "metadata": {},
   "outputs": [
    {
     "name": "stdout",
     "output_type": "stream",
     "text": [
      "(b:) (b:◎)"
     ]
    }
   ],
   "source": [
    "Bool2 : (b:) (b:(:)) (b:)"
   ]
  },
  {
   "cell_type": "code",
   "execution_count": 21,
   "id": "e094edf6-35d1-457b-8ae0-d9a775b736a9",
   "metadata": {},
   "outputs": [
    {
     "name": "stdout",
     "output_type": "stream",
     "text": [
      "(n:| |) (n:| | |)\n",
      "(n:| |) (n:| | |)\n",
      "(n:| |) (n:| | |)"
     ]
    }
   ],
   "source": [
    "Stick2 : (n:| |) (n:| | |) (n:|)\n",
    "Stick2 : Stick2 : (n:| |) (n:| | |) (n:|)\n",
    "Stick2 : (Stick2 : (n:| |) ) (Stick2 : (n:| | |) (n:|) )"
   ]
  },
  {
   "cell_type": "code",
   "execution_count": 22,
   "id": "f819a0bc-1950-4a3c-b285-0c2a34c3d853",
   "metadata": {},
   "outputs": [
    {
     "name": "stdout",
     "output_type": "stream",
     "text": [
      "(b:) (b:◎)\n",
      "(b:) (b:◎)\n",
      "(b:) (b:◎)"
     ]
    }
   ],
   "source": [
    "Bool2 : (b:) (b:(:)) (b:)\n",
    "Bool2 : Bool2 : (b:) (b:(:)) (b:)\n",
    "Bool2 : (Bool2 : (b:)) (Bool2 : (b:(:)) (b:) )"
   ]
  },
  {
   "cell_type": "code",
   "execution_count": 24,
   "id": "2bfbe9d8-1513-4cb1-9d52-9a55690ca948",
   "metadata": {},
   "outputs": [
    {
     "name": "stdout",
     "output_type": "stream",
     "text": [
      "(n:x y z) (n:a b c)"
     ]
    }
   ],
   "source": [
    "(Pair n : pass ) : (n:x y z) (n:a b c) (n:d e f)"
   ]
  },
  {
   "cell_type": "code",
   "execution_count": 27,
   "id": "f5bd153d-0e83-44f9-ad06-b55d25cd3844",
   "metadata": {},
   "outputs": [
    {
     "name": "stdout",
     "output_type": "stream",
     "text": [
      "(n:|) (n:| | |)"
     ]
    }
   ],
   "source": [
    "(End Stick2 : rev ) : Stick2 : (n:a b c) (n:c)"
   ]
  },
  {
   "cell_type": "code",
   "execution_count": 28,
   "id": "bdf06790-3cdc-4776-abce-a9dd7e090cec",
   "metadata": {},
   "outputs": [
    {
     "name": "stdout",
     "output_type": "stream",
     "text": []
    }
   ],
   "source": [
    "Def Invert : End Stick2 : rev "
   ]
  },
  {
   "cell_type": "code",
   "execution_count": 29,
   "id": "24bc07f1-3ce8-430f-9b3a-0756b53dd6df",
   "metadata": {},
   "outputs": [
    {
     "name": "stdout",
     "output_type": "stream",
     "text": [
      "(n:|) (n:| | |)"
     ]
    }
   ],
   "source": [
    "Invert : Stick2 : (n:| | |) (n:|)"
   ]
  },
  {
   "cell_type": "code",
   "execution_count": 30,
   "id": "493b4e1c-8a3c-4ec7-b754-836d4fe16356",
   "metadata": {},
   "outputs": [
    {
     "name": "stdout",
     "output_type": "stream",
     "text": [
      "(n:| | |) (n:|)"
     ]
    }
   ],
   "source": [
    "Invert : Invert : Stick2 : (n:| | |) (n:|)"
   ]
  },
  {
   "cell_type": "code",
   "execution_count": null,
   "id": "13267f67-c6f9-4827-87a4-c3a9208ec372",
   "metadata": {},
   "outputs": [],
   "source": []
  }
 ],
 "metadata": {
  "kernelspec": {
   "display_name": "coda",
   "language": "",
   "name": "coda"
  },
  "language_info": {
   "file_extension": ".co",
   "mimetype": "text/plain",
   "name": "Any text"
  }
 },
 "nbformat": 4,
 "nbformat_minor": 5
}
