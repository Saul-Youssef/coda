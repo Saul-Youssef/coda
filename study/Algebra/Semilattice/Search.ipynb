{
 "cells": [
  {
   "cell_type": "code",
   "execution_count": 2,
   "id": "e7e00a80-ad06-4af8-8b36-840b176e33b0",
   "metadata": {},
   "outputs": [
    {
     "name": "stdout",
     "output_type": "stream",
     "text": [
      "(defaultTime:100)"
     ]
    }
   ],
   "source": [
    "defaultTime:100"
   ]
  },
  {
   "cell_type": "code",
   "execution_count": 1,
   "id": "d040b7d7-591d-4b13-9f6f-61a3a472dee3",
   "metadata": {},
   "outputs": [
    {
     "name": "stdout",
     "output_type": "stream",
     "text": []
    }
   ],
   "source": [
    "log:multi "
   ]
  },
  {
   "cell_type": "code",
   "execution_count": 3,
   "id": "dac4776d-6ae5-4cf8-bdaa-c5a2f1fb632b",
   "metadata": {},
   "outputs": [
    {
     "name": "stdout",
     "output_type": "stream",
     "text": [
      "logging> multi\n"
     ]
    }
   ],
   "source": [
    "logging:"
   ]
  },
  {
   "cell_type": "code",
   "execution_count": 4,
   "id": "1bcf37c8-aee0-47e2-8549-74c2e0a74b85",
   "metadata": {},
   "outputs": [
    {
     "name": "stdout",
     "output_type": "stream",
     "text": []
    }
   ],
   "source": [
    "import : dir co : up . : up : ."
   ]
  },
  {
   "cell_type": "code",
   "execution_count": 5,
   "id": "0e4689f6-a5fd-497e-a1e3-41f55cb15506",
   "metadata": {},
   "outputs": [
    {
     "name": "stdout",
     "output_type": "stream",
     "text": [
      "(equal ((Q:):(x:) (x:)):((Q:):(x:)))"
     ]
    }
   ],
   "source": [
    "semilattice : Q?"
   ]
  },
  {
   "cell_type": "code",
   "execution_count": 6,
   "id": "06c87658-6cb6-4feb-8548-a87adfda80ff",
   "metadata": {},
   "outputs": [
    {
     "name": "stdout",
     "output_type": "stream",
     "text": []
    }
   ],
   "source": [
    "Def Test : {put bin (get:B) : count : bool : theorem (semilattice:(get:B)) : A}\n",
    "Def TEST : {multi : ap {with:Test A:B} A : B} "
   ]
  },
  {
   "cell_type": "code",
   "execution_count": 7,
   "id": "84770bf3-4301-4781-adff-2c5554c71501",
   "metadata": {},
   "outputs": [
    {
     "name": "stdout",
     "output_type": "stream",
     "text": [
      "(with (def x:{A} a b):◎) (with (def x:{A} b):◎)"
     ]
    }
   ],
   "source": [
    "theorem (semilattice:pass) : (:a b) (:b)"
   ]
  },
  {
   "cell_type": "code",
   "execution_count": 8,
   "id": "266f2fac-148d-4cfa-b8c4-f9f135871b77",
   "metadata": {},
   "outputs": [
    {
     "name": "stdout",
     "output_type": "stream",
     "text": [
      "2\n",
      "0"
     ]
    }
   ],
   "source": [
    "count : theorem (semilattice:pass) : (:a) (:b)\n",
    "count : theorem (semilattice:first) : (:a) (:b)"
   ]
  },
  {
   "cell_type": "code",
   "execution_count": 9,
   "id": "894e81f0-3ea0-4c7c-b8b2-d9c552847cc9",
   "metadata": {},
   "outputs": [
    {
     "name": "stdout",
     "output_type": "stream",
     "text": [
      "(bin pass:1) (bin null:0) (bin first:0) (bin rev:1)"
     ]
    }
   ],
   "source": [
    "ap Test (:a b) (:b) : (:pass) (:null) (:first) (:rev)"
   ]
  },
  {
   "cell_type": "code",
   "execution_count": 10,
   "id": "eb1b0bf0-a8ea-497e-b7ab-11eca7720728",
   "metadata": {},
   "outputs": [
    {
     "name": "stdout",
     "output_type": "stream",
     "text": [
      "multi> Using 5 processors for 4 inputs\n",
      "multi> Collecting results\n"
     ]
    }
   ],
   "source": [
    "Let R0 : get with : TEST (:a) (:b) : (:arg) (:bin) (:pass) (:null)"
   ]
  },
  {
   "cell_type": "code",
   "execution_count": null,
   "id": "c109fa18-0ecc-4363-9e75-36778ae18b2e",
   "metadata": {},
   "outputs": [],
   "source": [
    "out C0-R0 3600 : get with : TEST (:a) (:b) : C0?:"
   ]
  },
  {
   "cell_type": "code",
   "execution_count": null,
   "id": "cebd727b-bc6b-4785-bbf7-77672837ff73",
   "metadata": {},
   "outputs": [],
   "source": [
    "stat : C0-R0"
   ]
  },
  {
   "cell_type": "code",
   "execution_count": null,
   "id": "aaa402c2-9111-4be5-983b-e56d8bf6f219",
   "metadata": {},
   "outputs": [],
   "source": [
    "S6?"
   ]
  },
  {
   "cell_type": "code",
   "execution_count": null,
   "id": "74d99b33-b219-4de9-ae6f-fe6c7c98542b",
   "metadata": {},
   "outputs": [],
   "source": [
    "out C0-S6 10000 : get with : TEST S6? : (C0?:) "
   ]
  },
  {
   "cell_type": "code",
   "execution_count": null,
   "id": "2275a1b5-cd96-4ce8-bee9-106918b8e0f6",
   "metadata": {},
   "outputs": [],
   "source": [
    "stat : C0-S6 "
   ]
  },
  {
   "cell_type": "code",
   "execution_count": null,
   "id": "82c393ed-78b6-423b-8b2b-e46a02fe4095",
   "metadata": {},
   "outputs": [],
   "source": []
  }
 ],
 "metadata": {
  "kernelspec": {
   "display_name": "coda",
   "language": "",
   "name": "coda"
  },
  "language_info": {
   "file_extension": ".co",
   "mimetype": "text/plain",
   "name": "Any text"
  }
 },
 "nbformat": 4,
 "nbformat_minor": 5
}
