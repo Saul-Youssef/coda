{
 "cells": [
  {
   "cell_type": "code",
   "execution_count": 1,
   "id": "e2fc0c42-4ff8-42bf-bcb9-a2c91631d344",
   "metadata": {},
   "outputs": [
    {
     "name": "stdout",
     "output_type": "stream",
     "text": []
    }
   ],
   "source": [
    "Def stick : ap {|}"
   ]
  },
  {
   "cell_type": "code",
   "execution_count": 2,
   "id": "e6f1ffac-4ef7-463b-98d3-0df0b56f928d",
   "metadata": {},
   "outputs": [
    {
     "name": "stdout",
     "output_type": "stream",
     "text": [
      "| | |\n",
      "| | |\n",
      "| | |"
     ]
    }
   ],
   "source": [
    "stick : a b c \n",
    "stick : (stick : a b ) ( stick : c ) \n",
    "stick : stick : a b c "
   ]
  },
  {
   "cell_type": "code",
   "execution_count": 3,
   "id": "6255ebdc-b6b9-4c42-9697-69178430a786",
   "metadata": {},
   "outputs": [
    {
     "name": "stdout",
     "output_type": "stream",
     "text": [
      "| |"
     ]
    }
   ],
   "source": [
    "front | | : | | | | | | | | | "
   ]
  },
  {
   "cell_type": "code",
   "execution_count": 4,
   "id": "e5358dfd-c080-4c83-ad90-1fbaa9cb77a4",
   "metadata": {},
   "outputs": [
    {
     "name": "stdout",
     "output_type": "stream",
     "text": [
      "back backstrip by common count dup ends first front frontstrip grp head item last nth nth1 once post pre rev starts swap tail"
     ]
    }
   ],
   "source": [
    "defs : Sequence"
   ]
  },
  {
   "cell_type": "code",
   "execution_count": 5,
   "id": "d1c6f587-f163-4d44-b2c4-bda515e8d1a9",
   "metadata": {},
   "outputs": [
    {
     "name": "stdout",
     "output_type": "stream",
     "text": [
      "| | |"
     ]
    }
   ],
   "source": [
    "starts | | : | | | "
   ]
  },
  {
   "cell_type": "code",
   "execution_count": 6,
   "id": "10406439-f4df-4f0a-bef9-624fb5b84847",
   "metadata": {},
   "outputs": [
    {
     "name": "stdout",
     "output_type": "stream",
     "text": [
      "c d"
     ]
    }
   ],
   "source": [
    "frontstrip a b : a b c d "
   ]
  },
  {
   "cell_type": "code",
   "execution_count": 7,
   "id": "5901d85e-b1d4-4bc7-9749-2f9415e371d8",
   "metadata": {},
   "outputs": [
    {
     "name": "stdout",
     "output_type": "stream",
     "text": [
      "a b"
     ]
    }
   ],
   "source": [
    "backstrip c d : a b c d "
   ]
  },
  {
   "cell_type": "code",
   "execution_count": 8,
   "id": "b8244ffd-7fdb-48c5-9da3-5729f2cf42c1",
   "metadata": {},
   "outputs": [
    {
     "name": "stdout",
     "output_type": "stream",
     "text": [
      "c d"
     ]
    }
   ],
   "source": [
    "while frontstrip a b : a b a b c d "
   ]
  },
  {
   "cell_type": "code",
   "execution_count": 9,
   "id": "138ecc41-c0b5-4544-b2a6-1a97750e5ffc",
   "metadata": {},
   "outputs": [
    {
     "name": "stdout",
     "output_type": "stream",
     "text": [
      "a a"
     ]
    }
   ],
   "source": [
    "while frontstrip a a a : a a a a a"
   ]
  },
  {
   "cell_type": "code",
   "execution_count": 10,
   "id": "86aa8114-0e44-461d-9715-7700bd56eb49",
   "metadata": {},
   "outputs": [
    {
     "name": "stdout",
     "output_type": "stream",
     "text": [
      "\u001b[;1mcode:\u001b[0m\n",
      "    \u001b[34;7mfrontstrip\u001b[0m\n",
      "\u001b[;1mmodule:\u001b[0m\n",
      "    Sequence\n",
      "\u001b[;1msummary:\u001b[0m\n",
      "    frontstrip, backstrip\n",
      "\u001b[;1mdescription:\u001b[0m\n",
      "\u001b[;1mpath:\u001b[0m\n",
      "    /Users/youssef/coda/py/Sequence.py\n",
      "\u001b[;1mdemos:\u001b[0m\n",
      "    1. \u001b[35;4mfrontstrip a b : a b c d\u001b[0m\n",
      "    2. \u001b[35;4mbackstrip c d : a b c d\u001b[0m\n",
      "    3. \u001b[35;4mfrontstrip a b : x y z\u001b[0m\n",
      "    4. \u001b[35;4mwhile frontstrip a b : a b a b x y\u001b[0m\n"
     ]
    }
   ],
   "source": [
    "help : frontstrip"
   ]
  },
  {
   "cell_type": "code",
   "execution_count": 14,
   "id": "4eda71d3-137c-4c3f-8119-aefb1d82c680",
   "metadata": {},
   "outputs": [
    {
     "name": "stdout",
     "output_type": "stream",
     "text": [
      "x y"
     ]
    }
   ],
   "source": [
    "ap demo frontstrip : 4"
   ]
  },
  {
   "cell_type": "code",
   "execution_count": 15,
   "id": "880751ad-98fa-40b0-b3f2-84e716539031",
   "metadata": {},
   "outputs": [
    {
     "name": "stdout",
     "output_type": "stream",
     "text": [
      "\u001b[;1mcode:\u001b[0m\n",
      "    \u001b[34;7mdup\u001b[0m\n",
      "\u001b[;1mmodule:\u001b[0m\n",
      "    Sequence\n",
      "\u001b[;1msummary:\u001b[0m\n",
      "    Input repetition\n",
      "\u001b[;1mdescription:\u001b[0m\n",
      "\u001b[;1mpath:\u001b[0m\n",
      "    /Users/youssef/coda/py/Sequence.py\n",
      "\u001b[;1mdemos:\u001b[0m\n",
      "    1. \u001b[35;4mdup | | | : x y\u001b[0m\n",
      "    2. \u001b[35;4mdup | | : x y\u001b[0m\n",
      "    3. \u001b[35;4mdup | : x y\u001b[0m\n",
      "    4. \u001b[35;4mdup : x y\u001b[0m\n"
     ]
    }
   ],
   "source": [
    "help : dup"
   ]
  },
  {
   "cell_type": "code",
   "execution_count": 16,
   "id": "1ff9f007-8611-426b-862d-0d7611bdf1bc",
   "metadata": {},
   "outputs": [
    {
     "name": "stdout",
     "output_type": "stream",
     "text": [
      "| | | | | |"
     ]
    }
   ],
   "source": [
    "dup | | : | | | "
   ]
  },
  {
   "cell_type": "code",
   "execution_count": 17,
   "id": "5f912873-7b3c-4cab-b5ed-6b31eaf20289",
   "metadata": {},
   "outputs": [
    {
     "name": "stdout",
     "output_type": "stream",
     "text": [
      "|"
     ]
    }
   ],
   "source": [
    "dup | : | "
   ]
  },
  {
   "cell_type": "code",
   "execution_count": null,
   "id": "9142e4da-412c-45e0-b9f5-55151f03dafc",
   "metadata": {},
   "outputs": [],
   "source": []
  }
 ],
 "metadata": {
  "kernelspec": {
   "display_name": "coda",
   "language": "",
   "name": "coda"
  },
  "language_info": {
   "file_extension": ".co",
   "mimetype": "text/plain",
   "name": "Any text"
  }
 },
 "nbformat": 4,
 "nbformat_minor": 5
}
