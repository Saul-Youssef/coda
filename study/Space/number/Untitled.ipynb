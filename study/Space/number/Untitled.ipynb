{
 "cells": [
  {
   "cell_type": "code",
   "execution_count": 1,
   "id": "b1a206eb-fe15-4157-9e54-7efec3c5c098",
   "metadata": {},
   "outputs": [
    {
     "name": "stdout",
     "output_type": "stream",
     "text": [
      "Morphism 1: {'a': 'a', 'b': 'b'}\n",
      "  Commutes with reduction: True\n",
      "  Is isomorphism: True\n",
      "  In centralizer: True\n",
      "\n",
      "Morphism 2: {'a': 'b', 'b': 'a'}\n",
      "  Commutes with reduction: True\n",
      "  Is isomorphism: True\n",
      "  In centralizer: True\n",
      "\n",
      "Morphism 3: {'a': 'aa', 'b': 'bb'}\n",
      "  Commutes with reduction: True\n",
      "  Is isomorphism: True\n",
      "  In centralizer: True\n",
      "\n",
      "Morphism 4: {'a': 'ab', 'b': 'ba'}\n",
      "  Commutes with reduction: True\n",
      "  Is isomorphism: True\n",
      "  In centralizer: True\n",
      "\n",
      "Morphism 5: {'a': '', 'b': ''}\n",
      "  Commutes with reduction: True\n",
      "  Is isomorphism: False\n",
      "  In centralizer: True\n",
      "\n"
     ]
    }
   ],
   "source": [
    "from explore import *"
   ]
  },
  {
   "cell_type": "code",
   "execution_count": null,
   "id": "8ec1b95f-630b-4eb8-b630-0fc395a763ee",
   "metadata": {},
   "outputs": [],
   "source": []
  }
 ],
 "metadata": {
  "kernelspec": {
   "display_name": "Python 3 (ipykernel)",
   "language": "python",
   "name": "python3"
  },
  "language_info": {
   "codemirror_mode": {
    "name": "ipython",
    "version": 3
   },
   "file_extension": ".py",
   "mimetype": "text/x-python",
   "name": "python",
   "nbconvert_exporter": "python",
   "pygments_lexer": "ipython3",
   "version": "3.11.1"
  }
 },
 "nbformat": 4,
 "nbformat_minor": 5
}
