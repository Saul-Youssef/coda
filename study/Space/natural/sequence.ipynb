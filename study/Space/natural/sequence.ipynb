{
 "cells": [
  {
   "cell_type": "code",
   "execution_count": 1,
   "id": "edc505d6-1cd5-4e23-85b1-788697f8c202",
   "metadata": {},
   "outputs": [
    {
     "name": "stdout",
     "output_type": "stream",
     "text": [
      "(defaultTime:5)"
     ]
    }
   ],
   "source": [
    "defaultTime:5"
   ]
  },
  {
   "cell_type": "code",
   "execution_count": 2,
   "id": "3e7a1725-7b0d-4e61-a664-34137495f1dc",
   "metadata": {},
   "outputs": [
    {
     "name": "stdout",
     "output_type": "stream",
     "text": []
    }
   ],
   "source": [
    "import : dir co : up : ."
   ]
  },
  {
   "cell_type": "code",
   "execution_count": 3,
   "id": "34144ee8-bdf8-467e-980f-0f9597366de7",
   "metadata": {},
   "outputs": [
    {
     "name": "stdout",
     "output_type": "stream",
     "text": []
    }
   ],
   "source": [
    "Def n:\n",
    "Def N: Seq n : ap const | "
   ]
  },
  {
   "cell_type": "code",
   "execution_count": null,
   "id": "1c78969d-7f87-44db-9de4-fa1f5623eaa0",
   "metadata": {},
   "outputs": [],
   "source": []
  },
  {
   "cell_type": "code",
   "execution_count": null,
   "id": "e662e411-937b-4b42-934b-e35a5dff5c14",
   "metadata": {},
   "outputs": [],
   "source": [
    "#\n",
    "#  N is a space, so the following should be the same \n",
    "#\n",
    "N : (n:| |) (n:| | |) (n:) (n:|) \n",
    "N : N : (n:| |) (n:| | |) (n:) (n:|)\n",
    "N : (N: (n:| |) (n:| | |) ) (N : (n:) (n:|)) "
   ]
  },
  {
   "cell_type": "code",
   "execution_count": null,
   "id": "24ac7025-8452-4781-a3fc-bdec1bc23391",
   "metadata": {},
   "outputs": [],
   "source": [
    "#\n",
    "#   A typical element of N is a sequence \n",
    "#   of \"stick\" values stored in n atoms. \n",
    "#\n",
    "Let T1 : (n:| |) (n:| | |) (n:) (n:|) "
   ]
  },
  {
   "cell_type": "code",
   "execution_count": null,
   "id": "e20c173d-eb5a-439b-a12b-87ba824e586a",
   "metadata": {
    "tags": []
   },
   "outputs": [],
   "source": [
    "#\n",
    "#   end N:F is an endomorphism of N for any data F\n",
    "#\n",
    "(end N:pass)  : T1?\n",
    "(end N:null)  : T1?\n",
    "(end N:{B B}) : T1?\n",
    "(end N:back | |) : T1?\n",
    "#\n",
    "#   inner endomorphisms are a special case \n",
    "#\n",
    "(in n:pass) : T1?\n",
    "(in n:null) : T1?\n",
    "(in n:{B B}) : T1?\n",
    "(in n:back | |) : T1?"
   ]
  },
  {
   "cell_type": "code",
   "execution_count": null,
   "id": "55f7c1b0-52f9-44d9-920d-187b284a41b9",
   "metadata": {},
   "outputs": [],
   "source": [
    "#\n",
    "#   Let's make two shortcuts \n",
    "#\n",
    "#   E:f is the endomorphism corresponding to data f \n",
    "#   e:f is the inner endomorphism corresponding to data f \n",
    "#\n",
    "Def E: {end N:B} \n",
    "Def e: {in n:B}"
   ]
  },
  {
   "cell_type": "code",
   "execution_count": null,
   "id": "0e75a8ac-c422-4253-b969-763d754edde8",
   "metadata": {},
   "outputs": [],
   "source": [
    "(E:pass) : T1?\n",
    "(E:null) : T1?\n",
    "(E:{B B}): T1?\n",
    "(E:back | |) : T1?\n",
    "(e:pass) : T1?\n",
    "(e:null) : T1?\n",
    "(e:{B B}): T1?\n",
    "(e:back | |) : T1?"
   ]
  },
  {
   "cell_type": "code",
   "execution_count": null,
   "id": "f3e106d8-100a-43b4-8f67-4b489d676408",
   "metadata": {
    "tags": []
   },
   "outputs": [],
   "source": [
    "series (E:pass) : T1?\n",
    "series (E:((e:pass)*back | |)) : (n:|) (n:| |) "
   ]
  },
  {
   "cell_type": "code",
   "execution_count": null,
   "id": "a9548a02-483b-40a8-8101-454d2cc3c6bc",
   "metadata": {
    "jupyter": {
     "source_hidden": true
    },
    "tags": []
   },
   "outputs": [],
   "source": [
    "Def Fib : series (E:((e:pass)*back | |)) \n",
    "Fib : (n:|) (n:|)\n",
    "Fib : Fib : (n:|) (n:|) \n",
    "Fib : Fib : Fib : (n:|) (n:|) \n",
    "Fib : Fib : Fib : Fib : (n:|) (n:|) "
   ]
  },
  {
   "cell_type": "code",
   "execution_count": null,
   "id": "2f044b51-88d0-4224-8c56-05d4ec451094",
   "metadata": {
    "jupyter": {
     "source_hidden": true
    },
    "tags": []
   },
   "outputs": [],
   "source": [
    "(pow | | | | : Fib) : (n:|) (n:|) "
   ]
  },
  {
   "cell_type": "code",
   "execution_count": null,
   "id": "28db2374-58ef-4601-a6c1-692dc1eddd74",
   "metadata": {
    "jupyter": {
     "source_hidden": true
    },
    "tags": []
   },
   "outputs": [],
   "source": [
    "#\n",
    "#   We can get the minimum and maximum from a sequence \n",
    "#\n",
    "Def min : {put n : less (get n:A) : (get n:B)} \n",
    "Def max : {put n : more (get n:A) : (get n:B)}\n",
    "Def MIN : (E:aj min)\n",
    "Def MAX : (E:aj max)\n",
    "MIN : T1? \n",
    "MAX : T1?"
   ]
  },
  {
   "cell_type": "code",
   "execution_count": null,
   "id": "94f995cc-9867-4207-bef0-4c5766f030f5",
   "metadata": {
    "jupyter": {
     "source_hidden": true
    },
    "tags": []
   },
   "outputs": [],
   "source": [
    "MIN : T1? \n",
    "MAX : T1?"
   ]
  },
  {
   "cell_type": "code",
   "execution_count": null,
   "id": "de5f2525-5599-450e-b891-928dbacadde1",
   "metadata": {},
   "outputs": [],
   "source": [
    "Def mod : {while frontstrip A:B} \n",
    "Def mul : {dup A : B} "
   ]
  },
  {
   "cell_type": "code",
   "execution_count": null,
   "id": "e22e1174-3256-42ec-aba4-0af8e0612062",
   "metadata": {},
   "outputs": [],
   "source": [
    "ap {post <\\n> : (get:B):T1?} : endos?"
   ]
  },
  {
   "cell_type": "code",
   "execution_count": null,
   "id": "2615b1df-dc52-4a47-939f-95dc88dd6d7a",
   "metadata": {},
   "outputs": [],
   "source": [
    "#\n",
    "#   To show something a little more complicated, let's construct the \n",
    "#   product of N data treating each data as a polynomial \n",
    "#\n",
    "help : prepoly "
   ]
  },
  {
   "cell_type": "code",
   "execution_count": null,
   "id": "5fa9f806-422a-4a68-8615-0093e71e88b1",
   "metadata": {},
   "outputs": [],
   "source": [
    "prepoly a b c : x y z "
   ]
  },
  {
   "cell_type": "code",
   "execution_count": null,
   "id": "edce9982-4334-4350-83d1-027c73cd52e0",
   "metadata": {},
   "outputs": [],
   "source": [
    "prepoly (n:|) (n:| |) : (n:| |) (n:) (n:|) "
   ]
  },
  {
   "cell_type": "code",
   "execution_count": null,
   "id": "0bff2c8a-61f4-48cc-9918-cd80a3c055cf",
   "metadata": {},
   "outputs": [],
   "source": [
    "{dup (get n:A) : (get n:B)} (n:| |) : (n:| | |)"
   ]
  },
  {
   "cell_type": "code",
   "execution_count": null,
   "id": "82d279dc-08a8-49b5-9637-de866918ff78",
   "metadata": {},
   "outputs": [],
   "source": [
    "Def _product : {put n : dup (get n:front |:B) : (get n:tail |:B)}"
   ]
  },
  {
   "cell_type": "code",
   "execution_count": null,
   "id": "e0707c9e-72b8-47f2-9f31-2e97cefc7e36",
   "metadata": {},
   "outputs": [],
   "source": [
    "_product : (n:| |) (n:| | |)"
   ]
  },
  {
   "cell_type": "code",
   "execution_count": null,
   "id": "c4870974-0569-4c1f-a15b-6373fd2fcb06",
   "metadata": {},
   "outputs": [],
   "source": [
    "prepoly (n:|) (n:| |) : (n:| |) (n:) (n:| |)"
   ]
  },
  {
   "cell_type": "code",
   "execution_count": null,
   "id": "aeded6ce-4dce-4077-941c-d3814a7689e8",
   "metadata": {},
   "outputs": [],
   "source": [
    "Let T2 : (n:) (n:|)"
   ]
  },
  {
   "cell_type": "code",
   "execution_count": null,
   "id": "916fd4c7-1d8b-4686-bea1-aa3e5418c665",
   "metadata": {},
   "outputs": [],
   "source": [
    "prepoly T2? : T1?"
   ]
  },
  {
   "cell_type": "code",
   "execution_count": null,
   "id": "c4bd5434-d33f-4385-9c28-e8f8f0542e39",
   "metadata": {},
   "outputs": [],
   "source": [
    "ap {(left:B) : (_product:right:B)} : prepoly T2? : T1? "
   ]
  },
  {
   "cell_type": "code",
   "execution_count": null,
   "id": "9463b99c-a3d0-4212-83d5-721508a5f907",
   "metadata": {},
   "outputs": [],
   "source": [
    "sameleft : ap {(left:B) : (_product:right:B)} : prepoly T2? : T1? "
   ]
  },
  {
   "cell_type": "code",
   "execution_count": null,
   "id": "02dbd6ab-a2df-4377-866d-a00e2a9a0068",
   "metadata": {},
   "outputs": [],
   "source": [
    "ap {(e:pass):right:B} : sameleft : ap {(left:B) : (_product:right:B)} : prepoly T2? : T1? "
   ]
  },
  {
   "cell_type": "code",
   "execution_count": null,
   "id": "492e7c6f-3373-410e-8a60-b792f1766f2e",
   "metadata": {},
   "outputs": [],
   "source": [
    "Def poly : {ap {(e:pass):right:B} : sameleft : ap {(left:B) : (_product:right:B)} : prepoly A : B} "
   ]
  },
  {
   "cell_type": "code",
   "execution_count": null,
   "id": "7141a36b-26ec-4750-82eb-7f09fc0fbff6",
   "metadata": {},
   "outputs": [],
   "source": [
    "poly T2? : T1?"
   ]
  },
  {
   "cell_type": "code",
   "execution_count": null,
   "id": "4d2bb09e-05a7-4852-91ad-eca759fd47ab",
   "metadata": {},
   "outputs": [],
   "source": [
    "T2?"
   ]
  },
  {
   "cell_type": "code",
   "execution_count": null,
   "id": "b1ca8250-fcba-4432-8587-63a96992386e",
   "metadata": {},
   "outputs": [],
   "source": [
    "#\n",
    "#   Finally, poly is the polynomial product \n",
    "#\n",
    "#   2x * (1 + 2x^2) = 2x + 4x^3 = 0x^0 + 2x^1 + 0x^2 + 4x^3\n",
    "#\n",
    "poly (n:) (n:| |) : (n:|) (n:) (n:| |)"
   ]
  },
  {
   "cell_type": "code",
   "execution_count": null,
   "id": "7aafc0ca-1d6c-4ba7-b28f-2bbb74ebfb0a",
   "metadata": {},
   "outputs": [],
   "source": [
    "count : idempotent DOUBLE : put : T1?\n",
    "count : idempotent ID : put : T1?\n",
    "count : idempotent MAX : put : T1?"
   ]
  },
  {
   "cell_type": "code",
   "execution_count": null,
   "id": "4e5f69bc-ba7d-48ef-85cb-be71b7317864",
   "metadata": {},
   "outputs": [],
   "source": [
    "#\n",
    "#   Let's fix multiplying by some fixed polynomial and add that to our \n",
    "#   collection of endomorphisms \n",
    "#\n",
    "Def POLY : (E:poly (n:) (n:| |)) \n",
    "\n",
    "Def MUL2 : (E:ap (e:mul | |))\n",
    "Def MOD2 : (E:ap (e:mod | |)) \n",
    "Def ID : (E:pass) \n",
    "Def SUM : (e:pass) \n",
    "Def DOUBLE : (e:{B B}) \n",
    "Def FIB : (E:((e:pass)*back | |))\n",
    "Def ONCE : (E:once)\n",
    "Def REV : (E:rev) \n",
    "\n",
    "Let endos : ap : ID SUM DOUBLE FIB MUL2 MOD2 MAX MIN ONCE REV \n",
    "#\n",
    "#   Sample is a sample of N data for testing \n",
    "#\n",
    "Let S : (n:) (n:|) (n:| |) \n",
    "Let Sample : aq permutation 0 1 2 : S?  \n",
    "count : Sample?\n",
    "Sample?"
   ]
  },
  {
   "cell_type": "code",
   "execution_count": null,
   "id": "2cd84054-8244-4a1f-9bc2-09fd99c792ea",
   "metadata": {},
   "outputs": [],
   "source": [
    "tab : first 20  : permutation 2 : aq permutation 0 1 2 : S?"
   ]
  },
  {
   "cell_type": "code",
   "execution_count": null,
   "id": "fd576670-cfd6-434c-ae25-7ed73e0f6877",
   "metadata": {},
   "outputs": [],
   "source": [
    "defaultTime:100"
   ]
  },
  {
   "cell_type": "code",
   "execution_count": null,
   "id": "682e8f10-c93d-43ce-89d2-5d7868c223e9",
   "metadata": {},
   "outputs": [],
   "source": [
    "dom 100 : ap {with (get:B) : bool : idempotent (get:B) : Sample?} : endos?"
   ]
  },
  {
   "cell_type": "code",
   "execution_count": null,
   "id": "898f6844-0a52-46cc-a823-71082c793eba",
   "metadata": {},
   "outputs": [],
   "source": [
    "FIB : (n:|) (n:|)\n",
    "FIB : FIB : (n:|) (n:|)"
   ]
  },
  {
   "cell_type": "code",
   "execution_count": null,
   "id": "8aa5c062-ee23-4557-9c30-7b725914888a",
   "metadata": {},
   "outputs": [],
   "source": [
    "dom 100 : ap {with (get:B) : bool : involution (get:B) : Sample?} : endos?"
   ]
  },
  {
   "cell_type": "code",
   "execution_count": null,
   "id": "03c75ece-9e54-482e-8c8f-9650a08d0236",
   "metadata": {},
   "outputs": [],
   "source": [
    "defaultTime:600"
   ]
  },
  {
   "cell_type": "code",
   "execution_count": null,
   "id": "138bc01e-1f29-4b68-8cc9-06f9abb0d404",
   "metadata": {
    "tags": []
   },
   "outputs": [],
   "source": [
    "dom 600 : ap {with (get:B) : bool : ap preSpace (get:B) : permutation 2 : Sample?} : ap put : ID SUM MAX MIN ONCE "
   ]
  },
  {
   "cell_type": "code",
   "execution_count": null,
   "id": "99590b13-adb0-40a6-b748-aa4ed9df1697",
   "metadata": {
    "tags": []
   },
   "outputs": [],
   "source": [
    "tab : dom 200 : ap {with (get:B) : bool : commutator (get:B) : Sample?} : combination 2 : endos?"
   ]
  },
  {
   "cell_type": "markdown",
   "id": "45242c69-e805-44e6-8646-6397b67c1ff2",
   "metadata": {},
   "source": [
    "* Endomorphisms: ID, SUM, DOUBLE, FIB, MUL2, MOD2, MAX, MIN, ONCE, REV\n",
    "* Involutions: ID, REV\n",
    "* Spaces: ID, SUM, MAX, MIN, ONCE \n",
    "* Algebraic Spaces: ID, SUM, MAX, MIN, ONCE \n",
    "\n",
    "* Commutativity:\n",
    "\n",
    "|        |    ID |  SUM  | DOUBLE | FIB    | MUL2   |  MOD2  |  MAX   |    MIN   |  ONCE  |  REV  | \n",
    "|-------:|:-----:|:-----:|:------:|:------:|:------:|:------:|:------:|:--------:|:------:|:------:\n",
    "|   ID   |   -   |   -   |   -    |   -    |   -    |   -    |   -    |    -     |    -   |   -   |\n",
    "|   SUM  |       |   -   |   X    |   -    |   -    |   X    |   X    |    X     |    X   |   -   |\n",
    "| DOUBLE |       |       |   -    |   X    |   -    |   -    |   X    |    X     |    X   |   -   |\n",
    "|  FIB   |       |       |        |   -    |   -    |   X    |   X    |    X     |    X   |   -   |\n",
    "|  MUL2  |       |       |        |        |   -    |   X    |   -    |    -     |    -   |   -   |\n",
    "|  MOD2  |       |       |        |        |        |   -    |   X    |    X     |    X   |   -   |\n",
    "|  MAX   |       |       |        |        |        |        |   -    |    X     |    -   |   -   |\n",
    "|  MIN   |       |       |        |        |        |        |        |    -     |    -   |   -   |\n",
    "|  ONCE  |       |       |        |        |        |        |        |          |    -   |   -   |\n",
    "|  REV   |       |       |        |        |        |        |        |          |        |   -   |\n"
   ]
  },
  {
   "cell_type": "code",
   "execution_count": null,
   "id": "24592a23-f0fc-4207-a5ae-22ab959b91da",
   "metadata": {},
   "outputs": [],
   "source": [
    "SUM :DOUBLE : (n:|) (n:| |)"
   ]
  },
  {
   "cell_type": "code",
   "execution_count": null,
   "id": "82fcb673-f00c-4f5e-9b4e-7cf76bf6c991",
   "metadata": {},
   "outputs": [],
   "source": [
    "DOUBLE: SUM : "
   ]
  }
 ],
 "metadata": {
  "kernelspec": {
   "display_name": "coda",
   "language": "",
   "name": "coda"
  },
  "language_info": {
   "file_extension": ".co",
   "mimetype": "text/plain",
   "name": "Any text"
  }
 },
 "nbformat": 4,
 "nbformat_minor": 5
}
