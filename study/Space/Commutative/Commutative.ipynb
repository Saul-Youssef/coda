{
 "cells": [
  {
   "cell_type": "code",
   "execution_count": 1,
   "id": "42f50922-f63d-4500-ad5d-eddce50f9a40",
   "metadata": {},
   "outputs": [
    {
     "name": "stdout",
     "output_type": "stream",
     "text": []
    }
   ],
   "source": [
    "import : dir co : up : ."
   ]
  },
  {
   "cell_type": "code",
   "execution_count": 2,
   "id": "bb858da6-18fd-4b04-a93e-b944167e544a",
   "metadata": {},
   "outputs": [
    {
     "name": "stdout",
     "output_type": "stream",
     "text": [
      "2\n",
      "4"
     ]
    }
   ],
   "source": [
    "count : theorem (commutative:ap pass) : (:a b) (:a a)\n",
    "count : theorem (commutative2:rev) : (:a b) (:a a)"
   ]
  },
  {
   "cell_type": "code",
   "execution_count": 3,
   "id": "c264b8d6-da67-4760-8931-2119e76ab2f5",
   "metadata": {},
   "outputs": [
    {
     "name": "stdout",
     "output_type": "stream",
     "text": [
      "(with:(bin ap pass:2)) (with:(bin rev:2))"
     ]
    }
   ],
   "source": [
    "ap {eval 100 : with : (bin (get:B) : count : theorem (commutative:get:B) : A)} (:a b) (:a a) : (:ap pass) (:rev) "
   ]
  },
  {
   "cell_type": "code",
   "execution_count": 4,
   "id": "7fe4e7a4-a405-4f9a-875a-b807b41540fb",
   "metadata": {},
   "outputs": [
    {
     "name": "stdout",
     "output_type": "stream",
     "text": []
    }
   ],
   "source": [
    "Def Test1 : ap {eval 100 : with : (bin (get:B) : count : theorem (commutative:get:B) : A)}"
   ]
  },
  {
   "cell_type": "code",
   "execution_count": 5,
   "id": "1c77a757-748a-41e3-81c1-8fc50c3d481a",
   "metadata": {},
   "outputs": [
    {
     "name": "stdout",
     "output_type": "stream",
     "text": []
    }
   ],
   "source": [
    "Def Test2 : ap {eval 100 : with : (bin (get:B) : count : theorem (commutative2:get:B) : A)}"
   ]
  },
  {
   "cell_type": "code",
   "execution_count": 6,
   "id": "9ed3cadd-0bc4-48de-9a96-12b02200105f",
   "metadata": {},
   "outputs": [
    {
     "name": "stdout",
     "output_type": "stream",
     "text": [
      "(with:(bin ap pass:4)) (with:(bin rev:4))"
     ]
    }
   ],
   "source": [
    "Test2 (:a b) (:a a) : (:ap pass) (:rev) "
   ]
  },
  {
   "cell_type": "code",
   "execution_count": 8,
   "id": "4b5195b4-883f-4ebe-bcc4-32d11566f287",
   "metadata": {},
   "outputs": [
    {
     "name": "stdout",
     "output_type": "stream",
     "text": [
      "(:a b) (:a a) ◎ (:0 1)"
     ]
    }
   ],
   "source": [
    "S0?"
   ]
  },
  {
   "cell_type": "code",
   "execution_count": 11,
   "id": "68f300ae-2be0-45fe-8007-e89ab070e851",
   "metadata": {},
   "outputs": [
    {
     "name": "stdout",
     "output_type": "stream",
     "text": [
      "(:arg) (:bin) (:by) (:co) (:code_sort) (:collect) (:count) (:domain) (:equiv) (:first) (:float_div) (:float_inv) (:float_max) (:float_min) (:float_prod) (:float_sort) (:float_sum) (:floats) (:get) (:has) (:hasnt) (:if) (:int_div) (:int_inv) (:int_max) (:int_min) (:int_prod) (:int_sort) (:int_sum) (:ints) (:is) (:isnt) (:last) (:left) (:nat) (:nats) (:nif) (:nth) (:nth1) (:null) (:once) (:pass) (:plus) (:post) (:pre) (:prod) (:put) (:rep) (:rev) (:right) (:skip) (:star) (:sum) (:tail)"
     ]
    }
   ],
   "source": [
    "T0?"
   ]
  },
  {
   "cell_type": "code",
   "execution_count": 12,
   "id": "108b413b-5d78-4eb6-b068-014c3c408bd8",
   "metadata": {},
   "outputs": [
    {
     "name": "stdout",
     "output_type": "stream",
     "text": []
    }
   ],
   "source": [
    "Let R0 : Test2 S0? : T0?"
   ]
  },
  {
   "cell_type": "code",
   "execution_count": 14,
   "id": "1ce263c1-0d98-4eec-add3-4a4d0613f1c4",
   "metadata": {
    "tags": []
   },
   "outputs": [
    {
     "name": "stdout",
     "output_type": "stream",
     "text": []
    }
   ],
   "source": [
    "out R0 : R0?"
   ]
  },
  {
   "cell_type": "code",
   "execution_count": null,
   "id": "2d985e01-0dcc-4882-867c-1a749b407505",
   "metadata": {},
   "outputs": [],
   "source": [
    "Let R1 : Test2 S0? : T1? "
   ]
  },
  {
   "cell_type": "code",
   "execution_count": null,
   "id": "efc994e2-890f-4fc0-948d-35e884b3d246",
   "metadata": {},
   "outputs": [],
   "source": [
    "out R1 : "
   ]
  },
  {
   "cell_type": "code",
   "execution_count": 16,
   "id": "627e2d26-0c46-44f1-9ac9-d51a93c634c8",
   "metadata": {},
   "outputs": [
    {
     "name": "stdout",
     "output_type": "stream",
     "text": [
      "75"
     ]
    }
   ],
   "source": [
    "count : T1?"
   ]
  },
  {
   "cell_type": "code",
   "execution_count": 17,
   "id": "af5c50e6-fb43-417d-ad1c-4f5ae7c44a43",
   "metadata": {},
   "outputs": [
    {
     "name": "stdout",
     "output_type": "stream",
     "text": [
      "6056"
     ]
    }
   ],
   "source": [
    "count : T2?"
   ]
  },
  {
   "cell_type": "code",
   "execution_count": 28,
   "id": "07332f56-3636-4b3e-86b0-9eb97090e52a",
   "metadata": {},
   "outputs": [
    {
     "name": "stdout",
     "output_type": "stream",
     "text": [
      "(:=) (:and) (:ap) (:aq) (:ar) (:arg) (:as) (:bin) (:bool) (:by)"
     ]
    }
   ],
   "source": [
    "first 10 : T1? "
   ]
  },
  {
   "cell_type": "code",
   "execution_count": 26,
   "id": "c4555643-c273-4c91-9671-9e9c6fd8d2b5",
   "metadata": {},
   "outputs": [
    {
     "name": "stdout",
     "output_type": "stream",
     "text": [
      "5598"
     ]
    }
   ],
   "source": [
    "count : sample.data <A> <B> <{$}> 1 a b (defs:Basic) : 2 2"
   ]
  },
  {
   "cell_type": "code",
   "execution_count": 27,
   "id": "955568b5-1be4-44f0-a372-246f40d96444",
   "metadata": {},
   "outputs": [
    {
     "name": "stdout",
     "output_type": "stream",
     "text": [
      "arg bin co domain get has hasnt if is isnt left nif null pass plus prod put right star sum"
     ]
    }
   ],
   "source": [
    "defs:Basic"
   ]
  },
  {
   "cell_type": "code",
   "execution_count": null,
   "id": "9e7c6f1e-9770-4c05-a2af-2622cf2941d5",
   "metadata": {},
   "outputs": [],
   "source": []
  }
 ],
 "metadata": {
  "kernelspec": {
   "display_name": "coda",
   "language": "",
   "name": "coda"
  },
  "language_info": {
   "file_extension": ".co",
   "mimetype": "text/plain",
   "name": "Any text"
  }
 },
 "nbformat": 4,
 "nbformat_minor": 5
}
