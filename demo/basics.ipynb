{
 "cells": [
  {
   "cell_type": "markdown",
   "id": "143da33d-c873-447e-bd6e-668e4ccf6711",
   "metadata": {
    "tags": []
   },
   "source": [
    "### Overview \n",
    "\n",
    "In this system, data is defined together with a dual concept called a \"coda.\"  \n",
    "\n",
    "* A **data** is a finite sequence of **codas**.\n",
    "* A **coda** is a pair of **data**.\n",
    "\n",
    "Given this concept of data, meaning enters by introducting \"definitions.\"\n",
    "\n",
    "* A **definition** is a partial function from coda to data. \n",
    "* A **context** is a finite collection of definitions with disjoint domains. \n",
    "\n",
    "The coda concept provides a way of defining the domain of a definition when it is introduced.  By convention a \n",
    "coda (A:B) is in the domain of f depending on the first item (if any) of the data A.  For example, the coda \n",
    "\n",
    "* rev : a b c \n",
    "\n",
    "has a definition `rev` associated with it which maps `rev : a b c` to `c b a`.  If the definition associated \n",
    "with a coda is an identity partial function, then the coda is called an **atom**.  For example, the 0 and 1 bits \n",
    "are represented as (:) and (:(:)) and both are atoms because there is an identity definition mapping any coda \n",
    "(:B) to (:B).  \n",
    "\n",
    "Given a definition f from coda to data, we can extend this to a function from data to data by defining \n",
    "\n",
    "* f(c1 c2 c3...cn) = f(c1)+f(c2)+f(c3)+...+f(cn) \n",
    "\n",
    "where c1...cn are codas, + is concatenation of data as sequences and where f(c) is taken to be the identity if c is not in the domain of f.  If we extend all definitions f like that, then, for data A and B, the relations \n",
    "\n",
    "* A B = f(A) B = A f(B)\n",
    "\n",
    "define a sequence-compatible equivalence relation on all data.  \n",
    "\n",
    "| Example Data  |  Domain  |  Meaning  |  Partial function |  \n",
    "|------:|:-------|:-------------|----------:|\n",
    "|  &#x2205;  |   &#x2205;    |   empty data   | atom |\n",
    "|  𝟬  |  &#x2205; | 0 bit | atom | \n",
    "|  𝟭  | &#x2205;  | 1 bit | atom | \n",
    "|  hello | 𝟬 | byte string | atom | \n",
    "| {rev : 1 2 3} | { | language source | compiler |\n",
    "| rev : 1 2 3 | rev | reverse operator | reverse order | \n",
    "| first 2 : a b c | first | first two items | get first two | \n",
    "| nat : 0 | nat | the natural numbers | (nat:n) -> n (nat:n+1) |\n",
    "\n",
    "A base set of definitions for simple operations like `rev`, `first` and `nat` are defined in Python source code.  These include functions which define the `{` type, creating a natural internal language which let's you use the built-in definitions and let's you add new definitions.\n",
    "\n",
    "Demos:\n",
    "1. Introduction: Data, Definition, Context and Type \n",
    "2. Using the language \n",
    "3. Python layer\n",
    "\n",
    "In practice, one rarely if ever needs to write new Python code to use the system.  Here, we show how to use the Python code in case that is needed. "
   ]
  },
  {
   "cell_type": "code",
   "execution_count": 1,
   "id": "c72baf28-e5f2-4ae0-bdb5-54483aeaf5d4",
   "metadata": {},
   "outputs": [
    {
     "data": {
      "text/plain": [
       "[, (:nat), (:one), (:int1), (:nat1), (:float1), (:int_add), (:pass), (:null), (:first), (:rev), {, (:ap), (:app), (:help), (:defs)]"
      ]
     },
     "execution_count": 1,
     "metadata": {},
     "output_type": "execute_result"
    }
   ],
   "source": [
    "from base import *\n",
    "CONTEXT"
   ]
  },
  {
   "cell_type": "code",
   "execution_count": 2,
   "id": "00ff9508-1426-431f-a025-ed7b8fc66955",
   "metadata": {},
   "outputs": [
    {
     "name": "stdout",
     "output_type": "stream",
     "text": [
      "(:a)(:b)(:c)\n",
      "<class 'base.coda'> ((:first):(:a)(:b)(:c))\n"
     ]
    },
    {
     "data": {
      "text/plain": [
       "True"
      ]
     },
     "execution_count": 2,
     "metadata": {},
     "output_type": "execute_result"
    }
   ],
   "source": [
    "abc = data(co('a'),co('b'),co('c'))\n",
    "print(abc)\n",
    "\n",
    "C = da('first')|abc\n",
    "\n",
    "print(type(C),C)\n",
    "\n",
    "D = data(C)\n",
    "\n",
    "C in CONTEXT"
   ]
  },
  {
   "cell_type": "code",
   "execution_count": 3,
   "id": "2bca3795-3808-47c4-995b-00a6659be55f",
   "metadata": {},
   "outputs": [
    {
     "data": {
      "text/plain": [
       "[, (:nat), (:one), (:int1), (:nat1), (:float1), (:int_add), (:pass), (:null), (:first), (:rev), {, (:ap), (:app), (:help), (:defs)]"
      ]
     },
     "execution_count": 3,
     "metadata": {},
     "output_type": "execute_result"
    }
   ],
   "source": [
    "CONTEXT"
   ]
  },
  {
   "cell_type": "code",
   "execution_count": 4,
   "id": "a65f175b-d5ff-4c2b-8bfc-e9c789c61f35",
   "metadata": {},
   "outputs": [
    {
     "name": "stdout",
     "output_type": "stream",
     "text": [
      " <base.DEF object at 0x10e4e9120>\n",
      "nat <base.DEF object at 0x10e4fa680>\n",
      "one <base.DEF object at 0x10e4fac20>\n",
      "int1 <base.DEF object at 0x10e4fb2e0>\n",
      "nat1 <base.DEF object at 0x10e4fb9a0>\n",
      "float1 <base.DEF object at 0x10e5042e0>\n",
      "int_add <base.DEF object at 0x10e504d60>\n",
      "pass <base.DEF object at 0x10e505300>\n",
      "null <base.DEF object at 0x10e505990>\n",
      "first <base.DEF object at 0x10e506170>\n",
      "rev <base.DEF object at 0x10e5066e0>\n",
      "{ <base.DEF object at 0x10e5069b0>\n",
      "ap <base.DEF object at 0x10e3fc7c0>\n",
      "app <base.DEF object at 0x10e3fdd80>\n",
      "help <base.DEF object at 0x10e528790>\n",
      "defs <base.DEF object at 0x10e544640>\n"
     ]
    }
   ],
   "source": [
    "import Code \n",
    "for domain,definitions in CONTEXT: print(Code.pretty(domain),definitions)"
   ]
  },
  {
   "cell_type": "code",
   "execution_count": 5,
   "id": "3f818e37-cb9b-4a3f-9357-cf73b973c8ee",
   "metadata": {},
   "outputs": [
    {
     "data": {
      "text/plain": [
       "'defs'"
      ]
     },
     "execution_count": 5,
     "metadata": {},
     "output_type": "execute_result"
    }
   ],
   "source": [
    "Code.pretty(domain)"
   ]
  },
  {
   "cell_type": "code",
   "execution_count": null,
   "id": "d70ed2d7-8284-483b-a3f7-4c7116075f71",
   "metadata": {},
   "outputs": [],
   "source": []
  }
 ],
 "metadata": {
  "kernelspec": {
   "display_name": "Python 3 (ipykernel)",
   "language": "python",
   "name": "python3"
  },
  "language_info": {
   "codemirror_mode": {
    "name": "ipython",
    "version": 3
   },
   "file_extension": ".py",
   "mimetype": "text/x-python",
   "name": "python",
   "nbconvert_exporter": "python",
   "pygments_lexer": "ipython3",
   "version": "3.10.7"
  }
 },
 "nbformat": 4,
 "nbformat_minor": 5
}
