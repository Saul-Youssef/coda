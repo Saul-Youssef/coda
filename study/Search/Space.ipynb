{
 "cells": [
  {
   "cell_type": "markdown",
   "id": "6e362ba0-41fd-4632-9a20-eaff991a269a",
   "metadata": {},
   "source": [
    "## Spaces \n",
    "\n",
    "Data A is a **space** if \n",
    "\n",
    "* A X : Y Z = A : (A X : Y) (A X : Z)\n",
    "* A X Y : Z = A X : A Y : Z \n",
    "\n",
    "for all data X, Y and Z.  A space A is **simple** if A X : Y = A : Y, so \n",
    "\n",
    "* A : Y Z = A : (A : Y) (A : Z)\n",
    "* A : Y = A : A : Y \n",
    "\n",
    "for all Y, Z.  "
   ]
  },
  {
   "cell_type": "code",
   "execution_count": 1,
   "id": "fb66dadc-e33e-4701-a732-8112b132c026",
   "metadata": {},
   "outputs": [
    {
     "name": "stdout",
     "output_type": "stream",
     "text": []
    }
   ],
   "source": [
    "#\n",
    "#   Prepare some samples for testing purposes \n",
    "#   \n",
    "#   S1: hydrogen atoms\n",
    "#   S2: more general atoms mix \n",
    "#   S3: pure data mix\n",
    "#   CAN: Candidate spaces \n",
    "#\n",
    "Let S1 : sample.atom : 2\n",
    "Let S2 : permutation 2 : a b 0 1 \n",
    "Let S3 : sample.pure : 2 2 \n",
    "Let CAN : sample.data <A> <B> <{$}> (defs:Basic Apply Sequence Collect Logic) a b (:) : 2"
   ]
  },
  {
   "cell_type": "code",
   "execution_count": 2,
   "id": "8fbb8874-ca53-47af-a3e0-86cfc46a04c2",
   "metadata": {},
   "outputs": [
    {
     "name": "stdout",
     "output_type": "stream",
     "text": []
    }
   ],
   "source": [
    "Def dist : { (B x? : y? z?) = ( B : (B x?:y?) (B x?:z?)) } \n",
    "Def dist_s  : { (B : y? z?) = (B : (B : y?) ( B : z?) ) }\n",
    "Def idemp  : { (B x? y? : z?) = (B x? : B y? : z? ) } \n",
    "Def idemp_s : { (B : B x? : y?) = (B x? : B : y?) } \n",
    "Def idempotent : { (B:B:x?)=(B:x?) } \n",
    "Def simple: {(dist_s:B) (idemp_0:B)}\n",
    "Def space : {(dist:B) (idemp:B)} "
   ]
  },
  {
   "cell_type": "markdown",
   "id": "2060a90e-1f6e-4282-8fe8-c53ea3e1be27",
   "metadata": {},
   "source": [
    "Since every space is idempotent, we can start by finding all of the idempotent candidates."
   ]
  },
  {
   "cell_type": "code",
   "execution_count": 3,
   "id": "b5723e57-9b2d-4997-a336-3ea8d610d673",
   "metadata": {},
   "outputs": [
    {
     "name": "stdout",
     "output_type": "stream",
     "text": [
      "(with (def x:{A}):(= (first 1:(first 1:(x:))):(first 1:(x:)))) (with (def x:{A} ◎):(= (first 1:(first 1:(x:))):(first 1:(x:))))"
     ]
    }
   ],
   "source": [
    "cases (idempotent : first) : S1?"
   ]
  },
  {
   "cell_type": "code",
   "execution_count": 15,
   "id": "7a3a34d7-34c6-4a79-8ee5-dcf5a31c0bea",
   "metadata": {},
   "outputs": [
    {
     "name": "stdout",
     "output_type": "stream",
     "text": [
      "(bin first:)"
     ]
    }
   ],
   "source": [
    "put bin first : get with : eval : cases (idempotent : first) : S1?"
   ]
  },
  {
   "cell_type": "code",
   "execution_count": 16,
   "id": "c972686b-1401-4da2-8d78-c990fc51b57c",
   "metadata": {},
   "outputs": [
    {
     "name": "stdout",
     "output_type": "stream",
     "text": [
      "(use1 Test1:(def Test1:{put bin B : int_sum : get with : eval 500 : cases (idempotent : B) : A}))"
     ]
    }
   ],
   "source": [
    "Def Test1 : {put bin B : int_sum : get with : eval 500 : cases (idempotent : B) : A} "
   ]
  },
  {
   "cell_type": "code",
   "execution_count": 31,
   "id": "f7c6e716-d204-4eec-aace-daf5d3cc5d3e",
   "metadata": {},
   "outputs": [
    {
     "name": "stdout",
     "output_type": "stream",
     "text": [
      "(bin first:) (bin {first 2:B}:) (bin rev bin:)"
     ]
    }
   ],
   "source": [
    "ap {put bin (get:B) : bool : get with : eval 500 : cases (idempotent : get:B) : A} S1? : (:first) (:{first 2:B}) (:rev bin)"
   ]
  },
  {
   "cell_type": "code",
   "execution_count": 32,
   "id": "3bc34187-578b-44ae-8db3-e1c66cb58a11",
   "metadata": {},
   "outputs": [
    {
     "name": "stdout",
     "output_type": "stream",
     "text": []
    }
   ],
   "source": [
    "Def Test2 : {put bin (get:B) : bool : get with : eval 500 : cases (idempotent : get:B) : A}"
   ]
  },
  {
   "cell_type": "code",
   "execution_count": 33,
   "id": "99dd7e72-3ea9-476d-84a4-9c91328c2157",
   "metadata": {},
   "outputs": [
    {
     "name": "stdout",
     "output_type": "stream",
     "text": [
      "(bin rev:) (bin bin:◎) (bin first:) (bin count:◎)"
     ]
    }
   ],
   "source": [
    "ap Test2 S1? : ap put : rev bin first count "
   ]
  },
  {
   "cell_type": "code",
   "execution_count": 41,
   "id": "d7fb3256-3076-4afa-acfc-adbc22540f55",
   "metadata": {},
   "outputs": [
    {
     "name": "stdout",
     "output_type": "stream",
     "text": [
      "(bin {B : rep}:(bool:(= ((:rep):rep):(:rep)) (= (rep:rep):rep))) (bin {null : B}:) (bin b:(bool:(= (b:(b:)):(b:)) (= (b:(b:◎)):(b:◎)))) (bin {B : pass}:(bool:(= ((:pass):pass):(:pass)) (= (pass:pass):pass))) (bin {once B}:◎) (bin {ap : B}:◎)"
     ]
    }
   ],
   "source": [
    "ap Test2 S1? : nth 1 2 3 4 5 6 : CAN?"
   ]
  },
  {
   "cell_type": "code",
   "execution_count": 39,
   "id": "885690f5-b2ce-421f-96db-a6c9cabcba6f",
   "metadata": {},
   "outputs": [
    {
     "name": "stdout",
     "output_type": "stream",
     "text": [
      "(:{B : rep})"
     ]
    }
   ],
   "source": [
    "nth 1 : CAN?"
   ]
  },
  {
   "cell_type": "code",
   "execution_count": 13,
   "id": "840f592f-cfbb-403f-b91c-6a1208019944",
   "metadata": {},
   "outputs": [
    {
     "name": "stdout",
     "output_type": "stream",
     "text": [
      "(bin (:b):(int_sum:0 (count:(= ((:b):((:b):)):((:b):))) (count:(= ((:b):((:b):◎)):((:b):◎)))))"
     ]
    }
   ],
   "source": [
    "ap Test1 S1? : nth 3  : CAN?"
   ]
  },
  {
   "cell_type": "code",
   "execution_count": 37,
   "id": "b04ae3b2-be9a-40bf-8bdd-56620193bb58",
   "metadata": {},
   "outputs": [
    {
     "name": "stdout",
     "output_type": "stream",
     "text": []
    }
   ],
   "source": [
    "rep:rep"
   ]
  },
  {
   "cell_type": "code",
   "execution_count": null,
   "id": "ffd06b8d-4899-4f48-8c1f-4587ad96b913",
   "metadata": {},
   "outputs": [],
   "source": []
  }
 ],
 "metadata": {
  "kernelspec": {
   "display_name": "coda",
   "language": "",
   "name": "coda"
  },
  "language_info": {
   "file_extension": ".co",
   "mimetype": "text/plain",
   "name": "Any text"
  }
 },
 "nbformat": 4,
 "nbformat_minor": 5
}
