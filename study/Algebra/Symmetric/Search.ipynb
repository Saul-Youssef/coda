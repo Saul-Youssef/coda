{
 "cells": [
  {
   "cell_type": "code",
   "execution_count": 1,
   "id": "ae9cac86-0d37-455a-800d-566c4c119322",
   "metadata": {},
   "outputs": [],
   "source": [
    "defaultTime:1000"
   ]
  },
  {
   "cell_type": "code",
   "execution_count": 2,
   "id": "5942f74d-d8ef-4f34-8898-f7f6d958ff83",
   "metadata": {},
   "outputs": [
    {
     "name": "stdout",
     "output_type": "stream",
     "text": []
    }
   ],
   "source": [
    "import : dir co : up : up : . "
   ]
  },
  {
   "cell_type": "code",
   "execution_count": 3,
   "id": "28f9dcce-ceb5-4633-b6bb-dc1681062566",
   "metadata": {},
   "outputs": [
    {
     "name": "stdout",
     "output_type": "stream",
     "text": [
      "(with null:) (with pass:◎)"
     ]
    }
   ],
   "source": [
    "do 100 : property symmetric (:a) (:b) : (:null) (:pass)"
   ]
  },
  {
   "cell_type": "code",
   "execution_count": null,
   "id": "0e4807ce-78b2-4f66-b94f-bfb2092484db",
   "metadata": {},
   "outputs": [],
   "source": [
    "out symmetric.C0-S6 3600 : dom 100 : property symmetric S6? : C0? :\n",
    "out symmetric.C2-S6 3600 : dom 100 : property symmetric S6? : C2? : "
   ]
  },
  {
   "cell_type": "code",
   "execution_count": null,
   "id": "4a7b5785-8d7f-487e-a346-3ac2573fe2a3",
   "metadata": {},
   "outputs": [],
   "source": []
  }
 ],
 "metadata": {
  "kernelspec": {
   "display_name": "coda",
   "language": "",
   "name": "coda"
  },
  "language_info": {
   "file_extension": ".co",
   "mimetype": "text/plain",
   "name": "Any text"
  }
 },
 "nbformat": 4,
 "nbformat_minor": 5
}
