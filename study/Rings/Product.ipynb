{
 "cells": [
  {
   "cell_type": "markdown",
   "id": "9fb6854d-d75e-4b9e-a72f-841f5a50dc88",
   "metadata": {},
   "source": [
    "## A demonstration of products and co-products "
   ]
  },
  {
   "cell_type": "code",
   "execution_count": 1,
   "id": "dd5dc3a4-6f9d-46db-a3f3-bedfe9d8dfb5",
   "metadata": {},
   "outputs": [
    {
     "name": "stdout",
     "output_type": "stream",
     "text": []
    }
   ],
   "source": [
    "import : ."
   ]
  },
  {
   "cell_type": "code",
   "execution_count": 2,
   "id": "1726a4dc-84c9-4f85-b10f-d4cf5613b926",
   "metadata": {},
   "outputs": [
    {
     "name": "stdout",
     "output_type": "stream",
     "text": []
    }
   ],
   "source": [
    "# \n",
    "#   f2 and f3 are morphisms of n \n",
    "#\n",
    "def f2 : {ap put n : ap int_mult 2 : get n : B}\n",
    "def f3 : {ap put n : ap int_mult 3 : get n : B}"
   ]
  },
  {
   "cell_type": "code",
   "execution_count": 3,
   "id": "4ee8b8d3-2c9a-49b7-b0c0-9a171e418253",
   "metadata": {},
   "outputs": [
    {
     "name": "stdout",
     "output_type": "stream",
     "text": []
    }
   ],
   "source": [
    "#\n",
    "#   The direct product is controlled by \n",
    "#\n",
    "#   Product/product \n",
    "#\n",
    "#   P? will be a product of f2 and f3 \n",
    "#\n",
    "let P : Product n f2 f3 : type n : 1 2 "
   ]
  },
  {
   "cell_type": "code",
   "execution_count": 4,
   "id": "b6993b80-5682-4e87-9720-db0916563a74",
   "metadata": {},
   "outputs": [
    {
     "name": "stdout",
     "output_type": "stream",
     "text": [
      "(pro n:(n:2) (n:3)) (pro n:(n:4) (n:6))"
     ]
    }
   ],
   "source": [
    "P?"
   ]
  },
  {
   "cell_type": "code",
   "execution_count": 5,
   "id": "7f73c17e-9108-4185-bffa-863fbbc74e3f",
   "metadata": {},
   "outputs": [
    {
     "name": "stdout",
     "output_type": "stream",
     "text": [
      "(n:3) (n:6)"
     ]
    }
   ],
   "source": [
    "#\n",
    "#   lower case product projects the nth component \n",
    "#\n",
    "product n 2 : P?"
   ]
  },
  {
   "cell_type": "code",
   "execution_count": 6,
   "id": "56e178d9-10f9-4b71-8b6d-dd42938e77e2",
   "metadata": {},
   "outputs": [
    {
     "name": "stdout",
     "output_type": "stream",
     "text": []
    }
   ],
   "source": [
    "#\n",
    "#   The direct sum is controlled by \n",
    "#\n",
    "#   Coproduct/coproduct \n",
    "#\n",
    "let S : ( coproduct n 2 : type n : 88 99 ) \n",
    "        ( coproduct n 1 : type n :  5  6 )"
   ]
  },
  {
   "cell_type": "code",
   "execution_count": 7,
   "id": "c1be00a5-ed1d-46ae-971a-efefd5527248",
   "metadata": {},
   "outputs": [
    {
     "name": "stdout",
     "output_type": "stream",
     "text": [
      "(n:264) (n:297) (n:10) (n:12)"
     ]
    }
   ],
   "source": [
    "Coproduct n f2 f3 : S?"
   ]
  },
  {
   "cell_type": "code",
   "execution_count": 9,
   "id": "c17dd155-4334-407f-b623-2fa01e68e5c7",
   "metadata": {},
   "outputs": [
    {
     "name": "stdout",
     "output_type": "stream",
     "text": [
      "(a b:1) (a c:1) (a b:2) (a c:2) (a b:3) (a c:3)"
     ]
    }
   ],
   "source": [
    "ap ap2 a b c : 1 2 3 "
   ]
  },
  {
   "cell_type": "code",
   "execution_count": 10,
   "id": "111f674e-f96d-4ce6-9f3d-d8c08e92a96b",
   "metadata": {},
   "outputs": [
    {
     "name": "stdout",
     "output_type": "stream",
     "text": [
      "(pro n:1) (pro n:2) (pro n:3)"
     ]
    }
   ],
   "source": [
    "ap ap2 pro n : 1 2 3 "
   ]
  },
  {
   "cell_type": "code",
   "execution_count": 11,
   "id": "1beed4b6-aa72-4ec0-bef3-7021f9057929",
   "metadata": {},
   "outputs": [
    {
     "name": "stdout",
     "output_type": "stream",
     "text": [
      "(pro n:a) (pro 1:a) (pro 2:a) (pro 3:a) (pro n:b) (pro 1:b) (pro 2:b) (pro 3:b) (pro n:c) (pro 1:c) (pro 2:c) (pro 3:c)"
     ]
    }
   ],
   "source": [
    "ap ap2 pro n 1 2 3 : a b c "
   ]
  },
  {
   "cell_type": "code",
   "execution_count": 12,
   "id": "29821f2a-e635-4e45-8070-9fd893dca8de",
   "metadata": {},
   "outputs": [
    {
     "name": "stdout",
     "output_type": "stream",
     "text": [
      "(1 2:a) (1 3:a) (1 2:b) (1 3:b) (1 2:c) (1 3:c)"
     ]
    }
   ],
   "source": [
    "ap ap2 1 2 3 : a b c "
   ]
  },
  {
   "cell_type": "code",
   "execution_count": 13,
   "id": "7f70340b-0b2c-44c2-b450-67c0c5f89867",
   "metadata": {},
   "outputs": [
    {
     "name": "stdout",
     "output_type": "stream",
     "text": [
      "(1:a) (2:a) (3:a) (1:b) (2:b) (3:b) (1:c) (2:c) (3:c)"
     ]
    }
   ],
   "source": [
    "ap app 1 2 3  :a b c "
   ]
  },
  {
   "cell_type": "code",
   "execution_count": 14,
   "id": "eec38043-1e94-4688-aa2a-86ad0e1fd4a0",
   "metadata": {},
   "outputs": [
    {
     "name": "stdout",
     "output_type": "stream",
     "text": [
      "(n 1:4) (n 2:4) (n 3:4) (n 1:5) (n 2:5) (n 3:5) (n 1:6) (n 2:6) (n 3:6)"
     ]
    }
   ],
   "source": [
    "ap ap2 n 1 2 3 : 4 5 6 "
   ]
  },
  {
   "cell_type": "code",
   "execution_count": 15,
   "id": "f3acb22e-b51d-4658-b864-3ffe23355d63",
   "metadata": {},
   "outputs": [
    {
     "name": "stdout",
     "output_type": "stream",
     "text": []
    }
   ],
   "source": [
    "def t2 : {ap ap2 A : B}"
   ]
  },
  {
   "cell_type": "code",
   "execution_count": 16,
   "id": "136272d4-defd-4825-bc1b-d6422d9c41f0",
   "metadata": {},
   "outputs": [
    {
     "name": "stdout",
     "output_type": "stream",
     "text": [
      "(n 1:4) (n 2:4) (n 3:4) (n 1:5) (n 2:5) (n 3:5) (n 1:6) (n 2:6) (n 3:6)"
     ]
    }
   ],
   "source": [
    "t2 n 1 2 3 : 4 5 6 "
   ]
  },
  {
   "cell_type": "code",
   "execution_count": 17,
   "id": "d2ca136f-0a90-4de8-aaca-ab281da64a82",
   "metadata": {},
   "outputs": [
    {
     "name": "stdout",
     "output_type": "stream",
     "text": []
    }
   ],
   "source": [
    "def n2 : {t2 n A : B}"
   ]
  },
  {
   "cell_type": "code",
   "execution_count": 18,
   "id": "35a078e3-312d-49d6-82ed-ed9c8ee98964",
   "metadata": {},
   "outputs": [
    {
     "name": "stdout",
     "output_type": "stream",
     "text": [
      "(n 1:4) (n 2:4) (n 3:4) (n 1:5) (n 2:5) (n 3:5) (n 1:6) (n 2:6) (n 3:6)"
     ]
    }
   ],
   "source": [
    "n2 1 2 3 : 4 5 6 "
   ]
  },
  {
   "cell_type": "code",
   "execution_count": 1,
   "id": "ee4e6b11-f8c8-40f0-9e25-c3c0f17f1462",
   "metadata": {},
   "outputs": [
    {
     "name": "stdout",
     "output_type": "stream",
     "text": [
      "(let (foo:bar):1 2 3)"
     ]
    }
   ],
   "source": [
    "let (foo:bar) : 1 2 3 "
   ]
  },
  {
   "cell_type": "code",
   "execution_count": null,
   "id": "a5c0d1c8-7e3e-481d-838d-c06a4270c509",
   "metadata": {},
   "outputs": [],
   "source": []
  }
 ],
 "metadata": {
  "kernelspec": {
   "display_name": "coda",
   "language": "",
   "name": "coda"
  },
  "language_info": {
   "file_extension": ".co",
   "mimetype": "text/plain",
   "name": "Any text"
  }
 },
 "nbformat": 4,
 "nbformat_minor": 5
}
