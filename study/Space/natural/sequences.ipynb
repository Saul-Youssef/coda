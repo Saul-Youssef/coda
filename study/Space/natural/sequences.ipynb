{
 "cells": [
  {
   "cell_type": "code",
   "execution_count": null,
   "id": "7bc4405c-8367-48b4-a6e5-5c11033b126a",
   "metadata": {},
   "outputs": [],
   "source": []
  },
  {
   "cell_type": "markdown",
   "id": "d7a756ab-ec2c-4555-9178-7de813fbea31",
   "metadata": {
    "tags": []
   },
   "source": [
    "### 3. What are the endomorphisms of sequences of natural numbers?\n",
    "\n",
    "As we have seen, data in **stick** are, essentially, natural numbers.  As with other spaces, we can use the \"functor\" **Seq** to make sequences of sticks stored in an atom **n** to represent sequences of natural numbers.  We'll call the space of sequences of natural numbers **N**."
   ]
  },
  {
   "cell_type": "code",
   "execution_count": 1,
   "id": "2542e2cc-1833-4b3c-83f4-d1d5927788f8",
   "metadata": {
    "tags": []
   },
   "outputs": [
    {
     "name": "stdout",
     "output_type": "stream",
     "text": []
    }
   ],
   "source": [
    "#\n",
    "#   N is the distributive space of sequences of natural numbers \n",
    "#\n",
    "Def n:\n",
    "Def N: Seq n : stick "
   ]
  },
  {
   "cell_type": "code",
   "execution_count": 2,
   "id": "1fd27f4a-43ba-4e19-9ae4-c7dcbc6e2c02",
   "metadata": {
    "tags": []
   },
   "outputs": [
    {
     "name": "stdout",
     "output_type": "stream",
     "text": [
      "((Seq n:stick):(n:| |) (n:| | |) (n:))\n",
      "((Seq n:stick):((Seq n:stick):(n:| |) (n:| | |) (n:)))\n",
      "((Seq n:stick):((Seq n:stick):(n:| |)) ((Seq n:stick):(n:| | |) (n:)))"
     ]
    }
   ],
   "source": [
    "#\n",
    "#   N is a space, so the following should be the same \n",
    "#\n",
    "N : (n:| |) (n:| | |) (n:) \n",
    "N : N : (n:| |) (n:| | |) (n:) \n",
    "N : (N : (n:| |)) (N : (n:| | |) (n:)) "
   ]
  },
  {
   "cell_type": "code",
   "execution_count": 3,
   "id": "a7b548b7-9b62-428c-a8de-c6b1f94efbf5",
   "metadata": {
    "tags": []
   },
   "outputs": [
    {
     "name": "stdout",
     "output_type": "stream",
     "text": []
    }
   ],
   "source": [
    "#\n",
    "#   As with bool, let E(X) be the general endomorphism N*X*N and let e(X) be the special case \n",
    "#   N*(put n)*X*(get n)*N \n",
    "#\n",
    "Def E : End N \n",
    "Def e : {End N : Down n : B}"
   ]
  },
  {
   "cell_type": "code",
   "execution_count": 4,
   "id": "dfc35970-0994-43ba-9443-9e6af1c63ee8",
   "metadata": {
    "tags": []
   },
   "outputs": [
    {
     "name": "stdout",
     "output_type": "stream",
     "text": [
      "((End N:pass):(n:| |) (n:| | |) (n:))\n",
      "((End N:(Down n:pass)):(n:| |) (n:| | |) (n:))"
     ]
    }
   ],
   "source": [
    "#\n",
    "#   (E:pass) is the identity on sequences \n",
    "#   (e:pass) is now natural number addition \n",
    "#\n",
    "(E:pass) : (n:| |) (n:| | |) (n:)\n",
    "(e:pass) : (n:| |) (n:| | |) (n:)"
   ]
  },
  {
   "cell_type": "code",
   "execution_count": 5,
   "id": "90115086-97d3-425d-87e5-5dcac1abb11a",
   "metadata": {
    "jupyter": {
     "source_hidden": true
    },
    "tags": []
   },
   "outputs": [
    {
     "name": "stdout",
     "output_type": "stream",
     "text": [
      "((End N:mul | |):(n:| |) (n:| | |) (n:))\n",
      "((End N:(Down n:mul | |)):(n:| |) (n:| | |) (n:))\n",
      "((End N:ap (End N:(Down n:mul | |))):(n:| |) (n:| | |) (n:))"
     ]
    }
   ],
   "source": [
    "#\n",
    "#   (E:mul | |) repeats the sequence twice \n",
    "#   (e:mul | |) sums the sequence and multiplies by 2 \n",
    "#   (E:ap (e:mul | |)) doubles the value of each item in the sequence \n",
    "#\n",
    "(E:mul | |) : (n:| |) (n:| | |) (n:)\n",
    "(e:mul | |) : (n:| |) (n:| | |) (n:)\n",
    "(E:ap (e:mul | |)) : (n:| |) (n:| | |) (n:)"
   ]
  },
  {
   "cell_type": "code",
   "execution_count": 6,
   "id": "534cdf42-1f39-49ae-833f-224622b6852d",
   "metadata": {
    "jupyter": {
     "source_hidden": true
    },
    "tags": []
   },
   "outputs": [
    {
     "name": "stdout",
     "output_type": "stream",
     "text": [
      "((End N:mod | |):(n:| |) (n:| | |) (n:))\n",
      "((End N:(Down n:mod | |)):(n:| |) (n:| | |) (n:))\n",
      "((End N:ap (End N:(Down n:mod | |))):(n:| |) (n:| | |) (n:))"
     ]
    }
   ],
   "source": [
    "#\n",
    "#   (E:mod | |) does nothing as expected.\n",
    "#   (e:mod | |) gives mod 2 of the sum.\n",
    "#   (E:ap (e:mod | |)) computes the mod 2 of each natural number in the sequence. \n",
    "#\n",
    "(E:mod | |) : (n:| |) (n:| | |) (n:)\n",
    "(e:mod | |) : (n:| |) (n:| | |) (n:)\n",
    "(E:ap (e:mod | |)) : (n:| |) (n:| | |) (n:)"
   ]
  },
  {
   "cell_type": "code",
   "execution_count": 7,
   "id": "5d1d0f99-5524-40d2-b046-998af7e3de23",
   "metadata": {
    "jupyter": {
     "source_hidden": true
    },
    "tags": []
   },
   "outputs": [
    {
     "name": "stdout",
     "output_type": "stream",
     "text": []
    }
   ],
   "source": [
    "#\n",
    "#   Pointwise sum can be done as an endomorphism using freesum in the style \n",
    "#\n",
    "Def Sum. : {ap {put n:get n:get:B} : {freesum A:B} A:B} "
   ]
  },
  {
   "cell_type": "code",
   "execution_count": 8,
   "id": "65fa9a8f-f04a-42b6-b8ff-7d65d26c694a",
   "metadata": {
    "jupyter": {
     "source_hidden": true
    },
    "tags": []
   },
   "outputs": [
    {
     "name": "stdout",
     "output_type": "stream",
     "text": [
      "(n:| |) (n:| |) (n:| | |) (n:)"
     ]
    }
   ],
   "source": [
    "Sum. (n:|) (n:| |) (n:) (n:) : (n:|) (n:) (n:| | |)"
   ]
  },
  {
   "cell_type": "code",
   "execution_count": 9,
   "id": "63f2a962-d143-42aa-8793-d642cc240f7d",
   "metadata": {
    "jupyter": {
     "source_hidden": true
    },
    "tags": []
   },
   "outputs": [
    {
     "name": "stdout",
     "output_type": "stream",
     "text": []
    }
   ],
   "source": [
    "#\n",
    "#   We can find the minimum and maximum natural \n",
    "#   numbers sequences by using less and more \n",
    "#\n",
    "Def min : {put n : less (get n:A) : (get n:B)}\n",
    "Def max : {put n : more (get n:A) : (get n:B)}\n",
    "Def MIN : (E:aj min)\n",
    "Def MAX : (E:aj max)"
   ]
  },
  {
   "cell_type": "code",
   "execution_count": 10,
   "id": "d0a48c00-542d-4bd6-b4e0-28f98267dba0",
   "metadata": {
    "jupyter": {
     "source_hidden": true
    },
    "tags": []
   },
   "outputs": [
    {
     "name": "stdout",
     "output_type": "stream",
     "text": [
      "((End N:aj min):(n:| | |) (n:|) (n:| | | | |) (n:| |))\n",
      "((End N:aj max):(n:| | |) (n:|) (n:| | | | |) (n:| |))"
     ]
    }
   ],
   "source": [
    "MIN : (n:| | |) (n:|) (n:| | | | |) (n:| |)\n",
    "MAX : (n:| | |) (n:|) (n:| | | | |) (n:| |)"
   ]
  },
  {
   "cell_type": "code",
   "execution_count": 11,
   "id": "9311fb68-7a89-49ac-9d65-0fd32292897b",
   "metadata": {
    "jupyter": {
     "source_hidden": true
    },
    "tags": []
   },
   "outputs": [
    {
     "name": "stdout",
     "output_type": "stream",
     "text": [
      "9"
     ]
    }
   ],
   "source": [
    "Def Ident: (E:pass)\n",
    "Def Sum  : (e:pass) \n",
    "Def MUL2 : (E:mul | |)\n",
    "Def Mul2 : (e:mul | |)\n",
    "Def MUL2a: (E:ap (e:mul | |))\n",
    "Def MOD2 : (E:mod | |)\n",
    "Def Mod2 : (e:mod | |)\n",
    "Def MOD2a: (E:ap (e:mod | |)) \n",
    "Def SumTest : Sum. (n:|) (n:| |) (n:) (n:|) \n",
    "#\n",
    "#   Prepare to look at commutators, NS is a sample of natural number sequences \n",
    "#\n",
    "#Let NS : permutation 2 : (n:) (n:|) (n:| |) (n:| | |)\n",
    "Let NS : permutation 2 : (n:) (n:|) (n:| |) \n",
    "count : NS?\n",
    "Let Endos : ap : Ident Sum MUL2 Mul2 MUL2a MOD2 Mod2 MOD2a MIN MAX SumTest "
   ]
  },
  {
   "cell_type": "code",
   "execution_count": 12,
   "id": "426c820f-f99a-4454-aa93-da3bbd793b3e",
   "metadata": {
    "jupyter": {
     "source_hidden": true
    },
    "tags": []
   },
   "outputs": [
    {
     "name": "stdout",
     "output_type": "stream",
     "text": [
      "(defaultTime:100)"
     ]
    }
   ],
   "source": [
    "defaultTime:100"
   ]
  },
  {
   "cell_type": "code",
   "execution_count": 13,
   "id": "bc6e21ca-75be-44b4-8cb1-ab6554123af1",
   "metadata": {},
   "outputs": [
    {
     "name": "stdout",
     "output_type": "stream",
     "text": [
      "55"
     ]
    }
   ],
   "source": [
    "count : combination 2 : Endos?"
   ]
  },
  {
   "cell_type": "code",
   "execution_count": 14,
   "id": "d62350d5-7ee1-404c-81b4-da6e14f5dbf6",
   "metadata": {
    "tags": []
   },
   "outputs": [
    {
     "name": "stdout",
     "output_type": "stream",
     "text": []
    }
   ],
   "source": [
    "#tab : dom 200 : ap {with (get:B) : bool : commutator (get:B) : NS?} : combination 2 : Endos?"
   ]
  },
  {
   "cell_type": "code",
   "execution_count": 15,
   "id": "2cadeff0-fb89-4bc8-a83c-93e95a5b167e",
   "metadata": {},
   "outputs": [
    {
     "name": "stdout",
     "output_type": "stream",
     "text": [
      "(defaultTime:200)"
     ]
    }
   ],
   "source": [
    "defaultTime:200"
   ]
  },
  {
   "cell_type": "code",
   "execution_count": 16,
   "id": "8be40e1e-a828-4228-9af6-c570ab11b8f2",
   "metadata": {},
   "outputs": [
    {
     "name": "stdout",
     "output_type": "stream",
     "text": [
      " (with (:(:Ident)) (:(:Ident)):(bool:(commutator (:(:Ident)) (:(:Ident)):(:(n:) (n:)) (:(n:) (n:|)) (:(n:) (n:| |)) (:(n:|) (n:))))) \n",
      " (with (:(:Ident)) (:(:Sum)):(bool:(commutator (:(:Ident)) (:(:Sum)):(:(n:) (n:)) (:(n:) (n:|)) (:(n:) (n:| |)) (:(n:|) (n:))))) \n",
      " (with (:(:Ident)) (:(:MUL2)):(bool:(commutator (:(:Ident)) (:(:MUL2)):(:(n:) (n:)) (:(n:) (n:|)) (:(n:) (n:| |)) (:(n:|) (n:))))) \n",
      " (with (:(:Sum)) (:(:Ident)):(bool:(commutator (:(:Sum)) (:(:Ident)):(:(n:) (n:)) (:(n:) (n:|)) (:(n:) (n:| |)) (:(n:|) (n:))))) \n",
      " (with (:(:Sum)) (:(:Sum)):(bool:(commutator (:(:Sum)) (:(:Sum)):(:(n:) (n:)) (:(n:) (n:|)) (:(n:) (n:| |)) (:(n:|) (n:))))) \n",
      " (with (:(:Sum)) (:(:MUL2)):(bool:(commutator (:(:Sum)) (:(:MUL2)):(:(n:) (n:)) (:(n:) (n:|)) (:(n:) (n:| |)) (:(n:|) (n:))))) \n",
      " (with (:(:MUL2)) (:(:Ident)):(bool:(commutator (:(:MUL2)) (:(:Ident)):(:(n:) (n:)) (:(n:) (n:|)) (:(n:) (n:| |)) (:(n:|) (n:))))) \n",
      " (with (:(:MUL2)) (:(:Sum)):(bool:(commutator (:(:MUL2)) (:(:Sum)):(:(n:) (n:)) (:(n:) (n:|)) (:(n:) (n:| |)) (:(n:|) (n:))))) \n",
      " (with (:(:MUL2)) (:(:MUL2)):(bool:(commutator (:(:MUL2)) (:(:MUL2)):(:(n:) (n:)) (:(n:) (n:|)) (:(n:) (n:| |)) (:(n:|) (n:))))) \n"
     ]
    }
   ],
   "source": [
    "tab : dom 201 : ap {with (get:B) : bool : commutator (get:B) : first 4 : NS?} : permutation 2 : ap : first 3 : Endos? "
   ]
  },
  {
   "cell_type": "code",
   "execution_count": 17,
   "id": "6475eb7a-6961-4e72-9418-7a075154e83b",
   "metadata": {},
   "outputs": [
    {
     "name": "stdout",
     "output_type": "stream",
     "text": [
      "((End N:mul | |):(n:| |) (n:|))"
     ]
    }
   ],
   "source": [
    "MUL2 : (n:| |) (n:|)"
   ]
  },
  {
   "cell_type": "code",
   "execution_count": 18,
   "id": "e89b9540-a2f0-4143-a732-3e37a3276b11",
   "metadata": {},
   "outputs": [
    {
     "name": "stdout",
     "output_type": "stream",
     "text": [
      "(defaultTime:200)"
     ]
    }
   ],
   "source": [
    "defaultTime:200"
   ]
  },
  {
   "cell_type": "code",
   "execution_count": 19,
   "id": "1d1830c5-2fe0-4e64-8c0e-4d7fd158932f",
   "metadata": {
    "tags": []
   },
   "outputs": [
    {
     "name": "stdout",
     "output_type": "stream",
     "text": [
      " (with Ident:(bool:(idempotent Ident:(:(n:) (n:)) (:(n:) (n:|)) (:(n:) (n:| |)) (:(n:|) (n:)) (:(n:|) (n:|)) (:(n:|) (n:| |)) (:(n:| |) (n:)) (:(n:| |) (n:|)) (:(n:| |) (n:| |))))) \n",
      " (with Sum:(bool:(idempotent Sum:(:(n:) (n:)) (:(n:) (n:|)) (:(n:) (n:| |)) (:(n:|) (n:)) (:(n:|) (n:|)) (:(n:|) (n:| |)) (:(n:| |) (n:)) (:(n:| |) (n:|)) (:(n:| |) (n:| |))))) \n",
      " (with MUL2:(bool:(idempotent MUL2:(:(n:) (n:)) (:(n:) (n:|)) (:(n:) (n:| |)) (:(n:|) (n:)) (:(n:|) (n:|)) (:(n:|) (n:| |)) (:(n:| |) (n:)) (:(n:| |) (n:|)) (:(n:| |) (n:| |))))) \n",
      " (with Mul2:(bool:(idempotent Mul2:(:(n:) (n:)) (:(n:) (n:|)) (:(n:) (n:| |)) (:(n:|) (n:)) (:(n:|) (n:|)) (:(n:|) (n:| |)) (:(n:| |) (n:)) (:(n:| |) (n:|)) (:(n:| |) (n:| |))))) \n",
      " (with MUL2a:(bool:(idempotent MUL2a:(:(n:) (n:)) (:(n:) (n:|)) (:(n:) (n:| |)) (:(n:|) (n:)) (:(n:|) (n:|)) (:(n:|) (n:| |)) (:(n:| |) (n:)) (:(n:| |) (n:|)) (:(n:| |) (n:| |))))) \n",
      " (with MOD2:(bool:(idempotent MOD2:(:(n:) (n:)) (:(n:) (n:|)) (:(n:) (n:| |)) (:(n:|) (n:)) (:(n:|) (n:|)) (:(n:|) (n:| |)) (:(n:| |) (n:)) (:(n:| |) (n:|)) (:(n:| |) (n:| |))))) \n",
      " (with Mod2:(bool:(idempotent Mod2:(:(n:) (n:)) (:(n:) (n:|)) (:(n:) (n:| |)) (:(n:|) (n:)) (:(n:|) (n:|)) (:(n:|) (n:| |)) (:(n:| |) (n:)) (:(n:| |) (n:|)) (:(n:| |) (n:| |))))) \n",
      " (with MOD2a:(bool:(idempotent MOD2a:(:(n:) (n:)) (:(n:) (n:|)) (:(n:) (n:| |)) (:(n:|) (n:)) (:(n:|) (n:|)) (:(n:|) (n:| |)) (:(n:| |) (n:)) (:(n:| |) (n:|)) (:(n:| |) (n:| |))))) \n",
      " (with MIN:(bool:(idempotent MIN:(:(n:) (n:)) (:(n:) (n:|)) (:(n:) (n:| |)) (:(n:|) (n:)) (:(n:|) (n:|)) (:(n:|) (n:| |)) (:(n:| |) (n:)) (:(n:| |) (n:|)) (:(n:| |) (n:| |))))) \n",
      " (with MAX:(bool:(idempotent MAX:(:(n:) (n:)) (:(n:) (n:|)) (:(n:) (n:| |)) (:(n:|) (n:)) (:(n:|) (n:|)) (:(n:|) (n:| |)) (:(n:| |) (n:)) (:(n:| |) (n:|)) (:(n:| |) (n:| |))))) \n",
      " (with SumTest:(bool:(idempotent SumTest:(:(n:) (n:)) (:(n:) (n:|)) (:(n:) (n:| |)) (:(n:|) (n:)) (:(n:|) (n:|)) (:(n:|) (n:| |)) (:(n:| |) (n:)) (:(n:| |) (n:|)) (:(n:| |) (n:| |))))) \n"
     ]
    }
   ],
   "source": [
    "#\n",
    "#   Look for endomorphisms which are also algebraic spaces \n",
    "#\n",
    "tab : dom 200 : ap {with (get:B) : bool : idempotent (get:B) : NS?} : Endos?"
   ]
  },
  {
   "cell_type": "code",
   "execution_count": 20,
   "id": "61e62241-6283-4066-a293-5e0fa4a118da",
   "metadata": {},
   "outputs": [
    {
     "name": "stdout",
     "output_type": "stream",
     "text": [
      "(defaultTime:200)"
     ]
    }
   ],
   "source": [
    "defaultTime:200"
   ]
  },
  {
   "cell_type": "code",
   "execution_count": 21,
   "id": "6a2c488e-d89a-4a63-a682-9d68e0f65639",
   "metadata": {},
   "outputs": [
    {
     "name": "stdout",
     "output_type": "stream",
     "text": [
      "((End N:ap (End N:(Down n:mod | |))):(n:| | | |))"
     ]
    }
   ],
   "source": [
    "MOD2a : (n:| | | |)"
   ]
  },
  {
   "cell_type": "code",
   "execution_count": 22,
   "id": "e6bf69d5-5a19-439c-8d63-81cf04292b2e",
   "metadata": {},
   "outputs": [
    {
     "name": "stdout",
     "output_type": "stream",
     "text": [
      "9"
     ]
    }
   ],
   "source": [
    "count : NS?"
   ]
  },
  {
   "cell_type": "code",
   "execution_count": 23,
   "id": "9467c7b0-3ee7-44ab-9c2d-245247b1d77e",
   "metadata": {},
   "outputs": [
    {
     "name": "stdout",
     "output_type": "stream",
     "text": [
      "(with MOD2a:(bool:(space2 MOD2a:(:(:(n:) (n:)) (:(n:) (n:))) (:(:(n:) (n:)) (:(n:) (n:|))) (:(:(n:) (n:)) (:(n:) (n:| |))) (:(:(n:) (n:)) (:(n:|) (n:))) (:(:(n:) (n:|)) (:(n:) (n:))) (:(:(n:) (n:|)) (:(n:) (n:|))) (:(:(n:) (n:|)) (:(n:) (n:| |))) (:(:(n:) (n:|)) (:(n:|) (n:))) (:(:(n:) (n:| |)) (:(n:) (n:))) (:(:(n:) (n:| |)) (:(n:) (n:|))) (:(:(n:) (n:| |)) (:(n:) (n:| |))) (:(:(n:) (n:| |)) (:(n:|) (n:))) (:(:(n:|) (n:)) (:(n:) (n:))) (:(:(n:|) (n:)) (:(n:) (n:|))) (:(:(n:|) (n:)) (:(n:) (n:| |))) (:(:(n:|) (n:)) (:(n:|) (n:))))))"
     ]
    }
   ],
   "source": [
    "do 100 : ap {with (get:B) : bool : space2 (get:B) : permutation 2 : first 4 : NS?} : (:MOD2a)"
   ]
  },
  {
   "cell_type": "code",
   "execution_count": 24,
   "id": "43ae113c-0170-4728-a8b2-d6523b02c0e1",
   "metadata": {},
   "outputs": [
    {
     "name": "stdout",
     "output_type": "stream",
     "text": [
      "((End N:aj min):(n:| |) (n:| |) (n:| | |) ((End N:aj min):(n:| | |) (n:| | |)))"
     ]
    }
   ],
   "source": [
    "MIN : (n:| |) (n:| |) (n:| | |) (MIN: (n:| | |) (n:| | |) )"
   ]
  },
  {
   "cell_type": "code",
   "execution_count": 25,
   "id": "28aafb8d-b4f5-45fe-910b-3e1d06cdb79b",
   "metadata": {},
   "outputs": [
    {
     "name": "stdout",
     "output_type": "stream",
     "text": [
      " (:(:(n:) (n:)) (:(n:) (n:))) \n",
      " (:(:(n:) (n:)) (:(n:) (n:|))) \n",
      " (:(:(n:) (n:)) (:(n:) (n:| |))) \n",
      " (:(:(n:) (n:)) (:(n:|) (n:))) \n",
      " (:(:(n:) (n:|)) (:(n:) (n:))) \n",
      " (:(:(n:) (n:|)) (:(n:) (n:|))) \n",
      " (:(:(n:) (n:|)) (:(n:) (n:| |))) \n",
      " (:(:(n:) (n:|)) (:(n:|) (n:))) \n",
      " (:(:(n:) (n:| |)) (:(n:) (n:))) \n",
      " (:(:(n:) (n:| |)) (:(n:) (n:|))) \n",
      " (:(:(n:) (n:| |)) (:(n:) (n:| |))) \n",
      " (:(:(n:) (n:| |)) (:(n:|) (n:))) \n",
      " (:(:(n:|) (n:)) (:(n:) (n:))) \n",
      " (:(:(n:|) (n:)) (:(n:) (n:|))) \n",
      " (:(:(n:|) (n:)) (:(n:) (n:| |))) \n",
      " (:(:(n:|) (n:)) (:(n:|) (n:))) \n"
     ]
    }
   ],
   "source": [
    "tab : permutation 2 : first 4 : NS?"
   ]
  },
  {
   "cell_type": "code",
   "execution_count": 26,
   "id": "e635d394-b27a-4f1f-b6c9-9477d91e28d5",
   "metadata": {},
   "outputs": [
    {
     "name": "stdout",
     "output_type": "stream",
     "text": [
      "(defaultTime:600)"
     ]
    }
   ],
   "source": [
    "defaultTime : 600"
   ]
  },
  {
   "cell_type": "code",
   "execution_count": 27,
   "id": "74714ad1-65b9-4172-9ddc-65d534b7b823",
   "metadata": {},
   "outputs": [
    {
     "name": "stdout",
     "output_type": "stream",
     "text": [
      " (:(n:) (n:)) \n",
      " (:(n:) (n:|)) \n",
      " (:(n:) (n:| |)) \n",
      " (:(n:|) (n:)) \n",
      " (:(n:|) (n:|)) \n"
     ]
    }
   ],
   "source": [
    "tab : first 5 : NS?"
   ]
  },
  {
   "cell_type": "code",
   "execution_count": 28,
   "id": "049fcb2f-20a3-49c8-973a-505fab8b75fd",
   "metadata": {},
   "outputs": [
    {
     "name": "stdout",
     "output_type": "stream",
     "text": [
      "16"
     ]
    }
   ],
   "source": [
    "count : permutation 2 : first 4 : NS?"
   ]
  },
  {
   "cell_type": "code",
   "execution_count": 29,
   "id": "6d029907-4cf6-4627-a40c-b92067e7b993",
   "metadata": {
    "tags": []
   },
   "outputs": [
    {
     "name": "stdout",
     "output_type": "stream",
     "text": [
      " (with Sum:(bool:(space2 Sum:(:(:(n:) (n:)) (:(n:) (n:))) (:(:(n:) (n:)) (:(n:) (n:|))) (:(:(n:) (n:)) (:(n:) (n:| |))) (:(:(n:) (n:)) (:(n:|) (n:))) (:(:(n:) (n:|)) (:(n:) (n:))) (:(:(n:) (n:|)) (:(n:) (n:|))) (:(:(n:) (n:|)) (:(n:) (n:| |))) (:(:(n:) (n:|)) (:(n:|) (n:))) (:(:(n:) (n:| |)) (:(n:) (n:))) (:(:(n:) (n:| |)) (:(n:) (n:|))) (:(:(n:) (n:| |)) (:(n:) (n:| |))) (:(:(n:) (n:| |)) (:(n:|) (n:))) (:(:(n:|) (n:)) (:(n:) (n:))) (:(:(n:|) (n:)) (:(n:) (n:|))) (:(:(n:|) (n:)) (:(n:) (n:| |))) (:(:(n:|) (n:)) (:(n:|) (n:)))))) \n",
      " (with MOD2:(bool:(space2 MOD2:(:(:(n:) (n:)) (:(n:) (n:))) (:(:(n:) (n:)) (:(n:) (n:|))) (:(:(n:) (n:)) (:(n:) (n:| |))) (:(:(n:) (n:)) (:(n:|) (n:))) (:(:(n:) (n:|)) (:(n:) (n:))) (:(:(n:) (n:|)) (:(n:) (n:|))) (:(:(n:) (n:|)) (:(n:) (n:| |))) (:(:(n:) (n:|)) (:(n:|) (n:))) (:(:(n:) (n:| |)) (:(n:) (n:))) (:(:(n:) (n:| |)) (:(n:) (n:|))) (:(:(n:) (n:| |)) (:(n:) (n:| |))) (:(:(n:) (n:| |)) (:(n:|) (n:))) (:(:(n:|) (n:)) (:(n:) (n:))) (:(:(n:|) (n:)) (:(n:) (n:|))) (:(:(n:|) (n:)) (:(n:) (n:| |))) (:(:(n:|) (n:)) (:(n:|) (n:)))))) \n",
      " (with Mod2:(bool:(space2 Mod2:(:(:(n:) (n:)) (:(n:) (n:))) (:(:(n:) (n:)) (:(n:) (n:|))) (:(:(n:) (n:)) (:(n:) (n:| |))) (:(:(n:) (n:)) (:(n:|) (n:))) (:(:(n:) (n:|)) (:(n:) (n:))) (:(:(n:) (n:|)) (:(n:) (n:|))) (:(:(n:) (n:|)) (:(n:) (n:| |))) (:(:(n:) (n:|)) (:(n:|) (n:))) (:(:(n:) (n:| |)) (:(n:) (n:))) (:(:(n:) (n:| |)) (:(n:) (n:|))) (:(:(n:) (n:| |)) (:(n:) (n:| |))) (:(:(n:) (n:| |)) (:(n:|) (n:))) (:(:(n:|) (n:)) (:(n:) (n:))) (:(:(n:|) (n:)) (:(n:) (n:|))) (:(:(n:|) (n:)) (:(n:) (n:| |))) (:(:(n:|) (n:)) (:(n:|) (n:)))))) \n",
      " (with MOD2a:(bool:(space2 MOD2a:(:(:(n:) (n:)) (:(n:) (n:))) (:(:(n:) (n:)) (:(n:) (n:|))) (:(:(n:) (n:)) (:(n:) (n:| |))) (:(:(n:) (n:)) (:(n:|) (n:))) (:(:(n:) (n:|)) (:(n:) (n:))) (:(:(n:) (n:|)) (:(n:) (n:|))) (:(:(n:) (n:|)) (:(n:) (n:| |))) (:(:(n:) (n:|)) (:(n:|) (n:))) (:(:(n:) (n:| |)) (:(n:) (n:))) (:(:(n:) (n:| |)) (:(n:) (n:|))) (:(:(n:) (n:| |)) (:(n:) (n:| |))) (:(:(n:) (n:| |)) (:(n:|) (n:))) (:(:(n:|) (n:)) (:(n:) (n:))) (:(:(n:|) (n:)) (:(n:) (n:|))) (:(:(n:|) (n:)) (:(n:) (n:| |))) (:(:(n:|) (n:)) (:(n:|) (n:)))))) \n",
      " (with MIN:(bool:(space2 MIN:(:(:(n:) (n:)) (:(n:) (n:))) (:(:(n:) (n:)) (:(n:) (n:|))) (:(:(n:) (n:)) (:(n:) (n:| |))) (:(:(n:) (n:)) (:(n:|) (n:))) (:(:(n:) (n:|)) (:(n:) (n:))) (:(:(n:) (n:|)) (:(n:) (n:|))) (:(:(n:) (n:|)) (:(n:) (n:| |))) (:(:(n:) (n:|)) (:(n:|) (n:))) (:(:(n:) (n:| |)) (:(n:) (n:))) (:(:(n:) (n:| |)) (:(n:) (n:|))) (:(:(n:) (n:| |)) (:(n:) (n:| |))) (:(:(n:) (n:| |)) (:(n:|) (n:))) (:(:(n:|) (n:)) (:(n:) (n:))) (:(:(n:|) (n:)) (:(n:) (n:|))) (:(:(n:|) (n:)) (:(n:) (n:| |))) (:(:(n:|) (n:)) (:(n:|) (n:)))))) \n",
      " (with MAX:(bool:(space2 MAX:(:(:(n:) (n:)) (:(n:) (n:))) (:(:(n:) (n:)) (:(n:) (n:|))) (:(:(n:) (n:)) (:(n:) (n:| |))) (:(:(n:) (n:)) (:(n:|) (n:))) (:(:(n:) (n:|)) (:(n:) (n:))) (:(:(n:) (n:|)) (:(n:) (n:|))) (:(:(n:) (n:|)) (:(n:) (n:| |))) (:(:(n:) (n:|)) (:(n:|) (n:))) (:(:(n:) (n:| |)) (:(n:) (n:))) (:(:(n:) (n:| |)) (:(n:) (n:|))) (:(:(n:) (n:| |)) (:(n:) (n:| |))) (:(:(n:) (n:| |)) (:(n:|) (n:))) (:(:(n:|) (n:)) (:(n:) (n:))) (:(:(n:|) (n:)) (:(n:) (n:|))) (:(:(n:|) (n:)) (:(n:) (n:| |))) (:(:(n:|) (n:)) (:(n:|) (n:)))))) \n"
     ]
    }
   ],
   "source": [
    "tab : dom 600 : ap {with (get:B) : bool : space2 (get:B) : permutation 2 : first 4 : NS?} : (:Sum) (:MOD2) (:Mod2) (:MOD2a) (:MIN) (:MAX)"
   ]
  },
  {
   "cell_type": "code",
   "execution_count": 30,
   "id": "38d8eac2-e9e6-48dc-89c6-fbcce724b278",
   "metadata": {},
   "outputs": [
    {
     "name": "stdout",
     "output_type": "stream",
     "text": [
      "((End N:(Down n:mul | |)):(n:| | |) (n:| |))"
     ]
    }
   ],
   "source": [
    "(e:mul | |) : (n: | | | ) (n : | |)"
   ]
  },
  {
   "cell_type": "markdown",
   "id": "481c9a06-3e67-463c-b051-bc8ec2b858d5",
   "metadata": {},
   "source": [
    "Let's recall the endomorphisms we've sampled on the space **N** of natural number sequences.\n",
    "\n",
    "1. **Ident** : (E:pass) identity \n",
    "2. **Sum**   : (e:pass) sums the natural numbers of the sequence \n",
    "3. **MUL2**  : (E:mul | |) duplicates a sequence twice \n",
    "4. **Mul2**  : (e:mul | |) sums the sequence and multiplies by 2 \n",
    "5. **MUL2.** : (E:ap (e:mul | |)) pointwise doubles each number in the sequence \n",
    "6. **Mod2**  : (e:mod | |) sums the sequence and mods by 2 \n",
    "7. **MOD2.** : (E:ap (e:mod | |)) pointwise mods each number in the sequence by 2 \n",
    "\n",
    "  |               |  Ident |  Sum  |  MUL2  | Mul2   | MUL2.  |  Mod2  |  MOD2.   | MIN       |     MAX   |  space?  |\n",
    "  |--------------:|:------:|:-----:|:------:|:------:|:------:|:------:|:--------:|:---------:|:---------:|:--------:|\n",
    "  |  **Ident**        |    -   |   -   |   -    |    -   |    -   |    -   |    -     |     -     |    -      |   Y      |\n",
    "  |  **Sum**          |        |   -   |   X    |    -   |    -   |    -   |    X     |     X     |    X      |   Y      |\n",
    "  |  **MUL2**         |        |       |   -    |    X   |    -   |    X   |    -     |     X     |    X      |   -      |\n",
    "  |  **Mul2**         |        |       |        |    -   |    -   |    X   |    X     |     X     |    X      |   -      |\n",
    "  |  **MUL2.**        |        |       |        |        |    -   |    X   |    X     |     -     |    -      |   -      |\n",
    "  |  **Mod2**         |        |       |        |        |        |    -   |    -     |     X     |    X      |   Y      |\n",
    "  |  **MOD2.**        |        |       |        |        |        |        |    -     |     X     |    X      |   Y      |\n",
    "  |  **MIN**          |        |       |        |        |        |        |          |     -     |    X      |   Y      |\n",
    "  |  **MAX**          |        |       |        |        |        |        |          |           |    -      |   Y      |\n",
    "\n",
    "\n",
    "The normal way of thinking about natural numbers is with addition and multiplication distributing over addition.  \n",
    "\n",
    "Sum : (n:| | |) (n:| |)"
   ]
  },
  {
   "cell_type": "code",
   "execution_count": 31,
   "id": "9255d842-8a5e-45d3-ba4b-4d90067b77a0",
   "metadata": {},
   "outputs": [
    {
     "name": "stdout",
     "output_type": "stream",
     "text": [
      "(use1:(def NS:{A} (:(n:) (n:)) (:(n:) (n:|)) (:(n:) (n:| |)) (:(n:) (n:| | |)) (:(n:|) (n:)) (:(n:|) (n:|)) (:(n:|) (n:| |)) (:(n:|) (n:| | |)) (:(n:| |) (n:)) (:(n:| |) (n:|)) (:(n:| |) (n:| |)) (:(n:| |) (n:| | |)) (:(n:| | |) (n:)) (:(n:| | |) (n:|)) (:(n:| | |) (n:| |)) (:(n:| | |) (n:| | |))))\n",
      "9\n",
      "(use1:(def Endos:{A} (:Ident) (:Sum) (:MUL2) (:Mul2) (:MUL2a) (:MOD2) (:Mod2) (:MOD2a) (:MIN) (:MAX)))"
     ]
    }
   ],
   "source": [
    "Def Ident: (E:pass)\n",
    "Def Sum  : (e:pass) \n",
    "Def MUL2 : (E:mul | |)\n",
    "Def Mul2 : (e:mul | |)\n",
    "Def MUL2a: (E:ap (e:mul | |))\n",
    "Def MOD2 : (E:mod | |)\n",
    "Def Mod2 : (e:mod | |)\n",
    "Def MOD2a: (E:ap (e:mod | |)) \n",
    "#\n",
    "#   Prepare to look at commutators NS is a sample of natural number sequences \n",
    "#\n",
    "Let NS : permutation 2 : (n:) (n:|) (n:| |) (n:| | |)\n",
    "count : NS?\n",
    "Let Endos : ap : Ident Sum MUL2 Mul2 MUL2a MOD2 Mod2 MOD2a MIN MAX "
   ]
  }
 ],
 "metadata": {
  "kernelspec": {
   "display_name": "coda",
   "language": "",
   "name": "coda"
  },
  "language_info": {
   "file_extension": ".co",
   "mimetype": "text/plain",
   "name": "Any text"
  }
 },
 "nbformat": 4,
 "nbformat_minor": 5
}
