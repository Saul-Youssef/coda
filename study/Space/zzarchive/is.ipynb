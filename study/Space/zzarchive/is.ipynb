{
 "cells": [
  {
   "cell_type": "markdown",
   "id": "6a8c5a93-fd8f-4e3e-aa25-23eb4b360e6b",
   "metadata": {},
   "source": [
    "| Space | Elements | Operation | Space | Simple | Idempotent | Distributive | Distributive 2 | Commutative | Involution | Nilpotent | Semilattice | \n",
    "|-------|----------|-----------|-----:|-------:|-----------:|-------------:|--------:|------------:|-----------:|----------:|----------:|\n",
    "| is 1 2 3 4 | sequences of 1 2 3 4 | filter | Y | Y | Y | Y | Y | Y | N | N | N |\n"
   ]
  },
  {
   "cell_type": "code",
   "execution_count": 1,
   "id": "97682adb-ce39-4da2-9e04-6852d5b43a8e",
   "metadata": {},
   "outputs": [
    {
     "name": "stdout",
     "output_type": "stream",
     "text": []
    }
   ],
   "source": [
    "import : dir co : up : ."
   ]
  },
  {
   "cell_type": "code",
   "execution_count": 2,
   "id": "3eec9d60-89e6-4049-9c93-a9b1eceb6418",
   "metadata": {},
   "outputs": [
    {
     "name": "stdout",
     "output_type": "stream",
     "text": []
    }
   ],
   "source": [
    "Def OP : {is 1 2 3 4:B} "
   ]
  },
  {
   "cell_type": "code",
   "execution_count": 3,
   "id": "c79d7240-f485-4beb-8644-96643eada9f5",
   "metadata": {
    "collapsed": true,
    "jupyter": {
     "outputs_hidden": true
    },
    "tags": []
   },
   "outputs": [
    {
     "name": "stdout",
     "output_type": "stream",
     "text": [
      "0\n",
      "0\n",
      "0\n",
      "0\n",
      "0\n",
      "4\n",
      "0\n",
      "0"
     ]
    }
   ],
   "source": [
    "count : theorem (simple:        OP) : S1?\n",
    "count : theorem (idempotent:    OP) : S1?\n",
    "count : theorem (distributive:  OP) : S1?\n",
    "count : theorem (distributive2: OP) : S1?\n",
    "count : theorem (commutative:   OP) : S1? \n",
    "count : theorem (involution:    OP) : S1? \n",
    "count : theorem (nilpotent:     OP) : S1? \n",
    "count : theorem (semilattice:   OP) : S1? "
   ]
  },
  {
   "cell_type": "code",
   "execution_count": 4,
   "id": "ecb3da8a-62f2-42f7-b592-0941765ce105",
   "metadata": {},
   "outputs": [
    {
     "name": "stdout",
     "output_type": "stream",
     "text": [
      "0\n",
      "0\n",
      "0\n",
      "0\n",
      "0\n",
      "63\n",
      "15\n",
      "15"
     ]
    }
   ],
   "source": [
    "count : theorem (simple:        OP) : S2?\n",
    "count : theorem (idempotent:    OP) : S2?\n",
    "count : theorem (distributive:  OP) : S2?\n",
    "count : theorem (distributive2: OP) : S2?\n",
    "count : theorem (commutative:   OP) : S2? \n",
    "count : theorem (involution:    OP) : S2? \n",
    "count : theorem (nilpotent:     OP) : S2? \n",
    "count : theorem (semilattice:   OP) : S2? "
   ]
  },
  {
   "cell_type": "code",
   "execution_count": null,
   "id": "12a17d8a-14f3-4d68-8aed-cff9954ef6a0",
   "metadata": {},
   "outputs": [],
   "source": []
  }
 ],
 "metadata": {
  "kernelspec": {
   "display_name": "coda",
   "language": "",
   "name": "coda"
  },
  "language_info": {
   "file_extension": ".co",
   "mimetype": "text/plain",
   "name": "Any text"
  }
 },
 "nbformat": 4,
 "nbformat_minor": 5
}
