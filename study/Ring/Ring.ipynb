{
 "cells": [
  {
   "cell_type": "code",
   "execution_count": 1,
   "id": "3fa64dd0-198a-47d6-b6c3-1afa4f59d387",
   "metadata": {},
   "outputs": [
    {
     "name": "stdout",
     "output_type": "stream",
     "text": []
    }
   ],
   "source": [
    "import : ."
   ]
  },
  {
   "cell_type": "code",
   "execution_count": 8,
   "id": "36ba7a7d-7cb7-4d8e-ba0f-f418f589e25f",
   "metadata": {},
   "outputs": [
    {
     "name": "stdout",
     "output_type": "stream",
     "text": [
      "(a:1 2 3) (b:1 2 3) (c:1 2 3)"
     ]
    }
   ],
   "source": [
    "apall a b c : 1 2 3 "
   ]
  },
  {
   "cell_type": "code",
   "execution_count": 9,
   "id": "3f43a3a3-215d-4e4c-8598-cc479f02e87a",
   "metadata": {},
   "outputs": [
    {
     "name": "stdout",
     "output_type": "stream",
     "text": [
      "(a:1) (a:2) (a:3) (b:1) (b:2) (b:3) (c:1) (c:2) (c:3)"
     ]
    }
   ],
   "source": [
    "apeach a b c : 1 2 3 "
   ]
  },
  {
   "cell_type": "code",
   "execution_count": 10,
   "id": "0b0c1807-5746-4e4f-ac8c-547ebc948f35",
   "metadata": {},
   "outputs": [
    {
     "name": "stdout",
     "output_type": "stream",
     "text": [
      "(a:1) (b:1) (c:1) (a:2) (b:2) (c:2) (a:3) (b:3) (c:3)"
     ]
    }
   ],
   "source": [
    "ap apall a b c : 1 2 3 "
   ]
  },
  {
   "cell_type": "code",
   "execution_count": 11,
   "id": "95cea224-ac51-4842-b44f-c7cd90aa262b",
   "metadata": {},
   "outputs": [
    {
     "name": "stdout",
     "output_type": "stream",
     "text": [
      "(a b c:1) (a b c:2) (a b c:3)"
     ]
    }
   ],
   "source": [
    "ap ap a b c : 1 2 3 "
   ]
  },
  {
   "cell_type": "code",
   "execution_count": 3,
   "id": "0d32ed72-708f-43fc-8c49-460ac1ef5260",
   "metadata": {},
   "outputs": [
    {
     "name": "stdout",
     "output_type": "stream",
     "text": [
      "(dis nth1 3:(dis nth1 (dis nth1 2:integer 1 pass):(if (= (dis nth1 3:integer 1 pass):integer):2 3)))"
     ]
    }
   ],
   "source": [
    "apcomp integer 1 pass : 1?"
   ]
  },
  {
   "cell_type": "code",
   "execution_count": 4,
   "id": "f8f20c04-67a1-4b65-b9d0-16d8b9f5b914",
   "metadata": {},
   "outputs": [
    {
     "name": "stdout",
     "output_type": "stream",
     "text": [
      "\u001b[;1mcode:\u001b[0m\n",
      "    \u001b[34;7mhelp\u001b[0m\n",
      "\u001b[;1mmodule:\u001b[0m\n",
      "    Help\n",
      "\u001b[;1msummary:\u001b[0m\n",
      "    H = Help(Code.coda2str(I[0]))\n",
      "\u001b[;1mdescription:\u001b[0m\n",
      "\u001b[;1mpath:\u001b[0m\n",
      "    /Users/youssef/coda/py/Help.py\n",
      "\u001b[;1mdemos:\u001b[0m\n"
     ]
    }
   ],
   "source": [
    "help: dis"
   ]
  },
  {
   "cell_type": "code",
   "execution_count": 5,
   "id": "9f980d0f-6d82-4791-b4ce-e6a52ff4659c",
   "metadata": {},
   "outputs": [
    {
     "name": "stdout",
     "output_type": "stream",
     "text": [
      "\u001b[34;1map...............\u001b[0mApply.....3..\u001b[35;4mApply A to each b in B.\u001b[0m\n",
      "\u001b[34;1mapall............\u001b[0mApply.....3..\u001b[35;4mApply A to each b in B.\u001b[0m\n",
      "\u001b[34;1maparg............\u001b[0mApply.....2..\u001b[35;4mApply A to each b in B.\u001b[0m\n",
      "\u001b[34;1mapbin............\u001b[0mApply.....3..\u001b[35;4mApply A to each b in B.\u001b[0m\n",
      "\u001b[34;1mapby.............\u001b[0mApply.....2..\u001b[35;4mApply A to each b in B.\u001b[0m\n",
      "\u001b[34;1mapeach...........\u001b[0mApply.....2..\u001b[35;4mApply A to each b in B.\u001b[0m\n",
      "\u001b[34;1mapif.............\u001b[0mApply.....3..\u001b[35;4mApply A to each b in B.\u001b[0m\n",
      "\u001b[34;1mcollect..........\u001b[0mApply.....2..\u001b[35;4mCollect inputs b with the same value of (A:b).\u001b[0m\n",
      "\u001b[34;1mequiv............\u001b[0mApply.....2..\u001b[35;4mCollect inputs b with the same value of (A:b).\u001b[0m\n",
      "\u001b[34;1mbin..............\u001b[0mBasic.....0..\u001b[35;4mBasic container\u001b[0m\n",
      "\u001b[34;1mget..............\u001b[0mBasic.....1..\u001b[35;4mselect  A : ... gets data of the form (A:<something>)\u001b[0m\n",
      "\u001b[34;1mhas..............\u001b[0mBasic.....1..\u001b[35;4mselect  A : ... gets data of the form (A:<something>)\u001b[0m\n",
      "\u001b[34;1mhasnt............\u001b[0mBasic.....1..\u001b[35;4mselect  A : ... gets data of the form (A:<something>)\u001b[0m\n",
      "\u001b[34;1mif...............\u001b[0mBasic.....2..\u001b[35;4mif A : B -> () if A is false\u001b[0m\n",
      "\u001b[34;1mis...............\u001b[0mBasic.....1..\u001b[35;4mselect  A : ... gets data of the form (A:<something>)\u001b[0m\n",
      "\u001b[34;1misnt.............\u001b[0mBasic.....1..\u001b[35;4mselect  A : ... gets data of the form (A:<something>)\u001b[0m\n",
      "\u001b[34;1mnull.............\u001b[0mBasic.....1..\u001b[35;4mpass : B -> B and null : B -> ()\u001b[0m\n",
      "\u001b[34;1mpass.............\u001b[0mBasic.....1..\u001b[35;4mpass : B -> B and null : B -> ()\u001b[0m\n",
      "\u001b[34;1mput..............\u001b[0mBasic.....1..\u001b[35;4mput A : B creates A:B, it \"puts B into A\".\u001b[0m\n",
      "\u001b[34;1mstar.............\u001b[0mBasic.....1..\u001b[35;4mStar is syntactic sugar with A*B:X defined to be A:B:X\u001b[0m\n",
      "\u001b[34;1mallcodes.........\u001b[0mCode......2..\u001b[35;4mA very non-practical data consisting of all codes with input alphabet\u001b[0m\n",
      "\u001b[34;1malphabet.........\u001b[0mCode......1..\u001b[35;4mA standard alphabet\u001b[0m\n",
      "\u001b[34;1mcodes............\u001b[0mCode......2..\u001b[35;4mGet all codes up to argument specified length\u001b[0m\n",
      "\u001b[34;1mendswith.........\u001b[0mCode......2..\u001b[35;4mSelects codes that start/end with argument specified pre or post code\u001b[0m\n",
      "\u001b[34;1mjoin.............\u001b[0mCode......1..\u001b[35;4mJoin codes with argument provided separator.\u001b[0m\n",
      "\u001b[34;1mpure.............\u001b[0mCode......2..\u001b[35;4mDisplay input in native \"pure\" form.\u001b[0m\n",
      "\u001b[34;1msplit............\u001b[0mCode......1..\u001b[35;4mJoin codes with argument provided separator.\u001b[0m\n",
      "\u001b[34;1mstartswith.......\u001b[0mCode......2..\u001b[35;4mSelects codes that start/end with argument specified pre or post code\u001b[0m\n",
      "\u001b[34;1mwrap.............\u001b[0mCode......2..\u001b[35;4mWrap code with a one character prefix and postfix.\u001b[0m\n",
      "\u001b[34;1mcoda.............\u001b[0mCompile...2..\u001b[35;4mcoda compiles input code using the language.\u001b[0m\n",
      "\u001b[34;1mcodx.............\u001b[0mCompile...2..\u001b[35;4mreturn Language.lang(str(BL),data(),data()) + data((domain+A)|BR)\u001b[0m\n",
      "\u001b[34;1mconst............\u001b[0mDefine....1..\u001b[35;4mCONTEXT.add(Definition(D,lambda domain,A,B:V))\u001b[0m\n",
      "\u001b[34;1mdef..............\u001b[0mDefine....1..\u001b[35;4mCreate a definition.\u001b[0m\n",
      "\u001b[34;1mlet..............\u001b[0mDefine....1..\u001b[35;4mAssign values to \"variables\"\u001b[0m\n",
      "\u001b[34;1meval.............\u001b[0mEvaluate..1..\u001b[35;4mevaluate an argument specified number of times\u001b[0m\n",
      "\u001b[34;1mgetDefaultDepth..\u001b[0mEvaluate..1..\u001b[35;4mShow and set the default evaluation depth\u001b[0m\n",
      "\u001b[34;1msetDefaultDepth..\u001b[0mEvaluate..1..\u001b[35;4mShow and set the default evaluation depth\u001b[0m\n",
      "\u001b[34;1mstep.............\u001b[0mEvaluate..2..\u001b[35;4mstep displays step-by-step evaluation of it's input\u001b[0m\n",
      "\u001b[34;1mdefs.............\u001b[0mHelp......1..\u001b[35;4mdom = Code.pretty(domain)\u001b[0m\n",
      "\u001b[34;1mdemo.............\u001b[0mHelp......2..\u001b[35;4mreturn data(colon(data(b'{'+demcode.encode()+b'}'),data()))\u001b[0m\n",
      "\u001b[34;1mhelp.............\u001b[0mHelp......1..\u001b[35;4mH = Help(Code.coda2str(I[0]))\u001b[0m\n",
      "\u001b[34;1msource...........\u001b[0mHelp......2..\u001b[35;4mI,R = B.split()\u001b[0m\n",
      "\u001b[34;1mdir..............\u001b[0mIO........2..\u001b[35;4mdir selects paths from it's input.  The argument\u001b[0m\n",
      "\u001b[34;1min...............\u001b[0mIO........3..\u001b[35;4mSerialize input after evaluating to argument specified depth\u001b[0m\n",
      "\u001b[34;1mout..............\u001b[0mIO........1..\u001b[35;4mSerialize input after evaluating to argument specified depth\u001b[0m\n",
      "\u001b[34;1mreadpath.........\u001b[0mIO........2..\u001b[35;4mBasic local read of all the bytes from a local files\u001b[0m\n",
      "\u001b[34;1mhome.............\u001b[0mImport....1..\u001b[35;4mThe home directory of the currently running software\u001b[0m\n",
      "\u001b[34;1mhomecontext......\u001b[0mImport....1..\u001b[35;4msrc = 'codx : source : readpath : dir co : endswith </co> : dir : home :'\u001b[0m\n",
      "\u001b[34;1mimport...........\u001b[0mImport....1..\u001b[35;4mImporting definitions from files\u001b[0m\n",
      "\u001b[34;1mstart............\u001b[0mImport....1..\u001b[35;4mThe startup directory of the currently running software\u001b[0m\n",
      "\u001b[34;1mstartcontext.....\u001b[0mImport....1..\u001b[35;4msrc = 'codx : source : readpath : endswith </coda.co> : dir co : start : '\u001b[0m\n",
      "\u001b[34;1mlanguage.........\u001b[0mLanguage..1..\u001b[35;4mThere are no syntax errors.  All byte strings are valid source code.\u001b[0m\n",
      "\u001b[34;1m=................\u001b[0mLogic.....3..\u001b[35;4mContext equality (=) and logical complement (^) in \"Zen logic\".\u001b[0m\n",
      "\u001b[34;1mimply............\u001b[0mLogic.....1..\u001b[35;4mif A.empty()   or B.empty(): return data()\u001b[0m\n",
      "\u001b[34;1mlogic............\u001b[0mLogic.....1..\u001b[35;4mLogic summarizes the logic of it's input.\u001b[0m\n",
      "\u001b[34;1mnone.............\u001b[0mLogic.....1..\u001b[35;4msome/none define the coarsest data classification\u001b[0m\n",
      "\u001b[34;1mnot..............\u001b[0mLogic.....1..\u001b[35;4mContext equality (=) and logical complement (^) in \"Zen logic\".\u001b[0m\n",
      "\u001b[34;1mor...............\u001b[0mLogic.....1..\u001b[35;4mContext equality (=) and logical complement (^) in \"Zen logic\".\u001b[0m\n",
      "\u001b[34;1msome.............\u001b[0mLogic.....1..\u001b[35;4msome/none define the coarsest data classification\u001b[0m\n",
      "\u001b[34;1mFloat............\u001b[0mNumber....1..\u001b[35;4mNatural number types and string\u001b[0m\n",
      "\u001b[34;1mInteger..........\u001b[0mNumber....1..\u001b[35;4mNatural number types and string\u001b[0m\n",
      "\u001b[34;1mNatural..........\u001b[0mNumber....1..\u001b[35;4mNatural number types and string\u001b[0m\n",
      "\u001b[34;1mString...........\u001b[0mNumber....1..\u001b[35;4mNatural number types and string\u001b[0m\n",
      "\u001b[34;1mcode_add.........\u001b[0mNumber....2..\u001b[35;4mcode binary operations\u001b[0m\n",
      "\u001b[34;1mcode_max.........\u001b[0mNumber....2..\u001b[35;4mcode binary operations\u001b[0m\n",
      "\u001b[34;1mcode_min.........\u001b[0mNumber....2..\u001b[35;4mcode binary operations\u001b[0m\n",
      "\u001b[34;1mcount............\u001b[0mNumber....2..\u001b[35;4mMakes a code 1 if the input is a single atom.  Used for counting.\u001b[0m\n",
      "\u001b[34;1mfloat_add........\u001b[0mNumber....2..\u001b[35;4mFloat binary operations and involutions\u001b[0m\n",
      "\u001b[34;1mfloat_diff.......\u001b[0mNumber....2..\u001b[35;4mFloat binary operations and involutions\u001b[0m\n",
      "\u001b[34;1mfloat_inv........\u001b[0mNumber....2..\u001b[35;4mInvolutions\u001b[0m\n",
      "\u001b[34;1mfloat_max........\u001b[0mNumber....2..\u001b[35;4mFloat binary operations and involutions\u001b[0m\n",
      "\u001b[34;1mfloat_min........\u001b[0mNumber....2..\u001b[35;4mFloat binary operations and involutions\u001b[0m\n",
      "\u001b[34;1mfloat_mult.......\u001b[0mNumber....2..\u001b[35;4mFloat binary operations and involutions\u001b[0m\n",
      "\u001b[34;1mfloat_sort.......\u001b[0mNumber....2..\u001b[35;4msorting integers or floats\u001b[0m\n",
      "\u001b[34;1mint_add..........\u001b[0mNumber....2..\u001b[35;4mInteger binary operations\u001b[0m\n",
      "\u001b[34;1mint_diff.........\u001b[0mNumber....2..\u001b[35;4mInteger binary operations\u001b[0m\n",
      "\u001b[34;1mint_inv..........\u001b[0mNumber....2..\u001b[35;4mInvolutions\u001b[0m\n",
      "\u001b[34;1mint_max..........\u001b[0mNumber....2..\u001b[35;4mInteger binary operations\u001b[0m\n",
      "\u001b[34;1mint_min..........\u001b[0mNumber....2..\u001b[35;4mInteger binary operations\u001b[0m\n",
      "\u001b[34;1mint_mult.........\u001b[0mNumber....2..\u001b[35;4mInteger binary operations\u001b[0m\n",
      "\u001b[34;1mint_sort.........\u001b[0mNumber....2..\u001b[35;4msorting integers or floats\u001b[0m\n",
      "\u001b[34;1mnat..............\u001b[0mNumber....1..\u001b[35;4mCode version of the natural numbers 0 1 2 3...\u001b[0m\n",
      "\u001b[34;1mone..............\u001b[0mNumber....1..\u001b[35;4mMakes a code 1 if the input is a single atom.  Used for counting.\u001b[0m\n",
      "\u001b[34;1mstr..............\u001b[0mNumber....1..\u001b[35;4mNatural number types and string\u001b[0m\n",
      "\u001b[34;1mdown.............\u001b[0mPath......3..\u001b[35;4mGo up/down one level in a file system\u001b[0m\n",
      "\u001b[34;1mup...............\u001b[0mPath......3..\u001b[35;4mGo up/down one level in a file system\u001b[0m\n",
      "\u001b[34;1mfirst............\u001b[0mSequence..4..\u001b[35;4mGets the A-specified leading items from input data.\u001b[0m\n",
      "\u001b[34;1mlast.............\u001b[0mSequence..4..\u001b[35;4mGets the argument-specified last items from input\u001b[0m\n",
      "\u001b[34;1mnth..............\u001b[0mSequence..1..\u001b[35;4mSelect the n'th items from input.\u001b[0m\n",
      "\u001b[34;1mpost.............\u001b[0mSequence..1..\u001b[35;4mPre and post avoids parentheses\u001b[0m\n",
      "\u001b[34;1mpre..............\u001b[0mSequence..1..\u001b[35;4mPre and post avoids parentheses\u001b[0m\n",
      "\u001b[34;1mrep..............\u001b[0mSequence..2..\u001b[35;4mRepeats the arguments for each input.\u001b[0m\n",
      "\u001b[34;1mrev..............\u001b[0mSequence..3..\u001b[35;4mReverse the order of it's input sequence.\u001b[0m\n",
      "\u001b[34;1mtail.............\u001b[0mSequence..3..\u001b[35;4mGet the tail items of a sequence.\u001b[0m\n",
      "\u001b[34;1mextra............\u001b[0mType......1..\u001b[35;4mCommon properties of multiple types\u001b[0m\n",
      "\u001b[34;1minv..............\u001b[0mType......1..\u001b[35;4mCommon properties of multiple types\u001b[0m\n",
      "\u001b[34;1mmake.............\u001b[0mType......1..\u001b[35;4mCommon properties of multiple types\u001b[0m\n",
      "\u001b[34;1mprod.............\u001b[0mType......1..\u001b[35;4mCommon properties of multiple types\u001b[0m\n",
      "\u001b[34;1msort.............\u001b[0mType......1..\u001b[35;4mCommon properties of multiple types\u001b[0m\n",
      "\u001b[34;1msum..............\u001b[0mType......1..\u001b[35;4mCommon properties of multiple types\u001b[0m\n",
      "\u001b[34;1mterm.............\u001b[0mType......1..\u001b[35;4mCommon properties of multiple types\u001b[0m\n"
     ]
    }
   ],
   "source": [
    "defs:\n"
   ]
  },
  {
   "cell_type": "code",
   "execution_count": null,
   "id": "431c7df9-10c2-45b6-adf3-4ca86eae457f",
   "metadata": {},
   "outputs": [],
   "source": []
  }
 ],
 "metadata": {
  "kernelspec": {
   "display_name": "coda",
   "language": "",
   "name": "coda"
  },
  "language_info": {
   "file_extension": ".co",
   "mimetype": "text/plain",
   "name": "Any text"
  }
 },
 "nbformat": 4,
 "nbformat_minor": 5
}
