{
 "cells": [
  {
   "cell_type": "markdown",
   "id": "143da33d-c873-447e-bd6e-668e4ccf6711",
   "metadata": {},
   "source": [
    "### Overview \n",
    "\n",
    "In this system, data is defined together with a dual concept called a \"coda.\"  \n",
    "\n",
    "* A **data** is a finite sequence of **codas**.\n",
    "* A **coda** is a pair of **data**.\n",
    "\n",
    "Given this concept of data, meaning enters by introducting \"definitions.\"\n",
    "\n",
    "* A **definition** is a partial function from coda to data. \n",
    "* A **context** is a finite collection of definitions with disjoint domains. \n",
    "\n",
    "The coda concept provides a way of defining the domain of a definition when it is introduced.  By convention a \n",
    "coda (A:B) is in the domain of f depending on the first item (if any) of the data A.  For example, the coda \n",
    "\n",
    "* rev : a b c \n",
    "\n",
    "has a definition `rev` associated with it which maps `rev : a b c` to `c b a`.  If the definition associated \n",
    "with a coda is an identity partial function, then the coda is called an **atom**.  For example, the 0 and 1 bits \n",
    "are represented as (:) and (:(:)) and both are atoms because there is an identity definition mapping any coda \n",
    "(:B) to (:B).  \n",
    "\n",
    "Given a definition f from coda to data, we can extend this to a function from data to data by defining \n",
    "\n",
    "* f(c1 c2 c3...cn) = f(c1)+f(c2)+f(c3)+...+f(cn) \n",
    "\n",
    "where c1...cn are codas, + is concatenation of data as sequences and where f(c) is taken to be the identity if c is not in the domain of f.  If we extend all definitions f like that, then, for data A and B, the relations \n",
    "\n",
    "* A B = f(A) B = A f(B)\n",
    "\n",
    "define a sequence-compatible equivalence relation on all data.  \n",
    "\n",
    "| Example Data  |  Domain  |  Meaning  |  Partial function |  \n",
    "|------:|:-------|:-------------|----------:|\n",
    "|  &#x2205;  |   &#x2205;    |   empty data   | atom |\n",
    "|  𝟬  |  &#x2205; | 0 bit | atom | \n",
    "|  𝟭  | &#x2205;  | 1 bit | atom | \n",
    "|  hello | 𝟬 | byte string | atom | \n",
    "| {rev : 1 2 3} | { | language source | compiler |\n",
    "| rev : 1 2 3 | rev | reverse operator | reverse order | \n",
    "| first 2 : a b c | first | first two items | get first two | \n",
    "| nat : 0 | nat | the natural numbers | (nat:n) -> n (nat:n+1) |\n",
    "\n",
    "A base set of definitions for simple operations like `rev`, `first` and `nat` are defined in Python source code.  These include functions which define the `{` type, creating a natural internal language which let's you use the built-in definitions and let's you add new definitions.\n",
    "\n",
    "Demos:\n",
    "1. Introduction: Data, Definition, Context and Type \n",
    "2. Using the language \n",
    "3. Python layer\n",
    "\n",
    "In practice, one rarely if ever needs to write new Python code to use the system.  Here, we show how to use the Python code in case that is needed. "
   ]
  },
  {
   "cell_type": "code",
   "execution_count": 1,
   "id": "c72baf28-e5f2-4ae0-bdb5-54483aeaf5d4",
   "metadata": {},
   "outputs": [],
   "source": [
    "from base import *   # base system"
   ]
  },
  {
   "cell_type": "code",
   "execution_count": 2,
   "id": "93eb6e4d-44cf-4923-8667-cdc2f5a512aa",
   "metadata": {},
   "outputs": [
    {
     "ename": "AttributeError",
     "evalue": "'data' object has no attribute 'type'",
     "output_type": "error",
     "traceback": [
      "\u001b[0;31m---------------------------------------------------------------------------\u001b[0m",
      "\u001b[0;31mAttributeError\u001b[0m                            Traceback (most recent call last)",
      "Cell \u001b[0;32mIn[2], line 5\u001b[0m\n\u001b[1;32m      1\u001b[0m \u001b[38;5;66;03m#\u001b[39;00m\n\u001b[1;32m      2\u001b[0m \u001b[38;5;66;03m#    First, let's make z the empty data...\u001b[39;00m\n\u001b[1;32m      3\u001b[0m \u001b[38;5;66;03m#\u001b[39;00m\n\u001b[1;32m      4\u001b[0m z \u001b[38;5;241m=\u001b[39m data()\n\u001b[0;32m----> 5\u001b[0m \u001b[38;5;28mprint\u001b[39m(\u001b[38;5;28mrepr\u001b[39m(z),z,\u001b[43mz\u001b[49m\u001b[38;5;241;43m.\u001b[39;49m\u001b[43mtype\u001b[49m(),z\u001b[38;5;241m.\u001b[39matom())\n",
      "\u001b[0;31mAttributeError\u001b[0m: 'data' object has no attribute 'type'"
     ]
    }
   ],
   "source": [
    "#\n",
    "#    First, let's make z the empty data...\n",
    "#\n",
    "z = data()\n",
    "print(repr(z),z,z.type(),z.atom())"
   ]
  },
  {
   "cell_type": "code",
   "execution_count": 3,
   "id": "c151d02c-6983-4b43-aaaa-350d061eb6f8",
   "metadata": {},
   "outputs": [
    {
     "name": "stdout",
     "output_type": "stream",
     "text": [
      "𝟬 ∅ True\n",
      "𝟭 ∅ True\n"
     ]
    }
   ],
   "source": [
    "#\n",
    "#   Let's make a little function for convenient display \n",
    "#\n",
    "def dis(*D): \n",
    "    for d in D: print(d,d.type(),d.atom()) \n",
    "#\n",
    "#... repr(z) displays z as pure data.  Usually str(z) or print(z) is more readable.\n",
    "#\n",
    "#    Given z, we can define the zero and 1 bits \n",
    "#\n",
    "bit_0 = z|z\n",
    "bit_1 = z|(z|z)\n",
    "dis(bit_0,bit_1)"
   ]
  },
  {
   "cell_type": "markdown",
   "id": "d1a4bf22-c082-40f2-b389-cf8bda5410cb",
   "metadata": {},
   "source": [
    "\n",
    "\n"
   ]
  },
  {
   "cell_type": "code",
   "execution_count": 4,
   "id": "a22c704d-720b-427e-80d1-31c715653dd5",
   "metadata": {},
   "outputs": [
    {
     "name": "stdout",
     "output_type": "stream",
     "text": [
      "(Hello World) 𝟬 True\n"
     ]
    }
   ],
   "source": [
    "#\n",
    "#   A convenience function co makes data from code, i.e. from unicode strings.\n",
    "#\n",
    "D = co('Hello World')\n",
    "dis(D)"
   ]
  },
  {
   "cell_type": "code",
   "execution_count": 5,
   "id": "fce7d86c-946a-4e28-9e04-2eac113ab10c",
   "metadata": {
    "tags": []
   },
   "outputs": [
    {
     "name": "stdout",
     "output_type": "stream",
     "text": [
      "H ∅ True\n",
      "e ∅ True\n",
      "l ∅ True\n",
      "l ∅ True\n",
      "o ∅ True\n",
      "  ∅ True\n",
      "W ∅ True\n",
      "o ∅ True\n",
      "r ∅ True\n",
      "l ∅ True\n",
      "d ∅ True\n"
     ]
    }
   ],
   "source": [
    "#\n",
    "#  Everything is data, so text Hello World is a sequence...\n",
    "#\n",
    "for d in D: dis(d)"
   ]
  },
  {
   "cell_type": "code",
   "execution_count": 6,
   "id": "14837a83-683d-4a1d-b100-fa34d821880a",
   "metadata": {},
   "outputs": [
    {
     "name": "stdout",
     "output_type": "stream",
     "text": [
      "𝟬 ∅ True\n",
      "𝟭 ∅ True\n",
      "𝟬 ∅ True\n",
      "𝟬 ∅ True\n",
      "𝟭 ∅ True\n",
      "𝟬 ∅ True\n",
      "𝟬 ∅ True\n",
      "𝟬 ∅ True\n"
     ]
    }
   ],
   "source": [
    "#\n",
    "#...And character H is a sequence\n",
    "#\n",
    "for d in D[0]: dis(d)"
   ]
  },
  {
   "cell_type": "code",
   "execution_count": 7,
   "id": "0999cfa4-7979-4af8-a463-29c03f99376d",
   "metadata": {},
   "outputs": [
    {
     "name": "stdout",
     "output_type": "stream",
     "text": [
      "∅ ∅ True\n",
      "∅ ∅ True\n"
     ]
    }
   ],
   "source": [
    "#\n",
    "#...And the bits in H are sequences too\n",
    "#\n",
    "for d in D[0][1]: dis(d)"
   ]
  },
  {
   "cell_type": "code",
   "execution_count": 8,
   "id": "16544e0b-2dd6-48d7-b39a-30d972641255",
   "metadata": {},
   "outputs": [
    {
     "data": {
      "text/plain": [
       "∅,𝟬,𝟭"
      ]
     },
     "execution_count": 8,
     "metadata": {},
     "output_type": "execute_result"
    }
   ],
   "source": [
    "#\n",
    "#   The context referred to above is available in Python as an object CONTEXT in the base system\n",
    "#\n",
    "#   Initially, CONTEXT will have just definitions for data with types empty, 0 and 1 bits. That's what allowed us to make the character data above.\n",
    "#\n",
    "CONTEXT"
   ]
  },
  {
   "cell_type": "code",
   "execution_count": 9,
   "id": "3d4f0756-b182-47a4-a63f-64476c12eb2e",
   "metadata": {},
   "outputs": [
    {
     "data": {
      "text/plain": [
       "∅,𝟬,𝟭,(pass),(null),(rev),(nat),{"
      ]
     },
     "execution_count": 9,
     "metadata": {},
     "output_type": "execute_result"
    }
   ],
   "source": [
    "#\n",
    "#...To add the rest of the built-in definitions import the builtin module.\n",
    "#\n",
    "import builtin\n",
    "CONTEXT"
   ]
  },
  {
   "cell_type": "code",
   "execution_count": 10,
   "id": "7b1d397e-b594-4104-96e2-f94461fb32fe",
   "metadata": {},
   "outputs": [
    {
     "name": "stdout",
     "output_type": "stream",
     "text": [
      "(((nat))(0)) (nat) False\n"
     ]
    },
    {
     "data": {
      "text/plain": [
       "True"
      ]
     },
     "execution_count": 10,
     "metadata": {},
     "output_type": "execute_result"
    }
   ],
   "source": [
    "#\n",
    "#   You can create data with the contructor data.  Here is data that has type (nat). \n",
    "#\n",
    "D = data(data(co('nat')),co('0'))\n",
    "dis(D)\n",
    "D in CONTEXT"
   ]
  },
  {
   "cell_type": "code",
   "execution_count": 11,
   "id": "f959cb8b-6a60-48ac-88d7-168003ae82d2",
   "metadata": {},
   "outputs": [
    {
     "name": "stdout",
     "output_type": "stream",
     "text": [
      "((((rev))(a)(b)(c))) ((rev)) False\n"
     ]
    }
   ],
   "source": [
    "D = col('rev',[co('a'),co('b'),co('c')])\n",
    "dis(D)"
   ]
  },
  {
   "cell_type": "code",
   "execution_count": 12,
   "id": "5ce46280-5592-4069-9ff4-9abb0fb55e45",
   "metadata": {},
   "outputs": [
    {
     "name": "stdout",
     "output_type": "stream",
     "text": [
      "((((rev))(b)(c))(((rev))(a))) ((rev)) False\n"
     ]
    }
   ],
   "source": [
    "D = CONTEXT(D); dis(D)"
   ]
  },
  {
   "cell_type": "code",
   "execution_count": 13,
   "id": "5dbc32f8-8d1b-45c3-9565-753830f19a98",
   "metadata": {},
   "outputs": [
    {
     "name": "stdout",
     "output_type": "stream",
     "text": [
      "((((nat))(0))) ((nat)) False\n"
     ]
    }
   ],
   "source": [
    "E = col('nat',[co('0')])\n",
    "dis(E)"
   ]
  },
  {
   "cell_type": "code",
   "execution_count": 14,
   "id": "12ddb42d-8a1a-4ade-9913-301751ed29ef",
   "metadata": {},
   "outputs": [
    {
     "name": "stdout",
     "output_type": "stream",
     "text": [
      "((0)(((nat))(1))) 0 False\n"
     ]
    }
   ],
   "source": [
    "E = CONTEXT(E); dis(E)"
   ]
  },
  {
   "cell_type": "code",
   "execution_count": 15,
   "id": "7d004067-7a18-4772-9ead-d83ea27ea3ce",
   "metadata": {},
   "outputs": [
    {
     "data": {
      "text/plain": [
       "2"
      ]
     },
     "execution_count": 15,
     "metadata": {},
     "output_type": "execute_result"
    }
   ],
   "source": [
    "len(E)"
   ]
  },
  {
   "cell_type": "code",
   "execution_count": 16,
   "id": "79a210ee-8c7d-4dca-83b2-2faf8d5d0a89",
   "metadata": {},
   "outputs": [
    {
     "name": "stdout",
     "output_type": "stream",
     "text": [
      "{ ∅ True\n"
     ]
    }
   ],
   "source": [
    "dis(data(co('{abc}')).type())"
   ]
  },
  {
   "cell_type": "code",
   "execution_count": 17,
   "id": "aaff1a80-53fd-4d9d-9a79-f6387396b42c",
   "metadata": {},
   "outputs": [
    {
     "data": {
      "text/plain": [
       "∅,𝟬,𝟭,(pass),(null),(rev),(nat),{"
      ]
     },
     "execution_count": 17,
     "metadata": {},
     "output_type": "execute_result"
    }
   ],
   "source": [
    "CONTEXT"
   ]
  },
  {
   "cell_type": "code",
   "execution_count": 18,
   "id": "32a748fe-f4c8-45dc-a14e-67ed7c13e519",
   "metadata": {},
   "outputs": [],
   "source": [
    "source = co('{hello}')"
   ]
  },
  {
   "cell_type": "code",
   "execution_count": 19,
   "id": "4f74d6f1-96b5-4cea-9d07-a50980d92012",
   "metadata": {},
   "outputs": [
    {
     "name": "stdout",
     "output_type": "stream",
     "text": [
      "{ ∅ True\n",
      "h ∅ True\n",
      "e ∅ True\n",
      "l ∅ True\n",
      "l ∅ True\n",
      "o ∅ True\n",
      "} ∅ True\n"
     ]
    }
   ],
   "source": [
    "for s in source: dis(s)"
   ]
  },
  {
   "cell_type": "code",
   "execution_count": 20,
   "id": "338d597a-3259-4178-b2c0-483c0f00f78b",
   "metadata": {},
   "outputs": [],
   "source": [
    "D = data(source)"
   ]
  },
  {
   "cell_type": "code",
   "execution_count": 21,
   "id": "ec5824aa-af1d-48a2-8555-98dc7284b83c",
   "metadata": {},
   "outputs": [
    {
     "name": "stdout",
     "output_type": "stream",
     "text": [
      "(({hello})) { False\n"
     ]
    }
   ],
   "source": [
    "dis(D)"
   ]
  },
  {
   "cell_type": "code",
   "execution_count": 22,
   "id": "a1e02cf4-75c9-4d4e-8fa1-e8c8df3926ec",
   "metadata": {},
   "outputs": [
    {
     "data": {
      "text/plain": [
       "True"
      ]
     },
     "execution_count": 22,
     "metadata": {},
     "output_type": "execute_result"
    }
   ],
   "source": [
    "D in CONTEXT"
   ]
  },
  {
   "cell_type": "code",
   "execution_count": 23,
   "id": "68409f6f-1c25-4b65-b3df-f51d072499df",
   "metadata": {},
   "outputs": [
    {
     "name": "stdout",
     "output_type": "stream",
     "text": [
      "aaaaa (hello}) ∅ (hello})\n",
      "((({hello}))) ({hello}) False\n"
     ]
    }
   ],
   "source": [
    "dis(CONTEXT(data(D)))"
   ]
  },
  {
   "cell_type": "code",
   "execution_count": null,
   "id": "24a2ffdd-2fd6-4bd9-9098-a773d1ce9c3f",
   "metadata": {},
   "outputs": [],
   "source": []
  },
  {
   "cell_type": "code",
   "execution_count": null,
   "id": "87c91980-a847-43e7-bd83-0b54207a4832",
   "metadata": {},
   "outputs": [],
   "source": []
  }
 ],
 "metadata": {
  "kernelspec": {
   "display_name": "Python 3 (ipykernel)",
   "language": "python",
   "name": "python3"
  },
  "language_info": {
   "codemirror_mode": {
    "name": "ipython",
    "version": 3
   },
   "file_extension": ".py",
   "mimetype": "text/x-python",
   "name": "python",
   "nbconvert_exporter": "python",
   "pygments_lexer": "ipython3",
   "version": "3.10.7"
  }
 },
 "nbformat": 4,
 "nbformat_minor": 5
}
