{
 "cells": [
  {
   "cell_type": "code",
   "execution_count": 8,
   "id": "cad7e26d-bb2d-4134-93d1-222398ea73a8",
   "metadata": {},
   "outputs": [
    {
     "name": "stdout",
     "output_type": "stream",
     "text": []
    }
   ],
   "source": [
    "Def Z : is | -"
   ]
  },
  {
   "cell_type": "code",
   "execution_count": 6,
   "id": "31416f01-613f-4a20-99b3-f1076fc1fa8f",
   "metadata": {},
   "outputs": [
    {
     "name": "stdout",
     "output_type": "stream",
     "text": []
    }
   ],
   "source": [
    "Def neg : ap {fun (bin |:-) (bin -:|) : B}\n",
    "Def red : while {rem | -:rem - |:B} "
   ]
  },
  {
   "cell_type": "code",
   "execution_count": 12,
   "id": "92db390b-696b-45ca-9f11-4ab601a0a0e5",
   "metadata": {},
   "outputs": [
    {
     "name": "stdout",
     "output_type": "stream",
     "text": [
      "-"
     ]
    }
   ],
   "source": [
    "red : Z : (Z: a b d | ) (Z:| | - - - -) "
   ]
  },
  {
   "cell_type": "code",
   "execution_count": 22,
   "id": "a612402a-ea72-4798-a9e3-f1ab180442d9",
   "metadata": {},
   "outputs": [
    {
     "name": "stdout",
     "output_type": "stream",
     "text": [
      "| | | | |"
     ]
    }
   ],
   "source": [
    "map (bin {le | | |:B}:frontstrip |) : | | | | | | "
   ]
  },
  {
   "cell_type": "code",
   "execution_count": 61,
   "id": "aa91f929-e047-4fb0-8005-31833b2151ec",
   "metadata": {},
   "outputs": [
    {
     "name": "stdout",
     "output_type": "stream",
     "text": [
      "4"
     ]
    }
   ],
   "source": [
    "count : map (bin le | | | | : frontstrip | ) (bin (not*(le | | | |)) :pass) : | | | | |"
   ]
  },
  {
   "cell_type": "code",
   "execution_count": 62,
   "id": "a59585af-a0c6-42e5-b80f-9170c2840310",
   "metadata": {},
   "outputs": [
    {
     "name": "stdout",
     "output_type": "stream",
     "text": []
    }
   ],
   "source": [
    "Def M1 : while map (bin le | | | | : frontstrip | ) (bin (not*(le | | | |)) :pass)"
   ]
  },
  {
   "cell_type": "code",
   "execution_count": 64,
   "id": "62bbae51-28d7-4f01-8f84-2026babaaf4e",
   "metadata": {},
   "outputs": [
    {
     "name": "stdout",
     "output_type": "stream",
     "text": []
    }
   ],
   "source": [
    "Def M : {while map (bin le A : frontstrip B) (bin (not*(le A)):pass)} "
   ]
  },
  {
   "cell_type": "code",
   "execution_count": 68,
   "id": "93713318-f95e-44b0-896b-0fa3912bb829",
   "metadata": {},
   "outputs": [
    {
     "name": "stdout",
     "output_type": "stream",
     "text": [
      "| |"
     ]
    }
   ],
   "source": [
    "(M | | | : | | ) : | | | | | | | |"
   ]
  },
  {
   "cell_type": "code",
   "execution_count": 84,
   "id": "f6e6c73b-e59d-4bf9-9a79-214c3274870e",
   "metadata": {},
   "outputs": [
    {
     "name": "stdout",
     "output_type": "stream",
     "text": [
      "|"
     ]
    }
   ],
   "source": [
    "(M | | : | |) : rep 13 : | "
   ]
  },
  {
   "cell_type": "code",
   "execution_count": 88,
   "id": "5a126278-2bf6-4f2b-ad38-e1a0f6e300f6",
   "metadata": {},
   "outputs": [
    {
     "name": "stdout",
     "output_type": "stream",
     "text": []
    }
   ],
   "source": [
    "Let TT : ap {(:rep B:|)} : first 20 : nat : 0"
   ]
  },
  {
   "cell_type": "code",
   "execution_count": 91,
   "id": "36bbe4b3-edfc-47fa-9515-196c5740effd",
   "metadata": {},
   "outputs": [
    {
     "name": "stdout",
     "output_type": "stream",
     "text": [
      "(defaultTime:60)"
     ]
    }
   ],
   "source": [
    "defaultTime:60"
   ]
  },
  {
   "cell_type": "code",
   "execution_count": 94,
   "id": "212a80b7-20f8-4ede-9486-e4b5de527bee",
   "metadata": {},
   "outputs": [
    {
     "name": "stdout",
     "output_type": "stream",
     "text": []
    }
   ],
   "source": [
    "Def spec : ap {:A:get:B} "
   ]
  },
  {
   "cell_type": "code",
   "execution_count": 93,
   "id": "2f1b01f6-e4f7-4d0b-aa66-d1bc6af34291",
   "metadata": {},
   "outputs": [
    {
     "name": "stdout",
     "output_type": "stream",
     "text": [
      "◎ (:|) (:| |) ◎ (:|) (:| |) ◎ (:|) (:| |) ◎ (:|) (:| |) ◎ (:|) (:| |) ◎ (:|) (:| |) ◎ (:|)"
     ]
    }
   ],
   "source": [
    "ap {:A:get:B} (M | | |:| | |) : TT?"
   ]
  },
  {
   "cell_type": "code",
   "execution_count": 113,
   "id": "d291f25f-ee00-4430-be2f-bf847b912061",
   "metadata": {},
   "outputs": [
    {
     "name": "stdout",
     "output_type": "stream",
     "text": [
      " ◎ \n",
      " (:|) \n",
      " (:| |) \n",
      " (:| | |) \n",
      " (:| | | |) \n",
      " ◎ \n",
      " (:|) \n",
      " (:| |) \n",
      " (:| | |) \n",
      " (:| | | |) \n",
      " ◎ \n",
      " (:|) \n",
      " (:| |) \n",
      " (:| | |) \n",
      " (:| | | |) \n",
      " ◎ \n",
      " (:|) \n",
      " (:| |) \n",
      " (:| | |) \n",
      " (:| | | |) \n"
     ]
    }
   ],
   "source": [
    "tab : spec (M | | | | | : | | | | | ) : TT?"
   ]
  },
  {
   "cell_type": "code",
   "execution_count": 104,
   "id": "897cc7ef-48e6-48ab-80e8-e01506ee4c13",
   "metadata": {},
   "outputs": [
    {
     "name": "stdout",
     "output_type": "stream",
     "text": []
    }
   ],
   "source": [
    "Def N : M | | | | | : | | | "
   ]
  },
  {
   "cell_type": "code",
   "execution_count": 105,
   "id": "bc860082-1143-4800-b751-63f907c90397",
   "metadata": {},
   "outputs": [
    {
     "name": "stdout",
     "output_type": "stream",
     "text": [
      " ◎ \n",
      " (:|) \n",
      " (:| |) \n",
      " (:| | |) \n",
      " (:| | | |) \n",
      " (:| |) \n",
      " (:| | |) \n",
      " (:| | | |) \n",
      " (:| |) \n",
      " (:| | |) \n",
      " (:| | | |) \n",
      " (:| |) \n",
      " (:| | |) \n",
      " (:| | | |) \n",
      " (:| |) \n",
      " (:| | |) \n",
      " (:| | | |) \n",
      " (:| |) \n",
      " (:| | |) \n",
      " (:| | | |) \n"
     ]
    }
   ],
   "source": [
    "tab : spec N : TT?"
   ]
  },
  {
   "cell_type": "code",
   "execution_count": 110,
   "id": "0ca1619f-22f2-4e03-ab1c-4f6dcbc239ba",
   "metadata": {},
   "outputs": [
    {
     "name": "stdout",
     "output_type": "stream",
     "text": [
      "| |\n",
      "| |\n",
      "| |"
     ]
    }
   ],
   "source": [
    "N : | | | | | \n",
    "N : (N : | |) (N : | | ) (N:|)\n",
    "N : (N:|) (N:|) (N:) (N:|) (N:|) (N:|)"
   ]
  },
  {
   "cell_type": "code",
   "execution_count": 3,
   "id": "ca9a14c9-fcb9-42ff-8637-38202beb17fe",
   "metadata": {},
   "outputs": [
    {
     "name": "stdout",
     "output_type": "stream",
     "text": [
      "| | |"
     ]
    }
   ],
   "source": [
    "while {rem | - : rem - |:B} : | | | - - - - | | | | "
   ]
  },
  {
   "cell_type": "code",
   "execution_count": null,
   "id": "aaae0653-c2af-4616-90d0-3ccf44a34046",
   "metadata": {},
   "outputs": [],
   "source": [
    "ap map (bin (:| |):|) (bin (:- -):-) : by 2 : | | | - - - - "
   ]
  },
  {
   "cell_type": "code",
   "execution_count": null,
   "id": "03b9d25b-68c6-45e7-8f7f-dcfc1d19e44e",
   "metadata": {},
   "outputs": [],
   "source": [
    "map (bin (:| |):|) (bin (:- -):-) : a b c "
   ]
  },
  {
   "cell_type": "code",
   "execution_count": null,
   "id": "48be1581-f819-4453-a7ab-a3c09e71b230",
   "metadata": {},
   "outputs": [],
   "source": [
    "help : grp"
   ]
  },
  {
   "cell_type": "code",
   "execution_count": null,
   "id": "32a6e0c0-1597-484b-a3ed-c9b1a22be71f",
   "metadata": {},
   "outputs": [],
   "source": [
    "grp x x : a b c d e "
   ]
  },
  {
   "cell_type": "code",
   "execution_count": null,
   "id": "befe67d4-4f46-4318-9e6b-26d8128249bd",
   "metadata": {},
   "outputs": [],
   "source": []
  },
  {
   "cell_type": "code",
   "execution_count": null,
   "id": "26262cb4-f219-49de-9be4-97a52d9a1f8d",
   "metadata": {},
   "outputs": [],
   "source": []
  }
 ],
 "metadata": {
  "kernelspec": {
   "display_name": "coda",
   "language": "",
   "name": "coda"
  },
  "language_info": {
   "file_extension": ".co",
   "mimetype": "text/plain",
   "name": "Any text"
  }
 },
 "nbformat": 4,
 "nbformat_minor": 5
}
