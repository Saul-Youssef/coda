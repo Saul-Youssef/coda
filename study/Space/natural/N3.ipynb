{
 "cells": [
  {
   "cell_type": "code",
   "execution_count": null,
   "id": "e37f8a4e-2990-4e5a-a8dd-263d59120c11",
   "metadata": {},
   "outputs": [],
   "source": [
    "defaultTime:1000"
   ]
  },
  {
   "cell_type": "code",
   "execution_count": 2,
   "id": "33a8a405-66d2-4959-938d-907121dbf70a",
   "metadata": {},
   "outputs": [
    {
     "name": "stdout",
     "output_type": "stream",
     "text": []
    }
   ],
   "source": [
    "import : dir co : up : ."
   ]
  },
  {
   "cell_type": "code",
   "execution_count": 3,
   "id": "19779349-91be-440a-b388-61572c559910",
   "metadata": {},
   "outputs": [
    {
     "name": "stdout",
     "output_type": "stream",
     "text": []
    }
   ],
   "source": [
    "Def N : (front | | |) * (ap const |) "
   ]
  },
  {
   "cell_type": "code",
   "execution_count": 4,
   "id": "c1c79277-d745-44d7-89cf-92469473c9c1",
   "metadata": {},
   "outputs": [
    {
     "name": "stdout",
     "output_type": "stream",
     "text": []
    }
   ],
   "source": [
    "N : "
   ]
  },
  {
   "cell_type": "code",
   "execution_count": 5,
   "id": "21d74564-ce31-4be3-87ea-d58e5c3633d4",
   "metadata": {},
   "outputs": [
    {
     "name": "stdout",
     "output_type": "stream",
     "text": [
      "| | |\n",
      "| | |\n",
      "| | |"
     ]
    }
   ],
   "source": [
    "N : a b c \n",
    "N : N : a b c \n",
    "N : (N : a) (N : b c) "
   ]
  },
  {
   "cell_type": "code",
   "execution_count": 6,
   "id": "fe3cf5bf-735c-494d-88a0-9f375f06df81",
   "metadata": {},
   "outputs": [
    {
     "name": "stdout",
     "output_type": "stream",
     "text": []
    }
   ],
   "source": [
    "Def e : end N "
   ]
  },
  {
   "cell_type": "code",
   "execution_count": 7,
   "id": "76020c26-ba19-4a9a-a80a-40c453ee7af4",
   "metadata": {},
   "outputs": [
    {
     "name": "stdout",
     "output_type": "stream",
     "text": [
      "| | |"
     ]
    }
   ],
   "source": [
    "(e:pass) : | | | | | |"
   ]
  },
  {
   "cell_type": "code",
   "execution_count": 8,
   "id": "34b2f8c8-fcc7-4042-a09e-18541e70f138",
   "metadata": {},
   "outputs": [
    {
     "name": "stdout",
     "output_type": "stream",
     "text": []
    }
   ],
   "source": [
    "Let Domain : (:) (:|) (:| |) (:| | |)"
   ]
  },
  {
   "cell_type": "code",
   "execution_count": 9,
   "id": "de0bc2fb-e99d-447b-a222-5a26a9a7205c",
   "metadata": {},
   "outputs": [
    {
     "name": "stdout",
     "output_type": "stream",
     "text": [
      "256"
     ]
    }
   ],
   "source": [
    "count : permutation 4 : Domain?"
   ]
  },
  {
   "cell_type": "code",
   "execution_count": 10,
   "id": "542daf96-752d-4f5b-acb7-0ef6c99ce235",
   "metadata": {},
   "outputs": [
    {
     "name": "stdout",
     "output_type": "stream",
     "text": []
    }
   ],
   "source": [
    "Def F : {(if (B):(get:nth 1:A)) (if (B=|):(get:nth 2:A)) (if (B=(| |)):(get:nth 3:A)) (if (B=(| | |)):(get:nth 4:A))}"
   ]
  },
  {
   "cell_type": "code",
   "execution_count": 11,
   "id": "e36bd82e-5efa-4f8b-b3da-e40dc9338823",
   "metadata": {},
   "outputs": [
    {
     "name": "stdout",
     "output_type": "stream",
     "text": [
      "a\n",
      "b\n",
      "c\n",
      "d"
     ]
    }
   ],
   "source": [
    "F (:a) (:b) (:c) (:d): \n",
    "F (:a) (:b) (:c) (:d): | \n",
    "F (:a) (:b) (:c) (:d): | |  \n",
    "F (:a) (:b) (:c) (:d): | | | "
   ]
  },
  {
   "cell_type": "code",
   "execution_count": 12,
   "id": "9b04e6ae-fca0-4eef-88f3-3949b4798855",
   "metadata": {},
   "outputs": [
    {
     "name": "stdout",
     "output_type": "stream",
     "text": []
    }
   ],
   "source": [
    "Let Endomorphisms : ap {:F (get:B)} : permutation 4 : Domain?"
   ]
  },
  {
   "cell_type": "code",
   "execution_count": 13,
   "id": "d136e15f-3076-42dd-ba8d-18005f05dda0",
   "metadata": {},
   "outputs": [
    {
     "name": "stdout",
     "output_type": "stream",
     "text": [
      "256"
     ]
    }
   ],
   "source": [
    "count : Endomorphisms?"
   ]
  },
  {
   "cell_type": "code",
   "execution_count": 14,
   "id": "a6eaabd5-89bf-4483-b3d5-f3b151649cdb",
   "metadata": {
    "tags": []
   },
   "outputs": [
    {
     "name": "stdout",
     "output_type": "stream",
     "text": []
    }
   ],
   "source": [
    "#dom 100 : ap {with (get:B) : bool : idempotent (e:get:B) : Domain?} : Endomorphisms?"
   ]
  },
  {
   "cell_type": "code",
   "execution_count": 15,
   "id": "020a9732-b995-4d16-b552-c74f710f668a",
   "metadata": {},
   "outputs": [
    {
     "name": "stdout",
     "output_type": "stream",
     "text": []
    }
   ],
   "source": [
    "Let Idempotents : ap {if (right:B):(:arg:B)} : dom 100 : ap {with (get:B) : bool : idempotent (e:get:B) : Domain?} : Endomorphisms?"
   ]
  },
  {
   "cell_type": "code",
   "execution_count": 16,
   "id": "36fe2166-2219-4fc2-ad00-ed25fe84295e",
   "metadata": {},
   "outputs": [
    {
     "name": "stdout",
     "output_type": "stream",
     "text": [
      "41"
     ]
    }
   ],
   "source": [
    "count : Idempotents?"
   ]
  },
  {
   "cell_type": "code",
   "execution_count": 17,
   "id": "5c40c73f-7296-46bf-ace1-a78f1979fe90",
   "metadata": {
    "tags": []
   },
   "outputs": [
    {
     "name": "stdout",
     "output_type": "stream",
     "text": [
      " (:F ◎ ◎ ◎ ◎) \n",
      " (:F ◎ ◎ ◎ (:| | |)) \n",
      " (:F ◎ ◎ (:| |) ◎) \n",
      " (:F ◎ ◎ (:| |) (:| |)) \n",
      " (:F ◎ ◎ (:| |) (:| | |)) \n",
      " (:F ◎ ◎ (:| | |) (:| | |)) \n",
      " (:F ◎ (:|) ◎ ◎) \n",
      " (:F ◎ (:|) ◎ (:|)) \n",
      " (:F ◎ (:|) ◎ (:| | |)) \n",
      " (:F ◎ (:|) (:|) ◎) \n",
      " (:F ◎ (:|) (:|) (:|)) \n",
      " (:F ◎ (:|) (:|) (:| | |)) \n",
      " (:F ◎ (:|) (:| |) ◎) \n",
      " (:F ◎ (:|) (:| |) (:|)) \n",
      " (:F ◎ (:|) (:| |) (:| |)) \n",
      " (:F ◎ (:|) (:| |) (:| | |)) \n",
      " (:F ◎ (:|) (:| | |) (:| | |)) \n",
      " (:F ◎ (:| |) (:| |) ◎) \n",
      " (:F ◎ (:| |) (:| |) (:| |)) \n",
      " (:F ◎ (:| |) (:| |) (:| | |)) \n",
      " (:F ◎ (:| | |) ◎ (:| | |)) \n",
      " (:F ◎ (:| | |) (:| |) (:| | |)) \n",
      " (:F ◎ (:| | |) (:| | |) (:| | |)) \n",
      " (:F (:|) (:|) (:|) (:|)) \n",
      " (:F (:|) (:|) (:|) (:| | |)) \n",
      " (:F (:|) (:|) (:| |) (:|)) \n",
      " (:F (:|) (:|) (:| |) (:| |)) \n",
      " (:F (:|) (:|) (:| |) (:| | |)) \n",
      " (:F (:|) (:|) (:| | |) (:| | |)) \n",
      " (:F (:| |) (:|) (:| |) (:|)) \n",
      " (:F (:| |) (:|) (:| |) (:| |)) \n",
      " (:F (:| |) (:|) (:| |) (:| | |)) \n",
      " (:F (:| |) (:| |) (:| |) (:| |)) \n",
      " (:F (:| |) (:| |) (:| |) (:| | |)) \n",
      " (:F (:| |) (:| | |) (:| |) (:| | |)) \n",
      " (:F (:| | |) (:|) (:|) (:| | |)) \n",
      " (:F (:| | |) (:|) (:| |) (:| | |)) \n",
      " (:F (:| | |) (:|) (:| | |) (:| | |)) \n",
      " (:F (:| | |) (:| |) (:| |) (:| | |)) \n",
      " (:F (:| | |) (:| | |) (:| |) (:| | |)) \n",
      " (:F (:| | |) (:| | |) (:| | |) (:| | |)) \n"
     ]
    }
   ],
   "source": [
    "tab : Idempotents?"
   ]
  },
  {
   "cell_type": "code",
   "execution_count": 22,
   "id": "f3818f1e-12ed-4c8f-a198-62fc9e464dee",
   "metadata": {
    "tags": []
   },
   "outputs": [
    {
     "name": "stdout",
     "output_type": "stream",
     "text": []
    }
   ],
   "source": [
    "write N3.spaces 1000 : dom 1000 : ap {with (get:B) : bool : ap preSpace (e:get:B) : permutation 2 : Domain?} : Idempotents?"
   ]
  },
  {
   "cell_type": "code",
   "execution_count": 23,
   "id": "9b57bfc8-fc13-42bd-bdd1-5a9d486327c9",
   "metadata": {},
   "outputs": [
    {
     "name": "stdout",
     "output_type": "stream",
     "text": [
      " (with F ◎ ◎ ◎ ◎:) \n",
      " (with F ◎ (:|) (:|) (:|):) \n",
      " (with F ◎ (:|) (:| |) (:| |):) \n",
      " (with F ◎ (:|) (:| |) (:| | |):) \n",
      " (with F ◎ (:|) (:| | |) (:| | |):) \n",
      " (with F ◎ (:| |) (:| |) (:| |):) \n",
      " (with F ◎ (:| | |) (:| | |) (:| | |):) \n",
      " (with F (:|) (:|) (:|) (:|):) \n",
      " (with F (:| |) (:| |) (:| |) (:| |):) \n",
      " (with F (:| | |) (:| | |) (:| | |) (:| | |):) \n"
     ]
    }
   ],
   "source": [
    "tab : ap {if (right:B):B} : read : N3.spaces "
   ]
  },
  {
   "cell_type": "code",
   "execution_count": 28,
   "id": "f087657d-583b-4753-922c-c51cfd643b8b",
   "metadata": {},
   "outputs": [
    {
     "name": "stdout",
     "output_type": "stream",
     "text": []
    }
   ],
   "source": [
    "ap preSpace (e:F (:) (:|) (:|) (:|)) : permutation 2 : Domain?"
   ]
  },
  {
   "cell_type": "code",
   "execution_count": 32,
   "id": "f7c1123b-6ad3-4053-a95b-c4960611198e",
   "metadata": {},
   "outputs": [
    {
     "name": "stdout",
     "output_type": "stream",
     "text": [
      "|"
     ]
    }
   ],
   "source": [
    "ap preSpace (e:F (:) (:| |) (:| |) (:| | |)) : permutation 2 : Domain?"
   ]
  },
  {
   "cell_type": "code",
   "execution_count": 34,
   "id": "5646204e-d707-47c0-aa9d-9355a944ed89",
   "metadata": {},
   "outputs": [
    {
     "name": "stdout",
     "output_type": "stream",
     "text": []
    }
   ],
   "source": [
    "ap preSpace (e:F (:) (:|) (:|) (:|)) : permutation 2 : Domain?"
   ]
  },
  {
   "cell_type": "code",
   "execution_count": null,
   "id": "30f17b1d-ebd0-459c-901d-fb4d40cf2c22",
   "metadata": {},
   "outputs": [],
   "source": []
  }
 ],
 "metadata": {
  "kernelspec": {
   "display_name": "coda",
   "language": "",
   "name": "coda"
  },
  "language_info": {
   "file_extension": ".co",
   "mimetype": "text/plain",
   "name": "Any text"
  }
 },
 "nbformat": 4,
 "nbformat_minor": 5
}
