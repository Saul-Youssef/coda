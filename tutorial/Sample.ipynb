{
 "cells": [
  {
   "cell_type": "markdown",
   "id": "cb495b81-3c39-45b9-9f59-de8be85b63cb",
   "metadata": {},
   "source": [
    "## Sampling the space of pure data \n",
    "\n"
   ]
  },
  {
   "cell_type": "markdown",
   "id": "860acdb4-9d93-497e-9d09-5022f77ead13",
   "metadata": {},
   "source": [
    "One easy way to produce sample data is with **rep** which repeats it's arguments once for each input atom..."
   ]
  },
  {
   "cell_type": "code",
   "execution_count": 1,
   "id": "5a6d76de-ae50-4243-a6b5-173bc6cd2852",
   "metadata": {},
   "outputs": [
    {
     "name": "stdout",
     "output_type": "stream",
     "text": [
      "a a a a\n",
      "a b a b a b a b\n",
      "◎ ◎ ◎ ◎"
     ]
    }
   ],
   "source": [
    "rep a : 1 2 3 4 \n",
    "rep a b : 1 2 3 4 \n",
    "rep (:) : 1 2 3 4 "
   ]
  },
  {
   "cell_type": "markdown",
   "id": "a07b75d3-10cb-4d19-92e9-3fd88fb45305",
   "metadata": {},
   "source": [
    "In most sampling situations, we'll want some specified collection d1, d2, d3,.... where d1, d2, d3 are each data.  To produce a sequence like that, you don't want to produce d1 d2 d3 because concatenation destroys the sequence.  Instead, an easy solution is to produce a sequence \n",
    "\n",
    "* (:d1) (:d2) (:d3)\n",
    "\n",
    "where each data in the collection has it's own container.  We'll do a bit of this by hand..."
   ]
  },
  {
   "cell_type": "code",
   "execution_count": 2,
   "id": "075d5f8e-da63-4ad4-b4e7-2732baab880c",
   "metadata": {},
   "outputs": [
    {
     "name": "stdout",
     "output_type": "stream",
     "text": [
      "(:x y z) (:a b c)"
     ]
    }
   ],
   "source": [
    "(put : x y z ) (put : a b c )"
   ]
  },
  {
   "cell_type": "code",
   "execution_count": 4,
   "id": "58bf9d24-244b-4bcf-b0a0-b0e41deb8fe7",
   "metadata": {},
   "outputs": [
    {
     "name": "stdout",
     "output_type": "stream",
     "text": []
    }
   ],
   "source": [
    "Def repn : {rep A : first B : nat : 0} "
   ]
  },
  {
   "cell_type": "code",
   "execution_count": 5,
   "id": "e806c2a4-ca20-4b71-9049-d6e59fad4fee",
   "metadata": {},
   "outputs": [
    {
     "name": "stdout",
     "output_type": "stream",
     "text": [
      "a a a a a"
     ]
    }
   ],
   "source": [
    "repn a : 5 "
   ]
  },
  {
   "cell_type": "code",
   "execution_count": 6,
   "id": "e75f8acc-496e-4ce2-813b-3bc2adc7445d",
   "metadata": {},
   "outputs": [
    {
     "name": "stdout",
     "output_type": "stream",
     "text": [
      "a a a a a"
     ]
    }
   ],
   "source": [
    "eval : repn a : 5"
   ]
  },
  {
   "cell_type": "code",
   "execution_count": 7,
   "id": "3dd09049-0151-41bd-ae0f-6185a69930d7",
   "metadata": {},
   "outputs": [
    {
     "name": "stdout",
     "output_type": "stream",
     "text": [
      "◎ (:a) (:a a) (:a a a) (:a a a a)"
     ]
    }
   ],
   "source": [
    "ap {put : repn a:B} : first 5 : nat : 0 "
   ]
  },
  {
   "cell_type": "markdown",
   "id": "06f85e5b-3167-4c80-a618-315a317c616f",
   "metadata": {},
   "source": [
    "For convenience, **sample.odd** and **sample.even** produces even and odd sequences of the simplest atom (:) (\"Hydrogen\"), packaged as above..."
   ]
  },
  {
   "cell_type": "code",
   "execution_count": 8,
   "id": "16d9dd05-9b1c-46bb-89b1-01ef01b21185",
   "metadata": {},
   "outputs": [
    {
     "name": "stdout",
     "output_type": "stream",
     "text": [
      "(sample.odd:({ 4}:))\n",
      "(sample.even:({ 4}:))"
     ]
    }
   ],
   "source": [
    "sample.odd : 4 \n",
    "sample.even : 4"
   ]
  },
  {
   "cell_type": "markdown",
   "id": "1a375534-5abc-4518-926c-930d7784bc74",
   "metadata": {},
   "source": [
    "The **sample.pure** operator lets one sample the whole space of pure data via \n",
    "\n",
    "* sample.pure : width depth \n",
    "\n",
    "where **width** is the maximum data length and **depth** is the maximum depth.  For example..."
   ]
  },
  {
   "cell_type": "code",
   "execution_count": null,
   "id": "7939c7d8-4ff0-43f1-8a45-3309a1ab0b05",
   "metadata": {},
   "outputs": [],
   "source": [
    "#\n",
    "#  sample.pure : <width> <depth> \n",
    "#\n",
    "sample.pure : 2 2 "
   ]
  },
  {
   "cell_type": "markdown",
   "id": "d29e73bd-5a15-4c3f-81d5-49de6113e75a",
   "metadata": {},
   "source": [
    "The direct approach is rarely useful because the universe of pure data grows enormously rapidly with **width** and **depth**.  So much so that\n",
    "\n",
    "* sample.pure : 2 3 \n",
    "\n",
    "is already challenging for a laptop.  \n",
    "\n",
    "### Size of sample.pure versus width and depth:\n",
    "\n",
    "|         | width 1  | width 2 | width 3 | width 4  | width 5 |\n",
    "|---------|---------:|--------:|--------:|---------:|--------:|\n",
    "|depth 1  |    2     |    3    |    4    |     5    |    6    |\n",
    "|depth 2  |    5     |     91   |    4369   |   406,901    |    62,193,781    |\n",
    "|depth 3  |    26     |     68,583,243   |    ?    |     ?    |    ?    |\n",
    "|depth 4  |    677     |     ?   |    ?    |     ?    |    ?    |\n",
    "|depth 5  |    458,330     |     ?   |    ?    |     ?    |    ?    |"
   ]
  },
  {
   "cell_type": "markdown",
   "id": "74c5b1d4-41ec-4167-ac3b-9848da6e9f50",
   "metadata": {},
   "source": [
    "### Practical searching \n",
    "\n",
    "Although **sample.pure** samples all pure data and, therefore, all mathematical objects, these samples are typically far too huge to be practically helpful.  Instead, the operator **sample.data** is much more practical.  This operation works by providing a sequence of codas and a width.\n",
    "\n",
    "* sample.data <...sequence of codas..> : width \n",
    "\n",
    "A few examples will illustrate. "
   ]
  },
  {
   "cell_type": "code",
   "execution_count": null,
   "id": "65606b46-1287-4abb-b922-342c006bb61e",
   "metadata": {},
   "outputs": [],
   "source": [
    "#\n",
    "#   Just one argument coda \"a\" and width <= 5 gives \n",
    "#\n",
    "sample.data a : 5 "
   ]
  },
  {
   "cell_type": "code",
   "execution_count": null,
   "id": "79e6c97f-9ff3-4756-8b5c-75e2f1008cf1",
   "metadata": {},
   "outputs": [],
   "source": [
    "#\n",
    "#   Note that the sample is delivered, as usual, as (:data1) (:data2) ... \n",
    "#\n",
    "#   If you provide two codas, a and b, all permutations are included. \n",
    "#\n",
    "sample.data a b : 5"
   ]
  },
  {
   "cell_type": "code",
   "execution_count": null,
   "id": "69870386-210d-48b9-b2d2-c5c184c2ea88",
   "metadata": {},
   "outputs": [],
   "source": [
    "#\n",
    "#   Including the coda <{$}> generates source code intermixed with permutations of the other coda\n",
    "#   that you prescribe. \n",
    "#\n",
    "sample.data <A> <B> <{$}> a : 3"
   ]
  },
  {
   "cell_type": "code",
   "execution_count": null,
   "id": "889b9f68-04bb-472a-b6f4-09eafa7d8b27",
   "metadata": {},
   "outputs": [],
   "source": [
    "#\n",
    "#   One can add some chosen number of \"variables\" \n",
    "#\n",
    "sample.data <A> <B> <{$}> x? y? (x:) : 2 "
   ]
  },
  {
   "cell_type": "code",
   "execution_count": null,
   "id": "85363d1f-0261-410d-a16e-333e09c5ab5f",
   "metadata": {},
   "outputs": [],
   "source": [
    "#\n",
    "#   To meaningfully search, one should add domains representing established definitions.  To do this, first see \n",
    "#   all currently available definitions like so...\n",
    "#\n",
    "defs:"
   ]
  },
  {
   "cell_type": "code",
   "execution_count": null,
   "id": "09fc2c9a-d9d3-44d9-af3c-62c1e16859f9",
   "metadata": {},
   "outputs": [],
   "source": [
    "#\n",
    "#    Each definition is in a \"module\" which is either a python file (.py) or a coda file (.co). \n",
    "#\n",
    "module : defs:"
   ]
  },
  {
   "cell_type": "code",
   "execution_count": null,
   "id": "92b373f7-5be7-4738-bb3c-b41e99287a3d",
   "metadata": {},
   "outputs": [],
   "source": [
    "#\n",
    "#    Typically one would want some but not all definitions for a search.  For instance, one typically doesn't want to search \n",
    "#    over IO operations or Sample operations (to avoid recursion) or over help system operations.  A typical choice is...\n",
    "#\n",
    "defs : Apply Basic Logic Number Sequence  "
   ]
  },
  {
   "cell_type": "code",
   "execution_count": null,
   "id": "09850719-7520-48a2-bf40-fff6aabdc5ee",
   "metadata": {
    "tags": []
   },
   "outputs": [],
   "source": [
    "#\n",
    "#    To create a typical sample, we start with A, B and {$} for language purposes, add a few \"variables\" (x? y? z?) and \n",
    "#    mix in the above definitions. \n",
    "#    \n",
    "let sample : sample.data <A> <B> <{$}> (defs:Apply Basic Logic Number Sequence) : 2 \n",
    "sample?"
   ]
  },
  {
   "cell_type": "code",
   "execution_count": null,
   "id": "5bdbe692-f37a-4121-aec5-75af22cbc55a",
   "metadata": {},
   "outputs": [],
   "source": [
    "#\n",
    "#   sample? is then a collection of data that can be used, for instance, to test for theorems or search for \n",
    "#   algebraic structures of interest, as shown in study tutorials. \n",
    "#\n",
    "count : sample? \n",
    "undefined : sample?"
   ]
  },
  {
   "cell_type": "markdown",
   "id": "48b98844-2d76-4057-8827-80519f471fb5",
   "metadata": {},
   "source": [
    "For larger scale searching, one would typically increase from width=2 and search in parallel and, perhaps add more variables.\n",
    "\n",
    "This can be useful for theorem testing and for searching for algebraic structures of interest as illustrated in the theorem tutorial and in various study notebooks. "
   ]
  },
  {
   "cell_type": "code",
   "execution_count": null,
   "id": "b2925b26-aed6-4366-9377-d46976470cd9",
   "metadata": {},
   "outputs": [],
   "source": [
    "def idempotent : { (B:x?)=(B:B:x?) } "
   ]
  },
  {
   "cell_type": "code",
   "execution_count": null,
   "id": "7c7cc0a3-b94d-4bfd-b024-53f9c871dc12",
   "metadata": {},
   "outputs": [],
   "source": [
    "let 1 : ap put : defs : Apply Basic Logic Number Sequence"
   ]
  },
  {
   "cell_type": "code",
   "execution_count": null,
   "id": "9d3ec17d-df75-4384-a699-6b5c2af5d4c8",
   "metadata": {},
   "outputs": [],
   "source": [
    "let atoms : sample.atom : 10 "
   ]
  },
  {
   "cell_type": "code",
   "execution_count": null,
   "id": "1b5b27df-97db-42e5-9ab2-6c7ca17a938d",
   "metadata": {},
   "outputs": [],
   "source": [
    "atoms?"
   ]
  },
  {
   "cell_type": "code",
   "execution_count": null,
   "id": "3dd01e6f-e28a-4190-aedd-c6f3cf24c5e9",
   "metadata": {},
   "outputs": [],
   "source": [
    "1?"
   ]
  },
  {
   "cell_type": "code",
   "execution_count": null,
   "id": "c914bfe2-cc29-4671-b9cb-cbe1c9392ad6",
   "metadata": {},
   "outputs": [],
   "source": [
    "count : 1?"
   ]
  },
  {
   "cell_type": "code",
   "execution_count": null,
   "id": "65589a88-4fac-484c-9180-9c5a582edf86",
   "metadata": {},
   "outputs": [],
   "source": [
    "idempotent : bool"
   ]
  },
  {
   "cell_type": "code",
   "execution_count": null,
   "id": "021a8d3d-86f9-43b0-a139-88a8aa4e7c3b",
   "metadata": {},
   "outputs": [],
   "source": [
    "ap {put bin : idempotent : right : B} : nth 2 : 1?"
   ]
  },
  {
   "cell_type": "code",
   "execution_count": null,
   "id": "c4e58050-ef84-4b60-8c97-a2d49bbd2b44",
   "metadata": {},
   "outputs": [],
   "source": [
    "nth 60 : 1? "
   ]
  },
  {
   "cell_type": "code",
   "execution_count": null,
   "id": "9d56ee89-ab2c-4d29-95aa-88ee05d690f8",
   "metadata": {},
   "outputs": [],
   "source": [
    "ap {put bin : idempotent : right : B} : nth 64 : 1?"
   ]
  },
  {
   "cell_type": "code",
   "execution_count": null,
   "id": "6c21c6a6-6c78-481e-9c34-1dc4373b6b79",
   "metadata": {},
   "outputs": [],
   "source": [
    "nth 64 : 1?"
   ]
  },
  {
   "cell_type": "code",
   "execution_count": null,
   "id": "9c544b76-2acb-4dcf-b890-45fabcfcf44f",
   "metadata": {},
   "outputs": [],
   "source": [
    "step 30 : idempotent : while "
   ]
  },
  {
   "cell_type": "code",
   "execution_count": null,
   "id": "4a5e2232-6cc8-4d1c-a585-f3fa80242584",
   "metadata": {},
   "outputs": [],
   "source": [
    "getDefaultDepth:2"
   ]
  },
  {
   "cell_type": "code",
   "execution_count": null,
   "id": "e06adce3-d14e-4834-9cc3-c654afaa5170",
   "metadata": {},
   "outputs": [],
   "source": []
  }
 ],
 "metadata": {
  "kernelspec": {
   "display_name": "coda",
   "language": "",
   "name": "coda"
  },
  "language_info": {
   "file_extension": ".co",
   "mimetype": "text/plain",
   "name": "Any text"
  }
 },
 "nbformat": 4,
 "nbformat_minor": 5
}
