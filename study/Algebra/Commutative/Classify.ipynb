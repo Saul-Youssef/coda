{
 "cells": [
  {
   "cell_type": "markdown",
   "id": "f7b0e5cc-6b0a-4088-a763-d04006d8ce82",
   "metadata": {},
   "source": [
    "## Reducing the Candidates\n",
    "\n",
    "We have collected all 742 commutative candidates from S6.  The issue in this notebook is how many of these are equivalent to each other? "
   ]
  },
  {
   "cell_type": "code",
   "execution_count": 1,
   "id": "e7597dd2-79a1-4259-9711-15a2e1aa46cd",
   "metadata": {},
   "outputs": [
    {
     "name": "stdout",
     "output_type": "stream",
     "text": [
      "(defaultTime:100)"
     ]
    }
   ],
   "source": [
    "defaultTime:100"
   ]
  },
  {
   "cell_type": "code",
   "execution_count": 2,
   "id": "f724113b-a2b9-40e1-8310-ebf322c9fae4",
   "metadata": {},
   "outputs": [
    {
     "name": "stdout",
     "output_type": "stream",
     "text": [
      "step> step:4, time:99.99/100.00, GB:0.08/2.00, context:136, cache:32\n"
     ]
    }
   ],
   "source": [
    "log : step"
   ]
  },
  {
   "cell_type": "code",
   "execution_count": 3,
   "id": "58b528ad-292c-498d-9d83-ddde9c4060f7",
   "metadata": {},
   "outputs": [
    {
     "name": "stdout",
     "output_type": "stream",
     "text": [
      "step> step:64, time:82.78/100.00, GB:0.26/2.00, context:137, cache:1834\n"
     ]
    }
   ],
   "source": [
    "Let Candidates : ap {:arg:B} : in : endswith -300 : dir : ."
   ]
  },
  {
   "cell_type": "code",
   "execution_count": 4,
   "id": "7fedc843-4f3d-47f1-b8d8-7105ddc92f2c",
   "metadata": {},
   "outputs": [
    {
     "name": "stdout",
     "output_type": "stream",
     "text": [
      "step> step:7, time:99.75/100.00, GB:0.26/2.00, context:137, cache:2355\n",
      "742"
     ]
    }
   ],
   "source": [
    "count : Candidates?"
   ]
  },
  {
   "cell_type": "code",
   "execution_count": 5,
   "id": "230882e8-3a2b-4882-8dae-ef74fb2c18d2",
   "metadata": {},
   "outputs": [
    {
     "name": "stdout",
     "output_type": "stream",
     "text": [
      "step> step:15, time:99.42/100.00, GB:0.26/2.00, context:137, cache:2414\n",
      "(:{is : B} A) \n",
      " (:{sum : B} nif) \n",
      " (:put {sum : B}) \n",
      " (:has null) \n",
      " (:if {B : nif}) \n",
      " (:get has) \n",
      " (:{has : B} has) \n",
      " (:if domain) \n",
      " (:if {put B}) \n",
      " (:has {domain : B}) \n"
     ]
    }
   ],
   "source": [
    "ap post <\\n> : first 10 : Candidates? "
   ]
  },
  {
   "cell_type": "code",
   "execution_count": 6,
   "id": "88ff83c6-2259-4156-9c09-a0b052f74319",
   "metadata": {},
   "outputs": [
    {
     "name": "stdout",
     "output_type": "stream",
     "text": [
      "step> step:146, time:85.06/100.00, GB:0.17/2.00, context:181, cache:777\n",
      "step> step:3, time:81.92/100.00, GB:0.17/2.00, context:181, cache:2420\n"
     ]
    }
   ],
   "source": [
    "eval 100 : import : dir co : up : up : ."
   ]
  },
  {
   "cell_type": "code",
   "execution_count": 7,
   "id": "a8266721-6ae0-44ae-8e9f-9192e094d25d",
   "metadata": {},
   "outputs": [
    {
     "name": "stdout",
     "output_type": "stream",
     "text": [
      "step> step:2, time:100.00/100.00, GB:0.17/2.00, context:181, cache:2423\n",
      "(Class:)"
     ]
    }
   ],
   "source": [
    "Class?"
   ]
  },
  {
   "cell_type": "code",
   "execution_count": 8,
   "id": "385fc774-5765-4647-b37d-925f654cae96",
   "metadata": {},
   "outputs": [
    {
     "name": "stdout",
     "output_type": "stream",
     "text": [
      "step> step:63, time:8805.89/10000.00, GB:0.89/2.00, context:182, cache:19508\n",
      "step> step:3, time:-1094.18/100.00, GB:0.65/2.00, context:182, cache:2429\n"
     ]
    }
   ],
   "source": [
    "eval 10000 : Let Class : classify S6? : Candidates?"
   ]
  },
  {
   "cell_type": "code",
   "execution_count": null,
   "id": "f62a1b76-9fab-4e84-a507-ca99d017e566",
   "metadata": {},
   "outputs": [],
   "source": [
    "eval 50000 : Let Class2 : classify S6? S2? : Candidates?"
   ]
  },
  {
   "cell_type": "code",
   "execution_count": 11,
   "id": "fe5f72d8-45b2-47a7-b659-315f9c45ff75",
   "metadata": {},
   "outputs": [
    {
     "name": "stdout",
     "output_type": "stream",
     "text": [
      "step> step:0, time:100.00/100.00, GB:0.65/2.00, context:182, cache:2511\n",
      "76"
     ]
    }
   ],
   "source": [
    "count : Class?"
   ]
  },
  {
   "cell_type": "code",
   "execution_count": 14,
   "id": "ac55125e-0369-4bfc-ac4d-f255d1c9ccd8",
   "metadata": {},
   "outputs": [
    {
     "name": "stdout",
     "output_type": "stream",
     "text": [
      "step> step:0, time:100.00/100.00, GB:0.65/2.00, context:182, cache:2517\n",
      "(defaultTime:100)"
     ]
    }
   ],
   "source": [
    "defaultTime:100"
   ]
  },
  {
   "cell_type": "code",
   "execution_count": 20,
   "id": "55b182bd-b496-4270-99fd-8cd27190eb49",
   "metadata": {},
   "outputs": [
    {
     "name": "stdout",
     "output_type": "stream",
     "text": [
      "(:◎ ◎) (:◎ a) (:◎ b) (:◎ 0) (:◎ 1) (:◎ (bin:a)) (:◎ (bin 1 2:a b)) (:◎ (bin a:(bin b:1 2))) (:a ◎) (:a a) (:a b) (:a 0) (:a 1) (:a (bin:a)) (:a (bin 1 2:a b)) (:a (bin a:(bin b:1 2))) (:b ◎) (:b a) (:b b) (:b 0) (:b 1) (:b (bin:a)) (:b (bin 1 2:a b)) (:b (bin a:(bin b:1 2))) (:0 ◎) (:0 a) (:0 b) (:0 0) (:0 1) (:0 (bin:a)) (:0 (bin 1 2:a b)) (:0 (bin a:(bin b:1 2))) (:1 ◎) (:1 a) (:1 b) (:1 0) (:1 1) (:1 (bin:a)) (:1 (bin 1 2:a b)) (:1 (bin a:(bin b:1 2))) (:(bin:a) ◎) (:(bin:a) a) (:(bin:a) b) (:(bin:a) 0) (:(bin:a) 1) (:(bin:a) (bin:a)) (:(bin:a) (bin 1 2:a b)) (:(bin:a) (bin a:(bin b:1 2))) (:(bin 1 2:a b) ◎) (:(bin 1 2:a b) a) (:(bin 1 2:a b) b) (:(bin 1 2:a b) 0) (:(bin 1 2:a b) 1) (:(bin 1 2:a b) (bin:a)) (:(bin 1 2:a b) (bin 1 2:a b)) (:(bin 1 2:a b) (bin a:(bin b:1 2))) (:(bin a:(bin b:1 2)) ◎) (:(bin a:(bin b:1 2)) a) (:(bin a:(bin b:1 2)) b) (:(bin a:(bin b:1 2)) 0) (:(bin a:(bin b:1 2)) 1) (:(bin a:(bin b:1 2)) (bin:a)) (:(bin a:(bin b:1 2)) (bin 1 2:a b)) (:(bin a:(bin b:1 2)) (bin a:(bin b:1 2)))"
     ]
    }
   ],
   "source": [
    "S2?"
   ]
  },
  {
   "cell_type": "code",
   "execution_count": 18,
   "id": "010d169d-19e4-4803-a69b-0da7ddf85067",
   "metadata": {},
   "outputs": [
    {
     "name": "stdout",
     "output_type": "stream",
     "text": [
      "639 \n",
      " 1 \n",
      " 1 \n",
      " 2 \n",
      " 3 \n",
      " 2 \n",
      " 1 \n",
      " 2 \n",
      " 2 \n",
      " 2 \n",
      " 3 \n",
      " 1 \n",
      " 1 \n",
      " 1 \n",
      " 1 \n",
      " 1 \n",
      " 1 \n",
      " 3 \n",
      " 3 \n",
      " 1 \n",
      " 1 \n",
      " 2 \n",
      " 1 \n",
      " 1 \n",
      " 1 \n",
      " 1 \n",
      " 1 \n",
      " 1 \n",
      " 1 \n",
      " 1 \n",
      " 2 \n",
      " 1 \n",
      " 2 \n",
      " 3 \n",
      " 1 \n",
      " 1 \n",
      " 1 \n",
      " 1 \n",
      " 2 \n",
      " 1 \n",
      " 2 \n",
      " 1 \n",
      " 2 \n",
      " 1 \n",
      " 2 \n",
      " 1 \n",
      " 1 \n",
      " 1 \n",
      " 2 \n",
      " 1 \n",
      " 1 \n",
      " 1 \n",
      " 1 \n",
      " 1 \n",
      " 2 \n",
      " 1 \n",
      " 2 \n",
      " 2 \n",
      " 1 \n",
      " 1 \n",
      " 2 \n",
      " 1 \n",
      " 1 \n",
      " 1 \n",
      " 1 \n",
      " 2 \n",
      " 1 \n",
      " 1 \n",
      " 1 \n",
      " 1 \n",
      " 1 \n",
      " 1 \n",
      " 1 \n",
      " 1 \n",
      " 1 \n",
      " 1 \n"
     ]
    }
   ],
   "source": [
    "ap post <\\n> : arg : Class?"
   ]
  },
  {
   "cell_type": "code",
   "execution_count": 25,
   "id": "c6259af4-2131-4b66-b7e8-7422e4b265fc",
   "metadata": {},
   "outputs": [
    {
     "name": "stdout",
     "output_type": "stream",
     "text": [
      "76"
     ]
    }
   ],
   "source": [
    "count : Class?"
   ]
  },
  {
   "cell_type": "code",
   "execution_count": 27,
   "id": "05539046-2bf0-40d7-be80-ac61e9244aef",
   "metadata": {},
   "outputs": [
    {
     "name": "stdout",
     "output_type": "stream",
     "text": []
    }
   ],
   "source": [
    "out Class : Class?"
   ]
  },
  {
   "cell_type": "code",
   "execution_count": 24,
   "id": "abbd7cba-acee-45b5-871c-54e445a0bbd4",
   "metadata": {},
   "outputs": [
    {
     "name": "stdout",
     "output_type": "stream",
     "text": []
    }
   ],
   "source": [
    "out Class2 : Class2?"
   ]
  },
  {
   "cell_type": "code",
   "execution_count": null,
   "id": "ce31d4ec-b0f1-4317-b8a6-186a08403ce3",
   "metadata": {},
   "outputs": [],
   "source": []
  }
 ],
 "metadata": {
  "kernelspec": {
   "display_name": "coda",
   "language": "",
   "name": "coda"
  },
  "language_info": {
   "file_extension": ".co",
   "mimetype": "text/plain",
   "name": "Any text"
  }
 },
 "nbformat": 4,
 "nbformat_minor": 5
}
