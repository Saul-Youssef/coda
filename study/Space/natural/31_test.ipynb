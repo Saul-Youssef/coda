{
 "cells": [
  {
   "cell_type": "code",
   "execution_count": 1,
   "id": "67438f4b-bc15-49ba-b1f4-bbdfb0eda880",
   "metadata": {},
   "outputs": [
    {
     "data": {
      "text/plain": [
       "1"
      ]
     },
     "execution_count": 1,
     "metadata": {},
     "output_type": "execute_result"
    }
   ],
   "source": [
    "4%3"
   ]
  },
  {
   "cell_type": "code",
   "execution_count": 2,
   "id": "22e22d1f-438c-427d-b8aa-7abf65ab1c08",
   "metadata": {},
   "outputs": [],
   "source": [
    "def F311(n):\n",
    "    if n%3==0: return 3 \n",
    "    if n%3==1: return 1\n",
    "    if n%3==2: return 1\n",
    "def F313(n):\n",
    "    if n%3==0: return 3\n",
    "    if n%3==1: return 1\n",
    "    if n%3==2: return 3\n",
    "def F331(n):\n",
    "    if n%3==0: return 3\n",
    "    if n%3==1: return 3\n",
    "    if n%3==2: return 1"
   ]
  },
  {
   "cell_type": "code",
   "execution_count": 3,
   "id": "3bd60b6d-eb23-4c7f-ac7b-b00e56b2e2f7",
   "metadata": {},
   "outputs": [],
   "source": [
    "def Idempotent(n,F):\n",
    "    r = []\n",
    "    for i in range(n):\n",
    "        if not F(F(n))==F(n): r.append(n)\n",
    "    return r\n",
    "def Space(n,F):\n",
    "    r = []\n",
    "    for i in range(n):\n",
    "        for j in range(n):\n",
    "            if not F(i+j)==F(F(i)+F(j)): r.append((i,j,))\n",
    "    return r "
   ]
  },
  {
   "cell_type": "code",
   "execution_count": 9,
   "id": "2a64c980-190d-4a84-8fc0-862c8ec6e911",
   "metadata": {},
   "outputs": [
    {
     "name": "stdout",
     "output_type": "stream",
     "text": [
      "[] [] []\n"
     ]
    }
   ],
   "source": [
    "print(Idempotent(10,F311),Idempotent(10,F313),Idempotent(10,F331))"
   ]
  },
  {
   "cell_type": "code",
   "execution_count": 13,
   "id": "85081e27-a1d9-4924-92e4-78205331378b",
   "metadata": {},
   "outputs": [
    {
     "data": {
      "text/plain": [
       "[(0, 2), (1, 1), (1, 4), (2, 0), (2, 2), (2, 3), (3, 2), (4, 1), (4, 4)]"
      ]
     },
     "execution_count": 13,
     "metadata": {},
     "output_type": "execute_result"
    }
   ],
   "source": [
    "Space(5,F331)"
   ]
  },
  {
   "cell_type": "code",
   "execution_count": 14,
   "id": "fe120da5-24fc-4d76-a6b6-28e7fdae93ec",
   "metadata": {},
   "outputs": [
    {
     "data": {
      "text/plain": [
       "[(1, 2), (2, 1), (2, 4), (4, 2)]"
      ]
     },
     "execution_count": 14,
     "metadata": {},
     "output_type": "execute_result"
    }
   ],
   "source": [
    "Space(5,F311)"
   ]
  },
  {
   "cell_type": "code",
   "execution_count": 15,
   "id": "40300fc8-65dd-436a-b801-62f877bf4ac4",
   "metadata": {},
   "outputs": [
    {
     "data": {
      "text/plain": [
       "[(1, 2), (2, 1), (2, 2), (2, 4), (4, 2)]"
      ]
     },
     "execution_count": 15,
     "metadata": {},
     "output_type": "execute_result"
    }
   ],
   "source": [
    "Space(5,F313)"
   ]
  },
  {
   "cell_type": "code",
   "execution_count": 18,
   "id": "2f3efbe3-c1f3-47bd-917c-4543a51f044f",
   "metadata": {},
   "outputs": [
    {
     "data": {
      "text/plain": [
       "3"
      ]
     },
     "execution_count": 18,
     "metadata": {},
     "output_type": "execute_result"
    }
   ],
   "source": [
    "F313(1+2)"
   ]
  },
  {
   "cell_type": "code",
   "execution_count": 19,
   "id": "4bb15869-a4ac-4712-b8fe-b56e5c0b2c27",
   "metadata": {},
   "outputs": [
    {
     "data": {
      "text/plain": [
       "1"
      ]
     },
     "execution_count": 19,
     "metadata": {},
     "output_type": "execute_result"
    }
   ],
   "source": [
    "F313(F313(1)+F313(2))"
   ]
  },
  {
   "cell_type": "code",
   "execution_count": 20,
   "id": "af4c8ecd-851f-4d03-89b0-8d9ff73e70bf",
   "metadata": {},
   "outputs": [
    {
     "data": {
      "text/plain": [
       "4"
      ]
     },
     "execution_count": 20,
     "metadata": {},
     "output_type": "execute_result"
    }
   ],
   "source": [
    "F313(1)+F313(2)"
   ]
  },
  {
   "cell_type": "code",
   "execution_count": 21,
   "id": "70c73155-11de-4ee3-b385-b3eb1c30dd61",
   "metadata": {},
   "outputs": [
    {
     "data": {
      "text/plain": [
       "1"
      ]
     },
     "execution_count": 21,
     "metadata": {},
     "output_type": "execute_result"
    }
   ],
   "source": [
    "F313(4)"
   ]
  },
  {
   "cell_type": "code",
   "execution_count": null,
   "id": "d669737e-5ee6-46a1-a75d-8e31cf6763a5",
   "metadata": {},
   "outputs": [],
   "source": []
  }
 ],
 "metadata": {
  "kernelspec": {
   "display_name": "Python 3 (ipykernel)",
   "language": "python",
   "name": "python3"
  },
  "language_info": {
   "codemirror_mode": {
    "name": "ipython",
    "version": 3
   },
   "file_extension": ".py",
   "mimetype": "text/x-python",
   "name": "python",
   "nbconvert_exporter": "python",
   "pygments_lexer": "ipython3",
   "version": "3.11.1"
  }
 },
 "nbformat": 4,
 "nbformat_minor": 5
}
