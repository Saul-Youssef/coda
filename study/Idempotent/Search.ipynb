{
 "cells": [
  {
   "cell_type": "markdown",
   "id": "9bf437ab-0c1d-4c9b-8234-4f1f1ca92672",
   "metadata": {},
   "source": [
    "Let's search for \"low lying\" idempotents."
   ]
  },
  {
   "cell_type": "code",
   "execution_count": 1,
   "id": "095a9796-2a4c-4c84-ba70-bd1df0c1c539",
   "metadata": {},
   "outputs": [
    {
     "name": "stdout",
     "output_type": "stream",
     "text": [
      "(defaultTime:1000)"
     ]
    }
   ],
   "source": [
    "defaultTime:1000"
   ]
  },
  {
   "cell_type": "code",
   "execution_count": 2,
   "id": "dfd94aa1-5bc1-4ddd-ac23-c0aa5fa7d340",
   "metadata": {},
   "outputs": [
    {
     "name": "stdout",
     "output_type": "stream",
     "text": [
      "= Def Let ai aj allcodes alphabet ap apby aq ar arg assign bin bool by cache.clear cache.reset cases coda codes collect common const count d2s def defaultTime defs demo depth digits dir do do1 dom domain domulti down down1 dup endswith equal equiv eval first get has hasnt head help home if import info is isnt join ker language last left let letters localdef log logging logs module more multi name nat nat_max nat_min nat_prod nat_sort nat_sum nats nchar nif not nth nth1 null once pass pause permutation plus post pow pre printable prod pure put read readpath rev right s2d sample.atom sample.data sample.even sample.odd sample.pure sample.window skip some source sources split star startswith stat stata step sum swap tab tail term text_sort theorem uni up up1 use use1 with wrap write ◎ 𝝞 𝟬"
     ]
    }
   ],
   "source": [
    "defs:"
   ]
  },
  {
   "cell_type": "code",
   "execution_count": 3,
   "id": "e535f100-010c-410f-ae26-165ad135b8f6",
   "metadata": {},
   "outputs": [
    {
     "name": "stdout",
     "output_type": "stream",
     "text": [
      "  \n",
      " Apply \n",
      " Basic \n",
      " Collect \n",
      " Define \n",
      " Evaluate \n",
      " Evaluation \n",
      " Help \n",
      " IO \n",
      " Import \n",
      " Language \n",
      " Log \n",
      " Logic \n",
      " Number \n",
      " Path \n",
      " Sample \n",
      " Search \n",
      " Sequence \n",
      " Source \n",
      " Text \n",
      " Time \n",
      " Variable \n"
     ]
    }
   ],
   "source": [
    "tab : text_sort : once : module : defs :"
   ]
  },
  {
   "cell_type": "code",
   "execution_count": 4,
   "id": "d2596991-56b5-43db-9249-97394767adf4",
   "metadata": {
    "tags": []
   },
   "outputs": [
    {
     "name": "stdout",
     "output_type": "stream",
     "text": [
      " = \n",
      " ai \n",
      " aj \n",
      " ap \n",
      " apby \n",
      " aq \n",
      " ar \n",
      " arg \n",
      " bin \n",
      " bool \n",
      " collect \n",
      " const \n",
      " depth \n",
      " domain \n",
      " equal \n",
      " equiv \n",
      " get \n",
      " has \n",
      " hasnt \n",
      " if \n",
      " is \n",
      " isnt \n",
      " ker \n",
      " left \n",
      " nat \n",
      " nat_max \n",
      " nat_min \n",
      " nat_prod \n",
      " nat_sort \n",
      " nat_sum \n",
      " nats \n",
      " nif \n",
      " not \n",
      " null \n",
      " pass \n",
      " plus \n",
      " pow \n",
      " prod \n",
      " put \n",
      " right \n",
      " some \n",
      " star \n",
      " sum \n",
      " text_sort \n"
     ]
    }
   ],
   "source": [
    "tab : defs : Apply Basic Collect Logic Number"
   ]
  },
  {
   "cell_type": "code",
   "execution_count": 5,
   "id": "8120013d-71bb-404f-b0fd-0461224faaa8",
   "metadata": {},
   "outputs": [
    {
     "name": "stdout",
     "output_type": "stream",
     "text": []
    }
   ],
   "source": [
    "import : dir co : ."
   ]
  },
  {
   "cell_type": "code",
   "execution_count": 6,
   "id": "32a9310c-bd60-425b-ac1f-bb595e046c4b",
   "metadata": {},
   "outputs": [
    {
     "name": "stdout",
     "output_type": "stream",
     "text": [
      "(:=) (:ai) (:aj) (:ap) (:apby) (:aq) (:ar) (:arg) (:bin) (:bool) (:by) (:collect) (:common) (:const) (:count) (:depth) (:domain) (:dup) (:equal) (:equiv) (:first) (:get) (:has) (:hasnt) (:head) (:if) (:is) (:isnt) (:ker) (:last) (:left) (:nat) (:nat_max) (:nat_min) (:nat_prod) (:nat_sort) (:nat_sum) (:nats) (:nif) (:not) (:nth) (:nth1) (:null) (:once) (:pass) (:plus) (:post) (:pow) (:pre) (:prod) (:put) (:rev) (:right) (:skip) (:some) (:star) (:sum) (:swap) (:tail) (:text_sort)"
     ]
    }
   ],
   "source": [
    "C1?:"
   ]
  },
  {
   "cell_type": "code",
   "execution_count": 7,
   "id": "4bf0d242-d19a-4a73-9f9f-77cb3954c1ea",
   "metadata": {},
   "outputs": [
    {
     "name": "stdout",
     "output_type": "stream",
     "text": [
      "(:a a) (:a b) (:b a) (:b b)"
     ]
    }
   ],
   "source": [
    "permutation 2 : a b "
   ]
  },
  {
   "cell_type": "code",
   "execution_count": 8,
   "id": "bfb1ea62-08ab-4f1b-82a7-1e3929502104",
   "metadata": {},
   "outputs": [
    {
     "name": "stdout",
     "output_type": "stream",
     "text": []
    }
   ],
   "source": [
    "Def IDEMP : {((get:A):(get:A):(get:B))=((get:A):(get:B))} "
   ]
  },
  {
   "cell_type": "code",
   "execution_count": 9,
   "id": "027ff5ac-6e4d-41d7-85de-2d248b1111cc",
   "metadata": {},
   "outputs": [
    {
     "name": "stdout",
     "output_type": "stream",
     "text": [
      "0\n",
      "2"
     ]
    }
   ],
   "source": [
    "count : IDEMP (:pass) : (:1 2 3)\n",
    "count : IDEMP (:rev) : (:1 2 3) "
   ]
  },
  {
   "cell_type": "code",
   "execution_count": 10,
   "id": "a58ed4f1-f325-4ebe-a31e-d6b145cd33f4",
   "metadata": {},
   "outputs": [
    {
     "name": "stdout",
     "output_type": "stream",
     "text": [
      "0\n",
      "4\n",
      "2\n",
      "0"
     ]
    }
   ],
   "source": [
    "count : ap IDEMP (:pass) : (:1 2 3) (:a b c)\n",
    "count : ap IDEMP (:rev) : (:1 2 3) (:a b c)\n",
    "count : ap IDEMP (:rev) : (:1 1 1) (:a b c)\n",
    "count : ap IDEMP (:rev) : (:1 1 1) (:a a)"
   ]
  },
  {
   "cell_type": "code",
   "execution_count": 11,
   "id": "db103b09-c153-495e-a82b-9eb526c4e82b",
   "metadata": {},
   "outputs": [
    {
     "name": "stdout",
     "output_type": "stream",
     "text": []
    }
   ],
   "source": [
    "Def SEARCH : ap {with B: count : ap IDEMP B : A} "
   ]
  },
  {
   "cell_type": "code",
   "execution_count": 12,
   "id": "4fe262a2-c387-44d6-b05a-ae4df3b6d600",
   "metadata": {},
   "outputs": [
    {
     "name": "stdout",
     "output_type": "stream",
     "text": [
      "(with (:pass):0) (with (:rev):4)"
     ]
    }
   ],
   "source": [
    "do 100 : SEARCH (:1 2 3) (:a b c) : (:pass) (:rev) "
   ]
  },
  {
   "cell_type": "code",
   "execution_count": 13,
   "id": "c321bd9a-793f-4c26-b32d-86009b181bf9",
   "metadata": {},
   "outputs": [
    {
     "name": "stdout",
     "output_type": "stream",
     "text": [
      "(:◎ ◎) (:◎ a) (:◎ b) (:◎ 0) (:◎ 1) (:◎ (bin:a)) (:◎ (bin 1 2:a b)) (:◎ (bin a:(bin b:1 2))) (:a ◎) (:a a) (:a b) (:a 0) (:a 1) (:a (bin:a)) (:a (bin 1 2:a b)) (:a (bin a:(bin b:1 2))) (:b ◎) (:b a) (:b b) (:b 0) (:b 1) (:b (bin:a)) (:b (bin 1 2:a b)) (:b (bin a:(bin b:1 2))) (:0 ◎) (:0 a) (:0 b) (:0 0) (:0 1) (:0 (bin:a)) (:0 (bin 1 2:a b)) (:0 (bin a:(bin b:1 2))) (:1 ◎) (:1 a) (:1 b) (:1 0) (:1 1) (:1 (bin:a)) (:1 (bin 1 2:a b)) (:1 (bin a:(bin b:1 2))) (:(bin:a) ◎) (:(bin:a) a) (:(bin:a) b) (:(bin:a) 0) (:(bin:a) 1) (:(bin:a) (bin:a)) (:(bin:a) (bin 1 2:a b)) (:(bin:a) (bin a:(bin b:1 2))) (:(bin 1 2:a b) ◎) (:(bin 1 2:a b) a) (:(bin 1 2:a b) b) (:(bin 1 2:a b) 0) (:(bin 1 2:a b) 1) (:(bin 1 2:a b) (bin:a)) (:(bin 1 2:a b) (bin 1 2:a b)) (:(bin 1 2:a b) (bin a:(bin b:1 2))) (:(bin a:(bin b:1 2)) ◎) (:(bin a:(bin b:1 2)) a) (:(bin a:(bin b:1 2)) b) (:(bin a:(bin b:1 2)) 0) (:(bin a:(bin b:1 2)) 1) (:(bin a:(bin b:1 2)) (bin:a)) (:(bin a:(bin b:1 2)) (bin 1 2:a b)) (:(bin a:(bin b:1 2)) (bin a:(bin b:1 2)))"
     ]
    }
   ],
   "source": [
    "S2?"
   ]
  },
  {
   "cell_type": "code",
   "execution_count": 14,
   "id": "1ed2beab-e512-457d-ac88-d7b1dd8bf35c",
   "metadata": {},
   "outputs": [
    {
     "name": "stdout",
     "output_type": "stream",
     "text": [
      "(with (:pass):0) (with (:rev):2004)"
     ]
    }
   ],
   "source": [
    "dom 100 : SEARCH S2? : (:pass) (:rev)"
   ]
  },
  {
   "cell_type": "code",
   "execution_count": 15,
   "id": "700c1598-9118-4e21-a304-a211fe0c399d",
   "metadata": {},
   "outputs": [
    {
     "name": "stdout",
     "output_type": "stream",
     "text": [
      "(:ai) (:aj) (:ap) (:apby) (:aq) (:ar) (:arg) (:bin) (:const) (:depth) (:domain) (:get) (:has) (:hasnt) (:if) (:is) (:isnt) (:ker) (:left) (:nif) (:null) (:pass) (:plus) (:pow) (:prod) (:put) (:right) (:star) (:sum)"
     ]
    }
   ],
   "source": [
    "by : defs : Basic Apply "
   ]
  },
  {
   "cell_type": "code",
   "execution_count": null,
   "id": "a21b0ec8-70bf-49bb-907a-554bd97ba210",
   "metadata": {
    "tags": []
   },
   "outputs": [],
   "source": [
    "dom 100 : SEARCH S2? : by : defs : Basic Apply "
   ]
  },
  {
   "cell_type": "code",
   "execution_count": null,
   "id": "ebadfa8e-aa0c-4672-ab3c-43f9a255f777",
   "metadata": {},
   "outputs": [],
   "source": [
    "write T1 1000 : dom 100 : SEARCH S2? : by : defs : Basic Apply "
   ]
  },
  {
   "cell_type": "code",
   "execution_count": null,
   "id": "495e085a-333b-419a-90b5-d03f022af19a",
   "metadata": {},
   "outputs": [],
   "source": []
  }
 ],
 "metadata": {
  "kernelspec": {
   "display_name": "coda",
   "language": "",
   "name": "coda"
  },
  "language_info": {
   "file_extension": ".co",
   "mimetype": "text/plain",
   "name": "Any text"
  }
 },
 "nbformat": 4,
 "nbformat_minor": 5
}
