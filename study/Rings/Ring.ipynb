{
 "cells": [
  {
   "cell_type": "code",
   "execution_count": 1,
   "id": "d90057cf-4b56-4304-9039-fe3ee427fcc5",
   "metadata": {},
   "outputs": [
    {
     "name": "stdout",
     "output_type": "stream",
     "text": []
    }
   ],
   "source": [
    "import : ."
   ]
  },
  {
   "cell_type": "code",
   "execution_count": 2,
   "id": "c31e35b1-d211-4e5c-b885-22129fa9b8ff",
   "metadata": {},
   "outputs": [
    {
     "name": "stdout",
     "output_type": "stream",
     "text": [
      "(n:1) (n:2) (n:3) (n:4)"
     ]
    }
   ],
   "source": [
    "type n : 1 2 3 4 "
   ]
  },
  {
   "cell_type": "code",
   "execution_count": 3,
   "id": "df9ca0d1-e322-4310-b77e-0bbce31de9e3",
   "metadata": {},
   "outputs": [
    {
     "name": "stdout",
     "output_type": "stream",
     "text": [
      "(n:1) (n:2) (n:3) (n:4)"
     ]
    }
   ],
   "source": [
    "pass : type n : 1 2 3 4 "
   ]
  },
  {
   "cell_type": "code",
   "execution_count": 4,
   "id": "e40ff84e-3d67-4617-b78a-ca38c5894787",
   "metadata": {},
   "outputs": [
    {
     "name": "stdout",
     "output_type": "stream",
     "text": []
    }
   ],
   "source": [
    "def ring : {ap ap2 (nth 2:A) (type (nth 1:A) :tail 2:A) : (type (nth 1:A):B)}"
   ]
  },
  {
   "cell_type": "code",
   "execution_count": 5,
   "id": "19a3ea61-fb68-4b2f-a416-fd3875ccdc17",
   "metadata": {},
   "outputs": [
    {
     "name": "stdout",
     "output_type": "stream",
     "text": [
      "(bin (n:1):(n:4)) (bin (n:2):(n:4)) (bin (n:3):(n:4)) (bin (n:1):(n:5)) (bin (n:2):(n:5)) (bin (n:3):(n:5)) (bin (n:1):(n:6)) (bin (n:2):(n:6)) (bin (n:3):(n:6))"
     ]
    }
   ],
   "source": [
    "ring n bin 1 2 3 : 4 5 6 "
   ]
  },
  {
   "cell_type": "code",
   "execution_count": 6,
   "id": "95039377-6ef8-4bdf-a8f5-7abc60f922b0",
   "metadata": {},
   "outputs": [
    {
     "name": "stdout",
     "output_type": "stream",
     "text": [
      "(pro (n:1):(n:4)) (pro (n:2):(n:4)) (pro (n:3):(n:4)) (pro (n:1):(n:5)) (pro (n:2):(n:5)) (pro (n:3):(n:5)) (pro (n:1):(n:6)) (pro (n:2):(n:6)) (pro (n:3):(n:6))"
     ]
    }
   ],
   "source": [
    "ring n pro 1 2 3 : 4 5 6"
   ]
  },
  {
   "cell_type": "code",
   "execution_count": 7,
   "id": "ddf66588-3cf4-4963-9deb-6c89f370a414",
   "metadata": {},
   "outputs": [
    {
     "name": "stdout",
     "output_type": "stream",
     "text": []
    }
   ],
   "source": [
    "let type n2 : {ring n pro A : B} "
   ]
  },
  {
   "cell_type": "code",
   "execution_count": 10,
   "id": "7be00462-c271-4bd5-b15c-4f06942eaa28",
   "metadata": {},
   "outputs": [
    {
     "name": "stdout",
     "output_type": "stream",
     "text": [
      "(pro (n:1):(n:3)) (pro (n:2):(n:3)) (pro (n:3):(n:3)) (pro (n:1):(n:4)) (pro (n:2):(n:4)) (pro (n:3):(n:4)) (pro (n:1):(n:5)) (pro (n:2):(n:5)) (pro (n:3):(n:5))"
     ]
    }
   ],
   "source": [
    "{ring n pro A : B} 1 2 3 : 3 4 5 "
   ]
  },
  {
   "cell_type": "code",
   "execution_count": 11,
   "id": "a951b0c3-b5a7-4649-9be7-025ede97c3de",
   "metadata": {},
   "outputs": [
    {
     "name": "stdout",
     "output_type": "stream",
     "text": [
      "(pro n:(n:1) (n:1)) (pro n:(n:2) (n:2))"
     ]
    }
   ],
   "source": [
    "Product n pass pass : type n : 1 2 "
   ]
  },
  {
   "cell_type": "code",
   "execution_count": 12,
   "id": "329d51f0-e75c-432e-a2b1-05c1092b60ed",
   "metadata": {},
   "outputs": [
    {
     "name": "stdout",
     "output_type": "stream",
     "text": []
    }
   ],
   "source": [
    "type n : "
   ]
  },
  {
   "cell_type": "code",
   "execution_count": 13,
   "id": "65b6da8b-e098-45df-8648-9eb3ef3539b5",
   "metadata": {},
   "outputs": [
    {
     "name": "stdout",
     "output_type": "stream",
     "text": [
      "(n:0)"
     ]
    }
   ],
   "source": [
    "type n : 0"
   ]
  },
  {
   "cell_type": "code",
   "execution_count": 14,
   "id": "fb996876-f768-41ba-9652-542c6897acf4",
   "metadata": {},
   "outputs": [
    {
     "name": "stdout",
     "output_type": "stream",
     "text": [
      "(n:0)"
     ]
    }
   ],
   "source": [
    "type n : 0 ()"
   ]
  },
  {
   "cell_type": "code",
   "execution_count": 1,
   "id": "47df3982-5c0d-46e6-a9fd-3573f701a5c6",
   "metadata": {},
   "outputs": [
    {
     "name": "stdout",
     "output_type": "stream",
     "text": []
    }
   ],
   "source": [
    "let foo bar : 1 2 3 4"
   ]
  },
  {
   "cell_type": "code",
   "execution_count": 10,
   "id": "b6dbe0d8-bcf9-4c81-8c4f-ae09bc265670",
   "metadata": {},
   "outputs": [
    {
     "name": "stdout",
     "output_type": "stream",
     "text": [
      "𝝞 𝝞 𝝞 𝝞"
     ]
    }
   ],
   "source": [
    "domain : (?:foo bar)"
   ]
  },
  {
   "cell_type": "code",
   "execution_count": 3,
   "id": "816d7e26-bf8f-4a6e-b84c-e7d6ff725b79",
   "metadata": {},
   "outputs": [
    {
     "name": "stdout",
     "output_type": "stream",
     "text": [
      "𝝞"
     ]
    }
   ],
   "source": [
    "domain : x"
   ]
  },
  {
   "cell_type": "code",
   "execution_count": 4,
   "id": "3938f525-412d-4259-bad0-f035e101f79d",
   "metadata": {},
   "outputs": [
    {
     "name": "stdout",
     "output_type": "stream",
     "text": [
      "◎"
     ]
    }
   ],
   "source": [
    "domain : domain : x"
   ]
  },
  {
   "cell_type": "code",
   "execution_count": 5,
   "id": "10348c23-f4be-4e58-8c59-9fc4dffc3c36",
   "metadata": {},
   "outputs": [
    {
     "name": "stdout",
     "output_type": "stream",
     "text": []
    }
   ],
   "source": [
    "domain : domain : domain : x"
   ]
  },
  {
   "cell_type": "code",
   "execution_count": 6,
   "id": "0ba3b975-9f9f-4d3d-9ec0-e460778a8754",
   "metadata": {},
   "outputs": [
    {
     "name": "stdout",
     "output_type": "stream",
     "text": [
      "(domain:(?:x))"
     ]
    }
   ],
   "source": [
    "domain : x?"
   ]
  },
  {
   "cell_type": "code",
   "execution_count": 7,
   "id": "5cd27575-ef1f-4a55-aa48-80e4bc88d329",
   "metadata": {},
   "outputs": [
    {
     "name": "stdout",
     "output_type": "stream",
     "text": []
    }
   ],
   "source": [
    "domain : (?:a)"
   ]
  },
  {
   "cell_type": "code",
   "execution_count": 12,
   "id": "03f6f3bf-67a0-4521-b3ac-48d4e27f518e",
   "metadata": {},
   "outputs": [
    {
     "name": "stdout",
     "output_type": "stream",
     "text": []
    }
   ],
   "source": [
    "let v : x? y? = y? x?"
   ]
  },
  {
   "cell_type": "code",
   "execution_count": 13,
   "id": "4e983f45-1cda-4aa7-97c0-cbf15d79c286",
   "metadata": {},
   "outputs": [
    {
     "name": "stdout",
     "output_type": "stream",
     "text": [
      "(= (?:x) (?:y):(?:y) (?:x))"
     ]
    }
   ],
   "source": [
    "v?"
   ]
  },
  {
   "cell_type": "code",
   "execution_count": 16,
   "id": "957a6ad2-6305-48da-98d8-846729b0c81e",
   "metadata": {},
   "outputs": [
    {
     "name": "stdout",
     "output_type": "stream",
     "text": [
      "(= (?:x) (?:y):(?:y) (?:x))"
     ]
    }
   ],
   "source": [
    "v?"
   ]
  },
  {
   "cell_type": "code",
   "execution_count": 17,
   "id": "a12b7be9-0b28-4f17-a66d-c5acacb5bb27",
   "metadata": {},
   "outputs": [
    {
     "name": "stdout",
     "output_type": "stream",
     "text": []
    }
   ],
   "source": [
    "let y : 1"
   ]
  },
  {
   "cell_type": "code",
   "execution_count": 18,
   "id": "a86c9ec3-af7c-4aa0-97be-5de7d064ec9f",
   "metadata": {},
   "outputs": [
    {
     "name": "stdout",
     "output_type": "stream",
     "text": [
      "(= (?:x) (?:y):(?:y) (?:x))"
     ]
    }
   ],
   "source": [
    "v?"
   ]
  },
  {
   "cell_type": "code",
   "execution_count": 21,
   "id": "95570936-792c-40f0-9928-27e77f544f74",
   "metadata": {},
   "outputs": [
    {
     "name": "stdout",
     "output_type": "stream",
     "text": []
    }
   ],
   "source": [
    "let z : 1"
   ]
  },
  {
   "cell_type": "code",
   "execution_count": 22,
   "id": "33ecc1a3-40f6-459a-a06b-5153bc367cb9",
   "metadata": {},
   "outputs": [
    {
     "name": "stdout",
     "output_type": "stream",
     "text": [
      "1"
     ]
    }
   ],
   "source": [
    "z?"
   ]
  },
  {
   "cell_type": "code",
   "execution_count": 23,
   "id": "4f5fa466-6cff-4156-8ac2-ed20ade831f2",
   "metadata": {},
   "outputs": [
    {
     "name": "stdout",
     "output_type": "stream",
     "text": [
      "(?:y)"
     ]
    }
   ],
   "source": [
    "y?"
   ]
  },
  {
   "cell_type": "code",
   "execution_count": 24,
   "id": "9f285190-ddde-4336-ae6d-d4a6df1203c9",
   "metadata": {},
   "outputs": [
    {
     "name": "stdout",
     "output_type": "stream",
     "text": []
    }
   ],
   "source": [
    "let y:1\n"
   ]
  },
  {
   "cell_type": "code",
   "execution_count": 25,
   "id": "b004c92a-eeae-46e5-8de9-06a3135d006a",
   "metadata": {},
   "outputs": [
    {
     "name": "stdout",
     "output_type": "stream",
     "text": [
      "(?:y)"
     ]
    }
   ],
   "source": [
    "y?"
   ]
  },
  {
   "cell_type": "code",
   "execution_count": null,
   "id": "2c979db8-0754-4b22-b6ec-c47cc0ef7eae",
   "metadata": {},
   "outputs": [],
   "source": []
  }
 ],
 "metadata": {
  "kernelspec": {
   "display_name": "coda",
   "language": "",
   "name": "coda"
  },
  "language_info": {
   "file_extension": ".co",
   "mimetype": "text/plain",
   "name": "Any text"
  }
 },
 "nbformat": 4,
 "nbformat_minor": 5
}
