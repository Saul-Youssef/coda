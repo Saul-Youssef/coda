{
 "cells": [
  {
   "cell_type": "code",
   "execution_count": 11,
   "id": "e45b9f39-b7c3-4462-bde8-67114a966971",
   "metadata": {
    "tags": []
   },
   "outputs": [],
   "source": [
    "from start import *\n",
    "N = co('nat:0')"
   ]
  },
  {
   "cell_type": "code",
   "execution_count": 12,
   "id": "430dcb7a-41dc-4d98-81ee-b1197fa599a2",
   "metadata": {
    "tags": []
   },
   "outputs": [
    {
     "data": {
      "text/plain": [
       "0 1 2 3 4 5 6 7 8 (nat:9)"
      ]
     },
     "execution_count": 12,
     "metadata": {},
     "output_type": "execute_result"
    }
   ],
   "source": [
    "N = N.eval(10); N"
   ]
  },
  {
   "cell_type": "code",
   "execution_count": 3,
   "id": "d68d3eae-7ce6-4613-beed-12c7feffb835",
   "metadata": {
    "tags": []
   },
   "outputs": [],
   "source": [
    "R = co('rev:nat:0')   # what is \"the reverse of the natural numbers?\""
   ]
  },
  {
   "cell_type": "code",
   "execution_count": 4,
   "id": "49dd7656-ba5f-4022-bc65-6303d68c6b6f",
   "metadata": {
    "tags": []
   },
   "outputs": [
    {
     "data": {
      "text/plain": [
       "(rev:(nat:8)) (rev:7) 6 5 4 3 2 1 0"
      ]
     },
     "execution_count": 4,
     "metadata": {},
     "output_type": "execute_result"
    }
   ],
   "source": [
    "R = R.eval(10); R"
   ]
  },
  {
   "cell_type": "code",
   "execution_count": 5,
   "id": "cb34edd2-2917-4929-8869-f9253b3751c1",
   "metadata": {
    "tags": []
   },
   "outputs": [],
   "source": [
    "RR = co('rev:rev:nat:0')   # what about reverse of the reverse of the natural numbers?"
   ]
  },
  {
   "cell_type": "code",
   "execution_count": 6,
   "id": "e0dc7ebb-945b-4169-8788-4b52ffb0689e",
   "metadata": {
    "tags": []
   },
   "outputs": [
    {
     "data": {
      "text/plain": [
       "0 1 2 3 4 5 (rev:(rev:6)) (rev:(rev:(nat:7)))"
      ]
     },
     "execution_count": 6,
     "metadata": {},
     "output_type": "execute_result"
    }
   ],
   "source": [
    "RR = RR.eval(10); RR"
   ]
  },
  {
   "cell_type": "markdown",
   "id": "1bd78f98-fa75-4102-bf7c-3713987bd78f",
   "metadata": {
    "jupyter": {
     "outputs_hidden": true
    },
    "tags": []
   },
   "source": [
    "Notice that this is, more or less, what one would expect.  Obviously, reversing a finite sequence twice should be an identity.  It also seems reasonable that this should also hold for infinite data like the natural numbers.  However, this is not yet true.  In the interpreter, this appears as follows. \n",
    "\n",
    "`@ rev:rev:a b c = a b c`\n",
    "\n",
    "`@ rev:rev:nat:0 = nat:0`"
   ]
  },
  {
   "cell_type": "code",
   "execution_count": 8,
   "id": "e6e9b6cb-cd58-4861-ab72-af4f086b24a5",
   "metadata": {},
   "outputs": [
    {
     "data": {
      "text/plain": []
     },
     "execution_count": 8,
     "metadata": {},
     "output_type": "execute_result"
    }
   ],
   "source": [
    "R1 = co('rev:rev:a b c = a b c').eval(100); R1 # remember, no output in Zen logic means \"True\"!"
   ]
  },
  {
   "cell_type": "code",
   "execution_count": 9,
   "id": "bf5a7b8d-31e1-4121-88c4-88cbdc558523",
   "metadata": {},
   "outputs": [
    {
     "data": {
      "text/plain": [
       "(= (rev:(rev:91)) (rev:(rev:(nat:92))):91 92 93 94 95 (nat:96))"
      ]
     },
     "execution_count": 9,
     "metadata": {},
     "output_type": "execute_result"
    }
   ],
   "source": [
    "R2 = co('rev : rev : nat : 0 = nat : 0').eval(100); R2"
   ]
  },
  {
   "cell_type": "markdown",
   "id": "27b7535b-9ed1-4b06-91a9-e23015778abe",
   "metadata": {},
   "source": [
    "This shows that assuming rev:rev:X=X would make a difference. Should rev:rev:X = X be assumed or not? There appears to be no way to deduce some sort of morally correct answer.  I am trying to suggest that this is like the situation with the Axiom of Choice.  Here is the actual code that implements rev (it happens to be built-in).  rev is made from three separate definitions:\n",
    "\n",
    "1. rev : () -> ()\n",
    "2. rev : b -> b, if b is atomic \n",
    "3. rev : A B -> (rev:B) (rev:A) "
   ]
  },
  {
   "cell_type": "raw",
   "id": "d3829f4a-ac84-4c27-8227-2963a04b8299",
   "metadata": {},
   "source": [
    "def rev_1(A,B):\n",
    "    if B.empty(): return data()\n",
    "def rev_2(A,B):\n",
    "    if B.atom(): return B\n",
    "def rev_3(A,B):\n",
    "    L,R = B.split()\n",
    "    if not L.empty(): return one(b'rev',A,R)+one(b'rev',A,L)\n",
    "DEF.add(data(b'rev'),rev_1,rev_2,rev_3)"
   ]
  },
  {
   "cell_type": "code",
   "execution_count": null,
   "id": "d802b00c-dcd0-481b-b0bd-30a6e7d52bbc",
   "metadata": {},
   "outputs": [],
   "source": [
    "Once we prove that it is a valid definition, we can also add a definition: rev : rev : B -> B "
   ]
  },
  {
   "cell_type": "raw",
   "id": "5d352590-d1bb-4f64-a77f-8661bf25097a",
   "metadata": {},
   "source": [
    "def rev_4(A,B):\n",
    "    L,R = B.split()\n",
    "    if len(L)==1 and is_colon(L[0]):\n",
    "        LL,RR = L[0].left(),L[0].right()\n",
    "        if LL==data(b'rev'): return RR\n",
    "DEF.add(data(b'rev'),rev_1,rev_2,rev_3,rev_4)"
   ]
  },
  {
   "cell_type": "markdown",
   "id": "d0690ba2-9713-4efb-93d2-14b512c7f297",
   "metadata": {},
   "source": [
    "With this definition, rev : rev : nat : 0 now is nat : 0 exactly."
   ]
  },
  {
   "cell_type": "raw",
   "id": "6061c9ac-474c-498a-913f-1025749b9bcd",
   "metadata": {},
   "source": [
    "@ nat : 0\n",
    "0 1 2 3 4 5 6 7 8 9 10 11 12 13 14 15 16 17 18 19 20 21 22 23 24 25 26 27 28 29 30 31 32 33 34 35 36 37 38 39 40 41 42 43 44 45 46 47 48 49 50 51 52 53 54 55 56 57 58 59 60 61 62 63 64 65 66 67 68 69 70 71 72 73 74 75 76 77 78 79 80 81 82 83 84 85 86 87 88 89 90 91 92 93 94 95 96 97 (nat:98)\n",
    "@ rev : nat : 0\n",
    "(rev:(nat:96)) (rev:95) 94 93 92 91 90 89 88 87 86 85 84 83 82 81 80 79 78 77 76 75 74 73 72 71 70 69 68 67 66 65 64 63 62 61 60 59 58 57 56 55 54 53 52 51 50 49 48 47 46 45 44 43 42 41 40 39 38 37 36 35 34 33 32 31 30 29 28 27 26 25 24 23 22 21 20 19 18 17 16 15 14 13 12 11 10 9 8 7 6 5 4 3 2 1 0\n",
    "@ rev : rev : nat : 0\n",
    "0 1 2 3 4 5 6 7 8 9 10 11 12 13 14 15 16 17 18 19 20 21 22 23 24 25 26 27 28 29 30 31 32 33 34 35 36 37 38 39 40 41 42 43 44 45 46 47 48 49 50 51 52 53 54 55 56 57 58 59 60 61 62 63 64 65 66 67 68 69 70 71 72 73 74 75 76 77 78 79 80 81 82 83 84 85 86 87 88 89 90 91 92 93 (nat:94)"
   ]
  },
  {
   "cell_type": "markdown",
   "id": "5234d0ce-9c95-4bcc-b56c-30152c86c4f6",
   "metadata": {},
   "source": []
  },
  {
   "cell_type": "code",
   "execution_count": null,
   "id": "f969006a-e363-45b4-9f88-238c094b100e",
   "metadata": {},
   "outputs": [],
   "source": []
  },
  {
   "cell_type": "code",
   "execution_count": null,
   "id": "989a4f55-d8aa-4654-835e-b9f3678022fa",
   "metadata": {},
   "outputs": [],
   "source": []
  }
 ],
 "metadata": {
  "kernelspec": {
   "display_name": "Python 3 (ipykernel)",
   "language": "python",
   "name": "python3"
  },
  "language_info": {
   "codemirror_mode": {
    "name": "ipython",
    "version": 3
   },
   "file_extension": ".py",
   "mimetype": "text/x-python",
   "name": "python",
   "nbconvert_exporter": "python",
   "pygments_lexer": "ipython3",
   "version": "3.10.7"
  }
 },
 "nbformat": 4,
 "nbformat_minor": 5
}
