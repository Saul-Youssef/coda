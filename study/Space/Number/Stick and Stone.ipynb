{
 "cells": [
  {
   "cell_type": "code",
   "execution_count": 1,
   "id": "0bf6e561-0a9c-46a1-912d-f2049bc1378f",
   "metadata": {},
   "outputs": [
    {
     "name": "stdout",
     "output_type": "stream",
     "text": []
    }
   ],
   "source": [
    "Def stick : {is |:B} \n",
    "Def stone : {is @:B}"
   ]
  },
  {
   "cell_type": "code",
   "execution_count": 2,
   "id": "1f817745-dbed-44b9-99d6-f856e6cbe91d",
   "metadata": {},
   "outputs": [
    {
     "name": "stdout",
     "output_type": "stream",
     "text": []
    }
   ],
   "source": [
    "import : dir co : up : ."
   ]
  },
  {
   "cell_type": "code",
   "execution_count": 3,
   "id": "7c599193-b37f-4d4d-bfca-f5612563df6e",
   "metadata": {},
   "outputs": [
    {
     "name": "stdout",
     "output_type": "stream",
     "text": []
    }
   ],
   "source": [
    "Let Dom1 : permutation 3 : | @ \n",
    "Let Dom2 : permutation 4 : | @ "
   ]
  },
  {
   "cell_type": "code",
   "execution_count": 4,
   "id": "4cd02da3-5c85-445f-b542-7bcbc1e022d9",
   "metadata": {},
   "outputs": [
    {
     "name": "stdout",
     "output_type": "stream",
     "text": [
      "| | | |\n",
      "@ @ @"
     ]
    }
   ],
   "source": [
    "stick : | | | | a a b \n",
    "stone : | @ @ | a b @ "
   ]
  },
  {
   "cell_type": "code",
   "execution_count": 5,
   "id": "84032d6c-9e40-4f69-a45a-7e83a0871bd0",
   "metadata": {},
   "outputs": [
    {
     "name": "stdout",
     "output_type": "stream",
     "text": [
      "0\n",
      "0\n",
      "0\n",
      "0\n",
      "0\n",
      "0"
     ]
    }
   ],
   "source": [
    "count : theorem (simple:stick) : Dom1?\n",
    "count : theorem (idempotent:stick) : Dom1?\n",
    "count : theorem (distributive:stick) : Dom1?\n",
    "count : theorem (simple:stone) : Dom1? \n",
    "count : theorem (idempotent:stone) : Dom1?\n",
    "count : theorem (distributive:stone) : Dom1?"
   ]
  },
  {
   "cell_type": "code",
   "execution_count": 6,
   "id": "1c2ef96d-8b03-4806-ad19-e0e961c68ab3",
   "metadata": {},
   "outputs": [
    {
     "name": "stdout",
     "output_type": "stream",
     "text": []
    }
   ],
   "source": [
    "Def mor : ap {(A:stick:(get:B))=(stone:A:(get:B))} "
   ]
  },
  {
   "cell_type": "code",
   "execution_count": 7,
   "id": "11133031-f80a-41a8-94af-7c9d8c1125c9",
   "metadata": {},
   "outputs": [
    {
     "name": "stdout",
     "output_type": "stream",
     "text": []
    }
   ],
   "source": [
    "mor {{B B}:ap {#}:B} * stick : Dom2?"
   ]
  },
  {
   "cell_type": "code",
   "execution_count": 8,
   "id": "3151d5a0-a575-406a-98ab-cf08aaaaedc0",
   "metadata": {},
   "outputs": [
    {
     "name": "stdout",
     "output_type": "stream",
     "text": [
      "0\n",
      "104\n",
      "0\n",
      "32\n",
      "0\n",
      "0"
     ]
    }
   ],
   "source": [
    "count : mor {ap {#}:B} * stick : Dom2?\n",
    "count : mor pass : Dom2?\n",
    "count : mor null : Dom2?\n",
    "count : mor stick : Dom2?\n",
    "count : mor stone*stick : Dom2?\n",
    "count : mor {{B B} : ap {#}:B} * stick : Dom2?"
   ]
  },
  {
   "cell_type": "code",
   "execution_count": 9,
   "id": "63784c19-7ec6-4752-8aca-7b7b36db9533",
   "metadata": {},
   "outputs": [
    {
     "name": "stdout",
     "output_type": "stream",
     "text": []
    }
   ],
   "source": [
    "Def Mor : {put bin (get:B) : count : mor (get:B) : A} "
   ]
  },
  {
   "cell_type": "code",
   "execution_count": 10,
   "id": "74c97c72-253c-4395-9f1d-fe415eb6c475",
   "metadata": {},
   "outputs": [
    {
     "name": "stdout",
     "output_type": "stream",
     "text": []
    }
   ],
   "source": [
    "# ap Mor Dom1? : (:and) (:bin) (:put) (:{ap {#}:B} * stick) (:pass) (:null) (:{{B B} : ap {#}:B} * stick)"
   ]
  },
  {
   "cell_type": "code",
   "execution_count": 11,
   "id": "afb5e615-9839-4d69-b5f7-05432e0f2822",
   "metadata": {},
   "outputs": [
    {
     "name": "stdout",
     "output_type": "stream",
     "text": []
    }
   ],
   "source": [
    "# ap Mor Dom1? : ap put : defs : Basic"
   ]
  },
  {
   "cell_type": "code",
   "execution_count": 12,
   "id": "95d9a3c9-08da-48f6-a528-f315e7f79b62",
   "metadata": {
    "tags": []
   },
   "outputs": [
    {
     "name": "stdout",
     "output_type": "stream",
     "text": []
    }
   ],
   "source": [
    "# ap Mor Dom1? : ap put : defs : Apply "
   ]
  },
  {
   "cell_type": "code",
   "execution_count": 13,
   "id": "bbc59dc9-931a-4ff6-b206-a8143f42a441",
   "metadata": {},
   "outputs": [
    {
     "name": "stdout",
     "output_type": "stream",
     "text": []
    }
   ],
   "source": [
    "# ap Mor Dom1? : ap put : defs : Number "
   ]
  },
  {
   "cell_type": "markdown",
   "id": "aefc2e7a-9d33-4eca-89e5-89efe3380ec7",
   "metadata": {},
   "source": [
    "## Reduce"
   ]
  },
  {
   "cell_type": "code",
   "execution_count": 14,
   "id": "f07ed5d8-61c0-407d-b8c1-4a20a99f0380",
   "metadata": {},
   "outputs": [
    {
     "name": "stdout",
     "output_type": "stream",
     "text": [
      "(:| | |) (:| | @) (:| @ |) (:| @ @) (:@ | |) (:@ | @) (:@ @ |) (:@ @ @)\n",
      "(:| | |) (:@ | |) (:| @ |) (:@ @ |) (:| | @) (:@ | @) (:| @ @) (:@ @ @)\n",
      "(:| | |) (:| |) (:| |) (:|) (:| |) (:|) (:|) ◎\n",
      "◎ (:@) (:@) (:@ @) (:@) (:@ @) (:@ @) (:@ @ @)"
     ]
    }
   ],
   "source": [
    "{ap (put*B*get) : A} Dom1? : pass\n",
    "{ap (put*B*get) : A} Dom1? : rev\n",
    "{ap (put*B*get) : A} Dom1? : stick\n",
    "{ap (put*B*get) : A} Dom1? : stone"
   ]
  },
  {
   "cell_type": "code",
   "execution_count": 15,
   "id": "bee9ea71-bbf1-4ca3-b29c-932d7f8cff2f",
   "metadata": {},
   "outputs": [
    {
     "name": "stdout",
     "output_type": "stream",
     "text": []
    }
   ],
   "source": [
    "Def f1 : {ap (put*B*get) : A}"
   ]
  },
  {
   "cell_type": "code",
   "execution_count": 16,
   "id": "43e7e9ff-3dc4-45c8-8127-6ebee213dbd7",
   "metadata": {},
   "outputs": [
    {
     "name": "stdout",
     "output_type": "stream",
     "text": [
      "(:| | |) (:| | @) (:| @ |) (:| @ @) (:@ | |) (:@ | @) (:@ @ |) (:@ @ @)\n",
      "(:| | |) (:| |) (:| |) (:|) (:| |) (:|) (:|) ◎\n",
      "◎ (:@) (:@) (:@ @) (:@) (:@ @) (:@ @) (:@ @ @)\n",
      "◎ (:@) (:@) (:@ @) (:@) (:@ @) (:@ @) (:@ @ @)"
     ]
    }
   ],
   "source": [
    "f1 Dom1? : pass\n",
    "f1 Dom1? : stick \n",
    "f1 Dom1? : stone\n",
    "f1 Dom1? : is @"
   ]
  },
  {
   "cell_type": "code",
   "execution_count": 17,
   "id": "82f2625b-9a00-429e-bc6b-10baba877d24",
   "metadata": {},
   "outputs": [
    {
     "name": "stdout",
     "output_type": "stream",
     "text": [
      "(bin ◎ ◎ ◎ ◎ ◎ ◎ ◎ ◎:(:null)) (bin ◎ (:@) (:@) (:@ @) (:@) (:@ @) (:@ @) (:@ @ @):(:stone) (:is @))"
     ]
    }
   ],
   "source": [
    "collect : ap {bin (f1 Dom1? : (get:B)):B} : (:null) (:stone) (:is @) "
   ]
  },
  {
   "cell_type": "code",
   "execution_count": 18,
   "id": "fb6b2fc1-45fc-46cc-a3dc-023badb90140",
   "metadata": {},
   "outputs": [
    {
     "name": "stdout",
     "output_type": "stream",
     "text": [
      "(bin ◎ ◎ ◎ ◎ ◎ ◎ ◎ ◎:(:null)) (bin ◎ (:@) (:@) (:@ @) (:@) (:@ @) (:@ @) (:@ @ @):(:stone) (:is @))"
     ]
    }
   ],
   "source": [
    "collect : ap {bin (f1 A : (get:B)):B} Dom1? : (:null) (:stone) (:is @) "
   ]
  },
  {
   "cell_type": "code",
   "execution_count": 19,
   "id": "a6735d87-3a69-4ce2-a1be-09d09ebef3da",
   "metadata": {},
   "outputs": [
    {
     "name": "stdout",
     "output_type": "stream",
     "text": []
    }
   ],
   "source": [
    "Def Col : {collect : ap {bin (f1 A : (get:B)):B} A : B} "
   ]
  },
  {
   "cell_type": "code",
   "execution_count": 20,
   "id": "84024d6f-adb4-47b0-994c-2a21460ba0c3",
   "metadata": {},
   "outputs": [
    {
     "name": "stdout",
     "output_type": "stream",
     "text": [
      "(bin ◎ ◎ ◎ ◎ ◎ ◎ ◎ ◎:(:null)) (bin ◎ (:@) (:@) (:@ @) (:@) (:@ @) (:@ @) (:@ @ @):(:stone) (:is @))"
     ]
    }
   ],
   "source": [
    "Col Dom1? : (:null) (:stone) (:is @)"
   ]
  },
  {
   "cell_type": "code",
   "execution_count": 21,
   "id": "794d282a-cd61-4157-9246-b999c0b88b3f",
   "metadata": {},
   "outputs": [
    {
     "name": "stdout",
     "output_type": "stream",
     "text": []
    }
   ],
   "source": [
    "Def Classify : {ap {:right:B} : Col A : B}"
   ]
  },
  {
   "cell_type": "code",
   "execution_count": 22,
   "id": "6f243b94-431e-4821-bd45-67ccb8a282ba",
   "metadata": {},
   "outputs": [
    {
     "name": "stdout",
     "output_type": "stream",
     "text": []
    }
   ],
   "source": [
    "Let Basic : Classify Dom1? : ap put : defs : Basic "
   ]
  },
  {
   "cell_type": "code",
   "execution_count": 23,
   "id": "5a545a5d-9cb5-457d-ab63-d88b6f4d7623",
   "metadata": {},
   "outputs": [
    {
     "name": "stdout",
     "output_type": "stream",
     "text": []
    }
   ],
   "source": [
    "Let Sequence : Classify Dom1? : ap put : defs : Sequence "
   ]
  },
  {
   "cell_type": "code",
   "execution_count": 24,
   "id": "92409cd1-a02a-4fce-ad3e-aa185bcdb2ba",
   "metadata": {},
   "outputs": [
    {
     "name": "stdout",
     "output_type": "stream",
     "text": []
    }
   ],
   "source": [
    "Let Apply : Classify Dom1? : ap put : defs : Apply "
   ]
  },
  {
   "cell_type": "code",
   "execution_count": 25,
   "id": "fd228ec2-bce2-436f-8c2d-ced1b8d0b6b0",
   "metadata": {},
   "outputs": [
    {
     "name": "stdout",
     "output_type": "stream",
     "text": []
    }
   ],
   "source": [
    "Let Number : Classify Dom1? : ap put : defs : Number "
   ]
  },
  {
   "cell_type": "code",
   "execution_count": 26,
   "id": "cf07aa19-8a67-4297-b152-b5d75861d687",
   "metadata": {},
   "outputs": [
    {
     "name": "stdout",
     "output_type": "stream",
     "text": []
    }
   ],
   "source": [
    "Let Collect : Classify Dom1? : ap put : defs : Collect "
   ]
  },
  {
   "cell_type": "code",
   "execution_count": 27,
   "id": "f96cda87-14fc-407c-b8a0-9dad26e258ec",
   "metadata": {},
   "outputs": [
    {
     "name": "stdout",
     "output_type": "stream",
     "text": []
    }
   ],
   "source": [
    "Let Logic : Classify Dom1? : ap put : defs : Logic "
   ]
  },
  {
   "cell_type": "code",
   "execution_count": 28,
   "id": "c5a62754-a504-4811-b522-52e5d9481f5f",
   "metadata": {},
   "outputs": [
    {
     "name": "stdout",
     "output_type": "stream",
     "text": []
    }
   ],
   "source": [
    "Let All : Classify Dom1? : ap put : defs : Basic Sequence Apply Number Collect Logic "
   ]
  }
 ],
 "metadata": {
  "kernelspec": {
   "display_name": "coda",
   "language": "",
   "name": "coda"
  },
  "language_info": {
   "file_extension": ".co",
   "mimetype": "text/plain",
   "name": "Any text"
  }
 },
 "nbformat": 4,
 "nbformat_minor": 5
}
