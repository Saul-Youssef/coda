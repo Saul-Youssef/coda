{
 "cells": [
  {
   "cell_type": "code",
   "execution_count": 1,
   "id": "2a6d2c0e-30a0-4028-a657-39e83d8c32c2",
   "metadata": {},
   "outputs": [],
   "source": [
    "from start import *"
   ]
  },
  {
   "cell_type": "code",
   "execution_count": 2,
   "id": "3fb580a0-9589-4aa6-ae5b-713c3251ef57",
   "metadata": {},
   "outputs": [
    {
     "data": {
      "text/plain": []
     },
     "execution_count": 2,
     "metadata": {},
     "output_type": "execute_result"
    }
   ],
   "source": [
    "co('let D? : (D?=55)').eval(1000)"
   ]
  },
  {
   "cell_type": "code",
   "execution_count": 18,
   "id": "c2fa5ace-b6e8-4051-862c-95cbd336bce1",
   "metadata": {},
   "outputs": [],
   "source": [
    "D = co('D?')"
   ]
  },
  {
   "cell_type": "code",
   "execution_count": 24,
   "id": "394cb836-4259-467d-a738-b27d73fe9e93",
   "metadata": {},
   "outputs": [
    {
     "data": {
      "text/plain": [
       "(# (# (# (# (# (# (# (# (# (# (# (# (# (# (# (# (# (# (# (# (# (# (# (# (# (# (# (# (# (# (# (# (# (# (# (# (# (# (# (# (# (# (# (# (# (# (# (# (# (# (# (# (# (# (# (# (# (# (# (?:D):55):55):55):55):55):55):55):55):55):55):55):55):55):55):55):55):55):55):55):55):55):55):55):55):55):55):55):55):55):55):55):55):55):55):55):55):55):55):55):55):55):55):55):55):55):55):55):55):55):55):55):55):55):55):55):55):55):55):55)"
      ]
     },
     "execution_count": 24,
     "metadata": {},
     "output_type": "execute_result"
    }
   ],
   "source": [
    "D = D.eval(10); D"
   ]
  },
  {
   "cell_type": "code",
   "execution_count": null,
   "id": "944fecdd-55b6-4989-95c0-071051eb65bd",
   "metadata": {},
   "outputs": [],
   "source": []
  }
 ],
 "metadata": {
  "kernelspec": {
   "display_name": "Python 3 (ipykernel)",
   "language": "python",
   "name": "python3"
  },
  "language_info": {
   "codemirror_mode": {
    "name": "ipython",
    "version": 3
   },
   "file_extension": ".py",
   "mimetype": "text/x-python",
   "name": "python",
   "nbconvert_exporter": "python",
   "pygments_lexer": "ipython3",
   "version": "3.10.7"
  }
 },
 "nbformat": 4,
 "nbformat_minor": 5
}
