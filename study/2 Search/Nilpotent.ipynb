{
 "cells": [
  {
   "cell_type": "code",
   "execution_count": 1,
   "id": "530cae02-26a7-4fa3-bba7-f34e02b1b65a",
   "metadata": {},
   "outputs": [
    {
     "name": "stdout",
     "output_type": "stream",
     "text": []
    }
   ],
   "source": [
    "#\n",
    "#   Prepare some samples for testing purposes \n",
    "#   \n",
    "#   S1: hydrogen atoms\n",
    "#   S2: more general atoms mix \n",
    "#   S3: pure data mix\n",
    "#   S4: mix with operators and language.\n",
    "#\n",
    "Let S1 : sample.atom : 5\n",
    "Let S2 : permutation 3 : a b 0 1 \n",
    "Let S3 : sample.pure : 2 2 \n",
    "Let S4 : sample.data <A> <B> <{$}> 0 1 a b (defs:Basic) : 2 2 \n",
    "#\n",
    "#   A is nilpotent if A:B=() for any B, i.e. if (A:B) is always true. \n",
    "#\n",
    "Def nilpotent : {A:B}\n",
    "#\n",
    "#   Nilpotent A : (:B1) (:B2)... is true if A is nilpotent for all test cases B1, B2,...\n",
    "#\n",
    "Def Nilpotent : count * (ap {nilpotent A : get : B}) "
   ]
  },
  {
   "cell_type": "code",
   "execution_count": 2,
   "id": "f0e5c0b1-2053-47a3-84fa-6b701fd763f9",
   "metadata": {},
   "outputs": [
    {
     "name": "stdout",
     "output_type": "stream",
     "text": [
      "(with pass:3)\n",
      "(with null:0)\n",
      "(with first:1)\n",
      "(with bin:1)\n",
      "(with rev:3)\n",
      "(with rev:0)\n",
      "(with not:1)"
     ]
    }
   ],
   "source": [
    "#\n",
    "#    Let's try a few tests\n",
    "#\n",
    "put with pass  : count : nilpotent pass : 1 2 3\n",
    "put with null  : count : nilpotent null : 1 2 3 \n",
    "put with first : count : nilpotent first : 1 2 3 \n",
    "put with bin   : count : nilpotent bin : 1 2 3 \n",
    "put with rev   : count : nilpotent rev : 1 2 3 \n",
    "put with rev   : count : nilpotent rev : \n",
    "put with not   : count : nilpotent not : "
   ]
  },
  {
   "cell_type": "code",
   "execution_count": 3,
   "id": "986f4f41-5817-4ff1-9e03-147b5fc863ed",
   "metadata": {},
   "outputs": [
    {
     "name": "stdout",
     "output_type": "stream",
     "text": [
      "(with pass:3)\n",
      "(with null:0)\n",
      "(with first:1)\n",
      "(with bin:1)\n",
      "(with rev:3)\n",
      "(with rev:0)\n",
      "(with not:1)"
     ]
    }
   ],
   "source": [
    "#\n",
    "#   To check, let's compute the same thing with Nilpotent and Nilpotent \n",
    "#\n",
    "put with pass  : Nilpotent pass  : (:1 2 3)\n",
    "put with null  : Nilpotent null  : (:1 2 3)\n",
    "put with first : Nilpotent first : (:1 2 3)\n",
    "put with bin   : Nilpotent bin   : (:1 2 3)\n",
    "put with rev   : Nilpotent rev   : (:1 2 3)\n",
    "put with rev   : Nilpotent rev   : (:) \n",
    "put with not   : Nilpotent not   : (:) (:1 2 3)"
   ]
  },
  {
   "cell_type": "code",
   "execution_count": 4,
   "id": "8e01374d-6ad8-4159-92b8-3390893ceb3f",
   "metadata": {},
   "outputs": [
    {
     "name": "stdout",
     "output_type": "stream",
     "text": []
    }
   ],
   "source": [
    "Def NIL12 : {eval A : with B : Nilpotent B : S1? S2?}"
   ]
  },
  {
   "cell_type": "code",
   "execution_count": 5,
   "id": "f2f537bb-e405-4c9f-a8d6-cb2fcd26d01c",
   "metadata": {},
   "outputs": [
    {
     "name": "stdout",
     "output_type": "stream",
     "text": []
    }
   ],
   "source": [
    "Def NIL : {with B : Nilpotent B : S1? S2?} "
   ]
  },
  {
   "cell_type": "code",
   "execution_count": 7,
   "id": "2cfa9f6c-d5ed-42bd-9a65-a098ca5987af",
   "metadata": {},
   "outputs": [
    {
     "name": "stdout",
     "output_type": "stream",
     "text": [
      "rev first tail last skip rep nth1 once count nth pre post"
     ]
    }
   ],
   "source": [
    "defs : Sequence "
   ]
  },
  {
   "cell_type": "code",
   "execution_count": 8,
   "id": "c15fe681-0b73-49b1-8f8e-e6a6b7ec6deb",
   "metadata": {},
   "outputs": [
    {
     "name": "stdout",
     "output_type": "stream",
     "text": [
      "(with rev:202) (with first:68) (with tail:134) (with last:68) (with skip:134) (with rep:0) (with nth1:0) (with once:152) (with count:69) (with nth:0) (with pre:202) (with post:202)"
     ]
    }
   ],
   "source": [
    "multi : ap NIL : defs : Sequence "
   ]
  },
  {
   "cell_type": "code",
   "execution_count": null,
   "id": "020a5e03-fbb8-42ee-9d32-87fb2b8b6ad0",
   "metadata": {},
   "outputs": [],
   "source": [
    "multi : ap NIL12 100 : not null pass "
   ]
  },
  {
   "cell_type": "code",
   "execution_count": null,
   "id": "2b166e2b-2797-4669-beed-5fdb6c6f20e8",
   "metadata": {},
   "outputs": [],
   "source": [
    "multi : ap NIL12 100 : defs : Sequence "
   ]
  },
  {
   "cell_type": "code",
   "execution_count": null,
   "id": "ca615c9b-7abd-4a26-a3f2-b792be006608",
   "metadata": {},
   "outputs": [],
   "source": [
    "ap NIL12 1000 : defs : Basic "
   ]
  },
  {
   "cell_type": "code",
   "execution_count": null,
   "id": "4d97adaf-f67e-4c7a-8ede-7d2d00cd07f9",
   "metadata": {},
   "outputs": [],
   "source": [
    "ap NIL12 1000 : defs : Sequence "
   ]
  },
  {
   "cell_type": "code",
   "execution_count": null,
   "id": "19cc932f-7d72-4bd2-8e1e-68ea1ecf2ea2",
   "metadata": {},
   "outputs": [],
   "source": [
    "ap NIL12 100 : defs : Logic "
   ]
  },
  {
   "cell_type": "code",
   "execution_count": null,
   "id": "c4f0f880-6cf5-4a6b-a819-24dafc648423",
   "metadata": {},
   "outputs": [],
   "source": [
    "ap NIL12 100 : defs : Collect"
   ]
  },
  {
   "cell_type": "code",
   "execution_count": null,
   "id": "68974a1e-d760-4063-8998-a768f2b39e2b",
   "metadata": {},
   "outputs": [],
   "source": [
    "ap NIL12 100 : defs : Text "
   ]
  },
  {
   "cell_type": "markdown",
   "id": "9d28cc1d-fe7d-4f41-823b-4b5f6818b778",
   "metadata": {},
   "source": [
    "So, with NIL12, the potential nilpotents are \n",
    "\n",
    "* null\n",
    "* rep\n",
    "* nth\n",
    "* pre\n",
    "* post\n",
    "* get\n",
    "* arg \n",
    "* nif \n",
    "* has\n",
    "* is\n",
    "* or \n",
    "\n",
    "I've not included nth1 since it's really redundant with nth.  "
   ]
  },
  {
   "cell_type": "code",
   "execution_count": null,
   "id": "d56c9eaf-dcfe-4a69-99e3-befce078dc1c",
   "metadata": {},
   "outputs": [],
   "source": [
    "Def NIL : {eval A : with B : Nilpotent B : S1? S2? S3? S4?}"
   ]
  },
  {
   "cell_type": "code",
   "execution_count": null,
   "id": "4dc09d50-c30f-4390-9c89-957b64a378c9",
   "metadata": {},
   "outputs": [],
   "source": [
    "ap NIL 500 : null rep nth pre post get arg nif has is or "
   ]
  },
  {
   "cell_type": "code",
   "execution_count": null,
   "id": "9561ca20-42a7-4241-8559-31e173c9a473",
   "metadata": {},
   "outputs": [],
   "source": []
  }
 ],
 "metadata": {
  "kernelspec": {
   "display_name": "coda",
   "language": "",
   "name": "coda"
  },
  "language_info": {
   "file_extension": ".co",
   "mimetype": "text/plain",
   "name": "Any text"
  }
 },
 "nbformat": 4,
 "nbformat_minor": 5
}
