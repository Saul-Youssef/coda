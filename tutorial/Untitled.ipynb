{
 "cells": [
  {
   "cell_type": "code",
   "execution_count": 1,
   "id": "8540b6a8-004c-4c09-8ba9-b127088bd343",
   "metadata": {},
   "outputs": [
    {
     "name": "stdout",
     "output_type": "stream",
     "text": [
      "c b a"
     ]
    }
   ],
   "source": [
    "rev : a b c "
   ]
  },
  {
   "cell_type": "code",
   "execution_count": 2,
   "id": "365ec479-2236-4543-bde2-47cb7474de2d",
   "metadata": {},
   "outputs": [
    {
     "name": "stdout",
     "output_type": "stream",
     "text": [
      "\u001b[;1mcode:\u001b[0m\n",
      "    \u001b[34;7map\u001b[0m\n",
      "\u001b[;1mmodule:\u001b[0m\n",
      "    Apply\n",
      "\u001b[;1msummary:\u001b[0m\n",
      "    Apply A to each b in B.\n",
      "\u001b[;1mdescription:\u001b[0m\n",
      "    This is one of the most important basic\n",
      "    combinatorial operations.  ap A is guaranteed\n",
      "    to be distributive data for any data A.\n",
      "    ap A : B C -> (ap A:B) (ap A:C)\n",
      "    ap A : B -> A:B if B is atom\n",
      "    ap A : () -> ()\n",
      "\u001b[;1mpath:\u001b[0m\n",
      "    /Users/youssef/coda/py/Apply.py\n",
      "\u001b[;1mdemos:\u001b[0m\n",
      "    1. \u001b[35;4map foo : 1 2 3\u001b[0m\n",
      "    2. \u001b[35;4map {bin : B} : 1 2 3\u001b[0m\n",
      "    3. \u001b[35;4map {first A : get bin : B} 2 : (bin:a b c d e) (bin:x y z)\u001b[0m\n",
      "    4. \u001b[35;4maq bin bin bin bin : 1 2 3 4\u001b[0m\n",
      "    5. \u001b[35;4map aq a b c : 1 2 3\u001b[0m\n",
      "    6. \u001b[35;4max bin a b c : 1 2 3\u001b[0m\n",
      "    7. \u001b[35;4max first 2 3 : a b c d e f g\u001b[0m\n",
      "    8. \u001b[35;4map ax a b c : 1 2 3\u001b[0m\n",
      "    9. \u001b[35;4mby 2 foo : a b c d e f g\u001b[0m\n",
      "    10. \u001b[35;4map {if (count:get bin:B)=2:B} : (bin:a b) (bin:a b c) (bin:x y) (bin:a b c d)\u001b[0m\n"
     ]
    }
   ],
   "source": [
    "help : ap"
   ]
  },
  {
   "cell_type": "code",
   "execution_count": 3,
   "id": "ad060e48-f380-44c0-b24b-6ad6ed0cd8dc",
   "metadata": {},
   "outputs": [
    {
     "name": "stdout",
     "output_type": "stream",
     "text": [
      "a b a b c"
     ]
    }
   ],
   "source": [
    "demo ax : 7"
   ]
  },
  {
   "cell_type": "code",
   "execution_count": 4,
   "id": "768b29f3-de71-4fde-8f4d-77ea34e0ee2b",
   "metadata": {},
   "outputs": [
    {
     "name": "stdout",
     "output_type": "stream",
     "text": []
    }
   ],
   "source": [
    "Let x : 55"
   ]
  },
  {
   "cell_type": "code",
   "execution_count": 5,
   "id": "631564f2-0128-4b7a-a623-7bfd52432cd9",
   "metadata": {},
   "outputs": [
    {
     "name": "stdout",
     "output_type": "stream",
     "text": [
      "55"
     ]
    }
   ],
   "source": [
    "x?"
   ]
  },
  {
   "cell_type": "code",
   "execution_count": 6,
   "id": "083bb9ae-af3f-4916-8b98-da96a1885f2f",
   "metadata": {},
   "outputs": [
    {
     "name": "stdout",
     "output_type": "stream",
     "text": [
      "(def y:arg 44)"
     ]
    }
   ],
   "source": [
    "let y : 44"
   ]
  },
  {
   "cell_type": "code",
   "execution_count": 7,
   "id": "455f8543-e84e-4d0e-82c3-041809a71a06",
   "metadata": {},
   "outputs": [
    {
     "name": "stdout",
     "output_type": "stream",
     "text": []
    }
   ],
   "source": [
    "use : let y : 44"
   ]
  },
  {
   "cell_type": "code",
   "execution_count": 8,
   "id": "507afeb9-9ba8-45ab-a45f-645d1b30ca10",
   "metadata": {},
   "outputs": [
    {
     "name": "stdout",
     "output_type": "stream",
     "text": [
      "44"
     ]
    }
   ],
   "source": [
    "y?"
   ]
  },
  {
   "cell_type": "code",
   "execution_count": null,
   "id": "05716e20-97cd-4d04-9576-4f690c15cbd6",
   "metadata": {},
   "outputs": [],
   "source": []
  }
 ],
 "metadata": {
  "kernelspec": {
   "display_name": "coda",
   "language": "",
   "name": "coda"
  },
  "language_info": {
   "file_extension": ".co",
   "mimetype": "text/plain",
   "name": "Any text"
  }
 },
 "nbformat": 4,
 "nbformat_minor": 5
}
