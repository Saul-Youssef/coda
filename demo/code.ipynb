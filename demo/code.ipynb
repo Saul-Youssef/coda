{
 "cells": [
  {
   "cell_type": "markdown",
   "id": "c97d7547-d62d-419b-899f-4c25b1728edb",
   "metadata": {},
   "source": [
    "## Code and Unicode\n",
    "\n",
    "These are basic demos showing bits, bytes, and unicode text in the system.\n",
    "\n",
    "Data is a finite sequence of codas and a coda is a pair of data.  This means that everything is constructed from empty sequences.  This includes bits, bytes and and strings of bytes.  "
   ]
  },
  {
   "cell_type": "code",
   "execution_count": 1,
   "id": "49b96420-fca7-4473-b00e-ee190b291d59",
   "metadata": {
    "tags": []
   },
   "outputs": [],
   "source": [
    "from base import * \n",
    "import string\n",
    "import Code "
   ]
  },
  {
   "cell_type": "code",
   "execution_count": 2,
   "id": "11f2f92d-d6f6-494c-b598-d8f2fcaef196",
   "metadata": {},
   "outputs": [
    {
     "data": {
      "text/plain": [
       "'0123456789abcdefghijklmnopqrstuvwxyzABCDEFGHIJKLMNOPQRSTUVWXYZ!\"#$%&\\'()*+,-./:;<=>?@[\\\\]^_`{|}~ \\t\\n\\r\\x0b\\x0c'"
      ]
     },
     "execution_count": 2,
     "metadata": {},
     "output_type": "execute_result"
    }
   ],
   "source": [
    "string.printable  # python printables have equivalent codas"
   ]
  },
  {
   "cell_type": "markdown",
   "id": "b99a04f7-63cb-4805-bb22-e812ce8af056",
   "metadata": {},
   "source": [
    "Bits are made from pure data as follows."
   ]
  },
  {
   "cell_type": "code",
   "execution_count": 3,
   "id": "78574325-30b2-46d0-b5a4-cb4fcb4d8e80",
   "metadata": {},
   "outputs": [
    {
     "name": "stdout",
     "output_type": "stream",
     "text": [
      "𝟬 (:) <class 'base.coda'>\n",
      "𝟭 (:(:)) <class 'base.coda'>\n"
     ]
    }
   ],
   "source": [
    "z = data()\n",
    "bit0 = z|z\n",
    "bit1 = z|data(z|z)\n",
    "print(bit0,repr(bit0),type(bit0))\n",
    "print(bit1,repr(bit1),type(bit1))"
   ]
  },
  {
   "cell_type": "markdown",
   "id": "401b69ed-d30e-439e-bf2b-e5b8067debc0",
   "metadata": {},
   "source": [
    "The general setup is that the Code module contains mappings between some codas and unicode strings.  This is used for display purposes only.  To create text data in python, one normally uses the functions `co` (to make a coda) or `da` (to make data)."
   ]
  },
  {
   "cell_type": "code",
   "execution_count": 4,
   "id": "8fbd2369-c260-4a33-9cd8-0b403699841d",
   "metadata": {},
   "outputs": [
    {
     "name": "stdout",
     "output_type": "stream",
     "text": [
      "(:Hello World (:𝟭𝟭𝟭𝟬𝟭𝟬𝟬𝟬𝟬𝟬)) <class 'base.coda'>\n",
      "(:Hello World (:𝟭𝟭𝟭𝟬𝟭𝟬𝟭𝟬𝟬𝟭)) <class 'base.data'>\n"
     ]
    }
   ],
   "source": [
    "cotext = co('Hello World \\u03A0')\n",
    "datext = da('Hello World \\u03A9') \n",
    "print(cotext,type(cotext))\n",
    "print(datext,type(datext))"
   ]
  },
  {
   "cell_type": "markdown",
   "id": "b494261a-6b9e-476e-90b4-a1dcd7a1559b",
   "metadata": {},
   "source": [
    "You might be wondering about the colon in (:Hello...).  The point of this is that this is a coda with left data equal to the empty sequence.  The empty sequence has a corresponding definition which is the identity.  The effect of this is to guarantee that the string \"Hello World...\" won't be modified by some other definition.  It is \"atomic\" data.  Bits, bytes and strings are created as atoms by `co` and `da`.  If you want, you can get at the components as follows."
   ]
  },
  {
   "cell_type": "code",
   "execution_count": 5,
   "id": "66ff5ff7-fdf5-4370-aa34-813fbb02a2fa",
   "metadata": {},
   "outputs": [
    {
     "name": "stdout",
     "output_type": "stream",
     "text": [
      "H (:(:)(:(:))(:)(:)(:(:))(:)(:)(:))\n",
      "e (:(:)(:(:))(:(:))(:)(:)(:(:))(:)(:(:)))\n",
      "l (:(:)(:(:))(:(:))(:)(:(:))(:(:))(:)(:))\n",
      "l (:(:)(:(:))(:(:))(:)(:(:))(:(:))(:)(:))\n",
      "o (:(:)(:(:))(:(:))(:)(:(:))(:(:))(:(:))(:(:)))\n",
      "  (:(:)(:)(:(:))(:)(:)(:)(:)(:))\n",
      "W (:(:)(:(:))(:)(:(:))(:)(:(:))(:(:))(:(:)))\n",
      "o (:(:)(:(:))(:(:))(:)(:(:))(:(:))(:(:))(:(:)))\n",
      "r (:(:)(:(:))(:(:))(:(:))(:)(:)(:(:))(:))\n",
      "l (:(:)(:(:))(:(:))(:)(:(:))(:(:))(:)(:))\n",
      "d (:(:)(:(:))(:(:))(:)(:)(:(:))(:)(:))\n",
      "  (:(:)(:)(:(:))(:)(:)(:)(:)(:))\n",
      "(:𝟭𝟭𝟭𝟬𝟭𝟬𝟬𝟬𝟬𝟬) (:(:(:))(:(:))(:(:))(:)(:(:))(:)(:)(:)(:)(:))\n"
     ]
    }
   ],
   "source": [
    "for c in cotext.right(): print(c,repr(c))"
   ]
  },
  {
   "cell_type": "code",
   "execution_count": 6,
   "id": "847d6fb0-ecad-4832-9cf6-3594100595b7",
   "metadata": {},
   "outputs": [
    {
     "data": {
      "text/plain": [
       "'Hello World (:𝟭𝟭𝟭𝟬𝟭𝟬𝟬𝟬𝟬𝟬)'"
      ]
     },
     "execution_count": 6,
     "metadata": {},
     "output_type": "execute_result"
    }
   ],
   "source": [
    "Code.coda2str(cotext)"
   ]
  },
  {
   "cell_type": "code",
   "execution_count": 7,
   "id": "f3a04d76-928c-49bf-afcb-7e6e4a604b8d",
   "metadata": {},
   "outputs": [
    {
     "name": "stdout",
     "output_type": "stream",
     "text": [
      "𝟬 (:)\n",
      "𝟭 (:(:))\n",
      "𝟬 (:)\n",
      "𝟬 (:)\n",
      "𝟭 (:(:))\n",
      "𝟬 (:)\n",
      "𝟬 (:)\n",
      "𝟬 (:)\n"
     ]
    }
   ],
   "source": [
    "H = cotext.right()[0]\n",
    "for b in H.right(): print(b,repr(b))"
   ]
  },
  {
   "cell_type": "code",
   "execution_count": 8,
   "id": "5aea502c-6098-43a4-ad01-553f6dffa75c",
   "metadata": {},
   "outputs": [
    {
     "name": "stdout",
     "output_type": "stream",
     "text": [
      "𝟬 (:)\n"
     ]
    }
   ],
   "source": [
    "b = H.right()[0]\n",
    "print(b,repr(b))"
   ]
  },
  {
   "cell_type": "code",
   "execution_count": 9,
   "id": "6cebbaf4-52ef-40f2-97ba-8ede678738ee",
   "metadata": {},
   "outputs": [
    {
     "name": "stdout",
     "output_type": "stream",
     "text": [
      "a a Ω (:𝟭𝟭𝟭𝟬𝟭𝟬𝟭𝟬𝟬𝟭)\n"
     ]
    }
   ],
   "source": [
    "#\n",
    "#   You can also create individual bytes in the unlikely event this is necessary  \n",
    "#\n",
    "print('a',Code.byte('a'),'\\u03A9',Code.byte('\\u03A9'))"
   ]
  },
  {
   "cell_type": "code",
   "execution_count": 10,
   "id": "b976cefa-f3fd-4e7c-a709-a7c15d7f05d1",
   "metadata": {
    "tags": []
   },
   "outputs": [
    {
     "name": "stdout",
     "output_type": "stream",
     "text": [
      "<class 'str'> 𝟬 <- (:)\n",
      "<class 'str'> 𝟭 <- (:(:))\n",
      "<class 'str'> 0 <- (:(:)(:)(:(:))(:(:))(:)(:)(:)(:))\n",
      "<class 'str'> 1 <- (:(:)(:)(:(:))(:(:))(:)(:)(:)(:(:)))\n",
      "<class 'str'> 2 <- (:(:)(:)(:(:))(:(:))(:)(:)(:(:))(:))\n",
      "<class 'str'> 3 <- (:(:)(:)(:(:))(:(:))(:)(:)(:(:))(:(:)))\n",
      "<class 'str'> 4 <- (:(:)(:)(:(:))(:(:))(:)(:(:))(:)(:))\n",
      "<class 'str'> 5 <- (:(:)(:)(:(:))(:(:))(:)(:(:))(:)(:(:)))\n",
      "<class 'str'> 6 <- (:(:)(:)(:(:))(:(:))(:)(:(:))(:(:))(:))\n",
      "<class 'str'> 7 <- (:(:)(:)(:(:))(:(:))(:)(:(:))(:(:))(:(:)))\n",
      "<class 'str'> 8 <- (:(:)(:)(:(:))(:(:))(:(:))(:)(:)(:))\n",
      "<class 'str'> 9 <- (:(:)(:)(:(:))(:(:))(:(:))(:)(:)(:(:)))\n",
      "<class 'str'> a <- (:(:)(:(:))(:(:))(:)(:)(:)(:)(:(:)))\n",
      "<class 'str'> b <- (:(:)(:(:))(:(:))(:)(:)(:)(:(:))(:))\n",
      "<class 'str'> c <- (:(:)(:(:))(:(:))(:)(:)(:)(:(:))(:(:)))\n",
      "<class 'str'> d <- (:(:)(:(:))(:(:))(:)(:)(:(:))(:)(:))\n",
      "<class 'str'> e <- (:(:)(:(:))(:(:))(:)(:)(:(:))(:)(:(:)))\n",
      "<class 'str'> f <- (:(:)(:(:))(:(:))(:)(:)(:(:))(:(:))(:))\n",
      "<class 'str'> g <- (:(:)(:(:))(:(:))(:)(:)(:(:))(:(:))(:(:)))\n",
      "<class 'str'> h <- (:(:)(:(:))(:(:))(:)(:(:))(:)(:)(:))\n",
      "<class 'str'> i <- (:(:)(:(:))(:(:))(:)(:(:))(:)(:)(:(:)))\n",
      "<class 'str'> j <- (:(:)(:(:))(:(:))(:)(:(:))(:)(:(:))(:))\n",
      "<class 'str'> k <- (:(:)(:(:))(:(:))(:)(:(:))(:)(:(:))(:(:)))\n",
      "<class 'str'> l <- (:(:)(:(:))(:(:))(:)(:(:))(:(:))(:)(:))\n",
      "<class 'str'> m <- (:(:)(:(:))(:(:))(:)(:(:))(:(:))(:)(:(:)))\n",
      "<class 'str'> n <- (:(:)(:(:))(:(:))(:)(:(:))(:(:))(:(:))(:))\n",
      "<class 'str'> o <- (:(:)(:(:))(:(:))(:)(:(:))(:(:))(:(:))(:(:)))\n",
      "<class 'str'> p <- (:(:)(:(:))(:(:))(:(:))(:)(:)(:)(:))\n",
      "<class 'str'> q <- (:(:)(:(:))(:(:))(:(:))(:)(:)(:)(:(:)))\n",
      "<class 'str'> r <- (:(:)(:(:))(:(:))(:(:))(:)(:)(:(:))(:))\n",
      "<class 'str'> s <- (:(:)(:(:))(:(:))(:(:))(:)(:)(:(:))(:(:)))\n",
      "<class 'str'> t <- (:(:)(:(:))(:(:))(:(:))(:)(:(:))(:)(:))\n",
      "<class 'str'> u <- (:(:)(:(:))(:(:))(:(:))(:)(:(:))(:)(:(:)))\n",
      "<class 'str'> v <- (:(:)(:(:))(:(:))(:(:))(:)(:(:))(:(:))(:))\n",
      "<class 'str'> w <- (:(:)(:(:))(:(:))(:(:))(:)(:(:))(:(:))(:(:)))\n",
      "<class 'str'> x <- (:(:)(:(:))(:(:))(:(:))(:(:))(:)(:)(:))\n",
      "<class 'str'> y <- (:(:)(:(:))(:(:))(:(:))(:(:))(:)(:)(:(:)))\n",
      "<class 'str'> z <- (:(:)(:(:))(:(:))(:(:))(:(:))(:)(:(:))(:))\n",
      "<class 'str'> A <- (:(:)(:(:))(:)(:)(:)(:)(:)(:(:)))\n",
      "<class 'str'> B <- (:(:)(:(:))(:)(:)(:)(:)(:(:))(:))\n",
      "<class 'str'> C <- (:(:)(:(:))(:)(:)(:)(:)(:(:))(:(:)))\n",
      "<class 'str'> D <- (:(:)(:(:))(:)(:)(:)(:(:))(:)(:))\n",
      "<class 'str'> E <- (:(:)(:(:))(:)(:)(:)(:(:))(:)(:(:)))\n",
      "<class 'str'> F <- (:(:)(:(:))(:)(:)(:)(:(:))(:(:))(:))\n",
      "<class 'str'> G <- (:(:)(:(:))(:)(:)(:)(:(:))(:(:))(:(:)))\n",
      "<class 'str'> H <- (:(:)(:(:))(:)(:)(:(:))(:)(:)(:))\n",
      "<class 'str'> I <- (:(:)(:(:))(:)(:)(:(:))(:)(:)(:(:)))\n",
      "<class 'str'> J <- (:(:)(:(:))(:)(:)(:(:))(:)(:(:))(:))\n",
      "<class 'str'> K <- (:(:)(:(:))(:)(:)(:(:))(:)(:(:))(:(:)))\n",
      "<class 'str'> L <- (:(:)(:(:))(:)(:)(:(:))(:(:))(:)(:))\n",
      "<class 'str'> M <- (:(:)(:(:))(:)(:)(:(:))(:(:))(:)(:(:)))\n",
      "<class 'str'> N <- (:(:)(:(:))(:)(:)(:(:))(:(:))(:(:))(:))\n",
      "<class 'str'> O <- (:(:)(:(:))(:)(:)(:(:))(:(:))(:(:))(:(:)))\n",
      "<class 'str'> P <- (:(:)(:(:))(:)(:(:))(:)(:)(:)(:))\n",
      "<class 'str'> Q <- (:(:)(:(:))(:)(:(:))(:)(:)(:)(:(:)))\n",
      "<class 'str'> R <- (:(:)(:(:))(:)(:(:))(:)(:)(:(:))(:))\n",
      "<class 'str'> S <- (:(:)(:(:))(:)(:(:))(:)(:)(:(:))(:(:)))\n",
      "<class 'str'> T <- (:(:)(:(:))(:)(:(:))(:)(:(:))(:)(:))\n",
      "<class 'str'> U <- (:(:)(:(:))(:)(:(:))(:)(:(:))(:)(:(:)))\n",
      "<class 'str'> V <- (:(:)(:(:))(:)(:(:))(:)(:(:))(:(:))(:))\n",
      "<class 'str'> W <- (:(:)(:(:))(:)(:(:))(:)(:(:))(:(:))(:(:)))\n",
      "<class 'str'> X <- (:(:)(:(:))(:)(:(:))(:(:))(:)(:)(:))\n",
      "<class 'str'> Y <- (:(:)(:(:))(:)(:(:))(:(:))(:)(:)(:(:)))\n",
      "<class 'str'> Z <- (:(:)(:(:))(:)(:(:))(:(:))(:)(:(:))(:))\n",
      "<class 'str'> ! <- (:(:)(:)(:(:))(:)(:)(:)(:)(:(:)))\n",
      "<class 'str'> \" <- (:(:)(:)(:(:))(:)(:)(:)(:(:))(:))\n",
      "<class 'str'> # <- (:(:)(:)(:(:))(:)(:)(:)(:(:))(:(:)))\n",
      "<class 'str'> $ <- (:(:)(:)(:(:))(:)(:)(:(:))(:)(:))\n",
      "<class 'str'> % <- (:(:)(:)(:(:))(:)(:)(:(:))(:)(:(:)))\n",
      "<class 'str'> & <- (:(:)(:)(:(:))(:)(:)(:(:))(:(:))(:))\n",
      "<class 'str'> ' <- (:(:)(:)(:(:))(:)(:)(:(:))(:(:))(:(:)))\n",
      "<class 'str'> ( <- (:(:)(:)(:(:))(:)(:(:))(:)(:)(:))\n",
      "<class 'str'> ) <- (:(:)(:)(:(:))(:)(:(:))(:)(:)(:(:)))\n",
      "<class 'str'> * <- (:(:)(:)(:(:))(:)(:(:))(:)(:(:))(:))\n",
      "<class 'str'> + <- (:(:)(:)(:(:))(:)(:(:))(:)(:(:))(:(:)))\n",
      "<class 'str'> , <- (:(:)(:)(:(:))(:)(:(:))(:(:))(:)(:))\n",
      "<class 'str'> - <- (:(:)(:)(:(:))(:)(:(:))(:(:))(:)(:(:)))\n",
      "<class 'str'> . <- (:(:)(:)(:(:))(:)(:(:))(:(:))(:(:))(:))\n",
      "<class 'str'> / <- (:(:)(:)(:(:))(:)(:(:))(:(:))(:(:))(:(:)))\n",
      "<class 'str'> : <- (:(:)(:)(:(:))(:(:))(:(:))(:)(:(:))(:))\n",
      "<class 'str'> ; <- (:(:)(:)(:(:))(:(:))(:(:))(:)(:(:))(:(:)))\n",
      "<class 'str'> < <- (:(:)(:)(:(:))(:(:))(:(:))(:(:))(:)(:))\n",
      "<class 'str'> = <- (:(:)(:)(:(:))(:(:))(:(:))(:(:))(:)(:(:)))\n",
      "<class 'str'> > <- (:(:)(:)(:(:))(:(:))(:(:))(:(:))(:(:))(:))\n",
      "<class 'str'> ? <- (:(:)(:)(:(:))(:(:))(:(:))(:(:))(:(:))(:(:)))\n",
      "<class 'str'> @ <- (:(:)(:(:))(:)(:)(:)(:)(:)(:))\n",
      "<class 'str'> [ <- (:(:)(:(:))(:)(:(:))(:(:))(:)(:(:))(:(:)))\n",
      "<class 'str'> \\ <- (:(:)(:(:))(:)(:(:))(:(:))(:(:))(:)(:))\n",
      "<class 'str'> ] <- (:(:)(:(:))(:)(:(:))(:(:))(:(:))(:)(:(:)))\n",
      "<class 'str'> ^ <- (:(:)(:(:))(:)(:(:))(:(:))(:(:))(:(:))(:))\n",
      "<class 'str'> _ <- (:(:)(:(:))(:)(:(:))(:(:))(:(:))(:(:))(:(:)))\n",
      "<class 'str'> ` <- (:(:)(:(:))(:(:))(:)(:)(:)(:)(:))\n",
      "<class 'str'> { <- (:(:)(:(:))(:(:))(:(:))(:(:))(:)(:(:))(:(:)))\n",
      "<class 'str'> | <- (:(:)(:(:))(:(:))(:(:))(:(:))(:(:))(:)(:))\n",
      "<class 'str'> } <- (:(:)(:(:))(:(:))(:(:))(:(:))(:(:))(:)(:(:)))\n",
      "<class 'str'> ~ <- (:(:)(:(:))(:(:))(:(:))(:(:))(:(:))(:(:))(:))\n",
      "<class 'str'>   <- (:(:)(:)(:(:))(:)(:)(:)(:)(:))\n",
      "<class 'str'> \t <- (:(:)(:)(:)(:)(:(:))(:)(:)(:(:)))\n",
      "<class 'str'> \n",
      " <- (:(:)(:)(:)(:)(:(:))(:)(:(:))(:))\n",
      " <- (:(:)(:)(:)(:)(:(:))(:(:))(:)(:(:)))\n",
      "<class 'str'> \u000b",
      " <- (:(:)(:)(:)(:)(:(:))(:)(:(:))(:(:)))\n",
      "<class 'str'> \f",
      " <- (:(:)(:)(:)(:)(:(:))(:(:))(:)(:))\n"
     ]
    }
   ],
   "source": [
    "#\n",
    "#   The CODE dictionary in the Code module contains a standard coda<->unicode correspondence.  This is only \n",
    "#   used for display purposes.\n",
    "#\n",
    "for key,value in Code.CODE.items(): print(type(value),value,'<-',repr(key))"
   ]
  },
  {
   "cell_type": "code",
   "execution_count": null,
   "id": "b18efbcd-1274-4e2b-b7f0-b415aa5e390d",
   "metadata": {},
   "outputs": [],
   "source": []
  },
  {
   "cell_type": "code",
   "execution_count": null,
   "id": "cefbb0d0-1742-461f-b4d7-4fe891c95d01",
   "metadata": {},
   "outputs": [],
   "source": []
  },
  {
   "cell_type": "code",
   "execution_count": 11,
   "id": "3278f099-8887-4dbb-9899-5aab74a65776",
   "metadata": {},
   "outputs": [],
   "source": [
    "a = Code.byte('}')"
   ]
  },
  {
   "cell_type": "code",
   "execution_count": 12,
   "id": "48a7582e-c7a4-486c-934c-06d14ecfac62",
   "metadata": {},
   "outputs": [
    {
     "data": {
      "text/plain": [
       "(:(:)(:(:))(:(:))(:(:))(:(:))(:(:))(:)(:(:)))"
      ]
     },
     "execution_count": 12,
     "metadata": {},
     "output_type": "execute_result"
    }
   ],
   "source": [
    "a"
   ]
  },
  {
   "cell_type": "code",
   "execution_count": 13,
   "id": "70fffe2b-079a-43cd-ac83-282ad37fea7b",
   "metadata": {},
   "outputs": [
    {
     "data": {
      "text/plain": [
       "base.coda"
      ]
     },
     "execution_count": 13,
     "metadata": {},
     "output_type": "execute_result"
    }
   ],
   "source": [
    "type(a)"
   ]
  },
  {
   "cell_type": "code",
   "execution_count": 14,
   "id": "4795c71e-f269-4452-8734-4820c3710fa3",
   "metadata": {},
   "outputs": [
    {
     "data": {
      "text/plain": [
       "(base.data, base.data)"
      ]
     },
     "execution_count": 14,
     "metadata": {},
     "output_type": "execute_result"
    }
   ],
   "source": [
    "type(a.left()),type(a.right())"
   ]
  },
  {
   "cell_type": "code",
   "execution_count": 15,
   "id": "d9729d1f-d6dd-4e2c-a708-01bb1ae3434c",
   "metadata": {},
   "outputs": [
    {
     "data": {
      "text/plain": [
       "(, (:)(:(:))(:(:))(:(:))(:(:))(:(:))(:)(:(:)))"
      ]
     },
     "execution_count": 15,
     "metadata": {},
     "output_type": "execute_result"
    }
   ],
   "source": [
    "a.left(),a.right()"
   ]
  },
  {
   "cell_type": "code",
   "execution_count": 16,
   "id": "b774458e-9e3d-46c7-84d2-2c9aeed7f63c",
   "metadata": {},
   "outputs": [
    {
     "data": {
      "text/plain": [
       "''"
      ]
     },
     "execution_count": 16,
     "metadata": {},
     "output_type": "execute_result"
    }
   ],
   "source": [
    "str(a.left())"
   ]
  },
  {
   "cell_type": "code",
   "execution_count": 17,
   "id": "4cf9cd8c-3005-4fa2-a719-04713e3bfe4e",
   "metadata": {},
   "outputs": [
    {
     "data": {
      "text/plain": [
       "'𝟬𝟭𝟭𝟭𝟭𝟭𝟬𝟭'"
      ]
     },
     "execution_count": 17,
     "metadata": {},
     "output_type": "execute_result"
    }
   ],
   "source": [
    "str(a.right())"
   ]
  },
  {
   "cell_type": "code",
   "execution_count": 18,
   "id": "99b9dd35-904d-4abd-9e2d-d31f3be48891",
   "metadata": {},
   "outputs": [
    {
     "data": {
      "text/plain": [
       "False"
      ]
     },
     "execution_count": 18,
     "metadata": {},
     "output_type": "execute_result"
    }
   ],
   "source": [
    "Code.byte('}')==Code.byte('{')"
   ]
  },
  {
   "cell_type": "code",
   "execution_count": 19,
   "id": "300e22c9-d594-4d8c-8e0b-7209f696ea2c",
   "metadata": {},
   "outputs": [],
   "source": [
    "a = Code.byte('a'); b = Code.byte('b')"
   ]
  },
  {
   "cell_type": "code",
   "execution_count": 20,
   "id": "70c40c0a-694f-4ce0-aa46-c517bc8bf33c",
   "metadata": {},
   "outputs": [
    {
     "data": {
      "text/plain": [
       "False"
      ]
     },
     "execution_count": 20,
     "metadata": {},
     "output_type": "execute_result"
    }
   ],
   "source": [
    "a==b"
   ]
  },
  {
   "cell_type": "code",
   "execution_count": 21,
   "id": "7e06324c-196a-4de2-b987-9ac59ec48071",
   "metadata": {},
   "outputs": [
    {
     "data": {
      "text/plain": [
       "(base.data, base.data)"
      ]
     },
     "execution_count": 21,
     "metadata": {},
     "output_type": "execute_result"
    }
   ],
   "source": [
    "type(a.right()),type(b.right())"
   ]
  },
  {
   "cell_type": "code",
   "execution_count": 22,
   "id": "3a484f30-1fa8-40f6-a471-aa031d2d6f71",
   "metadata": {},
   "outputs": [
    {
     "data": {
      "text/plain": [
       "'𝟬𝟭𝟭𝟬𝟬𝟬𝟬𝟭'"
      ]
     },
     "execution_count": 22,
     "metadata": {},
     "output_type": "execute_result"
    }
   ],
   "source": [
    "str(a.right())"
   ]
  },
  {
   "cell_type": "code",
   "execution_count": 23,
   "id": "5b45f449-f0c4-463e-ac4f-58dce1eb3deb",
   "metadata": {},
   "outputs": [
    {
     "data": {
      "text/plain": [
       "'𝟬𝟭𝟭𝟬𝟬𝟬𝟭𝟬'"
      ]
     },
     "execution_count": 23,
     "metadata": {},
     "output_type": "execute_result"
    }
   ],
   "source": [
    "str(b.right())"
   ]
  },
  {
   "cell_type": "code",
   "execution_count": 24,
   "id": "dc5d6d38-0eb6-4695-ae77-e192b2233b56",
   "metadata": {},
   "outputs": [],
   "source": [
    "ar = a.right()\n",
    "br = b.right()"
   ]
  },
  {
   "cell_type": "code",
   "execution_count": 25,
   "id": "ba8cb9cd-dc5e-42d0-a64a-f583a2ef7db1",
   "metadata": {},
   "outputs": [
    {
     "name": "stdout",
     "output_type": "stream",
     "text": [
      "<class 'base.coda'> 𝟬\n",
      "<class 'base.coda'> 𝟭\n",
      "<class 'base.coda'> 𝟭\n",
      "<class 'base.coda'> 𝟬\n",
      "<class 'base.coda'> 𝟬\n",
      "<class 'base.coda'> 𝟬\n",
      "<class 'base.coda'> 𝟬\n",
      "<class 'base.coda'> 𝟭\n"
     ]
    }
   ],
   "source": [
    "for x in ar: print(type(x),x)"
   ]
  },
  {
   "cell_type": "code",
   "execution_count": 26,
   "id": "df2cd17d-63e0-4de4-a144-64af4911aa33",
   "metadata": {},
   "outputs": [
    {
     "name": "stdout",
     "output_type": "stream",
     "text": [
      "<class 'base.coda'> 𝟬\n",
      "<class 'base.coda'> 𝟭\n",
      "<class 'base.coda'> 𝟭\n",
      "<class 'base.coda'> 𝟬\n",
      "<class 'base.coda'> 𝟬\n",
      "<class 'base.coda'> 𝟬\n",
      "<class 'base.coda'> 𝟭\n",
      "<class 'base.coda'> 𝟬\n"
     ]
    }
   ],
   "source": [
    "for x in br: print(type(x),x)"
   ]
  },
  {
   "cell_type": "code",
   "execution_count": 27,
   "id": "63ecf18a-2f2a-4d71-b10a-e836f5b271a9",
   "metadata": {},
   "outputs": [],
   "source": [
    "def equal(A,B): \n",
    "    return len(A)==len(B) and all(A[i]==B[i] for i in range(len(A)))"
   ]
  },
  {
   "cell_type": "code",
   "execution_count": 28,
   "id": "e37b4052-638c-4486-ae1a-9b8ba2a8fee7",
   "metadata": {},
   "outputs": [],
   "source": [
    "ar6 = ar[6]; br6 = br[6]"
   ]
  },
  {
   "cell_type": "code",
   "execution_count": 29,
   "id": "106a164d-6a85-4de7-8f6c-7801ba62f8cd",
   "metadata": {},
   "outputs": [
    {
     "data": {
      "text/plain": [
       "base.coda"
      ]
     },
     "execution_count": 29,
     "metadata": {},
     "output_type": "execute_result"
    }
   ],
   "source": [
    "type(ar6)"
   ]
  },
  {
   "cell_type": "code",
   "execution_count": 30,
   "id": "4fdea1ec-6de6-4a78-a54c-af4da2ba287a",
   "metadata": {},
   "outputs": [
    {
     "data": {
      "text/plain": [
       "base.coda"
      ]
     },
     "execution_count": 30,
     "metadata": {},
     "output_type": "execute_result"
    }
   ],
   "source": [
    "type(br6)"
   ]
  },
  {
   "cell_type": "code",
   "execution_count": 31,
   "id": "7b738e9e-e08c-4954-a073-ebaafe809dd4",
   "metadata": {},
   "outputs": [
    {
     "name": "stdout",
     "output_type": "stream",
     "text": [
      "𝟬 𝟭\n"
     ]
    }
   ],
   "source": [
    "print(ar6,br6)"
   ]
  },
  {
   "cell_type": "code",
   "execution_count": 32,
   "id": "659a276d-244d-4677-bc5f-b68192849b23",
   "metadata": {},
   "outputs": [
    {
     "data": {
      "text/plain": [
       "(base.coda, base.coda)"
      ]
     },
     "execution_count": 32,
     "metadata": {},
     "output_type": "execute_result"
    }
   ],
   "source": [
    "type(ar6),type(br6)"
   ]
  },
  {
   "cell_type": "code",
   "execution_count": 33,
   "id": "822f78fd-216b-494c-9f90-4c223e997ff3",
   "metadata": {},
   "outputs": [
    {
     "data": {
      "text/plain": [
       "(:)"
      ]
     },
     "execution_count": 33,
     "metadata": {},
     "output_type": "execute_result"
    }
   ],
   "source": [
    "Code.b0"
   ]
  },
  {
   "cell_type": "code",
   "execution_count": 34,
   "id": "ed8f8fa9-0a94-4872-a52a-567c26334fd1",
   "metadata": {},
   "outputs": [
    {
     "data": {
      "text/plain": [
       "(:(:))"
      ]
     },
     "execution_count": 34,
     "metadata": {},
     "output_type": "execute_result"
    }
   ],
   "source": [
    "Code.b1"
   ]
  },
  {
   "cell_type": "code",
   "execution_count": 35,
   "id": "48c709c6-1bbc-446b-b3e4-af795c410edc",
   "metadata": {},
   "outputs": [
    {
     "data": {
      "text/plain": [
       "(base.data, base.data)"
      ]
     },
     "execution_count": 35,
     "metadata": {},
     "output_type": "execute_result"
    }
   ],
   "source": [
    "type(Code.b1.left()),type(Code.b1.right())"
   ]
  },
  {
   "cell_type": "code",
   "execution_count": null,
   "id": "53972508-67e3-4003-ad0b-a44cb9ff7c76",
   "metadata": {},
   "outputs": [],
   "source": []
  }
 ],
 "metadata": {
  "kernelspec": {
   "display_name": "Python 3 (ipykernel)",
   "language": "python",
   "name": "python3"
  },
  "language_info": {
   "codemirror_mode": {
    "name": "ipython",
    "version": 3
   },
   "file_extension": ".py",
   "mimetype": "text/x-python",
   "name": "python",
   "nbconvert_exporter": "python",
   "pygments_lexer": "ipython3",
   "version": "3.10.7"
  }
 },
 "nbformat": 4,
 "nbformat_minor": 5
}
