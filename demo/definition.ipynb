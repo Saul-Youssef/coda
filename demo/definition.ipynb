{
 "cells": [
  {
   "cell_type": "markdown",
   "id": "143da33d-c873-447e-bd6e-668e4ccf6711",
   "metadata": {},
   "source": [
    "If you've gone through the base demonstration, you know about \"pure data\" made entirely from empty sequences.  So 'hello world', for instance, is internally represented as the pure data:\n",
    "\n",
    "`(((())(()())(()())(())(()())(())(())(()))((())(()())(()())(())(())(()())(())(()()))((())(()())(()())(())(()())(()())(())(()))((())(()())(()())(())(()())(()())(())(()))((())(()())(()())(())(()())(()())(()())(()()))((())(())(()())(())(())(())(())(()))((())(()())(()())(()())(())(()())(()())(()()))((())(()())(()())(())(()())(()())(()())(()()))((())(()())(()())(()())(())(())(()())(()))((())(()())(()())(())(()())(()())(())(()))((())(()())(()())(())(())(()())(())(())))`\n",
    "\n",
    "Since all data is going to be pure, let's agree that \"data\" means pure data unless otherwise specified. All meaning in coda comes from a sequence of **definitions**.  A definition is a partial function from pure data to pure data.  The currently active definitions are held in the `DEF` object, for instance:\n",
    "\n",
    "`DEF` <br>\n",
    "`∅,𝟬,𝟭,(pass),(null),(first)`\n",
    "\n",
    "indicates that there are six definitions with corresponding types as listed.  Each data has a type and the type determined which definition, if any, is applicable. "
   ]
  },
  {
   "cell_type": "code",
   "execution_count": 1,
   "id": "c72baf28-e5f2-4ae0-bdb5-54483aeaf5d4",
   "metadata": {},
   "outputs": [],
   "source": [
    "from base import *   # base system\n",
    "import __init__      # imports definitions defined by python code "
   ]
  },
  {
   "cell_type": "code",
   "execution_count": 2,
   "id": "93eb6e4d-44cf-4923-8667-cdc2f5a512aa",
   "metadata": {},
   "outputs": [
    {
     "data": {
      "text/plain": [
       "∅,𝟬,𝟭,(pass),(null),(first)"
      ]
     },
     "execution_count": 2,
     "metadata": {},
     "output_type": "execute_result"
    }
   ],
   "source": [
    "DEF"
   ]
  },
  {
   "cell_type": "code",
   "execution_count": 3,
   "id": "4f278e83-ef44-4d14-9c2d-1f050c8093ab",
   "metadata": {},
   "outputs": [
    {
     "name": "stdout",
     "output_type": "stream",
     "text": [
      "((1)(2)(3)) ((aa)(bb)) ∅ ((pass))\n"
     ]
    }
   ],
   "source": [
    "B1 = data(co('1'),co('2'),co('3'))\n",
    "B2 = data(co('aa'),co('bb'))\n",
    "B3 = data()\n",
    "Pass = data(co('pass')) \n",
    "print(B1,B2,B3,Pass)"
   ]
  },
  {
   "cell_type": "code",
   "execution_count": 4,
   "id": "c9ab13da-869d-44a7-818a-eb38f58d3d55",
   "metadata": {},
   "outputs": [],
   "source": [
    "D = Pass|B1"
   ]
  },
  {
   "cell_type": "code",
   "execution_count": 5,
   "id": "8333703b-f20e-4433-bb75-b4a058b95ec2",
   "metadata": {},
   "outputs": [
    {
     "data": {
      "text/plain": [
       "(((((())((()))((()))((()))(())(())(())(()))((())((()))((()))(())(())(())(())((())))((())((()))((()))((()))(())(())((()))((())))((())((()))((()))((()))(())(())((()))((())))))(((())(())((()))((()))(())(())(())((()))))(((())(())((()))((()))(())(())((()))(())))(((())(())((()))((()))(())(())((()))((())))))"
      ]
     },
     "execution_count": 5,
     "metadata": {},
     "output_type": "execute_result"
    }
   ],
   "source": [
    "D"
   ]
  },
  {
   "cell_type": "code",
   "execution_count": 6,
   "id": "a2c80193-f796-45fa-ad36-7ec2c5336963",
   "metadata": {},
   "outputs": [
    {
     "name": "stdout",
     "output_type": "stream",
     "text": [
      "a\n"
     ]
    }
   ],
   "source": [
    "print(B2.type())"
   ]
  },
  {
   "cell_type": "code",
   "execution_count": 7,
   "id": "a40cc0fb-da3f-4fb7-ba01-8c0ac1322d9c",
   "metadata": {},
   "outputs": [
    {
     "data": {
      "text/plain": [
       "True"
      ]
     },
     "execution_count": 7,
     "metadata": {},
     "output_type": "execute_result"
    }
   ],
   "source": [
    "D.type() in DEF"
   ]
  },
  {
   "cell_type": "code",
   "execution_count": 8,
   "id": "8389cf5f-0408-4814-85c4-60056702392c",
   "metadata": {},
   "outputs": [],
   "source": [
    "pf = DEF[D]"
   ]
  },
  {
   "cell_type": "code",
   "execution_count": 9,
   "id": "22a0659f-3c3e-46ba-b4ce-3ee02ebf49ab",
   "metadata": {},
   "outputs": [
    {
     "data": {
      "text/plain": [
       "((((())(())((()))((()))(())(())(())((()))))(((())(())((()))((()))(())(())((()))(())))(((())(())((()))((()))(())(())((()))((())))))"
      ]
     },
     "execution_count": 9,
     "metadata": {},
     "output_type": "execute_result"
    }
   ],
   "source": [
    "pf(D)"
   ]
  },
  {
   "cell_type": "code",
   "execution_count": 10,
   "id": "aee856da-8faf-498b-b257-f459b1de3e5e",
   "metadata": {},
   "outputs": [
    {
     "name": "stdout",
     "output_type": "stream",
     "text": [
      "((1)(2)(3))\n"
     ]
    }
   ],
   "source": [
    "print(pf(Pass|B1))"
   ]
  },
  {
   "cell_type": "code",
   "execution_count": 11,
   "id": "125dc0ac-9dfe-488a-87cb-67ebdfc3f362",
   "metadata": {},
   "outputs": [
    {
     "data": {
      "text/plain": [
       "((((())((()))((()))(())(())(())(())((())))((())((()))((()))(())(())(())(())((()))))(((())((()))((()))(())(())(())((()))(()))((())((()))((()))(())(())(())((()))(()))))"
      ]
     },
     "execution_count": 11,
     "metadata": {},
     "output_type": "execute_result"
    }
   ],
   "source": [
    "pf(Pass|B2)"
   ]
  },
  {
   "cell_type": "code",
   "execution_count": 12,
   "id": "50effe78-bf09-4d0c-b61d-986844c30bb7",
   "metadata": {},
   "outputs": [
    {
     "data": {
      "text/plain": [
       "()"
      ]
     },
     "execution_count": 12,
     "metadata": {},
     "output_type": "execute_result"
    }
   ],
   "source": [
    "pf(Pass|B3)"
   ]
  },
  {
   "cell_type": "code",
   "execution_count": 13,
   "id": "67f7aaa6-580a-4c7e-949b-269ccf11ddeb",
   "metadata": {},
   "outputs": [],
   "source": [
    "D = data(co('first'), co('2')) | B1"
   ]
  },
  {
   "cell_type": "code",
   "execution_count": 14,
   "id": "f7b7addf-817b-45ad-ac8e-8ccf54c64520",
   "metadata": {},
   "outputs": [],
   "source": [
    "pf = DEF[D]"
   ]
  },
  {
   "cell_type": "code",
   "execution_count": 15,
   "id": "0348ec82-bf0e-4ff1-8226-fef0ffa3a58c",
   "metadata": {},
   "outputs": [
    {
     "name": "stdout",
     "output_type": "stream",
     "text": [
      "aaaa 1 ((1)(2)(3)) False\n",
      "aaaaa 4 ((2)) ((1)(2)(3)) [2]\n",
      "aaaaa 4 2 ((1)(2)(3)) ((1)) ((2)(3))\n"
     ]
    },
    {
     "ename": "AttributeError",
     "evalue": "'data' object has no attribute 'atom'",
     "output_type": "error",
     "traceback": [
      "\u001b[0;31m---------------------------------------------------------------------------\u001b[0m",
      "\u001b[0;31mAttributeError\u001b[0m                            Traceback (most recent call last)",
      "Cell \u001b[0;32mIn[15], line 1\u001b[0m\n\u001b[0;32m----> 1\u001b[0m \u001b[38;5;28mprint\u001b[39m(\u001b[43mpf\u001b[49m\u001b[43m(\u001b[49m\u001b[43mD\u001b[49m\u001b[43m)\u001b[49m)\n",
      "File \u001b[0;32m~/coda/py/base.py:81\u001b[0m, in \u001b[0;36mPF.__call__\u001b[0;34m(self, D)\u001b[0m\n\u001b[1;32m     79\u001b[0m     B \u001b[38;5;241m=\u001b[39m data(\u001b[38;5;241m*\u001b[39mD[\u001b[38;5;241m1\u001b[39m:])\n\u001b[1;32m     80\u001b[0m     \u001b[38;5;28;01mfor\u001b[39;00m op \u001b[38;5;129;01min\u001b[39;00m \u001b[38;5;28mself\u001b[39m:\n\u001b[0;32m---> 81\u001b[0m         R \u001b[38;5;241m=\u001b[39m \u001b[43mop\u001b[49m\u001b[43m(\u001b[49m\u001b[43mA\u001b[49m\u001b[43m,\u001b[49m\u001b[43mB\u001b[49m\u001b[43m)\u001b[49m\n\u001b[1;32m     82\u001b[0m         \u001b[38;5;28;01mif\u001b[39;00m \u001b[38;5;129;01mnot\u001b[39;00m R \u001b[38;5;129;01mis\u001b[39;00m \u001b[38;5;28;01mNone\u001b[39;00m: \u001b[38;5;28;01mreturn\u001b[39;00m R\n\u001b[1;32m     83\u001b[0m \u001b[38;5;28;01mreturn\u001b[39;00m D\n",
      "File \u001b[0;32m~/coda/py/Basic.py:29\u001b[0m, in \u001b[0;36mfirst_4\u001b[0;34m(A, B)\u001b[0m\n\u001b[1;32m     27\u001b[0m L,R \u001b[38;5;241m=\u001b[39m B\u001b[38;5;241m.\u001b[39msplit()\n\u001b[1;32m     28\u001b[0m \u001b[38;5;28mprint\u001b[39m(\u001b[38;5;124m'\u001b[39m\u001b[38;5;124maaaaa 4\u001b[39m\u001b[38;5;124m'\u001b[39m,n,B,L,R)\n\u001b[0;32m---> 29\u001b[0m \u001b[38;5;28;01mif\u001b[39;00m \u001b[43mL\u001b[49m\u001b[38;5;241;43m.\u001b[39;49m\u001b[43matom\u001b[49m(): \u001b[38;5;28;01mreturn\u001b[39;00m L \u001b[38;5;241m+\u001b[39m data(co(\u001b[38;5;124m'\u001b[39m\u001b[38;5;124mfirst\u001b[39m\u001b[38;5;124m'\u001b[39m),co(\u001b[38;5;28mstr\u001b[39m(n\u001b[38;5;241m-\u001b[39m\u001b[38;5;241m1\u001b[39m))) \u001b[38;5;241m|\u001b[39m R\n",
      "\u001b[0;31mAttributeError\u001b[0m: 'data' object has no attribute 'atom'"
     ]
    }
   ],
   "source": [
    "print(pf(D))"
   ]
  }
 ],
 "metadata": {
  "kernelspec": {
   "display_name": "Python 3 (ipykernel)",
   "language": "python",
   "name": "python3"
  },
  "language_info": {
   "codemirror_mode": {
    "name": "ipython",
    "version": 3
   },
   "file_extension": ".py",
   "mimetype": "text/x-python",
   "name": "python",
   "nbconvert_exporter": "python",
   "pygments_lexer": "ipython3",
   "version": "3.10.7"
  }
 },
 "nbformat": 4,
 "nbformat_minor": 5
}
