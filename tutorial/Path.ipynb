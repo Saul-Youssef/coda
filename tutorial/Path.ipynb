{
 "cells": [
  {
   "cell_type": "code",
   "execution_count": null,
   "id": "5e3c39ae-edfe-499f-ab28-5023629ba822",
   "metadata": {},
   "outputs": [],
   "source": [
    "dir : ."
   ]
  },
  {
   "cell_type": "code",
   "execution_count": 2,
   "id": "d6aec8ac-c3e5-4409-aba7-dbe9e6ae65d1",
   "metadata": {},
   "outputs": [
    {
     "name": "stdout",
     "output_type": "stream",
     "text": [
      "/Users/youssef/.config /Users/youssef/math.sav.12 /Users/youssef/Music /Users/youssef/Home /Users/youssef/.serverauth.4682 /Users/youssef/.condarc /Users/youssef/.serverauth.2984 /Users/youssef/.serverauth.489 /Users/youssef/.x2go /Users/youssef/.coda-sav /Users/youssef/.serverauth.361 /Users/youssef/.DS_Store /Users/youssef/.serverauth.366 /Users/youssef/math-attempt /Users/youssef/LICENSE /Users/youssef/.serverauth.1027 /Users/youssef/.CFUserTextEncoding /Users/youssef/.serverauth.3545 /Users/youssef/archive /Users/youssef/.serverauth.735 /Users/youssef/.xonshrc /Users/youssef/.serverauth.562 /Users/youssef/.bashrc /Users/youssef/.zshrc /Users/youssef/math.sav.2 /Users/youssef/math.sav.5 /Users/youssef/.serverauth.3790 /Users/youssef/.serverauth.3964 /Users/youssef/.Xresources /Users/youssef/math.sav.4 /Users/youssef/Pictures /Users/youssef/math.sav.3 /Users/youssef/.serverauth.4974 /Users/youssef/.atom /Users/youssef/.zprofile /Users/youssef/.serverauth.1467 /Users/youssef/.serverauth.663 /Users/youssef/.serverauth.606 /Users/youssef/.serverauth.9521 /Users/youssef/.zsh_history /Users/youssef/.ipython /Users/youssef/Desktop /Users/youssef/Library /Users/youssef/coda.sav /Users/youssef/.lesshst /Users/youssef/coda.sav.6 /Users/youssef/.serverauth.1942 /Users/youssef/.serverauth.631 /Users/youssef/math /Users/youssef/math.sav.11 /Users/youssef/.cups /Users/youssef/.coda /Users/youssef/.bash_sessions /Users/youssef/.serverauth.9766 /Users/youssef/math.sav.10 /Users/youssef/.serverauth.470 /Users/youssef/.serverauth.828 /Users/youssef/Public /Users/youssef/.x2goclient /Users/youssef/math.broken2 /Users/youssef/.tcshrc /Users/youssef/work /Users/youssef/.anaconda /Users/youssef/.ssh /Users/youssef/Movies /Users/youssef/Applications /Users/youssef/.serverauth.955 /Users/youssef/.serverauth.532 /Users/youssef/opt /Users/youssef/.serverauth.963 /Users/youssef/.Trash /Users/youssef/.serverauth.521 /Users/youssef/.jupyter /Users/youssef/.serverauth.517 /Users/youssef/math.sav.8 /Users/youssef/.serverauth.2885 /Users/youssef/Documents /Users/youssef/math.sav.6 /Users/youssef/.serverauth.48036 /Users/youssef/math.sav /Users/youssef/.bash_profile /Users/youssef/math.sav.7 /Users/youssef/.Xauthority /Users/youssef/math.sav.9 /Users/youssef/.serverauth.8911 /Users/youssef/Downloads /Users/youssef/math.broken /Users/youssef/.python_history /Users/youssef/tmp /Users/youssef/.continuum /Users/youssef/.cache /Users/youssef/.serverauth.7214 /Users/youssef/coda.sav.3 /Users/youssef/coda.sav.4 /Users/youssef/.serverauth.1940 /Users/youssef/coda /Users/youssef/.bash_history /Users/youssef/.viminfo /Users/youssef/.zsh_sessions /Users/youssef/.globus /Users/youssef/.serverauth.632 /Users/youssef/.conda /Users/youssef/coda.sav.5 /Users/youssef/.serverauth.659 /Users/youssef/coda.try1 /Users/youssef/.serverauth.5529 /Users/youssef/coda.sav.2"
     ]
    }
   ],
   "source": [
    "dir : ~"
   ]
  },
  {
   "cell_type": "code",
   "execution_count": 3,
   "id": "3c4d32cc-b530-421d-a413-675cfb824cbf",
   "metadata": {},
   "outputs": [
    {
     "name": "stdout",
     "output_type": "stream",
     "text": []
    }
   ],
   "source": [
    "const X : make path : dir : . "
   ]
  },
  {
   "cell_type": "code",
   "execution_count": 4,
   "id": "74378e04-5328-4651-96b7-39ffc4d91aa3",
   "metadata": {},
   "outputs": [
    {
     "name": "stdout",
     "output_type": "stream",
     "text": [
      "0"
     ]
    }
   ],
   "source": [
    "count : X:"
   ]
  },
  {
   "cell_type": "code",
   "execution_count": 5,
   "id": "bbab944a-68fa-49a6-ae5b-5a8edc36c4dd",
   "metadata": {},
   "outputs": [
    {
     "name": "stdout",
     "output_type": "stream",
     "text": []
    }
   ],
   "source": [
    "make path : X:"
   ]
  },
  {
   "cell_type": "code",
   "execution_count": 6,
   "id": "fa4ae139-d74f-445e-b131-a877c1405fbc",
   "metadata": {},
   "outputs": [
    {
     "name": "stdout",
     "output_type": "stream",
     "text": []
    }
   ],
   "source": [
    "make fn : X:"
   ]
  },
  {
   "cell_type": "code",
   "execution_count": 7,
   "id": "be1a0b67-61bd-47d0-b756-8bc2e95b9802",
   "metadata": {},
   "outputs": [
    {
     "name": "stdout",
     "output_type": "stream",
     "text": []
    }
   ],
   "source": [
    "make ext : X:"
   ]
  },
  {
   "cell_type": "code",
   "execution_count": 8,
   "id": "a26bc406-e968-4743-a9c5-fdfa3eb01931",
   "metadata": {},
   "outputs": [
    {
     "name": "stdout",
     "output_type": "stream",
     "text": []
    }
   ],
   "source": [
    "make ext : make fn : X:"
   ]
  },
  {
   "cell_type": "code",
   "execution_count": 9,
   "id": "ace1e810-6a56-4583-848d-12462318b3ed",
   "metadata": {},
   "outputs": [
    {
     "name": "stdout",
     "output_type": "stream",
     "text": []
    }
   ],
   "source": [
    "make path : a b c"
   ]
  },
  {
   "cell_type": "code",
   "execution_count": 10,
   "id": "4544eaeb-28ff-4b0a-bc12-2ef8d48f5434",
   "metadata": {},
   "outputs": [
    {
     "name": "stdout",
     "output_type": "stream",
     "text": [
      "\u001b[;1mcode:\u001b[0m\n",
      "    \u001b[34;7mapeach\u001b[0m\n",
      "\u001b[;1mmodule:\u001b[0m\n",
      "    Apply\n",
      "\u001b[;1msummary:\u001b[0m\n",
      "    Apply A to each b in B.\n",
      "\u001b[;1mdescription:\u001b[0m\n",
      "    This is one of the most important basic\n",
      "    combinatorial operations.  ap A is guaranteed\n",
      "    to be distributive data for any data A.\n",
      "    ap A : B C -> (ap A:B) (ap A:C)\n",
      "    ap A : B -> A:B if B is atom\n",
      "    ap A : () -> ()\n",
      "\u001b[;1mpath:\u001b[0m\n",
      "    /Users/youssef/coda/py/Apply.py\n",
      "\u001b[;1mdemos:\u001b[0m\n",
      "    1. \u001b[35;4mfoo : 1 2 3\u001b[0m\n",
      "    2. \u001b[35;4map foo : 1 2 3\u001b[0m\n",
      "    3. \u001b[35;4map {foo : B} : 1 2 3\u001b[0m\n",
      "    4. \u001b[35;4mapall a b c : 1 2 3\u001b[0m\n",
      "    5. \u001b[35;4mapeach a b c : 1 2 3\u001b[0m\n",
      "    6. \u001b[35;4mapall  {put 1:B} {put 2:B} {put 3:B} : a b c\u001b[0m\n",
      "    7. \u001b[35;4mapeach {put 1:B} {put 2:B} {put 3:B} : a b c\u001b[0m\n",
      "    8. \u001b[35;4maparg a b c : 1 2 3\u001b[0m\n",
      "    9. \u001b[35;4maparg first 2 3 : a b c d e f g\u001b[0m\n",
      "    10. \u001b[35;4mapbin foo : a b c d\u001b[0m\n",
      "    11. \u001b[35;4mapbin int_add : 1 2 3 4 5\u001b[0m\n",
      "    12. \u001b[35;4mapby 2 foo : a b c d e f g\u001b[0m\n",
      "    13. \u001b[35;4mapif {(count:get bin:B)=2} : (bin:a b) (bin:a b c) (bin:x y) (bin:a b c d)\u001b[0m\n"
     ]
    }
   ],
   "source": [
    "help : apeach"
   ]
  },
  {
   "cell_type": "code",
   "execution_count": 11,
   "id": "33bcd29a-6fd1-4e99-9096-1d2c97ba53df",
   "metadata": {},
   "outputs": [
    {
     "name": "stdout",
     "output_type": "stream",
     "text": [
      "(a:1) (a:2) (a:3) (b:1) (b:2) (b:3) (c:1) (c:2) (c:3)"
     ]
    }
   ],
   "source": [
    "apeach a b c : 1 2 3 "
   ]
  },
  {
   "cell_type": "code",
   "execution_count": 12,
   "id": "8b292d95-42c4-45d2-a687-520d991d9268",
   "metadata": {},
   "outputs": [
    {
     "name": "stdout",
     "output_type": "stream",
     "text": []
    }
   ],
   "source": [
    "make path : a b c "
   ]
  },
  {
   "cell_type": "code",
   "execution_count": 13,
   "id": "0094c902-4473-4c6d-897e-7472903bd4fb",
   "metadata": {},
   "outputs": [
    {
     "name": "stdout",
     "output_type": "stream",
     "text": [
      "{(ap put A : str : has (:(:)) : B) (has A:B) (apeach (Extra:A):B)}"
     ]
    }
   ],
   "source": [
    "(Make:path)"
   ]
  },
  {
   "cell_type": "code",
   "execution_count": 14,
   "id": "6cbff4d4-861b-47f7-b927-dca2ef93f0ec",
   "metadata": {},
   "outputs": [
    {
     "name": "stdout",
     "output_type": "stream",
     "text": []
    }
   ],
   "source": [
    "(Extra:path)"
   ]
  },
  {
   "cell_type": "code",
   "execution_count": 16,
   "id": "93e98a77-1e9d-4462-b5d6-0d1068faf9b7",
   "metadata": {},
   "outputs": [
    {
     "name": "stdout",
     "output_type": "stream",
     "text": [
      "(((Extra:):path):a b c)"
     ]
    }
   ],
   "source": [
    "(extra : path) : a b c"
   ]
  },
  {
   "cell_type": "code",
   "execution_count": 17,
   "id": "ceab010e-7601-4194-bb02-7bd195ac457c",
   "metadata": {},
   "outputs": [
    {
     "name": "stdout",
     "output_type": "stream",
     "text": []
    }
   ],
   "source": [
    "(Extra:path)"
   ]
  },
  {
   "cell_type": "code",
   "execution_count": 19,
   "id": "5dccc6f4-4730-4a24-b6aa-df373970488e",
   "metadata": {},
   "outputs": [
    {
     "name": "stdout",
     "output_type": "stream",
     "text": [
      "(string:x)"
     ]
    }
   ],
   "source": [
    "extra string : x"
   ]
  },
  {
   "cell_type": "code",
   "execution_count": 20,
   "id": "f2aa1c85-bc0e-4e13-bcf3-06721c749836",
   "metadata": {},
   "outputs": [
    {
     "name": "stdout",
     "output_type": "stream",
     "text": [
      "(string:x y z)"
     ]
    }
   ],
   "source": [
    "extra string : x y z"
   ]
  },
  {
   "cell_type": "code",
   "execution_count": 21,
   "id": "69eaaded-e59a-4bfe-b1f1-e180b8bf4e65",
   "metadata": {},
   "outputs": [
    {
     "name": "stdout",
     "output_type": "stream",
     "text": [
      "(n:x)"
     ]
    }
   ],
   "source": [
    "extra n : x"
   ]
  },
  {
   "cell_type": "code",
   "execution_count": null,
   "id": "c774515a-17ba-47ba-a3f4-1b5bc306dda1",
   "metadata": {},
   "outputs": [],
   "source": []
  }
 ],
 "metadata": {
  "kernelspec": {
   "display_name": "coda",
   "language": "",
   "name": "coda"
  },
  "language_info": {
   "file_extension": ".co",
   "mimetype": "text/plain",
   "name": "Any text"
  }
 },
 "nbformat": 4,
 "nbformat_minor": 5
}
