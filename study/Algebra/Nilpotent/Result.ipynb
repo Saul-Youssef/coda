{
 "cells": [
  {
   "cell_type": "code",
   "execution_count": 4,
   "id": "03f5490a-908a-444d-b478-a9a2e3f435f1",
   "metadata": {},
   "outputs": [
    {
     "name": "stdout",
     "output_type": "stream",
     "text": [
      "(defaultTime:1000)"
     ]
    }
   ],
   "source": [
    "defaultTime:1000"
   ]
  },
  {
   "cell_type": "code",
   "execution_count": 2,
   "id": "1e1ec051-fb77-4806-8444-b489400e6270",
   "metadata": {},
   "outputs": [
    {
     "name": "stdout",
     "output_type": "stream",
     "text": [
      " /Users/youssef/coda/study/Algebra/Nilpotent/nilpotent_right.C2-S6.candidates \n",
      " /Users/youssef/coda/study/Algebra/Nilpotent/Search.ipynb \n",
      " /Users/youssef/coda/study/Algebra/Nilpotent/nilpotent_left.C2-S6.candidates \n",
      " /Users/youssef/coda/study/Algebra/Nilpotent/Result.ipynb \n",
      " /Users/youssef/coda/study/Algebra/Nilpotent/nilpotent.C2-S6.candidates \n",
      " /Users/youssef/coda/study/Algebra/Nilpotent/.ipynb_checkpoints \n"
     ]
    }
   ],
   "source": [
    "tab : dir : ."
   ]
  },
  {
   "cell_type": "code",
   "execution_count": 6,
   "id": "d9a47539-ad79-4a39-ad43-efe55f6e9615",
   "metadata": {
    "tags": []
   },
   "outputs": [
    {
     "name": "stdout",
     "output_type": "stream",
     "text": [
      " (:null {B null}) \n",
      " (:{get : B} 0) \n",
      " (:null A) \n",
      " (:null {b : B}) \n",
      " (:{get : B} arg) \n",
      " (:{null : B} if) \n",
      " (:{is : B} 0) \n",
      " (:get {right : B}) \n",
      " (:has {if B}) \n",
      " (:if {bin : B}) \n"
     ]
    }
   ],
   "source": [
    "tab : first 10 : in stable : nilpotent.C2-S6.candidates"
   ]
  },
  {
   "cell_type": "code",
   "execution_count": 7,
   "id": "8ceddc67-b5fe-4124-85ce-b725a81ef967",
   "metadata": {},
   "outputs": [
    {
     "name": "stdout",
     "output_type": "stream",
     "text": [
      " (:get {star B}) \n",
      " (:null {star B}) \n",
      " (:is {B : prod}) \n",
      " (:isnt {star : B}) \n",
      " (:{arg : B} 1) \n",
      " (:put {sum : B}) \n",
      " (:{left : B} 0) \n",
      " (:{sum : B} is) \n",
      " (:pass {B is}) \n",
      " (:put {B}) \n"
     ]
    }
   ],
   "source": [
    "tab : first 10 : in stable : nilpotent_right.C2-S6.candidates"
   ]
  },
  {
   "cell_type": "code",
   "execution_count": 5,
   "id": "21a8bc15-deaf-4219-ad14-578959e766fb",
   "metadata": {},
   "outputs": [
    {
     "name": "stdout",
     "output_type": "stream",
     "text": []
    }
   ],
   "source": [
    "import : dir co : up : up : ."
   ]
  },
  {
   "cell_type": "code",
   "execution_count": 1,
   "id": "caca1210-b65f-4898-9fc4-98296c178fd0",
   "metadata": {},
   "outputs": [
    {
     "name": "stdout",
     "output_type": "stream",
     "text": []
    }
   ],
   "source": [
    "Let left  : in stable : nilpotent_left.C2-S6.candidates \n",
    "Let right : in stable : nilpotent_right.C2-S6.candidates  "
   ]
  },
  {
   "cell_type": "code",
   "execution_count": null,
   "id": "a8fcdf46-3f91-4f54-a851-852b8d117033",
   "metadata": {},
   "outputs": [],
   "source": [
    "count : left? \n",
    "count : right? "
   ]
  },
  {
   "cell_type": "code",
   "execution_count": 8,
   "id": "6df943c1-ff55-4178-af30-c338266d1b5a",
   "metadata": {},
   "outputs": [
    {
     "name": "stdout",
     "output_type": "stream",
     "text": [
      "\u001b[;1mcode:\u001b[0m\n",
      "    \u001b[34;7mcollect\u001b[0m\n",
      "\u001b[;1mmodule:\u001b[0m\n",
      "    Collect\n",
      "\u001b[;1msummary:\u001b[0m\n",
      "    Collect inputs b with the same value of (A:b).\n",
      "\u001b[;1mdescription:\u001b[0m\n",
      "    1. Equivalence classes of input codes.\n",
      "    2. Same as 1 with collected value (bin V:...)\n",
      "    3. Codes with the same length as byte sequences.\n",
      "    4. Same as 3 with the length (bin L:..codes with length L..)\n",
      "\u001b[;1mpath:\u001b[0m\n",
      "    /Users/youssef/coda/py/Collect.py\n",
      "\u001b[;1mdemos:\u001b[0m\n",
      "    1. \u001b[35;4mcollect : a b c d\u001b[0m\n",
      "    2. \u001b[35;4mcollect : (bin:a) (bin:b) (bin:c) (bin:d)\u001b[0m\n",
      "    3. \u001b[35;4mcollect : ap {put bin (nchar:B):B} : a b aa bb aaa cccc zz xxx xxx\u001b[0m\n",
      "    4. \u001b[35;4mcollect : (bin 1:c) (bin 1:a b) (bin 2:aa bb zz) (:a) (:b) a b c\u001b[0m\n",
      "    5. \u001b[35;4mequiv nchar : a b aa bb aaa cccc zz xxx xxx\u001b[0m\n"
     ]
    }
   ],
   "source": [
    "Let Equiv : equiv {right:B} : left? right? "
   ]
  },
  {
   "cell_type": "code",
   "execution_count": 9,
   "id": "270cfd86-5d82-46dc-8d55-5a234a63c4d9",
   "metadata": {},
   "outputs": [
    {
     "name": "stdout",
     "output_type": "stream",
     "text": [
      "\u001b[;1mcode:\u001b[0m\n",
      "    \u001b[34;7mequiv\u001b[0m\n",
      "\u001b[;1mmodule:\u001b[0m\n",
      "    Collect\n",
      "\u001b[;1msummary:\u001b[0m\n",
      "    Equivalence classes\n",
      "\u001b[;1mdescription:\u001b[0m\n",
      "\u001b[;1mpath:\u001b[0m\n",
      "    /Users/youssef/coda/co/Collect.co\n",
      "\u001b[;1msource code:\u001b[0m\n",
      "    def equiv : {collect : ap {put bin (A:B):B} A : B}\n",
      "\u001b[;1mdemos:\u001b[0m\n",
      "    1. \u001b[35;4mcollect : a b c d\u001b[0m\n",
      "    2. \u001b[35;4mcollect : (bin:a) (bin:b) (bin:c) (bin:d)\u001b[0m\n",
      "    3. \u001b[35;4mcollect : ap {put bin (nchar:B):B} : a b aa bb aaa cccc zz xxx xxx\u001b[0m\n",
      "    4. \u001b[35;4mequiv nchar : a b aa bb aaa cccc zz xxx xxx\u001b[0m\n"
     ]
    }
   ],
   "source": [
    "help : equiv "
   ]
  },
  {
   "cell_type": "code",
   "execution_count": 10,
   "id": "e751edf9-1a66-4255-901e-8fed2501f51d",
   "metadata": {},
   "outputs": [
    {
     "name": "stdout",
     "output_type": "stream",
     "text": [
      "(bin 1:a b) (bin 2:aa bb zz) (bin 3:aaa xxx xxx) (bin 4:cccc)"
     ]
    }
   ],
   "source": [
    "demo equiv : 4"
   ]
  },
  {
   "cell_type": "code",
   "execution_count": null,
   "id": "bacccd2a-ecde-48a7-8408-3d027493bf5b",
   "metadata": {},
   "outputs": [],
   "source": []
  }
 ],
 "metadata": {
  "kernelspec": {
   "display_name": "coda",
   "language": "",
   "name": "coda"
  },
  "language_info": {
   "file_extension": ".co",
   "mimetype": "text/plain",
   "name": "Any text"
  }
 },
 "nbformat": 4,
 "nbformat_minor": 5
}
