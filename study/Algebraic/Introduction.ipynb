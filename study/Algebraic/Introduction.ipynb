{
 "cells": [
  {
   "cell_type": "code",
   "execution_count": 1,
   "id": "9943c482-23a1-4161-a149-d1e15fa927fb",
   "metadata": {},
   "outputs": [
    {
     "name": "stdout",
     "output_type": "stream",
     "text": [
      "(defaultTime:1000)"
     ]
    }
   ],
   "source": [
    "defaultTime:1000"
   ]
  },
  {
   "cell_type": "code",
   "execution_count": 2,
   "id": "f2f0f27d-8ecd-4d7e-acb7-6bbf091c56b9",
   "metadata": {},
   "outputs": [
    {
     "name": "stdout",
     "output_type": "stream",
     "text": []
    }
   ],
   "source": [
    "import : dir co : up : ."
   ]
  },
  {
   "cell_type": "code",
   "execution_count": 3,
   "id": "e46705b1-5a35-4101-832b-5104d81f0d1a",
   "metadata": {},
   "outputs": [
    {
     "name": "stdout",
     "output_type": "stream",
     "text": [
      "◎ (:◎) (:◎ ◎) (:◎ ◎ ◎) (:◎ ◎ ◎ ◎)"
     ]
    }
   ],
   "source": [
    "sample.atom : 5"
   ]
  },
  {
   "cell_type": "code",
   "execution_count": 4,
   "id": "86641733-ba51-4168-a170-1b30007cf56e",
   "metadata": {},
   "outputs": [
    {
     "name": "stdout",
     "output_type": "stream",
     "text": [
      "\u001b[;1mcode:\u001b[0m\n",
      "    \u001b[34;7malgebraic_L1\u001b[0m\n",
      "\u001b[;1mmodule:\u001b[0m\n",
      "    Algebra\n",
      "\u001b[;1msummary:\u001b[0m\n",
      "    Algebraic\n",
      "\u001b[;1mdescription:\u001b[0m\n",
      "\u001b[;1mpath:\u001b[0m\n",
      "    /Users/youssef/coda/study/Algebra.co\n",
      "\u001b[;1msource code:\u001b[0m\n",
      "    def algebraic_L1 : {(B:x?)=(B:rev:x?)}\n",
      "    def algebraic_L2 : {(B:x? y?)=(B:y? x?)}\n",
      "    def algebraic_L3 : {(B x?:y? z?)=(B x?:z? y?)}\n",
      "    def algebraic_R1 : {(B (rev:x?):y?)=(B x?:y?)}\n",
      "    def algebraic_R2 : {(B x? y?:z?)=(B y? x?:z?)}\n",
      "\u001b[;1mdemos:\u001b[0m\n"
     ]
    }
   ],
   "source": [
    "help : algebraic_L1 "
   ]
  },
  {
   "cell_type": "code",
   "execution_count": 5,
   "id": "87ea5d27-b085-4d59-ae62-0c9edfcabde2",
   "metadata": {},
   "outputs": [
    {
     "name": "stdout",
     "output_type": "stream",
     "text": [
      "(equal (head 1:(x:)):(head 1:(rev:(x:))))"
     ]
    }
   ],
   "source": [
    "algebraic_L1 : first "
   ]
  },
  {
   "cell_type": "code",
   "execution_count": 6,
   "id": "9c4f0010-3667-417f-964b-3592c446ea67",
   "metadata": {},
   "outputs": [
    {
     "name": "stdout",
     "output_type": "stream",
     "text": [
      "(with (def x:{A}):) (with (def x:{A} a b):◎) (with (def x:{A} a a):)"
     ]
    }
   ],
   "source": [
    "do 100 : cases (algebraic_L1:first) : (:) (:a b) (:a a)"
   ]
  },
  {
   "cell_type": "code",
   "execution_count": 7,
   "id": "4ae713ea-00a7-464d-9237-825217895f05",
   "metadata": {},
   "outputs": [
    {
     "name": "stdout",
     "output_type": "stream",
     "text": [
      "◎ (:◎) (:◎ ◎) (:◎ ◎ ◎) (:◎ ◎ ◎ ◎)"
     ]
    }
   ],
   "source": [
    "sample.atom : 5"
   ]
  },
  {
   "cell_type": "code",
   "execution_count": 8,
   "id": "2d23c920-7dd7-4650-b3df-f8ff87a892b2",
   "metadata": {},
   "outputs": [
    {
     "name": "stdout",
     "output_type": "stream",
     "text": [
      "(equal (nat_sum:(x:)):(nat_sum:(rev:(x:))))"
     ]
    }
   ],
   "source": [
    "algebraic_L1 : nat_sum"
   ]
  },
  {
   "cell_type": "code",
   "execution_count": 9,
   "id": "8548328a-1450-4aa5-97ed-a6e04d647eb1",
   "metadata": {},
   "outputs": [
    {
     "name": "stdout",
     "output_type": "stream",
     "text": [
      "(with (def x:{A} a):) (with (def x:{A} b):) (with (def x:{A} a b):◎)"
     ]
    }
   ],
   "source": [
    "do 100 : cases (algebraic_L1:pass) : (:a) (:b) (:a b)"
   ]
  },
  {
   "cell_type": "code",
   "execution_count": 14,
   "id": "5f9ecc9d-b860-4167-a525-67dc4f61bc79",
   "metadata": {},
   "outputs": [
    {
     "name": "stdout",
     "output_type": "stream",
     "text": []
    }
   ],
   "source": [
    "Def TEST2 : {(bin B : do 100 : cases (algebraic_L1:get:B) : (:a) (:b) (:a b) )}"
   ]
  },
  {
   "cell_type": "code",
   "execution_count": 19,
   "id": "7f6f4f4b-ae44-4095-8ab6-8cd6982a4c9d",
   "metadata": {},
   "outputs": [
    {
     "name": "stdout",
     "output_type": "stream",
     "text": [
      "(with:({bool : get with : do : cases ((head 1:A):(get:B)) : (tail 1:A)} nilpotent (:a) (:b):null))"
     ]
    }
   ],
   "source": [
    "property nilpotent (:a) (:b) : pass "
   ]
  },
  {
   "cell_type": "code",
   "execution_count": null,
   "id": "d00cae26-419a-4993-bfc8-faaa56f78c71",
   "metadata": {},
   "outputs": [],
   "source": []
  },
  {
   "cell_type": "code",
   "execution_count": 36,
   "id": "3c872b73-cc53-4921-8108-fa8b3c09e1f8",
   "metadata": {},
   "outputs": [
    {
     "name": "stdout",
     "output_type": "stream",
     "text": [
      " (bin pass:(with (def x:{A} a):) (with (def x:{A} b):) (with (def x:{A} a b):◎)) \n",
      " (bin pass:(with (def x:{A} a):) (with (def x:{A} b):) (with (def x:{A} a b):◎)) \n",
      " (bin null:(with (def x:{A} a):) (with (def x:{A} b):) (with (def x:{A} a b):◎)) \n",
      " (bin rev:(with (def x:{A} a):) (with (def x:{A} b):) (with (def x:{A} a b):◎)) \n"
     ]
    }
   ],
   "source": [
    "tab : ap TEST2 : pass pass null rev "
   ]
  },
  {
   "cell_type": "code",
   "execution_count": 21,
   "id": "70720fb4-0ec1-482d-8f2e-dab10358c34f",
   "metadata": {},
   "outputs": [
    {
     "name": "stdout",
     "output_type": "stream",
     "text": [
      "(with:◎)"
     ]
    }
   ],
   "source": [
    "do 100 : property nilpotent (:a) (:b) : null"
   ]
  },
  {
   "cell_type": "code",
   "execution_count": 22,
   "id": "7af8a9bc-e1ec-4f9e-a305-a03ac10f295f",
   "metadata": {},
   "outputs": [
    {
     "name": "stdout",
     "output_type": "stream",
     "text": [
      "(with:◎)"
     ]
    }
   ],
   "source": [
    "do 100 : property nilpotent (:a) (:b) : pass "
   ]
  },
  {
   "cell_type": "code",
   "execution_count": 33,
   "id": "d63606b4-0195-4270-978b-f0b14974dab4",
   "metadata": {},
   "outputs": [
    {
     "name": "stdout",
     "output_type": "stream",
     "text": [
      "(with (def x:{A}):(({bool} (nat_sum:(x:)):(:(let x:))):({A} (nat_sum:(x:)):(:(let x:)))))"
     ]
    }
   ],
   "source": [
    "cases (nilpotent : nat_sum) : (:)"
   ]
  },
  {
   "cell_type": "code",
   "execution_count": null,
   "id": "8e8c2115-7e8f-4237-89b8-429988bca8f3",
   "metadata": {},
   "outputs": [],
   "source": []
  }
 ],
 "metadata": {
  "kernelspec": {
   "display_name": "coda",
   "language": "",
   "name": "coda"
  },
  "language_info": {
   "file_extension": ".co",
   "mimetype": "text/plain",
   "name": "Any text"
  }
 },
 "nbformat": 4,
 "nbformat_minor": 5
}
