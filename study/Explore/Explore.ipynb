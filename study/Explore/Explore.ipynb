{
 "cells": [
  {
   "cell_type": "markdown",
   "id": "53ad23c4-ccf7-45bf-9c1f-3b02a27e63be",
   "metadata": {},
   "source": [
    "# Exploration\n",
    "\n",
    "This is going to be a general exploration of some data, particularly exercising the Set module.\n",
    "\n",
    "The Sample module also can generate all pure data up to specified with and depth, but this results in enormous data samples and it's impractical to search deep enough to hit the built in definitions.  \n",
    "\n",
    "We will look for data using the samples available from the Set module:\n",
    "\n",
    "1. nilpotents A^n:X = ()\n",
    "2. involutions A:A:X = X\n",
    "3. idempotents A:A:X = A:X\n",
    "4. distributive A:X Y = (A:X) (A:Y)\n",
    "5. space A:(A:X) (A:Y) = A:X Y\n",
    "6. morphism from A to B F:A:X = B:F:X \n"
   ]
  },
  {
   "cell_type": "code",
   "execution_count": 1,
   "id": "6febcc0e-0818-49b8-bc6f-5194eadbdf07",
   "metadata": {
    "tags": []
   },
   "outputs": [],
   "source": [
    "from base import * \n",
    "import Sample,Set \n",
    "\n",
    "DOMAIN = Sample.Domain(*Sample.codas)\n",
    "TINY = Set.Set(*[data(c) for c in Sample.codas])\n",
    "S21 = Set.Set(*DOMAIN.window(2,1))\n",
    "S31 = Set.Set(*DOMAIN.window(3,1))\n",
    "S22 = Set.Set(*DOMAIN.window(2,2)) \n",
    "PURE = Sample.pure(2,2)\n",
    "#S41 = Set.Set(*DOMAIN.window(4,1))\n",
    "#\n",
    "#     The evaluation depth is controlled by these \n",
    "#\n",
    "e10   = Set.eval10\n",
    "e100  = Set.eval100  \n",
    "e1000 = Set.eval1000  \n",
    "#\n",
    "#    Samples of (:) \"hydrogen atoms\"\n",
    "#\n",
    "def atoms(n): return Sample.oddAtoms(n)+Sample.evenAtoms(n)"
   ]
  },
  {
   "cell_type": "code",
   "execution_count": 2,
   "id": "da1db52f-c828-4043-82d5-0ba5e83c988e",
   "metadata": {
    "tags": []
   },
   "outputs": [
    {
     "name": "stdout",
     "output_type": "stream",
     "text": [
      "= pre a\n",
      "apif get1 =\n",
      "nth1 and last\n",
      "domain ap2 collect\n",
      "int_mult int_max put\n",
      "int_max int_mult aps\n",
      "bool apby\n",
      "? iff int_inv\n",
      "A bool int_add\n",
      "◎ imply ap\n"
     ]
    }
   ],
   "source": [
    "for s in S31.sample(10): print(s)"
   ]
  },
  {
   "cell_type": "markdown",
   "id": "0b5defa5-de70-4538-8602-f88260b159e4",
   "metadata": {},
   "source": [
    "A zeroth order study is to find out if any of the base codas have algebraic properties.  The base codas are in TINY."
   ]
  },
  {
   "cell_type": "code",
   "execution_count": 3,
   "id": "a6501f70-0189-44e8-938d-e7fee3606654",
   "metadata": {
    "tags": []
   },
   "outputs": [
    {
     "data": {
      "text/plain": [
       "'◎,𝟬,𝝞,nat,one,count,int1,nat1,int_add,int_mult,int_diff,int_max,int_min,int_sort,int_inv,pass,null,bin,domain,if,put,has1,get1,*,some,rev,first,tail,last,rep,nth1,pre,post,bool,not,=,or,and,nor,xor,nand,xnor,iff,imply,ap,app,ap2,aps,apby,apif,equiv,collect,counts,0,1,2,3,a,b,A,B,?'"
      ]
     },
     "execution_count": 3,
     "metadata": {},
     "output_type": "execute_result"
    }
   ],
   "source": [
    "','.join([str(t) for t in TINY])"
   ]
  },
  {
   "cell_type": "code",
   "execution_count": 4,
   "id": "4b49dc6e-1df3-493c-9ee6-fd6047da9455",
   "metadata": {
    "tags": []
   },
   "outputs": [
    {
     "name": "stdout",
     "output_type": "stream",
     "text": [
      "3969 20 20\n"
     ]
    }
   ],
   "source": [
    "SEARCH = S21\n",
    "DOM1 = S22.sample(10)+atoms(5) \n",
    "DOM2 = S22.sample(10)+atoms(5)\n",
    "#DOM1 = S22.sample(20)+atoms(5)+PURE.sample(10) \n",
    "#DOM2 = S22.sample(20)+atoms(5)+PURE.sample(10)\n",
    "print(len(SEARCH),len(DOM1),len(DOM2))"
   ]
  },
  {
   "cell_type": "code",
   "execution_count": 5,
   "id": "8828a4b6-3222-4e3f-b502-371c2a666e01",
   "metadata": {},
   "outputs": [],
   "source": [
    "def pr(x): \n",
    "    L = [str(xx) for xx in x.empty()]\n",
    "    L.sort()\n",
    "    print(str(len(L))+' '+','.join(L))"
   ]
  },
  {
   "cell_type": "code",
   "execution_count": 6,
   "id": "9377db71-b572-486a-8751-1b466bb375da",
   "metadata": {
    "collapsed": true,
    "jupyter": {
     "outputs_hidden": true
    },
    "tags": []
   },
   "outputs": [
    {
     "name": "stdout",
     "output_type": "stream",
     "text": [
      "545 ap apif,ap domain,ap get1,ap int1,ap int_inv,ap int_sort,ap nand,ap nat1,ap not,ap null,ap2 ap2,ap2 apif,ap2 domain,ap2 if,ap2 imply,ap2 int_inv,ap2 int_sort,ap2 nand,ap2 nth1,ap2 null,apif,apif and,apif ap,apif aps,apif bin,apif bool,apif collect,apif count,apif counts,apif equiv,apif one,apif pass,apif post,apif pre,apif put,apif rev,apif some,apif ◎,apif 𝝞,apif 𝟬,domain,domain *,domain 0,domain 1,domain 2,domain 3,domain =,domain ?,domain A,domain B,domain a,domain and,domain ap,domain ap2,domain apby,domain apif,domain app,domain aps,domain b,domain bin,domain bool,domain collect,domain count,domain counts,domain domain,domain equiv,domain first,domain get1,domain has1,domain if,domain iff,domain imply,domain int1,domain int_add,domain int_diff,domain int_inv,domain int_max,domain int_min,domain int_mult,domain int_sort,domain last,domain nand,domain nat,domain nat1,domain nor,domain not,domain nth1,domain null,domain one,domain or,domain pass,domain post,domain pre,domain put,domain rep,domain rev,domain some,domain tail,domain xnor,domain xor,domain ◎,domain 𝝞,domain 𝟬,first 0,first 𝟬,if *,if 0,if 1,if 2,if 3,if =,if ?,if A,if B,if a,if and,if ap,if ap2,if apby,if apif,if app,if aps,if b,if bin,if bool,if collect,if count,if counts,if domain,if equiv,if first,if get1,if has1,if if,if iff,if imply,if int1,if int_add,if int_diff,if int_inv,if int_max,if int_min,if int_mult,if int_sort,if last,if nand,if nat,if nat1,if nor,if not,if nth1,if null,if one,if or,if pass,if post,if pre,if put,if rep,if rev,if some,if tail,if xnor,if xor,if ◎,if 𝝞,if 𝟬,imply *,imply 0,imply 1,imply 2,imply 3,imply =,imply ?,imply A,imply B,imply a,imply and,imply ap,imply ap2,imply apby,imply apif,imply app,imply aps,imply b,imply bin,imply bool,imply collect,imply count,imply counts,imply domain,imply equiv,imply first,imply get1,imply has1,imply if,imply iff,imply imply,imply int1,imply int_add,imply int_diff,imply int_inv,imply int_max,imply int_min,imply int_mult,imply int_sort,imply last,imply nand,imply nat,imply nat1,imply nor,imply not,imply nth1,imply null,imply one,imply or,imply pass,imply post,imply pre,imply put,imply rep,imply rev,imply some,imply tail,imply xnor,imply xor,imply ◎,imply 𝝞,imply 𝟬,int_inv,int_inv *,int_inv 0,int_inv 1,int_inv 2,int_inv 3,int_inv =,int_inv ?,int_inv A,int_inv B,int_inv a,int_inv and,int_inv ap,int_inv ap2,int_inv apby,int_inv apif,int_inv app,int_inv aps,int_inv b,int_inv bin,int_inv bool,int_inv collect,int_inv count,int_inv counts,int_inv domain,int_inv equiv,int_inv first,int_inv get1,int_inv has1,int_inv if,int_inv iff,int_inv imply,int_inv int1,int_inv int_add,int_inv int_diff,int_inv int_inv,int_inv int_max,int_inv int_min,int_inv int_mult,int_inv int_sort,int_inv last,int_inv nand,int_inv nat,int_inv nat1,int_inv nor,int_inv not,int_inv nth1,int_inv null,int_inv one,int_inv or,int_inv pass,int_inv post,int_inv pre,int_inv put,int_inv rep,int_inv rev,int_inv some,int_inv tail,int_inv xnor,int_inv xor,int_inv ◎,int_inv 𝝞,int_inv 𝟬,int_sort,int_sort *,int_sort 0,int_sort 1,int_sort 2,int_sort 3,int_sort =,int_sort ?,int_sort A,int_sort B,int_sort a,int_sort and,int_sort ap,int_sort ap2,int_sort apby,int_sort apif,int_sort app,int_sort aps,int_sort b,int_sort bin,int_sort bool,int_sort collect,int_sort count,int_sort counts,int_sort domain,int_sort equiv,int_sort first,int_sort get1,int_sort has1,int_sort if,int_sort iff,int_sort imply,int_sort int1,int_sort int_add,int_sort int_diff,int_sort int_inv,int_sort int_max,int_sort int_min,int_sort int_mult,int_sort int_sort,int_sort last,int_sort nand,int_sort nat,int_sort nat1,int_sort nor,int_sort not,int_sort nth1,int_sort null,int_sort one,int_sort or,int_sort pass,int_sort post,int_sort pre,int_sort put,int_sort rep,int_sort rev,int_sort some,int_sort tail,int_sort xnor,int_sort xor,int_sort ◎,int_sort 𝝞,int_sort 𝟬,last 0,last 𝟬,nand *,nand 0,nand 1,nand 2,nand 3,nand =,nand ?,nand A,nand B,nand a,nand and,nand ap,nand ap2,nand apby,nand apif,nand app,nand aps,nand b,nand bin,nand bool,nand collect,nand count,nand counts,nand domain,nand equiv,nand first,nand get1,nand has1,nand if,nand iff,nand imply,nand int1,nand int_add,nand int_diff,nand int_inv,nand int_max,nand int_min,nand int_mult,nand int_sort,nand last,nand nand,nand nat,nand nat1,nand nor,nand not,nand nth1,nand null,nand one,nand or,nand pass,nand post,nand pre,nand put,nand rep,nand rev,nand some,nand tail,nand xnor,nand xor,nand ◎,nand 𝝞,nand 𝟬,nth1 *,nth1 =,nth1 ?,nth1 A,nth1 B,nth1 a,nth1 and,nth1 ap,nth1 ap2,nth1 apby,nth1 apif,nth1 app,nth1 aps,nth1 b,nth1 bin,nth1 bool,nth1 collect,nth1 count,nth1 counts,nth1 domain,nth1 equiv,nth1 first,nth1 get1,nth1 has1,nth1 if,nth1 iff,nth1 imply,nth1 int1,nth1 int_add,nth1 int_diff,nth1 int_inv,nth1 int_max,nth1 int_min,nth1 int_mult,nth1 int_sort,nth1 last,nth1 nand,nth1 nat,nth1 nat1,nth1 nor,nth1 not,nth1 nth1,nth1 null,nth1 one,nth1 or,nth1 pass,nth1 post,nth1 pre,nth1 put,nth1 rep,nth1 rev,nth1 some,nth1 tail,nth1 xnor,nth1 xor,nth1 ◎,nth1 𝝞,null,null *,null 0,null 1,null 2,null 3,null =,null ?,null A,null B,null a,null and,null ap,null ap2,null apby,null apif,null app,null aps,null b,null bin,null bool,null collect,null count,null counts,null domain,null equiv,null first,null get1,null has1,null if,null iff,null imply,null int1,null int_add,null int_diff,null int_inv,null int_max,null int_min,null int_mult,null int_sort,null last,null nand,null nat,null nat1,null nor,null not,null nth1,null null,null one,null or,null pass,null post,null pre,null put,null rep,null rev,null some,null tail,null xnor,null xor,null ◎,null 𝝞,null 𝟬,put apif,put domain,put int_inv,put int_sort,put null,tail 3\n"
     ]
    }
   ],
   "source": [
    "equivalence = S21.equivalence(atoms(2),atoms(2),atoms(2)).multieval(e100)\n",
    "pr(equivalence) "
   ]
  },
  {
   "cell_type": "code",
   "execution_count": 7,
   "id": "a9c9d024-c7c6-451d-b120-ba4b31188861",
   "metadata": {},
   "outputs": [],
   "source": [
    "E2 = equivalence.empty()\n",
    "E3 = E2.equivalence(DOM1,DOM1,DOM1).multieval(e100)"
   ]
  },
  {
   "cell_type": "code",
   "execution_count": 17,
   "id": "80fad061-db94-4b66-88d9-2c40cc66a12d",
   "metadata": {},
   "outputs": [],
   "source": [
    "E4 = E3.empty()"
   ]
  },
  {
   "cell_type": "code",
   "execution_count": null,
   "id": "e18c23af-113b-4342-8d65-25a1e97240ae",
   "metadata": {},
   "outputs": [],
   "source": [
    "DOM = S22.sample(40)+atoms(5)+PURE.sample(10)\n",
    "E5 = E4.equivalence(DOM,DOM,DOM).multieval(e100).empty()"
   ]
  },
  {
   "cell_type": "code",
   "execution_count": 15,
   "id": "3a5a53b3-89a5-4f4f-a871-e2c5b36bba5f",
   "metadata": {},
   "outputs": [
    {
     "name": "stdout",
     "output_type": "stream",
     "text": [
      "nand int1\n",
      "bin some\n",
      "aps first\n",
      "= has1\n",
      "xor int_inv\n"
     ]
    }
   ],
   "source": [
    "for s in S21.sample(5): print(s)"
   ]
  },
  {
   "cell_type": "code",
   "execution_count": null,
   "id": "18a7b421-28df-4e31-9d5d-346c2f0f6d70",
   "metadata": {
    "tags": []
   },
   "outputs": [],
   "source": [
    "idempotent = SEARCH.idempotent(DOM1).multieval(e100)\n",
    "pr(idempotent)"
   ]
  },
  {
   "cell_type": "code",
   "execution_count": 7,
   "id": "ab4daa92-ec3b-4a62-aff2-9163a3133023",
   "metadata": {
    "collapsed": true,
    "jupyter": {
     "outputs_hidden": true
    },
    "tags": []
   },
   "outputs": [
    {
     "name": "stdout",
     "output_type": "stream",
     "text": [
      "214 ap2,ap2 *,ap2 0,ap2 1,ap2 2,ap2 3,ap2 =,ap2 ?,ap2 A,ap2 B,ap2 a,ap2 and,ap2 ap,ap2 ap2,ap2 apby,ap2 apif,ap2 app,ap2 aps,ap2 b,ap2 bin,ap2 bool,ap2 collect,ap2 count,ap2 counts,ap2 domain,ap2 equiv,ap2 first,ap2 get1,ap2 has1,ap2 if,ap2 iff,ap2 imply,ap2 int1,ap2 int_add,ap2 int_diff,ap2 int_inv,ap2 int_max,ap2 int_min,ap2 int_mult,ap2 int_sort,ap2 last,ap2 nand,ap2 nat,ap2 nat1,ap2 nor,ap2 not,ap2 nth1,ap2 null,ap2 one,ap2 or,ap2 pass,ap2 post,ap2 pre,ap2 put,ap2 rep,ap2 rev,ap2 some,ap2 tail,ap2 xnor,ap2 xor,ap2 ◎,ap2 𝝞,ap2 𝟬,app,app ap2,app app,app int_add,app int_diff,app int_max,app int_min,app int_mult,app null,first 0,first 𝟬,if *,if 0,if 1,if 2,if 3,if =,if ?,if A,if B,if a,if and,if ap,if ap2,if apby,if apif,if app,if aps,if b,if bin,if bool,if collect,if count,if counts,if domain,if equiv,if first,if get1,if has1,if if,if iff,if imply,if int1,if int_add,if int_diff,if int_inv,if int_max,if int_min,if int_mult,if int_sort,if last,if nand,if nat,if nat1,if nor,if not,if nth1,if null,if one,if or,if pass,if post,if pre,if put,if rep,if rev,if some,if tail,if xnor,if xor,if ◎,if 𝝞,if 𝟬,int_add,int_diff,int_max,int_min,int_mult,last 0,last 𝟬,null,null *,null 0,null 1,null 2,null 3,null =,null ?,null A,null B,null a,null and,null ap,null ap2,null apby,null apif,null app,null aps,null b,null bin,null bool,null collect,null count,null counts,null domain,null equiv,null first,null get1,null has1,null if,null iff,null imply,null int1,null int_add,null int_diff,null int_inv,null int_max,null int_min,null int_mult,null int_sort,null last,null nand,null nat,null nat1,null nor,null not,null nth1,null null,null one,null or,null pass,null post,null pre,null put,null rep,null rev,null some,null tail,null xnor,null xor,null ◎,null 𝝞,null 𝟬,put ap2,put app,put int_add,put int_diff,put int_max,put int_min,put int_mult,put null\n"
     ]
    }
   ],
   "source": [
    "nilpotent = SEARCH.nilpotent(1,DOM1).multieval(e100) \n",
    "pr(nilpotent)"
   ]
  },
  {
   "cell_type": "code",
   "execution_count": 8,
   "id": "600865c8-f774-4561-8d28-bf3d59231a64",
   "metadata": {
    "collapsed": true,
    "jupyter": {
     "outputs_hidden": true
    },
    "tags": []
   },
   "outputs": [
    {
     "name": "stdout",
     "output_type": "stream",
     "text": [
      "77 app if,app pass,app post,app pre,app some,if,pass,pass *,pass 0,pass 1,pass 2,pass 3,pass =,pass ?,pass A,pass B,pass a,pass and,pass ap,pass ap2,pass apby,pass apif,pass app,pass aps,pass b,pass bin,pass bool,pass collect,pass count,pass counts,pass domain,pass equiv,pass first,pass get1,pass has1,pass if,pass iff,pass imply,pass int1,pass int_add,pass int_diff,pass int_inv,pass int_max,pass int_min,pass int_mult,pass int_sort,pass last,pass nand,pass nat,pass nat1,pass nor,pass not,pass nth1,pass null,pass one,pass or,pass pass,pass post,pass pre,pass put,pass rep,pass rev,pass some,pass tail,pass xnor,pass xor,pass ◎,pass 𝝞,pass 𝟬,post,pre,put if,put pass,put post,put pre,put some,some\n"
     ]
    }
   ],
   "source": [
    "involution = SEARCH.involution(1,DOM1).multieval(e100)\n",
    "pr(involution)"
   ]
  },
  {
   "cell_type": "code",
   "execution_count": 9,
   "id": "27153055-b647-4fce-a2ef-91182aee1908",
   "metadata": {
    "collapsed": true,
    "jupyter": {
     "outputs_hidden": true
    },
    "tags": []
   },
   "outputs": [
    {
     "name": "stdout",
     "output_type": "stream",
     "text": [
      "353 ap2,ap2 *,ap2 0,ap2 1,ap2 2,ap2 3,ap2 =,ap2 ?,ap2 A,ap2 B,ap2 a,ap2 and,ap2 ap,ap2 ap2,ap2 apby,ap2 apif,ap2 app,ap2 aps,ap2 b,ap2 bin,ap2 bool,ap2 collect,ap2 count,ap2 counts,ap2 domain,ap2 equiv,ap2 first,ap2 get1,ap2 has1,ap2 if,ap2 iff,ap2 imply,ap2 int1,ap2 int_add,ap2 int_diff,ap2 int_inv,ap2 int_max,ap2 int_min,ap2 int_mult,ap2 int_sort,ap2 last,ap2 nand,ap2 nat,ap2 nat1,ap2 nor,ap2 not,ap2 nth1,ap2 null,ap2 one,ap2 or,ap2 pass,ap2 post,ap2 pre,ap2 put,ap2 rep,ap2 rev,ap2 some,ap2 tail,ap2 xnor,ap2 xor,ap2 ◎,ap2 𝝞,ap2 𝟬,app,app ap2,app app,app if,app int_add,app int_diff,app int_max,app int_min,app int_mult,app null,app pass,app post,app pre,app some,first 0,first 𝟬,if,if *,if 0,if 1,if 2,if 3,if =,if ?,if A,if B,if a,if and,if ap,if ap2,if apby,if apif,if app,if aps,if b,if bin,if bool,if collect,if count,if counts,if domain,if equiv,if first,if get1,if has1,if if,if iff,if imply,if int1,if int_add,if int_diff,if int_inv,if int_max,if int_min,if int_mult,if int_sort,if last,if nand,if nat,if nat1,if nor,if not,if nth1,if null,if one,if or,if pass,if post,if pre,if put,if rep,if rev,if some,if tail,if xnor,if xor,if ◎,if 𝝞,if 𝟬,int_add,int_diff,int_max,int_min,int_mult,last 0,last 𝟬,null,null *,null 0,null 1,null 2,null 3,null =,null ?,null A,null B,null a,null and,null ap,null ap2,null apby,null apif,null app,null aps,null b,null bin,null bool,null collect,null count,null counts,null domain,null equiv,null first,null get1,null has1,null if,null iff,null imply,null int1,null int_add,null int_diff,null int_inv,null int_max,null int_min,null int_mult,null int_sort,null last,null nand,null nat,null nat1,null nor,null not,null nth1,null null,null one,null or,null pass,null post,null pre,null put,null rep,null rev,null some,null tail,null xnor,null xor,null ◎,null 𝝞,null 𝟬,pass,pass *,pass 0,pass 1,pass 2,pass 3,pass =,pass ?,pass A,pass B,pass a,pass and,pass ap,pass ap2,pass apby,pass apif,pass app,pass aps,pass b,pass bin,pass bool,pass collect,pass count,pass counts,pass domain,pass equiv,pass first,pass get1,pass has1,pass if,pass iff,pass imply,pass int1,pass int_add,pass int_diff,pass int_inv,pass int_max,pass int_min,pass int_mult,pass int_sort,pass last,pass nand,pass nat,pass nat1,pass nor,pass not,pass nth1,pass null,pass one,pass or,pass pass,pass post,pass pre,pass put,pass rep,pass rev,pass some,pass tail,pass xnor,pass xor,pass ◎,pass 𝝞,pass 𝟬,post,pre,put ap2,put app,put if,put int_add,put int_diff,put int_max,put int_min,put int_mult,put null,put pass,put post,put pre,put some,some,some *,some 0,some 1,some 2,some 3,some =,some ?,some A,some B,some a,some and,some ap,some ap2,some apby,some apif,some app,some aps,some b,some bin,some bool,some collect,some count,some counts,some domain,some equiv,some first,some get1,some has1,some if,some iff,some imply,some int1,some int_add,some int_diff,some int_inv,some int_max,some int_min,some int_mult,some int_sort,some last,some nand,some nat,some nat1,some nor,some not,some nth1,some null,some one,some or,some pass,some post,some pre,some put,some rep,some rev,some some,some tail,some xnor,some xor,some ◎,some 𝝞,some 𝟬\n"
     ]
    }
   ],
   "source": [
    "space = SEARCH.space(DOM1,DOM2).multieval(e100)\n",
    "pr(space)"
   ]
  }
 ],
 "metadata": {
  "kernelspec": {
   "display_name": "Python 3 (ipykernel)",
   "language": "python",
   "name": "python3"
  },
  "language_info": {
   "codemirror_mode": {
    "name": "ipython",
    "version": 3
   },
   "file_extension": ".py",
   "mimetype": "text/x-python",
   "name": "python",
   "nbconvert_exporter": "python",
   "pygments_lexer": "ipython3",
   "version": "3.11.1"
  }
 },
 "nbformat": 4,
 "nbformat_minor": 5
}
