{
 "cells": [
  {
   "cell_type": "markdown",
   "id": "c1825c50-8e1f-4ca7-ba74-b890a50747d7",
   "metadata": {},
   "source": [
    "\n",
    "| has bin |  |\n",
    "|---|---|\n",
    "| Description | has bin | \n",
    "| Data | bin atoms | \n",
    "| Operation | filter for bin atoms | \n",
    "| Simple? | N | \n",
    "| Distributive? | Y | \n",
    "| Neutral element? | () | \n",
    "| Endomorphisms | Maps from bin atoms to bin atoms | "
   ]
  },
  {
   "cell_type": "code",
   "execution_count": 1,
   "id": "6f0a12e7-d2d6-4627-a489-03f59481d1d6",
   "metadata": {},
   "outputs": [
    {
     "name": "stdout",
     "output_type": "stream",
     "text": []
    }
   ],
   "source": [
    "import : dir co : up : ."
   ]
  },
  {
   "cell_type": "code",
   "execution_count": 2,
   "id": "0194f043-0047-471b-b761-09713437d8e9",
   "metadata": {},
   "outputs": [
    {
     "name": "stdout",
     "output_type": "stream",
     "text": [
      "(bin:a b c)"
     ]
    }
   ],
   "source": [
    "Let hb : {has bin:B}\n",
    "hb? : (bin:a b c) x y z"
   ]
  },
  {
   "cell_type": "code",
   "execution_count": 3,
   "id": "0b4d9e81-e78f-49b0-90bb-c456e5459be9",
   "metadata": {},
   "outputs": [
    {
     "name": "stdout",
     "output_type": "stream",
     "text": [
      "(= (ap {if (in A:domain:B):B} bin:(ap {if (in A:domain:B):B} bin:(x:))):(ap {if (in A:domain:B):B} bin:(x:)))"
     ]
    }
   ],
   "source": [
    "idempotent1:hb?"
   ]
  },
  {
   "cell_type": "code",
   "execution_count": 4,
   "id": "ebf3cff2-1630-4215-ba0f-c74e4ba9227c",
   "metadata": {},
   "outputs": [
    {
     "name": "stdout",
     "output_type": "stream",
     "text": [
      "0\n",
      "0\n",
      "0"
     ]
    }
   ],
   "source": [
    "count : theorem (idempotent1:hb?) : S2?\n",
    "count : theorem (idempotent2:hb?) : S2?\n",
    "count : theorem (distributive1:hb?) : S2?"
   ]
  },
  {
   "cell_type": "markdown",
   "id": "27cfb494-dcec-4ea7-8fe3-9cb183d32f0e",
   "metadata": {},
   "source": [
    "\n",
    "| hasnt bin |  |\n",
    "|---|---|\n",
    "| Description | hasnt bin | \n",
    "| Data | everything except for bin atoms | \n",
    "| Operation | filter against bin atoms | \n",
    "| Simple? | Y | \n",
    "| Distributive? | Y | \n",
    "| Neutral element? | () | \n",
    "| Endomorphisms | Maps from bin atoms to bin atoms | "
   ]
  },
  {
   "cell_type": "code",
   "execution_count": 5,
   "id": "50290805-022c-4963-8689-1bb2a65cb961",
   "metadata": {},
   "outputs": [
    {
     "name": "stdout",
     "output_type": "stream",
     "text": [
      "x y z"
     ]
    }
   ],
   "source": [
    "Let hnb : {hasnt bin:B}\n",
    "hnb? : (bin:a b c) x y z"
   ]
  },
  {
   "cell_type": "code",
   "execution_count": null,
   "id": "1a0e42f5-612f-469e-bfa8-3ac038ba78e6",
   "metadata": {},
   "outputs": [],
   "source": [
    "count : theorem (idempotent1:hnb?) : S2?\n",
    "count : theorem (distributive1:hnb?) : S2? \n",
    "count : theorem (distributive2:hnb?) : S2? "
   ]
  },
  {
   "cell_type": "code",
   "execution_count": null,
   "id": "ebb17f5e-fdea-40a2-bf91-e20ad2a19204",
   "metadata": {},
   "outputs": [],
   "source": []
  }
 ],
 "metadata": {
  "kernelspec": {
   "display_name": "coda",
   "language": "",
   "name": "coda"
  },
  "language_info": {
   "file_extension": ".co",
   "mimetype": "text/plain",
   "name": "Any text"
  }
 },
 "nbformat": 4,
 "nbformat_minor": 5
}
