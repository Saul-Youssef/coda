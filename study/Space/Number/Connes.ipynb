{
 "cells": [
  {
   "cell_type": "markdown",
   "id": "0e1e7d42-d999-445b-9b13-3753583fd546",
   "metadata": {},
   "source": [
    "This is an alternative version of natural numbers that I picked up from Alain Connes.  The idea is to first think of the natural numbers as a semiring with the usual multiplication and addition.  Then define an alternative semiring version of the natural numbers as...\n",
    "\n",
    "* a + b == max(a,b) and \n",
    "* a \\* b == plus(a,b) where plus is normal natural number addition. \n",
    "\n",
    "Then, as usual, + and \\* are associative and commutative and \\* distributes over +."
   ]
  },
  {
   "cell_type": "code",
   "execution_count": 1,
   "id": "95c466dc-5f91-4081-bf14-d1397fbf707f",
   "metadata": {},
   "outputs": [
    {
     "name": "stdout",
     "output_type": "stream",
     "text": []
    }
   ],
   "source": [
    "import : dir co : up : ."
   ]
  },
  {
   "cell_type": "markdown",
   "id": "eab038f5-1f9e-4583-b05c-4729daa42305",
   "metadata": {
    "tags": []
   },
   "source": [
    "\n",
    "| Space | Elements | Operation | Space | Simple | Idemp. | Dist. | Dist.2 | Comm. | Invol. | Nilpotent | Semilattice |\n",
    "|-------|----------|-------|----:|-------:|-----------:|-------------:|--------:|------------:|-----------:|----------:|---------:|\n",
    "|m.type| alt naturals | make | Y | Y | Y | Y | Y | N | N | N | N |\n",
    "|m.sum| alt natural | sum | Y | Y | Y | N | Y | Y | N | N | N | \n",
    "|m.prod| alt natural | product | Y | Y | Y | N | Y | Y | N | N | N | \n",
    "|m.sort| alt ordered naturals | sort | Y | Y | Y | N | Y | Y | N | N | N | \n",
    "|m.ring| alt natural | prod and sum | Y | N | Y | N | Y | Y | N | N | N | \n"
   ]
  },
  {
   "cell_type": "code",
   "execution_count": 2,
   "id": "df2b87be-3daf-428d-85db-4226ee9db491",
   "metadata": {
    "jupyter": {
     "source_hidden": true
    },
    "tags": []
   },
   "outputs": [
    {
     "name": "stdout",
     "output_type": "stream",
     "text": [
      "9"
     ]
    }
   ],
   "source": [
    "#\n",
    "#   S is the search sample for searches below\n",
    "#\n",
    "Let S : (:) (:(:) (:)) (:(m:0)) (:(m:)) (:(m:1) (m:3) (m:2)) (:(m:5) (m:4)) (:1) (:2 3) (:(m:-5))\n",
    "count : S?"
   ]
  },
  {
   "cell_type": "code",
   "execution_count": 3,
   "id": "fe2e7d8f-9e1e-44f6-925c-8125d5a0fe24",
   "metadata": {
    "tags": []
   },
   "outputs": [
    {
     "name": "stdout",
     "output_type": "stream",
     "text": [
      "0\n",
      "0\n",
      "0\n",
      "0\n",
      "20\n",
      "3\n",
      "5\n",
      "5"
     ]
    }
   ],
   "source": [
    "count : theorem (simple:        m.type) : S?\n",
    "count : theorem (idempotent:    m.type) : S?\n",
    "count : theorem (distributive:  m.type) : S?\n",
    "count : theorem (distributive2: m.type) : S?\n",
    "count : theorem (commutative:   m.type) : S? \n",
    "count : theorem (involution:    m.type) : S? \n",
    "count : theorem (nilpotent:     m.type) : S? \n",
    "count : theorem (semilattice:   m.type) : S?"
   ]
  },
  {
   "cell_type": "code",
   "execution_count": 4,
   "id": "4a73e0c7-1cbc-4ef0-8917-701aacbf377d",
   "metadata": {
    "tags": []
   },
   "outputs": [
    {
     "name": "stdout",
     "output_type": "stream",
     "text": [
      "0\n",
      "0\n",
      "81\n",
      "0\n",
      "0\n",
      "8\n",
      "9\n",
      "0"
     ]
    }
   ],
   "source": [
    "count : theorem (simple:        m.sum) : S?\n",
    "count : theorem (idempotent:    m.sum) : S?\n",
    "count : theorem (distributive:  m.sum) : S?\n",
    "count : theorem (distributive2: m.sum) : S?\n",
    "count : theorem (commutative:   m.sum) : S? \n",
    "count : theorem (involution:    m.sum) : S? \n",
    "count : theorem (nilpotent:     m.sum) : S? \n",
    "count : theorem (semilattice:   m.sum) : S?"
   ]
  },
  {
   "cell_type": "code",
   "execution_count": 5,
   "id": "acea7f57-0536-4344-9817-194cb53de0ba",
   "metadata": {
    "tags": []
   },
   "outputs": [
    {
     "name": "stdout",
     "output_type": "stream",
     "text": [
      "0\n",
      "0\n",
      "81\n",
      "0\n",
      "0\n",
      "7\n",
      "9\n",
      "3"
     ]
    }
   ],
   "source": [
    "count : theorem (simple:        m.prod) : S?\n",
    "count : theorem (idempotent:    m.prod) : S?\n",
    "count : theorem (distributive:  m.prod) : S?\n",
    "count : theorem (distributive2: m.prod) : S?\n",
    "count : theorem (commutative:   m.prod) : S? \n",
    "count : theorem (involution:    m.prod) : S? \n",
    "count : theorem (nilpotent:     m.prod) : S? \n",
    "count : theorem (semilattice:   m.prod) : S?"
   ]
  },
  {
   "cell_type": "code",
   "execution_count": 6,
   "id": "de252ac2-9e8d-4ca9-86ea-b15f315f5e35",
   "metadata": {
    "tags": []
   },
   "outputs": [
    {
     "name": "stdout",
     "output_type": "stream",
     "text": [
      "0\n",
      "0\n",
      "8\n",
      "0\n",
      "0\n",
      "6\n",
      "4\n",
      "4"
     ]
    }
   ],
   "source": [
    "count : theorem (simple:        m.sort) : S?\n",
    "count : theorem (idempotent:    m.sort) : S?\n",
    "count : theorem (distributive:  m.sort) : S?\n",
    "count : theorem (distributive2: m.sort) : S?\n",
    "count : theorem (commutative:   m.sort) : S? \n",
    "count : theorem (involution:    m.sort) : S? \n",
    "count : theorem (nilpotent:     m.sort) : S? \n",
    "count : theorem (semilattice:   m.sort) : S?"
   ]
  },
  {
   "cell_type": "code",
   "execution_count": 7,
   "id": "314eeac2-4822-4a41-befa-d745a4c9afc1",
   "metadata": {
    "tags": []
   },
   "outputs": [
    {
     "name": "stdout",
     "output_type": "stream",
     "text": [
      "27\n",
      "0\n",
      "81\n",
      "0\n",
      "0\n",
      "8\n",
      "9\n",
      "0\n",
      "72\n",
      "64"
     ]
    }
   ],
   "source": [
    "count : theorem (simple:        m.ring) : S?\n",
    "count : theorem (idempotent:    m.ring) : S?\n",
    "count : theorem (distributive:  m.ring) : S?\n",
    "count : theorem (distributive2: m.ring) : S?\n",
    "count : theorem (commutative:   m.ring) : S? \n",
    "count : theorem (involution:    m.ring) : S? \n",
    "count : theorem (nilpotent:     m.ring) : S? \n",
    "count : theorem (semilattice:   m.ring) : S?\n",
    "count : theorem (space_b:       m.ring) : S?\n",
    "count : theorem (space_a:       m.ring) : S?"
   ]
  },
  {
   "cell_type": "code",
   "execution_count": 8,
   "id": "f6a34049-b50a-437c-b256-ad0736d1e443",
   "metadata": {},
   "outputs": [
    {
     "name": "stdout",
     "output_type": "stream",
     "text": []
    }
   ],
   "source": [
    "Let mSpaces : m.type m.sum m.prod m.sort m.ring \n",
    "Let mPairs : pairs mSpaces? : mSpaces?\n",
    "Let mMatrix : ap {(bin (arg:B) (right:B):COM (arg:B):(right:B))} : mPairs? "
   ]
  },
  {
   "cell_type": "code",
   "execution_count": 9,
   "id": "67874815-1058-4ef3-9b56-2b31b65925c9",
   "metadata": {},
   "outputs": [
    {
     "name": "stdout",
     "output_type": "stream",
     "text": []
    }
   ],
   "source": [
    "Def COM : {count : theorem (commuting A:B) : S?} "
   ]
  },
  {
   "cell_type": "code",
   "execution_count": 10,
   "id": "90474055-1843-41f7-9197-2300b50e745e",
   "metadata": {},
   "outputs": [
    {
     "name": "stdout",
     "output_type": "stream",
     "text": [
      "(bin m.type m.type:0) (bin m.sum m.type:0) (bin m.prod m.type:0) (bin m.sort m.type:0) (bin m.ring m.type:0) (bin m.type m.sum:0) (bin m.sum m.sum:0) (bin m.prod m.sum:2) (bin m.sort m.sum:0) (bin m.ring m.sum:0) (bin m.type m.prod:0) (bin m.sum m.prod:2) (bin m.prod m.prod:0) (bin m.sort m.prod:0) (bin m.ring m.prod:2) (bin m.type m.sort:0) (bin m.sum m.sort:0) (bin m.prod m.sort:0) (bin m.sort m.sort:0) (bin m.ring m.sort:0) (bin m.type m.ring:0) (bin m.sum m.ring:0) (bin m.prod m.ring:2) (bin m.sort m.ring:0) (bin m.ring m.ring:0)"
     ]
    }
   ],
   "source": [
    "mMatrix?"
   ]
  },
  {
   "cell_type": "code",
   "execution_count": 11,
   "id": "dff6eeb6-100f-4171-b02e-2be7151ecff7",
   "metadata": {},
   "outputs": [
    {
     "name": "stdout",
     "output_type": "stream",
     "text": [
      "0 0 0 0 0 0 0 2 0 0 0 2 0 0 2 0 0 0 0 0 0 0 2 0 0"
     ]
    }
   ],
   "source": [
    "right : mMatrix?"
   ]
  },
  {
   "cell_type": "markdown",
   "id": "32171e62-e021-493f-9a6a-8ffd13148605",
   "metadata": {},
   "source": [
    "|        | m.type | m.sum | m.prod | m.sort | m.ring |\n",
    "|--------|--------|-------|--------|--------|--------|\n",
    "| m.type |   0    |   0   |   0    |   0    |    0   | \n",
    "| m.sum  |   0    |   0   |   2    |   5    |    0   | \n",
    "| m.prod |   0    |   2   |   0    |   0    |    0   | \n",
    "| m.sort |   0    |   5   |   0    |   0    |    0   | \n",
    "| m.ring |   0    |   0   |   0    |   0    |    0   | \n",
    "\n",
    "The spaces commute except for m.sum and m.prod (as expected for a ring) and except for m.ring and m.prod (essentially the same thing)."
   ]
  },
  {
   "cell_type": "code",
   "execution_count": null,
   "id": "4c05c580-b5d8-4087-a2d6-dc2e180a0b09",
   "metadata": {},
   "outputs": [],
   "source": []
  }
 ],
 "metadata": {
  "kernelspec": {
   "display_name": "coda",
   "language": "",
   "name": "coda"
  },
  "language_info": {
   "file_extension": ".co",
   "mimetype": "text/plain",
   "name": "Any text"
  }
 },
 "nbformat": 4,
 "nbformat_minor": 5
}
