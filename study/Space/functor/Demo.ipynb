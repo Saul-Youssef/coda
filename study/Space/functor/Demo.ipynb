{
 "cells": [
  {
   "cell_type": "markdown",
   "id": "7f3421e2-fb82-477f-b0da-9903e778a8e7",
   "metadata": {},
   "source": [
    "Demonstrate functors from the file ../Space.co.\n"
   ]
  },
  {
   "cell_type": "code",
   "execution_count": 1,
   "id": "1aebcd6d-12e8-43cd-83c9-f62b53f37b16",
   "metadata": {
    "tags": []
   },
   "outputs": [
    {
     "name": "stdout",
     "output_type": "stream",
     "text": [
      "(defaultTime:100)"
     ]
    }
   ],
   "source": [
    "defaultTime:100 \n",
    "import : dir co : up : ."
   ]
  },
  {
   "cell_type": "code",
   "execution_count": null,
   "id": "7343683a-16b9-48aa-84e1-699c150d3b4f",
   "metadata": {},
   "outputs": [],
   "source": []
  },
  {
   "cell_type": "code",
   "execution_count": 2,
   "id": "7ad211aa-a342-4b3c-939a-e56f35fe0448",
   "metadata": {},
   "outputs": [
    {
     "name": "stdout",
     "output_type": "stream",
     "text": []
    }
   ],
   "source": [
    "Def n:\n",
    "Def b:\n",
    "Def p:"
   ]
  },
  {
   "cell_type": "code",
   "execution_count": 3,
   "id": "81c1b4d7-45d1-4745-a7ba-52ef9f22deac",
   "metadata": {},
   "outputs": [
    {
     "name": "stdout",
     "output_type": "stream",
     "text": []
    }
   ],
   "source": [
    "Def stick    : One n : atoms \n",
    "Def sticks   : Seq2 n : atoms \n",
    "Def bit      : One b : bool \n",
    "Def bits     : Seq b : bool "
   ]
  },
  {
   "cell_type": "code",
   "execution_count": 4,
   "id": "5e6a730f-e146-4db2-8848-74d17496d48d",
   "metadata": {
    "tags": []
   },
   "outputs": [
    {
     "name": "stdout",
     "output_type": "stream",
     "text": [
      "(n:◎ ◎ ◎ ◎ ◎ ◎)\n",
      "(n:◎ ◎ ◎ ◎ ◎ ◎)\n",
      "(n:◎ ◎ ◎ ◎ ◎ ◎)"
     ]
    }
   ],
   "source": [
    "#\n",
    "#  All should be equal since stick is a space \n",
    "#\n",
    "stick : (n:a b c) (n:p q) (n:) (n:xxx) \n",
    "stick : stick : (n:a b c) (n:p q) (n:) (n:xxx)\n",
    "stick : (stick : (n:a b c) (n:p q)) (stick : (n:) (n:xxx) )"
   ]
  },
  {
   "cell_type": "code",
   "execution_count": 5,
   "id": "b68a47ef-67c8-444c-bcec-fb9ae7701cd7",
   "metadata": {},
   "outputs": [
    {
     "name": "stdout",
     "output_type": "stream",
     "text": [
      "(n:◎ ◎ ◎) (n:◎ ◎) (n:) (n:◎)\n",
      "(n:◎ ◎ ◎) (n:◎ ◎) (n:) (n:◎)\n",
      "(n:◎ ◎ ◎) (n:◎ ◎) (n:) (n:◎)"
     ]
    }
   ],
   "source": [
    "#\n",
    "#   All should be equal since sticks is a space \n",
    "#\n",
    "sticks : (n:a b c) (n:p q) (n:) (n:xxx) \n",
    "sticks : sticks : (n:a b c) (n:p q) (n:) (n:xxx)\n",
    "sticks : (sticks : (n:a b c) (n:p q)) (sticks : (n:) (n:xxx) )"
   ]
  },
  {
   "cell_type": "code",
   "execution_count": null,
   "id": "a183e751-9f71-4edb-9604-f49ddae6ad78",
   "metadata": {},
   "outputs": [],
   "source": [
    "#\n",
    "#   sticks is distributive, so (sticks:) is empty.  However, \n",
    "#   stick is not a distributive space, since it's neutral \n",
    "#   data is (stick:) is (n:).\n",
    "#\n",
    "count : (sticks:)\n",
    "(stick:)"
   ]
  },
  {
   "cell_type": "code",
   "execution_count": null,
   "id": "63025b13-9cef-43c3-899e-b396aa91867f",
   "metadata": {},
   "outputs": [],
   "source": [
    "#\n",
    "#   bit is a space \n",
    "#\n",
    "bit : (b:a b c) (b:p q) (b:) (b:xxx) \n",
    "bit : bit : (b:a b c) (b:p q) (b:) (n:xxx)\n",
    "bit : (bit : (b:a b c) (b:p q)) (bit : (b:) (b:xxx) )"
   ]
  },
  {
   "cell_type": "code",
   "execution_count": null,
   "id": "f02a3f7e-1f66-4633-afb4-527b1138fc16",
   "metadata": {},
   "outputs": [],
   "source": [
    "#\n",
    "#   bits is a space \n",
    "#\n",
    "bits : (b:a b c) (b:p q) (b:) (b:xxx) \n",
    "bits : bits : (b:a b c) (b:p q) (b:) (b:xxx)\n",
    "bits : (bits : (b:a b c) (b:p q)) (bits : (b:) (b:xxx) )"
   ]
  },
  {
   "cell_type": "code",
   "execution_count": null,
   "id": "47231a89-e1e0-4a73-a05b-82dc3f21dc64",
   "metadata": {},
   "outputs": [],
   "source": [
    "#\n",
    "#   Prod is the produce of the stick and bits spaces \n",
    "#\n",
    "Def Prod : Product p : (:stick) (:bits) \n",
    "Let T : (p:(:n:(:) (:) (:)) (:(b:) (b:(:)) (b:)) "
   ]
  },
  {
   "cell_type": "code",
   "execution_count": null,
   "id": "6d1efda9-df39-408a-b59d-a0de06b291a7",
   "metadata": {},
   "outputs": [],
   "source": [
    "#\n",
    "#   Prod is a space \n",
    "#\n",
    "Prod : T? T? \n",
    "Prod : T? T? (Prod:) \n",
    "Prod : (Prod : T? ) (Prod:T?) (Prod:)"
   ]
  },
  {
   "cell_type": "code",
   "execution_count": null,
   "id": "fed8eb89-1235-4e08-92f8-999edec61f34",
   "metadata": {},
   "outputs": [],
   "source": []
  }
 ],
 "metadata": {
  "kernelspec": {
   "display_name": "coda",
   "language": "",
   "name": "coda"
  },
  "language_info": {
   "file_extension": ".co",
   "mimetype": "text/plain",
   "name": "Any text"
  }
 },
 "nbformat": 4,
 "nbformat_minor": 5
}
