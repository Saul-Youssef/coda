{
 "cells": [
  {
   "cell_type": "markdown",
   "id": "642ee48c-f036-423b-aed4-b09fe2a4d6b6",
   "metadata": {},
   "source": [
    "## Making a type from scratch \n",
    "\n",
    "As an example, let's make a type for the Peano integers 0,1,2,... not using Python integers underneath.  We'll use some data, say, | and represent 5 by ||||| etc.  Peano integers will be created by something like \n",
    "\n",
    "peano? : a b c d \n",
    "\n",
    "which will create (peano:||||) which will then get displayed as \"4\".  We can define sums and products and sorting of peano integers as well, so that peano will belong to the categories **sum**, **prod**, **sort**, **term** for terminal output and whatever else we want. To make this work, we have to define \n",
    "\n",
    "* Sum:peano...to belong to sum, abelian group.\n",
    "* Prod:peano...to belong to prod, associative monoid. \n",
    "* Sort:peano...to belong to sort, partial ordering.\n",
    "* Term:peano...to belong to term, terminal outputting.\n",
    "* Set:peano...to belong to set, equivalence classes of a specified equivalence relation.\n",
    "\n",
    "In order to simplify things, we'll use peano? (= make peano = (Make:peano) peano) to simply pass through existing peano data and we'll make a few peano integers \"by hand\" for examples. "
   ]
  },
  {
   "cell_type": "code",
   "execution_count": 1,
   "id": "5fa98b3c-75c0-4261-8504-5b79df1c39c5",
   "metadata": {},
   "outputs": [
    {
     "name": "stdout",
     "output_type": "stream",
     "text": []
    }
   ],
   "source": [
    "#\n",
    "#   First, define peano with def peano:.  This simply makes \n",
    "#   a definition (peano:<stuff>) -> (peano:<stuff>).  \n",
    "#   This means that (peano:<anything>) is an \"atom\".  This will be storage for tokens representing numbers. \n",
    "#\n",
    "def peano:"
   ]
  },
  {
   "cell_type": "code",
   "execution_count": 2,
   "id": "35610a92-1c2c-4b22-9503-d5ad18964b26",
   "metadata": {},
   "outputs": [
    {
     "name": "stdout",
     "output_type": "stream",
     "text": [
      "(peano:| | |)"
     ]
    }
   ],
   "source": [
    "#\n",
    "#   We can create peano integers \"by hand\" like so...\n",
    "#\n",
    "put peano : rep | : a b c "
   ]
  },
  {
   "cell_type": "code",
   "execution_count": 3,
   "id": "5019728a-ce13-4b5d-a759-e41a91dfbba7",
   "metadata": {},
   "outputs": [
    {
     "name": "stdout",
     "output_type": "stream",
     "text": [
      "(peano:) (peano:|) (peano:| |) (peano:| | |) (peano:| | | |)"
     ]
    }
   ],
   "source": [
    "let 0? : put peano : rep | : \n",
    "let 1? : put peano : rep | : first 1 : nat : 0 \n",
    "let 2? : put peano : rep | : first 2 : nat : 0 \n",
    "let 3? : put peano : rep | : first 3 : nat : 0 \n",
    "let 4? : put peano : rep | : first 4 : nat : 0 \n",
    "0? 1? 2? 3? 4? "
   ]
  },
  {
   "cell_type": "markdown",
   "id": "1a3b8c39-242d-4882-bde8-e83f70e1764b",
   "metadata": {},
   "source": [
    "Since we are making peano integers by hand, the official peano? (= make peano = Make peano : peano) can be just a pass-through `has peano`.  "
   ]
  },
  {
   "cell_type": "code",
   "execution_count": 4,
   "id": "fe0b4d97-9f72-4b68-9e48-04be53946c51",
   "metadata": {},
   "outputs": [
    {
     "name": "stdout",
     "output_type": "stream",
     "text": []
    }
   ],
   "source": [
    "#\n",
    "#   This makes peano? idempotent as well as distributive, i.e. peano? is now a type. \n",
    "#\n",
    "let peano? : has peano "
   ]
  },
  {
   "cell_type": "code",
   "execution_count": 5,
   "id": "37d466c6-f817-4d40-96e8-c26095dade4f",
   "metadata": {},
   "outputs": [
    {
     "name": "stdout",
     "output_type": "stream",
     "text": [
      "(peano:) (peano:|) (peano:| |) (peano:| | |)"
     ]
    }
   ],
   "source": [
    "#\n",
    "#   Let's check that peano? is a type, meaning check that peano? is..\n",
    "#\n",
    "#   1. idempotent...   peano?:peano?:X = peano?:X  and \n",
    "#   2. distributive... peano? : X Y = (peano?:X) (peano?:Y) \n",
    "#\n",
    "peano? : 0? 1? 2? 3?"
   ]
  },
  {
   "cell_type": "code",
   "execution_count": 6,
   "id": "06fe34ba-7345-41ef-8680-e7b672da8894",
   "metadata": {},
   "outputs": [
    {
     "name": "stdout",
     "output_type": "stream",
     "text": [
      "(peano:) (peano:|) (peano:| |) (peano:| | |)"
     ]
    }
   ],
   "source": [
    "peano? : peano? : 0? 1? 2? 3?"
   ]
  },
  {
   "cell_type": "code",
   "execution_count": 7,
   "id": "d25a349d-01b6-480c-9dc6-b9af63944b51",
   "metadata": {},
   "outputs": [
    {
     "name": "stdout",
     "output_type": "stream",
     "text": []
    }
   ],
   "source": [
    "#\n",
    "#   This should make no output meaning that the equality is true. \n",
    "#\n",
    "(peano? : 2? 3? 4?) = (peano? : 2? 3?) (peano? : 4?) "
   ]
  },
  {
   "cell_type": "code",
   "execution_count": 8,
   "id": "b9719632-1a9c-4713-9fcd-a79b87a910d5",
   "metadata": {},
   "outputs": [
    {
     "name": "stdout",
     "output_type": "stream",
     "text": []
    }
   ],
   "source": [
    "#\n",
    "#   To make a nicer display, join the term category...\n",
    "#\n",
    "let (Term:peano) : {ap {count : get A : B} A : B}  "
   ]
  },
  {
   "cell_type": "code",
   "execution_count": 9,
   "id": "fd00aaca-9bce-49e5-8f5f-4e8b024c5d0c",
   "metadata": {},
   "outputs": [
    {
     "name": "stdout",
     "output_type": "stream",
     "text": [
      "2 3 4 0"
     ]
    }
   ],
   "source": [
    "term : 2? 3? 4? 0?"
   ]
  },
  {
   "cell_type": "code",
   "execution_count": 10,
   "id": "773a7b24-fb9e-4dd0-8582-41bb0684b1bc",
   "metadata": {},
   "outputs": [
    {
     "name": "stdout",
     "output_type": "stream",
     "text": []
    }
   ],
   "source": [
    "#\n",
    "#   To add peano data, join the sum category...\n",
    "#\n",
    "let (Sum:peano) : {put peano : get peano : B} "
   ]
  },
  {
   "cell_type": "code",
   "execution_count": 11,
   "id": "5c7ef273-c2f4-4514-9319-07d2d811f2ee",
   "metadata": {},
   "outputs": [
    {
     "name": "stdout",
     "output_type": "stream",
     "text": [
      "(peano:| | | | |) 5"
     ]
    }
   ],
   "source": [
    "sum : 2? 3? 0?\n",
    "term : sum : 2? 3? 0?"
   ]
  },
  {
   "cell_type": "code",
   "execution_count": 12,
   "id": "7fe23e49-463a-4836-a671-d39d175bd896",
   "metadata": {},
   "outputs": [
    {
     "name": "stdout",
     "output_type": "stream",
     "text": [
      "(a:1) (b:1) (c:1) (a:2) (b:2) (c:2) (a:3) (b:3) (c:3)"
     ]
    }
   ],
   "source": [
    "#\n",
    "#   To multiply peano integers, we have to use some of the combinatoric operations to make \"all pairs\" and count them.\n",
    "#\n",
    "ap app a b c : 1 2 3 "
   ]
  },
  {
   "cell_type": "code",
   "execution_count": 13,
   "id": "157bba10-ec52-4507-8c1d-7b5a143aec8f",
   "metadata": {},
   "outputs": [
    {
     "name": "stdout",
     "output_type": "stream",
     "text": [
      "(bin:1) (bin:1) (bin:1) (bin:2) (bin:2) (bin:2) (bin:3) (bin:3) (bin:3) 9"
     ]
    }
   ],
   "source": [
    "#\n",
    "#   That gives the general idea, but we can't count the above cell because (a:1) etc are undecided.\n",
    "#  So...\n",
    "#\n",
    "ap app bin bin bin : 1 2 3 \n",
    "count : ap app bin bin bin : 1 2 3 "
   ]
  },
  {
   "cell_type": "code",
   "execution_count": 14,
   "id": "d74b6fb9-9e93-4d4b-a42f-eed14956967c",
   "metadata": {},
   "outputs": [
    {
     "name": "stdout",
     "output_type": "stream",
     "text": [
      "(bin:|) (bin:|) (bin:|) (bin:|) (bin:|) (bin:|)"
     ]
    }
   ],
   "source": [
    "#\n",
    "#   Now we just need to replace number of bins and 1 2 3's with |s from peanos\n",
    "#\n",
    "ap app (rep bin:get peano : 2?) : get peano : 3? "
   ]
  },
  {
   "cell_type": "code",
   "execution_count": 15,
   "id": "c9988c10-b3a9-42a3-a2f9-a0924e8535e4",
   "metadata": {},
   "outputs": [
    {
     "name": "stdout",
     "output_type": "stream",
     "text": []
    }
   ],
   "source": [
    "#\n",
    "#   That does indeed compute 2? x 3?.  Let's make this into a function peano_prod \n",
    "#   that computes A x B if A and B are peano integers \n",
    "#\n",
    "def peano_prod : {put peano : rep | : ap app (rep bin:get peano : A) : get peano : B} "
   ]
  },
  {
   "cell_type": "code",
   "execution_count": 16,
   "id": "50ec0ac9-5a83-4413-b23c-8592a7667c5d",
   "metadata": {},
   "outputs": [
    {
     "name": "stdout",
     "output_type": "stream",
     "text": [
      "(peano:| | | | | |)"
     ]
    }
   ],
   "source": [
    "peano_prod 2? : 3?"
   ]
  },
  {
   "cell_type": "code",
   "execution_count": 19,
   "id": "caa7b2dc-c02e-418d-a22c-f423814d7742",
   "metadata": {
    "tags": []
   },
   "outputs": [
    {
     "name": "stdout",
     "output_type": "stream",
     "text": [
      "24"
     ]
    }
   ],
   "source": [
    "#\n",
    "#   Finally, we'll define (Prod:peano) to be the sequentialized version of peano_prod so that \n",
    "#   it multiplies a whole sequence of peano integers and to join the prod category. \n",
    "#\n",
    "let (Prod:peano) : {aps peano_prod : B} \n",
    "term : prod : 2? 3? 4?"
   ]
  },
  {
   "cell_type": "markdown",
   "id": "20eeb52c-92f1-4bfe-b5e8-be85527a5c31",
   "metadata": {},
   "source": [
    "Of course, representing natural numbers by tokens is very slow and impractical.  Python integers does much better, this tutorial is just an illustration of how to make a type and a check that type invention is not too constrained or impractical. \n",
    "\n",
    "As a practical matter, you would normally use the natural number type `n` or make your own with `Natural : myNumber` as in the following. "
   ]
  },
  {
   "cell_type": "code",
   "execution_count": 23,
   "id": "282a5384-4757-4990-ad02-bfeb782f22e9",
   "metadata": {},
   "outputs": [
    {
     "name": "stdout",
     "output_type": "stream",
     "text": [
      "(myNumber:24)"
     ]
    }
   ],
   "source": [
    "Natural : myNumber \n",
    "prod : myNumber? : 2 3 4 "
   ]
  },
  {
   "cell_type": "code",
   "execution_count": 24,
   "id": "654f5370-358c-425e-859a-8b1cdfdb62ea",
   "metadata": {},
   "outputs": [
    {
     "name": "stdout",
     "output_type": "stream",
     "text": [
      "{ap put A : aps int_mult : pre 1 : get A : B}"
     ]
    }
   ],
   "source": [
    "#\n",
    "#   You can examine Prod:myNumber, Sum:myNumber, etc. too see what's happening underneath.\n",
    "#\n",
    "Prod:myNumber"
   ]
  },
  {
   "cell_type": "markdown",
   "id": "ff74a74b-c427-4ebb-ad69-861e5cb44357",
   "metadata": {},
   "source": [
    "All of these computations are actually proofs because the only thing that coda can actually do is apply definitions.  To emphasize this and echo Russell & Whitehead's proof of 1+1=2 from Principia Mathematica we can use **step** to step through the proof/computation. "
   ]
  },
  {
   "cell_type": "code",
   "execution_count": 18,
   "id": "bf472f4e-c987-4b66-ae13-f479a6234007",
   "metadata": {},
   "outputs": [
    {
     "name": "stdout",
     "output_type": "stream",
     "text": [
      "[ 0] (({term }:):({ sum : 1? 1?}:))\n",
      "[ 1] (({term}:):({sum : 1? 1?}:))\n",
      "[ 2] ({  (Term:dom1:B) (dom1:B) : B}:(({sum }:):({ 1? 1?}:)))\n",
      "[ 3] ({ (Term:dom1:B) (dom1:B) : B}:(({sum}:):({1? 1?}:)))\n",
      "[ 4] ({(Term:dom1:B) (dom1:B) : B}:({   (Sum:dom1:B) (dom1:B) : B}:({1?}:) ({1?}:)))\n",
      "[ 5] (({(Term:dom1:B) (dom1:B) }:({  (Sum:dom1:B) (dom1:B) : B}:(?:1) (?:1))):({ B}:({  (Sum:dom1:B) (dom1:B) : B}:(?:1) (?:1))))\n",
      "[ 6] (({(Term:dom1:B) (dom1:B)}:({ (Sum:dom1:B) (dom1:B) : B}:(peano:|) (peano:|))):({B}:({ (Sum:dom1:B) (dom1:B) : B}:(peano:|) (peano:|))))\n",
      "[ 7] (({(Term:dom1:B)}:({(Sum:dom1:B) (dom1:B) : B}:(peano:|) (peano:|))) ({(dom1:B)}:({(Sum:dom1:B) (dom1:B) : B}:(peano:|) (peano:|))):({(Sum:dom1:B) (dom1:B) : B}:(peano:|) (peano:|)))\n",
      "[ 8] (({Term:dom1:B}:(({(Sum:dom1:B) (dom1:B) }:(peano:|) (peano:|)):({ B}:(peano:|) (peano:|)))) ({dom1:B}:(({(Sum:dom1:B) (dom1:B) }:(peano:|) (peano:|)):({ B}:(peano:|) (peano:|)))):(({(Sum:dom1:B) (dom1:B) }:(peano:|) (peano:|)):({ B}:(peano:|) (peano:|))))\n",
      "[ 9] ((({Term}:(({(Sum:dom1:B) (dom1:B)}:(peano:|) (peano:|)):({B}:(peano:|) (peano:|)))):({dom1:B}:(({(Sum:dom1:B) (dom1:B)}:(peano:|) (peano:|)):({B}:(peano:|) (peano:|))))) (({dom1}:(({(Sum:dom1:B) (dom1:B)}:(peano:|) (peano:|)):({B}:(peano:|) (peano:|)))):({B}:(({(Sum:dom1:B) (dom1:B)}:(peano:|) (peano:|)):({B}:(peano:|) (peano:|))))):(({(Sum:dom1:B) (dom1:B)}:(peano:|) (peano:|)):({B}:(peano:|) (peano:|))))\n",
      "[10] ((Term:(({dom1}:(({(Sum:dom1:B)}:(peano:|) (peano:|)) ({(dom1:B)}:(peano:|) (peano:|)):(peano:|) (peano:|))):({B}:(({(Sum:dom1:B)}:(peano:|) (peano:|)) ({(dom1:B)}:(peano:|) (peano:|)):(peano:|) (peano:|))))) ({first:dom:B}:(({(Sum:dom1:B)}:(peano:|) (peano:|)) ({(dom1:B)}:(peano:|) (peano:|)):(peano:|) (peano:|))):(({(Sum:dom1:B)}:(peano:|) (peano:|)) ({(dom1:B)}:(peano:|) (peano:|)):(peano:|) (peano:|)))\n",
      "[11] ((Term:({first:dom:B}:(({Sum:dom1:B}:(peano:|) (peano:|)) ({dom1:B}:(peano:|) (peano:|)):(peano:|) (peano:|)))) (({first}:(({Sum:dom1:B}:(peano:|) (peano:|)) ({dom1:B}:(peano:|) (peano:|)):(peano:|) (peano:|))):({dom:B}:(({Sum:dom1:B}:(peano:|) (peano:|)) ({dom1:B}:(peano:|) (peano:|)):(peano:|) (peano:|)))):(({Sum:dom1:B}:(peano:|) (peano:|)) ({dom1:B}:(peano:|) (peano:|)):(peano:|) (peano:|)))\n",
      "[12] ((Term:(({first}:((({Sum}:(peano:|) (peano:|)):({dom1:B}:(peano:|) (peano:|))) (({dom1}:(peano:|) (peano:|)):({B}:(peano:|) (peano:|))):(peano:|) (peano:|))):({dom:B}:((({Sum}:(peano:|) (peano:|)):({dom1:B}:(peano:|) (peano:|))) (({dom1}:(peano:|) (peano:|)):({B}:(peano:|) (peano:|))):(peano:|) (peano:|))))) (first 1:(({dom}:((({Sum}:(peano:|) (peano:|)):({dom1:B}:(peano:|) (peano:|))) (({dom1}:(peano:|) (peano:|)):({B}:(peano:|) (peano:|))):(peano:|) (peano:|))):({B}:((({Sum}:(peano:|) (peano:|)):({dom1:B}:(peano:|) (peano:|))) (({dom1}:(peano:|) (peano:|)):({B}:(peano:|) (peano:|))):(peano:|) (peano:|))))):((({Sum}:(peano:|) (peano:|)):({dom1:B}:(peano:|) (peano:|))) (({dom1}:(peano:|) (peano:|)):({B}:(peano:|) (peano:|))):(peano:|) (peano:|)))\n",
      "[13] ((Term:(first 1:(({dom}:((Sum:(({dom1}:(peano:|) (peano:|)):({B}:(peano:|) (peano:|)))) ({first:dom:B}:(peano:|) (peano:|)):(peano:|) (peano:|))):({B}:((Sum:(({dom1}:(peano:|) (peano:|)):({B}:(peano:|) (peano:|)))) ({first:dom:B}:(peano:|) (peano:|)):(peano:|) (peano:|)))))) (first 1:(dom:((Sum:(({dom1}:(peano:|) (peano:|)):({B}:(peano:|) (peano:|)))) ({first:dom:B}:(peano:|) (peano:|)):(peano:|) (peano:|)))):((Sum:(({dom1}:(peano:|) (peano:|)):({B}:(peano:|) (peano:|)))) ({first:dom:B}:(peano:|) (peano:|)):(peano:|) (peano:|)))\n",
      "[14] ((Term:(first 1:(dom:((Sum:({first:dom:B}:(peano:|) (peano:|))) (({first}:(peano:|) (peano:|)):({dom:B}:(peano:|) (peano:|))):(peano:|) (peano:|))))) (first 1:(dom:((Sum:({first:dom:B}:(peano:|) (peano:|))) (({first}:(peano:|) (peano:|)):({dom:B}:(peano:|) (peano:|))):(peano:|) (peano:|)))):((Sum:({first:dom:B}:(peano:|) (peano:|))) (({first}:(peano:|) (peano:|)):({dom:B}:(peano:|) (peano:|))):(peano:|) (peano:|)))\n",
      "[15] ((Term:(first 1:(dom:((Sum:(({first}:(peano:|) (peano:|)):({dom:B}:(peano:|) (peano:|)))) (first 1:(({dom}:(peano:|) (peano:|)):({B}:(peano:|) (peano:|)))):(peano:|) (peano:|))))) (first 1:(dom:((Sum:(({first}:(peano:|) (peano:|)):({dom:B}:(peano:|) (peano:|)))) (first 1:(({dom}:(peano:|) (peano:|)):({B}:(peano:|) (peano:|)))):(peano:|) (peano:|)))):((Sum:(({first}:(peano:|) (peano:|)):({dom:B}:(peano:|) (peano:|)))) (first 1:(({dom}:(peano:|) (peano:|)):({B}:(peano:|) (peano:|)))):(peano:|) (peano:|)))\n",
      "[16] ((Term:(first 1:(dom:((Sum:(first 1:(({dom}:(peano:|) (peano:|)):({B}:(peano:|) (peano:|))))) peano (first 0:(dom:(peano:|))):(peano:|) (peano:|))))) (first 1:(dom:((Sum:(first 1:(({dom}:(peano:|) (peano:|)):({B}:(peano:|) (peano:|))))) peano (first 0:(dom:(peano:|))):(peano:|) (peano:|)))):((Sum:(first 1:(({dom}:(peano:|) (peano:|)):({B}:(peano:|) (peano:|))))) peano (first 0:(dom:(peano:|))):(peano:|) (peano:|)))\n",
      "[17] ((Term:(first 1:(dom:((Sum:peano (first 0:(dom:(peano:|)))) peano:(peano:|) (peano:|))))) (first 1:(dom:((Sum:peano (first 0:(dom:(peano:|)))) peano:(peano:|) (peano:|)))):((Sum:peano (first 0:(dom:(peano:|)))) peano:(peano:|) (peano:|)))\n",
      "[18] ((Term:(first 1:(dom:(({put peano } peano:(peano:|) (peano:|)):({ get peano : B} peano:(peano:|) (peano:|)))))) (first 1:(dom:(({put peano } peano:(peano:|) (peano:|)):({ get peano : B} peano:(peano:|) (peano:|))))):(({put peano } peano:(peano:|) (peano:|)):({ get peano : B} peano:(peano:|) (peano:|))))\n",
      "[19] ((Term:(first 1:(dom:(({put peano} peano:(peano:|) (peano:|)):({get peano : B} peano:(peano:|) (peano:|)))))) (first 1:(dom:(({put peano} peano:(peano:|) (peano:|)):({get peano : B} peano:(peano:|) (peano:|))))):(({put peano} peano:(peano:|) (peano:|)):({get peano : B} peano:(peano:|) (peano:|))))\n",
      "[20] ((Term:(first 1:(dom:(({put} peano:(peano:|) (peano:|)) ({peano} peano:(peano:|) (peano:|)):(({get peano } peano:(peano:|) (peano:|)):({ B} peano:(peano:|) (peano:|))))))) (first 1:(dom:(({put} peano:(peano:|) (peano:|)) ({peano} peano:(peano:|) (peano:|)):(({get peano } peano:(peano:|) (peano:|)):({ B} peano:(peano:|) (peano:|)))))):(({put} peano:(peano:|) (peano:|)) ({peano} peano:(peano:|) (peano:|)):(({get peano } peano:(peano:|) (peano:|)):({ B} peano:(peano:|) (peano:|)))))\n",
      "[21] (({ap {count : get A : B} A } peano (first 0:(dom:)):(peano:(({get peano} peano:(peano:|) (peano:|)):({B} peano:(peano:|) (peano:|))))):({ B} peano (first 0:(dom:)):(peano:(({get peano} peano:(peano:|) (peano:|)):({B} peano:(peano:|) (peano:|))))))\n",
      "[22] (({ap {count : get A : B} A} peano:(peano:(({get} peano:(peano:|) (peano:|)) ({peano} peano:(peano:|) (peano:|)):(peano:|) (peano:|)))):({B} peano:(peano:(({get} peano:(peano:|) (peano:|)) ({peano} peano:(peano:|) (peano:|)):(peano:|) (peano:|)))))\n",
      "[23] (({ap} peano:(peano:({ap get1 A : B} peano:(peano:|) (peano:|)))) ({{count : get A : B} A} peano:(peano:({ap get1 A : B} peano:(peano:|) (peano:|)))):(peano:({ap get1 A : B} peano:(peano:|) (peano:|))))\n",
      "[24] (({{count : get A : B}} peano:(peano:(({ap get1 A } peano:(peano:|) (peano:|)):({ B} peano:(peano:|) (peano:|))))) ({A} peano:(peano:(({ap get1 A } peano:(peano:|) (peano:|)):({ B} peano:(peano:|) (peano:|))))):(peano:(({ap get1 A } peano:(peano:|) (peano:|)):({ B} peano:(peano:|) (peano:|)))))\n",
      "[25] (({count } peano:(peano:(({ap get1 A} peano:(peano:|) (peano:|)):({B} peano:(peano:|) (peano:|))))):({ get A : B} peano:(peano:(({ap get1 A} peano:(peano:|) (peano:|)):({B} peano:(peano:|) (peano:|))))))\n",
      "[26] (({count} peano:(peano:(({ap} peano:(peano:|) (peano:|)) ({get1 A} peano:(peano:|) (peano:|)):(peano:|) (peano:|)))):({get A : B} peano:(peano:(({ap} peano:(peano:|) (peano:|)) ({get1 A} peano:(peano:|) (peano:|)):(peano:|) (peano:|)))))\n",
      "[27] (count:(({get A } peano:(peano:(ap ({get1} peano:(peano:|) (peano:|)) ({A} peano:(peano:|) (peano:|)):(peano:|)) (ap ({get1} peano:(peano:|) (peano:|)) ({A} peano:(peano:|) (peano:|)):(peano:|)))):({ B} peano:(peano:(ap ({get1} peano:(peano:|) (peano:|)) ({A} peano:(peano:|) (peano:|)):(peano:|)) (ap ({get1} peano:(peano:|) (peano:|)) ({A} peano:(peano:|) (peano:|)):(peano:|))))))\n",
      "[28] (count:(({get A} peano:(peano:(get1 peano:(peano:|)) (get1 peano:(peano:|)))):({B} peano:(peano:(get1 peano:(peano:|)) (get1 peano:(peano:|))))))\n",
      "[29] (count:(({get} peano:(peano:(if (= peano:peano):|) (if (= peano:peano):|))) ({A} peano:(peano:(if (= peano:peano):|) (if (= peano:peano):|))):(peano:(if (= peano:peano):|) (if (= peano:peano):|))))\n",
      "[30] (count:(({ap get1 A } peano:(peano:| |)):({ B} peano:(peano:| |))))\n",
      "[31] (count:(({get1} peano:(peano:| |)) ({A} peano:(peano:| |)):(peano:| |)))\n",
      "[32] 2"
     ]
    }
   ],
   "source": [
    "step : term : sum : 1? 1?"
   ]
  },
  {
   "cell_type": "code",
   "execution_count": 6,
   "id": "19609218-0d9d-4a03-844b-94fac24ba841",
   "metadata": {},
   "outputs": [
    {
     "name": "stdout",
     "output_type": "stream",
     "text": [
      "[ 0] (({sum n }:):({ 1 1}:))\n",
      "[ 1] (({sum n}:):({1 1}:))\n",
      "[ 2] (({sum}:) ({n}:):({1}:) ({1}:))\n",
      "[ 3] ({   (Sum:dom1:B) (dom1:B) : B} n:1 1)\n",
      "[ 4] ({  (Sum:dom1:B) (dom1:B) : B} n:1 1)\n",
      "[ 5] ({ (Sum:dom1:B) (dom1:B) : B} n:1 1)\n",
      "[ 6] ({(Sum:dom1:B) (dom1:B) : B} n:1 1)\n",
      "[ 7] (({(Sum:dom1:B) (dom1:B) } n:1 1):({ B} n:1 1))\n",
      "[ 8] (({(Sum:dom1:B) (dom1:B)} n:1 1):({B} n:1 1))\n",
      "[ 9] (({(Sum:dom1:B)} n:1 1) ({(dom1:B)} n:1 1):1 1)\n",
      "[10] (({Sum:dom1:B} n:1 1) ({dom1:B} n:1 1):1 1)\n",
      "[11] ((({Sum} n:1 1):({dom1:B} n:1 1)) (({dom1} n:1 1):({B} n:1 1)):1 1)\n",
      "[12] ((Sum:(({dom1} n:1 1):({B} n:1 1))) ({first:dom:B}:1 1):1 1)\n",
      "[13] ((Sum:({first:dom:B}:1 1)) (({first}:1 1):({dom:B}:1 1)):1 1)\n",
      "[14] ((Sum:(({first}:1 1):({dom:B}:1 1))) (first 1:(({dom}:1 1):({B}:1 1))):1 1)\n",
      "[15] ((Sum:(first 1:(({dom}:1 1):({B}:1 1)))) 𝝞𝝞𝝞𝟬𝝞𝟬𝝞𝝞𝝞𝟬𝝞𝟬𝝞𝝞𝝞𝝞𝟬 (first 0:(dom:1)):1 1)\n",
      "[16] ((Sum:𝝞𝝞𝝞𝟬𝝞𝟬𝝞𝝞𝝞𝟬𝝞𝟬𝝞𝝞𝝞𝝞𝟬 (first 0:(dom:1))) 𝝞𝝞𝝞𝟬𝝞𝟬𝝞𝝞𝝞𝟬𝝞𝟬𝝞𝝞𝝞𝝞𝟬:1 1)\n",
      "[17] ((Sum:𝝞𝝞𝝞𝟬𝝞𝟬𝝞𝝞𝝞𝟬𝝞𝟬𝝞𝝞𝝞𝝞𝟬) 𝝞𝝞𝝞𝟬𝝞𝟬𝝞𝝞𝝞𝟬𝝞𝟬𝝞𝝞𝝞𝝞𝟬:1 1)"
     ]
    }
   ],
   "source": [
    "step : sum n : 1 1 "
   ]
  },
  {
   "cell_type": "code",
   "execution_count": null,
   "id": "b221b366-dae4-427b-b8f9-50ed4382c310",
   "metadata": {},
   "outputs": [],
   "source": []
  }
 ],
 "metadata": {
  "kernelspec": {
   "display_name": "coda",
   "language": "",
   "name": "coda"
  },
  "language_info": {
   "file_extension": ".co",
   "mimetype": "text/plain",
   "name": "Any text"
  }
 },
 "nbformat": 4,
 "nbformat_minor": 5
}
