{
 "cells": [
  {
   "cell_type": "markdown",
   "id": "8494e839-f0a0-42b7-88d4-f50ca2e394f5",
   "metadata": {},
   "source": [
    "## Commutativity\n",
    "\n",
    "Data U is **commutative** if U A:X Y = U A:Y X for all data X,Y.  Here we search for data with this unusual property. "
   ]
  },
  {
   "cell_type": "code",
   "execution_count": 1,
   "id": "b145e065-ee32-4f83-88ae-34fe75f46290",
   "metadata": {},
   "outputs": [
    {
     "name": "stdout",
     "output_type": "stream",
     "text": []
    }
   ],
   "source": [
    "import : dir co : up . : up : ."
   ]
  },
  {
   "cell_type": "code",
   "execution_count": 3,
   "id": "8a29ec8a-b022-4792-923b-19db13dbc9e5",
   "metadata": {},
   "outputs": [
    {
     "name": "stdout",
     "output_type": "stream",
     "text": [
      "(:arg) (:bin) (:by) (:co) (:collect) (:count) (:domain) (:equiv) (:first) (:float_div) (:float_inv) (:float_max) (:float_min) (:float_prod) (:float_sort) (:float_sum) (:floats) (:get) (:has) (:hasnt) (:if) (:int_div) (:int_inv) (:int_max) (:int_min) (:int_prod) (:int_sort) (:int_sum) (:ints) (:is) (:isnt) (:last) (:left) (:nat) (:nat_max) (:nat_min) (:nat_prod) (:nat_sort) (:nat_sum) (:nats) (:nif) (:nth) (:nth1) (:null) (:once) (:pass) (:plus) (:post) (:pre) (:prod) (:put) (:rep) (:rev) (:right) (:skip) (:star) (:sum) (:tail) (:text_sort)"
     ]
    }
   ],
   "source": [
    "T0?"
   ]
  },
  {
   "cell_type": "code",
   "execution_count": 4,
   "id": "98d587fd-0588-43b7-a359-295949ea7649",
   "metadata": {},
   "outputs": [
    {
     "name": "stdout",
     "output_type": "stream",
     "text": [
      "(with (def x:{A} a) (def y:{A} a):0) (with (def x:{A} a) (def y:{A} b):4) (with (def x:{A} a) (def y:{A} c):2) (with (def x:{A} b) (def y:{A} a):4) (with (def x:{A} b) (def y:{A} b):0) (with (def x:{A} b) (def y:{A} c):2) (with (def x:{A} c) (def y:{A} a):2) (with (def x:{A} c) (def y:{A} b):2) (with (def x:{A} c) (def y:{A} c):0)"
     ]
    }
   ],
   "source": [
    "theorem (commutative:bin) : (:a) (:b) (:c)"
   ]
  },
  {
   "cell_type": "code",
   "execution_count": 5,
   "id": "1f1b62d7-929c-4f03-ac91-cdff8e18edd9",
   "metadata": {},
   "outputs": [
    {
     "name": "stdout",
     "output_type": "stream",
     "text": [
      "(bin pass:0 4 2 4 0 2 2 2 0) (bin null:0)"
     ]
    }
   ],
   "source": [
    "ap {put bin (get:B) : right : theorem (commutative:(get:B)) : A} (:a) (:b) (:c) : (:pass) (:null)  "
   ]
  },
  {
   "cell_type": "code",
   "execution_count": 6,
   "id": "7624ed0c-146d-4441-b200-d4fd4a04f93e",
   "metadata": {},
   "outputs": [
    {
     "name": "stdout",
     "output_type": "stream",
     "text": []
    }
   ],
   "source": [
    "Def Test  : {put bin (get:B) : int_sum : right : theorem (commutative :(get:B)) : A}\n",
    "Def Test2 : {put bin (get:B) : int_sum : right : theorem (commutative2:(get:B)) : A}\n",
    "Def TEST  : {multi : ap {with:Test A:B} A : B} \n",
    "Def TEST2 : {multi : ap {with:Test2 A:B} A : B} "
   ]
  },
  {
   "cell_type": "code",
   "execution_count": 7,
   "id": "3f5bc195-9571-4749-b8f0-716279990174",
   "metadata": {},
   "outputs": [
    {
     "name": "stdout",
     "output_type": "stream",
     "text": []
    }
   ],
   "source": [
    "Let T0-S0-1 : get with : TEST S0? : T0? "
   ]
  },
  {
   "cell_type": "code",
   "execution_count": 8,
   "id": "e30f1ee4-7611-46a6-be6a-1bf3c342b713",
   "metadata": {},
   "outputs": [
    {
     "name": "stdout",
     "output_type": "stream",
     "text": []
    }
   ],
   "source": [
    "out T0-S0-1 : T0-S0-1?"
   ]
  },
  {
   "cell_type": "code",
   "execution_count": 9,
   "id": "a97a66f5-2046-4343-b5e3-2f7e503fdba1",
   "metadata": {
    "collapsed": true,
    "jupyter": {
     "outputs_hidden": true
    },
    "tags": []
   },
   "outputs": [
    {
     "name": "stdout",
     "output_type": "stream",
     "text": [
      "0 arg \n",
      " 56 bin \n",
      " 56 by \n",
      " 0 co \n",
      " 56 collect \n",
      " 0 count \n",
      " 0 domain \n",
      " 84 equiv \n",
      " 12 first \n",
      " 56 float_div \n",
      " 0 float_inv \n",
      " 0 float_max \n",
      " 0 float_min \n",
      " 0 float_prod \n",
      " 0 float_sort \n",
      " 0 float_sum \n",
      " 0 floats \n",
      " 0 get \n",
      " 0 has \n",
      " 56 hasnt \n",
      " 56 if \n",
      " 56 int_div \n",
      " 0 int_inv \n",
      " 0 int_max \n",
      " 0 int_min \n",
      " 0 int_prod \n",
      " 0 int_sort \n",
      " 0 int_sum \n",
      " 0 ints \n",
      " 0 is \n",
      " 56 isnt \n",
      " 16 last \n",
      " 0 left \n",
      " 0 nat \n",
      " 0 nat_max \n",
      " 0 nat_min \n",
      " 0 nat_prod \n",
      " 0 nat_sort \n",
      " 0 nat_sum \n",
      " 0 nats \n",
      " 0 nif \n",
      " 0 nth \n",
      " 0 nth1 \n",
      " 0 null \n",
      " 24 once \n",
      " 56 pass \n",
      " 56 plus \n",
      " 56 post \n",
      " 56 pre \n",
      " 56 prod \n",
      " 56 put \n",
      " 56 rep \n",
      " 56 rev \n",
      " 56 right \n",
      " 44 skip \n",
      " 56 star \n",
      " 0 sum \n",
      " 44 tail \n",
      " 0 text_sort \n"
     ]
    }
   ],
   "source": [
    "more 1000 : ap {post <\\n>:get:B} : by 2 : ap {(int_sum:right:B) (arg:B)} : T0-S0-1?"
   ]
  },
  {
   "cell_type": "code",
   "execution_count": 10,
   "id": "d171c57c-3bc2-4021-b257-557c269d4b69",
   "metadata": {},
   "outputs": [
    {
     "name": "stdout",
     "output_type": "stream",
     "text": []
    }
   ],
   "source": [
    "Let Candidates1 : by : ap {if (0=(int_sum:right:B)):arg:B} : T0-S0-1?"
   ]
  },
  {
   "cell_type": "code",
   "execution_count": 11,
   "id": "784d8d61-2fc7-461c-9882-394eb7c8ba3c",
   "metadata": {},
   "outputs": [
    {
     "name": "stdout",
     "output_type": "stream",
     "text": [
      "(:arg) (:co) (:count) (:domain) (:float_inv) (:float_max) (:float_min) (:float_prod) (:float_sort) (:float_sum) (:floats) (:get) (:has) (:int_inv) (:int_max) (:int_min) (:int_prod) (:int_sort) (:int_sum) (:ints) (:is) (:left) (:nat) (:nat_max) (:nat_min) (:nat_prod) (:nat_sort) (:nat_sum) (:nats) (:nif) (:nth) (:nth1) (:null) (:sum) (:text_sort)"
     ]
    }
   ],
   "source": [
    "Candidates1?"
   ]
  },
  {
   "cell_type": "code",
   "execution_count": 12,
   "id": "dc0213f2-fe81-460f-bb9d-b05d37191300",
   "metadata": {},
   "outputs": [
    {
     "name": "stdout",
     "output_type": "stream",
     "text": [
      "(:a b) (:a a) ◎ (:0 1)"
     ]
    }
   ],
   "source": [
    "S0?"
   ]
  },
  {
   "cell_type": "code",
   "execution_count": 17,
   "id": "4c55ed3e-6c8a-4ee9-bff9-7aefb7ea5c62",
   "metadata": {},
   "outputs": [
    {
     "name": "stdout",
     "output_type": "stream",
     "text": [
      "(:arg) (:co) (:count) (:domain) (:float_inv) (:float_max) (:float_min) (:float_prod) (:float_sort) (:float_sum) (:floats) (:get) (:has) (:int_inv) (:int_max) (:int_min) (:int_prod) (:int_sort) (:int_sum) (:ints) (:is) (:left) (:nat) (:nat_max) (:nat_min) (:nat_prod) (:nat_sort) (:nat_sum) (:nats) (:nif) (:nth) (:nth1) (:null) (:sum) (:text_sort)"
     ]
    }
   ],
   "source": [
    "Candidates1?"
   ]
  },
  {
   "cell_type": "code",
   "execution_count": 32,
   "id": "52ac16ab-b736-4b39-a37a-a78aecfc5afc",
   "metadata": {
    "tags": []
   },
   "outputs": [
    {
     "name": "stdout",
     "output_type": "stream",
     "text": [
      "(bin nth1:0)"
     ]
    }
   ],
   "source": [
    "get with : TEST2 S0? : (:nth1)"
   ]
  },
  {
   "cell_type": "code",
   "execution_count": 36,
   "id": "22489c9f-2877-4a77-a2ff-d97ea2b2e686",
   "metadata": {},
   "outputs": [
    {
     "name": "stdout",
     "output_type": "stream",
     "text": [
      "(:a b) (:a a) ◎ (:0 1)"
     ]
    }
   ],
   "source": [
    "S0?"
   ]
  },
  {
   "cell_type": "code",
   "execution_count": 49,
   "id": "616cf6b9-ce3b-4dfa-9d9b-c1de6e6c93a8",
   "metadata": {},
   "outputs": [
    {
     "name": "stdout",
     "output_type": "stream",
     "text": [
      "0 0 (right:(if (not:(count:(equal (a:a b a a) (b:a b a a):(a:a a a b) (b:a a a b)))):(with (def y:{A} a b) (def z:{A} a a) (def x:{A} a b):(count:(equal (a:a b a a) (b:a b a a):(a:a a a b) (b:a a a b))))) (if (not:(count:(equal (a:a b a a) (a:a b a a):(a:a a a b) (a:a a a b)))):(with (def y:{A} a b) (def z:{A} a a) (def x:{A} a a):(count:(equal (a:a b a a) (a:a b a a):(a:a a a b) (a:a a a b))))) (if (not:(count:(equal (a:a a a b) (b:a a a b):(a:a b a a) (b:a b a a)))):(with (def y:{A} a a) (def z:{A} a b) (def x:{A} a b):(count:(equal (a:a a a b) (b:a a a b):(a:a b a a) (b:a b a a))))) (if (not:(count:(equal (a:a a a b) (a:a a a b):(a:a b a a) (a:a b a a)))):(with (def y:{A} a a) (def z:{A} a b) (def x:{A} a a):(count:(equal (a:a a a b) (a:a a a b):(a:a b a a) (a:a b a a))))) (with (def y:{A} a a) (def z:{A} a a) (def x:{A} a b):0) (with (def y:{A} a a) (def z:{A} a a) (def x:{A} a a):0))"
     ]
    }
   ],
   "source": [
    "right : theorem (commutative2:sum) : (:a b) (:a a)"
   ]
  },
  {
   "cell_type": "code",
   "execution_count": 44,
   "id": "b8fb5ae3-2b40-4952-8fe6-c490179d1563",
   "metadata": {},
   "outputs": [
    {
     "name": "stdout",
     "output_type": "stream",
     "text": [
      "(bin sum:(int_sum:0 0 (right:(if (not:(count:(equal (a:a b a a) (b:a b a a):(a:a a a b) (b:a a a b)))):(with (def y:{A} a b) (def z:{A} a a) (def x:{A} a b):(count:(equal (a:a b a a) (b:a b a a):(a:a a a b) (b:a a a b))))) (if (not:(count:(equal (a:a b a a) (a:a b a a):(a:a a a b) (a:a a a b)))):(with (def y:{A} a b) (def z:{A} a a) (def x:{A} a a):(count:(equal (a:a b a a) (a:a b a a):(a:a a a b) (a:a a a b))))) (if (not:(count:(equal (a:a a a b) (b:a a a b):(a:a b a a) (b:a b a a)))):(with (def y:{A} a a) (def z:{A} a b) (def x:{A} a b):(count:(equal (a:a a a b) (b:a a a b):(a:a b a a) (b:a b a a))))) (if (not:(count:(equal (a:a a a b) (a:a a a b):(a:a b a a) (a:a b a a)))):(with (def y:{A} a a) (def z:{A} a b) (def x:{A} a a):(count:(equal (a:a a a b) (a:a a a b):(a:a b a a) (a:a b a a))))) (with (def y:{A} a a) (def z:{A} a a) (def x:{A} a b):0) (with (def y:{A} a a) (def z:{A} a a) (def x:{A} a a):0)))) \n"
     ]
    }
   ],
   "source": [
    "ap post <\\n> : get with : TEST2 (:a b) (:a a) : (:sum)"
   ]
  },
  {
   "cell_type": "code",
   "execution_count": 34,
   "id": "1ee1f4bb-6f45-498d-86b8-0d82953de3a5",
   "metadata": {
    "collapsed": true,
    "jupyter": {
     "outputs_hidden": true
    },
    "tags": []
   },
   "outputs": [
    {
     "name": "stdout",
     "output_type": "stream",
     "text": [
      "(bin arg:0) \n",
      " (bin co:0) \n",
      " (bin count:0) \n",
      " (bin domain:0) \n",
      " (bin float_inv:0) \n",
      " (bin float_max:0) \n",
      " (bin float_min:0) \n",
      " (bin float_prod:0) \n",
      " (bin float_sort:0) \n",
      " (bin float_sum:0) \n",
      " (bin floats:0) \n",
      " (bin get:0) \n",
      " (bin has:0) \n",
      " (bin int_inv:0) \n",
      " (bin int_max:0) \n",
      " (bin int_min:0) \n",
      " (bin int_prod:0) \n",
      " (bin int_sort:0) \n",
      " (bin int_sum:0) \n",
      " (bin ints:0) \n",
      " (bin is:8) \n",
      " (bin left:0) \n",
      " (bin nat:0) \n",
      " (bin nat_max:0) \n",
      " (bin nat_min:0) \n",
      " (bin nat_prod:0) \n",
      " (bin nat_sort:0) \n",
      " (bin nat_sum:0) \n",
      " (bin nats:0) \n",
      " (bin nif:168) \n",
      " (bin nth:12) \n",
      " (bin nth1:0) \n",
      " (bin null:0) \n",
      " (bin sum:(int_sum:0 0 0 0 (right:(if (not:(count:(equal (a:a b a a) (b:a b a a):(a:a a a b) (b:a a a b)))):(with (def y:{A} a b) (def z:{A} a a) (def x:{A} a b):(count:(equal (a:a b a a) (b:a b a a):(a:a a a b) (b:a a a b))))) (if (not:(count:(equal (a:a b a a) (a:a b a a):(a:a a a b) (a:a a a b)))):(with (def y:{A} a b) (def z:{A} a a) (def x:{A} a a):(count:(equal (a:a b a a) (a:a b a a):(a:a a a b) (a:a a a b))))) (with (def y:{A} a b) (def z:{A} a a) (def x:{A}):0) (if (not:(count:(equal (0:a b a a) (1:a b a a):(0:a a a b) (1:a a a b)))):(with (def y:{A} a b) (def z:{A} a a) (def x:{A} 0 1):(count:(equal (0:a b a a) (1:a b a a):(0:a a a b) (1:a a a b))))) (with (def y:{A} a b) (def z:{A}) (def x:{A} a b):0) (with (def y:{A} a b) (def z:{A}) (def x:{A} a a):0) (with (def y:{A} a b) (def z:{A}) (def x:{A}):0) (with (def y:{A} a b) (def z:{A}) (def x:{A} 0 1):0) (if (not:(count:(equal (a:a b 0 1) (b:a b 0 1):(a:0 1 a b) (b:0 1 a b)))):(with (def y:{A} a b) (def z:{A} 0 1) (def x:{A} a b):(count:(equal (a:a b 0 1) (b:a b 0 1):(a:0 1 a b) (b:0 1 a b))))) (if (not:(count:(equal (a:a b 0 1) (a:a b 0 1):(a:0 1 a b) (a:0 1 a b)))):(with (def y:{A} a b) (def z:{A} 0 1) (def x:{A} a a):(count:(equal (a:a b 0 1) (a:a b 0 1):(a:0 1 a b) (a:0 1 a b))))) (with (def y:{A} a b) (def z:{A} 0 1) (def x:{A}):0) (if (not:(count:(equal (0:a b 0 1) (1:a b 0 1):(0:0 1 a b) (1:0 1 a b)))):(with (def y:{A} a b) (def z:{A} 0 1) (def x:{A} 0 1):(count:(equal (0:a b 0 1) (1:a b 0 1):(0:0 1 a b) (1:0 1 a b))))) (if (not:(count:(equal (a:a a a b) (b:a a a b):(a:a b a a) (b:a b a a)))):(with (def y:{A} a a) (def z:{A} a b) (def x:{A} a b):(count:(equal (a:a a a b) (b:a a a b):(a:a b a a) (b:a b a a))))) (if (not:(count:(equal (a:a a a b) (a:a a a b):(a:a b a a) (a:a b a a)))):(with (def y:{A} a a) (def z:{A} a b) (def x:{A} a a):(count:(equal (a:a a a b) (a:a a a b):(a:a b a a) (a:a b a a))))) (with (def y:{A} a a) (def z:{A} a b) (def x:{A}):0) (if (not:(count:(equal (0:a a a b) (1:a a a b):(0:a b a a) (1:a b a a)))):(with (def y:{A} a a) (def z:{A} a b) (def x:{A} 0 1):(count:(equal (0:a a a b) (1:a a a b):(0:a b a a) (1:a b a a))))) (with (def y:{A} a a) (def z:{A} a a) (def x:{A} a b):0) (with (def y:{A} a a) (def z:{A} a a) (def x:{A} a a):0) (with (def y:{A} a a) (def z:{A} a a) (def x:{A}):0) (with (def y:{A} a a) (def z:{A} a a) (def x:{A} 0 1):0) (with (def y:{A} a a) (def z:{A}) (def x:{A} a b):0) (with (def y:{A} a a) (def z:{A}) (def x:{A} a a):0) (with (def y:{A} a a) (def z:{A}) (def x:{A}):0) (with (def y:{A} a a) (def z:{A}) (def x:{A} 0 1):0) (if (not:(count:(equal (a:a a 0 1) (b:a a 0 1):(a:0 1 a a) (b:0 1 a a)))):(with (def y:{A} a a) (def z:{A} 0 1) (def x:{A} a b):(count:(equal (a:a a 0 1) (b:a a 0 1):(a:0 1 a a) (b:0 1 a a))))) (if (not:(count:(equal (a:a a 0 1) (a:a a 0 1):(a:0 1 a a) (a:0 1 a a)))):(with (def y:{A} a a) (def z:{A} 0 1) (def x:{A} a a):(count:(equal (a:a a 0 1) (a:a a 0 1):(a:0 1 a a) (a:0 1 a a))))) (with (def y:{A} a a) (def z:{A} 0 1) (def x:{A}):0) (if (not:(count:(equal (0:a a 0 1) (1:a a 0 1):(0:0 1 a a) (1:0 1 a a)))):(with (def y:{A} a a) (def z:{A} 0 1) (def x:{A} 0 1):(count:(equal (0:a a 0 1) (1:a a 0 1):(0:0 1 a a) (1:0 1 a a))))) (with (def y:{A}) (def z:{A} a b) (def x:{A} a b):0) (with (def y:{A}) (def z:{A} a b) (def x:{A} a a):0) (with (def y:{A}) (def z:{A} a b) (def x:{A}):0) (with (def y:{A}) (def z:{A} a b) (def x:{A} 0 1):0) (with (def y:{A}) (def z:{A} a a) (def x:{A} a b):0) (with (def y:{A}) (def z:{A} a a) (def x:{A} a a):0) (with (def y:{A}) (def z:{A} a a) (def x:{A}):0) (with (def y:{A}) (def z:{A} a a) (def x:{A} 0 1):0) (with (def y:{A}) (def z:{A}) (def x:{A} a b):0) (with (def y:{A}) (def z:{A}) (def x:{A} a a):0) (with (def y:{A}) (def z:{A}) (def x:{A}):0) (with (def y:{A}) (def z:{A}) (def x:{A} 0 1):0) (with (def y:{A}) (def z:{A} 0 1) (def x:{A} a b):0) (with (def y:{A}) (def z:{A} 0 1) (def x:{A} a a):0) (with (def y:{A}) (def z:{A} 0 1) (def x:{A}):0) (with (def y:{A}) (def z:{A} 0 1) (def x:{A} 0 1):0) (if (not:(count:(equal (a:0 1 a b) (b:0 1 a b):(a:a b 0 1) (b:a b 0 1)))):(with (def y:{A} 0 1) (def z:{A} a b) (def x:{A} a b):(count:(equal (a:0 1 a b) (b:0 1 a b):(a:a b 0 1) (b:a b 0 1))))) (if (not:(count:(equal (a:0 1 a b) (a:0 1 a b):(a:a b 0 1) (a:a b 0 1)))):(with (def y:{A} 0 1) (def z:{A} a b) (def x:{A} a a):(count:(equal (a:0 1 a b) (a:0 1 a b):(a:a b 0 1) (a:a b 0 1))))) (with (def y:{A} 0 1) (def z:{A} a b) (def x:{A}):0) (if (not:(count:(equal (0:0 1 a b) (1:0 1 a b):(0:a b 0 1) (1:a b 0 1)))):(with (def y:{A} 0 1) (def z:{A} a b) (def x:{A} 0 1):(count:(equal (0:0 1 a b) (1:0 1 a b):(0:a b 0 1) (1:a b 0 1))))) (if (not:(count:(equal (a:0 1 a a) (b:0 1 a a):(a:a a 0 1) (b:a a 0 1)))):(with (def y:{A} 0 1) (def z:{A} a a) (def x:{A} a b):(count:(equal (a:0 1 a a) (b:0 1 a a):(a:a a 0 1) (b:a a 0 1))))) (if (not:(count:(equal (a:0 1 a a) (a:0 1 a a):(a:a a 0 1) (a:a a 0 1)))):(with (def y:{A} 0 1) (def z:{A} a a) (def x:{A} a a):(count:(equal (a:0 1 a a) (a:0 1 a a):(a:a a 0 1) (a:a a 0 1))))) (with (def y:{A} 0 1) (def z:{A} a a) (def x:{A}):0) (if (not:(count:(equal (0:0 1 a a) (1:0 1 a a):(0:a a 0 1) (1:a a 0 1)))):(with (def y:{A} 0 1) (def z:{A} a a) (def x:{A} 0 1):(count:(equal (0:0 1 a a) (1:0 1 a a):(0:a a 0 1) (1:a a 0 1))))) (with (def y:{A} 0 1) (def z:{A}) (def x:{A} a b):0) (with (def y:{A} 0 1) (def z:{A}) (def x:{A} a a):0) (with (def y:{A} 0 1) (def z:{A}) (def x:{A}):0) (with (def y:{A} 0 1) (def z:{A}) (def x:{A} 0 1):0) (with (def y:{A} 0 1) (def z:{A} 0 1) (def x:{A} a b):0) (with (def y:{A} 0 1) (def z:{A} 0 1) (def x:{A} a a):0) (with (def y:{A} 0 1) (def z:{A} 0 1) (def x:{A}):0) (with (def y:{A} 0 1) (def z:{A} 0 1) (def x:{A} 0 1):0)))) \n",
      " (bin text_sort:0) \n"
     ]
    }
   ],
   "source": [
    "ap post <\\n> : more 9999999 3600 : get with : TEST2 S0? : Candidates1?"
   ]
  },
  {
   "cell_type": "code",
   "execution_count": null,
   "id": "5a1ce3cf-f7aa-41ef-af28-0f4e42028bc1",
   "metadata": {},
   "outputs": [],
   "source": []
  },
  {
   "cell_type": "code",
   "execution_count": 15,
   "id": "8669502d-5e3f-4219-bfbd-6bd42341812d",
   "metadata": {},
   "outputs": [
    {
     "name": "stdout",
     "output_type": "stream",
     "text": []
    }
   ],
   "source": [
    "out T0-S0-2 : T0-S0-2?"
   ]
  },
  {
   "cell_type": "code",
   "execution_count": 16,
   "id": "f463867a-2fbc-4510-b687-d2ca120bd4ad",
   "metadata": {},
   "outputs": [
    {
     "name": "stdout",
     "output_type": "stream",
     "text": [
      "(T0-S0-2:)"
     ]
    }
   ],
   "source": [
    "T0-S0-2?"
   ]
  },
  {
   "cell_type": "code",
   "execution_count": null,
   "id": "bac5d779-6428-4fba-8a10-dfb790268308",
   "metadata": {},
   "outputs": [],
   "source": []
  }
 ],
 "metadata": {
  "kernelspec": {
   "display_name": "coda",
   "language": "",
   "name": "coda"
  },
  "language_info": {
   "file_extension": ".co",
   "mimetype": "text/plain",
   "name": "Any text"
  }
 },
 "nbformat": 4,
 "nbformat_minor": 5
}
