{
 "cells": [
  {
   "cell_type": "markdown",
   "id": "8494e839-f0a0-42b7-88d4-f50ca2e394f5",
   "metadata": {},
   "source": [
    "## Commutativity\n",
    "\n",
    "Data U is **commutative*| if U A:X Y = U A:Y X for all data X,Y.  Here we search for data with this unusual property. "
   ]
  },
  {
   "cell_type": "code",
   "execution_count": 1,
   "id": "b145e065-ee32-4f83-88ae-34fe75f46290",
   "metadata": {},
   "outputs": [
    {
     "name": "stdout",
     "output_type": "stream",
     "text": []
    }
   ],
   "source": [
    "import : dir co : up . : up : ."
   ]
  },
  {
   "cell_type": "code",
   "execution_count": 2,
   "id": "7624ed0c-146d-4441-b200-d4fd4a04f93e",
   "metadata": {},
   "outputs": [
    {
     "name": "stdout",
     "output_type": "stream",
     "text": []
    }
   ],
   "source": [
    "Def Test : {put bin (get:B) : count : bool : theorem (commutative2:(get:B)) : A}\n",
    "Def TEST : {multi : ap {with:Test A:B} A : B} "
   ]
  },
  {
   "cell_type": "code",
   "execution_count": 3,
   "id": "abaff397-3b18-45d9-84c7-6ab106287bea",
   "metadata": {},
   "outputs": [
    {
     "name": "stdout",
     "output_type": "stream",
     "text": []
    }
   ],
   "source": [
    "out T1-S0 : TEST S0? : T1?"
   ]
  },
  {
   "cell_type": "code",
   "execution_count": 4,
   "id": "8f63b457-cd7d-418f-aaa8-f0d2759e537a",
   "metadata": {},
   "outputs": [
    {
     "name": "stdout",
     "output_type": "stream",
     "text": []
    }
   ],
   "source": [
    "out T1-S6 : TEST S6? : T1? "
   ]
  },
  {
   "cell_type": "code",
   "execution_count": null,
   "id": "f743e3f8-f1be-48f3-a8b3-0b75859fddc4",
   "metadata": {},
   "outputs": [],
   "source": [
    "Let Candidates : by : count once float_max float_min float_prod float_sort float_sum \n",
    "   int_max int_min int_prod int_sort int_sum \n",
    "   nat_max nat_min nat_prod nat_sort nat_sum text_sort \n",
    "   bool not \n",
    "   const null "
   ]
  },
  {
   "cell_type": "markdown",
   "id": "723b9025-6de0-4486-ba24-2afe35a194dc",
   "metadata": {
    "tags": []
   },
   "source": [
    "## Width 1 Commutative Data \n",
    "\n",
    "In this context, data U is **commutative** if U A : X Y = U A : Y X for all data A, X and Y.  The results at this stage are fairly obvious.  Each of the commutative data below is fairly obviously commutative, and the data that fails to be commutative fails with simple examples.  We've accumulated counter-examples in S6 to make more effective testing in later stages. \n",
    "\n",
    "| Module | Data |\n",
    "|--------|------|\n",
    "| Basic  | const|\n",
    "| Basic  | null | \n",
    "| Logic  | bool | \n",
    "| Logic  | not |\n",
    "| Sequence | count | \n",
    "| Number | nat_min | \n",
    "| Number | nat_max | \n",
    "| Number | nat_sort | \n",
    "| Number | nat_prod | \n",
    "| Number | nat_sum | \n",
    "| Number | int_min | \n",
    "| Number | int_max | \n",
    "| Number | int_sort | \n",
    "| Number | int_prod | \n",
    "| Number | int_sum | \n",
    "| Number | int_min | \n",
    "| Number | int_max | \n",
    "| Number | int_sort | \n",
    "| Number | int_prod | \n",
    "| Number | int_sum | \n",
    "| Number | float_min | \n",
    "| Number | float_max | \n",
    "| Number | float_sort | \n",
    "| Number | float_prod | \n",
    "| Number | float_sum | \n"
   ]
  },
  {
   "cell_type": "code",
   "execution_count": null,
   "id": "de3c8a8f-4445-4c45-aac7-5091aad2369a",
   "metadata": {},
   "outputs": [],
   "source": []
  }
 ],
 "metadata": {
  "kernelspec": {
   "display_name": "coda",
   "language": "",
   "name": "coda"
  },
  "language_info": {
   "file_extension": ".co",
   "mimetype": "text/plain",
   "name": "Any text"
  }
 },
 "nbformat": 4,
 "nbformat_minor": 5
}
