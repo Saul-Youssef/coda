{
 "cells": [
  {
   "cell_type": "markdown",
   "id": "a8091953-62a9-4d26-ba20-f6b4ef8ccaf1",
   "metadata": {},
   "source": [
    "Peano integers \n",
    "\n",
    "Use step to see proof that 1+1 = 2\n"
   ]
  }
 ],
 "metadata": {
  "kernelspec": {
   "display_name": "coda",
   "language": "",
   "name": "coda"
  },
  "language_info": {
   "file_extension": ".co",
   "mimetype": "text/plain",
   "name": "Any text"
  }
 },
 "nbformat": 4,
 "nbformat_minor": 5
}
