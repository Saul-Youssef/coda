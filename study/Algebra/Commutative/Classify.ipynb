{
 "cells": [
  {
   "cell_type": "markdown",
   "id": "f7b0e5cc-6b0a-4088-a763-d04006d8ce82",
   "metadata": {},
   "source": [
    "## Reducing the Candidates\n",
    "\n",
    "We have collected all 742 commutative candidates from S6.  The issue in this notebook is how many of these are equivalent to each other? "
   ]
  },
  {
   "cell_type": "code",
   "execution_count": 2,
   "id": "e7597dd2-79a1-4259-9711-15a2e1aa46cd",
   "metadata": {},
   "outputs": [
    {
     "name": "stdout",
     "output_type": "stream",
     "text": [
      "(defaultTime:100)"
     ]
    }
   ],
   "source": [
    "defaultTime:100"
   ]
  },
  {
   "cell_type": "code",
   "execution_count": 3,
   "id": "58b528ad-292c-498d-9d83-ddde9c4060f7",
   "metadata": {},
   "outputs": [
    {
     "name": "stdout",
     "output_type": "stream",
     "text": []
    }
   ],
   "source": [
    "Let Candidates : ap {:arg:B} : in : endswith -300 : dir : ."
   ]
  },
  {
   "cell_type": "code",
   "execution_count": 4,
   "id": "7fedc843-4f3d-47f1-b8d8-7105ddc92f2c",
   "metadata": {},
   "outputs": [
    {
     "name": "stdout",
     "output_type": "stream",
     "text": [
      "742"
     ]
    }
   ],
   "source": [
    "count : Candidates?"
   ]
  },
  {
   "cell_type": "code",
   "execution_count": 5,
   "id": "230882e8-3a2b-4882-8dae-ef74fb2c18d2",
   "metadata": {},
   "outputs": [
    {
     "name": "stdout",
     "output_type": "stream",
     "text": [
      "(:{is : B} A) \n",
      " (:{sum : B} nif) \n",
      " (:put {sum : B}) \n",
      " (:has null) \n",
      " (:if {B : nif}) \n",
      " (:get has) \n",
      " (:{has : B} has) \n",
      " (:if domain) \n",
      " (:if {put B}) \n",
      " (:has {domain : B}) \n"
     ]
    }
   ],
   "source": [
    "ap post <\\n> : first 10 : Candidates? "
   ]
  },
  {
   "cell_type": "code",
   "execution_count": 6,
   "id": "88ff83c6-2259-4156-9c09-a0b052f74319",
   "metadata": {},
   "outputs": [
    {
     "name": "stdout",
     "output_type": "stream",
     "text": []
    }
   ],
   "source": [
    "import : dir co : up : up : ."
   ]
  },
  {
   "cell_type": "code",
   "execution_count": 9,
   "id": "385fc774-5765-4647-b37d-925f654cae96",
   "metadata": {},
   "outputs": [
    {
     "name": "stdout",
     "output_type": "stream",
     "text": []
    }
   ],
   "source": [
    "out Class-S6 10000 : classify S6? : Candidates?"
   ]
  },
  {
   "cell_type": "code",
   "execution_count": null,
   "id": "fe5f72d8-45b2-47a7-b659-315f9c45ff75",
   "metadata": {},
   "outputs": [],
   "source": [
    "out Class-S6-S2 10000 : classify S6? S2? : Candidates?"
   ]
  },
  {
   "cell_type": "code",
   "execution_count": 7,
   "id": "ce31d4ec-b0f1-4317-b8a6-186a08403ce3",
   "metadata": {
    "tags": []
   },
   "outputs": [
    {
     "name": "stdout",
     "output_type": "stream",
     "text": [
      "(:a) (:b) (:a b) ◎ (:1) (:2) (:bin) (:(bin a:x)) (:(bin b:y))"
     ]
    }
   ],
   "source": [
    "S6?"
   ]
  },
  {
   "cell_type": "code",
   "execution_count": 8,
   "id": "09d6c6f2-4760-4de8-8ab4-497ebfa54787",
   "metadata": {},
   "outputs": [
    {
     "name": "stdout",
     "output_type": "stream",
     "text": [
      "(:◎ ◎) (:◎ a) (:◎ b) (:◎ 0) (:◎ 1) (:◎ (bin:a)) (:◎ (bin 1 2:a b)) (:◎ (bin a:(bin b:1 2))) (:a ◎) (:a a) (:a b) (:a 0) (:a 1) (:a (bin:a)) (:a (bin 1 2:a b)) (:a (bin a:(bin b:1 2))) (:b ◎) (:b a) (:b b) (:b 0) (:b 1) (:b (bin:a)) (:b (bin 1 2:a b)) (:b (bin a:(bin b:1 2))) (:0 ◎) (:0 a) (:0 b) (:0 0) (:0 1) (:0 (bin:a)) (:0 (bin 1 2:a b)) (:0 (bin a:(bin b:1 2))) (:1 ◎) (:1 a) (:1 b) (:1 0) (:1 1) (:1 (bin:a)) (:1 (bin 1 2:a b)) (:1 (bin a:(bin b:1 2))) (:(bin:a) ◎) (:(bin:a) a) (:(bin:a) b) (:(bin:a) 0) (:(bin:a) 1) (:(bin:a) (bin:a)) (:(bin:a) (bin 1 2:a b)) (:(bin:a) (bin a:(bin b:1 2))) (:(bin 1 2:a b) ◎) (:(bin 1 2:a b) a) (:(bin 1 2:a b) b) (:(bin 1 2:a b) 0) (:(bin 1 2:a b) 1) (:(bin 1 2:a b) (bin:a)) (:(bin 1 2:a b) (bin 1 2:a b)) (:(bin 1 2:a b) (bin a:(bin b:1 2))) (:(bin a:(bin b:1 2)) ◎) (:(bin a:(bin b:1 2)) a) (:(bin a:(bin b:1 2)) b) (:(bin a:(bin b:1 2)) 0) (:(bin a:(bin b:1 2)) 1) (:(bin a:(bin b:1 2)) (bin:a)) (:(bin a:(bin b:1 2)) (bin 1 2:a b)) (:(bin a:(bin b:1 2)) (bin a:(bin b:1 2)))"
     ]
    }
   ],
   "source": [
    "S2?"
   ]
  },
  {
   "cell_type": "code",
   "execution_count": null,
   "id": "9ba2f517-e3d3-4c00-a341-bf2fc35febf0",
   "metadata": {},
   "outputs": [],
   "source": []
  }
 ],
 "metadata": {
  "kernelspec": {
   "display_name": "coda",
   "language": "",
   "name": "coda"
  },
  "language_info": {
   "file_extension": ".co",
   "mimetype": "text/plain",
   "name": "Any text"
  }
 },
 "nbformat": 4,
 "nbformat_minor": 5
}
