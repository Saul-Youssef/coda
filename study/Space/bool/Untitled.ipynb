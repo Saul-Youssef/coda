{
 "cells": [
  {
   "cell_type": "code",
   "execution_count": 1,
   "id": "0fcf3242-509d-4e19-8d46-1196cd4a3886",
   "metadata": {},
   "outputs": [
    {
     "name": "stdout",
     "output_type": "stream",
     "text": []
    }
   ],
   "source": [
    "Def U : is a b "
   ]
  },
  {
   "cell_type": "code",
   "execution_count": 4,
   "id": "338ee9b5-6b6f-4cdf-9943-d2241ad658d0",
   "metadata": {},
   "outputs": [
    {
     "name": "stdout",
     "output_type": "stream",
     "text": [
      "a b"
     ]
    }
   ],
   "source": [
    "U : U : a (U:b)"
   ]
  },
  {
   "cell_type": "code",
   "execution_count": 5,
   "id": "175004fa-cd96-49ba-9e9d-f3847fea6ebb",
   "metadata": {},
   "outputs": [
    {
     "name": "stdout",
     "output_type": "stream",
     "text": [
      "a b"
     ]
    }
   ],
   "source": [
    "U : a b c d e "
   ]
  },
  {
   "cell_type": "code",
   "execution_count": 6,
   "id": "0f98d159-6a6c-477a-bd8b-c7f5430d4e76",
   "metadata": {},
   "outputs": [
    {
     "name": "stdout",
     "output_type": "stream",
     "text": [
      "c d"
     ]
    }
   ],
   "source": [
    "isnt a b : a b c d "
   ]
  },
  {
   "cell_type": "code",
   "execution_count": null,
   "id": "627d28a9-0dde-4b4b-ac02-4bb80e91fbd7",
   "metadata": {},
   "outputs": [],
   "source": [
    "isnt a b : a b c d "
   ]
  },
  {
   "cell_type": "code",
   "execution_count": 8,
   "id": "db95ffed-9029-49b4-ad1d-fa1eb08b84cc",
   "metadata": {},
   "outputs": [
    {
     "name": "stdout",
     "output_type": "stream",
     "text": [
      " atoms \n",
      " back \n",
      " backstrip \n",
      " by \n",
      " combination \n",
      " common \n",
      " count \n",
      " dup \n",
      " ends \n",
      " first \n",
      " front \n",
      " frontstrip \n",
      " grp \n",
      " head \n",
      " item \n",
      " last \n",
      " maxwidth \n",
      " minwidth \n",
      " nth \n",
      " nth1 \n",
      " once \n",
      " pair \n",
      " permutation \n",
      " post \n",
      " pre \n",
      " prepoly \n",
      " prepoly_ \n",
      " preprod \n",
      " presum \n",
      " rep \n",
      " rev \n",
      " skip \n",
      " starts \n",
      " swap \n",
      " tail \n",
      " tuple \n",
      " width \n"
     ]
    }
   ],
   "source": [
    "tab : defs : Sequence"
   ]
  },
  {
   "cell_type": "code",
   "execution_count": null,
   "id": "dd345908-2dbe-48c9-bc57-f4d5367bd16a",
   "metadata": {},
   "outputs": [],
   "source": []
  }
 ],
 "metadata": {
  "kernelspec": {
   "display_name": "coda",
   "language": "",
   "name": "coda"
  },
  "language_info": {
   "file_extension": ".co",
   "mimetype": "text/plain",
   "name": "Any text"
  }
 },
 "nbformat": 4,
 "nbformat_minor": 5
}
