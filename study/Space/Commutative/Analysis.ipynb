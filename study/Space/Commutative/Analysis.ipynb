{
 "cells": [
  {
   "cell_type": "code",
   "execution_count": 1,
   "id": "b145e065-ee32-4f83-88ae-34fe75f46290",
   "metadata": {},
   "outputs": [
    {
     "name": "stdout",
     "output_type": "stream",
     "text": []
    }
   ],
   "source": [
    "import : dir co : up : ."
   ]
  },
  {
   "cell_type": "code",
   "execution_count": 2,
   "id": "8a29ec8a-b022-4792-923b-19db13dbc9e5",
   "metadata": {},
   "outputs": [
    {
     "name": "stdout",
     "output_type": "stream",
     "text": [
      "(:arg) (:bin) (:by) (:co) (:collect) (:count) (:domain) (:equiv) (:first) (:float_div) (:float_inv) (:float_max) (:float_min) (:float_prod) (:float_sort) (:float_sum) (:floats) (:get) (:has) (:hasnt) (:if) (:int_div) (:int_inv) (:int_max) (:int_min) (:int_prod) (:int_sort) (:int_sum) (:ints) (:is) (:isnt) (:last) (:left) (:nat) (:nat_max) (:nat_min) (:nat_prod) (:nat_sort) (:nat_sum) (:nats) (:nif) (:nth) (:nth1) (:null) (:once) (:pass) (:plus) (:post) (:pre) (:prod) (:put) (:rep) (:rev) (:right) (:skip) (:star) (:sum) (:tail) (:text_sort)"
     ]
    }
   ],
   "source": [
    "T0?"
   ]
  },
  {
   "cell_type": "code",
   "execution_count": 3,
   "id": "1d88f8c8-e85c-4189-bb1e-55c9abe8cd27",
   "metadata": {},
   "outputs": [
    {
     "name": "stdout",
     "output_type": "stream",
     "text": [
      "(bin bin:0 4 2 4 0 2 2 2 0)"
     ]
    }
   ],
   "source": [
    "put bin bin : right : multi : cases (commutative:bin) : (:a) (:b) (:c)"
   ]
  },
  {
   "cell_type": "code",
   "execution_count": 4,
   "id": "3f5bc195-9571-4749-b8f0-716279990174",
   "metadata": {},
   "outputs": [
    {
     "name": "stdout",
     "output_type": "stream",
     "text": [
      "(bin bin:0 4 2 4 0 2 2 2 0) (bin pass:0 4 2 4 0 2 2 2 0) (bin null:0)"
     ]
    }
   ],
   "source": [
    "ap {put bin (get:B) : right : multi : cases (commutative:get:B) : A} (:a) (:b) (:c) : (:bin) (:pass) (:null)"
   ]
  },
  {
   "cell_type": "code",
   "execution_count": 5,
   "id": "54e2e4c7-31ea-4ba9-bcda-899a7f1d8e05",
   "metadata": {},
   "outputs": [
    {
     "name": "stdout",
     "output_type": "stream",
     "text": []
    }
   ],
   "source": [
    "Def Test : { ap {put bin (get:B) : right : multi : cases (commutative:get:B) : A} A : B} "
   ]
  },
  {
   "cell_type": "code",
   "execution_count": 9,
   "id": "400785a6-6262-41e9-ad5a-34a0b4ee5098",
   "metadata": {},
   "outputs": [
    {
     "name": "stdout",
     "output_type": "stream",
     "text": []
    }
   ],
   "source": [
    "Let R0 : Test (:a) (:b) (:c) : (:pass) (:null)"
   ]
  },
  {
   "cell_type": "code",
   "execution_count": 10,
   "id": "7d7c2d03-0ada-4f1c-b8e8-289da9e6c9ed",
   "metadata": {},
   "outputs": [
    {
     "name": "stdout",
     "output_type": "stream",
     "text": [
      "(bin pass:0 4 2 4 0 2 2 2 0) (bin null:0)"
     ]
    }
   ],
   "source": [
    "R0?"
   ]
  },
  {
   "cell_type": "code",
   "execution_count": 11,
   "id": "56d15382-8721-41c4-98f9-2ad9029b4250",
   "metadata": {},
   "outputs": [
    {
     "name": "stdout",
     "output_type": "stream",
     "text": []
    }
   ],
   "source": [
    "Let R1 : Test (:1 1) (:1 2) (:) : T0?"
   ]
  },
  {
   "cell_type": "code",
   "execution_count": null,
   "id": "2a8677bd-b02c-476b-b0c6-dc447cc78e7b",
   "metadata": {},
   "outputs": [],
   "source": [
    "R1?"
   ]
  },
  {
   "cell_type": "code",
   "execution_count": null,
   "id": "3deca816-eb17-49d2-b16e-9333e3fe9544",
   "metadata": {},
   "outputs": [],
   "source": []
  }
 ],
 "metadata": {
  "kernelspec": {
   "display_name": "coda",
   "language": "",
   "name": "coda"
  },
  "language_info": {
   "file_extension": ".co",
   "mimetype": "text/plain",
   "name": "Any text"
  }
 },
 "nbformat": 4,
 "nbformat_minor": 5
}
