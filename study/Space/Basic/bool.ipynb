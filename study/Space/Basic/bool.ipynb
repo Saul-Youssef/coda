{
 "cells": [
  {
   "cell_type": "markdown",
   "id": "3ead57e0-00f9-4fbe-9055-4ba81d3f0d93",
   "metadata": {},
   "source": [
    "\n",
    "| bool |  |\n",
    "|---|---|\n",
    "| Description | Logical value of input | \n",
    "| Data | (:) or () | \n",
    "| Operation | Logical value of input | \n",
    "| Simple? | Y | \n",
    "| Distributive? | N | \n",
    "| Neutral element? | () | \n",
    "| Endomorphisms | Maps from (),(:) to (),(:) | "
   ]
  },
  {
   "cell_type": "code",
   "execution_count": 1,
   "id": "e3cfcb8f-9751-43ba-859f-bccb97304a7e",
   "metadata": {
    "tags": []
   },
   "outputs": [
    {
     "name": "stdout",
     "output_type": "stream",
     "text": [
      "0\n",
      "16\n",
      "0"
     ]
    }
   ],
   "source": [
    "import : dir co : up : .\n",
    "\n",
    "count : theorem (idempotent1:bool) : S1? S3?\n",
    "count : theorem (distributive1:bool) : S1?\n",
    "count : theorem (simple:bool) : S1?"
   ]
  },
  {
   "cell_type": "code",
   "execution_count": null,
   "id": "9e5a870c-b930-472e-9577-3a2391c3ba97",
   "metadata": {},
   "outputs": [],
   "source": []
  }
 ],
 "metadata": {
  "kernelspec": {
   "display_name": "coda",
   "language": "",
   "name": "coda"
  },
  "language_info": {
   "file_extension": ".co",
   "mimetype": "text/plain",
   "name": "Any text"
  }
 },
 "nbformat": 4,
 "nbformat_minor": 5
}
