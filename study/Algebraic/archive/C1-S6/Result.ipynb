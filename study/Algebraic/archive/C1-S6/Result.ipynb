{
 "cells": [
  {
   "cell_type": "code",
   "execution_count": 1,
   "id": "53c35701-900f-481a-b09a-3f60b50f7d83",
   "metadata": {},
   "outputs": [
    {
     "name": "stdout",
     "output_type": "stream",
     "text": [
      "(defaultTime:1000)"
     ]
    }
   ],
   "source": [
    "defaultTime:1000"
   ]
  },
  {
   "cell_type": "code",
   "execution_count": 14,
   "id": "21560f3c-8092-47e8-995d-ffa10030fa8d",
   "metadata": {},
   "outputs": [
    {
     "name": "stdout",
     "output_type": "stream",
     "text": []
    }
   ],
   "source": [
    "import : dir co : up : up : up : . "
   ]
  },
  {
   "cell_type": "code",
   "execution_count": 3,
   "id": "eceb9592-f61a-4700-a30c-55f890c1e3b6",
   "metadata": {},
   "outputs": [
    {
     "name": "stdout",
     "output_type": "stream",
     "text": [
      " (:and) \n",
      " (:aq) \n",
      " (:bool) \n",
      " (:const) \n",
      " (:count) \n",
      " (:float_max) \n",
      " (:float_min) \n",
      " (:float_prod) \n",
      " (:float_sort) \n",
      " (:float_sum) \n",
      " (:iff) \n",
      " (:imply) \n",
      " (:int_max) \n",
      " (:int_min) \n",
      " (:int_prod) \n",
      " (:int_sort) \n",
      " (:int_sum) \n",
      " (:nand) \n",
      " (:nat_max) \n",
      " (:nat_min) \n",
      " (:nat_prod) \n",
      " (:nat_sort) \n",
      " (:nat_sum) \n",
      " (:nor) \n",
      " (:not) \n",
      " (:null) \n",
      " (:or) \n",
      " (:ring) \n",
      " (:stick) \n",
      " (:text_sort) \n",
      " (:xnor) \n",
      " (:xor) \n"
     ]
    }
   ],
   "source": [
    "tab : read : algebraic_L3.can "
   ]
  },
  {
   "cell_type": "code",
   "execution_count": 4,
   "id": "1e38c473-d753-4c35-a86c-2911f63fb69e",
   "metadata": {},
   "outputs": [
    {
     "name": "stdout",
     "output_type": "stream",
     "text": [
      "52\n",
      "44\n",
      "33"
     ]
    }
   ],
   "source": [
    "count : in : algebraic_L1.can \n",
    "count : in : algebraic_L2.can \n",
    "count : in : algebraic_L3.can "
   ]
  },
  {
   "cell_type": "code",
   "execution_count": 11,
   "id": "9caf34a4-861f-4b7f-bcab-5871d93fd3b5",
   "metadata": {},
   "outputs": [
    {
     "name": "stdout",
     "output_type": "stream",
     "text": [
      "(with null:) (with pass:) (with rev:◎) (with prod (:rev) (:rev):)"
     ]
    }
   ],
   "source": [
    "do 100 : property idempotent S7? : (:null) (:pass) (:rev) (:rev*rev)"
   ]
  },
  {
   "cell_type": "code",
   "execution_count": null,
   "id": "5637ebae-19c2-42c2-ab9b-3c20f37c4bb8",
   "metadata": {},
   "outputs": [],
   "source": [
    "Let T : dom 200 : property idempotent S7? : read : algebraic_L3.can "
   ]
  },
  {
   "cell_type": "code",
   "execution_count": null,
   "id": "c167d88f-22f6-4eae-b80e-c18e8bc29fb1",
   "metadata": {},
   "outputs": [],
   "source": [
    "tab : T?"
   ]
  },
  {
   "cell_type": "code",
   "execution_count": null,
   "id": "4329b632-23e7-462a-a1a5-b71f54c62da5",
   "metadata": {},
   "outputs": [],
   "source": []
  }
 ],
 "metadata": {
  "kernelspec": {
   "display_name": "coda",
   "language": "",
   "name": "coda"
  },
  "language_info": {
   "file_extension": ".co",
   "mimetype": "text/plain",
   "name": "Any text"
  }
 },
 "nbformat": 4,
 "nbformat_minor": 5
}
