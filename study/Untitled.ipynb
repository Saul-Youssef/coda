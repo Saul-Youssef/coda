{
 "cells": [
  {
   "cell_type": "code",
   "execution_count": 1,
   "id": "86af4d78-2c00-418f-ac6c-29dd337eb61b",
   "metadata": {},
   "outputs": [
    {
     "name": "stdout",
     "output_type": "stream",
     "text": [
      "a a b a c a d a"
     ]
    }
   ],
   "source": [
    "ap {B a} : a b c d "
   ]
  },
  {
   "cell_type": "code",
   "execution_count": 2,
   "id": "c555d7e1-6a5c-4b01-8eb3-e3904eeffe1c",
   "metadata": {},
   "outputs": [
    {
     "name": "stdout",
     "output_type": "stream",
     "text": [
      "a a b b c c"
     ]
    }
   ],
   "source": [
    "ap {B B} : a b c "
   ]
  },
  {
   "cell_type": "code",
   "execution_count": 3,
   "id": "a7788ab2-0513-40bf-a079-b31cd5df1ad5",
   "metadata": {},
   "outputs": [
    {
     "name": "stdout",
     "output_type": "stream",
     "text": []
    }
   ],
   "source": [
    "Def S : is a b "
   ]
  },
  {
   "cell_type": "code",
   "execution_count": 4,
   "id": "6556ec74-02b8-4305-b65c-7db545ce215c",
   "metadata": {},
   "outputs": [
    {
     "name": "stdout",
     "output_type": "stream",
     "text": [
      "a b"
     ]
    }
   ],
   "source": [
    "S : a b c "
   ]
  },
  {
   "cell_type": "code",
   "execution_count": 8,
   "id": "e1d10015-47a4-4c0f-a2f3-3ebbf865646e",
   "metadata": {},
   "outputs": [
    {
     "name": "stdout",
     "output_type": "stream",
     "text": []
    }
   ],
   "source": [
    "Def PR : {join ,: (count:is a:B) (count:is b:B)} "
   ]
  },
  {
   "cell_type": "code",
   "execution_count": 6,
   "id": "53eb7f80-62c7-40cb-ab73-15543f7ddc0e",
   "metadata": {},
   "outputs": [
    {
     "name": "stdout",
     "output_type": "stream",
     "text": [
      "[ 1 1 ]"
     ]
    }
   ],
   "source": [
    "pr S: a b c d "
   ]
  },
  {
   "cell_type": "code",
   "execution_count": 9,
   "id": "698976c1-ee1a-4bc4-bfcb-703fd0235d85",
   "metadata": {},
   "outputs": [
    {
     "name": "stdout",
     "output_type": "stream",
     "text": [
      "4,0"
     ]
    }
   ],
   "source": [
    "PR A : a a a a "
   ]
  },
  {
   "cell_type": "code",
   "execution_count": 10,
   "id": "f9e4b10f-8c62-4f92-80e6-57a6858efaa6",
   "metadata": {},
   "outputs": [
    {
     "name": "stdout",
     "output_type": "stream",
     "text": []
    }
   ],
   "source": [
    "Def F1 : ap {B b} "
   ]
  },
  {
   "cell_type": "code",
   "execution_count": 18,
   "id": "28a85436-a19e-4ed9-9d55-95b099311817",
   "metadata": {},
   "outputs": [
    {
     "name": "stdout",
     "output_type": "stream",
     "text": [
      "3,2"
     ]
    }
   ],
   "source": [
    "PR : S : a b b a a   "
   ]
  },
  {
   "cell_type": "code",
   "execution_count": 30,
   "id": "b14db49c-a6c7-4e5b-9299-f60e442bc91b",
   "metadata": {},
   "outputs": [
    {
     "name": "stdout",
     "output_type": "stream",
     "text": [
      "13,2"
     ]
    }
   ],
   "source": [
    "PR : ap {a a B} : S : a b b a a "
   ]
  },
  {
   "cell_type": "code",
   "execution_count": 33,
   "id": "fc3cc76e-206e-4c35-88ca-5fb18f4759fc",
   "metadata": {},
   "outputs": [
    {
     "name": "stdout",
     "output_type": "stream",
     "text": [
      "7,2"
     ]
    }
   ],
   "source": [
    "PR : ap {a a B} : S : a b b "
   ]
  },
  {
   "cell_type": "code",
   "execution_count": null,
   "id": "9b9d66d7-ef56-4102-9209-9a6b84ec4a19",
   "metadata": {},
   "outputs": [],
   "source": []
  }
 ],
 "metadata": {
  "kernelspec": {
   "display_name": "coda",
   "language": "",
   "name": "coda"
  },
  "language_info": {
   "file_extension": ".co",
   "mimetype": "text/plain",
   "name": "Any text"
  }
 },
 "nbformat": 4,
 "nbformat_minor": 5
}
