{
 "cells": [
  {
   "cell_type": "code",
   "execution_count": 1,
   "id": "50336dbf-da29-49bd-bee2-326d2c9b6aeb",
   "metadata": {},
   "outputs": [],
   "source": [
    "from endo import *"
   ]
  },
  {
   "cell_type": "code",
   "execution_count": 2,
   "id": "02d17075-2bca-469b-b121-309fee9fb739",
   "metadata": {},
   "outputs": [
    {
     "name": "stdout",
     "output_type": "stream",
     "text": [
      "0 1 1 1\n",
      "1 1 2 1\n",
      "2 4 4 3\n",
      "3 27 8 6\n",
      "4 256 16 10\n",
      "5 3125 32 15\n",
      "6 46656 64 21\n",
      "7 823543 128 28\n"
     ]
    }
   ],
   "source": [
    "for i in range(8): print(i,len(End(i)),2**i,len([e for e in End(i).space()]))"
   ]
  },
  {
   "cell_type": "code",
   "execution_count": 3,
   "id": "10c74310-1068-416a-9b54-e18c20265918",
   "metadata": {},
   "outputs": [
    {
     "name": "stdout",
     "output_type": "stream",
     "text": [
      "0 1 1 1\n",
      "1 1 2 1\n",
      "2 4 4 3\n",
      "3 27 8 4\n",
      "4 256 16 9\n",
      "5 3125 32 6\n",
      "6 46656 64 24\n",
      "7 823543 128 8\n"
     ]
    }
   ],
   "source": [
    "for i in range(8): print(i,len(EndMod(i)),2**i,len([e for e in EndMod(i).space()]))"
   ]
  },
  {
   "cell_type": "code",
   "execution_count": 4,
   "id": "35b41eff-a923-4a97-a32c-b354681696e2",
   "metadata": {},
   "outputs": [],
   "source": [
    "E = End(3)"
   ]
  },
  {
   "cell_type": "code",
   "execution_count": 10,
   "id": "2fb19ff9-d7ea-43f2-a0e7-f77975ee58c0",
   "metadata": {},
   "outputs": [
    {
     "name": "stdout",
     "output_type": "stream",
     "text": [
      "012\n",
      "021\n",
      "102\n",
      "120\n",
      "201\n",
      "210\n"
     ]
    }
   ],
   "source": [
    "for e in EndMod(3).units(): print(e)"
   ]
  },
  {
   "cell_type": "code",
   "execution_count": null,
   "id": "c1347079-bbbb-4207-ac24-7e25a54cccb6",
   "metadata": {},
   "outputs": [
    {
     "name": "stdout",
     "output_type": "stream",
     "text": [
      "0123456\n"
     ]
    }
   ],
   "source": [
    "for e in EndMod(7).centralizer(): print(e)"
   ]
  },
  {
   "cell_type": "code",
   "execution_count": null,
   "id": "ca7b87fc-adf4-4358-aa59-e373993f4a25",
   "metadata": {},
   "outputs": [],
   "source": [
    "for e in End(3).itempotent(): print(e,e.range())"
   ]
  },
  {
   "cell_type": "code",
   "execution_count": null,
   "id": "b1ef73ff-7ae1-4b39-93f1-3fb6a4a1de35",
   "metadata": {},
   "outputs": [],
   "source": [
    "def iranges(E):\n",
    "    ranges = set([])\n",
    "    for e in E.itempotent(): \n",
    "        r = [i for i in e.range()]\n",
    "        r.sort()\n",
    "        ranges.add(tuple(r))\n",
    "    rs = [r for r in ranges]\n",
    "    rs.sort()\n",
    "    for r in rs: yield r \n",
    "def nranges(E):\n",
    "    return len([r for r in iranges(E)]) "
   ]
  },
  {
   "cell_type": "code",
   "execution_count": null,
   "id": "efcd2b02-3023-4320-99e2-0f33e12918f1",
   "metadata": {},
   "outputs": [],
   "source": [
    "N = 5 \n",
    "E = End(N)\n",
    "for r in iranges(E): print(r)\n",
    "print('--')\n",
    "for e in E.space(): print(e,e.range())\n",
    "print('==')\n",
    "E = EndMod(N)\n",
    "for r in iranges(E): print(r)\n",
    "print('--')\n",
    "for e in E.space(): print(e,e.range())"
   ]
  },
  {
   "cell_type": "code",
   "execution_count": null,
   "id": "3b71376f-33cb-4ccc-9ba7-77b975cdd139",
   "metadata": {},
   "outputs": [],
   "source": []
  },
  {
   "cell_type": "code",
   "execution_count": null,
   "id": "2593536c-059d-4531-893b-922752902a5b",
   "metadata": {},
   "outputs": [],
   "source": [
    "for e in End(4).space(): print(e,e.range())"
   ]
  },
  {
   "cell_type": "code",
   "execution_count": null,
   "id": "d942dcfe-b430-439d-a9d4-c46d1709cb10",
   "metadata": {},
   "outputs": [],
   "source": [
    "for e in E: print(e)"
   ]
  },
  {
   "cell_type": "code",
   "execution_count": null,
   "id": "5d484896-d25f-498c-b65a-57ed0f2006e1",
   "metadata": {},
   "outputs": [],
   "source": [
    "def Spectrum(n):\n",
    "    E = End(n)\n",
    "    Space = [e for e in E.space()]\n",
    "    Special = [e for e in E.special()] \n",
    "    Special2= [e for e in EndMod(n).special()] \n",
    "    \n",
    "    print('n:',n,'spaces:',len(Space),'special:',len(Special)) \n",
    "\n",
    "    for s in Space:\n",
    "        n = len([t for t in Special  if s.commute(t)]) \n",
    "        m = len([t for t in Special2 if s.commute(t)]) \n",
    "        print(s,' ',n,m)\n",
    "\n",
    "def SpectrumMod(n):\n",
    "    E = EndMod(n)\n",
    "    Space = [e for e in E.space()]\n",
    "    Special = [e for e in E.special()] \n",
    "    Special2= [e for e in End(n).special()] \n",
    "    \n",
    "    print('n:',n,'spaces:',len(Space),'special:',len(Special)) \n",
    "\n",
    "    for s in Space:\n",
    "        n = len([t for t in Special  if s.commute(t)]) \n",
    "        m = len([t for t in Special2 if s.commute(t)]) \n",
    "        print(s,' ',n,m)\n",
    "\n",
    "SpectrumMod(6)\n",
    "#\n",
    "#for s in End(5).space():\n",
    "#    n = len([t for t in End(5).special() if s.commute(t)]) \n",
    "#    m = len([t for t in EndMod(5).special() if s.commute(t)]) \n",
    "#    print(s,' ',n,m)\n",
    "#    if any(s.commute(t) for t in End(5).special()): \n",
    "#        print(s)\n",
    "#    else:\n",
    "#        print('--',s)\n",
    "#    for t in End(5).special(): \n",
    "#        if not s.commute(t): print(s,' ',t)"
   ]
  },
  {
   "cell_type": "code",
   "execution_count": null,
   "id": "8aefcbe1-06e9-4217-bb67-2fa0dacf9fe6",
   "metadata": {},
   "outputs": [],
   "source": [
    "for e in End(7).distributive(): \n",
    "    print(e,[i for i in e.range()])"
   ]
  },
  {
   "cell_type": "code",
   "execution_count": null,
   "id": "0ed2a588-29bd-44ff-a45b-ed3f721a0f1f",
   "metadata": {},
   "outputs": [],
   "source": [
    "for e in End(7).space():\n",
    "    print(e,[i for i in e.range()])"
   ]
  },
  {
   "cell_type": "code",
   "execution_count": null,
   "id": "c52cc8a9-8a45-4cb5-92a7-939d2056d7db",
   "metadata": {},
   "outputs": [],
   "source": [
    "for e in EndMod(5).space(): \n",
    "    print(e,[i for i in e.range()])"
   ]
  },
  {
   "cell_type": "code",
   "execution_count": null,
   "id": "23d38373-fd08-4e31-9091-837450afe0e1",
   "metadata": {},
   "outputs": [],
   "source": [
    "for e in EndMod(7):\n",
    "    if e.space(): print(e,[i for i in e.range()]) "
   ]
  },
  {
   "cell_type": "code",
   "execution_count": null,
   "id": "937e2dce-1a4e-4631-b52f-d5606640f782",
   "metadata": {},
   "outputs": [],
   "source": [
    "for e in End(5):\n",
    "    if e.space(): print(e,[i for i in e.range()])"
   ]
  },
  {
   "cell_type": "code",
   "execution_count": null,
   "id": "7c71b637-824e-4b70-bc5d-5430d1d9dc9a",
   "metadata": {},
   "outputs": [],
   "source": [
    "for e in End(5).involution(): print(e,[i for i in e.range()])"
   ]
  },
  {
   "cell_type": "code",
   "execution_count": null,
   "id": "087ff85c-41bd-4f5d-a43d-e77573ba3ec2",
   "metadata": {
    "tags": []
   },
   "outputs": [],
   "source": [
    "for e in EndMod(5).space(): print(e,[i for i in e.range()])"
   ]
  },
  {
   "cell_type": "code",
   "execution_count": null,
   "id": "90e27449-2092-4ef7-a389-159248dc79f1",
   "metadata": {
    "tags": []
   },
   "outputs": [],
   "source": [
    "#E = End(4)\n",
    "#for s in E.special(): print(s)\n",
    "#for e in E: \n",
    "#    if e.space(): \n",
    "#        print(e)\n",
    "#        for s in E.special():\n",
    "#            print('-',e.commute(s))\n",
    "def Dis(E):\n",
    "    total = [e for e in E]\n",
    "    units = [e for e in E if e.unit()] \n",
    "    idems = [e for e in E if e.idempotent()] \n",
    "    invol = [e for e in E if e.involution()]\n",
    "    space = [e for e in E if e.space()]\n",
    "    posit = [e for e in E if e.positive()]\n",
    "    print('         total:',len(total))\n",
    "    print('          unit:',len(units))\n",
    "    print('    idempotent:',len(idems)) \n",
    "    print('    involution:',len(invol)) \n",
    "    print('         space:',len(space)) \n",
    "    print('      positive:',len(posit)) \n",
    "    print('idemp   x unit:',len(idems)*len(units))\n",
    "    print('space   x unit:',len(space)*len(units)) \n",
    "    print('space^2 x unit:',len(space)*len(space)*len(units))\n"
   ]
  },
  {
   "cell_type": "code",
   "execution_count": null,
   "id": "cba9ce66-0973-46cf-b1a2-d15be67b710d",
   "metadata": {},
   "outputs": [],
   "source": [
    "for n in range(1,7):\n",
    "    E1 = End(n)\n",
    "    E1s = [e for e in E1 if e.space()]\n",
    "    E1u = [e for e in E1 if e.unit()]\n",
    "    E1i = [e for e in E1 if e.idempotent()] \n",
    "    E2 = EndMod(n)\n",
    "    E2s = [e for e in E2 if e.space()]\n",
    "    E2u = [e for e in E2 if e.unit()] \n",
    "    E2i = [e for e in E2 if e.idempotent()] \n",
    "    print(n,len(E1s),len(E2s),len(E1s)*len(E2s),len(E1i),len(E1u),'|',len(E1),len(E1i)*len(E1u),len(E2s)*len(E1s)*len(E1u),len(E1u)*(len(E1s)+len(E2s)))"
   ]
  },
  {
   "cell_type": "code",
   "execution_count": null,
   "id": "56d17189-93b5-436b-b3d5-1e0069685851",
   "metadata": {},
   "outputs": [],
   "source": []
  },
  {
   "cell_type": "code",
   "execution_count": null,
   "id": "1f49c76d-31bc-4f92-998c-91e6412c96ed",
   "metadata": {},
   "outputs": [],
   "source": [
    "S1 = set([])\n",
    "S2 = set([])\n",
    "E = End(3)\n",
    "units = [e for e in E if e.unit()]\n",
    "idemp = [e for e in E if e.idempotent()] \n",
    "print('units:',len(units),'idempotents:',len(idemp),'Total:',len(E))\n",
    "for e in units:\n",
    "    for f in idemp:\n",
    "        S1.add(e*f)\n",
    "        S2.add(f*e)\n",
    "#        print(e,f,e*f,f*e)\n",
    "print('u*i:',len(S1),'i*u:',len(S2),'total:',len(E))\n",
    "#for e in E: \n",
    "#    if e.space(): print(e)\n",
    "E2 = EndMod(4)\n",
    "#for e in E2:\n",
    "#    if e.unit(): print(e)"
   ]
  },
  {
   "cell_type": "code",
   "execution_count": null,
   "id": "9832b4aa-e79e-49fb-b87e-68c9275ab3da",
   "metadata": {},
   "outputs": [],
   "source": [
    "E = End(3)\n",
    "units = [e for e in E if e.unit()]\n",
    "space = [e for e in E if e.space()]\n",
    "T = set([])\n",
    "for s in space:\n",
    "    for t in space: T.add(s+t)\n",
    "space2 = [e for e in T]\n",
    "\n",
    "S = set([]) \n",
    "for e in units:\n",
    "    for f in space2:\n",
    "        S.add(e*f)\n",
    "        S.add(f*e)\n",
    "\n",
    "print('units',len(units))\n",
    "print('space',len(space))\n",
    "print('space2',len(space2))\n",
    "print('u*s2 + s2*u',len(S),len(E))"
   ]
  },
  {
   "cell_type": "code",
   "execution_count": null,
   "id": "dbb431f9-bd40-4e0c-8cbf-032346b4db4d",
   "metadata": {},
   "outputs": [],
   "source": [
    "for u in units: print(u)\n",
    "print('-')\n",
    "for i in idemp: print(i)"
   ]
  },
  {
   "cell_type": "code",
   "execution_count": null,
   "id": "a1c871cb-c939-4f81-bd41-199df613cbf8",
   "metadata": {},
   "outputs": [],
   "source": [
    "#print(len([e for e in End(6)]))\n",
    "#print(len([e for e in End(6) if e.idempotent()])) \n",
    "#print(len([e for e in End(6) if e.involution()]))\n",
    "#print(len([e for e in End(6) if e.space()])) \n",
    "#\n",
    "#print(len([e for e in EndMod(6)]))\n",
    "#print(len([e for e in EndMod(6) if e.idempotent()])) \n",
    "#print(len([e for e in EndMod(6) if e.involution()]))\n",
    "#print(len([e for e in EndMod(6) if e.space()])) "
   ]
  },
  {
   "cell_type": "code",
   "execution_count": null,
   "id": "c6895f41-4c0d-4441-bbb1-ce442dd90eef",
   "metadata": {},
   "outputs": [],
   "source": [
    "#\n",
    "#   A055225 \n",
    "#   https://oeis.org/search?q=1%2c3%2c4%2c9%2c6%2c24%2c8%2c41%20id%3a55225&sort=references\n",
    "#\n",
    "#   A000217\n",
    "#   \"Triangular Numbers\"\n",
    "#\n",
    "#for n in range(4):\n",
    "#    E1 = End(n)\n",
    "#    E2 = EndMod(n)\n",
    "#    I1 = [e for e in End(n) if e.idempotent()]\n",
    "#    I2 = [e for e in EndMod(n) if e.idempotent()] \n",
    "#    S1 = [e for e in End(n) if e.space()]\n",
    "#    S2 = [e for e in EndMod(n) if e.space()]\n",
    "#    print(n,len(E1),len(I1),len(S1),len(I2),len(S2))"
   ]
  },
  {
   "cell_type": "code",
   "execution_count": null,
   "id": "eba945b4-fb40-460e-9caa-b84d2004d1f1",
   "metadata": {},
   "outputs": [],
   "source": []
  }
 ],
 "metadata": {
  "kernelspec": {
   "display_name": "Python 3 (ipykernel)",
   "language": "python",
   "name": "python3"
  },
  "language_info": {
   "codemirror_mode": {
    "name": "ipython",
    "version": 3
   },
   "file_extension": ".py",
   "mimetype": "text/x-python",
   "name": "python",
   "nbconvert_exporter": "python",
   "pygments_lexer": "ipython3",
   "version": "3.11.1"
  }
 },
 "nbformat": 4,
 "nbformat_minor": 5
}
