{
 "cells": [
  {
   "cell_type": "code",
   "execution_count": 1,
   "id": "ea3bbfc9-5668-4101-870b-c4fe51674c5f",
   "metadata": {},
   "outputs": [
    {
     "name": "stdout",
     "output_type": "stream",
     "text": []
    }
   ],
   "source": [
    "import : dir co : up : ."
   ]
  },
  {
   "cell_type": "code",
   "execution_count": 2,
   "id": "35e8bbb3-fe19-4462-b686-297b409a03b5",
   "metadata": {},
   "outputs": [
    {
     "name": "stdout",
     "output_type": "stream",
     "text": [
      "◎ (:◎) (:◎ ◎) (:◎ ◎ ◎) (:◎ ◎ ◎ ◎)"
     ]
    }
   ],
   "source": [
    "S1?"
   ]
  },
  {
   "cell_type": "code",
   "execution_count": 3,
   "id": "acdb90a8-d863-46bd-af9a-e019acf2921b",
   "metadata": {},
   "outputs": [
    {
     "name": "stdout",
     "output_type": "stream",
     "text": [
      "0"
     ]
    }
   ],
   "source": [
    "count : theorem (commutative:get) : S1?"
   ]
  },
  {
   "cell_type": "code",
   "execution_count": 4,
   "id": "29467f87-ee4a-42cc-9764-e0b430becc5e",
   "metadata": {},
   "outputs": [
    {
     "name": "stdout",
     "output_type": "stream",
     "text": []
    }
   ],
   "source": [
    "Let Result1 : ap {put bin (get:B) : count : theorem (commutative:get:B) : A} (:a b) (:a a) : T1?"
   ]
  },
  {
   "cell_type": "code",
   "execution_count": 11,
   "id": "c09f8e87-3dfa-43a2-b527-6049b03f5899",
   "metadata": {},
   "outputs": [
    {
     "name": "stdout",
     "output_type": "stream",
     "text": [
      "         = 2\n",
      "       and 0\n",
      "        ap 2\n",
      "        aq 0\n",
      "        ar 0\n",
      "       arg 0\n",
      "        as (count:(if (not:(equal (a:(b:(...\n",
      "       bin 2\n",
      "      bool 0\n",
      "        by 2\n",
      "        co 0\n",
      " code_sort 0\n",
      "   collect 2\n",
      "     count 0\n",
      "    domain 0\n",
      "     equal 2\n",
      "     equiv 0\n",
      "     first 0\n",
      " float_div 2\n",
      " float_inv 0\n",
      " float_max 0\n",
      " float_min 0\n",
      "float_prod 0\n",
      "float_sort 0\n",
      " float_sum 0\n",
      "    floats 0\n",
      "       get 0\n",
      "       has 0\n",
      "     hasnt 2\n",
      "        if 2\n",
      "       iff 0\n",
      "     imply 0\n",
      "   int_div 2\n",
      "   int_inv 0\n",
      "   int_max 0\n",
      "   int_min 0\n",
      "  int_prod 0\n",
      "  int_sort 0\n",
      "   int_sum 0\n",
      "      ints 0\n",
      "        is 0\n",
      "      isnt 2\n",
      "       ker 0\n",
      "    kernel 0\n",
      "      last 2\n",
      "      left 0\n",
      "      nand 0\n",
      "       nat (count:(if (not:(equal (nat:a ...\n",
      "      nats 0\n",
      "       nif 0\n",
      "       nor 0\n",
      "       not 0\n",
      "       nth 0\n",
      "      nth1 0\n",
      "      null 0\n",
      "      once 0\n",
      "        or 0\n",
      "      pass 2\n",
      "      plus 2\n",
      "      post 2\n",
      "       pre 2\n",
      "      prod 2\n",
      "       put 2\n",
      "       rep 2\n",
      "       rev 2\n",
      "     right 2\n",
      "      skip 2\n",
      "      some 2\n",
      "      star 2\n",
      "       sum 0\n",
      "      tail 2\n",
      "     while (count:(ap {if (not:right:B):B...\n",
      "      xnor 0\n",
      "       xor 0"
     ]
    }
   ],
   "source": [
    "table : Result1?"
   ]
  },
  {
   "cell_type": "code",
   "execution_count": 14,
   "id": "6c881c3f-6e04-44c2-a13e-a5c01e575df4",
   "metadata": {},
   "outputs": [
    {
     "name": "stdout",
     "output_type": "stream",
     "text": []
    }
   ],
   "source": [
    "Let Result2 : ap {if ((right:B)=0):B} : Result1? "
   ]
  },
  {
   "cell_type": "code",
   "execution_count": 16,
   "id": "9669213c-bfc1-4ebd-b720-2004fbc03b25",
   "metadata": {},
   "outputs": [
    {
     "name": "stdout",
     "output_type": "stream",
     "text": [
      "74"
     ]
    }
   ],
   "source": [
    "count : Result1?"
   ]
  },
  {
   "cell_type": "code",
   "execution_count": 17,
   "id": "ee22887a-56f9-43ca-9f7a-961bd1ab0ddf",
   "metadata": {},
   "outputs": [
    {
     "name": "stdout",
     "output_type": "stream",
     "text": []
    }
   ],
   "source": [
    "Let Result2w : eval 10 : with : Result2?"
   ]
  },
  {
   "cell_type": "code",
   "execution_count": 18,
   "id": "61db8d54-7166-4cd2-9b10-7b7adf540a8d",
   "metadata": {},
   "outputs": [
    {
     "name": "stdout",
     "output_type": "stream",
     "text": [
      "1"
     ]
    }
   ],
   "source": [
    "count : Result2w?"
   ]
  },
  {
   "cell_type": "code",
   "execution_count": 21,
   "id": "93db42d4-3c18-483b-a151-ba20886d8ceb",
   "metadata": {},
   "outputs": [
    {
     "name": "stdout",
     "output_type": "stream",
     "text": [
      "and 0\n",
      " aq 0\n",
      " ar 0\n",
      "arg 0\n",
      "  2 (if (equal (count:(if (not:(eq..."
     ]
    }
   ],
   "source": [
    "table : first 6 : right : Result2w?"
   ]
  },
  {
   "cell_type": "code",
   "execution_count": 24,
   "id": "9eafca11-e12a-4b99-b9bf-3861845d843e",
   "metadata": {},
   "outputs": [
    {
     "name": "stdout",
     "output_type": "stream",
     "text": [
      "and 0\n",
      " aq 0\n",
      " ar 0\n",
      "arg 0\n",
      " 16 (if (equal (count:(if (not:(eq..."
     ]
    }
   ],
   "source": [
    "table : first 20 : right :Result2w?"
   ]
  },
  {
   "cell_type": "code",
   "execution_count": 29,
   "id": "e94de690-d12a-45b9-ab82-32fc4f67a91f",
   "metadata": {},
   "outputs": [
    {
     "name": "stdout",
     "output_type": "stream",
     "text": [
      "c ab b. cccc. c c c c"
     ]
    }
   ],
   "source": [
    "isnt a b : a b a c a ab b.  cccc. c c c c a"
   ]
  },
  {
   "cell_type": "code",
   "execution_count": null,
   "id": "8eabee4d-febc-472d-a0d8-419bef27b9fa",
   "metadata": {},
   "outputs": [],
   "source": []
  }
 ],
 "metadata": {
  "kernelspec": {
   "display_name": "coda",
   "language": "",
   "name": "coda"
  },
  "language_info": {
   "file_extension": ".co",
   "mimetype": "text/plain",
   "name": "Any text"
  }
 },
 "nbformat": 4,
 "nbformat_minor": 5
}
