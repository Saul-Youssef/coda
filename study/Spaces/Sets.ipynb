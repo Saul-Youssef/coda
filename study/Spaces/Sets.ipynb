{
 "cells": [
  {
   "cell_type": "markdown",
   "id": "9d99b95b-c79e-4f2c-8bca-04c64fcd2765",
   "metadata": {},
   "source": [
    "## Sets as spaces\n",
    "\n",
    "Lots of mathematics is defined as sets with additional structure.  A group, for instance, is a set with a binary operator. \n",
    "Here we explore making sets in various ways in coda. \n",
    "\n"
   ]
  },
  {
   "cell_type": "markdown",
   "id": "531d8e09-5648-4db9-89b4-95d716b23914",
   "metadata": {},
   "source": [
    "Let's consider the set S = {1,2,3} and look at related structures in coda.  \n",
    "\n",
    "\"Consider the set {1,2,3}\" is typical of a mathematical statement in that it is not quite precise.  Does it mean the character \"2\" or the number 2? Are 1,2,3 numbers in the sense of a ring? Abelian group? Ordered set?  \n",
    "\n",
    "Let's explore, keeping these issues in mind.  "
   ]
  },
  {
   "cell_type": "code",
   "execution_count": 1,
   "id": "66659672-032f-48b9-b682-82da1d0a1590",
   "metadata": {},
   "outputs": [
    {
     "name": "stdout",
     "output_type": "stream",
     "text": [
      "1 2 3"
     ]
    }
   ],
   "source": [
    "#  A first attempt is simply the finite sequence \n",
    "1 2 3"
   ]
  },
  {
   "cell_type": "code",
   "execution_count": 2,
   "id": "2ab46e09-1515-469f-a344-6e410b26cde8",
   "metadata": {},
   "outputs": [
    {
     "name": "stdout",
     "output_type": "stream",
     "text": []
    }
   ],
   "source": [
    "#  Let's put it in a \"variable S1\" for convenience.\n",
    "let S1 : 1 2 3 "
   ]
  },
  {
   "cell_type": "code",
   "execution_count": 3,
   "id": "43e50d32-2598-4402-8a92-a5f99f1bd3ec",
   "metadata": {},
   "outputs": [
    {
     "name": "stdout",
     "output_type": "stream",
     "text": [
      "3"
     ]
    }
   ],
   "source": [
    "#  S1? contains three codas\n",
    "count : S1?"
   ]
  },
  {
   "cell_type": "code",
   "execution_count": 4,
   "id": "5b6c4f1d-7a79-41ef-9f8e-c9231b6220ad",
   "metadata": {},
   "outputs": [
    {
     "name": "stdout",
     "output_type": "stream",
     "text": [
      "𝝞 𝝞 𝝞"
     ]
    }
   ],
   "source": [
    "#  Each has a 1 bit for domain, meaning that each is a finite sequence of characters.\n",
    "#  You can take the bits and bytes apart if desired as demonstrated in the bits tutorial.\n",
    "domain : S1? "
   ]
  },
  {
   "cell_type": "code",
   "execution_count": 5,
   "id": "6a9f8d66-5981-437f-b60b-8fcb1cf845d2",
   "metadata": {},
   "outputs": [
    {
     "name": "stdout",
     "output_type": "stream",
     "text": [
      "2 1 3 3 3"
     ]
    }
   ],
   "source": [
    "#\n",
    "#  \"in\" can be used to test if something is in S1? analogous to set membership.\n",
    "#\n",
    "in S1? : 2 xxx 45 1 3 3 3 "
   ]
  },
  {
   "cell_type": "code",
   "execution_count": 6,
   "id": "fa30be67-7c46-4c1f-883d-1f97cb9af43d",
   "metadata": {},
   "outputs": [
    {
     "name": "stdout",
     "output_type": "stream",
     "text": [
      "2 1 3"
     ]
    }
   ],
   "source": [
    "#\n",
    "#   You can use \"once\" to remove duplicates \n",
    "#\n",
    "once : in S1? : 2 xxx 45 1 3 3 3 "
   ]
  },
  {
   "cell_type": "code",
   "execution_count": 7,
   "id": "8667e267-e7f6-4384-adc5-220f5d0220bb",
   "metadata": {},
   "outputs": [
    {
     "name": "stdout",
     "output_type": "stream",
     "text": []
    }
   ],
   "source": [
    "#\n",
    "#   Of course S1? = 1 2 3 a finite sequence, not a set, so S1? = 1 2 3 is equal to the empty data (\"true\").\n",
    "#\n",
    "S1? = 1 2 3"
   ]
  },
  {
   "cell_type": "code",
   "execution_count": 8,
   "id": "af827c01-1da7-452b-89a2-15b3d976583b",
   "metadata": {},
   "outputs": [
    {
     "name": "stdout",
     "output_type": "stream",
     "text": [
      "◎"
     ]
    }
   ],
   "source": [
    "#...but S1? = 2 1 3 is not true because it's a different sequence \n",
    "bool : (S1? = 2 1 3)"
   ]
  },
  {
   "cell_type": "code",
   "execution_count": 9,
   "id": "ad8adc5b-a84e-43ed-9a73-842c7f2dfb56",
   "metadata": {},
   "outputs": [
    {
     "name": "stdout",
     "output_type": "stream",
     "text": []
    }
   ],
   "source": [
    "#\n",
    "#    Let's create a partially overlapping second \"set\".\n",
    "#\n",
    "let S2 : 3 3 4 5"
   ]
  },
  {
   "cell_type": "code",
   "execution_count": 10,
   "id": "b7504c2f-1515-4c07-8948-da7b5c4d2b30",
   "metadata": {},
   "outputs": [
    {
     "name": "stdout",
     "output_type": "stream",
     "text": [
      "1 2 3 3 3 4 5"
     ]
    }
   ],
   "source": [
    "#\n",
    "#   Listing both S1? and S2? specifies S1? added to S2? as finite sequences.  Obviously not a set union.\n",
    "#\n",
    "S1? S2?"
   ]
  },
  {
   "cell_type": "code",
   "execution_count": 11,
   "id": "44dcc08b-2b7d-4090-9996-752deb8c6b4e",
   "metadata": {},
   "outputs": [
    {
     "name": "stdout",
     "output_type": "stream",
     "text": [
      "1 2 3 4 5"
     ]
    }
   ],
   "source": [
    "#\n",
    "#   One can make something similar to set union with \"once\"\n",
    "#\n",
    "once : S1? S2?"
   ]
  },
  {
   "cell_type": "code",
   "execution_count": 12,
   "id": "e45bce8a-25d8-46c4-aa70-54f9c7c2828e",
   "metadata": {},
   "outputs": [
    {
     "name": "stdout",
     "output_type": "stream",
     "text": []
    }
   ],
   "source": [
    "def intersection : {once : apif {(not:in S1?:B) (not:in S2?:B)} : B}  "
   ]
  },
  {
   "cell_type": "code",
   "execution_count": 13,
   "id": "f316d914-9c7f-498b-8420-02821e2e5e46",
   "metadata": {},
   "outputs": [
    {
     "name": "stdout",
     "output_type": "stream",
     "text": [
      "3"
     ]
    }
   ],
   "source": [
    "intersection : S1? S2?"
   ]
  },
  {
   "cell_type": "markdown",
   "id": "e75056e6-6a8d-478e-9a47-7cef8c67dd69",
   "metadata": {},
   "source": [
    "## Spaces as Sets \n",
    "\n",
    "The natural and more suitable structure for set roles is the coda concept of a *space*.  \n",
    "\n",
    "- Data A is a *space* if A : X Y = A : (A:X) Y = A : X (A:Y) for all data X and all data Y.\n",
    "\n",
    "Spaces are already sets *with* additional structure.  Every space A is set in the sense that it represents the collection of data A:X for any data X.  If we define a binary product \n",
    "\n",
    "- (A:X) \\* (A:Y) &rightarrow; A:X Y \n",
    "\n",
    "This is automatically a monoid because \\* is associative and because A always has a neutral element (A:) where \n",
    "\n",
    "- (A:) \\* (A:X) = (A:X) * (A:) = (A:X) \n",
    "\n",
    "for any space A and for any data X.  \n",
    "\n"
   ]
  },
  {
   "cell_type": "code",
   "execution_count": 14,
   "id": "45155ea3-7b81-45af-a6d8-9d18567ccc34",
   "metadata": {},
   "outputs": [
    {
     "name": "stdout",
     "output_type": "stream",
     "text": []
    }
   ],
   "source": [
    "#\n",
    "# Here's an example space \n",
    "#\n",
    "def U : first * in 1 2 3 "
   ]
  },
  {
   "cell_type": "code",
   "execution_count": 15,
   "id": "1ef0769c-3a1d-4684-815c-be85a0f12f46",
   "metadata": {},
   "outputs": [
    {
     "name": "stdout",
     "output_type": "stream",
     "text": [
      "1"
     ]
    }
   ],
   "source": [
    "U : a a g ag a 1 1 2 4 "
   ]
  },
  {
   "cell_type": "code",
   "execution_count": 16,
   "id": "ade92bcb-2e19-4a24-97cb-86c739043a7a",
   "metadata": {},
   "outputs": [
    {
     "name": "stdout",
     "output_type": "stream",
     "text": [
      "1"
     ]
    }
   ],
   "source": [
    "U : U : a a g ag a 1 1 2 4 "
   ]
  },
  {
   "cell_type": "code",
   "execution_count": 17,
   "id": "323b4336-a4e2-4c91-b65c-5e4a39daaffc",
   "metadata": {},
   "outputs": [
    {
     "name": "stdout",
     "output_type": "stream",
     "text": [
      "1"
     ]
    }
   ],
   "source": [
    "U : (U:1 2) 3 "
   ]
  },
  {
   "cell_type": "code",
   "execution_count": 22,
   "id": "f91b49d7-1439-4dd4-8221-89ec0414a20c",
   "metadata": {},
   "outputs": [
    {
     "name": "stdout",
     "output_type": "stream",
     "text": [
      "2"
     ]
    }
   ],
   "source": [
    "U: (U:2) (U:1)"
   ]
  },
  {
   "cell_type": "markdown",
   "id": "c0f2b308-764b-49f5-a021-9f614f42b8b4",
   "metadata": {},
   "source": [
    "U is a space, and is, thus, a monoid.  As a set, U contains the four elements (), 1, 2, 3, meaning that U:X is one of these four for any data X.  Simple variations on U also produce other useful spaces building on the theme of 1, 2, 3."
   ]
  },
  {
   "cell_type": "code",
   "execution_count": 19,
   "id": "b7d0f5ce-cb05-4444-8299-24faf06c744f",
   "metadata": {},
   "outputs": [
    {
     "name": "stdout",
     "output_type": "stream",
     "text": []
    }
   ],
   "source": [
    "def V : in 1 2 3 "
   ]
  },
  {
   "cell_type": "code",
   "execution_count": 20,
   "id": "8e6ac11a-de89-4c76-9e25-a1dffe9aa2d4",
   "metadata": {},
   "outputs": [
    {
     "name": "stdout",
     "output_type": "stream",
     "text": [
      "1 1 2 1 1 3"
     ]
    }
   ],
   "source": [
    "V : 1 1 2 1 4 1 3 33"
   ]
  },
  {
   "cell_type": "code",
   "execution_count": 23,
   "id": "0855dd8c-1fcb-4435-912e-5bb66ee445fd",
   "metadata": {},
   "outputs": [
    {
     "name": "stdout",
     "output_type": "stream",
     "text": [
      "1 3 2"
     ]
    }
   ],
   "source": [
    "once * in 1 2 3 : 1 1 1 3 4 4 2 1. 2 2 2 3 2 22"
   ]
  },
  {
   "cell_type": "code",
   "execution_count": 24,
   "id": "f73fd3a4-ca67-4da4-bb84-84ebb8a943e3",
   "metadata": {},
   "outputs": [
    {
     "name": "stdout",
     "output_type": "stream",
     "text": [
      "a w z"
     ]
    }
   ],
   "source": [
    "code_sort : z a w "
   ]
  },
  {
   "cell_type": "code",
   "execution_count": 25,
   "id": "de80091b-db31-46af-867a-5f3c1a7866bf",
   "metadata": {},
   "outputs": [
    {
     "name": "stdout",
     "output_type": "stream",
     "text": []
    }
   ],
   "source": [
    "def W : code_sort * once * in 1 2 3 "
   ]
  },
  {
   "cell_type": "code",
   "execution_count": 26,
   "id": "33dae1ed-110d-49ab-869d-3df4710e7087",
   "metadata": {},
   "outputs": [
    {
     "name": "stdout",
     "output_type": "stream",
     "text": [
      "1 2 3"
     ]
    }
   ],
   "source": [
    "W : 1 1 2 3 4 "
   ]
  },
  {
   "cell_type": "code",
   "execution_count": 29,
   "id": "10402b70-7903-439a-a2b8-efa892677395",
   "metadata": {},
   "outputs": [
    {
     "name": "stdout",
     "output_type": "stream",
     "text": [
      "1 2"
     ]
    }
   ],
   "source": [
    "W : (W : 1 1 1 1 1) (W:2 2 2)"
   ]
  },
  {
   "cell_type": "markdown",
   "id": "a0bf02f5-ce4a-4f25-95f2-eab7a2587bd1",
   "metadata": {},
   "source": [
    "\n",
    "\n",
    "|    Space            |    Description                    |   Operation   |   Neutral data   |\n",
    "|---------------------|-----------------------------------|---------------|------------------|\n",
    "| in 1 2 3            |  finite sequences from 1,2,3      | Concatenation |     ()           |\n",
    "| first * in 1 2 3    |  finite sequences with at most one| Concat+first  |     ()           |\n",
    "| once * in 1 2 3     |  (), 1, 2 or 3                    |               |                  |\n",
    "| code_sort * once * in 1 2 3 | subsets of 1,2,3 | set union | |"
   ]
  },
  {
   "cell_type": "code",
   "execution_count": 33,
   "id": "1e58d47f-0e56-49fa-833a-c858afe267dc",
   "metadata": {},
   "outputs": [
    {
     "name": "stdout",
     "output_type": "stream",
     "text": []
    }
   ],
   "source": [
    "def Z : once * in 1 2 3"
   ]
  },
  {
   "cell_type": "code",
   "execution_count": 35,
   "id": "c497935f-6123-4bbb-b8f8-055a01db6941",
   "metadata": {},
   "outputs": [
    {
     "name": "stdout",
     "output_type": "stream",
     "text": []
    }
   ],
   "source": [
    "def S1: in 1 2 3 \n",
    "def S2 : first * in 1 2 3 \n",
    "def S3 : once * in 1 2 3 \n",
    "def S4 : code_sort * once * in 1 2 3 "
   ]
  },
  {
   "cell_type": "code",
   "execution_count": 36,
   "id": "e85aed97-c627-42e4-9745-720c8e0be9f5",
   "metadata": {},
   "outputs": [
    {
     "name": "stdout",
     "output_type": "stream",
     "text": [
      "1 2 2 3 3"
     ]
    }
   ],
   "source": [
    "S1 : 1 2 2 3 3 "
   ]
  },
  {
   "cell_type": "code",
   "execution_count": 37,
   "id": "cc4df74d-f283-47e9-a116-174cfefc5377",
   "metadata": {},
   "outputs": [
    {
     "name": "stdout",
     "output_type": "stream",
     "text": [
      "1"
     ]
    }
   ],
   "source": [
    "S2 : 1 2 2 3 3 "
   ]
  },
  {
   "cell_type": "code",
   "execution_count": 38,
   "id": "7baf5fd2-f621-4753-b6d4-d646d72a28cd",
   "metadata": {},
   "outputs": [
    {
     "name": "stdout",
     "output_type": "stream",
     "text": [
      "1 2 3"
     ]
    }
   ],
   "source": [
    "S3 : 1 2 2 3 3 "
   ]
  },
  {
   "cell_type": "code",
   "execution_count": 41,
   "id": "7ebeb0e3-4869-4b5e-9505-9b9d154c9042",
   "metadata": {},
   "outputs": [
    {
     "name": "stdout",
     "output_type": "stream",
     "text": [
      "1 2 3"
     ]
    }
   ],
   "source": [
    "S4 : (S4 : 1 2 2) (S4:3 3 4)"
   ]
  },
  {
   "cell_type": "code",
   "execution_count": null,
   "id": "5c818145-8f54-4400-804d-92232a16d128",
   "metadata": {},
   "outputs": [],
   "source": []
  }
 ],
 "metadata": {
  "kernelspec": {
   "display_name": "coda",
   "language": "",
   "name": "coda"
  },
  "language_info": {
   "file_extension": ".co",
   "mimetype": "text/plain",
   "name": "Any text"
  }
 },
 "nbformat": 4,
 "nbformat_minor": 5
}
