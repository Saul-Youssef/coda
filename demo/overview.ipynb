{
 "cells": [
  {
   "cell_type": "markdown",
   "id": "c16b6288-ff78-4e73-9ffb-a3711a5291ab",
   "metadata": {},
   "source": [
    "# Overview\n",
    "\n",
    "   Coda is an axiomatic foundational framework attempting to capture mathematics and computing at once.  This \n",
    "is the natural endpoint of a line of thinking that I have pursued over a number of years and over several \n",
    "software implementations (particularly \"egg\" and \"coda-classic\").  This notebook is a tutorial introducing \n",
    "the basic concepts including an implementation of Coda in python.  \n",
    "\n",
    "## Foundation \n",
    "\n",
    "Any system of reasoning must necessarily start with undefined terms which are understood before a  \n",
    "first definition. In Coda, we only assume that the concept of a **finite sequence** is understood \n",
    "without explanation.  We assume that we can speak of empty sequences, concatenation of sequences, \n",
    "pairs, and functions (thought of as a collection of pairs) without further explanation. \n",
    "\n",
    "Given that finite sequences are understood, the foundational concepts of Coda are,\n",
    "\n",
    "* A **data** is a finite sequence of **codas**;\n",
    "* A **coda** is a pair of **data**.\n",
    "\n",
    "Thus, an empty sequence `()` is a valid data, a pair of empty sequences (pairs are denoted with a colon: `(:)`) is a coda, `(:) (:) (:(:))` is valid data, etc.  Using this kind of \"data made of nothing\", we define 0 and 1 bits, bytes, characters and data in the usual sense. \n",
    "\n",
    "Given data and coda as defined,\n",
    "\n",
    "* A **definition** is a partial function from coda to data; \n",
    "* A **context** is a finite collection of definitions with disjoint domains. \n",
    "\n",
    "Given a partial function f from coda to data, we can extend f to a function from data to data by defining \n",
    "\n",
    "* f(c<sub>1</sub> c<sub>2</sub>...c<sub>n</sub>) = f(c<sub>1</sub>)+f(c<sub>2</sub>)+...+f(c<sub>n</sub>) \n",
    "\n",
    "where c<sub>1</sub>...c<sub>n</sub> are codas, + is concatenation of data as sequences and where f(c) is taken to be the identity if c is not in the domain of f.  Given a context f<sub>1</sub>,f<sub>2</sub>,...,f<sub>n</sub>, we can define a corresponding equivalence relation \n",
    "on data by letting \n",
    "\n",
    "* A + B = f(A) + B = A + f(B)\n",
    "\n",
    "where A and B are data and where f is any of f<sub>1</sub>,...,f<sub>n</sub>, extended to a function from data to data as indicated. \n",
    "\n",
    "Finally, Coda has only one axiom which defines when it is valid to add a partial function to a context.\n",
    ">\n",
    ">**Axiom of Definition**: Suppose f<sub>1</sub>,...,f<sub>n</sub> is a context and f is a partial function \n",
    "from coda to data.  If the domain of f is disjoint with the domain of each f<sub>1</sub>,...,f<sub>n</sub>, then \n",
    "f<sub>1</sub>,...,f<sub>n</sub>,f is a valid context.\n",
    ">\n",
    "\n",
    "In other words, the Axiom of Definition defines what constitutes a valid definition.  Note that since the partial functions of a context are disjoint, each coda can be in the domain of at most one definition.  Codas where the definition is the identity operation are stable in that sense.  They are called **atoms**. Data containing atoms in it's sequence is called **atomic** data. Codas may also have no corresponding definition.  These are **undecided** and, \n",
    "as we will see, they are analogous to variables in standard mathematics. \n",
    "\n",
    "## Language \n",
    "\n",
    "  Recall that predicate logic in standard foundations needs to have syntax rules to exclude meaningless expressions like \n",
    "\"&forall; x x &forall; &forall; &exist;\" and needs axioms to define valid operations with the symbols.  \n",
    "Coda has a language too, but it is merely one more definition in a context just like any other.  In particular, \n",
    "it is a partial function acting on codas of the form ({source code} A : B) where A and B are data.  This means \n",
    "that the language syntax and it's meaning are already defined without the need for axioms explaining valid \n",
    "operations.  Valid operations are defined by the equality above, whether the data has language expressions in it \n",
    "or not.  This is a rather large simplification.  In addition, the language is quite tiny.  Essentially, it is \n",
    "blank space to indicate data concatenation, colon to indicate forming a coda from two data and parenthesis to group\n",
    "operations as usual.  There is also no such thing as a syntax error.  The Coda language has the amusing property that every bit string is valid source code. \n",
    "\n",
    "## Data, Logic, Godel phenomena\n",
    "\n",
    "   As we will see in other tutorials, familiar concepts such as functions, variables, categories, morphisms, theorems \n",
    "and proofs naturally appear as data with special properties.  For instance, data C is a **category** if C : (X Y) = C : (C:X) (C:Y) for all data X, Y, and data M is a **morphism in category C** if M commutes with C in the sense that C:M:X = M:C:X for all X.  Since the foundational concept of Coda is a sequence, it is typically easier to define familiar structures via equivalent sequential versions.  So, rather than thinking of an abelian group G as a set with a binary operator, one has data (G:X) where sum G:X Y = sum G:Y X.  Similarly, a partially ordered set P is more conveniently defined as data (P:X) with a sort operation, rather than as a set with a partial order relation.  \n",
    "\n",
    "   From our point of view, it is helpful to think of classical Logic as just the coarsest useful classification \n",
    "of classical propositions, rather than as abstract rules for correct reasoning.  To see why, notice that everything \n",
    "in Coda is data.  This means that mathematical questions are, roughly speaking, always of the form \"Is data A equal to data B.\"  But since equality is part of the Coda language (see below), the *answers* to all questions are also data.  Since Coda is defined without a logical foundation, everything that can be concluded about the question \"Is data A equal to data B\" must be contained in the data A=B.  Indeed, in Coda, the coarsest classification is \n",
    "\n",
    "* Empty data (data equal to the empty sequence).\n",
    "* Atomic data (as defined above).\n",
    "* Undecided data (data which is neither empty nor atomic).\n",
    "\n",
    "This gives a multi-valued logic where empty/atomic/undecided data analogous to \"true\"/\"false\"/\"undecided\" respectively. \n",
    "Undecided data may become true or false with new definitions, but true data is \"always true\" false data is \"always false\" independent whatever definitions are added to context.  If you think of this as \"Zen Logic,\" it will remind you that \"truth is emptiness.\"  If you find multi-valued logic to be disorienting, it may help to notice a couple of things.  First, \"undecided\" is not a single value, it is any data which is neither atomic nor empty.  If A=B is undecided, the data A=B is \"the obstruction\" preventing A and B from being equal and can be expected to contain valuable information. \n",
    "In that sense, Zen logic can be much more helpful than classical logic in the process of mathematical discovery.  Also note that we will show that some undecided data is also **undecidable** in the sense that it remains undecided no matter what definitions are added to the context.  This is the Godel phenomenon, which we will find to be easy to produce and understand and this will clarify the meaning of Godel's two theorems from 1931.  \n",
    "\n",
    "## Finite sequences are not a limitation\n",
    "\n",
    "Coda contains only finite sequences, so, for example, Coda has a definition (nat:n) -> n (nat:n+1) where n is an integer.  This means that (nat:0) = 0 1 2 3 4 5 (nat:6).  In other words, (nat:0) fully represents the natural numbers even \n",
    "though all sequences in Coda are always finite.  \n",
    "\n",
    "## Proof and Computation \n",
    "\n",
    "In Coda, the only valid operations in a given context are replacing one data with another data which are equal in the equivalence relation above.  This means, for instance, that a sequence A=D<sub>1</sub>=D<sub>2</sub>=...=D<sub>n</sub>=B, constitutes a proof that A and B are equal.  Similarly, a computation is just a sequence A=D<sub>1</sub>=D<sub>2</sub>=...=D<sub>n</sub>=B where A is given and B is \"flattened\" down to bytes which can be displayed at a terminal.  It is well know that programs and proofs are analogous (see \"The Curry-Howard Correspondence\").  In Coda, the situation is simpler:  Every computation is a proof and every proof is a computation. \n",
    "\n",
    "## Types \n",
    "\n",
    "In recent years, there has been lots of interest in foundations of mathematics based on type theory where **type** enters as an undefined term at the beginning (see dependent type theory, homotopy type theory, Coq, Lean and others).  In Coda, on the other hand, data T is a **type** if T is idempotent (T:T:X = T:X) and distributive (T:X Y = (T:X) (T:Y)).  Intuitively if T is a type, T:X is a property of X. \n",
    "\n",
    "## Is this acceptable as Mathematics?\n",
    "\n",
    "Since Coda is meant to be acceptable as mathematics, it is important that the software be tiny enough for a human to fully comprehend.  I would claim that this is true both for the Coda core system (the implementation of data, coda, definitions is approximately 120 lines of python code) and for the Coda language (the compiler and parser are approximately 100 lines of python code).   \n"
   ]
  },
  {
   "cell_type": "code",
   "execution_count": 1,
   "id": "18c3a276-feb9-4205-9615-c8861cc22f56",
   "metadata": {},
   "outputs": [
    {
     "name": "stdout",
     "output_type": "stream",
     "text": [
      "a b c d e f g"
     ]
    }
   ],
   "source": [
    "#\n",
    "#   Coda uses spaces to denote concatenation and parenthesis to group operations as usual.\n",
    "#   Comment lines must start with # to be ignored.\n",
    "#\n",
    "a b (c d) e f g"
   ]
  },
  {
   "cell_type": "code",
   "execution_count": null,
   "id": "45bfe8e0-a435-4e6a-bdda-a7facba47a33",
   "metadata": {},
   "outputs": [],
   "source": []
  },
  {
   "cell_type": "code",
   "execution_count": 2,
   "id": "089327b3-7318-4b62-9214-0ca0f1b77595",
   "metadata": {},
   "outputs": [
    {
     "name": "stdout",
     "output_type": "stream",
     "text": [
      "3 2 1"
     ]
    }
   ],
   "source": [
    "#\n",
    "#   There are basically two operations: concatenation and colon. here, \n",
    "#   for instance, we reverse the order of 1 2 3 using rev.  \n",
    "#\n",
    "rev : 1 2 3 "
   ]
  },
  {
   "cell_type": "code",
   "execution_count": 3,
   "id": "96201698-8b62-4dba-83d2-d621e52b4961",
   "metadata": {},
   "outputs": [
    {
     "name": "stdout",
     "output_type": "stream",
     "text": [
      "\u001b[;1mcode:\u001b[0m\n",
      "    \u001b[34;7mrev\u001b[0m\n",
      "\u001b[;1mmodule:\u001b[0m\n",
      "    Sequence\n",
      "\u001b[;1msummary:\u001b[0m\n",
      "    Reverse the order of it's input sequence.\n",
      "\u001b[;1mdescription:\u001b[0m\n",
      "    rev : () -> ()\n",
      "    rev : b  -> b            ...if b is an atom\n",
      "    rev : b B -> (rev:B) b   ...if b is an atom\n",
      "\u001b[;1mpath:\u001b[0m\n",
      "    /Users/youssef/coda/py/Sequence.py\n",
      "\u001b[;1mdemos:\u001b[0m\n",
      "    1. \u001b[35;4mrev : a b c\u001b[0m\n",
      "    2. \u001b[35;4mrev :\u001b[0m\n",
      "    3. \u001b[35;4mrev : nat : 0\u001b[0m\n",
      "    4. \u001b[35;4mrev : rev : nat : 0\u001b[0m\n"
     ]
    }
   ],
   "source": [
    "#\n",
    "#...This works because the standard context contains a mapping from \n",
    "#   (rev : <something> ) to <something in reverse order>.\n",
    "#\n",
    "help : rev "
   ]
  },
  {
   "cell_type": "code",
   "execution_count": 4,
   "id": "430be65b-4fdc-4fb9-8592-787cc8175297",
   "metadata": {},
   "outputs": [
    {
     "name": "stdout",
     "output_type": "stream",
     "text": [
      "4 3 (rev:(foo:bar2)) (rev:(foo:bar1)) 2 1"
     ]
    }
   ],
   "source": [
    "#\n",
    "#   A coda like (foo:bar) has no corresponding definition. It may get defined \n",
    "#   at a future time, though.  Note how Coda handles this...\n",
    "#\n",
    "rev : 1 2 (foo:bar1) (foo:bar2) 3 4"
   ]
  },
  {
   "cell_type": "code",
   "execution_count": 5,
   "id": "cb108c71-4d7a-48cf-be8a-873863ca49cb",
   "metadata": {},
   "outputs": [
    {
     "name": "stdout",
     "output_type": "stream",
     "text": [
      "g f"
     ]
    }
   ],
   "source": [
    "#\n",
    "#   Colons group right first if not otherwise specified as in... \n",
    "#\n",
    "first 2 : rev : a b c d e f g"
   ]
  },
  {
   "cell_type": "code",
   "execution_count": 6,
   "id": "42cea225-1a2e-4310-a85f-62eaa91f7007",
   "metadata": {},
   "outputs": [
    {
     "name": "stdout",
     "output_type": "stream",
     "text": [
      "a b"
     ]
    }
   ],
   "source": [
    "#\n",
    "#   Text in curly brackets is interepreted as Coda language expressions.\n",
    "#   The meaning of this is defined by a definition which includes any \n",
    "#   coda ({...}:...) in it's domain. \n",
    "#\n",
    "{first 2 : B} : a b c d e "
   ]
  },
  {
   "cell_type": "code",
   "execution_count": 7,
   "id": "335fb39c-2a7b-4d54-b8a0-2a6fdccc3754",
   "metadata": {},
   "outputs": [
    {
     "name": "stdout",
     "output_type": "stream",
     "text": [
      "a b"
     ]
    }
   ],
   "source": [
    "#\n",
    "#   The language has special symbols \"A\" and \"B\" to refer to data outside of the curly \n",
    "#   curly brackets.  You can think of \"B\" as \"input\" data and \"A\" as \"argument\" data.  \n",
    "#   for instance...\n",
    "#\n",
    "{first A : B} 2 : a b c d e "
   ]
  },
  {
   "cell_type": "code",
   "execution_count": 8,
   "id": "a0edfe1f-6be5-4412-991a-20bdbfa45b1d",
   "metadata": {},
   "outputs": [
    {
     "name": "stdout",
     "output_type": "stream",
     "text": []
    }
   ],
   "source": [
    "#\n",
    "#   You can create your own definitions\n",
    "#\n",
    "def first2 : {first 2 : B} "
   ]
  },
  {
   "cell_type": "code",
   "execution_count": 9,
   "id": "ef66b751-7742-4e83-8164-4f586aa19ba8",
   "metadata": {},
   "outputs": [
    {
     "name": "stdout",
     "output_type": "stream",
     "text": [
      "a b"
     ]
    }
   ],
   "source": [
    "first2 : a b c d e"
   ]
  },
  {
   "cell_type": "code",
   "execution_count": 10,
   "id": "86e0fc87-b297-4a58-bf9d-3d544de8ae21",
   "metadata": {
    "tags": []
   },
   "outputs": [
    {
     "name": "stdout",
     "output_type": "stream",
     "text": [
      "\u001b[34;1madis..........\u001b[0mApply.....2..\u001b[35;4madis A : B applies each a in A to each b in B.\u001b[0m\n",
      "\u001b[34;1map............\u001b[0mApply.....3..\u001b[35;4mApply A to each b in B.\u001b[0m\n",
      "\u001b[34;1mapall.........\u001b[0mApply.....3..\u001b[35;4mapall applies each argument to the entire input.\u001b[0m\n",
      "\u001b[34;1mapif..........\u001b[0mApply.....3..\u001b[35;4mapif A : B gets the elements b of B with A:b true.\u001b[0m\n",
      "\u001b[34;1mapp...........\u001b[0mApply.....3..\u001b[35;4mSequential version of binary operator\u001b[0m\n",
      "\u001b[34;1mdis...........\u001b[0mApply.....2..\u001b[35;4mDistribute the first argument over the rest and apply each pair to B.\u001b[0m\n",
      "\u001b[34;1mbin...........\u001b[0mBasic.....0..\u001b[35;4mCommon basic operations\u001b[0m\n",
      "\u001b[34;1mget...........\u001b[0mBasic.....1..\u001b[35;4mselect  A : ... gets data of the form (A:<something>)\u001b[0m\n",
      "\u001b[34;1mhas...........\u001b[0mBasic.....1..\u001b[35;4mselect  A : ... gets data of the form (A:<something>)\u001b[0m\n",
      "\u001b[34;1mhasnt.........\u001b[0mBasic.....1..\u001b[35;4mselect  A : ... gets data of the form (A:<something>)\u001b[0m\n",
      "\u001b[34;1mif............\u001b[0mBasic.....2..\u001b[35;4mif A : B -> () if A is false\u001b[0m\n",
      "\u001b[34;1mis............\u001b[0mBasic.....1..\u001b[35;4mselect  A : ... gets data of the form (A:<something>)\u001b[0m\n",
      "\u001b[34;1misnt..........\u001b[0mBasic.....1..\u001b[35;4mselect  A : ... gets data of the form (A:<something>)\u001b[0m\n",
      "\u001b[34;1mnull..........\u001b[0mBasic.....1..\u001b[35;4mpass : B -> B and null : B -> ()\u001b[0m\n",
      "\u001b[34;1mpass..........\u001b[0mBasic.....1..\u001b[35;4mpass : B -> B and null : B -> ()\u001b[0m\n",
      "\u001b[34;1mput...........\u001b[0mBasic.....1..\u001b[35;4mput A : B creates A:B, it \"puts B into A\".\u001b[0m\n",
      "\u001b[34;1mendswith......\u001b[0mCode......2..\u001b[35;4mSelects codes that start/end with argument specified pre or post code\u001b[0m\n",
      "\u001b[34;1mpure..........\u001b[0mCode......2..\u001b[35;4mreturn da(str_atom_data(BL,str(A[0]))) + data((domain+A)|BR)\u001b[0m\n",
      "\u001b[34;1mstartswith....\u001b[0mCode......2..\u001b[35;4mSelects codes that start/end with argument specified pre or post code\u001b[0m\n",
      "\u001b[34;1municode.......\u001b[0mCode......2..\u001b[35;4mUnicode[BL[0]] = txt\u001b[0m\n",
      "\u001b[34;1mwrap..........\u001b[0mCode......2..\u001b[35;4mWrap code with a one character prefix and postfix.\u001b[0m\n",
      "\u001b[34;1mcoda..........\u001b[0mCompile...2..\u001b[35;4mcoda compiles input code using the language.\u001b[0m\n",
      "\u001b[34;1mconst.........\u001b[0mDefine....1..\u001b[35;4mNamed constant storage\u001b[0m\n",
      "\u001b[34;1mdef...........\u001b[0mDefine....1..\u001b[35;4mCreate a definition.\u001b[0m\n",
      "\u001b[34;1mlet...........\u001b[0mDefine....1..\u001b[35;4mAssign values to \"variables\"\u001b[0m\n",
      "\u001b[34;1mdefs..........\u001b[0mHelp......1..\u001b[35;4mdom = Code.pretty(domain)\u001b[0m\n",
      "\u001b[34;1mdemo..........\u001b[0mHelp......2..\u001b[35;4mreturn data(colon(data(b'{'+demcode.encode()+b'}'),data()))\u001b[0m\n",
      "\u001b[34;1mhelp..........\u001b[0mHelp......1..\u001b[35;4mH = Help(Code.coda2str(I[0]))\u001b[0m\n",
      "\u001b[34;1msource........\u001b[0mHelp......2..\u001b[35;4mI,R = B.split()\u001b[0m\n",
      "\u001b[34;1mdir...........\u001b[0mIO........2..\u001b[35;4mdir selects paths from it's input.  The argument\u001b[0m\n",
      "\u001b[34;1mreadpath......\u001b[0mIO........2..\u001b[35;4mBasic local read of all the bytes from a local files\u001b[0m\n",
      "\u001b[34;1mhome..........\u001b[0mImport....1..\u001b[35;4mThe home directory of the currently running software\u001b[0m\n",
      "\u001b[34;1mhomecontext...\u001b[0mImport....1..\u001b[35;4mreturn da(src)\u001b[0m\n",
      "\u001b[34;1mstart.........\u001b[0mImport....1..\u001b[35;4mThe startup directory of the currently running software\u001b[0m\n",
      "\u001b[34;1mstartcontext..\u001b[0mImport....1..\u001b[35;4mreturn da(src)\u001b[0m\n",
      "\u001b[34;1mlanguage......\u001b[0mLanguage..1..\u001b[35;4mThere are no syntax errors.  All byte strings are valid source code.\u001b[0m\n",
      "\u001b[34;1m#.............\u001b[0mLogic.....0..\u001b[35;4m(# A:B) is merely a container created when A is not equal to B.\u001b[0m\n",
      "\u001b[34;1m=.............\u001b[0mLogic.....3..\u001b[35;4mContext equality (=) and logical complement (^) in \"Zen logic\".\u001b[0m\n",
      "\u001b[34;1m^.............\u001b[0mLogic.....1..\u001b[35;4mContext equality (=) and logical complement (^) in \"Zen logic\".\u001b[0m\n",
      "\u001b[34;1mnone..........\u001b[0mLogic.....1..\u001b[35;4msome/none define the coarsest data classification\u001b[0m\n",
      "\u001b[34;1msome..........\u001b[0mLogic.....1..\u001b[35;4msome/none define the coarsest data classification\u001b[0m\n",
      "\u001b[34;1mcode_add......\u001b[0mNumber....2..\u001b[35;4mcode binary operations\u001b[0m\n",
      "\u001b[34;1mcode_max......\u001b[0mNumber....2..\u001b[35;4mcode binary operations\u001b[0m\n",
      "\u001b[34;1mcode_min......\u001b[0mNumber....2..\u001b[35;4mcode binary operations\u001b[0m\n",
      "\u001b[34;1mfloat_add.....\u001b[0mNumber....2..\u001b[35;4mFloat binary operations and involutions\u001b[0m\n",
      "\u001b[34;1mfloat_diff....\u001b[0mNumber....2..\u001b[35;4mFloat binary operations and involutions\u001b[0m\n",
      "\u001b[34;1mfloat_inv.....\u001b[0mNumber....2..\u001b[35;4mInvolutions\u001b[0m\n",
      "\u001b[34;1mfloat_max.....\u001b[0mNumber....2..\u001b[35;4mFloat binary operations and involutions\u001b[0m\n",
      "\u001b[34;1mfloat_min.....\u001b[0mNumber....2..\u001b[35;4mFloat binary operations and involutions\u001b[0m\n",
      "\u001b[34;1mfloat_mult....\u001b[0mNumber....2..\u001b[35;4mFloat binary operations and involutions\u001b[0m\n",
      "\u001b[34;1mint_add.......\u001b[0mNumber....2..\u001b[35;4mInteger binary operations\u001b[0m\n",
      "\u001b[34;1mint_diff......\u001b[0mNumber....2..\u001b[35;4mInteger binary operations\u001b[0m\n",
      "\u001b[34;1mint_inv.......\u001b[0mNumber....2..\u001b[35;4mInvolutions\u001b[0m\n",
      "\u001b[34;1mint_max.......\u001b[0mNumber....2..\u001b[35;4mInteger binary operations\u001b[0m\n",
      "\u001b[34;1mint_min.......\u001b[0mNumber....2..\u001b[35;4mInteger binary operations\u001b[0m\n",
      "\u001b[34;1mint_mult......\u001b[0mNumber....2..\u001b[35;4mInteger binary operations\u001b[0m\n",
      "\u001b[34;1mnat...........\u001b[0mNumber....1..\u001b[35;4mCode version of the natural numbers 0 1 2 3...\u001b[0m\n",
      "\u001b[34;1mone...........\u001b[0mNumber....1..\u001b[35;4mMakes a code 1 if the input is a single atom.  Used for counting.\u001b[0m\n",
      "\u001b[34;1mcount.........\u001b[0mSequence..1..\u001b[35;4mSelect inputs with a specified length\u001b[0m\n",
      "\u001b[34;1mfirst.........\u001b[0mSequence..4..\u001b[35;4mGets the A-specified leading items from input data.\u001b[0m\n",
      "\u001b[34;1miscount.......\u001b[0mSequence..1..\u001b[35;4mSelect inputs with a specified length\u001b[0m\n",
      "\u001b[34;1mlast..........\u001b[0mSequence..3..\u001b[35;4mGets the argument-specified last items from input\u001b[0m\n",
      "\u001b[34;1mnth...........\u001b[0mSequence..1..\u001b[35;4mSelect the n'th items from input.\u001b[0m\n",
      "\u001b[34;1mrep...........\u001b[0mSequence..2..\u001b[35;4mRepeats the arguments for each input.\u001b[0m\n",
      "\u001b[34;1mrev...........\u001b[0mSequence..1..\u001b[35;4mReverse the order of it's input sequence.\u001b[0m\n",
      "\u001b[34;1mtail..........\u001b[0mSequence..3..\u001b[35;4mGet the tail items of a sequence.\u001b[0m\n"
     ]
    }
   ],
   "source": [
    "#\n",
    "#   Use defs: to list the definitions currently in context.  A few dozen definitions are \n",
    "#   defined in python modules.  These are mostly low level combinatoric operations. \n",
    "#\n",
    "defs:"
   ]
  },
  {
   "cell_type": "code",
   "execution_count": 11,
   "id": "f940d0ee-9cb7-49fb-a4ba-585ebd30d54c",
   "metadata": {},
   "outputs": [
    {
     "name": "stdout",
     "output_type": "stream",
     "text": [
      "Hello"
     ]
    }
   ],
   "source": [
    "#\n",
    "#   Data in coda is all \"pure\".  It's not byte sequences or even bit sequences.  Bits 0 and 1, \n",
    "#   bytes, etc. are constructed.  For instance, the \"pure\" command let's you see the pure \n",
    "#   form of it's input. \n",
    "#\n",
    "Hello"
   ]
  },
  {
   "cell_type": "code",
   "execution_count": 12,
   "id": "d0c3b33f-990a-4813-bf2e-28ea9a6cd349",
   "metadata": {},
   "outputs": [
    {
     "name": "stdout",
     "output_type": "stream",
     "text": [
      "1"
     ]
    }
   ],
   "source": [
    "#\n",
    "#   'Hello' is one coda (:<stuff>).  There is a definition mapping (:<anything) to itself.  \n",
    "#    This means that hello is an atom.  \n",
    "#\n",
    "count : Hello"
   ]
  },
  {
   "cell_type": "code",
   "execution_count": 13,
   "id": "8a66e463-3d61-4d18-ac74-08784537f998",
   "metadata": {},
   "outputs": [
    {
     "name": "stdout",
     "output_type": "stream",
     "text": []
    }
   ],
   "source": [
    "#\n",
    "#....You can break Hello into characters by using \"get\".\n",
    "#\n",
    "get : Hello"
   ]
  },
  {
   "cell_type": "code",
   "execution_count": 14,
   "id": "12892b3c-6756-487b-ad96-e4a500417fd3",
   "metadata": {},
   "outputs": [
    {
     "name": "stdout",
     "output_type": "stream",
     "text": []
    }
   ],
   "source": [
    "#\n",
    "#....It looks the same, but it's now actually 5 characters.\n",
    "#\n",
    "count : get : Hello"
   ]
  },
  {
   "cell_type": "code",
   "execution_count": 15,
   "id": "343b797e-5075-4025-9f79-85242c8cb5f6",
   "metadata": {},
   "outputs": [
    {
     "name": "stdout",
     "output_type": "stream",
     "text": []
    }
   ],
   "source": [
    "#\n",
    "#....Using get again gets the bits\n",
    "#\n",
    "get : get : Hello"
   ]
  },
  {
   "cell_type": "code",
   "execution_count": 16,
   "id": "20bd7c08-a2d9-4fab-80bc-df148db8012a",
   "metadata": {},
   "outputs": [
    {
     "name": "stdout",
     "output_type": "stream",
     "text": []
    }
   ],
   "source": [
    "#\n",
    "#....Even below the bits is pure data \n",
    "#\n",
    "pure : get : get : get : Hello "
   ]
  },
  {
   "cell_type": "code",
   "execution_count": 17,
   "id": "f84c6132-eb4b-4fe3-a413-cd49a8d78c38",
   "metadata": {},
   "outputs": [
    {
     "name": "stdout",
     "output_type": "stream",
     "text": []
    }
   ],
   "source": [
    "#\n",
    "#    As you can see, \"everything is made of (:)\". \n",
    "#\n",
    "#    Let's scramble the bits of H and make a new character\n",
    "#\n",
    "get : first : get : Hello "
   ]
  },
  {
   "cell_type": "code",
   "execution_count": 18,
   "id": "aaefdbe4-b4bf-4874-bce0-74698b68c4e8",
   "metadata": {},
   "outputs": [
    {
     "name": "stdout",
     "output_type": "stream",
     "text": []
    }
   ],
   "source": [
    "nth 1 2 3 4 7 7 7 7 : get : first : get : Hello "
   ]
  },
  {
   "cell_type": "code",
   "execution_count": 19,
   "id": "8d29b6a3-a14c-47c2-b376-70160d6d7c69",
   "metadata": {},
   "outputs": [
    {
     "name": "stdout",
     "output_type": "stream",
     "text": [
      "𝟬"
     ]
    }
   ],
   "source": [
    "put : nth 1 2 3 4 7 7 7 7 : get : first : get : Hello "
   ]
  },
  {
   "cell_type": "code",
   "execution_count": 20,
   "id": "7190a09e-8077-452f-8db0-e5b6911fbdf8",
   "metadata": {},
   "outputs": [
    {
     "name": "stdout",
     "output_type": "stream",
     "text": [
      "(bin:a b c) x y z"
     ]
    }
   ],
   "source": [
    "#\n",
    "#   get and put do general coda creation.  For example, (bin:...) is atomic and that \n",
    "#   means that such codas can be used for storage. \n",
    "#\n",
    "(put bin : a b c) x y z"
   ]
  },
  {
   "cell_type": "code",
   "execution_count": 21,
   "id": "fe2a3935-83c8-45b2-96a2-c2e9dcef1569",
   "metadata": {},
   "outputs": [
    {
     "name": "stdout",
     "output_type": "stream",
     "text": [
      "(bin:a b c)"
     ]
    }
   ],
   "source": [
    "has bin : (put bin : a b c) x y z "
   ]
  },
  {
   "cell_type": "code",
   "execution_count": 22,
   "id": "f81369ed-cbb2-48ed-9fb3-8bcdcfe3ec46",
   "metadata": {},
   "outputs": [
    {
     "name": "stdout",
     "output_type": "stream",
     "text": [
      "a b c"
     ]
    }
   ],
   "source": [
    "get bin : (put bin : a b c) x y z "
   ]
  },
  {
   "cell_type": "code",
   "execution_count": 23,
   "id": "0e85c5b9-0c9a-490a-b993-80ac48a13a0e",
   "metadata": {},
   "outputs": [
    {
     "name": "stdout",
     "output_type": "stream",
     "text": [
      "\u001b[;1mcode:\u001b[0m\n",
      "    \u001b[34;7m=\u001b[0m\n",
      "\u001b[;1mmodule:\u001b[0m\n",
      "    Logic\n",
      "\u001b[;1msummary:\u001b[0m\n",
      "    Context equality (=) and logical complement (^) in \"Zen logic\".\n",
      "\u001b[;1mdescription:\u001b[0m\n",
      "    a A = b B -> (a=b) (A=B) if a and b are atoms\n",
      "    A a = B b -> (A=B) (a=b) if a and b are atoms\n",
      "    A = B -> () if A==B identical data\n",
      "    a = b -> (# a:b) if a and b are either atoms or empty and a and b\n",
      "\u001b[;1mpath:\u001b[0m\n",
      "    /Users/youssef/coda/py/Logic.py\n",
      "\u001b[;1mdemos:\u001b[0m\n",
      "    1. \u001b[35;4m1=1\u001b[0m\n",
      "    2. \u001b[35;4m1=2\u001b[0m\n",
      "    3. \u001b[35;4m1=()\u001b[0m\n",
      "    4. \u001b[35;4m<>=()\u001b[0m\n",
      "    5. \u001b[35;4mx?=1\u001b[0m\n",
      "    6. \u001b[35;4mx?=x?\u001b[0m\n",
      "    7. \u001b[35;4mx?=y?\u001b[0m\n",
      "    8. \u001b[35;4m=\u001b[0m\n",
      "    9. \u001b[35;4m(=)=(())\u001b[0m\n",
      "    10. \u001b[35;4m(bin:x?) = (bin:y?)\u001b[0m\n",
      "    11. \u001b[35;4m1 2 3 = 1 2 3\u001b[0m\n",
      "    12. \u001b[35;4m1 x 3 = 1 2 3\u001b[0m\n",
      "    13. \u001b[35;4m1 (foo:bar) 3 = 1 2 3\u001b[0m\n",
      "    14. \u001b[35;4m^:\u001b[0m\n",
      "    15. \u001b[35;4m^: 1 2 3 4\u001b[0m\n",
      "    16. \u001b[35;4m^: (foo:bar)\u001b[0m\n"
     ]
    }
   ],
   "source": [
    "#\n",
    "#  Let's see how to access the equality defined above. \n",
    "#  (use <....> for text with spaces in it or with special characters like \"=\". \n",
    "#\n",
    "help : <=> "
   ]
  },
  {
   "cell_type": "code",
   "execution_count": 24,
   "id": "f88b8497-164c-4ad5-838c-1919de28b674",
   "metadata": {},
   "outputs": [
    {
     "name": "stdout",
     "output_type": "stream",
     "text": []
    }
   ],
   "source": [
    "#\n",
    "#   Note that 1=1 returns nothing.  This means that 1=1 is \"true\" in \"Zen logic.\"\n",
    "#"
   ]
  },
  {
   "cell_type": "code",
   "execution_count": 25,
   "id": "c6a1c767-e0f9-4406-9b8b-28576b193d35",
   "metadata": {},
   "outputs": [
    {
     "name": "stdout",
     "output_type": "stream",
     "text": []
    }
   ],
   "source": [
    "1=1"
   ]
  },
  {
   "cell_type": "code",
   "execution_count": 26,
   "id": "1fcc739f-adb7-4880-bb16-8c4df0677a1c",
   "metadata": {},
   "outputs": [
    {
     "name": "stdout",
     "output_type": "stream",
     "text": [
      "0 1 2 3 4 5 6 7 8 9 10 11 12 13 14 15 16 17 18 19 20 21 22 23 24 25 26 27 28 29 30 31 32 33 34 35 36 37 38 39 40 41 42 43 44 45 46 47 48 49 50 51 52 53 54 55 56 57 58 59 60 61 62 63 64 65 66 67 68 69 70 71 72 73 74 75 76 77 78 79 80 81 82 83 84 85 86 87 88 89 90 91 92 93 94 95 96 97 98 (nat:99)"
     ]
    }
   ],
   "source": [
    "nat:0"
   ]
  },
  {
   "cell_type": "code",
   "execution_count": 27,
   "id": "4ad66bf0-f456-46f7-8ed6-f536ecfe939b",
   "metadata": {},
   "outputs": [
    {
     "name": "stdout",
     "output_type": "stream",
     "text": [
      "0 1 2 3 4 5 6 7 8 9"
     ]
    }
   ],
   "source": [
    "first 10 : nat:0\n"
   ]
  },
  {
   "cell_type": "code",
   "execution_count": 28,
   "id": "5dfe7bcc-8946-4515-9d29-47dd537a4106",
   "metadata": {},
   "outputs": [
    {
     "name": "stdout",
     "output_type": "stream",
     "text": [
      "0 1 2 3 4 5 6 7 8 9 10 11 12 13 14 15 16 17 18 19 20 21 22 23 24 25 26 27 28 29 30 31 32 33 34 35 36 37 38 39 40 41 42 43 44 45 46 47 48 49 50 51 52 53 54 55 56 57 58 59 60 61 62 63 64 65 66 67 68 69 70 71 72 73 74 75 76 77 78 79 80 81 82 83 84 85 86 87 88 89 90 91 92 93 94 95 96 97 98 (nat:99)"
     ]
    }
   ],
   "source": [
    "nat:0"
   ]
  },
  {
   "cell_type": "code",
   "execution_count": 29,
   "id": "079bd872-b56b-4ca4-b1ff-d892db591dc5",
   "metadata": {},
   "outputs": [
    {
     "name": "stdout",
     "output_type": "stream",
     "text": [
      "0 1 2 3 4 5 6 7 8 9"
     ]
    }
   ],
   "source": [
    "first 10 : nat: 0 "
   ]
  },
  {
   "cell_type": "code",
   "execution_count": 30,
   "id": "a79ebf44-8a16-4581-a904-505a3904ce8a",
   "metadata": {},
   "outputs": [
    {
     "name": "stdout",
     "output_type": "stream",
     "text": [
      "1"
     ]
    }
   ],
   "source": [
    "count : a"
   ]
  },
  {
   "cell_type": "code",
   "execution_count": 31,
   "id": "44579f70-f5dd-4f03-8c65-9041c107b0d0",
   "metadata": {},
   "outputs": [
    {
     "name": "stdout",
     "output_type": "stream",
     "text": [
      "\u001b[;1mcode:\u001b[0m\n",
      "    \u001b[34;7mpure\u001b[0m\n",
      "\u001b[;1mmodule:\u001b[0m\n",
      "    Code\n",
      "\u001b[;1msummary:\u001b[0m\n",
      "    return da(str_atom_data(BL,str(A[0]))) + data((domain+A)|BR)\n",
      "\u001b[;1mdescription:\u001b[0m\n",
      "\u001b[;1mpath:\u001b[0m\n",
      "    /Users/youssef/coda/py/Code.py\n",
      "\u001b[;1mdemos:\u001b[0m\n"
     ]
    }
   ],
   "source": [
    "help : pure"
   ]
  },
  {
   "cell_type": "code",
   "execution_count": 32,
   "id": "73806e4b-e707-48fe-896f-48373cfb7b42",
   "metadata": {},
   "outputs": [
    {
     "name": "stdout",
     "output_type": "stream",
     "text": [
      "(:)"
     ]
    }
   ],
   "source": [
    "pure : put :"
   ]
  },
  {
   "cell_type": "code",
   "execution_count": 33,
   "id": "f02f2de1-503a-4075-86bf-e72331055d48",
   "metadata": {},
   "outputs": [
    {
     "name": "stdout",
     "output_type": "stream",
     "text": [
      "𝟬"
     ]
    }
   ],
   "source": [
    "put:"
   ]
  },
  {
   "cell_type": "code",
   "execution_count": 34,
   "id": "54292fe3-e1fb-484f-a090-b87d55b20361",
   "metadata": {},
   "outputs": [
    {
     "name": "stdout",
     "output_type": "stream",
     "text": [
      "𝟭"
     ]
    }
   ],
   "source": [
    "put : (put:)"
   ]
  },
  {
   "cell_type": "code",
   "execution_count": 35,
   "id": "ce10c6d8-7936-4278-8307-9022da4c9b45",
   "metadata": {},
   "outputs": [
    {
     "name": "stdout",
     "output_type": "stream",
     "text": [
      "𝟭"
     ]
    }
   ],
   "source": [
    "domain : a"
   ]
  },
  {
   "cell_type": "code",
   "execution_count": 36,
   "id": "86e81d8e-98e5-4752-81cc-d4a567a54a64",
   "metadata": {},
   "outputs": [
    {
     "name": "stdout",
     "output_type": "stream",
     "text": []
    }
   ],
   "source": [
    "let 1? : (domain:a)"
   ]
  },
  {
   "cell_type": "code",
   "execution_count": 37,
   "id": "f3985b5c-bea8-477e-acf6-a06146fe9770",
   "metadata": {},
   "outputs": [
    {
     "name": "stdout",
     "output_type": "stream",
     "text": [
      "...traceback: <base.DEF object at 0x10bccded0> is already defined."
     ]
    }
   ],
   "source": [
    "let 0? : (domain:get 1?:a)"
   ]
  },
  {
   "cell_type": "code",
   "execution_count": 38,
   "id": "43e90ab7-d829-4e58-bf0a-036252d884f8",
   "metadata": {},
   "outputs": [
    {
     "name": "stdout",
     "output_type": "stream",
     "text": [
      "𝟬 𝟬 𝟬"
     ]
    }
   ],
   "source": [
    "domain : get 1? : a b c"
   ]
  },
  {
   "cell_type": "code",
   "execution_count": 39,
   "id": "3ea3177e-48fd-48de-923a-7272fd400305",
   "metadata": {},
   "outputs": [
    {
     "name": "stdout",
     "output_type": "stream",
     "text": [
      "𝟭"
     ]
    }
   ],
   "source": [
    "domain : a"
   ]
  },
  {
   "cell_type": "code",
   "execution_count": 40,
   "id": "71edaaef-f760-4afa-ae77-10fb3c3d2168",
   "metadata": {},
   "outputs": [
    {
     "name": "stdout",
     "output_type": "stream",
     "text": [
      "𝟬"
     ]
    }
   ],
   "source": [
    "domain : get (domain:a) : a "
   ]
  },
  {
   "cell_type": "code",
   "execution_count": 41,
   "id": "191d74a7-eb17-4c05-8782-fc351678c4f7",
   "metadata": {},
   "outputs": [
    {
     "name": "stdout",
     "output_type": "stream",
     "text": [
      "((:(:)):((:):(:)(:(:))(:(:))(:)(:(:))(:)(:)(:))((:):(:)(:(:))(:(:))(:)(:)(:(:))(:)(:(:)))((:):(:)(:(:))(:(:))(:)(:(:))(:(:))(:)(:))((:):(:)(:(:))(:(:))(:)(:(:))(:(:))(:)(:))((:):(:)(:(:))(:(:))(:)(:(:))(:(:))(:(:))(:(:)))((:):(:)(:)(:(:))(:)(:)(:)(:)(:))((:):(:)(:(:))(:(:))(:(:))(:)(:(:))(:(:))(:(:)))((:):(:)(:(:))(:(:))(:)(:(:))(:(:))(:(:))(:(:)))((:):(:)(:(:))(:(:))(:(:))(:)(:)(:(:))(:))((:):(:)(:(:))(:(:))(:)(:(:))(:(:))(:)(:))((:):(:)(:(:))(:(:))(:)(:)(:(:))(:)(:)))"
     ]
    }
   ],
   "source": [
    "pure : <hello world>"
   ]
  },
  {
   "cell_type": "code",
   "execution_count": 42,
   "id": "1908ba0c-82ee-4c04-ace0-83e84efc94a7",
   "metadata": {},
   "outputs": [
    {
     "name": "stdout",
     "output_type": "stream",
     "text": [
      "0 1 2 3 4 5 6 7 8 9 10 11 12 13 14 15 16 17 18 19 20 21 22 23 24 25 26 27 28 29 30 31 32 33 34 35 36 37 38 39 40 41 42 43 44 45 46 47 48 49 50 51 52 53 54 55 56 57 58 59 60 61 62 63 64 65 66 67 68 69 70 71 72 73 74 75 76 77 78 79 80 81 82 83 84 85 86 87 88 89 90 91 92 93 94 95 96 97 98 (nat:99)"
     ]
    }
   ],
   "source": [
    "nat:0"
   ]
  },
  {
   "cell_type": "code",
   "execution_count": 43,
   "id": "b721c091-d91d-46e9-84b9-9d957802d638",
   "metadata": {},
   "outputs": [
    {
     "name": "stdout",
     "output_type": "stream",
     "text": [
      "((:(:)):((:):(:)(:(:))(:(:))(:)(:)(:)(:)(:(:))))"
     ]
    }
   ],
   "source": [
    "pure : a"
   ]
  },
  {
   "cell_type": "code",
   "execution_count": 45,
   "id": "f7f708ce-a31e-4cbc-91d9-d76e6d1132f3",
   "metadata": {},
   "outputs": [
    {
     "name": "stdout",
     "output_type": "stream",
     "text": [
      "((:#):(#:#(:#)(:#)####(:#)))"
     ]
    }
   ],
   "source": [
    "pure  : a"
   ]
  },
  {
   "cell_type": "code",
   "execution_count": 46,
   "id": "249a3050-0c83-4972-bc4b-9e17af472450",
   "metadata": {},
   "outputs": [
    {
     "name": "stdout",
     "output_type": "stream",
     "text": [
      "((:(:)):((:):(:)(:(:))(:(:))(:)(:(:))(:)(:)(:))((:):(:)(:(:))(:(:))(:)(:)(:(:))(:)(:(:)))((:):(:)(:(:))(:(:))(:)(:(:))(:(:))(:)(:))((:):(:)(:(:))(:(:))(:)(:(:))(:(:))(:)(:))((:):(:)(:(:))(:(:))(:)(:(:))(:(:))(:(:))(:(:))))"
     ]
    }
   ],
   "source": [
    "pure : hello "
   ]
  },
  {
   "cell_type": "code",
   "execution_count": 47,
   "id": "fad3e4a7-545f-4e30-9fb9-50ed8ad8e44a",
   "metadata": {},
   "outputs": [
    {
     "name": "stdout",
     "output_type": "stream",
     "text": [
      "((:a):(a:a(:a)(:a)a(:a)aaa)(a:a(:a)(:a)aa(:a)a(:a))(a:a(:a)(:a)a(:a)(:a)aa)(a:a(:a)(:a)a(:a)(:a)aa)(a:a(:a)(:a)a(:a)(:a)(:a)(:a)))"
     ]
    }
   ],
   "source": [
    "pure a : hello "
   ]
  },
  {
   "cell_type": "code",
   "execution_count": 48,
   "id": "9f14dc7c-46a7-4804-9187-96bf02d72e7c",
   "metadata": {},
   "outputs": [
    {
     "name": "stdout",
     "output_type": "stream",
     "text": [
      "((:*):(*:*(:*)(:*)*(:*)***)(*:*(:*)(:*)**(:*)*(:*))(*:*(:*)(:*)*(:*)(:*)**)(*:*(:*)(:*)*(:*)(:*)**)(*:*(:*)(:*)*(:*)(:*)(:*)(:*)))"
     ]
    }
   ],
   "source": [
    "pure * : hello"
   ]
  },
  {
   "cell_type": "code",
   "execution_count": 78,
   "id": "1872b2bd-0db7-4f08-8309-3059cc60e06f",
   "metadata": {},
   "outputs": [
    {
     "name": "stdout",
     "output_type": "stream",
     "text": [
      "((:1):(1:1(:1)(:1)1(:1)111)(1:1(:1)(:1)11(:1)1(:1))(1:1(:1)(:1)1(:1)(:1)11)(1:1(:1)(:1)1(:1)(:1)11)(1:1(:1)(:1)1(:1)(:1)(:1)(:1)))"
     ]
    }
   ],
   "source": [
    "pure 1 : hello"
   ]
  },
  {
   "cell_type": "code",
   "execution_count": 50,
   "id": "68bcd6d5-1337-4caa-9d3f-41fae7b11ba0",
   "metadata": {},
   "outputs": [
    {
     "name": "stdout",
     "output_type": "stream",
     "text": [
      "𝟭"
     ]
    }
   ],
   "source": [
    "domain : a"
   ]
  },
  {
   "cell_type": "code",
   "execution_count": 57,
   "id": "362e24ed-0a33-4854-a5cc-274555f88360",
   "metadata": {},
   "outputs": [
    {
     "name": "stdout",
     "output_type": "stream",
     "text": []
    }
   ],
   "source": [
    "count : domain : get : a "
   ]
  },
  {
   "cell_type": "code",
   "execution_count": 58,
   "id": "6e2f9c84-9770-463d-9a60-739c498cb234",
   "metadata": {},
   "outputs": [
    {
     "name": "stdout",
     "output_type": "stream",
     "text": [
      "1"
     ]
    }
   ],
   "source": [
    "count : a"
   ]
  },
  {
   "cell_type": "code",
   "execution_count": 59,
   "id": "4c53254b-a85f-4817-9ee8-1f4fd07b95c6",
   "metadata": {},
   "outputs": [
    {
     "name": "stdout",
     "output_type": "stream",
     "text": [
      "\u001b[;1mcode:\u001b[0m\n",
      "    \u001b[34;7mcount\u001b[0m\n",
      "\u001b[;1mmodule:\u001b[0m\n",
      "    Sequence\n",
      "\u001b[;1msummary:\u001b[0m\n",
      "    Select inputs with a specified length\n",
      "\u001b[;1mdescription:\u001b[0m\n",
      "\u001b[;1mpath:\u001b[0m\n",
      "    /Users/youssef/coda/co/Sequence.co\n",
      "\u001b[;1msource code:\u001b[0m\n",
      "    def iscount : {if ((n:A)=(count:B)) : B}\n",
      "    def count : {app int_add : ap one : B}\n",
      "\u001b[;1mdemos:\u001b[0m\n",
      "    1. \u001b[35;4miscount 2 : a b\u001b[0m\n",
      "    2. \u001b[35;4miscount 2 : a\u001b[0m\n",
      "    3. \u001b[35;4miscount 2 : a b c\u001b[0m\n"
     ]
    }
   ],
   "source": [
    "help : count"
   ]
  },
  {
   "cell_type": "code",
   "execution_count": 60,
   "id": "d177bcbb-675d-4e3c-be70-b751c8e0bbae",
   "metadata": {},
   "outputs": [
    {
     "name": "stdout",
     "output_type": "stream",
     "text": [
      "𝟭"
     ]
    }
   ],
   "source": [
    "domain : a"
   ]
  },
  {
   "cell_type": "code",
   "execution_count": 61,
   "id": "5bc17d98-ab0b-4833-bbee-a01137db13db",
   "metadata": {},
   "outputs": [
    {
     "name": "stdout",
     "output_type": "stream",
     "text": [
      "...traceback: <base.DEF object at 0x10bafeaa0> is already defined."
     ]
    }
   ],
   "source": [
    "let bit1 : domain : a"
   ]
  },
  {
   "cell_type": "code",
   "execution_count": 62,
   "id": "ab45411b-89bb-4a7a-ac3b-98e6d1b1a911",
   "metadata": {},
   "outputs": [
    {
     "name": "stdout",
     "output_type": "stream",
     "text": [
      "...traceback: <base.DEF object at 0x10bbe2350> is already defined."
     ]
    }
   ],
   "source": [
    "let 1? : domain : a"
   ]
  },
  {
   "cell_type": "code",
   "execution_count": 63,
   "id": "f798f04e-e7f4-4c1f-8a76-a59c024f4c30",
   "metadata": {},
   "outputs": [
    {
     "name": "stdout",
     "output_type": "stream",
     "text": [
      "𝟭"
     ]
    }
   ],
   "source": [
    "domain : a"
   ]
  },
  {
   "cell_type": "code",
   "execution_count": 66,
   "id": "fe48190f-48c0-470e-af99-8751633f68a5",
   "metadata": {},
   "outputs": [
    {
     "name": "stdout",
     "output_type": "stream",
     "text": [
      "1"
     ]
    }
   ],
   "source": [
    "get (domain : a) : a"
   ]
  },
  {
   "cell_type": "code",
   "execution_count": 67,
   "id": "417d6182-8da2-418c-b527-fe00a440118b",
   "metadata": {},
   "outputs": [
    {
     "name": "stdout",
     "output_type": "stream",
     "text": [
      "𝟬"
     ]
    }
   ],
   "source": [
    "put:"
   ]
  },
  {
   "cell_type": "code",
   "execution_count": 68,
   "id": "a3bd8b8d-bdbb-43e3-9427-b0c2c61e2b36",
   "metadata": {},
   "outputs": [
    {
     "name": "stdout",
     "output_type": "stream",
     "text": [
      "𝟭"
     ]
    }
   ],
   "source": [
    "put: (put:)"
   ]
  },
  {
   "cell_type": "code",
   "execution_count": 75,
   "id": "0a869005-bd3c-4bd3-88f4-c22a6bda7f2e",
   "metadata": {},
   "outputs": [
    {
     "name": "stdout",
     "output_type": "stream",
     "text": [
      "(:) (:(:)) (:(:)) (:) (:) (:) (:) (:(:))"
     ]
    }
   ],
   "source": [
    "pure  : get (put:) : get (put:(put:)) : a"
   ]
  },
  {
   "cell_type": "code",
   "execution_count": 74,
   "id": "11215cc1-063f-477e-9ee6-c389dd33da9f",
   "metadata": {},
   "outputs": [
    {
     "name": "stdout",
     "output_type": "stream",
     "text": [
      "((:0):(0:0(:0)(:0)0000(:0)))"
     ]
    }
   ],
   "source": [
    "pure 0 : a"
   ]
  },
  {
   "cell_type": "code",
   "execution_count": 81,
   "id": "d8a19535-26a0-4453-8db2-8484d04f23f7",
   "metadata": {},
   "outputs": [
    {
     "name": "stdout",
     "output_type": "stream",
     "text": [
      "𝟬 𝟬 𝟬"
     ]
    }
   ],
   "source": [
    "get : get (put:) : get (put:(put:)) : a "
   ]
  },
  {
   "cell_type": "code",
   "execution_count": 84,
   "id": "61ff1c19-620c-4cd0-ae7e-9105091fffd3",
   "metadata": {},
   "outputs": [
    {
     "name": "stdout",
     "output_type": "stream",
     "text": [
      "𝟬"
     ]
    }
   ],
   "source": [
    "domain : get (put:put:) : a"
   ]
  },
  {
   "cell_type": "code",
   "execution_count": null,
   "id": "a0861775-54dc-41e5-9164-a7866f7246c5",
   "metadata": {},
   "outputs": [],
   "source": []
  }
 ],
 "metadata": {
  "kernelspec": {
   "display_name": "coda",
   "language": "",
   "name": "coda"
  },
  "language_info": {
   "file_extension": ".co",
   "mimetype": "text/plain",
   "name": "Any text"
  }
 },
 "nbformat": 4,
 "nbformat_minor": 5
}
