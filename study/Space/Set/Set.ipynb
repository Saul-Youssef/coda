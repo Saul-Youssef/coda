{
 "cells": [
  {
   "cell_type": "markdown",
   "id": "33e51a57-2bdd-44c9-b869-d310ade5f320",
   "metadata": {},
   "source": [
    "| Space | Elements | Operation | Space | Simple | Idempotent | Distributive | Distributive 2 | Commutative | Involution | Nilpotent | Semilattice | \n",
    "|-------|----------|-----------|-----:|-------:|-----------:|-------------:|--------:|------------:|-----------:|----------:|--------:|\n",
    "| once * nats | natural sequences | x | x | x | x | x | x | x | x | x | x |\n",
    "| once * is 1 2 | sequences of 1 2 3 at most once each | x | x | x | x | x | x | x | x | x | x |"
   ]
  },
  {
   "cell_type": "code",
   "execution_count": null,
   "id": "6a4adbb7-86cb-4499-af50-df649dbc4bd5",
   "metadata": {},
   "outputs": [],
   "source": [
    "import : dir co : up : ."
   ]
  },
  {
   "cell_type": "code",
   "execution_count": null,
   "id": "1891acb6-a4d7-4806-9240-81c41583c8c5",
   "metadata": {},
   "outputs": [],
   "source": [
    "Def OP2 : {once : is 1 2 3 : B} "
   ]
  },
  {
   "cell_type": "code",
   "execution_count": null,
   "id": "422b4cc8-818c-4342-a82c-9d9ffc2d6490",
   "metadata": {},
   "outputs": [],
   "source": [
    "count : theorem (simple:        OP2) : S5?\n",
    "count : theorem (idempotent:    OP2) : S5?\n",
    "count : theorem (distributive:  OP2) : S5?\n",
    "count : theorem (distributive2: OP2) : S5?\n",
    "count : theorem (commutative:   OP2) : S5? \n",
    "count : theorem (involution:    OP2) : S5? \n",
    "count : theorem (nilpotent:     OP2) : S5? \n",
    "count : theorem (semilattice:   OP2) : S5?"
   ]
  },
  {
   "cell_type": "code",
   "execution_count": null,
   "id": "57ae1696-40e2-42ea-9026-6afecb9ad7e7",
   "metadata": {},
   "outputs": [],
   "source": [
    "Def OP4 : once * nats "
   ]
  },
  {
   "cell_type": "code",
   "execution_count": null,
   "id": "652d1540-b82b-4e30-bbcc-0bce65814fb4",
   "metadata": {},
   "outputs": [],
   "source": [
    "count : theorem (simple:        OP4) : S5?\n",
    "count : theorem (idempotent:    OP4) : S5?\n",
    "count : theorem (distributive:  OP4) : S5?\n",
    "count : theorem (distributive2: OP4) : S5?\n",
    "count : theorem (commutative:   OP4) : S5? \n",
    "count : theorem (involution:    OP4) : S5? \n",
    "count : theorem (nilpotent:     OP4) : S5? \n",
    "count : theorem (semilattice:   OP4) : S5?"
   ]
  }
 ],
 "metadata": {
  "kernelspec": {
   "display_name": "coda",
   "language": "",
   "name": "coda"
  },
  "language_info": {
   "file_extension": ".co",
   "mimetype": "text/plain",
   "name": "Any text"
  }
 },
 "nbformat": 4,
 "nbformat_minor": 5
}
