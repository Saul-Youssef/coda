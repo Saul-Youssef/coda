{
 "cells": [
  {
   "cell_type": "markdown",
   "id": "6a49838a-560c-430b-9756-086881ec2427",
   "metadata": {},
   "source": [
    "# Pure Data\n",
    "\n",
    "Pure data is an enormously large space."
   ]
  },
  {
   "cell_type": "code",
   "execution_count": 1,
   "id": "24f3bf93-1058-4c12-b76a-5f17c9420978",
   "metadata": {},
   "outputs": [],
   "source": [
    "from Generate import Window "
   ]
  },
  {
   "cell_type": "markdown",
   "id": "9fc4b87a-eb40-4185-aacf-155e5ed164a3",
   "metadata": {
    "jupyter": {
     "outputs_hidden": true
    },
    "tags": []
   },
   "source": [
    "## Results\n",
    "\n",
    "|         | width 1  | width 2 | width 3 | width 4  | width 5 |\n",
    "|---------|---------:|--------:|--------:|---------:|--------:|\n",
    "|depth 1  |    2     |   5     |   26    |   677    | 458,330 |\n",
    "|depth 2  |    3     |    91   |  4369   |  406,901 |     ?    |\n",
    "|depth 3  |    4     |     68,583,243    |     ?    |      ?    |   ?     |\n",
    "|depth 4  |    5     |     ?    |   ?      |    ?      |      ?   |\n",
    "|depth 5  |    6     |     ?    |     ?    |     ?     |    ?     |\n"
   ]
  },
  {
   "cell_type": "code",
   "execution_count": null,
   "id": "b95ab784-b306-43ef-99a0-b95188cab3b4",
   "metadata": {},
   "outputs": [],
   "source": []
  }
 ],
 "metadata": {
  "kernelspec": {
   "display_name": "Python 3 (ipykernel)",
   "language": "python",
   "name": "python3"
  },
  "language_info": {
   "codemirror_mode": {
    "name": "ipython",
    "version": 3
   },
   "file_extension": ".py",
   "mimetype": "text/x-python",
   "name": "python",
   "nbconvert_exporter": "python",
   "pygments_lexer": "ipython3",
   "version": "3.10.7"
  }
 },
 "nbformat": 4,
 "nbformat_minor": 5
}
