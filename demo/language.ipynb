{
 "cells": [
  {
   "cell_type": "markdown",
   "id": "914d89fe-5a36-4ecf-8dd2-11667a3d474e",
   "metadata": {},
   "source": [
    "## Language\n",
    "\n",
    "This shows the language at the internal python level."
   ]
  },
  {
   "cell_type": "code",
   "execution_count": 1,
   "id": "96c7cec9-46d2-4cb4-afcd-77bf199aa816",
   "metadata": {},
   "outputs": [],
   "source": [
    "from base import *\n",
    "from Language import *"
   ]
  },
  {
   "cell_type": "code",
   "execution_count": 2,
   "id": "56ed4ccd-5886-450a-a7c0-0e776fd9c715",
   "metadata": {},
   "outputs": [],
   "source": [
    "def pr(T): print(str(T),type(T))"
   ]
  },
  {
   "cell_type": "code",
   "execution_count": 3,
   "id": "e076e080-6c2a-4b3b-9421-525d2ced5adb",
   "metadata": {},
   "outputs": [],
   "source": [
    "a = da('1')\n",
    "b = da('2')"
   ]
  },
  {
   "cell_type": "markdown",
   "id": "3cb13cc2-f8d3-48da-94c1-432c8718ba6d",
   "metadata": {},
   "source": [
    "The language is a definition like any other.  The only slightly tricky issue is a convention to recognize language source code using curly brackets.  So in the language, `{rev : A B} 1 2 : a b`, for instance, is data in the domain of the compiler.  The action of the compiler, then, eventually, results in `b a 2 1`. The issue is to arrange so that the domain of a language coda is '{' rather than '{.....}' so that all definition domains are treated the same way, thus simplifying base.py. \n",
    "\n",
    "The upshot of all this is that you should use the lang function in the Language model to make language codas."
   ]
  },
  {
   "cell_type": "code",
   "execution_count": 4,
   "id": "a8e29323-306e-4f6b-9c24-874cfaf5d50e",
   "metadata": {},
   "outputs": [],
   "source": [
    "C = lang('rev:A B',a,b)[0]"
   ]
  },
  {
   "cell_type": "code",
   "execution_count": 5,
   "id": "656b9558-1358-4922-9469-f4870ac372ef",
   "metadata": {},
   "outputs": [
    {
     "name": "stdout",
     "output_type": "stream",
     "text": [
      "({rev:A B}(:1):(:2)) <class 'base.coda'>\n",
      "{\n"
     ]
    }
   ],
   "source": [
    "pr(C); print(C.domain())"
   ]
  },
  {
   "cell_type": "code",
   "execution_count": 6,
   "id": "11c43278-ee68-45a4-9873-a37673ea23bc",
   "metadata": {},
   "outputs": [
    {
     "name": "stdout",
     "output_type": "stream",
     "text": [
      "{\n",
      "r\n",
      "e\n",
      "v\n",
      ":\n",
      "A\n",
      " \n",
      "B\n",
      "}\n",
      "(:1)\n"
     ]
    }
   ],
   "source": [
    "for x in C.left(): print(x)"
   ]
  },
  {
   "cell_type": "code",
   "execution_count": 7,
   "id": "47961f1a-d0f8-43dd-a0d3-60742d6932ca",
   "metadata": {},
   "outputs": [],
   "source": [
    "D = lang('(x (y z))',data(),data()); D2 = D"
   ]
  },
  {
   "cell_type": "code",
   "execution_count": 8,
   "id": "629779ee-0822-4aff-abc3-684275a5e81d",
   "metadata": {},
   "outputs": [
    {
     "name": "stdout",
     "output_type": "stream",
     "text": [
      "({x (y z)}:) <class 'base.data'>\n"
     ]
    }
   ],
   "source": [
    "### repeat\n",
    "D2 = D2.eval(); pr(D2)"
   ]
  },
  {
   "cell_type": "code",
   "execution_count": 9,
   "id": "88ec7e14-d533-4a22-ae9d-8c5d7a1f9c2a",
   "metadata": {},
   "outputs": [],
   "source": [
    "E = lang('pass:B',data(),data(a[0],b[0])); E2 = D"
   ]
  },
  {
   "cell_type": "code",
   "execution_count": 10,
   "id": "7571ab2e-9d71-4e8d-9737-814ec20fb4af",
   "metadata": {},
   "outputs": [
    {
     "name": "stdout",
     "output_type": "stream",
     "text": [
      "({x (y z)}:) <class 'base.data'>\n"
     ]
    }
   ],
   "source": [
    "### repeat\n",
    "E2 = E2.eval(); pr(E2)"
   ]
  },
  {
   "cell_type": "code",
   "execution_count": 11,
   "id": "9da56d92-be6d-40ba-98c1-c98277928914",
   "metadata": {},
   "outputs": [],
   "source": [
    "F = lang('rev : B',data(),data(a[0],b[0])); F2 = F "
   ]
  },
  {
   "cell_type": "code",
   "execution_count": 12,
   "id": "bae8bfbd-f7f7-464b-9b3b-00f205749f41",
   "metadata": {},
   "outputs": [
    {
     "name": "stdout",
     "output_type": "stream",
     "text": [
      "(({rev }:(:1)(:2)):({ B}:(:1)(:2))) <class 'base.data'>\n"
     ]
    }
   ],
   "source": [
    "### repeat \n",
    "F2 = F2.eval(); pr(F2)"
   ]
  },
  {
   "cell_type": "code",
   "execution_count": 13,
   "id": "831c35e0-cd24-4253-926d-2ea4d82164ac",
   "metadata": {},
   "outputs": [],
   "source": [
    "G = lang('pass : a b',data(),data())"
   ]
  },
  {
   "cell_type": "code",
   "execution_count": 14,
   "id": "62c84124-8f7a-4565-b60f-38335af772ff",
   "metadata": {},
   "outputs": [
    {
     "name": "stdout",
     "output_type": "stream",
     "text": [
      "(({pass }:):({ a b}:)) <class 'base.data'>\n"
     ]
    }
   ],
   "source": [
    "### repeat \n",
    "G = G.eval(); pr(G)"
   ]
  },
  {
   "cell_type": "code",
   "execution_count": 15,
   "id": "962abb36-8ac1-4634-8d76-1210288aae4b",
   "metadata": {},
   "outputs": [],
   "source": [
    "H = lang('(nat : 0) (pass : a b)',data(),data())"
   ]
  },
  {
   "cell_type": "code",
   "execution_count": 16,
   "id": "6e8076e0-d485-426b-b139-a7ea2ad62f65",
   "metadata": {},
   "outputs": [
    {
     "name": "stdout",
     "output_type": "stream",
     "text": [
      "({(nat : 0)}:)({(pass : a b)}:) <class 'base.data'>\n"
     ]
    }
   ],
   "source": [
    "### repeat\n",
    "H = H.eval(); pr(H)"
   ]
  },
  {
   "cell_type": "code",
   "execution_count": 17,
   "id": "90303697-578c-4eb7-8814-e6cf7e93d945",
   "metadata": {},
   "outputs": [],
   "source": [
    "J = lang('rev : a b c d',data(),data())"
   ]
  },
  {
   "cell_type": "code",
   "execution_count": 18,
   "id": "f5add8c4-d2dd-4673-84fb-84c29cef5860",
   "metadata": {},
   "outputs": [
    {
     "name": "stdout",
     "output_type": "stream",
     "text": [
      "(({rev }:):({ a b c d}:)) <class 'base.data'>\n"
     ]
    }
   ],
   "source": [
    "### repeat\n",
    "J = J.eval(); pr(J)"
   ]
  },
  {
   "cell_type": "code",
   "execution_count": 19,
   "id": "1846d5fa-f353-4ba1-a35c-4fa3e60e43ab",
   "metadata": {},
   "outputs": [],
   "source": [
    "K = lang('{pass:B} : 1 2 3',data(),data())"
   ]
  },
  {
   "cell_type": "code",
   "execution_count": 20,
   "id": "9f25d87e-6b88-44ae-afdf-2536a2658551",
   "metadata": {},
   "outputs": [
    {
     "name": "stdout",
     "output_type": "stream",
     "text": [
      "(({{pass:B} }:):({ 1 2 3}:)) <class 'base.data'>\n"
     ]
    }
   ],
   "source": [
    "### repeat \n",
    "K = K.eval(); pr(K)"
   ]
  },
  {
   "cell_type": "code",
   "execution_count": 21,
   "id": "bccc0dc1-2f93-41ce-8dba-23f5cdcd1e1c",
   "metadata": {},
   "outputs": [],
   "source": [
    "L = lang('{B B} : x',data(),data())"
   ]
  },
  {
   "cell_type": "code",
   "execution_count": 22,
   "id": "06784fe7-2921-4c82-b1f4-504a16a7a31f",
   "metadata": {},
   "outputs": [
    {
     "name": "stdout",
     "output_type": "stream",
     "text": [
      "(({{B B} }:):({ x}:)) <class 'base.data'>\n"
     ]
    }
   ],
   "source": [
    "L = L.eval(); pr(L)"
   ]
  },
  {
   "cell_type": "code",
   "execution_count": 23,
   "id": "04e6fdc8-ccb4-4ffb-b00a-f2ddbaaefdee",
   "metadata": {},
   "outputs": [],
   "source": [
    "M = lang('B B B B A A',a,b)"
   ]
  },
  {
   "cell_type": "code",
   "execution_count": 24,
   "id": "239cb4b9-c705-4c4b-8d83-3817f090edd8",
   "metadata": {},
   "outputs": [
    {
     "name": "stdout",
     "output_type": "stream",
     "text": [
      "({B}(:1):(:2))({B B B A A}(:1):(:2)) <class 'base.data'>\n"
     ]
    }
   ],
   "source": [
    "M = M.eval(); pr(M)"
   ]
  },
  {
   "cell_type": "code",
   "execution_count": 25,
   "id": "8f7faf9e-a4ee-422c-8168-9e353672ffb9",
   "metadata": {},
   "outputs": [],
   "source": [
    "N = lang('{A B B A} x : y',data(),data())"
   ]
  },
  {
   "cell_type": "code",
   "execution_count": 26,
   "id": "e4448f4c-6c6b-4bf8-8e48-0c7fa9a629fd",
   "metadata": {},
   "outputs": [
    {
     "name": "stdout",
     "output_type": "stream",
     "text": [
      "(({{A B B A} x }:):({ y}:)) <class 'base.data'>\n"
     ]
    }
   ],
   "source": [
    "### repeat \n",
    "N = N.eval(); pr(N)"
   ]
  },
  {
   "cell_type": "code",
   "execution_count": 27,
   "id": "e93bf3ab-11be-4ba3-8d3a-940b1d39b9da",
   "metadata": {},
   "outputs": [
    {
     "name": "stdout",
     "output_type": "stream",
     "text": [
      "((:?):(:x)) <class 'base.data'>\n"
     ]
    }
   ],
   "source": [
    "O = lang('x?',data(),data())\n",
    "O = O.eval(); pr(O)"
   ]
  },
  {
   "cell_type": "code",
   "execution_count": 28,
   "id": "47f6d8f2-fae4-4e36-b71d-707930670927",
   "metadata": {},
   "outputs": [],
   "source": [
    "P = lang('help: ap',data(),data())"
   ]
  },
  {
   "cell_type": "code",
   "execution_count": 31,
   "id": "06adb8c4-2735-460b-8262-c7e59f036a22",
   "metadata": {},
   "outputs": [
    {
     "name": "stdout",
     "output_type": "stream",
     "text": [
      "\u001b[;1mcode:\u001b[0m\n",
      "    \u001b[34;7map\u001b[0m\n",
      "\u001b[;1mmodule:\u001b[0m\n",
      "    Apply\n",
      "\u001b[;1msummary:\u001b[0m\n",
      "    Apply A to each b in B.\n",
      "\u001b[;1mdescription:\u001b[0m\n",
      "    This is one of the most important basic\n",
      "    combinatorial operations.  ap A is guaranteed\n",
      "    to be distributive data for any data A.\n",
      "    ap A : B C -> (ap A:B) (ap A:C)\n",
      "    ap A : B -> A:B if B is atom\n",
      "    ap A : () -> ()\n",
      "\u001b[;1mpath:\u001b[0m\n",
      "    /Users/youssef/coda/py/Apply.py\n",
      "\u001b[;1mdemos:\u001b[0m\n",
      "    1. \u001b[35;4mfoo : 1 2 3\u001b[0m\n",
      "    2. \u001b[35;4map foo : 1 2 3\u001b[0m\n",
      "    3. \u001b[35;4map {foo : B} : 1 2 3\u001b[0m\n",
      " <class 'base.data'>\n"
     ]
    }
   ],
   "source": [
    "P = P.eval(); pr(P)"
   ]
  },
  {
   "cell_type": "code",
   "execution_count": null,
   "id": "fd4c212f-54c7-4e07-a5b0-770b9021112a",
   "metadata": {},
   "outputs": [],
   "source": []
  }
 ],
 "metadata": {
  "kernelspec": {
   "display_name": "Python 3 (ipykernel)",
   "language": "python",
   "name": "python3"
  },
  "language_info": {
   "codemirror_mode": {
    "name": "ipython",
    "version": 3
   },
   "file_extension": ".py",
   "mimetype": "text/x-python",
   "name": "python",
   "nbconvert_exporter": "python",
   "pygments_lexer": "ipython3",
   "version": "3.10.7"
  }
 },
 "nbformat": 4,
 "nbformat_minor": 5
}
