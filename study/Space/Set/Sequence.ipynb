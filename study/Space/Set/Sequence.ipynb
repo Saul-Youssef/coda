{
 "cells": [
  {
   "cell_type": "markdown",
   "id": "a7af7bfb-d121-4145-a766-c9c8375088d5",
   "metadata": {},
   "source": [
    "| Space | Elements | Operation | Space | Simple | Idempotent | Distributive | Distributive 2 | Commutative | Involution | Nilpotent | Semilattice | \n",
    "|-------|----------|-----------|-----:|-------:|-----------:|-------------:|--------:|------------:|-----------:|----------:|--------:|\n",
    "| nats | natural sequences | x | x | x | x | x | x | x | x | x | x |\n",
    "| is 1 2 | sequences of 1 or 2 | x | x | x | x | x | x | x | x | x | x |\n"
   ]
  },
  {
   "cell_type": "code",
   "execution_count": 1,
   "id": "85c6ec55-56e9-4d2a-b931-97c5b809b3e8",
   "metadata": {},
   "outputs": [
    {
     "name": "stdout",
     "output_type": "stream",
     "text": []
    }
   ],
   "source": [
    "import : dir co : up : ."
   ]
  },
  {
   "cell_type": "code",
   "execution_count": 2,
   "id": "01d83384-52b3-47fa-a2d4-519b8093aa87",
   "metadata": {
    "jupyter": {
     "source_hidden": true
    },
    "tags": []
   },
   "outputs": [
    {
     "name": "stdout",
     "output_type": "stream",
     "text": []
    }
   ],
   "source": [
    "Def OP : {is 1 2 : B} "
   ]
  },
  {
   "cell_type": "code",
   "execution_count": 3,
   "id": "977cd59d-79fa-4f6a-a1b3-6631ea1d4dd3",
   "metadata": {},
   "outputs": [
    {
     "name": "stdout",
     "output_type": "stream",
     "text": [
      "0\n",
      "0\n",
      "0\n",
      "0\n",
      "150\n",
      "13\n",
      "17\n",
      "17"
     ]
    }
   ],
   "source": [
    "count : theorem (simple:        OP) : S5?\n",
    "count : theorem (idempotent:    OP) : S5?\n",
    "count : theorem (distributive:  OP) : S5?\n",
    "count : theorem (distributive2: OP) : S5?\n",
    "count : theorem (commutative:   OP) : S5? \n",
    "count : theorem (involution:    OP) : S5? \n",
    "count : theorem (nilpotent:     OP) : S5? \n",
    "count : theorem (semilattice:   OP) : S5?"
   ]
  },
  {
   "cell_type": "code",
   "execution_count": 4,
   "id": "8f5c9453-32a4-4a2f-9295-e0daa97bbd38",
   "metadata": {},
   "outputs": [
    {
     "name": "stdout",
     "output_type": "stream",
     "text": []
    }
   ],
   "source": [
    "Def OP3 : nats "
   ]
  },
  {
   "cell_type": "code",
   "execution_count": 5,
   "id": "038b57f4-e46d-4cac-9a27-4c44142daa89",
   "metadata": {},
   "outputs": [
    {
     "name": "stdout",
     "output_type": "stream",
     "text": [
      "0\n",
      "0\n",
      "0\n",
      "0\n",
      "366\n",
      "0\n",
      "20\n",
      "20"
     ]
    }
   ],
   "source": [
    "count : theorem (simple:        OP3) : S5?\n",
    "count : theorem (idempotent:    OP3) : S5?\n",
    "count : theorem (distributive:  OP3) : S5?\n",
    "count : theorem (distributive2: OP3) : S5?\n",
    "count : theorem (commutative:   OP3) : S5? \n",
    "count : theorem (involution:    OP3) : S5? \n",
    "count : theorem (nilpotent:     OP3) : S5? \n",
    "count : theorem (semilattice:   OP3) : S5?"
   ]
  },
  {
   "cell_type": "code",
   "execution_count": null,
   "id": "943c5911-2c32-4dbd-9335-c16b03bc7e09",
   "metadata": {},
   "outputs": [],
   "source": []
  }
 ],
 "metadata": {
  "kernelspec": {
   "display_name": "coda",
   "language": "",
   "name": "coda"
  },
  "language_info": {
   "file_extension": ".co",
   "mimetype": "text/plain",
   "name": "Any text"
  }
 },
 "nbformat": 4,
 "nbformat_minor": 5
}
