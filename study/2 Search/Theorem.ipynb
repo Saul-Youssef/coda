{
 "cells": [
  {
   "cell_type": "markdown",
   "id": "324b617e-c33f-474f-b56c-3a9c7a82b0be",
   "metadata": {},
   "source": [
    "## Basic Exploration\n",
    "\n",
    "From the Logic tutorial, it is familiar that all data has a truth value.  Empty data is, by definition, **true** and atomic data is, by definition, **false**.  Data can also be in between, for instance, assuming that x has not been defined, then (x:) (same as x?) is **undefined** data.  Mathematical propositions which may be true or false are all data, then.  For instance\n",
    "\n",
    "1. not : skip x? : nat : 0 *There are an infinite number of natural numbers.*\n",
    "2. (rev : rev : x?) = x? *Reversing the order of x? twice is the identity.* \n",
    "3. null:x? = () \n",
    "\n",
    "are the propositions 1) there are an infinite number of natural numbers and 2) reversing the order of anything twice does nothing, 3) null applied to any data gives the empty data.  Since nat:0 are the natural numbers, skip x? : nat : 0 is atomic no matter what x? is, so not:skip x?:nat:0 is always empty.  The characteristic of this data is that they are \"never false\", meaning they are false no matter what definition of x? is chosen.  We say that data T is a **theorem** if T is never false.\n",
    "\n",
    "   The most direct way to prove that data T is a theorem is to construct a sequence T=T$_{1}$,T$_{2}$,T$_{3}$...T$_{n}$=() where each step in the sequence is the application of a definition.  Here, we take a less ambitious approach where we test whether T is never false by assigning the undefined data in T to various permutations of data from chosen samples.  If we manage to make T false with any assignment, we can conclude that T is not a theorem. \n",
    "   \n",
    "We explore how to do this below. "
   ]
  },
  {
   "cell_type": "code",
   "execution_count": 1,
   "id": "e80bf24c-527e-4bda-82b2-90c64fa0e0cf",
   "metadata": {},
   "outputs": [
    {
     "name": "stdout",
     "output_type": "stream",
     "text": [
      "◎ (:◎) (:◎ ◎) (:◎ ◎ ◎) (:◎ ◎ ◎ ◎) (:◎ ◎ ◎ ◎ ◎) (:◎ ◎ ◎ ◎ ◎ ◎) (:◎ ◎ ◎ ◎ ◎ ◎ ◎) (:◎ ◎ ◎ ◎ ◎ ◎ ◎ ◎) (:◎ ◎ ◎ ◎ ◎ ◎ ◎ ◎ ◎)"
     ]
    }
   ],
   "source": [
    "#\n",
    "#   For a first example, consider T.  This is a claim that all data are <= 10 atoms in length. \n",
    "#   This is obviously false, but let's pretend we are investigating it as a possible theorem.\n",
    "#\n",
    "#   We use count: to get a logical value rather than bool: for convenience.\n",
    "#\n",
    "Let T : (x?=(first 5:x?)) \n",
    "#\n",
    "#    We can test with respect to any input data.  Let's choose, for example, sequences of odd atoms.\n",
    "#    Note that since the input is a collection of data, each data is delivered (:D_1) (:D_2),...\n",
    "#\n",
    "sample.atom : 10 "
   ]
  },
  {
   "cell_type": "code",
   "execution_count": 2,
   "id": "1531d596-076f-4a7a-80ba-f3b79a72dc40",
   "metadata": {},
   "outputs": [
    {
     "name": "stdout",
     "output_type": "stream",
     "text": [
      "(with (def x:{A}):(= (x:):(first 5:(x:)))) (with (def x:{A} ◎):(= (x:):(first 5:(x:)))) (with (def x:{A} ◎ ◎):(= (x:):(first 5:(x:)))) (with (def x:{A} ◎ ◎ ◎):(= (x:):(first 5:(x:)))) (with (def x:{A} ◎ ◎ ◎ ◎):(= (x:):(first 5:(x:)))) (with (def x:{A} ◎ ◎ ◎ ◎ ◎):(= (x:):(first 5:(x:)))) (with (def x:{A} ◎ ◎ ◎ ◎ ◎ ◎):(= (x:):(first 5:(x:)))) (with (def x:{A} ◎ ◎ ◎ ◎ ◎ ◎ ◎):(= (x:):(first 5:(x:)))) (with (def x:{A} ◎ ◎ ◎ ◎ ◎ ◎ ◎ ◎):(= (x:):(first 5:(x:)))) (with (def x:{A} ◎ ◎ ◎ ◎ ◎ ◎ ◎ ◎ ◎):(= (x:):(first 5:(x:))))"
     ]
    }
   ],
   "source": [
    "#\n",
    "#    The basic operation is \"cases\" which turns the input data samples into \n",
    "#    one separate with case for each sample data.\n",
    "#\n",
    "#    As with all (with:...), the ... isn't evaluated, so the theorem appears as (T:) (which is the same as T?).\n",
    "#\n",
    "cases T? : sample.atom : 10 "
   ]
  },
  {
   "cell_type": "code",
   "execution_count": 3,
   "id": "76d9a051-5ba8-4084-a97a-9e499ad5e456",
   "metadata": {},
   "outputs": [
    {
     "name": "stdout",
     "output_type": "stream",
     "text": [
      "(with (def x:{A}):) (with (def x:{A} ◎):) (with (def x:{A} ◎ ◎):) (with (def x:{A} ◎ ◎ ◎):) (with (def x:{A} ◎ ◎ ◎ ◎):) (with (def x:{A} ◎ ◎ ◎ ◎ ◎):) (with (def x:{A} ◎ ◎ ◎ ◎ ◎ ◎):◎) (with (def x:{A} ◎ ◎ ◎ ◎ ◎ ◎ ◎):◎) (with (def x:{A} ◎ ◎ ◎ ◎ ◎ ◎ ◎ ◎):◎) (with (def x:{A} ◎ ◎ ◎ ◎ ◎ ◎ ◎ ◎ ◎):◎)"
     ]
    }
   ],
   "source": [
    "eval : cases T? : sample.atom : 10 "
   ]
  },
  {
   "cell_type": "code",
   "execution_count": 4,
   "id": "d6d6f65b-243a-462a-a2b4-f3dd71469f18",
   "metadata": {},
   "outputs": [
    {
     "name": "stdout",
     "output_type": "stream",
     "text": [
      "0 0 0 0 0 0 1 1 1 1"
     ]
    }
   ],
   "source": [
    "#\n",
    "#    To get the actual answers, evaluate the bools with count so true=0, >0=false...\n",
    "#\n",
    "ap {count:get with:B} : eval : cases T? : sample.atom : 10 "
   ]
  },
  {
   "cell_type": "code",
   "execution_count": 5,
   "id": "edf3947e-5612-461e-b240-a60468513fbd",
   "metadata": {},
   "outputs": [
    {
     "name": "stdout",
     "output_type": "stream",
     "text": []
    }
   ],
   "source": [
    "#\n",
    "#    Wrap this up into a single function \"theorem\"\n",
    "#\n",
    "Def Thm : {ap {count:get with:B} : eval : cases A : B } "
   ]
  },
  {
   "cell_type": "code",
   "execution_count": 6,
   "id": "d062fd77-af9b-47ba-936e-1fa561d07d52",
   "metadata": {},
   "outputs": [
    {
     "name": "stdout",
     "output_type": "stream",
     "text": [
      "0 0 0 0 0 0 1 1 1 1 1 1 1 1 1 1 1 1 1 1"
     ]
    }
   ],
   "source": [
    "Thm T? : sample.atom : 20 "
   ]
  },
  {
   "cell_type": "markdown",
   "id": "73ad5d88-9064-47f6-a9b8-a9e6be508fae",
   "metadata": {},
   "source": [
    "Since the results are not all zero, T? is not a theorem.  \n",
    "\n",
    "Let's consider another hypothesis (x? y?)=(y? x?), this time with two \"variables\".  \n",
    "\n",
    "In the tests below, you can see that if the sample input to Thm has only one kind of atom, the theorem is satisfied, i.e. we get all zeros. However, if there is more than one kind of atom, the theorem is false."
   ]
  },
  {
   "cell_type": "code",
   "execution_count": 13,
   "id": "491726a5-5be3-4fe9-9333-53dbfd9a3434",
   "metadata": {},
   "outputs": [
    {
     "name": "stdout",
     "output_type": "stream",
     "text": [
      "0 0 0 0 0 0 0 0 0\n",
      "0 0 0 0 0 0 0 0 0 0 0 0 0 0 0 0\n",
      "0 4 4 0"
     ]
    }
   ],
   "source": [
    "Thm T2? : sample.atom : 3 \n",
    "Thm T2? : (:a a) (:a a a) (:a) (:) \n",
    "Thm T2? : (:a) (:b) "
   ]
  },
  {
   "cell_type": "markdown",
   "id": "27dad5ca-24e2-4e39-b801-3d8a273cc2f5",
   "metadata": {},
   "source": [
    "## Theorems that barely make it\n",
    "\n",
    "Now we come to a more subtle phenomena.  Consider the data \n",
    "\n",
    "* (rev : rev : x?) = x?\n",
    "\n",
    "where \"rev\" reverses order. Is this a theorem?  Let's explore..."
   ]
  },
  {
   "cell_type": "code",
   "execution_count": 14,
   "id": "d332222a-4c29-4189-864d-a9eb16a11479",
   "metadata": {},
   "outputs": [
    {
     "name": "stdout",
     "output_type": "stream",
     "text": []
    }
   ],
   "source": [
    "Let T3 : (rev : rev : x?) = x?"
   ]
  },
  {
   "cell_type": "code",
   "execution_count": 17,
   "id": "0e19774e-f9dc-476a-9395-efc700bed31b",
   "metadata": {},
   "outputs": [
    {
     "name": "stdout",
     "output_type": "stream",
     "text": []
    }
   ],
   "source": [
    "#\n",
    "#   Prepare some samples for testing purposes \n",
    "#   \n",
    "#   S1: hydrogen atoms\n",
    "#   S2: more general atoms mix \n",
    "#   S3: pure data mix\n",
    "#   S4: mix with operators and language.\n",
    "#\n",
    "Let S1 : sample.atom : 5\n",
    "Let S2 : permutation 3 : a b 0 1 \n",
    "Let S3 : sample.pure : 2 2 \n",
    "Let S4 : sample.data <A> <B> <{$}> 0 1 a b (defs:Basic) : 2 2 "
   ]
  },
  {
   "cell_type": "code",
   "execution_count": 18,
   "id": "8d38d9b9-754e-4f7b-928e-203c8b6077e9",
   "metadata": {},
   "outputs": [
    {
     "name": "stdout",
     "output_type": "stream",
     "text": [
      "0 0 0 0 0\n",
      "0 0 0 0 0 0 0 0 0 0 0 0 0 0 0 0 0 0 0 0 0 0 0 0 0 0 0 0 0 0 0 0 0 0 0 0 0 0 0 0 0 0 0 0 0 0 0 0 0 0 0 0 0 0 0 0 0 0 0 0 0 0 0 0\n",
      "0 0 0 0 0 0 0 0 0 0 0 0 0 0 0 0 0 0 0 0 0 0 0 0 0 0 0 0 0 0 0 0 0 0 0 0 0 0 0 0 0 0 0 0 0 0 0 0 0 0 0 0 0 0 0 0 0 0 0 0 0 0 0 0 0 0 0 0 0 0 0 0 0 0 0 0 0 0 0 0 0 0 0 0 0 0 0 0 0 0 0\n",
      "0 0 0 0 0 0 0 0 0 0 0 0 0 0 0 0 0 0 0 0 0 0 0 0 0 0 0 0 0 0 0 0 0"
     ]
    }
   ],
   "source": [
    "Thm T3? : S1?\n",
    "Thm T3? : S2? \n",
    "Thm T3? : S3?\n",
    "Thm T3? : S4?"
   ]
  },
  {
   "cell_type": "markdown",
   "id": "6aab8ed8-5d51-4181-bf3a-7e473fc0f5ea",
   "metadata": {},
   "source": [
    "A reasonable variety of data gives some indication that T3? is actually true. \n",
    "However, notice that the S1/2/3/4 samples are all finite data.  Notice what happens when we test if T3? is true with an infinite sequence like the natural numbers (nat:0)."
   ]
  },
  {
   "cell_type": "code",
   "execution_count": 19,
   "id": "bfc7cfbc-c0af-426e-bae0-cc0756f5b0a8",
   "metadata": {},
   "outputs": [
    {
     "name": "stdout",
     "output_type": "stream",
     "text": [
      "(ap {count:get with:B}:(ap eval1:(ap {with (right:B):A} (= (rev:(rev:(x:))):(x:)):(assign (= (rev:(rev:(x:))):(x:)):0 1 2 3 4 5 6 7 8 9 10 11 12 13 14 15 16 17 18 19 20 21 22 23 24 25 26 27 28 29 30 31 32 33 34 35 36 37 38 39 40 41 42 43 44 45 46 47 48 49 50 51 52 53 54 55 56 57 58 59 60 61 62 63 64 65 66 67 68 69 70 71 72 73 74 75 76 77 78 79 80 81 82 83 84 85 86 87 88 89 90 91 92 93 94 95 (nat:96)))))"
     ]
    }
   ],
   "source": [
    "Thm T3? : nat:0 "
   ]
  },
  {
   "cell_type": "code",
   "execution_count": 23,
   "id": "e786ffea-825b-430d-b4ad-e8d7005ffb36",
   "metadata": {},
   "outputs": [
    {
     "name": "stdout",
     "output_type": "stream",
     "text": [
      "0 1 2 3 4 5 6 7 8 9 10 11 12 13 14 15 16 17 18 19 20 21 22 23 24 25 26 27 28 29 30 31 32 33 34 35 36 37 38 39 40 41 42 43 44 45 46 47 48 49 50 51 52 53 54 55 56 57 58 59 60 61 62 63 64 65 66 67 68 69 70 71 72 73 74 75 76 77 78 79 80 81 82 83 84 85 86 87 88 89 90 91 92 93 94 95 (rev:(rev:96)) (rev:(rev:(nat:97)))"
     ]
    }
   ],
   "source": [
    "#\n",
    "#   The issue is clear if we look at (rev:rev:nat:0).\n",
    "#\n",
    "#   You can see that this is just the natural numbers except for some unresolved data \n",
    "#   at the end of the sequence. \n",
    "#\n",
    "rev:rev:nat:0"
   ]
  },
  {
   "cell_type": "code",
   "execution_count": 25,
   "id": "1fc29733-2be2-438f-8564-7079510e0e42",
   "metadata": {},
   "outputs": [
    {
     "name": "stdout",
     "output_type": "stream",
     "text": [
      "(with:0 1 2 3 4 5 6 7 8 9 10 11 12 13 14 15 16 17 18 19 20 21 22 23 24 25 26 27 28 29 30 31 32 33 34 35 36 37 38 39 40 41 42 43 44 45 46 47 48 49 50 51 52 53 54 55 56 57 58 59 60 61 62 63 64 65 66 67 68 69 70 71 72 73 74 75 76 77 78 79 80 81 82 83 84 85 86 87 88 89 90 91 92 93 94 95 96 97 98 99 100 101 102 103 104 105 106 107 108 109 110 111 112 113 114 115 116 117 118 119 120 121 122 123 124 125 126 127 128 129 130 131 132 133 134 135 136 137 138 139 140 141 142 143 144 145 146 147 148 149 150 151 152 153 154 155 156 157 158 159 160 161 162 163 164 165 166 167 168 169 170 171 172 173 174 175 176 177 178 179 180 181 182 183 184 185 186 187 188 189 190 191 192 193 194 195 196 (rev:(rev:197)) (rev:(rev:(nat:198))))"
     ]
    }
   ],
   "source": [
    "#\n",
    "#   Increasing the depth of evaluation makes no essential difference. \n",
    "#\n",
    "eval 200 : with : rev:rev:nat:0"
   ]
  },
  {
   "cell_type": "code",
   "execution_count": 27,
   "id": "8317203e-3fe2-4f74-9111-79ef4392380c",
   "metadata": {},
   "outputs": [
    {
     "name": "stdout",
     "output_type": "stream",
     "text": [
      "(bool:(= 92:92) (= (rev:(rev:93)) (rev:(rev:(nat:94))):93 94 95 (nat:96)))"
     ]
    }
   ],
   "source": [
    "#\n",
    "#    Thus, (rev:rev:nat:0) is strictly not equal to (nat:0).  However, it is \n",
    "#    'almost equal' in the sense that the following is never false.\n",
    "#\n",
    "(rev:rev:nat:0)=(nat:0)"
   ]
  },
  {
   "cell_type": "markdown",
   "id": "719c7fe9-8a99-4fd1-b446-a45afd4f98e3",
   "metadata": {
    "tags": []
   },
   "source": [
    "## Just barely theorems, and the axiom of choice\n",
    "\n",
    "It is clear that rev:rev:nat:0 is \"trying to be\" equal to nat:0, but, since rev:rev:nat:0 always ends with undecided data, we have \n",
    "\n",
    "1. rev:rev:nat:0 and nat:0 are **not** equal.\n",
    "2. Nevertheless, (rev:rev:nat:0)=(nat:0) **is** a theorem, since it is never false.\n",
    "3. (rev:rev:x?)=x? is a theorem in general.\n",
    "\n",
    "Note that this clarifies a global issue with math as we are proposing it.  We have only one axiom, so there is no issue about what are the correct axioms, whether to include the axiom of choice or not or whether more new axioms will someday be required.  We don't have any of these issues. The point, I think is that *all* \"just barely theorems\" like this one are fine to use in the sense that replacing (rev:rev:x?) with (x?) can never change the logical value of data.    "
   ]
  }
 ],
 "metadata": {
  "kernelspec": {
   "display_name": "coda",
   "language": "",
   "name": "coda"
  },
  "language_info": {
   "file_extension": ".co",
   "mimetype": "text/plain",
   "name": "Any text"
  }
 },
 "nbformat": 4,
 "nbformat_minor": 5
}
