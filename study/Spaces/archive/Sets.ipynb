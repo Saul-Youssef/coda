{
 "cells": [
  {
   "cell_type": "markdown",
   "id": "9d99b95b-c79e-4f2c-8bca-04c64fcd2765",
   "metadata": {},
   "source": [
    "## Set and set-like spaces\n",
    "\n",
    "Lots of mathematics is defined as sets with additional structure.  A group, for instance, is a set with a binary operator. \n",
    "Here we explore making sets in various ways in coda. \n",
    "\n"
   ]
  },
  {
   "cell_type": "markdown",
   "id": "531d8e09-5648-4db9-89b4-95d716b23914",
   "metadata": {},
   "source": [
    "Let's consider the set S = {1,2,3} and look at related structures in coda.  \n",
    "\n",
    "\"Consider the set {1,2,3}\" is typical of a mathematical statement in that it is not quite precise.  Does it mean the character \"2\" or the number 2? Are 1,2,3 numbers in the sense of a ring? Abelian group? Ordered set?  \n",
    "\n",
    "Let's explore, keeping these issues in mind.  "
   ]
  },
  {
   "cell_type": "markdown",
   "id": "e75056e6-6a8d-478e-9a47-7cef8c67dd69",
   "metadata": {},
   "source": [
    "## Spaces as Sets \n",
    "\n",
    "The natural and more suitable structure for set roles is the coda concept of a *space*.  \n",
    "\n",
    "- Data A is a *space* if A : X Y = A : (A:X) Y = A : X (A:Y) for all data X and all data Y.\n",
    "\n",
    "Spaces are already sets *with* additional structure.  Every space A is set in the sense that it represents the collection of data A:X for any data X.  If we define a binary product \n",
    "\n",
    "- (A:X) \\* (A:Y) &rightarrow; A:X Y \n",
    "\n",
    "This is automatically a monoid because \\* is associative and because A always has a neutral element (A:) where \n",
    "\n",
    "- (A:) \\* (A:X) = (A:X) * (A:) = (A:X) \n",
    "\n",
    "for any space A and for any data X.  \n",
    "\n"
   ]
  },
  {
   "cell_type": "code",
   "execution_count": 1,
   "id": "c497935f-6123-4bbb-b8f8-055a01db6941",
   "metadata": {},
   "outputs": [
    {
     "name": "stdout",
     "output_type": "stream",
     "text": []
    }
   ],
   "source": [
    "#\n",
    "#   S1 : sequences of 1,2,3,4 \n",
    "#   S2 : sequences of 1,2,3,4 without repetition\n",
    "#   S3 : subsets of 1,2,3,4 \n",
    "#   S4 : (), 1, 2, 3 or 4.\n",
    "#\n",
    "def S1 : in 1 2 3 4\n",
    "def S2 : once * in 1 2 3 4\n",
    "def S3 : code_sort * once * in 1 2 3 4\n",
    "def S4 : first * in 1 2 3 4"
   ]
  },
  {
   "cell_type": "markdown",
   "id": "a0bf02f5-ce4a-4f25-95f2-eab7a2587bd1",
   "metadata": {},
   "source": [
    "\n",
    "|    Space   |   Description                       |      Typical data  |              Operation   |   Neutral data  |\n",
    "|------------|-------------------------------------|--------------------|--------------------------|-----------------|\n",
    "|    S1      | Finite sequences                    |  3 1 2 2 1, 2 2 3  |    Concatenation         |   ()            |\n",
    "|    S2      | Finite sequences without repetition | 1 2, 2 3 4         |    Concatenation         |   ()            |\n",
    "|    S3      | Subsets                             | {1,2}, {}, {1,3,4} |    Set union             |   ()            |\n",
    "|    S4      | (), 1, 2, 3 or 4                    | (), 1, 2, 3, 4     |    x*y &rightarrow; x    |   ()            |\n",
    "\n",
    "\n"
   ]
  },
  {
   "cell_type": "code",
   "execution_count": 2,
   "id": "73cd1502-e848-4ab9-baea-1198baef3b94",
   "metadata": {},
   "outputs": [
    {
     "name": "stdout",
     "output_type": "stream",
     "text": []
    }
   ],
   "source": [
    "let 1 : ap {put bin B:} : first 10 : nat : 0 "
   ]
  },
  {
   "cell_type": "code",
   "execution_count": 3,
   "id": "5cffc6a5-91b1-4895-93f2-eb904c0f5ac7",
   "metadata": {},
   "outputs": [
    {
     "name": "stdout",
     "output_type": "stream",
     "text": [
      "(bin 0:) (bin 1:) (bin 2:) (bin 3:) (bin 4:) (bin 5:) (bin 6:) (bin 7:) (bin 8:) (bin 9:)"
     ]
    }
   ],
   "source": [
    "1?"
   ]
  },
  {
   "cell_type": "code",
   "execution_count": 4,
   "id": "a9eb30c4-9c47-401a-9bff-ed332a167e6d",
   "metadata": {},
   "outputs": [
    {
     "name": "stdout",
     "output_type": "stream",
     "text": []
    }
   ],
   "source": [
    "def f : {put B : last : first 100 : nat : left:B}"
   ]
  },
  {
   "cell_type": "code",
   "execution_count": 5,
   "id": "dd85a830-4170-4ae5-acb1-68110b880857",
   "metadata": {},
   "outputs": [
    {
     "name": "stdout",
     "output_type": "stream",
     "text": [
      "((bin 0:):99) ((bin 1:):100) ((bin 2:):101) ((bin 3:):102) ((bin 4:):103) ((bin 5:):104) ((bin 6:):105) ((bin 7:):106) ((bin 8:):107) ((bin 9:):108)"
     ]
    }
   ],
   "source": [
    "ap f : 1?"
   ]
  },
  {
   "cell_type": "code",
   "execution_count": 6,
   "id": "14eded66-8bd5-4b6e-9987-4718b8f4ad85",
   "metadata": {},
   "outputs": [
    {
     "name": "stdout",
     "output_type": "stream",
     "text": [
      "((bin 0:):99) ((bin 1:):100) ((bin 2:):101) ((bin 3:):102) ((bin 4:):103) ((bin 5:):104) ((bin 6:):105) ((bin 7:):106) ((bin 8:):107) ((bin 9:):108)"
     ]
    }
   ],
   "source": [
    "multi : ap f : 1?"
   ]
  },
  {
   "cell_type": "code",
   "execution_count": null,
   "id": "4d1d504f-0a6d-4e10-8028-547f0d9ca43d",
   "metadata": {},
   "outputs": [],
   "source": []
  }
 ],
 "metadata": {
  "kernelspec": {
   "display_name": "coda",
   "language": "",
   "name": "coda"
  },
  "language_info": {
   "file_extension": ".co",
   "mimetype": "text/plain",
   "name": "Any text"
  }
 },
 "nbformat": 4,
 "nbformat_minor": 5
}
