{
 "cells": [
  {
   "cell_type": "markdown",
   "id": "2754b97f-5093-41a1-8852-96f0db6d9db3",
   "metadata": {},
   "source": [
    "## The space of natural numbers "
   ]
  },
  {
   "cell_type": "code",
   "execution_count": 1,
   "id": "def784b3-2c16-4f31-a507-e1d88d214417",
   "metadata": {},
   "outputs": [
    {
     "name": "stdout",
     "output_type": "stream",
     "text": []
    }
   ],
   "source": [
    "import : endswith natural.co : dir co : .  "
   ]
  },
  {
   "cell_type": "code",
   "execution_count": 2,
   "id": "37118d16-09a4-4664-9609-353974b99606",
   "metadata": {},
   "outputs": [
    {
     "name": "stdout",
     "output_type": "stream",
     "text": []
    }
   ],
   "source": [
    "Let a : n.make : 0 \n",
    "Let b : n.make : 1  \n",
    "Let c : n.make : 1 2  \n",
    "Let d : n.make : 45 "
   ]
  },
  {
   "cell_type": "code",
   "execution_count": 3,
   "id": "9c24b92e-e1b6-44b4-9916-78735be66b44",
   "metadata": {},
   "outputs": [
    {
     "name": "stdout",
     "output_type": "stream",
     "text": [
      "(n:0)\n",
      "(n:1)\n",
      "(n:1) (n:2)\n",
      "(n:45)"
     ]
    }
   ],
   "source": [
    "a? \n",
    "b? \n",
    "c?\n",
    "d? "
   ]
  },
  {
   "cell_type": "code",
   "execution_count": 4,
   "id": "124f86da-98e8-47d3-a334-dece818c5b2f",
   "metadata": {},
   "outputs": [
    {
     "name": "stdout",
     "output_type": "stream",
     "text": [
      "(n:0)\n",
      "(n:0)\n",
      "(n:1)\n",
      "(n:4)\n",
      "(n:49)"
     ]
    }
   ],
   "source": [
    "n.sum : \n",
    "n.sum : a? \n",
    "n.sum : a? b? \n",
    "n.sum : a? b? c?\n",
    "n.sum : a? b? c? d? "
   ]
  },
  {
   "cell_type": "code",
   "execution_count": 5,
   "id": "8967a80f-5677-4991-9074-bab217f132a9",
   "metadata": {},
   "outputs": [
    {
     "name": "stdout",
     "output_type": "stream",
     "text": [
      "(n:1)\n",
      "(n:0)\n",
      "(n:1)\n",
      "(n:2)\n",
      "(n:90)"
     ]
    }
   ],
   "source": [
    "n.prod :\n",
    "n.prod : a? b? \n",
    "n.prod : b? \n",
    "n.prod : b? c? \n",
    "n.prod : b? c? d?"
   ]
  },
  {
   "cell_type": "code",
   "execution_count": 6,
   "id": "8736ce0f-5d34-4968-b7e7-9c22d90e9dfe",
   "metadata": {},
   "outputs": [
    {
     "name": "stdout",
     "output_type": "stream",
     "text": [
      "(n:0)\n",
      "(n:24)\n",
      "(n:0)\n",
      "(n:90)\n",
      "(n:180)\n",
      "(n:90)\n",
      "(n:180)"
     ]
    }
   ],
   "source": [
    "n.ring : \n",
    "n.ring (n:1) (n:3) : (n:2) (n:2) (n:4)\n",
    "n.ring (n:0) : (n:45) (n:45)\n",
    "n.ring (n:1) : (n:45) (n:45)\n",
    "n.ring (n:2) : (n:45) (n:45)\n",
    "n.ring (n:1) (n:1) : (n:45) (n:45)\n",
    "n.ring (n:1) (n:2) : (n:45) (n:45)"
   ]
  },
  {
   "cell_type": "code",
   "execution_count": 7,
   "id": "881c7fa1-8e1b-4627-b3d7-da40db988d2d",
   "metadata": {},
   "outputs": [
    {
     "name": "stdout",
     "output_type": "stream",
     "text": []
    }
   ],
   "source": [
    "Let F : end.make n.ring : {B B B}"
   ]
  },
  {
   "cell_type": "code",
   "execution_count": 8,
   "id": "6ec40ace-37ec-49b3-b2ac-253e82529d49",
   "metadata": {},
   "outputs": [
    {
     "name": "stdout",
     "output_type": "stream",
     "text": [
      "(n:18)"
     ]
    }
   ],
   "source": [
    "end.app F? : (n:1) (n:2) (n:3) "
   ]
  },
  {
   "cell_type": "code",
   "execution_count": 9,
   "id": "f1e707bb-c9e0-4516-8094-3aca5c18b057",
   "metadata": {},
   "outputs": [
    {
     "name": "stdout",
     "output_type": "stream",
     "text": [
      "(n:135)"
     ]
    }
   ],
   "source": [
    "end.app F? : (n:45)"
   ]
  },
  {
   "cell_type": "code",
   "execution_count": 10,
   "id": "3aa035b1-0e4c-418a-bbdd-8188a4aff5d9",
   "metadata": {},
   "outputs": [
    {
     "name": "stdout",
     "output_type": "stream",
     "text": []
    }
   ],
   "source": [
    "Let G: end.make n.ring : end.sum n.ring "
   ]
  },
  {
   "cell_type": "code",
   "execution_count": 11,
   "id": "538d0f18-1911-41ad-833d-a7ac7db0feba",
   "metadata": {},
   "outputs": [
    {
     "name": "stdout",
     "output_type": "stream",
     "text": []
    }
   ],
   "source": [
    "Let H: end.make n.ring : n.sum "
   ]
  },
  {
   "cell_type": "code",
   "execution_count": 12,
   "id": "9a87b160-d3f8-4300-afa0-dc31d208988f",
   "metadata": {},
   "outputs": [
    {
     "name": "stdout",
     "output_type": "stream",
     "text": [
      "(n:13)"
     ]
    }
   ],
   "source": [
    "end.app H? : (n:12) (n:1)"
   ]
  },
  {
   "cell_type": "code",
   "execution_count": 13,
   "id": "54d5d3bc-43ca-4f98-8322-bf0df75e35c9",
   "metadata": {},
   "outputs": [
    {
     "name": "stdout",
     "output_type": "stream",
     "text": []
    }
   ],
   "source": [
    "Let h : end.app H?"
   ]
  },
  {
   "cell_type": "code",
   "execution_count": 14,
   "id": "0f3493aa-7a6d-4dbb-b3f9-6cf333b98b9a",
   "metadata": {},
   "outputs": [
    {
     "name": "stdout",
     "output_type": "stream",
     "text": [
      "(n:4)"
     ]
    }
   ],
   "source": [
    "h? : (h? : (n:1)) (h? : (n:1) (n:2))"
   ]
  },
  {
   "cell_type": "code",
   "execution_count": 15,
   "id": "9739f3a7-faa8-4de5-aad6-87dd0376730c",
   "metadata": {},
   "outputs": [
    {
     "name": "stdout",
     "output_type": "stream",
     "text": [
      "(n:4)"
     ]
    }
   ],
   "source": [
    "h? : (n:1) (n:1) (n:2)"
   ]
  },
  {
   "cell_type": "code",
   "execution_count": 16,
   "id": "9bc3e624-b0e5-404d-9016-671de0898a00",
   "metadata": {},
   "outputs": [
    {
     "name": "stdout",
     "output_type": "stream",
     "text": [
      "(n:2)"
     ]
    }
   ],
   "source": [
    "h? : (n:1) (n:1)"
   ]
  },
  {
   "cell_type": "code",
   "execution_count": 17,
   "id": "cae6ee38-c043-4e0e-b987-789399e424a4",
   "metadata": {},
   "outputs": [
    {
     "name": "stdout",
     "output_type": "stream",
     "text": [
      "end.app (:product (:n.ring) (:n.sum) (:n.ring))"
     ]
    }
   ],
   "source": [
    "h?"
   ]
  },
  {
   "cell_type": "code",
   "execution_count": 18,
   "id": "c7171787-0101-46ed-b14c-2dac6b346833",
   "metadata": {},
   "outputs": [
    {
     "name": "stdout",
     "output_type": "stream",
     "text": [
      "(n:1)"
     ]
    }
   ],
   "source": [
    "product (:n.ring) (:n.sum) (:n.ring) : (n:1)"
   ]
  },
  {
   "cell_type": "code",
   "execution_count": 19,
   "id": "501b86b6-52e9-4c10-a5ec-37f4fa8d86f2",
   "metadata": {},
   "outputs": [
    {
     "name": "stdout",
     "output_type": "stream",
     "text": [
      "(n:90)"
     ]
    }
   ],
   "source": [
    "n.ring * n.sum * n.ring (n:45) : (n:2)"
   ]
  },
  {
   "cell_type": "code",
   "execution_count": 20,
   "id": "288e1ec5-51dd-4eb5-8331-c4ba4d63f123",
   "metadata": {},
   "outputs": [
    {
     "name": "stdout",
     "output_type": "stream",
     "text": [
      "(n:13)"
     ]
    }
   ],
   "source": [
    "product (:n.ring) (:n.sum) (:n.ring) : (n:12) (n:1)"
   ]
  },
  {
   "cell_type": "code",
   "execution_count": 21,
   "id": "27af18e4-7f00-48d2-a768-da8cf86a90da",
   "metadata": {
    "tags": []
   },
   "outputs": [
    {
     "name": "stdout",
     "output_type": "stream",
     "text": [
      "(n:13)"
     ]
    }
   ],
   "source": [
    "n.ring * n.sum * n.ring : (n:12) (n:1)"
   ]
  },
  {
   "cell_type": "code",
   "execution_count": 22,
   "id": "214b9c54-0999-4ad2-921b-b367cd4024fd",
   "metadata": {},
   "outputs": [
    {
     "name": "stdout",
     "output_type": "stream",
     "text": [
      "(n:90)"
     ]
    }
   ],
   "source": [
    "(prod (n:45) : (:n.ring) (:n.sum) (:n.ring)) : (n:2)"
   ]
  },
  {
   "cell_type": "code",
   "execution_count": 23,
   "id": "6b434ced-383f-42f0-8503-d5d40a2cfd7b",
   "metadata": {
    "tags": []
   },
   "outputs": [
    {
     "name": "stdout",
     "output_type": "stream",
     "text": []
    }
   ],
   "source": [
    "Let f : end.make n.ring : {B B B}"
   ]
  },
  {
   "cell_type": "code",
   "execution_count": 24,
   "id": "3952cdad-5b3f-4582-bd77-0cfb5e9ab1cf",
   "metadata": {},
   "outputs": [
    {
     "name": "stdout",
     "output_type": "stream",
     "text": [
      "(n:108)"
     ]
    }
   ],
   "source": [
    "end.app (end.prod : f? f?) : (n:12)"
   ]
  },
  {
   "cell_type": "code",
   "execution_count": 25,
   "id": "edfea4ce-91f7-4ec0-ba2e-7e36fe22eb8d",
   "metadata": {},
   "outputs": [
    {
     "name": "stdout",
     "output_type": "stream",
     "text": [
      "(:product)"
     ]
    }
   ],
   "source": [
    "end.prod : "
   ]
  },
  {
   "cell_type": "code",
   "execution_count": 26,
   "id": "41ded0fe-e6bc-4e57-a342-f5cf2fa9f179",
   "metadata": {},
   "outputs": [
    {
     "name": "stdout",
     "output_type": "stream",
     "text": [
      "product"
     ]
    }
   ],
   "source": [
    "prod :"
   ]
  },
  {
   "cell_type": "code",
   "execution_count": 27,
   "id": "4daf7c6f-82cf-47ef-a8b0-c2826c4fdaf5",
   "metadata": {},
   "outputs": [
    {
     "name": "stdout",
     "output_type": "stream",
     "text": [
      "a b c"
     ]
    }
   ],
   "source": [
    "product : a b c "
   ]
  },
  {
   "cell_type": "code",
   "execution_count": 28,
   "id": "d2427984-3ea9-4bc8-a1c7-119af371d7d6",
   "metadata": {},
   "outputs": [
    {
     "name": "stdout",
     "output_type": "stream",
     "text": [
      "a b c"
     ]
    }
   ],
   "source": [
    "(prod :) : a b c "
   ]
  },
  {
   "cell_type": "code",
   "execution_count": 29,
   "id": "f1c9234a-f269-44ad-946c-c82639bb8828",
   "metadata": {},
   "outputs": [
    {
     "name": "stdout",
     "output_type": "stream",
     "text": [
      "(n:36)"
     ]
    }
   ],
   "source": [
    "end.app (end.sum : f? ) : (n:12)"
   ]
  },
  {
   "cell_type": "code",
   "execution_count": 30,
   "id": "2811afa4-5efb-4f75-8606-ed18857584fb",
   "metadata": {},
   "outputs": [
    {
     "name": "stdout",
     "output_type": "stream",
     "text": [
      "(:product (:product (:n.ring) (:{B B B}) (:n.ring)))"
     ]
    }
   ],
   "source": [
    "end.prod : f?"
   ]
  },
  {
   "cell_type": "code",
   "execution_count": 31,
   "id": "5a21f00d-53a9-42bf-9ef9-5c86760283e9",
   "metadata": {},
   "outputs": [
    {
     "name": "stdout",
     "output_type": "stream",
     "text": [
      "(:sum (:product (:n.ring) (:{B B B}) (:n.ring)))"
     ]
    }
   ],
   "source": [
    "end.sum : f?"
   ]
  },
  {
   "cell_type": "code",
   "execution_count": 32,
   "id": "d2b6f8be-8761-4b48-9b65-969ae0c90a1f",
   "metadata": {},
   "outputs": [
    {
     "name": "stdout",
     "output_type": "stream",
     "text": [
      "(n:324)"
     ]
    }
   ],
   "source": [
    "end.app (end.prod:f? f? f?) : (n:12)"
   ]
  },
  {
   "cell_type": "code",
   "execution_count": 33,
   "id": "56ae960e-23ef-4b50-ae49-1491ab57de82",
   "metadata": {},
   "outputs": [
    {
     "name": "stdout",
     "output_type": "stream",
     "text": [
      "(n:36) (n:36)"
     ]
    }
   ],
   "source": [
    "end.app (end.sum : f? f?) : (n:12)"
   ]
  },
  {
   "cell_type": "code",
   "execution_count": 34,
   "id": "75d8d5ef-21e0-4c39-af36-38e8c04c0c89",
   "metadata": {},
   "outputs": [
    {
     "name": "stdout",
     "output_type": "stream",
     "text": [
      "(n:36) (n:36) (n:36)"
     ]
    }
   ],
   "source": [
    "end.app (end.ring f? : f? f?) : (n:12)"
   ]
  },
  {
   "cell_type": "code",
   "execution_count": 35,
   "id": "6efd3454-49de-43d2-82bc-61ae0e880587",
   "metadata": {},
   "outputs": [
    {
     "name": "stdout",
     "output_type": "stream",
     "text": [
      "(:product (:n.ring) (:{B B B}) (:n.ring))"
     ]
    }
   ],
   "source": [
    "end.make n.ring : {B B B}"
   ]
  },
  {
   "cell_type": "code",
   "execution_count": 36,
   "id": "77f10992-57e0-4dd6-835d-7fe12dd50900",
   "metadata": {},
   "outputs": [
    {
     "name": "stdout",
     "output_type": "stream",
     "text": [
      "(:product (:sum (:product (:sum (:product (:n.ring) (:{B B B}) (:n.ring))))))"
     ]
    }
   ],
   "source": [
    "end.ring:end.ring:f?"
   ]
  },
  {
   "cell_type": "code",
   "execution_count": 37,
   "id": "bddaab0d-7c13-45bc-a8c9-aeb2fa868c74",
   "metadata": {},
   "outputs": [
    {
     "name": "stdout",
     "output_type": "stream",
     "text": [
      "(:product (:sum (:product (:n.ring) (:{B B B}) (:n.ring))))"
     ]
    }
   ],
   "source": [
    "end.ring:f?"
   ]
  },
  {
   "cell_type": "code",
   "execution_count": 38,
   "id": "c1402174-3ac5-466b-b2e9-2c3944048f5e",
   "metadata": {},
   "outputs": [
    {
     "name": "stdout",
     "output_type": "stream",
     "text": [
      "(n:36)"
     ]
    }
   ],
   "source": [
    "end.app (end.ring:end.ring:f?) : (n:12)"
   ]
  },
  {
   "cell_type": "code",
   "execution_count": 39,
   "id": "abe38afa-8137-4db0-a3cf-2115ba7524b6",
   "metadata": {},
   "outputs": [
    {
     "name": "stdout",
     "output_type": "stream",
     "text": [
      "(n:36)"
     ]
    }
   ],
   "source": [
    "end.app f? : (n:12)"
   ]
  },
  {
   "cell_type": "code",
   "execution_count": null,
   "id": "cd45a9e3-a0ad-4764-a2a8-9e8264e0fa79",
   "metadata": {},
   "outputs": [],
   "source": []
  }
 ],
 "metadata": {
  "kernelspec": {
   "display_name": "coda",
   "language": "",
   "name": "coda"
  },
  "language_info": {
   "file_extension": ".co",
   "mimetype": "text/plain",
   "name": "Any text"
  }
 },
 "nbformat": 4,
 "nbformat_minor": 5
}
