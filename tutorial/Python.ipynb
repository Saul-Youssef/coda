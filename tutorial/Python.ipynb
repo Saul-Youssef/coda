{
 "cells": [
  {
   "cell_type": "code",
   "execution_count": 1,
   "id": "ef1d1185-9a43-4551-9368-df15b3785351",
   "metadata": {},
   "outputs": [],
   "source": [
    "import base,Language,Evaluate"
   ]
  },
  {
   "cell_type": "code",
   "execution_count": null,
   "id": "24cef05f-83c4-4aed-973c-90f4961286fe",
   "metadata": {},
   "outputs": [],
   "source": []
  },
  {
   "cell_type": "code",
   "execution_count": 10,
   "id": "95b0921a-238f-46de-a4a8-d56e60a9a5cc",
   "metadata": {
    "tags": []
   },
   "outputs": [],
   "source": [
    "D = Language.lang('make fn : make path : dir : .',base.data(),base.data())\n",
    "D,n = Evaluate.depth(D,100)"
   ]
  },
  {
   "cell_type": "code",
   "execution_count": 3,
   "id": "155b303b-146c-4454-9a47-e48a873f1a3e",
   "metadata": {},
   "outputs": [],
   "source": [
    "import statistic"
   ]
  },
  {
   "cell_type": "code",
   "execution_count": 19,
   "id": "f69c3d06-6a20-4e47-af51-68161d7fda6b",
   "metadata": {},
   "outputs": [
    {
     "name": "stdout",
     "output_type": "stream",
     "text": [
      "{make path : dir : .} 3\n",
      "{make path } 3\n",
      "{ dir : .} 3\n",
      "{make path} 3\n",
      "{dir : .} 3\n",
      "{make} 5\n",
      "{path} 3\n",
      "{dir } 3\n",
      "{ .} 3\n",
      "{dir} 3\n",
      "{.} 3\n",
      "dir 6\n",
      "{make fn : make path : dir : .} 2\n",
      "{make fn } 2\n",
      "{ make path : dir : .} 2\n",
      "{make fn} 2\n",
      "{fn} 2\n",
      "{sum n : 1 2 x y 3.14 -99 3 4} 2\n",
      "{sum n } 2\n",
      "{ 1 2 x y 3.14 -99 3 4} 2\n",
      "{sum n} 2\n",
      "{1 2 x y 3.14 -99 3 4} 2\n",
      "{sum} 2\n",
      "{n} 2\n",
      "{1} 2\n",
      "{2 x y 3.14 -99 3 4} 2\n",
      "{2} 2\n",
      "{x y 3.14 -99 3 4} 2\n",
      "{x} 2\n",
      "{y 3.14 -99 3 4} 2\n",
      "{y} 2\n",
      "{3.14 -99 3 4} 2\n",
      "{3.14} 2\n",
      "{-99 3 4} 2\n",
      "{-99} 2\n",
      "{3 4} 2\n",
      "{3} 2\n",
      "{4} 2\n"
     ]
    }
   ],
   "source": [
    "statistic.STAT.display()"
   ]
  },
  {
   "cell_type": "code",
   "execution_count": 13,
   "id": "c54b4205-7265-4498-805a-a9fd74d62825",
   "metadata": {},
   "outputs": [
    {
     "data": {
      "text/plain": [
       "17"
      ]
     },
     "execution_count": 13,
     "metadata": {},
     "output_type": "execute_result"
    }
   ],
   "source": [
    "len(statistic.STAT._results)"
   ]
  },
  {
   "cell_type": "code",
   "execution_count": 17,
   "id": "eea129ec-e193-407e-a4eb-e35f72ac1e94",
   "metadata": {},
   "outputs": [],
   "source": [
    "D = Language.lang('sum n : 1 2 x y 3.14 -99 3 4',base.data(),base.data())"
   ]
  },
  {
   "cell_type": "code",
   "execution_count": 18,
   "id": "9bda45a5-287b-4fc8-b853-55fc70d55753",
   "metadata": {},
   "outputs": [],
   "source": [
    "D,n = Evaluate.depth(D,100)"
   ]
  },
  {
   "cell_type": "code",
   "execution_count": null,
   "id": "ea071aa8-8a1e-4e21-8ad4-48e149c19398",
   "metadata": {},
   "outputs": [],
   "source": []
  }
 ],
 "metadata": {
  "kernelspec": {
   "display_name": "Python 3 (ipykernel)",
   "language": "python",
   "name": "python3"
  },
  "language_info": {
   "codemirror_mode": {
    "name": "ipython",
    "version": 3
   },
   "file_extension": ".py",
   "mimetype": "text/x-python",
   "name": "python",
   "nbconvert_exporter": "python",
   "pygments_lexer": "ipython3",
   "version": "3.10.7"
  }
 },
 "nbformat": 4,
 "nbformat_minor": 5
}
