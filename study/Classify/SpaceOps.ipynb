{
 "cells": [
  {
   "cell_type": "code",
   "execution_count": 1,
   "id": "0f2fdf8f-c651-4f74-9562-b0030eb8dd31",
   "metadata": {},
   "outputs": [],
   "source": [
    "from Space import Space\n",
    "import Generate\n"
   ]
  },
  {
   "cell_type": "code",
   "execution_count": 7,
   "id": "3b8efd80-bf2c-443b-9008-194aa7b4bca7",
   "metadata": {},
   "outputs": [],
   "source": [
    "S = Generate.Gen(Generate.codas,3).space()"
   ]
  },
  {
   "cell_type": "code",
   "execution_count": 8,
   "id": "fdb3c237-9c5c-4985-8ee7-54d3fe67642e",
   "metadata": {},
   "outputs": [
    {
     "data": {
      "text/plain": [
       "eval: False, true: 0, false:0, undecided:0, codas:143, datas:11568"
      ]
     },
     "execution_count": 8,
     "metadata": {},
     "output_type": "execute_result"
    }
   ],
   "source": [
    "S"
   ]
  },
  {
   "cell_type": "code",
   "execution_count": 9,
   "id": "26e910f5-e202-4c9a-9656-330360eb7546",
   "metadata": {},
   "outputs": [],
   "source": [
    "Even = Generate.EvenAtoms(2)"
   ]
  },
  {
   "cell_type": "code",
   "execution_count": 10,
   "id": "6ae15ad0-67cf-4192-a080-f6f019975313",
   "metadata": {},
   "outputs": [],
   "source": [
    "S1 = S.apply(Even)"
   ]
  },
  {
   "cell_type": "code",
   "execution_count": 11,
   "id": "9e03ac6b-e6f2-4f3e-b6bc-bb25d5016102",
   "metadata": {},
   "outputs": [
    {
     "data": {
      "text/plain": [
       "eval: True, true: 5541, false:13792, undecided:3803, codas:23136, datas:23136"
      ]
     },
     "execution_count": 11,
     "metadata": {},
     "output_type": "execute_result"
    }
   ],
   "source": [
    "S1.eval(10)"
   ]
  },
  {
   "cell_type": "code",
   "execution_count": 16,
   "id": "bf2c98da-1c5a-4aa1-8cf2-9dca748c358f",
   "metadata": {},
   "outputs": [],
   "source": [
    "Ss = [X.apply(Even) for X in S.split(1000)]"
   ]
  },
  {
   "cell_type": "code",
   "execution_count": 17,
   "id": "aefe1a71-3a92-4573-870c-95c923c79543",
   "metadata": {},
   "outputs": [
    {
     "name": "stdout",
     "output_type": "stream",
     "text": [
      "eval: False, true: 0, false:0, undecided:0, codas:2000, datas:2000\n",
      "eval: False, true: 0, false:0, undecided:0, codas:2000, datas:2000\n",
      "eval: False, true: 0, false:0, undecided:0, codas:2000, datas:2000\n",
      "eval: False, true: 0, false:0, undecided:0, codas:2000, datas:2000\n",
      "eval: False, true: 0, false:0, undecided:0, codas:2000, datas:2000\n",
      "eval: False, true: 0, false:0, undecided:0, codas:2000, datas:2000\n",
      "eval: False, true: 0, false:0, undecided:0, codas:2000, datas:2000\n",
      "eval: False, true: 0, false:0, undecided:0, codas:2000, datas:2000\n",
      "eval: False, true: 0, false:0, undecided:0, codas:2000, datas:2000\n",
      "eval: False, true: 0, false:0, undecided:0, codas:2000, datas:2000\n",
      "eval: False, true: 0, false:0, undecided:0, codas:2000, datas:2000\n",
      "eval: False, true: 0, false:0, undecided:0, codas:1136, datas:1136\n"
     ]
    }
   ],
   "source": [
    "for X in Ss: print(X)"
   ]
  },
  {
   "cell_type": "code",
   "execution_count": 18,
   "id": "14b9fa02-e30b-4817-952d-778052da76b4",
   "metadata": {},
   "outputs": [],
   "source": [
    "def F(X): return X.eval(100)\n",
    "m = map(F,Ss)\n",
    "Ts = [T for T in m]"
   ]
  },
  {
   "cell_type": "code",
   "execution_count": 23,
   "id": "ac931eb3-638a-4d7c-a7f3-0207feb18032",
   "metadata": {},
   "outputs": [],
   "source": [
    "from functools import reduce \n",
    "R = reduce(lambda x,y:x+y,Ts)"
   ]
  },
  {
   "cell_type": "code",
   "execution_count": 24,
   "id": "863db484-ac4e-4074-8d87-3944885c1a6b",
   "metadata": {},
   "outputs": [
    {
     "data": {
      "text/plain": [
       "eval: False, true: 0, false:0, undecided:0, codas:23136, datas:23136"
      ]
     },
     "execution_count": 24,
     "metadata": {},
     "output_type": "execute_result"
    }
   ],
   "source": [
    "R"
   ]
  },
  {
   "cell_type": "code",
   "execution_count": null,
   "id": "27b905d0-b029-4b3a-8e84-4500e01ed5f0",
   "metadata": {},
   "outputs": [],
   "source": [
    "from multiprocessing import Pool\n",
    "with Pool() as pool:\n",
    "    results = pool.map(lambda T:T.eval(100),Ss)\n",
    "    R = reduce(lambda x,y:x+y,results)"
   ]
  },
  {
   "cell_type": "code",
   "execution_count": null,
   "id": "ce9f520b-782c-4f0a-8cfd-bb4354444e03",
   "metadata": {},
   "outputs": [],
   "source": []
  }
 ],
 "metadata": {
  "kernelspec": {
   "display_name": "Python 3 (ipykernel)",
   "language": "python",
   "name": "python3"
  },
  "language_info": {
   "codemirror_mode": {
    "name": "ipython",
    "version": 3
   },
   "file_extension": ".py",
   "mimetype": "text/x-python",
   "name": "python",
   "nbconvert_exporter": "python",
   "pygments_lexer": "ipython3",
   "version": "3.10.7"
  }
 },
 "nbformat": 4,
 "nbformat_minor": 5
}
