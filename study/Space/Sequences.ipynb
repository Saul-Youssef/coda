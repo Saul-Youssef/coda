{
 "cells": [
  {
   "cell_type": "markdown",
   "id": "72258f77-3555-4bda-8790-ff4be9b8b792",
   "metadata": {},
   "source": [
    "**Possibly infinite sequences**"
   ]
  },
  {
   "cell_type": "code",
   "execution_count": 1,
   "id": "92355cde-b2bb-402a-9f5f-1b90728af285",
   "metadata": {},
   "outputs": [
    {
     "name": "stdout",
     "output_type": "stream",
     "text": [
      "\u001b[;1mcode:\u001b[0m\n",
      "    \u001b[34;7mprod\u001b[0m\n",
      "\u001b[;1mmodule:\u001b[0m\n",
      "    Basic\n",
      "\u001b[;1msummary:\u001b[0m\n",
      "    product and sum\n",
      "\u001b[;1mdescription:\u001b[0m\n",
      "\u001b[;1mpath:\u001b[0m\n",
      "    /Users/youssef/coda/py/Basic.py\n",
      "\u001b[;1mdemos:\u001b[0m\n",
      "    1. \u001b[35;4msum (:pass) (:rev) (:first 2) : a b c d\u001b[0m\n",
      "    2. \u001b[35;4mprod (:pass) (:rev) (:first 2) : a b c d\u001b[0m\n"
     ]
    }
   ],
   "source": [
    "help : prod"
   ]
  },
  {
   "cell_type": "code",
   "execution_count": 2,
   "id": "48a35a63-55bd-4186-a544-c32c233949e3",
   "metadata": {},
   "outputs": [
    {
     "name": "stdout",
     "output_type": "stream",
     "text": [
      "a b c d d c b a a b"
     ]
    }
   ],
   "source": [
    "demo sum : 1"
   ]
  },
  {
   "cell_type": "code",
   "execution_count": 9,
   "id": "a5f5b8a8-8d5f-4380-bd97-d9644dcae168",
   "metadata": {},
   "outputs": [
    {
     "name": "stdout",
     "output_type": "stream",
     "text": [
      "(with:0 1 2 3 4 5 6 7 8 9 10 11 12 13 14 15 16 17 18 19 20 21 22 23 24 25 26 27 28 29 30 31 32 33 34 35 36 37 38 39 40 41 42 43 44 45 46 47 48 49 50 51 52 53 54 55 56 57 58 59 60 61 62 63 64 65 66 67 68 69 70 71 72 73 74 75 76 77 78 79 80 81 82 83 84 85 86 87 88 89 90 91 92 93 94 95 96 97 98 99 100 101 102 103 104 105 106 107 108 109 110 111 112 113 114 115 116 117 118 119 120 121 122 123 124 125 126 127 128 129 130 131 132 133 134 135 136 137 138 139 140 141 142 143 144 145 146 147 148 149 150 151 152 153 154 155 156 157 158 159 160 161 162 163 164 165 166 167 168 169 170 171 172 173 174 175 176 177 178 179 180 181 182 183 184 185 186 187 188 189 190 191 192 193 194 195 196 197 198 199 200 201 202 203 204 205 206 207 208 209 210 211 212 213 214 215 216 217 218 219 220 221 222 223 224 225 226 227 228 229 230 231 232 233 234 235 236 237 238 239 240 241 242 243 244 245 246 247 248 249 250 251 252 253 254 255 256 257 258 259 260 261 262 263 264 265 266 267 268 269 270 271 272 273 274 275 276 277 278 279 280 281 282 283 284 285 286 287 288 289 290 291 292 293 294 295 296 297 298 299 300 301 302 303 304 305 306 307 308 309 310 311 312 313 314 315 316 317 318 319 320 321 322 323 324 325 326 327 328 329 330 331 332 333 334 335 336 337 338 339 340 341 342 343 344 345 346 347 348 349 350 351 352 353 354 355 356 357 358 359 360 361 362 363 364 365 366 367 368 369 370 371 372 373 374 375 376 377 378 379 380 381 382 383 384 385 386 387 388 389 390 391 392 393 394 395 396 397 398 399 400 401 402 403 404 405 406 407 408 409 410 411 412 413 414 415 416 417 418 419 420 421 422 423 424 425 426 427 428 429 430 431 432 (nat:433))"
     ]
    }
   ],
   "source": [
    "do 1 : with : nat:0"
   ]
  },
  {
   "cell_type": "code",
   "execution_count": 1,
   "id": "edb4c865-9975-487e-8b55-444ebca2233c",
   "metadata": {},
   "outputs": [
    {
     "name": "stdout",
     "output_type": "stream",
     "text": []
    }
   ],
   "source": [
    "Def one : {1 (one:)}"
   ]
  },
  {
   "cell_type": "code",
   "execution_count": 3,
   "id": "bd9b7b7b-d6e2-418f-a667-a6795d6817cd",
   "metadata": {},
   "outputs": [
    {
     "name": "stdout",
     "output_type": "stream",
     "text": [
      "1 1 1 1 1 1 1 1 1 1 1 1 1 1 1 1 1 1 1 1 1 1 1 1 1 1 1 1 1 (({{1 (one:)}}:):({}:({}:({}:({}:({}:({}:({}:({}:({}:({}:({}:({}:({}:({}:({}:({}:({}:({}:({}:({}:({}:({}:({}:({}:({}:({}:({}:({}:({}:({5}:)))))))))))))))))))))))))))))))"
     ]
    }
   ],
   "source": [
    "one:5"
   ]
  },
  {
   "cell_type": "code",
   "execution_count": 4,
   "id": "73a27cf6-1e88-4d28-9eba-1be86be8a7e8",
   "metadata": {},
   "outputs": [
    {
     "name": "stdout",
     "output_type": "stream",
     "text": [
      "1 1 1 1 1 1 1 1 1 1 1 1 1 1 1 1 1 1 1 1 1 1 1 1 1 1 1 1 1 ({1}:({}:({}:({}:({}:({}:({}:({}:({}:({}:({}:({}:({}:({}:({}:({}:({}:({}:({}:({}:({}:({}:({}:({}:({}:({}:({}:({}:({}:({}:0)))))))))))))))))))))))))))))) ({(one:)}:({}:({}:({}:({}:({}:({}:({}:({}:({}:({}:({}:({}:({}:({}:({}:({}:({}:({}:({}:({}:({}:({}:({}:({}:({}:({}:({}:({}:({}:0)))))))))))))))))))))))))))))) 0 1 2 3 4 5 6 7 8 9 10 11 12 13 14 15 16 17 18 19 20 21 22 23 24 25 26 27 28 29 30 31 32 33 34 35 36 37 38 39 40 41 42 43 44 45 46 47 48 49 50 51 52 53 54 55 56 57 58 59 60 61 62 63 64 65 66 67 68 69 70 71 72 73 74 75 76 77 78 79 80 81 82 83 84 85 86 87 88 89 90 91 92 93 94 95 96 97 98 99 100 101 102 103 104 105 106 107 108 109 110 111 112 113 114 115 116 (nat:117)"
     ]
    }
   ],
   "source": [
    "one + nat : 0"
   ]
  },
  {
   "cell_type": "code",
   "execution_count": 6,
   "id": "4e57e33b-a27a-4de0-89d6-37f8bd427dd6",
   "metadata": {},
   "outputs": [
    {
     "name": "stdout",
     "output_type": "stream",
     "text": [
      "(:one) (:nat)"
     ]
    }
   ],
   "source": [
    "(:one) (:nat)"
   ]
  },
  {
   "cell_type": "code",
   "execution_count": 8,
   "id": "3baf9812-8277-4b78-aec9-c12ff6ab6c8f",
   "metadata": {},
   "outputs": [
    {
     "name": "stdout",
     "output_type": "stream",
     "text": [
      "(:a) (:b) (:c)"
     ]
    }
   ],
   "source": [
    "ap : a b c "
   ]
  },
  {
   "cell_type": "code",
   "execution_count": 9,
   "id": "4a40df8b-9d1f-44a8-80a2-32774a0af51a",
   "metadata": {},
   "outputs": [
    {
     "name": "stdout",
     "output_type": "stream",
     "text": [
      "(:a) (:b) (:c) (:d)"
     ]
    }
   ],
   "source": [
    "ap : a b c d "
   ]
  },
  {
   "cell_type": "code",
   "execution_count": 10,
   "id": "7c2ddfb2-e3aa-49d4-8fe4-5fec741a5662",
   "metadata": {},
   "outputs": [
    {
     "name": "stdout",
     "output_type": "stream",
     "text": [
      "(:(:a)) (:(:b)) (:(:c)) (:(:d))"
     ]
    }
   ],
   "source": [
    "ap : ap : a b c d "
   ]
  },
  {
   "cell_type": "code",
   "execution_count": null,
   "id": "97929598-baa9-4f3b-83f5-0d0e310e0142",
   "metadata": {},
   "outputs": [],
   "source": []
  }
 ],
 "metadata": {
  "kernelspec": {
   "display_name": "coda",
   "language": "",
   "name": "coda"
  },
  "language_info": {
   "file_extension": ".co",
   "mimetype": "text/plain",
   "name": "Any text"
  }
 },
 "nbformat": 4,
 "nbformat_minor": 5
}
