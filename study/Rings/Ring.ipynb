{
 "cells": [
  {
   "cell_type": "code",
   "execution_count": 1,
   "id": "d90057cf-4b56-4304-9039-fe3ee427fcc5",
   "metadata": {},
   "outputs": [
    {
     "name": "stdout",
     "output_type": "stream",
     "text": []
    }
   ],
   "source": [
    "import : ."
   ]
  },
  {
   "cell_type": "code",
   "execution_count": 2,
   "id": "c31e35b1-d211-4e5c-b885-22129fa9b8ff",
   "metadata": {},
   "outputs": [
    {
     "name": "stdout",
     "output_type": "stream",
     "text": [
      "(n:1) (n:2) (n:3) (n:4)"
     ]
    }
   ],
   "source": [
    "type n : 1 2 3 4 "
   ]
  },
  {
   "cell_type": "code",
   "execution_count": 3,
   "id": "df9ca0d1-e322-4310-b77e-0bbce31de9e3",
   "metadata": {},
   "outputs": [
    {
     "name": "stdout",
     "output_type": "stream",
     "text": [
      "(n:1) (n:2) (n:3) (n:4)"
     ]
    }
   ],
   "source": [
    "pass : type n : 1 2 3 4 "
   ]
  },
  {
   "cell_type": "code",
   "execution_count": 4,
   "id": "e40ff84e-3d67-4617-b78a-ca38c5894787",
   "metadata": {},
   "outputs": [
    {
     "name": "stdout",
     "output_type": "stream",
     "text": []
    }
   ],
   "source": [
    "def ring : {ap ap2 (nth 2:A) (type (nth 1:A) :tail 2:A) : (type (nth 1:A):B)}"
   ]
  },
  {
   "cell_type": "code",
   "execution_count": 5,
   "id": "19a3ea61-fb68-4b2f-a416-fd3875ccdc17",
   "metadata": {},
   "outputs": [
    {
     "name": "stdout",
     "output_type": "stream",
     "text": [
      "(bin (n:1):(n:4)) (bin (n:2):(n:4)) (bin (n:3):(n:4)) (bin (n:1):(n:5)) (bin (n:2):(n:5)) (bin (n:3):(n:5)) (bin (n:1):(n:6)) (bin (n:2):(n:6)) (bin (n:3):(n:6))"
     ]
    }
   ],
   "source": [
    "ring n bin 1 2 3 : 4 5 6 "
   ]
  },
  {
   "cell_type": "code",
   "execution_count": 6,
   "id": "95039377-6ef8-4bdf-a8f5-7abc60f922b0",
   "metadata": {},
   "outputs": [
    {
     "name": "stdout",
     "output_type": "stream",
     "text": [
      "(pro (n:1):(n:4)) (pro (n:2):(n:4)) (pro (n:3):(n:4)) (pro (n:1):(n:5)) (pro (n:2):(n:5)) (pro (n:3):(n:5)) (pro (n:1):(n:6)) (pro (n:2):(n:6)) (pro (n:3):(n:6))"
     ]
    }
   ],
   "source": [
    "ring n pro 1 2 3 : 4 5 6"
   ]
  },
  {
   "cell_type": "code",
   "execution_count": 7,
   "id": "ddf66588-3cf4-4963-9deb-6c89f370a414",
   "metadata": {},
   "outputs": [
    {
     "name": "stdout",
     "output_type": "stream",
     "text": []
    }
   ],
   "source": [
    "let type n2 : {ring n pro A : B} "
   ]
  },
  {
   "cell_type": "code",
   "execution_count": 10,
   "id": "7be00462-c271-4bd5-b15c-4f06942eaa28",
   "metadata": {},
   "outputs": [
    {
     "name": "stdout",
     "output_type": "stream",
     "text": [
      "(pro (n:1):(n:3)) (pro (n:2):(n:3)) (pro (n:3):(n:3)) (pro (n:1):(n:4)) (pro (n:2):(n:4)) (pro (n:3):(n:4)) (pro (n:1):(n:5)) (pro (n:2):(n:5)) (pro (n:3):(n:5))"
     ]
    }
   ],
   "source": [
    "{ring n pro A : B} 1 2 3 : 3 4 5 "
   ]
  },
  {
   "cell_type": "code",
   "execution_count": 11,
   "id": "a951b0c3-b5a7-4649-9be7-025ede97c3de",
   "metadata": {},
   "outputs": [
    {
     "name": "stdout",
     "output_type": "stream",
     "text": [
      "(pro n:(n:1) (n:1)) (pro n:(n:2) (n:2))"
     ]
    }
   ],
   "source": [
    "Product n pass pass : type n : 1 2 "
   ]
  },
  {
   "cell_type": "code",
   "execution_count": null,
   "id": "329d51f0-e75c-432e-a2b1-05c1092b60ed",
   "metadata": {},
   "outputs": [],
   "source": []
  }
 ],
 "metadata": {
  "kernelspec": {
   "display_name": "coda",
   "language": "",
   "name": "coda"
  },
  "language_info": {
   "file_extension": ".co",
   "mimetype": "text/plain",
   "name": "Any text"
  }
 },
 "nbformat": 4,
 "nbformat_minor": 5
}
