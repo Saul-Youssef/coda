{
 "cells": [
  {
   "cell_type": "code",
   "execution_count": 2,
   "id": "530cae02-26a7-4fa3-bba7-f34e02b1b65a",
   "metadata": {},
   "outputs": [
    {
     "name": "stdout",
     "output_type": "stream",
     "text": []
    }
   ],
   "source": [
    "#\n",
    "#   Prepare some samples for testing purposes \n",
    "#   \n",
    "#   S1: hydrogen atoms\n",
    "#   S2: more general atoms mix \n",
    "#   S3: pure data mix\n",
    "#   S4: mix with operators and language.\n",
    "#\n",
    "Let S1 : sample.atom : 5\n",
    "Let S2 : permutation 2 : (:) a b 0 1 \n",
    "Let S3 : sample.pure : 2 2 \n",
    "Let S4 : sample.data <A> <B> <{$}> 0 1 a b (defs:Basic) : 2 2 \n",
    "#\n",
    "#   A is nilpotent if A:B=() for any B, i.e. if (A:B) is always true. \n",
    "#\n",
    "Def nilpotent : {A:B}\n",
    "#\n",
    "#   Nilpotent A : (:B1) (:B2)... is true if A is nilpotent for all test cases B1, B2,...\n",
    "#\n",
    "Def Nilpotent : count * (ap {nilpotent A : get : B}) "
   ]
  },
  {
   "cell_type": "code",
   "execution_count": 5,
   "id": "ccb0f0e2-e9f1-4cd3-97a4-8a7425da2cca",
   "metadata": {},
   "outputs": [
    {
     "name": "stdout",
     "output_type": "stream",
     "text": [
      "(:◎ ◎) (:◎ a) (:◎ b) (:◎ 0) (:◎ 1) (:a ◎) (:a a) (:a b) (:a 0) (:a 1) (:b ◎) (:b a) (:b b) (:b 0) (:b 1) (:0 ◎) (:0 a) (:0 b) (:0 0) (:0 1) (:1 ◎) (:1 a) (:1 b) (:1 0) (:1 1)"
     ]
    }
   ],
   "source": [
    "S2?"
   ]
  },
  {
   "cell_type": "code",
   "execution_count": 6,
   "id": "f0e5c0b1-2053-47a3-84fa-6b701fd763f9",
   "metadata": {},
   "outputs": [
    {
     "name": "stdout",
     "output_type": "stream",
     "text": [
      "(bin pass:3)\n",
      "(bin null:0)\n",
      "(bin first:1)\n",
      "(bin bin:1)\n",
      "(bin rev:3)\n",
      "(bin rev:0)\n",
      "(bin not:1)"
     ]
    }
   ],
   "source": [
    "#\n",
    "#    Let's try a few tests\n",
    "#\n",
    "put bin pass  : count : nilpotent pass : 1 2 3\n",
    "put bin null  : count : nilpotent null : 1 2 3 \n",
    "put bin first : count : nilpotent first : 1 2 3 \n",
    "put bin bin   : count : nilpotent bin : 1 2 3 \n",
    "put bin rev   : count : nilpotent rev : 1 2 3 \n",
    "put bin rev   : count : nilpotent rev : \n",
    "put bin not   : count : nilpotent not : "
   ]
  },
  {
   "cell_type": "code",
   "execution_count": 7,
   "id": "986f4f41-5817-4ff1-9e03-147b5fc863ed",
   "metadata": {},
   "outputs": [
    {
     "name": "stdout",
     "output_type": "stream",
     "text": [
      "(bin pass:(count:(ap {nilpotent A : get : B}:(p a s s:(:1 2 3)))))\n",
      "(bin null:(count:(ap {nilpotent A : get : B}:(n u l l:(:1 2 3)))))\n",
      "(bin first:(count:(ap {nilpotent A : get : B}:(f i r s t:(:1 2 3)))))\n",
      "(bin bin:(count:(ap {nilpotent A : get : B}:(b i n:(:1 2 3)))))\n",
      "(bin rev:(count:(ap {nilpotent A : get : B}:(r e v:(:1 2 3)))))\n",
      "(bin rev:(count:(ap {nilpotent A : get : B}:(r e v:◎))))\n",
      "(bin not:(count:(ap {nilpotent A : get : B}:(n o t:◎ (:1 2 3)))))"
     ]
    }
   ],
   "source": [
    "#\n",
    "#   To check, let's compute the same thing with Nilpotent and Nilpotent \n",
    "#\n",
    "put bin pass  : Nilpotent pass  : (:1 2 3)\n",
    "put bin null  : Nilpotent null  : (:1 2 3)\n",
    "put bin first : Nilpotent first : (:1 2 3)\n",
    "put bin bin   : Nilpotent bin   : (:1 2 3)\n",
    "put bin rev   : Nilpotent rev   : (:1 2 3)\n",
    "put bin rev   : Nilpotent rev   : (:) \n",
    "put bin not   : Nilpotent not   : (:) (:1 2 3)"
   ]
  },
  {
   "cell_type": "code",
   "execution_count": 8,
   "id": "8e01374d-6ad8-4159-92b8-3390893ceb3f",
   "metadata": {},
   "outputs": [
    {
     "name": "stdout",
     "output_type": "stream",
     "text": []
    }
   ],
   "source": [
    "Def NIL1 : {with B : Nilpotent B : S2?}"
   ]
  },
  {
   "cell_type": "code",
   "execution_count": 9,
   "id": "1285f324-b45f-4030-b657-ac476e4f40c5",
   "metadata": {},
   "outputs": [
    {
     "name": "stdout",
     "output_type": "stream",
     "text": [
      "(with not:({Nilpotent B : S2?}:not)) (with null:({Nilpotent B : S2?}:null)) (with bin:({Nilpotent B : S2?}:bin)) (with pass:({Nilpotent B : S2?}:pass))"
     ]
    }
   ],
   "source": [
    "eval : ap NIL1 : not null bin pass "
   ]
  },
  {
   "cell_type": "code",
   "execution_count": 10,
   "id": "967c6956-ab2a-4a0f-8bdb-cb3b7abd2249",
   "metadata": {},
   "outputs": [
    {
     "name": "stdout",
     "output_type": "stream",
     "text": [
      "(with by:({Nilpotent B : S2?}:by)) (with count:({Nilpotent B : S2?}:count)) (with first:({Nilpotent B : S2?}:first)) (with head:({Nilpotent B : S2?}:head)) (with last:({Nilpotent B : S2?}:last)) (with nth:({Nilpotent B : S2?}:nth)) (with nth1:({Nilpotent B : S2?}:nth1)) (with once:({Nilpotent B : S2?}:once)) (with post:({Nilpotent B : S2?}:post)) (with pre:({Nilpotent B : S2?}:pre)) (with rep:({Nilpotent B : S2?}:rep)) (with rev:({Nilpotent B : S2?}:rev)) (with skip:({Nilpotent B : S2?}:skip)) (with swap:({Nilpotent B : S2?}:swap)) (with tail:({Nilpotent B : S2?}:tail))"
     ]
    }
   ],
   "source": [
    "eval : ap NIL1 : defs : Sequence "
   ]
  },
  {
   "cell_type": "code",
   "execution_count": 11,
   "id": "19cc932f-7d72-4bd2-8e1e-68ea1ecf2ea2",
   "metadata": {},
   "outputs": [
    {
     "name": "stdout",
     "output_type": "stream",
     "text": [
      "(with =:({Nilpotent B : S2?}:=)) (with and:({Nilpotent B : S2?}:and)) (with bool:({Nilpotent B : S2?}:bool)) (with equal:({Nilpotent B : S2?}:equal)) (with iff:({Nilpotent B : S2?}:iff)) (with imply:({Nilpotent B : S2?}:imply)) (with nand:({Nilpotent B : S2?}:nand)) (with nor:({Nilpotent B : S2?}:nor)) (with not:({Nilpotent B : S2?}:not)) (with or:({Nilpotent B : S2?}:or)) (with some:({Nilpotent B : S2?}:some)) (with xnor:({Nilpotent B : S2?}:xnor)) (with xor:({Nilpotent B : S2?}:xor))"
     ]
    }
   ],
   "source": [
    "eval : ap NIL1 : defs : Logic "
   ]
  },
  {
   "cell_type": "code",
   "execution_count": 12,
   "id": "c4f0f880-6cf5-4a6b-a819-24dafc648423",
   "metadata": {},
   "outputs": [
    {
     "name": "stdout",
     "output_type": "stream",
     "text": [
      "(with collect:({Nilpotent B : S2?}:collect)) (with equiv:({Nilpotent B : S2?}:equiv))"
     ]
    }
   ],
   "source": [
    "eval : ap NIL1 : defs : Collect"
   ]
  },
  {
   "cell_type": "markdown",
   "id": "9d28cc1d-fe7d-4f41-823b-4b5f6818b778",
   "metadata": {},
   "source": [
    "Thus, the potential single command nilpotents are \n",
    "\n",
    "* null\n",
    "* rep\n",
    "* nth\n",
    "* get\n",
    "* nif \n",
    "* has\n",
    "* is\n",
    "* or \n",
    "\n",
    "I've not included nth1 since it's really redundant with nth.  "
   ]
  },
  {
   "cell_type": "code",
   "execution_count": 13,
   "id": "892b640e-f248-4706-815f-e33c458ad287",
   "metadata": {},
   "outputs": [
    {
     "name": "stdout",
     "output_type": "stream",
     "text": []
    }
   ],
   "source": [
    "Def NIL : {with B : Nilpotent B : S1? S3? S4?}"
   ]
  },
  {
   "cell_type": "code",
   "execution_count": 14,
   "id": "3b10a344-d95c-4c9f-9dc7-7c4741ed7c2c",
   "metadata": {},
   "outputs": [
    {
     "name": "stdout",
     "output_type": "stream",
     "text": [
      "(with null:({Nilpotent B : S1? S3? S4?}:null)) (with rep:({Nilpotent B : S1? S3? S4?}:rep)) (with nth:({Nilpotent B : S1? S3? S4?}:nth)) (with get:({Nilpotent B : S1? S3? S4?}:get)) (with nif:({Nilpotent B : S1? S3? S4?}:nif)) (with has:({Nilpotent B : S1? S3? S4?}:has)) (with is:({Nilpotent B : S1? S3? S4?}:is)) (with or:({Nilpotent B : S1? S3? S4?}:or))"
     ]
    }
   ],
   "source": [
    "eval : ap NIL : null rep nth get nif has is or "
   ]
  },
  {
   "cell_type": "markdown",
   "id": "df4818f8-c90e-4d93-affc-876107b07a24",
   "metadata": {},
   "source": [
    "Thus, *null*, *rep*, *nth*, *nif*, *has*, *is* and *or* are the candidate nilpotents. Indeed, since the test assumes that the arguments are empty: \n",
    "\n",
    "1) **null**: True for any input.\n",
    "2) **rep**: True if it's argument is empty.\n",
    "3) **nth**: True if it's argument is empty.\n",
    "4) **has**: True if it's argument is empty.\n",
    "5) **is**: True if it's argument is empty.\n",
    "6) **or**: Since A is empty, (or A:B) is always true. "
   ]
  },
  {
   "cell_type": "code",
   "execution_count": 15,
   "id": "0583b27d-60bc-4d0f-844d-89e831799975",
   "metadata": {},
   "outputs": [
    {
     "name": "stdout",
     "output_type": "stream",
     "text": [
      "(use1:(def NIL:{with B: Nilpotent B : S2? (:nat:0)})) (:{with B: Nilpotent B : S2? (:nat:0)})"
     ]
    }
   ],
   "source": [
    "Def NIL+ : {with B: Nilpotent B : S2? (:nat:0)} "
   ]
  },
  {
   "cell_type": "code",
   "execution_count": 17,
   "id": "0de9cb1c-05f1-4319-9ee9-31a10df36a92",
   "metadata": {},
   "outputs": [
    {
     "name": "stdout",
     "output_type": "stream",
     "text": [
      "(with null:({Nilpotent B : S1? S3? S4?}:null)) (with rep:({Nilpotent B : S1? S3? S4?}:rep)) (with nth:({Nilpotent B : S1? S3? S4?}:nth)) (with get:({Nilpotent B : S1? S3? S4?}:get)) (with nif:({Nilpotent B : S1? S3? S4?}:nif)) (with has:({Nilpotent B : S1? S3? S4?}:has)) (with is:({Nilpotent B : S1? S3? S4?}:is)) (with or:({Nilpotent B : S1? S3? S4?}:or)) (:null rep nth get nif has is or)"
     ]
    }
   ],
   "source": [
    "eval 500 : ap NIL+ : null rep nth get nif has is or "
   ]
  },
  {
   "cell_type": "code",
   "execution_count": null,
   "id": "a5706e1a-c3e2-4c2e-bcb5-5d52b0e591af",
   "metadata": {},
   "outputs": [],
   "source": []
  },
  {
   "cell_type": "code",
   "execution_count": null,
   "id": "81d33654-5fcf-473c-b4c4-746d3add3c88",
   "metadata": {},
   "outputs": [],
   "source": []
  }
 ],
 "metadata": {
  "kernelspec": {
   "display_name": "coda",
   "language": "",
   "name": "coda"
  },
  "language_info": {
   "file_extension": ".co",
   "mimetype": "text/plain",
   "name": "Any text"
  }
 },
 "nbformat": 4,
 "nbformat_minor": 5
}
