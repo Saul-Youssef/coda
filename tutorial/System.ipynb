{
 "cells": [
  {
   "cell_type": "markdown",
   "id": "fcaab325-2670-4c1a-a1ec-b68b751dd3c6",
   "metadata": {},
   "source": [
    "## Operations related to the operating system"
   ]
  },
  {
   "cell_type": "code",
   "execution_count": 1,
   "id": "5e3c39ae-edfe-499f-ab28-5023629ba822",
   "metadata": {},
   "outputs": [
    {
     "name": "stdout",
     "output_type": "stream",
     "text": [
      "/Users/youssef/coda/tutorial/Equivalence.ipynb /Users/youssef/coda/tutorial/Logic.ipynb /Users/youssef/coda/tutorial/System.ipynb /Users/youssef/coda/tutorial/Bits and bytes.ipynb /Users/youssef/coda/tutorial/Sample.ipynb /Users/youssef/coda/tutorial/TUTORIALS.md /Users/youssef/coda/tutorial/Number.ipynb /Users/youssef/coda/tutorial/.ipynb_checkpoints /Users/youssef/coda/tutorial/Python.ipynb /Users/youssef/coda/tutorial/Language.ipynb /Users/youssef/coda/tutorial/Theorem.ipynb"
     ]
    }
   ],
   "source": [
    "dir : ."
   ]
  },
  {
   "cell_type": "code",
   "execution_count": 2,
   "id": "d6aec8ac-c3e5-4409-aba7-dbe9e6ae65d1",
   "metadata": {},
   "outputs": [
    {
     "name": "stdout",
     "output_type": "stream",
     "text": [
      "/Users/youssef/.config /Users/youssef/Music /Users/youssef/Home /Users/youssef/.serverauth.4682 /Users/youssef/.condarc /Users/youssef/.serverauth.2984 /Users/youssef/.serverauth.489 /Users/youssef/.x2go /Users/youssef/.coda-sav /Users/youssef/.serverauth.361 /Users/youssef/.DS_Store /Users/youssef/.serverauth.366 /Users/youssef/.serverauth.1027 /Users/youssef/.CFUserTextEncoding /Users/youssef/.serverauth.3545 /Users/youssef/archive /Users/youssef/.serverauth.735 /Users/youssef/.xonshrc /Users/youssef/.serverauth.562 /Users/youssef/.bashrc /Users/youssef/.zshrc /Users/youssef/.serverauth.3790 /Users/youssef/.serverauth.3964 /Users/youssef/.Xresources /Users/youssef/Pictures /Users/youssef/.serverauth.4974 /Users/youssef/.atom /Users/youssef/.zprofile /Users/youssef/.serverauth.1467 /Users/youssef/.serverauth.606 /Users/youssef/.serverauth.9521 /Users/youssef/.zsh_history /Users/youssef/.ipython /Users/youssef/Desktop /Users/youssef/Library /Users/youssef/.serverauth.630 /Users/youssef/.lesshst /Users/youssef/.serverauth.1942 /Users/youssef/.cups /Users/youssef/.coda /Users/youssef/.bash_sessions /Users/youssef/.serverauth.9766 /Users/youssef/.serverauth.470 /Users/youssef/.serverauth.828 /Users/youssef/Public /Users/youssef/.x2goclient /Users/youssef/.tcshrc /Users/youssef/work /Users/youssef/.anaconda /Users/youssef/.ssh /Users/youssef/Movies /Users/youssef/Applications /Users/youssef/.serverauth.955 /Users/youssef/.serverauth.532 /Users/youssef/.serverauth.963 /Users/youssef/.Trash /Users/youssef/.serverauth.521 /Users/youssef/.jupyter /Users/youssef/.serverauth.517 /Users/youssef/.serverauth.2885 /Users/youssef/Documents /Users/youssef/.serverauth.48036 /Users/youssef/.bash_profile /Users/youssef/.Xauthority /Users/youssef/.serverauth.8911 /Users/youssef/Downloads /Users/youssef/.python_history /Users/youssef/tmp /Users/youssef/.continuum /Users/youssef/.cache /Users/youssef/.serverauth.7214 /Users/youssef/.serverauth.1940 /Users/youssef/coda /Users/youssef/.bash_history /Users/youssef/.viminfo /Users/youssef/.zsh_sessions /Users/youssef/.globus /Users/youssef/.serverauth.632 /Users/youssef/.conda /Users/youssef/.serverauth.659 /Users/youssef/.serverauth.5529"
     ]
    }
   ],
   "source": [
    "dir : ~"
   ]
  },
  {
   "cell_type": "code",
   "execution_count": null,
   "id": "c774515a-17ba-47ba-a3f4-1b5bc306dda1",
   "metadata": {},
   "outputs": [],
   "source": []
  }
 ],
 "metadata": {
  "kernelspec": {
   "display_name": "coda",
   "language": "",
   "name": "coda"
  },
  "language_info": {
   "file_extension": ".co",
   "mimetype": "text/plain",
   "name": "Any text"
  }
 },
 "nbformat": 4,
 "nbformat_minor": 5
}
