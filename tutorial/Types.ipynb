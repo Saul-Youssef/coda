{
 "cells": [
  {
   "cell_type": "markdown",
   "id": "fd70a2c8-fae9-4713-9def-2d95cfb3de76",
   "metadata": {},
   "source": [
    "## Peano numbers: Making a new type\n",
    "\n",
    "As an exercise, let's make a new type from scratch.  We'll make a native implementation of the natural numbers without using Python integers underneath.  The motivation for this is partly as an exercise and partly as a starting point for later demonstrations of proof and math searching.  \n",
    "\n",
    "In order for this type to be easily used and available as arguments to functors, we'll follow the conventions in Type.co.  That is, we aim to define \n",
    "\n",
    "* peano - the type name and also the container name\n",
    "* Make:peano - makes peano numbers from input \n",
    "* Sum:peano - sum peano numbers \n",
    "* Prod:peano - product of peano numbers \n",
    "* Sort:peano - sorts peano numbers \n",
    "* Term:peano - displays peano numbers \n",
    "* Equiv:peano - equivalence relation "
   ]
  },
  {
   "cell_type": "code",
   "execution_count": 1,
   "id": "5fa98b3c-75c0-4261-8504-5b79df1c39c5",
   "metadata": {},
   "outputs": [
    {
     "name": "stdout",
     "output_type": "stream",
     "text": []
    }
   ],
   "source": [
    "#\n",
    "#   First, define peano with def peano:.  This simply makes \n",
    "#   a definition (peano:<stuff>) -> (peano:<stuff>).  \n",
    "#   This means that (peano:<anything>) is an \"atom\".\n",
    "#\n",
    "def peano:"
   ]
  },
  {
   "cell_type": "code",
   "execution_count": 2,
   "id": "d0ac77e3-a3cc-4249-b091-55d610c24ded",
   "metadata": {},
   "outputs": [
    {
     "name": "stdout",
     "output_type": "stream",
     "text": [
      "◎ ◎ ◎"
     ]
    }
   ],
   "source": [
    "#\n",
    "#   Instead of using python integers to store natural numbers, we'll \n",
    "#   us a sequence of (:) atoms, so that 3 is represented by | | |, etc.\n",
    "#\n",
    "#   (put:) makes (:) and rep makes one for each input.  This is the basis for \n",
    "#   the \"Make\" operation.\n",
    "#\n",
    "rep (put:) : a b c"
   ]
  },
  {
   "cell_type": "markdown",
   "id": "1a3b8c39-242d-4882-bde8-e83f70e1764b",
   "metadata": {},
   "source": [
    "The **make** operation for a type is typically the most complicated.  Let's make this for the peano numbers in several versions.\n",
    "\n",
    "1. `let (Make:peano): {has peano:B}` \n",
    "    - The first version only accepts peano data created by hand as in the above cell.   \n",
    "2. `let (Make:peano): {(has peano:B) (put peano : rep (put:) : hasnt peano:B) }` \n",
    "    - Here, we have added code which creates peano data from non-peano input by counting the number of inputs and making a peano integer with that number of |s.\n",
    "3. `let (Make:peano): {(has A:B) (put A : rep (put:) : hasnt A:B) }`\n",
    "    - Finally, we have just replaced `peano` with `A` since A will be \"peano\" when make peano : ... is evaluated.  This is no functionally different immediately, but by removing the explicit 'peano', functors from peano to other types will now work."
   ]
  },
  {
   "cell_type": "code",
   "execution_count": 3,
   "id": "fe0b4d97-9f72-4b68-9e48-04be53946c51",
   "metadata": {},
   "outputs": [
    {
     "name": "stdout",
     "output_type": "stream",
     "text": []
    }
   ],
   "source": [
    "let (Make:peano): {(has A:B) (put A : rep (put:) : hasnt A:B) }"
   ]
  },
  {
   "cell_type": "code",
   "execution_count": 4,
   "id": "78c697a3-efa0-44f6-8818-668d23461370",
   "metadata": {},
   "outputs": [
    {
     "name": "stdout",
     "output_type": "stream",
     "text": [
      "(peano:◎ ◎ ◎)"
     ]
    }
   ],
   "source": [
    "#\n",
    "#   Now, we can conveniently make peano integers \n",
    "#\n",
    "make peano : a b c"
   ]
  },
  {
   "cell_type": "code",
   "execution_count": 5,
   "id": "262b5495-b836-443c-bc2a-dea81e026b4f",
   "metadata": {},
   "outputs": [
    {
     "name": "stdout",
     "output_type": "stream",
     "text": []
    }
   ],
   "source": [
    "#\n",
    "#    Let's make a few peano numbers for convenience... 1?, 3? and 5? \n",
    "#\n",
    "let 1? : make peano : first 1 : nat : 0  \n",
    "let 3? : make peano : first 3 : nat : 0\n",
    "let 5? : make peano : first 5 : nat : 0"
   ]
  },
  {
   "cell_type": "code",
   "execution_count": 6,
   "id": "d717a08f-9484-4aca-81cc-236005e8361e",
   "metadata": {},
   "outputs": [
    {
     "name": "stdout",
     "output_type": "stream",
     "text": [
      "(peano:◎) (peano:◎ ◎ ◎) (peano:◎ ◎ ◎ ◎ ◎)"
     ]
    }
   ],
   "source": [
    "1? 3? 5? "
   ]
  },
  {
   "cell_type": "code",
   "execution_count": 7,
   "id": "b9719632-1a9c-4713-9fcd-a79b87a910d5",
   "metadata": {},
   "outputs": [
    {
     "name": "stdout",
     "output_type": "stream",
     "text": []
    }
   ],
   "source": [
    "#\n",
    "#   To make a nicer display...\n",
    "#\n",
    "let (Term:peano) : {ap {count : get A : B} A : B}  "
   ]
  },
  {
   "cell_type": "code",
   "execution_count": 8,
   "id": "fd00aaca-9bce-49e5-8f5f-4e8b024c5d0c",
   "metadata": {},
   "outputs": [
    {
     "name": "stdout",
     "output_type": "stream",
     "text": [
      "5"
     ]
    }
   ],
   "source": [
    "term peano : 5?"
   ]
  },
  {
   "cell_type": "markdown",
   "id": "bb6aac90-b8d0-426d-9511-eaf3de8c4a96",
   "metadata": {},
   "source": [
    "Now let's define addition of peano integers.  In traditional math, one normally thinks of this as defining a binary operation.  In Coda, it is most natural to equivalently think of this as making a definition\n",
    "\n",
    "`sum peano : <..stuff..>` \n",
    "\n",
    "which sums the peano integers from it's \"input\".  This is easy to do.  You just use `get peano` to get the peano contents of each input, and put all the resulting |s into a new peano integer like so...\n",
    "\n",
    "`put peano : get peano : <...stuff..>` \n",
    "\n",
    "In a language expression, this is `put peano : get peano : B` where `B` is the input \"stuff\".  To be extra nice, also replace `peano` with `A` and define (Sum:peano) to be this language expression.\n",
    "\n",
    "`let (Sum:peano) : {put A : get A : B}`\n",
    "\n",
    "after a while, you can write these things very easily. \n",
    "\n",
    "Mathematically speaking, we are appealing to the foundations here.  Foundationally, concatenation of finite sequences of | atoms is both associative and abelian.  That is the basis for claiming that peano integer addition is also associative and abelian."
   ]
  },
  {
   "cell_type": "code",
   "execution_count": 9,
   "id": "bf472f4e-c987-4b66-ae13-f479a6234007",
   "metadata": {},
   "outputs": [
    {
     "name": "stdout",
     "output_type": "stream",
     "text": []
    }
   ],
   "source": [
    "let (Sum:peano) : {put A : get A : B} "
   ]
  },
  {
   "cell_type": "code",
   "execution_count": 10,
   "id": "456eaa98-9c1c-48e5-a944-e408157cb78e",
   "metadata": {},
   "outputs": [
    {
     "name": "stdout",
     "output_type": "stream",
     "text": [
      "(peano:◎ ◎ ◎ ◎ ◎ ◎ ◎ ◎) 8"
     ]
    }
   ],
   "source": [
    "#\n",
    "#   Since (Sum:peano) is defined, sum now works for peano integers.\n",
    "#\n",
    "sum peano : 3? 5?\n",
    "term peano : sum peano : 3? 5?"
   ]
  },
  {
   "cell_type": "code",
   "execution_count": 11,
   "id": "0cc76d43-e688-4d8b-840f-b9d557ebf42c",
   "metadata": {},
   "outputs": [
    {
     "name": "stdout",
     "output_type": "stream",
     "text": [
      "8 8 10"
     ]
    }
   ],
   "source": [
    "term peano : sum peano : 3? 5? \n",
    "term peano : sum peano : 5? 3? \n",
    "term peano : sum peano : 5? 5? (make peano:)"
   ]
  },
  {
   "cell_type": "markdown",
   "id": "24352822-8eb2-4a4b-8f6a-f32fdd3fc330",
   "metadata": {},
   "source": [
    "When you type things into a cell here, coda just creates the data\n",
    "\n",
    "`{...stuff you type....} () : ()`\n",
    "\n",
    "and this is evaluated by applying whatever definitions apply.  The only thing that Coda can do is apply valid definitions.  This means that, in Coda, proofs and computations are the same thing.  For any computation, you can use `step` to see the steps in the proof/computation.  To follow the tradition of \"Principia Mathematica\", let's produce a tedious but correct proof that 1+1=2.  "
   ]
  },
  {
   "cell_type": "code",
   "execution_count": 12,
   "id": "3e4807b4-bcd4-4964-989d-7b640977e114",
   "metadata": {
    "tags": []
   },
   "outputs": [
    {
     "name": "stdout",
     "output_type": "stream",
     "text": [
      "[ 0] (({term peano }:):({ sum peano : 1? 1?}:))\n",
      "[ 1] (({term peano}:):({sum peano : 1? 1?}:))\n",
      "[ 2] (({term}:) ({peano}:):(({sum peano }:):({ 1? 1?}:)))\n",
      "[ 3] ({(Term:A) A : B} peano:(({sum peano}:):({1? 1?}:)))\n",
      "[ 4] (({(Term:A) A } peano:(({sum}:) ({peano}:):({1?}:) ({1?}:))):({ B} peano:(({sum}:) ({peano}:):({1?}:) ({1?}:))))\n",
      "[ 5] (({(Term:A) A} peano:({(Sum:A)  A : B} peano:(?:1) (?:1))):({B} peano:({(Sum:A)  A : B} peano:(?:1) (?:1))))\n",
      "[ 6] (({(Term:A)} peano:(({(Sum:A)  A } peano:(peano:𝝞𝟬𝟬𝝞𝟬𝝞𝝞𝝞𝟬𝟬𝝞𝝞𝝞𝟬) (peano:𝝞𝟬𝟬𝝞𝟬𝝞𝝞𝝞𝟬𝟬𝝞𝝞𝝞𝟬)):({ B} peano:(peano:𝝞𝟬𝟬𝝞𝟬𝝞𝝞𝝞𝟬𝟬𝝞𝝞𝝞𝟬) (peano:𝝞𝟬𝟬𝝞𝟬𝝞𝝞𝝞𝟬𝟬𝝞𝝞𝝞𝟬)))) ({A} peano:(({(Sum:A)  A } peano:(peano:𝝞𝟬𝟬𝝞𝟬𝝞𝝞𝝞𝟬𝟬𝝞𝝞𝝞𝟬) (peano:𝝞𝟬𝟬𝝞𝟬𝝞𝝞𝝞𝟬𝟬𝝞𝝞𝝞𝟬)):({ B} peano:(peano:𝝞𝟬𝟬𝝞𝟬𝝞𝝞𝝞𝟬𝟬𝝞𝝞𝝞𝟬) (peano:𝝞𝟬𝟬𝝞𝟬𝝞𝝞𝝞𝟬𝟬𝝞𝝞𝝞𝟬)))):(({(Sum:A)  A } peano:(peano:𝝞𝟬𝟬𝝞𝟬𝝞𝝞𝝞𝟬𝟬𝝞𝝞𝝞𝟬) (peano:𝝞𝟬𝟬𝝞𝟬𝝞𝝞𝝞𝟬𝟬𝝞𝝞𝝞𝟬)):({ B} peano:(peano:𝝞𝟬𝟬𝝞𝟬𝝞𝝞𝝞𝟬𝟬𝝞𝝞𝝞𝟬) (peano:𝝞𝟬𝟬𝝞𝟬𝝞𝝞𝝞𝟬𝟬𝝞𝝞𝝞𝟬))))\n",
      "[ 7] (({Term:A} peano:(({(Sum:A)  A} peano:(peano:𝝞𝟬𝟬𝝞𝟬𝝞𝝞𝝞𝟬𝟬𝝞𝝞𝝞𝟬) (peano:𝝞𝟬𝟬𝝞𝟬𝝞𝝞𝝞𝟬𝟬𝝞𝝞𝝞𝟬)):({B} peano:(peano:𝝞𝟬𝟬𝝞𝟬𝝞𝝞𝝞𝟬𝟬𝝞𝝞𝝞𝟬) (peano:𝝞𝟬𝟬𝝞𝟬𝝞𝝞𝝞𝟬𝟬𝝞𝝞𝝞𝟬)))) peano:(({(Sum:A)  A} peano:(peano:𝝞𝟬𝟬𝝞𝟬𝝞𝝞𝝞𝟬𝟬𝝞𝝞𝝞𝟬) (peano:𝝞𝟬𝟬𝝞𝟬𝝞𝝞𝝞𝟬𝟬𝝞𝝞𝝞𝟬)):({B} peano:(peano:𝝞𝟬𝟬𝝞𝟬𝝞𝝞𝝞𝟬𝟬𝝞𝝞𝝞𝟬) (peano:𝝞𝟬𝟬𝝞𝟬𝝞𝝞𝝞𝟬𝟬𝝞𝝞𝝞𝟬))))\n",
      "[ 8] ((({Term} peano:(({(Sum:A)} peano:(peano:𝝞𝟬𝟬𝝞𝟬𝝞𝝞𝝞𝟬𝟬𝝞𝝞𝝞𝟬) (peano:𝝞𝟬𝟬𝝞𝟬𝝞𝝞𝝞𝟬𝟬𝝞𝝞𝝞𝟬)) ({ A} peano:(peano:𝝞𝟬𝟬𝝞𝟬𝝞𝝞𝝞𝟬𝟬𝝞𝝞𝝞𝟬) (peano:𝝞𝟬𝟬𝝞𝟬𝝞𝝞𝝞𝟬𝟬𝝞𝝞𝝞𝟬)):(peano:𝝞𝟬𝟬𝝞𝟬𝝞𝝞𝝞𝟬𝟬𝝞𝝞𝝞𝟬) (peano:𝝞𝟬𝟬𝝞𝟬𝝞𝝞𝝞𝟬𝟬𝝞𝝞𝝞𝟬))):({A} peano:(({(Sum:A)} peano:(peano:𝝞𝟬𝟬𝝞𝟬𝝞𝝞𝝞𝟬𝟬𝝞𝝞𝝞𝟬) (peano:𝝞𝟬𝟬𝝞𝟬𝝞𝝞𝝞𝟬𝟬𝝞𝝞𝝞𝟬)) ({ A} peano:(peano:𝝞𝟬𝟬𝝞𝟬𝝞𝝞𝝞𝟬𝟬𝝞𝝞𝝞𝟬) (peano:𝝞𝟬𝟬𝝞𝟬𝝞𝝞𝝞𝟬𝟬𝝞𝝞𝝞𝟬)):(peano:𝝞𝟬𝟬𝝞𝟬𝝞𝝞𝝞𝟬𝟬𝝞𝝞𝝞𝟬) (peano:𝝞𝟬𝟬𝝞𝟬𝝞𝝞𝝞𝟬𝟬𝝞𝝞𝝞𝟬)))) peano:(({(Sum:A)} peano:(peano:𝝞𝟬𝟬𝝞𝟬𝝞𝝞𝝞𝟬𝟬𝝞𝝞𝝞𝟬) (peano:𝝞𝟬𝟬𝝞𝟬𝝞𝝞𝝞𝟬𝟬𝝞𝝞𝝞𝟬)) ({ A} peano:(peano:𝝞𝟬𝟬𝝞𝟬𝝞𝝞𝝞𝟬𝟬𝝞𝝞𝝞𝟬) (peano:𝝞𝟬𝟬𝝞𝟬𝝞𝝞𝝞𝟬𝟬𝝞𝝞𝝞𝟬)):(peano:𝝞𝟬𝟬𝝞𝟬𝝞𝝞𝝞𝟬𝟬𝝞𝝞𝝞𝟬) (peano:𝝞𝟬𝟬𝝞𝟬𝝞𝝞𝝞𝟬𝟬𝝞𝝞𝝞𝟬)))\n",
      "[ 9] (({ap {count : get A : B} A } peano:(({Sum:A} peano:(peano:𝝞𝟬𝟬𝝞𝟬𝝞𝝞𝝞𝟬𝟬𝝞𝝞𝝞𝟬) (peano:𝝞𝟬𝟬𝝞𝟬𝝞𝝞𝝞𝟬𝟬𝝞𝝞𝝞𝟬)) ({A} peano:(peano:𝝞𝟬𝟬𝝞𝟬𝝞𝝞𝝞𝟬𝟬𝝞𝝞𝝞𝟬) (peano:𝝞𝟬𝟬𝝞𝟬𝝞𝝞𝝞𝟬𝟬𝝞𝝞𝝞𝟬)):(peano:𝝞𝟬𝟬𝝞𝟬𝝞𝝞𝝞𝟬𝟬𝝞𝝞𝝞𝟬) (peano:𝝞𝟬𝟬𝝞𝟬𝝞𝝞𝝞𝟬𝟬𝝞𝝞𝝞𝟬))):({ B} peano:(({Sum:A} peano:(peano:𝝞𝟬𝟬𝝞𝟬𝝞𝝞𝝞𝟬𝟬𝝞𝝞𝝞𝟬) (peano:𝝞𝟬𝟬𝝞𝟬𝝞𝝞𝝞𝟬𝟬𝝞𝝞𝝞𝟬)) ({A} peano:(peano:𝝞𝟬𝟬𝝞𝟬𝝞𝝞𝝞𝟬𝟬𝝞𝝞𝝞𝟬) (peano:𝝞𝟬𝟬𝝞𝟬𝝞𝝞𝝞𝟬𝟬𝝞𝝞𝝞𝟬)):(peano:𝝞𝟬𝟬𝝞𝟬𝝞𝝞𝝞𝟬𝟬𝝞𝝞𝝞𝟬) (peano:𝝞𝟬𝟬𝝞𝟬𝝞𝝞𝝞𝟬𝟬𝝞𝝞𝝞𝟬))))\n",
      "[10] (({ap {count : get A : B} A} peano:((({Sum} peano:(peano:𝝞𝟬𝟬𝝞𝟬𝝞𝝞𝝞𝟬𝟬𝝞𝝞𝝞𝟬) (peano:𝝞𝟬𝟬𝝞𝟬𝝞𝝞𝝞𝟬𝟬𝝞𝝞𝝞𝟬)):({A} peano:(peano:𝝞𝟬𝟬𝝞𝟬𝝞𝝞𝝞𝟬𝟬𝝞𝝞𝝞𝟬) (peano:𝝞𝟬𝟬𝝞𝟬𝝞𝝞𝝞𝟬𝟬𝝞𝝞𝝞𝟬))) peano:(peano:𝝞𝟬𝟬𝝞𝟬𝝞𝝞𝝞𝟬𝟬𝝞𝝞𝝞𝟬) (peano:𝝞𝟬𝟬𝝞𝟬𝝞𝝞𝝞𝟬𝟬𝝞𝝞𝝞𝟬))):({B} peano:((({Sum} peano:(peano:𝝞𝟬𝟬𝝞𝟬𝝞𝝞𝝞𝟬𝟬𝝞𝝞𝝞𝟬) (peano:𝝞𝟬𝟬𝝞𝟬𝝞𝝞𝝞𝟬𝟬𝝞𝝞𝝞𝟬)):({A} peano:(peano:𝝞𝟬𝟬𝝞𝟬𝝞𝝞𝝞𝟬𝟬𝝞𝝞𝝞𝟬) (peano:𝝞𝟬𝟬𝝞𝟬𝝞𝝞𝝞𝟬𝟬𝝞𝝞𝝞𝟬))) peano:(peano:𝝞𝟬𝟬𝝞𝟬𝝞𝝞𝝞𝟬𝟬𝝞𝝞𝝞𝟬) (peano:𝝞𝟬𝟬𝝞𝟬𝝞𝝞𝝞𝟬𝟬𝝞𝝞𝝞𝟬))))\n",
      "[11] (({ap} peano:(({put A } peano:(peano:𝝞𝟬𝟬𝝞𝟬𝝞𝝞𝝞𝟬𝟬𝝞𝝞𝝞𝟬) (peano:𝝞𝟬𝟬𝝞𝟬𝝞𝝞𝝞𝟬𝟬𝝞𝝞𝝞𝟬)):({ get A : B} peano:(peano:𝝞𝟬𝟬𝝞𝟬𝝞𝝞𝝞𝟬𝟬𝝞𝝞𝝞𝟬) (peano:𝝞𝟬𝟬𝝞𝟬𝝞𝝞𝝞𝟬𝟬𝝞𝝞𝝞𝟬)))) ({{count : get A : B} A} peano:(({put A } peano:(peano:𝝞𝟬𝟬𝝞𝟬𝝞𝝞𝝞𝟬𝟬𝝞𝝞𝝞𝟬) (peano:𝝞𝟬𝟬𝝞𝟬𝝞𝝞𝝞𝟬𝟬𝝞𝝞𝝞𝟬)):({ get A : B} peano:(peano:𝝞𝟬𝟬𝝞𝟬𝝞𝝞𝝞𝟬𝟬𝝞𝝞𝝞𝟬) (peano:𝝞𝟬𝟬𝝞𝟬𝝞𝝞𝝞𝟬𝟬𝝞𝝞𝝞𝟬)))):(({put A } peano:(peano:𝝞𝟬𝟬𝝞𝟬𝝞𝝞𝝞𝟬𝟬𝝞𝝞𝝞𝟬) (peano:𝝞𝟬𝟬𝝞𝟬𝝞𝝞𝝞𝟬𝟬𝝞𝝞𝝞𝟬)):({ get A : B} peano:(peano:𝝞𝟬𝟬𝝞𝟬𝝞𝝞𝝞𝟬𝟬𝝞𝝞𝝞𝟬) (peano:𝝞𝟬𝟬𝝞𝟬𝝞𝝞𝝞𝟬𝟬𝝞𝝞𝝞𝟬))))\n",
      "[12] (ap ({{count : get A : B}} peano:(({put A} peano:(peano:𝝞𝟬𝟬𝝞𝟬𝝞𝝞𝝞𝟬𝟬𝝞𝝞𝝞𝟬) (peano:𝝞𝟬𝟬𝝞𝟬𝝞𝝞𝝞𝟬𝟬𝝞𝝞𝝞𝟬)):({get A : B} peano:(peano:𝝞𝟬𝟬𝝞𝟬𝝞𝝞𝝞𝟬𝟬𝝞𝝞𝝞𝟬) (peano:𝝞𝟬𝟬𝝞𝟬𝝞𝝞𝝞𝟬𝟬𝝞𝝞𝝞𝟬)))) ({A} peano:(({put A} peano:(peano:𝝞𝟬𝟬𝝞𝟬𝝞𝝞𝝞𝟬𝟬𝝞𝝞𝝞𝟬) (peano:𝝞𝟬𝟬𝝞𝟬𝝞𝝞𝝞𝟬𝟬𝝞𝝞𝝞𝟬)):({get A : B} peano:(peano:𝝞𝟬𝟬𝝞𝟬𝝞𝝞𝝞𝟬𝟬𝝞𝝞𝝞𝟬) (peano:𝝞𝟬𝟬𝝞𝟬𝝞𝝞𝝞𝟬𝟬𝝞𝝞𝝞𝟬)))):(({put A} peano:(peano:𝝞𝟬𝟬𝝞𝟬𝝞𝝞𝝞𝟬𝟬𝝞𝝞𝝞𝟬) (peano:𝝞𝟬𝟬𝝞𝟬𝝞𝝞𝝞𝟬𝟬𝝞𝝞𝝞𝟬)):({get A : B} peano:(peano:𝝞𝟬𝟬𝝞𝟬𝝞𝝞𝝞𝟬𝟬𝝞𝝞𝝞𝟬) (peano:𝝞𝟬𝟬𝝞𝟬𝝞𝝞𝝞𝟬𝟬𝝞𝝞𝝞𝟬)))) (ap ({{count : get A : B}} peano:(({put A} peano:(peano:𝝞𝟬𝟬𝝞𝟬𝝞𝝞𝝞𝟬𝟬𝝞𝝞𝝞𝟬) (peano:𝝞𝟬𝟬𝝞𝟬𝝞𝝞𝝞𝟬𝟬𝝞𝝞𝝞𝟬)):({get A : B} peano:(peano:𝝞𝟬𝟬𝝞𝟬𝝞𝝞𝝞𝟬𝟬𝝞𝝞𝝞𝟬) (peano:𝝞𝟬𝟬𝝞𝟬𝝞𝝞𝝞𝟬𝟬𝝞𝝞𝝞𝟬)))) ({A} peano:(({put A} peano:(peano:𝝞𝟬𝟬𝝞𝟬𝝞𝝞𝝞𝟬𝟬𝝞𝝞𝝞𝟬) (peano:𝝞𝟬𝟬𝝞𝟬𝝞𝝞𝝞𝟬𝟬𝝞𝝞𝝞𝟬)):({get A : B} peano:(peano:𝝞𝟬𝟬𝝞𝟬𝝞𝝞𝝞𝟬𝟬𝝞𝝞𝝞𝟬) (peano:𝝞𝟬𝟬𝝞𝟬𝝞𝝞𝝞𝟬𝟬𝝞𝝞𝝞𝟬)))):)\n",
      "[13] (ap {count : get A : B} peano:(({put} peano:(peano:𝝞𝟬𝟬𝝞𝟬𝝞𝝞𝝞𝟬𝟬𝝞𝝞𝝞𝟬) (peano:𝝞𝟬𝟬𝝞𝟬𝝞𝝞𝝞𝟬𝟬𝝞𝝞𝝞𝟬)) ({A} peano:(peano:𝝞𝟬𝟬𝝞𝟬𝝞𝝞𝝞𝟬𝟬𝝞𝝞𝝞𝟬) (peano:𝝞𝟬𝟬𝝞𝟬𝝞𝝞𝝞𝟬𝟬𝝞𝝞𝝞𝟬)):(({get A } peano:(peano:𝝞𝟬𝟬𝝞𝟬𝝞𝝞𝝞𝟬𝟬𝝞𝝞𝝞𝟬) (peano:𝝞𝟬𝟬𝝞𝟬𝝞𝝞𝝞𝟬𝟬𝝞𝝞𝝞𝟬)):({ B} peano:(peano:𝝞𝟬𝟬𝝞𝟬𝝞𝝞𝝞𝟬𝟬𝝞𝝞𝝞𝟬) (peano:𝝞𝟬𝟬𝝞𝟬𝝞𝝞𝝞𝟬𝟬𝝞𝝞𝝞𝟬))))) (ap {count : get A : B} peano:)\n",
      "[14] ({count : get A : B} peano:(peano:(({get A} peano:(peano:𝝞𝟬𝟬𝝞𝟬𝝞𝝞𝝞𝟬𝟬𝝞𝝞𝝞𝟬) (peano:𝝞𝟬𝟬𝝞𝟬𝝞𝝞𝝞𝟬𝟬𝝞𝝞𝝞𝟬)):({B} peano:(peano:𝝞𝟬𝟬𝝞𝟬𝝞𝝞𝝞𝟬𝟬𝝞𝝞𝝞𝟬) (peano:𝝞𝟬𝟬𝝞𝟬𝝞𝝞𝝞𝟬𝟬𝝞𝝞𝝞𝟬)))))\n",
      "[15] (({count } peano:(peano:(({get} peano:(peano:𝝞𝟬𝟬𝝞𝟬𝝞𝝞𝝞𝟬𝟬𝝞𝝞𝝞𝟬) (peano:𝝞𝟬𝟬𝝞𝟬𝝞𝝞𝝞𝟬𝟬𝝞𝝞𝝞𝟬)) ({A} peano:(peano:𝝞𝟬𝟬𝝞𝟬𝝞𝝞𝝞𝟬𝟬𝝞𝝞𝝞𝟬) (peano:𝝞𝟬𝟬𝝞𝟬𝝞𝝞𝝞𝟬𝟬𝝞𝝞𝝞𝟬)):(peano:𝝞𝟬𝟬𝝞𝟬𝝞𝝞𝝞𝟬𝟬𝝞𝝞𝝞𝟬) (peano:𝝞𝟬𝟬𝝞𝟬𝝞𝝞𝝞𝟬𝟬𝝞𝝞𝝞𝟬)))):({ get A : B} peano:(peano:(({get} peano:(peano:𝝞𝟬𝟬𝝞𝟬𝝞𝝞𝝞𝟬𝟬𝝞𝝞𝝞𝟬) (peano:𝝞𝟬𝟬𝝞𝟬𝝞𝝞𝝞𝟬𝟬𝝞𝝞𝝞𝟬)) ({A} peano:(peano:𝝞𝟬𝟬𝝞𝟬𝝞𝝞𝝞𝟬𝟬𝝞𝝞𝝞𝟬) (peano:𝝞𝟬𝟬𝝞𝟬𝝞𝝞𝝞𝟬𝟬𝝞𝝞𝝞𝟬)):(peano:𝝞𝟬𝟬𝝞𝟬𝝞𝝞𝝞𝟬𝟬𝝞𝝞𝝞𝟬) (peano:𝝞𝟬𝟬𝝞𝟬𝝞𝝞𝝞𝟬𝟬𝝞𝝞𝝞𝟬)))))\n",
      "[16] (({count} peano:(peano:({ap get1 A : B} peano:(peano:𝝞𝟬𝟬𝝞𝟬𝝞𝝞𝝞𝟬𝟬𝝞𝝞𝝞𝟬) (peano:𝝞𝟬𝟬𝝞𝟬𝝞𝝞𝝞𝟬𝟬𝝞𝝞𝝞𝟬)))):({get A : B} peano:(peano:({ap get1 A : B} peano:(peano:𝝞𝟬𝟬𝝞𝟬𝝞𝝞𝝞𝟬𝟬𝝞𝝞𝝞𝟬) (peano:𝝞𝟬𝟬𝝞𝟬𝝞𝝞𝝞𝟬𝟬𝝞𝝞𝝞𝟬)))))\n",
      "[17] (count:(({get A } peano:(peano:(({ap get1 A } peano:(peano:𝝞𝟬𝟬𝝞𝟬𝝞𝝞𝝞𝟬𝟬𝝞𝝞𝝞𝟬) (peano:𝝞𝟬𝟬𝝞𝟬𝝞𝝞𝝞𝟬𝟬𝝞𝝞𝝞𝟬)):({ B} peano:(peano:𝝞𝟬𝟬𝝞𝟬𝝞𝝞𝝞𝟬𝟬𝝞𝝞𝝞𝟬) (peano:𝝞𝟬𝟬𝝞𝟬𝝞𝝞𝝞𝟬𝟬𝝞𝝞𝝞𝟬))))):({ B} peano:(peano:(({ap get1 A } peano:(peano:𝝞𝟬𝟬𝝞𝟬𝝞𝝞𝝞𝟬𝟬𝝞𝝞𝝞𝟬) (peano:𝝞𝟬𝟬𝝞𝟬𝝞𝝞𝝞𝟬𝟬𝝞𝝞𝝞𝟬)):({ B} peano:(peano:𝝞𝟬𝟬𝝞𝟬𝝞𝝞𝝞𝟬𝟬𝝞𝝞𝝞𝟬) (peano:𝝞𝟬𝟬𝝞𝟬𝝞𝝞𝝞𝟬𝟬𝝞𝝞𝝞𝟬)))))))\n",
      "[18] (count:(({get A} peano:(peano:(({ap get1 A} peano:(peano:𝝞𝟬𝟬𝝞𝟬𝝞𝝞𝝞𝟬𝟬𝝞𝝞𝝞𝟬) (peano:𝝞𝟬𝟬𝝞𝟬𝝞𝝞𝝞𝟬𝟬𝝞𝝞𝝞𝟬)):({B} peano:(peano:𝝞𝟬𝟬𝝞𝟬𝝞𝝞𝝞𝟬𝟬𝝞𝝞𝝞𝟬) (peano:𝝞𝟬𝟬𝝞𝟬𝝞𝝞𝝞𝟬𝟬𝝞𝝞𝝞𝟬))))):({B} peano:(peano:(({ap get1 A} peano:(peano:𝝞𝟬𝟬𝝞𝟬𝝞𝝞𝝞𝟬𝟬𝝞𝝞𝝞𝟬) (peano:𝝞𝟬𝟬𝝞𝟬𝝞𝝞𝝞𝟬𝟬𝝞𝝞𝝞𝟬)):({B} peano:(peano:𝝞𝟬𝟬𝝞𝟬𝝞𝝞𝝞𝟬𝟬𝝞𝝞𝝞𝟬) (peano:𝝞𝟬𝟬𝝞𝟬𝝞𝝞𝝞𝟬𝟬𝝞𝝞𝝞𝟬)))))))\n",
      "[19] (count:(({get} peano:(peano:(({ap} peano:(peano:𝝞𝟬𝟬𝝞𝟬𝝞𝝞𝝞𝟬𝟬𝝞𝝞𝝞𝟬) (peano:𝝞𝟬𝟬𝝞𝟬𝝞𝝞𝝞𝟬𝟬𝝞𝝞𝝞𝟬)) ({get1 A} peano:(peano:𝝞𝟬𝟬𝝞𝟬𝝞𝝞𝝞𝟬𝟬𝝞𝝞𝝞𝟬) (peano:𝝞𝟬𝟬𝝞𝟬𝝞𝝞𝝞𝟬𝟬𝝞𝝞𝝞𝟬)):(peano:𝝞𝟬𝟬𝝞𝟬𝝞𝝞𝝞𝟬𝟬𝝞𝝞𝝞𝟬) (peano:𝝞𝟬𝟬𝝞𝟬𝝞𝝞𝝞𝟬𝟬𝝞𝝞𝝞𝟬)))) ({A} peano:(peano:(({ap} peano:(peano:𝝞𝟬𝟬𝝞𝟬𝝞𝝞𝝞𝟬𝟬𝝞𝝞𝝞𝟬) (peano:𝝞𝟬𝟬𝝞𝟬𝝞𝝞𝝞𝟬𝟬𝝞𝝞𝝞𝟬)) ({get1 A} peano:(peano:𝝞𝟬𝟬𝝞𝟬𝝞𝝞𝝞𝟬𝟬𝝞𝝞𝝞𝟬) (peano:𝝞𝟬𝟬𝝞𝟬𝝞𝝞𝝞𝟬𝟬𝝞𝝞𝝞𝟬)):(peano:𝝞𝟬𝟬𝝞𝟬𝝞𝝞𝝞𝟬𝟬𝝞𝝞𝝞𝟬) (peano:𝝞𝟬𝟬𝝞𝟬𝝞𝝞𝝞𝟬𝟬𝝞𝝞𝝞𝟬)))):(peano:(({ap} peano:(peano:𝝞𝟬𝟬𝝞𝟬𝝞𝝞𝝞𝟬𝟬𝝞𝝞𝝞𝟬) (peano:𝝞𝟬𝟬𝝞𝟬𝝞𝝞𝝞𝟬𝟬𝝞𝝞𝝞𝟬)) ({get1 A} peano:(peano:𝝞𝟬𝟬𝝞𝟬𝝞𝝞𝝞𝟬𝟬𝝞𝝞𝝞𝟬) (peano:𝝞𝟬𝟬𝝞𝟬𝝞𝝞𝝞𝟬𝟬𝝞𝝞𝝞𝟬)):(peano:𝝞𝟬𝟬𝝞𝟬𝝞𝝞𝝞𝟬𝟬𝝞𝝞𝝞𝟬) (peano:𝝞𝟬𝟬𝝞𝟬𝝞𝝞𝝞𝟬𝟬𝝞𝝞𝝞𝟬)))))\n",
      "[20] (count:({ap get1 A : B} peano:(peano:(ap ({get1} peano:(peano:𝝞𝟬𝟬𝝞𝟬𝝞𝝞𝝞𝟬𝟬𝝞𝝞𝝞𝟬) (peano:𝝞𝟬𝟬𝝞𝟬𝝞𝝞𝝞𝟬𝟬𝝞𝝞𝝞𝟬)) ({A} peano:(peano:𝝞𝟬𝟬𝝞𝟬𝝞𝝞𝝞𝟬𝟬𝝞𝝞𝝞𝟬) (peano:𝝞𝟬𝟬𝝞𝟬𝝞𝝞𝝞𝟬𝟬𝝞𝝞𝝞𝟬)):(peano:𝝞𝟬𝟬𝝞𝟬𝝞𝝞𝝞𝟬𝟬𝝞𝝞𝝞𝟬)) (ap ({get1} peano:(peano:𝝞𝟬𝟬𝝞𝟬𝝞𝝞𝝞𝟬𝟬𝝞𝝞𝝞𝟬) (peano:𝝞𝟬𝟬𝝞𝟬𝝞𝝞𝝞𝟬𝟬𝝞𝝞𝝞𝟬)) ({A} peano:(peano:𝝞𝟬𝟬𝝞𝟬𝝞𝝞𝝞𝟬𝟬𝝞𝝞𝝞𝟬) (peano:𝝞𝟬𝟬𝝞𝟬𝝞𝝞𝝞𝟬𝟬𝝞𝝞𝝞𝟬)):(peano:𝝞𝟬𝟬𝝞𝟬𝝞𝝞𝝞𝟬𝟬𝝞𝝞𝝞𝟬)))))\n",
      "[21] (count:(({ap get1 A } peano:(peano:(get1 peano:(peano:𝝞𝟬𝟬𝝞𝟬𝝞𝝞𝝞𝟬𝟬𝝞𝝞𝝞𝟬)) (get1 peano:(peano:𝝞𝟬𝟬𝝞𝟬𝝞𝝞𝝞𝟬𝟬𝝞𝝞𝝞𝟬)))):({ B} peano:(peano:(get1 peano:(peano:𝝞𝟬𝟬𝝞𝟬𝝞𝝞𝝞𝟬𝟬𝝞𝝞𝝞𝟬)) (get1 peano:(peano:𝝞𝟬𝟬𝝞𝟬𝝞𝝞𝝞𝟬𝟬𝝞𝝞𝝞𝟬))))))\n",
      "[22] (count:(({ap get1 A} peano:(peano:(if (= peano:peano):𝝞𝟬𝟬𝝞𝟬𝝞𝝞𝝞𝟬𝟬𝝞𝝞𝝞𝟬) (if (= peano:peano):𝝞𝟬𝟬𝝞𝟬𝝞𝝞𝝞𝟬𝟬𝝞𝝞𝝞𝟬))):({B} peano:(peano:(if (= peano:peano):𝝞𝟬𝟬𝝞𝟬𝝞𝝞𝝞𝟬𝟬𝝞𝝞𝝞𝟬) (if (= peano:peano):𝝞𝟬𝟬𝝞𝟬𝝞𝝞𝝞𝟬𝟬𝝞𝝞𝝞𝟬)))))\n",
      "[23] (count:(({ap} peano:(peano:𝝞𝟬𝟬𝝞𝟬𝝞𝝞𝝞𝟬𝟬𝝞𝝞𝝞𝟬 𝝞𝟬𝟬𝝞𝟬𝝞𝝞𝝞𝟬𝟬𝝞𝝞𝝞𝟬)) ({get1 A} peano:(peano:𝝞𝟬𝟬𝝞𝟬𝝞𝝞𝝞𝟬𝟬𝝞𝝞𝝞𝟬 𝝞𝟬𝟬𝝞𝟬𝝞𝝞𝝞𝟬𝟬𝝞𝝞𝝞𝟬)):(peano:𝝞𝟬𝟬𝝞𝟬𝝞𝝞𝝞𝟬𝟬𝝞𝝞𝝞𝟬 𝝞𝟬𝟬𝝞𝟬𝝞𝝞𝝞𝟬𝟬𝝞𝝞𝝞𝟬)))\n",
      "[24] (count:(({get1} peano:(peano:𝝞𝟬𝟬𝝞𝟬𝝞𝝞𝝞𝟬𝟬𝝞𝝞𝝞𝟬 𝝞𝟬𝟬𝝞𝟬𝝞𝝞𝝞𝟬𝟬𝝞𝝞𝝞𝟬)) ({A} peano:(peano:𝝞𝟬𝟬𝝞𝟬𝝞𝝞𝝞𝟬𝟬𝝞𝝞𝝞𝟬 𝝞𝟬𝟬𝝞𝟬𝝞𝝞𝝞𝟬𝟬𝝞𝝞𝝞𝟬)):(peano:𝝞𝟬𝟬𝝞𝟬𝝞𝝞𝝞𝟬𝟬𝝞𝝞𝝞𝟬 𝝞𝟬𝟬𝝞𝟬𝝞𝝞𝝞𝟬𝟬𝝞𝝞𝝞𝟬)))\n",
      "[25] (count:(if (= peano:peano):𝝞𝟬𝟬𝝞𝟬𝝞𝝞𝝞𝟬𝟬𝝞𝝞𝝞𝟬 𝝞𝟬𝟬𝝞𝟬𝝞𝝞𝝞𝟬𝟬𝝞𝝞𝝞𝟬))\n",
      "[26] 2"
     ]
    }
   ],
   "source": [
    "step : term peano : sum peano : 1? 1?"
   ]
  },
  {
   "cell_type": "markdown",
   "id": "c47adde1-cdb3-410a-9a2a-6b29fae68994",
   "metadata": {},
   "source": [
    "Strictly speaking, this is a coda proof of a bit more since it includes the language interpretation of {....} in    \n",
    "\n",
    "`({term peano : sum peano : 1? 1?}:) = 2`\n",
    "\n",
    "The first step, for instance, is removing one blank character in the source code. \n",
    "You can test this equality directly as it's valid Coda."
   ]
  },
  {
   "cell_type": "code",
   "execution_count": 13,
   "id": "9fd9be3f-87c2-41d5-98da-59eddafbbe2b",
   "metadata": {},
   "outputs": [
    {
     "name": "stdout",
     "output_type": "stream",
     "text": []
    }
   ],
   "source": [
    "#\n",
    "#   This returns (), i.e. \"true\".  Try changing the right hand side.  \n",
    "#\n",
    "({term peano : sum peano : 1? 1?}:) = 2 "
   ]
  },
  {
   "cell_type": "code",
   "execution_count": 14,
   "id": "b0c4df83-1f06-42d8-8b20-c3e4eba6872e",
   "metadata": {},
   "outputs": [
    {
     "name": "stdout",
     "output_type": "stream",
     "text": [
      "\u001b[;1mcode:\u001b[0m\n",
      "    \u001b[34;7mapx\u001b[0m\n",
      "\u001b[;1mmodule:\u001b[0m\n",
      "    Apply\n",
      "\u001b[;1msummary:\u001b[0m\n",
      "    apx X A : B gives (X a1:b1) (X a1:b2)... for all ai in A and bi in B.\n",
      "\u001b[;1mdescription:\u001b[0m\n",
      "    This is useful, for instance for making pairs.\n",
      "\u001b[;1mpath:\u001b[0m\n",
      "    /Users/youssef/coda/py/Apply.py\n",
      "\u001b[;1mdemos:\u001b[0m\n",
      "    1. \u001b[35;4mapx put a b c : 1 2 3\u001b[0m\n",
      "    2. \u001b[35;4mapx {put bin : A B} 1 2 3 : a b c\u001b[0m\n",
      "    3. \u001b[35;4mapx int_add 1 2 3 : 1000 2000 3000\u001b[0m\n"
     ]
    }
   ],
   "source": [
    "#\n",
    "#   To make a peano product we can use...\n",
    "#\n",
    "help : apx"
   ]
  },
  {
   "cell_type": "code",
   "execution_count": 15,
   "id": "763b94a1-8614-4206-86f8-4259b2009256",
   "metadata": {},
   "outputs": [
    {
     "name": "stdout",
     "output_type": "stream",
     "text": [
      "(a:1) (a:2) (a:3) (b:1) (b:2) (b:3) (c:1) (c:2) (c:3)"
     ]
    }
   ],
   "source": [
    "#\n",
    "#   apx makes all pairs of A and B as a special case and we can just count them \n",
    "#\n",
    "apx {put A:B} a b c : 1 2 3"
   ]
  },
  {
   "cell_type": "code",
   "execution_count": 16,
   "id": "752384e8-e5e9-4cc8-985e-8430deffadfa",
   "metadata": {},
   "outputs": [
    {
     "name": "stdout",
     "output_type": "stream",
     "text": []
    }
   ],
   "source": [
    "def peano.prod : {make peano : apx {put A:B} (get peano:A) : (get peano : B) }"
   ]
  },
  {
   "cell_type": "code",
   "execution_count": 17,
   "id": "11feaf8b-ace3-4d9b-b523-df64cfe199d4",
   "metadata": {},
   "outputs": [
    {
     "name": "stdout",
     "output_type": "stream",
     "text": [
      "(peano:◎ ◎ ◎ ◎ ◎ ◎ ◎ ◎ ◎ ◎ ◎ ◎ ◎ ◎ ◎)"
     ]
    }
   ],
   "source": [
    "peano.prod 3? : 5?"
   ]
  },
  {
   "cell_type": "code",
   "execution_count": 18,
   "id": "342d0508-2cdb-40ea-9d9d-f1c6fdde6687",
   "metadata": {},
   "outputs": [
    {
     "name": "stdout",
     "output_type": "stream",
     "text": [
      "(peano:◎ ◎ ◎ ◎ ◎ ◎ ◎ ◎ ◎ ◎ ◎ ◎ ◎ ◎ ◎)"
     ]
    }
   ],
   "source": [
    "#\n",
    "#   app turns a binary operation foo A : B into the \n",
    "#   corresponding operation on each item in B.  (see help:app). \n",
    "#\n",
    "app peano.prod : 3? 5? 1?"
   ]
  },
  {
   "cell_type": "code",
   "execution_count": 19,
   "id": "032ae71b-4e71-4b93-82e6-93745915a6ac",
   "metadata": {},
   "outputs": [
    {
     "name": "stdout",
     "output_type": "stream",
     "text": []
    }
   ],
   "source": [
    "let (Prod:peano) : {app peano.prod : B} "
   ]
  },
  {
   "cell_type": "code",
   "execution_count": 20,
   "id": "380c7baa-5645-4c4c-856b-772944134a4a",
   "metadata": {},
   "outputs": [
    {
     "name": "stdout",
     "output_type": "stream",
     "text": [
      "(peano:◎ ◎ ◎ ◎ ◎ ◎ ◎ ◎ ◎ ◎ ◎ ◎ ◎ ◎ ◎) 15"
     ]
    }
   ],
   "source": [
    "prod peano : 3? 5?\n",
    "term peano : prod peano : 1? 3? 5?"
   ]
  },
  {
   "cell_type": "code",
   "execution_count": null,
   "id": "214fe3fa-6b04-4846-9802-e5eafcdb9dd3",
   "metadata": {},
   "outputs": [],
   "source": []
  }
 ],
 "metadata": {
  "kernelspec": {
   "display_name": "coda",
   "language": "",
   "name": "coda"
  },
  "language_info": {
   "file_extension": ".co",
   "mimetype": "text/plain",
   "name": "Any text"
  }
 },
 "nbformat": 4,
 "nbformat_minor": 5
}
