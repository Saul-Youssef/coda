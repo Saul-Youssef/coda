{
 "cells": [
  {
   "cell_type": "code",
   "execution_count": 1,
   "id": "c598be4e-247b-40f5-a5d0-b066a8b7f5eb",
   "metadata": {},
   "outputs": [
    {
     "name": "stdout",
     "output_type": "stream",
     "text": [
      "(defaultTime:1000)"
     ]
    }
   ],
   "source": [
    "defaultTime:1000"
   ]
  },
  {
   "cell_type": "code",
   "execution_count": 2,
   "id": "b52139c0-2ffe-4b7d-b2a9-6069dfae8d19",
   "metadata": {},
   "outputs": [
    {
     "name": "stdout",
     "output_type": "stream",
     "text": []
    }
   ],
   "source": [
    "import : dir co :  up : ."
   ]
  },
  {
   "cell_type": "code",
   "execution_count": 3,
   "id": "ab90c41e-842c-4b95-bf27-19b2d2e8fff3",
   "metadata": {},
   "outputs": [
    {
     "name": "stdout",
     "output_type": "stream",
     "text": [
      "(n:15)"
     ]
    }
   ],
   "source": [
    "n.sum : n.make : 1 4 4 6 "
   ]
  },
  {
   "cell_type": "code",
   "execution_count": 4,
   "id": "0391f97f-f09a-41a7-b8ca-b48c77a4b9af",
   "metadata": {},
   "outputs": [
    {
     "name": "stdout",
     "output_type": "stream",
     "text": [
      "(m:1515)"
     ]
    }
   ],
   "source": [
    "m.sum : m.make : 1 1515 15 "
   ]
  },
  {
   "cell_type": "code",
   "execution_count": 5,
   "id": "2295cc1f-4db2-43e8-9a71-d2aee6f8a177",
   "metadata": {},
   "outputs": [
    {
     "name": "stdout",
     "output_type": "stream",
     "text": [
      " (with constant:◎) \n",
      " (with nilpotent_left:◎) \n",
      " (with nilpotent_right:) \n",
      " (with idempotent:◎) \n",
      " (with involution:◎) \n",
      " (with semilattice:◎) \n",
      " (with algebraic_L1:◎) \n"
     ]
    }
   ],
   "source": [
    "tab : do 100 : spectrum1 S6? : n.make "
   ]
  },
  {
   "cell_type": "code",
   "execution_count": 8,
   "id": "fa193012-d71e-426e-8b9c-b5619a253130",
   "metadata": {},
   "outputs": [
    {
     "name": "stdout",
     "output_type": "stream",
     "text": [
      " (with simple:) \n",
      " (with symmetric:◎) \n",
      " (with idempotent2:) \n",
      " (with distributive:) \n",
      " (with distributive2:◎) \n",
      " (with commutative:◎) \n",
      " (with algebraic_L2:◎) \n",
      " (with algebraic_R2:) \n"
     ]
    }
   ],
   "source": [
    "tab : do 1000 : spectrum2 S6? : n.make "
   ]
  },
  {
   "cell_type": "code",
   "execution_count": 9,
   "id": "a0331dca-fa84-4dae-a532-43719af07e78",
   "metadata": {},
   "outputs": [
    {
     "name": "stdout",
     "output_type": "stream",
     "text": [
      " (with ring_left:◎) \n",
      " (with ring_right:) \n",
      " (with space_a:◎) \n",
      " (with space_b:◎) \n",
      " (with commutative2:◎) \n",
      " (with algebraic_L3:◎) \n"
     ]
    }
   ],
   "source": [
    "tab : do 1000 : spectrum3 S6? : n.make "
   ]
  },
  {
   "cell_type": "code",
   "execution_count": null,
   "id": "711e8592-5188-4cfc-8058-dde78d40020b",
   "metadata": {},
   "outputs": [],
   "source": []
  }
 ],
 "metadata": {
  "kernelspec": {
   "display_name": "coda",
   "language": "",
   "name": "coda"
  },
  "language_info": {
   "file_extension": ".co",
   "mimetype": "text/plain",
   "name": "Any text"
  }
 },
 "nbformat": 4,
 "nbformat_minor": 5
}
