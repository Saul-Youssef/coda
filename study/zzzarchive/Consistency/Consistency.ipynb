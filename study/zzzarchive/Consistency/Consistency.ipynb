{
 "cells": [
  {
   "cell_type": "code",
   "execution_count": 1,
   "id": "53171965-25ee-4e0f-9d35-410042dc90fc",
   "metadata": {},
   "outputs": [
    {
     "name": "stdout",
     "output_type": "stream",
     "text": []
    }
   ],
   "source": [
    "def Both_true_and_false : {bool : (B (not:B))}"
   ]
  },
  {
   "cell_type": "code",
   "execution_count": 2,
   "id": "cddd6903-a016-4dd4-9e45-ae456ecce526",
   "metadata": {},
   "outputs": [
    {
     "name": "stdout",
     "output_type": "stream",
     "text": [
      "◎"
     ]
    }
   ],
   "source": [
    "Both_true_and_false : x"
   ]
  },
  {
   "cell_type": "code",
   "execution_count": 3,
   "id": "0b17970d-06e8-4f49-99d9-03838a60d3d7",
   "metadata": {},
   "outputs": [
    {
     "name": "stdout",
     "output_type": "stream",
     "text": [
      "◎"
     ]
    }
   ],
   "source": [
    "Both_true_and_false : "
   ]
  },
  {
   "cell_type": "code",
   "execution_count": null,
   "id": "2e84870e-f684-41af-ab14-b91d8231d38f",
   "metadata": {},
   "outputs": [],
   "source": []
  }
 ],
 "metadata": {
  "kernelspec": {
   "display_name": "coda",
   "language": "",
   "name": "coda"
  },
  "language_info": {
   "file_extension": ".co",
   "mimetype": "text/plain",
   "name": "Any text"
  }
 },
 "nbformat": 4,
 "nbformat_minor": 5
}
