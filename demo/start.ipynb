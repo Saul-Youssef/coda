{
 "cells": [
  {
   "cell_type": "markdown",
   "id": "be7f4f3a-1a7e-496f-afa7-070e784da5a9",
   "metadata": {},
   "source": [
    "## Startup notebook \n",
    "\n",
    "Run this first to make sure that the most basic things work."
   ]
  },
  {
   "cell_type": "code",
   "execution_count": 1,
   "id": "5d9a3f47-a7ce-4cee-9a8c-dd1ca5f1cff8",
   "metadata": {},
   "outputs": [],
   "source": [
    "from base import *"
   ]
  },
  {
   "cell_type": "code",
   "execution_count": 2,
   "id": "7c7c88a5-c1bf-4ad2-bb10-5d3d0a892f16",
   "metadata": {},
   "outputs": [
    {
     "name": "stdout",
     "output_type": "stream",
     "text": [
      "𝟬 (:)\n",
      "𝟭 (:(:))\n"
     ]
    }
   ],
   "source": [
    "z = data()\n",
    "bit0 = z|z\n",
    "bit1 = z|data(z|z)\n",
    "def pr(*X): \n",
    "    for x in X: print(str(x),repr(x))\n",
    "pr(bit0,bit1)"
   ]
  },
  {
   "cell_type": "code",
   "execution_count": 3,
   "id": "66c9a7ec-b919-4a6d-bfb3-99f53082d5ac",
   "metadata": {},
   "outputs": [
    {
     "name": "stdout",
     "output_type": "stream",
     "text": [
      "(:hello world) (:(:(:)(:(:))(:(:))(:)(:(:))(:)(:)(:))(:(:)(:(:))(:(:))(:)(:)(:(:))(:)(:(:)))(:(:)(:(:))(:(:))(:)(:(:))(:(:))(:)(:))(:(:)(:(:))(:(:))(:)(:(:))(:(:))(:)(:))(:(:)(:(:))(:(:))(:)(:(:))(:(:))(:(:))(:(:)))(:(:)(:)(:(:))(:)(:)(:)(:)(:))(:(:)(:(:))(:(:))(:(:))(:)(:(:))(:(:))(:(:)))(:(:)(:(:))(:(:))(:)(:(:))(:(:))(:(:))(:(:)))(:(:)(:(:))(:(:))(:(:))(:)(:)(:(:))(:))(:(:)(:(:))(:(:))(:)(:(:))(:(:))(:)(:))(:(:)(:(:))(:(:))(:)(:)(:(:))(:)(:)))\n"
     ]
    }
   ],
   "source": [
    "pr(da('hello world'))"
   ]
  },
  {
   "cell_type": "code",
   "execution_count": 4,
   "id": "d4406f55-4751-4bca-8840-184ac8db2f14",
   "metadata": {},
   "outputs": [
    {
     "data": {
      "text/plain": [
       "[, (:nat), (:one), (:int1), (:nat1), (:float1), (:int_add), (:int_mult), (:int_diff), (:int_max), (:int_min), (:float_add), (:float_mult), (:float_diff), (:float_max), (:float_min), (:code_add), (:code_min), (:code_max), (:int_inv), (:float_inv), (:pass), (:null), (:language), (:ap), (:apall), (:app), (:dis), (:adis), (:apx), (:apif), (:help), (:demo), (:defs), (:rev), (:first), (:tail), (:last), (:rep), (:nth1), (:def), (:const), (:let)]"
      ]
     },
     "execution_count": 4,
     "metadata": {},
     "output_type": "execute_result"
    }
   ],
   "source": [
    "CONTEXT"
   ]
  },
  {
   "cell_type": "code",
   "execution_count": 5,
   "id": "8187c1d4-6d91-44c3-ba57-0db8e0608f95",
   "metadata": {},
   "outputs": [],
   "source": [
    "c = da('pass')|(da('x')+da('y')+da('z'))"
   ]
  },
  {
   "cell_type": "code",
   "execution_count": 6,
   "id": "06b106f6-983b-4478-8733-53bbdfc51670",
   "metadata": {},
   "outputs": [
    {
     "name": "stdout",
     "output_type": "stream",
     "text": [
      "((:pass):(:x)(:y)(:z)) ((:(:(:)(:(:))(:(:))(:(:))(:)(:)(:)(:))(:(:)(:(:))(:(:))(:)(:)(:)(:)(:(:)))(:(:)(:(:))(:(:))(:(:))(:)(:)(:(:))(:(:)))(:(:)(:(:))(:(:))(:(:))(:)(:)(:(:))(:(:)))):(:(:(:)(:(:))(:(:))(:(:))(:(:))(:)(:)(:)))(:(:(:)(:(:))(:(:))(:(:))(:(:))(:)(:)(:(:))))(:(:(:)(:(:))(:(:))(:(:))(:(:))(:)(:(:))(:))))\n"
     ]
    }
   ],
   "source": [
    "pr(c)"
   ]
  },
  {
   "cell_type": "code",
   "execution_count": 7,
   "id": "84179092-e894-4974-ac9e-4027ef700e82",
   "metadata": {},
   "outputs": [],
   "source": [
    "domain = c.domain()"
   ]
  },
  {
   "cell_type": "code",
   "execution_count": 8,
   "id": "ab316c71-27dd-45a7-af0a-99c0e07a5644",
   "metadata": {},
   "outputs": [
    {
     "data": {
      "text/plain": [
       "base.data"
      ]
     },
     "execution_count": 8,
     "metadata": {},
     "output_type": "execute_result"
    }
   ],
   "source": [
    "type(domain)"
   ]
  },
  {
   "cell_type": "code",
   "execution_count": 9,
   "id": "d99ff861-04ab-4531-bee1-aee94b0b6c54",
   "metadata": {},
   "outputs": [
    {
     "name": "stdout",
     "output_type": "stream",
     "text": [
      "(:pass) (:(:(:)(:(:))(:(:))(:(:))(:)(:)(:)(:))(:(:)(:(:))(:(:))(:)(:)(:)(:)(:(:)))(:(:)(:(:))(:(:))(:(:))(:)(:)(:(:))(:(:)))(:(:)(:(:))(:(:))(:(:))(:)(:)(:(:))(:(:))))\n"
     ]
    }
   ],
   "source": [
    "pr(domain)"
   ]
  },
  {
   "cell_type": "code",
   "execution_count": 10,
   "id": "0d74fed4-c628-496e-b98a-f06ccdac8587",
   "metadata": {},
   "outputs": [
    {
     "data": {
      "text/plain": [
       "True"
      ]
     },
     "execution_count": 10,
     "metadata": {},
     "output_type": "execute_result"
    }
   ],
   "source": [
    "c in CONTEXT"
   ]
  },
  {
   "cell_type": "code",
   "execution_count": 11,
   "id": "38259d61-150b-4cbb-97e5-9512f8ab3c12",
   "metadata": {},
   "outputs": [
    {
     "data": {
      "text/plain": [
       "[, (:nat), (:one), (:int1), (:nat1), (:float1), (:int_add), (:int_mult), (:int_diff), (:int_max), (:int_min), (:float_add), (:float_mult), (:float_diff), (:float_max), (:float_min), (:code_add), (:code_min), (:code_max), (:int_inv), (:float_inv), (:pass), (:null), (:language), (:ap), (:apall), (:app), (:dis), (:adis), (:apx), (:apif), (:help), (:demo), (:defs), (:rev), (:first), (:tail), (:last), (:rep), (:nth1), (:def), (:const), (:let)]"
      ]
     },
     "execution_count": 11,
     "metadata": {},
     "output_type": "execute_result"
    }
   ],
   "source": [
    "CONTEXT"
   ]
  },
  {
   "cell_type": "code",
   "execution_count": null,
   "id": "cf1d7145-d61a-4f9f-b704-9f3146c5085d",
   "metadata": {},
   "outputs": [],
   "source": []
  }
 ],
 "metadata": {
  "kernelspec": {
   "display_name": "Python 3 (ipykernel)",
   "language": "python",
   "name": "python3"
  },
  "language_info": {
   "codemirror_mode": {
    "name": "ipython",
    "version": 3
   },
   "file_extension": ".py",
   "mimetype": "text/x-python",
   "name": "python",
   "nbconvert_exporter": "python",
   "pygments_lexer": "ipython3",
   "version": "3.10.7"
  }
 },
 "nbformat": 4,
 "nbformat_minor": 5
}
