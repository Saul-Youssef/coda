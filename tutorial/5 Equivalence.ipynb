{
 "cells": [
  {
   "cell_type": "markdown",
   "id": "d20eba54-abb6-4fbb-9af2-43e8ed96d1e1",
   "metadata": {},
   "source": [
    "## Equivalence Classes\n",
    "\n",
    "Suppose that we want to collect data with a common property of some sort.  The foundational version of \n",
    "this the **collect** operation which takes a collection of atoms (a1:b1) (a2:b2) (a3:b3)...(an:bn) and collects right-hand-sides for common left-hand-sides."
   ]
  },
  {
   "cell_type": "code",
   "execution_count": 1,
   "id": "0ee430c4-4394-4aa4-bc0a-2e1460a4bb59",
   "metadata": {},
   "outputs": [
    {
     "name": "stdout",
     "output_type": "stream",
     "text": [
      "(defaultTime:10)"
     ]
    }
   ],
   "source": [
    "defaultTime:10"
   ]
  },
  {
   "cell_type": "code",
   "execution_count": 2,
   "id": "9b86bab0-762a-4d87-8278-73022fd7be18",
   "metadata": {},
   "outputs": [
    {
     "name": "stdout",
     "output_type": "stream",
     "text": [
      "(bin 1:a) (bin 2:b c d) (bin 1:x y z) (bin 2:p q r)"
     ]
    }
   ],
   "source": [
    "collect : (bin 1:a) (bin 2:b c d) (bin 1:x y z) (bin 2:p q r) "
   ]
  },
  {
   "cell_type": "markdown",
   "id": "b5eddf23-646e-412d-b9f0-c708ca0c9693",
   "metadata": {},
   "source": [
    "**collect** is used by an associated operator **equiv** where\n",
    "\n",
    "* equiv A : b1 b2 b3...\n",
    "\n",
    "computes the equivalence classes of the set b1,b2,... induced by **A** as a function."
   ]
  },
  {
   "cell_type": "code",
   "execution_count": 3,
   "id": "1e76df2a-3cc4-4945-b136-aa1981d2b040",
   "metadata": {},
   "outputs": [
    {
     "name": "stdout",
     "output_type": "stream",
     "text": [
      "(bin 1:a) (bin 1:b) (bin 2:aa) (bin 2:bb) (bin 7:aaaaaaa) (bin 7:ccxcxcx) (bin 2:zz) (bin 3 3:xxx)"
     ]
    }
   ],
   "source": [
    "#\n",
    "#   In this example, collect strings with the same length \n",
    "#\n",
    "equiv nchar : a b aa bb aaaaaaa ccxcxcx zz xxx xxx"
   ]
  },
  {
   "cell_type": "code",
   "execution_count": null,
   "id": "d784c6dc-01f8-4b32-b9ed-e2a097c066ac",
   "metadata": {},
   "outputs": [],
   "source": []
  }
 ],
 "metadata": {
  "kernelspec": {
   "display_name": "coda",
   "language": "",
   "name": "coda"
  },
  "language_info": {
   "file_extension": ".co",
   "mimetype": "text/plain",
   "name": "Any text"
  }
 },
 "nbformat": 4,
 "nbformat_minor": 5
}
