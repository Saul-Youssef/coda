{
 "cells": [
  {
   "cell_type": "code",
   "execution_count": 1,
   "id": "0bf6e561-0a9c-46a1-912d-f2049bc1378f",
   "metadata": {},
   "outputs": [
    {
     "name": "stdout",
     "output_type": "stream",
     "text": []
    }
   ],
   "source": [
    "Def stick : {ap {|}:B} \n",
    "Def pound : {ap {#}:B}"
   ]
  },
  {
   "cell_type": "code",
   "execution_count": 2,
   "id": "1f817745-dbed-44b9-99d6-f856e6cbe91d",
   "metadata": {},
   "outputs": [
    {
     "name": "stdout",
     "output_type": "stream",
     "text": []
    }
   ],
   "source": [
    "import : dir co : up : ."
   ]
  },
  {
   "cell_type": "code",
   "execution_count": 3,
   "id": "84032d6c-9e40-4f69-a45a-7e83a0871bd0",
   "metadata": {},
   "outputs": [
    {
     "name": "stdout",
     "output_type": "stream",
     "text": [
      "0\n",
      "0\n",
      "0\n",
      "0\n",
      "0\n",
      "0"
     ]
    }
   ],
   "source": [
    "count : theorem (simple:stick) : S1?\n",
    "count : theorem (idempotent:stick) : S1?\n",
    "count : theorem (distributive:stick) : S1?\n",
    "count : theorem (simple:pound) : S1? \n",
    "count : theorem (idempotent:pound) : S1?\n",
    "count : theorem (distributive:pound) : S1?"
   ]
  },
  {
   "cell_type": "code",
   "execution_count": 4,
   "id": "1c2ef96d-8b03-4806-ad19-e0e961c68ab3",
   "metadata": {},
   "outputs": [
    {
     "name": "stdout",
     "output_type": "stream",
     "text": []
    }
   ],
   "source": [
    "Def mor : ap {(A:stick:(get:B))=(pound:A:(get:B))} "
   ]
  },
  {
   "cell_type": "code",
   "execution_count": 5,
   "id": "11133031-f80a-41a8-94af-7c9d8c1125c9",
   "metadata": {},
   "outputs": [
    {
     "name": "stdout",
     "output_type": "stream",
     "text": []
    }
   ],
   "source": [
    "mor {{B B} : ap {#}:B} : S1?"
   ]
  },
  {
   "cell_type": "code",
   "execution_count": 6,
   "id": "3151d5a0-a575-406a-98ab-cf08aaaaedc0",
   "metadata": {},
   "outputs": [
    {
     "name": "stdout",
     "output_type": "stream",
     "text": [
      "0\n",
      "60\n",
      "0"
     ]
    }
   ],
   "source": [
    "count : mor {ap {#}:B} : S1?\n",
    "count : mor pass : S1?\n",
    "count : mor {{B B} : ap {#}:B} : S1?"
   ]
  },
  {
   "cell_type": "code",
   "execution_count": 7,
   "id": "63784c19-7ec6-4752-8aca-7b7b36db9533",
   "metadata": {},
   "outputs": [
    {
     "name": "stdout",
     "output_type": "stream",
     "text": []
    }
   ],
   "source": [
    "Def Mor : {put bin (get:B) : count : mor (get:B) : A} "
   ]
  },
  {
   "cell_type": "code",
   "execution_count": 8,
   "id": "74c97c72-253c-4395-9f1d-fe415eb6c475",
   "metadata": {},
   "outputs": [
    {
     "name": "stdout",
     "output_type": "stream",
     "text": [
      "(bin {ap {#}:B}:0) (bin pass:60) (bin null:0) (bin {{B B} : ap {#}:B}:0)"
     ]
    }
   ],
   "source": [
    "ap Mor S1? : (:{ap {#}:B}) (:pass) (:null) (:{{B B} : ap {#}:B})"
   ]
  },
  {
   "cell_type": "code",
   "execution_count": null,
   "id": "b09ad403-4112-4607-9962-9b5be5533c94",
   "metadata": {},
   "outputs": [],
   "source": [
    "ap Mor S1? : T1?"
   ]
  },
  {
   "cell_type": "code",
   "execution_count": null,
   "id": "b829b206-61d9-476b-99a8-d027706bc897",
   "metadata": {},
   "outputs": [],
   "source": []
  }
 ],
 "metadata": {
  "kernelspec": {
   "display_name": "coda",
   "language": "",
   "name": "coda"
  },
  "language_info": {
   "file_extension": ".co",
   "mimetype": "text/plain",
   "name": "Any text"
  }
 },
 "nbformat": 4,
 "nbformat_minor": 5
}
