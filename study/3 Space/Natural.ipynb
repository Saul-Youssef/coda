{
 "cells": [
  {
   "cell_type": "markdown",
   "id": "2754b97f-5093-41a1-8852-96f0db6d9db3",
   "metadata": {},
   "source": [
    "## The space of natural numbers "
   ]
  },
  {
   "cell_type": "code",
   "execution_count": 1,
   "id": "def784b3-2c16-4f31-a507-e1d88d214417",
   "metadata": {},
   "outputs": [
    {
     "name": "stdout",
     "output_type": "stream",
     "text": []
    }
   ],
   "source": [
    "import : endswith natural.co : dir co : .  "
   ]
  },
  {
   "cell_type": "code",
   "execution_count": 2,
   "id": "37118d16-09a4-4664-9609-353974b99606",
   "metadata": {},
   "outputs": [
    {
     "name": "stdout",
     "output_type": "stream",
     "text": []
    }
   ],
   "source": [
    "Let a : n.make : 0 \n",
    "Let b : n.make : 1  \n",
    "Let c : n.make : 1 2  \n",
    "Let d : n.make : 45 "
   ]
  },
  {
   "cell_type": "code",
   "execution_count": 3,
   "id": "9c24b92e-e1b6-44b4-9916-78735be66b44",
   "metadata": {},
   "outputs": [
    {
     "name": "stdout",
     "output_type": "stream",
     "text": [
      "(n:0)\n",
      "(n:1)\n",
      "(n:1) (n:2)\n",
      "(n:45)"
     ]
    }
   ],
   "source": [
    "a? \n",
    "b? \n",
    "c?\n",
    "d? "
   ]
  },
  {
   "cell_type": "code",
   "execution_count": 4,
   "id": "124f86da-98e8-47d3-a334-dece818c5b2f",
   "metadata": {},
   "outputs": [
    {
     "name": "stdout",
     "output_type": "stream",
     "text": [
      "(n:0)\n",
      "(n:0)\n",
      "(n:1)\n",
      "(n:4)\n",
      "(n:49)"
     ]
    }
   ],
   "source": [
    "n.sum : \n",
    "n.sum : a? \n",
    "n.sum : a? b? \n",
    "n.sum : a? b? c?\n",
    "n.sum : a? b? c? d? "
   ]
  },
  {
   "cell_type": "code",
   "execution_count": 5,
   "id": "8967a80f-5677-4991-9074-bab217f132a9",
   "metadata": {},
   "outputs": [
    {
     "name": "stdout",
     "output_type": "stream",
     "text": [
      "(n:1)\n",
      "(n:0)\n",
      "(n:1)\n",
      "(n:2)\n",
      "(n:90)"
     ]
    }
   ],
   "source": [
    "n.prod :\n",
    "n.prod : a? b? \n",
    "n.prod : b? \n",
    "n.prod : b? c? \n",
    "n.prod : b? c? d?"
   ]
  },
  {
   "cell_type": "code",
   "execution_count": 6,
   "id": "8736ce0f-5d34-4968-b7e7-9c22d90e9dfe",
   "metadata": {},
   "outputs": [
    {
     "name": "stdout",
     "output_type": "stream",
     "text": [
      "(n:0)\n",
      "(n:24)\n",
      "(n:0)\n",
      "(n:90)\n",
      "(n:180)\n",
      "(n:90)\n",
      "(n:180)"
     ]
    }
   ],
   "source": [
    "n.ring : \n",
    "n.ring (n:1) (n:3) : (n:2) (n:2) (n:4)\n",
    "n.ring (n:0) : (n:45) (n:45)\n",
    "n.ring (n:1) : (n:45) (n:45)\n",
    "n.ring (n:2) : (n:45) (n:45)\n",
    "n.ring (n:1) (n:1) : (n:45) (n:45)\n",
    "n.ring (n:1) (n:2) : (n:45) (n:45)"
   ]
  },
  {
   "cell_type": "code",
   "execution_count": 7,
   "id": "881c7fa1-8e1b-4627-b3d7-da40db988d2d",
   "metadata": {},
   "outputs": [
    {
     "name": "stdout",
     "output_type": "stream",
     "text": []
    }
   ],
   "source": [
    "Let F : end.make n.ring : {B B B}"
   ]
  },
  {
   "cell_type": "code",
   "execution_count": 8,
   "id": "6ec40ace-37ec-49b3-b2ac-253e82529d49",
   "metadata": {},
   "outputs": [
    {
     "name": "stdout",
     "output_type": "stream",
     "text": [
      "(n:18)"
     ]
    }
   ],
   "source": [
    "end.app F? : (n:1) (n:2) (n:3) "
   ]
  },
  {
   "cell_type": "code",
   "execution_count": 9,
   "id": "f1e707bb-c9e0-4516-8094-3aca5c18b057",
   "metadata": {},
   "outputs": [
    {
     "name": "stdout",
     "output_type": "stream",
     "text": [
      "(n:135)"
     ]
    }
   ],
   "source": [
    "end.app F? : (n:45)"
   ]
  },
  {
   "cell_type": "code",
   "execution_count": 10,
   "id": "3aa035b1-0e4c-418a-bbdd-8188a4aff5d9",
   "metadata": {},
   "outputs": [
    {
     "name": "stdout",
     "output_type": "stream",
     "text": []
    }
   ],
   "source": [
    "Let G: end.make n.ring : end.sum n.ring "
   ]
  },
  {
   "cell_type": "code",
   "execution_count": 11,
   "id": "538d0f18-1911-41ad-833d-a7ac7db0feba",
   "metadata": {},
   "outputs": [
    {
     "name": "stdout",
     "output_type": "stream",
     "text": []
    }
   ],
   "source": [
    "Let H: end.make n.ring : n.sum "
   ]
  },
  {
   "cell_type": "code",
   "execution_count": 12,
   "id": "9a87b160-d3f8-4300-afa0-dc31d208988f",
   "metadata": {},
   "outputs": [
    {
     "name": "stdout",
     "output_type": "stream",
     "text": [
      "(n:13)"
     ]
    }
   ],
   "source": [
    "end.app H? : (n:12) (n:1)"
   ]
  },
  {
   "cell_type": "code",
   "execution_count": 13,
   "id": "54d5d3bc-43ca-4f98-8322-bf0df75e35c9",
   "metadata": {},
   "outputs": [
    {
     "name": "stdout",
     "output_type": "stream",
     "text": []
    }
   ],
   "source": [
    "Let h : end.app H?"
   ]
  },
  {
   "cell_type": "code",
   "execution_count": 14,
   "id": "0f3493aa-7a6d-4dbb-b3f9-6cf333b98b9a",
   "metadata": {},
   "outputs": [
    {
     "name": "stdout",
     "output_type": "stream",
     "text": [
      "(n:4)"
     ]
    }
   ],
   "source": [
    "h? : (h? : (n:1)) (h? : (n:1) (n:2))"
   ]
  },
  {
   "cell_type": "code",
   "execution_count": 15,
   "id": "9739f3a7-faa8-4de5-aad6-87dd0376730c",
   "metadata": {},
   "outputs": [
    {
     "name": "stdout",
     "output_type": "stream",
     "text": [
      "(n:4)"
     ]
    }
   ],
   "source": [
    "h? : (n:1) (n:1) (n:2)"
   ]
  },
  {
   "cell_type": "code",
   "execution_count": 16,
   "id": "9bc3e624-b0e5-404d-9016-671de0898a00",
   "metadata": {},
   "outputs": [
    {
     "name": "stdout",
     "output_type": "stream",
     "text": [
      "(n:2)"
     ]
    }
   ],
   "source": [
    "h? : (n:1) (n:1)"
   ]
  },
  {
   "cell_type": "code",
   "execution_count": 17,
   "id": "cae6ee38-c043-4e0e-b987-789399e424a4",
   "metadata": {},
   "outputs": [
    {
     "name": "stdout",
     "output_type": "stream",
     "text": [
      "end.app (:product (:n.ring) (:n.sum) (:n.ring))"
     ]
    }
   ],
   "source": [
    "h?"
   ]
  },
  {
   "cell_type": "code",
   "execution_count": 18,
   "id": "c7171787-0101-46ed-b14c-2dac6b346833",
   "metadata": {},
   "outputs": [
    {
     "name": "stdout",
     "output_type": "stream",
     "text": [
      "(n:1)"
     ]
    }
   ],
   "source": [
    "product (:n.ring) (:n.sum) (:n.ring) : (n:1)"
   ]
  },
  {
   "cell_type": "code",
   "execution_count": 19,
   "id": "501b86b6-52e9-4c10-a5ec-37f4fa8d86f2",
   "metadata": {},
   "outputs": [
    {
     "name": "stdout",
     "output_type": "stream",
     "text": [
      "(n:90)"
     ]
    }
   ],
   "source": [
    "n.ring * n.sum * n.ring (n:45) : (n:2)"
   ]
  },
  {
   "cell_type": "code",
   "execution_count": 21,
   "id": "288e1ec5-51dd-4eb5-8331-c4ba4d63f123",
   "metadata": {},
   "outputs": [
    {
     "name": "stdout",
     "output_type": "stream",
     "text": [
      "(n:13)"
     ]
    }
   ],
   "source": [
    "product (:n.ring) (:n.sum) (:n.ring) : (n:12) (n:1)"
   ]
  },
  {
   "cell_type": "code",
   "execution_count": 22,
   "id": "27af18e4-7f00-48d2-a768-da8cf86a90da",
   "metadata": {},
   "outputs": [
    {
     "name": "stdout",
     "output_type": "stream",
     "text": [
      "(n:13)"
     ]
    }
   ],
   "source": [
    "n.ring * n.sum * n.ring : (n:12) (n:1)"
   ]
  },
  {
   "cell_type": "code",
   "execution_count": null,
   "id": "214b9c54-0999-4ad2-921b-b367cd4024fd",
   "metadata": {},
   "outputs": [],
   "source": []
  }
 ],
 "metadata": {
  "kernelspec": {
   "display_name": "coda",
   "language": "",
   "name": "coda"
  },
  "language_info": {
   "file_extension": ".co",
   "mimetype": "text/plain",
   "name": "Any text"
  }
 },
 "nbformat": 4,
 "nbformat_minor": 5
}
