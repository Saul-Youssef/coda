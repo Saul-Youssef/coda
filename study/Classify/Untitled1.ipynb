{
 "cells": [
  {
   "cell_type": "code",
   "execution_count": 1,
   "id": "e22be95c-265c-4ab8-ae6e-b62588eef087",
   "metadata": {},
   "outputs": [
    {
     "name": "stdout",
     "output_type": "stream",
     "text": [
      "b b c"
     ]
    }
   ],
   "source": [
    "apbin {b B}: a b c "
   ]
  },
  {
   "cell_type": "code",
   "execution_count": 2,
   "id": "f1c4bc5f-919e-4a51-8826-396422f947a0",
   "metadata": {},
   "outputs": [
    {
     "name": "stdout",
     "output_type": "stream",
     "text": [
      "b b b b b b b s"
     ]
    }
   ],
   "source": [
    "apbin {b B} : a b c a d g a s "
   ]
  },
  {
   "cell_type": "code",
   "execution_count": 3,
   "id": "3b0ef5ec-dac9-4cde-9853-3ef93f94dc83",
   "metadata": {},
   "outputs": [
    {
     "name": "stdout",
     "output_type": "stream",
     "text": []
    }
   ],
   "source": [
    "def f : {apbin {b B}:B}\n"
   ]
  },
  {
   "cell_type": "code",
   "execution_count": 4,
   "id": "0c48b02c-0440-4afb-83dc-c042c6fec654",
   "metadata": {},
   "outputs": [
    {
     "name": "stdout",
     "output_type": "stream",
     "text": [
      "b b b b b b b s"
     ]
    }
   ],
   "source": [
    "f : a b c a d g a s\n"
   ]
  },
  {
   "cell_type": "code",
   "execution_count": 5,
   "id": "988feb65-0049-4ee3-b8ae-d80c5b4f61ee",
   "metadata": {},
   "outputs": [
    {
     "name": "stdout",
     "output_type": "stream",
     "text": [
      "b b"
     ]
    }
   ],
   "source": [
    "f:a b"
   ]
  },
  {
   "cell_type": "code",
   "execution_count": 6,
   "id": "bd3ccec0-c19f-4e07-9ffd-390314c01af3",
   "metadata": {},
   "outputs": [
    {
     "name": "stdout",
     "output_type": "stream",
     "text": [
      "a b"
     ]
    }
   ],
   "source": [
    "(f:a) (f:b)"
   ]
  },
  {
   "cell_type": "code",
   "execution_count": 7,
   "id": "5935cf85-b9a8-4efd-aedd-8bdce103a231",
   "metadata": {},
   "outputs": [
    {
     "name": "stdout",
     "output_type": "stream",
     "text": [
      "b b"
     ]
    }
   ],
   "source": [
    "f:(f:a) (f:b)"
   ]
  },
  {
   "cell_type": "code",
   "execution_count": 8,
   "id": "1654fb6f-675c-449b-b27e-929020e52ca9",
   "metadata": {},
   "outputs": [
    {
     "name": "stdout",
     "output_type": "stream",
     "text": [
      "a b"
     ]
    }
   ],
   "source": [
    "(f:a) (f:b)"
   ]
  },
  {
   "cell_type": "code",
   "execution_count": null,
   "id": "f698c21b-ee38-4c76-a892-5b72177bd001",
   "metadata": {},
   "outputs": [],
   "source": []
  }
 ],
 "metadata": {
  "kernelspec": {
   "display_name": "coda",
   "language": "",
   "name": "coda"
  },
  "language_info": {
   "file_extension": ".co",
   "mimetype": "text/plain",
   "name": "Any text"
  }
 },
 "nbformat": 4,
 "nbformat_minor": 5
}
