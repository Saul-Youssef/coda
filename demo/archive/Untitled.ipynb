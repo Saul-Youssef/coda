{
 "cells": [
  {
   "cell_type": "code",
   "execution_count": 1,
   "id": "f6eced2e-5d43-42de-8a25-f4190e37cd2c",
   "metadata": {},
   "outputs": [
    {
     "name": "stdout",
     "output_type": "stream",
     "text": [
      "c b a"
     ]
    }
   ],
   "source": [
    "rev : a b c"
   ]
  },
  {
   "cell_type": "code",
   "execution_count": 2,
   "id": "43d0e645-64f7-4faa-8d0a-1e4731706da8",
   "metadata": {},
   "outputs": [
    {
     "name": "stdout",
     "output_type": "stream",
     "text": [
      "a b c"
     ]
    }
   ],
   "source": [
    "pass : a b c"
   ]
  },
  {
   "cell_type": "code",
   "execution_count": 6,
   "id": "8ed4bf3c-fcb5-4b10-b1e9-90b328e15445",
   "metadata": {},
   "outputs": [
    {
     "name": "stdout",
     "output_type": "stream",
     "text": [
      "(:)"
     ]
    }
   ],
   "source": [
    "pure : put :"
   ]
  },
  {
   "cell_type": "code",
   "execution_count": 7,
   "id": "92f31c38-45eb-40a5-8c9b-7bc68a00ff7b",
   "metadata": {},
   "outputs": [
    {
     "name": "stdout",
     "output_type": "stream",
     "text": [
      "((:(:)):((:):(:)(:(:))(:(:))(:)(:)(:)(:)(:(:))))"
     ]
    }
   ],
   "source": [
    "pure : a"
   ]
  },
  {
   "cell_type": "code",
   "execution_count": 8,
   "id": "984cf826-beef-4e5f-8123-2dbcc645914b",
   "metadata": {},
   "outputs": [
    {
     "name": "stdout",
     "output_type": "stream",
     "text": [
      "a"
     ]
    }
   ],
   "source": [
    "a"
   ]
  },
  {
   "cell_type": "code",
   "execution_count": 9,
   "id": "3fccf4ed-54d8-457c-a180-7374e9a085aa",
   "metadata": {},
   "outputs": [
    {
     "name": "stdout",
     "output_type": "stream",
     "text": [
      "(repr:a)"
     ]
    }
   ],
   "source": [
    "repr : a"
   ]
  },
  {
   "cell_type": "code",
   "execution_count": 10,
   "id": "cdb6cda3-3ef7-4011-9c6d-44ade94730de",
   "metadata": {},
   "outputs": [
    {
     "name": "stdout",
     "output_type": "stream",
     "text": [
      "\u001b[;1mcode:\u001b[0m\n",
      "    \u001b[34;7mpure\u001b[0m\n",
      "\u001b[;1mmodule:\u001b[0m\n",
      "    Code\n",
      "\u001b[;1msummary:\u001b[0m\n",
      "    Selects codes that start/end with argument specified pre or post code\n",
      "\u001b[;1mdescription:\u001b[0m\n",
      "\u001b[;1mpath:\u001b[0m\n",
      "    /Users/youssef/coda/py/Code.py\n",
      "\u001b[;1mdemos:\u001b[0m\n",
      "    1. \u001b[35;4mstartswith xy : xya xbbbx yzzz xycccx\u001b[0m\n",
      "    2. \u001b[35;4mstartswith x y : x y <> xx yy zz\u001b[0m\n",
      "    3. \u001b[35;4mstartswith <x y> : <x yaaa> <x ybbb> xxx\u001b[0m\n",
      "    4. \u001b[35;4mendswith a : xa xb xc ya yb yc\u001b[0m\n",
      "    5. \u001b[35;4mendswith a b : xa xb xc ya yb yc\u001b[0m\n"
     ]
    }
   ],
   "source": []
  },
  {
   "cell_type": "code",
   "execution_count": null,
   "id": "8a26de87-f99c-4124-b065-746164cc4864",
   "metadata": {},
   "outputs": [],
   "source": []
  }
 ],
 "metadata": {
  "kernelspec": {
   "display_name": "coda",
   "language": "",
   "name": "coda"
  },
  "language_info": {
   "file_extension": ".co",
   "mimetype": "text/plain",
   "name": "Any text"
  }
 },
 "nbformat": 4,
 "nbformat_minor": 5
}
