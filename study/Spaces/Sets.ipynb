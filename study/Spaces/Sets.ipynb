{
 "cells": [
  {
   "cell_type": "markdown",
   "id": "9d99b95b-c79e-4f2c-8bca-04c64fcd2765",
   "metadata": {},
   "source": [
    "## Sets as spaces\n",
    "\n",
    "Lots of mathematics is based on sets with structure.  Here we explore and demonstrate how such structures are created from pure data. \n",
    "\n",
    "In pure data, everything is data, so sets should be collections of data.  The natural way to specify this is by specifying the collection as A:X for\n"
   ]
  },
  {
   "cell_type": "code",
   "execution_count": 1,
   "id": "66659672-032f-48b9-b682-82da1d0a1590",
   "metadata": {},
   "outputs": [
    {
     "name": "stdout",
     "output_type": "stream",
     "text": [
      "\u001b[;1mcode:\u001b[0m\n",
      "    \u001b[34;7mker\u001b[0m\n",
      "\u001b[;1mmodule:\u001b[0m\n",
      "    Application\n",
      "\u001b[;1msummary:\u001b[0m\n",
      "    ker A is the space determined by A:X=().\n",
      "\u001b[;1mdescription:\u001b[0m\n",
      "\u001b[;1mpath:\u001b[0m\n",
      "    /Users/youssef/coda/co/Application.co\n",
      "\u001b[;1msource code:\u001b[0m\n",
      "    def ker : {if (A:B):B}\n",
      "\u001b[;1mdemos:\u001b[0m\n",
      "    1. \u001b[35;4mker null : a b c\u001b[0m\n",
      "    2. \u001b[35;4mker pass : a b c\u001b[0m\n",
      "    3. \u001b[35;4mker {3=(count:B)} : a b c d\u001b[0m\n",
      "    4. \u001b[35;4mker {3=(count:B)} : a b c\u001b[0m\n"
     ]
    }
   ],
   "source": [
    "help : ker"
   ]
  },
  {
   "cell_type": "code",
   "execution_count": 5,
   "id": "43e50d32-2598-4402-8a92-a5f99f1bd3ec",
   "metadata": {},
   "outputs": [
    {
     "name": "stdout",
     "output_type": "stream",
     "text": [
      "a b c"
     ]
    }
   ],
   "source": [
    "ker null : a b c "
   ]
  },
  {
   "cell_type": "code",
   "execution_count": 4,
   "id": "7f9be02f-9a1a-47f2-9d1e-963684c6c5bd",
   "metadata": {},
   "outputs": [
    {
     "name": "stdout",
     "output_type": "stream",
     "text": []
    }
   ],
   "source": [
    "ker pass : a b c "
   ]
  },
  {
   "cell_type": "code",
   "execution_count": 7,
   "id": "ffeae7da-a5f3-4bed-914f-794efc841da0",
   "metadata": {},
   "outputs": [
    {
     "name": "stdout",
     "output_type": "stream",
     "text": [
      "b"
     ]
    }
   ],
   "source": [
    "ap ker {not : is b:B} : a b c "
   ]
  },
  {
   "cell_type": "code",
   "execution_count": null,
   "id": "abd51f89-abdc-4725-ae51-f0a74272f6f1",
   "metadata": {},
   "outputs": [],
   "source": []
  }
 ],
 "metadata": {
  "kernelspec": {
   "display_name": "coda",
   "language": "",
   "name": "coda"
  },
  "language_info": {
   "file_extension": ".co",
   "mimetype": "text/plain",
   "name": "Any text"
  }
 },
 "nbformat": 4,
 "nbformat_minor": 5
}
