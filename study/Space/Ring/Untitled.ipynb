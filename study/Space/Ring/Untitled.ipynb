{
 "cells": [
  {
   "cell_type": "code",
   "execution_count": 1,
   "id": "3e612110-28d2-4a23-a594-2d983a8fbca2",
   "metadata": {},
   "outputs": [
    {
     "name": "stdout",
     "output_type": "stream",
     "text": []
    }
   ],
   "source": [
    "import : dir co : up : ."
   ]
  },
  {
   "cell_type": "code",
   "execution_count": 7,
   "id": "62deb4ff-734f-4a26-b6a8-98939af1acf3",
   "metadata": {},
   "outputs": [
    {
     "name": "stdout",
     "output_type": "stream",
     "text": [
      "5158"
     ]
    }
   ],
   "source": [
    "count : S4?"
   ]
  },
  {
   "cell_type": "code",
   "execution_count": 3,
   "id": "35274ca9-f3af-4a8a-a10f-f335488d4022",
   "metadata": {},
   "outputs": [
    {
     "name": "stdout",
     "output_type": "stream",
     "text": [
      "(:◎ ◎) (:◎ a) (:◎ b) (:◎ 0) (:◎ 1) (:◎ (bin:a)) (:◎ (bin 1 2:a b)) (:◎ (bin a:(bin b:1 2))) (:a ◎) (:a a) (:a b) (:a 0) (:a 1) (:a (bin:a)) (:a (bin 1 2:a b)) (:a (bin a:(bin b:1 2))) (:b ◎) (:b a) (:b b) (:b 0) (:b 1) (:b (bin:a)) (:b (bin 1 2:a b)) (:b (bin a:(bin b:1 2))) (:0 ◎) (:0 a) (:0 b) (:0 0) (:0 1) (:0 (bin:a)) (:0 (bin 1 2:a b)) (:0 (bin a:(bin b:1 2))) (:1 ◎) (:1 a) (:1 b) (:1 0) (:1 1) (:1 (bin:a)) (:1 (bin 1 2:a b)) (:1 (bin a:(bin b:1 2))) (:(bin:a) ◎) (:(bin:a) a) (:(bin:a) b) (:(bin:a) 0) (:(bin:a) 1) (:(bin:a) (bin:a)) (:(bin:a) (bin 1 2:a b)) (:(bin:a) (bin a:(bin b:1 2))) (:(bin 1 2:a b) ◎) (:(bin 1 2:a b) a) (:(bin 1 2:a b) b) (:(bin 1 2:a b) 0) (:(bin 1 2:a b) 1) (:(bin 1 2:a b) (bin:a)) (:(bin 1 2:a b) (bin 1 2:a b)) (:(bin 1 2:a b) (bin a:(bin b:1 2))) (:(bin a:(bin b:1 2)) ◎) (:(bin a:(bin b:1 2)) a) (:(bin a:(bin b:1 2)) b) (:(bin a:(bin b:1 2)) 0) (:(bin a:(bin b:1 2)) 1) (:(bin a:(bin b:1 2)) (bin:a)) (:(bin a:(bin b:1 2)) (bin 1 2:a b)) (:(bin a:(bin b:1 2)) (bin a:(bin b:1 2)))"
     ]
    }
   ],
   "source": [
    "S2?"
   ]
  },
  {
   "cell_type": "code",
   "execution_count": 9,
   "id": "f3bc058c-652b-4994-952a-3247d27fa779",
   "metadata": {},
   "outputs": [
    {
     "name": "stdout",
     "output_type": "stream",
     "text": []
    }
   ],
   "source": [
    "ar null : "
   ]
  },
  {
   "cell_type": "code",
   "execution_count": 10,
   "id": "a3c2959d-e7ce-45cf-b2e8-977f82f47299",
   "metadata": {},
   "outputs": [
    {
     "name": "stdout",
     "output_type": "stream",
     "text": [
      "\u001b[;1mcode:\u001b[0m\n",
      "    \u001b[34;7mtheorem\u001b[0m\n",
      "\u001b[;1mmodule:\u001b[0m\n",
      "    Search\n",
      "\u001b[;1msummary:\u001b[0m\n",
      "    demo: permutation 2 : a b\n",
      "\u001b[;1mdescription:\u001b[0m\n",
      "\u001b[;1mpath:\u001b[0m\n",
      "    /Users/youssef/coda/co/Search.co\n",
      "\u001b[;1msource code:\u001b[0m\n",
      "    def cases : {ap {with (right:B):A} A : assign A : B}\n",
      "    def theorem : {ap {if (not:right:B):B} : eval : cases A : B}\n",
      "\u001b[;1mdemos:\u001b[0m\n",
      "    1. \u001b[35;4mpermutation 2 : a b\u001b[0m\n",
      "    2. \u001b[35;4mpermutation 3 : a b\u001b[0m\n",
      "    3. \u001b[35;4mpermutation 3 : a\u001b[0m\n",
      "    4. \u001b[35;4massign (x?=y?) : (:a b) (:a a)\u001b[0m\n",
      "    5. \u001b[35;4mcases (x?=y?) : (:a b) (:a a)\u001b[0m\n",
      "    6. \u001b[35;4meval : cases (x?=y?) : (:a b) (:a a)\u001b[0m\n",
      "    7. \u001b[35;4mcases (count:(x?=y?)) : permutation 2 : a b\u001b[0m\n",
      "    8. \u001b[35;4meval : cases (count:(x?=y?)) : permutation 2 : a b\u001b[0m\n",
      "    9. \u001b[35;4mget with : eval : cases (count:(x?=y?)) : permutation 2 : a b\u001b[0m\n",
      "    10. \u001b[35;4mcases (x?=(rev:x?)) : (:a a) (:b b) (:a b)\u001b[0m\n",
      "    11. \u001b[35;4mtheorem (x?=(rev:x?)) : (:a a) (:b b) (:a b)\u001b[0m\n",
      "    12. \u001b[35;4mtheorem (x?=(rev:x?)) : (:a a) (:b b) (:x x x)\u001b[0m\n"
     ]
    }
   ],
   "source": [
    "help : theorem"
   ]
  },
  {
   "cell_type": "code",
   "execution_count": null,
   "id": "0450a2c0-96ad-4c06-8291-117c53c8a56d",
   "metadata": {},
   "outputs": [],
   "source": []
  }
 ],
 "metadata": {
  "kernelspec": {
   "display_name": "coda",
   "language": "",
   "name": "coda"
  },
  "language_info": {
   "file_extension": ".co",
   "mimetype": "text/plain",
   "name": "Any text"
  }
 },
 "nbformat": 4,
 "nbformat_minor": 5
}
