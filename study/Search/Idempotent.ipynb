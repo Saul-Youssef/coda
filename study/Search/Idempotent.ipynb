{
 "cells": [
  {
   "cell_type": "markdown",
   "id": "9ca75758-a242-41db-8b2f-2c0b03771cd8",
   "metadata": {},
   "source": [
    "## Algebraic properties: Which operators are nullpotent and idempotent?\n",
    "\n",
    "* Data A is **idempotent** if A:A:X is equal to A:X for all data X. \n",
    "* Data A is **nullpotent** if A:X is equal to () for all data X. \n",
    "\n",
    "Start with some samples for testing:"
   ]
  },
  {
   "cell_type": "code",
   "execution_count": 1,
   "id": "a6ab81a8-d43f-4f92-aad4-0af1825d122b",
   "metadata": {},
   "outputs": [
    {
     "name": "stdout",
     "output_type": "stream",
     "text": [
      "(:◎ ◎) (:◎ a) (:◎ b) (:◎ 0) (:◎ 1) (:a ◎) (:a a) (:a b) (:a 0) (:a 1) (:b ◎) (:b a) (:b b) (:b 0) (:b 1) (:0 ◎) (:0 a) (:0 b) (:0 0) (:0 1) (:1 ◎) (:1 a) (:1 b) (:1 0) (:1 1)"
     ]
    }
   ],
   "source": [
    "permutation 2 : (:) a b 0 1 "
   ]
  },
  {
   "cell_type": "code",
   "execution_count": 2,
   "id": "06f50b88-b854-43a9-a074-bd7d96ece516",
   "metadata": {
    "tags": []
   },
   "outputs": [
    {
     "name": "stdout",
     "output_type": "stream",
     "text": []
    }
   ],
   "source": [
    "#\n",
    "#   Prepare some samples for testing purposes \n",
    "#   \n",
    "#   S1: hydrogen atoms\n",
    "#   S2: more general atoms mix \n",
    "#   S3: pure data mix\n",
    "#   S4: mix with operators and language.\n",
    "#\n",
    "Let S1 : sample.atom : 5\n",
    "Let S2 : permutation 2 : (:) a b 0 1 \n",
    "Let S3 : sample.pure : 2 2 \n",
    "Let S4 : sample.data <A> <B> <{$}> 0 1 a b (defs:Basic) : 2 2 "
   ]
  },
  {
   "cell_type": "markdown",
   "id": "c11b7b76-dc71-4564-a361-5815def8ce92",
   "metadata": {},
   "source": [
    "In the nilpotent notebook, we proceeded by defining \n",
    "\n",
    "* Def nilpotent : {A:B} \n",
    "\n",
    "as a starting point so that nilpotent A : B is true if A is nilpotent applied to the data B.  We could proceed in a similar way via \n",
    "\n",
    "* Def idempotent : {(A:A:B)=(A:B)} \n",
    "\n",
    "so that idempotent A : B is true if A is idempotent on B.  This works fine, but, let's take a more general approach where with think of idempotency as a potential theorem. Define \n",
    "\n",
    "* Def idempotent : {(B:B:x?)=(B:x?)} \n",
    "\n",
    "so that (idempotent:first) for instance, is (first:first:x?)=(first:x?), and if this is not false for any data x?, then we say that rev is idempotent.  "
   ]
  },
  {
   "cell_type": "code",
   "execution_count": 3,
   "id": "39f07da1-c8f6-4bf6-ba83-9359c8262574",
   "metadata": {},
   "outputs": [
    {
     "name": "stdout",
     "output_type": "stream",
     "text": []
    }
   ],
   "source": [
    "Def idempotent : {count:((B:B:x?)=(B:x?))} "
   ]
  },
  {
   "cell_type": "code",
   "execution_count": 4,
   "id": "f7b2cff3-08d6-4ef5-b5f1-f46f998c4474",
   "metadata": {},
   "outputs": [
    {
     "name": "stdout",
     "output_type": "stream",
     "text": [
      "(get with:(with ({right:B} (count:(equal (head 1:(head 1:(x:))):(head 1:(x:)))):(:(let x:))):(({bool} (count:(equal (head 1:(head 1:(x:))):(head 1:(x:)))):(:(let x:))):({A} (count:(equal (head 1:(head 1:(x:))):(head 1:(x:)))):(:(let x:))))) (with ({right:B} (count:(equal (head 1:(head 1:(x:))):(head 1:(x:)))):(:(let x:◎))):(({bool} (count:(equal (head 1:(head 1:(x:))):(head 1:(x:)))):(:(let x:◎))):({A} (count:(equal (head 1:(head 1:(x:))):(head 1:(x:)))):(:(let x:◎))))) (with ({right:B} (count:(equal (head 1:(head 1:(x:))):(head 1:(x:)))):(:(let x:◎ ◎))):(({bool} (count:(equal (head 1:(head 1:(x:))):(head 1:(x:)))):(:(let x:◎ ◎))):({A} (count:(equal (head 1:(head 1:(x:))):(head 1:(x:)))):(:(let x:◎ ◎))))) (with ({right:B} (count:(equal (head 1:(head 1:(x:))):(head 1:(x:)))):(:(let x:◎ ◎ ◎))):(({bool} (count:(equal (head 1:(head 1:(x:))):(head 1:(x:)))):(:(let x:◎ ◎ ◎))):({A} (count:(equal (head 1:(head 1:(x:))):(head 1:(x:)))):(:(let x:◎ ◎ ◎))))) (with ({right:B} (count:(equal (head 1:(head 1:(x:))):(head 1:(x:)))):(:(let x:◎ ◎ ◎ ◎))):(({bool} (count:(equal (head 1:(head 1:(x:))):(head 1:(x:)))):(:(let x:◎ ◎ ◎ ◎))):({A} (count:(equal (head 1:(head 1:(x:))):(head 1:(x:)))):(:(let x:◎ ◎ ◎ ◎))))) (with ({right:B} (count:(equal (head 1:(head 1:(x:))):(head 1:(x:)))):(:(let x:◎ ◎))):(({bool} (count:(equal (head 1:(head 1:(x:))):(head 1:(x:)))):(:(let x:◎ ◎))):({A} (count:(equal (head 1:(head 1:(x:))):(head 1:(x:)))):(:(let x:◎ ◎))))) (with ({right:B} (count:(equal (head 1:(head 1:(x:))):(head 1:(x:)))):(:(let x:◎ a))):(({bool} (count:(equal (head 1:(head 1:(x:))):(head 1:(x:)))):(:(let x:◎ a))):({A} (count:(equal (head 1:(head 1:(x:))):(head 1:(x:)))):(:(let x:◎ a))))) (with ({right:B} (count:(equal (head 1:(head 1:(x:))):(head 1:(x:)))):(:(let x:◎ b))):(({bool} (count:(equal (head 1:(head 1:(x:))):(head 1:(x:)))):(:(let x:◎ b))):({A} (count:(equal (head 1:(head 1:(x:))):(head 1:(x:)))):(:(let x:◎ b))))) (with ({right:B} (count:(equal (head 1:(head 1:(x:))):(head 1:(x:)))):(:(let x:◎ 0))):(({bool} (count:(equal (head 1:(head 1:(x:))):(head 1:(x:)))):(:(let x:◎ 0))):({A} (count:(equal (head 1:(head 1:(x:))):(head 1:(x:)))):(:(let x:◎ 0))))) (with ({right:B} (count:(equal (head 1:(head 1:(x:))):(head 1:(x:)))):(:(let x:◎ 1))):(({bool} (count:(equal (head 1:(head 1:(x:))):(head 1:(x:)))):(:(let x:◎ 1))):({A} (count:(equal (head 1:(head 1:(x:))):(head 1:(x:)))):(:(let x:◎ 1))))) (with ({right:B} (count:(equal (head 1:(head 1:(x:))):(head 1:(x:)))):(:(let x:a ◎))):(({bool} (count:(equal (head 1:(head 1:(x:))):(head 1:(x:)))):(:(let x:a ◎))):({A} (count:(equal (head 1:(head 1:(x:))):(head 1:(x:)))):(:(let x:a ◎))))) (with ({right:B} (count:(equal (head 1:(head 1:(x:))):(head 1:(x:)))):(:(let x:a a))):(({bool} (count:(equal (head 1:(head 1:(x:))):(head 1:(x:)))):(:(let x:a a))):({A} (count:(equal (head 1:(head 1:(x:))):(head 1:(x:)))):(:(let x:a a))))) (with ({right:B} (count:(equal (head 1:(head 1:(x:))):(head 1:(x:)))):(:(let x:a b))):(({bool} (count:(equal (head 1:(head 1:(x:))):(head 1:(x:)))):(:(let x:a b))):({A} (count:(equal (head 1:(head 1:(x:))):(head 1:(x:)))):(:(let x:a b))))) (with ({right:B} (count:(equal (head 1:(head 1:(x:))):(head 1:(x:)))):(:(let x:a 0))):(({bool} (count:(equal (head 1:(head 1:(x:))):(head 1:(x:)))):(:(let x:a 0))):({A} (count:(equal (head 1:(head 1:(x:))):(head 1:(x:)))):(:(let x:a 0))))) (with ({right:B} (count:(equal (head 1:(head 1:(x:))):(head 1:(x:)))):(:(let x:a 1))):(({bool} (count:(equal (head 1:(head 1:(x:))):(head 1:(x:)))):(:(let x:a 1))):({A} (count:(equal (head 1:(head 1:(x:))):(head 1:(x:)))):(:(let x:a 1))))) (with ({right:B} (count:(equal (head 1:(head 1:(x:))):(head 1:(x:)))):(:(let x:b ◎))):(({bool} (count:(equal (head 1:(head 1:(x:))):(head 1:(x:)))):(:(let x:b ◎))):({A} (count:(equal (head 1:(head 1:(x:))):(head 1:(x:)))):(:(let x:b ◎))))) (with ({right:B} (count:(equal (head 1:(head 1:(x:))):(head 1:(x:)))):(:(let x:b a))):(({bool} (count:(equal (head 1:(head 1:(x:))):(head 1:(x:)))):(:(let x:b a))):({A} (count:(equal (head 1:(head 1:(x:))):(head 1:(x:)))):(:(let x:b a))))) (with ({right:B} (count:(equal (head 1:(head 1:(x:))):(head 1:(x:)))):(:(let x:b b))):(({bool} (count:(equal (head 1:(head 1:(x:))):(head 1:(x:)))):(:(let x:b b))):({A} (count:(equal (head 1:(head 1:(x:))):(head 1:(x:)))):(:(let x:b b))))) (with ({right:B} (count:(equal (head 1:(head 1:(x:))):(head 1:(x:)))):(:(let x:b 0))):(({bool} (count:(equal (head 1:(head 1:(x:))):(head 1:(x:)))):(:(let x:b 0))):({A} (count:(equal (head 1:(head 1:(x:))):(head 1:(x:)))):(:(let x:b 0))))) (with ({right:B} (count:(equal (head 1:(head 1:(x:))):(head 1:(x:)))):(:(let x:b 1))):(({bool} (count:(equal (head 1:(head 1:(x:))):(head 1:(x:)))):(:(let x:b 1))):({A} (count:(equal (head 1:(head 1:(x:))):(head 1:(x:)))):(:(let x:b 1))))) (with ({right:B} (count:(equal (head 1:(head 1:(x:))):(head 1:(x:)))):(:(let x:0 ◎))):(({bool} (count:(equal (head 1:(head 1:(x:))):(head 1:(x:)))):(:(let x:0 ◎))):({A} (count:(equal (head 1:(head 1:(x:))):(head 1:(x:)))):(:(let x:0 ◎))))) (with ({right:B} (count:(equal (head 1:(head 1:(x:))):(head 1:(x:)))):(:(let x:0 a))):(({bool} (count:(equal (head 1:(head 1:(x:))):(head 1:(x:)))):(:(let x:0 a))):({A} (count:(equal (head 1:(head 1:(x:))):(head 1:(x:)))):(:(let x:0 a))))) (with ({right:B} (count:(equal (head 1:(head 1:(x:))):(head 1:(x:)))):(:(let x:0 b))):(({bool} (count:(equal (head 1:(head 1:(x:))):(head 1:(x:)))):(:(let x:0 b))):({A} (count:(equal (head 1:(head 1:(x:))):(head 1:(x:)))):(:(let x:0 b))))) (with ({right:B} (count:(equal (head 1:(head 1:(x:))):(head 1:(x:)))):(:(let x:0 0))):(({bool} (count:(equal (head 1:(head 1:(x:))):(head 1:(x:)))):(:(let x:0 0))):({A} (count:(equal (head 1:(head 1:(x:))):(head 1:(x:)))):(:(let x:0 0))))) (with ({right:B} (count:(equal (head 1:(head 1:(x:))):(head 1:(x:)))):(:(let x:0 1))):(({bool} (count:(equal (head 1:(head 1:(x:))):(head 1:(x:)))):(:(let x:0 1))):({A} (count:(equal (head 1:(head 1:(x:))):(head 1:(x:)))):(:(let x:0 1))))) (with ({right:B} (count:(equal (head 1:(head 1:(x:))):(head 1:(x:)))):(:(let x:1 ◎))):(({bool} (count:(equal (head 1:(head 1:(x:))):(head 1:(x:)))):(:(let x:1 ◎))):({A} (count:(equal (head 1:(head 1:(x:))):(head 1:(x:)))):(:(let x:1 ◎))))) (with ({right:B} (count:(equal (head 1:(head 1:(x:))):(head 1:(x:)))):(:(let x:1 a))):(({bool} (count:(equal (head 1:(head 1:(x:))):(head 1:(x:)))):(:(let x:1 a))):({A} (count:(equal (head 1:(head 1:(x:))):(head 1:(x:)))):(:(let x:1 a))))) (with ({right:B} (count:(equal (head 1:(head 1:(x:))):(head 1:(x:)))):(:(let x:1 b))):(({bool} (count:(equal (head 1:(head 1:(x:))):(head 1:(x:)))):(:(let x:1 b))):({A} (count:(equal (head 1:(head 1:(x:))):(head 1:(x:)))):(:(let x:1 b))))) (with ({right:B} (count:(equal (head 1:(head 1:(x:))):(head 1:(x:)))):(:(let x:1 0))):(({bool} (count:(equal (head 1:(head 1:(x:))):(head 1:(x:)))):(:(let x:1 0))):({A} (count:(equal (head 1:(head 1:(x:))):(head 1:(x:)))):(:(let x:1 0))))) (with ({right:B} (count:(equal (head 1:(head 1:(x:))):(head 1:(x:)))):(:(let x:1 1))):(({bool} (count:(equal (head 1:(head 1:(x:))):(head 1:(x:)))):(:(let x:1 1))):({A} (count:(equal (head 1:(head 1:(x:))):(head 1:(x:)))):(:(let x:1 1))))))"
     ]
    }
   ],
   "source": [
    "get with : eval : cases (idempotent:first) : S1? S2?"
   ]
  },
  {
   "cell_type": "code",
   "execution_count": 5,
   "id": "09f4647f-b387-4567-ab62-cdc25fa57b7b",
   "metadata": {},
   "outputs": [
    {
     "name": "stdout",
     "output_type": "stream",
     "text": []
    }
   ],
   "source": [
    "Def Idempotent : {get with : eval : cases (idempotent:B) : A}"
   ]
  },
  {
   "cell_type": "code",
   "execution_count": 6,
   "id": "36e5a2cd-3479-4f1a-9f6f-010c6a0375ea",
   "metadata": {},
   "outputs": [
    {
     "name": "stdout",
     "output_type": "stream",
     "text": [
      "(get with:(ap {with (right:B):bool:A} (count:(equal (head 1:(head 1:(x:))):(head 1:(x:)))):(:(let x:)) (:(let x:◎)) (:(let x:◎ ◎)) (:(let x:◎ ◎ ◎)) (:(let x:◎ ◎ ◎ ◎)) (:(let x:◎ ◎)) (:(let x:◎ a)) (:(let x:◎ b)) (:(let x:◎ 0)) (:(let x:◎ 1)) (:(let x:a ◎)) (:(let x:a a)) (:(let x:a b)) (:(let x:a 0)) (:(let x:a 1)) (:(let x:b ◎)) (:(let x:b a)) (:(let x:b b)) (:(let x:b 0)) (:(let x:b 1)) (:(let x:0 ◎)) (:(let x:0 a)) (:(let x:0 b)) (:(let x:0 0)) (:(let x:0 1)) (:(let x:1 ◎)) (:(let x:1 a)) (:(let x:1 b)) (:(let x:1 0)) (:(let x:1 1))))"
     ]
    }
   ],
   "source": [
    "Idempotent S1? S2? : first "
   ]
  },
  {
   "cell_type": "code",
   "execution_count": null,
   "id": "c7ca176e-a060-4888-950e-943f49491e4b",
   "metadata": {},
   "outputs": [],
   "source": [
    "Def IDEM : ap {bin B : int_sum : Idempotent A : B} "
   ]
  },
  {
   "cell_type": "code",
   "execution_count": null,
   "id": "ed1274e1-e43d-47a5-98f0-44e377e32de5",
   "metadata": {},
   "outputs": [],
   "source": [
    "IDEM S1? : first pass bin {first 2:B} "
   ]
  },
  {
   "cell_type": "code",
   "execution_count": null,
   "id": "ee2dc25b-bcb7-4bd4-8bb1-9708122f4d05",
   "metadata": {},
   "outputs": [],
   "source": [
    "IDEM S1? S2? S3? : defs : Sequence Collect  "
   ]
  },
  {
   "cell_type": "code",
   "execution_count": null,
   "id": "386d7144-9b2d-42ea-b1f8-067b6ae10c87",
   "metadata": {},
   "outputs": [],
   "source": [
    "IDEM S1? S2? S3? : defs : Logic "
   ]
  },
  {
   "cell_type": "code",
   "execution_count": null,
   "id": "8de26bd2-635c-46b9-8abd-89ec24b00938",
   "metadata": {},
   "outputs": [],
   "source": []
  }
 ],
 "metadata": {
  "kernelspec": {
   "display_name": "coda",
   "language": "",
   "name": "coda"
  },
  "language_info": {
   "file_extension": ".co",
   "mimetype": "text/plain",
   "name": "Any text"
  }
 },
 "nbformat": 4,
 "nbformat_minor": 5
}
