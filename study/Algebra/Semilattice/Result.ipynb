{
 "cells": [
  {
   "cell_type": "code",
   "execution_count": 1,
   "id": "7e37b3d8-8b70-4149-b21f-17d9f718e293",
   "metadata": {},
   "outputs": [
    {
     "name": "stdout",
     "output_type": "stream",
     "text": [
      "(use1:(def simple:{(B x?:y?) = (B:y?)})) (use1:(def ring_left:({ { (B x? y?:z?) = (B x?:z?) (B y?:z?) }}:))) (ap use1:({def ring_right: { (B x? : y? z?) = (B x?:y?) (B x?:z?) }}:)) (ap use1:({def nilpotent   : {B:x?}}:) (coda:def nilpotent_left  : {B:x?}  def nilpotent_right : {B x?:}  def symmetric : {(B x?:y?)=(B y?:x?)}  def idempotent  : {(B:B:x?)=(B:x?)}  def idempotent2 : {(B x?:B:y?)=(B:B x?:y?)}  def space_b     : {(B x? y?:z?) = (B x?:B y?:z?)}  def distributive  : {(B:x? y?)=((B:x?) (B:y?))}  def distributive2 : {(B:x? y?)=(B:(B:x?) (B:y?)) }  def space_a : {(B x?:y? z?) = (B: (B x?:y?) (B x?:z?)) } def commutative : {(B:x? y?)=(B:y? x?)}  def commutative2: {(B x?:y? z?)=(B x?:z? y?)}  def involution  : {((B:B:x?)=x?)}  def semilattice : {(B:x? x?)=(B:x?)}  def commuting : { (A*B:x?)=(B*A:x?) } (source:(readpath:/Users/youssef/coda/study/Natural.co /Users/youssef/coda/study/Search.co (dir co:)))))"
     ]
    }
   ],
   "source": [
    "import : dir co : up . : up : . "
   ]
  },
  {
   "cell_type": "code",
   "execution_count": 2,
   "id": "a9bee1ca-bebd-40fa-9f14-5a8ac025bf06",
   "metadata": {},
   "outputs": [
    {
     "name": "stdout",
     "output_type": "stream",
     "text": [
      "(defaultTime:100)"
     ]
    }
   ],
   "source": [
    "defaultTime:100"
   ]
  },
  {
   "cell_type": "code",
   "execution_count": 3,
   "id": "a9af340a-dcee-43e8-be10-a7912cc15b34",
   "metadata": {},
   "outputs": [
    {
     "name": "stdout",
     "output_type": "stream",
     "text": [
      "(bin 7516:) (bin 59:bin) (bin 5118:◎) (bin 177:𝝞) (bin 549:𝟬)"
     ]
    }
   ],
   "source": [
    "stat : C0-R0"
   ]
  },
  {
   "cell_type": "code",
   "execution_count": 4,
   "id": "ed66b9d6-b3d9-44e7-9ffa-03e36b5b956d",
   "metadata": {},
   "outputs": [
    {
     "name": "stdout",
     "output_type": "stream",
     "text": [
      "59"
     ]
    }
   ],
   "source": [
    "count : in : C0-R0"
   ]
  },
  {
   "cell_type": "code",
   "execution_count": 5,
   "id": "0bc3c8f3-8109-4bf2-ab4b-495200f6a679",
   "metadata": {},
   "outputs": [
    {
     "name": "stdout",
     "output_type": "stream",
     "text": [
      "(bin arg:0) \n",
      " (bin bin:1) \n",
      " (bin by:1) \n",
      " (bin collect:1) \n",
      " (bin const:0) \n",
      " (bin count:1) \n",
      " (bin domain:1) \n",
      " (bin equiv:1) \n",
      " (bin first:0) \n",
      " (bin float_div:1) \n",
      " (bin float_inv:0) \n",
      " (bin float_max:0) \n",
      " (bin float_min:0) \n",
      " (bin float_prod:0) \n",
      " (bin float_sort:0) \n",
      " (bin float_sum:0) \n",
      " (bin floats:0) \n",
      " (bin get:0) \n",
      " (bin has:0) \n",
      " (bin hasnt:1) \n",
      " (bin if:1) \n",
      " (bin int_div:1) \n",
      " (bin int_inv:0) \n",
      " (bin int_max:0) \n",
      " (bin int_min:0) \n",
      " (bin int_prod:0) \n",
      " (bin int_sort:0) \n",
      " (bin int_sum:0) \n",
      " (bin ints:0) \n",
      " (bin is:0) \n",
      " (bin isnt:1) \n",
      " (bin last:0) \n",
      " (bin left:1) \n",
      " (bin nat:0) \n",
      " (bin nat_max:0) \n",
      " (bin nat_min:0) \n",
      " (bin nat_prod:0) \n",
      " (bin nat_sort:0) \n",
      " (bin nat_sum:0) \n",
      " (bin nats:0) \n",
      " (bin nif:0) \n",
      " (bin nth:0) \n",
      " (bin nth1:0) \n",
      " (bin null:0) \n",
      " (bin once:0) \n",
      " (bin pass:1) \n",
      " (bin plus:1) \n",
      " (bin post:1) \n",
      " (bin pre:1) \n",
      " (bin prod:1) \n",
      " (bin put:1) \n",
      " (bin rep:1) \n",
      " (bin rev:1) \n",
      " (bin right:1) \n",
      " (bin skip:1) \n",
      " (bin star:1) \n",
      " (bin sum:0) \n",
      " (bin tail:1) \n",
      " (bin text_sort:1) \n"
     ]
    }
   ],
   "source": [
    "ap post <\\n> : in : C0-R0"
   ]
  },
  {
   "cell_type": "code",
   "execution_count": null,
   "id": "11f2ddd7-af1c-425a-a37e-43d2ab193e0e",
   "metadata": {},
   "outputs": [],
   "source": []
  }
 ],
 "metadata": {
  "kernelspec": {
   "display_name": "coda",
   "language": "",
   "name": "coda"
  },
  "language_info": {
   "file_extension": ".co",
   "mimetype": "text/plain",
   "name": "Any text"
  }
 },
 "nbformat": 4,
 "nbformat_minor": 5
}
