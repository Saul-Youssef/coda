{
 "cells": [
  {
   "cell_type": "code",
   "execution_count": 1,
   "id": "1bf0a600-5ce2-4e62-bce7-f2260a5e0c2f",
   "metadata": {},
   "outputs": [],
   "source": [
    "from base import *\n",
    "import Evaluate,Generate,Space\n",
    "def eval(d): return Evaluate.default(d)\n",
    "\n",
    "def F(d): return eval(data(d|d)) \n",
    "\n"
   ]
  },
  {
   "cell_type": "code",
   "execution_count": 9,
   "id": "6f8564ba-46cc-41ab-93c8-13f236bfd534",
   "metadata": {},
   "outputs": [],
   "source": [
    "S = Generate.Gen(Generate.codas,3).space()"
   ]
  },
  {
   "cell_type": "code",
   "execution_count": 10,
   "id": "2b959ab2-99e3-48e8-87f5-6b02930d8ab3",
   "metadata": {},
   "outputs": [
    {
     "data": {
      "text/plain": [
       "eval: False, true: 0, false:0, undecided:0, codas:143, datas:11568"
      ]
     },
     "execution_count": 10,
     "metadata": {},
     "output_type": "execute_result"
    }
   ],
   "source": [
    "S"
   ]
  },
  {
   "cell_type": "code",
   "execution_count": 11,
   "id": "6b071beb-7a27-481c-b341-32287d4ccc07",
   "metadata": {},
   "outputs": [],
   "source": [
    "m = map(F,S)"
   ]
  },
  {
   "cell_type": "code",
   "execution_count": 12,
   "id": "2c556455-c077-46d9-818a-d69fb4e43d73",
   "metadata": {
    "tags": []
   },
   "outputs": [],
   "source": [
    "S1 = Space.Space(*[d for d in m])"
   ]
  },
  {
   "cell_type": "code",
   "execution_count": 7,
   "id": "a3b38831-4f36-498d-95bc-2b25d85b9761",
   "metadata": {},
   "outputs": [
    {
     "data": {
      "text/plain": [
       "eval: False, true: 0, false:0, undecided:0, codas:165, datas:144"
      ]
     },
     "execution_count": 7,
     "metadata": {},
     "output_type": "execute_result"
    }
   ],
   "source": [
    "S1"
   ]
  },
  {
   "cell_type": "code",
   "execution_count": 8,
   "id": "f0b7e0cf-4b04-4a43-a6cf-07136ed89692",
   "metadata": {},
   "outputs": [
    {
     "data": {
      "text/plain": [
       "eval: True, true: 1, false:113, undecided:12, codas:165, datas:144"
      ]
     },
     "execution_count": 8,
     "metadata": {},
     "output_type": "execute_result"
    }
   ],
   "source": [
    "S1.eval(100)"
   ]
  },
  {
   "cell_type": "code",
   "execution_count": null,
   "id": "0f2fdf8f-c651-4f74-9562-b0030eb8dd31",
   "metadata": {},
   "outputs": [],
   "source": []
  }
 ],
 "metadata": {
  "kernelspec": {
   "display_name": "Python 3 (ipykernel)",
   "language": "python",
   "name": "python3"
  },
  "language_info": {
   "codemirror_mode": {
    "name": "ipython",
    "version": 3
   },
   "file_extension": ".py",
   "mimetype": "text/x-python",
   "name": "python",
   "nbconvert_exporter": "python",
   "pygments_lexer": "ipython3",
   "version": "3.10.7"
  }
 },
 "nbformat": 4,
 "nbformat_minor": 5
}
