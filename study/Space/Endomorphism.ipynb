{
 "cells": [
  {
   "cell_type": "code",
   "execution_count": 1,
   "id": "d2b73dd0-179f-4e40-b603-a6e4f915ce7e",
   "metadata": {},
   "outputs": [
    {
     "name": "stdout",
     "output_type": "stream",
     "text": []
    }
   ],
   "source": [
    "import : dir co : ."
   ]
  },
  {
   "cell_type": "code",
   "execution_count": 2,
   "id": "69e3c7f0-f201-4986-bbfb-327cdb5ece2f",
   "metadata": {},
   "outputs": [
    {
     "name": "stdout",
     "output_type": "stream",
     "text": []
    }
   ],
   "source": [
    "Let F : end.make n.ring : {B B B}"
   ]
  },
  {
   "cell_type": "code",
   "execution_count": 3,
   "id": "a9f8ba7f-c140-4597-939e-5e5c24ea4dc0",
   "metadata": {},
   "outputs": [
    {
     "name": "stdout",
     "output_type": "stream",
     "text": [
      "(n:18)"
     ]
    }
   ],
   "source": [
    "end.app F? : (n:1) (n:2) (n:3)"
   ]
  },
  {
   "cell_type": "code",
   "execution_count": 4,
   "id": "1172483a-3822-4e61-ace3-9b6eb3db7944",
   "metadata": {},
   "outputs": [
    {
     "name": "stdout",
     "output_type": "stream",
     "text": [
      "(n:135)"
     ]
    }
   ],
   "source": [
    "end.app F? : (n:45)"
   ]
  },
  {
   "cell_type": "code",
   "execution_count": 5,
   "id": "49094172-cef9-439b-bd06-3145fec0715a",
   "metadata": {},
   "outputs": [
    {
     "name": "stdout",
     "output_type": "stream",
     "text": []
    }
   ],
   "source": [
    "Let H : end.make n.ring : n.sum "
   ]
  },
  {
   "cell_type": "code",
   "execution_count": 6,
   "id": "6b2f466f-d9ac-47ee-a157-8cb2e6e11030",
   "metadata": {},
   "outputs": [
    {
     "name": "stdout",
     "output_type": "stream",
     "text": []
    }
   ],
   "source": [
    "Let h : end.app H?"
   ]
  },
  {
   "cell_type": "code",
   "execution_count": 7,
   "id": "85edd2bf-9cd2-4228-b633-0fbaedf5afeb",
   "metadata": {},
   "outputs": [
    {
     "name": "stdout",
     "output_type": "stream",
     "text": [
      "(n:4)"
     ]
    }
   ],
   "source": [
    "h? : (h? : (n:1)) (h? : (n:1) (n:2))"
   ]
  },
  {
   "cell_type": "code",
   "execution_count": 8,
   "id": "d83cc2e7-036c-4202-8c44-1339bf1bbbe6",
   "metadata": {},
   "outputs": [
    {
     "name": "stdout",
     "output_type": "stream",
     "text": [
      "(n:4)"
     ]
    }
   ],
   "source": [
    "h? : (n:1) (n:1) (n:2)"
   ]
  },
  {
   "cell_type": "code",
   "execution_count": 9,
   "id": "bd90cdfd-186a-4c99-918b-86041ae57bd1",
   "metadata": {},
   "outputs": [
    {
     "name": "stdout",
     "output_type": "stream",
     "text": []
    }
   ],
   "source": [
    "Let f : end.make n.ring : {B B B}"
   ]
  },
  {
   "cell_type": "code",
   "execution_count": 10,
   "id": "0d4bc10a-4dd7-4ed5-a8e2-4e6351d965e8",
   "metadata": {},
   "outputs": [
    {
     "name": "stdout",
     "output_type": "stream",
     "text": [
      "(n:108)"
     ]
    }
   ],
   "source": [
    "end.app (end.prod : f? f?) : (n:12)"
   ]
  },
  {
   "cell_type": "code",
   "execution_count": null,
   "id": "e84765d4-491b-4f1c-815d-b032ef58672d",
   "metadata": {},
   "outputs": [],
   "source": []
  }
 ],
 "metadata": {
  "kernelspec": {
   "display_name": "coda",
   "language": "",
   "name": "coda"
  },
  "language_info": {
   "file_extension": ".co",
   "mimetype": "text/plain",
   "name": "Any text"
  }
 },
 "nbformat": 4,
 "nbformat_minor": 5
}
