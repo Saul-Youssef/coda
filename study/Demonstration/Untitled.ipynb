{
 "cells": [
  {
   "cell_type": "code",
   "execution_count": 1,
   "id": "c9286d54-c64d-4bd1-b626-a7034a426c88",
   "metadata": {},
   "outputs": [
    {
     "name": "stdout",
     "output_type": "stream",
     "text": [
      "| | |"
     ]
    }
   ],
   "source": [
    "stick : a b c "
   ]
  },
  {
   "cell_type": "code",
   "execution_count": 2,
   "id": "4a67967e-6a1c-46bc-aca7-fcd99bf0ebe8",
   "metadata": {},
   "outputs": [
    {
     "name": "stdout",
     "output_type": "stream",
     "text": [
      "| | |"
     ]
    }
   ],
   "source": [
    "ap stick : a b c "
   ]
  },
  {
   "cell_type": "code",
   "execution_count": 3,
   "id": "aed8598a-3b14-4b7e-8756-07a44ea07ac6",
   "metadata": {},
   "outputs": [
    {
     "name": "stdout",
     "output_type": "stream",
     "text": []
    }
   ],
   "source": [
    "Def S : ap*stick"
   ]
  },
  {
   "cell_type": "code",
   "execution_count": 4,
   "id": "1795c16b-1676-4676-aa5b-8a90dc506e62",
   "metadata": {},
   "outputs": [
    {
     "name": "stdout",
     "output_type": "stream",
     "text": [
      "(:|) (:|) (:|)"
     ]
    }
   ],
   "source": [
    "S : a b c "
   ]
  },
  {
   "cell_type": "code",
   "execution_count": 7,
   "id": "809ed354-c0d6-42ce-ab2d-0151d023126b",
   "metadata": {},
   "outputs": [
    {
     "name": "stdout",
     "output_type": "stream",
     "text": []
    }
   ],
   "source": [
    "Def S.sum : {put : is | : get : B} "
   ]
  },
  {
   "cell_type": "code",
   "execution_count": 8,
   "id": "bbac3330-d49b-4534-9fc9-828dd07ecdbc",
   "metadata": {},
   "outputs": [
    {
     "name": "stdout",
     "output_type": "stream",
     "text": [
      "(:| | | | |)"
     ]
    }
   ],
   "source": [
    "S.sum : (S:a b c) (S:p q)"
   ]
  },
  {
   "cell_type": "code",
   "execution_count": 9,
   "id": "5e21ec2d-c65b-437f-99d6-fa94dee4c180",
   "metadata": {},
   "outputs": [
    {
     "name": "stdout",
     "output_type": "stream",
     "text": [
      "(:| | | | |)"
     ]
    }
   ],
   "source": [
    "S.sum : (S.sum:S:a b c) (S.sum:S:p q)"
   ]
  },
  {
   "cell_type": "code",
   "execution_count": null,
   "id": "2430b7cf-9f79-4d28-a65c-36962f43da98",
   "metadata": {},
   "outputs": [],
   "source": []
  }
 ],
 "metadata": {
  "kernelspec": {
   "display_name": "coda",
   "language": "",
   "name": "coda"
  },
  "language_info": {
   "file_extension": ".co",
   "mimetype": "text/plain",
   "name": "Any text"
  }
 },
 "nbformat": 4,
 "nbformat_minor": 5
}
