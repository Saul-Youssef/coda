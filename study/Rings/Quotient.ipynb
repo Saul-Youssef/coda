{
 "cells": [
  {
   "cell_type": "markdown",
   "id": "ebbc4b38-f37a-4f10-859f-b5067c679267",
   "metadata": {},
   "source": [
    "## Demonstrating equivalence and quotient "
   ]
  },
  {
   "cell_type": "code",
   "execution_count": 1,
   "id": "43df20bf-d556-4ef4-877d-89d910a8d946",
   "metadata": {},
   "outputs": [
    {
     "name": "stdout",
     "output_type": "stream",
     "text": []
    }
   ],
   "source": [
    "import : ."
   ]
  },
  {
   "cell_type": "code",
   "execution_count": 2,
   "id": "0b82e985-8af9-49b6-b7c5-911d8121054e",
   "metadata": {},
   "outputs": [
    {
     "name": "stdout",
     "output_type": "stream",
     "text": [
      "(n:1) (n:2) (n:3) (n:4)"
     ]
    }
   ],
   "source": [
    "type n : 1 2 3 4 "
   ]
  },
  {
   "cell_type": "code",
   "execution_count": 3,
   "id": "2b9cc68a-ae9d-408c-b6da-99925ad7a33c",
   "metadata": {},
   "outputs": [
    {
     "name": "stdout",
     "output_type": "stream",
     "text": [
      "(n:1) (n:2) (n:3) (n:4)"
     ]
    }
   ],
   "source": [
    "equiv n : type n : 1 2 3 4 "
   ]
  },
  {
   "cell_type": "code",
   "execution_count": 4,
   "id": "772a25ae-43a9-4af0-9963-9d4483f7719f",
   "metadata": {},
   "outputs": [
    {
     "name": "stdout",
     "output_type": "stream",
     "text": []
    }
   ],
   "source": [
    "def F : {ap put n : ap int_div 2 : get n:B} "
   ]
  },
  {
   "cell_type": "code",
   "execution_count": 5,
   "id": "c30db0ee-6e8b-46fb-8c2a-030288ac72da",
   "metadata": {},
   "outputs": [
    {
     "name": "stdout",
     "output_type": "stream",
     "text": [
      "(n:0) (n:1) (n:1) (n:2)"
     ]
    }
   ],
   "source": [
    "F : type n : 1 2 3 4 "
   ]
  },
  {
   "cell_type": "code",
   "execution_count": 6,
   "id": "705f3802-21a2-49e2-ac87-0c472a977195",
   "metadata": {},
   "outputs": [
    {
     "name": "stdout",
     "output_type": "stream",
     "text": [
      "(n:0) (n:1) (n:2)"
     ]
    }
   ],
   "source": [
    "equiv n : F : type n : 1 2 3 4 "
   ]
  },
  {
   "cell_type": "code",
   "execution_count": 8,
   "id": "612ee753-3080-4082-b93b-79025bd831ec",
   "metadata": {},
   "outputs": [
    {
     "name": "stdout",
     "output_type": "stream",
     "text": [
      "(n:0) (n:0) (n:1)"
     ]
    }
   ],
   "source": [
    "F : equiv n : F : type n : 1 2 3 4 "
   ]
  },
  {
   "cell_type": "code",
   "execution_count": null,
   "id": "b6788b67-db9a-4636-b46a-7ba04d001a3a",
   "metadata": {},
   "outputs": [],
   "source": []
  }
 ],
 "metadata": {
  "kernelspec": {
   "display_name": "coda",
   "language": "",
   "name": "coda"
  },
  "language_info": {
   "file_extension": ".co",
   "mimetype": "text/plain",
   "name": "Any text"
  }
 },
 "nbformat": 4,
 "nbformat_minor": 5
}
