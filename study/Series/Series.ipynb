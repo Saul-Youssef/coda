{
 "cells": [
  {
   "cell_type": "markdown",
   "id": "19181f49-1634-42af-9a35-4bcd4eddb2b7",
   "metadata": {},
   "source": [
    "## Series \n",
    "\n",
    "A series "
   ]
  },
  {
   "cell_type": "code",
   "execution_count": 15,
   "id": "5d029eb9-4803-4f3d-ab1a-31db1b42f569",
   "metadata": {},
   "outputs": [
    {
     "name": "stdout",
     "output_type": "stream",
     "text": [
      "(n | | |:) (n:| |)"
     ]
    }
   ],
   "source": [
    "ap {n (ap {|}:arg:B) : (ap {|}:right:B)} : (bin z z z :) (bin:a b)"
   ]
  },
  {
   "cell_type": "code",
   "execution_count": null,
   "id": "d55b0bf1-1d54-4ab1-8082-4ac83a9adbea",
   "metadata": {},
   "outputs": [],
   "source": [
    "Def Z : ap {n (ap {|}:arg:B) : (ap {|}:right:B)} "
   ]
  },
  {
   "cell_type": "code",
   "execution_count": 12,
   "id": "75c81b33-5845-4fe2-b2d9-63baf84b81fa",
   "metadata": {},
   "outputs": [
    {
     "name": "stdout",
     "output_type": "stream",
     "text": [
      "(n |:| | | | |)"
     ]
    }
   ],
   "source": [
    "{n (arg:B):right:B} : (n | : | |) (n : | | | )"
   ]
  },
  {
   "cell_type": "code",
   "execution_count": 1,
   "id": "6038f66e-aa46-4423-8b7f-8c93f9269a3b",
   "metadata": {},
   "outputs": [
    {
     "name": "stdout",
     "output_type": "stream",
     "text": [
      "(defaultTime:10)"
     ]
    }
   ],
   "source": [
    "defaultTime:10"
   ]
  },
  {
   "cell_type": "code",
   "execution_count": 10,
   "id": "535032bd-d6d6-4034-810f-eaa679ba1401",
   "metadata": {},
   "outputs": [
    {
     "name": "stdout",
     "output_type": "stream",
     "text": [
      "\u001b[;1mcode:\u001b[0m\n",
      "    \u001b[34;7min\u001b[0m\n",
      "\u001b[;1mmodule:\u001b[0m\n",
      "    Apply\n",
      "\u001b[;1msummary:\u001b[0m\n",
      "    in A:B applies B to each A-atom contents\n",
      "\u001b[;1mdescription:\u001b[0m\n",
      "\u001b[;1mpath:\u001b[0m\n",
      "    /Users/youssef/coda/co/Apply.co\n",
      "\u001b[;1msource code:\u001b[0m\n",
      "    def in : {(put A) * B * (get A)}\n",
      "\u001b[;1mdemos:\u001b[0m\n",
      "    1. \u001b[35;4m(in bin : {B B}) : (bin:x) (bin:y)\u001b[0m\n",
      "    2. \u001b[35;4map (in bin : {B B}) : (bin:x) (bin:y)\u001b[0m\n"
     ]
    }
   ],
   "source": [
    "help : in"
   ]
  },
  {
   "cell_type": "code",
   "execution_count": 2,
   "id": "1e7b8ce0-e2e7-46cb-af59-e3332629d17c",
   "metadata": {},
   "outputs": [
    {
     "name": "stdout",
     "output_type": "stream",
     "text": []
    }
   ],
   "source": [
    "Def fibonnaci : next {nat_sum : back | | : B} "
   ]
  },
  {
   "cell_type": "code",
   "execution_count": 3,
   "id": "450669d6-3eb6-416b-adce-59b193453f5b",
   "metadata": {},
   "outputs": [
    {
     "name": "stdout",
     "output_type": "stream",
     "text": [
      "1 1"
     ]
    }
   ],
   "source": [
    "(pow : fibonnaci) : 1 1 "
   ]
  },
  {
   "cell_type": "code",
   "execution_count": 4,
   "id": "9a2b0d49-42a3-44fb-848d-c7a4d680eeb7",
   "metadata": {},
   "outputs": [
    {
     "name": "stdout",
     "output_type": "stream",
     "text": []
    }
   ],
   "source": [
    "Def S : {(pow | | | | | : fibonnaci) : B} "
   ]
  },
  {
   "cell_type": "code",
   "execution_count": 9,
   "id": "e350bd28-bc66-4b25-b1b0-637e5e9b7288",
   "metadata": {},
   "outputs": [
    {
     "name": "stdout",
     "output_type": "stream",
     "text": [
      "1 1 2 3 5 8 13"
     ]
    }
   ],
   "source": [
    "S : 1 1 "
   ]
  },
  {
   "cell_type": "code",
   "execution_count": null,
   "id": "74cf7f5f-5e16-47df-843d-946e73a42e14",
   "metadata": {},
   "outputs": [],
   "source": []
  },
  {
   "cell_type": "code",
   "execution_count": 6,
   "id": "6a2a0ca8-ae7c-4bb6-b8ad-4b0d2be5838a",
   "metadata": {},
   "outputs": [
    {
     "name": "stdout",
     "output_type": "stream",
     "text": []
    }
   ],
   "source": [
    "#Def series : {B (series A:(A:B))} "
   ]
  },
  {
   "cell_type": "code",
   "execution_count": 7,
   "id": "a894f7a5-80d9-4c1e-8e78-dcde00af6b0c",
   "metadata": {},
   "outputs": [
    {
     "name": "stdout",
     "output_type": "stream",
     "text": []
    }
   ],
   "source": [
    "#eval 10 : series {nat_sum: 1 (last:B)} : 1 2 3 "
   ]
  },
  {
   "cell_type": "code",
   "execution_count": null,
   "id": "2b18eadf-ad94-47e3-9f58-7705861eda63",
   "metadata": {},
   "outputs": [],
   "source": []
  }
 ],
 "metadata": {
  "kernelspec": {
   "display_name": "coda",
   "language": "",
   "name": "coda"
  },
  "language_info": {
   "file_extension": ".co",
   "mimetype": "text/plain",
   "name": "Any text"
  }
 },
 "nbformat": 4,
 "nbformat_minor": 5
}
