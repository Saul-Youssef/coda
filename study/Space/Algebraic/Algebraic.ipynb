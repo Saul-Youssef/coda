{
 "cells": [
  {
   "cell_type": "markdown",
   "id": "6d1c1948-6728-437b-b780-dcc413668b5a",
   "metadata": {},
   "source": [
    "We can search for *Algebraic* spaces and for *Algebraic data* (i.e. Mathematical data) related to some given space.  \n",
    "\n",
    "There is a big picture idea to realize.  The whole system that we are talking about, with all it's variation and subtlety is based on only one foundational concept: the finite sequence.  That means that if we find data A where A:X is independent of permutations of X, we have defined something with finite sequences that has transcended finite sequencing.  We all this kind of data *algebraic* or *mathematical* data.  \n",
    "\n",
    "Plan\n",
    "\n",
    "1. Search for algebraic spaces.\n",
    "2. Search for algebraic data related to chosen known spaces.\n"
   ]
  },
  {
   "cell_type": "markdown",
   "id": "d22e9c08-a12d-491a-92b6-aad0a6a4cbee",
   "metadata": {},
   "source": [
    "If U is a space, then \n",
    "\n",
    "1. U:X Y = U : Y X for all X,Y\n",
    "2. U:rev:X = U:X for all X \n",
    "3. U:perm:X = U:X for any permutation perm.\n",
    "\n",
    "are all equivalent. Thus, a search for data U such that U:rev:X = U:X will include all algebraic spaces."
   ]
  },
  {
   "cell_type": "code",
   "execution_count": 1,
   "id": "e3a26d3e-da5b-4173-97ad-13a73ffe74b3",
   "metadata": {},
   "outputs": [
    {
     "name": "stdout",
     "output_type": "stream",
     "text": [
      "(defaultTime:1000)"
     ]
    }
   ],
   "source": [
    "defaultTime:1000"
   ]
  },
  {
   "cell_type": "code",
   "execution_count": 2,
   "id": "0e714ce7-050d-4572-9faa-67b0573e6ead",
   "metadata": {},
   "outputs": [
    {
     "name": "stdout",
     "output_type": "stream",
     "text": []
    }
   ],
   "source": [
    "import : endswith Short.co : dir co : up : up : ."
   ]
  },
  {
   "cell_type": "code",
   "execution_count": null,
   "id": "b48b5879-e288-4761-b596-c69ee9a7c2c2",
   "metadata": {},
   "outputs": [],
   "source": []
  },
  {
   "cell_type": "code",
   "execution_count": 3,
   "id": "5016d173-9d3c-47fa-bdf7-5d01e06fbd00",
   "metadata": {},
   "outputs": [
    {
     "name": "stdout",
     "output_type": "stream",
     "text": []
    }
   ],
   "source": [
    "#\n",
    "#   AL1 A : B tests if A is algebraic on all inputs (:B1) (:B2) ...\n",
    "#\n",
    "Def AL0: {(A:get:B)=(A:rev:get:B)} "
   ]
  },
  {
   "cell_type": "code",
   "execution_count": 4,
   "id": "48c5bc6c-be87-4e75-812c-46da4f1659c2",
   "metadata": {},
   "outputs": [
    {
     "name": "stdout",
     "output_type": "stream",
     "text": []
    }
   ],
   "source": [
    "Def AL1 : {count : ap AL0 (get:A) : B} "
   ]
  },
  {
   "cell_type": "code",
   "execution_count": 5,
   "id": "4eefad89-10e2-4895-ab9a-bb06f1286a0f",
   "metadata": {},
   "outputs": [
    {
     "name": "stdout",
     "output_type": "stream",
     "text": [
      "0"
     ]
    }
   ],
   "source": [
    "AL1 (:rev) : (:b b b) (:b b) (:a a)"
   ]
  },
  {
   "cell_type": "code",
   "execution_count": 6,
   "id": "0ee43643-b129-466e-a66f-98c67ef01ca0",
   "metadata": {},
   "outputs": [
    {
     "name": "stdout",
     "output_type": "stream",
     "text": []
    }
   ],
   "source": [
    "Def AL2 : {(with (get:A) : AL1 A : B)} "
   ]
  },
  {
   "cell_type": "code",
   "execution_count": 7,
   "id": "3b5f2b9b-6a87-48df-afb3-e660ea1fa49e",
   "metadata": {},
   "outputs": [
    {
     "name": "stdout",
     "output_type": "stream",
     "text": [
      "(with rev:2)"
     ]
    }
   ],
   "source": [
    "do 1000 : AL2 (:rev) : (:a a) (:b b) (:c c) (:d e)"
   ]
  },
  {
   "cell_type": "code",
   "execution_count": 8,
   "id": "81c8faae-708c-4798-9414-661894d5c792",
   "metadata": {},
   "outputs": [
    {
     "name": "stdout",
     "output_type": "stream",
     "text": [
      "(with rev:0) (with pass:0)"
     ]
    }
   ],
   "source": [
    "dom 1000 : aq AL2 (:rev) (:pass) : (:a a) (:b b) (:c c c)"
   ]
  },
  {
   "cell_type": "code",
   "execution_count": 9,
   "id": "0afdd647-4351-4464-91b8-b56618272306",
   "metadata": {},
   "outputs": [
    {
     "name": "stdout",
     "output_type": "stream",
     "text": []
    }
   ],
   "source": [
    "Def ALG : {dom 1000 : aq AL2 A : B} "
   ]
  },
  {
   "cell_type": "code",
   "execution_count": 10,
   "id": "b36c970a-8244-405e-ad29-a07c8eadac76",
   "metadata": {},
   "outputs": [
    {
     "name": "stdout",
     "output_type": "stream",
     "text": [
      "(with arg:0) (with bin:480) (with const:0) (with domain:0) (with get:0) (with has:0) (with hasnt:480) (with if:480) (with is:0) (with isnt:480) (with left:0) (with nif:0) (with null:0) (with pass:480) (with plus:480) (with prod:480) (with put:480) (with right:480) (with star:480) (with sum:0)"
     ]
    }
   ],
   "source": [
    "ALG (ap put:defs:Basic) : permutation 3 : a b 1 2 0 "
   ]
  },
  {
   "cell_type": "code",
   "execution_count": 11,
   "id": "53fb097a-e82f-4585-a505-d85f53953001",
   "metadata": {},
   "outputs": [
    {
     "name": "stdout",
     "output_type": "stream",
     "text": [
      "𝟬 𝝞 .bool .equal .not .ab .ap .apby .aq .ar .as .co .ker .kernel .arg .bin .const .domain .get .has .hasnt .if .is .isnt .left .nif .null .pass .plus .prod .put .right .star .sum .by .count .first .head .last .nth .once .post .pre .rep .rev .skip .swap .tail .collect .equiv .nat .nat_max .nat_min .nat_prod .nat_sum .nats .ring .stick (◎:.as 𝟬) (◎:.as 𝝞) (◎:.as .as) (◎:.as (◎ ◎:)) (◎:.as (◎ ◎:◎)) (◎:.as (◎ ◎:◎ ◎)) (◎:(◎ ◎:) ◎) (◎:(◎ ◎:) (:◎)) (◎:(◎ ◎:) (:◎ ◎)) (◎:(◎ ◎:) 𝟬) (◎:(◎ ◎:) 𝝞) (◎:(◎ ◎:) .as) (◎:(◎ ◎:) (◎ ◎:)) (◎:(◎ ◎:) (◎ ◎:◎)) (◎:(◎ ◎:) (◎ ◎:◎ ◎)) (◎:(◎ ◎:◎) ◎) (◎:(◎ ◎:◎) (:◎)) (◎:(◎ ◎:◎) (:◎ ◎)) (◎:(◎ ◎:◎) 𝟬) (◎:(◎ ◎:◎) 𝝞) (◎:(◎ ◎:◎) .as) (◎:(◎ ◎:◎) (◎ ◎:)) (◎:(◎ ◎:◎) (◎ ◎:◎)) (◎:(◎ ◎:◎) (◎ ◎:◎ ◎)) (◎:(◎ ◎:◎ ◎) ◎) (◎:(◎ ◎:◎ ◎) (:◎)) (◎:(◎ ◎:◎ ◎) (:◎ ◎)) (◎:(◎ ◎:◎ ◎) 𝟬) (◎:(◎ ◎:◎ ◎) 𝝞) (◎:(◎ ◎:◎ ◎) .as) (◎:(◎ ◎:◎ ◎) (◎ ◎:)) (◎:(◎ ◎:◎ ◎) (◎ ◎:◎)) (◎:(◎ ◎:◎ ◎) (◎ ◎:◎ ◎))"
     ]
    }
   ],
   "source": [
    "ap {put (:):get :B} : sample.pure : 2 2 "
   ]
  },
  {
   "cell_type": "code",
   "execution_count": 15,
   "id": "809509b8-f45d-4a2a-93c3-5e8b54f069de",
   "metadata": {},
   "outputs": [
    {
     "name": "stdout",
     "output_type": "stream",
     "text": []
    }
   ],
   "source": [
    "#Let SEARCH : (sample.pure:2 2) (ap {put : put (:):get:B} : sample.pure : 2 2) \n",
    "Let SEARCH : first 10 : (ap {put : put (:):get:B} : sample.pure : 2 2)"
   ]
  },
  {
   "cell_type": "code",
   "execution_count": null,
   "id": "124f0e72-2d05-4187-bec5-9a4199a688ca",
   "metadata": {},
   "outputs": [],
   "source": [
    "ALG SEARCH? : permutation 3 : a b 0 1 2 "
   ]
  },
  {
   "cell_type": "code",
   "execution_count": 16,
   "id": "e6420ea5-a672-4dbc-b737-7170233e49df",
   "metadata": {},
   "outputs": [
    {
     "name": "stdout",
     "output_type": "stream",
     "text": [
      "◎ (:◎) (:(:◎)) (:(:◎ ◎)) (:𝟬) (:𝝞) (:.as) (:(◎ ◎:)) (:(◎ ◎:◎)) (:(◎ ◎:◎ ◎)) (:◎ ◎) (:◎ (:◎)) (:◎ (:◎ ◎)) (:◎ 𝟬) (:◎ 𝝞) (:◎ .as) (:◎ (◎ ◎:)) (:◎ (◎ ◎:◎)) (:◎ (◎ ◎:◎ ◎)) (:(:◎) ◎) (:(:◎) (:◎)) (:(:◎) (:◎ ◎)) (:(:◎) 𝟬) (:(:◎) 𝝞) (:(:◎) .as) (:(:◎) (◎ ◎:)) (:(:◎) (◎ ◎:◎)) (:(:◎) (◎ ◎:◎ ◎)) (:(:◎ ◎) ◎) (:(:◎ ◎) (:◎)) (:(:◎ ◎) (:◎ ◎)) (:(:◎ ◎) 𝟬) (:(:◎ ◎) 𝝞) (:(:◎ ◎) .as) (:(:◎ ◎) (◎ ◎:)) (:(:◎ ◎) (◎ ◎:◎)) (:(:◎ ◎) (◎ ◎:◎ ◎)) (:𝟬 ◎) (:𝟬 (:◎)) (:𝟬 (:◎ ◎)) (:𝟬 𝟬) (:𝟬 𝝞) (:𝟬 .as) (:𝟬 (◎ ◎:)) (:𝟬 (◎ ◎:◎)) (:𝟬 (◎ ◎:◎ ◎)) (:𝝞 ◎) (:𝝞 (:◎)) (:𝝞 (:◎ ◎)) (:𝝞 𝟬) (:𝝞 𝝞) (:𝝞 .as) (:𝝞 (◎ ◎:)) (:𝝞 (◎ ◎:◎)) (:𝝞 (◎ ◎:◎ ◎)) (:.as ◎) (:.as (:◎)) (:.as (:◎ ◎)) (:.as 𝟬) (:.as 𝝞) (:.as .as) (:.as (◎ ◎:)) (:.as (◎ ◎:◎)) (:.as (◎ ◎:◎ ◎)) (:(◎ ◎:) ◎) (:(◎ ◎:) (:◎)) (:(◎ ◎:) (:◎ ◎)) (:(◎ ◎:) 𝟬) (:(◎ ◎:) 𝝞) (:(◎ ◎:) .as) (:(◎ ◎:) (◎ ◎:)) (:(◎ ◎:) (◎ ◎:◎)) (:(◎ ◎:) (◎ ◎:◎ ◎)) (:(◎ ◎:◎) ◎) (:(◎ ◎:◎) (:◎)) (:(◎ ◎:◎) (:◎ ◎)) (:(◎ ◎:◎) 𝟬) (:(◎ ◎:◎) 𝝞) (:(◎ ◎:◎) .as) (:(◎ ◎:◎) (◎ ◎:)) (:(◎ ◎:◎) (◎ ◎:◎)) (:(◎ ◎:◎) (◎ ◎:◎ ◎)) (:(◎ ◎:◎ ◎) ◎) (:(◎ ◎:◎ ◎) (:◎)) (:(◎ ◎:◎ ◎) (:◎ ◎)) (:(◎ ◎:◎ ◎) 𝟬) (:(◎ ◎:◎ ◎) 𝝞) (:(◎ ◎:◎ ◎) .as) (:(◎ ◎:◎ ◎) (◎ ◎:)) (:(◎ ◎:◎ ◎) (◎ ◎:◎)) (:(◎ ◎:◎ ◎) (◎ ◎:◎ ◎)) (:𝟬) (:𝝞) (:.bool) (:.equal) (:.not) (:.ab) (:.ap) (:.apby) (:.aq) (:.ar) (:.as) (:.co) (:.ker) (:.kernel) (:.arg) (:.bin) (:.const) (:.domain) (:.get) (:.has) (:.hasnt) (:.if) (:.is) (:.isnt) (:.left) (:.nif) (:.null) (:.pass) (:.plus) (:.prod) (:.put) (:.right) (:.star) (:.sum) (:.by) (:.count) (:.first) (:.head) (:.last) (:.nth) (:.once) (:.post) (:.pre) (:.rep) (:.rev) (:.skip) (:.swap) (:.tail) (:.collect) (:.equiv) (:.nat) (:.nat_max) (:.nat_min) (:.nat_prod) (:.nat_sum) (:.nats) (:.ring) (:.stick) (:(◎:.as 𝟬)) (:(◎:.as 𝝞)) (:(◎:.as .as)) (:(◎:.as (◎ ◎:))) (:(◎:.as (◎ ◎:◎))) (:(◎:.as (◎ ◎:◎ ◎))) (:(◎:(◎ ◎:) ◎)) (:(◎:(◎ ◎:) (:◎))) (:(◎:(◎ ◎:) (:◎ ◎))) (:(◎:(◎ ◎:) 𝟬)) (:(◎:(◎ ◎:) 𝝞)) (:(◎:(◎ ◎:) .as)) (:(◎:(◎ ◎:) (◎ ◎:))) (:(◎:(◎ ◎:) (◎ ◎:◎))) (:(◎:(◎ ◎:) (◎ ◎:◎ ◎))) (:(◎:(◎ ◎:◎) ◎)) (:(◎:(◎ ◎:◎) (:◎))) (:(◎:(◎ ◎:◎) (:◎ ◎))) (:(◎:(◎ ◎:◎) 𝟬)) (:(◎:(◎ ◎:◎) 𝝞)) (:(◎:(◎ ◎:◎) .as)) (:(◎:(◎ ◎:◎) (◎ ◎:))) (:(◎:(◎ ◎:◎) (◎ ◎:◎))) (:(◎:(◎ ◎:◎) (◎ ◎:◎ ◎))) (:(◎:(◎ ◎:◎ ◎) ◎)) (:(◎:(◎ ◎:◎ ◎) (:◎))) (:(◎:(◎ ◎:◎ ◎) (:◎ ◎))) (:(◎:(◎ ◎:◎ ◎) 𝟬)) (:(◎:(◎ ◎:◎ ◎) 𝝞)) (:(◎:(◎ ◎:◎ ◎) .as)) (:(◎:(◎ ◎:◎ ◎) (◎ ◎:))) (:(◎:(◎ ◎:◎ ◎) (◎ ◎:◎))) (:(◎:(◎ ◎:◎ ◎) (◎ ◎:◎ ◎)))"
     ]
    }
   ],
   "source": [
    "SEARCH?"
   ]
  },
  {
   "cell_type": "code",
   "execution_count": null,
   "id": "e99aa8fc-a550-461a-93ba-a2dac5668fcc",
   "metadata": {},
   "outputs": [],
   "source": []
  }
 ],
 "metadata": {
  "kernelspec": {
   "display_name": "coda",
   "language": "",
   "name": "coda"
  },
  "language_info": {
   "file_extension": ".co",
   "mimetype": "text/plain",
   "name": "Any text"
  }
 },
 "nbformat": 4,
 "nbformat_minor": 5
}
