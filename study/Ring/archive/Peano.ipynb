{
 "cells": [
  {
   "cell_type": "markdown",
   "id": "f73e224d-7287-404f-861f-96c1c28d8c79",
   "metadata": {},
   "source": [
    "## Peano Integers as number rings"
   ]
  },
  {
   "cell_type": "markdown",
   "id": "d3e16d71-5313-4568-9b86-c6a94282488e",
   "metadata": {},
   "source": [
    "### Version 1\n",
    "\n",
    "Numbers are represented by (p:||||) = '4' etc."
   ]
  },
  {
   "cell_type": "code",
   "execution_count": 1,
   "id": "0af1511e-d32b-4058-af5e-47e10662a21c",
   "metadata": {},
   "outputs": [
    {
     "name": "stdout",
     "output_type": "stream",
     "text": []
    }
   ],
   "source": [
    "def type : {rep | : B} \n",
    "def sum : {is | : B}\n",
    "def term : {count : is | : B} \n",
    "def mult : {rep | : (ap ap2 bin (type:A) : (type:B))} "
   ]
  },
  {
   "cell_type": "code",
   "execution_count": 2,
   "id": "6abc7e07-d5c0-4ecf-9867-28d2b05d8158",
   "metadata": {},
   "outputs": [
    {
     "name": "stdout",
     "output_type": "stream",
     "text": [
      "| | |"
     ]
    }
   ],
   "source": [
    "type : a b c "
   ]
  },
  {
   "cell_type": "code",
   "execution_count": 3,
   "id": "c1599cf4-caf4-480f-99eb-a622b4056a5d",
   "metadata": {},
   "outputs": [
    {
     "name": "stdout",
     "output_type": "stream",
     "text": []
    }
   ],
   "source": [
    "let i1 : type : 1\n",
    "let i2 : type : 1 1 \n",
    "let i3 : type : 1 1 1 \n",
    "let i4 : type : 1 1 1 1 \n",
    "let i5 : type : 1 1 1 1 1"
   ]
  },
  {
   "cell_type": "code",
   "execution_count": 4,
   "id": "d4607949-6f27-4cfa-9875-91c8204b0bec",
   "metadata": {},
   "outputs": [
    {
     "name": "stdout",
     "output_type": "stream",
     "text": [
      "| | | | | | | | | |"
     ]
    }
   ],
   "source": [
    "sum : i1? i2? i3? i4?"
   ]
  },
  {
   "cell_type": "code",
   "execution_count": 5,
   "id": "2880072d-0c69-4c08-b61e-a8b2e33b5b90",
   "metadata": {},
   "outputs": [
    {
     "name": "stdout",
     "output_type": "stream",
     "text": [
      "10"
     ]
    }
   ],
   "source": [
    "term : sum : i1? i2? i3? i4?"
   ]
  },
  {
   "cell_type": "code",
   "execution_count": 6,
   "id": "685fa13a-5286-4ca1-bee6-c81c9554fd11",
   "metadata": {},
   "outputs": [
    {
     "name": "stdout",
     "output_type": "stream",
     "text": [
      "15"
     ]
    }
   ],
   "source": [
    "term : mult i3? : i5?"
   ]
  },
  {
   "cell_type": "code",
   "execution_count": null,
   "id": "743dc1b3-e6c7-4135-8564-e1f2cc6d69bb",
   "metadata": {},
   "outputs": [],
   "source": []
  }
 ],
 "metadata": {
  "kernelspec": {
   "display_name": "coda",
   "language": "",
   "name": "coda"
  },
  "language_info": {
   "file_extension": ".co",
   "mimetype": "text/plain",
   "name": "Any text"
  }
 },
 "nbformat": 4,
 "nbformat_minor": 5
}
