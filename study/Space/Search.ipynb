{
 "cells": [
  {
   "cell_type": "code",
   "execution_count": 1,
   "id": "719cf407-1548-4919-9755-08fe5d4bc853",
   "metadata": {
    "tags": []
   },
   "outputs": [
    {
     "name": "stdout",
     "output_type": "stream",
     "text": []
    }
   ],
   "source": [
    "import : dir co : .  "
   ]
  },
  {
   "cell_type": "code",
   "execution_count": 4,
   "id": "5e88281d-99d8-48b5-9ee2-fbc80e6f10c9",
   "metadata": {},
   "outputs": [
    {
     "name": "stdout",
     "output_type": "stream",
     "text": [
      "(with (def x:{A} a a):0) (with (def x:{A} a b):4) (with (def x:{A} b b):0) (with (def x:{A} x y):2)"
     ]
    }
   ],
   "source": [
    "theorem (count:x?=(rev:x?)) : (:a a) (:a b) (:b b) (:x y)"
   ]
  },
  {
   "cell_type": "code",
   "execution_count": 3,
   "id": "93d6e119-99fc-4b0e-8025-1bb1c3a36ba7",
   "metadata": {},
   "outputs": [
    {
     "name": "stdout",
     "output_type": "stream",
     "text": [
      "(with (def x:{A} a a):(equal (x:):(rev:(x:)))) (with (def x:{A} a b):(equal (x:):(rev:(x:)))) (with (def x:{A} b b):(equal (x:):(rev:(x:)))) (with (def x:{A} x y):(equal (x:):(rev:(x:))))"
     ]
    }
   ],
   "source": [
    "cases (x?=(rev:x?)) : (:a a) (:a b) (:b b) (:x y)"
   ]
  },
  {
   "cell_type": "code",
   "execution_count": 7,
   "id": "641fb736-d345-4d65-b4d9-9f01e5178188",
   "metadata": {},
   "outputs": [
    {
     "name": "stdout",
     "output_type": "stream",
     "text": []
    }
   ],
   "source": [
    "theorem (x?=(rev:x?)) : S1?"
   ]
  },
  {
   "cell_type": "code",
   "execution_count": 9,
   "id": "8acd1ae4-8d57-4b73-995a-5c77abb6b8ee",
   "metadata": {},
   "outputs": [
    {
     "name": "stdout",
     "output_type": "stream",
     "text": [
      "(with (def x:{A} ◎ ◎):0) (with (def x:{A} ◎ a):4) (with (def x:{A} ◎ b):4) (with (def x:{A} ◎ 0):4) (with (def x:{A} ◎ 1):4) (with (def x:{A} ◎ (bin:a)):4) (with (def x:{A} ◎ (bin 1 2:a b)):10) (with (def x:{A} ◎ (bin a:(bin b:1 2))):6) (with (def x:{A} a ◎):4) (with (def x:{A} a a):0) (with (def x:{A} a b):4) (with (def x:{A} a 0):6) (with (def x:{A} a 1):4) (with (def x:{A} a (bin:a)):60) (with (def x:{A} a (bin 1 2:a b)):66) (with (def x:{A} a (bin a:(bin b:1 2))):80) (with (def x:{A} b ◎):4) (with (def x:{A} b a):4) (with (def x:{A} b b):0) (with (def x:{A} b 0):6) (with (def x:{A} b 1):8) (with (def x:{A} b (bin:a)):60) (with (def x:{A} b (bin 1 2:a b)):66) (with (def x:{A} b (bin a:(bin b:1 2))):80) (with (def x:{A} 0 ◎):4) (with (def x:{A} 0 a):6) (with (def x:{A} 0 b):6) (with (def x:{A} 0 0):0) (with (def x:{A} 0 1):2) (with (def x:{A} 0 (bin:a)):60) (with (def x:{A} 0 (bin 1 2:a b)):66) (with (def x:{A} 0 (bin a:(bin b:1 2))):64) (with (def x:{A} 1 ◎):4) (with (def x:{A} 1 a):4) (with (def x:{A} 1 b):8) (with (def x:{A} 1 0):2) (with (def x:{A} 1 1):0) (with (def x:{A} 1 (bin:a)):60) (with (def x:{A} 1 (bin 1 2:a b)):66) (with (def x:{A} 1 (bin a:(bin b:1 2))):64) (with (def x:{A} (bin:a) ◎):4) (with (def x:{A} (bin:a) a):60) (with (def x:{A} (bin:a) b):60) (with (def x:{A} (bin:a) 0):60) (with (def x:{A} (bin:a) 1):60) (with (def x:{A} (bin:a) (bin:a)):0) (with (def x:{A} (bin:a) (bin 1 2:a b)):6) (with (def x:{A} (bin:a) (bin a:(bin b:1 2))):66) (with (def x:{A} (bin 1 2:a b) ◎):10) (with (def x:{A} (bin 1 2:a b) a):66) (with (def x:{A} (bin 1 2:a b) b):66) (with (def x:{A} (bin 1 2:a b) 0):66) (with (def x:{A} (bin 1 2:a b) 1):66) (with (def x:{A} (bin 1 2:a b) (bin:a)):6) (with (def x:{A} (bin 1 2:a b) (bin 1 2:a b)):0) (with (def x:{A} (bin 1 2:a b) (bin a:(bin b:1 2))):72) (with (def x:{A} (bin a:(bin b:1 2)) ◎):6) (with (def x:{A} (bin a:(bin b:1 2)) a):80) (with (def x:{A} (bin a:(bin b:1 2)) b):80) (with (def x:{A} (bin a:(bin b:1 2)) 0):64) (with (def x:{A} (bin a:(bin b:1 2)) 1):64) (with (def x:{A} (bin a:(bin b:1 2)) (bin:a)):66) (with (def x:{A} (bin a:(bin b:1 2)) (bin 1 2:a b)):72) (with (def x:{A} (bin a:(bin b:1 2)) (bin a:(bin b:1 2))):0)"
     ]
    }
   ],
   "source": [
    "theorem (count:(x?=(rev:x?))) : S2?"
   ]
  },
  {
   "cell_type": "code",
   "execution_count": null,
   "id": "52c4ba1f-686b-4dbd-811e-7f94ceed923b",
   "metadata": {},
   "outputs": [],
   "source": []
  }
 ],
 "metadata": {
  "kernelspec": {
   "display_name": "coda",
   "language": "",
   "name": "coda"
  },
  "language_info": {
   "file_extension": ".co",
   "mimetype": "text/plain",
   "name": "Any text"
  }
 },
 "nbformat": 4,
 "nbformat_minor": 5
}
