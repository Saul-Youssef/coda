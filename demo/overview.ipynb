{
 "cells": [
  {
   "cell_type": "markdown",
   "id": "143da33d-c873-447e-bd6e-668e4ccf6711",
   "metadata": {
    "tags": []
   },
   "source": [
    "### Overview \n",
    "\n",
    "This is the minimalist endpoint of a series of projects I have worked on for a number of years.  These \n",
    "projects have converged to a tiny axiomatic system that appears to have quite interesting mathematical \n",
    "and computational properties.   \n",
    "\n",
    "   First note that any system of reasoning must contain undefined terms which are understood before a first \n",
    "definition can be made.  In the standard foundation of mathematics, for instance, there \n",
    "is no defintion for *proposition*, *variable*, *true*, *false*, etc.  These are introduced as items \n",
    "in a formal language with axioms.  These items and axioms are then supposed to correspond to and \n",
    "formalize mathematical thought.  For instance, Zermelo-Fraenkel set theory has ten axioms including \n",
    "the Axiom of Choice.  \n",
    "\n",
    "   In our approach, we attempt a drastic simplification.  Only the concept of a finite sequences is assumed to be \n",
    "understood without definition.  In addition, there is only one axiom, which defines what constitutes \n",
    "a valid definition.  If we do this, the normal concepts of mathematics (logic, variables, functions, proofs, \n",
    "theorems, categories, morphisms, functors,..) appear naturally, all as different species of \"data.\"  Unlike some \n",
    "other axiomatic and software frameworks, the concept of a \"type\" also appears naturally.\n",
    "\n",
    "## Foundation \n",
    "\n",
    "As noted above, we assume \"finite sequences\" and \"collections\" as concepts which is understood without definition.  This means that we can speak of operations \n",
    "on finite sequences such as concatenating sequences, reversing the order \n",
    "of a finite sequence, etc. as understood without explanation.  A function is \n",
    "understood as a (not necessarily finite) collection of pairs.  Given this basis, \n",
    "the essential definitions are as follows.\n",
    "\n",
    "* A **data** is a finite sequence of **codas**.\n",
    "* A **coda** is a pair of **data**.\n",
    "\n",
    "Given this concept of data, meaning enters by introducting \"definitions.\"\n",
    "\n",
    "* A **definition** is a partial function from coda to data. \n",
    "* A **context** is a finite collection of definitions with disjoint domains. \n",
    "\n",
    "The coda concept provides a way of defining the domain of a definition when it is introduced.  By convention a \n",
    "coda (A:B) is in the domain of f depending on the first item (if any) of the data A.  For example, the coda \n",
    "\n",
    "* rev : a b c \n",
    "\n",
    "has a definition `rev` associated with it which maps `rev : a b c` to `c b a`.  If the definition associated \n",
    "with a coda is an identity partial function, then the coda is called an **atom**.  For example, the 0 and 1 bits \n",
    "are represented as (:) and (:(:)) and both are atoms because there is an identity definition mapping any coda \n",
    "(:B) to (:B).  \n",
    "\n",
    "Given a definition f from coda to data, we can extend this to a function from data to data by defining \n",
    "\n",
    "* f(c1 c2 c3...cn) = f(c1)+f(c2)+f(c3)+...+f(cn) \n",
    "\n",
    "where c1...cn are codas, + is concatenation of data as sequences and where f(c) is taken to be the identity if c is not in the domain of f.  If we extend all definitions f like that, then, for data A and B, the relations \n",
    "\n",
    "* A B = f(A) B = A f(B)\n",
    "\n",
    "define a sequence-compatible equivalence relation on all data.  \n",
    "\n",
    "| Example Data  |  Domain  |  Meaning  |  Partial function |  \n",
    "|------:|:-------|:-------------|----------:|\n",
    "|  &#x2205;  |   &#x2205;    |   empty data   | atom |\n",
    "|  𝟬  |  &#x2205; | 0 bit | atom | \n",
    "|  𝟭  | &#x2205;  | 1 bit | atom | \n",
    "|  hello | 𝟬 | byte string | atom | \n",
    "| {rev : 1 2 3} | { | language source | compiler |\n",
    "| rev : 1 2 3 | rev | reverse operator | reverse order | \n",
    "| first 2 : a b c | first | first two items | get first two | \n",
    "| nat : 0 | nat | the natural numbers | (nat:n) -> n (nat:n+1) |\n",
    "\n",
    "A base set of definitions for simple operations like `rev`, `first` and `nat` are defined in Python source code.  These include functions which define the `{` type, creating a natural internal language which let's you use the built-in definitions and let's you add new definitions.\n",
    "\n",
    "Demos:\n",
    "1. Introduction: Data, Definition, Context and Type \n",
    "2. Using the language \n",
    "3. Python layer\n",
    "\n",
    "In practice, one rarely if ever needs to write new Python code to use the system.  Here, we show how to use the Python code in case that is needed. "
   ]
  },
  {
   "cell_type": "code",
   "execution_count": 1,
   "id": "c72baf28-e5f2-4ae0-bdb5-54483aeaf5d4",
   "metadata": {},
   "outputs": [
    {
     "data": {
      "text/plain": [
       "[, (:nat), (:one), (:int1), (:nat1), (:float1), (:int_add), (:int_mult), (:int_diff), (:int_max), (:int_min), (:float_add), (:float_mult), (:float_diff), (:float_max), (:float_min), (:code_add), (:code_min), (:code_max), (:int_inv), (:float_inv), (:pass), (:null), (:language), (:ap), (:apall), (:app), (:dis), (:adis), (:apx), (:apif), (:help), (:demo), (:defs), (:rev), (:first), (:tail), (:last), (:rep), (:nth1), (:def), (:const), (:let)]"
      ]
     },
     "execution_count": 1,
     "metadata": {},
     "output_type": "execute_result"
    }
   ],
   "source": [
    "from base import *\n",
    "CONTEXT"
   ]
  },
  {
   "cell_type": "code",
   "execution_count": 2,
   "id": "00ff9508-1426-431f-a025-ed7b8fc66955",
   "metadata": {},
   "outputs": [
    {
     "name": "stdout",
     "output_type": "stream",
     "text": [
      "(:a)(:b)(:c)\n",
      "<class 'base.coda'> ((:first):(:a)(:b)(:c))\n"
     ]
    },
    {
     "data": {
      "text/plain": [
       "True"
      ]
     },
     "execution_count": 2,
     "metadata": {},
     "output_type": "execute_result"
    }
   ],
   "source": [
    "abc = data(co('a'),co('b'),co('c'))\n",
    "print(abc)\n",
    "\n",
    "C = da('first')|abc\n",
    "\n",
    "print(type(C),C)\n",
    "\n",
    "D = data(C)\n",
    "\n",
    "C in CONTEXT"
   ]
  },
  {
   "cell_type": "code",
   "execution_count": 3,
   "id": "2bca3795-3808-47c4-995b-00a6659be55f",
   "metadata": {},
   "outputs": [
    {
     "data": {
      "text/plain": [
       "[, (:nat), (:one), (:int1), (:nat1), (:float1), (:int_add), (:int_mult), (:int_diff), (:int_max), (:int_min), (:float_add), (:float_mult), (:float_diff), (:float_max), (:float_min), (:code_add), (:code_min), (:code_max), (:int_inv), (:float_inv), (:pass), (:null), (:language), (:ap), (:apall), (:app), (:dis), (:adis), (:apx), (:apif), (:help), (:demo), (:defs), (:rev), (:first), (:tail), (:last), (:rep), (:nth1), (:def), (:const), (:let)]"
      ]
     },
     "execution_count": 3,
     "metadata": {},
     "output_type": "execute_result"
    }
   ],
   "source": [
    "CONTEXT"
   ]
  },
  {
   "cell_type": "code",
   "execution_count": 4,
   "id": "a65f175b-d5ff-4c2b-8bfc-e9c789c61f35",
   "metadata": {},
   "outputs": [
    {
     "name": "stdout",
     "output_type": "stream",
     "text": [
      " <base.DEF object at 0x10db36f50>\n",
      "nat <base.DEF object at 0x10dbae800>\n",
      "one <base.DEF object at 0x10dbaeda0>\n",
      "int1 <base.DEF object at 0x10dbaf460>\n",
      "nat1 <base.DEF object at 0x10dbafb20>\n",
      "float1 <base.DEF object at 0x10dbbc460>\n",
      "int_add <base.DEF object at 0x10dbbcee0>\n",
      "int_mult <base.DEF object at 0x10dbbda50>\n",
      "int_diff <base.DEF object at 0x10dbbe5c0>\n",
      "int_max <base.DEF object at 0x10dab5ab0>\n",
      "int_min <base.DEF object at 0x10dbbf040>\n",
      "float_add <base.DEF object at 0x10dbbfcd0>\n",
      "float_mult <base.DEF object at 0x10dbc4ac0>\n",
      "float_diff <base.DEF object at 0x10dbc5870>\n",
      "float_max <base.DEF object at 0x10dbc6500>\n",
      "float_min <base.DEF object at 0x10dbc7190>\n",
      "code_add <base.DEF object at 0x10dbc7d00>\n",
      "code_min <base.DEF object at 0x10dbc88b0>\n",
      "code_max <base.DEF object at 0x10dbc9420>\n",
      "int_inv <base.DEF object at 0x10dbc9e10>\n",
      "float_inv <base.DEF object at 0x10dbcaa40>\n",
      "pass <base.DEF object at 0x10dbcafe0>\n",
      "null <base.DEF object at 0x10dbcb670>\n",
      "language <base.DEF object at 0x10dbd7340>\n",
      "ap <base.DEF object at 0x10dbd7e20>\n",
      "apall <base.DEF object at 0x10dbd6560>\n",
      "app <base.DEF object at 0x10dbd6020>\n",
      "dis <base.DEF object at 0x10dbd5ae0>\n",
      "adis <base.DEF object at 0x10dbd5480>\n",
      "apx <base.DEF object at 0x10dbd4f10>\n",
      "apif <base.DEF object at 0x10dbd4880>\n",
      "help <base.DEF object at 0x10dbd3580>\n",
      "demo <base.DEF object at 0x10dbdec50>\n",
      "defs <base.DEF object at 0x10dbdf2b0>\n",
      "rev <base.DEF object at 0x10dbdfb50>\n",
      "first <base.DEF object at 0x10dbdd3f0>\n",
      "tail <base.DEF object at 0x10dbdcd60>\n",
      "last <base.DEF object at 0x10dbdc6d0>\n",
      "rep <base.DEF object at 0x10dbdc160>\n",
      "nth1 <base.DEF object at 0x10dc28250>\n",
      "def <base.DEF object at 0x10dc28a30>\n",
      "const <base.DEF object at 0x10dc291b0>\n",
      "let <base.DEF object at 0x10dc296f0>\n"
     ]
    }
   ],
   "source": [
    "import Code \n",
    "for domain,definitions in CONTEXT: print(Code.pretty(domain),definitions)"
   ]
  },
  {
   "cell_type": "code",
   "execution_count": null,
   "id": "d70ed2d7-8284-483b-a3f7-4c7116075f71",
   "metadata": {},
   "outputs": [],
   "source": []
  }
 ],
 "metadata": {
  "kernelspec": {
   "display_name": "Python 3 (ipykernel)",
   "language": "python",
   "name": "python3"
  },
  "language_info": {
   "codemirror_mode": {
    "name": "ipython",
    "version": 3
   },
   "file_extension": ".py",
   "mimetype": "text/x-python",
   "name": "python",
   "nbconvert_exporter": "python",
   "pygments_lexer": "ipython3",
   "version": "3.10.7"
  }
 },
 "nbformat": 4,
 "nbformat_minor": 5
}
