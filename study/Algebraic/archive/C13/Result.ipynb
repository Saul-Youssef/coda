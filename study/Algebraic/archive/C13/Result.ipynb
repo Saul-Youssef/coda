{
 "cells": [
  {
   "cell_type": "code",
   "execution_count": null,
   "id": "2e251b4a-ff07-4975-a28d-fcf852b32715",
   "metadata": {},
   "outputs": [],
   "source": [
    "defaultTime:5000"
   ]
  },
  {
   "cell_type": "code",
   "execution_count": null,
   "id": "dd070670-6934-4e0f-9388-9d9777e60fb9",
   "metadata": {},
   "outputs": [],
   "source": [
    "import : dir co : up : up : up : ."
   ]
  },
  {
   "cell_type": "code",
   "execution_count": null,
   "id": "e563aecb-28b6-41ea-9509-2f634e909399",
   "metadata": {},
   "outputs": [],
   "source": [
    "count : read stable : L2R1.idem \n",
    "count : ap {if (right:B):B} : read stable : L2R1.idem\n",
    "count : ap {nif (right:B):B} : read stable : L2R1.idem "
   ]
  },
  {
   "cell_type": "code",
   "execution_count": null,
   "id": "e4d696eb-6157-4126-bf67-5167336c057b",
   "metadata": {},
   "outputs": [],
   "source": [
    "tab : do 1000 : spectrum1 S7? : not \n",
    "tab : do 1000 : spectrum2 S7? : not \n",
    "tab : do 1000 : spectrum3 S7? : not "
   ]
  },
  {
   "cell_type": "code",
   "execution_count": null,
   "id": "25b68867-0f1d-4b7c-aae5-33a908b442cf",
   "metadata": {},
   "outputs": [],
   "source": [
    "tab : dom 1000 : spectrum3 S7? : int_min {int_sum B}"
   ]
  },
  {
   "cell_type": "code",
   "execution_count": null,
   "id": "c5682a5b-81a7-4331-9c2f-d4f21a90d8ad",
   "metadata": {},
   "outputs": [],
   "source": []
  }
 ],
 "metadata": {
  "kernelspec": {
   "display_name": "coda",
   "language": "",
   "name": "coda"
  },
  "language_info": {
   "file_extension": ".co",
   "mimetype": "text/plain",
   "name": "Any text"
  }
 },
 "nbformat": 4,
 "nbformat_minor": 5
}
