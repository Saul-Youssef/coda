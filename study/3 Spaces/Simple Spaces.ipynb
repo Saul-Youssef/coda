{
 "cells": [
  {
   "cell_type": "markdown",
   "id": "6e362ba0-41fd-4632-9a20-eaff991a269a",
   "metadata": {},
   "source": [
    "## Spaces \n",
    "\n",
    "Data A is a **space** if \n",
    "\n",
    "* A X : Y Z = A : (A X : Y) (A X : Z)\n",
    "* A X Y : Z = A X : A Y : Z \n",
    "\n",
    "for all data X, Y and Z.  A space A is **simple** if A X : Y = A : Y, so \n",
    "\n",
    "* A : Y Z = A : (A : Y) (A : Z)\n",
    "* A : Y = A : A : Y \n",
    "\n",
    "for all Y, Z.  "
   ]
  },
  {
   "cell_type": "code",
   "execution_count": null,
   "id": "98c18c98-94a9-4555-9b46-f5b053670fbd",
   "metadata": {},
   "outputs": [],
   "source": []
  }
 ],
 "metadata": {
  "kernelspec": {
   "display_name": "coda",
   "language": "",
   "name": "coda"
  },
  "language_info": {
   "file_extension": ".co",
   "mimetype": "text/plain",
   "name": "Any text"
  }
 },
 "nbformat": 4,
 "nbformat_minor": 5
}
