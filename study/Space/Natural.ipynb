{
 "cells": [
  {
   "cell_type": "markdown",
   "id": "2754b97f-5093-41a1-8852-96f0db6d9db3",
   "metadata": {
    "tags": []
   },
   "source": [
    "## The space of natural numbers "
   ]
  },
  {
   "cell_type": "code",
   "execution_count": 1,
   "id": "def784b3-2c16-4f31-a507-e1d88d214417",
   "metadata": {
    "tags": []
   },
   "outputs": [
    {
     "name": "stdout",
     "output_type": "stream",
     "text": []
    }
   ],
   "source": [
    "import : dir co : .  "
   ]
  },
  {
   "cell_type": "code",
   "execution_count": 2,
   "id": "37118d16-09a4-4664-9609-353974b99606",
   "metadata": {},
   "outputs": [
    {
     "name": "stdout",
     "output_type": "stream",
     "text": []
    }
   ],
   "source": [
    "Let a : n.make : 0 \n",
    "Let b : n.make : 1  \n",
    "Let c : n.make : 1 2  \n",
    "Let d : n.make : 45 "
   ]
  },
  {
   "cell_type": "code",
   "execution_count": 3,
   "id": "9c24b92e-e1b6-44b4-9916-78735be66b44",
   "metadata": {},
   "outputs": [
    {
     "name": "stdout",
     "output_type": "stream",
     "text": [
      "(n:0)\n",
      "(n:1)\n",
      "(n:1) (n:2)\n",
      "(n:45)"
     ]
    }
   ],
   "source": [
    "a? \n",
    "b? \n",
    "c?\n",
    "d? "
   ]
  },
  {
   "cell_type": "code",
   "execution_count": 4,
   "id": "124f86da-98e8-47d3-a334-dece818c5b2f",
   "metadata": {},
   "outputs": [
    {
     "name": "stdout",
     "output_type": "stream",
     "text": [
      "(n:0)\n",
      "(n:0)\n",
      "(n:1)\n",
      "(n:4)\n",
      "(n:49)"
     ]
    }
   ],
   "source": [
    "n.sum : \n",
    "n.sum : a? \n",
    "n.sum : a? b? \n",
    "n.sum : a? b? c?\n",
    "n.sum xxx : a? b? c? d? "
   ]
  },
  {
   "cell_type": "code",
   "execution_count": 5,
   "id": "8967a80f-5677-4991-9074-bab217f132a9",
   "metadata": {},
   "outputs": [
    {
     "name": "stdout",
     "output_type": "stream",
     "text": [
      "(n:1)\n",
      "(n:0)\n",
      "(n:1)\n",
      "(n:2)\n",
      "(n:90)"
     ]
    }
   ],
   "source": [
    "n.prod :\n",
    "n.prod : a? b? \n",
    "n.prod : b? \n",
    "n.prod : b? c? \n",
    "n.prod : b? c? d?"
   ]
  },
  {
   "cell_type": "code",
   "execution_count": 6,
   "id": "8736ce0f-5d34-4968-b7e7-9c22d90e9dfe",
   "metadata": {},
   "outputs": [
    {
     "name": "stdout",
     "output_type": "stream",
     "text": [
      "(n:0)\n",
      "(n:24)\n",
      "(n:0)\n",
      "(n:90)\n",
      "(n:180)\n",
      "(n:90)\n",
      "(n:180)"
     ]
    }
   ],
   "source": [
    "n.ring : \n",
    "n.ring (n:1) (n:3) : (n:2) (n:2) (n:4)\n",
    "n.ring (n:0) : (n:45) (n:45)\n",
    "n.ring (n:1) : (n:45) (n:45)\n",
    "n.ring (n:2) : (n:45) (n:45)\n",
    "n.ring (n:1) (n:1) : (n:45) (n:45)\n",
    "n.ring (n:1) (n:2) : (n:45) (n:45)"
   ]
  },
  {
   "cell_type": "code",
   "execution_count": 9,
   "id": "cd45a9e3-a0ad-4764-a2a8-9e8264e0fa79",
   "metadata": {},
   "outputs": [
    {
     "name": "stdout",
     "output_type": "stream",
     "text": [
      "(n:0)"
     ]
    }
   ],
   "source": [
    "n.ring (n:0) : (n:1)"
   ]
  },
  {
   "cell_type": "code",
   "execution_count": null,
   "id": "f81b7a62-6915-4a28-8ac2-6a3be93e91d7",
   "metadata": {},
   "outputs": [],
   "source": []
  }
 ],
 "metadata": {
  "kernelspec": {
   "display_name": "coda",
   "language": "",
   "name": "coda"
  },
  "language_info": {
   "file_extension": ".co",
   "mimetype": "text/plain",
   "name": "Any text"
  }
 },
 "nbformat": 4,
 "nbformat_minor": 5
}
