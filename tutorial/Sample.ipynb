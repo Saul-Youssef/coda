{
 "cells": [
  {
   "cell_type": "markdown",
   "id": "cb495b81-3c39-45b9-9f59-de8be85b63cb",
   "metadata": {},
   "source": [
    "## Sampling the space of pure data \n",
    "\n"
   ]
  },
  {
   "cell_type": "markdown",
   "id": "860acdb4-9d93-497e-9d09-5022f77ead13",
   "metadata": {},
   "source": [
    "One easy way to produce sample data is with **rep** which repeats it's arguments once for each input atom..."
   ]
  },
  {
   "cell_type": "code",
   "execution_count": 1,
   "id": "5a6d76de-ae50-4243-a6b5-173bc6cd2852",
   "metadata": {},
   "outputs": [
    {
     "name": "stdout",
     "output_type": "stream",
     "text": [
      "a a a a\n",
      "a b a b a b a b\n",
      "◎ ◎ ◎ ◎"
     ]
    }
   ],
   "source": [
    "rep a : 1 2 3 4 \n",
    "rep a b : 1 2 3 4 \n",
    "rep (:) : 1 2 3 4 "
   ]
  },
  {
   "cell_type": "markdown",
   "id": "a07b75d3-10cb-4d19-92e9-3fd88fb45305",
   "metadata": {},
   "source": [
    "In most sampling situations, we'll want some specified collection d1, d2, d3,.... where d1, d2, d3 are each data.  To produce a sequence like that, you don't want to produce d1 d2 d3 because concatenation destroys the sequence.  Instead, an easy solution is to produce a sequence \n",
    "\n",
    "* (:d1) (:d2) (:d3)\n",
    "\n",
    "where each data in the collection has it's own container.  We'll do a bit of this by hand..."
   ]
  },
  {
   "cell_type": "code",
   "execution_count": 2,
   "id": "075d5f8e-da63-4ad4-b4e7-2732baab880c",
   "metadata": {},
   "outputs": [
    {
     "name": "stdout",
     "output_type": "stream",
     "text": [
      "(:x y z) (:a b c)"
     ]
    }
   ],
   "source": [
    "(put : x y z ) (put : a b c )"
   ]
  },
  {
   "cell_type": "code",
   "execution_count": 3,
   "id": "58bf9d24-244b-4bcf-b0a0-b0e41deb8fe7",
   "metadata": {},
   "outputs": [
    {
     "name": "stdout",
     "output_type": "stream",
     "text": []
    }
   ],
   "source": [
    "Def repn : {rep A : first B : nat : 0} "
   ]
  },
  {
   "cell_type": "code",
   "execution_count": 4,
   "id": "e806c2a4-ca20-4b71-9049-d6e59fad4fee",
   "metadata": {},
   "outputs": [
    {
     "name": "stdout",
     "output_type": "stream",
     "text": [
      "a a a a a"
     ]
    }
   ],
   "source": [
    "repn a : 5 "
   ]
  },
  {
   "cell_type": "code",
   "execution_count": 5,
   "id": "3dd09049-0151-41bd-ae0f-6185a69930d7",
   "metadata": {},
   "outputs": [
    {
     "name": "stdout",
     "output_type": "stream",
     "text": [
      "◎ (:a) (:a a) (:a a a) (:a a a a)"
     ]
    }
   ],
   "source": [
    "ap {put : repn a:B} : first 5 : nat : 0 "
   ]
  },
  {
   "cell_type": "markdown",
   "id": "06f85e5b-3167-4c80-a618-315a317c616f",
   "metadata": {},
   "source": [
    "For convenience, **sample.odd** and **sample.even** produces even and odd sequences of the simplest atom (:) (\"Hydrogen\"), packaged as above..."
   ]
  },
  {
   "cell_type": "code",
   "execution_count": 6,
   "id": "16d9dd05-9b1c-46bb-89b1-01ef01b21185",
   "metadata": {},
   "outputs": [
    {
     "name": "stdout",
     "output_type": "stream",
     "text": [
      "(:◎) (:◎ ◎ ◎) (:◎ ◎ ◎ ◎ ◎) (:◎ ◎ ◎ ◎ ◎ ◎ ◎)\n",
      "◎ (:◎ ◎) (:◎ ◎ ◎ ◎) (:◎ ◎ ◎ ◎ ◎ ◎)"
     ]
    }
   ],
   "source": [
    "sample.odd : 4 \n",
    "sample.even : 4"
   ]
  },
  {
   "cell_type": "markdown",
   "id": "1a375534-5abc-4518-926c-930d7784bc74",
   "metadata": {},
   "source": [
    "The **sample.pure** operator lets one sample the whole space of pure data via \n",
    "\n",
    "* sample.pure : width depth \n",
    "\n",
    "where **width** is the maximum data length and **depth** is the maximum depth.  For example..."
   ]
  },
  {
   "cell_type": "code",
   "execution_count": 7,
   "id": "7939c7d8-4ff0-43f1-8a45-3309a1ab0b05",
   "metadata": {},
   "outputs": [
    {
     "name": "stdout",
     "output_type": "stream",
     "text": [
      "◎ (:◎) (:(:◎)) (:(:◎ ◎)) (:𝟬) (:𝝞) (:◎◎) (:) (:◎) (:◎◎) (:◎ ◎) (:◎ (:◎)) (:◎ (:◎ ◎)) (:◎ 𝟬) (:◎ 𝝞) (:◎ ◎◎) (:◎ ) (:◎ ◎) (:◎ ◎◎) (:(:◎) ◎) (:(:◎) (:◎)) (:(:◎) (:◎ ◎)) (:(:◎) 𝟬) (:(:◎) 𝝞) (:(:◎) ◎◎) (:(:◎) ) (:(:◎) ◎) (:(:◎) ◎◎) (:(:◎ ◎) ◎) (:(:◎ ◎) (:◎)) (:(:◎ ◎) (:◎ ◎)) (:(:◎ ◎) 𝟬) (:(:◎ ◎) 𝝞) (:(:◎ ◎) ◎◎) (:(:◎ ◎) ) (:(:◎ ◎) ◎) (:(:◎ ◎) ◎◎) (:𝟬 ◎) (:𝟬 (:◎)) (:𝟬 (:◎ ◎)) (:𝟬 𝟬) (:𝟬 𝝞) (:𝟬 ◎◎) (:𝟬 ) (:𝟬 ◎) (:𝟬 ◎◎) (:𝝞 ◎) (:𝝞 (:◎)) (:𝝞 (:◎ ◎)) (:𝝞 𝟬) (:𝝞 𝝞) (:𝝞 ◎◎) (:𝝞 ) (:𝝞 ◎) (:𝝞 ◎◎) (:◎◎ ◎) (:◎◎ (:◎)) (:◎◎ (:◎ ◎)) (:◎◎ 𝟬) (:◎◎ 𝝞) (:◎◎ ◎◎) (:◎◎ ) (:◎◎ ◎) (:◎◎ ◎◎) (: ◎) (: (:◎)) (: (:◎ ◎)) (: 𝟬) (: 𝝞) (: ◎◎) (: ) (: ◎) (: ◎◎) (:◎ ◎) (:◎ (:◎)) (:◎ (:◎ ◎)) (:◎ 𝟬) (:◎ 𝝞) (:◎ ◎◎) (:◎ ) (:◎ ◎) (:◎ ◎◎) (:◎◎ ◎) (:◎◎ (:◎)) (:◎◎ (:◎ ◎)) (:◎◎ 𝟬) (:◎◎ 𝝞) (:◎◎ ◎◎) (:◎◎ ) (:◎◎ ◎) (:◎◎ ◎◎)"
     ]
    }
   ],
   "source": [
    "#\n",
    "#  sample.pure : <width> <depth> \n",
    "#\n",
    "sample.pure : 2 2 "
   ]
  },
  {
   "cell_type": "markdown",
   "id": "d29e73bd-5a15-4c3f-81d5-49de6113e75a",
   "metadata": {},
   "source": [
    "The direct approach is rarely useful because the universe of pure data grows enormously rapidly with **width** and **depth**.  So much so that\n",
    "\n",
    "* sample.pure : 2 3 \n",
    "\n",
    "is already challenging for a laptop.  \n",
    "\n",
    "### Size of sample.pure versus width and depth:\n",
    "\n",
    "|         | width 1  | width 2 | width 3 | width 4  | width 5 |\n",
    "|---------|---------:|--------:|--------:|---------:|--------:|\n",
    "|depth 1  |    2     |    3    |    4    |     5    |    6    |\n",
    "|depth 2  |    5     |     91   |    4369   |   406,901    |    62,193,781    |\n",
    "|depth 3  |    26     |     68,583,243   |    ?    |     ?    |    ?    |\n",
    "|depth 4  |    677     |     ?   |    ?    |     ?    |    ?    |\n",
    "|depth 5  |    458,330     |     ?   |    ?    |     ?    |    ?    |"
   ]
  },
  {
   "cell_type": "markdown",
   "id": "74c5b1d4-41ec-4167-ac3b-9848da6e9f50",
   "metadata": {},
   "source": [
    "### Practical searching \n",
    "\n",
    "Although **sample.pure** samples all pure data and, therefore, all mathematical objects, these samples are typically far too huge to be practically helpful.  Instead, the operator **sample.data** is much more practical.  This operation works by providing a sequence of codas and a width.\n",
    "\n",
    "* sample.data <...sequence of codas..> : width \n",
    "\n",
    "A few examples will illustrate. "
   ]
  },
  {
   "cell_type": "code",
   "execution_count": 8,
   "id": "65606b46-1287-4abb-b922-342c006bb61e",
   "metadata": {},
   "outputs": [
    {
     "name": "stdout",
     "output_type": "stream",
     "text": [
      "◎ (:a a) (:a a a) (:a) (:a a a a)"
     ]
    }
   ],
   "source": [
    "#\n",
    "#   Just one argument coda \"a\" and width <= 5 gives \n",
    "#\n",
    "sample.data a : 5 "
   ]
  },
  {
   "cell_type": "code",
   "execution_count": 9,
   "id": "79e6c97f-9ff3-4756-8b5c-75e2f1008cf1",
   "metadata": {},
   "outputs": [
    {
     "name": "stdout",
     "output_type": "stream",
     "text": [
      "(:a a a b) (:b a a) ◎ (:a) (:a b b b) (:a a) (:a a b a) (:b b b a) (:b a b b) (:b b a) (:a b a) (:a a a a) (:b) (:a b b a) (:b b a b) (:a b a b) (:b a a b) (:b b b b) (:a b b) (:b a a a) (:a b a a) (:b a b a) (:a a a) (:a a b) (:b a) (:a b) (:b b a a) (:b a b) (:b b) (:b b b) (:a a b b)"
     ]
    }
   ],
   "source": [
    "#\n",
    "#   Note that the sample is delivered, as usual, as (:data1) (:data2) ... \n",
    "#\n",
    "#   If you provide two codas, a and b, all permutations are included. \n",
    "#\n",
    "sample.data a b : 5"
   ]
  },
  {
   "cell_type": "code",
   "execution_count": 10,
   "id": "69870386-210d-48b9-b2d2-c5c184c2ea88",
   "metadata": {},
   "outputs": [
    {
     "name": "stdout",
     "output_type": "stream",
     "text": [
      "(:A A) (:A) (:B a) (:B A) (:a) (:{B : A} A) (:A B) (:a {a : B}) (:{A : B}) (:a A) (:a a) (:B {B A}) (:{a : B}) (:{B : a}) (:a B) (:{B : a} B) (:B {A : B}) (:B {B : a}) (:{B A} B) (:A {a B}) (:A {A : B}) (:B {B a}) (:{B A} A) (:{B} B) (:A {B A}) (:a {B a}) (:{A B} a) (:{B : A} B) (:A a) (:{a B} a) (:{A B} B) (:{a : B} B) (:A {a : B}) (:A {B : A}) (:{B a}) (:a {B : a}) (:{A : B} B) (:{A B}) (:{A : B} A) (:a {B}) (:{a B}) (:a {B A}) (:B {B}) (:a {A : B}) (:{B A}) (:{A : B} a) (:a {B : A}) (:{a B} A) (:a {A B}) (:{a : B} A) (:B) (:{B} a) (:{a : B} a) (:A {B}) (:{B a} A) (:{B : A}) (:B {a B}) (:{B : a} a) (:a {a B}) (:B {B : A}) (:A {B a}) (:A {A B}) (:{A B} A) (:{B}) (:{B A} a) (:{B : a} A) (:B {A B}) (:{B : A} a) (:A {B : a}) ◎ (:{B a} a) (:{B a} B) (:{a B} B) (:B B) (:B {a : B}) (:{B} A)"
     ]
    }
   ],
   "source": [
    "#\n",
    "#   Including the coda <{$}> generates source code intermixed with permutations of the other coda\n",
    "#   that you prescribe. \n",
    "#\n",
    "sample.data <A> <B> <{$}> a : 3"
   ]
  },
  {
   "cell_type": "code",
   "execution_count": 11,
   "id": "889b9f68-04bb-472a-b6f4-09eafa7d8b27",
   "metadata": {},
   "outputs": [
    {
     "name": "stdout",
     "output_type": "stream",
     "text": [
      "(:{B : (x:)}) ◎ (:{(y:) B}) (:{(x:) B}) (:{(x:) : B}) (:(x:({}:))) (:{A : B}) (:{B : (x:({}:))}) (:{B : (y:)}) (:{(y:) : B}) (:(x:)) (:{B : A}) (:{(x:({}:)) B}) (:B) (:A) (:{B A}) (:{B (y:)}) (:{B (x:({}:))}) (:{B (x:)}) (:{A B}) (:{(x:({}:)) : B}) (:{B}) (:(y:))"
     ]
    }
   ],
   "source": [
    "#\n",
    "#   One can add some chosen number of \"variables\" \n",
    "#\n",
    "sample.data <A> <B> <{$}> x? y? (x:) : 2 "
   ]
  },
  {
   "cell_type": "code",
   "execution_count": 12,
   "id": "85363d1f-0261-410d-a16e-333e09c5ab5f",
   "metadata": {},
   "outputs": [
    {
     "name": "stdout",
     "output_type": "stream",
     "text": [
      "◎ 𝟬 𝝞 bool not = equal or and nor xor nand xnor iff imply some ap aq by ax pass null bin put get domain left right if nif * collect use1 def undefined invariant nat code_sort ints int_sum int_prod int_sort int_min int_max int_inv int_div nats floats float_sum float_prod float_sort float_min float_max float_inv float_div eval1 with readpath dir help sources demo info module defs language log logs log+ log- rev first tail last rep nth1 once count localdef coda source home codes digits letters printable alphabet allcodes pure wrap startswith endswith join split up1 down1 sample.even sample.odd sample.atom sample.pure sample.window sample.data nth pre post let in equiv use Let Def eval down up while kernel ker hasnt has isnt nchar is repn"
     ]
    }
   ],
   "source": [
    "#\n",
    "#   To meaningfully search, one should add domains representing established definitions.  To do this, first see \n",
    "#   all currently available definitions like so...\n",
    "#\n",
    "defs:"
   ]
  },
  {
   "cell_type": "code",
   "execution_count": 13,
   "id": "09fc2c9a-d9d3-44d9-af3c-62c1e16859f9",
   "metadata": {},
   "outputs": [
    {
     "name": "stdout",
     "output_type": "stream",
     "text": [
      "   Logic Logic Logic Logic Logic Logic Logic Logic Logic Logic Logic Logic Logic Apply Apply Apply Apply Basic Basic Basic Basic Basic Basic Basic Basic Basic Basic Basic Collect Define Define Define Define Number Number Number Number Number Number Number Number Number Number Number Number Number Number Number Number Number Number Number Evaluate Evaluate IO IO Help Help Help Help Help Help Language Log Log Log Log Sequence Sequence Sequence Sequence Sequence Sequence Sequence Sequence Source Source Source Source Text Text Text Text Text Text Text Text Text Text Text Text Path Path Sample Sample Sample Sample Sample Sample Sequence Sequence Sequence  Logic Collect Define Define  Evaluate Path Path Apply Apply Apply Basic Basic Basic Text Basic "
     ]
    }
   ],
   "source": [
    "#\n",
    "#    Each definition is in a \"module\" which is either a python file (.py) or a coda file (.co). \n",
    "#\n",
    "module : defs:"
   ]
  },
  {
   "cell_type": "code",
   "execution_count": 14,
   "id": "41a4d25c-b48c-4730-b33a-35ab1d025c1b",
   "metadata": {},
   "outputs": [
    {
     "name": "stdout",
     "output_type": "stream",
     "text": [
      "IO Define Number Apply Help  Logic Log Evaluate Text Path Sequence Collect Source Basic Sample Language"
     ]
    }
   ],
   "source": [
    "once : module : defs:"
   ]
  },
  {
   "cell_type": "code",
   "execution_count": 15,
   "id": "92b373f7-5be7-4738-bb3c-b41e99287a3d",
   "metadata": {},
   "outputs": [
    {
     "name": "stdout",
     "output_type": "stream",
     "text": [
      "bool not = equal or and nor xor nand xnor iff imply some ap aq by ax pass null bin put get domain left right if nif * nat code_sort ints int_sum int_prod int_sort int_min int_max int_inv int_div nats floats float_sum float_prod float_sort float_min float_max float_inv float_div rev first tail last rep nth1 once count nth pre post in while kernel ker hasnt has isnt is"
     ]
    }
   ],
   "source": [
    "#\n",
    "#    Typically one would want some but not all definitions for a search.  For instance, one typically doesn't want to search \n",
    "#    over IO operations or Sample operations (to avoid recursion) or over help system operations.  A typical choice is...\n",
    "#\n",
    "defs : Apply Basic Logic Number Sequence  "
   ]
  },
  {
   "cell_type": "code",
   "execution_count": 16,
   "id": "3e7ce9d3-9619-4a25-b8af-e42678c43661",
   "metadata": {},
   "outputs": [
    {
     "name": "stdout",
     "output_type": "stream",
     "text": [
      "(:put right) (:isnt has) (:isnt nif) (:put null) (:nif) (:* domain) (:nif get) (:if has) (:* *) (:right get) (:right right) (:is is) (:left null) (:has *) (:domain has) (:nif nif) (:right isnt) (:nif isnt) (:if put) (:is put) (:if bin) (:if domain) (:put is) (:is if) (:hasnt right) (:is get) (:hasnt put) (:pass pass) (:* put) (:pass domain) (:get bin) (:bin put) (:bin bin) (:has) (:pass isnt) (:if *) (:right put) (:put left) (:hasnt domain) (:* pass) (:domain put) (:get hasnt) (:bin) (:isnt *) (:null left) (:left isnt) (:* bin) (:hasnt left) (:if right) (:domain get) (:pass right) (:right bin) (:isnt pass) (:if pass) (:* left) (:hasnt bin) (:domain right) (:domain bin) (:domain domain) (:get is) (:get nif) (:put hasnt) (:bin null) (:left bin) (:get *) (:right domain) (:domain) (:nif null) (:isnt null) (:pass is) (:null isnt) (:right *) (:pass null) (:* right) (:has is) (:left has) (:hasnt pass) (:domain is) (:is) (:right left) (:null right) (:hasnt has) (:* is) (:left if) (:is bin) (:nif *) (:* has) (:bin if) (:if is) (:get has) (:domain if) (:right pass) (:left nif) (:bin right) (:left domain) (:bin is) (:put has) (:isnt domain) (:bin has) (:if left) (:get get) (:hasnt is) (:domain null) (:domain isnt) (:nif hasnt) (:get if) (:isnt hasnt) (:get) (:isnt get) (:null bin) (:left is) (:hasnt nif) (:domain left) (:put domain) (:has bin) (:null get) (:has nif) (:is *) (:put) (:pass nif) (:bin hasnt) (:nif pass) (:if) (:nif bin) (:null pass) (:* get) (:put *) (:isnt put) (:has hasnt) (:hasnt if) (:bin get) (:get null) (:nif has) (:null *) (:get right) (:hasnt) (:null hasnt) (:domain hasnt) (:has pass) (:left right) (:get left) (:right if) (:put nif) (:left) (:bin *) (:has right) (:has domain) (:bin isnt) (:domain *) (:if hasnt) (:pass hasnt) (:* nif) (:put bin) (:nif is) (:right null) (:nif domain) (:is null) (:null is) (:isnt bin) (:is right) (:has get) (:isnt if) (:has put) (:nif if) (:null domain) (:right is) (:hasnt get) (:is nif) (:is left) (:if isnt) (:pass has) (:hasnt isnt) (:null put) (:* if) ◎ (:pass get) (:is hasnt) (:bin pass) (:*) (:hasnt hasnt) (:nif left) (:get domain) (:isnt is) (:is domain) (:null) (:right has) (:pass if) (:isnt) (:domain pass) (:hasnt null) (:put put) (:* isnt) (:* hasnt) (:is has) (:null if) (:isnt isnt) (:right nif) (:right) (:is pass) (:if get) (:null nif) (:if if) (:bin left) (:left *) (:left put) (:get isnt) (:hasnt *) (:has left) (:is isnt) (:left hasnt) (:right hasnt) (:bin domain) (:put isnt) (:has if) (:left get) (:put if) (:* null) (:has has) (:put pass) (:pass put) (:left pass) (:isnt left) (:pass) (:get pass) (:nif put) (:domain nif) (:has null) (:if nif) (:pass bin) (:pass *) (:if null) (:put get) (:bin nif) (:left left) (:has isnt) (:get put) (:null null) (:isnt right) (:null has) (:nif right) (:pass left)"
     ]
    }
   ],
   "source": [
    "sample.data (defs:Basic) : 3"
   ]
  },
  {
   "cell_type": "code",
   "execution_count": 17,
   "id": "09850719-7520-48a2-bf40-fff6aabdc5ee",
   "metadata": {
    "tags": []
   },
   "outputs": [
    {
     "name": "stdout",
     "output_type": "stream",
     "text": [
      "(:{B : has}) (:{B : bin}) (:{put : B}) (:{B : get}) (:kernel) (:{B : A}) (:has) (:(y:)) (:{nif B}) (:{B : nif}) (:{B is}) (:{by B}) (:{domain : B}) (:{B null}) (:{B : ap}) (:is) (:A) (:{B : kernel}) (:*) (:null) (:{ax : B}) (:bin) (:{put B}) (:{B : domain}) (:{by : B}) (:isnt) (:left) (:{B put}) (:{aq B}) (:{(y:) : B}) (:{B domain}) (:{kernel : B}) (:ap) (:{has : B}) (:{get : B}) (:{right : B}) (:{B : by}) (:{B : (y:)}) (:{nif : B}) (:{right B}) (:{B : null}) (:{B right}) (:{B : if}) (:right) (:{B : isnt}) (:{has B}) (:B) (:{B if}) (:{B (y:)}) (:{A : B}) (:{if : B}) (:if) (:{B while}) (:{B *}) (:{B : is}) (:{bin : B}) (:{B}) (:{B A}) (:{B : (x:)}) (:{B : left}) (:{B (x:)}) (:{B get}) (:{while : B}) (:{ker B}) (:{B bin}) (:{B ker}) (:{B ap}) (:{B left}) (:{isnt B}) (:pass) (:{A B}) (:{aq : B}) (:{B by}) (:{B : *}) (:domain) (:{B : aq}) (:while) (:ker) (:{if B}) (:get) (:{B isnt}) (:{* B}) (:{B : right}) (:{is B}) (:{B : hasnt}) (:{B : ker}) (:{* : B}) (:{B : while}) (:{B : ax}) ◎ (:(x:)) (:{isnt : B}) (:{null : B}) (:hasnt) (:{domain B}) (:{ax B}) (:{(x:) : B}) (:{pass : B}) (:ax) (:{left : B}) (:nif) (:put) (:by) (:{bin B}) (:{B kernel}) (:{(y:) B}) (:{get B}) (:{kernel B}) (:{B aq}) (:{left B}) (:{B ax}) (:{ap : B}) (:{pass B}) (:{(x:) B}) (:{ap B}) (:{B : pass}) (:{hasnt B}) (:{hasnt : B}) (:{B has}) (:{B pass}) (:{while B}) (:aq) (:{B : put}) (:{is : B}) (:{B nif}) (:{B hasnt}) (:{ker : B}) (:{null B})"
     ]
    }
   ],
   "source": [
    "#\n",
    "#    To create a typical sample, we start with A, B and {$} for language purposes, add a few \"variables\" (x? y? z?) and \n",
    "#    mix in the above definitions. \n",
    "#    \n",
    "sample.data <A> <B> x? y? <{$}> (defs:Apply Basic) : 2 "
   ]
  },
  {
   "cell_type": "code",
   "execution_count": 18,
   "id": "42867de3-dd0b-40d6-a172-e4e2fd681946",
   "metadata": {},
   "outputs": [
    {
     "name": "stdout",
     "output_type": "stream",
     "text": []
    }
   ],
   "source": [
    "Let Sample : sample.data <A> <B> x? y? <{$}>  : 2 "
   ]
  },
  {
   "cell_type": "code",
   "execution_count": 19,
   "id": "5bdbe692-f37a-4121-aec5-75af22cbc55a",
   "metadata": {},
   "outputs": [
    {
     "name": "stdout",
     "output_type": "stream",
     "text": [
      "18\n",
      "(x:) (y:)"
     ]
    }
   ],
   "source": [
    "#\n",
    "#   sample? is then a collection of data that can be used, for instance, to test for theorems or search for \n",
    "#   algebraic structures of interest, as shown in study tutorials. \n",
    "#\n",
    "count : Sample? \n",
    "undefined : Sample?"
   ]
  },
  {
   "cell_type": "markdown",
   "id": "48b98844-2d76-4057-8827-80519f471fb5",
   "metadata": {},
   "source": [
    "For larger scale searching, one would typically increase from width=2 and search in parallel and, perhaps add more variables.\n",
    "\n",
    "This can be useful for theorem testing and for searching for algebraic structures of interest as illustrated in the theorem tutorial and in various study notebooks. "
   ]
  },
  {
   "cell_type": "code",
   "execution_count": 20,
   "id": "ffbbb987-46af-40c8-9806-ec9ba79ba2a8",
   "metadata": {},
   "outputs": [
    {
     "name": "stdout",
     "output_type": "stream",
     "text": []
    }
   ],
   "source": [
    "Def Idempotent : bool * ap {(A:(get:B))=(A:A:(get:B))}"
   ]
  },
  {
   "cell_type": "code",
   "execution_count": 21,
   "id": "af4782ae-ebbe-4c23-9fc0-d11ccd3c0e12",
   "metadata": {},
   "outputs": [
    {
     "name": "stdout",
     "output_type": "stream",
     "text": [
      "(bool pass:(ap {(A:(get:B))=(A:A:(get:B))} pass:(atoms:)) (ap {(A:(get:B))=(A:A:(get:B))} pass:))"
     ]
    }
   ],
   "source": [
    "Idempotent pass : atoms? (:a b c)"
   ]
  },
  {
   "cell_type": "code",
   "execution_count": 22,
   "id": "57015644-ae5f-4a1a-b34e-900fb746100a",
   "metadata": {},
   "outputs": [
    {
     "name": "stdout",
     "output_type": "stream",
     "text": [
      "◎"
     ]
    }
   ],
   "source": [
    "Idempotent rev : atoms? (:a b c)"
   ]
  },
  {
   "cell_type": "code",
   "execution_count": 23,
   "id": "e7576817-02d2-4714-93dd-ddf9919ddcba",
   "metadata": {},
   "outputs": [
    {
     "name": "stdout",
     "output_type": "stream",
     "text": []
    }
   ],
   "source": [
    "Let 1 : (sample.data a b : 4) (:(:a b)) (bin a:b) (sample.atom:3)"
   ]
  },
  {
   "cell_type": "code",
   "execution_count": 24,
   "id": "2d5a9e78-4c1c-46a9-b5d3-a86a02ae7f11",
   "metadata": {},
   "outputs": [
    {
     "name": "stdout",
     "output_type": "stream",
     "text": [
      "(:b a) (:b b b) ◎ (:a) (:b b) (:b a b) (:a b a) (:b) (:a b b) (:a a) (:b a a) (:b b a) (:a a a) (:a a b) (:a b) (:(:a b)) (bin a:b) ◎ (:◎) (:◎ ◎)"
     ]
    }
   ],
   "source": [
    "1? "
   ]
  },
  {
   "cell_type": "code",
   "execution_count": 25,
   "id": "2eaa179e-1ca4-45a5-9823-28075a804a7f",
   "metadata": {},
   "outputs": [
    {
     "name": "stdout",
     "output_type": "stream",
     "text": [
      "pass null bin put get domain left right if nif * hasnt has isnt is\n",
      "ap aq by ax while kernel ker"
     ]
    }
   ],
   "source": [
    "defs : Basic \n",
    "defs : Apply"
   ]
  },
  {
   "cell_type": "code",
   "execution_count": 26,
   "id": "1c3e0fd1-c808-44f2-b4ab-4c59a3faf6bd",
   "metadata": {},
   "outputs": [
    {
     "name": "stdout",
     "output_type": "stream",
     "text": [
      "1 pass |\n",
      "2 null |\n",
      "3 bin | ◎\n",
      "4 put | ◎\n",
      "5 get | ◎\n",
      "6 domain| ◎\n",
      "7 left |\n",
      "8 right | ◎\n",
      "9 if |\n",
      "10 nif |\n",
      "11 star | ◎\n",
      "12 hasnt |\n",
      "13 has |\n",
      "14 isnt |\n",
      "15 is |"
     ]
    }
   ],
   "source": [
    "pre 1 pass | : Idempotent pass : 1? \n",
    "pre 2 null | : Idempotent null : 1?\n",
    "pre 3 bin  | : Idempotent bin : 1?\n",
    "pre 4 put  | : Idempotent put : 1?\n",
    "pre 5 get  | : Idempotent get : 1? \n",
    "pre 6 domain| : Idempotent domain : 1?\n",
    "pre 7 left | : Idempotent left : 1? \n",
    "pre 8 right | : Idempotent right : 1? \n",
    "pre 9 if | : Idempotent if : 1?\n",
    "pre 10 nif | : Idempotent nif : 1? \n",
    "pre 11 star | : Idempotent * : 1? \n",
    "pre 12 hasnt | : Idempotent hasnt : 1? \n",
    "pre 13 has | : Idempotent has : 1? \n",
    "pre 14 isnt | : Idempotent isnt : 1? \n",
    "pre 15 is | : Idempotent is : 1? "
   ]
  },
  {
   "cell_type": "code",
   "execution_count": 30,
   "id": "812aec48-bad0-44ee-b3df-0d88f87a1033",
   "metadata": {},
   "outputs": [
    {
     "name": "stdout",
     "output_type": "stream",
     "text": [
      "(bin pass:) (bin null:) (bin bin:◎) (bin put:◎) (bin get:◎)"
     ]
    }
   ],
   "source": [
    "#\n",
    "#   Doing the same thing with one line \n",
    "#\n",
    "ap {put bin B : Idempotent B : 1?} : first 5 : defs : Basic "
   ]
  },
  {
   "cell_type": "code",
   "execution_count": null,
   "id": "f94387d1-a5f4-49f4-9fa6-92c953f990c8",
   "metadata": {},
   "outputs": [],
   "source": []
  }
 ],
 "metadata": {
  "kernelspec": {
   "display_name": "coda",
   "language": "",
   "name": "coda"
  },
  "language_info": {
   "file_extension": ".co",
   "mimetype": "text/plain",
   "name": "Any text"
  }
 },
 "nbformat": 4,
 "nbformat_minor": 5
}
