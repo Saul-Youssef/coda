{
 "cells": [
  {
   "cell_type": "markdown",
   "id": "4af0281d-00f2-4b6f-986b-62ad4c2ef7a4",
   "metadata": {},
   "source": [
    "## How to use coda via python"
   ]
  },
  {
   "cell_type": "code",
   "execution_count": 1,
   "id": "5ed5844d-1d18-4676-8026-8028df49979c",
   "metadata": {},
   "outputs": [],
   "source": [
    "from base import * \n",
    "import Evaluate, Compile "
   ]
  },
  {
   "cell_type": "code",
   "execution_count": 2,
   "id": "24ad2df1-2188-47e4-9807-20a51534c11d",
   "metadata": {},
   "outputs": [],
   "source": [
    "A = data(da('{rev : 1 2 3}')|data())"
   ]
  },
  {
   "cell_type": "code",
   "execution_count": 3,
   "id": "f06e26be-23b1-42fe-8e95-65b5b939aa26",
   "metadata": {},
   "outputs": [
    {
     "name": "stdout",
     "output_type": "stream",
     "text": [
      "3\n",
      "2\n",
      "1\n"
     ]
    }
   ],
   "source": [
    "for a in Evaluate.default(A): print(a)"
   ]
  },
  {
   "cell_type": "code",
   "execution_count": 4,
   "id": "5e6b8c74-efa1-4495-ba39-c41f3fc6e0f1",
   "metadata": {},
   "outputs": [
    {
     "name": "stdout",
     "output_type": "stream",
     "text": [
      "<class 'base.coda'> 3\n",
      "<class 'base.coda'> 2\n",
      "<class 'base.coda'> 1\n"
     ]
    }
   ],
   "source": [
    "for a in Compile.compile('rev : 1 2 3'): print(type(a),a)"
   ]
  },
  {
   "cell_type": "code",
   "execution_count": 5,
   "id": "3c6f4fbc-133c-430a-aef6-3fb103a1d3ed",
   "metadata": {},
   "outputs": [],
   "source": [
    "def com(txt): return Compile.compile(txt)"
   ]
  },
  {
   "cell_type": "code",
   "execution_count": 6,
   "id": "a58ce5dc-7f14-49d4-92f6-a2e5f7a9e81e",
   "metadata": {},
   "outputs": [
    {
     "data": {
      "text/plain": []
     },
     "execution_count": 6,
     "metadata": {},
     "output_type": "execute_result"
    }
   ],
   "source": [
    "com('def Space : {B : (B:X?) (B:Y?) = B : X? Y?}')"
   ]
  },
  {
   "cell_type": "code",
   "execution_count": 7,
   "id": "bd3e677d-3676-4343-9015-1cdb4ba790b7",
   "metadata": {},
   "outputs": [],
   "source": [
    "A = com('Space : Z?')"
   ]
  },
  {
   "cell_type": "code",
   "execution_count": 8,
   "id": "56da33e0-3e46-4cfd-ab43-7035db9a3101",
   "metadata": {},
   "outputs": [
    {
     "name": "stdout",
     "output_type": "stream",
     "text": [
      "((?:Z):((= ((?:Z):(?:X)) ((?:Z):(?:Y)):(?:Z)):(?:X) (?:Y)))\n"
     ]
    }
   ],
   "source": [
    "for a in A: print(a)"
   ]
  },
  {
   "cell_type": "code",
   "execution_count": 9,
   "id": "e322e5a2-8db2-41b9-ac96-2c7ede981122",
   "metadata": {},
   "outputs": [
    {
     "name": "stdout",
     "output_type": "stream",
     "text": [
      "(?:X)\n",
      "(?:Z)\n",
      "(?:Y)\n"
     ]
    }
   ],
   "source": [
    "import Define \n",
    "for c in Define.variables(A): print(c)"
   ]
  },
  {
   "cell_type": "code",
   "execution_count": 10,
   "id": "76a9ec07-da90-4ae9-8406-5ad56e6236bc",
   "metadata": {},
   "outputs": [
    {
     "ename": "SyntaxError",
     "evalue": "invalid syntax (1241525366.py, line 1)",
     "output_type": "error",
     "traceback": [
      "\u001b[0;36m  Cell \u001b[0;32mIn[10], line 1\u001b[0;36m\u001b[0m\n\u001b[0;31m    let z : pass\u001b[0m\n\u001b[0m        ^\u001b[0m\n\u001b[0;31mSyntaxError\u001b[0m\u001b[0;31m:\u001b[0m invalid syntax\n"
     ]
    }
   ],
   "source": []
  },
  {
   "cell_type": "code",
   "execution_count": null,
   "id": "4bffe050-c35e-4d6e-8521-598c40e71045",
   "metadata": {},
   "outputs": [],
   "source": []
  }
 ],
 "metadata": {
  "kernelspec": {
   "display_name": "Python 3 (ipykernel)",
   "language": "python",
   "name": "python3"
  },
  "language_info": {
   "codemirror_mode": {
    "name": "ipython",
    "version": 3
   },
   "file_extension": ".py",
   "mimetype": "text/x-python",
   "name": "python",
   "nbconvert_exporter": "python",
   "pygments_lexer": "ipython3",
   "version": "3.10.7"
  }
 },
 "nbformat": 4,
 "nbformat_minor": 5
}
