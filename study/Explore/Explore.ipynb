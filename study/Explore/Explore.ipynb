{
 "cells": [
  {
   "cell_type": "markdown",
   "id": "53ad23c4-ccf7-45bf-9c1f-3b02a27e63be",
   "metadata": {},
   "source": [
    "# Exploration\n",
    "\n",
    "This is going to be a general exploration of some data, particularly exercising the Set module.\n",
    "\n",
    "We use sequences of (:) and Generate.Gen to generate interesting samples of datas.  Generate.Gen uses a base collection of codas as a starting point (Generate.codas) and makes samples from those codas including language expressions.  The argument to Generate.Gen is the width of the sampled expression.  \n",
    "\n",
    "The Generate module also can generate all pure data up to specified with and depth, but this results in enormous data samples and it's impractical to search deep enough to hit the built in definitions.  \n",
    "\n",
    "Samples:\n",
    "1. *SMALL* 159 datas, used for software testing.\n",
    "2. *MEDIUM* 14,098 datas, used for pre-production testing. \n",
    "3. *LARGE* 1M datas, used for production results.\n",
    "\n",
    "We will look for data using the samples available from the Set module:\n",
    "\n",
    "1. nilpotents A^n:X = ()\n",
    "2. involutions A:A:X = X\n",
    "3. idempotents A:A:X = A:X\n",
    "4. distributive A:X Y = (A:X) (A:Y)\n",
    "5. space A:(A:X) (A:Y) = A:X Y\n",
    "6. morphism from A to B F:A:X = B:F:X \n"
   ]
  },
  {
   "cell_type": "code",
   "execution_count": 20,
   "id": "00ab60a4-fd0c-4e4c-a07e-0b1b5816e808",
   "metadata": {
    "tags": []
   },
   "outputs": [],
   "source": [
    "from base import *\n",
    "import Generate,Set\n",
    "#\n",
    "#    Starting samples that will be used \n",
    "#\n",
    "codas = Generate.codas # base codas for generating data samples \n",
    "SMALL  = Generate.Gen(codas,2).set()  # 159 small sample for testing \n",
    "MEDIUM = Generate.Gen(codas,3).set()  # 14,098 medium sample \n",
    "#LARGE  = Generate.Gen(codas,4).set()  # 1,047,810 production sample \n",
    "#\n",
    "#     The evaluation depth is controlled by these \n",
    "#\n",
    "e10   = Set.eval10\n",
    "e100  = Set.eval100  \n",
    "e1000 = Set.eval1000  \n",
    "#\n",
    "#    Samples of (:) \"hydrogen atoms\"\n",
    "#\n",
    "def atoms(n): return Generate.OddAtoms(n)+Generate.EvenAtoms(n)"
   ]
  },
  {
   "cell_type": "code",
   "execution_count": 2,
   "id": "bdc25aeb-7ff6-45a1-8cbb-0ad511e03cb1",
   "metadata": {},
   "outputs": [
    {
     "name": "stdout",
     "output_type": "stream",
     "text": [
      "◎\n",
      "◎ ◎ ◎\n",
      "◎ ◎ ◎ ◎ ◎\n",
      "\n",
      "◎ ◎\n",
      "◎ ◎ ◎ ◎\n"
     ]
    }
   ],
   "source": [
    "for a in atoms(3): print(a)"
   ]
  },
  {
   "cell_type": "code",
   "execution_count": null,
   "id": "d9c0bdc7-939f-46ce-a307-62c505da5af7",
   "metadata": {},
   "outputs": [],
   "source": [
    "d1 = MEDIUM.nilpotent(1,MEDIUM.sample(10)+atoms(5)).multieval(e100).empty()"
   ]
  },
  {
   "cell_type": "code",
   "execution_count": 18,
   "id": "a07f7a91-234a-46bc-ae15-effd37bdca91",
   "metadata": {},
   "outputs": [
    {
     "name": "stdout",
     "output_type": "stream",
     "text": [
      "ap2\n",
      "startswith\n",
      "endswith\n",
      "or\n",
      "app\n",
      "null\n",
      "rep\n",
      "apif\n"
     ]
    }
   ],
   "source": [
    "for d in d1: print(d)"
   ]
  },
  {
   "cell_type": "code",
   "execution_count": null,
   "id": "c9bacce4-c81b-4d00-918e-a0719a8dda60",
   "metadata": {},
   "outputs": [],
   "source": []
  }
 ],
 "metadata": {
  "kernelspec": {
   "display_name": "Python 3 (ipykernel)",
   "language": "python",
   "name": "python3"
  },
  "language_info": {
   "codemirror_mode": {
    "name": "ipython",
    "version": 3
   },
   "file_extension": ".py",
   "mimetype": "text/x-python",
   "name": "python",
   "nbconvert_exporter": "python",
   "pygments_lexer": "ipython3",
   "version": "3.10.7"
  }
 },
 "nbformat": 4,
 "nbformat_minor": 5
}
