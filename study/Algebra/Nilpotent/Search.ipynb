{
 "cells": [
  {
   "cell_type": "code",
   "execution_count": 1,
   "id": "9ea37cc3-a039-45da-a3fc-8a0b59fe890e",
   "metadata": {},
   "outputs": [
    {
     "name": "stdout",
     "output_type": "stream",
     "text": [
      "(defaultTime:1000)"
     ]
    }
   ],
   "source": [
    "defaultTime:1000"
   ]
  },
  {
   "cell_type": "code",
   "execution_count": 2,
   "id": "235a755d-3995-4073-9910-288cf254b1fd",
   "metadata": {},
   "outputs": [
    {
     "name": "stdout",
     "output_type": "stream",
     "text": []
    }
   ],
   "source": [
    "import : dir co : up : up : ."
   ]
  },
  {
   "cell_type": "code",
   "execution_count": 4,
   "id": "8f3906a1-e596-44ed-8b36-c9a0bb4b3ad1",
   "metadata": {
    "tags": []
   },
   "outputs": [
    {
     "name": "stdout",
     "output_type": "stream",
     "text": [
      "1\n",
      "0\n",
      "0\n",
      "1"
     ]
    }
   ],
   "source": [
    "count : property nilpotent {rev:B} : S5?\n",
    "count : property nilpotent {null:B} : S5?\n",
    "count : property nilpotent_right {null:B} : S5?\n",
    "count : property nilpotent_right {A A} : S5?"
   ]
  },
  {
   "cell_type": "code",
   "execution_count": null,
   "id": "8875c4d8-68cd-4973-b305-259effec4ac0",
   "metadata": {},
   "outputs": [],
   "source": [
    "Property nilpotent (:{rev:B}) (:{null:B}) : S5? "
   ]
  },
  {
   "cell_type": "code",
   "execution_count": null,
   "id": "c49cbef6-0770-46f3-bf9e-bf800209db00",
   "metadata": {},
   "outputs": [],
   "source": []
  },
  {
   "cell_type": "code",
   "execution_count": 7,
   "id": "31944d33-88c2-48c6-ac98-fead8607e098",
   "metadata": {},
   "outputs": [
    {
     "name": "stdout",
     "output_type": "stream",
     "text": [
      "1 0"
     ]
    }
   ],
   "source": [
    "aq {count:property nilpotent A:B} {rev:B} {null:B} : S5? "
   ]
  },
  {
   "cell_type": "code",
   "execution_count": null,
   "id": "42080fb4-471a-42b0-b854-5db68d9ed56e",
   "metadata": {},
   "outputs": [],
   "source": []
  },
  {
   "cell_type": "code",
   "execution_count": 9,
   "id": "34f5fa79-861e-47c9-a3b4-378c8554a2a3",
   "metadata": {},
   "outputs": [
    {
     "name": "stdout",
     "output_type": "stream",
     "text": [
      "1 0"
     ]
    }
   ],
   "source": [
    "{aq 2 property nilpotent {rev:B} {null:B}:B} : S5?"
   ]
  },
  {
   "cell_type": "code",
   "execution_count": null,
   "id": "d3c98171-7091-47a1-ab7d-e692b87fdf35",
   "metadata": {},
   "outputs": [],
   "source": []
  },
  {
   "cell_type": "markdown",
   "id": "1f9275ab-8fa7-4fa5-affa-c7b174ffebed",
   "metadata": {},
   "source": [
    "Search for nilpotents from C0, basic commands.\n",
    "First level: use the S6 sample."
   ]
  },
  {
   "cell_type": "code",
   "execution_count": null,
   "id": "bf49446d-d497-4d9c-a2b2-c54fd3c597da",
   "metadata": {},
   "outputs": [],
   "source": [
    "Def Property : ap {(bin (get:B) : property nilpotent (get:B) : S"
   ]
  },
  {
   "cell_type": "code",
   "execution_count": null,
   "id": "f2104b0c-e552-427c-a29f-c6548eca3ead",
   "metadata": {},
   "outputs": [],
   "source": [
    "property nilpotent {rev:B} : S6?"
   ]
  },
  {
   "cell_type": "code",
   "execution_count": null,
   "id": "d248f71d-6fc2-4086-a6ff-6893db1d0a0e",
   "metadata": {},
   "outputs": [],
   "source": [
    "ap {(bin (get:B) : property nilpotent (get:B) : S6?)} : (:{rev:B}) "
   ]
  },
  {
   "cell_type": "code",
   "execution_count": null,
   "id": "3dbb02c7-2f83-450b-9a62-4a9d17092f3e",
   "metadata": {},
   "outputs": [],
   "source": [
    "Def nilS6 : ap {(bin (get:B) : property nilpotent (get:B) : S6?)}"
   ]
  },
  {
   "cell_type": "code",
   "execution_count": null,
   "id": "43a755b7-8c7e-4575-962a-6bf54338b870",
   "metadata": {},
   "outputs": [],
   "source": [
    "nilS6 : (:{rev:B}) (:{null:B}) "
   ]
  },
  {
   "cell_type": "code",
   "execution_count": null,
   "id": "b6fa209d-72d5-4f96-b0f7-972deee86cab",
   "metadata": {},
   "outputs": [],
   "source": [
    "defaultTime:1000"
   ]
  },
  {
   "cell_type": "code",
   "execution_count": null,
   "id": "fa77a7c5-4b57-4fed-85fe-8b834c88c0fe",
   "metadata": {
    "tags": []
   },
   "outputs": [],
   "source": [
    "out C0-S6 3600 : nilS6 : C0?:"
   ]
  },
  {
   "cell_type": "code",
   "execution_count": null,
   "id": "e6f6b5da-acd9-4d48-af1d-a75fdc641665",
   "metadata": {},
   "outputs": [],
   "source": [
    "stat : C0-S6"
   ]
  },
  {
   "cell_type": "code",
   "execution_count": null,
   "id": "20794bf3-c00a-43eb-b713-86b7174e212c",
   "metadata": {},
   "outputs": [],
   "source": [
    "count : in stable : C0-S6"
   ]
  },
  {
   "cell_type": "code",
   "execution_count": null,
   "id": "147a5162-3bfa-49d7-a2f7-59cff32b9012",
   "metadata": {
    "tags": []
   },
   "outputs": [],
   "source": [
    "out C2-S6.sample 3600 : nilS6 : first 100 : C2? :"
   ]
  },
  {
   "cell_type": "code",
   "execution_count": null,
   "id": "e9d12330-4aeb-4f96-946b-1b06e3222b63",
   "metadata": {
    "tags": []
   },
   "outputs": [],
   "source": [
    "stat : C2-S6.sample "
   ]
  },
  {
   "cell_type": "code",
   "execution_count": null,
   "id": "84956da9-bd73-49f2-b0de-98b72bfd9a56",
   "metadata": {
    "tags": []
   },
   "outputs": [],
   "source": [
    "in stable : C2-S6.sample"
   ]
  },
  {
   "cell_type": "code",
   "execution_count": 15,
   "id": "aed9491c-f8d6-4b00-8f4f-c5b80a330908",
   "metadata": {},
   "outputs": [
    {
     "name": "stdout",
     "output_type": "stream",
     "text": []
    }
   ],
   "source": [
    "Let Cand : in : C0-S6.sample.candidates"
   ]
  },
  {
   "cell_type": "code",
   "execution_count": 16,
   "id": "06481c2d-7a28-4834-8dd1-20e4e3ee2b43",
   "metadata": {
    "collapsed": true,
    "jupyter": {
     "outputs_hidden": true
    },
    "tags": []
   },
   "outputs": [
    {
     "name": "stdout",
     "output_type": "stream",
     "text": [
      "(:has {domain : B}) (:null {B get}) (:{nif : B} b) (:put {const : B}) (:null {B pass}) (:if {prod : B}) (:has {B}) (:is {b : B}) (:get {B : A}) (:{null : B} a) (:null sum) (:if {B : plus}) (:null {B : hasnt}) (:{A : B} is) (:null {domain B}) (:null {right B}) (:get pass) (:get {A : B}) (:null {prod : B}) (:null {null : B}) (:null {1 : B}) (:is {const : B}) (:is is) (:is {B has}) (:has {B : b}) (:{sum : B} null) (:null {B 0}) (:has {hasnt B}) (:is {nif : B}) (:null {B prod}) (:null {has B}) (:null {get B}) (:if {a B}) (:has {prod B}) (:get {B : bin}) (:is {B : sum}) (:has {B b}) (:null {B : arg}) (:null {0 : B}) (:null b) (:if put) (:if {is : B}) (:is {has B}) (:{is : B} bin) (:get {B isnt}) (:null if) (:{sum : B} star) (:null {B arg}) (:is {B sum}) (:if {B isnt}) (:{get : B} plus) (:get {B : left}) (:has has) (:if {right B}) (:null {b B}) (:null hasnt) (:is {B const}) (:null {b : B}) (:const) (:is {domain B}) (:has {B domain}) (:has {B : arg}) (:{is : B} put) (:if null) (:null {B : is}) (:{A : B} get) (:has 0) (:get is) (:has arg) (:{has : B} A) (:if {B : nif}) (:if {B right}) (:null prod) (:{nif : B} A) (:{get : B} has) (:has {B : pass}) (:{null : B} sum) (:null get) (:is {B arg}) (:get {B : b}) (:get {B}) (:get star) (:is {B : nif}) (:if {null B}) (:has {B has}) (:get put) (:get 1) (:is const) (:is prod) (:if {bin : B}) (:get if) (:has left) (:is {B hasnt}) (:if {put B}) (:has {B : bin}) (:{nif : B} 1) (:{null : B} put) (:has {B bin}) (:{const : B} pass) (:has {plus B}) (:is {B : if}) (:has {left B}) (:has {B : left}) (:null {isnt B}) (:null {bin B}) (:if {B put}) (:{A : B} null) (:has {B null}) (:get prod) (:has {null : B}) (:put get) (:has {has : B}) (:has {B : isnt}) (:if {B : has}) (:if {plus B}) (:is B) (:has {star : B}) (:{sum : B} prod) (:{sum : B} B) (:{has : B} has) (:get get) (:get {1 B}) (:has {B : A}) (:null 0) (:is {const B}) (:is sum) (:if {const : B}) (:get {B nif}) (:get {star : B}) (:has {domain B}) (:is {B : put}) (:null {B put}) (:if {B star}) (:null {B if}) (:{sum : B}) (:{null : B} b) (:get sum) (:null arg) (:has {B : put}) (:get {B 1}) (:has {B right}) (:{has : B} domain) (:if {B prod}) (:get {isnt : B}) (:{get : B} B) (:{const : B} get) (:has sum) (:if isnt) (:has is)"
     ]
    }
   ],
   "source": [
    "Cand?"
   ]
  },
  {
   "cell_type": "code",
   "execution_count": 12,
   "id": "81c8a8a0-0631-4aed-b504-c6a1684de527",
   "metadata": {},
   "outputs": [
    {
     "name": "stdout",
     "output_type": "stream",
     "text": []
    }
   ],
   "source": [
    "Def nilS53 : ap {(bin (get:B) : property nilpotent (get:B) : S5? S3?)}"
   ]
  },
  {
   "cell_type": "code",
   "execution_count": 18,
   "id": "18c8a2bb-ccbb-410f-b68c-c72df36d57a0",
   "metadata": {
    "collapsed": true,
    "jupyter": {
     "outputs_hidden": true
    },
    "tags": []
   },
   "outputs": [
    {
     "name": "stdout",
     "output_type": "stream",
     "text": [
      "eval> creation, max seconds:30000.0, max GB:2.0\n",
      "eval> creation, max seconds:100, max GB:2\n",
      "eval> creation, max seconds:100, max GB:2\n",
      "eval> creation, max seconds:100, max GB:2\n",
      "eval> creation, max seconds:100, max GB:2\n",
      "eval> creation, max seconds:100, max GB:2\n",
      "eval> creation, max seconds:100, max GB:2\n",
      "eval> creation, max seconds:100, max GB:2\n",
      "eval> creation, max seconds:100, max GB:2\n",
      "eval> creation, max seconds:100, max GB:2\n",
      "eval> creation, max seconds:100, max GB:2\n",
      "eval> creation, max seconds:100, max GB:2\n",
      "eval> creation, max seconds:100, max GB:2\n",
      "eval> creation, max seconds:100, max GB:2\n",
      "eval> creation, max seconds:100, max GB:2\n",
      "eval> creation, max seconds:100, max GB:2\n",
      "eval> creation, max seconds:100, max GB:2\n",
      "eval> creation, max seconds:100, max GB:2\n",
      "eval> creation, max seconds:100, max GB:2\n",
      "eval> creation, max seconds:100, max GB:2\n",
      "eval> creation, max seconds:100, max GB:2\n",
      "eval> creation, max seconds:100, max GB:2\n",
      "eval> creation, max seconds:100, max GB:2\n",
      "eval> creation, max seconds:100, max GB:2\n",
      "eval> creation, max seconds:100, max GB:2\n",
      "eval> creation, max seconds:100, max GB:2\n",
      "eval> creation, max seconds:100, max GB:2\n",
      "eval> creation, max seconds:100, max GB:2\n",
      "eval> creation, max seconds:100, max GB:2\n",
      "eval> creation, max seconds:100, max GB:2\n",
      "eval> creation, max seconds:100, max GB:2\n",
      "eval> creation, max seconds:100, max GB:2\n",
      "eval> creation, max seconds:100, max GB:2\n",
      "eval> creation, max seconds:100, max GB:2\n",
      "eval> creation, max seconds:100, max GB:2\n",
      "eval> creation, max seconds:100, max GB:2\n",
      "eval> creation, max seconds:100, max GB:2\n",
      "eval> creation, max seconds:100, max GB:2\n",
      "eval> creation, max seconds:100, max GB:2\n",
      "eval> creation, max seconds:100, max GB:2\n",
      "eval> creation, max seconds:100, max GB:2\n",
      "eval> creation, max seconds:100, max GB:2\n",
      "eval> creation, max seconds:100, max GB:2\n",
      "eval> creation, max seconds:100, max GB:2\n",
      "eval> creation, max seconds:100, max GB:2\n",
      "eval> creation, max seconds:100, max GB:2\n",
      "eval> creation, max seconds:100, max GB:2\n",
      "eval> creation, max seconds:100, max GB:2\n",
      "eval> creation, max seconds:100, max GB:2\n",
      "eval> creation, max seconds:100, max GB:2\n",
      "eval> creation, max seconds:100, max GB:2\n",
      "eval> creation, max seconds:100, max GB:2\n",
      "eval> creation, max seconds:100, max GB:2\n",
      "eval> creation, max seconds:100, max GB:2\n",
      "eval> creation, max seconds:100, max GB:2\n",
      "eval> creation, max seconds:100, max GB:2\n",
      "eval> creation, max seconds:100, max GB:2\n",
      "eval> creation, max seconds:100, max GB:2\n",
      "eval> creation, max seconds:100, max GB:2\n",
      "eval> creation, max seconds:100, max GB:2\n",
      "eval> creation, max seconds:100, max GB:2\n",
      "eval> creation, max seconds:100, max GB:2\n",
      "eval> creation, max seconds:100, max GB:2\n",
      "eval> creation, max seconds:100, max GB:2\n",
      "eval> creation, max seconds:100, max GB:2\n",
      "eval> creation, max seconds:100, max GB:2\n",
      "eval> creation, max seconds:100, max GB:2\n",
      "eval> creation, max seconds:100, max GB:2\n",
      "eval> creation, max seconds:100, max GB:2\n",
      "eval> creation, max seconds:100, max GB:2\n",
      "eval> creation, max seconds:100, max GB:2\n",
      "eval> creation, max seconds:100, max GB:2\n",
      "eval> creation, max seconds:100, max GB:2\n",
      "eval> creation, max seconds:100, max GB:2\n",
      "eval> creation, max seconds:100, max GB:2\n",
      "eval> creation, max seconds:100, max GB:2\n",
      "eval> creation, max seconds:100, max GB:2\n",
      "eval> creation, max seconds:100, max GB:2\n",
      "eval> creation, max seconds:100, max GB:2\n",
      "eval> creation, max seconds:100, max GB:2\n",
      "eval> creation, max seconds:100, max GB:2\n",
      "eval> creation, max seconds:100, max GB:2\n",
      "eval> creation, max seconds:100, max GB:2\n",
      "eval> creation, max seconds:100, max GB:2\n",
      "eval> creation, max seconds:100, max GB:2\n",
      "eval> creation, max seconds:100, max GB:2\n",
      "eval> creation, max seconds:100, max GB:2\n",
      "eval> creation, max seconds:100, max GB:2\n",
      "eval> creation, max seconds:100, max GB:2\n",
      "eval> creation, max seconds:100, max GB:2\n",
      "eval> creation, max seconds:100, max GB:2\n",
      "eval> creation, max seconds:100, max GB:2\n",
      "eval> creation, max seconds:100, max GB:2\n",
      "eval> creation, max seconds:100, max GB:2\n",
      "eval> creation, max seconds:100, max GB:2\n",
      "eval> creation, max seconds:100, max GB:2\n",
      "eval> creation, max seconds:100, max GB:2\n",
      "eval> creation, max seconds:100, max GB:2\n",
      "eval> creation, max seconds:100, max GB:2\n",
      "eval> creation, max seconds:100, max GB:2\n",
      "eval> creation, max seconds:100, max GB:2\n",
      "eval> creation, max seconds:100, max GB:2\n",
      "eval> creation, max seconds:100, max GB:2\n",
      "eval> creation, max seconds:100, max GB:2\n",
      "eval> creation, max seconds:100, max GB:2\n",
      "eval> creation, max seconds:100, max GB:2\n",
      "eval> creation, max seconds:100, max GB:2\n",
      "eval> creation, max seconds:100, max GB:2\n",
      "eval> creation, max seconds:100, max GB:2\n",
      "eval> creation, max seconds:100, max GB:2\n",
      "eval> creation, max seconds:100, max GB:2\n",
      "eval> creation, max seconds:100, max GB:2\n",
      "eval> creation, max seconds:100, max GB:2\n",
      "eval> creation, max seconds:100, max GB:2\n",
      "eval> creation, max seconds:100, max GB:2\n",
      "eval> creation, max seconds:100, max GB:2\n",
      "eval> creation, max seconds:100, max GB:2\n",
      "eval> creation, max seconds:100, max GB:2\n",
      "eval> creation, max seconds:100, max GB:2\n",
      "eval> creation, max seconds:100, max GB:2\n",
      "eval> creation, max seconds:100, max GB:2\n",
      "eval> creation, max seconds:100, max GB:2\n",
      "eval> creation, max seconds:100, max GB:2\n",
      "eval> creation, max seconds:100, max GB:2\n",
      "eval> creation, max seconds:100, max GB:2\n",
      "eval> creation, max seconds:100, max GB:2\n",
      "eval> creation, max seconds:100, max GB:2\n",
      "eval> creation, max seconds:100, max GB:2\n",
      "eval> creation, max seconds:100, max GB:2\n",
      "eval> creation, max seconds:100, max GB:2\n",
      "eval> creation, max seconds:100, max GB:2\n",
      "eval> creation, max seconds:100, max GB:2\n",
      "eval> creation, max seconds:100, max GB:2\n",
      "eval> creation, max seconds:100, max GB:2\n",
      "eval> creation, max seconds:100, max GB:2\n",
      "eval> creation, max seconds:100, max GB:2\n",
      "eval> creation, max seconds:100, max GB:2\n",
      "eval> creation, max seconds:100, max GB:2\n",
      "eval> creation, max seconds:100, max GB:2\n",
      "eval> creation, max seconds:100, max GB:2\n",
      "eval> creation, max seconds:100, max GB:2\n",
      "eval> creation, max seconds:100, max GB:2\n",
      "eval> creation, max seconds:100, max GB:2\n",
      "eval> creation, max seconds:100, max GB:2\n",
      "eval> creation, max seconds:100, max GB:2\n",
      "eval> creation, max seconds:100, max GB:2\n",
      "eval> creation, max seconds:100, max GB:2\n",
      "eval> creation, max seconds:100, max GB:2\n",
      "eval> creation, max seconds:100, max GB:2\n",
      "eval> creation, max seconds:100, max GB:2\n"
     ]
    }
   ],
   "source": [
    "out C2-S6-S53 30000 : nilS53 : Cand?"
   ]
  },
  {
   "cell_type": "code",
   "execution_count": 4,
   "id": "571893b0-72c3-4375-be55-9e8f88f1b153",
   "metadata": {},
   "outputs": [
    {
     "name": "stdout",
     "output_type": "stream",
     "text": [
      "8"
     ]
    }
   ],
   "source": [
    "eval 1000 : count : ap {nif ((right:B)=0):B} : in : C2-S6-S53"
   ]
  },
  {
   "cell_type": "code",
   "execution_count": 3,
   "id": "6281fd03-0cc0-4148-a69b-7260e8097193",
   "metadata": {},
   "outputs": [
    {
     "name": "stdout",
     "output_type": "stream",
     "text": []
    }
   ],
   "source": [
    "eval 1000 : Let C2-S6-S53-cand : ap {if ((right:B)=0):B} : in : C2-S6-S53"
   ]
  },
  {
   "cell_type": "code",
   "execution_count": 5,
   "id": "05f6e9dc-6aa9-4159-8e1a-24f222b89ce5",
   "metadata": {},
   "outputs": [
    {
     "name": "stdout",
     "output_type": "stream",
     "text": [
      "141"
     ]
    }
   ],
   "source": [
    "count : C2-S6-S53-cand?"
   ]
  },
  {
   "cell_type": "code",
   "execution_count": 9,
   "id": "e3c2b16b-2c87-4c91-851f-9cf432dfe336",
   "metadata": {},
   "outputs": [
    {
     "name": "stdout",
     "output_type": "stream",
     "text": []
    }
   ],
   "source": [
    "import : dir co : up : up : ."
   ]
  },
  {
   "cell_type": "code",
   "execution_count": 8,
   "id": "acca9b09-5a61-4874-8dbd-e304e68fd3c0",
   "metadata": {},
   "outputs": [
    {
     "name": "stdout",
     "output_type": "stream",
     "text": [
      "(defaultTime:1000)"
     ]
    }
   ],
   "source": [
    "defaultTime:1000"
   ]
  },
  {
   "cell_type": "code",
   "execution_count": 12,
   "id": "2eec8fe5-53d3-452d-bcb6-f3f4e93846f5",
   "metadata": {},
   "outputs": [
    {
     "name": "stdout",
     "output_type": "stream",
     "text": [
      "141"
     ]
    }
   ],
   "source": [
    "count : C2-S6-S53-cand?"
   ]
  },
  {
   "cell_type": "code",
   "execution_count": 13,
   "id": "198c3e0e-b4c1-4e6d-b904-8a0c3fd676dc",
   "metadata": {},
   "outputs": [
    {
     "name": "stdout",
     "output_type": "stream",
     "text": []
    }
   ],
   "source": [
    "Def tab : ap post <\\n>"
   ]
  },
  {
   "cell_type": "code",
   "execution_count": 18,
   "id": "17ffec76-cdfe-4d6a-aa01-ce58e89f4492",
   "metadata": {},
   "outputs": [
    {
     "name": "stdout",
     "output_type": "stream",
     "text": [
      "(bin has {domain : B}:0) \n",
      " (bin null {B get}:0) \n",
      " (bin {nif : B} b:0) \n",
      " (bin put {const : B}:0) \n",
      " (bin null {B pass}:0) \n",
      " (bin if {prod : B}:0) \n",
      " (bin has {B}:0) \n",
      " (bin is {b : B}:0) \n",
      " (bin get {B : A}:0) \n",
      " (bin {null : B} a:0) \n"
     ]
    }
   ],
   "source": [
    "tab : first 10 : C2-S6-S53-cand?"
   ]
  },
  {
   "cell_type": "code",
   "execution_count": 20,
   "id": "3501caf9-a5d6-4ac4-8626-14234d53d520",
   "metadata": {},
   "outputs": [
    {
     "name": "stdout",
     "output_type": "stream",
     "text": []
    }
   ],
   "source": [
    "Let Candidates : ap {put : arg : B} : C2-S6-S53-cand?"
   ]
  },
  {
   "cell_type": "code",
   "execution_count": 21,
   "id": "4b97ecb7-d4d7-4575-9f6b-9be96b635a1a",
   "metadata": {},
   "outputs": [
    {
     "name": "stdout",
     "output_type": "stream",
     "text": [
      "141"
     ]
    }
   ],
   "source": [
    "count : Candidates?"
   ]
  },
  {
   "cell_type": "markdown",
   "id": "408857f0-16b7-4ada-b7b1-fd019c98d9c2",
   "metadata": {},
   "source": [
    "The 141 candidates are nilpotent with respect to S6? S5? S3? \n",
    "\n",
    "Let's find those which are also nilpotent_right.  If data is both nilpotent_left and nilpotent_right, it is a candidate ring.  I already know that these are multiplies of some fixed constant, but I'm going through the motions and an exercise. "
   ]
  },
  {
   "cell_type": "code",
   "execution_count": 25,
   "id": "8348cc1f-2395-45a9-bbd8-890532269e0e",
   "metadata": {},
   "outputs": [
    {
     "name": "stdout",
     "output_type": "stream",
     "text": [
      "21"
     ]
    }
   ],
   "source": [
    "property nilpotent {first:B} : S5?"
   ]
  },
  {
   "cell_type": "code",
   "execution_count": 26,
   "id": "dff1e979-0984-4782-b7be-080e080306a6",
   "metadata": {},
   "outputs": [
    {
     "name": "stdout",
     "output_type": "stream",
     "text": []
    }
   ],
   "source": [
    "Def nil_right_S53 : ap {(bin (get:B) : property nilpotent_right (get:B) : S5? S3?)}"
   ]
  },
  {
   "cell_type": "code",
   "execution_count": 32,
   "id": "2f74f0f0-adb1-4efb-a6b2-0c070720c639",
   "metadata": {},
   "outputs": [
    {
     "name": "stdout",
     "output_type": "stream",
     "text": [
      "0"
     ]
    }
   ],
   "source": [
    "property nilpotent_right get {B : A} : S6? S3?"
   ]
  },
  {
   "cell_type": "code",
   "execution_count": 33,
   "id": "c1c1902d-0f26-4455-beeb-8fd2d8066bd1",
   "metadata": {},
   "outputs": [
    {
     "name": "stdout",
     "output_type": "stream",
     "text": [
      "(:a) (:b) (:a b) ◎ (:1) (:2) (:bin) (:(bin a:x)) (:(bin b:y))"
     ]
    }
   ],
   "source": [
    "S6?"
   ]
  },
  {
   "cell_type": "code",
   "execution_count": 37,
   "id": "0eb17cc4-d1a2-4f75-a78c-a9d945330abd",
   "metadata": {},
   "outputs": [
    {
     "name": "stdout",
     "output_type": "stream",
     "text": [
      "8"
     ]
    }
   ],
   "source": [
    "property nilpotent_right {A A} : S6?"
   ]
  },
  {
   "cell_type": "code",
   "execution_count": null,
   "id": "a3005e5f-ffed-41bc-841a-f8295c586024",
   "metadata": {},
   "outputs": [],
   "source": []
  }
 ],
 "metadata": {
  "kernelspec": {
   "display_name": "coda",
   "language": "",
   "name": "coda"
  },
  "language_info": {
   "file_extension": ".co",
   "mimetype": "text/plain",
   "name": "Any text"
  }
 },
 "nbformat": 4,
 "nbformat_minor": 5
}
