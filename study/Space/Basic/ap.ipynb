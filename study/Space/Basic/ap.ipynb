{
 "cells": [
  {
   "cell_type": "markdown",
   "id": "be45fcff-52f1-47aa-a18a-99e95a2f6b5f",
   "metadata": {},
   "source": [
    "| Space | Elements | Operation | Space | Simple | Idempotent | Distributive | Distributive 2 | Commutative | Involution | Nilpotent | Semilattice | \n",
    "|-------|----------|-----------|-----:|-------:|-----------:|-------------:|--------:|------------:|-----------:|----------:|----------:|\n",
    "| ap count\\*right | count of right side of each coda | Apply count\\*right to each input atom | x | x | x | x | x | x | x | x | x |\n"
   ]
  },
  {
   "cell_type": "code",
   "execution_count": 7,
   "id": "b8654e59-e56f-4093-afab-7468fd272346",
   "metadata": {},
   "outputs": [
    {
     "name": "stdout",
     "output_type": "stream",
     "text": [
      "(defaultTime:100)"
     ]
    }
   ],
   "source": [
    "defaultTime:100"
   ]
  },
  {
   "cell_type": "code",
   "execution_count": 8,
   "id": "b896d017-55a9-4dd9-a6ed-2b2716416623",
   "metadata": {},
   "outputs": [
    {
     "name": "stdout",
     "output_type": "stream",
     "text": []
    }
   ],
   "source": [
    "import : dir co : up : up : ."
   ]
  },
  {
   "cell_type": "code",
   "execution_count": 2,
   "id": "f7630e27-1256-4853-8683-6cf2a3e9b673",
   "metadata": {},
   "outputs": [
    {
     "name": "stdout",
     "output_type": "stream",
     "text": []
    }
   ],
   "source": [
    "Def OP : {ap (first*right) : B} "
   ]
  },
  {
   "cell_type": "code",
   "execution_count": 9,
   "id": "37f0eac4-46cb-458e-9b36-4ada5be798a3",
   "metadata": {},
   "outputs": [
    {
     "name": "stdout",
     "output_type": "stream",
     "text": []
    }
   ],
   "source": [
    "theorem (distributive2:OP): (:) (:(:))"
   ]
  },
  {
   "cell_type": "code",
   "execution_count": 10,
   "id": "9e4ab43c-4818-4947-95b3-40415caa2b7d",
   "metadata": {},
   "outputs": [
    {
     "name": "stdout",
     "output_type": "stream",
     "text": []
    }
   ],
   "source": [
    "OP : (:) (:)"
   ]
  },
  {
   "cell_type": "code",
   "execution_count": 11,
   "id": "317043a7-a1c1-428f-ac85-967e35fa6d78",
   "metadata": {},
   "outputs": [
    {
     "name": "stdout",
     "output_type": "stream",
     "text": [
      "◎ (:◎) (:◎ ◎) (:◎ ◎ ◎) (:◎ ◎ ◎ ◎)"
     ]
    }
   ],
   "source": [
    "S1?"
   ]
  },
  {
   "cell_type": "code",
   "execution_count": 12,
   "id": "ea36a566-6eb7-4445-a685-5ab7dac5a499",
   "metadata": {},
   "outputs": [
    {
     "name": "stdout",
     "output_type": "stream",
     "text": []
    }
   ],
   "source": [
    "theorem (idempotent:OP) : S1?"
   ]
  },
  {
   "cell_type": "code",
   "execution_count": 21,
   "id": "35d187b9-32e8-49db-a626-fdf07e87be84",
   "metadata": {},
   "outputs": [
    {
     "name": "stdout",
     "output_type": "stream",
     "text": [
      "0"
     ]
    }
   ],
   "source": [
    "{count : get with : multi : cases (idempotent:A) : B} OP : S1?"
   ]
  },
  {
   "cell_type": "code",
   "execution_count": 22,
   "id": "6b3c6db4-b517-439c-9c6a-d07920a11319",
   "metadata": {},
   "outputs": [
    {
     "name": "stdout",
     "output_type": "stream",
     "text": []
    }
   ],
   "source": [
    "Def Idempotent : {count : get with : multi : cases (idempotent:A) : B} "
   ]
  },
  {
   "cell_type": "code",
   "execution_count": 38,
   "id": "558abb1f-99fe-4a94-995b-6887581ae6d3",
   "metadata": {},
   "outputs": [
    {
     "name": "stdout",
     "output_type": "stream",
     "text": [
      "11"
     ]
    }
   ],
   "source": [
    "Idempotent {rev:B} : S5?"
   ]
  },
  {
   "cell_type": "code",
   "execution_count": 39,
   "id": "ac69c321-b882-4bfd-9691-e2e83ab8c581",
   "metadata": {},
   "outputs": [
    {
     "name": "stdout",
     "output_type": "stream",
     "text": [
      "11"
     ]
    }
   ],
   "source": [
    "{count : get with : multi : cases ((first:A):(tail:A)) : B} idempotent {rev:B} : S5?"
   ]
  },
  {
   "cell_type": "code",
   "execution_count": 40,
   "id": "f8df9127-7b87-4cc5-9a9a-e62b2a7299dd",
   "metadata": {},
   "outputs": [
    {
     "name": "stdout",
     "output_type": "stream",
     "text": []
    }
   ],
   "source": [
    "Def property : {count : get with : multi : cases ((first:A):(tail:A)) : B} "
   ]
  },
  {
   "cell_type": "code",
   "execution_count": 42,
   "id": "11d15e68-ffa4-4b46-a990-77766469ebdd",
   "metadata": {},
   "outputs": [
    {
     "name": "stdout",
     "output_type": "stream",
     "text": [
      "0"
     ]
    }
   ],
   "source": [
    "property idempotent {first:B} : S5?"
   ]
  },
  {
   "cell_type": "code",
   "execution_count": 25,
   "id": "9e87121a-fb08-458b-a6da-df3c73b3e0f1",
   "metadata": {},
   "outputs": [
    {
     "name": "stdout",
     "output_type": "stream",
     "text": []
    }
   ],
   "source": [
    "Def Property : {count : get with : multi 1000 : cases ((first:A):(tail:A)) : B} "
   ]
  },
  {
   "cell_type": "code",
   "execution_count": 35,
   "id": "b7cd7e5d-6160-4abf-81dd-43650015b6e8",
   "metadata": {},
   "outputs": [
    {
     "name": "stdout",
     "output_type": "stream",
     "text": [
      "◎ (:0) (:1) (:2) (:0 0) (:0 1) (:0 2) (:1 0) (:1 1) (:1 2) (:2 0) (:2 1) (:2 2) (:0 0 0) (:0 0 1) (:0 1 0) (:0 1 1) (:1 0 0) (:1 0 1) (:1 1 0) (:1 1 1) (:1 2 a b)"
     ]
    }
   ],
   "source": [
    "S5?"
   ]
  },
  {
   "cell_type": "code",
   "execution_count": 31,
   "id": "e3daad37-9190-4633-8c74-5fc2455199d6",
   "metadata": {},
   "outputs": [
    {
     "name": "stdout",
     "output_type": "stream",
     "text": [
      "2 3"
     ]
    }
   ],
   "source": [
    "tail:1 2 3 "
   ]
  },
  {
   "cell_type": "code",
   "execution_count": 28,
   "id": "8e815af3-513a-4007-80fe-2f4acfc9b2ed",
   "metadata": {},
   "outputs": [
    {
     "name": "stdout",
     "output_type": "stream",
     "text": [
      "(:◎ ◎) (:◎ a) (:◎ b) (:◎ 0) (:◎ 1) (:◎ (bin:a)) (:◎ (bin 1 2:a b)) (:◎ (bin a:(bin b:1 2))) (:a ◎) (:a a) (:a b) (:a 0) (:a 1) (:a (bin:a)) (:a (bin 1 2:a b)) (:a (bin a:(bin b:1 2))) (:b ◎) (:b a) (:b b) (:b 0) (:b 1) (:b (bin:a)) (:b (bin 1 2:a b)) (:b (bin a:(bin b:1 2))) (:0 ◎) (:0 a) (:0 b) (:0 0) (:0 1) (:0 (bin:a)) (:0 (bin 1 2:a b)) (:0 (bin a:(bin b:1 2))) (:1 ◎) (:1 a) (:1 b) (:1 0) (:1 1) (:1 (bin:a)) (:1 (bin 1 2:a b)) (:1 (bin a:(bin b:1 2))) (:(bin:a) ◎) (:(bin:a) a) (:(bin:a) b) (:(bin:a) 0) (:(bin:a) 1) (:(bin:a) (bin:a)) (:(bin:a) (bin 1 2:a b)) (:(bin:a) (bin a:(bin b:1 2))) (:(bin 1 2:a b) ◎) (:(bin 1 2:a b) a) (:(bin 1 2:a b) b) (:(bin 1 2:a b) 0) (:(bin 1 2:a b) 1) (:(bin 1 2:a b) (bin:a)) (:(bin 1 2:a b) (bin 1 2:a b)) (:(bin 1 2:a b) (bin a:(bin b:1 2))) (:(bin a:(bin b:1 2)) ◎) (:(bin a:(bin b:1 2)) a) (:(bin a:(bin b:1 2)) b) (:(bin a:(bin b:1 2)) 0) (:(bin a:(bin b:1 2)) 1) (:(bin a:(bin b:1 2)) (bin:a)) (:(bin a:(bin b:1 2)) (bin 1 2:a b)) (:(bin a:(bin b:1 2)) (bin a:(bin b:1 2)))"
     ]
    }
   ],
   "source": [
    "S2?"
   ]
  },
  {
   "cell_type": "code",
   "execution_count": 13,
   "id": "c68abdf5-f816-4004-960f-1ab258137933",
   "metadata": {},
   "outputs": [
    {
     "name": "stdout",
     "output_type": "stream",
     "text": [
      "0\n",
      "0\n",
      "0\n",
      "0\n",
      "0\n",
      "4\n",
      "0\n",
      "0"
     ]
    }
   ],
   "source": [
    "count : theorem (simple:        OP) : S1?\n",
    "count : theorem (idempotent:    OP) : S1?\n",
    "count : theorem (distributive:  OP) : S1?\n",
    "count : theorem (distributive2: OP) : S1?\n",
    "count : theorem (commutative:   OP) : S1? \n",
    "count : theorem (involution:    OP) : S1? \n",
    "count : theorem (nilpotent:     OP) : S1? \n",
    "count : theorem (semilattice:   OP) : S1?"
   ]
  },
  {
   "cell_type": "code",
   "execution_count": null,
   "id": "bdf86bd6-dc31-42e2-a6fc-2fbf327561b2",
   "metadata": {
    "tags": []
   },
   "outputs": [],
   "source": [
    "count : theorem (simple:        OP) : S2?\n",
    "count : theorem (idempotent:    OP) : S2?\n",
    "count : theorem (distributive:  OP) : S2?\n",
    "count : theorem (distributive2: OP) : S2?\n",
    "count : theorem (commutative:   OP) : S2? \n",
    "count : theorem (involution:    OP) : S2? \n",
    "count : theorem (nilpotent:     OP) : S2? \n",
    "count : theorem (semilattice:   OP) : S2?"
   ]
  },
  {
   "cell_type": "code",
   "execution_count": 14,
   "id": "8d4dc59a-9542-4d03-b676-460465a599cc",
   "metadata": {},
   "outputs": [
    {
     "name": "stdout",
     "output_type": "stream",
     "text": [
      "\u001b[;1mcode:\u001b[0m\n",
      "    \u001b[34;7mtheorem\u001b[0m\n",
      "\u001b[;1mmodule:\u001b[0m\n",
      "    Search\n",
      "\u001b[;1msummary:\u001b[0m\n",
      "    demo: permutation 2 : a b\n",
      "\u001b[;1mdescription:\u001b[0m\n",
      "\u001b[;1mpath:\u001b[0m\n",
      "    /Users/youssef/coda/co/Search.co\n",
      "\u001b[;1msource code:\u001b[0m\n",
      "    def cases : {ap {with (right:B):bool:A} A : assign A : B}\n",
      "    def theorem : {ap {if (not:right:B):B} : do : cases A : B}\n",
      "\u001b[;1mdemos:\u001b[0m\n",
      "    1. \u001b[35;4mpermutation 2 : a b\u001b[0m\n",
      "    2. \u001b[35;4mpermutation 3 : a b\u001b[0m\n",
      "    3. \u001b[35;4mpermutation 3 : a\u001b[0m\n",
      "    4. \u001b[35;4massign (x?=y?) : (:a) (:a)\u001b[0m\n",
      "    5. \u001b[35;4mcases (x?=y?) : (:a) (:b)\u001b[0m\n",
      "    6. \u001b[35;4meval : cases (x?=y?) : (:a) (:b)\u001b[0m\n",
      "    7. \u001b[35;4mcases (x?=y?) : permutation 2 : a b\u001b[0m\n",
      "    8. \u001b[35;4meval : cases (x?=y?) : permutation 2 : a b\u001b[0m\n",
      "    9. \u001b[35;4mget with : eval : cases (x?=y?) : permutation 2 : a b\u001b[0m\n",
      "    10. \u001b[35;4mcases (x?=(rev:x?)) : (:a a) (:b b) (:a b)\u001b[0m\n",
      "    11. \u001b[35;4mtheorem (x?=(rev:x?)) : (:a a) (:b b) (:a b)\u001b[0m\n",
      "    12. \u001b[35;4mtheorem (x?=(rev:x?)) : (:a a) (:b b) (:x x x)\u001b[0m\n"
     ]
    }
   ],
   "source": [
    "help : theorem"
   ]
  },
  {
   "cell_type": "code",
   "execution_count": null,
   "id": "197a6c1d-f858-4aac-824d-96a16be5f12a",
   "metadata": {},
   "outputs": [],
   "source": []
  }
 ],
 "metadata": {
  "kernelspec": {
   "display_name": "coda",
   "language": "",
   "name": "coda"
  },
  "language_info": {
   "file_extension": ".co",
   "mimetype": "text/plain",
   "name": "Any text"
  }
 },
 "nbformat": 4,
 "nbformat_minor": 5
}
