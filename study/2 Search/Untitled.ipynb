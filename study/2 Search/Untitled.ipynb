{
 "cells": [
  {
   "cell_type": "code",
   "execution_count": 1,
   "id": "f4378828-ed6d-4c71-9165-6f2a92b0b295",
   "metadata": {},
   "outputs": [
    {
     "name": "stdout",
     "output_type": "stream",
     "text": [
      "g f e d c b a"
     ]
    }
   ],
   "source": [
    "rev : a b c d e f g"
   ]
  },
  {
   "cell_type": "code",
   "execution_count": 8,
   "id": "627ceef8-f3ff-40e2-9bd7-f314e230a08e",
   "metadata": {},
   "outputs": [
    {
     "name": "stdout",
     "output_type": "stream",
     "text": [
      "124750 124750 124750"
     ]
    }
   ],
   "source": [
    "multi 1000 {int_sum:first 500:get:B} : (:nat:0) (:nat:0) (:nat:0)"
   ]
  },
  {
   "cell_type": "code",
   "execution_count": null,
   "id": "312477ec-8ad4-4354-bdf3-e8871a1aa6e7",
   "metadata": {},
   "outputs": [],
   "source": []
  }
 ],
 "metadata": {
  "kernelspec": {
   "display_name": "coda",
   "language": "",
   "name": "coda"
  },
  "language_info": {
   "file_extension": ".co",
   "mimetype": "text/plain",
   "name": "Any text"
  }
 },
 "nbformat": 4,
 "nbformat_minor": 5
}
