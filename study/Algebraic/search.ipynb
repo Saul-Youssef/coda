{
 "cells": [
  {
   "cell_type": "markdown",
   "id": "abcafe2b-c633-447c-809c-39760287f564",
   "metadata": {},
   "source": [
    "### Search for algebraic data \n",
    "\n"
   ]
  },
  {
   "cell_type": "code",
   "execution_count": 1,
   "id": "c326944c-6c79-436d-b616-70c84c30d91d",
   "metadata": {},
   "outputs": [
    {
     "name": "stdout",
     "output_type": "stream",
     "text": [
      "(defaultTime:100)"
     ]
    }
   ],
   "source": [
    "defaultTime:100"
   ]
  },
  {
   "cell_type": "code",
   "execution_count": 9,
   "id": "f0fb009e-3052-427a-b166-4d8b8c60704d",
   "metadata": {},
   "outputs": [
    {
     "name": "stdout",
     "output_type": "stream",
     "text": [
      " ai \n",
      " aj \n",
      " ap \n",
      " aq \n",
      " ar \n",
      " arg \n",
      " atoms \n",
      " back \n",
      " backstrip \n",
      " bin \n",
      " bool \n",
      " common \n",
      " const \n",
      " count \n",
      " domain \n",
      " dup \n",
      " ends \n",
      " equal \n",
      " equiv \n",
      " front \n",
      " frontstrip \n",
      " get \n",
      " grp \n",
      " has \n",
      " hasnt \n",
      " if \n",
      " is \n",
      " isnt \n",
      " ker \n",
      " left \n",
      " less \n",
      " maxwidth \n",
      " minwidth \n",
      " more \n",
      " nif \n",
      " not \n",
      " null \n",
      " once \n",
      " pass \n",
      " plus \n",
      " post \n",
      " pre \n",
      " prod \n",
      " put \n",
      " rev \n",
      " right \n",
      " sameLeft \n",
      " sameRight \n",
      " star \n",
      " starts \n",
      " sum \n",
      " while \n",
      " width \n"
     ]
    }
   ],
   "source": [
    "tab : Organic?"
   ]
  },
  {
   "cell_type": "code",
   "execution_count": 3,
   "id": "49b9070c-a559-46c2-b5d3-59eb5a576c64",
   "metadata": {},
   "outputs": [
    {
     "name": "stdout",
     "output_type": "stream",
     "text": []
    }
   ],
   "source": [
    "Let Sample : aq permutation 0 1 2 : | | (:| |) (bin a:b)"
   ]
  },
  {
   "cell_type": "code",
   "execution_count": 4,
   "id": "0173ccde-7c38-42cd-acf8-3e6fe93bbe03",
   "metadata": {},
   "outputs": [
    {
     "name": "stdout",
     "output_type": "stream",
     "text": [
      "◎ (:|) (:|) (:(:| |)) (:(bin a:b)) (:| |) (:| |) (:| (:| |)) (:| (bin a:b)) (:| |) (:| |) (:| (:| |)) (:| (bin a:b)) (:(:| |) |) (:(:| |) |) (:(:| |) (:| |)) (:(:| |) (bin a:b)) (:(bin a:b) |) (:(bin a:b) |) (:(bin a:b) (:| |)) (:(bin a:b) (bin a:b))\n",
      "21"
     ]
    }
   ],
   "source": [
    "Sample?\n",
    "count : Sample?"
   ]
  },
  {
   "cell_type": "code",
   "execution_count": null,
   "id": "20f3aa25-3e25-43e1-98c5-b64867d07f5a",
   "metadata": {},
   "outputs": [],
   "source": [
    "#Let Search1 : ap : Organic?"
   ]
  },
  {
   "cell_type": "code",
   "execution_count": null,
   "id": "72273195-d707-4905-88f1-5e055617a03a",
   "metadata": {},
   "outputs": [],
   "source": [
    "#Let Search2 : ar {:A (get:B)} Organic? : aq permutation 0 1 2 3 : | "
   ]
  },
  {
   "cell_type": "code",
   "execution_count": null,
   "id": "32728775-0c1f-4cde-930c-b9e5d2384e8d",
   "metadata": {},
   "outputs": [],
   "source": [
    "#Let Pairs : aq permutation 1 2 : Organic?"
   ]
  },
  {
   "cell_type": "code",
   "execution_count": null,
   "id": "1f2221b1-8d93-4af5-9ae0-dda3d9dc228f",
   "metadata": {},
   "outputs": [],
   "source": [
    "#Let Search3 : ar {:(get:A) (get:B)} Pairs? : (:) (:|) (:| |) (:| | |)"
   ]
  },
  {
   "cell_type": "code",
   "execution_count": null,
   "id": "b0f4d69c-075f-42a6-a544-be22d7cacf42",
   "metadata": {},
   "outputs": [],
   "source": [
    "#write search1 200 : Search1?\n",
    "#write search2 200 : Search2?\n",
    "#write search3 1000 : Search3?"
   ]
  },
  {
   "cell_type": "code",
   "execution_count": null,
   "id": "f45e173a-1414-409f-8419-2791e3b8b7fe",
   "metadata": {
    "tags": []
   },
   "outputs": [],
   "source": [
    "tab : read : search3 "
   ]
  },
  {
   "cell_type": "code",
   "execution_count": 5,
   "id": "b3ab8a6d-137a-46c3-8ec7-94a32918cff5",
   "metadata": {},
   "outputs": [
    {
     "name": "stdout",
     "output_type": "stream",
     "text": []
    }
   ],
   "source": [
    "#\n",
    "#   Search for algebraic data A from Search by testing if \n",
    "#   A:X = A:rev:X for each X from Sample.\n",
    "#\n",
    "Def test : {(A:B)=(A:rev:B)}\n",
    "Def TEST : ap {test A : get : B} "
   ]
  },
  {
   "cell_type": "code",
   "execution_count": 6,
   "id": "8eb8fca1-2f3a-4199-afc8-c7d272bdd59d",
   "metadata": {},
   "outputs": [
    {
     "name": "stdout",
     "output_type": "stream",
     "text": [
      "4\n",
      "0"
     ]
    }
   ],
   "source": [
    "count : test pass : a b \n",
    "count : test null : a b "
   ]
  },
  {
   "cell_type": "code",
   "execution_count": 7,
   "id": "874fc9f5-339a-4da5-8cde-7f53987e2013",
   "metadata": {},
   "outputs": [
    {
     "name": "stdout",
     "output_type": "stream",
     "text": [
      "◎ ◎ ◎ ◎"
     ]
    }
   ],
   "source": [
    "TEST pass : (:a b) (:a a)\n",
    "TEST null : (:a b) (:a a)"
   ]
  },
  {
   "cell_type": "code",
   "execution_count": 8,
   "id": "10840c25-5960-45de-8ac3-6a40f532611d",
   "metadata": {},
   "outputs": [
    {
     "name": "stdout",
     "output_type": "stream",
     "text": [
      "◎ ◎ ◎ ◎"
     ]
    }
   ],
   "source": [
    "TEST once : (:a b) (:a a)"
   ]
  },
  {
   "cell_type": "code",
   "execution_count": null,
   "id": "bfb1ec8e-df4e-4619-9434-581d92bb2a0a",
   "metadata": {},
   "outputs": [],
   "source": [
    "do : ap {with (get:B) : bool : TEST (get:B) : A} (:a b) (:a a) : (:pass) (:null) "
   ]
  },
  {
   "cell_type": "code",
   "execution_count": null,
   "id": "95a98319-30fb-423d-8ec3-249c86c74951",
   "metadata": {},
   "outputs": [],
   "source": [
    "Def search : ap {with (get:B) : bool : TEST (get:B) : A} "
   ]
  },
  {
   "cell_type": "code",
   "execution_count": null,
   "id": "30d8bb94-0721-4dbd-926c-cbe87e60b2d3",
   "metadata": {},
   "outputs": [],
   "source": [
    "do : search (:a b) (:a a) : (:pass) (:null)"
   ]
  },
  {
   "cell_type": "code",
   "execution_count": null,
   "id": "84b6d935-4297-4fec-b152-353f3df802a0",
   "metadata": {},
   "outputs": [],
   "source": [
    "write result1 100 : dom 100 : search Sample? : read : search1 "
   ]
  },
  {
   "cell_type": "code",
   "execution_count": null,
   "id": "daab956d-1c95-4704-9e5a-405088bf2bcc",
   "metadata": {},
   "outputs": [],
   "source": [
    "write result2 200 : dom 100 : search Sample? : read : search2 "
   ]
  },
  {
   "cell_type": "code",
   "execution_count": null,
   "id": "c59ad071-9ee9-448e-8841-07f285874a19",
   "metadata": {},
   "outputs": [],
   "source": [
    "defaultTime:300 "
   ]
  },
  {
   "cell_type": "code",
   "execution_count": null,
   "id": "b7059662-6f23-4b43-987c-22f333887029",
   "metadata": {},
   "outputs": [],
   "source": [
    "write result3 600 : dom 100 : search Sample? : read : search3 "
   ]
  },
  {
   "cell_type": "code",
   "execution_count": null,
   "id": "650bddb1-3e0b-4a18-bd01-4586888adb72",
   "metadata": {},
   "outputs": [],
   "source": [
    "tab : ap {if (right:B):B} : read : result1 "
   ]
  },
  {
   "cell_type": "code",
   "execution_count": null,
   "id": "80a9fa66-a4be-4da7-b988-c48cc7438a45",
   "metadata": {},
   "outputs": [],
   "source": []
  },
  {
   "cell_type": "code",
   "execution_count": null,
   "id": "0776c62f-df3c-48eb-a81d-f3a9a2da1284",
   "metadata": {},
   "outputs": [],
   "source": [
    "tab : read : result2 "
   ]
  },
  {
   "cell_type": "code",
   "execution_count": null,
   "id": "874510c9-3361-42e1-bf2b-73c5a86e26d1",
   "metadata": {},
   "outputs": [],
   "source": [
    "count : Organic?"
   ]
  },
  {
   "cell_type": "code",
   "execution_count": null,
   "id": "30e7bbe9-838f-4a97-a410-d56e95248d91",
   "metadata": {},
   "outputs": [],
   "source": [
    "help : minwidth"
   ]
  },
  {
   "cell_type": "code",
   "execution_count": null,
   "id": "d61b5d03-1033-4bb5-b8d6-808d0d4b74b6",
   "metadata": {},
   "outputs": [],
   "source": [
    "minwidth a b : x y z"
   ]
  },
  {
   "cell_type": "code",
   "execution_count": null,
   "id": "870daf7b-d873-477c-82c3-3bb3b0d14c2b",
   "metadata": {},
   "outputs": [],
   "source": [
    "maxwidth a b : x y z "
   ]
  },
  {
   "cell_type": "code",
   "execution_count": null,
   "id": "f4bb5f92-8bfb-4c93-901b-d3e91fb15268",
   "metadata": {},
   "outputs": [],
   "source": []
  }
 ],
 "metadata": {
  "kernelspec": {
   "display_name": "coda",
   "language": "",
   "name": "coda"
  },
  "language_info": {
   "file_extension": ".co",
   "mimetype": "text/plain",
   "name": "Any text"
  }
 },
 "nbformat": 4,
 "nbformat_minor": 5
}
