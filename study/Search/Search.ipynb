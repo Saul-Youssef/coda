{
 "cells": [
  {
   "cell_type": "markdown",
   "id": "b3e3e30e-fc92-4e1f-a2ae-70ae2c2b4f61",
   "metadata": {},
   "source": [
    "## Search for theorems"
   ]
  },
  {
   "cell_type": "code",
   "execution_count": 1,
   "id": "f5ff9adf-1fed-4d6b-99cf-d40f22fd4865",
   "metadata": {},
   "outputs": [],
   "source": [
    "from base import * \n",
    "from Set import Set,eval100\n",
    "from Compile import compile \n",
    "from Theorem import theorem \n",
    "import Sample,Evaluate\n",
    "from Log import LOG \n",
    "LOG.on('multi')\n",
    "\n",
    "DOMAIN = Sample.Domain(*Sample.codas)\n",
    "TINY = Set(*[data(c) for c in Sample.codas])\n",
    "S21 = Set(*DOMAIN.window(2,1))\n",
    "S31 = Set(*DOMAIN.window(3,1))\n",
    "PURE = Sample.pure(2,2)\n",
    "#S41 = Set.Set(*DOMAIN.window(4,1))\n",
    "#\n",
    "#     The evaluation depth is controlled by these \n",
    "#\n",
    "#e10   = Set.eval10\n",
    "e100  = eval100  \n",
    "#e1000 = Set.eval1000  \n",
    "def eval(A): return Evaluate.default(A) "
   ]
  },
  {
   "cell_type": "code",
   "execution_count": 2,
   "id": "4e5a2c6c-15ed-4537-b9a6-fb19bbace510",
   "metadata": {},
   "outputs": [
    {
     "name": "stdout",
     "output_type": "stream",
     "text": [
      "or ap2 *\n",
      "(?:W) 𝟬 (?:W)\n",
      "one with rev\n",
      "first nat nat1\n",
      "null not or\n",
      "ap2 tail ?\n",
      "has1 and one\n",
      "𝝞 (?:Z)\n",
      "last variables\n",
      "nor pass app\n"
     ]
    }
   ],
   "source": [
    "#\n",
    "#   Search for theorems from within S31 \n",
    "#\n",
    "for d in S31.sample(10): print(d)"
   ]
  },
  {
   "cell_type": "code",
   "execution_count": 3,
   "id": "4bb46c05-8117-48bb-9800-bb9c321bb0bb",
   "metadata": {},
   "outputs": [
    {
     "name": "stdout",
     "output_type": "stream",
     "text": [
      "\n",
      "◎\n",
      "◎ ◎\n"
     ]
    }
   ],
   "source": [
    "#\n",
    "#   Start with a base of a few atoms to filter \n",
    "#\n",
    "for a in Sample.Atoms(2): print(a)"
   ]
  },
  {
   "cell_type": "code",
   "execution_count": 4,
   "id": "f13f83ee-6bdb-4d7a-bba0-ce9e4508f4c1",
   "metadata": {},
   "outputs": [
    {
     "name": "stdout",
     "output_type": "stream",
     "text": [
      "log>multi: Number of processors 12\n",
      "log>multi: 1...\n",
      "log>multi: 2...\n",
      "log>multi: 3...\n",
      "log>multi: 4...\n",
      "log>multi: 5...\n",
      "log>multi: 6...\n",
      "log>multi: 7...\n",
      "log>multi: 8...\n",
      "log>multi: 9...\n",
      "log>multi: 10...\n",
      "log>multi: 11...\n",
      "log>multi: 12...\n",
      "log>multi: 13...\n"
     ]
    }
   ],
   "source": [
    "S = S21.theorem(Sample.Atoms(2)).multieval(e100)"
   ]
  },
  {
   "cell_type": "code",
   "execution_count": 5,
   "id": "d94469e5-00f0-4638-bc0b-66266d5af0e6",
   "metadata": {},
   "outputs": [
    {
     "data": {
      "text/plain": [
       "1"
      ]
     },
     "execution_count": 5,
     "metadata": {},
     "output_type": "execute_result"
    }
   ],
   "source": [
    "S.empty()"
   ]
  },
  {
   "cell_type": "code",
   "execution_count": 6,
   "id": "6c7b06c7-8204-47e9-9b2b-549cdcb6ad79",
   "metadata": {},
   "outputs": [],
   "source": [
    "from start import *"
   ]
  },
  {
   "cell_type": "code",
   "execution_count": 7,
   "id": "f1d0bc62-cbbb-4e1d-bce3-019933163284",
   "metadata": {},
   "outputs": [],
   "source": [
    "IDEM = compile('{(B:B:X) = (B:X)}')"
   ]
  },
  {
   "cell_type": "code",
   "execution_count": 8,
   "id": "348204ad-2671-4d56-a844-80890a7f45d1",
   "metadata": {},
   "outputs": [
    {
     "name": "stdout",
     "output_type": "stream",
     "text": [
      "{(B:B:X) = (B:X)}\n"
     ]
    }
   ],
   "source": [
    "print(IDEM)"
   ]
  },
  {
   "cell_type": "code",
   "execution_count": 9,
   "id": "86c964f5-3100-4a23-b81d-a9eea10f0c0e",
   "metadata": {},
   "outputs": [
    {
     "name": "stdout",
     "output_type": "stream",
     "text": [
      "\n",
      "◎\n",
      "◎ ◎\n",
      "◎ ◎ ◎\n",
      "◎ ◎ ◎ ◎\n"
     ]
    }
   ],
   "source": [
    "for a in Sample.Atoms(4): print(a)"
   ]
  },
  {
   "cell_type": "code",
   "execution_count": 10,
   "id": "f4a21766-d6fb-4b02-8621-37ee0390b4ad",
   "metadata": {},
   "outputs": [],
   "source": [
    "T = S21.property(IDEM,Sample.Atoms(4))"
   ]
  },
  {
   "cell_type": "code",
   "execution_count": 11,
   "id": "7cf86d5e-87fb-40a0-8ef1-f4ab5f3ff0c8",
   "metadata": {},
   "outputs": [
    {
     "name": "stdout",
     "output_type": "stream",
     "text": [
      "log>multi: Number of processors 12\n",
      "log>multi: 1...\n",
      "log>multi: 2...\n",
      "log>multi: 3...\n",
      "log>multi: 4...\n",
      "log>multi: 5...\n",
      "log>multi: 6...\n",
      "log>multi: 7...\n",
      "log>multi: 8...\n",
      "log>multi: 9...\n",
      "log>multi: 10...\n",
      "log>multi: 11...\n",
      "log>multi: 12...\n",
      "log>multi: 13...\n"
     ]
    }
   ],
   "source": [
    "T2 = T.multieval(e100)"
   ]
  },
  {
   "cell_type": "code",
   "execution_count": 12,
   "id": "4380cf82-a712-47b0-824f-7fcfa4a00d47",
   "metadata": {},
   "outputs": [
    {
     "data": {
      "text/plain": [
       "5551"
      ]
     },
     "execution_count": 12,
     "metadata": {},
     "output_type": "execute_result"
    }
   ],
   "source": [
    "T2"
   ]
  },
  {
   "cell_type": "code",
   "execution_count": 13,
   "id": "e1ca8390-0d1e-4a03-ac2e-c298d77b4092",
   "metadata": {},
   "outputs": [
    {
     "data": {
      "text/plain": [
       "2075"
      ]
     },
     "execution_count": 13,
     "metadata": {},
     "output_type": "execute_result"
    }
   ],
   "source": [
    "T2.empty()"
   ]
  },
  {
   "cell_type": "code",
   "execution_count": null,
   "id": "0df17af5-2e48-4bfa-accc-1804a9bb9977",
   "metadata": {},
   "outputs": [
    {
     "name": "stdout",
     "output_type": "stream",
     "text": [
      "log>multi: Number of processors 12\n",
      "log>multi: 1...\n",
      "log>multi: 2...\n",
      "log>multi: 3...\n",
      "log>multi: 4...\n",
      "log>multi: 5...\n",
      "log>multi: 6...\n",
      "log>multi: 7...\n",
      "log>multi: 8...\n",
      "log>multi: 9...\n",
      "log>multi: 10...\n",
      "log>multi: 11...\n"
     ]
    }
   ],
   "source": [
    "T3 = S21.idempotent(Sample.Atoms(4)).multieval(e100)"
   ]
  },
  {
   "cell_type": "code",
   "execution_count": null,
   "id": "b2df2711-d7c4-4754-a7d1-f4c408a8418d",
   "metadata": {},
   "outputs": [],
   "source": [
    "T3.empty()"
   ]
  },
  {
   "cell_type": "code",
   "execution_count": null,
   "id": "599e39ca-86cb-4df9-a379-26982e201e3e",
   "metadata": {},
   "outputs": [],
   "source": []
  }
 ],
 "metadata": {
  "kernelspec": {
   "display_name": "Python 3 (ipykernel)",
   "language": "python",
   "name": "python3"
  },
  "language_info": {
   "codemirror_mode": {
    "name": "ipython",
    "version": 3
   },
   "file_extension": ".py",
   "mimetype": "text/x-python",
   "name": "python",
   "nbconvert_exporter": "python",
   "pygments_lexer": "ipython3",
   "version": "3.10.7"
  }
 },
 "nbformat": 4,
 "nbformat_minor": 5
}
