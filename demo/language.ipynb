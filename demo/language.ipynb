{
 "cells": [
  {
   "cell_type": "code",
   "execution_count": 1,
   "id": "18c3a276-feb9-4205-9615-c8861cc22f56",
   "metadata": {},
   "outputs": [
    {
     "name": "stdout",
     "output_type": "stream",
     "text": [
      "a b c d e f g"
     ]
    }
   ],
   "source": [
    "#\n",
    "#   Coda uses spaces to denote concatenation and parenthesis to group operations.\n",
    "#   Comment lines must *start* with # to be ignored.\n",
    "#\n",
    "a b (c d) e (f g)"
   ]
  },
  {
   "cell_type": "code",
   "execution_count": 2,
   "id": "089327b3-7318-4b62-9214-0ca0f1b77595",
   "metadata": {},
   "outputs": [
    {
     "name": "stdout",
     "output_type": "stream",
     "text": [
      "3 2 1"
     ]
    }
   ],
   "source": [
    "#\n",
    "#   There are basically two operations: concatenation and colon. here, \n",
    "#   for instance, we reverse the order of 1 2 3 using rev.  This works by first \n",
    "#   creating the coda (rev : 1 2 3).  A definition applies to this coda, which \n",
    "#   results the \"input\" to rev in reverse order 3 2 1.\n",
    "#\n",
    "rev : 1 2 3 "
   ]
  },
  {
   "cell_type": "code",
   "execution_count": 3,
   "id": "621247e9-81d6-41f0-9833-b6acb8239d8a",
   "metadata": {},
   "outputs": [
    {
     "name": "stdout",
     "output_type": "stream",
     "text": [
      "a b"
     ]
    }
   ],
   "source": [
    "#\n",
    "#   Some \"commands\" like rev have arguments.  first, for example, gets \n",
    "#   the first items from a sequence. \n",
    "#\n",
    "first 2 : a b c d e "
   ]
  },
  {
   "cell_type": "code",
   "execution_count": 4,
   "id": "81bf72d5-31ad-4db3-9011-a72de943512a",
   "metadata": {},
   "outputs": [
    {
     "name": "stdout",
     "output_type": "stream",
     "text": [
      "e d"
     ]
    }
   ],
   "source": [
    "#\n",
    "#   Colons can be combined. THe default grouping is from the right.  This is first 2 : (rev : a b c d e).\n",
    "#   (first 2 : rev ) : a b c d e is completely different. \n",
    "#\n",
    "first 2 : rev : a b c d e "
   ]
  },
  {
   "cell_type": "code",
   "execution_count": 5,
   "id": "68edaf1f-9ace-4a1e-8302-98f414fe3db6",
   "metadata": {},
   "outputs": [
    {
     "name": "stdout",
     "output_type": "stream",
     "text": [
      "a b"
     ]
    }
   ],
   "source": [
    "#\n",
    "#   Text in curly braces is interpreted as Coda language expressions.  \"B\" in the language, is a special symbol \n",
    "#   which refers to the \"input\", in this case, the data a b c d e... \n",
    "#\n",
    "{first 2 : B} : a b c d e "
   ]
  },
  {
   "cell_type": "code",
   "execution_count": 6,
   "id": "2ba15323-7e16-448f-9395-a1edcc13b89a",
   "metadata": {},
   "outputs": [
    {
     "name": "stdout",
     "output_type": "stream",
     "text": [
      "1 2 x y 1 2 x y"
     ]
    }
   ],
   "source": [
    "#\n",
    "#   The general language coda is ({...} A : B)  where \"A\" in the language referes to A and \"B\" refers to B.\n",
    "#\n",
    "{A B A B} 1 2 : x y "
   ]
  },
  {
   "cell_type": "code",
   "execution_count": 7,
   "id": "767a86b0-09c2-4f1a-9b19-fb330e1fde82",
   "metadata": {},
   "outputs": [
    {
     "name": "stdout",
     "output_type": "stream",
     "text": [
      "a b"
     ]
    }
   ],
   "source": [
    "#\n",
    "#   So you can do...\n",
    "#\n",
    "{first A : B} 2 : a b c d e "
   ]
  },
  {
   "cell_type": "code",
   "execution_count": 8,
   "id": "3848d910-f83d-4643-8d83-c091295548b6",
   "metadata": {},
   "outputs": [
    {
     "name": "stdout",
     "output_type": "stream",
     "text": [
      "e d"
     ]
    }
   ],
   "source": [
    "#\n",
    "#   You can use \"def\" to make your own definitions.  This one defines a new command \"mydef\" which gets the first n \n",
    "#   elements from the reversed input. \n",
    "#\n",
    "def mydef : {first A : rev : B} \n",
    "mydef 2 : a b c d e"
   ]
  },
  {
   "cell_type": "code",
   "execution_count": 9,
   "id": "fd4d2b37-9e4e-4a97-9c2c-9b984cafb170",
   "metadata": {},
   "outputs": [
    {
     "name": "stdout",
     "output_type": "stream",
     "text": [
      "(rev:(foo:bar)) 3 2 1"
     ]
    }
   ],
   "source": [
    "#\n",
    "#   Notice how Coda handles \"undecided\" data like (foo:bar) where \n",
    "#   no current definition acts on (foo:...)...\n",
    "#\n",
    "rev : 1 2 3 (foo:bar)"
   ]
  },
  {
   "cell_type": "code",
   "execution_count": 10,
   "id": "0c90b76d-114d-4aca-83db-442e34fb0b60",
   "metadata": {},
   "outputs": [
    {
     "name": "stdout",
     "output_type": "stream",
     "text": [
      "2 1"
     ]
    }
   ],
   "source": [
    "#\n",
    "#   (foo:bar) is treated like a \"variable\", i.e. like something \n",
    "#   that may have a value in the future.  If (foo:bar) gets defined later, \n",
    "#   then (rev:(foo:bar)) 3 2 1 will evaluate to the correct answer while, at the same \n",
    "#   time, current computations will be correct, for instance... \n",
    "#\n",
    "last 2 : rev : 1 2 3 (foo:bar)"
   ]
  },
  {
   "cell_type": "code",
   "execution_count": 11,
   "id": "61971247-f99b-48d6-85cf-a1bbecaf9536",
   "metadata": {},
   "outputs": [
    {
     "name": "stdout",
     "output_type": "stream",
     "text": [
      "0 1 2 3 4 5 6 7 8 9 10 11 12 13 14 15 16 17 18 19 20 21 22 23 24 25 26 27 28 29 30 31 32 33 34 35 36 37 38 39 40 41 42 43 44 45 46 47 48 49 50 51 52 53 54 55 56 57 58 59 60 61 62 63 64 65 66 67 68 69 70 71 72 73 74 75 76 77 78 79 80 81 82 83 84 85 86 87 88 89 90 91 92 93 94 95 96 97 (nat:98)"
     ]
    }
   ],
   "source": [
    "#\n",
    "#    Sequences in Coda are always finite sequences, but this isn't \n",
    "#    a real limitation.  The natural numbers, for instance are embodied by \n",
    "#    a definition (nat:n) -> n (nat:n+1).  This means that (nat:0) will get \n",
    "#    evaluated as necessary.  Although this is finite,  \n",
    "#\n",
    "(nat:0)"
   ]
  },
  {
   "cell_type": "code",
   "execution_count": 12,
   "id": "2deebc24-da8a-4e9b-9f91-f533f179d4f9",
   "metadata": {},
   "outputs": [
    {
     "name": "stdout",
     "output_type": "stream",
     "text": [
      "(rev:(nat:96)) (rev:95) 94 93 92 91 90 89 88 87 86 85 84 83 82 81 80 79 78 77 76 75 74 73 72 71 70 69 68 67 66 65 64 63 62 61 60 59 58 57 56 55 54 53 52 51 50 49 48 47 46 45 44 43 42 41 40 39 38 37 36 35 34 33 32 31 30 29 28 27 26 25 24 23 22 21 20 19 18 17 16 15 14 13 12 11 10 9 8 7 6 5 4 3 2 1 0"
     ]
    }
   ],
   "source": [
    "#\n",
    "#    What's the \"reverse of the natural numbers?\".  Let's see... \n",
    "#\n",
    "rev : nat : 0"
   ]
  },
  {
   "cell_type": "code",
   "execution_count": 13,
   "id": "430be65b-4fdc-4fb9-8592-787cc8175297",
   "metadata": {},
   "outputs": [
    {
     "name": "stdout",
     "output_type": "stream",
     "text": [
      "0"
     ]
    }
   ],
   "source": [
    "#\n",
    "#   Notice, that, as expected, the \"first element of the reverse of the \n",
    "#   natural numbers\" is not defined.  Yet, the last element is perfectly OK.\n",
    "#\n",
    "last : rev : nat : 0 "
   ]
  },
  {
   "cell_type": "code",
   "execution_count": 14,
   "id": "5dae37ba-11a4-4923-ab1a-ce06f3b17f9c",
   "metadata": {},
   "outputs": [
    {
     "name": "stdout",
     "output_type": "stream",
     "text": [
      "0 1 2 3 4 5 6 7 8 9 10 11 12 13 14 15 16 17 18 19 20 21 22 23 24 25 26 27 28 29 30 31 32 33 34 35 36 37 38 39 40 41 42 43 44 45 46 47 48 49 50 51 52 53 54 55 56 57 58 59 60 61 62 63 64 65 66 67 68 69 70 71 72 73 74 75 76 77 78 79 80 81 82 83 84 85 86 87 88 89 90 91 (rev:(rev:92)) (rev:(rev:(nat:93)))"
     ]
    }
   ],
   "source": [
    "#\n",
    "#...And, for example, you can reverse twice to get the original natural numbers back.\n",
    "#\n",
    "rev : rev : nat : 0 "
   ]
  },
  {
   "cell_type": "code",
   "execution_count": 15,
   "id": "cb108c71-4d7a-48cf-be8a-873863ca49cb",
   "metadata": {},
   "outputs": [
    {
     "name": "stdout",
     "output_type": "stream",
     "text": [
      "g f"
     ]
    }
   ],
   "source": [
    "#\n",
    "#   Colons group right first if not otherwise specified as in... \n",
    "#\n",
    "first 2 : rev : a b c d e f g"
   ]
  },
  {
   "cell_type": "code",
   "execution_count": 16,
   "id": "42cea225-1a2e-4310-a85f-62eaa91f7007",
   "metadata": {},
   "outputs": [
    {
     "name": "stdout",
     "output_type": "stream",
     "text": [
      "a b"
     ]
    }
   ],
   "source": [
    "#\n",
    "#   Text in curly brackets is interepreted as Coda language expressions.\n",
    "#   The meaning of this is defined by a definition which includes any \n",
    "#   coda ({...}:...) in it's domain. \n",
    "#\n",
    "{first 2 : B} : a b c d e "
   ]
  },
  {
   "cell_type": "code",
   "execution_count": 17,
   "id": "335fb39c-2a7b-4d54-b8a0-2a6fdccc3754",
   "metadata": {},
   "outputs": [
    {
     "name": "stdout",
     "output_type": "stream",
     "text": [
      "a b"
     ]
    }
   ],
   "source": [
    "#\n",
    "#   The language has special symbols \"A\" and \"B\" to refer to data outside of the curly \n",
    "#   curly brackets.  You can think of \"B\" as \"input\" data and \"A\" as \"argument\" data.  \n",
    "#   for instance...\n",
    "#\n",
    "{first A : B} 2 : a b c d e "
   ]
  },
  {
   "cell_type": "code",
   "execution_count": 18,
   "id": "f88b8497-164c-4ad5-838c-1919de28b674",
   "metadata": {},
   "outputs": [
    {
     "name": "stdout",
     "output_type": "stream",
     "text": [
      "\u001b[;1mcode:\u001b[0m\n",
      "    \u001b[34;7mfirst\u001b[0m\n",
      "\u001b[;1mmodule:\u001b[0m\n",
      "    Sequence\n",
      "\u001b[;1msummary:\u001b[0m\n",
      "    Gets the A-specified leading items from input data.\n",
      "\u001b[;1mdescription:\u001b[0m\n",
      "    first   : B -> (first 1:B)\n",
      "    first 0 : B -> ()\n",
      "    first n : L R -> L (first n-1 : R) L is atom\n",
      "\u001b[;1mpath:\u001b[0m\n",
      "    /Users/youssef/coda/py/Sequence.py\n",
      "\u001b[;1mdemos:\u001b[0m\n",
      "    1. \u001b[35;4mfirst : a b c\u001b[0m\n",
      "    2. \u001b[35;4mfirst 1 : a b c\u001b[0m\n",
      "    3. \u001b[35;4mfirst 2 : a b c\u001b[0m\n",
      "    4. \u001b[35;4m{first 3:B} : {first 2:B} : 1 2 3 4 5\u001b[0m\n",
      "    5. \u001b[35;4mfirst 3 : first 2 : 1 2 3 4 5\u001b[0m\n"
     ]
    }
   ],
   "source": [
    "#\n",
    "#   defs: produces a list of current definitions in context and \n",
    "#   help : first, etc. gives help information and demos which \n",
    "#   you can execute by hand or via the \"demo\" command.\n",
    "#\n",
    "help : first"
   ]
  },
  {
   "cell_type": "code",
   "execution_count": 19,
   "id": "2f8a6b0d-98e2-4a3e-aec1-68d7f7de1fcf",
   "metadata": {},
   "outputs": [
    {
     "name": "stdout",
     "output_type": "stream",
     "text": [
      "1 2"
     ]
    }
   ],
   "source": [
    "demo 4 : first "
   ]
  },
  {
   "cell_type": "code",
   "execution_count": 20,
   "id": "3c8ac43d-df89-4c53-b232-8913f357f674",
   "metadata": {
    "tags": []
   },
   "outputs": [
    {
     "name": "stdout",
     "output_type": "stream",
     "text": [
      "\u001b[34;1madis..........\u001b[0mApply.....2..\u001b[35;4madis A : B applies each a in A to each b in B.\u001b[0m\n",
      "\u001b[34;1map............\u001b[0mApply.....3..\u001b[35;4mApply A to each b in B.\u001b[0m\n",
      "\u001b[34;1mapall.........\u001b[0mApply.....3..\u001b[35;4mapall applies each argument to the entire input.\u001b[0m\n",
      "\u001b[34;1mapif..........\u001b[0mApply.....3..\u001b[35;4mapif A : B gets the elements b of B with A:b true.\u001b[0m\n",
      "\u001b[34;1mapp...........\u001b[0mApply.....3..\u001b[35;4mSequential version of binary operator\u001b[0m\n",
      "\u001b[34;1mdis...........\u001b[0mApply.....2..\u001b[35;4mDistribute the first argument over the rest and apply each pair to B.\u001b[0m\n",
      "\u001b[34;1mbin...........\u001b[0mBasic.....0..\u001b[35;4mCommon basic operations\u001b[0m\n",
      "\u001b[34;1mget...........\u001b[0mBasic.....1..\u001b[35;4mselect  A : ... gets data of the form (A:<something>)\u001b[0m\n",
      "\u001b[34;1mhas...........\u001b[0mBasic.....1..\u001b[35;4mselect  A : ... gets data of the form (A:<something>)\u001b[0m\n",
      "\u001b[34;1mhasnt.........\u001b[0mBasic.....1..\u001b[35;4mselect  A : ... gets data of the form (A:<something>)\u001b[0m\n",
      "\u001b[34;1mif............\u001b[0mBasic.....2..\u001b[35;4mif A : B -> () if A is false\u001b[0m\n",
      "\u001b[34;1mis............\u001b[0mBasic.....1..\u001b[35;4mselect  A : ... gets data of the form (A:<something>)\u001b[0m\n",
      "\u001b[34;1misnt..........\u001b[0mBasic.....1..\u001b[35;4mselect  A : ... gets data of the form (A:<something>)\u001b[0m\n",
      "\u001b[34;1mnull..........\u001b[0mBasic.....1..\u001b[35;4mpass : B -> B and null : B -> ()\u001b[0m\n",
      "\u001b[34;1mpass..........\u001b[0mBasic.....1..\u001b[35;4mpass : B -> B and null : B -> ()\u001b[0m\n",
      "\u001b[34;1mput...........\u001b[0mBasic.....1..\u001b[35;4mput A : B creates A:B, it \"puts B into A\".\u001b[0m\n",
      "\u001b[34;1mendswith......\u001b[0mCode......2..\u001b[35;4mSelects codes that start/end with argument specified pre or post code\u001b[0m\n",
      "\u001b[34;1mpure..........\u001b[0mCode......2..\u001b[35;4mDisplay input in native \"pure\" form.\u001b[0m\n",
      "\u001b[34;1mstartswith....\u001b[0mCode......2..\u001b[35;4mSelects codes that start/end with argument specified pre or post code\u001b[0m\n",
      "\u001b[34;1mwrap..........\u001b[0mCode......2..\u001b[35;4mWrap code with a one character prefix and postfix.\u001b[0m\n",
      "\u001b[34;1mcoda..........\u001b[0mCompile...2..\u001b[35;4mcoda compiles input code using the language.\u001b[0m\n",
      "\u001b[34;1mconst.........\u001b[0mDefine....1..\u001b[35;4mNamed constant storage\u001b[0m\n",
      "\u001b[34;1mdef...........\u001b[0mDefine....1..\u001b[35;4mCreate a definition.\u001b[0m\n",
      "\u001b[34;1mlet...........\u001b[0mDefine....1..\u001b[35;4mAssign values to \"variables\"\u001b[0m\n",
      "\u001b[34;1mdefs..........\u001b[0mHelp......1..\u001b[35;4mdom = Code.pretty(domain)\u001b[0m\n",
      "\u001b[34;1mdemo..........\u001b[0mHelp......2..\u001b[35;4mreturn data(colon(data(b'{'+demcode.encode()+b'}'),data()))\u001b[0m\n",
      "\u001b[34;1mhelp..........\u001b[0mHelp......1..\u001b[35;4mH = Help(Code.coda2str(I[0]))\u001b[0m\n",
      "\u001b[34;1msource........\u001b[0mHelp......2..\u001b[35;4mI,R = B.split()\u001b[0m\n",
      "\u001b[34;1mdir...........\u001b[0mIO........2..\u001b[35;4mdir selects paths from it's input.  The argument\u001b[0m\n",
      "\u001b[34;1mreadpath......\u001b[0mIO........2..\u001b[35;4mBasic local read of all the bytes from a local files\u001b[0m\n",
      "\u001b[34;1mhome..........\u001b[0mImport....1..\u001b[35;4mThe home directory of the currently running software\u001b[0m\n",
      "\u001b[34;1mhomecontext...\u001b[0mImport....1..\u001b[35;4mreturn da(src)\u001b[0m\n",
      "\u001b[34;1mstart.........\u001b[0mImport....1..\u001b[35;4mThe startup directory of the currently running software\u001b[0m\n",
      "\u001b[34;1mstartcontext..\u001b[0mImport....1..\u001b[35;4mreturn da(src)\u001b[0m\n",
      "\u001b[34;1mlanguage......\u001b[0mLanguage..1..\u001b[35;4mThere are no syntax errors.  All byte strings are valid source code.\u001b[0m\n",
      "\u001b[34;1m#.............\u001b[0mLogic.....0..\u001b[35;4m(# A:B) is merely a container created when A is not equal to B.\u001b[0m\n",
      "\u001b[34;1m=.............\u001b[0mLogic.....3..\u001b[35;4mContext equality (=) and logical complement (^) in \"Zen logic\".\u001b[0m\n",
      "\u001b[34;1m^.............\u001b[0mLogic.....1..\u001b[35;4mContext equality (=) and logical complement (^) in \"Zen logic\".\u001b[0m\n",
      "\u001b[34;1mlogic.........\u001b[0mLogic.....1..\u001b[35;4m(# A:B) is merely a container created when A is not equal to B.\u001b[0m\n",
      "\u001b[34;1mnone..........\u001b[0mLogic.....1..\u001b[35;4msome/none define the coarsest data classification\u001b[0m\n",
      "\u001b[34;1msome..........\u001b[0mLogic.....1..\u001b[35;4msome/none define the coarsest data classification\u001b[0m\n",
      "\u001b[34;1m|.............\u001b[0mLogic.....0..\u001b[35;4m(# A:B) is merely a container created when A is not equal to B.\u001b[0m\n",
      "\u001b[34;1mcode_add......\u001b[0mNumber....2..\u001b[35;4mcode binary operations\u001b[0m\n",
      "\u001b[34;1mcode_max......\u001b[0mNumber....2..\u001b[35;4mcode binary operations\u001b[0m\n",
      "\u001b[34;1mcode_min......\u001b[0mNumber....2..\u001b[35;4mcode binary operations\u001b[0m\n",
      "\u001b[34;1mfloat_add.....\u001b[0mNumber....2..\u001b[35;4mFloat binary operations and involutions\u001b[0m\n",
      "\u001b[34;1mfloat_diff....\u001b[0mNumber....2..\u001b[35;4mFloat binary operations and involutions\u001b[0m\n",
      "\u001b[34;1mfloat_inv.....\u001b[0mNumber....2..\u001b[35;4mInvolutions\u001b[0m\n",
      "\u001b[34;1mfloat_max.....\u001b[0mNumber....2..\u001b[35;4mFloat binary operations and involutions\u001b[0m\n",
      "\u001b[34;1mfloat_min.....\u001b[0mNumber....2..\u001b[35;4mFloat binary operations and involutions\u001b[0m\n",
      "\u001b[34;1mfloat_mult....\u001b[0mNumber....2..\u001b[35;4mFloat binary operations and involutions\u001b[0m\n",
      "\u001b[34;1mint_add.......\u001b[0mNumber....2..\u001b[35;4mInteger binary operations\u001b[0m\n",
      "\u001b[34;1mint_diff......\u001b[0mNumber....2..\u001b[35;4mInteger binary operations\u001b[0m\n",
      "\u001b[34;1mint_inv.......\u001b[0mNumber....2..\u001b[35;4mInvolutions\u001b[0m\n",
      "\u001b[34;1mint_max.......\u001b[0mNumber....2..\u001b[35;4mInteger binary operations\u001b[0m\n",
      "\u001b[34;1mint_min.......\u001b[0mNumber....2..\u001b[35;4mInteger binary operations\u001b[0m\n",
      "\u001b[34;1mint_mult......\u001b[0mNumber....2..\u001b[35;4mInteger binary operations\u001b[0m\n",
      "\u001b[34;1mnat...........\u001b[0mNumber....1..\u001b[35;4mCode version of the natural numbers 0 1 2 3...\u001b[0m\n",
      "\u001b[34;1mone...........\u001b[0mNumber....1..\u001b[35;4mMakes a code 1 if the input is a single atom.  Used for counting.\u001b[0m\n",
      "\u001b[34;1mcount.........\u001b[0mSequence..1..\u001b[35;4mSelect inputs with a specified length\u001b[0m\n",
      "\u001b[34;1mfirst.........\u001b[0mSequence..4..\u001b[35;4mGets the A-specified leading items from input data.\u001b[0m\n",
      "\u001b[34;1miscount.......\u001b[0mSequence..1..\u001b[35;4mSelect inputs with a specified length\u001b[0m\n",
      "\u001b[34;1mlast..........\u001b[0mSequence..3..\u001b[35;4mGets the argument-specified last items from input\u001b[0m\n",
      "\u001b[34;1mnth...........\u001b[0mSequence..1..\u001b[35;4mSelect the n'th items from input.\u001b[0m\n",
      "\u001b[34;1mrep...........\u001b[0mSequence..2..\u001b[35;4mRepeats the arguments for each input.\u001b[0m\n",
      "\u001b[34;1mrev...........\u001b[0mSequence..3..\u001b[35;4mReverse the order of it's input sequence.\u001b[0m\n",
      "\u001b[34;1mtail..........\u001b[0mSequence..3..\u001b[35;4mGet the tail items of a sequence.\u001b[0m\n"
     ]
    }
   ],
   "source": [
    "#\n",
    "#   A few dozen definitions are built into the system and enter via python modules. \n",
    "#   the rest come from .co coda source code files.\n",
    "#\n",
    "defs:"
   ]
  },
  {
   "cell_type": "code",
   "execution_count": null,
   "id": "e1cf2cce-696b-4cb8-8d8e-b6015f64cada",
   "metadata": {},
   "outputs": [],
   "source": []
  }
 ],
 "metadata": {
  "kernelspec": {
   "display_name": "coda",
   "language": "",
   "name": "coda"
  },
  "language_info": {
   "file_extension": ".co",
   "mimetype": "text/plain",
   "name": "Any text"
  }
 },
 "nbformat": 4,
 "nbformat_minor": 5
}
