{
 "cells": [
  {
   "cell_type": "code",
   "execution_count": 1,
   "id": "50336dbf-da29-49bd-bee2-326d2c9b6aeb",
   "metadata": {},
   "outputs": [],
   "source": [
    "from endo import *"
   ]
  },
  {
   "cell_type": "code",
   "execution_count": 2,
   "id": "02d17075-2bca-469b-b121-309fee9fb739",
   "metadata": {},
   "outputs": [
    {
     "name": "stdout",
     "output_type": "stream",
     "text": [
      "0 1\n",
      "1 1\n",
      "2 4\n",
      "3 27\n",
      "4 256\n",
      "5 3125\n",
      "6 46656\n",
      "7 823543\n"
     ]
    }
   ],
   "source": [
    "for i in range(8): print(i,len(End(i)))"
   ]
  },
  {
   "cell_type": "code",
   "execution_count": 3,
   "id": "35b41eff-a923-4a97-a32c-b354681696e2",
   "metadata": {},
   "outputs": [],
   "source": [
    "E = End(3)"
   ]
  },
  {
   "cell_type": "code",
   "execution_count": 4,
   "id": "d942dcfe-b430-439d-a9d4-c46d1709cb10",
   "metadata": {},
   "outputs": [
    {
     "name": "stdout",
     "output_type": "stream",
     "text": [
      "000\n",
      "001\n",
      "002\n",
      "010\n",
      "011\n",
      "012\n",
      "020\n",
      "021\n",
      "022\n",
      "100\n",
      "101\n",
      "102\n",
      "110\n",
      "111\n",
      "112\n",
      "120\n",
      "121\n",
      "122\n",
      "200\n",
      "201\n",
      "202\n",
      "210\n",
      "211\n",
      "212\n",
      "220\n",
      "221\n",
      "222\n"
     ]
    }
   ],
   "source": [
    "for e in E: print(e)"
   ]
  },
  {
   "cell_type": "code",
   "execution_count": 5,
   "id": "5d484896-d25f-498c-b65a-57ed0f2006e1",
   "metadata": {},
   "outputs": [
    {
     "name": "stdout",
     "output_type": "stream",
     "text": [
      "n: 6 spaces: 24 special: 6\n",
      "000000   6 6\n",
      "010101   4 2\n",
      "012012   3 2\n",
      "012345   6 6\n",
      "015015   2 2\n",
      "030303   3 2\n",
      "042042   2 2\n",
      "045045   2 2\n",
      "050505   2 2\n",
      "111111   5 5\n",
      "212121   2 1\n",
      "222222   4 4\n",
      "232323   2 1\n",
      "252525   1 1\n",
      "312312   1 1\n",
      "315315   1 1\n",
      "333333   3 3\n",
      "342342   1 1\n",
      "345345   1 1\n",
      "414141   1 1\n",
      "434343   1 1\n",
      "444444   2 2\n",
      "454545   1 1\n",
      "555555   1 1\n"
     ]
    }
   ],
   "source": [
    "def Spectrum(n):\n",
    "    E = End(n)\n",
    "    Space = [e for e in E.space()]\n",
    "    Special = [e for e in E.special()] \n",
    "    Special2= [e for e in EndMod(n).special()] \n",
    "    \n",
    "    print('n:',n,'spaces:',len(Space),'special:',len(Special)) \n",
    "\n",
    "    for s in Space:\n",
    "        n = len([t for t in Special  if s.commute(t)]) \n",
    "        m = len([t for t in Special2 if s.commute(t)]) \n",
    "        print(s,' ',n,m)\n",
    "\n",
    "def SpectrumMod(n):\n",
    "    E = EndMod(n)\n",
    "    Space = [e for e in E.space()]\n",
    "    Special = [e for e in E.special()] \n",
    "    Special2= [e for e in End(n).special()] \n",
    "    \n",
    "    print('n:',n,'spaces:',len(Space),'special:',len(Special)) \n",
    "\n",
    "    for s in Space:\n",
    "        n = len([t for t in Special  if s.commute(t)]) \n",
    "        m = len([t for t in Special2 if s.commute(t)]) \n",
    "        print(s,' ',n,m)\n",
    "\n",
    "SpectrumMod(6)\n",
    "#\n",
    "#for s in End(5).space():\n",
    "#    n = len([t for t in End(5).special() if s.commute(t)]) \n",
    "#    m = len([t for t in EndMod(5).special() if s.commute(t)]) \n",
    "#    print(s,' ',n,m)\n",
    "#    if any(s.commute(t) for t in End(5).special()): \n",
    "#        print(s)\n",
    "#    else:\n",
    "#        print('--',s)\n",
    "#    for t in End(5).special(): \n",
    "#        if not s.commute(t): print(s,' ',t)"
   ]
  },
  {
   "cell_type": "code",
   "execution_count": 6,
   "id": "8aefcbe1-06e9-4217-bb67-2fa0dacf9fe6",
   "metadata": {},
   "outputs": [
    {
     "name": "stdout",
     "output_type": "stream",
     "text": [
      "00000 [0]\n",
      "01234 [0, 1, 2, 3, 4]\n",
      "11111 [1]\n",
      "22222 [2]\n",
      "33333 [3]\n",
      "44444 [4]\n"
     ]
    }
   ],
   "source": [
    "for e in EndMod(5): \n",
    "    if e.space(): print(e,[i for i in e.range()])"
   ]
  },
  {
   "cell_type": "code",
   "execution_count": 7,
   "id": "23d38373-fd08-4e31-9091-837450afe0e1",
   "metadata": {},
   "outputs": [
    {
     "name": "stdout",
     "output_type": "stream",
     "text": [
      "0000000 [0]\n",
      "0123456 [0, 1, 2, 3, 4, 5, 6]\n",
      "1111111 [1]\n",
      "2222222 [2]\n",
      "3333333 [3]\n",
      "4444444 [4]\n",
      "5555555 [5]\n",
      "6666666 [6]\n"
     ]
    }
   ],
   "source": [
    "for e in EndMod(7):\n",
    "    if e.space(): print(e,[i for i in e.range()]) "
   ]
  },
  {
   "cell_type": "code",
   "execution_count": 8,
   "id": "937e2dce-1a4e-4631-b52f-d5606640f782",
   "metadata": {},
   "outputs": [
    {
     "name": "stdout",
     "output_type": "stream",
     "text": [
      "00000 [0]\n",
      "01111 [0, 1]\n",
      "01222 [0, 1, 2]\n",
      "01233 [0, 1, 2, 3]\n",
      "01234 [0, 1, 2, 3, 4]\n",
      "01244 [0, 1, 2, 4]\n",
      "01333 [0, 1, 3]\n",
      "01444 [0, 1, 4]\n",
      "02222 [0, 2]\n",
      "03333 [0, 3]\n",
      "04444 [0, 4]\n",
      "11111 [1]\n",
      "22222 [2]\n",
      "33333 [3]\n",
      "44444 [4]\n"
     ]
    }
   ],
   "source": [
    "for e in End(5):\n",
    "    if e.space(): print(e,[i for i in e.range()])"
   ]
  },
  {
   "cell_type": "code",
   "execution_count": 9,
   "id": "7c71b637-824e-4b70-bc5d-5430d1d9dc9a",
   "metadata": {},
   "outputs": [
    {
     "name": "stdout",
     "output_type": "stream",
     "text": [
      "01234 [0, 1, 2, 3, 4]\n",
      "01243 [0, 1, 2, 3, 4]\n",
      "01324 [0, 1, 2, 3, 4]\n",
      "01432 [0, 1, 2, 3, 4]\n",
      "02134 [0, 1, 2, 3, 4]\n",
      "02143 [0, 1, 2, 3, 4]\n",
      "03214 [0, 1, 2, 3, 4]\n",
      "03412 [0, 1, 2, 3, 4]\n",
      "04231 [0, 1, 2, 3, 4]\n",
      "04321 [0, 1, 2, 3, 4]\n",
      "10234 [0, 1, 2, 3, 4]\n",
      "10243 [0, 1, 2, 3, 4]\n",
      "10324 [0, 1, 2, 3, 4]\n",
      "10432 [0, 1, 2, 3, 4]\n",
      "21034 [0, 1, 2, 3, 4]\n",
      "21043 [0, 1, 2, 3, 4]\n",
      "23014 [0, 1, 2, 3, 4]\n",
      "24031 [0, 1, 2, 3, 4]\n",
      "31204 [0, 1, 2, 3, 4]\n",
      "31402 [0, 1, 2, 3, 4]\n",
      "32104 [0, 1, 2, 3, 4]\n",
      "34201 [0, 1, 2, 3, 4]\n",
      "41230 [0, 1, 2, 3, 4]\n",
      "41320 [0, 1, 2, 3, 4]\n",
      "42130 [0, 1, 2, 3, 4]\n",
      "43210 [0, 1, 2, 3, 4]\n"
     ]
    }
   ],
   "source": [
    "for e in End(5).involution(): print(e,[i for i in e.range()])"
   ]
  },
  {
   "cell_type": "code",
   "execution_count": 10,
   "id": "087ff85c-41bd-4f5d-a43d-e77573ba3ec2",
   "metadata": {
    "tags": []
   },
   "outputs": [
    {
     "name": "stdout",
     "output_type": "stream",
     "text": [
      "00000 [0]\n",
      "01234 [0, 1, 2, 3, 4]\n",
      "11111 [1]\n",
      "22222 [2]\n",
      "33333 [3]\n",
      "44444 [4]\n"
     ]
    }
   ],
   "source": [
    "for e in EndMod(5).space(): print(e,[i for i in e.range()])"
   ]
  },
  {
   "cell_type": "code",
   "execution_count": 11,
   "id": "90e27449-2092-4ef7-a389-159248dc79f1",
   "metadata": {
    "tags": []
   },
   "outputs": [],
   "source": [
    "#E = End(4)\n",
    "#for s in E.special(): print(s)\n",
    "#for e in E: \n",
    "#    if e.space(): \n",
    "#        print(e)\n",
    "#        for s in E.special():\n",
    "#            print('-',e.commute(s))\n",
    "def Dis(E):\n",
    "    total = [e for e in E]\n",
    "    units = [e for e in E if e.unit()] \n",
    "    idems = [e for e in E if e.idempotent()] \n",
    "    invol = [e for e in E if e.involution()]\n",
    "    space = [e for e in E if e.space()]\n",
    "    posit = [e for e in E if e.positive()]\n",
    "    print('         total:',len(total))\n",
    "    print('          unit:',len(units))\n",
    "    print('    idempotent:',len(idems)) \n",
    "    print('    involution:',len(invol)) \n",
    "    print('         space:',len(space)) \n",
    "    print('      positive:',len(posit)) \n",
    "    print('idemp   x unit:',len(idems)*len(units))\n",
    "    print('space   x unit:',len(space)*len(units)) \n",
    "    print('space^2 x unit:',len(space)*len(space)*len(units))\n"
   ]
  },
  {
   "cell_type": "code",
   "execution_count": 16,
   "id": "cba9ce66-0973-46cf-b1a2-d15be67b710d",
   "metadata": {},
   "outputs": [
    {
     "name": "stdout",
     "output_type": "stream",
     "text": [
      "1 1 1 1 1 1 | 1 1 1 2\n",
      "2 3 3 9 3 2 | 4 6 18 12\n",
      "3 6 4 24 10 6 | 27 60 144 60\n",
      "4 10 9 90 41 24 | 256 984 2160 456\n",
      "5 15 6 90 196 120 | 3125 23520 10800 2520\n",
      "6 21 24 504 1057 720 | 46656 761040 362880 32400\n"
     ]
    }
   ],
   "source": [
    "for n in range(1,7):\n",
    "    E1 = End(n)\n",
    "    E1s = [e for e in E1 if e.space()]\n",
    "    E1u = [e for e in E1 if e.unit()]\n",
    "    E1i = [e for e in E1 if e.idempotent()] \n",
    "    E2 = EndMod(n)\n",
    "    E2s = [e for e in E2 if e.space()]\n",
    "    E2u = [e for e in E2 if e.unit()] \n",
    "    E2i = [e for e in E2 if e.idempotent()] \n",
    "    print(n,len(E1s),len(E2s),len(E1s)*len(E2s),len(E1i),len(E1u),'|',len(E1),len(E1i)*len(E1u),len(E2s)*len(E1s)*len(E1u),len(E1u)*(len(E1s)+len(E2s)))"
   ]
  },
  {
   "cell_type": "code",
   "execution_count": 42,
   "id": "fbc08071-cf75-4fe3-9dd6-374381ee8d32",
   "metadata": {},
   "outputs": [
    {
     "name": "stdout",
     "output_type": "stream",
     "text": [
      "823543\n",
      "6322\n",
      "5040\n",
      "232\n",
      "28\n",
      "279936\n",
      "-----\n",
      "823543\n",
      "6322\n",
      "5040\n",
      "232\n",
      "8\n",
      "279936\n"
     ]
    }
   ],
   "source": [
    "print(len([e for e in End(7)]))\n",
    "print(len([e for e in End(7) if e.idempotent()])) \n",
    "print(len([e for e in End(7) if e.unit()])) \n",
    "print(len([e for e in End(7) if e.involution()]))\n",
    "print(len([e for e in End(7) if e.space()])) \n",
    "print(len([e for e in End(7) if e.positive()])) \n",
    "print('-----')\n",
    "print(len([e for e in EndMod(7)]))\n",
    "print(len([e for e in EndMod(7) if e.idempotent()])) \n",
    "print(len([e for e in EndMod(7) if e.unit()])) \n",
    "print(len([e for e in EndMod(7) if e.involution()]))\n",
    "print(len([e for e in EndMod(7) if e.space()])) \n",
    "print(len([e for e in EndMod(7) if e.positive()])) \n",
    "\n",
    "#print(len([e for e in EndMod(5)]))\n",
    "#print(len([e for e in EndMod(5) if e.idempotent()])) \n",
    "#print(len([e for e in EndMod(5) if e.involution()]))\n",
    "#print(len([e for e in EndMod(5) if e.space()])) "
   ]
  },
  {
   "cell_type": "code",
   "execution_count": null,
   "id": "56d17189-93b5-436b-b3d5-1e0069685851",
   "metadata": {},
   "outputs": [],
   "source": []
  },
  {
   "cell_type": "code",
   "execution_count": 54,
   "id": "1f49c76d-31bc-4f92-998c-91e6412c96ed",
   "metadata": {},
   "outputs": [
    {
     "name": "stdout",
     "output_type": "stream",
     "text": [
      "units: 6 idempotents: 10 Total: 27\n",
      "u*i: 27 i*u: 27 total: 27\n"
     ]
    }
   ],
   "source": [
    "S1 = set([])\n",
    "S2 = set([])\n",
    "E = End(3)\n",
    "units = [e for e in E if e.unit()]\n",
    "idemp = [e for e in E if e.idempotent()] \n",
    "print('units:',len(units),'idempotents:',len(idemp),'Total:',len(E))\n",
    "for e in units:\n",
    "    for f in idemp:\n",
    "        S1.add(e*f)\n",
    "        S2.add(f*e)\n",
    "#        print(e,f,e*f,f*e)\n",
    "print('u*i:',len(S1),'i*u:',len(S2),'total:',len(E))\n",
    "#for e in E: \n",
    "#    if e.space(): print(e)\n",
    "E2 = EndMod(4)\n",
    "#for e in E2:\n",
    "#    if e.unit(): print(e)"
   ]
  },
  {
   "cell_type": "code",
   "execution_count": 69,
   "id": "9832b4aa-e79e-49fb-b87e-68c9275ab3da",
   "metadata": {},
   "outputs": [
    {
     "name": "stdout",
     "output_type": "stream",
     "text": [
      "units 6\n",
      "space 6\n",
      "space2 7\n",
      "u*s2 + s2*u 21 27\n"
     ]
    }
   ],
   "source": [
    "E = End(3)\n",
    "units = [e for e in E if e.unit()]\n",
    "space = [e for e in E if e.space()]\n",
    "T = set([])\n",
    "for s in space:\n",
    "    for t in space: T.add(s+t)\n",
    "space2 = [e for e in T]\n",
    "\n",
    "S = set([]) \n",
    "for e in units:\n",
    "    for f in space2:\n",
    "        S.add(e*f)\n",
    "        S.add(f*e)\n",
    "\n",
    "print('units',len(units))\n",
    "print('space',len(space))\n",
    "print('space2',len(space2))\n",
    "print('u*s2 + s2*u',len(S),len(E))"
   ]
  },
  {
   "cell_type": "code",
   "execution_count": 55,
   "id": "dbb431f9-bd40-4e0c-8cbf-032346b4db4d",
   "metadata": {},
   "outputs": [
    {
     "name": "stdout",
     "output_type": "stream",
     "text": [
      "012\n",
      "021\n",
      "102\n",
      "120\n",
      "201\n",
      "210\n",
      "-\n",
      "000\n",
      "002\n",
      "010\n",
      "011\n",
      "012\n",
      "022\n",
      "111\n",
      "112\n",
      "212\n",
      "222\n"
     ]
    }
   ],
   "source": [
    "for u in units: print(u)\n",
    "print('-')\n",
    "for i in idemp: print(i)"
   ]
  },
  {
   "cell_type": "code",
   "execution_count": 56,
   "id": "a1c871cb-c939-4f81-bd41-199df613cbf8",
   "metadata": {},
   "outputs": [],
   "source": [
    "#print(len([e for e in End(6)]))\n",
    "#print(len([e for e in End(6) if e.idempotent()])) \n",
    "#print(len([e for e in End(6) if e.involution()]))\n",
    "#print(len([e for e in End(6) if e.space()])) \n",
    "#\n",
    "#print(len([e for e in EndMod(6)]))\n",
    "#print(len([e for e in EndMod(6) if e.idempotent()])) \n",
    "#print(len([e for e in EndMod(6) if e.involution()]))\n",
    "#print(len([e for e in EndMod(6) if e.space()])) "
   ]
  },
  {
   "cell_type": "code",
   "execution_count": 18,
   "id": "c6895f41-4c0d-4441-bbb1-ce442dd90eef",
   "metadata": {},
   "outputs": [],
   "source": [
    "#\n",
    "#   A055225 \n",
    "#   https://oeis.org/search?q=1%2c3%2c4%2c9%2c6%2c24%2c8%2c41%20id%3a55225&sort=references\n",
    "#\n",
    "#   A000217\n",
    "#   \"Triangular Numbers\"\n",
    "#\n",
    "#for n in range(4):\n",
    "#    E1 = End(n)\n",
    "#    E2 = EndMod(n)\n",
    "#    I1 = [e for e in End(n) if e.idempotent()]\n",
    "#    I2 = [e for e in EndMod(n) if e.idempotent()] \n",
    "#    S1 = [e for e in End(n) if e.space()]\n",
    "#    S2 = [e for e in EndMod(n) if e.space()]\n",
    "#    print(n,len(E1),len(I1),len(S1),len(I2),len(S2))"
   ]
  },
  {
   "cell_type": "code",
   "execution_count": null,
   "id": "eba945b4-fb40-460e-9caa-b84d2004d1f1",
   "metadata": {},
   "outputs": [],
   "source": []
  }
 ],
 "metadata": {
  "kernelspec": {
   "display_name": "Python 3 (ipykernel)",
   "language": "python",
   "name": "python3"
  },
  "language_info": {
   "codemirror_mode": {
    "name": "ipython",
    "version": 3
   },
   "file_extension": ".py",
   "mimetype": "text/x-python",
   "name": "python",
   "nbconvert_exporter": "python",
   "pygments_lexer": "ipython3",
   "version": "3.11.1"
  }
 },
 "nbformat": 4,
 "nbformat_minor": 5
}
