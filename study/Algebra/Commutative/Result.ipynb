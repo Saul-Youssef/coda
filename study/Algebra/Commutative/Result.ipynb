{
 "cells": [
  {
   "cell_type": "code",
   "execution_count": 1,
   "id": "b4812af1-7154-4357-adbc-46b98b1f5a49",
   "metadata": {},
   "outputs": [
    {
     "name": "stdout",
     "output_type": "stream",
     "text": [
      "(defaultTime:1000)"
     ]
    }
   ],
   "source": [
    "defaultTime:1000"
   ]
  },
  {
   "cell_type": "code",
   "execution_count": 2,
   "id": "d517a35f-cf89-4ab5-947c-683df6061b85",
   "metadata": {},
   "outputs": [
    {
     "name": "stdout",
     "output_type": "stream",
     "text": []
    }
   ],
   "source": [
    "import : dir co : up : up : ."
   ]
  },
  {
   "cell_type": "code",
   "execution_count": 3,
   "id": "6c5db846-4b39-44db-a5cf-8dcdadfa666b",
   "metadata": {},
   "outputs": [
    {
     "name": "stdout",
     "output_type": "stream",
     "text": [
      "27"
     ]
    }
   ],
   "source": [
    "count : in : commutative.C0-S6.candidates"
   ]
  },
  {
   "cell_type": "code",
   "execution_count": 4,
   "id": "388169a7-90ba-47c8-918e-ec2f60a40327",
   "metadata": {},
   "outputs": [
    {
     "name": "stdout",
     "output_type": "stream",
     "text": [
      "977"
     ]
    }
   ],
   "source": [
    "count : in : commutative.C2-S6.candidates "
   ]
  },
  {
   "cell_type": "code",
   "execution_count": 5,
   "id": "a6fcc54c-24dc-4076-8466-1cdd4a3ebeb4",
   "metadata": {},
   "outputs": [
    {
     "name": "stdout",
     "output_type": "stream",
     "text": [
      " (:is {B null}) \n",
      " (:null {nif B}) \n",
      " (:null {1 : B}) \n",
      " (:null {B : pass}) \n",
      " (:const {prod B}) \n",
      " (:if {B : right}) \n",
      " (:if {B : plus}) \n",
      " (:null {if B}) \n",
      " (:has prod) \n",
      " (:get {left B}) \n",
      " (:has {isnt B}) \n",
      " (:{const : B} is) \n",
      " (:get {B : b}) \n",
      " (:null {0 : B}) \n",
      " (:is null) \n",
      " (:if {B get}) \n",
      " (:is {hasnt B}) \n",
      " (:null {B : put}) \n",
      " (:const {B : star}) \n",
      " (:has {const : B}) \n"
     ]
    }
   ],
   "source": [
    "tab : first 20 : in : commutative.C2-S6.candidates "
   ]
  },
  {
   "cell_type": "markdown",
   "id": "6708d0eb-04fd-4614-9d60-6f37807f7eda",
   "metadata": {},
   "source": [
    "## How many of the 977 commutative candidates are also symmetric? "
   ]
  },
  {
   "cell_type": "code",
   "execution_count": 6,
   "id": "b49f2a68-e4c1-4588-840b-9708c9e8da38",
   "metadata": {},
   "outputs": [
    {
     "name": "stdout",
     "output_type": "stream",
     "text": []
    }
   ],
   "source": [
    "Let Class : classify S6?  : (in : commutative.C0-S6.candidates) \n",
    "#                           (in : commutative.C2-S6.candidates) "
   ]
  },
  {
   "cell_type": "code",
   "execution_count": 7,
   "id": "b7154286-d568-4f7f-b43e-c5357f164bf6",
   "metadata": {},
   "outputs": [
    {
     "name": "stdout",
     "output_type": "stream",
     "text": [
      "9"
     ]
    }
   ],
   "source": [
    "count : Class?"
   ]
  },
  {
   "cell_type": "code",
   "execution_count": 8,
   "id": "04e466a3-153e-4f8c-a52c-3a85e2955290",
   "metadata": {},
   "outputs": [
    {
     "name": "stdout",
     "output_type": "stream",
     "text": [
      " (bin 10:(:const) (:get) (:has) (:head) (:is) (:nif) (:nth) (:nth1) (:null) (:sum)) \n",
      " (bin 1:(:count)) \n",
      " (bin 3:(:float_max) (:float_min) (:float_sort)) \n",
      " (bin 1:(:float_prod)) \n",
      " (bin 1:(:float_sum)) \n",
      " (bin 6:(:int_max) (:int_min) (:int_sort) (:nat_max) (:nat_min) (:nat_sort)) \n",
      " (bin 2:(:int_prod) (:nat_prod)) \n",
      " (bin 2:(:int_sum) (:nat_sum)) \n",
      " (bin 1:(:text_sort)) \n"
     ]
    }
   ],
   "source": [
    "tab : Class?"
   ]
  },
  {
   "cell_type": "code",
   "execution_count": 11,
   "id": "5a85d157-550b-4ba7-b55b-5cc17b125233",
   "metadata": {},
   "outputs": [
    {
     "name": "stdout",
     "output_type": "stream",
     "text": []
    }
   ],
   "source": [
    "out R1 3600 : dom 100 : property commutative S6? : in : commutative.C0-S6.candidates "
   ]
  },
  {
   "cell_type": "code",
   "execution_count": null,
   "id": "d03e3356-f6d5-4d3a-87dc-09457f51271d",
   "metadata": {},
   "outputs": [],
   "source": [
    "out R2 3600 : dom 100 : property commutative S6? : in : commutative.C2-S6.candidates "
   ]
  },
  {
   "cell_type": "code",
   "execution_count": null,
   "id": "15b0b83b-72c5-4f26-819f-139c9fd8cdc6",
   "metadata": {},
   "outputs": [],
   "source": []
  }
 ],
 "metadata": {
  "kernelspec": {
   "display_name": "coda",
   "language": "",
   "name": "coda"
  },
  "language_info": {
   "file_extension": ".co",
   "mimetype": "text/plain",
   "name": "Any text"
  }
 },
 "nbformat": 4,
 "nbformat_minor": 5
}
