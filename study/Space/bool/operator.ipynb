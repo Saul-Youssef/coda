{
 "cells": [
  {
   "cell_type": "markdown",
   "id": "1025b5a9-bedc-4da1-86f1-1e3dff89ea35",
   "metadata": {
    "tags": []
   },
   "source": [
    "## Boolean operator\n",
    "\n",
    "A boolean operator is a morphism from the product space **bool x bool** to **bool**.  "
   ]
  },
  {
   "cell_type": "code",
   "execution_count": null,
   "id": "4cbe56a4-bdde-4905-9c85-247fd8981988",
   "metadata": {},
   "outputs": [],
   "source": [
    "rev : a b c "
   ]
  },
  {
   "cell_type": "code",
   "execution_count": null,
   "id": "430df704-e3ba-4ff1-8dce-7db27ee066df",
   "metadata": {},
   "outputs": [],
   "source": [
    "import : dir co : up : ."
   ]
  },
  {
   "cell_type": "code",
   "execution_count": null,
   "id": "cede80d9-7137-4ee0-ae0c-b4dae4c3ee5b",
   "metadata": {},
   "outputs": [],
   "source": [
    "Def b:\n",
    "Def TWO : Two b : bool "
   ]
  },
  {
   "cell_type": "code",
   "execution_count": null,
   "id": "79ddf4f8-38bc-4399-a046-e4728d4a1227",
   "metadata": {},
   "outputs": [],
   "source": [
    "TWO : \n",
    "TWO : (b:) (b:(:))"
   ]
  },
  {
   "cell_type": "code",
   "execution_count": null,
   "id": "17c9bbb4-0bd0-42b1-9682-a22120af176f",
   "metadata": {},
   "outputs": [],
   "source": [
    "TWO : (:(b:(:) (b:)) (:(b:(:)) (b:))"
   ]
  },
  {
   "cell_type": "code",
   "execution_count": null,
   "id": "ac2a7d7d-8088-49b5-89b3-c75cbe1f9731",
   "metadata": {},
   "outputs": [],
   "source": [
    "TWO : (b:(:) (:(:))) (b:(:) (:(:)))"
   ]
  },
  {
   "cell_type": "code",
   "execution_count": null,
   "id": "81d842f5-c547-4419-9e6d-311c7a9b9f27",
   "metadata": {},
   "outputs": [],
   "source": []
  }
 ],
 "metadata": {
  "kernelspec": {
   "display_name": "coda",
   "language": "",
   "name": "coda"
  },
  "language_info": {
   "file_extension": ".co",
   "mimetype": "text/plain",
   "name": "Any text"
  }
 },
 "nbformat": 4,
 "nbformat_minor": 5
}
