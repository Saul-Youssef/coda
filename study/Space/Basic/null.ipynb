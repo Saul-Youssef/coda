{
 "cells": [
  {
   "cell_type": "markdown",
   "id": "e6c3a49d-444d-4593-bee2-64fe3855efd6",
   "metadata": {},
   "source": [
    "# null\n",
    "\n",
    "Null is the space consisting only of the empty data, ().\n",
    "\n",
    "* Language: null or {}\n",
    "* Elements: () only\n",
    "* Operation: () for any input\n",
    "* Properties: **null** is a simple distributive space over **pass**\n",
    "* Endomorphisms: Data F satisfying F:()=(). "
   ]
  },
  {
   "cell_type": "code",
   "execution_count": 1,
   "id": "10c18c79-b0b0-4438-8b2c-407abaf5ed0c",
   "metadata": {},
   "outputs": [
    {
     "name": "stdout",
     "output_type": "stream",
     "text": []
    }
   ],
   "source": [
    "#\n",
    "#   proof that null is a simple space\n",
    "#\n",
    "null:X? Y?\n",
    "null:(null:X?) (null:Y?)\n",
    "null:null:X?\n",
    "null:X?"
   ]
  },
  {
   "cell_type": "code",
   "execution_count": 4,
   "id": "5e7d0a0d-d0eb-40e3-b280-bbe9d2c436bc",
   "metadata": {},
   "outputs": [
    {
     "name": "stdout",
     "output_type": "stream",
     "text": []
    }
   ],
   "source": [
    "#\n",
    "#   Proof that null is distributive \n",
    "#\n",
    "null:X? Y?\n",
    "(null:X?) (null:Y?)"
   ]
  },
  {
   "cell_type": "code",
   "execution_count": 5,
   "id": "a000f9df-febf-4ab3-ae02-3c4dbd2a8b94",
   "metadata": {},
   "outputs": [
    {
     "name": "stdout",
     "output_type": "stream",
     "text": []
    }
   ],
   "source": [
    "#\n",
    "#   Proof that null is simple\n",
    "#\n",
    "null X?:Y?\n",
    "null:Y?"
   ]
  },
  {
   "cell_type": "code",
   "execution_count": 3,
   "id": "7849cf34-8629-4130-ba59-a4031ced19a5",
   "metadata": {},
   "outputs": [
    {
     "name": "stdout",
     "output_type": "stream",
     "text": []
    }
   ],
   "source": [
    "#\n",
    "#   Any data F such that F:()=() is \n",
    "#   an endomorphism of null.  pass, for instance,\n",
    "#   has this property. \n",
    "#\n",
    "pass*null:X?\n",
    "null*pass:X?\n",
    "#\n",
    "#   This also shows that null is a morphism from pass to null.  \n",
    "#   since null is a space, the image null*pass = null is the image\n",
    "#   of pass into null via null.\n",
    "#"
   ]
  },
  {
   "cell_type": "code",
   "execution_count": null,
   "id": "4bfa1f7c-1389-4c15-8763-16e21ce494f3",
   "metadata": {},
   "outputs": [],
   "source": []
  }
 ],
 "metadata": {
  "kernelspec": {
   "display_name": "coda",
   "language": "",
   "name": "coda"
  },
  "language_info": {
   "file_extension": ".co",
   "mimetype": "text/plain",
   "name": "Any text"
  }
 },
 "nbformat": 4,
 "nbformat_minor": 5
}
