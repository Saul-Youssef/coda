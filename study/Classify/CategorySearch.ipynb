{
 "cells": [
  {
   "cell_type": "markdown",
   "id": "d1a85f2e-2756-40cd-b843-fd5c58ed4efd",
   "metadata": {},
   "source": [
    "After the success of finding even and odd atoms, let's try to find all categories from the same search space..."
   ]
  },
  {
   "cell_type": "code",
   "execution_count": 1,
   "id": "b05b090d-64e1-4129-88e6-c7b365258aad",
   "metadata": {},
   "outputs": [
    {
     "data": {
      "text/plain": [
       "eval: False, true: 0, false:0, undecided:0, codas:143, datas:11568"
      ]
     },
     "execution_count": 1,
     "metadata": {},
     "output_type": "execute_result"
    }
   ],
   "source": [
    "from base import *\n",
    "from Space import Space\n",
    "import Generate\n",
    "\n",
    "S = Generate.Gen(Generate.codas,3).space()\n",
    "S"
   ]
  },
  {
   "cell_type": "code",
   "execution_count": 2,
   "id": "cebbb448-724c-44ef-88be-d835206f4365",
   "metadata": {},
   "outputs": [],
   "source": [
    "#\n",
    "#   We'll use Even and Odd for a few atoms just to filter\n",
    "#   the space down somewhat. \n",
    "#\n",
    "Even = Generate.EvenAtoms(3)\n",
    "Odd = Generate.OddAtoms(3)"
   ]
  },
  {
   "cell_type": "markdown",
   "id": "e089b660-9c80-4fc2-9eb8-8fd794707f13",
   "metadata": {},
   "source": [
    "Data `C` is a **category** if \n",
    "\n",
    "`C : X Y = C: (C:X) (C:Y)` \n",
    "\n",
    "for all data `X`, `Y`.\n",
    "\n",
    "For filtering purposes, let's require this condition for X=Y. "
   ]
  },
  {
   "cell_type": "code",
   "execution_count": 3,
   "id": "eaf49b02-df7d-47a2-8d6e-392685f055a2",
   "metadata": {},
   "outputs": [],
   "source": [
    "import Evaluate\n",
    "def eval(d): return Evaluate.default(d)\n",
    "\n",
    "def equal(x,y):\n",
    "    return data((da('=')+x)|y)\n",
    "\n",
    "def cat1(c,x): \n",
    "    left = data(c|(x+x))\n",
    "    right = data(c|((c|x)+(c|x))) \n",
    "    return eval(equal(left,right)).empty()"
   ]
  },
  {
   "cell_type": "code",
   "execution_count": null,
   "id": "00d9de18-e3e2-412a-a247-58b7d9068178",
   "metadata": {},
   "outputs": [
    {
     "name": "stdout",
     "output_type": "stream",
     "text": [
      "100 ... aaaa\n",
      "200 ... aaaa\n",
      "300 ... aaaa\n",
      "400 ... aaaa\n"
     ]
    }
   ],
   "source": [
    "S1 = S.subop(cat1,Even)"
   ]
  },
  {
   "cell_type": "code",
   "execution_count": null,
   "id": "53b81e98-785d-4ba2-ab40-314e5ada2ec1",
   "metadata": {},
   "outputs": [],
   "source": []
  }
 ],
 "metadata": {
  "kernelspec": {
   "display_name": "Python 3 (ipykernel)",
   "language": "python",
   "name": "python3"
  },
  "language_info": {
   "codemirror_mode": {
    "name": "ipython",
    "version": 3
   },
   "file_extension": ".py",
   "mimetype": "text/x-python",
   "name": "python",
   "nbconvert_exporter": "python",
   "pygments_lexer": "ipython3",
   "version": "3.10.7"
  }
 },
 "nbformat": 4,
 "nbformat_minor": 5
}
