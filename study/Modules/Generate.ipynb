{
 "cells": [
  {
   "cell_type": "markdown",
   "id": "201b8263-bd78-4a96-9093-b09cb02b7e47",
   "metadata": {},
   "source": [
    "## Generate Module \n",
    "\n",
    "This modules generates \"spaces\" in various ways.  A space is a collection of data. "
   ]
  },
  {
   "cell_type": "code",
   "execution_count": 1,
   "id": "92dcaf73-bcc3-4646-b28f-2539d2db39c8",
   "metadata": {},
   "outputs": [],
   "source": [
    "from base import *\n",
    "import Generate,Space"
   ]
  },
  {
   "cell_type": "code",
   "execution_count": 2,
   "id": "5938c6f0-5a46-41ac-9235-76141de5e6b5",
   "metadata": {},
   "outputs": [
    {
     "name": "stdout",
     "output_type": "stream",
     "text": [
      "\n",
      "◎\n",
      "(:◎)\n",
      "(:◎ ◎)\n",
      "𝟬\n",
      "𝝞\n",
      "◎◎\n",
      "\n",
      "◎\n",
      "◎◎\n"
     ]
    }
   ],
   "source": [
    "#\n",
    "#   Window generates all data within a specified depth and width.  \n",
    "#\n",
    "W = Generate.Window(2,2)\n",
    "for i in range(10): print(W[i])"
   ]
  },
  {
   "cell_type": "code",
   "execution_count": 3,
   "id": "65ba7a11-2208-4b35-beb4-763d67dae9f6",
   "metadata": {},
   "outputs": [
    {
     "data": {
      "text/plain": [
       "91"
      ]
     },
     "execution_count": 3,
     "metadata": {},
     "output_type": "execute_result"
    }
   ],
   "source": [
    "len(W)"
   ]
  },
  {
   "cell_type": "code",
   "execution_count": 4,
   "id": "f7ecd672-8220-4f07-a9d0-548661c8e1d5",
   "metadata": {},
   "outputs": [
    {
     "name": "stdout",
     "output_type": "stream",
     "text": [
      "◎\n",
      "◎ ◎ ◎\n",
      "◎ ◎ ◎ ◎ ◎\n",
      "◎ ◎ ◎ ◎ ◎ ◎ ◎\n",
      "◎ ◎ ◎ ◎ ◎ ◎ ◎ ◎ ◎\n",
      "◎ ◎ ◎ ◎ ◎ ◎ ◎ ◎ ◎ ◎ ◎\n",
      "◎ ◎ ◎ ◎ ◎ ◎ ◎ ◎ ◎ ◎ ◎ ◎ ◎\n",
      "◎ ◎ ◎ ◎ ◎ ◎ ◎ ◎ ◎ ◎ ◎ ◎ ◎ ◎ ◎\n",
      "◎ ◎ ◎ ◎ ◎ ◎ ◎ ◎ ◎ ◎ ◎ ◎ ◎ ◎ ◎ ◎ ◎\n",
      "◎ ◎ ◎ ◎ ◎ ◎ ◎ ◎ ◎ ◎ ◎ ◎ ◎ ◎ ◎ ◎ ◎ ◎ ◎\n"
     ]
    }
   ],
   "source": [
    "Odd = Generate.OddAtoms(10)\n",
    "for d in Odd: print(d)"
   ]
  },
  {
   "cell_type": "code",
   "execution_count": 5,
   "id": "30c1b10a-b70d-4531-a6e0-8517bf95141b",
   "metadata": {
    "tags": []
   },
   "outputs": [
    {
     "name": "stdout",
     "output_type": "stream",
     "text": [
      "◎\n",
      "𝝞\n",
      "𝟬\n",
      "wrap\n",
      "startswith\n",
      "endswith\n",
      "join\n",
      "split\n",
      "pass\n",
      "null\n",
      "bin\n",
      "dom\n",
      "if\n",
      "put\n",
      "has1\n",
      "get1\n",
      "*\n",
      "ap\n",
      "app\n",
      "ap2\n",
      "aps\n",
      "apby\n",
      "apif\n",
      "rev\n",
      "first\n",
      "tail\n",
      "last\n",
      "rep\n",
      "nth1\n",
      "pre\n",
      "post\n",
      "some\n",
      "none\n",
      "not\n",
      "=\n",
      "or\n",
      "imply\n",
      "equiv\n",
      "collect\n",
      "counts\n",
      "0\n",
      "1\n",
      "2\n",
      "3\n",
      "a\n",
      "b\n",
      "A\n",
      "B\n",
      "{$}\n"
     ]
    }
   ],
   "source": [
    "#\n",
    "#    SpaceGen let's you generate data using higher level definitions \n",
    "#\n",
    "#    The \"{$}\" coda gets replaced with {...some data...}. \n",
    "#\n",
    "for c in Generate.codas: print(c)"
   ]
  },
  {
   "cell_type": "code",
   "execution_count": 6,
   "id": "5704bf35-0c54-4c39-9826-ca0d5adf9238",
   "metadata": {},
   "outputs": [],
   "source": [
    "G = Generate.Gen(Generate.codas,3).space()"
   ]
  },
  {
   "cell_type": "code",
   "execution_count": 7,
   "id": "b41fbb06-0b69-445a-a1c4-7b8e69bd7ad3",
   "metadata": {},
   "outputs": [
    {
     "data": {
      "text/plain": [
       "eval: False, true: 0, false:0, undecided:0, codas:143, datas:11568"
      ]
     },
     "execution_count": 7,
     "metadata": {},
     "output_type": "execute_result"
    }
   ],
   "source": [
    "G"
   ]
  },
  {
   "cell_type": "code",
   "execution_count": 8,
   "id": "fd9a1d9a-2da1-4b48-bf33-512886ce7622",
   "metadata": {},
   "outputs": [
    {
     "name": "stdout",
     "output_type": "stream",
     "text": [
      "{B 𝝞𝝞𝝞𝟬𝝞𝟬𝝞𝝞𝝞𝝞𝝞𝝞𝟬𝝞𝝞𝟬𝟬} join\n",
      "{B equiv} if\n",
      "imply pass\n",
      "{or B} counts\n",
      "none {* B}\n",
      "{B put} post\n",
      "tail ◎\n",
      "a {B split}\n",
      "{ap2 B} b\n",
      "last {B if}\n"
     ]
    }
   ],
   "source": [
    "for i in range(10): print(G[i])"
   ]
  },
  {
   "cell_type": "code",
   "execution_count": null,
   "id": "88e50b78-ed9c-4b86-ad26-2071e26ca507",
   "metadata": {},
   "outputs": [],
   "source": []
  }
 ],
 "metadata": {
  "kernelspec": {
   "display_name": "Python 3 (ipykernel)",
   "language": "python",
   "name": "python3"
  },
  "language_info": {
   "codemirror_mode": {
    "name": "ipython",
    "version": 3
   },
   "file_extension": ".py",
   "mimetype": "text/x-python",
   "name": "python",
   "nbconvert_exporter": "python",
   "pygments_lexer": "ipython3",
   "version": "3.10.7"
  }
 },
 "nbformat": 4,
 "nbformat_minor": 5
}
