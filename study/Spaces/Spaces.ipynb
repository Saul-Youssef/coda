{
 "cells": [
  {
   "cell_type": "markdown",
   "id": "f5bf1fa3-5d35-4b24-a042-f88ed977be98",
   "metadata": {
    "jp-MarkdownHeadingCollapsed": true,
    "tags": []
   },
   "source": [
    "\n",
    "## Spaces\n",
    "\n",
    "The pure analogue of *set* in Mathematics is the **space**.  \n",
    "\n",
    "- Data A is a *space* if A : X Y = A : (A:X) Y = A : X (A:Y) for all data X and all data Y.\n",
    "\n",
    "If A is a space, then the data A:X is said to **belong** to A for any data X.  The definition guarantees that if (A:X) and (A:Y) are in A, so is A:X Y.  This defines \n",
    "a binary operation on the \"elements\" of A \n",
    "\n",
    "- (A:X) \\* (A:Y) &rightarrow; A:X Y \n",
    "\n",
    "So that each space is automatically a monoid because \\* is associative and because A always has a **neutral element** (A:) where \n",
    "\n",
    "- (A:) \\* (A:X) = (A:X) * (A:) = (A:X) \n",
    "\n",
    "for any space A and for any data X.  Note that spaces are idempotent, so A:A:X = A:X (or equivalently, A\\*A=A) for any space A. \n",
    "\n",
    "## Morphisms\n",
    "\n",
    "If A and B are spaces and f is any data, then the data B\\*f\\*A is a **morphism** between space A and space B.  If F=B\\*f\\*A is a morphism from A to B, then \n",
    "\n",
    "- F:A:X = B:F:X \n",
    "\n",
    "for all data X.  The converse is not guaranteed.  If F=B\\*f\\*A is a morphism from A to B and G=C\\*g\\*B is a morphism from B to C, then \n",
    "\n",
    "- G\\*F = C\\*g\\*B\\*B\\*f\\*A = C\\*g\\*B\\*f\\*A \n",
    "\n",
    "## Examples of Spaces \n",
    "\n",
    "|   Name           |      Description       |     Data      |     Distributive?     |     Automorphisms     | \n",
    "|------------------|------------------------|---------------|----------------------:|-----------------------|\n",
    "| pass | Do nothing | All pure data |  Y  |  pass\\*F\\*pass, any data F | \n",
    "| null | Empty | Only the empty data | Y |  null\\*F\\*null, only the null map | \n",
    "| bool | Logical values | () or (:) | N | bool\\*F\\*bool, bool preserving maps | \n",
    "| rep \\| | Data length | Sequences of \\| | Y | (rep \\|)\\*F\\*(rep \\|), any ordinary function on the natural numbers| \n",
    "| has foo | Select atoms with domain foo | (foo:1) (foo:a b c) (foo:) | Y | (has foo)\\*F\\*(has foo), function from foo atoms to foo atoms | \n",
    "| first | First atom | Single atoms | N | Functions from single atoms to single atoms | \n",
    "| first n | First n | n or fewer atoms | N | Functions from at most n atoms to at most n atoms | \n",
    "| ap A | Apply A to input |  A:x for atom x | Y | Endofunctions from sequences of A:x to same | \n",
    "| ap ker A | A:a=() for a atoms | Sequences of atoms a<sub>i</sub> where A:a<sub>i</sub>=()| Y | (ker A)\\*F\\*(ker A) arbitrary functions on the space A | \n"
   ]
  },
  {
   "cell_type": "markdown",
   "id": "4c5b0737-44c7-40f3-a28f-764901f28f59",
   "metadata": {},
   "source": [
    "## pass and null \n",
    "\n",
    "pass is a space, because \n",
    "\n",
    "* pass : X Y = pass : (pass:X) Y = pass : X (pass : Y) = X Y \n",
    "\n",
    "for all data X,Y.  Since pass:X = X, pass is the space of all pure data.  Any data pass\\*F\\*pass=F is an automorphism. \n",
    "\n",
    "null is a space because \n",
    "\n",
    "* null : X Y = null : (null:X) Y = ()\n",
    "\n",
    "for any X,Y.  The automorphisms of null are null\\*F\\*null for some data F, so null is the only automorphism of itself. "
   ]
  },
  {
   "cell_type": "code",
   "execution_count": 1,
   "id": "1ea51f57-3cf4-4c74-8aa8-22ed8fb43013",
   "metadata": {},
   "outputs": [
    {
     "name": "stdout",
     "output_type": "stream",
     "text": [
      "a b c d e f\n",
      "a b c d e f"
     ]
    }
   ],
   "source": [
    "pass : (pass : a b c ) d e f \n",
    "pass : (a b c) (d e f) "
   ]
  },
  {
   "cell_type": "code",
   "execution_count": 2,
   "id": "5712a654-7198-4522-b72a-91d7cfe750d0",
   "metadata": {},
   "outputs": [
    {
     "name": "stdout",
     "output_type": "stream",
     "text": []
    }
   ],
   "source": [
    "null : (null : a b c ) d e f \n",
    "null : a b c d e f "
   ]
  },
  {
   "cell_type": "markdown",
   "id": "baa9153d-8e3c-424b-9499-66d87e0b6c5a",
   "metadata": {},
   "source": [
    "## bool \n",
    "\n",
    "bool is the space of boolean values: () for *true* and (:) for *false*.  It is a space because \n",
    "\n",
    "* bool : X Y = bool : (bool:X) Y = bool : X (bool:Y) since this is equal to () if X and Y are empty and (:) otherwise. \n",
    "\n",
    "Automorphisms of bool are the data bool\\*F\\*bool for some data F.  These are the possible functions between () (:) and () (:)."
   ]
  },
  {
   "cell_type": "code",
   "execution_count": 3,
   "id": "beb663bf-da40-436d-8de1-b9d665fe5f96",
   "metadata": {},
   "outputs": [
    {
     "name": "stdout",
     "output_type": "stream",
     "text": [
      "◎\n",
      "◎"
     ]
    }
   ],
   "source": [
    "bool : a b c (bool : d e f) \n",
    "bool : a b c d e f \n",
    "bool :"
   ]
  },
  {
   "cell_type": "markdown",
   "id": "e58b6039-907b-49e4-a025-5eabeae2d55b",
   "metadata": {},
   "source": [
    "## kernel \n",
    "\n",
    "ap ker A is the space of sequences of atoms a<sub>i</sub> where A:a<sub>i</sub>=().  It is a space because ap A is distributive for any A, and ker A is idempotent on any atom, so ap ker A is distributive and idempotent and, therefore, is a space. "
   ]
  },
  {
   "cell_type": "code",
   "execution_count": 4,
   "id": "a8ecb971-9641-40bf-ba5d-3e76b19d3afa",
   "metadata": {},
   "outputs": [
    {
     "name": "stdout",
     "output_type": "stream",
     "text": [
      "...traceback: [kernel] is already defined\n",
      "a b c"
     ]
    }
   ],
   "source": [
    "def kernel : {ap ker A : B}\n",
    "kernel pass : a b c \n",
    "kernel null : a b c \n",
    "kernel {B=2} : 1 2 3 1 2 3 "
   ]
  },
  {
   "cell_type": "markdown",
   "id": "461b9b8f-296c-495e-8ec9-2283d950e96d",
   "metadata": {},
   "source": [
    "## Length is a space\n",
    "\n",
    "If A is some data, we define the *length* of A to be the number of atoms in A, so \n",
    "\n",
    "length : (length : A) B = length : A B \n",
    "\n",
    "Meaning that length is a space.\n",
    "\n",
    "Let's work this out as a simple example."
   ]
  },
  {
   "cell_type": "code",
   "execution_count": 5,
   "id": "b6f9a65b-8d1a-4081-b55a-ba5b39c40959",
   "metadata": {},
   "outputs": [
    {
     "name": "stdout",
     "output_type": "stream",
     "text": [
      "(let type len:{some (has len:B) : (ap put len : ap one : B)})\n",
      "(let sum len:{put len : aps int_add : pre 0 : get len : B})\n",
      "(let term len:{get len:B})"
     ]
    }
   ],
   "source": [
    "#\n",
    "#  type len and sum len are spaces.  Only type len is a type. \n",
    "#\n",
    "def len:  \n",
    "let type len: {some (has len:B) : (ap put len : ap one : B)} \n",
    "let sum  len: {put len : aps int_add : pre 0 : get len : B} \n",
    "let term len: {get len:B}"
   ]
  },
  {
   "cell_type": "code",
   "execution_count": 6,
   "id": "1ec37d1b-a6a9-4c88-96e5-359d45a49619",
   "metadata": {},
   "outputs": [
    {
     "name": "stdout",
     "output_type": "stream",
     "text": [
      "(type len:a b b ab ab ab a b)"
     ]
    }
   ],
   "source": [
    "type len : a b b ab ab ab a b"
   ]
  },
  {
   "cell_type": "code",
   "execution_count": 7,
   "id": "e6c0d47f-a219-4e40-b261-69743ae314a5",
   "metadata": {},
   "outputs": [
    {
     "name": "stdout",
     "output_type": "stream",
     "text": [
      "(sum len:(type len:a b a))"
     ]
    }
   ],
   "source": [
    "sum len : type len : a b a "
   ]
  },
  {
   "cell_type": "code",
   "execution_count": 8,
   "id": "23c75e4c-63af-4c73-bff8-8062643b2e13",
   "metadata": {},
   "outputs": [
    {
     "name": "stdout",
     "output_type": "stream",
     "text": [
      "(sum len:(type len:hello world))"
     ]
    }
   ],
   "source": [
    "sum len : type len : hello world"
   ]
  },
  {
   "cell_type": "code",
   "execution_count": 9,
   "id": "9f0a0d46-32a2-4f0b-a14e-58614464896d",
   "metadata": {},
   "outputs": [
    {
     "name": "stdout",
     "output_type": "stream",
     "text": [
      "(sum len:(type len:(if (= (1:):𝝞):h e l l o) (if (= (1:):𝝞):w o r l d)))"
     ]
    }
   ],
   "source": [
    "sum len : type len : get 1? : hello world"
   ]
  },
  {
   "cell_type": "markdown",
   "id": "bf7edebf-d863-4bad-b93f-7364c9a6ca49",
   "metadata": {},
   "source": [
    "## Number of characters is a space too"
   ]
  },
  {
   "cell_type": "code",
   "execution_count": 10,
   "id": "6c259e74-99f6-44e0-89c9-d51d5d125527",
   "metadata": {},
   "outputs": [
    {
     "name": "stdout",
     "output_type": "stream",
     "text": [
      "(let type nchar:{some (has nchar:B) : ap {put nchar : count : get 1?:B} : B})\n",
      "(let sum nchar:{put nchar : aps int_add : pre 0 : get nchar : B})\n",
      "(let term nchar:{get nchar:B})"
     ]
    }
   ],
   "source": [
    "#\n",
    "#   nchar is a space too\n",
    "#\n",
    "def nchar:\n",
    "let type nchar : {some (has nchar:B) : ap {put nchar : count : get 1?:B} : B} \n",
    "let sum  nchar : {put nchar : aps int_add : pre 0 : get nchar : B} \n",
    "let term nchar : {get nchar:B} "
   ]
  },
  {
   "cell_type": "code",
   "execution_count": 11,
   "id": "bf63455b-6b63-4276-8692-6f7db7fabcb6",
   "metadata": {},
   "outputs": [
    {
     "name": "stdout",
     "output_type": "stream",
     "text": [
      "(type nchar:a b ◎ ◎ ◎ b abssg ab ab a b)"
     ]
    }
   ],
   "source": [
    "type nchar :  a b (:) (:) (:) b abssg ab ab a b"
   ]
  },
  {
   "cell_type": "code",
   "execution_count": 12,
   "id": "43bc584f-5805-4a87-b8b9-62538e810743",
   "metadata": {},
   "outputs": [
    {
     "name": "stdout",
     "output_type": "stream",
     "text": [
      "(sum nchar:(type nchar:a b ◎ ◎ ◎ b abssg ab ab a b))"
     ]
    }
   ],
   "source": [
    "sum nchar : type nchar : a b (:) (:) (:) b abssg ab ab a b"
   ]
  },
  {
   "cell_type": "code",
   "execution_count": 13,
   "id": "88c717d9-6531-4f83-9316-771d0f2aec70",
   "metadata": {},
   "outputs": [
    {
     "name": "stdout",
     "output_type": "stream",
     "text": [
      "(sum nchar:(type nchar:))"
     ]
    }
   ],
   "source": [
    "sum nchar : type nchar : "
   ]
  },
  {
   "cell_type": "markdown",
   "id": "51d082de-d1af-46db-99b4-18a5d981bafe",
   "metadata": {},
   "source": [
    "## bool\n",
    "\n",
    "bool is idempotent and distributive and is therefore a space as well. "
   ]
  },
  {
   "cell_type": "code",
   "execution_count": 14,
   "id": "71fc2d79-19ec-4d4d-b833-96cad964c817",
   "metadata": {},
   "outputs": [
    {
     "name": "stdout",
     "output_type": "stream",
     "text": [
      "◎"
     ]
    }
   ],
   "source": [
    "bool : a b c "
   ]
  },
  {
   "cell_type": "code",
   "execution_count": 15,
   "id": "f7510be9-add7-4a4c-8312-058755d58443",
   "metadata": {},
   "outputs": [
    {
     "name": "stdout",
     "output_type": "stream",
     "text": [
      "◎"
     ]
    }
   ],
   "source": [
    "bool : (bool:a b) c "
   ]
  },
  {
   "cell_type": "markdown",
   "id": "61037b5c-8e9a-4bbd-80f8-ae5b9d4f7d2d",
   "metadata": {},
   "source": [
    "## first A \n",
    "\n",
    "* first : X Y = first : (first : X) Y = first : X (first : Y)\n",
    "\n"
   ]
  },
  {
   "cell_type": "code",
   "execution_count": 16,
   "id": "0148ed7c-a489-4759-8954-8c7838b9f9e6",
   "metadata": {},
   "outputs": [
    {
     "name": "stdout",
     "output_type": "stream",
     "text": [
      "a b"
     ]
    }
   ],
   "source": [
    "first 2 : a b c d "
   ]
  },
  {
   "cell_type": "markdown",
   "id": "c875ca5e-1cb6-44a1-83bb-93fae8dc652b",
   "metadata": {},
   "source": [
    "## Ring spaces "
   ]
  },
  {
   "cell_type": "code",
   "execution_count": 17,
   "id": "866994b6-b269-477b-b50a-91b9bd06db2d",
   "metadata": {},
   "outputs": [
    {
     "name": "stdout",
     "output_type": "stream",
     "text": []
    }
   ],
   "source": [
    "def R1 : { rep | : A B }"
   ]
  },
  {
   "cell_type": "code",
   "execution_count": 26,
   "id": "cc2bd7f1-eb9e-47a5-a265-270fee6a5039",
   "metadata": {},
   "outputs": [
    {
     "name": "stdout",
     "output_type": "stream",
     "text": []
    }
   ],
   "source": [
    "let 1 : a b c \n",
    "let 2 : 1 2 3 4\n",
    "let 3 : "
   ]
  },
  {
   "cell_type": "code",
   "execution_count": 31,
   "id": "816dee68-1135-4dea-bd2f-b2843b973dab",
   "metadata": {},
   "outputs": [
    {
     "name": "stdout",
     "output_type": "stream",
     "text": [
      "| | | | | | | | | | | | | |\n",
      "| | | | | | | | | | | | | |\n",
      "| | | | | | | | | | | | | | | | | | | | |"
     ]
    }
   ],
   "source": [
    "R1 1? 2? 3? : 1? 2? \n",
    "R1 1? : R1 2? : R1 3? : R1 : 1? 2? \n",
    "R1 : (R1 1? 2? 3?:1?) (R1 1? 2? 3?:2?) "
   ]
  },
  {
   "cell_type": "code",
   "execution_count": 25,
   "id": "a17578c1-d91f-4489-8af2-818a971a3324",
   "metadata": {},
   "outputs": [
    {
     "name": "stdout",
     "output_type": "stream",
     "text": [
      "| | | | | | | | |"
     ]
    }
   ],
   "source": [
    "def R2 : {is A : B} "
   ]
  },
  {
   "cell_type": "code",
   "execution_count": 32,
   "id": "e699e144-7dae-41de-aede-3d993b77f6fd",
   "metadata": {},
   "outputs": [
    {
     "name": "stdout",
     "output_type": "stream",
     "text": []
    }
   ],
   "source": [
    "is : 1 2 3 "
   ]
  },
  {
   "cell_type": "code",
   "execution_count": 42,
   "id": "db6c2c15-75f8-4204-8a7e-5b3950916751",
   "metadata": {},
   "outputs": [
    {
     "name": "stdout",
     "output_type": "stream",
     "text": [
      "1 1 2 2 2 2"
     ]
    }
   ],
   "source": [
    "is 1 2 : is 1 2 : 1 2 3 1 2 2 2 3"
   ]
  },
  {
   "cell_type": "code",
   "execution_count": 40,
   "id": "43b1f3c6-003f-4f9e-a5c7-58c69df7295f",
   "metadata": {},
   "outputs": [
    {
     "name": "stdout",
     "output_type": "stream",
     "text": [
      "a b c"
     ]
    }
   ],
   "source": [
    "has ((:):(:)): a b c"
   ]
  },
  {
   "cell_type": "code",
   "execution_count": null,
   "id": "f27dbe9d-899b-4c31-907b-abeefed0a0f1",
   "metadata": {},
   "outputs": [],
   "source": []
  }
 ],
 "metadata": {
  "kernelspec": {
   "display_name": "coda",
   "language": "",
   "name": "coda"
  },
  "language_info": {
   "file_extension": ".co",
   "mimetype": "text/plain",
   "name": "Any text"
  }
 },
 "nbformat": 4,
 "nbformat_minor": 5
}
