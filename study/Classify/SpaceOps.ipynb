{
 "cells": [
  {
   "cell_type": "code",
   "execution_count": 1,
   "id": "0f2fdf8f-c651-4f74-9562-b0030eb8dd31",
   "metadata": {},
   "outputs": [],
   "source": [
    "from Space import Space\n",
    "from Space import Eval \n",
    "from Space import multiEval\n",
    "from Space import new_multiEval \n",
    "import Generate"
   ]
  },
  {
   "cell_type": "code",
   "execution_count": 2,
   "id": "3b8efd80-bf2c-443b-9008-194aa7b4bca7",
   "metadata": {},
   "outputs": [],
   "source": [
    "S = Generate.Gen(Generate.codas,3).space()"
   ]
  },
  {
   "cell_type": "code",
   "execution_count": 3,
   "id": "fdb3c237-9c5c-4985-8ee7-54d3fe67642e",
   "metadata": {},
   "outputs": [
    {
     "data": {
      "text/plain": [
       "eval: False, true: 0, false:0, undecided:0, codas:143, datas:11568"
      ]
     },
     "execution_count": 3,
     "metadata": {},
     "output_type": "execute_result"
    }
   ],
   "source": [
    "S"
   ]
  },
  {
   "cell_type": "code",
   "execution_count": 4,
   "id": "26e910f5-e202-4c9a-9656-330360eb7546",
   "metadata": {},
   "outputs": [],
   "source": [
    "Even = Generate.EvenAtoms(2)"
   ]
  },
  {
   "cell_type": "code",
   "execution_count": 5,
   "id": "6ae15ad0-67cf-4192-a080-f6f019975313",
   "metadata": {},
   "outputs": [],
   "source": [
    "SE = S.apply(Even)"
   ]
  },
  {
   "cell_type": "code",
   "execution_count": 6,
   "id": "9e03ac6b-e6f2-4f3e-b6bc-bb25d5016102",
   "metadata": {},
   "outputs": [],
   "source": [
    "S1 = Space(*[d for d in SE])\n",
    "SE_split = [X for X in SE.split(1000)]\n",
    "#S1.eval(100)"
   ]
  },
  {
   "cell_type": "code",
   "execution_count": 7,
   "id": "bf2c98da-1c5a-4aa1-8cf2-9dca748c358f",
   "metadata": {},
   "outputs": [
    {
     "data": {
      "text/plain": [
       "eval: False, true: 0, false:0, undecided:0, codas:23136, datas:23136"
      ]
     },
     "execution_count": 7,
     "metadata": {},
     "output_type": "execute_result"
    }
   ],
   "source": [
    "S1"
   ]
  },
  {
   "cell_type": "code",
   "execution_count": 8,
   "id": "0f29582a-86a4-485f-97a5-dcdd99c9ae01",
   "metadata": {},
   "outputs": [],
   "source": [
    "#from multiprocessing.pool import ThreadPool as Pool\n",
    "from multiprocessing.pool import Pool \n",
    "\n",
    "#def feval(T): return T.eval(100)\n",
    "    \n",
    "pool = Pool(10)\n",
    "results = []\n",
    "for result in pool.imap_unordered(Eval,SE_split): results.append(result)"
   ]
  },
  {
   "cell_type": "code",
   "execution_count": 9,
   "id": "e33ef880-7b55-463e-b3ba-efd5193bd51d",
   "metadata": {},
   "outputs": [],
   "source": [
    "Idemp = Space.sum(*results)"
   ]
  },
  {
   "cell_type": "code",
   "execution_count": 10,
   "id": "99e60f36-26e5-455c-b2c3-9b5e99818557",
   "metadata": {},
   "outputs": [
    {
     "data": {
      "text/plain": [
       "eval: True, true: 5541, false:13792, undecided:3803, codas:23136, datas:23136"
      ]
     },
     "execution_count": 10,
     "metadata": {},
     "output_type": "execute_result"
    }
   ],
   "source": [
    "Idemp"
   ]
  },
  {
   "cell_type": "code",
   "execution_count": 11,
   "id": "1ce01f61-a7a5-4904-b448-e8c6b097d698",
   "metadata": {},
   "outputs": [],
   "source": [
    "results2 = multiEval(SE_split)"
   ]
  },
  {
   "cell_type": "code",
   "execution_count": 12,
   "id": "2e56f8c3-9694-41ed-abc7-d26eb3a45ab8",
   "metadata": {},
   "outputs": [],
   "source": [
    "Idemp2 = Space.sum(*results2)"
   ]
  },
  {
   "cell_type": "code",
   "execution_count": 13,
   "id": "bb23f66a-6093-49a1-9a2f-3b452574694b",
   "metadata": {},
   "outputs": [
    {
     "data": {
      "text/plain": [
       "eval: True, true: 5541, false:13792, undecided:3803, codas:23136, datas:23136"
      ]
     },
     "execution_count": 13,
     "metadata": {},
     "output_type": "execute_result"
    }
   ],
   "source": [
    "Idemp2"
   ]
  },
  {
   "cell_type": "code",
   "execution_count": 17,
   "id": "a9929bc4-fa04-4f1a-a3bf-da52ccfa9d98",
   "metadata": {},
   "outputs": [],
   "source": [
    "Idemp3 = new_multiEval(SE,18)"
   ]
  },
  {
   "cell_type": "code",
   "execution_count": 18,
   "id": "906ca3e4-1fbe-4a2e-92f1-abe5c83d9505",
   "metadata": {},
   "outputs": [
    {
     "data": {
      "text/plain": [
       "eval: True, true: 5541, false:13792, undecided:3803, codas:23136, datas:23136"
      ]
     },
     "execution_count": 18,
     "metadata": {},
     "output_type": "execute_result"
    }
   ],
   "source": [
    "Idemp3"
   ]
  },
  {
   "cell_type": "code",
   "execution_count": null,
   "id": "5f0b4a4d-fd15-4951-95f5-8d58ee59d6c9",
   "metadata": {},
   "outputs": [],
   "source": []
  }
 ],
 "metadata": {
  "kernelspec": {
   "display_name": "Python 3 (ipykernel)",
   "language": "python",
   "name": "python3"
  },
  "language_info": {
   "codemirror_mode": {
    "name": "ipython",
    "version": 3
   },
   "file_extension": ".py",
   "mimetype": "text/x-python",
   "name": "python",
   "nbconvert_exporter": "python",
   "pygments_lexer": "ipython3",
   "version": "3.11.1"
  }
 },
 "nbformat": 4,
 "nbformat_minor": 5
}
