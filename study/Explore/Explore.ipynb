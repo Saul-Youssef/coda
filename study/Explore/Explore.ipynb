{
 "cells": [
  {
   "cell_type": "markdown",
   "id": "53ad23c4-ccf7-45bf-9c1f-3b02a27e63be",
   "metadata": {},
   "source": [
    "# Exploration\n",
    "\n",
    "This is going to be a general exploration of some data, particularly exercising the Set module.\n",
    "\n",
    "The Sample module also can generate all pure data up to specified with and depth, but this results in enormous data samples and it's impractical to search deep enough to hit the built in definitions.  \n",
    "\n",
    "We will look for data using the samples available from the Set module:\n",
    "\n",
    "1. nilpotents A^n:X = ()\n",
    "2. involutions A:A:X = X\n",
    "3. idempotents A:A:X = A:X\n",
    "4. distributive A:X Y = (A:X) (A:Y)\n",
    "5. space A:(A:X) (A:Y) = A:X Y\n",
    "6. morphism from A to B F:A:X = B:F:X \n"
   ]
  },
  {
   "cell_type": "code",
   "execution_count": 1,
   "id": "6febcc0e-0818-49b8-bc6f-5194eadbdf07",
   "metadata": {
    "tags": []
   },
   "outputs": [],
   "source": [
    "from base import * \n",
    "import Sample,Set \n",
    "\n",
    "DOMAIN = Sample.Domain(*Sample.codas)\n",
    "TINY = Set.Set(*[data(c) for c in Sample.codas])\n",
    "S21 = Set.Set(*DOMAIN.window(2,1))\n",
    "S31 = Set.Set(*DOMAIN.window(3,1))\n",
    "S22 = Set.Set(*DOMAIN.window(2,2)) \n",
    "PURE = Sample.pure(2,2)\n",
    "#S41 = Set.Set(*DOMAIN.window(4,1))\n",
    "#\n",
    "#     The evaluation depth is controlled by these \n",
    "#\n",
    "e10   = Set.eval10\n",
    "e100  = Set.eval100  \n",
    "e1000 = Set.eval1000  \n",
    "#\n",
    "#    Samples of (:) \"hydrogen atoms\"\n",
    "#\n",
    "def atoms(n): return Sample.oddAtoms(n)+Sample.evenAtoms(n)"
   ]
  },
  {
   "cell_type": "code",
   "execution_count": 2,
   "id": "da1db52f-c828-4043-82d5-0ba5e83c988e",
   "metadata": {
    "tags": []
   },
   "outputs": [
    {
     "name": "stdout",
     "output_type": "stream",
     "text": [
      "0 1 nth1\n",
      "collect put a\n",
      "int_mult get1 and\n",
      "2 one ap\n",
      "domain apby int_add\n",
      "bool int_min rep\n",
      "pass get1 ap2\n",
      "count imply 𝝞\n",
      "ap2 aps one\n",
      "= ◎ first\n"
     ]
    }
   ],
   "source": [
    "for s in S31.sample(10): print(s)"
   ]
  },
  {
   "cell_type": "markdown",
   "id": "0b5defa5-de70-4538-8602-f88260b159e4",
   "metadata": {},
   "source": [
    "A zeroth order study is to find out if any of the base codas have algebraic properties.  The base codas are in TINY."
   ]
  },
  {
   "cell_type": "code",
   "execution_count": 3,
   "id": "a6501f70-0189-44e8-938d-e7fee3606654",
   "metadata": {
    "tags": []
   },
   "outputs": [
    {
     "data": {
      "text/plain": [
       "'◎,𝟬,𝝞,nat,one,count,int1,nat1,int_add,int_mult,int_diff,int_max,int_min,int_sort,int_inv,pass,null,bin,domain,if,put,has1,get1,*,some,rev,first,tail,last,rep,nth1,pre,post,bool,not,=,or,and,nor,xor,nand,xnor,iff,imply,ap,app,ap2,aps,apby,apif,equiv,collect,counts,0,1,2,3,a,b,A,B,?'"
      ]
     },
     "execution_count": 3,
     "metadata": {},
     "output_type": "execute_result"
    }
   ],
   "source": [
    "','.join([str(t) for t in TINY])"
   ]
  },
  {
   "cell_type": "code",
   "execution_count": 4,
   "id": "4b49dc6e-1df3-493c-9ee6-fd6047da9455",
   "metadata": {
    "tags": []
   },
   "outputs": [
    {
     "name": "stdout",
     "output_type": "stream",
     "text": [
      "3969 20 20\n"
     ]
    }
   ],
   "source": [
    "SEARCH = S21\n",
    "DOM1 = S22.sample(10)+atoms(5) \n",
    "DOM2 = S22.sample(10)+atoms(5)\n",
    "#DOM1 = S22.sample(20)+atoms(5)+PURE.sample(10) \n",
    "#DOM2 = S22.sample(20)+atoms(5)+PURE.sample(10)\n",
    "print(len(SEARCH),len(DOM1),len(DOM2))"
   ]
  },
  {
   "cell_type": "code",
   "execution_count": 5,
   "id": "8828a4b6-3222-4e3f-b502-371c2a666e01",
   "metadata": {},
   "outputs": [],
   "source": [
    "def pr(x): \n",
    "    L = [str(xx) for xx in x.empty()]\n",
    "    L.sort()\n",
    "    print(str(len(L))+' '+','.join(L))"
   ]
  },
  {
   "cell_type": "code",
   "execution_count": null,
   "id": "9377db71-b572-486a-8751-1b466bb375da",
   "metadata": {},
   "outputs": [],
   "source": [
    "equivalence = S21.equivalence(atoms(2),atoms(2),atoms(2)).multieval(e100)\n",
    "pr(equivalence) "
   ]
  },
  {
   "cell_type": "code",
   "execution_count": 11,
   "id": "a9c9d024-c7c6-451d-b120-ba4b31188861",
   "metadata": {},
   "outputs": [],
   "source": [
    "E2 = equivalence.empty()\n",
    "E3 = E2.equivalence(DOM1,DOM1,DOM1)"
   ]
  },
  {
   "cell_type": "code",
   "execution_count": 15,
   "id": "3a5a53b3-89a5-4f4f-a871-e2c5b36bba5f",
   "metadata": {},
   "outputs": [
    {
     "name": "stdout",
     "output_type": "stream",
     "text": [
      "nand int1\n",
      "bin some\n",
      "aps first\n",
      "= has1\n",
      "xor int_inv\n"
     ]
    }
   ],
   "source": [
    "for s in S21.sample(5): print(s)"
   ]
  },
  {
   "cell_type": "code",
   "execution_count": null,
   "id": "18a7b421-28df-4e31-9d5d-346c2f0f6d70",
   "metadata": {
    "tags": []
   },
   "outputs": [],
   "source": [
    "idempotent = SEARCH.idempotent(DOM1).multieval(e100)\n",
    "pr(idempotent)"
   ]
  },
  {
   "cell_type": "code",
   "execution_count": 7,
   "id": "ab4daa92-ec3b-4a62-aff2-9163a3133023",
   "metadata": {
    "collapsed": true,
    "jupyter": {
     "outputs_hidden": true
    },
    "tags": []
   },
   "outputs": [
    {
     "name": "stdout",
     "output_type": "stream",
     "text": [
      "214 ap2,ap2 *,ap2 0,ap2 1,ap2 2,ap2 3,ap2 =,ap2 ?,ap2 A,ap2 B,ap2 a,ap2 and,ap2 ap,ap2 ap2,ap2 apby,ap2 apif,ap2 app,ap2 aps,ap2 b,ap2 bin,ap2 bool,ap2 collect,ap2 count,ap2 counts,ap2 domain,ap2 equiv,ap2 first,ap2 get1,ap2 has1,ap2 if,ap2 iff,ap2 imply,ap2 int1,ap2 int_add,ap2 int_diff,ap2 int_inv,ap2 int_max,ap2 int_min,ap2 int_mult,ap2 int_sort,ap2 last,ap2 nand,ap2 nat,ap2 nat1,ap2 nor,ap2 not,ap2 nth1,ap2 null,ap2 one,ap2 or,ap2 pass,ap2 post,ap2 pre,ap2 put,ap2 rep,ap2 rev,ap2 some,ap2 tail,ap2 xnor,ap2 xor,ap2 ◎,ap2 𝝞,ap2 𝟬,app,app ap2,app app,app int_add,app int_diff,app int_max,app int_min,app int_mult,app null,first 0,first 𝟬,if *,if 0,if 1,if 2,if 3,if =,if ?,if A,if B,if a,if and,if ap,if ap2,if apby,if apif,if app,if aps,if b,if bin,if bool,if collect,if count,if counts,if domain,if equiv,if first,if get1,if has1,if if,if iff,if imply,if int1,if int_add,if int_diff,if int_inv,if int_max,if int_min,if int_mult,if int_sort,if last,if nand,if nat,if nat1,if nor,if not,if nth1,if null,if one,if or,if pass,if post,if pre,if put,if rep,if rev,if some,if tail,if xnor,if xor,if ◎,if 𝝞,if 𝟬,int_add,int_diff,int_max,int_min,int_mult,last 0,last 𝟬,null,null *,null 0,null 1,null 2,null 3,null =,null ?,null A,null B,null a,null and,null ap,null ap2,null apby,null apif,null app,null aps,null b,null bin,null bool,null collect,null count,null counts,null domain,null equiv,null first,null get1,null has1,null if,null iff,null imply,null int1,null int_add,null int_diff,null int_inv,null int_max,null int_min,null int_mult,null int_sort,null last,null nand,null nat,null nat1,null nor,null not,null nth1,null null,null one,null or,null pass,null post,null pre,null put,null rep,null rev,null some,null tail,null xnor,null xor,null ◎,null 𝝞,null 𝟬,put ap2,put app,put int_add,put int_diff,put int_max,put int_min,put int_mult,put null\n"
     ]
    }
   ],
   "source": [
    "nilpotent = SEARCH.nilpotent(1,DOM1).multieval(e100) \n",
    "pr(nilpotent)"
   ]
  },
  {
   "cell_type": "code",
   "execution_count": 8,
   "id": "600865c8-f774-4561-8d28-bf3d59231a64",
   "metadata": {
    "collapsed": true,
    "jupyter": {
     "outputs_hidden": true
    },
    "tags": []
   },
   "outputs": [
    {
     "name": "stdout",
     "output_type": "stream",
     "text": [
      "77 app if,app pass,app post,app pre,app some,if,pass,pass *,pass 0,pass 1,pass 2,pass 3,pass =,pass ?,pass A,pass B,pass a,pass and,pass ap,pass ap2,pass apby,pass apif,pass app,pass aps,pass b,pass bin,pass bool,pass collect,pass count,pass counts,pass domain,pass equiv,pass first,pass get1,pass has1,pass if,pass iff,pass imply,pass int1,pass int_add,pass int_diff,pass int_inv,pass int_max,pass int_min,pass int_mult,pass int_sort,pass last,pass nand,pass nat,pass nat1,pass nor,pass not,pass nth1,pass null,pass one,pass or,pass pass,pass post,pass pre,pass put,pass rep,pass rev,pass some,pass tail,pass xnor,pass xor,pass ◎,pass 𝝞,pass 𝟬,post,pre,put if,put pass,put post,put pre,put some,some\n"
     ]
    }
   ],
   "source": [
    "involution = SEARCH.involution(1,DOM1).multieval(e100)\n",
    "pr(involution)"
   ]
  },
  {
   "cell_type": "code",
   "execution_count": 9,
   "id": "27153055-b647-4fce-a2ef-91182aee1908",
   "metadata": {
    "collapsed": true,
    "jupyter": {
     "outputs_hidden": true
    },
    "tags": []
   },
   "outputs": [
    {
     "name": "stdout",
     "output_type": "stream",
     "text": [
      "353 ap2,ap2 *,ap2 0,ap2 1,ap2 2,ap2 3,ap2 =,ap2 ?,ap2 A,ap2 B,ap2 a,ap2 and,ap2 ap,ap2 ap2,ap2 apby,ap2 apif,ap2 app,ap2 aps,ap2 b,ap2 bin,ap2 bool,ap2 collect,ap2 count,ap2 counts,ap2 domain,ap2 equiv,ap2 first,ap2 get1,ap2 has1,ap2 if,ap2 iff,ap2 imply,ap2 int1,ap2 int_add,ap2 int_diff,ap2 int_inv,ap2 int_max,ap2 int_min,ap2 int_mult,ap2 int_sort,ap2 last,ap2 nand,ap2 nat,ap2 nat1,ap2 nor,ap2 not,ap2 nth1,ap2 null,ap2 one,ap2 or,ap2 pass,ap2 post,ap2 pre,ap2 put,ap2 rep,ap2 rev,ap2 some,ap2 tail,ap2 xnor,ap2 xor,ap2 ◎,ap2 𝝞,ap2 𝟬,app,app ap2,app app,app if,app int_add,app int_diff,app int_max,app int_min,app int_mult,app null,app pass,app post,app pre,app some,first 0,first 𝟬,if,if *,if 0,if 1,if 2,if 3,if =,if ?,if A,if B,if a,if and,if ap,if ap2,if apby,if apif,if app,if aps,if b,if bin,if bool,if collect,if count,if counts,if domain,if equiv,if first,if get1,if has1,if if,if iff,if imply,if int1,if int_add,if int_diff,if int_inv,if int_max,if int_min,if int_mult,if int_sort,if last,if nand,if nat,if nat1,if nor,if not,if nth1,if null,if one,if or,if pass,if post,if pre,if put,if rep,if rev,if some,if tail,if xnor,if xor,if ◎,if 𝝞,if 𝟬,int_add,int_diff,int_max,int_min,int_mult,last 0,last 𝟬,null,null *,null 0,null 1,null 2,null 3,null =,null ?,null A,null B,null a,null and,null ap,null ap2,null apby,null apif,null app,null aps,null b,null bin,null bool,null collect,null count,null counts,null domain,null equiv,null first,null get1,null has1,null if,null iff,null imply,null int1,null int_add,null int_diff,null int_inv,null int_max,null int_min,null int_mult,null int_sort,null last,null nand,null nat,null nat1,null nor,null not,null nth1,null null,null one,null or,null pass,null post,null pre,null put,null rep,null rev,null some,null tail,null xnor,null xor,null ◎,null 𝝞,null 𝟬,pass,pass *,pass 0,pass 1,pass 2,pass 3,pass =,pass ?,pass A,pass B,pass a,pass and,pass ap,pass ap2,pass apby,pass apif,pass app,pass aps,pass b,pass bin,pass bool,pass collect,pass count,pass counts,pass domain,pass equiv,pass first,pass get1,pass has1,pass if,pass iff,pass imply,pass int1,pass int_add,pass int_diff,pass int_inv,pass int_max,pass int_min,pass int_mult,pass int_sort,pass last,pass nand,pass nat,pass nat1,pass nor,pass not,pass nth1,pass null,pass one,pass or,pass pass,pass post,pass pre,pass put,pass rep,pass rev,pass some,pass tail,pass xnor,pass xor,pass ◎,pass 𝝞,pass 𝟬,post,pre,put ap2,put app,put if,put int_add,put int_diff,put int_max,put int_min,put int_mult,put null,put pass,put post,put pre,put some,some,some *,some 0,some 1,some 2,some 3,some =,some ?,some A,some B,some a,some and,some ap,some ap2,some apby,some apif,some app,some aps,some b,some bin,some bool,some collect,some count,some counts,some domain,some equiv,some first,some get1,some has1,some if,some iff,some imply,some int1,some int_add,some int_diff,some int_inv,some int_max,some int_min,some int_mult,some int_sort,some last,some nand,some nat,some nat1,some nor,some not,some nth1,some null,some one,some or,some pass,some post,some pre,some put,some rep,some rev,some some,some tail,some xnor,some xor,some ◎,some 𝝞,some 𝟬\n"
     ]
    }
   ],
   "source": [
    "space = SEARCH.space(DOM1,DOM2).multieval(e100)\n",
    "pr(space)"
   ]
  }
 ],
 "metadata": {
  "kernelspec": {
   "display_name": "Python 3 (ipykernel)",
   "language": "python",
   "name": "python3"
  },
  "language_info": {
   "codemirror_mode": {
    "name": "ipython",
    "version": 3
   },
   "file_extension": ".py",
   "mimetype": "text/x-python",
   "name": "python",
   "nbconvert_exporter": "python",
   "pygments_lexer": "ipython3",
   "version": "3.10.7"
  }
 },
 "nbformat": 4,
 "nbformat_minor": 5
}
