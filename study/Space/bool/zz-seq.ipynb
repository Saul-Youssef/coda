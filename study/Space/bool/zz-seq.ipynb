{
 "cells": [
  {
   "cell_type": "code",
   "execution_count": 1,
   "id": "1cac3b8e-235e-4263-8b65-99473d3371e4",
   "metadata": {},
   "outputs": [
    {
     "name": "stdout",
     "output_type": "stream",
     "text": [
      "(defaultTime:5)"
     ]
    }
   ],
   "source": [
    "defaultTime:5"
   ]
  },
  {
   "cell_type": "code",
   "execution_count": 2,
   "id": "517a70b8-2df8-4eae-a44f-c2994d9ccd25",
   "metadata": {},
   "outputs": [
    {
     "name": "stdout",
     "output_type": "stream",
     "text": []
    }
   ],
   "source": [
    "import : dir co : up : ."
   ]
  },
  {
   "cell_type": "code",
   "execution_count": 3,
   "id": "f28ad734-584a-4bf4-919a-58cc38b18e58",
   "metadata": {},
   "outputs": [
    {
     "name": "stdout",
     "output_type": "stream",
     "text": []
    }
   ],
   "source": [
    "#\n",
    "#  b is an atom to hold single boolean values \n",
    "#  L is the space of sequences of boolean values \n",
    "#  L2 is the space of sequences of boolean values with length <=2\n",
    "#  (E:X) is an endomorphism of L2 \n",
    "#  (e:X) is the special case of an \"inner\" endomorphism of L2 \n",
    "#\n",
    "Def b:\n",
    "Def L : Seq b : bool \n",
    "Def E : End L \n",
    "Def e : {End L : Down b : B}"
   ]
  },
  {
   "cell_type": "code",
   "execution_count": 4,
   "id": "e2172554-9e43-42bc-a98c-d3eab4a26a7c",
   "metadata": {},
   "outputs": [
    {
     "name": "stdout",
     "output_type": "stream",
     "text": [
      "(b:◎) (b:) (b:) (b:◎) (b:)\n",
      "(b:◎) (b:) (b:) (b:◎) (b:)\n",
      "(b:◎) (b:) (b:) (b:◎) (b:)"
     ]
    }
   ],
   "source": [
    "# \n",
    "#   L is a space \n",
    "#\n",
    "L : (b:(:)) (b:) (b:) (b:(:)) (b:)\n",
    "L : L : (b:(:)) (b:) (b:) (b:(:)) (b:)\n",
    "L : (L : (b:(:)) (b:)) (L : (b:) (b:(:)) (b:) )"
   ]
  },
  {
   "cell_type": "code",
   "execution_count": 5,
   "id": "3fc31046-226a-4a0f-bb3e-38b9bdab49c4",
   "metadata": {},
   "outputs": [
    {
     "name": "stdout",
     "output_type": "stream",
     "text": []
    }
   ],
   "source": [
    "#\n",
    "#   Enumerate up to width 3 \n",
    "#\n",
    "Let S: aq permutation 0 1 2 3 : (b:) (b:(:))"
   ]
  },
  {
   "cell_type": "code",
   "execution_count": 6,
   "id": "432da699-db76-4254-893a-bb68838cd936",
   "metadata": {},
   "outputs": [
    {
     "name": "stdout",
     "output_type": "stream",
     "text": [
      "◎ (:(b:)) (:(b:◎)) (:(b:) (b:)) (:(b:) (b:◎)) (:(b:◎) (b:)) (:(b:◎) (b:◎)) (:(b:) (b:) (b:)) (:(b:) (b:) (b:◎)) (:(b:) (b:◎) (b:)) (:(b:) (b:◎) (b:◎)) (:(b:◎) (b:) (b:)) (:(b:◎) (b:) (b:◎)) (:(b:◎) (b:◎) (b:)) (:(b:◎) (b:◎) (b:◎))"
     ]
    }
   ],
   "source": [
    "S?"
   ]
  },
  {
   "cell_type": "code",
   "execution_count": 7,
   "id": "d390eb4d-5918-481e-95c1-f8d6b65dda80",
   "metadata": {},
   "outputs": [
    {
     "name": "stdout",
     "output_type": "stream",
     "text": []
    }
   ],
   "source": [
    "#\n",
    "#   Start with the inner endomorphisms from L2 \n",
    "#\n",
    "Def TRUE  : (e:const ()) \n",
    "Def FALSE : (e:const (:))\n",
    "Def OR    : (e:not)\n",
    "Def NOR   : (e:bool) \n",
    "Def NAND  : (e:width | |)\n",
    "Def XNOR  : (e:width | )\n",
    "Def AND   : (e:(not*(width | |)))\n",
    "Def XOR   : (e:(not*(width |))) \n",
    "Let endos : ap : TRUE FALSE OR NOR NAND XNOR AND XOR "
   ]
  },
  {
   "cell_type": "code",
   "execution_count": 8,
   "id": "4d8f40ef-cd54-46f5-b388-b82ef9bfcb10",
   "metadata": {},
   "outputs": [
    {
     "name": "stdout",
     "output_type": "stream",
     "text": [
      " (with TRUE FALSE:◎) \n",
      " (with TRUE OR:◎) \n",
      " (with TRUE NOR:) \n",
      " (with TRUE NAND:) \n",
      " (with TRUE XNOR:) \n",
      " (with TRUE AND:◎) \n",
      " (with TRUE XOR:◎) \n",
      " (with FALSE OR:◎) \n",
      " (with FALSE NOR:) \n",
      " (with FALSE NAND:◎) \n",
      " (with FALSE XNOR:) \n",
      " (with FALSE AND:) \n",
      " (with FALSE XOR:◎) \n",
      " (with OR NOR:) \n",
      " (with OR NAND:◎) \n",
      " (with OR XNOR:◎) \n",
      " (with OR AND:◎) \n",
      " (with OR XOR:◎) \n",
      " (with NOR NAND:◎) \n",
      " (with NOR XNOR:◎) \n",
      " (with NOR AND:◎) \n",
      " (with NOR XOR:◎) \n",
      " (with NAND XNOR:◎) \n",
      " (with NAND AND:◎) \n",
      " (with NAND XOR:◎) \n",
      " (with XNOR AND:◎) \n",
      " (with XNOR XOR:) \n",
      " (with AND XOR:◎) \n",
      "\n",
      "1 1 0 0 0 1 1 1 0 1 0 0 1 0 1 1 1 1 1 1 1 1 1 1 1 1 0 1"
     ]
    }
   ],
   "source": [
    "tab : dom 200 : ap {with (get:get:B) : bool : commutator (get:B) : S?} : combination 2 : endos?\n",
    "ap {count:right:B} : dom 200 : ap {with (get:get:B) : bool : commutator (get:B) : S?} : combination 2 : endos?"
   ]
  },
  {
   "cell_type": "code",
   "execution_count": 16,
   "id": "9438e2f9-16f2-4b3e-98bd-dc1c016b56f7",
   "metadata": {},
   "outputs": [
    {
     "name": "stdout",
     "output_type": "stream",
     "text": []
    }
   ],
   "source": [
    "Def spec : ap {A:get:B}  "
   ]
  },
  {
   "cell_type": "code",
   "execution_count": 19,
   "id": "85e3cbf2-f6dd-4591-a4f9-e4d3ead33d8e",
   "metadata": {},
   "outputs": [
    {
     "name": "stdout",
     "output_type": "stream",
     "text": [
      "(b:◎) (b:◎) (b:◎) (b:◎) (b:◎) (b:◎) (b:) (b:◎) (b:◎) (b:◎) (b:) (b:◎) (b:) (b:) (b:◎)\n",
      "(b:◎) (b:◎) (b:) (b:◎) (b:) (b:) (b:) (b:◎) (b:) (b:) (b:) (b:) (b:) (b:) (b:)\n",
      "(b:) (b:) (b:◎) (b:) (b:◎) (b:◎) (b:◎) (b:) (b:◎) (b:◎) (b:◎) (b:◎) (b:◎) (b:◎) (b:◎)"
     ]
    }
   ],
   "source": [
    "spec AND : S?\n",
    "spec OR  : S?\n",
    "spec NOR : S?"
   ]
  },
  {
   "cell_type": "code",
   "execution_count": 25,
   "id": "99993d65-3da2-42e9-91f5-721b66533b7e",
   "metadata": {},
   "outputs": [
    {
     "name": "stdout",
     "output_type": "stream",
     "text": [
      "◎ ◎"
     ]
    }
   ],
   "source": [
    "{nif ((count:B)=3):B} : (:) (:) "
   ]
  },
  {
   "cell_type": "code",
   "execution_count": 28,
   "id": "a07a89dd-964e-4a89-a0e3-718ac9bc1868",
   "metadata": {},
   "outputs": [
    {
     "name": "stdout",
     "output_type": "stream",
     "text": [
      "(b:) (b:) (b:◎) (b:) (b:◎) (b:◎) (b:◎) (b:) (b:◎) (b:◎) (b:◎) (b:◎) (b:◎) (b:◎) (b:)\n",
      "(b:) (b:) (b:◎) (b:) (b:◎) (b:◎) (b:) (b:) (b:◎) (b:◎) (b:) (b:◎) (b:) (b:) (b:◎)"
     ]
    }
   ],
   "source": [
    "spec (e:{nif ((count:B)=3):B}) : S?\n",
    "spec (e:{nif ((count:B)=2):B}) : S?"
   ]
  },
  {
   "cell_type": "code",
   "execution_count": 27,
   "id": "f4f53eb9-0972-48b8-8176-34771b4bb07f",
   "metadata": {},
   "outputs": [
    {
     "name": "stdout",
     "output_type": "stream",
     "text": [
      " ◎ \n",
      " (:(b:)) \n",
      " (:(b:◎)) \n",
      " (:(b:) (b:)) \n",
      " (:(b:) (b:◎)) \n",
      " (:(b:◎) (b:)) \n",
      " (:(b:◎) (b:◎)) \n",
      " (:(b:) (b:) (b:)) \n",
      " (:(b:) (b:) (b:◎)) \n",
      " (:(b:) (b:◎) (b:)) \n",
      " (:(b:) (b:◎) (b:◎)) \n",
      " (:(b:◎) (b:) (b:)) \n",
      " (:(b:◎) (b:) (b:◎)) \n",
      " (:(b:◎) (b:◎) (b:)) \n",
      " (:(b:◎) (b:◎) (b:◎)) \n"
     ]
    }
   ],
   "source": [
    "tab : S?"
   ]
  },
  {
   "cell_type": "code",
   "execution_count": 33,
   "id": "b9dbbe7c-a20a-44c3-a2d5-983575d4270e",
   "metadata": {},
   "outputs": [
    {
     "name": "stdout",
     "output_type": "stream",
     "text": [
      "◎"
     ]
    }
   ],
   "source": [
    "not : width | | : a b b "
   ]
  },
  {
   "cell_type": "code",
   "execution_count": null,
   "id": "9932317c-c669-46db-82cd-de966d02f1c7",
   "metadata": {},
   "outputs": [],
   "source": []
  }
 ],
 "metadata": {
  "kernelspec": {
   "display_name": "coda",
   "language": "",
   "name": "coda"
  },
  "language_info": {
   "file_extension": ".co",
   "mimetype": "text/plain",
   "name": "Any text"
  }
 },
 "nbformat": 4,
 "nbformat_minor": 5
}
