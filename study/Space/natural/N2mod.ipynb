{
 "cells": [
  {
   "cell_type": "code",
   "execution_count": null,
   "id": "7484c629-a52d-4aab-ae9f-48f1bc248d62",
   "metadata": {},
   "outputs": [],
   "source": [
    "defaultTime:1000"
   ]
  },
  {
   "cell_type": "code",
   "execution_count": 2,
   "id": "9e8e5a9d-5104-4497-a8b3-cb24d3826aa7",
   "metadata": {},
   "outputs": [
    {
     "name": "stdout",
     "output_type": "stream",
     "text": []
    }
   ],
   "source": [
    "import : dir co : up : ."
   ]
  },
  {
   "cell_type": "code",
   "execution_count": 3,
   "id": "aa802190-b366-4599-9df5-dc20162ff480",
   "metadata": {},
   "outputs": [
    {
     "name": "stdout",
     "output_type": "stream",
     "text": []
    }
   ],
   "source": [
    "Def N : (while front | |) * (ap const |) "
   ]
  },
  {
   "cell_type": "code",
   "execution_count": 4,
   "id": "cc245c30-627c-4615-b848-499cc6052154",
   "metadata": {},
   "outputs": [
    {
     "name": "stdout",
     "output_type": "stream",
     "text": []
    }
   ],
   "source": [
    "N : "
   ]
  },
  {
   "cell_type": "code",
   "execution_count": 5,
   "id": "d69ee14b-e2d1-42e9-8cb0-747ccc0527f0",
   "metadata": {},
   "outputs": [
    {
     "name": "stdout",
     "output_type": "stream",
     "text": [
      "| |\n",
      "| |\n",
      "| |"
     ]
    }
   ],
   "source": [
    "N : a b c \n",
    "N : N : a b c \n",
    "N : (N : a) (N : b c) "
   ]
  },
  {
   "cell_type": "code",
   "execution_count": 6,
   "id": "f646169b-cac2-4a6e-891e-377e01b5eb2c",
   "metadata": {},
   "outputs": [
    {
     "name": "stdout",
     "output_type": "stream",
     "text": []
    }
   ],
   "source": [
    "Def e : end N "
   ]
  },
  {
   "cell_type": "code",
   "execution_count": 7,
   "id": "5e4ab27d-a5fd-4255-9992-975c7985d7d0",
   "metadata": {},
   "outputs": [
    {
     "name": "stdout",
     "output_type": "stream",
     "text": [
      "| |"
     ]
    }
   ],
   "source": [
    "(e:pass) : | | | "
   ]
  },
  {
   "cell_type": "code",
   "execution_count": 8,
   "id": "574b1f19-e6c9-4884-b8d4-ea8de546d8d2",
   "metadata": {},
   "outputs": [
    {
     "name": "stdout",
     "output_type": "stream",
     "text": []
    }
   ],
   "source": [
    "Let Domain : (:) (:|) (:| |)"
   ]
  },
  {
   "cell_type": "code",
   "execution_count": 9,
   "id": "8c96082b-a6d6-44ad-ac36-ac858c01ddf1",
   "metadata": {},
   "outputs": [
    {
     "name": "stdout",
     "output_type": "stream",
     "text": [
      "(:◎ ◎ ◎) (:◎ ◎ (:|)) (:◎ ◎ (:| |)) (:◎ (:|) ◎) (:◎ (:|) (:|)) (:◎ (:|) (:| |)) (:◎ (:| |) ◎) (:◎ (:| |) (:|)) (:◎ (:| |) (:| |)) (:(:|) ◎ ◎) (:(:|) ◎ (:|)) (:(:|) ◎ (:| |)) (:(:|) (:|) ◎) (:(:|) (:|) (:|)) (:(:|) (:|) (:| |)) (:(:|) (:| |) ◎) (:(:|) (:| |) (:|)) (:(:|) (:| |) (:| |)) (:(:| |) ◎ ◎) (:(:| |) ◎ (:|)) (:(:| |) ◎ (:| |)) (:(:| |) (:|) ◎) (:(:| |) (:|) (:|)) (:(:| |) (:|) (:| |)) (:(:| |) (:| |) ◎) (:(:| |) (:| |) (:|)) (:(:| |) (:| |) (:| |))"
     ]
    }
   ],
   "source": [
    "permutation 3 : Domain?"
   ]
  },
  {
   "cell_type": "code",
   "execution_count": 10,
   "id": "1a72ff04-69c2-40f0-b4df-93dfc2ba2246",
   "metadata": {},
   "outputs": [
    {
     "name": "stdout",
     "output_type": "stream",
     "text": []
    }
   ],
   "source": [
    "Def F : {(if (B):(get:nth 1:A)) (if (B=|):(get:nth 2:A)) (if (B=(| |)):(get:nth 3:A))}"
   ]
  },
  {
   "cell_type": "code",
   "execution_count": 11,
   "id": "19080c70-835c-4c4d-b325-440c7534e715",
   "metadata": {},
   "outputs": [
    {
     "name": "stdout",
     "output_type": "stream",
     "text": [
      "|\n",
      "|\n",
      "| |\n",
      "| |"
     ]
    }
   ],
   "source": [
    "F (:|) (:|) (:| |) : \n",
    "F (:|) (:|) (:| |) : | \n",
    "F (:|) (:|) (:| |) : | |\n",
    "(e:F (:|) (:|) (:| |)) : | | | | | "
   ]
  },
  {
   "cell_type": "code",
   "execution_count": 12,
   "id": "36858a6c-9961-41cc-851f-0a5eaf580810",
   "metadata": {},
   "outputs": [
    {
     "name": "stdout",
     "output_type": "stream",
     "text": []
    }
   ],
   "source": [
    "Let Endomorphisms : ap {:F (get:B)} : permutation 3 : Domain?"
   ]
  },
  {
   "cell_type": "code",
   "execution_count": 13,
   "id": "71f5a0fe-b21c-43a3-addb-48d8fce254b3",
   "metadata": {},
   "outputs": [
    {
     "name": "stdout",
     "output_type": "stream",
     "text": [
      "27"
     ]
    }
   ],
   "source": [
    "count : Endomorphisms?"
   ]
  },
  {
   "cell_type": "code",
   "execution_count": 14,
   "id": "cd304922-c8f1-4692-9fa4-e875b648a542",
   "metadata": {},
   "outputs": [
    {
     "name": "stdout",
     "output_type": "stream",
     "text": [
      " (with F ◎ ◎ ◎:) \n",
      " (with F ◎ ◎ (:|):◎) \n",
      " (with F ◎ ◎ (:| |):) \n",
      " (with F ◎ (:|) ◎:) \n",
      " (with F ◎ (:|) (:|):) \n",
      " (with F ◎ (:|) (:| |):) \n",
      " (with F ◎ (:| |) ◎:◎) \n",
      " (with F ◎ (:| |) (:|):◎) \n",
      " (with F ◎ (:| |) (:| |):) \n",
      " (with F (:|) ◎ ◎:◎) \n",
      " (with F (:|) ◎ (:|):◎) \n",
      " (with F (:|) ◎ (:| |):◎) \n",
      " (with F (:|) (:|) ◎:◎) \n",
      " (with F (:|) (:|) (:|):) \n",
      " (with F (:|) (:|) (:| |):) \n",
      " (with F (:|) (:| |) ◎:◎) \n",
      " (with F (:|) (:| |) (:|):◎) \n",
      " (with F (:|) (:| |) (:| |):◎) \n",
      " (with F (:| |) ◎ ◎:◎) \n",
      " (with F (:| |) ◎ (:|):◎) \n",
      " (with F (:| |) ◎ (:| |):◎) \n",
      " (with F (:| |) (:|) ◎:◎) \n",
      " (with F (:| |) (:|) (:|):◎) \n",
      " (with F (:| |) (:|) (:| |):) \n",
      " (with F (:| |) (:| |) ◎:◎) \n",
      " (with F (:| |) (:| |) (:|):◎) \n",
      " (with F (:| |) (:| |) (:| |):) \n"
     ]
    }
   ],
   "source": [
    "tab : dom 100 : ap {with (get:B) : bool : idempotent (e:get:B) : Domain?} : Endomorphisms?"
   ]
  },
  {
   "cell_type": "code",
   "execution_count": 15,
   "id": "73a4613d-f10d-4744-b240-3b339af3b515",
   "metadata": {},
   "outputs": [
    {
     "name": "stdout",
     "output_type": "stream",
     "text": []
    }
   ],
   "source": [
    "Let Idempotents : ap {if (right:B):(:arg:B)} : dom 100 : ap {with (get:B) : bool : idempotent (e:get:B) : Domain?} : Endomorphisms?"
   ]
  },
  {
   "cell_type": "code",
   "execution_count": 16,
   "id": "7db40c80-1288-4021-bda4-5d6087fed4c4",
   "metadata": {},
   "outputs": [
    {
     "name": "stdout",
     "output_type": "stream",
     "text": [
      "10"
     ]
    }
   ],
   "source": [
    "count : Idempotents?"
   ]
  },
  {
   "cell_type": "code",
   "execution_count": 17,
   "id": "7721489c-ec4a-4ee7-b36d-6ba5995d444c",
   "metadata": {},
   "outputs": [
    {
     "name": "stdout",
     "output_type": "stream",
     "text": [
      " (:F ◎ ◎ ◎) \n",
      " (:F ◎ ◎ (:| |)) \n",
      " (:F ◎ (:|) ◎) \n",
      " (:F ◎ (:|) (:|)) \n",
      " (:F ◎ (:|) (:| |)) \n",
      " (:F ◎ (:| |) (:| |)) \n",
      " (:F (:|) (:|) (:|)) \n",
      " (:F (:|) (:|) (:| |)) \n",
      " (:F (:| |) (:|) (:| |)) \n",
      " (:F (:| |) (:| |) (:| |)) \n"
     ]
    }
   ],
   "source": [
    "tab : Idempotents?"
   ]
  },
  {
   "cell_type": "code",
   "execution_count": 18,
   "id": "9e024208-810c-4a86-8b94-7ea8b58dc258",
   "metadata": {},
   "outputs": [
    {
     "name": "stdout",
     "output_type": "stream",
     "text": [
      " (with F ◎ ◎ ◎:) \n",
      " (with F ◎ ◎ (:| |):◎) \n",
      " (with F ◎ (:|) ◎:◎) \n",
      " (with F ◎ (:|) (:|):) \n",
      " (with F ◎ (:|) (:| |):) \n",
      " (with F ◎ (:| |) (:| |):) \n",
      " (with F (:|) (:|) (:|):) \n",
      " (with F (:|) (:|) (:| |):◎) \n",
      " (with F (:| |) (:|) (:| |):◎) \n",
      " (with F (:| |) (:| |) (:| |):) \n"
     ]
    }
   ],
   "source": [
    "tab : dom 400 : ap {with (get:B) : bool : ap preSpace (e:get:B) : permutation 2 : Domain?} : Idempotents?"
   ]
  },
  {
   "cell_type": "code",
   "execution_count": 19,
   "id": "c20ab2ba-dbd3-4151-8c04-272efa917f7f",
   "metadata": {},
   "outputs": [
    {
     "name": "stdout",
     "output_type": "stream",
     "text": []
    }
   ],
   "source": [
    "#Let Spaces : ap {if (right:B):(:arg:B)} : dom 200 : ap {with (get:B) : bool : ap preSpace (e:get:B) : permutation 2 : Domain?} : Idempotents?"
   ]
  },
  {
   "cell_type": "code",
   "execution_count": 20,
   "id": "609ba9d6-3f49-44e3-aefe-f164d51ff97a",
   "metadata": {},
   "outputs": [
    {
     "name": "stdout",
     "output_type": "stream",
     "text": []
    }
   ],
   "source": [
    "#count : Spaces?"
   ]
  },
  {
   "cell_type": "code",
   "execution_count": 21,
   "id": "582762d8-4357-41b6-aca2-5bc13fa65925",
   "metadata": {},
   "outputs": [
    {
     "name": "stdout",
     "output_type": "stream",
     "text": []
    }
   ],
   "source": [
    "#tab : Spaces?"
   ]
  }
 ],
 "metadata": {
  "kernelspec": {
   "display_name": "coda",
   "language": "",
   "name": "coda"
  },
  "language_info": {
   "file_extension": ".co",
   "mimetype": "text/plain",
   "name": "Any text"
  }
 },
 "nbformat": 4,
 "nbformat_minor": 5
}
