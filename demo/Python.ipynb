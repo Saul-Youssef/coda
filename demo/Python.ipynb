{
 "cells": [
  {
   "cell_type": "code",
   "execution_count": 1,
   "id": "ef1d1185-9a43-4551-9368-df15b3785351",
   "metadata": {},
   "outputs": [],
   "source": [
    "from base import *"
   ]
  },
  {
   "cell_type": "code",
   "execution_count": 5,
   "id": "e08b575f-e460-44f8-a9ab-128b0ec6219c",
   "metadata": {},
   "outputs": [
    {
     "data": {
      "text/plain": [
       "'abc'"
      ]
     },
     "execution_count": 5,
     "metadata": {},
     "output_type": "execute_result"
    }
   ],
   "source": [
    "str(da('abc'))"
   ]
  },
  {
   "cell_type": "code",
   "execution_count": 7,
   "id": "24cef05f-83c4-4aed-973c-90f4961286fe",
   "metadata": {},
   "outputs": [],
   "source": [
    "import Language\n",
    "D = Language.lang('rev : a b c',data(),data())"
   ]
  },
  {
   "cell_type": "code",
   "execution_count": 8,
   "id": "346df7dc-7050-4b61-a57c-aa9bb2761131",
   "metadata": {},
   "outputs": [
    {
     "data": {
      "text/plain": [
       "'({rev : a b c}:)'"
      ]
     },
     "execution_count": 8,
     "metadata": {},
     "output_type": "execute_result"
    }
   ],
   "source": [
    "str(D)"
   ]
  },
  {
   "cell_type": "code",
   "execution_count": 14,
   "id": "5a5cc56a-8305-4cdb-9838-d26c3aa464ca",
   "metadata": {},
   "outputs": [
    {
     "data": {
      "text/plain": [
       "'c b a'"
      ]
     },
     "execution_count": 14,
     "metadata": {},
     "output_type": "execute_result"
    }
   ],
   "source": [
    "D = D.eval(); str(D)"
   ]
  },
  {
   "cell_type": "code",
   "execution_count": 16,
   "id": "e04be01f-f946-4b00-890b-285cf9d0af48",
   "metadata": {},
   "outputs": [],
   "source": [
    "E = Language.lang('int_add 1 : 1',data(),data())"
   ]
  },
  {
   "cell_type": "code",
   "execution_count": 20,
   "id": "fad4d7ce-2db8-42c7-bb31-a35839269ebb",
   "metadata": {},
   "outputs": [
    {
     "data": {
      "text/plain": [
       "'2'"
      ]
     },
     "execution_count": 20,
     "metadata": {},
     "output_type": "execute_result"
    }
   ],
   "source": [
    "E = E.eval(); str(E)"
   ]
  },
  {
   "cell_type": "code",
   "execution_count": null,
   "id": "451fddb7-581d-4771-97d0-5d2abc26627c",
   "metadata": {},
   "outputs": [],
   "source": []
  }
 ],
 "metadata": {
  "kernelspec": {
   "display_name": "Python 3 (ipykernel)",
   "language": "python",
   "name": "python3"
  },
  "language_info": {
   "codemirror_mode": {
    "name": "ipython",
    "version": 3
   },
   "file_extension": ".py",
   "mimetype": "text/x-python",
   "name": "python",
   "nbconvert_exporter": "python",
   "pygments_lexer": "ipython3",
   "version": "3.10.7"
  }
 },
 "nbformat": 4,
 "nbformat_minor": 5
}
