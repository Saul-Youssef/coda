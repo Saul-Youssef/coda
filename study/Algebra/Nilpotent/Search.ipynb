{
 "cells": [
  {
   "cell_type": "code",
   "execution_count": 1,
   "id": "9ea37cc3-a039-45da-a3fc-8a0b59fe890e",
   "metadata": {},
   "outputs": [
    {
     "name": "stdout",
     "output_type": "stream",
     "text": [
      "(defaultTime:100)"
     ]
    }
   ],
   "source": [
    "defaultTime:100"
   ]
  },
  {
   "cell_type": "code",
   "execution_count": 2,
   "id": "9ce3383e-ec47-4f1f-9d72-3c97376095d2",
   "metadata": {},
   "outputs": [
    {
     "name": "stdout",
     "output_type": "stream",
     "text": []
    }
   ],
   "source": [
    "log:multi"
   ]
  },
  {
   "cell_type": "code",
   "execution_count": 3,
   "id": "235a755d-3995-4073-9910-288cf254b1fd",
   "metadata": {},
   "outputs": [
    {
     "name": "stdout",
     "output_type": "stream",
     "text": []
    }
   ],
   "source": [
    "import : dir co : up : up : ."
   ]
  },
  {
   "cell_type": "code",
   "execution_count": 4,
   "id": "559fb966-2ad3-4611-a604-b3cfa9063b6f",
   "metadata": {},
   "outputs": [
    {
     "name": "stdout",
     "output_type": "stream",
     "text": [
      "((Q:):(x:))"
     ]
    }
   ],
   "source": [
    "nilpotent:Q?"
   ]
  },
  {
   "cell_type": "code",
   "execution_count": 5,
   "id": "c8f9a66a-75e4-4432-a597-a1c2ee43915d",
   "metadata": {},
   "outputs": [
    {
     "name": "stdout",
     "output_type": "stream",
     "text": []
    }
   ],
   "source": [
    "Def Test : {put bin (get:B) : count : bool : theorem (semilattice:(get:B)) : A}\n",
    "Def TEST : {multi 3600 : ap {with:Test A:B} A : B} "
   ]
  },
  {
   "cell_type": "code",
   "execution_count": 6,
   "id": "2002ed55-028d-4a0c-8fb8-95bb529a0d9a",
   "metadata": {},
   "outputs": [
    {
     "name": "stdout",
     "output_type": "stream",
     "text": [
      "multi> Using 3 processors for 2 inputs\n",
      "multi> Collecting results\n",
      "(bin pass:1) (bin null:0)"
     ]
    }
   ],
   "source": [
    "get with : TEST S0? : (:pass) (:null) "
   ]
  },
  {
   "cell_type": "code",
   "execution_count": null,
   "id": "eb32f87b-620e-4a66-a507-374eb996b56a",
   "metadata": {},
   "outputs": [],
   "source": [
    "get with : TEST S0? : C0?:"
   ]
  },
  {
   "cell_type": "code",
   "execution_count": null,
   "id": "0cea6ba5-62ab-465c-a6df-46415b8a49b9",
   "metadata": {},
   "outputs": [],
   "source": []
  }
 ],
 "metadata": {
  "kernelspec": {
   "display_name": "coda",
   "language": "",
   "name": "coda"
  },
  "language_info": {
   "file_extension": ".co",
   "mimetype": "text/plain",
   "name": "Any text"
  }
 },
 "nbformat": 4,
 "nbformat_minor": 5
}
