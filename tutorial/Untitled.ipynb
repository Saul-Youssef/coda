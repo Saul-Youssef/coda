{
 "cells": [
  {
   "cell_type": "code",
   "execution_count": 1,
   "id": "05fa73f1-f565-4eb0-9a72-429862b48214",
   "metadata": {},
   "outputs": [
    {
     "name": "stdout",
     "output_type": "stream",
     "text": [
      "(foo:a b c)"
     ]
    }
   ],
   "source": [
    "foo : a b c "
   ]
  },
  {
   "cell_type": "code",
   "execution_count": 2,
   "id": "e5c11465-00a1-4f08-b88c-f14be6193e34",
   "metadata": {},
   "outputs": [
    {
     "name": "stdout",
     "output_type": "stream",
     "text": [
      "(foo:a) (foo:b) (foo:c)"
     ]
    }
   ],
   "source": [
    "ap foo : a b c "
   ]
  },
  {
   "cell_type": "code",
   "execution_count": 3,
   "id": "2e80e796-1ae6-4890-a29c-834e32f858d3",
   "metadata": {},
   "outputs": [
    {
     "name": "stdout",
     "output_type": "stream",
     "text": [
      "(a:1 2 3) (b:1 2 3) (c:1 2 3)"
     ]
    }
   ],
   "source": [
    "apall a b c : 1 2 3 "
   ]
  },
  {
   "cell_type": "code",
   "execution_count": 4,
   "id": "8814e5f9-f188-4694-ae9c-7e18a7199ea2",
   "metadata": {},
   "outputs": [
    {
     "name": "stdout",
     "output_type": "stream",
     "text": [
      "(a:1) (a:2) (a:3) (b:1) (b:2) (b:3) (c:1) (c:2) (c:3)"
     ]
    }
   ],
   "source": [
    "apeach a b c : 1 2 3 "
   ]
  },
  {
   "cell_type": "code",
   "execution_count": 5,
   "id": "8f17ee48-d5b5-46d4-946d-444310ecec8e",
   "metadata": {},
   "outputs": [
    {
     "name": "stdout",
     "output_type": "stream",
     "text": [
      "(a b:1) (a b:2) (a b:3) (a c:1) (a c:2) (a c:3)"
     ]
    }
   ],
   "source": [
    "aparg a b c : 1 2 3 "
   ]
  },
  {
   "cell_type": "code",
   "execution_count": 7,
   "id": "7632abda-bc4e-43f2-b6a6-2a7ad1308fa3",
   "metadata": {},
   "outputs": [
    {
     "name": "stdout",
     "output_type": "stream",
     "text": [
      "(foo a:(foo b:(foo c:d)))"
     ]
    }
   ],
   "source": [
    "apbin foo : a b c d "
   ]
  },
  {
   "cell_type": "code",
   "execution_count": 8,
   "id": "ecbeb664-b8c5-4a90-ae97-61686666fbc3",
   "metadata": {},
   "outputs": [
    {
     "name": "stdout",
     "output_type": "stream",
     "text": [
      "(foo:a b) (foo:c d) (foo:e f) (foo:g)"
     ]
    }
   ],
   "source": [
    "apby 2 foo : a b c d e f g"
   ]
  },
  {
   "cell_type": "code",
   "execution_count": 13,
   "id": "3d50ad18-8b4a-4f1e-a0b7-968004e5340b",
   "metadata": {},
   "outputs": [
    {
     "name": "stdout",
     "output_type": "stream",
     "text": [
      "(bin:a b) (bin:x y)"
     ]
    }
   ],
   "source": [
    "apif {(count:get bin:B)=2} : (bin:a b) (bin:a b c) (bin:x y) (bin:a b c d)"
   ]
  },
  {
   "cell_type": "code",
   "execution_count": null,
   "id": "70cba9d2-e8e5-46e1-b7ca-98f63566b814",
   "metadata": {},
   "outputs": [],
   "source": []
  }
 ],
 "metadata": {
  "kernelspec": {
   "display_name": "coda",
   "language": "",
   "name": "coda"
  },
  "language_info": {
   "file_extension": ".co",
   "mimetype": "text/plain",
   "name": "Any text"
  }
 },
 "nbformat": 4,
 "nbformat_minor": 5
}
