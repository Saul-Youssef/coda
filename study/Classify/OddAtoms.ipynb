{
 "cells": [
  {
   "cell_type": "markdown",
   "id": "96191986-5c73-4095-8afb-a26894763481",
   "metadata": {},
   "source": [
    "### A first try at classifying\n",
    "\n",
    "Classifying is meant to be a relatively simple case of machine learning for coda.  We'll start by trying to find classifying data C such that C:odd and C:even have different logic if odd is data with an odd number of atoms and even is data with an even number of atoms. "
   ]
  },
  {
   "cell_type": "code",
   "execution_count": 1,
   "id": "cdc8cfad-785b-4018-905a-7f1c38ea873f",
   "metadata": {},
   "outputs": [],
   "source": [
    "from base import *\n",
    "from Space import Space\n",
    "import Generate"
   ]
  },
  {
   "cell_type": "code",
   "execution_count": 2,
   "id": "f0ddb784-023a-45d8-881b-3958d1ad4232",
   "metadata": {},
   "outputs": [],
   "source": [
    "#\n",
    "#   First, we'll attempt to construct a search space which might contain a classifier as described above \n",
    "#\n",
    "S = Generate.Gen(Generate.codas,3).space()"
   ]
  },
  {
   "cell_type": "code",
   "execution_count": 3,
   "id": "5ea47ff5-b01f-4a81-94f0-dd820d68d575",
   "metadata": {},
   "outputs": [
    {
     "data": {
      "text/plain": [
       "eval: False, true: 0, false:0, undecided:0, codas:143, datas:11568"
      ]
     },
     "execution_count": 3,
     "metadata": {},
     "output_type": "execute_result"
    }
   ],
   "source": [
    "S"
   ]
  },
  {
   "cell_type": "code",
   "execution_count": 4,
   "id": "6dd07958-cd26-46bb-be47-ca54b03652e1",
   "metadata": {},
   "outputs": [
    {
     "name": "stdout",
     "output_type": "stream",
     "text": [
      "{B ap} collect\n",
      "{post B} pass\n",
      "{B 2} rev\n",
      "not or\n",
      "{put B} some\n",
      "{or B} tail\n",
      "apby join\n",
      "B {B 3}\n",
      "1 {imply B}\n",
      "* has1\n"
     ]
    }
   ],
   "source": [
    "for i in range(10): print(S[i])"
   ]
  },
  {
   "cell_type": "code",
   "execution_count": 5,
   "id": "cad0d78e-2048-4d1e-97ed-274628c24747",
   "metadata": {},
   "outputs": [
    {
     "data": {
      "text/plain": [
       "eval: False, true: 0, false:0, undecided:0, codas:1, datas:3"
      ]
     },
     "execution_count": 5,
     "metadata": {},
     "output_type": "execute_result"
    }
   ],
   "source": [
    "Even = Generate.EvenAtoms(3)\n",
    "Odd  = Generate.OddAtoms(3) \n",
    "Odd"
   ]
  },
  {
   "cell_type": "code",
   "execution_count": 6,
   "id": "460642f6-2322-4289-ba05-41dfa40c7f16",
   "metadata": {},
   "outputs": [],
   "source": [
    "#\n",
    "#   The strategy is to first filter down S to the subspace which \n",
    "#   satisfies s:Even = ()... \n",
    "#\n",
    "import Evaluate\n",
    "def eval(d): return Evaluate.default(d)\n",
    "\n",
    "def isempty (s,t): return eval(data(s|t)).empty()\n",
    "def isatomic(s,t): return eval(data(s|t)).atomic()\n",
    "                           \n",
    "S_even = S.subop(isempty,Even)"
   ]
  },
  {
   "cell_type": "code",
   "execution_count": 7,
   "id": "18a06d53-0c51-4ed9-ac2f-d6592030d3be",
   "metadata": {},
   "outputs": [
    {
     "data": {
      "text/plain": [
       "eval: False, true: 0, false:0, undecided:0, codas:143, datas:1316"
      ]
     },
     "execution_count": 7,
     "metadata": {},
     "output_type": "execute_result"
    }
   ],
   "source": [
    "S_even"
   ]
  },
  {
   "cell_type": "code",
   "execution_count": 8,
   "id": "636a67b0-19a6-4f90-9fbc-e8918a8b8651",
   "metadata": {},
   "outputs": [],
   "source": [
    "T = data(S_even[0]|Odd[2])"
   ]
  },
  {
   "cell_type": "code",
   "execution_count": 9,
   "id": "09cb6395-df4c-42cc-a9aa-9b525a1e23d6",
   "metadata": {},
   "outputs": [
    {
     "data": {
      "text/plain": [
       "''"
      ]
     },
     "execution_count": 9,
     "metadata": {},
     "output_type": "execute_result"
    }
   ],
   "source": [
    "str(eval(T))"
   ]
  },
  {
   "cell_type": "code",
   "execution_count": 10,
   "id": "9b347478-088d-453e-932b-ea24fd3fa148",
   "metadata": {},
   "outputs": [],
   "source": [
    "#\n",
    "#   S_even is empty on even atoms up to 2 atoms.  Let's expand this to 20 atoms to clear it up. \n",
    "#\n",
    "S_even2 = S_even.subop(isempty,Generate.EvenAtoms(20))"
   ]
  },
  {
   "cell_type": "code",
   "execution_count": 11,
   "id": "e0227830-8439-4feb-a9d6-0c1f35332069",
   "metadata": {},
   "outputs": [
    {
     "data": {
      "text/plain": [
       "eval: False, true: 0, false:0, undecided:0, codas:143, datas:1316"
      ]
     },
     "execution_count": 11,
     "metadata": {},
     "output_type": "execute_result"
    }
   ],
   "source": [
    "S_even2"
   ]
  },
  {
   "cell_type": "code",
   "execution_count": 12,
   "id": "843f9812-523f-4cb4-b0be-bf2367b40138",
   "metadata": {},
   "outputs": [],
   "source": [
    "#\n",
    "#   This step didn't do anything.  There are still 1316 candidate data \n",
    "#   satisfying d:X = () for X atoms up to 20. \n",
    "#\n",
    "#   so... Now \n",
    "#\n",
    "S_even_odd = S_even.subop(isatomic,Generate.OddAtoms(2))"
   ]
  },
  {
   "cell_type": "code",
   "execution_count": 13,
   "id": "67852271-efec-4701-bb14-2adc39585391",
   "metadata": {},
   "outputs": [
    {
     "data": {
      "text/plain": [
       "eval: False, true: 0, false:0, undecided:0, codas:4, datas:3"
      ]
     },
     "execution_count": 13,
     "metadata": {},
     "output_type": "execute_result"
    }
   ],
   "source": [
    "S_even_odd"
   ]
  },
  {
   "cell_type": "code",
   "execution_count": 14,
   "id": "92f4575c-b182-4b81-a213-872dd34b4355",
   "metadata": {},
   "outputs": [
    {
     "name": "stdout",
     "output_type": "stream",
     "text": [
      "apbin not\n",
      "apbin =\n",
      "apbin none\n"
     ]
    }
   ],
   "source": [
    "for d in S_even_odd: print(d)"
   ]
  },
  {
   "cell_type": "code",
   "execution_count": 15,
   "id": "62182337-9b07-4b65-9542-23e4ae28b675",
   "metadata": {},
   "outputs": [
    {
     "name": "stdout",
     "output_type": "stream",
     "text": [
      "◎ <- (apbin not:◎)\n",
      "◎ <- (apbin not:◎ ◎ ◎)\n",
      "◎ <- (apbin not:◎ ◎ ◎ ◎ ◎)\n",
      "◎ <- (apbin =:◎)\n",
      "◎ <- (apbin =:◎ ◎ ◎)\n",
      "◎ <- (apbin =:◎ ◎ ◎ ◎ ◎)\n",
      "◎ <- (apbin none:◎)\n",
      "◎ <- (apbin none:◎ ◎ ◎)\n",
      "◎ <- (apbin none:◎ ◎ ◎ ◎ ◎)\n",
      " <- (apbin not:)\n",
      " <- (apbin not:◎ ◎)\n",
      " <- (apbin not:◎ ◎ ◎ ◎)\n",
      " <- (apbin =:)\n",
      " <- (apbin =:◎ ◎)\n",
      " <- (apbin =:◎ ◎ ◎ ◎)\n",
      " <- (apbin none:)\n",
      " <- (apbin none:◎ ◎)\n",
      " <- (apbin none:◎ ◎ ◎ ◎)\n"
     ]
    }
   ],
   "source": [
    "for d in S_even_odd: \n",
    "    for o in Generate.OddAtoms(3) : print(eval(data(d|o)),'<-',data(d|o))\n",
    "for d in S_even_odd:\n",
    "    for e in Generate.EvenAtoms(3): print(eval(data(d|e)),'<-',data(d|e))"
   ]
  },
  {
   "cell_type": "markdown",
   "id": "59b71c03-ea42-45db-aa53-cf613e53ad5d",
   "metadata": {},
   "source": [
    "### Success!  \n",
    "\n",
    "This is my first attempt at \"machine learning\".  Notice that it works and it's doing something clever that I did not think of ahead of time.  `apbin not:X` combines the binary application `apbin` (used to translate a binary operator like a+b into a sequential sum), with a logical operation `not` to compute whether `X` has an even or odd number of atoms. \n",
    "\n",
    "It was only tested on the \"hydrogen atom\" (:), but it's now obvious that it works for any kind of atom as well as any number of atoms.  \n",
    "\n",
    "```\n",
    "step : apbin not : x y z w x \n",
    "[0] (({apbin not }:):({ x y z w x}:))\n",
    "[1] (({apbin}:) ({not}:):({x}:) ({y z w x}:))\n",
    "[2] (not x:(apbin not:y ({z}:) ({w x}:)))\n",
    "[3] (not x:(not y:(not z:(apbin not:w x))))\n",
    "[4] 𝝞𝟬𝟬𝝞𝟬𝝞𝝞𝝞𝟬𝟬𝝞𝝞𝝞𝟬\n",
    "◎\n",
    "```\n",
    "* Isn't that clever?  \n",
    "\n",
    "This is promising.  Compare trying to do this by searching strings interpreted as python programs to find one that distinguises even and odd number of arguments.  \n",
    "\n",
    "Not only does this solve the immediate problem, but it provides additional insight and additional mathematical structure.  The insight is how to distinguish odd from even.  The additional content is that `apbin not` is a category.  \n"
   ]
  },
  {
   "cell_type": "raw",
   "id": "c74c8f46-8c6b-46f8-be0c-e70ad48dfe97",
   "metadata": {},
   "source": []
  }
 ],
 "metadata": {
  "kernelspec": {
   "display_name": "Python 3 (ipykernel)",
   "language": "python",
   "name": "python3"
  },
  "language_info": {
   "codemirror_mode": {
    "name": "ipython",
    "version": 3
   },
   "file_extension": ".py",
   "mimetype": "text/x-python",
   "name": "python",
   "nbconvert_exporter": "python",
   "pygments_lexer": "ipython3",
   "version": "3.10.7"
  }
 },
 "nbformat": 4,
 "nbformat_minor": 5
}
