{
 "cells": [
  {
   "cell_type": "markdown",
   "id": "6372d772-58d2-4d74-baee-c022f1a2325c",
   "metadata": {},
   "source": [
    "\n",
    "## Example of Spaces : Natural Numbers\n",
    "\n",
    "Recall that data A is a *space* if \n",
    "\n",
    "* A : X Y = A : (A:X) Y = A : X (A:Y) \n",
    "\n",
    "for any data X and any data Y.  A space defines \n",
    "\n",
    "1. Membership: We say that data A:X **belongs to** or **is an element of** the space A for any data X. \n",
    "2. A binary operation on elements defined by: (A:X),(A:Y) &rightarrow; A:(A:X) (A:Y).\n",
    "3. A **neutral element** (A:) \n",
    "\n",
    "Examples of spaces:\n",
    "\n",
    "* **pass**, the space of all pure data.\n",
    "* **null**, the space consisting only of (), the empty data.\n",
    "* **bool**, the space of logical values () or (:).\n",
    "* **has X**, the space of atoms with domain X.\n",
    "* The space of data lengths. \n",
    "* The space of character string lengths.\n",
    "* Finite sequences of natural numbers.\n",
    "* Finite sequences of natural numbers with addition. \n",
    "\n",
    "### Morphisms and commuting spaces \n",
    "\n",
    "If spaces A and B satisfy A:B:X = B:A:X for all data X, we say that A and B **commute** and write A\\*B=B\\*A.  With a slight abuse of language, a finite collection of mutually commuting spaces is called a **space**.\n",
    "\n",
    "### Morphisms\n",
    "\n",
    "Given a space A,B and a space C,D, then \n",
    "\n",
    "F = C*D*f*A*B \n",
    "\n",
    "is a **morphism** from A,B to C,D where f is any pure data. In the singleton case, a morphism from A to C is any data C*f*A.  Morphisms compose in the obvious way and have the property that F:A,B&rightarrow;C,D satisfies \n",
    "\n",
    "In this notebook, we will work out a few examples of spaces representing the natural numbers. "
   ]
  },
  {
   "cell_type": "markdown",
   "id": "c7887390-1537-4f7e-9c5b-4491033201ef",
   "metadata": {},
   "source": [
    "### Peano numbers \n",
    "\n",
    "The concept of a natural number can be viewed as \"quantity of atoms\" which we can measure by replacing any atom with some reference atom.  We could use python integers for this, but to keep things utterly simple, we'll represent quantity of atoms with data | | | where \"|\" represents some atom.  We can do this by defining **peano** to be **rep |**, which we claim is the space of all finite sequences of |. "
   ]
  },
  {
   "cell_type": "code",
   "execution_count": 1,
   "id": "e89777a4-8553-4393-9faf-0485e10ad7c7",
   "metadata": {},
   "outputs": [
    {
     "name": "stdout",
     "output_type": "stream",
     "text": []
    }
   ],
   "source": [
    "def peano : rep | "
   ]
  },
  {
   "cell_type": "code",
   "execution_count": 2,
   "id": "9d5b5d29-69ea-41ad-aa49-fc8c8c77bec3",
   "metadata": {},
   "outputs": [
    {
     "name": "stdout",
     "output_type": "stream",
     "text": [
      "| | |\n",
      "| |"
     ]
    }
   ],
   "source": [
    "peano : a b c\n",
    "peano : x y "
   ]
  },
  {
   "cell_type": "code",
   "execution_count": 3,
   "id": "38b94072-3049-47b1-8b85-2161471df1dc",
   "metadata": {},
   "outputs": [
    {
     "name": "stdout",
     "output_type": "stream",
     "text": []
    }
   ],
   "source": [
    "peano : "
   ]
  },
  {
   "cell_type": "code",
   "execution_count": 4,
   "id": "ae71f39f-deeb-42c7-a3cf-346c68bb0c79",
   "metadata": {},
   "outputs": [
    {
     "name": "stdout",
     "output_type": "stream",
     "text": [
      "| | |\n",
      "| | | |\n",
      "| | | |"
     ]
    }
   ],
   "source": [
    "#\n",
    "#   Check idempotence and space property\n",
    "#\n",
    "peano * peano : a b c \n",
    "peano : (peano : a b) c d \n",
    "peano : a b c d "
   ]
  },
  {
   "cell_type": "markdown",
   "id": "196c07f3-cde6-4a84-a0fe-8dee2fae464f",
   "metadata": {},
   "source": [
    "In order to display | | | as \"3\" etc., we introduce a new space called \"term\" (for terminal).  "
   ]
  },
  {
   "cell_type": "code",
   "execution_count": 5,
   "id": "3334388f-abc0-4f4a-a897-335329c44b92",
   "metadata": {},
   "outputs": [
    {
     "name": "stdout",
     "output_type": "stream",
     "text": [
      "3\n",
      "3\n",
      "3"
     ]
    }
   ],
   "source": [
    "#\n",
    "#   Space : peano term \n",
    "#\n",
    "#   (peano,term) are jointly a space, meaning that they are both \n",
    "#   spaces and peano * term = term * peano.  \n",
    "#\n",
    "#   term is trivially a space since term : X = (). \n",
    "#\n",
    "def term : terminal * count * peano \n",
    "peano * term : a b c \n",
    "term * peano : a b c \n",
    "term : a b c "
   ]
  },
  {
   "cell_type": "markdown",
   "id": "27917706-1362-4c2f-a048-d4f676e67e64",
   "metadata": {},
   "source": [
    "OK, that was the most basic version of the natural numbers where each number is represented by some finite number of |||s.  If we want to do more than add natural numbers, however, we need to represent each number as a separate coda such as (n:| | |) for example.  Thus, we define the following:\n",
    "\n",
    "1) **n:** - An atom to contain ||s.\n",
    "2) **n.make** - Makes natural numbers by counting input. \n",
    "3) **n.term** - Makes terminal output so that (n:|||) &rightarrow; 3.\n",
    "4) **n.type** - Filters natural numbers from it's input.\n",
    "5) **n.sum** - Sums natural numbers.\n",
    "6) **sample:** - Is a sample of natural numbers for demo purposes.\n",
    "\n",
    "Of these items, n.make, n.term, n.type and n.sum are spaces.  All but n.sum are distributive spaces.  Since n.type and n.sum are commuting spaces, they together constitute a space with morphisms\n",
    "\n",
    "* n.type \\* n.sum \\* f \\* n.type \\* n.sum\n",
    "\n",
    "where f can be any data. \n",
    "\n"
   ]
  },
  {
   "cell_type": "code",
   "execution_count": 6,
   "id": "b8e7ef29-0485-4f70-9dca-bb83c60345ad",
   "metadata": {},
   "outputs": [
    {
     "name": "stdout",
     "output_type": "stream",
     "text": []
    }
   ],
   "source": [
    "def n:\n",
    "def n.make : put n * rep | \n",
    "def n.term : join < > * ap {count:get n:B} * n.type \n",
    "#\n",
    "def n.type : has n \n",
    "def n.sum : put n * get n * n.type \n",
    "#\n",
    "#   Sample of natural numbers for demos \n",
    "#\n",
    "let sample : (n.make:a a ) (n.make:) (n.make:a a a a)"
   ]
  },
  {
   "cell_type": "code",
   "execution_count": 16,
   "id": "58be97b4-c46b-42f5-ba4e-3dcd5dbacbbe",
   "metadata": {},
   "outputs": [
    {
     "name": "stdout",
     "output_type": "stream",
     "text": [
      "(n:| | |)\n",
      "3\n",
      "(n:| |) (n:) (n:| | | |)\n",
      "2 0 4\n",
      "(n:)\n",
      "(n:| | | | | |)\n",
      "6"
     ]
    }
   ],
   "source": [
    "#\n",
    "#   A few examples...\n",
    "#\n",
    "n.make : a b c \n",
    "n.term : n.make : a b c\n",
    "sample:\n",
    "n.term : sample:\n",
    "n.sum : n.make : \n",
    "n.sum : sample:\n",
    "n.term : n.sum : sample:"
   ]
  },
  {
   "cell_type": "code",
   "execution_count": null,
   "id": "70c5a0ee-565c-48fe-91b5-a1f62272e07f",
   "metadata": {},
   "outputs": [],
   "source": []
  }
 ],
 "metadata": {
  "kernelspec": {
   "display_name": "coda",
   "language": "",
   "name": "coda"
  },
  "language_info": {
   "file_extension": ".co",
   "mimetype": "text/plain",
   "name": "Any text"
  }
 },
 "nbformat": 4,
 "nbformat_minor": 5
}
