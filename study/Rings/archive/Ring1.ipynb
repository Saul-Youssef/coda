{
 "cells": [
  {
   "cell_type": "code",
   "execution_count": 1,
   "id": "5bcd4e64-7d4c-4515-85b2-412fd238e739",
   "metadata": {},
   "outputs": [
    {
     "name": "stdout",
     "output_type": "stream",
     "text": []
    }
   ],
   "source": [
    "def t:"
   ]
  },
  {
   "cell_type": "code",
   "execution_count": 2,
   "id": "8f90ab8e-b3ab-4090-891e-19e8f16b0d8f",
   "metadata": {},
   "outputs": [
    {
     "name": "stdout",
     "output_type": "stream",
     "text": []
    }
   ],
   "source": [
    "def type : {put t (is a : A) : (is a : B)}\n",
    "def idem1 : {ap ap2 (left:B) : (get t:B)}\n",
    "def idem : {ap idem1:has t:B} \n",
    "def cnt : {rep a:idem:B} \n",
    "def sum : {put t a : cnt : B} \n",
    "def term : {ap {count : cnt:B} : B}\n",
    "def prod1 : {put t (cnt:A) : cnt : B} \n",
    "def prod : {ap prod1 A : B}"
   ]
  },
  {
   "cell_type": "code",
   "execution_count": 3,
   "id": "b5bc8b05-ea78-4a21-99a0-fefe01de304b",
   "metadata": {},
   "outputs": [
    {
     "name": "stdout",
     "output_type": "stream",
     "text": []
    }
   ],
   "source": [
    "let x : type a a : a a a \n",
    "let y : type a : a a \n",
    "let z : type a : \n",
    "let w : type : a"
   ]
  },
  {
   "cell_type": "code",
   "execution_count": 4,
   "id": "6252bc9c-6b93-481c-8a91-bf8ded8571ce",
   "metadata": {},
   "outputs": [
    {
     "name": "stdout",
     "output_type": "stream",
     "text": [
      "(t a:a) (t a:a) (t a:a) (t a:a) (t a:a) (t a:a)"
     ]
    }
   ],
   "source": [
    "idem : x?"
   ]
  },
  {
   "cell_type": "code",
   "execution_count": null,
   "id": "c4c59005-0a54-4fdf-a7c3-74bf76a7e8da",
   "metadata": {},
   "outputs": [],
   "source": []
  },
  {
   "cell_type": "code",
   "execution_count": 5,
   "id": "368747dd-cfcf-4129-92b2-9944ad629c93",
   "metadata": {},
   "outputs": [
    {
     "name": "stdout",
     "output_type": "stream",
     "text": [
      "6 6"
     ]
    }
   ],
   "source": [
    "term : x? x?"
   ]
  },
  {
   "cell_type": "code",
   "execution_count": 6,
   "id": "8e07f2c7-aa30-4b3e-bad3-2f3653637b6e",
   "metadata": {},
   "outputs": [
    {
     "name": "stdout",
     "output_type": "stream",
     "text": [
      "(t a:a a a a a a a a a a a a)"
     ]
    }
   ],
   "source": [
    "sum : x? x?"
   ]
  },
  {
   "cell_type": "code",
   "execution_count": 7,
   "id": "954d5cdc-49a3-486b-b73c-f6501aee284e",
   "metadata": {},
   "outputs": [
    {
     "name": "stdout",
     "output_type": "stream",
     "text": [
      "12"
     ]
    }
   ],
   "source": [
    "term : sum : x? x?"
   ]
  },
  {
   "cell_type": "code",
   "execution_count": 8,
   "id": "b36ee94e-e006-42f5-a5c3-4c40c760f0c1",
   "metadata": {},
   "outputs": [
    {
     "name": "stdout",
     "output_type": "stream",
     "text": [
      "8"
     ]
    }
   ],
   "source": [
    "term : sum : x? y?"
   ]
  },
  {
   "cell_type": "code",
   "execution_count": 9,
   "id": "3dd10cb6-725a-4e6f-9b30-75f17604cddd",
   "metadata": {},
   "outputs": [
    {
     "name": "stdout",
     "output_type": "stream",
     "text": [
      "(t a a:a a a a a a) (t a a:a a) (t a a:a a)"
     ]
    }
   ],
   "source": [
    "prod y? : x? y? y? "
   ]
  },
  {
   "cell_type": "code",
   "execution_count": 10,
   "id": "374d8e32-b2fc-4e89-a464-d7b6a12d68e6",
   "metadata": {},
   "outputs": [
    {
     "name": "stdout",
     "output_type": "stream",
     "text": [
      "24"
     ]
    }
   ],
   "source": [
    "term : sum : prod y? : x? x?"
   ]
  },
  {
   "cell_type": "code",
   "execution_count": 11,
   "id": "3b3dab4d-eb30-4b83-98b5-1cf7bc70c65a",
   "metadata": {},
   "outputs": [
    {
     "name": "stdout",
     "output_type": "stream",
     "text": [
      "(t a:a a a a a a)"
     ]
    }
   ],
   "source": [
    "sum : z? x?"
   ]
  },
  {
   "cell_type": "code",
   "execution_count": 12,
   "id": "d8af87b2-e1ca-4e0e-9e86-582e5d702f5c",
   "metadata": {},
   "outputs": [
    {
     "name": "stdout",
     "output_type": "stream",
     "text": [
      "0"
     ]
    }
   ],
   "source": [
    "term : z?"
   ]
  },
  {
   "cell_type": "code",
   "execution_count": 13,
   "id": "2e25a037-878c-4256-a2c5-fc8dce865678",
   "metadata": {},
   "outputs": [
    {
     "name": "stdout",
     "output_type": "stream",
     "text": [
      "6"
     ]
    }
   ],
   "source": [
    "term : sum : z? x?"
   ]
  },
  {
   "cell_type": "code",
   "execution_count": 14,
   "id": "e54883cd-1158-439f-ba07-07230d279d01",
   "metadata": {},
   "outputs": [
    {
     "name": "stdout",
     "output_type": "stream",
     "text": [
      "6"
     ]
    }
   ],
   "source": [
    "term : x?"
   ]
  },
  {
   "cell_type": "code",
   "execution_count": 15,
   "id": "1cf84ebd-8932-469a-87a9-dc1d2b44dadc",
   "metadata": {},
   "outputs": [
    {
     "name": "stdout",
     "output_type": "stream",
     "text": [
      "12"
     ]
    }
   ],
   "source": [
    "term : sum : z? x? x? w?"
   ]
  },
  {
   "cell_type": "code",
   "execution_count": 16,
   "id": "2c938605-0ce7-40a4-bc51-5f9d95cfa0e5",
   "metadata": {},
   "outputs": [
    {
     "name": "stdout",
     "output_type": "stream",
     "text": [
      "0"
     ]
    }
   ],
   "source": [
    "term : prod z? : x?"
   ]
  },
  {
   "cell_type": "code",
   "execution_count": null,
   "id": "85d28b51-f0b1-4291-9a0d-4dd388819c8d",
   "metadata": {},
   "outputs": [],
   "source": []
  }
 ],
 "metadata": {
  "kernelspec": {
   "display_name": "coda",
   "language": "",
   "name": "coda"
  },
  "language_info": {
   "file_extension": ".co",
   "mimetype": "text/plain",
   "name": "Any text"
  }
 },
 "nbformat": 4,
 "nbformat_minor": 5
}
