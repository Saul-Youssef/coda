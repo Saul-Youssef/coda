{
 "cells": [
  {
   "cell_type": "markdown",
   "id": "d20eba54-abb6-4fbb-9af2-43e8ed96d1e1",
   "metadata": {},
   "source": [
    "## Equivalence Classes\n",
    "\n",
    "Suppose we want to collect data with some specified property.  The natural way to specify this is to say that codas X and Y have the same P value if P:X is equal to P:Y.  This suggests\n",
    "\n",
    "* collect P : X Y \n",
    "\n",
    "to collect inputs which have the same P-value.  Examples follow. "
   ]
  },
  {
   "cell_type": "markdown",
   "id": "59d731ac-0a67-48cc-9a72-2aa584f4f07c",
   "metadata": {},
   "source": [
    "Suppose we want to collect character sequences that have the same length.  To do this, note that **get ((:):(:))** gets the character contents of a single character string, so \n",
    "\n",
    "* P = count \\* get ((:):(:)) \n",
    "\n",
    "counts the number of characters in a character string and **collect P** collects strings with the same number of characters..."
   ]
  },
  {
   "cell_type": "code",
   "execution_count": 1,
   "id": "5fdadfe8-daa3-4cce-845f-fc5cbe7bacf1",
   "metadata": {},
   "outputs": [
    {
     "name": "stdout",
     "output_type": "stream",
     "text": [
      "(cls 1:a b c z) (cls 2:aa bb cc) (cls 3:aaa) (cls 4:zzzz)"
     ]
    }
   ],
   "source": [
    "#\n",
    "#   collect collects strings with the same length, each in a generic container\n",
    "#\n",
    "def P : count * get ((:):(:)) \n",
    "collect P : a b c aa bb cc aaa z zzzz "
   ]
  },
  {
   "cell_type": "markdown",
   "id": "51fb3408-2b81-4631-a4d6-957ef6e2bd60",
   "metadata": {},
   "source": [
    "**equiv** uses collect to create the equivalence classes corresponding to (P:X) equivalent to (P:Y).  Unlike collect, the result is represented by one element of each class.  So...\n",
    "\n",
    "* equiv P : a b c aa bb cc aaa z zzzz\n",
    "\n",
    "results in \n",
    "\n",
    "* a aa aaa zzzz\n",
    "\n",
    "which might be written [a] [aa] [aaa] [zzzz] in typical math notation..."
   ]
  },
  {
   "cell_type": "code",
   "execution_count": 2,
   "id": "e4ae2adf-424b-4a19-8aaa-776794dd6731",
   "metadata": {},
   "outputs": [
    {
     "name": "stdout",
     "output_type": "stream",
     "text": [
      "a aa aaa zzzz"
     ]
    }
   ],
   "source": [
    "equiv P : a b c aa bb cc aaa z zzzz "
   ]
  },
  {
   "cell_type": "markdown",
   "id": "41b3a2ee-d4f9-4b36-9c68-cc88f0d523aa",
   "metadata": {},
   "source": [
    "This definition of equiv means that equiv P is a **space** for any P, making equiv fit nicely into the theory of pure spaces. "
   ]
  },
  {
   "cell_type": "code",
   "execution_count": 3,
   "id": "f3cf2e54-f04b-4d81-bfd9-af41ac97fa8a",
   "metadata": {},
   "outputs": [
    {
     "name": "stdout",
     "output_type": "stream",
     "text": [
      "a aa aaa zzzz 666666"
     ]
    }
   ],
   "source": [
    "equiv P : (equiv P : a b c aa bb cc aaa z zzzz ) (equiv P : 666666 1 22 333 4444) "
   ]
  },
  {
   "cell_type": "code",
   "execution_count": 4,
   "id": "c24999a6-9982-4d1c-8f75-efee5b37c462",
   "metadata": {},
   "outputs": [
    {
     "name": "stdout",
     "output_type": "stream",
     "text": [
      "a (bin:x) ◎"
     ]
    }
   ],
   "source": [
    "equiv domain : a b c (bin:x) (:) (bin:y) (bin:(:)) "
   ]
  },
  {
   "cell_type": "code",
   "execution_count": null,
   "id": "4da049c7-18b1-42d6-9a38-9bdff113b9e9",
   "metadata": {},
   "outputs": [],
   "source": []
  }
 ],
 "metadata": {
  "kernelspec": {
   "display_name": "coda",
   "language": "",
   "name": "coda"
  },
  "language_info": {
   "file_extension": ".co",
   "mimetype": "text/plain",
   "name": "Any text"
  }
 },
 "nbformat": 4,
 "nbformat_minor": 5
}
