{
 "cells": [
  {
   "cell_type": "markdown",
   "id": "b111e744-7326-4abb-bde3-73810d76875a",
   "metadata": {},
   "source": [
    "## Evaluation Control and Multiprocessing\n",
    "\n",
    "Multiprocessing works by replacing **eval** with **multi** provided that the inputs are all **with**.  Each with is evaluated with a new context as usual. **multi** differs only in that the separate inputs are evaluated in separate processes.  "
   ]
  },
  {
   "cell_type": "code",
   "execution_count": 1,
   "id": "ffc12796-0a5f-4bb8-96d3-2df2254ec787",
   "metadata": {},
   "outputs": [
    {
     "name": "stdout",
     "output_type": "stream",
     "text": [
      "a b c d"
     ]
    }
   ],
   "source": [
    "a b c d"
   ]
  },
  {
   "cell_type": "code",
   "execution_count": 3,
   "id": "39d55d2e-1889-4e92-a77b-14c4e3d6fe37",
   "metadata": {},
   "outputs": [
    {
     "name": "stdout",
     "output_type": "stream",
     "text": [
      "d c b a"
     ]
    }
   ],
   "source": [
    "rev : a b c d "
   ]
  },
  {
   "cell_type": "code",
   "execution_count": null,
   "id": "1098d147-846a-4849-b8f6-642587c768f2",
   "metadata": {},
   "outputs": [],
   "source": [
    "Def let : {def A : {A} B}\n",
    "Def use : ap use1"
   ]
  },
  {
   "cell_type": "code",
   "execution_count": null,
   "id": "e8a6de11-ef07-4a05-b5c1-8656eee5953f",
   "metadata": {},
   "outputs": [],
   "source": [
    "ap use1 : def first3 : {first 3:B}"
   ]
  },
  {
   "cell_type": "code",
   "execution_count": null,
   "id": "a7908c4b-6f50-458d-a343-f7d09751c603",
   "metadata": {},
   "outputs": [],
   "source": [
    "ap use1 : def eval : ap eval1 "
   ]
  },
  {
   "cell_type": "code",
   "execution_count": null,
   "id": "44121e58-a4f1-42f6-8635-328c3ba39232",
   "metadata": {},
   "outputs": [],
   "source": [
    "Def Let : {use : {let A:B} A : B}\n",
    "Def Def : {use : def A : B}\n",
    "Def eval : ap eval1"
   ]
  },
  {
   "cell_type": "code",
   "execution_count": null,
   "id": "37b4c292-f861-4b50-8715-49d93cfd4c0c",
   "metadata": {},
   "outputs": [],
   "source": []
  },
  {
   "cell_type": "code",
   "execution_count": null,
   "id": "50779943-4e10-44e2-96a9-a3b919c65197",
   "metadata": {},
   "outputs": [],
   "source": [
    "with : nat : 0 "
   ]
  },
  {
   "cell_type": "code",
   "execution_count": null,
   "id": "ff732a4d-e2bc-4855-baa4-511490238692",
   "metadata": {},
   "outputs": [],
   "source": [
    "multi 1 : (with:nat:0) "
   ]
  },
  {
   "cell_type": "code",
   "execution_count": null,
   "id": "d85d6f27-1434-42a5-983d-ecf7fbe77cf2",
   "metadata": {},
   "outputs": [],
   "source": [
    "multi 100 : (with:nat:0) (with:nat:0)"
   ]
  },
  {
   "cell_type": "code",
   "execution_count": null,
   "id": "114d573d-47d2-433f-a824-2143c6b385cb",
   "metadata": {},
   "outputs": [],
   "source": []
  }
 ],
 "metadata": {
  "kernelspec": {
   "display_name": "coda",
   "language": "",
   "name": "coda"
  },
  "language_info": {
   "file_extension": ".co",
   "mimetype": "text/plain",
   "name": "Any text"
  }
 },
 "nbformat": 4,
 "nbformat_minor": 5
}
