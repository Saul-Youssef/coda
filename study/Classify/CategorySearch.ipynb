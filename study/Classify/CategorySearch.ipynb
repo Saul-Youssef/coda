{
 "cells": [
  {
   "cell_type": "markdown",
   "id": "d1a85f2e-2756-40cd-b843-fd5c58ed4efd",
   "metadata": {},
   "source": [
    "After the success of finding even and odd atoms, let's try to find all categories from the same search space..."
   ]
  },
  {
   "cell_type": "code",
   "execution_count": 1,
   "id": "b05b090d-64e1-4129-88e6-c7b365258aad",
   "metadata": {},
   "outputs": [
    {
     "data": {
      "text/plain": [
       "eval: False, true: 0, false:0, undecided:0, codas:143, datas:11568"
      ]
     },
     "execution_count": 1,
     "metadata": {},
     "output_type": "execute_result"
    }
   ],
   "source": [
    "from base import *\n",
    "from Space import Space\n",
    "import Generate\n",
    "\n",
    "S = Generate.Gen(Generate.codas,3).space()\n",
    "S"
   ]
  },
  {
   "cell_type": "code",
   "execution_count": 2,
   "id": "cebbb448-724c-44ef-88be-d835206f4365",
   "metadata": {},
   "outputs": [],
   "source": [
    "#\n",
    "#   We'll use Even and Odd for a few atoms just to filter\n",
    "#   the space down somewhat. \n",
    "#\n",
    "Even = Generate.EvenAtoms(2)\n",
    "Odd = Generate.OddAtoms(2)"
   ]
  },
  {
   "cell_type": "markdown",
   "id": "e089b660-9c80-4fc2-9eb8-8fd794707f13",
   "metadata": {},
   "source": [
    "Data `C` is a **category** if \n",
    "\n",
    "`C : X Y = C: (C:X) (C:Y)` \n",
    "\n",
    "for all data `X`, `Y`.\n",
    "\n",
    "For filtering purposes, let's require this condition for X=Y. "
   ]
  },
  {
   "cell_type": "code",
   "execution_count": 3,
   "id": "eaf49b02-df7d-47a2-8d6e-392685f055a2",
   "metadata": {},
   "outputs": [
    {
     "data": {
      "text/plain": [
       "10"
      ]
     },
     "execution_count": 3,
     "metadata": {},
     "output_type": "execute_result"
    }
   ],
   "source": [
    "import Evaluate\n",
    "def eval(d): return Evaluate.default(d)\n",
    "\n",
    "def equal(x,y):\n",
    "    return data((da('=')+x)|y)\n",
    "\n",
    "def cat1(c,x): \n",
    "    left = data(c|(x+x))\n",
    "    right = data(c|((c|x)+(c|x))) \n",
    "    return not eval(equal(left,right)).atomic()\n",
    "\n",
    "Evaluate.DEPTH = 10\n",
    "Evaluate.DEPTH"
   ]
  },
  {
   "cell_type": "code",
   "execution_count": 4,
   "id": "00d9de18-e3e2-412a-a247-58b7d9068178",
   "metadata": {
    "tags": []
   },
   "outputs": [],
   "source": [
    "S1 = S.subop(cat1,Even)"
   ]
  },
  {
   "cell_type": "code",
   "execution_count": 5,
   "id": "5af9c327-599d-42bb-bb2c-c6ee09b52505",
   "metadata": {},
   "outputs": [
    {
     "data": {
      "text/plain": [
       "eval: False, true: 0, false:0, undecided:0, codas:143, datas:4532"
      ]
     },
     "execution_count": 5,
     "metadata": {},
     "output_type": "execute_result"
    }
   ],
   "source": [
    "S1"
   ]
  },
  {
   "cell_type": "code",
   "execution_count": 6,
   "id": "a82bef8a-cc54-4267-b79d-b5e83c331f30",
   "metadata": {},
   "outputs": [],
   "source": [
    "Evaluate.DEPTH = 50"
   ]
  },
  {
   "cell_type": "code",
   "execution_count": null,
   "id": "57a4024c-aadb-4216-9e3f-416a5e0b46ae",
   "metadata": {
    "tags": []
   },
   "outputs": [],
   "source": [
    "S2 = S1.subop(cat1,Odd)"
   ]
  },
  {
   "cell_type": "code",
   "execution_count": null,
   "id": "088de381-f2fc-462e-921e-c4f415aa013b",
   "metadata": {},
   "outputs": [],
   "source": [
    "S2"
   ]
  },
  {
   "cell_type": "code",
   "execution_count": null,
   "id": "63123e4a-0ce5-44dc-82cd-698cb0fe3a2b",
   "metadata": {},
   "outputs": [],
   "source": [
    "\n",
    "def cat2(c,x): \n",
    "    left = data(c|(x+x))\n",
    "    right = data(c|((c|x)+(c|x))) \n",
    "    return eval(equal(left,right)).empty()\n"
   ]
  },
  {
   "cell_type": "code",
   "execution_count": null,
   "id": "47c7cb70-43be-4e04-841c-1f1568aa6020",
   "metadata": {
    "tags": []
   },
   "outputs": [],
   "source": [
    "S3 = S2.subop(cat2,Generate.EvenAtoms(5))\n",
    "S3"
   ]
  },
  {
   "cell_type": "code",
   "execution_count": null,
   "id": "e2f13d51-e458-462d-9ba6-db5fbd54f1f6",
   "metadata": {},
   "outputs": [],
   "source": [
    "Ran10 = Space(*[s for s in S.data_sample(5)])"
   ]
  },
  {
   "cell_type": "code",
   "execution_count": null,
   "id": "1292f843-0524-407b-aee6-aa1eb92a10db",
   "metadata": {
    "tags": []
   },
   "outputs": [],
   "source": [
    "S4 = S3.subop(cat2,Ran10)"
   ]
  },
  {
   "cell_type": "code",
   "execution_count": null,
   "id": "9019a579-7c68-4538-912b-ccac01b033a0",
   "metadata": {},
   "outputs": [],
   "source": [
    "S4"
   ]
  },
  {
   "cell_type": "code",
   "execution_count": null,
   "id": "b18fed3e-45c3-462d-9345-81c76a1fcd85",
   "metadata": {},
   "outputs": [],
   "source": [
    "Ran200 = Space(*[s for s in S.data_sample(200)])"
   ]
  },
  {
   "cell_type": "code",
   "execution_count": null,
   "id": "79fb8b99-b925-4b8a-80bf-8acb1ad7c024",
   "metadata": {},
   "outputs": [],
   "source": [
    "Ran200"
   ]
  },
  {
   "cell_type": "code",
   "execution_count": null,
   "id": "719c3e62-ed40-47e5-b538-2517d99b1564",
   "metadata": {
    "tags": []
   },
   "outputs": [],
   "source": [
    "S5 = S4.subop(cat2,Ran200)"
   ]
  },
  {
   "cell_type": "code",
   "execution_count": null,
   "id": "267efdfc-f5a7-4f80-a468-f4b2674160fa",
   "metadata": {},
   "outputs": [],
   "source": [
    "S5"
   ]
  },
  {
   "cell_type": "code",
   "execution_count": null,
   "id": "9d6132bc-a4bb-4460-903f-f6e750a7ae43",
   "metadata": {
    "tags": []
   },
   "outputs": [],
   "source": [
    "for i in range(10): print(S5[i])"
   ]
  },
  {
   "cell_type": "code",
   "execution_count": null,
   "id": "a6a0a26b-f527-49bf-b687-53f48cc328f4",
   "metadata": {},
   "outputs": [],
   "source": [
    "len(Generate.Window(2,2))"
   ]
  },
  {
   "cell_type": "code",
   "execution_count": null,
   "id": "ed423d0d-e55c-4db3-8f6f-543aba376169",
   "metadata": {
    "tags": []
   },
   "outputs": [],
   "source": [
    "S6 = S5.subop(cat2,Generate.Window(2,2))\n",
    "S6"
   ]
  },
  {
   "cell_type": "code",
   "execution_count": null,
   "id": "a81a7dcc-ed50-40df-bdbf-aac0de7ad46b",
   "metadata": {},
   "outputs": [],
   "source": [
    "\n",
    "def cat3(c,x,y): \n",
    "    left = data(c|(x+y))\n",
    "    right = data(c|((c|x)+(c|y))) \n",
    "    return eval(equal(left,right)).empty()\n"
   ]
  },
  {
   "cell_type": "code",
   "execution_count": null,
   "id": "4a7ad6dc-2802-43ce-a5e5-905752fc27fa",
   "metadata": {},
   "outputs": [],
   "source": [
    "S7 = S6.subspace_three(cat3,Generate.EvenAtoms(2))"
   ]
  },
  {
   "cell_type": "code",
   "execution_count": null,
   "id": "54cf3a2f-e6e4-4201-94ff-bb972323a117",
   "metadata": {},
   "outputs": [],
   "source": []
  },
  {
   "cell_type": "code",
   "execution_count": null,
   "id": "e347e678-9932-4c89-b439-341989ce8fb1",
   "metadata": {},
   "outputs": [],
   "source": []
  }
 ],
 "metadata": {
  "kernelspec": {
   "display_name": "Python 3 (ipykernel)",
   "language": "python",
   "name": "python3"
  },
  "language_info": {
   "codemirror_mode": {
    "name": "ipython",
    "version": 3
   },
   "file_extension": ".py",
   "mimetype": "text/x-python",
   "name": "python",
   "nbconvert_exporter": "python",
   "pygments_lexer": "ipython3",
   "version": "3.10.7"
  }
 },
 "nbformat": 4,
 "nbformat_minor": 5
}
