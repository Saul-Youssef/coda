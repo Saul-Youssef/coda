{
 "cells": [
  {
   "cell_type": "markdown",
   "id": "a3bc85fa-62b1-442d-aed5-21852f873561",
   "metadata": {},
   "source": [
    "| rep \\| |  |\n",
    "|---|---|\n",
    "| Description | Counts atoms recording the result as 3=\\|\\|\\| etc. | \n",
    "| Data | sequences of \\| | \n",
    "| Operation | concatentation or natural number addition | \n",
    "| Simple? | Y | \n",
    "| Distributive? | Y | \n",
    "| Neutral element? | () | \n",
    "| Endomorphisms | x | \n",
    "\n",
    "We use \\{rep \\|:B\\} instead of rep \\| to avoid extraneous arguments."
   ]
  },
  {
   "cell_type": "code",
   "execution_count": 10,
   "id": "d08f6ccc-f914-46c7-82a0-25ed18199a51",
   "metadata": {},
   "outputs": [
    {
     "name": "stdout",
     "output_type": "stream",
     "text": [
      "| | | |\n",
      "| | | |"
     ]
    }
   ],
   "source": [
    "rep | : a b c d\n",
    "{rep |:B} : a b c d\n",
    "Let OP : {rep |:B}"
   ]
  },
  {
   "cell_type": "code",
   "execution_count": 3,
   "id": "ee501de0-76b8-42ec-9434-812f1420b822",
   "metadata": {},
   "outputs": [
    {
     "name": "stdout",
     "output_type": "stream",
     "text": []
    }
   ],
   "source": [
    "import : dir co : up : ."
   ]
  },
  {
   "cell_type": "code",
   "execution_count": 15,
   "id": "b70a5a67-f4c8-4dfd-8540-a143b25ba3a6",
   "metadata": {},
   "outputs": [
    {
     "name": "stdout",
     "output_type": "stream",
     "text": [
      "0\n",
      "0\n",
      "0"
     ]
    }
   ],
   "source": [
    "count : theorem (idempotent1:OP?) : S2?\n",
    "count : theorem (distributive1:OP?) : S2?\n",
    "count : theorem (simple:OP?) : S2?"
   ]
  },
  {
   "cell_type": "code",
   "execution_count": 25,
   "id": "b3487eb7-0573-43a8-850e-ea2267ef3998",
   "metadata": {},
   "outputs": [
    {
     "name": "stdout",
     "output_type": "stream",
     "text": [
      "4\n",
      "(with (def x:{A} ◎):◎) (with (def x:{A} ◎ ◎):◎) (with (def x:{A} ◎ ◎ ◎):◎) (with (def x:{A} ◎ ◎ ◎ ◎):◎)\n",
      "a b\n",
      "a b a b"
     ]
    }
   ],
   "source": [
    "#\n",
    "#   rep is not idempotent with more than one argument \n",
    "#   as demonstrated by this \n",
    "#\n",
    "count : theorem (idempotent1:rep a b) : S1?\n",
    "theorem (idempotent1:rep a b) : S1?\n",
    "rep a b : (:) \n",
    "rep a b : rep a b : (:)"
   ]
  },
  {
   "cell_type": "markdown",
   "id": "5338f9d6-3139-4e21-a740-d3b1368a5bcd",
   "metadata": {},
   "source": [
    "So **rep a** is a space, but **rep a b** is not a space."
   ]
  },
  {
   "cell_type": "code",
   "execution_count": null,
   "id": "ec85adc0-1513-4d44-8c17-bfad91b8fa0f",
   "metadata": {},
   "outputs": [],
   "source": []
  }
 ],
 "metadata": {
  "kernelspec": {
   "display_name": "coda",
   "language": "",
   "name": "coda"
  },
  "language_info": {
   "file_extension": ".co",
   "mimetype": "text/plain",
   "name": "Any text"
  }
 },
 "nbformat": 4,
 "nbformat_minor": 5
}
