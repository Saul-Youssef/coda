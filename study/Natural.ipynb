{
 "cells": [
  {
   "cell_type": "markdown",
   "id": "d5dc58cd-a33b-434d-b3ac-4f681e7362c4",
   "metadata": {},
   "source": [
    "# Natural Numbers\n",
    "\n"
   ]
  },
  {
   "cell_type": "code",
   "execution_count": 1,
   "id": "fb60949c-a626-4e8d-ba62-9cd657b4cd5a",
   "metadata": {},
   "outputs": [
    {
     "name": "stdout",
     "output_type": "stream",
     "text": []
    }
   ],
   "source": [
    "#\n",
    "# \n",
    "#\n",
    "def p: \n",
    "let p.make : {put p : rep | : B }\n",
    "let p.type : {has p:B} \n",
    "let p.sum  : {put p : get p : B} * p.type? \n",
    "let p.term : ap {count : get p : B} * p.type? "
   ]
  },
  {
   "cell_type": "code",
   "execution_count": 2,
   "id": "85517240-2a39-4ebb-a7db-4ebf668751e7",
   "metadata": {},
   "outputs": [
    {
     "name": "stdout",
     "output_type": "stream",
     "text": [
      "4"
     ]
    }
   ],
   "source": [
    "ap {count : get p :B} : p.type? : p.make? : a b c d "
   ]
  },
  {
   "cell_type": "code",
   "execution_count": 3,
   "id": "e5bd9e8a-d98a-4ea0-8700-9e9b82068217",
   "metadata": {},
   "outputs": [
    {
     "name": "stdout",
     "output_type": "stream",
     "text": [
      "3"
     ]
    }
   ],
   "source": [
    "count : a b c "
   ]
  },
  {
   "cell_type": "code",
   "execution_count": 4,
   "id": "1eb52e40-8d45-43e2-bb57-71894b233dc5",
   "metadata": {},
   "outputs": [
    {
     "name": "stdout",
     "output_type": "stream",
     "text": []
    }
   ],
   "source": [
    "help : out"
   ]
  },
  {
   "cell_type": "code",
   "execution_count": 5,
   "id": "11703a50-6d6a-4905-94dd-86fd5d1350ba",
   "metadata": {},
   "outputs": [
    {
     "name": "stdout",
     "output_type": "stream",
     "text": []
    }
   ],
   "source": [
    "let first3. : {first 3:B}"
   ]
  },
  {
   "cell_type": "code",
   "execution_count": 6,
   "id": "987da39a-74e4-4636-b9e4-dd1052b256a5",
   "metadata": {},
   "outputs": [
    {
     "name": "stdout",
     "output_type": "stream",
     "text": [
      "{first 3:B}"
     ]
    }
   ],
   "source": [
    "first3. : 1 2 3 "
   ]
  },
  {
   "cell_type": "code",
   "execution_count": 7,
   "id": "69d94ddc-cb07-45ba-9af1-106dc0d30212",
   "metadata": {},
   "outputs": [
    {
     "name": "stdout",
     "output_type": "stream",
     "text": [
      "1 2 3"
     ]
    }
   ],
   "source": [
    "{first 3:B} : 1 2 3 "
   ]
  },
  {
   "cell_type": "code",
   "execution_count": 8,
   "id": "3603d94a-d7d5-4faf-9de0-5c2bced2e816",
   "metadata": {},
   "outputs": [
    {
     "name": "stdout",
     "output_type": "stream",
     "text": []
    }
   ],
   "source": [
    "def (bin:3) : {xxx}"
   ]
  },
  {
   "cell_type": "code",
   "execution_count": 9,
   "id": "bdd7107e-8eba-498d-8564-0a47cc66add8",
   "metadata": {},
   "outputs": [
    {
     "name": "stdout",
     "output_type": "stream",
     "text": [
      "(bin:3)"
     ]
    }
   ],
   "source": [
    "bin:3"
   ]
  },
  {
   "cell_type": "code",
   "execution_count": 10,
   "id": "493606c3-545b-49bd-aca6-94a4aeb8faf4",
   "metadata": {},
   "outputs": [
    {
     "name": "stdout",
     "output_type": "stream",
     "text": [
      "xxx"
     ]
    }
   ],
   "source": [
    "(bin:3):"
   ]
  },
  {
   "cell_type": "code",
   "execution_count": 11,
   "id": "bd479849-03f0-4e48-b2ef-f57169dd0452",
   "metadata": {},
   "outputs": [
    {
     "name": "stdout",
     "output_type": "stream",
     "text": []
    }
   ],
   "source": [
    "let bin3 : foo"
   ]
  },
  {
   "cell_type": "code",
   "execution_count": 12,
   "id": "e7374d79-6b62-4e0e-8790-7ee398c72e3f",
   "metadata": {},
   "outputs": [
    {
     "name": "stdout",
     "output_type": "stream",
     "text": [
      "bin3"
     ]
    }
   ],
   "source": [
    "bin3"
   ]
  },
  {
   "cell_type": "code",
   "execution_count": 13,
   "id": "aa2f70fb-7370-4fb3-9a4d-5426b5d2f9cf",
   "metadata": {},
   "outputs": [
    {
     "name": "stdout",
     "output_type": "stream",
     "text": [
      "foo"
     ]
    }
   ],
   "source": [
    "bin3?"
   ]
  },
  {
   "cell_type": "code",
   "execution_count": null,
   "id": "94a41cc0-da9f-4ec0-9de7-ba11ab05c9d2",
   "metadata": {},
   "outputs": [],
   "source": []
  }
 ],
 "metadata": {
  "kernelspec": {
   "display_name": "coda",
   "language": "",
   "name": "coda"
  },
  "language_info": {
   "file_extension": ".co",
   "mimetype": "text/plain",
   "name": "Any text"
  }
 },
 "nbformat": 4,
 "nbformat_minor": 5
}
