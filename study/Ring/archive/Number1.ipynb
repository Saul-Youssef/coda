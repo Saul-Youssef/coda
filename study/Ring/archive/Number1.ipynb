{
 "cells": [
  {
   "cell_type": "code",
   "execution_count": 2,
   "id": "beaab355-c7a1-4a77-9a66-1d382da9f15a",
   "metadata": {},
   "outputs": [
    {
     "name": "stdout",
     "output_type": "stream",
     "text": [
      "...traceback: [n] is already defined"
     ]
    }
   ],
   "source": [
    "import : ."
   ]
  },
  {
   "cell_type": "code",
   "execution_count": 1,
   "id": "18739410-c933-4b2b-a04f-f73bf80df23e",
   "metadata": {},
   "outputs": [
    {
     "name": "stdout",
     "output_type": "stream",
     "text": []
    }
   ],
   "source": [
    "help : equiv"
   ]
  },
  {
   "cell_type": "code",
   "execution_count": null,
   "id": "a3affd0e-5fab-434d-b308-113707ca80ea",
   "metadata": {},
   "outputs": [],
   "source": []
  }
 ],
 "metadata": {
  "kernelspec": {
   "display_name": "coda",
   "language": "",
   "name": "coda"
  },
  "language_info": {
   "file_extension": ".co",
   "mimetype": "text/plain",
   "name": "Any text"
  }
 },
 "nbformat": 4,
 "nbformat_minor": 5
}
