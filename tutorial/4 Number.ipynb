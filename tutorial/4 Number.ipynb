{
 "cells": [
  {
   "cell_type": "markdown",
   "id": "5d3af8a5-7c42-4296-b5de-a3d5a71ad014",
   "metadata": {},
   "source": [
    "## Coda includes integers and floating point numbers \n",
    "\n"
   ]
  },
  {
   "cell_type": "code",
   "execution_count": 1,
   "id": "08dbf1e2-f653-481d-827f-2f6abb24eb65",
   "metadata": {},
   "outputs": [
    {
     "name": "stdout",
     "output_type": "stream",
     "text": [
      "15"
     ]
    }
   ],
   "source": [
    "int_sum : 1 2 3 4 5 "
   ]
  },
  {
   "cell_type": "code",
   "execution_count": 2,
   "id": "487a355d-956c-4b4a-97c8-cd8070c6f858",
   "metadata": {},
   "outputs": [
    {
     "name": "stdout",
     "output_type": "stream",
     "text": [
      "\u001b[;1mcode:\u001b[0m\n",
      "    \u001b[34;7mints\u001b[0m\n",
      "\u001b[;1mmodule:\u001b[0m\n",
      "    Number\n",
      "\u001b[;1msummary:\u001b[0m\n",
      "    demo: nats : a b 3.14 2 3 -45\n",
      "\u001b[;1mdescription:\u001b[0m\n",
      "\u001b[;1mpath:\u001b[0m\n",
      "    /Users/youssef/coda/py/Number.py\n",
      "\u001b[;1mdemos:\u001b[0m\n",
      "    1. \u001b[35;4mnats : a b 3.14 2 3 -45\u001b[0m\n",
      "    2. \u001b[35;4mnat_sum : a b 3.14 2 3 -45\u001b[0m\n",
      "    3. \u001b[35;4mnat_prod : a b 3.14 2 3 -45\u001b[0m\n",
      "    4. \u001b[35;4mnat_min : a b 3.14 2 3 -45\u001b[0m\n",
      "    5. \u001b[35;4mnat_max : a b 3.14 2 3 -45\u001b[0m\n",
      "    6. \u001b[35;4mnat_sort : a b 3.14 2 3 -45\u001b[0m\n",
      "    7. \u001b[35;4mints : a b 3.14 2 3 -45\u001b[0m\n",
      "    8. \u001b[35;4mint_sum : a b 3.14 2 3 -45\u001b[0m\n",
      "    9. \u001b[35;4mint_prod : a b 3.14 2 3 -45\u001b[0m\n",
      "    10. \u001b[35;4mint_min : a b 3.14 2 3 -45\u001b[0m\n",
      "    11. \u001b[35;4mint_max : a b 3.14 2 3 -45\u001b[0m\n",
      "    12. \u001b[35;4mint_sort : a b 3.14 2 3 -45\u001b[0m\n",
      "    13. \u001b[35;4mint_inv : a b 3.14 2 3 -45\u001b[0m\n",
      "    14. \u001b[35;4mint_div 2 : 1 2 3 4 5 6\u001b[0m\n",
      "    15. \u001b[35;4mfloats : a b 3.14 2 3 -45\u001b[0m\n",
      "    16. \u001b[35;4mfloat_sum : a b 3.14 2 3 -45\u001b[0m\n",
      "    17. \u001b[35;4mfloat_prod : a b 3.14 2 3 -45\u001b[0m\n",
      "    18. \u001b[35;4mfloat_min : a b 3.14 2 3 -45\u001b[0m\n",
      "    19. \u001b[35;4mfloat_max : a b 3.14 2 3 -45\u001b[0m\n",
      "    20. \u001b[35;4mfloat_sort : a b 3.14 2 3 -45\u001b[0m\n",
      "    21. \u001b[35;4mfloat_inv : a b 3.14 2 3 -45\u001b[0m\n",
      "    22. \u001b[35;4mfloat_div 2 : 1 2 3 4 5 6\u001b[0m\n"
     ]
    }
   ],
   "source": [
    "help : ints "
   ]
  },
  {
   "cell_type": "code",
   "execution_count": null,
   "id": "74afd1a0-f980-4129-aabf-f7c541132912",
   "metadata": {},
   "outputs": [],
   "source": []
  },
  {
   "cell_type": "code",
   "execution_count": null,
   "id": "f81e669a-59cd-4a39-9772-50b59132843f",
   "metadata": {},
   "outputs": [],
   "source": []
  }
 ],
 "metadata": {
  "kernelspec": {
   "display_name": "coda",
   "language": "",
   "name": "coda"
  },
  "language_info": {
   "file_extension": ".co",
   "mimetype": "text/plain",
   "name": "Any text"
  }
 },
 "nbformat": 4,
 "nbformat_minor": 5
}
