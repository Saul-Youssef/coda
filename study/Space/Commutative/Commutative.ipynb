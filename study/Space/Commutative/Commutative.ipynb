{
 "cells": [
  {
   "cell_type": "code",
   "execution_count": 1,
   "id": "42f50922-f63d-4500-ad5d-eddce50f9a40",
   "metadata": {},
   "outputs": [
    {
     "name": "stdout",
     "output_type": "stream",
     "text": []
    }
   ],
   "source": [
    "import : dir co : up : ."
   ]
  },
  {
   "cell_type": "code",
   "execution_count": 2,
   "id": "bb858da6-18fd-4b04-a93e-b944167e544a",
   "metadata": {},
   "outputs": [
    {
     "name": "stdout",
     "output_type": "stream",
     "text": [
      "2\n",
      "4"
     ]
    }
   ],
   "source": [
    "count : theorem (commutative:ap pass) : (:a b) (:a a)\n",
    "count : theorem (commutative2:rev) : (:a b) (:a a)"
   ]
  },
  {
   "cell_type": "code",
   "execution_count": 3,
   "id": "c264b8d6-da67-4760-8931-2119e76ab2f5",
   "metadata": {},
   "outputs": [
    {
     "name": "stdout",
     "output_type": "stream",
     "text": [
      "(with:(bin ap pass:2)) (with:(bin rev:2))"
     ]
    }
   ],
   "source": [
    "ap {eval 100 : with : (bin (get:B) : count : theorem (commutative:get:B) : A)} (:a b) (:a a) : (:ap pass) (:rev) "
   ]
  },
  {
   "cell_type": "code",
   "execution_count": 4,
   "id": "7fe4e7a4-a405-4f9a-875a-b807b41540fb",
   "metadata": {},
   "outputs": [
    {
     "name": "stdout",
     "output_type": "stream",
     "text": []
    }
   ],
   "source": [
    "Def Test1 : ap {eval 100 : with : (bin (get:B) : count : theorem (commutative:get:B) : A)}"
   ]
  },
  {
   "cell_type": "code",
   "execution_count": 5,
   "id": "1c77a757-748a-41e3-81c1-8fc50c3d481a",
   "metadata": {},
   "outputs": [
    {
     "name": "stdout",
     "output_type": "stream",
     "text": []
    }
   ],
   "source": [
    "Def Test2 : ap {eval 100 : with : (bin (get:B) : count : theorem (commutative2:get:B) : A)}"
   ]
  },
  {
   "cell_type": "code",
   "execution_count": 6,
   "id": "9ed3cadd-0bc4-48de-9a96-12b02200105f",
   "metadata": {},
   "outputs": [
    {
     "name": "stdout",
     "output_type": "stream",
     "text": [
      "(with:(bin ap pass:4)) (with:(bin count:0))"
     ]
    }
   ],
   "source": [
    "Test2 (:a b) (:a a) : (:ap pass) (:count) "
   ]
  },
  {
   "cell_type": "code",
   "execution_count": 7,
   "id": "4b5195b4-883f-4ebe-bcc4-32d11566f287",
   "metadata": {},
   "outputs": [
    {
     "name": "stdout",
     "output_type": "stream",
     "text": [
      "(:a b) (:a a) ◎ (:0 1)"
     ]
    }
   ],
   "source": [
    "S0?"
   ]
  },
  {
   "cell_type": "code",
   "execution_count": 8,
   "id": "68f300ae-2be0-45fe-8007-e89ab070e851",
   "metadata": {},
   "outputs": [
    {
     "name": "stdout",
     "output_type": "stream",
     "text": [
      "(:arg) (:bin) (:by) (:co) (:code_sort) (:collect) (:count) (:domain) (:equiv) (:first) (:float_div) (:float_inv) (:float_max) (:float_min) (:float_prod) (:float_sort) (:float_sum) (:floats) (:get) (:has) (:hasnt) (:if) (:int_div) (:int_inv) (:int_max) (:int_min) (:int_prod) (:int_sort) (:int_sum) (:ints) (:is) (:isnt) (:last) (:left) (:nat) (:nats) (:nif) (:nth) (:nth1) (:null) (:once) (:pass) (:plus) (:post) (:pre) (:prod) (:put) (:rep) (:rev) (:right) (:skip) (:star) (:sum) (:tail)"
     ]
    }
   ],
   "source": [
    "T0?"
   ]
  },
  {
   "cell_type": "code",
   "execution_count": 9,
   "id": "108b413b-5d78-4eb6-b068-014c3c408bd8",
   "metadata": {},
   "outputs": [
    {
     "name": "stdout",
     "output_type": "stream",
     "text": []
    }
   ],
   "source": [
    "Let R0 : Test2 S0? : T0?"
   ]
  },
  {
   "cell_type": "code",
   "execution_count": 10,
   "id": "43938649-9358-4800-bbd7-07332ceb2fae",
   "metadata": {},
   "outputs": [
    {
     "name": "stdout",
     "output_type": "stream",
     "text": []
    }
   ],
   "source": [
    "out R0 : R0?"
   ]
  },
  {
   "cell_type": "code",
   "execution_count": 11,
   "id": "2d985e01-0dcc-4882-867c-1a749b407505",
   "metadata": {},
   "outputs": [
    {
     "name": "stdout",
     "output_type": "stream",
     "text": []
    }
   ],
   "source": [
    "Let R1 : Test2 S0? : T1? "
   ]
  },
  {
   "cell_type": "code",
   "execution_count": 12,
   "id": "efc994e2-890f-4fc0-948d-35e884b3d246",
   "metadata": {},
   "outputs": [
    {
     "name": "stdout",
     "output_type": "stream",
     "text": []
    }
   ],
   "source": [
    "out R1 : R1? "
   ]
  },
  {
   "cell_type": "code",
   "execution_count": null,
   "id": "9e7c6f1e-9770-4c05-a2af-2622cf2941d5",
   "metadata": {},
   "outputs": [],
   "source": [
    "Let R2 : Test2 S0? : T2? "
   ]
  },
  {
   "cell_type": "code",
   "execution_count": null,
   "id": "785dc739-b26f-41bb-852e-199b3a00325f",
   "metadata": {},
   "outputs": [],
   "source": [
    "out R2 : R2?"
   ]
  },
  {
   "cell_type": "code",
   "execution_count": null,
   "id": "e15db8a6-ccba-45bd-b8a7-f315469acb50",
   "metadata": {},
   "outputs": [],
   "source": []
  },
  {
   "cell_type": "code",
   "execution_count": null,
   "id": "15307720-52d0-4090-8d83-53905f9a5ba2",
   "metadata": {},
   "outputs": [],
   "source": []
  }
 ],
 "metadata": {
  "kernelspec": {
   "display_name": "coda",
   "language": "",
   "name": "coda"
  },
  "language_info": {
   "file_extension": ".co",
   "mimetype": "text/plain",
   "name": "Any text"
  }
 },
 "nbformat": 4,
 "nbformat_minor": 5
}
