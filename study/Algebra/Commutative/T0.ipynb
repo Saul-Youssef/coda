{
 "cells": [
  {
   "cell_type": "markdown",
   "id": "8494e839-f0a0-42b7-88d4-f50ca2e394f5",
   "metadata": {},
   "source": [
    "## Commutativity\n",
    "\n",
    "Data U is **commutative** if U A:X Y = U A:Y X for all data X,Y.  Here we search for data with this unusual property. "
   ]
  },
  {
   "cell_type": "code",
   "execution_count": 1,
   "id": "b145e065-ee32-4f83-88ae-34fe75f46290",
   "metadata": {},
   "outputs": [
    {
     "name": "stdout",
     "output_type": "stream",
     "text": []
    }
   ],
   "source": [
    "import : dir co : up . : up : ."
   ]
  },
  {
   "cell_type": "code",
   "execution_count": 2,
   "id": "8a29ec8a-b022-4792-923b-19db13dbc9e5",
   "metadata": {},
   "outputs": [
    {
     "name": "stdout",
     "output_type": "stream",
     "text": [
      "(:arg) (:bin) (:by) (:co) (:collect) (:count) (:domain) (:equiv) (:first) (:float_div) (:float_inv) (:float_max) (:float_min) (:float_prod) (:float_sort) (:float_sum) (:floats) (:get) (:has) (:hasnt) (:if) (:int_div) (:int_inv) (:int_max) (:int_min) (:int_prod) (:int_sort) (:int_sum) (:ints) (:is) (:isnt) (:last) (:left) (:nat) (:nat_max) (:nat_min) (:nat_prod) (:nat_sort) (:nat_sum) (:nats) (:nif) (:nth) (:nth1) (:null) (:once) (:pass) (:plus) (:post) (:pre) (:prod) (:put) (:rep) (:rev) (:right) (:skip) (:star) (:sum) (:tail) (:text_sort)"
     ]
    }
   ],
   "source": [
    "T0?"
   ]
  },
  {
   "cell_type": "code",
   "execution_count": 3,
   "id": "98d587fd-0588-43b7-a359-295949ea7649",
   "metadata": {},
   "outputs": [
    {
     "name": "stdout",
     "output_type": "stream",
     "text": [
      "(with (def x:{A} a) (def y:{A} a):0) (with (def x:{A} a) (def y:{A} b):4) (with (def x:{A} a) (def y:{A} c):2) (with (def x:{A} b) (def y:{A} a):4) (with (def x:{A} b) (def y:{A} b):0) (with (def x:{A} b) (def y:{A} c):2) (with (def x:{A} c) (def y:{A} a):2) (with (def x:{A} c) (def y:{A} b):2) (with (def x:{A} c) (def y:{A} c):0)"
     ]
    }
   ],
   "source": [
    "theorem (commutative:bin) : (:a) (:b) (:c)"
   ]
  },
  {
   "cell_type": "code",
   "execution_count": 4,
   "id": "1f1b62d7-929c-4f03-ac91-cdff8e18edd9",
   "metadata": {},
   "outputs": [
    {
     "name": "stdout",
     "output_type": "stream",
     "text": [
      "(bin pass:0 4 2 4 0 2 2 2 0) (bin null:0)"
     ]
    }
   ],
   "source": [
    "ap {put bin (get:B) : right : theorem (commutative:(get:B)) : A} (:a) (:b) (:c) : (:pass) (:null)  "
   ]
  },
  {
   "cell_type": "code",
   "execution_count": 5,
   "id": "7624ed0c-146d-4441-b200-d4fd4a04f93e",
   "metadata": {},
   "outputs": [
    {
     "name": "stdout",
     "output_type": "stream",
     "text": []
    }
   ],
   "source": [
    "Def Test : {put bin (get:B) : right : theorem (commutative:(get:B)) : A}"
   ]
  },
  {
   "cell_type": "code",
   "execution_count": 6,
   "id": "40266129-b1a1-4e5a-bc56-0531c6083e10",
   "metadata": {},
   "outputs": [
    {
     "name": "stdout",
     "output_type": "stream",
     "text": []
    }
   ],
   "source": [
    "Def TEST : {multi : ap {with:Test A:B} A : B} "
   ]
  },
  {
   "cell_type": "code",
   "execution_count": 7,
   "id": "3f5bc195-9571-4749-b8f0-716279990174",
   "metadata": {},
   "outputs": [
    {
     "name": "stdout",
     "output_type": "stream",
     "text": []
    }
   ],
   "source": [
    "Let T0-S0 : get with : TEST S0? : T0? "
   ]
  },
  {
   "cell_type": "code",
   "execution_count": 9,
   "id": "705fd150-7a63-42d3-9419-17356c14419b",
   "metadata": {},
   "outputs": [
    {
     "name": "stdout",
     "output_type": "stream",
     "text": [
      "(T0-S0:)"
     ]
    }
   ],
   "source": [
    "T0-S0?"
   ]
  },
  {
   "cell_type": "code",
   "execution_count": null,
   "id": "e30f1ee4-7611-46a6-be6a-1bf3c342b713",
   "metadata": {},
   "outputs": [],
   "source": [
    "out T0-S0 : T0-S0?"
   ]
  },
  {
   "cell_type": "code",
   "execution_count": null,
   "id": "a97a66f5-2046-4343-b5e3-2f7e503fdba1",
   "metadata": {
    "tags": []
   },
   "outputs": [],
   "source": [
    "more 1000 : ap {post <\\n>:get:B} : by 2 : ap {(int_sum:right:B) (arg:B)} : S0-T0?"
   ]
  },
  {
   "cell_type": "code",
   "execution_count": null,
   "id": "d171c57c-3bc2-4021-b257-557c269d4b69",
   "metadata": {},
   "outputs": [],
   "source": [
    "Let Candidates1 : by : ap {if (0=(int_sum:right:B)):arg:B} : S0-T0?"
   ]
  },
  {
   "cell_type": "code",
   "execution_count": null,
   "id": "784d8d61-2fc7-461c-9882-394eb7c8ba3c",
   "metadata": {},
   "outputs": [],
   "source": [
    "Candidates1?"
   ]
  },
  {
   "cell_type": "code",
   "execution_count": null,
   "id": "9d4cdd80-f0e6-40dd-9513-074d0aabdae8",
   "metadata": {},
   "outputs": [],
   "source": [
    "Let T0-S2 : get with : TEST S2? : Candidates1? "
   ]
  },
  {
   "cell_type": "code",
   "execution_count": null,
   "id": "1ee1f4bb-6f45-498d-86b8-0d82953de3a5",
   "metadata": {},
   "outputs": [],
   "source": [
    "S2?"
   ]
  },
  {
   "cell_type": "code",
   "execution_count": null,
   "id": "8669502d-5e3f-4219-bfbd-6bd42341812d",
   "metadata": {},
   "outputs": [],
   "source": [
    "out T0-S2 : T0-S2?"
   ]
  },
  {
   "cell_type": "code",
   "execution_count": 8,
   "id": "f463867a-2fbc-4510-b687-d2ca120bd4ad",
   "metadata": {},
   "outputs": [
    {
     "name": "stdout",
     "output_type": "stream",
     "text": [
      "(:◎ ◎) (:◎ a) (:◎ b) (:◎ 0) (:◎ 1) (:◎ (bin:a)) (:◎ (bin 1 2:a b)) (:◎ (bin a:(bin b:1 2))) (:a ◎) (:a a) (:a b) (:a 0) (:a 1) (:a (bin:a)) (:a (bin 1 2:a b)) (:a (bin a:(bin b:1 2))) (:b ◎) (:b a) (:b b) (:b 0) (:b 1) (:b (bin:a)) (:b (bin 1 2:a b)) (:b (bin a:(bin b:1 2))) (:0 ◎) (:0 a) (:0 b) (:0 0) (:0 1) (:0 (bin:a)) (:0 (bin 1 2:a b)) (:0 (bin a:(bin b:1 2))) (:1 ◎) (:1 a) (:1 b) (:1 0) (:1 1) (:1 (bin:a)) (:1 (bin 1 2:a b)) (:1 (bin a:(bin b:1 2))) (:(bin:a) ◎) (:(bin:a) a) (:(bin:a) b) (:(bin:a) 0) (:(bin:a) 1) (:(bin:a) (bin:a)) (:(bin:a) (bin 1 2:a b)) (:(bin:a) (bin a:(bin b:1 2))) (:(bin 1 2:a b) ◎) (:(bin 1 2:a b) a) (:(bin 1 2:a b) b) (:(bin 1 2:a b) 0) (:(bin 1 2:a b) 1) (:(bin 1 2:a b) (bin:a)) (:(bin 1 2:a b) (bin 1 2:a b)) (:(bin 1 2:a b) (bin a:(bin b:1 2))) (:(bin a:(bin b:1 2)) ◎) (:(bin a:(bin b:1 2)) a) (:(bin a:(bin b:1 2)) b) (:(bin a:(bin b:1 2)) 0) (:(bin a:(bin b:1 2)) 1) (:(bin a:(bin b:1 2)) (bin:a)) (:(bin a:(bin b:1 2)) (bin 1 2:a b)) (:(bin a:(bin b:1 2)) (bin a:(bin b:1 2)))"
     ]
    }
   ],
   "source": [
    "S2?"
   ]
  },
  {
   "cell_type": "code",
   "execution_count": null,
   "id": "bac5d779-6428-4fba-8a10-dfb790268308",
   "metadata": {},
   "outputs": [],
   "source": []
  }
 ],
 "metadata": {
  "kernelspec": {
   "display_name": "coda",
   "language": "",
   "name": "coda"
  },
  "language_info": {
   "file_extension": ".co",
   "mimetype": "text/plain",
   "name": "Any text"
  }
 },
 "nbformat": 4,
 "nbformat_minor": 5
}
