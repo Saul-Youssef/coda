{
 "cells": [
  {
   "cell_type": "markdown",
   "id": "8bcbdc2c-67bd-479b-b420-09bf539aed40",
   "metadata": {},
   "source": [
    "### Types and Categories in Coda\n",
    "\n",
    "I find it quite promising and interesting that both the concept of a type and the concept of a category appear quite naturally in coda.  \n",
    "\n",
    "* Data T is a **type** if T is idempotent and distributive, i.e. if $T:T:X = T:X$ and $T:X\\ Y = (T:X) (T:Y)$ for all data $X$ and all data $Y$.  \n",
    "* Data C is a **category** if $C:X\\ Y = C:(C:X)(C:Y)$ for all $X$, $Y$.\n",
    "* Data M is a **morphism in category C** if C:M:X = M:C:X for all data X.\n",
    "\n",
    "Notice that every type is a category.  \n",
    "\n",
    "* Morphism M is an **isomorphism** if a morphism M' exists so that M*M', M'*M and id are equivalent. \n",
    "\n",
    "* Data F is a **functor from category C to category C'** if F:M is a morphism of C' when M is a morphism of C and if F:M`*`N is equivalent to (F:M)`*`(F:N).\n",
    "\n",
    "Notice how simple this is compared to classical category theory.  Let's leave the issue of what \"equivalent\" means, but A*B:X is defined to be A:B:X.  The star operator is what substitutes for composition of morphisms.  Note these differences already:\n",
    "\n",
    "1. Most drastically, any two morphisms can be composed since the automatically associative A*B operation is defined for any data A,B independent of domains and codomains.  \n",
    "2. Notice that types and categories are closely related.  Every type is a category. \n",
    "3. Notice that a category C determines it's morphisms.  This is different than classical category theory where one can have, for instance, a category of vector spaces and general functions rather than linear functions. \n",
    "4. In coda, familiar structures like abelian group or partial orders most naturally appear in sequential form, so we get a sum category instead of a category of abelian groups and a sort category instead of a category of partially ordered sets. \n",
    "4. We'll see that types need to belong to multiple categories for more complex structures, e.g. for rings. \n",
    "$ e^{i \\pi} + 1 = 0 $\n"
   ]
  },
  {
   "cell_type": "code",
   "execution_count": 1,
   "id": "2603a081-bf50-4d70-9e7a-77c2a54f561d",
   "metadata": {},
   "outputs": [
    {
     "name": "stdout",
     "output_type": "stream",
     "text": [
      "(n:1) (n:2) (n:3) (n:4) (n:5)"
     ]
    }
   ],
   "source": [
    "#\n",
    "#   An example of a type is n, the natural numbers.\n",
    "#\n",
    "make n : 1 2 3 4 x y 5"
   ]
  },
  {
   "cell_type": "code",
   "execution_count": 2,
   "id": "e107c110-f325-4cd7-88ea-4c0fe5e8379c",
   "metadata": {},
   "outputs": [
    {
     "name": "stdout",
     "output_type": "stream",
     "text": [
      "(n:1) (n:2) (n:3) (n:4) (n:5)"
     ]
    }
   ],
   "source": [
    "#\n",
    "#    make n is idempotent...\n",
    "#\n",
    "make n : make n : 1 2 3 4 x y 5"
   ]
  },
  {
   "cell_type": "code",
   "execution_count": 3,
   "id": "171e1905-64ee-4278-9a28-421d4047902d",
   "metadata": {},
   "outputs": [
    {
     "name": "stdout",
     "output_type": "stream",
     "text": [
      "(n:1) (n:2) (n:3) (n:4) (n:5)"
     ]
    }
   ],
   "source": [
    "#\n",
    "#... and distributive \n",
    "#\n",
    "(make n : 1 2 3) (make n : 4 x y 5) "
   ]
  },
  {
   "cell_type": "code",
   "execution_count": 4,
   "id": "361a5d9d-2693-42f2-8177-57ea97f709e0",
   "metadata": {},
   "outputs": [
    {
     "name": "stdout",
     "output_type": "stream",
     "text": [
      "(n:6)"
     ]
    }
   ],
   "source": [
    "#\n",
    "#... sum sums anything, including natural numbers\n",
    "#\n",
    "sum n : 1 2 3 "
   ]
  },
  {
   "cell_type": "code",
   "execution_count": 5,
   "id": "e21e0a27-605c-4479-91df-d1f15ece89cb",
   "metadata": {},
   "outputs": [
    {
     "name": "stdout",
     "output_type": "stream",
     "text": [
      "(n:0) (n:1) (n:45) (n:99)"
     ]
    }
   ],
   "source": [
    "#\n",
    "#... sort sorts anything, including natural numbers \n",
    "#\n",
    "sort n : 99 1 0 45"
   ]
  },
  {
   "cell_type": "code",
   "execution_count": 6,
   "id": "649e16b6-32db-44f7-a107-c8284072b3ee",
   "metadata": {},
   "outputs": [
    {
     "name": "stdout",
     "output_type": "stream",
     "text": [
      "(n:6)"
     ]
    }
   ],
   "source": [
    "#\n",
    "#... sum n and sort n are both categories \n",
    "#\n",
    "sum n : (1 2) (3) "
   ]
  },
  {
   "cell_type": "code",
   "execution_count": 7,
   "id": "2e84f965-8f46-4b34-8f6e-a8619a2af39f",
   "metadata": {},
   "outputs": [
    {
     "name": "stdout",
     "output_type": "stream",
     "text": [
      "(n:6)"
     ]
    }
   ],
   "source": [
    "sum n : (sum n : 1 2) (sum n : 3)"
   ]
  },
  {
   "cell_type": "code",
   "execution_count": 8,
   "id": "405b8d02-c27f-46e0-8794-968d539c19c7",
   "metadata": {},
   "outputs": [
    {
     "name": "stdout",
     "output_type": "stream",
     "text": [
      "(n:0) (n:1) (n:45) (n:99)"
     ]
    }
   ],
   "source": [
    "sort n : (sort n : 99 1) (sort n : 0 45) "
   ]
  },
  {
   "cell_type": "code",
   "execution_count": 9,
   "id": "e0bb779c-3937-43d3-b08e-65d26e4ed915",
   "metadata": {},
   "outputs": [
    {
     "name": "stdout",
     "output_type": "stream",
     "text": [
      "(m:0) (m:1) (m:45) (m:99)"
     ]
    }
   ],
   "source": [
    "#\n",
    "#   Let's create another type, like n, which are also natural numbers \n",
    "#\n",
    "Natural : m\n",
    "sort m : 99 1 0 45 "
   ]
  },
  {
   "cell_type": "code",
   "execution_count": 10,
   "id": "ccdd9cca-c87a-493d-a84c-1e5c0a642591",
   "metadata": {},
   "outputs": [
    {
     "name": "stdout",
     "output_type": "stream",
     "text": []
    }
   ],
   "source": [
    "#\n",
    "#   As mentioned above, n (or n?, slightly more properly) is a type and every type is a category.  \n",
    "#   What, then, are the morphisms of n?\n",
    "#\n",
    "#   Ans:  Any data n?*F*n? commutes with n? and is, thus, a morphism.  Here are a couple of examples.\n",
    "#\n",
    "let M1? : (make n) * pass                  * (make n) \n",
    "let M2? : (make n) * (term n)              * (make n)\n",
    "let M3? : (make n) * (int_mult 2)*(term n) * (make n)"
   ]
  },
  {
   "cell_type": "code",
   "execution_count": 11,
   "id": "c7e7d6a2-888e-4106-82b7-55b8dc6eee26",
   "metadata": {},
   "outputs": [
    {
     "name": "stdout",
     "output_type": "stream",
     "text": [
      "(n:45)"
     ]
    }
   ],
   "source": [
    "M1? : 45"
   ]
  },
  {
   "cell_type": "code",
   "execution_count": 13,
   "id": "8842f472-3c22-4b8a-aed3-640154f59b6d",
   "metadata": {},
   "outputs": [
    {
     "name": "stdout",
     "output_type": "stream",
     "text": [
      "(n:110)"
     ]
    }
   ],
   "source": [
    "M3? : 55 "
   ]
  },
  {
   "cell_type": "code",
   "execution_count": 14,
   "id": "095471f0-99d5-43c9-ba8c-09ff6d61c694",
   "metadata": {},
   "outputs": [
    {
     "name": "stdout",
     "output_type": "stream",
     "text": [
      "(n:220)"
     ]
    }
   ],
   "source": [
    "M3?*M3? : 55"
   ]
  },
  {
   "cell_type": "markdown",
   "id": "cd5e0cd7-fa8c-442f-a79f-02f4bd52e380",
   "metadata": {},
   "source": [
    "Since F can be anything, in the above, the morphisms of the type n include all functions from n to n as well as morphisms like \n",
    "\n",
    "`n?*null*n? = null`\n",
    "\n",
    "This is not a function from n to n since n:() = () rather than n:() = 0 as might or might not be expected."
   ]
  },
  {
   "cell_type": "code",
   "execution_count": null,
   "id": "43768ee4-45f5-4798-b0a0-b6a9330aac70",
   "metadata": {},
   "outputs": [],
   "source": [
    "let M4? : n?*null*n?\n",
    "M4? : 55"
   ]
  },
  {
   "cell_type": "markdown",
   "id": "78cbd664-ec1d-4e91-8a7e-dc3b95a8ec0b",
   "metadata": {},
   "source": [
    "Every type is a category, but not every category is a type.  For instance, "
   ]
  }
 ],
 "metadata": {
  "kernelspec": {
   "display_name": "coda",
   "language": "",
   "name": "coda"
  },
  "language_info": {
   "file_extension": ".co",
   "mimetype": "text/plain",
   "name": "Any text"
  }
 },
 "nbformat": 4,
 "nbformat_minor": 5
}
