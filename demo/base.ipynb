{
 "cells": [
  {
   "cell_type": "markdown",
   "id": "84b895d0-487d-4892-9c17-a9cda2b7dee7",
   "metadata": {
    "tags": []
   },
   "source": [
    "### Coda\n",
    "\n",
    "The tiny core of the Coda system is contained in the base module.  To run this demo, your PYTHONPATH should include the .../py directory of coda. "
   ]
  },
  {
   "cell_type": "code",
   "execution_count": 1,
   "id": "0dbf3a5e-00ba-4e7e-abc5-124ca7ae7bfb",
   "metadata": {},
   "outputs": [],
   "source": [
    "from base import * "
   ]
  },
  {
   "cell_type": "markdown",
   "id": "536790a6-da15-4ce7-8488-2a81a705b8cd",
   "metadata": {},
   "source": [
    "By definition, data is a finite sequence of data. An empty data is created in python by `data()`.  This can be displayed either as `()` or as a symbol representing the empty set in python by using `repr(data())` or `str(data())` respectively. "
   ]
  },
  {
   "cell_type": "code",
   "execution_count": 2,
   "id": "2715c40b-284e-4d94-9233-9cda75ce5a6e",
   "metadata": {},
   "outputs": [
    {
     "name": "stdout",
     "output_type": "stream",
     "text": [
      "() ∅\n"
     ]
    }
   ],
   "source": [
    "#\n",
    "#  create an empty pure data and display it\n",
    "#\n",
    "z = data()\n",
    "print(repr(z),str(z))"
   ]
  },
  {
   "cell_type": "markdown",
   "id": "baf1349a-e44e-4f0a-8786-9158f6169e0b",
   "metadata": {},
   "source": [
    "The data constructor takes tuples of data as arguments. "
   ]
  },
  {
   "cell_type": "code",
   "execution_count": 3,
   "id": "5fc64bc0-7719-4278-9276-a2be06be9804",
   "metadata": {},
   "outputs": [
    {
     "name": "stdout",
     "output_type": "stream",
     "text": [
      "(()()()()) (∅∅∅∅)\n"
     ]
    }
   ],
   "source": [
    "zz = data(z,z,z,z)\n",
    "print(repr(zz),zz)"
   ]
  },
  {
   "cell_type": "markdown",
   "id": "0f678d06-1e95-47fe-98bd-5afc6987d2d3",
   "metadata": {},
   "source": [
    "In addition to the data constructor, there are two foundational operations from data to data. If x and y are data, the operations are\n",
    "\n",
    "1. Concatenation, indicated by x y in the language or by x+y in python.\n",
    "2. Colon, indicated by x:y in the language or by x|y in python. \n",
    "\n",
    "As you can see, all data are merely recursive sequences of empty sequences.\n",
    "\n",
    "If z is the empty data, the 0 and 1 bits are defined to be z|z and z|(z|z) respectively.  Characters are data consisting of sequences of these, words are sequences of characters, etc. "
   ]
  },
  {
   "cell_type": "code",
   "execution_count": 4,
   "id": "3973d872-e10f-4ec6-a899-03f3acca7065",
   "metadata": {},
   "outputs": [
    {
     "name": "stdout",
     "output_type": "stream",
     "text": [
      "∅ () 5740354900026072187\n",
      "∅ () 5740354900026072187\n",
      "𝟭 (()()) 9028247024705308198\n",
      "𝟬 (()) -5486347211504344842\n",
      "(𝟬) ((())) 4510597632111149919\n",
      "𝟭 (()()) 9028247024705308198\n",
      "(𝟬(𝟬)𝟭) ((())((()))(()())) 7764245749913446555\n"
     ]
    }
   ],
   "source": [
    "L = [z,z+z,data(z,z),z|z,z|z|z,z|(z|z),data(z|z,z|z|z,(z|(z|z)))]\n",
    "for l in L: print(l,repr(l),hash(l))"
   ]
  },
  {
   "cell_type": "code",
   "execution_count": 5,
   "id": "5fb4aed9-f0eb-4c22-83e9-2dc9476b732a",
   "metadata": {},
   "outputs": [
    {
     "name": "stdout",
     "output_type": "stream",
     "text": [
      "𝟬\n"
     ]
    }
   ],
   "source": [
    "print(co('Hello').type())"
   ]
  },
  {
   "cell_type": "code",
   "execution_count": 6,
   "id": "d3acb7f3-3ae1-4888-ac1e-6051f8a40eaf",
   "metadata": {},
   "outputs": [
    {
     "data": {
      "text/plain": [
       "(((())(()())(())(())(()())(())(())(()))((())(()())(()())(())(())(()())(())(()()))((())(()())(()())(())(()())(()())(())(()))((())(()())(()())(())(()())(()())(())(()))((())(()())(()())(())(()())(()())(()())(()()))((())(())(()())(())(())(())(())(()))((())(()())(())(()())(())(()())(()())(()()))((())(()())(()())(())(()())(()())(()())(()()))((())(()())(()())(()())(())(())(()())(()))((())(()())(()())(())(()())(()())(())(()))((())(()())(()())(())(())(()())(())(())))"
      ]
     },
     "execution_count": 6,
     "metadata": {},
     "output_type": "execute_result"
    }
   ],
   "source": [
    "#\n",
    "#  The co function creates pure data from unicode strings in python\n",
    "#\n",
    "co('Hello World')"
   ]
  },
  {
   "cell_type": "code",
   "execution_count": 7,
   "id": "90def1f0-8651-452a-8ff6-cc8fbd6777be",
   "metadata": {},
   "outputs": [
    {
     "name": "stdout",
     "output_type": "stream",
     "text": [
      "(Hello World)\n"
     ]
    }
   ],
   "source": [
    "print(co('Hello World'))"
   ]
  },
  {
   "cell_type": "code",
   "execution_count": 8,
   "id": "5f6dfbbb-a751-405b-96a0-dfba8ea3a970",
   "metadata": {},
   "outputs": [
    {
     "name": "stdout",
     "output_type": "stream",
     "text": [
      "W <- ((())(()())(())(()())(())(()())(()())(()()))\n",
      "𝟬 <- (())\n",
      "𝟭 <- (()())\n",
      "𝟬 <- (())\n",
      "𝟭 <- (()())\n",
      "𝟬 <- (())\n",
      "𝟭 <- (()())\n",
      "𝟭 <- (()())\n",
      "𝟭 <- (()())\n"
     ]
    }
   ],
   "source": [
    "#\n",
    "#   Pure data is merely a sequence of data.  You can access this sequence in python as if it is a tuple.\n",
    "#\n",
    "H = co('Hello World')\n",
    "print(H[6],'<-',repr(H[6]))\n",
    "for h in H[6]: print(h,'<-',repr(h))"
   ]
  },
  {
   "cell_type": "code",
   "execution_count": 9,
   "id": "5e1580f4-af40-46aa-b0b1-ee0b841d7944",
   "metadata": {},
   "outputs": [
    {
     "name": "stdout",
     "output_type": "stream",
     "text": [
      "𝟭 <- (()())\n",
      "∅ <- ()\n",
      "∅ <- ()\n"
     ]
    }
   ],
   "source": [
    "#\n",
    "#   Bits are pure data also, so everything is made of empty sequences. \n",
    "#\n",
    "one = H[6][1]\n",
    "print(one,'<-',repr(one))\n",
    "for d in one: print(d,'<-',repr(d))"
   ]
  },
  {
   "cell_type": "markdown",
   "id": "7614f151-e399-490e-a6ef-d43df39444c9",
   "metadata": {},
   "source": [
    "For more examples, we can use the Universe module to create all data with specified width and depth less than specified values. The 3,2 universe, for example is all data with width <= 3 and depth <= 2.  "
   ]
  },
  {
   "cell_type": "code",
   "execution_count": 10,
   "id": "14f7bddb-a532-4333-9754-9c76777426c2",
   "metadata": {},
   "outputs": [
    {
     "name": "stdout",
     "output_type": "stream",
     "text": [
      "()  ->  ∅\n",
      "(())  ->  𝟬\n"
     ]
    }
   ],
   "source": [
    "#\n",
    "#   The 1,1 universe contains only empty and the zero bit. \n",
    "#\n",
    "import Universe\n",
    "for d in Universe.universe(1,1): print(repr(d),' -> ',d)"
   ]
  },
  {
   "cell_type": "code",
   "execution_count": 11,
   "id": "feac1630-d2f5-4733-a65b-ef833c67da10",
   "metadata": {},
   "outputs": [
    {
     "name": "stdout",
     "output_type": "stream",
     "text": [
      "()  ->  ∅\n",
      "(())  ->  𝟬\n",
      "(()())  ->  𝟭\n"
     ]
    }
   ],
   "source": [
    "#\n",
    "#   The 2,1 universe also contains binary 1. \n",
    "#\n",
    "for d in Universe.universe(2,1): print(repr(d),' -> ',d)"
   ]
  },
  {
   "cell_type": "code",
   "execution_count": 12,
   "id": "761a6330-81a9-43f2-a45d-d5c41334625a",
   "metadata": {
    "tags": []
   },
   "outputs": [
    {
     "name": "stdout",
     "output_type": "stream",
     "text": [
      "∅\n",
      "𝟬\n",
      "𝟭\n",
      "(∅∅∅)\n",
      "(𝟬)\n",
      "(𝟭)\n",
      "((∅∅∅))\n",
      "(𝟬𝟬)\n",
      "(𝟬𝟭)\n",
      "(𝟬(∅∅∅))\n",
      "(𝟭𝟬)\n",
      "(𝟭𝟭)\n",
      "(𝟭(∅∅∅))\n",
      "((∅∅∅)𝟬)\n",
      "((∅∅∅)𝟭)\n",
      "((∅∅∅)(∅∅∅))\n",
      "(𝟬𝟬𝟬)\n",
      "(𝟬𝟬𝟭)\n",
      "(𝟬𝟬(∅∅∅))\n",
      "(𝟬𝟭𝟬)\n",
      "(𝟬𝟭𝟭)\n",
      "(𝟬𝟭(∅∅∅))\n",
      "(𝟬(∅∅∅)𝟬)\n",
      "(𝟬(∅∅∅)𝟭)\n",
      "(𝟬(∅∅∅)(∅∅∅))\n",
      "(𝟭𝟬𝟬)\n",
      "(𝟭𝟬𝟭)\n",
      "(𝟭𝟬(∅∅∅))\n",
      "(𝟭𝟭𝟬)\n",
      "(𝟭𝟭𝟭)\n",
      "(𝟭𝟭(∅∅∅))\n",
      "(𝟭(∅∅∅)𝟬)\n",
      "(𝟭(∅∅∅)𝟭)\n",
      "(𝟭(∅∅∅)(∅∅∅))\n",
      "((∅∅∅)𝟬𝟬)\n",
      "((∅∅∅)𝟬𝟭)\n",
      "((∅∅∅)𝟬(∅∅∅))\n",
      "((∅∅∅)𝟭𝟬)\n",
      "((∅∅∅)𝟭𝟭)\n",
      "((∅∅∅)𝟭(∅∅∅))\n",
      "((∅∅∅)(∅∅∅)𝟬)\n",
      "((∅∅∅)(∅∅∅)𝟭)\n",
      "((∅∅∅)(∅∅∅)(∅∅∅))\n"
     ]
    }
   ],
   "source": [
    "U = Universe.universe(3,2)\n",
    "for d in U: print(d)"
   ]
  },
  {
   "cell_type": "code",
   "execution_count": 13,
   "id": "4828e6a1-f93c-45c4-bf98-b0f45dc970a1",
   "metadata": {},
   "outputs": [
    {
     "name": "stdout",
     "output_type": "stream",
     "text": [
      "60922\n"
     ]
    }
   ],
   "source": [
    "#\n",
    "#   The sizes of universes grows very rapidly.\n",
    "#\n",
    "print(len(Universe.universe(3,3)))"
   ]
  },
  {
   "cell_type": "markdown",
   "id": "4691cf3c-c245-4d5b-bd64-143eaa680fa3",
   "metadata": {},
   "source": [
    "## Universe Sizes for given widths and depths \n",
    "\n",
    "| Depth     | 1  |  2  |  3    |  4  |      5  |\n",
    "|----------:|---:|----:|------:|----:|--------:|\n",
    "| Width 1:   | 2  |  3  |  4    |  5  |      6  |\n",
    "| Width 2:   | 3  |  9  | 51    | 1857| 3265299 | \n",
    "| Width 3:   | 4  | 43  | 60922 | \n",
    "| Width 4:   | 5  | 345 | \n",
    "| Width 5:   | 6  | 3911| \n",
    "| Width 6:   | 7  | 55993 |\n",
    "| Width 7:   | 8  | 960807 | "
   ]
  }
 ],
 "metadata": {
  "kernelspec": {
   "display_name": "Python 3 (ipykernel)",
   "language": "python",
   "name": "python3"
  },
  "language_info": {
   "codemirror_mode": {
    "name": "ipython",
    "version": 3
   },
   "file_extension": ".py",
   "mimetype": "text/x-python",
   "name": "python",
   "nbconvert_exporter": "python",
   "pygments_lexer": "ipython3",
   "version": "3.10.7"
  }
 },
 "nbformat": 4,
 "nbformat_minor": 5
}
