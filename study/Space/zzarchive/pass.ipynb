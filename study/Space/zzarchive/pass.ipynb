{
 "cells": [
  {
   "cell_type": "markdown",
   "id": "c67da1be-d0dc-4e11-ba01-61f59c58333c",
   "metadata": {},
   "source": [
    "## Basic spaces\n",
    "\n",
    "| Space | Elements | Operation | Space | Simple | Idempotent | Distributive | Distributive 2 | Commutative | Involution | Nilpotent | Semilattice | \n",
    "|-------|----------|-----------|-----:|-------:|-----------:|-------------:|--------:|------------:|-----------:|----------:|---------:|\n",
    "| pass | all data | do nothing | Y | Y | Y | Y | Y | N | Y | N | N |\n",
    "| null | () | empty | Y | Y | Y | Y | Y | Y | N | Y | Y |"
   ]
  },
  {
   "cell_type": "code",
   "execution_count": 1,
   "id": "c3af768a-daa4-479c-a07e-7b4198f77de0",
   "metadata": {
    "tags": []
   },
   "outputs": [
    {
     "name": "stdout",
     "output_type": "stream",
     "text": []
    }
   ],
   "source": [
    "import : dir co : up : ."
   ]
  },
  {
   "cell_type": "code",
   "execution_count": 1,
   "id": "a562b5d2-3c9f-46e6-8e84-fa241aaf0088",
   "metadata": {},
   "outputs": [
    {
     "name": "stdout",
     "output_type": "stream",
     "text": [
      "\u001b[;1mcode:\u001b[0m\n",
      "    \u001b[34;7mtheorem\u001b[0m\n",
      "\u001b[;1mmodule:\u001b[0m\n",
      "    Search\n",
      "\u001b[;1msummary:\u001b[0m\n",
      "    demo: permutation 2 : a b\n",
      "\u001b[;1mdescription:\u001b[0m\n",
      "\u001b[;1mpath:\u001b[0m\n",
      "    /Users/youssef/coda/co/Search.co\n",
      "\u001b[;1msource code:\u001b[0m\n",
      "    def cases : {ap {with (right:B):bool:A} A : assign A : B}\n",
      "    def theorem : {ap {if (not:right:B):B} : do : cases A : B}\n",
      "\u001b[;1mdemos:\u001b[0m\n",
      "    1. \u001b[35;4mpermutation 2 : a b\u001b[0m\n",
      "    2. \u001b[35;4mpermutation 3 : a b\u001b[0m\n",
      "    3. \u001b[35;4mpermutation 3 : a\u001b[0m\n",
      "    4. \u001b[35;4massign (x?=y?) : (:a) (:a)\u001b[0m\n",
      "    5. \u001b[35;4mcases (x?=y?) : (:a) (:b)\u001b[0m\n",
      "    6. \u001b[35;4meval : cases (x?=y?) : (:a) (:b)\u001b[0m\n",
      "    7. \u001b[35;4mcases (x?=y?) : permutation 2 : a b\u001b[0m\n",
      "    8. \u001b[35;4meval : cases (x?=y?) : permutation 2 : a b\u001b[0m\n",
      "    9. \u001b[35;4mget with : eval : cases (x?=y?) : permutation 2 : a b\u001b[0m\n",
      "    10. \u001b[35;4mcases (x?=(rev:x?)) : (:a a) (:b b) (:a b)\u001b[0m\n",
      "    11. \u001b[35;4mtheorem (x?=(rev:x?)) : (:a a) (:b b) (:a b)\u001b[0m\n",
      "    12. \u001b[35;4mtheorem (x?=(rev:x?)) : (:a a) (:b b) (:x x x)\u001b[0m\n"
     ]
    }
   ],
   "source": [
    "help : theorem"
   ]
  },
  {
   "cell_type": "code",
   "execution_count": 2,
   "id": "d2f0b69c-d3f6-40ee-b6f8-e5c8b6e402d4",
   "metadata": {},
   "outputs": [
    {
     "name": "stdout",
     "output_type": "stream",
     "text": [
      "0\n",
      "0\n",
      "0\n",
      "0\n",
      "4032\n",
      "0\n",
      "64\n",
      "64"
     ]
    }
   ],
   "source": [
    "count : theorem (simple:        pass) : S2?\n",
    "count : theorem (idempotent:    pass) : S2?\n",
    "count : theorem (distributive:  pass) : S2?\n",
    "count : theorem (distributive2: pass) : S2?\n",
    "count : theorem (commutative:   pass) : S2? \n",
    "count : theorem (involution:    pass) : S2? \n",
    "count : theorem (nilpotent:     pass) : S2? \n",
    "count : theorem (semilattice:   pass) : S2? "
   ]
  },
  {
   "cell_type": "code",
   "execution_count": 3,
   "id": "d5c5c04c-69e7-4874-af44-17faee9d6ebe",
   "metadata": {},
   "outputs": [
    {
     "name": "stdout",
     "output_type": "stream",
     "text": [
      "0\n",
      "0\n",
      "0\n",
      "0\n",
      "0\n",
      "64\n",
      "0\n",
      "0"
     ]
    }
   ],
   "source": [
    "count : theorem (simple:        null) : S2?\n",
    "count : theorem (idempotent:    null) : S2?\n",
    "count : theorem (distributive:  null) : S2?\n",
    "count : theorem (distributive2: null) : S2?\n",
    "count : theorem (commutative:   null) : S2? \n",
    "count : theorem (involution:    null) : S2? \n",
    "count : theorem (nilpotent:     null) : S2? \n",
    "count : theorem (semilattice:   null) : S2? "
   ]
  },
  {
   "cell_type": "code",
   "execution_count": null,
   "id": "ba866e74-5dc8-40a1-ba60-b35706aa9dd8",
   "metadata": {},
   "outputs": [],
   "source": []
  }
 ],
 "metadata": {
  "kernelspec": {
   "display_name": "coda",
   "language": "",
   "name": "coda"
  },
  "language_info": {
   "file_extension": ".co",
   "mimetype": "text/plain",
   "name": "Any text"
  }
 },
 "nbformat": 4,
 "nbformat_minor": 5
}
