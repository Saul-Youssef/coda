{
 "cells": [
  {
   "cell_type": "markdown",
   "id": "96191986-5c73-4095-8afb-a26894763481",
   "metadata": {},
   "source": [
    "### Exercise the Classify module"
   ]
  },
  {
   "cell_type": "code",
   "execution_count": 1,
   "id": "cdc8cfad-785b-4018-905a-7f1c38ea873f",
   "metadata": {},
   "outputs": [],
   "source": [
    "from base import *\n",
    "import Classify,Space "
   ]
  },
  {
   "cell_type": "code",
   "execution_count": 2,
   "id": "f51a6fd7-025c-43cf-9d11-49c6c78b9c3c",
   "metadata": {},
   "outputs": [],
   "source": [
    "Even = Space.EvenAtoms(10); Odd = Space.OddAtoms(10); Atoms = Even+Odd \n",
    "Sample = Space.Window(2,2)"
   ]
  },
  {
   "cell_type": "code",
   "execution_count": 3,
   "id": "4e40f280-b1c8-4139-89f5-22d3be506c31",
   "metadata": {},
   "outputs": [
    {
     "data": {
      "text/plain": [
       "0/0"
      ]
     },
     "execution_count": 3,
     "metadata": {},
     "output_type": "execute_result"
    }
   ],
   "source": [
    "C = Classify.Classifier(Even,Sample,Sample,1,4,10,10)\n",
    "CONTEXT.clear()"
   ]
  },
  {
   "cell_type": "code",
   "execution_count": 4,
   "id": "7b435324-cd74-4820-9fb1-d877efaa9e96",
   "metadata": {},
   "outputs": [],
   "source": [
    "con = C.choose_new_context()"
   ]
  },
  {
   "cell_type": "code",
   "execution_count": 5,
   "id": "eca9ab36-9fa0-440d-b006-18b331d86553",
   "metadata": {},
   "outputs": [
    {
     "data": {
      "text/plain": [
       "[0.0, ((:)(:):(:)(:))((:)(:):(:)(:))]"
      ]
     },
     "execution_count": 5,
     "metadata": {},
     "output_type": "execute_result"
    }
   ],
   "source": [
    "C.attempt(con)"
   ]
  },
  {
   "cell_type": "code",
   "execution_count": null,
   "id": "47bf5d8c-6355-46bc-b9cb-393efaf43b68",
   "metadata": {},
   "outputs": [
    {
     "name": "stdout",
     "output_type": "stream",
     "text": [
      "+++ 0.1087912087912088 ◎ 1\n",
      "--- 0.0 ◎◎ ◎◎ 0\n",
      "1 0.1087912087912088 ◎ 1\n",
      "+++ 0.1087912087912088 ◎ 2\n",
      "--- 0.1087912087912088 ◎ 1\n",
      "2 0.1087912087912088 ◎ 1\n",
      "+++ 0.21318681318681318 ◎ 2\n",
      "--- 0.1087912087912088 ◎ 1\n",
      "3 0.21318681318681318 ◎ 2\n",
      "+++ 0.21978021978021978 ◎ 3\n",
      "--- 0.21318681318681318 ◎ 2\n",
      "4 0.21978021978021978 ◎ 3\n"
     ]
    }
   ],
   "source": [
    "C.search()"
   ]
  },
  {
   "cell_type": "code",
   "execution_count": null,
   "id": "babf2886-6d60-4f2e-9eee-635dfd64c4a8",
   "metadata": {},
   "outputs": [],
   "source": []
  }
 ],
 "metadata": {
  "kernelspec": {
   "display_name": "Python 3 (ipykernel)",
   "language": "python",
   "name": "python3"
  },
  "language_info": {
   "codemirror_mode": {
    "name": "ipython",
    "version": 3
   },
   "file_extension": ".py",
   "mimetype": "text/x-python",
   "name": "python",
   "nbconvert_exporter": "python",
   "pygments_lexer": "ipython3",
   "version": "3.10.7"
  }
 },
 "nbformat": 4,
 "nbformat_minor": 5
}
