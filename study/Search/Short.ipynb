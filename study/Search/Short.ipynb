{
 "cells": [
  {
   "cell_type": "code",
   "execution_count": null,
   "id": "1a8e3816-a715-4cb8-ab79-212cf2c5d748",
   "metadata": {},
   "outputs": [],
   "source": [
    "rev : a b c "
   ]
  },
  {
   "cell_type": "code",
   "execution_count": 2,
   "id": "bfc12437-e464-4098-a78b-5561225169bb",
   "metadata": {},
   "outputs": [
    {
     "name": "stdout",
     "output_type": "stream",
     "text": []
    }
   ],
   "source": [
    "eval 1000 : import : endswith Short.co : dir co : up : ."
   ]
  },
  {
   "cell_type": "code",
   "execution_count": 3,
   "id": "fa693539-8031-4097-b125-9772134a4566",
   "metadata": {},
   "outputs": [
    {
     "name": "stdout",
     "output_type": "stream",
     "text": [
      "(defaultTime:100)"
     ]
    }
   ],
   "source": [
    "defaultTime : 100"
   ]
  },
  {
   "cell_type": "code",
   "execution_count": 4,
   "id": "613f359c-a007-46f3-ad69-ea527b83f2c2",
   "metadata": {},
   "outputs": [
    {
     "name": "stdout",
     "output_type": "stream",
     "text": [
      "𝟬 𝝞 bool equal not ab ap apby aq ar as co ker kernel arg bin const domain get has hasnt if is isnt left nif null pass plus prod put right star sum by count first head last nth once post pre rep rev skip swap tail collect equiv nat nat_max nat_min nat_prod nat_sum nats ring stick (◎:as 𝟬) (◎:as 𝝞) (◎:as as) (◎:as (◎ ◎:)) (◎:as (◎ ◎:◎)) (◎:as (◎ ◎:◎ ◎)) (◎:(◎ ◎:) ◎) (◎:(◎ ◎:) (:◎)) (◎:(◎ ◎:) (:◎ ◎)) (◎:(◎ ◎:) 𝟬) (◎:(◎ ◎:) 𝝞) (◎:(◎ ◎:) as) (◎:(◎ ◎:) (◎ ◎:)) (◎:(◎ ◎:) (◎ ◎:◎)) (◎:(◎ ◎:) (◎ ◎:◎ ◎)) (◎:(◎ ◎:◎) ◎) (◎:(◎ ◎:◎) (:◎)) (◎:(◎ ◎:◎) (:◎ ◎)) (◎:(◎ ◎:◎) 𝟬) (◎:(◎ ◎:◎) 𝝞) (◎:(◎ ◎:◎) as) (◎:(◎ ◎:◎) (◎ ◎:)) (◎:(◎ ◎:◎) (◎ ◎:◎)) (◎:(◎ ◎:◎) (◎ ◎:◎ ◎)) (◎:(◎ ◎:◎ ◎) ◎) (◎:(◎ ◎:◎ ◎) (:◎)) (◎:(◎ ◎:◎ ◎) (:◎ ◎)) (◎:(◎ ◎:◎ ◎) 𝟬) (◎:(◎ ◎:◎ ◎) 𝝞) (◎:(◎ ◎:◎ ◎) as) (◎:(◎ ◎:◎ ◎) (◎ ◎:)) (◎:(◎ ◎:◎ ◎) (◎ ◎:◎)) (◎:(◎ ◎:◎ ◎) (◎ ◎:◎ ◎))"
     ]
    }
   ],
   "source": [
    "ap {put (:):get:B} : sample.pure : 2 2 "
   ]
  },
  {
   "cell_type": "code",
   "execution_count": 5,
   "id": "ccc38086-7677-4d14-b040-a0f951e495a6",
   "metadata": {},
   "outputs": [
    {
     "name": "stdout",
     "output_type": "stream",
     "text": [
      "right"
     ]
    }
   ],
   "source": [
    "((:):(:(:) (:)) ((:):))"
   ]
  },
  {
   "cell_type": "code",
   "execution_count": 6,
   "id": "1c989441-e4ed-4629-a57b-90b4ec4b27f4",
   "metadata": {},
   "outputs": [
    {
     "name": "stdout",
     "output_type": "stream",
     "text": [
      "b"
     ]
    }
   ],
   "source": [
    "((:):(:(:) (:)) ((:):)) : (bin a: b) "
   ]
  },
  {
   "cell_type": "code",
   "execution_count": null,
   "id": "50fb1b9d-c88b-4bf6-8242-9a1427aa5e8b",
   "metadata": {},
   "outputs": [],
   "source": []
  }
 ],
 "metadata": {
  "kernelspec": {
   "display_name": "coda",
   "language": "",
   "name": "coda"
  },
  "language_info": {
   "file_extension": ".co",
   "mimetype": "text/plain",
   "name": "Any text"
  }
 },
 "nbformat": 4,
 "nbformat_minor": 5
}
