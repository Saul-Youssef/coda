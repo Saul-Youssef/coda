{
 "cells": [
  {
   "cell_type": "markdown",
   "id": "3ead57e0-00f9-4fbe-9055-4ba81d3f0d93",
   "metadata": {},
   "source": [
    "| Space | Elements | Operation | Space | Simple | Idempotent | Distributive | Distributive 2 | Commutative | Involution | Nilpotent | \n",
    "|-------|----------|-----------|-----:|-------:|-----------:|-------------:|--------:|------------:|-----------:|----------:|\n",
    "| x | x | x | x | x | x | x | x | x | x |\n"
   ]
  },
  {
   "cell_type": "code",
   "execution_count": 1,
   "id": "e3cfcb8f-9751-43ba-859f-bccb97304a7e",
   "metadata": {
    "tags": []
   },
   "outputs": [
    {
     "name": "stdout",
     "output_type": "stream",
     "text": [
      "0\n",
      "16\n",
      "0"
     ]
    }
   ],
   "source": [
    "import : dir co : up : ."
   ]
  },
  {
   "cell_type": "code",
   "execution_count": null,
   "id": "98f96de2-797c-482d-8795-f2b875a4f911",
   "metadata": {},
   "outputs": [],
   "source": [
    "Def OP : bool "
   ]
  },
  {
   "cell_type": "code",
   "execution_count": null,
   "id": "9e5a870c-b930-472e-9577-3a2391c3ba97",
   "metadata": {},
   "outputs": [],
   "source": [
    "count : theorem (simple:        OP) : S1?\n",
    "count : theorem (idempotent:    OP) : S1?\n",
    "count : theorem (distributive:  OP) : S1?\n",
    "count : theorem (distributive2: OP) : S1?\n",
    "count : theorem (commutative:   OP) : S1? \n",
    "count : theorem (involution:    OP) : S1? \n",
    "count : theorem (nilpotent:     OP) : S1? "
   ]
  },
  {
   "cell_type": "code",
   "execution_count": null,
   "id": "69079332-5cfc-4c02-929f-40ffe704352b",
   "metadata": {},
   "outputs": [],
   "source": [
    "count : theorem (simple:        OP) : S2?\n",
    "count : theorem (idempotent:    OP) : S2?\n",
    "count : theorem (distributive:  OP) : S2?\n",
    "count : theorem (distributive2: OP) : S2?\n",
    "count : theorem (commutative:   OP) : S2? \n",
    "count : theorem (involution:    OP) : S2? \n",
    "count : theorem (nilpotent:     OP) : S2? "
   ]
  }
 ],
 "metadata": {
  "kernelspec": {
   "display_name": "coda",
   "language": "",
   "name": "coda"
  },
  "language_info": {
   "file_extension": ".co",
   "mimetype": "text/plain",
   "name": "Any text"
  }
 },
 "nbformat": 4,
 "nbformat_minor": 5
}
