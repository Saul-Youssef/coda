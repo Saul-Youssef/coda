{
 "cells": [
  {
   "cell_type": "markdown",
   "id": "c67da1be-d0dc-4e11-ba01-61f59c58333c",
   "metadata": {},
   "source": [
    "## Basic spaces\n",
    "\n",
    "Let's introduce a basic collection of obvious spaces, simple and otherwise.  \n",
    "\n",
    "1. Name of the space \n",
    "2. Description\n",
    "3. Characterize the data in the space\n",
    "4. Characterize the operation \n",
    "5. Is the space simple or distributive?\n",
    "7. What is the neutral element?\n",
    "\n",
    "| Space |  |\n",
    "|---|---|\n",
    "| Description | x | \n",
    "| Data | x | \n",
    "| Operation | x | \n",
    "| Simple? | x | \n",
    "| Distributive? | x | \n",
    "| Neutral element? | x | \n",
    "| Endomorphisms | x | "
   ]
  },
  {
   "cell_type": "code",
   "execution_count": 1,
   "id": "c3af768a-daa4-479c-a07e-7b4198f77de0",
   "metadata": {
    "tags": []
   },
   "outputs": [
    {
     "name": "stdout",
     "output_type": "stream",
     "text": []
    }
   ],
   "source": [
    "import : dir co : ."
   ]
  },
  {
   "cell_type": "markdown",
   "id": "f510ea6d-4608-46fd-9574-187ce90b800c",
   "metadata": {},
   "source": [
    "\n",
    "| pass |  |\n",
    "|---|---|\n",
    "| Description | do nothing to input | \n",
    "| Data | all data | \n",
    "| Operation | concatenation | \n",
    "| Simple? | Y | \n",
    "| Distributive? | Y | \n",
    "| Neutral element? | () | \n",
    "| Endomorphisms | any data is an endomorphism of pass | "
   ]
  },
  {
   "cell_type": "code",
   "execution_count": null,
   "id": "125328eb-d1a2-49d9-89f4-db8d04fc1120",
   "metadata": {},
   "outputs": [],
   "source": [
    "count : theorem (idempotent3:pass) : S2?\n",
    "count : theorem (distributive1:pass) : S2?\n",
    "count : theorem (distributive3:pass) : S2?\n",
    "count : theorem (simple:pass) : S2?"
   ]
  },
  {
   "cell_type": "markdown",
   "id": "72be65e3-fa4d-4ab3-894b-a1730ddad724",
   "metadata": {},
   "source": [
    "| null |  |\n",
    "|---|---|\n",
    "| Description | null:X = () | \n",
    "| Data | only () | \n",
    "| Operation | empty on any input | \n",
    "| Simple? | Y | \n",
    "| Distributive? | Y | \n",
    "| Neutral element? | () | \n",
    "| Endomorphisms | null is the only endomorphism | "
   ]
  },
  {
   "cell_type": "code",
   "execution_count": null,
   "id": "d846d40f-0824-4a86-89a6-312cdd2b3a03",
   "metadata": {},
   "outputs": [],
   "source": [
    "count : theorem (idempotent3:null) : S2?\n",
    "count : theorem (distributive1:null) : S2?\n",
    "count : theorem (distributive3:null) : S2?\n",
    "count : theorem (simple:null) : S2?"
   ]
  },
  {
   "cell_type": "markdown",
   "id": "2e1a9439-c9d8-418e-9957-2d2099703827",
   "metadata": {},
   "source": [
    "\n",
    "| bool |  |\n",
    "|---|---|\n",
    "| Description | Logical value of input | \n",
    "| Data | (:) or () | \n",
    "| Operation | Logical value of input | \n",
    "| Simple? | Y | \n",
    "| Distributive? | N | \n",
    "| Neutral element? | () | \n",
    "| Endomorphisms | Maps from (),(:) to (),(:) | "
   ]
  },
  {
   "cell_type": "code",
   "execution_count": null,
   "id": "450fb4fc-1343-4d7c-926c-27a7648d8857",
   "metadata": {},
   "outputs": [],
   "source": [
    "count : theorem (idempotent3:bool) : S2?\n",
    "count : theorem (distributive1:bool) : S2?\n",
    "count : theorem (distributive3:bool) : S2?\n",
    "count : theorem (simple:bool) : S2?"
   ]
  },
  {
   "cell_type": "markdown",
   "id": "b08560d5-654e-4f05-b4d9-9ee8edf12649",
   "metadata": {},
   "source": [
    "\n",
    "| {has bin:B}  |  |\n",
    "|---|---|\n",
    "| Description | has bin atoms | \n",
    "| Data | bin atoms | \n",
    "| Operation | filter for bin atoms | \n",
    "| Simple? | Y | \n",
    "| Distributive? | Y | \n",
    "| Neutral element? | () | \n",
    "| Endomorphisms | x | "
   ]
  },
  {
   "cell_type": "code",
   "execution_count": 2,
   "id": "0e99b5fc-8e00-4c03-93a4-c3b141e014d3",
   "metadata": {},
   "outputs": [
    {
     "name": "stdout",
     "output_type": "stream",
     "text": [
      "(bin:a b c)"
     ]
    }
   ],
   "source": [
    "Let hb : {has bin:B}\n",
    "hb? : (bin:a b c) x y z"
   ]
  },
  {
   "cell_type": "code",
   "execution_count": null,
   "id": "5553dcea-7ac3-477e-9524-0b8c12977193",
   "metadata": {},
   "outputs": [],
   "source": [
    "count : theorem (idempotent3:hb?) : S2?\n",
    "count : theorem (distributive1:hb?) : S2?\n",
    "count : theorem (distributive3:hb?) : S2?\n",
    "count : theorem (simple:hb?) : S2?"
   ]
  },
  {
   "cell_type": "code",
   "execution_count": null,
   "id": "d2f7bb0b-0b2e-47c4-91e2-5c088d08fcdf",
   "metadata": {},
   "outputs": [],
   "source": []
  }
 ],
 "metadata": {
  "kernelspec": {
   "display_name": "coda",
   "language": "",
   "name": "coda"
  },
  "language_info": {
   "file_extension": ".co",
   "mimetype": "text/plain",
   "name": "Any text"
  }
 },
 "nbformat": 4,
 "nbformat_minor": 5
}
