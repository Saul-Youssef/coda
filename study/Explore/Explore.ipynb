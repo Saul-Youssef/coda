{
 "cells": [
  {
   "cell_type": "markdown",
   "id": "53ad23c4-ccf7-45bf-9c1f-3b02a27e63be",
   "metadata": {},
   "source": [
    "# Exploration\n",
    "\n",
    "This is going to be a general exploration of some data, particularly exercising the Set module.\n",
    "\n",
    "We use sequences of (:) and Generate.Gen to generate interesting samples of datas.  Generate.Gen uses a base collection of codas as a starting point (Generate.codas) and makes samples from those codas including language expressions.  The argument to Generate.Gen is the width of the sampled expression.  \n",
    "\n",
    "The Generate module also can generate all pure data up to specified with and depth, but this results in enormous data samples and it's impractical to search deep enough to hit the built in definitions.  \n",
    "\n",
    "Samples:\n",
    "1. *SMALL* 159 datas, used for software testing.\n",
    "2. *MEDIUM* 14,098 datas, used for pre-production testing. \n",
    "3. *LARGE* 1M datas, used for production results.\n",
    "\n",
    "We will look for data using the samples available from the Set module:\n",
    "\n",
    "1. nilpotents A^n:X = ()\n",
    "2. involutions A:A:X = X\n",
    "3. idempotents A:A:X = A:X\n",
    "4. distributive A:X Y = (A:X) (A:Y)\n",
    "5. space A:(A:X) (A:Y) = A:X Y\n",
    "6. morphism from A to B F:A:X = B:F:X \n"
   ]
  },
  {
   "cell_type": "code",
   "execution_count": 1,
   "id": "00ab60a4-fd0c-4e4c-a07e-0b1b5816e808",
   "metadata": {
    "tags": []
   },
   "outputs": [],
   "source": [
    "from base import *\n",
    "import Generate,Set\n",
    "#\n",
    "#    Starting samples that will be used \n",
    "#\n",
    "codas = Generate.codas # base codas for generating data samples \n",
    "TINY = Set.Set(*[data(c) for c in codas])\n",
    "SMALL  = Generate.Gen(codas,2).set()  # 159 small sample for testing \n",
    "MEDIUM = Generate.Gen(codas,3).set()  # 14,098 medium sample \n",
    "PURE = Generate.Window(2,2)           # 91 pure data \n",
    "#LARGE  = Generate.Gen(codas,4).set()  # 1,047,810 production sample \n",
    "#\n",
    "#     The evaluation depth is controlled by these \n",
    "#\n",
    "e10   = Set.eval10\n",
    "e100  = Set.eval100  \n",
    "e1000 = Set.eval1000  \n",
    "#\n",
    "#    Samples of (:) \"hydrogen atoms\"\n",
    "#\n",
    "def atoms(n): return Generate.OddAtoms(n)+Generate.EvenAtoms(n)"
   ]
  },
  {
   "cell_type": "markdown",
   "id": "0b5defa5-de70-4538-8602-f88260b159e4",
   "metadata": {},
   "source": [
    "A zeroth order study is to find out if any of the base codas have algebraic properties.  The base codas are in TINY."
   ]
  },
  {
   "cell_type": "code",
   "execution_count": 2,
   "id": "a6501f70-0189-44e8-938d-e7fee3606654",
   "metadata": {
    "collapsed": true,
    "jupyter": {
     "outputs_hidden": true
    },
    "tags": []
   },
   "outputs": [
    {
     "name": "stdout",
     "output_type": "stream",
     "text": [
      "◎\n",
      "𝟬\n",
      "𝝞\n",
      "pass\n",
      "null\n",
      "bin\n",
      "domain\n",
      "if\n",
      "put\n",
      "has1\n",
      "get1\n",
      "*\n",
      "some\n",
      "rev\n",
      "first\n",
      "tail\n",
      "last\n",
      "rep\n",
      "nth1\n",
      "pre\n",
      "post\n",
      "bool\n",
      "not\n",
      "=\n",
      "or\n",
      "and\n",
      "nor\n",
      "xor\n",
      "nand\n",
      "xnor\n",
      "iff\n",
      "imply\n",
      "ap\n",
      "app\n",
      "ap2\n",
      "aps\n",
      "apby\n",
      "apif\n",
      "wrap\n",
      "startswith\n",
      "endswith\n",
      "join\n",
      "split\n",
      "equiv\n",
      "collect\n",
      "counts\n",
      "0\n",
      "1\n",
      "2\n",
      "3\n",
      "a\n",
      "b\n",
      "A\n",
      "B\n",
      "{$}\n"
     ]
    }
   ],
   "source": [
    "for d in TINY: print(d)"
   ]
  },
  {
   "cell_type": "code",
   "execution_count": 3,
   "id": "4b49dc6e-1df3-493c-9ee6-fd6047da9455",
   "metadata": {},
   "outputs": [],
   "source": [
    "TEST1 = MEDIUM.sample(10)+atoms(5)+PURE.sample(5)\n",
    "TEST2 = MEDIUM.sample(100)+atoms(5)+PURE.sample(10)"
   ]
  },
  {
   "cell_type": "code",
   "execution_count": null,
   "id": "27153055-b647-4fce-a2ef-91182aee1908",
   "metadata": {},
   "outputs": [],
   "source": [
    "space = TINY.space(TEST1,TEST1).multieval(e100)"
   ]
  },
  {
   "cell_type": "code",
   "execution_count": null,
   "id": "6c3ac37c-9502-47e0-ad25-9c3acffb2007",
   "metadata": {},
   "outputs": [],
   "source": [
    "distributive = TINY.distributive(TEST1,TEST1).multieval(e100)"
   ]
  },
  {
   "cell_type": "code",
   "execution_count": null,
   "id": "18a7b421-28df-4e31-9d5d-346c2f0f6d70",
   "metadata": {},
   "outputs": [],
   "source": [
    "idempotent = TINY.idempotent(TEST2).multeval(e100)"
   ]
  },
  {
   "cell_type": "code",
   "execution_count": null,
   "id": "600865c8-f774-4561-8d28-bf3d59231a64",
   "metadata": {},
   "outputs": [],
   "source": [
    "involution = TINY.involution(1,TEST2).multieval(e100)"
   ]
  },
  {
   "cell_type": "code",
   "execution_count": null,
   "id": "ab4daa92-ec3b-4a62-aff2-9163a3133023",
   "metadata": {},
   "outputs": [],
   "source": [
    "nilpotent = TINY.nulpotent(1,TEST2).multieval(e100) "
   ]
  }
 ],
 "metadata": {
  "kernelspec": {
   "display_name": "Python 3 (ipykernel)",
   "language": "python",
   "name": "python3"
  },
  "language_info": {
   "codemirror_mode": {
    "name": "ipython",
    "version": 3
   },
   "file_extension": ".py",
   "mimetype": "text/x-python",
   "name": "python",
   "nbconvert_exporter": "python",
   "pygments_lexer": "ipython3",
   "version": "3.10.7"
  }
 },
 "nbformat": 4,
 "nbformat_minor": 5
}
