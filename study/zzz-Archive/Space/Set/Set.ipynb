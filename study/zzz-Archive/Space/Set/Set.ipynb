{
 "cells": [
  {
   "cell_type": "markdown",
   "id": "33e51a57-2bdd-44c9-b869-d310ade5f320",
   "metadata": {},
   "source": [
    "| Space | Elements | Operation | Space | Simple | Idempotent | Distributive | Distributive 2 | Commutative | Involution | Nilpotent | Semilattice | \n",
    "|-------|----------|-----------|-----:|-------:|-----------:|-------------:|--------:|------------:|-----------:|----------:|--------:|\n",
    "| once * nats | natural sequences | filter | Y | Y | Y | N | Y | Y | N | N | Y |\n",
    "| once * is 1 2 3 | sequences of 1 2 3 at most once each | filter | Y | Y | Y | N | Y | Y | N | N | Y |"
   ]
  },
  {
   "cell_type": "code",
   "execution_count": 5,
   "id": "6a4adbb7-86cb-4499-af50-df649dbc4bd5",
   "metadata": {},
   "outputs": [
    {
     "name": "stdout",
     "output_type": "stream",
     "text": []
    }
   ],
   "source": [
    "import : dir co : up : ."
   ]
  },
  {
   "cell_type": "code",
   "execution_count": 2,
   "id": "1891acb6-a4d7-4806-9240-81c41583c8c5",
   "metadata": {},
   "outputs": [
    {
     "name": "stdout",
     "output_type": "stream",
     "text": []
    }
   ],
   "source": [
    "Def OP2 : {once : is 1 2 3 : B} "
   ]
  },
  {
   "cell_type": "code",
   "execution_count": 3,
   "id": "422b4cc8-818c-4342-a82c-9d9ffc2d6490",
   "metadata": {
    "collapsed": true,
    "jupyter": {
     "outputs_hidden": true,
     "source_hidden": true
    },
    "tags": []
   },
   "outputs": [
    {
     "name": "stdout",
     "output_type": "stream",
     "text": [
      "0\n",
      "0\n",
      "245\n",
      "0\n",
      "0\n",
      "17\n",
      "17\n",
      "0"
     ]
    }
   ],
   "source": [
    "count : theorem (simple:        OP2) : S5?\n",
    "count : theorem (idempotent:    OP2) : S5?\n",
    "count : theorem (distributive:  OP2) : S5?\n",
    "count : theorem (distributive2: OP2) : S5?\n",
    "count : theorem (commutative:   OP2) : S5? \n",
    "count : theorem (involution:    OP2) : S5? \n",
    "count : theorem (nilpotent:     OP2) : S5? \n",
    "count : theorem (semilattice:   OP2) : S5?"
   ]
  },
  {
   "cell_type": "code",
   "execution_count": 7,
   "id": "57ae1696-40e2-42ea-9026-6afecb9ad7e7",
   "metadata": {},
   "outputs": [
    {
     "name": "stdout",
     "output_type": "stream",
     "text": []
    }
   ],
   "source": [
    "Def OP4 : {once : nats : B} "
   ]
  },
  {
   "cell_type": "code",
   "execution_count": 6,
   "id": "f20b6cc3-0c45-4610-90f9-55c5e996b0d2",
   "metadata": {},
   "outputs": [
    {
     "name": "stdout",
     "output_type": "stream",
     "text": [
      "◎ (:0) (:1) (:2) (:0 0) (:0 1) (:0 2) (:1 0) (:1 1) (:1 2) (:2 0) (:2 1) (:2 2) (:0 0 0) (:0 0 1) (:0 1 0) (:0 1 1) (:1 0 0) (:1 0 1) (:1 1 0) (:1 1 1)"
     ]
    }
   ],
   "source": [
    "S5?"
   ]
  },
  {
   "cell_type": "code",
   "execution_count": 5,
   "id": "652d1540-b82b-4e30-bbcc-0bce65814fb4",
   "metadata": {
    "tags": []
   },
   "outputs": [
    {
     "name": "stdout",
     "output_type": "stream",
     "text": [
      "0\n",
      "0\n",
      "357\n",
      "0\n",
      "0\n",
      "14\n",
      "20\n",
      "0"
     ]
    }
   ],
   "source": [
    "count : theorem (simple:        OP4) : S5?\n",
    "count : theorem (idempotent:    OP4) : S5?\n",
    "count : theorem (distributive:  OP4) : S5?\n",
    "count : theorem (distributive2: OP4) : S5?\n",
    "count : theorem (commutative:   OP4) : S5? \n",
    "count : theorem (involution:    OP4) : S5? \n",
    "count : theorem (nilpotent:     OP4) : S5? \n",
    "count : theorem (semilattice:   OP4) : S5?"
   ]
  },
  {
   "cell_type": "code",
   "execution_count": null,
   "id": "387de31c-0243-436f-bde0-e3b7fd1aac1c",
   "metadata": {},
   "outputs": [],
   "source": []
  }
 ],
 "metadata": {
  "kernelspec": {
   "display_name": "coda",
   "language": "",
   "name": "coda"
  },
  "language_info": {
   "file_extension": ".co",
   "mimetype": "text/plain",
   "name": "Any text"
  }
 },
 "nbformat": 4,
 "nbformat_minor": 5
}
