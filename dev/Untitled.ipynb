{
 "cells": [
  {
   "cell_type": "code",
   "execution_count": 1,
   "id": "6ec100d4-4fad-40cf-ac4c-5b601f6b9657",
   "metadata": {},
   "outputs": [],
   "source": [
    "from base import * "
   ]
  },
  {
   "cell_type": "code",
   "execution_count": 2,
   "id": "628f5f4b-453d-424b-9540-3f3950fcba26",
   "metadata": {},
   "outputs": [],
   "source": [
    "from Language import lang "
   ]
  },
  {
   "cell_type": "code",
   "execution_count": 3,
   "id": "5137d54d-4bce-4f0f-9b8b-2e173d9d6bb0",
   "metadata": {},
   "outputs": [],
   "source": [
    "D = lang('rev : a b c',data(),data())"
   ]
  },
  {
   "cell_type": "code",
   "execution_count": 4,
   "id": "4e830a03-45bf-45ac-ad97-1284ae8cd58f",
   "metadata": {},
   "outputs": [
    {
     "data": {
      "text/plain": [
       "'({rev : a b c}:)'"
      ]
     },
     "execution_count": 4,
     "metadata": {},
     "output_type": "execute_result"
    }
   ],
   "source": [
    "str(D)"
   ]
  },
  {
   "cell_type": "code",
   "execution_count": 5,
   "id": "1dd6e7ca-6b34-448a-98cb-2fa66efa1e4a",
   "metadata": {},
   "outputs": [
    {
     "data": {
      "text/plain": [
       "'(({rev }:):({ a b c}:))'"
      ]
     },
     "execution_count": 5,
     "metadata": {},
     "output_type": "execute_result"
    }
   ],
   "source": [
    "str(D.eval())"
   ]
  },
  {
   "cell_type": "code",
   "execution_count": 6,
   "id": "e5f2342a-3196-4cff-a7a1-fa78f98ca7f7",
   "metadata": {},
   "outputs": [
    {
     "data": {
      "text/plain": [
       "True"
      ]
     },
     "execution_count": 6,
     "metadata": {},
     "output_type": "execute_result"
    }
   ],
   "source": [
    "D[0] in CONTEXT"
   ]
  },
  {
   "cell_type": "code",
   "execution_count": 7,
   "id": "37312783-1eaa-480e-a722-655feb4865d8",
   "metadata": {},
   "outputs": [
    {
     "data": {
      "text/plain": [
       "'language'"
      ]
     },
     "execution_count": 7,
     "metadata": {},
     "output_type": "execute_result"
    }
   ],
   "source": [
    "str(D[0].domain())"
   ]
  },
  {
   "cell_type": "code",
   "execution_count": 8,
   "id": "13e14cb5-a31e-46ee-a0f0-d543076fdd97",
   "metadata": {},
   "outputs": [],
   "source": [
    "import Code"
   ]
  },
  {
   "cell_type": "code",
   "execution_count": 9,
   "id": "ee28c87b-7cc9-4a4e-9e67-60cd82db24e8",
   "metadata": {},
   "outputs": [
    {
     "data": {
      "text/plain": [
       "'((𝟬:(:𝟬𝟬𝟬𝟬𝟬𝟬)(:𝟬𝟬𝟬𝟬)(:𝟬𝟬𝟬𝟬)(:𝟬𝟬𝟬𝟬𝟬)(:𝟬)(:𝟬𝟬𝟬𝟬)(:𝟬)(:𝟬𝟬𝟬)(:𝟬)(:𝟬𝟬𝟬)(:𝟬)(:𝟬𝟬𝟬𝟬)(:𝟬𝟬𝟬𝟬𝟬𝟬)):)'"
      ]
     },
     "execution_count": 9,
     "metadata": {},
     "output_type": "execute_result"
    }
   ],
   "source": [
    "Code.pretty(D)"
   ]
  },
  {
   "cell_type": "code",
   "execution_count": 10,
   "id": "fc21f2c3-40ac-406b-b128-f9d4a7dcf3a4",
   "metadata": {},
   "outputs": [],
   "source": [
    "c = D[0]"
   ]
  },
  {
   "cell_type": "code",
   "execution_count": 11,
   "id": "e6027d1d-58f7-4f1b-966d-db5dc7a74158",
   "metadata": {},
   "outputs": [
    {
     "data": {
      "text/plain": [
       "base.coda"
      ]
     },
     "execution_count": 11,
     "metadata": {},
     "output_type": "execute_result"
    }
   ],
   "source": [
    "type(c)"
   ]
  },
  {
   "cell_type": "code",
   "execution_count": 12,
   "id": "1581b361-1aba-44b9-9aae-3dfe673cc0a4",
   "metadata": {},
   "outputs": [
    {
     "data": {
      "text/plain": [
       "'language'"
      ]
     },
     "execution_count": 12,
     "metadata": {},
     "output_type": "execute_result"
    }
   ],
   "source": [
    "str(c.domain())"
   ]
  },
  {
   "cell_type": "code",
   "execution_count": 13,
   "id": "5dabc3f0-74c8-4cbc-acd2-e344b53cf39b",
   "metadata": {},
   "outputs": [
    {
     "data": {
      "text/plain": [
       "'language'"
      ]
     },
     "execution_count": 13,
     "metadata": {},
     "output_type": "execute_result"
    }
   ],
   "source": [
    "str(c.domain())"
   ]
  },
  {
   "cell_type": "code",
   "execution_count": null,
   "id": "e0adfeb8-54a2-47b5-b8c2-d0c534d91298",
   "metadata": {},
   "outputs": [],
   "source": []
  }
 ],
 "metadata": {
  "kernelspec": {
   "display_name": "Python 3 (ipykernel)",
   "language": "python",
   "name": "python3"
  },
  "language_info": {
   "codemirror_mode": {
    "name": "ipython",
    "version": 3
   },
   "file_extension": ".py",
   "mimetype": "text/x-python",
   "name": "python",
   "nbconvert_exporter": "python",
   "pygments_lexer": "ipython3",
   "version": "3.10.7"
  }
 },
 "nbformat": 4,
 "nbformat_minor": 5
}
