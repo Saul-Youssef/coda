{
 "cells": [
  {
   "cell_type": "code",
   "execution_count": 1,
   "id": "4bd296ed-b57f-48bf-a9c2-6e22005ac190",
   "metadata": {},
   "outputs": [
    {
     "name": "stdout",
     "output_type": "stream",
     "text": [
      "prod ◎ (:prod ◎ (:prod (:Ladder) (:prod ◎ ◎)))\n",
      "prod (:Suppose that we have a space U and) (:prod ◎ (:prod (:in) (:prod ◎ (:is equal to {(put A) * B * (get A)}. This applies to the A-contents of input data))))\n",
      "and becomes the corresponding A-content result."
     ]
    }
   ],
   "source": [
    "**Ladder**\n",
    "\n",
    "Suppose that we have a space U and **in** is equal to {(put A) * B * (get A)}.  This applies B to the A-contents of input data\n",
    "and becomes the corresponding A-content result."
   ]
  },
  {
   "cell_type": "code",
   "execution_count": 2,
   "id": "cf0ba064-db4a-433a-b58e-536f1055c028",
   "metadata": {},
   "outputs": [
    {
     "name": "stdout",
     "output_type": "stream",
     "text": [
      "(defaultTime:1000)"
     ]
    }
   ],
   "source": [
    "defaultTime:1000"
   ]
  },
  {
   "cell_type": "code",
   "execution_count": 3,
   "id": "c84feb16-45fb-4f33-a658-1fe362efee92",
   "metadata": {},
   "outputs": [
    {
     "name": "stdout",
     "output_type": "stream",
     "text": []
    }
   ],
   "source": [
    "import : dir co : up : ."
   ]
  },
  {
   "cell_type": "code",
   "execution_count": 4,
   "id": "dd5ea6dc-85c0-4abb-ab58-a4761eb78954",
   "metadata": {},
   "outputs": [
    {
     "name": "stdout",
     "output_type": "stream",
     "text": []
    }
   ],
   "source": [
    "Def stick : ap {|} "
   ]
  },
  {
   "cell_type": "code",
   "execution_count": 5,
   "id": "82562e6e-c68f-4a8a-9e26-bf6886e48718",
   "metadata": {},
   "outputs": [
    {
     "name": "stdout",
     "output_type": "stream",
     "text": [
      "| | |"
     ]
    }
   ],
   "source": [
    "stick : a b c "
   ]
  },
  {
   "cell_type": "code",
   "execution_count": 6,
   "id": "6226aa5d-a8ff-416d-814b-bde5c7fc353d",
   "metadata": {},
   "outputs": [
    {
     "name": "stdout",
     "output_type": "stream",
     "text": []
    }
   ],
   "source": [
    "Def p:\n",
    "Def q: \n",
    "Def Stick : (in p:stick)"
   ]
  },
  {
   "cell_type": "code",
   "execution_count": 7,
   "id": "fc44fe62-81c5-4897-8ff9-bc03b9c9aca0",
   "metadata": {},
   "outputs": [
    {
     "name": "stdout",
     "output_type": "stream",
     "text": []
    }
   ],
   "source": [
    "Let 3 : put p : stick:x x x \n",
    "Let 2 : put p : stick:x x "
   ]
  },
  {
   "cell_type": "code",
   "execution_count": 8,
   "id": "5cd632e0-cafd-45f2-943e-a6fbd8814d75",
   "metadata": {},
   "outputs": [
    {
     "name": "stdout",
     "output_type": "stream",
     "text": [
      "(p:| |)\n",
      "(p:| | |)"
     ]
    }
   ],
   "source": [
    "Stick : 2?\n",
    "3?"
   ]
  },
  {
   "cell_type": "code",
   "execution_count": 9,
   "id": "db1ca488-a2e0-4181-a5d1-417b3d5feb2d",
   "metadata": {},
   "outputs": [
    {
     "name": "stdout",
     "output_type": "stream",
     "text": [
      "(p:| | |)\n",
      "(p:| |)\n",
      "(p:| | | | |)\n",
      "(p:| | | | |)"
     ]
    }
   ],
   "source": [
    "Stick : 3? \n",
    "Stick : 2?\n",
    "Stick : 2? 3? \n",
    "Stick : (Stick : 2?) (Stick : 3?)"
   ]
  },
  {
   "cell_type": "code",
   "execution_count": 10,
   "id": "954e300a-d0a1-4f8c-b748-db07a8d37d10",
   "metadata": {},
   "outputs": [
    {
     "name": "stdout",
     "output_type": "stream",
     "text": []
    }
   ],
   "source": [
    "Def Stick2 : in q : Stick"
   ]
  },
  {
   "cell_type": "code",
   "execution_count": 11,
   "id": "e862cc2f-a9e0-47e5-ae0d-eec3ac374ae7",
   "metadata": {},
   "outputs": [
    {
     "name": "stdout",
     "output_type": "stream",
     "text": [
      "(q:(p:))"
     ]
    }
   ],
   "source": [
    "Stick2:"
   ]
  },
  {
   "cell_type": "code",
   "execution_count": 12,
   "id": "838f5d6d-afd1-4651-9ce1-0be66d701156",
   "metadata": {},
   "outputs": [
    {
     "name": "stdout",
     "output_type": "stream",
     "text": []
    }
   ],
   "source": [
    "Let 22 : put q : 2?\n",
    "Let 33 : put q : 3?"
   ]
  },
  {
   "cell_type": "code",
   "execution_count": 13,
   "id": "ae8dc23e-97f0-4761-88a5-369cb52b2524",
   "metadata": {},
   "outputs": [
    {
     "name": "stdout",
     "output_type": "stream",
     "text": [
      "(q:(p:| |)) (q:(p:| | |))"
     ]
    }
   ],
   "source": [
    "22? 33?"
   ]
  },
  {
   "cell_type": "code",
   "execution_count": 14,
   "id": "868bfcd1-e877-4dd9-a1f5-a8129e800889",
   "metadata": {},
   "outputs": [
    {
     "name": "stdout",
     "output_type": "stream",
     "text": [
      "(q:(p:| | | | |))"
     ]
    }
   ],
   "source": [
    "Stick2 : 22? 33? "
   ]
  },
  {
   "cell_type": "code",
   "execution_count": null,
   "id": "d03f2b2d-cf4b-402e-a720-e221194f8fa7",
   "metadata": {},
   "outputs": [],
   "source": []
  }
 ],
 "metadata": {
  "kernelspec": {
   "display_name": "coda",
   "language": "",
   "name": "coda"
  },
  "language_info": {
   "file_extension": ".co",
   "mimetype": "text/plain",
   "name": "Any text"
  }
 },
 "nbformat": 4,
 "nbformat_minor": 5
}
