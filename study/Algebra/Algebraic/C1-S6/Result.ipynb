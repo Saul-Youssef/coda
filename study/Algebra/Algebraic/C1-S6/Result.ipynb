{
 "cells": [
  {
   "cell_type": "code",
   "execution_count": 1,
   "id": "53c35701-900f-481a-b09a-3f60b50f7d83",
   "metadata": {},
   "outputs": [
    {
     "name": "stdout",
     "output_type": "stream",
     "text": [
      "(defaultTime:1000)"
     ]
    }
   ],
   "source": [
    "defaultTime:1000"
   ]
  },
  {
   "cell_type": "code",
   "execution_count": 2,
   "id": "21560f3c-8092-47e8-995d-ffa10030fa8d",
   "metadata": {},
   "outputs": [
    {
     "name": "stdout",
     "output_type": "stream",
     "text": []
    }
   ],
   "source": [
    "import : dir co : up : up : up : . "
   ]
  },
  {
   "cell_type": "code",
   "execution_count": 3,
   "id": "eceb9592-f61a-4700-a30c-55f890c1e3b6",
   "metadata": {},
   "outputs": [
    {
     "name": "stdout",
     "output_type": "stream",
     "text": [
      " (:aq) \n",
      " (:const) \n",
      " (:null) \n"
     ]
    }
   ],
   "source": [
    "tab : in : algebraic_L3.can "
   ]
  },
  {
   "cell_type": "code",
   "execution_count": 4,
   "id": "1e38c473-d753-4c35-a86c-2911f63fb69e",
   "metadata": {},
   "outputs": [
    {
     "name": "stdout",
     "output_type": "stream",
     "text": [
      "52\n",
      "44\n",
      "3"
     ]
    }
   ],
   "source": [
    "count : in : algebraic_L1.can \n",
    "count : in : algebraic_L2.can \n",
    "count : in : algebraic_L3.can "
   ]
  },
  {
   "cell_type": "code",
   "execution_count": 7,
   "id": "9caf34a4-861f-4b7f-bcab-5871d93fd3b5",
   "metadata": {},
   "outputs": [
    {
     "name": "stdout",
     "output_type": "stream",
     "text": [
      "(with stick:)"
     ]
    }
   ],
   "source": [
    "do 1000 : property algebraic_L3 S6? : (:stick) "
   ]
  },
  {
   "cell_type": "code",
   "execution_count": null,
   "id": "5637ebae-19c2-42c2-ab9b-3c20f37c4bb8",
   "metadata": {},
   "outputs": [],
   "source": []
  }
 ],
 "metadata": {
  "kernelspec": {
   "display_name": "coda",
   "language": "",
   "name": "coda"
  },
  "language_info": {
   "file_extension": ".co",
   "mimetype": "text/plain",
   "name": "Any text"
  }
 },
 "nbformat": 4,
 "nbformat_minor": 5
}
