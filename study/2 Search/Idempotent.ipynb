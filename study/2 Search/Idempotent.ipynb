{
 "cells": [
  {
   "cell_type": "markdown",
   "id": "9ca75758-a242-41db-8b2f-2c0b03771cd8",
   "metadata": {},
   "source": [
    "## Algebraic properties: Which operators are nullpotent and idempotent?\n",
    "\n",
    "* Data A is **idempotent** if A:A:X is equal to A:X for all data X. \n",
    "* Data A is **nullpotent** if A:X is equal to () for all data X. \n",
    "\n",
    "Start with some samples for testing:"
   ]
  },
  {
   "cell_type": "code",
   "execution_count": 1,
   "id": "06f50b88-b854-43a9-a074-bd7d96ece516",
   "metadata": {
    "tags": []
   },
   "outputs": [
    {
     "name": "stdout",
     "output_type": "stream",
     "text": []
    }
   ],
   "source": [
    "#\n",
    "#   Prepare some samples for testing purposes \n",
    "#   \n",
    "#   S1: hydrogen atoms\n",
    "#   S2: more general atoms mix \n",
    "#   S3: pure data mix\n",
    "#   S4: mix with operators and language.\n",
    "#\n",
    "Let S1 : sample.atom : 5\n",
    "Let S2 : permutation 2 : (:) a b 0 1 \n",
    "Let S3 : sample.pure : 2 2 \n",
    "Let S4 : sample.data <A> <B> <{$}> 0 1 a b (defs:Basic) : 2 2 "
   ]
  },
  {
   "cell_type": "markdown",
   "id": "c11b7b76-dc71-4564-a361-5815def8ce92",
   "metadata": {},
   "source": [
    "In the nilpotent notebook, we proceeded by defining \n",
    "\n",
    "* Def nilpotent : {A:B} \n",
    "\n",
    "as a starting point so that nilpotent A : B is true if A is nilpotent applied to the data B.  We could proceed in a similar way via \n",
    "\n",
    "* Def idempotent : {(A:A:B)=(A:B)} \n",
    "\n",
    "so that idempotent A : B is true if A is idempotent on B.  This works fine, but, let's take a more general approach where with think of idempotency as a potential theorem. Define \n",
    "\n",
    "* Def idempotent : {(B:B:x?)=(B:x?)} \n",
    "\n",
    "so that (idempotent:first) for instance, is (first:first:x?)=(first:x?), and if this is not false for any data x?, then we say that rev is idempotent.  "
   ]
  },
  {
   "cell_type": "code",
   "execution_count": 2,
   "id": "39f07da1-c8f6-4bf6-ba83-9359c8262574",
   "metadata": {},
   "outputs": [
    {
     "name": "stdout",
     "output_type": "stream",
     "text": []
    }
   ],
   "source": [
    "Def idempotent : {count:((B:B:x?)=(B:x?))} "
   ]
  },
  {
   "cell_type": "code",
   "execution_count": 3,
   "id": "f7b2cff3-08d6-4ef5-b5f1-f46f998c4474",
   "metadata": {},
   "outputs": [
    {
     "name": "stdout",
     "output_type": "stream",
     "text": [
      "0 0 0 0 0 0 0 0 0 0 0 0 0 0 0 0 0 0 0 0 0 0 0 0 0 0 0 0 0 0"
     ]
    }
   ],
   "source": [
    "get with : eval : cases (idempotent:first) : S1? S2?"
   ]
  },
  {
   "cell_type": "code",
   "execution_count": 4,
   "id": "09f4647f-b387-4567-ab62-cdc25fa57b7b",
   "metadata": {},
   "outputs": [
    {
     "name": "stdout",
     "output_type": "stream",
     "text": []
    }
   ],
   "source": [
    "Def Idempotent : {get with : eval : cases (idempotent:B) : A}"
   ]
  },
  {
   "cell_type": "code",
   "execution_count": 5,
   "id": "36e5a2cd-3479-4f1a-9f6f-010c6a0375ea",
   "metadata": {},
   "outputs": [
    {
     "name": "stdout",
     "output_type": "stream",
     "text": [
      "0 0 0 0 0 0 0 0 0 0 0 0 0 0 0 0 0 0 0 0 0 0 0 0 0 0 0 0 0 0"
     ]
    }
   ],
   "source": [
    "Idempotent S1? S2? : first "
   ]
  },
  {
   "cell_type": "code",
   "execution_count": 6,
   "id": "c7ca176e-a060-4888-950e-943f49491e4b",
   "metadata": {},
   "outputs": [
    {
     "name": "stdout",
     "output_type": "stream",
     "text": []
    }
   ],
   "source": [
    "Def IDEM : ap {bin B : int_sum : Idempotent A : B} "
   ]
  },
  {
   "cell_type": "code",
   "execution_count": 7,
   "id": "ed1274e1-e43d-47a5-98f0-44e377e32de5",
   "metadata": {},
   "outputs": [
    {
     "name": "stdout",
     "output_type": "stream",
     "text": [
      "(bin first:0) (bin pass:0) (bin bin:12) (bin {first 2:B}:0)"
     ]
    }
   ],
   "source": [
    "IDEM S1? : first pass bin {first 2:B} "
   ]
  },
  {
   "cell_type": "code",
   "execution_count": 8,
   "id": "ee2dc25b-bcb7-4bd4-8bb1-9708122f4d05",
   "metadata": {},
   "outputs": [
    {
     "name": "stdout",
     "output_type": "stream",
     "text": [
      "(bin collect:0) (bin rev:308) (bin first:0) (bin tail:109) (bin last:0) (bin skip:109) (bin rep:0) (bin nth1:0) (bin once:8) (bin count:219) (bin nth:0) (bin pre:0) (bin post:0) (bin equiv:2139)"
     ]
    }
   ],
   "source": [
    "IDEM S1? S2? S3? : defs : Sequence Collect  "
   ]
  },
  {
   "cell_type": "code",
   "execution_count": 9,
   "id": "386d7144-9b2d-42ea-b1f8-067b6ae10c87",
   "metadata": {},
   "outputs": [
    {
     "name": "stdout",
     "output_type": "stream",
     "text": [
      "(bin bool:0) (bin not:121) (bin =:0) (bin equal:0) (bin or:0) (bin and:0) (bin nor:0) (bin xor:121) (bin nand:121) (bin xnor:0) (bin iff:0) (bin imply:0) (bin some:0) (bin in:0)"
     ]
    }
   ],
   "source": [
    "IDEM S1? S2? S3? : defs : Logic "
   ]
  },
  {
   "cell_type": "code",
   "execution_count": null,
   "id": "8de26bd2-635c-46b9-8abd-89ec24b00938",
   "metadata": {},
   "outputs": [],
   "source": []
  }
 ],
 "metadata": {
  "kernelspec": {
   "display_name": "coda",
   "language": "",
   "name": "coda"
  },
  "language_info": {
   "file_extension": ".co",
   "mimetype": "text/plain",
   "name": "Any text"
  }
 },
 "nbformat": 4,
 "nbformat_minor": 5
}
