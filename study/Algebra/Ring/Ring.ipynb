{
 "cells": [
  {
   "cell_type": "markdown",
   "id": "bd9c1216-31b9-4c51-85cf-5341ebd3dcfe",
   "metadata": {},
   "source": [
    "## What are the Rings?\n",
    "\n",
    "A ring is data R such that \n",
    "\n",
    "* R X Y : Z = (R X:Z) (R Y:Z)  (\"ring left\")\n",
    "* R X : Y Z = (R X:Y) (R X:Z)  (\"ring right\") \n",
    "\n",
    "Any ring can be specified by function from pairs x,y of atoms to D^n(x,y) where D is some fixed data and where n(x,y) is some natural number valued function on pairs of data. Thus R X:Y is D^n for some n. \n",
    "\n",
    "* ar {x}\n"
   ]
  },
  {
   "cell_type": "code",
   "execution_count": 1,
   "id": "a959a325-65de-4651-ae1e-3bf749707c96",
   "metadata": {},
   "outputs": [
    {
     "name": "stdout",
     "output_type": "stream",
     "text": [
      "(defaultTime:1000)"
     ]
    }
   ],
   "source": [
    "defaultTime:1000"
   ]
  },
  {
   "cell_type": "code",
   "execution_count": 2,
   "id": "339b3844-28a9-445a-bc72-df1a5e869c40",
   "metadata": {},
   "outputs": [
    {
     "name": "stdout",
     "output_type": "stream",
     "text": []
    }
   ],
   "source": [
    "import : dir co : up : up : ."
   ]
  },
  {
   "cell_type": "code",
   "execution_count": 11,
   "id": "9b355227-bfb4-43e6-8d84-582b11e3a920",
   "metadata": {},
   "outputs": [
    {
     "name": "stdout",
     "output_type": "stream",
     "text": [
      "x x x x x x x x x"
     ]
    }
   ],
   "source": [
    "ar {x} a b c : 1 2 3 "
   ]
  },
  {
   "cell_type": "code",
   "execution_count": 29,
   "id": "a4270944-e135-4d2e-a828-ece4fac151cd",
   "metadata": {},
   "outputs": [
    {
     "name": "stdout",
     "output_type": "stream",
     "text": [
      "0"
     ]
    }
   ],
   "source": [
    "count : right : dom : property ring_left ar {x} : S2?\n",
    "count : right : dom : property ring_right ar {x} : S2?"
   ]
  },
  {
   "cell_type": "code",
   "execution_count": 38,
   "id": "57d7c46f-89a8-4ae0-b579-275d64b69f33",
   "metadata": {},
   "outputs": [
    {
     "name": "stdout",
     "output_type": "stream",
     "text": [
      "0"
     ]
    }
   ],
   "source": [
    "count : right : dom : property ring_left ar {x} : first 10 : S4?"
   ]
  },
  {
   "cell_type": "code",
   "execution_count": 39,
   "id": "49e6ce36-0ac0-4c68-abbc-c99cfbc01b93",
   "metadata": {},
   "outputs": [
    {
     "name": "stdout",
     "output_type": "stream",
     "text": [
      "6056"
     ]
    }
   ],
   "source": [
    "count : S4?"
   ]
  }
 ],
 "metadata": {
  "kernelspec": {
   "display_name": "coda",
   "language": "",
   "name": "coda"
  },
  "language_info": {
   "file_extension": ".co",
   "mimetype": "text/plain",
   "name": "Any text"
  }
 },
 "nbformat": 4,
 "nbformat_minor": 5
}
