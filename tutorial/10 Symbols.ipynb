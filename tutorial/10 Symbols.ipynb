{
 "cells": [
  {
   "cell_type": "code",
   "execution_count": null,
   "id": "74cbcf5c-4da1-4669-9269-01f9695dabb3",
   "metadata": {},
   "outputs": [],
   "source": [
    "# Symbol matching"
   ]
  },
  {
   "cell_type": "code",
   "execution_count": 1,
   "id": "d63f89c5-9bfd-4c6e-98af-c53788912c15",
   "metadata": {},
   "outputs": [
    {
     "name": "stdout",
     "output_type": "stream",
     "text": [
      "(x:)"
     ]
    }
   ],
   "source": [
    "x?"
   ]
  },
  {
   "cell_type": "code",
   "execution_count": 2,
   "id": "9c0c0320-65a4-463b-a3ca-772d8f8b5be3",
   "metadata": {},
   "outputs": [
    {
     "name": "stdout",
     "output_type": "stream",
     "text": []
    }
   ],
   "source": [
    "Def $:"
   ]
  },
  {
   "cell_type": "code",
   "execution_count": 3,
   "id": "1e017089-9303-420e-a09e-0616d4c5bf63",
   "metadata": {},
   "outputs": [
    {
     "name": "stdout",
     "output_type": "stream",
     "text": [
      "($:x)"
     ]
    }
   ],
   "source": [
    "($:x)"
   ]
  },
  {
   "cell_type": "code",
   "execution_count": 4,
   "id": "87b006c3-cf90-4ff6-bf5b-6c031bd09321",
   "metadata": {},
   "outputs": [
    {
     "name": "stdout",
     "output_type": "stream",
     "text": [
      "($:x) ($:X)"
     ]
    }
   ],
   "source": [
    "($:x) ($:X)"
   ]
  },
  {
   "cell_type": "code",
   "execution_count": null,
   "id": "516d72de-e7b4-49d5-bb62-f783efe7f62e",
   "metadata": {},
   "outputs": [],
   "source": []
  }
 ],
 "metadata": {
  "kernelspec": {
   "display_name": "coda",
   "language": "",
   "name": "coda"
  },
  "language_info": {
   "file_extension": ".co",
   "mimetype": "text/plain",
   "name": "Any text"
  }
 },
 "nbformat": 4,
 "nbformat_minor": 5
}
