{
 "cells": [
  {
   "cell_type": "markdown",
   "id": "940c5866-99ee-435f-a121-8989bfa036b7",
   "metadata": {},
   "source": [
    "# once \n",
    "\n",
    "Sequences of atoms without repetition."
   ]
  },
  {
   "cell_type": "markdown",
   "id": "2b5f7034-8480-4e63-b35f-04d2b7020bd6",
   "metadata": {},
   "source": [
    "## 1. Basics\n",
    "\n",
    "The data in once are sequences of atoms without repetition.  The neutral data is the empty sequence."
   ]
  },
  {
   "cell_type": "code",
   "execution_count": 1,
   "id": "93d834bb-ce47-479d-9b5f-81c7ee3f8dc0",
   "metadata": {},
   "outputs": [
    {
     "name": "stdout",
     "output_type": "stream",
     "text": []
    }
   ],
   "source": [
    "import : dir co : up : ."
   ]
  },
  {
   "cell_type": "code",
   "execution_count": 4,
   "id": "c5eb3a5a-4853-4c4a-83cc-355e43dd7038",
   "metadata": {},
   "outputs": [
    {
     "name": "stdout",
     "output_type": "stream",
     "text": [
      "a b\n",
      "a b\n",
      "a b\n",
      "0"
     ]
    }
   ],
   "source": [
    "#\n",
    "#  once is a space \n",
    "#\n",
    "once : a b a b \n",
    "once : once : a b a b \n",
    "once : (once : a b ) (once : a b )\n",
    "#\n",
    "#  the neutral data is the empty sequence \n",
    "#\n",
    "count : once :"
   ]
  },
  {
   "cell_type": "markdown",
   "id": "504763b1-8bd3-4226-9f24-e06690fd884a",
   "metadata": {},
   "source": [
    "## 2. Properties \n",
    "\n",
    "As a space, once is **positive**, **semilattice**, **not distributive** and **not algebraic**. "
   ]
  },
  {
   "cell_type": "code",
   "execution_count": 5,
   "id": "ac71f55f-2001-4d74-a633-9cb9466a3fd6",
   "metadata": {},
   "outputs": [
    {
     "name": "stdout",
     "output_type": "stream",
     "text": [
      "x y z\n",
      "x y z p q r\n",
      "p q r x y z"
     ]
    }
   ],
   "source": [
    "#\n",
    "#  once : X X = once : X is the semilattice property \n",
    "#\n",
    "once : (x y z) (x y z)\n",
    "#\n",
    "#   once is positive, but not algebraic \n",
    "#\n",
    "once : (x y z) (p q r) \n",
    "once : (p q r) (x y z)"
   ]
  },
  {
   "cell_type": "markdown",
   "id": "5d1af9f0-b2b3-4b0e-80ac-5862dbd5fe18",
   "metadata": {},
   "source": [
    "## 3. Kernel, complementary spaces and isomorphisms \n",
    "\n",
    "The **null** space is the kernel of **once** and is it's only complementary space. "
   ]
  },
  {
   "cell_type": "markdown",
   "id": "2812429d-5161-4ed7-a780-37943dc19883",
   "metadata": {},
   "source": [
    "## 4. Endomorphisms\n",
    "\n"
   ]
  }
 ],
 "metadata": {
  "kernelspec": {
   "display_name": "coda",
   "language": "",
   "name": "coda"
  },
  "language_info": {
   "file_extension": ".co",
   "mimetype": "text/plain",
   "name": "Any text"
  }
 },
 "nbformat": 4,
 "nbformat_minor": 5
}
