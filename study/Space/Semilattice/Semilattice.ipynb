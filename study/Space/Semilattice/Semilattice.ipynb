{
 "cells": [
  {
   "cell_type": "markdown",
   "id": "1b6a7354-7fad-4004-9dc1-458c143a2b59",
   "metadata": {},
   "source": [
    "### Search for semilattices.  Data where \n",
    "\n",
    "* S:X = S:X X\n",
    "\n",
    "for all X."
   ]
  },
  {
   "cell_type": "code",
   "execution_count": null,
   "id": "661b3bb2-0e91-470e-8194-2b9796122d43",
   "metadata": {},
   "outputs": [],
   "source": [
    "import : dir co : up : ."
   ]
  },
  {
   "cell_type": "code",
   "execution_count": null,
   "id": "f760bbeb-82b7-4967-a508-e68f09c85ddc",
   "metadata": {},
   "outputs": [],
   "source": [
    "once : module : defs:"
   ]
  },
  {
   "cell_type": "code",
   "execution_count": null,
   "id": "a1f341b6-3359-4a6a-bf6c-985d6b0ae428",
   "metadata": {},
   "outputs": [],
   "source": [
    "Let DEFS : defs : Apply Sequence Number Natural bool not or and "
   ]
  },
  {
   "cell_type": "code",
   "execution_count": null,
   "id": "2141758d-9f23-486a-86cc-8a483702c3c6",
   "metadata": {},
   "outputs": [],
   "source": [
    "Let Search1 : ap put : DEFS?"
   ]
  },
  {
   "cell_type": "code",
   "execution_count": null,
   "id": "2793ebc9-ce8e-41c3-acaf-5f61364fb414",
   "metadata": {},
   "outputs": [],
   "source": [
    "Search1?"
   ]
  },
  {
   "cell_type": "code",
   "execution_count": null,
   "id": "5c625915-f828-48c5-bece-a832c22e9fb0",
   "metadata": {},
   "outputs": [],
   "source": [
    "Def Semi : ap {(A:((get:B) (get:B)))=(A:(get:B))} "
   ]
  },
  {
   "cell_type": "code",
   "execution_count": null,
   "id": "a28abe02-0df1-4d4d-913f-b191ed2058aa",
   "metadata": {},
   "outputs": [],
   "source": [
    "Semi null : S2?"
   ]
  },
  {
   "cell_type": "code",
   "execution_count": null,
   "id": "3c814cc4-c56a-4714-bf9f-b2b4f69b1b7d",
   "metadata": {},
   "outputs": [],
   "source": [
    "Def SEMI : ap {bin (get:B) : count : Semi (get:B) : A}"
   ]
  },
  {
   "cell_type": "code",
   "execution_count": null,
   "id": "c2e2d210-425f-4c35-9fe9-35c34ba508bb",
   "metadata": {},
   "outputs": [],
   "source": [
    "SEMI S1? : (:pass) (:null) (:bool) "
   ]
  },
  {
   "cell_type": "code",
   "execution_count": null,
   "id": "c6d46920-816b-405d-8f9c-b5eea0ea89a4",
   "metadata": {},
   "outputs": [],
   "source": [
    "SEMI S2? : (:pass) (:null) (:bool)"
   ]
  },
  {
   "cell_type": "code",
   "execution_count": null,
   "id": "b35f7d6a-2a93-4c60-af6e-2cc5e934675c",
   "metadata": {},
   "outputs": [],
   "source": [
    "SEMI S2? : Search1?"
   ]
  },
  {
   "cell_type": "code",
   "execution_count": null,
   "id": "9cf2a6a9-6e45-4c36-b021-a1d0eff9d1b7",
   "metadata": {},
   "outputs": [],
   "source": [
    "SEMI S2? : S4?"
   ]
  },
  {
   "cell_type": "code",
   "execution_count": null,
   "id": "dc47c2b5-794d-4c62-bdf8-ed0d7bb08f9d",
   "metadata": {},
   "outputs": [],
   "source": []
  }
 ],
 "metadata": {
  "kernelspec": {
   "display_name": "coda",
   "language": "",
   "name": "coda"
  },
  "language_info": {
   "file_extension": ".co",
   "mimetype": "text/plain",
   "name": "Any text"
  }
 },
 "nbformat": 4,
 "nbformat_minor": 5
}
