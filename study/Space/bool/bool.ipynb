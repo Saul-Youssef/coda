{
 "cells": [
  {
   "cell_type": "markdown",
   "id": "e93e3adb-594c-4245-a548-c97bdada2c4f",
   "metadata": {},
   "source": [
    "# bool\n",
    "\n",
    "As we know, data is defined to be **true** if it is equal to empty data *()* and is defined to be **false** if it is atomic.  Data can also be **undecided** and, in cases like Godel's theorem, data can be **undecidable**.  Here we consider the built-in partial function **bool** which computes the logical value of data. **bool** is defined by \n",
    "\n",
    "* (bool:B) -> () if B is empty\n",
    "* (bool:B) -> (:) if B is atomic \n",
    "\n",
    "so that bool:X is the logical value of the data X.  Bool is also a **space**, meaning that bool is idempotent and \n",
    "\n",
    "* bool : X Y = bool : (bool : X) (bool:Y) \n",
    "\n",
    "for all data X and Y.  Bool is nice and organic.  It's perhaps the most basic naturally occurring space within the space **pass** of all pure data.  \n",
    "\n",
    "1. What are the basic properties of **bool**?\n",
    "2. What are the endomorphisms of **bool**?"
   ]
  },
  {
   "cell_type": "code",
   "execution_count": 1,
   "id": "eda65bcc-a3e5-4922-94c2-53a7caaedc47",
   "metadata": {},
   "outputs": [
    {
     "name": "stdout",
     "output_type": "stream",
     "text": [
      "(defaultTime:100)"
     ]
    }
   ],
   "source": [
    "#\n",
    "#   Set a convenient defaultTime for evaluation and import \n",
    "#   space-related definitions.\n",
    "#\n",
    "defaultTime:100\n",
    "import : dir co : up : ."
   ]
  },
  {
   "cell_type": "markdown",
   "id": "c62f21c6-c25d-4855-a4ee-bf3c56820733",
   "metadata": {},
   "source": [
    "### 1. What are the basic properties of **bool**?"
   ]
  },
  {
   "cell_type": "code",
   "execution_count": 2,
   "id": "3cd9ae6f-b843-4de4-a284-30f4135a83cb",
   "metadata": {},
   "outputs": [
    {
     "name": "stdout",
     "output_type": "stream",
     "text": [
      "◎\n",
      "1\n",
      "0"
     ]
    }
   ],
   "source": [
    "#\n",
    "#   Basic property\n",
    "#\n",
    "bool: (pass : a b c )\n",
    "bool: (null : a b c )\n",
    "#\n",
    "#   It is sometimes convenient to use count for display purposes, \n",
    "#   so that \"true\" data get's count 0. bool:X is true if and only \n",
    "#   if count:X is 0. \n",
    "#\n",
    "count : bool: (pass : a b c )\n",
    "count : bool: (null : a b c )\n",
    "#\n",
    "#   Although count is equivalent in some sense to bool, note that \n",
    "#   count is not a space. \n",
    "#"
   ]
  },
  {
   "cell_type": "code",
   "execution_count": 3,
   "id": "d9dc099e-07fa-448c-b861-2692939fffd4",
   "metadata": {},
   "outputs": [
    {
     "name": "stdout",
     "output_type": "stream",
     "text": [
      "◎\n",
      "◎\n",
      "◎\n",
      "◎"
     ]
    }
   ],
   "source": [
    "#\n",
    "#   bool is a space, meaning the the following should all be equal\n",
    "#\n",
    "bool : a b c \n",
    "bool : bool : a b c \n",
    "bool : (bool : a b ) (bool: c)\n",
    "bool : (bool : ) (bool : a b c )"
   ]
  },
  {
   "cell_type": "markdown",
   "id": "2806a7b9-51f6-406d-99dd-6e453c6f8b49",
   "metadata": {},
   "source": [
    "### Summary \n",
    "\n",
    "**bool** is a non-distributive commutative space with neutral data (bool:)=()."
   ]
  },
  {
   "cell_type": "markdown",
   "id": "4117cf23-68dd-4a39-8293-97ec783b81bd",
   "metadata": {},
   "source": [
    "### 2. What are the endomorphisms of bool? \n",
    "\n",
    "For any data X, bool\\*X\\*bool is an endomorphism of bool (End bool:X), thus motivating a definition \n",
    "\n",
    "* Def end : {End bool : B}"
   ]
  },
  {
   "cell_type": "code",
   "execution_count": 4,
   "id": "c6980433-e476-484d-bdfb-d3ea7f584e1e",
   "metadata": {},
   "outputs": [
    {
     "name": "stdout",
     "output_type": "stream",
     "text": [
      "(use1:(def end:{End bool:B}))"
     ]
    }
   ],
   "source": [
    "Def end : {End bool:B} "
   ]
  },
  {
   "cell_type": "code",
   "execution_count": 5,
   "id": "caaeda03-8ae0-47eb-802b-34579fe99595",
   "metadata": {},
   "outputs": [
    {
     "name": "stdout",
     "output_type": "stream",
     "text": []
    }
   ],
   "source": [
    "#\n",
    "#   Since bool:X is either () or (:), there are only four \n",
    "#   possible endomorphisms.  \n",
    "#\n",
    "Def IDENTITY : end : pass \n",
    "Def TRUE     : end : const () \n",
    "Def FALSE    : end : const (:) \n",
    "Def NOT      : end : not "
   ]
  },
  {
   "cell_type": "code",
   "execution_count": 6,
   "id": "6d1e98df-7a2c-4f07-a021-bec6d580f264",
   "metadata": {
    "tags": []
   },
   "outputs": [
    {
     "name": "stdout",
     "output_type": "stream",
     "text": [
      "1\n",
      "1\n",
      "-\n",
      "1\n",
      "1\n",
      "-\n",
      "1\n",
      "1\n",
      "-\n",
      "1\n",
      "1"
     ]
    }
   ],
   "source": [
    "count : IDENTITY : ()\n",
    "count : IDENTITY : (:) \n",
    "-\n",
    "count : TRUE : () \n",
    "count : TRUE : (:) \n",
    "-\n",
    "count : FALSE : ()\n",
    "count : FALSE : (:) \n",
    "- \n",
    "count : NOT : ()\n",
    "count : NOT : (:) "
   ]
  },
  {
   "cell_type": "code",
   "execution_count": 7,
   "id": "59dd70c4-6378-4e5e-949f-f5b347d38935",
   "metadata": {},
   "outputs": [
    {
     "name": "stdout",
     "output_type": "stream",
     "text": [
      "1\n",
      "1"
     ]
    }
   ],
   "source": [
    "#\n",
    "#   For any data X, end:X will be an endomorphism of bool and, \n",
    "#   thus, will be equal to IDENTITY, TRUE, FALSE or NOT. \n",
    "#   (end:rev), for instance is equal to TRUE.\n",
    "#\n",
    "count : (end : rev) : () \n",
    "count : (end : rev) : (:)"
   ]
  },
  {
   "cell_type": "markdown",
   "id": "0ed7c370-f989-49b7-949d-b336e10d606e",
   "metadata": {},
   "source": [
    "### Which of the four endomorphisms commute?"
   ]
  },
  {
   "cell_type": "code",
   "execution_count": 8,
   "id": "3eaa921d-0be1-4caf-8bd4-200b14e5c6d2",
   "metadata": {},
   "outputs": [
    {
     "name": "stdout",
     "output_type": "stream",
     "text": []
    }
   ],
   "source": [
    "Let endos : ap : IDENTITY TRUE FALSE NOT \n",
    "Let sample : (:()) (:(:)) "
   ]
  },
  {
   "cell_type": "code",
   "execution_count": 9,
   "id": "3ac7007e-bda8-41ba-8e0e-aa6e96cda846",
   "metadata": {},
   "outputs": [
    {
     "name": "stdout",
     "output_type": "stream",
     "text": [
      " (with (:IDENTITY) (:TRUE):◎) \n",
      " (with (:IDENTITY) (:FALSE):◎) \n",
      " (with (:IDENTITY) (:NOT):◎) \n",
      " (with (:TRUE) (:FALSE):◎) \n",
      " (with (:TRUE) (:NOT):) \n",
      " (with (:FALSE) (:NOT):◎) \n"
     ]
    }
   ],
   "source": [
    "tab : dom 100 : ap {with (get:B) : bool : commutator (get:B) : sample?} : combination 2 : endos?"
   ]
  },
  {
   "cell_type": "markdown",
   "id": "2e907fb7-9647-4c49-aaad-d4d757c09d39",
   "metadata": {},
   "source": [
    "### Summary\n",
    "\n",
    "Thus, the four endomorphism of bool (or inner endomorphisms of L1) have the familiar conceptual meaning \n",
    "\n",
    "* IDENTITY (bool)\n",
    "* TRUE (const ()) \n",
    "* FALSE (const (:))\n",
    "* NOT (not)\n",
    "\n",
    "IDENTITY commutes with the rest and no other pair commute.  IDENTITY, TRUE and FALSE are also spaces.  NOT is not a space, since NOT is not idempotent.  However, NOT is an involution.  \n",
    "\n",
    "Therefore, there are only four possile \"structures\" on the space **bool**.\n",
    "\n",
    "1. **bool with IDENTITY**: Has the same endomorphisms as **bool** itself. \n",
    "2. **bool with TRUE**.  Morphisms f must commute with TRUE. Thus, f must be TRUE or IDENTITY.\n",
    "3. **bool with FALSE**.  Morphisms f must commute with FALSE.  Thus f must be FALSE or IDENTITY. \n",
    "4. **bool with NOT**. Morphisms f must commute with NOT.  Thus, f must be NOT or the IDENTITY."
   ]
  },
  {
   "cell_type": "code",
   "execution_count": 10,
   "id": "4f15eb41-b8ea-4579-a359-903d4e750915",
   "metadata": {},
   "outputs": [
    {
     "name": "stdout",
     "output_type": "stream",
     "text": []
    }
   ],
   "source": [
    "bool*null*bool:x y z"
   ]
  },
  {
   "cell_type": "code",
   "execution_count": null,
   "id": "47438cf9-ba5c-4401-a319-b238dbc38f98",
   "metadata": {},
   "outputs": [],
   "source": []
  }
 ],
 "metadata": {
  "kernelspec": {
   "display_name": "coda",
   "language": "",
   "name": "coda"
  },
  "language_info": {
   "file_extension": ".co",
   "mimetype": "text/plain",
   "name": "Any text"
  }
 },
 "nbformat": 4,
 "nbformat_minor": 5
}
