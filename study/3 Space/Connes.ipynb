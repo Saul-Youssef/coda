{
 "cells": [
  {
   "cell_type": "code",
   "execution_count": 1,
   "id": "9e0a5b90-9de1-4c89-a985-79a518ac3009",
   "metadata": {},
   "outputs": [
    {
     "name": "stdout",
     "output_type": "stream",
     "text": []
    }
   ],
   "source": [
    "import : endswith defs.co : dir co : ."
   ]
  },
  {
   "cell_type": "code",
   "execution_count": 2,
   "id": "8ef569a6-73a3-435a-b555-716216147816",
   "metadata": {},
   "outputs": [
    {
     "name": "stdout",
     "output_type": "stream",
     "text": [
      "◎ (:◎) (:◎ ◎) (:◎ ◎ ◎) (:◎ ◎ ◎ ◎)\n",
      "(:◎ ◎) (:◎ a) (:◎ b) (:◎ 0) (:◎ 1) (:◎ (bin:a)) (:◎ (bin 1 2:a b)) (:◎ (bin a:(bin b:1 2))) (:a ◎) (:a a) (:a b) (:a 0) (:a 1) (:a (bin:a)) (:a (bin 1 2:a b)) (:a (bin a:(bin b:1 2))) (:b ◎) (:b a) (:b b) (:b 0) (:b 1) (:b (bin:a)) (:b (bin 1 2:a b)) (:b (bin a:(bin b:1 2))) (:0 ◎) (:0 a) (:0 b) (:0 0) (:0 1) (:0 (bin:a)) (:0 (bin 1 2:a b)) (:0 (bin a:(bin b:1 2))) (:1 ◎) (:1 a) (:1 b) (:1 0) (:1 1) (:1 (bin:a)) (:1 (bin 1 2:a b)) (:1 (bin a:(bin b:1 2))) (:(bin:a) ◎) (:(bin:a) a) (:(bin:a) b) (:(bin:a) 0) (:(bin:a) 1) (:(bin:a) (bin:a)) (:(bin:a) (bin 1 2:a b)) (:(bin:a) (bin a:(bin b:1 2))) (:(bin 1 2:a b) ◎) (:(bin 1 2:a b) a) (:(bin 1 2:a b) b) (:(bin 1 2:a b) 0) (:(bin 1 2:a b) 1) (:(bin 1 2:a b) (bin:a)) (:(bin 1 2:a b) (bin 1 2:a b)) (:(bin 1 2:a b) (bin a:(bin b:1 2))) (:(bin a:(bin b:1 2)) ◎) (:(bin a:(bin b:1 2)) a) (:(bin a:(bin b:1 2)) b) (:(bin a:(bin b:1 2)) 0) (:(bin a:(bin b:1 2)) 1) (:(bin a:(bin b:1 2)) (bin:a)) (:(bin a:(bin b:1 2)) (bin 1 2:a b)) (:(bin a:(bin b:1 2)) (bin a:(bin b:1 2)))"
     ]
    }
   ],
   "source": [
    "S1?\n",
    "S2?"
   ]
  },
  {
   "cell_type": "code",
   "execution_count": null,
   "id": "301fd6d8-0be1-4dbb-bba3-c9e2c0fc92f5",
   "metadata": {},
   "outputs": [],
   "source": [
    "Def n : {int_prod : (int_prod:A) (int_sum:B)}\n",
    "Def connes : { int_sum : (int_sum:A) (int_max:B) } "
   ]
  },
  {
   "cell_type": "code",
   "execution_count": null,
   "id": "16fd39e3-a3be-4aac-8f38-8b49f5371c22",
   "metadata": {},
   "outputs": [],
   "source": [
    "IDEMP1 S1? S2? : n connes"
   ]
  },
  {
   "cell_type": "code",
   "execution_count": null,
   "id": "3ea7b314-cfca-407e-bfcc-cd8ff0963962",
   "metadata": {},
   "outputs": [],
   "source": [
    "# neither is distributive \n",
    "DIST1 S1? : n connes"
   ]
  },
  {
   "cell_type": "code",
   "execution_count": null,
   "id": "f9ac89ae-c8c4-4b55-94c6-5fe2c88ce90f",
   "metadata": {},
   "outputs": [],
   "source": [
    "# both are DIST2 \n",
    "DIST2 S1? : n connes "
   ]
  },
  {
   "cell_type": "code",
   "execution_count": null,
   "id": "16827eaf-7163-467f-8e64-47e82ebf11d2",
   "metadata": {},
   "outputs": [],
   "source": [
    "DIST3 S1? : n connes "
   ]
  },
  {
   "cell_type": "code",
   "execution_count": null,
   "id": "ced18586-76f3-4f8d-98d3-f46eb3eb2111",
   "metadata": {},
   "outputs": [],
   "source": [
    "DIST3 S2? : n connes "
   ]
  },
  {
   "cell_type": "code",
   "execution_count": null,
   "id": "464c9b18-5375-4050-b1d5-c16a3fd9f7f7",
   "metadata": {},
   "outputs": [],
   "source": []
  }
 ],
 "metadata": {
  "kernelspec": {
   "display_name": "coda",
   "language": "",
   "name": "coda"
  },
  "language_info": {
   "file_extension": ".co",
   "mimetype": "text/plain",
   "name": "Any text"
  }
 },
 "nbformat": 4,
 "nbformat_minor": 5
}
