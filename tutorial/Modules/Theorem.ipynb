{
 "cells": [
  {
   "cell_type": "markdown",
   "id": "500cdddb-3e02-404f-a7e3-4f17528cf803",
   "metadata": {},
   "source": [
    "## Theorems and Properties\n",
    "\n",
    "Use of the theorem module.  Data which is never false is called a theorem. "
   ]
  },
  {
   "cell_type": "code",
   "execution_count": 1,
   "id": "08ae1e22-ee48-4461-84ab-d55ee794af3a",
   "metadata": {},
   "outputs": [
    {
     "ename": "error",
     "evalue": "[in] is already defined",
     "output_type": "error",
     "traceback": [
      "\u001b[0;31m---------------------------------------------------------------------------\u001b[0m",
      "\u001b[0;31merror\u001b[0m                                     Traceback (most recent call last)",
      "Cell \u001b[0;32mIn[1], line 1\u001b[0m\n\u001b[0;32m----> 1\u001b[0m \u001b[38;5;28;01mfrom\u001b[39;00m \u001b[38;5;21;01mbase\u001b[39;00m \u001b[38;5;28;01mimport\u001b[39;00m \u001b[38;5;241m*\u001b[39m \n\u001b[1;32m      2\u001b[0m \u001b[38;5;28;01mfrom\u001b[39;00m \u001b[38;5;21;01mSet\u001b[39;00m \u001b[38;5;28;01mimport\u001b[39;00m Set,eval100\n\u001b[1;32m      3\u001b[0m \u001b[38;5;28;01mfrom\u001b[39;00m \u001b[38;5;21;01mCompile\u001b[39;00m \u001b[38;5;28;01mimport\u001b[39;00m \u001b[38;5;28mcompile\u001b[39m \n",
      "File \u001b[0;32m~/coda/py/base.py:254\u001b[0m\n\u001b[1;32m    250\u001b[0m \u001b[38;5;28;01mdef\u001b[39;00m \u001b[38;5;21mda\u001b[39m(text): \u001b[38;5;28;01mreturn\u001b[39;00m UNICODE\u001b[38;5;241m.\u001b[39mda(text)\n\u001b[1;32m    251\u001b[0m \u001b[38;5;66;03m#\u001b[39;00m\n\u001b[1;32m    252\u001b[0m \u001b[38;5;66;03m#   Import builtin definitions from other source files\u001b[39;00m\n\u001b[1;32m    253\u001b[0m \u001b[38;5;66;03m#\u001b[39;00m\n\u001b[0;32m--> 254\u001b[0m \u001b[38;5;28;01mimport\u001b[39;00m \u001b[38;5;21;01mbuiltin\u001b[39;00m\n\u001b[1;32m    256\u001b[0m \u001b[38;5;28;01mif\u001b[39;00m \u001b[38;5;18m__name__\u001b[39m\u001b[38;5;241m==\u001b[39m\u001b[38;5;124m'\u001b[39m\u001b[38;5;124m__main__\u001b[39m\u001b[38;5;124m'\u001b[39m:\n\u001b[1;32m    257\u001b[0m     \u001b[38;5;28mprint\u001b[39m(UNICODE)\n",
      "File \u001b[0;32m~/coda/py/builtin.py:4\u001b[0m\n\u001b[1;32m      1\u001b[0m \u001b[38;5;66;03m#\u001b[39;00m\n\u001b[1;32m      2\u001b[0m \u001b[38;5;66;03m#   Import built in definitions\u001b[39;00m\n\u001b[1;32m      3\u001b[0m \u001b[38;5;66;03m#\u001b[39;00m\n\u001b[0;32m----> 4\u001b[0m \u001b[38;5;28;01mimport\u001b[39;00m \u001b[38;5;21;01mLanguage\u001b[39;00m\u001b[38;5;241m,\u001b[39m\u001b[38;5;21;01mBasic\u001b[39;00m\u001b[38;5;241m,\u001b[39m\u001b[38;5;21;01mHelp\u001b[39;00m\u001b[38;5;241m,\u001b[39m\u001b[38;5;21;01mSequence\u001b[39;00m\u001b[38;5;241m,\u001b[39m\u001b[38;5;21;01mLogic\u001b[39;00m\u001b[38;5;241m,\u001b[39m\u001b[38;5;21;01mImport\u001b[39;00m\u001b[38;5;241m,\u001b[39m \\\n\u001b[1;32m      5\u001b[0m     Define,Apply,Code,Collect,Compile,Text,Sample,IO,Variable\n",
      "File \u001b[0;32m~/coda/py/Sequence.py:191\u001b[0m\n\u001b[1;32m    189\u001b[0m \u001b[38;5;28;01mdef\u001b[39;00m \u001b[38;5;21mIn_0\u001b[39m(domain,A,B):\n\u001b[1;32m    190\u001b[0m     \u001b[38;5;28;01mif\u001b[39;00m B\u001b[38;5;241m.\u001b[39mempty(): \u001b[38;5;28;01mreturn\u001b[39;00m data()\n\u001b[0;32m--> 191\u001b[0m \u001b[43mCONTEXT\u001b[49m\u001b[38;5;241;43m.\u001b[39;49m\u001b[43mdefine\u001b[49m\u001b[43m(\u001b[49m\u001b[38;5;124;43m'\u001b[39;49m\u001b[38;5;124;43min\u001b[39;49m\u001b[38;5;124;43m'\u001b[39;49m\u001b[43m,\u001b[49m\u001b[43mIn\u001b[49m\u001b[43m,\u001b[49m\u001b[43mIn_0\u001b[49m\u001b[43m)\u001b[49m\n",
      "File \u001b[0;32m~/coda/py/base.py:124\u001b[0m, in \u001b[0;36mContext.define\u001b[0;34m(self, name, *pfs)\u001b[0m\n\u001b[0;32m--> 124\u001b[0m \u001b[38;5;28;01mdef\u001b[39;00m \u001b[38;5;21mdefine\u001b[39m(\u001b[38;5;28mself\u001b[39m,name,\u001b[38;5;241m*\u001b[39mpfs): \u001b[38;5;28;01mreturn\u001b[39;00m \u001b[38;5;28;43mself\u001b[39;49m\u001b[38;5;241;43m.\u001b[39;49m\u001b[43madd\u001b[49m\u001b[43m(\u001b[49m\u001b[43mDefinition\u001b[49m\u001b[43m(\u001b[49m\u001b[43mda\u001b[49m\u001b[43m(\u001b[49m\u001b[43mname\u001b[49m\u001b[43m)\u001b[49m\u001b[43m,\u001b[49m\u001b[38;5;241;43m*\u001b[39;49m\u001b[43mpfs\u001b[49m\u001b[43m)\u001b[49m\u001b[43m)\u001b[49m\n",
      "File \u001b[0;32m~/coda/py/base.py:126\u001b[0m, in \u001b[0;36mContext.add\u001b[0;34m(self, definition)\u001b[0m\n\u001b[1;32m    125\u001b[0m \u001b[38;5;28;01mdef\u001b[39;00m \u001b[38;5;21madd\u001b[39m(\u001b[38;5;28mself\u001b[39m,definition):\n\u001b[0;32m--> 126\u001b[0m     \u001b[38;5;28;01mif\u001b[39;00m definition\u001b[38;5;241m.\u001b[39mdomain() \u001b[38;5;129;01min\u001b[39;00m \u001b[38;5;28mself\u001b[39m\u001b[38;5;241m.\u001b[39m_definitions: \u001b[38;5;28;01mraise\u001b[39;00m error(\u001b[38;5;124m'\u001b[39m\u001b[38;5;124m[\u001b[39m\u001b[38;5;124m'\u001b[39m\u001b[38;5;241m+\u001b[39m\u001b[38;5;28mstr\u001b[39m(definition\u001b[38;5;241m.\u001b[39mdomain())\u001b[38;5;241m+\u001b[39m\u001b[38;5;124m'\u001b[39m\u001b[38;5;124m]\u001b[39m\u001b[38;5;124m'\u001b[39m\u001b[38;5;241m+\u001b[39m\u001b[38;5;124m'\u001b[39m\u001b[38;5;124m is already defined\u001b[39m\u001b[38;5;124m'\u001b[39m)\n\u001b[1;32m    127\u001b[0m     \u001b[38;5;28mself\u001b[39m\u001b[38;5;241m.\u001b[39m_definitions[definition\u001b[38;5;241m.\u001b[39mdomain()] \u001b[38;5;241m=\u001b[39m definition\n\u001b[1;32m    128\u001b[0m     \u001b[38;5;28;01mreturn\u001b[39;00m \u001b[38;5;28mself\u001b[39m\n",
      "\u001b[0;31merror\u001b[0m: [in] is already defined"
     ]
    }
   ],
   "source": [
    "from base import * \n",
    "from Set import Set,eval100\n",
    "from Compile import compile \n",
    "from Theorem import theorem \n",
    "import Sample,Evaluate\n",
    "from Log import LOG \n",
    "\n",
    "LOG.on('multi','theorem')\n",
    "\n",
    "DOMAIN = Sample.Domain(*Sample.codas)\n",
    "TINY = Set(*[data(c) for c in Sample.codas])\n",
    "S21 = Set(*DOMAIN.window(2,1))\n",
    "S31 = Set(*DOMAIN.window(3,1))\n",
    "#S22 = Set(*DOMAIN.window(2,2)) \n",
    "S12 = Set(*DOMAIN.window(1,2))\n",
    "PURE = Sample.pure(2,2)\n",
    "#S41 = Set.Set(*DOMAIN.window(4,1))\n",
    "#\n",
    "#     The evaluation depth is controlled by these \n",
    "#\n",
    "#e10   = Set.eval10\n",
    "e100  = eval100  \n",
    "#e1000 = Set.eval1000  \n",
    "#\n",
    "#    Samples of (:) \"hydrogen atoms\"\n",
    "#\n",
    "def atoms(n): return Sample.oddAtoms(n)+Sample.evenAtoms(n)\n",
    "def ev(sub): return sub.multieval(e100)"
   ]
  },
  {
   "cell_type": "markdown",
   "id": "e0a99f9e-5a25-4cc3-94d3-94529fe72ddd",
   "metadata": {},
   "source": [
    "## First, let's practice using theorem "
   ]
  },
  {
   "cell_type": "code",
   "execution_count": null,
   "id": "9e99f7c9-ab83-4731-8b19-209b87ca2116",
   "metadata": {},
   "outputs": [],
   "source": [
    "T = compile('(rev:rev:X?) = X?')"
   ]
  },
  {
   "cell_type": "code",
   "execution_count": null,
   "id": "689cc4e9-6656-4425-9627-0f702df52987",
   "metadata": {},
   "outputs": [],
   "source": [
    "print(T)"
   ]
  },
  {
   "cell_type": "markdown",
   "id": "5c558ee8-7990-4052-94f9-a4f680152d1f",
   "metadata": {},
   "source": [
    "The function theorem(T,Sample) "
   ]
  },
  {
   "cell_type": "code",
   "execution_count": null,
   "id": "ff4095b8-a7c6-4e4b-8f72-e31f9b847e70",
   "metadata": {},
   "outputs": [],
   "source": [
    "result0 = theorem(data(),TINY)"
   ]
  },
  {
   "cell_type": "code",
   "execution_count": null,
   "id": "385b7739-00a6-482f-8463-798a88af91d8",
   "metadata": {},
   "outputs": [],
   "source": [
    "len(result0)"
   ]
  },
  {
   "cell_type": "code",
   "execution_count": null,
   "id": "623353ae-4627-4a06-a8af-24692f47d14c",
   "metadata": {},
   "outputs": [],
   "source": [
    "result = theorem(T,TINY)"
   ]
  },
  {
   "cell_type": "code",
   "execution_count": null,
   "id": "f5184dc2-ef19-4aef-869a-dd617237b18d",
   "metadata": {},
   "outputs": [],
   "source": [
    "print(Evaluate.default(result))"
   ]
  },
  {
   "cell_type": "code",
   "execution_count": null,
   "id": "dcbd7fb3-b1dd-4218-bce8-5fed92ca5aca",
   "metadata": {},
   "outputs": [],
   "source": [
    "T2 = compile('X?=Y?')\n",
    "print(T2)"
   ]
  },
  {
   "cell_type": "code",
   "execution_count": null,
   "id": "46c56a5c-2d73-4b2b-9c3c-3034c82b22cf",
   "metadata": {},
   "outputs": [],
   "source": [
    "result2 = theorem(T2,TINY)"
   ]
  },
  {
   "cell_type": "code",
   "execution_count": null,
   "id": "8d4fee7c-d491-487a-9d2f-a2ba9ac48b09",
   "metadata": {},
   "outputs": [],
   "source": [
    "r2 = result2.eval()"
   ]
  },
  {
   "cell_type": "code",
   "execution_count": null,
   "id": "03860055-b175-4502-841e-509322d7bed7",
   "metadata": {},
   "outputs": [],
   "source": [
    "sub = Set(T,T2).theorem(TINY).multieval(e100)"
   ]
  },
  {
   "cell_type": "code",
   "execution_count": null,
   "id": "abd76fea-e5d7-410e-8e43-46c8d7fc352c",
   "metadata": {
    "tags": []
   },
   "outputs": [],
   "source": [
    "for key,value in sub._map.items(): \n",
    "    print(key)\n",
    "    print(value)"
   ]
  },
  {
   "cell_type": "code",
   "execution_count": null,
   "id": "1ce8a8f9-1ec5-4ffa-acca-351007cc73db",
   "metadata": {},
   "outputs": [],
   "source": [
    "Set(T,T2).theorem(atoms(10)).multieval(e100).empty()"
   ]
  },
  {
   "cell_type": "code",
   "execution_count": null,
   "id": "2d017fd3-b4b9-4963-b193-6da509e9fcea",
   "metadata": {},
   "outputs": [],
   "source": [
    "for s in Set(T,T2).theorem(atoms(10)).multieval(e100).empty(): print(s)"
   ]
  },
  {
   "cell_type": "code",
   "execution_count": null,
   "id": "34455963-43e9-4422-bc5d-494b68be0e22",
   "metadata": {
    "tags": []
   },
   "outputs": [],
   "source": [
    "TINY.theorem(atoms(10)).multieval(e100).empty()"
   ]
  },
  {
   "cell_type": "markdown",
   "id": "17c251c7-1736-4192-8ace-aa6de452ddd3",
   "metadata": {
    "tags": []
   },
   "source": [
    "## The property method of Set searches for data satisfying a given theorem"
   ]
  },
  {
   "cell_type": "code",
   "execution_count": null,
   "id": "4ac6d228-67d9-4a79-b06d-8109f463ef0f",
   "metadata": {},
   "outputs": [],
   "source": [
    "P = compile('{tail 4:B}')"
   ]
  },
  {
   "cell_type": "code",
   "execution_count": null,
   "id": "255e899e-aa1e-40c1-af3d-f3568ded7239",
   "metadata": {},
   "outputs": [],
   "source": [
    "sub = atoms(10).property(P,atoms(20)).multieval(e100)"
   ]
  },
  {
   "cell_type": "code",
   "execution_count": null,
   "id": "6e527fa6-68fa-4807-9002-1dc01028da32",
   "metadata": {
    "tags": []
   },
   "outputs": [],
   "source": [
    "for s in sub.empty(): print(len(s),s)"
   ]
  },
  {
   "cell_type": "code",
   "execution_count": null,
   "id": "bfeaa588-728c-4127-964e-a6998d2412d5",
   "metadata": {
    "tags": []
   },
   "outputs": [],
   "source": [
    "for d in atoms(10): print(len(d),Evaluate.default(data(P|d)))"
   ]
  },
  {
   "cell_type": "code",
   "execution_count": null,
   "id": "ae8cc3df-f29b-4ce1-915b-4b2f74af6d74",
   "metadata": {},
   "outputs": [],
   "source": [
    "len(S21)"
   ]
  },
  {
   "cell_type": "code",
   "execution_count": null,
   "id": "00313905-a7d4-434b-9667-318c5d8a5cf3",
   "metadata": {},
   "outputs": [],
   "source": [
    "from Variable import variables\n",
    "for v in variables(compile('X?')): print(v)\n",
    "print(len(variables(compile('X?'))))"
   ]
  },
  {
   "cell_type": "code",
   "execution_count": null,
   "id": "cdff7f34-ca96-4fda-9aa3-d8d7455b7a0c",
   "metadata": {
    "tags": []
   },
   "outputs": [],
   "source": [
    "for s in S31.sample(20):\n",
    "    if len(variables(s))>0: print(s)"
   ]
  },
  {
   "cell_type": "code",
   "execution_count": null,
   "id": "719d299d-1889-4a86-ad4f-f0d894da1ac4",
   "metadata": {},
   "outputs": [],
   "source": []
  }
 ],
 "metadata": {
  "kernelspec": {
   "display_name": "Python 3 (ipykernel)",
   "language": "python",
   "name": "python3"
  },
  "language_info": {
   "codemirror_mode": {
    "name": "ipython",
    "version": 3
   },
   "file_extension": ".py",
   "mimetype": "text/x-python",
   "name": "python",
   "nbconvert_exporter": "python",
   "pygments_lexer": "ipython3",
   "version": "3.10.7"
  }
 },
 "nbformat": 4,
 "nbformat_minor": 5
}
