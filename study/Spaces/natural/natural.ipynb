{
 "cells": [
  {
   "cell_type": "markdown",
   "id": "a487c04e-dac2-4ca6-8a1b-4d4047adc0d7",
   "metadata": {},
   "source": [
    "## natural numbers \n",
    "\n",
    "As part of the exploration of natural numbers, we want the naturals to emerge \"organically\" from pure data.  This does happen because any data where one replaces each atom with some fixed atom (say | \"a stick\"), the data essentially represents one natural number.  Then **stick**, defined as \n",
    "\n",
    "* def stick : ap const | \n",
    "\n",
    "is the space of natural numbers where the space property \n",
    "\n",
    "* stick : (stick : | | | ) (stick : | | )\n",
    "\n",
    "is equal to | | | | | (\"5\"), the natural number sum.  We want to treat the space **stick** analogously to **bool** to show common analyses that can be applied to all spaces. \n",
    "\n",
    "1. What are the basic properties of **stick**?\n",
    "2. What are the endomorphisms of **stick**?\n",
    "3. What are the endomorphisms of sequences of natural numbers, each represented by a sequence of sticks (**Seq n:stick**)?\n",
    "\n"
   ]
  },
  {
   "cell_type": "code",
   "execution_count": 1,
   "id": "c31e2340-e63f-4a4a-9985-97c10417f8db",
   "metadata": {},
   "outputs": [
    {
     "name": "stdout",
     "output_type": "stream",
     "text": [
      "(defaultTime:100)"
     ]
    }
   ],
   "source": [
    "defaultTime:100 \n",
    "import : dir co : up : ."
   ]
  },
  {
   "cell_type": "code",
   "execution_count": 2,
   "id": "a79a02be-7d3c-40e3-b025-c29ed550b64b",
   "metadata": {},
   "outputs": [
    {
     "name": "stdout",
     "output_type": "stream",
     "text": []
    }
   ],
   "source": [
    "Def stick : ap const |"
   ]
  },
  {
   "cell_type": "markdown",
   "id": "cb9ffb4e-fedd-45bf-97f3-4a957e2fb71a",
   "metadata": {},
   "source": [
    "### 1. What are the basic properties of stick?"
   ]
  },
  {
   "cell_type": "code",
   "execution_count": 3,
   "id": "c183d07f-88b8-4eb0-bfac-b19efe6af664",
   "metadata": {},
   "outputs": [
    {
     "name": "stdout",
     "output_type": "stream",
     "text": [
      "| | | |\n",
      "| | | |\n",
      "| | | |"
     ]
    }
   ],
   "source": [
    "#\n",
    "#   stick is a distributive commutative space.  The data in stick are \n",
    "#   sequences of |s, thus representing natural numbers. \n",
    "#\n",
    "stick : a b c d \n",
    "stick : stick : a b c d \n",
    "stick : (stick : a b) (stick:c d)"
   ]
  },
  {
   "cell_type": "markdown",
   "id": "5e3cff2c-82b9-4df4-9aca-ae4b13140774",
   "metadata": {},
   "source": [
    "### Summary\n",
    "\n",
    "**stick** is a distributive commutative space where the elements of the \n",
    "space represent the natural numbers. "
   ]
  },
  {
   "cell_type": "markdown",
   "id": "27720655-fff0-4ef9-a5e7-2f7208636cf4",
   "metadata": {},
   "source": [
    "### 2. What are the endomorphisms of stick?"
   ]
  },
  {
   "cell_type": "code",
   "execution_count": 4,
   "id": "1c845454-df64-4568-82a4-bd9857193209",
   "metadata": {},
   "outputs": [
    {
     "name": "stdout",
     "output_type": "stream",
     "text": []
    }
   ],
   "source": [
    "Def end : {End stick:B}"
   ]
  },
  {
   "cell_type": "code",
   "execution_count": 5,
   "id": "2540c8f5-62e1-4376-8460-fb4b088741a3",
   "metadata": {},
   "outputs": [
    {
     "name": "stdout",
     "output_type": "stream",
     "text": [
      "| | | | | |"
     ]
    }
   ],
   "source": [
    "(end:{B B}) : | | | "
   ]
  },
  {
   "cell_type": "code",
   "execution_count": 6,
   "id": "3ac9d7e4-85fa-485e-988a-0f70534ecf56",
   "metadata": {},
   "outputs": [
    {
     "name": "stdout",
     "output_type": "stream",
     "text": [
      "| |\n",
      "| |\n",
      "|"
     ]
    }
   ],
   "source": [
    "(end:front | |) : | | | | | | \n",
    "(end:front | |) : | | \n",
    "(end:front | |) : | \n",
    "(end:front | |) : "
   ]
  },
  {
   "cell_type": "code",
   "execution_count": 7,
   "id": "c938a9c7-0ad6-4272-b8e2-11aa56f268de",
   "metadata": {},
   "outputs": [
    {
     "name": "stdout",
     "output_type": "stream",
     "text": [
      "|"
     ]
    }
   ],
   "source": [
    "while frontstrip | | : | | | "
   ]
  },
  {
   "cell_type": "code",
   "execution_count": 10,
   "id": "e2022b5f-3d0a-4d26-b730-6223db679f2a",
   "metadata": {},
   "outputs": [
    {
     "name": "stdout",
     "output_type": "stream",
     "text": [
      "(ap const |:(some (if (equal:(frontstrip | |:(frontstrip | |:))):(frontstrip | |:({A : B} frontstrip | |:({A : B} frontstrip | |:({A : B} frontstrip | |:({A : B} frontstrip | |:({A : B} frontstrip | |:({A : B} frontstrip | |:({A : B} frontstrip | |:({A : B} frontstrip | |:({A : B} frontstrip | |:({A : B} frontstrip | |:({A : B} frontstrip | |:({A : B} frontstrip | |:({A : B} frontstrip | |:({A : B} frontstrip | |:({A : B} frontstrip | |:({A : B} frontstrip | |:({A : B} frontstrip | |:({A : B} frontstrip | |:({A : B} frontstrip | |:({A : B} frontstrip | |:({A : B} frontstrip | |:({A : B} frontstrip | |:({A : B} frontstrip | |:({A : B} frontstrip | |:({A : B} frontstrip | |:(prod (:stick):| | | |)))))))))))))))))))))))))))):({some (if ((A:B)=B):B) : while A : A : B} frontstrip | |:({A : B} frontstrip | |:({A : B} frontstrip | |:({A : B} frontstrip | |:({A : B} frontstrip | |:({A : B} frontstrip | |:({A : B} frontstrip | |:({A : B} frontstrip | |:({A : B} frontstrip | |:({A : B} frontstrip | |:({A : B} frontstrip | |:({A : B} frontstrip | |:({A : B} frontstrip | |:({A : B} frontstrip | |:({A : B} frontstrip | |:({A : B} frontstrip | |:({A : B} frontstrip | |:({A : B} frontstrip | |:({A : B} frontstrip | |:({A : B} frontstrip | |:({A : B} frontstrip | |:({A : B} frontstrip | |:({A : B} frontstrip | |:({A : B} frontstrip | |:({A : B} frontstrip | |:({A : B} frontstrip | |:({A : B} frontstrip | |:({A : B} frontstrip | |:(prod (:stick):| | | |)))))))))))))))))))))))))))))))"
     ]
    }
   ],
   "source": [
    "(end:while frontstrip | |) : | | | | "
   ]
  },
  {
   "cell_type": "code",
   "execution_count": 9,
   "id": "c7a5ca55-c87c-4613-95a3-78d4c7ca46bd",
   "metadata": {},
   "outputs": [
    {
     "name": "stdout",
     "output_type": "stream",
     "text": [
      "atoms back backstrip by common count dup ends first front frontstrip grp head last less more nth nth1 once post pre rep rev skip starts swap tail width"
     ]
    }
   ],
   "source": [
    "defs : Sequence"
   ]
  },
  {
   "cell_type": "code",
   "execution_count": null,
   "id": "0cd50d0a-3274-4c1c-babe-e8c889a093b0",
   "metadata": {},
   "outputs": [],
   "source": []
  }
 ],
 "metadata": {
  "kernelspec": {
   "display_name": "coda",
   "language": "",
   "name": "coda"
  },
  "language_info": {
   "file_extension": ".co",
   "mimetype": "text/plain",
   "name": "Any text"
  }
 },
 "nbformat": 4,
 "nbformat_minor": 5
}
