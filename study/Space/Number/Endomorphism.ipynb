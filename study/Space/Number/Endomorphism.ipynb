{
 "cells": [
  {
   "cell_type": "markdown",
   "id": "46cd44b2-1e9d-4bfa-8869-6b49721d6060",
   "metadata": {},
   "source": [
    "## Endmorphism of n.sum \n",
    "\n",
    "Let's find some endomorphisms of natural number spaces, trying n.sum first, as an illustration of how this is done."
   ]
  },
  {
   "cell_type": "code",
   "execution_count": 1,
   "id": "573c747f-63a2-455a-96bc-da8255dfd875",
   "metadata": {},
   "outputs": [
    {
     "name": "stdout",
     "output_type": "stream",
     "text": []
    }
   ],
   "source": [
    "#\n",
    "#   Import common stuff including algebraic definitions and some generic data samples \n",
    "#\n",
    "import : dir co : up : ."
   ]
  },
  {
   "cell_type": "code",
   "execution_count": 2,
   "id": "bda42c60-f88f-4c55-b9eb-1ca1c9a70dcb",
   "metadata": {},
   "outputs": [
    {
     "name": "stdout",
     "output_type": "stream",
     "text": []
    }
   ],
   "source": [
    "Let Dom1 : (:(n:1)) (:(n:1) (n:2)) (:(n:1) (n:3) (n:45)) "
   ]
  },
  {
   "cell_type": "code",
   "execution_count": 3,
   "id": "328e7512-596e-4a1c-970d-37a1873dc92c",
   "metadata": {},
   "outputs": [
    {
     "name": "stdout",
     "output_type": "stream",
     "text": []
    }
   ],
   "source": [
    "Def endomorphism : {(A:n.sum:B)=(n.sum:A:B)} "
   ]
  },
  {
   "cell_type": "code",
   "execution_count": 4,
   "id": "b6408095-9c65-414d-b89f-e47411c377db",
   "metadata": {},
   "outputs": [
    {
     "name": "stdout",
     "output_type": "stream",
     "text": []
    }
   ],
   "source": [
    "#   Demo\n",
    "#\n",
    "#   F is an endomorphism of n.sum \n",
    "#   G is not an endomorphism \n",
    "#\n",
    "Def F : ap {put n:int_prod:2 B} * get n \n",
    "Def G : {B B}"
   ]
  },
  {
   "cell_type": "code",
   "execution_count": 5,
   "id": "1236d523-dd75-48ff-b777-0140c2a1fbfd",
   "metadata": {},
   "outputs": [
    {
     "name": "stdout",
     "output_type": "stream",
     "text": [
      "(n:6)\n",
      "(n:6)\n",
      "(n:3) (n:3)\n",
      "(n:6)"
     ]
    }
   ],
   "source": [
    "F : n.sum : (n:1) (n:2) \n",
    "n.sum : F : (n:1) (n:2)\n",
    "G : n.sum : (n:1) (n:2)\n",
    "n.sum : G : (n:1) (n:2)"
   ]
  },
  {
   "cell_type": "code",
   "execution_count": 6,
   "id": "19495302-09c0-434e-9c96-fec0cc0f8315",
   "metadata": {},
   "outputs": [
    {
     "name": "stdout",
     "output_type": "stream",
     "text": [
      "0\n",
      "3"
     ]
    }
   ],
   "source": [
    "count : endomorphism F : (n:1) (n:2)\n",
    "count : endomorphism G : (n:1) (n:2)"
   ]
  },
  {
   "cell_type": "code",
   "execution_count": 7,
   "id": "bdfc2361-4a79-4b58-bf44-85809fc13148",
   "metadata": {},
   "outputs": [
    {
     "name": "stdout",
     "output_type": "stream",
     "text": [
      "0\n",
      "1"
     ]
    }
   ],
   "source": [
    "count : theorem (endomorphism F:x?) : (:(n:1) (n:2))\n",
    "count : theorem (endomorphism G:x?) : (:(n:1) (n:2))"
   ]
  },
  {
   "cell_type": "code",
   "execution_count": 8,
   "id": "edad2295-ee42-4429-8bde-d424378277bf",
   "metadata": {},
   "outputs": [
    {
     "name": "stdout",
     "output_type": "stream",
     "text": [
      "0\n",
      "3"
     ]
    }
   ],
   "source": [
    "count : theorem (endomorphism F:x?) : Dom1?\n",
    "count : theorem (endomorphism G:x?) : Dom1?"
   ]
  },
  {
   "cell_type": "code",
   "execution_count": 9,
   "id": "e7389f27-9cbf-4e20-887f-915294dd96e7",
   "metadata": {},
   "outputs": [
    {
     "name": "stdout",
     "output_type": "stream",
     "text": [
      "0\n",
      "3"
     ]
    }
   ],
   "source": [
    "count : ap {endomorphism F:B} : Dom1?\n",
    "count : ap {endomorphism G:B} : Dom1?"
   ]
  },
  {
   "cell_type": "code",
   "execution_count": 10,
   "id": "00425fb0-1ab5-43e8-843e-0da8bb4affa2",
   "metadata": {},
   "outputs": [
    {
     "name": "stdout",
     "output_type": "stream",
     "text": []
    }
   ],
   "source": [
    "ap {endomorphism A:get:B} F : Dom1?"
   ]
  },
  {
   "cell_type": "code",
   "execution_count": 11,
   "id": "9bd53344-2bfe-414c-b461-280d0f0d0e19",
   "metadata": {},
   "outputs": [
    {
     "name": "stdout",
     "output_type": "stream",
     "text": []
    }
   ],
   "source": [
    "Def test : {ap {endomorphism A:get:B} A : B}"
   ]
  },
  {
   "cell_type": "code",
   "execution_count": 12,
   "id": "52571cc3-3b1a-4f1a-af81-ddc83993283e",
   "metadata": {},
   "outputs": [
    {
     "name": "stdout",
     "output_type": "stream",
     "text": [
      "0\n",
      "11"
     ]
    }
   ],
   "source": [
    "count : test F : Dom1?\n",
    "count : test G : Dom1?"
   ]
  },
  {
   "cell_type": "code",
   "execution_count": 13,
   "id": "faffa7a8-fecc-4400-88c0-27f6dad18e4e",
   "metadata": {},
   "outputs": [
    {
     "name": "stdout",
     "output_type": "stream",
     "text": [
      "(bin F:0) (bin G:11)"
     ]
    }
   ],
   "source": [
    "ap {bin (get:B) : count : test (get:B) :Dom1?} : (:F) (:G)"
   ]
  },
  {
   "cell_type": "code",
   "execution_count": 14,
   "id": "a8afe604-2d1a-47a9-ba5b-97a4d1894fc4",
   "metadata": {},
   "outputs": [
    {
     "name": "stdout",
     "output_type": "stream",
     "text": [
      "(bin F:0) (bin G:11)"
     ]
    }
   ],
   "source": [
    "ap {bin (get:B) : count : test (get:B) : A} Dom1? : (:F) (:G)"
   ]
  },
  {
   "cell_type": "code",
   "execution_count": 15,
   "id": "55540413-f9a9-48ca-9c8e-57a6cb173eb4",
   "metadata": {},
   "outputs": [
    {
     "name": "stdout",
     "output_type": "stream",
     "text": []
    }
   ],
   "source": [
    "Def Test : {ap {bin (get:B) : count : test (get:B) : A} A : B} "
   ]
  },
  {
   "cell_type": "code",
   "execution_count": 16,
   "id": "afc1e285-7127-471a-b075-cde1a7cbd2ff",
   "metadata": {},
   "outputs": [
    {
     "name": "stdout",
     "output_type": "stream",
     "text": [
      "(bin F:0) (bin G:11)"
     ]
    }
   ],
   "source": [
    "Test Dom1? : (:F) (:G)"
   ]
  },
  {
   "cell_type": "code",
   "execution_count": 17,
   "id": "547491b4-d613-425e-996a-c3b7f53013a6",
   "metadata": {},
   "outputs": [
    {
     "name": "stdout",
     "output_type": "stream",
     "text": [
      "(bin F:0) (bin G:11)"
     ]
    }
   ],
   "source": [
    "Test Dom1? : (:F) (:G) "
   ]
  },
  {
   "cell_type": "code",
   "execution_count": 18,
   "id": "ecd89211-5637-4c8c-bd07-d84e1431ca1c",
   "metadata": {},
   "outputs": [
    {
     "name": "stdout",
     "output_type": "stream",
     "text": [
      "(ap {put n:int_prod:2 B}:(get n:(x:)))"
     ]
    }
   ],
   "source": [
    "F:x?"
   ]
  },
  {
   "cell_type": "code",
   "execution_count": 19,
   "id": "7883d67b-6322-4ea3-bd7a-fd5e41be68a9",
   "metadata": {},
   "outputs": [
    {
     "name": "stdout",
     "output_type": "stream",
     "text": []
    }
   ],
   "source": [
    "Let Results : Test Dom1? : first 200 : S4? (:F) (:G) "
   ]
  },
  {
   "cell_type": "code",
   "execution_count": 20,
   "id": "100efca4-5035-4108-8eb0-3cab59eb859b",
   "metadata": {},
   "outputs": [
    {
     "name": "stdout",
     "output_type": "stream",
     "text": [
      "(bin b {B : if}:(count:(equal (b {B : if}:(n:1)):(n:(int_sum:0 (get n:(b {B : if}:(n:1)))))) (equal (b {B : if}:(n:3)):(n:(int_sum:0 (get n:(b {B : if}:(n:1) (n:2)))))) (equal (b {B : if}:(n:49)):(n:(int_sum:0 (get n:(b {B : if}:(n:1) (n:3) (n:45))))))))"
     ]
    }
   ],
   "source": [
    "nth 1 : Results? "
   ]
  },
  {
   "cell_type": "code",
   "execution_count": 21,
   "id": "26e102b5-c7fd-4b9e-9e0a-3df3a6c44c88",
   "metadata": {},
   "outputs": [
    {
     "name": "stdout",
     "output_type": "stream",
     "text": [
      "(bin 1 {B has}:(count:(equal (1 {B has}:(n:1)):(n:(int_sum:0 (get n:(1 {B has}:(n:1)))))) (equal (1 {B has}:(n:3)):(n:(int_sum:0 (get n:(1 {B has}:(n:1) (n:2)))))) (equal (1 {B has}:(n:49)):(n:(int_sum:0 (get n:(1 {B has}:(n:1) (n:3) (n:45))))))))"
     ]
    }
   ],
   "source": [
    "nth 2 : Results? "
   ]
  },
  {
   "cell_type": "code",
   "execution_count": 22,
   "id": "2df7896d-5c72-44cb-81a7-52d0d410144d",
   "metadata": {},
   "outputs": [
    {
     "name": "stdout",
     "output_type": "stream",
     "text": [
      "(bin {B prod} A:104)"
     ]
    }
   ],
   "source": [
    "nth 10 : Results? "
   ]
  },
  {
   "cell_type": "code",
   "execution_count": 23,
   "id": "e49e9628-f764-424c-af6b-778149c280af",
   "metadata": {},
   "outputs": [
    {
     "name": "stdout",
     "output_type": "stream",
     "text": [
      "(bin {B arg} 1:101)"
     ]
    }
   ],
   "source": [
    "nth 20 : Results? "
   ]
  },
  {
   "cell_type": "code",
   "execution_count": 24,
   "id": "481ae0e5-519a-4315-b381-5d2915f5ce12",
   "metadata": {},
   "outputs": [
    {
     "name": "stdout",
     "output_type": "stream",
     "text": [
      "(bin {domain : B} co:84)"
     ]
    }
   ],
   "source": [
    "nth 19 : Results?"
   ]
  },
  {
   "cell_type": "code",
   "execution_count": 25,
   "id": "d7540d61-15c2-437a-8192-46debe292963",
   "metadata": {},
   "outputs": [
    {
     "name": "stdout",
     "output_type": "stream",
     "text": [
      "(bin get {B : hasnt}:3)"
     ]
    }
   ],
   "source": [
    "nth 3 : Results?"
   ]
  },
  {
   "cell_type": "code",
   "execution_count": 26,
   "id": "c18720dd-d2e3-43bc-aaa9-659f8485d2a0",
   "metadata": {},
   "outputs": [
    {
     "name": "stdout",
     "output_type": "stream",
     "text": [
      "(bin {get B} nif:101)"
     ]
    }
   ],
   "source": [
    "nth 4 : Results?"
   ]
  },
  {
   "cell_type": "code",
   "execution_count": 27,
   "id": "db86499e-596e-4c0f-85fc-74cf2aa11a57",
   "metadata": {},
   "outputs": [
    {
     "name": "stdout",
     "output_type": "stream",
     "text": [
      "(bin b b:(count:(equal (b b:(n:1)):(n:(int_sum:0 (get n:(b b:(n:1)))))) (equal (b b:(n:3)):(n:(int_sum:0 (get n:(b b:(n:1) (n:2)))))) (equal (b b:(n:49)):(n:(int_sum:0 (get n:(b b:(n:1) (n:3) (n:45))))))))"
     ]
    }
   ],
   "source": [
    "nth 5 : Results?"
   ]
  },
  {
   "cell_type": "code",
   "execution_count": 28,
   "id": "7c7c2ba7-4b48-406a-bd88-59f9a1643d53",
   "metadata": {},
   "outputs": [
    {
     "name": "stdout",
     "output_type": "stream",
     "text": [
      "(bin nif {get B}:0)"
     ]
    }
   ],
   "source": [
    "nth 6 : Results?"
   ]
  },
  {
   "cell_type": "code",
   "execution_count": 29,
   "id": "9c39497e-452d-4dcf-9e9a-4e9628407254",
   "metadata": {},
   "outputs": [
    {
     "name": "stdout",
     "output_type": "stream",
     "text": [
      "(bin co {domain B}:111)"
     ]
    }
   ],
   "source": [
    "nth 7 : Results? "
   ]
  },
  {
   "cell_type": "code",
   "execution_count": 30,
   "id": "3015758a-77c8-4c9e-ac20-edcb2f242a41",
   "metadata": {},
   "outputs": [
    {
     "name": "stdout",
     "output_type": "stream",
     "text": [
      "(bin {B left} sum:104)"
     ]
    }
   ],
   "source": [
    "nth 8 : Results?"
   ]
  },
  {
   "cell_type": "code",
   "execution_count": 31,
   "id": "e0060a7e-a3cc-4095-93b1-b446d625ca59",
   "metadata": {},
   "outputs": [
    {
     "name": "stdout",
     "output_type": "stream",
     "text": [
      "(bin {isnt B} co:104)"
     ]
    }
   ],
   "source": [
    "nth 9 : Results?"
   ]
  },
  {
   "cell_type": "code",
   "execution_count": 32,
   "id": "f30b4c17-8d0b-4f0f-bd00-e79c071ac6a7",
   "metadata": {},
   "outputs": [
    {
     "name": "stdout",
     "output_type": "stream",
     "text": [
      "(bin left {B 1}:84)"
     ]
    }
   ],
   "source": [
    "nth 11 : Results?"
   ]
  },
  {
   "cell_type": "code",
   "execution_count": 33,
   "id": "a5c53c97-fd62-4236-b255-846a741b2e0b",
   "metadata": {},
   "outputs": [
    {
     "name": "stdout",
     "output_type": "stream",
     "text": [
      "(bin put {B : arg}:(count:(equal ((n:1):arg):(n:(int_sum:0 (get n:((n:1):arg))))) (equal ((n:3):arg):(n:(int_sum:0 (get n:((n:1) (n:2):arg))))) (equal ((n:49):arg):(n:(int_sum:0 (get n:((n:1) (n:3) (n:45):arg)))))))"
     ]
    }
   ],
   "source": [
    "nth 12 : Results?"
   ]
  },
  {
   "cell_type": "code",
   "execution_count": 34,
   "id": "32e31153-957e-4a79-adf3-5c8742f12ea6",
   "metadata": {},
   "outputs": [
    {
     "name": "stdout",
     "output_type": "stream",
     "text": [
      "(bin {B : left} nif:(count:(equal ((n:1):left):(n:(int_sum:0 (get n:((n:1):left))))) (equal ((n:3):left):(n:(int_sum:0 (get n:((n:1) (n:2):left))))) (equal ((n:49):left):(n:(int_sum:0 (get n:((n:1) (n:3) (n:45):left)))))))"
     ]
    }
   ],
   "source": [
    "nth 13 : Results? "
   ]
  },
  {
   "cell_type": "code",
   "execution_count": 35,
   "id": "64efb9cb-d84b-44cf-834f-116f7c47bf8e",
   "metadata": {},
   "outputs": [
    {
     "name": "stdout",
     "output_type": "stream",
     "text": [
      "(bin a {B : a}:(count:(equal (a {B : a}:(n:1)):(n:(int_sum:0 (get n:(a {B : a}:(n:1)))))) (equal (a {B : a}:(n:3)):(n:(int_sum:0 (get n:(a {B : a}:(n:1) (n:2)))))) (equal (a {B : a}:(n:49)):(n:(int_sum:0 (get n:(a {B : a}:(n:1) (n:3) (n:45))))))))"
     ]
    }
   ],
   "source": [
    "nth 14 : Results?"
   ]
  },
  {
   "cell_type": "code",
   "execution_count": 36,
   "id": "7062e5ef-d009-4af8-935e-2c34231298e8",
   "metadata": {},
   "outputs": [
    {
     "name": "stdout",
     "output_type": "stream",
     "text": [
      "(bin {B has} right:101)"
     ]
    }
   ],
   "source": [
    "nth 15 : Results?"
   ]
  },
  {
   "cell_type": "code",
   "execution_count": 37,
   "id": "52e82f9a-68a7-47d4-8094-a589bede2ac3",
   "metadata": {},
   "outputs": [
    {
     "name": "stdout",
     "output_type": "stream",
     "text": [
      "(bin A {B 0}:(count:(equal (A {B 0}:(n:1)):(n:(int_sum:0 (get n:(A {B 0}:(n:1)))))) (equal (A {B 0}:(n:3)):(n:(int_sum:0 (get n:(A {B 0}:(n:1) (n:2)))))) (equal (A {B 0}:(n:49)):(n:(int_sum:0 (get n:(A {B 0}:(n:1) (n:3) (n:45))))))))"
     ]
    }
   ],
   "source": [
    "nth 16 : Results? "
   ]
  },
  {
   "cell_type": "code",
   "execution_count": 38,
   "id": "2d4d16bf-7f9a-4121-ade1-269f3c91e27f",
   "metadata": {},
   "outputs": [
    {
     "name": "stdout",
     "output_type": "stream",
     "text": [
      "(bin is null:3)"
     ]
    }
   ],
   "source": [
    "nth 17 : Results?"
   ]
  },
  {
   "cell_type": "code",
   "execution_count": null,
   "id": "855b030b-2f91-4e93-80aa-f2d5afa36dc0",
   "metadata": {},
   "outputs": [],
   "source": []
  }
 ],
 "metadata": {
  "kernelspec": {
   "display_name": "coda",
   "language": "",
   "name": "coda"
  },
  "language_info": {
   "file_extension": ".co",
   "mimetype": "text/plain",
   "name": "Any text"
  }
 },
 "nbformat": 4,
 "nbformat_minor": 5
}
