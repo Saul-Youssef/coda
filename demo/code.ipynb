{
 "cells": [
  {
   "cell_type": "markdown",
   "id": "c97d7547-d62d-419b-899f-4c25b1728edb",
   "metadata": {},
   "source": [
    "The Code module contains a mapping from unicode to pure data"
   ]
  },
  {
   "cell_type": "code",
   "execution_count": 1,
   "id": "49b96420-fca7-4473-b00e-ee190b291d59",
   "metadata": {
    "tags": []
   },
   "outputs": [],
   "source": [
    "from base import * \n",
    "import string\n",
    "import Code"
   ]
  },
  {
   "cell_type": "code",
   "execution_count": 2,
   "id": "11f2f92d-d6f6-494c-b598-d8f2fcaef196",
   "metadata": {},
   "outputs": [
    {
     "data": {
      "text/plain": [
       "'0123456789abcdefghijklmnopqrstuvwxyzABCDEFGHIJKLMNOPQRSTUVWXYZ!\"#$%&\\'()*+,-./:;<=>?@[\\\\]^_`{|}~ \\t\\n\\r\\x0b\\x0c'"
      ]
     },
     "execution_count": 2,
     "metadata": {},
     "output_type": "execute_result"
    }
   ],
   "source": [
    "string.printable"
   ]
  },
  {
   "cell_type": "code",
   "execution_count": 3,
   "id": "f3a04d76-928c-49bf-afcb-7e6e4a604b8d",
   "metadata": {},
   "outputs": [
    {
     "data": {
      "text/plain": [
       "'0b1100001'"
      ]
     },
     "execution_count": 3,
     "metadata": {},
     "output_type": "execute_result"
    }
   ],
   "source": [
    "bin(ord('a'))"
   ]
  },
  {
   "cell_type": "code",
   "execution_count": 4,
   "id": "5aea502c-6098-43a4-ad01-553f6dffa75c",
   "metadata": {},
   "outputs": [
    {
     "data": {
      "text/plain": [
       "(:(:)(:(:))(:(:))(:)(:)(:)(:)(:(:)))"
      ]
     },
     "execution_count": 4,
     "metadata": {},
     "output_type": "execute_result"
    }
   ],
   "source": [
    "Code.byte('a')"
   ]
  },
  {
   "cell_type": "code",
   "execution_count": 5,
   "id": "6cebbaf4-52ef-40f2-97ba-8ede678738ee",
   "metadata": {},
   "outputs": [
    {
     "name": "stdout",
     "output_type": "stream",
     "text": [
      "a a Ω 𝟭𝟭𝟭𝟬𝟭𝟬𝟭𝟬𝟬𝟭\n"
     ]
    }
   ],
   "source": [
    "#\n",
    "#   print unicode string a and pure data a \n",
    "#\n",
    "print('a',Code.byte('a'),'\\u03A9',Code.byte('\\u03A9'))"
   ]
  },
  {
   "cell_type": "code",
   "execution_count": 6,
   "id": "b976cefa-f3fd-4e7c-a709-a7c15d7f05d1",
   "metadata": {
    "tags": []
   },
   "outputs": [
    {
     "name": "stdout",
     "output_type": "stream",
     "text": [
      "𝟬 𝟬\n",
      "𝟭 𝟭\n",
      "0 0\n",
      "1 1\n",
      "2 2\n",
      "3 3\n",
      "4 4\n",
      "5 5\n",
      "6 6\n",
      "7 7\n",
      "8 8\n",
      "9 9\n",
      "a a\n",
      "b b\n",
      "c c\n",
      "d d\n",
      "e e\n",
      "f f\n",
      "g g\n",
      "h h\n",
      "i i\n",
      "j j\n",
      "k k\n",
      "l l\n",
      "m m\n",
      "n n\n",
      "o o\n",
      "p p\n",
      "q q\n",
      "r r\n",
      "s s\n",
      "t t\n",
      "u u\n",
      "v v\n",
      "w w\n",
      "x x\n",
      "y y\n",
      "z z\n",
      "A A\n",
      "B B\n",
      "C C\n",
      "D D\n",
      "E E\n",
      "F F\n",
      "G G\n",
      "H H\n",
      "I I\n",
      "J J\n",
      "K K\n",
      "L L\n",
      "M M\n",
      "N N\n",
      "O O\n",
      "P P\n",
      "Q Q\n",
      "R R\n",
      "S S\n",
      "T T\n",
      "U U\n",
      "V V\n",
      "W W\n",
      "X X\n",
      "Y Y\n",
      "Z Z\n",
      "! !\n",
      "\" \"\n",
      "# #\n",
      "$ $\n",
      "% %\n",
      "& &\n",
      "' '\n",
      "( (\n",
      ") )\n",
      "* *\n",
      "+ +\n",
      ", ,\n",
      "- -\n",
      ". .\n",
      "/ /\n",
      ": :\n",
      "; ;\n",
      "< <\n",
      "= =\n",
      "> >\n",
      "? ?\n",
      "@ @\n",
      "[ [\n",
      "\\ \\\n",
      "] ]\n",
      "^ ^\n",
      "_ _\n",
      "` `\n",
      "{ {\n",
      "| |\n",
      "} }\n",
      "~ ~\n",
      "   \n",
      "\t \t\n",
      "\n",
      " \n",
      "\n",
      " \n",
      "\u000b",
      " \u000b",
      "\n",
      "\f",
      " \f",
      "\n"
     ]
    }
   ],
   "source": [
    "for key,value in Code.CODE.items(): print(value,key)"
   ]
  },
  {
   "cell_type": "code",
   "execution_count": 7,
   "id": "d1ba723a-087f-4144-a268-5e240716ca73",
   "metadata": {},
   "outputs": [
    {
     "name": "stdout",
     "output_type": "stream",
     "text": [
      "Hello Ω World\n",
      "Hello 𝟭𝟭𝟭𝟬𝟭𝟬𝟭𝟬𝟬𝟭 World\n",
      "(:(:(:)(:(:))(:)(:)(:(:))(:)(:)(:))(:(:)(:(:))(:(:))(:)(:)(:(:))(:)(:(:)))(:(:)(:(:))(:(:))(:)(:(:))(:(:))(:)(:))(:(:)(:(:))(:(:))(:)(:(:))(:(:))(:)(:))(:(:)(:(:))(:(:))(:)(:(:))(:(:))(:(:))(:(:)))(:(:)(:)(:(:))(:)(:)(:)(:)(:))(:(:(:))(:(:))(:(:))(:)(:(:))(:)(:(:))(:)(:)(:(:)))(:(:)(:)(:(:))(:)(:)(:)(:)(:))(:(:)(:(:))(:)(:(:))(:)(:(:))(:(:))(:(:)))(:(:)(:(:))(:(:))(:)(:(:))(:(:))(:(:))(:(:)))(:(:)(:(:))(:(:))(:(:))(:)(:)(:(:))(:))(:(:)(:(:))(:(:))(:)(:(:))(:(:))(:)(:))(:(:)(:(:))(:(:))(:)(:)(:(:))(:)(:)))\n"
     ]
    },
    {
     "data": {
      "text/plain": [
       "'Hello 𝟭𝟭𝟭𝟬𝟭𝟬𝟭𝟬𝟬𝟭 World'"
      ]
     },
     "execution_count": 7,
     "metadata": {},
     "output_type": "execute_result"
    }
   ],
   "source": [
    "#\n",
    "#   At the moment, only python printable characters have pure data equivalents.\n",
    "#   At some point I may add more...\n",
    "#\n",
    "uni = 'Hello \\u03A9 World'\n",
    "print(uni)\n",
    "print(co(uni))\n",
    "print(repr(co(uni)))\n",
    "str(co(uni))"
   ]
  },
  {
   "cell_type": "code",
   "execution_count": 8,
   "id": "b0bc6346-ea7d-45b3-81b5-cdc629385cbb",
   "metadata": {},
   "outputs": [],
   "source": [
    "x = co('hello')"
   ]
  },
  {
   "cell_type": "code",
   "execution_count": 9,
   "id": "4f07dd6b-57e5-46dc-aab9-2c02ee41d7bf",
   "metadata": {},
   "outputs": [
    {
     "data": {
      "text/plain": [
       "(:(:(:)(:(:))(:(:))(:)(:(:))(:)(:)(:))(:(:)(:(:))(:(:))(:)(:)(:(:))(:)(:(:)))(:(:)(:(:))(:(:))(:)(:(:))(:(:))(:)(:))(:(:)(:(:))(:(:))(:)(:(:))(:(:))(:)(:))(:(:)(:(:))(:(:))(:)(:(:))(:(:))(:(:))(:(:))))"
      ]
     },
     "execution_count": 9,
     "metadata": {},
     "output_type": "execute_result"
    }
   ],
   "source": [
    "x"
   ]
  },
  {
   "cell_type": "code",
   "execution_count": 10,
   "id": "4ecb0e04-d3a7-45e3-9eee-95ed649f076a",
   "metadata": {},
   "outputs": [
    {
     "data": {
      "text/plain": [
       "'(:(:(:)(:(:))(:(:))(:)(:(:))(:)(:)(:))(:(:)(:(:))(:(:))(:)(:)(:(:))(:)(:(:)))(:(:)(:(:))(:(:))(:)(:(:))(:(:))(:)(:))(:(:)(:(:))(:(:))(:)(:(:))(:(:))(:)(:))(:(:)(:(:))(:(:))(:)(:(:))(:(:))(:(:))(:(:))))'"
      ]
     },
     "execution_count": 10,
     "metadata": {},
     "output_type": "execute_result"
    }
   ],
   "source": [
    "repr(x)"
   ]
  },
  {
   "cell_type": "code",
   "execution_count": 11,
   "id": "1a960a80-bb5d-48d6-9845-dd1813f946cc",
   "metadata": {},
   "outputs": [
    {
     "data": {
      "text/plain": [
       "'hello'"
      ]
     },
     "execution_count": 11,
     "metadata": {},
     "output_type": "execute_result"
    }
   ],
   "source": [
    "str(x)"
   ]
  },
  {
   "cell_type": "code",
   "execution_count": 12,
   "id": "68d3b7a7-4504-4f97-9adb-ab7fe4932658",
   "metadata": {},
   "outputs": [
    {
     "name": "stdout",
     "output_type": "stream",
     "text": [
      "hello\n"
     ]
    }
   ],
   "source": [
    "print(x)"
   ]
  },
  {
   "cell_type": "code",
   "execution_count": 13,
   "id": "f4a0dcdc-4f9a-4e55-bd87-91b384596b05",
   "metadata": {},
   "outputs": [
    {
     "data": {
      "text/plain": [
       "base.coda"
      ]
     },
     "execution_count": 13,
     "metadata": {},
     "output_type": "execute_result"
    }
   ],
   "source": [
    "type(x)"
   ]
  },
  {
   "cell_type": "code",
   "execution_count": null,
   "id": "b18efbcd-1274-4e2b-b7f0-b415aa5e390d",
   "metadata": {},
   "outputs": [],
   "source": []
  }
 ],
 "metadata": {
  "kernelspec": {
   "display_name": "Python 3 (ipykernel)",
   "language": "python",
   "name": "python3"
  },
  "language_info": {
   "codemirror_mode": {
    "name": "ipython",
    "version": 3
   },
   "file_extension": ".py",
   "mimetype": "text/x-python",
   "name": "python",
   "nbconvert_exporter": "python",
   "pygments_lexer": "ipython3",
   "version": "3.10.7"
  }
 },
 "nbformat": 4,
 "nbformat_minor": 5
}
