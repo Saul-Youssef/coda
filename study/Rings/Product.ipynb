{
 "cells": [
  {
   "cell_type": "markdown",
   "id": "9fb6854d-d75e-4b9e-a72f-841f5a50dc88",
   "metadata": {},
   "source": [
    "## A demonstration of products and co-products "
   ]
  },
  {
   "cell_type": "code",
   "execution_count": 1,
   "id": "dd5dc3a4-6f9d-46db-a3f3-bedfe9d8dfb5",
   "metadata": {},
   "outputs": [
    {
     "name": "stdout",
     "output_type": "stream",
     "text": []
    }
   ],
   "source": [
    "import : ."
   ]
  },
  {
   "cell_type": "code",
   "execution_count": 2,
   "id": "1726a4dc-84c9-4f85-b10f-d4cf5613b926",
   "metadata": {},
   "outputs": [
    {
     "name": "stdout",
     "output_type": "stream",
     "text": []
    }
   ],
   "source": [
    "# \n",
    "#   f2 and f3 are morphisms of n \n",
    "#\n",
    "def f2 : {ap put n : ap int_mult 2 : get n : B}\n",
    "def f3 : {ap put n : ap int_mult 3 : get n : B}"
   ]
  },
  {
   "cell_type": "code",
   "execution_count": 3,
   "id": "4ee8b8d3-2c9a-49b7-b0c0-9a171e418253",
   "metadata": {},
   "outputs": [
    {
     "name": "stdout",
     "output_type": "stream",
     "text": []
    }
   ],
   "source": [
    "#\n",
    "#   The direct product is controlled by \n",
    "#\n",
    "#   Product/product \n",
    "#\n",
    "#   P? will be a product of f2 and f3 \n",
    "#\n",
    "let P : Product n f2 f3 : type n : 1 2 "
   ]
  },
  {
   "cell_type": "code",
   "execution_count": 4,
   "id": "b6993b80-5682-4e87-9720-db0916563a74",
   "metadata": {},
   "outputs": [
    {
     "name": "stdout",
     "output_type": "stream",
     "text": [
      "(pro n:(n:2) (n:3)) (pro n:(n:4) (n:6))"
     ]
    }
   ],
   "source": [
    "P?"
   ]
  },
  {
   "cell_type": "code",
   "execution_count": 5,
   "id": "7f73c17e-9108-4185-bffa-863fbbc74e3f",
   "metadata": {},
   "outputs": [
    {
     "name": "stdout",
     "output_type": "stream",
     "text": [
      "(n:3) (n:6)"
     ]
    }
   ],
   "source": [
    "#\n",
    "#   lower case product projects the nth component \n",
    "#\n",
    "product n 2 : P?"
   ]
  },
  {
   "cell_type": "code",
   "execution_count": 6,
   "id": "56e178d9-10f9-4b71-8b6d-dd42938e77e2",
   "metadata": {},
   "outputs": [
    {
     "name": "stdout",
     "output_type": "stream",
     "text": []
    }
   ],
   "source": [
    "#\n",
    "#   The direct sum is controlled by \n",
    "#\n",
    "#   Coproduct/coproduct \n",
    "#\n",
    "let S : ( coproduct n 2 : type n : 88 99 ) \n",
    "        ( coproduct n 1 : type n :  5  6 )"
   ]
  },
  {
   "cell_type": "code",
   "execution_count": 7,
   "id": "c1be00a5-ed1d-46ae-971a-efefd5527248",
   "metadata": {},
   "outputs": [
    {
     "name": "stdout",
     "output_type": "stream",
     "text": [
      "(n:264) (n:297) (n:10) (n:12)"
     ]
    }
   ],
   "source": [
    "Coproduct n f2 f3 : S?"
   ]
  }
 ],
 "metadata": {
  "kernelspec": {
   "display_name": "coda",
   "language": "",
   "name": "coda"
  },
  "language_info": {
   "file_extension": ".co",
   "mimetype": "text/plain",
   "name": "Any text"
  }
 },
 "nbformat": 4,
 "nbformat_minor": 5
}
