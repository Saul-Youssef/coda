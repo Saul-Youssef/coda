{
 "cells": [
  {
   "cell_type": "code",
   "execution_count": 1,
   "id": "547ab7d5-baad-4c2f-b3ba-abd6d1f306d9",
   "metadata": {},
   "outputs": [
    {
     "name": "stdout",
     "output_type": "stream",
     "text": []
    }
   ],
   "source": [
    "Def n:\n",
    "Def m:"
   ]
  },
  {
   "cell_type": "code",
   "execution_count": 2,
   "id": "5958a5eb-c134-41fc-92e5-a4fe6da43c42",
   "metadata": {},
   "outputs": [
    {
     "name": "stdout",
     "output_type": "stream",
     "text": []
    }
   ],
   "source": [
    "Def F : ap ((put m) * (get n))"
   ]
  },
  {
   "cell_type": "code",
   "execution_count": 3,
   "id": "227fc757-6ac9-4a3b-a83b-d61fcaf974c3",
   "metadata": {},
   "outputs": [
    {
     "name": "stdout",
     "output_type": "stream",
     "text": []
    }
   ],
   "source": [
    "Let N : (n:1) (n:2) (n:3)"
   ]
  },
  {
   "cell_type": "code",
   "execution_count": 4,
   "id": "5d8a731d-1de7-4e11-97f1-f8d5e8e92c43",
   "metadata": {},
   "outputs": [
    {
     "name": "stdout",
     "output_type": "stream",
     "text": [
      "(n:1) (n:2) (n:3)"
     ]
    }
   ],
   "source": [
    "N?"
   ]
  },
  {
   "cell_type": "code",
   "execution_count": 5,
   "id": "ae8ba509-38c3-4d97-9e3c-58f8520353c5",
   "metadata": {},
   "outputs": [
    {
     "name": "stdout",
     "output_type": "stream",
     "text": [
      "(m:1) (m:2) (m:3)"
     ]
    }
   ],
   "source": [
    "F:N?"
   ]
  },
  {
   "cell_type": "code",
   "execution_count": 6,
   "id": "34a6b663-50da-495c-80a8-7d5d00b349c6",
   "metadata": {},
   "outputs": [
    {
     "name": "stdout",
     "output_type": "stream",
     "text": []
    }
   ],
   "source": [
    "F:"
   ]
  },
  {
   "cell_type": "code",
   "execution_count": null,
   "id": "f0b64aaa-12d9-4b33-8435-b026248cbed4",
   "metadata": {},
   "outputs": [],
   "source": []
  }
 ],
 "metadata": {
  "kernelspec": {
   "display_name": "coda",
   "language": "",
   "name": "coda"
  },
  "language_info": {
   "file_extension": ".co",
   "mimetype": "text/plain",
   "name": "Any text"
  }
 },
 "nbformat": 4,
 "nbformat_minor": 5
}
