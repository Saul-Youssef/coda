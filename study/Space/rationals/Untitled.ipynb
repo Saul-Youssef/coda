{
 "cells": [
  {
   "cell_type": "code",
   "execution_count": 2,
   "id": "cbe09d4c-6f92-4b51-8728-fc596a15edb3",
   "metadata": {},
   "outputs": [
    {
     "name": "stdout",
     "output_type": "stream",
     "text": [
      "(defaultTime:40)"
     ]
    }
   ],
   "source": [
    "defaultTime:40"
   ]
  },
  {
   "cell_type": "code",
   "execution_count": 3,
   "id": "bdeba8dc-a245-4c45-b56f-9d5973e566ba",
   "metadata": {},
   "outputs": [
    {
     "name": "stdout",
     "output_type": "stream",
     "text": [
      "c b a"
     ]
    }
   ],
   "source": [
    "rev : a b c "
   ]
  },
  {
   "cell_type": "code",
   "execution_count": 5,
   "id": "deb8199b-10d9-48e0-92a5-b1079f3813da",
   "metadata": {},
   "outputs": [
    {
     "name": "stdout",
     "output_type": "stream",
     "text": []
    }
   ],
   "source": [
    "Def Q:"
   ]
  },
  {
   "cell_type": "code",
   "execution_count": 7,
   "id": "3fd56271-f3e9-437c-aed8-dce9cbd0dd07",
   "metadata": {},
   "outputs": [
    {
     "name": "stdout",
     "output_type": "stream",
     "text": [
      "(Q a:aaa) (Q a:aa)"
     ]
    }
   ],
   "source": [
    "has Q : (Q a:aaa) (Q a:aa)"
   ]
  },
  {
   "cell_type": "code",
   "execution_count": 8,
   "id": "dab3ec3d-bb7e-40a6-9fae-9e2b546eb261",
   "metadata": {},
   "outputs": [
    {
     "name": "stdout",
     "output_type": "stream",
     "text": [
      "\u001b[;1mcode:\u001b[0m\n",
      "    \u001b[34;7mcollect\u001b[0m\n",
      "\u001b[;1mmodule:\u001b[0m\n",
      "    Collect\n",
      "\u001b[;1msummary:\u001b[0m\n",
      "    Collect inputs b with the same value of (A:b).\n",
      "\u001b[;1mdescription:\u001b[0m\n",
      "    1. Equivalence classes of input codes.\n",
      "    2. Same as 1 with collected value (bin V:...)\n",
      "    3. Codes with the same length as byte sequences.\n",
      "    4. Same as 3 with the length (bin L:..codes with length L..)\n",
      "\u001b[;1mpath:\u001b[0m\n",
      "    /Users/youssef/coda/py/Collect.py\n",
      "\u001b[;1mdemos:\u001b[0m\n",
      "    1. \u001b[35;4mcollect : (bin:a) (bin:b) (bin:c) (bin:d)\u001b[0m\n",
      "    2. \u001b[35;4mcollect : ap {put bin (nchar:B):B} : a b aa bb aaa cccc zz xxx xxx\u001b[0m\n",
      "    3. \u001b[35;4mcollect : (bin 1:c) (bin 1:a b) (bin 2:aa bb zz) (:a) (:b) a b c\u001b[0m\n",
      "    4. \u001b[35;4mcollectLeft : (bin:a) (bin:b) (bin:c) (bin:d)\u001b[0m\n",
      "    5. \u001b[35;4mcollectRight: (bin 1:a) (bin 2:a) (bin 3:a) (bin 4:b) (bin 5:b)\u001b[0m\n"
     ]
    }
   ],
   "source": [
    "help : collect"
   ]
  },
  {
   "cell_type": "code",
   "execution_count": 9,
   "id": "d7664458-9cb9-4ee4-b836-bbb1dca395d8",
   "metadata": {},
   "outputs": [
    {
     "name": "stdout",
     "output_type": "stream",
     "text": [
      "(bin 1 2 3:a) (bin 4 5:b)"
     ]
    }
   ],
   "source": [
    "demo collect:5"
   ]
  },
  {
   "cell_type": "code",
   "execution_count": 12,
   "id": "10afab60-2941-49a6-add9-9a51d7513fbd",
   "metadata": {},
   "outputs": [
    {
     "name": "stdout",
     "output_type": "stream",
     "text": [
      "\u001b[;1mcode:\u001b[0m\n",
      "    \u001b[34;7mcollect\u001b[0m\n",
      "\u001b[;1mmodule:\u001b[0m\n",
      "    Collect\n",
      "\u001b[;1msummary:\u001b[0m\n",
      "    Collect inputs b with the same value of (A:b).\n",
      "\u001b[;1mdescription:\u001b[0m\n",
      "    1. Equivalence classes of input codes.\n",
      "    2. Same as 1 with collected value (bin V:...)\n",
      "    3. Codes with the same length as byte sequences.\n",
      "    4. Same as 3 with the length (bin L:..codes with length L..)\n",
      "\u001b[;1mpath:\u001b[0m\n",
      "    /Users/youssef/coda/py/Collect.py\n",
      "\u001b[;1mdemos:\u001b[0m\n",
      "    1. \u001b[35;4mcollect : (bin:a) (bin:b) (bin:c) (bin:d)\u001b[0m\n",
      "    2. \u001b[35;4mcollect : ap {put bin (nchar:B):B} : a b aa bb aaa cccc zz xxx xxx\u001b[0m\n",
      "    3. \u001b[35;4mcollect : (bin 1:c) (bin 1:a b) (bin 2:aa bb zz) (:a) (:b) a b c\u001b[0m\n",
      "    4. \u001b[35;4mcollectLeft : (bin:a) (bin:b) (bin:c) (bin:d)\u001b[0m\n",
      "    5. \u001b[35;4mcollectRight: (bin 1:a) (bin 2:a) (bin 3:a) (bin 4:b) (bin 5:b)\u001b[0m\n"
     ]
    }
   ],
   "source": [
    "help :collect"
   ]
  },
  {
   "cell_type": "code",
   "execution_count": 13,
   "id": "2f396d4a-4096-4c4d-a8a1-6657bd876471",
   "metadata": {},
   "outputs": [
    {
     "name": "stdout",
     "output_type": "stream",
     "text": [
      "(bin:a) (bin:b) (bin:c) (bin:d)"
     ]
    }
   ],
   "source": [
    "demo collect :1"
   ]
  },
  {
   "cell_type": "code",
   "execution_count": 14,
   "id": "0b1aaec4-45c6-4893-af76-2be150bbef36",
   "metadata": {},
   "outputs": [
    {
     "name": "stdout",
     "output_type": "stream",
     "text": [
      "(bin:a b c d)"
     ]
    }
   ],
   "source": [
    "demo collect : 4"
   ]
  },
  {
   "cell_type": "code",
   "execution_count": null,
   "id": "4f19c14f-565b-4eb5-afdc-c584f96ca2a0",
   "metadata": {},
   "outputs": [],
   "source": []
  }
 ],
 "metadata": {
  "kernelspec": {
   "display_name": "coda",
   "language": "",
   "name": "coda"
  },
  "language_info": {
   "file_extension": ".co",
   "mimetype": "text/plain",
   "name": "Any text"
  }
 },
 "nbformat": 4,
 "nbformat_minor": 5
}
