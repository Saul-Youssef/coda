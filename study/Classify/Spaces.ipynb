{
 "cells": [
  {
   "cell_type": "markdown",
   "id": "a6e294ae-1355-409d-abed-03c4647b3998",
   "metadata": {},
   "source": [
    "## Search\n",
    "\n",
    "1. Data is a finite sequence of codas.\n",
    "2. A coda is a pair of data. \n",
    "\n",
    "This defines and countably infinite universe of data.  We can consider cutting these off at some maximum depth or width.  This could be consistently implemented by defining the \"outer crust\" to be atomic or by mapping them all to empty data.  All sorts of interesting questions arise."
   ]
  },
  {
   "cell_type": "markdown",
   "id": "4a42f128-f725-474e-ac88-1d8bd694e7dd",
   "metadata": {},
   "source": [
    "### Data sample sizes width (horizontal) vs depth (vertical)\n",
    "\n",
    "| width:   |    1    |    2   |    3   |    4    |    5     |\n",
    "|---------:|--------:|-------:|-------:|--------:|---------:|\n",
    "| depth  1      |    2    |   3    |   4     |    5     |  6  |\n",
    "| depth  2      |    5    |  91    | 4369   | 406901  |    |\n",
    "| depth  3      |   26    | 68583243     |        |         |   |\n",
    "| depth  4      |  677    |        |        |         |    |\n",
    "| depth  5      | 458330  |        |        |         |    |\n",
    "\n",
    " "
   ]
  },
  {
   "cell_type": "code",
   "execution_count": 1,
   "id": "5745bdff-8276-4811-a92b-e6f6ce5b6fff",
   "metadata": {
    "tags": []
   },
   "outputs": [
    {
     "name": "stdout",
     "output_type": "stream",
     "text": [
      "width:1 depth:1 true: 1, false:1, undecided:0, codas:1, datas:2\n",
      "width:2 depth:1 true: 1, false:2, undecided:0, codas:1, datas:3\n",
      "width:3 depth:1 true: 1, false:3, undecided:0, codas:1, datas:4\n",
      "width:4 depth:1 true: 1, false:4, undecided:0, codas:1, datas:5\n",
      "width:5 depth:1 true: 1, false:5, undecided:0, codas:1, datas:6\n",
      "width:1 depth:2 true: 1, false:4, undecided:0, codas:4, datas:5\n",
      "width:2 depth:2 true: 1, false:90, undecided:0, codas:9, datas:91\n",
      "width:3 depth:2 true: 1, false:4368, undecided:0, codas:16, datas:4369\n",
      "width:4 depth:2 true: 1, false:406900, undecided:0, codas:25, datas:406901\n",
      "width:1 depth:3 true: 1, false:20, undecided:5, codas:25, datas:26\n",
      "width:1 depth:4 true: 1, false:104, undecided:572, codas:676, datas:677\n",
      "width:1 depth:5 true: 1, false:2708, undecided:455621, codas:458329, datas:458330\n",
      "width:2 depth:3 true: 1, false:38766182, undecided:29817060, codas:8281, datas:68583243\n"
     ]
    }
   ],
   "source": [
    "import Data\n",
    "dims = [(1,1),(2,1),(3,1),(4,1),(5,1),(1,2),(2,2),(3,2),(4,2),(1,3),(1,4),(1,5),(2,3)]\n",
    "for width,depth in dims:\n",
    "    print('width:'+str(width),'depth:'+str(depth),Data.Data().space(width,depth))"
   ]
  },
  {
   "cell_type": "code",
   "execution_count": null,
   "id": "0e654d9e-1ff4-4e27-b7a2-14c5f81c9909",
   "metadata": {},
   "outputs": [],
   "source": []
  }
 ],
 "metadata": {
  "kernelspec": {
   "display_name": "Python 3 (ipykernel)",
   "language": "python",
   "name": "python3"
  },
  "language_info": {
   "codemirror_mode": {
    "name": "ipython",
    "version": 3
   },
   "file_extension": ".py",
   "mimetype": "text/x-python",
   "name": "python",
   "nbconvert_exporter": "python",
   "pygments_lexer": "ipython3",
   "version": "3.11.1"
  }
 },
 "nbformat": 4,
 "nbformat_minor": 5
}
