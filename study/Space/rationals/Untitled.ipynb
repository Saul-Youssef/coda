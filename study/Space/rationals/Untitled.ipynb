{
 "cells": [
  {
   "cell_type": "code",
   "execution_count": 2,
   "id": "bdeba8dc-a245-4c45-b56f-9d5973e566ba",
   "metadata": {},
   "outputs": [
    {
     "name": "stdout",
     "output_type": "stream",
     "text": [
      "d c b a"
     ]
    }
   ],
   "source": [
    "rev : a b c d"
   ]
  },
  {
   "cell_type": "code",
   "execution_count": 3,
   "id": "d32b5b38-c01e-4223-899a-5163e77ba429",
   "metadata": {},
   "outputs": [
    {
     "name": "stdout",
     "output_type": "stream",
     "text": []
    }
   ],
   "source": [
    "help : remove"
   ]
  },
  {
   "cell_type": "code",
   "execution_count": 4,
   "id": "68c2e057-2e57-4ebc-8fa0-f79a9eb9962c",
   "metadata": {},
   "outputs": [
    {
     "name": "stdout",
     "output_type": "stream",
     "text": [
      "\u001b[;1mcode:\u001b[0m\n",
      "    \u001b[34;7mrem\u001b[0m\n",
      "\u001b[;1mmodule:\u001b[0m\n",
      "    Sequence\n",
      "\u001b[;1msummary:\u001b[0m\n",
      "    rem removes argument specified data from input\n",
      "\u001b[;1mdescription:\u001b[0m\n",
      "\u001b[;1mpath:\u001b[0m\n",
      "    /Users/youssef/coda/py/Sequence.py\n",
      "\u001b[;1mdemos:\u001b[0m\n",
      "    1. \u001b[35;4mrem x y : a b x y a x y x\u001b[0m\n"
     ]
    }
   ],
   "source": [
    "help : rem"
   ]
  },
  {
   "cell_type": "code",
   "execution_count": 5,
   "id": "dd0d24d2-f58a-4dd8-9803-4a1574b1d82b",
   "metadata": {},
   "outputs": [
    {
     "name": "stdout",
     "output_type": "stream",
     "text": [
      "a b a x"
     ]
    }
   ],
   "source": [
    "demo rem : 1"
   ]
  },
  {
   "cell_type": "code",
   "execution_count": 9,
   "id": "f421d423-0ad9-4bb6-99d1-e1d1ab062f18",
   "metadata": {},
   "outputs": [
    {
     "name": "stdout",
     "output_type": "stream",
     "text": [
      "atoms back backstrip by combination common count default dup ends first front frontstrip grp head item last maxwidth minwidth nth nth1 once pair permutation post pre prepoly prepoly_ preprod presum rem rep rev skip starts swap tail tuple width"
     ]
    }
   ],
   "source": [
    "defs : Sequence"
   ]
  },
  {
   "cell_type": "code",
   "execution_count": 10,
   "id": "f7fd129f-1c54-485e-a714-ceb306481fbe",
   "metadata": {},
   "outputs": [
    {
     "name": "stdout",
     "output_type": "stream",
     "text": [
      "\u001b[;1mcode:\u001b[0m\n",
      "    \u001b[34;7mends\u001b[0m\n",
      "\u001b[;1mmodule:\u001b[0m\n",
      "    Sequence\n",
      "\u001b[;1msummary:\u001b[0m\n",
      "    starts, ends\n",
      "\u001b[;1mdescription:\u001b[0m\n",
      "\u001b[;1mpath:\u001b[0m\n",
      "    /Users/youssef/coda/py/Sequence.py\n",
      "\u001b[;1mdemos:\u001b[0m\n",
      "    1. \u001b[35;4mstarts a b c : a b c d e f g\u001b[0m\n",
      "    2. \u001b[35;4mstarts a b c : a x b c d\u001b[0m\n",
      "    3. \u001b[35;4mstarts a b c : a\u001b[0m\n",
      "    4. \u001b[35;4mstarts : a b c\u001b[0m\n"
     ]
    }
   ],
   "source": [
    "help : ends"
   ]
  },
  {
   "cell_type": "code",
   "execution_count": 13,
   "id": "e2f43700-b47f-43a2-9948-72f43b6bf79f",
   "metadata": {},
   "outputs": [
    {
     "name": "stdout",
     "output_type": "stream",
     "text": [
      "a b c"
     ]
    }
   ],
   "source": [
    "backstrip a : a b c"
   ]
  },
  {
   "cell_type": "code",
   "execution_count": 23,
   "id": "c9597a70-4e5c-4e50-8f7c-0dac2bf07634",
   "metadata": {},
   "outputs": [
    {
     "name": "stdout",
     "output_type": "stream",
     "text": [
      "(if (equal (last:):a):(bin a a a:))"
     ]
    }
   ],
   "source": [
    "{if ((last:arg:B)=a) ((last:right:B)=a):B} : (bin a a a:) "
   ]
  },
  {
   "cell_type": "code",
   "execution_count": 25,
   "id": "e6b2989c-8f67-4f57-8952-8279e994f594",
   "metadata": {},
   "outputs": [
    {
     "name": "stdout",
     "output_type": "stream",
     "text": []
    }
   ],
   "source": [
    "first:"
   ]
  },
  {
   "cell_type": "code",
   "execution_count": 19,
   "id": "3c511b08-2823-492b-9fbc-5eb24669c256",
   "metadata": {},
   "outputs": [
    {
     "name": "stdout",
     "output_type": "stream",
     "text": [
      "c"
     ]
    }
   ],
   "source": [
    "last : a b c "
   ]
  },
  {
   "cell_type": "code",
   "execution_count": 26,
   "id": "f4251962-9a3f-4d29-a26f-edc8d802b2c7",
   "metadata": {},
   "outputs": [
    {
     "name": "stdout",
     "output_type": "stream",
     "text": [
      "\u001b[;1mcode:\u001b[0m\n",
      "    \u001b[34;7mlast\u001b[0m\n",
      "\u001b[;1mmodule:\u001b[0m\n",
      "    Sequence\n",
      "\u001b[;1msummary:\u001b[0m\n",
      "    def tail_0(context,domain,A,B):\n",
      "\u001b[;1mdescription:\u001b[0m\n",
      "    if B.empty(): return data()\n",
      "    if A.rigid(context):\n",
      "    L,R = B.split()\n",
      "    ns = Number.ints(A)\n",
      "    n = sum(ns)\n",
      "    if n==0: return B\n",
      "    if L.atom(context):\n",
      "    if n>0: return     data((domain+da(str(n-1)))|R)\n",
      "    else  : return L + data((domain+da(str(  0)))|R)\n",
      "    CONTEXT.define('tail',tail_0)\n",
      "\u001b[;1mpath:\u001b[0m\n",
      "    /Users/youssef/coda/py/Sequence.py\n",
      "\u001b[;1mdemos:\u001b[0m\n"
     ]
    }
   ],
   "source": [
    "help : last"
   ]
  },
  {
   "cell_type": "code",
   "execution_count": 27,
   "id": "1683606d-bb30-4a71-8cab-0f663ae927d7",
   "metadata": {},
   "outputs": [
    {
     "name": "stdout",
     "output_type": "stream",
     "text": [
      "\u001b[;1mcode:\u001b[0m\n",
      "    \u001b[34;7mfirst\u001b[0m\n",
      "\u001b[;1mmodule:\u001b[0m\n",
      "    Sequence\n",
      "\u001b[;1msummary:\u001b[0m\n",
      "    Basic sequence operations\n",
      "\u001b[;1mdescription:\u001b[0m\n",
      "\u001b[;1mpath:\u001b[0m\n",
      "    /Users/youssef/coda/co/Sequence.co\n",
      "\u001b[;1msource code:\u001b[0m\n",
      "    def first : {head (if A:1) A : B}\n",
      "\u001b[;1mdemos:\u001b[0m\n",
      "    1. \u001b[35;4mhead 2 : a b c d e f g\u001b[0m\n",
      "    2. \u001b[35;4mtail 2 : a b c d e f g\u001b[0m\n",
      "    3. \u001b[35;4mfirst 2 : a b c d e f g\u001b[0m\n",
      "    4. \u001b[35;4mlast 2 : a b c d e f g\u001b[0m\n",
      "    5. \u001b[35;4mhead : a b c d e f g\u001b[0m\n",
      "    6. \u001b[35;4mtail :  a b c d e f g\u001b[0m\n",
      "    7. \u001b[35;4mfirst : a b c d e f g\u001b[0m\n",
      "    8. \u001b[35;4mlast : a b c d e f g\u001b[0m\n",
      "    9. \u001b[35;4mhead 2 1 : a b c d e f g\u001b[0m\n",
      "    10. \u001b[35;4mtail 2 1 : a b c d e f g\u001b[0m\n",
      "    11. \u001b[35;4mskip : a b c\u001b[0m\n",
      "    12. \u001b[35;4mskip 2 : a b c d e\u001b[0m\n",
      "    13. \u001b[35;4mby 2 : a b c d e\u001b[0m\n",
      "    14. \u001b[35;4mby : a b c d e\u001b[0m\n",
      "    15. \u001b[35;4mby 2 : nat : 0\u001b[0m\n"
     ]
    }
   ],
   "source": [
    "help : first"
   ]
  },
  {
   "cell_type": "code",
   "execution_count": 29,
   "id": "a4cc2236-d5e3-45a3-b14d-f54540f2cad1",
   "metadata": {},
   "outputs": [
    {
     "name": "stdout",
     "output_type": "stream",
     "text": [
      "b c d"
     ]
    }
   ],
   "source": [
    "tail 2: a b c d "
   ]
  },
  {
   "cell_type": "code",
   "execution_count": 30,
   "id": "97b15418-6252-4d22-890f-9d583d077e8a",
   "metadata": {},
   "outputs": [
    {
     "name": "stdout",
     "output_type": "stream",
     "text": []
    }
   ],
   "source": [
    "help : first"
   ]
  },
  {
   "cell_type": "code",
   "execution_count": 31,
   "id": "e1a318c0-b962-4464-9b6d-1d2017537088",
   "metadata": {},
   "outputs": [
    {
     "name": "stdout",
     "output_type": "stream",
     "text": [
      "a"
     ]
    }
   ],
   "source": [
    "first : a "
   ]
  },
  {
   "cell_type": "code",
   "execution_count": 32,
   "id": "6aecec16-d790-488e-bb88-ed8360f951f0",
   "metadata": {},
   "outputs": [
    {
     "name": "stdout",
     "output_type": "stream",
     "text": []
    }
   ],
   "source": [
    "first :"
   ]
  },
  {
   "cell_type": "code",
   "execution_count": 33,
   "id": "4c97ca80-cb06-418a-9aca-9aaa6b92eab0",
   "metadata": {},
   "outputs": [
    {
     "name": "stdout",
     "output_type": "stream",
     "text": []
    }
   ],
   "source": [
    "help : tail"
   ]
  },
  {
   "cell_type": "code",
   "execution_count": 34,
   "id": "7301620a-8d32-454d-b7d9-4d594c21c82c",
   "metadata": {},
   "outputs": [
    {
     "name": "stdout",
     "output_type": "stream",
     "text": [
      "a b c"
     ]
    }
   ],
   "source": [
    "tail : a b c "
   ]
  },
  {
   "cell_type": "code",
   "execution_count": 35,
   "id": "26f7b398-bd37-4f36-addf-e6cb67b4149f",
   "metadata": {},
   "outputs": [
    {
     "name": "stdout",
     "output_type": "stream",
     "text": [
      "b c"
     ]
    }
   ],
   "source": [
    "tail 1 : a b c "
   ]
  },
  {
   "cell_type": "code",
   "execution_count": 36,
   "id": "ef9bf524-fad2-45e6-8b67-eb425b776dd0",
   "metadata": {},
   "outputs": [
    {
     "name": "stdout",
     "output_type": "stream",
     "text": [
      "a b b c d"
     ]
    }
   ],
   "source": [
    "{(head A:B) (tail A:B)} 2 : a b c d"
   ]
  },
  {
   "cell_type": "code",
   "execution_count": 37,
   "id": "04c6b828-d40b-476f-b591-992d41caae5a",
   "metadata": {},
   "outputs": [
    {
     "name": "stdout",
     "output_type": "stream",
     "text": [
      "a b"
     ]
    }
   ],
   "source": [
    "front | | : a b c d "
   ]
  },
  {
   "cell_type": "code",
   "execution_count": 38,
   "id": "81ef08f7-3e01-4385-8bf5-8b01f8c6ad82",
   "metadata": {},
   "outputs": [
    {
     "name": "stdout",
     "output_type": "stream",
     "text": [
      "c d"
     ]
    }
   ],
   "source": [
    "back | | : a b c d"
   ]
  },
  {
   "cell_type": "code",
   "execution_count": 42,
   "id": "0dab1420-5118-4f08-9a0e-50631e7ac784",
   "metadata": {},
   "outputs": [
    {
     "name": "stdout",
     "output_type": "stream",
     "text": [
      "b c d"
     ]
    }
   ],
   "source": [
    "tail |  : a b c d"
   ]
  },
  {
   "cell_type": "code",
   "execution_count": 43,
   "id": "2dae0119-462f-4663-86db-147a37323183",
   "metadata": {},
   "outputs": [
    {
     "name": "stdout",
     "output_type": "stream",
     "text": [
      "\u001b[;1mcode:\u001b[0m\n",
      "    \u001b[34;7mfrontstrip\u001b[0m\n",
      "\u001b[;1mmodule:\u001b[0m\n",
      "    Sequence\n",
      "\u001b[;1msummary:\u001b[0m\n",
      "    frontstrip, backstrip\n",
      "\u001b[;1mdescription:\u001b[0m\n",
      "\u001b[;1mpath:\u001b[0m\n",
      "    /Users/youssef/coda/py/Sequence.py\n",
      "\u001b[;1mdemos:\u001b[0m\n",
      "    1. \u001b[35;4mstripFront a b : a b c d\u001b[0m\n",
      "    2. \u001b[35;4mstripFront c d : a b c d\u001b[0m\n",
      "    3. \u001b[35;4mstripFront a b : x y z\u001b[0m\n",
      "    4. \u001b[35;4mwhile stripFront a b : a b a b x y\u001b[0m\n",
      "    5. \u001b[35;4mstripBack c d : a b c d\u001b[0m\n",
      "    6. \u001b[35;4mstripBack a b : a b c d\u001b[0m\n",
      "    7. \u001b[35;4mstripBack a b : x y z\u001b[0m\n",
      "    8. \u001b[35;4mwhile stripBack a b : x y a b a b\u001b[0m\n"
     ]
    }
   ],
   "source": [
    "help : frontstrip"
   ]
  },
  {
   "cell_type": "code",
   "execution_count": 44,
   "id": "b30e39bb-067a-4ab9-a8c8-2a6cdca8863e",
   "metadata": {},
   "outputs": [
    {
     "name": "stdout",
     "output_type": "stream",
     "text": [
      "b c d"
     ]
    }
   ],
   "source": [
    "frontstrip a : a b c d"
   ]
  },
  {
   "cell_type": "code",
   "execution_count": 46,
   "id": "d48ddad1-0a34-4c67-a42c-6f3a9384b9f7",
   "metadata": {},
   "outputs": [
    {
     "name": "stdout",
     "output_type": "stream",
     "text": [
      "a b c"
     ]
    }
   ],
   "source": [
    "backstrip d : a b c d"
   ]
  },
  {
   "cell_type": "code",
   "execution_count": 47,
   "id": "640add6c-2784-4712-9e76-2e5585641944",
   "metadata": {},
   "outputs": [
    {
     "name": "stdout",
     "output_type": "stream",
     "text": []
    }
   ],
   "source": [
    "help : freesum"
   ]
  },
  {
   "cell_type": "code",
   "execution_count": 48,
   "id": "6b825171-48b2-434c-84b8-a548b5241188",
   "metadata": {},
   "outputs": [
    {
     "name": "stdout",
     "output_type": "stream",
     "text": [
      "\u001b[;1mcode:\u001b[0m\n",
      "    \u001b[34;7mpresum\u001b[0m\n",
      "\u001b[;1mmodule:\u001b[0m\n",
      "    Sequence\n",
      "\u001b[;1msummary:\u001b[0m\n",
      "    Some combinatorics\n",
      "\u001b[;1mdescription:\u001b[0m\n",
      "\u001b[;1mpath:\u001b[0m\n",
      "    /Users/youssef/coda/py/Sequence.py\n",
      "\u001b[;1mdemos:\u001b[0m\n",
      "    1. \u001b[35;4mpresum a b c : x y z\u001b[0m\n",
      "    2. \u001b[35;4mpresum a : x y z\u001b[0m\n",
      "    3. \u001b[35;4mpreprod a b c : x y z\u001b[0m\n",
      "    4. \u001b[35;4mpolyprod a b c : x y z\u001b[0m\n",
      "    5. \u001b[35;4mcollect : ap {(bin (nat_sum:arg:B):right:B)} : preprod a b c : x y z\u001b[0m\n"
     ]
    }
   ],
   "source": [
    "help : presum"
   ]
  },
  {
   "cell_type": "code",
   "execution_count": 49,
   "id": "bf434e49-4242-42af-bf8f-a62b57880a77",
   "metadata": {},
   "outputs": [
    {
     "name": "stdout",
     "output_type": "stream",
     "text": [
      "(:a x) (:b y) (:c z)"
     ]
    }
   ],
   "source": [
    "demo presum : 1"
   ]
  },
  {
   "cell_type": "code",
   "execution_count": 50,
   "id": "ea2c39ab-b846-4673-96f7-41352a6090cd",
   "metadata": {},
   "outputs": [
    {
     "name": "stdout",
     "output_type": "stream",
     "text": [
      "(:a x) (:y) (:z)"
     ]
    }
   ],
   "source": [
    "demo presum : 2"
   ]
  },
  {
   "cell_type": "code",
   "execution_count": 51,
   "id": "888351a7-3dd3-4758-b258-116d59256a76",
   "metadata": {},
   "outputs": [
    {
     "name": "stdout",
     "output_type": "stream",
     "text": [
      "(bin 0 0:a x) (bin 0 1:a y) (bin 0 2:a z) (bin 1 0:b x) (bin 1 1:b y) (bin 1 2:b z) (bin 2 0:c x) (bin 2 1:c y) (bin 2 2:c z)"
     ]
    }
   ],
   "source": [
    "demo preprod : 3"
   ]
  },
  {
   "cell_type": "code",
   "execution_count": null,
   "id": "61718969-7d19-4cae-abe8-8d82a263f60d",
   "metadata": {},
   "outputs": [],
   "source": []
  }
 ],
 "metadata": {
  "kernelspec": {
   "display_name": "coda",
   "language": "",
   "name": "coda"
  },
  "language_info": {
   "file_extension": ".co",
   "mimetype": "text/plain",
   "name": "Any text"
  }
 },
 "nbformat": 4,
 "nbformat_minor": 5
}
