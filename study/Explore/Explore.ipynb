{
 "cells": [
  {
   "cell_type": "markdown",
   "id": "53ad23c4-ccf7-45bf-9c1f-3b02a27e63be",
   "metadata": {},
   "source": [
    "# Exploration\n",
    "\n",
    "This is going to be a general exploration of some data, particularly exercising the Set module.\n",
    "\n",
    "We use sequences of (:) and Generate.Gen to generate interesting samples of datas.  Generate.Gen uses a base collection of codas as a starting point (Generate.codas) and makes samples from those codas including language expressions.  The argument to Generate.Gen is the width of the sampled expression.  \n",
    "\n",
    "The Generate module also can generate all pure data up to specified with and depth, but this results in enormous data samples and it's impractical to search deep enough to hit the built in definitions.  \n",
    "\n",
    "Samples:\n",
    "1. *SMALL* 159 datas, used for software testing.\n",
    "2. *MEDIUM* 14,098 datas, used for pre-production testing. \n",
    "3. *LARGE* 1M datas, used for production results.\n",
    "\n",
    "We will look for data using the samples available from the Set module:\n",
    "\n",
    "1. nilpotents A^n:X = ()\n",
    "2. involutions A:A:X = X\n",
    "3. idempotents A:A:X = A:X\n",
    "4. distributive A:X Y = (A:X) (A:Y)\n",
    "5. space A:(A:X) (A:Y) = A:X Y\n",
    "6. morphism from A to B F:A:X = B:F:X \n"
   ]
  },
  {
   "cell_type": "code",
   "execution_count": 1,
   "id": "6febcc0e-0818-49b8-bc6f-5194eadbdf07",
   "metadata": {
    "jupyter": {
     "source_hidden": true
    },
    "tags": []
   },
   "outputs": [],
   "source": [
    "from base import * \n",
    "import Sample,Set \n",
    "\n",
    "DOMAIN = Sample.Domain(*Sample.codas)\n",
    "TINY = Set.Set(*[data(c) for c in Sample.codas])\n",
    "S21 = Set.Set(*DOMAIN.window(2,1))\n",
    "S31 = Set.Set(*DOMAIN.window(3,1))\n",
    "S22 = Set.Set(*DOMAIN.window(2,2)) \n",
    "PURE = Sample.pure(2,2)\n",
    "#S41 = Set.Set(*DOMAIN.window(4,1))\n",
    "#\n",
    "#     The evaluation depth is controlled by these \n",
    "#\n",
    "e10   = Set.eval10\n",
    "e100  = Set.eval100  \n",
    "e1000 = Set.eval1000  \n",
    "#\n",
    "#    Samples of (:) \"hydrogen atoms\"\n",
    "#\n",
    "def atoms(n): return Sample.oddAtoms(n)+Sample.evenAtoms(n)"
   ]
  },
  {
   "cell_type": "code",
   "execution_count": 2,
   "id": "da1db52f-c828-4043-82d5-0ba5e83c988e",
   "metadata": {
    "tags": []
   },
   "outputs": [
    {
     "name": "stdout",
     "output_type": "stream",
     "text": [
      "has1 aps int_diff\n",
      "0 pass rev\n",
      "int_diff nth1 not\n",
      "domain 1 bool\n",
      "nor rev aps\n",
      "ap nat bin\n",
      "apby or aps\n",
      "app rep ap2\n",
      "if not tail\n",
      "counts pass bin\n"
     ]
    }
   ],
   "source": [
    "for s in S31.sample(10): print(s)"
   ]
  },
  {
   "cell_type": "markdown",
   "id": "0b5defa5-de70-4538-8602-f88260b159e4",
   "metadata": {},
   "source": [
    "A zeroth order study is to find out if any of the base codas have algebraic properties.  The base codas are in TINY."
   ]
  },
  {
   "cell_type": "code",
   "execution_count": 3,
   "id": "a6501f70-0189-44e8-938d-e7fee3606654",
   "metadata": {
    "tags": []
   },
   "outputs": [
    {
     "data": {
      "text/plain": [
       "'◎,𝟬,𝝞,nat,one,count,int1,nat1,int_add,int_mult,int_diff,int_max,int_min,int_sort,int_inv,pass,null,bin,domain,if,put,has1,get1,*,some,rev,first,tail,last,rep,nth1,pre,post,bool,not,=,or,and,nor,xor,nand,xnor,iff,imply,ap,app,ap2,aps,apby,apif,equiv,collect,counts,0,1,2,3,a,b,A,B,?'"
      ]
     },
     "execution_count": 3,
     "metadata": {},
     "output_type": "execute_result"
    }
   ],
   "source": [
    "','.join([str(t) for t in TINY])"
   ]
  },
  {
   "cell_type": "code",
   "execution_count": 32,
   "id": "4b49dc6e-1df3-493c-9ee6-fd6047da9455",
   "metadata": {
    "tags": []
   },
   "outputs": [
    {
     "name": "stdout",
     "output_type": "stream",
     "text": [
      "62 20 20\n"
     ]
    }
   ],
   "source": [
    "SEARCH = TINY\n",
    "DOM1 = S22.sample(10)+atoms(5) \n",
    "DOM2 = S22.sample(10)+atoms(5)\n",
    "#DOM1 = S22.sample(20)+atoms(5)+PURE.sample(10) \n",
    "#DOM2 = S22.sample(20)+atoms(5)+PURE.sample(10)\n",
    "print(len(SEARCH),len(DOM1),len(DOM2))"
   ]
  },
  {
   "cell_type": "code",
   "execution_count": 33,
   "id": "18a7b421-28df-4e31-9d5d-346c2f0f6d70",
   "metadata": {},
   "outputs": [],
   "source": [
    "idempotent = SEARCH.idempotent(DOM1).multieval(e100)"
   ]
  },
  {
   "cell_type": "code",
   "execution_count": 34,
   "id": "ab4daa92-ec3b-4a62-aff2-9163a3133023",
   "metadata": {},
   "outputs": [],
   "source": [
    "nilpotent = SEARCH.nilpotent(1,DOM1).multieval(e100) "
   ]
  },
  {
   "cell_type": "code",
   "execution_count": 35,
   "id": "600865c8-f774-4561-8d28-bf3d59231a64",
   "metadata": {},
   "outputs": [],
   "source": [
    "involution = SEARCH.involution(1,DOM1).multieval(e100)"
   ]
  },
  {
   "cell_type": "code",
   "execution_count": 39,
   "id": "27153055-b647-4fce-a2ef-91182aee1908",
   "metadata": {},
   "outputs": [],
   "source": [
    "space = SEARCH.space(DOM1,DOM2).multieval(e100)"
   ]
  },
  {
   "cell_type": "code",
   "execution_count": 11,
   "id": "8828a4b6-3222-4e3f-b502-371c2a666e01",
   "metadata": {},
   "outputs": [],
   "source": [
    "def pr(x): \n",
    "    L = [str(xx) for xx in x.empty()]\n",
    "    L.sort()\n",
    "    print(str(len(L))+' '+','.join(L))"
   ]
  },
  {
   "cell_type": "code",
   "execution_count": 36,
   "id": "0f9ce6fd-3cfd-4cb9-8e10-d1d6ab0dae4f",
   "metadata": {},
   "outputs": [
    {
     "name": "stdout",
     "output_type": "stream",
     "text": [
      "8 ap2,app,int_add,int_diff,int_max,int_min,int_mult,null\n"
     ]
    }
   ],
   "source": [
    "pr(nilpotent)"
   ]
  },
  {
   "cell_type": "code",
   "execution_count": 37,
   "id": "696b5323-99ad-41ff-bad8-b1459e6ab27d",
   "metadata": {},
   "outputs": [
    {
     "name": "stdout",
     "output_type": "stream",
     "text": [
      "5 if,pass,post,pre,some\n"
     ]
    }
   ],
   "source": [
    "pr(involution)"
   ]
  },
  {
   "cell_type": "code",
   "execution_count": 38,
   "id": "30377eab-fc30-4a83-92bf-20c1231f733c",
   "metadata": {},
   "outputs": [
    {
     "name": "stdout",
     "output_type": "stream",
     "text": [
      "13 ap2,app,if,int_add,int_diff,int_max,int_min,int_mult,null,pass,post,pre,some\n"
     ]
    }
   ],
   "source": [
    "pr(idempotent)"
   ]
  },
  {
   "cell_type": "code",
   "execution_count": 12,
   "id": "c4dadda0-c42e-4753-9ba0-5c9190653f1e",
   "metadata": {},
   "outputs": [
    {
     "name": "stdout",
     "output_type": "stream",
     "text": [
      "13 ap2,app,if,int_add,int_diff,int_max,int_min,int_mult,null,pass,post,pre,some\n"
     ]
    }
   ],
   "source": [
    "pr(space)"
   ]
  },
  {
   "cell_type": "code",
   "execution_count": null,
   "id": "075a0d09-65cb-4455-abff-7cd712d6d114",
   "metadata": {},
   "outputs": [],
   "source": []
  }
 ],
 "metadata": {
  "kernelspec": {
   "display_name": "Python 3 (ipykernel)",
   "language": "python",
   "name": "python3"
  },
  "language_info": {
   "codemirror_mode": {
    "name": "ipython",
    "version": 3
   },
   "file_extension": ".py",
   "mimetype": "text/x-python",
   "name": "python",
   "nbconvert_exporter": "python",
   "pygments_lexer": "ipython3",
   "version": "3.10.7"
  }
 },
 "nbformat": 4,
 "nbformat_minor": 5
}
