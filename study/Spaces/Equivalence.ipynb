{
 "cells": [
  {
   "cell_type": "markdown",
   "id": "ef4b1e2a-4801-4ab0-8e64-4317d5f285ac",
   "metadata": {},
   "source": [
    "# Equivalence Spaces"
   ]
  },
  {
   "cell_type": "code",
   "execution_count": 11,
   "id": "fce68e10-4c4d-4eff-adc1-396deca657e5",
   "metadata": {},
   "outputs": [
    {
     "name": "stdout",
     "output_type": "stream",
     "text": []
    }
   ],
   "source": [
    "#\n",
    "#   \n",
    "#\n",
    "def cls:\n",
    "def firstchar : {first : get 1?:B}\n",
    "def type cls : {has 1?:B}"
   ]
  },
  {
   "cell_type": "code",
   "execution_count": 13,
   "id": "09d00d7f-78d1-4f06-83e7-93d38d986e1d",
   "metadata": {},
   "outputs": [
    {
     "name": "stdout",
     "output_type": "stream",
     "text": [
      "(bin a:aa ab) (bin:(bin b:ba bb) (bin c:cc))"
     ]
    }
   ],
   "source": [
    "collect firstchar : aa ab (collect firstchar: ba bb cc)"
   ]
  },
  {
   "cell_type": "code",
   "execution_count": 2,
   "id": "0d9cf535-665c-4302-ac92-202f372160f7",
   "metadata": {},
   "outputs": [
    {
     "name": "stdout",
     "output_type": "stream",
     "text": [
      "(bin 1:a b) (bin 2:aa bb zz) (bin 3:aaa xxx xxx) (bin 4:cccc)"
     ]
    }
   ],
   "source": [
    "demo 5 : collect"
   ]
  },
  {
   "cell_type": "code",
   "execution_count": 3,
   "id": "72031a71-d9d6-4396-8905-71eed3daa652",
   "metadata": {},
   "outputs": [
    {
     "name": "stdout",
     "output_type": "stream",
     "text": [
      "(bin:a a a a a) (bin:b b) (bin:x)"
     ]
    }
   ],
   "source": [
    "demo 1 : equiv "
   ]
  },
  {
   "cell_type": "code",
   "execution_count": 4,
   "id": "0b962841-63ca-4f65-bc9f-ae128b9858f3",
   "metadata": {},
   "outputs": [
    {
     "name": "stdout",
     "output_type": "stream",
     "text": []
    }
   ],
   "source": [
    "def f : {count:get 1?:B}"
   ]
  },
  {
   "cell_type": "code",
   "execution_count": 10,
   "id": "e065d5f8-35cf-4f66-b9c6-77003284f0c8",
   "metadata": {},
   "outputs": [
    {
     "name": "stdout",
     "output_type": "stream",
     "text": [
      "abcdef 123456 a b cc dd ee fg fgh"
     ]
    }
   ],
   "source": [
    "get bin : collect f : abcdef 123456 a b cc dd ee fgh fg "
   ]
  },
  {
   "cell_type": "code",
   "execution_count": 6,
   "id": "3e13dfad-26d4-45ee-9df5-6b09a76ab9d8",
   "metadata": {},
   "outputs": [
    {
     "name": "stdout",
     "output_type": "stream",
     "text": [
      "1 1 2 2 2 3 2"
     ]
    }
   ],
   "source": [
    "ap f : a b cc dd ee fgh fg "
   ]
  },
  {
   "cell_type": "code",
   "execution_count": null,
   "id": "c454912e-a39b-46a9-8edc-91e70bcde97d",
   "metadata": {},
   "outputs": [],
   "source": []
  }
 ],
 "metadata": {
  "kernelspec": {
   "display_name": "coda",
   "language": "",
   "name": "coda"
  },
  "language_info": {
   "file_extension": ".co",
   "mimetype": "text/plain",
   "name": "Any text"
  }
 },
 "nbformat": 4,
 "nbformat_minor": 5
}
