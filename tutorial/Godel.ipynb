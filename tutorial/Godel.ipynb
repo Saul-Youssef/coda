{
 "cells": [
  {
   "cell_type": "markdown",
   "id": "66e8cc46-f3ed-4ef3-85e1-a2a24637a9cf",
   "metadata": {},
   "source": [
    "## The Liar Paradox "
   ]
  },
  {
   "cell_type": "code",
   "execution_count": 1,
   "id": "8512b4af-9053-47ea-8d32-37dc6031ff1f",
   "metadata": {},
   "outputs": [
    {
     "name": "stdout",
     "output_type": "stream",
     "text": []
    }
   ],
   "source": [
    "let I_am_false? : (^:I_am_false?)"
   ]
  },
  {
   "cell_type": "code",
   "execution_count": 2,
   "id": "228e0345-0a7a-4b6e-96c7-9c5406c1ec00",
   "metadata": {},
   "outputs": [
    {
     "name": "stdout",
     "output_type": "stream",
     "text": [
      "[ 0] (^:(?:I_am_false))\n",
      "[ 1] (^:(^:(?:I_am_false)))\n",
      "[ 2] (^:(^:(^:(?:I_am_false))))\n",
      "[ 3] (^:(^:(^:(^:(?:I_am_false)))))\n",
      "[ 4] (^:(^:(^:(^:(^:(?:I_am_false))))))\n",
      "[ 5] (^:(^:(^:(^:(^:(^:(?:I_am_false)))))))\n",
      "[ 6] (^:(^:(^:(^:(^:(^:(^:(?:I_am_false))))))))\n",
      "[ 7] (^:(^:(^:(^:(^:(^:(^:(^:(?:I_am_false)))))))))\n",
      "[ 8] (^:(^:(^:(^:(^:(^:(^:(^:(^:(?:I_am_false))))))))))\n",
      "[ 9] (^:(^:(^:(^:(^:(^:(^:(^:(^:(^:(?:I_am_false)))))))))))\n",
      "[10] (^:(^:(^:(^:(^:(^:(^:(^:(^:(^:(^:(?:I_am_false))))))))))))"
     ]
    }
   ],
   "source": [
    "step 10 : I_am_false?"
   ]
  },
  {
   "cell_type": "code",
   "execution_count": 3,
   "id": "c9cb2f55-68d6-45fa-adfd-f129c9239caa",
   "metadata": {},
   "outputs": [
    {
     "name": "stdout",
     "output_type": "stream",
     "text": []
    }
   ],
   "source": [
    "let I_am_true? : I_am_true?"
   ]
  },
  {
   "cell_type": "code",
   "execution_count": 4,
   "id": "df12dea2-cd51-4f74-9ec8-8a462d43a1fd",
   "metadata": {},
   "outputs": [
    {
     "name": "stdout",
     "output_type": "stream",
     "text": [
      "[0] (?:I_am_true)"
     ]
    }
   ],
   "source": [
    "step 10 : I_am_true?"
   ]
  },
  {
   "cell_type": "code",
   "execution_count": 5,
   "id": "cc35e4e3-4c07-4bba-86d2-f204916a12ae",
   "metadata": {},
   "outputs": [
    {
     "name": "stdout",
     "output_type": "stream",
     "text": [
      "(= (^:(^:(^:(^:(^:(^:(^:(^:(^:(^:(^:(^:(^:(^:(^:(^:(^:(^:(^:(^:(^:(^:(^:(^:(^:(^:(^:(^:(^:(^:(^:(^:(^:(^:(^:(^:(^:(^:(^:(^:(^:(^:(^:(^:(^:(^:(^:(^:(^:(^:(^:(^:(^:(^:(^:(^:(^:(^:(^:(^:(^:(^:(^:(^:(^:(^:(^:(^:(^:(^:(^:(^:(^:(^:(^:(^:(^:(^:(^:(^:(^:(^:(^:(^:(^:(^:(^:(^:(^:(^:(^:(^:(^:(^:(^:(^:(^:(^:(?:I_am_false))))))))))))))))))))))))))))))))))))))))))))))))))))))))))))))))))))))))))))))))))))))))))))))))))):)"
     ]
    }
   ],
   "source": [
    "I_am_false?=()"
   ]
  },
  {
   "cell_type": "code",
   "execution_count": 6,
   "id": "e79a4676-8433-4c19-b331-90a31400668f",
   "metadata": {},
   "outputs": [
    {
     "name": "stdout",
     "output_type": "stream",
     "text": [
      "[0] (?:x)"
     ]
    }
   ],
   "source": [
    "step 10 : x?"
   ]
  },
  {
   "cell_type": "code",
   "execution_count": 7,
   "id": "e6b14fdd-0e0f-486d-80b5-bc85f4da8a30",
   "metadata": {},
   "outputs": [
    {
     "name": "stdout",
     "output_type": "stream",
     "text": [
      "\u001b[;1mcode:\u001b[0m\n",
      "    \u001b[34;7mcodes\u001b[0m\n",
      "\u001b[;1mmodule:\u001b[0m\n",
      "    Code\n",
      "\u001b[;1msummary:\u001b[0m\n",
      "    Get all codes up to argument specified length\n",
      "\u001b[;1mdescription:\u001b[0m\n",
      "    with input alphabet.\n",
      "\u001b[;1mpath:\u001b[0m\n",
      "    /Users/youssef/coda/py/Code.py\n",
      "\u001b[;1mdemos:\u001b[0m\n",
      "    1. \u001b[35;4mcodes 3 : a b c\u001b[0m\n"
     ]
    }
   ],
   "source": [
    "help : codes"
   ]
  },
  {
   "cell_type": "markdown",
   "id": "93c0a9db-05a8-4440-90b6-637af9a680df",
   "metadata": {},
   "source": [
    "## Berry's Paradox\n",
    "\n",
    "sup n : app {ex n : first: B:} : codes : 43"
   ]
  },
  {
   "cell_type": "markdown",
   "id": "b645f0c5-d0bd-4d24-b1ae-c411309ee972",
   "metadata": {},
   "source": [
    "## Yablo's Paradox\n",
    "\n",
    "def Yablo : {Yablo : nat1 : first : B}"
   ]
  },
  {
   "cell_type": "code",
   "execution_count": 8,
   "id": "dcf44d05-6a89-4572-a4a9-849c0ad6b7f4",
   "metadata": {},
   "outputs": [
    {
     "name": "stdout",
     "output_type": "stream",
     "text": []
    }
   ],
   "source": [
    "def Yablo : {ap ^ : Yablo : skip 1 : nat : nat1 : B} "
   ]
  },
  {
   "cell_type": "code",
   "execution_count": 11,
   "id": "14b5eb99-1de8-447c-a0c9-450e01d24cca",
   "metadata": {},
   "outputs": [
    {
     "name": "stdout",
     "output_type": "stream",
     "text": [
      "[ 0] (({Yablo}:):({1}:))\n",
      "[ 1] ({ap ^ : Yablo : skip 1 : nat : nat1 : B}:1)\n",
      "[ 2] (({ap ^ }:1):({ Yablo : skip 1 : nat : nat1 : B}:1))\n",
      "[ 3] (({ap ^}:1):({Yablo : skip 1 : nat : nat1 : B}:1))\n",
      "[ 4] (({ap}:1) ({^}:1):(({Yablo }:1):({ skip 1 : nat : nat1 : B}:1)))\n",
      "[ 5] (ap ^:(({Yablo}:1):({skip 1 : nat : nat1 : B}:1))) (ap ^:)\n",
      "[ 6] (ap ^:({ap ^ : Yablo : skip 1 : nat : nat1 : B}:(({skip 1 }:1):({ nat : nat1 : B}:1)))) (ap ^:)\n",
      "[ 7] (ap ^:(({ap ^ }:(({skip 1}:1):({nat : nat1 : B}:1))):({ Yablo : skip 1 : nat : nat1 : B}:(({skip 1}:1):({nat : nat1 : B}:1))))) (ap ^:)\n",
      "[ 8] (ap ^:(({ap ^}:(({skip}:1) ({1}:1):(({nat }:1):({ nat1 : B}:1)))):({Yablo : skip 1 : nat : nat1 : B}:(({skip}:1) ({1}:1):(({nat }:1):({ nat1 : B}:1)))))) (ap ^:)\n",
      "[ 9] (ap ^:(({ap}:(skip 1:(({nat}:1):({nat1 : B}:1)))) ({^}:(skip 1:(({nat}:1):({nat1 : B}:1)))):(({Yablo }:(skip 1:(({nat}:1):({nat1 : B}:1)))):({ skip 1 : nat : nat1 : B}:(skip 1:(({nat}:1):({nat1 : B}:1))))))) (ap ^:)\n",
      "[10] (ap ^:(ap ^:(({Yablo}:(skip 1:(nat:(({nat1 }:1):({ B}:1))))):({skip 1 : nat : nat1 : B}:(skip 1:(nat:(({nat1 }:1):({ B}:1)))))))) (ap ^:(ap ^:))\n",
      "[11] (ap ^:(ap ^:({ap ^ : Yablo : skip 1 : nat : nat1 : B}:(({skip 1 }:(skip 1:(nat:(({nat1}:1):({B}:1))))):({ nat : nat1 : B}:(skip 1:(nat:(({nat1}:1):({B}:1))))))))) (ap ^:(ap ^:))\n",
      "[12] (ap ^:(ap ^:(({ap ^ }:(({skip 1}:(skip 1:1 (nat:2))):({nat : nat1 : B}:(skip 1:1 (nat:2))))):({ Yablo : skip 1 : nat : nat1 : B}:(({skip 1}:(skip 1:1 (nat:2))):({nat : nat1 : B}:(skip 1:1 (nat:2)))))))) (ap ^:(ap ^:))\n",
      "[13] (ap ^:(ap ^:(({ap ^}:(({skip}:(skip 1:1 2 (nat:3))) ({1}:(skip 1:1 2 (nat:3))):(({nat }:(skip 1:1 2 (nat:3))):({ nat1 : B}:(skip 1:1 2 (nat:3)))))):({Yablo : skip 1 : nat : nat1 : B}:(({skip}:(skip 1:1 2 (nat:3))) ({1}:(skip 1:1 2 (nat:3))):(({nat }:(skip 1:1 2 (nat:3))):({ nat1 : B}:(skip 1:1 2 (nat:3))))))))) (ap ^:(ap ^:))\n",
      "[14] (ap ^:(ap ^:(({ap}:(skip 1:(({nat}:(skip 1:1 2 3 (nat:4))):({nat1 : B}:(skip 1:1 2 3 (nat:4)))))) ({^}:(skip 1:(({nat}:(skip 1:1 2 3 (nat:4))):({nat1 : B}:(skip 1:1 2 3 (nat:4)))))):(({Yablo }:(skip 1:(({nat}:(skip 1:1 2 3 (nat:4))):({nat1 : B}:(skip 1:1 2 3 (nat:4)))))):({ skip 1 : nat : nat1 : B}:(skip 1:(({nat}:(skip 1:1 2 3 (nat:4))):({nat1 : B}:(skip 1:1 2 3 (nat:4)))))))))) (ap ^:(ap ^:))\n",
      "[15] (ap ^:(ap ^:(ap ^:(({Yablo}:(skip 1:(nat:(({nat1 }:(skip 1:1 2 3 4 (nat:5))):({ B}:(skip 1:1 2 3 4 (nat:5))))))):({skip 1 : nat : nat1 : B}:(skip 1:(nat:(({nat1 }:(skip 1:1 2 3 4 (nat:5))):({ B}:(skip 1:1 2 3 4 (nat:5))))))))))) (ap ^:(ap ^:(ap ^:)))"
     ]
    }
   ],
   "source": [
    "step 15 : Yablo : 1"
   ]
  },
  {
   "cell_type": "markdown",
   "id": "ab68bfdc-1b41-4c3f-a0c0-a15d21409ae0",
   "metadata": {},
   "source": [
    "## Is Mathematics Consistent?\n",
    "\n",
    "(coda : x?) (^ : coda : x?) "
   ]
  },
  {
   "cell_type": "markdown",
   "id": "37b25ebe-5fd8-4986-bed9-c80cc2733717",
   "metadata": {},
   "source": [
    "## What are the right axioms?  \n",
    "\n",
    "rev : rev : x? = x? "
   ]
  }
 ],
 "metadata": {
  "kernelspec": {
   "display_name": "coda",
   "language": "",
   "name": "coda"
  },
  "language_info": {
   "file_extension": ".co",
   "mimetype": "text/plain",
   "name": "Any text"
  }
 },
 "nbformat": 4,
 "nbformat_minor": 5
}
