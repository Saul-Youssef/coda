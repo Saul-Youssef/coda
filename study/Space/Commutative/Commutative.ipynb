{
 "cells": [
  {
   "cell_type": "code",
   "execution_count": 1,
   "id": "42f50922-f63d-4500-ad5d-eddce50f9a40",
   "metadata": {},
   "outputs": [
    {
     "name": "stdout",
     "output_type": "stream",
     "text": []
    }
   ],
   "source": [
    "import : dir co : up : ."
   ]
  },
  {
   "cell_type": "code",
   "execution_count": 2,
   "id": "bb858da6-18fd-4b04-a93e-b944167e544a",
   "metadata": {},
   "outputs": [
    {
     "name": "stdout",
     "output_type": "stream",
     "text": [
      "2\n",
      "4"
     ]
    }
   ],
   "source": [
    "count : theorem (commutative:ap pass) : (:a b) (:a a)\n",
    "count : theorem (commutative2:rev) : (:a b) (:a a)"
   ]
  },
  {
   "cell_type": "code",
   "execution_count": 3,
   "id": "c264b8d6-da67-4760-8931-2119e76ab2f5",
   "metadata": {},
   "outputs": [
    {
     "name": "stdout",
     "output_type": "stream",
     "text": [
      "(with:(bin ap pass:2)) (with:(bin rev:2))"
     ]
    }
   ],
   "source": [
    "ap {eval 100 : with : (bin (get:B) : count : theorem (commutative:get:B) : A)} (:a b) (:a a) : (:ap pass) (:rev) "
   ]
  },
  {
   "cell_type": "code",
   "execution_count": 4,
   "id": "7fe4e7a4-a405-4f9a-875a-b807b41540fb",
   "metadata": {},
   "outputs": [
    {
     "name": "stdout",
     "output_type": "stream",
     "text": []
    }
   ],
   "source": [
    "Def Test1 : ap {eval 100 : with : (bin (get:B) : count : theorem (commutative:get:B) : A)}"
   ]
  },
  {
   "cell_type": "code",
   "execution_count": 5,
   "id": "1c77a757-748a-41e3-81c1-8fc50c3d481a",
   "metadata": {},
   "outputs": [
    {
     "name": "stdout",
     "output_type": "stream",
     "text": []
    }
   ],
   "source": [
    "Def Test2 : ap {eval 100 : with : (bin (get:B) : count : theorem (commutative2:get:B) : A)}"
   ]
  },
  {
   "cell_type": "code",
   "execution_count": null,
   "id": "9ed3cadd-0bc4-48de-9a96-12b02200105f",
   "metadata": {},
   "outputs": [],
   "source": [
    "Test2 (:a b) (:a a) : (:ap pass) (:rev) "
   ]
  },
  {
   "cell_type": "code",
   "execution_count": null,
   "id": "053271b2-a2ea-406c-a586-e38d3f848e81",
   "metadata": {},
   "outputs": [],
   "source": [
    "S0?"
   ]
  },
  {
   "cell_type": "code",
   "execution_count": null,
   "id": "108b413b-5d78-4eb6-b068-014c3c408bd8",
   "metadata": {},
   "outputs": [],
   "source": [
    "Let R0 : Test2 S0? : T0?"
   ]
  },
  {
   "cell_type": "code",
   "execution_count": null,
   "id": "1ce263c1-0d98-4eec-add3-4a4d0613f1c4",
   "metadata": {},
   "outputs": [],
   "source": [
    "R0?"
   ]
  },
  {
   "cell_type": "code",
   "execution_count": null,
   "id": "8baf0cbc-a64f-48c8-bfab-58d0b73adb52",
   "metadata": {},
   "outputs": [],
   "source": [
    "Let R1 : Test2 S0? : T1?"
   ]
  },
  {
   "cell_type": "code",
   "execution_count": null,
   "id": "5dc5fc32-f19a-4aac-b715-fe799fb57753",
   "metadata": {},
   "outputs": [],
   "source": [
    "R1?"
   ]
  },
  {
   "cell_type": "code",
   "execution_count": null,
   "id": "06e3213b-c3a7-4b15-9d38-f9dee614c08b",
   "metadata": {},
   "outputs": [],
   "source": [
    "Let R2 : Test2 S0? : T2?"
   ]
  },
  {
   "cell_type": "code",
   "execution_count": null,
   "id": "427412ff-9788-40b2-bd93-a04018c4d1b9",
   "metadata": {},
   "outputs": [],
   "source": [
    "R2?"
   ]
  }
 ],
 "metadata": {
  "kernelspec": {
   "display_name": "coda",
   "language": "",
   "name": "coda"
  },
  "language_info": {
   "file_extension": ".co",
   "mimetype": "text/plain",
   "name": "Any text"
  }
 },
 "nbformat": 4,
 "nbformat_minor": 5
}
