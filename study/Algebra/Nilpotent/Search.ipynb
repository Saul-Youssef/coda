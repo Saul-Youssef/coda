{
 "cells": [
  {
   "cell_type": "code",
   "execution_count": 1,
   "id": "9ea37cc3-a039-45da-a3fc-8a0b59fe890e",
   "metadata": {},
   "outputs": [
    {
     "name": "stdout",
     "output_type": "stream",
     "text": [
      "(defaultTime:100)"
     ]
    }
   ],
   "source": [
    "defaultTime:100"
   ]
  },
  {
   "cell_type": "code",
   "execution_count": 2,
   "id": "9ce3383e-ec47-4f1f-9d72-3c97376095d2",
   "metadata": {},
   "outputs": [
    {
     "name": "stdout",
     "output_type": "stream",
     "text": []
    }
   ],
   "source": [
    "log: eval "
   ]
  },
  {
   "cell_type": "code",
   "execution_count": 3,
   "id": "235a755d-3995-4073-9910-288cf254b1fd",
   "metadata": {},
   "outputs": [
    {
     "name": "stdout",
     "output_type": "stream",
     "text": []
    }
   ],
   "source": [
    "import : dir co : up : up : ."
   ]
  },
  {
   "cell_type": "code",
   "execution_count": 4,
   "id": "559fb966-2ad3-4611-a604-b3cfa9063b6f",
   "metadata": {},
   "outputs": [
    {
     "name": "stdout",
     "output_type": "stream",
     "text": [
      "((Q:):(x:))"
     ]
    }
   ],
   "source": [
    "nilpotent:Q?"
   ]
  },
  {
   "cell_type": "code",
   "execution_count": 5,
   "id": "8f3906a1-e596-44ed-8b36-c9a0bb4b3ad1",
   "metadata": {},
   "outputs": [
    {
     "name": "stdout",
     "output_type": "stream",
     "text": [
      "eval> creation, max seconds:100, max GB:2\n",
      "21"
     ]
    }
   ],
   "source": [
    "property nilpotent {rev:B} : S5?"
   ]
  },
  {
   "cell_type": "markdown",
   "id": "1f9275ab-8fa7-4fa5-affa-c7b174ffebed",
   "metadata": {},
   "source": [
    "Search for nilpotents from C0, basic commands.\n",
    "First level: use the S6 sample."
   ]
  },
  {
   "cell_type": "code",
   "execution_count": 6,
   "id": "bf49446d-d497-4d9c-a2b2-c54fd3c597da",
   "metadata": {},
   "outputs": [
    {
     "name": "stdout",
     "output_type": "stream",
     "text": [
      "(:a) (:b) (:a b) ◎ (:1) (:2) (:bin) (:(bin a:x)) (:(bin b:y))"
     ]
    }
   ],
   "source": [
    "S6?"
   ]
  },
  {
   "cell_type": "code",
   "execution_count": 7,
   "id": "f2104b0c-e552-427c-a29f-c6548eca3ead",
   "metadata": {},
   "outputs": [
    {
     "name": "stdout",
     "output_type": "stream",
     "text": [
      "eval> creation, max seconds:100, max GB:2\n",
      "8"
     ]
    }
   ],
   "source": [
    "property nilpotent {rev:B} : S6?"
   ]
  },
  {
   "cell_type": "code",
   "execution_count": null,
   "id": "d248f71d-6fc2-4086-a6ff-6893db1d0a0e",
   "metadata": {},
   "outputs": [],
   "source": [
    "ap {(bin (get:B) : property nilpotent (get:B) : S6?)} : (:{rev:B}) "
   ]
  },
  {
   "cell_type": "code",
   "execution_count": 8,
   "id": "3dbb02c7-2f83-450b-9a62-4a9d17092f3e",
   "metadata": {},
   "outputs": [
    {
     "name": "stdout",
     "output_type": "stream",
     "text": []
    }
   ],
   "source": [
    "Def nilS6 : ap {(bin (get:B) : property nilpotent (get:B) : S6?)}"
   ]
  },
  {
   "cell_type": "code",
   "execution_count": 9,
   "id": "43a755b7-8c7e-4575-962a-6bf54338b870",
   "metadata": {},
   "outputs": [
    {
     "name": "stdout",
     "output_type": "stream",
     "text": [
      "eval> creation, max seconds:100, max GB:2\n",
      "eval> creation, max seconds:100, max GB:2\n",
      "(bin {rev:B}:8) (bin {null:B}:0)"
     ]
    }
   ],
   "source": [
    "nilS6 : (:{rev:B}) (:{null:B}) "
   ]
  },
  {
   "cell_type": "code",
   "execution_count": 10,
   "id": "b6fa209d-72d5-4f96-b0f7-972deee86cab",
   "metadata": {},
   "outputs": [
    {
     "name": "stdout",
     "output_type": "stream",
     "text": [
      "(defaultTime:1000)"
     ]
    }
   ],
   "source": [
    "defaultTime:1000"
   ]
  },
  {
   "cell_type": "code",
   "execution_count": 11,
   "id": "fa77a7c5-4b57-4fed-85fe-8b834c88c0fe",
   "metadata": {
    "collapsed": true,
    "jupyter": {
     "outputs_hidden": true
    },
    "tags": []
   },
   "outputs": [
    {
     "name": "stdout",
     "output_type": "stream",
     "text": [
      "eval> creation, max seconds:3600.0, max GB:2.0\n",
      "eval> creation, max seconds:100, max GB:2\n",
      "eval> creation, max seconds:100, max GB:2\n",
      "eval> creation, max seconds:100, max GB:2\n",
      "eval> creation, max seconds:100, max GB:2\n",
      "eval> creation, max seconds:100, max GB:2\n",
      "eval> creation, max seconds:100, max GB:2\n",
      "eval> creation, max seconds:100, max GB:2\n",
      "eval> creation, max seconds:100, max GB:2\n",
      "eval> creation, max seconds:100, max GB:2\n",
      "eval> creation, max seconds:100, max GB:2\n",
      "eval> creation, max seconds:100, max GB:2\n",
      "eval> creation, max seconds:100, max GB:2\n",
      "eval> creation, max seconds:100, max GB:2\n",
      "eval> creation, max seconds:100, max GB:2\n",
      "eval> creation, max seconds:100, max GB:2\n",
      "eval> creation, max seconds:100, max GB:2\n",
      "eval> creation, max seconds:100, max GB:2\n",
      "eval> creation, max seconds:100, max GB:2\n",
      "eval> creation, max seconds:100, max GB:2\n",
      "eval> creation, max seconds:100, max GB:2\n",
      "eval> creation, max seconds:100, max GB:2\n",
      "eval> creation, max seconds:100, max GB:2\n",
      "eval> creation, max seconds:100, max GB:2\n",
      "eval> creation, max seconds:100, max GB:2\n",
      "eval> creation, max seconds:100, max GB:2\n",
      "eval> creation, max seconds:100, max GB:2\n",
      "eval> creation, max seconds:100, max GB:2\n",
      "eval> creation, max seconds:100, max GB:2\n",
      "eval> creation, max seconds:100, max GB:2\n",
      "eval> creation, max seconds:100, max GB:2\n",
      "eval> creation, max seconds:100, max GB:2\n",
      "eval> creation, max seconds:100, max GB:2\n",
      "eval> creation, max seconds:100, max GB:2\n",
      "eval> creation, max seconds:100, max GB:2\n",
      "eval> creation, max seconds:100, max GB:2\n",
      "eval> creation, max seconds:100, max GB:2\n",
      "eval> creation, max seconds:100, max GB:2\n",
      "eval> creation, max seconds:100, max GB:2\n",
      "eval> creation, max seconds:100, max GB:2\n",
      "eval> creation, max seconds:100, max GB:2\n",
      "eval> creation, max seconds:100, max GB:2\n",
      "eval> creation, max seconds:100, max GB:2\n",
      "eval> creation, max seconds:100, max GB:2\n",
      "eval> creation, max seconds:100, max GB:2\n",
      "eval> creation, max seconds:100, max GB:2\n",
      "eval> creation, max seconds:100, max GB:2\n",
      "eval> creation, max seconds:100, max GB:2\n",
      "eval> creation, max seconds:100, max GB:2\n",
      "eval> creation, max seconds:100, max GB:2\n",
      "eval> creation, max seconds:100, max GB:2\n",
      "eval> creation, max seconds:100, max GB:2\n",
      "eval> creation, max seconds:100, max GB:2\n",
      "eval> creation, max seconds:100, max GB:2\n",
      "eval> creation, max seconds:100, max GB:2\n",
      "eval> creation, max seconds:100, max GB:2\n",
      "eval> creation, max seconds:100, max GB:2\n",
      "eval> creation, max seconds:100, max GB:2\n",
      "eval> creation, max seconds:100, max GB:2\n",
      "eval> creation, max seconds:100, max GB:2\n"
     ]
    }
   ],
   "source": [
    "out C0-S6 3600 : nilS6 : C0?:"
   ]
  },
  {
   "cell_type": "code",
   "execution_count": 12,
   "id": "e6f6b5da-acd9-4d48-af1d-a75fdc641665",
   "metadata": {},
   "outputs": [
    {
     "name": "stdout",
     "output_type": "stream",
     "text": [
      "(bin 7552:) (bin 59:bin) (bin 5118:◎) (bin 177:𝝞) (bin 549:𝟬)"
     ]
    }
   ],
   "source": [
    "stat : C0-S6"
   ]
  },
  {
   "cell_type": "code",
   "execution_count": 13,
   "id": "20794bf3-c00a-43eb-b713-86b7174e212c",
   "metadata": {},
   "outputs": [
    {
     "name": "stdout",
     "output_type": "stream",
     "text": [
      "59"
     ]
    }
   ],
   "source": [
    "count : in stable : C0-S6"
   ]
  },
  {
   "cell_type": "code",
   "execution_count": 14,
   "id": "147a5162-3bfa-49d7-a2f7-59cff32b9012",
   "metadata": {
    "collapsed": true,
    "jupyter": {
     "outputs_hidden": true
    },
    "tags": []
   },
   "outputs": [
    {
     "name": "stdout",
     "output_type": "stream",
     "text": [
      "eval> creation, max seconds:3600.0, max GB:2.0\n",
      "eval> creation, max seconds:100, max GB:2\n",
      "eval> creation, max seconds:100, max GB:2\n",
      "eval> creation, max seconds:100, max GB:2\n",
      "eval> creation, max seconds:100, max GB:2\n",
      "eval> creation, max seconds:100, max GB:2\n",
      "eval> creation, max seconds:100, max GB:2\n",
      "eval> creation, max seconds:100, max GB:2\n",
      "eval> creation, max seconds:100, max GB:2\n",
      "eval> creation, max seconds:100, max GB:2\n",
      "eval> creation, max seconds:100, max GB:2\n",
      "eval> creation, max seconds:100, max GB:2\n",
      "eval> creation, max seconds:100, max GB:2\n",
      "eval> creation, max seconds:100, max GB:2\n",
      "eval> creation, max seconds:100, max GB:2\n",
      "eval> creation, max seconds:100, max GB:2\n",
      "eval> creation, max seconds:100, max GB:2\n",
      "eval> creation, max seconds:100, max GB:2\n",
      "eval> creation, max seconds:100, max GB:2\n",
      "eval> creation, max seconds:100, max GB:2\n",
      "eval> creation, max seconds:100, max GB:2\n",
      "eval> creation, max seconds:100, max GB:2\n",
      "eval> creation, max seconds:100, max GB:2\n",
      "eval> creation, max seconds:100, max GB:2\n",
      "eval> creation, max seconds:100, max GB:2\n",
      "eval> creation, max seconds:100, max GB:2\n",
      "eval> creation, max seconds:100, max GB:2\n",
      "eval> creation, max seconds:100, max GB:2\n",
      "eval> creation, max seconds:100, max GB:2\n",
      "eval> creation, max seconds:100, max GB:2\n",
      "eval> creation, max seconds:100, max GB:2\n",
      "eval> creation, max seconds:100, max GB:2\n",
      "eval> creation, max seconds:100, max GB:2\n",
      "eval> creation, max seconds:100, max GB:2\n",
      "eval> creation, max seconds:100, max GB:2\n",
      "eval> creation, max seconds:100, max GB:2\n",
      "eval> creation, max seconds:100, max GB:2\n",
      "eval> creation, max seconds:100, max GB:2\n",
      "eval> creation, max seconds:100, max GB:2\n",
      "eval> creation, max seconds:100, max GB:2\n",
      "eval> creation, max seconds:100, max GB:2\n",
      "eval> creation, max seconds:100, max GB:2\n",
      "eval> creation, max seconds:100, max GB:2\n",
      "eval> creation, max seconds:100, max GB:2\n",
      "eval> creation, max seconds:100, max GB:2\n",
      "eval> creation, max seconds:100, max GB:2\n",
      "eval> creation, max seconds:100, max GB:2\n",
      "eval> creation, max seconds:100, max GB:2\n",
      "eval> creation, max seconds:100, max GB:2\n",
      "eval> creation, max seconds:100, max GB:2\n",
      "eval> creation, max seconds:100, max GB:2\n",
      "eval> creation, max seconds:100, max GB:2\n",
      "eval> creation, max seconds:100, max GB:2\n",
      "eval> creation, max seconds:100, max GB:2\n",
      "eval> creation, max seconds:100, max GB:2\n",
      "eval> creation, max seconds:100, max GB:2\n",
      "eval> creation, max seconds:100, max GB:2\n",
      "eval> creation, max seconds:100, max GB:2\n",
      "eval> creation, max seconds:100, max GB:2\n",
      "eval> creation, max seconds:100, max GB:2\n",
      "eval> creation, max seconds:100, max GB:2\n",
      "eval> creation, max seconds:100, max GB:2\n",
      "eval> creation, max seconds:100, max GB:2\n",
      "eval> creation, max seconds:100, max GB:2\n",
      "eval> creation, max seconds:100, max GB:2\n",
      "eval> creation, max seconds:100, max GB:2\n",
      "eval> creation, max seconds:100, max GB:2\n",
      "eval> creation, max seconds:100, max GB:2\n",
      "eval> creation, max seconds:100, max GB:2\n",
      "eval> creation, max seconds:100, max GB:2\n",
      "eval> creation, max seconds:100, max GB:2\n",
      "eval> creation, max seconds:100, max GB:2\n",
      "eval> creation, max seconds:100, max GB:2\n",
      "eval> creation, max seconds:100, max GB:2\n",
      "eval> creation, max seconds:100, max GB:2\n",
      "eval> creation, max seconds:100, max GB:2\n",
      "eval> creation, max seconds:100, max GB:2\n",
      "eval> creation, max seconds:100, max GB:2\n",
      "eval> creation, max seconds:100, max GB:2\n",
      "eval> creation, max seconds:100, max GB:2\n",
      "eval> creation, max seconds:100, max GB:2\n",
      "eval> creation, max seconds:100, max GB:2\n",
      "eval> creation, max seconds:100, max GB:2\n",
      "eval> creation, max seconds:100, max GB:2\n",
      "eval> creation, max seconds:100, max GB:2\n",
      "eval> creation, max seconds:100, max GB:2\n",
      "eval> creation, max seconds:100, max GB:2\n",
      "eval> creation, max seconds:100, max GB:2\n",
      "eval> creation, max seconds:100, max GB:2\n",
      "eval> creation, max seconds:100, max GB:2\n",
      "eval> creation, max seconds:100, max GB:2\n",
      "eval> creation, max seconds:100, max GB:2\n",
      "eval> creation, max seconds:100, max GB:2\n",
      "eval> creation, max seconds:100, max GB:2\n",
      "eval> creation, max seconds:100, max GB:2\n",
      "eval> creation, max seconds:100, max GB:2\n",
      "eval> creation, max seconds:100, max GB:2\n",
      "eval> creation, max seconds:100, max GB:2\n",
      "eval> creation, max seconds:100, max GB:2\n",
      "eval> creation, max seconds:100, max GB:2\n",
      "eval> creation, max seconds:100, max GB:2\n"
     ]
    }
   ],
   "source": [
    "out C2-S6.sample 3600 : nilS6 : first 100 : C2? :"
   ]
  },
  {
   "cell_type": "code",
   "execution_count": 15,
   "id": "e9d12330-4aeb-4f96-946b-1b06e3222b63",
   "metadata": {},
   "outputs": [
    {
     "name": "stdout",
     "output_type": "stream",
     "text": [
      "(bin 61160:) (bin 11:(bin a:x)) (bin 11:(bin b:y)) (bin 9:0) (bin 47:1) (bin 11:2) (bin 27:A) (bin 27:B) (bin 31:a) (bin 65:b) (bin 162:bin) (bin 257:bool) (bin 31:count) (bin 18:{) (bin 41739:◎) (bin 1392:𝝞) (bin 4483:𝟬)"
     ]
    }
   ],
   "source": [
    "stat : C2-S6.sample "
   ]
  },
  {
   "cell_type": "code",
   "execution_count": 16,
   "id": "84956da9-bd73-49f2-b0de-98b72bfd9a56",
   "metadata": {},
   "outputs": [
    {
     "name": "stdout",
     "output_type": "stream",
     "text": [
      "(bin const {hasnt B}:1) (bin hasnt {domain B}:8) (bin {right : B} hasnt:8) (bin {star : B} left:9) (bin nif put:8) (bin isnt nif:8) (bin star 1:9) (bin put {B right}:9) (bin star {B null}:9) (bin {B is} isnt:9) (bin domain B:8) (bin {domain B} get:9) (bin {isnt B} domain:9) (bin {right : B} null:8) (bin right {star : B}:8) (bin star plus:9) (bin {const : B} pass:0) (bin pass hasnt:8) (bin nif {domain : B}:8) (bin {B if} nif:9) (bin star {B arg}:9) (bin {plus B}:9) (bin domain {put B}:8) (bin {B hasnt} arg:9) (bin nif {get : B}:8) (bin {null : B} null:0) (bin null {1 B}:0) (bin star {B sum}:9) (bin {B plus} nif:9) (bin bin {B : plus}:9) (bin nif {if B}:8) (bin plus {nif : B}:9) (bin {B if} bin:9) (bin {B left} sum:9) (bin get nif:0) (bin {domain B} b:9) (bin {B nif} null:9) (bin nif pass:8) (bin is {if B}:0) (bin {domain : B} put:8) (bin {B star} prod:9) (bin pass {B b}:8) (bin put:9) (bin null {pass B}:0) (bin {nif B} bin:9) (bin {sum B} b:9) (bin arg {B a}:2) (bin {star : B} 0:9) (bin {B 1} A:9) (bin const {B left}:1) (bin get {isnt : B}:0) (bin nif {B : if}:8) (bin if {B : a}:0) (bin has {B if}:0) (bin arg {1 : B}:2) (bin has isnt:0) (bin domain {B const}:8) (bin left {B 0}:8) (bin if {B const}:0) (bin {nif B} null:9) (bin {hasnt : B} if:8) (bin pass {b : B}:8) (bin domain {B : right}:8) (bin {B domain} a:9) (bin arg const:2) (bin {if B} put:9) (bin {isnt B} a:9) (bin isnt {B domain}:8) (bin null {star : B}:0)"
     ]
    }
   ],
   "source": [
    "in stable : C2-S6.sample"
   ]
  },
  {
   "cell_type": "code",
   "execution_count": null,
   "id": "aed9491c-f8d6-4b00-8f4f-c5b80a330908",
   "metadata": {},
   "outputs": [],
   "source": []
  }
 ],
 "metadata": {
  "kernelspec": {
   "display_name": "coda",
   "language": "",
   "name": "coda"
  },
  "language_info": {
   "file_extension": ".co",
   "mimetype": "text/plain",
   "name": "Any text"
  }
 },
 "nbformat": 4,
 "nbformat_minor": 5
}
