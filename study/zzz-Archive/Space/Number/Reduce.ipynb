{
 "cells": [
  {
   "cell_type": "code",
   "execution_count": 1,
   "id": "7f31988a-07a9-4f8f-a0a1-4dfed016bc20",
   "metadata": {
    "tags": []
   },
   "outputs": [
    {
     "name": "stdout",
     "output_type": "stream",
     "text": []
    }
   ],
   "source": [
    "import : dir co : up : ."
   ]
  },
  {
   "cell_type": "code",
   "execution_count": 2,
   "id": "fa81e601-a35e-43bd-ab6a-b71b8f79f76d",
   "metadata": {},
   "outputs": [
    {
     "name": "stdout",
     "output_type": "stream",
     "text": []
    }
   ],
   "source": [
    "Let Dom1 : permutation 3 : | @ \n",
    "Let Dom2 : permutation 4 : | @ "
   ]
  },
  {
   "cell_type": "code",
   "execution_count": 3,
   "id": "c1591fa5-a975-4e62-bcb8-3f1d021e974e",
   "metadata": {},
   "outputs": [
    {
     "name": "stdout",
     "output_type": "stream",
     "text": [
      "1 (:null)\n",
      "2 (:pass) (:first 100)"
     ]
    }
   ],
   "source": [
    "table : classify Dom1? : (:null) (:pass) (:first 100)"
   ]
  },
  {
   "cell_type": "code",
   "execution_count": 6,
   "id": "0ac77aea-3a6d-4526-a147-efdadeaa4ff2",
   "metadata": {},
   "outputs": [
    {
     "name": "stdout",
     "output_type": "stream",
     "text": [
      "Time Apply Text Algebra Sequence Search Source Define Number Import Natural Log Logic Classify Basic IO Help Evaluate Collect  Path Variable Morphism Sample Language"
     ]
    }
   ],
   "source": [
    "once : module : defs:"
   ]
  },
  {
   "cell_type": "code",
   "execution_count": 7,
   "id": "af2711bf-12c6-4e81-acd4-2bbb50f9d81b",
   "metadata": {},
   "outputs": [
    {
     "name": "stdout",
     "output_type": "stream",
     "text": [
      "8 (:arg) (:co) (:get) (:has) (:is) (:nif) (:null) (:sum)\n",
      "1 (:bin)\n",
      "2 (:domain) (:left)\n",
      "5 (:hasnt) (:if) (:isnt) (:pass) (:prod)\n",
      "1 (:plus)\n",
      "1 (:put)\n",
      "1 (:right)\n",
      "1 (:star)"
     ]
    }
   ],
   "source": [
    "table : classify Dom1? : by : defs : Basic "
   ]
  },
  {
   "cell_type": "code",
   "execution_count": 8,
   "id": "4c0a39a0-ae7a-43a3-93e2-4ccf403afde9",
   "metadata": {
    "collapsed": true,
    "jupyter": {
     "outputs_hidden": true
    },
    "tags": []
   },
   "outputs": [
    {
     "name": "stdout",
     "output_type": "stream",
     "text": [
      "(table:(ap {bin (count:right:B):right:B}:(collect:(bin (:(:|) (:|) (:|)) (:(:|) (:|) (:@)) (:(:|) (:@) (:|)) (:(:|) (:@) (:@)) (:(:@) (:|) (:|)) (:(:@) (:|) (:@)) (:(:@) (:@) (:|)) (:(:@) (:@) (:@)):(:ap)) (bin ◎ ◎ ◎ ◎ ◎ ◎ ◎ ◎:(:aq)) (bin ◎ ◎ ◎ ◎ ◎ ◎ ◎ ◎:(:ar)) (bin (:(|:(|:|))) (:(|:(|:@))) (:(|:(@:|))) (:(|:(@:@))) (:(@:(|:|))) (:(@:(|:@))) (:(@:(@:|))) (:(@:(@:@))):(:as)) (bin ◎ ◎ ◎ ◎ ◎ ◎ ◎ ◎:(:ker)) (bin ◎ ◎ ◎ ◎ ◎ ◎ ◎ ◎:(:kernel)) (bin (:(some (if (equal:) (equal (:(:| | |)):(:| | |)):(:(:(:(:(:(:| | |))))))):(some (if (equal ({(A:B)}:(:(:(:(:(:(:(:| | |)))))))):({B}:(:(:(:(:(:(:(:| | |))))))))):(:(:(:(:(:(:(:| | |)))))))):(({some (if ((A:B)=B):B) }:(:(:(:(:(:(:(:(:| | |))))))))):({ while A : A : B}:(:(:(:(:(:(:(:(:| | |))))))))))))) (:(some (if (equal:) (equal (:(:| | @)):(:| | @)):(:(:(:(:(:(:| | @))))))):(some (if (equal ({(A:B)}:(:(:(:(:(:(:(:| | @)))))))):({B}:(:(:(:(:(:(:(:| | @))))))))):(:(:(:(:(:(:(:| | @)))))))):(({some (if ((A:B)=B):B) }:(:(:(:(:(:(:(:(:| | @))))))))):({ while A : A : B}:(:(:(:(:(:(:(:(:| | @))))))))))))) (:(some (if (equal:) (equal (:(:| @ |)):(:| @ |)):(:(:(:(:(:(:| @ |))))))):(some (if (equal ({(A:B)}:(:(:(:(:(:(:(:| @ |)))))))):({B}:(:(:(:(:(:(:(:| @ |))))))))):(:(:(:(:(:(:(:| @ |)))))))):(({some (if ((A:B)=B):B) }:(:(:(:(:(:(:(:(:| @ |))))))))):({ while A : A : B}:(:(:(:(:(:(:(:(:| @ |))))))))))))) (:(some (if (equal:) (equal (:(:| @ @)):(:| @ @)):(:(:(:(:(:(:| @ @))))))):(some (if (equal ({(A:B)}:(:(:(:(:(:(:(:| @ @)))))))):({B}:(:(:(:(:(:(:(:| @ @))))))))):(:(:(:(:(:(:(:| @ @)))))))):(({some (if ((A:B)=B):B) }:(:(:(:(:(:(:(:(:| @ @))))))))):({ while A : A : B}:(:(:(:(:(:(:(:(:| @ @))))))))))))) (:(some (if (equal:) (equal (:(:@ | |)):(:@ | |)):(:(:(:(:(:(:@ | |))))))):(some (if (equal ({(A:B)}:(:(:(:(:(:(:(:@ | |)))))))):({B}:(:(:(:(:(:(:(:@ | |))))))))):(:(:(:(:(:(:(:@ | |)))))))):(({some (if ((A:B)=B):B) }:(:(:(:(:(:(:(:(:@ | |))))))))):({ while A : A : B}:(:(:(:(:(:(:(:(:@ | |))))))))))))) (:(some (if (equal:) (equal (:(:@ | @)):(:@ | @)):(:(:(:(:(:(:@ | @))))))):(some (if (equal ({(A:B)}:(:(:(:(:(:(:(:@ | @)))))))):({B}:(:(:(:(:(:(:(:@ | @))))))))):(:(:(:(:(:(:(:@ | @)))))))):(({some (if ((A:B)=B):B) }:(:(:(:(:(:(:(:(:@ | @))))))))):({ while A : A : B}:(:(:(:(:(:(:(:(:@ | @))))))))))))) (:(some (if (equal:) (equal (:(:@ @ |)):(:@ @ |)):(:(:(:(:(:(:@ @ |))))))):(some (if (equal ({(A:B)}:(:(:(:(:(:(:(:@ @ |)))))))):({B}:(:(:(:(:(:(:(:@ @ |))))))))):(:(:(:(:(:(:(:@ @ |)))))))):(({some (if ((A:B)=B):B) }:(:(:(:(:(:(:(:(:@ @ |))))))))):({ while A : A : B}:(:(:(:(:(:(:(:(:@ @ |))))))))))))) (:(some (if (equal:) (equal (:(:@ @ @)):(:@ @ @)):(:(:(:(:(:(:@ @ @))))))):(some (if (equal ({(A:B)}:(:(:(:(:(:(:(:@ @ @)))))))):({B}:(:(:(:(:(:(:(:@ @ @))))))))):(:(:(:(:(:(:(:@ @ @)))))))):(({some (if ((A:B)=B):B) }:(:(:(:(:(:(:(:(:@ @ @))))))))):({ while A : A : B}:(:(:(:(:(:(:(:(:@ @ @))))))))))))):(:while)))))"
     ]
    }
   ],
   "source": [
    "table : classify Dom1? : by : defs : Apply"
   ]
  },
  {
   "cell_type": "code",
   "execution_count": 9,
   "id": "8313bde4-eeee-4f22-94a4-0a6d263218a0",
   "metadata": {},
   "outputs": [
    {
     "name": "stdout",
     "output_type": "stream",
     "text": [
      "1 (:by)\n",
      "1 (:count)\n",
      "1 (:first)\n",
      "1 (:last)\n",
      "2 (:nth) (:nth1)\n",
      "1 (:once)\n",
      "3 (:post) (:pre) (:rep)\n",
      "1 (:rev)\n",
      "2 (:skip) (:tail)"
     ]
    }
   ],
   "source": [
    "table : classify Dom1? : by : defs : Sequence"
   ]
  },
  {
   "cell_type": "code",
   "execution_count": 10,
   "id": "5cab1bd2-3ebe-4206-8c64-a2d2e6244fcc",
   "metadata": {},
   "outputs": [
    {
     "name": "stdout",
     "output_type": "stream",
     "text": [
      "(table:(ap {bin (count:right:B):right:B}:(collect:(bin (:| | |) (:@ | |) (:@ | |) (:@ @ |) (:@ | |) (:@ @ |) (:@ @ |) (:@ @ @):(:code_sort)) (bin (:| | |) (:| | @) (:| @ |) (:| @ @) (:@ | |) (:@ | @) (:@ @ |) (:@ @ @):(:float_div)) (bin ◎ ◎ ◎ ◎ ◎ ◎ ◎ ◎:(:float_inv)) (bin ◎ ◎ ◎ ◎ ◎ ◎ ◎ ◎:(:float_max)) (bin ◎ ◎ ◎ ◎ ◎ ◎ ◎ ◎:(:float_min)) (bin (:1.0) (:1.0) (:1.0) (:1.0) (:1.0) (:1.0) (:1.0) (:1.0):(:float_prod)) (bin ◎ ◎ ◎ ◎ ◎ ◎ ◎ ◎:(:float_sort)) (bin (:0.0) (:0.0) (:0.0) (:0.0) (:0.0) (:0.0) (:0.0) (:0.0):(:float_sum)) (bin ◎ ◎ ◎ ◎ ◎ ◎ ◎ ◎:(:floats)) (bin (:| | |) (:| | @) (:| @ |) (:| @ @) (:@ | |) (:@ | @) (:@ @ |) (:@ @ @):(:int_div)) (bin ◎ ◎ ◎ ◎ ◎ ◎ ◎ ◎:(:int_inv)) (bin ◎ ◎ ◎ ◎ ◎ ◎ ◎ ◎:(:int_max)) (bin ◎ ◎ ◎ ◎ ◎ ◎ ◎ ◎:(:int_min)) (bin (:1) (:1) (:1) (:1) (:1) (:1) (:1) (:1):(:int_prod)) (bin ◎ ◎ ◎ ◎ ◎ ◎ ◎ ◎:(:int_sort)) (bin (:0) (:0) (:0) (:0) (:0) (:0) (:0) (:0):(:int_sum)) (bin ◎ ◎ ◎ ◎ ◎ ◎ ◎ ◎:(:ints)) (bin (:(nat:| | |)) (:(nat:| | @)) (:(nat:| @ |)) (:(nat:| @ @)) (:(nat:@ | |)) (:(nat:@ | @)) (:(nat:@ @ |)) (:(nat:@ @ @)):(:nat)) (bin ◎ ◎ ◎ ◎ ◎ ◎ ◎ ◎:(:nats)))))"
     ]
    }
   ],
   "source": [
    "table : classify Dom1? : by : defs : Number "
   ]
  },
  {
   "cell_type": "code",
   "execution_count": 12,
   "id": "67e000c2-7ff6-4b5c-9a5c-7dc57a44def3",
   "metadata": {},
   "outputs": [
    {
     "name": "stdout",
     "output_type": "stream",
     "text": [
      "3 (:=) (:equal) (:some)\n",
      "6 (:and) (:bool) (:iff) (:imply) (:nor) (:xnor)\n",
      "4 (:nand) (:not) (:or) (:xor)"
     ]
    }
   ],
   "source": [
    "table : classify Dom2? : by : defs : Logic "
   ]
  },
  {
   "cell_type": "code",
   "execution_count": 13,
   "id": "2d385220-1995-4c7f-9a00-ca43d774e4a7",
   "metadata": {},
   "outputs": [
    {
     "name": "stdout",
     "output_type": "stream",
     "text": [
      "3 (:=) (:equal) (:some)\n",
      "6 (:and) (:bool) (:iff) (:imply) (:nor) (:xnor)\n",
      "4 (:nand) (:not) (:or) (:xor)"
     ]
    }
   ],
   "source": [
    "table : classify Dom1? : by : defs : Logic "
   ]
  },
  {
   "cell_type": "code",
   "execution_count": 15,
   "id": "0f27b461-1d51-4f05-8597-d5b6ac63ed7c",
   "metadata": {},
   "outputs": [
    {
     "name": "stdout",
     "output_type": "stream",
     "text": [
      "1 𝝞𝟬𝟬𝝞𝟬𝝞𝝞𝝞𝟬𝟬𝝞𝝞𝝞𝟬\n",
      "1 (:𝝞𝟬𝟬𝝞𝟬𝝞𝝞𝝞𝟬𝟬𝝞𝝞𝝞𝟬)\n",
      "1 (:𝝞𝟬𝟬𝝞𝟬𝝞𝝞𝝞𝟬𝟬𝝞𝝞𝝞𝟬 𝝞𝟬𝟬𝝞𝟬𝝞𝝞𝝞𝟬𝟬𝝞𝝞𝝞𝟬)\n",
      "1 (:𝝞𝟬𝟬𝝞𝟬𝝞𝝞𝝞𝟬𝟬𝝞𝝞𝝞𝟬 𝝞𝟬𝟬𝝞𝟬𝝞𝝞𝝞𝟬𝟬𝝞𝝞𝝞𝟬 𝝞𝟬𝟬𝝞𝟬𝝞𝝞𝝞𝟬𝟬𝝞𝝞𝝞𝟬)\n",
      "1 (:𝝞𝟬𝟬𝝞𝟬𝝞𝝞𝝞𝟬𝟬𝝞𝝞𝝞𝟬 𝝞𝟬𝟬𝝞𝟬𝝞𝝞𝝞𝟬𝟬𝝞𝝞𝝞𝟬 𝝞𝟬𝟬𝝞𝟬𝝞𝝞𝝞𝟬𝟬𝝞𝝞𝝞𝟬 𝝞𝟬𝟬𝝞𝟬𝝞𝝞𝝞𝟬𝟬𝝞𝝞𝝞𝟬)\n",
      "3 (:=) (:equal) (:some)\n",
      "6 (:and) (:bool) (:iff) (:imply) (:nor) (:xnor)\n",
      "4 (:nand) (:not) (:or) (:xor)"
     ]
    }
   ],
   "source": [
    "table : classify Dom1? : S1? (by : defs : Logic) "
   ]
  },
  {
   "cell_type": "code",
   "execution_count": null,
   "id": "43e93b79-04df-421a-902e-cfa8cd67447f",
   "metadata": {},
   "outputs": [],
   "source": []
  }
 ],
 "metadata": {
  "kernelspec": {
   "display_name": "coda",
   "language": "",
   "name": "coda"
  },
  "language_info": {
   "file_extension": ".co",
   "mimetype": "text/plain",
   "name": "Any text"
  }
 },
 "nbformat": 4,
 "nbformat_minor": 5
}
