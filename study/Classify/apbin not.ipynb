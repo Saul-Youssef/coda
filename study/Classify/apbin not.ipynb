{
 "cells": [
  {
   "cell_type": "markdown",
   "id": "54daba34-d54f-41ca-b2b8-1887640d1c68",
   "metadata": {},
   "source": [
    "In the OddAtoms notebook, we searched for a classifier for odd and even hydrogen atoms.  One of the three canddiates was `apbin not`, which cleverly separates even and odd atoms.  This notebook is to investigate this further and illuminate global issues with algebra and categories in coda."
   ]
  },
  {
   "cell_type": "code",
   "execution_count": 819,
   "id": "e22be95c-265c-4ab8-ae6e-b62588eef087",
   "metadata": {},
   "outputs": [],
   "source": [
    "from base import * \n",
    "import Generate,Space\n",
    "apbin = data(co('apbin'),co('not'))\n",
    "apbin2 = da('{logic : apbin not : B}')\n",
    "\n",
    "import Evaluate\n",
    "def eval(d): return Evaluate.default(d)\n",
    "\n",
    "def equal(x,y):\n",
    "    return data((da('=')+x)|y)\n",
    "\n",
    "def cat2(c,x): \n",
    "    left = data(c|(x+x))\n",
    "    right = data(c|((c|x)+(c|x))) \n",
    "    return eval(equal(left,right)).empty()\n",
    "\n",
    "def cat3(c,x,y): \n",
    "    left = data(c|(x+y))\n",
    "    right = data(c|((c|x)+(c|y))) \n",
    "    return eval(equal(left,right)).empty()\n"
   ]
  },
  {
   "cell_type": "code",
   "execution_count": 820,
   "id": "f1c4bc5f-919e-4a51-8826-396422f947a0",
   "metadata": {},
   "outputs": [
    {
     "data": {
      "text/plain": [
       "'apbin not'"
      ]
     },
     "execution_count": 820,
     "metadata": {},
     "output_type": "execute_result"
    }
   ],
   "source": [
    "str(apbin)"
   ]
  },
  {
   "cell_type": "code",
   "execution_count": 3,
   "id": "f698c21b-ee38-4c76-a892-5b72177bd001",
   "metadata": {},
   "outputs": [],
   "source": [
    "S = Generate.Gen(Generate.codas,3).space()"
   ]
  },
  {
   "cell_type": "code",
   "execution_count": 4,
   "id": "908b2aa2-24d0-4394-80de-ee1001f6b6e8",
   "metadata": {},
   "outputs": [
    {
     "data": {
      "text/plain": [
       "eval: False, true: 0, false:0, undecided:0, codas:143, datas:11568"
      ]
     },
     "execution_count": 4,
     "metadata": {},
     "output_type": "execute_result"
    }
   ],
   "source": [
    "S"
   ]
  },
  {
   "cell_type": "code",
   "execution_count": 5,
   "id": "bb15ecec-6ef0-4217-975e-da065cded61e",
   "metadata": {
    "collapsed": true,
    "jupyter": {
     "outputs_hidden": true
    },
    "tags": []
   },
   "outputs": [
    {
     "name": "stdout",
     "output_type": "stream",
     "text": [
      "100 ... aaaa\n",
      "200 ... aaaa\n",
      "300 ... aaaa\n",
      "400 ... aaaa\n",
      "500 ... aaaa\n",
      "600 ... aaaa\n",
      "700 ... aaaa\n",
      "800 ... aaaa\n",
      "900 ... aaaa\n",
      "1000 ... aaaa\n",
      "1100 ... aaaa\n",
      "1200 ... aaaa\n",
      "1300 ... aaaa\n",
      "1400 ... aaaa\n",
      "1500 ... aaaa\n",
      "1600 ... aaaa\n",
      "1700 ... aaaa\n",
      "1800 ... aaaa\n",
      "1900 ... aaaa\n",
      "2000 ... aaaa\n",
      "2100 ... aaaa\n",
      "2200 ... aaaa\n",
      "2300 ... aaaa\n",
      "2400 ... aaaa\n",
      "2500 ... aaaa\n",
      "2600 ... aaaa\n",
      "2700 ... aaaa\n",
      "2800 ... aaaa\n",
      "2900 ... aaaa\n",
      "3000 ... aaaa\n",
      "3100 ... aaaa\n",
      "3200 ... aaaa\n",
      "3300 ... aaaa\n",
      "3400 ... aaaa\n",
      "3500 ... aaaa\n",
      "3600 ... aaaa\n",
      "3700 ... aaaa\n",
      "3800 ... aaaa\n",
      "3900 ... aaaa\n",
      "4000 ... aaaa\n",
      "4100 ... aaaa\n",
      "4200 ... aaaa\n",
      "4300 ... aaaa\n",
      "4400 ... aaaa\n",
      "4500 ... aaaa\n",
      "4600 ... aaaa\n",
      "4700 ... aaaa\n",
      "4800 ... aaaa\n",
      "4900 ... aaaa\n",
      "5000 ... aaaa\n",
      "5100 ... aaaa\n",
      "5200 ... aaaa\n",
      "5300 ... aaaa\n",
      "5400 ... aaaa\n",
      "5500 ... aaaa\n",
      "5600 ... aaaa\n",
      "5700 ... aaaa\n",
      "5800 ... aaaa\n",
      "5900 ... aaaa\n",
      "6000 ... aaaa\n",
      "6100 ... aaaa\n",
      "6200 ... aaaa\n",
      "6300 ... aaaa\n",
      "6400 ... aaaa\n",
      "6500 ... aaaa\n",
      "6600 ... aaaa\n",
      "6700 ... aaaa\n",
      "6800 ... aaaa\n",
      "6900 ... aaaa\n",
      "7000 ... aaaa\n",
      "7100 ... aaaa\n",
      "7200 ... aaaa\n",
      "7300 ... aaaa\n",
      "7400 ... aaaa\n",
      "7500 ... aaaa\n",
      "7600 ... aaaa\n",
      "7700 ... aaaa\n",
      "7800 ... aaaa\n",
      "7900 ... aaaa\n",
      "8000 ... aaaa\n",
      "8100 ... aaaa\n",
      "8200 ... aaaa\n",
      "8300 ... aaaa\n",
      "8400 ... aaaa\n",
      "8500 ... aaaa\n",
      "8600 ... aaaa\n",
      "8700 ... aaaa\n",
      "8800 ... aaaa\n",
      "8900 ... aaaa\n",
      "9000 ... aaaa\n",
      "9100 ... aaaa\n",
      "9200 ... aaaa\n",
      "9300 ... aaaa\n",
      "9400 ... aaaa\n",
      "9500 ... aaaa\n",
      "9600 ... aaaa\n",
      "9700 ... aaaa\n",
      "9800 ... aaaa\n",
      "9900 ... aaaa\n",
      "10000 ... aaaa\n",
      "10100 ... aaaa\n",
      "10200 ... aaaa\n",
      "10300 ... aaaa\n",
      "10400 ... aaaa\n",
      "10500 ... aaaa\n",
      "10600 ... aaaa\n",
      "10700 ... aaaa\n",
      "10800 ... aaaa\n",
      "10900 ... aaaa\n",
      "11000 ... aaaa\n",
      "11100 ... aaaa\n",
      "11200 ... aaaa\n",
      "11300 ... aaaa\n",
      "11400 ... aaaa\n",
      "11500 ... aaaa\n"
     ]
    }
   ],
   "source": [
    "S1 = S.subspace_two(cat2,Generate.OddAtoms(2))"
   ]
  },
  {
   "cell_type": "code",
   "execution_count": 6,
   "id": "f7b2a3a7-03f2-482b-9622-8f9436a4d80a",
   "metadata": {},
   "outputs": [
    {
     "data": {
      "text/plain": [
       "eval: False, true: 0, false:0, undecided:0, codas:143, datas:2460"
      ]
     },
     "execution_count": 6,
     "metadata": {},
     "output_type": "execute_result"
    }
   ],
   "source": [
    "S1"
   ]
  },
  {
   "cell_type": "code",
   "execution_count": 821,
   "id": "b239260e-b5d6-4b99-a572-db4bcd6f32a2",
   "metadata": {},
   "outputs": [
    {
     "data": {
      "text/plain": [
       "'{logic : apbin not : B}'"
      ]
     },
     "execution_count": 821,
     "metadata": {},
     "output_type": "execute_result"
    }
   ],
   "source": [
    "str(apbin)\n",
    "str(apbin2)"
   ]
  },
  {
   "cell_type": "code",
   "execution_count": null,
   "id": "ed2d7249-0e09-44d0-a763-8cf06c5e5efa",
   "metadata": {},
   "outputs": [],
   "source": []
  },
  {
   "cell_type": "code",
   "execution_count": 881,
   "id": "1d44efce-7ef7-41b3-99e1-3246c9bd0180",
   "metadata": {},
   "outputs": [
    {
     "name": "stdout",
     "output_type": "stream",
     "text": [
      "True\n"
     ]
    }
   ],
   "source": [
    "x = S1.data_sample(1)[0]\n",
    "Odd = Generate.OddAtoms(2)\n",
    "Oddplus = Odd + Space.Space(*[da('x'),da('y'),da('z')])\n",
    "y = Oddplus.data_sample(1)[0]\n",
    "r = eval(data(apbin|y))\n",
    "print(cat3(apbin2,x,y))"
   ]
  },
  {
   "cell_type": "code",
   "execution_count": 882,
   "id": "95f992c7-6c1c-49dc-83ad-94d3b06d10ee",
   "metadata": {},
   "outputs": [
    {
     "name": "stdout",
     "output_type": "stream",
     "text": [
      "100 ...\n",
      "200 ...\n",
      "300 ...\n",
      "400 ...\n",
      "500 ...\n",
      "600 ...\n",
      "700 ...\n",
      "800 ...\n",
      "900 ...\n",
      "1000 ...\n",
      "1100 ...\n",
      "1200 ...\n",
      "1300 ...\n",
      "1400 ...\n",
      "1500 ...\n",
      "1600 ...\n",
      "1700 ...\n",
      "1800 ...\n",
      "1900 ...\n",
      "2000 ...\n",
      "2100 ...\n",
      "2200 ...\n",
      "2300 ...\n",
      "2400 ...\n",
      "2500 ...\n",
      "2600 ...\n",
      "2700 ...\n",
      "2800 ...\n",
      "2900 ...\n",
      "3000 ...\n",
      "3100 ...\n",
      "3200 ...\n"
     ]
    },
    {
     "ename": "KeyboardInterrupt",
     "evalue": "",
     "output_type": "error",
     "traceback": [
      "\u001b[0;31m---------------------------------------------------------------------------\u001b[0m",
      "\u001b[0;31mKeyboardInterrupt\u001b[0m                         Traceback (most recent call last)",
      "Cell \u001b[0;32mIn[882], line 4\u001b[0m\n\u001b[1;32m      2\u001b[0m \u001b[38;5;28;01mfor\u001b[39;00m s \u001b[38;5;129;01min\u001b[39;00m S1:\n\u001b[1;32m      3\u001b[0m     \u001b[38;5;28;01mfor\u001b[39;00m t \u001b[38;5;129;01min\u001b[39;00m S1:\n\u001b[0;32m----> 4\u001b[0m         L\u001b[38;5;241m.\u001b[39mappend(\u001b[43mcat3\u001b[49m\u001b[43m(\u001b[49m\u001b[43mapbin2\u001b[49m\u001b[43m,\u001b[49m\u001b[43ms\u001b[49m\u001b[43m,\u001b[49m\u001b[43mt\u001b[49m\u001b[43m)\u001b[49m)\n\u001b[1;32m      5\u001b[0m         n \u001b[38;5;241m=\u001b[39m \u001b[38;5;28mlen\u001b[39m(L)\n\u001b[1;32m      6\u001b[0m         \u001b[38;5;28;01mif\u001b[39;00m n\u001b[38;5;241m==\u001b[39m(n\u001b[38;5;241m/\u001b[39m\u001b[38;5;241m/\u001b[39m\u001b[38;5;241m100\u001b[39m)\u001b[38;5;241m*\u001b[39m\u001b[38;5;241m100\u001b[39m: \u001b[38;5;28mprint\u001b[39m (n,\u001b[38;5;124m'\u001b[39m\u001b[38;5;124m...\u001b[39m\u001b[38;5;124m'\u001b[39m)\n",
      "Cell \u001b[0;32mIn[819], line 20\u001b[0m, in \u001b[0;36mcat3\u001b[0;34m(c, x, y)\u001b[0m\n\u001b[1;32m     18\u001b[0m left \u001b[38;5;241m=\u001b[39m data(c\u001b[38;5;241m|\u001b[39m(x\u001b[38;5;241m+\u001b[39my))\n\u001b[1;32m     19\u001b[0m right \u001b[38;5;241m=\u001b[39m data(c\u001b[38;5;241m|\u001b[39m((c\u001b[38;5;241m|\u001b[39mx)\u001b[38;5;241m+\u001b[39m(c\u001b[38;5;241m|\u001b[39my))) \n\u001b[0;32m---> 20\u001b[0m \u001b[38;5;28;01mreturn\u001b[39;00m \u001b[38;5;129;01mnot\u001b[39;00m \u001b[38;5;28;43meval\u001b[39;49m\u001b[43m(\u001b[49m\u001b[43mequal\u001b[49m\u001b[43m(\u001b[49m\u001b[43mleft\u001b[49m\u001b[43m,\u001b[49m\u001b[43mright\u001b[49m\u001b[43m)\u001b[49m\u001b[43m)\u001b[49m\u001b[38;5;241m.\u001b[39matomic()\n",
      "Cell \u001b[0;32mIn[819], line 7\u001b[0m, in \u001b[0;36meval\u001b[0;34m(d)\u001b[0m\n\u001b[0;32m----> 7\u001b[0m \u001b[38;5;28;01mdef\u001b[39;00m \u001b[38;5;21meval\u001b[39m(d): \u001b[38;5;28;01mreturn\u001b[39;00m \u001b[43mEvaluate\u001b[49m\u001b[38;5;241;43m.\u001b[39;49m\u001b[43mdefault\u001b[49m\u001b[43m(\u001b[49m\u001b[43md\u001b[49m\u001b[43m)\u001b[49m\n",
      "File \u001b[0;32m~/coda/py/Evaluate.py:24\u001b[0m, in \u001b[0;36mdefault\u001b[0;34m(D)\u001b[0m\n\u001b[0;32m---> 24\u001b[0m \u001b[38;5;28;01mdef\u001b[39;00m \u001b[38;5;21mdefault\u001b[39m(D): \u001b[38;5;28;01mreturn\u001b[39;00m \u001b[43mdepth\u001b[49m\u001b[43m(\u001b[49m\u001b[43mD\u001b[49m\u001b[43m,\u001b[49m\u001b[43mDEPTH\u001b[49m\u001b[43m)\u001b[49m[\u001b[38;5;241m0\u001b[39m]\n",
      "File \u001b[0;32m~/coda/py/Evaluate.py:12\u001b[0m, in \u001b[0;36mdepth\u001b[0;34m(D, n)\u001b[0m\n\u001b[1;32m     10\u001b[0m D2 \u001b[38;5;241m=\u001b[39m D\u001b[38;5;241m.\u001b[39meval()\n\u001b[1;32m     11\u001b[0m \u001b[38;5;28;01mif\u001b[39;00m D\u001b[38;5;241m==\u001b[39mD2: \u001b[38;5;28;01mreturn\u001b[39;00m D2,n\n\u001b[0;32m---> 12\u001b[0m \u001b[38;5;28;01mreturn\u001b[39;00m \u001b[43mdepth\u001b[49m\u001b[43m(\u001b[49m\u001b[43mD2\u001b[49m\u001b[43m,\u001b[49m\u001b[43mn\u001b[49m\u001b[38;5;241;43m-\u001b[39;49m\u001b[38;5;241;43m1\u001b[39;49m\u001b[43m)\u001b[49m\n",
      "File \u001b[0;32m~/coda/py/Evaluate.py:12\u001b[0m, in \u001b[0;36mdepth\u001b[0;34m(D, n)\u001b[0m\n\u001b[1;32m     10\u001b[0m D2 \u001b[38;5;241m=\u001b[39m D\u001b[38;5;241m.\u001b[39meval()\n\u001b[1;32m     11\u001b[0m \u001b[38;5;28;01mif\u001b[39;00m D\u001b[38;5;241m==\u001b[39mD2: \u001b[38;5;28;01mreturn\u001b[39;00m D2,n\n\u001b[0;32m---> 12\u001b[0m \u001b[38;5;28;01mreturn\u001b[39;00m \u001b[43mdepth\u001b[49m\u001b[43m(\u001b[49m\u001b[43mD2\u001b[49m\u001b[43m,\u001b[49m\u001b[43mn\u001b[49m\u001b[38;5;241;43m-\u001b[39;49m\u001b[38;5;241;43m1\u001b[39;49m\u001b[43m)\u001b[49m\n",
      "File \u001b[0;32m~/coda/py/Evaluate.py:10\u001b[0m, in \u001b[0;36mdepth\u001b[0;34m(D, n)\u001b[0m\n\u001b[1;32m      8\u001b[0m     \u001b[38;5;28;01mreturn\u001b[39;00m D,n\n\u001b[1;32m      9\u001b[0m \u001b[38;5;28;01melse\u001b[39;00m:\n\u001b[0;32m---> 10\u001b[0m     D2 \u001b[38;5;241m=\u001b[39m \u001b[43mD\u001b[49m\u001b[38;5;241;43m.\u001b[39;49m\u001b[43meval\u001b[49m\u001b[43m(\u001b[49m\u001b[43m)\u001b[49m\n\u001b[1;32m     11\u001b[0m     \u001b[38;5;28;01mif\u001b[39;00m D\u001b[38;5;241m==\u001b[39mD2: \u001b[38;5;28;01mreturn\u001b[39;00m D2,n\n\u001b[1;32m     12\u001b[0m     \u001b[38;5;28;01mreturn\u001b[39;00m depth(D2,n\u001b[38;5;241m-\u001b[39m\u001b[38;5;241m1\u001b[39m)\n",
      "File \u001b[0;32m~/coda/py/base.py:71\u001b[0m, in \u001b[0;36mdata.eval\u001b[0;34m(self)\u001b[0m\n\u001b[1;32m     69\u001b[0m R \u001b[38;5;241m=\u001b[39m []\n\u001b[1;32m     70\u001b[0m \u001b[38;5;28;01mfor\u001b[39;00m c \u001b[38;5;129;01min\u001b[39;00m \u001b[38;5;28mself\u001b[39m:\n\u001b[0;32m---> 71\u001b[0m     \u001b[38;5;28;01mfor\u001b[39;00m d \u001b[38;5;129;01min\u001b[39;00m \u001b[43mc\u001b[49m\u001b[38;5;241;43m.\u001b[39;49m\u001b[43meval\u001b[49m\u001b[43m(\u001b[49m\u001b[43m)\u001b[49m: R\u001b[38;5;241m.\u001b[39mappend(d)\n\u001b[1;32m     72\u001b[0m \u001b[38;5;28;01mreturn\u001b[39;00m data(\u001b[38;5;241m*\u001b[39mR)\n",
      "File \u001b[0;32m~/coda/py/base.py:37\u001b[0m, in \u001b[0;36mcoda.eval\u001b[0;34m(self)\u001b[0m\n\u001b[1;32m     35\u001b[0m \u001b[38;5;28;01mdef\u001b[39;00m \u001b[38;5;21meval\u001b[39m(\u001b[38;5;28mself\u001b[39m): \u001b[38;5;66;03m# self -> data, evaluating recursively\u001b[39;00m\n\u001b[1;32m     36\u001b[0m     \u001b[38;5;28;01mif\u001b[39;00m \u001b[38;5;28mself\u001b[39m\u001b[38;5;241m.\u001b[39minvariant(): \u001b[38;5;28;01mreturn\u001b[39;00m data(\u001b[38;5;28mself\u001b[39m)\n\u001b[0;32m---> 37\u001b[0m     c \u001b[38;5;241m=\u001b[39m \u001b[38;5;28;43mself\u001b[39;49m\u001b[38;5;241;43m.\u001b[39;49m\u001b[43mleft\u001b[49m\u001b[43m(\u001b[49m\u001b[43m)\u001b[49m\u001b[38;5;241;43m.\u001b[39;49m\u001b[43meval\u001b[49m\u001b[43m(\u001b[49m\u001b[43m)\u001b[49m\u001b[38;5;241m|\u001b[39m\u001b[38;5;28mself\u001b[39m\u001b[38;5;241m.\u001b[39mright()\u001b[38;5;241m.\u001b[39meval()\n\u001b[1;32m     38\u001b[0m     \u001b[38;5;28;01mif\u001b[39;00m c \u001b[38;5;129;01min\u001b[39;00m CONTEXT: ev \u001b[38;5;241m=\u001b[39m CONTEXT[c](c)\n\u001b[1;32m     39\u001b[0m     \u001b[38;5;28;01melse\u001b[39;00m           : ev \u001b[38;5;241m=\u001b[39m data(c)\n",
      "File \u001b[0;32m~/coda/py/base.py:71\u001b[0m, in \u001b[0;36mdata.eval\u001b[0;34m(self)\u001b[0m\n\u001b[1;32m     69\u001b[0m R \u001b[38;5;241m=\u001b[39m []\n\u001b[1;32m     70\u001b[0m \u001b[38;5;28;01mfor\u001b[39;00m c \u001b[38;5;129;01min\u001b[39;00m \u001b[38;5;28mself\u001b[39m:\n\u001b[0;32m---> 71\u001b[0m     \u001b[38;5;28;01mfor\u001b[39;00m d \u001b[38;5;129;01min\u001b[39;00m \u001b[43mc\u001b[49m\u001b[38;5;241;43m.\u001b[39;49m\u001b[43meval\u001b[49m\u001b[43m(\u001b[49m\u001b[43m)\u001b[49m: R\u001b[38;5;241m.\u001b[39mappend(d)\n\u001b[1;32m     72\u001b[0m \u001b[38;5;28;01mreturn\u001b[39;00m data(\u001b[38;5;241m*\u001b[39mR)\n",
      "File \u001b[0;32m~/coda/py/base.py:37\u001b[0m, in \u001b[0;36mcoda.eval\u001b[0;34m(self)\u001b[0m\n\u001b[1;32m     35\u001b[0m \u001b[38;5;28;01mdef\u001b[39;00m \u001b[38;5;21meval\u001b[39m(\u001b[38;5;28mself\u001b[39m): \u001b[38;5;66;03m# self -> data, evaluating recursively\u001b[39;00m\n\u001b[1;32m     36\u001b[0m     \u001b[38;5;28;01mif\u001b[39;00m \u001b[38;5;28mself\u001b[39m\u001b[38;5;241m.\u001b[39minvariant(): \u001b[38;5;28;01mreturn\u001b[39;00m data(\u001b[38;5;28mself\u001b[39m)\n\u001b[0;32m---> 37\u001b[0m     c \u001b[38;5;241m=\u001b[39m \u001b[38;5;28mself\u001b[39m\u001b[38;5;241m.\u001b[39mleft()\u001b[38;5;241m.\u001b[39meval()\u001b[38;5;241m|\u001b[39m\u001b[38;5;28;43mself\u001b[39;49m\u001b[38;5;241;43m.\u001b[39;49m\u001b[43mright\u001b[49m\u001b[43m(\u001b[49m\u001b[43m)\u001b[49m\u001b[38;5;241;43m.\u001b[39;49m\u001b[43meval\u001b[49m\u001b[43m(\u001b[49m\u001b[43m)\u001b[49m\n\u001b[1;32m     38\u001b[0m     \u001b[38;5;28;01mif\u001b[39;00m c \u001b[38;5;129;01min\u001b[39;00m CONTEXT: ev \u001b[38;5;241m=\u001b[39m CONTEXT[c](c)\n\u001b[1;32m     39\u001b[0m     \u001b[38;5;28;01melse\u001b[39;00m           : ev \u001b[38;5;241m=\u001b[39m data(c)\n",
      "File \u001b[0;32m~/coda/py/base.py:71\u001b[0m, in \u001b[0;36mdata.eval\u001b[0;34m(self)\u001b[0m\n\u001b[1;32m     69\u001b[0m R \u001b[38;5;241m=\u001b[39m []\n\u001b[1;32m     70\u001b[0m \u001b[38;5;28;01mfor\u001b[39;00m c \u001b[38;5;129;01min\u001b[39;00m \u001b[38;5;28mself\u001b[39m:\n\u001b[0;32m---> 71\u001b[0m     \u001b[38;5;28;01mfor\u001b[39;00m d \u001b[38;5;129;01min\u001b[39;00m \u001b[43mc\u001b[49m\u001b[38;5;241;43m.\u001b[39;49m\u001b[43meval\u001b[49m\u001b[43m(\u001b[49m\u001b[43m)\u001b[49m: R\u001b[38;5;241m.\u001b[39mappend(d)\n\u001b[1;32m     72\u001b[0m \u001b[38;5;28;01mreturn\u001b[39;00m data(\u001b[38;5;241m*\u001b[39mR)\n",
      "File \u001b[0;32m~/coda/py/base.py:38\u001b[0m, in \u001b[0;36mcoda.eval\u001b[0;34m(self)\u001b[0m\n\u001b[1;32m     36\u001b[0m \u001b[38;5;28;01mif\u001b[39;00m \u001b[38;5;28mself\u001b[39m\u001b[38;5;241m.\u001b[39minvariant(): \u001b[38;5;28;01mreturn\u001b[39;00m data(\u001b[38;5;28mself\u001b[39m)\n\u001b[1;32m     37\u001b[0m c \u001b[38;5;241m=\u001b[39m \u001b[38;5;28mself\u001b[39m\u001b[38;5;241m.\u001b[39mleft()\u001b[38;5;241m.\u001b[39meval()\u001b[38;5;241m|\u001b[39m\u001b[38;5;28mself\u001b[39m\u001b[38;5;241m.\u001b[39mright()\u001b[38;5;241m.\u001b[39meval()\n\u001b[0;32m---> 38\u001b[0m \u001b[38;5;28;01mif\u001b[39;00m \u001b[43mc\u001b[49m\u001b[43m \u001b[49m\u001b[38;5;129;43;01min\u001b[39;49;00m\u001b[43m \u001b[49m\u001b[43mCONTEXT\u001b[49m: ev \u001b[38;5;241m=\u001b[39m CONTEXT[c](c)\n\u001b[1;32m     39\u001b[0m \u001b[38;5;28;01melse\u001b[39;00m           : ev \u001b[38;5;241m=\u001b[39m data(c)\n\u001b[1;32m     40\u001b[0m CONTEXT\u001b[38;5;241m.\u001b[39mval(\u001b[38;5;28mself\u001b[39m,ev)\n",
      "File \u001b[0;32m~/coda/py/base.py:106\u001b[0m, in \u001b[0;36mDefinitions.__contains__\u001b[0;34m(self, co)\u001b[0m\n\u001b[0;32m--> 106\u001b[0m \u001b[38;5;28;01mdef\u001b[39;00m \u001b[38;5;21m__contains__\u001b[39m(\u001b[38;5;28mself\u001b[39m,co): \u001b[38;5;28;01mreturn\u001b[39;00m \u001b[43mco\u001b[49m\u001b[43m \u001b[49m\u001b[38;5;129;43;01min\u001b[39;49;00m\u001b[43m \u001b[49m\u001b[38;5;28;43mself\u001b[39;49m\u001b[38;5;241;43m.\u001b[39;49m\u001b[43m_value\u001b[49m \u001b[38;5;129;01mor\u001b[39;00m co\u001b[38;5;241m.\u001b[39mdomain() \u001b[38;5;129;01min\u001b[39;00m \u001b[38;5;28mself\u001b[39m\u001b[38;5;241m.\u001b[39m_domain\n",
      "File \u001b[0;32m~/coda/py/base.py:17\u001b[0m, in \u001b[0;36mcoda.__hash__\u001b[0;34m(self)\u001b[0m\n\u001b[0;32m---> 17\u001b[0m \u001b[38;5;28;01mdef\u001b[39;00m \u001b[38;5;21m__hash__\u001b[39m(\u001b[38;5;28mself\u001b[39m): \u001b[38;5;28;01mreturn\u001b[39;00m \u001b[38;5;28;43mhash\u001b[39;49m\u001b[43m(\u001b[49m\u001b[43m(\u001b[49m\u001b[38;5;28;43mself\u001b[39;49m\u001b[38;5;241;43m.\u001b[39;49m\u001b[43m_left\u001b[49m\u001b[43m,\u001b[49m\u001b[38;5;28;43mself\u001b[39;49m\u001b[38;5;241;43m.\u001b[39;49m\u001b[43m_right\u001b[49m\u001b[43m,\u001b[49m\u001b[43m)\u001b[49m\u001b[43m)\u001b[49m\n",
      "File \u001b[0;32m~/coda/py/base.py:52\u001b[0m, in \u001b[0;36mdata.__hash__\u001b[0;34m(self)\u001b[0m\n\u001b[0;32m---> 52\u001b[0m \u001b[38;5;28;01mdef\u001b[39;00m \u001b[38;5;21m__hash__\u001b[39m(\u001b[38;5;28mself\u001b[39m): \u001b[38;5;28;01mreturn\u001b[39;00m \u001b[38;5;28;43mhash\u001b[39;49m\u001b[43m(\u001b[49m\u001b[38;5;28;43mself\u001b[39;49m\u001b[38;5;241;43m.\u001b[39;49m\u001b[43m_coda\u001b[49m\u001b[43m)\u001b[49m\n",
      "File \u001b[0;32m~/coda/py/base.py:17\u001b[0m, in \u001b[0;36mcoda.__hash__\u001b[0;34m(self)\u001b[0m\n\u001b[0;32m---> 17\u001b[0m \u001b[38;5;28;01mdef\u001b[39;00m \u001b[38;5;21m__hash__\u001b[39m(\u001b[38;5;28mself\u001b[39m): \u001b[38;5;28;01mreturn\u001b[39;00m \u001b[38;5;28;43mhash\u001b[39;49m\u001b[43m(\u001b[49m\u001b[43m(\u001b[49m\u001b[38;5;28;43mself\u001b[39;49m\u001b[38;5;241;43m.\u001b[39;49m\u001b[43m_left\u001b[49m\u001b[43m,\u001b[49m\u001b[38;5;28;43mself\u001b[39;49m\u001b[38;5;241;43m.\u001b[39;49m\u001b[43m_right\u001b[49m\u001b[43m,\u001b[49m\u001b[43m)\u001b[49m\u001b[43m)\u001b[49m\n",
      "File \u001b[0;32m~/coda/py/base.py:52\u001b[0m, in \u001b[0;36mdata.__hash__\u001b[0;34m(self)\u001b[0m\n\u001b[0;32m---> 52\u001b[0m \u001b[38;5;28;01mdef\u001b[39;00m \u001b[38;5;21m__hash__\u001b[39m(\u001b[38;5;28mself\u001b[39m): \u001b[38;5;28;01mreturn\u001b[39;00m \u001b[38;5;28;43mhash\u001b[39;49m\u001b[43m(\u001b[49m\u001b[38;5;28;43mself\u001b[39;49m\u001b[38;5;241;43m.\u001b[39;49m\u001b[43m_coda\u001b[49m\u001b[43m)\u001b[49m\n",
      "File \u001b[0;32m~/coda/py/base.py:17\u001b[0m, in \u001b[0;36mcoda.__hash__\u001b[0;34m(self)\u001b[0m\n\u001b[0;32m---> 17\u001b[0m \u001b[38;5;28;01mdef\u001b[39;00m \u001b[38;5;21m__hash__\u001b[39m(\u001b[38;5;28mself\u001b[39m): \u001b[38;5;28;01mreturn\u001b[39;00m \u001b[38;5;28;43mhash\u001b[39;49m\u001b[43m(\u001b[49m\u001b[43m(\u001b[49m\u001b[38;5;28;43mself\u001b[39;49m\u001b[38;5;241;43m.\u001b[39;49m\u001b[43m_left\u001b[49m\u001b[43m,\u001b[49m\u001b[38;5;28;43mself\u001b[39;49m\u001b[38;5;241;43m.\u001b[39;49m\u001b[43m_right\u001b[49m\u001b[43m,\u001b[49m\u001b[43m)\u001b[49m\u001b[43m)\u001b[49m\n",
      "File \u001b[0;32m~/coda/py/base.py:52\u001b[0m, in \u001b[0;36mdata.__hash__\u001b[0;34m(self)\u001b[0m\n\u001b[0;32m---> 52\u001b[0m \u001b[38;5;28;01mdef\u001b[39;00m \u001b[38;5;21m__hash__\u001b[39m(\u001b[38;5;28mself\u001b[39m): \u001b[38;5;28;01mreturn\u001b[39;00m \u001b[38;5;28;43mhash\u001b[39;49m\u001b[43m(\u001b[49m\u001b[38;5;28;43mself\u001b[39;49m\u001b[38;5;241;43m.\u001b[39;49m\u001b[43m_coda\u001b[49m\u001b[43m)\u001b[49m\n",
      "File \u001b[0;32m~/coda/py/base.py:17\u001b[0m, in \u001b[0;36mcoda.__hash__\u001b[0;34m(self)\u001b[0m\n\u001b[0;32m---> 17\u001b[0m \u001b[38;5;28;01mdef\u001b[39;00m \u001b[38;5;21m__hash__\u001b[39m(\u001b[38;5;28mself\u001b[39m): \u001b[38;5;28;01mreturn\u001b[39;00m \u001b[38;5;28mhash\u001b[39m((\u001b[38;5;28mself\u001b[39m\u001b[38;5;241m.\u001b[39m_left,\u001b[38;5;28mself\u001b[39m\u001b[38;5;241m.\u001b[39m_right,))\n",
      "\u001b[0;31mKeyboardInterrupt\u001b[0m: "
     ]
    }
   ],
   "source": [
    "L = []\n",
    "for s in S1:\n",
    "    for t in S1:\n",
    "        L.append(cat3(apbin2,s,t))\n",
    "        n = len(L)\n",
    "        if n==(n//100)*100: print (n,'...')\n"
   ]
  },
  {
   "cell_type": "code",
   "execution_count": null,
   "id": "bf1e2ce8-8a92-4bfb-8db3-0413de8c75db",
   "metadata": {},
   "outputs": [],
   "source": []
  }
 ],
 "metadata": {
  "kernelspec": {
   "display_name": "Python 3 (ipykernel)",
   "language": "python",
   "name": "python3"
  },
  "language_info": {
   "codemirror_mode": {
    "name": "ipython",
    "version": 3
   },
   "file_extension": ".py",
   "mimetype": "text/x-python",
   "name": "python",
   "nbconvert_exporter": "python",
   "pygments_lexer": "ipython3",
   "version": "3.10.7"
  }
 },
 "nbformat": 4,
 "nbformat_minor": 5
}
