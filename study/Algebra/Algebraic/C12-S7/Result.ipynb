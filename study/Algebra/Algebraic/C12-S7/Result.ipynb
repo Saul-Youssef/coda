{
 "cells": [
  {
   "cell_type": "code",
   "execution_count": 1,
   "id": "378206a6-9836-404b-9860-951f140df58a",
   "metadata": {},
   "outputs": [
    {
     "name": "stdout",
     "output_type": "stream",
     "text": [
      "(defaultTime:1000)"
     ]
    }
   ],
   "source": [
    "defaultTime:1000"
   ]
  },
  {
   "cell_type": "code",
   "execution_count": 2,
   "id": "a486d054-2d2d-42e6-9575-47ac7e241f67",
   "metadata": {},
   "outputs": [
    {
     "name": "stdout",
     "output_type": "stream",
     "text": []
    }
   ],
   "source": [
    "import : dir co : up : up : up : ."
   ]
  },
  {
   "cell_type": "code",
   "execution_count": 3,
   "id": "0c25f99a-13a4-4f08-b4ce-a5334e1baa60",
   "metadata": {},
   "outputs": [
    {
     "name": "stdout",
     "output_type": "stream",
     "text": [
      "(equal ((XXX:):(x:)):((XXX:):(rev:(x:))))"
     ]
    }
   ],
   "source": [
    "algebraic_L1:XXX?"
   ]
  },
  {
   "cell_type": "code",
   "execution_count": null,
   "id": "ed261105-0dba-4aa7-880f-814582f01e1d",
   "metadata": {},
   "outputs": [],
   "source": [
    "S7?"
   ]
  },
  {
   "cell_type": "code",
   "execution_count": 4,
   "id": "67f0ac4b-5983-445b-a599-ec61301fc30a",
   "metadata": {},
   "outputs": [
    {
     "name": "stdout",
     "output_type": "stream",
     "text": [
      "6056"
     ]
    }
   ],
   "source": [
    "count : C2?:"
   ]
  },
  {
   "cell_type": "code",
   "execution_count": null,
   "id": "49aa12ba-f077-4fe6-b58f-2735bbf350c0",
   "metadata": {},
   "outputs": [],
   "source": [
    "tab : dom 100 : property algebraic_L1 (:0 1) (:1 0) (:) : C2? : "
   ]
  },
  {
   "cell_type": "code",
   "execution_count": null,
   "id": "cbd7dccf-5c3d-45b4-bc89-903f4f03b81b",
   "metadata": {},
   "outputs": [],
   "source": []
  }
 ],
 "metadata": {
  "kernelspec": {
   "display_name": "coda",
   "language": "",
   "name": "coda"
  },
  "language_info": {
   "file_extension": ".co",
   "mimetype": "text/plain",
   "name": "Any text"
  }
 },
 "nbformat": 4,
 "nbformat_minor": 5
}
