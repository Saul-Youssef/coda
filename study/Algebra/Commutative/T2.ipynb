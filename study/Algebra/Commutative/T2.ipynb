{
 "cells": [
  {
   "cell_type": "code",
   "execution_count": 1,
   "id": "edfa456f-064d-4efa-a779-ab65f6fd9e2a",
   "metadata": {},
   "outputs": [
    {
     "name": "stdout",
     "output_type": "stream",
     "text": []
    }
   ],
   "source": [
    "import : dir co : up . : up : ."
   ]
  },
  {
   "cell_type": "code",
   "execution_count": 2,
   "id": "a166a5f9-9976-47e6-af7d-6a597ba55154",
   "metadata": {},
   "outputs": [
    {
     "name": "stdout",
     "output_type": "stream",
     "text": []
    }
   ],
   "source": [
    "Def Test1 : {put bin (get:B) : count : bool : theorem (commutative:(get:B)) : A}\n",
    "Def TEST1 : {multi : ap {with:Test1 A:B} A : B} \n",
    "Def Test : {put bin (get:B) : count : bool : theorem (commutative:(get:B)) : A}\n",
    "Def TEST : {multi : ap {with:Test A:B} A : B} "
   ]
  },
  {
   "cell_type": "code",
   "execution_count": 3,
   "id": "ab7f1462-8c4c-43ee-96a9-8729e7e7f38e",
   "metadata": {},
   "outputs": [
    {
     "name": "stdout",
     "output_type": "stream",
     "text": []
    }
   ],
   "source": [
    "out T2-S0-com1-sample : TEST1 S0? : first 100 : T2?"
   ]
  },
  {
   "cell_type": "code",
   "execution_count": null,
   "id": "af28532e-5c2d-4ea6-aae6-c0437b92cf71",
   "metadata": {},
   "outputs": [],
   "source": []
  }
 ],
 "metadata": {
  "kernelspec": {
   "display_name": "coda",
   "language": "",
   "name": "coda"
  },
  "language_info": {
   "file_extension": ".co",
   "mimetype": "text/plain",
   "name": "Any text"
  }
 },
 "nbformat": 4,
 "nbformat_minor": 5
}
