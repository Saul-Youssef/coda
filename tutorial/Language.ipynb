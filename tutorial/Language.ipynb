{
 "cells": [
  {
   "cell_type": "markdown",
   "id": "6c303e90-85f2-4dba-853f-dfa51abbe4a0",
   "metadata": {},
   "source": [
    "## The Language\n",
    "\n",
    "The standard foundations of Mathematics is a **formal theory** consisting of the following. \n",
    "\n",
    "1. Two **alphabets**, one for **special symbols** like \"&forall;\" and \"&exist;\" and another for **variable** names like \"x\", \"y\", \"z\".\n",
    "2. Syntax rules for excluding meaningless sentences like \"∀ x (y:z) ∀ ∀ ∃\", and for defining **free variables** and closed formulas without free variables. \n",
    "3. **Deduction rules** for constructing closed formulas from closed formulas.\n",
    "4. A collection of closed formulas called **axioms**.\n",
    "\n",
    "The axioms are meant to be \"true\" intuitively so that &forall; is supposed to behave like what we think of as \"for all\", etc.  For example, the Zermelo-Fraenkel set theory with the Axiom of Choice (ZFC) has ten axioms.  This is the most often cited foundation of Mathematics meaning that mathematical results should be reducible, in principle, to valid deductions in ZFC. \n",
    "\n",
    "Coda is meant to be an alternative to this as a foundation.  Rather than assuming or using predicate logic syntax, the foundation of Coda is **finite sequence**.  From this, one defines \"pure\" data and coda.  Logic in is then internal, derived and \"2+ valued\", where `()` and `(:)` are the iconic \"true\" and \"false\" valuea and where there are many \"undecided\" data values like `(foo:bar)`.  Coda has only one axiom - it is the axiom that defines what constitutes a valid definition.  The Coda language itself is merely one definition like any other.  This means that we don't need any additional axioms or deduction rules. \n",
    "\n",
    "In Coda, a definition is just a partial function from codas to data.  The Coda language, for instance, is a partial function from coda to data, acting on codas of the form ({...some source code...} A : B) where A and B are any data.  There are essentially only two operations in coda:\n",
    "\n",
    "1. Concatenation of data A and data B, written `A B`.\n",
    "2. Creating a coda from data A and data B, written `A:B`.\n",
    "\n",
    "and the essential idea of the language is to make these two operations specifyable in text string source code ({...some source code...} A : B) and to get programmatic access to the \"A\" data (sometimes called \"argument data\") and the \"B\" data (sometimes called \"input\").  Thus, a sketch of the internal definition is:\n",
    "\n",
    "* `{x : y} A : B` &rightarrow; `({x} A : B) : ({y} A : B)` ..to specify forming a coda from two data \n",
    "* `{x   y} A : B` &rightarrow; `({x} A : B)   ({y} A : B)` ..to specify concatenation of two data \n",
    "* `{A} A : B` &rightarrow; `A` ..to get the \"A part\" of the coda.\n",
    "* `{B} A : B` &rightarrow; `B` ..to get the \"B part\" of the coda.\n",
    "\n",
    "Because the compiler is merely a standard definition, the meaning of the language does not need a special explanation or additional axioms.  We don't even have to define proper syntax.  Coda has the unusual property that all finite sequences of bytes are valid language expressions.  There is no such thing as a syntax error. \n",
    "\n",
    "The full compiler is tiny, easily readable, and can be found in Language.py.  The full compiler and parser is only about 100 lines of Python."
   ]
  },
  {
   "cell_type": "code",
   "execution_count": 2,
   "id": "18c3a276-feb9-4205-9615-c8861cc22f56",
   "metadata": {},
   "outputs": [
    {
     "name": "stdout",
     "output_type": "stream",
     "text": [
      "a b c d e f g"
     ]
    }
   ],
   "source": [
    "#\n",
    "#   Coda uses spaces to denote concatenation and parenthesis to group operations.\n",
    "#   Comment lines must start with # are considered to be comments.\n",
    "#\n",
    "a b (c d) e (f g)"
   ]
  },
  {
   "cell_type": "code",
   "execution_count": 3,
   "id": "089327b3-7318-4b62-9214-0ca0f1b77595",
   "metadata": {},
   "outputs": [
    {
     "name": "stdout",
     "output_type": "stream",
     "text": [
      "3 2 1"
     ]
    }
   ],
   "source": [
    "#\n",
    "#   There are basically two operations: concatenation and colon. here, \n",
    "#   for instance, we reverse the order of 1 2 3 using rev.  This works by first \n",
    "#   creating the coda (rev : 1 2 3).  A definition applies to this coda, which \n",
    "#   results the \"input\" to rev in reverse order 3 2 1.  \n",
    "#\n",
    "rev : 1 2 3 "
   ]
  },
  {
   "cell_type": "code",
   "execution_count": 4,
   "id": "621247e9-81d6-41f0-9833-b6acb8239d8a",
   "metadata": {},
   "outputs": [
    {
     "name": "stdout",
     "output_type": "stream",
     "text": [
      "a b"
     ]
    }
   ],
   "source": [
    "#\n",
    "#   Some \"commands\" like rev have arguments.  first, for example, gets \n",
    "#   the first items from a sequence. \n",
    "#\n",
    "first 2 : a b c d e "
   ]
  },
  {
   "cell_type": "code",
   "execution_count": 5,
   "id": "81bf72d5-31ad-4db3-9011-a72de943512a",
   "metadata": {},
   "outputs": [
    {
     "name": "stdout",
     "output_type": "stream",
     "text": [
      "e d"
     ]
    }
   ],
   "source": [
    "#\n",
    "#   Colons can be combined. The default grouping is from the right.  This is first 2 : (rev : a b c d e).\n",
    "#   (first 2 : rev ) : a b c d e is completely different.  Intuitively, you can think of data flowing \n",
    "#   from the right to the left with a b c d e consumed by rev, and then, the result gets consumed \n",
    "#   by \"first 2:\".\n",
    "#\n",
    "first 2 : rev : a b c d e "
   ]
  },
  {
   "cell_type": "code",
   "execution_count": 6,
   "id": "2bbd88a8-9f33-4414-9f50-dde2697a3db1",
   "metadata": {},
   "outputs": [
    {
     "name": "stdout",
     "output_type": "stream",
     "text": [
      "e d"
     ]
    }
   ],
   "source": [
    "#\n",
    "#   Lines are continued by indentation.\n",
    "#\n",
    "first 2 : rev : a b \n",
    "   c d e"
   ]
  },
  {
   "cell_type": "code",
   "execution_count": 7,
   "id": "18967a58-9362-4a3c-9b67-7adaae9b50aa",
   "metadata": {},
   "outputs": [
    {
     "name": "stdout",
     "output_type": "stream",
     "text": [
      "b a c d e"
     ]
    }
   ],
   "source": [
    "#\n",
    "#   Lines without indentation are the same as (line1) (line2), etc.  \n",
    "#\n",
    "first 2 : rev : a b\n",
    "c d e"
   ]
  },
  {
   "cell_type": "code",
   "execution_count": 8,
   "id": "68edaf1f-9ace-4a1e-8302-98f414fe3db6",
   "metadata": {},
   "outputs": [
    {
     "name": "stdout",
     "output_type": "stream",
     "text": [
      "a b"
     ]
    }
   ],
   "source": [
    "#\n",
    "#   Text in curly braces is interpreted as Coda language expressions.  \"B\" in the language, is a special symbol \n",
    "#   which refers to the \"input\", in this case, the data a b c d e... \n",
    "#\n",
    "{first 2 : B} : a b c d e "
   ]
  },
  {
   "cell_type": "code",
   "execution_count": 9,
   "id": "2ba15323-7e16-448f-9395-a1edcc13b89a",
   "metadata": {},
   "outputs": [
    {
     "name": "stdout",
     "output_type": "stream",
     "text": [
      "1 2 x y 1 2 x y"
     ]
    }
   ],
   "source": [
    "#\n",
    "#   The general language coda is ({...} A : B)  where \"A\" in the language referes to A and \"B\" refers to B.\n",
    "#\n",
    "{A B A B} 1 2 : x y "
   ]
  },
  {
   "cell_type": "code",
   "execution_count": 10,
   "id": "767a86b0-09c2-4f1a-9b19-fb330e1fde82",
   "metadata": {},
   "outputs": [
    {
     "name": "stdout",
     "output_type": "stream",
     "text": [
      "a b"
     ]
    }
   ],
   "source": [
    "#\n",
    "#   So you can do...\n",
    "#\n",
    "{first A : B} 2 : a b c d e "
   ]
  },
  {
   "cell_type": "code",
   "execution_count": 11,
   "id": "2edfc9af-25dd-428f-8291-3dd84df85b10",
   "metadata": {},
   "outputs": [
    {
     "name": "stdout",
     "output_type": "stream",
     "text": [
      "[0] (({{first A : B} 2 }:):({ a b c d e}:))\n",
      "[1] (({{first A : B} 2}:):({a b c d e}:))\n",
      "[2] (({{first A : B}}:) ({2}:):({a}:) ({b c d e}:))\n",
      "[3] (({first A } 2:a ({b}:) ({c d e}:)):({ B} 2:a ({b}:) ({c d e}:)))\n",
      "[4] (({first A} 2:a b ({c}:) ({d e}:)):({B} 2:a b ({c}:) ({d e}:)))\n",
      "[5] (({first} 2:a b c ({d}:) ({e}:)) ({A} 2:a b c ({d}:) ({e}:)):a b c ({d}:) ({e}:))\n",
      "[6] a (first 1:b c d e)\n",
      "[7] a b (first 0:c d e)\n",
      "[8] a b"
     ]
    }
   ],
   "source": [
    "#\n",
    "#   You can use \"step\" to show how this get's evaluated in more detail.  \n",
    "#   Each step below is made by application definitions.  You can see \n",
    "#   that Coda freely mixes data and source code as it computes.  The compiler \n",
    "#   is just a definition like any other.\n",
    "#\n",
    "step : {first A : B} 2 : a b c d e"
   ]
  },
  {
   "cell_type": "code",
   "execution_count": 12,
   "id": "3848d910-f83d-4643-8d83-c091295548b6",
   "metadata": {},
   "outputs": [
    {
     "name": "stdout",
     "output_type": "stream",
     "text": [
      "e d"
     ]
    }
   ],
   "source": [
    "#\n",
    "#   You can use \"def\" to make your own definitions.  This one defines a new \n",
    "#   command \"mydef\" which gets the first n elements from the reversed input. \n",
    "#\n",
    "def mydef : {first A : rev : B} \n",
    "mydef 2 : a b c d e"
   ]
  },
  {
   "cell_type": "code",
   "execution_count": 13,
   "id": "fd4d2b37-9e4e-4a97-9c2c-9b984cafb170",
   "metadata": {},
   "outputs": [
    {
     "name": "stdout",
     "output_type": "stream",
     "text": [
      "(rev:(foo:bar)) 3 2 1"
     ]
    }
   ],
   "source": [
    "#\n",
    "#   Notice how Coda handles \"undecided\" data like (foo:bar) where \n",
    "#   no current definition acts on (foo:...)...\n",
    "#\n",
    "rev : 1 2 3 (foo:bar)"
   ]
  },
  {
   "cell_type": "code",
   "execution_count": 14,
   "id": "0c90b76d-114d-4aca-83db-442e34fb0b60",
   "metadata": {},
   "outputs": [
    {
     "name": "stdout",
     "output_type": "stream",
     "text": [
      "2 1"
     ]
    }
   ],
   "source": [
    "#\n",
    "#   (foo:bar) is treated like a \"variable\", i.e. like something \n",
    "#   that may have a value in the future.  If (foo:bar) gets defined later, \n",
    "#   then (rev:(foo:bar)) 3 2 1 will evaluate to the correct answer while, at the same \n",
    "#   time, current computations will be correct, for instance... \n",
    "#\n",
    "last 2 : rev : 1 2 3 (foo:bar)"
   ]
  },
  {
   "cell_type": "code",
   "execution_count": null,
   "id": "61971247-f99b-48d6-85cf-a1bbecaf9536",
   "metadata": {},
   "outputs": [],
   "source": [
    "#\n",
    "#    Sequences in Coda are always finite sequences, but this isn't \n",
    "#    a real limitation.  The natural numbers, for instance are embodied by \n",
    "#    a definition (nat:n) -> n (nat:n+1).  This means that (nat:0) will get \n",
    "#    evaluated as necessary.  Although this is finite,  \n",
    "#\n",
    "(nat:0)"
   ]
  },
  {
   "cell_type": "code",
   "execution_count": null,
   "id": "2deebc24-da8a-4e9b-9f91-f533f179d4f9",
   "metadata": {},
   "outputs": [],
   "source": [
    "#\n",
    "#    What's the \"reverse of the natural numbers?\".  Let's see... \n",
    "#\n",
    "rev : nat : 0"
   ]
  },
  {
   "cell_type": "code",
   "execution_count": null,
   "id": "5dae37ba-11a4-4923-ab1a-ce06f3b17f9c",
   "metadata": {},
   "outputs": [],
   "source": [
    "#\n",
    "#...And, for example, you can reverse twice to get the original natural numbers back.\n",
    "#\n",
    "rev : rev : nat : 0 "
   ]
  },
  {
   "cell_type": "code",
   "execution_count": null,
   "id": "430be65b-4fdc-4fb9-8592-787cc8175297",
   "metadata": {},
   "outputs": [],
   "source": [
    "#\n",
    "#   Notice, that, as expected, the \"first element of the reverse of the \n",
    "#   natural numbers\" is not defined.  Yet, the last element is perfectly OK.\n",
    "#\n",
    "last : rev : nat : 0 "
   ]
  },
  {
   "cell_type": "code",
   "execution_count": null,
   "id": "f88b8497-164c-4ad5-838c-1919de28b674",
   "metadata": {
    "tags": []
   },
   "outputs": [],
   "source": [
    "#\n",
    "#   defs: produces a list of current definitions in context and \n",
    "#   help : first, etc. gives help information and demos which \n",
    "#   you can execute by hand or via the \"demo\" command.\n",
    "#\n",
    "help : first"
   ]
  },
  {
   "cell_type": "code",
   "execution_count": null,
   "id": "2f8a6b0d-98e2-4a3e-aec1-68d7f7de1fcf",
   "metadata": {},
   "outputs": [],
   "source": [
    "demo 4 : first "
   ]
  },
  {
   "cell_type": "markdown",
   "id": "b3a3bd7c-9505-4dde-bd8a-593e9d26bb32",
   "metadata": {},
   "source": [
    "### Combinatorics \n",
    "\n",
    "Any system of reasoning must contain undefined terms.  In the case of Coda, the **finite sequence** is the foundational concept that is assumed to be understood without definition.  It's pleasing and expected, then, that the low level operations in Coda are things are the natural low level combinatorial operations on finite sequences.  We've looked at two of these as simple examples:\n",
    "\n",
    "* `rev` reverses the order of a sequence. \n",
    "* `first` gets the first n items of a sequence. \n",
    "\n",
    "Some of the most important operations are combinatorics of the form (name A:B) where A gets used in various combinatoric ways on B.  The most important one of these is called `ap`.  The idea is that something like this \n",
    "\n",
    "* `ap A : b1 b2 b3...bn`\n",
    "\n",
    "is defined to be \"A applied to each b1,...bn\".  It's defined to be (A:b1) (A:b2)...(A:bn).  The actual definition of ap is \n",
    "\n",
    "* `ap A : B C -> (ap A:B) (ap A:C)`\n",
    "* `ap A : B -> (A:B)` if B is an atom \n",
    "* `ap A : () -> ()` \n",
    "\n",
    "which is the same idea, applicable to all \"input\" data (B) and all \"arguments\" (A).  Coda has a collection of these named definitions built into the system.  They are all simple combinations of the three ingredients``(name A : B)`.  These are basic definitions underlying many of the more familiar mathematical objects built on top.  As far as I know, these don't have conventional names, so we are forced into naming them.\n",
    "\n",
    "| coda | schematic result |\n",
    "|------|------------|\n",
    "|  `ap` A:b1 b2 b3  | (A:b1) (A:b2) (A:b3) |\n",
    "|  `app` a1 a2 a3:B | (a1:B) (a2:B) (a3:B) |\n",
    "| `ap2` a a1 a2 a3:B | (a a1:b1) (a a2:b2) (a a3:b3)  |\n",
    "| `apbin` A:b1 b2 b3 | (A b1 : (A b2 : (A b3 : b4) ) )  |\n",
    "| `apby` 2 A:b1 b2 b3 b4... | (A:b1 b2) (A:b2 b3)... |\n",
    "| `apif` A:b1 b2... |  (b1..if (A:b1)) (b2..if (A:b2))...| \n",
    "\n",
    "We will do a few examples below.  Each has a help entry and examples which can be run in the notebook or command line.  Although the names are not familiar, they are so simple that an example or two is an effective way to learn them. "
   ]
  },
  {
   "cell_type": "code",
   "execution_count": null,
   "id": "b3045196-cd46-43de-bf69-dffb23a799c9",
   "metadata": {},
   "outputs": [],
   "source": [
    "#\n",
    "#   Each has a help entry with examples.\n",
    "#   You can run the demos by hand or with the demo command. \n",
    "#\n",
    "help : ap"
   ]
  },
  {
   "cell_type": "code",
   "execution_count": null,
   "id": "5637a2ab-9e2c-4388-ab91-1f9c4f803b8c",
   "metadata": {},
   "outputs": [],
   "source": [
    "ap {foo : B} : 1 2 3 "
   ]
  },
  {
   "cell_type": "markdown",
   "id": "35d91414-4165-4344-8985-739802adafb9",
   "metadata": {},
   "source": [
    "There are several variations on `ap` \n",
    "* `app` turns a binary operation into it's sequential version.\n",
    "* `apx` applies all arguments to all inputs. \n"
   ]
  },
  {
   "cell_type": "code",
   "execution_count": null,
   "id": "f480f278-df9d-4bc6-b6f7-12280d34c143",
   "metadata": {},
   "outputs": [],
   "source": [
    "foo : 1 2 3 4 "
   ]
  },
  {
   "cell_type": "code",
   "execution_count": null,
   "id": "d330e8f8-afb4-4d7d-bc5b-545fbfac2fa2",
   "metadata": {},
   "outputs": [],
   "source": [
    "ap foo : a b c"
   ]
  },
  {
   "cell_type": "code",
   "execution_count": null,
   "id": "0954eb7e-9d07-45eb-9283-46188c535489",
   "metadata": {},
   "outputs": [],
   "source": [
    "app a b c : 1 2 3 "
   ]
  },
  {
   "cell_type": "code",
   "execution_count": null,
   "id": "359ef56d-9d58-47c7-820e-8d7071fea131",
   "metadata": {},
   "outputs": [],
   "source": [
    "ap app a b c : 1 2 3 "
   ]
  },
  {
   "cell_type": "code",
   "execution_count": null,
   "id": "00322218-0a3d-4f55-8182-e41c7d378fd0",
   "metadata": {},
   "outputs": [],
   "source": [
    "ap2 a b c : 1 2 3 "
   ]
  },
  {
   "cell_type": "code",
   "execution_count": null,
   "id": "427f4317-d66e-4ead-8686-b2b0b5d94043",
   "metadata": {},
   "outputs": [],
   "source": [
    "ap2 nth1 3 4 : a b c d "
   ]
  },
  {
   "cell_type": "code",
   "execution_count": null,
   "id": "576f3702-0e94-4585-a384-a9948e7bf08a",
   "metadata": {},
   "outputs": [],
   "source": [
    "ap ap2 a b c : 1 2 3 "
   ]
  },
  {
   "cell_type": "code",
   "execution_count": null,
   "id": "864001a3-8ddc-4fc5-b7b8-ac642e670acc",
   "metadata": {},
   "outputs": [],
   "source": [
    "apbin foo : a b c d "
   ]
  },
  {
   "cell_type": "code",
   "execution_count": null,
   "id": "b8700006-0dbe-4156-b89e-940059fa3ac2",
   "metadata": {},
   "outputs": [],
   "source": [
    "#\n",
    "#   apbin is typically used to turn a binary associative operation \n",
    "#   into the equivalent operation on a sequence.  So, for instance, \n",
    "#   (int_add A:B) is the low level binary operation adding A and B as \n",
    "#   integers...\n",
    "#\n",
    "int_add 3 : 5"
   ]
  },
  {
   "cell_type": "code",
   "execution_count": null,
   "id": "afc0e8b0-0ec0-476b-b551-2711023260c4",
   "metadata": {},
   "outputs": [],
   "source": [
    "#\n",
    "#...and apbin turns this into a sequence sum of any number of values.\n",
    "#\n",
    "apbin int_add : 1 2 3 4 5"
   ]
  },
  {
   "cell_type": "code",
   "execution_count": null,
   "id": "34dc525e-15e3-40f1-87b3-bc2d3c7698e9",
   "metadata": {},
   "outputs": [],
   "source": [
    "apby 2 foo : a b c d e f g"
   ]
  },
  {
   "cell_type": "code",
   "execution_count": null,
   "id": "15291405-a06c-4415-9def-bf4c16d3f963",
   "metadata": {},
   "outputs": [],
   "source": [
    "apif {(count:get bin:B)=2} : (bin:a b) (bin:a b c) (bin:x y) (bin:a b c d)"
   ]
  },
  {
   "cell_type": "code",
   "execution_count": null,
   "id": "3c8ac43d-df89-4c53-b232-8913f357f674",
   "metadata": {
    "tags": []
   },
   "outputs": [],
   "source": [
    "#\n",
    "#   A few dozen definitions are built into the system and enter via python modules. \n",
    "#   the rest come from .co coda source code files.\n",
    "#\n",
    "defs:"
   ]
  },
  {
   "cell_type": "code",
   "execution_count": null,
   "id": "e1cf2cce-696b-4cb8-8d8e-b6015f64cada",
   "metadata": {},
   "outputs": [],
   "source": [
    "#\n",
    "#   You can also assign a data values to any undefined coda.  For convenience, \n",
    "#   the compiler takes x? and makes this actually (?:x) to make convenient things that \n",
    "#   look like \"variables\" but are actually codas.  \n",
    "#\n",
    "let x? : 1 2 3 \n",
    "x?"
   ]
  }
 ],
 "metadata": {
  "kernelspec": {
   "display_name": "coda",
   "language": "",
   "name": "coda"
  },
  "language_info": {
   "file_extension": ".co",
   "mimetype": "text/plain",
   "name": "Any text"
  }
 },
 "nbformat": 4,
 "nbformat_minor": 5
}
