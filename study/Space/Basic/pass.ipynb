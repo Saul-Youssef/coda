{
 "cells": [
  {
   "cell_type": "markdown",
   "id": "81bf439d-3f1c-40bb-b845-2cbca027d362",
   "metadata": {},
   "source": [
    "# pass\n",
    "\n",
    "Pass is the foundational space containing all pure data, meaning all mathematical objects including undecided and undecidable data.\n",
    "\n",
    "* Language: pass or {B}\n",
    "* Elements: All data \n",
    "* Operation: Concatenation of input data\n",
    "* Properties: **pass** is a simple distributive space over itself\n",
    "* Endomorphisms: Any data F is an inner endomorphism of **pass** "
   ]
  },
  {
   "cell_type": "code",
   "execution_count": 2,
   "id": "a3ba5d56-36aa-45c0-adc5-e02cc77102f0",
   "metadata": {},
   "outputs": [
    {
     "name": "stdout",
     "output_type": "stream",
     "text": [
      "(X:) (Y:)\n",
      "(X:) (Y:)\n",
      "(X:)\n",
      "(X:)"
     ]
    }
   ],
   "source": [
    "#\n",
    "# proof that pass is a simple space \n",
    "#\n",
    "pass:X? Y?\n",
    "pass:(pass:X?) (pass:Y?)\n",
    "pass:pass:X?\n",
    "pass:X?"
   ]
  },
  {
   "cell_type": "code",
   "execution_count": 8,
   "id": "46028734-0af3-4d01-8250-4941de55baf0",
   "metadata": {},
   "outputs": [
    {
     "name": "stdout",
     "output_type": "stream",
     "text": [
      "(X:) (Y:)\n",
      "(X:) (Y:)"
     ]
    }
   ],
   "source": [
    "#\n",
    "#  proof that pass is distributive \n",
    "#\n",
    "pass:X? Y?\n",
    "(pass:X?) (pass:Y?)"
   ]
  },
  {
   "cell_type": "code",
   "execution_count": 9,
   "id": "535e4413-ffaf-4a56-87e7-b2688456e7e8",
   "metadata": {},
   "outputs": [
    {
     "name": "stdout",
     "output_type": "stream",
     "text": [
      "(Y:)\n",
      "(Y:)"
     ]
    }
   ],
   "source": [
    "#\n",
    "#  proof that pass is simple \n",
    "#\n",
    "pass X?:Y?\n",
    "pass :Y?"
   ]
  },
  {
   "cell_type": "code",
   "execution_count": 7,
   "id": "938569f9-2f06-46bf-bfd3-8ba230fc9e29",
   "metadata": {},
   "outputs": [
    {
     "name": "stdout",
     "output_type": "stream",
     "text": [
      "((F:):(X:))\n",
      "((F:):(X:))\n",
      "((F:):(X:))"
     ]
    }
   ],
   "source": [
    "#\n",
    "#  Any F? is an endomorphisma and all endomorphisms \n",
    "#  are inner endomorphisms.\n",
    "#\n",
    "F?*pass:X?\n",
    "pass*F?:X?\n",
    "pass*F?*pass:X?"
   ]
  },
  {
   "cell_type": "code",
   "execution_count": null,
   "id": "e8be2675-b9c1-44df-bf8f-88e194d4d463",
   "metadata": {},
   "outputs": [],
   "source": []
  }
 ],
 "metadata": {
  "kernelspec": {
   "display_name": "coda",
   "language": "",
   "name": "coda"
  },
  "language_info": {
   "file_extension": ".co",
   "mimetype": "text/plain",
   "name": "Any text"
  }
 },
 "nbformat": 4,
 "nbformat_minor": 5
}
