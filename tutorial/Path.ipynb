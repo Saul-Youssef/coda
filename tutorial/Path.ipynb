{
 "cells": [
  {
   "cell_type": "code",
   "execution_count": 1,
   "id": "5e3c39ae-edfe-499f-ab28-5023629ba822",
   "metadata": {},
   "outputs": [
    {
     "name": "stdout",
     "output_type": "stream",
     "text": [
      "/Users/youssef/coda/tutorial/Volume.ipynb /Users/youssef/coda/tutorial/Numbers.ipynb /Users/youssef/coda/tutorial/Logic.ipynb /Users/youssef/coda/tutorial/Path.ipynb /Users/youssef/coda/tutorial/Proof and Computation.ipynb /Users/youssef/coda/tutorial/Bits_and_bytes.ipynb /Users/youssef/coda/tutorial/Godel.ipynb /Users/youssef/coda/tutorial/Categories.ipynb /Users/youssef/coda/tutorial/.ipynb_checkpoints /Users/youssef/coda/tutorial/Python.ipynb /Users/youssef/coda/tutorial/Making a new type.ipynb /Users/youssef/coda/tutorial/Language.ipynb"
     ]
    }
   ],
   "source": [
    "dir : ."
   ]
  },
  {
   "cell_type": "code",
   "execution_count": 2,
   "id": "d6aec8ac-c3e5-4409-aba7-dbe9e6ae65d1",
   "metadata": {},
   "outputs": [
    {
     "name": "stdout",
     "output_type": "stream",
     "text": [
      "/Users/youssef/work3 /Users/youssef/work4 /Users/youssef/.config /Users/youssef/math.sav.12 /Users/youssef/Music /Users/youssef/Home /Users/youssef/.serverauth.4682 /Users/youssef/work5 /Users/youssef/work2 /Users/youssef/.condarc /Users/youssef/.serverauth.2984 /Users/youssef/.serverauth.489 /Users/youssef/.x2go /Users/youssef/.coda-sav /Users/youssef/.serverauth.361 /Users/youssef/.DS_Store /Users/youssef/.serverauth.366 /Users/youssef/math-attempt /Users/youssef/LICENSE /Users/youssef/.serverauth.1027 /Users/youssef/.CFUserTextEncoding /Users/youssef/.serverauth.3545 /Users/youssef/archive /Users/youssef/.serverauth.735 /Users/youssef/.xonshrc /Users/youssef/.serverauth.562 /Users/youssef/.bashrc /Users/youssef/.zshrc /Users/youssef/math.sav.2 /Users/youssef/math.sav.5 /Users/youssef/.serverauth.3790 /Users/youssef/.serverauth.3964 /Users/youssef/.Xresources /Users/youssef/math.sav.4 /Users/youssef/Pictures /Users/youssef/math.sav.3 /Users/youssef/.serverauth.4974 /Users/youssef/.atom /Users/youssef/.zprofile /Users/youssef/.serverauth.1467 /Users/youssef/.serverauth.606 /Users/youssef/.serverauth.9521 /Users/youssef/.zsh_history /Users/youssef/.ipython /Users/youssef/.serverauth.2937 /Users/youssef/Desktop /Users/youssef/Library /Users/youssef/coda.sav /Users/youssef/.lesshst /Users/youssef/.serverauth.1942 /Users/youssef/.serverauth.631 /Users/youssef/math /Users/youssef/math.sav.11 /Users/youssef/.cups /Users/youssef/.coda /Users/youssef/.bash_sessions /Users/youssef/.serverauth.9766 /Users/youssef/math.sav.10 /Users/youssef/.serverauth.470 /Users/youssef/.serverauth.828 /Users/youssef/Public /Users/youssef/.x2goclient /Users/youssef/math.broken2 /Users/youssef/.tcshrc /Users/youssef/work /Users/youssef/.anaconda /Users/youssef/.ssh /Users/youssef/Movies /Users/youssef/Applications /Users/youssef/.serverauth.955 /Users/youssef/.serverauth.532 /Users/youssef/opt /Users/youssef/.serverauth.963 /Users/youssef/.Trash /Users/youssef/.serverauth.521 /Users/youssef/.jupyter /Users/youssef/.serverauth.517 /Users/youssef/math.sav.8 /Users/youssef/.serverauth.2885 /Users/youssef/Documents /Users/youssef/math.sav.6 /Users/youssef/.serverauth.48036 /Users/youssef/math.sav /Users/youssef/.bash_profile /Users/youssef/math.sav.7 /Users/youssef/.Xauthority /Users/youssef/math.sav.9 /Users/youssef/.serverauth.8911 /Users/youssef/Downloads /Users/youssef/math.broken /Users/youssef/.python_history /Users/youssef/tmp /Users/youssef/.continuum /Users/youssef/.cache /Users/youssef/.serverauth.7214 /Users/youssef/coda.sav.3 /Users/youssef/coda.sav.4 /Users/youssef/.serverauth.1940 /Users/youssef/coda /Users/youssef/.bash_history /Users/youssef/.viminfo /Users/youssef/.zsh_sessions /Users/youssef/.globus /Users/youssef/.serverauth.632 /Users/youssef/.conda /Users/youssef/coda.sav.5 /Users/youssef/.serverauth.659 /Users/youssef/coda.try1 /Users/youssef/.serverauth.5529 /Users/youssef/coda.sav.2"
     ]
    }
   ],
   "source": [
    "dir : ~"
   ]
  },
  {
   "cell_type": "code",
   "execution_count": 3,
   "id": "3c4d32cc-b530-421d-a413-675cfb824cbf",
   "metadata": {},
   "outputs": [
    {
     "name": "stdout",
     "output_type": "stream",
     "text": []
    }
   ],
   "source": [
    "const X : make path : dir : . "
   ]
  },
  {
   "cell_type": "code",
   "execution_count": 4,
   "id": "74378e04-5328-4651-96b7-39ffc4d91aa3",
   "metadata": {},
   "outputs": [
    {
     "name": "stdout",
     "output_type": "stream",
     "text": [
      "12"
     ]
    }
   ],
   "source": [
    "count : X:"
   ]
  },
  {
   "cell_type": "code",
   "execution_count": 5,
   "id": "bbab944a-68fa-49a6-ae5b-5a8edc36c4dd",
   "metadata": {},
   "outputs": [
    {
     "name": "stdout",
     "output_type": "stream",
     "text": [
      "(path:/Users/youssef/coda/tutorial/Volume.ipynb) (path:/Users/youssef/coda/tutorial/Numbers.ipynb) (path:/Users/youssef/coda/tutorial/Logic.ipynb) (path:/Users/youssef/coda/tutorial/Path.ipynb) (path:/Users/youssef/coda/tutorial/Proof and Computation.ipynb) (path:/Users/youssef/coda/tutorial/Bits_and_bytes.ipynb) (path:/Users/youssef/coda/tutorial/Godel.ipynb) (path:/Users/youssef/coda/tutorial/Categories.ipynb) (path:/Users/youssef/coda/tutorial/.ipynb_checkpoints) (path:/Users/youssef/coda/tutorial/Python.ipynb) (path:/Users/youssef/coda/tutorial/Making a new type.ipynb) (path:/Users/youssef/coda/tutorial/Language.ipynb)"
     ]
    }
   ],
   "source": [
    "make path : X:"
   ]
  },
  {
   "cell_type": "code",
   "execution_count": 6,
   "id": "fa4ae139-d74f-445e-b131-a877c1405fbc",
   "metadata": {},
   "outputs": [
    {
     "name": "stdout",
     "output_type": "stream",
     "text": [
      "(fn:Volume.ipynb) (fn:Numbers.ipynb) (fn:Logic.ipynb) (fn:Path.ipynb) (fn:Proof and Computation.ipynb) (fn:Bits_and_bytes.ipynb) (fn:Godel.ipynb) (fn:Categories.ipynb) (fn:.ipynb_checkpoints) (fn:Python.ipynb) (fn:Making a new type.ipynb) (fn:Language.ipynb)"
     ]
    }
   ],
   "source": [
    "make fn : X:"
   ]
  },
  {
   "cell_type": "code",
   "execution_count": 7,
   "id": "be1a0b67-61bd-47d0-b756-8bc2e95b9802",
   "metadata": {},
   "outputs": [
    {
     "name": "stdout",
     "output_type": "stream",
     "text": [
      "(ext:ipynb) (ext:ipynb) (ext:ipynb) (ext:ipynb) (ext:ipynb) (ext:ipynb) (ext:ipynb) (ext:ipynb) (ext:ipynb_checkpoints) (ext:ipynb) (ext:ipynb) (ext:ipynb)"
     ]
    }
   ],
   "source": [
    "make ext : X:"
   ]
  },
  {
   "cell_type": "code",
   "execution_count": 8,
   "id": "a26bc406-e968-4743-a9c5-fdfa3eb01931",
   "metadata": {},
   "outputs": [
    {
     "name": "stdout",
     "output_type": "stream",
     "text": [
      "(ext:ipynb) (ext:ipynb) (ext:ipynb) (ext:ipynb) (ext:ipynb) (ext:ipynb) (ext:ipynb) (ext:ipynb) (ext:ipynb_checkpoints) (ext:ipynb) (ext:ipynb) (ext:ipynb)"
     ]
    }
   ],
   "source": [
    "make ext : make fn : X:"
   ]
  },
  {
   "cell_type": "code",
   "execution_count": null,
   "id": "ace1e810-6a56-4583-848d-12462318b3ed",
   "metadata": {},
   "outputs": [],
   "source": []
  }
 ],
 "metadata": {
  "kernelspec": {
   "display_name": "coda",
   "language": "",
   "name": "coda"
  },
  "language_info": {
   "file_extension": ".co",
   "mimetype": "text/plain",
   "name": "Any text"
  }
 },
 "nbformat": 4,
 "nbformat_minor": 5
}
