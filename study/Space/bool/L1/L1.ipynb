{
 "cells": [
  {
   "cell_type": "markdown",
   "id": "5a361ba2-f187-4fd9-96ef-24b79e0c9513",
   "metadata": {},
   "source": [
    "### Boolean space L1 \n",
    "\n",
    "As in the case with \"sticks\", we can use the Seq functor to create the distributive space of sequences of boolean values stored in, say, b-atoms.\n",
    "\n",
    "* L = Seq b : bool \n",
    "\n",
    "where typical data is a sequence like (b:) (b:(:)) (b:). Since front A commutes with any distributive space, \n",
    "\n",
    "* L1 = front | \\* L\n",
    "\n",
    "is the space of <=1 boolean values.  "
   ]
  },
  {
   "cell_type": "code",
   "execution_count": 1,
   "id": "cc5994a0-2269-4348-8694-ecdc9af5a370",
   "metadata": {},
   "outputs": [
    {
     "name": "stdout",
     "output_type": "stream",
     "text": [
      "(defaultTime:60)"
     ]
    }
   ],
   "source": [
    "defaultTime:60"
   ]
  },
  {
   "cell_type": "code",
   "execution_count": 2,
   "id": "3da3e5e7-7452-4bfe-8706-606c931ccc04",
   "metadata": {},
   "outputs": [
    {
     "name": "stdout",
     "output_type": "stream",
     "text": []
    }
   ],
   "source": [
    "import : dir co : up : up : ."
   ]
  },
  {
   "cell_type": "code",
   "execution_count": 3,
   "id": "598a9b02-a640-447d-92ef-97395c6b6ddd",
   "metadata": {},
   "outputs": [
    {
     "name": "stdout",
     "output_type": "stream",
     "text": []
    }
   ],
   "source": [
    "#\n",
    "#  b is an atom to hold single boolean values \n",
    "#  L is the space of sequences of boolean values \n",
    "#  L is the space of sequences of boolean values with length <=1\n",
    "#  (E:X) is an endomorphism of L \n",
    "#  (e:X) is the special case of an \"inner\" endomorphism of L \n",
    "#\n",
    "Def b:\n",
    "Def L : (front |) * (Seq b : bool) \n",
    "Def E : {end L:B}\n",
    "Def e : {E:in b:B}"
   ]
  },
  {
   "cell_type": "code",
   "execution_count": 4,
   "id": "22ddb96b-13ff-4b66-b5ff-240888f10ebb",
   "metadata": {},
   "outputs": [
    {
     "name": "stdout",
     "output_type": "stream",
     "text": []
    }
   ],
   "source": [
    "#\n",
    "#   L is the space of <=1 boolean values \n",
    "#\n",
    "Let Domain : aq permutation 0 1 : (b:) (b:(:)) "
   ]
  },
  {
   "cell_type": "code",
   "execution_count": 5,
   "id": "856995ec-0798-4338-8a7d-3cb38f5f7559",
   "metadata": {},
   "outputs": [
    {
     "name": "stdout",
     "output_type": "stream",
     "text": []
    }
   ],
   "source": [
    "Def spectrum : ap {put:A:get:B} \n",
    "Def ispectrum : ap {A:get:B} \n",
    "Def false : const (:) \n",
    "Def true  : const "
   ]
  },
  {
   "cell_type": "code",
   "execution_count": 6,
   "id": "97ecc4a8-402e-4dcb-83c9-12a6702bad83",
   "metadata": {},
   "outputs": [
    {
     "name": "stdout",
     "output_type": "stream",
     "text": [
      "(b:) (b:) (b:)\n",
      "(b:◎) (b:◎) (b:)\n",
      "(b:) (b:) (b:◎)\n",
      "(b:◎) (b:◎) (b:◎)"
     ]
    }
   ],
   "source": [
    "ispectrum (e:true) : Domain?\n",
    "ispectrum (e:not)  : Domain?\n",
    "ispectrum (e:pass) : Domain?\n",
    "ispectrum (e:false) : Domain?"
   ]
  },
  {
   "cell_type": "code",
   "execution_count": 7,
   "id": "b921b8ae-5904-4973-a1cb-6fe610a648c8",
   "metadata": {},
   "outputs": [
    {
     "name": "stdout",
     "output_type": "stream",
     "text": []
    }
   ],
   "source": [
    "Def F : {(if (B):(get:nth 1:A)) (if (B=(b:)):(get:nth 2:A)) (if (B=(b:(:))):(get:nth 3:A))}"
   ]
  },
  {
   "cell_type": "code",
   "execution_count": 8,
   "id": "6c530773-0542-4615-aed4-e82c5ff1b223",
   "metadata": {},
   "outputs": [
    {
     "name": "stdout",
     "output_type": "stream",
     "text": [
      "(b:)\n",
      "(b:◎)\n",
      "◎ (:(b:)) (:(b:◎))"
     ]
    }
   ],
   "source": [
    "F (:) (:(b:)) (:(b:(:))) : ()\n",
    "F (:) (:(b:)) (:(b:(:))) : (b:)\n",
    "F (:) (:(b:)) (:(b:(:))) : (b:(:))\n",
    "spectrum F (:) (:(b:)) (:(b:(:))) : Domain?"
   ]
  },
  {
   "cell_type": "code",
   "execution_count": 9,
   "id": "0af96d42-af8e-427e-ac68-a21761c36174",
   "metadata": {},
   "outputs": [
    {
     "name": "stdout",
     "output_type": "stream",
     "text": []
    }
   ],
   "source": [
    "Let Endomorphisms : ap {:F (get:B)} : permutation 3 : Domain?"
   ]
  },
  {
   "cell_type": "code",
   "execution_count": 10,
   "id": "db14e91c-00c0-4bb7-9f98-a56cc4e49133",
   "metadata": {},
   "outputs": [
    {
     "name": "stdout",
     "output_type": "stream",
     "text": []
    }
   ],
   "source": [
    "#write involution 1000 : ap {if (right:B):(:arg:B)} : dom 600 : ap {with (get:B) : bool : involution (E:get:B) : Domain?} : Endomorphisms?"
   ]
  },
  {
   "cell_type": "code",
   "execution_count": 11,
   "id": "b16d19c2-730c-4aa4-9af4-519b2331b83b",
   "metadata": {},
   "outputs": [
    {
     "name": "stdout",
     "output_type": "stream",
     "text": []
    }
   ],
   "source": [
    "#write idempotent 1000 : ap {if (right:B):(:arg:B)} : dom 600 : ap {with (get:B) : bool : idempotent (E:get:B) : Domain?} : Endomorphisms?"
   ]
  },
  {
   "cell_type": "code",
   "execution_count": 12,
   "id": "6f25a495-c168-461e-ad7f-12567671d8a4",
   "metadata": {},
   "outputs": [
    {
     "name": "stdout",
     "output_type": "stream",
     "text": []
    }
   ],
   "source": [
    "#write space 1000 : ap {if (right:B):(:arg:B)} : dom 300 : ap {with (get:B) : bool : ap preSpace (E:get:B) : permutation 2 : Domain?} : Endomorphisms?"
   ]
  },
  {
   "cell_type": "code",
   "execution_count": 13,
   "id": "baaeb22f-f7cb-4a1c-8343-97e974cb96e0",
   "metadata": {},
   "outputs": [
    {
     "name": "stdout",
     "output_type": "stream",
     "text": []
    }
   ],
   "source": [
    "Let TRUE  : F (:(b:)) (:(b:)) (:(b:)) \n",
    "Let FALSE : F (:(b:(:))) (:(b:(:))) (:(b:(:))) \n",
    "Let FFT   : F (:(b:(:))) (:(b:(:))) (:(b:)) \n",
    "Let TTF   : F (:(b:)) (:(b:)) (:(b:(:)))  \n",
    "write inner 100 : (:TRUE?) (:FALSE?) (:FFT?) (:TTF?) \n",
    "write constant 100 : (:F (:) (:) (:)) (:TRUE?) (:FALSE?)"
   ]
  },
  {
   "cell_type": "code",
   "execution_count": 14,
   "id": "1cbedc92-6de7-46b5-9acc-6b3ac7015a35",
   "metadata": {
    "collapsed": true,
    "jupyter": {
     "outputs_hidden": true
    },
    "tags": []
   },
   "outputs": [
    {
     "name": "stdout",
     "output_type": "stream",
     "text": [
      " (:F (:(b:)) (:(b:)) (:(b:))) \n",
      " (:F (:(b:◎)) (:(b:◎)) (:(b:◎))) \n",
      " (:F (:(b:◎)) (:(b:◎)) (:(b:))) \n",
      " (:F (:(b:)) (:(b:)) (:(b:◎))) \n"
     ]
    }
   ],
   "source": [
    "tab : read : inner"
   ]
  },
  {
   "cell_type": "code",
   "execution_count": 15,
   "id": "ad622b86-c260-4e28-a389-655b2496d73b",
   "metadata": {
    "collapsed": true,
    "jupyter": {
     "outputs_hidden": true
    },
    "tags": []
   },
   "outputs": [
    {
     "name": "stdout",
     "output_type": "stream",
     "text": [
      " (:F ◎ (:(b:)) (:(b:◎))) \n",
      " (:F ◎ (:(b:◎)) (:(b:))) \n",
      " (:F (:(b:)) ◎ (:(b:◎))) \n",
      " (:F (:(b:◎)) (:(b:)) ◎) \n"
     ]
    }
   ],
   "source": [
    "tab : read : involution"
   ]
  },
  {
   "cell_type": "code",
   "execution_count": 16,
   "id": "a05e191a-1f3f-482f-88b5-9ea5dbcb3f71",
   "metadata": {
    "collapsed": true,
    "jupyter": {
     "outputs_hidden": true
    },
    "tags": []
   },
   "outputs": [
    {
     "name": "stdout",
     "output_type": "stream",
     "text": [
      " (:F (:(b:)) (:(b:)) (:(b:))) \n",
      " (:F (:(b:◎)) (:(b:◎)) (:(b:◎))) \n",
      " (:F (:(b:◎)) (:(b:◎)) (:(b:))) \n",
      " (:F (:(b:)) (:(b:)) (:(b:◎))) \n"
     ]
    }
   ],
   "source": [
    "tab : read : inner"
   ]
  },
  {
   "cell_type": "code",
   "execution_count": 17,
   "id": "b0cc1bb8-6e3a-4829-a6f4-79c88c5e4976",
   "metadata": {
    "collapsed": true,
    "jupyter": {
     "outputs_hidden": true
    },
    "tags": []
   },
   "outputs": [
    {
     "name": "stdout",
     "output_type": "stream",
     "text": [
      " (:F ◎ ◎ ◎) \n",
      " (:F ◎ ◎ (:(b:◎))) \n",
      " (:F ◎ (:(b:)) ◎) \n",
      " (:F ◎ (:(b:)) (:(b:))) \n",
      " (:F ◎ (:(b:)) (:(b:◎))) \n",
      " (:F ◎ (:(b:◎)) (:(b:◎))) \n",
      " (:F (:(b:)) (:(b:)) (:(b:))) \n",
      " (:F (:(b:)) (:(b:)) (:(b:◎))) \n",
      " (:F (:(b:◎)) (:(b:)) (:(b:◎))) \n",
      " (:F (:(b:◎)) (:(b:◎)) (:(b:◎))) \n"
     ]
    }
   ],
   "source": [
    "tab : read : idempotent "
   ]
  },
  {
   "cell_type": "code",
   "execution_count": 18,
   "id": "7016cef7-498f-4235-9916-2e50ba3fbc24",
   "metadata": {},
   "outputs": [
    {
     "name": "stdout",
     "output_type": "stream",
     "text": []
    }
   ],
   "source": [
    "Let inners : read : inner\n",
    "Let involutions : read : involution \n",
    "Let idempotents : read : idempotent \n",
    "Let spaces : read : space \n",
    "Let constants : read : constant "
   ]
  },
  {
   "cell_type": "code",
   "execution_count": 19,
   "id": "d838c729-87cf-4b7c-a2c8-20c4af8934aa",
   "metadata": {},
   "outputs": [
    {
     "name": "stdout",
     "output_type": "stream",
     "text": [
      "4\n",
      "4\n",
      "10\n",
      "6\n",
      "3"
     ]
    }
   ],
   "source": [
    "count : inners? \n",
    "count : involutions? \n",
    "count : idempotents? \n",
    "count : spaces?\n",
    "count : constants? "
   ]
  },
  {
   "cell_type": "code",
   "execution_count": 20,
   "id": "e9ab84fa-6aa3-458e-918b-8b3281a5a4a4",
   "metadata": {},
   "outputs": [
    {
     "name": "stdout",
     "output_type": "stream",
     "text": []
    }
   ],
   "source": [
    "#Def str : {join : ap map (bin (:):0) (bin (:(b:)):T) (bin (:(b:(:))) : B} "
   ]
  },
  {
   "cell_type": "code",
   "execution_count": 21,
   "id": "c5f8c193-646d-4ca7-a088-815f7717650d",
   "metadata": {},
   "outputs": [
    {
     "name": "stdout",
     "output_type": "stream",
     "text": [
      "000"
     ]
    }
   ],
   "source": [
    "join : ap map (bin (:):0) (bin (:(b:)):T) (bin (:(b:(:))):F) : (:) (:) (:)"
   ]
  },
  {
   "cell_type": "code",
   "execution_count": 22,
   "id": "1c5b14bc-a8e1-4b21-90a3-60f80e3d3000",
   "metadata": {},
   "outputs": [
    {
     "name": "stdout",
     "output_type": "stream",
     "text": []
    }
   ],
   "source": [
    "Def str : {join : ap map (bin (:):0) (bin (:(b:)):T) (bin (:(b:(:))):F) : B} "
   ]
  },
  {
   "cell_type": "code",
   "execution_count": 23,
   "id": "d61d4d7f-2571-48a8-94b3-3698fe6be510",
   "metadata": {},
   "outputs": [
    {
     "name": "stdout",
     "output_type": "stream",
     "text": []
    }
   ],
   "source": [
    "Def st : ap {str:get:B} "
   ]
  },
  {
   "cell_type": "code",
   "execution_count": 35,
   "id": "7a6a2d69-0f84-496e-9433-b1a635dd3797",
   "metadata": {},
   "outputs": [
    {
     "name": "stdout",
     "output_type": "stream",
     "text": [
      "0TF 0FT T0F FT0\n",
      "TTT FFF FFT TTF\n",
      "000 00F 0T0 0TT 0TF 0FF TTT TTF FTF FFF\n",
      "000 0TT 0TF 0FF TTT FFF"
     ]
    }
   ],
   "source": [
    "st : involutions?\n",
    "st : inners?\n",
    "st : idempotents?\n",
    "st : spaces?"
   ]
  },
  {
   "cell_type": "code",
   "execution_count": 36,
   "id": "7e3b9428-6de2-4b31-8203-9b61d7865757",
   "metadata": {},
   "outputs": [
    {
     "name": "stdout",
     "output_type": "stream",
     "text": []
    }
   ],
   "source": [
    "Def internal : {ap {with (st:get:B) : (bool : commutator (get:B) : Domain?)} : combination 2 : B} \n",
    "Def compare  : {ap {with (st:get:B) : (bool : commutator (get:B) : Domain?)} : pair A : B } "
   ]
  },
  {
   "cell_type": "markdown",
   "id": "48bab4b1-214e-433f-a0d4-bed1853e4184",
   "metadata": {},
   "source": [
    "We have identified collections from endomorphisms of L1 \n",
    "\n",
    "* All endomorphisms 27 \n",
    "* Constants 3 \n",
    "* Involutions 4\n",
    "* Inner endomorphisms 4 \n",
    "* Idempotents 10 \n",
    "* Space endomorphisms 6 \n",
    "\n",
    "Does every endomorphism commute with a space? "
   ]
  },
  {
   "cell_type": "code",
   "execution_count": 39,
   "id": "65bbf858-c717-4171-97b1-3ea95b03f387",
   "metadata": {},
   "outputs": [
    {
     "name": "stdout",
     "output_type": "stream",
     "text": [
      "(defaultTime:120)"
     ]
    }
   ],
   "source": [
    "defaultTime:120"
   ]
  },
  {
   "cell_type": "code",
   "execution_count": 41,
   "id": "e1a77175-ea78-4c77-8f19-d78547bf50ff",
   "metadata": {},
   "outputs": [
    {
     "name": "stdout",
     "output_type": "stream",
     "text": []
    }
   ],
   "source": [
    "#\n",
    "#   Every inner\n",
    "write endo-space 1000 : dom 200 : compare Endomorphisms? : spaces?"
   ]
  },
  {
   "cell_type": "code",
   "execution_count": 51,
   "id": "27959fc5-8f5c-4ec6-b08a-43274c5e4549",
   "metadata": {
    "collapsed": true,
    "jupyter": {
     "outputs_hidden": true
    },
    "tags": []
   },
   "outputs": [
    {
     "name": "stdout",
     "output_type": "stream",
     "text": [
      " (with 000 TTT:◎) \n",
      " (with 000 FFF:◎) \n",
      " (with 000 FFT:◎) \n",
      " (with 000 TTF:◎) \n",
      " (with 00T TTT:◎) \n",
      " (with 00T FFF:◎) \n",
      " (with 00T FFT:◎) \n",
      " (with 00T TTF:◎) \n",
      " (with 00F TTT:◎) \n",
      " (with 00F FFF:) \n",
      " (with 00F FFT:◎) \n",
      " (with 00F TTF:◎) \n",
      " (with 0T0 TTT:) \n",
      " (with 0T0 FFF:◎) \n",
      " (with 0T0 FFT:◎) \n",
      " (with 0T0 TTF:◎) \n",
      " (with 0TT TTT:) \n",
      " (with 0TT FFF:◎) \n",
      " (with 0TT FFT:◎) \n",
      " (with 0TT TTF:) \n",
      " (with 0TF TTT:) \n",
      " (with 0TF FFF:) \n",
      " (with 0TF FFT:) \n",
      " (with 0TF TTF:) \n",
      " (with 0F0 TTT:◎) \n",
      " (with 0F0 FFF:◎) \n",
      " (with 0F0 FFT:◎) \n",
      " (with 0F0 TTF:◎) \n",
      " (with 0FT TTT:◎) \n",
      " (with 0FT FFF:◎) \n",
      " (with 0FT FFT:◎) \n",
      " (with 0FT TTF:◎) \n",
      " (with 0FF TTT:◎) \n",
      " (with 0FF FFF:) \n",
      " (with 0FF FFT:◎) \n",
      " (with 0FF TTF:◎) \n",
      " (with T00 TTT:◎) \n",
      " (with T00 FFF:◎) \n",
      " (with T00 FFT:◎) \n",
      " (with T00 TTF:◎) \n",
      " (with T0T TTT:◎) \n",
      " (with T0T FFF:◎) \n",
      " (with T0T FFT:◎) \n",
      " (with T0T TTF:◎) \n",
      " (with T0F TTT:◎) \n",
      " (with T0F FFF:) \n",
      " (with T0F FFT:◎) \n",
      " (with T0F TTF:◎) \n",
      " (with TT0 TTT:) \n",
      " (with TT0 FFF:◎) \n",
      " (with TT0 FFT:◎) \n",
      " (with TT0 TTF:◎) \n",
      " (with TTT TTT:) \n",
      " (with TTT FFF:◎) \n",
      " (with TTT FFT:◎) \n",
      " (with TTT TTF:) \n",
      " (with TTF TTT:) \n",
      " (with TTF FFF:) \n",
      " (with TTF FFT:) \n",
      " (with TTF TTF:) \n",
      " (with TF0 TTT:◎) \n",
      " (with TF0 FFF:◎) \n",
      " (with TF0 FFT:◎) \n",
      " (with TF0 TTF:◎) \n",
      " (with TFT TTT:◎) \n",
      " (with TFT FFF:◎) \n",
      " (with TFT FFT:◎) \n",
      " (with TFT TTF:◎) \n",
      " (with TFF TTT:◎) \n",
      " (with TFF FFF:) \n",
      " (with TFF FFT:◎) \n",
      " (with TFF TTF:◎) \n",
      " (with F00 TTT:◎) \n",
      " (with F00 FFF:◎) \n",
      " (with F00 FFT:◎) \n",
      " (with F00 TTF:◎) \n",
      " (with F0T TTT:◎) \n",
      " (with F0T FFF:◎) \n",
      " (with F0T FFT:◎) \n",
      " (with F0T TTF:◎) \n",
      " (with F0F TTT:◎) \n",
      " (with F0F FFF:) \n",
      " (with F0F FFT:◎) \n",
      " (with F0F TTF:◎) \n",
      " (with FT0 TTT:) \n",
      " (with FT0 FFF:◎) \n",
      " (with FT0 FFT:◎) \n",
      " (with FT0 TTF:◎) \n",
      " (with FTT TTT:) \n",
      " (with FTT FFF:◎) \n",
      " (with FTT FFT:◎) \n",
      " (with FTT TTF:◎) \n",
      " (with FTF TTT:) \n",
      " (with FTF FFF:) \n",
      " (with FTF FFT:◎) \n",
      " (with FTF TTF:◎) \n",
      " (with FF0 TTT:◎) \n",
      " (with FF0 FFF:◎) \n",
      " (with FF0 FFT:◎) \n",
      " (with FF0 TTF:◎) \n",
      " (with FFT TTT:◎) \n",
      " (with FFT FFF:◎) \n",
      " (with FFT FFT:) \n",
      " (with FFT TTF:) \n",
      " (with FFF TTT:◎) \n",
      " (with FFF FFF:) \n",
      " (with FFF FFT:◎) \n",
      " (with FFF TTF:) \n"
     ]
    }
   ],
   "source": [
    "tab : dom 100 : compare Endomorphisms? : inners?"
   ]
  },
  {
   "cell_type": "code",
   "execution_count": 41,
   "id": "70db3b70-c135-437a-a46b-563401a5cc83",
   "metadata": {
    "collapsed": true,
    "jupyter": {
     "outputs_hidden": true
    },
    "tags": []
   },
   "outputs": [
    {
     "name": "stdout",
     "output_type": "stream",
     "text": [
      " (with TTT 000:◎) \n",
      " (with TTT TTT:) \n",
      " (with TTT FFF:◎) \n",
      " (with FFF 000:◎) \n",
      " (with FFF TTT:◎) \n",
      " (with FFF FFF:) \n",
      " (with FFT 000:◎) \n",
      " (with FFT TTT:◎) \n",
      " (with FFT FFF:◎) \n",
      " (with TTF 000:◎) \n",
      " (with TTF TTT:) \n",
      " (with TTF FFF:) \n"
     ]
    }
   ],
   "source": [
    "tab : dom 100 : compare inners? : constants? "
   ]
  },
  {
   "cell_type": "code",
   "execution_count": 39,
   "id": "23241379-6373-4486-b01b-9ce089657c6a",
   "metadata": {
    "collapsed": true,
    "jupyter": {
     "outputs_hidden": true
    },
    "tags": []
   },
   "outputs": [
    {
     "name": "stdout",
     "output_type": "stream",
     "text": [
      " (with 000 0TF:) \n",
      " (with 000 0FT:) \n",
      " (with 000 T0F:◎) \n",
      " (with 000 FT0:◎) \n",
      " (with 0TT 0TF:) \n",
      " (with 0TT 0FT:◎) \n",
      " (with 0TT T0F:◎) \n",
      " (with 0TT FT0:◎) \n",
      " (with 0TF 0TF:) \n",
      " (with 0TF 0FT:) \n",
      " (with 0TF T0F:) \n",
      " (with 0TF FT0:) \n",
      " (with 0FF 0TF:) \n",
      " (with 0FF 0FT:◎) \n",
      " (with 0FF T0F:◎) \n",
      " (with 0FF FT0:◎) \n",
      " (with TTT 0TF:) \n",
      " (with TTT 0FT:◎) \n",
      " (with TTT T0F:◎) \n",
      " (with TTT FT0:) \n",
      " (with FFF 0TF:) \n",
      " (with FFF 0FT:◎) \n",
      " (with FFF T0F:) \n",
      " (with FFF FT0:◎) \n"
     ]
    }
   ],
   "source": [
    "tab : dom 100 : compare spaces? : involutions?"
   ]
  },
  {
   "cell_type": "code",
   "execution_count": 33,
   "id": "f8044ffb-1160-4f35-8b01-ae72cce79040",
   "metadata": {
    "collapsed": true,
    "jupyter": {
     "outputs_hidden": true
    },
    "tags": []
   },
   "outputs": [
    {
     "name": "stdout",
     "output_type": "stream",
     "text": [
      " (with TTT FFF:◎) \n",
      " (with TTT FFT:◎) \n",
      " (with TTT TTF:) \n",
      " (with FFF FFT:◎) \n",
      " (with FFF TTF:) \n",
      " (with FFT TTF:) \n"
     ]
    }
   ],
   "source": [
    "tab : dom 100 : internal : inners?"
   ]
  },
  {
   "cell_type": "code",
   "execution_count": 34,
   "id": "b646d8e5-b4b5-4856-ba54-dc5550c4df39",
   "metadata": {
    "collapsed": true,
    "jupyter": {
     "outputs_hidden": true
    },
    "tags": []
   },
   "outputs": [
    {
     "name": "stdout",
     "output_type": "stream",
     "text": [
      " (with 000 TTT:◎) \n",
      " (with 000 FFF:◎) \n",
      " (with TTT FFF:◎) \n"
     ]
    }
   ],
   "source": [
    "tab : dom 100 : internal : constants?"
   ]
  },
  {
   "cell_type": "code",
   "execution_count": 35,
   "id": "98334c72-b9d4-4915-8ba9-99e898535229",
   "metadata": {
    "collapsed": true,
    "jupyter": {
     "outputs_hidden": true
    },
    "tags": []
   },
   "outputs": [
    {
     "name": "stdout",
     "output_type": "stream",
     "text": [
      " (with 0TF 0FT:) \n",
      " (with 0TF T0F:) \n",
      " (with 0TF FT0:) \n",
      " (with 0FT T0F:◎) \n",
      " (with 0FT FT0:◎) \n",
      " (with T0F FT0:◎) \n"
     ]
    }
   ],
   "source": [
    "tab : dom 100 : internal : involutions?"
   ]
  },
  {
   "cell_type": "code",
   "execution_count": 36,
   "id": "2b05bf86-a711-41f6-a374-4e6830fa3505",
   "metadata": {
    "collapsed": true,
    "jupyter": {
     "outputs_hidden": true
    },
    "tags": []
   },
   "outputs": [
    {
     "name": "stdout",
     "output_type": "stream",
     "text": [
      " (with 000 0TT:) \n",
      " (with 000 0TF:) \n",
      " (with 000 0FF:) \n",
      " (with 000 TTT:◎) \n",
      " (with 000 FFF:◎) \n",
      " (with 0TT 0TF:) \n",
      " (with 0TT 0FF:◎) \n",
      " (with 0TT TTT:) \n",
      " (with 0TT FFF:◎) \n",
      " (with 0TF 0FF:) \n",
      " (with 0TF TTT:) \n",
      " (with 0TF FFF:) \n",
      " (with 0FF TTT:◎) \n",
      " (with 0FF FFF:) \n",
      " (with TTT FFF:◎) \n"
     ]
    }
   ],
   "source": [
    "tab : dom 100 : internal : spaces? "
   ]
  },
  {
   "cell_type": "code",
   "execution_count": 37,
   "id": "a8209206-ab30-4417-bdb8-d3fdfcb5eade",
   "metadata": {
    "collapsed": true,
    "jupyter": {
     "outputs_hidden": true
    },
    "tags": []
   },
   "outputs": [
    {
     "name": "stdout",
     "output_type": "stream",
     "text": [
      " (with 000 00F:) \n",
      " (with 000 0T0:) \n",
      " (with 000 0TT:) \n",
      " (with 000 0TF:) \n",
      " (with 000 0FF:) \n",
      " (with 000 TTT:◎) \n",
      " (with 000 TTF:◎) \n",
      " (with 000 FTF:◎) \n",
      " (with 000 FFF:◎) \n",
      " (with 00F 0T0:) \n",
      " (with 00F 0TT:◎) \n",
      " (with 00F 0TF:) \n",
      " (with 00F 0FF:◎) \n",
      " (with 00F TTT:◎) \n",
      " (with 00F TTF:◎) \n",
      " (with 00F FTF:◎) \n",
      " (with 00F FFF:) \n",
      " (with 0T0 0TT:◎) \n",
      " (with 0T0 0TF:) \n",
      " (with 0T0 0FF:◎) \n",
      " (with 0T0 TTT:) \n",
      " (with 0T0 TTF:◎) \n",
      " (with 0T0 FTF:◎) \n",
      " (with 0T0 FFF:◎) \n",
      " (with 0TT 0TF:) \n",
      " (with 0TT 0FF:◎) \n",
      " (with 0TT TTT:) \n",
      " (with 0TT TTF:) \n",
      " (with 0TT FTF:◎) \n",
      " (with 0TT FFF:◎) \n",
      " (with 0TF 0FF:) \n",
      " (with 0TF TTT:) \n",
      " (with 0TF TTF:) \n",
      " (with 0TF FTF:) \n",
      " (with 0TF FFF:) \n",
      " (with 0FF TTT:◎) \n",
      " (with 0FF TTF:◎) \n",
      " (with 0FF FTF:) \n",
      " (with 0FF FFF:) \n",
      " (with TTT TTF:) \n",
      " (with TTT FTF:) \n",
      " (with TTT FFF:◎) \n",
      " (with TTF FTF:◎) \n",
      " (with TTF FFF:) \n",
      " (with FTF FFF:) \n"
     ]
    }
   ],
   "source": [
    "tab : dom 100 : internal : idempotents? "
   ]
  },
  {
   "cell_type": "code",
   "execution_count": null,
   "id": "df3cb458-6852-47f7-b264-d3bb5129c3c0",
   "metadata": {},
   "outputs": [],
   "source": []
  }
 ],
 "metadata": {
  "kernelspec": {
   "display_name": "coda",
   "language": "",
   "name": "coda"
  },
  "language_info": {
   "file_extension": ".co",
   "mimetype": "text/plain",
   "name": "Any text"
  }
 },
 "nbformat": 4,
 "nbformat_minor": 5
}
