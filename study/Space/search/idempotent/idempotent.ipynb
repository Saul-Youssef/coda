{
 "cells": [
  {
   "cell_type": "code",
   "execution_count": 1,
   "id": "0b9fcedf-c826-4b60-b6ca-c1c3f6f5cdb7",
   "metadata": {},
   "outputs": [
    {
     "name": "stdout",
     "output_type": "stream",
     "text": [
      "(defaultTime:100)"
     ]
    }
   ],
   "source": [
    "defaultTime:100"
   ]
  },
  {
   "cell_type": "code",
   "execution_count": 2,
   "id": "dfff3144-4141-4e38-98f6-8ec1c7c7234b",
   "metadata": {},
   "outputs": [
    {
     "name": "stdout",
     "output_type": "stream",
     "text": []
    }
   ],
   "source": [
    "import : dir co : up : up : ."
   ]
  },
  {
   "cell_type": "code",
   "execution_count": 3,
   "id": "7d3117e5-7aa2-446b-af33-4343205b191b",
   "metadata": {},
   "outputs": [
    {
     "name": "stdout",
     "output_type": "stream",
     "text": []
    }
   ],
   "source": [
    "write result11 200 : dom 100 : idempotent_search (read:sample1) : read : search1 "
   ]
  },
  {
   "cell_type": "code",
   "execution_count": 4,
   "id": "401b5fe5-e32b-4cc1-82db-a38ca815e608",
   "metadata": {},
   "outputs": [
    {
     "name": "stdout",
     "output_type": "stream",
     "text": []
    }
   ],
   "source": [
    "write result12 200 : dom 100 : idempotent_search (read:sample1) : read : search2 "
   ]
  },
  {
   "cell_type": "code",
   "execution_count": 5,
   "id": "0ccd3176-74eb-4fd2-9f9f-b4a0455dc6d5",
   "metadata": {},
   "outputs": [
    {
     "name": "stdout",
     "output_type": "stream",
     "text": []
    }
   ],
   "source": [
    "write result13 600 : dom 150 : idempotent_search (read:sample1) : read : search3 "
   ]
  },
  {
   "cell_type": "code",
   "execution_count": 6,
   "id": "63a8eade-5adc-44f5-948b-b358cb7c3959",
   "metadata": {},
   "outputs": [
    {
     "name": "stdout",
     "output_type": "stream",
     "text": [
      "(with ap:◎) (with apif:) (with apin:) (with aq:) (with ar:) (with arg:◎) (with atoms:) (with back:) (with backstrip:) (with bin:◎) (with bool:) (with by:◎) (with collectLeft:) (with combination:◎) (with common:) (with const:) (with count:◎) (with default:) (with depth:◎) (with domain:◎) (with dup:) (with ends:) (with equal:) (with first:) (with front:) (with frontstrip:) (with fun:) (with ge:) (with get:◎) (with grp:◎) (with gt:) (with has:) (with hasnt:) (with head:) (with if:) (with is:) (with isnt:) (with item:) (with le:) (with left:◎) (with less:) (with lt:◎) (with map:) (with maxwidth:) (with minwidth:) (with more:) (with next:◎) (with nif:) (with not:◎) (with null:) (with once:) (with pair:) (with pass:) (with plus:◎) (with post:) (with pow:) (with pre:) (with prepoly:) (with preprod:) (with presum:◎) (with prod:) (with put:◎) (with rem:) (with rev:◎) (with right:◎) (with srt:) (with star:◎) (with starts:) (with sum:) (with swap:) (with tail:) (with width:)"
     ]
    }
   ],
   "source": [
    "read : result11"
   ]
  },
  {
   "cell_type": "code",
   "execution_count": 7,
   "id": "8fc799fa-4510-463b-9c79-8b074b0b0869",
   "metadata": {},
   "outputs": [
    {
     "name": "stdout",
     "output_type": "stream",
     "text": [
      " result11 \n"
     ]
    }
   ],
   "source": [
    "tab : result11"
   ]
  },
  {
   "cell_type": "code",
   "execution_count": 10,
   "id": "33fe399d-00c3-41a0-9b3f-2f7126e51fd8",
   "metadata": {},
   "outputs": [
    {
     "name": "stdout",
     "output_type": "stream",
     "text": []
    }
   ],
   "source": [
    "tab : read : result13"
   ]
  },
  {
   "cell_type": "code",
   "execution_count": null,
   "id": "249478b3-21ef-4c6f-8442-a7314df44439",
   "metadata": {},
   "outputs": [],
   "source": []
  }
 ],
 "metadata": {
  "kernelspec": {
   "display_name": "coda",
   "language": "",
   "name": "coda"
  },
  "language_info": {
   "file_extension": ".co",
   "mimetype": "text/plain",
   "name": "Any text"
  }
 },
 "nbformat": 4,
 "nbformat_minor": 5
}
