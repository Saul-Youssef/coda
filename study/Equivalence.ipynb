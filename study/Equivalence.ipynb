{
 "cells": [
  {
   "cell_type": "markdown",
   "id": "ef4b1e2a-4801-4ab0-8e64-4317d5f285ac",
   "metadata": {},
   "source": [
    "# Equivalence Spaces"
   ]
  },
  {
   "cell_type": "code",
   "execution_count": 1,
   "id": "b360d72f-e60b-49b4-af98-672004f04295",
   "metadata": {},
   "outputs": [
    {
     "name": "stdout",
     "output_type": "stream",
     "text": [
      "\u001b[;1mcode:\u001b[0m\n",
      "    \u001b[34;7mequiv\u001b[0m\n",
      "\u001b[;1mmodule:\u001b[0m\n",
      "    Collect\n",
      "\u001b[;1msummary:\u001b[0m\n",
      "    Collect inputs b with the same value of (A:b).\n",
      "\u001b[;1mdescription:\u001b[0m\n",
      "    1. Equivalence classes of input codes.\n",
      "    2. Same as 1 with collected value (bin V:...)\n",
      "    3. Codes with the same length as byte sequences.\n",
      "    4. Same as 3 with the length (bin L:..codes with length L..)\n",
      "\u001b[;1mpath:\u001b[0m\n",
      "    /Users/youssef/coda/py/Collect.py\n",
      "\u001b[;1mdemos:\u001b[0m\n",
      "    1. \u001b[35;4mequiv : a b a b a a a x\u001b[0m\n",
      "    2. \u001b[35;4mcollect : a b a b a a a x\u001b[0m\n",
      "    3. \u001b[35;4mget ((:):(:)) : a b aa bb aaa cccc zz xxx xxx\u001b[0m\n",
      "    4. \u001b[35;4mequiv {count:get ((:):(:)):B} : a b aa bb aaa cccc zz xxx xxx\u001b[0m\n",
      "    5. \u001b[35;4mcollect {count:get ((:):(:)):B} : a b aa bb aaa cccc zz xxx xxx\u001b[0m\n",
      "    6. \u001b[35;4mcounts {count:get ((:):(:)):B} : a b aa bb aaa cccc zz xxx xxx\u001b[0m\n"
     ]
    }
   ],
   "source": [
    "help : equiv"
   ]
  },
  {
   "cell_type": "code",
   "execution_count": 2,
   "id": "09d00d7f-78d1-4f06-83e7-93d38d986e1d",
   "metadata": {},
   "outputs": [
    {
     "name": "stdout",
     "output_type": "stream",
     "text": [
      "\u001b[;1mcode:\u001b[0m\n",
      "    \u001b[34;7mcollect\u001b[0m\n",
      "\u001b[;1mmodule:\u001b[0m\n",
      "    Collect\n",
      "\u001b[;1msummary:\u001b[0m\n",
      "    Collect inputs b with the same value of (A:b).\n",
      "\u001b[;1mdescription:\u001b[0m\n",
      "    1. Equivalence classes of input codes.\n",
      "    2. Same as 1 with collected value (bin V:...)\n",
      "    3. Codes with the same length as byte sequences.\n",
      "    4. Same as 3 with the length (bin L:..codes with length L..)\n",
      "\u001b[;1mpath:\u001b[0m\n",
      "    /Users/youssef/coda/py/Collect.py\n",
      "\u001b[;1mdemos:\u001b[0m\n",
      "    1. \u001b[35;4mequiv : a b a b a a a x\u001b[0m\n",
      "    2. \u001b[35;4mcollect : a b a b a a a x\u001b[0m\n",
      "    3. \u001b[35;4mget ((:):(:)) : a b aa bb aaa cccc zz xxx xxx\u001b[0m\n",
      "    4. \u001b[35;4mequiv {count:get ((:):(:)):B} : a b aa bb aaa cccc zz xxx xxx\u001b[0m\n",
      "    5. \u001b[35;4mcollect {count:get ((:):(:)):B} : a b aa bb aaa cccc zz xxx xxx\u001b[0m\n",
      "    6. \u001b[35;4mcounts {count:get ((:):(:)):B} : a b aa bb aaa cccc zz xxx xxx\u001b[0m\n"
     ]
    }
   ],
   "source": [
    "help : collect"
   ]
  },
  {
   "cell_type": "code",
   "execution_count": 3,
   "id": "0d9cf535-665c-4302-ac92-202f372160f7",
   "metadata": {},
   "outputs": [
    {
     "name": "stdout",
     "output_type": "stream",
     "text": [
      "(bin 1:a b) (bin 2:aa bb zz) (bin 3:aaa xxx xxx) (bin 4:cccc)"
     ]
    }
   ],
   "source": [
    "demo 5 : collect"
   ]
  },
  {
   "cell_type": "code",
   "execution_count": null,
   "id": "72031a71-d9d6-4396-8905-71eed3daa652",
   "metadata": {},
   "outputs": [],
   "source": []
  }
 ],
 "metadata": {
  "kernelspec": {
   "display_name": "coda",
   "language": "",
   "name": "coda"
  },
  "language_info": {
   "file_extension": ".co",
   "mimetype": "text/plain",
   "name": "Any text"
  }
 },
 "nbformat": 4,
 "nbformat_minor": 5
}
