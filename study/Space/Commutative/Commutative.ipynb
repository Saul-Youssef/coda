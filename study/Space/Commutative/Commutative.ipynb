{
 "cells": [
  {
   "cell_type": "code",
   "execution_count": 1,
   "id": "42f50922-f63d-4500-ad5d-eddce50f9a40",
   "metadata": {},
   "outputs": [
    {
     "name": "stdout",
     "output_type": "stream",
     "text": []
    }
   ],
   "source": [
    "import : dir co : up : ."
   ]
  },
  {
   "cell_type": "code",
   "execution_count": 26,
   "id": "4a405e92-41b9-4e9f-bb06-ccc354a36d4f",
   "metadata": {},
   "outputs": [
    {
     "name": "stdout",
     "output_type": "stream",
     "text": [
      "Time Apply Text Algebra Sequence Search Source Define Number Import Natural Log Logic Classify Basic IO Help Evaluate Collect  Path Variable Morphism Sample Language"
     ]
    }
   ],
   "source": [
    "once : module : defs:"
   ]
  },
  {
   "cell_type": "code",
   "execution_count": 40,
   "id": "8ee76462-5702-40a8-94d0-cfa7b4e00e97",
   "metadata": {},
   "outputs": [
    {
     "name": "stdout",
     "output_type": "stream",
     "text": [
      "collect equiv"
     ]
    }
   ],
   "source": [
    "defs : Collect"
   ]
  },
  {
   "cell_type": "markdown",
   "id": "aacf416e-6c6b-4fed-802a-65b0784389fe",
   "metadata": {},
   "source": [
    "Possibly commutative\n",
    "\n",
    "TEXT\n",
    "allcodes\n",
    "alphabet\n",
    "letters\n",
    "digits\n",
    "printable\n",
    "SEQUENCE\n",
    "count\n",
    "NUMBER \n",
    "float_max\n",
    "float_min\n",
    "float_sum\n",
    "int_max\n",
    "int_min\n",
    "int_sum\n",
    "IMPORT\n",
    "import\n",
    "LOGIC \n",
    "\\=\n",
    "and\n",
    "bool\n",
    "equal\n",
    "iff\n",
    "imply\n",
    "nand \n",
    "nor\n",
    "not \n",
    "or \n",
    "some \n",
    "xnor \n",
    "xor\n",
    "arg\n",
    "co\n",
    "null\n",
    "pass\n",
    "equiv"
   ]
  },
  {
   "cell_type": "code",
   "execution_count": 2,
   "id": "bb858da6-18fd-4b04-a93e-b944167e544a",
   "metadata": {},
   "outputs": [
    {
     "name": "stdout",
     "output_type": "stream",
     "text": [
      "2\n",
      "4"
     ]
    }
   ],
   "source": [
    "count : theorem (commutative:ap pass) : (:a b) (:a a)\n",
    "count : theorem (commutative2:rev) : (:a b) (:a a)"
   ]
  },
  {
   "cell_type": "code",
   "execution_count": 3,
   "id": "c264b8d6-da67-4760-8931-2119e76ab2f5",
   "metadata": {},
   "outputs": [
    {
     "name": "stdout",
     "output_type": "stream",
     "text": [
      "(with:(bin ap pass:2)) (with:(bin rev:2))"
     ]
    }
   ],
   "source": [
    "ap {eval 100 : with : (bin (get:B) : count : theorem (commutative:get:B) : A)} (:a b) (:a a) : (:ap pass) (:rev) "
   ]
  },
  {
   "cell_type": "code",
   "execution_count": 4,
   "id": "7fe4e7a4-a405-4f9a-875a-b807b41540fb",
   "metadata": {},
   "outputs": [
    {
     "name": "stdout",
     "output_type": "stream",
     "text": []
    }
   ],
   "source": [
    "Def Test1 : ap {eval 100 : with : (bin (get:B) : count : theorem (commutative:get:B) : A)}"
   ]
  },
  {
   "cell_type": "code",
   "execution_count": 5,
   "id": "1c77a757-748a-41e3-81c1-8fc50c3d481a",
   "metadata": {},
   "outputs": [
    {
     "name": "stdout",
     "output_type": "stream",
     "text": []
    }
   ],
   "source": [
    "Def Test2 : ap {eval 100 : with : (bin (get:B) : count : theorem (commutative2:get:B) : A)}"
   ]
  },
  {
   "cell_type": "code",
   "execution_count": 24,
   "id": "5526ee55-e018-4124-adb7-4aae2acb19f6",
   "metadata": {},
   "outputs": [
    {
     "name": "stdout",
     "output_type": "stream",
     "text": []
    }
   ],
   "source": [
    "Let SX : (:1 0) (:) (:2 3) "
   ]
  },
  {
   "cell_type": "code",
   "execution_count": 25,
   "id": "72f87ac5-96d8-4e50-b650-41e7a7ae7afb",
   "metadata": {},
   "outputs": [
    {
     "name": "stdout",
     "output_type": "stream",
     "text": [
      "\n",
      " (with:(bin first:(count:(if (not:(equal (first 1 0:1 0 1 0):(first 1 0:1 0 1 0))):(with (def y:{A} 1 0) (def z:{A} 1 0) (def x:{A} 1 0):(equal (first 1 0:1 0 1 0):(first 1 0:1 0 1 0)))) (if (not:(equal (first 2 3:1 0 1 0):(first 2 3:1 0 1 0))):(with (def y:{A} 1 0) (def z:{A} 1 0) (def x:{A} 2 3):(equal (first 2 3:1 0 1 0):(first 2 3:1 0 1 0)))) (if (not:(equal (first 1 0:1 0):(first 1 0:1 0))):(with (def y:{A} 1 0) (def z:{A}) (def x:{A} 1 0):(equal (first 1 0:1 0):(first 1 0:1 0)))) (if (not:(equal (first 2 3:1 0):(first 2 3:1 0))):(with (def y:{A} 1 0) (def z:{A}) (def x:{A} 2 3):(equal (first 2 3:1 0):(first 2 3:1 0)))) (if (not:(equal (first 1 0:1 0 2 3):(first 1 0:2 3 1 0))):(with (def y:{A} 1 0) (def z:{A} 2 3) (def x:{A} 1 0):(equal (first 1 0:1 0 2 3):(first 1 0:2 3 1 0)))) (with (def y:{A} 1 0) (def z:{A} 2 3) (def x:{A}):◎ ◎) (if (not:(equal (first 2 3:1 0 2 3):(first 2 3:2 3 1 0))):(with (def y:{A} 1 0) (def z:{A} 2 3) (def x:{A} 2 3):(equal (first 2 3:1 0 2 3):(first 2 3:2 3 1 0)))) (if (not:(equal (first 1 0:1 0):(first 1 0:1 0))):(with (def y:{A}) (def z:{A} 1 0) (def x:{A} 1 0):(equal (first 1 0:1 0):(first 1 0:1 0)))) (if (not:(equal (first 2 3:1 0):(first 2 3:1 0))):(with (def y:{A}) (def z:{A} 1 0) (def x:{A} 2 3):(equal (first 2 3:1 0):(first 2 3:1 0)))) (if (not:(equal (first 1 0:2 3):(first 1 0:2 3))):(with (def y:{A}) (def z:{A} 2 3) (def x:{A} 1 0):(equal (first 1 0:2 3):(first 1 0:2 3)))) (if (not:(equal (first 2 3:2 3):(first 2 3:2 3))):(with (def y:{A}) (def z:{A} 2 3) (def x:{A} 2 3):(equal (first 2 3:2 3):(first 2 3:2 3)))) (if (not:(equal (first 1 0:2 3 1 0):(first 1 0:1 0 2 3))):(with (def y:{A} 2 3) (def z:{A} 1 0) (def x:{A} 1 0):(equal (first 1 0:2 3 1 0):(first 1 0:1 0 2 3)))) (with (def y:{A} 2 3) (def z:{A} 1 0) (def x:{A}):◎ ◎) (if (not:(equal (first 2 3:2 3 1 0):(first 2 3:1 0 2 3))):(with (def y:{A} 2 3) (def z:{A} 1 0) (def x:{A} 2 3):(equal (first 2 3:2 3 1 0):(first 2 3:1 0 2 3)))) (if (not:(equal (first 1 0:2 3):(first 1 0:2 3))):(with (def y:{A} 2 3) (def z:{A}) (def x:{A} 1 0):(equal (first 1 0:2 3):(first 1 0:2 3)))) (if (not:(equal (first 2 3:2 3):(first 2 3:2 3))):(with (def y:{A} 2 3) (def z:{A}) (def x:{A} 2 3):(equal (first 2 3:2 3):(first 2 3:2 3)))) (if (not:(equal (first 1 0:2 3 2 3):(first 1 0:2 3 2 3))):(with (def y:{A} 2 3) (def z:{A} 2 3) (def x:{A} 1 0):(equal (first 1 0:2 3 2 3):(first 1 0:2 3 2 3)))) (if (not:(equal (first 2 3:2 3 2 3):(first 2 3:2 3 2 3))):(with (def y:{A} 2 3) (def z:{A} 2 3) (def x:{A} 2 3):(equal (first 2 3:2 3 2 3):(first 2 3:2 3 2 3))))))) \n",
      " (with:(bin float_div:(count:(if (not:(equal (float_div 1 0:1 0 1 0):(float_div 1 0:1 0 1 0))):(with (def y:{A} 1 0) (def z:{A} 1 0) (def x:{A} 1 0):(equal (float_div 1 0:1 0 1 0):(float_div 1 0:1 0 1 0)))) (if (not:(equal (float_div 2 3:1 0 1 0):(float_div 2 3:1 0 1 0))):(with (def y:{A} 1 0) (def z:{A} 1 0) (def x:{A} 2 3):(equal (float_div 2 3:1 0 1 0):(float_div 2 3:1 0 1 0)))) (if (not:(equal (float_div 1 0:1 0):(float_div 1 0:1 0))):(with (def y:{A} 1 0) (def z:{A}) (def x:{A} 1 0):(equal (float_div 1 0:1 0):(float_div 1 0:1 0)))) (if (not:(equal (float_div 2 3:1 0):(float_div 2 3:1 0))):(with (def y:{A} 1 0) (def z:{A}) (def x:{A} 2 3):(equal (float_div 2 3:1 0):(float_div 2 3:1 0)))) (if (not:(equal (float_div 1 0:1 0 2 3):(float_div 1 0:2 3 1 0))):(with (def y:{A} 1 0) (def z:{A} 2 3) (def x:{A} 1 0):(equal (float_div 1 0:1 0 2 3):(float_div 1 0:2 3 1 0)))) (with (def y:{A} 1 0) (def z:{A} 2 3) (def x:{A}):◎ ◎ ◎ ◎ ◎ ◎ ◎ ◎) (if (not:(equal (float_div 2 3:1 0 2 3):(float_div 2 3:2 3 1 0))):(with (def y:{A} 1 0) (def z:{A} 2 3) (def x:{A} 2 3):(equal (float_div 2 3:1 0 2 3):(float_div 2 3:2 3 1 0)))) (if (not:(equal (float_div 1 0:1 0):(float_div 1 0:1 0))):(with (def y:{A}) (def z:{A} 1 0) (def x:{A} 1 0):(equal (float_div 1 0:1 0):(float_div 1 0:1 0)))) (if (not:(equal (float_div 2 3:1 0):(float_div 2 3:1 0))):(with (def y:{A}) (def z:{A} 1 0) (def x:{A} 2 3):(equal (float_div 2 3:1 0):(float_div 2 3:1 0)))) (if (not:(equal (float_div 1 0:2 3):(float_div 1 0:2 3))):(with (def y:{A}) (def z:{A} 2 3) (def x:{A} 1 0):(equal (float_div 1 0:2 3):(float_div 1 0:2 3)))) (if (not:(equal (float_div 2 3:2 3):(float_div 2 3:2 3))):(with (def y:{A}) (def z:{A} 2 3) (def x:{A} 2 3):(equal (float_div 2 3:2 3):(float_div 2 3:2 3)))) (if (not:(equal (float_div 1 0:2 3 1 0):(float_div 1 0:1 0 2 3))):(with (def y:{A} 2 3) (def z:{A} 1 0) (def x:{A} 1 0):(equal (float_div 1 0:2 3 1 0):(float_div 1 0:1 0 2 3)))) (with (def y:{A} 2 3) (def z:{A} 1 0) (def x:{A}):◎ ◎ ◎ ◎ ◎ ◎ ◎ ◎) (if (not:(equal (float_div 2 3:2 3 1 0):(float_div 2 3:1 0 2 3))):(with (def y:{A} 2 3) (def z:{A} 1 0) (def x:{A} 2 3):(equal (float_div 2 3:2 3 1 0):(float_div 2 3:1 0 2 3)))) (if (not:(equal (float_div 1 0:2 3):(float_div 1 0:2 3))):(with (def y:{A} 2 3) (def z:{A}) (def x:{A} 1 0):(equal (float_div 1 0:2 3):(float_div 1 0:2 3)))) (if (not:(equal (float_div 2 3:2 3):(float_div 2 3:2 3))):(with (def y:{A} 2 3) (def z:{A}) (def x:{A} 2 3):(equal (float_div 2 3:2 3):(float_div 2 3:2 3)))) (if (not:(equal (float_div 1 0:2 3 2 3):(float_div 1 0:2 3 2 3))):(with (def y:{A} 2 3) (def z:{A} 2 3) (def x:{A} 1 0):(equal (float_div 1 0:2 3 2 3):(float_div 1 0:2 3 2 3)))) (if (not:(equal (float_div 2 3:2 3 2 3):(float_div 2 3:2 3 2 3))):(with (def y:{A} 2 3) (def z:{A} 2 3) (def x:{A} 2 3):(equal (float_div 2 3:2 3 2 3):(float_div 2 3:2 3 2 3))))))) \n",
      " (with:(bin float_inv:6)) \n",
      " (with:(bin float_max:0)) \n",
      " (with:(bin float_min:0)) \n",
      " (with:(bin float_prod:0)) \n",
      " (with:(bin float_sort:0)) \n",
      " (with:(bin float_sum:0)) \n",
      " (with:(bin floats:6)) \n",
      " (with:(bin get:0))"
     ]
    }
   ],
   "source": [
    "ap pre <\\n> : Test2 SX? : first 10 : skip 9 :T0?"
   ]
  },
  {
   "cell_type": "markdown",
   "id": "459fa1c4-a906-42c6-9835-b41b5f1b168f",
   "metadata": {},
   "source": [
    "arg\n",
    "co\n",
    "code_sort\n",
    "count\n",
    "domain\n",
    "float_max\n",
    "float_min\n",
    "int_max\n",
    "int_min"
   ]
  },
  {
   "cell_type": "code",
   "execution_count": 11,
   "id": "9ed3cadd-0bc4-48de-9a96-12b02200105f",
   "metadata": {},
   "outputs": [
    {
     "name": "stdout",
     "output_type": "stream",
     "text": [
      "(with:(bin ap pass:4)) (with:(bin count:0)) (with:(bin collect:4))"
     ]
    }
   ],
   "source": [
    "Test2 (:a b) (:a a) : (:ap pass) (:count) (:collect)"
   ]
  },
  {
   "cell_type": "code",
   "execution_count": 7,
   "id": "4b5195b4-883f-4ebe-bcc4-32d11566f287",
   "metadata": {},
   "outputs": [
    {
     "name": "stdout",
     "output_type": "stream",
     "text": [
      "(:a b) (:a a) ◎ (:0 1)"
     ]
    }
   ],
   "source": [
    "S0?"
   ]
  },
  {
   "cell_type": "code",
   "execution_count": 8,
   "id": "68f300ae-2be0-45fe-8007-e89ab070e851",
   "metadata": {},
   "outputs": [
    {
     "name": "stdout",
     "output_type": "stream",
     "text": [
      "(:arg) (:bin) (:by) (:co) (:code_sort) (:collect) (:count) (:domain) (:equiv) (:first) (:float_div) (:float_inv) (:float_max) (:float_min) (:float_prod) (:float_sort) (:float_sum) (:floats) (:get) (:has) (:hasnt) (:if) (:int_div) (:int_inv) (:int_max) (:int_min) (:int_prod) (:int_sort) (:int_sum) (:ints) (:is) (:isnt) (:last) (:left) (:nat) (:nats) (:nif) (:nth) (:nth1) (:null) (:once) (:pass) (:plus) (:post) (:pre) (:prod) (:put) (:rep) (:rev) (:right) (:skip) (:star) (:sum) (:tail)"
     ]
    }
   ],
   "source": [
    "T0?"
   ]
  },
  {
   "cell_type": "code",
   "execution_count": 12,
   "id": "108b413b-5d78-4eb6-b068-014c3c408bd8",
   "metadata": {},
   "outputs": [
    {
     "name": "stdout",
     "output_type": "stream",
     "text": []
    }
   ],
   "source": [
    "Let R0 : Test2 S0? : first 10 : T0?"
   ]
  },
  {
   "cell_type": "code",
   "execution_count": 14,
   "id": "2b53d9f0-3fec-4d2a-a0a7-c5d1adf95b3e",
   "metadata": {},
   "outputs": [
    {
     "name": "stdout",
     "output_type": "stream",
     "text": [
      "(ap post \n",
      ":(R1:))"
     ]
    }
   ],
   "source": [
    "ap post <\\n> : R1?"
   ]
  },
  {
   "cell_type": "code",
   "execution_count": 10,
   "id": "0fdebe7a-95b8-49f5-91da-5b881f66b634",
   "metadata": {},
   "outputs": [
    {
     "name": "stdout",
     "output_type": "stream",
     "text": [
      "(with:(bin domain:0))"
     ]
    }
   ],
   "source": [
    "Test2 S0? : (:domain)"
   ]
  },
  {
   "cell_type": "code",
   "execution_count": null,
   "id": "43938649-9358-4800-bbd7-07332ceb2fae",
   "metadata": {},
   "outputs": [],
   "source": [
    "out R0 : R0?"
   ]
  },
  {
   "cell_type": "code",
   "execution_count": null,
   "id": "2d985e01-0dcc-4882-867c-1a749b407505",
   "metadata": {},
   "outputs": [],
   "source": [
    "Let R1 : Test2 S0? : T1? "
   ]
  },
  {
   "cell_type": "code",
   "execution_count": null,
   "id": "efc994e2-890f-4fc0-948d-35e884b3d246",
   "metadata": {},
   "outputs": [],
   "source": [
    "out R1 : R1? "
   ]
  },
  {
   "cell_type": "code",
   "execution_count": null,
   "id": "9e7c6f1e-9770-4c05-a2af-2622cf2941d5",
   "metadata": {},
   "outputs": [],
   "source": [
    "Let R2 : Test2 S0? : T2? "
   ]
  },
  {
   "cell_type": "code",
   "execution_count": null,
   "id": "785dc739-b26f-41bb-852e-199b3a00325f",
   "metadata": {},
   "outputs": [],
   "source": [
    "out R2 : R2?"
   ]
  },
  {
   "cell_type": "code",
   "execution_count": null,
   "id": "e15db8a6-ccba-45bd-b8a7-f315469acb50",
   "metadata": {},
   "outputs": [],
   "source": []
  },
  {
   "cell_type": "code",
   "execution_count": null,
   "id": "15307720-52d0-4090-8d83-53905f9a5ba2",
   "metadata": {},
   "outputs": [],
   "source": []
  }
 ],
 "metadata": {
  "kernelspec": {
   "display_name": "coda",
   "language": "",
   "name": "coda"
  },
  "language_info": {
   "file_extension": ".co",
   "mimetype": "text/plain",
   "name": "Any text"
  }
 },
 "nbformat": 4,
 "nbformat_minor": 5
}
