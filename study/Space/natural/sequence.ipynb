{
 "cells": [
  {
   "cell_type": "code",
   "execution_count": null,
   "id": "edc505d6-1cd5-4e23-85b1-788697f8c202",
   "metadata": {},
   "outputs": [],
   "source": [
    "defaultTime:5"
   ]
  },
  {
   "cell_type": "code",
   "execution_count": 2,
   "id": "3e7a1725-7b0d-4e61-a664-34137495f1dc",
   "metadata": {},
   "outputs": [
    {
     "name": "stdout",
     "output_type": "stream",
     "text": []
    }
   ],
   "source": [
    "import : dir co : up : ."
   ]
  },
  {
   "cell_type": "code",
   "execution_count": 3,
   "id": "34144ee8-bdf8-467e-980f-0f9597366de7",
   "metadata": {},
   "outputs": [
    {
     "name": "stdout",
     "output_type": "stream",
     "text": []
    }
   ],
   "source": [
    "Def n:\n",
    "Def N: Seq n : ap const | "
   ]
  },
  {
   "cell_type": "code",
   "execution_count": 4,
   "id": "e662e411-937b-4b42-934b-e35a5dff5c14",
   "metadata": {},
   "outputs": [
    {
     "name": "stdout",
     "output_type": "stream",
     "text": [
      "(n:| |) (n:| | |) (n:) (n:|)\n",
      "(n:| |) (n:| | |) (n:) (n:|)\n",
      "(n:| |) (n:| | |) (n:) (n:|)"
     ]
    }
   ],
   "source": [
    "#\n",
    "#  N is a space, so the following should be the same \n",
    "#\n",
    "N : (n:| |) (n:| | |) (n:) (n:|) \n",
    "N : N : (n:| |) (n:| | |) (n:) (n:|)\n",
    "N : (N: (n:| |) (n:| | |) ) (N : (n:) (n:|)) "
   ]
  },
  {
   "cell_type": "code",
   "execution_count": 5,
   "id": "24ac7025-8452-4781-a3fc-bdec1bc23391",
   "metadata": {},
   "outputs": [
    {
     "name": "stdout",
     "output_type": "stream",
     "text": []
    }
   ],
   "source": [
    "#\n",
    "#   A typical element of N is a sequence \n",
    "#   of \"stick\" values stored in n atoms. \n",
    "#\n",
    "Let T1 : (n:| |) (n:| | |) (n:) (n:|) "
   ]
  },
  {
   "cell_type": "code",
   "execution_count": 6,
   "id": "e20c173d-eb5a-439b-a12b-87ba824e586a",
   "metadata": {
    "tags": []
   },
   "outputs": [
    {
     "name": "stdout",
     "output_type": "stream",
     "text": [
      "(n:| |) (n:| | |) (n:) (n:|)\n",
      "(n:| |) (n:| | |) (n:) (n:|) (n:| |) (n:| | |) (n:) (n:|)\n",
      "(n:) (n:|)\n",
      "(n:| | | | | |)\n",
      "(n:)\n",
      "(n:| | | | | | | | | | | |)\n",
      "(n:| |)"
     ]
    }
   ],
   "source": [
    "#\n",
    "#   end N:F is an endomorphism of N for any data F\n",
    "#\n",
    "(end N:pass)  : T1?\n",
    "(end N:null)  : T1?\n",
    "(end N:{B B}) : T1?\n",
    "(end N:back | |) : T1?\n",
    "#\n",
    "#   inner endomorphisms are a special case \n",
    "#\n",
    "(in n:pass) : T1?\n",
    "(in n:null) : T1?\n",
    "(in n:{B B}) : T1?\n",
    "(in n:back | |) : T1?"
   ]
  },
  {
   "cell_type": "code",
   "execution_count": 7,
   "id": "55f7c1b0-52f9-44d9-920d-187b284a41b9",
   "metadata": {},
   "outputs": [
    {
     "name": "stdout",
     "output_type": "stream",
     "text": []
    }
   ],
   "source": [
    "#\n",
    "#   Let's make two shortcuts \n",
    "#\n",
    "#   E:f is the endomorphism corresponding to data f \n",
    "#   e:f is the inner endomorphism corresponding to data f \n",
    "#\n",
    "Def E: {end N:B} \n",
    "Def e: {in n:B}"
   ]
  },
  {
   "cell_type": "code",
   "execution_count": 8,
   "id": "0e75a8ac-c422-4253-b969-763d754edde8",
   "metadata": {},
   "outputs": [
    {
     "name": "stdout",
     "output_type": "stream",
     "text": [
      "(n:| |) (n:| | |) (n:) (n:|)\n",
      "(n:| |) (n:| | |) (n:) (n:|) (n:| |) (n:| | |) (n:) (n:|)\n",
      "(n:) (n:|)\n",
      "(n:| | | | | |)\n",
      "(n:)\n",
      "(n:| | | | | | | | | | | |)\n",
      "(n:| |)"
     ]
    }
   ],
   "source": [
    "(E:pass) : T1?\n",
    "(E:null) : T1?\n",
    "(E:{B B}): T1?\n",
    "(E:back | |) : T1?\n",
    "(e:pass) : T1?\n",
    "(e:null) : T1?\n",
    "(e:{B B}): T1?\n",
    "(e:back | |) : T1?"
   ]
  },
  {
   "cell_type": "code",
   "execution_count": 9,
   "id": "f3e106d8-100a-43b4-8f67-4b489d676408",
   "metadata": {
    "tags": []
   },
   "outputs": [
    {
     "name": "stdout",
     "output_type": "stream",
     "text": [
      "(n:| |) (n:| | |) (n:) (n:|) (n:| |) (n:| | |) (n:) (n:|)\n",
      "(n:|) (n:| |) (n:| | |)"
     ]
    }
   ],
   "source": [
    "series (E:pass) : T1?\n",
    "series (E:((e:pass)*back | |)) : (n:|) (n:| |) "
   ]
  },
  {
   "cell_type": "code",
   "execution_count": 10,
   "id": "a9548a02-483b-40a8-8101-454d2cc3c6bc",
   "metadata": {
    "jupyter": {
     "source_hidden": true
    },
    "tags": []
   },
   "outputs": [
    {
     "name": "stdout",
     "output_type": "stream",
     "text": [
      "(n:|) (n:|) (n:| |)\n",
      "(n:|) (n:|) (n:| |) (n:| | |)\n",
      "(n:|) (n:|) (n:| |) (n:| | |) (n:| | | | |)\n",
      "(n:|) (n:|) (n:| |) (n:| | |) (n:| | | | |) (n:| | | | | | | |)"
     ]
    }
   ],
   "source": [
    "Def Fib : series (E:((e:pass)*back | |)) \n",
    "Fib : (n:|) (n:|)\n",
    "Fib : Fib : (n:|) (n:|) \n",
    "Fib : Fib : Fib : (n:|) (n:|) \n",
    "Fib : Fib : Fib : Fib : (n:|) (n:|) "
   ]
  },
  {
   "cell_type": "code",
   "execution_count": 11,
   "id": "2f044b51-88d0-4224-8c56-05d4ec451094",
   "metadata": {
    "jupyter": {
     "source_hidden": true
    },
    "tags": []
   },
   "outputs": [
    {
     "name": "stdout",
     "output_type": "stream",
     "text": [
      "(n:|) (n:|) (n:| |) (n:| | |) (n:| | | | |) (n:| | | | | | | |)"
     ]
    }
   ],
   "source": [
    "(pow | | | | : Fib) : (n:|) (n:|) "
   ]
  },
  {
   "cell_type": "code",
   "execution_count": 12,
   "id": "28db2374-58ef-4601-a6c1-692dc1eddd74",
   "metadata": {
    "jupyter": {
     "source_hidden": true
    },
    "tags": []
   },
   "outputs": [
    {
     "name": "stdout",
     "output_type": "stream",
     "text": [
      "(n:)\n",
      "(n:| | |)"
     ]
    }
   ],
   "source": [
    "#\n",
    "#   We can get the minimum and maximum from a sequence \n",
    "#\n",
    "Def min : {put n : less (get n:A) : (get n:B)} \n",
    "Def max : {put n : more (get n:A) : (get n:B)}\n",
    "Def MIN : (E:aj min)\n",
    "Def MAX : (E:aj max)\n",
    "MIN : T1? \n",
    "MAX : T1?"
   ]
  },
  {
   "cell_type": "code",
   "execution_count": 13,
   "id": "94f995cc-9867-4207-bef0-4c5766f030f5",
   "metadata": {
    "jupyter": {
     "source_hidden": true
    },
    "tags": []
   },
   "outputs": [
    {
     "name": "stdout",
     "output_type": "stream",
     "text": [
      "(n:)\n",
      "(n:| | |)"
     ]
    }
   ],
   "source": [
    "MIN : T1? \n",
    "MAX : T1?"
   ]
  },
  {
   "cell_type": "code",
   "execution_count": 14,
   "id": "de5f2525-5599-450e-b891-928dbacadde1",
   "metadata": {},
   "outputs": [
    {
     "name": "stdout",
     "output_type": "stream",
     "text": []
    }
   ],
   "source": [
    "Def mod : {while frontstrip A:B} \n",
    "Def mul : {dup A : B} "
   ]
  },
  {
   "cell_type": "code",
   "execution_count": 15,
   "id": "e22e1174-3256-42ec-aba4-0af8e0612062",
   "metadata": {},
   "outputs": [
    {
     "name": "stdout",
     "output_type": "stream",
     "text": [
      "(ap {post <\\n> : (get:B):T1?}:(endos:))"
     ]
    }
   ],
   "source": [
    "ap {post <\\n> : (get:B):T1?} : endos?"
   ]
  },
  {
   "cell_type": "code",
   "execution_count": 16,
   "id": "2615b1df-dc52-4a47-939f-95dc88dd6d7a",
   "metadata": {},
   "outputs": [
    {
     "name": "stdout",
     "output_type": "stream",
     "text": [
      "\u001b[;1mcode:\u001b[0m\n",
      "    \u001b[34;7mprepoly\u001b[0m\n",
      "\u001b[;1mmodule:\u001b[0m\n",
      "    Sequence\n",
      "\u001b[;1msummary:\u001b[0m\n",
      "    Some combinatorics\n",
      "\u001b[;1mdescription:\u001b[0m\n",
      "\u001b[;1mpath:\u001b[0m\n",
      "    /Users/youssef/coda/co/Sequence.co\n",
      "\u001b[;1msource code:\u001b[0m\n",
      "    def prepoly : {prepoly_ 0 A : B}\n",
      "\u001b[;1mdemos:\u001b[0m\n",
      "    1. \u001b[35;4mpresum a b c : x y z\u001b[0m\n",
      "    2. \u001b[35;4mpresum a : x y z\u001b[0m\n",
      "    3. \u001b[35;4mpreprod a b c : x y z\u001b[0m\n",
      "    4. \u001b[35;4mprepoly a b c : x y z\u001b[0m\n",
      "    5. \u001b[35;4mcollect : ap {(bin (nat_sum:arg:B):right:B)} : preprod a b c : x y z\u001b[0m\n"
     ]
    }
   ],
   "source": [
    "#\n",
    "#   To show something a little more complicated, let's construct the \n",
    "#   product of N data treating each data as a polynomial \n",
    "#\n",
    "help : prepoly "
   ]
  },
  {
   "cell_type": "code",
   "execution_count": 17,
   "id": "5fa9f806-422a-4a68-8615-0093e71e88b1",
   "metadata": {},
   "outputs": [
    {
     "name": "stdout",
     "output_type": "stream",
     "text": [
      "(bin 0:a x) (bin 1:a y) (bin 2:a z) (bin 1:b x) (bin 2:b y) (bin 3:b z) (bin 2:c x) (bin 3:c y) (bin 4:c z)"
     ]
    }
   ],
   "source": [
    "prepoly a b c : x y z "
   ]
  },
  {
   "cell_type": "code",
   "execution_count": 18,
   "id": "edce9982-4334-4350-83d1-027c73cd52e0",
   "metadata": {},
   "outputs": [
    {
     "name": "stdout",
     "output_type": "stream",
     "text": [
      "(bin 0:(n:|) (n:| |)) (bin 1:(n:|) (n:)) (bin 2:(n:|) (n:|)) (bin 1:(n:| |) (n:| |)) (bin 2:(n:| |) (n:)) (bin 3:(n:| |) (n:|))"
     ]
    }
   ],
   "source": [
    "prepoly (n:|) (n:| |) : (n:| |) (n:) (n:|) "
   ]
  },
  {
   "cell_type": "code",
   "execution_count": 19,
   "id": "0bff2c8a-61f4-48cc-9918-cd80a3c055cf",
   "metadata": {},
   "outputs": [
    {
     "name": "stdout",
     "output_type": "stream",
     "text": [
      "| | | | | |"
     ]
    }
   ],
   "source": [
    "{dup (get n:A) : (get n:B)} (n:| |) : (n:| | |)"
   ]
  },
  {
   "cell_type": "code",
   "execution_count": 20,
   "id": "82d279dc-08a8-49b5-9637-de866918ff78",
   "metadata": {},
   "outputs": [
    {
     "name": "stdout",
     "output_type": "stream",
     "text": []
    }
   ],
   "source": [
    "Def _product : {put n : dup (get n:front |:B) : (get n:tail |:B)}"
   ]
  },
  {
   "cell_type": "code",
   "execution_count": 21,
   "id": "e0707c9e-72b8-47f2-9f31-2e97cefc7e36",
   "metadata": {},
   "outputs": [
    {
     "name": "stdout",
     "output_type": "stream",
     "text": [
      "(n:| | | | | |)"
     ]
    }
   ],
   "source": [
    "_product : (n:| |) (n:| | |)"
   ]
  },
  {
   "cell_type": "code",
   "execution_count": 22,
   "id": "c4870974-0569-4c1f-a15b-6373fd2fcb06",
   "metadata": {},
   "outputs": [
    {
     "name": "stdout",
     "output_type": "stream",
     "text": [
      "(bin 0:(n:|) (n:| |)) (bin 1:(n:|) (n:)) (bin 2:(n:|) (n:| |)) (bin 1:(n:| |) (n:| |)) (bin 2:(n:| |) (n:)) (bin 3:(n:| |) (n:| |))"
     ]
    }
   ],
   "source": [
    "prepoly (n:|) (n:| |) : (n:| |) (n:) (n:| |)"
   ]
  },
  {
   "cell_type": "code",
   "execution_count": 23,
   "id": "aeded6ce-4dce-4077-941c-d3814a7689e8",
   "metadata": {},
   "outputs": [
    {
     "name": "stdout",
     "output_type": "stream",
     "text": []
    }
   ],
   "source": [
    "Let T2 : (n:) (n:|)"
   ]
  },
  {
   "cell_type": "code",
   "execution_count": 24,
   "id": "916fd4c7-1d8b-4686-bea1-aa3e5418c665",
   "metadata": {},
   "outputs": [
    {
     "name": "stdout",
     "output_type": "stream",
     "text": [
      "(bin 0:(n:) (n:| |)) (bin 1:(n:) (n:| | |)) (bin 2:(n:) (n:)) (bin 3:(n:) (n:|)) (bin 1:(n:|) (n:| |)) (bin 2:(n:|) (n:| | |)) (bin 3:(n:|) (n:)) (bin 4:(n:|) (n:|))"
     ]
    }
   ],
   "source": [
    "prepoly T2? : T1?"
   ]
  },
  {
   "cell_type": "code",
   "execution_count": 25,
   "id": "c4bd5434-d33f-4385-9c28-e8f8f0542e39",
   "metadata": {},
   "outputs": [
    {
     "name": "stdout",
     "output_type": "stream",
     "text": [
      "(bin 0:(n:)) (bin 1:(n:)) (bin 2:(n:)) (bin 3:(n:)) (bin 1:(n:| |)) (bin 2:(n:| | |)) (bin 3:(n:)) (bin 4:(n:|))"
     ]
    }
   ],
   "source": [
    "ap {(left:B) : (_product:right:B)} : prepoly T2? : T1? "
   ]
  },
  {
   "cell_type": "code",
   "execution_count": 26,
   "id": "9463b99c-a3d0-4212-83d5-721508a5f907",
   "metadata": {},
   "outputs": [
    {
     "name": "stdout",
     "output_type": "stream",
     "text": [
      "(bin 0:(n:)) (bin 1:(n:) (n:| |)) (bin 2:(n:) (n:| | |)) (bin 3:(n:) (n:)) (bin 4:(n:|))"
     ]
    }
   ],
   "source": [
    "sameleft : ap {(left:B) : (_product:right:B)} : prepoly T2? : T1? "
   ]
  },
  {
   "cell_type": "code",
   "execution_count": 27,
   "id": "02dbd6ab-a2df-4377-866d-a00e2a9a0068",
   "metadata": {},
   "outputs": [
    {
     "name": "stdout",
     "output_type": "stream",
     "text": [
      "(n:) (n:| |) (n:| | |) (n:) (n:|)"
     ]
    }
   ],
   "source": [
    "ap {(e:pass):right:B} : sameleft : ap {(left:B) : (_product:right:B)} : prepoly T2? : T1? "
   ]
  },
  {
   "cell_type": "code",
   "execution_count": 28,
   "id": "492e7c6f-3373-410e-8a60-b792f1766f2e",
   "metadata": {},
   "outputs": [
    {
     "name": "stdout",
     "output_type": "stream",
     "text": []
    }
   ],
   "source": [
    "Def poly : {ap {(e:pass):right:B} : sameleft : ap {(left:B) : (_product:right:B)} : prepoly A : B} "
   ]
  },
  {
   "cell_type": "code",
   "execution_count": 29,
   "id": "7141a36b-26ec-4750-82eb-7f09fc0fbff6",
   "metadata": {},
   "outputs": [
    {
     "name": "stdout",
     "output_type": "stream",
     "text": [
      "(n:) (n:| |) (n:| | |) (n:) (n:|)"
     ]
    }
   ],
   "source": [
    "poly T2? : T1?"
   ]
  },
  {
   "cell_type": "code",
   "execution_count": 30,
   "id": "4d2bb09e-05a7-4852-91ad-eca759fd47ab",
   "metadata": {},
   "outputs": [
    {
     "name": "stdout",
     "output_type": "stream",
     "text": [
      "(n:) (n:|)"
     ]
    }
   ],
   "source": [
    "T2?"
   ]
  },
  {
   "cell_type": "code",
   "execution_count": 31,
   "id": "b1ca8250-fcba-4432-8587-63a96992386e",
   "metadata": {},
   "outputs": [
    {
     "name": "stdout",
     "output_type": "stream",
     "text": [
      "(n:) (n:) (n:)"
     ]
    }
   ],
   "source": [
    "#\n",
    "#   Finally, poly is the polynomial product \n",
    "#\n",
    "poly (n:) : (n:|) (n:| |) (n:|) "
   ]
  },
  {
   "cell_type": "code",
   "execution_count": 32,
   "id": "4e5f69bc-ba7d-48ef-85cb-be71b7317864",
   "metadata": {},
   "outputs": [
    {
     "name": "stdout",
     "output_type": "stream",
     "text": []
    }
   ],
   "source": [
    "#\n",
    "#   Let's fix multiplying by some fixed polynomial and add that to our \n",
    "#   collection of endomorphisms \n",
    "#\n",
    "Def POLY : (E:poly (n:) (n:| |)) \n",
    "\n",
    "Def MUL2 : (E:ap (e:mul | |))\n",
    "Def MOD2 : (E:ap (e:mod | |)) \n",
    "Def ID : (E:pass) \n",
    "Def SUM : (e:pass) \n",
    "Def TWO : (E:{B B}) \n",
    "Def FIB : (E:((e:pass)*back | |))\n",
    "\n",
    "Let endos : ap : ID SUM TWO FIB MUL2 MOD2 MAX MIN POLY "
   ]
  },
  {
   "cell_type": "code",
   "execution_count": 33,
   "id": "5b91d0e5-0225-42b3-995c-77d5e3543109",
   "metadata": {},
   "outputs": [
    {
     "name": "stdout",
     "output_type": "stream",
     "text": [
      "(n:) (n:) (n:|)"
     ]
    }
   ],
   "source": [
    "(E:poly (n:) (n:|)) : T2?"
   ]
  },
  {
   "cell_type": "code",
   "execution_count": 34,
   "id": "459ee63c-d59d-4ff7-a895-d6f884253f5c",
   "metadata": {},
   "outputs": [
    {
     "name": "stdout",
     "output_type": "stream",
     "text": [
      "(n:) (n:) (n:| |)"
     ]
    }
   ],
   "source": [
    "POLY : T2?"
   ]
  },
  {
   "cell_type": "code",
   "execution_count": null,
   "id": "33da17f5-7d28-4eac-9e92-e69b13cbd3df",
   "metadata": {},
   "outputs": [],
   "source": []
  }
 ],
 "metadata": {
  "kernelspec": {
   "display_name": "coda",
   "language": "",
   "name": "coda"
  },
  "language_info": {
   "file_extension": ".co",
   "mimetype": "text/plain",
   "name": "Any text"
  }
 },
 "nbformat": 4,
 "nbformat_minor": 5
}
