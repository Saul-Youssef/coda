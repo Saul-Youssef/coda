{
 "cells": [
  {
   "cell_type": "code",
   "execution_count": 1,
   "id": "a4e29218-fb65-44d8-9303-faa8fa118136",
   "metadata": {
    "tags": []
   },
   "outputs": [
    {
     "name": "stdout",
     "output_type": "stream",
     "text": [
      "(defaultTime:1000)"
     ]
    }
   ],
   "source": [
    "defaultTime:1000"
   ]
  },
  {
   "cell_type": "code",
   "execution_count": 2,
   "id": "09287192-52a8-4062-b8e5-59fd5be2bd96",
   "metadata": {
    "tags": []
   },
   "outputs": [
    {
     "name": "stdout",
     "output_type": "stream",
     "text": []
    }
   ],
   "source": [
    "import : dir co : up : up : up : ."
   ]
  },
  {
   "cell_type": "code",
   "execution_count": 3,
   "id": "d73e44f3-d775-4fc1-921d-9f046cd66567",
   "metadata": {},
   "outputs": [
    {
     "name": "stdout",
     "output_type": "stream",
     "text": []
    }
   ],
   "source": [
    "Def F : {ap {if (right:B):(:arg:B)} : B} "
   ]
  },
  {
   "cell_type": "code",
   "execution_count": 4,
   "id": "8b1cd759-6917-44ee-94be-f9639aeb9528",
   "metadata": {},
   "outputs": [
    {
     "name": "stdout",
     "output_type": "stream",
     "text": [
      "85"
     ]
    }
   ],
   "source": [
    "#\n",
    "#   Search space a.k.a. \n",
    "#\n",
    "Let Domain : C1?: \n",
    "count : Domain? "
   ]
  },
  {
   "cell_type": "code",
   "execution_count": 5,
   "id": "0974d12f-00df-44da-b375-7cc933b156bf",
   "metadata": {
    "tags": []
   },
   "outputs": [
    {
     "name": "stdout",
     "output_type": "stream",
     "text": []
    }
   ],
   "source": [
    "write algebraic_L1 3600 : dom 100 : property algebraic_L1 S7? : Domain? \n",
    "write algebraic_L1.can 3600 : F : read stable : algebraic_L1 "
   ]
  },
  {
   "cell_type": "code",
   "execution_count": 6,
   "id": "aeede726-77e0-4e1b-a68a-ccc3b3f318ae",
   "metadata": {},
   "outputs": [
    {
     "name": "stdout",
     "output_type": "stream",
     "text": []
    }
   ],
   "source": [
    "write algebraic_L2 3600 : dom 100 : property algebraic_L2 S7? : read : algebraic_L1.can \n",
    "write algebraic_L2.can 3600 : F : read stable : algebraic_L2 "
   ]
  },
  {
   "cell_type": "code",
   "execution_count": null,
   "id": "d06f6e4a-38bc-4bd5-8db7-c91266f5775b",
   "metadata": {},
   "outputs": [],
   "source": []
  },
  {
   "cell_type": "code",
   "execution_count": 7,
   "id": "dbf45f13-75f2-4d48-9138-0328b3023ca2",
   "metadata": {},
   "outputs": [
    {
     "name": "stdout",
     "output_type": "stream",
     "text": []
    }
   ],
   "source": [
    "write algebraic_R1 3600 : dom 500 : property algebraic_R1 S7? : Domain? \n",
    "write algebraic_R1.can 3600 : F : read stable : algebraic_R1 "
   ]
  },
  {
   "cell_type": "code",
   "execution_count": 8,
   "id": "3eef0377-3846-46fa-833c-894f802064eb",
   "metadata": {},
   "outputs": [
    {
     "name": "stdout",
     "output_type": "stream",
     "text": [
      "...traceback: list index out of range"
     ]
    }
   ],
   "source": [
    "write algebraic_R2 3600 : dom 500 : property algebraic_R2 S7? : read : algebraic_R1.can \n",
    "write algebraic_R2.can 3600 : F : read stable : algebraic_R2 "
   ]
  },
  {
   "cell_type": "code",
   "execution_count": null,
   "id": "2d11ce14-b3ca-4859-8e36-3d36c34623b1",
   "metadata": {},
   "outputs": [],
   "source": []
  },
  {
   "cell_type": "code",
   "execution_count": 9,
   "id": "fa9fa699-54c7-4d37-ac90-bf872f32f631",
   "metadata": {
    "tags": []
   },
   "outputs": [
    {
     "name": "stdout",
     "output_type": "stream",
     "text": []
    }
   ],
   "source": [
    "write algebraic_L3 7200 : dom 3600 : property algebraic_L3 S7? : read : algebraic_L2.can \n",
    "write algebraic_L3.can 3600 : F : read stable : algebraic_L3 "
   ]
  },
  {
   "cell_type": "code",
   "execution_count": 10,
   "id": "51dfb8b0-4507-4ecc-87d7-20ec028adae7",
   "metadata": {},
   "outputs": [
    {
     "name": "stdout",
     "output_type": "stream",
     "text": []
    }
   ],
   "source": [
    "write algebraic_R3 7200 : dom 3600 : property algebraic_R3 S7? : read : algebraic_R2.can \n",
    "write algebraic_R3.can 3600 : F : read stable : algebraic_R3 "
   ]
  },
  {
   "cell_type": "code",
   "execution_count": 11,
   "id": "3dc58b62-7fda-4acb-becc-52c4af65ae40",
   "metadata": {},
   "outputs": [
    {
     "name": "stdout",
     "output_type": "stream",
     "text": [
      "44\n",
      "41\n",
      "32\n",
      "71\n",
      "(count:(ap {if (right:B):(:arg:B)}:(read stable:algebraic_R2)))\n",
      "0"
     ]
    }
   ],
   "source": [
    "count : read : algebraic_L1.can \n",
    "count : read : algebraic_L2.can\n",
    "count : read : algebraic_L3.can\n",
    "count : read : algebraic_R1.can\n",
    "count : read : algebraic_R2.can\n",
    "count : read : algebraic_R3.can"
   ]
  },
  {
   "cell_type": "code",
   "execution_count": 12,
   "id": "75798453-f61e-40df-9a6c-de8ee02ba23f",
   "metadata": {},
   "outputs": [
    {
     "name": "stdout",
     "output_type": "stream",
     "text": [
      "/Users/youssef/coda/study/Algebra/Algebraic/C1-S6/algebraic_L1 /Users/youssef/coda/study/Algebra/Algebraic/C1-S6/algebraic_L3.can /Users/youssef/coda/study/Algebra/Algebraic/C1-S6/algebraic_L2.can /Users/youssef/coda/study/Algebra/Algebraic/C1-S6/Search.ipynb /Users/youssef/coda/study/Algebra/Algebraic/C1-S6/algebraic_L1.can /Users/youssef/coda/study/Algebra/Algebraic/C1-S6/algebraic_R3 /Users/youssef/coda/study/Algebra/Algebraic/C1-S6/algebraic_R1.can /Users/youssef/coda/study/Algebra/Algebraic/C1-S6/algebraic_R3.can /Users/youssef/coda/study/Algebra/Algebraic/C1-S6/algebraic_R2.can /Users/youssef/coda/study/Algebra/Algebraic/C1-S6/Spectrum.ipynb /Users/youssef/coda/study/Algebra/Algebraic/C1-S6/algebraic_L2 /Users/youssef/coda/study/Algebra/Algebraic/C1-S6/Result.ipynb /Users/youssef/coda/study/Algebra/Algebraic/C1-S6/algebraic_L3 /Users/youssef/coda/study/Algebra/Algebraic/C1-S6/algebraic_R1 /Users/youssef/coda/study/Algebra/Algebraic/C1-S6/.ipynb_checkpoints"
     ]
    }
   ],
   "source": [
    "dir : ."
   ]
  },
  {
   "cell_type": "code",
   "execution_count": null,
   "id": "49826951-16ef-410e-8c29-bbbc2ee3114e",
   "metadata": {},
   "outputs": [],
   "source": []
  }
 ],
 "metadata": {
  "kernelspec": {
   "display_name": "coda",
   "language": "",
   "name": "coda"
  },
  "language_info": {
   "file_extension": ".co",
   "mimetype": "text/plain",
   "name": "Any text"
  }
 },
 "nbformat": 4,
 "nbformat_minor": 5
}
