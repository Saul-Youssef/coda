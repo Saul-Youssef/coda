{
 "cells": [
  {
   "cell_type": "code",
   "execution_count": 1,
   "id": "83d566d0-bc9b-47f7-8231-87067797d246",
   "metadata": {},
   "outputs": [
    {
     "name": "stdout",
     "output_type": "stream",
     "text": [
      "(defaultTime:1000)"
     ]
    }
   ],
   "source": [
    "defaultTime : 1000 "
   ]
  },
  {
   "cell_type": "code",
   "execution_count": 2,
   "id": "cfad5b52-bf12-4d6f-b995-b8f9f76741bc",
   "metadata": {},
   "outputs": [
    {
     "name": "stdout",
     "output_type": "stream",
     "text": [
      "ai aj ap apif apin aq ar arg atoms back backstrip bin bool by collectLeft collectRight combination common const count default depth domain dup ends equal first front frontstrip fun ge get grp gt has hasnt head if is isnt item last le left less lt map maxwidth minwidth more next nif not null once pair pass permutaiton plus post pow pre prepoly preprod presum prod put rem rep rev right srt star starts sum swap tail while width"
     ]
    }
   ],
   "source": [
    "Organic?"
   ]
  },
  {
   "cell_type": "code",
   "execution_count": 3,
   "id": "b055d293-e5f6-4480-9706-13102ef24f65",
   "metadata": {},
   "outputs": [
    {
     "name": "stdout",
     "output_type": "stream",
     "text": []
    }
   ],
   "source": [
    "Let Pairs : aq permutation 1 2 : Organic?\n",
    "\n",
    "Let search1 : ap : Organic? \n",
    "Let search2 : ar {:A (get:B)} Organic? : aq permutation 0 1 2 3 : | \n",
    "Let search3 : ar {:(get:A) (get:B)} Pairs? : (:) (:|) (:| |) (:| | |)\n",
    "\n",
    "Let sample1 : aq permutation 0 1 2 : | | (:| |) (bin a:b)"
   ]
  },
  {
   "cell_type": "code",
   "execution_count": 4,
   "id": "b4a4e8b4-0cc9-4472-abe8-41c128b425ce",
   "metadata": {},
   "outputs": [
    {
     "name": "stdout",
     "output_type": "stream",
     "text": [
      "6320"
     ]
    }
   ],
   "source": [
    "count : Pairs?"
   ]
  },
  {
   "cell_type": "code",
   "execution_count": 5,
   "id": "d403d630-b0d4-4122-8dfe-9d391082d830",
   "metadata": {},
   "outputs": [
    {
     "name": "stdout",
     "output_type": "stream",
     "text": []
    }
   ],
   "source": [
    "write sample1 200 : sample1?"
   ]
  },
  {
   "cell_type": "code",
   "execution_count": 6,
   "id": "e3007bf8-6d45-4e6a-81ae-304a495e435b",
   "metadata": {},
   "outputs": [
    {
     "name": "stdout",
     "output_type": "stream",
     "text": []
    }
   ],
   "source": [
    "write search1 200 : search1?\n",
    "write search2 200 : search2?"
   ]
  },
  {
   "cell_type": "code",
   "execution_count": 7,
   "id": "fcdc4dfa-f80d-45f6-b915-1ca804019e26",
   "metadata": {},
   "outputs": [
    {
     "name": "stdout",
     "output_type": "stream",
     "text": []
    }
   ],
   "source": [
    "write search3 600 : search3?"
   ]
  },
  {
   "cell_type": "code",
   "execution_count": 8,
   "id": "383fa813-6884-4a2e-9e4f-7192349f7be9",
   "metadata": {},
   "outputs": [
    {
     "name": "stdout",
     "output_type": "stream",
     "text": [
      "(:ai) (:aj) (:ap) (:apif) (:apin) (:aq) (:ar) (:arg) (:atoms) (:back) (:backstrip) (:bin) (:bool) (:by) (:collectLeft) (:collectRight) (:combination) (:common) (:const) (:count) (:default) (:depth) (:domain) (:dup) (:ends) (:equal) (:first) (:front) (:frontstrip) (:fun) (:ge) (:get) (:grp) (:gt) (:has) (:hasnt) (:head) (:if) (:is) (:isnt) (:item) (:last) (:le) (:left) (:less) (:lt) (:map) (:maxwidth) (:minwidth) (:more) (:next) (:nif) (:not) (:null) (:once) (:pair) (:pass) (:permutaiton) (:plus) (:post) (:pow) (:pre) (:prepoly) (:preprod) (:presum) (:prod) (:put) (:rem) (:rep) (:rev) (:right) (:srt) (:star) (:starts) (:sum) (:swap) (:tail) (:while) (:width)"
     ]
    }
   ],
   "source": [
    "read : search1"
   ]
  },
  {
   "cell_type": "code",
   "execution_count": 9,
   "id": "58239bcb-36bf-4a75-8595-25f43d9ecd8b",
   "metadata": {},
   "outputs": [
    {
     "name": "stdout",
     "output_type": "stream",
     "text": [
      "◎ (:|) (:|) (:(:| |)) (:(bin a:b)) (:| |) (:| |) (:| (:| |)) (:| (bin a:b)) (:| |) (:| |) (:| (:| |)) (:| (bin a:b)) (:(:| |) |) (:(:| |) |) (:(:| |) (:| |)) (:(:| |) (bin a:b)) (:(bin a:b) |) (:(bin a:b) |) (:(bin a:b) (:| |)) (:(bin a:b) (bin a:b))"
     ]
    }
   ],
   "source": [
    "read : sample1 "
   ]
  },
  {
   "cell_type": "code",
   "execution_count": 10,
   "id": "7a67e1a7-b2a2-469c-94c7-7e7affe2837a",
   "metadata": {},
   "outputs": [
    {
     "name": "stdout",
     "output_type": "stream",
     "text": [
      "(:ai) (:ai |) (:ai | |) (:ai | | |) (:aj) (:aj |) (:aj | |) (:aj | | |) (:ap) (:ap |) (:ap | |) (:ap | | |) (:apif) (:apif |) (:apif | |) (:apif | | |) (:apin) (:apin |) (:apin | |) (:apin | | |) (:aq) (:aq |) (:aq | |) (:aq | | |) (:ar) (:ar |) (:ar | |) (:ar | | |) (:arg) (:arg |) (:arg | |) (:arg | | |) (:atoms) (:atoms |) (:atoms | |) (:atoms | | |) (:back) (:back |) (:back | |) (:back | | |) (:backstrip) (:backstrip |) (:backstrip | |) (:backstrip | | |) (:bin) (:bin |) (:bin | |) (:bin | | |) (:bool) (:bool |) (:bool | |) (:bool | | |) (:by) (:by |) (:by | |) (:by | | |) (:collectLeft) (:collectLeft |) (:collectLeft | |) (:collectLeft | | |) (:collectRight) (:collectRight |) (:collectRight | |) (:collectRight | | |) (:combination) (:combination |) (:combination | |) (:combination | | |) (:common) (:common |) (:common | |) (:common | | |) (:const) (:const |) (:const | |) (:const | | |) (:count) (:count |) (:count | |) (:count | | |) (:default) (:default |) (:default | |) (:default | | |) (:depth) (:depth |) (:depth | |) (:depth | | |) (:domain) (:domain |) (:domain | |) (:domain | | |) (:dup) (:dup |) (:dup | |) (:dup | | |) (:ends) (:ends |) (:ends | |) (:ends | | |) (:equal) (:equal |) (:equal | |) (:equal | | |) (:first) (:first |) (:first | |) (:first | | |) (:front) (:front |) (:front | |) (:front | | |) (:frontstrip) (:frontstrip |) (:frontstrip | |) (:frontstrip | | |) (:fun) (:fun |) (:fun | |) (:fun | | |) (:ge) (:ge |) (:ge | |) (:ge | | |) (:get) (:get |) (:get | |) (:get | | |) (:grp) (:grp |) (:grp | |) (:grp | | |) (:gt) (:gt |) (:gt | |) (:gt | | |) (:has) (:has |) (:has | |) (:has | | |) (:hasnt) (:hasnt |) (:hasnt | |) (:hasnt | | |) (:head) (:head |) (:head | |) (:head | | |) (:if) (:if |) (:if | |) (:if | | |) (:is) (:is |) (:is | |) (:is | | |) (:isnt) (:isnt |) (:isnt | |) (:isnt | | |) (:item) (:item |) (:item | |) (:item | | |) (:last) (:last |) (:last | |) (:last | | |) (:le) (:le |) (:le | |) (:le | | |) (:left) (:left |) (:left | |) (:left | | |) (:less) (:less |) (:less | |) (:less | | |) (:lt) (:lt |) (:lt | |) (:lt | | |) (:map) (:map |) (:map | |) (:map | | |) (:maxwidth) (:maxwidth |) (:maxwidth | |) (:maxwidth | | |) (:minwidth) (:minwidth |) (:minwidth | |) (:minwidth | | |) (:more) (:more |) (:more | |) (:more | | |) (:next) (:next |) (:next | |) (:next | | |) (:nif) (:nif |) (:nif | |) (:nif | | |) (:not) (:not |) (:not | |) (:not | | |) (:null) (:null |) (:null | |) (:null | | |) (:once) (:once |) (:once | |) (:once | | |) (:pair) (:pair |) (:pair | |) (:pair | | |) (:pass) (:pass |) (:pass | |) (:pass | | |) (:permutaiton) (:permutaiton |) (:permutaiton | |) (:permutaiton | | |) (:plus) (:plus |) (:plus | |) (:plus | | |) (:post) (:post |) (:post | |) (:post | | |) (:pow) (:pow |) (:pow | |) (:pow | | |) (:pre) (:pre |) (:pre | |) (:pre | | |) (:prepoly) (:prepoly |) (:prepoly | |) (:prepoly | | |) (:preprod) (:preprod |) (:preprod | |) (:preprod | | |) (:presum) (:presum |) (:presum | |) (:presum | | |) (:prod) (:prod |) (:prod | |) (:prod | | |) (:put) (:put |) (:put | |) (:put | | |) (:rem) (:rem |) (:rem | |) (:rem | | |) (:rep) (:rep |) (:rep | |) (:rep | | |) (:rev) (:rev |) (:rev | |) (:rev | | |) (:right) (:right |) (:right | |) (:right | | |) (:srt) (:srt |) (:srt | |) (:srt | | |) (:star) (:star |) (:star | |) (:star | | |) (:starts) (:starts |) (:starts | |) (:starts | | |) (:sum) (:sum |) (:sum | |) (:sum | | |) (:swap) (:swap |) (:swap | |) (:swap | | |) (:tail) (:tail |) (:tail | |) (:tail | | |) (:while) (:while |) (:while | |) (:while | | |) (:width) (:width |) (:width | |) (:width | | |)"
     ]
    }
   ],
   "source": [
    "read : search2"
   ]
  },
  {
   "cell_type": "code",
   "execution_count": null,
   "id": "1bf85635-7fc3-40c5-adcb-40bec8b09ba5",
   "metadata": {},
   "outputs": [],
   "source": []
  }
 ],
 "metadata": {
  "kernelspec": {
   "display_name": "coda",
   "language": "",
   "name": "coda"
  },
  "language_info": {
   "file_extension": ".co",
   "mimetype": "text/plain",
   "name": "Any text"
  }
 },
 "nbformat": 4,
 "nbformat_minor": 5
}
