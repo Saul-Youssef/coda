{
 "cells": [
  {
   "cell_type": "code",
   "execution_count": 1,
   "id": "b84d9fce-c1f4-4969-b048-2ef753ce20bf",
   "metadata": {},
   "outputs": [],
   "source": [
    "import Space,Generate"
   ]
  },
  {
   "cell_type": "code",
   "execution_count": 2,
   "id": "9ebfac15-2b0d-4d98-bba6-562076cbb6bb",
   "metadata": {},
   "outputs": [],
   "source": [
    "S = Generate.Gen(Generate.codas,3).space()"
   ]
  },
  {
   "cell_type": "code",
   "execution_count": 3,
   "id": "fc8b6d5a-eb5d-477d-979d-be86430d13ce",
   "metadata": {},
   "outputs": [],
   "source": [
    "Even = Generate.EvenAtoms(2)"
   ]
  },
  {
   "cell_type": "code",
   "execution_count": 4,
   "id": "0a0b5723-aea9-490e-9cb7-e33fd291fb76",
   "metadata": {},
   "outputs": [],
   "source": [
    "SE = S.apply(Even)"
   ]
  },
  {
   "cell_type": "code",
   "execution_count": 5,
   "id": "30b0f751-6ca6-403a-b4f2-eeed84183fb4",
   "metadata": {},
   "outputs": [],
   "source": [
    "SEE = Space.multiEval(SE,16) "
   ]
  },
  {
   "cell_type": "code",
   "execution_count": 6,
   "id": "f1a8789c-ee79-4e85-ac0a-7a3ef7a63fb0",
   "metadata": {},
   "outputs": [
    {
     "data": {
      "text/plain": [
       "eval: True, true: 5541, false:13792, undecided:3803, codas:23136, datas:23136"
      ]
     },
     "execution_count": 6,
     "metadata": {},
     "output_type": "execute_result"
    }
   ],
   "source": [
    "SEE"
   ]
  },
  {
   "cell_type": "code",
   "execution_count": 7,
   "id": "63edadcb-8af5-4491-a695-e52b79f93efe",
   "metadata": {},
   "outputs": [
    {
     "data": {
      "text/plain": [
       "(11568, 23136, 23136)"
      ]
     },
     "execution_count": 7,
     "metadata": {},
     "output_type": "execute_result"
    }
   ],
   "source": [
    "len(S),len(SE),len(SEE)"
   ]
  },
  {
   "cell_type": "code",
   "execution_count": 8,
   "id": "42ad01de-e267-413e-9cec-aaa904013770",
   "metadata": {},
   "outputs": [
    {
     "name": "stdout",
     "output_type": "stream",
     "text": [
      "({B aps} B:) -> aps\n",
      "({B aps} B:◎ ◎) -> ◎ ◎ aps\n",
      "({B ap} ap2:) -> ap\n",
      "({B ap} ap2:◎ ◎) -> ◎ ◎ ap\n",
      "({app B} collect:) -> app\n",
      "({app B} collect:◎ ◎) -> app ◎ ◎\n",
      "(apby {B none}:) -> \n",
      "(apby {B none}:◎ ◎) -> (apby {B none}:◎ ◎)\n",
      "(tail A:) -> \n",
      "(tail A:◎ ◎) -> (tail A:◎ ◎)\n"
     ]
    }
   ],
   "source": [
    "for i in range(10):\n",
    "    print(str(SEE[i]),'->',SEE._evals[SEE[i]])"
   ]
  },
  {
   "cell_type": "code",
   "execution_count": 9,
   "id": "d65cfc47-bcda-47d2-8584-2e57ea4e8b3b",
   "metadata": {},
   "outputs": [],
   "source": [
    "Categories = S.category(Even,Even)"
   ]
  },
  {
   "cell_type": "code",
   "execution_count": null,
   "id": "b89c19da-bbd5-4383-98a8-640c4dfe1964",
   "metadata": {},
   "outputs": [],
   "source": [
    "len(Categories)"
   ]
  },
  {
   "cell_type": "code",
   "execution_count": null,
   "id": "3927464d-9c55-4ba6-b4ab-2321c9e3d725",
   "metadata": {},
   "outputs": [],
   "source": [
    "CatE = Space.multiEval(Categories,16)"
   ]
  },
  {
   "cell_type": "code",
   "execution_count": null,
   "id": "de5b67ef-6dfd-41a1-a2e9-7c40df511b30",
   "metadata": {},
   "outputs": [],
   "source": [
    "CatE"
   ]
  },
  {
   "cell_type": "code",
   "execution_count": 11,
   "id": "8ae5b3a9-697c-4ee3-8d0e-acf4bc36ba4d",
   "metadata": {},
   "outputs": [],
   "source": [
    "R100 = Space.Space(*S.data_sample(100))"
   ]
  },
  {
   "cell_type": "code",
   "execution_count": 12,
   "id": "7f7da468-0028-4c15-b673-62af9a3e27e5",
   "metadata": {},
   "outputs": [
    {
     "data": {
      "text/plain": [
       "eval: False, true: 0, false:0, undecided:0, codas:100, datas:100"
      ]
     },
     "execution_count": 12,
     "metadata": {},
     "output_type": "execute_result"
    }
   ],
   "source": [
    "R100"
   ]
  },
  {
   "cell_type": "code",
   "execution_count": 13,
   "id": "fba06b46-0b96-4f0e-9209-b93ca5c03717",
   "metadata": {},
   "outputs": [],
   "source": [
    "Test = Space.Space(*[r for r in R100]+[e for e in Even])"
   ]
  },
  {
   "cell_type": "code",
   "execution_count": 14,
   "id": "881257bc-75a9-45b4-9dde-bedd1df6b1cd",
   "metadata": {},
   "outputs": [
    {
     "data": {
      "text/plain": [
       "eval: False, true: 0, false:0, undecided:0, codas:100, datas:102"
      ]
     },
     "execution_count": 14,
     "metadata": {},
     "output_type": "execute_result"
    }
   ],
   "source": [
    "Test"
   ]
  },
  {
   "cell_type": "code",
   "execution_count": 15,
   "id": "0b71a928-9e75-4349-9d88-eb8b169db5d1",
   "metadata": {},
   "outputs": [],
   "source": [
    "Categories2 = S.category(Test,Even)"
   ]
  },
  {
   "cell_type": "code",
   "execution_count": 16,
   "id": "e0d584ec-fc91-4405-afc5-156a345daf3d",
   "metadata": {},
   "outputs": [
    {
     "data": {
      "text/plain": [
       "eval: False, true: 0, false:0, undecided:0, codas:2359872, datas:2359872"
      ]
     },
     "execution_count": 16,
     "metadata": {},
     "output_type": "execute_result"
    }
   ],
   "source": [
    "Categories2"
   ]
  },
  {
   "cell_type": "code",
   "execution_count": 17,
   "id": "9715e63a-d744-47b6-a593-8c9ce7c29a04",
   "metadata": {},
   "outputs": [],
   "source": [
    "CatE = Space.multiEval(Categories2,16)"
   ]
  },
  {
   "cell_type": "code",
   "execution_count": 18,
   "id": "1ee0e5e3-3bd8-43c1-85db-bc2ff064f6ee",
   "metadata": {},
   "outputs": [
    {
     "data": {
      "text/plain": [
       "eval: True, true: 460444, false:1449048, undecided:450380, codas:2359872, datas:2359872"
      ]
     },
     "execution_count": 18,
     "metadata": {},
     "output_type": "execute_result"
    }
   ],
   "source": [
    "CatE"
   ]
  },
  {
   "cell_type": "code",
   "execution_count": 19,
   "id": "aa7ce89d-47e1-4340-99a4-b3a371bd0902",
   "metadata": {},
   "outputs": [
    {
     "name": "stdout",
     "output_type": "stream",
     "text": [
      "(= (tail A:rep 𝝞):(tail A:(tail A:rep 𝝞) (tail A:)))\n"
     ]
    }
   ],
   "source": [
    "print(CatE[1000])"
   ]
  },
  {
   "cell_type": "code",
   "execution_count": 20,
   "id": "c4c75ab5-6334-4f74-9e82-67ef6232d401",
   "metadata": {},
   "outputs": [],
   "source": [
    "CatEtrue = CatE.true()"
   ]
  },
  {
   "cell_type": "code",
   "execution_count": 21,
   "id": "21f8198b-d860-40b9-8590-0575c0294d26",
   "metadata": {},
   "outputs": [
    {
     "data": {
      "text/plain": [
       "eval: False, true: 0, false:0, undecided:0, codas:460444, datas:460444"
      ]
     },
     "execution_count": 21,
     "metadata": {},
     "output_type": "execute_result"
    }
   ],
   "source": [
    "CatEtrue"
   ]
  },
  {
   "cell_type": "code",
   "execution_count": 34,
   "id": "4940b543-b121-4cf0-912e-e5411991bbaa",
   "metadata": {},
   "outputs": [
    {
     "data": {
      "text/plain": [
       "'null if'"
      ]
     },
     "execution_count": 34,
     "metadata": {},
     "output_type": "execute_result"
    }
   ],
   "source": [
    "str(CatEtrue[1000][0].left()[-1].left())"
   ]
  },
  {
   "cell_type": "code",
   "execution_count": 36,
   "id": "35ec8583-a0ef-4ebe-abfe-483b643e7e9e",
   "metadata": {},
   "outputs": [],
   "source": [
    "CatCan = Space.Space(*[d[0].left()[-1].left() for d in CatEtrue])"
   ]
  },
  {
   "cell_type": "code",
   "execution_count": 37,
   "id": "e3c5555a-850f-437c-a537-3af7dd227db9",
   "metadata": {},
   "outputs": [
    {
     "data": {
      "text/plain": [
       "eval: False, true: 0, false:0, undecided:0, codas:143, datas:460444"
      ]
     },
     "execution_count": 37,
     "metadata": {},
     "output_type": "execute_result"
    }
   ],
   "source": [
    "CatCan"
   ]
  },
  {
   "cell_type": "code",
   "execution_count": 174,
   "id": "98f2e7ca-eab0-4a66-bc08-0893218d5f68",
   "metadata": {},
   "outputs": [],
   "source": [
    "Ran1 = Space.Space(*S.data_sample(5))\n",
    "Ran2 = Space.Space(*S.data_sample(5))"
   ]
  },
  {
   "cell_type": "code",
   "execution_count": 173,
   "id": "609ed4e2-d028-4805-b168-8bd7e073c848",
   "metadata": {},
   "outputs": [
    {
     "data": {
      "text/plain": [
       "'split {B =}'"
      ]
     },
     "execution_count": 173,
     "metadata": {},
     "output_type": "execute_result"
    }
   ],
   "source": [
    "str(CatCan.sample()[0])"
   ]
  },
  {
   "cell_type": "code",
   "execution_count": null,
   "id": "1181a2e6-fb67-4d0f-9581-b38519e286b8",
   "metadata": {},
   "outputs": [],
   "source": [
    "CatE2 = CatCan.category(Ran1,Ran2)"
   ]
  },
  {
   "cell_type": "code",
   "execution_count": null,
   "id": "4f69b5e7-75f5-47bf-ba17-bddd90b37a78",
   "metadata": {},
   "outputs": [],
   "source": [
    "CatE2"
   ]
  },
  {
   "cell_type": "code",
   "execution_count": null,
   "id": "d51da7b7-c6ab-4b93-b822-760fed97ca88",
   "metadata": {},
   "outputs": [],
   "source": []
  }
 ],
 "metadata": {
  "kernelspec": {
   "display_name": "Python 3 (ipykernel)",
   "language": "python",
   "name": "python3"
  },
  "language_info": {
   "codemirror_mode": {
    "name": "ipython",
    "version": 3
   },
   "file_extension": ".py",
   "mimetype": "text/x-python",
   "name": "python",
   "nbconvert_exporter": "python",
   "pygments_lexer": "ipython3",
   "version": "3.11.1"
  }
 },
 "nbformat": 4,
 "nbformat_minor": 5
}
