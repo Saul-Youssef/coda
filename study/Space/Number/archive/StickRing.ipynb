{
 "cells": [
  {
   "cell_type": "markdown",
   "id": "35db6fc7-e643-44c3-8324-e031469b972e",
   "metadata": {},
   "source": [
    "## Natural Numbers without Python\n",
    "\n",
    "For natural numbers, we can use int_sum, int_prod, etc.  These are built-in definitions that use underlying Python integers.  \n",
    "\n",
    "As an exercise, however, let's create natural numbers without using Python arithmetic.  The idea is to represent a natural number as a finite sequence of \"sticks\", so that 5 is represented by |||||, etc.  Start with the (essentially unique) ring of sticks.\n",
    "\n",
    "* Def sticks : ar {|}\n",
    "\n",
    "so that sticks has the ring property\n",
    "\n",
    "1. sticks X : Y Z = (sticks X : Y) (sticks X : Z) \n",
    "2. sticks X Y : Z = (sticks X : Z) (sticks Y : Z)\n",
    "\n",
    "sticks is the data form of the natural number concept where sticks A : B represents (sum A)\\*(sum B)."
   ]
  },
  {
   "cell_type": "code",
   "execution_count": 1,
   "id": "652f8a84-f8b0-46a4-8f0e-23a991f3752d",
   "metadata": {},
   "outputs": [
    {
     "name": "stdout",
     "output_type": "stream",
     "text": [
      "| | | | | |\n",
      "6\n",
      "0\n",
      "0\n",
      "1\n",
      "12"
     ]
    }
   ],
   "source": [
    "Def sticks : ar {|} \n",
    "sticks | | : | | | \n",
    "count : sticks | | : | | | \n",
    "count : sticks : \n",
    "count : sticks : | \n",
    "count : sticks | : |\n",
    "count : sticks | | | : | | | | "
   ]
  },
  {
   "cell_type": "markdown",
   "id": "9eba586c-e2bd-42cd-94c2-a407a9a6dd9f",
   "metadata": {},
   "source": [
    "For the dual form of sticks, we use an atom N and store sticks in N, so that 3 is represented by (N:| | |), etc."
   ]
  },
  {
   "cell_type": "code",
   "execution_count": 2,
   "id": "fe008158-3dcf-438e-9574-e17f2253dcc6",
   "metadata": {},
   "outputs": [
    {
     "name": "stdout",
     "output_type": "stream",
     "text": []
    }
   ],
   "source": [
    "import : dir co : up : ."
   ]
  },
  {
   "cell_type": "code",
   "execution_count": 3,
   "id": "59160154-8e5d-400e-8fe6-fb0b1d784461",
   "metadata": {},
   "outputs": [
    {
     "name": "stdout",
     "output_type": "stream",
     "text": []
    }
   ],
   "source": [
    "Def N: \n",
    "Def N.make: put N * ap {|} \n",
    "Def N.sum : put N * get N \n",
    "Def N.prod: put N * aps {sticks (get N:A): (get N:B)} \n",
    "Def N.term: ap {count : get N :B} \n",
    "Def N.ring : { N.prod : (N.prod:A) (N.sum:B) }"
   ]
  },
  {
   "cell_type": "code",
   "execution_count": 4,
   "id": "5f962f22-92f3-48ac-b1c9-41bda2a2c3a1",
   "metadata": {},
   "outputs": [
    {
     "name": "stdout",
     "output_type": "stream",
     "text": [
      "(N:| | |)\n",
      "(N:| | | | | | |)\n",
      "7\n",
      "12\n",
      "12"
     ]
    }
   ],
   "source": [
    "N.make : a b c\n",
    "N.sum : (N.make : a b c) (N.make : a b c d)\n",
    "N.term : N.sum : (N.make : a b c) (N.make : a b c d)\n",
    "N.term : N.prod : (N.make : a b c) (N.make : a b c d)\n",
    "N.term : N.ring (N:| |) (N:| | |) : (N:| ) (N:|) (N:) "
   ]
  },
  {
   "cell_type": "code",
   "execution_count": 6,
   "id": "dd122301-5cc4-40c5-b7b3-44dac27b0334",
   "metadata": {},
   "outputs": [
    {
     "name": "stdout",
     "output_type": "stream",
     "text": []
    }
   ],
   "source": [
    "Let Dom : ap {put N: rep B : |} : first 4 : nat : 0 "
   ]
  },
  {
   "cell_type": "code",
   "execution_count": 15,
   "id": "ef29be62-4129-4768-a98c-eeec59343330",
   "metadata": {},
   "outputs": [
    {
     "name": "stdout",
     "output_type": "stream",
     "text": [
      "0\n",
      "0\n",
      "0\n",
      "0\n",
      "0\n",
      "0\n",
      "0\n",
      "0"
     ]
    }
   ],
   "source": [
    "count : theorem (idempotent:N.sum) : Dom? \n",
    "count : theorem (simple:N.sum) : Dom? \n",
    "count : theorem (distributive2:N.sum) : Dom?\n",
    "count : theorem (idempotent:N.prod) : Dom?\n",
    "count : theorem (simple:N.prod) : Dom?\n",
    "count : theorem (distributive2:N.prod) : Dom?\n",
    "count : theorem (space_a:N.ring) : Dom?\n",
    "count : theorem (space_b:N.ring) : Dom?"
   ]
  },
  {
   "cell_type": "code",
   "execution_count": null,
   "id": "e72a98f3-52de-49ba-a621-2edf21e7d0cc",
   "metadata": {},
   "outputs": [],
   "source": []
  },
  {
   "cell_type": "code",
   "execution_count": null,
   "id": "0dae6a18-84d3-4066-9362-dbb4989ec4d7",
   "metadata": {},
   "outputs": [],
   "source": []
  }
 ],
 "metadata": {
  "kernelspec": {
   "display_name": "coda",
   "language": "",
   "name": "coda"
  },
  "language_info": {
   "file_extension": ".co",
   "mimetype": "text/plain",
   "name": "Any text"
  }
 },
 "nbformat": 4,
 "nbformat_minor": 5
}
