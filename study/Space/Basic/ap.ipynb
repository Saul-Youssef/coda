{
 "cells": [
  {
   "cell_type": "markdown",
   "id": "be45fcff-52f1-47aa-a18a-99e95a2f6b5f",
   "metadata": {},
   "source": [
    "| Space | Elements | Operation | Space | Simple | Idempotent | Distributive | Distributive 2 | Commutative | Involution | Nilpotent | Semilattice | \n",
    "|-------|----------|-----------|-----:|-------:|-----------:|-------------:|--------:|------------:|-----------:|----------:|----------:|\n",
    "| ap count\\*right | count of right side of each coda | Apply count\\*right to each input atom | x | x | x | x | x | x | x | x | x |\n"
   ]
  },
  {
   "cell_type": "code",
   "execution_count": 1,
   "id": "b896d017-55a9-4dd9-a6ed-2b2716416623",
   "metadata": {},
   "outputs": [
    {
     "name": "stdout",
     "output_type": "stream",
     "text": []
    }
   ],
   "source": [
    "import : dir co : up : ."
   ]
  },
  {
   "cell_type": "code",
   "execution_count": 2,
   "id": "f7630e27-1256-4853-8683-6cf2a3e9b673",
   "metadata": {},
   "outputs": [
    {
     "name": "stdout",
     "output_type": "stream",
     "text": []
    }
   ],
   "source": [
    "Def OP : {ap (first*right) : B} "
   ]
  },
  {
   "cell_type": "code",
   "execution_count": 3,
   "id": "37f0eac4-46cb-458e-9b36-4ada5be798a3",
   "metadata": {},
   "outputs": [
    {
     "name": "stdout",
     "output_type": "stream",
     "text": [
      "(with (def x:{A}) (def y:{A}):0) (with (def x:{A}) (def y:{A} ◎):0) (with (def x:{A} ◎) (def y:{A}):0) (with (def x:{A} ◎) (def y:{A} ◎):0)"
     ]
    }
   ],
   "source": [
    "theorem (distributive2:OP): (:) (:(:))"
   ]
  },
  {
   "cell_type": "code",
   "execution_count": 4,
   "id": "9e4ab43c-4818-4947-95b3-40415caa2b7d",
   "metadata": {},
   "outputs": [
    {
     "name": "stdout",
     "output_type": "stream",
     "text": []
    }
   ],
   "source": [
    "OP : (:) (:)"
   ]
  },
  {
   "cell_type": "code",
   "execution_count": 5,
   "id": "317043a7-a1c1-428f-ac85-967e35fa6d78",
   "metadata": {},
   "outputs": [
    {
     "name": "stdout",
     "output_type": "stream",
     "text": [
      "◎ (:◎) (:◎ ◎) (:◎ ◎ ◎) (:◎ ◎ ◎ ◎)"
     ]
    }
   ],
   "source": [
    "S1?"
   ]
  },
  {
   "cell_type": "code",
   "execution_count": 6,
   "id": "ea36a566-6eb7-4445-a685-5ab7dac5a499",
   "metadata": {},
   "outputs": [
    {
     "name": "stdout",
     "output_type": "stream",
     "text": [
      "(with (def x:{A}):0) (with (def x:{A} ◎):0) (with (def x:{A} ◎ ◎):0) (with (def x:{A} ◎ ◎ ◎):0) (with (def x:{A} ◎ ◎ ◎ ◎):0)"
     ]
    }
   ],
   "source": [
    "theorem (idempotent:OP) : S1?"
   ]
  },
  {
   "cell_type": "code",
   "execution_count": null,
   "id": "c68abdf5-f816-4004-960f-1ab258137933",
   "metadata": {},
   "outputs": [],
   "source": [
    "count : theorem (simple:        OP) : S1?\n",
    "count : theorem (idempotent:    OP) : S1?\n",
    "count : theorem (distributive:  OP) : S1?\n",
    "count : theorem (distributive2: OP) : S1?\n",
    "count : theorem (commutative:   OP) : S1? \n",
    "count : theorem (involution:    OP) : S1? \n",
    "count : theorem (nilpotent:     OP) : S1? \n",
    "count : theorem (semilattice:   OP) : S1?"
   ]
  },
  {
   "cell_type": "code",
   "execution_count": null,
   "id": "bdf86bd6-dc31-42e2-a6fc-2fbf327561b2",
   "metadata": {
    "tags": []
   },
   "outputs": [],
   "source": [
    "count : theorem (simple:        OP) : S2?\n",
    "count : theorem (idempotent:    OP) : S2?\n",
    "count : theorem (distributive:  OP) : S2?\n",
    "count : theorem (distributive2: OP) : S2?\n",
    "count : theorem (commutative:   OP) : S2? \n",
    "count : theorem (involution:    OP) : S2? \n",
    "count : theorem (nilpotent:     OP) : S2? \n",
    "count : theorem (semilattice:   OP) : S2?"
   ]
  },
  {
   "cell_type": "code",
   "execution_count": null,
   "id": "8d4dc59a-9542-4d03-b676-460465a599cc",
   "metadata": {},
   "outputs": [],
   "source": []
  }
 ],
 "metadata": {
  "kernelspec": {
   "display_name": "coda",
   "language": "",
   "name": "coda"
  },
  "language_info": {
   "file_extension": ".co",
   "mimetype": "text/plain",
   "name": "Any text"
  }
 },
 "nbformat": 4,
 "nbformat_minor": 5
}
