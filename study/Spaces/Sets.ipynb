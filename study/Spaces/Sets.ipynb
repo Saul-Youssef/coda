{
 "cells": [
  {
   "cell_type": "markdown",
   "id": "9d99b95b-c79e-4f2c-8bca-04c64fcd2765",
   "metadata": {},
   "source": []
  },
  {
   "cell_type": "code",
   "execution_count": 1,
   "id": "84c46f97-1d74-494f-b80a-e2f1e2cced72",
   "metadata": {},
   "outputs": [
    {
     "name": "stdout",
     "output_type": "stream",
     "text": []
    }
   ],
   "source": [
    "let S : {once : is 1 2 3 : B} "
   ]
  },
  {
   "cell_type": "code",
   "execution_count": 2,
   "id": "2ad21fe2-cda2-478c-a7ab-1ceef6f389d2",
   "metadata": {},
   "outputs": [
    {
     "name": "stdout",
     "output_type": "stream",
     "text": [
      "1 2"
     ]
    }
   ],
   "source": [
    "S? : a b c 1 2 5 1 11"
   ]
  },
  {
   "cell_type": "code",
   "execution_count": 3,
   "id": "14ad50d3-c3cb-4b49-a673-f1dced8785e3",
   "metadata": {},
   "outputs": [
    {
     "name": "stdout",
     "output_type": "stream",
     "text": [
      "1 2"
     ]
    }
   ],
   "source": [
    "S? : 1 1 2 1 1 2 "
   ]
  },
  {
   "cell_type": "code",
   "execution_count": null,
   "id": "a13dd27c-c29e-49da-870f-949b5a56e8be",
   "metadata": {},
   "outputs": [],
   "source": [
    "help : one"
   ]
  },
  {
   "cell_type": "code",
   "execution_count": null,
   "id": "2ad6c887-527e-47d2-9b07-16ddad88d7bb",
   "metadata": {},
   "outputs": [],
   "source": [
    "one : x"
   ]
  },
  {
   "cell_type": "code",
   "execution_count": null,
   "id": "142666a0-b583-459f-9c8f-8a7b3342cad4",
   "metadata": {},
   "outputs": [],
   "source": []
  }
 ],
 "metadata": {
  "kernelspec": {
   "display_name": "coda",
   "language": "",
   "name": "coda"
  },
  "language_info": {
   "file_extension": ".co",
   "mimetype": "text/plain",
   "name": "Any text"
  }
 },
 "nbformat": 4,
 "nbformat_minor": 5
}
