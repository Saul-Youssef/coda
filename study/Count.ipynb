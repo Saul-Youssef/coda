{
 "cells": [
  {
   "cell_type": "code",
   "execution_count": 1,
   "id": "ab370ab9-6775-4f91-971d-4fd24add5e91",
   "metadata": {},
   "outputs": [
    {
     "name": "stdout",
     "output_type": "stream",
     "text": []
    }
   ],
   "source": [
    "# Count spaces\n",
    "\n"
   ]
  },
  {
   "cell_type": "code",
   "execution_count": 2,
   "id": "ddf3d2d3-f7d5-477a-bb75-ba3fcde601b5",
   "metadata": {},
   "outputs": [
    {
     "name": "stdout",
     "output_type": "stream",
     "text": [
      "(let (foo:bar):1 2 3)"
     ]
    }
   ],
   "source": [
    "let (foo:bar) : 1 2 3"
   ]
  },
  {
   "cell_type": "code",
   "execution_count": 3,
   "id": "c6e08aa2-00f5-4aa2-9de3-a3a165636a90",
   "metadata": {},
   "outputs": [
    {
     "name": "stdout",
     "output_type": "stream",
     "text": []
    }
   ],
   "source": [
    "def (foo:bar) : 1 2 3 "
   ]
  },
  {
   "cell_type": "code",
   "execution_count": 4,
   "id": "99ff2f86-8342-4fac-ba27-1d48fe121281",
   "metadata": {},
   "outputs": [
    {
     "name": "stdout",
     "output_type": "stream",
     "text": [
      "(foo:bar)"
     ]
    }
   ],
   "source": [
    "foo:bar"
   ]
  },
  {
   "cell_type": "code",
   "execution_count": null,
   "id": "ebbe9708-d155-4472-9d5b-9016e335b884",
   "metadata": {},
   "outputs": [],
   "source": [
    "let x: 1 2 3 "
   ]
  },
  {
   "cell_type": "code",
   "execution_count": 9,
   "id": "a39befbe-e530-448d-85f8-b94994365172",
   "metadata": {},
   "outputs": [
    {
     "name": "stdout",
     "output_type": "stream",
     "text": []
    }
   ],
   "source": [
    "let Y : 1 2 3 "
   ]
  },
  {
   "cell_type": "code",
   "execution_count": 10,
   "id": "89c56712-3b8a-420b-a8d4-42ff1922eb3a",
   "metadata": {},
   "outputs": [
    {
     "name": "stdout",
     "output_type": "stream",
     "text": [
      "(?:Y)"
     ]
    }
   ],
   "source": [
    "Y?"
   ]
  },
  {
   "cell_type": "code",
   "execution_count": 11,
   "id": "9a84c62b-6eb9-43a7-a3c4-a60c7f9fdab3",
   "metadata": {},
   "outputs": [
    {
     "name": "stdout",
     "output_type": "stream",
     "text": [
      "(?:Y)"
     ]
    }
   ],
   "source": [
    "Y?"
   ]
  },
  {
   "cell_type": "code",
   "execution_count": 12,
   "id": "57430d4b-fe10-4540-8cd4-71749c0b7fd5",
   "metadata": {},
   "outputs": [
    {
     "name": "stdout",
     "output_type": "stream",
     "text": [
      "...traceback: [type] is already defined"
     ]
    }
   ],
   "source": [
    "def N:\n",
    "def type : {some (has N:B) : (put N : aps int_add : ap one : B)} \n",
    "def sum : {put N : aps int_add : pre 0 : get N : B} "
   ]
  },
  {
   "cell_type": "code",
   "execution_count": null,
   "id": "2013908a-9b37-4713-b21e-5c640e711a35",
   "metadata": {},
   "outputs": [],
   "source": [
    "sum : sum : (sum : type : 1 2 3 4 4 ) (type: a b c )"
   ]
  },
  {
   "cell_type": "code",
   "execution_count": null,
   "id": "90dd7353-4298-4bc0-aecd-64a86cc2d2b5",
   "metadata": {},
   "outputs": [],
   "source": [
    "type : 1 2 3 "
   ]
  },
  {
   "cell_type": "code",
   "execution_count": null,
   "id": "7252f59f-2822-450a-98fd-2a7e2b079890",
   "metadata": {},
   "outputs": [],
   "source": [
    "sum : N :4"
   ]
  },
  {
   "cell_type": "code",
   "execution_count": null,
   "id": "2ad72b6f-8dbb-4a1f-9c18-c7a89bd2c8b1",
   "metadata": {},
   "outputs": [],
   "source": [
    "ap one : x y"
   ]
  },
  {
   "cell_type": "code",
   "execution_count": null,
   "id": "d3a7d52c-e12b-4c0a-8ad8-72973295c2ad",
   "metadata": {},
   "outputs": [],
   "source": [
    "one:"
   ]
  },
  {
   "cell_type": "code",
   "execution_count": null,
   "id": "302fdedd-afea-4c96-ab32-2d01ae7c3d68",
   "metadata": {},
   "outputs": [],
   "source": []
  }
 ],
 "metadata": {
  "kernelspec": {
   "display_name": "coda",
   "language": "",
   "name": "coda"
  },
  "language_info": {
   "file_extension": ".co",
   "mimetype": "text/plain",
   "name": "Any text"
  }
 },
 "nbformat": 4,
 "nbformat_minor": 5
}
