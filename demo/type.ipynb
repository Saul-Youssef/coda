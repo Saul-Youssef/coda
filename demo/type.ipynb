{
 "cells": [
  {
   "cell_type": "code",
   "execution_count": 1,
   "id": "077f2082-78ce-4790-b0f4-3338c261c9b5",
   "metadata": {},
   "outputs": [],
   "source": [
    "from base import *"
   ]
  },
  {
   "cell_type": "code",
   "execution_count": 2,
   "id": "e1757657-eaa4-47de-8dfc-73e91d2e143b",
   "metadata": {},
   "outputs": [
    {
     "name": "stdout",
     "output_type": "stream",
     "text": [
      "∅ -> ∅ True 0 0\n",
      "𝟬 -> ∅ True 1 1\n",
      "𝟭 -> ∅ True 2 1\n",
      "(𝟬) -> ∅ True 1 2\n",
      "(𝟬𝟬) -> ∅ True 2 2\n",
      "(a) -> 𝟬 True 1 3\n",
      "(hello world) -> 𝟬 True 11 3\n",
      "(first) -> 𝟬 True 5 3\n",
      "(2) -> 𝟬 True 1 3\n",
      "(abc) -> 𝟬 True 3 3\n",
      "((a)(b)(c)) -> a False 3 4\n",
      "(((first)(2))(a)(b)(c)) -> (first) False 4 5\n"
     ]
    }
   ],
   "source": [
    "z = data()\n",
    "a = co('a')\n",
    "b = co('hello world')\n",
    "first = co('first')\n",
    "Pass = co('pass')\n",
    "two = co('2')\n",
    "B = co('a') + co('b') + co('c')\n",
    "C = data(co('a'),co('b'),co('c')) \n",
    "D = data(first,two)|C\n",
    "E = data(Pass)|C\n",
    "L = [z,z|z,z|(z|z),z|z|z,data(z|z,z|z),a,b,first,two,B,C,D]\n",
    "for l in L: print(l,'->',l.type(),l.atom(),len(l),l.depth())"
   ]
  },
  {
   "cell_type": "code",
   "execution_count": 3,
   "id": "5e344d07-2ae4-4f6e-b7cb-fa855aa20ae4",
   "metadata": {},
   "outputs": [
    {
     "data": {
      "text/plain": [
       "()"
      ]
     },
     "execution_count": 3,
     "metadata": {},
     "output_type": "execute_result"
    }
   ],
   "source": [
    "(z|(z|z)).type()"
   ]
  },
  {
   "cell_type": "code",
   "execution_count": 4,
   "id": "a886c67b-5987-4d4b-928d-428ee70577e5",
   "metadata": {},
   "outputs": [
    {
     "name": "stdout",
     "output_type": "stream",
     "text": [
      "1 2 1\n"
     ]
    },
    {
     "data": {
      "text/plain": [
       "()"
      ]
     },
     "execution_count": 4,
     "metadata": {},
     "output_type": "execute_result"
    }
   ],
   "source": [
    "print(len(z|z),len(z|(z|z)),len((z|z)|z))\n",
    "(z|(z|z)+(z|z)).type()"
   ]
  },
  {
   "cell_type": "code",
   "execution_count": 5,
   "id": "731529c1-1281-4399-a43c-7913ff86eed0",
   "metadata": {},
   "outputs": [
    {
     "name": "stdout",
     "output_type": "stream",
     "text": [
      "((𝟬)) False\n"
     ]
    }
   ],
   "source": [
    "one = data(data(data(z|z|z)))\n",
    "print(one.type(),one.atom())"
   ]
  },
  {
   "cell_type": "code",
   "execution_count": 6,
   "id": "d2b8ffee-baaf-4296-8d0a-c99d6ddbaf75",
   "metadata": {},
   "outputs": [
    {
     "name": "stdout",
     "output_type": "stream",
     "text": [
      "((pass)(a)(b)(c))\n"
     ]
    }
   ],
   "source": [
    "print(Pass|C)"
   ]
  },
  {
   "cell_type": "code",
   "execution_count": 7,
   "id": "0996ef6e-44b0-467d-95bf-546474573652",
   "metadata": {},
   "outputs": [
    {
     "name": "stdout",
     "output_type": "stream",
     "text": [
      "𝟬\n"
     ]
    }
   ],
   "source": [
    "print(Pass.type())"
   ]
  },
  {
   "cell_type": "code",
   "execution_count": null,
   "id": "fa51ca12-dc3d-45a0-9893-83a21822c3bc",
   "metadata": {},
   "outputs": [],
   "source": []
  }
 ],
 "metadata": {
  "kernelspec": {
   "display_name": "Python 3 (ipykernel)",
   "language": "python",
   "name": "python3"
  },
  "language_info": {
   "codemirror_mode": {
    "name": "ipython",
    "version": 3
   },
   "file_extension": ".py",
   "mimetype": "text/x-python",
   "name": "python",
   "nbconvert_exporter": "python",
   "pygments_lexer": "ipython3",
   "version": "3.10.7"
  }
 },
 "nbformat": 4,
 "nbformat_minor": 5
}
