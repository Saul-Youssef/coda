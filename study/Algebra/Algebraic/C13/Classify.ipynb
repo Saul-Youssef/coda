{
 "cells": [
  {
   "cell_type": "code",
   "execution_count": 1,
   "id": "d66cc0dd-9085-40e3-bcac-3813c39c1158",
   "metadata": {},
   "outputs": [
    {
     "name": "stdout",
     "output_type": "stream",
     "text": [
      "(defaultTime:1000)"
     ]
    }
   ],
   "source": [
    "defaultTime:1000"
   ]
  },
  {
   "cell_type": "code",
   "execution_count": 2,
   "id": "b45062f3-81f8-430d-8770-7f5bc50bac71",
   "metadata": {},
   "outputs": [
    {
     "name": "stdout",
     "output_type": "stream",
     "text": []
    }
   ],
   "source": [
    "import : dir co : up : up : up : ."
   ]
  },
  {
   "cell_type": "code",
   "execution_count": 3,
   "id": "53d731f0-69e4-4c9d-a8bb-9af802b117bd",
   "metadata": {},
   "outputs": [
    {
     "name": "stdout",
     "output_type": "stream",
     "text": [
      "272"
     ]
    }
   ],
   "source": [
    "count : ap {if (right:B):B} : read invariant : L2R1.nidem.semi "
   ]
  },
  {
   "cell_type": "code",
   "execution_count": 4,
   "id": "b4a3eb25-9029-43ba-be0b-4860eb14788b",
   "metadata": {},
   "outputs": [
    {
     "name": "stdout",
     "output_type": "stream",
     "text": [
      "75"
     ]
    }
   ],
   "source": [
    "count : ap {nif (right:B):B} : read invariant : L2R1.nidem.semi "
   ]
  },
  {
   "cell_type": "code",
   "execution_count": 5,
   "id": "595ade0c-faed-4c7c-abea-c438fa3fe6dc",
   "metadata": {
    "tags": []
   },
   "outputs": [
    {
     "name": "stdout",
     "output_type": "stream",
     "text": [
      " (with count:◎) \n",
      " (with count ints:◎) \n",
      " (with count {nats B}:◎) \n",
      " (with count {B a}:◎) \n",
      " (with count {pass B}:◎) \n",
      " (with count swap:◎) \n",
      " (with count {pre B}:◎) \n",
      " (with count {B : (:-1 : 1)}:◎) \n",
      " (with count {int_max B}:◎) \n",
      " (with count {text_sort : B}:◎) \n",
      " (with count {B ker}:◎) \n",
      " (with count {swap : B}:◎) \n",
      " (with count {(:-1 : 1) : B}:◎) \n",
      " (with count {B const}:◎) \n",
      " (with count equal:◎) \n",
      " (with count {co B}:◎) \n",
      " (with count {B : bool}:◎) \n",
      " (with count {B stick}:◎) \n",
      " (with count {first : B}:◎) \n",
      " (with count {float_sum B}:◎) \n",
      " (with count {B : not}:◎) \n",
      " (with {count : B} pass:◎) \n",
      " (with count {B : count}:◎) \n",
      " (with count put:◎) \n",
      " (with count once:◎) \n",
      " (with {count : B} apby:◎) \n",
      " (with count {bin : B}:◎) \n",
      " (with count {nat_sum B}:◎) \n",
      " (with count {B : get}:◎) \n",
      " (with count {bool : B}:◎) \n",
      " (with {count : B} nth:◎) \n",
      " (with count bin:◎) \n",
      " (with count const:◎) \n",
      " (with count {int_min B}:◎) \n",
      " (with count {B ap}:◎) \n",
      " (with count {nat_min : B}:◎) \n",
      " (with count {nth B}:◎) \n",
      " (with count {as : B}:◎) \n",
      " (with count {is : B}:◎) \n",
      " (with {count : B} equiv:◎) \n",
      " (with count {B : nth}:◎) \n",
      " (with count {B int_inv}:◎) \n",
      " (with count {head B}:◎) \n",
      " (with count {B : prod}:◎) \n",
      " (with {count : B} const:◎) \n",
      " (with {count : B} (:-1 1):◎) \n",
      " (with {count : B} nor:◎) \n",
      " (with count {B int_min}:◎) \n",
      " (with count {get B}:◎) \n",
      " (with count {hasnt : B}:◎) \n",
      " (with {count : B} is:◎) \n",
      " (with count {tail : B}:◎) \n",
      " (with {count : B} domain:◎) \n",
      " (with count {B : nat}:◎) \n",
      " (with count {skip B}:◎) \n",
      " (with count {B arg}:◎) \n",
      " (with count {apby B}:◎) \n",
      " (with count {nat_prod B}:◎) \n",
      " (with count {by : B}:◎) \n",
      " (with count {B text_sort}:◎) \n",
      " (with count {B rev}:◎) \n",
      " (with count {B : co}:◎) \n",
      " (with count {nor B}:◎) \n",
      " (with count {B nat_prod}:◎) \n",
      " (with count {nat_sort B}:◎) \n",
      " (with {count : B} nat_prod:◎) \n",
      " (with {count : B} swap:◎) \n",
      " (with count nat_sort:◎) \n",
      " (with count {int_sort : B}:◎) \n",
      " (with count {some B}:◎) \n",
      " (with count {B ring}:◎) \n",
      " (with {count : B} not:◎) \n",
      " (with count {floats B}:◎) \n",
      " (with count {ap B}:◎) \n",
      " (with count {null B}:◎) \n"
     ]
    }
   ],
   "source": [
    "tab : ap {nif (right:B):B} : read invariant : L2R1.nidem.semi "
   ]
  },
  {
   "cell_type": "code",
   "execution_count": 6,
   "id": "b8997f05-d6ae-437c-a109-9814507dbdca",
   "metadata": {},
   "outputs": [
    {
     "name": "stdout",
     "output_type": "stream",
     "text": [
      " (bin 75:(:count) (:count ints) (:count {nats B}) (:count {B a}) (:count {pass B}) (:count swap) (:count {pre B}) (:count {B : (:-1 : 1)}) (:count {int_max B}) (:count {text_sort : B}) (:count {B ker}) (:count {swap : B}) (:count {(:-1 : 1) : B}) (:count {B const}) (:count equal) (:count {co B}) (:count {B : bool}) (:count {B stick}) (:count {first : B}) (:count {float_sum B}) (:count {B : not}) (:{count : B} pass) (:count {B : count}) (:count put) (:count once) (:{count : B} apby) (:count {bin : B}) (:count {nat_sum B}) (:count {B : get}) (:count {bool : B}) (:{count : B} nth) (:count bin) (:count const) (:count {int_min B}) (:count {B ap}) (:count {nat_min : B}) (:count {nth B}) (:count {as : B}) (:count {is : B}) (:{count : B} equiv) (:count {B : nth}) (:count {B int_inv}) (:count {head B}) (:count {B : prod}) (:{count : B} const) (:{count : B} (:-1 1)) (:{count : B} nor) (:count {B int_min}) (:count {get B}) (:count {hasnt : B}) (:{count : B} is) (:count {tail : B}) (:{count : B} domain) (:count {B : nat}) (:count {skip B}) (:count {B arg}) (:count {apby B}) (:count {nat_prod B}) (:count {by : B}) (:count {B text_sort}) (:count {B rev}) (:count {B : co}) (:count {nor B}) (:count {B nat_prod}) (:count {nat_sort B}) (:{count : B} nat_prod) (:{count : B} swap) (:count nat_sort) (:count {int_sort : B}) (:count {some B}) (:count {B ring}) (:{count : B} not) (:count {floats B}) (:count {ap B}) (:count {null B})) \n"
     ]
    }
   ],
   "source": [
    "tab : classify S7? : ap {nif (right:B):(:arg:B)} : read invariant : L2R1.nidem.semi "
   ]
  },
  {
   "cell_type": "markdown",
   "id": "f6a6e0f0-b956-4c70-9cac-368ea3cacc40",
   "metadata": {},
   "source": [
    "## Summary \n",
    "\n",
    "If data A is L2R1 algebraic, then either it is idempotent, or it is semilattice, or it is equivalent to count, true up to 10000 items in C13."
   ]
  },
  {
   "cell_type": "markdown",
   "id": "999986d9-2aee-415c-a1a5-5f59f290c6fd",
   "metadata": {},
   "source": [
    "The idea of algebraic data is that if data A:X Y = A:Y X for any X, Y, then it is independent of the finite sequence structure of it's input.  Since finite sequence is the sole foundational concept, we expect all algebraic data to be, in a sense, universal, and, in a sense these are the mathematically interesting data. "
   ]
  },
  {
   "cell_type": "code",
   "execution_count": 7,
   "id": "032000f4-1d9f-449a-92e9-e6ed593710df",
   "metadata": {},
   "outputs": [
    {
     "name": "stdout",
     "output_type": "stream",
     "text": [
      "2402"
     ]
    }
   ],
   "source": [
    "count : ap {if (right:B):(:arg:B)} : read invariant : L2R1.idem"
   ]
  },
  {
   "cell_type": "code",
   "execution_count": 8,
   "id": "48faf7a2-8795-4e3a-9d06-7a0560794312",
   "metadata": {},
   "outputs": [
    {
     "name": "stderr",
     "output_type": "stream",
     "text": [
      "IOPub data rate exceeded.\n",
      "The Jupyter server will temporarily stop sending output\n",
      "to the client in order to avoid crashing it.\n",
      "To change this limit, set the config variable\n",
      "`--ServerApp.iopub_data_rate_limit`.\n",
      "\n",
      "Current values:\n",
      "ServerApp.iopub_data_rate_limit=1000000.0 (bytes/sec)\n",
      "ServerApp.rate_limit_window=3.0 (secs)\n",
      "\n"
     ]
    }
   ],
   "source": [
    "tab : classify S7? : ap {if (right:B):(:arg:B)} : read invariant : L2R1.idem "
   ]
  },
  {
   "cell_type": "code",
   "execution_count": null,
   "id": "0436b4f2-4d06-4a84-b8be-aeba5f736be3",
   "metadata": {},
   "outputs": [],
   "source": []
  }
 ],
 "metadata": {
  "kernelspec": {
   "display_name": "coda",
   "language": "",
   "name": "coda"
  },
  "language_info": {
   "file_extension": ".co",
   "mimetype": "text/plain",
   "name": "Any text"
  }
 },
 "nbformat": 4,
 "nbformat_minor": 5
}
