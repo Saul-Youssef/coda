{
 "cells": [
  {
   "cell_type": "code",
   "execution_count": 1,
   "id": "df536b51-4c52-4957-a31a-6af13f1ed5a5",
   "metadata": {},
   "outputs": [
    {
     "name": "stdout",
     "output_type": "stream",
     "text": []
    }
   ],
   "source": [
    "#\n",
    "#   Prepare some samples for testing purposes \n",
    "#   \n",
    "#   S1: hydrogen atoms\n",
    "#   S2: more general atoms mix \n",
    "#   S3: pure data mix\n",
    "#   S4: mix with operators and language.\n",
    "#\n",
    "Let S1 : sample.atom : 5\n",
    "Let S2 : permutation 2 : (:) a b 0 1 (bin:a) (bin 1 2:a b) (bin a: bin b:1 2)\n",
    "Let S3 : sample.pure : 2 2 \n",
    "Let S4 : sample.data <A> <B> <{$}> 0 1 a b (defs:Basic) : 2 2 \n",
    "\n",
    "Def idemp0 : {count:((B:B:x?)=(B:x?))} \n",
    "Def idemp1 : {count:((B x? : B : y?)=(B:B x?:y?))} \n",
    "\n",
    "Def n : {int_prod : (int_prod:A) (int_sum:B)}\n",
    "Def Idemp0 : {get with : eval : cases (idemp0:B) : A}\n",
    "Def Idemp1 : {get with : eval : cases (idemp1:B) : A} \n",
    "Def IDEMP0 : ap {bin B : int_sum : Idemp0 A : B} \n",
    "Def IDEMP1 : ap {bin B : int_sum : Idemp1 A : B} "
   ]
  },
  {
   "cell_type": "code",
   "execution_count": 2,
   "id": "5295d78f-0f19-47ec-8a1a-67506d256f0c",
   "metadata": {},
   "outputs": [
    {
     "name": "stdout",
     "output_type": "stream",
     "text": []
    }
   ],
   "source": [
    "Def F2 : {put bin A (arg bin:B) : (get bin:B)} \n",
    "Def F1 : {put bin : (get bin:B) } \n",
    "Def F0 : int_sum "
   ]
  },
  {
   "cell_type": "code",
   "execution_count": 5,
   "id": "5fecd8f4-c705-4eef-b403-958b99345750",
   "metadata": {},
   "outputs": [
    {
     "name": "stdout",
     "output_type": "stream",
     "text": [
      "(bin:a b c d e f g)"
     ]
    }
   ],
   "source": [
    "F1 : (bin : a) (bin:b) (bin: c d e f g)"
   ]
  },
  {
   "cell_type": "code",
   "execution_count": 6,
   "id": "b97481e2-6432-45cf-9cd7-eebbb175a0c1",
   "metadata": {},
   "outputs": [
    {
     "name": "stdout",
     "output_type": "stream",
     "text": [
      "\u001b[;1mcode:\u001b[0m\n",
      "    \u001b[34;7mcollect\u001b[0m\n",
      "\u001b[;1mmodule:\u001b[0m\n",
      "    Collect\n",
      "\u001b[;1msummary:\u001b[0m\n",
      "    Collect inputs b with the same value of (A:b).\n",
      "\u001b[;1mdescription:\u001b[0m\n",
      "    1. Equivalence classes of input codes.\n",
      "    2. Same as 1 with collected value (bin V:...)\n",
      "    3. Codes with the same length as byte sequences.\n",
      "    4. Same as 3 with the length (bin L:..codes with length L..)\n",
      "\u001b[;1mpath:\u001b[0m\n",
      "    /Users/youssef/coda/py/Collect.py\n",
      "\u001b[;1mdemos:\u001b[0m\n",
      "    1. \u001b[35;4mcollect : a b c d\u001b[0m\n",
      "    2. \u001b[35;4mcollect : (bin:a) (bin:b) (bin:c) (bin:d)\u001b[0m\n",
      "    3. \u001b[35;4mcollect : ap {put bin (nchar:B):B} : a b aa bb aaa cccc zz xxx xxx\u001b[0m\n",
      "    4. \u001b[35;4mequiv nchar : a b aa bb aaa cccc zz xxx xxx\u001b[0m\n"
     ]
    }
   ],
   "source": [
    "help : collect"
   ]
  },
  {
   "cell_type": "code",
   "execution_count": 7,
   "id": "0316219f-fc3d-45ad-a15f-23756514d6d5",
   "metadata": {},
   "outputs": [
    {
     "name": "stdout",
     "output_type": "stream",
     "text": [
      "(bin:a b c d)"
     ]
    }
   ],
   "source": [
    "demo collect : 2"
   ]
  },
  {
   "cell_type": "code",
   "execution_count": 8,
   "id": "8ca9e161-8fd1-415a-88f9-de17f265f8b7",
   "metadata": {},
   "outputs": [
    {
     "name": "stdout",
     "output_type": "stream",
     "text": [
      "(bin 1:a) (bin 2:b)"
     ]
    }
   ],
   "source": [
    "collect : (bin 1:a) (bin 2:b)"
   ]
  },
  {
   "cell_type": "code",
   "execution_count": 9,
   "id": "354bd958-3f17-44ed-b9bb-1bcc052fd54c",
   "metadata": {},
   "outputs": [
    {
     "name": "stdout",
     "output_type": "stream",
     "text": [
      "(bin 1:a b) (bin 2:aa bb zz) (bin 3:aaa xxx xxx) (bin 4:cccc)"
     ]
    }
   ],
   "source": [
    "demo collect : 3"
   ]
  },
  {
   "cell_type": "code",
   "execution_count": 10,
   "id": "196b998c-62db-4cf6-b24d-5a87620ebafd",
   "metadata": {},
   "outputs": [
    {
     "name": "stdout",
     "output_type": "stream",
     "text": [
      "(bin 1:a b) (bin 2:aa bb zz) (bin 3:aaa xxx xxx) (bin 4:cccc)"
     ]
    }
   ],
   "source": [
    "demo equiv : 4"
   ]
  },
  {
   "cell_type": "code",
   "execution_count": 13,
   "id": "e461338b-4596-4d02-8caf-aa246e45834c",
   "metadata": {},
   "outputs": [
    {
     "name": "stdout",
     "output_type": "stream",
     "text": [
      "(bin (:(bin 1:a b)):(bin 1:a b)) (bin (:(bin 2:aa bb zz)):(bin 2:aa bb zz)) (bin (:(bin 3:aaa xxx xxx)):(bin 3:aaa xxx xxx)) (bin (:(bin 4:cccc)):(bin 4:cccc))"
     ]
    }
   ],
   "source": [
    "equiv : equiv nchar : a b aa bb aaa cccc zz xxx xxx "
   ]
  },
  {
   "cell_type": "code",
   "execution_count": 14,
   "id": "48a2443a-6c1a-464e-87bb-ef45257b9307",
   "metadata": {},
   "outputs": [
    {
     "name": "stdout",
     "output_type": "stream",
     "text": [
      "(bin:a b c d)"
     ]
    }
   ],
   "source": [
    "collect {get bin:B} : (bin:a) (bin:b) (bin:c) (bin:d)"
   ]
  },
  {
   "cell_type": "code",
   "execution_count": 15,
   "id": "cc411d5b-3674-484d-a5f0-e3b951c24d75",
   "metadata": {},
   "outputs": [
    {
     "name": "stdout",
     "output_type": "stream",
     "text": [
      "(bin:a b c d)"
     ]
    }
   ],
   "source": [
    "collect : collect {get bin:B} : (bin:a) (bin:b) (bin:c) (bin:d)"
   ]
  },
  {
   "cell_type": "code",
   "execution_count": 17,
   "id": "37f1dcc4-4cb4-477f-8276-ed49ec2af605",
   "metadata": {},
   "outputs": [
    {
     "name": "stdout",
     "output_type": "stream",
     "text": [
      "(bin 1:c a b) (bin 2:aa bb zz) (:a b) abc"
     ]
    }
   ],
   "source": [
    "collect : (bin 1:c) (bin 1:a b) (bin 2:aa bb zz) (:a) (:b) a b c "
   ]
  },
  {
   "cell_type": "code",
   "execution_count": 19,
   "id": "8cf09dbf-1151-4862-8784-01584fc533db",
   "metadata": {},
   "outputs": [
    {
     "name": "stdout",
     "output_type": "stream",
     "text": [
      "\u001b[;1mcode:\u001b[0m\n",
      "    \u001b[34;7mis\u001b[0m\n",
      "\u001b[;1mmodule:\u001b[0m\n",
      "    Basic\n",
      "\u001b[;1msummary:\u001b[0m\n",
      "    has/hasnt selects, get gets, is/isnt tests\n",
      "\u001b[;1mdescription:\u001b[0m\n",
      "\u001b[;1mpath:\u001b[0m\n",
      "    /Users/youssef/coda/co/Basic.co\n",
      "\u001b[;1msource code:\u001b[0m\n",
      "    def has   : ap {if (in A:domain:B):B}\n",
      "    def hasnt : ap {if (not:in A:domain:B):B}\n",
      "    def is    : ap {if (in A:B):B}\n",
      "    def isnt  : ap {if (not:in A:B):B}\n",
      "\u001b[;1mdemos:\u001b[0m\n",
      "    1. \u001b[35;4mhas bin : x y z (bin:a b c) (bin a:b c) (bin:)\u001b[0m\n",
      "    2. \u001b[35;4mhasnt bin : x y z (bin:a b c) (bin a:b c) (bin:)\u001b[0m\n",
      "    3. \u001b[35;4mhas ((:):(:)) : x y z (bin:a b c)\u001b[0m\n",
      "    4. \u001b[35;4mis y : x y z y z y\u001b[0m\n",
      "    5. \u001b[35;4mis y x (bin:a b) : x y z (bin:a b) (bin:a) y z y\u001b[0m\n",
      "    6. \u001b[35;4mis (bin:a b) : x y (bin:a b) z\u001b[0m\n",
      "    7. \u001b[35;4misnt x y : x y z (bin:a b) (bin:a) y z y\u001b[0m\n",
      "    8. \u001b[35;4mget bin : x y z (bin:a b c) (bin:x y)\u001b[0m\n",
      "    9. \u001b[35;4mget ((:):(:)) : x y z (bin: a b c)\u001b[0m\n",
      "    10. \u001b[35;4mget bin: (bin a:b c) (bin:x y)\u001b[0m\n"
     ]
    }
   ],
   "source": [
    "help : is"
   ]
  },
  {
   "cell_type": "code",
   "execution_count": 20,
   "id": "b2032cf6-09d3-4698-89b5-d34bfff9e391",
   "metadata": {},
   "outputs": [
    {
     "name": "stdout",
     "output_type": "stream",
     "text": [
      "(ap {if (in A:B):B} y:(if (not:(ax {not:A=B} y:y)):y)) (ap {if (in A:B):B} y:(if (not:(ax {not:A=B} y:y)):y)) (ap {if (in A:B):B} y:(if (not:(ax {not:A=B} y:y)):y)) (ap {if (in A:B):B} y:(if (not:(ax {not:A=B} y:y)):y)) (ap {if (in A:B):B} y:(if (not:(ax {not:A=B} y:y)):y)) (ap {if (in A:B):B} y:(if (not:(ax {not:A=B} y:a)):a)) (ap {if (in A:B):B} y:(if (not:(ax {not:A=B} y:x)):x)) (ap {if (in A:B):B} y:(if (not:(ax {not:A=B} y:x)):x)) (ap {if (in A:B):B} y:(if (not:(ax {not:A=B} y:x)):x)) (ap {if (in A:B):B} y:(if (not:(ax {not:A=B} y:x)):x))"
     ]
    }
   ],
   "source": [
    "is y : is y : y y y y y a x x x x "
   ]
  },
  {
   "cell_type": "code",
   "execution_count": 24,
   "id": "99b01ae3-0fbb-4d02-bbb0-ee0d6eac7005",
   "metadata": {},
   "outputs": [
    {
     "name": "stdout",
     "output_type": "stream",
     "text": [
      "\u001b[;1mcode:\u001b[0m\n",
      "    \u001b[34;7map\u001b[0m\n",
      "\u001b[;1mmodule:\u001b[0m\n",
      "    Apply\n",
      "\u001b[;1msummary:\u001b[0m\n",
      "    Apply A to each b in B.\n",
      "\u001b[;1mdescription:\u001b[0m\n",
      "    This is one of the most important basic\n",
      "    combinatorial operations.  ap A is guaranteed\n",
      "    to be distributive data for any data A.\n",
      "    ap A : B C -> (ap A:B) (ap A:C)\n",
      "    ap A : B -> A:B if B is atom\n",
      "    ap A : () -> ()\n",
      "\u001b[;1mpath:\u001b[0m\n",
      "    /Users/youssef/coda/py/Apply.py\n",
      "\u001b[;1mdemos:\u001b[0m\n",
      "    1. \u001b[35;4map foo : 1 2 3\u001b[0m\n",
      "    2. \u001b[35;4map {bin : B} : 1 2 3\u001b[0m\n",
      "    3. \u001b[35;4map {first A : get bin : B} 2 : (bin:a b c d e) (bin:x y z)\u001b[0m\n",
      "    4. \u001b[35;4maq bin bin bin bin : 1 2 3 4\u001b[0m\n",
      "    5. \u001b[35;4map aq a b c : 1 2 3\u001b[0m\n",
      "    6. \u001b[35;4max bin a b c : 1 2 3\u001b[0m\n",
      "    7. \u001b[35;4max first 2 3 : a b c d e f g\u001b[0m\n",
      "    8. \u001b[35;4map ax a b c : 1 2 3\u001b[0m\n",
      "    9. \u001b[35;4mby 2 foo : a b c d e f g\u001b[0m\n",
      "    10. \u001b[35;4map {if (count:get bin:B)=2:B} : (bin:a b) (bin:a b c) (bin:x y) (bin:a b c d)\u001b[0m\n"
     ]
    }
   ],
   "source": [
    "help : ap"
   ]
  },
  {
   "cell_type": "code",
   "execution_count": 25,
   "id": "1260e537-df3c-41e4-b5a6-57274be1fe7c",
   "metadata": {},
   "outputs": [
    {
     "name": "stdout",
     "output_type": "stream",
     "text": [
      "\u001b[;1mcode:\u001b[0m\n",
      "    \u001b[34;7maq\u001b[0m\n",
      "\u001b[;1mmodule:\u001b[0m\n",
      "    Apply\n",
      "\u001b[;1msummary:\u001b[0m\n",
      "    Apply A to each b in B.\n",
      "\u001b[;1mdescription:\u001b[0m\n",
      "    This is one of the most important basic\n",
      "    combinatorial operations.  ap A is guaranteed\n",
      "    to be distributive data for any data A.\n",
      "    ap A : B C -> (ap A:B) (ap A:C)\n",
      "    ap A : B -> A:B if B is atom\n",
      "    ap A : () -> ()\n",
      "\u001b[;1mpath:\u001b[0m\n",
      "    /Users/youssef/coda/py/Apply.py\n",
      "\u001b[;1mdemos:\u001b[0m\n",
      "    1. \u001b[35;4map foo : 1 2 3\u001b[0m\n",
      "    2. \u001b[35;4map {bin : B} : 1 2 3\u001b[0m\n",
      "    3. \u001b[35;4map {first A : get bin : B} 2 : (bin:a b c d e) (bin:x y z)\u001b[0m\n",
      "    4. \u001b[35;4maq bin bin bin bin : 1 2 3 4\u001b[0m\n",
      "    5. \u001b[35;4map aq a b c : 1 2 3\u001b[0m\n",
      "    6. \u001b[35;4max bin a b c : 1 2 3\u001b[0m\n",
      "    7. \u001b[35;4max first 2 3 : a b c d e f g\u001b[0m\n",
      "    8. \u001b[35;4map ax a b c : 1 2 3\u001b[0m\n",
      "    9. \u001b[35;4mby 2 foo : a b c d e f g\u001b[0m\n",
      "    10. \u001b[35;4map {if (count:get bin:B)=2:B} : (bin:a b) (bin:a b c) (bin:x y) (bin:a b c d)\u001b[0m\n"
     ]
    }
   ],
   "source": [
    "help : aq"
   ]
  },
  {
   "cell_type": "code",
   "execution_count": null,
   "id": "15e4a2f5-5862-41f2-b756-710110289e09",
   "metadata": {},
   "outputs": [],
   "source": []
  }
 ],
 "metadata": {
  "kernelspec": {
   "display_name": "coda",
   "language": "",
   "name": "coda"
  },
  "language_info": {
   "file_extension": ".co",
   "mimetype": "text/plain",
   "name": "Any text"
  }
 },
 "nbformat": 4,
 "nbformat_minor": 5
}
