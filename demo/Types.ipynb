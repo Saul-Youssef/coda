{
 "cells": [
  {
   "cell_type": "code",
   "execution_count": null,
   "id": "556278eb-9968-4b53-90c4-48cde2b5d975",
   "metadata": {},
   "outputs": [],
   "source": [
    "(Make:n) : 1 "
   ]
  },
  {
   "cell_type": "code",
   "execution_count": null,
   "id": "207514e4-d02b-43eb-906f-553c4abf5583",
   "metadata": {
    "tags": []
   },
   "outputs": [],
   "source": [
    "make n : 1 "
   ]
  },
  {
   "cell_type": "code",
   "execution_count": null,
   "id": "744c9971-3f1b-4f8f-b105-0cedd3a3c2ec",
   "metadata": {},
   "outputs": [],
   "source": [
    "make n : 1 2 3 4 "
   ]
  },
  {
   "cell_type": "code",
   "execution_count": null,
   "id": "e71b388c-e826-436b-aadb-ed990516ce85",
   "metadata": {},
   "outputs": [],
   "source": [
    "sum n : 1 2 3 4 "
   ]
  },
  {
   "cell_type": "code",
   "execution_count": null,
   "id": "714e3bd8-bcb3-4ce7-8d2f-3f92de9d166c",
   "metadata": {},
   "outputs": [],
   "source": [
    "make n : make n : 1 2 3 4 "
   ]
  },
  {
   "cell_type": "code",
   "execution_count": null,
   "id": "4fc0a30a-1e21-46bf-8751-229480b985e2",
   "metadata": {
    "tags": []
   },
   "outputs": [],
   "source": [
    "Natural : foo"
   ]
  },
  {
   "cell_type": "code",
   "execution_count": null,
   "id": "5850b274-206e-4720-921a-0cbf938e641d",
   "metadata": {},
   "outputs": [],
   "source": [
    "foo: 1 2 3 "
   ]
  },
  {
   "cell_type": "code",
   "execution_count": null,
   "id": "16016506-c743-459d-9343-d12db55980f6",
   "metadata": {},
   "outputs": [],
   "source": [
    "foo:x"
   ]
  },
  {
   "cell_type": "code",
   "execution_count": null,
   "id": "5d1ccb56-f887-48cb-bac6-f557b02fec19",
   "metadata": {},
   "outputs": [],
   "source": [
    "NNN: abc"
   ]
  },
  {
   "cell_type": "code",
   "execution_count": null,
   "id": "3a2607e6-bb2e-4717-889d-5f5bd7bebfa9",
   "metadata": {},
   "outputs": [],
   "source": [
    "abc:1 x 2"
   ]
  },
  {
   "cell_type": "code",
   "execution_count": null,
   "id": "286d5948-4879-495c-a81e-a666f71f24de",
   "metadata": {},
   "outputs": [],
   "source": []
  }
 ],
 "metadata": {
  "kernelspec": {
   "display_name": "coda",
   "language": "",
   "name": "coda"
  },
  "language_info": {
   "file_extension": ".co",
   "mimetype": "text/plain",
   "name": "Any text"
  }
 },
 "nbformat": 4,
 "nbformat_minor": 5
}
