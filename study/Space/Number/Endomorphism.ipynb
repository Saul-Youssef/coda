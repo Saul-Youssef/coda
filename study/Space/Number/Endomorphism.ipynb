{
 "cells": [
  {
   "cell_type": "markdown",
   "id": "46cd44b2-1e9d-4bfa-8869-6b49721d6060",
   "metadata": {},
   "source": [
    "Let's find some endomorphisms of natural number spaces, e.g. n.sum "
   ]
  },
  {
   "cell_type": "code",
   "execution_count": 1,
   "id": "573c747f-63a2-455a-96bc-da8255dfd875",
   "metadata": {},
   "outputs": [
    {
     "name": "stdout",
     "output_type": "stream",
     "text": []
    }
   ],
   "source": [
    "import : dir co : up : ."
   ]
  },
  {
   "cell_type": "code",
   "execution_count": 2,
   "id": "36dca1cb-7652-46f0-bec9-3cb6847c6fb8",
   "metadata": {},
   "outputs": [
    {
     "name": "stdout",
     "output_type": "stream",
     "text": []
    }
   ],
   "source": [
    "Let Domain : S1?\n",
    "Let Morphisms : S2?"
   ]
  },
  {
   "cell_type": "code",
   "execution_count": 3,
   "id": "328e7512-596e-4a1c-970d-37a1873dc92c",
   "metadata": {},
   "outputs": [
    {
     "name": "stdout",
     "output_type": "stream",
     "text": []
    }
   ],
   "source": [
    "Def end : ap {(A:n.sum:get:B)=(n.sum:A:get:B)}\n"
   ]
  },
  {
   "cell_type": "code",
   "execution_count": 4,
   "id": "266be384-ea9b-418e-ba0f-5222178e6511",
   "metadata": {},
   "outputs": [
    {
     "name": "stdout",
     "output_type": "stream",
     "text": [
      "(n:2) (n:4) (n:6)"
     ]
    }
   ],
   "source": [
    "ap {put n:int_prod:2 B} : get n : (n:1) (n:2) (n:3) x b 4 "
   ]
  },
  {
   "cell_type": "code",
   "execution_count": 5,
   "id": "b6408095-9c65-414d-b89f-e47411c377db",
   "metadata": {},
   "outputs": [
    {
     "name": "stdout",
     "output_type": "stream",
     "text": []
    }
   ],
   "source": [
    "Def F : ap {put n:int_prod:2 B} * get n"
   ]
  },
  {
   "cell_type": "code",
   "execution_count": null,
   "id": "34852e43-8496-4d12-ab21-3e01db91e64c",
   "metadata": {},
   "outputs": [],
   "source": [
    "Def notF : pass "
   ]
  },
  {
   "cell_type": "code",
   "execution_count": 9,
   "id": "2ceed83b-a1d5-42a7-8835-1de332059c5a",
   "metadata": {},
   "outputs": [
    {
     "name": "stdout",
     "output_type": "stream",
     "text": [
      "(n:8) (n:16) (n:24)"
     ]
    }
   ],
   "source": [
    "F : F : F : (n:1) (n:2) (n:3) x b 4 "
   ]
  },
  {
   "cell_type": "code",
   "execution_count": null,
   "id": "14aa88d4-760f-4015-bc6e-3b7779252da3",
   "metadata": {},
   "outputs": [],
   "source": [
    "theorem (end (co 6):x?) : S2?"
   ]
  },
  {
   "cell_type": "code",
   "execution_count": 14,
   "id": "864eacb5-0810-48ca-8603-e03c025ccaf1",
   "metadata": {},
   "outputs": [
    {
     "name": "stdout",
     "output_type": "stream",
     "text": []
    }
   ],
   "source": [
    "end F : agadgaga"
   ]
  },
  {
   "cell_type": "code",
   "execution_count": 17,
   "id": "746c3c21-9a28-4417-ad56-efa415b0b71e",
   "metadata": {},
   "outputs": [
    {
     "name": "stdout",
     "output_type": "stream",
     "text": [
      "◎ (:◎) (:◎ ◎) (:◎ ◎ ◎) (:◎ ◎ ◎ ◎)"
     ]
    }
   ],
   "source": []
  },
  {
   "cell_type": "code",
   "execution_count": null,
   "id": "edad2295-ee42-4429-8bde-d424378277bf",
   "metadata": {},
   "outputs": [],
   "source": []
  }
 ],
 "metadata": {
  "kernelspec": {
   "display_name": "coda",
   "language": "",
   "name": "coda"
  },
  "language_info": {
   "file_extension": ".co",
   "mimetype": "text/plain",
   "name": "Any text"
  }
 },
 "nbformat": 4,
 "nbformat_minor": 5
}
