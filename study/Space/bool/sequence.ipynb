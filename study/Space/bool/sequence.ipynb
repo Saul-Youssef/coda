{
 "cells": [
  {
   "cell_type": "markdown",
   "id": "1025b5a9-bedc-4da1-86f1-1e3dff89ea35",
   "metadata": {
    "tags": []
   },
   "source": [
    "## Boolean operator\n",
    "\n",
    "A boolean operator is a morphism from the product space **bool x bool** to **bool**.  "
   ]
  },
  {
   "cell_type": "code",
   "execution_count": null,
   "id": "4cbe56a4-bdde-4905-9c85-247fd8981988",
   "metadata": {},
   "outputs": [],
   "source": [
    "defaultTime:100"
   ]
  },
  {
   "cell_type": "code",
   "execution_count": 2,
   "id": "430df704-e3ba-4ff1-8dce-7db27ee066df",
   "metadata": {},
   "outputs": [
    {
     "name": "stdout",
     "output_type": "stream",
     "text": []
    }
   ],
   "source": [
    "import : dir co : up : ."
   ]
  },
  {
   "cell_type": "code",
   "execution_count": 3,
   "id": "6e788f78-13e0-4319-966c-77515bbaa4e0",
   "metadata": {},
   "outputs": [
    {
     "name": "stdout",
     "output_type": "stream",
     "text": []
    }
   ],
   "source": [
    "#\n",
    "#  b is an atom to hold single boolean values \n",
    "#  L is the space of sequences of boolean values \n",
    "#  L2 is the space of sequences of boolean values with length <=2\n",
    "#  (E:X) is an endomorphism of L2 \n",
    "#  (e:X) is the special case of an \"inner\" endomorphism of L2 \n",
    "#\n",
    "Def b:\n",
    "Def L : Seq b : bool \n",
    "Def L2 : (front | |) * L  \n",
    "Def E : End L2 \n",
    "Def e : {End L2 : Down b : B}"
   ]
  },
  {
   "cell_type": "code",
   "execution_count": 4,
   "id": "3ed2a0d7-65fc-4d01-b883-e34d4752a6af",
   "metadata": {},
   "outputs": [
    {
     "name": "stdout",
     "output_type": "stream",
     "text": [
      "(b:◎) (b:)\n",
      "(b:◎) (b:)\n",
      "-\n",
      "(b:) (b:)\n",
      "(b:) (b:)\n",
      "(b:) (b:)"
     ]
    }
   ],
   "source": [
    "#\n",
    "# L2 is a space\n",
    "#\n",
    "L2 : (b:(:)) (b:())\n",
    "L2 : L2 : (b:(:)) (b:())\n",
    "- \n",
    "L2 : L2 : a b c d \n",
    "L2 : a b c d \n",
    "L2 : (L2 : a b c) (L2 : d) "
   ]
  },
  {
   "cell_type": "code",
   "execution_count": 5,
   "id": "55298ae0-67da-4b53-a8c7-8a1328bf6722",
   "metadata": {},
   "outputs": [
    {
     "name": "stdout",
     "output_type": "stream",
     "text": [
      "We can enumerate the entire space L2"
     ]
    }
   ],
   "source": [
    "We can enumerate the entire space L2\n",
    "Let L1 : (b:) (b:(:)) \n",
    "Let S2 : aq permutation 0 1 2 : L1?\n",
    "Let S22: permutation 2 : L1?"
   ]
  },
  {
   "cell_type": "code",
   "execution_count": 6,
   "id": "1477f63e-8cc2-4db4-8edf-f3461c2953b9",
   "metadata": {},
   "outputs": [
    {
     "name": "stdout",
     "output_type": "stream",
     "text": [
      "◎ (:(b:)) (:(b:◎)) (:(b:) (b:)) (:(b:) (b:◎)) (:(b:◎) (b:)) (:(b:◎) (b:◎))\n",
      "7"
     ]
    }
   ],
   "source": [
    "S2?\n",
    "count : S2?"
   ]
  },
  {
   "cell_type": "markdown",
   "id": "bdc49a14-7b91-4e98-8a83-a167e3ffe8a6",
   "metadata": {},
   "source": [
    "First, let's examine the inner endomorphisms of L2.  Inner endomorphisms are automatically algebraic and automatically make an L2 element of length 1.  In other words, each inner endomorphism defines an operator from two booleans to one boolean. "
   ]
  },
  {
   "cell_type": "code",
   "execution_count": 7,
   "id": "5b6b69d3-69ff-4c18-adca-e4d5dcd9ba0e",
   "metadata": {},
   "outputs": [
    {
     "name": "stdout",
     "output_type": "stream",
     "text": []
    }
   ],
   "source": [
    "#\n",
    "#   Show (e:A) applied to each data in L2. \n",
    "#\n",
    "Def espec : ap {(e:A):get:B} "
   ]
  },
  {
   "cell_type": "code",
   "execution_count": 8,
   "id": "03d227d8-a36f-4a44-ba74-b15914082650",
   "metadata": {},
   "outputs": [
    {
     "name": "stdout",
     "output_type": "stream",
     "text": [
      "(:(b:) (b:)) (:(b:) (b:◎)) (:(b:◎) (b:)) (:(b:◎) (b:◎))"
     ]
    }
   ],
   "source": [
    "S22?"
   ]
  },
  {
   "cell_type": "code",
   "execution_count": 9,
   "id": "39f12ced-3923-4220-97bb-8f8592261723",
   "metadata": {},
   "outputs": [
    {
     "name": "stdout",
     "output_type": "stream",
     "text": [
      "(:(b:) (b:)) (:(b:) (b:◎)) (:(b:◎) (b:)) (:(b:◎) (b:◎))\n",
      "----\n",
      "(b:) (b:) (b:) (b:)\n",
      "(b:) (b:) (b:) (b:◎)\n",
      "(b:) (b:◎) (b:◎) (b:)\n",
      "(b:) (b:◎) (b:◎) (b:◎)\n",
      "(b:◎) (b:) (b:) (b:)\n",
      "(b:◎) (b:) (b:) (b:◎)\n",
      "(b:◎) (b:◎) (b:◎) (b:)\n",
      "(b:◎) (b:◎) (b:◎) (b:◎)"
     ]
    }
   ],
   "source": [
    "#\n",
    "# TRUE  espec const: S22?\n",
    "# OR    espec {not:B=(:) (:)} : S22?\n",
    "# XNOR  espec {not:B=(:)} : S22?\n",
    "# AND   espec bool : S22?\n",
    "# NAND  espec not : S22?\n",
    "# XOR   espec {B=(:)} : S22?\n",
    "# NOR   espec {B=(:) (:)} : S22?\n",
    "# FALSE espec const (:) : S22?\n",
    "#\n",
    "S22?\n",
    "----\n",
    "espec const: S22?\n",
    "espec {not:B=(:) (:)} : S22?\n",
    "espec {not:B=(:)} : S22?\n",
    "espec bool : S22?\n",
    "espec not : S22?\n",
    "espec {B=(:)} : S22?\n",
    "espec {B=(:) (:)} : S22?\n",
    "espec const (:) : S22?"
   ]
  },
  {
   "cell_type": "code",
   "execution_count": 10,
   "id": "ae32b696-c13b-47bf-8b58-15edd58715f9",
   "metadata": {
    "tags": []
   },
   "outputs": [
    {
     "name": "stdout",
     "output_type": "stream",
     "text": []
    }
   ],
   "source": [
    "Def TRUE  : (e:const)\n",
    "Def OR    : (e:{not:B=(:) (:)})\n",
    "Def XNOR  : (e:{not:B=(:)}) \n",
    "Def AND   : (e:bool)\n",
    "Def NAND  : (e:not)\n",
    "Def XOR   : (e:{B=(:)}) \n",
    "Def NOR   : (e:{B=((:) (:))}) \n",
    "Def FALSE : (e:const (:)) \n",
    "Let endos : ap : TRUE OR XNOR AND NAND XOR NOR FALSE "
   ]
  },
  {
   "cell_type": "code",
   "execution_count": 16,
   "id": "451cb703-5890-4019-bf9f-ceaceed358bc",
   "metadata": {},
   "outputs": [
    {
     "name": "stdout",
     "output_type": "stream",
     "text": [
      "(b:◎) (b:◎) (b:◎) (b:◎)"
     ]
    }
   ],
   "source": []
  },
  {
   "cell_type": "code",
   "execution_count": 11,
   "id": "54a2fb38-c763-4432-97f1-d4a9df9e2112",
   "metadata": {
    "tags": []
   },
   "outputs": [
    {
     "name": "stdout",
     "output_type": "stream",
     "text": [
      " (with TRUE OR:) \n",
      " (with TRUE XNOR:) \n",
      " (with TRUE AND:) \n",
      " (with TRUE NAND:◎) \n",
      " (with TRUE XOR:◎) \n",
      " (with TRUE NOR:◎) \n",
      " (with TRUE FALSE:◎) \n",
      " (with OR XNOR:◎) \n",
      " (with OR AND:◎) \n",
      " (with OR NAND:◎) \n",
      " (with OR XOR:◎) \n",
      " (with OR NOR:◎) \n",
      " (with OR FALSE:◎) \n",
      " (with XNOR AND:◎) \n",
      " (with XNOR NAND:◎) \n",
      " (with XNOR XOR:) \n",
      " (with XNOR NOR:◎) \n",
      " (with XNOR FALSE:) \n",
      " (with AND NAND:) \n",
      " (with AND XOR:◎) \n",
      " (with AND NOR:◎) \n",
      " (with AND FALSE:) \n",
      " (with NAND XOR:◎) \n",
      " (with NAND NOR:◎) \n",
      " (with NAND FALSE:◎) \n",
      " (with XOR NOR:◎) \n",
      " (with XOR FALSE:◎) \n",
      " (with NOR FALSE:) \n",
      "\n",
      "0 0 0 1 1 1 1 1 1 1 1 1 1 1 1 0 1 0 0 1 1 0 1 1 1 1 1 0"
     ]
    }
   ],
   "source": [
    "FIX ME\n",
    "\n",
    "Let COM1 : dom 200 : ap {with (get:get:B) : bool : commutator (get:B) : S22?} : combination 2 : endos?\n",
    "tab : COM1? \n",
    "ap {count:right:B} : COM1?"
   ]
  },
  {
   "cell_type": "code",
   "execution_count": 12,
   "id": "ce652192-5454-4413-a1cf-e2f65b0c56a3",
   "metadata": {
    "tags": []
   },
   "outputs": [
    {
     "name": "stdout",
     "output_type": "stream",
     "text": [
      " (with TRUE OR:) \n",
      " (with TRUE XNOR:) \n",
      " (with TRUE AND:) \n",
      " (with TRUE NAND:◎) \n",
      " (with TRUE XOR:◎) \n",
      " (with TRUE NOR:◎) \n",
      " (with TRUE FALSE:◎) \n",
      " (with OR XNOR:◎) \n",
      " (with OR AND:◎) \n",
      " (with OR NAND:◎) \n",
      " (with OR XOR:◎) \n",
      " (with OR NOR:◎) \n",
      " (with OR FALSE:◎) \n",
      " (with XNOR AND:◎) \n",
      " (with XNOR NAND:◎) \n",
      " (with XNOR XOR:) \n",
      " (with XNOR NOR:◎) \n",
      " (with XNOR FALSE:) \n",
      " (with AND NAND:) \n",
      " (with AND XOR:◎) \n",
      " (with AND NOR:◎) \n",
      " (with AND FALSE:) \n",
      " (with NAND XOR:◎) \n",
      " (with NAND NOR:◎) \n",
      " (with NAND FALSE:◎) \n",
      " (with XOR NOR:◎) \n",
      " (with XOR FALSE:◎) \n",
      " (with NOR FALSE:) \n",
      "\n",
      "0 0 0 1 1 1 1 1 1 1 1 1 1 1 1 0 1 0 0 1 1 0 1 1 1 1 1 0"
     ]
    }
   ],
   "source": [
    "Let COM2 : dom 200 : ap {with (get:get:B) : bool : commutator (get:B) : S2?} : combination 2 : endos?\n",
    "tab : COM2? \n",
    "ap {count:right:B} : COM2?"
   ]
  },
  {
   "cell_type": "markdown",
   "id": "4178f188-a44d-43a3-897b-af5fb68fe17f",
   "metadata": {},
   "source": [
    "  |               |  TRUE |   OR  | XNOR  | AND    | NAND   | XOR   | NOR    | FALSE     |\n",
    "  |:-------------:|:-----:|:-----:|:----:|:------:|:------:|:------:|:------:|:--------:|\n",
    "  |  TRUE         |   -   |   -   |   -  |   -    |   X    |   X    |   X    |    X     |\n",
    "  |  OR           |       |   -   |   X  |   X    |   X    |   X    |   X    |    X     |\n",
    "  |  XNOR         |       |       |   -  |   X    |   X    |   -    |   X    |    -     |\n",
    "  |  AND          |       |       |      |   -    |   -    |   -    |   -    |    -     |\n",
    "  |  NAND         |       |       |      |        |   -    |   -    |   -    |    -     |\n",
    "  |  XOR          |       |       |      |        |        |   -    |   -    |    -     |\n",
    "  |  NOR          |       |       |      |        |        |        |   -    |    -     |\n",
    "  |  FALSE        |       |       |      |        |        |        |        |    -     |"
   ]
  },
  {
   "cell_type": "code",
   "execution_count": 13,
   "id": "9b3d8616-f104-4350-b3e4-c7ffb9565046",
   "metadata": {},
   "outputs": [
    {
     "name": "stdout",
     "output_type": "stream",
     "text": [
      " (with TRUE:) \n",
      " (with OR:◎) \n",
      " (with XNOR:) \n",
      " (with AND:) \n",
      " (with NAND:◎) \n",
      " (with XOR:◎) \n",
      " (with NOR:◎) \n",
      " (with FALSE:) \n"
     ]
    }
   ],
   "source": [
    "tab : dom 100 : ap {with (get:B) : bool : idempotent (get:B) : S2?} : endos? "
   ]
  },
  {
   "cell_type": "code",
   "execution_count": 14,
   "id": "262739e4-8e8d-44ce-b6fb-240ca929877d",
   "metadata": {},
   "outputs": [
    {
     "name": "stdout",
     "output_type": "stream",
     "text": [
      " (with TRUE:(bool:(space TRUE:(:◎ ◎) (:◎ (:(b:))) (:◎ (:(b:◎))) (:◎ (:(b:) (b:))) (:◎ (:(b:) (b:◎))) (:◎ (:(b:◎) (b:))) (:◎ (:(b:◎) (b:◎))) (:(:(b:)) ◎) (:(:(b:)) (:(b:))) (:(:(b:)) (:(b:◎))) (:(:(b:)) (:(b:) (b:))) (:(:(b:)) (:(b:) (b:◎))) (:(:(b:)) (:(b:◎) (b:))) (:(:(b:)) (:(b:◎) (b:◎))) (:(:(b:◎)) ◎) (:(:(b:◎)) (:(b:))) (:(:(b:◎)) (:(b:◎))) (:(:(b:◎)) (:(b:) (b:))) (:(:(b:◎)) (:(b:) (b:◎))) (:(:(b:◎)) (:(b:◎) (b:))) (:(:(b:◎)) (:(b:◎) (b:◎))) (:(:(b:) (b:)) ◎) (:(:(b:) (b:)) (:(b:))) (:(:(b:) (b:)) (:(b:◎))) (:(:(b:) (b:)) (:(b:) (b:))) (:(:(b:) (b:)) (:(b:) (b:◎))) (:(:(b:) (b:)) (:(b:◎) (b:))) (:(:(b:) (b:)) (:(b:◎) (b:◎))) (:(:(b:) (b:◎)) ◎) (:(:(b:) (b:◎)) (:(b:))) (:(:(b:) (b:◎)) (:(b:◎))) (:(:(b:) (b:◎)) (:(b:) (b:))) (:(:(b:) (b:◎)) (:(b:) (b:◎))) (:(:(b:) (b:◎)) (:(b:◎) (b:))) (:(:(b:) (b:◎)) (:(b:◎) (b:◎))) (:(:(b:◎) (b:)) ◎) (:(:(b:◎) (b:)) (:(b:))) (:(:(b:◎) (b:)) (:(b:◎))) (:(:(b:◎) (b:)) (:(b:) (b:))) (:(:(b:◎) (b:)) (:(b:) (b:◎))) (:(:(b:◎) (b:)) (:(b:◎) (b:))) (:(:(b:◎) (b:)) (:(b:◎) (b:◎))) (:(:(b:◎) (b:◎)) ◎) (:(:(b:◎) (b:◎)) (:(b:))) (:(:(b:◎) (b:◎)) (:(b:◎))) (:(:(b:◎) (b:◎)) (:(b:) (b:))) (:(:(b:◎) (b:◎)) (:(b:) (b:◎))) (:(:(b:◎) (b:◎)) (:(b:◎) (b:))) (:(:(b:◎) (b:◎)) (:(b:◎) (b:◎)))))) \n",
      " (with OR:(bool:(space OR:(:◎ ◎) (:◎ (:(b:))) (:◎ (:(b:◎))) (:◎ (:(b:) (b:))) (:◎ (:(b:) (b:◎))) (:◎ (:(b:◎) (b:))) (:◎ (:(b:◎) (b:◎))) (:(:(b:)) ◎) (:(:(b:)) (:(b:))) (:(:(b:)) (:(b:◎))) (:(:(b:)) (:(b:) (b:))) (:(:(b:)) (:(b:) (b:◎))) (:(:(b:)) (:(b:◎) (b:))) (:(:(b:)) (:(b:◎) (b:◎))) (:(:(b:◎)) ◎) (:(:(b:◎)) (:(b:))) (:(:(b:◎)) (:(b:◎))) (:(:(b:◎)) (:(b:) (b:))) (:(:(b:◎)) (:(b:) (b:◎))) (:(:(b:◎)) (:(b:◎) (b:))) (:(:(b:◎)) (:(b:◎) (b:◎))) (:(:(b:) (b:)) ◎) (:(:(b:) (b:)) (:(b:))) (:(:(b:) (b:)) (:(b:◎))) (:(:(b:) (b:)) (:(b:) (b:))) (:(:(b:) (b:)) (:(b:) (b:◎))) (:(:(b:) (b:)) (:(b:◎) (b:))) (:(:(b:) (b:)) (:(b:◎) (b:◎))) (:(:(b:) (b:◎)) ◎) (:(:(b:) (b:◎)) (:(b:))) (:(:(b:) (b:◎)) (:(b:◎))) (:(:(b:) (b:◎)) (:(b:) (b:))) (:(:(b:) (b:◎)) (:(b:) (b:◎))) (:(:(b:) (b:◎)) (:(b:◎) (b:))) (:(:(b:) (b:◎)) (:(b:◎) (b:◎))) (:(:(b:◎) (b:)) ◎) (:(:(b:◎) (b:)) (:(b:))) (:(:(b:◎) (b:)) (:(b:◎))) (:(:(b:◎) (b:)) (:(b:) (b:))) (:(:(b:◎) (b:)) (:(b:) (b:◎))) (:(:(b:◎) (b:)) (:(b:◎) (b:))) (:(:(b:◎) (b:)) (:(b:◎) (b:◎))) (:(:(b:◎) (b:◎)) ◎) (:(:(b:◎) (b:◎)) (:(b:))) (:(:(b:◎) (b:◎)) (:(b:◎))) (:(:(b:◎) (b:◎)) (:(b:) (b:))) (:(:(b:◎) (b:◎)) (:(b:) (b:◎))) (:(:(b:◎) (b:◎)) (:(b:◎) (b:))) (:(:(b:◎) (b:◎)) (:(b:◎) (b:◎)))))) \n",
      " (with XNOR:(bool:(space XNOR:(:◎ ◎) (:◎ (:(b:))) (:◎ (:(b:◎))) (:◎ (:(b:) (b:))) (:◎ (:(b:) (b:◎))) (:◎ (:(b:◎) (b:))) (:◎ (:(b:◎) (b:◎))) (:(:(b:)) ◎) (:(:(b:)) (:(b:))) (:(:(b:)) (:(b:◎))) (:(:(b:)) (:(b:) (b:))) (:(:(b:)) (:(b:) (b:◎))) (:(:(b:)) (:(b:◎) (b:))) (:(:(b:)) (:(b:◎) (b:◎))) (:(:(b:◎)) ◎) (:(:(b:◎)) (:(b:))) (:(:(b:◎)) (:(b:◎))) (:(:(b:◎)) (:(b:) (b:))) (:(:(b:◎)) (:(b:) (b:◎))) (:(:(b:◎)) (:(b:◎) (b:))) (:(:(b:◎)) (:(b:◎) (b:◎))) (:(:(b:) (b:)) ◎) (:(:(b:) (b:)) (:(b:))) (:(:(b:) (b:)) (:(b:◎))) (:(:(b:) (b:)) (:(b:) (b:))) (:(:(b:) (b:)) (:(b:) (b:◎))) (:(:(b:) (b:)) (:(b:◎) (b:))) (:(:(b:) (b:)) (:(b:◎) (b:◎))) (:(:(b:) (b:◎)) ◎) (:(:(b:) (b:◎)) (:(b:))) (:(:(b:) (b:◎)) (:(b:◎))) (:(:(b:) (b:◎)) (:(b:) (b:))) (:(:(b:) (b:◎)) (:(b:) (b:◎))) (:(:(b:) (b:◎)) (:(b:◎) (b:))) (:(:(b:) (b:◎)) (:(b:◎) (b:◎))) (:(:(b:◎) (b:)) ◎) (:(:(b:◎) (b:)) (:(b:))) (:(:(b:◎) (b:)) (:(b:◎))) (:(:(b:◎) (b:)) (:(b:) (b:))) (:(:(b:◎) (b:)) (:(b:) (b:◎))) (:(:(b:◎) (b:)) (:(b:◎) (b:))) (:(:(b:◎) (b:)) (:(b:◎) (b:◎))) (:(:(b:◎) (b:◎)) ◎) (:(:(b:◎) (b:◎)) (:(b:))) (:(:(b:◎) (b:◎)) (:(b:◎))) (:(:(b:◎) (b:◎)) (:(b:) (b:))) (:(:(b:◎) (b:◎)) (:(b:) (b:◎))) (:(:(b:◎) (b:◎)) (:(b:◎) (b:))) (:(:(b:◎) (b:◎)) (:(b:◎) (b:◎)))))) \n",
      " (with AND:(bool:(space AND:(:◎ ◎) (:◎ (:(b:))) (:◎ (:(b:◎))) (:◎ (:(b:) (b:))) (:◎ (:(b:) (b:◎))) (:◎ (:(b:◎) (b:))) (:◎ (:(b:◎) (b:◎))) (:(:(b:)) ◎) (:(:(b:)) (:(b:))) (:(:(b:)) (:(b:◎))) (:(:(b:)) (:(b:) (b:))) (:(:(b:)) (:(b:) (b:◎))) (:(:(b:)) (:(b:◎) (b:))) (:(:(b:)) (:(b:◎) (b:◎))) (:(:(b:◎)) ◎) (:(:(b:◎)) (:(b:))) (:(:(b:◎)) (:(b:◎))) (:(:(b:◎)) (:(b:) (b:))) (:(:(b:◎)) (:(b:) (b:◎))) (:(:(b:◎)) (:(b:◎) (b:))) (:(:(b:◎)) (:(b:◎) (b:◎))) (:(:(b:) (b:)) ◎) (:(:(b:) (b:)) (:(b:))) (:(:(b:) (b:)) (:(b:◎))) (:(:(b:) (b:)) (:(b:) (b:))) (:(:(b:) (b:)) (:(b:) (b:◎))) (:(:(b:) (b:)) (:(b:◎) (b:))) (:(:(b:) (b:)) (:(b:◎) (b:◎))) (:(:(b:) (b:◎)) ◎) (:(:(b:) (b:◎)) (:(b:))) (:(:(b:) (b:◎)) (:(b:◎))) (:(:(b:) (b:◎)) (:(b:) (b:))) (:(:(b:) (b:◎)) (:(b:) (b:◎))) (:(:(b:) (b:◎)) (:(b:◎) (b:))) (:(:(b:) (b:◎)) (:(b:◎) (b:◎))) (:(:(b:◎) (b:)) ◎) (:(:(b:◎) (b:)) (:(b:))) (:(:(b:◎) (b:)) (:(b:◎))) (:(:(b:◎) (b:)) (:(b:) (b:))) (:(:(b:◎) (b:)) (:(b:) (b:◎))) (:(:(b:◎) (b:)) (:(b:◎) (b:))) (:(:(b:◎) (b:)) (:(b:◎) (b:◎))) (:(:(b:◎) (b:◎)) ◎) (:(:(b:◎) (b:◎)) (:(b:))) (:(:(b:◎) (b:◎)) (:(b:◎))) (:(:(b:◎) (b:◎)) (:(b:) (b:))) (:(:(b:◎) (b:◎)) (:(b:) (b:◎))) (:(:(b:◎) (b:◎)) (:(b:◎) (b:))) (:(:(b:◎) (b:◎)) (:(b:◎) (b:◎)))))) \n",
      " (with NAND:(bool:(space NAND:(:◎ ◎) (:◎ (:(b:))) (:◎ (:(b:◎))) (:◎ (:(b:) (b:))) (:◎ (:(b:) (b:◎))) (:◎ (:(b:◎) (b:))) (:◎ (:(b:◎) (b:◎))) (:(:(b:)) ◎) (:(:(b:)) (:(b:))) (:(:(b:)) (:(b:◎))) (:(:(b:)) (:(b:) (b:))) (:(:(b:)) (:(b:) (b:◎))) (:(:(b:)) (:(b:◎) (b:))) (:(:(b:)) (:(b:◎) (b:◎))) (:(:(b:◎)) ◎) (:(:(b:◎)) (:(b:))) (:(:(b:◎)) (:(b:◎))) (:(:(b:◎)) (:(b:) (b:))) (:(:(b:◎)) (:(b:) (b:◎))) (:(:(b:◎)) (:(b:◎) (b:))) (:(:(b:◎)) (:(b:◎) (b:◎))) (:(:(b:) (b:)) ◎) (:(:(b:) (b:)) (:(b:))) (:(:(b:) (b:)) (:(b:◎))) (:(:(b:) (b:)) (:(b:) (b:))) (:(:(b:) (b:)) (:(b:) (b:◎))) (:(:(b:) (b:)) (:(b:◎) (b:))) (:(:(b:) (b:)) (:(b:◎) (b:◎))) (:(:(b:) (b:◎)) ◎) (:(:(b:) (b:◎)) (:(b:))) (:(:(b:) (b:◎)) (:(b:◎))) (:(:(b:) (b:◎)) (:(b:) (b:))) (:(:(b:) (b:◎)) (:(b:) (b:◎))) (:(:(b:) (b:◎)) (:(b:◎) (b:))) (:(:(b:) (b:◎)) (:(b:◎) (b:◎))) (:(:(b:◎) (b:)) ◎) (:(:(b:◎) (b:)) (:(b:))) (:(:(b:◎) (b:)) (:(b:◎))) (:(:(b:◎) (b:)) (:(b:) (b:))) (:(:(b:◎) (b:)) (:(b:) (b:◎))) (:(:(b:◎) (b:)) (:(b:◎) (b:))) (:(:(b:◎) (b:)) (:(b:◎) (b:◎))) (:(:(b:◎) (b:◎)) ◎) (:(:(b:◎) (b:◎)) (:(b:))) (:(:(b:◎) (b:◎)) (:(b:◎))) (:(:(b:◎) (b:◎)) (:(b:) (b:))) (:(:(b:◎) (b:◎)) (:(b:) (b:◎))) (:(:(b:◎) (b:◎)) (:(b:◎) (b:))) (:(:(b:◎) (b:◎)) (:(b:◎) (b:◎)))))) \n",
      " (with XOR:(bool:(space XOR:(:◎ ◎) (:◎ (:(b:))) (:◎ (:(b:◎))) (:◎ (:(b:) (b:))) (:◎ (:(b:) (b:◎))) (:◎ (:(b:◎) (b:))) (:◎ (:(b:◎) (b:◎))) (:(:(b:)) ◎) (:(:(b:)) (:(b:))) (:(:(b:)) (:(b:◎))) (:(:(b:)) (:(b:) (b:))) (:(:(b:)) (:(b:) (b:◎))) (:(:(b:)) (:(b:◎) (b:))) (:(:(b:)) (:(b:◎) (b:◎))) (:(:(b:◎)) ◎) (:(:(b:◎)) (:(b:))) (:(:(b:◎)) (:(b:◎))) (:(:(b:◎)) (:(b:) (b:))) (:(:(b:◎)) (:(b:) (b:◎))) (:(:(b:◎)) (:(b:◎) (b:))) (:(:(b:◎)) (:(b:◎) (b:◎))) (:(:(b:) (b:)) ◎) (:(:(b:) (b:)) (:(b:))) (:(:(b:) (b:)) (:(b:◎))) (:(:(b:) (b:)) (:(b:) (b:))) (:(:(b:) (b:)) (:(b:) (b:◎))) (:(:(b:) (b:)) (:(b:◎) (b:))) (:(:(b:) (b:)) (:(b:◎) (b:◎))) (:(:(b:) (b:◎)) ◎) (:(:(b:) (b:◎)) (:(b:))) (:(:(b:) (b:◎)) (:(b:◎))) (:(:(b:) (b:◎)) (:(b:) (b:))) (:(:(b:) (b:◎)) (:(b:) (b:◎))) (:(:(b:) (b:◎)) (:(b:◎) (b:))) (:(:(b:) (b:◎)) (:(b:◎) (b:◎))) (:(:(b:◎) (b:)) ◎) (:(:(b:◎) (b:)) (:(b:))) (:(:(b:◎) (b:)) (:(b:◎))) (:(:(b:◎) (b:)) (:(b:) (b:))) (:(:(b:◎) (b:)) (:(b:) (b:◎))) (:(:(b:◎) (b:)) (:(b:◎) (b:))) (:(:(b:◎) (b:)) (:(b:◎) (b:◎))) (:(:(b:◎) (b:◎)) ◎) (:(:(b:◎) (b:◎)) (:(b:))) (:(:(b:◎) (b:◎)) (:(b:◎))) (:(:(b:◎) (b:◎)) (:(b:) (b:))) (:(:(b:◎) (b:◎)) (:(b:) (b:◎))) (:(:(b:◎) (b:◎)) (:(b:◎) (b:))) (:(:(b:◎) (b:◎)) (:(b:◎) (b:◎)))))) \n",
      " (with NOR:(bool:(space NOR:(:◎ ◎) (:◎ (:(b:))) (:◎ (:(b:◎))) (:◎ (:(b:) (b:))) (:◎ (:(b:) (b:◎))) (:◎ (:(b:◎) (b:))) (:◎ (:(b:◎) (b:◎))) (:(:(b:)) ◎) (:(:(b:)) (:(b:))) (:(:(b:)) (:(b:◎))) (:(:(b:)) (:(b:) (b:))) (:(:(b:)) (:(b:) (b:◎))) (:(:(b:)) (:(b:◎) (b:))) (:(:(b:)) (:(b:◎) (b:◎))) (:(:(b:◎)) ◎) (:(:(b:◎)) (:(b:))) (:(:(b:◎)) (:(b:◎))) (:(:(b:◎)) (:(b:) (b:))) (:(:(b:◎)) (:(b:) (b:◎))) (:(:(b:◎)) (:(b:◎) (b:))) (:(:(b:◎)) (:(b:◎) (b:◎))) (:(:(b:) (b:)) ◎) (:(:(b:) (b:)) (:(b:))) (:(:(b:) (b:)) (:(b:◎))) (:(:(b:) (b:)) (:(b:) (b:))) (:(:(b:) (b:)) (:(b:) (b:◎))) (:(:(b:) (b:)) (:(b:◎) (b:))) (:(:(b:) (b:)) (:(b:◎) (b:◎))) (:(:(b:) (b:◎)) ◎) (:(:(b:) (b:◎)) (:(b:))) (:(:(b:) (b:◎)) (:(b:◎))) (:(:(b:) (b:◎)) (:(b:) (b:))) (:(:(b:) (b:◎)) (:(b:) (b:◎))) (:(:(b:) (b:◎)) (:(b:◎) (b:))) (:(:(b:) (b:◎)) (:(b:◎) (b:◎))) (:(:(b:◎) (b:)) ◎) (:(:(b:◎) (b:)) (:(b:))) (:(:(b:◎) (b:)) (:(b:◎))) (:(:(b:◎) (b:)) (:(b:) (b:))) (:(:(b:◎) (b:)) (:(b:) (b:◎))) (:(:(b:◎) (b:)) (:(b:◎) (b:))) (:(:(b:◎) (b:)) (:(b:◎) (b:◎))) (:(:(b:◎) (b:◎)) ◎) (:(:(b:◎) (b:◎)) (:(b:))) (:(:(b:◎) (b:◎)) (:(b:◎))) (:(:(b:◎) (b:◎)) (:(b:) (b:))) (:(:(b:◎) (b:◎)) (:(b:) (b:◎))) (:(:(b:◎) (b:◎)) (:(b:◎) (b:))) (:(:(b:◎) (b:◎)) (:(b:◎) (b:◎)))))) \n",
      " (with FALSE:(bool:(space FALSE:(:◎ ◎) (:◎ (:(b:))) (:◎ (:(b:◎))) (:◎ (:(b:) (b:))) (:◎ (:(b:) (b:◎))) (:◎ (:(b:◎) (b:))) (:◎ (:(b:◎) (b:◎))) (:(:(b:)) ◎) (:(:(b:)) (:(b:))) (:(:(b:)) (:(b:◎))) (:(:(b:)) (:(b:) (b:))) (:(:(b:)) (:(b:) (b:◎))) (:(:(b:)) (:(b:◎) (b:))) (:(:(b:)) (:(b:◎) (b:◎))) (:(:(b:◎)) ◎) (:(:(b:◎)) (:(b:))) (:(:(b:◎)) (:(b:◎))) (:(:(b:◎)) (:(b:) (b:))) (:(:(b:◎)) (:(b:) (b:◎))) (:(:(b:◎)) (:(b:◎) (b:))) (:(:(b:◎)) (:(b:◎) (b:◎))) (:(:(b:) (b:)) ◎) (:(:(b:) (b:)) (:(b:))) (:(:(b:) (b:)) (:(b:◎))) (:(:(b:) (b:)) (:(b:) (b:))) (:(:(b:) (b:)) (:(b:) (b:◎))) (:(:(b:) (b:)) (:(b:◎) (b:))) (:(:(b:) (b:)) (:(b:◎) (b:◎))) (:(:(b:) (b:◎)) ◎) (:(:(b:) (b:◎)) (:(b:))) (:(:(b:) (b:◎)) (:(b:◎))) (:(:(b:) (b:◎)) (:(b:) (b:))) (:(:(b:) (b:◎)) (:(b:) (b:◎))) (:(:(b:) (b:◎)) (:(b:◎) (b:))) (:(:(b:) (b:◎)) (:(b:◎) (b:◎))) (:(:(b:◎) (b:)) ◎) (:(:(b:◎) (b:)) (:(b:))) (:(:(b:◎) (b:)) (:(b:◎))) (:(:(b:◎) (b:)) (:(b:) (b:))) (:(:(b:◎) (b:)) (:(b:) (b:◎))) (:(:(b:◎) (b:)) (:(b:◎) (b:))) (:(:(b:◎) (b:)) (:(b:◎) (b:◎))) (:(:(b:◎) (b:◎)) ◎) (:(:(b:◎) (b:◎)) (:(b:))) (:(:(b:◎) (b:◎)) (:(b:◎))) (:(:(b:◎) (b:◎)) (:(b:) (b:))) (:(:(b:◎) (b:◎)) (:(b:) (b:◎))) (:(:(b:◎) (b:◎)) (:(b:◎) (b:))) (:(:(b:◎) (b:◎)) (:(b:◎) (b:◎)))))) \n"
     ]
    }
   ],
   "source": [
    "tab : dom 100 : ap {with (get:B) : bool : space (get:B) : permutation 2 : S2?} : endos?"
   ]
  },
  {
   "cell_type": "markdown",
   "id": "0001499d-718c-4a3d-8aa7-92c5a477cf5e",
   "metadata": {},
   "source": [
    "Since inner endomorphisms always go from a sequence of booleans to a single boolean, none of these 8 can be involutions.  All are symmetric and are thus algebraic endomorphisms.  Of the eight, only TRUE, FALSE, NOR and XNOR are spaces.  "
   ]
  },
  {
   "cell_type": "code",
   "execution_count": null,
   "id": "ad2e9b21-0984-4327-a212-db767548026d",
   "metadata": {},
   "outputs": [],
   "source": []
  }
 ],
 "metadata": {
  "kernelspec": {
   "display_name": "coda",
   "language": "",
   "name": "coda"
  },
  "language_info": {
   "file_extension": ".co",
   "mimetype": "text/plain",
   "name": "Any text"
  }
 },
 "nbformat": 4,
 "nbformat_minor": 5
}
