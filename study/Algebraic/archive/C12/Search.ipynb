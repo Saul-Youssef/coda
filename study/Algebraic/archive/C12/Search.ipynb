{
 "cells": [
  {
   "cell_type": "code",
   "execution_count": 1,
   "id": "0661b1ec-5c05-4dd1-abe5-566e158dce57",
   "metadata": {},
   "outputs": [
    {
     "name": "stdout",
     "output_type": "stream",
     "text": [
      "(defaultTime:1000)"
     ]
    }
   ],
   "source": [
    "defaultTime:1000"
   ]
  },
  {
   "cell_type": "code",
   "execution_count": 2,
   "id": "06076e81-9dbb-4835-a390-1f6af980d36f",
   "metadata": {},
   "outputs": [
    {
     "name": "stdout",
     "output_type": "stream",
     "text": []
    }
   ],
   "source": [
    "import : dir co : up : up : up : ."
   ]
  },
  {
   "cell_type": "code",
   "execution_count": 3,
   "id": "6b755901-a438-4df0-ab98-5e00591e9d02",
   "metadata": {},
   "outputs": [
    {
     "name": "stdout",
     "output_type": "stream",
     "text": []
    }
   ],
   "source": [
    "Def F  : ap { if (right:B):(:arg:B)}  \n",
    "Def nF : ap {nif (right:B):(:arg:B)}  "
   ]
  },
  {
   "cell_type": "code",
   "execution_count": 6,
   "id": "f3ed760b-e2d0-4d6c-b5bc-90b24e2292eb",
   "metadata": {},
   "outputs": [
    {
     "name": "stdout",
     "output_type": "stream",
     "text": []
    }
   ],
   "source": [
    "write L1 1200 : dom 1000 : property algebraic_L1 S7? : C12?: "
   ]
  },
  {
   "cell_type": "code",
   "execution_count": 7,
   "id": "5049706c-d856-44e8-a797-1cfde581d923",
   "metadata": {},
   "outputs": [
    {
     "name": "stdout",
     "output_type": "stream",
     "text": []
    }
   ],
   "source": [
    "write L2 1200 : dom 1000 : property algebraic_L2 S7? : F : read stable : L1 "
   ]
  },
  {
   "cell_type": "code",
   "execution_count": 8,
   "id": "6b848a11-c4fb-4ade-be3f-72647f7afbbd",
   "metadata": {},
   "outputs": [
    {
     "name": "stdout",
     "output_type": "stream",
     "text": []
    }
   ],
   "source": [
    "write L2R1 1200 : dom 1000 : property algebraic_R1 S7? : F : read stable : L2 "
   ]
  },
  {
   "cell_type": "code",
   "execution_count": 9,
   "id": "2bab26f6-cd65-4c00-8c4c-a168f6179b47",
   "metadata": {},
   "outputs": [
    {
     "name": "stdout",
     "output_type": "stream",
     "text": []
    }
   ],
   "source": [
    "write L2R1.idem 1200 : dom 1000 : property idempotent S7? : F : read stable : L2R1 "
   ]
  },
  {
   "cell_type": "code",
   "execution_count": 12,
   "id": "a6a8ba1e-ce26-4464-a753-af7aeaca48c7",
   "metadata": {},
   "outputs": [
    {
     "name": "stdout",
     "output_type": "stream",
     "text": [
      " (with count:◎) \n",
      " (with nand:◎) \n",
      " (with not:◎) \n",
      " (with xor:◎) \n"
     ]
    }
   ],
   "source": [
    "tab : ap {nif (right:B):B} : read stable : L2R1.idem "
   ]
  },
  {
   "cell_type": "code",
   "execution_count": null,
   "id": "396fa0a0-fb69-49bb-9736-bad96fabadb7",
   "metadata": {},
   "outputs": [],
   "source": []
  }
 ],
 "metadata": {
  "kernelspec": {
   "display_name": "coda",
   "language": "",
   "name": "coda"
  },
  "language_info": {
   "file_extension": ".co",
   "mimetype": "text/plain",
   "name": "Any text"
  }
 },
 "nbformat": 4,
 "nbformat_minor": 5
}
