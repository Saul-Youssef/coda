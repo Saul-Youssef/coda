{
 "cells": [
  {
   "cell_type": "code",
   "execution_count": 1,
   "id": "9ea37cc3-a039-45da-a3fc-8a0b59fe890e",
   "metadata": {},
   "outputs": [
    {
     "name": "stdout",
     "output_type": "stream",
     "text": [
      "(defaultTime:1000)"
     ]
    }
   ],
   "source": [
    "defaultTime:1000"
   ]
  },
  {
   "cell_type": "code",
   "execution_count": 2,
   "id": "235a755d-3995-4073-9910-288cf254b1fd",
   "metadata": {},
   "outputs": [
    {
     "name": "stdout",
     "output_type": "stream",
     "text": []
    }
   ],
   "source": [
    "import : dir co : up : up : ."
   ]
  },
  {
   "cell_type": "code",
   "execution_count": 3,
   "id": "a3005e5f-ffed-41bc-841a-f8295c586024",
   "metadata": {},
   "outputs": [
    {
     "name": "stdout",
     "output_type": "stream",
     "text": []
    }
   ],
   "source": [
    "Def tab : ap post <\\n> "
   ]
  },
  {
   "cell_type": "code",
   "execution_count": 4,
   "id": "0b80e77a-7061-41ed-be67-c4b838b1dbdd",
   "metadata": {},
   "outputs": [
    {
     "name": "stdout",
     "output_type": "stream",
     "text": []
    }
   ],
   "source": [
    "out C0-S6 100 : multi 100 : property nilpotent (C0?:) : S6?"
   ]
  },
  {
   "cell_type": "code",
   "execution_count": 5,
   "id": "efc694e4-59a7-4e2b-b819-18a94a2140aa",
   "metadata": {},
   "outputs": [
    {
     "name": "stdout",
     "output_type": "stream",
     "text": []
    }
   ],
   "source": [
    "out C1-S6 100 : multi 100 : property nilpotent (C1?:) : S6?"
   ]
  },
  {
   "cell_type": "code",
   "execution_count": null,
   "id": "b80b2fca-3010-4a28-b4c2-1b49a507fe09",
   "metadata": {},
   "outputs": [],
   "source": [
    "Let T : property nilpotent (C2?:) : S6?"
   ]
  },
  {
   "cell_type": "code",
   "execution_count": null,
   "id": "0dd115c5-a32b-44d5-80fc-02c2418d6d77",
   "metadata": {},
   "outputs": [],
   "source": [
    "#stat : C0-S6 \n",
    "#stat : C1-S6 \n",
    "#stat : C2-S6 "
   ]
  },
  {
   "cell_type": "code",
   "execution_count": null,
   "id": "9665d8d3-b12d-4ea6-9d02-83ee433d5708",
   "metadata": {},
   "outputs": [],
   "source": []
  }
 ],
 "metadata": {
  "kernelspec": {
   "display_name": "coda",
   "language": "",
   "name": "coda"
  },
  "language_info": {
   "file_extension": ".co",
   "mimetype": "text/plain",
   "name": "Any text"
  }
 },
 "nbformat": 4,
 "nbformat_minor": 5
}
