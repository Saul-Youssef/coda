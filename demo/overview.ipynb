{
 "cells": [
  {
   "cell_type": "markdown",
   "id": "c16b6288-ff78-4e73-9ffb-a3711a5291ab",
   "metadata": {},
   "source": [
    "# Overview\n",
    "\n",
    "   \"Coda\" is both a foundational system for mathematics and \n",
    "a foundational system for computing.  This notebook is a tutorial for introducting the basic concepts \n",
    "via a concrete implementation.  Both the software system and the internal \n",
    "language are also called \"Coda.\"  Other notebooks will show you how to use the system via a \n",
    "command line interface or via python programs.  Here, we use a Jupyter kernel which is connected to \n",
    "the Coda language directly. \n",
    "\n",
    "## Foundation \n",
    "\n",
    "Any system of reasoning must necessarily have undefined terms which are understood before the first definition. In Coda, we assume that the term **finite sequence** is understood without explanation.  This means that \n",
    "we can speak of an empty sequence, concatenation of sequences, pairs, and functions (thought of as a collection \n",
    "of pairs) without further explanation. \n",
    "\n",
    "Given this, the foundational concepts of Coda are,\n",
    "\n",
    "* A **data** is a finite sequence of **codas**;\n",
    "* A **coda** is a pair of **data**.\n",
    "\n",
    "Thus, an empty sequence `()` is a valid data, a pair of empty sequences (pairs are denoted with a colon: `(:)`) is a coda, `(:) (:) (:(:))` is valid data, etc.  Using this kind of \"data made of nothing\", we define 0 and 1 bits, bytes, characters and data in the usual sense. \n",
    "\n",
    "Given data and coda as defined,\n",
    "\n",
    "* A **definition** is a partial function from coda to data; \n",
    "* A **context** is a finite collection of definitions with disjoint domains. \n",
    "\n",
    "Given a partial function f from coda to data, we can extend f to a function from data to data by defining \n",
    "\n",
    "* f(c<sub>1</sub> c<sub>2</sub>...c<sub>n</sub>) = f(c<sub>1</sub>)+f(c<sub>2</sub>)+...+f(c<sub>n</sub>) \n",
    "\n",
    "where c<sub>1</sub>...c<sub>n</sub> are codas, + is concatenation of data as sequences and where f(c) is taken to be the identity if c is not in the domain of f.  Given a context f<sub>1</sub>,f<sub>2</sub>,...,f<sub>n</sub>, we can define a corresponding equivalence relation \n",
    "on data by letting \n",
    "\n",
    "* A + B = f(A) + B = A + f(B)\n",
    "\n",
    "where A and B are data and where f is any of f<sub>1</sub>,...,f<sub>n</sub>, extended to a function from data to data as indicated. \n",
    "\n",
    "Finally, Coda has only one axiom which defines when it is valid to add a partial function to a context.\n",
    ">\n",
    ">**Axiom of Definition**: Suppose f<sub>1</sub>,...,f<sub>n</sub> is a context and f is a partial function \n",
    "from coda to data.  If the domain of f is disjoint with the domains of each f<sub>1</sub>,...,f<sub>n</sub>, then \n",
    "f<sub>1</sub>,...,f<sub>n</sub>,f is a valid context.\n",
    ">\n",
    "\n",
    "In other words, the Axiom of Definition defines what constitutes a valid definition.\n",
    "\n",
    "Note that since the partial functions of a context are disjoint, each coda can be in the domain of at most one definition.  Codas where the definition is the identity operation are stable in that sense.  They are called **atoms**. Data containing atoms in it's sequence is called **atomic** data.  \n",
    "\n",
    "## Language \n",
    "\n",
    "  Recall that predicate logic in standard foundations needs to have syntax rules to exclude meaningless expressions like \n",
    "\"&forall; x x &forall; &forall; &exist;\" and needs axioms to define valid operations with the symbols.  \n",
    "Coda has a language too, but it is merely one more definition in a context just like any other.  In particular, \n",
    "it is a partial function acting on codas of the form ({source code} A : B) where A and B are data.  This means \n",
    "that both the language syntax and meaning are already defined without the need for axioms explaining valid \n",
    "operations.  Valid operations are defined by the equality above, whether the data has language expressions in it \n",
    "or not.  This is a rather large simplification.  In addition, the language is quite tiny.  Essentially, it is \n",
    "blank space to indicate data concatenation, colon to indicate forming a coda from two data and parenthesis to group\n",
    "operations as usual.  There is also no such thing as a syntax error.  Coda has the amusing property that every \n",
    "bit string is valid source code. \n",
    "\n",
    "## Data, Logic, Goedel phenomena\n",
    "\n",
    "   Since everything in Coda is data all questions are, roughly speaking, of the form \"Is data A equal to data B?\" \n",
    "Since the equality above is also part of the language, the answers to a question `A=B` is also data.  From \n",
    "this point of view, it is natural to think of Logic in a particular way.  In a sense, the point of Logic is \n",
    "to summarize what can be said about a proposition in the coarsest useful way.  Since, in Coda, \n",
    "all questions are data, it is natural to  natural to think of Logic as just the coarsest \n",
    "meaningful classification of data.  In Coda, the coarsest classification is \n",
    "\n",
    "* Empty data (data equal to the empty sequence).\n",
    "* Atomic data (as defined above).\n",
    "* Undecided data (data which is neither empty nor atomic).\n",
    "\n",
    "This gives a three valued logic where empty/atomic/undecided data is \"true\"/\"false\"/\"undecided\" respectively.  \n",
    "Undecided data may become true or false with future definitions, but true data is \"always true\" false data is \"always false.\"  As we will see later, some undecided data is **undecidable** in the sense of remaining undecided no \n",
    "matter what definitions are added.  This is the Godel phenomena, as we shall see. \n",
    "\n",
    "Since this is meant to be acceptable to (at least some) mathematicians, it is important that the software be tiny enough for a human to fully comprehend.  I would claim that this is true both for the Coda core system (the implementation of data, coda, definitions is approximately 120 lines of python code) and for the Coda language (the compiler and parser are approximately 100 lines of python code).   \n",
    "\n",
    "## Notes\n",
    "\n",
    "* Standard foundations are based on predicate logic where *true*, *false*, *proposition* and *variable* are undefined terms in a formal system.  Coda is built on *finite sequence* as the foundational concept and is not built on \n",
    "a foundation of logic.  \n",
    "We will see that logical operations appear as definitions along with other concepts of mathematics such as functions, variables, categories and morphisms. \n",
    "\n",
    "* Coda has a very simple natural language which we below in this notebook.  The language has, essentially spaces for concatenation of data `a b`, colons for forming a coda from two data as in `a:b` and parenthesis. Unlike the situation with predicate logic, the meaning of the language is precisely defined by definitions as described above.  Coda essentially contains it's own internal language.\n",
    "\n",
    "* The Coda language has no syntax errors.  In predicate logic, for instance, only some sequences of characters are syntactically valid.  Coda is different in the sense that every sequence of bits is a valid expression.  \n",
    "\n",
    "* Since everything in Coda is data, all questions are of the form \"is data A equal to data B.\" Since \n",
    "equality is also part of the natural language, the answers to such questions `A=B` are also data.  From this point \n",
    "of view, it is natural that the point of \"Logic\" should be viewed as \n",
    "\n",
    "From this point of view it is natural for Logic to appear as \n",
    "Functions, variables, categories, morphisms, functors, proofs and theorems appear naturally as data with special properties.  For example, if data C obeys C : X Y = C : (C:X) (C:Y) for data X, Y, then C is a category.   \n",
    "\n",
    "* Unlike foundational systems and software based on type theory or dependent type theory (such as Homotopy Type Theory, Coq, Lean, etc.), types in Coda also emerge naturally as data with special properties.  \n"
   ]
  },
  {
   "cell_type": "code",
   "execution_count": 1,
   "id": "18c3a276-feb9-4205-9615-c8861cc22f56",
   "metadata": {},
   "outputs": [
    {
     "name": "stdout",
     "output_type": "stream",
     "text": [
      "a b c d e f g"
     ]
    }
   ],
   "source": [
    "#\n",
    "#   Coda uses spaces to denote concatenation and parenthesis to group operations as usual.\n",
    "#   Comment lines must start with # to be ignored.\n",
    "#\n",
    "a b (c d) e f g"
   ]
  },
  {
   "cell_type": "code",
   "execution_count": null,
   "id": "45bfe8e0-a435-4e6a-bdda-a7facba47a33",
   "metadata": {},
   "outputs": [],
   "source": []
  },
  {
   "cell_type": "code",
   "execution_count": 2,
   "id": "089327b3-7318-4b62-9214-0ca0f1b77595",
   "metadata": {},
   "outputs": [
    {
     "name": "stdout",
     "output_type": "stream",
     "text": [
      "3 2 1"
     ]
    }
   ],
   "source": [
    "#\n",
    "#   There are basically two operations: concatenation and colon. here, \n",
    "#   for instance, we reverse the order of 1 2 3 using rev.  \n",
    "#\n",
    "rev : 1 2 3 "
   ]
  },
  {
   "cell_type": "code",
   "execution_count": 3,
   "id": "96201698-8b62-4dba-83d2-d621e52b4961",
   "metadata": {},
   "outputs": [
    {
     "name": "stdout",
     "output_type": "stream",
     "text": [
      "\u001b[;1mcode:\u001b[0m\n",
      "    \u001b[34;7mrev\u001b[0m\n",
      "\u001b[;1mmodule:\u001b[0m\n",
      "    Sequence\n",
      "\u001b[;1msummary:\u001b[0m\n",
      "    Reverse the order of it's input sequence.\n",
      "\u001b[;1mdescription:\u001b[0m\n",
      "    rev : () -> ()\n",
      "    rev : b  -> b            ...if b is an atom\n",
      "    rev : b B -> (rev:B) b   ...if b is an atom\n",
      "\u001b[;1mpath:\u001b[0m\n",
      "    /Users/youssef/coda/py/Sequence.py\n",
      "\u001b[;1mdemos:\u001b[0m\n",
      "    1. \u001b[35;4mrev : a b c\u001b[0m\n",
      "    2. \u001b[35;4mrev :\u001b[0m\n",
      "    3. \u001b[35;4mrev : nat : 0\u001b[0m\n",
      "    4. \u001b[35;4mrev : rev : nat : 0\u001b[0m\n"
     ]
    }
   ],
   "source": [
    "#\n",
    "#...This works because the standard context contains a mapping from \n",
    "#   (rev : <something> ) to <something in reverse order>.\n",
    "#\n",
    "help : rev "
   ]
  },
  {
   "cell_type": "code",
   "execution_count": 4,
   "id": "430be65b-4fdc-4fb9-8592-787cc8175297",
   "metadata": {},
   "outputs": [
    {
     "name": "stdout",
     "output_type": "stream",
     "text": [
      "4 3 (rev:(foo:bar2)) (rev:(foo:bar1)) 2 1"
     ]
    }
   ],
   "source": [
    "#\n",
    "#   A coda like (foo:bar) has no corresponding definition. It may get defined \n",
    "#   at a future time, though.  Note how Coda handles this...\n",
    "#\n",
    "rev : 1 2 (foo:bar1) (foo:bar2) 3 4"
   ]
  },
  {
   "cell_type": "code",
   "execution_count": 5,
   "id": "cb108c71-4d7a-48cf-be8a-873863ca49cb",
   "metadata": {},
   "outputs": [
    {
     "name": "stdout",
     "output_type": "stream",
     "text": [
      "g f"
     ]
    }
   ],
   "source": [
    "#\n",
    "#   Colons group to the right as in... \n",
    "#\n",
    "first 2 : rev : a b c d e f g"
   ]
  },
  {
   "cell_type": "code",
   "execution_count": 6,
   "id": "42cea225-1a2e-4310-a85f-62eaa91f7007",
   "metadata": {},
   "outputs": [
    {
     "name": "stdout",
     "output_type": "stream",
     "text": [
      "a b"
     ]
    }
   ],
   "source": [
    "#\n",
    "#   Text in curly brackets is interepreted as Coda language expressions.\n",
    "#   The meaning of this is defined by a definition which includes any \n",
    "#   coda ({...}:...) in it's domain. \n",
    "#\n",
    "{first 2 : B} : a b c d e "
   ]
  },
  {
   "cell_type": "code",
   "execution_count": 7,
   "id": "335fb39c-2a7b-4d54-b8a0-2a6fdccc3754",
   "metadata": {},
   "outputs": [
    {
     "name": "stdout",
     "output_type": "stream",
     "text": [
      "a b"
     ]
    }
   ],
   "source": [
    "#\n",
    "#   The language has special symbols \"A\" and \"B\" to refer to data outside of the curly \n",
    "#   curly brackets.  You can think of \"B\" as \"input\" data and \"A\" as \"argument\" data.  \n",
    "#   for instance...\n",
    "#\n",
    "{first A : B} 2 : a b c d e "
   ]
  },
  {
   "cell_type": "code",
   "execution_count": 8,
   "id": "a0edfe1f-6be5-4412-991a-20bdbfa45b1d",
   "metadata": {},
   "outputs": [
    {
     "name": "stdout",
     "output_type": "stream",
     "text": []
    }
   ],
   "source": [
    "#\n",
    "#   You can create your own definitions\n",
    "#\n",
    "def first2 : {first 2 : B} "
   ]
  },
  {
   "cell_type": "code",
   "execution_count": 9,
   "id": "ef66b751-7742-4e83-8164-4f586aa19ba8",
   "metadata": {},
   "outputs": [
    {
     "name": "stdout",
     "output_type": "stream",
     "text": [
      "a b"
     ]
    }
   ],
   "source": [
    "first2 : a b c d e"
   ]
  },
  {
   "cell_type": "code",
   "execution_count": 10,
   "id": "86e0fc87-b297-4a58-bf9d-3d544de8ae21",
   "metadata": {
    "tags": []
   },
   "outputs": [
    {
     "name": "stdout",
     "output_type": "stream",
     "text": [
      "\u001b[34;1madis..........\u001b[0mApply.....2..\u001b[35;4madis A : B applies each a in A to each b in B.\u001b[0m\n",
      "\u001b[34;1map............\u001b[0mApply.....3..\u001b[35;4mApply A to each b in B.\u001b[0m\n",
      "\u001b[34;1mapall.........\u001b[0mApply.....3..\u001b[35;4mapall applies each argument to the entire input.\u001b[0m\n",
      "\u001b[34;1mapif..........\u001b[0mApply.....3..\u001b[35;4mapif A : B gets the elements b of B with A:b true.\u001b[0m\n",
      "\u001b[34;1mapp...........\u001b[0mApply.....3..\u001b[35;4mSequential version of binary operator\u001b[0m\n",
      "\u001b[34;1mdis...........\u001b[0mApply.....2..\u001b[35;4mDistribute the first argument over the rest and apply each pair to B.\u001b[0m\n",
      "\u001b[34;1mbin...........\u001b[0mBasic.....0..\u001b[35;4mCommon basic operations\u001b[0m\n",
      "\u001b[34;1mget...........\u001b[0mBasic.....1..\u001b[35;4mselect  A : ... gets data of the form (A:<something>)\u001b[0m\n",
      "\u001b[34;1mhas...........\u001b[0mBasic.....1..\u001b[35;4mselect  A : ... gets data of the form (A:<something>)\u001b[0m\n",
      "\u001b[34;1mhasnt.........\u001b[0mBasic.....1..\u001b[35;4mselect  A : ... gets data of the form (A:<something>)\u001b[0m\n",
      "\u001b[34;1mif............\u001b[0mBasic.....2..\u001b[35;4mif A : B -> () if A is false\u001b[0m\n",
      "\u001b[34;1mis............\u001b[0mBasic.....1..\u001b[35;4mselect  A : ... gets data of the form (A:<something>)\u001b[0m\n",
      "\u001b[34;1misnt..........\u001b[0mBasic.....1..\u001b[35;4mselect  A : ... gets data of the form (A:<something>)\u001b[0m\n",
      "\u001b[34;1mnull..........\u001b[0mBasic.....1..\u001b[35;4mpass : B -> B and null : B -> ()\u001b[0m\n",
      "\u001b[34;1mpass..........\u001b[0mBasic.....1..\u001b[35;4mpass : B -> B and null : B -> ()\u001b[0m\n",
      "\u001b[34;1mput...........\u001b[0mBasic.....1..\u001b[35;4mput A : B creates A:B, it \"puts B into A\".\u001b[0m\n",
      "\u001b[34;1mcoda..........\u001b[0mCompile...2..\u001b[35;4mcoda compiles input code using the language.\u001b[0m\n",
      "\u001b[34;1mconst.........\u001b[0mDefine....1..\u001b[35;4mNamed constant storage\u001b[0m\n",
      "\u001b[34;1mdef...........\u001b[0mDefine....1..\u001b[35;4mCreate a definition.\u001b[0m\n",
      "\u001b[34;1mlet...........\u001b[0mDefine....1..\u001b[35;4mAssign values to \"variables\"\u001b[0m\n",
      "\u001b[34;1mdefs..........\u001b[0mHelp......1..\u001b[35;4mdom = Code.pretty(domain)\u001b[0m\n",
      "\u001b[34;1mdemo..........\u001b[0mHelp......2..\u001b[35;4mreturn data(colon(data(b'{'+demcode.encode()+b'}'),data()))\u001b[0m\n",
      "\u001b[34;1mhelp..........\u001b[0mHelp......1..\u001b[35;4mH = Help(Code.coda2str(I[0]))\u001b[0m\n",
      "\u001b[34;1msource........\u001b[0mHelp......2..\u001b[35;4mI,R = B.split()\u001b[0m\n",
      "\u001b[34;1mdir...........\u001b[0mIO........2..\u001b[35;4mdir selects paths from it's input.  The argument\u001b[0m\n",
      "\u001b[34;1mreadpath......\u001b[0mIO........2..\u001b[35;4mBasic local read of all the bytes from a local files\u001b[0m\n",
      "\u001b[34;1mhome..........\u001b[0mImport....1..\u001b[35;4mThe home directory of the currently running software\u001b[0m\n",
      "\u001b[34;1mhomecontext...\u001b[0mImport....1..\u001b[35;4mreturn da(src)\u001b[0m\n",
      "\u001b[34;1mstart.........\u001b[0mImport....1..\u001b[35;4mThe startup directory of the currently running software\u001b[0m\n",
      "\u001b[34;1mstartcontext..\u001b[0mImport....1..\u001b[35;4mreturn da(src)\u001b[0m\n",
      "\u001b[34;1mlanguage......\u001b[0mLanguage..1..\u001b[35;4mThere are no syntax errors.  All byte strings are valid source code.\u001b[0m\n",
      "\u001b[34;1m#.............\u001b[0mLogic.....0..\u001b[35;4m(# A:B) is merely a container created when A is not equal to B.\u001b[0m\n",
      "\u001b[34;1m=.............\u001b[0mLogic.....3..\u001b[35;4mContext equality (=) and logical complement (^) in \"Zen logic\".\u001b[0m\n",
      "\u001b[34;1m^.............\u001b[0mLogic.....1..\u001b[35;4mContext equality (=) and logical complement (^) in \"Zen logic\".\u001b[0m\n",
      "\u001b[34;1mnone..........\u001b[0mLogic.....1..\u001b[35;4msome/none define the coarsest data classification\u001b[0m\n",
      "\u001b[34;1msome..........\u001b[0mLogic.....1..\u001b[35;4msome/none define the coarsest data classification\u001b[0m\n",
      "\u001b[34;1mcode_add......\u001b[0mNumber....2..\u001b[35;4mcode binary operations\u001b[0m\n",
      "\u001b[34;1mcode_max......\u001b[0mNumber....2..\u001b[35;4mcode binary operations\u001b[0m\n",
      "\u001b[34;1mcode_min......\u001b[0mNumber....2..\u001b[35;4mcode binary operations\u001b[0m\n",
      "\u001b[34;1mfloat_add.....\u001b[0mNumber....2..\u001b[35;4mFloat binary operations and involutions\u001b[0m\n",
      "\u001b[34;1mfloat_diff....\u001b[0mNumber....2..\u001b[35;4mFloat binary operations and involutions\u001b[0m\n",
      "\u001b[34;1mfloat_inv.....\u001b[0mNumber....2..\u001b[35;4mInvolutions\u001b[0m\n",
      "\u001b[34;1mfloat_max.....\u001b[0mNumber....2..\u001b[35;4mFloat binary operations and involutions\u001b[0m\n",
      "\u001b[34;1mfloat_min.....\u001b[0mNumber....2..\u001b[35;4mFloat binary operations and involutions\u001b[0m\n",
      "\u001b[34;1mfloat_mult....\u001b[0mNumber....2..\u001b[35;4mFloat binary operations and involutions\u001b[0m\n",
      "\u001b[34;1mint_add.......\u001b[0mNumber....2..\u001b[35;4mInteger binary operations\u001b[0m\n",
      "\u001b[34;1mint_diff......\u001b[0mNumber....2..\u001b[35;4mInteger binary operations\u001b[0m\n",
      "\u001b[34;1mint_inv.......\u001b[0mNumber....2..\u001b[35;4mInvolutions\u001b[0m\n",
      "\u001b[34;1mint_max.......\u001b[0mNumber....2..\u001b[35;4mInteger binary operations\u001b[0m\n",
      "\u001b[34;1mint_min.......\u001b[0mNumber....2..\u001b[35;4mInteger binary operations\u001b[0m\n",
      "\u001b[34;1mint_mult......\u001b[0mNumber....2..\u001b[35;4mInteger binary operations\u001b[0m\n",
      "\u001b[34;1mnat...........\u001b[0mNumber....1..\u001b[35;4mCode version of the natural numbers 0 1 2 3...\u001b[0m\n",
      "\u001b[34;1mone...........\u001b[0mNumber....1..\u001b[35;4mMakes a code 1 if the input is a single atom.  Used for counting.\u001b[0m\n",
      "\u001b[34;1mcount.........\u001b[0mSequence..1..\u001b[35;4mSelect inputs with a specified length\u001b[0m\n",
      "\u001b[34;1mfirst.........\u001b[0mSequence..4..\u001b[35;4mGets the A-specified leading items from input data.\u001b[0m\n",
      "\u001b[34;1miscount.......\u001b[0mSequence..1..\u001b[35;4mSelect inputs with a specified length\u001b[0m\n",
      "\u001b[34;1mlast..........\u001b[0mSequence..3..\u001b[35;4mGets the argument-specified last items from input\u001b[0m\n",
      "\u001b[34;1mnth...........\u001b[0mSequence..1..\u001b[35;4mSelect the n'th items from input.\u001b[0m\n",
      "\u001b[34;1mrep...........\u001b[0mSequence..2..\u001b[35;4mRepeats the arguments for each input.\u001b[0m\n",
      "\u001b[34;1mrev...........\u001b[0mSequence..1..\u001b[35;4mReverse the order of it's input sequence.\u001b[0m\n",
      "\u001b[34;1mtail..........\u001b[0mSequence..3..\u001b[35;4mGet the tail items of a sequence.\u001b[0m\n",
      "\u001b[34;1mendswith......\u001b[0mText......2..\u001b[35;4mSelects codes that start/end with argument specified pre or post code\u001b[0m\n",
      "\u001b[34;1mpure..........\u001b[0mText......2..\u001b[35;4mSelects codes that start/end with argument specified pre or post code\u001b[0m\n",
      "\u001b[34;1mstartswith....\u001b[0mText......2..\u001b[35;4mSelects codes that start/end with argument specified pre or post code\u001b[0m\n",
      "\u001b[34;1mwrap..........\u001b[0mText......2..\u001b[35;4mimport Code\u001b[0m\n"
     ]
    }
   ],
   "source": [
    "#\n",
    "#   Use defs: to list the definitions currently in context.  A few dozen definitions are \n",
    "#   defined in python modules.  These are mostly low level combinatoric operations. \n",
    "#\n",
    "defs:"
   ]
  },
  {
   "cell_type": "code",
   "execution_count": 11,
   "id": "f940d0ee-9cb7-49fb-a4ba-585ebd30d54c",
   "metadata": {},
   "outputs": [
    {
     "name": "stdout",
     "output_type": "stream",
     "text": [
      "(:(:(:(:))(:(:)(:))(:(:))(:(:))(:(:)(:))(:(:))(:(:))(:(:)))(:(:(:))(:(:)(:))(:(:)(:))(:(:))(:(:))(:(:)(:))(:(:))(:(:)(:)))(:(:(:))(:(:)(:))(:(:)(:))(:(:))(:(:)(:))(:(:)(:))(:(:))(:(:)))(:(:(:))(:(:)(:))(:(:)(:))(:(:))(:(:)(:))(:(:)(:))(:(:))(:(:)))(:(:(:))(:(:)(:))(:(:)(:))(:(:))(:(:)(:))(:(:)(:))(:(:)(:))(:(:)(:))))"
     ]
    }
   ],
   "source": [
    "#\n",
    "#   Data in coda is all \"pure\".  It's not byte sequences or even bit sequences.  Bits 0 and 1, \n",
    "#   bytes, etc. are constructed.  For instance, the \"pure\" command let's you see the pure \n",
    "#   form of it's input. \n",
    "#\n",
    "pure : Hello"
   ]
  },
  {
   "cell_type": "code",
   "execution_count": 12,
   "id": "d0c3b33f-990a-4813-bf2e-28ea9a6cd349",
   "metadata": {},
   "outputs": [
    {
     "name": "stdout",
     "output_type": "stream",
     "text": [
      "1"
     ]
    }
   ],
   "source": [
    "#\n",
    "#   'Hello' is one coda (:<stuff>).  There is a definition mapping (:<anything) to itself.  \n",
    "#    This means that hello is **atomic**.  \n",
    "#\n",
    "count : Hello"
   ]
  },
  {
   "cell_type": "code",
   "execution_count": 13,
   "id": "8a66e463-3d61-4d18-ac74-08784537f998",
   "metadata": {},
   "outputs": [
    {
     "name": "stdout",
     "output_type": "stream",
     "text": [
      "Hello"
     ]
    }
   ],
   "source": [
    "#\n",
    "#....You can break Hello into characters by using \"get\".\n",
    "#\n",
    "get : Hello"
   ]
  },
  {
   "cell_type": "code",
   "execution_count": 14,
   "id": "12892b3c-6756-487b-ad96-e4a500417fd3",
   "metadata": {},
   "outputs": [
    {
     "name": "stdout",
     "output_type": "stream",
     "text": [
      "5"
     ]
    }
   ],
   "source": [
    "#\n",
    "#....It looks the same, but it's now actually 5 characters.\n",
    "#\n",
    "count : get : Hello"
   ]
  },
  {
   "cell_type": "code",
   "execution_count": 15,
   "id": "343b797e-5075-4025-9f79-85242c8cb5f6",
   "metadata": {},
   "outputs": [
    {
     "name": "stdout",
     "output_type": "stream",
     "text": [
      "𝟬 𝟭 𝟬 𝟬 𝟭 𝟬 𝟬 𝟬 𝟬 𝟭 𝟭 𝟬 𝟬 𝟭 𝟬 𝟭 𝟬 𝟭 𝟭 𝟬 𝟭 𝟭 𝟬 𝟬 𝟬 𝟭 𝟭 𝟬 𝟭 𝟭 𝟬 𝟬 𝟬 𝟭 𝟭 𝟬 𝟭 𝟭 𝟭 𝟭"
     ]
    }
   ],
   "source": [
    "#\n",
    "#....Using get again gets the bits\n",
    "#\n",
    "get : get : Hello"
   ]
  },
  {
   "cell_type": "code",
   "execution_count": 16,
   "id": "20bd7c08-a2d9-4fab-80bc-df148db8012a",
   "metadata": {},
   "outputs": [
    {
     "name": "stdout",
     "output_type": "stream",
     "text": [
      "(:) (:) (:) (:) (:) (:) (:) (:) (:) (:) (:) (:) (:) (:) (:) (:) (:) (:) (:) (:) (:) (:) (:) (:) (:) (:) (:) (:) (:) (:) (:) (:) (:) (:) (:) (:) (:) (:) (:) (:) (:) (:) (:) (:) (:) (:) (:) (:) (:) (:) (:) (:) (:) (:) (:) (:) (:) (:) (:) (:)"
     ]
    }
   ],
   "source": [
    "#\n",
    "#....Even below the bits is pure data \n",
    "#\n",
    "pure : get : get : get : Hello "
   ]
  },
  {
   "cell_type": "code",
   "execution_count": 17,
   "id": "f84c6132-eb4b-4fe3-a413-cd49a8d78c38",
   "metadata": {},
   "outputs": [
    {
     "name": "stdout",
     "output_type": "stream",
     "text": [
      "𝟬 𝟭 𝟬 𝟬 𝟭 𝟬 𝟬 𝟬"
     ]
    }
   ],
   "source": [
    "#\n",
    "#    As you can see, \"everything is made of (:)\". \n",
    "#\n",
    "#    Let's scramble the bits of H and make a new character\n",
    "#\n",
    "get : first : get : Hello "
   ]
  },
  {
   "cell_type": "code",
   "execution_count": 18,
   "id": "aaefdbe4-b4bf-4874-bce0-74698b68c4e8",
   "metadata": {},
   "outputs": [
    {
     "name": "stdout",
     "output_type": "stream",
     "text": [
      "𝟬 𝟭 𝟬 𝟬 𝟬 𝟬 𝟬 𝟬"
     ]
    }
   ],
   "source": [
    "nth 1 2 3 4 7 7 7 7 : get : first : get : Hello "
   ]
  },
  {
   "cell_type": "code",
   "execution_count": 19,
   "id": "8d29b6a3-a14c-47c2-b376-70160d6d7c69",
   "metadata": {},
   "outputs": [
    {
     "name": "stdout",
     "output_type": "stream",
     "text": [
      "@"
     ]
    }
   ],
   "source": [
    "put : nth 1 2 3 4 7 7 7 7 : get : first : get : Hello "
   ]
  },
  {
   "cell_type": "code",
   "execution_count": 20,
   "id": "7190a09e-8077-452f-8db0-e5b6911fbdf8",
   "metadata": {},
   "outputs": [
    {
     "name": "stdout",
     "output_type": "stream",
     "text": [
      "(bin:a b c) x y z"
     ]
    }
   ],
   "source": [
    "#\n",
    "#   get and put do general coda creation.  For example, (bin:...) is atomic and that \n",
    "#   means that such codas can be used for storage. \n",
    "#\n",
    "(put bin : a b c) x y z"
   ]
  },
  {
   "cell_type": "code",
   "execution_count": 21,
   "id": "fe2a3935-83c8-45b2-96a2-c2e9dcef1569",
   "metadata": {},
   "outputs": [
    {
     "name": "stdout",
     "output_type": "stream",
     "text": [
      "(bin:a b c)"
     ]
    }
   ],
   "source": [
    "has bin : (put bin : a b c) x y z "
   ]
  },
  {
   "cell_type": "code",
   "execution_count": 22,
   "id": "f81369ed-cbb2-48ed-9fb3-8bcdcfe3ec46",
   "metadata": {},
   "outputs": [
    {
     "name": "stdout",
     "output_type": "stream",
     "text": [
      "a b c"
     ]
    }
   ],
   "source": [
    "get bin : (put bin : a b c) x y z "
   ]
  },
  {
   "cell_type": "code",
   "execution_count": null,
   "id": "0e85c5b9-0c9a-490a-b993-80ac48a13a0e",
   "metadata": {},
   "outputs": [],
   "source": []
  }
 ],
 "metadata": {
  "kernelspec": {
   "display_name": "coda",
   "language": "",
   "name": "coda"
  },
  "language_info": {
   "file_extension": ".co",
   "mimetype": "text/plain",
   "name": "Any text"
  }
 },
 "nbformat": 4,
 "nbformat_minor": 5
}
