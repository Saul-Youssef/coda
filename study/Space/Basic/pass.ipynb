{
 "cells": [
  {
   "cell_type": "markdown",
   "id": "c67da1be-d0dc-4e11-ba01-61f59c58333c",
   "metadata": {},
   "source": [
    "## Basic spaces\n",
    "\n",
    "Let's introduce a basic collection of obvious spaces, simple and otherwise.  \n",
    "\n",
    "1. Name of the space \n",
    "2. Description\n",
    "3. Characterize the data in the space\n",
    "4. Characterize the operation \n",
    "5. Is the space simple or distributive?\n",
    "7. What is the neutral element?\n",
    "\n",
    "| Space |  |\n",
    "|---|---|\n",
    "| Description | x | \n",
    "| Data | x | \n",
    "| Operation | x | \n",
    "| Simple? | x | \n",
    "| Distributive? | x | \n",
    "| Neutral element? | x | \n",
    "| Endomorphisms | x | "
   ]
  },
  {
   "cell_type": "code",
   "execution_count": 1,
   "id": "c3af768a-daa4-479c-a07e-7b4198f77de0",
   "metadata": {
    "tags": []
   },
   "outputs": [
    {
     "name": "stdout",
     "output_type": "stream",
     "text": []
    }
   ],
   "source": [
    "import : dir co : up : ."
   ]
  },
  {
   "cell_type": "markdown",
   "id": "f510ea6d-4608-46fd-9574-187ce90b800c",
   "metadata": {},
   "source": [
    "\n",
    "| pass |  |\n",
    "|---|---|\n",
    "| Description | do nothing to input | \n",
    "| Data | all data | \n",
    "| Operation | concatenation | \n",
    "| Simple? | Y | \n",
    "| Distributive? | Y | \n",
    "| Neutral element? | () | \n",
    "| Endomorphisms | any data is an endomorphism of pass | "
   ]
  },
  {
   "cell_type": "code",
   "execution_count": 3,
   "id": "125328eb-d1a2-49d9-89f4-db8d04fc1120",
   "metadata": {},
   "outputs": [
    {
     "name": "stdout",
     "output_type": "stream",
     "text": [
      "0\n",
      "0\n",
      "0\n",
      "0"
     ]
    }
   ],
   "source": [
    "count : theorem (idempotent3:pass) : S2?\n",
    "count : theorem (distributive1:pass) : S2?\n",
    "count : theorem (distributive3:pass) : S2?\n",
    "count : theorem (simple:pass) : S2?"
   ]
  },
  {
   "cell_type": "markdown",
   "id": "72be65e3-fa4d-4ab3-894b-a1730ddad724",
   "metadata": {},
   "source": [
    "| null |  |\n",
    "|---|---|\n",
    "| Description | null:X = () | \n",
    "| Data | only () | \n",
    "| Operation | empty on any input | \n",
    "| Simple? | Y | \n",
    "| Distributive? | Y | \n",
    "| Neutral element? | () | \n",
    "| Endomorphisms | null is the only endomorphism | "
   ]
  },
  {
   "cell_type": "code",
   "execution_count": 4,
   "id": "d846d40f-0824-4a86-89a6-312cdd2b3a03",
   "metadata": {},
   "outputs": [
    {
     "name": "stdout",
     "output_type": "stream",
     "text": [
      "0\n",
      "0\n",
      "0\n",
      "0"
     ]
    }
   ],
   "source": [
    "count : theorem (idempotent3:null) : S2?\n",
    "count : theorem (distributive1:null) : S2?\n",
    "count : theorem (distributive3:null) : S2?\n",
    "count : theorem (simple:null) : S2?"
   ]
  },
  {
   "cell_type": "code",
   "execution_count": null,
   "id": "d2f0b69c-d3f6-40ee-b6f8-e5c8b6e402d4",
   "metadata": {},
   "outputs": [],
   "source": []
  }
 ],
 "metadata": {
  "kernelspec": {
   "display_name": "coda",
   "language": "",
   "name": "coda"
  },
  "language_info": {
   "file_extension": ".co",
   "mimetype": "text/plain",
   "name": "Any text"
  }
 },
 "nbformat": 4,
 "nbformat_minor": 5
}
