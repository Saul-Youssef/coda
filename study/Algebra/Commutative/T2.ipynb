{
 "cells": [
  {
   "cell_type": "code",
   "execution_count": 1,
   "id": "edfa456f-064d-4efa-a779-ab65f6fd9e2a",
   "metadata": {},
   "outputs": [
    {
     "name": "stdout",
     "output_type": "stream",
     "text": []
    }
   ],
   "source": [
    "import : dir co : up . : up : ."
   ]
  },
  {
   "cell_type": "code",
   "execution_count": 2,
   "id": "a166a5f9-9976-47e6-af7d-6a597ba55154",
   "metadata": {},
   "outputs": [
    {
     "name": "stdout",
     "output_type": "stream",
     "text": []
    }
   ],
   "source": [
    "Def Test1 : {put bin (get:B) : count : bool : theorem (commutative:(get:B)) : A}\n",
    "Def TEST1 : {multi : ap {with:Test1 A:B} A : B} \n",
    "Def Test : {put bin (get:B) : count : bool : theorem (commutative2:(get:B)) : A}\n",
    "Def TEST : {multi : ap {with:Test A:B} A : B} "
   ]
  },
  {
   "cell_type": "code",
   "execution_count": 3,
   "id": "45108d1e-51db-4753-bdd9-ced82f100ab6",
   "metadata": {},
   "outputs": [
    {
     "name": "stdout",
     "output_type": "stream",
     "text": []
    }
   ],
   "source": [
    "out T2-S6-com2-sample-50 : get with : TEST S6? : first 50 : T2?"
   ]
  },
  {
   "cell_type": "code",
   "execution_count": 4,
   "id": "af28532e-5c2d-4ea6-aae6-c0437b92cf71",
   "metadata": {},
   "outputs": [
    {
     "name": "stdout",
     "output_type": "stream",
     "text": []
    }
   ],
   "source": [
    "out T2-S6-com2-sample-500 : get with : TEST S6? : first 500 : T2?"
   ]
  },
  {
   "cell_type": "code",
   "execution_count": 5,
   "id": "76698ddc-6d2c-4cc2-b741-03db02f07bb4",
   "metadata": {},
   "outputs": [
    {
     "name": "stdout",
     "output_type": "stream",
     "text": []
    }
   ],
   "source": [
    "Let Candidates : in : Candidates-500"
   ]
  },
  {
   "cell_type": "code",
   "execution_count": null,
   "id": "3c508004-7c38-4f58-a330-5fdb8a8c17f2",
   "metadata": {},
   "outputs": [],
   "source": [
    "more 1000 : out T2-S6-com2-all : get with : TEST S6? : T2?"
   ]
  },
  {
   "cell_type": "code",
   "execution_count": null,
   "id": "b7b58d0f-cfd1-453c-a614-62bbc776d38d",
   "metadata": {},
   "outputs": [],
   "source": []
  }
 ],
 "metadata": {
  "kernelspec": {
   "display_name": "coda",
   "language": "",
   "name": "coda"
  },
  "language_info": {
   "file_extension": ".co",
   "mimetype": "text/plain",
   "name": "Any text"
  }
 },
 "nbformat": 4,
 "nbformat_minor": 5
}
