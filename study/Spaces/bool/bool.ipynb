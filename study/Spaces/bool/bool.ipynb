{
 "cells": [
  {
   "cell_type": "markdown",
   "id": "e93e3adb-594c-4245-a548-c97bdada2c4f",
   "metadata": {},
   "source": [
    "# bool\n",
    "\n",
    "As we know, data is defined to be **true** if it is equal to empty data *()* and is defined to be **false** if it is atomic.  Data can also be **undecided** and, in cases like Godel's theorem, data can be **undecidable**.  Here we consider the built-in partial function **bool** which computes the logical value of data. **bool** is defined by \n",
    "\n",
    "* (bool:B) -> () if B is empty\n",
    "* (bool:B) -> (:) if B is atomic \n",
    "\n",
    "so that bool:X is the logical value of the data X.  Bool is also a **space**, meaning that bool is idempotent and \n",
    "\n",
    "* bool : X Y = bool : (bool : X) (bool:Y) \n",
    "\n",
    "for all data X and Y.  Bool is nice and organic.  It's perhaps the most basic naturally occurring space within the space **pass** of all pure data.  \n",
    "\n",
    "1. What are the basic properties of **bool**?\n",
    "2. What are the endomorphisms of **bool**?\n",
    "3. What are the endomorphisms of \"boolean sequences\" (**Seq b:bool**)?\n"
   ]
  },
  {
   "cell_type": "code",
   "execution_count": 1,
   "id": "eda65bcc-a3e5-4922-94c2-53a7caaedc47",
   "metadata": {},
   "outputs": [
    {
     "name": "stdout",
     "output_type": "stream",
     "text": [
      "(defaultTime:100)"
     ]
    }
   ],
   "source": [
    "#\n",
    "#   Set a convenient defaultTime for evaluation and import \n",
    "#   space-related definitions.\n",
    "#\n",
    "defaultTime:100\n",
    "import : dir co : up : ."
   ]
  },
  {
   "cell_type": "markdown",
   "id": "c62f21c6-c25d-4855-a4ee-bf3c56820733",
   "metadata": {},
   "source": [
    "### 1. What are the basic properties of **bool**?"
   ]
  },
  {
   "cell_type": "code",
   "execution_count": 2,
   "id": "3cd9ae6f-b843-4de4-a284-30f4135a83cb",
   "metadata": {},
   "outputs": [
    {
     "name": "stdout",
     "output_type": "stream",
     "text": [
      "◎\n",
      "1\n",
      "0"
     ]
    }
   ],
   "source": [
    "#\n",
    "#   Basic property\n",
    "#\n",
    "bool: (pass : a b c )\n",
    "bool: (null : a b c )\n",
    "#\n",
    "#   It is sometimes convenient to use count for display purposes, \n",
    "#   so that \"true\" data get's count 0. bool:X is true if and only \n",
    "#   if count:X is 0. \n",
    "#\n",
    "count : bool: (pass : a b c )\n",
    "count : bool: (null : a b c )\n",
    "#\n",
    "#   Although count is equivalent in some sense to bool, note that \n",
    "#   count is not a space. \n",
    "#"
   ]
  },
  {
   "cell_type": "code",
   "execution_count": 3,
   "id": "d9dc099e-07fa-448c-b861-2692939fffd4",
   "metadata": {},
   "outputs": [
    {
     "name": "stdout",
     "output_type": "stream",
     "text": [
      "◎\n",
      "◎\n",
      "◎\n",
      "◎"
     ]
    }
   ],
   "source": [
    "#\n",
    "#   bool is a space, meaning the the following should all be equal\n",
    "#\n",
    "bool : a b c \n",
    "bool : bool : a b c \n",
    "bool : (bool : a b ) (bool: c)\n",
    "bool : (bool : ) (bool : a b c )"
   ]
  },
  {
   "cell_type": "markdown",
   "id": "2806a7b9-51f6-406d-99dd-6e453c6f8b49",
   "metadata": {},
   "source": [
    "### Summary \n",
    "\n",
    "**bool** is a non-distributive commutative space with neutral data (bool:)=()."
   ]
  },
  {
   "cell_type": "markdown",
   "id": "4117cf23-68dd-4a39-8293-97ec783b81bd",
   "metadata": {},
   "source": [
    "### 2. What are the endomorphisms of bool? \n",
    "\n",
    "For any data X, bool\\*X\\*bool is an endomorphism of bool (End bool:X), thus motivating a definition \n",
    "\n",
    "* Def end : {End bool : B}"
   ]
  },
  {
   "cell_type": "code",
   "execution_count": 4,
   "id": "c6980433-e476-484d-bdfb-d3ea7f584e1e",
   "metadata": {},
   "outputs": [
    {
     "name": "stdout",
     "output_type": "stream",
     "text": []
    }
   ],
   "source": [
    "Def end : {End bool:B} "
   ]
  },
  {
   "cell_type": "code",
   "execution_count": 5,
   "id": "caaeda03-8ae0-47eb-802b-34579fe99595",
   "metadata": {},
   "outputs": [
    {
     "name": "stdout",
     "output_type": "stream",
     "text": []
    }
   ],
   "source": [
    "#\n",
    "#   Since bool:X is either () or (:), there are only four \n",
    "#   possible endomorphisms.  \n",
    "#\n",
    "Def e1 : end : pass \n",
    "Def e2 : end : null \n",
    "Def e3 : end : const (:) \n",
    "Def e4 : end : not "
   ]
  },
  {
   "cell_type": "code",
   "execution_count": 6,
   "id": "6d1e98df-7a2c-4f07-a021-bec6d580f264",
   "metadata": {
    "tags": []
   },
   "outputs": [
    {
     "name": "stdout",
     "output_type": "stream",
     "text": [
      "0\n",
      "1\n",
      "-\n",
      "0\n",
      "0\n",
      "-\n",
      "1\n",
      "1\n",
      "-\n",
      "1\n",
      "0"
     ]
    }
   ],
   "source": [
    "count : e1 : ()\n",
    "count : e1 : (:) \n",
    "-\n",
    "count : e2 : () \n",
    "count : e2 : (:) \n",
    "-\n",
    "count : e3 : ()\n",
    "count : e3 : (:) \n",
    "- \n",
    "count : e4 : ()\n",
    "count : e4 : (:) "
   ]
  },
  {
   "cell_type": "code",
   "execution_count": 7,
   "id": "59dd70c4-6378-4e5e-949f-f5b347d38935",
   "metadata": {},
   "outputs": [
    {
     "name": "stdout",
     "output_type": "stream",
     "text": [
      "0\n",
      "1"
     ]
    }
   ],
   "source": [
    "#\n",
    "#   For any data X, end:X will be an endomorphism of bool and, \n",
    "#   thus, will be equal to e1, e2, e3 or e4. \n",
    "#   (end:rev), for instance is e1.  \n",
    "#\n",
    "count : (end : rev) : () \n",
    "count : (end : rev) : (:)"
   ]
  },
  {
   "cell_type": "markdown",
   "id": "0ed7c370-f989-49b7-949d-b336e10d606e",
   "metadata": {},
   "source": [
    "### Which of the four endomorphisms commute?"
   ]
  },
  {
   "cell_type": "code",
   "execution_count": 8,
   "id": "9e127f57-a85a-430d-b60a-70d961b90bdb",
   "metadata": {},
   "outputs": [
    {
     "name": "stdout",
     "output_type": "stream",
     "text": [
      "◎ ◎"
     ]
    }
   ],
   "source": [
    "commutator (:rev) (:first 2) : (:a b c d e f g) (:a b c d e f g) \n",
    "commutator (:rev) (:first 2) : (:a a a a) (:a a a a) "
   ]
  },
  {
   "cell_type": "code",
   "execution_count": 9,
   "id": "224175d4-50a0-4bf8-b6d1-970ea389a8ef",
   "metadata": {},
   "outputs": [
    {
     "name": "stdout",
     "output_type": "stream",
     "text": [
      "0\n",
      "0\n",
      "0\n",
      "2\n",
      "2\n",
      "2"
     ]
    }
   ],
   "source": [
    "count : commutator (:e1) (:e2) : (:) (:(:))\n",
    "count : commutator (:e1) (:e3) : (:) (:(:))\n",
    "count : commutator (:e1) (:e4) : (:) (:(:))\n",
    "count : commutator (:e2) (:e3) : (:) (:(:))\n",
    "count : commutator (:e2) (:e4) : (:) (:(:))\n",
    "count : commutator (:e3) (:e4) : (:) (:(:))"
   ]
  },
  {
   "cell_type": "code",
   "execution_count": 10,
   "id": "18d052f3-c2a1-459a-bfcd-8cba657c0e22",
   "metadata": {},
   "outputs": [
    {
     "name": "stdout",
     "output_type": "stream",
     "text": [
      "Thus, the identity e1 commutes with everything and no other pair commute."
     ]
    }
   ],
   "source": [
    "Thus, the identity (e1) commutes with everything and no other pair commute.  "
   ]
  },
  {
   "cell_type": "markdown",
   "id": "0a6f5a1a-ceb2-4d12-af15-c5377e4183c2",
   "metadata": {},
   "source": [
    "A single boolean variable is almost the same thing as the space bool. \n",
    "\n",
    "**One b : bool** \n",
    "\n",
    "is the space containing (b:) for true, and (b:(:)) for false. "
   ]
  },
  {
   "cell_type": "code",
   "execution_count": 11,
   "id": "cb471a54-e507-4e3a-8b74-b2b7ee7a4270",
   "metadata": {},
   "outputs": [
    {
     "name": "stdout",
     "output_type": "stream",
     "text": []
    }
   ],
   "source": [
    "#\n",
    "#   Make an atom to hold boolean values () or (:) and let L1 be the space of such values. \n",
    "#\n",
    "Def b: \n",
    "Def L1 : One b : bool "
   ]
  },
  {
   "cell_type": "markdown",
   "id": "2e907fb7-9647-4c49-aaad-d4d757c09d39",
   "metadata": {},
   "source": [
    "### Summary\n",
    "\n",
    "Thus, the four endomorphism of bool (or small endomorphisms of L1) have the familiar conceptual meaning \n",
    "\n",
    "* IDENTITY (bool)\n",
    "* TRUE (null)\n",
    "* FALSE (const (:))\n",
    "* NOT (not)\n",
    "\n",
    "IDENTITY commutes with the rest and no other pair commute.  IDENTIY, TRUE and FALSE are also spaces.  NOT is not a space, since NOT is not idempotent.  However, NOT is an involution.  \n",
    "\n",
    "Therefore, there are only four possile \"structures\" on the space **bool**.\n",
    "\n",
    "1. **bool with IDENTITY**: Has the same endomorphisms as **bool** itself. \n",
    "2. **bool with TRUE**.  Morphisms f must commute with TRUE. Thus, f must be TRUE or IDENTITY.\n",
    "3. **bool with FALSE**.  Morphisms f must commute with FALSE.  Thus f must be FALSE or IDENTITY. \n",
    "4. **bool with NOT**. Morphisms f must commute with NOT.  Thus, f must be NOT or the IDENTITY."
   ]
  },
  {
   "cell_type": "markdown",
   "id": "8f1f556b-6498-4de8-b4a9-96f0f651faf2",
   "metadata": {},
   "source": [
    "### 3. Boolean sequences and their endomorphisms \n",
    "\n",
    "We can also consider sequences of boolean values using the \"functor\" **Seq** to define **L** to be the space of sequences of boolean values stored in b atoms as in L1.\n",
    "\n",
    "* L = Seq b : bool \n",
    "\n",
    "L is a distributive space, and, therefore, (L:) is the empty sequence.  Note that L1 is not distributive since (L1:) is equal to (b:), not ().  "
   ]
  },
  {
   "cell_type": "code",
   "execution_count": 12,
   "id": "04663bd7-e4e5-419f-8873-4902dad50a64",
   "metadata": {},
   "outputs": [
    {
     "name": "stdout",
     "output_type": "stream",
     "text": []
    }
   ],
   "source": [
    "#\n",
    "#   L is the space of sequences of boolean values  \n",
    "#\n",
    "Def L : Seq b : bool "
   ]
  },
  {
   "cell_type": "code",
   "execution_count": 13,
   "id": "da1acaa4-218b-4066-bb34-bdefabd2b23d",
   "metadata": {},
   "outputs": [
    {
     "name": "stdout",
     "output_type": "stream",
     "text": [
      "(b:◎) (b:) (b:) (b:◎) (b:◎)\n",
      "(b:◎) (b:) (b:) (b:◎) (b:◎)\n",
      "(b:◎) (b:) (b:) (b:◎) (b:◎)"
     ]
    }
   ],
   "source": [
    "#\n",
    "#   These three should be the same, since L is a space \n",
    "#\n",
    "L     : (b:x) (b:) zz (b:y) (b:y)\n",
    "L : L : (b:x) (b:) zz (b:y) (b:y)\n",
    "L : ( L : (b:x) (b:) zz ) ( L : (b:y) (b:y)) "
   ]
  },
  {
   "cell_type": "markdown",
   "id": "cc821411-f32e-4b44-8ebb-f1505a819711",
   "metadata": {},
   "source": [
    "As always, endomorphisms of L are data L\\*X\\*L for some data X.  Let's distinguish the special case of morphisms that \"only use the b contents\" as \n",
    "\n",
    "* L\\*(put b)\\*X\\*(get b)\\*L\n",
    "\n",
    "and let's call them \"small\" endomorphisms.  "
   ]
  },
  {
   "cell_type": "code",
   "execution_count": 14,
   "id": "64f5b2fa-f6a1-4181-8324-8371eabfa18a",
   "metadata": {},
   "outputs": [
    {
     "name": "stdout",
     "output_type": "stream",
     "text": []
    }
   ],
   "source": [
    "#\n",
    "#   E : X is a \"big\" or \"general\" endomorphism L*X*L \n",
    "#   e : X is a \"small\" endomorphism L*(put b)*X*(get b)*L \n",
    "#\n",
    "Def E : End L \n",
    "Def e : {End L : Down b : B}"
   ]
  },
  {
   "cell_type": "code",
   "execution_count": 15,
   "id": "e21ee54f-d04d-4bf9-a290-f5a443f9a0c0",
   "metadata": {},
   "outputs": [
    {
     "name": "stdout",
     "output_type": "stream",
     "text": [
      "(b:) (b:◎)\n",
      "(b:◎) (b:)\n",
      "(b:) (b:◎) (b:) (b:◎)\n",
      "(b:◎)\n",
      "(b:)\n",
      "(b:◎) (b:)\n",
      "(b:◎) (b:)"
     ]
    }
   ],
   "source": [
    "#\n",
    "#   Some examples... \n",
    "#\n",
    "#   (E:X) and (e:X) are endomorphisms for any X.  Here are a few examples.\n",
    "#\n",
    "(E:pass) : (b:) (b:(:))\n",
    "(E:null) : (b:) (b:(:))\n",
    "(E:rev) : (b:) (b:(:))\n",
    "(E:{B B}) : (b:) (b:(:))\n",
    "(e:rev) : (b:) (b:(:))\n",
    "(e:not) : (b:) (b:(:))\n",
    "ap (e:not) : (b:) (b:(:))\n",
    "(E:ap (e:not)) : (b:) (b:(:))"
   ]
  },
  {
   "cell_type": "code",
   "execution_count": 16,
   "id": "dcee49a3-f72a-4f3a-9b65-549a7b76f371",
   "metadata": {
    "tags": []
   },
   "outputs": [
    {
     "name": "stdout",
     "output_type": "stream",
     "text": [
      " ◎ \n",
      " (:(b:)) \n",
      " (:(b:◎)) \n",
      " (:(b:) (b:)) \n",
      " (:(b:) (b:◎)) \n",
      " (:(b:◎) (b:)) \n",
      " (:(b:◎) (b:◎)) \n",
      " (:(b:) (b:) (b:)) \n",
      " (:(b:) (b:) (b:◎)) \n",
      " (:(b:) (b:◎) (b:)) \n",
      " (:(b:) (b:◎) (b:◎)) \n",
      " (:(b:◎) (b:) (b:)) \n",
      " (:(b:◎) (b:) (b:◎)) \n",
      " (:(b:◎) (b:◎) (b:)) \n",
      " (:(b:◎) (b:◎) (b:◎)) \n"
     ]
    }
   ],
   "source": [
    "#\n",
    "#   For testing, let L3 be a sample of data from L.  This sample has all boolean sequences up to length 3.  \n",
    "#\n",
    "Let L3 : sum (:permutation 0) (:permutation 1) (:permutation 2) (:permutation 3) : (b:) (b:(:))\n",
    "tab : L3?"
   ]
  },
  {
   "cell_type": "markdown",
   "id": "1014f77d-00b1-4330-81c9-68b20a1696ff",
   "metadata": {},
   "source": [
    "Since small endomorphisms start with the sequence of b contents, small endomorphisms can only detect the presence of one or more false values. \n",
    "The small endomorphism **pass** is true if every boolean is true, and could be called \"ALL\".  The morphism which inverts each boolean value is \n",
    "fairly called \"NOT\".  Since both NOT and (NOT\\*(E:rev)) are involutions, NOT and (E:rev) commute, meaning that NOT is a mathematical endomorphism. \n",
    "ANY cannot be constructed as a small endomorphism, but NOT\\*ALL\\*NOT=ANY is a mathematical endomorphism computing if any boolean in the sequence is true. "
   ]
  },
  {
   "cell_type": "code",
   "execution_count": 17,
   "id": "f7f1ccce-5e53-4d27-9a65-7c9099b5474f",
   "metadata": {},
   "outputs": [
    {
     "name": "stdout",
     "output_type": "stream",
     "text": []
    }
   ],
   "source": [
    "Def NULL : (E:pass) \n",
    "Def ALL : (e:pass)\n",
    "Def NOT : ap (e:not)\n",
    "Def ANY : NOT*ALL*NOT\n",
    "Def TRUE : (e:null)\n",
    "Def FALSE : (e:const (:)) "
   ]
  },
  {
   "cell_type": "code",
   "execution_count": 18,
   "id": "9e8f89d1-9353-4e8f-ba9a-db4408d6875c",
   "metadata": {},
   "outputs": [
    {
     "name": "stdout",
     "output_type": "stream",
     "text": [
      "-\n",
      "(b:◎)\n",
      "(b:)\n",
      "(b:)\n",
      "(b:◎)"
     ]
    }
   ],
   "source": [
    "#\n",
    "# Check each endomorphism applied to the empty boolean sequence ()\n",
    "#\n",
    "- (NULL:)\n",
    "ANY:\n",
    "ALL:\n",
    "TRUE:\n",
    "FALSE:"
   ]
  },
  {
   "cell_type": "code",
   "execution_count": 19,
   "id": "ca087090-873c-4a88-9307-1644e2842d67",
   "metadata": {
    "tags": []
   },
   "outputs": [
    {
     "name": "stdout",
     "output_type": "stream",
     "text": [
      "-ALL\n",
      "(b:) (b:) (b:◎) (b:) (b:◎) (b:◎) (b:◎) (b:) (b:◎) (b:◎) (b:◎) (b:◎) (b:◎) (b:◎) (b:◎)\n",
      "-ANY\n",
      "(b:◎) (b:) (b:◎) (b:) (b:) (b:) (b:◎) (b:) (b:) (b:) (b:) (b:) (b:) (b:) (b:◎)"
     ]
    }
   ],
   "source": [
    "#\n",
    "#  As an exercise, apply ALL and ANY to each L value in L3\n",
    "#\n",
    "-ALL \n",
    "ap {ALL:get:B} : L3?\n",
    "-ANY \n",
    "ap {ANY:get:B} : L3?"
   ]
  },
  {
   "cell_type": "markdown",
   "id": "3fdc53c4-12f7-45ba-904f-55589198a91a",
   "metadata": {},
   "source": [
    "What makes morphisms like ANY, ALL, and NOT more interesting than, say, (E:nth 45)?  \n",
    "\n",
    "The difference is that ANY, ALL and NOT commute with permutations, while (E:nth 45) doesn't. \n",
    "Commuting with permutations is a deep signal.  It indicates that ANY, ALL and NOT are, in a sense, \n",
    "Platonic mathematical concepts, transcending the single foundational concept of the system: the \n",
    "finite sequence.  \n",
    "\n",
    "Levels of mathematical significance on U\n",
    "\n",
    "1. Algebraic F:(U:X) (U:Y) = M:(U:Y) (U:X) \n",
    "2. Algebraic endomorphisms. \n",
    "3. Algebraic endomorphism which are also a spaces. \n",
    "\n",
    "It is sufficient that F commute with Rev=U\\*rev\\*U for level 1.  \n",
    "\n",
    "* F\\*Rev = Rev\\*F\n",
    "\n",
    "or, in other words, if \n",
    "\n",
    "* U:rev:U:f:U:X = U:f:U:rev:U:X for all pure data X. \n",
    "\n",
    "this means that we have a way of systematically searching for all mathematical endomorphisms associated with a given space U. \n",
    "\n",
    "There is a bit of special reasoning for endomorphisms like NOT, which are involutions.  If I is an involution, and I\\*rev is an involution, then I commutes with all permutations and is, therefore, mathematical. \n"
   ]
  },
  {
   "cell_type": "code",
   "execution_count": 20,
   "id": "fad62f80-742f-45b5-88b1-3f4c1f89b19c",
   "metadata": {
    "tags": []
   },
   "outputs": [
    {
     "name": "stdout",
     "output_type": "stream",
     "text": [
      "(b:) (b:◎)\n",
      "(b:)"
     ]
    }
   ],
   "source": [
    "#\n",
    "#    (E:once) is an interesting morphism since it removes all \"redundant bits\", reducing \n",
    "#    the sequence to a single boolean-like object. \n",
    "#\n",
    "(E:once) : (b:) (b:(:)) (b:(:)) (b:) (b:) (b:) (b:(:)) \n",
    "(E:once) : (b:) (b:) (b:) (b:)"
   ]
  },
  {
   "cell_type": "code",
   "execution_count": 21,
   "id": "c194b1d7-aa55-4160-bc85-62d7ca5b2355",
   "metadata": {
    "tags": []
   },
   "outputs": [
    {
     "name": "stdout",
     "output_type": "stream",
     "text": [
      "(b:◎) (b:◎) (b:◎)"
     ]
    }
   ],
   "source": [
    "#\n",
    "#    There are also morphisms that commute with permutations (i.e. are mathematical)\n",
    "#    but which don't touch the b contents.  This one gets the false bits, for instance.\n",
    "#\n",
    "(E:is (b:(:))) : (b:) (b:(:)) (b:(:)) (b:) (b:) (b:) (b:(:)) "
   ]
  },
  {
   "cell_type": "code",
   "execution_count": 22,
   "id": "961ff6d7-f22a-4c95-840e-fe9bb3778de4",
   "metadata": {
    "tags": []
   },
   "outputs": [
    {
     "name": "stdout",
     "output_type": "stream",
     "text": [
      "(b:◎) (b:◎)"
     ]
    }
   ],
   "source": [
    "#\n",
    "#  This one is the number of false entries, but saturating at 2 values.  \n",
    "#  It also, clearly, commutes with permutations and is, thus, \"mathematical.\" \n",
    "#\n",
    "(E:{front | |: is (b:(:)):B}) :  (b:) (b:(:)) (b:(:)) (b:) (b:) (b:) (b:(:)) "
   ]
  },
  {
   "cell_type": "markdown",
   "id": "6b7734d2-3423-4914-b8a0-3703c0fc7414",
   "metadata": {
    "tags": []
   },
   "source": [
    "Notice that NOT and this last example have a somewhat different character to our other examples.  That's because ALL, ANY, (E:once), (E:is (b:(:))) are spaces as well as morphisms commuting with permutations.  "
   ]
  },
  {
   "cell_type": "code",
   "execution_count": 23,
   "id": "ba24684a-ae26-4bbf-816d-7bf24bc038be",
   "metadata": {
    "tags": []
   },
   "outputs": [
    {
     "name": "stdout",
     "output_type": "stream",
     "text": [
      "(b:◎)\n",
      "(b:◎)\n",
      "(b:◎)"
     ]
    }
   ],
   "source": [
    "ALL : (b:) (b:(:)) (b:(:)) (b:) (b:) (b:) (b:(:)) \n",
    "ALL : (ALL : (b:) (b:(:)) ) (ALL:(b:) (b:) (b:) (b:(:)))\n",
    "ALL : ALL : (b:) (b:) (b:) (b:(:))"
   ]
  },
  {
   "cell_type": "code",
   "execution_count": 24,
   "id": "10aa6d0f-dc8a-4385-be0d-a7e2c63ea711",
   "metadata": {
    "tags": []
   },
   "outputs": [
    {
     "name": "stdout",
     "output_type": "stream",
     "text": [
      "(b:)\n",
      "(b:)\n",
      "(b:)"
     ]
    }
   ],
   "source": [
    "ANY : (b:) (b:(:)) (b:(:)) (b:) (b:) (b:) (b:(:)) \n",
    "ANY : (ANY : (b:) (b:(:)) ) (ANY:(b:) (b:) (b:) (b:(:)))\n",
    "ANY : ANY : (b:) (b:) (b:) (b:(:))"
   ]
  },
  {
   "cell_type": "code",
   "execution_count": 25,
   "id": "ad1c1527-9d4f-4bf0-b5a5-456c72878345",
   "metadata": {},
   "outputs": [
    {
     "name": "stdout",
     "output_type": "stream",
     "text": [
      "(b:) (b:◎)\n",
      "(b:) (b:◎)\n",
      "(b:) (b:◎)"
     ]
    }
   ],
   "source": [
    "(E:once) : (b:) (b:(:)) (b:(:)) (b:) (b:) (b:) (b:(:)) \n",
    "(E:once) : ((E:once) : (b:) (b:(:)) ) ((E:once):(b:) (b:) (b:) (b:(:)))\n",
    "(E:once) : (E:once) : (b:) (b:) (b:) (b:(:))"
   ]
  },
  {
   "cell_type": "markdown",
   "id": "18fb46d2-fbbc-4800-82ea-c502add5c4b0",
   "metadata": {},
   "source": [
    "Let's examine commutators of ALL, ANY, TRUE, FALSE, (E:once), and (E:is (b:(:)).  "
   ]
  },
  {
   "cell_type": "code",
   "execution_count": 26,
   "id": "f9a96881-eb67-4899-9be5-127c829d4992",
   "metadata": {},
   "outputs": [
    {
     "name": "stdout",
     "output_type": "stream",
     "text": []
    }
   ],
   "source": [
    "Def ONCE : E:once \n",
    "Def ATOMS : E:is (b:(:)) "
   ]
  },
  {
   "cell_type": "code",
   "execution_count": 27,
   "id": "fff33fd7-7438-4086-92c6-b054e3444010",
   "metadata": {},
   "outputs": [
    {
     "name": "stdout",
     "output_type": "stream",
     "text": []
    }
   ],
   "source": [
    "Let endos : (:ALL) (:ANY) (:TRUE) (:FALSE) (:ONCE) (:ATOMS) "
   ]
  },
  {
   "cell_type": "code",
   "execution_count": null,
   "id": "69c88ed6-c5e7-4808-9448-9d130e6ee9c6",
   "metadata": {
    "tags": []
   },
   "outputs": [],
   "source": [
    "tab : dom 100 : ap {with (get:B) : bool : commutator (get:B) : L3?} : combination 2 : endos?"
   ]
  },
  {
   "cell_type": "markdown",
   "id": "5a957c5e-178d-43e6-9ef6-c314f091b66f",
   "metadata": {},
   "source": [
    "  |              |  ALL  |  ANY  | TRUE | FALSE  | ONCE  | ATOMS | \n",
    "  |:------------:|:-----:|:-----:|:----:|:------:|:---------:|:-------------:|\n",
    "  |ALL           |   -   |   X   |   -  |   -    |     -     |      X        |  \n",
    "  |ANY           |   -   |   -   |   -  |   -    |     -     |      X        |\n",
    "  |TRUE          |   -   |   -   |   -  |   X    |     -     |      X        |  \n",
    "  |FALSE         |   -   |   -   |   -  |   -    |     -     |      -        |\n",
    "  |ONCE      |   -   |   -   |   -  |   -    |     -     |      -       |  \n",
    "  |ATOMS |   -   |   -   |   -  |   -    |     -     |      -        |"
   ]
  },
  {
   "cell_type": "markdown",
   "id": "9a49e30a-d0e5-4960-85b3-fec27b685c98",
   "metadata": {},
   "source": [
    "### Summary \n",
    "\n",
    "These results means that ALL, ANY, TRUE, FALSE, (E:once), (E:is (b:(:))) also identify **subspaces** of L.  \n",
    "\n",
    "* ALL: (b:(:)) only \n",
    "* ANY: (b:) only \n",
    "* TRUE: The subspace of all true boolean sequences\n",
    "* FALSE: The subspace of all false boolean sequences\n",
    "* (E:once): The subspace consisting of the four data \n",
    "     1. (b:)\n",
    "     2. (b:(:))\n",
    "     3. (b:) (b:(:))\n",
    "     4. (b:(:)) (b:)\n",
    "     \n",
    "At this point, it is natural to ask if we can find or at least characterize **all** endomorphisms of L.  We will attempt this in a second notebook..."
   ]
  },
  {
   "cell_type": "markdown",
   "id": "745145aa-5773-423a-b1d9-dee563587bbd",
   "metadata": {},
   "source": [
    "## Conclusion\n",
    "\n",
    "At this point, it is natural to ask more questions.  \n",
    "\n",
    "### Can we find **all** endomorphisms of L?\n",
    "\n",
    "We will attempt this while practicing systematic searches in the notebook **search.ipynb**"
   ]
  },
  {
   "cell_type": "code",
   "execution_count": null,
   "id": "4f15eb41-b8ea-4579-a359-903d4e750915",
   "metadata": {},
   "outputs": [],
   "source": []
  }
 ],
 "metadata": {
  "kernelspec": {
   "display_name": "coda",
   "language": "",
   "name": "coda"
  },
  "language_info": {
   "file_extension": ".co",
   "mimetype": "text/plain",
   "name": "Any text"
  }
 },
 "nbformat": 4,
 "nbformat_minor": 5
}
