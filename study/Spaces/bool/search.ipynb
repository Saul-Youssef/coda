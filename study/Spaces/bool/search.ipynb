{
 "cells": [
  {
   "cell_type": "markdown",
   "id": "2e5eb5b7-ded3-4493-9be2-4b998d82e8fb",
   "metadata": {},
   "source": [
    "## Search for Endomorphisms of L\n",
    "\n",
    "Continuing from the **bool.ipynb** notebook, we would like to find endomorphisms of L by systematic searching.  The motivation is partly to understand **bool**, but mostly to explore a procedures that can be applied to other spaces.  \n",
    "\n",
    "Given a collection of data from L (such as L3), and given a collection of potential endomorphisms (\n",
    "\n",
    "1. "
   ]
  },
  {
   "cell_type": "code",
   "execution_count": 3,
   "id": "ab323aa3-31b6-45e6-a5eb-efa8f6f6f644",
   "metadata": {},
   "outputs": [
    {
     "name": "stdout",
     "output_type": "stream",
     "text": [
      "(defaultTime:100)"
     ]
    }
   ],
   "source": [
    "#\n",
    "#    Basic definitions \n",
    "#\n",
    "defaultTime : 100 \n",
    "import : dir co : up : .\n",
    "import : dir co : ."
   ]
  },
  {
   "cell_type": "code",
   "execution_count": 4,
   "id": "5658bbf5-3613-4468-b41c-f4433ab08f03",
   "metadata": {},
   "outputs": [
    {
     "name": "stdout",
     "output_type": "stream",
     "text": [
      "(b:◎)\n",
      "(b:◎) (b:◎) (b:◎)\n",
      "0 0 0 0 0 0 0 0 0 0 0 0 0 0 0"
     ]
    }
   ],
   "source": [
    "#\n",
    "#    Demo \n",
    "#\n",
    "ANY : get :last : L3?\n",
    "(E:pass) : get : last : L3?\n",
    "ap {count:(get:B)=((E:pass):get:B)} : L3?\n",
    "bool : ap {(get:B)=((E:pass):get:B)} : L3?"
   ]
  },
  {
   "cell_type": "code",
   "execution_count": 5,
   "id": "966eb679-9d38-479b-ab68-b0c5ef480d65",
   "metadata": {},
   "outputs": [
    {
     "name": "stdout",
     "output_type": "stream",
     "text": []
    }
   ],
   "source": [
    "#\n",
    "#   First, eliminate trivial endomorphisms who are equal to pass or null on all test data \n",
    "#\n",
    "Def passTest : ap {bool:(get:B)=((E:A):get:B)} \n",
    "Def nullTest : ap {bool:(E:A):get:B} "
   ]
  },
  {
   "cell_type": "code",
   "execution_count": 6,
   "id": "6572385a-876e-46b7-8b94-72aa495a6a0c",
   "metadata": {},
   "outputs": [
    {
     "name": "stdout",
     "output_type": "stream",
     "text": [
      "◎ ◎ ◎ ◎ ◎ ◎ ◎ ◎ ◎ ◎ ◎ ◎ ◎ ◎\n",
      "◎ ◎ ◎ ◎ ◎ ◎ ◎ ◎ ◎ ◎ ◎ ◎ ◎ ◎"
     ]
    }
   ],
   "source": [
    "passTest null : L3?\n",
    "nullTest pass : L3?"
   ]
  },
  {
   "cell_type": "code",
   "execution_count": 16,
   "id": "b963c474-8ff2-46ce-9550-400cb9f701f7",
   "metadata": {},
   "outputs": [
    {
     "name": "stdout",
     "output_type": "stream",
     "text": [
      "(with pass:) (with null:◎) (with once:◎)"
     ]
    }
   ],
   "source": [
    "do 100 : ap {with (get:B): bool : passTest (get:B) : A} L3? : (:pass) (:null) (:once)"
   ]
  },
  {
   "cell_type": "code",
   "execution_count": 15,
   "id": "7510df48-9da3-4086-97d4-6a8d81e82663",
   "metadata": {},
   "outputs": [
    {
     "name": "stdout",
     "output_type": "stream",
     "text": [
      "(with pass:◎) (with null:) (with once:◎)"
     ]
    }
   ],
   "source": [
    "do 100 : ap {with (get:B): bool : nullTest (get:B) : A} L3? : (:pass) (:null) (:once)"
   ]
  },
  {
   "cell_type": "code",
   "execution_count": 11,
   "id": "188c1229-0b2f-49c9-b719-1c406ba3bb8e",
   "metadata": {},
   "outputs": [
    {
     "name": "stdout",
     "output_type": "stream",
     "text": []
    }
   ],
   "source": [
    "Def passTester : ap {with (get:B): bool : passTest (get:B) : A}\n",
    "Def nullTester : ap {with (get:B): bool : nullTest (get:B) : A}"
   ]
  },
  {
   "cell_type": "code",
   "execution_count": 12,
   "id": "867b4131-c2cb-46fb-9e02-347937c502a0",
   "metadata": {},
   "outputs": [
    {
     "name": "stdout",
     "output_type": "stream",
     "text": []
    }
   ],
   "source": [
    "write null1 200 : dom 100 : nullTester L3? : first 10 : (:pass) (:null) (:once) (:ANY) (:ALL) (ap : Organic?) "
   ]
  },
  {
   "cell_type": "code",
   "execution_count": 13,
   "id": "598487bf-e9e7-4b89-9fbf-c7df86547498",
   "metadata": {},
   "outputs": [
    {
     "name": "stdout",
     "output_type": "stream",
     "text": [
      "(with pass:◎) (with null:) (with once:◎) (with ALL:◎) (with aj:◎) (with ap:◎) (with aq:) (with ar:)"
     ]
    }
   ],
   "source": [
    "read : null1"
   ]
  },
  {
   "cell_type": "code",
   "execution_count": 17,
   "id": "34cbcf2a-8bca-4cad-a174-eaab8d7b998c",
   "metadata": {},
   "outputs": [
    {
     "name": "stdout",
     "output_type": "stream",
     "text": [
      "(with pass:) (with null:◎) (with once:◎) (with ap:◎) (with aq:◎) (with ar:◎)"
     ]
    }
   ],
   "source": [
    "write pass1 200 : dom 100 : passTester L3? : first 10 : (:pass) (:null) (:once) (:ANY) (:ALL) (ap : Organic?) "
   ]
  },
  {
   "cell_type": "code",
   "execution_count": 18,
   "id": "d9a5e653-7fa3-4f9e-be30-d19ef6f66b69",
   "metadata": {},
   "outputs": [
    {
     "name": "stdout",
     "output_type": "stream",
     "text": [
      "(with pass:) (with null:◎) (with once:◎) (with ap:◎) (with aq:◎) (with ar:◎)"
     ]
    }
   ],
   "source": [
    "read : pass1 "
   ]
  },
  {
   "cell_type": "markdown",
   "id": "1d3a2366-9369-479f-b0fa-ce419f1b292d",
   "metadata": {},
   "source": [
    "Let Level1 : (:ANY) (:ALL) (ap : Organic?) \n",
    "Let Level2 : Level1? (sample.data a b Organic? : 2) \n",
    "count : Level1?\n",
    "count : Level2? \n",
    "tab : first 10 : skip 100 : Level2? "
   ]
  },
  {
   "cell_type": "code",
   "execution_count": 19,
   "id": "104006ac-9c04-4760-9e6e-3d8b9b454b21",
   "metadata": {},
   "outputs": [
    {
     "name": "stdout",
     "output_type": "stream",
     "text": []
    }
   ],
   "source": []
  },
  {
   "cell_type": "code",
   "execution_count": null,
   "id": "6a4d3715-7c23-4cc7-99db-d6122af6d70c",
   "metadata": {},
   "outputs": [],
   "source": []
  }
 ],
 "metadata": {
  "kernelspec": {
   "display_name": "coda",
   "language": "",
   "name": "coda"
  },
  "language_info": {
   "file_extension": ".co",
   "mimetype": "text/plain",
   "name": "Any text"
  }
 },
 "nbformat": 4,
 "nbformat_minor": 5
}
