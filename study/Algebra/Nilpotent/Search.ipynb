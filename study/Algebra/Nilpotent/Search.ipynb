{
 "cells": [
  {
   "cell_type": "code",
   "execution_count": 1,
   "id": "9ea37cc3-a039-45da-a3fc-8a0b59fe890e",
   "metadata": {},
   "outputs": [
    {
     "name": "stdout",
     "output_type": "stream",
     "text": [
      "(defaultTime:100)"
     ]
    }
   ],
   "source": [
    "defaultTime:100"
   ]
  },
  {
   "cell_type": "code",
   "execution_count": 2,
   "id": "9ce3383e-ec47-4f1f-9d72-3c97376095d2",
   "metadata": {},
   "outputs": [
    {
     "name": "stdout",
     "output_type": "stream",
     "text": []
    }
   ],
   "source": [
    "log: eval "
   ]
  },
  {
   "cell_type": "code",
   "execution_count": 3,
   "id": "235a755d-3995-4073-9910-288cf254b1fd",
   "metadata": {},
   "outputs": [
    {
     "name": "stdout",
     "output_type": "stream",
     "text": [
      "eval> creation, max seconds:100.0, max GB:2.0\n"
     ]
    }
   ],
   "source": [
    "eval 100 : import : dir co : up : up : ."
   ]
  },
  {
   "cell_type": "code",
   "execution_count": 4,
   "id": "559fb966-2ad3-4611-a604-b3cfa9063b6f",
   "metadata": {},
   "outputs": [
    {
     "name": "stdout",
     "output_type": "stream",
     "text": [
      "((Q:):(x:))"
     ]
    }
   ],
   "source": [
    "nilpotent:Q?"
   ]
  },
  {
   "cell_type": "code",
   "execution_count": null,
   "id": "8f3906a1-e596-44ed-8b36-c9a0bb4b3ad1",
   "metadata": {},
   "outputs": [],
   "source": [
    "property nilpotent {rev:B} : S5?"
   ]
  },
  {
   "cell_type": "markdown",
   "id": "1f9275ab-8fa7-4fa5-affa-c7b174ffebed",
   "metadata": {},
   "source": [
    "Search for nilpotents from C0, basic commands.\n",
    "First level: use the S6 sample."
   ]
  },
  {
   "cell_type": "code",
   "execution_count": null,
   "id": "bf49446d-d497-4d9c-a2b2-c54fd3c597da",
   "metadata": {},
   "outputs": [],
   "source": [
    "S6?"
   ]
  },
  {
   "cell_type": "code",
   "execution_count": null,
   "id": "f2104b0c-e552-427c-a29f-c6548eca3ead",
   "metadata": {},
   "outputs": [],
   "source": [
    "property nilpotent {rev:B} : S6?"
   ]
  },
  {
   "cell_type": "code",
   "execution_count": null,
   "id": "d248f71d-6fc2-4086-a6ff-6893db1d0a0e",
   "metadata": {},
   "outputs": [],
   "source": [
    "ap {(bin (get:B) : property nilpotent (get:B) : S6?)} : (:{rev:B}) "
   ]
  },
  {
   "cell_type": "code",
   "execution_count": null,
   "id": "3dbb02c7-2f83-450b-9a62-4a9d17092f3e",
   "metadata": {},
   "outputs": [],
   "source": [
    "Def nilS6 : ap {(bin (get:B) : property nilpotent (get:B) : S6?)}"
   ]
  },
  {
   "cell_type": "code",
   "execution_count": null,
   "id": "43a755b7-8c7e-4575-962a-6bf54338b870",
   "metadata": {},
   "outputs": [],
   "source": [
    "nilS6 : (:{rev:B}) (:{null:B}) "
   ]
  },
  {
   "cell_type": "code",
   "execution_count": null,
   "id": "b6fa209d-72d5-4f96-b0f7-972deee86cab",
   "metadata": {},
   "outputs": [],
   "source": [
    "defaultTime:1000"
   ]
  },
  {
   "cell_type": "code",
   "execution_count": null,
   "id": "fa77a7c5-4b57-4fed-85fe-8b834c88c0fe",
   "metadata": {
    "tags": []
   },
   "outputs": [],
   "source": [
    "out C0-S6 3600 : nilS6 : C0?:"
   ]
  },
  {
   "cell_type": "code",
   "execution_count": null,
   "id": "e6f6b5da-acd9-4d48-af1d-a75fdc641665",
   "metadata": {},
   "outputs": [],
   "source": [
    "stat : C0-S6"
   ]
  },
  {
   "cell_type": "code",
   "execution_count": null,
   "id": "20794bf3-c00a-43eb-b713-86b7174e212c",
   "metadata": {},
   "outputs": [],
   "source": [
    "count : in stable : C0-S6"
   ]
  },
  {
   "cell_type": "code",
   "execution_count": null,
   "id": "147a5162-3bfa-49d7-a2f7-59cff32b9012",
   "metadata": {
    "tags": []
   },
   "outputs": [],
   "source": [
    "out C2-S6.sample 3600 : nilS6 : first 100 : C2? :"
   ]
  },
  {
   "cell_type": "code",
   "execution_count": null,
   "id": "e9d12330-4aeb-4f96-946b-1b06e3222b63",
   "metadata": {
    "tags": []
   },
   "outputs": [],
   "source": [
    "stat : C2-S6.sample "
   ]
  },
  {
   "cell_type": "code",
   "execution_count": null,
   "id": "84956da9-bd73-49f2-b0de-98b72bfd9a56",
   "metadata": {
    "tags": []
   },
   "outputs": [],
   "source": [
    "in stable : C2-S6.sample"
   ]
  },
  {
   "cell_type": "code",
   "execution_count": 15,
   "id": "aed9491c-f8d6-4b00-8f4f-c5b80a330908",
   "metadata": {},
   "outputs": [
    {
     "name": "stdout",
     "output_type": "stream",
     "text": []
    }
   ],
   "source": [
    "Let Cand : in : C0-S6.sample.candidates"
   ]
  },
  {
   "cell_type": "code",
   "execution_count": 16,
   "id": "06481c2d-7a28-4834-8dd1-20e4e3ee2b43",
   "metadata": {
    "collapsed": true,
    "jupyter": {
     "outputs_hidden": true
    },
    "tags": []
   },
   "outputs": [
    {
     "name": "stdout",
     "output_type": "stream",
     "text": [
      "(:has {domain : B}) (:null {B get}) (:{nif : B} b) (:put {const : B}) (:null {B pass}) (:if {prod : B}) (:has {B}) (:is {b : B}) (:get {B : A}) (:{null : B} a) (:null sum) (:if {B : plus}) (:null {B : hasnt}) (:{A : B} is) (:null {domain B}) (:null {right B}) (:get pass) (:get {A : B}) (:null {prod : B}) (:null {null : B}) (:null {1 : B}) (:is {const : B}) (:is is) (:is {B has}) (:has {B : b}) (:{sum : B} null) (:null {B 0}) (:has {hasnt B}) (:is {nif : B}) (:null {B prod}) (:null {has B}) (:null {get B}) (:if {a B}) (:has {prod B}) (:get {B : bin}) (:is {B : sum}) (:has {B b}) (:null {B : arg}) (:null {0 : B}) (:null b) (:if put) (:if {is : B}) (:is {has B}) (:{is : B} bin) (:get {B isnt}) (:null if) (:{sum : B} star) (:null {B arg}) (:is {B sum}) (:if {B isnt}) (:{get : B} plus) (:get {B : left}) (:has has) (:if {right B}) (:null {b B}) (:null hasnt) (:is {B const}) (:null {b : B}) (:const) (:is {domain B}) (:has {B domain}) (:has {B : arg}) (:{is : B} put) (:if null) (:null {B : is}) (:{A : B} get) (:has 0) (:get is) (:has arg) (:{has : B} A) (:if {B : nif}) (:if {B right}) (:null prod) (:{nif : B} A) (:{get : B} has) (:has {B : pass}) (:{null : B} sum) (:null get) (:is {B arg}) (:get {B : b}) (:get {B}) (:get star) (:is {B : nif}) (:if {null B}) (:has {B has}) (:get put) (:get 1) (:is const) (:is prod) (:if {bin : B}) (:get if) (:has left) (:is {B hasnt}) (:if {put B}) (:has {B : bin}) (:{nif : B} 1) (:{null : B} put) (:has {B bin}) (:{const : B} pass) (:has {plus B}) (:is {B : if}) (:has {left B}) (:has {B : left}) (:null {isnt B}) (:null {bin B}) (:if {B put}) (:{A : B} null) (:has {B null}) (:get prod) (:has {null : B}) (:put get) (:has {has : B}) (:has {B : isnt}) (:if {B : has}) (:if {plus B}) (:is B) (:has {star : B}) (:{sum : B} prod) (:{sum : B} B) (:{has : B} has) (:get get) (:get {1 B}) (:has {B : A}) (:null 0) (:is {const B}) (:is sum) (:if {const : B}) (:get {B nif}) (:get {star : B}) (:has {domain B}) (:is {B : put}) (:null {B put}) (:if {B star}) (:null {B if}) (:{sum : B}) (:{null : B} b) (:get sum) (:null arg) (:has {B : put}) (:get {B 1}) (:has {B right}) (:{has : B} domain) (:if {B prod}) (:get {isnt : B}) (:{get : B} B) (:{const : B} get) (:has sum) (:if isnt) (:has is)"
     ]
    }
   ],
   "source": [
    "Cand?"
   ]
  },
  {
   "cell_type": "code",
   "execution_count": 12,
   "id": "81c8a8a0-0631-4aed-b504-c6a1684de527",
   "metadata": {},
   "outputs": [
    {
     "name": "stdout",
     "output_type": "stream",
     "text": []
    }
   ],
   "source": [
    "Def nilS53 : ap {(bin (get:B) : property nilpotent (get:B) : S5? S3?)}"
   ]
  },
  {
   "cell_type": "code",
   "execution_count": 18,
   "id": "18c8a2bb-ccbb-410f-b68c-c72df36d57a0",
   "metadata": {
    "collapsed": true,
    "jupyter": {
     "outputs_hidden": true
    },
    "tags": []
   },
   "outputs": [
    {
     "name": "stdout",
     "output_type": "stream",
     "text": [
      "eval> creation, max seconds:30000.0, max GB:2.0\n",
      "eval> creation, max seconds:100, max GB:2\n",
      "eval> creation, max seconds:100, max GB:2\n",
      "eval> creation, max seconds:100, max GB:2\n",
      "eval> creation, max seconds:100, max GB:2\n",
      "eval> creation, max seconds:100, max GB:2\n",
      "eval> creation, max seconds:100, max GB:2\n",
      "eval> creation, max seconds:100, max GB:2\n",
      "eval> creation, max seconds:100, max GB:2\n",
      "eval> creation, max seconds:100, max GB:2\n",
      "eval> creation, max seconds:100, max GB:2\n",
      "eval> creation, max seconds:100, max GB:2\n",
      "eval> creation, max seconds:100, max GB:2\n",
      "eval> creation, max seconds:100, max GB:2\n",
      "eval> creation, max seconds:100, max GB:2\n",
      "eval> creation, max seconds:100, max GB:2\n",
      "eval> creation, max seconds:100, max GB:2\n",
      "eval> creation, max seconds:100, max GB:2\n",
      "eval> creation, max seconds:100, max GB:2\n",
      "eval> creation, max seconds:100, max GB:2\n",
      "eval> creation, max seconds:100, max GB:2\n",
      "eval> creation, max seconds:100, max GB:2\n",
      "eval> creation, max seconds:100, max GB:2\n",
      "eval> creation, max seconds:100, max GB:2\n",
      "eval> creation, max seconds:100, max GB:2\n",
      "eval> creation, max seconds:100, max GB:2\n",
      "eval> creation, max seconds:100, max GB:2\n",
      "eval> creation, max seconds:100, max GB:2\n",
      "eval> creation, max seconds:100, max GB:2\n",
      "eval> creation, max seconds:100, max GB:2\n",
      "eval> creation, max seconds:100, max GB:2\n",
      "eval> creation, max seconds:100, max GB:2\n",
      "eval> creation, max seconds:100, max GB:2\n",
      "eval> creation, max seconds:100, max GB:2\n",
      "eval> creation, max seconds:100, max GB:2\n",
      "eval> creation, max seconds:100, max GB:2\n",
      "eval> creation, max seconds:100, max GB:2\n",
      "eval> creation, max seconds:100, max GB:2\n",
      "eval> creation, max seconds:100, max GB:2\n",
      "eval> creation, max seconds:100, max GB:2\n",
      "eval> creation, max seconds:100, max GB:2\n",
      "eval> creation, max seconds:100, max GB:2\n",
      "eval> creation, max seconds:100, max GB:2\n",
      "eval> creation, max seconds:100, max GB:2\n",
      "eval> creation, max seconds:100, max GB:2\n",
      "eval> creation, max seconds:100, max GB:2\n",
      "eval> creation, max seconds:100, max GB:2\n",
      "eval> creation, max seconds:100, max GB:2\n",
      "eval> creation, max seconds:100, max GB:2\n",
      "eval> creation, max seconds:100, max GB:2\n",
      "eval> creation, max seconds:100, max GB:2\n",
      "eval> creation, max seconds:100, max GB:2\n",
      "eval> creation, max seconds:100, max GB:2\n",
      "eval> creation, max seconds:100, max GB:2\n",
      "eval> creation, max seconds:100, max GB:2\n",
      "eval> creation, max seconds:100, max GB:2\n",
      "eval> creation, max seconds:100, max GB:2\n",
      "eval> creation, max seconds:100, max GB:2\n",
      "eval> creation, max seconds:100, max GB:2\n",
      "eval> creation, max seconds:100, max GB:2\n",
      "eval> creation, max seconds:100, max GB:2\n",
      "eval> creation, max seconds:100, max GB:2\n",
      "eval> creation, max seconds:100, max GB:2\n",
      "eval> creation, max seconds:100, max GB:2\n",
      "eval> creation, max seconds:100, max GB:2\n",
      "eval> creation, max seconds:100, max GB:2\n",
      "eval> creation, max seconds:100, max GB:2\n",
      "eval> creation, max seconds:100, max GB:2\n",
      "eval> creation, max seconds:100, max GB:2\n",
      "eval> creation, max seconds:100, max GB:2\n",
      "eval> creation, max seconds:100, max GB:2\n",
      "eval> creation, max seconds:100, max GB:2\n",
      "eval> creation, max seconds:100, max GB:2\n",
      "eval> creation, max seconds:100, max GB:2\n",
      "eval> creation, max seconds:100, max GB:2\n",
      "eval> creation, max seconds:100, max GB:2\n",
      "eval> creation, max seconds:100, max GB:2\n",
      "eval> creation, max seconds:100, max GB:2\n",
      "eval> creation, max seconds:100, max GB:2\n",
      "eval> creation, max seconds:100, max GB:2\n",
      "eval> creation, max seconds:100, max GB:2\n",
      "eval> creation, max seconds:100, max GB:2\n",
      "eval> creation, max seconds:100, max GB:2\n",
      "eval> creation, max seconds:100, max GB:2\n",
      "eval> creation, max seconds:100, max GB:2\n",
      "eval> creation, max seconds:100, max GB:2\n",
      "eval> creation, max seconds:100, max GB:2\n",
      "eval> creation, max seconds:100, max GB:2\n",
      "eval> creation, max seconds:100, max GB:2\n",
      "eval> creation, max seconds:100, max GB:2\n",
      "eval> creation, max seconds:100, max GB:2\n",
      "eval> creation, max seconds:100, max GB:2\n",
      "eval> creation, max seconds:100, max GB:2\n",
      "eval> creation, max seconds:100, max GB:2\n",
      "eval> creation, max seconds:100, max GB:2\n",
      "eval> creation, max seconds:100, max GB:2\n",
      "eval> creation, max seconds:100, max GB:2\n",
      "eval> creation, max seconds:100, max GB:2\n",
      "eval> creation, max seconds:100, max GB:2\n",
      "eval> creation, max seconds:100, max GB:2\n",
      "eval> creation, max seconds:100, max GB:2\n",
      "eval> creation, max seconds:100, max GB:2\n",
      "eval> creation, max seconds:100, max GB:2\n",
      "eval> creation, max seconds:100, max GB:2\n",
      "eval> creation, max seconds:100, max GB:2\n",
      "eval> creation, max seconds:100, max GB:2\n",
      "eval> creation, max seconds:100, max GB:2\n",
      "eval> creation, max seconds:100, max GB:2\n",
      "eval> creation, max seconds:100, max GB:2\n",
      "eval> creation, max seconds:100, max GB:2\n",
      "eval> creation, max seconds:100, max GB:2\n",
      "eval> creation, max seconds:100, max GB:2\n",
      "eval> creation, max seconds:100, max GB:2\n",
      "eval> creation, max seconds:100, max GB:2\n",
      "eval> creation, max seconds:100, max GB:2\n",
      "eval> creation, max seconds:100, max GB:2\n",
      "eval> creation, max seconds:100, max GB:2\n",
      "eval> creation, max seconds:100, max GB:2\n",
      "eval> creation, max seconds:100, max GB:2\n",
      "eval> creation, max seconds:100, max GB:2\n",
      "eval> creation, max seconds:100, max GB:2\n",
      "eval> creation, max seconds:100, max GB:2\n",
      "eval> creation, max seconds:100, max GB:2\n",
      "eval> creation, max seconds:100, max GB:2\n",
      "eval> creation, max seconds:100, max GB:2\n",
      "eval> creation, max seconds:100, max GB:2\n",
      "eval> creation, max seconds:100, max GB:2\n",
      "eval> creation, max seconds:100, max GB:2\n",
      "eval> creation, max seconds:100, max GB:2\n",
      "eval> creation, max seconds:100, max GB:2\n",
      "eval> creation, max seconds:100, max GB:2\n",
      "eval> creation, max seconds:100, max GB:2\n",
      "eval> creation, max seconds:100, max GB:2\n",
      "eval> creation, max seconds:100, max GB:2\n",
      "eval> creation, max seconds:100, max GB:2\n",
      "eval> creation, max seconds:100, max GB:2\n",
      "eval> creation, max seconds:100, max GB:2\n",
      "eval> creation, max seconds:100, max GB:2\n",
      "eval> creation, max seconds:100, max GB:2\n",
      "eval> creation, max seconds:100, max GB:2\n",
      "eval> creation, max seconds:100, max GB:2\n",
      "eval> creation, max seconds:100, max GB:2\n",
      "eval> creation, max seconds:100, max GB:2\n",
      "eval> creation, max seconds:100, max GB:2\n",
      "eval> creation, max seconds:100, max GB:2\n",
      "eval> creation, max seconds:100, max GB:2\n",
      "eval> creation, max seconds:100, max GB:2\n",
      "eval> creation, max seconds:100, max GB:2\n",
      "eval> creation, max seconds:100, max GB:2\n",
      "eval> creation, max seconds:100, max GB:2\n"
     ]
    }
   ],
   "source": [
    "out C2-S6-S53 30000 : nilS53 : Cand?"
   ]
  },
  {
   "cell_type": "code",
   "execution_count": 21,
   "id": "571893b0-72c3-4375-be55-9e8f88f1b153",
   "metadata": {},
   "outputs": [
    {
     "name": "stdout",
     "output_type": "stream",
     "text": [
      "(bin has {domain : B}:0) \n",
      " (bin null {B get}:0) \n",
      " (bin {nif : B} b:0) \n",
      " (bin put {const : B}:0) \n",
      " (bin null {B pass}:0) \n",
      " (bin if {prod : B}:0) \n",
      " (bin has {B}:0) \n",
      " (bin is {b : B}:0) \n",
      " (bin get {B : A}:0) \n",
      " (bin {null : B} a:0) \n",
      " (bin null sum:0) \n",
      " (bin if {B : plus}:0) \n",
      " (bin null {B : hasnt}:0) \n",
      " (bin {A : B} is:0) \n",
      " (bin null {domain B}:0) \n",
      " (bin null {right B}:0) \n",
      " (bin get pass:0) \n",
      " (bin get {A : B}:0) \n",
      " (bin null {prod : B}:0) \n",
      " (bin null {null : B}:0) \n",
      " (bin null {1 : B}:0) \n",
      " (bin is {const : B}:0) \n",
      " (bin is is:0) \n",
      " (bin is {B has}:0) \n",
      " (bin has {B : b}:0) \n",
      " (bin {sum : B} null:0) \n",
      " (bin null {B 0}:0) \n",
      " (bin has {hasnt B}:0) \n",
      " (bin is {nif : B}:0) \n",
      " (bin null {B prod}:0) \n",
      " (bin null {has B}:0) \n",
      " (bin null {get B}:0) \n",
      " (bin if {a B}:0) \n",
      " (bin has {prod B}:0) \n",
      " (bin get {B : bin}:0) \n",
      " (bin is {B : sum}:0) \n",
      " (bin has {B b}:0) \n",
      " (bin null {B : arg}:0) \n",
      " (bin null {0 : B}:0) \n",
      " (bin null b:0) \n",
      " (bin if put:0) \n",
      " (bin if {is : B}:0) \n",
      " (bin is {has B}:0) \n",
      " (bin {is : B} bin:0) \n",
      " (bin get {B isnt}:0) \n",
      " (bin null if:0) \n",
      " (bin {sum : B} star:0) \n",
      " (bin null {B arg}:0) \n",
      " (bin is {B sum}:0) \n",
      " (bin if {B isnt}:0) \n",
      " (bin {get : B} plus:34) \n",
      " (bin get {B : left}:0) \n",
      " (bin has has:0) \n",
      " (bin if {right B}:0) \n",
      " (bin null {b B}:0) \n",
      " (bin null hasnt:0) \n",
      " (bin is {B const}:0) \n",
      " (bin null {b : B}:0) \n",
      " (bin const:0) \n",
      " (bin is {domain B}:0) \n",
      " (bin has {B domain}:0) \n",
      " (bin has {B : arg}:0) \n",
      " (bin {is : B} put:0) \n",
      " (bin if null:0) \n",
      " (bin null {B : is}:0) \n",
      " (bin {A : B} get:34) \n",
      " (bin has 0:0) \n",
      " (bin get is:0) \n",
      " (bin has arg:0) \n",
      " (bin {has : B} A:48) \n",
      " (bin if {B : nif}:0) \n",
      " (bin if {B right}:0) \n",
      " (bin null prod:0) \n",
      " (bin {nif : B} A:0) \n",
      " (bin {get : B} has:34) \n",
      " (bin has {B : pass}:0) \n",
      " (bin {null : B} sum:0) \n",
      " (bin null get:0) \n",
      " (bin is {B arg}:0) \n",
      " (bin get {B : b}:0) \n",
      " (bin get {B}:0) \n",
      " (bin get star:0) \n",
      " (bin is {B : nif}:0) \n",
      " (bin if {null B}:0) \n",
      " (bin has {B has}:0) \n",
      " (bin get put:0) \n",
      " (bin get 1:0) \n",
      " (bin is const:0) \n",
      " (bin is prod:0) \n",
      " (bin if {bin : B}:0) \n",
      " (bin get if:0) \n",
      " (bin has left:0) \n",
      " (bin is {B hasnt}:0) \n",
      " (bin if {put B}:0) \n",
      " (bin has {B : bin}:0) \n",
      " (bin {nif : B} 1:0) \n",
      " (bin {null : B} put:0) \n",
      " (bin has {B bin}:0) \n",
      " (bin {const : B} pass:0) \n",
      " (bin has {plus B}:0) \n",
      " (bin is {B : if}:0) \n",
      " (bin has {left B}:0) \n",
      " (bin has {B : left}:0) \n",
      " (bin null {isnt B}:0) \n",
      " (bin null {bin B}:0) \n",
      " (bin if {B put}:0) \n",
      " (bin {A : B} null:0) \n",
      " (bin has {B null}:0) \n",
      " (bin get prod:0) \n",
      " (bin has {null : B}:0) \n",
      " (bin put get:34) \n",
      " (bin has {has : B}:0) \n",
      " (bin has {B : isnt}:0) \n",
      " (bin if {B : has}:0) \n",
      " (bin if {plus B}:0) \n",
      " (bin is B:0) \n",
      " (bin has {star : B}:0) \n",
      " (bin {sum : B} prod:0) \n",
      " (bin {sum : B} B:0) \n",
      " (bin {has : B} has:48) \n",
      " (bin get get:0) \n",
      " (bin get {1 B}:0) \n",
      " (bin has {B : A}:0) \n",
      " (bin null 0:0) \n",
      " (bin is {const B}:0) \n",
      " (bin is sum:0) \n",
      " (bin if {const : B}:0) \n",
      " (bin get {B nif}:0) \n",
      " (bin get {star : B}:0) \n",
      " (bin has {domain B}:0) \n",
      " (bin is {B : put}:0) \n",
      " (bin null {B put}:0) \n",
      " (bin if {B star}:0) \n",
      " (bin null {B if}:0) \n",
      " (bin {sum : B}:0) \n",
      " (bin {null : B} b:0) \n",
      " (bin get sum:0) \n",
      " (bin null arg:0) \n",
      " (bin has {B : put}:0) \n",
      " (bin get {B 1}:0) \n",
      " (bin has {B right}:0) \n",
      " (bin {has : B} domain:48) \n",
      " (bin if {B prod}:0) \n",
      " (bin get {isnt : B}:0) \n",
      " (bin {get : B} B:34) \n",
      " (bin {const : B} get:0) \n",
      " (bin has sum:0) \n",
      " (bin if isnt:0) \n",
      " (bin has is:0) \n"
     ]
    }
   ],
   "source": [
    "ap post <\\n> : in : C2-S6-S53"
   ]
  },
  {
   "cell_type": "code",
   "execution_count": null,
   "id": "6281fd03-0cc0-4148-a69b-7260e8097193",
   "metadata": {},
   "outputs": [],
   "source": []
  }
 ],
 "metadata": {
  "kernelspec": {
   "display_name": "coda",
   "language": "",
   "name": "coda"
  },
  "language_info": {
   "file_extension": ".co",
   "mimetype": "text/plain",
   "name": "Any text"
  }
 },
 "nbformat": 4,
 "nbformat_minor": 5
}
