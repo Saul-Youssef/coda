{
 "cells": [
  {
   "cell_type": "markdown",
   "id": "5a361ba2-f187-4fd9-96ef-24b79e0c9513",
   "metadata": {},
   "source": [
    "### Boolean space L1 \n",
    "\n",
    "The space **bool** has two values: () representing *true* and (:) representing *false*.  If **b** is some chosen atom, \n",
    "then **Seq b : bool** is the space of sequences of boolean values stored in b-atoms.  Typical elements of this space are \n",
    "\n",
    "* (), the empty sequence of boolean values\n",
    "* (b:), a single true value \n",
    "* (b:(:)), a single false value \n",
    "* (b:) (b:(:)) (b:(:)), a sequence of three values\n",
    "\n",
    "Before attempting to understand the full space of sequences and it's morphisms, we first will have a detailed look at the subspace\n",
    "\n",
    "* **L = (front |) \\* (Seq b : bool)**\n",
    "\n",
    "of sequences with length less than or equal to 1.  The fact that **L** is a space is guaranteed because **Seq b:bool** is distributive and **front |** commutes with any distributive space.  For display purposes, we will write the possible data in **L** as \"0\" for (), \"T\" for (b:) and \"F\" for (b:(:)).  As always, an endomorphism of **L** is any \n",
    "\n",
    "* **L \\* f \\* L** \n",
    "\n",
    "for some data f. Any special case \n",
    "\n",
    "* **L \\* (put b) \\* f \\* (get b) \\*L** \n",
    "\n",
    "is called an **inner** endomorphism because it acts purely on the joined contents of the b-atoms.  "
   ]
  },
  {
   "cell_type": "code",
   "execution_count": 1,
   "id": "cc5994a0-2269-4348-8694-ecdc9af5a370",
   "metadata": {},
   "outputs": [
    {
     "name": "stdout",
     "output_type": "stream",
     "text": [
      "(defaultTime:1200)"
     ]
    }
   ],
   "source": [
    "defaultTime:1200"
   ]
  },
  {
   "cell_type": "code",
   "execution_count": 2,
   "id": "3da3e5e7-7452-4bfe-8706-606c931ccc04",
   "metadata": {},
   "outputs": [
    {
     "name": "stdout",
     "output_type": "stream",
     "text": []
    }
   ],
   "source": [
    "import : dir co : up : up : ."
   ]
  },
  {
   "cell_type": "code",
   "execution_count": 3,
   "id": "a8e2c503-bccd-418f-a372-25e316070e3e",
   "metadata": {},
   "outputs": [
    {
     "name": "stdout",
     "output_type": "stream",
     "text": []
    }
   ],
   "source": [
    "#\n",
    "#  b is an atom to hold single boolean values \n",
    "#  L is the space of sequences of boolean values with length <=1\n",
    "#  (E:X) is an endomorphism of L \n",
    "#  (e:X) is the special case of an \"inner\" endomorphism of L \n",
    "#\n",
    "Def b:\n",
    "Def L : (front |) * (Seq b : bool) \n",
    "Def E : {end L:B}\n",
    "Def e : {E:in b:B}\n",
    "#\n",
    "#   Domain store the data in L  \n",
    "#\n",
    "Let Domain : aq permutation 0 1 : (b:) (b:(:)) \n",
    "#\n",
    "#   for readability, display (), (b:) and (b:(:)) as 0, T and F. \n",
    "#\n",
    "Def str : {map (bin:0) (bin (b:):T) (bin (b:(:)):F) : B} \n",
    "Def stri: {map (bin 0:) (bin T:b:) (bin F:b:(:)) : B} \n",
    "Def st : {join : apin str : B} \n",
    "Def ST : apin st \n",
    "#\n",
    "#   spectrum : F gives F applied to each value in sequence (:F:) (:F:(b:)) (:F:(b:(:))) \n",
    "#\n",
    "Def spectrum : {(:B:) (:B:(b:)) (:B:(b:(:)))}\n",
    "#\n",
    "#   F a b c is the morphism 0->a, T->b, F->c where a, b and c are some data in L.\n",
    "#\n",
    "Def F : {(if (B):(get:nth 1:A)) (if (B=(b:)):(get:nth 2:A)) (if (B=(b:(:))):(get:nth 3:A))}\n",
    "#\n",
    "#   Endomorphism is the collection of all 27 endomorphisms of L \n",
    "#\n",
    "Let Endomorphism : ap {:F (get:B)} : permutation 3 : Domain?\n",
    "#\n",
    "#   t2F makes a morphism from text such as 0 F T \n",
    "#   F2F makes a standard format morphism from input data \n",
    "#\n",
    "Def t2F : {pre F : ap (put*stri) : first 3 : B}\n",
    "Def F2F : {pre F : spectrum : B} "
   ]
  },
  {
   "cell_type": "code",
   "execution_count": 4,
   "id": "944403fd-ce99-4d2d-a726-a399e2eea925",
   "metadata": {},
   "outputs": [
    {
     "name": "stdout",
     "output_type": "stream",
     "text": [
      "◎ (:(b:)) (:(b:◎))\n",
      "F\n",
      "0 T F\n",
      "0TF\n",
      "◎ (:(b:◎)) (:(b:))\n",
      "◎ (:(b:◎)) (:(b:))\n",
      "F ◎ (:(b:)) (:(b:◎))\n",
      "◎ (:(b:)) (:(b:◎))"
     ]
    }
   ],
   "source": [
    "#\n",
    "#   Basic demos \n",
    "#\n",
    "Domain?\n",
    "str : (b:(:)) \n",
    "apin str : Domain?\n",
    "st : Domain? \n",
    "\n",
    "spectrum : t2F : 0 F T \n",
    "Def 0FT : t2F : 0 F T\n",
    "spectrum : 0FT \n",
    "F2F: (0FT*0FT)\n",
    "spectrum : F2F: (0FT*0FT)"
   ]
  },
  {
   "cell_type": "code",
   "execution_count": 5,
   "id": "e69a5b88-0f09-4439-8e98-ae9fece93298",
   "metadata": {},
   "outputs": [
    {
     "name": "stdout",
     "output_type": "stream",
     "text": []
    }
   ],
   "source": [
    "#\n",
    "#   Some endomorphisms are stored in local files.  (re)creating these files is commented here to save time.\n",
    "#\n",
    "#write idempotent 1000 : ap {if (right:B):(:arg:B)} : dom 600 : ap {with (get:B) : bool : idempotent (E:get:B) : Domain?} : Endomorphism?\n",
    "#write space 1000 : ap {if (right:B):(:arg:B)} : dom 300 : ap {with (get:B) : bool : ap preSpace (E:get:B) : permutation 2 : Domain?} : Endomorphism?"
   ]
  },
  {
   "cell_type": "code",
   "execution_count": 6,
   "id": "7016cef7-498f-4235-9916-2e50ba3fbc24",
   "metadata": {},
   "outputs": [
    {
     "name": "stdout",
     "output_type": "stream",
     "text": []
    }
   ],
   "source": [
    "Let Inner : read : inner\n",
    "Let Involution : read : involution \n",
    "Let Idempotent : read : idempotent \n",
    "Let Space : read : space \n",
    "Let Constant : read : constant \n",
    "Let Identity : put : t2F : 0 T F \n",
    "Let Unit : read : unit \n",
    "Let Positive : apif {is (:):get:B} : Endomorphism?\n",
    "Let Rest : isnt Inner? Involution? Idempotent? Space? Constant? Unit? Positive? : Endomorphism?"
   ]
  },
  {
   "cell_type": "code",
   "execution_count": 7,
   "id": "d838c729-87cf-4b7c-a2c8-20c4af8934aa",
   "metadata": {
    "tags": []
   },
   "outputs": [
    {
     "name": "stdout",
     "output_type": "stream",
     "text": [
      "27\n",
      "1\n",
      "6\n",
      "4\n",
      "4\n",
      "10\n",
      "6\n",
      "3\n",
      "8\n",
      "8"
     ]
    }
   ],
   "source": [
    "count : Endomorphism? \n",
    "count : Identity?\n",
    "count : Unit?\n",
    "count : Inner? \n",
    "count : Involution? \n",
    "count : Idempotent? \n",
    "count : Space?\n",
    "count : Constant? \n",
    "count : Positive? \n",
    "count : Rest?"
   ]
  },
  {
   "cell_type": "code",
   "execution_count": 8,
   "id": "d7d0a599-e1cc-4c77-89b5-482027ecef8c",
   "metadata": {},
   "outputs": [
    {
     "name": "stdout",
     "output_type": "stream",
     "text": [
      "000 00T 00F 0T0 0TT 0TF 0F0 0FT 0FF T00 T0T T0F TT0 TTT TTF TF0 TFT TFF F00 F0T F0F FT0 FTT FTF FF0 FFT FFF\n",
      ",\n",
      "0TF\n",
      "000 TTT FFF\n",
      "0TF 0FT T0F TF0 F0T FT0\n",
      "TTT FFF FFT TTF\n",
      "0TF 0FT T0F FT0\n",
      "000 00F 0T0 0TT 0TF 0FF TTT TTF FTF FFF\n",
      "000 0TT 0TF 0FF TTT FFF\n",
      "TTT TTF TFT TFF FTT FTF FFT FFF\n",
      "00T 0F0 T00 T0T TT0 F00 F0F FF0"
     ]
    }
   ],
   "source": [
    "ST : Endomorphism? \n",
    ",\n",
    "ST : Identity? \n",
    "ST : Constant? \n",
    "ST : Unit?\n",
    "ST : Inner? \n",
    "ST : Involution?\n",
    "ST : Idempotent? \n",
    "ST : Space? \n",
    "ST : Positive? \n",
    "ST : Rest?"
   ]
  },
  {
   "cell_type": "code",
   "execution_count": 9,
   "id": "3b753f70-667e-4ebb-bb3d-001808b987e0",
   "metadata": {},
   "outputs": [
    {
     "name": "stdout",
     "output_type": "stream",
     "text": [
      "F T 0\n",
      "F F 0\n",
      "F T 0"
     ]
    }
   ],
   "source": [
    "#   Demos \n",
    "Def FT0 : t2F : F T 0 \n",
    "Def FF0 : t2F : F F 0 \n",
    "\n",
    "apin str : spectrum : FT0\n",
    "apin str : spectrum : FF0 \n",
    "apin str : spectrum : (E:(FT0+FF0)) "
   ]
  },
  {
   "cell_type": "code",
   "execution_count": 18,
   "id": "316ad8da-549e-4bdf-972e-b22ee417c4af",
   "metadata": {},
   "outputs": [
    {
     "name": "stdout",
     "output_type": "stream",
     "text": []
    }
   ],
   "source": [
    "#\n",
    "#   internal and compute commutators \n",
    "#\n",
    "Def internal : {ap {with (ST:get:B) : (bool : commutator (get:B) : Domain?)} : combination 2 : B} \n",
    "Def compare  : {ap {with (ST:get:B) : (bool : commutator (get:B) : Domain?)} : pair A : B } \n",
    "\n",
    "Def inverse : ap {((get:first:A):(get:last:A):(get:B))=(get:B)} \n",
    "\n",
    "Def val : map (bin :0) (bin (b:):T) (bin (b:(:)):F) \n",
    "\n",
    "Def PR : {join : ap {val:get:B} : {(:B:) (:B:(b:)) (:B:b:(:))} : B}\n",
    "#\n",
    "#   SUM A : B produces all sums A + B \n",
    "#   PROD A : B produces all products A*B \n",
    "#\n",
    "Def Sum : {F2F:E:(A+B)} \n",
    "Def SUM : ar {with (ST:A B) : st : Sum (get:A) : (get:B)}\n",
    "Def SUMf: ar {with (ST:A B) : Sum (get:A) : (get:B)}\n",
    "\n",
    "Def Prod : {F2F:A*B}\n",
    "Def PROD : ar {with (ST:A B) : st : Prod (get:A) : (get:B)} \n",
    "Def PRODf: ar {with (ST:A B) : Prod (get:A) : (get:B)}\n",
    "#\n",
    "#   Compute and summarize the result of SUM or PROD\n",
    "#\n",
    "Def result : {text_sort : once : right : dom 100 : B} \n",
    "\n",
    "#\n",
    "#Def SPEL : ap {with (ST:B): PR : (A*(get:B))} \n",
    "#Def SPER : ap {with (ST:B): PR : ((get:B)*A)} \n",
    "#Def SPELR : {(SPEL (get:A) : B) (SPER (get:A) : B)} \n",
    "#Def SPECTRUM : {aq SPELR A : B}\n",
    "#\n",
    "#   CO computes \"cosets\" meaning A + B \n",
    "#\n",
    "#Def Sum : {F2F:E:(A+B)} \n",
    "#Def COSET : ar {:Sum (get:A):(get:B)}\n",
    "#Def COSUM : ar {with : COSET A:B} \n",
    "#Def CO : {ST : once : right : dom 100 : aq {with : COSET A:B} A : B} \n",
    "\n",
    "Def PRODSUM : {pre <> : (text_sort:ST:A) <\\n> (text_sort:ST:B) <\\n> (result : PROD A : B)}\n",
    "Def SUMSUM  : {pre <> : (text_sort:ST:A) <\\n> (text_sort:ST:B) <\\n> (result : SUM A : B)}"
   ]
  },
  {
   "cell_type": "code",
   "execution_count": 11,
   "id": "5e298ddd-a9a2-4c42-a78a-ffcefc636920",
   "metadata": {},
   "outputs": [
    {
     "name": "stdout",
     "output_type": "stream",
     "text": [
      "Identity    0TF\n",
      "Constant    000 FFF TTT\n",
      "Unit        0FT 0TF F0T FT0 T0F TF0\n",
      "Inner       FFF FFT TTF TTT\n",
      "Involution  0FT 0TF FT0 T0F\n",
      "Idempotent  000 00F 0FF 0T0 0TF 0TT FFF FTF TTF TTT\n",
      "Space       000 0FF 0TF 0TT FFF TTT\n",
      "Positive    FFF FFT FTF FTT TFF TFT TTF TTT"
     ]
    }
   ],
   "source": [
    "pre <Identity   > : text_sort : ST : Identity?\n",
    "pre <Constant   > : text_sort : ST : Constant?\n",
    "pre <Unit       > : text_sort : ST : Unit?\n",
    "pre <Inner      > : text_sort : ST : Inner?\n",
    "pre <Involution > : text_sort : ST : Involution? \n",
    "pre <Idempotent > : text_sort : ST : Idempotent?\n",
    "pre <Space      > : text_sort : ST : Space?\n",
    "pre <Positive   > : text_sort : ST : Positive?"
   ]
  },
  {
   "cell_type": "code",
   "execution_count": 12,
   "id": "66663caa-22f8-4b5e-968f-ed969c06def8",
   "metadata": {},
   "outputs": [
    {
     "name": "stdout",
     "output_type": "stream",
     "text": [
      "000 FFF TTT\n",
      "FFF FFT TTF TTT\n",
      "0FT 0TF FT0 T0F\n",
      "000 00F 0FF 0T0 0TF 0TT FFF FTF TTF TTT\n",
      "000 0FF 0TF 0TT FFF TTT\n",
      "FFF FFT FTF FTT TFF TFT TTF TTT"
     ]
    }
   ],
   "source": [
    "result : PROD Identity? : Constant? \n",
    "result : PROD Identity? : Inner?\n",
    "result : PROD Identity? : Involution? \n",
    "result : PROD Identity? : Idempotent? \n",
    "result : PROD Identity? : Space?\n",
    "result : PROD Identity? : Positive?"
   ]
  },
  {
   "cell_type": "code",
   "execution_count": 13,
   "id": "38af8c45-74a5-423b-b3cc-8354fe0b0929",
   "metadata": {
    "tags": []
   },
   "outputs": [
    {
     "name": "stdout",
     "output_type": "stream",
     "text": [
      "0TF\n",
      "000 FFF TTT\n",
      "0FT 0TF F0T FT0 T0F TF0\n",
      "FFF FFT TTF TTT\n",
      "0FT 0TF F0T FT0 T0F TF0\n",
      "000 00F 00T 0F0 0FF 0T0 0TF 0TT F0F FFF FTF FTT TFF TT0 TTF TTT\n",
      "000 0FF 0TF 0TT FFF TTT\n",
      "FFF FFT FTF FTT TFF TFT TTF TTT"
     ]
    }
   ],
   "source": [
    "result : PROD Identity? : Identity? \n",
    "result : PROD Constant? : Constant?\n",
    "result : PROD Unit? : Unit? \n",
    "result : PROD Inner? : Inner? \n",
    "result : PROD Involution? : Involution? \n",
    "result : PROD Idempotent? : Idempotent? \n",
    "result : PROD Space? : Space? \n",
    "result : PROD Positive? : Positive? "
   ]
  },
  {
   "cell_type": "code",
   "execution_count": 21,
   "id": "d36f5dde-378a-4adb-9629-8fb13fb45419",
   "metadata": {},
   "outputs": [
    {
     "name": "stdout",
     "output_type": "stream",
     "text": [
      "000 0TT 0TF 0FF TTT FFF FTT TTF FTF TFF"
     ]
    }
   ],
   "source": [
    "ST : once : ap {:right:B} : dom 100: SUMf Space? : Space?"
   ]
  },
  {
   "cell_type": "code",
   "execution_count": 22,
   "id": "0678dc56-e918-422b-af10-18ec55ed29d4",
   "metadata": {
    "collapsed": true,
    "jupyter": {
     "outputs_hidden": true
    },
    "tags": []
   },
   "outputs": [
    {
     "name": "stdout",
     "output_type": "stream",
     "text": []
    }
   ],
   "source": [
    "Let Space2 : once : ap {:right:B} : dom 100: SUMf Space? : Space?"
   ]
  },
  {
   "cell_type": "code",
   "execution_count": 24,
   "id": "5c962f87-fb84-4e7c-8cb6-7d0e6dfad271",
   "metadata": {
    "collapsed": true,
    "jupyter": {
     "outputs_hidden": true
    },
    "tags": []
   },
   "outputs": [
    {
     "name": "stdout",
     "output_type": "stream",
     "text": [
      "(:F ◎ ◎ ◎) (:F ◎ (:(b:)) (:(b:))) (:F ◎ (:(b:)) (:(b:◎))) (:F ◎ (:(b:◎)) (:(b:◎))) (:F (:(b:)) (:(b:)) (:(b:))) (:F (:(b:◎)) (:(b:◎)) (:(b:◎))) (:F (:(b:◎)) (:(b:)) (:(b:))) (:F (:(b:)) (:(b:)) (:(b:◎))) (:F (:(b:◎)) (:(b:)) (:(b:◎))) (:F (:(b:)) (:(b:◎)) (:(b:◎)))\n",
      "000 0TT 0TF 0FF TTT FFF FTT TTF FTF TFF"
     ]
    }
   ],
   "source": [
    "Space2?\n",
    "ST : Space2?"
   ]
  },
  {
   "cell_type": "code",
   "execution_count": 28,
   "id": "bb6bdc64-5cb0-4cbb-9c85-d3abc1c8eef7",
   "metadata": {},
   "outputs": [
    {
     "name": "stdout",
     "output_type": "stream",
     "text": [
      " 000 0FF 0TF 0TT FFF FTF FTT TFF TTF TTT \n",
      " 000 0FF 0TF 0TT FFF FTF FTT TFF TTF TTT \n",
      " 000 0FF 0TF 0TT FFF FTF FTT TFF TTF TTT"
     ]
    }
   ],
   "source": [
    "SUMSUM Space2? : Space2?"
   ]
  },
  {
   "cell_type": "code",
   "execution_count": 29,
   "id": "f86b52e4-7e42-483f-890b-b3c440b5c2ab",
   "metadata": {},
   "outputs": [
    {
     "name": "stdout",
     "output_type": "stream",
     "text": [
      " 000 0FF 0TF 0TT FFF FTF FTT TFF TTF TTT \n",
      " 000 0FF 0TF 0TT FFF FTF FTT TFF TTF TTT \n",
      " 000 0FF 0TF 0TT FFF FTF FTT TFF TTF TTT"
     ]
    }
   ],
   "source": [
    "PRODSUM Space2? : Space2?"
   ]
  },
  {
   "cell_type": "code",
   "execution_count": 32,
   "id": "3bd001fe-e110-42d5-bc05-f8db2986b78d",
   "metadata": {},
   "outputs": [
    {
     "name": "stdout",
     "output_type": "stream",
     "text": [
      " 000 0FF 0TF 0TT FFF FTF FTT TFF TTF TTT \n",
      " 0FT 0TF F0T FT0 T0F TF0 \n",
      " 000 0FF 0FT 0TF 0TT F0F F0T FF0 FFF FFT FT0 FTF FTT T0F T0T TF0 TFF TFT TT0 TTF TTT\n",
      " 0FT 0TF F0T FT0 T0F TF0 \n",
      " 000 0FF 0TF 0TT FFF FTF FTT TFF TTF TTT \n",
      " 000 00F 00T 0F0 0FF 0FT 0T0 0TF 0TT F00 F0F F0T FF0 FFF FFT FT0 FTF FTT T00 T0F T0T TF0 TFF TFT TT0 TTF TTT"
     ]
    }
   ],
   "source": [
    "PRODSUM Space2? : Unit?\n",
    "PRODSUM Unit? : Space2?"
   ]
  },
  {
   "cell_type": "code",
   "execution_count": 15,
   "id": "bcc7d819-3eb6-4f77-b0b3-b13bf69725e9",
   "metadata": {
    "collapsed": true,
    "jupyter": {
     "outputs_hidden": true,
     "source_hidden": true
    },
    "tags": []
   },
   "outputs": [
    {
     "name": "stdout",
     "output_type": "stream",
     "text": [
      " 000 FFF TTT \n",
      " 0FT 0TF F0T FT0 T0F TF0 \n",
      " 000 FFF TTT\n",
      ",\n",
      " 000 FFF TTT \n",
      " FFF FFT TTF TTT \n",
      " 000 FFF TTT\n",
      ",\n",
      " 000 FFF TTT \n",
      " 0FT 0TF FT0 T0F \n",
      " 000 FFF TTT\n",
      ",\n",
      " 000 FFF TTT \n",
      " 000 00F 0FF 0T0 0TF 0TT FFF FTF TTF TTT \n",
      " 000 FFF TTT\n",
      ",\n",
      " 000 FFF TTT \n",
      " 000 0FF 0TF 0TT FFF TTT \n",
      " 000 FFF TTT\n",
      ",\n",
      " 000 FFF TTT \n",
      " FFF FFT FTF FTT TFF TFT TTF TTT \n",
      " 000 FFF TTT"
     ]
    }
   ],
   "source": [
    "PRODSUM Constant? : Unit?\n",
    ",\n",
    "PRODSUM Constant? : Inner?\n",
    ",\n",
    "PRODSUM Constant? : Involution? \n",
    ",\n",
    "PRODSUM Constant? : Idempotent?\n",
    ",\n",
    "PRODSUM Constant? : Space?\n",
    ",\n",
    "PRODSUM Constant? : Positive?"
   ]
  },
  {
   "cell_type": "code",
   "execution_count": 16,
   "id": "0fc8c4c7-70dd-4cac-ab0d-d69c4f14468b",
   "metadata": {
    "collapsed": true,
    "jupyter": {
     "outputs_hidden": true,
     "source_hidden": true
    },
    "tags": []
   },
   "outputs": [
    {
     "name": "stdout",
     "output_type": "stream",
     "text": [
      " 0FT 0TF F0T FT0 T0F TF0 \n",
      " 000 FFF TTT \n",
      " 000 FFF TTT\n",
      ",\n",
      " 0FT 0TF F0T FT0 T0F TF0 \n",
      " FFF FFT TTF TTT \n",
      " 000 00F 00T FF0 FFF FFT TT0 TTF TTT\n",
      ",\n",
      " 0FT 0TF F0T FT0 T0F TF0 \n",
      " 0FT 0TF FT0 T0F \n",
      " 0FT 0TF F0T FT0 T0F TF0\n",
      ",\n",
      " 0FT 0TF F0T FT0 T0F TF0 \n",
      " 000 00F 0FF 0T0 0TF 0TT FFF FTF TTF TTT \n",
      " 000 00F 00T 0F0 0FF 0FT 0T0 0TF 0TT F00 F0F F0T FF0 FFF FFT FT0 FTF FTT T00 T0F T0T TF0 TFF TFT TT0 TTF TTT\n",
      ",\n",
      " 0FT 0TF F0T FT0 T0F TF0 \n",
      " 000 0FF 0TF 0TT FFF TTT \n",
      " 000 0FF 0FT 0TF 0TT F00 F0T FFF FT0 FTT T00 T0F TF0 TFF TTT\n",
      ",\n",
      " 0FT 0TF F0T FT0 T0F TF0 \n",
      " FFF FFT FTF FTT TFF TFT TTF TTT \n",
      " 000 00F 00T 0F0 0FF 0T0 0TT F00 F0F FF0 FFF FFT FTF FTT T00 T0T TFF TFT TT0 TTF TTT"
     ]
    }
   ],
   "source": [
    "PRODSUM Unit? : Constant?\n",
    ",\n",
    "PRODSUM Unit? : Inner?\n",
    ",\n",
    "PRODSUM Unit? : Involution?\n",
    ",\n",
    "PRODSUM Unit? : Idempotent?\n",
    ",\n",
    "PRODSUM Unit? : Space?\n",
    ",\n",
    "PRODSUM Unit? : Positive?"
   ]
  },
  {
   "cell_type": "code",
   "execution_count": 17,
   "id": "2203ac7e-22dd-4b7f-a8f5-84cf5aca7eff",
   "metadata": {
    "collapsed": true,
    "jupyter": {
     "outputs_hidden": true,
     "source_hidden": true
    },
    "tags": []
   },
   "outputs": [
    {
     "name": "stdout",
     "output_type": "stream",
     "text": [
      " FFF FFT TTF TTT \n",
      " 000 FFF TTT \n",
      " FFF TTT\n",
      ",\n",
      " FFF FFT TTF TTT \n",
      " 0FT 0TF F0T FT0 T0F TF0 \n",
      " FFF FFT FTF FTT TFF TFT TTF TTT\n",
      ",\n",
      " FFF FFT TTF TTT \n",
      " 0FT 0TF FT0 T0F \n",
      " FFF FFT FTF FTT TFF TFT TTF TTT\n",
      ",\n",
      " FFF FFT TTF TTT \n",
      " 000 00F 0FF 0T0 0TF 0TT FFF FTF TTF TTT \n",
      " FFF FFT FTF FTT TFF TFT TTF TTT\n",
      ",\n",
      " FFF FFT TTF TTT \n",
      " 000 0FF 0TF 0TT FFF TTT \n",
      " FFF FFT FTT TFF TTF TTT\n",
      ",\n",
      " FFF FFT TTF TTT \n",
      " FFF FFT FTF FTT TFF TFT TTF TTT \n",
      " FFF FFT FTF FTT TFF TFT TTF TTT"
     ]
    }
   ],
   "source": [
    "PRODSUM Inner? : Constant? \n",
    ",\n",
    "PRODSUM Inner? : Unit?\n",
    ",\n",
    "PRODSUM Inner? : Involution?\n",
    ",\n",
    "PRODSUM Inner? : Idempotent?\n",
    ",\n",
    "PRODSUM Inner? : Space?\n",
    ",\n",
    "PRODSUM Inner? : Positive?"
   ]
  },
  {
   "cell_type": "code",
   "execution_count": 18,
   "id": "846bb089-cada-4936-8fbf-0656c8da0fab",
   "metadata": {
    "collapsed": true,
    "jupyter": {
     "outputs_hidden": true,
     "source_hidden": true
    },
    "tags": []
   },
   "outputs": [
    {
     "name": "stdout",
     "output_type": "stream",
     "text": [
      " 0FT 0TF FT0 T0F \n",
      " 000 FFF TTT \n",
      " 000 FFF TTT\n",
      ",\n",
      " 0FT 0TF FT0 T0F \n",
      " 0FT 0TF F0T FT0 T0F TF0 \n",
      " 0FT 0TF F0T FT0 T0F TF0\n",
      ",\n",
      " 0FT 0TF FT0 T0F \n",
      " FFF FFT TTF TTT \n",
      " 000 00F 00T FF0 FFF FFT TT0 TTF TTT\n",
      ",\n",
      " 0FT 0TF FT0 T0F \n",
      " 0FT 0TF FT0 T0F \n",
      " 0FT 0TF F0T FT0 T0F TF0\n",
      ",\n",
      " 0FT 0TF FT0 T0F \n",
      " 000 00F 0FF 0T0 0TF 0TT FFF FTF TTF TTT \n",
      " 000 00F 00T 0F0 0FF 0FT 0T0 0TF 0TT F00 F0F FF0 FFF FFT FT0 FTF FTT T00 T0F T0T TFF TFT TT0 TTF TTT\n",
      ",\n",
      " 0FT 0TF FT0 T0F \n",
      " 000 0FF 0TF 0TT FFF TTT \n",
      " 000 0FF 0FT 0TF 0TT F00 FFF FT0 FTT T00 T0F TFF TTT\n",
      ",\n",
      " 0FT 0TF FT0 T0F \n",
      " FFF FFT FTF FTT TFF TFT TTF TTT \n",
      " 000 00F 00T 0F0 0FF 0T0 0TT F00 F0F FF0 FFF FFT FTF FTT T00 T0T TFF TFT TT0 TTF TTT"
     ]
    }
   ],
   "source": [
    "PRODSUM Involution? : Constant? \n",
    ",\n",
    "PRODSUM Involution? : Unit?\n",
    ",\n",
    "PRODSUM Involution? : Inner?\n",
    ",\n",
    "PRODSUM Involution? : Involution?\n",
    ",\n",
    "PRODSUM Involution? : Idempotent?\n",
    ",\n",
    "PRODSUM Involution? : Space?\n",
    ",\n",
    "PRODSUM Involution? : Positive?"
   ]
  },
  {
   "cell_type": "code",
   "execution_count": 19,
   "id": "d0ef55eb-90b1-432c-a735-d6f818e89f84",
   "metadata": {
    "collapsed": true,
    "jupyter": {
     "outputs_hidden": true,
     "source_hidden": true
    },
    "tags": []
   },
   "outputs": [
    {
     "name": "stdout",
     "output_type": "stream",
     "text": [
      " 000 00F 0FF 0T0 0TF 0TT FFF FTF TTF TTT \n",
      " 000 FFF TTT \n",
      " 000 FFF TTT\n",
      ",\n",
      " 000 00F 0FF 0T0 0TF 0TT FFF FTF TTF TTT \n",
      " 0FT 0TF F0T FT0 T0F TF0 \n",
      " 000 00F 00T 0F0 0FF 0FT 0T0 0TF 0TT F00 F0F F0T FF0 FFF FFT FT0 FTF FTT T00 T0F T0T TF0 TFF TFT TT0 TTF TTT\n",
      ",\n",
      " 000 00F 0FF 0T0 0TF 0TT FFF FTF TTF TTT \n",
      " FFF FFT TTF TTT \n",
      " 000 00F 00T FF0 FFF FFT TT0 TTF TTT\n",
      ",\n",
      " 000 00F 0FF 0T0 0TF 0TT FFF FTF TTF TTT \n",
      " 0FT 0TF FT0 T0F \n",
      " 000 00F 00T 0F0 0FF 0FT 0T0 0TF 0TT F00 F0F FF0 FFF FFT FT0 FTF FTT T00 T0F T0T TFF TFT TT0 TTF TTT\n",
      ",\n",
      " 000 00F 0FF 0T0 0TF 0TT FFF FTF TTF TTT \n",
      " 000 00F 0FF 0T0 0TF 0TT FFF FTF TTF TTT \n",
      " 000 00F 00T 0F0 0FF 0T0 0TF 0TT F0F FFF FTF FTT TFF TT0 TTF TTT\n",
      ",\n",
      " 000 00F 0FF 0T0 0TF 0TT FFF FTF TTF TTT \n",
      " 000 0FF 0TF 0TT FFF TTT \n",
      " 000 00F 0FF 0T0 0TF 0TT FFF FTF FTT TFF TTF TTT\n",
      ",\n",
      " 000 00F 0FF 0T0 0TF 0TT FFF FTF TTF TTT \n",
      " FFF FFT FTF FTT TFF TFT TTF TTT \n",
      " 000 00F 00T 0F0 0FF 0T0 0TT F00 F0F FF0 FFF FFT FTF FTT T00 T0T TFF TFT TT0 TTF TTT"
     ]
    }
   ],
   "source": [
    "PRODSUM Idempotent? : Constant? \n",
    ",\n",
    "PRODSUM Idempotent? : Unit?\n",
    ",\n",
    "PRODSUM Idempotent? : Inner?\n",
    ",\n",
    "PRODSUM Idempotent? : Involution?\n",
    ",\n",
    "PRODSUM Idempotent? : Idempotent?\n",
    ",\n",
    "PRODSUM Idempotent? : Space?\n",
    ",\n",
    "PRODSUM Idempotent? : Positive?"
   ]
  },
  {
   "cell_type": "code",
   "execution_count": 20,
   "id": "24913fb3-da5e-4f9f-b3cc-7b6e181f1649",
   "metadata": {
    "collapsed": true,
    "jupyter": {
     "outputs_hidden": true,
     "source_hidden": true
    },
    "tags": []
   },
   "outputs": [
    {
     "name": "stdout",
     "output_type": "stream",
     "text": [
      " 000 0FF 0TF 0TT FFF TTT \n",
      " 000 FFF TTT \n",
      " 000 FFF TTT\n",
      ",\n",
      " 000 0FF 0TF 0TT FFF TTT \n",
      " 0FT 0TF F0T FT0 T0F TF0 \n",
      " 000 0FF 0FT 0TF 0TT F0F F0T FF0 FFF FT0 T0F T0T TF0 TT0 TTT\n",
      ",\n",
      " 000 0FF 0TF 0TT FFF TTT \n",
      " FFF FFT TTF TTT \n",
      " 000 FFF FFT TTF TTT\n",
      ",\n",
      " 000 0FF 0TF 0TT FFF TTT \n",
      " 0FT 0TF FT0 T0F \n",
      " 000 0FF 0FT 0TF 0TT F0F FF0 FFF FT0 T0F T0T TT0 TTT\n",
      ",\n",
      " 000 0FF 0TF 0TT FFF TTT \n",
      " 000 00F 0FF 0T0 0TF 0TT FFF FTF TTF TTT \n",
      " 000 00F 00T 0F0 0FF 0T0 0TF 0TT FFF FTF TTF TTT\n",
      ",\n",
      " 000 0FF 0TF 0TT FFF TTT \n",
      " 000 0FF 0TF 0TT FFF TTT \n",
      " 000 0FF 0TF 0TT FFF TTT\n",
      ",\n",
      " 000 0FF 0TF 0TT FFF TTT \n",
      " FFF FFT FTF FTT TFF TFT TTF TTT \n",
      " 000 FFF FFT FTF FTT TFF TFT TTF TTT"
     ]
    }
   ],
   "source": [
    "PRODSUM Space? : Constant? \n",
    ",\n",
    "PRODSUM Space? : Unit?\n",
    ",\n",
    "PRODSUM Space? : Inner?\n",
    ",\n",
    "PRODSUM Space? : Involution?\n",
    ",\n",
    "PRODSUM Space? : Idempotent?\n",
    ",\n",
    "PRODSUM Space? : Space?\n",
    ",\n",
    "PRODSUM Space? : Positive?"
   ]
  },
  {
   "cell_type": "code",
   "execution_count": 21,
   "id": "085cd976-c5b0-449b-85cc-a758d222927d",
   "metadata": {
    "collapsed": true,
    "jupyter": {
     "outputs_hidden": true,
     "source_hidden": true
    },
    "tags": []
   },
   "outputs": [
    {
     "name": "stdout",
     "output_type": "stream",
     "text": [
      " FFF FFT FTF FTT TFF TFT TTF TTT \n",
      " 000 FFF TTT \n",
      " FFF TTT\n",
      ",\n",
      " FFF FFT FTF FTT TFF TFT TTF TTT \n",
      " 0FT 0TF F0T FT0 T0F TF0 \n",
      " FFF FFT FTF FTT TFF TFT TTF TTT\n",
      ",\n",
      " FFF FFT FTF FTT TFF TFT TTF TTT \n",
      " FFF FFT TTF TTT \n",
      " FFF FFT TTF TTT\n",
      ",\n",
      " FFF FFT FTF FTT TFF TFT TTF TTT \n",
      " 0FT 0TF FT0 T0F \n",
      " FFF FFT FTF FTT TFF TFT TTF TTT\n",
      ",\n",
      " FFF FFT FTF FTT TFF TFT TTF TTT \n",
      " 000 00F 0FF 0T0 0TF 0TT FFF FTF TTF TTT \n",
      " FFF FFT FTF FTT TFF TFT TTF TTT\n",
      ",\n",
      " FFF FFT FTF FTT TFF TFT TTF TTT \n",
      " 000 0FF 0TF 0TT FFF TTT \n",
      " FFF FFT FTF FTT TFF TFT TTF TTT\n",
      ",\n",
      " FFF FFT FTF FTT TFF TFT TTF TTT \n",
      " FFF FFT FTF FTT TFF TFT TTF TTT \n",
      " FFF FFT FTF FTT TFF TFT TTF TTT"
     ]
    }
   ],
   "source": [
    "PRODSUM Positive? : Constant? \n",
    ",\n",
    "PRODSUM Positive? : Unit?\n",
    ",\n",
    "PRODSUM Positive? : Inner?\n",
    ",\n",
    "PRODSUM Positive? : Involution?\n",
    ",\n",
    "PRODSUM Positive? : Idempotent?\n",
    ",\n",
    "PRODSUM Positive? : Space?\n",
    ",\n",
    "PRODSUM Positive? : Positive?"
   ]
  },
  {
   "cell_type": "code",
   "execution_count": 12,
   "id": "5dfa5adc-148e-4dd2-b733-f3918cdb8d30",
   "metadata": {
    "collapsed": true,
    "jupyter": {
     "outputs_hidden": true,
     "source_hidden": true
    },
    "tags": []
   },
   "outputs": [
    {
     "name": "stdout",
     "output_type": "stream",
     "text": [
      " 0TF \n",
      " 0TF \n",
      " 0TF\n",
      ",\n",
      " 0TF \n",
      " 000 FFF TTT \n",
      " 0TF FTF TTF\n",
      ",\n",
      " 0TF \n",
      " 0FT 0TF F0T FT0 T0F TF0 \n",
      " 0TF FTF TTF\n",
      ",\n",
      " 0TF \n",
      " FFF FFT TTF TTT \n",
      " FTF TTF\n",
      ",\n",
      " 0TF \n",
      " 0FT 0TF FT0 T0F \n",
      " 0TF FTF TTF\n",
      ",\n",
      " 0TF \n",
      " 000 00F 0FF 0T0 0TF 0TT FFF FTF TTF TTT \n",
      " 0TF FTF TTF\n",
      ",\n",
      " 0TF \n",
      " 000 0FF 0TF 0TT FFF TTT \n",
      " 0TF FTF TTF\n",
      ",\n",
      " 0TF \n",
      " FFF FFT FTF FTT TFF TFT TTF TTT \n",
      " FTF TTF"
     ]
    }
   ],
   "source": [
    "SUMSUM Identity? : Identity?\n",
    ",\n",
    "SUMSUM Identity? : Constant? \n",
    ",\n",
    "SUMSUM Identity? : Unit?\n",
    ",\n",
    "SUMSUM Identity? : Inner?\n",
    ",\n",
    "SUMSUM Identity? : Involution?\n",
    ",\n",
    "SUMSUM Identity? : Idempotent?\n",
    ",\n",
    "SUMSUM Identity? : Space?\n",
    ",\n",
    "SUMSUM Identity? : Positive?"
   ]
  },
  {
   "cell_type": "code",
   "execution_count": 13,
   "id": "4907bdf0-3f1a-4229-9889-c789cc8b8c3e",
   "metadata": {
    "collapsed": true,
    "jupyter": {
     "outputs_hidden": true,
     "source_hidden": true
    },
    "tags": []
   },
   "outputs": [
    {
     "name": "stdout",
     "output_type": "stream",
     "text": [
      " 000 FFF TTT \n",
      " 0TF \n",
      " 0TF FFF TTT\n",
      ",\n",
      " 000 FFF TTT \n",
      " 000 FFF TTT \n",
      " 000 FFF TTT\n",
      ",\n",
      " 000 FFF TTT \n",
      " 0FT 0TF F0T FT0 T0F TF0 \n",
      " 0FT 0TF F0T FFF FT0 T0F TF0 TTT\n",
      ",\n",
      " 000 FFF TTT \n",
      " FFF FFT TTF TTT \n",
      " FFF FFT TTF TTT\n",
      ",\n",
      " 000 FFF TTT \n",
      " 0FT 0TF FT0 T0F \n",
      " 0FT 0TF FFF FT0 T0F TTT\n",
      ",\n",
      " 000 FFF TTT \n",
      " 000 00F 0FF 0T0 0TF 0TT FFF FTF TTF TTT \n",
      " 000 00F 0FF 0T0 0TF 0TT FFF FTF TTF TTT\n",
      ",\n",
      " 000 FFF TTT \n",
      " 000 0FF 0TF 0TT FFF TTT \n",
      " 000 0FF 0TF 0TT FFF TTT\n",
      ",\n",
      " 000 FFF TTT \n",
      " FFF FFT FTF FTT TFF TFT TTF TTT \n",
      " FFF FFT FTF FTT TFF TFT TTF TTT"
     ]
    }
   ],
   "source": [
    "SUMSUM Constant? : Identity?\n",
    ",\n",
    "SUMSUM Constant? : Constant? \n",
    ",\n",
    "SUMSUM Constant? : Unit?\n",
    ",\n",
    "SUMSUM Constant? : Inner?\n",
    ",\n",
    "SUMSUM Constant? : Involution?\n",
    ",\n",
    "SUMSUM Constant? : Idempotent?\n",
    ",\n",
    "SUMSUM Constant? : Space?\n",
    ",\n",
    "SUMSUM Constant? : Positive?"
   ]
  },
  {
   "cell_type": "code",
   "execution_count": 14,
   "id": "bd68a495-ae38-436b-b783-af3315bce5da",
   "metadata": {
    "collapsed": true,
    "jupyter": {
     "outputs_hidden": true,
     "source_hidden": true
    },
    "tags": []
   },
   "outputs": [
    {
     "name": "stdout",
     "output_type": "stream",
     "text": [
      " 0FT 0TF F0T FT0 T0F TF0 \n",
      " 0TF \n",
      " 0FT 0TF FTF FTT TFF TTF\n",
      ",\n",
      " 0FT 0TF F0T FT0 T0F TF0 \n",
      " 000 FFF TTT \n",
      " 0FT 0TF F0T FFT FT0 FTF FTT T0F TF0 TFF TFT TTF\n",
      ",\n",
      " 0FT 0TF F0T FT0 T0F TF0 \n",
      " 0FT 0TF F0T FT0 T0F TF0 \n",
      " 0FT 0TF F0T FFT FT0 FTF FTT T0F TF0 TFF TFT TTF\n",
      ",\n",
      " 0FT 0TF F0T FT0 T0F TF0 \n",
      " FFF FFT TTF TTT \n",
      " FFT FTF FTT TFF TFT TTF\n",
      ",\n",
      " 0FT 0TF F0T FT0 T0F TF0 \n",
      " 0FT 0TF FT0 T0F \n",
      " 0FT 0TF F0T FFT FT0 FTF FTT T0F TF0 TFF TFT TTF\n",
      ",\n",
      " 0FT 0TF F0T FT0 T0F TF0 \n",
      " 000 00F 0FF 0T0 0TF 0TT FFF FTF TTF TTT \n",
      " 0FT 0TF F0T FFT FT0 FTF FTT T0F TF0 TFF TFT TTF\n",
      ",\n",
      " 0FT 0TF F0T FT0 T0F TF0 \n",
      " 000 0FF 0TF 0TT FFF TTT \n",
      " 0FT 0TF F0T FFT FT0 FTF FTT T0F TF0 TFF TFT TTF\n",
      ",\n",
      " 0FT 0TF F0T FT0 T0F TF0 \n",
      " FFF FFT FTF FTT TFF TFT TTF TTT \n",
      " FFT FTF FTT TFF TFT TTF"
     ]
    }
   ],
   "source": [
    "SUMSUM Unit? : Identity?\n",
    ",\n",
    "SUMSUM Unit? : Constant? \n",
    ",\n",
    "SUMSUM Unit? : Unit?\n",
    ",\n",
    "SUMSUM Unit? : Inner?\n",
    ",\n",
    "SUMSUM Unit? : Involution?\n",
    ",\n",
    "SUMSUM Unit? : Idempotent?\n",
    ",\n",
    "SUMSUM Unit? : Space?\n",
    ",\n",
    "SUMSUM Unit? : Positive?"
   ]
  },
  {
   "cell_type": "code",
   "execution_count": 15,
   "id": "4f3c1a50-930e-4544-b35c-e0283b630e39",
   "metadata": {
    "collapsed": true,
    "jupyter": {
     "outputs_hidden": true,
     "source_hidden": true
    },
    "tags": []
   },
   "outputs": [
    {
     "name": "stdout",
     "output_type": "stream",
     "text": [
      " FFF FFT TTF TTT \n",
      " 0TF \n",
      " FFF FFT TTF TTT\n",
      ",\n",
      " FFF FFT TTF TTT \n",
      " 000 FFF TTT \n",
      " FFF FFT TTF TTT\n",
      ",\n",
      " FFF FFT TTF TTT \n",
      " 0FT 0TF F0T FT0 T0F TF0 \n",
      " FFF FFT TTF TTT\n",
      ",\n",
      " FFF FFT TTF TTT \n",
      " FFF FFT TTF TTT \n",
      " FFF FFT TTF TTT\n",
      ",\n",
      " FFF FFT TTF TTT \n",
      " 0FT 0TF FT0 T0F \n",
      " FFF FFT TTF TTT\n",
      ",\n",
      " FFF FFT TTF TTT \n",
      " 000 00F 0FF 0T0 0TF 0TT FFF FTF TTF TTT \n",
      " FFF FFT TTF TTT\n",
      ",\n",
      " FFF FFT TTF TTT \n",
      " 000 0FF 0TF 0TT FFF TTT \n",
      " FFF FFT TTF TTT\n",
      ",\n",
      " FFF FFT TTF TTT \n",
      " FFF FFT FTF FTT TFF TFT TTF TTT \n",
      " FFF FFT TTF TTT"
     ]
    }
   ],
   "source": [
    "SUMSUM Inner? : Identity?\n",
    ",\n",
    "SUMSUM Inner? : Constant? \n",
    ",\n",
    "SUMSUM Inner? : Unit?\n",
    ",\n",
    "SUMSUM Inner? : Inner?\n",
    ",\n",
    "SUMSUM Inner? : Involution?\n",
    ",\n",
    "SUMSUM Inner? : Idempotent?\n",
    ",\n",
    "SUMSUM Inner? : Space?\n",
    ",\n",
    "SUMSUM Inner? : Positive?"
   ]
  },
  {
   "cell_type": "code",
   "execution_count": 16,
   "id": "a933a613-b57e-4a68-ac4c-a340b1e5a29a",
   "metadata": {
    "collapsed": true,
    "jupyter": {
     "outputs_hidden": true,
     "source_hidden": true
    },
    "tags": []
   },
   "outputs": [
    {
     "name": "stdout",
     "output_type": "stream",
     "text": [
      " 0FT 0TF FT0 T0F \n",
      " 0TF \n",
      " 0FT 0TF FTF TTF\n",
      ",\n",
      " 0FT 0TF FT0 T0F \n",
      " 000 FFF TTT \n",
      " 0FT 0TF FFT FT0 FTF FTT T0F TFF TFT TTF\n",
      ",\n",
      " 0FT 0TF FT0 T0F \n",
      " 0FT 0TF F0T FT0 T0F TF0 \n",
      " 0FT 0TF FFT FT0 FTF FTT T0F TFF TFT TTF\n",
      ",\n",
      " 0FT 0TF FT0 T0F \n",
      " FFF FFT TTF TTT \n",
      " FFT FTF FTT TFF TFT TTF\n",
      ",\n",
      " 0FT 0TF FT0 T0F \n",
      " 0FT 0TF FT0 T0F \n",
      " 0FT 0TF FFT FT0 FTF FTT T0F TFF TFT TTF\n",
      ",\n",
      " 0FT 0TF FT0 T0F \n",
      " 000 00F 0FF 0T0 0TF 0TT FFF FTF TTF TTT \n",
      " 0FT 0TF FFT FT0 FTF FTT T0F TFF TFT TTF\n",
      ",\n",
      " 0FT 0TF FT0 T0F \n",
      " 000 0FF 0TF 0TT FFF TTT \n",
      " 0FT 0TF FFT FT0 FTF FTT T0F TFF TFT TTF\n",
      ",\n",
      " 0FT 0TF FT0 T0F \n",
      " FFF FFT FTF FTT TFF TFT TTF TTT \n",
      " FFT FTF FTT TFF TFT TTF"
     ]
    }
   ],
   "source": [
    "SUMSUM Involution? : Identity?\n",
    ",\n",
    "SUMSUM Involution? : Constant? \n",
    ",\n",
    "SUMSUM Involution? : Unit?\n",
    ",\n",
    "SUMSUM Involution? : Inner?\n",
    ",\n",
    "SUMSUM Involution? : Involution?\n",
    ",\n",
    "SUMSUM Involution? : Idempotent?\n",
    ",\n",
    "SUMSUM Involution? : Space?\n",
    ",\n",
    "SUMSUM Involution? : Positive?"
   ]
  },
  {
   "cell_type": "code",
   "execution_count": 17,
   "id": "cae4bbc8-e350-4f06-aa90-96024914311c",
   "metadata": {
    "collapsed": true,
    "jupyter": {
     "outputs_hidden": true,
     "source_hidden": true
    },
    "tags": []
   },
   "outputs": [
    {
     "name": "stdout",
     "output_type": "stream",
     "text": [
      " 000 00F 0FF 0T0 0TF 0TT FFF FTF TTF TTT \n",
      " 0TF \n",
      " 0FF 0TF 0TT FFF FTF TTF TTT\n",
      ",\n",
      " 000 00F 0FF 0T0 0TF 0TT FFF FTF TTF TTT \n",
      " 000 FFF TTT \n",
      " 000 00F 0FF 0T0 0TF 0TT FFF FTF FTT TFF TTF TTT\n",
      ",\n",
      " 000 00F 0FF 0T0 0TF 0TT FFF FTF TTF TTT \n",
      " 0FT 0TF F0T FT0 T0F TF0 \n",
      " 0FF 0FT 0TF 0TT F0F F0T FFF FT0 FTF FTT T0F TF0 TFF TT0 TTF TTT\n",
      ",\n",
      " 000 00F 0FF 0T0 0TF 0TT FFF FTF TTF TTT \n",
      " FFF FFT TTF TTT \n",
      " FFF FFT FTF FTT TFF TTF TTT\n",
      ",\n",
      " 000 00F 0FF 0T0 0TF 0TT FFF FTF TTF TTT \n",
      " 0FT 0TF FT0 T0F \n",
      " 0FF 0FT 0TF 0TT FFF FT0 FTF FTT T0F TFF TTF TTT\n",
      ",\n",
      " 000 00F 0FF 0T0 0TF 0TT FFF FTF TTF TTT \n",
      " 000 00F 0FF 0T0 0TF 0TT FFF FTF TTF TTT \n",
      " 000 00F 0FF 0T0 0TF 0TT FFF FTF FTT TFF TTF TTT\n",
      ",\n",
      " 000 00F 0FF 0T0 0TF 0TT FFF FTF TTF TTT \n",
      " 000 0FF 0TF 0TT FFF TTT \n",
      " 000 00F 0FF 0T0 0TF 0TT FFF FTF FTT TFF TTF TTT\n",
      ",\n",
      " 000 00F 0FF 0T0 0TF 0TT FFF FTF TTF TTT \n",
      " FFF FFT FTF FTT TFF TFT TTF TTT \n",
      " FFF FFT FTF FTT TFF TFT TTF TTT"
     ]
    }
   ],
   "source": [
    "SUMSUM Idempotent? : Identity?\n",
    ",\n",
    "SUMSUM Idempotent? : Constant? \n",
    ",\n",
    "SUMSUM Idempotent? : Unit?\n",
    ",\n",
    "SUMSUM Idempotent? : Inner?\n",
    ",\n",
    "SUMSUM Idempotent? : Involution?\n",
    ",\n",
    "SUMSUM Idempotent? : Idempotent?\n",
    ",\n",
    "SUMSUM Idempotent? : Space?\n",
    ",\n",
    "SUMSUM Idempotent? : Positive?"
   ]
  },
  {
   "cell_type": "code",
   "execution_count": 18,
   "id": "62e52098-e6e4-4ff1-a386-1fa5fa495fe1",
   "metadata": {
    "collapsed": true,
    "jupyter": {
     "outputs_hidden": true,
     "source_hidden": true
    },
    "tags": []
   },
   "outputs": [
    {
     "name": "stdout",
     "output_type": "stream",
     "text": [
      " 000 0FF 0TF 0TT FFF TTT \n",
      " 0TF \n",
      " 0FF 0TF 0TT FFF TTT\n",
      ",\n",
      " 000 0FF 0TF 0TT FFF TTT \n",
      " 000 FFF TTT \n",
      " 000 0FF 0TF 0TT FFF FTF FTT TFF TTF TTT\n",
      ",\n",
      " 000 0FF 0TF 0TT FFF TTT \n",
      " 0FT 0TF F0T FT0 T0F TF0 \n",
      " 0FF 0FT 0TF 0TT F0T FFF FT0 FTF FTT T0F TF0 TFF TTF TTT\n",
      ",\n",
      " 000 0FF 0TF 0TT FFF TTT \n",
      " FFF FFT TTF TTT \n",
      " FFF FFT FTF FTT TFF TTF TTT\n",
      ",\n",
      " 000 0FF 0TF 0TT FFF TTT \n",
      " 0FT 0TF FT0 T0F \n",
      " 0FF 0FT 0TF 0TT FFF FT0 FTF FTT T0F TFF TTF TTT\n",
      ",\n",
      " 000 0FF 0TF 0TT FFF TTT \n",
      " 000 00F 0FF 0T0 0TF 0TT FFF FTF TTF TTT \n",
      " 000 00F 0FF 0T0 0TF 0TT FFF FTF FTT TFF TTF TTT\n",
      ",\n",
      " 000 0FF 0TF 0TT FFF TTT \n",
      " 000 0FF 0TF 0TT FFF TTT \n",
      " 000 0FF 0TF 0TT FFF FTF FTT TFF TTF TTT\n",
      ",\n",
      " 000 0FF 0TF 0TT FFF TTT \n",
      " FFF FFT FTF FTT TFF TFT TTF TTT \n",
      " FFF FFT FTF FTT TFF TFT TTF TTT"
     ]
    }
   ],
   "source": [
    "SUMSUM Space? : Identity?\n",
    ",\n",
    "SUMSUM Space? : Constant? \n",
    ",\n",
    "SUMSUM Space? : Unit?\n",
    ",\n",
    "SUMSUM Space? : Inner?\n",
    ",\n",
    "SUMSUM Space? : Involution?\n",
    ",\n",
    "SUMSUM Space? : Idempotent?\n",
    ",\n",
    "SUMSUM Space? : Space?\n",
    ",\n",
    "SUMSUM Space? : Positive?"
   ]
  },
  {
   "cell_type": "code",
   "execution_count": 19,
   "id": "4cf83238-f81e-41e4-bee1-e5186f335412",
   "metadata": {
    "collapsed": true,
    "jupyter": {
     "outputs_hidden": true,
     "source_hidden": true
    },
    "tags": []
   },
   "outputs": [
    {
     "name": "stdout",
     "output_type": "stream",
     "text": [
      " FFF FFT FTF FTT TFF TFT TTF TTT \n",
      " 0TF \n",
      " FFF FFT FTF FTT TFF TFT TTF TTT\n",
      ",\n",
      " FFF FFT FTF FTT TFF TFT TTF TTT \n",
      " 000 FFF TTT \n",
      " FFF FFT FTF FTT TFF TFT TTF TTT\n",
      ",\n",
      " FFF FFT FTF FTT TFF TFT TTF TTT \n",
      " 0FT 0TF F0T FT0 T0F TF0 \n",
      " FFF FFT FTF FTT TFF TFT TTF TTT\n",
      ",\n",
      " FFF FFT FTF FTT TFF TFT TTF TTT \n",
      " FFF FFT TTF TTT \n",
      " FFF FFT FTF FTT TFF TFT TTF TTT\n",
      ",\n",
      " FFF FFT FTF FTT TFF TFT TTF TTT \n",
      " 0FT 0TF FT0 T0F \n",
      " FFF FFT FTF FTT TFF TFT TTF TTT\n",
      ",\n",
      " FFF FFT FTF FTT TFF TFT TTF TTT \n",
      " 000 00F 0FF 0T0 0TF 0TT FFF FTF TTF TTT \n",
      " FFF FFT FTF FTT TFF TFT TTF TTT\n",
      ",\n",
      " FFF FFT FTF FTT TFF TFT TTF TTT \n",
      " 000 0FF 0TF 0TT FFF TTT \n",
      " FFF FFT FTF FTT TFF TFT TTF TTT\n",
      ",\n",
      " FFF FFT FTF FTT TFF TFT TTF TTT \n",
      " FFF FFT FTF FTT TFF TFT TTF TTT \n",
      " FFF FFT FTF FTT TFF TFT TTF TTT"
     ]
    }
   ],
   "source": [
    "SUMSUM Positive? : Identity?\n",
    ",\n",
    "SUMSUM Positive? : Constant? \n",
    ",\n",
    "SUMSUM Positive? : Unit?\n",
    ",\n",
    "SUMSUM Positive? : Inner?\n",
    ",\n",
    "SUMSUM Positive? : Involution?\n",
    ",\n",
    "SUMSUM Positive? : Idempotent?\n",
    ",\n",
    "SUMSUM Positive? : Space?\n",
    ",\n",
    "SUMSUM Positive? : Positive?"
   ]
  },
  {
   "cell_type": "code",
   "execution_count": null,
   "id": "79629bca-5924-4a6d-8f9c-eb6be165a29b",
   "metadata": {},
   "outputs": [],
   "source": []
  },
  {
   "cell_type": "markdown",
   "id": "48bab4b1-214e-433f-a0d4-bed1853e4184",
   "metadata": {},
   "source": [
    "We have identified collections from Endomorphism of L1 \n",
    "\n",
    "* All Endomorphism 27 \n",
    "* Constants 3 \n",
    "* Involutions 4\n",
    "* Inner Endomorphism 4 \n",
    "* Idempotents 10 \n",
    "* Space Endomorphism 6 \n",
    "\n",
    "Does every endomorphism commute with a space? "
   ]
  }
 ],
 "metadata": {
  "kernelspec": {
   "display_name": "coda",
   "language": "",
   "name": "coda"
  },
  "language_info": {
   "file_extension": ".co",
   "mimetype": "text/plain",
   "name": "Any text"
  }
 },
 "nbformat": 4,
 "nbformat_minor": 5
}
