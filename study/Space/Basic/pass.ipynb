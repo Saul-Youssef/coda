{
 "cells": [
  {
   "cell_type": "markdown",
   "id": "c67da1be-d0dc-4e11-ba01-61f59c58333c",
   "metadata": {},
   "source": [
    "## Basic spaces\n",
    "\n",
    "| Space | Elements | Operation | Space | Simple | Idempotent | Distributive | Distributive 2 | Commutative | Involution | Nilpotent | Semilattice | \n",
    "|-------|----------|-----------|-----:|-------:|-----------:|-------------:|--------:|------------:|-----------:|----------:|---------:|\n",
    "| pass | all data | do nothing | Y | Y | Y | Y | Y | N | Y | N | x |\n",
    "| null | () | empty | Y | Y | Y | Y | Y | Y | N | Y | x |"
   ]
  },
  {
   "cell_type": "code",
   "execution_count": 1,
   "id": "c3af768a-daa4-479c-a07e-7b4198f77de0",
   "metadata": {
    "tags": []
   },
   "outputs": [
    {
     "name": "stdout",
     "output_type": "stream",
     "text": []
    }
   ],
   "source": [
    "import : dir co : up : ."
   ]
  },
  {
   "cell_type": "code",
   "execution_count": 2,
   "id": "d2f0b69c-d3f6-40ee-b6f8-e5c8b6e402d4",
   "metadata": {},
   "outputs": [
    {
     "name": "stdout",
     "output_type": "stream",
     "text": [
      "0\n",
      "0\n",
      "0\n",
      "0\n",
      "4032\n",
      "0\n",
      "64\n",
      "64"
     ]
    }
   ],
   "source": [
    "count : theorem (simple:        pass) : S2?\n",
    "count : theorem (idempotent:    pass) : S2?\n",
    "count : theorem (distributive:  pass) : S2?\n",
    "count : theorem (distributive2: pass) : S2?\n",
    "count : theorem (commutative:   pass) : S2? \n",
    "count : theorem (involution:    pass) : S2? \n",
    "count : theorem (nilpotent:     pass) : S2? \n",
    "count : theorem (semilattice:   pass) : S2? "
   ]
  },
  {
   "cell_type": "code",
   "execution_count": 3,
   "id": "d5c5c04c-69e7-4874-af44-17faee9d6ebe",
   "metadata": {},
   "outputs": [
    {
     "name": "stdout",
     "output_type": "stream",
     "text": [
      "0\n",
      "0\n",
      "0\n",
      "0\n",
      "0\n",
      "64\n",
      "0\n",
      "0"
     ]
    }
   ],
   "source": [
    "count : theorem (simple:        null) : S2?\n",
    "count : theorem (idempotent:    null) : S2?\n",
    "count : theorem (distributive:  null) : S2?\n",
    "count : theorem (distributive2: null) : S2?\n",
    "count : theorem (commutative:   null) : S2? \n",
    "count : theorem (involution:    null) : S2? \n",
    "count : theorem (nilpotent:     null) : S2? \n",
    "count : theorem (semilattice:   null) : S2? "
   ]
  }
 ],
 "metadata": {
  "kernelspec": {
   "display_name": "coda",
   "language": "",
   "name": "coda"
  },
  "language_info": {
   "file_extension": ".co",
   "mimetype": "text/plain",
   "name": "Any text"
  }
 },
 "nbformat": 4,
 "nbformat_minor": 5
}
