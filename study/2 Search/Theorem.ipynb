{
 "cells": [
  {
   "cell_type": "markdown",
   "id": "324b617e-c33f-474f-b56c-3a9c7a82b0be",
   "metadata": {},
   "source": [
    "## Basic Exploration\n",
    "\n",
    "From the Logic tutorial, it is familiar that all data has a truth value.  Empty data is, by definition, **true** and atomic data is, by definition, **false**.  Data can also be in between, for instance, assuming that x has not been defined, then (x:) (same as x?) is **undefined** data.  Mathematical propositions which may be true or false are all data, then.  For instance\n",
    "\n",
    "1. not : skip x? : nat : 0 *There are an infinite number of natural numbers.*\n",
    "2. (rev : rev : x?) = x? *Reversing the order of x? twice is the identity.* \n",
    "3. null:x? = () \n",
    "\n",
    "are the propositions 1) there are an infinite number of natural numbers and 2) reversing the order of anything twice does nothing, 3) null applied to any data gives the empty data.  Since nat:0 are the natural numbers, skip x? : nat : 0 is atomic no matter what x? is, so not:skip x?:nat:0 is always empty.  The characteristic of this data is that they are \"never false\", meaning they are false no matter what definition of x? is chosen.  We say that data T is a **theorem** if T is never false.\n",
    "\n",
    "   The most direct way to prove that data T is a theorem is to construct a sequence T=T$_{1}$,T$_{2}$,T$_{3}$...T$_{n}$=() where each step in the sequence is the application of a definition.  Here, we take a less ambitious approach where we test whether T is never false by assigning the undefined data in T to various permutations of data from chosen samples.  If we manage to make T false with any assignment, we can conclude that T is not a theorem. \n",
    "   \n",
    "We explore how to do this below. "
   ]
  },
  {
   "cell_type": "code",
   "execution_count": 12,
   "id": "e80bf24c-527e-4bda-82b2-90c64fa0e0cf",
   "metadata": {},
   "outputs": [
    {
     "name": "stdout",
     "output_type": "stream",
     "text": [
      "◎ (:◎) (:◎ ◎) (:◎ ◎ ◎) (:◎ ◎ ◎ ◎)"
     ]
    }
   ],
   "source": [
    "#\n",
    "#   For a first example, consider T.  This is a claim that all data are <= 10 atoms in length. \n",
    "#   This is obviously false, but let's pretend we are investigating it as a possible theorem.\n",
    "#\n",
    "Let T : (x?=(first 10:x?)) \n",
    "#\n",
    "#    We can test with respect to any input data.  Let's choose, for example, sequences of odd atoms.\n",
    "#    Note that since the input is a collection of data, each data is delivered (:D_1) (:D_2),...\n",
    "#\n",
    "sample.atom : 5"
   ]
  },
  {
   "cell_type": "code",
   "execution_count": 13,
   "id": "1531d596-076f-4a7a-80ba-f3b79a72dc40",
   "metadata": {},
   "outputs": [
    {
     "name": "stdout",
     "output_type": "stream",
     "text": []
    }
   ],
   "source": [
    "#\n",
    "#    To test if T is a theorem with respect to sample.odd : 5, simply do:\n",
    "#\n",
    "theorem T? : sample.atom : 6"
   ]
  },
  {
   "cell_type": "code",
   "execution_count": 14,
   "id": "6bce88a7-bbd1-4ae4-9411-c9ac477b98e1",
   "metadata": {},
   "outputs": [
    {
     "name": "stdout",
     "output_type": "stream",
     "text": [
      "8 |\n",
      "9 |\n",
      "10 |\n",
      "11 |\n",
      "12 | ◎\n",
      "13 | ◎"
     ]
    }
   ],
   "source": [
    "#\n",
    "#  Of course, this fails if we test with more than 10 atoms, and thus, we conclude that T is not a theorem.\n",
    "#\n",
    "pre 8 | : bool: theorem T? : sample.atom : 8 \n",
    "pre 9 | : bool: theorem T? : sample.atom : 9 \n",
    "pre 10 | : bool: theorem T? : sample.atom : 10 \n",
    "pre 11 | : bool: theorem T? : sample.atom : 11\n",
    "pre 12 | : bool: theorem T? : sample.atom : 12 \n",
    "pre 13 | : bool: theorem T? : sample.atom : 13"
   ]
  },
  {
   "cell_type": "code",
   "execution_count": 15,
   "id": "d029028a-bd31-4ada-9e0f-312aaa44e298",
   "metadata": {},
   "outputs": [
    {
     "name": "stdout",
     "output_type": "stream",
     "text": [
      "1 |\n",
      "2 | ◎\n",
      "3 |"
     ]
    }
   ],
   "source": [
    "#\n",
    "#   Let's consider another toy problem, T2: (x? y?)=(y? x?).  This is also, obviously not a theorem.  Here we test \n",
    "#   using sample.atom:5 and hand constructed data (a a), (a), and (a b).  \n",
    "#\n",
    "Let T2 : (x? y?)=(y? x?)\n",
    "\n",
    "pre 1 | : bool : theorem T2? : (:a a) (:a) \n",
    "pre 2 | : bool : theorem T2? :  (:a a) (:a b) \n",
    "pre 3 | : bool: theorem T2? : sample.atom : 5 \n",
    "#\n",
    "#   In the first and the third test, all atoms are the same, and T2 is true.  In the second case, however, \n",
    "#   the theorem fails. \n",
    "#"
   ]
  },
  {
   "cell_type": "code",
   "execution_count": 16,
   "id": "13f3166f-5ee9-48d4-8e0b-181b8ecd75c4",
   "metadata": {},
   "outputs": [
    {
     "name": "stdout",
     "output_type": "stream",
     "text": [
      "(with (def x:{A} a) (def y:{A} a):(= (x:) (y:):(y:) (x:))) (with (def x:{A} a) (def y:{A} b):(= (x:) (y:):(y:) (x:))) (with (def x:{A} b) (def y:{A} a):(= (x:) (y:):(y:) (x:))) (with (def x:{A} b) (def y:{A} b):(= (x:) (y:):(y:) (x:)))"
     ]
    }
   ],
   "source": [
    "#\n",
    "#    To see details, we can look at individual cases of the theorem computation.\n",
    "#\n",
    "#    Each case is a \"with\", making a new scope and an assignment to x? and y? from one of the inputs, \n",
    "#    trying all combinations.  For each of these withs, the left side has an assignment to x? and y? \n",
    "#    and the right side has the potential theorem (x? y?)=(y? x?).  \n",
    "#\n",
    "cases T2? : (:a) (:b)"
   ]
  },
  {
   "cell_type": "code",
   "execution_count": 17,
   "id": "492ac935-079a-4099-a913-3ce826feb55e",
   "metadata": {},
   "outputs": [
    {
     "name": "stdout",
     "output_type": "stream",
     "text": [
      "(with (def x:{A} a) (def y:{A} a):) (with (def x:{A} a) (def y:{A} b):◎ ◎ ◎ ◎) (with (def x:{A} b) (def y:{A} a):◎ ◎ ◎ ◎) (with (def x:{A} b) (def y:{A} b):)"
     ]
    }
   ],
   "source": [
    "#\n",
    "#    To perform the test, evaluate the above cell.  The answers appear on the right hand side of each.\n",
    "#\n",
    "eval : cases T2? : (:a) (:b)"
   ]
  },
  {
   "cell_type": "code",
   "execution_count": 18,
   "id": "dcc4781a-e4c3-43e1-ad71-5b1a24c8cd99",
   "metadata": {},
   "outputs": [
    {
     "name": "stdout",
     "output_type": "stream",
     "text": [
      "◎ ◎ ◎ ◎ ◎ ◎ ◎ ◎\n",
      "0 4 4 0"
     ]
    }
   ],
   "source": [
    "#\n",
    "#   We can get the answers with \"right\" or \"get with\".  To display the results more clearly, the \n",
    "#   second line counts the right hand side of each, so 0-true, >0-false. \n",
    "#\n",
    "right : eval : cases T2? : (:a) (:b)\n",
    "ap {count:right:B} : eval : cases T2? : (:a) (:b)"
   ]
  },
  {
   "cell_type": "markdown",
   "id": "27dad5ca-24e2-4e39-b801-3d8a273cc2f5",
   "metadata": {},
   "source": [
    "## Theorems that barely make it\n",
    "\n",
    "Now we come to a more subtle phenomena.  Consider the data \n",
    "\n",
    "* (rev : rev : x?) = x?\n",
    "\n",
    "where \"rev\" reverses order. Is this a theorem?  Let's explore..."
   ]
  },
  {
   "cell_type": "code",
   "execution_count": 19,
   "id": "d332222a-4c29-4189-864d-a9eb16a11479",
   "metadata": {},
   "outputs": [
    {
     "name": "stdout",
     "output_type": "stream",
     "text": []
    }
   ],
   "source": [
    "Let T3 : (rev : rev : x?) = x?"
   ]
  },
  {
   "cell_type": "code",
   "execution_count": 20,
   "id": "1fc29733-2be2-438f-8564-7079510e0e42",
   "metadata": {},
   "outputs": [
    {
     "name": "stdout",
     "output_type": "stream",
     "text": []
    }
   ],
   "source": [
    "# \n",
    "#   As you might expect, this is a theorem for finite atomic data. \n",
    "#\n",
    "theorem T3? : sample.atom : 10 "
   ]
  },
  {
   "cell_type": "code",
   "execution_count": 21,
   "id": "750aa345-3144-4e45-978f-4f4f6bd0d3b3",
   "metadata": {},
   "outputs": [
    {
     "name": "stdout",
     "output_type": "stream",
     "text": [
      "0 1 2 3 4 5 6 7 8 9 10 11 12 13 14 15 16 17 18 19 20 21 22 23 24 25 26 27 28 29 30 31 32 33 34 35 36 37 38 39 40 41 42 43 44 45 46 47 48 49 50 51 52 53 54 55 56 57 58 59 60 61 62 63 64 65 66 67 68 69 70 71 72 73 74 75 76 77 78 79 80 81 82 83 84 85 86 87 88 89 90 91 92 93 94 95 96 97 98 (nat:99)"
     ]
    }
   ],
   "source": [
    "#\n",
    "#....but what about an infinite sequence like the natural numbers: (nat:0) ? \n",
    "#\n",
    "nat:0"
   ]
  },
  {
   "cell_type": "code",
   "execution_count": 22,
   "id": "f82e43ce-a523-425a-998c-5e6bc291c77c",
   "metadata": {},
   "outputs": [
    {
     "name": "stdout",
     "output_type": "stream",
     "text": [
      "(get with:(ap eval1:(ap {with (right:B):A} (= (rev:(rev:(x:))):(x:)):(assign (= (rev:(rev:(x:))):(x:)):0 1 2 3 4 5 6 7 8 9 10 11 12 13 14 15 16 17 18 19 20 21 22 23 24 25 26 27 28 29 30 31 32 33 34 35 36 37 38 39 40 41 42 43 44 45 46 47 48 49 50 51 52 53 54 55 56 57 58 59 60 61 62 63 64 65 66 67 68 69 70 71 72 73 74 75 76 77 78 79 80 81 82 83 84 85 86 87 88 89 90 91 92 93 94 95 96 (nat:97)))) (ap eval1:(ap {with (right:B):A} (= (rev:(rev:(x:))):(x:)):)))"
     ]
    }
   ],
   "source": [
    "#\n",
    "#    If we do theorem T3? : nat : 0, the result doesn't resolve.\n",
    "#\n",
    "theorem T3? : nat:0"
   ]
  },
  {
   "cell_type": "code",
   "execution_count": 23,
   "id": "69668240-4dbb-4179-af30-7f1b6ac793cb",
   "metadata": {},
   "outputs": [
    {
     "name": "stdout",
     "output_type": "stream",
     "text": [
      "0 1 2 3 4 5 6 7 8 9 10 11 12 13 14 15 16 17 18 19 20 21 22 23 24 25 26 27 28 29 30 31 32 33 34 35 36 37 38 39 40 41 42 43 44 45 46 47 48 49 50 51 52 53 54 55 56 57 58 59 60 61 62 63 64 65 66 67 68 69 70 71 72 73 74 75 76 77 78 79 80 81 82 83 84 85 86 87 88 89 90 91 (rev:(rev:92)) (rev:(rev:(nat:93)))"
     ]
    }
   ],
   "source": [
    "#\n",
    "#    Computing rev:rev:nat:0 clarifies why  \n",
    "#\n",
    "rev : rev : nat : 0 "
   ]
  },
  {
   "cell_type": "code",
   "execution_count": 35,
   "id": "d6425a3d-c67b-49e8-b184-232fadf849ee",
   "metadata": {},
   "outputs": [
    {
     "name": "stdout",
     "output_type": "stream",
     "text": [
      "Apply Text Sequence Source Define Number Theorem Log Logic Basic IO Help Evaluate Collect  Path Variable Sample Language"
     ]
    }
   ],
   "source": [
    "once : module : defs:"
   ]
  },
  {
   "cell_type": "code",
   "execution_count": 36,
   "id": "76d21b4d-b0d9-4337-9091-b74fbec6a33d",
   "metadata": {},
   "outputs": [
    {
     "name": "stdout",
     "output_type": "stream",
     "text": [
      "rev first tail last skip rep nth1 once count nth pre post"
     ]
    }
   ],
   "source": [
    "defs : Sequence "
   ]
  },
  {
   "cell_type": "markdown",
   "id": "719c7fe9-8a99-4fd1-b446-a45afd4f98e3",
   "metadata": {
    "tags": []
   },
   "source": [
    "## Just barely theorems, and the axiom of choice\n",
    "\n",
    "It is clear that rev:rev:nat:0 is \"trying to be\" equal to nat:0, but, since rev:rev:nat:0 always ends with undecided data, we have \n",
    "\n",
    "1. rev:rev:nat:0 and nat:0 are **not** equal.\n",
    "2. Nevertheless, (rev:rev:nat:0)=(nat:0) **is** a theorem, since it is never false.\n",
    "3. (rev:rev:x?)=x? is a theorem in general.\n",
    "\n",
    "Note that this clarifies a global issue with math as we are proposing it.  We have only one axiom, so there is no issue about what are the correct axioms, whether to include the axiom of choice or not or whether more new axioms will someday be required.  We don't have any of these issues. The point, I think is that *all* \"just barely theorems\" like this one are fine to use in the sense that replacing (rev:rev:x?) with (x?) can never change the logical value of data.    "
   ]
  }
 ],
 "metadata": {
  "kernelspec": {
   "display_name": "coda",
   "language": "",
   "name": "coda"
  },
  "language_info": {
   "file_extension": ".co",
   "mimetype": "text/plain",
   "name": "Any text"
  }
 },
 "nbformat": 4,
 "nbformat_minor": 5
}
