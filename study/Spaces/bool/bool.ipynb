{
 "cells": [
  {
   "cell_type": "code",
   "execution_count": 1,
   "id": "44d3d6f1-da4b-46f9-a26c-3c4b84b80dc4",
   "metadata": {},
   "outputs": [
    {
     "name": "stdout",
     "output_type": "stream",
     "text": [
      "(defaultTime:100)"
     ]
    }
   ],
   "source": [
    "defaultTime:100"
   ]
  },
  {
   "cell_type": "code",
   "execution_count": 2,
   "id": "8b9d7252-1364-4b01-ba99-def2e971c1c2",
   "metadata": {},
   "outputs": [
    {
     "name": "stdout",
     "output_type": "stream",
     "text": []
    }
   ],
   "source": [
    "import : dir co : up : ."
   ]
  },
  {
   "cell_type": "code",
   "execution_count": 4,
   "id": "3cd9ae6f-b843-4de4-a284-30f4135a83cb",
   "metadata": {},
   "outputs": [
    {
     "name": "stdout",
     "output_type": "stream",
     "text": [
      "(bin:◎) (bin:) (bin:◎)"
     ]
    }
   ],
   "source": [
    "demo Up : 1 "
   ]
  },
  {
   "cell_type": "code",
   "execution_count": 5,
   "id": "04663bd7-e4e5-419f-8873-4902dad50a64",
   "metadata": {},
   "outputs": [
    {
     "name": "stdout",
     "output_type": "stream",
     "text": []
    }
   ],
   "source": [
    "#\n",
    "#   Boolean \"variables\" (b:) (b:(:)) \n",
    "#\n",
    "Def b : \n",
    "Def L : Up b : bool "
   ]
  },
  {
   "cell_type": "code",
   "execution_count": 6,
   "id": "da1acaa4-218b-4066-bb34-bdefabd2b23d",
   "metadata": {},
   "outputs": [
    {
     "name": "stdout",
     "output_type": "stream",
     "text": [
      "(b:◎) (b:) (b:) (b:◎) (b:◎)\n",
      "(b:◎) (b:) (b:) (b:◎) (b:◎)\n",
      "(b:◎) (b:) (b:) (b:◎) (b:◎)"
     ]
    }
   ],
   "source": [
    "#\n",
    "#   These three should be the same, since L is a space \n",
    "#\n",
    "L     : (b:x) (b:) zz (b:y) (b:y)\n",
    "L : L : (b:x) (b:) zz (b:y) (b:y)\n",
    "L : ( L : (b:x) (b:) zz ) ( L : (b:y) (b:y)) "
   ]
  },
  {
   "cell_type": "code",
   "execution_count": null,
   "id": "48747bc1-14bc-4c49-ab90-a2a7b4a14d85",
   "metadata": {},
   "outputs": [],
   "source": [
    "#\n",
    "#   End L) is the endomorphism L*B*L of L.\n",
    "#\n",
    "Def End : {prod (:L) (:B) (:L)} \n",
    "Def end : {prod (:L) (:(put b)*B*(get b)) (:L)} "
   ]
  },
  {
   "cell_type": "code",
   "execution_count": 7,
   "id": "64f5b2fa-f6a1-4181-8324-8371eabfa18a",
   "metadata": {},
   "outputs": [
    {
     "name": "stdout",
     "output_type": "stream",
     "text": []
    }
   ],
   "source": [
    "#\n",
    "#   E : X is the endomorphism L*X*L \n",
    "#   e : X is the endomorphism L*(put b)*X*(get b)*L \n",
    "#\n",
    "Def E : End L \n",
    "Def e : {End L : Down b : B}"
   ]
  },
  {
   "cell_type": "code",
   "execution_count": 9,
   "id": "e21ee54f-d04d-4bf9-a290-f5a443f9a0c0",
   "metadata": {},
   "outputs": [
    {
     "name": "stdout",
     "output_type": "stream",
     "text": [
      "(b:◎) (b:)\n",
      "(b:◎)"
     ]
    }
   ],
   "source": [
    "(E:rev) : (b:) (b:(:))\n",
    "(e:rev) : (b:) (b:(:))"
   ]
  },
  {
   "cell_type": "code",
   "execution_count": 10,
   "id": "58f4eb5e-6da2-4515-8975-813115960b8e",
   "metadata": {},
   "outputs": [
    {
     "name": "stdout",
     "output_type": "stream",
     "text": []
    }
   ],
   "source": [
    "Let Sample : (b:) (b:(:)) (b:(:)) (b:(:))"
   ]
  },
  {
   "cell_type": "code",
   "execution_count": 11,
   "id": "ca396c2d-3fd3-4465-af8c-09ba5b842dca",
   "metadata": {},
   "outputs": [
    {
     "name": "stdout",
     "output_type": "stream",
     "text": [
      "(b:◎) (b:◎) (b:◎) (b:)"
     ]
    }
   ],
   "source": [
    "(E:rev): Sample?"
   ]
  },
  {
   "cell_type": "code",
   "execution_count": 16,
   "id": "b0b12fc8-c432-4dd1-9475-99b17caff745",
   "metadata": {},
   "outputs": [
    {
     "name": "stdout",
     "output_type": "stream",
     "text": [
      "(b:◎)"
     ]
    }
   ],
   "source": [
    "(e:{...}): Sample?"
   ]
  },
  {
   "cell_type": "markdown",
   "id": "f4f2d2a0-4690-43a9-a51b-76e6aa6fed85",
   "metadata": {},
   "source": [
    "## What are the universal endomorphisms of L?"
   ]
  },
  {
   "cell_type": "code",
   "execution_count": null,
   "id": "df2adbf4-f2a5-4e74-96e5-eed789aa9c09",
   "metadata": {},
   "outputs": [],
   "source": []
  }
 ],
 "metadata": {
  "kernelspec": {
   "display_name": "coda",
   "language": "",
   "name": "coda"
  },
  "language_info": {
   "file_extension": ".co",
   "mimetype": "text/plain",
   "name": "Any text"
  }
 },
 "nbformat": 4,
 "nbformat_minor": 5
}
