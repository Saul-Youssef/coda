{
 "cells": [
  {
   "cell_type": "markdown",
   "id": "6d1c1948-6728-437b-b780-dcc413668b5a",
   "metadata": {},
   "source": [
    "We can search for *Algebraic* spaces and for *Algebraic data* (i.e. Mathematical data) related to some given space.  \n",
    "\n",
    "There is a big picture idea to realize.  The whole system that we are talking about, with all it's variation and subtlety is based on only one foundational concept: the finite sequence.  That means that if we find data A where A:X is independent of permutations of X, we have defined something with finite sequences that has transcended finite sequencing.  We all this kind of data *algebraic* or *mathematical* data.  \n",
    "\n",
    "Plan\n",
    "\n",
    "1. Search for algebraic spaces.\n",
    "2. Search for algebraic data related to chosen known spaces.\n"
   ]
  },
  {
   "cell_type": "markdown",
   "id": "d22e9c08-a12d-491a-92b6-aad0a6a4cbee",
   "metadata": {},
   "source": [
    "If U is a space, then \n",
    "\n",
    "1. U:X Y = U : Y X for all X,Y\n",
    "2. U:rev:X = U:X for all X \n",
    "3. U:perm:X = U:X for any permutation perm.\n",
    "\n",
    "are all equivalent. Thus, a search for data U such that U:rev:X = U:X will include all algebraic spaces."
   ]
  },
  {
   "cell_type": "code",
   "execution_count": 1,
   "id": "e3a26d3e-da5b-4173-97ad-13a73ffe74b3",
   "metadata": {},
   "outputs": [
    {
     "name": "stdout",
     "output_type": "stream",
     "text": [
      "(defaultTime:600)"
     ]
    }
   ],
   "source": [
    "defaultTime:600"
   ]
  },
  {
   "cell_type": "code",
   "execution_count": 2,
   "id": "0e714ce7-050d-4572-9faa-67b0573e6ead",
   "metadata": {},
   "outputs": [
    {
     "name": "stdout",
     "output_type": "stream",
     "text": []
    }
   ],
   "source": [
    "import : endswith Short.co : dir co : up : up : ."
   ]
  },
  {
   "cell_type": "code",
   "execution_count": 3,
   "id": "5016d173-9d3c-47fa-bdf7-5d01e06fbd00",
   "metadata": {},
   "outputs": [
    {
     "name": "stdout",
     "output_type": "stream",
     "text": []
    }
   ],
   "source": [
    "#\n",
    "#   AL1 A : B tests if A is algebraic on all inputs (:B1) (:B2) ...\n",
    "#\n",
    "Def AL0: {(A:get:B)=(A:rev:get:B)} "
   ]
  },
  {
   "cell_type": "code",
   "execution_count": 4,
   "id": "48c5bc6c-be87-4e75-812c-46da4f1659c2",
   "metadata": {},
   "outputs": [
    {
     "name": "stdout",
     "output_type": "stream",
     "text": []
    }
   ],
   "source": [
    "Def AL1 : {count : ap AL0 (get:A) : B} "
   ]
  },
  {
   "cell_type": "code",
   "execution_count": 5,
   "id": "4eefad89-10e2-4895-ab9a-bb06f1286a0f",
   "metadata": {},
   "outputs": [
    {
     "name": "stdout",
     "output_type": "stream",
     "text": [
      "0"
     ]
    }
   ],
   "source": [
    "AL1 (:rev) : (:b b b) (:b b) (:a a)"
   ]
  },
  {
   "cell_type": "code",
   "execution_count": 6,
   "id": "0ee43643-b129-466e-a66f-98c67ef01ca0",
   "metadata": {},
   "outputs": [
    {
     "name": "stdout",
     "output_type": "stream",
     "text": []
    }
   ],
   "source": [
    "Def AL2 : {(with (get:A) : AL1 A : B)} "
   ]
  },
  {
   "cell_type": "code",
   "execution_count": 7,
   "id": "3b5f2b9b-6a87-48df-afb3-e660ea1fa49e",
   "metadata": {},
   "outputs": [
    {
     "name": "stdout",
     "output_type": "stream",
     "text": [
      "(with rev:2)"
     ]
    }
   ],
   "source": [
    "do 100 : AL2 (:rev) : (:a a) (:b b) (:c c) (:d e)"
   ]
  },
  {
   "cell_type": "code",
   "execution_count": 8,
   "id": "81c8faae-708c-4798-9414-661894d5c792",
   "metadata": {},
   "outputs": [
    {
     "name": "stdout",
     "output_type": "stream",
     "text": [
      "(with rev:0) (with pass:0)"
     ]
    }
   ],
   "source": [
    "dom 100 : aq AL2 (:rev) (:pass) : (:a a) (:b b) (:c c c)"
   ]
  },
  {
   "cell_type": "code",
   "execution_count": 9,
   "id": "0afdd647-4351-4464-91b8-b56618272306",
   "metadata": {},
   "outputs": [
    {
     "name": "stdout",
     "output_type": "stream",
     "text": []
    }
   ],
   "source": [
    "Def ALG : {dom 100 : aq AL2 A : B} "
   ]
  },
  {
   "cell_type": "code",
   "execution_count": 10,
   "id": "b36c970a-8244-405e-ad29-a07c8eadac76",
   "metadata": {},
   "outputs": [
    {
     "name": "stdout",
     "output_type": "stream",
     "text": [
      "(with arg:0) (with bin:480) (with const:0) (with depth:0) (with domain:0) (with get:0) (with has:0) (with hasnt:480) (with if:480) (with is:0) (with isnt:480) (with left:0) (with nif:0) (with null:0) (with pass:480) (with plus:480) (with prod:480) (with put:480) (with right:480) (with star:480) (with sum:0)"
     ]
    }
   ],
   "source": [
    "ALG (ap put:defs:Basic) : permutation 3 : a b 1 2 0 "
   ]
  },
  {
   "cell_type": "code",
   "execution_count": 11,
   "id": "53fb097a-e82f-4585-a505-d85f53953001",
   "metadata": {},
   "outputs": [
    {
     "name": "stdout",
     "output_type": "stream",
     "text": [
      "𝟬 𝝞 .bool .equal .not .ab .ap .apby .aq .ar .as .co .ker .kernel .arg .bin .const .domain .get .has .hasnt .if .is .isnt .left .nif .null .pass .plus .prod .put .right .star .sum .by .count .first .head .last .nth .once .post .pre .rep .rev .skip .swap .tail .collect .equiv .nat .nat_max .nat_min .nat_prod .nat_sum .nats .ring .stick (◎:.as 𝟬) (◎:.as 𝝞) (◎:.as .as) (◎:.as (◎ ◎:)) (◎:.as (◎ ◎:◎)) (◎:.as (◎ ◎:◎ ◎)) (◎:(◎ ◎:) ◎) (◎:(◎ ◎:) (:◎)) (◎:(◎ ◎:) (:◎ ◎)) (◎:(◎ ◎:) 𝟬) (◎:(◎ ◎:) 𝝞) (◎:(◎ ◎:) .as) (◎:(◎ ◎:) (◎ ◎:)) (◎:(◎ ◎:) (◎ ◎:◎)) (◎:(◎ ◎:) (◎ ◎:◎ ◎)) (◎:(◎ ◎:◎) ◎) (◎:(◎ ◎:◎) (:◎)) (◎:(◎ ◎:◎) (:◎ ◎)) (◎:(◎ ◎:◎) 𝟬) (◎:(◎ ◎:◎) 𝝞) (◎:(◎ ◎:◎) .as) (◎:(◎ ◎:◎) (◎ ◎:)) (◎:(◎ ◎:◎) (◎ ◎:◎)) (◎:(◎ ◎:◎) (◎ ◎:◎ ◎)) (◎:(◎ ◎:◎ ◎) ◎) (◎:(◎ ◎:◎ ◎) (:◎)) (◎:(◎ ◎:◎ ◎) (:◎ ◎)) (◎:(◎ ◎:◎ ◎) 𝟬) (◎:(◎ ◎:◎ ◎) 𝝞) (◎:(◎ ◎:◎ ◎) .as) (◎:(◎ ◎:◎ ◎) (◎ ◎:)) (◎:(◎ ◎:◎ ◎) (◎ ◎:◎)) (◎:(◎ ◎:◎ ◎) (◎ ◎:◎ ◎))"
     ]
    }
   ],
   "source": [
    "ap {put (:):get :B} : sample.pure : 2 2 "
   ]
  },
  {
   "cell_type": "code",
   "execution_count": 12,
   "id": "809509b8-f45d-4a2a-93c3-5e8b54f069de",
   "metadata": {},
   "outputs": [
    {
     "name": "stdout",
     "output_type": "stream",
     "text": []
    }
   ],
   "source": [
    "Let SEARCH : (ap {put : put (:):get:B} : sample.pure : 2 2) "
   ]
  },
  {
   "cell_type": "code",
   "execution_count": 13,
   "id": "d1990799-368b-4dae-a5de-fa20891eed52",
   "metadata": {},
   "outputs": [
    {
     "name": "stdout",
     "output_type": "stream",
     "text": [
      "(:𝟬) (:𝝞) (:.bool) (:.equal) (:.not) (:.ab) (:.ap) (:.apby) (:.aq) (:.ar) (:.as) (:.co) (:.ker) (:.kernel) (:.arg) (:.bin) (:.const) (:.domain) (:.get) (:.has) (:.hasnt) (:.if) (:.is) (:.isnt) (:.left) (:.nif) (:.null) (:.pass) (:.plus) (:.prod) (:.put) (:.right) (:.star) (:.sum) (:.by) (:.count) (:.first) (:.head) (:.last) (:.nth) (:.once) (:.post) (:.pre) (:.rep) (:.rev) (:.skip) (:.swap) (:.tail) (:.collect) (:.equiv) (:.nat) (:.nat_max) (:.nat_min) (:.nat_prod) (:.nat_sum) (:.nats) (:.ring) (:.stick) (:(◎:.as 𝟬)) (:(◎:.as 𝝞)) (:(◎:.as .as)) (:(◎:.as (◎ ◎:))) (:(◎:.as (◎ ◎:◎))) (:(◎:.as (◎ ◎:◎ ◎))) (:(◎:(◎ ◎:) ◎)) (:(◎:(◎ ◎:) (:◎))) (:(◎:(◎ ◎:) (:◎ ◎))) (:(◎:(◎ ◎:) 𝟬)) (:(◎:(◎ ◎:) 𝝞)) (:(◎:(◎ ◎:) .as)) (:(◎:(◎ ◎:) (◎ ◎:))) (:(◎:(◎ ◎:) (◎ ◎:◎))) (:(◎:(◎ ◎:) (◎ ◎:◎ ◎))) (:(◎:(◎ ◎:◎) ◎)) (:(◎:(◎ ◎:◎) (:◎))) (:(◎:(◎ ◎:◎) (:◎ ◎))) (:(◎:(◎ ◎:◎) 𝟬)) (:(◎:(◎ ◎:◎) 𝝞)) (:(◎:(◎ ◎:◎) .as)) (:(◎:(◎ ◎:◎) (◎ ◎:))) (:(◎:(◎ ◎:◎) (◎ ◎:◎))) (:(◎:(◎ ◎:◎) (◎ ◎:◎ ◎))) (:(◎:(◎ ◎:◎ ◎) ◎)) (:(◎:(◎ ◎:◎ ◎) (:◎))) (:(◎:(◎ ◎:◎ ◎) (:◎ ◎))) (:(◎:(◎ ◎:◎ ◎) 𝟬)) (:(◎:(◎ ◎:◎ ◎) 𝝞)) (:(◎:(◎ ◎:◎ ◎) .as)) (:(◎:(◎ ◎:◎ ◎) (◎ ◎:))) (:(◎:(◎ ◎:◎ ◎) (◎ ◎:◎))) (:(◎:(◎ ◎:◎ ◎) (◎ ◎:◎ ◎)))"
     ]
    }
   ],
   "source": [
    "SEARCH?"
   ]
  },
  {
   "cell_type": "code",
   "execution_count": 14,
   "id": "c0684fef-b4cc-49dd-a2f0-992f3c9ba758",
   "metadata": {},
   "outputs": [
    {
     "name": "stdout",
     "output_type": "stream",
     "text": []
    }
   ],
   "source": [
    "write T1 100 : ALG SEARCH? : permutation 3 : a 0 1 (:)"
   ]
  },
  {
   "cell_type": "code",
   "execution_count": 15,
   "id": "a5d3a88a-6642-4564-9d09-85737f70ea9d",
   "metadata": {
    "tags": []
   },
   "outputs": [
    {
     "name": "stdout",
     "output_type": "stream",
     "text": [
      " (with .bool:0) \n",
      " (with .not:0) \n",
      " (with .aq:0) \n",
      " (with .ar:0) \n",
      " (with .ker:0) \n",
      " (with .kernel:0) \n",
      " (with .arg:0) \n",
      " (with .const:0) \n",
      " (with .domain:0) \n",
      " (with .get:0) \n",
      " (with .has:0) \n",
      " (with .is:0) \n",
      " (with .left:0) \n",
      " (with .nif:0) \n",
      " (with .null:0) \n",
      " (with .sum:0) \n",
      " (with .count:0) \n",
      " (with .head:0) \n",
      " (with .nth:0) \n",
      " (with .nat_max:0) \n",
      " (with .nat_min:0) \n",
      " (with .nat_prod:0) \n",
      " (with .nat_sum:0) \n",
      " (with .ring:0) \n",
      " (with .stick:0) \n"
     ]
    }
   ],
   "source": [
    "#\n",
    "#   We can see that the algebraic data in SEARCH consists of\n",
    "#   expected simple operations.\n",
    "#\n",
    "tab : ap {if ((right:B)=0):B} : read invariant : T1"
   ]
  },
  {
   "cell_type": "code",
   "execution_count": 16,
   "id": "185832c8-07f8-4660-b2e6-a6950ca860d5",
   "metadata": {},
   "outputs": [
    {
     "name": "stdout",
     "output_type": "stream",
     "text": [
      "Here we notice that if SEARCH doesn't begin with an atom, of course,\n",
      "(the result S:(◎ ◎ ◎:X is always undefined.))"
     ]
    }
   ],
   "source": [
    "Here we notice that if SEARCH doesn't begin with an atom, of course,\n",
    "the result S:rev:X=S:X is always undefined.  "
   ]
  },
  {
   "cell_type": "code",
   "execution_count": 17,
   "id": "4bf39510-8d9b-4332-9b75-8a5639944f0c",
   "metadata": {},
   "outputs": [
    {
     "name": "stdout",
     "output_type": "stream",
     "text": []
    }
   ],
   "source": [
    "Let SEARCH2 : ap {put : (arg:B) (get:right:B)} : ar bin (first 3: skip 3: defs:) : sample.pure : 3 2"
   ]
  },
  {
   "cell_type": "code",
   "execution_count": null,
   "id": "15c7c6a5-0f24-42d1-bb09-e3ec536f7a8e",
   "metadata": {},
   "outputs": [],
   "source": [
    "write T2 20000 : ALG SEARCH2? : permutation 3 : a 0 1 2 (:)"
   ]
  },
  {
   "cell_type": "code",
   "execution_count": null,
   "id": "085b289c-14a2-48bd-bf9f-35636041da9a",
   "metadata": {},
   "outputs": [],
   "source": []
  },
  {
   "cell_type": "code",
   "execution_count": null,
   "id": "0f38914a-9116-473c-9b6a-9f54a30cd0e7",
   "metadata": {},
   "outputs": [],
   "source": []
  }
 ],
 "metadata": {
  "kernelspec": {
   "display_name": "coda",
   "language": "",
   "name": "coda"
  },
  "language_info": {
   "file_extension": ".co",
   "mimetype": "text/plain",
   "name": "Any text"
  }
 },
 "nbformat": 4,
 "nbformat_minor": 5
}
