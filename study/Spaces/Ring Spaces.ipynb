{
 "cells": [
  {
   "cell_type": "code",
   "execution_count": 1,
   "id": "e2f31685-d03d-4276-9dd2-fc3fd72aff22",
   "metadata": {},
   "outputs": [
    {
     "name": "stdout",
     "output_type": "stream",
     "text": []
    }
   ],
   "source": [
    "def S1 : rep | "
   ]
  },
  {
   "cell_type": "code",
   "execution_count": 3,
   "id": "c2a14dd2-2d60-48f9-8b25-fa977b29167c",
   "metadata": {},
   "outputs": [
    {
     "name": "stdout",
     "output_type": "stream",
     "text": [
      "| | | |\n",
      "| | | |"
     ]
    }
   ],
   "source": [
    "S1 : (S1:a b c) (S1:a)\n",
    "S1 : a b c a "
   ]
  },
  {
   "cell_type": "code",
   "execution_count": 4,
   "id": "e76a877f-b0ad-4952-8a37-fdfc521fb629",
   "metadata": {},
   "outputs": [
    {
     "name": "stdout",
     "output_type": "stream",
     "text": []
    }
   ],
   "source": [
    "def S2 : ap ap2 "
   ]
  },
  {
   "cell_type": "code",
   "execution_count": 5,
   "id": "f5c01a7b-c350-4a39-b3f1-afbb36c391b1",
   "metadata": {},
   "outputs": [
    {
     "name": "stdout",
     "output_type": "stream",
     "text": []
    }
   ],
   "source": [
    "S2 : a b c "
   ]
  },
  {
   "cell_type": "code",
   "execution_count": 6,
   "id": "3624a714-4384-43a7-8d5c-3ce84fce063e",
   "metadata": {},
   "outputs": [
    {
     "name": "stdout",
     "output_type": "stream",
     "text": [
      "(1 2:a) (1 3:a) (1 2:b) (1 3:b) (1 2:c) (1 3:c)"
     ]
    }
   ],
   "source": [
    "S2 1 2 3 : a b c "
   ]
  },
  {
   "cell_type": "code",
   "execution_count": null,
   "id": "be377dce-cd8e-49db-9442-69656688f891",
   "metadata": {},
   "outputs": [],
   "source": []
  }
 ],
 "metadata": {
  "kernelspec": {
   "display_name": "coda",
   "language": "",
   "name": "coda"
  },
  "language_info": {
   "file_extension": ".co",
   "mimetype": "text/plain",
   "name": "Any text"
  }
 },
 "nbformat": 4,
 "nbformat_minor": 5
}
