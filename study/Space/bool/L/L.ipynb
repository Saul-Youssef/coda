{
 "cells": [
  {
   "cell_type": "markdown",
   "id": "c59dbb00-75da-4aa5-a588-bea5bf756ba3",
   "metadata": {},
   "source": [
    "## Boolean operators in general \n",
    "\n",
    "Operators from Seq b:bool to singletons.  \n",
    "Are there more endomorphisms than the eight pointed out in L4?"
   ]
  },
  {
   "cell_type": "code",
   "execution_count": 1,
   "id": "e9f72973-c70f-439a-8813-458e37a28dac",
   "metadata": {},
   "outputs": [
    {
     "name": "stdout",
     "output_type": "stream",
     "text": [
      "(defaultTime:5)"
     ]
    }
   ],
   "source": [
    "defaultTime:5"
   ]
  },
  {
   "cell_type": "code",
   "execution_count": 2,
   "id": "7890849c-4804-4bb6-8c06-2319afe8b2d8",
   "metadata": {},
   "outputs": [
    {
     "name": "stdout",
     "output_type": "stream",
     "text": []
    }
   ],
   "source": [
    "import : dir co : up : ."
   ]
  },
  {
   "cell_type": "code",
   "execution_count": 3,
   "id": "962bdaca-672c-44aa-9157-f1d40727759d",
   "metadata": {},
   "outputs": [
    {
     "name": "stdout",
     "output_type": "stream",
     "text": []
    }
   ],
   "source": [
    "#\n",
    "#  b is an atom to hold single boolean values \n",
    "#  L is the space of sequences of boolean values \n",
    "#  L is the space of sequences of boolean values\n",
    "#  (E:X) is an endomorphism of L \n",
    "#  (e:X) is the special case of an \"inner\" endomorphism of L \n",
    "#\n",
    "Def b:\n",
    "Def L : (Seq b : bool) \n",
    "Def E : {end L:B}\n",
    "Def e : {E:in b:B}"
   ]
  },
  {
   "cell_type": "code",
   "execution_count": 4,
   "id": "2b49d344-5845-4d4a-a201-7538f8e83121",
   "metadata": {},
   "outputs": [
    {
     "name": "stdout",
     "output_type": "stream",
     "text": [
      "(b:◎) (b:) (b:◎) (b:)\n",
      "(b:◎) (b:) (b:◎) (b:)\n",
      "(b:◎) (b:) (b:◎) (b:)"
     ]
    }
   ],
   "source": [
    "#\n",
    "#  L is the space of boolean values \n",
    "#\n",
    "L : (b:(:)) (b:) (b:(:)) (b:)\n",
    "L : L : (b:(:)) (b:) (b:(:)) (b:)\n",
    "L : (L: (b:(:))) (L : (b:) (b:(:)) (b:))"
   ]
  },
  {
   "cell_type": "code",
   "execution_count": 5,
   "id": "a08acb63-5298-4573-9f63-7348495e4478",
   "metadata": {},
   "outputs": [
    {
     "name": "stdout",
     "output_type": "stream",
     "text": []
    }
   ],
   "source": [
    "#\n",
    "#  We can enumerate the space up to a chosen width \n",
    "#\n",
    "Let L4 : aq permutation 0 1 2 3 : (b:) (b:(:)) "
   ]
  },
  {
   "cell_type": "code",
   "execution_count": 6,
   "id": "a414fb6e-5824-40b6-a6e3-d26ce50c55a4",
   "metadata": {},
   "outputs": [
    {
     "name": "stdout",
     "output_type": "stream",
     "text": [
      " ◎ \n",
      " (:(b:)) \n",
      " (:(b:◎)) \n",
      " (:(b:) (b:)) \n",
      " (:(b:) (b:◎)) \n",
      " (:(b:◎) (b:)) \n",
      " (:(b:◎) (b:◎)) \n",
      " (:(b:) (b:) (b:)) \n",
      " (:(b:) (b:) (b:◎)) \n",
      " (:(b:) (b:◎) (b:)) \n",
      " (:(b:) (b:◎) (b:◎)) \n",
      " (:(b:◎) (b:) (b:)) \n",
      " (:(b:◎) (b:) (b:◎)) \n",
      " (:(b:◎) (b:◎) (b:)) \n",
      " (:(b:◎) (b:◎) (b:◎)) \n"
     ]
    }
   ],
   "source": [
    "tab : L4?"
   ]
  },
  {
   "cell_type": "code",
   "execution_count": 7,
   "id": "c3393ac0-6aed-4309-bbc5-8cec145633e5",
   "metadata": {},
   "outputs": [
    {
     "name": "stdout",
     "output_type": "stream",
     "text": []
    }
   ],
   "source": [
    "Def TRUE  : (e:const)\n",
    "Def OR    : (e:{B=(:) (:)})\n",
    "Def XNOR  : (e:{B=(:)}) \n",
    "Def AND   : (e:bool)\n",
    "Def NAND  : (e:not)\n",
    "Def XOR   : (e:{B=(:)}) \n",
    "Def NOR   : (e:{(B=((:) (:)))}) \n",
    "Def FALSE : (e:const (:)) "
   ]
  },
  {
   "cell_type": "code",
   "execution_count": 14,
   "id": "73de14ef-c765-4300-a876-d6033125ea23",
   "metadata": {},
   "outputs": [
    {
     "name": "stdout",
     "output_type": "stream",
     "text": [
      "(b:◎) (b:◎) (b:) (b:◎) (b:) (b:) (b:◎) (b:◎) (b:) (b:) (b:◎) (b:) (b:◎) (b:◎) (b:◎)\n",
      "(b:◎) (b:◎) (b:) (b:◎) (b:) (b:) (b:◎) (b:◎) (b:) (b:) (b:◎) (b:) (b:◎) (b:◎) (b:◎)"
     ]
    }
   ],
   "source": [
    "spec XNOR : L4?\n",
    "spec XOR : L4?"
   ]
  },
  {
   "cell_type": "code",
   "execution_count": 8,
   "id": "93d3ded7-060a-4dbf-a87a-66fba0d9cbea",
   "metadata": {},
   "outputs": [
    {
     "name": "stdout",
     "output_type": "stream",
     "text": []
    }
   ],
   "source": [
    "Def spec : ap {A:get:B} "
   ]
  },
  {
   "cell_type": "code",
   "execution_count": 9,
   "id": "7f6dc575-caee-48d1-ab7f-7f68cee19754",
   "metadata": {},
   "outputs": [
    {
     "name": "stdout",
     "output_type": "stream",
     "text": [
      "(defaultTime:60)"
     ]
    }
   ],
   "source": [
    "defaultTime:60"
   ]
  },
  {
   "cell_type": "code",
   "execution_count": 10,
   "id": "75aea8c4-aeb8-48f3-a070-3765a3e9cb8b",
   "metadata": {
    "tags": []
   },
   "outputs": [
    {
     "name": "stdout",
     "output_type": "stream",
     "text": [
      "(b:) (b:) (b:) (b:) (b:) (b:) (b:) (b:) (b:) (b:) (b:) (b:) (b:) (b:) (b:)\n",
      "(b:◎) (b:◎) (b:◎) (b:◎) (b:◎) (b:◎) (b:) (b:◎) (b:◎) (b:◎) (b:) (b:◎) (b:) (b:) (b:◎)\n",
      "(b:◎) (b:◎) (b:) (b:◎) (b:) (b:) (b:◎) (b:◎) (b:) (b:) (b:◎) (b:) (b:◎) (b:◎) (b:◎)\n",
      "(b:) (b:) (b:◎) (b:) (b:◎) (b:◎) (b:◎) (b:) (b:◎) (b:◎) (b:◎) (b:◎) (b:◎) (b:◎) (b:◎)\n",
      "(b:◎) (b:◎) (b:) (b:◎) (b:) (b:) (b:) (b:◎) (b:) (b:) (b:) (b:) (b:) (b:) (b:)\n",
      "(b:◎) (b:◎) (b:) (b:◎) (b:) (b:) (b:◎) (b:◎) (b:) (b:) (b:◎) (b:) (b:◎) (b:◎) (b:◎)\n",
      "(b:◎) (b:◎) (b:◎) (b:◎) (b:◎) (b:◎) (b:) (b:◎) (b:◎) (b:◎) (b:) (b:◎) (b:) (b:) (b:◎)\n",
      "(b:◎) (b:◎) (b:◎) (b:◎) (b:◎) (b:◎) (b:◎) (b:◎) (b:◎) (b:◎) (b:◎) (b:◎) (b:◎) (b:◎) (b:◎)"
     ]
    }
   ],
   "source": [
    "#\n",
    "#   \"Truth table\" for the eight inner endomorphisms.\n",
    "#\n",
    "spec TRUE : L4?\n",
    "spec OR   : L4?\n",
    "spec XNOR : L4?\n",
    "spec AND  : L4?\n",
    "spec NAND : L4?\n",
    "spec XOR  : L4?\n",
    "spec NOR  : L4?\n",
    "spec FALSE: L4?\n",
    "\n",
    "Let endos : ap : TRUE OR XNOR AND NAND XOR NOR FALSE "
   ]
  },
  {
   "cell_type": "code",
   "execution_count": 11,
   "id": "5c01264a-9d4b-4820-a6f3-db04e4f020b4",
   "metadata": {},
   "outputs": [
    {
     "name": "stdout",
     "output_type": "stream",
     "text": [
      "(b:) (b:) (b:) (b:) (b:) (b:) (b:) (b:) (b:) (b:) (b:) (b:) (b:) (b:) (b:)\n",
      "(b:) (b:) (b:◎) (b:) (b:◎) (b:◎) (b:◎) (b:) (b:◎) (b:◎) (b:◎) (b:◎) (b:◎) (b:◎) (b:◎)\n",
      ",\n",
      "(b:) (b:) (b:) (b:) (b:) (b:) (b:) (b:) (b:) (b:) (b:) (b:) (b:) (b:) (b:)\n",
      "(b:) (b:) (b:) (b:) (b:) (b:) (b:) (b:) (b:) (b:) (b:) (b:) (b:) (b:) (b:)\n",
      ",\n",
      "(b:◎) (b:◎) (b:◎) (b:◎) (b:◎) (b:◎) (b:◎) (b:◎) (b:◎) (b:◎) (b:◎) (b:◎) (b:◎) (b:◎) (b:◎)\n",
      "(b:◎) (b:◎) (b:◎) (b:◎) (b:◎) (b:◎) (b:◎) (b:◎) (b:◎) (b:◎) (b:◎) (b:◎) (b:◎) (b:◎) (b:◎)\n",
      ",\n",
      "(b:◎) (b:◎) (b:◎) (b:◎) (b:◎) (b:◎) (b:◎) (b:◎) (b:◎) (b:◎) (b:◎) (b:◎) (b:◎) (b:◎) (b:◎)\n",
      "(b:) (b:) (b:) (b:) (b:) (b:) (b:◎) (b:) (b:) (b:) (b:◎) (b:) (b:◎) (b:◎) (b:)"
     ]
    }
   ],
   "source": [
    "#\n",
    "#    Check that TRUE and AND indeed commute on \n",
    "#    all elements of L\n",
    "#\n",
    "spec TRUE : L4?\n",
    "spec AND : L4?\n",
    ",\n",
    "spec (TRUE*AND) : L4?\n",
    "spec (AND*TRUE) : L4?\n",
    ",\n",
    "spec (OR*NOR) : L4?\n",
    "spec (NOR*OR) : L4?\n",
    ",\n",
    "spec (OR*XOR) : L4?\n",
    "spec (XOR*OR) : L4?"
   ]
  },
  {
   "cell_type": "code",
   "execution_count": 12,
   "id": "76f0c03c-b29b-4004-af57-f076e50aca23",
   "metadata": {},
   "outputs": [
    {
     "name": "stdout",
     "output_type": "stream",
     "text": [
      "\u001b[;1mcode:\u001b[0m\n",
      "    \u001b[34;7min\u001b[0m\n",
      "\u001b[;1mmodule:\u001b[0m\n",
      "    Apply\n",
      "\u001b[;1msummary:\u001b[0m\n",
      "    in A:B applies B to each A-atom contents\n",
      "\u001b[;1mdescription:\u001b[0m\n",
      "\u001b[;1mpath:\u001b[0m\n",
      "    /Users/youssef/coda/co/Apply.co\n",
      "\u001b[;1msource code:\u001b[0m\n",
      "    def in : {(put A) * B * (get A)}\n",
      "\u001b[;1mdemos:\u001b[0m\n",
      "    1. \u001b[35;4m(in bin : {B B}) : (bin:x) (bin:y)\u001b[0m\n",
      "    2. \u001b[35;4map (in bin : {B B}) : (bin:x) (bin:y)\u001b[0m\n"
     ]
    }
   ],
   "source": [
    "help : in"
   ]
  },
  {
   "cell_type": "code",
   "execution_count": null,
   "id": "01bca768-30de-4d91-9da9-035d8292d70c",
   "metadata": {},
   "outputs": [],
   "source": []
  }
 ],
 "metadata": {
  "kernelspec": {
   "display_name": "coda",
   "language": "",
   "name": "coda"
  },
  "language_info": {
   "file_extension": ".co",
   "mimetype": "text/plain",
   "name": "Any text"
  }
 },
 "nbformat": 4,
 "nbformat_minor": 5
}
