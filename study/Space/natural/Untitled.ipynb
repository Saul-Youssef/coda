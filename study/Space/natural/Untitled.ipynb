{
 "cells": [
  {
   "cell_type": "code",
   "execution_count": 1,
   "id": "a3559d7e-00cd-4963-ac8d-12a06b394ad8",
   "metadata": {},
   "outputs": [
    {
     "name": "stdout",
     "output_type": "stream",
     "text": []
    }
   ],
   "source": [
    "import : dir co : up : ."
   ]
  },
  {
   "cell_type": "code",
   "execution_count": 12,
   "id": "a892d8ec-fcfc-4052-a70c-f249a29edc17",
   "metadata": {},
   "outputs": [
    {
     "name": "stdout",
     "output_type": "stream",
     "text": [
      "(defaultTime:10)"
     ]
    }
   ],
   "source": [
    "defaultTime:10"
   ]
  },
  {
   "cell_type": "code",
   "execution_count": 4,
   "id": "ea94b024-131f-476e-939d-921c836024f8",
   "metadata": {},
   "outputs": [
    {
     "name": "stdout",
     "output_type": "stream",
     "text": [
      "1"
     ]
    }
   ],
   "source": [
    "default 1 : first : is 1 2 3 : a b "
   ]
  },
  {
   "cell_type": "code",
   "execution_count": 5,
   "id": "ec0dfce9-983b-4400-b3a2-e14ad29e9b33",
   "metadata": {},
   "outputs": [
    {
     "name": "stdout",
     "output_type": "stream",
     "text": []
    }
   ],
   "source": [
    "Def S : {default 1:first : is 1 2 3:B} "
   ]
  },
  {
   "cell_type": "code",
   "execution_count": 10,
   "id": "85d5f146-6143-43fc-ac61-836c07e39eae",
   "metadata": {},
   "outputs": [
    {
     "name": "stdout",
     "output_type": "stream",
     "text": [
      "1"
     ]
    }
   ],
   "source": [
    "S : S : 4"
   ]
  },
  {
   "cell_type": "code",
   "execution_count": 14,
   "id": "1fdd5e07-f89d-4058-8519-0e9d532da242",
   "metadata": {},
   "outputs": [
    {
     "name": "stdout",
     "output_type": "stream",
     "text": [
      "1"
     ]
    }
   ],
   "source": [
    "S : (S : 1 2) (S: 3)"
   ]
  },
  {
   "cell_type": "code",
   "execution_count": 15,
   "id": "d16f5661-1cd6-4521-9311-7bcbcb092395",
   "metadata": {},
   "outputs": [
    {
     "name": "stdout",
     "output_type": "stream",
     "text": [
      "1"
     ]
    }
   ],
   "source": [
    "S : (S:) (S:2)"
   ]
  },
  {
   "cell_type": "code",
   "execution_count": 16,
   "id": "c934d77d-6c1b-4790-b5b1-3526fb6ea720",
   "metadata": {},
   "outputs": [
    {
     "name": "stdout",
     "output_type": "stream",
     "text": [
      "2"
     ]
    }
   ],
   "source": [
    "S : 2"
   ]
  },
  {
   "cell_type": "code",
   "execution_count": 17,
   "id": "3c89b478-ccd6-46b4-9c76-f1efb9a8e073",
   "metadata": {},
   "outputs": [
    {
     "name": "stdout",
     "output_type": "stream",
     "text": []
    }
   ],
   "source": [
    "Def T : {first : is 1 2 3 : B} "
   ]
  },
  {
   "cell_type": "code",
   "execution_count": 19,
   "id": "5fae3d44-cdcd-4538-ae31-8e06a3392e05",
   "metadata": {},
   "outputs": [
    {
     "name": "stdout",
     "output_type": "stream",
     "text": []
    }
   ],
   "source": [
    "T : 44 "
   ]
  },
  {
   "cell_type": "code",
   "execution_count": null,
   "id": "fe7f470e-bc06-43ce-bfb4-e002a54dc418",
   "metadata": {},
   "outputs": [],
   "source": []
  }
 ],
 "metadata": {
  "kernelspec": {
   "display_name": "coda",
   "language": "",
   "name": "coda"
  },
  "language_info": {
   "file_extension": ".co",
   "mimetype": "text/plain",
   "name": "Any text"
  }
 },
 "nbformat": 4,
 "nbformat_minor": 5
}
