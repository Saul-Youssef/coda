{
 "cells": [
  {
   "cell_type": "code",
   "execution_count": 1,
   "id": "64ddc93e-09de-49bc-8e4e-94ab21b1d4c5",
   "metadata": {},
   "outputs": [
    {
     "name": "stdout",
     "output_type": "stream",
     "text": [
      "(defaultTime:1000)"
     ]
    }
   ],
   "source": [
    "defaultTime:1000"
   ]
  },
  {
   "cell_type": "code",
   "execution_count": 2,
   "id": "a274611e-c5e6-4fcc-ae01-c379a3ceb65e",
   "metadata": {},
   "outputs": [
    {
     "name": "stdout",
     "output_type": "stream",
     "text": []
    }
   ],
   "source": [
    "import : dir co : up : up : up : ."
   ]
  },
  {
   "cell_type": "code",
   "execution_count": null,
   "id": "81b25cc8-6fbb-4ff6-961b-058c1f5c9807",
   "metadata": {},
   "outputs": [],
   "source": [
    "out algebraic 3600 : dom 100 : property algebraic S7? : in : S6_algebraic_L3R3.can "
   ]
  },
  {
   "cell_type": "code",
   "execution_count": null,
   "id": "1c42f0c2-834e-4dce-b978-91e2ac3abfe7",
   "metadata": {},
   "outputs": [],
   "source": []
  }
 ],
 "metadata": {
  "kernelspec": {
   "display_name": "coda",
   "language": "",
   "name": "coda"
  },
  "language_info": {
   "file_extension": ".co",
   "mimetype": "text/plain",
   "name": "Any text"
  }
 },
 "nbformat": 4,
 "nbformat_minor": 5
}
