{
 "cells": [
  {
   "cell_type": "code",
   "execution_count": 1,
   "id": "862c6952-b54f-4873-9788-3a20024d36ed",
   "metadata": {},
   "outputs": [
    {
     "name": "stdout",
     "output_type": "stream",
     "text": [
      "4369"
     ]
    }
   ],
   "source": [
    "count : sample.pure : 3 2 "
   ]
  },
  {
   "cell_type": "code",
   "execution_count": null,
   "id": "dd38dcea-5f68-4a9b-8d11-2eece44ebce7",
   "metadata": {},
   "outputs": [],
   "source": []
  }
 ],
 "metadata": {
  "kernelspec": {
   "display_name": "coda",
   "language": "",
   "name": "coda"
  },
  "language_info": {
   "file_extension": ".co",
   "mimetype": "text/plain",
   "name": "Any text"
  }
 },
 "nbformat": 4,
 "nbformat_minor": 5
}
