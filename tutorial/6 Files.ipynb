{
 "cells": [
  {
   "cell_type": "markdown",
   "id": "f42511f5-b41f-421b-8101-2eb0c0aa37ed",
   "metadata": {},
   "source": [
    "## Reading and writing data to files"
   ]
  },
  {
   "cell_type": "code",
   "execution_count": 1,
   "id": "fe06d64b-ee94-4c2f-af6a-592f3e51f9d0",
   "metadata": {},
   "outputs": [
    {
     "name": "stdout",
     "output_type": "stream",
     "text": []
    }
   ],
   "source": [
    "out file1 : a b c "
   ]
  },
  {
   "cell_type": "code",
   "execution_count": 2,
   "id": "e7f88924-db3e-4620-a1ba-ef7c2814233e",
   "metadata": {},
   "outputs": [
    {
     "name": "stdout",
     "output_type": "stream",
     "text": [
      "a b c"
     ]
    }
   ],
   "source": [
    "in : file1 "
   ]
  },
  {
   "cell_type": "code",
   "execution_count": 3,
   "id": "236ae557-7898-4ed1-8c25-7d3f9b8d3283",
   "metadata": {},
   "outputs": [
    {
     "name": "stdout",
     "output_type": "stream",
     "text": []
    }
   ],
   "source": [
    "out file2 : a b c (defs:) (nat:0)"
   ]
  },
  {
   "cell_type": "code",
   "execution_count": 4,
   "id": "01c30ff1-e0b3-4e6d-94ed-3f0f4ba708a7",
   "metadata": {},
   "outputs": [
    {
     "name": "stdout",
     "output_type": "stream",
     "text": [
      "a b c ◎ 𝟬 𝝞 bool not = equal or and nor xor nand xnor iff imply some ap by aq pass null bin put get domain right left arg if nif prod sum collect use1 def nat code_sort ints int_sum int_prod int_sort int_min int_max int_inv int_div nats floats float_sum float_prod float_sort float_min float_max float_inv float_div multi eval1 with step readpath dir out in help sources demo info module defs language log logs log+ log- rev first tail last skip rep nth1 once count localdef coda source home codes digits letters printable alphabet allcodes pure wrap startswith endswith join split up1 down1 sample.even sample.odd sample.atom sample.pure sample.window sample.data permutation assign pause nth pre post import equiv let use Let Def eval down up while kernel ker pairs hasnt has isnt is nchar cases theorem co 0 1 2 3 4 5 6 7 8 9 10 11 12 13 14 15 16 17 18 19 20 21 22 23 24 25 26 27 28 29 30 31 32 33 34 35 36 37 38 39 40 41 42 43 44 45 46 47 48 49 50 51 52 53 54 55 56 57 58 59 60 61 62 63 64 65 66 67 68 69 70 71 72 73 74 75 76 77 78 79 80 81 82 83 84 85 86 87 88 89 90 91 (nat:92)"
     ]
    }
   ],
   "source": [
    "in : file2 "
   ]
  },
  {
   "cell_type": "markdown",
   "id": "fcaab325-2670-4c1a-a1ec-b68b751dd3c6",
   "metadata": {},
   "source": [
    "## Operations related to the operating system"
   ]
  },
  {
   "cell_type": "code",
   "execution_count": 5,
   "id": "5e3c39ae-edfe-499f-ab28-5023629ba822",
   "metadata": {},
   "outputs": [
    {
     "name": "stdout",
     "output_type": "stream",
     "text": [
      "/Users/youssef/coda/tutorial/7 Sample.ipynb /Users/youssef/coda/tutorial/file2 /Users/youssef/coda/tutorial/5 Equivalence.ipynb /Users/youssef/coda/tutorial/6 Files.ipynb /Users/youssef/coda/tutorial/2 Bits and bytes.ipynb /Users/youssef/coda/tutorial/TUTORIALS.md /Users/youssef/coda/tutorial/3 Logic.ipynb /Users/youssef/coda/tutorial/file1 /Users/youssef/coda/tutorial/9 Python.ipynb /Users/youssef/coda/tutorial/.ipynb_checkpoints /Users/youssef/coda/tutorial/4 Number.ipynb /Users/youssef/coda/tutorial/1 Language.ipynb"
     ]
    }
   ],
   "source": [
    "dir : ."
   ]
  },
  {
   "cell_type": "code",
   "execution_count": 6,
   "id": "d6aec8ac-c3e5-4409-aba7-dbe9e6ae65d1",
   "metadata": {},
   "outputs": [
    {
     "name": "stdout",
     "output_type": "stream",
     "text": [
      "/Users/youssef/.config /Users/youssef/Music /Users/youssef/Home /Users/youssef/.serverauth.4682 /Users/youssef/.condarc /Users/youssef/.serverauth.2984 /Users/youssef/.serverauth.489 /Users/youssef/.x2go /Users/youssef/.coda-sav /Users/youssef/.serverauth.361 /Users/youssef/.DS_Store /Users/youssef/.serverauth.366 /Users/youssef/.serverauth.1027 /Users/youssef/.CFUserTextEncoding /Users/youssef/.serverauth.3545 /Users/youssef/archive /Users/youssef/.serverauth.735 /Users/youssef/.xonshrc /Users/youssef/.serverauth.562 /Users/youssef/.bashrc /Users/youssef/.zshrc /Users/youssef/.serverauth.3790 /Users/youssef/.serverauth.3964 /Users/youssef/.Xresources /Users/youssef/Pictures /Users/youssef/.serverauth.4974 /Users/youssef/.atom /Users/youssef/.zprofile /Users/youssef/.serverauth.1467 /Users/youssef/.serverauth.3937 /Users/youssef/.serverauth.606 /Users/youssef/.serverauth.9521 /Users/youssef/.zsh_history /Users/youssef/.ipython /Users/youssef/Desktop /Users/youssef/Library /Users/youssef/.serverauth.630 /Users/youssef/coda.sav /Users/youssef/coda.new.1 /Users/youssef/.lesshst /Users/youssef/coda.sav.6 /Users/youssef/.serverauth.1942 /Users/youssef/.cups /Users/youssef/.coda /Users/youssef/.bash_sessions /Users/youssef/.serverauth.9766 /Users/youssef/.serverauth.470 /Users/youssef/.serverauth.828 /Users/youssef/Public /Users/youssef/.x2goclient /Users/youssef/.tcshrc /Users/youssef/work /Users/youssef/.anaconda /Users/youssef/.ssh /Users/youssef/Movies /Users/youssef/Applications /Users/youssef/.serverauth.955 /Users/youssef/.serverauth.532 /Users/youssef/.serverauth.963 /Users/youssef/.Trash /Users/youssef/.serverauth.521 /Users/youssef/.jupyter /Users/youssef/.serverauth.517 /Users/youssef/.serverauth.2885 /Users/youssef/Documents /Users/youssef/.serverauth.48036 /Users/youssef/.bash_profile /Users/youssef/.Xauthority /Users/youssef/.serverauth.8911 /Users/youssef/Downloads /Users/youssef/.python_history /Users/youssef/tmp /Users/youssef/.continuum /Users/youssef/.cache /Users/youssef/.serverauth.7214 /Users/youssef/coda.sav.3 /Users/youssef/coda.sav.4 /Users/youssef/.serverauth.1940 /Users/youssef/coda /Users/youssef/.bash_history /Users/youssef/.viminfo /Users/youssef/.zsh_sessions /Users/youssef/.globus /Users/youssef/.serverauth.632 /Users/youssef/.conda /Users/youssef/coda.sav.5 /Users/youssef/.serverauth.659 /Users/youssef/.serverauth.5529 /Users/youssef/coda.sav.2"
     ]
    }
   ],
   "source": [
    "dir : ~"
   ]
  },
  {
   "cell_type": "code",
   "execution_count": null,
   "id": "c774515a-17ba-47ba-a3f4-1b5bc306dda1",
   "metadata": {},
   "outputs": [],
   "source": []
  }
 ],
 "metadata": {
  "kernelspec": {
   "display_name": "coda",
   "language": "",
   "name": "coda"
  },
  "language_info": {
   "file_extension": ".co",
   "mimetype": "text/plain",
   "name": "Any text"
  }
 },
 "nbformat": 4,
 "nbformat_minor": 5
}
