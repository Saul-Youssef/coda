{
 "cells": [
  {
   "cell_type": "markdown",
   "id": "fd70a2c8-fae9-4713-9def-2d95cfb3de76",
   "metadata": {},
   "source": [
    "## Peano numbers: Making a new type\n",
    "\n",
    "As an exercise, let's make a new type from scratch.  We'll make a native implementation of the natural numbers without using Python integers underneath.  The motivation for this is partly as an exercise and partly as a starting point for later demonstrations of proof and math searching.  \n",
    "\n",
    "In order for this type to be easily used and available as arguments to functors, we'll follow the conventions in Type.co.  That is, we aim to define \n",
    "\n",
    "* peano - the type name and also the container name\n",
    "* Make:peano - makes peano numbers from input \n",
    "* Sum:peano - sum peano numbers \n",
    "* Prod:peano - product of peano numbers \n",
    "* Sort:peano - sorts peano numbers \n",
    "* Term:peano - displays peano numbers \n",
    "* Equiv:peano - equivalence relation "
   ]
  },
  {
   "cell_type": "code",
   "execution_count": 1,
   "id": "5fa98b3c-75c0-4261-8504-5b79df1c39c5",
   "metadata": {},
   "outputs": [
    {
     "name": "stdout",
     "output_type": "stream",
     "text": []
    }
   ],
   "source": [
    "#\n",
    "#   First, define peano with def peano:.  This simply makes \n",
    "#   a definition (peano:<stuff>) -> (peano:<stuff>).  \n",
    "#   This means that (peano:<anything>) is an \"atom\".\n",
    "#\n",
    "def peano:"
   ]
  },
  {
   "cell_type": "code",
   "execution_count": 2,
   "id": "d0ac77e3-a3cc-4249-b091-55d610c24ded",
   "metadata": {},
   "outputs": [
    {
     "name": "stdout",
     "output_type": "stream",
     "text": [
      "| | |"
     ]
    }
   ],
   "source": [
    "#\n",
    "#   Instead of using python integers to store natural numbers, we'll \n",
    "#   us a sequence of (:) atoms, so that 3 is represented by | | |, etc.\n",
    "#\n",
    "#   (put:) makes (:) and rep makes one for each input.  This is the basis for \n",
    "#   the \"Make\" operation.\n",
    "#\n",
    "rep (put:) : a b c"
   ]
  },
  {
   "cell_type": "code",
   "execution_count": 3,
   "id": "2a4af059-71e7-41fb-96ff-4c44d5770d3f",
   "metadata": {},
   "outputs": [
    {
     "name": "stdout",
     "output_type": "stream",
     "text": []
    }
   ],
   "source": [
    "#\n",
    "#    The simplest version of a Make operation just recognizes peano integers made by hand.  \n",
    "#    We will elaborate this a bit later.\n",
    "#\n",
    "#\n",
    "let (Make:peano): {has A:B} "
   ]
  },
  {
   "cell_type": "code",
   "execution_count": 4,
   "id": "b9719632-1a9c-4713-9fcd-a79b87a910d5",
   "metadata": {},
   "outputs": [
    {
     "name": "stdout",
     "output_type": "stream",
     "text": [
      "(peano:| | |)"
     ]
    }
   ],
   "source": [
    "#\n",
    "#   We'll make a peano p? by hand and use the \n",
    "#   make operaion. \n",
    "#\n",
    "let p? : put peano : rep (put:) : a b c \n",
    "make peano : p? "
   ]
  },
  {
   "cell_type": "markdown",
   "id": "da211a08-81c6-41b8-9973-f001a16b5f7c",
   "metadata": {},
   "source": [
    "**peano** is meant to be a type in the coda sense. This means that the data `make peano` must be idempotent and distributive. Let's demonstrate this in a couple of cases. "
   ]
  },
  {
   "cell_type": "code",
   "execution_count": 5,
   "id": "a3f54990-ea24-47d0-a354-545995a47df1",
   "metadata": {},
   "outputs": [
    {
     "name": "stdout",
     "output_type": "stream",
     "text": [
      "(peano:| | |)"
     ]
    }
   ],
   "source": [
    "make peano : make peano : (make peano : p?)"
   ]
  },
  {
   "cell_type": "code",
   "execution_count": 6,
   "id": "612fea33-5bf1-418a-826e-2e34b507db4c",
   "metadata": {},
   "outputs": [
    {
     "name": "stdout",
     "output_type": "stream",
     "text": [
      "(peano:| | |) (peano:| | |) (peano:| | |)"
     ]
    }
   ],
   "source": [
    "make peano : p? p? p?"
   ]
  },
  {
   "cell_type": "markdown",
   "id": "bb6aac90-b8d0-426d-9511-eaf3de8c4a96",
   "metadata": {},
   "source": [
    "Now let's define summing peano integers to be concatenating contents.  Since a peano number is just a finite sequence of identical |, concatenation is both associative and abelian.  Here we are appealing to the foundation.  Finite sequences is the foundational concept in coda. "
   ]
  },
  {
   "cell_type": "code",
   "execution_count": 7,
   "id": "bf472f4e-c987-4b66-ae13-f479a6234007",
   "metadata": {},
   "outputs": [
    {
     "name": "stdout",
     "output_type": "stream",
     "text": []
    }
   ],
   "source": [
    "#\n",
    "#   In coda, it's most natural to define a sum of sequences \n",
    "#   rather than an equivalent binary operation.  The \n",
    "#   code for (Sum:peano) gets the contents of each peano \n",
    "#   input and makes one peano sum from the concatenation.\n",
    "#\n",
    "let (Sum:peano) : {put A : get A : B} "
   ]
  },
  {
   "cell_type": "code",
   "execution_count": 8,
   "id": "3005cfd1-e886-4d6e-a69c-423a95ba0cb5",
   "metadata": {},
   "outputs": [
    {
     "name": "stdout",
     "output_type": "stream",
     "text": [
      "(peano:| | |) (peano:| | | | |)"
     ]
    }
   ],
   "source": [
    "let 3? : put peano : rep (put:) : 1 2 3\n",
    "let 5? : put peano : rep (put:) : 1 2 3 4 5 \n",
    "3? 5?"
   ]
  },
  {
   "cell_type": "code",
   "execution_count": 9,
   "id": "456eaa98-9c1c-48e5-a944-e408157cb78e",
   "metadata": {},
   "outputs": [
    {
     "name": "stdout",
     "output_type": "stream",
     "text": [
      "(peano:| | | | | | | |)"
     ]
    }
   ],
   "source": [
    "sum peano : 3? 5?"
   ]
  },
  {
   "cell_type": "code",
   "execution_count": 10,
   "id": "0cc76d43-e688-4d8b-840f-b9d557ebf42c",
   "metadata": {},
   "outputs": [
    {
     "name": "stdout",
     "output_type": "stream",
     "text": []
    }
   ],
   "source": [
    "#\n",
    "#   Check that this is abelian \n",
    "#\n",
    "sum peano : 3? 5? = sum peano : 5? 3? "
   ]
  },
  {
   "cell_type": "code",
   "execution_count": 11,
   "id": "67a9d94e-682c-402e-ba38-2d4d28d2ed95",
   "metadata": {},
   "outputs": [
    {
     "name": "stdout",
     "output_type": "stream",
     "text": []
    }
   ],
   "source": [
    "#\n",
    "#   Let's define a nicer terminal display\n",
    "#\n",
    "let (Term:peano) : {ap {count : get A : B} A : B}  "
   ]
  },
  {
   "cell_type": "code",
   "execution_count": 12,
   "id": "dfb747cc-222c-423f-a119-a228cda050ef",
   "metadata": {},
   "outputs": [
    {
     "name": "stdout",
     "output_type": "stream",
     "text": [
      "8"
     ]
    }
   ],
   "source": [
    "term peano : sum peano : 3? 5? "
   ]
  },
  {
   "cell_type": "code",
   "execution_count": 13,
   "id": "1c47ddd3-1277-4971-b230-3a8a0f1f9840",
   "metadata": {},
   "outputs": [
    {
     "name": "stdout",
     "output_type": "stream",
     "text": []
    }
   ],
   "source": [
    "Copy peano : peano2 "
   ]
  },
  {
   "cell_type": "code",
   "execution_count": 16,
   "id": "2b1198e0-d557-401b-bc14-f9281eded350",
   "metadata": {},
   "outputs": [
    {
     "name": "stdout",
     "output_type": "stream",
     "text": [
      "| | | | | | | |"
     ]
    }
   ],
   "source": [
    "get peano : 3? 5?"
   ]
  },
  {
   "cell_type": "code",
   "execution_count": 18,
   "id": "5416096f-f2fc-4f04-b86f-4b9d2cc91373",
   "metadata": {},
   "outputs": [
    {
     "name": "stdout",
     "output_type": "stream",
     "text": [
      "| | | | | | | | | | | | | | |"
     ]
    }
   ],
   "source": [
    "apx pass (get peano:3?) : (get peano:5?) "
   ]
  },
  {
   "cell_type": "code",
   "execution_count": 27,
   "id": "9fd9be3f-87c2-41d5-98da-59eddafbbe2b",
   "metadata": {},
   "outputs": [
    {
     "name": "stdout",
     "output_type": "stream",
     "text": []
    }
   ],
   "source": [
    "def peano.prod : {apx pass (get peano:A) : (get peano:B)} "
   ]
  },
  {
   "cell_type": "code",
   "execution_count": 28,
   "id": "a26c5184-2a15-4bd1-b276-079737f76126",
   "metadata": {},
   "outputs": [
    {
     "name": "stdout",
     "output_type": "stream",
     "text": [
      "15"
     ]
    }
   ],
   "source": [
    "count : peano.prod 3? : 5?"
   ]
  },
  {
   "cell_type": "code",
   "execution_count": null,
   "id": "b0c4df83-1f06-42d8-8b20-c3e4eba6872e",
   "metadata": {},
   "outputs": [],
   "source": [
    "def "
   ]
  },
  {
   "cell_type": "code",
   "execution_count": 22,
   "id": "943a9415-d636-4fbb-a645-e741009385c4",
   "metadata": {},
   "outputs": [
    {
     "name": "stdout",
     "output_type": "stream",
     "text": []
    }
   ],
   "source": [
    "let (Prod:peano) : {put A : app product : B} "
   ]
  },
  {
   "cell_type": "code",
   "execution_count": 24,
   "id": "20278d6f-b6a9-4d53-87f5-ef23fc4b84e2",
   "metadata": {},
   "outputs": [
    {
     "name": "stdout",
     "output_type": "stream",
     "text": [
      "(peano:| | | | | | | | | | | | | | |)"
     ]
    }
   ],
   "source": [
    "(Prod:peano) peano : 3? 5?"
   ]
  },
  {
   "cell_type": "code",
   "execution_count": null,
   "id": "4201db78-b51c-4741-a873-c9527000f02f",
   "metadata": {},
   "outputs": [],
   "source": []
  }
 ],
 "metadata": {
  "kernelspec": {
   "display_name": "coda",
   "language": "",
   "name": "coda"
  },
  "language_info": {
   "file_extension": ".co",
   "mimetype": "text/plain",
   "name": "Any text"
  }
 },
 "nbformat": 4,
 "nbformat_minor": 5
}
