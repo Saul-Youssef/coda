{
 "cells": [
  {
   "cell_type": "markdown",
   "id": "d1d0a096-b749-4ca4-825b-7b3c6542af27",
   "metadata": {},
   "source": [
    "**Possibly Infinite Sequences**\n",
    "\n",
    "Here we introduce examples of possibly infinite sequences.  "
   ]
  },
  {
   "cell_type": "markdown",
   "id": "a39925e2-f169-4312-a062-9f3526c5c4b3",
   "metadata": {},
   "source": [
    "Any data S can be interpreted as a possibly infinite sequence defined by \n",
    "\n",
    "S:, S:S:, S:S:S:,...\n",
    "\n",
    "This is a bit more general than what is normally meant by a *sequence*.  Instead, if we define the sequence to append to what has been already computed.  Powers of app S does the trick, where \n",
    "\n",
    "def app : {B (A:B)}\n",
    "\n",
    "Examples follow. "
   ]
  },
  {
   "cell_type": "code",
   "execution_count": 10,
   "id": "cc606e50-5b9a-4837-ad48-af899cd7d80e",
   "metadata": {},
   "outputs": [
    {
     "name": "stdout",
     "output_type": "stream",
     "text": [
      "(defaultTime:100)"
     ]
    }
   ],
   "source": [
    "defaultTime:100"
   ]
  },
  {
   "cell_type": "code",
   "execution_count": 1,
   "id": "f569cdf3-ca20-4d0d-b2c9-86396fcf25e0",
   "metadata": {},
   "outputs": [
    {
     "name": "stdout",
     "output_type": "stream",
     "text": []
    }
   ],
   "source": [
    "Def app : {B (A:B)}"
   ]
  },
  {
   "cell_type": "code",
   "execution_count": 3,
   "id": "3fb59378-3aa9-493a-a59c-f97409aa7a41",
   "metadata": {},
   "outputs": [
    {
     "name": "stdout",
     "output_type": "stream",
     "text": [
      "|"
     ]
    }
   ],
   "source": [
    "#\n",
    "#  Append a constant \n",
    "#\n",
    "app {|} : "
   ]
  },
  {
   "cell_type": "code",
   "execution_count": 4,
   "id": "b67a32a6-3f2a-4e7f-b0c5-09781486ffb3",
   "metadata": {},
   "outputs": [
    {
     "name": "stdout",
     "output_type": "stream",
     "text": [
      "| | |"
     ]
    }
   ],
   "source": [
    "app {|} : app {|} : app {|} :"
   ]
  },
  {
   "cell_type": "code",
   "execution_count": 5,
   "id": "a2559596-b5f8-4b57-9616-3ce9ca8c90cb",
   "metadata": {},
   "outputs": [
    {
     "name": "stdout",
     "output_type": "stream",
     "text": [
      "| | | | | |"
     ]
    }
   ],
   "source": [
    "pow 6 app {|} :"
   ]
  },
  {
   "cell_type": "code",
   "execution_count": 11,
   "id": "3c4bb781-0c42-4978-8be1-7b6dd2eba882",
   "metadata": {},
   "outputs": [
    {
     "name": "stdout",
     "output_type": "stream",
     "text": [
      "1 1 2 4 8 16 32"
     ]
    }
   ],
   "source": [
    "#\n",
    "#   Each number is the sum of the sequence up to that point \n",
    "#\n",
    "pow 6 app {nat_sum:B} : 1"
   ]
  },
  {
   "cell_type": "code",
   "execution_count": 12,
   "id": "daa365ce-e9f6-48e5-a232-5325d9fbcae4",
   "metadata": {},
   "outputs": [
    {
     "name": "stdout",
     "output_type": "stream",
     "text": [
      "0 1 2 3 4 5 6"
     ]
    }
   ],
   "source": [
    "#\n",
    "#   Each number is one more than the previous\n",
    "#\n",
    "pow 6 app {nat_sum:1 (last:B)} : 0"
   ]
  },
  {
   "cell_type": "code",
   "execution_count": 13,
   "id": "a2aaa25e-305a-4a3f-87b8-5cbdd926527a",
   "metadata": {},
   "outputs": [
    {
     "name": "stdout",
     "output_type": "stream",
     "text": [
      "1 1 2 3 5 8 13 21"
     ]
    }
   ],
   "source": [
    "#\n",
    "#   Fibbonacci sequence \n",
    "#\n",
    "pow 6 app {nat_sum:last 2:B} : 1 1 "
   ]
  },
  {
   "cell_type": "code",
   "execution_count": null,
   "id": "b8f2fe53-99a0-44e1-a0b3-d1691cd9283a",
   "metadata": {},
   "outputs": [],
   "source": []
  }
 ],
 "metadata": {
  "kernelspec": {
   "display_name": "coda",
   "language": "",
   "name": "coda"
  },
  "language_info": {
   "file_extension": ".co",
   "mimetype": "text/plain",
   "name": "Any text"
  }
 },
 "nbformat": 4,
 "nbformat_minor": 5
}
