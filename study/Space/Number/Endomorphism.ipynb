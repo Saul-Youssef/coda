{
 "cells": [
  {
   "cell_type": "markdown",
   "id": "46cd44b2-1e9d-4bfa-8869-6b49721d6060",
   "metadata": {},
   "source": [
    "## Endmorphism of n.sum \n",
    "\n",
    "Let's find some endomorphisms of natural number spaces, trying n.sum first, as an illustration of how this is done."
   ]
  },
  {
   "cell_type": "code",
   "execution_count": 1,
   "id": "573c747f-63a2-455a-96bc-da8255dfd875",
   "metadata": {},
   "outputs": [
    {
     "name": "stdout",
     "output_type": "stream",
     "text": []
    }
   ],
   "source": [
    "#\n",
    "#   Import common stuff including algebraic definitions and some generic data samples \n",
    "#\n",
    "import : dir co : up : ."
   ]
  },
  {
   "cell_type": "code",
   "execution_count": 2,
   "id": "bda42c60-f88f-4c55-b9eb-1ca1c9a70dcb",
   "metadata": {},
   "outputs": [
    {
     "name": "stdout",
     "output_type": "stream",
     "text": []
    }
   ],
   "source": [
    "Let Dom1 : (:(n:1)) (:(n:1) (n:2)) (:(n:1) (n:3) (n:45)) "
   ]
  },
  {
   "cell_type": "code",
   "execution_count": 3,
   "id": "328e7512-596e-4a1c-970d-37a1873dc92c",
   "metadata": {},
   "outputs": [
    {
     "name": "stdout",
     "output_type": "stream",
     "text": []
    }
   ],
   "source": [
    "Def endomorphism : {(A:n.sum:B)=(n.sum:A:B)} "
   ]
  },
  {
   "cell_type": "code",
   "execution_count": 4,
   "id": "b6408095-9c65-414d-b89f-e47411c377db",
   "metadata": {},
   "outputs": [
    {
     "name": "stdout",
     "output_type": "stream",
     "text": []
    }
   ],
   "source": [
    "#   Demo\n",
    "#\n",
    "#   F is an endomorphism of n.sum \n",
    "#   G is not an endomorphism \n",
    "#\n",
    "Def F : ap {put n:int_prod:2 B} * get n \n",
    "Def G : {B B}"
   ]
  },
  {
   "cell_type": "code",
   "execution_count": 5,
   "id": "1236d523-dd75-48ff-b777-0140c2a1fbfd",
   "metadata": {},
   "outputs": [
    {
     "name": "stdout",
     "output_type": "stream",
     "text": [
      "(n:6)\n",
      "(n:6)\n",
      "(n:3) (n:3)\n",
      "(n:6)"
     ]
    }
   ],
   "source": [
    "F : n.sum : (n:1) (n:2) \n",
    "n.sum : F : (n:1) (n:2)\n",
    "G : n.sum : (n:1) (n:2)\n",
    "n.sum : G : (n:1) (n:2)"
   ]
  },
  {
   "cell_type": "code",
   "execution_count": 6,
   "id": "19495302-09c0-434e-9c96-fec0cc0f8315",
   "metadata": {},
   "outputs": [
    {
     "name": "stdout",
     "output_type": "stream",
     "text": [
      "0\n",
      "3"
     ]
    }
   ],
   "source": [
    "count : endomorphism F : (n:1) (n:2)\n",
    "count : endomorphism G : (n:1) (n:2)"
   ]
  },
  {
   "cell_type": "code",
   "execution_count": 7,
   "id": "bdfc2361-4a79-4b58-bf44-85809fc13148",
   "metadata": {},
   "outputs": [
    {
     "name": "stdout",
     "output_type": "stream",
     "text": [
      "0\n",
      "1"
     ]
    }
   ],
   "source": [
    "count : theorem (endomorphism F:x?) : (:(n:1) (n:2))\n",
    "count : theorem (endomorphism G:x?) : (:(n:1) (n:2))"
   ]
  },
  {
   "cell_type": "code",
   "execution_count": 8,
   "id": "edad2295-ee42-4429-8bde-d424378277bf",
   "metadata": {},
   "outputs": [
    {
     "name": "stdout",
     "output_type": "stream",
     "text": [
      "0\n",
      "3"
     ]
    }
   ],
   "source": [
    "count : theorem (endomorphism F:x?) : Dom1?\n",
    "count : theorem (endomorphism G:x?) : Dom1?"
   ]
  },
  {
   "cell_type": "code",
   "execution_count": 9,
   "id": "e7389f27-9cbf-4e20-887f-915294dd96e7",
   "metadata": {},
   "outputs": [
    {
     "name": "stdout",
     "output_type": "stream",
     "text": [
      "0\n",
      "3"
     ]
    }
   ],
   "source": [
    "count : ap {endomorphism F:B} : Dom1?\n",
    "count : ap {endomorphism G:B} : Dom1?"
   ]
  },
  {
   "cell_type": "code",
   "execution_count": 10,
   "id": "00425fb0-1ab5-43e8-843e-0da8bb4affa2",
   "metadata": {},
   "outputs": [
    {
     "name": "stdout",
     "output_type": "stream",
     "text": []
    }
   ],
   "source": [
    "ap {endomorphism A:get:B} F : Dom1?"
   ]
  },
  {
   "cell_type": "code",
   "execution_count": 11,
   "id": "9bd53344-2bfe-414c-b461-280d0f0d0e19",
   "metadata": {},
   "outputs": [
    {
     "name": "stdout",
     "output_type": "stream",
     "text": []
    }
   ],
   "source": [
    "Def test : {ap {endomorphism A:get:B} A : B}"
   ]
  },
  {
   "cell_type": "code",
   "execution_count": 12,
   "id": "52571cc3-3b1a-4f1a-af81-ddc83993283e",
   "metadata": {},
   "outputs": [
    {
     "name": "stdout",
     "output_type": "stream",
     "text": [
      "0\n",
      "11"
     ]
    }
   ],
   "source": [
    "count : test F : Dom1?\n",
    "count : test G : Dom1?"
   ]
  },
  {
   "cell_type": "code",
   "execution_count": 13,
   "id": "faffa7a8-fecc-4400-88c0-27f6dad18e4e",
   "metadata": {},
   "outputs": [
    {
     "name": "stdout",
     "output_type": "stream",
     "text": [
      "(bin F:0) (bin G:11)"
     ]
    }
   ],
   "source": [
    "ap {bin (get:B) : count : test (get:B) :Dom1?} : (:F) (:G)"
   ]
  },
  {
   "cell_type": "code",
   "execution_count": 14,
   "id": "a8afe604-2d1a-47a9-ba5b-97a4d1894fc4",
   "metadata": {},
   "outputs": [
    {
     "name": "stdout",
     "output_type": "stream",
     "text": [
      "(bin F:0) (bin G:11)"
     ]
    }
   ],
   "source": [
    "ap {bin (get:B) : count : test (get:B) : A} Dom1? : (:F) (:G)"
   ]
  },
  {
   "cell_type": "code",
   "execution_count": 15,
   "id": "55540413-f9a9-48ca-9c8e-57a6cb173eb4",
   "metadata": {},
   "outputs": [
    {
     "name": "stdout",
     "output_type": "stream",
     "text": []
    }
   ],
   "source": [
    "Def Test : {ap {bin (get:B) : count : test (get:B) : A} A : B} "
   ]
  },
  {
   "cell_type": "code",
   "execution_count": 16,
   "id": "afc1e285-7127-471a-b075-cde1a7cbd2ff",
   "metadata": {},
   "outputs": [
    {
     "name": "stdout",
     "output_type": "stream",
     "text": [
      "(bin F:0) (bin G:11)"
     ]
    }
   ],
   "source": [
    "Test Dom1? : (:F) (:G)"
   ]
  },
  {
   "cell_type": "code",
   "execution_count": 17,
   "id": "547491b4-d613-425e-996a-c3b7f53013a6",
   "metadata": {},
   "outputs": [
    {
     "name": "stdout",
     "output_type": "stream",
     "text": [
      "(bin F:0) (bin G:11)"
     ]
    }
   ],
   "source": [
    "Test Dom1? : (:F) (:G) "
   ]
  },
  {
   "cell_type": "code",
   "execution_count": 18,
   "id": "ecd89211-5637-4c8c-bd07-d84e1431ca1c",
   "metadata": {},
   "outputs": [
    {
     "name": "stdout",
     "output_type": "stream",
     "text": [
      "(ap {put n:int_prod:2 B}:(get n:(x:)))"
     ]
    }
   ],
   "source": [
    "F:x?"
   ]
  },
  {
   "cell_type": "code",
   "execution_count": 19,
   "id": "7883d67b-6322-4ea3-bd7a-fd5e41be68a9",
   "metadata": {},
   "outputs": [
    {
     "name": "stdout",
     "output_type": "stream",
     "text": []
    }
   ],
   "source": [
    "Let Results : Test Dom1? : first 200 : S4?"
   ]
  },
  {
   "cell_type": "code",
   "execution_count": 27,
   "id": "100efca4-5035-4108-8eb0-3cab59eb859b",
   "metadata": {},
   "outputs": [
    {
     "name": "stdout",
     "output_type": "stream",
     "text": [
      "16"
     ]
    }
   ],
   "source": [
    "count : ap {if (right:B)=0:B} : Results?"
   ]
  },
  {
   "cell_type": "code",
   "execution_count": 46,
   "id": "c4cdc07a-ac72-43cf-bd4a-6318001e8f5b",
   "metadata": {},
   "outputs": [
    {
     "name": "stdout",
     "output_type": "stream",
     "text": [
      "(bin nif {isnt : B}:0)"
     ]
    }
   ],
   "source": [
    "nth 3 : Results?"
   ]
  },
  {
   "cell_type": "code",
   "execution_count": 33,
   "id": "c0041080-7677-403c-86fc-d12acd47d02e",
   "metadata": {},
   "outputs": [
    {
     "name": "stdout",
     "output_type": "stream",
     "text": [
      "(bin nif {isnt : B}:0)"
     ]
    }
   ],
   "source": [
    "nth 3 : Results?"
   ]
  },
  {
   "cell_type": "code",
   "execution_count": 34,
   "id": "9a5ce1d3-7696-4fc3-a2d5-31b4bd6bf28f",
   "metadata": {},
   "outputs": [
    {
     "name": "stdout",
     "output_type": "stream",
     "text": [
      "0 0 0"
     ]
    }
   ],
   "source": [
    "is 0 : 5 15 1 5 0. 0. 0 0 0 "
   ]
  },
  {
   "cell_type": "code",
   "execution_count": 45,
   "id": "e20c1ed0-9af5-4fd6-a8bc-b1e523f4ba18",
   "metadata": {},
   "outputs": [
    {
     "name": "stdout",
     "output_type": "stream",
     "text": [
      "(with:(bin (get:(:b {B A})):(count:(({test (get:B)} (:(n:1)) (:(n:1) (n:2)) (:(n:1) (n:3) (n:45)):(:b {B A})):({A} (:(n:1)) (:(n:1) (n:2)) (:(n:1) (n:3) (n:45)):(:b {B A}))))) (bin (({get} (:(n:1)) (:(n:1) (n:2)) (:(n:1) (n:3) (n:45)):(:{left B} left)):({B} (:(n:1)) (:(n:1) (n:2)) (:(n:1) (n:3) (n:45)):(:{left B} left))):(count:(({test (get:B) } (:(n:1)) (:(n:1) (n:2)) (:(n:1) (n:3) (n:45)):(:{left B} left)):({ A} (:(n:1)) (:(n:1) (n:2)) (:(n:1) (n:3) (n:45)):(:{left B} left))))) (bin ({get:B} (:(n:1)) (:(n:1) (n:2)) (:(n:1) (n:3) (n:45)):(:nif {isnt : B})):(({count} (:(n:1)) (:(n:1) (n:2)) (:(n:1) (n:3) (n:45)):(:nif {isnt : B})):({test (get:B) : A} (:(n:1)) (:(n:1) (n:2)) (:(n:1) (n:3) (n:45)):(:nif {isnt : B})))) (({bin} (:(n:1)) (:(n:1) (n:2)) (:(n:1) (n:3) (n:45)):(:if isnt)) ({(get:B)} (:(n:1)) (:(n:1) (n:2)) (:(n:1) (n:3) (n:45)):(:if isnt)):(({count } (:(n:1)) (:(n:1) (n:2)) (:(n:1) (n:3) (n:45)):(:if isnt)):({ test (get:B) : A} (:(n:1)) (:(n:1) (n:2)) (:(n:1) (n:3) (n:45)):(:if isnt)))) (({bin (get:B)} (:(n:1)) (:(n:1) (n:2)) (:(n:1) (n:3) (n:45)):(:{B : is} 0)):({count : test (get:B) : A} (:(n:1)) (:(n:1) (n:2)) (:(n:1) (n:3) (n:45)):(:{B : is} 0))) (({bin (get:B) } (:(n:1)) (:(n:1) (n:2)) (:(n:1) (n:3) (n:45)):(:{B : put} right)):({ count : test (get:B) : A} (:(n:1)) (:(n:1) (n:2)) (:(n:1) (n:3) (n:45)):(:{B : put} right))) ({bin (get:B) : count : test (get:B) : A} (:(n:1)) (:(n:1) (n:2)) (:(n:1) (n:3) (n:45)):(:0 sum)) (ap {bin (get:B) : count : test (get:B) : A} (:(n:1)) (:(n:1) (n:2)) (:(n:1) (n:3) (n:45)):(:arg prod)) (ap {bin (get:B) : count : test (get:B) : A} (:(n:1)) (:(n:1) (n:2)) (:(n:1) (n:3) (n:45)):(first 8:(:right {B is}) (:{right : B} if) (:null {B a}) (:{is : B} domain) (:nif {prod : B}) (:{B : hasnt} domain) (:hasnt {B : isnt}) (:{prod B} domain) (:{domain B} right) (:{B : co} isnt) (:{B get} B) (:left null) (:1 {b : B}) (:{B nif} hasnt) (:arg null) (:is {B : is}) (:hasnt {B nif}) (:arg {domain B}) (:is {get B}) (:{B : b}) (:{B arg} B) (:null prod) (:{B 1} B) (:{B sum}) (:{B a} bin) (:{put B} left) (:{B} sum) (:{sum : B} get) (:{B : has} left) (:{get : B} pass) (:domain {B : bin}) (:A {right B}) (:domain {B a}) (:{B} get) (:{B prod} has) (:{hasnt B} 1) (:pass {null : B}) (:A {B b}) (:domain {null B}) (:prod {B : put}) (:arg {B b}) (:a {nif : B}) (:has {B right}) (:{domain : B} a) (:arg {put B}) (:{0 : B} sum) (:a {B prod}) (:b {B : isnt}) (:{B : 1} isnt) (:null {pass B}) (:{if B} null) (:{prod : B} prod) (:bin {1 : B}) (:sum {if : B}) (:{B : get} is) (:put {B : nif}) (:A domain) (:hasnt {hasnt B}) (:pass {B bin}) (:is {left : B}) (:{B isnt} put) (:1 {B if}) (:{B : 1} b) (:{put : B} has) (:sum {if B}) (:a B) (:{get : B} sum) (:nif {a B}) (:left {B : co}) (:0 b) (:{arg : B} isnt) (:{B 0}) (:{B : if} a) (:0 {1 : B}) (:B {B : bin}) (:nif {B nif}) (:0 {sum B}) (:prod {B : arg}) (:{B : sum} left) (:co {co B}) (:has {isnt : B}) (:hasnt B) (:hasnt {right B}) (:{B arg} hasnt) (:bin {B : prod}) (:{B : get} arg) (:{B : if} left) (:1 {B : hasnt}) (:{B : domain} 1) (:{a B} a) (:b sum) (:{B hasnt} get) (:{b : B} pass) (:arg left) (:{B put} if) (:pass {hasnt : B}) (:pass a) (:{B is} a) (:{arg B} left) (:B {B is}) (:hasnt {B co}) (:{B : prod} hasnt) (:nif {B : A}) (:bin 1) (:b 1) (:pass {has B}) (:{B domain} sum) (:{right B} null) (:{B 0} domain) (:0 {b : B}) (:pass {co : B}) (:{arg B} co) (:{is : B} if) (:{sum : B} is) (:{B 1} right) (:{B : b} domain) (:{B : hasnt} 0) (:get {B pass}) (:{a B} prod) (:co hasnt) (:pass {B is}) (:{put : B} 0) (:get {nif B}) (:{is B} null) (:1 0) (:arg bin) (:0 {B has}) (:right {B : null}) (:has {domain B}) (:{B b} co) (:{co : B} a) (:prod {B left}) (:pass {put : B}) (:isnt if) (:arg {a : B}) (:b {a : B}) (:{b : B} if) (:prod 1) (:domain pass) (:b {is B}) (:{B isnt} a) (:nif {b B}) (:if {1 : B}) (:has get) (:{b B} domain) (:right {nif B}) (:{A B} left) (:A {B : if}) (:{pass B} has) (:0 get) (:{B 0} left) (:{get B} hasnt) (:{hasnt : B} arg) (:{pass : B} right) (:{B a} co) (:{B : domain} null) (:is {domain B}) (:sum {B : is}) (:a 1) (:nif {B has}) (:1 {B : has}) (:{B get} null) (:right {B : co}) (:sum {B nif}) (:is {B : right}) (:{co B} is) (:0) (:1 {B b}) (:domain {has B}) (:prod {B : b}) (:has {if : B}) (:has hasnt) (:domain {B : null}) (:{hasnt B} sum) (:pass arg) (:{B} domain) (:{B : 1}) (:sum {B : nif}) (:{B : is} if) (:{prod : B} 0) (:{0 B} right) (:{B : isnt} B) (:{B b} sum) (:{B : isnt} get) (:is 0) (:bin {B : bin}) (:{B b} hasnt) (:get null) (:is {null : B}) (:sum {has B}) (:{hasnt B} A) (:bin {B : nif}) (:bin {a B}) (:{nif B} B) (:left {B left}) (:b {1 : B}) (:A {pass B}) (:arg {B : get}) (:0 {B co}) (:{B : right} prod) (:sum {domain B}) (:right {B put}) (:domain {get : B}) (:A {B if}) (:{B : a} a) (:{B : isnt} nif) (:{get : B} is) (:arg {pass B}) (:isnt {co B}) (:{B 1} sum) (:{A B} A) (:right {right B}) (:{prod : B} null) (:1 pass) (:domain {a : B}) (:{nif B} isnt) (:nif {B bin}) (:hasnt {B : has}) (:A {prod B}) (:{B : is} isnt) (:a {if B}) (:{B 0} get) (:{nif B} domain) (:1 {bin : B}) (:nif 0) (:pass right) (:{B : nif} co) (:{co : B} b) (:pass {B : bin}) (:1 {B : domain}) (:left prod) (:{put : B} right) (:hasnt {B has}) (:{B : has} b) (:prod {co B}) (:{a : B} has) (:domain nif) (:A {B hasnt}) (:{B : 0} if) (:{left : B} isnt) (:{B left} isnt) (:{if : B}) (:{1 : B} has) (:co left) (:{B hasnt} left) (:{B left} bin) (:{B : hasnt} get) (:{B hasnt} isnt) (:{B : nif} 0) (:{right : B} nif) (:put {B : co}) (:{get : B} isnt) (:if is) (:domain {arg B}) (:isnt {B : a}) (:right {hasnt B}) (:{B 1} arg) (:{B has} A) (:{b : B} A) (:{B a} A) (:prod {bin B}) (:{B has} sum) (:right {B A}) (:{B : pass} prod) (:{B : isnt} null) (:left hasnt) (:{1 : B} put) (:is {put B}) (:arg put) (:arg {B domain}) (:{put B} domain) (:get {B 0}) (:left {B put}) (:{b : B} right) (:{B : nif} A) (:{prod : B} right) (:domain {is : B}) (:{a B} is) (:a {1 : B}) (:sum {B arg}) (:{co : B} nif) (:right {B domain}) (:{B isnt} A) (:{B b} nif) (:{pass : B} domain) (:isnt {B}) (:nif null) (:{has : B} nif) (:{B : put} has) (:{B : left} 0) (:{B : 0} get) (:{put B} pass) (:b {B 0}) (:is {B : domain}) (:sum {prod B}) (:arg hasnt) (:right {1 B}) (:a {B : A}) (:isnt 0) (:put {nif : B}) (:{B right} get) (:hasnt {if B}) (:null if) (:B {B : co}) (:left co) (:pass {B : left}) (:{B null} nif) (:prod {B isnt}) (:has {B sum}) (:co {b B}) (:is has) (:nif {0 : B}) (:co {B : hasnt}) (:left {B is}) (:is {is B}) (:{B sum} nif) (:{B : bin} a) (:{B put} a) (:hasnt hasnt) (:1 {B prod}) (:{B : pass} co) (:get {B}) (:0 {co B}) (:prod {a B}) (:put {isnt : B}) (:left is) (:{B 0} isnt) (:co {nif B}) (:get {a : B}) (:pass if) (:null {B : nif}) (:null {if : B}) (:{get B} null) (:right {sum B}) (:put {domain : B}) (:{bin : B} co) (:0 {B 1}) (:a {sum : B}) (:A {B prod}) (:hasnt {put B}) (:{domain : B} nif) (:{B : bin} co) (:1 null) (:arg {prod : B}) (:B {B : put}) (:{B domain} put) (:right {if B}) (:{get B} put) (:get bin) (:pass {B co}) (:{B nif} left) (:{B A} 0) (:pass {B : sum}) (:b {B}) (:null get) (:{left B} 1) (:sum {B if}) (:{B sum} get) (:{B : has} hasnt) (:{domain : B}) (:hasnt null) (:get) (:{a B} bin) (:{left : B} b) (:{b : B} sum) (:{B a} domain) (:{B : prod}) (:null {is : B}) (:{B} has) (:{B : 1} prod) (:has {left : B}) (:{B A}) (:{B : left} bin) (:has {B arg}) (:{B get} a) (:pass {isnt : B}) (:co {has : B}) (:has {is B}) (:domain {B is}) (:A {A : B}) (:pass {B : co}) (:{sum : B} left) (:{B : b} arg) (:{B left} domain) (:{B prod} A) (:{B : has} 1) (:b {B is}) (:a {if : B}) (:{B : if} A) (:if {B : A}) (:{B A} has) (:1 {B : if}) (:{B : 0} prod) (:has {left B}) (:{prod : B} sum) (:put if) (:has {B isnt}) (:{has B} is) (:get {domain B}) (:b {B right}) (:put {B prod}) (:a 0) (:domain {B : sum}) (:{B 0} is) (:a {B : prod}) (:{domain B} domain) (:{null B} if) (:{B : co} right) (:{B : put} A) (:{B : if} nif) (:isnt {A : B}) (:if {B put}) (:null {B pass}) (:hasnt if) (:a {prod B}) (:get sum) (:has {pass : B}) (:{B : pass} null) (:right is) (:hasnt {B : a}) (:1 {has : B}) (:pass {left B}) (:{domain B} if) (:A {B 0}) (:prod {is : B}) (:{is : B} isnt) (:{a B} B) (:left {domain B}) (:if {B : put}) (:{B nif} get) (:prod {B if}) (:{B : null} left) (:{B : A} if) (:B {B : is}) (:left a) (:1 {isnt B}) (:arg {B prod}) (:{B : domain} right) (:nif {B : b}) (:B {B : isnt}) (:{1 : B} get) (:isnt {B prod}) (:isnt {1 : B}) (:is {B hasnt}) (:{B put} domain) (:0 {B : prod}) (:isnt put) (:{B : null} nif) (:{left : B} co) (:{B : 1} arg) (:{isnt B} get) (:hasnt {is B}) (:{null B} put) (:nif b) (:left {B bin}) (:arg has) (:nif {if B}) (:null {B : co}) (:pass {left : B}) (:{B : 1} pass) (:{bin B} A) (:{is B} 1) (:bin {isnt : B}) (:{b : B} 1) (:right {left : B}) (:right get) (:{is : B} bin) (:hasnt {is : B}) (:B {B : has}) (:{B b} a) (:left has) (:{B get} prod) (:a {isnt B}) (:left {B right}) (:right {has : B}) (:co null) (:A {B left}) (:{B : co} A) (:pass {B : right}) (:sum domain) (:bin {A B}) (:{B : co} left) (:{bin B} is) (:1 {0 : B}) (:nif pass) (:nif {sum B}) (:left) (:{arg B} right) (:has put) (:{B nif} prod) (:if {A B}) (:b {B nif}) (:B {B}) (:{B : left} pass) (:if {nif : B}) (:{get : B} domain) (:domain {B : if}) (:{B : has}) (:put isnt) (:{B : 1} hasnt) (:is {B nif}) (:{B left} a) (:{B : 0} bin) (:{B : hasnt} left) (:sum) (:{B : a} hasnt) (:0 {a B}) (:co {B nif}) (:{arg : B} 0) (:if get) (:is {1 B}) (:{B : sum} hasnt) (:{0 : B} isnt) (:{nif : B} A) (:{arg : B} is) (:{bin B}) (:nif {B : co}) (:{domain : B} pass) (:right {B nif}) (:{B : pass} b) (:null {prod B}) (:arg B) (:pass {B : prod}) (:arg {B : nif}) (:{B : 1} has) (:{B bin} nif) (:{pass B} pass) (:right {B isnt}) (:nif {B : prod}) (:null {pass : B}) (:{hasnt : B} domain) (:nif {B if}) (:get {B : 0}) (:null {B isnt}) (:{B bin} co) (:nif hasnt) (:null {B bin}) (:{B has} right) (:pass {B : pass}) (:{B 1} domain) (:{B hasnt} arg) (:right {B 0}) (:prod {pass : B}) (:get {has : B}) (:A {if B}) (:A {domain B}) (:{hasnt : B} null) (:is {prod B}) (:A {B : nif}) (:{B} nif) (:A {isnt : B}) (:arg {co : B}) (:{B isnt} left) (:1 {B domain}) (:bin {null B}) (:B {B null}) (:pass {is B}) (:arg {right : B}) (:co {B : null}) (:nif {B isnt}) (:{B isnt} nif) (:sum {B : hasnt}) (:b domain) (:co {B : 1}) (:{B get} A) (:{domain : B} if) (:0 {B pass}) (:{right : B} isnt) (:a {b B}) (:{has B} if) (:1 {B hasnt}) (:put 0) (:{left : B} domain) (:prod {A : B}) (:{hasnt : B} bin) (:1 {prod B}) (:if {B : 0}) (:get {arg B}) (:{left B} sum) (:0 0) (:{B} A) (:{is : B} left) (:b {sum B}) (:{co B} right) (:right {null : B}) (:{a : B} left) (:b bin) (:co) (:{A B} B) (:{arg B} get) (:has {B bin}) (:{b B} if) (:bin right) (:domain {sum B}) (:sum {B : bin}) (:co {B : b}) (:isnt {sum B}) (:{B : bin} A) (:{a B} isnt) (:if a) (:B {nif B}) (:{domain B} has) (:{B b} prod) (:nif {B : pass}) (:{0 : B} left) (:{B nif} isnt) (:{0 B} nif) (:0 {B get}) (:prod {B}) (:arg {B : left}) (:{hasnt : B} nif) (:right {B}) (:left {B 1}) (:a {B if}) (:put {B get}) (:{B A} arg) (:hasnt co) (:b if) (:{arg B} 0) (:put {bin : B}) (:if {B : sum}) (:b {prod B}) (:{B right} arg) (:is {B : if}) (:put {B : 0}) (:{A : B} co) (:{domain : B} co) (:sum if) (:1 {b B}) (:{get : B} right) (:{A : B} pass) (:{right B} sum) (:{arg B} arg) (:{B prod} a) (:right {B null}) (:isnt right) (:prod b) (:{1 B} get) (:B left) (:{B sum} B) (:0 domain) (:0 {put : B}) (:{B hasnt} 1) (:{B : put} arg) (:{is B} hasnt) (:prod {if B}) (:null {domain B}) (:{B : isnt} left) (:{B : 1} sum) (:{B sum} sum) (:nif {B get}) (:put {A B}) (:arg {prod B}) (:{isnt B} hasnt) (:if {is : B}) (:{B isnt} right) (:{B : prod} null) (:B {a B}) (:isnt {B : left}) (:{B nif} is) (:{B : co}) (:bin {B 0}) (:{co B} has) (:left {B : bin}) (:{get : B} b) (:{co B} null) (:hasnt {A B}) (:b {B domain}) (:null 0) (:prod {B a}) (:a {B co}) (:if {B 0}) (:a hasnt) (:{B : isnt} has) (:null {hasnt B}) (:1 get) (:co {B : put}) (:{arg : B} right) (:null {is B}) (:{bin B} b) (:arg {left : B}) (:{B : pass} put) (:{B : hasnt} arg) (:{B : has} nif) (:right {A B}) (:{B A} B) (:{B is} b) (:B {left : B}) (:{B get} domain) (:left {B : domain}) (:{bin : B} 0) (:{0 B} put) (:a co) (:sum {null B}) (:prod {domain : B}) (:{B co} sum) (:pass {bin B}) (:{if : B} isnt) (:prod {B : null}) (:prod {prod B}) (:{if : B} co) (:a {B 1}) (:{if : B} B) (:{B pass} is) (:has {B b}) (:{left : B} a) (:{B hasnt} domain) (:{B if}) (:{B isnt} domain) (:isnt {a B}) (:{sum : B}) (:hasnt {B : right}) (:prod {B : has}) (:{b : B} has) (:nif {0 B}) (:0 {B b}) (:put {B 0}) (:{B domain} arg) (:{null : B} a) (:A {is : B}) (:{B put}) (:A {left B}) (:left {B : sum}) (:{has : B} prod) (:{B pass} put) (:A left) (:pass {nif B}) (:sum {is B}) (:{B is} arg) (:prod {B : if}) (:{B} b) (:{null : B} sum) (:{domain B} A) (:{1 B} pass) (:{B : prod} isnt) (:put null) (:domain {0 : B}) (:prod {B b}) (:{B hasnt} pass) (:{B : arg} hasnt) (:has {bin B}) (:put {1 : B}) (:pass {B : arg}) (:{bin B} hasnt) (:a {B : has}) (:A {B : put}) (:B prod) (:A {put : B}) (:put {B : isnt}) (:left {B arg}) (:{left B} b) (:{nif : B}) (:is {B pass}) (:arg {hasnt B}) (:{arg B} sum) (:sum {isnt B}) (:0 {isnt : B}) (:{if B} sum) (:null B) (:get 1) (:left {B : A}) (:{0 B} sum) (:{B : prod} bin) (:arg {B : bin}) (:{B null} 1) (:{B : isnt} bin) (:B co) (:{1 B} null) (:{isnt B}) (:{put B} get) (:hasnt {B right}) (:{null : B} is) (:{B isnt}) (:{B : 0} co) (:{B : left} b) (:isnt {B : 1}) (:{B arg}) (:domain {B if}) (:{0 : B} nif) (:co {B}) (:isnt {domain B}) (:{arg B} b) (:{arg : B} get) (:{A : B} 1) (:{arg : B} left) (:{B : co} sum) (:{B get} bin) (:0 {a : B}) (:0 {B prod}) (:{B : 0}) (:B {put : B}) (:sum {a B}) (:nif {arg : B}) (:bin {b B}) (:domain {pass : B}) (:put is) (:{B put} nif) (:{nif : B} get) (:{put B} is) (:{B is} null) (:{B : co} put) (:has sum) (:{1 B} 0) (:{get B} is) (:{bin : B}) (:put {right B}) (:sum {sum B}) (:{B : prod} co) (:pass {B if}) (:{domain B} a) (:get {get B}) (:put {B : prod}) (:bin {B}) (:arg {B right}) (:nif {put : B}) (:A {co : B}) (:arg {B : domain}) (:nif {bin B}) (:{left B} right) (:{right B} put) (:get {1 B}) (:isnt {B : hasnt}) (:b {A B}) (:nif {a : B}) (:domain {prod : B}) (:{B : domain} isnt) (:if {sum : B}) (:is {right B}) (:{get : B} co) (:a {pass B}) (:{right B} is) (:{is B} co) (:isnt {B pass}) (:co {if : B}) (:B {B left}) (:{bin : B} nif) (:{B} 1) (:if {B if}) (:{B : isnt} co) (:{isnt : B} co) (:{b B} has) (:sum {left B}) (:prod {left : B}) (:arg {B hasnt}) (:{isnt B} bin) (:if {B bin}) (:{put B} hasnt) (:{B sum} is) (:{pass : B} isnt) (:1 {B : 0}) (:domain {arg : B}) (:{right : B} 0) (:{B : prod} domain) (:{B null} bin) (:bin {if : B}) (:{sum B} bin) (:{B : pass} 0) (:has {B : is}) (:B {has B}) (:{is B} a) (:arg) (:{co : B} sum) (:prod null) (:{prod B} hasnt) (:get {B : sum}) (:{B sum} pass) (:A {sum : B}) (:{pass B} nif) (:{B get} nif) (:nif {right : B}) (:a {B left}) (:{pass : B} A) (:left {a B}) (:nif {arg B}) (:{B : nif} if) (:{B has} put) (:hasnt {B domain}) (:pass {B domain}) (:null {A B}) (:{B is} left) (:bin {B hasnt}) (:arg {arg B}) (:{B} is) (:{1 B} domain) (:put {B arg}) (:{B pass} right) (:sum {B right}) (:{B : hasnt} right) (:{hasnt : B}) (:{B : prod} a) (:null {B has}) (:B {B domain}) (:{A : B} b) (:domain {right B}) (:{left : B} left) (:put {arg B}) (:{hasnt B} co) (:{B a} hasnt) (:a {get B}) (:bin {B : pass}) (:sum null) (:{null : B} right) (:{B hasnt} B) (:{B : sum} if) (:right bin) (:nif {B a}) (:bin a) (:left {has : B}) (:right {B get}) (:null {B 0}) (:if {1 B}) (:get {A : B}) (:{B get} arg) (:isnt {B is}) (:{null B} pass) (:has {B : arg}) (:{B left} if) (:{B sum} a) (:is put) (:a {put : B}) (:{has B} b) (:{if B} nif) (:pass {right B}) (:{B left} has) (:{B : left} hasnt) (:{B : bin} 1) (:{B : 1} domain) (:{B is} bin) (:sum {B : a}) (:a {B : right}) (:{get B} get) (:{b B} isnt) (:{B} hasnt) (:bin {if B}) (:{B : prod} 0) (:{co B}) (:{B : sum} a) (:{isnt B} prod) (:{left B} prod) (:{isnt : B} if) (:{right B} prod) (:has {B : 0}) (:{1 : B} a) (:{B : if} bin) (:1 {B : b}) (:pass {prod B}) (:{B has} a) (:{right B} hasnt) (:{B : nif}) (:b isnt) (:null {B arg}) (:{pass : B} is) (:{get B} isnt) (:if {has B}) (:nif a) (:{pass B} null) (:{arg : B} prod) (:b hasnt) (:{has B}) (:{B pass} if) (:B has) (:domain b) (:{1 B} isnt) (:B {B co}) (:{hasnt : B} b) (:{B null} sum) (:{0 : B} A) (:{B isnt} has) (:{B : 0} nif) (:prod put) (:{B null} if) (:null {0 B}) (:A {B get}) (:b {B bin}) (:{A : B} is) (:{B prod} sum) (:b {0 B}) (:{0 B} B) (:bin {1 B}) (:arg {B has}) (:{get : B}) (:{is : B} null) (:prod pass) (:{get B} co) (:sum bin) (:pass {B hasnt}) (:{pass B} 0) (:sum arg) (:isnt {B has}) (:domain {B : A}) (:right domain) (:left b) (:0 {B : 0}) (:arg {B : null}) (:0 {B}) (:sum a) (:get {pass B}) (:isnt {B : pass}) (:{bin B} put) (:{bin : B} pass) (:sum {B : arg}) (:{hasnt : B} 1) (:prod bin) (:b {if : B}) (:{is : B} B) (:get {domain : B}) (:co {B : pass}) (:isnt {B if}) (:{right : B} null) (:{put : B} nif) (:is {0 : B}) (:co {B a}) (:if {pass : B}) (:1 {B 0}) (:null {domain : B}) (:b {domain : B}) (:is {B : b}) (:a bin) (:{co B} hasnt) (:isnt co) (:put {get : B}) (:hasnt 0) (:a {B null}) (:arg {sum B}) (:a null) (:left {B : pass}) (:prod {has B}) (:domain 1) (:pass {has : B}) (:left get) (:put {nif B}) (:domain {b : B}) (:{B : if}) (:{B : A} has) (:put right) (:hasnt {B : bin}) (:B {if : B}) (:sum hasnt) (:put {b : B}) (:bin hasnt) (:left {pass : B}) (:B {B : 1}) (:B {B A}) (:isnt {B 0}) (:{hasnt B} isnt) (:{null B} arg) (:left {B : b}) (:if {b B}) (:domain {if : B}) (:{B : sum} B) (:co {null B}) (:B a) (:{domain : B} A) (:hasnt {B if}) (:b B) (:1 {null : B}) (:{B a} is) (:A {null : B}) (:{co B} pass) (:left {prod B}) (:{B : nif} has) (:{B : arg} left) (:{B domain} isnt) (:right {bin : B}) (:{co B} a) (:{B : put} get) (:has {0 : B}) (:{B : arg} sum) (:hasnt {B : prod}) (:{bin B} domain) (:sum {pass : B}) (:domain {null : B}) (:hasnt {bin : B}) (:bin) (:domain {A : B}) (:{has B} put) (:get {B sum}) (:nif put) (:{1 : B} arg) (:is {B prod}) (:has {hasnt B}) (:isnt {B : 0}) (:{B right} left) (:{prod : B} left) (:{B co} prod) (:{pass B} put) (:{pass : B} 0) (:has 1) (:has {put : B}) (:{B : a} bin) (:sum {B : domain}) (:put nif) (:put {B 1}) (:{B : null} bin) (:{B : sum} arg) (:if hasnt) (:{is : B}) (:has {1 B}) (:{has B} null) (:hasnt {get B}) (:{has B} left) (:domain B) (:has {B has}) (:b {put : B}) (:{B isnt} co) (:has {put B}) (:{arg : B} a) (:{sum : B} null) (:{B : 0} B) (:domain {has : B}) (:arg {B if}) (:a if) (:{B : put} pass) (:{has B} get) (:co put) (:co {B : prod}) (:right isnt) (:b {B co}) (:is {B get}) (:{B domain} left) (:is {pass : B}) (:right {B : bin}) (:nif {1 B}) (:arg right) (:get {sum : B}) (:null {if B}) (:{B : prod} is) (:prod {B hasnt}) (:{B b} domain) (:{B : get} a) (:{B sum} bin) (:has {prod : B}) (:{get : B} hasnt) (:{1 : B} bin) (:{isnt : B} nif) (:co {arg : B}) (:0 {arg B}) (:{right B} domain) (:{a B} co) (:{B right} right) (:nif {B : domain}) (:co {B A}) (:prod {B is}) (:{has B} right) (:{a : B} nif) (:{B prod} get) (:sum {B pass}) (:{prod : B} has) (:{a B} domain) (:domain {B 1}) (:{B hasnt} hasnt) (:{1 B}) (:arg {sum : B}) (:prod {b : B}) (:{bin B} bin) (:{A B} arg) (:{B : b} is) (:B 0) (:{1 B} nif) (:{B nif} a) (:0 {A : B}) (:{B has} domain) (:a {B : get}) (:{B : is} left) (:{prod B} get) (:prod {B sum}) (:left {domain : B}) (:nif {B left}) (:{prod : B} domain) (:{B 1} put) (:domain prod) (:put {bin B}) (:co {B : bin}) (:A {a B}) (:put) (:right {b : B}) (:pass {B : 1}) (:A 0) (:sum {nif : B}) (:right {sum : B}) (:{is B} put) (:{bin B} left) (:{B : right} isnt) (:{B is} domain) (:{hasnt : B} has) (:b {B : is}) (:is {b : B}) (:{right B} b) (:put {B : A}) (:{isnt : B} prod) (:{B put} b) (:arg is) (:arg {B is}) (:{B : b} has) (:{B : get} B) (:{is : B} 0) (:{B nif} domain) (:b {B : nif}) (:if {isnt : B}) (:{B : sum}) (:A {nif : B}) (:{B a} right) (:sum {B b}) (:a {null B}) (:nif {A : B}) (:is domain) (:{1 : B} b) (:A {get B}) (:left {B nif}) (:sum {a : B}) (:{1 : B} A) (:{null : B} get) (:{B : A} arg) (:{hasnt B} a) (:{sum : B} has) (:null {right B}) (:bin {B arg}) (:{isnt : B} domain) (:{has : B} B) (:is {pass B}) (:pass {B : has}) (:put pass) (:{left : B} arg) (:{nif : B} pass) (:{sum B} B) (:co {B : left}) (:b {get : B}) (:{B : 0} hasnt) (:if {B co}) (:if {0 : B}) (:{isnt : B} bin) (:if {B : hasnt}) (:b {bin B}) (:{if : B} right) (:{B arg} arg) (:{null : B} nif) (:prod {B : a}) (:prod {pass B}) (:null A) (:{B 1} get) (:{bin B} if) (:A {a : B}) (:{B A} isnt) (:get {is : B}) (:isnt {B co}) (:if {A : B}) (:B {right : B}) (:{B 1} nif) (:0 {B isnt}) (:{prod B} nif) (:get {null B}) (:{arg : B} hasnt) (:is {hasnt : B}) (:{B : left} left) (:{B co} get) (:{left B} co) (:{B : right} B) (:sum co) (:get {A B}) (:co {B hasnt}) (:{B left} pass) (:sum {B : has}) (:{arg B} 1) (:{0 : B} if) (:{if B} domain) (:{b : B} left) (:bin A) (:1 bin) (:{B : a} isnt) (:get {isnt : B}) (:a {B : is}) (:{B has} arg) (:if {B a}) (:{arg B} B) (:pass {B left}) (:A pass) (:has {if B}) (:A bin) (:get {b B}) (:sum {A : B}) (:has {B get}) (:{B : pass} bin) (:a {B sum}) (:{isnt B} is) (:bin {prod B}) (:{B : b} B) (:1 {B : A}) (:{put : B} a) (:{right : B} hasnt) (:a {nif B}) (:{isnt B} B) (:co {get B}) (:{B : 1} a) (:put get) (:{B : null} domain) (:nif {B : put}) (:{B b} null) (:{B right} null) (:{B left} right) (:nif B) (:is {0 B}) (:{B : domain} nif) (:{B b} 1) (:{B bin} prod) (:{B : 1} put) (:{B hasnt} put) (:get {B : A}) (:{B nif} bin) (:{arg : B} B) (:{B : put} if) (:{bin B} nif) (:if {B : null}) (:B {B : domain}) (:{if : B} A) (:B if) (:{B : null} is) (:A {1 B}) (:if {bin : B}) (:{B : is} B) (:a b) (:{arg B} pass) (:{B : put} sum) (:sum {B : null}) (:{B domain} bin) (:has {is : B}) (:{nif : B} hasnt) (:if {domain : B}) (:{B : left} co) (:co {A B}) (:nif {B b}) (:{b B} is) (:domain {isnt : B}) (:co {B has}) (:sum {hasnt B}) (:a {a B}) (:{B : hasnt} has) (:bin {prod : B}) (:{B : prod} has) (:{B is} isnt) (:{B : has} is) (:{b : B} a) (:if {right B}) (:get get) (:hasnt domain) (:hasnt {left : B}) (:get put) (:sum {right : B}) (:{null : B} co) (:if domain) (:{B is} prod) (:isnt sum) (:right {B : pass}) (:1 {B has}) (:put {B null}) (:co {B : isnt}) (:null left) (:has {prod B}) (:hasnt {B : domain}) (:{B : b} hasnt) (:sum pass) (:put {0 B}) (:pass is) (:{B : domain} bin) (:bin {left B}) (:get {B : domain}) (:{B A} pass) (:{B : right} has) (:{B isnt} prod) (:left {hasnt : B}) (:{prod : B} isnt) (:{B : hasnt} nif) (:{B : put} 1) (:sum {B : co}) (:{B co} right) (:get {B : get}) (:a is) (:prod {B : 1}) (:{B : is} sum) (:b {B : null}) (:{B get} is) (:{B : is} a) (:A) (:{B if} 1) (:isnt left) (:bin prod) (:{B : 1} A) (:{B put} prod) (:0 co) (:{0 B} co) (:{right : B} b) (:null {put B}) (:right {left B}) (:{B has} null) (:sum {arg : B}) (:A {B is}) (:{put B} nif) (:{arg : B} null) (:{prod B} if) (:{b : B} is) (:get {B if}) (:{B : put} null) (:{B put} pass) (:{B get} has) (:{B : has} has) (:arg {if B}) (:if {B : has}) (:a {B is}) (:get {a B}) (:A {B : 1}) (:A hasnt) (:pass {b B}) (:{1 : B} co) (:if {pass B}) (:if 0) (:null {B : prod}) (:{B : right} null) (:{B if} prod) (:sum {B prod}) (:0 {1 B}) (:{pass : B} has) (:left {B domain}) (:has null) (:{B right}) (:left B) (:a nif) (:a {b : B}) (:{B : has} isnt) (:prod 0) (:{has B} nif) (:{B} 0) (:{nif : B} b) (:if {bin B}) (:{co : B} domain) (:arg {B : pass}) (:isnt {pass : B}) (:{B : is} right) (:0 put) (:get {prod : B}) (:{B : right} bin) (:{get B} sum) (:B {B sum}) (:A {B : 0}) (:{has : B} isnt) (:domain left) (:{A : B} has) (:left {B : a}) (:right {B : right}) (:{B if} domain) (:domain {left B}) (:bin {B : put}) (:{B prod} is) (:b a) (:co domain) (:has {null B}) (:{0 : B} co) (:bin {B : is}) (:b {hasnt B}) (:bin {B : sum}) (:{if : B} domain) (:put {hasnt B}) (:{bin B} arg) (:{B : A} is) (:prod {if : B}) (:{B 0} 0) (:b {B : hasnt}) (:left if) (:{co : B} 0) (:{B : is} bin) (:{B prod} pass) (:hasnt {domain : B}) (:{B left} is) (:domain {B : 0}) (:domain {right : B}) (:hasnt put) (:{B put} isnt) (:0 is) (:prod isnt) (:{co : B}) (:{A : B} a) (:b {right B}) (:{B left} arg) (:domain {B}) (:{B : arg} 1) (:a {B : nif}) (:{is B} domain) (:put {B : right}) (:{get B} a) (:{a : B} 1) (:right {1 : B}) (:get {B : b}) (:has {B}) (:prod {0 B}) (:{B : right} put) (:null right) (:prod {right : B}) (:{B a} has) (:domain {B isnt}) (:prod get) (:{get B}) (:1 arg) (:0 B) (:get co) (:put {sum B}) (:B right) (:left {B null}) (:{pass : B}) (:{B bin} a) (:is bin) (:{hasnt B} left) (:A put) (:{B sum} arg) (:{co B} A) (:{B : if} if) (:{B : a} right) (:{nif B}) (:{B : co} get) (:put {B nif}) (:{is B} get) (:{B arg} sum) (:nif {has : B}) (:{B isnt} b) (:{left B} nif) (:{nif : B} isnt) (:if {B : prod}) (:{B : co} has) (:{isnt B} 0) (:is {sum B}) (:{has B} B) (:A {B put}) (:null {bin B}) (:{B bin} B) (:bin if) (:{B A} A) (:1 {B A}) (:bin b) (:{B if} right) (:bin {B : isnt}) (:{left : B} sum) (:b {is : B}) (:1 {nif : B}) (:{B A} put) (:B {B : 0}) (:if {prod B}) (:left {right : B}) (:{b B} 0) (:{B prod} right) (:get is) (:{left B} isnt) (:a {is : B}) (:null {B b}) (:b b) (:1 {B left}) (:{left B} B) (:a {sum B}) (:nif {B is}) (:hasnt {domain B}) (:{B : left} get) (:hasnt {co : B}) (:arg {hasnt : B}) (:has nif) (:0 {pass B}) (:left {nif : B}) (:{1 B} a) (:null {B : a}) (:B {B : prod}) (:{domain : B} null) (:{B co} A) (:{B null} domain) (:is {B : null}) (:is {isnt B}) (:bin {B left}) (:put {B if}) (:{0 B} domain) (:get {bin B}) (:A {B : a}) (:right {has B}) (:{null B} isnt) (:put {B : is}) (:0 {nif B}) (:{nif : B} 1) (:{if : B} has) (:bin {nif : B}) (:{a B} b) (:isnt {B left}) (:left isnt) (:{right B} bin) (:{B : has} sum) (:null {B : put}) (:get {B arg}) (:{B : sum} has) (:hasnt {B put}) (:co {bin B}) (:bin {B null}) (:{B right} prod) (:sum {B has}) (:arg {B left}) (:{B is} B) (:hasnt {B : if}) (:{nif B} left) (:{pass B} right) (:bin {pass B}) (:left {B : if}) (:A {B : domain}) (:{B : right} sum) (:{B : co} bin) (:{null : B} 1) (:{left B} has) (:co {arg B}) (:{prod B} b) (:{B : a} get) (:get pass) (:{B A} is) (:{left : B} 1) (:domain null) (:has {B left}) (:left {B get}) (:{1 B} A) (:{isnt : B} right) (:left right) (:1 {get : B}) (:{B : pass} hasnt) (:1 {B : arg}) (:put {isnt B}) (:{co B} sum) (:{B : right} co) (:{B : isnt} if) (:if has) (:get {B : right}) (:{B : A} B) (:bin {B : right}) (:get {B : isnt}) (:0 {has B}) (:put a) (:{pass B} isnt) (:null {B : A}) (:bin {b : B}) (:get {put B}) (:prod {null : B}) (:domain) (:{isnt B} left) (:0 {is : B}) (:nif {B 1}) (:0 {B : bin}) (:{co B} prod) (:1 {B right}) (:{nif B} 0) (:{hasnt : B} left) (:left {B if}) (:isnt 1) (:1 {B : put}) (:left {left B}) (:{null B} 0) (:{nif : B} arg) (:{has : B}) (:{1 : B} pass) (:B {bin B}) (:sum {1 B}) (:domain {hasnt : B}) (:right {B : a}) (:get {0 B}) (:{B : right} nif) (:co {hasnt : B}) (:{hasnt B} if) (:prod is) (:co {B : sum}) (:{B : prod} A) (:{prod : B}) (:{B : A} b) (:arg {1 B}) (:null {nif B}) (:if {arg B}) (:left {B isnt}) (:is {B : has}) (:1 {if B}) (:{if B} hasnt) (:get prod) (:{B a} put) (:{B is} co) (:is sum) (:nif is) (:B {A : B}) (:0 {prod : B}) (:co {B : 0}) (:{has B} bin) (:domain {B : b}) (:nif {left B}) (:left {if B}) (:left {is : B}) (:{isnt B} pass) (:0 {B : pass}) (:0 {right B}) (:has {a : B}) (:null {get : B}) (:{B : a} 1) (:b {b B}) (:B {nif : B}) (:{nif : B} is) (:0 {B : A}) (:has co) (:B {left B}) (:is {nif : B}) (:null {prod : B}) (:{domain : B} B) (:{hasnt : B} sum) (:{0 : B} put) (:nif {B : bin}) (:{right : B} is) (:{B has} prod) (:{b B} co) (:b {if B}) (:if {arg : B}) (:bin {B domain}) (:right {B : get}) (:prod {B 0}) (:domain {B nif}) (:prod {B : A}) (:a {left : B}) (:right {isnt : B}) (:co {B get}) (:hasnt {hasnt : B}) (:{B : bin} if) (:{B left}) (:sum {B a}) (:a {co B}) (:{nif B} has) (:left left) (:arg {B : co}) (:{B : nif} hasnt) (:0 has) (:0 {B : domain}) (:a {B : domain}) (:{B a} if) (:{B put} is) (:get {co B}) (:{B : sum} 1) (:{B : pass} domain) (:sum 0) (:co {B if}) (:nif {B 0}) (:get {right B}) (:{B : null} B) (:{B : right} 0) (:{B left} hasnt) (:domain bin) (:right if) (:if {B left}) (:sum prod) (:A {B : null}) (:{domain : B} 1) (:{B : bin} domain) (:{left : B} put) (:{prod : B} a) (:is {put : B}) (:isnt {right : B}) (:get {B : if}) (:if {B : co}) (:{B b} 0) (:bin {has B}) (:{0 : B} hasnt) (:{get B} pass) (:A {B sum}) (:{right B} a) (:put {pass B}) (:right hasnt) (:1 {1 B}) (:a {B bin}) (:B {get : B}) (:bin {B is}) (:isnt {B : b}) (:{0 : B} b) (:{B : b} isnt) (:{isnt : B} arg) (:{if B} bin) (:{B right} A) (:b {B : prod}) (:if {B null}) (:{B domain} is) (:prod {B : get}) (:b 0) (:{B is} 0) (:{has : B} is) (:{B : has} B) (:put {is B}) (:left {1 : B}) (:isnt {get B}) (:{put B} b) (:co {1 : B}) (:bin arg) (:get {pass : B}) (:domain {B domain}) (:hasnt {B : 0}) (:{B pass} has) (:{pass : B} hasnt) (:{B : has} pass) (:put {B : a}) (:{b B} get) (:{B : A} a) (:bin is) (:b {B : a}) (:{arg B} nif) (:{a B} nif) (:pass {A : B}) (:{B get} hasnt) (:{B null} has) (:{B : hasnt} b) (:{B : null} right) (:is {B isnt}) (:A {hasnt B}) (:{b : B} isnt) (:{B : if} 0) (:pass {right : B}) (:{nif B} null) (:isnt {B : get}) (:nif {B : get}) (:{a : B} hasnt) (:a {B : a}) (:{B : is} 1) (:is {bin : B}) (:0 {domain : B}) (:nif {prod B}) (:{co : B} co) (:{B : A} prod) (:hasnt a) (:right {0 B}) (:prod {sum B}) (:left {co B}) (:{if : B} bin) (:isnt nif) (:{nif : B} left) (:arg {B : isnt}) (:{B : null} sum) (:has {B : hasnt}) (:get {if : B}) (:hasnt {a B}) (:co {bin : B}) (:null {B : get}) (:right {domain : B}) (:{b : B} domain) (:{domain B} null) (:{B a} sum) (:get B) (:{bin : B} b) (:arg 1) (:{nif B} put) (:arg {0 : B}) (:b {B : sum}) (:{null : B} hasnt) (:null {B co}) (:{pass B} get) (:get hasnt) (:{B A} prod) (:B {B put}) (:a {left B}) (:{B arg} a) (:hasnt {nif B}) (:{arg B} domain) (:get {B : is}) (:A {right : B}) (:pass nif) (:{bin B} prod) (:get {B : has}) (:{isnt B} right) (:{B get} b) (:arg a) (:{isnt B} b) (:{has : B} domain) (:left {B}) (:{domain : B} get) (:{B prod} if) (:{B put} 1) (:right {B has}) (:b get) (:{B hasnt} null) (:null is) (:get if) (:{nif : B} 0) (:{A B} if) (:{put B} prod) (:if {B isnt}) (:{0 : B}) (:put {B : has}) (:{B : a} pass) (:sum {A B}) (:{B : co} hasnt) (:{B : b} right) (:{B domain} get) (:{null B} hasnt) (:B {B : get}) (:hasnt {B bin}) (:has {has : B}) (:right {if : B}) (:{B isnt} sum) (:{1 B} B) (:null {B : arg}) (:arg {B : right}) (:A {B has}) (:null nif) (:null) (:{domain B} left) (:{B nif} has) (:{B : left} if) (:{if B} pass) (:{domain : B} domain) (:1 {arg : B}) (:{prod B} 0) (:a {B}) (:arg {co B}) (:{left B} A) (:0 {B 0}) (:right {B hasnt}) (:nif {B}) (:{co : B} null) (:co {prod : B}) (:{domain : B} right) (:pass {hasnt B}) (:{b B} hasnt) (:is nif) (:{hasnt : B} A) (:{B co} arg) (:{B right} b) (:{pass B} b) (:{B pass} arg) (:{domain : B} hasnt) (:is {B null}) (:put {a : B}) (:{B nif} B) (:null {arg B}) (:{a : B} domain) (:{B co} isnt) (:hasnt right) (:{B left} left) (:1 {B co}) (:get {B : hasnt}) (:{isnt : B} B) (:A {left : B}) (:{B : left} nif) (:{isnt : B} put) (:bin {B isnt}) (:{a B} put) (:arg {A : B}) (:{nif : B} prod) (:is pass) (:has {null : B}) (:isnt {B : null}) (:isnt {B arg}) (:0 {get : B}) (:B {put B}) (:A {B : hasnt}) (:{B null} isnt) (:{B : bin} right) (:get {B is}) (:has domain) (:B hasnt) (:{A : B} 0) (:left {A : B}) (:has {B put}) (:{1 : B} sum) (:pass {B a}) (:{pass : B} bin) (:{b B} prod) (:prod {B domain}) (:null {B if}) (:b {B : bin}) (:{B : pass} if) (:{if B} A) (:{prod B} has) (:{B has}) (:has {B : put}) (:A {put B}) (:isnt {right B}) (:is {B : a}) (:{B : 1} nif) (:hasnt {B}) (:{co B} arg) (:is {B domain}) (:B sum) (:{a : B} 0) (:arg {B : prod}) (:{prod : B} A) (:has right) (:hasnt {B is}) (:pass {prod : B}) (:sum {B domain}) (:{B : get} isnt) (:{B : A} sum) (:is right) (:{arg B} hasnt) (:a {1 B}) (:put {B sum}) (:{is B} right) (:{B : if} domain) (:co a) (:{bin B} pass) (:domain {B co}) (:a {B : arg}) (:{isnt B} put) (:b {B : has}) (:bin pass) (:right {right : B}) (:{B 1} A) (:{has B} pass) (:{B null} hasnt) (:{B : arg} prod) (:{has B} hasnt) (:{bin : B} hasnt) (:{bin B} isnt) (:{right B} right) (:{B null} b) (:left {right B}) (:b {arg : B}) (:{B has} pass) (:0 {B null}) (:get {B prod}) (:b {B : get}) (:hasnt {B : hasnt}) (:put {if B}) (:isnt {null : B}) (:bin {B co}) (:nif {B : 0}) (:{B 0} co) (:null {B : null}) (:null {B get}) (:has {right : B}) (:pass {B : nif}) (:{b : B} arg) (:sum {B put}) (:bin {B : if}) (:B {pass B}) (:{B co} left) (:0 {hasnt B}) (:put {null B}) (:is {B co}) (:a {B 0}) (:{if B} isnt) (:{sum B} a) (:A {co B}) (:{B : put}) (:put b) (:{B : 0} right) (:{B : prod} if) (:{B : left} B) (:{1 B} co) (:a {isnt : B}) (:{hasnt B}) ◎ (:arg {put : B}) (:bin {arg B}) (:bin {get B}) (:{nif B} sum) (:{B co} co) (:{get : B} 1) (:domain {B : pass}) (:put {B has}) (:{0 : B} B) (:{isnt B} A) (:{pass B} a) (:arg {B A}) (:{if B} put) (:is {B : arg}) (:is {1 : B}) (:{bin B} 1) (:bin has) (:co {put B}) (:left {B : isnt}) (:{B nif} co) (:hasnt isnt) (:1 {B sum}) (:{B domain} null) (:{B : sum} is) (:{B : a} B) (:{B : 1} B) (:{B : arg}) (:hasnt sum) (:{B : co} a) (:is {B : nif}) (:1 {pass : B}) (:{B arg} co) (:domain {B left}) (:b {left : B}) (:{domain B} nif) (:{B : co} arg) (:{nif : B} put) (:{if B} b) (:bin {A : B}) (:{B : 0} is) (:null {null B}) (:sum {1 : B}) (:{B prod}) (:put {co B}) (:prod {B : domain}) (:is is) (:{B : arg} domain) (:{left B} bin) (:isnt {B : domain}) (:{B nif} 0) (:{pass : B} B) (:hasnt {B : null}) (:{domain : B} prod) (:{has B} a) (:{B} bin) (:nif A) (:{B right} co) (:put {B : put}) (:{1 : B} 1) (:{bin : B} if) (:{B bin} hasnt) (:{0 B} A) (:{co B} put) (:{a B} hasnt) (:{B if} if) (:get A) (:B {1 B}) (:pass {domain B}) (:if sum) (:{0 : B} domain) (:{hasnt B} prod) (:right {arg B}) (:{arg : B} pass) (:{is B} bin) (:{B : null} a) (:{0 : B} 0) (:bin {has : B}) (:{sum : B} hasnt) (:{isnt B} isnt) (:A {B domain}) (:{B is} A) (:right {is : B}) (:null sum) (:A has) (:a {B right}) (:isnt pass) (:domain {B : arg}) (:B domain) (:{bin : B} A) (:0 {bin : B}) (:isnt {B : arg}) (:{nif B} a) (:nif co) (:{B sum} null) (:{B : null} get) (:{B arg} put) (:bin {B put}) (:{get : B} if) (:{B domain} a) (:b {B 1}) (:{B : get} prod) (:{bin : B} a) (:has bin) (:{isnt : B} b) (:{B : has} null) (:{B : nif} get) (:{B prod} B) (:{sum B} hasnt) (:put {1 B}) (:{B : nif} is) (:{B has} b) (:B {0 B}) (:{B : A} domain) (:is {B sum}) (:{B a} arg) (:{put : B} pass) (:B {B : nif}) (:B put) (:get {B : pass}) (:{B bin} domain) (:co {B right}) (:prod {B bin}) (:left {B : 0}) (:{hasnt : B} hasnt) (:{B hasnt} 0) (:nif {has B}) (:{put : B} b) (:{B put} null) (:{B a} left) (:{if : B} null) (:{0 : B} has) (:{co : B} 1) (:B {domain : B}) (:{B arg} A) (:{is B} A) (:put {B right}) (:B {pass : B}) (:put {has B}) (:{is B} 0) (:{b B} a) (:{isnt : B} hasnt) (:{0 : B} get) (:right {put B}) (:domain put) (:{0 : B} arg) (:{B co} if) (:sum {left : B}) (:b put) (:left {B : hasnt}) (:co {put : B}) (:put {pass : B}) (:{1 : B} hasnt) (:{B domain} pass) (:isnt {put B}) (:null isnt) (:{B : A} left) (:{B put} arg) (:is {domain : B}) (:domain isnt) (:{B domain} 0) (:null {put : B}) (:{B : left} is) (:put {B left}) (:is {arg : B}) (:1 {co : B}) (:b {B arg}) (:if {B : 1}) (:bin {put : B}) (:{put B} bin) (:{right : B}) (:bin {B : 1}) (:{null : B} 0) (:B {B : pass}) (:{B put} bin) (:{A : B} sum) (:if {B : pass}) (:left {B sum}) (:{right B} isnt) (:put {B domain}) (:{nif : B} co) (:hasnt {null : B}) (:{get : B} has) (:sum {B hasnt}) (:{if : B} a) (:a {B has}) (:B {B : A}) (:{null : B} left) (:{B domain} domain) (:{A B} null) (:{B : right} is) (:pass {B b}) (:{prod : B} is) (:domain {nif B}) (:{B : get} put) (:1 nif) (:{bin : B} put) (:has {B : null}) (:prod {B null}) (:{A B} 0) (:B {null B}) (:has {B hasnt}) (:{B bin} arg) (:has {B : sum}) (:1 {B : isnt}) (:{B pass} isnt) (:co {prod B}) (:if {put : B}) (:{null : B} has) (:{put B} has) (:null {B put}) (:{hasnt B} hasnt) (:sum is) (:{is : B} hasnt) (:B {B if}) (:{B get} get) (:b arg) (:get {bin : B}) (:arg {right B}) (:{B : has} get) (:{B : pass} left) (:isnt {domain : B}) (:get {B : prod}) (:isnt {arg B}) (:if put) (:co {domain B}) (:domain {is B}) (:1 {if : B}) (:A {B : A}) (:{B : 0} a) (:hasnt {B isnt}) (:domain domain) (:{B : is} b) (:{get : B} null) (:0 {B nif}) (:get {0 : B}) (:{sum B} domain) (:{B left} co) (:co {B : a}) (:{B hasnt} A) (:{prod B} put) (:{bin B} co) (:pass {nif : B}) (:{B 1} b) (:pass {B : is}) (:{B : co} nif) (:bin {B if}) (:{B : a} co) (:0 {B : right}) (:prod {B : 0}) (:{B : has} domain) (:{has B} prod) (:{put : B} prod) (:null {B nif}) (:put {B}) (:{B hasnt} prod) (:arg pass) (:{domain B} b) (:{B : a} sum) (:{right : B} co) (:{B : isnt} hasnt) (:if {isnt B}) (:b co) (:put {B : arg}) (:bin {null : B}) (:arg b) (:a A) (:B {B hasnt}) (:{null B} null) (:{1 B} put) (:{left B} if) (:prod {B prod}) (:{arg : B} arg) (:is A) (:{b : B} null) (:right {prod : B}) (:right {arg : B}) (:pass pass) (:{B hasnt} sum) (:if {0 B}) (:null {bin : B}) (:{B : has} a) (:has {pass B}) (:bin {B : A}) (:left {0 B}) (:1 A) (:{B nif} nif) (:{B : 1} 1) (:nif arg) (:{B A} co) (:left domain) (:co right) (:B A) (:{B hasnt}) (:1 {B : nif}) (:{B : nif} 1) (:{0 B} arg) (:0 {B left}) (:{B get} 1) (:b {sum : B}) (:{B 0} b) (:right {B : nif}) (:hasnt {B : b}) (:1 left) (:{B : sum} isnt) (:is {B a}) (:{B null} a) (:{B : nif} sum) (:hasnt {B left}) (:{B : b} prod) (:get a) (:{null B} domain) (:{B co} 0) (:{pass B} arg) (:prod {B right}) (:{B sum} put) (:{B : get} pass) (:{if B} B) (:A {if : B}) (:{nif B} get) (:{B 0} pass) (:pass {B : hasnt}) (:prod {hasnt B}) (:{B 0} if) (:if prod) (:{if : B} 0) (:prod {A B}) (:isnt {bin : B}) (:{bin : B} isnt) (:hasnt {put : B}) (:{sum : B} arg) (:{right : B} has) (:{B : co} b) (:{put : B} 1) (:is {B arg}) (:{B isnt} hasnt) (:is {has : B}) (:A {B : arg}) (:is {has B}) (:1 {left : B}) (:{get B} nif) (:A {B : right}) (:left {nif B}) (:hasnt {B 0}) (:{if B} 0) (:{hasnt : B} co) (:put {B pass}) (:null {left B}) (:get {B bin}) (:1 {B 1}) (:{B isnt} 1) (:{has : B} hasnt) (:nif) (:null {a : B}) (:sum {B : 1}) (:a {right B}) (:{co : B} left) (:bin {B : null}) (:{B A} a) (:{B right} nif) (:B {B has}) (:{B : pass} B) (:{left B} put) (:hasnt {isnt : B}) (:{sum : B} 0) (:bin {B bin}) (:b {B : pass}) (:{hasnt B} domain) (:has {b : B}) (:isnt {B hasnt}) (:{left : B} null) (:is {left B}) (:{put : B} hasnt) (:bin {sum B}) (:domain {B A}) (:{B : domain} left) (:{prod : B} arg) (:hasnt b) (:b {B : if}) (:a {has B}) (:null {has B}) (:{put B} a) (:has {get : B}) (:{B : is} prod) (:put {B : left}) (:null {B left}) (:{prod : B} pass) (:{bin B} a) (:{B : null} b) (:isnt {B right}) (:domain {B : 1}) (:0 {null B}) (:sum {0 : B}) (:null put) (:hasnt has) (:arg {B pass}) (:prod {B has}) (:a {A B}) (:{B : isnt} pass) (:{bin : B} has) (:bin {B pass}) (:{B co} b) (:A {B A}) (:right {co B}) (:{B sum} if) (:{B put} hasnt) (:1 {hasnt B}) (:prod right) (:pass {A B}) (:right pass) (:1 {A : B}) (:{B : bin} hasnt) (:get {B put}) (:a {prod : B}) (:1 {sum : B}) (:{0 B} b) (:sum {0 B}) (:{B sum} prod) (:has {B : b}) (:{B : pass} nif) (:0 {right : B}) (:{pass B} hasnt) (:{B co} pass) (:{B 1} hasnt) (:left {has B}) (:{right : B} put) (:{B if} arg) (:get left) (:left {B : nif}) (:{is : B} right) (:nif {B : a}) (:put has) (:{B : null} 0) (:get {B isnt}) (:arg nif) (:{B : hasnt}) (:{B : left} sum) (:put {B bin}) (:{isnt B} sum) (:{b B} left) (:1 {B : bin}) (:{B bin} left) (:arg {B : A}) (:if {a B}) (:{right B} get) (:prod {B : bin}) (:left {arg : B}) (:{B null} prod) (:{B A} b) (:is) (:if bin) (:right A) (:{left : B} is) (:{B 0} bin) (:bin 0) (:{right : B} bin) (:{B : sum} b) (:{B : if} is) (:{B : right} a) (:null null) (:{B prod} 1) (:prod domain) (:nif {B : left}) (:is {B : put}) (:bin {co : B}) (:if {a : B}) (:co {right B}) (:{B : arg} arg) (:{B arg} is) (:if {domain B}) (:{B : get} A) (:{B : arg} if) (:{B get} 0) (:put {B : 1}) (:{B isnt} arg) (:{B has} nif) (:{B prod} put) (:{B put} put) (:{B bin} put) (:1 has) (:put {B b}) (:sum {B isnt}) (:sum {B : if}) (:{B put} 0) (:{a : B}) (:{sum : B} B) (:is 1) (:b {B put}) (:null {B : b}) (:null {has : B}) (:is {null B}) (:{pass : B} 1) (:{B : get} get) (:{B : nif} null) (:null {B : domain}) (:{B 1} if) (:{B is} has) (:if {has : B}) (:right {B : isnt}) (:B {B : right}) (:{co : B} A) (:co {0 B}) (:pass 0) (:prod {nif B}) (:b {b : B}) (:{B 1} 0) (:a {B : left}) (:B {B bin}) (:{bin : B} left) (:{B : has} A) (:A b) (:{a B} A) (:1 {B arg}) (:domain {B : right}) (:arg {B}) (:{pass : B} left) (:isnt {prod : B}) (:{B : A} 1) (:{0 : B} 1) (:{B : hasnt} is) (:0 {B : get}) (:A prod) (:{B : isnt} is) (:B {B : hasnt}) (:0 {B right}) (:B {B : b}) (:{co B} left) (:{B pass} b) (:{1 : B} right) (:{right B} B) (:{put : B} if) (:{bin : B} is) (:domain {hasnt B}) (:null {B : right}) (:co {B sum}) (:{sum : B} 1) (:1 {B : prod}) (:a {B : 1}) (:{isnt : B}) (:prod) (:{B is} 1) (:{arg : B} domain) (:isnt domain) (:{has B} has) (:has {co : B}) (:{co : B} pass) (:sum {B : get}) (:prod left) (:pass {get : B}) (:null {hasnt : B}) (:{nif : B} sum) (:get {B : 1}) (:{B : hasnt} isnt) (:right has) (:pass {1 B}) (:nif {co : B}) (:null {B hasnt}) (:0 left) (:left {prod : B}) (:{B : pass} arg) (:{pass B}) (:B {B : a}) (:{b B} A) (:if {B : arg}) (:{B pass} sum) (:{if : B} pass) (:is {B put}) (:{B : 0} 1) (:A isnt) (:A {B : co}) (:{B a} get) (:{null B} is) (:null pass) (:{a : B} B) (:{B a} isnt) (:{B : right} right) (:{has B} 1) (:{B} isnt) (:hasnt {B : get}) (:pass {B : A}) (:0 pass) (:sum {co : B}) (:get {prod B}) (:1 {B : get}) (:{b : B}) (:put {B a}) (:{B nif} arg) (:{B b} left) (:pass A) (:null {B domain}) (:0 {B if}) (:{B : if} pass) (:B {bin : B}) (:{B : right} pass) (:{has : B} 0) (:{B : isnt} arg) (:{B null} 0) (:{b : B} get) (:{is B} b) (:get {co : B}) (:{sum B} put) (:{0 B}) (:is {B : A}) (:null {a B}) (:1 {B is}) (:{B left} get) (:0 {B : b}) (:{B has} bin) (:{arg B} if) (:{sum : B} bin) (:{B a} B) (:{get B} bin) (:arg {nif : B}) (:get {B A}) (:{sum B} pass) (:{is : B} sum) (:{if B} is) (:{isnt : B} A) (:co {B 0}) (:A {null B}) (:{B : put} domain) (:if {B : is}) (:co nif) (:isnt arg) (:{put B} put) (:hasnt {0 B}) (:arg {null B}) (:{B : A} put) (:A B) (:1 {0 B}) (:B {b B}) (:{B : bin} sum) (:{if : B} arg) (:{null B} a) (:{a B} right) (:{pass B} B) (:hasnt {B null}) (:left {A B}) (:A {0 : B}) (:{pass B} left) (:A {B : prod}) (:{has : B} bin) (:is {B has}) (:get {B a}) (:nif {left : B}) (:has {sum B}) (:A {B}) (:{nif : B} right) (:left {B pass}) (:nif {B : if}) (:right {domain B}) (:{nif B} if) (:right {A : B}) (:{B : is} A) (:b {B : right}) (:get {B : a}) (:bin left) (:has) (:is isnt) (:{pass : B} if) (:{bin : B} 1) (:hasnt A) (:{B : is} get) (:{B : arg} co) (:prod if) (:{B : domain} sum) (:if if) (:{B arg} 0) (:{hasnt B} pass) (:{B left} 1) (:left {get : B}) (:{0 : B} a) (:{B : prod} sum) (:co {isnt : B}) (:a {get : B}) (:1 {a : B}) (:{B has} hasnt) (:{1 B} if) (:pass {a B}) (:co {B : nif}) (:{B : has} prod) (:co {B : arg}) (:B {is : B}) (:nif {pass : B}) (:{B co} has) (:{put B} sum) (:{prod B} is) (:has b) (:co {B : co}) (:{if : B} is) (:{arg : B} co) (:isnt {1 B}) (:is {A B}) (:{B : if} right) (:A {isnt B}) (:{A B} has) (:has {B : domain}) (:a has) (:{B : b} 1) (:1 {has B}) (:if {B : a}) (:{if : B} sum) (:{B co} hasnt) (:b {isnt B}) (:{hasnt B} right) (:isnt {if B}) (:bin sum) (:domain {0 B}) (:{B : null} 1) (:left {sum B}) (:left {null : B}) (:has {arg : B}) (:{B : pass} get) (:bin {get : B}) (:{B null} get) (:{B : A} right) (:{left B} null) (:{sum B} has) (:right co) (:hasnt {B arg}) (:{B : null} arg) (:sum {B A}) (:{B : domain} arg) (:nif {B : nif}) (:{a : B} arg) (:co if) (:domain {put B}) (:hasnt {B : A}) (:if {B : left}) (:{B hasnt} has) (:{B arg} nif) (:{right : B} B) (:pass get) (:{domain B} is) (:{B} if) (:prod {B : pass}) (:nif {hasnt : B}) (:hasnt {B A}) (:b {get B}) (:null {B : is}) (:co {left : B}) (:nif {B hasnt}) (:if {B nif}) (:{B : A} null) (:{B : put} 0) (:if {is B}) (:if {B is}) (:B {prod B}) (:co {if B}) (:B {B get}) (:bin {0 : B}) (:B null) (:bin {is B}) (:right put) (:{A B} is) (:nif {B : hasnt}) (:isnt {0 : B}) (:if 1) (:{B has} 0) (:1 {is : B}) (:A {B co}) (:prod a) (:{b B} right) (:B {B arg}) (:put {has : B}) (:{B pass} get) (:co {nif : B}) (:b is) (:{0 B} if) (:b {bin : B}) (:{B has} get) (:pass {B : isnt}) (:sum {B : put}) (:left {arg B}) (:left {B has}) (:{B : get} has) (:{put : B} arg) (:bin {bin B}) (:isnt {B : prod}) (:{get B} domain) (:is {B bin}) (:{B put} co) (:{B has} has) (:1 {B}) (:{0 B} pass) (:a {B hasnt}) (:{B : left} A) (:right {nif : B}) (:1 {put : B}) (:bin {B : 0}) (:{B if} nif) (:has has) (:A {prod : B}) (:{sum B} if) (:get {left : B}) (:{B if} co) (:{put : B} null) (:{domain : B} bin) (:{B : right} b) (:b {null : B}) (:{0 B} hasnt) (:{left : B} B) (:prod {co : B}) (:has {B 1}) (:left {B : left}) (:isnt {hasnt : B}) (:isnt {put : B}) (:domain {B : get}) (:put hasnt) (:a {put B}) (:domain {B : hasnt}) (:b {pass B}) (:left 1) (:right {B right}) (:is {isnt : B}) (:co {left B}) (:{left B} get) (:sum {B left}) (:A {has B}) (:{sum : B} prod) (:{B : bin} B) (:{prod : B} co) (:{B b} b) (:put {B : get}) (:if {if : B}) (:co {hasnt B}) (:left bin) (:{if : B} put) (:left {B : 1}) (:{hasnt B} nif) (:{B left} B) (:hasnt left) (:{left : B} nif) (:{B : b} co) (:nif {nif : B}) (:right {isnt B}) (:null {B : 0}) (:{B : arg} 0) (:null {sum : B}) (:{B A} get) (:hasnt {right : B}) (:right {a : B}) (:0 isnt) (:{sum B} nif) (:{B b} bin) (:A {B right}) (:0 {B A}) (:{B right} if) (:{B : hasnt} prod) (:bin {B : hasnt}) (:{B arg} isnt) (:{hasnt : B} is) (:left 0) (:prod {1 : B}) (:if {B : get}) (:{domain B} pass) (:{isnt B} domain) (:{B co} 1) (:{B hasnt} nif) (:has A) (:{B nif} 1) (:bin {B : a}) (:{B hasnt} b) (:co {B : is}) (:{put B} null) (:0 {bin B}) (:{B : is} domain) (:a {B : isnt}) (:{B : get} co) (:{b B} b) (:{is B} B) (:domain {B : isnt}) (:{null : B} domain) (:domain {pass B}) (:b {A : B}) (:{is : B} arg) (:sum {null : B}) (:{B : if} has) (:B {0 : B}) (:{B isnt} if) (:hasnt {pass B}) (:b right) (:{B : left} put) (:{null : B} prod) (:isnt get) (:0 A) (:bin {B 1}) (:co {B domain}) (:{B null} A) (:arg {is B}) (:0 null) (:has 0) (:has {A B}) (:{B co} domain) (:{B : 0} arg) (:hasnt {get : B}) (:{B : co} domain) (:pass {B : null}) (:{pass B} prod) (:bin {right B}) (:prod {is B}) (:{pass : B} prod) (:{sum : B} right) (:{B : a} 0) (:{B pass} null) (:{a B} sum) (:right {B : sum}) (:{B : domain} 0) (:sum {B get}) (:{B if} put) (:{put : B} A) (:{B : 0} domain) (:{B : domain} prod) (:{B left} nif) (:pass null) (:nif {get B}) (:{B : left} 1) (:is prod) (:A {B : left}) (:left {B a}) (:{right : B} A) (:{is B} is) (:{B : isnt} prod) (:{B} pass) (:1 co) (:{sum B} b) (:isnt {b B}) (:null co) (:{1 B} prod) (:{B : left} domain) (:{B bin} if) (:{B : arg} isnt) (:{B : nif} nif) (:{B : co} if) (:bin {B has}) (:nif {null B}) (:{hasnt : B} prod) (:0 {0 B}) (:sum {B sum}) (:{B get} put) (:A {nif B}) (:hasnt is) (:{1 B} has) (:isnt {b : B}) (:{put : B} domain) (:{co : B} if) (:{0 : B} prod) (:is {co B}) (:bin {co B}) (:if A) (:{B right} sum) (:hasnt {A : B}) (:{get B} A) (:{b B} bin) (:right {prod B}) (:{if B} co) (:if {co B}) (:a arg) (:{if : B} prod) (:prod {B put}) (:left {isnt : B}) (:{co : B} arg) (:{B domain} prod) (:{B : arg} nif) (:{B put} B) (:1 {B pass}) (:sum {hasnt : B}) (:if left) (:A arg) (:isnt {B : right}) (:get {hasnt : B}) (:{bin : B} domain) (:b {isnt : B}) (:{B prod} b) (:0 {B : a}) (:{B : null}) (:{A B} right) (:{left : B} A) (:get {B : null}) (:hasnt {b B}) (:{put : B}) (:nif {B : isnt}) (:{b B} nif) (:domain {B pass}) (:{B : bin} left) (:{put B} B) (:domain {B : nif}) (:{null B} A) (:{B} right) (:arg {b B}) (:left sum) (:prod {B : sum}) (:pass {B : 0}) (:null {B : bin}) (:{prod B} co) (:is null) (:{nif : B} bin) (:get isnt) (:put {put B}) (:{B : 0} sum) (:isnt {co : B}) (:pass {pass : B}) (:{B : hasnt} null) (:left {B : get}) (:has {B nif}) (:a {is B}) (:B {is B}) (:a {B b}) (:{B right} bin) (:{B if} 0) (:{put : B} bin) (:a {B a}) (:bin {sum : B}) (:arg {B : sum}) (:has pass) (:is {B if}) (:domain {co : B}) (:arg domain) (:has {B : if}) (:0 {B sum}) (:{B get} isnt) (:{B 0} put) (:left {put B}) (:1 {is B}) (:prod {get B}) (:{domain B} co) (:domain {prod B}) (:has {B : isnt}) (:{B 1} co) (:{B : a} prod) (:domain 0) (:0 {prod B}) (:isnt {bin B}) (:right {B : if}) (:A {arg : B}) (:{1 B} b) (:{B prod} 0) (:is {is : B}) (:{B : put} a) (:pass {pass B}) (:arg {get : B}) (:{right : B} right) (:{nif B} pass) (:nif right) (:{A : B} right) (:{B arg} get) (:right {co : B}) (:pass {B}) (:prod {isnt B}) (:{b : B} co) (:nif {B : null}) (:{B 0} sum) (:{co B} bin) (:pass {B null}) (:{a B}) (:sum {right B}) (:{hasnt B} is) (:{B bin} get) (:{B left} 0) (:{B b} put) (:is {B is}) (:b {B sum}) (:0 {put B}) (:right prod) (:b prod) (:right {B co}) (:{B : A} co) (:{get : B} bin) (:a {right : B}) (:B {A B}) (:{left B} domain) (:prod {prod : B}) (:bin {B get}) (:B pass) (:{B co}) (:{B a} prod) (:{B is} if) (:{B bin}) (:{has : B} co) (:{B A} if) (:{if B}) (:{B null} arg) (:a isnt) (:{prod B} A) (:{arg : B} put) (:{if B} arg) (:{B domain} hasnt) (:{B right} 1) (:hasnt {B : sum}) (:nif {B : sum}) (:{nif B} co) (:put {B : b}) (:co co) (:{right : B} a) (:{B domain}) (:0 nif) (:{B A} left) (:bin {domain B}) (:put co) (:get {B : left}) (:{B isnt} null) (:bin {nif B}) (:{B co} bin) (:put A) (:{B} co) (:get {B hasnt}) (:{B b} right) (:{B isnt} is) (:a {B : put}) (:b {B get}) (:prod {arg : B}) (:{nif : B} if) (:hasnt {B : arg}) (:{isnt : B} pass) (:{domain B} get) (:nif {co B}) (:{B : pass} isnt) (:b {B : domain}) (:{prod B}) (:domain {B arg}) (:arg {bin : B}) (:{B : prod} 1) (:isnt {nif : B}) (:{0 : B} bin) (:bin {put B}) (:arg {b : B}) (:pass {sum : B}) (:domain {1 : B}) (:{sum : B} isnt) (:{B}) (:prod arg) (:{1 B} sum) (:{domain B} prod) (:A 1) (:null {right : B}) (:{B : put} nif) (:{hasnt B} bin) (:hasnt {B prod}) (:{null : B} if) (:{B a} b) (:{arg : B} if) (:{left : B} right) (:prod {hasnt : B}) (:isnt {left : B}) (:{put : B} put) (:{B 1} has) (:{B b} pass) (:B {B 1}) (:right {B if}) (:{B arg} domain) (:is if) (:has {B : get}) (:B {domain B}) (:{B isnt} 0) (:co {pass B}) (:{null B} 1) (:{arg B} is) (:{B : left} isnt) (:{has : B} 1) (:{pass : B} pass) (:{put : B} co) (:{B : b} null) (:{A B} b) (:has {b B}) (:sum A) (:hasnt {B pass}) (:{B : a} arg) (:pass has) (:arg A) (:{B : put} left) (:left put) (:{a : B} null) (:pass B) (:right {B a}) (:if {B right}) (:nif {B domain}) (:{B left} null) (:{B 0} arg) (:{B right} pass) (:isnt {B a}) (:{is : B} nif) (:a {B : bin}) (:{sum B} right) (:{B put} has) (:{co B} 1) (:{A : B} A) (:get {hasnt B}) (:b {B pass}) (:0 {B : nif}) (:B {B : arg}) (:{B : has} arg) (:1 {B : sum}) (:B {right B}) (:sum {B : right}) (:{1 : B} 0) (:bin {isnt B}) (:get has) (:B {1 : B}) (:{pass : B} put) (:{B : prod} put) (:pass {sum B}) (:{A B} isnt) (:{get B} b) (:left {bin B}) (:has {B if}) (:{B pass} A) (:is arg) (:{B : A} A) (:{B : is} hasnt) (:{A B} pass) (:B {co : B}) (:{B : arg} put) (:b {has : B}) (:{B : if} hasnt) (:{left : B} hasnt) (:if null) (:{sum : B} nif) (:left {sum : B}) (:{B sum} left) (:{B A} hasnt) (:{put B} 0) (:{0 B} bin) (:left {B co}) (:{B if} null) (:{B} prod) (:{put B}) (:isnt {hasnt B}) (:get {b : B}) (:right {get B}) (:0 {hasnt : B}) (:{B bin} 1) (:is {B : sum}) (:pass {0 : B}) (:put {put : B}) (:{is : B} co) (:{sum B} left) (:hasnt {B : pass}) (:{B : pass} sum) (:{B : b} if) (:{B A} 1) (:null {null : B}) (:sum {b B}) (:b {B has}) (:bin {pass : B}) (:{B : bin} nif) (:0 {A B}) (:{domain B} 0) (:{is : B} has) (:co {B pass}) (:{hasnt B} B) (:{nif B} A) (:A {B a}) (:{co B} if) (:{B co} a) (:A {get : B}) (:a {B : if}) (:{B b} get) (:{B prod} left) (:bin bin) (:A if) (:domain {domain : B}) (:{B : 1} get) (:{B pass} bin) (:get {B 1}) (:{B co} put) (:{B bin} b) (:{put B} isnt) (:sum right) (:{put B} A) (:arg {1 : B}) (:pass {B nif}) (:null {isnt : B}) (:co bin) (:co {is : B}) (:{A B} put) (:{sum B} arg) (:isnt has) (:domain {left : B}) (:{B : null} prod) (:sum B) (:{B : arg} right) (:right 0) (:is {if B}) (:{B put} A) (:a {bin B}) (:{B prod} bin) (:right {B : arg}) (:is {B : co}) (:{B : if} get) (:0 {nif : B}) (:{B : isnt}) (:get {B has}) (:right {pass : B}) (:{co : B} hasnt) (:right {B : is}) (:put left) (:prod {B get}) (:nif sum) (:{B : 0} has) (:{prod : B} nif) (:domain {put : B}) (:A sum) (:{B prod} null) (:sum {B null}) (:prod {B : right}) (:put {domain B}) (:{1 : B}) (:co {B co}) (:{B : arg} bin) (:0 {if B}) (:{B 1} left) (:{B 0} right) (:is {get : B}) (:{B right} isnt) (:{a : B} isnt) (:{B : domain} has) (:{is B} prod) (:{B is} sum) (:{B : domain} put) (:is {arg B}) (:b {1 B}) (:pass {0 B}) (:bin {right : B}) (:get b) (:null {B}) (:left {0 : B}) (:{B : has} put) (:bin {is : B}) (:{B : prod} pass) (:arg {if : B}) (:{B is} hasnt) (:{right B} if) (:{B domain} co) (:pass {if : B}) (:{B : put} co) (:{B : arg} is) (:has {B : has}) (:pass bin) (:is {b B}) (:domain {B : is}) (:sum {pass B}) (:B {null : B}) (:domain {B hasnt}) (:{B b} if) (:{right B} left) (:left {B b}) (:sum {B : left}) (:{nif B} arg) (:{B left} A) (:put {B isnt}) (:nif left) (:co {isnt B}) (:if {B : right}) (:isnt {arg : B}) (:0 {null : B}) (:{B domain} 1) (:{B : b} get) (:{B A} sum) (:{B : prod} left) (:{hasnt : B} 0) (:{is : B} is) (:{1 : B} left) (:{B domain} nif) (:{B : sum} sum) (:get {B right}) (:sum {nif B}) (:arg {left B}) (:{hasnt B} has) (:if co) (:nif {hasnt B}) (:domain {B b}) (:b {B : 1}) (:{B bin} right) (:{B : 1} right) (:{B : prod} arg) (:right {put : B}) (:{A B} co) (:{arg : B} A) (:right {B : b}) (:co get) (:{0 B} 0) (:a {B : hasnt}) (:co {right : B}) (:put {B : domain}) (:domain {B put}) (:{left : B} pass) (:B 1) (:{A : B} get) (:{B : sum} 0) (:{hasnt : B} isnt) (:0 {isnt B}) (:a {B : 0}) (:{B pass} domain) (:{right : B} left) (:{sum B} null) (:0 {B put}) (:{null : B}) (:bin {0 B}) (:{domain : B} sum) (:if nif) (:1 prod) (:right {B left}) (:has {B : left}) (:{null B} B) (:{1 : B} if) (:right sum) (:{right : B} prod) (:null {sum B}) (:arg {bin B}) (:isnt {B put}) (:{B prod} co) (:A get) (:1 {A B}) (:{A B} nif) (:1 {nif B}) (:{B : 1} bin) (:{0 B} null) (:1 {domain : B}) (:A {sum B}) (:domain get) (:pass {is : B}) (:0 {B : 1}) (:{B nif} null) (:prod sum) (:get domain) (:{null B} has) (:pass left) (:1 {co B}) (:{prod B} null) (:prod {arg B}) (:put {0 : B}) (:B {B : if}) (:put {B : null}) (:1 {B : co}) (:null {B is}) (:{B : arg} b) (:b {nif : B}) (:arg {B null}) (:hasnt {nif : B}) (:left {B : arg}) (:{B : 1} is) (:{B co} B) (:A {B pass}) (:a left) (:domain if) (:a {co : B}) (:put {B is}) (:{has : B} get) (:A {1 : B}) (:1 {B null}) (:right B) (:co {B : domain}) (:has if) (:{a : B} bin) (:{B if} pass) (:{B : isnt} 1) (:{a : B} A) (:nif prod) (:{B : sum} bin) (:{B : pass} is) (:null {B : isnt}) (:1 {B : right}) (:a {B A}) (:{A : B} prod) (:B {prod : B}) (:{pass : B} a) (:{co B} 0) (:hasnt {isnt B}) (:{B put} right) (:bin {B prod}) (:a {0 B}) (:{null : B} null) (:pass {B right}) (:{b B} sum) (:domain {b B}) (:left {B : right}) (:{B arg} b) (:is {B b}) (:arg {B 1}) (:a {a : B}) (:{B domain} b) (:{A : B} domain) (:a {domain B}) (:{B a} a) (:sum {get B}) (:{B : nif} bin) (:{B pass} prod) (:{B : b} nif) (:{B : domain} get) (:bin co) (:{co B} isnt) (:arg arg) (:{if B} get) (:1 {B a}) (:{isnt : B} left) (:{B : isnt} right) (:sum left) (:A nif) (:{b : B} bin) (:arg {B nif}) (:0 {B : isnt}) (:if) (:co {B is}) (:null {B 1}) (:{B : left} arg) (:{B arg} right) (:{B arg} pass) (:{get B} right) (:{B pass} co) (:0 {B : null}) (:if {B : if}) (:arg {arg : B}) (:a a) (:domain A) (:{B 1} null) (:{B : 0} A) (:{bin : B} right) (:{B pass} left) (:{B} a) (:{domain B} isnt) (:{bin : B} bin) (:{nif : B} B) (:0 {0 : B}) (:hasnt) (:{B null} put) (:co has) (:nif {pass B}) (:{if B} if) (:prod {B A}) (:is {B : get}) (:prod {isnt : B}) (:{B left} put) (:if {nif B}) (:{prod B} pass) (:isnt {isnt : B}) (:{get B} B) (:0 right) (:isnt {prod B}) (:{if : B} get) (:put {B put}) (:if {B : isnt}) (:a {B nif}) (:{B : if} B) (:{a : B} if) (:{B : arg} null) (:{A B} sum) (:{hasnt : B} get) (:co b) (:{B : null} put) (:{B : pass} has) (:is {B : prod}) (:{B : sum} null) (:A {B : bin}) (:{B : put} hasnt) (:1 {right : B}) (:{B : is} null) (:get nif) (:{B : prod} right) (:{left B} arg) (:prod {B nif}) (:b left) (:{co B} domain) (:{B : 0} left) (:A {arg B}) (:{has : B} pass) (:sum {B}) (:is {B : 1}) (:if {B domain}) (:{B b} A) (:B {B : null}) (:{B : a} domain) (:put {b B}) (:get {isnt B}) (:{is B} has) (:{A : B} hasnt) (:{B pass} 0) (:{B : prod} prod) (:{B : a}) (:0 {if : B}) (:{B : a} is) (:{B a} nif) (:{B : isnt} isnt) (:pass {a : B}) (:left {a : B}) (:pass 1) (:has {B : a}) (:{B nif} b) (:sum {arg B}) (:sum nif) (:pass domain) (:1 1) (:A {bin : B}) (:isnt a) (:{hasnt B} 0) (:sum put) (:{B : get} right) (:{B : get} domain) (:b null) (:{B 0} null) (:{B has} 1) (:{prod B} 1) (:co A) (:hasnt {B hasnt}) (:{hasnt : B} right) (:{null B} b) (:{0 B} left) (:put {arg : B}) (:right b) (:A {B : is}) (:hasnt {arg B}) (:put B) (:{nif : B} a) (:{a B} 0) (:right {B : put}) (:put {is : B}) (:{b : B} hasnt) (:arg {B sum}) (:{a B} arg) (:is {B A}) (:{B : 0} 0) (:bin isnt) (:pass {b : B}) (:is {sum : B}) (:1 isnt) (:arg {has B}) (:right {B : 0}) (:has {hasnt : B}) (:isnt {has B}) (:{get B} if) (:left {B : null}) (:hasnt {has : B}) (:put {B : if}) (:{B : a} A) (:if {left B}) (:{B : a} nif) (:1 {pass B}) (:{B : 0} pass) (:1 {1 : B}) (:{1 B} is) (:isnt {B sum}) (:pass) (:a right) (:is {B : left}) (:is {B 0}) (:{B : null} pass) (:arg {isnt : B}) (:{B : hasnt} co) (:{sum B} get) (:is co) (:pass {1 : B}) (:{B : is}) (:{B bin} 0) (:{B : bin} isnt) (:right {B sum}) (:{B is} is) (:has a) (:{B domain} has) (:put {B co}) (:b {B prod}) (:{domain : B} left) (:get {sum B}) (:1 is) (:B {B pass}) (:has {nif B}) (:isnt) (:co 1) (:{1 B} hasnt) (:is {if : B}) (:nif nif) (:{null : B} B) (:a domain) (:{1 : B} is) (:is {A : B}) (:{null B} nif) (:{B : nif} prod) (:{A : B} put) (:B {hasnt : B}) (:{hasnt : B} B) (:{B : get} hasnt) (:{pass : B} null) (:{A B} 1) (:pass {isnt B}) (:{B is} pass) (:{get : B} arg) (:b {B : arg}) (:{get B} has) (:{null : B} isnt) (:isnt hasnt) (:arg sum) (:if {B has}) (:domain is) (:{isnt B} a) (:if b) (:{left B} a) (:is {co : B}) (:if {B pass}) (:right arg) (:{B hasnt} right) (:{arg B} put) (:{null : B} A) (:B {B right}) (:left {pass B}) (:null {1 B}) (:{bin B} has) (:domain {get B}) (:pass {B : get}) (:{B : co} is) (:b {B : b}) (:{get B} arg) (:{is B} nif) (:nif {sum : B}) (:a {hasnt : B}) (:{B : sum} domain) (:{sum : B} pass) (:{B : domain} if) (:b A) (:{B arg} if) (:{right : B} arg) (:{B : if} isnt) (:B {if B}) (:isnt {A B}) (:{B : domain} domain) (:isnt isnt) (:{prod B} a) (:{put B} if) (:{bin B} sum) (:{get B} left) (:{put : B} left) (:{a : B} put) (:A {B : has}) (:{is B} left) (:bin {B : domain}) (:isnt {B : sum}) (:sum {B 0}) (:get right) (:get {null : B}) (:hasnt {1 : B}) (:{B : isnt} put) (:bin null) (:{null : B} arg) (:{B pass} 1) (:{B 0} has) (:{b : B} B) (:0 arg) (:pass {put B}) (:{put B} arg) (:A {B nif}) (:{prod : B} 1) (:A {b : B}) (:A {B : sum}) (:{co : B} put) (:{prod B} sum) (:hasnt {arg : B}) (:0 {B : arg}) (:{has B} sum) (:A {0 B}) (:{B : null} isnt) (:{left : B}) (:{right B} co) (:arg {get B}) (:A is) (:1 {right B}) (:arg {B : b}) (:{B : right} A) (:{prod B} arg) (:nif {domain B}) (:a {has : B}) (:{B 1} 1) (:pass {B : put}) (:has prod) (:is {right : B}) (:{co B} B) (:bin B) (:a {0 : B}) (:b {B null}) (:{A : B} null) (:{B : right}) (:has {B : A}) (:{B right} put) (:B nif) (:{B pass} hasnt) (:{B 0} nif) (:{domain : B} is) (:0 {get B}) (:1) (:{B : 1} null) (:has {co B}) (:{B : sum} right) (:{null B}) (:{B 0} B) (:co {B left}) (:{B 1} bin) (:{A : B} left) (:{isnt B} if) (:prod {put B}) (:{nif B} b) (:0 {B : if}) (:hasnt 1) (:B {sum : B}) (:get {B : co}) (:{nif B} is) (:hasnt {left B}) (:{B nif}) (:1 {B nif}) (:arg isnt) (:{B : pass} A) (:{right B} nif) (:{isnt B} 1) (:{arg B} isnt) (:co arg) (:0 {B domain}) (:right {B : prod}) (:A {B bin}) (:{B : get} nif) (:{B : domain} pass) (:right 1) (:null {B null}) (:domain {A B}) (:A {B : b}) (:hasnt {sum : B}) (:null bin) (:{B : sum} A) (:has {B domain}) (:right {B : A}) (:has {get B}) (:{B : null} A) (:nif {domain : B}) (:{B arg} 1) (:{is B} isnt) (:co {has B}) (:hasnt {a : B}) (:{is : B} b) (:{B : b} bin) (:{sum B} co) (:{pass B} if) (:{B bin} sum) (:{B nif} right) (:nif {B arg}) (:bin {B : left}) (:1 {isnt : B}) (:put {A : B}) (:{has : B} b) (:{pass : B} get) (:{B put} left) (:domain {B has}) (:{has B} 0) (:prod {B : left}) (:{B : sum} get) (:sum {get : B}) (:{B : null} co) (:domain hasnt) (:bin {arg : B}) (:{1 : B} domain) (:{if B} prod) (:domain {B : a}) (:left {is B}) (:co {a : B}) (:co {domain : B}) (:{left B} hasnt) (:nif {B : right}) (:1 {domain B}) (:{B is}) (:{null : B} put) (:co {B isnt}) (:b pass) (:{B : nif} arg) (:a {B : null}) (:hasnt {B : 1}) (:null {0 : B}) (:isnt {B : is}) (:is {hasnt B}) (:0 {B : is}) (:isnt {B 1}) (:{co : B} bin) (:{is : B} 1) (:{B : get} null) (:sum {B : 0}) (:co {B : if}) (:{1 B} right) (:{nif B} nif) (:co {b : B}) (:nif 1) (:prod co) (:{left : B} prod) (:{prod : B} if) (:co {B arg}) (:{arg B}) (:put {B hasnt}) (:bin {B : b}) (:{B : null} if) (:{B null}) (:sum 1) (:{co B} co) (:co pass) (:right {B : domain}) (:b {B : left}) (:{isnt : B} get) (:{B : has} 0) (:prod {nif : B}) (:{B : is} has) (:put {B : bin}) (:0 {B bin}) (:{nif B} right) (:1 {arg B}) (:bin {hasnt : B}) (:{pass B} domain) (:sum {co B}) (:nif {b : B}) (:nif {B : arg}) (:{is : B} A) (:{pass B} A) (:b {B : A}) (:prod {bin : B}) (:is {a : B}) (:co {co : B}) (:prod {B : nif}) (:get {B nif}) (:{B : hasnt} B) (:a {null : B}) (:right nif) (:b {B b}) (:hasnt pass) (:co 0) (:{B right} has) (:a {bin : B}) (:{a B} 1) (:{B get} if) (:{B : 1} 0) (:{a : B} right) (:{pass : B} co) (:{B pass} a) (:b {B if}) (:{B : if} sum) (:domain {B null}) (:arg {B 0}) (:A {B arg}) (:put {B A}) (:has {sum : B}) (:{domain : B} b) (:get {nif : B}) (:bin nif) (:{if B} has) (:has {B is}) (:hasnt {B sum}) (:1 {B : is}) (:{B : A} isnt) (:{B : has} if) (:get {is B}) (:left nif) (:A {B null}) (:a pass) (:if pass) (:bin {B sum}) (:B {B a}) (:right {B : 1}) (:a {A : B}) (:{a B} null) (:{B pass}) (:null {arg : B}) (:nif {null : B}) (:{domain : B} put) (:co {B 1}) (:arg 0) (:{B sum} hasnt) (:co {B : get}) (:{B domain} right) (:{get : B} A) (:co {B : right}) (:{B left} b) (:arg get) (:pass {arg : B}) (:{sum : B} A) (:{prod B} B) (:{nif : B} has) (:{B a} null) (:B is) (:b {co : B}) (:{if : B} left) (:{B : has} right) (:{b B} null) (:{B : A} nif) (:{a : B} sum) (:arg {is : B}) (:{B : right} if) (:0 {sum : B}) (:arg {pass : B}) (:a sum) (:isnt {B : bin}) (:{B : hasnt} a) (:{B : 1} left) (:{put B} 1) (:{B : nif} left) (:nif if) (:{b : B} nif) (:sum {b : B}) (:isnt null) (:isnt {nif B}) (:isnt {B : if}) (:{has : B} if) (:a {B : co}) (:{has B} A) (:0 {B : hasnt}) (:{0 B} get) (:null {b B}) (:{B pass} B) (:A {has : B}) (:domain right) (:arg {B : has}) (:co {sum B}) (:sum get) (:right {a B}) (:{sum B} 1) (:{B : domain} co) (:{bin : B} null) (:nif {get : B}) (:{B : has} bin) (:{arg : B} b) (:{B is} nif) (:{B domain} A) (:{B hasnt} bin) (:{get : B} 0) (:{domain : B} isnt) (:null domain) (:{B : put} B) (:0 {left B}) (:co {A : B}) (:{B} left) (:{B isnt} isnt) (:prod {1 B}) (:A {is B}) (:{if : B} if) (:{get : B} left) (:{if : B} 1) (:nif domain) (:is {bin B}) (:{left B} is) (:{B : A} hasnt) (:hasnt {bin B}) (:{b B} pass) (:put {null : B}) (:{b B} B) (:0 {pass : B}) (:if {put B}) (:{B put} sum) (:pass {B put}) (:pass {B has}) (:a {hasnt B}) (:left {b : B}) (:{B : null} null) (:pass put) (:right {B bin}) (:bin {hasnt B}) (:{B get} sum) (:{get B} 0) (:{get : B} prod) (:{put : B} sum) (:{B : get} bin) (:{B b}) (:if {b : B}) (:get {B : put}) (:right {b B}) (:sum isnt) (:has {0 B}) (:{B : has} co) (:{0 B} isnt) (:bin {B A}) (:{B hasnt} if) (:{domain : B} has) (:left {B 0}) (:has {B : nif}) (:left {isnt B}) (:{has B} arg) (:0 {B : has}) (:{B sum} has) (:co is) (:sum b) (:{B nif} pass) (:co {B bin}) (:0 {B : co}) (:is {B : pass}) (:1 hasnt) (:{B arg} bin) (:{B : 0} put) (:{B : null} hasnt) (:{B : A} get) (:{A B} a) (:{B : hasnt} put) (:has {arg B}) (:{is : B} get) (:{B hasnt} co) (:{pass B} sum) (:1 {prod : B}) (:right {B 1}) (:{B : arg} B) (:{get B} 1) (:nif isnt) (:{is : B} pass) (:{sum B} 0) (:isnt {null B}) (:pass isnt) (:{domain B} sum) (:{0 : B} right) (:isnt {B domain}) (:{B if} bin) (:{B : is} is) (:if {B : domain}) (:bin {B : arg}) (:isnt b) (:sum has) (:a {pass : B}) (:{arg B} a) (:sum {put : B}) (:{right B}) (:{right B} 0) (:get {if B}) (:sum {B : b}) (:{co B} nif) (:prod {B : co}) (:null {B : if}) (:{pass : B} sum) (:{B : nif} a) (:left {B hasnt}) (:is {B}) (:{1 B} bin) (:{prod : B} b) (:{B co} is) (:left {B prod}) (:A co) (:{a : B} get) (:1 b) (:{get : B} a) (:if {B b}) (:{B : bin} pass) (:{sum : B} put) (:{B : domain} A) (:{isnt B} nif) (:has {right B}) (:left {B : has}) (:has {B : co}) (:{sum : B} sum) (:nif {B pass}) (:is {a B}) (:{if : B} nif) (:null has) (:prod {B : prod}) (:{B 0} 1) (:{B get}) (:{B arg} left) (:{B sum} b) (:{prod B} prod) (:isnt {is : B}) (:b {pass : B}) (:co {is B}) (:{a : B} pass) (:is a) (:1 {put B}) (:is {nif B}) (:right null) (:sum {has : B}) (:{is B} pass) (:pass {B : domain}) (:arg co) (:{B A} bin) (:co {get : B}) (:{pass : B} nif) (:prod {B : is}) (:{0 B} a) (:{B A} nif) (:put put) (:null arg) (:{A : B} arg) (:right {B : left}) (:co prod) (:isnt {if : B}) (:B {b : B}) (:{B : if} 1) (:{B if} get) (:hasnt {co B}) (:{domain B} put) (:{B : if} put) (:{B : put} bin) (:1 {B get}) (:B {arg : B}) (:A right) (:has {A : B}) (:b {B : 0}) (:co {0 : B}) (:{B b} has) (:b {hasnt : B}) (:A {domain : B}) (:has B) (:B {a : B}) (:null {b : B}) (:is b) (:nif {B : has}) (:{has B} isnt) (:{B : sum} prod) (:sum {prod : B}) (:if {right : B}) (:{is B} arg) (:isnt {B isnt}) (:has {B A}) (:{B : arg} a) (:{B : prod} nif) (:{sum B} sum) (:{B if} hasnt) (:isnt {has : B}) (:is left) (:{hasnt B} get) (:{prod B} left) (:{B prod} hasnt) (:{if B} right) (:{B get} right) (:{isnt : B} 1) (:1 sum) (:{bin : B} sum) (:{has : B} null) (:{1 : B} nif) (:nif {is B}) (:get 0) (:B {isnt : B}) (:{B : domain} b) (:{B sum} isnt) (:bin domain) (:left {B : is}) (:{pass B} 1) (:{prod : B} get) (:{domain B} bin) (:null {B : sum}) (:null {co : B}) (:{B has} co) (:{B : pass} right) (:if {B A}) (:has {nif : B}) (:{B 1} prod) (:B {get B}) (:arg {B : arg}) (:domain {B : has}) (:{B : if} prod) (:a put) (:{prod : B} B) (:{B if} isnt) (:{B : nif} isnt) (:{sum B} isnt) (:{B null} right) (:{B get} co) (:{B : get}) (:{isnt : B} 0) (:B arg) (:0 {b B}) (:is B) (:bin {B b}) (:{a : B} prod) (:pass {B isnt}) (:isnt A) (:{null B} bin) (:null {B A}) (:if {B : bin}) (:if {B : nif}) (:put {B : sum}) (:{arg : B} nif) (:{0 : B} null) (:co {B b}) (:null {get B}) (:{nif B} prod) (:is {B 1}) (:B {B nif}) (:a {arg : B}) (:{B : bin} has) (:put {right : B}) (:prod {right B}) (:{arg B} A) (:{B : pass}) (:{left : B} bin) (:{co B} b) (:sum {B bin}) (:pass b) (:{B : isnt} sum) (:{right B} has) (:arg {nif B}) (:null {B : hasnt}) (:{nif B} 1) (:{null B} sum) (:isnt B) (:left {B A}) (:put {sum : B}) (:has {B pass}) (:get {B domain}) (:{bin B} get) (:b) (:{B : right} 1) (:{B if} is) (:hasnt prod) (:right a) (:has {B prod}) (:left pass) (:nif {B : 1}) (:prod {B pass}) (:{put : B} isnt) (:{domain B} 1) (:{B : left} a) (:if {B}) (:{B : prod} B) (:isnt {B : co}) (:{right B} 1) (:{B hasnt} is) (:put domain) (:{B : put} put) (:{B bin} pass) (:co {B prod}) (:{B : get} if) (:b {right : B}) (:{B : hasnt} pass) (:{pass B} is) (:{B : a} left) (:{arg B} prod) (:{B is} right) (:domain {1 B}) (:{B : sum} nif) (:B isnt) (:put {B : hasnt}) (:a {B : b}) (:{B 0} hasnt) (:left {put : B}) (:hasnt {has B}) (:{B : bin} b) (:is {B : 0}) (:{has : B} A) (:{isnt : B} is) (:{B b} arg) (:1 {B put}) (:prod {put : B}) (:hasnt {B : left}) (:{B bin} isnt) (:bin {B : has}) (:get {B null}) (:{B : right} get) (:is {B right}) (:is {B left}) (:{B : pass} 1) (:{b B}) (:b {0 : B}) (:get {B : arg}) (:0 1) (:0 {is B}) (:1 {B bin}) (:if {left : B}) (:{1 : B} isnt) (:null hasnt) (:domain {bin B}) (:{B : nif} domain) (:get {get : B}) (:{B : arg} pass) (:hasnt get) (:A a) (:{has : B} sum) (:b {left B}) (:0 {B a}) (:{null : B} b) (:1 right) (:left {if : B}) (:{null : B} pass) (:{has : B} arg) (:a {B arg}) (:1 {left B}) (:arg if) (:a prod) (:{B is} get) (:{bin B} null) (:{nif B} hasnt) (:is {B : isnt}) (:B {B b}) (:domain arg) (:{b B} 1) (:{B prod} arg) (:{get : B} B) (:{B : prod} get) (:A {B 1}) (:right {B : hasnt}) (:sum {is : B}) (:put bin) (:{b : B} put) (:{B : sum} co) (:{nif : B} domain) (:{arg : B} 1) (:{B 0} prod) (:put {a B}) (:if B) (:0 {B is}) (:if {B hasnt}) (:null {A : B}) (:B {hasnt B}) (:{B right} B) (:isnt {B b}) (:{B} B) (:nif {if : B}) (:get arg) (:{B if} left) (:sum {domain : B}) (:B {isnt B}) (:B {arg B}) (:bin get) (:{sum : B} b) (:{sum : B} domain) (:{B 0} a) (:prod nif) (:domain {B get}) (:{B A} right) (:{prod : B} hasnt) (:0 {B : sum}) (:{B : get} 1) (:{B : nif} b) (:{put B} right) (:A {B : get}) (:null {B : has}) (:{has B} domain) (:{null B} left) (:isnt {get : B}) (:prod {sum : B}) (:{B has} isnt) (:{has B} co) (:{B : hasnt} A) (:pass sum) (:{hasnt : B} pass) (:sum {bin B}) (:{B : b} pass) (:hasnt {B : co}) (:isnt {isnt B}) (:{B right} 0) (:{B if} B) (:{isnt : B} a) (:put {co : B}) (:{B : left}) (:domain {if B}) (:pass {B 0}) (:isnt {B bin}) (:{right : B} 1) (:null a) (:pass {null B}) (:isnt {B A}) (:prod {left B}) (:domain {bin : B}) (:arg {B : if}) (:{B : sum} put) (:arg {B : hasnt}) (:{B : sum} pass) (:{B nif} A) (:{pass B} bin) (:{right B} pass) (:{B null} is) (:{if B} a) (:{B : nif} put) (:put {left : B}) (:{get : B} put) (:is {B : hasnt}) (:has {B : 1}) (:has {has B}) (:sum sum) (:{B : co} prod) (:0 {co : B}) (:{B null} B) (:{B a} 1) (:has {B co}) (:has {B 0}) (:{B : domain} a) (:hasnt nif) (:isnt {B : nif}) (:a {arg B}) (:if {get B}) (:arg {B isnt}) (:isnt {B get}) (:B {B prod}) (:1 {B : 1}) (:get {B : nif}) (:{has : B} put) (:{pass : B} b) (:isnt {B : put}) (:nif {B co}) (:b {B : put}) (:prod A) (:{B : bin} arg) (:{left : B} if) (:{B : pass} a) (:pass {co B}) (:null b) (:domain {B prod}) (:{B : co} B) (:nif {nif B}) (:isnt {B : isnt}) (:{B sum} co) (:{A : B} B) (:{B nif} sum) (:{A B} get) (:arg {domain : B}) (:{1 : B} B) (:B B) (:hasnt {1 B}) (:arg {has : B}) (:{B : is} arg) (:{B : bin}) (:nif {B : is}) (:{B : bin} get) (:{1 B} 1) (:domain {B sum}) (:{B : a} put) (:1 {get B}) (:has {B null}) (:put {get B}) (:has {a B}) (:B b) (:{hasnt B} put) (:isnt {pass B}) (:right {hasnt : B}) (:{B prod} nif) (:{co : B} right) (:{B left} prod) (:get {B left}) (:1 {B : pass}) (:prod prod) (:{B : arg} get) (:{if B} left) (:{B nif} if) (:{B 1} isnt) (:{B if} b) (:{B domain} if) (:hasnt {if : B}) (:{domain B}) (:pass {B 1}) (:domain {B : domain}) (:if {B : b}) (:{B : prod} b) (:1 put) (:{right B} arg) (:arg {B : is}) (:{arg : B}) (:if {B get}) (:{B get} pass) (:{hasnt : B} put) (:a {domain : B}) (:{isnt B} null) (:left {get B}) (:isnt prod) (:{B : isnt} a) (:{B pass} pass) (:arg {B : 0}) (:{A B} hasnt) (:{B right} is) (:left {left : B}) (:bin put) (:co {B null}) (:sum {B : prod}) (:co {B : has}) (:{pass B} co) (:{isnt : B} has) (:{B : domain} hasnt) (:{B : put} isnt) (:{B : right} left) (:isnt {a : B}) (:{domain : B} arg) (:co {B : A}) (:isnt {0 B}) (:0 {B : left}) (:{isnt : B} sum) (:{co : B} isnt) (:null {isnt B}) (:pass {arg B}) (:1 a) (:get {left B}) (:{B} null) (:get {right : B}) (:isnt is) (:pass {B A}) (:prod {B arg}) (:a {B isnt}) (:{B A} domain) (:B {has : B}) (:{hasnt : B} if) (:a {B pass}) (:{B : left} right) (:{B : hasnt} sum) (:pass {B : a}) (:B {B : left}) (:has isnt) (:{B : co} 1) (:{left B}) (:right {get : B}) (:B {B isnt}) (:pass {B prod}) (:{co : B} has) (:{put B} co) (:domain {domain B}) (:null {B : left}) (:{B b} isnt) (:put {if : B}) (:{B prod} domain) (:hasnt {sum B}) (:{null B} co) (:{left B} 0) (:0 {arg : B}) (:{nif : B} nif) (:{null B} get) (:nif {1 : B}) (:is {B : bin}) (:{B if} has) (:{b : B} b) (:{B put} get) (:b {B : co}) (:get {has B}) (:{B a} pass) (:b {B isnt}) (:{B : 0} null) (:b {nif B}) (:0 bin) (:b {co B}) (:bin {B right}) (:nif {B right}) (:nif has) (:1 {B : a}) (:b {domain B}) (:bin {B : co}) (:co {null : B}) (:{B : b} sum) (:{B : hasnt} hasnt) (:{a B} has) (:{B get} left) (:B {co B}) (:put {B : pass}) (:{B : null} has) (:sum {sum : B}) (:1 {hasnt : B}) (:{B isnt} B) (:{b B} put) (:get {arg : B}) (:{is B}) (:1 domain) (:{A : B} nif) (:{is : B} prod) (:{1 : B} null) (:arg {A B}) (:{has : B} a) (:0 hasnt) (:sum {B : sum}) (:{co : B} is) (:{0 B} has) (:{B : domain}) (:0 {domain B}) (:{B arg} prod) (:{B : pass} pass) (:{B co} null) (:{B sum} A) (:pass {get B}) (:{null B} right) (:{a : B} a) (:{B right} a) (:{B hasnt} a) (:get {1 : B}) (:if {get : B}) (:get {B co}) (:right {null B}) (:{B 1} is) (:prod B) (:{right : B} sum) (:{arg : B} bin) (:{B : co} co) (:A {bin B}) (:{a : B} is) (:put prod) (:nif {B A}) (:b {prod : B}) (:right left) (:{B right} hasnt) (:arg {isnt B}) (:{B prod} isnt) (:arg {B co}) (:b has) (:domain {a B}) (:right {B arg}) (:domain {B : co}) (:{B : isnt} domain) (:{B has} if) (:nif get) (:domain has) (:{domain B} arg) (:prod {domain B}) (:{a : B} co) (:pass {B arg}) (:{B bin} null) (:nif {right B}) (:{A B}) (:{B : left} prod) (:{B : get} sum) (:{B : 0} b) (:null {B : 1}) (:has {isnt B}) (:domain {nif : B}) (:{prod B} bin) (:hasnt {B : is}) (:{B : get} 0) (:{is : B} a) (:has {B : bin}) (:left {co : B}) (:null {B : pass}) (:arg {null : B}) (:co isnt) (:{B a}) (:0 {B arg}) (:if {B sum}) (:A {pass : B}) (:a {B : pass}) (:0 {left : B}) (:sum {B : pass}) (:has left) (:bin {B : get}) (:domain {sum : B}) (:{0 : B} pass) (:domain {B right}) (:0 if) (:b {arg B}) (:{1 : B} prod) (:co sum) (:arg {B : 1}) (:if {null : B}) (:{has : B} right) (:{B : hasnt} 1) (:{B if} sum) (:{is B} sum) (:nif {put B}) (:a) (:arg {B arg}) (:prod {b B}) (:{sum : B} if) (:{B : hasnt} bin) (:1 {B isnt}) (:{A B} bin) (:{a B} get) (:1 {B : null}) (:isnt {B null}) (:{B : b} a) (:{A : B} bin) (:{B domain} B) (:has {domain : B}) (:{B arg} has) (:{hasnt B} arg) (:get {B : bin}) (:{B : left} has) (:{B sum} domain) (:b {B left}) (:{left : B} get) (:{B null} left) (:{get B} prod) (:{B null} co) (:prod {B : isnt}) (:{left B} pass) (:bin {bin : B}) (:{right : B} get) (:{B : a} null) (:{sum B} prod) (:hasnt {B b}) (:{0 B} is) (:left A) (:domain {co B}) (:{B : a} if) (:{0 B} 1) (:bin {left : B}) (:{B right} domain) (:{get : B} nif) (:arg {B bin}) (:{a : B} b) (:left {B : prod}) (:{B 1} pass) (:arg {B get}) (:sum {B : A}) (:hasnt {b : B}) (:{b : B} 0) (:{a B} left) (:{nif B} bin) (:null {1 : B}) (:{A B} prod) (:A {hasnt : B}) (:prod {a : B}) (:{B : bin} bin) (:{B has} left) (:{b B} arg) (:bin {B nif}) (:1 {B : left}) (:has {B a}) (:put {prod : B}) (:{co : B} B) (:{B : a} b) (:domain {B : left}) (:hasnt {prod B}) (:{A B} domain) (:{B is} put) (:right {B pass}) (:{null B} prod) (:sum {B : isnt}) (:{a B} pass) (:pass {B pass}) (:{sum B} is) (:if {B 1}) (:{put : B} is) (:{B if} A) (:{right : B} domain) (:co {1 B}) (:{right B} A) (:right {B prod}) (:{B : b} 0) (:{B co} nif) (:1 {null B}) (:hasnt {null B}) (:{0 : B} is) (:{B a} 0) (:{B : bin} put) (:is {prod : B}) (:1 B) (:B {sum B}) (:{pass : B} arg) (:put 1) (:left {b B}) (:{B : right} hasnt) (:a get) (:nif {B prod}) (:nif {B put}) (:{B : bin} null) (:{B isnt} bin) (:bin {B a}) (:if {null B}) (:{B : put} prod) (:{prod B} isnt) (:{B : co} pass) (:right {0 : B}) (:hasnt {pass : B}) (:{has : B} has) (:domain {B : prod}) (:b {put B}) (:domain sum) (:{B A} null) (:b {a B}) (:put {prod B}) (:{B : b} b) (:{B : 1} co) (:pass {if B}) (:{sum : B} co) (:{B : A} bin) (:0 a) (:{B left} sum) (:{B 1} a) (:isnt {sum : B}) (:null {left : B}) (:b {has B}) (:arg {B : put}) (:{B arg} null) (:{B bin} has) (:{A : B} isnt) (:sum {B co}) (:left {1 B}) (:{B : if} co) (:if {hasnt : B}) (:{B has} is) (:has {bin : B}) (:A {B isnt}) (:right {B : has}) (:{B : a} has) (:{bin : B} arg) (:{B : get} b) (:hasnt {B : nif}) (:b {B a}) (:arg {B put}) (:domain a) (:if {prod : B}) (:1 {bin B}) (:{bin B} 0) (:put arg) (:{0 B} prod) (:{B : is} nif) (:{B : nif} pass) (:hasnt {B 1}) (:{if B} 1) (:{B : arg} has) (:{null : B} bin) (:{arg B} bin) (:has {1 : B}) (:{B : if} b) (:A {A B}) (:B get) (:hasnt {prod : B}) (:B {B 0}) (:A {B : pass}) (:{get : B} get) (:null {B sum}) (:{B : 0} isnt) (:{bin B} right) (:{B : right} domain) (:prod {get : B}) (:{put : B} get) (:{B : hasnt} if) (:a {B : sum}) (:arg {B a}) (:{B : bin} prod) (:{isnt : B} null) (:has {B : prod}) (:{left : B} 0) (:nif {B sum}) (:1 {a B}) (:{b : B} prod) (:{B : 1} if) (:null {B right}) (:nif {A B}) (:pass prod) (:sum {put B}) (:co {pass : B}) (:{B : b} left) (:left {hasnt B}) (:prod {null B}) (:has is) (:a {B domain}) (:{prod : B} put) (:put {hasnt : B}) (:B {B : sum}) (:is get) (:{isnt B} has) (:prod {B 1}) (:a {B put}) (:{if : B} hasnt) (:isnt {is B}) (:isnt {B : has}) (:if {co : B}) (:pass {B : if}) (:{B 1}) (:sum {isnt : B}) (:{B : co} null) (:{B nif} put) (:isnt {B : A}) (:domain {B 0}) (:pass {B get}) (:B) (:sum {B is}) (:{co : B} prod) (:pass co) (:A {b B}) (:{B : A} pass) (:{B : is} pass) (:nif bin) (:{A : B}) (:nif {is : B}) (:{B} arg) (:get {put : B}) (:{bin : B} prod) (:{1 B} arg) (:{B : domain} is) (:arg {a B}) (:{B : is} co) (:{B bin} is) (:hasnt bin) (:{B sum} 0) (:hasnt {B a}) (:{B : b} A) (:isnt {B nif}) (:if {if B}) (:put sum) (:{B 0} A) (:A {B : isnt}) (:{B : right} arg) (:if {hasnt B}) (:{hasnt : B} a) (:null 1) (:if arg) (:co {a B}) (:{B : isnt} 0) (:{B : put} is) (:A A) (:{B b} B) (:{B sum} right) (:nif {isnt B}) (:{prod : B} bin) (:isnt bin) (:{B : domain} B) (:has arg) (:{isnt B} co) (:nif {B null}) (:{arg B} null) (:{A : B} if) (:right right) (:sum {bin : B}) (:{bin B} B) (:{B : put} b) (:pass {domain : B}) (:prod {B co}) (:{nif : B} null) (:prod has) (:{B sum} 1) (:arg {0 B}) (:get {B b}) (:hasnt {B get}) (:hasnt {B : put}) (:prod {has : B}) (:{left : B} has) (:isnt {left B}) (:{right : B} pass) (:{B bin} bin) (:co {B put}) (:{put : B} B) (:{co : B} get) (:{B if} a) (:{domain : B} 0) (:{is B} if) (:get {B get}) (:{B : arg} A) (:{B : co} 0) (:hasnt {0 : B}) (:pass {B : b}) (:{hasnt B} null) (:{prod B} right) (:{domain B} hasnt) (:pass {B sum}) (:{arg : B} sum) (:right {is B}) (:left {null B}) (:prod {B : hasnt}) (:{B b} is) (:{domain B} B) (:A null) (:{B : nif} right) (:{B null} pass) (:b nif) (:{B null} null) (:{B : left} null) (:{B : b} put) (:domain {isnt B}) (:{B : nif} B) (:{arg B} has) (:{sum B}) (:{B : if} null) (:null {co B}) (:B bin) (:0 {has : B}) (:{if : B} b) (:{sum B} A) (:if {B arg}) (:left {bin : B}) (:{B isnt} get) (:domain {B : put}) (:0 {B hasnt}) (:{sum : B} a) (:0 {B : put}) (:{B : isnt} b) (:right {bin B}) (:bin {domain : B}) (:{B : isnt} A) (:{bin : B} get) (:{B : if} arg) (:{B : is} put) (:{B : bin} is) (:left {B : put}) (:{B prod} prod) (:{bin : B} B) (:has {B : right}) (:left arg) (:{B : bin} 0) (:{B pass} nif) (:right {pass B}) (:null {nif : B}) (:b {B hasnt}) (:arg {B : a}) (:{is : B} put) (:if right) (:put {left B}) (:{1 B} left) (:{B : A}) (:1 {sum B}) (:if {B prod}) (:hasnt arg) (:has {B : pass}) (:{arg : B} has) (:{isnt B} arg) (:0 prod) (:{a B} if) (:right) (:nif {bin : B}) (:domain co) (:co B) (:{B : A} 0) (:null {B prod}) (:prod {0 : B}) (:domain {B bin}) (:bin {a : B}) (:prod hasnt) (:sum {B 1}) (:right {B b}) (:{B bin} A) (:{isnt : B} isnt) (:{B} put) (:{B : get} left) (:{hasnt B} b) (:pass hasnt) (:co {sum : B}) (:if {sum B}) (:is hasnt) (:b {null B}) (:{B isnt} pass) (:1 if) (:a {B get}) (:{co B} get) (:{has : B} left) (:pass {bin : B}) (:{B has} B))))"
     ]
    }
   ],
   "source": [
    "eval 1 : with : Results?"
   ]
  },
  {
   "cell_type": "code",
   "execution_count": 44,
   "id": "094bd036-1638-4683-9bfb-274b5b734342",
   "metadata": {},
   "outputs": [
    {
     "name": "stdout",
     "output_type": "stream",
     "text": [
      "(with:0 1 2 3 4 5 6 7 8 (nat:9))"
     ]
    }
   ],
   "source": [
    "eval 10 : with : nat : 0 "
   ]
  },
  {
   "cell_type": "code",
   "execution_count": null,
   "id": "481ae0e5-519a-4315-b381-5d2915f5ce12",
   "metadata": {},
   "outputs": [],
   "source": []
  }
 ],
 "metadata": {
  "kernelspec": {
   "display_name": "coda",
   "language": "",
   "name": "coda"
  },
  "language_info": {
   "file_extension": ".co",
   "mimetype": "text/plain",
   "name": "Any text"
  }
 },
 "nbformat": 4,
 "nbformat_minor": 5
}
