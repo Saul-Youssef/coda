{
 "cells": [
  {
   "cell_type": "markdown",
   "id": "66e8cc46-f3ed-4ef3-85e1-a2a24637a9cf",
   "metadata": {},
   "source": [
    "## The Liar Paradox "
   ]
  },
  {
   "cell_type": "code",
   "execution_count": 1,
   "id": "45a2ee2f-54dd-41ea-b437-fd5c3d2409a2",
   "metadata": {},
   "outputs": [
    {
     "name": "stdout",
     "output_type": "stream",
     "text": []
    }
   ],
   "source": [
    "let x? : (^:x?)"
   ]
  },
  {
   "cell_type": "code",
   "execution_count": 2,
   "id": "e79a4676-8433-4c19-b331-90a31400668f",
   "metadata": {},
   "outputs": [
    {
     "name": "stdout",
     "output_type": "stream",
     "text": [
      "[0] (^:(?:x))\n",
      "[1] (^:(^:(?:x)))\n",
      "[2] (^:(^:(^:(?:x))))\n",
      "[3] (^:(^:(^:(^:(?:x)))))\n",
      "[4] (^:(^:(^:(^:(^:(?:x))))))\n",
      "[5] (^:(^:(^:(^:(^:(^:(?:x)))))))\n",
      "[6] (^:(^:(^:(^:(^:(^:(^:(?:x))))))))\n",
      "[7] (^:(^:(^:(^:(^:(^:(^:(^:(?:x)))))))))\n",
      "[8] (^:(^:(^:(^:(^:(^:(^:(^:(^:(?:x))))))))))\n",
      "[9] (^:(^:(^:(^:(^:(^:(^:(^:(^:(^:(?:x)))))))))))\n",
      "[10] (^:(^:(^:(^:(^:(^:(^:(^:(^:(^:(^:(?:x))))))))))))"
     ]
    }
   ],
   "source": [
    "step 10 : x?"
   ]
  },
  {
   "cell_type": "code",
   "execution_count": 4,
   "id": "e6b14fdd-0e0f-486d-80b5-bc85f4da8a30",
   "metadata": {},
   "outputs": [
    {
     "name": "stdout",
     "output_type": "stream",
     "text": []
    }
   ],
   "source": [
    "help : codes"
   ]
  },
  {
   "cell_type": "markdown",
   "id": "93c0a9db-05a8-4440-90b6-637af9a680df",
   "metadata": {},
   "source": [
    "## Berry's Paradox\n",
    "\n",
    "sup n : app {ex n : first: B:} : codes : 43"
   ]
  },
  {
   "cell_type": "markdown",
   "id": "ab68bfdc-1b41-4c3f-a0c0-a15d21409ae0",
   "metadata": {},
   "source": [
    "## Is Mathematics Consistent?\n",
    "\n",
    "(coda : x?) (^ : coda : x?) "
   ]
  },
  {
   "cell_type": "markdown",
   "id": "37b25ebe-5fd8-4986-bed9-c80cc2733717",
   "metadata": {},
   "source": [
    "## What are the right axioms?  \n",
    "\n",
    "rev : rev : x? = x? "
   ]
  }
 ],
 "metadata": {
  "kernelspec": {
   "display_name": "coda",
   "language": "",
   "name": "coda"
  },
  "language_info": {
   "file_extension": ".co",
   "mimetype": "text/plain",
   "name": "Any text"
  }
 },
 "nbformat": 4,
 "nbformat_minor": 5
}
