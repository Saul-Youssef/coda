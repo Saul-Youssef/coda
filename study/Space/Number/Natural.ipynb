{
 "cells": [
  {
   "cell_type": "markdown",
   "id": "0907c3e2-288c-456e-9203-06d080abff6a",
   "metadata": {},
   "source": [
    "| Natural numbers |  |\n",
    "|---|---|\n",
    "| Natural Numbers | x | \n",
    "| Data | (n:1) (n:2) etc. | \n",
    "| Operation | x | \n",
    "| Properties | x | \n",
    "| Neutral element | x | \n",
    "| Endomorphisms | x | "
   ]
  },
  {
   "cell_type": "code",
   "execution_count": 1,
   "id": "95c466dc-5f91-4081-bf14-d1397fbf707f",
   "metadata": {},
   "outputs": [
    {
     "name": "stdout",
     "output_type": "stream",
     "text": []
    }
   ],
   "source": [
    "import : dir co : up : ."
   ]
  },
  {
   "cell_type": "code",
   "execution_count": 2,
   "id": "5f16f33e-26b1-492f-96a4-6b9cbd6769ce",
   "metadata": {},
   "outputs": [
    {
     "name": "stdout",
     "output_type": "stream",
     "text": [
      "(n:1) (n:3) (n:54)"
     ]
    }
   ],
   "source": [
    "#  test\n",
    "n.sum : n.type : a b c 1 3 54 "
   ]
  },
  {
   "cell_type": "code",
   "execution_count": 3,
   "id": "df2b87be-3daf-428d-85db-4226ee9db491",
   "metadata": {},
   "outputs": [
    {
     "name": "stdout",
     "output_type": "stream",
     "text": [
      "8"
     ]
    }
   ],
   "source": [
    "#\n",
    "#   S is the search sample for searches below\n",
    "#\n",
    "Let S : (:) (:(:) (:)) (:(n:0)) (:(n:)) (:(n:1) (n:3) (n:2) (n:99)) (:1) (:2 3) (:(n:-5))\n",
    "count : S?"
   ]
  },
  {
   "cell_type": "code",
   "execution_count": 4,
   "id": "f6db5fa2-bb5a-4fb5-b5b0-0d9ca2884309",
   "metadata": {},
   "outputs": [
    {
     "name": "stdout",
     "output_type": "stream",
     "text": [
      "0\n",
      "0\n",
      "0\n",
      "0\n",
      "56"
     ]
    }
   ],
   "source": [
    "count : theorem (simple:n.type) : S? \n",
    "count : theorem (simple:n.sum ) : S?\n",
    "count : theorem (simple:n.prod) : S?\n",
    "count : theorem (simple:n.sort) : S?\n",
    "count : theorem (simple:n.ring) : S?"
   ]
  },
  {
   "cell_type": "code",
   "execution_count": 5,
   "id": "a045662d-9755-44fc-8d54-7238f45715ef",
   "metadata": {},
   "outputs": [
    {
     "name": "stdout",
     "output_type": "stream",
     "text": [
      "0\n",
      "0\n",
      "6\n",
      "30\n",
      "3"
     ]
    }
   ],
   "source": [
    "count : theorem (idempotent:n.type)   : S?\n",
    "count : theorem (distributive:n.type) : S? \n",
    "count : theorem (nilpotent:n.type)    : S? \n",
    "count : theorem (commutative:n.type)  : S? \n",
    "count : theorem (involution:n.type)   : S? "
   ]
  },
  {
   "cell_type": "code",
   "execution_count": 6,
   "id": "3b511740-de33-430f-9e2e-bae726d8099c",
   "metadata": {},
   "outputs": [
    {
     "name": "stdout",
     "output_type": "stream",
     "text": [
      "0\n",
      "0\n",
      "7\n",
      "42\n",
      "0"
     ]
    }
   ],
   "source": [
    "count : theorem (idempotent   : n.sum) : S?\n",
    "count : theorem (distributive : n.sum) : S? \n",
    "count : theorem (nilpotent    : n.sum) : S? \n",
    "count : theorem (commutative  : n.sum) : S? \n",
    "count : theorem (involution   : n.sum) : S? "
   ]
  },
  {
   "cell_type": "code",
   "execution_count": 7,
   "id": "ec6a40f4-0e56-404f-90f4-fd82f8faa29a",
   "metadata": {},
   "outputs": [
    {
     "name": "stdout",
     "output_type": "stream",
     "text": [
      "0\n",
      "0\n",
      "7\n",
      "42\n",
      "0"
     ]
    }
   ],
   "source": [
    "count : theorem (idempotent   : n.prod) : S?\n",
    "count : theorem (distributive : n.prod) : S? \n",
    "count : theorem (nilpotent    : n.prod) : S? \n",
    "count : theorem (commutative  : n.prod) : S? \n",
    "count : theorem (involution   : n.prod) : S? "
   ]
  },
  {
   "cell_type": "code",
   "execution_count": 8,
   "id": "ee8e7012-5bd4-4de4-afef-d11919e5c02c",
   "metadata": {},
   "outputs": [
    {
     "name": "stdout",
     "output_type": "stream",
     "text": [
      "0\n",
      "0\n",
      "7\n",
      "42\n",
      "0"
     ]
    }
   ],
   "source": [
    "count : theorem (idempotent   : n.sort) : S?\n",
    "count : theorem (distributive : n.sort) : S? \n",
    "count : theorem (nilpotent    : n.sort) : S? \n",
    "count : theorem (commutative  : n.sort) : S? \n",
    "count : theorem (involution   : n.sort) : S? "
   ]
  },
  {
   "cell_type": "code",
   "execution_count": 9,
   "id": "7498c230-9fed-4307-89a7-65c413b6c0f5",
   "metadata": {},
   "outputs": [
    {
     "name": "stdout",
     "output_type": "stream",
     "text": [
      "0\n",
      "0\n",
      "7\n",
      "42\n",
      "0"
     ]
    }
   ],
   "source": [
    "count : theorem (idempotent   : n.ring) : S?\n",
    "count : theorem (distributive : n.ring) : S? \n",
    "count : theorem (nilpotent    : n.ring) : S? \n",
    "count : theorem (commutative  : n.ring) : S? \n",
    "count : theorem (involution   : n.ring) : S? "
   ]
  },
  {
   "cell_type": "code",
   "execution_count": 10,
   "id": "430b1d23-6ac7-48b5-b46a-d9aa4500c9bb",
   "metadata": {},
   "outputs": [
    {
     "name": "stdout",
     "output_type": "stream",
     "text": []
    }
   ],
   "source": [
    "Def COM : {count : theorem (commuting A:B) : S?} "
   ]
  },
  {
   "cell_type": "code",
   "execution_count": 12,
   "id": "2dbb047c-ff6a-4cc1-a38c-931c528bb5d9",
   "metadata": {},
   "outputs": [
    {
     "name": "stdout",
     "output_type": "stream",
     "text": []
    }
   ],
   "source": [
    "Let Spaces : n.type n.sum n.prod n.sort n.ring "
   ]
  },
  {
   "cell_type": "code",
   "execution_count": 13,
   "id": "485efe39-0869-4aa5-9fd7-d4a69c45a055",
   "metadata": {},
   "outputs": [
    {
     "name": "stdout",
     "output_type": "stream",
     "text": []
    }
   ],
   "source": [
    "Let Pairs : pairs Spaces? : Spaces?"
   ]
  },
  {
   "cell_type": "code",
   "execution_count": 14,
   "id": "8f49edca-12e7-4650-8f32-079e7cce978e",
   "metadata": {},
   "outputs": [
    {
     "name": "stdout",
     "output_type": "stream",
     "text": []
    }
   ],
   "source": [
    "Let Matrix : ap {(bin (arg:B) (right:B):COM (arg:B):(right:B))} : Pairs?"
   ]
  },
  {
   "cell_type": "code",
   "execution_count": 15,
   "id": "9a05e25c-ea52-4a61-9a4e-31d08291c134",
   "metadata": {},
   "outputs": [
    {
     "name": "stdout",
     "output_type": "stream",
     "text": [
      "(bin n.type n.type:0) (bin n.sum n.type:0) (bin n.prod n.type:0) (bin n.sort n.type:0) (bin n.ring n.type:0) (bin n.type n.sum:0) (bin n.sum n.sum:0) (bin n.prod n.sum:0) (bin n.sort n.sum:0) (bin n.ring n.sum:0) (bin n.type n.prod:0) (bin n.sum n.prod:0) (bin n.prod n.prod:0) (bin n.sort n.prod:0) (bin n.ring n.prod:0) (bin n.type n.sort:0) (bin n.sum n.sort:0) (bin n.prod n.sort:0) (bin n.sort n.sort:0) (bin n.ring n.sort:0) (bin n.type n.ring:0) (bin n.sum n.ring:0) (bin n.prod n.ring:0) (bin n.sort n.ring:0) (bin n.ring n.ring:0)"
     ]
    }
   ],
   "source": [
    "Matrix?"
   ]
  },
  {
   "cell_type": "code",
   "execution_count": 17,
   "id": "0c5fcc66-e504-4949-a609-259c238b37b3",
   "metadata": {},
   "outputs": [
    {
     "name": "stdout",
     "output_type": "stream",
     "text": [
      "0 0 0 0 0 0 0 0 0 0 0 0 0 0 0 0 0 0 0 0 0 0 0 0 0"
     ]
    }
   ],
   "source": [
    "right : Matrix?"
   ]
  },
  {
   "cell_type": "code",
   "execution_count": null,
   "id": "ecd23296-badc-4d1a-a81a-4aaf06942a1c",
   "metadata": {},
   "outputs": [],
   "source": []
  }
 ],
 "metadata": {
  "kernelspec": {
   "display_name": "coda",
   "language": "",
   "name": "coda"
  },
  "language_info": {
   "file_extension": ".co",
   "mimetype": "text/plain",
   "name": "Any text"
  }
 },
 "nbformat": 4,
 "nbformat_minor": 5
}
