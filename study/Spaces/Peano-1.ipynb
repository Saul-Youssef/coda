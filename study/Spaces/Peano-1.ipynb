{
 "cells": [
  {
   "cell_type": "markdown",
   "id": "6372d772-58d2-4d74-baee-c022f1a2325c",
   "metadata": {},
   "source": [
    "## Simplest peano integers\n",
    "\n",
    "A definition is data A with the property \n",
    "\n",
    "* A : X Y = A : (A:X) Y \n",
    "\n",
    "for any data X and any data Y.  \n",
    "\n",
    "The simplest space capturing the concept of natural numbers is just some data that counts the number of atoms in it's input.  We could do this by storing the result in a Python integer, but even more basic is to store natural number by a sequence of some fixed token so that ||| represents \"3\" etc.  "
   ]
  },
  {
   "cell_type": "code",
   "execution_count": 1,
   "id": "e89777a4-8553-4393-9faf-0485e10ad7c7",
   "metadata": {},
   "outputs": [
    {
     "name": "stdout",
     "output_type": "stream",
     "text": []
    }
   ],
   "source": [
    "#\n",
    "#   We'll call the space \"peano\".\n",
    "#\n",
    "def peano : {rep | : B} "
   ]
  },
  {
   "cell_type": "code",
   "execution_count": 2,
   "id": "9d5b5d29-69ea-41ad-aa49-fc8c8c77bec3",
   "metadata": {},
   "outputs": [
    {
     "name": "stdout",
     "output_type": "stream",
     "text": [
      "| | |"
     ]
    }
   ],
   "source": [
    "peano : a b c"
   ]
  },
  {
   "cell_type": "code",
   "execution_count": 3,
   "id": "ae71f39f-deeb-42c7-a3cf-346c68bb0c79",
   "metadata": {},
   "outputs": [
    {
     "name": "stdout",
     "output_type": "stream",
     "text": [
      "| | |"
     ]
    }
   ],
   "source": [
    "#\n",
    "#   All spaces are idempotent \n",
    "#\n",
    "peano : peano : a b c "
   ]
  },
  {
   "cell_type": "code",
   "execution_count": 4,
   "id": "fadf0f16-5b6e-4ba2-9f18-fbfdbf22f60a",
   "metadata": {},
   "outputs": [
    {
     "name": "stdout",
     "output_type": "stream",
     "text": [
      "| | | |"
     ]
    }
   ],
   "source": [
    "#\n",
    "#   Checking the space property \n",
    "#\n",
    "peano : (peano : a b) c d "
   ]
  },
  {
   "cell_type": "code",
   "execution_count": 5,
   "id": "399cb23b-4091-4df0-b1b1-9b7f62fdee44",
   "metadata": {},
   "outputs": [
    {
     "name": "stdout",
     "output_type": "stream",
     "text": [
      "| | | |"
     ]
    }
   ],
   "source": [
    "peano : a b c d "
   ]
  },
  {
   "cell_type": "code",
   "execution_count": 6,
   "id": "cde8f04f-4ed2-4e6d-9170-202f3e1c370e",
   "metadata": {},
   "outputs": [
    {
     "name": "stdout",
     "output_type": "stream",
     "text": [
      "| | |"
     ]
    }
   ],
   "source": [
    "peano * peano * peano : a b c"
   ]
  },
  {
   "cell_type": "code",
   "execution_count": 7,
   "id": "fb239957-f156-4c1a-812c-f41f923ea5f4",
   "metadata": {},
   "outputs": [
    {
     "name": "stdout",
     "output_type": "stream",
     "text": []
    }
   ],
   "source": [
    "#\n",
    "#   peano is distributive making it a type as well as a space.\n",
    "#   this means that the neutral element (peano:) is empty data.\n",
    "#\n",
    "peano:"
   ]
  },
  {
   "cell_type": "code",
   "execution_count": 8,
   "id": "3334388f-abc0-4f4a-a897-335329c44b92",
   "metadata": {},
   "outputs": [
    {
     "name": "stdout",
     "output_type": "stream",
     "text": []
    }
   ],
   "source": [
    "#\n",
    "#   (peano,term) are jointly a space, meaning that they are both \n",
    "#   spaces and peano * term = term * peano.  \n",
    "#\n",
    "#   term is trivially a space since term : X = (). \n",
    "#\n",
    "def term : {terminal : count : peano: B}"
   ]
  },
  {
   "cell_type": "code",
   "execution_count": 9,
   "id": "92636ec9-1f09-46bf-90b6-6feaad136a59",
   "metadata": {},
   "outputs": [
    {
     "name": "stdout",
     "output_type": "stream",
     "text": [
      "7"
     ]
    }
   ],
   "source": [
    "term * peano : a b c d e f g"
   ]
  },
  {
   "cell_type": "code",
   "execution_count": 10,
   "id": "97139fff-8251-4460-b107-374169197752",
   "metadata": {},
   "outputs": [
    {
     "name": "stdout",
     "output_type": "stream",
     "text": [
      "7"
     ]
    }
   ],
   "source": [
    "peano * term : a b c d e f g"
   ]
  },
  {
   "cell_type": "markdown",
   "id": "ef4676a1-8d7e-414b-879b-a537f7bcfaa9",
   "metadata": {},
   "source": [
    "## Summary\n",
    "\n",
    "### Spaces\n",
    "\n",
    "|  Space  |  Data.     |  Neutral Data    |  Type?  |\n",
    "|---------|------------|------------------|---------|\n",
    "|   pass  | any data         |  ()              | Y |\n",
    "|   null  |    ()            |  ()              | Y |\n",
    "|   bool  |  () or ◎         |  ()              | Y |\n",
    "|   peano |  \\|\\|\\|s         |  ()              | Y |\n",
    "|   len   |  (len:1) (len:2) |  (len:0)         | N |\n",
    "\n",
    "### Morphisms \n",
    "\n",
    "| Morphism     |                 |  Description | Space? | \n",
    "|--------------|-----------------|--------------|--------|\n",
    "| pass -> pass | F\\*pass = pass\\*F | any data F   |        |\n",
    "| pass -> null | F\\*null = null\\*F | F:X=() for all X |     |\n",
    "| null -> pass | F\\*null = pass\\*F | F: = F:X for all X |   |\n",
    "| null -> null | F\\*null = null\\*F | F: = ()        |     |\n",
    "| bool -> bool | F\\*bool = bool\\*F |      |   |\n",
    "| len  -> len  | F\\*len = len\\*F   | "
   ]
  },
  {
   "cell_type": "code",
   "execution_count": null,
   "id": "9b1833a5-5832-4e2d-928d-f7dd3cffa0c8",
   "metadata": {},
   "outputs": [],
   "source": []
  },
  {
   "cell_type": "code",
   "execution_count": 11,
   "id": "cc46ac8b-0e84-4a3e-a3b2-56c0c06f95d3",
   "metadata": {},
   "outputs": [
    {
     "name": "stdout",
     "output_type": "stream",
     "text": [
      "\u001b[;1mcode:\u001b[0m\n",
      "    \u001b[34;7msel\u001b[0m\n",
      "\u001b[;1mmodule:\u001b[0m\n",
      "    Basic\n",
      "\u001b[;1msummary:\u001b[0m\n",
      "    has/hasnt selects, get gets, is/isnt tests\n",
      "\u001b[;1mdescription:\u001b[0m\n",
      "    has  A  : ... gets data of the form (A:<something>)\n",
      "    hasnt A : ... gets data that isn't of the form (A:<something>)\n",
      "    get A   : ... gets <something> from data of the form (A:<something>)\n",
      "    is  A   : ... gets data exactly equal to A\n",
      "    isnt A  : ...everything except what's equal to A\n",
      "\u001b[;1mpath:\u001b[0m\n",
      "    /Users/youssef/coda/co/Basic.co\n",
      "\u001b[;1msource code:\u001b[0m\n",
      "    def has : {ap has1 A : B}\n",
      "    def hasnt : {apif {has1 A:B} A : B}\n",
      "    def get : {ap get1 A : B}\n",
      "    def is : ap2 {apif {A=B} A : B}\n",
      "    def isnt : ap2 {apif {not:(A=B)} A : B}\n",
      "    def sel : {ap sel1 A : B}\n",
      "    def left : {ap left1 A : B}\n",
      "    def right: {ap right1 A : B}\n",
      "    def id : pass\n",
      "\u001b[;1mdemos:\u001b[0m\n",
      "    1. \u001b[35;4mhas bin : x y z (bin:a b c)\u001b[0m\n",
      "    2. \u001b[35;4mhasnt bin : x y z (bin:a b c)\u001b[0m\n",
      "    3. \u001b[35;4mhas : x y z (bin:a b c)\u001b[0m\n",
      "    4. \u001b[35;4mhas ((:):(:)) : x y z (bin:a b c)\u001b[0m\n",
      "    5. \u001b[35;4mget bin : x y z (bin:a b c)\u001b[0m\n",
      "    6. \u001b[35;4mget ((:):(:)) : x y z (bin: a b c)\u001b[0m\n",
      "    7. \u001b[35;4mis y : x y z\u001b[0m\n",
      "    8. \u001b[35;4mis (pass:bin:a b) : x y (bin:a b) z\u001b[0m\n",
      "    9. \u001b[35;4misnt y : x y z\u001b[0m\n",
      "    10. \u001b[35;4mpass : a b c\u001b[0m\n",
      "    11. \u001b[35;4mid : a b c\u001b[0m\n"
     ]
    }
   ],
   "source": [
    "help : sel"
   ]
  },
  {
   "cell_type": "code",
   "execution_count": 12,
   "id": "f0f9d1df-fbbf-447f-b99f-b863a03534d8",
   "metadata": {},
   "outputs": [
    {
     "name": "stdout",
     "output_type": "stream",
     "text": [
      "a b"
     ]
    }
   ],
   "source": [
    "is a  b: a b c "
   ]
  },
  {
   "cell_type": "code",
   "execution_count": 13,
   "id": "c25ef3b0-e5e5-434d-a076-8787672802ab",
   "metadata": {},
   "outputs": [
    {
     "name": "stdout",
     "output_type": "stream",
     "text": [
      "a"
     ]
    }
   ],
   "source": [
    "apif {B=a} {B=b} : a b c "
   ]
  },
  {
   "cell_type": "code",
   "execution_count": 14,
   "id": "a53c4542-bea9-48d9-a576-e46f7702a089",
   "metadata": {},
   "outputs": [
    {
     "name": "stdout",
     "output_type": "stream",
     "text": [
      "𝝞 𝝞 𝝞"
     ]
    }
   ],
   "source": [
    "left : a b c "
   ]
  },
  {
   "cell_type": "code",
   "execution_count": 15,
   "id": "24266aea-c339-455b-ae22-d15c00e3b400",
   "metadata": {},
   "outputs": [
    {
     "name": "stdout",
     "output_type": "stream",
     "text": [
      "a b c"
     ]
    }
   ],
   "source": [
    "right : a b c "
   ]
  },
  {
   "cell_type": "code",
   "execution_count": 16,
   "id": "b8138fae-35d5-4293-890f-96d2597a56e2",
   "metadata": {},
   "outputs": [
    {
     "name": "stdout",
     "output_type": "stream",
     "text": [
      "𝝞"
     ]
    }
   ],
   "source": [
    "(:):(:)"
   ]
  },
  {
   "cell_type": "code",
   "execution_count": 17,
   "id": "b25f5f0d-96d5-41c8-a494-fb21c5da1aff",
   "metadata": {},
   "outputs": [
    {
     "name": "stdout",
     "output_type": "stream",
     "text": [
      "𝟬 𝟬 𝟬"
     ]
    }
   ],
   "source": [
    "domain : get ((:):(:)) : a b c "
   ]
  },
  {
   "cell_type": "code",
   "execution_count": 18,
   "id": "063c37bd-a4c0-4986-b4bd-6a2d05a8c244",
   "metadata": {},
   "outputs": [
    {
     "name": "stdout",
     "output_type": "stream",
     "text": []
    }
   ],
   "source": [
    "ap2 {apif {A=B} A:B} b : a b c "
   ]
  },
  {
   "cell_type": "code",
   "execution_count": 19,
   "id": "8364b802-d9e4-4507-b045-1609bbad8abe",
   "metadata": {},
   "outputs": [
    {
     "name": "stdout",
     "output_type": "stream",
     "text": []
    }
   ],
   "source": [
    "ap2 is b c : a b c "
   ]
  },
  {
   "cell_type": "markdown",
   "id": "ca4153fe-6248-43b9-943c-41460abff01b",
   "metadata": {},
   "source": [
    "ap2 is b : a b c "
   ]
  },
  {
   "cell_type": "code",
   "execution_count": 20,
   "id": "ee50ad51-9120-427e-849d-4d89338f582a",
   "metadata": {},
   "outputs": [
    {
     "name": "stdout",
     "output_type": "stream",
     "text": []
    }
   ],
   "source": [
    "ap2 is b : a b c "
   ]
  },
  {
   "cell_type": "code",
   "execution_count": 21,
   "id": "a172eb22-c3ae-453a-9701-86b0957e7482",
   "metadata": {},
   "outputs": [
    {
     "name": "stdout",
     "output_type": "stream",
     "text": [
      "\u001b[;1mcode:\u001b[0m\n",
      "    \u001b[34;7msel\u001b[0m\n",
      "\u001b[;1mmodule:\u001b[0m\n",
      "    Basic\n",
      "\u001b[;1msummary:\u001b[0m\n",
      "    has/hasnt selects, get gets, is/isnt tests\n",
      "\u001b[;1mdescription:\u001b[0m\n",
      "    has  A  : ... gets data of the form (A:<something>)\n",
      "    hasnt A : ... gets data that isn't of the form (A:<something>)\n",
      "    get A   : ... gets <something> from data of the form (A:<something>)\n",
      "    is  A   : ... gets data exactly equal to A\n",
      "    isnt A  : ...everything except what's equal to A\n",
      "\u001b[;1mpath:\u001b[0m\n",
      "    /Users/youssef/coda/co/Basic.co\n",
      "\u001b[;1msource code:\u001b[0m\n",
      "    def has : {ap has1 A : B}\n",
      "    def hasnt : {apif {has1 A:B} A : B}\n",
      "    def get : {ap get1 A : B}\n",
      "    def is : ap2 {apif {A=B} A : B}\n",
      "    def isnt : ap2 {apif {not:(A=B)} A : B}\n",
      "    def sel : {ap sel1 A : B}\n",
      "    def left : {ap left1 A : B}\n",
      "    def right: {ap right1 A : B}\n",
      "    def id : pass\n",
      "\u001b[;1mdemos:\u001b[0m\n",
      "    1. \u001b[35;4mhas bin : x y z (bin:a b c)\u001b[0m\n",
      "    2. \u001b[35;4mhasnt bin : x y z (bin:a b c)\u001b[0m\n",
      "    3. \u001b[35;4mhas : x y z (bin:a b c)\u001b[0m\n",
      "    4. \u001b[35;4mhas ((:):(:)) : x y z (bin:a b c)\u001b[0m\n",
      "    5. \u001b[35;4mget bin : x y z (bin:a b c)\u001b[0m\n",
      "    6. \u001b[35;4mget ((:):(:)) : x y z (bin: a b c)\u001b[0m\n",
      "    7. \u001b[35;4mis y : x y z\u001b[0m\n",
      "    8. \u001b[35;4mis (pass:bin:a b) : x y (bin:a b) z\u001b[0m\n",
      "    9. \u001b[35;4misnt y : x y z\u001b[0m\n",
      "    10. \u001b[35;4mpass : a b c\u001b[0m\n",
      "    11. \u001b[35;4mid : a b c\u001b[0m\n"
     ]
    }
   ],
   "source": [
    "help : sel\n"
   ]
  },
  {
   "cell_type": "code",
   "execution_count": 22,
   "id": "a5de08e0-36ec-4992-8e83-4234f7e8828a",
   "metadata": {},
   "outputs": [
    {
     "name": "stdout",
     "output_type": "stream",
     "text": []
    }
   ],
   "source": [
    "sel a : a b c "
   ]
  },
  {
   "cell_type": "code",
   "execution_count": 23,
   "id": "d66ecd44-3fc1-4466-a14e-8409ab3d82c1",
   "metadata": {},
   "outputs": [
    {
     "name": "stdout",
     "output_type": "stream",
     "text": [
      "a"
     ]
    }
   ],
   "source": [
    "sel bin : (bin:a)"
   ]
  },
  {
   "cell_type": "code",
   "execution_count": 24,
   "id": "a22b375f-ce9b-4dfc-b7ad-cc991b6b5aa4",
   "metadata": {},
   "outputs": [
    {
     "name": "stdout",
     "output_type": "stream",
     "text": []
    }
   ],
   "source": [
    "def bin2:"
   ]
  },
  {
   "cell_type": "code",
   "execution_count": 25,
   "id": "43f7339e-955a-48d6-b799-68306544c8be",
   "metadata": {},
   "outputs": [
    {
     "name": "stdout",
     "output_type": "stream",
     "text": []
    }
   ],
   "source": [
    "sel bin bin2 : (bin:a) (bin2:b)"
   ]
  },
  {
   "cell_type": "code",
   "execution_count": 26,
   "id": "4a4f1d36-efec-4b40-8206-dc2ff7b02e4d",
   "metadata": {},
   "outputs": [
    {
     "name": "stdout",
     "output_type": "stream",
     "text": [
      "b"
     ]
    }
   ],
   "source": [
    "sel bin x : (bin:a) (bin x:b)"
   ]
  },
  {
   "cell_type": "code",
   "execution_count": null,
   "id": "58be97b4-c46b-42f5-ba4e-3dcd5dbacbbe",
   "metadata": {},
   "outputs": [],
   "source": []
  }
 ],
 "metadata": {
  "kernelspec": {
   "display_name": "coda",
   "language": "",
   "name": "coda"
  },
  "language_info": {
   "file_extension": ".co",
   "mimetype": "text/plain",
   "name": "Any text"
  }
 },
 "nbformat": 4,
 "nbformat_minor": 5
}
