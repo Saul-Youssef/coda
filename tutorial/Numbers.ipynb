{
 "cells": [
  {
   "cell_type": "markdown",
   "id": "66268085-3f48-4a02-a231-5aca789a9759",
   "metadata": {},
   "source": [
    "## Numbers \n",
    "\n",
    "Coda includes functors Natural, Integer and Float which creates types representing these kinds of \n",
    "numbers using Python integers and Python floats as an underlying layer.  \n",
    "\n",
    "* `make T? : B` makes data of type T? from input B.\n",
    "* `sum T? : B` sums data of type T? from input B.\n",
    "* `sort T? : B` sorts B with the partial ordering of T?.\n",
    "* `inv T? : B` if T? has an involution, apply it to B.\n",
    "\n",
    "A few examples follow.  Typical available operations can be found in `Type.co`."
   ]
  },
  {
   "cell_type": "code",
   "execution_count": 1,
   "id": "034e2401-057d-4c10-99bd-cd59c25bcdad",
   "metadata": {},
   "outputs": [
    {
     "name": "stdout",
     "output_type": "stream",
     "text": [
      "(n:1) (n:2) (n:3) (n:4)"
     ]
    }
   ],
   "source": [
    "make n : 1 2 x y 3.14 -99 3 4"
   ]
  },
  {
   "cell_type": "code",
   "execution_count": 2,
   "id": "43212336-1d2b-4376-9be4-0fd86e14af42",
   "metadata": {},
   "outputs": [
    {
     "name": "stdout",
     "output_type": "stream",
     "text": [
      "(n:10)"
     ]
    }
   ],
   "source": [
    "sum n : 1 2 x y 3.14 -99 3 4"
   ]
  },
  {
   "cell_type": "code",
   "execution_count": 3,
   "id": "88749d29-71cb-4535-b5aa-bb424a60b11d",
   "metadata": {},
   "outputs": [
    {
     "name": "stdout",
     "output_type": "stream",
     "text": [
      "(n:1) (n:2) (n:3) (n:4)"
     ]
    }
   ],
   "source": [
    "sort n : 1 2 x y 3.14 -99 3 4"
   ]
  },
  {
   "cell_type": "code",
   "execution_count": 4,
   "id": "a37ec3e5-4b28-47f0-b7ff-2167c7ac8e52",
   "metadata": {},
   "outputs": [
    {
     "name": "stdout",
     "output_type": "stream",
     "text": [
      "(int:-99) (int:1) (int:2) (int:3) (int:4)"
     ]
    }
   ],
   "source": [
    "sort int : 1 2 x y 3.14 -99 3 4"
   ]
  },
  {
   "cell_type": "code",
   "execution_count": 5,
   "id": "e6511f76-de29-4287-8c8e-2dad6f33b475",
   "metadata": {},
   "outputs": [
    {
     "name": "stdout",
     "output_type": "stream",
     "text": [
      "(int:-1) (int:-2) (int:99) (int:-3) (int:-4)"
     ]
    }
   ],
   "source": [
    "inv int : 1 2 x y 3.14 -99 3 4"
   ]
  },
  {
   "cell_type": "markdown",
   "id": "3ccc41f9-cdce-44fd-9f33-e8d1ad24bbdb",
   "metadata": {},
   "source": [
    "Coda comes with natural numbers (n), integers (int) and floats (float) created for you already.  These are actually made using functors\n",
    "\n",
    "* Natural \n",
    "* Integer\n",
    "* Float \n",
    "\n",
    "which let's you create your own.  For example... "
   ]
  },
  {
   "cell_type": "code",
   "execution_count": 7,
   "id": "c0a10cf6-e0f4-442c-a57d-65a8d3737df6",
   "metadata": {},
   "outputs": [
    {
     "name": "stdout",
     "output_type": "stream",
     "text": [
      "((Sum:myNumber) myNumber:1 2 x y 3.14 -99 3 4)"
     ]
    }
   ],
   "source": [
    "#\n",
    "#  Since myInt isn't defined at this point, this just creates a coda\n",
    "#\n",
    "sum myNumber : 1 2 x y 3.14 -99 3 4"
   ]
  },
  {
   "cell_type": "code",
   "execution_count": 8,
   "id": "7dba8e52-b8e6-403b-9ba7-18f8ae9aef83",
   "metadata": {},
   "outputs": [
    {
     "name": "stdout",
     "output_type": "stream",
     "text": []
    }
   ],
   "source": [
    "#\n",
    "#  By doing this, definitions are created to handle myNumber as a \n",
    "#  natural number.\n",
    "#\n",
    "Natural : myNumber"
   ]
  },
  {
   "cell_type": "code",
   "execution_count": 9,
   "id": "7cf4b5ac-d912-4cf9-b45d-fa8f589d2531",
   "metadata": {},
   "outputs": [
    {
     "name": "stdout",
     "output_type": "stream",
     "text": [
      "(myNumber:10)"
     ]
    }
   ],
   "source": [
    "sum myNumber : 1 2 x y 3.14 -99 3 4"
   ]
  },
  {
   "cell_type": "markdown",
   "id": "b5656d46-3aba-4619-abec-e20e18b1a634",
   "metadata": {},
   "source": [
    "For more sophisticated use of the Natural functor, see, for example, Path.co.\n",
    "\n",
    "The fact that coda sequences are always finite sequences doesn't mean that we can't precisely represent infinite things.  For instance, the natural numbers are represented by `nat:0` where nat has a definition `nat:n` -> `n (nat:n+1)`, so the following are all equal:\n",
    "\n",
    "* (nat : 0)\n",
    "* 0 (nat:1)\n",
    "* 0 1 2 3 4 (nat:5)\n",
    "\n",
    "Let's demonstrate."
   ]
  },
  {
   "cell_type": "code",
   "execution_count": 10,
   "id": "133c9601-796a-4b47-9142-7aba032c8d6a",
   "metadata": {},
   "outputs": [
    {
     "name": "stdout",
     "output_type": "stream",
     "text": [
      "0 1 2 3 4 5 6 7 8 9 10 11 12 13 14 15 16 17 18 19 20 21 22 23 24 25 26 27 28 29 30 31 32 33 34 35 36 37 38 39 40 41 42 43 44 45 46 47 48 49 50 51 52 53 54 55 56 57 58 59 60 61 62 63 64 65 66 67 68 69 70 71 72 73 74 75 76 77 78 79 80 81 82 83 84 85 86 87 88 89 90 91 92 93 94 95 96 97 98 (nat:99)"
     ]
    }
   ],
   "source": [
    "#\n",
    "#   The only thing coda does is take data and apply definitions.  By default, \n",
    "#   the interpreter evaluates definitions recursively up to a default depth.  \n",
    "#   That's why, if you enter `nat:0`, you get a finite sequence which is \n",
    "#   not completely evaluated. Note the coda at the end of the sequence. \n",
    "#\n",
    "nat:0"
   ]
  },
  {
   "cell_type": "code",
   "execution_count": 11,
   "id": "daa05c5b-e126-4718-9946-24fe45cdf8b4",
   "metadata": {},
   "outputs": [
    {
     "name": "stdout",
     "output_type": "stream",
     "text": [
      "100 20"
     ]
    }
   ],
   "source": [
    "#\n",
    "#   You can control the default evaluation depth.\n",
    "#\n",
    "getDefaultDepth :\n",
    "setDefaultDepth : 20 "
   ]
  },
  {
   "cell_type": "code",
   "execution_count": 12,
   "id": "ec6ff4cb-fbd3-4468-bdd3-9540a6da115c",
   "metadata": {},
   "outputs": [
    {
     "name": "stdout",
     "output_type": "stream",
     "text": [
      "0 1 2 3 4 5 6 7 8 9 10 11 12 13 14 15 16 17 (nat:18)"
     ]
    }
   ],
   "source": [
    "#\n",
    "#   Trying again, we have a modified partial evaluation of (nat:0), the natural numbers. \n",
    "#\n",
    "nat : 0"
   ]
  },
  {
   "cell_type": "code",
   "execution_count": 13,
   "id": "94170711-ebf6-48c0-8872-7d6a2f4b6e10",
   "metadata": {},
   "outputs": [
    {
     "name": "stdout",
     "output_type": "stream",
     "text": [
      "[ 0] (({nat}:):({0}:))\n",
      "[ 1] 0 (nat:1)\n",
      "[ 2] 0 1 (nat:2)\n",
      "[ 3] 0 1 2 (nat:3)\n",
      "[ 4] 0 1 2 3 (nat:4)\n",
      "[ 5] 0 1 2 3 4 (nat:5)\n",
      "[ 6] 0 1 2 3 4 5 (nat:6)\n",
      "[ 7] 0 1 2 3 4 5 6 (nat:7)\n",
      "[ 8] 0 1 2 3 4 5 6 7 (nat:8)\n",
      "[ 9] 0 1 2 3 4 5 6 7 8 (nat:9)\n",
      "[10] 0 1 2 3 4 5 6 7 8 9 (nat:10)"
     ]
    }
   ],
   "source": [
    "#\n",
    "#   You can use step to how this gets evaluated in sequence. \n",
    "#\n",
    "step 10 : nat : 0 "
   ]
  },
  {
   "cell_type": "code",
   "execution_count": 14,
   "id": "8612af08-f398-4a99-b8bb-2b67ca864c83",
   "metadata": {},
   "outputs": [
    {
     "name": "stdout",
     "output_type": "stream",
     "text": [
      "(rev:(nat:16)) (rev:15) 14 13 12 11 10 9 8 7 6 5 4 3 2 1 0"
     ]
    }
   ],
   "source": [
    "#\n",
    "#    What if we ask for \"the natural numbers in reverse order?\"...\n",
    "#\n",
    "rev : nat : 0"
   ]
  },
  {
   "cell_type": "code",
   "execution_count": 15,
   "id": "62251acc-5d95-4cb2-bddb-2cfd2004f79c",
   "metadata": {},
   "outputs": [
    {
     "name": "stdout",
     "output_type": "stream",
     "text": [
      "0 1 2 3 4 5 6 7 8 9 10 11 12 (rev:(rev:13)) (rev:(rev:(nat:14)))"
     ]
    }
   ],
   "source": [
    "#\n",
    "#    Note that this is handled correctly.  For instance, the first number \n",
    "#    in the reverse of the natural numbers is not defined, but the last \n",
    "#    is perfectly well defined.  \n",
    "#\n",
    "#    If you reverse twice, you get back the natural numbers again, as required. \n",
    "#\n",
    "rev : rev : nat : 0"
   ]
  },
  {
   "cell_type": "code",
   "execution_count": 16,
   "id": "9c465d1a-93af-491e-94a6-869ba132e9fa",
   "metadata": {},
   "outputs": [
    {
     "name": "stdout",
     "output_type": "stream",
     "text": [
      "(ap put n:(apbin int_add:0 (({ap get1 A } n:(({make} n:0 1 2 3 4 5 6 7 8 9 10 11 12 13 14 15 (nat:16)) ({A} n:0 1 2 3 4 5 6 7 8 9 10 11 12 13 14 15 (nat:16)):0 1 2 3 4 5 6 7 8 9 10 11 12 13 14 15 (nat:16))):({ B} n:(({make} n:0 1 2 3 4 5 6 7 8 9 10 11 12 13 14 15 (nat:16)) ({A} n:0 1 2 3 4 5 6 7 8 9 10 11 12 13 14 15 (nat:16)):0 1 2 3 4 5 6 7 8 9 10 11 12 13 14 15 (nat:16)))))) (ap put n:)"
     ]
    }
   ],
   "source": [
    "#\n",
    "#    What about \"the sum of the natural numbers?\"\n",
    "#\n",
    "#    If you do this, you get correct, but only partly evaluated data.  This would remain \n",
    "#    unevaluated no matter how deeply you evaluate. \n",
    "#\n",
    "#    This is how coda tells you \"This question has no answer.\" \n",
    "#\n",
    "sum n : nat : 0"
   ]
  },
  {
   "cell_type": "code",
   "execution_count": 17,
   "id": "7e1670d4-d57e-42d5-ba8c-64c6e2ac62ab",
   "metadata": {},
   "outputs": [
    {
     "name": "stdout",
     "output_type": "stream",
     "text": [
      "(ap put n:(apbin int_add:0 (({ap get1 A } n:(({make} n:0 1 2 3 4 5 6 7 8 9) ({A} n:0 1 2 3 4 5 6 7 8 9):0 1 2 3 4 5 6 7 8 9)):({ B} n:(({make} n:0 1 2 3 4 5 6 7 8 9) ({A} n:0 1 2 3 4 5 6 7 8 9):0 1 2 3 4 5 6 7 8 9))))) (ap put n:)"
     ]
    }
   ],
   "source": [
    "#\n",
    "#    On the other hand, the sum of the first 10 natural numbers is perfectly well defined. \n",
    "#\n",
    "sum n : first 10 : nat : 0"
   ]
  },
  {
   "cell_type": "code",
   "execution_count": 18,
   "id": "8b349ea9-f1a4-4b75-bb32-c0e92a0cdcc2",
   "metadata": {},
   "outputs": [
    {
     "name": "stdout",
     "output_type": "stream",
     "text": [
      "100"
     ]
    }
   ],
   "source": [
    "#\n",
    "#    If this isn't evaluated enough, you may have to increase the depth.\n",
    "#\n",
    "setDefaultDepth:100"
   ]
  },
  {
   "cell_type": "code",
   "execution_count": 19,
   "id": "66aaa5b3-27bb-402d-a758-67afc508381f",
   "metadata": {},
   "outputs": [
    {
     "name": "stdout",
     "output_type": "stream",
     "text": [
      "(n:45)"
     ]
    }
   ],
   "source": [
    "#\n",
    "#    Trying again, we get the correct answer of 45.\n",
    "#\n",
    "sum n : first 10 : nat : 0"
   ]
  },
  {
   "cell_type": "markdown",
   "id": "53c072a6-793d-4686-95d1-27c0a5ae43de",
   "metadata": {},
   "source": [
    "Evaluation to a fixed depth is only one way to apply definitions to coda data.  The point is, that each way is valid and may be done for different reasons.  The default behavior is \"apply whatever definitions you can\".  This is a generally useful strategy for simplifying data by \"flattening\" it into atoms as much as possible.  Completely different strategies may be useful for different situations such as proving that two data are equal or proving that some given data is true or false."
   ]
  },
  {
   "cell_type": "code",
   "execution_count": null,
   "id": "043d4733-fe6a-458e-ad48-4b81a53f0a8d",
   "metadata": {},
   "outputs": [],
   "source": []
  }
 ],
 "metadata": {
  "kernelspec": {
   "display_name": "coda",
   "language": "",
   "name": "coda"
  },
  "language_info": {
   "file_extension": ".co",
   "mimetype": "text/plain",
   "name": "Any text"
  }
 },
 "nbformat": 4,
 "nbformat_minor": 5
}
