{
 "cells": [
  {
   "cell_type": "markdown",
   "id": "7fc240b7-9fe4-4174-9e7b-31dee4eac5c7",
   "metadata": {},
   "source": [
    "The Set module makes collections of data"
   ]
  },
  {
   "cell_type": "code",
   "execution_count": 1,
   "id": "b71cca2d-7bc7-44d7-9043-144b61516b9a",
   "metadata": {},
   "outputs": [],
   "source": [
    "import Generate\n",
    "#from Space import Space \n",
    "\n",
    "S = Generate.Gen(Generate.codas,3).set()"
   ]
  },
  {
   "cell_type": "code",
   "execution_count": 2,
   "id": "85d2f65b-1372-4380-b33f-5d9de260f3d3",
   "metadata": {},
   "outputs": [
    {
     "data": {
      "text/plain": [
       "14098"
      ]
     },
     "execution_count": 2,
     "metadata": {},
     "output_type": "execute_result"
    }
   ],
   "source": [
    "S"
   ]
  },
  {
   "cell_type": "code",
   "execution_count": 3,
   "id": "2cc8639e-d798-4578-b60e-a2b89677a1a8",
   "metadata": {
    "tags": []
   },
   "outputs": [
    {
     "name": "stdout",
     "output_type": "stream",
     "text": [
      "1 ◎\n",
      "2 𝟬\n",
      "3 𝝞\n",
      "4 pass\n",
      "5 null\n",
      "6 bin\n",
      "7 domain\n",
      "8 if\n",
      "9 put\n",
      "10 has1\n",
      "11 get1\n",
      "12 *\n",
      "13 rev\n",
      "14 first\n",
      "15 tail\n",
      "16 last\n",
      "17 rep\n",
      "18 nth1\n",
      "19 pre\n",
      "20 post\n",
      "21 bool\n",
      "22 not\n",
      "23 =\n",
      "24 or\n",
      "25 and\n",
      "26 nor\n",
      "27 xor\n",
      "28 nand\n",
      "29 xnor\n",
      "30 iff\n",
      "31 imply\n",
      "32 ap\n",
      "33 app\n",
      "34 ap2\n",
      "35 aps\n",
      "36 apby\n",
      "37 apif\n",
      "38 wrap\n",
      "39 startswith\n",
      "40 endswith\n",
      "41 join\n",
      "42 split\n",
      "43 equiv\n",
      "44 collect\n",
      "45 counts\n",
      "46 0\n",
      "47 1\n",
      "48 2\n",
      "49 3\n",
      "50 a\n",
      "51 b\n",
      "52 A\n",
      "53 B\n",
      "54 {$}\n"
     ]
    }
   ],
   "source": [
    "i=1\n",
    "for c in Generate.codas: print(i,c); i+=1"
   ]
  },
  {
   "cell_type": "code",
   "execution_count": 4,
   "id": "16b4cb96-a11d-4814-8b60-330c7ad95709",
   "metadata": {},
   "outputs": [],
   "source": [
    "E = S.eval(4)"
   ]
  },
  {
   "cell_type": "code",
   "execution_count": 5,
   "id": "2dc5359d-b4a8-4a5a-8f4e-29a2e9bbe317",
   "metadata": {},
   "outputs": [],
   "source": [
    "Zero = S.subset(lambda s:s.empty())"
   ]
  },
  {
   "cell_type": "code",
   "execution_count": 6,
   "id": "910a20d3-8411-4b0b-ab1f-fa3da41387de",
   "metadata": {},
   "outputs": [
    {
     "data": {
      "text/plain": [
       "1"
      ]
     },
     "execution_count": 6,
     "metadata": {},
     "output_type": "execute_result"
    }
   ],
   "source": [
    "Zero"
   ]
  },
  {
   "cell_type": "code",
   "execution_count": 7,
   "id": "bd90d03e-e70d-4a58-a05d-cd37ce982ad4",
   "metadata": {},
   "outputs": [
    {
     "data": {
      "text/plain": [
       "95/196 ,◎,𝟬,𝝞,language,nat,one,count,int1,nat1,float1,int_add,int_mult,int_diff,int_max,int_min,float_add,float_mult,float_diff,float_max,float_min,code_add,code_min,code_max,int_sort,float_sort,int_inv,float_inv,pass,null,bin,domain,if,put,has1,get1,*,readpath,dir,out,in,help,source,demo,defs,rev,first,tail,last,rep,nth1,pre,post,bool,not,=,or,and,nor,xor,nand,xnor,iff,imply,home,start,startcontext,homecontext,setDefaultDepth,getDefaultDepth,step,eval,def,?,let,ap,app,ap2,aps,apby,apif,wrap,startswith,endswith,join,split,equiv,collect,counts,coda,codx,codes,alphabet,allcodes,pure"
      ]
     },
     "execution_count": 7,
     "metadata": {},
     "output_type": "execute_result"
    }
   ],
   "source": [
    "from base import * \n",
    "CONTEXT"
   ]
  },
  {
   "cell_type": "code",
   "execution_count": 8,
   "id": "c0ae6ccb-2c6b-4b22-b751-4b47df4dc3bd",
   "metadata": {},
   "outputs": [
    {
     "data": {
      "text/plain": [
       "(1, 14097, 0)"
      ]
     },
     "execution_count": 8,
     "metadata": {},
     "output_type": "execute_result"
    }
   ],
   "source": [
    "len(E.empty()),len(E.atomic()),len(E.undecided())"
   ]
  },
  {
   "cell_type": "code",
   "execution_count": 9,
   "id": "2c736186-9879-42e9-881d-e7c33a017187",
   "metadata": {},
   "outputs": [],
   "source": [
    "atoms = Generate.EvenAtoms(2)+Generate.OddAtoms(2)"
   ]
  },
  {
   "cell_type": "code",
   "execution_count": 10,
   "id": "9bb9215d-2afa-4022-a430-455030eb7623",
   "metadata": {},
   "outputs": [
    {
     "data": {
      "text/plain": [
       "4"
      ]
     },
     "execution_count": 10,
     "metadata": {},
     "output_type": "execute_result"
    }
   ],
   "source": [
    "atoms"
   ]
  },
  {
   "cell_type": "code",
   "execution_count": 11,
   "id": "661ce87b-e81c-4098-bb75-4f90b58532f8",
   "metadata": {},
   "outputs": [
    {
     "name": "stdout",
     "output_type": "stream",
     "text": [
      "\n",
      "◎ ◎\n",
      "◎\n",
      "◎ ◎ ◎\n"
     ]
    }
   ],
   "source": [
    "for atom in atoms: print(atom)"
   ]
  },
  {
   "cell_type": "code",
   "execution_count": 13,
   "id": "9ed27ee7-9e98-4db3-95da-bd2094526d7d",
   "metadata": {},
   "outputs": [],
   "source": [
    "T = S.notkernel(atoms)"
   ]
  },
  {
   "cell_type": "code",
   "execution_count": 15,
   "id": "23686b83-35a3-4140-b50a-b44ff1f20168",
   "metadata": {},
   "outputs": [],
   "source": [
    "import Set\n",
    "Te = T.multieval(Set.eval10)"
   ]
  },
  {
   "cell_type": "code",
   "execution_count": 17,
   "id": "c2f77301-ec42-4613-95d6-d60303d6a3e9",
   "metadata": {},
   "outputs": [
    {
     "data": {
      "text/plain": [
       "5614"
      ]
     },
     "execution_count": 17,
     "metadata": {},
     "output_type": "execute_result"
    }
   ],
   "source": [
    "Te.atomic()"
   ]
  },
  {
   "cell_type": "code",
   "execution_count": 12,
   "id": "81e63d40-5611-41bb-bd67-f6fe70a34272",
   "metadata": {},
   "outputs": [],
   "source": [
    "Idempotent = S.idempotent(atoms)"
   ]
  },
  {
   "cell_type": "code",
   "execution_count": 13,
   "id": "a477394c-fcad-4485-a37f-842dc5175bf0",
   "metadata": {},
   "outputs": [
    {
     "data": {
      "text/plain": [
       "14098"
      ]
     },
     "execution_count": 13,
     "metadata": {},
     "output_type": "execute_result"
    }
   ],
   "source": [
    "Idempotent"
   ]
  },
  {
   "cell_type": "code",
   "execution_count": null,
   "id": "a9ddbc4c-74ca-46f1-8927-215df81c7b8a",
   "metadata": {},
   "outputs": [],
   "source": [
    "import Set\n",
    "\n",
    "X = Idempotent.multieval(Set.eval10,8)\n",
    "\n",
    "#X = Idempotent.multieval(10,8)"
   ]
  },
  {
   "cell_type": "code",
   "execution_count": null,
   "id": "bed691aa-092d-45ca-97c6-66e2bb863cdc",
   "metadata": {},
   "outputs": [],
   "source": [
    "#Idempotent.eval(10)"
   ]
  },
  {
   "cell_type": "code",
   "execution_count": null,
   "id": "3765603c-3222-4b95-a099-9e27f1d83608",
   "metadata": {},
   "outputs": [],
   "source": [
    "X"
   ]
  },
  {
   "cell_type": "code",
   "execution_count": null,
   "id": "3aa4b527-ae50-4bad-b727-b4ad59709fd7",
   "metadata": {},
   "outputs": [],
   "source": [
    "X.empty()"
   ]
  },
  {
   "cell_type": "code",
   "execution_count": null,
   "id": "fbdc6e7a-0cdc-4bd7-a7ac-104669ae6448",
   "metadata": {},
   "outputs": [],
   "source": [
    "X.atomic()"
   ]
  },
  {
   "cell_type": "code",
   "execution_count": null,
   "id": "611db0ea-6fc0-4016-ba2a-489afe8b6c70",
   "metadata": {},
   "outputs": [],
   "source": []
  }
 ],
 "metadata": {
  "kernelspec": {
   "display_name": "Python 3 (ipykernel)",
   "language": "python",
   "name": "python3"
  },
  "language_info": {
   "codemirror_mode": {
    "name": "ipython",
    "version": 3
   },
   "file_extension": ".py",
   "mimetype": "text/x-python",
   "name": "python",
   "nbconvert_exporter": "python",
   "pygments_lexer": "ipython3",
   "version": "3.11.1"
  }
 },
 "nbformat": 4,
 "nbformat_minor": 5
}
