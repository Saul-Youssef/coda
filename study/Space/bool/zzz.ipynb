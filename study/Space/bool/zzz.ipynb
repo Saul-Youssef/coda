{
 "cells": [
  {
   "cell_type": "code",
   "execution_count": null,
   "id": "f78862ed-868a-4bd1-9375-a5bfad863115",
   "metadata": {},
   "outputs": [],
   "source": []
  },
  {
   "cell_type": "markdown",
   "id": "4a3eab1f-5e00-4e6b-8d2c-f9176276787d",
   "metadata": {},
   "source": [
    "### 3. Boolean sequences and their endomorphisms \n",
    "\n",
    "We can also consider sequences of boolean values using the \"functor\" **Seq** to define **L** to be the space of sequences of boolean values stored in b atoms as in L1.\n",
    "\n",
    "* L = Seq b : bool \n",
    "\n",
    "L is a distributive space, and, therefore, (L:) is the empty sequence.  Note that L1 is not distributive since (L1:) is equal to (b:), not ().  "
   ]
  },
  {
   "cell_type": "code",
   "execution_count": null,
   "id": "509c5b4c-4988-4f37-91dc-0bad98d3776f",
   "metadata": {},
   "outputs": [],
   "source": [
    "#\n",
    "#   L is the space of sequences of boolean values  \n",
    "#\n",
    "Def L : Seq b : bool "
   ]
  },
  {
   "cell_type": "code",
   "execution_count": null,
   "id": "b854b202-62da-465f-a7d6-9ba90a4694a0",
   "metadata": {
    "tags": []
   },
   "outputs": [],
   "source": [
    "#\n",
    "#   These three should be the same, since L is a space \n",
    "#\n",
    "L     : (b:x) (b:) zz (b:y) (b:y)\n",
    "L : L : (b:x) (b:) zz (b:y) (b:y)\n",
    "L : ( L : (b:x) (b:) zz ) ( L : (b:y) (b:y)) "
   ]
  },
  {
   "cell_type": "markdown",
   "id": "1d2761a6-ffa2-4869-a0c7-c3f3c2cacfe0",
   "metadata": {
    "tags": []
   },
   "source": [
    "As always, endomorphisms of L are data L\\*X\\*L for some data X.  Let's distinguish the special case of morphisms that \"only use the b contents\" as \n",
    "\n",
    "* L\\*(put b)\\*X\\*(get b)\\*L\n",
    "\n",
    "and let's call them \"small\" endomorphisms.  "
   ]
  },
  {
   "cell_type": "code",
   "execution_count": null,
   "id": "b7da2647-d2a0-45d4-adb3-cbb56289a5d8",
   "metadata": {
    "jupyter": {
     "source_hidden": true
    },
    "tags": []
   },
   "outputs": [],
   "source": [
    "#\n",
    "#   E : X is a \"big\" or \"general\" endomorphism L*X*L \n",
    "#   e : X is a \"small\" endomorphism L*(put b)*X*(get b)*L \n",
    "#\n",
    "Def E : End L \n",
    "Def e : {End L : Down b : B}"
   ]
  },
  {
   "cell_type": "code",
   "execution_count": null,
   "id": "a1dbd9a1-0a0c-4e54-ac41-fab6980822a7",
   "metadata": {
    "jupyter": {
     "source_hidden": true
    },
    "tags": []
   },
   "outputs": [],
   "source": [
    "#\n",
    "#   Some examples... \n",
    "#\n",
    "#   (E:X) and (e:X) are endomorphisms for any X.  Here are a few examples.\n",
    "#\n",
    "(E:pass) : (b:) (b:(:))\n",
    "(E:null) : (b:) (b:(:))\n",
    "(E:rev) : (b:) (b:(:))\n",
    "(E:{B B}) : (b:) (b:(:))\n",
    "(e:rev) : (b:) (b:(:))\n",
    "(e:not) : (b:) (b:(:))\n",
    "ap (e:not) : (b:) (b:(:))\n",
    "(E:ap (e:not)) : (b:) (b:(:))"
   ]
  },
  {
   "cell_type": "code",
   "execution_count": null,
   "id": "0be6f8a1-f1c5-41a9-8e16-2a20d40c6148",
   "metadata": {
    "jupyter": {
     "source_hidden": true
    },
    "tags": []
   },
   "outputs": [],
   "source": [
    "#\n",
    "#   For testing, let L3 be a sample of data from L.  This sample has all boolean sequences up to length 3.  \n",
    "#\n",
    "Let L3 : sum (:permutation 0) (:permutation 1) (:permutation 2) (:permutation 3) : (b:) (b:(:))\n",
    "tab : L3?"
   ]
  },
  {
   "cell_type": "markdown",
   "id": "3f5440b3-d11a-40b6-a25f-539b4742e0b3",
   "metadata": {
    "jupyter": {
     "source_hidden": true
    },
    "tags": []
   },
   "source": [
    "Since small endomorphisms start with the sequence of b contents, small endomorphisms can only detect the presence of one or more false values. \n",
    "The small endomorphism **pass** is true if every boolean is true, and could be called \"ALL\".  The morphism which inverts each boolean value is \n",
    "fairly called \"NOT\".  Since both NOT and (NOT\\*(E:rev)) are involutions, NOT and (E:rev) commute, meaning that NOT is a mathematical endomorphism. \n",
    "ANY cannot be constructed as a small endomorphism, but NOT\\*ALL\\*NOT=ANY is a mathematical endomorphism computing if any boolean in the sequence is true. "
   ]
  },
  {
   "cell_type": "code",
   "execution_count": null,
   "id": "7678b2c2-0b71-4d1b-b9c5-2c6af6c673d8",
   "metadata": {
    "jupyter": {
     "source_hidden": true
    },
    "tags": []
   },
   "outputs": [],
   "source": [
    "Def NULL : (E:pass) \n",
    "Def ALL : (e:pass)\n",
    "Def NOT : ap (e:not)\n",
    "Def ANY : NOT*ALL*NOT\n",
    "Def TRUE : (e:null)\n",
    "Def FALSE : (e:const (:)) "
   ]
  },
  {
   "cell_type": "code",
   "execution_count": null,
   "id": "a6902b62-8aa8-45ef-adc7-f5bd440c2dcd",
   "metadata": {
    "jupyter": {
     "source_hidden": true
    },
    "tags": []
   },
   "outputs": [],
   "source": [
    "#\n",
    "# Check each endomorphism applied to the empty boolean sequence ()\n",
    "#\n",
    "- (NULL:)\n",
    "ANY:\n",
    "ALL:\n",
    "TRUE:\n",
    "FALSE:"
   ]
  },
  {
   "cell_type": "code",
   "execution_count": null,
   "id": "8ddc3aa8-2e82-40b9-83a9-551074543cb9",
   "metadata": {
    "jupyter": {
     "source_hidden": true
    },
    "tags": []
   },
   "outputs": [],
   "source": [
    "#\n",
    "#  As an exercise, apply ALL and ANY to each L value in L3\n",
    "#\n",
    "-ALL \n",
    "ap {ALL:get:B} : L3?\n",
    "-ANY \n",
    "ap {ANY:get:B} : L3?"
   ]
  },
  {
   "cell_type": "markdown",
   "id": "3e1ea7ae-00bb-4bed-828e-e4c23675f2ec",
   "metadata": {
    "jupyter": {
     "source_hidden": true
    },
    "tags": []
   },
   "source": [
    "What makes morphisms like ANY, ALL, and NOT more interesting than, say, (E:nth 45)?  \n",
    "\n",
    "The difference is that ANY, ALL and NOT commute with permutations, while (E:nth 45) doesn't. \n",
    "Commuting with permutations is a deep signal.  It indicates that ANY, ALL and NOT are, in a sense, \n",
    "Platonic mathematical concepts, transcending the single foundational concept of the system: the \n",
    "finite sequence.  \n",
    "\n",
    "Levels of mathematical significance on U\n",
    "\n",
    "1. Algebraic F:(U:X) (U:Y) = M:(U:Y) (U:X) \n",
    "2. Algebraic endomorphisms. \n",
    "3. Algebraic endomorphism which are also a spaces. \n",
    "\n",
    "It is sufficient that F commute with Rev=U\\*rev\\*U for level 1.  \n",
    "\n",
    "* F\\*Rev = Rev\\*F\n",
    "\n",
    "or, in other words, if \n",
    "\n",
    "* U:rev:U:f:U:X = U:f:U:rev:U:X for all pure data X. \n",
    "\n",
    "this means that we have a way of systematically searching for all mathematical endomorphisms associated with a given space U. \n",
    "\n",
    "There is a bit of special reasoning for endomorphisms like NOT, which are involutions.  If I is an involution, and I\\*rev is an involution, then I commutes with all permutations and is, therefore, mathematical. \n"
   ]
  },
  {
   "cell_type": "code",
   "execution_count": null,
   "id": "56e83703-313e-4927-a3b2-32bba076a77d",
   "metadata": {
    "jupyter": {
     "source_hidden": true
    },
    "tags": []
   },
   "outputs": [],
   "source": [
    "#\n",
    "#    (E:once) is an interesting morphism since it removes all \"redundant bits\", reducing \n",
    "#    the sequence to a single boolean-like object. \n",
    "#\n",
    "(E:once) : (b:) (b:(:)) (b:(:)) (b:) (b:) (b:) (b:(:)) \n",
    "(E:once) : (b:) (b:) (b:) (b:)"
   ]
  },
  {
   "cell_type": "code",
   "execution_count": null,
   "id": "5773f8d7-f4f8-41ed-81d4-2622948d826a",
   "metadata": {
    "jupyter": {
     "source_hidden": true
    },
    "tags": []
   },
   "outputs": [],
   "source": [
    "#\n",
    "#    There are also morphisms that commute with permutations (i.e. are mathematical)\n",
    "#    but which don't touch the b contents.  This one gets the false bits, for instance.\n",
    "#\n",
    "(E:is (b:(:))) : (b:) (b:(:)) (b:(:)) (b:) (b:) (b:) (b:(:)) "
   ]
  },
  {
   "cell_type": "code",
   "execution_count": null,
   "id": "8cdd3531-f2ac-499d-994e-e074da322d30",
   "metadata": {
    "jupyter": {
     "source_hidden": true
    },
    "tags": []
   },
   "outputs": [],
   "source": [
    "#\n",
    "#  This one is the number of false entries, but saturating at 2 values.  \n",
    "#  It also, clearly, commutes with permutations and is, thus, \"mathematical.\" \n",
    "#\n",
    "(E:{front | |: is (b:(:)):B}) :  (b:) (b:(:)) (b:(:)) (b:) (b:) (b:) (b:(:)) "
   ]
  },
  {
   "cell_type": "markdown",
   "id": "f3439cdb-757d-4c6d-8b29-ed7ad31839ed",
   "metadata": {
    "tags": []
   },
   "source": [
    "Notice that NOT and this last example have a somewhat different character to our other examples.  That's because ALL, ANY, (E:once), (E:is (b:(:))) are spaces as well as morphisms commuting with permutations.  "
   ]
  },
  {
   "cell_type": "code",
   "execution_count": null,
   "id": "9f8e7d3c-9343-4a03-a750-b70958094c9b",
   "metadata": {
    "jupyter": {
     "source_hidden": true
    },
    "tags": []
   },
   "outputs": [],
   "source": [
    "ALL : (b:) (b:(:)) (b:(:)) (b:) (b:) (b:) (b:(:)) \n",
    "ALL : (ALL : (b:) (b:(:)) ) (ALL:(b:) (b:) (b:) (b:(:)))\n",
    "ALL : ALL : (b:) (b:) (b:) (b:(:))"
   ]
  },
  {
   "cell_type": "code",
   "execution_count": null,
   "id": "74cdaccb-6f5d-488b-a2fc-f46b25361467",
   "metadata": {
    "jupyter": {
     "source_hidden": true
    },
    "tags": []
   },
   "outputs": [],
   "source": [
    "ANY : (b:) (b:(:)) (b:(:)) (b:) (b:) (b:) (b:(:)) \n",
    "ANY : (ANY : (b:) (b:(:)) ) (ANY:(b:) (b:) (b:) (b:(:)))\n",
    "ANY : ANY : (b:) (b:) (b:) (b:(:))"
   ]
  },
  {
   "cell_type": "code",
   "execution_count": null,
   "id": "9b97d2d8-06bb-406e-ad2e-524465ea0d09",
   "metadata": {
    "jupyter": {
     "source_hidden": true
    },
    "tags": []
   },
   "outputs": [],
   "source": [
    "(E:once) : (b:) (b:(:)) (b:(:)) (b:) (b:) (b:) (b:(:)) \n",
    "(E:once) : ((E:once) : (b:) (b:(:)) ) ((E:once):(b:) (b:) (b:) (b:(:)))\n",
    "(E:once) : (E:once) : (b:) (b:) (b:) (b:(:))"
   ]
  },
  {
   "cell_type": "markdown",
   "id": "c5a5372d-1171-451f-b090-9a65304ab533",
   "metadata": {},
   "source": [
    "Let's examine commutators of ALL, ANY, TRUE, FALSE, (E:once), and (E:is (b:(:)).  "
   ]
  },
  {
   "cell_type": "code",
   "execution_count": null,
   "id": "8608ef4a-b63d-499f-88ed-aa0270a68f8e",
   "metadata": {
    "jupyter": {
     "source_hidden": true
    },
    "tags": []
   },
   "outputs": [],
   "source": [
    "Def ONCE : E:once \n",
    "Def ATOMS : E:is (b:(:)) "
   ]
  },
  {
   "cell_type": "code",
   "execution_count": null,
   "id": "3771ecd2-4659-4df6-a0d7-ceb2626775d8",
   "metadata": {
    "jupyter": {
     "source_hidden": true
    },
    "tags": []
   },
   "outputs": [],
   "source": [
    "Let endos : (:ALL) (:ANY) (:TRUE) (:FALSE) (:ONCE) (:ATOMS) "
   ]
  },
  {
   "cell_type": "code",
   "execution_count": null,
   "id": "3e21ea0a-55fa-4513-9e6b-2d6692d05490",
   "metadata": {
    "jupyter": {
     "source_hidden": true
    },
    "tags": []
   },
   "outputs": [],
   "source": [
    "tab : dom 100 : ap {with (get:B) : bool : commutator (get:B) : L3?} : combination 2 : endos?"
   ]
  },
  {
   "cell_type": "markdown",
   "id": "d9c56a8a-bf34-4608-be23-500c6bb6f8ac",
   "metadata": {
    "jupyter": {
     "source_hidden": true
    },
    "tags": []
   },
   "source": [
    "  |              |  ALL  |  ANY  | TRUE | FALSE  | ONCE  | ATOMS | \n",
    "  |:------------:|:-----:|:-----:|:----:|:------:|:---------:|:-------------:|\n",
    "  |ALL           |   -   |   X   |   -  |   -    |     -     |      X        |  \n",
    "  |ANY           |   -   |   -   |   -  |   -    |     -     |      X        |\n",
    "  |TRUE          |   -   |   -   |   -  |   X    |     -     |      X        |  \n",
    "  |FALSE         |   -   |   -   |   -  |   -    |     -     |      -        |\n",
    "  |ONCE      |   -   |   -   |   -  |   -    |     -     |      -       |  \n",
    "  |ATOMS |   -   |   -   |   -  |   -    |     -     |      -        |"
   ]
  },
  {
   "cell_type": "markdown",
   "id": "dbe5f93f-7353-4e39-ae58-22ee74279760",
   "metadata": {
    "jupyter": {
     "source_hidden": true
    },
    "tags": []
   },
   "source": [
    "### Summary \n",
    "\n",
    "These results means that ALL, ANY, TRUE, FALSE, (E:once), (E:is (b:(:))) also identify **subspaces** of L.  \n",
    "\n",
    "* ALL: (b:(:)) only \n",
    "* ANY: (b:) only \n",
    "* TRUE: The subspace of all true boolean sequences\n",
    "* FALSE: The subspace of all false boolean sequences\n",
    "* (E:once): The subspace consisting of the four data \n",
    "     1. (b:)\n",
    "     2. (b:(:))\n",
    "     3. (b:) (b:(:))\n",
    "     4. (b:(:)) (b:)\n",
    "     \n",
    "At this point, it is natural to ask if we can find or at least characterize **all** endomorphisms of L.  We will attempt this in a second notebook..."
   ]
  },
  {
   "cell_type": "markdown",
   "id": "c0319dcb-819e-4af4-bfb5-c98fa141495e",
   "metadata": {
    "jupyter": {
     "source_hidden": true
    },
    "tags": []
   },
   "source": [
    "## Conclusion\n",
    "\n",
    "At this point, it is natural to ask more questions.  \n",
    "\n",
    "### Can we find **all** endomorphisms of L?\n",
    "\n",
    "We will attempt this while practicing systematic searches in the notebook **search.ipynb**"
   ]
  }
 ],
 "metadata": {
  "kernelspec": {
   "display_name": "coda",
   "language": "",
   "name": "coda"
  },
  "language_info": {
   "file_extension": ".co",
   "mimetype": "text/plain",
   "name": "Any text"
  }
 },
 "nbformat": 4,
 "nbformat_minor": 5
}
