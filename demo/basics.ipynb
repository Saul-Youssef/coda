{
 "cells": [
  {
   "cell_type": "markdown",
   "id": "143da33d-c873-447e-bd6e-668e4ccf6711",
   "metadata": {},
   "source": [
    "### Overview \n",
    "\n",
    "In this system, data is defined together with a dual concept called a \"coda.\"  \n",
    "\n",
    "* A **data** is a finite sequence of **codas**.\n",
    "* A **coda** is a pair of **data**.\n",
    "\n",
    "Given this concept of data, meaning enters by introducting \"definitions.\"\n",
    "\n",
    "* A **definition** is a partial function from coda to data. \n",
    "* A **context** is a finite collection of definitions with disjoint domains. \n",
    "\n",
    "The coda concept provides a way of defining the domain of a definition when it is introduced.  By convention a \n",
    "coda (A:B) is in the domain of f depending on the first item (if any) of the data A.  For example, the coda \n",
    "\n",
    "* rev : a b c \n",
    "\n",
    "has a definition `rev` associated with it which maps `rev : a b c` to `c b a`.  If the definition associated \n",
    "with a coda is an identity partial function, then the coda is called an **atom**.  For example, the 0 and 1 bits \n",
    "are represented as (:) and (:(:)) and both are atoms because there is an identity definition mapping any coda \n",
    "(:B) to (:B).  \n",
    "\n",
    "Given a definition f from coda to data, we can extend this to a function from data to data by defining \n",
    "\n",
    "* f(c1 c2 c3...cn) = f(c1)+f(c2)+f(c3)+...+f(cn) \n",
    "\n",
    "where c1...cn are codas, + is concatenation of data as sequences and where f(c) is taken to be the identity if c is not in the domain of f.  If we extend all definitions f like that, then, for data A and B, the relations \n",
    "\n",
    "* A B = f(A) B = A f(B)\n",
    "\n",
    "define a sequence-compatible equivalence relation on all data.  \n",
    "\n",
    "| Example Data  |  Domain  |  Meaning  |  Partial function |  \n",
    "|------:|:-------|:-------------|----------:|\n",
    "|  &#x2205;  |   &#x2205;    |   empty data   | atom |\n",
    "|  𝟬  |  &#x2205; | 0 bit | atom | \n",
    "|  𝟭  | &#x2205;  | 1 bit | atom | \n",
    "|  hello | 𝟬 | byte string | atom | \n",
    "| {rev : 1 2 3} | { | language source | compiler |\n",
    "| rev : 1 2 3 | rev | reverse operator | reverse order | \n",
    "| first 2 : a b c | first | first two items | get first two | \n",
    "| nat : 0 | nat | the natural numbers | (nat:n) -> n (nat:n+1) |\n",
    "\n",
    "A base set of definitions for simple operations like `rev`, `first` and `nat` are defined in Python source code.  These include functions which define the `{` type, creating a natural internal language which let's you use the built-in definitions and let's you add new definitions.\n",
    "\n",
    "Demos:\n",
    "1. Introduction: Data, Definition, Context and Type \n",
    "2. Using the language \n",
    "3. Python layer\n",
    "\n",
    "In practice, one rarely if ever needs to write new Python code to use the system.  Here, we show how to use the Python code in case that is needed. "
   ]
  },
  {
   "cell_type": "code",
   "execution_count": 1,
   "id": "c72baf28-e5f2-4ae0-bdb5-54483aeaf5d4",
   "metadata": {},
   "outputs": [
    {
     "data": {
      "text/plain": [
       "[, (:pass), (:null), (:first), (:rev), (:nat), {]"
      ]
     },
     "execution_count": 1,
     "metadata": {},
     "output_type": "execute_result"
    }
   ],
   "source": [
    "from base import *\n",
    "CONTEXT"
   ]
  },
  {
   "cell_type": "code",
   "execution_count": 2,
   "id": "00ff9508-1426-431f-a025-ed7b8fc66955",
   "metadata": {},
   "outputs": [
    {
     "name": "stdout",
     "output_type": "stream",
     "text": [
      "(:a)(:b)(:c)\n",
      "<class 'base.coda'> ((:first):(:a)(:b)(:c))\n"
     ]
    },
    {
     "data": {
      "text/plain": [
       "True"
      ]
     },
     "execution_count": 2,
     "metadata": {},
     "output_type": "execute_result"
    }
   ],
   "source": [
    "abc = data(co('a'),co('b'),co('c'))\n",
    "print(abc)\n",
    "\n",
    "C = da('first')|abc\n",
    "\n",
    "print(type(C),C)\n",
    "\n",
    "D = data(C)\n",
    "\n",
    "C in CONTEXT"
   ]
  },
  {
   "cell_type": "code",
   "execution_count": 3,
   "id": "4393c367-5210-45d9-a3ac-562b44204a2e",
   "metadata": {},
   "outputs": [
    {
     "name": "stdout",
     "output_type": "stream",
     "text": [
      "((:first)(:1):(:a)(:b)(:c))\n"
     ]
    }
   ],
   "source": [
    "#\n",
    "#   repeat me\n",
    "#\n",
    "D = CONTEXT(D); print(D)"
   ]
  },
  {
   "cell_type": "code",
   "execution_count": 4,
   "id": "3f6e863b-eb4a-47c2-ab26-e2df4c57b454",
   "metadata": {},
   "outputs": [
    {
     "name": "stdout",
     "output_type": "stream",
     "text": [
      "((:first)(:2):(:a)(:b)(:c))\n"
     ]
    }
   ],
   "source": [
    "C2 = (da('first')+da('2'))|abc\n",
    "print(C2)"
   ]
  },
  {
   "cell_type": "code",
   "execution_count": 5,
   "id": "c04848fd-53f1-4251-99d6-dd15a2a0a9c3",
   "metadata": {},
   "outputs": [],
   "source": [
    "D2 = data(C2)"
   ]
  },
  {
   "cell_type": "code",
   "execution_count": 6,
   "id": "8b846316-5d15-4a0b-8284-549afb9e88bf",
   "metadata": {},
   "outputs": [
    {
     "name": "stdout",
     "output_type": "stream",
     "text": [
      "(:a)((:first)(:1):(:b)(:c))\n"
     ]
    }
   ],
   "source": [
    "#\n",
    "#  repeat me \n",
    "#\n",
    "D2 = CONTEXT(D2); print(D2)"
   ]
  },
  {
   "cell_type": "code",
   "execution_count": 7,
   "id": "633f9990-ba2d-4549-9984-fc2850865dbf",
   "metadata": {},
   "outputs": [],
   "source": [
    "N = data(da('nat')|da('0'))"
   ]
  },
  {
   "cell_type": "code",
   "execution_count": 8,
   "id": "a7b9e837-dcfc-4ae0-b68e-39dd178877a6",
   "metadata": {},
   "outputs": [
    {
     "name": "stdout",
     "output_type": "stream",
     "text": [
      "(:0)((:nat):(:1))\n"
     ]
    }
   ],
   "source": [
    "#\n",
    "#  repeat me \n",
    "#\n",
    "N = CONTEXT(N); print(N)"
   ]
  },
  {
   "cell_type": "code",
   "execution_count": null,
   "id": "2bca3795-3808-47c4-995b-00a6659be55f",
   "metadata": {},
   "outputs": [],
   "source": []
  }
 ],
 "metadata": {
  "kernelspec": {
   "display_name": "Python 3 (ipykernel)",
   "language": "python",
   "name": "python3"
  },
  "language_info": {
   "codemirror_mode": {
    "name": "ipython",
    "version": 3
   },
   "file_extension": ".py",
   "mimetype": "text/x-python",
   "name": "python",
   "nbconvert_exporter": "python",
   "pygments_lexer": "ipython3",
   "version": "3.10.7"
  }
 },
 "nbformat": 4,
 "nbformat_minor": 5
}
