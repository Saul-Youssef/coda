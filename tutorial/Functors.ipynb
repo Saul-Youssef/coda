{
 "cells": [
  {
   "cell_type": "markdown",
   "id": "f3c2981f-71ac-4258-bf04-eb8dbcdd98f7",
   "metadata": {},
   "source": [
    "Data which is idempotent and distributive in Coda is called a **type**.  If `T` is a type, intuitively, `T:X` is a \"property of X.\" \n",
    "\n",
    "Data F where F:X is a type is called a **functor**.  Here, we do a couple of examples. \n",
    "\n",
    "The first example is the natural numbers.  The familiar `n` appearing in many places in examples is created by \n",
    "\n",
    "* `Natural : n` "
   ]
  },
  {
   "cell_type": "code",
   "execution_count": 1,
   "id": "4642a31a-41ec-4b2f-82c1-c8c29fd8142d",
   "metadata": {},
   "outputs": [
    {
     "name": "stdout",
     "output_type": "stream",
     "text": [
      "(myNumber:10)"
     ]
    }
   ],
   "source": [
    "#\n",
    "#  Create your own natural number\n",
    "#\n",
    "Integer : myNumber\n",
    "sum myNumber : 1 2 3 4"
   ]
  },
  {
   "cell_type": "code",
   "execution_count": 2,
   "id": "d07f1f0c-36b4-430f-83f3-198ac3f82bc5",
   "metadata": {},
   "outputs": [
    {
     "name": "stdout",
     "output_type": "stream",
     "text": [
      "(myNumber:-99) (myNumber:1) (myNumber:2) (myNumber:3) (myNumber:4) (myNumber:5) (myNumber:99)"
     ]
    }
   ],
   "source": [
    "#\n",
    "#  Sorting your new numbers \n",
    "#\n",
    "sort myNumber : 1 99 2 3 4 5 -99 "
   ]
  },
  {
   "cell_type": "markdown",
   "id": "44a8d741-0909-49d9-b34f-f7e165bd5228",
   "metadata": {},
   "source": [
    "\n",
    "  The functors Natural, Integer, String can have arguments which are used for \"Extra\" options for making objects with the output type.  For example, in `Path.co` you will find \n",
    "```\n",
    "String : path\n",
    "String {put fn : last : split </> : get path: B} : fn\n",
    "```\n",
    "The first line uses the `String` functor to create a string-like type called `path`, used to hold Unix paths from a local file system.  The second line creates `fn` to also be a string-like type.  The argument `{put fn : last : split </> : get path: B}` provides an extra way to make fns from paths.\n",
    "\n"
   ]
  },
  {
   "cell_type": "code",
   "execution_count": 3,
   "id": "465f9920-174d-46d1-8cbb-dd1b92b0c6f3",
   "metadata": {},
   "outputs": [
    {
     "name": "stdout",
     "output_type": "stream",
     "text": [
      "{(ap put A : str : has ((:):(:)) : B) (has A:B) (ap app (Extra:A):B)}"
     ]
    }
   ],
   "source": [
    "(Make:path)"
   ]
  },
  {
   "cell_type": "code",
   "execution_count": 4,
   "id": "b37eb9b2-5c0a-4050-ac13-dd5910f3e1d5",
   "metadata": {},
   "outputs": [
    {
     "name": "stdout",
     "output_type": "stream",
     "text": [
      "(path:a/b/c/d)"
     ]
    }
   ],
   "source": [
    "make path : <a/b/c/d>"
   ]
  },
  {
   "cell_type": "code",
   "execution_count": 5,
   "id": "c7a7e73e-393b-470d-ab0b-87919e5a31df",
   "metadata": {},
   "outputs": [
    {
     "name": "stdout",
     "output_type": "stream",
     "text": [
      "(ext:foo)"
     ]
    }
   ],
   "source": [
    "#\n",
    "#   This shows that a file extension is auto derived from fn which is derived from paths.\n",
    "#\n",
    "make ext : path : <a/b/c/d.foo>"
   ]
  },
  {
   "cell_type": "code",
   "execution_count": 6,
   "id": "2881d38a-8634-46bd-a159-4a8732e8fa19",
   "metadata": {},
   "outputs": [
    {
     "name": "stdout",
     "output_type": "stream",
     "text": [
      "(bin:(ext:ipynb) (ext:ipynb) (ext:ipynb) (ext:ipynb) (ext:ipynb) (ext:ipynb) (ext:ipynb) (ext:ipynb) (ext:ipynb) (ext:ipynb)) (bin:(ext:md)) (bin:(ext:ipynb_checkpoints))"
     ]
    }
   ],
   "source": [
    "class ext : ap path : dir : ."
   ]
  },
  {
   "cell_type": "markdown",
   "id": "fc4b3a68-64f2-4e01-9eda-063a0ebc4794",
   "metadata": {},
   "source": [
    "Let's do one more example, slightly less trivial.  The `Set` functor makes types which are \"Set's of\" it's argument.  For example, the type `Set n : S` is a type named `S` which are sets of natural numbers."
   ]
  },
  {
   "cell_type": "code",
   "execution_count": 7,
   "id": "54b994e1-e40a-4ffc-9581-0e118e01cb64",
   "metadata": {
    "tags": []
   },
   "outputs": [
    {
     "name": "stdout",
     "output_type": "stream",
     "text": []
    }
   ],
   "source": [
    "#\n",
    "#   Let's create a type called S which consists of sets of natural numbers n. \n",
    "#\n",
    "Set n : S"
   ]
  },
  {
   "cell_type": "code",
   "execution_count": 8,
   "id": "bb3a6f7c-4d50-4aec-9335-edac571e7e39",
   "metadata": {
    "tags": []
   },
   "outputs": [
    {
     "name": "stdout",
     "output_type": "stream",
     "text": []
    }
   ],
   "source": [
    "let s? : make S : 1 1 2 2 999\n",
    "let t? : make S : 22 999 77 88 "
   ]
  },
  {
   "cell_type": "code",
   "execution_count": 9,
   "id": "faaab8ae-7867-4c0b-9459-a99c00ed6c6b",
   "metadata": {},
   "outputs": [
    {
     "name": "stdout",
     "output_type": "stream",
     "text": [
      "(S:(n:1) (n:2) (n:999))"
     ]
    }
   ],
   "source": [
    "s?"
   ]
  },
  {
   "cell_type": "code",
   "execution_count": 10,
   "id": "c693cd2b-ea0c-4a40-b22a-071c6d5894c5",
   "metadata": {},
   "outputs": [
    {
     "name": "stdout",
     "output_type": "stream",
     "text": [
      "(S:(n:22) (n:77) (n:88) (n:999))"
     ]
    }
   ],
   "source": [
    "t?"
   ]
  },
  {
   "cell_type": "code",
   "execution_count": 11,
   "id": "2cac4e6b-b6b8-4a3e-a03e-9db7dc86cb29",
   "metadata": {},
   "outputs": [
    {
     "name": "stdout",
     "output_type": "stream",
     "text": [
      "(S:(n:1) (n:2) (n:22) (n:77) (n:88) (n:999))"
     ]
    }
   ],
   "source": [
    "#\n",
    "#   S inherits an abelian sum operation. \n",
    "#\n",
    "sum S : s? t?"
   ]
  },
  {
   "cell_type": "code",
   "execution_count": 12,
   "id": "b01efc7f-5c03-496f-bcd4-1be7d073a874",
   "metadata": {},
   "outputs": [
    {
     "name": "stdout",
     "output_type": "stream",
     "text": [
      "{(n:1),(n:2),(n:22),(n:77),(n:88),(n:999)}"
     ]
    }
   ],
   "source": [
    "term S : sum S : s? t?"
   ]
  },
  {
   "cell_type": "code",
   "execution_count": null,
   "id": "2ddd2cd6-39dd-463a-8d77-968d771975f3",
   "metadata": {},
   "outputs": [],
   "source": []
  }
 ],
 "metadata": {
  "kernelspec": {
   "display_name": "coda",
   "language": "",
   "name": "coda"
  },
  "language_info": {
   "file_extension": ".co",
   "mimetype": "text/plain",
   "name": "Any text"
  }
 },
 "nbformat": 4,
 "nbformat_minor": 5
}
