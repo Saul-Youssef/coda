{
 "cells": [
  {
   "cell_type": "markdown",
   "id": "a6e294ae-1355-409d-abed-03c4647b3998",
   "metadata": {},
   "source": [
    "## Search\n",
    "\n",
    "1. Data is a finite sequence of codas.\n",
    "2. A coda is a pair of data. \n",
    "\n",
    "This defines and countably infinite universe of data.  We can consider cutting these off at some maximum depth or width.  This could be consistently implemented by defining the \"outer crust\" to be atomic or by mapping them all to empty data.  All sorts of interesting questions arise."
   ]
  },
  {
   "cell_type": "markdown",
   "id": "4a42f128-f725-474e-ac88-1d8bd694e7dd",
   "metadata": {},
   "source": [
    "### Data sample sizes width (horizontal) vs depth (vertical)\n",
    "\n",
    "| width:   |    1    |    2   |    3   |    4    |    5     |\n",
    "|---------:|--------:|-------:|-------:|--------:|---------:|\n",
    "| depth  1      |    2    |   3    |   4     |    5     |  6  |\n",
    "| depth  2      |    5    |  91    | 4369   | 406901  |    |\n",
    "| depth  3      |   26    | 68583243     |        |         |   |\n",
    "| depth  4      |  677    |        |        |         |    |\n",
    "| depth  5      | 458330  |        |        |         |    |\n",
    "\n",
    " "
   ]
  },
  {
   "cell_type": "code",
   "execution_count": 1,
   "id": "5745bdff-8276-4811-a92b-e6f6ce5b6fff",
   "metadata": {
    "tags": []
   },
   "outputs": [
    {
     "name": "stdout",
     "output_type": "stream",
     "text": [
      "depth:1 width:1 true: 1, false:1, undecided:0, codas:1, datas:2\n",
      "depth:1 width:2 true: 1, false:2, undecided:0, codas:1, datas:3\n",
      "depth:1 width:3 true: 1, false:3, undecided:0, codas:1, datas:4\n",
      "depth:1 width:4 true: 1, false:4, undecided:0, codas:1, datas:5\n",
      "depth:1 width:5 true: 1, false:5, undecided:0, codas:1, datas:6\n",
      "depth:2 width:1 true: 1, false:4, undecided:0, codas:4, datas:5\n",
      "depth:2 width:2 true: 1, false:90, undecided:0, codas:9, datas:91\n",
      "depth:2 width:3 true: 1, false:4368, undecided:0, codas:16, datas:4369\n",
      "depth:2 width:4 true: 1, false:406900, undecided:0, codas:25, datas:406901\n",
      "depth:3 width:1 true: 1, false:20, undecided:5, codas:25, datas:26\n",
      "depth:4 width:1 true: 1, false:104, undecided:572, codas:676, datas:677\n",
      "depth:5 width:1 true: 1, false:2708, undecided:455621, codas:458329, datas:458330\n"
     ]
    },
    {
     "ename": "KeyboardInterrupt",
     "evalue": "",
     "output_type": "error",
     "traceback": [
      "\u001b[0;31m---------------------------------------------------------------------------\u001b[0m",
      "\u001b[0;31mKeyboardInterrupt\u001b[0m                         Traceback (most recent call last)",
      "Cell \u001b[0;32mIn[1], line 4\u001b[0m\n\u001b[1;32m      2\u001b[0m dims \u001b[38;5;241m=\u001b[39m [(\u001b[38;5;241m1\u001b[39m,\u001b[38;5;241m1\u001b[39m),(\u001b[38;5;241m2\u001b[39m,\u001b[38;5;241m1\u001b[39m),(\u001b[38;5;241m3\u001b[39m,\u001b[38;5;241m1\u001b[39m),(\u001b[38;5;241m4\u001b[39m,\u001b[38;5;241m1\u001b[39m),(\u001b[38;5;241m5\u001b[39m,\u001b[38;5;241m1\u001b[39m),(\u001b[38;5;241m1\u001b[39m,\u001b[38;5;241m2\u001b[39m),(\u001b[38;5;241m2\u001b[39m,\u001b[38;5;241m2\u001b[39m),(\u001b[38;5;241m3\u001b[39m,\u001b[38;5;241m2\u001b[39m),(\u001b[38;5;241m4\u001b[39m,\u001b[38;5;241m2\u001b[39m),(\u001b[38;5;241m1\u001b[39m,\u001b[38;5;241m3\u001b[39m),(\u001b[38;5;241m1\u001b[39m,\u001b[38;5;241m4\u001b[39m),(\u001b[38;5;241m1\u001b[39m,\u001b[38;5;241m5\u001b[39m),(\u001b[38;5;241m2\u001b[39m,\u001b[38;5;241m3\u001b[39m)]\n\u001b[1;32m      3\u001b[0m \u001b[38;5;28;01mfor\u001b[39;00m width,depth \u001b[38;5;129;01min\u001b[39;00m dims:\n\u001b[0;32m----> 4\u001b[0m     \u001b[38;5;28mprint\u001b[39m(\u001b[38;5;124m'\u001b[39m\u001b[38;5;124mdepth:\u001b[39m\u001b[38;5;124m'\u001b[39m\u001b[38;5;241m+\u001b[39m\u001b[38;5;28mstr\u001b[39m(depth),\u001b[38;5;124m'\u001b[39m\u001b[38;5;124mwidth:\u001b[39m\u001b[38;5;124m'\u001b[39m\u001b[38;5;241m+\u001b[39m\u001b[38;5;28mstr\u001b[39m(width),\u001b[43mData\u001b[49m\u001b[38;5;241;43m.\u001b[39;49m\u001b[43mData\u001b[49m\u001b[43m(\u001b[49m\u001b[43m)\u001b[49m\u001b[38;5;241;43m.\u001b[39;49m\u001b[43mspace\u001b[49m\u001b[43m(\u001b[49m\u001b[43mwidth\u001b[49m\u001b[43m,\u001b[49m\u001b[43mdepth\u001b[49m\u001b[43m)\u001b[49m)\n",
      "File \u001b[0;32m~/coda/py/Data.py:25\u001b[0m, in \u001b[0;36mData.space\u001b[0;34m(self, width, depth)\u001b[0m\n\u001b[1;32m     24\u001b[0m \u001b[38;5;28;01mdef\u001b[39;00m \u001b[38;5;21mspace\u001b[39m(\u001b[38;5;28mself\u001b[39m,width,depth):\n\u001b[0;32m---> 25\u001b[0m     \u001b[38;5;28;01mreturn\u001b[39;00m Data(\u001b[38;5;241m*\u001b[39m[d \u001b[38;5;28;01mfor\u001b[39;00m d \u001b[38;5;129;01min\u001b[39;00m \u001b[43malldata\u001b[49m\u001b[43m(\u001b[49m\u001b[43mwidth\u001b[49m\u001b[43m,\u001b[49m\u001b[43mdepth\u001b[49m\u001b[43m)\u001b[49m])\n",
      "File \u001b[0;32m~/coda/py/Data.py:121\u001b[0m, in \u001b[0;36malldata\u001b[0;34m(width, depth)\u001b[0m\n\u001b[1;32m    119\u001b[0m     codas \u001b[38;5;241m=\u001b[39m [c \u001b[38;5;28;01mfor\u001b[39;00m c \u001b[38;5;129;01min\u001b[39;00m allcoda(width,depth)]\n\u001b[1;32m    120\u001b[0m     \u001b[38;5;28;01mfor\u001b[39;00m w \u001b[38;5;129;01min\u001b[39;00m \u001b[38;5;28mrange\u001b[39m(\u001b[38;5;241m0\u001b[39m,width\u001b[38;5;241m+\u001b[39m\u001b[38;5;241m1\u001b[39m):\n\u001b[0;32m--> 121\u001b[0m         \u001b[38;5;28;01mfor\u001b[39;00m T \u001b[38;5;129;01min\u001b[39;00m itertools\u001b[38;5;241m.\u001b[39mproduct(codas,repeat\u001b[38;5;241m=\u001b[39mw): datas\u001b[38;5;241m.\u001b[39mappend(\u001b[43mdata\u001b[49m\u001b[43m(\u001b[49m\u001b[38;5;241;43m*\u001b[39;49m\u001b[43mT\u001b[49m\u001b[43m)\u001b[49m)\n\u001b[1;32m    122\u001b[0m \u001b[38;5;28;01mreturn\u001b[39;00m datas\n",
      "File \u001b[0;32m~/coda/py/base.py:49\u001b[0m, in \u001b[0;36mdata.__init__\u001b[0;34m(self, *cs)\u001b[0m\n\u001b[1;32m     47\u001b[0m \u001b[38;5;28;01mdef\u001b[39;00m \u001b[38;5;21m__init__\u001b[39m(\u001b[38;5;28mself\u001b[39m,\u001b[38;5;241m*\u001b[39mcs):\n\u001b[1;32m     48\u001b[0m     \u001b[38;5;28;01mfor\u001b[39;00m c \u001b[38;5;129;01min\u001b[39;00m cs:\n\u001b[0;32m---> 49\u001b[0m         \u001b[38;5;28;01mif\u001b[39;00m \u001b[38;5;129;01mnot\u001b[39;00m \u001b[38;5;28;43mtype\u001b[39;49m\u001b[43m(\u001b[49m\u001b[43mc\u001b[49m\u001b[43m)\u001b[49m\u001b[38;5;241m==\u001b[39mTCODA: \u001b[38;5;28;01mraise\u001b[39;00m error(\u001b[38;5;124m'\u001b[39m\u001b[38;5;124mdata error: \u001b[39m\u001b[38;5;124m'\u001b[39m\u001b[38;5;241m+\u001b[39m\u001b[38;5;28mstr\u001b[39m(c)\u001b[38;5;241m+\u001b[39m\u001b[38;5;124m'\u001b[39m\u001b[38;5;124m is not a coda\u001b[39m\u001b[38;5;124m'\u001b[39m)\n\u001b[1;32m     50\u001b[0m     \u001b[38;5;28mself\u001b[39m\u001b[38;5;241m.\u001b[39m_coda \u001b[38;5;241m=\u001b[39m cs\n",
      "\u001b[0;31mKeyboardInterrupt\u001b[0m: "
     ]
    }
   ],
   "source": [
    "import Data\n",
    "dims = [(1,1),(2,1),(3,1),(4,1),(5,1),(1,2),(2,2),(3,2),(4,2),(1,3),(1,4),(1,5),(2,3)]\n",
    "for width,depth in dims:\n",
    "    print('width:'+str(width),'depth:'+str(depth),Data.Data().space(width,depth))"
   ]
  },
  {
   "cell_type": "code",
   "execution_count": null,
   "id": "0e654d9e-1ff4-4e27-b7a2-14c5f81c9909",
   "metadata": {},
   "outputs": [],
   "source": []
  }
 ],
 "metadata": {
  "kernelspec": {
   "display_name": "Python 3 (ipykernel)",
   "language": "python",
   "name": "python3"
  },
  "language_info": {
   "codemirror_mode": {
    "name": "ipython",
    "version": 3
   },
   "file_extension": ".py",
   "mimetype": "text/x-python",
   "name": "python",
   "nbconvert_exporter": "python",
   "pygments_lexer": "ipython3",
   "version": "3.10.7"
  }
 },
 "nbformat": 4,
 "nbformat_minor": 5
}
