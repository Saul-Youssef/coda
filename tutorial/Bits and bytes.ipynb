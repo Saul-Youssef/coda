{
 "cells": [
  {
   "cell_type": "markdown",
   "id": "0179d8ce-1447-4477-8a33-2990581f6bcb",
   "metadata": {},
   "source": [
    "### Data, bits, bytes and character sequences\n",
    "\n"
   ]
  },
  {
   "cell_type": "markdown",
   "id": "bb7df90c-556e-4937-966a-84dd51109973",
   "metadata": {},
   "source": [
    "Let's see how data works down to the bottom level.  Recall that \"data\" and \"coda\" are defined this way.  \n",
    "\n",
    "* **Data** is a finite sequence of **codas**.\n",
    "* A **coda** is a pair of data. \n",
    "\n",
    "This means that an empty sequence of codas `()` is valid data, a pair `(:)` of empty sequences is a valid coda etc.  All data is made this way.  \n",
    "\n",
    "This is a coda notebook, so you're running coda language code in the cells.  When you type <something> in a cell, the language evaluates the data ({<something>}:).  We'll start by just typing some stuff and we'll explain how to get down to bytes, bits and all the way down to sub-bit pure data.  \n",
    "    \n",
    "The Coda language is unusual in that all finite byte sequences are valid source code.  You don't have to worry about making a syntax error.  There is no such thing!"
   ]
  },
  {
   "cell_type": "code",
   "execution_count": 2,
   "id": "45edee72-a42d-4ccf-8617-855acec07365",
   "metadata": {},
   "outputs": [
    {
     "name": "stdout",
     "output_type": "stream",
     "text": [
      "Hello World"
     ]
    }
   ],
   "source": [
    "#\n",
    "#   Let's start with just \"Hello World\" entered into a cell.\n",
    "#\n",
    "Hello World"
   ]
  },
  {
   "cell_type": "code",
   "execution_count": 3,
   "id": "8679665c-fb98-457d-a0c6-78359d5fdce8",
   "metadata": {},
   "outputs": [
    {
     "name": "stdout",
     "output_type": "stream",
     "text": [
      "2"
     ]
    }
   ],
   "source": [
    "#\n",
    "#  This is actually two sequences of bytes because the blank space in \"Hello World\" \n",
    "#  is significant to the language.  \n",
    "#\n",
    "count : Hello World"
   ]
  },
  {
   "cell_type": "code",
   "execution_count": 4,
   "id": "f476cd3e-2a98-4e14-9577-bd129babee56",
   "metadata": {},
   "outputs": [
    {
     "name": "stdout",
     "output_type": "stream",
     "text": [
      "Hello World 1"
     ]
    }
   ],
   "source": [
    "#\n",
    "#   To make a single character sequence, you can do <Hello World> instead.\n",
    "#\n",
    "<Hello World>\n",
    "count : <Hello World>"
   ]
  },
  {
   "cell_type": "code",
   "execution_count": 5,
   "id": "37935cbd-6386-40d3-9b8f-3ba06e487492",
   "metadata": {},
   "outputs": [
    {
     "name": "stdout",
     "output_type": "stream",
     "text": [
      "(((:):(:)):(((:):):((:):)((:):(:))((:):)((:):)((:):(:))((:):)((:):)((:):))(((:):):((:):)((:):(:))((:):(:))((:):)((:):)((:):(:))((:):)((:):(:)))(((:):):((:):)((:):(:))((:):(:))((:):)((:):(:))((:):(:))((:):)((:):))(((:):):((:):)((:):(:))((:):(:))((:):)((:):(:))((:):(:))((:):)((:):))(((:):):((:):)((:):(:))((:):(:))((:):)((:):(:))((:):(:))((:):(:))((:):(:)))) (((:):(:)):(((:):):((:):)((:):(:))((:):)((:):(:))((:):)((:):(:))((:):(:))((:):(:)))(((:):):((:):)((:):(:))((:):(:))((:):)((:):(:))((:):(:))((:):(:))((:):(:)))(((:):):((:):)((:):(:))((:):(:))((:):(:))((:):)((:):)((:):(:))((:):))(((:):):((:):)((:):(:))((:):(:))((:):)((:):(:))((:):(:))((:):)((:):))(((:):):((:):)((:):(:))((:):(:))((:):)((:):)((:):(:))((:):)((:):)))"
     ]
    }
   ],
   "source": [
    "#\n",
    "#   All data is actually \"pure\" in coda, even down below bits.  You can see it with\n",
    "#\n",
    "pure : Hello World"
   ]
  },
  {
   "cell_type": "code",
   "execution_count": 6,
   "id": "89fcf1dc-58ca-4ade-8663-298aaff32e54",
   "metadata": {
    "tags": []
   },
   "outputs": [
    {
     "name": "stdout",
     "output_type": "stream",
     "text": [
      "((o:o):((o:):(o:)(o:o)(o:)(o:)(o:o)(o:)(o:)(o:))((o:):(o:)(o:o)(o:o)(o:)(o:)(o:o)(o:)(o:o))((o:):(o:)(o:o)(o:o)(o:)(o:o)(o:o)(o:)(o:))((o:):(o:)(o:o)(o:o)(o:)(o:o)(o:o)(o:)(o:))((o:):(o:)(o:o)(o:o)(o:)(o:o)(o:o)(o:o)(o:o))) ((o:o):((o:):(o:)(o:o)(o:)(o:o)(o:)(o:o)(o:o)(o:o))((o:):(o:)(o:o)(o:o)(o:)(o:o)(o:o)(o:o)(o:o))((o:):(o:)(o:o)(o:o)(o:o)(o:)(o:)(o:o)(o:))((o:):(o:)(o:o)(o:o)(o:)(o:o)(o:o)(o:)(o:))((o:):(o:)(o:o)(o:o)(o:)(o:)(o:o)(o:)(o:)))"
     ]
    }
   ],
   "source": [
    "#\n",
    "#   If you use an argument for pure, it will display the atom at the bottom (:) as a single \n",
    "#   character making it slightly more readable as in...\n",
    "#\n",
    "pure o : Hello World"
   ]
  },
  {
   "cell_type": "markdown",
   "id": "64d2a44e-a904-4af9-8440-177be4c2e2ff",
   "metadata": {},
   "source": [
    "Sequences of bytes, individual bytes and individual bits are all represented internally by codas. \n",
    "\n",
    "| domain      |  coda                           |  display                                                                 | meaning   |\n",
    "|-------------|---------------------------------|--------------------------------------------------------------------------|-----------|\n",
    "|  ()         |   (:)                           |  &#9678;                                                       | Atom |\n",
    "| (:)         |  (:):                           |  &#120812;                                                                | The 0 bit |\n",
    "| (:)         | (:):(:)                         | &#120670;                                                                 | The 1 bit |\n",
    "|  &#120812;  |  (&#120812;:*..sequence of bits..*) |   &#120812;&#120812;&#120670;&#120812;&#120812;&#120670;&#120670;&#120812; | Sequence of 8 bits|\n",
    "|  &#120670;  | (&#120670;:*..sequence of bytes..*) |  hello                                                                     | Sequence of bytes |\n",
    "\n",
    "The \"domain\" of a coda determines a corresponding definition, if any.  In each case (), &#8718;, &#120812; and &#120670;, there is a corresponding definition, and the definition is simply the identity.  That means that bits, bytes and byte sequences are **atoms** meaning that they can't be modified by any future definition.  "
   ]
  },
  {
   "cell_type": "markdown",
   "id": "60d20dc9-cb09-4678-9b1c-6a37fdd9e3cd",
   "metadata": {},
   "source": [
    "### Get and Put \n",
    "\n",
    "We can take apart and put together data using **get** and **put**, **has** and **is**.  These are the foundational operators for getting stuff from codas and forming coda from two datas.  In general, `get X : (X:Y) --> Y`, so `get (:)` gets the byte content of byte sequences. `put X : Y` just creates `(X:Y)`.  "
   ]
  },
  {
   "cell_type": "code",
   "execution_count": 7,
   "id": "50a80368-ca7b-4e9f-b47f-7b53b44b2d98",
   "metadata": {},
   "outputs": [
    {
     "name": "stdout",
     "output_type": "stream",
     "text": [
      "((:):(:)) ((:):(:))"
     ]
    }
   ],
   "source": [
    "# \n",
    "#   First let's verify that \"Hello World\" is two byte sequences.. \n",
    "#\n",
    "pure : dom : Hello World"
   ]
  },
  {
   "cell_type": "code",
   "execution_count": 8,
   "id": "93e49e62-140b-4853-8f11-d80a6e170e1d",
   "metadata": {},
   "outputs": [
    {
     "name": "stdout",
     "output_type": "stream",
     "text": [
      "◎ 𝟬 𝝞"
     ]
    }
   ],
   "source": [
    "#\n",
    "#...Those two 1s are the domains of Hello and World.  Let's check how (:) and (:(:)) are displayed... \n",
    "#\n",
    "(:) ((:):) ((:):(:))"
   ]
  },
  {
   "cell_type": "code",
   "execution_count": 9,
   "id": "62f6c012-f8b6-437d-b36e-51e90f2d781e",
   "metadata": {},
   "outputs": [
    {
     "name": "stdout",
     "output_type": "stream",
     "text": [
      "◎ 𝟬 𝝞"
     ]
    }
   ],
   "source": [
    "#\n",
    "#    Actually, let's make two variables 0? and 1? to be the zero and one bits.  You do that like this...\n",
    "#\n",
    "let a? : (:) \n",
    "let 0? : ((:):)\n",
    "let 1? : ((:):(:))\n",
    "a? 0? 1?"
   ]
  },
  {
   "cell_type": "code",
   "execution_count": 10,
   "id": "57f43447-181c-475c-8727-bb9184e7048a",
   "metadata": {},
   "outputs": [
    {
     "name": "stdout",
     "output_type": "stream",
     "text": [
      "H e l l o W o r l d"
     ]
    }
   ],
   "source": [
    "#   \n",
    "#   We can get the byte contents of Hello world with...\n",
    "#\n",
    "get 1? : Hello World"
   ]
  },
  {
   "cell_type": "code",
   "execution_count": 11,
   "id": "80d9e100-946e-491b-a4ac-16533ca933bc",
   "metadata": {},
   "outputs": [
    {
     "name": "stdout",
     "output_type": "stream",
     "text": [
      "𝟬 𝟬 𝟬 𝟬 𝟬 𝟬 𝟬 𝟬 𝟬 𝟬"
     ]
    }
   ],
   "source": [
    "#\n",
    "#   This is now 10 individual bit sequences, each with domain the 0 bit\n",
    "#\n",
    "dom : get 1? : Hello World"
   ]
  },
  {
   "cell_type": "code",
   "execution_count": 12,
   "id": "e61bd13d-c373-4021-a3de-f78b9cbc29e7",
   "metadata": {},
   "outputs": [
    {
     "name": "stdout",
     "output_type": "stream",
     "text": [
      "𝟬 𝝞 𝟬 𝟬 𝝞 𝟬 𝟬 𝟬 𝟬 𝝞 𝝞 𝟬 𝟬 𝝞 𝟬 𝝞 𝟬 𝝞 𝝞 𝟬 𝝞 𝝞 𝟬 𝟬 𝟬 𝝞 𝝞 𝟬 𝝞 𝝞 𝟬 𝟬 𝟬 𝝞 𝝞 𝟬 𝝞 𝝞 𝝞 𝝞 𝟬 𝝞 𝟬 𝝞 𝟬 𝝞 𝝞 𝝞 𝟬 𝝞 𝝞 𝟬 𝝞 𝝞 𝝞 𝝞 𝟬 𝝞 𝝞 𝝞 𝟬 𝟬 𝝞 𝟬 𝟬 𝝞 𝝞 𝟬 𝝞 𝝞 𝟬 𝟬 𝟬 𝝞 𝝞 𝟬 𝟬 𝝞 𝟬 𝟬"
     ]
    }
   ],
   "source": [
    "#\n",
    "#   We can get the individual bits \n",
    "#\n",
    "get 0? : get 1? : Hello World"
   ]
  },
  {
   "cell_type": "code",
   "execution_count": 13,
   "id": "599ef0cb-187b-4309-906a-e777e14e6103",
   "metadata": {},
   "outputs": [
    {
     "name": "stdout",
     "output_type": "stream",
     "text": [
      "◎ ◎ ◎ ◎ ◎ ◎ ◎ ◎ ◎ ◎ ◎ ◎ ◎ ◎ ◎ ◎ ◎ ◎ ◎ ◎ ◎ ◎ ◎ ◎ ◎ ◎ ◎ ◎ ◎ ◎ ◎ ◎ ◎ ◎ ◎ ◎ ◎ ◎ ◎ ◎ ◎ ◎"
     ]
    }
   ],
   "source": [
    "#\n",
    "#   Finally, we can get the contents of the individual bits\n",
    "#   \"At the bottom, everything is made of atoms.\" \n",
    "#\n",
    "get a? : get 0? : get 1? : Hello World"
   ]
  },
  {
   "cell_type": "code",
   "execution_count": 14,
   "id": "749d9b10-d214-471c-aa89-56d46b08cafa",
   "metadata": {},
   "outputs": [
    {
     "name": "stdout",
     "output_type": "stream",
     "text": []
    }
   ],
   "source": [
    "#\n",
    "#   And atoms are \"made of nothing\".\n",
    "#\n",
    "get : get a? : get 0? : get 1? : Hello World"
   ]
  },
  {
   "cell_type": "code",
   "execution_count": 15,
   "id": "d2d21487-563d-4613-b32e-197048280a5a",
   "metadata": {},
   "outputs": [
    {
     "name": "stdout",
     "output_type": "stream",
     "text": [
      "𝟬 𝝞 𝟬 𝟬 𝝞 𝟬 𝟬 𝟬"
     ]
    }
   ],
   "source": [
    "#\n",
    "#   Now let's use put together with get to re-arrange the bits\n",
    "#   from the H character from Hello World.\n",
    "#\n",
    "#...first get the bits...\n",
    "#\n",
    "get 0? : get 1? : H"
   ]
  },
  {
   "cell_type": "code",
   "execution_count": 16,
   "id": "a50d7221-aa90-4bd8-91fd-718adedc9598",
   "metadata": {},
   "outputs": [
    {
     "name": "stdout",
     "output_type": "stream",
     "text": [
      "𝟬 𝝞 𝟬 𝟬 𝝞 𝝞 𝟬 𝟬"
     ]
    }
   ],
   "source": [
    "#\n",
    "#   Rearrange them using \"nth\"...\n",
    "#\n",
    "nth 1 2 3 4 5 5 6 7 : get 0? : get 1? : H"
   ]
  },
  {
   "cell_type": "code",
   "execution_count": 17,
   "id": "cd036135-2720-4697-96b1-7040150850e1",
   "metadata": {},
   "outputs": [
    {
     "name": "stdout",
     "output_type": "stream",
     "text": [
      "L"
     ]
    }
   ],
   "source": [
    "#\n",
    "#   Put them back together with \"put\", and we have a re-arranged bit sequence....\n",
    "#\n",
    "put 0? : nth 1 2 3 4 5 5 6 7 : get 0? : get 1? : H"
   ]
  },
  {
   "cell_type": "code",
   "execution_count": 18,
   "id": "1b7317c8-54c5-45be-afa8-c611702e8bd5",
   "metadata": {},
   "outputs": [
    {
     "name": "stdout",
     "output_type": "stream",
     "text": [
      "(mybin:1 2 3 a b c)"
     ]
    }
   ],
   "source": [
    "#\n",
    "#   get/put/has/is/etc. has the same simple meanings from the \n",
    "#   largest scale down to byte sequences, bits, and down to \n",
    "#   the coda \"hydrogen atom\" (:) \n",
    "#\n",
    "def mybin : \n",
    "const X : mybin : 1 2 3 a b c \n",
    "X:"
   ]
  },
  {
   "cell_type": "code",
   "execution_count": 19,
   "id": "1015c22d-f89d-4081-9b56-594ad36c61ba",
   "metadata": {},
   "outputs": [
    {
     "name": "stdout",
     "output_type": "stream",
     "text": [
      "1 2 3 a b c"
     ]
    }
   ],
   "source": [
    "get mybin : X:"
   ]
  },
  {
   "cell_type": "code",
   "execution_count": 20,
   "id": "d2e67705-7545-4536-a206-7439c359442f",
   "metadata": {
    "tags": []
   },
   "outputs": [
    {
     "name": "stdout",
     "output_type": "stream",
     "text": [
      "\u001b[;1mcode:\u001b[0m\n",
      "    \u001b[34;7mget\u001b[0m\n",
      "\u001b[;1mmodule:\u001b[0m\n",
      "    Basic\n",
      "\u001b[;1msummary:\u001b[0m\n",
      "    has/hasnt selects, get gets, is/isnt tests\n",
      "\u001b[;1mdescription:\u001b[0m\n",
      "    has  A  : ... gets data of the form (A:<something>)\n",
      "    hasnt A : ... gets data that isn't of the form (A:<something>)\n",
      "    get A   : ... gets <something> from data of the form (A:<something>)\n",
      "    is  A   : ... gets data exactly equal to A\n",
      "    isnt A  : ...everything except what's equal to A\n",
      "\u001b[;1mpath:\u001b[0m\n",
      "    /Users/youssef/coda/co/Basic.co\n",
      "\u001b[;1msource code:\u001b[0m\n",
      "    def has : {ap has1 A : B}\n",
      "    def hasnt : {apif {has1 A:B} A : B}\n",
      "    def get : {ap get1 A : B}\n",
      "    def is : {apif {A=B} A : B}\n",
      "    def isnt : {apif {^:(A=B)} A : B}\n",
      "\u001b[;1mdemos:\u001b[0m\n",
      "    1. \u001b[35;4mhas bin : x y z (bin:a b c)\u001b[0m\n",
      "    2. \u001b[35;4mhasnt bin : x y z (bin:a b c)\u001b[0m\n",
      "    3. \u001b[35;4mhas : x y z (bin:a b c)\u001b[0m\n",
      "    4. \u001b[35;4mget bin : x y z (bin:a b c)\u001b[0m\n",
      "    5. \u001b[35;4mget : x y z (bin: a b c)\u001b[0m\n",
      "    6. \u001b[35;4mis y : x y z\u001b[0m\n",
      "    7. \u001b[35;4mis (pass:bin:a b) : x y (bin:a b) z\u001b[0m\n",
      "    8. \u001b[35;4misnt y : x y z\u001b[0m\n"
     ]
    }
   ],
   "source": [
    "#\n",
    "#   You can see more examples via help. \n",
    "#\n",
    "help : get "
   ]
  }
 ],
 "metadata": {
  "kernelspec": {
   "display_name": "coda",
   "language": "",
   "name": "coda"
  },
  "language_info": {
   "file_extension": ".co",
   "mimetype": "text/plain",
   "name": "Any text"
  }
 },
 "nbformat": 4,
 "nbformat_minor": 5
}
