{
 "cells": [
  {
   "cell_type": "code",
   "execution_count": 1,
   "id": "76d1fe68-d679-4d4c-9e25-daf66c866868",
   "metadata": {},
   "outputs": [
    {
     "name": "stdout",
     "output_type": "stream",
     "text": [
      "(:a b) (:c d)"
     ]
    }
   ],
   "source": [
    "by 2 : a b c d "
   ]
  },
  {
   "cell_type": "code",
   "execution_count": 2,
   "id": "f798c026-f0ad-47ac-ada8-e84c03926e84",
   "metadata": {},
   "outputs": [
    {
     "name": "stdout",
     "output_type": "stream",
     "text": [
      "(:a b) (:c)"
     ]
    }
   ],
   "source": [
    "by 2 : a b c "
   ]
  },
  {
   "cell_type": "code",
   "execution_count": null,
   "id": "c76aa86c-f296-45f0-92f8-1ce214285670",
   "metadata": {},
   "outputs": [],
   "source": []
  }
 ],
 "metadata": {
  "kernelspec": {
   "display_name": "coda",
   "language": "",
   "name": "coda"
  },
  "language_info": {
   "file_extension": ".co",
   "mimetype": "text/plain",
   "name": "Any text"
  }
 },
 "nbformat": 4,
 "nbformat_minor": 5
}
