{
 "cells": [
  {
   "cell_type": "code",
   "execution_count": 1,
   "id": "226c7fdd-8ae8-4587-8b81-8eca80b588fb",
   "metadata": {},
   "outputs": [
    {
     "data": {
      "text/plain": [
       "theorem/True, multi/False"
      ]
     },
     "execution_count": 1,
     "metadata": {},
     "output_type": "execute_result"
    }
   ],
   "source": [
    "from base import * \n",
    "from Set import Set,eval10,eval100,eval1000\n",
    "from Compile import compile \n",
    "from Theorem import theorem \n",
    "import Sample,Evaluate\n",
    "from Log import LOG \n",
    "LOG.on('theorem')"
   ]
  },
  {
   "cell_type": "code",
   "execution_count": 2,
   "id": "393efb63-9389-41c7-997e-b68e8e71112a",
   "metadata": {},
   "outputs": [],
   "source": [
    "DOMAIN = Sample.Domain(*Sample.codas)\n",
    "TINY = Set(*[data(c) for c in Sample.codas])\n",
    "S21 = Set(*DOMAIN.window(2,1))\n",
    "S31 = Set(*DOMAIN.window(3,1))\n",
    "PURE = Sample.pure(2,2)\n",
    "#S41 = Set.Set(*DOMAIN.window(4,1))\n",
    "#\n",
    "#     The evaluation depth is controlled by these \n",
    "#\n",
    "e10   = eval10\n",
    "e100  = eval100  \n",
    "e1000 = eval1000  \n",
    "def eval(A): return Evaluate.default(A) "
   ]
  },
  {
   "cell_type": "code",
   "execution_count": 3,
   "id": "0530623d-6915-4e82-a2bf-a7e8bb731d1f",
   "metadata": {},
   "outputs": [],
   "source": [
    "IDEM = compile('{(B:B:X?) = (B:X?)}')"
   ]
  },
  {
   "cell_type": "code",
   "execution_count": 4,
   "id": "cc76968c-fa47-4ade-b8e5-8e6292c7f8cb",
   "metadata": {},
   "outputs": [],
   "source": [
    "str(data(IDEM[0])|data())\n",
    "x = data(IDEM[0])|data()"
   ]
  },
  {
   "cell_type": "code",
   "execution_count": 5,
   "id": "4a5629c4-00ee-4c11-8d91-edc08169d7fb",
   "metadata": {},
   "outputs": [
    {
     "name": "stdout",
     "output_type": "stream",
     "text": [
      "language\n"
     ]
    }
   ],
   "source": [
    "print(CONTEXT.domain(x))"
   ]
  },
  {
   "cell_type": "code",
   "execution_count": 9,
   "id": "492b4583-0004-4aeb-9e83-5cf919dec5fd",
   "metadata": {
    "tags": []
   },
   "outputs": [
    {
     "name": "stdout",
     "output_type": "stream",
     "text": [
      "True\n",
      "({(B:B:X?) = (B:X?)}:)\n"
     ]
    }
   ],
   "source": [
    "import Language\n",
    "x = data(IDEM[0])|data() \n",
    "print(Language.hasLanguage(data(x)))\n",
    "print(Evaluate.langeval(data(x),10)[0])"
   ]
  },
  {
   "cell_type": "code",
   "execution_count": null,
   "id": "e65890ad-8f3d-4bcc-8752-9c6b3df892b4",
   "metadata": {
    "tags": []
   },
   "outputs": [],
   "source": [
    "P1 = TINY.property(IDEM,Sample.oddAtoms(3)).multieval(e100)"
   ]
  },
  {
   "cell_type": "code",
   "execution_count": null,
   "id": "f0a2d3f3-6d81-410e-b83d-07a07b4cc048",
   "metadata": {},
   "outputs": [],
   "source": [
    "P1.empty()"
   ]
  },
  {
   "cell_type": "code",
   "execution_count": null,
   "id": "e689c22a-8709-463f-9f57-0d65153e60a1",
   "metadata": {},
   "outputs": [],
   "source": [
    "P1"
   ]
  },
  {
   "cell_type": "code",
   "execution_count": null,
   "id": "43cc7c2a-e2f6-44a0-8b52-76ebda1be567",
   "metadata": {},
   "outputs": [],
   "source": [
    "I1 = TINY.idempotent(Sample.oddAtoms(3)).multieval(e100)"
   ]
  },
  {
   "cell_type": "code",
   "execution_count": null,
   "id": "fd7b5283-8abb-491f-9ea2-2abdafc3e032",
   "metadata": {},
   "outputs": [],
   "source": [
    "I1.empty()"
   ]
  },
  {
   "cell_type": "code",
   "execution_count": null,
   "id": "77284ff5-6104-47b4-a626-44821cbaa64b",
   "metadata": {},
   "outputs": [],
   "source": [
    "P1nI1 = Set(*[s for s in P1.empty() if not s in I1.empty()])"
   ]
  },
  {
   "cell_type": "code",
   "execution_count": null,
   "id": "11b9470a-8691-4b2f-b638-aaa0a279b626",
   "metadata": {},
   "outputs": [],
   "source": [
    "I1nP1 = Set(*[s for s in I1.empty() if not s in P1.empty()])"
   ]
  },
  {
   "cell_type": "code",
   "execution_count": null,
   "id": "6c24da91-65b0-4c1e-95bf-56f2e0a4fa12",
   "metadata": {},
   "outputs": [],
   "source": [
    "P1nI1"
   ]
  },
  {
   "cell_type": "code",
   "execution_count": null,
   "id": "4ef1d234-a009-4851-be8b-59c7643710b0",
   "metadata": {},
   "outputs": [],
   "source": [
    "I1nP1"
   ]
  },
  {
   "cell_type": "code",
   "execution_count": null,
   "id": "d80ead27-03a7-4bdc-b8a9-2031d275fc56",
   "metadata": {},
   "outputs": [],
   "source": [
    "for s in P1nI1: print(s)"
   ]
  },
  {
   "cell_type": "code",
   "execution_count": null,
   "id": "ef84a4a0-a77e-492c-8463-c34020b1c625",
   "metadata": {},
   "outputs": [],
   "source": [
    "for s in I1nP1: print(s)"
   ]
  },
  {
   "cell_type": "code",
   "execution_count": null,
   "id": "f6409caa-c79a-4036-a9b2-ff628c692699",
   "metadata": {},
   "outputs": [],
   "source": [
    "str(P1._map[da('domain')])"
   ]
  },
  {
   "cell_type": "code",
   "execution_count": null,
   "id": "373ce955-68ff-4fa5-936a-4735bbf5b890",
   "metadata": {},
   "outputs": [],
   "source": [
    "for key,value in P1.items(): print(key,value)"
   ]
  },
  {
   "cell_type": "code",
   "execution_count": null,
   "id": "5694be2e-7b12-40eb-8954-754842606e6e",
   "metadata": {},
   "outputs": [],
   "source": []
  }
 ],
 "metadata": {
  "kernelspec": {
   "display_name": "Python 3 (ipykernel)",
   "language": "python",
   "name": "python3"
  },
  "language_info": {
   "codemirror_mode": {
    "name": "ipython",
    "version": 3
   },
   "file_extension": ".py",
   "mimetype": "text/x-python",
   "name": "python",
   "nbconvert_exporter": "python",
   "pygments_lexer": "ipython3",
   "version": "3.10.7"
  }
 },
 "nbformat": 4,
 "nbformat_minor": 5
}
