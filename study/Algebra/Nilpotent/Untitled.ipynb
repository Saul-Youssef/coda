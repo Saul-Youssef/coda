{
 "cells": [
  {
   "cell_type": "code",
   "execution_count": 1,
   "id": "46cde0cb-3204-4587-b33b-776818bfae07",
   "metadata": {},
   "outputs": [
    {
     "name": "stdout",
     "output_type": "stream",
     "text": [
      "(defaultTime:1000)"
     ]
    }
   ],
   "source": [
    "defaultTime:1000"
   ]
  },
  {
   "cell_type": "code",
   "execution_count": 2,
   "id": "bb37897f-dc52-4e9b-bf47-92643d2c0603",
   "metadata": {},
   "outputs": [
    {
     "name": "stdout",
     "output_type": "stream",
     "text": []
    }
   ],
   "source": [
    "import : dir co : up : up : ."
   ]
  },
  {
   "cell_type": "code",
   "execution_count": 3,
   "id": "1adb47c7-5cf3-47b3-8e52-8ffbf4f9e07f",
   "metadata": {},
   "outputs": [
    {
     "name": "stdout",
     "output_type": "stream",
     "text": []
    }
   ],
   "source": [
    "#Let X : in stable : C2-S6.sample "
   ]
  },
  {
   "cell_type": "code",
   "execution_count": 4,
   "id": "59f66dbc-fbbe-4483-80a9-99477028d3a0",
   "metadata": {},
   "outputs": [
    {
     "name": "stdout",
     "output_type": "stream",
     "text": []
    }
   ],
   "source": [
    "Def tab : ap post <\\n> "
   ]
  },
  {
   "cell_type": "code",
   "execution_count": 5,
   "id": "265101ba-8496-4f83-8d60-d02e459dd4b1",
   "metadata": {},
   "outputs": [
    {
     "name": "stdout",
     "output_type": "stream",
     "text": []
    }
   ],
   "source": [
    "# Let Candidates : ap {(:arg:B)} : ap {if ((right:B)=0):B} : X?"
   ]
  },
  {
   "cell_type": "code",
   "execution_count": 6,
   "id": "f0ea4907-89f9-4ba8-b9b6-bbadacaa6f10",
   "metadata": {},
   "outputs": [
    {
     "name": "stdout",
     "output_type": "stream",
     "text": []
    }
   ],
   "source": [
    "# out C0-S6.sample.candidates : Candidates?"
   ]
  },
  {
   "cell_type": "code",
   "execution_count": 7,
   "id": "533aae6e-8929-4fb4-9292-a95ad386ff89",
   "metadata": {},
   "outputs": [
    {
     "name": "stdout",
     "output_type": "stream",
     "text": []
    }
   ],
   "source": [
    "#property semilattice bin : S6?\n",
    "#property semilattice by : S6?\n",
    "#property semilattice const : S6?\n",
    "#property semilattice domain : S6?\n",
    "#property semilattice pass : S6?\n",
    "#property semilattice null : S6? "
   ]
  },
  {
   "cell_type": "code",
   "execution_count": 8,
   "id": "56d65254-ae38-4d62-a3a8-a5171c083119",
   "metadata": {},
   "outputs": [
    {
     "name": "stdout",
     "output_type": "stream",
     "text": [
      "◎ ◎ ◎ ◎ ◎ ◎ ◎ ◎"
     ]
    }
   ],
   "source": [
    "get with : theorem (semilattice:pass) : S6?"
   ]
  },
  {
   "cell_type": "code",
   "execution_count": 9,
   "id": "d54f621d-c39f-4892-aab9-fd134e9bfc45",
   "metadata": {},
   "outputs": [
    {
     "name": "stdout",
     "output_type": "stream",
     "text": [
      "◎ ◎ ◎ ◎ ◎ ◎ ◎ ◎"
     ]
    }
   ],
   "source": [
    "{get with : theorem ((head 1:A):(get:tail 1:A)):B} semilattice (:pass) : S6?"
   ]
  },
  {
   "cell_type": "code",
   "execution_count": 10,
   "id": "47824cf4-82b7-4251-b4fc-072ca2b9c7c8",
   "metadata": {},
   "outputs": [
    {
     "name": "stdout",
     "output_type": "stream",
     "text": [
      "◎ ◎ ◎ ◎ ◎ ◎ ◎ ◎"
     ]
    }
   ],
   "source": [
    "get with : do : cases (semilattice:pass) : S6?"
   ]
  },
  {
   "cell_type": "code",
   "execution_count": 11,
   "id": "4061425b-ee4f-42c0-b172-e90772c3d5aa",
   "metadata": {},
   "outputs": [
    {
     "name": "stdout",
     "output_type": "stream",
     "text": [
      "◎ ◎ ◎ ◎ ◎ ◎ ◎ ◎"
     ]
    }
   ],
   "source": [
    "{get with : do : cases ((head 1:A):(tail 1:A)) : B} semilattice pass : S6?"
   ]
  },
  {
   "cell_type": "code",
   "execution_count": 12,
   "id": "9b6bda72-dd8f-417e-8c5a-b04fcbc4a26a",
   "metadata": {},
   "outputs": [
    {
     "name": "stdout",
     "output_type": "stream",
     "text": [
      "(bin pass:◎ ◎ ◎ ◎ ◎ ◎ ◎ ◎)"
     ]
    }
   ],
   "source": [
    "{put bin (tail 1:A) : get with : do : cases ((head 1:A):(tail 1:A)) : B} semilattice pass : S6?"
   ]
  },
  {
   "cell_type": "code",
   "execution_count": 13,
   "id": "267a2f7d-81e4-4a0a-8e35-9fa3a11daa6d",
   "metadata": {},
   "outputs": [
    {
     "name": "stdout",
     "output_type": "stream",
     "text": []
    }
   ],
   "source": [
    "Def F : {put bin (tail 1:A) : get with : do : cases ((head 1:A):(tail 1:A)) : B}"
   ]
  },
  {
   "cell_type": "code",
   "execution_count": 14,
   "id": "e14cf0c5-dab5-4fc5-9883-1bab75150143",
   "metadata": {},
   "outputs": [
    {
     "name": "stdout",
     "output_type": "stream",
     "text": [
      "(bin pass:◎ ◎ ◎ ◎ ◎ ◎ ◎ ◎)"
     ]
    }
   ],
   "source": [
    "{F (head 1:A) (get:tail 1:A) : B} semilattice (:pass) : S6? "
   ]
  },
  {
   "cell_type": "code",
   "execution_count": 15,
   "id": "da76681d-ca36-47ac-87af-0115f0c9b7f2",
   "metadata": {},
   "outputs": [
    {
     "name": "stdout",
     "output_type": "stream",
     "text": []
    }
   ],
   "source": [
    "Def FF : {F (head 1:A) (get:tail 1:A) : B}"
   ]
  },
  {
   "cell_type": "code",
   "execution_count": 16,
   "id": "0be89238-0008-4bec-b2e9-3365a7ddb285",
   "metadata": {},
   "outputs": [
    {
     "name": "stdout",
     "output_type": "stream",
     "text": [
      "(bin pass:◎ ◎ ◎ ◎ ◎ ◎ ◎ ◎)"
     ]
    }
   ],
   "source": [
    "FF semilattice (:pass) : S6?"
   ]
  },
  {
   "cell_type": "code",
   "execution_count": 17,
   "id": "7efef410-74d9-43b0-b496-ea8104dfe9a6",
   "metadata": {},
   "outputs": [
    {
     "name": "stdout",
     "output_type": "stream",
     "text": [
      "(bin pass:◎ ◎ ◎ ◎ ◎ ◎ ◎ ◎) (bin pass:◎ ◎ ◎ ◎ ◎ ◎ ◎ ◎) (bin null:)"
     ]
    }
   ],
   "source": [
    "{sum (co 2 : FF A ) : B} semilattice (:pass) (:pass) (:null)  : S6?"
   ]
  },
  {
   "cell_type": "code",
   "execution_count": 18,
   "id": "e68516ba-f672-49fb-b8d2-722dc10bf0e2",
   "metadata": {},
   "outputs": [
    {
     "name": "stdout",
     "output_type": "stream",
     "text": []
    }
   ],
   "source": [
    "Def Test : {sum (co 2 : FF A ) : B} "
   ]
  },
  {
   "cell_type": "code",
   "execution_count": 19,
   "id": "84d9526d-962f-45b2-8f89-87aad0b796bf",
   "metadata": {},
   "outputs": [
    {
     "name": "stdout",
     "output_type": "stream",
     "text": [
      "(bin pass:◎ ◎ ◎ ◎ ◎ ◎ ◎ ◎) (bin pass:◎ ◎ ◎ ◎ ◎ ◎ ◎ ◎)"
     ]
    }
   ],
   "source": [
    "Test semilattice (:pass) (:pass) : S6?"
   ]
  },
  {
   "cell_type": "code",
   "execution_count": 20,
   "id": "5196479e-a509-4156-b313-7c1603e99e65",
   "metadata": {},
   "outputs": [
    {
     "name": "stdout",
     "output_type": "stream",
     "text": [
      "(bin arg:◎ ◎) (bin bin:◎ ◎ ◎ ◎ ◎ ◎ ◎ ◎) (bin by:◎ ◎ ◎ ◎ ◎ ◎ ◎ ◎) (bin collect:◎ ◎ ◎ ◎ ◎ ◎ ◎ ◎) (bin const:)"
     ]
    }
   ],
   "source": [
    "Test semilattice (head 5:(C0?:)) : S6?"
   ]
  },
  {
   "cell_type": "code",
   "execution_count": 21,
   "id": "3b9f65ce-e51e-4c7a-b7ec-2defe4ac3768",
   "metadata": {},
   "outputs": [
    {
     "name": "stdout",
     "output_type": "stream",
     "text": []
    }
   ],
   "source": [
    "Def _F  : {put with (tail 1:A) : get with : do : cases ((head 1:A):(tail 1:A)) : B}\n",
    "Def _FF : {_F (head 1:A) (get:tail 1:A) : B}\n",
    "Def _Test : {sum (co 2 : _FF A ) : B} "
   ]
  },
  {
   "cell_type": "code",
   "execution_count": 22,
   "id": "c423eae4-a1a1-4c1f-8b2d-d46be8a9d1d4",
   "metadata": {},
   "outputs": [
    {
     "name": "stdout",
     "output_type": "stream",
     "text": [
      "(with arg:◎ ◎) (with pass:◎ ◎ ◎ ◎ ◎ ◎ ◎ ◎) (with pass:◎ ◎ ◎ ◎ ◎ ◎ ◎ ◎) (with null:) (with {head 2:B}:◎ ◎ ◎ ◎ ◎ ◎ ◎)"
     ]
    }
   ],
   "source": [
    "do 10 : _Test semilattice (:arg) (:pass) (:pass) (:null) (:{head 2:B}) : S6? "
   ]
  },
  {
   "cell_type": "code",
   "execution_count": 23,
   "id": "8db54afe-04da-438d-8a00-86f59f6e27ea",
   "metadata": {},
   "outputs": [
    {
     "name": "stdout",
     "output_type": "stream",
     "text": []
    }
   ],
   "source": [
    "Def _G  : {put with (tail 1:A) : bool : get with : do : cases ((head 1:A):(tail 1:A)) : B}\n",
    "Def _GG : {_G (head 1:A) (get:tail 1:A) : B}\n",
    "Def _GTest : {sum (co 2 : _GG A ) : B} "
   ]
  },
  {
   "cell_type": "code",
   "execution_count": 24,
   "id": "e0cd725f-7ae8-4973-8e73-777adc34813a",
   "metadata": {},
   "outputs": [
    {
     "name": "stdout",
     "output_type": "stream",
     "text": [
      "(with arg:◎) (with pass:◎) (with pass:◎) (with null:) (with {head 3:B}:◎)"
     ]
    }
   ],
   "source": [
    "do 10 : _GTest semilattice (:arg) (:pass) (:pass) (:null) (:{head 3:B}) : S6?"
   ]
  },
  {
   "cell_type": "code",
   "execution_count": null,
   "id": "95fcc038-e5b5-4dd1-9288-c92c38d81833",
   "metadata": {
    "tags": []
   },
   "outputs": [],
   "source": [
    "tab : multi 10 : _GTest nilpotent (head 5:C0?:) : S6?"
   ]
  },
  {
   "cell_type": "code",
   "execution_count": null,
   "id": "10871e41-0ede-4996-9a54-991ed386cf67",
   "metadata": {},
   "outputs": [],
   "source": [
    "tab : multi 100 : property nilpotent (head 5:C0?:) : S6?"
   ]
  },
  {
   "cell_type": "code",
   "execution_count": null,
   "id": "09095e22-3f7a-4c16-a995-2cf55f5cbfa1",
   "metadata": {},
   "outputs": [],
   "source": [
    "tab : multi 100 : property idempotent (C0?:) : S6?"
   ]
  },
  {
   "cell_type": "code",
   "execution_count": null,
   "id": "ab89266a-9152-471d-b559-14f8ef3bef56",
   "metadata": {},
   "outputs": [],
   "source": [
    "#F : first\n",
    "#F : float_div \n",
    "#F : float_inv \n",
    "#F : float_max "
   ]
  },
  {
   "cell_type": "code",
   "execution_count": null,
   "id": "a93aa4d1-efe8-4711-ab50-5db31b1ee10f",
   "metadata": {},
   "outputs": [],
   "source": [
    "#F : left"
   ]
  },
  {
   "cell_type": "code",
   "execution_count": null,
   "id": "af3c8ef5-3e47-48a7-b1cc-028bfef85805",
   "metadata": {},
   "outputs": [],
   "source": [
    "#F : domain"
   ]
  },
  {
   "cell_type": "code",
   "execution_count": null,
   "id": "f13d3913-d658-4b3c-9bf8-b2d8fa9c1db2",
   "metadata": {},
   "outputs": [],
   "source": []
  }
 ],
 "metadata": {
  "kernelspec": {
   "display_name": "coda",
   "language": "",
   "name": "coda"
  },
  "language_info": {
   "file_extension": ".co",
   "mimetype": "text/plain",
   "name": "Any text"
  }
 },
 "nbformat": 4,
 "nbformat_minor": 5
}
