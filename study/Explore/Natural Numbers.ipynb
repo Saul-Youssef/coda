{
 "cells": [
  {
   "cell_type": "markdown",
   "id": "a88c4a6f-b1f0-48cb-95f4-a59a6adaa97d",
   "metadata": {},
   "source": [
    "## An exploration of the natural numbers\n",
    "\n",
    "Let's do an initial exploration of the natural numbers, looking for basic structures."
   ]
  },
  {
   "cell_type": "code",
   "execution_count": 1,
   "id": "9cea8948-c0b0-473b-ac02-cdcbc0238969",
   "metadata": {},
   "outputs": [],
   "source": [
    "from base import *\n",
    "import Generate,Set\n",
    "#\n",
    "#    Starting samples that will be used \n",
    "#\n",
    "codas  = Generate.codas # base codas for generating data samples \n",
    "TINY   = Set.Set(*[data(c) for c in codas])\n",
    "SMALL  = Generate.Gen(codas,2).set()  # 159 small sample for testing \n",
    "MEDIUM = Generate.Gen(codas,3).set()  # 14,098 medium sample \n",
    "#PURE   = Generate.Window(2,2)         # 91 pure data \n",
    "LARGE  = Generate.Gen(codas,4).set()  # 2M production sample \n",
    "#\n",
    "#     The evaluation depth is controlled by these \n",
    "#\n",
    "e10   = Set.eval10\n",
    "e100  = Set.eval100  \n",
    "e1000 = Set.eval1000  \n",
    "#\n",
    "#    Samples of (:) \"hydrogen atoms\"\n",
    "#\n",
    "def atoms(n): return Generate.OddAtoms(n)+Generate.EvenAtoms(n)\n",
    "def nats(n): return [da(str(i)) for i in range(n)] "
   ]
  },
  {
   "cell_type": "code",
   "execution_count": 8,
   "id": "41b7f6cc-cb62-454c-b530-0a8bd89d210a",
   "metadata": {},
   "outputs": [
    {
     "data": {
      "text/plain": [
       "2046976"
      ]
     },
     "execution_count": 8,
     "metadata": {},
     "output_type": "execute_result"
    }
   ],
   "source": [
    "LARGE"
   ]
  },
  {
   "cell_type": "code",
   "execution_count": 4,
   "id": "e088ba62-2aa2-41a3-954e-0c49dfcf3edb",
   "metadata": {},
   "outputs": [],
   "source": [
    "SEARCH = LARGE.sample(100)\n",
    "NATS = nats(2)"
   ]
  },
  {
   "cell_type": "code",
   "execution_count": 5,
   "id": "1e455e0b-4ed1-4ccd-8410-5c9332368833",
   "metadata": {},
   "outputs": [
    {
     "name": "stdout",
     "output_type": "stream",
     "text": [
      "31 31 15\n"
     ]
    }
   ],
   "source": [
    "space = SEARCH.space(NATS,NATS).multieval(e100).empty()\n",
    "type  = SEARCH.distributive(NATS,NATS).multieval(e100).empty()\n",
    "involution = SEARCH.involution(1,NATS).multieval(e100).empty() \n",
    "print(space,type,involution)"
   ]
  },
  {
   "cell_type": "code",
   "execution_count": 8,
   "id": "dffc66b2-1fba-4883-acf2-6756d0e2af41",
   "metadata": {},
   "outputs": [
    {
     "name": "stdout",
     "output_type": "stream",
     "text": [
      "143 132 47\n"
     ]
    }
   ],
   "source": [
    "NATS = nats(10)\n",
    "space = space.space(NATS,NATS).multieval(e100).empty()\n",
    "type = type.distributive(NATS,NATS).multieval(e100).empty()\n",
    "involution = involution.involution(1,NATS).multieval(e100).empty() \n",
    "print(space,type,involution)"
   ]
  },
  {
   "cell_type": "code",
   "execution_count": null,
   "id": "b5438a3c-574d-41cc-8179-bbbe8e405942",
   "metadata": {},
   "outputs": [],
   "source": []
  }
 ],
 "metadata": {
  "kernelspec": {
   "display_name": "Python 3 (ipykernel)",
   "language": "python",
   "name": "python3"
  },
  "language_info": {
   "codemirror_mode": {
    "name": "ipython",
    "version": 3
   },
   "file_extension": ".py",
   "mimetype": "text/x-python",
   "name": "python",
   "nbconvert_exporter": "python",
   "pygments_lexer": "ipython3",
   "version": "3.10.7"
  }
 },
 "nbformat": 4,
 "nbformat_minor": 5
}
