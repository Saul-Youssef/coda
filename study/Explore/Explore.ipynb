{
 "cells": [
  {
   "cell_type": "markdown",
   "id": "53ad23c4-ccf7-45bf-9c1f-3b02a27e63be",
   "metadata": {},
   "source": [
    "# Exploration\n",
    "\n",
    "This is going to be a general exploration of some data, particularly exercising the Set module.\n",
    "\n",
    "The Sample module also can generate all pure data up to specified with and depth, but this results in enormous data samples and it's impractical to search deep enough to hit the built in definitions.  \n",
    "\n",
    "We will look for data using the samples available from the Set module:\n",
    "\n",
    "1. nilpotents A^n:X = ()\n",
    "2. involutions A:A:X = X\n",
    "3. idempotents A:A:X = A:X\n",
    "4. distributive A:X Y = (A:X) (A:Y)\n",
    "5. space A:(A:X) (A:Y) = A:X Y\n",
    "6. morphism from A to B F:A:X = B:F:X \n"
   ]
  },
  {
   "cell_type": "code",
   "execution_count": null,
   "id": "6febcc0e-0818-49b8-bc6f-5194eadbdf07",
   "metadata": {
    "tags": []
   },
   "outputs": [],
   "source": [
    "from base import * \n",
    "import Sample,Set \n",
    "\n",
    "DOMAIN = Sample.Domain(*Sample.codas)\n",
    "TINY = Set.Set(*[data(c) for c in Sample.codas])\n",
    "S21 = Set.Set(*DOMAIN.window(2,1))\n",
    "S31 = Set.Set(*DOMAIN.window(3,1))\n",
    "S22 = Set.Set(*DOMAIN.window(2,2)) \n",
    "PURE = Sample.pure(2,2)\n",
    "#S41 = Set.Set(*DOMAIN.window(4,1))\n",
    "#\n",
    "#     The evaluation depth is controlled by these \n",
    "#\n",
    "e10   = Set.eval10\n",
    "e100  = Set.eval100  \n",
    "e1000 = Set.eval1000  \n",
    "#\n",
    "#    Samples of (:) \"hydrogen atoms\"\n",
    "#\n",
    "def atoms(n): return Sample.oddAtoms(n)+Sample.evenAtoms(n)"
   ]
  },
  {
   "cell_type": "code",
   "execution_count": null,
   "id": "da1db52f-c828-4043-82d5-0ba5e83c988e",
   "metadata": {
    "tags": []
   },
   "outputs": [],
   "source": [
    "for s in S31.sample(10): print(s)"
   ]
  },
  {
   "cell_type": "markdown",
   "id": "0b5defa5-de70-4538-8602-f88260b159e4",
   "metadata": {},
   "source": [
    "A zeroth order study is to find out if any of the base codas have algebraic properties.  The base codas are in TINY."
   ]
  },
  {
   "cell_type": "code",
   "execution_count": null,
   "id": "a6501f70-0189-44e8-938d-e7fee3606654",
   "metadata": {
    "tags": []
   },
   "outputs": [],
   "source": [
    "','.join([str(t) for t in TINY])"
   ]
  },
  {
   "cell_type": "code",
   "execution_count": null,
   "id": "4b49dc6e-1df3-493c-9ee6-fd6047da9455",
   "metadata": {
    "tags": []
   },
   "outputs": [],
   "source": [
    "SEARCH = S21\n",
    "DOM1 = S22.sample(10)+atoms(5) \n",
    "DOM2 = S22.sample(10)+atoms(5)\n",
    "#DOM1 = S22.sample(20)+atoms(5)+PURE.sample(10) \n",
    "#DOM2 = S22.sample(20)+atoms(5)+PURE.sample(10)\n",
    "print(len(SEARCH),len(DOM1),len(DOM2))"
   ]
  },
  {
   "cell_type": "code",
   "execution_count": null,
   "id": "8828a4b6-3222-4e3f-b502-371c2a666e01",
   "metadata": {},
   "outputs": [],
   "source": [
    "def pr(x): \n",
    "    L = [str(xx) for xx in x.empty()]\n",
    "    L.sort()\n",
    "    print(str(len(L))+' '+','.join(L))"
   ]
  },
  {
   "cell_type": "code",
   "execution_count": null,
   "id": "9377db71-b572-486a-8751-1b466bb375da",
   "metadata": {
    "tags": []
   },
   "outputs": [],
   "source": [
    "equivalence = S21.equivalence(atoms(2),atoms(2),atoms(2)).multieval(e100)\n",
    "pr(equivalence) "
   ]
  },
  {
   "cell_type": "code",
   "execution_count": null,
   "id": "a9c9d024-c7c6-451d-b120-ba4b31188861",
   "metadata": {},
   "outputs": [],
   "source": [
    "E2 = equivalence.empty()\n",
    "E3 = E2.equivalence(DOM1,DOM1,DOM1).multieval(e100)"
   ]
  },
  {
   "cell_type": "code",
   "execution_count": null,
   "id": "80fad061-db94-4b66-88d9-2c40cc66a12d",
   "metadata": {},
   "outputs": [],
   "source": [
    "E4 = E3.empty()"
   ]
  },
  {
   "cell_type": "code",
   "execution_count": null,
   "id": "e18c23af-113b-4342-8d65-25a1e97240ae",
   "metadata": {},
   "outputs": [],
   "source": [
    "DOM = S22.sample(40)+atoms(5)+PURE.sample(10)\n",
    "E5 = E4.equivalence(DOM,DOM,DOM).multieval(e100).empty()"
   ]
  },
  {
   "cell_type": "code",
   "execution_count": null,
   "id": "3a5a53b3-89a5-4f4f-a871-e2c5b36bba5f",
   "metadata": {},
   "outputs": [],
   "source": [
    "for s in S21.sample(5): print(s)"
   ]
  },
  {
   "cell_type": "code",
   "execution_count": null,
   "id": "18a7b421-28df-4e31-9d5d-346c2f0f6d70",
   "metadata": {
    "tags": []
   },
   "outputs": [],
   "source": [
    "idempotent = SEARCH.idempotent(DOM1).multieval(e100)\n",
    "pr(idempotent)"
   ]
  },
  {
   "cell_type": "code",
   "execution_count": null,
   "id": "ab4daa92-ec3b-4a62-aff2-9163a3133023",
   "metadata": {
    "tags": []
   },
   "outputs": [],
   "source": [
    "nilpotent = SEARCH.nilpotent(1,DOM1).multieval(e100) \n",
    "pr(nilpotent)"
   ]
  },
  {
   "cell_type": "code",
   "execution_count": null,
   "id": "600865c8-f774-4561-8d28-bf3d59231a64",
   "metadata": {
    "tags": []
   },
   "outputs": [],
   "source": [
    "involution = SEARCH.involution(1,DOM1).multieval(e100)\n",
    "pr(involution)"
   ]
  },
  {
   "cell_type": "code",
   "execution_count": null,
   "id": "27153055-b647-4fce-a2ef-91182aee1908",
   "metadata": {
    "tags": []
   },
   "outputs": [],
   "source": [
    "space = SEARCH.space(DOM1,DOM2).multieval(e100)\n",
    "pr(space)"
   ]
  }
 ],
 "metadata": {
  "kernelspec": {
   "display_name": "Python 3 (ipykernel)",
   "language": "python",
   "name": "python3"
  },
  "language_info": {
   "codemirror_mode": {
    "name": "ipython",
    "version": 3
   },
   "file_extension": ".py",
   "mimetype": "text/x-python",
   "name": "python",
   "nbconvert_exporter": "python",
   "pygments_lexer": "ipython3",
   "version": "3.10.7"
  }
 },
 "nbformat": 4,
 "nbformat_minor": 5
}
