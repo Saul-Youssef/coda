{
 "cells": [
  {
   "cell_type": "markdown",
   "id": "a5af0c17-cfbb-404c-beef-8f79c0878e32",
   "metadata": {},
   "source": [
    "We say that data M is **universal** or **algebraic** or **mathematical** if \n",
    "\n",
    "* M : X Y = M : Y X \n",
    "\n",
    "for all X, Y.  What data M have this property? "
   ]
  },
  {
   "cell_type": "code",
   "execution_count": 1,
   "id": "fd1cadea-0054-4402-92e1-df2739b5155c",
   "metadata": {},
   "outputs": [
    {
     "name": "stdout",
     "output_type": "stream",
     "text": [
      "(defaultTime:100)"
     ]
    }
   ],
   "source": [
    "defaultTime:100"
   ]
  },
  {
   "cell_type": "code",
   "execution_count": 2,
   "id": "296d26f9-48c8-41f4-a9d7-02bc7fd354be",
   "metadata": {},
   "outputs": [
    {
     "name": "stdout",
     "output_type": "stream",
     "text": []
    }
   ],
   "source": [
    "import : dir co : ."
   ]
  },
  {
   "cell_type": "code",
   "execution_count": 3,
   "id": "b67f703d-6ce7-4ca7-aca7-ba79d38c1c91",
   "metadata": {},
   "outputs": [
    {
     "name": "stdout",
     "output_type": "stream",
     "text": []
    }
   ],
   "source": [
    "#\n",
    "#    To make searching easier, we first search for data M \n",
    "#    satisfying M : rev : X = M : X for all X.\n",
    "#\n",
    "Def REV : {((get:B):rev:(get:A))=((get:B):(get:A))} \n",
    "Def SEARCH : ap {with B : count : REV A : B} \n",
    "Def Select : ap {if (0=(right:B)):(arg:B)}"
   ]
  },
  {
   "cell_type": "code",
   "execution_count": 4,
   "id": "565a765f-28a6-445c-a0f1-e6c9a721c77b",
   "metadata": {},
   "outputs": [
    {
     "name": "stdout",
     "output_type": "stream",
     "text": [
      "(with (:pass):4) (with (:count):0) (with (:last):0)"
     ]
    }
   ],
   "source": [
    "#\n",
    "#   Demonstration\n",
    "#\n",
    "do 100 : SEARCH (:a b) (:a a) : (:pass) (:count) (:last) "
   ]
  },
  {
   "cell_type": "code",
   "execution_count": 5,
   "id": "77c51bd2-2e9b-4520-b111-2e27e0435c20",
   "metadata": {},
   "outputs": [
    {
     "name": "stdout",
     "output_type": "stream",
     "text": []
    }
   ],
   "source": [
    "write can1 200 : dom 100 : SEARCH S0? : ap : Organic?"
   ]
  },
  {
   "cell_type": "code",
   "execution_count": 6,
   "id": "45255097-0503-4391-a93d-67d66e8ccbca",
   "metadata": {},
   "outputs": [
    {
     "name": "stdout",
     "output_type": "stream",
     "text": [
      "(:aq) (:ar) (:arg) (:back) (:bool) (:common) (:const) (:count) (:domain) (:dup) (:ends) (:front) (:get) (:has) (:ints) (:is) (:item) (:ker) (:left) (:nats) (:nif) (:null) (:sum)\n",
      "23"
     ]
    }
   ],
   "source": [
    "Select : read : can1\n",
    "count : Select : read : can1 "
   ]
  },
  {
   "cell_type": "code",
   "execution_count": 7,
   "id": "3442ad22-238c-4204-af76-e296c1d891e7",
   "metadata": {},
   "outputs": [
    {
     "name": "stdout",
     "output_type": "stream",
     "text": [
      "ai aj ap aq ar arg back bin bool collect common const count domain dup ends equal equiv front get grp grp has hasnt if ints is isnt item ker left nats nif null once pass plus post pre prod put rev right some star starts stripBack stripFront sum while"
     ]
    }
   ],
   "source": [
    "Organic?"
   ]
  },
  {
   "cell_type": "code",
   "execution_count": 8,
   "id": "3dfc6701-88ba-425f-bae9-a31c248fd4de",
   "metadata": {},
   "outputs": [
    {
     "name": "stdout",
     "output_type": "stream",
     "text": []
    }
   ],
   "source": [
    "write can2 200 : dom 100 : SEARCH S1? : Select : read : can1 "
   ]
  },
  {
   "cell_type": "code",
   "execution_count": 9,
   "id": "35aab916-41ed-432f-ae1a-7b9c37905d4d",
   "metadata": {},
   "outputs": [
    {
     "name": "stdout",
     "output_type": "stream",
     "text": [
      "(:aq) (:ar) (:arg) (:back) (:bool) (:common) (:const) (:count) (:domain) (:dup) (:ends) (:front) (:ints) (:is) (:item) (:ker) (:left) (:nats) (:nif) (:null) (:sum)\n",
      "21"
     ]
    }
   ],
   "source": [
    "Select : read : can2 \n",
    "count : Select : read : can2 "
   ]
  },
  {
   "cell_type": "markdown",
   "id": "e65cd525-d18d-4490-999f-618f3e102d52",
   "metadata": {},
   "source": [
    "Many of these are obviously not universal (e.g. arg, domain, ker,...). Instead of removing them by hand,\n",
    "I'm going to add to the S1 sample space until they disappear.  The point of that is to create a more useful sample space for when I'm searching over more complicated data."
   ]
  },
  {
   "cell_type": "code",
   "execution_count": 10,
   "id": "e97113ed-086c-4d93-81cc-f2e0d241f2ed",
   "metadata": {},
   "outputs": [
    {
     "name": "stdout",
     "output_type": "stream",
     "text": []
    }
   ],
   "source": [
    "write can3 200 : dom 100 : SEARCH S2? : Select : read : can2 "
   ]
  },
  {
   "cell_type": "code",
   "execution_count": 11,
   "id": "d4fee104-58b8-4135-a8fd-f215edcef147",
   "metadata": {},
   "outputs": [
    {
     "name": "stdout",
     "output_type": "stream",
     "text": [
      "(:aq) (:ar) (:back) (:bool) (:common) (:const) (:count) (:dup) (:ends) (:front) (:is) (:item) (:ker) (:nif) (:null) (:sum)\n",
      "16"
     ]
    }
   ],
   "source": [
    "Select : read : can3\n",
    "count : Select : read : can3 "
   ]
  },
  {
   "cell_type": "code",
   "execution_count": 29,
   "id": "b863e5a5-19bb-4ea9-9cd3-54719e5bed3c",
   "metadata": {},
   "outputs": [
    {
     "name": "stdout",
     "output_type": "stream",
     "text": []
    }
   ],
   "source": [
    "Def AP : ap {put:(get:A):(get:B)} "
   ]
  },
  {
   "cell_type": "code",
   "execution_count": 30,
   "id": "ba829e01-7b8d-4c67-bed4-2bfca91b1084",
   "metadata": {},
   "outputs": [
    {
     "name": "stdout",
     "output_type": "stream",
     "text": [
      "(:a) (:b) (:c)"
     ]
    }
   ],
   "source": [
    "AP (:pass) : (:a) (:b) (:c)"
   ]
  },
  {
   "cell_type": "code",
   "execution_count": 31,
   "id": "f8bc1cfc-05be-45bc-adf6-230c1f8dd17a",
   "metadata": {},
   "outputs": [
    {
     "name": "stdout",
     "output_type": "stream",
     "text": []
    }
   ],
   "source": [
    "Def F : {AP B:S2?} "
   ]
  },
  {
   "cell_type": "code",
   "execution_count": 35,
   "id": "212a4800-83c7-48ef-9098-04d213c5af69",
   "metadata": {},
   "outputs": [
    {
     "name": "stdout",
     "output_type": "stream",
     "text": []
    }
   ],
   "source": [
    "Let Classes : equiv F : Select : read : can3 "
   ]
  },
  {
   "cell_type": "code",
   "execution_count": 41,
   "id": "40514693-4aa7-4eef-8901-591a3608e479",
   "metadata": {
    "collapsed": true,
    "jupyter": {
     "outputs_hidden": true
    },
    "tags": []
   },
   "outputs": [
    {
     "name": "stdout",
     "output_type": "stream",
     "text": [
      "(bin ◎ ◎ ◎ ◎ ◎ ◎ ◎ ◎ ◎ ◎ ◎ ◎ ◎ ◎ ◎ ◎ ◎ ◎ ◎ ◎ ◎ ◎ ◎ ◎ ◎ ◎ ◎ ◎ ◎ ◎ ◎ ◎ ◎ ◎ ◎ ◎ ◎ ◎ ◎ ◎ ◎ ◎ ◎ ◎ ◎ ◎ ◎ ◎ ◎ ◎ ◎ ◎ ◎ ◎ ◎ ◎ ◎ ◎ ◎ ◎ ◎ ◎ ◎ ◎ ◎ ◎ ◎ ◎ ◎ ◎ ◎ ◎ ◎ ◎ ◎ ◎ ◎ ◎ ◎ ◎ ◎:(:aq) (:ar) (:back) (:common) (:const) (:dup) (:ends) (:front) (:is) (:item) (:ker) (:nif) (:null) (:sum))\n",
      "aq ar back common const dup ends front is item ker nif null sum"
     ]
    }
   ],
   "source": [
    "nth 1 : Classes?\n",
    "get : right : nth 1 : Classes? "
   ]
  },
  {
   "cell_type": "code",
   "execution_count": 42,
   "id": "5afce350-411a-473b-baf0-4f85936ff8c8",
   "metadata": {
    "collapsed": true,
    "jupyter": {
     "outputs_hidden": true
    },
    "tags": []
   },
   "outputs": [
    {
     "name": "stdout",
     "output_type": "stream",
     "text": [
      "(bin (:◎) (:◎) (:◎) (:◎) (:◎) (:◎) (:◎) (:◎) (:◎) (:◎) (:◎) (:◎) (:◎) (:◎) (:◎) (:◎) (:◎) (:◎) (:◎) (:◎) (:◎) (:◎) (:◎) (:◎) (:◎) (:◎) (:◎) (:◎) (:◎) (:◎) (:◎) (:◎) (:◎) (:◎) (:◎) (:◎) (:◎) (:◎) (:◎) (:◎) (:◎) (:◎) (:◎) (:◎) (:◎) (:◎) (:◎) (:◎) (:◎) (:◎) (:◎) (:◎) (:◎) (:◎) (:◎) (:◎) (:◎) (:◎) (:◎) (:◎) (:◎) (:◎) (:◎) (:◎) (:◎) (:◎) (:◎) (:◎) (:◎) (:◎) (:◎) (:◎) (:◎) (:◎) (:◎) (:◎) (:◎) (:◎) (:◎) (:◎) (:◎):(:bool))\n",
      "bool"
     ]
    }
   ],
   "source": [
    "nth 2 : Classes?\n",
    "get : right : nth 2 : Classes?"
   ]
  },
  {
   "cell_type": "code",
   "execution_count": 43,
   "id": "f6be6bfe-13bf-483e-a7d0-5fe63d73731a",
   "metadata": {
    "collapsed": true,
    "jupyter": {
     "outputs_hidden": true
    },
    "tags": []
   },
   "outputs": [
    {
     "name": "stdout",
     "output_type": "stream",
     "text": [
      "(bin (:2) (:2) (:2) (:2) (:2) (:2) (:2) (:2) (:2) (:2) (:2) (:2) (:2) (:2) (:2) (:2) (:2) (:2) (:2) (:2) (:2) (:2) (:2) (:2) (:2) (:2) (:2) (:2) (:2) (:2) (:2) (:2) (:2) (:2) (:2) (:2) (:2) (:2) (:2) (:2) (:2) (:2) (:2) (:2) (:2) (:2) (:2) (:2) (:2) (:2) (:2) (:2) (:2) (:2) (:2) (:2) (:2) (:2) (:2) (:2) (:2) (:2) (:2) (:2) (:2) (:2) (:2) (:2) (:2) (:2) (:2) (:2) (:2) (:2) (:2) (:2) (:2) (:2) (:2) (:2) (:2):(:count))\n",
      "count"
     ]
    }
   ],
   "source": [
    "nth 3 : Classes?\n",
    "get : right : nth 3 : Classes?"
   ]
  },
  {
   "cell_type": "markdown",
   "id": "efa9cb3f-dc47-484b-b81f-1723a050c434",
   "metadata": {},
   "source": [
    "Thus, of the 50, organic singles there are three classes of universals:\n",
    "\n",
    "* null equivalent \n",
    "* bool equivalent\n",
    "* count equivalent \n",
    "\n",
    "We continue to search roughly doubles from ORG2 and then go on to more general language expressions.  For a first try, we'll search the 2863 data in ORG2:\n",
    "\n",
    "* sample.data Organic? a b (:) : 2 \n",
    "\n",
    "as before..."
   ]
  },
  {
   "cell_type": "code",
   "execution_count": null,
   "id": "86c8f068-139e-451f-8329-7fae69249e59",
   "metadata": {},
   "outputs": [],
   "source": [
    "#\n",
    "#  First, search ORG2 with a simplest data sample S0, to quickly \n",
    "#  eliminate the obvious failures.\n",
    "#\n",
    "write double1 1000 : dom 200 : SEARCH S0? : ORG2? "
   ]
  },
  {
   "cell_type": "code",
   "execution_count": null,
   "id": "2e61cb30-0b18-4ab2-a05c-7d5399177f87",
   "metadata": {},
   "outputs": [],
   "source": []
  }
 ],
 "metadata": {
  "kernelspec": {
   "display_name": "coda",
   "language": "",
   "name": "coda"
  },
  "language_info": {
   "file_extension": ".co",
   "mimetype": "text/plain",
   "name": "Any text"
  }
 },
 "nbformat": 4,
 "nbformat_minor": 5
}
