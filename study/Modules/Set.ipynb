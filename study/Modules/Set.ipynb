{
 "cells": [
  {
   "cell_type": "markdown",
   "id": "7fc240b7-9fe4-4174-9e7b-31dee4eac5c7",
   "metadata": {},
   "source": [
    "The Set module makes collections of data"
   ]
  },
  {
   "cell_type": "code",
   "execution_count": 1,
   "id": "b71cca2d-7bc7-44d7-9043-144b61516b9a",
   "metadata": {},
   "outputs": [],
   "source": [
    "import Generate,Set\n",
    "\n",
    "S = Generate.Gen(Generate.codas,3).set()"
   ]
  },
  {
   "cell_type": "code",
   "execution_count": 2,
   "id": "85d2f65b-1372-4380-b33f-5d9de260f3d3",
   "metadata": {},
   "outputs": [],
   "source": [
    "S\n",
    "atoms = Generate.EvenAtoms(5)+Generate.OddAtoms(5)"
   ]
  },
  {
   "cell_type": "code",
   "execution_count": 3,
   "id": "611db0ea-6fc0-4016-ba2a-489afe8b6c70",
   "metadata": {},
   "outputs": [],
   "source": [
    "#I = S.idempotent(atoms)"
   ]
  },
  {
   "cell_type": "code",
   "execution_count": 4,
   "id": "bd8d46b4-bdb0-4459-9c84-9753cfc1376e",
   "metadata": {},
   "outputs": [],
   "source": [
    "#Ie = I.multieval(Set.eval100)"
   ]
  },
  {
   "cell_type": "code",
   "execution_count": 5,
   "id": "1ddef7a0-83e9-4db1-a3c8-18115626d52a",
   "metadata": {},
   "outputs": [],
   "source": [
    "#Ie"
   ]
  },
  {
   "cell_type": "code",
   "execution_count": 6,
   "id": "e8979495-211d-4ccb-9e04-f18042e7649a",
   "metadata": {},
   "outputs": [],
   "source": [
    "#Ie.empty()"
   ]
  },
  {
   "cell_type": "code",
   "execution_count": 7,
   "id": "46e168d0-3cab-4b81-9f4e-d578f24792df",
   "metadata": {
    "tags": []
   },
   "outputs": [],
   "source": [
    "#for i in Ie.empty(): print(i)"
   ]
  },
  {
   "cell_type": "code",
   "execution_count": 8,
   "id": "195ed2c3-40c9-4eb9-bc8f-3c0a2947133c",
   "metadata": {},
   "outputs": [],
   "source": [
    "nilpotent = S.nilpotent(1,atoms)"
   ]
  },
  {
   "cell_type": "code",
   "execution_count": null,
   "id": "1221b2cb-3319-4323-823f-7428e7713565",
   "metadata": {},
   "outputs": [],
   "source": [
    "nilpotents = []\n",
    "for i in range(1,4): \n",
    "    nilpotents.append(S.nilpotent(i,atoms).multieval(Set.eval100).empty())"
   ]
  },
  {
   "cell_type": "code",
   "execution_count": null,
   "id": "45204d9c-626f-4b6f-9971-7f54aa6ef774",
   "metadata": {},
   "outputs": [],
   "source": [
    "for x in nilpotents: print(x)"
   ]
  },
  {
   "cell_type": "code",
   "execution_count": null,
   "id": "3b864603-4afd-42fe-b3dd-a2018eef8bbd",
   "metadata": {},
   "outputs": [],
   "source": [
    "for y in nilpotents[1]: print(y)"
   ]
  },
  {
   "cell_type": "code",
   "execution_count": null,
   "id": "a1ab9d43-9cf5-4374-956c-1763ba30ebef",
   "metadata": {},
   "outputs": [],
   "source": []
  }
 ],
 "metadata": {
  "kernelspec": {
   "display_name": "Python 3 (ipykernel)",
   "language": "python",
   "name": "python3"
  },
  "language_info": {
   "codemirror_mode": {
    "name": "ipython",
    "version": 3
   },
   "file_extension": ".py",
   "mimetype": "text/x-python",
   "name": "python",
   "nbconvert_exporter": "python",
   "pygments_lexer": "ipython3",
   "version": "3.10.7"
  }
 },
 "nbformat": 4,
 "nbformat_minor": 5
}
