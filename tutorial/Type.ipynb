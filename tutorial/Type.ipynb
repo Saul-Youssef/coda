{
 "cells": [
  {
   "cell_type": "code",
   "execution_count": 1,
   "id": "146c9c9a-681f-4142-be3f-9cdb74b92fb5",
   "metadata": {},
   "outputs": [
    {
     "name": "stdout",
     "output_type": "stream",
     "text": []
    }
   ],
   "source": [
    "let x : 1"
   ]
  },
  {
   "cell_type": "code",
   "execution_count": 2,
   "id": "d7acd941-fe44-4183-b549-a87e08a5fa2d",
   "metadata": {},
   "outputs": [
    {
     "name": "stdout",
     "output_type": "stream",
     "text": [
      "1"
     ]
    }
   ],
   "source": [
    "x?"
   ]
  },
  {
   "cell_type": "code",
   "execution_count": 3,
   "id": "12d8c3d9-4519-4a1d-b866-e29b9f078d93",
   "metadata": {},
   "outputs": [
    {
     "name": "stdout",
     "output_type": "stream",
     "text": []
    }
   ],
   "source": [
    "let y : 1"
   ]
  },
  {
   "cell_type": "code",
   "execution_count": 4,
   "id": "8674f261-fe09-4397-a2dd-14c5bd622f6e",
   "metadata": {},
   "outputs": [
    {
     "name": "stdout",
     "output_type": "stream",
     "text": [
      "1"
     ]
    }
   ],
   "source": [
    "y?"
   ]
  },
  {
   "cell_type": "code",
   "execution_count": 5,
   "id": "83d0355e-8178-4353-8934-f09da1457e69",
   "metadata": {},
   "outputs": [
    {
     "name": "stdout",
     "output_type": "stream",
     "text": [
      "(= 1 (?:z):(?:z) 1)"
     ]
    }
   ],
   "source": [
    "x? z? = z? x?"
   ]
  },
  {
   "cell_type": "code",
   "execution_count": 6,
   "id": "2db28410-de29-47bd-bbbf-bc472d2e5202",
   "metadata": {},
   "outputs": [
    {
     "name": "stdout",
     "output_type": "stream",
     "text": []
    }
   ],
   "source": [
    "let v : (x? z? = z? x?)"
   ]
  },
  {
   "cell_type": "code",
   "execution_count": 7,
   "id": "de60a73c-5851-4a16-a2a5-670c9fcbcb0e",
   "metadata": {},
   "outputs": [
    {
     "name": "stdout",
     "output_type": "stream",
     "text": [
      "(= 1 (?:z):(?:z) 1)"
     ]
    }
   ],
   "source": [
    "v?"
   ]
  },
  {
   "cell_type": "code",
   "execution_count": 8,
   "id": "979e1f08-3200-49b7-a694-cdf2756a17be",
   "metadata": {},
   "outputs": [
    {
     "name": "stdout",
     "output_type": "stream",
     "text": []
    }
   ],
   "source": [
    "let z : 2"
   ]
  },
  {
   "cell_type": "code",
   "execution_count": 9,
   "id": "513af649-0d86-47db-a537-f693a071e094",
   "metadata": {},
   "outputs": [
    {
     "name": "stdout",
     "output_type": "stream",
     "text": [
      "(?:z)"
     ]
    }
   ],
   "source": [
    "z?"
   ]
  },
  {
   "cell_type": "code",
   "execution_count": 10,
   "id": "023fbbb5-cedb-4cbf-acfc-3ab3faad8888",
   "metadata": {},
   "outputs": [
    {
     "name": "stdout",
     "output_type": "stream",
     "text": [
      "(bool:(?:z))"
     ]
    }
   ],
   "source": [
    "bool : z?"
   ]
  },
  {
   "cell_type": "code",
   "execution_count": 11,
   "id": "93ab5174-bcf4-443d-9384-471348c4a3f4",
   "metadata": {},
   "outputs": [
    {
     "name": "stdout",
     "output_type": "stream",
     "text": [
      "(let z:45)"
     ]
    }
   ],
   "source": [
    "let z : 45"
   ]
  },
  {
   "cell_type": "code",
   "execution_count": 12,
   "id": "50535d6f-cb37-4f2c-83d3-514d923b63eb",
   "metadata": {},
   "outputs": [
    {
     "name": "stdout",
     "output_type": "stream",
     "text": [
      "(?:z)"
     ]
    }
   ],
   "source": [
    "z?"
   ]
  },
  {
   "cell_type": "code",
   "execution_count": 13,
   "id": "0007a8e4-7cc3-478b-b986-e7e967e7bd02",
   "metadata": {},
   "outputs": [
    {
     "name": "stdout",
     "output_type": "stream",
     "text": []
    }
   ],
   "source": [
    "def z?:45"
   ]
  },
  {
   "cell_type": "code",
   "execution_count": 14,
   "id": "b0794ef8-d45e-4806-a577-3cc5a4ee6f8a",
   "metadata": {},
   "outputs": [
    {
     "name": "stdout",
     "output_type": "stream",
     "text": [
      "(?:z)"
     ]
    }
   ],
   "source": [
    "z?"
   ]
  },
  {
   "cell_type": "code",
   "execution_count": 15,
   "id": "a54c9726-d2c8-4c90-b763-1cdf6ba37c6a",
   "metadata": {},
   "outputs": [
    {
     "name": "stdout",
     "output_type": "stream",
     "text": [
      "(45:)"
     ]
    }
   ],
   "source": [
    "z?:"
   ]
  },
  {
   "cell_type": "code",
   "execution_count": null,
   "id": "ffe86a04-2900-4613-be87-96ef4aca53c1",
   "metadata": {},
   "outputs": [],
   "source": []
  }
 ],
 "metadata": {
  "kernelspec": {
   "display_name": "coda",
   "language": "",
   "name": "coda"
  },
  "language_info": {
   "file_extension": ".co",
   "mimetype": "text/plain",
   "name": "Any text"
  }
 },
 "nbformat": 4,
 "nbformat_minor": 5
}
