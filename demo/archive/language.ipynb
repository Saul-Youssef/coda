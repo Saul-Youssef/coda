{
 "cells": [
  {
   "cell_type": "markdown",
   "id": "914d89fe-5a36-4ecf-8dd2-11667a3d474e",
   "metadata": {},
   "source": [
    "## Language\n",
    "\n",
    "This shows the language at the internal python level."
   ]
  },
  {
   "cell_type": "code",
   "execution_count": 1,
   "id": "96c7cec9-46d2-4cb4-afcd-77bf199aa816",
   "metadata": {},
   "outputs": [],
   "source": [
    "from base import *\n",
    "from Language import *"
   ]
  },
  {
   "cell_type": "code",
   "execution_count": 2,
   "id": "56ed4ccd-5886-450a-a7c0-0e776fd9c715",
   "metadata": {},
   "outputs": [],
   "source": [
    "def pr(T): print(str(T),type(T))"
   ]
  },
  {
   "cell_type": "code",
   "execution_count": 3,
   "id": "e076e080-6c2a-4b3b-9421-525d2ced5adb",
   "metadata": {},
   "outputs": [],
   "source": [
    "a = da('1')\n",
    "b = da('2')"
   ]
  },
  {
   "cell_type": "markdown",
   "id": "3cb13cc2-f8d3-48da-94c1-432c8718ba6d",
   "metadata": {},
   "source": [
    "The language is a definition like any other.  The only slightly tricky issue is a convention to recognize language source code using curly brackets.  So in the language, `{rev : A B} 1 2 : a b`, for instance, is data in the domain of the compiler.  The action of the compiler, then, eventually, results in `b a 2 1`. The issue is to arrange so that the domain of a language coda is '{' rather than '{.....}' so that all definition domains are treated the same way, thus simplifying base.py. \n",
    "\n",
    "The upshot of all this is that you should use the lang function in the Language model to make language codas."
   ]
  },
  {
   "cell_type": "code",
   "execution_count": 16,
   "id": "a8e29323-306e-4f6b-9c24-874cfaf5d50e",
   "metadata": {},
   "outputs": [],
   "source": [
    "D = lang('pass:',a,b)"
   ]
  },
  {
   "cell_type": "code",
   "execution_count": 19,
   "id": "5011b517-fb78-4479-ad80-d89fdf29e59f",
   "metadata": {},
   "outputs": [
    {
     "name": "stdout",
     "output_type": "stream",
     "text": [
      " <class 'base.data'>\n"
     ]
    }
   ],
   "source": [
    "D = D.eval(); pr(D)"
   ]
  },
  {
   "cell_type": "code",
   "execution_count": null,
   "id": "d67a61fb-67d3-447e-9732-5530b3b5e3db",
   "metadata": {},
   "outputs": [],
   "source": []
  }
 ],
 "metadata": {
  "kernelspec": {
   "display_name": "Python 3 (ipykernel)",
   "language": "python",
   "name": "python3"
  },
  "language_info": {
   "codemirror_mode": {
    "name": "ipython",
    "version": 3
   },
   "file_extension": ".py",
   "mimetype": "text/x-python",
   "name": "python",
   "nbconvert_exporter": "python",
   "pygments_lexer": "ipython3",
   "version": "3.10.7"
  }
 },
 "nbformat": 4,
 "nbformat_minor": 5
}
