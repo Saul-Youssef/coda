{
 "cells": [
  {
   "cell_type": "markdown",
   "id": "5a361ba2-f187-4fd9-96ef-24b79e0c9513",
   "metadata": {},
   "source": [
    "### Boolean space L1 "
   ]
  },
  {
   "cell_type": "code",
   "execution_count": 1,
   "id": "cc5994a0-2269-4348-8694-ecdc9af5a370",
   "metadata": {},
   "outputs": [
    {
     "name": "stdout",
     "output_type": "stream",
     "text": [
      "(defaultTime:5)"
     ]
    }
   ],
   "source": [
    "defaultTime:5"
   ]
  },
  {
   "cell_type": "code",
   "execution_count": 2,
   "id": "3da3e5e7-7452-4bfe-8706-606c931ccc04",
   "metadata": {},
   "outputs": [
    {
     "name": "stdout",
     "output_type": "stream",
     "text": []
    }
   ],
   "source": [
    "import : dir co : up : ."
   ]
  },
  {
   "cell_type": "code",
   "execution_count": 3,
   "id": "598a9b02-a640-447d-92ef-97395c6b6ddd",
   "metadata": {},
   "outputs": [
    {
     "name": "stdout",
     "output_type": "stream",
     "text": []
    }
   ],
   "source": [
    "#\n",
    "#  b is an atom to hold single boolean values \n",
    "#  L is the space of sequences of boolean values \n",
    "#  L is the space of sequences of boolean values with length <=1\n",
    "#  (E:X) is an endomorphism of L \n",
    "#  (e:X) is the special case of an \"inner\" endomorphism of L \n",
    "#\n",
    "Def b:\n",
    "Def L : (front |) * (Seq b : bool) \n",
    "Def E : {end L:B}\n",
    "Def e : {E:in b:B}"
   ]
  },
  {
   "cell_type": "code",
   "execution_count": 4,
   "id": "22ddb96b-13ff-4b66-b5ff-240888f10ebb",
   "metadata": {},
   "outputs": [
    {
     "name": "stdout",
     "output_type": "stream",
     "text": []
    }
   ],
   "source": [
    "#\n",
    "#   L is the space of <=1 boolean values \n",
    "#\n",
    "Let L_contents : aq permutation 0 1 : (b:) (b:(:)) \n",
    "Let L1         : permutation 1 : (b:) (b:(:)) "
   ]
  },
  {
   "cell_type": "code",
   "execution_count": 5,
   "id": "b921b8ae-5904-4973-a1cb-6fe610a648c8",
   "metadata": {},
   "outputs": [
    {
     "name": "stdout",
     "output_type": "stream",
     "text": [
      "◎ (:(b:)) (:(b:◎))"
     ]
    }
   ],
   "source": [
    "L_contents?"
   ]
  },
  {
   "cell_type": "code",
   "execution_count": 6,
   "id": "49bc8054-2aa6-4346-95b1-42fca6baedfa",
   "metadata": {},
   "outputs": [
    {
     "name": "stdout",
     "output_type": "stream",
     "text": []
    }
   ],
   "source": [
    "Def TRUE  : (e:const)\n",
    "Def OR    : (e:{B=(:) (:)})\n",
    "Def XNOR  : (e:{B=(:)}) \n",
    "Def AND   : (e:bool)\n",
    "Def NAND  : (e:not)\n",
    "Def XOR   : (e:{B=(:)}) \n",
    "Def NOR   : (e:{(B=((:) (:)))}) \n",
    "Def FALSE : (e:const (:)) "
   ]
  },
  {
   "cell_type": "code",
   "execution_count": 7,
   "id": "953f3024-fb4b-47c7-a3f0-d5292ecedf05",
   "metadata": {},
   "outputs": [
    {
     "name": "stdout",
     "output_type": "stream",
     "text": []
    }
   ],
   "source": [
    "Def spec : ap {A:get:B} "
   ]
  },
  {
   "cell_type": "code",
   "execution_count": 8,
   "id": "e4012bc3-0879-4f64-bd27-dd1046f2be72",
   "metadata": {},
   "outputs": [
    {
     "name": "stdout",
     "output_type": "stream",
     "text": [
      "◎ (:(b:)) (:(b:◎))\n",
      ",\n",
      "(b:) (b:) (b:)\n",
      "(b:◎) (b:◎) (b:◎)\n",
      "(b:◎) (b:◎) (b:)\n",
      "(b:) (b:) (b:◎)\n",
      "(b:◎) (b:◎) (b:)\n",
      "(b:◎) (b:◎) (b:)\n",
      "(b:◎) (b:◎) (b:◎)\n",
      "(b:◎) (b:◎) (b:◎)"
     ]
    }
   ],
   "source": [
    "#\n",
    "#   \"Truth table\" for the eight inner endomorphisms.\n",
    "#\n",
    "L_contents?\n",
    ",\n",
    "spec TRUE : L_contents?\n",
    "spec OR   : L_contents?\n",
    "spec XNOR : L_contents?\n",
    "spec AND  : L_contents?\n",
    "spec NAND : L_contents?\n",
    "spec XOR  : L_contents?\n",
    "spec NOR  : L_contents?\n",
    "spec FALSE: L_contents?\n",
    "\n",
    "Let endos : ap : TRUE OR XNOR AND NAND XOR NOR FALSE "
   ]
  },
  {
   "cell_type": "code",
   "execution_count": 9,
   "id": "3ea9160f-9b9c-40f0-bd69-27eb6e012f2f",
   "metadata": {},
   "outputs": [
    {
     "name": "stdout",
     "output_type": "stream",
     "text": [
      "(:(b:)) (:(b:◎))\n",
      ",\n",
      "(b:) (b:)\n",
      "(b:) (b:◎)\n",
      "(b:◎) (b:)\n",
      "(b:◎) (b:◎)"
     ]
    }
   ],
   "source": [
    "#\n",
    "#   \"Truth table\" for the eight inner endomorphisms.\n",
    "#\n",
    "L1?\n",
    ",\n",
    "spec TRUE : L1?\n",
    "#spec OR   : L1?\n",
    "#spec XNOR : L1?\n",
    "spec AND  : L1?\n",
    "spec NAND : L1?\n",
    "#spec XOR  : L1?\n",
    "#spec NOR  : L1?\n",
    "spec FALSE: L1?\n",
    "\n",
    "Let endos : ap : TRUE OR XNOR AND NAND XOR NOR FALSE "
   ]
  },
  {
   "cell_type": "code",
   "execution_count": 10,
   "id": "b25363e3-a0bf-40b3-9169-d62c34d803e9",
   "metadata": {},
   "outputs": [
    {
     "name": "stdout",
     "output_type": "stream",
     "text": [
      "◎ (:(b:)) (:(b:◎))"
     ]
    }
   ],
   "source": [
    "L_contents?"
   ]
  },
  {
   "cell_type": "code",
   "execution_count": 11,
   "id": "26613381-ed95-478c-b034-f7fda1fb0a8c",
   "metadata": {},
   "outputs": [
    {
     "name": "stdout",
     "output_type": "stream",
     "text": [
      "(:◎ ◎ ◎) (:◎ ◎ (:(b:))) (:◎ ◎ (:(b:◎))) (:◎ (:(b:)) ◎) (:◎ (:(b:)) (:(b:))) (:◎ (:(b:)) (:(b:◎))) (:◎ (:(b:◎)) ◎) (:◎ (:(b:◎)) (:(b:))) (:◎ (:(b:◎)) (:(b:◎))) (:(:(b:)) ◎ ◎) (:(:(b:)) ◎ (:(b:))) (:(:(b:)) ◎ (:(b:◎))) (:(:(b:)) (:(b:)) ◎) (:(:(b:)) (:(b:)) (:(b:))) (:(:(b:)) (:(b:)) (:(b:◎))) (:(:(b:)) (:(b:◎)) ◎) (:(:(b:)) (:(b:◎)) (:(b:))) (:(:(b:)) (:(b:◎)) (:(b:◎))) (:(:(b:◎)) ◎ ◎) (:(:(b:◎)) ◎ (:(b:))) (:(:(b:◎)) ◎ (:(b:◎))) (:(:(b:◎)) (:(b:)) ◎) (:(:(b:◎)) (:(b:)) (:(b:))) (:(:(b:◎)) (:(b:)) (:(b:◎))) (:(:(b:◎)) (:(b:◎)) ◎) (:(:(b:◎)) (:(b:◎)) (:(b:))) (:(:(b:◎)) (:(b:◎)) (:(b:◎)))"
     ]
    }
   ],
   "source": [
    "#\n",
    "#   There are 3^3 = 27 endomorphisms of L\n",
    "#\n",
    "permutation 3 : L_contents?"
   ]
  },
  {
   "cell_type": "code",
   "execution_count": 12,
   "id": "87ab815e-a581-45d6-bcad-c164b48daf96",
   "metadata": {},
   "outputs": [
    {
     "name": "stdout",
     "output_type": "stream",
     "text": []
    }
   ],
   "source": [
    "Def F : {(if (B):(get:nth 1:A)) (if (B=(b:)):(get:nth 2:A)) (if (B=(b:(:))):(get:nth 3:A))}"
   ]
  },
  {
   "cell_type": "code",
   "execution_count": 13,
   "id": "03a68a4b-c608-4b3f-b35a-05187099d681",
   "metadata": {},
   "outputs": [
    {
     "name": "stdout",
     "output_type": "stream",
     "text": [
      "a\n",
      "b\n",
      "c"
     ]
    }
   ],
   "source": [
    "F (:a) (:b) (:c) : ()\n",
    "F (:a) (:b) (:c) : (b:)\n",
    "F (:a) (:b) (:c) : (b:(:))"
   ]
  },
  {
   "cell_type": "code",
   "execution_count": 14,
   "id": "0af96d42-af8e-427e-ac68-a21761c36174",
   "metadata": {},
   "outputs": [
    {
     "name": "stdout",
     "output_type": "stream",
     "text": []
    }
   ],
   "source": [
    "Let Endomorphisms : ap {:F (get:B)} : permutation 3 : L_contents?"
   ]
  },
  {
   "cell_type": "code",
   "execution_count": 15,
   "id": "e43e8a50-f2bf-43a8-9a36-d37dd97a68bd",
   "metadata": {},
   "outputs": [
    {
     "name": "stdout",
     "output_type": "stream",
     "text": [
      "(defaultTime:100)"
     ]
    }
   ],
   "source": [
    "defaultTime:100"
   ]
  },
  {
   "cell_type": "code",
   "execution_count": 16,
   "id": "7cddc62a-b108-49d6-abbe-3f24e3e5700c",
   "metadata": {},
   "outputs": [
    {
     "name": "stdout",
     "output_type": "stream",
     "text": [
      " (with F ◎ ◎ ◎:) \n",
      " (with F ◎ ◎ (:(b:◎)):) \n",
      " (with F ◎ (:(b:)) ◎:) \n",
      " (with F ◎ (:(b:)) (:(b:)):) \n",
      " (with F ◎ (:(b:)) (:(b:◎)):) \n",
      " (with F ◎ (:(b:◎)) (:(b:◎)):) \n",
      " (with F (:(b:)) (:(b:)) (:(b:)):) \n",
      " (with F (:(b:)) (:(b:)) (:(b:◎)):) \n",
      " (with F (:(b:◎)) (:(b:)) (:(b:◎)):) \n",
      " (with F (:(b:◎)) (:(b:◎)) (:(b:◎)):) \n"
     ]
    }
   ],
   "source": [
    "tab : dom 200 : ap {if (right:B):B} : ap {with (get:B) : bool : idempotent (get:B) : L_contents?} : Endomorphisms?"
   ]
  },
  {
   "cell_type": "code",
   "execution_count": 17,
   "id": "15abb66f-f87a-4706-9735-6f15b44d4fe3",
   "metadata": {},
   "outputs": [
    {
     "name": "stdout",
     "output_type": "stream",
     "text": [
      " (:F ◎ ◎ ◎) \n",
      " (:F ◎ ◎ (:(b:◎))) \n",
      " (:F ◎ (:(b:)) ◎) \n",
      " (:F ◎ (:(b:)) (:(b:))) \n",
      " (:F ◎ (:(b:)) (:(b:◎))) \n",
      " (:F ◎ (:(b:◎)) (:(b:◎))) \n",
      " (:F (:(b:)) (:(b:)) (:(b:))) \n",
      " (:F (:(b:)) (:(b:)) (:(b:◎))) \n",
      " (:F (:(b:◎)) (:(b:)) (:(b:◎))) \n",
      " (:F (:(b:◎)) (:(b:◎)) (:(b:◎))) \n"
     ]
    }
   ],
   "source": [
    "tab : ap {if (right:B):(:arg:B)} : dom 200 : ap {with (get:B) : bool : idempotent (get:B) : L_contents?} : Endomorphisms?"
   ]
  },
  {
   "cell_type": "code",
   "execution_count": 18,
   "id": "31cf895e-67e3-4c7f-86b9-2dafcdead3f9",
   "metadata": {
    "tags": []
   },
   "outputs": [
    {
     "name": "stdout",
     "output_type": "stream",
     "text": [
      " (:F ◎ ◎ ◎) \n",
      " (:F ◎ ◎ (:(b:))) \n",
      " (:F ◎ ◎ (:(b:◎))) \n",
      " (:F ◎ (:(b:)) ◎) \n",
      " (:F ◎ (:(b:)) (:(b:))) \n",
      " (:F ◎ (:(b:)) (:(b:◎))) \n",
      " (:F ◎ (:(b:◎)) ◎) \n",
      " (:F ◎ (:(b:◎)) (:(b:))) \n",
      " (:F ◎ (:(b:◎)) (:(b:◎))) \n",
      " (:F (:(b:)) ◎ ◎) \n",
      " (:F (:(b:)) ◎ (:(b:))) \n",
      " (:F (:(b:)) ◎ (:(b:◎))) \n",
      " (:F (:(b:)) (:(b:)) ◎) \n",
      " (:F (:(b:)) (:(b:)) (:(b:))) \n",
      " (:F (:(b:)) (:(b:)) (:(b:◎))) \n",
      " (:F (:(b:)) (:(b:◎)) ◎) \n",
      " (:F (:(b:)) (:(b:◎)) (:(b:))) \n",
      " (:F (:(b:)) (:(b:◎)) (:(b:◎))) \n",
      " (:F (:(b:◎)) ◎ ◎) \n",
      " (:F (:(b:◎)) ◎ (:(b:))) \n",
      " (:F (:(b:◎)) ◎ (:(b:◎))) \n",
      " (:F (:(b:◎)) (:(b:)) ◎) \n",
      " (:F (:(b:◎)) (:(b:)) (:(b:))) \n",
      " (:F (:(b:◎)) (:(b:)) (:(b:◎))) \n",
      " (:F (:(b:◎)) (:(b:◎)) ◎) \n",
      " (:F (:(b:◎)) (:(b:◎)) (:(b:))) \n",
      " (:F (:(b:◎)) (:(b:◎)) (:(b:◎))) \n"
     ]
    }
   ],
   "source": [
    "tab : Endomorphisms?"
   ]
  },
  {
   "cell_type": "code",
   "execution_count": null,
   "id": "f1a5a4dd-aea3-49f5-9061-15ad9f0c4a18",
   "metadata": {},
   "outputs": [],
   "source": []
  }
 ],
 "metadata": {
  "kernelspec": {
   "display_name": "coda",
   "language": "",
   "name": "coda"
  },
  "language_info": {
   "file_extension": ".co",
   "mimetype": "text/plain",
   "name": "Any text"
  }
 },
 "nbformat": 4,
 "nbformat_minor": 5
}
