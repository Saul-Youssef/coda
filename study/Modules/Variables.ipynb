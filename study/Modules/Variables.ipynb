{
 "cells": [
  {
   "cell_type": "markdown",
   "id": "be825525-b9c9-4357-836b-c3cd739f4848",
   "metadata": {},
   "source": [
    "## Variables, with, replace, theorem "
   ]
  },
  {
   "cell_type": "code",
   "execution_count": null,
   "id": "615f1eea-15ea-41c5-a53f-68daff58e722",
   "metadata": {},
   "outputs": [],
   "source": []
  }
 ],
 "metadata": {
  "kernelspec": {
   "display_name": "coda",
   "language": "",
   "name": "coda"
  },
  "language_info": {
   "file_extension": ".co",
   "mimetype": "text/plain",
   "name": "Any text"
  }
 },
 "nbformat": 4,
 "nbformat_minor": 5
}
