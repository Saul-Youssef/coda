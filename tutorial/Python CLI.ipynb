{
 "cells": [
  {
   "cell_type": "markdown",
   "id": "4af0281d-00f2-4b6f-986b-62ad4c2ef7a4",
   "metadata": {},
   "source": [
    "## How to use coda via python"
   ]
  },
  {
   "cell_type": "code",
   "execution_count": 1,
   "id": "5ed5844d-1d18-4676-8026-8028df49979c",
   "metadata": {},
   "outputs": [],
   "source": [
    "from start import *  # imports base system including .co files \n",
    "import Evaluate, Compile "
   ]
  },
  {
   "cell_type": "code",
   "execution_count": 2,
   "id": "24ad2df1-2188-47e4-9807-20a51534c11d",
   "metadata": {},
   "outputs": [],
   "source": [
    "A = data(da('{rev : 1 2 3}')|data())"
   ]
  },
  {
   "cell_type": "code",
   "execution_count": 3,
   "id": "f06e26be-23b1-42fe-8e95-65b5b939aa26",
   "metadata": {},
   "outputs": [
    {
     "name": "stdout",
     "output_type": "stream",
     "text": [
      "3\n",
      "2\n",
      "1\n"
     ]
    }
   ],
   "source": [
    "for a in Evaluate.default(A): print(a)"
   ]
  },
  {
   "cell_type": "code",
   "execution_count": 4,
   "id": "5e6b8c74-efa1-4495-ba39-c41f3fc6e0f1",
   "metadata": {},
   "outputs": [
    {
     "name": "stdout",
     "output_type": "stream",
     "text": [
      "<class 'base.coda'> 3\n",
      "<class 'base.coda'> 2\n",
      "<class 'base.coda'> 1\n"
     ]
    }
   ],
   "source": [
    "for a in Compile.compile('rev : 1 2 3'): print(type(a),a)"
   ]
  },
  {
   "cell_type": "code",
   "execution_count": 5,
   "id": "3c6f4fbc-133c-430a-aef6-3fb103a1d3ed",
   "metadata": {},
   "outputs": [],
   "source": [
    "def com(txt): return Compile.compile(txt)"
   ]
  },
  {
   "cell_type": "code",
   "execution_count": 6,
   "id": "bd3e677d-3676-4343-9015-1cdb4ba790b7",
   "metadata": {},
   "outputs": [],
   "source": [
    "A = com('Space : Z?')"
   ]
  },
  {
   "cell_type": "code",
   "execution_count": 7,
   "id": "56da33e0-3e46-4cfd-ab43-7035db9a3101",
   "metadata": {},
   "outputs": [
    {
     "name": "stdout",
     "output_type": "stream",
     "text": [
      "(= ((?:Z):((?:Z):(?:X)) ((?:Z):(?:Y))):((?:Z):(?:X) (?:Y)))\n"
     ]
    }
   ],
   "source": [
    "for a in A: print(a)"
   ]
  },
  {
   "cell_type": "code",
   "execution_count": 8,
   "id": "e322e5a2-8db2-41b9-ac96-2c7ede981122",
   "metadata": {},
   "outputs": [
    {
     "name": "stdout",
     "output_type": "stream",
     "text": [
      "(?:X)\n",
      "(?:Z)\n",
      "(?:Y)\n"
     ]
    }
   ],
   "source": [
    "import Variable \n",
    "for c in Variable.variables(A): print(c)"
   ]
  },
  {
   "cell_type": "code",
   "execution_count": 9,
   "id": "76a9ec07-da90-4ae9-8406-5ad56e6236bc",
   "metadata": {},
   "outputs": [],
   "source": [
    "# \n",
    "#   This also imports co files \n",
    "#\n",
    "#from start import * "
   ]
  },
  {
   "cell_type": "code",
   "execution_count": 10,
   "id": "4bffe050-c35e-4d6e-8521-598c40e71045",
   "metadata": {},
   "outputs": [],
   "source": [
    "A = com('nth 3 : a b c d e f g')"
   ]
  },
  {
   "cell_type": "code",
   "execution_count": 11,
   "id": "f126209a-d282-4c6e-a5d4-27ad3ba9a0f0",
   "metadata": {},
   "outputs": [
    {
     "name": "stdout",
     "output_type": "stream",
     "text": [
      "c\n"
     ]
    }
   ],
   "source": [
    "for a in A: print(a)"
   ]
  },
  {
   "cell_type": "code",
   "execution_count": null,
   "id": "dd60d435-1697-4d91-bc1a-576f8d6a322f",
   "metadata": {},
   "outputs": [],
   "source": []
  }
 ],
 "metadata": {
  "kernelspec": {
   "display_name": "Python 3 (ipykernel)",
   "language": "python",
   "name": "python3"
  },
  "language_info": {
   "codemirror_mode": {
    "name": "ipython",
    "version": 3
   },
   "file_extension": ".py",
   "mimetype": "text/x-python",
   "name": "python",
   "nbconvert_exporter": "python",
   "pygments_lexer": "ipython3",
   "version": "3.10.7"
  }
 },
 "nbformat": 4,
 "nbformat_minor": 5
}
