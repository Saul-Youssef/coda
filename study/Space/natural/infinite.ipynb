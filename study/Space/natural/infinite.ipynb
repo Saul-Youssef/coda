{
 "cells": [
  {
   "cell_type": "code",
   "execution_count": 9,
   "id": "8f98964a-67b7-4dae-93af-2d0bff359b51",
   "metadata": {},
   "outputs": [
    {
     "name": "stdout",
     "output_type": "stream",
     "text": []
    }
   ],
   "source": [
    "Let infinity : | infinity?"
   ]
  },
  {
   "cell_type": "code",
   "execution_count": 10,
   "id": "55d33112-f8f6-4f61-91f3-84a67487633b",
   "metadata": {},
   "outputs": [
    {
     "name": "stdout",
     "output_type": "stream",
     "text": [
      "| | | | | | | | | | | | | | | | | | | | | | | | | | | | | | | | | | | | | | | | | | | | | | | | | | | | | | | | | | | | | | | | | | | | | | | | | | | | | | | | | | | | | | | | | | | | | | | | | | | | | | | | | | | | | | | | | | | | | | | | | | | | | | | | | | | | | | | | | | | | | | | | | | | | | | | | | | | | | | | | | | | | | | | | | | | | | | | | | | | | | | | | | | | | | | | | | | | | | | | | | | | | | | | | (infinity:)"
     ]
    }
   ],
   "source": [
    "infinity?"
   ]
  },
  {
   "cell_type": "code",
   "execution_count": 11,
   "id": "9756a978-70e9-4f36-ae5a-f4d6bb8d2d3e",
   "metadata": {},
   "outputs": [
    {
     "name": "stdout",
     "output_type": "stream",
     "text": []
    }
   ],
   "source": [
    "Def N : ap const | "
   ]
  },
  {
   "cell_type": "code",
   "execution_count": 13,
   "id": "c7138317-25f6-41f3-83d3-e179d4d8784e",
   "metadata": {},
   "outputs": [
    {
     "name": "stdout",
     "output_type": "stream",
     "text": [
      "| | |"
     ]
    }
   ],
   "source": [
    "N : N : a b c "
   ]
  },
  {
   "cell_type": "code",
   "execution_count": 14,
   "id": "5dfb1402-b5b7-4697-9f76-8613611e6844",
   "metadata": {},
   "outputs": [
    {
     "name": "stdout",
     "output_type": "stream",
     "text": [
      "| | | | | | | | | | | | | | | | | | | | | | | | | | | | | | | | | | | | | | | | | | | | | | | | | | | | | | | | | | | | | | | | | | | | | | | | | | | | | | | | | | | | | | | | | | | | | | | | | | | | | | | (ap const |:| ({infinity?}:))"
     ]
    }
   ],
   "source": [
    "N : infinity?"
   ]
  },
  {
   "cell_type": "code",
   "execution_count": 8,
   "id": "b20c59fa-c423-49d5-995a-f3aa00c2f986",
   "metadata": {},
   "outputs": [
    {
     "name": "stdout",
     "output_type": "stream",
     "text": [
      "(equal | | | | | | | | | | | | | | | | | | | | | | | | | | | | | | | | | | | | | | | | | | | | | | | | | | | | | | | | | | | | | | | | | | | | | | | | | | | | | | | | | | | | | | | | | (ap const |:({B} infinite:({| infinite?}:))):(infinity:))"
     ]
    }
   ],
   "source": [
    "(stick : infinite?) = (infinity?)"
   ]
  }
 ],
 "metadata": {
  "kernelspec": {
   "display_name": "coda",
   "language": "",
   "name": "coda"
  },
  "language_info": {
   "file_extension": ".co",
   "mimetype": "text/plain",
   "name": "Any text"
  }
 },
 "nbformat": 4,
 "nbformat_minor": 5
}
