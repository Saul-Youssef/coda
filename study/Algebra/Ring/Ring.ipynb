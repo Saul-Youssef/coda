{
 "cells": [
  {
   "cell_type": "markdown",
   "id": "bd9c1216-31b9-4c51-85cf-5341ebd3dcfe",
   "metadata": {},
   "source": [
    "## What are the Rings?\n",
    "\n",
    "A ring is data R such that \n",
    "\n",
    "* R X Y : Z = (R X:Z) (R Y:Z)  (\"ring left\")\n",
    "* R X : Y Z = (R X:Y) (R X:Z)  (\"ring right\") \n",
    "\n",
    "Any ring can be specified by function from pairs x,y of atoms to D^n(x,y) where D is some fixed data and where n(x,y) is some natural number valued function on pairs of data. Thus R X:Y is D^n for some n. \n",
    "\n",
    "* ar (ap co D)\\*R\n",
    "\n",
    "for fixed data D and for some data R. Letting D = |, we have "
   ]
  },
  {
   "cell_type": "code",
   "execution_count": 1,
   "id": "a959a325-65de-4651-ae1e-3bf749707c96",
   "metadata": {},
   "outputs": [
    {
     "name": "stdout",
     "output_type": "stream",
     "text": [
      "(defaultTime:1000)"
     ]
    }
   ],
   "source": [
    "defaultTime:1000"
   ]
  },
  {
   "cell_type": "code",
   "execution_count": 2,
   "id": "339b3844-28a9-445a-bc72-df1a5e869c40",
   "metadata": {},
   "outputs": [
    {
     "name": "stdout",
     "output_type": "stream",
     "text": []
    }
   ],
   "source": [
    "import : dir co : up : up : ."
   ]
  },
  {
   "cell_type": "code",
   "execution_count": 4,
   "id": "f8ea6a4c-36d7-47f5-8b17-c2b63dd898d6",
   "metadata": {},
   "outputs": [
    {
     "name": "stdout",
     "output_type": "stream",
     "text": [
      "(with pass:) (with null:)"
     ]
    }
   ],
   "source": [
    "do 100 : property ring_right (:a) (:b) : (:pass) (:null)"
   ]
  },
  {
   "cell_type": "code",
   "execution_count": null,
   "id": "bcc460fb-9007-45aa-898e-db381d832f2b",
   "metadata": {},
   "outputs": [],
   "source": [
    "out ring_right.C0-S6 3600 : dom 100 : property ring_right S6? : C0? : "
   ]
  },
  {
   "cell_type": "code",
   "execution_count": null,
   "id": "9a086771-a91a-45c7-adaf-c8833699c89d",
   "metadata": {},
   "outputs": [],
   "source": [
    "out ring_left.C0-S6 3600 : dom 100 : property ring_left S6? : C0? : "
   ]
  },
  {
   "cell_type": "code",
   "execution_count": null,
   "id": "a2b729ff-7417-4538-a310-eb0f84c04f3b",
   "metadata": {},
   "outputs": [],
   "source": []
  }
 ],
 "metadata": {
  "kernelspec": {
   "display_name": "coda",
   "language": "",
   "name": "coda"
  },
  "language_info": {
   "file_extension": ".co",
   "mimetype": "text/plain",
   "name": "Any text"
  }
 },
 "nbformat": 4,
 "nbformat_minor": 5
}
