{
 "cells": [
  {
   "cell_type": "code",
   "execution_count": 1,
   "id": "45a2ee2f-54dd-41ea-b437-fd5c3d2409a2",
   "metadata": {},
   "outputs": [
    {
     "name": "stdout",
     "output_type": "stream",
     "text": []
    }
   ],
   "source": [
    "let x? : (^:x?)"
   ]
  },
  {
   "cell_type": "code",
   "execution_count": 2,
   "id": "e79a4676-8433-4c19-b331-90a31400668f",
   "metadata": {},
   "outputs": [
    {
     "name": "stdout",
     "output_type": "stream",
     "text": [
      "(^:(^:(^:(^:(^:(^:(^:(^:(^:(^:(^:(^:(^:(^:(^:(^:(^:(^:(^:(^:(^:(^:(^:(^:(^:(^:(^:(^:(^:(^:(^:(^:(^:(^:(^:(^:(^:(^:(^:(^:(^:(^:(^:(^:(^:(^:(^:(^:(^:(^:(^:(^:(^:(^:(^:(^:(^:(^:(^:(^:(^:(^:(^:(^:(^:(^:(^:(^:(^:(^:(^:(^:(^:(^:(^:(^:(^:(^:(^:(^:(^:(^:(^:(^:(^:(^:(^:(^:(^:(^:(^:(^:(^:(^:(^:(^:(^:(^:(^:(?:x))))))))))))))))))))))))))))))))))))))))))))))))))))))))))))))))))))))))))))))))))))))))))))))))))))"
     ]
    }
   ],
   "source": [
    "x?"
   ]
  },
  {
   "cell_type": "code",
   "execution_count": 3,
   "id": "ef7f1e09-588f-4c41-9c21-c729eeded0c3",
   "metadata": {},
   "outputs": [
    {
     "name": "stdout",
     "output_type": "stream",
     "text": [
      "...traceback: <base.DEF object at 0x10c9db910> is already defined."
     ]
    }
   ],
   "source": [
    "let y? : y?"
   ]
  },
  {
   "cell_type": "code",
   "execution_count": 4,
   "id": "3f16dbfd-4f7a-4a0d-9f60-e4de0bbcaa43",
   "metadata": {},
   "outputs": [
    {
     "name": "stdout",
     "output_type": "stream",
     "text": [
      "...traceback: <base.DEF object at 0x10d95fa30> is already defined."
     ]
    }
   ],
   "source": [
    "let z? : z?"
   ]
  },
  {
   "cell_type": "code",
   "execution_count": null,
   "id": "ec13c9a9-de6f-4f23-9c5b-73bbdb0dfcba",
   "metadata": {},
   "outputs": [],
   "source": []
  }
 ],
 "metadata": {
  "kernelspec": {
   "display_name": "coda",
   "language": "",
   "name": "coda"
  },
  "language_info": {
   "file_extension": ".co",
   "mimetype": "text/plain",
   "name": "Any text"
  }
 },
 "nbformat": 4,
 "nbformat_minor": 5
}
