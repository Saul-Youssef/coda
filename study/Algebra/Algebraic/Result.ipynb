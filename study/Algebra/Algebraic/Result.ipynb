{
 "cells": [
  {
   "cell_type": "code",
   "execution_count": 1,
   "id": "48cb5ce0-b9ab-4757-96ff-c0691f89278e",
   "metadata": {},
   "outputs": [
    {
     "name": "stdout",
     "output_type": "stream",
     "text": [
      "(defaultTime:1000)"
     ]
    }
   ],
   "source": [
    "defaultTime:1000"
   ]
  },
  {
   "cell_type": "code",
   "execution_count": 2,
   "id": "29461fa5-88dc-40c9-aff2-167b59e89429",
   "metadata": {},
   "outputs": [
    {
     "name": "stdout",
     "output_type": "stream",
     "text": []
    }
   ],
   "source": [
    "import : dir co : up : up : . "
   ]
  },
  {
   "cell_type": "code",
   "execution_count": 3,
   "id": "da9f93fb-0870-485b-ba01-97b76d4a50db",
   "metadata": {},
   "outputs": [
    {
     "name": "stdout",
     "output_type": "stream",
     "text": [
      " /Users/youssef/coda/study/Algebra/Algebraic/algebraic_L1.C12-S6 \n",
      " /Users/youssef/coda/study/Algebra/Algebraic/Search.ipynb \n",
      " /Users/youssef/coda/study/Algebra/Algebraic/Result.ipynb \n",
      " /Users/youssef/coda/study/Algebra/Algebraic/.ipynb_checkpoints \n"
     ]
    }
   ],
   "source": [
    "tab : dir : . "
   ]
  },
  {
   "cell_type": "code",
   "execution_count": 7,
   "id": "06a22c6b-fa03-4b78-915f-d3b8c897ebb5",
   "metadata": {},
   "outputs": [
    {
     "name": "stdout",
     "output_type": "stream",
     "text": []
    }
   ],
   "source": [
    "out algebraic_L1.C12-S6.can : ap {if (right:B):(:arg:B)} : in stable : algebraic_L1.C12-S6"
   ]
  },
  {
   "cell_type": "code",
   "execution_count": 9,
   "id": "6d740fdb-04d7-469d-af1e-eb95c7ddf56d",
   "metadata": {},
   "outputs": [
    {
     "name": "stdout",
     "output_type": "stream",
     "text": [
      "1505"
     ]
    }
   ],
   "source": [
    "count : in : algebraic_L1.C12-S6.can"
   ]
  },
  {
   "cell_type": "code",
   "execution_count": null,
   "id": "0899d71a-0ab3-4553-aa2f-8f5e62dd6190",
   "metadata": {},
   "outputs": [],
   "source": []
  }
 ],
 "metadata": {
  "kernelspec": {
   "display_name": "coda",
   "language": "",
   "name": "coda"
  },
  "language_info": {
   "file_extension": ".co",
   "mimetype": "text/plain",
   "name": "Any text"
  }
 },
 "nbformat": 4,
 "nbformat_minor": 5
}
