{
 "cells": [
  {
   "cell_type": "markdown",
   "id": "084b7919-101f-450c-853b-6e02a3eff95a",
   "metadata": {},
   "source": [
    "## The Space of Endomorphisms of Organic Natural Numbers\n",
    "\n",
    "By organic natural numbers, I mean the space of \"sticks\" **N** where a natural number is represented by a sequence of \"|\" characters, so 3 is | | |, etc.  See other notebooks in this directory."
   ]
  },
  {
   "cell_type": "code",
   "execution_count": 1,
   "id": "d9c28159-f0d3-4a77-ade6-74bc676b6e30",
   "metadata": {},
   "outputs": [
    {
     "name": "stdout",
     "output_type": "stream",
     "text": [
      "(defaultTime:100)"
     ]
    }
   ],
   "source": [
    "defaultTime:100"
   ]
  },
  {
   "cell_type": "code",
   "execution_count": 2,
   "id": "b5939398-d097-42cd-8e0b-f70833077464",
   "metadata": {},
   "outputs": [
    {
     "name": "stdout",
     "output_type": "stream",
     "text": []
    }
   ],
   "source": [
    "Def N: ap const | "
   ]
  },
  {
   "cell_type": "code",
   "execution_count": 15,
   "id": "f29c9085-2d3b-4103-bd30-d306a5eeb8ee",
   "metadata": {},
   "outputs": [
    {
     "name": "stdout",
     "output_type": "stream",
     "text": []
    }
   ],
   "source": [
    "#\n",
    "#   e is an atom to hold endomorphisms in the form of a sequence (:X) (:Y) (:Z)...\n",
    "#   interpreted as the sum of the endomorphisms X, Y, and Z. \n",
    "#   As in the case of N, end : (e:(:X)) (e:(:Y) (:Z)) sums morphisms resulting in (e:(:X) (:Y) (:Z)). \n",
    "#\n",
    "Def e :\n",
    "Def end : {put e : has : get e : B} \n",
    "Def apply : {N : sum (get e:A) : B} "
   ]
  },
  {
   "cell_type": "code",
   "execution_count": 17,
   "id": "023be462-9792-4f8e-8e05-e92f7710bf44",
   "metadata": {},
   "outputs": [
    {
     "name": "stdout",
     "output_type": "stream",
     "text": []
    }
   ],
   "source": [
    "#\n",
    "#   Sample of endomorphisms  \n",
    "#\n",
    "Def mul : {dup (N:A) : B} \n",
    "Def mod : {while frontstrip (N:A) : B} "
   ]
  },
  {
   "cell_type": "code",
   "execution_count": 29,
   "id": "c93213e3-e7fc-41cb-82e1-55c78c23cafb",
   "metadata": {},
   "outputs": [
    {
     "name": "stdout",
     "output_type": "stream",
     "text": [
      "| | | |\n",
      "|"
     ]
    }
   ],
   "source": [
    "mul | | : | | \n",
    "mod | | : | | | | | | | "
   ]
  },
  {
   "cell_type": "code",
   "execution_count": 23,
   "id": "dafe0135-65cb-4ea4-a684-813024b17e69",
   "metadata": {},
   "outputs": [
    {
     "name": "stdout",
     "output_type": "stream",
     "text": []
    }
   ],
   "source": [
    "Let e1 : end : (e:(:mul | |)) (e:(:mod | |))"
   ]
  },
  {
   "cell_type": "code",
   "execution_count": 30,
   "id": "3b330d46-07c7-4405-b0d0-5d95616ecb1d",
   "metadata": {},
   "outputs": [
    {
     "name": "stdout",
     "output_type": "stream",
     "text": [
      "| | | |"
     ]
    }
   ],
   "source": [
    "apply e1? : | | "
   ]
  },
  {
   "cell_type": "code",
   "execution_count": 33,
   "id": "ad9fb049-2f5b-4b92-a0ae-c5f6605f5448",
   "metadata": {},
   "outputs": [
    {
     "name": "stdout",
     "output_type": "stream",
     "text": [
      "(e:(:mul | |) (:mod | |) (:mul | |) (:mod | |))"
     ]
    }
   ],
   "source": [
    "end * {B B} * end : e1?"
   ]
  },
  {
   "cell_type": "code",
   "execution_count": 34,
   "id": "a63aac68-5a4b-4cf1-af6a-f98688d923f7",
   "metadata": {},
   "outputs": [
    {
     "name": "stdout",
     "output_type": "stream",
     "text": [
      "| | | | | | | |"
     ]
    }
   ],
   "source": [
    "apply (end * {B B} * end : e1?) : | | "
   ]
  },
  {
   "cell_type": "code",
   "execution_count": null,
   "id": "b085ce8f-c9da-495d-bd79-c439da9d7c70",
   "metadata": {},
   "outputs": [],
   "source": []
  },
  {
   "cell_type": "code",
   "execution_count": 54,
   "id": "a29c9b97-d6da-46f7-bf76-3e53269b55e1",
   "metadata": {},
   "outputs": [
    {
     "name": "stdout",
     "output_type": "stream",
     "text": [
      "(e:(:prod (:W) (:X)) (:prod (:W) (:Y)))"
     ]
    }
   ],
   "source": [
    "{put e : ap {:prod (get e:A) B} A : get e : B} (e:(:W)) : (e:(:X))  (e:(:Y))"
   ]
  },
  {
   "cell_type": "code",
   "execution_count": 57,
   "id": "ef2b5709-4052-4587-9021-2f2f5b8524eb",
   "metadata": {},
   "outputs": [
    {
     "name": "stdout",
     "output_type": "stream",
     "text": []
    }
   ],
   "source": [
    "Def endoproduct : {put e : ap {:prod (get e:end:A) B} A : get e : B} "
   ]
  },
  {
   "cell_type": "code",
   "execution_count": 58,
   "id": "d68ba30b-c024-4c34-9688-238bcfeec75e",
   "metadata": {},
   "outputs": [
    {
     "name": "stdout",
     "output_type": "stream",
     "text": [
      "(e:(:prod (:W) (:Z) (:X)) (:prod (:W) (:Z) (:Y)))"
     ]
    }
   ],
   "source": [
    "#\n",
    "#   endoproduct A is an endomorphism of end, the endomorphisms of N\n",
    "#\n",
    "endoproduct (e:(:W) (:Z)) :  (e:(:X))  (e:(:Y))"
   ]
  },
  {
   "cell_type": "code",
   "execution_count": 55,
   "id": "09ddf20c-1d5a-420a-aeec-7dba235fb9d6",
   "metadata": {},
   "outputs": [
    {
     "name": "stdout",
     "output_type": "stream",
     "text": [
      "(e:(:prod (:W) (:X)) (:prod (:W) (:Y)))"
     ]
    }
   ],
   "source": [
    "{put e : ap {:prod (get e:A) B} A : get e : B} (e:(:W)) : (e:(:X))  (e:(:Y))"
   ]
  },
  {
   "cell_type": "markdown",
   "id": "98c51265-02fa-409b-886b-314567a4c918",
   "metadata": {},
   "source": [
    "We've seen that **end** is a (non-distributive) space.  The data of **end** are atoms (e:...) where ... is an endomorphism in the sense of the previous notebook.  This means that we need an extra **apply** to apply the contents of some (e:...) to and element of N to get a result.  "
   ]
  },
  {
   "cell_type": "code",
   "execution_count": null,
   "id": "d46bb3f8-d55d-4e7f-83eb-fc454c064e0a",
   "metadata": {},
   "outputs": [],
   "source": []
  },
  {
   "cell_type": "code",
   "execution_count": null,
   "id": "30e8ffb5-daa0-4193-99bc-7edef87ce691",
   "metadata": {},
   "outputs": [],
   "source": []
  },
  {
   "cell_type": "code",
   "execution_count": null,
   "id": "8769a522-8f60-4104-90d2-8054bcc1ce5f",
   "metadata": {},
   "outputs": [],
   "source": []
  }
 ],
 "metadata": {
  "kernelspec": {
   "display_name": "coda",
   "language": "",
   "name": "coda"
  },
  "language_info": {
   "file_extension": ".co",
   "mimetype": "text/plain",
   "name": "Any text"
  }
 },
 "nbformat": 4,
 "nbformat_minor": 5
}
