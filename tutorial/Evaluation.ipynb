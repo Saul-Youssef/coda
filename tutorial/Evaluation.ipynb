{
 "cells": [
  {
   "cell_type": "markdown",
   "id": "b111e744-7326-4abb-bde3-73810d76875a",
   "metadata": {},
   "source": [
    "## Multiprocessing\n",
    "\n",
    "Multiprocessing works by replacing **eval** with **multi** provided that the inputs are all **with**.  Each with is evaluated with a new context as usual. **multi** differs only in that the separate inputs are evaluated in separate processes.  "
   ]
  },
  {
   "cell_type": "code",
   "execution_count": 1,
   "id": "39d55d2e-1889-4e92-a77b-14c4e3d6fe37",
   "metadata": {},
   "outputs": [
    {
     "name": "stdout",
     "output_type": "stream",
     "text": [
      "c b a"
     ]
    }
   ],
   "source": [
    "rev : a b c "
   ]
  },
  {
   "cell_type": "code",
   "execution_count": 2,
   "id": "6bd70c21-39de-44c1-8fdc-13adce0bb5b5",
   "metadata": {},
   "outputs": [
    {
     "name": "stdout",
     "output_type": "stream",
     "text": [
      "(with:0 1 2 3 4 5 6 7 8 (nat:9)) (with:0 1 2 3 4 5 6 7 8 (nat:9))"
     ]
    }
   ],
   "source": [
    "eval 10 : (with:nat:0) (with:nat:0)"
   ]
  },
  {
   "cell_type": "code",
   "execution_count": 3,
   "id": "ff732a4d-e2bc-4855-baa4-511490238692",
   "metadata": {},
   "outputs": [
    {
     "name": "stdout",
     "output_type": "stream",
     "text": [
      "(with:0 1 2 3 4 5 6 7 8 (nat:9)) (with:0 1 2 3 4 5 6 7 8 (nat:9))"
     ]
    }
   ],
   "source": [
    "multi 10 : (with:nat:0) (with:nat:0)"
   ]
  },
  {
   "cell_type": "code",
   "execution_count": 4,
   "id": "d85d6f27-1434-42a5-983d-ecf7fbe77cf2",
   "metadata": {},
   "outputs": [
    {
     "name": "stdout",
     "output_type": "stream",
     "text": [
      "(with:0 1 2 3 4 5 6 7 8 9 10 11 12 13 14 15 16 17 18 19 20 21 22 23 24 25 26 27 28 29 30 31 32 33 34 35 36 37 38 39 40 41 42 43 44 45 46 47 48 49 50 51 52 53 54 55 56 57 58 59 60 61 62 63 64 65 66 67 68 69 70 71 72 73 74 75 76 77 78 79 80 81 82 83 84 85 86 87 88 89 90 91 92 93 94 95 96 97 98 (nat:99)) (with:0 1 2 3 4 5 6 7 8 9 10 11 12 13 14 15 16 17 18 19 20 21 22 23 24 25 26 27 28 29 30 31 32 33 34 35 36 37 38 39 40 41 42 43 44 45 46 47 48 49 50 51 52 53 54 55 56 57 58 59 60 61 62 63 64 65 66 67 68 69 70 71 72 73 74 75 76 77 78 79 80 81 82 83 84 85 86 87 88 89 90 91 92 93 94 95 96 97 98 (nat:99))"
     ]
    }
   ],
   "source": [
    "multi 100 : (with:nat:0) (with:nat:0)"
   ]
  },
  {
   "cell_type": "code",
   "execution_count": null,
   "id": "114d573d-47d2-433f-a824-2143c6b385cb",
   "metadata": {},
   "outputs": [],
   "source": []
  }
 ],
 "metadata": {
  "kernelspec": {
   "display_name": "coda",
   "language": "",
   "name": "coda"
  },
  "language_info": {
   "file_extension": ".co",
   "mimetype": "text/plain",
   "name": "Any text"
  }
 },
 "nbformat": 4,
 "nbformat_minor": 5
}
