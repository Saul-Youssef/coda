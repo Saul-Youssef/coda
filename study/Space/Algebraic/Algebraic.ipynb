{
 "cells": [
  {
   "cell_type": "markdown",
   "id": "6d1c1948-6728-437b-b780-dcc413668b5a",
   "metadata": {},
   "source": [
    "We can search for *Algebraic* spaces and for *Algebraic data* (i.e. Mathematical data) related to some given space.  \n",
    "\n",
    "There is a big picture idea to realize.  The whole system that we are talking about, with all it's variation and subtlety is based on only one foundational concept: the finite sequence.  That means that if we find data A where A:X is independent of permutations of X, we have defined something with finite sequences that has transcended finite sequencing.  We all this kind of data *algebraic* or *mathematical* data.  \n",
    "\n",
    "Plan\n",
    "\n",
    "1. Search for algebraic spaces.\n",
    "2. Search for algebraic data related to chosen known spaces.\n"
   ]
  },
  {
   "cell_type": "markdown",
   "id": "d22e9c08-a12d-491a-92b6-aad0a6a4cbee",
   "metadata": {},
   "source": [
    "If U is a space, then \n",
    "\n",
    "1. U:X Y = U : Y X for all X,Y\n",
    "2. U:rev:X = U:X for all X \n",
    "3. U:perm:X = U:X for any permutation perm.\n",
    "\n",
    "are all equivalent. Thus, a search for data U such that U:rev:X = U:X will include all algebraic spaces."
   ]
  },
  {
   "cell_type": "code",
   "execution_count": 4,
   "id": "e3a26d3e-da5b-4173-97ad-13a73ffe74b3",
   "metadata": {},
   "outputs": [
    {
     "name": "stdout",
     "output_type": "stream",
     "text": [
      "(defaultTime:1000)"
     ]
    }
   ],
   "source": [
    "defaultTime:1000"
   ]
  },
  {
   "cell_type": "code",
   "execution_count": 5,
   "id": "0e714ce7-050d-4572-9faa-67b0573e6ead",
   "metadata": {},
   "outputs": [
    {
     "name": "stdout",
     "output_type": "stream",
     "text": []
    }
   ],
   "source": [
    "import : dir co : up : ."
   ]
  },
  {
   "cell_type": "code",
   "execution_count": 6,
   "id": "5016d173-9d3c-47fa-bdf7-5d01e06fbd00",
   "metadata": {},
   "outputs": [
    {
     "name": "stdout",
     "output_type": "stream",
     "text": []
    }
   ],
   "source": [
    "Def algebraic : {(B:rev:x?)=(B:x?)}"
   ]
  },
  {
   "cell_type": "code",
   "execution_count": null,
   "id": "16c08190-8617-497a-9ac9-29641faeba31",
   "metadata": {},
   "outputs": [],
   "source": []
  }
 ],
 "metadata": {
  "kernelspec": {
   "display_name": "coda",
   "language": "",
   "name": "coda"
  },
  "language_info": {
   "file_extension": ".co",
   "mimetype": "text/plain",
   "name": "Any text"
  }
 },
 "nbformat": 4,
 "nbformat_minor": 5
}
