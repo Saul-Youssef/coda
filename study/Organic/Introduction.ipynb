{
 "cells": [
  {
   "cell_type": "markdown",
   "id": "716a2eda-0220-40bd-833f-29338cd2dda1",
   "metadata": {},
   "source": [
    "**Core** definitions are those which avoid assuming that natural numbers, integers, floats or text strings are available.  Instead, we want these concepts to emerge organically from primordial pure data.  \n",
    "\n",
    "For instance, **first 3** is data that gets the first three items from a sequence, so that the data \n",
    "\n",
    "* first 3 : a b c d e f g \n",
    "\n",
    "is equal to **a b c**.  The definition assumes that \"3\" is interpreted as a natural numbe and the underlying built-in definition uses the Python integer 3.  The organic version of this is to use \n",
    "\n",
    "* front x x x : a b c d e f g \n",
    "\n",
    "instead.  This also has the value **a b c** but has avoided assuming that natural numbers are defined.  Here **x** can be any atom, for instance **front (:) (:) (:)** is the same.  **front** is actually simpler to define recursively \n",
    "\n",
    "* front a A : b B -> b (front A : B) \n",
    "* front A : B -> () if A or B are empty.\n",
    "\n",
    "which is somewhat intesting.  This process works quite generally, so that we end up with a collection of definitions which don't depend on integers, floats or text operations.  This is the pure combinatoric starting point we want to \"organically grow mathematics\" from scratch without assumptions. "
   ]
  },
  {
   "cell_type": "code",
   "execution_count": 1,
   "id": "a1ebe49e-35b4-4d2d-8d56-e5a59d2a4bec",
   "metadata": {},
   "outputs": [
    {
     "name": "stdout",
     "output_type": "stream",
     "text": [
      "(defaultTime:10)"
     ]
    }
   ],
   "source": [
    "defaultTime:10"
   ]
  },
  {
   "cell_type": "code",
   "execution_count": 2,
   "id": "8025fc39-0a91-478e-bae1-48e0b0711f3d",
   "metadata": {},
   "outputs": [
    {
     "name": "stdout",
     "output_type": "stream",
     "text": [
      "a b c\n",
      "a b c\n",
      "a b c"
     ]
    }
   ],
   "source": [
    "#\n",
    "#   A number of definitions use natural numbers, typically as \n",
    "#   arguments.  For instance, first 3, selects the first 3 items \n",
    "#   from a sequence.\n",
    "#\n",
    "first 3 : a b c d e f g \n",
    "front x x x : a b c d e f g \n",
    "front (:) (:) (:) : a b c d e f g "
   ]
  },
  {
   "cell_type": "code",
   "execution_count": 3,
   "id": "fca9f69d-c691-4aac-a452-752f0e859ad9",
   "metadata": {},
   "outputs": [
    {
     "name": "stdout",
     "output_type": "stream",
     "text": [
      "ai aj ap aq ar arg back bin bool collect common const domain dup ends equal equiv front get grp has hasnt if ints is isnt item ker left nat nats nif null once pass plus post pre prod put rev right some star starts sum while\n",
      "47"
     ]
    }
   ],
   "source": [
    "#\n",
    "#   Core? condations the foundational organic definitions. This excludes, number and \n",
    "#   text definitions, the help system, I/O.  It is meant to be minimal but complete\n",
    "#   in the sense of defining mathematical things. \n",
    "#\n",
    "Core?\n",
    "count : Core?"
   ]
  },
  {
   "cell_type": "markdown",
   "id": "c5298ce9-0700-490b-a0b6-f681c4ab082e",
   "metadata": {},
   "source": [
    "## What mathematical structures naturally emerge from the organic definitions?"
   ]
  },
  {
   "cell_type": "raw",
   "id": "d8089e74-1a81-4f1d-a7e1-09098b8d1ee1",
   "metadata": {},
   "source": []
  },
  {
   "cell_type": "code",
   "execution_count": 4,
   "id": "f69a83ed-1ec2-496e-8901-30bc2424553f",
   "metadata": {},
   "outputs": [
    {
     "name": "stdout",
     "output_type": "stream",
     "text": [
      "1 2 3 x y z"
     ]
    }
   ],
   "source": [
    "starts 1 2 3 x : 1 2 3 x y z"
   ]
  },
  {
   "cell_type": "code",
   "execution_count": 5,
   "id": "24b4976f-e5b5-47a2-a07b-497167595284",
   "metadata": {},
   "outputs": [
    {
     "name": "stdout",
     "output_type": "stream",
     "text": []
    }
   ],
   "source": [
    "starts a x : a b c "
   ]
  },
  {
   "cell_type": "code",
   "execution_count": 6,
   "id": "b241bdc3-1b53-496a-a678-ece8ea01815d",
   "metadata": {},
   "outputs": [
    {
     "name": "stdout",
     "output_type": "stream",
     "text": [
      "a x b x c x"
     ]
    }
   ],
   "source": [
    "ap {B x} : a b c "
   ]
  },
  {
   "cell_type": "code",
   "execution_count": 7,
   "id": "c3860980-8822-43aa-9e49-83707961b36f",
   "metadata": {},
   "outputs": [
    {
     "name": "stdout",
     "output_type": "stream",
     "text": [
      "𝝞"
     ]
    }
   ],
   "source": [
    "domain : xxx"
   ]
  },
  {
   "cell_type": "code",
   "execution_count": null,
   "id": "ec71a24d-f772-4f18-9369-b8df0fe80fe7",
   "metadata": {},
   "outputs": [],
   "source": []
  }
 ],
 "metadata": {
  "kernelspec": {
   "display_name": "coda",
   "language": "",
   "name": "coda"
  },
  "language_info": {
   "file_extension": ".co",
   "mimetype": "text/plain",
   "name": "Any text"
  }
 },
 "nbformat": 4,
 "nbformat_minor": 5
}
