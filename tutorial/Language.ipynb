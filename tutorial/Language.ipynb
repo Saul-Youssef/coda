{
 "cells": [
  {
   "cell_type": "markdown",
   "id": "6c303e90-85f2-4dba-853f-dfa51abbe4a0",
   "metadata": {},
   "source": [
    "## The Language\n",
    "\n",
    "The standard foundations of Mathematics is a **formal theory** consisting of the following. \n",
    "\n",
    "1. Two **alphabets**, one for **special symbols** like \"&forall;\" and \"&exist;\" and another for **variable** names like \"x\", \"y\", \"z\".\n",
    "2. Syntax rules for excluding meaningless sentences like \"∀ x (y:z) ∀ ∀ ∃\", and for defining **free variables** and closed formulas without free variables. \n",
    "3. **Deduction rules** for constructing closed formulas from closed formulas.\n",
    "4. A collection of closed formulas called **axioms**.\n",
    "\n",
    "The axioms are meant to be \"true\" intuitively so that &forall; is supposed to behave like what we think of as \"for all\", etc.  For example, the Zermelo-Fraenkel set theory with the Axiom of Choice (ZFC) has ten axioms.  This is the most often cited foundation of Mathematics meaning that mathematical results should be reducible, in principle, to valid deductions in ZFC. \n",
    "\n",
    "Coda is meant to be an alternative to this as a foundation.  Rather than assuming or using predicate logic syntax, the foundation of Coda is **finite sequence**.  From this, one defines \"pure\" data and coda.  Logic in is then internal, derived and \"2+ valued\", where `()` and `(:)` are the iconic \"true\" and \"false\" valuea and where there are many \"undecided\" data values like `(foo:bar)`.  Coda has only one axiom - it is the axiom that defines what constitutes a valid definition.  The Coda language itself is merely one definition like any other.  This means that we don't need any additional axioms or deduction rules. \n",
    "\n",
    "In Coda, a definition is just a partial function from codas to data.  The Coda language, for instance, is a partial function from coda to data, acting on codas of the form ({...some source code...} A : B) where A and B are any data.  There are essentially only two operations in coda:\n",
    "\n",
    "1. Concatenation of data A and data B, written `A B`.\n",
    "2. Creating a coda from data A and data B, written `A:B`.\n",
    "\n",
    "and the essential idea of the language is to make these two operations specifyable in text string source code ({...some source code...} A : B) and to get programmatic access to the \"A\" data (sometimes called \"argument data\") and the \"B\" data (sometimes called \"input\").  Thus, a sketch of the internal definition is:\n",
    "\n",
    "* `{x : y} A : B` &rightarrow; `({x} A : B) : ({y} A : B)` ..to specify forming a coda from two data \n",
    "* `{x   y} A : B` &rightarrow; `({x} A : B)   ({y} A : B)` ..to specify concatenation of two data \n",
    "* `{A} A : B` &rightarrow; `A` ..to get the \"A part\" of the coda.\n",
    "* `{B} A : B` &rightarrow; `B` ..to get the \"B part\" of the coda.\n",
    "\n",
    "Because the compiler is merely a standard definition, the meaning of the language does not need a special explanation or additional axioms.  We don't even have to define proper syntax.  Coda has the unusual property that all finite sequences of bytes are valid language expressions.  There is no such thing as a syntax error. \n",
    "\n",
    "The full compiler is tiny, easily readable, and can be found in Language.py.  The full compiler and parser is only about 100 lines of Python."
   ]
  },
  {
   "cell_type": "code",
   "execution_count": 1,
   "id": "18c3a276-feb9-4205-9615-c8861cc22f56",
   "metadata": {},
   "outputs": [
    {
     "name": "stdout",
     "output_type": "stream",
     "text": [
      "a b c d e f g"
     ]
    }
   ],
   "source": [
    "#\n",
    "#   Coda uses spaces to denote concatenation and parenthesis to group operations.\n",
    "#   Comment lines must start with # are considered to be comments.\n",
    "#\n",
    "a b (c d) e (f g)"
   ]
  },
  {
   "cell_type": "code",
   "execution_count": 2,
   "id": "089327b3-7318-4b62-9214-0ca0f1b77595",
   "metadata": {},
   "outputs": [
    {
     "name": "stdout",
     "output_type": "stream",
     "text": [
      "3 2 1"
     ]
    }
   ],
   "source": [
    "#\n",
    "#   There are basically two operations: concatenation and colon. here, \n",
    "#   for instance, we reverse the order of 1 2 3 using rev.  This works by first \n",
    "#   creating the coda (rev : 1 2 3).  A definition applies to this coda, which \n",
    "#   results the \"input\" to rev in reverse order 3 2 1.  \n",
    "#\n",
    "rev : 1 2 3 "
   ]
  },
  {
   "cell_type": "code",
   "execution_count": 3,
   "id": "621247e9-81d6-41f0-9833-b6acb8239d8a",
   "metadata": {},
   "outputs": [
    {
     "name": "stdout",
     "output_type": "stream",
     "text": [
      "a b"
     ]
    }
   ],
   "source": [
    "#\n",
    "#   Some \"commands\" like rev have arguments.  first, for example, gets \n",
    "#   the first items from a sequence. \n",
    "#\n",
    "first 2 : a b c d e "
   ]
  },
  {
   "cell_type": "code",
   "execution_count": 4,
   "id": "81bf72d5-31ad-4db3-9011-a72de943512a",
   "metadata": {},
   "outputs": [
    {
     "name": "stdout",
     "output_type": "stream",
     "text": [
      "e d"
     ]
    }
   ],
   "source": [
    "#\n",
    "#   Colons can be combined. The default grouping is from the right.  This is first 2 : (rev : a b c d e).\n",
    "#   (first 2 : rev ) : a b c d e is completely different.  Intuitively, you can think of data flowing \n",
    "#   from the right to the left with a b c d e consumed by rev, and then, the result gets consumed \n",
    "#   by \"first 2:\".\n",
    "#\n",
    "first 2 : rev : a b c d e "
   ]
  },
  {
   "cell_type": "code",
   "execution_count": 5,
   "id": "2bbd88a8-9f33-4414-9f50-dde2697a3db1",
   "metadata": {},
   "outputs": [
    {
     "name": "stdout",
     "output_type": "stream",
     "text": [
      "e d"
     ]
    }
   ],
   "source": [
    "#\n",
    "#   Lines are continued by indentation.\n",
    "#\n",
    "first 2 : rev : a b \n",
    "   c d e"
   ]
  },
  {
   "cell_type": "code",
   "execution_count": 6,
   "id": "18967a58-9362-4a3c-9b67-7adaae9b50aa",
   "metadata": {},
   "outputs": [
    {
     "name": "stdout",
     "output_type": "stream",
     "text": [
      "b a\n",
      "c d e"
     ]
    }
   ],
   "source": [
    "#\n",
    "#   Lines without indentation are the same as (line1) (line2), etc.  \n",
    "#\n",
    "first 2 : rev : a b\n",
    "c d e"
   ]
  },
  {
   "cell_type": "code",
   "execution_count": 7,
   "id": "68edaf1f-9ace-4a1e-8302-98f414fe3db6",
   "metadata": {},
   "outputs": [
    {
     "name": "stdout",
     "output_type": "stream",
     "text": [
      "a b"
     ]
    }
   ],
   "source": [
    "#\n",
    "#   Text in curly braces is interpreted as Coda language expressions.  \"B\" in the language, is a special symbol \n",
    "#   which refers to the \"input\", in this case, the data a b c d e... \n",
    "#\n",
    "{first 2 : B} : a b c d e "
   ]
  },
  {
   "cell_type": "code",
   "execution_count": 8,
   "id": "2ba15323-7e16-448f-9395-a1edcc13b89a",
   "metadata": {},
   "outputs": [
    {
     "name": "stdout",
     "output_type": "stream",
     "text": [
      "1 2 x y 1 2 x y"
     ]
    }
   ],
   "source": [
    "#\n",
    "#   The general language coda is ({...} A : B)  where \"A\" in the language referes to A and \"B\" refers to B.\n",
    "#\n",
    "{A B A B} 1 2 : x y "
   ]
  },
  {
   "cell_type": "code",
   "execution_count": 9,
   "id": "767a86b0-09c2-4f1a-9b19-fb330e1fde82",
   "metadata": {},
   "outputs": [
    {
     "name": "stdout",
     "output_type": "stream",
     "text": [
      "a b"
     ]
    }
   ],
   "source": [
    "#\n",
    "#   So you can do...\n",
    "#\n",
    "{first A : B} 2 : a b c d e "
   ]
  },
  {
   "cell_type": "code",
   "execution_count": 10,
   "id": "2edfc9af-25dd-428f-8291-3dd84df85b10",
   "metadata": {},
   "outputs": [
    {
     "name": "stdout",
     "output_type": "stream",
     "text": [
      "[0] (({{first A : B} 2 }:):({ a b c d e}:))\n",
      "[1] (({{first A : B} 2}:):({a b c d e}:))\n",
      "[2] (({{first A : B}}:) ({2}:):({a}:) ({b c d e}:))\n",
      "[3] (({first A } 2:a ({b}:) ({c d e}:)):({ B} 2:a ({b}:) ({c d e}:)))\n",
      "[4] (({first A} 2:a b ({c}:) ({d e}:)):({B} 2:a b ({c}:) ({d e}:)))\n",
      "[5] (({first} 2:a b c ({d}:) ({e}:)) ({A} 2:a b c ({d}:) ({e}:)):a b c ({d}:) ({e}:))\n",
      "[6] a (first 1:b c d e)\n",
      "[7] a b (first 0:c d e)\n",
      "[8] a b"
     ]
    }
   ],
   "source": [
    "#\n",
    "#   You can use \"step\" to show how this get's evaluated in more detail.  \n",
    "#   Each step below is made by application definitions.  You can see \n",
    "#   that Coda freely mixes data and source code as it computes.  \n",
    "#\n",
    "step : {first A : B} 2 : a b c d e"
   ]
  },
  {
   "cell_type": "code",
   "execution_count": 11,
   "id": "3848d910-f83d-4643-8d83-c091295548b6",
   "metadata": {},
   "outputs": [
    {
     "name": "stdout",
     "output_type": "stream",
     "text": [
      "e d"
     ]
    }
   ],
   "source": [
    "#\n",
    "#   You can use \"def\" to make your own definitions.  This one defines a new \n",
    "#   command \"mydef\" which gets the first n elements from the reversed input. \n",
    "#\n",
    "def mydef : {first A : rev : B} \n",
    "mydef 2 : a b c d e"
   ]
  },
  {
   "cell_type": "code",
   "execution_count": 12,
   "id": "fd4d2b37-9e4e-4a97-9c2c-9b984cafb170",
   "metadata": {},
   "outputs": [
    {
     "name": "stdout",
     "output_type": "stream",
     "text": [
      "(rev:(foo:bar)) 3 2 1"
     ]
    }
   ],
   "source": [
    "#\n",
    "#   Notice how Coda handles \"undecided\" data like (foo:bar) where \n",
    "#   no current definition acts on (foo:...)...\n",
    "#\n",
    "rev : 1 2 3 (foo:bar)"
   ]
  },
  {
   "cell_type": "code",
   "execution_count": 13,
   "id": "0c90b76d-114d-4aca-83db-442e34fb0b60",
   "metadata": {},
   "outputs": [
    {
     "name": "stdout",
     "output_type": "stream",
     "text": [
      "2 1"
     ]
    }
   ],
   "source": [
    "#\n",
    "#   (foo:bar) is treated like a \"variable\", i.e. like something \n",
    "#   that may have a value in the future.  If (foo:bar) gets defined later, \n",
    "#   then (rev:(foo:bar)) 3 2 1 will evaluate to the correct answer while, at the same \n",
    "#   time, current computations will be correct, for instance... \n",
    "#\n",
    "last 2 : rev : 1 2 3 (foo:bar)"
   ]
  },
  {
   "cell_type": "code",
   "execution_count": 14,
   "id": "61971247-f99b-48d6-85cf-a1bbecaf9536",
   "metadata": {},
   "outputs": [
    {
     "name": "stdout",
     "output_type": "stream",
     "text": [
      "0 1 2 3 4 5 6 7 8 9 10 11 12 13 14 15 16 17 18 19 20 21 22 23 24 25 26 27 28 29 30 31 32 33 34 35 36 37 38 39 40 41 42 43 44 45 46 47 48 49 50 51 52 53 54 55 56 57 58 59 60 61 62 63 64 65 66 67 68 69 70 71 72 73 74 75 76 77 78 79 80 81 82 83 84 85 86 87 88 89 90 91 92 93 94 95 96 97 (nat:98)"
     ]
    }
   ],
   "source": [
    "#\n",
    "#    Sequences in Coda are always finite sequences, but this isn't \n",
    "#    a real limitation.  The natural numbers, for instance are embodied by \n",
    "#    a definition (nat:n) -> n (nat:n+1).  This means that (nat:0) will get \n",
    "#    evaluated as necessary.  Although this is finite,  \n",
    "#\n",
    "(nat:0)"
   ]
  },
  {
   "cell_type": "code",
   "execution_count": 15,
   "id": "2deebc24-da8a-4e9b-9f91-f533f179d4f9",
   "metadata": {},
   "outputs": [
    {
     "name": "stdout",
     "output_type": "stream",
     "text": [
      "(rev:(nat:96)) (rev:95) 94 93 92 91 90 89 88 87 86 85 84 83 82 81 80 79 78 77 76 75 74 73 72 71 70 69 68 67 66 65 64 63 62 61 60 59 58 57 56 55 54 53 52 51 50 49 48 47 46 45 44 43 42 41 40 39 38 37 36 35 34 33 32 31 30 29 28 27 26 25 24 23 22 21 20 19 18 17 16 15 14 13 12 11 10 9 8 7 6 5 4 3 2 1 0"
     ]
    }
   ],
   "source": [
    "#\n",
    "#    What's the \"reverse of the natural numbers?\".  Let's see... \n",
    "#\n",
    "rev : nat : 0"
   ]
  },
  {
   "cell_type": "code",
   "execution_count": 16,
   "id": "5dae37ba-11a4-4923-ab1a-ce06f3b17f9c",
   "metadata": {},
   "outputs": [
    {
     "name": "stdout",
     "output_type": "stream",
     "text": [
      "0 1 2 3 4 5 6 7 8 9 10 11 12 13 14 15 16 17 18 19 20 21 22 23 24 25 26 27 28 29 30 31 32 33 34 35 36 37 38 39 40 41 42 43 44 45 46 47 48 49 50 51 52 53 54 55 56 57 58 59 60 61 62 63 64 65 66 67 68 69 70 71 72 73 74 75 76 77 78 79 80 81 82 83 84 85 86 87 88 89 90 91 (rev:(rev:92)) (rev:(rev:(nat:93)))"
     ]
    }
   ],
   "source": [
    "#\n",
    "#...And, for example, you can reverse twice to get the original natural numbers back.\n",
    "#\n",
    "rev : rev : nat : 0 "
   ]
  },
  {
   "cell_type": "code",
   "execution_count": 17,
   "id": "430be65b-4fdc-4fb9-8592-787cc8175297",
   "metadata": {},
   "outputs": [
    {
     "name": "stdout",
     "output_type": "stream",
     "text": [
      "0"
     ]
    }
   ],
   "source": [
    "#\n",
    "#   Notice, that, as expected, the \"first element of the reverse of the \n",
    "#   natural numbers\" is not defined.  Yet, the last element is perfectly OK.\n",
    "#\n",
    "last : rev : nat : 0 "
   ]
  },
  {
   "cell_type": "code",
   "execution_count": 18,
   "id": "f88b8497-164c-4ad5-838c-1919de28b674",
   "metadata": {
    "tags": []
   },
   "outputs": [
    {
     "name": "stdout",
     "output_type": "stream",
     "text": [
      "\u001b[;1mcode:\u001b[0m\n",
      "    \u001b[34;7mfirst\u001b[0m\n",
      "\u001b[;1mmodule:\u001b[0m\n",
      "    Sequence\n",
      "\u001b[;1msummary:\u001b[0m\n",
      "    Gets the A-specified leading items from input data.\n",
      "\u001b[;1mdescription:\u001b[0m\n",
      "    first   : B -> (first 1:B)\n",
      "    first 0 : B -> ()\n",
      "    first n : L R -> L (first n-1 : R) L is atom\n",
      "\u001b[;1mpath:\u001b[0m\n",
      "    /Users/youssef/coda/py/Sequence.py\n",
      "\u001b[;1mdemos:\u001b[0m\n",
      "    1. \u001b[35;4mfirst : a b c\u001b[0m\n",
      "    2. \u001b[35;4mfirst 1 : a b c\u001b[0m\n",
      "    3. \u001b[35;4mfirst 2 : a b c\u001b[0m\n",
      "    4. \u001b[35;4m{first 3:B} : {first 2:B} : 1 2 3 4 5\u001b[0m\n",
      "    5. \u001b[35;4mfirst 3 : first 2 : 1 2 3 4 5\u001b[0m\n"
     ]
    }
   ],
   "source": [
    "#\n",
    "#   defs: produces a list of current definitions in context and \n",
    "#   help : first, etc. gives help information and demos which \n",
    "#   you can execute by hand or via the \"demo\" command.\n",
    "#\n",
    "help : first"
   ]
  },
  {
   "cell_type": "code",
   "execution_count": 19,
   "id": "2f8a6b0d-98e2-4a3e-aec1-68d7f7de1fcf",
   "metadata": {},
   "outputs": [
    {
     "name": "stdout",
     "output_type": "stream",
     "text": [
      "1 2"
     ]
    }
   ],
   "source": [
    "demo 4 : first "
   ]
  },
  {
   "cell_type": "markdown",
   "id": "b3a3bd7c-9505-4dde-bd8a-593e9d26bb32",
   "metadata": {},
   "source": [
    "### Combinatorics \n",
    "\n",
    "Any system of reasoning must contain undefined terms.  In the case of Coda, the **finite sequence** is the foundational concept that is assumed to be understood without definition.  It's pleasing and expected, then, that the low level operations in Coda are things are the natural low level combinatorial operations on finite sequences.  We've looked at two of these as simple examples:\n",
    "\n",
    "* `rev` reverses the order of a sequence. \n",
    "* `first` gets the first n items of a sequence. \n",
    "\n",
    "Some of the most important operations are combinatorics of the form (name A:B) where A gets used in various combinatoric ways on B.  The most important one of these is called `ap`.  The idea is that something like this \n",
    "\n",
    "* `ap A : b1 b2 b3...bn`\n",
    "\n",
    "is defined to be \"A applied to each b1,...bn\".  It's defined to be (A:b1) (A:b2)...(A:bn).  The actual definition of ap is \n",
    "\n",
    "* `ap A : B C -> (ap A:B) (ap A:C)`\n",
    "* `ap A : B -> (A:B)` if B is an atom \n",
    "* `ap A : () -> ()` \n",
    "\n",
    "which is the same idea, applicable to all \"input\" data (B) and all \"arguments\" (A).  Coda has a collection of these named definitions built into the system.  They are all simple combinations of the three ingredients``(name A : B)`.  These are basic definitions underlying many of the more familiar mathematical objects built on top.  As far as I know, these don't have conventional names, so we are forced into naming them.\n",
    "\n",
    "| coda | schematic result |\n",
    "|------|------------|\n",
    "|  `ap` A:b1 b2 b3  | (A:b1) (A:b2) (A:b3) |\n",
    "|  `app` a1 a2 a3:B | (a1:B) (a2:B) (a3:B) |\n",
    "| `ap2` a a1 a2 a3:B | (a a1:B) (a a2:B) (a a3:B)  |\n",
    "| `aps` A:b1 b2 b3 | (A b1 : (A b2 : (A b3 : b4) ) )  |\n",
    "| `apby` 2 A:b1 b2 b3 b4... | (A:b1 b2) (A:b2 b3)... |\n",
    "| `apif` A:b1 b2... |  (b1..if (A:b1)) (b2..if (A:b2))...| \n",
    "\n",
    "We will do a few examples below.  Each has a help entry and examples which can be run in the notebook or command line.  Although the names are not familiar, they are so simple that an example or two is an effective way to learn them. "
   ]
  },
  {
   "cell_type": "code",
   "execution_count": 20,
   "id": "b3045196-cd46-43de-bf69-dffb23a799c9",
   "metadata": {},
   "outputs": [
    {
     "name": "stdout",
     "output_type": "stream",
     "text": [
      "\u001b[;1mcode:\u001b[0m\n",
      "    \u001b[34;7mhelp\u001b[0m\n",
      "\u001b[;1mmodule:\u001b[0m\n",
      "    Help\n",
      "\u001b[;1msummary:\u001b[0m\n",
      "    import Code\n",
      "\u001b[;1mdescription:\u001b[0m\n",
      "    H = Help(Code.coda2str(I[0]))\n",
      "\u001b[;1mpath:\u001b[0m\n",
      "    /Users/youssef/coda/py/Help.py\n",
      "\u001b[;1mdemos:\u001b[0m\n"
     ]
    }
   ],
   "source": [
    "#\n",
    "#   Each has a help entry with examples.\n",
    "#   You can run the demos by hand or with the demo command. \n",
    "#\n",
    "help : "
   ]
  },
  {
   "cell_type": "code",
   "execution_count": 21,
   "id": "f480f278-df9d-4bc6-b6f7-12280d34c143",
   "metadata": {},
   "outputs": [
    {
     "name": "stdout",
     "output_type": "stream",
     "text": [
      "(foo:1 2 3 4)"
     ]
    }
   ],
   "source": [
    "foo : 1 2 3 4 "
   ]
  },
  {
   "cell_type": "code",
   "execution_count": 22,
   "id": "d330e8f8-afb4-4d7d-bc5b-545fbfac2fa2",
   "metadata": {},
   "outputs": [
    {
     "name": "stdout",
     "output_type": "stream",
     "text": [
      "(foo:a) (foo:b) (foo:c)"
     ]
    }
   ],
   "source": [
    "ap foo : a b c"
   ]
  },
  {
   "cell_type": "code",
   "execution_count": 23,
   "id": "0954eb7e-9d07-45eb-9283-46188c535489",
   "metadata": {},
   "outputs": [
    {
     "name": "stdout",
     "output_type": "stream",
     "text": [
      "(a:1 2 3) (b:1 2 3) (c:1 2 3)"
     ]
    }
   ],
   "source": [
    "app a b c : 1 2 3 "
   ]
  },
  {
   "cell_type": "code",
   "execution_count": 24,
   "id": "359ef56d-9d58-47c7-820e-8d7071fea131",
   "metadata": {},
   "outputs": [
    {
     "name": "stdout",
     "output_type": "stream",
     "text": [
      "(a:1) (b:1) (c:1) (a:2) (b:2) (c:2) (a:3) (b:3) (c:3)"
     ]
    }
   ],
   "source": [
    "ap app a b c : 1 2 3 "
   ]
  },
  {
   "cell_type": "code",
   "execution_count": 25,
   "id": "00322218-0a3d-4f55-8182-e41c7d378fd0",
   "metadata": {},
   "outputs": [
    {
     "name": "stdout",
     "output_type": "stream",
     "text": [
      "(a b:1 2 3) (a c:1 2 3) (a d:1 2 3) (a e:1 2 3)"
     ]
    }
   ],
   "source": [
    "ap2 a b c d e : 1 2 3 "
   ]
  },
  {
   "cell_type": "code",
   "execution_count": 26,
   "id": "427f4317-d66e-4ead-8686-b2b0b5d94043",
   "metadata": {},
   "outputs": [
    {
     "name": "stdout",
     "output_type": "stream",
     "text": [
      "c d"
     ]
    }
   ],
   "source": [
    "ap2 nth1 3 4 : a b c d "
   ]
  },
  {
   "cell_type": "code",
   "execution_count": 27,
   "id": "576f3702-0e94-4585-a384-a9948e7bf08a",
   "metadata": {},
   "outputs": [
    {
     "name": "stdout",
     "output_type": "stream",
     "text": [
      "(a b:1) (a c:1) (a b:2) (a c:2) (a b:3) (a c:3)"
     ]
    }
   ],
   "source": [
    "ap ap2 a b c : 1 2 3 "
   ]
  },
  {
   "cell_type": "code",
   "execution_count": 28,
   "id": "864001a3-8ddc-4fc5-b7b8-ac642e670acc",
   "metadata": {},
   "outputs": [
    {
     "name": "stdout",
     "output_type": "stream",
     "text": [
      "(foo a:(foo b:(foo c:d)))"
     ]
    }
   ],
   "source": [
    "aps foo : a b c d "
   ]
  },
  {
   "cell_type": "code",
   "execution_count": 29,
   "id": "b8700006-0dbe-4156-b89e-940059fa3ac2",
   "metadata": {},
   "outputs": [
    {
     "name": "stdout",
     "output_type": "stream",
     "text": [
      "8"
     ]
    }
   ],
   "source": [
    "#\n",
    "#   aps is typically used to turn a binary associative operation \n",
    "#   into the equivalent operation on a sequence.  So, for instance, \n",
    "#   (int_add A:B) is the low level binary operation adding A and B as \n",
    "#   integers...\n",
    "#\n",
    "int_add 3 : 5"
   ]
  },
  {
   "cell_type": "code",
   "execution_count": 30,
   "id": "afc0e8b0-0ec0-476b-b551-2711023260c4",
   "metadata": {},
   "outputs": [
    {
     "name": "stdout",
     "output_type": "stream",
     "text": [
      "15"
     ]
    }
   ],
   "source": [
    "#\n",
    "#...and aps turns this into a sequence sum of any number of values.\n",
    "#\n",
    "aps int_add : 1 2 3 4 5"
   ]
  },
  {
   "cell_type": "code",
   "execution_count": 31,
   "id": "34dc525e-15e3-40f1-87b3-bc2d3c7698e9",
   "metadata": {},
   "outputs": [
    {
     "name": "stdout",
     "output_type": "stream",
     "text": [
      "(foo:a b) (foo:c d) (foo:e f) (foo:g)"
     ]
    }
   ],
   "source": [
    "apby 2 foo : a b c d e f g"
   ]
  },
  {
   "cell_type": "code",
   "execution_count": 32,
   "id": "15291405-a06c-4415-9def-bf4c16d3f963",
   "metadata": {},
   "outputs": [
    {
     "name": "stdout",
     "output_type": "stream",
     "text": [
      "(bin:a b) (bin:x y)"
     ]
    }
   ],
   "source": [
    "apif {(count:get bin:B)=2} : (bin:a b) (bin:a b c) (bin:x y) (bin:a b c d)"
   ]
  },
  {
   "cell_type": "code",
   "execution_count": 33,
   "id": "3c8ac43d-df89-4c53-b232-8913f357f674",
   "metadata": {
    "tags": []
   },
   "outputs": [
    {
     "name": "stdout",
     "output_type": "stream",
     "text": [
      "\u001b[34;1mapair............\u001b[0mApplication..1..\u001b[35;4mwhile A : B applies A to B until it saturates\u001b[0m\n",
      "\u001b[34;1mker..............\u001b[0mApplication..1..\u001b[35;4mker A is the kernel of A defined by A:X=().\u001b[0m\n",
      "\u001b[34;1mring.............\u001b[0mApplication..1..\u001b[35;4mRing is ap ap2.\u001b[0m\n",
      "\u001b[34;1mwhile............\u001b[0mApplication..1..\u001b[35;4mwhile A : B applies A to B until it saturates\u001b[0m\n",
      "\u001b[34;1map...............\u001b[0mApply........3..\u001b[35;4mApply A to each b in B.\u001b[0m\n",
      "\u001b[34;1map2..............\u001b[0mApply........2..\u001b[35;4mApply A to each b in B.\u001b[0m\n",
      "\u001b[34;1mapby.............\u001b[0mApply........2..\u001b[35;4mApply A to each b in B.\u001b[0m\n",
      "\u001b[34;1mapif.............\u001b[0mApply........3..\u001b[35;4mApply A to each b in B.\u001b[0m\n",
      "\u001b[34;1mapp..............\u001b[0mApply........3..\u001b[35;4mApply A to each b in B.\u001b[0m\n",
      "\u001b[34;1maps..............\u001b[0mApply........3..\u001b[35;4mApply A to each b in B.\u001b[0m\n",
      "\u001b[34;1mreduce...........\u001b[0mApply........2..\u001b[35;4mReduce\u001b[0m\n",
      "\u001b[34;1m*................\u001b[0mBasic........1..\u001b[35;4mStar is syntactic sugar with A*B:X defined to be A:B:X\u001b[0m\n",
      "\u001b[34;1mbin..............\u001b[0mBasic........0..\u001b[35;4mpass : B -> B and null : B -> ()\u001b[0m\n",
      "\u001b[34;1mget..............\u001b[0mBasic........1..\u001b[35;4mhas/hasnt selects, get gets, is/isnt tests\u001b[0m\n",
      "\u001b[34;1mhas..............\u001b[0mBasic........1..\u001b[35;4mhas/hasnt selects, get gets, is/isnt tests\u001b[0m\n",
      "\u001b[34;1mhasnt............\u001b[0mBasic........1..\u001b[35;4mhas/hasnt selects, get gets, is/isnt tests\u001b[0m\n",
      "\u001b[34;1mid...............\u001b[0mBasic........1..\u001b[35;4mhas/hasnt selects, get gets, is/isnt tests\u001b[0m\n",
      "\u001b[34;1mif...............\u001b[0mBasic........2..\u001b[35;4mif and nif return output depending on argument logic.\u001b[0m\n",
      "\u001b[34;1mis...............\u001b[0mBasic........1..\u001b[35;4mhas/hasnt selects, get gets, is/isnt tests\u001b[0m\n",
      "\u001b[34;1misnt.............\u001b[0mBasic........1..\u001b[35;4mhas/hasnt selects, get gets, is/isnt tests\u001b[0m\n",
      "\u001b[34;1mleft.............\u001b[0mBasic........1..\u001b[35;4mhas/hasnt selects, get gets, is/isnt tests\u001b[0m\n",
      "\u001b[34;1mnif..............\u001b[0mBasic........2..\u001b[35;4mif and nif return output depending on argument logic.\u001b[0m\n",
      "\u001b[34;1mnull.............\u001b[0mBasic........1..\u001b[35;4mpass : B -> B and null : B -> ()\u001b[0m\n",
      "\u001b[34;1mpass.............\u001b[0mBasic........1..\u001b[35;4mpass : B -> B and null : B -> ()\u001b[0m\n",
      "\u001b[34;1mput..............\u001b[0mBasic........1..\u001b[35;4mput A : B creates A:B, it \"puts B into A\".\u001b[0m\n",
      "\u001b[34;1mright............\u001b[0mBasic........1..\u001b[35;4mhas/hasnt selects, get gets, is/isnt tests\u001b[0m\n",
      "\u001b[34;1msel..............\u001b[0mBasic........1..\u001b[35;4mhas/hasnt selects, get gets, is/isnt tests\u001b[0m\n",
      "\u001b[34;1mendswith.........\u001b[0mCode.........2..\u001b[35;4mSelects codes that start/end with argument specified pre or post code\u001b[0m\n",
      "\u001b[34;1mjoin.............\u001b[0mCode.........1..\u001b[35;4mJoin codes with argument provided separator.\u001b[0m\n",
      "\u001b[34;1msplit............\u001b[0mCode.........1..\u001b[35;4mJoin codes with argument provided separator.\u001b[0m\n",
      "\u001b[34;1mstartswith.......\u001b[0mCode.........2..\u001b[35;4mSelects codes that start/end with argument specified pre or post code\u001b[0m\n",
      "\u001b[34;1municode..........\u001b[0mCode.........1..\u001b[35;4mDisplay atom, 0-bit and 1-bit in ascii instead of fancy unicode characters\u001b[0m\n",
      "\u001b[34;1mwrap.............\u001b[0mCode.........2..\u001b[35;4mWrap code with a one character prefix and postfix.\u001b[0m\n",
      "\u001b[34;1mcoda.............\u001b[0mCompile......2..\u001b[35;4mcoda compiles input code using the language.\u001b[0m\n",
      "\u001b[34;1mcodx.............\u001b[0mCompile......2..\u001b[35;4mreturn Language.lang(str(BL),data(),data()) + data((domain+A)|BR)\u001b[0m\n",
      "\u001b[34;1mdef..............\u001b[0mDefine.......1..\u001b[35;4mCreate a definition.\u001b[0m\n",
      "\u001b[34;1mlet..............\u001b[0mDefine.......1..\u001b[35;4mVALUES = {}\u001b[0m\n",
      "\u001b[34;1meval.............\u001b[0mEvaluate.....1..\u001b[35;4mevaluate an argument specified number of times\u001b[0m\n",
      "\u001b[34;1mgetDefaultDepth..\u001b[0mEvaluate.....1..\u001b[35;4mShow and set the default evaluation depth\u001b[0m\n",
      "\u001b[34;1msetDefaultDepth..\u001b[0mEvaluate.....1..\u001b[35;4mShow and set the default evaluation depth\u001b[0m\n",
      "\u001b[34;1mstep.............\u001b[0mEvaluate.....2..\u001b[35;4mstep displays step-by-step evaluation of it's input\u001b[0m\n",
      "\u001b[34;1mcache............\u001b[0mHelp.........1..\u001b[35;4mcache returns the cache statistics\u001b[0m\n",
      "\u001b[34;1mdefs.............\u001b[0mHelp.........1..\u001b[35;4mdom = Code.pretty(domain)\u001b[0m\n",
      "\u001b[34;1mdemo.............\u001b[0mHelp.........2..\u001b[35;4mreturn data(colon(data(b'{'+demcode.encode()+b'}'),data()))\u001b[0m\n",
      "\u001b[34;1mhelp.............\u001b[0mHelp.........1..\u001b[35;4mimport Code\u001b[0m\n",
      "\u001b[34;1msource...........\u001b[0mHelp.........2..\u001b[35;4mI,R = B.split()\u001b[0m\n",
      "\u001b[34;1mdir..............\u001b[0mIO...........2..\u001b[35;4mdir selects paths from it's input.  The argument\u001b[0m\n",
      "\u001b[34;1mreadpath.........\u001b[0mIO...........2..\u001b[35;4mBasic local read of all the bytes from a local files\u001b[0m\n",
      "\u001b[34;1mterminal.........\u001b[0mIO...........1..\u001b[35;4mCONTEXT.define('out',out)...rename me\u001b[0m\n",
      "\u001b[34;1mhome.............\u001b[0mImport.......1..\u001b[35;4mThe home directory of the currently running software\u001b[0m\n",
      "\u001b[34;1mhomecontext......\u001b[0mImport.......1..\u001b[35;4mThe startup directory of the currently running software\u001b[0m\n",
      "\u001b[34;1mimport...........\u001b[0mImport.......1..\u001b[35;4mImporting definitions from files\u001b[0m\n",
      "\u001b[34;1mstart............\u001b[0mImport.......1..\u001b[35;4mThe startup directory of the currently running software\u001b[0m\n",
      "\u001b[34;1mstartcontext.....\u001b[0mImport.......1..\u001b[35;4mThe startup directory of the currently running software\u001b[0m\n",
      "\u001b[34;1mlanguage.........\u001b[0mLanguage.....1..\u001b[35;4mThere are no syntax errors.  All byte strings are valid source code.\u001b[0m\n",
      "\u001b[34;1m=................\u001b[0mLogic........3..\u001b[35;4mContext equality (=) and logical complement (not).\u001b[0m\n",
      "\u001b[34;1mand..............\u001b[0mLogic........1..\u001b[35;4mBinary logical operators with standard truth tables\u001b[0m\n",
      "\u001b[34;1mbool.............\u001b[0mLogic........1..\u001b[35;4mContext equality (=) and logical complement (not).\u001b[0m\n",
      "\u001b[34;1mequal............\u001b[0mLogic........3..\u001b[35;4mContext equality (=) and logical complement (not).\u001b[0m\n",
      "\u001b[34;1miff..............\u001b[0mLogic........1..\u001b[35;4mBinary logical operators with standard truth tables\u001b[0m\n",
      "\u001b[34;1mimply............\u001b[0mLogic........1..\u001b[35;4mBinary logical operators with standard truth tables\u001b[0m\n",
      "\u001b[34;1mnand.............\u001b[0mLogic........1..\u001b[35;4mBinary logical operators with standard truth tables\u001b[0m\n",
      "\u001b[34;1mnor..............\u001b[0mLogic........1..\u001b[35;4mBinary logical operators with standard truth tables\u001b[0m\n",
      "\u001b[34;1mnot..............\u001b[0mLogic........1..\u001b[35;4mContext equality (=) and logical complement (not).\u001b[0m\n",
      "\u001b[34;1mor...............\u001b[0mLogic........1..\u001b[35;4mBinary logical operators with standard truth tables\u001b[0m\n",
      "\u001b[34;1mxnor.............\u001b[0mLogic........1..\u001b[35;4mBinary logical operators with standard truth tables\u001b[0m\n",
      "\u001b[34;1mxor..............\u001b[0mLogic........1..\u001b[35;4mBinary logical operators with standard truth tables\u001b[0m\n",
      "\u001b[34;1mcode_add.........\u001b[0mNumber.......2..\u001b[35;4mcode binary operations\u001b[0m\n",
      "\u001b[34;1mcode_max.........\u001b[0mNumber.......2..\u001b[35;4mcode binary operations\u001b[0m\n",
      "\u001b[34;1mcode_min.........\u001b[0mNumber.......2..\u001b[35;4mcode binary operations\u001b[0m\n",
      "\u001b[34;1mcode_sort........\u001b[0mNumber.......2..\u001b[35;4msorting integers or floats\u001b[0m\n",
      "\u001b[34;1mcount............\u001b[0mNumber.......2..\u001b[35;4mMakes a code 1 if the input is a single atom.  Used for counting.\u001b[0m\n",
      "\u001b[34;1mfloat_add........\u001b[0mNumber.......2..\u001b[35;4mFloat binary operations and involutions\u001b[0m\n",
      "\u001b[34;1mfloat_diff.......\u001b[0mNumber.......2..\u001b[35;4mFloat binary operations and involutions\u001b[0m\n",
      "\u001b[34;1mfloat_div........\u001b[0mNumber.......2..\u001b[35;4mFloat binary operations and involutions\u001b[0m\n",
      "\u001b[34;1mfloat_inv........\u001b[0mNumber.......2..\u001b[35;4mInvolutions\u001b[0m\n",
      "\u001b[34;1mfloat_max........\u001b[0mNumber.......2..\u001b[35;4mFloat binary operations and involutions\u001b[0m\n",
      "\u001b[34;1mfloat_min........\u001b[0mNumber.......2..\u001b[35;4mFloat binary operations and involutions\u001b[0m\n",
      "\u001b[34;1mfloat_mult.......\u001b[0mNumber.......2..\u001b[35;4mFloat binary operations and involutions\u001b[0m\n",
      "\u001b[34;1mfloat_sort.......\u001b[0mNumber.......2..\u001b[35;4msorting integers or floats\u001b[0m\n",
      "\u001b[34;1mint_add..........\u001b[0mNumber.......2..\u001b[35;4mInteger binary operations\u001b[0m\n",
      "\u001b[34;1mint_diff.........\u001b[0mNumber.......2..\u001b[35;4mInteger binary operations\u001b[0m\n",
      "\u001b[34;1mint_div..........\u001b[0mNumber.......2..\u001b[35;4mInteger binary operations\u001b[0m\n",
      "\u001b[34;1mint_inv..........\u001b[0mNumber.......2..\u001b[35;4mInvolutions\u001b[0m\n",
      "\u001b[34;1mint_max..........\u001b[0mNumber.......2..\u001b[35;4mInteger binary operations\u001b[0m\n",
      "\u001b[34;1mint_min..........\u001b[0mNumber.......2..\u001b[35;4mInteger binary operations\u001b[0m\n",
      "\u001b[34;1mint_mult.........\u001b[0mNumber.......2..\u001b[35;4mInteger binary operations\u001b[0m\n",
      "\u001b[34;1mint_sort.........\u001b[0mNumber.......2..\u001b[35;4msorting integers or floats\u001b[0m\n",
      "\u001b[34;1mnat..............\u001b[0mNumber.......1..\u001b[35;4mCode version of the natural numbers 0 1 2 3...\u001b[0m\n",
      "\u001b[34;1mone..............\u001b[0mNumber.......1..\u001b[35;4mMakes a code 1 if the input is a single atom.  Used for counting.\u001b[0m\n",
      "\u001b[34;1matoms............\u001b[0mSample.......2..\u001b[35;4mSimple searching\u001b[0m\n",
      "\u001b[34;1mpurewindow.......\u001b[0mSample.......2..\u001b[35;4mSimple searching\u001b[0m\n",
      "\u001b[34;1msamplewindow.....\u001b[0mSample.......2..\u001b[35;4mSimple searching\u001b[0m\n",
      "\u001b[34;1mvariety..........\u001b[0mSample.......1..\u001b[35;4mSimple searching\u001b[0m\n",
      "\u001b[34;1mfirst............\u001b[0mSequence.....4..\u001b[35;4mGets the A-specified leading items from input data.\u001b[0m\n",
      "\u001b[34;1min...............\u001b[0mSequence.....2..\u001b[35;4monce returns input with duplicates removed.\u001b[0m\n",
      "\u001b[34;1mlast.............\u001b[0mSequence.....4..\u001b[35;4mGets the argument-specified last items from input\u001b[0m\n",
      "\u001b[34;1mnth..............\u001b[0mSequence.....1..\u001b[35;4mSelect the n'th items from input.\u001b[0m\n",
      "\u001b[34;1monce.............\u001b[0mSequence.....2..\u001b[35;4monce returns input with duplicates removed.\u001b[0m\n",
      "\u001b[34;1mpost.............\u001b[0mSequence.....1..\u001b[35;4mPre and post avoids parentheses\u001b[0m\n",
      "\u001b[34;1mpre..............\u001b[0mSequence.....1..\u001b[35;4mPre and post avoids parentheses\u001b[0m\n",
      "\u001b[34;1mrep..............\u001b[0mSequence.....2..\u001b[35;4mRepeats the arguments for each input.\u001b[0m\n",
      "\u001b[34;1mrev..............\u001b[0mSequence.....3..\u001b[35;4mReverse the order of it's input sequence.\u001b[0m\n",
      "\u001b[34;1msome.............\u001b[0mSequence.....1..\u001b[35;4msome/none define the coarsest data classification\u001b[0m\n",
      "\u001b[34;1mtail.............\u001b[0mSequence.....3..\u001b[35;4mGet the tail items of a sequence.\u001b[0m\n",
      "\u001b[34;1mallcodes.........\u001b[0mText.........2..\u001b[35;4mA very non-practical data consisting of all codes with input alphabet\u001b[0m\n",
      "\u001b[34;1malphabet.........\u001b[0mText.........1..\u001b[35;4mA standard alphabet\u001b[0m\n",
      "\u001b[34;1mcodes............\u001b[0mText.........2..\u001b[35;4mGet all codes up to argument specified length\u001b[0m\n",
      "\u001b[34;1mpure.............\u001b[0mText.........2..\u001b[35;4mDisplay input in native \"pure\" form.\u001b[0m\n",
      "\u001b[34;1mtheorem..........\u001b[0mTheorem......1..\u001b[35;4mtheorem tests if the argument is a theorem with respect to it's input\u001b[0m\n",
      "\u001b[34;1mvariables........\u001b[0mVariable.....1..\u001b[35;4mGet variables from input\u001b[0m\n",
      "130 ,◎,𝟬,𝝞,language,nat,one,count,int1,nat1,float1,int_add,int_mult,int_diff,int_max,int_min,int_div,float_add,float_mult,float_diff,float_max,float_min,float_div,code_add,code_min,code_max,int_sort,float_sort,code_sort,int_inv,float_inv,pass,null,bin,domain,if,nif,put,has1,get1,left1,right1,sel1,*,readpath,dir,terminal,help,source,demo,cache,defs,some,rev,first,tail,last,rep,nth1,pre,post,once,in,bool,not,=,equal,or,and,nor,xor,nand,xnor,iff,imply,home,start,startcontext,homecontext,setDefaultDepth,getDefaultDepth,step,eval,def,let,ap,app,ap2,aps,apby,apif,reduce,unicode,wrap,startswith,endswith,join,split,coda,codx,codes,alphabet,allcodes,pure,replace,rreplace,with,variables,theorem,atoms,variety,purewindow,samplewindow,nth,import,ring,while,apair_,apair,ker,has,hasnt,get,is,isnt,sel,left,right,id,mydef"
     ]
    }
   ],
   "source": [
    "#\n",
    "#   A few dozen definitions are built into the system and enter via python modules. \n",
    "#   the rest come from .co coda source code files.\n",
    "#\n",
    "defs:"
   ]
  },
  {
   "cell_type": "code",
   "execution_count": 44,
   "id": "e1cf2cce-696b-4cb8-8d8e-b6015f64cada",
   "metadata": {},
   "outputs": [
    {
     "name": "stdout",
     "output_type": "stream",
     "text": [
      "(let x:1 2 3)"
     ]
    }
   ],
   "source": [
    "#\n",
    "#   You can also assign a data values to any undefined coda.  For convenience, \n",
    "#   the compiler takes x? and makes this actually (?:x) to make convenient things that \n",
    "#   look like \"variables\" but are actually codas.  \n",
    "#\n",
    "let x : 1 2 3 "
   ]
  },
  {
   "cell_type": "code",
   "execution_count": 46,
   "id": "18fa03d7-2268-4345-97b1-ed9f229bf409",
   "metadata": {},
   "outputs": [
    {
     "name": "stdout",
     "output_type": "stream",
     "text": [
      "1 2 3"
     ]
    }
   ],
   "source": [
    "x?"
   ]
  },
  {
   "cell_type": "code",
   "execution_count": 36,
   "id": "5c8a316a-f495-46c5-adbf-e8467098c374",
   "metadata": {},
   "outputs": [
    {
     "name": "stdout",
     "output_type": "stream",
     "text": [
      "10"
     ]
    }
   ],
   "source": [
    "setDefaultDepth:10"
   ]
  },
  {
   "cell_type": "code",
   "execution_count": 37,
   "id": "c0ee1ecf-53b5-4022-824a-01b453bdbeef",
   "metadata": {},
   "outputs": [
    {
     "name": "stdout",
     "output_type": "stream",
     "text": [
      "a b"
     ]
    }
   ],
   "source": [
    "first 2 : a b c d"
   ]
  },
  {
   "cell_type": "code",
   "execution_count": 38,
   "id": "4ad7d43b-4627-4aaa-baea-ce6ad5e7bfba",
   "metadata": {},
   "outputs": [
    {
     "name": "stdout",
     "output_type": "stream",
     "text": [
      "[0] (({first 2 }:):({ a b c d}:))\n",
      "[1] (({first 2}:):({a b c d}:))\n",
      "[2] (({first}:) ({2}:):({a}:) ({b c d}:))\n",
      "[3] a (first 1:({b}:) ({c d}:))\n",
      "[4] a b (first 0:({c}:) ({d}:))\n",
      "[5] a b"
     ]
    }
   ],
   "source": [
    "step : first 2 : a b c d "
   ]
  }
 ],
 "metadata": {
  "kernelspec": {
   "display_name": "coda",
   "language": "",
   "name": "coda"
  },
  "language_info": {
   "file_extension": ".co",
   "mimetype": "text/plain",
   "name": "Any text"
  }
 },
 "nbformat": 4,
 "nbformat_minor": 5
}
