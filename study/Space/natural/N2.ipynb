{
 "cells": [
  {
   "cell_type": "code",
   "execution_count": 19,
   "id": "e3758889-e4fb-4e67-b965-f93cb9869714",
   "metadata": {},
   "outputs": [
    {
     "name": "stdout",
     "output_type": "stream",
     "text": [
      "(defaultTime:200)"
     ]
    }
   ],
   "source": [
    "defaultTime:200"
   ]
  },
  {
   "cell_type": "code",
   "execution_count": 2,
   "id": "5596a2de-d4cd-47b5-84c7-d7591d6bed44",
   "metadata": {},
   "outputs": [
    {
     "name": "stdout",
     "output_type": "stream",
     "text": []
    }
   ],
   "source": [
    "import : dir co : up : ."
   ]
  },
  {
   "cell_type": "code",
   "execution_count": 3,
   "id": "62e5e661-7f4a-4b63-ab8f-9ae09476ba5b",
   "metadata": {},
   "outputs": [
    {
     "name": "stdout",
     "output_type": "stream",
     "text": []
    }
   ],
   "source": [
    "Def N : (front | |) * (ap const |) "
   ]
  },
  {
   "cell_type": "code",
   "execution_count": 4,
   "id": "fde9a7ce-2955-445d-a694-9f7d8c17c4cf",
   "metadata": {},
   "outputs": [
    {
     "name": "stdout",
     "output_type": "stream",
     "text": []
    }
   ],
   "source": [
    "N : "
   ]
  },
  {
   "cell_type": "code",
   "execution_count": 5,
   "id": "22ffb40e-2a05-4acf-bd4c-1811667eb8d1",
   "metadata": {},
   "outputs": [
    {
     "name": "stdout",
     "output_type": "stream",
     "text": [
      "| |\n",
      "| |\n",
      "| |"
     ]
    }
   ],
   "source": [
    "N : a b c \n",
    "N : N : a b c \n",
    "N : (N : a) (N : b c) "
   ]
  },
  {
   "cell_type": "code",
   "execution_count": 6,
   "id": "2b72b6a1-8825-484e-b8aa-2c38f9713d2f",
   "metadata": {},
   "outputs": [
    {
     "name": "stdout",
     "output_type": "stream",
     "text": []
    }
   ],
   "source": [
    "Def e : end N "
   ]
  },
  {
   "cell_type": "code",
   "execution_count": 7,
   "id": "61eae9ea-4284-4bcc-a3f6-acfb6eb47138",
   "metadata": {},
   "outputs": [
    {
     "name": "stdout",
     "output_type": "stream",
     "text": [
      "| |"
     ]
    }
   ],
   "source": [
    "(e:pass) : | | | "
   ]
  },
  {
   "cell_type": "code",
   "execution_count": 8,
   "id": "acf8dccd-4886-4c18-8ead-c6d0dc7b6fa9",
   "metadata": {},
   "outputs": [
    {
     "name": "stdout",
     "output_type": "stream",
     "text": []
    }
   ],
   "source": [
    "Let Domain : (:) (:|) (:| |)"
   ]
  },
  {
   "cell_type": "code",
   "execution_count": 9,
   "id": "9ea0b870-f94e-459d-843d-4fad32fe11f8",
   "metadata": {},
   "outputs": [
    {
     "name": "stdout",
     "output_type": "stream",
     "text": [
      "(:◎ ◎ ◎) (:◎ ◎ (:|)) (:◎ ◎ (:| |)) (:◎ (:|) ◎) (:◎ (:|) (:|)) (:◎ (:|) (:| |)) (:◎ (:| |) ◎) (:◎ (:| |) (:|)) (:◎ (:| |) (:| |)) (:(:|) ◎ ◎) (:(:|) ◎ (:|)) (:(:|) ◎ (:| |)) (:(:|) (:|) ◎) (:(:|) (:|) (:|)) (:(:|) (:|) (:| |)) (:(:|) (:| |) ◎) (:(:|) (:| |) (:|)) (:(:|) (:| |) (:| |)) (:(:| |) ◎ ◎) (:(:| |) ◎ (:|)) (:(:| |) ◎ (:| |)) (:(:| |) (:|) ◎) (:(:| |) (:|) (:|)) (:(:| |) (:|) (:| |)) (:(:| |) (:| |) ◎) (:(:| |) (:| |) (:|)) (:(:| |) (:| |) (:| |))"
     ]
    }
   ],
   "source": [
    "permutation 3 : Domain?"
   ]
  },
  {
   "cell_type": "code",
   "execution_count": 10,
   "id": "07f6b642-cff4-4431-acf6-380efbbb0ba1",
   "metadata": {},
   "outputs": [
    {
     "name": "stdout",
     "output_type": "stream",
     "text": []
    }
   ],
   "source": [
    "Def F : {(if (B):(get:nth 1:A)) (if (B=|):(get:nth 2:A)) (if (B=(| |)):(get:nth 3:A))}"
   ]
  },
  {
   "cell_type": "code",
   "execution_count": 11,
   "id": "0646da7a-09cd-407d-a88d-73188520bdab",
   "metadata": {},
   "outputs": [
    {
     "name": "stdout",
     "output_type": "stream",
     "text": [
      "|\n",
      "|\n",
      "| |\n",
      "| |"
     ]
    }
   ],
   "source": [
    "F (:|) (:|) (:| |) : \n",
    "F (:|) (:|) (:| |) : | \n",
    "F (:|) (:|) (:| |) : | |\n",
    "(e:F (:|) (:|) (:| |)) : | | | | | "
   ]
  },
  {
   "cell_type": "code",
   "execution_count": 12,
   "id": "3e074039-8e99-47c5-b492-0083f051d2ea",
   "metadata": {},
   "outputs": [
    {
     "name": "stdout",
     "output_type": "stream",
     "text": []
    }
   ],
   "source": [
    "Let Endomorphisms : ap {:F (get:B)} : permutation 3 : Domain?"
   ]
  },
  {
   "cell_type": "code",
   "execution_count": 13,
   "id": "3867d786-90be-42bc-bf4c-30ad096629dd",
   "metadata": {},
   "outputs": [
    {
     "name": "stdout",
     "output_type": "stream",
     "text": [
      "27"
     ]
    }
   ],
   "source": [
    "count : Endomorphisms?"
   ]
  },
  {
   "cell_type": "code",
   "execution_count": 14,
   "id": "a48b43a6-e7bb-4482-82df-757681f39e76",
   "metadata": {},
   "outputs": [
    {
     "name": "stdout",
     "output_type": "stream",
     "text": [
      " (with F ◎ ◎ ◎:) \n",
      " (with F ◎ ◎ (:|):◎) \n",
      " (with F ◎ ◎ (:| |):) \n",
      " (with F ◎ (:|) ◎:) \n",
      " (with F ◎ (:|) (:|):) \n",
      " (with F ◎ (:|) (:| |):) \n",
      " (with F ◎ (:| |) ◎:◎) \n",
      " (with F ◎ (:| |) (:|):◎) \n",
      " (with F ◎ (:| |) (:| |):) \n",
      " (with F (:|) ◎ ◎:◎) \n",
      " (with F (:|) ◎ (:|):◎) \n",
      " (with F (:|) ◎ (:| |):◎) \n",
      " (with F (:|) (:|) ◎:◎) \n",
      " (with F (:|) (:|) (:|):) \n",
      " (with F (:|) (:|) (:| |):) \n",
      " (with F (:|) (:| |) ◎:◎) \n",
      " (with F (:|) (:| |) (:|):◎) \n",
      " (with F (:|) (:| |) (:| |):◎) \n",
      " (with F (:| |) ◎ ◎:◎) \n",
      " (with F (:| |) ◎ (:|):◎) \n",
      " (with F (:| |) ◎ (:| |):◎) \n",
      " (with F (:| |) (:|) ◎:◎) \n",
      " (with F (:| |) (:|) (:|):◎) \n",
      " (with F (:| |) (:|) (:| |):) \n",
      " (with F (:| |) (:| |) ◎:◎) \n",
      " (with F (:| |) (:| |) (:|):◎) \n",
      " (with F (:| |) (:| |) (:| |):) \n"
     ]
    }
   ],
   "source": [
    "tab : dom 100 : ap {with (get:B) : bool : idempotent (e:get:B) : Domain?} : Endomorphisms?"
   ]
  },
  {
   "cell_type": "code",
   "execution_count": 15,
   "id": "93ebac4c-3814-497f-8797-428d1f7772bb",
   "metadata": {},
   "outputs": [
    {
     "name": "stdout",
     "output_type": "stream",
     "text": []
    }
   ],
   "source": [
    "Let Idempotents : ap {if (right:B):(:arg:B)} : dom 100 : ap {with (get:B) : bool : idempotent (e:get:B) : Domain?} : Endomorphisms?"
   ]
  },
  {
   "cell_type": "code",
   "execution_count": 16,
   "id": "34e56c6f-c1fa-4da5-a960-940511fbd33f",
   "metadata": {},
   "outputs": [
    {
     "name": "stdout",
     "output_type": "stream",
     "text": [
      "10"
     ]
    }
   ],
   "source": [
    "count : Idempotents?"
   ]
  },
  {
   "cell_type": "code",
   "execution_count": 17,
   "id": "20ff6848-bd14-4b6a-bf29-bfb7c4ac6e2b",
   "metadata": {},
   "outputs": [
    {
     "name": "stdout",
     "output_type": "stream",
     "text": [
      " (:F ◎ ◎ ◎) \n",
      " (:F ◎ ◎ (:| |)) \n",
      " (:F ◎ (:|) ◎) \n",
      " (:F ◎ (:|) (:|)) \n",
      " (:F ◎ (:|) (:| |)) \n",
      " (:F ◎ (:| |) (:| |)) \n",
      " (:F (:|) (:|) (:|)) \n",
      " (:F (:|) (:|) (:| |)) \n",
      " (:F (:| |) (:|) (:| |)) \n",
      " (:F (:| |) (:| |) (:| |)) \n"
     ]
    }
   ],
   "source": [
    "tab : Idempotents?"
   ]
  },
  {
   "cell_type": "code",
   "execution_count": 20,
   "id": "2d8d07a7-b370-46a1-af23-435d0bb1c21c",
   "metadata": {},
   "outputs": [
    {
     "name": "stdout",
     "output_type": "stream",
     "text": [
      " (with F ◎ ◎ ◎:) \n",
      " (with F ◎ ◎ (:| |):◎) \n",
      " (with F ◎ (:|) ◎:◎) \n",
      " (with F ◎ (:|) (:|):) \n",
      " (with F ◎ (:|) (:| |):) \n",
      " (with F ◎ (:| |) (:| |):) \n",
      " (with F (:|) (:|) (:|):) \n",
      " (with F (:|) (:|) (:| |):◎) \n",
      " (with F (:| |) (:|) (:| |):◎) \n",
      " (with F (:| |) (:| |) (:| |):) \n"
     ]
    }
   ],
   "source": [
    "tab : dom 200 : ap {with (get:B) : bool : ap preSpace (e:get:B) : permutation 2 : Domain?} : Idempotents?"
   ]
  },
  {
   "cell_type": "code",
   "execution_count": 21,
   "id": "36b3bae6-3ceb-4d0f-863f-df9742857484",
   "metadata": {},
   "outputs": [
    {
     "name": "stdout",
     "output_type": "stream",
     "text": []
    }
   ],
   "source": [
    "Let Spaces : ap {if (right:B):(:arg:B)} : dom 200 : ap {with (get:B) : bool : ap preSpace (e:get:B) : permutation 2 : Domain?} : Idempotents?"
   ]
  },
  {
   "cell_type": "code",
   "execution_count": 23,
   "id": "af7c3ce5-b24e-442c-bffa-d1acf4a9b81a",
   "metadata": {},
   "outputs": [
    {
     "name": "stdout",
     "output_type": "stream",
     "text": [
      "6"
     ]
    }
   ],
   "source": [
    "count : Spaces?"
   ]
  },
  {
   "cell_type": "code",
   "execution_count": 22,
   "id": "e03175c4-1095-45bd-98b3-af32e841513d",
   "metadata": {},
   "outputs": [
    {
     "name": "stdout",
     "output_type": "stream",
     "text": [
      " (:F ◎ ◎ ◎) \n",
      " (:F ◎ (:|) (:|)) \n",
      " (:F ◎ (:|) (:| |)) \n",
      " (:F ◎ (:| |) (:| |)) \n",
      " (:F (:|) (:|) (:|)) \n",
      " (:F (:| |) (:| |) (:| |)) \n"
     ]
    }
   ],
   "source": [
    "tab : Spaces?"
   ]
  }
 ],
 "metadata": {
  "kernelspec": {
   "display_name": "coda",
   "language": "",
   "name": "coda"
  },
  "language_info": {
   "file_extension": ".co",
   "mimetype": "text/plain",
   "name": "Any text"
  }
 },
 "nbformat": 4,
 "nbformat_minor": 5
}
