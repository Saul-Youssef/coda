{
 "cells": [
  {
   "cell_type": "code",
   "execution_count": 1,
   "id": "530cae02-26a7-4fa3-bba7-f34e02b1b65a",
   "metadata": {},
   "outputs": [
    {
     "name": "stdout",
     "output_type": "stream",
     "text": []
    }
   ],
   "source": [
    "#\n",
    "#   Prepare some samples for testing purposes \n",
    "#   \n",
    "#   S1: hydrogen atoms\n",
    "#   S2: more general atoms mix \n",
    "#   S3: pure data mix\n",
    "#   S4: mix with operators and language.\n",
    "#\n",
    "Let S1 : sample.atom : 5\n",
    "Let S2 : permutation 2 : (:) a b 0 1 \n",
    "Let S3 : sample.pure : 2 2 \n",
    "Let S4 : sample.data <A> <B> <{$}> 0 1 a b (defs:Basic) : 2 2 \n",
    "#\n",
    "#   A is nilpotent if A:B=() for any B, i.e. if (A:B) is always true. \n",
    "#\n",
    "Def nilpotent : {A:B}\n",
    "#\n",
    "#   Nilpotent A : (:B1) (:B2)... is true if A is nilpotent for all test cases B1, B2,...\n",
    "#\n",
    "Def Nilpotent : count * (ap {nilpotent A : get : B}) "
   ]
  },
  {
   "cell_type": "code",
   "execution_count": 2,
   "id": "ccb0f0e2-e9f1-4cd3-97a4-8a7425da2cca",
   "metadata": {},
   "outputs": [
    {
     "name": "stdout",
     "output_type": "stream",
     "text": [
      "(:◎ ◎) (:◎ a) (:◎ b) (:◎ 0) (:◎ 1) (:a ◎) (:a a) (:a b) (:a 0) (:a 1) (:b ◎) (:b a) (:b b) (:b 0) (:b 1) (:0 ◎) (:0 a) (:0 b) (:0 0) (:0 1) (:1 ◎) (:1 a) (:1 b) (:1 0) (:1 1)"
     ]
    }
   ],
   "source": [
    "S2?"
   ]
  },
  {
   "cell_type": "code",
   "execution_count": 3,
   "id": "f0e5c0b1-2053-47a3-84fa-6b701fd763f9",
   "metadata": {},
   "outputs": [
    {
     "name": "stdout",
     "output_type": "stream",
     "text": [
      "(bin pass:3)\n",
      "(bin null:0)\n",
      "(bin first:1)\n",
      "(bin bin:1)\n",
      "(bin rev:3)\n",
      "(bin rev:0)\n",
      "(bin not:1)"
     ]
    }
   ],
   "source": [
    "#\n",
    "#    Let's try a few tests\n",
    "#\n",
    "put bin pass  : count : nilpotent pass : 1 2 3\n",
    "put bin null  : count : nilpotent null : 1 2 3 \n",
    "put bin first : count : nilpotent first : 1 2 3 \n",
    "put bin bin   : count : nilpotent bin : 1 2 3 \n",
    "put bin rev   : count : nilpotent rev : 1 2 3 \n",
    "put bin rev   : count : nilpotent rev : \n",
    "put bin not   : count : nilpotent not : "
   ]
  },
  {
   "cell_type": "code",
   "execution_count": 4,
   "id": "986f4f41-5817-4ff1-9e03-147b5fc863ed",
   "metadata": {},
   "outputs": [
    {
     "name": "stdout",
     "output_type": "stream",
     "text": [
      "(bin pass:3)\n",
      "(bin null:0)\n",
      "(bin first:1)\n",
      "(bin bin:1)\n",
      "(bin rev:3)\n",
      "(bin rev:0)\n",
      "(bin not:1)"
     ]
    }
   ],
   "source": [
    "#\n",
    "#   To check, let's compute the same thing with Nilpotent and Nilpotent \n",
    "#\n",
    "put bin pass  : Nilpotent pass  : (:1 2 3)\n",
    "put bin null  : Nilpotent null  : (:1 2 3)\n",
    "put bin first : Nilpotent first : (:1 2 3)\n",
    "put bin bin   : Nilpotent bin   : (:1 2 3)\n",
    "put bin rev   : Nilpotent rev   : (:1 2 3)\n",
    "put bin rev   : Nilpotent rev   : (:) \n",
    "put bin not   : Nilpotent not   : (:) (:1 2 3)"
   ]
  },
  {
   "cell_type": "code",
   "execution_count": 5,
   "id": "8e01374d-6ad8-4159-92b8-3390893ceb3f",
   "metadata": {},
   "outputs": [
    {
     "name": "stdout",
     "output_type": "stream",
     "text": []
    }
   ],
   "source": [
    "Def NIL1 : {with B : Nilpotent B : S2?}"
   ]
  },
  {
   "cell_type": "code",
   "execution_count": 6,
   "id": "1285f324-b45f-4030-b657-ac476e4f40c5",
   "metadata": {},
   "outputs": [
    {
     "name": "stdout",
     "output_type": "stream",
     "text": [
      "(with not:0) (with null:0) (with bin:25) (with pass:50)"
     ]
    }
   ],
   "source": [
    "eval : ap NIL1 : not null bin pass "
   ]
  },
  {
   "cell_type": "code",
   "execution_count": 7,
   "id": "967c6956-ab2a-4a0f-8bdb-cb3b7abd2249",
   "metadata": {},
   "outputs": [
    {
     "name": "stdout",
     "output_type": "stream",
     "text": [
      "(with rev:50) (with first:25) (with tail:25) (with last:25) (with skip:25) (with rep:0) (with nth1:0) (with once:45) (with count:25) (with nth:0) (with pre:50) (with post:50)"
     ]
    }
   ],
   "source": [
    "eval : ap NIL1 : defs : Sequence "
   ]
  },
  {
   "cell_type": "code",
   "execution_count": 8,
   "id": "19cc932f-7d72-4bd2-8e1e-68ea1ecf2ea2",
   "metadata": {},
   "outputs": [
    {
     "name": "stdout",
     "output_type": "stream",
     "text": [
      "(with bool:25) (with not:0) (with =:25) (with equal:25) (with or:0) (with and:25) (with nor:25) (with xor:0) (with nand:0) (with xnor:25) (with iff:25) (with imply:25) (with some:50) (with in:25)"
     ]
    }
   ],
   "source": [
    "eval : ap NIL1 : defs : Logic "
   ]
  },
  {
   "cell_type": "code",
   "execution_count": 9,
   "id": "c4f0f880-6cf5-4a6b-a819-24dafc648423",
   "metadata": {},
   "outputs": [
    {
     "name": "stdout",
     "output_type": "stream",
     "text": [
      "(with collect:33) (with equiv:45)"
     ]
    }
   ],
   "source": [
    "eval : ap NIL1 : defs : Collect"
   ]
  },
  {
   "cell_type": "markdown",
   "id": "9d28cc1d-fe7d-4f41-823b-4b5f6818b778",
   "metadata": {},
   "source": [
    "Thus, the potential single command nilpotents are \n",
    "\n",
    "* null\n",
    "* rep\n",
    "* nth\n",
    "* get\n",
    "* nif \n",
    "* has\n",
    "* is\n",
    "* or \n",
    "\n",
    "I've not included nth1 since it's really redundant with nth.  "
   ]
  },
  {
   "cell_type": "code",
   "execution_count": 10,
   "id": "892b640e-f248-4706-815f-e33c458ad287",
   "metadata": {},
   "outputs": [
    {
     "name": "stdout",
     "output_type": "stream",
     "text": []
    }
   ],
   "source": [
    "Def NIL : {with B : Nilpotent B : S1? S3? S4?}"
   ]
  },
  {
   "cell_type": "code",
   "execution_count": 11,
   "id": "3b10a344-d95c-4c9f-9dc7-7c4741ed7c2c",
   "metadata": {},
   "outputs": [
    {
     "name": "stdout",
     "output_type": "stream",
     "text": [
      "(with null:0) (with rep:0) (with nth:0) (with get:57) (with nif:0) (with has:0) (with is:0) (with or:0)"
     ]
    }
   ],
   "source": [
    "eval : ap NIL : null rep nth get nif has is or "
   ]
  },
  {
   "cell_type": "markdown",
   "id": "df4818f8-c90e-4d93-affc-876107b07a24",
   "metadata": {},
   "source": [
    "Thus, *null*, *rep*, *nth*, *nif*, *has*, *is* and *or* are the candidate nilpotents. Indeed, since the test assumes that the arguments are empty: \n",
    "\n",
    "1) **null**: True for any input.\n",
    "2) **rep**: True if it's argument is empty.\n",
    "3) **nth**: True if it's argument is empty.\n",
    "4) **has**: True if it's argument is empty.\n",
    "5) **is**: True if it's argument is empty.\n",
    "6) **or**: Since A is empty, (or A:B) is always true. "
   ]
  },
  {
   "cell_type": "code",
   "execution_count": 12,
   "id": "0583b27d-60bc-4d0f-844d-89e831799975",
   "metadata": {},
   "outputs": [
    {
     "name": "stdout",
     "output_type": "stream",
     "text": []
    }
   ],
   "source": [
    "Def NIL+ : {with B: Nilpotent B : S2? (:nat:0)} "
   ]
  },
  {
   "cell_type": "code",
   "execution_count": 13,
   "id": "0de9cb1c-05f1-4319-9ee9-31a10df36a92",
   "metadata": {},
   "outputs": [
    {
     "name": "stdout",
     "output_type": "stream",
     "text": [
      "(with null:0) (with rep:(count rep:(rep:187 188 189 190 191 192 193 194 (nat:195)))) (with nth:0) (with get:(count get:(get:(nat:195)))) (with nif:0) (with has:(count has:(if (not:(ax {not:A=B}:𝝞)):184) (if (not:(ap ({ax}:) ({{not:A=B}}:):𝝞)):185) (if (* (bin not:({ap}:) ({ax {not:A=B}}:)):𝝞 (domain:)):186) (if (in:(domain:187)):187) (if (({in}:188) ({A}:188):(({domain}:188):({B}:188))):188) (if (({in A}:189):({domain:B}:189)):189) (if ({in A:domain:B}:190):190) (({if}:191) ({(in A:domain:B)}:191):191) (({if (in A:domain:B)}:192):({B}:192)) ({if (in A:domain:B):B}:193) (ap {if (in A:domain:B):B}:194) (ap {if (in A:domain:B):B}:(nat:195)))) (with is:(count is:(if (not:(ax {not:A=B}:184)):184) (if (not:(ap ({ax}:) ({{not:A=B}}:):185)):185) (if (* (bin not:({ap}:) ({ax {not:A=B}}:)):186):186) (if (in:187):187) (if (({in}:188) ({A}:188):188):188) (if (({in A}:189):({B}:189)):189) (if ({in A:B}:190):190) (({if}:191) ({(in A:B)}:191):191) (({if (in A:B)}:192):({B}:192)) ({if (in A:B):B}:193) (ap {if (in A:B):B}:194) (ap {if (in A:B):B}:(nat:195)))) (with or:0)"
     ]
    }
   ],
   "source": [
    "eval 200 : ap NIL+ : null rep nth get nif has is or "
   ]
  },
  {
   "cell_type": "code",
   "execution_count": null,
   "id": "a5706e1a-c3e2-4c2e-bcb5-5d52b0e591af",
   "metadata": {},
   "outputs": [],
   "source": []
  },
  {
   "cell_type": "code",
   "execution_count": null,
   "id": "81d33654-5fcf-473c-b4c4-746d3add3c88",
   "metadata": {},
   "outputs": [],
   "source": []
  }
 ],
 "metadata": {
  "kernelspec": {
   "display_name": "coda",
   "language": "",
   "name": "coda"
  },
  "language_info": {
   "file_extension": ".co",
   "mimetype": "text/plain",
   "name": "Any text"
  }
 },
 "nbformat": 4,
 "nbformat_minor": 5
}
