{
 "cells": [
  {
   "cell_type": "code",
   "execution_count": 2,
   "id": "ef1d1185-9a43-4551-9368-df15b3785351",
   "metadata": {},
   "outputs": [],
   "source": [
    "from base import *"
   ]
  },
  {
   "cell_type": "code",
   "execution_count": 11,
   "id": "03311775-c241-4e6f-9076-bf50e340cc34",
   "metadata": {},
   "outputs": [],
   "source": [
    "z = data()"
   ]
  },
  {
   "cell_type": "code",
   "execution_count": 13,
   "id": "aef2f639-688e-4a50-b500-983bfd1df616",
   "metadata": {},
   "outputs": [],
   "source": [
    "atom = z|z"
   ]
  },
  {
   "cell_type": "code",
   "execution_count": 14,
   "id": "ccc06e38-1076-450e-baf9-2f11e38b5f29",
   "metadata": {},
   "outputs": [],
   "source": [
    "atomd = data(atom)"
   ]
  },
  {
   "cell_type": "code",
   "execution_count": 17,
   "id": "e75087dc-8fb0-4a7a-a274-f49b72336fc0",
   "metadata": {},
   "outputs": [
    {
     "data": {
      "text/plain": [
       "'◎'"
      ]
     },
     "execution_count": 17,
     "metadata": {},
     "output_type": "execute_result"
    }
   ],
   "source": [
    "str(atom)"
   ]
  },
  {
   "cell_type": "code",
   "execution_count": 18,
   "id": "c2c507f9-795e-46b7-866a-27a802106e56",
   "metadata": {},
   "outputs": [
    {
     "data": {
      "text/plain": [
       "'◎'"
      ]
     },
     "execution_count": 18,
     "metadata": {},
     "output_type": "execute_result"
    }
   ],
   "source": [
    "str(atomd)"
   ]
  },
  {
   "cell_type": "code",
   "execution_count": 19,
   "id": "ae165474-98e6-4b38-b535-ded4faeb3076",
   "metadata": {},
   "outputs": [
    {
     "data": {
      "text/plain": [
       "'(:)'"
      ]
     },
     "execution_count": 19,
     "metadata": {},
     "output_type": "execute_result"
    }
   ],
   "source": [
    "repr(atom)"
   ]
  },
  {
   "cell_type": "code",
   "execution_count": 23,
   "id": "0c04567d-acef-4da5-aaf4-744e4e91ed24",
   "metadata": {},
   "outputs": [
    {
     "data": {
      "text/plain": [
       "'◎'"
      ]
     },
     "execution_count": 23,
     "metadata": {},
     "output_type": "execute_result"
    }
   ],
   "source": [
    "str(atom)"
   ]
  },
  {
   "cell_type": "code",
   "execution_count": null,
   "id": "2a7f16d3-65ad-47d1-8d9e-0fd278a32de8",
   "metadata": {},
   "outputs": [],
   "source": []
  }
 ],
 "metadata": {
  "kernelspec": {
   "display_name": "Python 3 (ipykernel)",
   "language": "python",
   "name": "python3"
  },
  "language_info": {
   "codemirror_mode": {
    "name": "ipython",
    "version": 3
   },
   "file_extension": ".py",
   "mimetype": "text/x-python",
   "name": "python",
   "nbconvert_exporter": "python",
   "pygments_lexer": "ipython3",
   "version": "3.10.7"
  }
 },
 "nbformat": 4,
 "nbformat_minor": 5
}
