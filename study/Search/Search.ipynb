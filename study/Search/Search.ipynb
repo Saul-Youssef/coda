{
 "cells": [
  {
   "cell_type": "markdown",
   "id": "a6e294ae-1355-409d-abed-03c4647b3998",
   "metadata": {},
   "source": [
    "## Search\n",
    "\n",
    "1. Data is a finite sequence of codas.\n",
    "2. A coda is a pair of data. \n",
    "\n",
    "This defines and countably infinite universe of data.  We can consider cutting these off at some maximum depth or width.  This could be consistently implemented by defining the \"outer crust\" to be atomic or by mapping them all to empty data.  All sorts of interesting questions arise."
   ]
  },
  {
   "cell_type": "code",
   "execution_count": 1,
   "id": "1fa818ad-bbd0-464e-ad9c-125d833c440e",
   "metadata": {},
   "outputs": [],
   "source": [
    "import itertools\n",
    "import Search\n",
    "\n",
    "def f(depth,width): \n",
    "    U = Search.alldata(depth,width)\n",
    "    print(depth,width,'->',len(U),len(set(U)))"
   ]
  },
  {
   "cell_type": "code",
   "execution_count": 2,
   "id": "c48846dd-171f-4c50-a3db-cecdf89cefb6",
   "metadata": {},
   "outputs": [
    {
     "name": "stdout",
     "output_type": "stream",
     "text": [
      "5 1 -> 458330 458330\n"
     ]
    }
   ],
   "source": [
    "f(5,1)"
   ]
  },
  {
   "cell_type": "markdown",
   "id": "4a42f128-f725-474e-ac88-1d8bd694e7dd",
   "metadata": {},
   "source": [
    "### Data sample sizes width (horizontal) vs depth (vertical)\n",
    "\n",
    "| width:   |    1    |    2   |    3   |    4    |    5     |\n",
    "|---------:|--------:|-------:|-------:|--------:|---------:|\n",
    "| depth  1      |    2    |   3    |   4     |    5     |  6  |\n",
    "| depth  2      |    5    |  91    | 4369   | 406901  |    |\n",
    "| depth  3      |   26    | 68583243     |        |         |   |\n",
    "| depth  4      |  677    |        |        |         |    |\n",
    "| depth  5      | 458330  |        |        |         |    |\n",
    "\n",
    " "
   ]
  },
  {
   "cell_type": "code",
   "execution_count": 3,
   "id": "e2372d76-45cc-43a8-b202-8b75974e49a2",
   "metadata": {
    "tags": []
   },
   "outputs": [
    {
     "name": "stdout",
     "output_type": "stream",
     "text": [
      "1 <-  0 0\n",
      "2 <- (:) 1 1\n",
      "3 <- (:(:)) 1 2\n",
      "4 <- (:(:)(:)) 1 2\n",
      "5 <- ((:):) 1 2\n",
      "6 <- ((:):(:)) 1 2\n",
      "7 <- ((:):(:)(:)) 1 2\n",
      "8 <- ((:)(:):) 1 2\n",
      "9 <- ((:)(:):(:)) 1 2\n",
      "10 <- ((:)(:):(:)(:)) 1 2\n",
      "11 <- (:)(:) 2 1\n",
      "12 <- (:)(:(:)) 2 2\n",
      "13 <- (:)(:(:)(:)) 2 2\n",
      "14 <- (:)((:):) 2 2\n",
      "15 <- (:)((:):(:)) 2 2\n",
      "16 <- (:)((:):(:)(:)) 2 2\n",
      "17 <- (:)((:)(:):) 2 2\n",
      "18 <- (:)((:)(:):(:)) 2 2\n",
      "19 <- (:)((:)(:):(:)(:)) 2 2\n",
      "20 <- (:(:))(:) 2 2\n",
      "21 <- (:(:))(:(:)) 2 2\n",
      "22 <- (:(:))(:(:)(:)) 2 2\n",
      "23 <- (:(:))((:):) 2 2\n",
      "24 <- (:(:))((:):(:)) 2 2\n",
      "25 <- (:(:))((:):(:)(:)) 2 2\n",
      "26 <- (:(:))((:)(:):) 2 2\n",
      "27 <- (:(:))((:)(:):(:)) 2 2\n",
      "28 <- (:(:))((:)(:):(:)(:)) 2 2\n",
      "29 <- (:(:)(:))(:) 2 2\n",
      "30 <- (:(:)(:))(:(:)) 2 2\n",
      "31 <- (:(:)(:))(:(:)(:)) 2 2\n",
      "32 <- (:(:)(:))((:):) 2 2\n",
      "33 <- (:(:)(:))((:):(:)) 2 2\n",
      "34 <- (:(:)(:))((:):(:)(:)) 2 2\n",
      "35 <- (:(:)(:))((:)(:):) 2 2\n",
      "36 <- (:(:)(:))((:)(:):(:)) 2 2\n",
      "37 <- (:(:)(:))((:)(:):(:)(:)) 2 2\n",
      "38 <- ((:):)(:) 2 2\n",
      "39 <- ((:):)(:(:)) 2 2\n",
      "40 <- ((:):)(:(:)(:)) 2 2\n",
      "41 <- ((:):)((:):) 2 2\n",
      "42 <- ((:):)((:):(:)) 2 2\n",
      "43 <- ((:):)((:):(:)(:)) 2 2\n",
      "44 <- ((:):)((:)(:):) 2 2\n",
      "45 <- ((:):)((:)(:):(:)) 2 2\n",
      "46 <- ((:):)((:)(:):(:)(:)) 2 2\n",
      "47 <- ((:):(:))(:) 2 2\n",
      "48 <- ((:):(:))(:(:)) 2 2\n",
      "49 <- ((:):(:))(:(:)(:)) 2 2\n",
      "50 <- ((:):(:))((:):) 2 2\n",
      "51 <- ((:):(:))((:):(:)) 2 2\n",
      "52 <- ((:):(:))((:):(:)(:)) 2 2\n",
      "53 <- ((:):(:))((:)(:):) 2 2\n",
      "54 <- ((:):(:))((:)(:):(:)) 2 2\n",
      "55 <- ((:):(:))((:)(:):(:)(:)) 2 2\n",
      "56 <- ((:):(:)(:))(:) 2 2\n",
      "57 <- ((:):(:)(:))(:(:)) 2 2\n",
      "58 <- ((:):(:)(:))(:(:)(:)) 2 2\n",
      "59 <- ((:):(:)(:))((:):) 2 2\n",
      "60 <- ((:):(:)(:))((:):(:)) 2 2\n",
      "61 <- ((:):(:)(:))((:):(:)(:)) 2 2\n",
      "62 <- ((:):(:)(:))((:)(:):) 2 2\n",
      "63 <- ((:):(:)(:))((:)(:):(:)) 2 2\n",
      "64 <- ((:):(:)(:))((:)(:):(:)(:)) 2 2\n",
      "65 <- ((:)(:):)(:) 2 2\n",
      "66 <- ((:)(:):)(:(:)) 2 2\n",
      "67 <- ((:)(:):)(:(:)(:)) 2 2\n",
      "68 <- ((:)(:):)((:):) 2 2\n",
      "69 <- ((:)(:):)((:):(:)) 2 2\n",
      "70 <- ((:)(:):)((:):(:)(:)) 2 2\n",
      "71 <- ((:)(:):)((:)(:):) 2 2\n",
      "72 <- ((:)(:):)((:)(:):(:)) 2 2\n",
      "73 <- ((:)(:):)((:)(:):(:)(:)) 2 2\n",
      "74 <- ((:)(:):(:))(:) 2 2\n",
      "75 <- ((:)(:):(:))(:(:)) 2 2\n",
      "76 <- ((:)(:):(:))(:(:)(:)) 2 2\n",
      "77 <- ((:)(:):(:))((:):) 2 2\n",
      "78 <- ((:)(:):(:))((:):(:)) 2 2\n",
      "79 <- ((:)(:):(:))((:):(:)(:)) 2 2\n",
      "80 <- ((:)(:):(:))((:)(:):) 2 2\n",
      "81 <- ((:)(:):(:))((:)(:):(:)) 2 2\n",
      "82 <- ((:)(:):(:))((:)(:):(:)(:)) 2 2\n",
      "83 <- ((:)(:):(:)(:))(:) 2 2\n",
      "84 <- ((:)(:):(:)(:))(:(:)) 2 2\n",
      "85 <- ((:)(:):(:)(:))(:(:)(:)) 2 2\n",
      "86 <- ((:)(:):(:)(:))((:):) 2 2\n",
      "87 <- ((:)(:):(:)(:))((:):(:)) 2 2\n",
      "88 <- ((:)(:):(:)(:))((:):(:)(:)) 2 2\n",
      "89 <- ((:)(:):(:)(:))((:)(:):) 2 2\n",
      "90 <- ((:)(:):(:)(:))((:)(:):(:)) 2 2\n",
      "91 <- ((:)(:):(:)(:))((:)(:):(:)(:)) 2 2\n"
     ]
    }
   ],
   "source": [
    "n = 0 \n",
    "for d in Search.alldata(2,2): \n",
    "    n += 1 \n",
    "    print(n,'<-',repr(d),len(d),d.depth())"
   ]
  },
  {
   "cell_type": "code",
   "execution_count": 4,
   "id": "c7011aad-e508-4715-a72c-1f9dfda5be3d",
   "metadata": {},
   "outputs": [
    {
     "data": {
      "text/plain": [
       "4369"
      ]
     },
     "execution_count": 4,
     "metadata": {},
     "output_type": "execute_result"
    }
   ],
   "source": [
    "datas = [d for d in Search.alldata(2,3)]\n",
    "len(datas)"
   ]
  },
  {
   "cell_type": "code",
   "execution_count": 5,
   "id": "2cf4b3a2-5990-4735-b840-8a111be1e5c1",
   "metadata": {},
   "outputs": [
    {
     "name": "stdout",
     "output_type": "stream",
     "text": [
      "1 ... {}\n",
      "2 ... {'never true': 1}\n",
      "3 ... {'never true': 2}\n",
      "4 ... {'never true': 2, 'never false': 1}\n",
      "5 ... {'never true': 2, 'never false': 2}\n",
      "6 ... {'never true': 2, 'never false': 3}\n",
      "7 ... {'never true': 3, 'never false': 3}\n",
      "8 ... {'never true': 4, 'never false': 3}\n",
      "9 ... {'never true': 4, 'never false': 4}\n",
      "10 ... {'never true': 4, 'never false': 5}\n",
      "11 ... {'never true': 4, 'never false': 6}\n",
      "12 ... {'never true': 4, 'never false': 7}\n",
      "13 ... {'never true': 4, 'never false': 8}\n",
      "14 ... {'never true': 4, 'never false': 9}\n",
      "15 ... {'never true': 4, 'never false': 10}\n",
      "16 ... {'never true': 4, 'never false': 11}\n",
      "17 ... {'never true': 4, 'never false': 12}\n",
      "18 ... {'never true': 4, 'never false': 13}\n",
      "19 ... {'never true': 5, 'never false': 13}\n",
      "20 ... {'never true': 6, 'never false': 13}\n",
      "21 ... {'never true': 7, 'never false': 13}\n",
      "22 ... {'never true': 8, 'never false': 13}\n",
      "23 ... {'never true': 9, 'never false': 13}\n",
      "24 ... {'never true': 10, 'never false': 13}\n",
      "25 ... {'never true': 11, 'never false': 13}\n",
      "26 ... {'never true': 12, 'never false': 13}\n",
      "27 ... {'never true': 13, 'never false': 13}\n",
      "28 ... {'never true': 14, 'never false': 13}\n"
     ]
    },
    {
     "ename": "KeyboardInterrupt",
     "evalue": "",
     "output_type": "error",
     "traceback": [
      "\u001b[0;31m---------------------------------------------------------------------------\u001b[0m",
      "\u001b[0;31mKeyboardInterrupt\u001b[0m                         Traceback (most recent call last)",
      "Cell \u001b[0;32mIn[5], line 2\u001b[0m\n\u001b[1;32m      1\u001b[0m I \u001b[38;5;241m=\u001b[39m Search\u001b[38;5;241m.\u001b[39mIdempotents(datas,datas)\n\u001b[0;32m----> 2\u001b[0m \u001b[43mI\u001b[49m\u001b[38;5;241;43m.\u001b[39;49m\u001b[43msearch\u001b[49m\u001b[43m(\u001b[49m\u001b[43m)\u001b[49m\n\u001b[1;32m      3\u001b[0m \u001b[38;5;28mprint\u001b[39m(I)\n",
      "File \u001b[0;32m~/coda/py/Search.py:59\u001b[0m, in \u001b[0;36mIdempotents.search\u001b[0;34m(self)\u001b[0m\n\u001b[1;32m     57\u001b[0m     datas \u001b[38;5;241m=\u001b[39m [\u001b[38;5;28mself\u001b[39m\u001b[38;5;241m.\u001b[39mquery(c,a) \u001b[38;5;28;01mfor\u001b[39;00m a \u001b[38;5;129;01min\u001b[39;00m \u001b[38;5;28mself\u001b[39m\u001b[38;5;241m.\u001b[39m_ambients]\n\u001b[1;32m     58\u001b[0m     \u001b[38;5;28mself\u001b[39m\u001b[38;5;241m.\u001b[39m_result[c] \u001b[38;5;241m=\u001b[39m Status(datas,\u001b[38;5;28mself\u001b[39m\u001b[38;5;241m.\u001b[39m_depth)\u001b[38;5;241m.\u001b[39mresult()\n\u001b[0;32m---> 59\u001b[0m \u001b[38;5;28;01mreturn\u001b[39;00m \u001b[38;5;28mself\u001b[39m\n",
      "File \u001b[0;32m~/coda/py/Search.py:14\u001b[0m, in \u001b[0;36mStatus.result\u001b[0;34m(self)\u001b[0m\n\u001b[1;32m     12\u001b[0m res \u001b[38;5;241m=\u001b[39m Result()\n\u001b[1;32m     13\u001b[0m \u001b[38;5;28;01mfor\u001b[39;00m d \u001b[38;5;129;01min\u001b[39;00m \u001b[38;5;28mself\u001b[39m\u001b[38;5;241m.\u001b[39m_datas:\n\u001b[0;32m---> 14\u001b[0m     D,n \u001b[38;5;241m=\u001b[39m \u001b[43mEvaluate\u001b[49m\u001b[38;5;241;43m.\u001b[39;49m\u001b[43mdepth\u001b[49m\u001b[43m(\u001b[49m\u001b[43md\u001b[49m\u001b[43m,\u001b[49m\u001b[38;5;28;43mself\u001b[39;49m\u001b[38;5;241;43m.\u001b[39;49m\u001b[43m_depth\u001b[49m\u001b[43m)\u001b[49m\n\u001b[1;32m     15\u001b[0m     res\u001b[38;5;241m.\u001b[39mupdate(D)\n\u001b[1;32m     16\u001b[0m     \u001b[38;5;28;01mif\u001b[39;00m res\u001b[38;5;241m.\u001b[39mmixed(): \u001b[38;5;28;01mbreak\u001b[39;00m\n",
      "File \u001b[0;32m~/coda/py/Evaluate.py:12\u001b[0m, in \u001b[0;36mdepth\u001b[0;34m(D, n)\u001b[0m\n\u001b[1;32m     10\u001b[0m D2 \u001b[38;5;241m=\u001b[39m D\u001b[38;5;241m.\u001b[39meval()\n\u001b[1;32m     11\u001b[0m \u001b[38;5;28;01mif\u001b[39;00m D\u001b[38;5;241m==\u001b[39mD2: \u001b[38;5;28;01mreturn\u001b[39;00m D2,n\n\u001b[0;32m---> 12\u001b[0m \u001b[38;5;28;01mreturn\u001b[39;00m \u001b[43mdepth\u001b[49m\u001b[43m(\u001b[49m\u001b[43mD2\u001b[49m\u001b[43m,\u001b[49m\u001b[43mn\u001b[49m\u001b[38;5;241;43m-\u001b[39;49m\u001b[38;5;241;43m1\u001b[39;49m\u001b[43m)\u001b[49m\n",
      "File \u001b[0;32m~/coda/py/Evaluate.py:12\u001b[0m, in \u001b[0;36mdepth\u001b[0;34m(D, n)\u001b[0m\n\u001b[1;32m     10\u001b[0m D2 \u001b[38;5;241m=\u001b[39m D\u001b[38;5;241m.\u001b[39meval()\n\u001b[1;32m     11\u001b[0m \u001b[38;5;28;01mif\u001b[39;00m D\u001b[38;5;241m==\u001b[39mD2: \u001b[38;5;28;01mreturn\u001b[39;00m D2,n\n\u001b[0;32m---> 12\u001b[0m \u001b[38;5;28;01mreturn\u001b[39;00m \u001b[43mdepth\u001b[49m\u001b[43m(\u001b[49m\u001b[43mD2\u001b[49m\u001b[43m,\u001b[49m\u001b[43mn\u001b[49m\u001b[38;5;241;43m-\u001b[39;49m\u001b[38;5;241;43m1\u001b[39;49m\u001b[43m)\u001b[49m\n",
      "    \u001b[0;31m[... skipping similar frames: depth at line 12 (3 times)]\u001b[0m\n",
      "File \u001b[0;32m~/coda/py/Evaluate.py:12\u001b[0m, in \u001b[0;36mdepth\u001b[0;34m(D, n)\u001b[0m\n\u001b[1;32m     10\u001b[0m D2 \u001b[38;5;241m=\u001b[39m D\u001b[38;5;241m.\u001b[39meval()\n\u001b[1;32m     11\u001b[0m \u001b[38;5;28;01mif\u001b[39;00m D\u001b[38;5;241m==\u001b[39mD2: \u001b[38;5;28;01mreturn\u001b[39;00m D2,n\n\u001b[0;32m---> 12\u001b[0m \u001b[38;5;28;01mreturn\u001b[39;00m \u001b[43mdepth\u001b[49m\u001b[43m(\u001b[49m\u001b[43mD2\u001b[49m\u001b[43m,\u001b[49m\u001b[43mn\u001b[49m\u001b[38;5;241;43m-\u001b[39;49m\u001b[38;5;241;43m1\u001b[39;49m\u001b[43m)\u001b[49m\n",
      "File \u001b[0;32m~/coda/py/Evaluate.py:10\u001b[0m, in \u001b[0;36mdepth\u001b[0;34m(D, n)\u001b[0m\n\u001b[1;32m      8\u001b[0m     \u001b[38;5;28;01mreturn\u001b[39;00m D,n\n\u001b[1;32m      9\u001b[0m \u001b[38;5;28;01melse\u001b[39;00m:\n\u001b[0;32m---> 10\u001b[0m     D2 \u001b[38;5;241m=\u001b[39m \u001b[43mD\u001b[49m\u001b[38;5;241;43m.\u001b[39;49m\u001b[43meval\u001b[49m\u001b[43m(\u001b[49m\u001b[43m)\u001b[49m\n\u001b[1;32m     11\u001b[0m     \u001b[38;5;28;01mif\u001b[39;00m D\u001b[38;5;241m==\u001b[39mD2: \u001b[38;5;28;01mreturn\u001b[39;00m D2,n\n\u001b[1;32m     12\u001b[0m     \u001b[38;5;28;01mreturn\u001b[39;00m depth(D2,n\u001b[38;5;241m-\u001b[39m\u001b[38;5;241m1\u001b[39m)\n",
      "File \u001b[0;32m~/coda/py/base.py:70\u001b[0m, in \u001b[0;36mdata.eval\u001b[0;34m(self)\u001b[0m\n\u001b[1;32m     68\u001b[0m R \u001b[38;5;241m=\u001b[39m []\n\u001b[1;32m     69\u001b[0m \u001b[38;5;28;01mfor\u001b[39;00m c \u001b[38;5;129;01min\u001b[39;00m \u001b[38;5;28mself\u001b[39m:\n\u001b[0;32m---> 70\u001b[0m     \u001b[38;5;28;01mfor\u001b[39;00m d \u001b[38;5;129;01min\u001b[39;00m \u001b[43mc\u001b[49m\u001b[38;5;241;43m.\u001b[39;49m\u001b[43meval\u001b[49m\u001b[43m(\u001b[49m\u001b[43m)\u001b[49m: R\u001b[38;5;241m.\u001b[39mappend(d)\n\u001b[1;32m     71\u001b[0m \u001b[38;5;28;01mreturn\u001b[39;00m data(\u001b[38;5;241m*\u001b[39mR)\n",
      "File \u001b[0;32m~/coda/py/base.py:37\u001b[0m, in \u001b[0;36mcoda.eval\u001b[0;34m(self)\u001b[0m\n\u001b[1;32m     36\u001b[0m     \u001b[38;5;28;01mdef\u001b[39;00m \u001b[38;5;21meval\u001b[39m(\u001b[38;5;28mself\u001b[39m): \u001b[38;5;66;03m# self -> data, evaluating recursively\u001b[39;00m\n\u001b[0;32m---> 37\u001b[0m         \u001b[38;5;28;01mif\u001b[39;00m \u001b[38;5;28;43mself\u001b[39;49m\u001b[38;5;241;43m.\u001b[39;49m\u001b[43minvariant\u001b[49m\u001b[43m(\u001b[49m\u001b[43m)\u001b[49m: \u001b[38;5;28;01mreturn\u001b[39;00m data(\u001b[38;5;28mself\u001b[39m)\n\u001b[1;32m     38\u001b[0m \u001b[38;5;66;03m#        if self._invariant : return self\u001b[39;00m\n\u001b[1;32m     39\u001b[0m \u001b[38;5;66;03m#        print('aaaa eval',self.invariant(),self)\u001b[39;00m\n\u001b[1;32m     40\u001b[0m         c \u001b[38;5;241m=\u001b[39m \u001b[38;5;28mself\u001b[39m\u001b[38;5;241m.\u001b[39mleft()\u001b[38;5;241m.\u001b[39meval()\u001b[38;5;241m|\u001b[39m\u001b[38;5;28mself\u001b[39m\u001b[38;5;241m.\u001b[39mright()\u001b[38;5;241m.\u001b[39meval()\n",
      "File \u001b[0;32m~/coda/py/base.py:20\u001b[0m, in \u001b[0;36mcoda.invariant\u001b[0;34m(self)\u001b[0m\n\u001b[1;32m     18\u001b[0m \u001b[38;5;28;01mdef\u001b[39;00m \u001b[38;5;21minvariant\u001b[39m(\u001b[38;5;28mself\u001b[39m):\n\u001b[1;32m     19\u001b[0m     \u001b[38;5;28;01mif\u001b[39;00m \u001b[38;5;28mself\u001b[39m\u001b[38;5;241m.\u001b[39m_invariant: \u001b[38;5;28;01mreturn\u001b[39;00m \u001b[38;5;28;01mTrue\u001b[39;00m\n\u001b[0;32m---> 20\u001b[0m     \u001b[38;5;28mself\u001b[39m\u001b[38;5;241m.\u001b[39m_invariant \u001b[38;5;241m=\u001b[39m \u001b[38;5;28;43mself\u001b[39;49m\u001b[38;5;241;43m.\u001b[39;49m\u001b[43matom\u001b[49m\u001b[43m(\u001b[49m\u001b[43m)\u001b[49m \u001b[38;5;129;01mand\u001b[39;00m \u001b[38;5;28mself\u001b[39m\u001b[38;5;241m.\u001b[39mleft()\u001b[38;5;241m.\u001b[39minvariant() \u001b[38;5;129;01mand\u001b[39;00m \u001b[38;5;28mself\u001b[39m\u001b[38;5;241m.\u001b[39mright()\u001b[38;5;241m.\u001b[39minvariant()\n\u001b[1;32m     21\u001b[0m     \u001b[38;5;28;01mreturn\u001b[39;00m \u001b[38;5;28mself\u001b[39m\u001b[38;5;241m.\u001b[39m_invariant\n",
      "File \u001b[0;32m~/coda/py/base.py:35\u001b[0m, in \u001b[0;36mcoda.atom\u001b[0;34m(self)\u001b[0m\n\u001b[0;32m---> 35\u001b[0m \u001b[38;5;28;01mdef\u001b[39;00m \u001b[38;5;21matom\u001b[39m(\u001b[38;5;28mself\u001b[39m): \u001b[38;5;28;01mreturn\u001b[39;00m \u001b[43mCONTEXT\u001b[49m\u001b[38;5;241;43m.\u001b[39;49m\u001b[43midentity\u001b[49m\u001b[43m(\u001b[49m\u001b[38;5;28;43mself\u001b[39;49m\u001b[43m)\u001b[49m\n",
      "File \u001b[0;32m~/coda/py/base.py:105\u001b[0m, in \u001b[0;36mDefinitions.identity\u001b[0;34m(self, co)\u001b[0m\n\u001b[0;32m--> 105\u001b[0m \u001b[38;5;28;01mdef\u001b[39;00m \u001b[38;5;21midentity\u001b[39m(\u001b[38;5;28mself\u001b[39m,co): \u001b[38;5;28;01mreturn\u001b[39;00m co\u001b[38;5;241m.\u001b[39mdomain() \u001b[38;5;129;01min\u001b[39;00m \u001b[38;5;28mself\u001b[39m\u001b[38;5;241m.\u001b[39m_domain \u001b[38;5;129;01mand\u001b[39;00m \u001b[38;5;28mlen\u001b[39m(\u001b[38;5;28mself\u001b[39m\u001b[38;5;241m.\u001b[39m_domain[\u001b[43mco\u001b[49m\u001b[38;5;241;43m.\u001b[39;49m\u001b[43mdomain\u001b[49m\u001b[43m(\u001b[49m\u001b[43m)\u001b[49m])\u001b[38;5;241m==\u001b[39m\u001b[38;5;241m0\u001b[39m\n",
      "File \u001b[0;32m~/coda/py/base.py:32\u001b[0m, in \u001b[0;36mcoda.domain\u001b[0;34m(self)\u001b[0m\n\u001b[1;32m     30\u001b[0m \u001b[38;5;28;01mdef\u001b[39;00m  \u001b[38;5;21mdomain\u001b[39m (\u001b[38;5;28mself\u001b[39m): \u001b[38;5;66;03m# domain determines the corresponding definition\u001b[39;00m\n\u001b[1;32m     31\u001b[0m     dom \u001b[38;5;241m=\u001b[39m \u001b[38;5;28mself\u001b[39m\u001b[38;5;241m.\u001b[39mleft()\u001b[38;5;241m.\u001b[39msplit()[\u001b[38;5;241m0\u001b[39m]\n\u001b[0;32m---> 32\u001b[0m     \u001b[38;5;28;01mif\u001b[39;00m \u001b[38;5;28;43mstr\u001b[39;49m\u001b[43m(\u001b[49m\u001b[43mdom\u001b[49m\u001b[43m)\u001b[49m\u001b[38;5;241m.\u001b[39mstartswith(\u001b[38;5;124m'\u001b[39m\u001b[38;5;124m{\u001b[39m\u001b[38;5;124m'\u001b[39m) \u001b[38;5;129;01mand\u001b[39;00m \u001b[38;5;28mstr\u001b[39m(dom)\u001b[38;5;241m.\u001b[39mendswith(\u001b[38;5;124m'\u001b[39m\u001b[38;5;124m}\u001b[39m\u001b[38;5;124m'\u001b[39m): \u001b[38;5;28;01mreturn\u001b[39;00m da(\u001b[38;5;124m'\u001b[39m\u001b[38;5;124mlanguage\u001b[39m\u001b[38;5;124m'\u001b[39m)\n\u001b[1;32m     33\u001b[0m     \u001b[38;5;28;01mreturn\u001b[39;00m dom\n",
      "File \u001b[0;32m~/coda/py/base.py:54\u001b[0m, in \u001b[0;36mdata.__str__\u001b[0;34m(self)\u001b[0m\n\u001b[0;32m---> 54\u001b[0m \u001b[38;5;28;01mdef\u001b[39;00m \u001b[38;5;21m__str__\u001b[39m(\u001b[38;5;28mself\u001b[39m): \u001b[38;5;28;01mimport\u001b[39;00m \u001b[38;5;21;01mCode\u001b[39;00m; \u001b[38;5;28;01mreturn\u001b[39;00m \u001b[43mCode\u001b[49m\u001b[38;5;241;43m.\u001b[39;49m\u001b[43mdata2unicode\u001b[49m\u001b[43m(\u001b[49m\u001b[38;5;28;43mself\u001b[39;49m\u001b[43m)\u001b[49m\n",
      "File \u001b[0;32m~/coda/py/Code.py:74\u001b[0m, in \u001b[0;36mdata2unicode\u001b[0;34m(D, sep)\u001b[0m\n\u001b[1;32m     71\u001b[0m \u001b[38;5;66;03m#def text2coda(text): return data(bit1)|data(*[byte2coda(c) for c in text])\u001b[39;00m\n\u001b[1;32m     72\u001b[0m \u001b[38;5;28;01mdef\u001b[39;00m \u001b[38;5;21mtext2coda\u001b[39m(text): \u001b[38;5;28;01mreturn\u001b[39;00m (data(bit1)\u001b[38;5;241m|\u001b[39mdata(\u001b[38;5;241m*\u001b[39m[byte2coda(c) \u001b[38;5;28;01mfor\u001b[39;00m c \u001b[38;5;129;01min\u001b[39;00m text]))\u001b[38;5;241m.\u001b[39m_inv()\n\u001b[0;32m---> 74\u001b[0m \u001b[38;5;28;01mdef\u001b[39;00m \u001b[38;5;21mdata2unicode\u001b[39m(D,sep\u001b[38;5;241m=\u001b[39m\u001b[38;5;124m'\u001b[39m\u001b[38;5;124m \u001b[39m\u001b[38;5;124m'\u001b[39m): \u001b[38;5;28;01mreturn\u001b[39;00m sep\u001b[38;5;241m.\u001b[39mjoin([coda2unicode(c) \u001b[38;5;28;01mfor\u001b[39;00m c \u001b[38;5;129;01min\u001b[39;00m D])\n\u001b[1;32m     75\u001b[0m \u001b[38;5;28;01mdef\u001b[39;00m \u001b[38;5;21mcoda2unicode\u001b[39m(c):\n\u001b[1;32m     76\u001b[0m     \u001b[38;5;28;01mif\u001b[39;00m c \u001b[38;5;129;01min\u001b[39;00m Unicode: \u001b[38;5;28;01mreturn\u001b[39;00m Unicode[c]\n",
      "File \u001b[0;32m~/coda/py/Code.py:74\u001b[0m, in \u001b[0;36m<listcomp>\u001b[0;34m(.0)\u001b[0m\n\u001b[0;32m---> 74\u001b[0m \u001b[38;5;28;01mdef\u001b[39;00m \u001b[38;5;21mdata2unicode\u001b[39m(D,sep\u001b[38;5;241m=\u001b[39m\u001b[38;5;124m'\u001b[39m\u001b[38;5;124m \u001b[39m\u001b[38;5;124m'\u001b[39m): \u001b[38;5;28;01mreturn\u001b[39;00m sep\u001b[38;5;241m.\u001b[39mjoin([\u001b[43mcoda2unicode\u001b[49m\u001b[43m(\u001b[49m\u001b[43mc\u001b[49m\u001b[43m)\u001b[49m \u001b[38;5;28;01mfor\u001b[39;00m c \u001b[38;5;129;01min\u001b[39;00m D])\n",
      "File \u001b[0;32m~/coda/py/Code.py:77\u001b[0m, in \u001b[0;36mcoda2unicode\u001b[0;34m(c)\u001b[0m\n\u001b[1;32m     75\u001b[0m \u001b[38;5;28;01mdef\u001b[39;00m \u001b[38;5;21mcoda2unicode\u001b[39m(c):\n\u001b[1;32m     76\u001b[0m     \u001b[38;5;28;01mif\u001b[39;00m c \u001b[38;5;129;01min\u001b[39;00m Unicode: \u001b[38;5;28;01mreturn\u001b[39;00m Unicode[c]\n\u001b[0;32m---> 77\u001b[0m     \u001b[38;5;28;01mif\u001b[39;00m \u001b[43mc\u001b[49m\u001b[38;5;241;43m.\u001b[39;49m\u001b[43mdomain\u001b[49m\u001b[43m(\u001b[49m\u001b[43m)\u001b[49m \u001b[38;5;129;01min\u001b[39;00m [data(atom),data(bit1),data(bit0)]: \u001b[38;5;28;01mreturn\u001b[39;00m data2unicode(c\u001b[38;5;241m.\u001b[39mright(),\u001b[38;5;124m'\u001b[39m\u001b[38;5;124m'\u001b[39m)\n\u001b[1;32m     78\u001b[0m     \u001b[38;5;28;01mreturn\u001b[39;00m \u001b[38;5;124m'\u001b[39m\u001b[38;5;124m(\u001b[39m\u001b[38;5;124m'\u001b[39m\u001b[38;5;241m+\u001b[39mdata2unicode(c\u001b[38;5;241m.\u001b[39mleft(),\u001b[38;5;124m'\u001b[39m\u001b[38;5;124m \u001b[39m\u001b[38;5;124m'\u001b[39m)\u001b[38;5;241m+\u001b[39m\u001b[38;5;124m'\u001b[39m\u001b[38;5;124m:\u001b[39m\u001b[38;5;124m'\u001b[39m\u001b[38;5;241m+\u001b[39mdata2unicode(c\u001b[38;5;241m.\u001b[39mright(),\u001b[38;5;124m'\u001b[39m\u001b[38;5;124m \u001b[39m\u001b[38;5;124m'\u001b[39m)\u001b[38;5;241m+\u001b[39m\u001b[38;5;124m'\u001b[39m\u001b[38;5;124m)\u001b[39m\u001b[38;5;124m'\u001b[39m\n",
      "File \u001b[0;32m~/coda/py/base.py:31\u001b[0m, in \u001b[0;36mcoda.domain\u001b[0;34m(self)\u001b[0m\n\u001b[1;32m     30\u001b[0m \u001b[38;5;28;01mdef\u001b[39;00m  \u001b[38;5;21mdomain\u001b[39m (\u001b[38;5;28mself\u001b[39m): \u001b[38;5;66;03m# domain determines the corresponding definition\u001b[39;00m\n\u001b[0;32m---> 31\u001b[0m     dom \u001b[38;5;241m=\u001b[39m \u001b[38;5;28;43mself\u001b[39;49m\u001b[38;5;241;43m.\u001b[39;49m\u001b[43mleft\u001b[49m\u001b[43m(\u001b[49m\u001b[43m)\u001b[49m\u001b[38;5;241;43m.\u001b[39;49m\u001b[43msplit\u001b[49m\u001b[43m(\u001b[49m\u001b[43m)\u001b[49m[\u001b[38;5;241m0\u001b[39m]\n\u001b[1;32m     32\u001b[0m     \u001b[38;5;28;01mif\u001b[39;00m \u001b[38;5;28mstr\u001b[39m(dom)\u001b[38;5;241m.\u001b[39mstartswith(\u001b[38;5;124m'\u001b[39m\u001b[38;5;124m{\u001b[39m\u001b[38;5;124m'\u001b[39m) \u001b[38;5;129;01mand\u001b[39;00m \u001b[38;5;28mstr\u001b[39m(dom)\u001b[38;5;241m.\u001b[39mendswith(\u001b[38;5;124m'\u001b[39m\u001b[38;5;124m}\u001b[39m\u001b[38;5;124m'\u001b[39m): \u001b[38;5;28;01mreturn\u001b[39;00m da(\u001b[38;5;124m'\u001b[39m\u001b[38;5;124mlanguage\u001b[39m\u001b[38;5;124m'\u001b[39m)\n\u001b[1;32m     33\u001b[0m     \u001b[38;5;28;01mreturn\u001b[39;00m dom\n",
      "File \u001b[0;32m~/coda/py/base.py:63\u001b[0m, in \u001b[0;36mdata.split\u001b[0;34m(self)\u001b[0m\n\u001b[0;32m---> 63\u001b[0m \u001b[38;5;28;01mdef\u001b[39;00m \u001b[38;5;21msplit\u001b[39m(\u001b[38;5;28mself\u001b[39m): \u001b[38;5;28;01mreturn\u001b[39;00m \u001b[43mdata\u001b[49m\u001b[43m(\u001b[49m\u001b[38;5;241;43m*\u001b[39;49m\u001b[38;5;28;43mself\u001b[39;49m\u001b[43m[\u001b[49m\u001b[43m:\u001b[49m\u001b[38;5;241;43m1\u001b[39;49m\u001b[43m]\u001b[49m\u001b[43m)\u001b[49m,data(\u001b[38;5;241m*\u001b[39m\u001b[38;5;28mself\u001b[39m[\u001b[38;5;241m1\u001b[39m:])\n",
      "\u001b[0;31mKeyboardInterrupt\u001b[0m: "
     ]
    }
   ],
   "source": [
    "I = Search.Idempotents(datas,datas)\n",
    "I.search()\n",
    "print(I)"
   ]
  },
  {
   "cell_type": "code",
   "execution_count": null,
   "id": "24c60631-88ec-40fd-aa97-c776ce327998",
   "metadata": {
    "tags": []
   },
   "outputs": [],
   "source": [
    "for d,res in I._result.items():\n",
    "    if res.undecided(): print(d,'--->',res)"
   ]
  },
  {
   "cell_type": "code",
   "execution_count": null,
   "id": "0ba5a4a0-2d14-475e-be0a-7177254b00c8",
   "metadata": {},
   "outputs": [],
   "source": []
  }
 ],
 "metadata": {
  "kernelspec": {
   "display_name": "Python 3 (ipykernel)",
   "language": "python",
   "name": "python3"
  },
  "language_info": {
   "codemirror_mode": {
    "name": "ipython",
    "version": 3
   },
   "file_extension": ".py",
   "mimetype": "text/x-python",
   "name": "python",
   "nbconvert_exporter": "python",
   "pygments_lexer": "ipython3",
   "version": "3.10.7"
  }
 },
 "nbformat": 4,
 "nbformat_minor": 5
}
