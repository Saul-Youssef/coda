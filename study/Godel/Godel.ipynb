{
 "cells": [
  {
   "cell_type": "code",
   "execution_count": 1,
   "id": "54cf8444-9943-405b-8329-d71b56fd9fcc",
   "metadata": {},
   "outputs": [
    {
     "name": "stdout",
     "output_type": "stream",
     "text": [
      "adding to [?]...\n",
      "adding to [?]...\n"
     ]
    }
   ],
   "source": [
    "from start import *"
   ]
  },
  {
   "cell_type": "code",
   "execution_count": 2,
   "id": "2e3102cb-433e-47f1-84a4-bde71434c76f",
   "metadata": {},
   "outputs": [],
   "source": [
    "S1,S2,S3 = co('S1?'),co('S2?'),co('S3?')"
   ]
  },
  {
   "cell_type": "code",
   "execution_count": 3,
   "id": "2f371a28-9ae8-45c5-9370-c63c014f29c2",
   "metadata": {
    "tags": []
   },
   "outputs": [
    {
     "data": {
      "text/plain": [
       "(not:(not:(not:(not:(not:(not:(not:(not:(not:(?:S1))))))))))"
      ]
     },
     "execution_count": 3,
     "metadata": {},
     "output_type": "execute_result"
    }
   ],
   "source": [
    "S1 = S1.eval(10); S1 "
   ]
  },
  {
   "cell_type": "code",
   "execution_count": 4,
   "id": "2e862af9-b17f-45fa-972d-e54934075bc8",
   "metadata": {
    "tags": []
   },
   "outputs": [
    {
     "data": {
      "text/plain": [
       "(= (= (= (= (= (= (= (= (= (?:S2):):):):):):):):):)"
      ]
     },
     "execution_count": 4,
     "metadata": {},
     "output_type": "execute_result"
    }
   ],
   "source": [
    "S2 = S2.eval(10); S2"
   ]
  },
  {
   "cell_type": "code",
   "execution_count": 15,
   "id": "1b8a9cc5-167f-4f24-bc12-81c24f09463a",
   "metadata": {
    "tags": []
   },
   "outputs": [
    {
     "data": {
      "text/plain": [
       "(?:S3) | (not:(?:S3)) | | | | | | | | |"
      ]
     },
     "execution_count": 15,
     "metadata": {},
     "output_type": "execute_result"
    }
   ],
   "source": [
    "S3 = S3.eval(1); S3"
   ]
  },
  {
   "cell_type": "code",
   "execution_count": null,
   "id": "f704a505-743e-453f-83c8-db75fdde2024",
   "metadata": {},
   "outputs": [],
   "source": []
  },
  {
   "cell_type": "code",
   "execution_count": null,
   "id": "e922f179-f7eb-4c9e-87aa-85003b9dadae",
   "metadata": {},
   "outputs": [],
   "source": []
  }
 ],
 "metadata": {
  "kernelspec": {
   "display_name": "Python 3 (ipykernel)",
   "language": "python",
   "name": "python3"
  },
  "language_info": {
   "codemirror_mode": {
    "name": "ipython",
    "version": 3
   },
   "file_extension": ".py",
   "mimetype": "text/x-python",
   "name": "python",
   "nbconvert_exporter": "python",
   "pygments_lexer": "ipython3",
   "version": "3.10.7"
  }
 },
 "nbformat": 4,
 "nbformat_minor": 5
}
