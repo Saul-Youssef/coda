{
 "cells": [
  {
   "cell_type": "code",
   "execution_count": 1,
   "id": "719cf407-1548-4919-9755-08fe5d4bc853",
   "metadata": {
    "tags": []
   },
   "outputs": [
    {
     "name": "stdout",
     "output_type": "stream",
     "text": []
    }
   ],
   "source": [
    "import : endswith Search.co : dir co : .  "
   ]
  },
  {
   "cell_type": "code",
   "execution_count": 2,
   "id": "5e88281d-99d8-48b5-9ee2-fbc80e6f10c9",
   "metadata": {},
   "outputs": [
    {
     "name": "stdout",
     "output_type": "stream",
     "text": [
      "(with (def x:{A} a a):0) (with (def x:{A} a b):4) (with (def x:{A} b b):0) (with (def x:{A} x y):2)"
     ]
    }
   ],
   "source": [
    "theorem (x?=(rev:x?)) : (:a a) (:a b) (:b b) (:x y)"
   ]
  },
  {
   "cell_type": "code",
   "execution_count": 3,
   "id": "93d6e119-99fc-4b0e-8025-1bb1c3a36ba7",
   "metadata": {},
   "outputs": [
    {
     "name": "stdout",
     "output_type": "stream",
     "text": [
      "(with (def x:{A} a a):(count:(equal (x:):(rev:(x:))))) (with (def x:{A} a b):(count:(equal (x:):(rev:(x:))))) (with (def x:{A} b b):(count:(equal (x:):(rev:(x:))))) (with (def x:{A} x y):(count:(equal (x:):(rev:(x:)))))"
     ]
    }
   ],
   "source": [
    "cases (x?=(rev:x?)) : (:a a) (:a b) (:b b) (:x y)"
   ]
  },
  {
   "cell_type": "code",
   "execution_count": 4,
   "id": "641fb736-d345-4d65-b4d9-9f01e5178188",
   "metadata": {},
   "outputs": [
    {
     "name": "stdout",
     "output_type": "stream",
     "text": [
      "(with (def x:{A}):0) (with (def x:{A} ◎):0) (with (def x:{A} ◎ ◎):0) (with (def x:{A} ◎ ◎ ◎):0) (with (def x:{A} ◎ ◎ ◎ ◎):0)"
     ]
    }
   ],
   "source": [
    "theorem (x?=(rev:x?)) : S1?"
   ]
  },
  {
   "cell_type": "code",
   "execution_count": 5,
   "id": "8acd1ae4-8d57-4b73-995a-5c77abb6b8ee",
   "metadata": {},
   "outputs": [
    {
     "name": "stdout",
     "output_type": "stream",
     "text": [
      "(with (def x:{A} ◎ ◎):0) (with (def x:{A} ◎ a):4) (with (def x:{A} ◎ b):4) (with (def x:{A} ◎ 0):4) (with (def x:{A} ◎ 1):4) (with (def x:{A} ◎ (bin:a)):4) (with (def x:{A} ◎ (bin 1 2:a b)):10) (with (def x:{A} ◎ (bin a:(bin b:1 2))):6) (with (def x:{A} a ◎):4) (with (def x:{A} a a):0) (with (def x:{A} a b):4) (with (def x:{A} a 0):6) (with (def x:{A} a 1):4) (with (def x:{A} a (bin:a)):60) (with (def x:{A} a (bin 1 2:a b)):66) (with (def x:{A} a (bin a:(bin b:1 2))):80) (with (def x:{A} b ◎):4) (with (def x:{A} b a):4) (with (def x:{A} b b):0) (with (def x:{A} b 0):6) (with (def x:{A} b 1):8) (with (def x:{A} b (bin:a)):60) (with (def x:{A} b (bin 1 2:a b)):66) (with (def x:{A} b (bin a:(bin b:1 2))):80) (with (def x:{A} 0 ◎):4) (with (def x:{A} 0 a):6) (with (def x:{A} 0 b):6) (with (def x:{A} 0 0):0) (with (def x:{A} 0 1):2) (with (def x:{A} 0 (bin:a)):60) (with (def x:{A} 0 (bin 1 2:a b)):66) (with (def x:{A} 0 (bin a:(bin b:1 2))):64) (with (def x:{A} 1 ◎):4) (with (def x:{A} 1 a):4) (with (def x:{A} 1 b):8) (with (def x:{A} 1 0):2) (with (def x:{A} 1 1):0) (with (def x:{A} 1 (bin:a)):60) (with (def x:{A} 1 (bin 1 2:a b)):66) (with (def x:{A} 1 (bin a:(bin b:1 2))):64) (with (def x:{A} (bin:a) ◎):4) (with (def x:{A} (bin:a) a):60) (with (def x:{A} (bin:a) b):60) (with (def x:{A} (bin:a) 0):60) (with (def x:{A} (bin:a) 1):60) (with (def x:{A} (bin:a) (bin:a)):0) (with (def x:{A} (bin:a) (bin 1 2:a b)):6) (with (def x:{A} (bin:a) (bin a:(bin b:1 2))):66) (with (def x:{A} (bin 1 2:a b) ◎):10) (with (def x:{A} (bin 1 2:a b) a):66) (with (def x:{A} (bin 1 2:a b) b):66) (with (def x:{A} (bin 1 2:a b) 0):66) (with (def x:{A} (bin 1 2:a b) 1):66) (with (def x:{A} (bin 1 2:a b) (bin:a)):6) (with (def x:{A} (bin 1 2:a b) (bin 1 2:a b)):0) (with (def x:{A} (bin 1 2:a b) (bin a:(bin b:1 2))):72) (with (def x:{A} (bin a:(bin b:1 2)) ◎):6) (with (def x:{A} (bin a:(bin b:1 2)) a):80) (with (def x:{A} (bin a:(bin b:1 2)) b):80) (with (def x:{A} (bin a:(bin b:1 2)) 0):64) (with (def x:{A} (bin a:(bin b:1 2)) 1):64) (with (def x:{A} (bin a:(bin b:1 2)) (bin:a)):66) (with (def x:{A} (bin a:(bin b:1 2)) (bin 1 2:a b)):72) (with (def x:{A} (bin a:(bin b:1 2)) (bin a:(bin b:1 2))):0) \n"
     ]
    }
   ],
   "source": [
    "post <\\n> : theorem (x?=(rev:x?)) : S2?"
   ]
  },
  {
   "cell_type": "code",
   "execution_count": 6,
   "id": "52c4ba1f-686b-4dbd-811e-7f94ceed923b",
   "metadata": {},
   "outputs": [
    {
     "name": "stdout",
     "output_type": "stream",
     "text": [
      "\u001b[;1mcode:\u001b[0m\n",
      "    \u001b[34;7mcases\u001b[0m\n",
      "\u001b[;1mmodule:\u001b[0m\n",
      "    Search\n",
      "\u001b[;1msummary:\u001b[0m\n",
      "    demo: permutation 2 : a b\n",
      "\u001b[;1mdescription:\u001b[0m\n",
      "\u001b[;1mpath:\u001b[0m\n",
      "    /Users/youssef/coda/co/Search.co\n",
      "\u001b[;1msource code:\u001b[0m\n",
      "    def cases : {ap {with (right:B):count:A} A : assign A : B}\n",
      "    def theorem : {ap {if (not:right:B):B} : eval : cases A : B}\n",
      "\u001b[;1mdemos:\u001b[0m\n",
      "    1. \u001b[35;4mpermutation 2 : a b\u001b[0m\n",
      "    2. \u001b[35;4mpermutation 3 : a b\u001b[0m\n",
      "    3. \u001b[35;4mpermutation 3 : a\u001b[0m\n",
      "    4. \u001b[35;4massign (x?=y?) : (:a) (:a)\u001b[0m\n",
      "    5. \u001b[35;4mcases (x?=y?) : (:a) (:b)\u001b[0m\n",
      "    6. \u001b[35;4meval : cases (x?=y?) : (:a) (:b)\u001b[0m\n",
      "    7. \u001b[35;4mcases (x?=y?) : permutation 2 : a b\u001b[0m\n",
      "    8. \u001b[35;4meval : cases (x?=y?) : permutation 2 : a b\u001b[0m\n",
      "    9. \u001b[35;4mget with : eval : cases (x?=y?) : permutation 2 : a b\u001b[0m\n",
      "    10. \u001b[35;4mcases (x?=(rev:x?)) : (:a a) (:b b) (:a b)\u001b[0m\n",
      "    11. \u001b[35;4mtheorem (x?=(rev:x?)) : (:a a) (:b b) (:a b)\u001b[0m\n",
      "    12. \u001b[35;4mtheorem (x?=(rev:x?)) : (:a a) (:b b) (:x x x)\u001b[0m\n"
     ]
    }
   ],
   "source": [
    "help : cases"
   ]
  },
  {
   "cell_type": "code",
   "execution_count": 7,
   "id": "6f5e9cc6-7e46-4fbe-9e6b-51b7755b79ee",
   "metadata": {},
   "outputs": [
    {
     "name": "stdout",
     "output_type": "stream",
     "text": [
      "(with (def x:{A} a a) (def y:{A} a a):0) (with (def x:{A} a a) (def y:{A} a b):2) (with (def x:{A} a a) (def y:{A} b a):2) (with (def x:{A} a a) (def y:{A} b b):4) (with (def x:{A} a b) (def y:{A} a a):2) (with (def x:{A} a b) (def y:{A} a b):0) (with (def x:{A} a b) (def y:{A} b a):4) (with (def x:{A} a b) (def y:{A} b b):2) (with (def x:{A} b a) (def y:{A} a a):2) (with (def x:{A} b a) (def y:{A} a b):4) (with (def x:{A} b a) (def y:{A} b a):0) (with (def x:{A} b a) (def y:{A} b b):2) (with (def x:{A} b b) (def y:{A} a a):4) (with (def x:{A} b b) (def y:{A} a b):2) (with (def x:{A} b b) (def y:{A} b a):2) (with (def x:{A} b b) (def y:{A} b b):0)"
     ]
    }
   ],
   "source": [
    "multi 100 : cases (x?=y?) : permutation 2 : a b "
   ]
  },
  {
   "cell_type": "code",
   "execution_count": 8,
   "id": "d0778dea-1860-4402-b027-5a42e47b55d8",
   "metadata": {},
   "outputs": [
    {
     "name": "stdout",
     "output_type": "stream",
     "text": [
      "(with (def x:{A} a a) (def y:{A} a a):0) (with (def x:{A} a a) (def y:{A} a b):2) (with (def x:{A} a a) (def y:{A} b a):2) (with (def x:{A} a a) (def y:{A} b b):4) (with (def x:{A} a b) (def y:{A} a a):2) (with (def x:{A} a b) (def y:{A} a b):0) (with (def x:{A} a b) (def y:{A} b a):4) (with (def x:{A} a b) (def y:{A} b b):2) (with (def x:{A} b a) (def y:{A} a a):2) (with (def x:{A} b a) (def y:{A} a b):4) (with (def x:{A} b a) (def y:{A} b a):0) (with (def x:{A} b a) (def y:{A} b b):2) (with (def x:{A} b b) (def y:{A} a a):4) (with (def x:{A} b b) (def y:{A} a b):2) (with (def x:{A} b b) (def y:{A} b a):2) (with (def x:{A} b b) (def y:{A} b b):0)"
     ]
    }
   ],
   "source": [
    "eval 100 : cases (x?=y?) : permutation 2 : a b "
   ]
  },
  {
   "cell_type": "code",
   "execution_count": null,
   "id": "c31136b3-9fae-46e3-b421-ebc103d75a9b",
   "metadata": {},
   "outputs": [],
   "source": []
  }
 ],
 "metadata": {
  "kernelspec": {
   "display_name": "coda",
   "language": "",
   "name": "coda"
  },
  "language_info": {
   "file_extension": ".co",
   "mimetype": "text/plain",
   "name": "Any text"
  }
 },
 "nbformat": 4,
 "nbformat_minor": 5
}
