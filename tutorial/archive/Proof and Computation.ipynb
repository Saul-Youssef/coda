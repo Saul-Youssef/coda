{
 "cells": [
  {
   "cell_type": "markdown",
   "id": "a8091953-62a9-4d26-ba20-f6b4ef8ccaf1",
   "metadata": {},
   "source": [
    "## REDO\n",
    "\n",
    "It's fairly intuitively clear that there is some sort of close relationship between computing, programs and mathematical proofs, but what is the relationship exactly?  The answer from type theory is the \"Curry-Howard correspondence\" between proof systems and type systems.  \n",
    "\n",
    "In Coda, the situation is much simpler. Rather than \"type\" being a foundational concept with no definition, in Coda, a type is merely any data T which is both idempotent (T:T:X = T:X) and distributive ( T:X Y = (T:X) (T:Y) ).  In Coda, everything is data and the only valid operation on data is to apply a definition.  A proof and a computation are exactly the same thing: a sequence of data D1=D2=...=Dn.  \n",
    "\n",
    "Here, let's echo the famous elaborate proof from Principia Mathematica that 1+1=2."
   ]
  },
  {
   "cell_type": "code",
   "execution_count": 1,
   "id": "ff5b6648-08a6-43f8-ba42-23f09bd421a0",
   "metadata": {},
   "outputs": [
    {
     "name": "stdout",
     "output_type": "stream",
     "text": [
      "(n:2)"
     ]
    }
   ],
   "source": [
    "#\n",
    "#    First, let's just compute 1+1 with the natural number type \"n\".\n",
    "#\n",
    "sum n : 1 1"
   ]
  },
  {
   "cell_type": "code",
   "execution_count": 2,
   "id": "14d2d520-4258-4f08-8363-9a133098cfa3",
   "metadata": {},
   "outputs": [
    {
     "name": "stdout",
     "output_type": "stream",
     "text": [
      "((Sum:peano) peano:1 1)"
     ]
    }
   ],
   "source": [
    "#\n",
    "#    This result depends on a use of Python integers because the type n uses Python to convert from \n",
    "#    unicode strings to integers and to do the addition.  \n",
    "#\n",
    "#    We could remove this dependency by using peano natural numbers where a number n is represented by a sequence of \n",
    "#    n atoms.\n",
    "#\n",
    "sum peano : 1 1 "
   ]
  },
  {
   "cell_type": "code",
   "execution_count": 3,
   "id": "4652ae64-4ebc-4f75-b378-272e37d4407e",
   "metadata": {},
   "outputs": [
    {
     "name": "stdout",
     "output_type": "stream",
     "text": [
      "((Term:peano) peano:((Sum:peano) peano:1 1))"
     ]
    }
   ],
   "source": [
    "#\n",
    "#....To show terminal display instead of showing a list of tokens...\n",
    "#\n",
    "term peano : sum peano : 1 1 "
   ]
  },
  {
   "cell_type": "markdown",
   "id": "b008e88f-8063-4442-bcdf-f2a822c6f9cd",
   "metadata": {},
   "source": [
    "Let's discuss the basis for claiming that this is a **proof** that 1+1 = 2.  \n",
    "\n",
    "The main point is that the only thing Coda can do is apply definitions to data.  For example, there is a definition `rev` which is **defined** to be reversing the order of a finite sequence.  So, by definition, \n",
    "\n",
    "`(rev : 1 2 3 4 5) = 5 4 3 2 1`\n",
    "\n",
    "`rev` happens to be a built-in definition, defined in Python code, but it is the same for definitions defined by users in the Coda language. **data** is a very simple Python class and the `eval` method clearly does nothing but apply definitions from the global CONTEXT object containing built-in and user provided definitions.  Once can read each of the ~50 built-in definitions like \"rev\" and verify that each one is a partial function and verify the mechanism that insures that the domains of the definitions are disjoint.  This could be done once and for all.\n",
    "\n",
    "For each particular proof, one can list the individual steps as well.  Here are the steps for the peano integer version of 1+1=2.  You will see that there are more than 40 individual steps.  The first steps include data in curly braces, because this is actually a proof that the coda \n",
    "\n",
    "* `{term peano : sum peano : 1 1}:`\n",
    "\n",
    "is equal to the coda\n",
    "\n",
    "* `2`\n",
    "\n",
    "If there was an extra blank space between `sum` and `peano` for instance, the proof would be very slightly different.  \n",
    " "
   ]
  },
  {
   "cell_type": "code",
   "execution_count": 4,
   "id": "1392136e-2b93-451d-95c6-33cd9450c5e9",
   "metadata": {
    "tags": []
   },
   "outputs": [
    {
     "name": "stdout",
     "output_type": "stream",
     "text": [
      "[ 0] (({term peano }:):({ sum peano : 1 1}:))\n",
      "[ 1] (({term peano}:):({sum peano : 1 1}:))\n",
      "[ 2] (({term}:) ({peano}:):(({sum peano }:):({ 1 1}:)))\n",
      "[ 3] ({(Term:A) A : B} peano:(({sum peano}:):({1 1}:)))\n",
      "[ 4] (({(Term:A) A } peano:(({sum}:) ({peano}:):({1}:) ({1}:))):({ B} peano:(({sum}:) ({peano}:):({1}:) ({1}:))))\n",
      "[ 5] (({(Term:A) A} peano:({(Sum:A)  A : B} peano:1 1)):({B} peano:({(Sum:A)  A : B} peano:1 1)))\n",
      "[ 6] (({(Term:A)} peano:(({(Sum:A)  A } peano:1 1):({ B} peano:1 1))) ({A} peano:(({(Sum:A)  A } peano:1 1):({ B} peano:1 1))):(({(Sum:A)  A } peano:1 1):({ B} peano:1 1)))\n",
      "[ 7] (({Term:A} peano:(({(Sum:A)  A} peano:1 1):({B} peano:1 1))) peano:(({(Sum:A)  A} peano:1 1):({B} peano:1 1)))\n",
      "[ 8] ((({Term} peano:(({(Sum:A)} peano:1 1) ({ A} peano:1 1):1 1)):({A} peano:(({(Sum:A)} peano:1 1) ({ A} peano:1 1):1 1))) peano:(({(Sum:A)} peano:1 1) ({ A} peano:1 1):1 1))\n",
      "[ 9] ((Term:peano) peano:(({Sum:A} peano:1 1) ({A} peano:1 1):1 1))\n",
      "[10] ((Term:peano) peano:((({Sum} peano:1 1):({A} peano:1 1)) peano:1 1))\n",
      "[11] ((Term:peano) peano:((Sum:peano) peano:1 1))"
     ]
    }
   ],
   "source": [
    "step : term peano : sum peano : 1 1 "
   ]
  },
  {
   "cell_type": "code",
   "execution_count": 5,
   "id": "a4f2d589-ea08-4f0b-801b-3bf0d17712a0",
   "metadata": {},
   "outputs": [
    {
     "name": "stdout",
     "output_type": "stream",
     "text": [
      "(= ((Term:peano) peano:((Sum:peano) peano:1 1)):2)"
     ]
    }
   ],
   "source": [
    "#\n",
    "#   This computation implies that (term peano : sum peano : 1 1) is equal to 2 in the current context. \n",
    "#   You can verify this directly via, for instance,...\n",
    "#\n",
    "(term peano : sum peano : 1 1 ) = 2"
   ]
  },
  {
   "cell_type": "markdown",
   "id": "1c52aad5-c903-4e25-a2f5-f8dfe6f1d3c3",
   "metadata": {},
   "source": [
    "Notice that if A=B is true (or false), it remains so independent of any definitions added to the context where A=B is originally computed. This is certainly a necessary property for what we think of as a proof. \n",
    "\n",
    "On the other hand, if A=B is undecided data, it may become true or false depending on future definitions.  For example, \n",
    "\n",
    "`x? = 45`\n",
    "\n",
    "is undecided.  It is neither true nor false. If, however x? gets defined to be 45 later, it becomes true..."
   ]
  },
  {
   "cell_type": "code",
   "execution_count": 6,
   "id": "abdc86ea-717e-4e68-a46c-f96a194170a5",
   "metadata": {},
   "outputs": [
    {
     "name": "stdout",
     "output_type": "stream",
     "text": [
      "(= (?:x):45)"
     ]
    }
   ],
   "source": [
    "x? = 45"
   ]
  },
  {
   "cell_type": "code",
   "execution_count": 7,
   "id": "30079552-a146-4220-b837-34cde3211b81",
   "metadata": {},
   "outputs": [
    {
     "name": "stdout",
     "output_type": "stream",
     "text": []
    }
   ],
   "source": [
    "let x? : 45"
   ]
  },
  {
   "cell_type": "code",
   "execution_count": 8,
   "id": "44e48f9a-58d4-4203-9939-249f49b10dc9",
   "metadata": {},
   "outputs": [
    {
     "name": "stdout",
     "output_type": "stream",
     "text": []
    }
   ],
   "source": [
    "x? = 45"
   ]
  },
  {
   "cell_type": "markdown",
   "id": "73a89bed-b543-472d-ae16-7377711d9df9",
   "metadata": {},
   "source": [
    "This is an interesting and potentially useful feature.  Addition of peano numbers should be commutative, but how is that proven?  First, we need to define what commutative means."
   ]
  },
  {
   "cell_type": "code",
   "execution_count": 9,
   "id": "3c974d88-a43f-4dbd-a026-3a6cfcce8dae",
   "metadata": {},
   "outputs": [
    {
     "name": "stdout",
     "output_type": "stream",
     "text": [
      "\u001b[;1mcode:\u001b[0m\n",
      "    \u001b[34;7mCommutative\u001b[0m\n",
      "\u001b[;1mmodule:\u001b[0m\n",
      "    Algebra\n",
      "\u001b[;1msummary:\u001b[0m\n",
      "    Commutative\n",
      "\u001b[;1mdescription:\u001b[0m\n",
      "\u001b[;1mpath:\u001b[0m\n",
      "    /Users/youssef/coda/co/Algebra.co\n",
      "\u001b[;1msource code:\u001b[0m\n",
      "    def Commutative : { B : X? Y? = B : Y? X? }\n",
      "\u001b[;1mdemos:\u001b[0m\n",
      "    1. \u001b[35;4mCommutative : pass\u001b[0m\n",
      "    2. \u001b[35;4mCommutative : sum n\u001b[0m\n",
      "    3. \u001b[35;4mCommutative : prod n\u001b[0m\n"
     ]
    }
   ],
   "source": [
    "#\n",
    "#   As you can see, Commutative already has a definition.\n",
    "#\n",
    "help : Commutative"
   ]
  },
  {
   "cell_type": "markdown",
   "id": "29de4377-e5c2-47d8-a785-04eb7f37a529",
   "metadata": {},
   "source": [
    "This means that data D is Commutative if `Commutative : D` is true, i.e. if `Commutative : D=()`.  Thus, we should have \n",
    "\n",
    "`Commutative : sum peano = ()` \n",
    "\n",
    "Let's try..."
   ]
  },
  {
   "cell_type": "code",
   "execution_count": 10,
   "id": "fdb8a589-4274-4b6f-991c-833251fcb012",
   "metadata": {},
   "outputs": [
    {
     "name": "stdout",
     "output_type": "stream",
     "text": [
      "((Sum:peano) peano:((= (?:X) (?:Y):sum peano):(?:Y) (?:X)))"
     ]
    }
   ],
   "source": [
    "Commutative : sum peano "
   ]
  },
  {
   "cell_type": "markdown",
   "id": "f200d69a-7c43-4e43-b511-1ccecc972869",
   "metadata": {},
   "source": [
    "Notice that we don't get true and we don't get false, but instead, we get some rather complicated looking undecided expression.  This expression can be thought of as \"the obstruction\" to what we want to prove.  If we can get it to disappear, we have the result that we think is actually true. \n",
    "\n",
    "Of course, we still have an obstruction for a good reason: The commutativity and associativity of peano numbers comes from the associativity and commutativity of concatenating sequences of some any single coda, e.g. \n",
    "\n",
    "(◎ ◎) (◎ ◎ ◎)  = (◎ ◎ ◎) (◎ ◎)\n",
    "\n",
    "We can take this fact to be true as part of our foundational understanding of finite sequences, but this fact is relevant only because I happen to know how peano integers are implemented.  In fact, this suggests defining SameAs A to be the category whose objects are data consisting of zero or more repetitions of the sequence A.  Then the objects of SameAs ◎, for instance, would be finite sequences of the atom ◎, morphisms would be data F where F:X is in SameAs ◎ if X is in SameAs ◎.  SameAs ◎ has a commutative and associative addition and multiplication.  This suggests implementing Peano in SameAs ◎ and relying on proven properties of SameAs ◎ to prove things about the peano integers. This actually also suggests generalization to SameAs A where A is more than a single atom.  \n",
    "\n",
    "We claim that it is a fact that if A and B are sequences of a single coda (say ◎), then A B = B A.  This suggests defining something like \n",
    "\n",
    "def SameAs : {apif {B=A} A : B} \n",
    "\n",
    "so SameAs a : a b a b z a = a a a \n",
    "\n",
    "SameAs A is then a type for any \n",
    "\n",
    "This is meant to be a baby example of an approach towards more interesting mathematical questions.  \n",
    "\n",
    "is not (yet) a useful theorem in the system.  \n",
    "\n"
   ]
  },
  {
   "cell_type": "code",
   "execution_count": 11,
   "id": "a3ed490c-d877-4cee-940a-cec3fd6cdf3f",
   "metadata": {},
   "outputs": [
    {
     "name": "stdout",
     "output_type": "stream",
     "text": []
    }
   ],
   "source": [
    "def SameAs : {apif {B=A} A : B} "
   ]
  },
  {
   "cell_type": "code",
   "execution_count": 12,
   "id": "90e03025-ae5c-460c-b5c2-72b871d15a0b",
   "metadata": {},
   "outputs": [
    {
     "name": "stdout",
     "output_type": "stream",
     "text": [
      "a a a a"
     ]
    }
   ],
   "source": [
    "SameAs a : a b a a b a (:) z z "
   ]
  },
  {
   "cell_type": "code",
   "execution_count": null,
   "id": "e3c90756-4a54-4e09-b380-c9026ea5f4b3",
   "metadata": {},
   "outputs": [],
   "source": []
  },
  {
   "cell_type": "code",
   "execution_count": 13,
   "id": "7be0a7e7-de7e-4813-b7a0-bf2b9e910ebe",
   "metadata": {
    "tags": []
   },
   "outputs": [
    {
     "name": "stdout",
     "output_type": "stream",
     "text": []
    }
   ],
   "source": [
    "def SameAtom : SameAs (:)"
   ]
  },
  {
   "cell_type": "code",
   "execution_count": 14,
   "id": "6c7774b3-d084-4feb-b8c5-451f1a7ee15b",
   "metadata": {},
   "outputs": [
    {
     "name": "stdout",
     "output_type": "stream",
     "text": [
      "◎ ◎"
     ]
    }
   ],
   "source": [
    "SameAtom : a b (:) (:) z z z "
   ]
  },
  {
   "cell_type": "code",
   "execution_count": 15,
   "id": "5d39c182-1ea4-46b3-8ba6-0028722481fb",
   "metadata": {},
   "outputs": [
    {
     "name": "stdout",
     "output_type": "stream",
     "text": []
    }
   ],
   "source": [
    "(SameAtom : SameAtom : a b (:) (:) z z z ) = (SameAtom : a b (:) (:) z z z )"
   ]
  },
  {
   "cell_type": "code",
   "execution_count": null,
   "id": "c8cdb10b-f699-4c2a-a3cf-aa138085ecb8",
   "metadata": {},
   "outputs": [],
   "source": []
  }
 ],
 "metadata": {
  "kernelspec": {
   "display_name": "coda",
   "language": "",
   "name": "coda"
  },
  "language_info": {
   "file_extension": ".co",
   "mimetype": "text/plain",
   "name": "Any text"
  }
 },
 "nbformat": 4,
 "nbformat_minor": 5
}
