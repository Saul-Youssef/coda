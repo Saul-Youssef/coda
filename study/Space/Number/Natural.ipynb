{
 "cells": [
  {
   "cell_type": "markdown",
   "id": "0907c3e2-288c-456e-9203-06d080abff6a",
   "metadata": {},
   "source": [
    "| Natural numbers |  |\n",
    "|---|---|\n",
    "| Natural Numbers | x | \n",
    "| Data | (n:1) (n:2) etc. | \n",
    "| Operation | x | \n",
    "| Properties | x | \n",
    "| Neutral element | x | \n",
    "| Endomorphisms | x | "
   ]
  },
  {
   "cell_type": "code",
   "execution_count": 1,
   "id": "95c466dc-5f91-4081-bf14-d1397fbf707f",
   "metadata": {},
   "outputs": [
    {
     "name": "stdout",
     "output_type": "stream",
     "text": []
    }
   ],
   "source": [
    "import : dir co : up : ."
   ]
  },
  {
   "cell_type": "code",
   "execution_count": 2,
   "id": "b577fa76-4a89-43a6-8417-1d44232c3135",
   "metadata": {},
   "outputs": [
    {
     "name": "stdout",
     "output_type": "stream",
     "text": [
      "(n:1) (n:3) (n:54)\n",
      "(n:58)"
     ]
    }
   ],
   "source": [
    "n.type : n.type : a b c 1 3 54\n",
    "n.sum : n.type : a b c 1 3 54 "
   ]
  },
  {
   "cell_type": "code",
   "execution_count": 3,
   "id": "df2b87be-3daf-428d-85db-4226ee9db491",
   "metadata": {},
   "outputs": [
    {
     "name": "stdout",
     "output_type": "stream",
     "text": [
      "8"
     ]
    }
   ],
   "source": [
    "Let S : (:) (:(:) (:)) (:(n:0)) (:(n:)) (:(n:1) (n:3) (n:2) (n:99)) (:1) (:2 3) (:(n:-5))\n",
    "count : S?"
   ]
  },
  {
   "cell_type": "code",
   "execution_count": 4,
   "id": "39f0ec34-379d-4935-afcb-d19d7102971c",
   "metadata": {},
   "outputs": [
    {
     "name": "stdout",
     "output_type": "stream",
     "text": [
      "0\n",
      "0\n",
      "0\n",
      "0\n",
      "0"
     ]
    }
   ],
   "source": [
    "count : theorem (idempotent:n.type) : S?\n",
    "count : theorem (idempotent:n.sum ) : S?\n",
    "count : theorem (idempotent:n.prod) : S?\n",
    "count : theorem (idempotent:n.sort) : S? \n",
    "count : theorem (idempotent:n.ring) : S?"
   ]
  },
  {
   "cell_type": "code",
   "execution_count": 5,
   "id": "45506212-0950-483f-b462-d4a686f29ca8",
   "metadata": {},
   "outputs": [
    {
     "name": "stdout",
     "output_type": "stream",
     "text": [
      "0\n",
      "64\n",
      "64\n",
      "64\n",
      "64"
     ]
    }
   ],
   "source": [
    "count : theorem (distributive:n.type) : S?\n",
    "count : theorem (distributive:n.sum ) : S?\n",
    "count : theorem (distributive:n.prod) : S?\n",
    "count : theorem (distributive:n.sort) : S? \n",
    "count : theorem (distributive:n.ring) : S?"
   ]
  },
  {
   "cell_type": "code",
   "execution_count": 6,
   "id": "320842a1-78fe-40de-8fda-280bb51b1d41",
   "metadata": {},
   "outputs": [
    {
     "name": "stdout",
     "output_type": "stream",
     "text": [
      "64"
     ]
    }
   ],
   "source": [
    "count : S2?"
   ]
  },
  {
   "cell_type": "code",
   "execution_count": 7,
   "id": "3e17d773-6456-433f-acf1-40386fe34cbf",
   "metadata": {},
   "outputs": [
    {
     "name": "stdout",
     "output_type": "stream",
     "text": [
      "0"
     ]
    }
   ],
   "source": [
    "count : theorem (idempotent:n.type) : S2?"
   ]
  },
  {
   "cell_type": "code",
   "execution_count": null,
   "id": "adaff22c-539e-4b55-8ec0-e79392d5bae4",
   "metadata": {},
   "outputs": [],
   "source": []
  }
 ],
 "metadata": {
  "kernelspec": {
   "display_name": "coda",
   "language": "",
   "name": "coda"
  },
  "language_info": {
   "file_extension": ".co",
   "mimetype": "text/plain",
   "name": "Any text"
  }
 },
 "nbformat": 4,
 "nbformat_minor": 5
}
