{
 "cells": [
  {
   "cell_type": "markdown",
   "id": "c08ab240-37c5-4876-8a1a-49b17a70e9f9",
   "metadata": {},
   "source": [
    "The space of \"sticks\" is the space of finite sequences of |, which is the same as the space of natural numbers.  \n",
    "\n",
    "D:(sticks:X) (sticks:Y) = D:(sticks:Y) (sticks:X) \n",
    "\n",
    "for all X,Y.  \n"
   ]
  },
  {
   "cell_type": "code",
   "execution_count": 1,
   "id": "ea050ed9-6f34-4ede-8331-a9031107982a",
   "metadata": {},
   "outputs": [
    {
     "name": "stdout",
     "output_type": "stream",
     "text": [
      "(defaultTime:1000)"
     ]
    }
   ],
   "source": [
    "defaultTime : 1000"
   ]
  },
  {
   "cell_type": "code",
   "execution_count": 2,
   "id": "47062844-02e4-4fd9-ad12-5f3ad272a16a",
   "metadata": {},
   "outputs": [
    {
     "name": "stdout",
     "output_type": "stream",
     "text": [
      "(:|) (:| |) (:| | |)"
     ]
    }
   ],
   "source": [
    "ap {put:rep B:|} : 1 2 3"
   ]
  },
  {
   "cell_type": "code",
   "execution_count": 3,
   "id": "e04690df-dd2f-41d7-bfca-f872061d74ae",
   "metadata": {},
   "outputs": [
    {
     "name": "stdout",
     "output_type": "stream",
     "text": []
    }
   ],
   "source": [
    "Let SPACE : permutation 2 : ap {put:rep B:|} : 1 2 3"
   ]
  },
  {
   "cell_type": "code",
   "execution_count": 4,
   "id": "de1b46e8-0188-4d17-b0c0-be6d821db7d8",
   "metadata": {},
   "outputs": [
    {
     "name": "stdout",
     "output_type": "stream",
     "text": [
      "(:(:|) (:|)) (:(:|) (:| |)) (:(:|) (:| | |)) (:(:| |) (:|)) (:(:| |) (:| |)) (:(:| |) (:| | |)) (:(:| | |) (:|)) (:(:| | |) (:| |)) (:(:| | |) (:| | |))"
     ]
    }
   ],
   "source": [
    "SPACE?"
   ]
  },
  {
   "cell_type": "code",
   "execution_count": 5,
   "id": "de9cbbd9-7d0b-4202-ab46-97fed0a940aa",
   "metadata": {},
   "outputs": [
    {
     "name": "stdout",
     "output_type": "stream",
     "text": []
    }
   ],
   "source": [
    "Let SEARCH : (ap : defs:Basic Sequence Apply Number Logic Collect)"
   ]
  },
  {
   "cell_type": "code",
   "execution_count": 6,
   "id": "c3b8edf8-f6c4-48ce-afdb-2771d46be85a",
   "metadata": {},
   "outputs": [
    {
     "name": "stdout",
     "output_type": "stream",
     "text": [
      "9"
     ]
    }
   ],
   "source": [
    "count: SPACE?"
   ]
  },
  {
   "cell_type": "code",
   "execution_count": 7,
   "id": "594bfe71-ff22-45e3-bb39-0131365ccbc5",
   "metadata": {},
   "outputs": [
    {
     "name": "stdout",
     "output_type": "stream",
     "text": []
    }
   ],
   "source": [
    "Def TEST : {count:((A:(arg:B) (right:B))=(A:(right:B) (arg:B)))} "
   ]
  },
  {
   "cell_type": "code",
   "execution_count": 8,
   "id": "0aeb29e5-81fc-4a89-bde4-5c99da0c93fa",
   "metadata": {},
   "outputs": [
    {
     "name": "stdout",
     "output_type": "stream",
     "text": []
    }
   ],
   "source": [
    "Let PAIRS : ar bin SPACE? : SPACE?"
   ]
  },
  {
   "cell_type": "code",
   "execution_count": 9,
   "id": "b436d7c5-a995-4665-9064-475f51d41ba3",
   "metadata": {},
   "outputs": [
    {
     "name": "stdout",
     "output_type": "stream",
     "text": [
      "(bin (:(:|) (:|)):(:(:|) (:| |)))"
     ]
    }
   ],
   "source": [
    "nth 2 : PAIRS?"
   ]
  },
  {
   "cell_type": "code",
   "execution_count": 10,
   "id": "15ca8db0-2b77-4058-b95b-e2907f184978",
   "metadata": {},
   "outputs": [
    {
     "name": "stdout",
     "output_type": "stream",
     "text": [
      "0"
     ]
    }
   ],
   "source": [
    "TEST pass : nth 1 : PAIRS?"
   ]
  },
  {
   "cell_type": "code",
   "execution_count": 11,
   "id": "16cf370f-d8fd-4d55-8951-05f32d0f0de0",
   "metadata": {},
   "outputs": [
    {
     "name": "stdout",
     "output_type": "stream",
     "text": [
      "(with pass:288)"
     ]
    }
   ],
   "source": [
    "do 100 : (with pass : nat_sum : ap TEST pass : PAIRS?)"
   ]
  },
  {
   "cell_type": "code",
   "execution_count": 12,
   "id": "8a843b57-2edb-4670-aa99-a1f671731b8b",
   "metadata": {},
   "outputs": [
    {
     "name": "stdout",
     "output_type": "stream",
     "text": [
      "(with pass:288)"
     ]
    }
   ],
   "source": [
    "do 100 : ap {with B : nat_sum : ap TEST B : PAIRS?} : pass "
   ]
  },
  {
   "cell_type": "code",
   "execution_count": 13,
   "id": "312d77e9-5274-4123-9c4a-554ab8d18a0d",
   "metadata": {},
   "outputs": [
    {
     "name": "stdout",
     "output_type": "stream",
     "text": [
      "(with pass:288)"
     ]
    }
   ],
   "source": [
    "do 100 : ap {with (get:B) : nat_sum : ap TEST (get:B) : PAIRS?} : (:pass) "
   ]
  },
  {
   "cell_type": "code",
   "execution_count": 14,
   "id": "be406949-8cd7-412e-936d-bbebe0a0b469",
   "metadata": {},
   "outputs": [
    {
     "name": "stdout",
     "output_type": "stream",
     "text": []
    }
   ],
   "source": [
    "Def Search : ap {with (get:B) : nat_sum : ap TEST (get:B) : PAIRS?} "
   ]
  },
  {
   "cell_type": "code",
   "execution_count": 15,
   "id": "23d34662-569b-482b-a388-373ad197cb92",
   "metadata": {
    "collapsed": true,
    "jupyter": {
     "outputs_hidden": true
    },
    "tags": []
   },
   "outputs": [
    {
     "name": "stdout",
     "output_type": "stream",
     "text": [
      "(:=) (:ab) (:and) (:ap) (:apby) (:aq) (:ar) (:arg) (:as) (:bin) (:bool) (:by) (:co) (:collect) (:const) (:count) (:depth) (:domain) (:equal) (:equiv) (:first) (:float_div) (:float_inv) (:float_max) (:float_min) (:float_prod) (:float_sort) (:float_sum) (:floats) (:get) (:has) (:hasnt) (:head) (:if) (:iff) (:imply) (:int_div) (:int_inv) (:int_max) (:int_min) (:int_prod) (:int_sort) (:int_sum) (:ints) (:is) (:isnt) (:ker) (:kernel) (:last) (:left) (:nand) (:nat) (:nat_max) (:nat_min) (:nat_prod) (:nat_sort) (:nat_sum) (:nats) (:nif) (:nor) (:not) (:nth) (:nth1) (:null) (:once) (:or) (:pass) (:plus) (:post) (:pre) (:prod) (:put) (:rep) (:rev) (:right) (:ring) (:skip) (:some) (:star) (:stick) (:sum) (:swap) (:tail) (:text_sort) (:xnor) (:xor)"
     ]
    }
   ],
   "source": [
    "SEARCH?"
   ]
  },
  {
   "cell_type": "code",
   "execution_count": 16,
   "id": "f3638b8a-6259-43ec-916a-dbc698d238ad",
   "metadata": {},
   "outputs": [
    {
     "name": "stdout",
     "output_type": "stream",
     "text": [
      "(:ab) (:and) (:ap) (:apby) (:aq) (:ar) (:arg) (:as) (:bin) (:bool)"
     ]
    }
   ],
   "source": [
    "first 10 : skip 1 : SEARCH?"
   ]
  },
  {
   "cell_type": "code",
   "execution_count": 17,
   "id": "a89f289f-510d-4307-b887-f9daab683274",
   "metadata": {},
   "outputs": [
    {
     "name": "stdout",
     "output_type": "stream",
     "text": [
      "(with ab:288) (with and:0)"
     ]
    }
   ],
   "source": [
    "do 100 : Search : first 2 : skip 1 : SEARCH?"
   ]
  },
  {
   "cell_type": "code",
   "execution_count": 18,
   "id": "b542d381-98ab-4eec-8214-fc74b3d1e6d0",
   "metadata": {},
   "outputs": [
    {
     "name": "stdout",
     "output_type": "stream",
     "text": [
      "(with ab:288) (with and:0) (with ap:288) (with apby:288)"
     ]
    }
   ],
   "source": [
    "dom 500 : Search : first 4 : skip 1 : SEARCH?"
   ]
  },
  {
   "cell_type": "code",
   "execution_count": 29,
   "id": "ea9b60da-83a7-495b-a2a5-141ee350bcc7",
   "metadata": {},
   "outputs": [
    {
     "name": "stdout",
     "output_type": "stream",
     "text": []
    }
   ],
   "source": [
    "write RESULT1 : dom 500 : Search : SEARCH?"
   ]
  },
  {
   "cell_type": "code",
   "execution_count": 33,
   "id": "bf173682-26ec-4222-a7a0-d4f049f43434",
   "metadata": {
    "collapsed": true,
    "jupyter": {
     "outputs_hidden": true
    },
    "tags": []
   },
   "outputs": [
    {
     "name": "stdout",
     "output_type": "stream",
     "text": [
      "(with 258:) (with 1:with) (with 1:with) (with 1:with) (with 1:with) (with 1:with) (with 1:with) (with 1:with) (with 1:with) (with 1:with) (with 1:with) (with 1:with) (with 1:with) (with 1:with) (with 1:with) (with 1:with) (with 1:with) (with 1:with) (with 1:with) (with 1:with) (with 1:with) (with 1:with) (with 1:with) (with 1:with) (with 1:with) (with 1:with) (with 1:with) (with 1:with) (with 1:with) (with 1:with) (with 1:with) (with 1:with) (with 1:with) (with 1:with) (with 1:with) (with 1:with) (with 1:with) (with 1:with) (with 1:with) (with 1:with) (with 1:with) (with 1:with) (with 1:with) (with 1:with) (with 1:with) (with 1:with) (with 1:with) (with 1:with) (with 1:with) (with 1:with) (with 1:with) (with 1:with) (with 1:with) (with 1:with) (with 1:with) (with 1:with) (with 1:with) (with 1:with) (with 1:with) (with 1:with) (with 1:with) (with 1:with) (with 1:with) (with 1:with) (with 1:with) (with 1:with) (with 1:with) (with 1:with) (with 1:with) (with 1:with) (with 1:with) (with 1:with) (with 1:with) (with 1:with) (with 1:with) (with 1:with) (with 1:with) (with 1:with) (with 1:with) (with 1:with) (with 1:with) (with 1:with) (with 1:with) (with 1:with) (with 1:with) (with 1:with) (with 1:with) (with 258:language) (with 1:multi) (with 518:𝝞)"
     ]
    }
   ],
   "source": [
    "stat : RESULT1 "
   ]
  },
  {
   "cell_type": "code",
   "execution_count": 26,
   "id": "4d18864a-1f56-4897-96d2-93fbdedd4b9b",
   "metadata": {
    "collapsed": true,
    "jupyter": {
     "outputs_hidden": true
    },
    "tags": []
   },
   "outputs": [
    {
     "name": "stdout",
     "output_type": "stream",
     "text": [
      "(with =:288) (with ab:288) (with and:0) (with ap:288) (with apby:288) (with aq:0) (with ar:0) (with arg:0) (with as:(nat_sum:0 (count:(equal ((:(:|) (:|)):(:(:|) (:| |))):((:(:|) (:| |)):(:(:|) (:|))))) (count:(equal ((:(:|) (:|)):(:(:|) (:| | |))):((:(:|) (:| | |)):(:(:|) (:|))))) (count:(equal ((:(:|) (:|)):(:(:| |) (:|))):((:(:| |) (:|)):(:(:|) (:|))))) (count:(equal ((:(:|) (:|)):(:(:| |) (:| |))):((:(:| |) (:| |)):(:(:|) (:|))))) (count:(equal ((:(:|) (:|)):(:(:| |) (:| | |))):((:(:| |) (:| | |)):(:(:|) (:|))))) (count:(equal ((:(:|) (:|)):(:(:| | |) (:|))):((:(:| | |) (:|)):(:(:|) (:|))))) (count:(equal ((:(:|) (:|)):(:(:| | |) (:| |))):((:(:| | |) (:| |)):(:(:|) (:|))))) (count:(equal ((:(:|) (:|)):(:(:| | |) (:| | |))):((:(:| | |) (:| | |)):(:(:|) (:|))))) (count:(equal ((:(:|) (:| |)):(:(:|) (:|))):((:(:|) (:|)):(:(:|) (:| |))))) 0 (count:(equal ((:(:|) (:| |)):(:(:|) (:| | |))):((:(:|) (:| | |)):(:(:|) (:| |))))) (count:(equal ((:(:|) (:| |)):(:(:| |) (:|))):((:(:| |) (:|)):(:(:|) (:| |))))) (count:(equal ((:(:|) (:| |)):(:(:| |) (:| |))):((:(:| |) (:| |)):(:(:|) (:| |))))) (count:(equal ((:(:|) (:| |)):(:(:| |) (:| | |))):((:(:| |) (:| | |)):(:(:|) (:| |))))) (count:(equal ((:(:|) (:| |)):(:(:| | |) (:|))):((:(:| | |) (:|)):(:(:|) (:| |))))) (count:(equal ((:(:|) (:| |)):(:(:| | |) (:| |))):((:(:| | |) (:| |)):(:(:|) (:| |))))) (count:(equal ((:(:|) (:| |)):(:(:| | |) (:| | |))):((:(:| | |) (:| | |)):(:(:|) (:| |))))) (count:(equal ((:(:|) (:| | |)):(:(:|) (:|))):((:(:|) (:|)):(:(:|) (:| | |))))) (count:(equal ((:(:|) (:| | |)):(:(:|) (:| |))):((:(:|) (:| |)):(:(:|) (:| | |))))) 0 (count:(equal ((:(:|) (:| | |)):(:(:| |) (:|))):((:(:| |) (:|)):(:(:|) (:| | |))))) (count:(equal ((:(:|) (:| | |)):(:(:| |) (:| |))):((:(:| |) (:| |)):(:(:|) (:| | |))))) (count:(equal ((:(:|) (:| | |)):(:(:| |) (:| | |))):((:(:| |) (:| | |)):(:(:|) (:| | |))))) (count:(equal ((:(:|) (:| | |)):(:(:| | |) (:|))):((:(:| | |) (:|)):(:(:|) (:| | |))))) (count:(equal ((:(:|) (:| | |)):(:(:| | |) (:| |))):((:(:| | |) (:| |)):(:(:|) (:| | |))))) (count:(equal ((:(:|) (:| | |)):(:(:| | |) (:| | |))):((:(:| | |) (:| | |)):(:(:|) (:| | |))))) (count:(equal ((:(:| |) (:|)):(:(:|) (:|))):((:(:|) (:|)):(:(:| |) (:|))))) (count:(equal ((:(:| |) (:|)):(:(:|) (:| |))):((:(:|) (:| |)):(:(:| |) (:|))))) (count:(equal ((:(:| |) (:|)):(:(:|) (:| | |))):((:(:|) (:| | |)):(:(:| |) (:|))))) 0 (count:(equal ((:(:| |) (:|)):(:(:| |) (:| |))):((:(:| |) (:| |)):(:(:| |) (:|))))) (count:(equal ((:(:| |) (:|)):(:(:| |) (:| | |))):((:(:| |) (:| | |)):(:(:| |) (:|))))) (count:(equal ((:(:| |) (:|)):(:(:| | |) (:|))):((:(:| | |) (:|)):(:(:| |) (:|))))) (count:(equal ((:(:| |) (:|)):(:(:| | |) (:| |))):((:(:| | |) (:| |)):(:(:| |) (:|))))) (count:(equal ((:(:| |) (:|)):(:(:| | |) (:| | |))):((:(:| | |) (:| | |)):(:(:| |) (:|))))) (count:(equal ((:(:| |) (:| |)):(:(:|) (:|))):((:(:|) (:|)):(:(:| |) (:| |))))) (count:(equal ((:(:| |) (:| |)):(:(:|) (:| |))):((:(:|) (:| |)):(:(:| |) (:| |))))) (count:(equal ((:(:| |) (:| |)):(:(:|) (:| | |))):((:(:|) (:| | |)):(:(:| |) (:| |))))) (count:(equal ((:(:| |) (:| |)):(:(:| |) (:|))):((:(:| |) (:|)):(:(:| |) (:| |))))) 0 (count:(equal ((:(:| |) (:| |)):(:(:| |) (:| | |))):((:(:| |) (:| | |)):(:(:| |) (:| |))))) (count:(equal ((:(:| |) (:| |)):(:(:| | |) (:|))):((:(:| | |) (:|)):(:(:| |) (:| |))))) (count:(equal ((:(:| |) (:| |)):(:(:| | |) (:| |))):((:(:| | |) (:| |)):(:(:| |) (:| |))))) (count:(equal ((:(:| |) (:| |)):(:(:| | |) (:| | |))):((:(:| | |) (:| | |)):(:(:| |) (:| |))))) (count:(equal ((:(:| |) (:| | |)):(:(:|) (:|))):((:(:|) (:|)):(:(:| |) (:| | |))))) (count:(equal ((:(:| |) (:| | |)):(:(:|) (:| |))):((:(:|) (:| |)):(:(:| |) (:| | |))))) (count:(equal ((:(:| |) (:| | |)):(:(:|) (:| | |))):((:(:|) (:| | |)):(:(:| |) (:| | |))))) (count:(equal ((:(:| |) (:| | |)):(:(:| |) (:|))):((:(:| |) (:|)):(:(:| |) (:| | |))))) (count:(equal ((:(:| |) (:| | |)):(:(:| |) (:| |))):((:(:| |) (:| |)):(:(:| |) (:| | |))))) 0 (count:(equal ((:(:| |) (:| | |)):(:(:| | |) (:|))):((:(:| | |) (:|)):(:(:| |) (:| | |))))) (count:(equal ((:(:| |) (:| | |)):(:(:| | |) (:| |))):((:(:| | |) (:| |)):(:(:| |) (:| | |))))) (count:(equal ((:(:| |) (:| | |)):(:(:| | |) (:| | |))):((:(:| | |) (:| | |)):(:(:| |) (:| | |))))) (count:(equal ((:(:| | |) (:|)):(:(:|) (:|))):((:(:|) (:|)):(:(:| | |) (:|))))) (count:(equal ((:(:| | |) (:|)):(:(:|) (:| |))):((:(:|) (:| |)):(:(:| | |) (:|))))) (count:(equal ((:(:| | |) (:|)):(:(:|) (:| | |))):((:(:|) (:| | |)):(:(:| | |) (:|))))) (count:(equal ((:(:| | |) (:|)):(:(:| |) (:|))):((:(:| |) (:|)):(:(:| | |) (:|))))) (count:(equal ((:(:| | |) (:|)):(:(:| |) (:| |))):((:(:| |) (:| |)):(:(:| | |) (:|))))) (count:(equal ((:(:| | |) (:|)):(:(:| |) (:| | |))):((:(:| |) (:| | |)):(:(:| | |) (:|))))) 0 (count:(equal ((:(:| | |) (:|)):(:(:| | |) (:| |))):((:(:| | |) (:| |)):(:(:| | |) (:|))))) (count:(equal ((:(:| | |) (:|)):(:(:| | |) (:| | |))):((:(:| | |) (:| | |)):(:(:| | |) (:|))))) (count:(equal ((:(:| | |) (:| |)):(:(:|) (:|))):((:(:|) (:|)):(:(:| | |) (:| |))))) (count:(equal ((:(:| | |) (:| |)):(:(:|) (:| |))):((:(:|) (:| |)):(:(:| | |) (:| |))))) (count:(equal ((:(:| | |) (:| |)):(:(:|) (:| | |))):((:(:|) (:| | |)):(:(:| | |) (:| |))))) (count:(equal ((:(:| | |) (:| |)):(:(:| |) (:|))):((:(:| |) (:|)):(:(:| | |) (:| |))))) (count:(equal ((:(:| | |) (:| |)):(:(:| |) (:| |))):((:(:| |) (:| |)):(:(:| | |) (:| |))))) (count:(equal ((:(:| | |) (:| |)):(:(:| |) (:| | |))):((:(:| |) (:| | |)):(:(:| | |) (:| |))))) (count:(equal ((:(:| | |) (:| |)):(:(:| | |) (:|))):((:(:| | |) (:|)):(:(:| | |) (:| |))))) 0 (count:(equal ((:(:| | |) (:| |)):(:(:| | |) (:| | |))):((:(:| | |) (:| | |)):(:(:| | |) (:| |))))) (count:(equal ((:(:| | |) (:| | |)):(:(:|) (:|))):((:(:|) (:|)):(:(:| | |) (:| | |))))) (count:(equal ((:(:| | |) (:| | |)):(:(:|) (:| |))):((:(:|) (:| |)):(:(:| | |) (:| | |))))) (count:(equal ((:(:| | |) (:| | |)):(:(:|) (:| | |))):((:(:|) (:| | |)):(:(:| | |) (:| | |))))) (count:(equal ((:(:| | |) (:| | |)):(:(:| |) (:|))):((:(:| |) (:|)):(:(:| | |) (:| | |))))) (count:(equal ((:(:| | |) (:| | |)):(:(:| |) (:| |))):((:(:| |) (:| |)):(:(:| | |) (:| | |))))) (count:(equal ((:(:| | |) (:| | |)):(:(:| |) (:| | |))):((:(:| |) (:| | |)):(:(:| | |) (:| | |))))) (count:(equal ((:(:| | |) (:| | |)):(:(:| | |) (:|))):((:(:| | |) (:|)):(:(:| | |) (:| | |))))) (count:(equal ((:(:| | |) (:| | |)):(:(:| | |) (:| |))):((:(:| | |) (:| |)):(:(:| | |) (:| | |))))) 0)) (with bin:288)"
     ]
    }
   ],
   "source": [
    "dom 500 : first 10 : Search : SEARCH?"
   ]
  },
  {
   "cell_type": "code",
   "execution_count": 23,
   "id": "9482db7a-26ff-45bf-8797-690c6dbacd0f",
   "metadata": {},
   "outputs": [
    {
     "name": "stdout",
     "output_type": "stream",
     "text": [
      "81"
     ]
    }
   ],
   "source": []
  },
  {
   "cell_type": "code",
   "execution_count": null,
   "id": "6ae12e95-97c8-4202-851c-9cc2d4a58399",
   "metadata": {},
   "outputs": [],
   "source": []
  }
 ],
 "metadata": {
  "kernelspec": {
   "display_name": "coda",
   "language": "",
   "name": "coda"
  },
  "language_info": {
   "file_extension": ".co",
   "mimetype": "text/plain",
   "name": "Any text"
  }
 },
 "nbformat": 4,
 "nbformat_minor": 5
}
