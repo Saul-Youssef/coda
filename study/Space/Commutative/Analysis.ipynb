{
 "cells": [
  {
   "cell_type": "code",
   "execution_count": 1,
   "id": "b145e065-ee32-4f83-88ae-34fe75f46290",
   "metadata": {},
   "outputs": [
    {
     "name": "stdout",
     "output_type": "stream",
     "text": []
    }
   ],
   "source": [
    "import : dir co : up : ."
   ]
  },
  {
   "cell_type": "code",
   "execution_count": 2,
   "id": "8a29ec8a-b022-4792-923b-19db13dbc9e5",
   "metadata": {},
   "outputs": [
    {
     "name": "stdout",
     "output_type": "stream",
     "text": [
      "(:arg) (:bin) (:by) (:co) (:collect) (:count) (:domain) (:equiv) (:first) (:float_div) (:float_inv) (:float_max) (:float_min) (:float_prod) (:float_sort) (:float_sum) (:floats) (:get) (:has) (:hasnt) (:if) (:int_div) (:int_inv) (:int_max) (:int_min) (:int_prod) (:int_sort) (:int_sum) (:ints) (:is) (:isnt) (:last) (:left) (:nat) (:nat_max) (:nat_min) (:nat_prod) (:nat_sort) (:nat_sum) (:nats) (:nif) (:nth) (:nth1) (:null) (:once) (:pass) (:plus) (:post) (:pre) (:prod) (:put) (:rep) (:rev) (:right) (:skip) (:star) (:sum) (:tail) (:text_sort)"
     ]
    }
   ],
   "source": [
    "T0?"
   ]
  },
  {
   "cell_type": "code",
   "execution_count": 3,
   "id": "98d587fd-0588-43b7-a359-295949ea7649",
   "metadata": {},
   "outputs": [
    {
     "name": "stdout",
     "output_type": "stream",
     "text": [
      "(with (def x:{A} a) (def y:{A} a):0) (with (def x:{A} a) (def y:{A} b):4) (with (def x:{A} a) (def y:{A} c):2) (with (def x:{A} b) (def y:{A} a):4) (with (def x:{A} b) (def y:{A} b):0) (with (def x:{A} b) (def y:{A} c):2) (with (def x:{A} c) (def y:{A} a):2) (with (def x:{A} c) (def y:{A} b):2) (with (def x:{A} c) (def y:{A} c):0)"
     ]
    }
   ],
   "source": [
    "theorem (commutative:bin) : (:a) (:b) (:c)"
   ]
  },
  {
   "cell_type": "code",
   "execution_count": 4,
   "id": "1f1b62d7-929c-4f03-ac91-cdff8e18edd9",
   "metadata": {},
   "outputs": [
    {
     "name": "stdout",
     "output_type": "stream",
     "text": [
      "(bin pass:0 4 2 4 0 2 2 2 0) (bin null:0)"
     ]
    }
   ],
   "source": [
    "ap {put bin (get:B) : right : theorem (commutative:(get:B)) : A} (:a) (:b) (:c) : (:pass) (:null)  "
   ]
  },
  {
   "cell_type": "code",
   "execution_count": 5,
   "id": "7624ed0c-146d-4441-b200-d4fd4a04f93e",
   "metadata": {},
   "outputs": [
    {
     "name": "stdout",
     "output_type": "stream",
     "text": []
    }
   ],
   "source": [
    "Def Test : {put bin (get:B) : right : theorem (commutative:(get:B)) : A}"
   ]
  },
  {
   "cell_type": "code",
   "execution_count": 6,
   "id": "9c1463ec-6081-4f17-bdbc-f1be3721a62b",
   "metadata": {},
   "outputs": [
    {
     "name": "stdout",
     "output_type": "stream",
     "text": [
      "(with:(bin pass:0 4 2 4 0 2 2 2 0)) (with:(bin null:0))"
     ]
    }
   ],
   "source": [
    "multi : ap {with:Test A:B} (:a) (:b) (:c) : (:pass) (:null)"
   ]
  },
  {
   "cell_type": "code",
   "execution_count": 7,
   "id": "40266129-b1a1-4e5a-bc56-0531c6083e10",
   "metadata": {},
   "outputs": [
    {
     "name": "stdout",
     "output_type": "stream",
     "text": []
    }
   ],
   "source": [
    "Def TEST : {multi : ap {with:Test A:B} A : B} "
   ]
  },
  {
   "cell_type": "code",
   "execution_count": 8,
   "id": "943b1338-06f1-41c0-a467-c15956e6bf6d",
   "metadata": {},
   "outputs": [
    {
     "name": "stdout",
     "output_type": "stream",
     "text": []
    }
   ],
   "source": [
    "# TEST (:) (:a a) (:a b) : T1?"
   ]
  },
  {
   "cell_type": "code",
   "execution_count": 9,
   "id": "3f5bc195-9571-4749-b8f0-716279990174",
   "metadata": {},
   "outputs": [
    {
     "name": "stdout",
     "output_type": "stream",
     "text": []
    }
   ],
   "source": [
    "Let R0 : TEST (:) (:a a) (:a b) : T0? "
   ]
  },
  {
   "cell_type": "code",
   "execution_count": 10,
   "id": "0d2b771b-aadd-4553-9a2b-868cc5a1675f",
   "metadata": {},
   "outputs": [
    {
     "name": "stdout",
     "output_type": "stream",
     "text": [
      "(with:(bin arg:0 0 0 0 0 0 0 0 0)) (with:(bin bin:0 0 0 0 0 4 0 4 0)) (with:(bin by:0 0 0 0 0 4 0 4 0)) (with:(bin co:0)) (with:(bin collect:0 0 0 0 0 4 0 4 0)) (with:(bin count:0 0 0 0 0 0 0 0 0)) (with:(bin domain:0 0 0 0 0 0 0 0 0)) (with:(bin equiv:0 0 0 0 0 0 0 0 0)) (with:(bin first:0 0 0 0 0 0 0 0 0)) (with:(bin float_div:0 0 0 0 0 4 0 4 0)) (with:(bin float_inv:0 0 0 0 0 0 0 0 0)) (with:(bin float_max:0 0 0 0 0 0 0 0 0)) (with:(bin float_min:0 0 0 0 0 0 0 0 0)) (with:(bin float_prod:0 0 0 0 0 0 0 0 0)) (with:(bin float_sort:0 0 0 0 0 0 0 0 0)) (with:(bin float_sum:0 0 0 0 0 0 0 0 0)) (with:(bin floats:0 0 0 0 0 0 0 0 0)) (with:(bin get:0 0 0 0 0 0 0 0 0)) (with:(bin has:0 0 0 0 0 0 0 0 0)) (with:(bin hasnt:0 0 0 0 0 4 0 4 0)) (with:(bin if:0 0 0 0 0 4 0 4 0)) (with:(bin int_div:0 0 0 0 0 4 0 4 0)) (with:(bin int_inv:0 0 0 0 0 0 0 0 0)) (with:(bin int_max:0 0 0 0 0 0 0 0 0)) (with:(bin int_min:0 0 0 0 0 0 0 0 0)) (with:(bin int_prod:0 0 0 0 0 0 0 0 0)) (with:(bin int_sort:0 0 0 0 0 0 0 0 0)) (with:(bin int_sum:0 0 0 0 0 0 0 0 0)) (with:(bin ints:0 0 0 0 0 0 0 0 0)) (with:(bin is:0 0 0 0 0 0 0 0 0)) (with:(bin isnt:0 0 0 0 0 4 0 4 0)) (with:(bin last:0 0 0 0 0 2 0 2 0)) (with:(bin left:0 0 0 0 0 0 0 0 0)) (with:(bin nat:0)) (with:(bin nat_max:0 0 0 0 0 0 0 0 0)) (with:(bin nat_min:0 0 0 0 0 0 0 0 0)) (with:(bin nat_prod:0 0 0 0 0 0 0 0 0)) (with:(bin nat_sort:0 0 0 0 0 0 0 0 0)) (with:(bin nat_sum:0 0 0 0 0 0 0 0 0)) (with:(bin nats:0 0 0 0 0 0 0 0 0)) (with:(bin nif:0)) (with:(bin nth:0)) (with:(bin nth1:0)) (with:(bin null:0)) (with:(bin once:0 0 0 0 0 0 0 0 0)) (with:(bin pass:0 0 0 0 0 4 0 4 0)) (with:(bin plus:0 0 0 0 0 4 0 4 0)) (with:(bin post:0 0 0 0 0 4 0 4 0)) (with:(bin pre:0 0 0 0 0 4 0 4 0)) (with:(bin prod:0 0 0 0 0 4 0 4 0)) (with:(bin put:0 0 0 0 0 4 0 4 0)) (with:(bin rep:0 0 0 0 0 4 0 4 0)) (with:(bin rev:0 0 0 0 0 4 0 4 0)) (with:(bin right:0 0 0 0 0 4 0 4 0)) (with:(bin skip:0 0 0 0 0 4 0 4 0)) (with:(bin star:0 0 0 0 0 4 0 4 0)) (with:(bin sum:0)) (with:(bin tail:0 0 0 0 0 4 0 4 0)) (with:(bin text_sort:0 0 0 0 0 0 0 0 0))"
     ]
    }
   ],
   "source": [
    "R0?"
   ]
  },
  {
   "cell_type": "code",
   "execution_count": 11,
   "id": "e6cf7b6a-8de4-411c-b6e4-26201bcbda50",
   "metadata": {},
   "outputs": [
    {
     "name": "stdout",
     "output_type": "stream",
     "text": []
    }
   ],
   "source": [
    "out R0 : R0?"
   ]
  },
  {
   "cell_type": "code",
   "execution_count": 12,
   "id": "badced53-af87-4c72-8cf1-76b8bf2f6f8c",
   "metadata": {},
   "outputs": [
    {
     "name": "stdout",
     "output_type": "stream",
     "text": []
    }
   ],
   "source": [
    "Let R1 : TEST (:) (:a a) (:a b) : T1?"
   ]
  },
  {
   "cell_type": "code",
   "execution_count": null,
   "id": "75043a96-797a-41c2-b452-90e0c5247218",
   "metadata": {},
   "outputs": [],
   "source": [
    "R1?"
   ]
  },
  {
   "cell_type": "code",
   "execution_count": null,
   "id": "46995fa5-de2c-4cab-a39d-11a2843cc9fd",
   "metadata": {},
   "outputs": [],
   "source": [
    "out R1 : R1?"
   ]
  },
  {
   "cell_type": "code",
   "execution_count": null,
   "id": "094c6271-d1c6-4150-953c-0487d24665ea",
   "metadata": {},
   "outputs": [],
   "source": [
    "Let R2 : TEST (:) (:a a) (:a b) : T2? "
   ]
  },
  {
   "cell_type": "code",
   "execution_count": null,
   "id": "3b4158a4-6858-4648-be47-c38bc644cf36",
   "metadata": {},
   "outputs": [],
   "source": [
    "R2?"
   ]
  },
  {
   "cell_type": "code",
   "execution_count": null,
   "id": "18d792dc-c12d-42da-80b9-3a5b4ce3a5ef",
   "metadata": {},
   "outputs": [],
   "source": [
    "out R2 : R2?"
   ]
  },
  {
   "cell_type": "code",
   "execution_count": null,
   "id": "d171c57c-3bc2-4021-b257-557c269d4b69",
   "metadata": {},
   "outputs": [],
   "source": []
  }
 ],
 "metadata": {
  "kernelspec": {
   "display_name": "coda",
   "language": "",
   "name": "coda"
  },
  "language_info": {
   "file_extension": ".co",
   "mimetype": "text/plain",
   "name": "Any text"
  }
 },
 "nbformat": 4,
 "nbformat_minor": 5
}
