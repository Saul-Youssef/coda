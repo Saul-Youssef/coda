{
 "cells": [
  {
   "cell_type": "code",
   "execution_count": 10,
   "id": "cb90c6d5-0c69-4f3a-a608-f637192cd77e",
   "metadata": {},
   "outputs": [
    {
     "name": "stdout",
     "output_type": "stream",
     "text": [
      "(defaultTime:1000)"
     ]
    }
   ],
   "source": [
    "defaultTime : 1000"
   ]
  },
  {
   "cell_type": "code",
   "execution_count": 2,
   "id": "cfad7469-1f59-4826-af54-af7ab6ec61a5",
   "metadata": {},
   "outputs": [
    {
     "name": "stdout",
     "output_type": "stream",
     "text": []
    }
   ],
   "source": [
    "import : dir co : up : up : ."
   ]
  },
  {
   "cell_type": "code",
   "execution_count": 3,
   "id": "48067798-51f6-492b-b9f0-64308ad5252e",
   "metadata": {},
   "outputs": [
    {
     "name": "stdout",
     "output_type": "stream",
     "text": [
      "(with null:) (with pass:◎)"
     ]
    }
   ],
   "source": [
    "do 100 : property commutative (:a) (:b) : (:null) (:pass)"
   ]
  },
  {
   "cell_type": "code",
   "execution_count": null,
   "id": "6de7afc5-0981-4a11-bb42-7b09f42e8cde",
   "metadata": {},
   "outputs": [],
   "source": [
    "out commutative.C0-S6 3600 : dom 100 : property commutative S6? : C0? \n",
    "out commutative.C2-S6 3600 : dom 100 : property commutative S6? : C2? "
   ]
  }
 ],
 "metadata": {
  "kernelspec": {
   "display_name": "coda",
   "language": "",
   "name": "coda"
  },
  "language_info": {
   "file_extension": ".co",
   "mimetype": "text/plain",
   "name": "Any text"
  }
 },
 "nbformat": 4,
 "nbformat_minor": 5
}
