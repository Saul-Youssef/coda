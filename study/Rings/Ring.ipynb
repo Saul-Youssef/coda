{
 "cells": [
  {
   "cell_type": "code",
   "execution_count": 2,
   "id": "cb1a2373-f61c-4874-b327-955f9380f958",
   "metadata": {},
   "outputs": [
    {
     "name": "stdout",
     "output_type": "stream",
     "text": []
    }
   ],
   "source": [
    "import : ."
   ]
  },
  {
   "cell_type": "code",
   "execution_count": 6,
   "id": "e4f587a4-84f2-4c2b-90c6-41b0afc7b6ad",
   "metadata": {},
   "outputs": [
    {
     "name": "stdout",
     "output_type": "stream",
     "text": [
      "(n:1) (n:2) (n:3) (n:4)"
     ]
    }
   ],
   "source": [
    "type : 1 2 3 4 "
   ]
  },
  {
   "cell_type": "code",
   "execution_count": 14,
   "id": "07cc8266-19a6-4d19-bb24-0a5febbadfb5",
   "metadata": {},
   "outputs": [
    {
     "name": "stdout",
     "output_type": "stream",
     "text": [
      "(n:10)"
     ]
    }
   ],
   "source": [
    "sum : type : 1 2 3 4 "
   ]
  },
  {
   "cell_type": "code",
   "execution_count": 15,
   "id": "e6c6dd86-48f4-4d4e-a1a7-a0079d2f5823",
   "metadata": {},
   "outputs": [
    {
     "name": "stdout",
     "output_type": "stream",
     "text": [
      "(pair:(n:1) (n:2)) (pair:(n:3) (n:43))"
     ]
    }
   ],
   "source": [
    "type2 : type : 1 2 3 43"
   ]
  },
  {
   "cell_type": "code",
   "execution_count": 9,
   "id": "b132b988-3b6f-4056-b681-bd6a96ba22c5",
   "metadata": {},
   "outputs": [
    {
     "name": "stdout",
     "output_type": "stream",
     "text": [
      "(pair:(n:0) (n:0))"
     ]
    }
   ],
   "source": [
    "sum2 : 1 2 3 4 "
   ]
  },
  {
   "cell_type": "code",
   "execution_count": null,
   "id": "09694440-8a95-481c-bdcd-79c5b5af3795",
   "metadata": {},
   "outputs": [],
   "source": [
    "sum2 : 1 2 "
   ]
  },
  {
   "cell_type": "code",
   "execution_count": null,
   "id": "9abaed06-c641-463d-830e-700431c54c54",
   "metadata": {},
   "outputs": [],
   "source": [
    "sum2 : type2 : 1 2 3 4 "
   ]
  },
  {
   "cell_type": "code",
   "execution_count": 10,
   "id": "0ff01dac-9fea-466d-85e2-b13c4a173e47",
   "metadata": {},
   "outputs": [
    {
     "name": "stdout",
     "output_type": "stream",
     "text": [
      "2385/2777\n"
     ]
    }
   ],
   "source": [
    "cache:4"
   ]
  },
  {
   "cell_type": "code",
   "execution_count": 16,
   "id": "f49ce223-f234-4b58-a2f5-e19293b37888",
   "metadata": {},
   "outputs": [
    {
     "name": "stdout",
     "output_type": "stream",
     "text": [
      "\u001b[;1mcode:\u001b[0m\n",
      "    \u001b[34;7mequiv\u001b[0m\n",
      "\u001b[;1mmodule:\u001b[0m\n",
      "    Collect\n",
      "\u001b[;1msummary:\u001b[0m\n",
      "    Collect inputs b with the same value of (A:b).\n",
      "\u001b[;1mdescription:\u001b[0m\n",
      "    1. Equivalence classes of input codes.\n",
      "    2. Same as 1 with collected value (bin V:...)\n",
      "    3. Codes with the same length as byte sequences.\n",
      "    4. Same as 3 with the length (bin L:..codes with length L..)\n",
      "\u001b[;1mpath:\u001b[0m\n",
      "    /Users/youssef/coda/py/Collect.py\n",
      "\u001b[;1mdemos:\u001b[0m\n",
      "    1. \u001b[35;4mequiv : a b a b a a a x\u001b[0m\n",
      "    2. \u001b[35;4mcollect : a b a b a a a x\u001b[0m\n",
      "    3. \u001b[35;4mget ((:):(:)) : a b aa bb aaa cccc zz xxx xxx\u001b[0m\n",
      "    4. \u001b[35;4mequiv {count:get ((:):(:)):B} : a b aa bb aaa cccc zz xxx xxx\u001b[0m\n",
      "    5. \u001b[35;4mcollect {count:get ((:):(:)):B} : a b aa bb aaa cccc zz xxx xxx\u001b[0m\n",
      "    6. \u001b[35;4mcounts {count:get ((:):(:)):B} : a b aa bb aaa cccc zz xxx xxx\u001b[0m\n"
     ]
    }
   ],
   "source": [
    "help : equiv"
   ]
  },
  {
   "cell_type": "code",
   "execution_count": 17,
   "id": "98537534-9eea-4bc6-9403-35d3561ceeea",
   "metadata": {},
   "outputs": [
    {
     "name": "stdout",
     "output_type": "stream",
     "text": [
      "(demo 4.:equiv)"
     ]
    }
   ],
   "source": [
    "demo 4. :equiv"
   ]
  },
  {
   "cell_type": "code",
   "execution_count": 18,
   "id": "1e5117cb-a011-4a23-8084-1369f0510441",
   "metadata": {},
   "outputs": [
    {
     "name": "stdout",
     "output_type": "stream",
     "text": [
      "(bin:a b) (bin:aa bb zz) (bin:aaa xxx xxx) (bin:cccc)"
     ]
    }
   ],
   "source": [
    "demo 4 : equiv"
   ]
  },
  {
   "cell_type": "code",
   "execution_count": null,
   "id": "d90057cf-4b56-4304-9039-fe3ee427fcc5",
   "metadata": {},
   "outputs": [],
   "source": []
  }
 ],
 "metadata": {
  "kernelspec": {
   "display_name": "coda",
   "language": "",
   "name": "coda"
  },
  "language_info": {
   "file_extension": ".co",
   "mimetype": "text/plain",
   "name": "Any text"
  }
 },
 "nbformat": 4,
 "nbformat_minor": 5
}
