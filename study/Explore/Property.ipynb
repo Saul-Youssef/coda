{
 "cells": [
  {
   "cell_type": "markdown",
   "id": "2d238f34-a6b3-4f8a-b009-b15c695269c2",
   "metadata": {},
   "source": [
    "## Property based search\n",
    "\n",
    "1) A theorem is data which is never false\n",
    "2) Data P is a property of data D if P:D is a theorem "
   ]
  },
  {
   "cell_type": "code",
   "execution_count": 1,
   "id": "c141a208-3921-494c-97ed-d079c9334879",
   "metadata": {},
   "outputs": [],
   "source": [
    "from base import * \n",
    "import Set,Sample,Define,Compile "
   ]
  },
  {
   "cell_type": "code",
   "execution_count": 2,
   "id": "cf1486bf-a802-4b1c-b8b5-f503699bf768",
   "metadata": {},
   "outputs": [],
   "source": [
    "def atoms(n): return Sample.oddAtoms(n)+Sample.evenAtoms(n)"
   ]
  },
  {
   "cell_type": "code",
   "execution_count": 3,
   "id": "8a8faa7b-0671-4055-b059-fcc0580936d8",
   "metadata": {},
   "outputs": [
    {
     "name": "stdout",
     "output_type": "stream",
     "text": [
      "◎\n",
      "◎ ◎ ◎\n",
      "◎ ◎ ◎ ◎ ◎\n",
      "\n",
      "◎ ◎\n",
      "◎ ◎ ◎ ◎\n"
     ]
    }
   ],
   "source": [
    "for x in atoms(3): print(x)"
   ]
  },
  {
   "cell_type": "code",
   "execution_count": 4,
   "id": "87c5adc0-45e9-46f0-bf7a-51c463888d5e",
   "metadata": {},
   "outputs": [],
   "source": [
    "DOMAIN = Sample.Domain(*Sample.codas)"
   ]
  },
  {
   "cell_type": "code",
   "execution_count": 5,
   "id": "dcbc5d60-55c9-4bb7-b0dd-4caedd919e96",
   "metadata": {},
   "outputs": [],
   "source": [
    "SAMPLE = atoms(3)"
   ]
  },
  {
   "cell_type": "code",
   "execution_count": 13,
   "id": "4198cad8-742b-4f91-82d6-ff82fabdb669",
   "metadata": {},
   "outputs": [],
   "source": [
    "T = Compile.compile('X? = X?')"
   ]
  },
  {
   "cell_type": "code",
   "execution_count": 14,
   "id": "b772080d-5348-44fe-985b-08e6ce77f240",
   "metadata": {},
   "outputs": [],
   "source": [
    "for v in Define.variables(T): print(v)"
   ]
  },
  {
   "cell_type": "code",
   "execution_count": 15,
   "id": "8c9cdd2f-4014-49e7-8ab9-f4e481b1146f",
   "metadata": {
    "tags": []
   },
   "outputs": [],
   "source": [
    "sub = SAMPLE.theorem(T,SAMPLE)"
   ]
  },
  {
   "cell_type": "code",
   "execution_count": null,
   "id": "ab116efe-eae2-4f7d-89ab-5f355c228baf",
   "metadata": {},
   "outputs": [],
   "source": []
  },
  {
   "cell_type": "code",
   "execution_count": null,
   "id": "1eb47eda-b0c2-4817-aa70-7bc8fb675d7f",
   "metadata": {},
   "outputs": [],
   "source": []
  }
 ],
 "metadata": {
  "kernelspec": {
   "display_name": "Python 3 (ipykernel)",
   "language": "python",
   "name": "python3"
  },
  "language_info": {
   "codemirror_mode": {
    "name": "ipython",
    "version": 3
   },
   "file_extension": ".py",
   "mimetype": "text/x-python",
   "name": "python",
   "nbconvert_exporter": "python",
   "pygments_lexer": "ipython3",
   "version": "3.10.7"
  }
 },
 "nbformat": 4,
 "nbformat_minor": 5
}
