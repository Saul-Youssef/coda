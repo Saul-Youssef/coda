{
 "cells": [
  {
   "cell_type": "markdown",
   "id": "46cd44b2-1e9d-4bfa-8869-6b49721d6060",
   "metadata": {},
   "source": [
    "## Endmorphism of n.sum \n",
    "\n",
    "Let's find some endomorphisms of natural number spaces, trying n.sum first, as an illustration of how this is done."
   ]
  },
  {
   "cell_type": "code",
   "execution_count": 1,
   "id": "573c747f-63a2-455a-96bc-da8255dfd875",
   "metadata": {},
   "outputs": [
    {
     "name": "stdout",
     "output_type": "stream",
     "text": []
    }
   ],
   "source": [
    "#\n",
    "#   Import common stuff including algebraic definitions and some generic data samples \n",
    "#\n",
    "import : dir co : up : ."
   ]
  },
  {
   "cell_type": "code",
   "execution_count": 2,
   "id": "bda42c60-f88f-4c55-b9eb-1ca1c9a70dcb",
   "metadata": {},
   "outputs": [
    {
     "name": "stdout",
     "output_type": "stream",
     "text": []
    }
   ],
   "source": [
    "Let Dom1 : (:(n:1)) (:(n:1) (n:2)) (:(n:1) (n:3) (n:45)) "
   ]
  },
  {
   "cell_type": "code",
   "execution_count": 3,
   "id": "328e7512-596e-4a1c-970d-37a1873dc92c",
   "metadata": {},
   "outputs": [
    {
     "name": "stdout",
     "output_type": "stream",
     "text": []
    }
   ],
   "source": [
    "Def endomorphism : {(A:n.sum:B)=(n.sum:A:B)} "
   ]
  },
  {
   "cell_type": "code",
   "execution_count": 4,
   "id": "b6408095-9c65-414d-b89f-e47411c377db",
   "metadata": {},
   "outputs": [
    {
     "name": "stdout",
     "output_type": "stream",
     "text": []
    }
   ],
   "source": [
    "#   Demo\n",
    "#\n",
    "#   F is an endomorphism of n.sum \n",
    "#   G is not an endomorphism \n",
    "#\n",
    "Def F : ap {put n:int_prod:2 B} * get n \n",
    "Def G : {B B}"
   ]
  },
  {
   "cell_type": "code",
   "execution_count": 5,
   "id": "1236d523-dd75-48ff-b777-0140c2a1fbfd",
   "metadata": {},
   "outputs": [
    {
     "name": "stdout",
     "output_type": "stream",
     "text": [
      "(n:6)\n",
      "(n:6)\n",
      "(n:3) (n:3)\n",
      "(n:6)"
     ]
    }
   ],
   "source": [
    "F : n.sum : (n:1) (n:2) \n",
    "n.sum : F : (n:1) (n:2)\n",
    "G : n.sum : (n:1) (n:2)\n",
    "n.sum : G : (n:1) (n:2)"
   ]
  },
  {
   "cell_type": "code",
   "execution_count": 6,
   "id": "19495302-09c0-434e-9c96-fec0cc0f8315",
   "metadata": {},
   "outputs": [
    {
     "name": "stdout",
     "output_type": "stream",
     "text": [
      "0\n",
      "3"
     ]
    }
   ],
   "source": [
    "count : endomorphism F : (n:1) (n:2)\n",
    "count : endomorphism G : (n:1) (n:2)"
   ]
  },
  {
   "cell_type": "code",
   "execution_count": 7,
   "id": "bdfc2361-4a79-4b58-bf44-85809fc13148",
   "metadata": {},
   "outputs": [
    {
     "name": "stdout",
     "output_type": "stream",
     "text": [
      "0\n",
      "1"
     ]
    }
   ],
   "source": [
    "count : theorem (endomorphism F:x?) : (:(n:1) (n:2))\n",
    "count : theorem (endomorphism G:x?) : (:(n:1) (n:2))"
   ]
  },
  {
   "cell_type": "code",
   "execution_count": 8,
   "id": "edad2295-ee42-4429-8bde-d424378277bf",
   "metadata": {},
   "outputs": [
    {
     "name": "stdout",
     "output_type": "stream",
     "text": [
      "0\n",
      "3"
     ]
    }
   ],
   "source": [
    "count : theorem (endomorphism F:x?) : Dom1?\n",
    "count : theorem (endomorphism G:x?) : Dom1?"
   ]
  },
  {
   "cell_type": "code",
   "execution_count": 9,
   "id": "e7389f27-9cbf-4e20-887f-915294dd96e7",
   "metadata": {},
   "outputs": [
    {
     "name": "stdout",
     "output_type": "stream",
     "text": [
      "0\n",
      "3"
     ]
    }
   ],
   "source": [
    "count : ap {endomorphism F:B} : Dom1?\n",
    "count : ap {endomorphism G:B} : Dom1?"
   ]
  },
  {
   "cell_type": "code",
   "execution_count": 10,
   "id": "00425fb0-1ab5-43e8-843e-0da8bb4affa2",
   "metadata": {},
   "outputs": [
    {
     "name": "stdout",
     "output_type": "stream",
     "text": []
    }
   ],
   "source": [
    "ap {endomorphism A:get:B} F : Dom1?"
   ]
  },
  {
   "cell_type": "code",
   "execution_count": 11,
   "id": "9bd53344-2bfe-414c-b461-280d0f0d0e19",
   "metadata": {},
   "outputs": [
    {
     "name": "stdout",
     "output_type": "stream",
     "text": []
    }
   ],
   "source": [
    "Def test : {ap {endomorphism A:get:B} A : B}"
   ]
  },
  {
   "cell_type": "code",
   "execution_count": 12,
   "id": "52571cc3-3b1a-4f1a-af81-ddc83993283e",
   "metadata": {},
   "outputs": [
    {
     "name": "stdout",
     "output_type": "stream",
     "text": [
      "0\n",
      "11"
     ]
    }
   ],
   "source": [
    "count : test F : Dom1?\n",
    "count : test G : Dom1?"
   ]
  },
  {
   "cell_type": "code",
   "execution_count": 13,
   "id": "faffa7a8-fecc-4400-88c0-27f6dad18e4e",
   "metadata": {},
   "outputs": [
    {
     "name": "stdout",
     "output_type": "stream",
     "text": [
      "(bin F:0) (bin G:11)"
     ]
    }
   ],
   "source": [
    "ap {bin (get:B) : count : test (get:B) :Dom1?} : (:F) (:G)"
   ]
  },
  {
   "cell_type": "code",
   "execution_count": 14,
   "id": "a8afe604-2d1a-47a9-ba5b-97a4d1894fc4",
   "metadata": {},
   "outputs": [
    {
     "name": "stdout",
     "output_type": "stream",
     "text": [
      "(bin F:0) (bin G:11)"
     ]
    }
   ],
   "source": [
    "ap {bin (get:B) : count : test (get:B) : A} Dom1? : (:F) (:G)"
   ]
  },
  {
   "cell_type": "code",
   "execution_count": 15,
   "id": "55540413-f9a9-48ca-9c8e-57a6cb173eb4",
   "metadata": {},
   "outputs": [
    {
     "name": "stdout",
     "output_type": "stream",
     "text": []
    }
   ],
   "source": [
    "Def Test : {ap {bin (get:B) : count : test (get:B) : A} A : B} "
   ]
  },
  {
   "cell_type": "code",
   "execution_count": 16,
   "id": "afc1e285-7127-471a-b075-cde1a7cbd2ff",
   "metadata": {
    "collapsed": true,
    "jupyter": {
     "outputs_hidden": true,
     "source_hidden": true
    },
    "tags": []
   },
   "outputs": [
    {
     "name": "stdout",
     "output_type": "stream",
     "text": [
      "(bin F:0) (bin G:11)"
     ]
    }
   ],
   "source": [
    "Test Dom1? : (:F) (:G)"
   ]
  },
  {
   "cell_type": "code",
   "execution_count": 17,
   "id": "547491b4-d613-425e-996a-c3b7f53013a6",
   "metadata": {
    "collapsed": true,
    "jupyter": {
     "outputs_hidden": true,
     "source_hidden": true
    },
    "tags": []
   },
   "outputs": [
    {
     "name": "stdout",
     "output_type": "stream",
     "text": [
      "(bin F:0) (bin G:11)"
     ]
    }
   ],
   "source": [
    "Test Dom1? : (:F) (:G) "
   ]
  },
  {
   "cell_type": "code",
   "execution_count": 18,
   "id": "ecd89211-5637-4c8c-bd07-d84e1431ca1c",
   "metadata": {
    "collapsed": true,
    "jupyter": {
     "outputs_hidden": true,
     "source_hidden": true
    },
    "tags": []
   },
   "outputs": [
    {
     "name": "stdout",
     "output_type": "stream",
     "text": [
      "(ap {put n:int_prod:2 B}:(get n:(x:)))"
     ]
    }
   ],
   "source": [
    "F:x?"
   ]
  },
  {
   "cell_type": "code",
   "execution_count": 19,
   "id": "7883d67b-6322-4ea3-bd7a-fd5e41be68a9",
   "metadata": {},
   "outputs": [
    {
     "name": "stdout",
     "output_type": "stream",
     "text": []
    }
   ],
   "source": [
    "Let Results : Test Dom1? : first 20 : S4? (:F) (:G) "
   ]
  },
  {
   "cell_type": "code",
   "execution_count": 77,
   "id": "43976ae9-db22-4b6b-bd3b-45dcbab655a4",
   "metadata": {},
   "outputs": [
    {
     "name": "stdout",
     "output_type": "stream",
     "text": [
      "(bin put pass:0) (bin {B} left:0)"
     ]
    }
   ],
   "source": [
    "Candidates.1?"
   ]
  },
  {
   "cell_type": "code",
   "execution_count": 78,
   "id": "778da6b8-37d0-4314-b1dd-bc599f566e57",
   "metadata": {},
   "outputs": [
    {
     "name": "stdout",
     "output_type": "stream",
     "text": []
    }
   ],
   "source": [
    "Let Candidates2 : (:put pass) (:{B} left) (:F) (:G)"
   ]
  },
  {
   "cell_type": "code",
   "execution_count": 79,
   "id": "6c5a9fab-6299-449b-b059-0f6aad89585e",
   "metadata": {},
   "outputs": [
    {
     "name": "stdout",
     "output_type": "stream",
     "text": [
      "(:(n:1)) (:(n:1) (n:2)) (:(n:1) (n:3) (n:45))"
     ]
    }
   ],
   "source": [
    "Dom1?"
   ]
  },
  {
   "cell_type": "code",
   "execution_count": 80,
   "id": "ab4e6c45-36f2-4607-9106-98f811aacbe4",
   "metadata": {},
   "outputs": [
    {
     "name": "stdout",
     "output_type": "stream",
     "text": []
    }
   ],
   "source": [
    "Let Results2 : Test Dom1? : Candidates2?"
   ]
  },
  {
   "cell_type": "code",
   "execution_count": 81,
   "id": "d1f8de65-bfeb-420e-a181-dace1c15737d",
   "metadata": {},
   "outputs": [
    {
     "name": "stdout",
     "output_type": "stream",
     "text": [
      "(bin put pass:0) (bin {B} left:0) (bin F:0) (bin G:11)"
     ]
    }
   ],
   "source": [
    "Results2?"
   ]
  },
  {
   "cell_type": "code",
   "execution_count": 95,
   "id": "4dc093b7-c80f-4f39-af8a-bf799a9001f6",
   "metadata": {},
   "outputs": [
    {
     "name": "stdout",
     "output_type": "stream",
     "text": []
    }
   ],
   "source": [
    "theorem ((put pass:x?)=x?) : S3?"
   ]
  },
  {
   "cell_type": "code",
   "execution_count": 102,
   "id": "23086e34-4129-493f-8b24-e13533cc26a8",
   "metadata": {},
   "outputs": [
    {
     "name": "stdout",
     "output_type": "stream",
     "text": []
    }
   ],
   "source": [
    "Let Dom2 : ap {put : ap put n : get:B } : (permutation 2 : 0 1 2) (permutation 3 : 0 1 2 3)"
   ]
  },
  {
   "cell_type": "code",
   "execution_count": 103,
   "id": "a4e4e1fe-dde9-4855-b8de-bbd3944afd05",
   "metadata": {},
   "outputs": [
    {
     "name": "stdout",
     "output_type": "stream",
     "text": []
    }
   ],
   "source": [
    "Let Results3 : Test Dom2? : Candidates2? "
   ]
  },
  {
   "cell_type": "code",
   "execution_count": null,
   "id": "1f83fb23-b728-4c6b-9744-d404b9123dfa",
   "metadata": {},
   "outputs": [],
   "source": [
    "Results3?"
   ]
  },
  {
   "cell_type": "code",
   "execution_count": null,
   "id": "908e72a7-f476-4de1-a826-ce7a9861e68f",
   "metadata": {},
   "outputs": [],
   "source": []
  }
 ],
 "metadata": {
  "kernelspec": {
   "display_name": "coda",
   "language": "",
   "name": "coda"
  },
  "language_info": {
   "file_extension": ".co",
   "mimetype": "text/plain",
   "name": "Any text"
  }
 },
 "nbformat": 4,
 "nbformat_minor": 5
}
