{
 "cells": [
  {
   "cell_type": "markdown",
   "id": "a3bc85fa-62b1-442d-aed5-21852f873561",
   "metadata": {},
   "source": [
    "| Space | Elements | Operation | Space | Simple | Idempotent | Distributive | Distributive 2 | Commutative | Involution | Nilpotent | \n",
    "|-------|----------|-----------|-----:|-------:|-----------:|-------------:|--------:|------------:|-----------:|----------:|\n",
    "| x | x | x | x | x | x | x | x | x | x |\n"
   ]
  },
  {
   "cell_type": "code",
   "execution_count": 3,
   "id": "ee501de0-76b8-42ec-9434-812f1420b822",
   "metadata": {},
   "outputs": [
    {
     "name": "stdout",
     "output_type": "stream",
     "text": []
    }
   ],
   "source": [
    "import : dir co : up : ."
   ]
  },
  {
   "cell_type": "code",
   "execution_count": null,
   "id": "dbd423d7-00e5-49a4-a681-cd3244065b34",
   "metadata": {},
   "outputs": [],
   "source": [
    "Def OP : {rep |:B} "
   ]
  },
  {
   "cell_type": "code",
   "execution_count": null,
   "id": "126e04ce-4f05-4b55-869a-8949d6abcf09",
   "metadata": {},
   "outputs": [],
   "source": [
    "count : theorem (simple:        OP) : S1?\n",
    "count : theorem (idempotent:    OP) : S1?\n",
    "count : theorem (distributive:  OP) : S1?\n",
    "count : theorem (distributive2: OP) : S1?\n",
    "count : theorem (commutative:   OP) : S1? \n",
    "count : theorem (involution:    OP) : S1? \n",
    "count : theorem (nilpotent:     OP) : S1? "
   ]
  },
  {
   "cell_type": "code",
   "execution_count": null,
   "id": "1306d4c6-5067-4ef9-b9f1-932d0c1d9833",
   "metadata": {},
   "outputs": [],
   "source": [
    "count : theorem (simple:        OP) : S2?\n",
    "count : theorem (idempotent:    OP) : S2?\n",
    "count : theorem (distributive:  OP) : S2?\n",
    "count : theorem (distributive2: OP) : S2?\n",
    "count : theorem (commutative:   OP) : S2? \n",
    "count : theorem (involution:    OP) : S2? \n",
    "count : theorem (nilpotent:     OP) : S2? "
   ]
  },
  {
   "cell_type": "code",
   "execution_count": null,
   "id": "ec85adc0-1513-4d44-8c17-bfad91b8fa0f",
   "metadata": {},
   "outputs": [],
   "source": []
  }
 ],
 "metadata": {
  "kernelspec": {
   "display_name": "coda",
   "language": "",
   "name": "coda"
  },
  "language_info": {
   "file_extension": ".co",
   "mimetype": "text/plain",
   "name": "Any text"
  }
 },
 "nbformat": 4,
 "nbformat_minor": 5
}
