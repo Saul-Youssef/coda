{
 "cells": [
  {
   "cell_type": "code",
   "execution_count": 1,
   "id": "b0ceed10-0ced-4598-9355-13365514ecf8",
   "metadata": {},
   "outputs": [
    {
     "name": "stdout",
     "output_type": "stream",
     "text": [
      "(defaultTime:100)"
     ]
    }
   ],
   "source": [
    "defaultTime:100"
   ]
  },
  {
   "cell_type": "code",
   "execution_count": 2,
   "id": "8986ef58-143b-42fe-94aa-8af7a7b534d5",
   "metadata": {},
   "outputs": [
    {
     "name": "stdout",
     "output_type": "stream",
     "text": []
    }
   ],
   "source": [
    "import : dir co : up : ."
   ]
  },
  {
   "cell_type": "code",
   "execution_count": 3,
   "id": "5eccb97d-8f4f-4eb9-8e0c-848efd4f3d7c",
   "metadata": {},
   "outputs": [
    {
     "name": "stdout",
     "output_type": "stream",
     "text": []
    }
   ],
   "source": [
    "Def stick : ap const | \n",
    "Def end : {End stick:B}\n"
   ]
  },
  {
   "cell_type": "code",
   "execution_count": 4,
   "id": "66deca37-cd36-4b58-abd8-c4d5187dd8dd",
   "metadata": {},
   "outputs": [
    {
     "name": "stdout",
     "output_type": "stream",
     "text": []
    }
   ],
   "source": [
    "#\n",
    "#   Create a sample of data from stick \n",
    "#\n",
    "Def mul : {dup (stick:A) : B} \n",
    "Def mod : {while frontstrip A : B} \n",
    "\n",
    "Def double : {B B}\n",
    "Def add3 : post | | | \n",
    "Def mul2 : mul | | \n",
    "Def mod2 : mod | | \n",
    "Def min2 : minwidth | | \n",
    "Def max2 : maxwidth | | \n",
    "Def is2 : {if (B=| |):B} \n",
    "Let orgs : ap {put : prod (:stick) (:get:B) (:stick)} : permutation 2 : Organic? \n",
    "Let endos : (ap : stick double add3 mul2 mod2 min2 max2 is2) \n",
    "\n",
    "Let S4 : (:) (:|) (:| |) (:| | |) (:| | | |) "
   ]
  },
  {
   "cell_type": "code",
   "execution_count": 5,
   "id": "2e570afb-a295-4955-8fc4-cbdd26784d25",
   "metadata": {},
   "outputs": [
    {
     "name": "stdout",
     "output_type": "stream",
     "text": [
      "ai aj ap aq ar arg atoms back backstrip bin bool common const count domain dup ends equal equiv front frontstrip get grp has hasnt if ints is isnt ker left less maxwidth minwidth more nats nif not null once pass plus post pre prod put rev right sameLeft sameRight star starts sum while width"
     ]
    }
   ],
   "source": [
    "Organic?"
   ]
  },
  {
   "cell_type": "code",
   "execution_count": 6,
   "id": "b8deb2a0-d1c7-426b-b8e5-29c6890dc001",
   "metadata": {},
   "outputs": [
    {
     "name": "stdout",
     "output_type": "stream",
     "text": [
      "3025"
     ]
    }
   ],
   "source": [
    "count : permutation 2 : Organic?"
   ]
  },
  {
   "cell_type": "code",
   "execution_count": 7,
   "id": "c62846ab-7e9f-4a1c-9669-b0add22a52bd",
   "metadata": {},
   "outputs": [
    {
     "name": "stdout",
     "output_type": "stream",
     "text": []
    }
   ],
   "source": [
    "#dom 100 : ap {with (get:B) : bool : identity (get:B) : S4?} : endos?"
   ]
  },
  {
   "cell_type": "code",
   "execution_count": 8,
   "id": "7e66ee44-dc0e-4146-9b85-e0394d923f88",
   "metadata": {},
   "outputs": [
    {
     "name": "stdout",
     "output_type": "stream",
     "text": []
    }
   ],
   "source": [
    "write identity.test 600 : dom 100 : ap {with (get:B) : bool : identity (get:B) : S4?} : endos? orgs? "
   ]
  },
  {
   "cell_type": "code",
   "execution_count": 9,
   "id": "4d107225-2fdc-4781-b183-5eca3a697a4a",
   "metadata": {},
   "outputs": [
    {
     "name": "stdout",
     "output_type": "stream",
     "text": []
    }
   ],
   "source": [
    "write nilpotent.test 600 : dom 100 : ap {with (get:B) : bool : nilpotent (get:B) : S4?} : endos? orgs? "
   ]
  },
  {
   "cell_type": "code",
   "execution_count": 10,
   "id": "815f8379-e221-424c-8540-9cd5a9dd96e9",
   "metadata": {},
   "outputs": [
    {
     "name": "stdout",
     "output_type": "stream",
     "text": []
    }
   ],
   "source": [
    "#write test 5000 : dom 100 : ap {with (get:B) : bool : idempotent (get:B) : S4?} : endos? orgs? "
   ]
  },
  {
   "cell_type": "code",
   "execution_count": 11,
   "id": "2f04d6d9-73a0-45e9-bd4c-58217be254f0",
   "metadata": {},
   "outputs": [
    {
     "name": "stdout",
     "output_type": "stream",
     "text": [
      "\u001b[;1mcode:\u001b[0m\n",
      "    \u001b[34;7mker\u001b[0m\n",
      "\u001b[;1mmodule:\u001b[0m\n",
      "    Apply\n",
      "\u001b[;1msummary:\u001b[0m\n",
      "    ker A is the kernel of A defined by A:X=().\n",
      "\u001b[;1mdescription:\u001b[0m\n",
      "\u001b[;1mpath:\u001b[0m\n",
      "    /Users/youssef/coda/co/Apply.co\n",
      "\u001b[;1msource code:\u001b[0m\n",
      "    def ker : {if (A:B):B}\n",
      "\u001b[;1mdemos:\u001b[0m\n",
      "    1. \u001b[35;4mker null : a b c\u001b[0m\n",
      "    2. \u001b[35;4mker pass : a b c\u001b[0m\n",
      "    3. \u001b[35;4mker {3=(count:B)} : a b c d\u001b[0m\n"
     ]
    }
   ],
   "source": [
    "help : ker"
   ]
  },
  {
   "cell_type": "code",
   "execution_count": 12,
   "id": "25af70da-fb1a-42ed-bd82-7fe70c58651a",
   "metadata": {},
   "outputs": [
    {
     "name": "stdout",
     "output_type": "stream",
     "text": []
    }
   ],
   "source": [
    "Def F : {3=(count:B)}"
   ]
  },
  {
   "cell_type": "code",
   "execution_count": 14,
   "id": "1f5a125b-87a7-4c00-be6c-a464cbeec393",
   "metadata": {},
   "outputs": [
    {
     "name": "stdout",
     "output_type": "stream",
     "text": []
    }
   ],
   "source": []
  },
  {
   "cell_type": "code",
   "execution_count": null,
   "id": "1a9f4a3f-9828-4371-837a-5bd0d4cad0ad",
   "metadata": {},
   "outputs": [],
   "source": []
  }
 ],
 "metadata": {
  "kernelspec": {
   "display_name": "coda",
   "language": "",
   "name": "coda"
  },
  "language_info": {
   "file_extension": ".co",
   "mimetype": "text/plain",
   "name": "Any text"
  }
 },
 "nbformat": 4,
 "nbformat_minor": 5
}
