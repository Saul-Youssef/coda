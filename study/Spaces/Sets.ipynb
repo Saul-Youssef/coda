{
 "cells": [
  {
   "cell_type": "markdown",
   "id": "9d99b95b-c79e-4f2c-8bca-04c64fcd2765",
   "metadata": {},
   "source": [
    "## Set and set-like spaces\n",
    "\n",
    "Lots of mathematics is defined as sets with additional structure.  A group, for instance, is a set with a binary operator. \n",
    "Here we explore making sets in various ways in coda. \n",
    "\n"
   ]
  },
  {
   "cell_type": "markdown",
   "id": "531d8e09-5648-4db9-89b4-95d716b23914",
   "metadata": {},
   "source": [
    "Let's consider the set S = {1,2,3} and look at related structures in coda.  \n",
    "\n",
    "\"Consider the set {1,2,3}\" is typical of a mathematical statement in that it is not quite precise.  Does it mean the character \"2\" or the number 2? Are 1,2,3 numbers in the sense of a ring? Abelian group? Ordered set?  \n",
    "\n",
    "Let's explore, keeping these issues in mind.  "
   ]
  },
  {
   "cell_type": "markdown",
   "id": "e75056e6-6a8d-478e-9a47-7cef8c67dd69",
   "metadata": {},
   "source": [
    "## Spaces as Sets \n",
    "\n",
    "The natural and more suitable structure for set roles is the coda concept of a *space*.  \n",
    "\n",
    "- Data A is a *space* if A : X Y = A : (A:X) Y = A : X (A:Y) for all data X and all data Y.\n",
    "\n",
    "Spaces are already sets *with* additional structure.  Every space A is set in the sense that it represents the collection of data A:X for any data X.  If we define a binary product \n",
    "\n",
    "- (A:X) \\* (A:Y) &rightarrow; A:X Y \n",
    "\n",
    "This is automatically a monoid because \\* is associative and because A always has a neutral element (A:) where \n",
    "\n",
    "- (A:) \\* (A:X) = (A:X) * (A:) = (A:X) \n",
    "\n",
    "for any space A and for any data X.  \n",
    "\n"
   ]
  },
  {
   "cell_type": "code",
   "execution_count": 1,
   "id": "c497935f-6123-4bbb-b8f8-055a01db6941",
   "metadata": {},
   "outputs": [
    {
     "name": "stdout",
     "output_type": "stream",
     "text": []
    }
   ],
   "source": [
    "#\n",
    "#   S1 : sequences of 1,2,3,4 \n",
    "#   S2 : sequences of 1,2,3,4 without repetition\n",
    "#   S3 : subsets of 1,2,3,4 \n",
    "#   S4 : (), 1, 2, 3 or 4.\n",
    "#\n",
    "def S1 : in 1 2 3 4\n",
    "def S2 : once * in 1 2 3 4\n",
    "def S3 : code_sort * once * in 1 2 3 4\n",
    "def S4 : first * in 1 2 3 4"
   ]
  },
  {
   "cell_type": "markdown",
   "id": "a0bf02f5-ce4a-4f25-95f2-eab7a2587bd1",
   "metadata": {},
   "source": [
    "\n",
    "|    Space   |   Description                       |      Typical data  |              Operation   |   Neutral data  |\n",
    "|------------|-------------------------------------|--------------------|--------------------------|-----------------|\n",
    "|    S1      | Finite sequences                    |  3 1 2 2 1, 2 2 3  |    Concatenation         |   ()            |\n",
    "|    S2      | Finite sequences without repetition | 1 2, 2 3 4         |    Concatenation         |   ()            |\n",
    "|    S3      | Subsets                             | {1,2}, {}, {1,3,4} |    Set union             |   ()            |\n",
    "|    S4      | (), 1, 2, 3 or 4                    | (), 1, 2, 3, 4     |    x*y &rightarrow; x    |   ()            |\n",
    "\n",
    "\n"
   ]
  },
  {
   "cell_type": "code",
   "execution_count": 2,
   "id": "c36ba4e6-ad0d-42ab-8e79-77e0005e9955",
   "metadata": {},
   "outputs": [
    {
     "name": "stdout",
     "output_type": "stream",
     "text": [
      "3"
     ]
    }
   ],
   "source": [
    "S4 : 3 1 2 5 5 1 1 1. 4 4 "
   ]
  },
  {
   "cell_type": "code",
   "execution_count": 3,
   "id": "316dd67a-3477-4ec1-972c-8294e0333fde",
   "metadata": {},
   "outputs": [
    {
     "name": "stdout",
     "output_type": "stream",
     "text": [
      "1 2 4"
     ]
    }
   ],
   "source": [
    "S3 : 4 4 2 2 1 1  "
   ]
  },
  {
   "cell_type": "code",
   "execution_count": 4,
   "id": "158cc787-34c4-42f4-bd04-724c41492b0e",
   "metadata": {},
   "outputs": [
    {
     "name": "stdout",
     "output_type": "stream",
     "text": []
    }
   ],
   "source": [
    "let foo : 1 1 2 3 "
   ]
  },
  {
   "cell_type": "code",
   "execution_count": 5,
   "id": "125104ff-9961-42b5-93fd-67a0dea4eaa7",
   "metadata": {},
   "outputs": [
    {
     "name": "stdout",
     "output_type": "stream",
     "text": [
      "1 2 3"
     ]
    }
   ],
   "source": [
    "S3 : S3 : S3 : (S3:foo?) (S3 : foo?)"
   ]
  },
  {
   "cell_type": "code",
   "execution_count": null,
   "id": "d90c94bb-028e-484c-9be6-7d9ac7c6ef40",
   "metadata": {},
   "outputs": [],
   "source": []
  }
 ],
 "metadata": {
  "kernelspec": {
   "display_name": "coda",
   "language": "",
   "name": "coda"
  },
  "language_info": {
   "file_extension": ".co",
   "mimetype": "text/plain",
   "name": "Any text"
  }
 },
 "nbformat": 4,
 "nbformat_minor": 5
}
