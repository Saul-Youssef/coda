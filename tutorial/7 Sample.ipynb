{
 "cells": [
  {
   "cell_type": "markdown",
   "id": "cb495b81-3c39-45b9-9f59-de8be85b63cb",
   "metadata": {},
   "source": [
    "## Sampling the space of pure data \n",
    "\n"
   ]
  },
  {
   "cell_type": "markdown",
   "id": "860acdb4-9d93-497e-9d09-5022f77ead13",
   "metadata": {},
   "source": [
    "One easy way to produce sample data is with **rep** which repeats it's arguments once for each input atom..."
   ]
  },
  {
   "cell_type": "code",
   "execution_count": 1,
   "id": "5a6d76de-ae50-4243-a6b5-173bc6cd2852",
   "metadata": {},
   "outputs": [
    {
     "name": "stdout",
     "output_type": "stream",
     "text": [
      "a a a a\n",
      "a b a b a b a b\n",
      "◎ ◎ ◎ ◎"
     ]
    }
   ],
   "source": [
    "rep a : 1 2 3 4 \n",
    "rep a b : 1 2 3 4 \n",
    "rep (:) : 1 2 3 4 "
   ]
  },
  {
   "cell_type": "markdown",
   "id": "a07b75d3-10cb-4d19-92e9-3fd88fb45305",
   "metadata": {},
   "source": [
    "In most sampling situations, we'll want some specified collection d1, d2, d3,.... where d1, d2, d3 are each data.  To produce a sequence like that, you don't want to produce d1 d2 d3 because concatenation destroys the sequence.  Instead, an easy solution is to produce a sequence \n",
    "\n",
    "* (:d1) (:d2) (:d3)\n",
    "\n",
    "where each data in the collection has it's own container.  We'll do a bit of this by hand..."
   ]
  },
  {
   "cell_type": "code",
   "execution_count": 2,
   "id": "075d5f8e-da63-4ad4-b4e7-2732baab880c",
   "metadata": {},
   "outputs": [
    {
     "name": "stdout",
     "output_type": "stream",
     "text": [
      "(:x y z) (:a b c)"
     ]
    }
   ],
   "source": [
    "(put : x y z ) (put : a b c )"
   ]
  },
  {
   "cell_type": "code",
   "execution_count": 3,
   "id": "58bf9d24-244b-4bcf-b0a0-b0e41deb8fe7",
   "metadata": {},
   "outputs": [
    {
     "name": "stdout",
     "output_type": "stream",
     "text": []
    }
   ],
   "source": [
    "Def repn : {rep A : first B : nat : 0} "
   ]
  },
  {
   "cell_type": "code",
   "execution_count": 4,
   "id": "e806c2a4-ca20-4b71-9049-d6e59fad4fee",
   "metadata": {},
   "outputs": [
    {
     "name": "stdout",
     "output_type": "stream",
     "text": [
      "a a a a a"
     ]
    }
   ],
   "source": [
    "repn a : 5 "
   ]
  },
  {
   "cell_type": "code",
   "execution_count": 5,
   "id": "3dd09049-0151-41bd-ae0f-6185a69930d7",
   "metadata": {},
   "outputs": [
    {
     "name": "stdout",
     "output_type": "stream",
     "text": [
      "◎ (:a) (:a a) (:a a a) (:a a a a)"
     ]
    }
   ],
   "source": [
    "ap {put : repn a:B} : first 5 : nat : 0 "
   ]
  },
  {
   "cell_type": "markdown",
   "id": "06f85e5b-3167-4c80-a618-315a317c616f",
   "metadata": {},
   "source": [
    "For convenience, **sample.odd** and **sample.even** produces even and odd sequences of the simplest atom (:) (\"Hydrogen\"), packaged as above..."
   ]
  },
  {
   "cell_type": "code",
   "execution_count": 6,
   "id": "16d9dd05-9b1c-46bb-89b1-01ef01b21185",
   "metadata": {},
   "outputs": [
    {
     "name": "stdout",
     "output_type": "stream",
     "text": [
      "(:◎) (:◎ ◎ ◎) (:◎ ◎ ◎ ◎ ◎) (:◎ ◎ ◎ ◎ ◎ ◎ ◎)\n",
      "◎ (:◎ ◎) (:◎ ◎ ◎ ◎) (:◎ ◎ ◎ ◎ ◎ ◎)"
     ]
    }
   ],
   "source": [
    "sample.odd : 4 \n",
    "sample.even : 4"
   ]
  },
  {
   "cell_type": "markdown",
   "id": "1a375534-5abc-4518-926c-930d7784bc74",
   "metadata": {},
   "source": [
    "The **sample.pure** operator lets one sample the whole space of pure data via \n",
    "\n",
    "* sample.pure : width depth \n",
    "\n",
    "where **width** is the maximum data length and **depth** is the maximum depth.  For example..."
   ]
  },
  {
   "cell_type": "code",
   "execution_count": 7,
   "id": "7939c7d8-4ff0-43f1-8a45-3309a1ab0b05",
   "metadata": {},
   "outputs": [
    {
     "name": "stdout",
     "output_type": "stream",
     "text": [
      "◎ (:◎) (:(:◎)) (:(:◎ ◎)) (:𝟬) (:𝝞) (:◎◎) (:) (:◎) (:◎◎) (:◎ ◎) (:◎ (:◎)) (:◎ (:◎ ◎)) (:◎ 𝟬) (:◎ 𝝞) (:◎ ◎◎) (:◎ ) (:◎ ◎) (:◎ ◎◎) (:(:◎) ◎) (:(:◎) (:◎)) (:(:◎) (:◎ ◎)) (:(:◎) 𝟬) (:(:◎) 𝝞) (:(:◎) ◎◎) (:(:◎) ) (:(:◎) ◎) (:(:◎) ◎◎) (:(:◎ ◎) ◎) (:(:◎ ◎) (:◎)) (:(:◎ ◎) (:◎ ◎)) (:(:◎ ◎) 𝟬) (:(:◎ ◎) 𝝞) (:(:◎ ◎) ◎◎) (:(:◎ ◎) ) (:(:◎ ◎) ◎) (:(:◎ ◎) ◎◎) (:𝟬 ◎) (:𝟬 (:◎)) (:𝟬 (:◎ ◎)) (:𝟬 𝟬) (:𝟬 𝝞) (:𝟬 ◎◎) (:𝟬 ) (:𝟬 ◎) (:𝟬 ◎◎) (:𝝞 ◎) (:𝝞 (:◎)) (:𝝞 (:◎ ◎)) (:𝝞 𝟬) (:𝝞 𝝞) (:𝝞 ◎◎) (:𝝞 ) (:𝝞 ◎) (:𝝞 ◎◎) (:◎◎ ◎) (:◎◎ (:◎)) (:◎◎ (:◎ ◎)) (:◎◎ 𝟬) (:◎◎ 𝝞) (:◎◎ ◎◎) (:◎◎ ) (:◎◎ ◎) (:◎◎ ◎◎) (: ◎) (: (:◎)) (: (:◎ ◎)) (: 𝟬) (: 𝝞) (: ◎◎) (: ) (: ◎) (: ◎◎) (:◎ ◎) (:◎ (:◎)) (:◎ (:◎ ◎)) (:◎ 𝟬) (:◎ 𝝞) (:◎ ◎◎) (:◎ ) (:◎ ◎) (:◎ ◎◎) (:◎◎ ◎) (:◎◎ (:◎)) (:◎◎ (:◎ ◎)) (:◎◎ 𝟬) (:◎◎ 𝝞) (:◎◎ ◎◎) (:◎◎ ) (:◎◎ ◎) (:◎◎ ◎◎)"
     ]
    }
   ],
   "source": [
    "#\n",
    "#  sample.pure : <width> <depth> \n",
    "#\n",
    "sample.pure : 2 2 "
   ]
  },
  {
   "cell_type": "markdown",
   "id": "d29e73bd-5a15-4c3f-81d5-49de6113e75a",
   "metadata": {},
   "source": [
    "The direct approach is rarely useful because the universe of pure data grows enormously rapidly with **width** and **depth**.  So much so that\n",
    "\n",
    "* sample.pure : 2 3 \n",
    "\n",
    "is already challenging for a laptop.  \n",
    "\n",
    "### Size of sample.pure versus width and depth:\n",
    "\n",
    "|         | width 1  | width 2 | width 3 | width 4  | width 5 |\n",
    "|---------|---------:|--------:|--------:|---------:|--------:|\n",
    "|depth 1  |    2     |    3    |    4    |     5    |    6    |\n",
    "|depth 2  |    5     |     91   |    4369   |   406,901    |    62,193,781    |\n",
    "|depth 3  |    26     |     68,583,243   |    ?    |     ?    |    ?    |\n",
    "|depth 4  |    677     |     ?   |    ?    |     ?    |    ?    |\n",
    "|depth 5  |    458,330     |     ?   |    ?    |     ?    |    ?    |"
   ]
  },
  {
   "cell_type": "markdown",
   "id": "d27621e0-279d-45eb-b693-cf46e55f7856",
   "metadata": {},
   "source": [
    "Of course, the space of pure data includes all data, meaning all mathematical/logical/computational objects.  Undecided data (\"variables\"), for example, already appear in sample.pure : 2 2, which you can detect by, for example counting."
   ]
  },
  {
   "cell_type": "code",
   "execution_count": 8,
   "id": "b956944c-25f0-4e88-ac3d-e18495610705",
   "metadata": {},
   "outputs": [
    {
     "name": "stdout",
     "output_type": "stream",
     "text": [
      "0 1 1 1 1 1 1 1 1 1 2 2 2 2 2 2 2 2 2 2 2 2 2 2 2 2 2 2 2 2 2 2 2 2 2 2 2 2 2 2 2 2 2 2 2 2 2 2 2 2 2 2 2 2 2 2 2 2 2 2 2 2 2 2 2 2 2 2 2 2 2 2 2 2 2 2 2 2 2 2 2 2 2 2 2 2 2 2 2 2 2"
     ]
    }
   ],
   "source": [
    "ap {count : get : B} : sample.pure : 2 2 "
   ]
  },
  {
   "cell_type": "markdown",
   "id": "74c5b1d4-41ec-4167-ac3b-9848da6e9f50",
   "metadata": {},
   "source": [
    "### Practical searching \n",
    "\n",
    "Although **sample.pure** samples all pure data and, therefore, all mathematical objects, these samples are typically far too huge to be practically helpful.  Instead, the operator **sample.data** is much more practical.  This operation works by providing a sequence of codas and a width.\n",
    "\n",
    "* sample.data <...sequence of codas..> : width \n",
    "\n",
    "A few examples will illustrate. "
   ]
  },
  {
   "cell_type": "code",
   "execution_count": 9,
   "id": "65606b46-1287-4abb-b922-342c006bb61e",
   "metadata": {},
   "outputs": [
    {
     "name": "stdout",
     "output_type": "stream",
     "text": [
      "◎ (:a a a) (:a a a a) (:a a) (:a)"
     ]
    }
   ],
   "source": [
    "#\n",
    "#   Just one argument coda \"a\" and width <= 5 gives \n",
    "#\n",
    "sample.data a : 5 "
   ]
  },
  {
   "cell_type": "code",
   "execution_count": 10,
   "id": "79e6c97f-9ff3-4756-8b5c-75e2f1008cf1",
   "metadata": {},
   "outputs": [
    {
     "name": "stdout",
     "output_type": "stream",
     "text": [
      "(:a a b b) (:a b a b) (:b a) (:b a a) (:a a b) (:b b a b) (:b b b) (:a b b a) (:b a a b) (:b b a) (:a b b) (:a a b a) (:a) (:b a b b) (:b a a a) (:b a b) (:b b a a) (:b b b b) ◎ (:a b) (:b b b a) (:a a) (:a a a) (:a b a a) (:a b a) (:b b) (:b) (:a a a b) (:a b b b) (:b a b a) (:a a a a)"
     ]
    }
   ],
   "source": [
    "#\n",
    "#   Note that the sample is delivered, as usual, as (:data1) (:data2) ... \n",
    "#\n",
    "#   If you provide two codas, a and b, all permutations are included. \n",
    "#\n",
    "sample.data a b : 5"
   ]
  },
  {
   "cell_type": "code",
   "execution_count": 15,
   "id": "889b9f68-04bb-472a-b6f4-09eafa7d8b27",
   "metadata": {},
   "outputs": [
    {
     "name": "stdout",
     "output_type": "stream",
     "text": [
      "(:A) (:{B : hasnt}) (:{B is}) (:{B : b}) (:{put B}) (:{if B}) (:b) (:{B domain}) (:{null : B}) (:{B : put}) (:{B : get}) (:{B isnt}) (:{B : if}) (:{hasnt : B}) (:{B right}) (:{pass : B}) (:get) (:{null B}) (:{B has}) (:put) (:{B : null}) (:pass) (:{B bin}) (:{B null}) ◎ (:{b : B}) (:{B hasnt}) (:{pass B}) (:{B : domain}) (:{B if}) (:isnt) (:{B : has}) (:left) (:{bin B}) (:{left B}) (:{B : bin}) (:domain) (:{* B}) (:{B A}) (:{nif B}) (:{B left}) (:{B : A}) (:{is B}) (:{right : B}) (:{B : *}) (:{a : B}) (:{isnt B}) (:{B : nif}) (:a) (:{domain : B}) (:{B}) (:{B : a}) (:right) (:{has : B}) (:{has B}) (:{b B}) (:{B : is}) (:{get : B}) (:nif) (:if) (:{if : B}) (:{bin : B}) (:{domain B}) (:{B : left}) (:{B put}) (:{get B}) (:{a B}) (:null) (:is) (:{B : isnt}) (:{B nif}) (:{B : pass}) (:{* : B}) (:{B pass}) (:{isnt : B}) (:{A : B}) (:hasnt) (:{left : B}) (:has) (:{B get}) (:*) (:{B : right}) (:B) (:{hasnt B}) (:{B *}) (:bin) (:{B a}) (:{nif : B}) (:{B b}) (:{put : B}) (:{A B}) (:{is : B}) (:{right B})"
     ]
    }
   ],
   "source": [
    "#\n",
    "#   You can add language literals <A> and <B> and a special symbol <{$}> to create language expressions.\n",
    "#\n",
    "sample.data <A> <B> <{$}> a b (defs:Basic) : 2 "
   ]
  },
  {
   "cell_type": "code",
   "execution_count": 16,
   "id": "85363d1f-0261-410d-a16e-333e09c5ab5f",
   "metadata": {},
   "outputs": [
    {
     "name": "stdout",
     "output_type": "stream",
     "text": [
      "◎ 𝟬 𝝞 bool not = equal or and nor xor nand xnor iff imply some ap aq by ax pass null bin put get domain right left if nif * collect use1 def nat code_sort ints int_sum int_prod int_sort int_min int_max int_inv int_div nats floats float_sum float_prod float_sort float_min float_max float_inv float_div multi eval1 with step readpath dir help sources demo info module defs language log logs log+ log- rev first tail last skip rep nth1 once count localdef coda source home codes digits letters printable alphabet allcodes pure wrap startswith endswith join split up1 down1 sample.even sample.odd sample.atom sample.pure sample.window sample.data permutation assign pause nth pre post in equiv let use Let Def eval down up while kernel ker hasnt has isnt nchar is cases repn"
     ]
    }
   ],
   "source": [
    "#\n",
    "#   To meaningfully search, one should add domains representing established definitions.  To do this, first see \n",
    "#   all currently available definitions like so...\n",
    "#\n",
    "defs:"
   ]
  },
  {
   "cell_type": "code",
   "execution_count": 17,
   "id": "09fc2c9a-d9d3-44d9-af3c-62c1e16859f9",
   "metadata": {},
   "outputs": [
    {
     "name": "stdout",
     "output_type": "stream",
     "text": [
      "   Logic Logic Logic Logic Logic Logic Logic Logic Logic Logic Logic Logic Logic Apply Apply Apply Apply Basic Basic Basic Basic Basic Basic Basic Basic Basic Basic Basic Collect Define Define Number Number Number Number Number Number Number Number Number Number Number Number Number Number Number Number Number Number Number Evaluate Evaluate Evaluate Evaluate IO IO Help Help Help Help Help Help Language Log Log Log Log Sequence Sequence Sequence Sequence Sequence Sequence Sequence Sequence Sequence Source Source Source Source Text Text Text Text Text Text Text Text Text Text Text Text Path Path Sample Sample Sample Sample Sample Sample Variable Variable Time Sequence Sequence Sequence Logic Collect  Define Define Define Evaluate Path Path Apply Apply Apply Basic Basic Basic Text Basic Search "
     ]
    }
   ],
   "source": [
    "#\n",
    "#    Each definition is in a \"module\" which is either a python file (.py) or a coda file (.co). \n",
    "#\n",
    "module : defs:"
   ]
  },
  {
   "cell_type": "code",
   "execution_count": 18,
   "id": "41a4d25c-b48c-4730-b33a-35ab1d025c1b",
   "metadata": {},
   "outputs": [
    {
     "name": "stdout",
     "output_type": "stream",
     "text": [
      "Time Apply Text Sequence Search Source Define Number Log Logic Basic IO Help Evaluate Collect  Path Variable Sample Language"
     ]
    }
   ],
   "source": [
    "once : module : defs:"
   ]
  },
  {
   "cell_type": "code",
   "execution_count": 19,
   "id": "92b373f7-5be7-4738-bb3c-b41e99287a3d",
   "metadata": {},
   "outputs": [
    {
     "name": "stdout",
     "output_type": "stream",
     "text": [
      "bool not = equal or and nor xor nand xnor iff imply some ap aq by ax pass null bin put get domain right left if nif * nat code_sort ints int_sum int_prod int_sort int_min int_max int_inv int_div nats floats float_sum float_prod float_sort float_min float_max float_inv float_div rev first tail last skip rep nth1 once count nth pre post in while kernel ker hasnt has isnt is"
     ]
    }
   ],
   "source": [
    "#\n",
    "#    Typically one would want some but not all definitions for a search.  For instance, one typically doesn't want to search \n",
    "#    over IO operations or Sample operations (to avoid recursion) or over help system operations.  A typical choice is...\n",
    "#\n",
    "defs : Apply Basic Logic Number Sequence  "
   ]
  },
  {
   "cell_type": "code",
   "execution_count": 20,
   "id": "3e7ce9d3-9619-4a25-b8af-e42678c43661",
   "metadata": {},
   "outputs": [
    {
     "name": "stdout",
     "output_type": "stream",
     "text": [
      "(:has get) (:null left) ◎ (:isnt has) (:is) (:get domain) (:if nif) (:pass if) (:right hasnt) (:right isnt) (:isnt isnt) (:hasnt pass) (:has has) (:nif nif) (:bin isnt) (:put null) (:right null) (:pass) (:is null) (:pass left) (:left has) (:pass *) (:nif has) (:right domain) (:get pass) (:has if) (:bin is) (:hasnt has) (:isnt null) (:if get) (:null domain) (:put is) (:bin bin) (:* pass) (:if right) (:null null) (:pass put) (:isnt) (:nif is) (:if pass) (:get put) (:* isnt) (:null) (:domain put) (:put nif) (:has pass) (:is *) (:* nif) (:pass is) (:has *) (:right put) (:has) (:if if) (:hasnt null) (:hasnt put) (:if) (:pass domain) (:bin has) (:nif hasnt) (:isnt *) (:isnt is) (:has is) (:* put) (:* if) (:pass bin) (:right *) (:* bin) (:get *) (:if has) (:is is) (:pass hasnt) (:left left) (:get nif) (:null is) (:put hasnt) (:bin) (:null if) (:is isnt) (:left *) (:null get) (:hasnt nif) (:is domain) (:put has) (:pass has) (:domain nif) (:null hasnt) (:nif get) (:hasnt hasnt) (:hasnt is) (:is right) (:if bin) (:* hasnt) (:domain *) (:put bin) (:bin pass) (:null pass) (:isnt left) (:get right) (:has left) (:nif bin) (:put domain) (:left get) (:nif) (:left) (:* domain) (:left is) (:domain hasnt) (:domain bin) (:put right) (:has null) (:pass pass) (:bin null) (:domain if) (:put put) (:left right) (:null has) (:if domain) (:is if) (:put if) (:put get) (:has isnt) (:bin nif) (:if put) (:* is) (:is left) (:has put) (:isnt get) (:hasnt domain) (:* get) (:is pass) (:pass null) (:get has) (:get left) (:null right) (:null *) (:null bin) (:hasnt *) (:isnt if) (:isnt right) (:get get) (:if left) (:is bin) (:hasnt isnt) (:has nif) (:domain right) (:left put) (:is nif) (:is hasnt) (:isnt put) (:* *) (:put pass) (:nif domain) (:is get) (:hasnt bin) (:right pass) (:bin left) (:null isnt) (:isnt hasnt) (:isnt nif) (:domain left) (:get bin) (:* has) (:null nif) (:right get) (:bin if) (:hasnt) (:bin right) (:right has) (:has domain) (:left hasnt) (:get if) (:isnt domain) (:isnt pass) (:pass nif) (:right) (:nif pass) (:left bin) (:if *) (:* right) (:bin hasnt) (:put isnt) (:nif right) (:domain pass) (:bin get) (:*) (:domain get) (:get is) (:left nif) (:left if) (:get null) (:domain isnt) (:has hasnt) (:get hasnt) (:pass isnt) (:hasnt right) (:is put) (:* left) (:left domain) (:isnt bin) (:domain has) (:left isnt) (:nif isnt) (:has right) (:put *) (:has bin) (:pass right) (:get) (:put) (:put left) (:right bin) (:is has) (:hasnt if) (:bin *) (:right if) (:right is) (:domain null) (:nif if) (:bin put) (:right left) (:* null) (:get isnt) (:hasnt get) (:if isnt) (:null put) (:domain) (:domain is) (:left null) (:nif null) (:left pass) (:nif *) (:right right) (:nif put) (:if hasnt) (:bin domain) (:hasnt left) (:nif left) (:right nif) (:if null) (:if is) (:pass get) (:domain domain)"
     ]
    }
   ],
   "source": [
    "sample.data (defs:Basic) : 3"
   ]
  },
  {
   "cell_type": "code",
   "execution_count": 21,
   "id": "5b47d9ed-3f0f-4874-9c66-e68f1310c3e7",
   "metadata": {},
   "outputs": [
    {
     "name": "stdout",
     "output_type": "stream",
     "text": [
      "12"
     ]
    }
   ],
   "source": [
    "count : defs : Sequence"
   ]
  },
  {
   "cell_type": "code",
   "execution_count": 22,
   "id": "c1c018f0-385c-47f2-bb21-8a03d95bfd6c",
   "metadata": {},
   "outputs": [
    {
     "name": "stdout",
     "output_type": "stream",
     "text": [
      "(:once once) (:rev tail) (:rep post) (:nth1) (:count count) (:first nth1) (:first rep) (:nth1 nth) (:nth) (:rep last) (:tail) (:post nth1) (:post rev) (:once skip) (:first pre) (:nth rev) (:rep nth) (:post count) (:post nth) (:count skip) (:pre first) (:first count) (:first nth) (:post first) (:last last) (:post pre) (:nth1 first) (:pre count) (:last) (:once nth1) (:tail nth1) (:nth1 nth1) (:rep first) (:rep rev) (:once post) (:last rev) (:last nth1) (:rep skip) (:first tail) (:post last) (:skip last) (:nth1 post) (:rep nth1) (:nth pre) (:first first) (:count nth) (:rev count) (:nth nth) (:post tail) (:count last) (:once first) (:count) (:rev skip) (:skip count) (:pre rev) (:nth1 last) (:first once) (:last tail) (:rep pre) (:skip first) (:nth1 rep) (:pre nth1) (:post skip) (:first last) (:count first) (:tail rev) (:rev) (:pre) (:rev first) (:last post) (:skip post) (:count nth1) (:nth first) (:nth1 pre) (:tail once) (:skip) (:nth last) (:rev nth) (:rev last) (:tail rep) (:skip rev) (:rev post) (:last nth) (:last rep) (:pre skip) (:rep rep) (:nth count) (:pre tail) (:first skip) (:pre pre) (:count rep) (:skip pre) (:once) (:count post) (:nth post) (:tail post) (:rep once) (:once tail) (:count pre) (:tail count) (:last once) (:skip nth1) (:nth rep) (:count rev) (:tail skip) (:once nth) (:last pre) (:rep tail) (:nth1 rev) (:pre last) (:once rev) (:once pre) (:rev rep) (:post) (:tail pre) (:tail nth) (:pre post) (:rev rev) ◎ (:rev pre) (:tail tail) (:once count) (:post rep) (:skip skip) (:tail last) (:skip tail) (:once rep) (:nth1 tail) (:nth1 skip) (:rev once) (:last first) (:rep count) (:post post) (:rep) (:nth skip) (:skip rep) (:post once) (:once last) (:tail first) (:pre once) (:nth nth1) (:first post) (:nth tail) (:rev nth1) (:last count) (:count tail) (:pre nth) (:count once) (:nth1 once) (:first rev) (:last skip) (:first) (:pre rep) (:skip once) (:nth1 count) (:skip nth) (:nth once)"
     ]
    }
   ],
   "source": [
    "sample.data (defs:Sequence) : 3"
   ]
  },
  {
   "cell_type": "code",
   "execution_count": 23,
   "id": "2f27832a-43c6-46ad-a40c-9adede7824e5",
   "metadata": {},
   "outputs": [
    {
     "name": "stdout",
     "output_type": "stream",
     "text": [
      "rev first tail last skip rep nth1 once count nth pre post"
     ]
    }
   ],
   "source": [
    "defs:Sequence"
   ]
  },
  {
   "cell_type": "code",
   "execution_count": 24,
   "id": "73fde1da-3f70-4e39-b5a5-08c2aad0371f",
   "metadata": {},
   "outputs": [
    {
     "name": "stdout",
     "output_type": "stream",
     "text": [
      "(:post rev) (:nth1 nth) (:count nth1) (:last nth1) (:rev last) (:rev first) (:tail rev) (:pre post) (:skip) (:rep tail) (:tail count) (:post nth1) (:rev pre) (:rep nth) (:post last) (:nth1 rev) (:tail rep) (:rev rev) (:first post) (:post skip) (:nth1 nth1) (:tail tail) (:nth1 tail) (:last pre) (:first first) (:nth once) (:rep once) (:once post) (:rep pre) (:nth skip) (:tail skip) (:rev nth1) (:rep nth1) (:nth tail) (:tail nth1) (:nth first) (:rep skip) (:rev count) (:first last) (:count pre) (:rep post) (:rev rep) (:skip once) (:pre last) (:last once) (:rev post) (:post post) (:rep count) (:count once) (:post count) (:pre) (:skip tail) (:once) (:rep) (:first rep) (:count post) (:tail first) (:once count) (:first count) (:first skip) (:skip post) (:nth1 count) (:skip rep) (:once pre) (:post pre) (:count tail) (:nth count) (:count first) (:nth rep) (:nth1 rep) (:pre rev) (:once skip) (:tail once) (:tail) (:skip first) (:last rev) (:nth nth) (:last tail) (:nth post) (:rev nth) (:count rep) (:first once) (:rep rep) (:skip skip) (:pre first) (:post first) (:last count) (:post) (:last last) (:pre count) (:pre rep) (:nth1) (:rev once) (:count) (:once tail) (:last first) (:pre pre) (:tail post) (:post nth) (:rev) (:post once) (:nth last) (:skip pre) (:skip rev) (:pre tail) (:tail nth) (:nth1 last) (:rep last) (:skip count) (:count skip) (:once nth1) (:rep rev) (:first nth1) (:first) (:nth rev) (:last rep) ◎ (:last) (:skip nth) (:nth1 once) (:tail last) (:tail pre) (:once first) (:count count) (:nth1 pre) (:once rep) (:first rev) (:rep first) (:nth nth1) (:pre nth) (:pre skip) (:post rep) (:count nth) (:pre once) (:last skip) (:rev skip) (:nth1 post) (:nth) (:rev tail) (:post tail) (:skip nth1) (:count rev) (:first tail) (:nth1 skip) (:once rev) (:first nth) (:once nth) (:first pre) (:count last) (:nth1 first) (:last post) (:skip last) (:last nth) (:once last) (:nth pre) (:pre nth1) (:once once)"
     ]
    }
   ],
   "source": [
    "sample.data rev first tail last skip rep nth1 once count nth pre post : 3"
   ]
  },
  {
   "cell_type": "code",
   "execution_count": 25,
   "id": "09850719-7520-48a2-bf40-fff6aabdc5ee",
   "metadata": {
    "tags": []
   },
   "outputs": [
    {
     "name": "stdout",
     "output_type": "stream",
     "text": [
      "(sample.data A B (x:) (y:) {$} ap aq by ax pass null bin put get domain right left if nif * while kernel ker hasnt has isnt is:2)"
     ]
    }
   ],
   "source": [
    "#\n",
    "#    To create a typical sample, we start with A, B and {$} for language purposes, add a few \"variables\" (x? y? z?) and \n",
    "#    mix in the above definitions. \n",
    "#    \n",
    "sample.data <A> <B> x? y? <{$}> (defs:Apply Basic) : 2 "
   ]
  },
  {
   "cell_type": "code",
   "execution_count": 26,
   "id": "42867de3-dd0b-40d6-a172-e4e2fd681946",
   "metadata": {},
   "outputs": [
    {
     "name": "stdout",
     "output_type": "stream",
     "text": []
    }
   ],
   "source": [
    "Let Sample : sample.data <A> <B> x? y? <{$}>  : 2 "
   ]
  },
  {
   "cell_type": "code",
   "execution_count": 27,
   "id": "5bdbe692-f37a-4121-aec5-75af22cbc55a",
   "metadata": {},
   "outputs": [
    {
     "name": "stdout",
     "output_type": "stream",
     "text": [
      "(count:(sample.data A B (x:) (y:) {$}:2))\n",
      "(undefined:(sample.data A B (x:) (y:) {$}:2))"
     ]
    }
   ],
   "source": [
    "#\n",
    "#   sample? is then a collection of data that can be used, for instance, to test for theorems or search for \n",
    "#   algebraic structures of interest, as shown in study tutorials. \n",
    "#\n",
    "count : Sample? \n",
    "undefined : Sample?"
   ]
  },
  {
   "cell_type": "markdown",
   "id": "48b98844-2d76-4057-8827-80519f471fb5",
   "metadata": {},
   "source": [
    "For larger scale searching, one would typically increase from width=2 and search in parallel and, perhaps add more variables.\n",
    "\n",
    "This can be useful for theorem testing and for searching for algebraic structures of interest as illustrated in the theorem tutorial and in various study notebooks. "
   ]
  },
  {
   "cell_type": "code",
   "execution_count": 28,
   "id": "ffbbb987-46af-40c8-9806-ec9ba79ba2a8",
   "metadata": {},
   "outputs": [
    {
     "name": "stdout",
     "output_type": "stream",
     "text": []
    }
   ],
   "source": [
    "Def Idempotent : bool * ap {(A:(get:B))=(A:A:(get:B))}"
   ]
  },
  {
   "cell_type": "code",
   "execution_count": 29,
   "id": "af4782ae-ebbe-4c23-9fc0-d11ccd3c0e12",
   "metadata": {},
   "outputs": [
    {
     "name": "stdout",
     "output_type": "stream",
     "text": [
      "(bool pass:(ap {(A:(get:B))=(A:A:(get:B))} pass:(atoms:)))"
     ]
    }
   ],
   "source": [
    "Idempotent pass : atoms? (:a b c)"
   ]
  },
  {
   "cell_type": "code",
   "execution_count": 30,
   "id": "57015644-ae5f-4a1a-b34e-900fb746100a",
   "metadata": {},
   "outputs": [
    {
     "name": "stdout",
     "output_type": "stream",
     "text": [
      "◎"
     ]
    }
   ],
   "source": [
    "Idempotent rev : atoms? (:a b c)"
   ]
  },
  {
   "cell_type": "code",
   "execution_count": 31,
   "id": "e7576817-02d2-4714-93dd-ddf9919ddcba",
   "metadata": {},
   "outputs": [
    {
     "name": "stdout",
     "output_type": "stream",
     "text": []
    }
   ],
   "source": [
    "Let 1 : (sample.data a b : 4) (:(:a b)) (bin a:b) (sample.atom:3)"
   ]
  },
  {
   "cell_type": "code",
   "execution_count": 32,
   "id": "2d5a9e78-4c1c-46a9-b5d3-a86a02ae7f11",
   "metadata": {},
   "outputs": [
    {
     "name": "stdout",
     "output_type": "stream",
     "text": [
      "(:a b a) ◎ (:b a) (:b b) (:b a a) (:a a b) (:a b b) (:b a b) (:a a a) (:b b a) (:a) (:b b b) (:a a) (:b) (:a b) (:(:a b)) (bin a:b) ◎ (:◎) (:◎ ◎)"
     ]
    }
   ],
   "source": [
    "1? "
   ]
  },
  {
   "cell_type": "code",
   "execution_count": 33,
   "id": "2eaa179e-1ca4-45a5-9823-28075a804a7f",
   "metadata": {},
   "outputs": [
    {
     "name": "stdout",
     "output_type": "stream",
     "text": [
      "pass null bin put get domain right left if nif * hasnt has isnt is\n",
      "ap aq by ax while kernel ker"
     ]
    }
   ],
   "source": [
    "defs : Basic \n",
    "defs : Apply"
   ]
  },
  {
   "cell_type": "code",
   "execution_count": 34,
   "id": "1c3e0fd1-c808-44f2-b4ab-4c59a3faf6bd",
   "metadata": {},
   "outputs": [
    {
     "name": "stdout",
     "output_type": "stream",
     "text": [
      "1 pass |\n",
      "2 null |\n",
      "3 bin | ◎\n",
      "4 put | ◎\n",
      "5 get | ◎\n",
      "6 domain| ◎\n",
      "7 left | ◎\n",
      "8 right | ◎\n",
      "9 if |\n",
      "10 nif |\n",
      "11 star | ◎\n",
      "12 hasnt |\n",
      "13 has |\n",
      "14 isnt |\n",
      "15 is |"
     ]
    }
   ],
   "source": [
    "pre 1 pass | : Idempotent pass : 1? \n",
    "pre 2 null | : Idempotent null : 1?\n",
    "pre 3 bin  | : Idempotent bin : 1?\n",
    "pre 4 put  | : Idempotent put : 1?\n",
    "pre 5 get  | : Idempotent get : 1? \n",
    "pre 6 domain| : Idempotent domain : 1?\n",
    "pre 7 left | : Idempotent left : 1? \n",
    "pre 8 right | : Idempotent right : 1? \n",
    "pre 9 if | : Idempotent if : 1?\n",
    "pre 10 nif | : Idempotent nif : 1? \n",
    "pre 11 star | : Idempotent * : 1? \n",
    "pre 12 hasnt | : Idempotent hasnt : 1? \n",
    "pre 13 has | : Idempotent has : 1? \n",
    "pre 14 isnt | : Idempotent isnt : 1? \n",
    "pre 15 is | : Idempotent is : 1? "
   ]
  },
  {
   "cell_type": "code",
   "execution_count": 35,
   "id": "812aec48-bad0-44ee-b3df-0d88f87a1033",
   "metadata": {},
   "outputs": [
    {
     "name": "stdout",
     "output_type": "stream",
     "text": [
      "(bin pass:) (bin null:) (bin bin:◎) (bin put:◎) (bin get:◎)"
     ]
    }
   ],
   "source": [
    "#\n",
    "#   Doing the same thing with one line \n",
    "#\n",
    "ap {put bin B : Idempotent B : 1?} : first 5 : defs : Basic "
   ]
  },
  {
   "cell_type": "code",
   "execution_count": null,
   "id": "f94387d1-a5f4-49f4-9fa6-92c953f990c8",
   "metadata": {},
   "outputs": [],
   "source": []
  }
 ],
 "metadata": {
  "kernelspec": {
   "display_name": "coda",
   "language": "",
   "name": "coda"
  },
  "language_info": {
   "file_extension": ".co",
   "mimetype": "text/plain",
   "name": "Any text"
  }
 },
 "nbformat": 4,
 "nbformat_minor": 5
}
