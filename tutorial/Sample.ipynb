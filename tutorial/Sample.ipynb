{
 "cells": [
  {
   "cell_type": "markdown",
   "id": "cb495b81-3c39-45b9-9f59-de8be85b63cb",
   "metadata": {},
   "source": [
    "## Sampling the space of pure data \n",
    "\n"
   ]
  },
  {
   "cell_type": "markdown",
   "id": "860acdb4-9d93-497e-9d09-5022f77ead13",
   "metadata": {},
   "source": [
    "One easy way to produce sample data is with **rep** which repeats it's arguments once for each input atom..."
   ]
  },
  {
   "cell_type": "code",
   "execution_count": 1,
   "id": "5a6d76de-ae50-4243-a6b5-173bc6cd2852",
   "metadata": {},
   "outputs": [
    {
     "name": "stdout",
     "output_type": "stream",
     "text": [
      "a a a a\n",
      "a b a b a b a b\n",
      "◎ ◎ ◎ ◎"
     ]
    }
   ],
   "source": [
    "rep a : 1 2 3 4 \n",
    "rep a b : 1 2 3 4 \n",
    "rep (:) : 1 2 3 4 "
   ]
  },
  {
   "cell_type": "markdown",
   "id": "a07b75d3-10cb-4d19-92e9-3fd88fb45305",
   "metadata": {},
   "source": [
    "In most sampling situations, we'll want some specified collection d1, d2, d3,.... where d1, d2, d3 are each data.  To produce a sequence like that, you don't want to produce d1 d2 d3 because concatenation destroys the sequence.  Instead, an easy solution is to produce a sequence \n",
    "\n",
    "* (:d1) (:d2) (:d3)\n",
    "\n",
    "where each data in the collection has it's own container.  We'll do a bit of this by hand..."
   ]
  },
  {
   "cell_type": "code",
   "execution_count": 2,
   "id": "075d5f8e-da63-4ad4-b4e7-2732baab880c",
   "metadata": {},
   "outputs": [
    {
     "name": "stdout",
     "output_type": "stream",
     "text": [
      "(:x y z) (:a b c)\n",
      "(repn a:5)"
     ]
    }
   ],
   "source": [
    "(put : x y z ) (put : a b c )\n",
    "repn a : 5"
   ]
  },
  {
   "cell_type": "code",
   "execution_count": 3,
   "id": "58bf9d24-244b-4bcf-b0a0-b0e41deb8fe7",
   "metadata": {},
   "outputs": [
    {
     "name": "stdout",
     "output_type": "stream",
     "text": [
      "(repn a:5)"
     ]
    }
   ],
   "source": [
    "def repn : {rep A : first B : nat : 0} \n",
    "repn a : 5"
   ]
  },
  {
   "cell_type": "code",
   "execution_count": 4,
   "id": "3dd09049-0151-41bd-ae0f-6185a69930d7",
   "metadata": {},
   "outputs": [
    {
     "name": "stdout",
     "output_type": "stream",
     "text": [
      "◎ (:a) (:a a) (:a a a) (:a a a a)"
     ]
    }
   ],
   "source": [
    "ap {put : repn a:B} : first 5 : nat : 0 "
   ]
  },
  {
   "cell_type": "markdown",
   "id": "06f85e5b-3167-4c80-a618-315a317c616f",
   "metadata": {},
   "source": [
    "For convenience, **sample.odd** and **sample.even** produces even and odd sequences of the simplest atom (:) (\"Hydrogen\")"
   ]
  },
  {
   "cell_type": "markdown",
   "id": "1a375534-5abc-4518-926c-930d7784bc74",
   "metadata": {},
   "source": [
    "The **sample.pure** operator lets one sample the whole space of pure data via \n",
    "\n",
    "* sample.pure : width depth \n",
    "\n",
    "where **width** is the maximum data length and **depth** is the maximum depth.  For example..."
   ]
  },
  {
   "cell_type": "code",
   "execution_count": 5,
   "id": "7939c7d8-4ff0-43f1-8a45-3309a1ab0b05",
   "metadata": {},
   "outputs": [
    {
     "name": "stdout",
     "output_type": "stream",
     "text": [
      "◎ (:◎) (:(:◎)) (:(:◎ ◎)) (:𝟬) (:𝝞) (:◎◎) (:) (:◎) (:◎◎) (:◎ ◎) (:◎ (:◎)) (:◎ (:◎ ◎)) (:◎ 𝟬) (:◎ 𝝞) (:◎ ◎◎) (:◎ ) (:◎ ◎) (:◎ ◎◎) (:(:◎) ◎) (:(:◎) (:◎)) (:(:◎) (:◎ ◎)) (:(:◎) 𝟬) (:(:◎) 𝝞) (:(:◎) ◎◎) (:(:◎) ) (:(:◎) ◎) (:(:◎) ◎◎) (:(:◎ ◎) ◎) (:(:◎ ◎) (:◎)) (:(:◎ ◎) (:◎ ◎)) (:(:◎ ◎) 𝟬) (:(:◎ ◎) 𝝞) (:(:◎ ◎) ◎◎) (:(:◎ ◎) ) (:(:◎ ◎) ◎) (:(:◎ ◎) ◎◎) (:𝟬 ◎) (:𝟬 (:◎)) (:𝟬 (:◎ ◎)) (:𝟬 𝟬) (:𝟬 𝝞) (:𝟬 ◎◎) (:𝟬 ) (:𝟬 ◎) (:𝟬 ◎◎) (:𝝞 ◎) (:𝝞 (:◎)) (:𝝞 (:◎ ◎)) (:𝝞 𝟬) (:𝝞 𝝞) (:𝝞 ◎◎) (:𝝞 ) (:𝝞 ◎) (:𝝞 ◎◎) (:◎◎ ◎) (:◎◎ (:◎)) (:◎◎ (:◎ ◎)) (:◎◎ 𝟬) (:◎◎ 𝝞) (:◎◎ ◎◎) (:◎◎ ) (:◎◎ ◎) (:◎◎ ◎◎) (: ◎) (: (:◎)) (: (:◎ ◎)) (: 𝟬) (: 𝝞) (: ◎◎) (: ) (: ◎) (: ◎◎) (:◎ ◎) (:◎ (:◎)) (:◎ (:◎ ◎)) (:◎ 𝟬) (:◎ 𝝞) (:◎ ◎◎) (:◎ ) (:◎ ◎) (:◎ ◎◎) (:◎◎ ◎) (:◎◎ (:◎)) (:◎◎ (:◎ ◎)) (:◎◎ 𝟬) (:◎◎ 𝝞) (:◎◎ ◎◎) (:◎◎ ) (:◎◎ ◎) (:◎◎ ◎◎)"
     ]
    }
   ],
   "source": [
    "#\n",
    "#  sample.pure : <width> <depth> \n",
    "#\n",
    "sample.pure : 2 2 "
   ]
  },
  {
   "cell_type": "markdown",
   "id": "d29e73bd-5a15-4c3f-81d5-49de6113e75a",
   "metadata": {},
   "source": [
    "The direct approach is rarely useful because the universe of pure data grows enormously rapidly with **width** and **depth**.  So much so that\n",
    "\n",
    "* sample.pure : 2 3 \n",
    "\n",
    "is already challenging for a laptop.  \n",
    "\n",
    "### Size of sample.pure versus width and depth:\n",
    "\n",
    "|         | width 1  | width 2 | width 3 | width 4  | width 5 |\n",
    "|---------|---------:|--------:|--------:|---------:|--------:|\n",
    "|depth 1  |    2     |    3    |    4    |     5    |    6    |\n",
    "|depth 2  |    5     |     91   |    4369   |   406,901    |    62,193,781    |\n",
    "|depth 3  |    26     |     68,583,243   |    ?    |     ?    |    ?    |\n",
    "|depth 4  |    677     |     ?   |    ?    |     ?    |    ?    |\n",
    "|depth 5  |    458,330     |     ?   |    ?    |     ?    |    ?    |"
   ]
  },
  {
   "cell_type": "markdown",
   "id": "74c5b1d4-41ec-4167-ac3b-9848da6e9f50",
   "metadata": {},
   "source": [
    "### Practical searching \n",
    "\n",
    "Although **sample.pure** samples all pure data and, therefore, all mathematical objects, these samples are typically far too huge to be practically helpful.  Instead, the operator **sample.data** is much more practical.  This operation works by providing a sequence of codas and a width.\n",
    "\n",
    "* sample.data <...sequence of codas..> : width \n",
    "\n",
    "A few examples will illustrate. "
   ]
  },
  {
   "cell_type": "code",
   "execution_count": 6,
   "id": "65606b46-1287-4abb-b922-342c006bb61e",
   "metadata": {},
   "outputs": [
    {
     "name": "stdout",
     "output_type": "stream",
     "text": [
      "◎ (:a a a) (:a) (:a a a a) (:a a)"
     ]
    }
   ],
   "source": [
    "#\n",
    "#   Just one argument coda \"a\" and width <= 5 gives \n",
    "#\n",
    "sample.data a : 5 "
   ]
  },
  {
   "cell_type": "code",
   "execution_count": 7,
   "id": "79e6c97f-9ff3-4756-8b5c-75e2f1008cf1",
   "metadata": {},
   "outputs": [
    {
     "name": "stdout",
     "output_type": "stream",
     "text": [
      "(:a a b) (:b a b) (:a a b a) (:b b a a) (:a b a b) (:a a b b) (:b a a b) (:b b b a) (:b a a) (:b b a b) (:a a) ◎ (:a b) (:a b b) (:a a a) (:a b a a) (:b) (:a a a b) (:a b a) (:b b a) (:b b b b) (:a b b a) (:b b b) (:b a) (:b a b a) (:a a a a) (:a b b b) (:a) (:b a a a) (:b a b b) (:b b)"
     ]
    }
   ],
   "source": [
    "#\n",
    "#   Note that the sample is delivered, as usual, as (:data1) (:data2) ... \n",
    "#\n",
    "#   If you provide two codas, a and b, all permutations are included. \n",
    "#\n",
    "sample.data a b : 5"
   ]
  },
  {
   "cell_type": "code",
   "execution_count": 8,
   "id": "69870386-210d-48b9-b2d2-c5c184c2ea88",
   "metadata": {},
   "outputs": [
    {
     "name": "stdout",
     "output_type": "stream",
     "text": [
      "(:a B) (:B {B : a}) (:a {a : B}) (:{A : B} B) (:{a : B} a) (:{A : B} A) (:B {A B}) (:{a B} a) (:{B : A} A) (:A B) (:a {A B}) (:B {B a}) (:B) (:{B : A} B) (:{B A} B) (:{a B} B) (:{B : a} A) (:{B}) (:{a : B} B) (:B a) (:{B a} A) (:B {A : B}) (:A {B : a}) (:B {a B}) (:{A : B} a) (:B {B A}) (:a {a B}) (:{B A} a) (:A {B}) (:a {A : B}) (:{B : A} a) (:A {B a}) (:{B} B) (:a A) (:{B a} B) (:B B) (:a {B a}) (:{B A} A) (:A {B : A}) (:{A B}) (:A {a B}) (:{B A}) (:{B : A}) (:A) (:A {B A}) (:a {B}) (:{a : B}) (:B A) (:a) ◎ (:a a) (:{A B} B) (:A {a : B}) (:{B a} a) (:{a : B} A) (:{B a}) (:a {B A}) (:a {B : A}) (:B {a : B}) (:{B : a}) (:{a B}) (:A a) (:{B : a} a) (:B {B}) (:B {B : A}) (:A A) (:{a B} A) (:{A B} a) (:a {B : a}) (:A {A : B}) (:{B : a} B) (:{B} a) (:{A B} A) (:{B} A) (:A {A B}) (:{A : B})"
     ]
    }
   ],
   "source": [
    "#\n",
    "#   Including the coda <{$}> generates source code intermixed with permutations of the other coda\n",
    "#   that you prescribe. \n",
    "#\n",
    "sample.data <A> <B> <{$}> a : 3"
   ]
  },
  {
   "cell_type": "code",
   "execution_count": 9,
   "id": "889b9f68-04bb-472a-b6f4-09eafa7d8b27",
   "metadata": {},
   "outputs": [
    {
     "name": "stdout",
     "output_type": "stream",
     "text": [
      "(:{(y:) : B}) (:{B (x:)}) (:(x:)) (:{A : B}) (:{B (x:)}) (:{B A}) (:A) (:{B : (y:)}) (:(y:)) (:{(x:) : B}) (:{B (y:)}) (:B) (:{(x:) : B}) (:{B : (x:)}) (:{(x:) B}) (:{B : A}) (:{(y:) B}) (:{(x:) B}) ◎ (:{B : (x:)}) (:{A B}) (:{B}) (:(x:))"
     ]
    }
   ],
   "source": [
    "#\n",
    "#   One can add some chosen number of \"variables\" \n",
    "#\n",
    "sample.data <A> <B> <{$}> x? y? (x:) : 2 "
   ]
  },
  {
   "cell_type": "code",
   "execution_count": 10,
   "id": "85363d1f-0261-410d-a16e-333e09c5ab5f",
   "metadata": {},
   "outputs": [
    {
     "name": "stdout",
     "output_type": "stream",
     "text": [
      "◎ 𝟬 𝝞 language pass null bin put get domain left right if nif * readpath dir terminal help source demo info module defs nat code_sort ints int_sum int_prod int_sort int_min int_max int_inv int_div nats floats float_sum float_prod float_sort float_min float_max float_inv float_div rev first tail last rep nth1 once count bool not = equal or and nor xor nand xnor iff imply some home start startcontext homecontext setDefaultDepth getDefaultDepth step eval def ap aq by ax unicode wrap startswith endswith join split coda codx codes digits letters printable alphabet allcodes pure replace rreplace with undefined theorem sample.pure sample.window sample.data nth pre post in import arg let while kernel ker mor hasnt has isnt is sample.letter sample.variable sample.domain sample.number sample.module repn"
     ]
    }
   ],
   "source": [
    "#\n",
    "#   To meaningfully search, one should add domains representing established definitions.  To do this, first see \n",
    "#   all currently available definitions like so...\n",
    "#\n",
    "defs:"
   ]
  },
  {
   "cell_type": "code",
   "execution_count": 11,
   "id": "09fc2c9a-d9d3-44d9-af3c-62c1e16859f9",
   "metadata": {},
   "outputs": [
    {
     "name": "stdout",
     "output_type": "stream",
     "text": [
      "   Language Basic Basic Basic Basic Basic Basic Basic Basic Basic Basic Basic IO IO IO Help Help Help Help Help Help Number Number Number Number Number Number Number Number Number Number Number Number Number Number Number Number Number Number Number Sequence Sequence Sequence Sequence Sequence Sequence Sequence Sequence Logic Logic Logic Logic Logic Logic Logic Logic Logic Logic Logic Logic Logic Import Import Import Import Evaluate Evaluate Evaluate Evaluate Define Apply Apply Apply Apply Code Code Code Code Code Code Compile Compile Text Text Text Text Text Text Text Variable Variable Variable Variable Theorem Sample Sample Sample Sequence Sequence Sequence Logic Import Define  Apply Apply Apply Apply Basic Basic Basic Basic   Sample   "
     ]
    }
   ],
   "source": [
    "#\n",
    "#    Each definition is in a \"module\" which is either a python file (.py) or a coda file (.co). \n",
    "#\n",
    "module : defs:"
   ]
  },
  {
   "cell_type": "code",
   "execution_count": 12,
   "id": "92b373f7-5be7-4738-bb3c-b41e99287a3d",
   "metadata": {},
   "outputs": [
    {
     "name": "stdout",
     "output_type": "stream",
     "text": [
      "pass null bin put get domain left right if nif * nat code_sort ints int_sum int_prod int_sort int_min int_max int_inv int_div nats floats float_sum float_prod float_sort float_min float_max float_inv float_div rev first tail last rep nth1 once count bool not = equal or and nor xor nand xnor iff imply some ap aq by ax nth pre post in while kernel ker mor hasnt has isnt is"
     ]
    }
   ],
   "source": [
    "#\n",
    "#    Typically one would want some but not all definitions for a search.  For instance, one typically doesn't want to search \n",
    "#    over IO operations or Sample operations (to avoid recursion) or over help system operations.  A typical choice is...\n",
    "#\n",
    "defs : Apply Basic Logic Number Sequence  "
   ]
  },
  {
   "cell_type": "code",
   "execution_count": 13,
   "id": "09850719-7520-48a2-bf40-fff6aabdc5ee",
   "metadata": {},
   "outputs": [
    {
     "name": "stdout",
     "output_type": "stream",
     "text": [
      "(:{left B}) (:domain) (:{B : (y:)}) (:rep) (:{B : or}) (:{B : bool}) (:{int_sum B}) (:{rev B}) (:{int_prod : B}) (:nor) (:{B : post}) (:ax) (:{B some}) (:{isnt B}) (:{B : float_sum}) (:{post : B}) (:{some : B}) (:{B : xnor}) (:{B int_inv}) (:{B (z:)}) (:{get : B}) (:{B : first}) (:{float_div : B}) (:{ker B}) (:int_min) (:some) (:{B : get}) (:{B : rev}) (:{if : B}) (:{while B}) (:{if B}) (:or) (:{equal B}) (:left) (:kernel) (:{in : B}) (:imply) (:{B float_min}) (:{B float_max}) (:{nth1 B}) (:(y:)) (:{int_sum : B}) (:{B : tail}) (:{B : by}) (:{int_min B}) (:{B : =}) (:{(y:) B}) (:float_sort) (:{nor B}) (:{B while}) (:{float_sum B}) (:{(z:) B}) (:{domain : B}) (:floats) (:{nif B}) (:int_max) (:{B : pass}) (:{B : pre}) (:{B : nat}) (:{B isnt}) (:float_max) (:{ax : B}) (:{float_max B}) (:{B and}) (:{isnt : B}) (:{while : B}) (:{xnor : B}) (:{(x:) : B}) (:{B int_sum}) (:last) (:{B aq}) (:{B floats}) (:{hasnt : B}) (:(z:)) (:{B : int_inv}) (:{is : B}) (:{B : aq}) (:{* : B}) (:has) (:{B ap}) (:post) (:is) (:{xor B}) (:{B nats}) (:{* B}) (:nats) (:{iff B}) (:{B : (x:)}) (:{B : float_inv}) (:first) (:{B not}) (:{A : B}) (:{B : nand}) (:{int_max : B}) (:{or B}) (:{B int_min}) (:{B : nth1}) (:{B : nor}) (:{pre : B}) (:{B int_prod}) (:{imply : B}) (:iff) (:{B in}) (:{B : is}) (:{B count}) (:{bool : B}) (:{int_div B}) (:{post B}) (:=) (:{B pass}) (:{B bool}) (:{B right}) (:{aq B}) (:aq) (:{B : isnt}) (:{nats : B}) (:{B : int_min}) (:{put : B}) (:{int_sort B}) (:not) (:{B float_div}) (:{B : nth}) (:{float_sort B}) (:{int_max B}) (:{B float_sum}) (:{B nth}) (:{B ker}) (:{xnor B}) (:{not : B}) (:int_sum) (:{B post}) (:xor) (:{count : B}) (:bin) (:{B int_div}) (:{B : floats}) (:{B : int_div}) (:{B nor}) (:{xor : B}) (:{right B}) (:pre) (:xnor) (:{B : ker}) (:{code_sort : B}) (:{B *}) (:{first : B}) (:{B : left}) (:{mor : B}) (:{B : mor}) (:{ap B}) (:ints) (:{not B}) (:{nats B}) (:{nand : B}) (:{put B}) (:{= B}) (:{B : bin}) (:{B nat}) (:{B mor}) (:{B tail}) (:tail) (:{by : B}) (:{B float_inv}) (:{B : int_prod}) (:nif) (:{B null}) (:while) (:{B equal}) (:{B : domain}) (:{last B}) (:{B xnor}) (:(x:)) (:put) (:{B iff}) (:{B : (z:)}) (:{B =}) (:{B : put}) (:once) (:{bool B}) (:{kernel B}) (:pass) (:{code_sort B}) (:{A B}) (:{iff : B}) (:{hasnt B}) (:rev) (:hasnt) (:{float_inv : B}) (:{B : ints}) (:{B : equal}) (:A) (:{has : B}) (:{B : float_prod}) (:int_sort) (:{B : float_max}) (:{int_min : B}) (:{in B}) (:{nor : B}) (:{B : last}) (:null) (:float_div) (:{B (x:)}) (:{B by}) (:{B int_max}) (:{ker : B}) (:{float_sum : B}) (:{B (y:)}) (:{nat B}) (:{B or}) (:{B : float_div}) (:if) (:{B : imply}) (:{nand B}) (:{B pre}) (:{int_inv : B}) (:{B if}) (:float_inv) (:{B hasnt}) (:{B : kernel}) (:right) (:{ints B}) (:nth) (:{left : B}) (:{B : while}) (:{B : if}) (:{B : int_sort}) (:{domain B}) (:{B get}) (:in) (:{B bin}) (:{int_div : B}) (:{tail : B}) (:{first B}) (:{B is}) (:{B once}) (:{nth1 : B}) (:{B : *}) (:bool) (:{right : B}) (:{bin : B}) (:isnt) (:{= : B}) (:int_inv) (:{B rev}) (:{float_div B}) (:{int_sort : B}) (:{nat : B}) (:{B nth1}) ◎ (:{B float_sort}) (:{imply B}) (:int_prod) (:{ints : B}) (:{B : nats}) (:{B : code_sort}) (:{B rep}) (:{B kernel}) (:{and B}) (:{float_min : B}) (:{once B}) (:ker) (:int_div) (:{B : rep}) (:{null B}) (:{aq : B}) (:{has B}) (:{B left}) (:{B : int_max}) (:{B : in}) (:{equal : B}) (:{rep B}) (:{nth B}) (:{count B}) (:{B A}) (:{last : B}) (:{B nand}) (:{B : float_sort}) (:{B has}) (:nat) (:{(y:) : B}) (:{pre B}) (:{pass B}) (:{B : has}) (:{B : float_min}) (:{B put}) (:{float_min B}) (:float_min) (:{B nif}) (:{B : A}) (:B) (:{B code_sort}) (:{pass : B}) (:code_sort) (:equal) (:{B : ap}) (:{is B}) (:{B domain}) (:{floats B}) (:{once : B}) (:{get B}) (:{float_prod B}) (:{B : count}) (:float_sum) (:{null : B}) (:{float_inv B}) (:{B : and}) (:{nth : B}) (:{B : xor}) (:{nif : B}) (:{floats : B}) (:{float_prod : B}) (:nth1) (:and) (:{B last}) (:*) (:{B int_sort}) (:get) (:{float_sort : B}) (:{B : nif}) (:{B : iff}) (:{B : right}) (:{B : some}) (:{int_prod B}) (:{B : null}) (:count) (:ap) (:by) (:{some B}) (:{(x:) B}) (:{int_inv B}) (:{rep : B}) (:{B : ax}) (:{B first}) (:{by B}) (:{B xor}) (:mor) (:float_prod) (:{float_max : B}) (:{B : hasnt}) (:{rev : B}) (:{B ints}) (:{B float_prod}) (:{mor B}) (:{B : once}) (:{ax B}) (:{B}) (:{ap : B}) (:{or : B}) (:{B imply}) (:{bin B}) (:nand) (:{B : int_sum}) (:{kernel : B}) (:{B : not}) (:{and : B}) (:{tail B}) (:{(z:) : B}) (:{B ax})"
     ]
    }
   ],
   "source": [
    "#\n",
    "#    To create a typical sample, we start with A, B and {$} for language purposes, add a few \"variables\" (x? y? z?) and \n",
    "#    mix in the above definitions. \n",
    "#    \n",
    "let sample : sample.data <A> <B> <{$}> (x? y? z?) (defs:Apply Basic Logic Number Sequence) : 2 \n",
    "sample?"
   ]
  },
  {
   "cell_type": "code",
   "execution_count": 14,
   "id": "5bdbe692-f37a-4121-aec5-75af22cbc55a",
   "metadata": {},
   "outputs": [
    {
     "name": "stdout",
     "output_type": "stream",
     "text": [
      "358\n",
      "(x:) (y:) (z:)"
     ]
    }
   ],
   "source": [
    "#\n",
    "#   sample? is then a collection of data that can be used, for instance, to test for theorems or search for \n",
    "#   algebraic structures of interest, as shown in study tutorials. \n",
    "#\n",
    "count : sample? \n",
    "undefined : sample?"
   ]
  },
  {
   "cell_type": "markdown",
   "id": "48b98844-2d76-4057-8827-80519f471fb5",
   "metadata": {},
   "source": [
    "For larger scale searching, one would typically increase from width=2 and search in parallel and, perhaps add more variables.\n",
    "\n",
    "This can be useful for theorem testing and for searching for algebraic structures of interest as illustrated in the theorem tutorial and in various study notebooks. "
   ]
  },
  {
   "cell_type": "code",
   "execution_count": null,
   "id": "b2925b26-aed6-4366-9377-d46976470cd9",
   "metadata": {},
   "outputs": [],
   "source": []
  }
 ],
 "metadata": {
  "kernelspec": {
   "display_name": "coda",
   "language": "",
   "name": "coda"
  },
  "language_info": {
   "file_extension": ".co",
   "mimetype": "text/plain",
   "name": "Any text"
  }
 },
 "nbformat": 4,
 "nbformat_minor": 5
}
