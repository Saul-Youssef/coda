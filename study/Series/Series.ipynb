{
 "cells": [
  {
   "cell_type": "markdown",
   "id": "19181f49-1634-42af-9a35-4bcd4eddb2b7",
   "metadata": {},
   "source": [
    "## Series \n",
    "\n",
    "A series "
   ]
  },
  {
   "cell_type": "code",
   "execution_count": 1,
   "id": "1e7b8ce0-e2e7-46cb-af59-e3332629d17c",
   "metadata": {},
   "outputs": [
    {
     "name": "stdout",
     "output_type": "stream",
     "text": []
    }
   ],
   "source": [
    "Def fibonnaci : next {nat_sum : last 2 : B} "
   ]
  },
  {
   "cell_type": "code",
   "execution_count": 2,
   "id": "450669d6-3eb6-416b-adce-59b193453f5b",
   "metadata": {},
   "outputs": [
    {
     "name": "stdout",
     "output_type": "stream",
     "text": [
      "1 1 2 3 5 8"
     ]
    }
   ],
   "source": [
    "(pow | | | | : fibonnaci) : 1 1 "
   ]
  },
  {
   "cell_type": "code",
   "execution_count": 3,
   "id": "6a2a0ca8-ae7c-4bb6-b8ad-4b0d2be5838a",
   "metadata": {},
   "outputs": [
    {
     "name": "stdout",
     "output_type": "stream",
     "text": []
    }
   ],
   "source": [
    "#Def series : {B (A:B) (series A:(A:B)) } \n",
    "Def series : {B (series A:(A:B))} "
   ]
  },
  {
   "cell_type": "code",
   "execution_count": 12,
   "id": "a894f7a5-80d9-4c1e-8e78-dcde00af6b0c",
   "metadata": {},
   "outputs": [
    {
     "name": "stdout",
     "output_type": "stream",
     "text": [
      "1 2 3 4 5 6 7 8 9 (nat_sum:1 (last:(nat_sum:1 (last:(nat_sum:1 (last:(nat_sum:1 (last:(nat_sum:1 (last:({A:B} {nat_sum: 1 (last:B)}:({A:B} {nat_sum: 1 (last:B)}:({1 2 3}:))))))))))))) (nat_sum:1 (last:(nat_sum:1 (last:(nat_sum:1 (last:(nat_sum:1 (last:(nat_sum:({1 (last:B)}:6)))))))))) (nat_sum:1 (last:(nat_sum:1 (last:(nat_sum:1 (last:(nat_sum:1 (last:({B}:({B} {nat_sum: 1 (last:B)}:({A:B} {nat_sum: 1 (last:B)}:({A:B} {nat_sum: 1 (last:B)}:({A:B} {nat_sum: 1 (last:B)}:({A:B} {nat_sum: 1 (last:B)}:({A:B} {nat_sum: 1 (last:B)}:({1 2 3}:)))))))))))))))) (nat_sum:1 (last:(nat_sum:1 (last:(nat_sum:1 (last:({nat_sum: 1 (last:B)}:({B} {nat_sum: 1 (last:B)}:({A:B} {nat_sum: 1 (last:B)}:({A:B} {nat_sum: 1 (last:B)}:({A:B} {nat_sum: 1 (last:B)}:({A:B} {nat_sum: 1 (last:B)}:({A:B} {nat_sum: 1 (last:B)}:({A:B} {nat_sum: 1 (last:B)}:({1 2 3}:))))))))))))))) (nat_sum:1 (last:(nat_sum:1 (last:(nat_sum:1 ({(last:B)}:({B} {nat_sum: 1 (last:B)}:({A:B} {nat_sum: 1 (last:B)}:({A:B} {nat_sum: 1 (last:B)}:({A:B} {nat_sum: 1 (last:B)}:({A:B} {nat_sum: 1 (last:B)}:({A:B} {nat_sum: 1 (last:B)}:({A:B} {nat_sum: 1 (last:B)}:({A:B} {nat_sum: 1 (last:B)}:({A:B} {nat_sum: 1 (last:B)}:({1 2 3}:)))))))))))))))) (nat_sum:1 (last:(nat_sum:1 (last:({B} {nat_sum: 1 (last:B)}:({A:B} {nat_sum: 1 (last:B)}:({A:B} {nat_sum: 1 (last:B)}:({A:B} {nat_sum: 1 (last:B)}:({A:B} {nat_sum: 1 (last:B)}:({A:B} {nat_sum: 1 (last:B)}:({A:B} {nat_sum: 1 (last:B)}:({A:B} {nat_sum: 1 (last:B)}:({A:B} {nat_sum: 1 (last:B)}:({A:B} {nat_sum: 1 (last:B)}:({A:B} {nat_sum: 1 (last:B)}:({1 2 3}:)))))))))))))))) (nat_sum:1 (last:(nat_sum:({ 1 (last:B)}:({B} {nat_sum: 1 (last:B)}:({A:B} {nat_sum: 1 (last:B)}:({A:B} {nat_sum: 1 (last:B)}:({A:B} {nat_sum: 1 (last:B)}:({A:B} {nat_sum: 1 (last:B)}:({A:B} {nat_sum: 1 (last:B)}:({A:B} {nat_sum: 1 (last:B)}:({A:B} {nat_sum: 1 (last:B)}:({A:B} {nat_sum: 1 (last:B)}:({A:B} {nat_sum: 1 (last:B)}:({A:B} {nat_sum: 1 (last:B)}:({A:B} {nat_sum: 1 (last:B)}:({1 2 3}:))))))))))))))))) (nat_sum:1 ({last:B}:({B} {nat_sum: 1 (last:B)}:({A:B} {nat_sum: 1 (last:B)}:({A:B} {nat_sum: 1 (last:B)}:({A:B} {nat_sum: 1 (last:B)}:({A:B} {nat_sum: 1 (last:B)}:({A:B} {nat_sum: 1 (last:B)}:({A:B} {nat_sum: 1 (last:B)}:({A:B} {nat_sum: 1 (last:B)}:({A:B} {nat_sum: 1 (last:B)}:({A:B} {nat_sum: 1 (last:B)}:({A:B} {nat_sum: 1 (last:B)}:({A:B} {nat_sum: 1 (last:B)}:({A:B} {nat_sum: 1 (last:B)}:({A:B} {nat_sum: 1 (last:B)}:({1 2 3}:))))))))))))))))) ({A:B} {nat_sum: 1 (last:B)}:({A:B} {nat_sum: 1 (last:B)}:({A:B} {nat_sum: 1 (last:B)}:({A:B} {nat_sum: 1 (last:B)}:({A:B} {nat_sum: 1 (last:B)}:({A:B} {nat_sum: 1 (last:B)}:({A:B} {nat_sum: 1 (last:B)}:({A:B} {nat_sum: 1 (last:B)}:({A:B} {nat_sum: 1 (last:B)}:({A:B} {nat_sum: 1 (last:B)}:({A:B} {nat_sum: 1 (last:B)}:({A:B} {nat_sum: 1 (last:B)}:({A:B} {nat_sum: 1 (last:B)}:({A:B} {nat_sum: 1 (last:B)}:({A:B} {nat_sum: 1 (last:B)}:({1 2 3}:)))))))))))))))) ({series A:(A:B)} {nat_sum: 1 (last:B)}:({A:B} {nat_sum: 1 (last:B)}:({A:B} {nat_sum: 1 (last:B)}:({A:B} {nat_sum: 1 (last:B)}:({A:B} {nat_sum: 1 (last:B)}:({A:B} {nat_sum: 1 (last:B)}:({A:B} {nat_sum: 1 (last:B)}:({A:B} {nat_sum: 1 (last:B)}:({A:B} {nat_sum: 1 (last:B)}:({A:B} {nat_sum: 1 (last:B)}:({A:B} {nat_sum: 1 (last:B)}:({A:B} {nat_sum: 1 (last:B)}:({A:B} {nat_sum: 1 (last:B)}:({A:B} {nat_sum: 1 (last:B)}:({A:B} {nat_sum: 1 (last:B)}:({A:B} {nat_sum: 1 (last:B)}:({1 2 3}:)))))))))))))))))"
     ]
    }
   ],
   "source": [
    "eval 10 : series {nat_sum: 1 (last:B)} : 1 2 3 "
   ]
  },
  {
   "cell_type": "code",
   "execution_count": 5,
   "id": "75b9b249-811a-4b77-8f2d-ef0d9bae84fa",
   "metadata": {},
   "outputs": [
    {
     "name": "stdout",
     "output_type": "stream",
     "text": [
      "\u001b[;1mcode:\u001b[0m\n",
      "    \u001b[34;7mnext\u001b[0m\n",
      "\u001b[;1mmodule:\u001b[0m\n",
      "    Apply\n",
      "\u001b[;1msummary:\u001b[0m\n",
      "    next is typically for sequences\n",
      "\u001b[;1mdescription:\u001b[0m\n",
      "\u001b[;1mpath:\u001b[0m\n",
      "    /Users/youssef/coda/co/Apply.co\n",
      "\u001b[;1msource code:\u001b[0m\n",
      "    def next : {B (A:B)}\n",
      "\u001b[;1mdemos:\u001b[0m\n",
      "    1. \u001b[35;4mnext {nat_sum:1 (last:B)} : 1 2 3\u001b[0m\n",
      "    2. \u001b[35;4mnext {nat_sum:last 2:B} : 1 1 2 3\u001b[0m\n"
     ]
    }
   ],
   "source": [
    "help : next"
   ]
  },
  {
   "cell_type": "code",
   "execution_count": 6,
   "id": "3d4a0e9b-2de8-4ce4-ae15-0385e45ef721",
   "metadata": {},
   "outputs": [
    {
     "name": "stdout",
     "output_type": "stream",
     "text": [
      "\u001b[;1mcode:\u001b[0m\n",
      "    \u001b[34;7mpow\u001b[0m\n",
      "\u001b[;1mmodule:\u001b[0m\n",
      "    Apply\n",
      "\u001b[;1msummary:\u001b[0m\n",
      "    (pow | | | : B):X does B:B:B:X three times, etc.\n",
      "\u001b[;1mdescription:\u001b[0m\n",
      "\u001b[;1mpath:\u001b[0m\n",
      "    /Users/youssef/coda/co/Apply.co\n",
      "\u001b[;1msource code:\u001b[0m\n",
      "    def pow : {prod (dup A : (:B))}\n",
      "\u001b[;1mdemos:\u001b[0m\n",
      "    1. \u001b[35;4m(pow | | | : {B x}) : 6\u001b[0m\n",
      "    2. \u001b[35;4m(pow | | | | : next {nat_sum : back | | : B}) : 1 1\u001b[0m\n"
     ]
    }
   ],
   "source": [
    "help : pow"
   ]
  },
  {
   "cell_type": "code",
   "execution_count": null,
   "id": "2b18eadf-ad94-47e3-9f58-7705861eda63",
   "metadata": {},
   "outputs": [],
   "source": []
  }
 ],
 "metadata": {
  "kernelspec": {
   "display_name": "coda",
   "language": "",
   "name": "coda"
  },
  "language_info": {
   "file_extension": ".co",
   "mimetype": "text/plain",
   "name": "Any text"
  }
 },
 "nbformat": 4,
 "nbformat_minor": 5
}
