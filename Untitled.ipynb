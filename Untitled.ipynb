{
 "cells": [
  {
   "cell_type": "code",
   "execution_count": 1,
   "id": "47a8ea01-e524-4472-8ec8-f08f1e9e5de6",
   "metadata": {},
   "outputs": [
    {
     "name": "stdout",
     "output_type": "stream",
     "text": []
    }
   ],
   "source": [
    "Let X : (:rev) (:first 2)"
   ]
  },
  {
   "cell_type": "code",
   "execution_count": 2,
   "id": "81c75dbb-4c70-415d-bde0-9868e4cbc005",
   "metadata": {},
   "outputs": [
    {
     "name": "stdout",
     "output_type": "stream",
     "text": [
      "(:rev) (:first 2)"
     ]
    }
   ],
   "source": [
    "X?"
   ]
  },
  {
   "cell_type": "code",
   "execution_count": 3,
   "id": "de7dcf85-b0ad-4eb0-9e21-1ba7541c1a3c",
   "metadata": {},
   "outputs": [
    {
     "name": "stdout",
     "output_type": "stream",
     "text": [
      "\u001b[;1mcode:\u001b[0m\n",
      "    \u001b[34;7maq\u001b[0m\n",
      "\u001b[;1mmodule:\u001b[0m\n",
      "    Apply\n",
      "\u001b[;1msummary:\u001b[0m\n",
      "    Apply argument to input in various ways.\n",
      "\u001b[;1mdescription:\u001b[0m\n",
      "\u001b[;1mpath:\u001b[0m\n",
      "    /Users/youssef/coda/py/Apply.py\n",
      "\u001b[;1mdemos:\u001b[0m\n",
      "    1. \u001b[35;4map foo : 1 2 3\u001b[0m\n",
      "    2. \u001b[35;4map {bin : B} : 1 2 3\u001b[0m\n",
      "    3. \u001b[35;4map {first A : get bin : B} 2 : (bin:a b c d e) (bin:x y z)\u001b[0m\n",
      "    4. \u001b[35;4maq bin bin bin bin : 1 2 3 4\u001b[0m\n",
      "    5. \u001b[35;4map aq a b c : 1 2 3\u001b[0m\n",
      "    6. \u001b[35;4maq bin a b c : 1 2 3\u001b[0m\n",
      "    7. \u001b[35;4maq first 2 3 : a b c d e f g\u001b[0m\n",
      "    8. \u001b[35;4mby 2 foo : a b c d e f g\u001b[0m\n",
      "    9. \u001b[35;4map {if (count:get bin:B)=2:B} : (bin:a b) (bin:a b c) (bin:x y) (bin:a b c d)\u001b[0m\n"
     ]
    }
   ],
   "source": [
    "help : aq"
   ]
  },
  {
   "cell_type": "code",
   "execution_count": 8,
   "id": "e789b4ee-16c2-4724-8811-26d9ccce6ab8",
   "metadata": {},
   "outputs": [
    {
     "name": "stdout",
     "output_type": "stream",
     "text": [
      "(foo a:1 2 3) (foo b:1 2 3)"
     ]
    }
   ],
   "source": [
    "aq foo a b : 1 2 3 "
   ]
  },
  {
   "cell_type": "code",
   "execution_count": 9,
   "id": "37dbe6d2-0179-46d2-aaf5-cd8f338e3461",
   "metadata": {},
   "outputs": [
    {
     "name": "stdout",
     "output_type": "stream",
     "text": [
      "3 2 1 1 2"
     ]
    }
   ],
   "source": [
    "aq {(get:A):B} X? : 1 2 3 "
   ]
  },
  {
   "cell_type": "code",
   "execution_count": 11,
   "id": "7a45d83a-f2d6-4c7b-b001-889282841265",
   "metadata": {},
   "outputs": [
    {
     "name": "stdout",
     "output_type": "stream",
     "text": []
    }
   ],
   "source": [
    "Def sum : {aq {(get:A):B} : B}"
   ]
  },
  {
   "cell_type": "code",
   "execution_count": 14,
   "id": "34991eee-f834-4fed-83f1-069fba2f8cd7",
   "metadata": {},
   "outputs": [
    {
     "name": "stdout",
     "output_type": "stream",
     "text": [
      "c b a a b"
     ]
    }
   ],
   "source": [
    "aq {(get:A):B} X? : a b c  "
   ]
  },
  {
   "cell_type": "code",
   "execution_count": 15,
   "id": "35ddc2a9-9845-4eb4-b860-f2e29ce4aa34",
   "metadata": {},
   "outputs": [
    {
     "name": "stdout",
     "output_type": "stream",
     "text": []
    }
   ],
   "source": [
    "Def Sum : {aq {(get:A):B} A:B} "
   ]
  },
  {
   "cell_type": "code",
   "execution_count": 16,
   "id": "d4edbf6f-989a-45f8-969a-1d827cb350b0",
   "metadata": {},
   "outputs": [
    {
     "name": "stdout",
     "output_type": "stream",
     "text": [
      "c b a a b"
     ]
    }
   ],
   "source": [
    "Sum X? : a b c"
   ]
  },
  {
   "cell_type": "code",
   "execution_count": null,
   "id": "b0a653a9-95b9-48d8-a491-1e0adc2eeb0b",
   "metadata": {},
   "outputs": [],
   "source": []
  }
 ],
 "metadata": {
  "kernelspec": {
   "display_name": "coda",
   "language": "",
   "name": "coda"
  },
  "language_info": {
   "file_extension": ".co",
   "mimetype": "text/plain",
   "name": "Any text"
  }
 },
 "nbformat": 4,
 "nbformat_minor": 5
}
