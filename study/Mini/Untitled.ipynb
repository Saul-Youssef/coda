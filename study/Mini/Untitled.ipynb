{
 "cells": [
  {
   "cell_type": "code",
   "execution_count": 5,
   "id": "dc0145bb-96b1-49cb-bd58-47bf56698e74",
   "metadata": {},
   "outputs": [
    {
     "ename": "SyntaxError",
     "evalue": "(unicode error) 'unicodeescape' codec can't decode bytes in position 18-19: malformed \\N character escape (3587839198.py, line 1)",
     "output_type": "error",
     "traceback": [
      "\u001b[0;36m  Cell \u001b[0;32mIn[5], line 1\u001b[0;36m\u001b[0m\n\u001b[0;31m    print(u\"some unicode text \\N {EURO SIGN}\")\u001b[0m\n\u001b[0m                                             ^\u001b[0m\n\u001b[0;31mSyntaxError\u001b[0m\u001b[0;31m:\u001b[0m (unicode error) 'unicodeescape' codec can't decode bytes in position 18-19: malformed \\N character escape\n"
     ]
    }
   ],
   "source": [
    "print(u\"some unicode text \\N {EURO SIGN}\")"
   ]
  },
  {
   "cell_type": "code",
   "execution_count": 1,
   "id": "a5ac51b3-d19a-422e-b7f7-43af60f33794",
   "metadata": {},
   "outputs": [
    {
     "data": {
      "text/plain": [
       "'Δ'"
      ]
     },
     "execution_count": 1,
     "metadata": {},
     "output_type": "execute_result"
    }
   ],
   "source": [
    "\"\\N{GREEK CAPITAL LETTER DELTA}\""
   ]
  },
  {
   "cell_type": "code",
   "execution_count": 2,
   "id": "7d69f955-de10-4f2f-b6e7-9cfbee6f63b0",
   "metadata": {},
   "outputs": [
    {
     "name": "stdout",
     "output_type": "stream",
     "text": [
      "Δ\n"
     ]
    }
   ],
   "source": [
    "print(\"\\N{GREEK CAPITAL LETTER DELTA}\")"
   ]
  },
  {
   "cell_type": "code",
   "execution_count": 52,
   "id": "eba2f7f8-5d9d-48fe-bf92-45d6fa29008d",
   "metadata": {},
   "outputs": [
    {
     "name": "stdout",
     "output_type": "stream",
     "text": [
      "{(): '𝟏'}\n",
      "<class 'str'> 𝟏\n"
     ]
    }
   ],
   "source": [
    "d = {}\n",
    "d[()] = \"\\N{MATHEMATICAL BOLD DIGIT ONE}\"\n",
    "print(d)\n",
    "x = d[()]\n",
    "print(type(x),x)"
   ]
  },
  {
   "cell_type": "code",
   "execution_count": 58,
   "id": "4f50159d-a8ea-47eb-89dc-feeff25870df",
   "metadata": {},
   "outputs": [
    {
     "name": "stdout",
     "output_type": "stream",
     "text": [
      "0 ∅ 0 1\n"
     ]
    }
   ],
   "source": [
    "print(\"\\u0030\",\"\\u2205\",0,1)"
   ]
  },
  {
   "cell_type": "code",
   "execution_count": null,
   "id": "9d8b5b6a-f61a-4b95-b80d-a93ac8e87694",
   "metadata": {},
   "outputs": [],
   "source": []
  }
 ],
 "metadata": {
  "kernelspec": {
   "display_name": "Python 3 (ipykernel)",
   "language": "python",
   "name": "python3"
  },
  "language_info": {
   "codemirror_mode": {
    "name": "ipython",
    "version": 3
   },
   "file_extension": ".py",
   "mimetype": "text/x-python",
   "name": "python",
   "nbconvert_exporter": "python",
   "pygments_lexer": "ipython3",
   "version": "3.10.7"
  }
 },
 "nbformat": 4,
 "nbformat_minor": 5
}
