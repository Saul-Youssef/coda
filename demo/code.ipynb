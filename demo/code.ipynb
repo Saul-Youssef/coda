{
 "cells": [
  {
   "cell_type": "markdown",
   "id": "c97d7547-d62d-419b-899f-4c25b1728edb",
   "metadata": {},
   "source": [
    "## Code and Unicode\n",
    "\n",
    "These are basic demos showing bits, bytes, and unicode text in the system.\n",
    "\n",
    "Data is a finite sequence of codas and a coda is a pair of data.  This means that everything is constructed from empty sequences.  This includes bits, bytes and and strings of bytes.  "
   ]
  },
  {
   "cell_type": "code",
   "execution_count": 1,
   "id": "49b96420-fca7-4473-b00e-ee190b291d59",
   "metadata": {
    "tags": []
   },
   "outputs": [],
   "source": [
    "from base import * \n",
    "import string"
   ]
  },
  {
   "cell_type": "code",
   "execution_count": 2,
   "id": "11f2f92d-d6f6-494c-b598-d8f2fcaef196",
   "metadata": {},
   "outputs": [
    {
     "data": {
      "text/plain": [
       "'0123456789abcdefghijklmnopqrstuvwxyzABCDEFGHIJKLMNOPQRSTUVWXYZ!\"#$%&\\'()*+,-./:;<=>?@[\\\\]^_`{|}~ \\t\\n\\r\\x0b\\x0c'"
      ]
     },
     "execution_count": 2,
     "metadata": {},
     "output_type": "execute_result"
    }
   ],
   "source": [
    "string.printable  # python printables have equivalent codas"
   ]
  },
  {
   "cell_type": "markdown",
   "id": "b99a04f7-63cb-4805-bb22-e812ce8af056",
   "metadata": {},
   "source": [
    "Bits are made from pure data as follows."
   ]
  },
  {
   "cell_type": "code",
   "execution_count": 3,
   "id": "78574325-30b2-46d0-b5a4-cb4fcb4d8e80",
   "metadata": {},
   "outputs": [
    {
     "name": "stdout",
     "output_type": "stream",
     "text": [
      "𝟬 (:) <class 'base.coda'>\n",
      "𝟭 (:(:)) <class 'base.coda'>\n"
     ]
    }
   ],
   "source": [
    "z = data()\n",
    "bit0 = z|z\n",
    "bit1 = z|data(z|z)\n",
    "print(bit0,repr(bit0),type(bit0))\n",
    "print(bit1,repr(bit1),type(bit1))\n",
    "#\n",
    "#  There is no actual ASCII code for an empty string, so we need to make a \n",
    "#  special definition for that! \n",
    "#"
   ]
  },
  {
   "cell_type": "markdown",
   "id": "401b69ed-d30e-439e-bf2b-e5b8067debc0",
   "metadata": {},
   "source": [
    "The general setup is that the Code module contains mappings between some codas and unicode strings.  This is used for display purposes only.  To create text data in python, one normally uses the functions `co` (to make a coda) or `da` (to make data)."
   ]
  },
  {
   "cell_type": "code",
   "execution_count": 4,
   "id": "8fbd2369-c260-4a33-9cd8-0b403699841d",
   "metadata": {},
   "outputs": [
    {
     "name": "stdout",
     "output_type": "stream",
     "text": [
      "Hello World 𝟭𝟭𝟭𝟬𝟭𝟬𝟬𝟬𝟬𝟬 <class 'base.coda'>\n",
      "Hello World 𝟭𝟭𝟭𝟬𝟭𝟬𝟭𝟬𝟬𝟭 <class 'base.data'>\n"
     ]
    }
   ],
   "source": [
    "cotext = co('Hello World \\u03A0')\n",
    "datext = da('Hello World \\u03A9') \n",
    "print(cotext,type(cotext))\n",
    "print(datext,type(datext))"
   ]
  },
  {
   "cell_type": "markdown",
   "id": "b494261a-6b9e-476e-90b4-a1dcd7a1559b",
   "metadata": {},
   "source": [
    "You might be wondering about the colon in (:Hello...).  The point of this is that this is a coda with left data equal to the empty sequence.  The empty sequence has a corresponding definition which is the identity.  The effect of this is to guarantee that the string \"Hello World...\" won't be modified by some other definition.  It is \"atomic\" data.  Bits, bytes and strings are created as atoms by `co` and `da`.  If you want, you can get at the components as follows."
   ]
  },
  {
   "cell_type": "code",
   "execution_count": 5,
   "id": "66ff5ff7-fdf5-4370-aa34-813fbb02a2fa",
   "metadata": {},
   "outputs": [
    {
     "name": "stdout",
     "output_type": "stream",
     "text": [
      "H ((:):(:)(:(:))(:)(:)(:(:))(:)(:)(:))\n",
      "e ((:):(:)(:(:))(:(:))(:)(:)(:(:))(:)(:(:)))\n",
      "l ((:):(:)(:(:))(:(:))(:)(:(:))(:(:))(:)(:))\n",
      "l ((:):(:)(:(:))(:(:))(:)(:(:))(:(:))(:)(:))\n",
      "o ((:):(:)(:(:))(:(:))(:)(:(:))(:(:))(:(:))(:(:)))\n",
      "  ((:):(:)(:)(:(:))(:)(:)(:)(:)(:))\n",
      "W ((:):(:)(:(:))(:)(:(:))(:)(:(:))(:(:))(:(:)))\n",
      "o ((:):(:)(:(:))(:(:))(:)(:(:))(:(:))(:(:))(:(:)))\n",
      "r ((:):(:)(:(:))(:(:))(:(:))(:)(:)(:(:))(:))\n",
      "l ((:):(:)(:(:))(:(:))(:)(:(:))(:(:))(:)(:))\n",
      "d ((:):(:)(:(:))(:(:))(:)(:)(:(:))(:)(:))\n",
      "  ((:):(:)(:)(:(:))(:)(:)(:)(:)(:))\n",
      "𝟭𝟭𝟭𝟬𝟭𝟬𝟬𝟬𝟬𝟬 ((:):(:(:))(:(:))(:(:))(:)(:(:))(:)(:)(:)(:)(:))\n"
     ]
    }
   ],
   "source": [
    "for c in cotext.right(): print(c,repr(c))"
   ]
  },
  {
   "cell_type": "code",
   "execution_count": 25,
   "id": "e770542c-aff5-4d87-a66c-d006aa279916",
   "metadata": {},
   "outputs": [
    {
     "name": "stdout",
     "output_type": "stream",
     "text": [
      "H (a:a(:a)aa(:a)aaa)\n",
      "e (a:a(:a)(:a)aa(:a)a(:a))\n",
      "l (a:a(:a)(:a)a(:a)(:a)aa)\n",
      "l (a:a(:a)(:a)a(:a)(:a)aa)\n",
      "o (a:a(:a)(:a)a(:a)(:a)(:a)(:a))\n",
      "  (a:aa(:a)aaaaa)\n",
      "W (a:a(:a)a(:a)a(:a)(:a)(:a))\n",
      "o (a:a(:a)(:a)a(:a)(:a)(:a)(:a))\n",
      "r (a:a(:a)(:a)(:a)aa(:a)a)\n",
      "l (a:a(:a)(:a)a(:a)(:a)aa)\n",
      "d (a:a(:a)(:a)aa(:a)aa)\n",
      "  (a:aa(:a)aaaaa)\n",
      "𝟭𝟭𝟭𝟬𝟭𝟬𝟬𝟬𝟬𝟬 (a:(:a)(:a)(:a)a(:a)aaaaa)\n"
     ]
    }
   ],
   "source": [
    "for c in cotext.right(): print(c,c.str_atom('a'))"
   ]
  },
  {
   "cell_type": "code",
   "execution_count": 11,
   "id": "fb99406d-d5f4-44d5-abea-75bdddaf6f34",
   "metadata": {},
   "outputs": [
    {
     "data": {
      "text/plain": [
       "'Hello World 𝟭𝟭𝟭𝟬𝟭𝟬𝟬𝟬𝟬𝟬'"
      ]
     },
     "execution_count": 11,
     "metadata": {},
     "output_type": "execute_result"
    }
   ],
   "source": [
    "str(cotext)"
   ]
  },
  {
   "cell_type": "code",
   "execution_count": 12,
   "id": "f3a04d76-928c-49bf-afcb-7e6e4a604b8d",
   "metadata": {},
   "outputs": [
    {
     "name": "stdout",
     "output_type": "stream",
     "text": [
      "𝟬 (:)\n",
      "𝟭 (:(:))\n",
      "𝟬 (:)\n",
      "𝟬 (:)\n",
      "𝟭 (:(:))\n",
      "𝟬 (:)\n",
      "𝟬 (:)\n",
      "𝟬 (:)\n"
     ]
    }
   ],
   "source": [
    "H = cotext.right()[0]\n",
    "for b in H.right(): print(b,repr(b))"
   ]
  },
  {
   "cell_type": "code",
   "execution_count": 13,
   "id": "5aea502c-6098-43a4-ad01-553f6dffa75c",
   "metadata": {},
   "outputs": [
    {
     "name": "stdout",
     "output_type": "stream",
     "text": [
      "𝟬 (:)\n"
     ]
    }
   ],
   "source": [
    "b = H.right()[0]\n",
    "print(b,repr(b))"
   ]
  },
  {
   "cell_type": "code",
   "execution_count": 15,
   "id": "b976cefa-f3fd-4e7c-a709-a7c15d7f05d1",
   "metadata": {
    "tags": []
   },
   "outputs": [
    {
     "name": "stdout",
     "output_type": "stream",
     "text": [
      "𝟬 <- ∎ 0\n",
      "𝟭 <- (:∎) 1\n",
      "0 <- (∎:∎∎(:∎)(:∎)∎∎∎∎) 2\n",
      "1 <- (∎:∎∎(:∎)(:∎)∎∎∎(:∎)) 2\n",
      "2 <- (∎:∎∎(:∎)(:∎)∎∎(:∎)∎) 2\n",
      "3 <- (∎:∎∎(:∎)(:∎)∎∎(:∎)(:∎)) 2\n",
      "4 <- (∎:∎∎(:∎)(:∎)∎(:∎)∎∎) 2\n",
      "5 <- (∎:∎∎(:∎)(:∎)∎(:∎)∎(:∎)) 2\n",
      "6 <- (∎:∎∎(:∎)(:∎)∎(:∎)(:∎)∎) 2\n",
      "7 <- (∎:∎∎(:∎)(:∎)∎(:∎)(:∎)(:∎)) 2\n",
      "8 <- (∎:∎∎(:∎)(:∎)(:∎)∎∎∎) 2\n",
      "9 <- (∎:∎∎(:∎)(:∎)(:∎)∎∎(:∎)) 2\n",
      "a <- (∎:∎(:∎)(:∎)∎∎∎∎(:∎)) 2\n",
      "b <- (∎:∎(:∎)(:∎)∎∎∎(:∎)∎) 2\n",
      "c <- (∎:∎(:∎)(:∎)∎∎∎(:∎)(:∎)) 2\n",
      "d <- (∎:∎(:∎)(:∎)∎∎(:∎)∎∎) 2\n",
      "e <- (∎:∎(:∎)(:∎)∎∎(:∎)∎(:∎)) 2\n",
      "f <- (∎:∎(:∎)(:∎)∎∎(:∎)(:∎)∎) 2\n",
      "g <- (∎:∎(:∎)(:∎)∎∎(:∎)(:∎)(:∎)) 2\n",
      "h <- (∎:∎(:∎)(:∎)∎(:∎)∎∎∎) 2\n",
      "i <- (∎:∎(:∎)(:∎)∎(:∎)∎∎(:∎)) 2\n",
      "j <- (∎:∎(:∎)(:∎)∎(:∎)∎(:∎)∎) 2\n",
      "k <- (∎:∎(:∎)(:∎)∎(:∎)∎(:∎)(:∎)) 2\n",
      "l <- (∎:∎(:∎)(:∎)∎(:∎)(:∎)∎∎) 2\n",
      "m <- (∎:∎(:∎)(:∎)∎(:∎)(:∎)∎(:∎)) 2\n",
      "n <- (∎:∎(:∎)(:∎)∎(:∎)(:∎)(:∎)∎) 2\n",
      "o <- (∎:∎(:∎)(:∎)∎(:∎)(:∎)(:∎)(:∎)) 2\n",
      "p <- (∎:∎(:∎)(:∎)(:∎)∎∎∎∎) 2\n",
      "q <- (∎:∎(:∎)(:∎)(:∎)∎∎∎(:∎)) 2\n",
      "r <- (∎:∎(:∎)(:∎)(:∎)∎∎(:∎)∎) 2\n",
      "s <- (∎:∎(:∎)(:∎)(:∎)∎∎(:∎)(:∎)) 2\n",
      "t <- (∎:∎(:∎)(:∎)(:∎)∎(:∎)∎∎) 2\n",
      "u <- (∎:∎(:∎)(:∎)(:∎)∎(:∎)∎(:∎)) 2\n",
      "v <- (∎:∎(:∎)(:∎)(:∎)∎(:∎)(:∎)∎) 2\n",
      "w <- (∎:∎(:∎)(:∎)(:∎)∎(:∎)(:∎)(:∎)) 2\n",
      "x <- (∎:∎(:∎)(:∎)(:∎)(:∎)∎∎∎) 2\n",
      "y <- (∎:∎(:∎)(:∎)(:∎)(:∎)∎∎(:∎)) 2\n",
      "z <- (∎:∎(:∎)(:∎)(:∎)(:∎)∎(:∎)∎) 2\n",
      "A <- (∎:∎(:∎)∎∎∎∎∎(:∎)) 2\n",
      "B <- (∎:∎(:∎)∎∎∎∎(:∎)∎) 2\n",
      "C <- (∎:∎(:∎)∎∎∎∎(:∎)(:∎)) 2\n",
      "D <- (∎:∎(:∎)∎∎∎(:∎)∎∎) 2\n",
      "E <- (∎:∎(:∎)∎∎∎(:∎)∎(:∎)) 2\n",
      "F <- (∎:∎(:∎)∎∎∎(:∎)(:∎)∎) 2\n",
      "G <- (∎:∎(:∎)∎∎∎(:∎)(:∎)(:∎)) 2\n",
      "H <- (∎:∎(:∎)∎∎(:∎)∎∎∎) 2\n",
      "I <- (∎:∎(:∎)∎∎(:∎)∎∎(:∎)) 2\n",
      "J <- (∎:∎(:∎)∎∎(:∎)∎(:∎)∎) 2\n",
      "K <- (∎:∎(:∎)∎∎(:∎)∎(:∎)(:∎)) 2\n",
      "L <- (∎:∎(:∎)∎∎(:∎)(:∎)∎∎) 2\n",
      "M <- (∎:∎(:∎)∎∎(:∎)(:∎)∎(:∎)) 2\n",
      "N <- (∎:∎(:∎)∎∎(:∎)(:∎)(:∎)∎) 2\n",
      "O <- (∎:∎(:∎)∎∎(:∎)(:∎)(:∎)(:∎)) 2\n",
      "P <- (∎:∎(:∎)∎(:∎)∎∎∎∎) 2\n",
      "Q <- (∎:∎(:∎)∎(:∎)∎∎∎(:∎)) 2\n",
      "R <- (∎:∎(:∎)∎(:∎)∎∎(:∎)∎) 2\n",
      "S <- (∎:∎(:∎)∎(:∎)∎∎(:∎)(:∎)) 2\n",
      "T <- (∎:∎(:∎)∎(:∎)∎(:∎)∎∎) 2\n",
      "U <- (∎:∎(:∎)∎(:∎)∎(:∎)∎(:∎)) 2\n",
      "V <- (∎:∎(:∎)∎(:∎)∎(:∎)(:∎)∎) 2\n",
      "W <- (∎:∎(:∎)∎(:∎)∎(:∎)(:∎)(:∎)) 2\n",
      "X <- (∎:∎(:∎)∎(:∎)(:∎)∎∎∎) 2\n",
      "Y <- (∎:∎(:∎)∎(:∎)(:∎)∎∎(:∎)) 2\n",
      "Z <- (∎:∎(:∎)∎(:∎)(:∎)∎(:∎)∎) 2\n",
      "! <- (∎:∎∎(:∎)∎∎∎∎(:∎)) 2\n",
      "\" <- (∎:∎∎(:∎)∎∎∎(:∎)∎) 2\n",
      "# <- (∎:∎∎(:∎)∎∎∎(:∎)(:∎)) 2\n",
      "$ <- (∎:∎∎(:∎)∎∎(:∎)∎∎) 2\n",
      "% <- (∎:∎∎(:∎)∎∎(:∎)∎(:∎)) 2\n",
      "& <- (∎:∎∎(:∎)∎∎(:∎)(:∎)∎) 2\n",
      "' <- (∎:∎∎(:∎)∎∎(:∎)(:∎)(:∎)) 2\n",
      "( <- (∎:∎∎(:∎)∎(:∎)∎∎∎) 2\n",
      ") <- (∎:∎∎(:∎)∎(:∎)∎∎(:∎)) 2\n",
      "* <- (∎:∎∎(:∎)∎(:∎)∎(:∎)∎) 2\n",
      "+ <- (∎:∎∎(:∎)∎(:∎)∎(:∎)(:∎)) 2\n",
      ", <- (∎:∎∎(:∎)∎(:∎)(:∎)∎∎) 2\n",
      "- <- (∎:∎∎(:∎)∎(:∎)(:∎)∎(:∎)) 2\n",
      ". <- (∎:∎∎(:∎)∎(:∎)(:∎)(:∎)∎) 2\n",
      "/ <- (∎:∎∎(:∎)∎(:∎)(:∎)(:∎)(:∎)) 2\n",
      ": <- (∎:∎∎(:∎)(:∎)(:∎)∎(:∎)∎) 2\n",
      "; <- (∎:∎∎(:∎)(:∎)(:∎)∎(:∎)(:∎)) 2\n",
      "< <- (∎:∎∎(:∎)(:∎)(:∎)(:∎)∎∎) 2\n",
      "= <- (∎:∎∎(:∎)(:∎)(:∎)(:∎)∎(:∎)) 2\n",
      "> <- (∎:∎∎(:∎)(:∎)(:∎)(:∎)(:∎)∎) 2\n",
      "? <- (∎:∎∎(:∎)(:∎)(:∎)(:∎)(:∎)(:∎)) 2\n",
      "@ <- (∎:∎(:∎)∎∎∎∎∎∎) 2\n",
      "[ <- (∎:∎(:∎)∎(:∎)(:∎)∎(:∎)(:∎)) 2\n",
      "\\ <- (∎:∎(:∎)∎(:∎)(:∎)(:∎)∎∎) 2\n",
      "] <- (∎:∎(:∎)∎(:∎)(:∎)(:∎)∎(:∎)) 2\n",
      "^ <- (∎:∎(:∎)∎(:∎)(:∎)(:∎)(:∎)∎) 2\n",
      "_ <- (∎:∎(:∎)∎(:∎)(:∎)(:∎)(:∎)(:∎)) 2\n",
      "` <- (∎:∎(:∎)(:∎)∎∎∎∎∎) 2\n",
      "{ <- (∎:∎(:∎)(:∎)(:∎)(:∎)∎(:∎)(:∎)) 2\n",
      "| <- (∎:∎(:∎)(:∎)(:∎)(:∎)(:∎)∎∎) 2\n",
      "} <- (∎:∎(:∎)(:∎)(:∎)(:∎)(:∎)∎(:∎)) 2\n",
      "~ <- (∎:∎(:∎)(:∎)(:∎)(:∎)(:∎)(:∎)∎) 2\n",
      "  <- (∎:∎∎(:∎)∎∎∎∎∎) 2\n",
      "\t <- (∎:∎∎∎∎(:∎)∎∎(:∎)) 2\n",
      "\n",
      " <- (∎:∎∎∎∎(:∎)∎(:∎)∎) 2\n",
      " <- (∎:∎∎∎∎(:∎)(:∎)∎(:∎)) 2\n",
      "\u000b",
      " <- (∎:∎∎∎∎(:∎)∎(:∎)(:∎)) 2\n",
      "\f",
      " <- (∎:∎∎∎∎(:∎)(:∎)∎∎) 2\n"
     ]
    }
   ],
   "source": [
    "#\n",
    "#   The CODE dictionary in the Code module contains a standard coda<->unicode correspondence.  This is only \n",
    "#   used for display purposes.\n",
    "#\n",
    "import Code\n",
    "for key,value in Code.Unicode.items(): print(value,'<-',key.str_atom(u'\\u220E'),key.depth())"
   ]
  },
  {
   "cell_type": "code",
   "execution_count": null,
   "id": "115bd0b9-e20e-4318-b100-396c6bcb8fe8",
   "metadata": {},
   "outputs": [],
   "source": []
  },
  {
   "cell_type": "code",
   "execution_count": null,
   "id": "e51d71e5-36ff-4c49-b120-ec7ab404859c",
   "metadata": {},
   "outputs": [],
   "source": []
  }
 ],
 "metadata": {
  "kernelspec": {
   "display_name": "Python 3 (ipykernel)",
   "language": "python",
   "name": "python3"
  },
  "language_info": {
   "codemirror_mode": {
    "name": "ipython",
    "version": 3
   },
   "file_extension": ".py",
   "mimetype": "text/x-python",
   "name": "python",
   "nbconvert_exporter": "python",
   "pygments_lexer": "ipython3",
   "version": "3.10.7"
  }
 },
 "nbformat": 4,
 "nbformat_minor": 5
}
