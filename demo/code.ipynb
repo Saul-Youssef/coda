{
 "cells": [
  {
   "cell_type": "markdown",
   "id": "c97d7547-d62d-419b-899f-4c25b1728edb",
   "metadata": {},
   "source": [
    "## Code and Unicode\n",
    "\n",
    "These are basic demos showing bits, bytes, and unicode text in the system.\n",
    "\n",
    "Data is a finite sequence of codas and a coda is a pair of data.  This means that everything is constructed from empty sequences.  This includes bits, bytes and and strings of bytes.  "
   ]
  },
  {
   "cell_type": "code",
   "execution_count": 6,
   "id": "49b96420-fca7-4473-b00e-ee190b291d59",
   "metadata": {
    "tags": []
   },
   "outputs": [],
   "source": [
    "from base import * \n",
    "import string\n",
    "import Code "
   ]
  },
  {
   "cell_type": "code",
   "execution_count": 7,
   "id": "11f2f92d-d6f6-494c-b598-d8f2fcaef196",
   "metadata": {},
   "outputs": [
    {
     "data": {
      "text/plain": [
       "'0123456789abcdefghijklmnopqrstuvwxyzABCDEFGHIJKLMNOPQRSTUVWXYZ!\"#$%&\\'()*+,-./:;<=>?@[\\\\]^_`{|}~ \\t\\n\\r\\x0b\\x0c'"
      ]
     },
     "execution_count": 7,
     "metadata": {},
     "output_type": "execute_result"
    }
   ],
   "source": [
    "string.printable  # python printables have equivalent codas"
   ]
  },
  {
   "cell_type": "markdown",
   "id": "b99a04f7-63cb-4805-bb22-e812ce8af056",
   "metadata": {},
   "source": [
    "Bits are made from pure data as follows."
   ]
  },
  {
   "cell_type": "code",
   "execution_count": 8,
   "id": "78574325-30b2-46d0-b5a4-cb4fcb4d8e80",
   "metadata": {},
   "outputs": [
    {
     "name": "stdout",
     "output_type": "stream",
     "text": [
      "𝟬 (:) <class 'base.coda'>\n",
      "𝟭 (:(:)) <class 'base.coda'>\n"
     ]
    }
   ],
   "source": [
    "z = data()\n",
    "bit0 = z|z\n",
    "bit1 = z|data(z|z)\n",
    "print(bit0,repr(bit0),type(bit0))\n",
    "print(bit1,repr(bit1),type(bit1))"
   ]
  },
  {
   "cell_type": "markdown",
   "id": "401b69ed-d30e-439e-bf2b-e5b8067debc0",
   "metadata": {},
   "source": [
    "The general setup is that the Code module contains mappings between some codas and unicode strings.  This is used for display purposes only.  To create text data in python, one normally uses the functions `co` (to make a coda) or `da` (to make data)."
   ]
  },
  {
   "cell_type": "code",
   "execution_count": 9,
   "id": "8fbd2369-c260-4a33-9cd8-0b403699841d",
   "metadata": {},
   "outputs": [
    {
     "name": "stdout",
     "output_type": "stream",
     "text": [
      "(:Hello World (:𝟭𝟭𝟭𝟬𝟭𝟬𝟬𝟬𝟬𝟬)) <class 'base.coda'>\n",
      "(:Hello World (:𝟭𝟭𝟭𝟬𝟭𝟬𝟭𝟬𝟬𝟭)) <class 'base.data'>\n"
     ]
    }
   ],
   "source": [
    "cotext = co('Hello World \\u03A0')\n",
    "datext = da('Hello World \\u03A9') \n",
    "print(cotext,type(cotext))\n",
    "print(datext,type(datext))"
   ]
  },
  {
   "cell_type": "markdown",
   "id": "b494261a-6b9e-476e-90b4-a1dcd7a1559b",
   "metadata": {},
   "source": [
    "You might be wondering about the colon in (:Hello...).  The point of this is that this is a coda with left data equal to the empty sequence.  The empty sequence has a corresponding definition which is the identity.  The effect of this is to guarantee that the string \"Hello World...\" won't be modified by some other definition.  It is \"atomic\" data.  Bits, bytes and strings are created as atoms by `co` and `da`.  If you want, you can get at the components as follows."
   ]
  },
  {
   "cell_type": "code",
   "execution_count": 10,
   "id": "66ff5ff7-fdf5-4370-aa34-813fbb02a2fa",
   "metadata": {},
   "outputs": [
    {
     "name": "stdout",
     "output_type": "stream",
     "text": [
      "H (:(:)(:(:))(:)(:)(:(:))(:)(:)(:))\n",
      "e (:(:)(:(:))(:(:))(:)(:)(:(:))(:)(:(:)))\n",
      "l (:(:)(:(:))(:(:))(:)(:(:))(:(:))(:)(:))\n",
      "l (:(:)(:(:))(:(:))(:)(:(:))(:(:))(:)(:))\n",
      "o (:(:)(:(:))(:(:))(:)(:(:))(:(:))(:(:))(:(:)))\n",
      "  (:(:)(:)(:(:))(:)(:)(:)(:)(:))\n",
      "W (:(:)(:(:))(:)(:(:))(:)(:(:))(:(:))(:(:)))\n",
      "o (:(:)(:(:))(:(:))(:)(:(:))(:(:))(:(:))(:(:)))\n",
      "r (:(:)(:(:))(:(:))(:(:))(:)(:)(:(:))(:))\n",
      "l (:(:)(:(:))(:(:))(:)(:(:))(:(:))(:)(:))\n",
      "d (:(:)(:(:))(:(:))(:)(:)(:(:))(:)(:))\n",
      "  (:(:)(:)(:(:))(:)(:)(:)(:)(:))\n",
      "(:𝟭𝟭𝟭𝟬𝟭𝟬𝟬𝟬𝟬𝟬) (:(:(:))(:(:))(:(:))(:)(:(:))(:)(:)(:)(:)(:))\n"
     ]
    }
   ],
   "source": [
    "for c in cotext.right(): print(c,repr(c))"
   ]
  },
  {
   "cell_type": "code",
   "execution_count": 11,
   "id": "847d6fb0-ecad-4832-9cf6-3594100595b7",
   "metadata": {},
   "outputs": [
    {
     "data": {
      "text/plain": [
       "'Hello World (:𝟭𝟭𝟭𝟬𝟭𝟬𝟬𝟬𝟬𝟬)'"
      ]
     },
     "execution_count": 11,
     "metadata": {},
     "output_type": "execute_result"
    }
   ],
   "source": [
    "Code.coda2str(cotext)"
   ]
  },
  {
   "cell_type": "code",
   "execution_count": 12,
   "id": "f3a04d76-928c-49bf-afcb-7e6e4a604b8d",
   "metadata": {},
   "outputs": [
    {
     "name": "stdout",
     "output_type": "stream",
     "text": [
      "𝟬 (:)\n",
      "𝟭 (:(:))\n",
      "𝟬 (:)\n",
      "𝟬 (:)\n",
      "𝟭 (:(:))\n",
      "𝟬 (:)\n",
      "𝟬 (:)\n",
      "𝟬 (:)\n"
     ]
    }
   ],
   "source": [
    "H = cotext.right()[0]\n",
    "for b in H.right(): print(b,repr(b))"
   ]
  },
  {
   "cell_type": "code",
   "execution_count": 13,
   "id": "5aea502c-6098-43a4-ad01-553f6dffa75c",
   "metadata": {},
   "outputs": [
    {
     "name": "stdout",
     "output_type": "stream",
     "text": [
      "𝟬 (:)\n"
     ]
    }
   ],
   "source": [
    "b = H.right()[0]\n",
    "print(b,repr(b))"
   ]
  },
  {
   "cell_type": "code",
   "execution_count": 14,
   "id": "6cebbaf4-52ef-40f2-97ba-8ede678738ee",
   "metadata": {},
   "outputs": [
    {
     "name": "stdout",
     "output_type": "stream",
     "text": [
      "a a Ω (:𝟭𝟭𝟭𝟬𝟭𝟬𝟭𝟬𝟬𝟭)\n"
     ]
    }
   ],
   "source": [
    "#\n",
    "#   You can also create individual bytes in the unlikely event this is necessary  \n",
    "#\n",
    "print('a',Code.byte('a'),'\\u03A9',Code.byte('\\u03A9'))"
   ]
  },
  {
   "cell_type": "code",
   "execution_count": 15,
   "id": "b976cefa-f3fd-4e7c-a709-a7c15d7f05d1",
   "metadata": {
    "tags": []
   },
   "outputs": [
    {
     "name": "stdout",
     "output_type": "stream",
     "text": [
      "𝟬 <- (:)\n",
      "𝟭 <- (:(:))\n",
      "0 <- (:(:)(:)(:(:))(:(:))(:)(:)(:)(:))\n",
      "1 <- (:(:)(:)(:(:))(:(:))(:)(:)(:)(:(:)))\n",
      "2 <- (:(:)(:)(:(:))(:(:))(:)(:)(:(:))(:))\n",
      "3 <- (:(:)(:)(:(:))(:(:))(:)(:)(:(:))(:(:)))\n",
      "4 <- (:(:)(:)(:(:))(:(:))(:)(:(:))(:)(:))\n",
      "5 <- (:(:)(:)(:(:))(:(:))(:)(:(:))(:)(:(:)))\n",
      "6 <- (:(:)(:)(:(:))(:(:))(:)(:(:))(:(:))(:))\n",
      "7 <- (:(:)(:)(:(:))(:(:))(:)(:(:))(:(:))(:(:)))\n",
      "8 <- (:(:)(:)(:(:))(:(:))(:(:))(:)(:)(:))\n",
      "9 <- (:(:)(:)(:(:))(:(:))(:(:))(:)(:)(:(:)))\n",
      "a <- (:(:)(:(:))(:(:))(:)(:)(:)(:)(:(:)))\n",
      "b <- (:(:)(:(:))(:(:))(:)(:)(:)(:(:))(:))\n",
      "c <- (:(:)(:(:))(:(:))(:)(:)(:)(:(:))(:(:)))\n",
      "d <- (:(:)(:(:))(:(:))(:)(:)(:(:))(:)(:))\n",
      "e <- (:(:)(:(:))(:(:))(:)(:)(:(:))(:)(:(:)))\n",
      "f <- (:(:)(:(:))(:(:))(:)(:)(:(:))(:(:))(:))\n",
      "g <- (:(:)(:(:))(:(:))(:)(:)(:(:))(:(:))(:(:)))\n",
      "h <- (:(:)(:(:))(:(:))(:)(:(:))(:)(:)(:))\n",
      "i <- (:(:)(:(:))(:(:))(:)(:(:))(:)(:)(:(:)))\n",
      "j <- (:(:)(:(:))(:(:))(:)(:(:))(:)(:(:))(:))\n",
      "k <- (:(:)(:(:))(:(:))(:)(:(:))(:)(:(:))(:(:)))\n",
      "l <- (:(:)(:(:))(:(:))(:)(:(:))(:(:))(:)(:))\n",
      "m <- (:(:)(:(:))(:(:))(:)(:(:))(:(:))(:)(:(:)))\n",
      "n <- (:(:)(:(:))(:(:))(:)(:(:))(:(:))(:(:))(:))\n",
      "o <- (:(:)(:(:))(:(:))(:)(:(:))(:(:))(:(:))(:(:)))\n",
      "p <- (:(:)(:(:))(:(:))(:(:))(:)(:)(:)(:))\n",
      "q <- (:(:)(:(:))(:(:))(:(:))(:)(:)(:)(:(:)))\n",
      "r <- (:(:)(:(:))(:(:))(:(:))(:)(:)(:(:))(:))\n",
      "s <- (:(:)(:(:))(:(:))(:(:))(:)(:)(:(:))(:(:)))\n",
      "t <- (:(:)(:(:))(:(:))(:(:))(:)(:(:))(:)(:))\n",
      "u <- (:(:)(:(:))(:(:))(:(:))(:)(:(:))(:)(:(:)))\n",
      "v <- (:(:)(:(:))(:(:))(:(:))(:)(:(:))(:(:))(:))\n",
      "w <- (:(:)(:(:))(:(:))(:(:))(:)(:(:))(:(:))(:(:)))\n",
      "x <- (:(:)(:(:))(:(:))(:(:))(:(:))(:)(:)(:))\n",
      "y <- (:(:)(:(:))(:(:))(:(:))(:(:))(:)(:)(:(:)))\n",
      "z <- (:(:)(:(:))(:(:))(:(:))(:(:))(:)(:(:))(:))\n",
      "A <- (:(:)(:(:))(:)(:)(:)(:)(:)(:(:)))\n",
      "B <- (:(:)(:(:))(:)(:)(:)(:)(:(:))(:))\n",
      "C <- (:(:)(:(:))(:)(:)(:)(:)(:(:))(:(:)))\n",
      "D <- (:(:)(:(:))(:)(:)(:)(:(:))(:)(:))\n",
      "E <- (:(:)(:(:))(:)(:)(:)(:(:))(:)(:(:)))\n",
      "F <- (:(:)(:(:))(:)(:)(:)(:(:))(:(:))(:))\n",
      "G <- (:(:)(:(:))(:)(:)(:)(:(:))(:(:))(:(:)))\n",
      "H <- (:(:)(:(:))(:)(:)(:(:))(:)(:)(:))\n",
      "I <- (:(:)(:(:))(:)(:)(:(:))(:)(:)(:(:)))\n",
      "J <- (:(:)(:(:))(:)(:)(:(:))(:)(:(:))(:))\n",
      "K <- (:(:)(:(:))(:)(:)(:(:))(:)(:(:))(:(:)))\n",
      "L <- (:(:)(:(:))(:)(:)(:(:))(:(:))(:)(:))\n",
      "M <- (:(:)(:(:))(:)(:)(:(:))(:(:))(:)(:(:)))\n",
      "N <- (:(:)(:(:))(:)(:)(:(:))(:(:))(:(:))(:))\n",
      "O <- (:(:)(:(:))(:)(:)(:(:))(:(:))(:(:))(:(:)))\n",
      "P <- (:(:)(:(:))(:)(:(:))(:)(:)(:)(:))\n",
      "Q <- (:(:)(:(:))(:)(:(:))(:)(:)(:)(:(:)))\n",
      "R <- (:(:)(:(:))(:)(:(:))(:)(:)(:(:))(:))\n",
      "S <- (:(:)(:(:))(:)(:(:))(:)(:)(:(:))(:(:)))\n",
      "T <- (:(:)(:(:))(:)(:(:))(:)(:(:))(:)(:))\n",
      "U <- (:(:)(:(:))(:)(:(:))(:)(:(:))(:)(:(:)))\n",
      "V <- (:(:)(:(:))(:)(:(:))(:)(:(:))(:(:))(:))\n",
      "W <- (:(:)(:(:))(:)(:(:))(:)(:(:))(:(:))(:(:)))\n",
      "X <- (:(:)(:(:))(:)(:(:))(:(:))(:)(:)(:))\n",
      "Y <- (:(:)(:(:))(:)(:(:))(:(:))(:)(:)(:(:)))\n",
      "Z <- (:(:)(:(:))(:)(:(:))(:(:))(:)(:(:))(:))\n",
      "! <- (:(:)(:)(:(:))(:)(:)(:)(:)(:(:)))\n",
      "\" <- (:(:)(:)(:(:))(:)(:)(:)(:(:))(:))\n",
      "# <- (:(:)(:)(:(:))(:)(:)(:)(:(:))(:(:)))\n",
      "$ <- (:(:)(:)(:(:))(:)(:)(:(:))(:)(:))\n",
      "% <- (:(:)(:)(:(:))(:)(:)(:(:))(:)(:(:)))\n",
      "& <- (:(:)(:)(:(:))(:)(:)(:(:))(:(:))(:))\n",
      "' <- (:(:)(:)(:(:))(:)(:)(:(:))(:(:))(:(:)))\n",
      "( <- (:(:)(:)(:(:))(:)(:(:))(:)(:)(:))\n",
      ") <- (:(:)(:)(:(:))(:)(:(:))(:)(:)(:(:)))\n",
      "* <- (:(:)(:)(:(:))(:)(:(:))(:)(:(:))(:))\n",
      "+ <- (:(:)(:)(:(:))(:)(:(:))(:)(:(:))(:(:)))\n",
      ", <- (:(:)(:)(:(:))(:)(:(:))(:(:))(:)(:))\n",
      "- <- (:(:)(:)(:(:))(:)(:(:))(:(:))(:)(:(:)))\n",
      ". <- (:(:)(:)(:(:))(:)(:(:))(:(:))(:(:))(:))\n",
      "/ <- (:(:)(:)(:(:))(:)(:(:))(:(:))(:(:))(:(:)))\n",
      ": <- (:(:)(:)(:(:))(:(:))(:(:))(:)(:(:))(:))\n",
      "; <- (:(:)(:)(:(:))(:(:))(:(:))(:)(:(:))(:(:)))\n",
      "< <- (:(:)(:)(:(:))(:(:))(:(:))(:(:))(:)(:))\n",
      "= <- (:(:)(:)(:(:))(:(:))(:(:))(:(:))(:)(:(:)))\n",
      "> <- (:(:)(:)(:(:))(:(:))(:(:))(:(:))(:(:))(:))\n",
      "? <- (:(:)(:)(:(:))(:(:))(:(:))(:(:))(:(:))(:(:)))\n",
      "@ <- (:(:)(:(:))(:)(:)(:)(:)(:)(:))\n",
      "[ <- (:(:)(:(:))(:)(:(:))(:(:))(:)(:(:))(:(:)))\n",
      "\\ <- (:(:)(:(:))(:)(:(:))(:(:))(:(:))(:)(:))\n",
      "] <- (:(:)(:(:))(:)(:(:))(:(:))(:(:))(:)(:(:)))\n",
      "^ <- (:(:)(:(:))(:)(:(:))(:(:))(:(:))(:(:))(:))\n",
      "_ <- (:(:)(:(:))(:)(:(:))(:(:))(:(:))(:(:))(:(:)))\n",
      "` <- (:(:)(:(:))(:(:))(:)(:)(:)(:)(:))\n",
      "{ <- (:(:)(:(:))(:(:))(:(:))(:(:))(:)(:(:))(:(:)))\n",
      "| <- (:(:)(:(:))(:(:))(:(:))(:(:))(:(:))(:)(:))\n",
      "} <- (:(:)(:(:))(:(:))(:(:))(:(:))(:(:))(:)(:(:)))\n",
      "~ <- (:(:)(:(:))(:(:))(:(:))(:(:))(:(:))(:(:))(:))\n",
      "  <- (:(:)(:)(:(:))(:)(:)(:)(:)(:))\n",
      "\t <- (:(:)(:)(:)(:)(:(:))(:)(:)(:(:)))\n",
      "\n",
      " <- (:(:)(:)(:)(:)(:(:))(:)(:(:))(:))\n",
      " <- (:(:)(:)(:)(:)(:(:))(:(:))(:)(:(:)))\n",
      "\u000b",
      " <- (:(:)(:)(:)(:)(:(:))(:)(:(:))(:(:)))\n",
      "\f",
      " <- (:(:)(:)(:)(:)(:(:))(:(:))(:)(:))\n"
     ]
    }
   ],
   "source": [
    "#\n",
    "#   The CODE dictionary in the Code module contains a standard coda<->unicode correspondence.  This is only \n",
    "#   used for display purposes.\n",
    "#\n",
    "for key,value in Code.CODE.items(): print(value,'<-',repr(key))"
   ]
  },
  {
   "cell_type": "code",
   "execution_count": null,
   "id": "53972508-67e3-4003-ad0b-a44cb9ff7c76",
   "metadata": {},
   "outputs": [],
   "source": []
  }
 ],
 "metadata": {
  "kernelspec": {
   "display_name": "Python 3 (ipykernel)",
   "language": "python",
   "name": "python3"
  },
  "language_info": {
   "codemirror_mode": {
    "name": "ipython",
    "version": 3
   },
   "file_extension": ".py",
   "mimetype": "text/x-python",
   "name": "python",
   "nbconvert_exporter": "python",
   "pygments_lexer": "ipython3",
   "version": "3.10.7"
  }
 },
 "nbformat": 4,
 "nbformat_minor": 5
}
