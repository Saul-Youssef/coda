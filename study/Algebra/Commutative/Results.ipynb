{
 "cells": [
  {
   "cell_type": "code",
   "execution_count": 1,
   "id": "93e61f28-62f3-4ec9-83eb-63e0a76e44ea",
   "metadata": {},
   "outputs": [
    {
     "name": "stdout",
     "output_type": "stream",
     "text": []
    }
   ],
   "source": [
    "# Let X : in stable : endswith 50 : dir : ."
   ]
  },
  {
   "cell_type": "code",
   "execution_count": 2,
   "id": "f03a61f6-41c9-4295-ab9d-9ba424151045",
   "metadata": {},
   "outputs": [
    {
     "name": "stdout",
     "output_type": "stream",
     "text": [
      "(bin if {pass : B}:0) \n",
      " (bin has const:0) \n",
      " (bin null {B : bin}:0) \n",
      " (bin const {B : plus}:0) \n",
      " (bin has A:0) \n",
      " (bin has {sum : B}:0) \n",
      " (bin {sum : B} a:0) \n"
     ]
    }
   ],
   "source": [
    "# ap post <\\n> : ap {if ((right:B)=0):B} : X?"
   ]
  },
  {
   "cell_type": "code",
   "execution_count": 4,
   "id": "6fa63df5-4f8a-454a-9e5b-e0c3a4384a13",
   "metadata": {},
   "outputs": [
    {
     "name": "stdout",
     "output_type": "stream",
     "text": []
    }
   ],
   "source": [
    "#out Candidates-500 : ap {put :arg:B} : ap {if ((right:B)=0):B} : Y?"
   ]
  },
  {
   "cell_type": "code",
   "execution_count": 1,
   "id": "db3e6f90-fda1-4f25-8b0a-d2854c011665",
   "metadata": {},
   "outputs": [
    {
     "name": "stdout",
     "output_type": "stream",
     "text": []
    }
   ],
   "source": [
    "Let Candidates : in : Candidates-500"
   ]
  },
  {
   "cell_type": "code",
   "execution_count": 3,
   "id": "000a9572-2aa1-457a-ad55-137297ed16d1",
   "metadata": {},
   "outputs": [
    {
     "name": "stdout",
     "output_type": "stream",
     "text": [
      "(:if {pass : B}) (:has const) (:null {B : bin}) (:const {B : plus}) (:has A) (:has {sum : B}) (:{sum : B} a) (:const {right : B}) (:get {get B}) (:const {const B}) (:{is : B} star) (:null {B : pass}) (:const {B sum}) (:{nif : B} null) (:if {0 B}) (:get {B if}) (:const hasnt) (:null {prod B}) (:{sum : B} bin) (:null {B : left}) (:get arg) (:has {B domain}) (:const null) (:{is : B} left) (:{is : B} 0) (:{get : B} put) (:{is : B} if) (:null {plus B}) (:const {B A}) (:null {b B}) (:{get : B} arg) (:get {plus : B}) (:null 0) (:has right) (:get {0 B}) (:{nif : B} prod) (:if {star B}) (:has {get : B}) (:{null : B} get) (:const {pass : B}) (:has {A B}) (:get {B b}) (:has {0 B}) (:{const : B} B) (:{const : B} 1) (:{const : B}) (:put {null : B}) (:const {a B}) (:{null : B} isnt) (:{null : B} hasnt) (:has b) (:const const) (:has {hasnt : B}) (:{has : B} prod) (:const {a : B}) (:get domain) (:{sum : B} B) (:get {B : nif}) (:{get : B} prod) (:if prod) (:has {const B}) (:{is : B} hasnt) (:{sum : B} pass) (:{null : B} pass) (:const left) (:has {B plus})"
     ]
    }
   ],
   "source": [
    "Candidates?"
   ]
  },
  {
   "cell_type": "code",
   "execution_count": 2,
   "id": "e3ef41e4-f0df-4b12-8c4d-fadb0ba9544a",
   "metadata": {},
   "outputs": [
    {
     "name": "stdout",
     "output_type": "stream",
     "text": []
    }
   ],
   "source": [
    "Def Tab : {(count : B) (ap post <\\n>:arg:B)}"
   ]
  },
  {
   "cell_type": "code",
   "execution_count": 4,
   "id": "130cb77c-f83f-452a-b124-38623c2df11d",
   "metadata": {},
   "outputs": [
    {
     "name": "stdout",
     "output_type": "stream",
     "text": []
    }
   ],
   "source": [
    "import : dir co : up : up : ."
   ]
  },
  {
   "cell_type": "code",
   "execution_count": 5,
   "id": "065d47b7-eaaa-49e9-9f91-df9d79adf59a",
   "metadata": {},
   "outputs": [
    {
     "name": "stdout",
     "output_type": "stream",
     "text": [
      "(:a) (:b) (:a b) ◎ (:1) (:2) (:bin) (:(bin a:x)) (:(bin b:y))"
     ]
    }
   ],
   "source": [
    "S6?"
   ]
  },
  {
   "cell_type": "code",
   "execution_count": 8,
   "id": "9181a6e4-7441-447a-9f7f-cb37a24b0713",
   "metadata": {},
   "outputs": [
    {
     "name": "stdout",
     "output_type": "stream",
     "text": []
    }
   ],
   "source": [
    "more 1000 : Let Class-S0 : classify S0? : Candidates?"
   ]
  },
  {
   "cell_type": "code",
   "execution_count": 6,
   "id": "96a90f49-3659-4a2b-9f6d-1904180c989f",
   "metadata": {},
   "outputs": [
    {
     "name": "stdout",
     "output_type": "stream",
     "text": []
    }
   ],
   "source": [
    "more 1000 : Let Class-S6 : classify S6? : Candidates?"
   ]
  },
  {
   "cell_type": "code",
   "execution_count": 7,
   "id": "09a665e0-801d-42ed-ab37-cad8c8e84f16",
   "metadata": {
    "tags": []
   },
   "outputs": [
    {
     "name": "stdout",
     "output_type": "stream",
     "text": [
      "(count:(Class-S0:)) (ap post \n",
      ":(arg:(Class-S0:)))"
     ]
    }
   ],
   "source": [
    "Tab : Class-S0?"
   ]
  },
  {
   "cell_type": "code",
   "execution_count": 8,
   "id": "faa80ee7-139b-4f27-a846-a1d61a5bc979",
   "metadata": {
    "tags": []
   },
   "outputs": [
    {
     "name": "stdout",
     "output_type": "stream",
     "text": [
      "13 54 \n",
      " 1 \n",
      " 1 \n",
      " 1 \n",
      " 1 \n",
      " 1 \n",
      " 1 \n",
      " 1 \n",
      " 1 \n",
      " 1 \n",
      " 1 \n",
      " 1 \n",
      " 1 \n"
     ]
    }
   ],
   "source": [
    "Tab : Class-S6?"
   ]
  },
  {
   "cell_type": "code",
   "execution_count": null,
   "id": "2e6c3ad2-f385-456c-8134-92acfc3064bc",
   "metadata": {},
   "outputs": [],
   "source": [
    "more 1000 : Let Class-T2 : classify T2? : Candidates?"
   ]
  },
  {
   "cell_type": "code",
   "execution_count": null,
   "id": "d073093d-9d7b-4021-99d7-d32d75b21951",
   "metadata": {},
   "outputs": [],
   "source": [
    "Tab : Class-T2?"
   ]
  },
  {
   "cell_type": "code",
   "execution_count": null,
   "id": "66e01324-31bd-4ae1-8371-0043a6c2578b",
   "metadata": {},
   "outputs": [],
   "source": []
  }
 ],
 "metadata": {
  "kernelspec": {
   "display_name": "coda",
   "language": "",
   "name": "coda"
  },
  "language_info": {
   "file_extension": ".co",
   "mimetype": "text/plain",
   "name": "Any text"
  }
 },
 "nbformat": 4,
 "nbformat_minor": 5
}
