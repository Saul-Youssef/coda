{
 "cells": [
  {
   "cell_type": "code",
   "execution_count": 1,
   "id": "08b303d9-286d-4694-97ff-3d4e50daf5aa",
   "metadata": {},
   "outputs": [
    {
     "name": "stdout",
     "output_type": "stream",
     "text": [
      "\u001b[;1mcode:\u001b[0m\n",
      "    \u001b[34;7mring\u001b[0m\n",
      "\u001b[;1mmodule:\u001b[0m\n",
      "    Application\n",
      "\u001b[;1msummary:\u001b[0m\n",
      "    Ring is ap ap2.\n",
      "\u001b[;1mdescription:\u001b[0m\n",
      "\u001b[;1mpath:\u001b[0m\n",
      "    /Users/youssef/coda/co/Application.co\n",
      "\u001b[;1msource code:\u001b[0m\n",
      "    def ring : ap ap2\n",
      "\u001b[;1mdemos:\u001b[0m\n",
      "    1. \u001b[35;4mring bin 1 2 3 : a b c\u001b[0m\n"
     ]
    }
   ],
   "source": [
    "help : ring"
   ]
  },
  {
   "cell_type": "code",
   "execution_count": 2,
   "id": "2244b8f5-8de1-4fdd-a2e6-36c84e432ca8",
   "metadata": {},
   "outputs": [
    {
     "name": "stdout",
     "output_type": "stream",
     "text": [
      "(a b:1) (a c:1) (a b:2) (a c:2) (a b:3) (a c:3)"
     ]
    }
   ],
   "source": [
    "ring a b c : 1 2 3 "
   ]
  },
  {
   "cell_type": "code",
   "execution_count": 3,
   "id": "0dfa1422-e7e8-4eff-8cc8-078aa67c28f7",
   "metadata": {},
   "outputs": [
    {
     "name": "stdout",
     "output_type": "stream",
     "text": [
      "(bin 1:a) (bin 2:a) (bin 3:a) (bin 1:b) (bin 2:b) (bin 3:b) (bin 1:c) (bin 2:c) (bin 3:c)"
     ]
    }
   ],
   "source": [
    "ring bin 1 2 3 : a b c "
   ]
  },
  {
   "cell_type": "code",
   "execution_count": 4,
   "id": "35e12c51-dc1c-414a-a152-5a96306b4d15",
   "metadata": {},
   "outputs": [
    {
     "name": "stdout",
     "output_type": "stream",
     "text": [
      "a b"
     ]
    }
   ],
   "source": [
    "has 1? : a b (bin:x)"
   ]
  },
  {
   "cell_type": "code",
   "execution_count": 5,
   "id": "952e7964-fd00-4ae6-a58f-dfa135b23e20",
   "metadata": {},
   "outputs": [
    {
     "name": "stdout",
     "output_type": "stream",
     "text": [
      "a b a b"
     ]
    }
   ],
   "source": [
    "has 1? : a b a b "
   ]
  },
  {
   "cell_type": "code",
   "execution_count": 6,
   "id": "0002a749-e15f-48bd-9ed0-5c9ba38d25d3",
   "metadata": {},
   "outputs": [
    {
     "name": "stdout",
     "output_type": "stream",
     "text": []
    }
   ],
   "source": [
    "def type : has ((:):(:)) "
   ]
  },
  {
   "cell_type": "code",
   "execution_count": 7,
   "id": "392ab68a-8ac4-4ade-b581-c0b8db8e571c",
   "metadata": {},
   "outputs": [
    {
     "name": "stdout",
     "output_type": "stream",
     "text": []
    }
   ],
   "source": [
    "def stype : is | "
   ]
  },
  {
   "cell_type": "code",
   "execution_count": 8,
   "id": "9e2125b3-7912-4673-ab08-614aaea2c81f",
   "metadata": {},
   "outputs": [
    {
     "name": "stdout",
     "output_type": "stream",
     "text": []
    }
   ],
   "source": [
    "def r:"
   ]
  },
  {
   "cell_type": "code",
   "execution_count": 9,
   "id": "e051a38c-f12e-4941-817a-b2fecb092c16",
   "metadata": {},
   "outputs": [
    {
     "name": "stdout",
     "output_type": "stream",
     "text": []
    }
   ],
   "source": [
    "def new : {put r (is | : A) : has 1? : B} "
   ]
  },
  {
   "cell_type": "code",
   "execution_count": 10,
   "id": "d899e391-b32b-4674-9947-61a79b1e7f50",
   "metadata": {},
   "outputs": [
    {
     "name": "stdout",
     "output_type": "stream",
     "text": [
      "(r | | |:a b c)"
     ]
    }
   ],
   "source": [
    "new | | | : a b c"
   ]
  },
  {
   "cell_type": "code",
   "execution_count": null,
   "id": "79273a1f-a6ed-413f-9848-ae1046222197",
   "metadata": {},
   "outputs": [],
   "source": []
  }
 ],
 "metadata": {
  "kernelspec": {
   "display_name": "coda",
   "language": "",
   "name": "coda"
  },
  "language_info": {
   "file_extension": ".co",
   "mimetype": "text/plain",
   "name": "Any text"
  }
 },
 "nbformat": 4,
 "nbformat_minor": 5
}
