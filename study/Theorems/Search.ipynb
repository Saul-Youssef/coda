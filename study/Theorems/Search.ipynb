{
 "cells": [
  {
   "cell_type": "markdown",
   "id": "b3e3e30e-fc92-4e1f-a2ae-70ae2c2b4f61",
   "metadata": {},
   "source": [
    "## Search for theorems"
   ]
  },
  {
   "cell_type": "code",
   "execution_count": 1,
   "id": "f5ff9adf-1fed-4d6b-99cf-d40f22fd4865",
   "metadata": {},
   "outputs": [],
   "source": [
    "from base import * \n",
    "from Set import Set,eval100\n",
    "from Compile import compile \n",
    "from Theorem import theorem \n",
    "import Sample,Evaluate\n",
    "\n",
    "DOMAIN = Sample.Domain(*Sample.codas)\n",
    "TINY = Set(*[data(c) for c in Sample.codas])\n",
    "S21 = Set(*DOMAIN.window(2,1))\n",
    "S31 = Set(*DOMAIN.window(3,1))\n",
    "PURE = Sample.pure(2,2)\n",
    "#S41 = Set.Set(*DOMAIN.window(4,1))\n",
    "#\n",
    "#     The evaluation depth is controlled by these \n",
    "#\n",
    "#e10   = Set.eval10\n",
    "e100  = eval100  \n",
    "#e1000 = Set.eval1000  "
   ]
  },
  {
   "cell_type": "code",
   "execution_count": 2,
   "id": "4e5a2c6c-15ed-4537-b9a6-fb19bbace510",
   "metadata": {},
   "outputs": [
    {
     "name": "stdout",
     "output_type": "stream",
     "text": [
      "imply (?:W) ◎\n",
      "xor int_max get1\n",
      "tail 𝝞 rev\n",
      "replace rreplace ap\n",
      "apby ap2 xnor\n",
      "nand with b\n",
      "sel1 app has1\n",
      "1 and app\n",
      "(?:Y) apif int_mult\n",
      "null 2 right1\n"
     ]
    }
   ],
   "source": [
    "#\n",
    "#   Search for theorems from within S31 \n",
    "#\n",
    "for d in S31.sample(10): print(d)"
   ]
  },
  {
   "cell_type": "code",
   "execution_count": 3,
   "id": "4bb46c05-8117-48bb-9800-bb9c321bb0bb",
   "metadata": {},
   "outputs": [
    {
     "name": "stdout",
     "output_type": "stream",
     "text": [
      "\n",
      "◎\n",
      "◎ ◎\n"
     ]
    }
   ],
   "source": [
    "#\n",
    "#   Start with a base of a few atoms to filter \n",
    "#\n",
    "for a in Sample.Atoms(2): print(a)"
   ]
  },
  {
   "cell_type": "code",
   "execution_count": null,
   "id": "f13f83ee-6bdb-4d7a-bba0-ce9e4508f4c1",
   "metadata": {},
   "outputs": [],
   "source": [
    "S = S31.theorem(Sample.Atoms(2)).multieval(e100)"
   ]
  },
  {
   "cell_type": "code",
   "execution_count": 7,
   "id": "d94469e5-00f0-4638-bc0b-66266d5af0e6",
   "metadata": {},
   "outputs": [
    {
     "name": "stdout",
     "output_type": "stream",
     "text": [
      "\n"
     ]
    }
   ],
   "source": []
  },
  {
   "cell_type": "code",
   "execution_count": null,
   "id": "6c7b06c7-8204-47e9-9b2b-549cdcb6ad79",
   "metadata": {},
   "outputs": [],
   "source": []
  }
 ],
 "metadata": {
  "kernelspec": {
   "display_name": "Python 3 (ipykernel)",
   "language": "python",
   "name": "python3"
  },
  "language_info": {
   "codemirror_mode": {
    "name": "ipython",
    "version": 3
   },
   "file_extension": ".py",
   "mimetype": "text/x-python",
   "name": "python",
   "nbconvert_exporter": "python",
   "pygments_lexer": "ipython3",
   "version": "3.10.7"
  }
 },
 "nbformat": 4,
 "nbformat_minor": 5
}
