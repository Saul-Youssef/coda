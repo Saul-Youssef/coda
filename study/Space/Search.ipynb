{
 "cells": [
  {
   "cell_type": "markdown",
   "id": "f222d34e-b9ee-4455-83f6-11115c259143",
   "metadata": {},
   "source": [
    "Data A is a **space** if \n",
    "\n",
    "1. A X : Y Z = A : (A X:Y) (A X:Z) and \n",
    "2. A X Y : Z = A X: A Y: Z \n",
    "\n",
    "for all data X,Y,Z.\n",
    "\n",
    "As an example, let's consider the pure space of natural numbers defined by \n",
    "\n",
    "..."
   ]
  },
  {
   "cell_type": "code",
   "execution_count": 1,
   "id": "719cf407-1548-4919-9755-08fe5d4bc853",
   "metadata": {
    "tags": []
   },
   "outputs": [
    {
     "name": "stdout",
     "output_type": "stream",
     "text": [
      "(use1:(def theorem:{ap {if (not:right:B):B} : eval : cases A : B}))"
     ]
    }
   ],
   "source": [
    "import : endswith Search.co : dir co : .  "
   ]
  },
  {
   "cell_type": "code",
   "execution_count": 2,
   "id": "b63a84ed-219c-4075-bcff-c02d59b2fbbb",
   "metadata": {},
   "outputs": [
    {
     "name": "stdout",
     "output_type": "stream",
     "text": []
    }
   ],
   "source": [
    "#IDEMP1 S1? : pass rev box bin is {first 3:B} isnt collect \n",
    "#IDEMP1 S1? S2? : pass rev is isnt {first 3:B} collect \n",
    "#IDEMP1 S3? : pass is isnt collect "
   ]
  },
  {
   "cell_type": "code",
   "execution_count": 3,
   "id": "ba53ac05-db90-40b7-9579-ad02a7e869d3",
   "metadata": {},
   "outputs": [
    {
     "name": "stdout",
     "output_type": "stream",
     "text": []
    }
   ],
   "source": [
    "#IDEMP2 S1? : pass is isnt collect "
   ]
  },
  {
   "cell_type": "code",
   "execution_count": 4,
   "id": "bc006b9e-a543-416c-857e-c6b060ebecd9",
   "metadata": {},
   "outputs": [
    {
     "name": "stdout",
     "output_type": "stream",
     "text": []
    }
   ],
   "source": [
    "# IDEMP2 S2? : pass is isnt collect "
   ]
  },
  {
   "cell_type": "code",
   "execution_count": 5,
   "id": "91043813-0df2-4fba-99c2-7ab698bf7b74",
   "metadata": {},
   "outputs": [
    {
     "name": "stdout",
     "output_type": "stream",
     "text": []
    }
   ],
   "source": [
    "theorem (x?=(rev:x?)) : S1?"
   ]
  },
  {
   "cell_type": "code",
   "execution_count": 6,
   "id": "5e88281d-99d8-48b5-9ee2-fbc80e6f10c9",
   "metadata": {},
   "outputs": [
    {
     "name": "stdout",
     "output_type": "stream",
     "text": [
      "(with (def x:{A} a b):◎ ◎ ◎ ◎) (with (def x:{A} x y):◎ ◎)"
     ]
    }
   ],
   "source": [
    "theorem (x?=(rev:x?)) : (:a a) (:a b) (:b b) (:x y)"
   ]
  },
  {
   "cell_type": "code",
   "execution_count": 7,
   "id": "c3bd5888-70ff-4dae-9bcf-6b9ed03d0213",
   "metadata": {},
   "outputs": [
    {
     "name": "stdout",
     "output_type": "stream",
     "text": []
    }
   ],
   "source": [
    "Let X : except (x?=(rev:x?)) : S2?"
   ]
  },
  {
   "cell_type": "code",
   "execution_count": 8,
   "id": "d92ba109-da3f-4a22-9abe-47508ece4cd2",
   "metadata": {},
   "outputs": [
    {
     "name": "stdout",
     "output_type": "stream",
     "text": [
      "(with (def x:{A} ◎ ◎ ◎ ◎):◎)"
     ]
    }
   ],
   "source": [
    "theorem (nth 4:x?) : S1?"
   ]
  },
  {
   "cell_type": "code",
   "execution_count": 9,
   "id": "3602dbc6-2b51-4cf0-b84e-66b591461101",
   "metadata": {},
   "outputs": [
    {
     "name": "stdout",
     "output_type": "stream",
     "text": []
    }
   ],
   "source": [
    "theorem ((rev:rev:x?)=(x?)) : S1?"
   ]
  },
  {
   "cell_type": "code",
   "execution_count": 10,
   "id": "119f7575-0fef-4362-ba2f-0731f40b9efb",
   "metadata": {},
   "outputs": [
    {
     "name": "stdout",
     "output_type": "stream",
     "text": [
      "(ap {if (not:right:B):B}:(eval1:(with (def x:{A} 0 1 2 3 4 5 6 7 8 9 10 11 12 13 14 15 16 17 18 19 20 21 22 23 24 25 26 27 28 29 30 31 32 33 34 35 36 37 38 39 40 41 42 43 44 45 46 47 48 49 50 51 52 53 54 55 56 57 58 59 60 61 62 63 64 65 66 67 68 69 70 71 72 73 74 75 76 77 78 79 80 81 82 83 84 85 86 87 88 89 90 91 92 93 (nat:94)):(= (rev:(rev:(x:))):(x:)))))"
     ]
    }
   ],
   "source": [
    "theorem ((rev:rev:x?)=(x?)) : S1? (:nat:0)"
   ]
  },
  {
   "cell_type": "code",
   "execution_count": 11,
   "id": "fcd55397-ca37-4162-9a90-92a8ba23ef20",
   "metadata": {},
   "outputs": [
    {
     "name": "stdout",
     "output_type": "stream",
     "text": [
      "(count:(except (= (x:):(rev:(x:))):(:◎ ◎) (:◎ a) (:◎ b) (:◎ 0) (:◎ 1) (:◎ (bin:a)) (:◎ (bin 1 2:a b)) (:◎ (bin a:(bin b:1 2))) (:a ◎) (:a a) (:a b) (:a 0) (:a 1) (:a (bin:a)) (:a (bin 1 2:a b)) (:a (bin a:(bin b:1 2))) (:b ◎) (:b a) (:b b) (:b 0) (:b 1) (:b (bin:a)) (:b (bin 1 2:a b)) (:b (bin a:(bin b:1 2))) (:0 ◎) (:0 a) (:0 b) (:0 0) (:0 1) (:0 (bin:a)) (:0 (bin 1 2:a b)) (:0 (bin a:(bin b:1 2))) (:1 ◎) (:1 a) (:1 b) (:1 0) (:1 1) (:1 (bin:a)) (:1 (bin 1 2:a b)) (:1 (bin a:(bin b:1 2))) (:(bin:a) ◎) (:(bin:a) a) (:(bin:a) b) (:(bin:a) 0) (:(bin:a) 1) (:(bin:a) (bin:a)) (:(bin:a) (bin 1 2:a b)) (:(bin:a) (bin a:(bin b:1 2))) (:(bin 1 2:a b) ◎) (:(bin 1 2:a b) a) (:(bin 1 2:a b) b) (:(bin 1 2:a b) 0) (:(bin 1 2:a b) 1) (:(bin 1 2:a b) (bin:a)) (:(bin 1 2:a b) (bin 1 2:a b)) (:(bin 1 2:a b) (bin a:(bin b:1 2))) (:(bin a:(bin b:1 2)) ◎) (:(bin a:(bin b:1 2)) a) (:(bin a:(bin b:1 2)) b) (:(bin a:(bin b:1 2)) 0) (:(bin a:(bin b:1 2)) 1) (:(bin a:(bin b:1 2)) (bin:a)) (:(bin a:(bin b:1 2)) (bin 1 2:a b)) (:(bin a:(bin b:1 2)) (bin a:(bin b:1 2)))))"
     ]
    }
   ],
   "source": [
    "count : X?"
   ]
  },
  {
   "cell_type": "code",
   "execution_count": 12,
   "id": "7f994a1f-eddb-4e37-8032-69eb5699d959",
   "metadata": {},
   "outputs": [
    {
     "name": "stdout",
     "output_type": "stream",
     "text": [
      "64"
     ]
    }
   ],
   "source": [
    "count : S2?"
   ]
  },
  {
   "cell_type": "code",
   "execution_count": 13,
   "id": "4e0e5be8-b3d1-4a51-b4b7-eaf4d8dfa258",
   "metadata": {},
   "outputs": [
    {
     "name": "stdout",
     "output_type": "stream",
     "text": [
      "(bin pass:0) (bin rev:0) (bin box:(int_sum:0 (count:(= (box:(box:)):(box:))) (count:(= (box:(box:◎)):(box:◎))) (count:(= (box:(box:◎ ◎)):(box:◎ ◎))) (count:(= (box:(box:◎ ◎ ◎)):(box:◎ ◎ ◎))) (count:(= (box:(box:◎ ◎ ◎ ◎)):(box:◎ ◎ ◎ ◎))))) (bin bin:12) (bin is:0) (bin {first 3:B}:0) (bin isnt:0) (bin collect:0)"
     ]
    }
   ],
   "source": [
    "IDEMP1 S1? : pass rev box bin is {first 3:B} isnt collect"
   ]
  },
  {
   "cell_type": "code",
   "execution_count": null,
   "id": "641fb736-d345-4d65-b4d9-9f01e5178188",
   "metadata": {},
   "outputs": [],
   "source": []
  }
 ],
 "metadata": {
  "kernelspec": {
   "display_name": "coda",
   "language": "",
   "name": "coda"
  },
  "language_info": {
   "file_extension": ".co",
   "mimetype": "text/plain",
   "name": "Any text"
  }
 },
 "nbformat": 4,
 "nbformat_minor": 5
}
