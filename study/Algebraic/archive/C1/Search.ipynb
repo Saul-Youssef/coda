{
 "cells": [
  {
   "cell_type": "code",
   "execution_count": 1,
   "id": "426e983e-ac65-4459-9b54-88e7eaea9181",
   "metadata": {
    "tags": []
   },
   "outputs": [
    {
     "name": "stdout",
     "output_type": "stream",
     "text": [
      "(defaultTime:1000)"
     ]
    }
   ],
   "source": [
    "defaultTime:1000"
   ]
  },
  {
   "cell_type": "code",
   "execution_count": 2,
   "id": "d74b27ba-e75b-4e17-aca3-2373b1ecbeab",
   "metadata": {
    "tags": []
   },
   "outputs": [
    {
     "name": "stdout",
     "output_type": "stream",
     "text": []
    }
   ],
   "source": [
    "import : dir co : up : up : up : ."
   ]
  },
  {
   "cell_type": "code",
   "execution_count": 3,
   "id": "e7be887e-3ab8-43af-b1f5-e831d04ecccf",
   "metadata": {},
   "outputs": [
    {
     "name": "stdout",
     "output_type": "stream",
     "text": []
    }
   ],
   "source": [
    "Def F  : ap { if (right:B):(:arg:B)}  \n",
    "Def nF : ap {nif (right:B):(:arg:B)}  "
   ]
  },
  {
   "cell_type": "code",
   "execution_count": null,
   "id": "d477187c-e2a3-4578-95a2-fc1398741a75",
   "metadata": {},
   "outputs": [],
   "source": [
    "write L1 1200 : dom 1000 : property algebraic_L1 S7? : C1?: "
   ]
  },
  {
   "cell_type": "code",
   "execution_count": null,
   "id": "11dd76e2-27d8-4d2e-973d-8d9e5293873b",
   "metadata": {},
   "outputs": [],
   "source": [
    "write L2 1200 : dom 1000 : property algebraic_L2 S7? : F : read stable : L1 "
   ]
  },
  {
   "cell_type": "code",
   "execution_count": 9,
   "id": "1a353339-e79f-4b57-80eb-397346a6f1f2",
   "metadata": {},
   "outputs": [
    {
     "name": "stdout",
     "output_type": "stream",
     "text": []
    }
   ],
   "source": [
    "write L2R1 1200 : dom 1000 : property algebraic_R1 S7? : F : read stable : L2 "
   ]
  },
  {
   "cell_type": "code",
   "execution_count": 10,
   "id": "6a522a19-5064-41d4-b116-6543a4f25774",
   "metadata": {},
   "outputs": [
    {
     "name": "stdout",
     "output_type": "stream",
     "text": []
    }
   ],
   "source": [
    "write L2R1.idem 1200 : dom 1000 : property idempotent S7? : F : read stable : L2R1 "
   ]
  },
  {
   "cell_type": "code",
   "execution_count": 11,
   "id": "640b755c-405f-4faa-9037-199d415956aa",
   "metadata": {},
   "outputs": [
    {
     "name": "stdout",
     "output_type": "stream",
     "text": [
      " (with and:) \n",
      " (with aq:) \n",
      " (with bool:) \n",
      " (with count:◎) \n",
      " (with float_max:) \n",
      " (with float_min:) \n",
      " (with float_prod:) \n",
      " (with float_sort:) \n",
      " (with float_sum:) \n",
      " (with head:) \n",
      " (with iff:) \n",
      " (with imply:) \n",
      " (with int_max:) \n",
      " (with int_min:) \n",
      " (with int_prod:) \n",
      " (with int_sort:) \n",
      " (with int_sum:) \n",
      " (with is:) \n",
      " (with nand:◎) \n",
      " (with nat_max:) \n",
      " (with nat_min:) \n",
      " (with nat_prod:) \n",
      " (with nat_sort:) \n",
      " (with nat_sum:) \n",
      " (with nif:) \n",
      " (with nor:) \n",
      " (with not:◎) \n",
      " (with null:) \n",
      " (with or:) \n",
      " (with ring:) \n",
      " (with stick:) \n",
      " (with text_sort:) \n",
      " (with xnor:) \n",
      " (with xor:◎) \n"
     ]
    }
   ],
   "source": [
    "tab : read stable : L2R1.idem "
   ]
  },
  {
   "cell_type": "code",
   "execution_count": null,
   "id": "d82df071-5d25-4e70-af4b-4eba1514e1f0",
   "metadata": {},
   "outputs": [],
   "source": []
  }
 ],
 "metadata": {
  "kernelspec": {
   "display_name": "coda",
   "language": "",
   "name": "coda"
  },
  "language_info": {
   "file_extension": ".co",
   "mimetype": "text/plain",
   "name": "Any text"
  }
 },
 "nbformat": 4,
 "nbformat_minor": 5
}
