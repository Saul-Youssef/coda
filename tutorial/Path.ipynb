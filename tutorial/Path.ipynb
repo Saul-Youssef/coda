{
 "cells": [
  {
   "cell_type": "code",
   "execution_count": null,
   "id": "5e3c39ae-edfe-499f-ab28-5023629ba822",
   "metadata": {},
   "outputs": [],
   "source": [
    "dir : ."
   ]
  },
  {
   "cell_type": "code",
   "execution_count": null,
   "id": "d6aec8ac-c3e5-4409-aba7-dbe9e6ae65d1",
   "metadata": {},
   "outputs": [],
   "source": [
    "dir : ~"
   ]
  },
  {
   "cell_type": "code",
   "execution_count": null,
   "id": "56a5eca7-607a-4b8a-82dc-97ad08a9c82a",
   "metadata": {},
   "outputs": [],
   "source": [
    "String : path \n",
    "String : fn "
   ]
  },
  {
   "cell_type": "code",
   "execution_count": null,
   "id": "a381aaf8-49ad-47b8-9332-aad84f9eb10f",
   "metadata": {},
   "outputs": [],
   "source": [
    "split </> : dir :."
   ]
  },
  {
   "cell_type": "code",
   "execution_count": null,
   "id": "24a60ac9-295f-4424-9000-179ea0f5beaf",
   "metadata": {},
   "outputs": [],
   "source": [
    "<>"
   ]
  },
  {
   "cell_type": "code",
   "execution_count": null,
   "id": "9853e874-6ebf-4f63-968e-acf7b200253c",
   "metadata": {},
   "outputs": [],
   "source": []
  }
 ],
 "metadata": {
  "kernelspec": {
   "display_name": "coda",
   "language": "",
   "name": "coda"
  },
  "language_info": {
   "file_extension": ".co",
   "mimetype": "text/plain",
   "name": "Any text"
  }
 },
 "nbformat": 4,
 "nbformat_minor": 5
}
