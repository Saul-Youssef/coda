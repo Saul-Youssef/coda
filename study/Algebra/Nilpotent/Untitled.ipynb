{
 "cells": [
  {
   "cell_type": "code",
   "execution_count": 1,
   "id": "46cde0cb-3204-4587-b33b-776818bfae07",
   "metadata": {},
   "outputs": [
    {
     "name": "stdout",
     "output_type": "stream",
     "text": [
      "(defaultTime:1000)"
     ]
    }
   ],
   "source": [
    "defaultTime:1000"
   ]
  },
  {
   "cell_type": "code",
   "execution_count": 2,
   "id": "bb37897f-dc52-4e9b-bf47-92643d2c0603",
   "metadata": {},
   "outputs": [
    {
     "name": "stdout",
     "output_type": "stream",
     "text": []
    }
   ],
   "source": [
    "import : dir co : up : up : ."
   ]
  },
  {
   "cell_type": "code",
   "execution_count": 3,
   "id": "dc4d5f51-71fc-45bb-9699-7c1378d55fd9",
   "metadata": {},
   "outputs": [
    {
     "name": "stdout",
     "output_type": "stream",
     "text": [
      "logs avialable> cache.miss cache.hit cache multi eval eval.step\n"
     ]
    }
   ],
   "source": [
    "logs:"
   ]
  },
  {
   "cell_type": "code",
   "execution_count": 4,
   "id": "785f2b3f-9acf-48dd-a5f5-b00f87d73cd5",
   "metadata": {},
   "outputs": [
    {
     "name": "stdout",
     "output_type": "stream",
     "text": []
    }
   ],
   "source": [
    "log : eval "
   ]
  },
  {
   "cell_type": "code",
   "execution_count": 5,
   "id": "748fde19-0d73-413c-932b-d89d32d10b0b",
   "metadata": {},
   "outputs": [
    {
     "name": "stdout",
     "output_type": "stream",
     "text": [
      "(:arg) (:bin) (:by) (:collect) (:const) (:count) (:domain) (:equiv) (:first) (:float_div) (:float_inv) (:float_max) (:float_min) (:float_prod) (:float_sort) (:float_sum) (:floats) (:get) (:has) (:hasnt) (:if) (:int_div) (:int_inv) (:int_max) (:int_min) (:int_prod) (:int_sort) (:int_sum) (:ints) (:is) (:isnt) (:last) (:left) (:nat) (:nat_max) (:nat_min) (:nat_prod) (:nat_sort) (:nat_sum) (:nats) (:nif) (:nth) (:nth1) (:null) (:once) (:pass) (:plus) (:post) (:pre) (:prod) (:put) (:rep) (:rev) (:right) (:skip) (:star) (:sum) (:tail) (:text_sort)"
     ]
    }
   ],
   "source": [
    "C0?:"
   ]
  },
  {
   "cell_type": "code",
   "execution_count": 6,
   "id": "f0ea4907-89f9-4ba8-b9b6-bbadacaa6f10",
   "metadata": {},
   "outputs": [
    {
     "name": "stdout",
     "output_type": "stream",
     "text": []
    }
   ],
   "source": [
    "#property nilpotent arg : S6?"
   ]
  },
  {
   "cell_type": "code",
   "execution_count": 7,
   "id": "533aae6e-8929-4fb4-9292-a95ad386ff89",
   "metadata": {},
   "outputs": [
    {
     "name": "stdout",
     "output_type": "stream",
     "text": []
    }
   ],
   "source": [
    "#property nilpotent bin : S6?"
   ]
  },
  {
   "cell_type": "code",
   "execution_count": 8,
   "id": "0fc33ae7-e59f-46ce-8d45-c6693c12a04f",
   "metadata": {},
   "outputs": [
    {
     "name": "stdout",
     "output_type": "stream",
     "text": []
    }
   ],
   "source": [
    "#property nilpotent by : S6?"
   ]
  },
  {
   "cell_type": "code",
   "execution_count": 9,
   "id": "835940c3-42b8-4e38-96a9-429c45d16b2f",
   "metadata": {},
   "outputs": [
    {
     "name": "stdout",
     "output_type": "stream",
     "text": []
    }
   ],
   "source": [
    "#property nilpotent collect : S6?"
   ]
  },
  {
   "cell_type": "code",
   "execution_count": 10,
   "id": "e4f94cfd-db55-47aa-a3f5-5667c1579e2f",
   "metadata": {},
   "outputs": [
    {
     "name": "stdout",
     "output_type": "stream",
     "text": []
    }
   ],
   "source": [
    "#property nilpotent const : S6?"
   ]
  },
  {
   "cell_type": "code",
   "execution_count": 11,
   "id": "61365e0a-0f9e-413a-8f34-09501200a229",
   "metadata": {},
   "outputs": [
    {
     "name": "stdout",
     "output_type": "stream",
     "text": []
    }
   ],
   "source": [
    "#property nilpotent domain : S6?"
   ]
  },
  {
   "cell_type": "code",
   "execution_count": 12,
   "id": "d59a8d33-7aa8-448e-8570-8a891e5c684d",
   "metadata": {},
   "outputs": [
    {
     "name": "stdout",
     "output_type": "stream",
     "text": []
    }
   ],
   "source": [
    "#property nilpotent equiv : S6?"
   ]
  },
  {
   "cell_type": "code",
   "execution_count": 13,
   "id": "267a2f7d-81e4-4a0a-8e35-9fa3a11daa6d",
   "metadata": {},
   "outputs": [
    {
     "name": "stdout",
     "output_type": "stream",
     "text": []
    }
   ],
   "source": [
    "Def F : {property nilpotent B : S6?} "
   ]
  },
  {
   "cell_type": "code",
   "execution_count": 14,
   "id": "da76681d-ca36-47ac-87af-0115f0c9b7f2",
   "metadata": {},
   "outputs": [
    {
     "name": "stdout",
     "output_type": "stream",
     "text": []
    }
   ],
   "source": [
    "#F : const "
   ]
  },
  {
   "cell_type": "code",
   "execution_count": 15,
   "id": "e68516ba-f672-49fb-b8d2-722dc10bf0e2",
   "metadata": {},
   "outputs": [
    {
     "name": "stdout",
     "output_type": "stream",
     "text": []
    }
   ],
   "source": [
    "#F : equiv"
   ]
  },
  {
   "cell_type": "code",
   "execution_count": 16,
   "id": "ebaaf72b-d6cb-4263-9009-be051ec234c1",
   "metadata": {},
   "outputs": [
    {
     "name": "stdout",
     "output_type": "stream",
     "text": []
    }
   ],
   "source": [
    "#C0?:"
   ]
  },
  {
   "cell_type": "code",
   "execution_count": 17,
   "id": "ab89266a-9152-471d-b559-14f8ef3bef56",
   "metadata": {},
   "outputs": [
    {
     "name": "stdout",
     "output_type": "stream",
     "text": []
    }
   ],
   "source": [
    "#F : first\n",
    "#F : float_div \n",
    "#F : float_inv \n",
    "#F : float_max "
   ]
  },
  {
   "cell_type": "code",
   "execution_count": 18,
   "id": "a93aa4d1-efe8-4711-ab50-5db31b1ee10f",
   "metadata": {},
   "outputs": [
    {
     "name": "stdout",
     "output_type": "stream",
     "text": [
      "eval> creation, max seconds:100, max GB:2\n",
      "8"
     ]
    }
   ],
   "source": [
    "F : left"
   ]
  },
  {
   "cell_type": "code",
   "execution_count": 19,
   "id": "af3c8ef5-3e47-48a7-b1cc-028bfef85805",
   "metadata": {},
   "outputs": [
    {
     "name": "stdout",
     "output_type": "stream",
     "text": []
    }
   ],
   "source": [
    "#F : domain"
   ]
  },
  {
   "cell_type": "code",
   "execution_count": null,
   "id": "c0ce7f4d-9f9c-4f81-bb71-2f0f5962e354",
   "metadata": {},
   "outputs": [],
   "source": []
  }
 ],
 "metadata": {
  "kernelspec": {
   "display_name": "coda",
   "language": "",
   "name": "coda"
  },
  "language_info": {
   "file_extension": ".co",
   "mimetype": "text/plain",
   "name": "Any text"
  }
 },
 "nbformat": 4,
 "nbformat_minor": 5
}
