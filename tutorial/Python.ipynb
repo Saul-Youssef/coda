{
 "cells": [
  {
   "cell_type": "code",
   "execution_count": null,
   "id": "ef1d1185-9a43-4551-9368-df15b3785351",
   "metadata": {},
   "outputs": [],
   "source": [
    "import base,Language,Evaluate"
   ]
  },
  {
   "cell_type": "code",
   "execution_count": null,
   "id": "24cef05f-83c4-4aed-973c-90f4961286fe",
   "metadata": {},
   "outputs": [],
   "source": []
  },
  {
   "cell_type": "code",
   "execution_count": null,
   "id": "95b0921a-238f-46de-a4a8-d56e60a9a5cc",
   "metadata": {},
   "outputs": [],
   "source": [
    "D = Language.lang('make path : dir : .',base.data(),base.data())"
   ]
  },
  {
   "cell_type": "code",
   "execution_count": null,
   "id": "155b303b-146c-4454-9a47-e48a873f1a3e",
   "metadata": {},
   "outputs": [],
   "source": []
  }
 ],
 "metadata": {
  "kernelspec": {
   "display_name": "Python 3 (ipykernel)",
   "language": "python",
   "name": "python3"
  },
  "language_info": {
   "codemirror_mode": {
    "name": "ipython",
    "version": 3
   },
   "file_extension": ".py",
   "mimetype": "text/x-python",
   "name": "python",
   "nbconvert_exporter": "python",
   "pygments_lexer": "ipython3",
   "version": "3.10.7"
  }
 },
 "nbformat": 4,
 "nbformat_minor": 5
}
