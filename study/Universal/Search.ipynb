{
 "cells": [
  {
   "cell_type": "markdown",
   "id": "a5af0c17-cfbb-404c-beef-8f79c0878e32",
   "metadata": {},
   "source": [
    "We say that data M is **universal** or **algebraic** or **mathematical** if \n",
    "\n",
    "* M : X Y = M : Y X \n",
    "\n",
    "for all X, Y.  What data M have this property? "
   ]
  },
  {
   "cell_type": "code",
   "execution_count": 1,
   "id": "fd1cadea-0054-4402-92e1-df2739b5155c",
   "metadata": {},
   "outputs": [
    {
     "name": "stdout",
     "output_type": "stream",
     "text": [
      "(defaultTime:100)"
     ]
    }
   ],
   "source": [
    "defaultTime:100"
   ]
  },
  {
   "cell_type": "code",
   "execution_count": 2,
   "id": "296d26f9-48c8-41f4-a9d7-02bc7fd354be",
   "metadata": {},
   "outputs": [
    {
     "name": "stdout",
     "output_type": "stream",
     "text": []
    }
   ],
   "source": [
    "import : dir co : ."
   ]
  },
  {
   "cell_type": "code",
   "execution_count": 3,
   "id": "b67f703d-6ce7-4ca7-aca7-ba79d38c1c91",
   "metadata": {},
   "outputs": [
    {
     "name": "stdout",
     "output_type": "stream",
     "text": []
    }
   ],
   "source": [
    "#\n",
    "#    To make searching easier, we first search for data M \n",
    "#    satisfying M : rev : X = M : X for all X.\n",
    "#\n",
    "Def REV : {((get:B):rev:(get:A))=((get:B):(get:A))} \n",
    "Def SEARCH : ap {with B : count : REV A : B} \n",
    "Def Select : ap {if (0=(right:B)):(arg:B)}\n",
    "HUH??\n",
    "\n",
    "\n",
    "Def TEST : {((get:B):rev:(get:A))=((get:B):(get:A))} "
   ]
  },
  {
   "cell_type": "code",
   "execution_count": 4,
   "id": "85a8d8a0-fa7a-42fa-9025-6cf9cbe49a3e",
   "metadata": {},
   "outputs": [
    {
     "name": "stdout",
     "output_type": "stream",
     "text": [
      "4\n",
      "0\n",
      "2"
     ]
    }
   ],
   "source": [
    "count : TEST (:a b) (:b b) : (:pass)\n",
    "count : TEST (:a b) (:b b) : (:count)\n",
    "count : TEST (:a b) (:b b) : (:last)"
   ]
  },
  {
   "cell_type": "code",
   "execution_count": 5,
   "id": "34e51cc2-2739-4f8a-9b54-bcd25afb277f",
   "metadata": {},
   "outputs": [
    {
     "name": "stdout",
     "output_type": "stream",
     "text": [
      "8\n",
      "0\n",
      "2"
     ]
    }
   ],
   "source": [
    "count : TEST S0? : (:pass) \n",
    "count : TEST S0? : (:count)\n",
    "count : TEST S0? : (:last)"
   ]
  },
  {
   "cell_type": "code",
   "execution_count": 6,
   "id": "565a765f-28a6-445c-a0f1-e6c9a721c77b",
   "metadata": {},
   "outputs": [
    {
     "name": "stdout",
     "output_type": "stream",
     "text": [
      "(with (:pass):8) (with (:count):0) (with (:last):2)"
     ]
    }
   ],
   "source": [
    "do 100 : ap {with B : count : TEST A : B} S0? : (:pass) (:count) (:last) "
   ]
  },
  {
   "cell_type": "code",
   "execution_count": 7,
   "id": "21e13190-5826-4387-b8d0-9898b78e2558",
   "metadata": {},
   "outputs": [
    {
     "name": "stdout",
     "output_type": "stream",
     "text": []
    }
   ],
   "source": [
    "Def TEST2 : ap {with B : count : TEST A : B} "
   ]
  },
  {
   "cell_type": "code",
   "execution_count": 8,
   "id": "63642d95-2baa-4a4f-8efa-550307a06dd2",
   "metadata": {},
   "outputs": [
    {
     "name": "stdout",
     "output_type": "stream",
     "text": [
      "(with (:pass):8) (with (:count):0) (with (:last):2)"
     ]
    }
   ],
   "source": [
    "do 100 : TEST2 S0? : (:pass) (:count) (:last)"
   ]
  },
  {
   "cell_type": "code",
   "execution_count": 9,
   "id": "371fb316-432a-42cb-993e-de6f49a29f50",
   "metadata": {
    "tags": []
   },
   "outputs": [
    {
     "name": "stdout",
     "output_type": "stream",
     "text": [
      "(with (:ai):(count:(equal (ai:b b a b b a a a):(ai:a a a b b a b b)))) (with (:aj):(count:(equal (b:(b:(a:(b:(b:(a:(a:a))))))):(a:(a:(a:(b:(b:(a:(b:b)))))))))) (with (:ap):8) (with (:aq):0) (with (:ar):0) (with (:arg):0) (with (:back):0) (with (:bin):8) (with (:bool):0) (with (:collect):8) (with (:common):0) (with (:const):0) (with (:domain):0) (with (:dup):0) (with (:ends):0) (with (:equal):8) (with (:equiv):20) (with (:front):0) (with (:get):0) (with (:grp):8) (with (:grp):8) (with (:has):0) (with (:hasnt):8) (with (:if):8) (with (:ints):0) (with (:is):0) (with (:isnt):8) (with (:item):0) (with (:ker):0) (with (:left):0) (with (:nat):0) (with (:nats):0) (with (:nif):0) (with (:null):0) (with (:once):4) (with (:pass):8) (with (:plus):8) (with (:post):8) (with (:pre):8) (with (:prod):8) (with (:put):8) (with (:rev):8) (with (:right):8) (with (:some):8) (with (:star):8) (with (:starts):8) (with (:sum):0) (with (:while):(count:(equal (some (if (equal (:(:(:(:(:(:(:(:(:(:(:(:(:(:(:(:(:(:b b a b b a a a)))))))))))))))))):(:(:(:(:(:(:(:(:(:(:(:(:(:(:(:(:(:b b a b b a a a)))))))))))))))))):(:(:(:(:(:(:(:(:(:(:(:(:(:(:(:(:(:(:(:(:(:(:(:(:(:(:(:(:b b a b b a a a))))))))))))))))))))))))))))):(some (if (equal (({A}:({A : B}:({A : B}:({A : B}:({A : B}:(:(:(:(:(:(:(:(:(:(:(:(:(:(:(:(:(:(:(:(:(:(:(:(:(:b b a b b a a a)))))))))))))))))))))))))))))):({B}:({A : B}:({A : B}:({A : B}:({A : B}:(:(:(:(:(:(:(:(:(:(:(:(:(:(:(:(:(:(:(:(:(:(:(:(:(:b b a b b a a a))))))))))))))))))))))))))))))):({A : B}:({A : B}:({A : B}:({A : B}:(:(:(:(:(:(:(:(:(:(:(:(:(:(:(:(:(:(:(:(:(:(:(:(:(:b b a b b a a a)))))))))))))))))))))))))))))):(({A }:({A : B}:({A : B}:({A : B}:(:(:(:(:(:(:(:(:(:(:(:(:(:(:(:(:(:(:(:(:(:(:(:(:(:b b a b b a a a))))))))))))))))))))))))))))):({ B}:({A : B}:({A : B}:({A : B}:(:(:(:(:(:(:(:(:(:(:(:(:(:(:(:(:(:(:(:(:(:(:(:(:(:b b a b b a a a))))))))))))))))))))))))))))))):(({while}:({A : B}:({A : B}:({A : B}:({A : B}:(:(:(:(:(:(:(:(:(:(:(:(:(:(:(:(:(:(:(:(:(:(:(:(:(:b b a b b a a a)))))))))))))))))))))))))))))) ({A}:({A : B}:({A : B}:({A : B}:({A : B}:(:(:(:(:(:(:(:(:(:(:(:(:(:(:(:(:(:(:(:(:(:(:(:(:(:b b a b b a a a)))))))))))))))))))))))))))))):({A : B}:({A : B}:({A : B}:({A : B}:({A : B}:(:(:(:(:(:(:(:(:(:(:(:(:(:(:(:(:(:(:(:(:(:(:(:(:(:b b a b b a a a))))))))))))))))))))))))))))))))):(some (if (equal (:a a a b b a b b):a) a a b b a b b:(:(:(:(:(:(:(:(:(:(:(:(:(:a a a b b a b b)))))))))))))):(some (({if ((A:B)=B)}:({A : B}:({A : B}:({A : B}:({A : B}:({A : B}:({A : B}:({A : B}:({A : B}:({A : B}:({A : B}:({A : B}:({A : B}:({A : B}:({A : B}:(get:({A} (:a a) (:a b) (:b a) (:b b):({B} (:a a) (:a b) (:b a) (:b b):(:while))))))))))))))))))):({B}:({A : B}:({A : B}:({A : B}:({A : B}:({A : B}:({A : B}:({A : B}:({A : B}:({A : B}:({A : B}:({A : B}:({A : B}:({A : B}:({A : B}:(get:({A} (:a a) (:a b) (:b a) (:b b):({B} (:a a) (:a b) (:b a) (:b b):(:while)))))))))))))))))))):(({while A }:({A : B}:({A : B}:({A : B}:({A : B}:({A : B}:({A : B}:({A : B}:({A : B}:({A : B}:({A : B}:({A : B}:({A : B}:({A : B}:({A : B}:(get:({A} (:a a) (:a b) (:b a) (:b b):({B} (:a a) (:a b) (:b a) (:b b):(:while))))))))))))))))))):({ A : B}:({A : B}:({A : B}:({A : B}:({A : B}:({A : B}:({A : B}:({A : B}:({A : B}:({A : B}:({A : B}:({A : B}:({A : B}:({A : B}:({A : B}:(get:({A} (:a a) (:a b) (:b a) (:b b):({B} (:a a) (:a b) (:b a) (:b b):(:while)))))))))))))))))))))))))"
     ]
    }
   ],
   "source": [
    "dom 100 : TEST2 S0? : ap : Organic?"
   ]
  },
  {
   "cell_type": "code",
   "execution_count": 10,
   "id": "437d77fc-d4cc-41ce-89b3-37c95c392c95",
   "metadata": {},
   "outputs": [
    {
     "name": "stdout",
     "output_type": "stream",
     "text": []
    }
   ],
   "source": [
    "Let Search1 : ap : Organic? "
   ]
  },
  {
   "cell_type": "code",
   "execution_count": 3,
   "id": "c4222c7e-8fa1-4ece-ab0e-b9c6fc693d23",
   "metadata": {},
   "outputs": [
    {
     "name": "stdout",
     "output_type": "stream",
     "text": [
      "\u001b[;1mcode:\u001b[0m\n",
      "    \u001b[34;7maq\u001b[0m\n",
      "\u001b[;1mmodule:\u001b[0m\n",
      "    Apply\n",
      "\u001b[;1msummary:\u001b[0m\n",
      "    Apply argument to input in various ways.\n",
      "\u001b[;1mdescription:\u001b[0m\n",
      "\u001b[;1mpath:\u001b[0m\n",
      "    /Users/youssef/coda/py/Apply.py\n",
      "\u001b[;1mdemos:\u001b[0m\n",
      "    1. \u001b[35;4map bin a b c : 1 2 3 4\u001b[0m\n",
      "    2. \u001b[35;4maq bin a b c : 1 2 3 4\u001b[0m\n",
      "    3. \u001b[35;4mar bin a b c : 1 2 3 4\u001b[0m\n",
      "    4. \u001b[35;4mai bin a b c : 1 2 3 4\u001b[0m\n",
      "    5. \u001b[35;4maj bin a : 1 2 3 4\u001b[0m\n",
      "    6. \u001b[35;4maj {bin A:B} : 1 2 3 4\u001b[0m\n",
      "    7. \u001b[35;4maj {nat_sum : A B} : 1 2 3 4 5\u001b[0m\n",
      "    8. \u001b[35;4mapby 2 bin a b c : 1 2 3 4 5 6\u001b[0m\n",
      "    9. \u001b[35;4mapby 2 count : a b c d e f g\u001b[0m\n",
      "    10. \u001b[35;4mapby 2 last  : a b c d e f g\u001b[0m\n",
      "    11. \u001b[35;4map {if (count:get bin:B)=2:B} : (bin:a b) (bin:a b c) (bin:x y) (bin:a b c d)\u001b[0m\n"
     ]
    }
   ],
   "source": [
    "help : aq"
   ]
  },
  {
   "cell_type": "code",
   "execution_count": 16,
   "id": "a417bbcf-5792-4d29-9cff-20cc295ef757",
   "metadata": {},
   "outputs": [
    {
     "name": "stdout",
     "output_type": "stream",
     "text": [
      "(bin a 1:(bin a 2:(bin a 3:4)))"
     ]
    }
   ],
   "source": [
    "demo aj : 5\n"
   ]
  },
  {
   "cell_type": "code",
   "execution_count": 11,
   "id": "79e07c31-0a74-4855-8f3a-c49e239f07eb",
   "metadata": {},
   "outputs": [
    {
     "name": "stdout",
     "output_type": "stream",
     "text": []
    }
   ],
   "source": [
    "write Search1 1000 : dom 100 : TEST2 S0? : Search1?"
   ]
  },
  {
   "cell_type": "code",
   "execution_count": 12,
   "id": "5a0e65d4-b837-4e8e-b1c3-94b6e4244dab",
   "metadata": {},
   "outputs": [
    {
     "name": "stdout",
     "output_type": "stream",
     "text": [
      "(with (:ap):8) (with (:aq):0) (with (:ar):0) (with (:arg):0) (with (:back):0) (with (:bin):8) (with (:bool):0) (with (:collect):8) (with (:common):0) (with (:const):0) (with (:domain):0) (with (:dup):0) (with (:ends):0) (with (:equal):8) (with (:equiv):20) (with (:front):0) (with (:get):0) (with (:grp):8) (with (:grp):8) (with (:has):0) (with (:hasnt):8) (with (:if):8) (with (:ints):0) (with (:is):0) (with (:isnt):8) (with (:item):0) (with (:ker):0) (with (:left):0) (with (:nat):0) (with (:nats):0) (with (:nif):0) (with (:null):0) (with (:once):4) (with (:pass):8) (with (:plus):8) (with (:post):8) (with (:pre):8) (with (:prod):8) (with (:put):8) (with (:rev):8) (with (:right):8) (with (:some):8) (with (:star):8) (with (:starts):8) (with (:sum):0)"
     ]
    }
   ],
   "source": [
    "read : Search1"
   ]
  },
  {
   "cell_type": "code",
   "execution_count": 13,
   "id": "f25803f9-785b-4932-b5d7-c37675dc9248",
   "metadata": {},
   "outputs": [
    {
     "name": "stdout",
     "output_type": "stream",
     "text": [
      "(:aq) (:ar) (:arg) (:back) (:bool) (:common) (:const) (:domain) (:dup) (:ends) (:front) (:get) (:has) (:ints) (:is) (:item) (:ker) (:left) (:nat) (:nats) (:nif) (:null) (:sum)"
     ]
    }
   ],
   "source": [
    "ap {if (0=(right:B)):(arg:B)} : read : Search1 "
   ]
  },
  {
   "cell_type": "code",
   "execution_count": 14,
   "id": "5e056ee8-84fd-4465-bc60-d2e58709c0f2",
   "metadata": {},
   "outputs": [
    {
     "name": "stdout",
     "output_type": "stream",
     "text": []
    }
   ],
   "source": [
    "Def Select : ap {if (0=(right:B)):(arg:B)} "
   ]
  },
  {
   "cell_type": "code",
   "execution_count": 15,
   "id": "261eb363-bcef-4ece-b05c-fb01de34ae14",
   "metadata": {},
   "outputs": [
    {
     "name": "stdout",
     "output_type": "stream",
     "text": [
      "(:aq) (:ar) (:arg) (:back) (:bool) (:common) (:const) (:domain) (:dup) (:ends) (:front) (:get) (:has) (:ints) (:is) (:item) (:ker) (:left) (:nat) (:nats) (:nif) (:null) (:sum)"
     ]
    }
   ],
   "source": [
    "Select : read : Search1 "
   ]
  },
  {
   "cell_type": "code",
   "execution_count": 16,
   "id": "42eb67a3-3b9d-4fdc-8d05-52d4cef8b02b",
   "metadata": {},
   "outputs": [
    {
     "name": "stdout",
     "output_type": "stream",
     "text": [
      "ai aj ap aq ar arg back bin bool collect common const domain dup ends equal equiv front get grp grp has hasnt if ints is isnt item ker left nat nats nif null once pass plus post pre prod put rev right some star starts sum while"
     ]
    }
   ],
   "source": [
    "Organic?"
   ]
  },
  {
   "cell_type": "code",
   "execution_count": 17,
   "id": "4a5d1416-ad7b-4683-8112-359941b988c4",
   "metadata": {},
   "outputs": [
    {
     "name": "stdout",
     "output_type": "stream",
     "text": [
      "(:a a) (:a b) (:b a) (:b b)"
     ]
    }
   ],
   "source": [
    "S0?"
   ]
  },
  {
   "cell_type": "code",
   "execution_count": 23,
   "id": "f2dd65c0-eba5-404d-896d-b7229d15c055",
   "metadata": {},
   "outputs": [
    {
     "name": "stdout",
     "output_type": "stream",
     "text": [
      " (bin (:aq):(:a a)) \n",
      " (bin (:aq):(:a b)) \n",
      " (bin (:aq):(:b a)) \n",
      " (bin (:aq):(:b b)) \n",
      " (bin (:ar):(:a a)) \n",
      " (bin (:ar):(:a b)) \n",
      " (bin (:ar):(:b a)) \n",
      " (bin (:ar):(:b b)) \n",
      " (bin (:arg):(:a a)) \n",
      " (bin (:arg):(:a b)) \n"
     ]
    }
   ],
   "source": [
    "tab : first 10 : ar bin (Select : read : Search1) : S0?"
   ]
  },
  {
   "cell_type": "code",
   "execution_count": 25,
   "id": "45255097-0503-4391-a93d-67d66e8ccbca",
   "metadata": {},
   "outputs": [
    {
     "name": "stdout",
     "output_type": "stream",
     "text": [
      " (:aq a a) \n",
      " (:aq a b) \n",
      " (:aq b a) \n",
      " (:aq b b) \n",
      " (:ar a a) \n",
      " (:ar a b) \n",
      " (:ar b a) \n",
      " (:ar b b) \n",
      " (:arg a a) \n",
      " (:arg a b) \n"
     ]
    }
   ],
   "source": [
    "tab : first 10 : ap {(:(get:arg:B) (get:right:B))} : ar bin (Select : read : Search1) : S0?"
   ]
  },
  {
   "cell_type": "code",
   "execution_count": 32,
   "id": "4f070e84-4a14-452d-abd0-20129cb6cba8",
   "metadata": {},
   "outputs": [
    {
     "name": "stdout",
     "output_type": "stream",
     "text": [
      "(:aq a a) (:aq a b) (:aq b a) (:aq b b) (:ar a a) (:ar a b) (:ar b a) (:ar b b) (:arg a a) (:arg a b) (:arg b a) (:arg b b) (:back a a) (:back a b) (:back b a) (:back b b) (:bool a a) (:bool a b) (:bool b a) (:bool b b) (:common a a) (:common a b) (:common b a) (:common b b) (:const a a) (:const a b) (:const b a) (:const b b) (:domain a a) (:domain a b) (:domain b a) (:domain b b) (:dup a a) (:dup a b) (:dup b a) (:dup b b) (:ends a a) (:ends a b) (:ends b a) (:ends b b) (:front a a) (:front a b) (:front b a) (:front b b) (:get a a) (:get a b) (:get b a) (:get b b) (:has a a) (:has a b) (:has b a) (:has b b) (:ints a a) (:ints a b) (:ints b a) (:ints b b) (:is a a) (:is a b) (:is b a) (:is b b) (:item a a) (:item a b) (:item b a) (:item b b) (:ker a a) (:ker a b) (:ker b a) (:ker b b) (:left a a) (:left a b) (:left b a) (:left b b) (:nat a a) (:nat a b) (:nat b a) (:nat b b) (:nats a a) (:nats a b) (:nats b a) (:nats b b) (:nif a a) (:nif a b) (:nif b a) (:nif b b) (:null a a) (:null a b) (:null b a) (:null b b) (:sum a a) (:sum a b) (:sum b a) (:sum b b)"
     ]
    }
   ],
   "source": [
    "read : Candidates-1"
   ]
  },
  {
   "cell_type": "code",
   "execution_count": 30,
   "id": "3442ad22-238c-4204-af76-e296c1d891e7",
   "metadata": {},
   "outputs": [
    {
     "name": "stdout",
     "output_type": "stream",
     "text": []
    }
   ],
   "source": []
  },
  {
   "cell_type": "code",
   "execution_count": null,
   "id": "3dfc6701-88ba-425f-bae9-a31c248fd4de",
   "metadata": {},
   "outputs": [],
   "source": []
  }
 ],
 "metadata": {
  "kernelspec": {
   "display_name": "coda",
   "language": "",
   "name": "coda"
  },
  "language_info": {
   "file_extension": ".co",
   "mimetype": "text/plain",
   "name": "Any text"
  }
 },
 "nbformat": 4,
 "nbformat_minor": 5
}
