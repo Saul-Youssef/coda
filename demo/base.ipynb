{
 "cells": [
  {
   "cell_type": "markdown",
   "id": "84b895d0-487d-4892-9c17-a9cda2b7dee7",
   "metadata": {
    "tags": []
   },
   "source": [
    "### Coda\n",
    "\n",
    "The core of the Coda is contained in the base module.  To run this demo, your PYTHONPATH should include the .../py directory of coda. "
   ]
  },
  {
   "cell_type": "code",
   "execution_count": 5,
   "id": "0dbf3a5e-00ba-4e7e-abc5-124ca7ae7bfb",
   "metadata": {},
   "outputs": [],
   "source": [
    "from base import * "
   ]
  },
  {
   "cell_type": "markdown",
   "id": "536790a6-da15-4ce7-8488-2a81a705b8cd",
   "metadata": {},
   "source": [
    "By definition, data is a finite sequence of codas. An empty data is created in python by `data()` and it displays as the empty string.  "
   ]
  },
  {
   "cell_type": "code",
   "execution_count": 9,
   "id": "2715c40b-284e-4d94-9233-9cda75ce5a6e",
   "metadata": {},
   "outputs": [
    {
     "name": "stdout",
     "output_type": "stream",
     "text": [
      "[]\n"
     ]
    }
   ],
   "source": [
    "#\n",
    "#  create an empty pure data and display it\n",
    "#\n",
    "z = data()\n",
    "print('['+str(z)+']')"
   ]
  },
  {
   "cell_type": "code",
   "execution_count": 12,
   "id": "e9aeb420-6903-49d7-8336-0eac00ca7076",
   "metadata": {},
   "outputs": [
    {
     "name": "stdout",
     "output_type": "stream",
     "text": [
      "𝟬 (:)\n",
      "𝟭 (:(:))\n"
     ]
    }
   ],
   "source": [
    "#\n",
    "#  You can create a coda from data using the | operator (:) in the language.  \n",
    "#\n",
    "bit0 = z|z\n",
    "bit1 = z|(z|z)\n",
    "print(str(bit0),repr(bit0))\n",
    "print(str(bit1),repr(bit1))"
   ]
  },
  {
   "cell_type": "markdown",
   "id": "690967f4-bb1f-440f-807a-5f9b927082e7",
   "metadata": {},
   "source": [
    "As you can see, data is uniformly represented all the way down to below bits.  A 0 and one bit are defined in terms of empty data.  The data constructor takes multiple codas as arguments."
   ]
  },
  {
   "cell_type": "code",
   "execution_count": 15,
   "id": "290f9498-4219-4fd5-acac-f65c1fdf1e86",
   "metadata": {},
   "outputs": [
    {
     "name": "stdout",
     "output_type": "stream",
     "text": [
      "(:)(:(:))(:(:))(:) 𝟬𝟭𝟭𝟬\n"
     ]
    }
   ],
   "source": [
    "D = data(bit0,bit1,bit1,bit0)\n",
    "print(repr(D),str(D))"
   ]
  },
  {
   "cell_type": "markdown",
   "id": "05c69e12-7278-4220-8f67-159992b5f174",
   "metadata": {},
   "source": [
    "Text is a sequence of 8 bits and unicode strings are sequences of bytes."
   ]
  },
  {
   "cell_type": "code",
   "execution_count": 17,
   "id": "5fc64bc0-7719-4278-9276-a2be06be9804",
   "metadata": {},
   "outputs": [],
   "source": [
    "h = co('hello')"
   ]
  },
  {
   "cell_type": "markdown",
   "id": "0f678d06-1e95-47fe-98bd-5afc6987d2d3",
   "metadata": {},
   "source": [
    "In addition to the data constructor, there are two foundational operations from data to data. If x and y are data, the operations are\n",
    "\n",
    "1. Concatenation, indicated by x y in the language or by x+y in python.\n",
    "2. Colon, indicated by x:y in the language or by x|y in python. \n",
    "\n",
    "As you can see, all data are merely recursive sequences of empty sequences.\n",
    "\n",
    "If z is the empty data, the 0 and 1 bits are defined to be z|z and z|(z|z) respectively.  Characters are data consisting of sequences of these, words are sequences of characters, etc. "
   ]
  },
  {
   "cell_type": "code",
   "execution_count": 18,
   "id": "3973d872-e10f-4ec6-a899-03f3acca7065",
   "metadata": {},
   "outputs": [
    {
     "ename": "TypeError",
     "evalue": "unsupported operand type(s) for |: 'coda' and 'data'",
     "output_type": "error",
     "traceback": [
      "\u001b[0;31m---------------------------------------------------------------------------\u001b[0m",
      "\u001b[0;31mTypeError\u001b[0m                                 Traceback (most recent call last)",
      "Cell \u001b[0;32mIn[18], line 1\u001b[0m\n\u001b[0;32m----> 1\u001b[0m L \u001b[38;5;241m=\u001b[39m [z,z\u001b[38;5;241m+\u001b[39mz,data(z,z),z\u001b[38;5;241m|\u001b[39mz,\u001b[43mz\u001b[49m\u001b[38;5;241;43m|\u001b[39;49m\u001b[43mz\u001b[49m\u001b[38;5;241;43m|\u001b[39;49m\u001b[43mz\u001b[49m,z\u001b[38;5;241m|\u001b[39m(z\u001b[38;5;241m|\u001b[39mz),data(z\u001b[38;5;241m|\u001b[39mz,z\u001b[38;5;241m|\u001b[39mz\u001b[38;5;241m|\u001b[39mz,(z\u001b[38;5;241m|\u001b[39m(z\u001b[38;5;241m|\u001b[39mz)))]\n\u001b[1;32m      2\u001b[0m \u001b[38;5;28;01mfor\u001b[39;00m l \u001b[38;5;129;01min\u001b[39;00m L: \u001b[38;5;28mprint\u001b[39m(l,\u001b[38;5;28mrepr\u001b[39m(l),\u001b[38;5;28mhash\u001b[39m(l))\n",
      "\u001b[0;31mTypeError\u001b[0m: unsupported operand type(s) for |: 'coda' and 'data'"
     ]
    }
   ],
   "source": [
    "L = [z,z+z,data(z,z),z|z,z|z|z,z|(z|z),data(z|z,z|z|z,(z|(z|z)))]\n",
    "for l in L: print(l,repr(l),hash(l))"
   ]
  },
  {
   "cell_type": "code",
   "execution_count": null,
   "id": "5fb4aed9-f0eb-4c22-83e9-2dc9476b732a",
   "metadata": {},
   "outputs": [],
   "source": [
    "print(co('Hello').type())"
   ]
  },
  {
   "cell_type": "code",
   "execution_count": null,
   "id": "d3acb7f3-3ae1-4888-ac1e-6051f8a40eaf",
   "metadata": {},
   "outputs": [],
   "source": [
    "#\n",
    "#  The co function creates pure data from unicode strings in python\n",
    "#\n",
    "co('Hello World')"
   ]
  },
  {
   "cell_type": "code",
   "execution_count": null,
   "id": "90def1f0-8651-452a-8ff6-cc8fbd6777be",
   "metadata": {},
   "outputs": [],
   "source": [
    "print(co('Hello World'))"
   ]
  },
  {
   "cell_type": "code",
   "execution_count": null,
   "id": "5f6dfbbb-a751-405b-96a0-dfba8ea3a970",
   "metadata": {},
   "outputs": [],
   "source": [
    "#\n",
    "#   Pure data is merely a sequence of data.  You can access this sequence in python as if it is a tuple.\n",
    "#\n",
    "H = co('Hello World')\n",
    "print(H[6],'<-',repr(H[6]))\n",
    "for h in H[6]: print(h,'<-',repr(h))"
   ]
  },
  {
   "cell_type": "code",
   "execution_count": null,
   "id": "5e1580f4-af40-46aa-b0b1-ee0b841d7944",
   "metadata": {},
   "outputs": [],
   "source": [
    "#\n",
    "#   Bits are pure data also, so everything is made of empty sequences. \n",
    "#\n",
    "one = H[6][1]\n",
    "print(one,'<-',repr(one))\n",
    "for d in one: print(d,'<-',repr(d))"
   ]
  },
  {
   "cell_type": "markdown",
   "id": "7614f151-e399-490e-a6ef-d43df39444c9",
   "metadata": {},
   "source": [
    "For more examples, we can use the Universe module to create all data with specified width and depth less than specified values. The 3,2 universe, for example is all data with width <= 3 and depth <= 2.  "
   ]
  },
  {
   "cell_type": "code",
   "execution_count": null,
   "id": "14f7bddb-a532-4333-9754-9c76777426c2",
   "metadata": {},
   "outputs": [],
   "source": [
    "#\n",
    "#   The 1,1 universe contains only empty and the zero bit. \n",
    "#\n",
    "import Universe\n",
    "for d in Universe.universe(1,1): print(repr(d),' -> ',d)"
   ]
  },
  {
   "cell_type": "code",
   "execution_count": null,
   "id": "feac1630-d2f5-4733-a65b-ef833c67da10",
   "metadata": {},
   "outputs": [],
   "source": [
    "#\n",
    "#   The 2,1 universe also contains binary 1. \n",
    "#\n",
    "for d in Universe.universe(2,1): print(repr(d),' -> ',d)"
   ]
  },
  {
   "cell_type": "code",
   "execution_count": null,
   "id": "761a6330-81a9-43f2-a45d-d5c41334625a",
   "metadata": {
    "tags": []
   },
   "outputs": [],
   "source": [
    "U = Universe.universe(3,2)\n",
    "for d in U: print(d)"
   ]
  },
  {
   "cell_type": "code",
   "execution_count": null,
   "id": "4828e6a1-f93c-45c4-bf98-b0f45dc970a1",
   "metadata": {},
   "outputs": [],
   "source": [
    "#\n",
    "#   The sizes of universes grows very rapidly.\n",
    "#\n",
    "print(len(Universe.universe(3,3)))"
   ]
  },
  {
   "cell_type": "markdown",
   "id": "4691cf3c-c245-4d5b-bd64-143eaa680fa3",
   "metadata": {},
   "source": [
    "## Universe Sizes for given widths and depths \n",
    "\n",
    "| Depth     | 1  |  2  |  3    |  4  |      5  |\n",
    "|----------:|---:|----:|------:|----:|--------:|\n",
    "| Width 1:   | 2  |  3  |  4    |  5  |      6  |\n",
    "| Width 2:   | 3  |  9  | 51    | 1857| 3265299 | \n",
    "| Width 3:   | 4  | 43  | 60922 | \n",
    "| Width 4:   | 5  | 345 | \n",
    "| Width 5:   | 6  | 3911| \n",
    "| Width 6:   | 7  | 55993 |\n",
    "| Width 7:   | 8  | 960807 | "
   ]
  }
 ],
 "metadata": {
  "kernelspec": {
   "display_name": "Python 3 (ipykernel)",
   "language": "python",
   "name": "python3"
  },
  "language_info": {
   "codemirror_mode": {
    "name": "ipython",
    "version": 3
   },
   "file_extension": ".py",
   "mimetype": "text/x-python",
   "name": "python",
   "nbconvert_exporter": "python",
   "pygments_lexer": "ipython3",
   "version": "3.10.7"
  }
 },
 "nbformat": 4,
 "nbformat_minor": 5
}
