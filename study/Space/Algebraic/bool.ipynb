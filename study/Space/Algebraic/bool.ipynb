{
 "cells": [
  {
   "cell_type": "markdown",
   "id": "a31f4f7e-e665-4de8-9270-b7f5502bfad0",
   "metadata": {},
   "source": [
    "We have established that bool is a simple space \n",
    "\n",
    "bool: X Y = bool : (bool:X) (bool:Y) \n",
    "\n",
    "Let's search for \"mathematical data related to bool\".  In concrete terms, we would like to find data D s.t. D:bool:X Y = D:bool"
   ]
  }
 ],
 "metadata": {
  "kernelspec": {
   "display_name": "coda",
   "language": "",
   "name": "coda"
  },
  "language_info": {
   "file_extension": ".co",
   "mimetype": "text/plain",
   "name": "Any text"
  }
 },
 "nbformat": 4,
 "nbformat_minor": 5
}
