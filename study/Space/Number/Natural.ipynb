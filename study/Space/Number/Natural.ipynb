{
 "cells": [
  {
   "cell_type": "code",
   "execution_count": 1,
   "id": "95c466dc-5f91-4081-bf14-d1397fbf707f",
   "metadata": {
    "tags": []
   },
   "outputs": [
    {
     "name": "stdout",
     "output_type": "stream",
     "text": []
    }
   ],
   "source": [
    "import : dir co : up : ."
   ]
  },
  {
   "cell_type": "markdown",
   "id": "ac619c3d-cc51-447c-bca0-8212215d2e20",
   "metadata": {},
   "source": [
    "\n",
    "| Space | Elements | Operation | Space | Simple | Idemp. | Dist. | Dist.2 | Comm. | Invol. | Nilpotent | Semilattice |\n",
    "|-------|----------|-------|----:|-------:|-----------:|-------------:|--------:|------------:|-----------:|----------:|---------:|\n",
    "|n.type| naturals | make | Y | Y | Y | Y | Y | N | N | N | N |\n",
    "|n.sum| natural | sum | Y | Y | Y | N | Y | Y | N | N | N | \n",
    "|n.prod| natural | product | Y | Y | Y | N | Y | Y | N | N | N | \n",
    "|n.sort| ordered naturals | sort | Y | Y | Y | N | Y | Y | N | N | N | \n",
    "|n.ring| natural | prod and sum | Y | N | Y | N | Y | Y | N | N | N | "
   ]
  },
  {
   "cell_type": "code",
   "execution_count": 1,
   "id": "df2b87be-3daf-428d-85db-4226ee9db491",
   "metadata": {
    "jupyter": {
     "source_hidden": true
    },
    "tags": []
   },
   "outputs": [
    {
     "name": "stdout",
     "output_type": "stream",
     "text": [
      "9"
     ]
    }
   ],
   "source": [
    "#\n",
    "#   S is the search sample for searches below\n",
    "#\n",
    "Let S : (:) (:(:) (:)) (:(n:0)) (:(n:)) (:(n:1) (n:3) (n:2)) (:(n:5) (n:4)) (:1) (:2 3) (:(n:-5))\n",
    "count : S?"
   ]
  },
  {
   "cell_type": "code",
   "execution_count": 3,
   "id": "7aeb2258-0141-4f1d-8ea3-00d7cf5d806d",
   "metadata": {
    "collapsed": true,
    "jupyter": {
     "outputs_hidden": true,
     "source_hidden": true
    },
    "tags": []
   },
   "outputs": [
    {
     "name": "stdout",
     "output_type": "stream",
     "text": [
      "0\n",
      "0\n",
      "0\n",
      "0\n",
      "20\n",
      "3\n",
      "5\n",
      "5"
     ]
    }
   ],
   "source": [
    "count : theorem (simple:        n.type) : S?\n",
    "count : theorem (idempotent:    n.type) : S?\n",
    "count : theorem (distributive:  n.type) : S?\n",
    "count : theorem (distributive2: n.type) : S?\n",
    "count : theorem (commutative:   n.type) : S? \n",
    "count : theorem (involution:    n.type) : S? \n",
    "count : theorem (nilpotent:     n.type) : S? \n",
    "count : theorem (semilattice:   n.type) : S? "
   ]
  },
  {
   "cell_type": "code",
   "execution_count": 4,
   "id": "a045662d-9755-44fc-8d54-7238f45715ef",
   "metadata": {
    "collapsed": true,
    "jupyter": {
     "outputs_hidden": true,
     "source_hidden": true
    },
    "tags": []
   },
   "outputs": [
    {
     "name": "stdout",
     "output_type": "stream",
     "text": [
      "0\n",
      "0\n",
      "81\n",
      "0\n",
      "0\n",
      "7\n",
      "9\n",
      "3"
     ]
    }
   ],
   "source": [
    "count : theorem (simple:        n.sum) : S?\n",
    "count : theorem (idempotent:    n.sum) : S?\n",
    "count : theorem (distributive:  n.sum) : S?\n",
    "count : theorem (distributive2: n.sum) : S?\n",
    "count : theorem (commutative:   n.sum) : S? \n",
    "count : theorem (involution:    n.sum) : S? \n",
    "count : theorem (nilpotent:     n.sum) : S? \n",
    "count : theorem (semilattice:   n.sum) : S? "
   ]
  },
  {
   "cell_type": "code",
   "execution_count": 5,
   "id": "b54b8f33-8cc8-4136-b38f-a67df438f81e",
   "metadata": {
    "collapsed": true,
    "jupyter": {
     "outputs_hidden": true,
     "source_hidden": true
    },
    "tags": []
   },
   "outputs": [
    {
     "name": "stdout",
     "output_type": "stream",
     "text": [
      "0\n",
      "0\n",
      "81\n",
      "0\n",
      "0\n",
      "7\n",
      "9\n",
      "3"
     ]
    }
   ],
   "source": [
    "count : theorem (simple:        n.prod) : S?\n",
    "count : theorem (idempotent:    n.prod) : S?\n",
    "count : theorem (distributive:  n.prod) : S?\n",
    "count : theorem (distributive2: n.prod) : S?\n",
    "count : theorem (commutative:   n.prod) : S? \n",
    "count : theorem (involution:    n.prod) : S? \n",
    "count : theorem (nilpotent:     n.prod) : S? \n",
    "count : theorem (semilattice:   n.prod) : S?"
   ]
  },
  {
   "cell_type": "code",
   "execution_count": 6,
   "id": "06ae2c86-e4d2-46a4-bbfa-a2db1c2cec28",
   "metadata": {
    "collapsed": true,
    "jupyter": {
     "outputs_hidden": true,
     "source_hidden": true
    },
    "tags": []
   },
   "outputs": [
    {
     "name": "stdout",
     "output_type": "stream",
     "text": [
      "0\n",
      "0\n",
      "8\n",
      "0\n",
      "0\n",
      "6\n",
      "4\n",
      "4"
     ]
    }
   ],
   "source": [
    "count : theorem (simple:        n.sort) : S?\n",
    "count : theorem (idempotent:    n.sort) : S?\n",
    "count : theorem (distributive:  n.sort) : S?\n",
    "count : theorem (distributive2: n.sort) : S?\n",
    "count : theorem (commutative:   n.sort) : S? \n",
    "count : theorem (involution:    n.sort) : S? \n",
    "count : theorem (nilpotent:     n.sort) : S? \n",
    "count : theorem (semilattice:   n.sort) : S?"
   ]
  },
  {
   "cell_type": "code",
   "execution_count": 7,
   "id": "d85ad4a1-b998-417d-bc28-b681c1be6b2f",
   "metadata": {
    "collapsed": true,
    "jupyter": {
     "outputs_hidden": true,
     "source_hidden": true
    },
    "tags": []
   },
   "outputs": [
    {
     "name": "stdout",
     "output_type": "stream",
     "text": [
      "12\n",
      "0\n",
      "81\n",
      "0\n",
      "0\n",
      "7\n",
      "9\n",
      "3"
     ]
    }
   ],
   "source": [
    "count : theorem (simple:        n.ring) : S?\n",
    "count : theorem (idempotent:    n.ring) : S?\n",
    "count : theorem (distributive:  n.ring) : S?\n",
    "count : theorem (distributive2: n.ring) : S?\n",
    "count : theorem (commutative:   n.ring) : S? \n",
    "count : theorem (involution:    n.ring) : S? \n",
    "count : theorem (nilpotent:     n.ring) : S? \n",
    "count : theorem (semilattice:   n.ring) : S?"
   ]
  },
  {
   "cell_type": "code",
   "execution_count": 8,
   "id": "430b1d23-6ac7-48b5-b46a-d9aa4500c9bb",
   "metadata": {},
   "outputs": [
    {
     "name": "stdout",
     "output_type": "stream",
     "text": []
    }
   ],
   "source": [
    "Def COM : {count : theorem (commuting A:B) : S?} "
   ]
  },
  {
   "cell_type": "code",
   "execution_count": 9,
   "id": "2dbb047c-ff6a-4cc1-a38c-931c528bb5d9",
   "metadata": {},
   "outputs": [
    {
     "name": "stdout",
     "output_type": "stream",
     "text": []
    }
   ],
   "source": [
    "Let Spaces : n.type n.sum n.prod n.sort n.ring "
   ]
  },
  {
   "cell_type": "code",
   "execution_count": 10,
   "id": "485efe39-0869-4aa5-9fd7-d4a69c45a055",
   "metadata": {},
   "outputs": [
    {
     "name": "stdout",
     "output_type": "stream",
     "text": []
    }
   ],
   "source": [
    "Let Pairs : pairs Spaces? : Spaces?"
   ]
  },
  {
   "cell_type": "code",
   "execution_count": 11,
   "id": "8f49edca-12e7-4650-8f32-079e7cce978e",
   "metadata": {},
   "outputs": [
    {
     "name": "stdout",
     "output_type": "stream",
     "text": []
    }
   ],
   "source": [
    "Let Matrix : ap {(bin (arg:B) (right:B):COM (arg:B):(right:B))} : Pairs?"
   ]
  },
  {
   "cell_type": "code",
   "execution_count": 12,
   "id": "9a05e25c-ea52-4a61-9a4e-31d08291c134",
   "metadata": {},
   "outputs": [
    {
     "name": "stdout",
     "output_type": "stream",
     "text": [
      "(bin n.type n.type:0) (bin n.sum n.type:0) (bin n.prod n.type:0) (bin n.sort n.type:0) (bin n.ring n.type:0) (bin n.type n.sum:0) (bin n.sum n.sum:0) (bin n.prod n.sum:6) (bin n.sort n.sum:0) (bin n.ring n.sum:0) (bin n.type n.prod:0) (bin n.sum n.prod:6) (bin n.prod n.prod:0) (bin n.sort n.prod:0) (bin n.ring n.prod:6) (bin n.type n.sort:0) (bin n.sum n.sort:0) (bin n.prod n.sort:0) (bin n.sort n.sort:0) (bin n.ring n.sort:0) (bin n.type n.ring:0) (bin n.sum n.ring:0) (bin n.prod n.ring:6) (bin n.sort n.ring:0) (bin n.ring n.ring:0)"
     ]
    }
   ],
   "source": [
    "Matrix?"
   ]
  },
  {
   "cell_type": "code",
   "execution_count": 13,
   "id": "0c5fcc66-e504-4949-a609-259c238b37b3",
   "metadata": {},
   "outputs": [
    {
     "name": "stdout",
     "output_type": "stream",
     "text": [
      "0 0 0 0 0 0 0 6 0 0 0 6 0 0 6 0 0 0 0 0 0 0 6 0 0"
     ]
    }
   ],
   "source": [
    "right : Matrix?"
   ]
  },
  {
   "cell_type": "markdown",
   "id": "cf432bcd-2ca2-47fc-9845-2740db370557",
   "metadata": {},
   "source": [
    "|        | n.type | n.sum | n.prod | n.sort | n.ring |\n",
    "|--------|--------|-------|--------|--------|--------|\n",
    "| n.type |   0    |   0   |   0    |   0    |    0   | \n",
    "| n.sum  |   0    |   0   |   6    |   0    |    0   | \n",
    "| n.prod |   0    |   6   |   0    |   0    |    6   | \n",
    "| n.sort |   0    |   0   |   0    |   0    |    0   | \n",
    "| n.ring |   0    |   0   |   6    |   0    |    0   | \n",
    "\n",
    "The spaces commute except for n.sum and n.prod (as expected for a ring) and except for n.ring and n.prod (essentially the same thing)."
   ]
  },
  {
   "cell_type": "code",
   "execution_count": null,
   "id": "591137d4-a0e0-40ed-b649-4731ec2c5d10",
   "metadata": {},
   "outputs": [],
   "source": [
    "\n"
   ]
  }
 ],
 "metadata": {
  "kernelspec": {
   "display_name": "coda",
   "language": "",
   "name": "coda"
  },
  "language_info": {
   "file_extension": ".co",
   "mimetype": "text/plain",
   "name": "Any text"
  }
 },
 "nbformat": 4,
 "nbformat_minor": 5
}
