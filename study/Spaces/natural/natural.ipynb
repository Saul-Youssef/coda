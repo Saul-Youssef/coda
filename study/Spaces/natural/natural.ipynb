{
 "cells": [
  {
   "cell_type": "markdown",
   "id": "a487c04e-dac2-4ca6-8a1b-4d4047adc0d7",
   "metadata": {},
   "source": [
    "## natural numbers \n",
    "\n",
    "Pure data is, in a sense, made out of atoms (:) at the bottom, so it's a natural, organic operation to replace each atom in a sequence with the atom (:).  This is done by **atoms** which is defined as the data \n",
    "\n",
    "* def atoms : ap const (:) \n",
    "\n",
    "Of course, **atoms:X** is essentially a quantity - the natural number of atoms in X.  Any atom could be used instead of (:) for this purpose.  In fact, we'll use a \"stick\" instead to emphasize that we're doing primitive counting.\n",
    "\n",
    "* def stick : ap const | \n",
    "\n",
    "**atoms** and **stick** are spaces.  In the case of stick, the the space consists of sequences such as | | |, representing the natural number 3, or the empty sequence, representing the natural number zero.  The space property \n",
    "\n",
    "* stick : (stick : | | | ) (stick : | | )\n",
    "\n",
    "is equal to | | | | | (\"5\"), so stick embodies the sum of natural numbers. \n",
    "\n",
    "We want to treat the space **stick** analogously to **bool** to show common analyses that can be applied to all spaces. \n",
    "\n",
    "1. What are the basic properties of **stick**?\n",
    "2. What are the endomorphisms of **stick**?\n",
    "3. What are the endomorphisms of sequences of natural numbers?\n"
   ]
  },
  {
   "cell_type": "code",
   "execution_count": 1,
   "id": "c31e2340-e63f-4a4a-9985-97c10417f8db",
   "metadata": {},
   "outputs": [
    {
     "name": "stdout",
     "output_type": "stream",
     "text": [
      "(defaultTime:100)"
     ]
    }
   ],
   "source": [
    "defaultTime:100 \n",
    "import : dir co : up : ."
   ]
  },
  {
   "cell_type": "code",
   "execution_count": 2,
   "id": "a79a02be-7d3c-40e3-b025-c29ed550b64b",
   "metadata": {},
   "outputs": [
    {
     "name": "stdout",
     "output_type": "stream",
     "text": []
    }
   ],
   "source": [
    "Def stick : ap const |"
   ]
  },
  {
   "cell_type": "code",
   "execution_count": 3,
   "id": "e870c3a6-22f6-4078-a1f4-18af17494345",
   "metadata": {},
   "outputs": [
    {
     "name": "stdout",
     "output_type": "stream",
     "text": [
      "◎ ◎ ◎\n",
      "| | |"
     ]
    }
   ],
   "source": [
    "atoms : a b c \n",
    "stick : a b c "
   ]
  },
  {
   "cell_type": "markdown",
   "id": "cb9ffb4e-fedd-45bf-97f3-4a957e2fb71a",
   "metadata": {},
   "source": [
    "### 1. What are the basic properties of stick?"
   ]
  },
  {
   "cell_type": "code",
   "execution_count": 4,
   "id": "c183d07f-88b8-4eb0-bfac-b19efe6af664",
   "metadata": {},
   "outputs": [
    {
     "name": "stdout",
     "output_type": "stream",
     "text": [
      "| | | |\n",
      "| | | |\n",
      "| | | |"
     ]
    }
   ],
   "source": [
    "#\n",
    "#   stick is a distributive commutative space.  The data in stick are \n",
    "#   sequences of |s, thus representing natural numbers. \n",
    "#\n",
    "stick : a b c d \n",
    "stick : stick : a b c d \n",
    "stick : (stick : a b) (stick:c d)"
   ]
  },
  {
   "cell_type": "markdown",
   "id": "5e3cff2c-82b9-4df4-9aca-ae4b13140774",
   "metadata": {},
   "source": [
    "### Summary\n",
    "\n",
    "**stick** is a distributive commutative space where the elements of the \n",
    "space represent the natural numbers. "
   ]
  },
  {
   "cell_type": "markdown",
   "id": "27720655-fff0-4ef9-a5e7-2f7208636cf4",
   "metadata": {},
   "source": [
    "### 2. What are the endomorphisms of stick?\n",
    "\n",
    "Since stick is a space, stick\\*X\\*stick is an endomorphism for any data **X**.  Let's look at a few examples."
   ]
  },
  {
   "cell_type": "code",
   "execution_count": 5,
   "id": "1c845454-df64-4568-82a4-bd9857193209",
   "metadata": {},
   "outputs": [
    {
     "name": "stdout",
     "output_type": "stream",
     "text": []
    }
   ],
   "source": [
    "Def end : {End stick:B}"
   ]
  },
  {
   "cell_type": "code",
   "execution_count": 6,
   "id": "2540c8f5-62e1-4376-8460-fb4b088741a3",
   "metadata": {},
   "outputs": [
    {
     "name": "stdout",
     "output_type": "stream",
     "text": [
      "| | | | | |"
     ]
    }
   ],
   "source": [
    "#\n",
    "#   {B B} doubles it's input, so \n",
    "#   (end:{B B}) doubles natural numbers. \n",
    "#\n",
    "(end:{B B}) : | | | "
   ]
  },
  {
   "cell_type": "code",
   "execution_count": 7,
   "id": "3ac9d7e4-85fa-485e-988a-0f70534ecf56",
   "metadata": {},
   "outputs": [
    {
     "name": "stdout",
     "output_type": "stream",
     "text": [
      "| | |\n",
      "| |\n",
      "|\n",
      "|"
     ]
    }
   ],
   "source": [
    "#\n",
    "#   frontstrip | | removes | | from the front, thus \n",
    "#   subtracting at most 2 from a natural number.\n",
    "#\n",
    "frontstrip | | : | | | | |\n",
    "frontstrip | | : | | | |\n",
    "frontstrip | | : | | |  \n",
    "frontstrip | | : | | \n",
    "frontstrip | | : | \n",
    "frontstrip | | : "
   ]
  },
  {
   "cell_type": "code",
   "execution_count": 8,
   "id": "c938a9c7-0ad6-4272-b8e2-11aa56f268de",
   "metadata": {},
   "outputs": [
    {
     "name": "stdout",
     "output_type": "stream",
     "text": [
      "|"
     ]
    }
   ],
   "source": [
    "#\n",
    "#   Thus, while frontstrip | | effectively computes \n",
    "#   mod 2 of the input number.\n",
    "#\n",
    "while frontstrip | | : | | | | |"
   ]
  },
  {
   "cell_type": "code",
   "execution_count": 9,
   "id": "8fa1a33a-8cb7-4e9d-b9f0-d56f04ada5ef",
   "metadata": {},
   "outputs": [
    {
     "name": "stdout",
     "output_type": "stream",
     "text": []
    }
   ],
   "source": [
    "while frontstrip | | : | | | | "
   ]
  },
  {
   "cell_type": "code",
   "execution_count": 10,
   "id": "7ff147a7-ec29-4bf2-a077-6446648c506d",
   "metadata": {},
   "outputs": [
    {
     "name": "stdout",
     "output_type": "stream",
     "text": []
    }
   ],
   "source": [
    "#...motivating the definition \n",
    "\n",
    "Def mod : {while frontstrip A : B} "
   ]
  },
  {
   "cell_type": "code",
   "execution_count": 11,
   "id": "68510e1c-a812-4991-8768-4bcc019224a8",
   "metadata": {},
   "outputs": [
    {
     "name": "stdout",
     "output_type": "stream",
     "text": [
      "|"
     ]
    }
   ],
   "source": [
    "mod | | : | | | | |"
   ]
  },
  {
   "cell_type": "code",
   "execution_count": 12,
   "id": "8da759f4-ac22-46d4-9788-6b9eb4fecadc",
   "metadata": {},
   "outputs": [
    {
     "name": "stdout",
     "output_type": "stream",
     "text": [
      "|\n",
      "|\n",
      "|"
     ]
    }
   ],
   "source": [
    "#\n",
    "#   If we're putting in sticks by hand, we \n",
    "#   may omit end and stick for simplicity.\n",
    "#   I.e. the following are all the same \n",
    "#\n",
    "(end: mod | |) : stick : a b c d e \n",
    "(end: mod | |) : stick : | | | | |\n",
    "mod | | : | | | | | "
   ]
  },
  {
   "cell_type": "markdown",
   "id": "a9149ed4-3696-4cb3-b8f7-817088df0174",
   "metadata": {},
   "source": [
    "We have seen that the space stick itself is addition of natural numbers.  What about multiplication?  This naturally appears as endomorphisms mul A so that mul A applied to some sticks are the sticks repeated A times. This is easily done with **dup**."
   ]
  },
  {
   "cell_type": "code",
   "execution_count": 13,
   "id": "e8e8e01c-60c3-4b00-bf32-e9b5aa340bab",
   "metadata": {},
   "outputs": [
    {
     "name": "stdout",
     "output_type": "stream",
     "text": [
      "| | | | | |"
     ]
    }
   ],
   "source": [
    "dup | | : | | | "
   ]
  },
  {
   "cell_type": "code",
   "execution_count": 14,
   "id": "02bb5f5f-5629-43ad-82c4-998e0ea81a9e",
   "metadata": {},
   "outputs": [
    {
     "name": "stdout",
     "output_type": "stream",
     "text": []
    }
   ],
   "source": [
    "Def mul : {dup (stick:A) : B} "
   ]
  },
  {
   "cell_type": "code",
   "execution_count": 15,
   "id": "2a3ab588-9258-4fb5-97c1-ef6a661d54d2",
   "metadata": {},
   "outputs": [
    {
     "name": "stdout",
     "output_type": "stream",
     "text": [
      "| | | | | |"
     ]
    }
   ],
   "source": [
    "(end : mul | | ) : | | | "
   ]
  },
  {
   "cell_type": "markdown",
   "id": "7cf8d417-21f5-4b2e-8df8-529da8086fc3",
   "metadata": {},
   "source": [
    "Now let's examine what commutes with what.  Commuting endomorphisms can be \"structures on stick.\"  "
   ]
  },
  {
   "cell_type": "code",
   "execution_count": 16,
   "id": "8209d36f-3cc2-42f9-a1ba-457d448fb820",
   "metadata": {},
   "outputs": [
    {
     "name": "stdout",
     "output_type": "stream",
     "text": []
    }
   ],
   "source": [
    "#\n",
    "#   Create a sample of data from stick \n",
    "#\n",
    "Let S4 : (:) (:| |) (:| | |) (:| | | |) \n",
    "Let endos : (:pass) (:{B B}) (:post | | |) (:mul | |) (:mod | |)"
   ]
  },
  {
   "cell_type": "code",
   "execution_count": 17,
   "id": "fb1ecc0c-aa01-497d-92c6-da19ca6c180c",
   "metadata": {
    "tags": []
   },
   "outputs": [
    {
     "name": "stdout",
     "output_type": "stream",
     "text": [
      " (with (:pass) (:{B B}):) \n",
      " (with (:pass) (:post | | |):) \n",
      " (with (:pass) (:mul | |):) \n",
      " (with (:pass) (:mod | |):) \n",
      " (with (:{B B}) (:post | | |):| | | |) \n",
      " (with (:{B B}) (:mul | |):) \n",
      " (with (:{B B}) (:mod | |):|) \n",
      " (with (:post | | |) (:mul | |):| | | |) \n",
      " (with (:post | | |) (:mod | |):| | | |) \n",
      " (with (:mul | |) (:mod | |):|) \n"
     ]
    }
   ],
   "source": [
    "tab : dom 100 : ap {with (get:B) : stick : commutator (get:B) : S4?} : combination 2 : endos?"
   ]
  },
  {
   "cell_type": "markdown",
   "id": "0969d2e8-bc15-470e-8749-7b648ad8c248",
   "metadata": {
    "tags": []
   },
   "source": [
    "  |               |  double  |  add 3  | mul 2 | mod 2  | \n",
    "  |:-------------:|:-----:|:-----:|:----:|:------:|\n",
    "  |double         |   -   |   X   |   -  |   X    | \n",
    "  |add 3          |   -   |   -   |   -  |   X    |\n",
    "  |mul 2          |   -   |   -   |   -  |   X    |  \n",
    "  |mod 2          |   -   |   -   |   -  |   -    |"
   ]
  },
  {
   "cell_type": "markdown",
   "id": "7fc21854-726c-4803-8e55-910da2671a77",
   "metadata": {
    "tags": []
   },
   "source": [
    "### Summary \n",
    "\n",
    "Thus, we have defined **stick**.  Elements of **stick** are the natural numbers expressed as a sequence of | characters.  **stick** itself does natural number addition.  We have displayed a few endomorphisms \n",
    "\n",
    "1. {B B} - doubling.\n",
    "2. post | | | - add 3.\n",
    "3. mul | | | - multiply by 3.\n",
    "4. mod | | - natural number mod 2.\n",
    "\n",
    "Notice that (mul A:X Y) = (mul A:X) (mul A:Y) meaning that mul A is a algebraic distributive space, f(x+y) = f(x) + f(y), and it embodies \"multiplication distributes over addition\" for natural numbers.  \n",
    "\n",
    "Also, (mod A:X Y) = (mod A: (mod A:X) (mod A:Y)) meaning that mod A is an algebraic space.  Are there any others?  We shall answer in a search notebook. \n",
    "\n",
    "Already we see indication that algebraic spaces capture what's mathematically interesting.  Items 3 and 4 would be discussed in Math books, while 1. and 2. are not particularly interesting.  Nice! "
   ]
  },
  {
   "cell_type": "markdown",
   "id": "d6ab7f9f-6169-4466-8621-3e21b8921b67",
   "metadata": {
    "tags": []
   },
   "source": [
    "3. What are the endomorphisms of sequences of natural numbers?\n",
    "\n",
    "As with the **bool** space, we can create the space of sequences of natural numbers with \n",
    "\n",
    "* Seq n : stick \n",
    "\n",
    "where n is an atom.  This is a distributive space, so the neutral data is the empty sequence. "
   ]
  },
  {
   "cell_type": "code",
   "execution_count": 18,
   "id": "043de37b-d0f5-45bc-b28d-571b216bcbe6",
   "metadata": {
    "tags": []
   },
   "outputs": [
    {
     "name": "stdout",
     "output_type": "stream",
     "text": []
    }
   ],
   "source": [
    "Def n:\n",
    "Def N: Seq n : stick "
   ]
  },
  {
   "cell_type": "code",
   "execution_count": 19,
   "id": "da1f09b9-c3ca-4896-b2cb-aa751b36558b",
   "metadata": {
    "tags": []
   },
   "outputs": [
    {
     "name": "stdout",
     "output_type": "stream",
     "text": [
      "(n:| |) (n:| | |) (n:)\n",
      "(n:| |) (n:| | |) (n:)\n",
      "(n:| |) (n:| | |) (n:)"
     ]
    }
   ],
   "source": [
    "#\n",
    "#   N is a space, so the following should be the same \n",
    "#\n",
    "N : (n:| |) (n:| | |) (n:) \n",
    "N : N : (n:| |) (n:| | |) (n:) \n",
    "N : (N : (n:| |)) (N : (n:| | |) (n:)) "
   ]
  },
  {
   "cell_type": "code",
   "execution_count": 20,
   "id": "dafcde48-845b-4885-aafa-60087334f4b2",
   "metadata": {
    "tags": []
   },
   "outputs": [
    {
     "name": "stdout",
     "output_type": "stream",
     "text": []
    }
   ],
   "source": [
    "#\n",
    "#   As with bool, let E(X) be the general endomorphism N*X*N and let e(X) be the special case \n",
    "#   N*(put n)*X*(get n)*N \n",
    "#\n",
    "Def E : End N \n",
    "Def e : {End N : Down n : B}"
   ]
  },
  {
   "cell_type": "code",
   "execution_count": 21,
   "id": "bcc14042-c769-488c-95e5-f6c0ecbbb2a4",
   "metadata": {
    "tags": []
   },
   "outputs": [
    {
     "name": "stdout",
     "output_type": "stream",
     "text": [
      "(n:| |) (n:| | |) (n:)\n",
      "(n:| | | | |)"
     ]
    }
   ],
   "source": [
    "#\n",
    "#   (E:pass) is the identity on sequences \n",
    "#   (e:pass) is now natural number addition \n",
    "#\n",
    "(E:pass) : (n:| |) (n:| | |) (n:)\n",
    "(e:pass) : (n:| |) (n:| | |) (n:)"
   ]
  },
  {
   "cell_type": "code",
   "execution_count": 22,
   "id": "159a3806-d1e2-4c8a-b913-9de25a67747a",
   "metadata": {
    "tags": []
   },
   "outputs": [
    {
     "name": "stdout",
     "output_type": "stream",
     "text": [
      "(n:| |) (n:| | |) (n:) (n:| |) (n:| | |) (n:)\n",
      "(n:| | | | | | | | | |)\n",
      "(n:| | | |) (n:| | | | | |) (n:)"
     ]
    }
   ],
   "source": [
    "#\n",
    "#   (E:mul | |) repeats the sequence twice \n",
    "#   (e:mul | |) sums the sequence and multiplies by 2 \n",
    "#   (E:ap (e:mul | |)) doubles the value of each item in the sequence \n",
    "#\n",
    "(E:mul | |) : (n:| |) (n:| | |) (n:)\n",
    "(e:mul | |) : (n:| |) (n:| | |) (n:)\n",
    "(E:ap (e:mul | |)) : (n:| |) (n:| | |) (n:)"
   ]
  },
  {
   "cell_type": "code",
   "execution_count": 23,
   "id": "1842dc47-c7ac-4321-9d83-4873b7e328bd",
   "metadata": {
    "tags": []
   },
   "outputs": [
    {
     "name": "stdout",
     "output_type": "stream",
     "text": [
      "(n:| |) (n:| | |) (n:)\n",
      "(n:|)\n",
      "(n:) (n:|) (n:)"
     ]
    }
   ],
   "source": [
    "#\n",
    "#   (E:mod | |) does nothing as expected.\n",
    "#   (e:mod | |) gives mod 2 of the sum.\n",
    "#   (E:ap (e:mod | |)) computes the mod 2 of each natural number in the sequence. \n",
    "#\n",
    "(E:mod | |) : (n:| |) (n:| | |) (n:)\n",
    "(e:mod | |) : (n:| |) (n:| | |) (n:)\n",
    "(E:ap (e:mod | |)) : (n:| |) (n:| | |) (n:)"
   ]
  },
  {
   "cell_type": "code",
   "execution_count": 24,
   "id": "852f7b9f-37c5-4917-83b5-05ede5440819",
   "metadata": {},
   "outputs": [
    {
     "name": "stdout",
     "output_type": "stream",
     "text": []
    }
   ],
   "source": [
    "#\n",
    "#   We can find the minimum and maximum natural \n",
    "#   numbers sequences by using less and more \n",
    "#\n",
    "Def min : {put n : less (get n:A) : (get n:B)}\n",
    "Def max : {put n : more (get n:A) : (get n:B)}\n",
    "Def MIN : (E:aj min)\n",
    "Def MAX : (E:aj max)"
   ]
  },
  {
   "cell_type": "code",
   "execution_count": 25,
   "id": "a7303670-ccf6-4680-a238-1e4dcb805f2d",
   "metadata": {},
   "outputs": [
    {
     "name": "stdout",
     "output_type": "stream",
     "text": [
      "(n:|)\n",
      "(n:| | | | |)"
     ]
    }
   ],
   "source": [
    "MIN : (n:| | |) (n:|) (n:| | | | |) (n:| |)\n",
    "MAX : (n:| | |) (n:|) (n:| | | | |) (n:| |)"
   ]
  },
  {
   "cell_type": "code",
   "execution_count": 26,
   "id": "da4b094e-bc70-48ee-afa4-3a2fb46c2b4f",
   "metadata": {},
   "outputs": [
    {
     "name": "stdout",
     "output_type": "stream",
     "text": [
      "16\n",
      "(:Ident) (:Sum) (:Mul2) (:mul2) (:mul2a) (:Mod2) (:mod2) (:mod2a)"
     ]
    }
   ],
   "source": [
    "Let Ident: (E:pass)\n",
    "Let Sum  : (e:pass) \n",
    "Let Mul2 : (E:mul | |)\n",
    "Let mul2 : (e:mul | |)\n",
    "Let mul2a: (E:ap (e:mul | |))\n",
    "Let Mod2 : (E:mod | |)\n",
    "Let mod2 : (e:mod | |)\n",
    "Let mod2a: (E:ap (e:mod | |)) \n",
    "#\n",
    "#   Prepare to look at commutators NS is a sample of natural number sequences \n",
    "#\n",
    "Let NS : permutation 2 : (n:) (n:|) (n:| |) (n:| | |)\n",
    "count : NS?\n",
    "Let Endos : ap : Ident Sum Mul2 mul2 mul2a Mod2 mod2 mod2a \n",
    "Endos?"
   ]
  },
  {
   "cell_type": "code",
   "execution_count": 48,
   "id": "8d49347c-9920-479d-877d-ba2cabef9ab3",
   "metadata": {},
   "outputs": [
    {
     "name": "stdout",
     "output_type": "stream",
     "text": [
      "(defaultTime:1000)"
     ]
    }
   ],
   "source": [
    "defaultTime:1000"
   ]
  },
  {
   "cell_type": "code",
   "execution_count": 42,
   "id": "76eb5959-c7c1-4440-ab3e-7a7970cd223b",
   "metadata": {},
   "outputs": [
    {
     "name": "stdout",
     "output_type": "stream",
     "text": [
      "(:(:Ident) (:Sum)) (:(:Ident) (:Mul2)) (:(:Ident) (:mul2)) (:(:Ident) (:mul2a)) (:(:Ident) (:Mod2)) (:(:Ident) (:mod2)) (:(:Ident) (:mod2a)) (:(:Sum) (:Mul2)) (:(:Sum) (:mul2)) (:(:Sum) (:mul2a)) (:(:Sum) (:Mod2)) (:(:Sum) (:mod2)) (:(:Sum) (:mod2a)) (:(:Mul2) (:mul2)) (:(:Mul2) (:mul2a)) (:(:Mul2) (:Mod2)) (:(:Mul2) (:mod2)) (:(:Mul2) (:mod2a)) (:(:mul2) (:mul2a)) (:(:mul2) (:Mod2)) (:(:mul2) (:mod2)) (:(:mul2) (:mod2a)) (:(:mul2a) (:Mod2)) (:(:mul2a) (:mod2)) (:(:mul2a) (:mod2a)) (:(:Mod2) (:mod2)) (:(:Mod2) (:mod2a)) (:(:mod2) (:mod2a))"
     ]
    }
   ],
   "source": [
    "combination 2 : Endos?"
   ]
  },
  {
   "cell_type": "code",
   "execution_count": null,
   "id": "f2c10081-55f6-419d-b174-30d1357b8601",
   "metadata": {},
   "outputs": [],
   "source": [
    "tab : dom 300 : ap {with (get:B) : bool : commutator (get:B) : NS?} : combination 2 : Endos?"
   ]
  },
  {
   "cell_type": "code",
   "execution_count": null,
   "id": "821eeed2-b283-4f35-bb4f-5c8174f1c0f1",
   "metadata": {},
   "outputs": [],
   "source": []
  }
 ],
 "metadata": {
  "kernelspec": {
   "display_name": "coda",
   "language": "",
   "name": "coda"
  },
  "language_info": {
   "file_extension": ".co",
   "mimetype": "text/plain",
   "name": "Any text"
  }
 },
 "nbformat": 4,
 "nbformat_minor": 5
}
