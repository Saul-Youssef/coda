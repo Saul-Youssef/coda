{
 "cells": [
  {
   "cell_type": "markdown",
   "id": "984a0e02-0ed5-4bac-924d-b7835f264b46",
   "metadata": {},
   "source": [
    "| collect |  |\n",
    "|---|---|\n",
    "| Description | x | \n",
    "| Data | x | \n",
    "| Operation | x | \n",
    "| Simple? | x | \n",
    "| Distributive? | x | \n",
    "| Neutral element? | x | \n",
    "| Endomorphisms | x | "
   ]
  },
  {
   "cell_type": "code",
   "execution_count": 1,
   "id": "5e5acaf8-b89b-4efd-b07e-e8309ca81659",
   "metadata": {},
   "outputs": [
    {
     "name": "stdout",
     "output_type": "stream",
     "text": []
    }
   ],
   "source": [
    "import : dir co : up : ."
   ]
  },
  {
   "cell_type": "code",
   "execution_count": 2,
   "id": "bb70f54e-2fb1-45f2-9817-51b301c0b10a",
   "metadata": {},
   "outputs": [
    {
     "name": "stdout",
     "output_type": "stream",
     "text": []
    }
   ],
   "source": [
    "Let OP : collect "
   ]
  },
  {
   "cell_type": "code",
   "execution_count": 3,
   "id": "16377695-c213-4f7f-bbba-9df76b6bf633",
   "metadata": {},
   "outputs": [
    {
     "name": "stdout",
     "output_type": "stream",
     "text": [
      "0\n",
      "2924\n",
      "0"
     ]
    }
   ],
   "source": [
    "count : theorem (idempotent1:OP?) : S2?\n",
    "count : theorem (distributive1:OP?) : S2?\n",
    "count : theorem (simple:OP?) : S2?"
   ]
  },
  {
   "cell_type": "code",
   "execution_count": 6,
   "id": "0bf68639-7a79-493f-b549-fc171da986c7",
   "metadata": {},
   "outputs": [
    {
     "name": "stdout",
     "output_type": "stream",
     "text": [
      "0"
     ]
    }
   ],
   "source": [
    "count : theorem (distributive2:OP?) : S2?"
   ]
  },
  {
   "cell_type": "code",
   "execution_count": null,
   "id": "56aff576-5ab6-493b-94f0-896641f13e4e",
   "metadata": {},
   "outputs": [],
   "source": [
    "count : theorem (idempotent2:OP?) : "
   ]
  }
 ],
 "metadata": {
  "kernelspec": {
   "display_name": "coda",
   "language": "",
   "name": "coda"
  },
  "language_info": {
   "file_extension": ".co",
   "mimetype": "text/plain",
   "name": "Any text"
  }
 },
 "nbformat": 4,
 "nbformat_minor": 5
}
