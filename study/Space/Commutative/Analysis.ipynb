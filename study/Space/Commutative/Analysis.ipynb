{
 "cells": [
  {
   "cell_type": "code",
   "execution_count": 19,
   "id": "b145e065-ee32-4f83-88ae-34fe75f46290",
   "metadata": {},
   "outputs": [
    {
     "name": "stdout",
     "output_type": "stream",
     "text": []
    }
   ],
   "source": [
    "import : dir co : up : ."
   ]
  },
  {
   "cell_type": "code",
   "execution_count": 22,
   "id": "c969d09b-19bd-425d-9b5a-1f0be09607fb",
   "metadata": {},
   "outputs": [
    {
     "name": "stdout",
     "output_type": "stream",
     "text": []
    }
   ],
   "source": [
    "Def Test2 : ap {eval 100 : with : (bin (get:B) : count : theorem (commutative2:get:B) : A)}"
   ]
  },
  {
   "cell_type": "code",
   "execution_count": 27,
   "id": "0899c17b-5f75-4298-9b6b-d310bc135402",
   "metadata": {},
   "outputs": [
    {
     "name": "stdout",
     "output_type": "stream",
     "text": []
    }
   ],
   "source": [
    "Let SX : (:1 0) (:) (:2 3) "
   ]
  },
  {
   "cell_type": "code",
   "execution_count": 39,
   "id": "7d6549e0-ffc2-4dbf-9a74-bf76491c94c5",
   "metadata": {},
   "outputs": [
    {
     "name": "stdout",
     "output_type": "stream",
     "text": [
      "\u001b[;1mcode:\u001b[0m\n",
      "    \u001b[34;7mrep\u001b[0m\n",
      "\u001b[;1mmodule:\u001b[0m\n",
      "    Sequence\n",
      "\u001b[;1msummary:\u001b[0m\n",
      "    Repeats the arguments for each input.\n",
      "\u001b[;1mdescription:\u001b[0m\n",
      "\u001b[;1mpath:\u001b[0m\n",
      "    /Users/youssef/coda/py/Sequence.py\n",
      "\u001b[;1mdemos:\u001b[0m\n",
      "    1. \u001b[35;4mrep 5 : x\u001b[0m\n",
      "    2. \u001b[35;4mrep 4 : a (:)\u001b[0m\n"
     ]
    }
   ],
   "source": [
    "help : rep"
   ]
  },
  {
   "cell_type": "code",
   "execution_count": 55,
   "id": "9dd22db6-cf72-437d-9bb3-9338b06d1826",
   "metadata": {},
   "outputs": [
    {
     "name": "stdout",
     "output_type": "stream",
     "text": [
      "\u001b[;1mcode:\u001b[0m\n",
      "    \u001b[34;7miff\u001b[0m\n",
      "\u001b[;1mmodule:\u001b[0m\n",
      "    Logic\n",
      "\u001b[;1msummary:\u001b[0m\n",
      "    Binary logical operators with standard truth tables\n",
      "\u001b[;1mdescription:\u001b[0m\n",
      "\u001b[;1mpath:\u001b[0m\n",
      "    /Users/youssef/coda/py/Logic.py\n",
      "\u001b[;1mdemos:\u001b[0m\n",
      "    1. \u001b[35;4mor a : b\u001b[0m\n",
      "    2. \u001b[35;4mor a :\u001b[0m\n",
      "    3. \u001b[35;4mor : a\u001b[0m\n",
      "    4. \u001b[35;4mor :\u001b[0m\n",
      "    5. \u001b[35;4mand a : b\u001b[0m\n",
      "    6. \u001b[35;4mand a :\u001b[0m\n",
      "    7. \u001b[35;4mnor a : b\u001b[0m\n",
      "    8. \u001b[35;4mxor a : b\u001b[0m\n",
      "    9. \u001b[35;4mxnor a : b\u001b[0m\n",
      "    10. \u001b[35;4miff a : b\u001b[0m\n",
      "    11. \u001b[35;4mnand a : b\u001b[0m\n",
      "    12. \u001b[35;4mimply a : b\u001b[0m\n"
     ]
    }
   ],
   "source": [
    "help : iff"
   ]
  },
  {
   "cell_type": "code",
   "execution_count": 29,
   "id": "90417b38-be97-4879-a1fa-9c78b985362b",
   "metadata": {},
   "outputs": [
    {
     "name": "stdout",
     "output_type": "stream",
     "text": [
      "\n",
      " (with:(bin ints:6)) \n",
      " (with:(bin is:0)) \n",
      " (with:(bin isnt:2)) \n",
      " (with:(bin last:(count:(if (not:(equal (last 1 0:1 0 1 0):(last 1 0:1 0 1 0))):(with (def y:{A} 1 0) (def z:{A} 1 0) (def x:{A} 1 0):(equal (last 1 0:1 0 1 0):(last 1 0:1 0 1 0)))) (if (not:(equal (last 2 3:1 0 1 0):(last 2 3:1 0 1 0))):(with (def y:{A} 1 0) (def z:{A} 1 0) (def x:{A} 2 3):(equal (last 2 3:1 0 1 0):(last 2 3:1 0 1 0)))) (if (not:(equal (last 1 0:1 0):(last 1 0:1 0))):(with (def y:{A} 1 0) (def z:{A}) (def x:{A} 1 0):(equal (last 1 0:1 0):(last 1 0:1 0)))) (if (not:(equal (last 2 3:1 0):(last 2 3:1 0))):(with (def y:{A} 1 0) (def z:{A}) (def x:{A} 2 3):(equal (last 2 3:1 0):(last 2 3:1 0)))) (if (not:(equal (last 1 0:1 0 2 3):(last 1 0:2 3 1 0))):(with (def y:{A} 1 0) (def z:{A} 2 3) (def x:{A} 1 0):(equal (last 1 0:1 0 2 3):(last 1 0:2 3 1 0)))) (with (def y:{A} 1 0) (def z:{A} 2 3) (def x:{A}):◎ ◎) (if (not:(equal (last 2 3:1 0 2 3):(last 2 3:2 3 1 0))):(with (def y:{A} 1 0) (def z:{A} 2 3) (def x:{A} 2 3):(equal (last 2 3:1 0 2 3):(last 2 3:2 3 1 0)))) (if (not:(equal (last 1 0:1 0):(last 1 0:1 0))):(with (def y:{A}) (def z:{A} 1 0) (def x:{A} 1 0):(equal (last 1 0:1 0):(last 1 0:1 0)))) (if (not:(equal (last 2 3:1 0):(last 2 3:1 0))):(with (def y:{A}) (def z:{A} 1 0) (def x:{A} 2 3):(equal (last 2 3:1 0):(last 2 3:1 0)))) (if (not:(equal (last 1 0:2 3):(last 1 0:2 3))):(with (def y:{A}) (def z:{A} 2 3) (def x:{A} 1 0):(equal (last 1 0:2 3):(last 1 0:2 3)))) (if (not:(equal (last 2 3:2 3):(last 2 3:2 3))):(with (def y:{A}) (def z:{A} 2 3) (def x:{A} 2 3):(equal (last 2 3:2 3):(last 2 3:2 3)))) (if (not:(equal (last 1 0:2 3 1 0):(last 1 0:1 0 2 3))):(with (def y:{A} 2 3) (def z:{A} 1 0) (def x:{A} 1 0):(equal (last 1 0:2 3 1 0):(last 1 0:1 0 2 3)))) (with (def y:{A} 2 3) (def z:{A} 1 0) (def x:{A}):◎ ◎) (if (not:(equal (last 2 3:2 3 1 0):(last 2 3:1 0 2 3))):(with (def y:{A} 2 3) (def z:{A} 1 0) (def x:{A} 2 3):(equal (last 2 3:2 3 1 0):(last 2 3:1 0 2 3)))) (if (not:(equal (last 1 0:2 3):(last 1 0:2 3))):(with (def y:{A} 2 3) (def z:{A}) (def x:{A} 1 0):(equal (last 1 0:2 3):(last 1 0:2 3)))) (if (not:(equal (last 2 3:2 3):(last 2 3:2 3))):(with (def y:{A} 2 3) (def z:{A}) (def x:{A} 2 3):(equal (last 2 3:2 3):(last 2 3:2 3)))) (if (not:(equal (last 1 0:2 3 2 3):(last 1 0:2 3 2 3))):(with (def y:{A} 2 3) (def z:{A} 2 3) (def x:{A} 1 0):(equal (last 1 0:2 3 2 3):(last 1 0:2 3 2 3)))) (if (not:(equal (last 2 3:2 3 2 3):(last 2 3:2 3 2 3))):(with (def y:{A} 2 3) (def z:{A} 2 3) (def x:{A} 2 3):(equal (last 2 3:2 3 2 3):(last 2 3:2 3 2 3))))))) \n",
      " (with:(bin left:0)) \n",
      " (with:(bin nat:0)) \n",
      " (with:(bin nats:6)) \n",
      " (with:(bin nif:4)) \n",
      " (with:(bin nth:(count:(if (not:(equal (nth1 0:1 0 1 0):(nth1 0:1 0 1 0))):(with (def y:{A} 1 0) (def z:{A} 1 0) (def x:{A} 1 0):(equal (nth1 0:1 0 1 0):(nth1 0:1 0 1 0)))) (if (not:(equal (nth1 0:1 0):(nth1 0:1 0))):(with (def y:{A} 1 0) (def z:{A}) (def x:{A} 1 0):(equal (nth1 0:1 0):(nth1 0:1 0)))) (with (def y:{A} 1 0) (def z:{A} 2 3) (def x:{A} 1 0):◎ ◎ (equal (nth1 0:1 0 2 3):(nth1 0:2 3 1 0))) (with (def y:{A} 1 0) (def z:{A} 2 3) (def x:{A} 2 3):◎ ◎ ◎ ◎) (if (not:(equal (nth1 0:1 0):(nth1 0:1 0))):(with (def y:{A}) (def z:{A} 1 0) (def x:{A} 1 0):(equal (nth1 0:1 0):(nth1 0:1 0)))) (if (not:(equal (nth1 0:2 3):(nth1 0:2 3))):(with (def y:{A}) (def z:{A} 2 3) (def x:{A} 1 0):(equal (nth1 0:2 3):(nth1 0:2 3)))) (with (def y:{A} 2 3) (def z:{A} 1 0) (def x:{A} 1 0):◎ ◎ (equal (nth1 0:2 3 1 0):(nth1 0:1 0 2 3))) (with (def y:{A} 2 3) (def z:{A} 1 0) (def x:{A} 2 3):◎ ◎ ◎ ◎) (if (not:(equal (nth1 0:2 3):(nth1 0:2 3))):(with (def y:{A} 2 3) (def z:{A}) (def x:{A} 1 0):(equal (nth1 0:2 3):(nth1 0:2 3)))) (if (not:(equal (nth1 0:2 3 2 3):(nth1 0:2 3 2 3))):(with (def y:{A} 2 3) (def z:{A} 2 3) (def x:{A} 1 0):(equal (nth1 0:2 3 2 3):(nth1 0:2 3 2 3))))))) \n",
      " (with:(bin nth1:4))"
     ]
    }
   ],
   "source": [
    "ap pre <\\n> : Test2 SX? : first 10 : skip 29 : T0?"
   ]
  },
  {
   "cell_type": "code",
   "execution_count": 20,
   "id": "0e21c1b7-68a1-4524-b957-def579cf8dfa",
   "metadata": {},
   "outputs": [
    {
     "name": "stdout",
     "output_type": "stream",
     "text": [
      "\n",
      " (:arg) \n",
      " (:bin) \n",
      " (:by) \n",
      " (:co) \n",
      " (:code_sort) \n",
      " (:collect) \n",
      " (:count) \n",
      " (:domain) \n",
      " (:equiv) \n",
      " (:first) \n",
      " (:float_div) \n",
      " (:float_inv) \n",
      " (:float_max) \n",
      " (:float_min) \n",
      " (:float_prod) \n",
      " (:float_sort) \n",
      " (:float_sum) \n",
      " (:floats) \n",
      " (:get) \n",
      " (:has) \n",
      " (:hasnt) \n",
      " (:if) \n",
      " (:int_div) \n",
      " (:int_inv) \n",
      " (:int_max) \n",
      " (:int_min) \n",
      " (:int_prod) \n",
      " (:int_sort) \n",
      " (:int_sum) \n",
      " (:ints) \n",
      " (:is) \n",
      " (:isnt) \n",
      " (:last) \n",
      " (:left) \n",
      " (:nat) \n",
      " (:nats) \n",
      " (:nif) \n",
      " (:nth) \n",
      " (:nth1) \n",
      " (:null) \n",
      " (:once) \n",
      " (:pass) \n",
      " (:plus) \n",
      " (:post) \n",
      " (:pre) \n",
      " (:prod) \n",
      " (:put) \n",
      " (:rep) \n",
      " (:rev) \n",
      " (:right) \n",
      " (:skip) \n",
      " (:star) \n",
      " (:sum) \n",
      " (:tail)"
     ]
    }
   ],
   "source": [
    "ap pre <\\n> : T0?"
   ]
  },
  {
   "cell_type": "code",
   "execution_count": 1,
   "id": "5202a36d-ddc6-4dc9-8001-166f8af865b8",
   "metadata": {},
   "outputs": [
    {
     "name": "stdout",
     "output_type": "stream",
     "text": []
    }
   ],
   "source": [
    "Let R0 : in : R0 "
   ]
  },
  {
   "cell_type": "code",
   "execution_count": 2,
   "id": "cd3e4d1d-872d-45a8-81da-7a256f20f0ba",
   "metadata": {},
   "outputs": [
    {
     "name": "stdout",
     "output_type": "stream",
     "text": [
      "10"
     ]
    }
   ],
   "source": [
    "count : R0?"
   ]
  },
  {
   "cell_type": "code",
   "execution_count": 3,
   "id": "b3d7050b-eeb0-4197-9808-ca03b07be82c",
   "metadata": {},
   "outputs": [
    {
     "name": "stdout",
     "output_type": "stream",
     "text": [
      "(with:(bin arg:0))"
     ]
    }
   ],
   "source": [
    "first : R0?"
   ]
  },
  {
   "cell_type": "code",
   "execution_count": 5,
   "id": "9c52df18-9867-49fb-95dd-96349374fc3d",
   "metadata": {},
   "outputs": [
    {
     "name": "stdout",
     "output_type": "stream",
     "text": [
      "(with:(bin arg:0)) \n",
      " (with:(bin bin:24)) \n",
      " (with:(bin by:24)) \n",
      " (with:(bin co:0)) \n",
      " (with:(bin code_sort:0)) \n",
      " (with:(bin collect:(count:(if (not:(commutative2:collect)):(with:(commutative2:collect)))))) \n",
      " (with:(bin count:(count:(if (not:(commutative2:count)):(with:(commutative2:count)))))) \n",
      " (with:(bin domain:(count:(if (not:(commutative2:domain)):(with:(commutative2:domain)))))) \n",
      " (with:(bin equiv:(count:(if (not:(commutative2:equiv)):(with:(commutative2:equiv)))))) \n",
      " (with:(bin first:(count:(if (not:(commutative2:first)):(with:(commutative2:first)))))) \n"
     ]
    }
   ],
   "source": [
    "ap post <\\n> : R0?"
   ]
  },
  {
   "cell_type": "code",
   "execution_count": 10,
   "id": "0ada7691-d06c-45c4-a6e0-b35dcad65158",
   "metadata": {},
   "outputs": [
    {
     "name": "stdout",
     "output_type": "stream",
     "text": [
      "(with:(bin collect:(count:(if (not:(commutative2:collect)):(with:(commutative2:collect)))))) \n"
     ]
    }
   ],
   "source": [
    "ap post <\\n> : eval 100 : nth 6 : R0?"
   ]
  },
  {
   "cell_type": "code",
   "execution_count": 6,
   "id": "5170cb01-603d-49e4-9c3d-1749225ad701",
   "metadata": {},
   "outputs": [
    {
     "name": "stdout",
     "output_type": "stream",
     "text": []
    }
   ],
   "source": [
    "Let R1 : in : R1"
   ]
  },
  {
   "cell_type": "code",
   "execution_count": 13,
   "id": "79bedc29-fa92-4f88-9d15-7b63e2391465",
   "metadata": {},
   "outputs": [
    {
     "name": "stdout",
     "output_type": "stream",
     "text": [
      "75"
     ]
    }
   ],
   "source": [
    "count : R1?"
   ]
  },
  {
   "cell_type": "code",
   "execution_count": 14,
   "id": "b1061324-707a-4b57-8da7-16987d6b3ce8",
   "metadata": {},
   "outputs": [
    {
     "name": "stdout",
     "output_type": "stream",
     "text": [
      "(with:(bin =:24))"
     ]
    }
   ],
   "source": [
    "first : R1?"
   ]
  },
  {
   "cell_type": "code",
   "execution_count": 15,
   "id": "3535d206-111e-4f90-8e6c-7469d9c4a4d3",
   "metadata": {},
   "outputs": [
    {
     "name": "stdout",
     "output_type": "stream",
     "text": [
      "(with:(bin =:24)) \n",
      " (with:(bin and:0)) \n",
      " (with:(bin ap:(count:(if (not:(equal (a b:a) (a b:b) (a b:a) (a b:b):(a b:a) (a b:b) (a b:a) (a b:b))):(with (def y:{A} a b) (def z:{A} a b) (def x:{A} a b):(equal (a b:a) (a b:b) (a b:a) (a b:b):(a b:a) (a b:b) (a b:a) (a b:b)))) (if (not:(equal (a a:a) (a a:b) (a a:a) (a a:b):(a a:a) (a a:b) (a a:a) (a a:b))):(with (def y:{A} a b) (def z:{A} a b) (def x:{A} a a):(equal (a a:a) (a a:b) (a a:a) (a a:b):(a a:a) (a a:b) (a a:a) (a a:b)))) (if (not:(equal (0 1:a) (0 1:b) (0 1:a) (0 1:b):(0 1:a) (0 1:b) (0 1:a) (0 1:b))):(with (def y:{A} a b) (def z:{A} a b) (def x:{A} 0 1):(equal (0 1:a) (0 1:b) (0 1:a) (0 1:b):(0 1:a) (0 1:b) (0 1:a) (0 1:b)))) (if (not:(equal (a b:a) (a b:b) (a b:a) (a b:a):(a b:a) (a b:a) (a b:a) (a b:b))):(with (def y:{A} a b) (def z:{A} a a) (def x:{A} a b):(equal (a b:a) (a b:b) (a b:a) (a b:a):(a b:a) (a b:a) (a b:a) (a b:b)))) (if (not:(equal (a a:a) (a a:b) (a a:a) (a a:a):(a a:a) (a a:a) (a a:a) (a a:b))):(with (def y:{A} a b) (def z:{A} a a) (def x:{A} a a):(equal (a a:a) (a a:b) (a a:a) (a a:a):(a a:a) (a a:a) (a a:a) (a a:b)))) (with (def y:{A} a b) (def z:{A} a a) (def x:{A}):◎ ◎ ◎ ◎) (if (not:(equal (0 1:a) (0 1:b) (0 1:a) (0 1:a):(0 1:a) (0 1:a) (0 1:a) (0 1:b))):(with (def y:{A} a b) (def z:{A} a a) (def x:{A} 0 1):(equal (0 1:a) (0 1:b) (0 1:a) (0 1:a):(0 1:a) (0 1:a) (0 1:a) (0 1:b)))) (if (not:(equal (a b:a) (a b:b):(a b:a) (a b:b))):(with (def y:{A} a b) (def z:{A}) (def x:{A} a b):(equal (a b:a) (a b:b):(a b:a) (a b:b)))) (if (not:(equal (a a:a) (a a:b):(a a:a) (a a:b))):(with (def y:{A} a b) (def z:{A}) (def x:{A} a a):(equal (a a:a) (a a:b):(a a:a) (a a:b)))) (if (not:(equal (0 1:a) (0 1:b):(0 1:a) (0 1:b))):(with (def y:{A} a b) (def z:{A}) (def x:{A} 0 1):(equal (0 1:a) (0 1:b):(0 1:a) (0 1:b)))) (if (not:(equal (a b:a) (a b:b) (a b:0) (a b:1):(a b:0) (a b:1) (a b:a) (a b:b))):(with (def y:{A} a b) (def z:{A} 0 1) (def x:{A} a b):(equal (a b:a) (a b:b) (a b:0) (a b:1):(a b:0) (a b:1) (a b:a) (a b:b)))) (if (not:(equal (a a:a) (a a:b) (a a:0) (a a:1):(a a:0) (a a:1) (a a:a) (a a:b))):(with (def y:{A} a b) (def z:{A} 0 1) (def x:{A} a a):(equal (a a:a) (a a:b) (a a:0) (a a:1):(a a:0) (a a:1) (a a:a) (a a:b)))) (with (def y:{A} a b) (def z:{A} 0 1) (def x:{A}):◎ ◎ ◎ ◎ ◎ ◎ ◎ ◎ ◎ ◎ ◎ ◎ ◎ ◎) (if (not:(equal (0 1:a) (0 1:b) (0 1:0) (0 1:1):(0 1:0) (0 1:1) (0 1:a) (0 1:b))):(with (def y:{A} a b) (def z:{A} 0 1) (def x:{A} 0 1):(equal (0 1:a) (0 1:b) (0 1:0) (0 1:1):(0 1:0) (0 1:1) (0 1:a) (0 1:b)))) (if (not:(equal (a b:a) (a b:a) (a b:a) (a b:b):(a b:a) (a b:b) (a b:a) (a b:a))):(with (def y:{A} a a) (def z:{A} a b) (def x:{A} a b):(equal (a b:a) (a b:a) (a b:a) (a b:b):(a b:a) (a b:b) (a b:a) (a b:a)))) (if (not:(equal (a a:a) (a a:a) (a a:a) (a a:b):(a a:a) (a a:b) (a a:a) (a a:a))):(with (def y:{A} a a) (def z:{A} a b) (def x:{A} a a):(equal (a a:a) (a a:a) (a a:a) (a a:b):(a a:a) (a a:b) (a a:a) (a a:a)))) (with (def y:{A} a a) (def z:{A} a b) (def x:{A}):◎ ◎ ◎ ◎) (if (not:(equal (0 1:a) (0 1:a) (0 1:a) (0 1:b):(0 1:a) (0 1:b) (0 1:a) (0 1:a))):(with (def y:{A} a a) (def z:{A} a b) (def x:{A} 0 1):(equal (0 1:a) (0 1:a) (0 1:a) (0 1:b):(0 1:a) (0 1:b) (0 1:a) (0 1:a)))) (if (not:(equal (a b:a) (a b:a) (a b:a) (a b:a):(a b:a) (a b:a) (a b:a) (a b:a))):(with (def y:{A} a a) (def z:{A} a a) (def x:{A} a b):(equal (a b:a) (a b:a) (a b:a) (a b:a):(a b:a) (a b:a) (a b:a) (a b:a)))) (if (not:(equal (a a:a) (a a:a) (a a:a) (a a:a):(a a:a) (a a:a) (a a:a) (a a:a))):(with (def y:{A} a a) (def z:{A} a a) (def x:{A} a a):(equal (a a:a) (a a:a) (a a:a) (a a:a):(a a:a) (a a:a) (a a:a) (a a:a)))) (if (not:(equal (0 1:a) (0 1:a) (0 1:a) (0 1:a):(0 1:a) (0 1:a) (0 1:a) (0 1:a))):(with (def y:{A} a a) (def z:{A} a a) (def x:{A} 0 1):(equal (0 1:a) (0 1:a) (0 1:a) (0 1:a):(0 1:a) (0 1:a) (0 1:a) (0 1:a)))) (if (not:(equal (a b:a) (a b:a):(a b:a) (a b:a))):(with (def y:{A} a a) (def z:{A}) (def x:{A} a b):(equal (a b:a) (a b:a):(a b:a) (a b:a)))) (if (not:(equal (a a:a) (a a:a):(a a:a) (a a:a))):(with (def y:{A} a a) (def z:{A}) (def x:{A} a a):(equal (a a:a) (a a:a):(a a:a) (a a:a)))) (if (not:(equal (0 1:a) (0 1:a):(0 1:a) (0 1:a))):(with (def y:{A} a a) (def z:{A}) (def x:{A} 0 1):(equal (0 1:a) (0 1:a):(0 1:a) (0 1:a)))) (if (not:(equal (a b:a) (a b:a) (a b:0) (a b:1):(a b:0) (a b:1) (a b:a) (a b:a))):(with (def y:{A} a a) (def z:{A} 0 1) (def x:{A} a b):(equal (a b:a) (a b:a) (a b:0) (a b:1):(a b:0) (a b:1) (a b:a) (a b:a)))) (if (not:(equal (a a:a) (a a:a) (a a:0) (a a:1):(a a:0) (a a:1) (a a:a) (a a:a))):(with (def y:{A} a a) (def z:{A} 0 1) (def x:{A} a a):(equal (a a:a) (a a:a) (a a:0) (a a:1):(a a:0) (a a:1) (a a:a) (a a:a)))) (with (def y:{A} a a) (def z:{A} 0 1) (def x:{A}):◎ ◎ ◎ ◎ ◎ ◎ ◎ ◎ ◎ ◎) (if (not:(equal (0 1:a) (0 1:a) (0 1:0) (0 1:1):(0 1:0) (0 1:1) (0 1:a) (0 1:a))):(with (def y:{A} a a) (def z:{A} 0 1) (def x:{A} 0 1):(equal (0 1:a) (0 1:a) (0 1:0) (0 1:1):(0 1:0) (0 1:1) (0 1:a) (0 1:a)))) (if (not:(equal (a b:a) (a b:b):(a b:a) (a b:b))):(with (def y:{A}) (def z:{A} a b) (def x:{A} a b):(equal (a b:a) (a b:b):(a b:a) (a b:b)))) (if (not:(equal (a a:a) (a a:b):(a a:a) (a a:b))):(with (def y:{A}) (def z:{A} a b) (def x:{A} a a):(equal (a a:a) (a a:b):(a a:a) (a a:b)))) (if (not:(equal (0 1:a) (0 1:b):(0 1:a) (0 1:b))):(with (def y:{A}) (def z:{A} a b) (def x:{A} 0 1):(equal (0 1:a) (0 1:b):(0 1:a) (0 1:b)))) (if (not:(equal (a b:a) (a b:a):(a b:a) (a b:a))):(with (def y:{A}) (def z:{A} a a) (def x:{A} a b):(equal (a b:a) (a b:a):(a b:a) (a b:a)))) (if (not:(equal (a a:a) (a a:a):(a a:a) (a a:a))):(with (def y:{A}) (def z:{A} a a) (def x:{A} a a):(equal (a a:a) (a a:a):(a a:a) (a a:a)))) (if (not:(equal (0 1:a) (0 1:a):(0 1:a) (0 1:a))):(with (def y:{A}) (def z:{A} a a) (def x:{A} 0 1):(equal (0 1:a) (0 1:a):(0 1:a) (0 1:a)))) (if (not:(equal (a b:0) (a b:1):(a b:0) (a b:1))):(with (def y:{A}) (def z:{A} 0 1) (def x:{A} a b):(equal (a b:0) (a b:1):(a b:0) (a b:1)))) (if (not:(equal (a a:0) (a a:1):(a a:0) (a a:1))):(with (def y:{A}) (def z:{A} 0 1) (def x:{A} a a):(equal (a a:0) (a a:1):(a a:0) (a a:1)))) (if (not:(equal (0 1:0) (0 1:1):(0 1:0) (0 1:1))):(with (def y:{A}) (def z:{A} 0 1) (def x:{A} 0 1):(equal (0 1:0) (0 1:1):(0 1:0) (0 1:1)))) (if (not:(equal (a b:0) (a b:1) (a b:a) (a b:b):(a b:a) (a b:b) (a b:0) (a b:1))):(with (def y:{A} 0 1) (def z:{A} a b) (def x:{A} a b):(equal (a b:0) (a b:1) (a b:a) (a b:b):(a b:a) (a b:b) (a b:0) (a b:1)))) (if (not:(equal (a a:0) (a a:1) (a a:a) (a a:b):(a a:a) (a a:b) (a a:0) (a a:1))):(with (def y:{A} 0 1) (def z:{A} a b) (def x:{A} a a):(equal (a a:0) (a a:1) (a a:a) (a a:b):(a a:a) (a a:b) (a a:0) (a a:1)))) (with (def y:{A} 0 1) (def z:{A} a b) (def x:{A}):◎ ◎ ◎ ◎ ◎ ◎ ◎ ◎ ◎ ◎ ◎ ◎ ◎ ◎) (if (not:(equal (0 1:0) (0 1:1) (0 1:a) (0 1:b):(0 1:a) (0 1:b) (0 1:0) (0 1:1))):(with (def y:{A} 0 1) (def z:{A} a b) (def x:{A} 0 1):(equal (0 1:0) (0 1:1) (0 1:a) (0 1:b):(0 1:a) (0 1:b) (0 1:0) (0 1:1)))) (if (not:(equal (a b:0) (a b:1) (a b:a) (a b:a):(a b:a) (a b:a) (a b:0) (a b:1))):(with (def y:{A} 0 1) (def z:{A} a a) (def x:{A} a b):(equal (a b:0) (a b:1) (a b:a) (a b:a):(a b:a) (a b:a) (a b:0) (a b:1)))) (if (not:(equal (a a:0) (a a:1) (a a:a) (a a:a):(a a:a) (a a:a) (a a:0) (a a:1))):(with (def y:{A} 0 1) (def z:{A} a a) (def x:{A} a a):(equal (a a:0) (a a:1) (a a:a) (a a:a):(a a:a) (a a:a) (a a:0) (a a:1)))) (with (def y:{A} 0 1) (def z:{A} a a) (def x:{A}):◎ ◎ ◎ ◎ ◎ ◎ ◎ ◎ ◎ ◎) (if (not:(equal (0 1:0) (0 1:1) (0 1:a) (0 1:a):(0 1:a) (0 1:a) (0 1:0) (0 1:1))):(with (def y:{A} 0 1) (def z:{A} a a) (def x:{A} 0 1):(equal (0 1:0) (0 1:1) (0 1:a) (0 1:a):(0 1:a) (0 1:a) (0 1:0) (0 1:1)))) (if (not:(equal (a b:0) (a b:1):(a b:0) (a b:1))):(with (def y:{A} 0 1) (def z:{A}) (def x:{A} a b):(equal (a b:0) (a b:1):(a b:0) (a b:1)))) (if (not:(equal (a a:0) (a a:1):(a a:0) (a a:1))):(with (def y:{A} 0 1) (def z:{A}) (def x:{A} a a):(equal (a a:0) (a a:1):(a a:0) (a a:1)))) (if (not:(equal (0 1:0) (0 1:1):(0 1:0) (0 1:1))):(with (def y:{A} 0 1) (def z:{A}) (def x:{A} 0 1):(equal (0 1:0) (0 1:1):(0 1:0) (0 1:1)))) (if (not:(equal (a b:0) (a b:1) (a b:0) (a b:1):(a b:0) (a b:1) (a b:0) (a b:1))):(with (def y:{A} 0 1) (def z:{A} 0 1) (def x:{A} a b):(equal (a b:0) (a b:1) (a b:0) (a b:1):(a b:0) (a b:1) (a b:0) (a b:1)))) (if (not:(equal (a a:0) (a a:1) (a a:0) (a a:1):(a a:0) (a a:1) (a a:0) (a a:1))):(with (def y:{A} 0 1) (def z:{A} 0 1) (def x:{A} a a):(equal (a a:0) (a a:1) (a a:0) (a a:1):(a a:0) (a a:1) (a a:0) (a a:1)))) (if (not:(equal (0 1:0) (0 1:1) (0 1:0) (0 1:1):(0 1:0) (0 1:1) (0 1:0) (0 1:1))):(with (def y:{A} 0 1) (def z:{A} 0 1) (def x:{A} 0 1):(equal (0 1:0) (0 1:1) (0 1:0) (0 1:1):(0 1:0) (0 1:1) (0 1:0) (0 1:1))))))) \n",
      " (with:(bin aq:0)) \n",
      " (with:(bin ar:(count:(if (not:(equal (a b:a) (a b:b) (a b:a) (a b:b):(a b:a) (a b:b) (a b:a) (a b:b))):(with (def y:{A} a b) (def z:{A} a b) (def x:{A} a b):(equal (a b:a) (a b:b) (a b:a) (a b:b):(a b:a) (a b:b) (a b:a) (a b:b)))) (if (not:(equal (a a:a) (a a:b) (a a:a) (a a:b):(a a:a) (a a:b) (a a:a) (a a:b))):(with (def y:{A} a b) (def z:{A} a b) (def x:{A} a a):(equal (a a:a) (a a:b) (a a:a) (a a:b):(a a:a) (a a:b) (a a:a) (a a:b)))) (if (not:(equal (0 1:a) (0 1:b) (0 1:a) (0 1:b):(0 1:a) (0 1:b) (0 1:a) (0 1:b))):(with (def y:{A} a b) (def z:{A} a b) (def x:{A} 0 1):(equal (0 1:a) (0 1:b) (0 1:a) (0 1:b):(0 1:a) (0 1:b) (0 1:a) (0 1:b)))) (if (not:(equal (a b:a) (a b:b) (a b:a) (a b:a):(a b:a) (a b:a) (a b:a) (a b:b))):(with (def y:{A} a b) (def z:{A} a a) (def x:{A} a b):(equal (a b:a) (a b:b) (a b:a) (a b:a):(a b:a) (a b:a) (a b:a) (a b:b)))) (if (not:(equal (a a:a) (a a:b) (a a:a) (a a:a):(a a:a) (a a:a) (a a:a) (a a:b))):(with (def y:{A} a b) (def z:{A} a a) (def x:{A} a a):(equal (a a:a) (a a:b) (a a:a) (a a:a):(a a:a) (a a:a) (a a:a) (a a:b)))) (if (not:(equal (0 1:a) (0 1:b) (0 1:a) (0 1:a):(0 1:a) (0 1:a) (0 1:a) (0 1:b))):(with (def y:{A} a b) (def z:{A} a a) (def x:{A} 0 1):(equal (0 1:a) (0 1:b) (0 1:a) (0 1:a):(0 1:a) (0 1:a) (0 1:a) (0 1:b)))) (if (not:(equal (a b:a) (a b:b):(a b:a) (a b:b))):(with (def y:{A} a b) (def z:{A}) (def x:{A} a b):(equal (a b:a) (a b:b):(a b:a) (a b:b)))) (if (not:(equal (a a:a) (a a:b):(a a:a) (a a:b))):(with (def y:{A} a b) (def z:{A}) (def x:{A} a a):(equal (a a:a) (a a:b):(a a:a) (a a:b)))) (if (not:(equal (0 1:a) (0 1:b):(0 1:a) (0 1:b))):(with (def y:{A} a b) (def z:{A}) (def x:{A} 0 1):(equal (0 1:a) (0 1:b):(0 1:a) (0 1:b)))) (if (not:(equal (a b:a) (a b:b) (a b:0) (a b:1):(a b:0) (a b:1) (a b:a) (a b:b))):(with (def y:{A} a b) (def z:{A} 0 1) (def x:{A} a b):(equal (a b:a) (a b:b) (a b:0) (a b:1):(a b:0) (a b:1) (a b:a) (a b:b)))) (if (not:(equal (a a:a) (a a:b) (a a:0) (a a:1):(a a:0) (a a:1) (a a:a) (a a:b))):(with (def y:{A} a b) (def z:{A} 0 1) (def x:{A} a a):(equal (a a:a) (a a:b) (a a:0) (a a:1):(a a:0) (a a:1) (a a:a) (a a:b)))) (if (not:(equal (0 1:a) (0 1:b) (0 1:0) (0 1:1):(0 1:0) (0 1:1) (0 1:a) (0 1:b))):(with (def y:{A} a b) (def z:{A} 0 1) (def x:{A} 0 1):(equal (0 1:a) (0 1:b) (0 1:0) (0 1:1):(0 1:0) (0 1:1) (0 1:a) (0 1:b)))) (if (not:(equal (a b:a) (a b:a) (a b:a) (a b:b):(a b:a) (a b:b) (a b:a) (a b:a))):(with (def y:{A} a a) (def z:{A} a b) (def x:{A} a b):(equal (a b:a) (a b:a) (a b:a) (a b:b):(a b:a) (a b:b) (a b:a) (a b:a)))) (if (not:(equal (a a:a) (a a:a) (a a:a) (a a:b):(a a:a) (a a:b) (a a:a) (a a:a))):(with (def y:{A} a a) (def z:{A} a b) (def x:{A} a a):(equal (a a:a) (a a:a) (a a:a) (a a:b):(a a:a) (a a:b) (a a:a) (a a:a)))) (if (not:(equal (0 1:a) (0 1:a) (0 1:a) (0 1:b):(0 1:a) (0 1:b) (0 1:a) (0 1:a))):(with (def y:{A} a a) (def z:{A} a b) (def x:{A} 0 1):(equal (0 1:a) (0 1:a) (0 1:a) (0 1:b):(0 1:a) (0 1:b) (0 1:a) (0 1:a)))) (if (not:(equal (a b:a) (a b:a) (a b:a) (a b:a):(a b:a) (a b:a) (a b:a) (a b:a))):(with (def y:{A} a a) (def z:{A} a a) (def x:{A} a b):(equal (a b:a) (a b:a) (a b:a) (a b:a):(a b:a) (a b:a) (a b:a) (a b:a)))) (if (not:(equal (a a:a) (a a:a) (a a:a) (a a:a):(a a:a) (a a:a) (a a:a) (a a:a))):(with (def y:{A} a a) (def z:{A} a a) (def x:{A} a a):(equal (a a:a) (a a:a) (a a:a) (a a:a):(a a:a) (a a:a) (a a:a) (a a:a)))) (if (not:(equal (0 1:a) (0 1:a) (0 1:a) (0 1:a):(0 1:a) (0 1:a) (0 1:a) (0 1:a))):(with (def y:{A} a a) (def z:{A} a a) (def x:{A} 0 1):(equal (0 1:a) (0 1:a) (0 1:a) (0 1:a):(0 1:a) (0 1:a) (0 1:a) (0 1:a)))) (if (not:(equal (a b:a) (a b:a):(a b:a) (a b:a))):(with (def y:{A} a a) (def z:{A}) (def x:{A} a b):(equal (a b:a) (a b:a):(a b:a) (a b:a)))) (if (not:(equal (a a:a) (a a:a):(a a:a) (a a:a))):(with (def y:{A} a a) (def z:{A}) (def x:{A} a a):(equal (a a:a) (a a:a):(a a:a) (a a:a)))) (if (not:(equal (0 1:a) (0 1:a):(0 1:a) (0 1:a))):(with (def y:{A} a a) (def z:{A}) (def x:{A} 0 1):(equal (0 1:a) (0 1:a):(0 1:a) (0 1:a)))) (if (not:(equal (a b:a) (a b:a) (a b:0) (a b:1):(a b:0) (a b:1) (a b:a) (a b:a))):(with (def y:{A} a a) (def z:{A} 0 1) (def x:{A} a b):(equal (a b:a) (a b:a) (a b:0) (a b:1):(a b:0) (a b:1) (a b:a) (a b:a)))) (if (not:(equal (a a:a) (a a:a) (a a:0) (a a:1):(a a:0) (a a:1) (a a:a) (a a:a))):(with (def y:{A} a a) (def z:{A} 0 1) (def x:{A} a a):(equal (a a:a) (a a:a) (a a:0) (a a:1):(a a:0) (a a:1) (a a:a) (a a:a)))) (if (not:(equal (0 1:a) (0 1:a) (0 1:0) (0 1:1):(0 1:0) (0 1:1) (0 1:a) (0 1:a))):(with (def y:{A} a a) (def z:{A} 0 1) (def x:{A} 0 1):(equal (0 1:a) (0 1:a) (0 1:0) (0 1:1):(0 1:0) (0 1:1) (0 1:a) (0 1:a)))) (if (not:(equal (a b:a) (a b:b):(a b:a) (a b:b))):(with (def y:{A}) (def z:{A} a b) (def x:{A} a b):(equal (a b:a) (a b:b):(a b:a) (a b:b)))) (if (not:(equal (a a:a) (a a:b):(a a:a) (a a:b))):(with (def y:{A}) (def z:{A} a b) (def x:{A} a a):(equal (a a:a) (a a:b):(a a:a) (a a:b)))) (if (not:(equal (0 1:a) (0 1:b):(0 1:a) (0 1:b))):(with (def y:{A}) (def z:{A} a b) (def x:{A} 0 1):(equal (0 1:a) (0 1:b):(0 1:a) (0 1:b)))) (if (not:(equal (a b:a) (a b:a):(a b:a) (a b:a))):(with (def y:{A}) (def z:{A} a a) (def x:{A} a b):(equal (a b:a) (a b:a):(a b:a) (a b:a)))) (if (not:(equal (a a:a) (a a:a):(a a:a) (a a:a))):(with (def y:{A}) (def z:{A} a a) (def x:{A} a a):(equal (a a:a) (a a:a):(a a:a) (a a:a)))) (if (not:(equal (0 1:a) (0 1:a):(0 1:a) (0 1:a))):(with (def y:{A}) (def z:{A} a a) (def x:{A} 0 1):(equal (0 1:a) (0 1:a):(0 1:a) (0 1:a)))) (if (not:(equal (a b:0) (a b:1):(a b:0) (a b:1))):(with (def y:{A}) (def z:{A} 0 1) (def x:{A} a b):(equal (a b:0) (a b:1):(a b:0) (a b:1)))) (if (not:(equal (a a:0) (a a:1):(a a:0) (a a:1))):(with (def y:{A}) (def z:{A} 0 1) (def x:{A} a a):(equal (a a:0) (a a:1):(a a:0) (a a:1)))) (if (not:(equal (0 1:0) (0 1:1):(0 1:0) (0 1:1))):(with (def y:{A}) (def z:{A} 0 1) (def x:{A} 0 1):(equal (0 1:0) (0 1:1):(0 1:0) (0 1:1)))) (if (not:(equal (a b:0) (a b:1) (a b:a) (a b:b):(a b:a) (a b:b) (a b:0) (a b:1))):(with (def y:{A} 0 1) (def z:{A} a b) (def x:{A} a b):(equal (a b:0) (a b:1) (a b:a) (a b:b):(a b:a) (a b:b) (a b:0) (a b:1)))) (if (not:(equal (a a:0) (a a:1) (a a:a) (a a:b):(a a:a) (a a:b) (a a:0) (a a:1))):(with (def y:{A} 0 1) (def z:{A} a b) (def x:{A} a a):(equal (a a:0) (a a:1) (a a:a) (a a:b):(a a:a) (a a:b) (a a:0) (a a:1)))) (if (not:(equal (0 1:0) (0 1:1) (0 1:a) (0 1:b):(0 1:a) (0 1:b) (0 1:0) (0 1:1))):(with (def y:{A} 0 1) (def z:{A} a b) (def x:{A} 0 1):(equal (0 1:0) (0 1:1) (0 1:a) (0 1:b):(0 1:a) (0 1:b) (0 1:0) (0 1:1)))) (if (not:(equal (a b:0) (a b:1) (a b:a) (a b:a):(a b:a) (a b:a) (a b:0) (a b:1))):(with (def y:{A} 0 1) (def z:{A} a a) (def x:{A} a b):(equal (a b:0) (a b:1) (a b:a) (a b:a):(a b:a) (a b:a) (a b:0) (a b:1)))) (if (not:(equal (a a:0) (a a:1) (a a:a) (a a:a):(a a:a) (a a:a) (a a:0) (a a:1))):(with (def y:{A} 0 1) (def z:{A} a a) (def x:{A} a a):(equal (a a:0) (a a:1) (a a:a) (a a:a):(a a:a) (a a:a) (a a:0) (a a:1)))) (if (not:(equal (0 1:0) (0 1:1) (0 1:a) (0 1:a):(0 1:a) (0 1:a) (0 1:0) (0 1:1))):(with (def y:{A} 0 1) (def z:{A} a a) (def x:{A} 0 1):(equal (0 1:0) (0 1:1) (0 1:a) (0 1:a):(0 1:a) (0 1:a) (0 1:0) (0 1:1)))) (if (not:(equal (a b:0) (a b:1):(a b:0) (a b:1))):(with (def y:{A} 0 1) (def z:{A}) (def x:{A} a b):(equal (a b:0) (a b:1):(a b:0) (a b:1)))) (if (not:(equal (a a:0) (a a:1):(a a:0) (a a:1))):(with (def y:{A} 0 1) (def z:{A}) (def x:{A} a a):(equal (a a:0) (a a:1):(a a:0) (a a:1)))) (if (not:(equal (0 1:0) (0 1:1):(0 1:0) (0 1:1))):(with (def y:{A} 0 1) (def z:{A}) (def x:{A} 0 1):(equal (0 1:0) (0 1:1):(0 1:0) (0 1:1)))) (if (not:(equal (a b:0) (a b:1) (a b:0) (a b:1):(a b:0) (a b:1) (a b:0) (a b:1))):(with (def y:{A} 0 1) (def z:{A} 0 1) (def x:{A} a b):(equal (a b:0) (a b:1) (a b:0) (a b:1):(a b:0) (a b:1) (a b:0) (a b:1)))) (if (not:(equal (a a:0) (a a:1) (a a:0) (a a:1):(a a:0) (a a:1) (a a:0) (a a:1))):(with (def y:{A} 0 1) (def z:{A} 0 1) (def x:{A} a a):(equal (a a:0) (a a:1) (a a:0) (a a:1):(a a:0) (a a:1) (a a:0) (a a:1)))) (if (not:(equal (0 1:0) (0 1:1) (0 1:0) (0 1:1):(0 1:0) (0 1:1) (0 1:0) (0 1:1))):(with (def y:{A} 0 1) (def z:{A} 0 1) (def x:{A} 0 1):(equal (0 1:0) (0 1:1) (0 1:0) (0 1:1):(0 1:0) (0 1:1) (0 1:0) (0 1:1))))))) \n",
      " (with:(bin arg:0)) \n",
      " (with:(bin as:(count:(if (not:(commutative2:as)):(with:(commutative2:as)))))) \n",
      " (with:(bin bin:(count:(if (not:(commutative2:bin)):(with:(commutative2:bin)))))) \n",
      " (with:(bin bool:(count:(if (not:(commutative2:bool)):(with:(commutative2:bool)))))) \n",
      " (with:(bin by:(count:(if (not:(commutative2:by)):(with:(commutative2:by)))))) \n",
      " (with:(bin co:(count:(if (not:(commutative2:co)):(with:(commutative2:co)))))) \n",
      " (with:(bin code_sort:(count:(if (not:(commutative2:code_sort)):(with:(commutative2:code_sort)))))) \n",
      " (with:(bin collect:(count:(if (not:(commutative2:collect)):(with:(commutative2:collect)))))) \n",
      " (with:(bin count:(count:(if (not:(commutative2:count)):(with:(commutative2:count)))))) \n",
      " (with:(bin domain:(count:(if (not:(commutative2:domain)):(with:(commutative2:domain)))))) \n",
      " (with:(bin equal:(count:(if (not:(commutative2:equal)):(with:(commutative2:equal)))))) \n",
      " (with:(bin equiv:(count:(if (not:(commutative2:equiv)):(with:(commutative2:equiv)))))) \n",
      " (with:(bin first:(count:(if (not:(commutative2:first)):(with:(commutative2:first)))))) \n",
      " (with:(bin float_div:(count:(if (not:(commutative2:float_div)):(with:(commutative2:float_div)))))) \n",
      " (with:(bin float_inv:(count:(if (not:(commutative2:float_inv)):(with:(commutative2:float_inv)))))) \n",
      " (with:(bin float_max:(count:(if (not:(commutative2:float_max)):(with:(commutative2:float_max)))))) \n",
      " (with:(bin float_min:(count:(if (not:(commutative2:float_min)):(with:(commutative2:float_min)))))) \n",
      " (with:(bin float_prod:(count:(if (not:(commutative2:float_prod)):(with:(commutative2:float_prod)))))) \n",
      " (with:(bin float_sort:(count:(if (not:(commutative2:float_sort)):(with:(commutative2:float_sort)))))) \n",
      " (with:(bin float_sum:(count:(if (not:(commutative2:float_sum)):(with:(commutative2:float_sum)))))) \n",
      " (with:(bin floats:(count:(if (not:(commutative2:floats)):(with:(commutative2:floats)))))) \n",
      " (with:(bin get:(count:(if (not:(commutative2:get)):(with:(commutative2:get)))))) \n",
      " (with:(bin has:(count:(if (not:(commutative2:has)):(with:(commutative2:has)))))) \n",
      " (with:(bin hasnt:(count:(if (not:(commutative2:hasnt)):(with:(commutative2:hasnt)))))) \n",
      " (with:(bin if:(count:(if (not:(commutative2:if)):(with:(commutative2:if)))))) \n",
      " (with:(bin iff:(count:(if (not:(commutative2:iff)):(with:(commutative2:iff)))))) \n",
      " (with:(bin imply:(count:(if (not:(commutative2:imply)):(with:(commutative2:imply)))))) \n",
      " (with:(bin int_div:(count:(if (not:(commutative2:int_div)):(with:(commutative2:int_div)))))) \n",
      " (with:(bin int_inv:(count:(if (not:(commutative2:int_inv)):(with:(commutative2:int_inv)))))) \n",
      " (with:(bin int_max:(count:(if (not:(commutative2:int_max)):(with:(commutative2:int_max)))))) \n",
      " (with:(bin int_min:(count:(if (not:(commutative2:int_min)):(with:(commutative2:int_min)))))) \n",
      " (with:(bin int_prod:(count:(if (not:(commutative2:int_prod)):(with:(commutative2:int_prod)))))) \n",
      " (with:(bin int_sort:(count:(if (not:(commutative2:int_sort)):(with:(commutative2:int_sort)))))) \n",
      " (with:(bin int_sum:(count:(if (not:(commutative2:int_sum)):(with:(commutative2:int_sum)))))) \n",
      " (with:(bin ints:(count:(if (not:(commutative2:ints)):(with:(commutative2:ints)))))) \n",
      " (with:(bin is:(count:(if (not:(commutative2:is)):(with:(commutative2:is)))))) \n",
      " (with:(bin isnt:(count:(if (not:(commutative2:isnt)):(with:(commutative2:isnt)))))) \n",
      " (with:(bin ker:(count:(if (not:(commutative2:ker)):(with:(commutative2:ker)))))) \n",
      " (with:(bin kernel:(count:(if (not:(commutative2:kernel)):(with:(commutative2:kernel)))))) \n",
      " (with:(bin last:(count:(if (not:(commutative2:last)):(with:(commutative2:last)))))) \n",
      " (with:(bin left:(count:(if (not:(commutative2:left)):(with:(commutative2:left)))))) \n",
      " (with:(bin nand:(count:(if (not:(commutative2:nand)):(with:(commutative2:nand)))))) \n",
      " (with:(bin nat:(count:(if (not:(commutative2:nat)):(with:(commutative2:nat)))))) \n",
      " (with:(bin nats:(count:(if (not:(commutative2:nats)):(with:(commutative2:nats)))))) \n",
      " (with:(bin nif:(count:(if (not:(commutative2:nif)):(with:(commutative2:nif)))))) \n",
      " (with:(bin nor:(count:(if (not:(commutative2:nor)):(with:(commutative2:nor)))))) \n",
      " (with:(bin not:(count:(if (not:(commutative2:not)):(with:(commutative2:not)))))) \n",
      " (with:(bin nth:(count:(if (not:(commutative2:nth)):(with:(commutative2:nth)))))) \n",
      " (with:(bin nth1:(count:(if (not:(commutative2:nth1)):(with:(commutative2:nth1)))))) \n",
      " (with:(bin null:(count:(if (not:(commutative2:null)):(with:(commutative2:null)))))) \n",
      " (with:(bin once:(count:(if (not:(commutative2:once)):(with:(commutative2:once)))))) \n",
      " (with:(bin or:(count:(if (not:(commutative2:or)):(with:(commutative2:or)))))) \n",
      " (with:(bin pass:(count:(if (not:(commutative2:pass)):(with:(commutative2:pass)))))) \n",
      " (with:(bin plus:(count:(if (not:(commutative2:plus)):(with:(commutative2:plus)))))) \n",
      " (with:(bin post:(count:(if (not:(commutative2:post)):(with:(commutative2:post)))))) \n",
      " (with:(bin pre:(count:(if (not:(commutative2:pre)):(with:(commutative2:pre)))))) \n",
      " (with:(bin prod:(count:(if (not:(commutative2:prod)):(with:(commutative2:prod)))))) \n",
      " (with:(bin put:(count:(if (not:(commutative2:put)):(with:(commutative2:put)))))) \n",
      " (with:(bin rep:(count:(if (not:(commutative2:rep)):(with:(commutative2:rep)))))) \n",
      " (with:(bin rev:(count:(if (not:(commutative2:rev)):(with:(commutative2:rev)))))) \n",
      " (with:(bin ri:(count:(if (not:(commutative2:ri)):(with:(commutative2:ri)))))) \n",
      " (with:(bin right:(count:(if (not:(commutative2:right)):(with:(commutative2:right)))))) \n",
      " (with:(bin skip:(count:(if (not:(commutative2:skip)):(with:(commutative2:skip)))))) \n",
      " (with:(bin some:(count:(if (not:(commutative2:some)):(with:(commutative2:some)))))) \n",
      " (with:(bin star:(count:(if (not:(commutative2:star)):(with:(commutative2:star)))))) \n",
      " (with:(bin sum:(count:(if (not:(commutative2:sum)):(with:(commutative2:sum)))))) \n",
      " (with:(bin tail:(count:(if (not:(commutative2:tail)):(with:(commutative2:tail)))))) \n",
      " (with:(bin while:(count:(if (not:(commutative2:while)):(with:(commutative2:while)))))) \n",
      " (with:(bin xnor:(count:(if (not:(commutative2:xnor)):(with:(commutative2:xnor)))))) \n",
      " (with:(bin xor:(count:(if (not:(commutative2:xor)):(with:(commutative2:xor)))))) \n"
     ]
    }
   ],
   "source": [
    "ap post <\\n> : R1?"
   ]
  },
  {
   "cell_type": "code",
   "execution_count": null,
   "id": "2a8677bd-b02c-476b-b0c6-dc447cc78e7b",
   "metadata": {},
   "outputs": [],
   "source": []
  }
 ],
 "metadata": {
  "kernelspec": {
   "display_name": "coda",
   "language": "",
   "name": "coda"
  },
  "language_info": {
   "file_extension": ".co",
   "mimetype": "text/plain",
   "name": "Any text"
  }
 },
 "nbformat": 4,
 "nbformat_minor": 5
}
