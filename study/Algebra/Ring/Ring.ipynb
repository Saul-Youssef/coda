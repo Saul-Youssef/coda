{
 "cells": [
  {
   "cell_type": "markdown",
   "id": "bd9c1216-31b9-4c51-85cf-5341ebd3dcfe",
   "metadata": {},
   "source": [
    "## What are the Rings?\n",
    "\n",
    "A ring is data R such that \n",
    "\n",
    "* R X Y : Z = (R X:Z) (R Y:Z) and \n",
    "* R X : Y Z = (R X:Y) (R X:Z) \n",
    "\n",
    "Any ring can be specified by function from pairs x,y of atoms to D^n(x,y) where D is some fixed data and where n(x,y) is some natural number valued function on pairs of data. Thus R X:Y is D^n for some n. \n",
    "\n",
    "* ar (ap co D)\\*R\n",
    "\n",
    "for fixed data D and for some data R. Letting D = |, we have \n",
    "\n",
    "* def R : {ar "
   ]
  },
  {
   "cell_type": "code",
   "execution_count": 1,
   "id": "339b3844-28a9-445a-bc72-df1a5e869c40",
   "metadata": {},
   "outputs": [
    {
     "name": "stdout",
     "output_type": "stream",
     "text": []
    }
   ],
   "source": [
    "import : dir co : up : up : ."
   ]
  },
  {
   "cell_type": "code",
   "execution_count": null,
   "id": "ced91d55-270d-44a3-a1ac-6e955bcdf222",
   "metadata": {},
   "outputs": [],
   "source": [
    "count : theorem (commutative2:ri (:{|})) : (:a a) (:a b)\n",
    "count : theorem (commutative2:ri (:pass)) : (:a a) (:a b)\n",
    "count : theorem (commutative2:ri (:{|}*pass)) : (:a a) (:a b)"
   ]
  },
  {
   "cell_type": "code",
   "execution_count": null,
   "id": "b6454b4f-2e01-49d0-907a-23932f5c64d1",
   "metadata": {},
   "outputs": [],
   "source": [
    "count : theorem (commutative2:ri (:{|}*pass)) : S5? "
   ]
  },
  {
   "cell_type": "code",
   "execution_count": null,
   "id": "fb7de419-081a-4818-8897-fe1236fbfa4f",
   "metadata": {},
   "outputs": [],
   "source": []
  },
  {
   "cell_type": "code",
   "execution_count": null,
   "id": "d38e7afc-add6-41c5-8948-8814062662a3",
   "metadata": {},
   "outputs": [],
   "source": []
  }
 ],
 "metadata": {
  "kernelspec": {
   "display_name": "coda",
   "language": "",
   "name": "coda"
  },
  "language_info": {
   "file_extension": ".co",
   "mimetype": "text/plain",
   "name": "Any text"
  }
 },
 "nbformat": 4,
 "nbformat_minor": 5
}
