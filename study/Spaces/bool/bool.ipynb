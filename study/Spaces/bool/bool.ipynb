{
 "cells": [
  {
   "cell_type": "markdown",
   "id": "e93e3adb-594c-4245-a548-c97bdada2c4f",
   "metadata": {},
   "source": [
    "# bool\n",
    "\n",
    "As we know, data is defined to be **true** if it is equal to empty data *()* and is defined to be **false** if it is atomic.  Data can also be **undecided** and, in cases like Godel's theorem, data can be **undecidable**.  Here we consider the built-in partial function **bool** which computes the logical value of data. **bool** is defined by \n",
    "\n",
    "* (bool:B) -> () if B is empty\n",
    "* (bool:B) -> (:) if B is atomic \n",
    "\n",
    "so that bool:X is the logical value of the data X.  Bool is also a **space**, meaning that bool is idempotent and \n",
    "\n",
    "* bool : X Y = bool : (bool : X) (bool:Y) \n",
    "\n",
    "for all data X and Y.  Bool is nice and organic.  It's perhaps the most basic naturally occurring space within the space **pass** of all pure data.  \n",
    "\n",
    "1. Demonstrate basic properties of **bool**.\n",
    "2. What are the endomorphisms of **bool**?\n",
    "3. What are the endomorphisms of \"boolean variables\" (Up b:bool)?\n"
   ]
  },
  {
   "cell_type": "code",
   "execution_count": 1,
   "id": "eda65bcc-a3e5-4922-94c2-53a7caaedc47",
   "metadata": {},
   "outputs": [
    {
     "name": "stdout",
     "output_type": "stream",
     "text": [
      "(defaultTime:100)"
     ]
    }
   ],
   "source": [
    "#\n",
    "#   Set a convenient defaultTime for evaluation and import \n",
    "#   space-related definitions.\n",
    "#\n",
    "defaultTime:100\n",
    "import : dir co : up : ."
   ]
  },
  {
   "cell_type": "markdown",
   "id": "c62f21c6-c25d-4855-a4ee-bf3c56820733",
   "metadata": {},
   "source": [
    "### 1. Demonstrate basic properties of **bool**"
   ]
  },
  {
   "cell_type": "code",
   "execution_count": 2,
   "id": "3cd9ae6f-b843-4de4-a284-30f4135a83cb",
   "metadata": {},
   "outputs": [
    {
     "name": "stdout",
     "output_type": "stream",
     "text": [
      "◎\n",
      "1\n",
      "0"
     ]
    }
   ],
   "source": [
    "#\n",
    "#   Basic property\n",
    "#\n",
    "bool: (pass : a b c )\n",
    "bool: (null : a b c )\n",
    "#\n",
    "#   It is sometimes convenient to use count for display purposes, \n",
    "#   so that \"true\" data get's count 0. bool:X is true if and only \n",
    "#   if count:X is 0. \n",
    "#\n",
    "count : bool: (pass : a b c )\n",
    "count : bool: (null : a b c )\n",
    "#\n",
    "#   Although count is equivalent in some sense to bool, note that \n",
    "#   count is not a space. \n",
    "#"
   ]
  },
  {
   "cell_type": "code",
   "execution_count": 3,
   "id": "d9dc099e-07fa-448c-b861-2692939fffd4",
   "metadata": {},
   "outputs": [
    {
     "name": "stdout",
     "output_type": "stream",
     "text": [
      "◎\n",
      "◎\n",
      "◎\n",
      "◎"
     ]
    }
   ],
   "source": [
    "#\n",
    "#   bool is a space, meaning the the following should all be equal\n",
    "#\n",
    "bool : a b c \n",
    "bool : bool : a b c \n",
    "bool : (bool : a b ) (bool: c)\n",
    "bool : (bool : ) (bool : a b c )"
   ]
  },
  {
   "cell_type": "markdown",
   "id": "4117cf23-68dd-4a39-8293-97ec783b81bd",
   "metadata": {},
   "source": [
    "### 2. Endomorphisms of bool \n",
    "\n",
    "For any data X, bool\\*X\\*bool is an endomorphism of bool (End bool:X), thus motivating a definition \n",
    "\n",
    "* Def end : {End bool : B}"
   ]
  },
  {
   "cell_type": "code",
   "execution_count": 4,
   "id": "c6980433-e476-484d-bdfb-d3ea7f584e1e",
   "metadata": {},
   "outputs": [
    {
     "name": "stdout",
     "output_type": "stream",
     "text": []
    }
   ],
   "source": [
    "Def end : {End bool:B} "
   ]
  },
  {
   "cell_type": "code",
   "execution_count": 5,
   "id": "caaeda03-8ae0-47eb-802b-34579fe99595",
   "metadata": {},
   "outputs": [
    {
     "name": "stdout",
     "output_type": "stream",
     "text": []
    }
   ],
   "source": [
    "#\n",
    "#   There are only 4 possible endomorphisms of bool\n",
    "#\n",
    "Def e1 : bool \n",
    "Def e2 : end : null \n",
    "Def e3 : end : const (:) \n",
    "Def e4 : end : not "
   ]
  },
  {
   "cell_type": "code",
   "execution_count": 6,
   "id": "6d1e98df-7a2c-4f07-a021-bec6d580f264",
   "metadata": {},
   "outputs": [
    {
     "name": "stdout",
     "output_type": "stream",
     "text": [
      "0\n",
      "1\n",
      "-\n",
      "0\n",
      "0\n",
      "-\n",
      "1\n",
      "1\n",
      "-\n",
      "1\n",
      "0"
     ]
    }
   ],
   "source": [
    "count : e1 : ()\n",
    "count : e1 : (:) \n",
    "-\n",
    "count : e2 : () \n",
    "count : e2 : (:) \n",
    "-\n",
    "count : e3 : ()\n",
    "count : e3 : (:) \n",
    "- \n",
    "count : e4 : ()\n",
    "count : e4 : (:) "
   ]
  },
  {
   "cell_type": "markdown",
   "id": "2e907fb7-9647-4c49-aaad-d4d757c09d39",
   "metadata": {},
   "source": [
    "Note that every space is an endomorphism of itself, explaining e1=bool.  The other three endomorphisms are \n",
    "\n",
    "* TRUE \n",
    "* FALSE\n",
    "* NOT \n",
    "\n",
    "In other words, e1,e2,e3 and e4 each have familiar conceptual meaning."
   ]
  },
  {
   "cell_type": "code",
   "execution_count": 7,
   "id": "59dd70c4-6378-4e5e-949f-f5b347d38935",
   "metadata": {},
   "outputs": [
    {
     "name": "stdout",
     "output_type": "stream",
     "text": [
      "0\n",
      "1"
     ]
    }
   ],
   "source": [
    "#\n",
    "#   end:X is an endomorphism for any X, but these are \n",
    "#   equal to e1,e2,e3 or e4.  (end:rev), for instance is e1.  \n",
    "#\n",
    "count : (end : rev) : () \n",
    "count : (end : rev) : (:)"
   ]
  },
  {
   "cell_type": "code",
   "execution_count": 8,
   "id": "8b73b366-f74d-417a-bba7-2900cc488e24",
   "metadata": {},
   "outputs": [
    {
     "name": "stdout",
     "output_type": "stream",
     "text": [
      "(bool:(agag ag ag a:◎))"
     ]
    }
   ],
   "source": [
    "#\n",
    "#   Note that if X may contain undefined stuff in (end:X) \n",
    "#   then the result will be undefined until \"variables\" in X \n",
    "#   get definitions.\n",
    "#\n",
    "(end : agag ag ag a ) : (:)"
   ]
  },
  {
   "cell_type": "code",
   "execution_count": 9,
   "id": "bd897bf0-aeca-4d2b-821f-86d4d3fcf509",
   "metadata": {},
   "outputs": [
    {
     "name": "stdout",
     "output_type": "stream",
     "text": []
    }
   ],
   "source": [
    "Def agag : {first 42 : B} "
   ]
  },
  {
   "cell_type": "code",
   "execution_count": 10,
   "id": "7a319f30-e001-43d7-9f73-0edcecc69e8a",
   "metadata": {},
   "outputs": [
    {
     "name": "stdout",
     "output_type": "stream",
     "text": [
      "0\n",
      "1"
     ]
    }
   ],
   "source": [
    "#\n",
    "#   With the definition of agag, (end:agag ag ag a) is revealed as \n",
    "#   equal to e1. \n",
    "#\n",
    "count : (end : agag ag ag a ) : ()\n",
    "count : (end : agag ag ag a ) : (:)"
   ]
  },
  {
   "cell_type": "markdown",
   "id": "8f1f556b-6498-4de8-b4a9-96f0f651faf2",
   "metadata": {},
   "source": [
    "### 3. Boolean variables and their endomorphisms \n",
    "\n",
    "The space **bool** is analogous to the space **stick=ap {|}** for the natural numbers.  bool:X is one boolean value, just as stick:X is one natural number.  As with natural numbers, if we want to have a space of sequences of booleans, we introduce an atom **b** to store boolean values.  **b** is then like a bool valued variable.  The \"functor\" **Up** constructs a new space (**Up b:bool**) from the space bool."
   ]
  },
  {
   "cell_type": "code",
   "execution_count": 11,
   "id": "04663bd7-e4e5-419f-8873-4902dad50a64",
   "metadata": {},
   "outputs": [
    {
     "name": "stdout",
     "output_type": "stream",
     "text": []
    }
   ],
   "source": [
    "#\n",
    "#   Define L to be (Up b : bool), a \"boolean variable\".\n",
    "#\n",
    "Def b : \n",
    "Def L : Up b : bool "
   ]
  },
  {
   "cell_type": "code",
   "execution_count": 12,
   "id": "da1acaa4-218b-4066-bb34-bdefabd2b23d",
   "metadata": {},
   "outputs": [
    {
     "name": "stdout",
     "output_type": "stream",
     "text": [
      "(b:◎) (b:) (b:) (b:◎) (b:◎)\n",
      "(b:◎) (b:) (b:) (b:◎) (b:◎)\n",
      "(b:◎) (b:) (b:) (b:◎) (b:◎)"
     ]
    }
   ],
   "source": [
    "#\n",
    "#   These three should be the same, since L is a space \n",
    "#\n",
    "L     : (b:x) (b:) zz (b:y) (b:y)\n",
    "L : L : (b:x) (b:) zz (b:y) (b:y)\n",
    "L : ( L : (b:x) (b:) zz ) ( L : (b:y) (b:y)) "
   ]
  },
  {
   "cell_type": "code",
   "execution_count": 13,
   "id": "64f5b2fa-f6a1-4181-8324-8371eabfa18a",
   "metadata": {},
   "outputs": [
    {
     "name": "stdout",
     "output_type": "stream",
     "text": []
    }
   ],
   "source": [
    "#\n",
    "#   E : X is a \"big\" endomorphism L*X*L \n",
    "#   e : X is a \"small\" endomorphism L*(put b)*X*(get b)*L \n",
    "#\n",
    "Def E : End L \n",
    "Def e : {End L : Down b : B}"
   ]
  },
  {
   "cell_type": "code",
   "execution_count": 14,
   "id": "e21ee54f-d04d-4bf9-a290-f5a443f9a0c0",
   "metadata": {},
   "outputs": [
    {
     "name": "stdout",
     "output_type": "stream",
     "text": [
      "(b:◎) (b:)\n",
      "(b:◎)"
     ]
    }
   ],
   "source": [
    "(E:rev) : (b:) (b:(:))\n",
    "(e:rev) : (b:) (b:(:))"
   ]
  },
  {
   "cell_type": "markdown",
   "id": "14d1ba13-0ad7-4b45-b400-f98422ee6e5c",
   "metadata": {},
   "source": [
    "Here we'll do a quick demo/search for \"small\" and \"big\" endomorphisms, and continue in a new notebook."
   ]
  },
  {
   "cell_type": "code",
   "execution_count": 15,
   "id": "58f4eb5e-6da2-4515-8975-813115960b8e",
   "metadata": {},
   "outputs": [
    {
     "name": "stdout",
     "output_type": "stream",
     "text": []
    }
   ],
   "source": [
    "#\n",
    "#  Make a random variety of data in L \n",
    "#\n",
    "Let T1 : (b:) (b:(:)) (b:(:)) (b:(:))\n",
    "Let T2 : (b:) (b:) (b:) (b:)\n",
    "Let T3 : (b:(:)) (b:(:)) (b:(:)) (b:(:))\n",
    "Let T4 : "
   ]
  },
  {
   "cell_type": "code",
   "execution_count": 16,
   "id": "ca396c2d-3fd3-4465-af8c-09ba5b842dca",
   "metadata": {},
   "outputs": [
    {
     "name": "stdout",
     "output_type": "stream",
     "text": [
      "(b:) (b:◎) (b:◎) (b:◎)\n",
      "(b:) (b:) (b:) (b:)\n",
      "(b:◎) (b:◎) (b:◎) (b:◎)"
     ]
    }
   ],
   "source": [
    "T1?\n",
    "T2?\n",
    "T3?\n",
    "T4?"
   ]
  },
  {
   "cell_type": "code",
   "execution_count": null,
   "id": "cc243769-e9de-413b-92c4-6eb592bfb9b3",
   "metadata": {
    "jupyter": {
     "source_hidden": true
    },
    "tags": []
   },
   "outputs": [],
   "source": [
    "(e:pass) : T1?\n",
    "(e:pass) : T2?\n",
    "(e:pass) : T3?\n",
    "(e:pass) : T4?\n",
    "-\n",
    "(e:null) : T1?\n",
    "(e:null) : T2?\n",
    "(e:null) : T3?\n",
    "(e:null) : T4?\n",
    "-\n",
    "(e:not) : T1? \n",
    "(e:not) : T2? \n",
    "(e:not) : T3?\n",
    "(e:not) : T4?\n",
    "- \n",
    "(e:first 2) : T1?\n",
    "(e:first 2) : T2?\n",
    "(e:first 2) : T3?\n",
    "(e:first 2) : T4?"
   ]
  },
  {
   "cell_type": "markdown",
   "id": "fac5ba6b-c23d-46c2-b3ea-4f56b4b745d4",
   "metadata": {},
   "source": [
    "First, let's mainly consider \"small\" endomorphisms.  These are mappings from sequences of boolean values to a single boolean.\n",
    "\n",
    "Foreshadowing future search strategies, we'll just randomly try (e:org) where org can be any of the \"organics\". The plan is \n",
    "\n",
    "1. Apply (e:org) to each of T1? T2? T3? and T4?, storing the results in a with atom.  \n",
    "2. Compute them in parallel using dom.\n",
    "3. Write the results to disk to conveniently extract the decided results, while leaving undecided results behind. \n",
    "4. Collect all org \"commands\" that have the values on T1? T2? T3? and T4?"
   ]
  },
  {
   "cell_type": "code",
   "execution_count": 17,
   "id": "bc7b67a5-19bf-403e-9ae8-dc7edb4eae2e",
   "metadata": {
    "tags": []
   },
   "outputs": [
    {
     "name": "stdout",
     "output_type": "stream",
     "text": [
      " (bin (b:◎) (b:) (b:◎) (b:):aj ap backstrip bool collect equal equiv frontstrip has if isnt more once pass post pre prod rev some starts) \n",
      " (bin (b:) (b:) (b:) (b:):aq ar arg back const domain dup ends front get hasnt ints is item ker left less nats nif null right same sum) \n",
      " (bin (b:◎) (b:◎) (b:◎) (b:◎):bin count grp plus put star) \n",
      " (bin (b:) (b:◎) (b:) (b:◎):not) \n"
     ]
    }
   ],
   "source": [
    "write T123 100 : dom 100 : ap {with B : ((e:B):T1?) ((e:B):T2?) ((e:B):T3?) ((e:B):T4?)} : Organic?\n",
    "tab : collect : ap {(bin (right:B):arg:B)} : read : T123"
   ]
  },
  {
   "cell_type": "markdown",
   "id": "7ef25f3c-1d3d-4213-9aa3-500f4b713028",
   "metadata": {},
   "source": [
    "Although there are 52 different Organic \"commands\", their corresponding small endomorphisms (e:X) fall into only four categories.\n",
    "\n",
    "* Group 1: True if all values in X are true (\"ALL\").\n",
    "* Group 2: True no matter what is in X (\"TRUE\").\n",
    "* Group 3: False no matter what is in X (\"FALSE\").\n",
    "* Group 4: True if any value in X is false (\"ANY\").\n",
    "\n",
    "Where I have included conjectured interpretations. "
   ]
  },
  {
   "cell_type": "code",
   "execution_count": 18,
   "id": "0981ef72-806c-4923-920c-684c58c29fbe",
   "metadata": {},
   "outputs": [
    {
     "name": "stdout",
     "output_type": "stream",
     "text": [
      " ◎ \n",
      " (:(b:)) \n",
      " (:(b:◎)) \n",
      " (:(b:) (b:)) \n",
      " (:(b:) (b:◎)) \n",
      " (:(b:◎) (b:)) \n",
      " (:(b:◎) (b:◎)) \n",
      " (:(b:) (b:) (b:)) \n",
      " (:(b:) (b:) (b:◎)) \n",
      " (:(b:) (b:◎) (b:)) \n",
      " (:(b:) (b:◎) (b:◎)) \n",
      " (:(b:◎) (b:) (b:)) \n",
      " (:(b:◎) (b:) (b:◎)) \n",
      " (:(b:◎) (b:◎) (b:)) \n",
      " (:(b:◎) (b:◎) (b:◎)) \n"
     ]
    }
   ],
   "source": [
    "#\n",
    "#   Let's give these small endomorphisms names\n",
    "#\n",
    "Def ALL   : (e:pass)\n",
    "Def TRUE  : (e:const ( ))\n",
    "Def FALSE : (e:const (:))\n",
    "Def ANY   : (e:not)\n",
    "#\n",
    "#   And let's test against the sample of all L data up to width 3. \n",
    "#\n",
    "Let LD : sum (:permutation 0) (:permutation 1) (:permutation 2) (:permutation 3) : (b:) (b:(:))\n",
    "tab : LD?"
   ]
  },
  {
   "cell_type": "code",
   "execution_count": 19,
   "id": "e64d841b-7b1a-49e1-a179-7a4c6a7b3123",
   "metadata": {},
   "outputs": [
    {
     "name": "stdout",
     "output_type": "stream",
     "text": []
    }
   ],
   "source": [
    "Def commute1 : {count : ((get:first:A)*(get:last:A):get:B)=((get:last:A)*(get:first:A):get:B)} \n",
    "Def commute2 : {ap commute1 (:A) (:B) : LD?} "
   ]
  },
  {
   "cell_type": "code",
   "execution_count": 20,
   "id": "dbae7724-573b-4c34-80af-5f7c1a0c7f20",
   "metadata": {},
   "outputs": [
    {
     "name": "stdout",
     "output_type": "stream",
     "text": [
      "(ap commute1 (:ALL) (:ALL):(L1:))\n",
      "(ap commute1 (:ALL) (:ANY):(L1:))\n",
      "(ap commute1 (:ALL) (:TRUE):(L1:))\n",
      "(ap commute1 (:ALL) (:FALSE):(L1:))\n",
      "-\n",
      "(ap commute1 (:ANY) (:ANY):(L1:))\n",
      "(ap commute1 (:ANY) (:TRUE):(L1:))\n",
      "(ap commute1 (:ANY) (:FALSE):(L1:))\n",
      "-\n",
      "(ap commute1 (:TRUE) (:TRUE):(L1:))\n",
      "(ap commute1 (:TRUE) (:FALSE):(L1:))\n",
      "-\n",
      "(ap commute1 (:FALSE) (:FALSE):(L1:))"
     ]
    }
   ],
   "source": [
    "commute ALL : ALL \n",
    "commute ALL : ANY \n",
    "commute ALL : TRUE \n",
    "commute ALL : FALSE \n",
    "- \n",
    "commute ANY : ANY \n",
    "commute ANY : TRUE \n",
    "commute ANY : FALSE\n",
    "- \n",
    "commute TRUE : TRUE\n",
    "commute TRUE : FALSE\n",
    "-\n",
    "commute FALSE : FALSE "
   ]
  },
  {
   "cell_type": "code",
   "execution_count": null,
   "id": "6bd6b6b5-7e38-42ea-8edd-db5781b89721",
   "metadata": {},
   "outputs": [],
   "source": []
  },
  {
   "cell_type": "code",
   "execution_count": null,
   "id": "1d638665-e1a1-4051-8033-b5afb0a8efa1",
   "metadata": {},
   "outputs": [],
   "source": []
  },
  {
   "cell_type": "markdown",
   "id": "4ff50846-460f-4c86-a36f-214ca0782738",
   "metadata": {},
   "source": [
    "By definition, a structure on L is a collection of mutually commuting endomorphisms.  Each possible set of commuting endomorphisms gives a potentially different structure on L.  Let's first ask which of ALL, TRUE, FALSE, and ANY commute, just testing on our sample L values T1?, T2?, T3?, and T4?."
   ]
  },
  {
   "cell_type": "code",
   "execution_count": null,
   "id": "33193cac-6552-4711-b12c-f9a0378ad61e",
   "metadata": {},
   "outputs": [],
   "source": [
    "#\n",
    "#   So (commute e1 : e2) will be 0 if e1 and e2 commute on T1,2,3,4 and will be >0 otherwise. \n",
    "#\n",
    "Def commute : {count : (((A*B):T1?)=((B*A):T1?)) (((A*B):T2?)=((B*A):T2?)) (((A*B):T3?)=((B*A):T3?)) ((A*B):T4?)=((B*A):T4?)} "
   ]
  },
  {
   "cell_type": "code",
   "execution_count": null,
   "id": "68c3f325-ce93-405b-9219-c43c06d481c2",
   "metadata": {
    "jupyter": {
     "source_hidden": true
    },
    "tags": []
   },
   "outputs": [],
   "source": [
    "commute ALL : ALL \n",
    "commute ALL : TRUE \n",
    "commute ALL : FALSE \n",
    "commute ALL : ANY \n",
    "-\n",
    "commute TRUE : ALL \n",
    "commute TRUE : TRUE \n",
    "commute TRUE : FALSE \n",
    "commute TRUE : ANY \n",
    "- \n",
    "commute FALSE : ALL \n",
    "commute FALSE : TRUE \n",
    "commute FALSE : FALSE \n",
    "commute FALSE : ANY \n",
    "-\n",
    "commute ANY : ALL \n",
    "commute ANY : TRUE \n",
    "commute ANY : FALSE \n",
    "commute ANY : ANY "
   ]
  },
  {
   "cell_type": "markdown",
   "id": "63fe4471-4afa-45f4-935f-f54bfd0bb642",
   "metadata": {},
   "source": [
    "Thus, none of these four commute with each other. Thus, there are at least 4 separate (but possibly isomorphic) structures on L. \n",
    "\n",
    "Let's now pull the new definitions here into a file and start a new notebook with goals:\n",
    "\n",
    "1. Characterize possible structures on L including both small and large endomorphisms. \n",
    "\n"
   ]
  },
  {
   "cell_type": "code",
   "execution_count": null,
   "id": "d36a2ecb-b4f2-4296-8104-5e08124bc1e3",
   "metadata": {},
   "outputs": [],
   "source": []
  }
 ],
 "metadata": {
  "kernelspec": {
   "display_name": "coda",
   "language": "",
   "name": "coda"
  },
  "language_info": {
   "file_extension": ".co",
   "mimetype": "text/plain",
   "name": "Any text"
  }
 },
 "nbformat": 4,
 "nbformat_minor": 5
}
