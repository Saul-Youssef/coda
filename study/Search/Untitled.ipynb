{
 "cells": [
  {
   "cell_type": "code",
   "execution_count": 1,
   "id": "6d2614f7-ef90-4cdd-a350-98f14bc47692",
   "metadata": {},
   "outputs": [
    {
     "name": "stdout",
     "output_type": "stream",
     "text": []
    }
   ],
   "source": [
    "{(B:B:X?)=(B:X?)}:(:)"
   ]
  },
  {
   "cell_type": "code",
   "execution_count": 2,
   "id": "3339b3c8-897c-4b75-97a2-e39fc132b924",
   "metadata": {},
   "outputs": [
    {
     "name": "stdout",
     "output_type": "stream",
     "text": [
      "(= (?:X):(?:X))"
     ]
    }
   ],
   "source": [
    "Idem : (:)"
   ]
  },
  {
   "cell_type": "code",
   "execution_count": 3,
   "id": "0ec9b6cb-524b-4338-9b5c-6aed29cd0066",
   "metadata": {},
   "outputs": [
    {
     "name": "stdout",
     "output_type": "stream",
     "text": [
      "(= (?:X):(?:X))"
     ]
    }
   ],
   "source": [
    "#\n",
    "#\n",
    "#\n",
    "{(B:B:X?)=(B:X?)}:(:)"
   ]
  },
  {
   "cell_type": "code",
   "execution_count": null,
   "id": "7f8f827e-cf8c-4c07-9a2f-4af7283b1649",
   "metadata": {},
   "outputs": [],
   "source": []
  }
 ],
 "metadata": {
  "kernelspec": {
   "display_name": "coda",
   "language": "",
   "name": "coda"
  },
  "language_info": {
   "file_extension": ".co",
   "mimetype": "text/plain",
   "name": "Any text"
  }
 },
 "nbformat": 4,
 "nbformat_minor": 5
}
