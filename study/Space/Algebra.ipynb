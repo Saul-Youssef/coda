{
 "cells": [
  {
   "cell_type": "code",
   "execution_count": 1,
   "id": "edce2a5d-3fab-4979-abdc-6473bf09316c",
   "metadata": {},
   "outputs": [
    {
     "name": "stdout",
     "output_type": "stream",
     "text": []
    }
   ],
   "source": [
    "import : endswith Algebra.co : dir co : ."
   ]
  },
  {
   "cell_type": "code",
   "execution_count": 2,
   "id": "688ae6fe-af18-4e1d-85a0-fb268b541648",
   "metadata": {},
   "outputs": [
    {
     "name": "stdout",
     "output_type": "stream",
     "text": []
    }
   ],
   "source": [
    "ring_left : null"
   ]
  },
  {
   "cell_type": "code",
   "execution_count": 3,
   "id": "c399f534-1b87-4bb8-af34-802d04609071",
   "metadata": {},
   "outputs": [
    {
     "name": "stdout",
     "output_type": "stream",
     "text": []
    }
   ],
   "source": [
    "commuting pass : pass"
   ]
  },
  {
   "cell_type": "code",
   "execution_count": 4,
   "id": "163ea1fb-c3cf-4ef3-b52f-71fa6a5de8f6",
   "metadata": {},
   "outputs": [
    {
     "name": "stdout",
     "output_type": "stream",
     "text": []
    }
   ],
   "source": [
    "x?=x?"
   ]
  },
  {
   "cell_type": "code",
   "execution_count": null,
   "id": "7d5d1332-8790-4839-a026-1543460ff218",
   "metadata": {},
   "outputs": [],
   "source": []
  }
 ],
 "metadata": {
  "kernelspec": {
   "display_name": "coda",
   "language": "",
   "name": "coda"
  },
  "language_info": {
   "file_extension": ".co",
   "mimetype": "text/plain",
   "name": "Any text"
  }
 },
 "nbformat": 4,
 "nbformat_minor": 5
}
