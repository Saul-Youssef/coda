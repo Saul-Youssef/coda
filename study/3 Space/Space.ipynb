{
 "cells": [
  {
   "cell_type": "markdown",
   "id": "f222d34e-b9ee-4455-83f6-11115c259143",
   "metadata": {},
   "source": [
    "Data A is a **space** if \n",
    "\n",
    "1. A X : Y Z = A : (A X:Y) (A X:Z) and \n",
    "2. A X Y : Z = A X: A Y: Z \n",
    "\n",
    "for all data X,Y,Z.\n",
    "\n",
    "As an example, let's consider the pure space of natural numbers defined by \n",
    "\n",
    "..."
   ]
  },
  {
   "cell_type": "code",
   "execution_count": null,
   "id": "2e6b0c95-d304-42d3-be6b-a8a5d03d0aa0",
   "metadata": {},
   "outputs": [],
   "source": [
    "#\n",
    "#   Prepare some samples for testing purposes \n",
    "#   \n",
    "#   S1: hydrogen atoms\n",
    "#   S2: more general atoms mix \n",
    "#   S3: pure data mix\n",
    "#   S4: mix with operators and language.\n",
    "#\n",
    "Let S1 : sample.atom : 5\n",
    "Let S2 : permutation 2 : (:) a b 0 1 (bin:a) (bin 1 2:a b) (bin a: bin b:1 2)\n",
    "Let S3 : sample.pure : 2 2 \n",
    "Let S4 : sample.data <A> <B> <{$}> 0 1 a b (defs:Basic) : 2 2 \n",
    "\n",
    "Def idemp0 : { count : (B:B:x?) = (B:x?) }\n",
    "Def idemp1 : { count : (B x?:B:y?) = (B:B x?:y?) }\n",
    "Def idemp2 : { count : (B x? y?:z?) = (B x?:B y?:z?) }\n",
    "\n",
    "Def dist0 : { count : (B:x? y?) = ((B:x?) (B:y?)) } \n",
    "Def dist1 : { count : (B:x? y?) = (B:(B:x?) (B:y?)) } \n",
    "Def dist2 : { count : (B x?:y? z?) = (B \n",
    "\n",
    "Def idemp0 : {count:((B:B:x?)=(B:x?))} \n",
    "Def idemp1 : {count:( (B x? : B : y?) = (B:B x?:y?) )} \n",
    "\n",
    "Def dist0  : {count:((B:x? y?)=((B:x?) (B:y?)))} \n",
    "Def dist1  : {count:((B:x? y?)=(B:(B:x?) (B:y?)))} \n",
    "Def dist2. : {count:((B x?:y? z?)=(B: ( (B x?:y?) (B x?:z?) )))} \n",
    "\n",
    "Def Idemp0 : {get with : eval : cases (idemp0:B) : A}\n",
    "Def Idemp1 : {get with : eval : cases (idemp1:B) : A} \n",
    "Def IDEMP0 : ap {bin B : int_sum : Idemp0 A : B} \n",
    "Def IDEMP1 : ap {bin B : int_sum : Idemp1 A : B} "
   ]
  },
  {
   "cell_type": "code",
   "execution_count": null,
   "id": "461a4c88-bbba-49b9-bbe6-6a3533078232",
   "metadata": {},
   "outputs": [],
   "source": [
    "x? : y? z?"
   ]
  },
  {
   "cell_type": "code",
   "execution_count": null,
   "id": "20488ca6-cc0f-4726-9e8f-70149a50d436",
   "metadata": {},
   "outputs": [],
   "source": [
    "count : (B?:B?:x?) = (B?:x?)"
   ]
  },
  {
   "cell_type": "code",
   "execution_count": null,
   "id": "7f1485d3-b312-434c-ba80-ab6d86e667bc",
   "metadata": {},
   "outputs": [],
   "source": [
    "IDEMP0 S4? : collect"
   ]
  },
  {
   "cell_type": "code",
   "execution_count": null,
   "id": "ce4e337e-68f8-42e4-bf93-d6f2309d1738",
   "metadata": {},
   "outputs": [],
   "source": [
    "S4?"
   ]
  },
  {
   "cell_type": "code",
   "execution_count": null,
   "id": "17bb5b92-d4f7-4eaa-b942-723bb473f14a",
   "metadata": {},
   "outputs": [],
   "source": [
    "Idemp0 S1? S2? : first \n",
    "IDEMP0 S1? : first pass {first 2:B}"
   ]
  },
  {
   "cell_type": "code",
   "execution_count": null,
   "id": "a424e892-018b-4303-90e3-ad4a25a4b68a",
   "metadata": {},
   "outputs": [],
   "source": [
    "Def F2 : {put bin A (arg bin:B) : (get bin:B)} \n",
    "Def F1 : {put bin : (get bin:B) } \n",
    "Def F0 : int_sum \n",
    "Def IS : is \n",
    "Def ISNT : isnt \n",
    "Def n : {int_prod : (int_prod:A) (int_sum:B)}"
   ]
  },
  {
   "cell_type": "code",
   "execution_count": null,
   "id": "b63a84ed-219c-4075-bcff-c02d59b2fbbb",
   "metadata": {},
   "outputs": [],
   "source": [
    "IDEMP0 S1? S2? S3? : n "
   ]
  },
  {
   "cell_type": "code",
   "execution_count": null,
   "id": "0689c1bd-e351-413f-94fc-4f298201a7b9",
   "metadata": {},
   "outputs": [],
   "source": [
    "IDEMP0 S1? : F0 F1 F2\n",
    "IDEMP0 S2? : F0 F1 F2\n",
    "IDEMP0 S3? : F0 F1 F2 "
   ]
  },
  {
   "cell_type": "code",
   "execution_count": null,
   "id": "7651764d-6e2f-40d2-a8ae-e181abb6e440",
   "metadata": {},
   "outputs": [],
   "source": [
    "IDEMP1 S1? : F0\n",
    "IDEMP1 S1? : F1 \n",
    "IDEMP1 S1? : F2"
   ]
  },
  {
   "cell_type": "code",
   "execution_count": null,
   "id": "c0e28d95-e00c-4c10-93f5-0297d0605fb2",
   "metadata": {},
   "outputs": [],
   "source": [
    "IDEMP1 S2? : F0"
   ]
  },
  {
   "cell_type": "code",
   "execution_count": null,
   "id": "3376324b-949e-4d5b-8c07-12e909cad1b9",
   "metadata": {},
   "outputs": [],
   "source": [
    "IDEMP1 S2? : F1"
   ]
  },
  {
   "cell_type": "code",
   "execution_count": null,
   "id": "5730d4e0-ddb5-4449-a35c-f729a843341f",
   "metadata": {},
   "outputs": [],
   "source": [
    "IDEMP1 S2? : F2"
   ]
  },
  {
   "cell_type": "code",
   "execution_count": null,
   "id": "95845557-16dc-40d4-83f5-10bf31d08b66",
   "metadata": {},
   "outputs": [],
   "source": [
    "IDEMP1 S1? : n "
   ]
  },
  {
   "cell_type": "code",
   "execution_count": null,
   "id": "ba53ac05-db90-40b7-9579-ad02a7e869d3",
   "metadata": {},
   "outputs": [],
   "source": [
    "defs : Apply "
   ]
  },
  {
   "cell_type": "code",
   "execution_count": null,
   "id": "ff59fc87-b8a6-4eee-b0d4-041c5b189495",
   "metadata": {},
   "outputs": [],
   "source": [
    "defs : Apply Basic Logic "
   ]
  },
  {
   "cell_type": "code",
   "execution_count": null,
   "id": "d2cdb1d2-8bda-4eba-8b1c-77d0afa774fb",
   "metadata": {},
   "outputs": [],
   "source": [
    "IDEMP1 S1? : aq ap xor"
   ]
  },
  {
   "cell_type": "code",
   "execution_count": null,
   "id": "53d90c9f-c050-4c9c-9fce-7a91a2e43913",
   "metadata": {},
   "outputs": [],
   "source": [
    "IDEMP0 S2? : collect"
   ]
  },
  {
   "cell_type": "code",
   "execution_count": null,
   "id": "314b842c-e31b-4b54-acdc-d2a03a9bbeb2",
   "metadata": {},
   "outputs": [],
   "source": [
    "IDEMP0 S3? : collect"
   ]
  },
  {
   "cell_type": "code",
   "execution_count": null,
   "id": "8d0564e0-bd12-46b0-99f0-425dbe0244b9",
   "metadata": {},
   "outputs": [],
   "source": [
    "IDEMP1 S1? S2? : collect"
   ]
  },
  {
   "cell_type": "code",
   "execution_count": null,
   "id": "bc006b9e-a543-416c-857e-c6b060ebecd9",
   "metadata": {},
   "outputs": [],
   "source": []
  },
  {
   "cell_type": "code",
   "execution_count": null,
   "id": "57914c6f-971f-4132-b02e-2b7f0cc88ecf",
   "metadata": {},
   "outputs": [],
   "source": []
  }
 ],
 "metadata": {
  "kernelspec": {
   "display_name": "coda",
   "language": "",
   "name": "coda"
  },
  "language_info": {
   "file_extension": ".co",
   "mimetype": "text/plain",
   "name": "Any text"
  }
 },
 "nbformat": 4,
 "nbformat_minor": 5
}
