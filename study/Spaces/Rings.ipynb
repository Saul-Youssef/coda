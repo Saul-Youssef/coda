{
 "cells": [
  {
   "cell_type": "markdown",
   "id": "f62943c1-d6c0-4af3-9d82-4de3760f6413",
   "metadata": {},
   "source": [
    "## Rings \n",
    "\n",
    "Data R is a **ring** if \n",
    "\n",
    "1. R A is a space for any data A.\n",
    "2. R A B = R A \\* R B"
   ]
  },
  {
   "cell_type": "code",
   "execution_count": null,
   "id": "69c634e4-71ab-490a-be6c-32120cc6158e",
   "metadata": {},
   "outputs": [],
   "source": []
  }
 ],
 "metadata": {
  "kernelspec": {
   "display_name": "coda",
   "language": "",
   "name": "coda"
  },
  "language_info": {
   "file_extension": ".co",
   "mimetype": "text/plain",
   "name": "Any text"
  }
 },
 "nbformat": 4,
 "nbformat_minor": 5
}
