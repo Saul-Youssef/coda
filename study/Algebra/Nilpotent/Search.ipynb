{
 "cells": [
  {
   "cell_type": "code",
   "execution_count": 1,
   "id": "9ea37cc3-a039-45da-a3fc-8a0b59fe890e",
   "metadata": {},
   "outputs": [
    {
     "name": "stdout",
     "output_type": "stream",
     "text": [
      "(defaultTime:100)"
     ]
    }
   ],
   "source": [
    "defaultTime:100"
   ]
  },
  {
   "cell_type": "code",
   "execution_count": 2,
   "id": "9ce3383e-ec47-4f1f-9d72-3c97376095d2",
   "metadata": {},
   "outputs": [
    {
     "name": "stdout",
     "output_type": "stream",
     "text": []
    }
   ],
   "source": [
    "log:multi"
   ]
  },
  {
   "cell_type": "code",
   "execution_count": 3,
   "id": "235a755d-3995-4073-9910-288cf254b1fd",
   "metadata": {},
   "outputs": [
    {
     "name": "stdout",
     "output_type": "stream",
     "text": []
    }
   ],
   "source": [
    "import : dir co : up : up : ."
   ]
  },
  {
   "cell_type": "code",
   "execution_count": 4,
   "id": "559fb966-2ad3-4611-a604-b3cfa9063b6f",
   "metadata": {},
   "outputs": [
    {
     "name": "stdout",
     "output_type": "stream",
     "text": [
      "((Q:):(x:))"
     ]
    }
   ],
   "source": [
    "nilpotent:Q?"
   ]
  },
  {
   "cell_type": "code",
   "execution_count": 5,
   "id": "8f3906a1-e596-44ed-8b36-c9a0bb4b3ad1",
   "metadata": {},
   "outputs": [
    {
     "name": "stdout",
     "output_type": "stream",
     "text": [
      "multi> Using 12 processors for 22 inputs\n",
      "multi> Collecting results\n",
      "21"
     ]
    }
   ],
   "source": [
    "property nilpotent {rev:B} : S5?"
   ]
  },
  {
   "cell_type": "markdown",
   "id": "1f9275ab-8fa7-4fa5-affa-c7b174ffebed",
   "metadata": {},
   "source": [
    "Search for nilpotents from C0, basic commands.\n",
    "First level: use the S6 sample."
   ]
  },
  {
   "cell_type": "code",
   "execution_count": 6,
   "id": "bf49446d-d497-4d9c-a2b2-c54fd3c597da",
   "metadata": {},
   "outputs": [
    {
     "name": "stdout",
     "output_type": "stream",
     "text": [
      "(:a) (:b) (:a b) ◎ (:1) (:2) (:bin) (:(bin a:x)) (:(bin b:y))"
     ]
    }
   ],
   "source": [
    "S6?"
   ]
  },
  {
   "cell_type": "code",
   "execution_count": 7,
   "id": "f2104b0c-e552-427c-a29f-c6548eca3ead",
   "metadata": {},
   "outputs": [
    {
     "name": "stdout",
     "output_type": "stream",
     "text": [
      "multi> Using 10 processors for 9 inputs\n",
      "multi> Collecting results\n",
      "8"
     ]
    }
   ],
   "source": [
    "property nilpotent {rev:B} : S6?"
   ]
  },
  {
   "cell_type": "code",
   "execution_count": 8,
   "id": "d248f71d-6fc2-4086-a6ff-6893db1d0a0e",
   "metadata": {},
   "outputs": [
    {
     "name": "stdout",
     "output_type": "stream",
     "text": [
      "multi> Using 10 processors for 9 inputs\n",
      "multi> Collecting results\n",
      "(bin {rev:B}:8)"
     ]
    }
   ],
   "source": [
    "ap {(bin (get:B) : property nilpotent (get:B) : S6?)} : (:{rev:B}) "
   ]
  },
  {
   "cell_type": "code",
   "execution_count": 9,
   "id": "3dbb02c7-2f83-450b-9a62-4a9d17092f3e",
   "metadata": {},
   "outputs": [
    {
     "name": "stdout",
     "output_type": "stream",
     "text": []
    }
   ],
   "source": [
    "Def nilS6 : ap {(bin (get:B) : property nilpotent (get:B) : S6?)}"
   ]
  },
  {
   "cell_type": "code",
   "execution_count": 10,
   "id": "43a755b7-8c7e-4575-962a-6bf54338b870",
   "metadata": {},
   "outputs": [
    {
     "name": "stdout",
     "output_type": "stream",
     "text": [
      "multi> Using 2 processors for 1 inputs\n",
      "multi> Collecting results\n",
      "multi> Using 10 processors for 9 inputs\n",
      "multi> Collecting results\n",
      "(bin {rev:B}:8) (bin {null:B}:0)"
     ]
    }
   ],
   "source": [
    "nilS6 : (:{rev:B}) (:{null:B}) "
   ]
  },
  {
   "cell_type": "code",
   "execution_count": 11,
   "id": "b6fa209d-72d5-4f96-b0f7-972deee86cab",
   "metadata": {},
   "outputs": [
    {
     "name": "stdout",
     "output_type": "stream",
     "text": [
      "(defaultTime:1000)"
     ]
    }
   ],
   "source": [
    "defaultTime:1000"
   ]
  },
  {
   "cell_type": "code",
   "execution_count": 12,
   "id": "fa77a7c5-4b57-4fed-85fe-8b834c88c0fe",
   "metadata": {},
   "outputs": [
    {
     "name": "stdout",
     "output_type": "stream",
     "text": []
    }
   ],
   "source": [
    "out C0-S6 : nilS6 : C0?:"
   ]
  },
  {
   "cell_type": "code",
   "execution_count": 13,
   "id": "e6f6b5da-acd9-4d48-af1d-a75fdc641665",
   "metadata": {},
   "outputs": [
    {
     "name": "stdout",
     "output_type": "stream",
     "text": [
      "(bin 8145:) (bin 1:bin by) (bin 1:get) (bin 1:property nilpotent bin) (bin 1:ap) (bin 2:bin) (bin 1:by) (bin 10:language) (bin 5571:◎) (bin 81:𝝞) (bin 610:𝟬)"
     ]
    }
   ],
   "source": [
    "stat : C0-S6"
   ]
  },
  {
   "cell_type": "code",
   "execution_count": null,
   "id": "20794bf3-c00a-43eb-b713-86b7174e212c",
   "metadata": {},
   "outputs": [],
   "source": [
    "eval 3600 : in : C0-S6"
   ]
  },
  {
   "cell_type": "code",
   "execution_count": null,
   "id": "3080d852-72b3-4c82-a47e-49858a473715",
   "metadata": {},
   "outputs": [],
   "source": []
  }
 ],
 "metadata": {
  "kernelspec": {
   "display_name": "coda",
   "language": "",
   "name": "coda"
  },
  "language_info": {
   "file_extension": ".co",
   "mimetype": "text/plain",
   "name": "Any text"
  }
 },
 "nbformat": 4,
 "nbformat_minor": 5
}
