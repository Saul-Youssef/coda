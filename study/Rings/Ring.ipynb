{
 "cells": [
  {
   "cell_type": "code",
   "execution_count": 1,
   "id": "d90057cf-4b56-4304-9039-fe3ee427fcc5",
   "metadata": {},
   "outputs": [
    {
     "name": "stdout",
     "output_type": "stream",
     "text": []
    }
   ],
   "source": [
    "import : ."
   ]
  },
  {
   "cell_type": "code",
   "execution_count": 2,
   "id": "2c979db8-0754-4b22-b6ec-c47cc0ef7eae",
   "metadata": {},
   "outputs": [
    {
     "name": "stdout",
     "output_type": "stream",
     "text": []
    }
   ],
   "source": [
    "def Foo: {B = X?} "
   ]
  },
  {
   "cell_type": "code",
   "execution_count": 3,
   "id": "240ca7c5-62a3-4b0f-9773-ee1f2649106d",
   "metadata": {},
   "outputs": [
    {
     "name": "stdout",
     "output_type": "stream",
     "text": [
      "(= 5:(?:X))"
     ]
    }
   ],
   "source": [
    "Foo : 5"
   ]
  },
  {
   "cell_type": "code",
   "execution_count": 5,
   "id": "0ac7e6b1-0c49-415e-8ed8-2b1a5e22b244",
   "metadata": {},
   "outputs": [
    {
     "name": "stdout",
     "output_type": "stream",
     "text": [
      "(let X:6)"
     ]
    }
   ],
   "source": [
    "(Foo : 5) (let X : 6)"
   ]
  },
  {
   "cell_type": "code",
   "execution_count": 1,
   "id": "b8972c93-3898-4277-861b-8e11e8815edd",
   "metadata": {},
   "outputs": [
    {
     "name": "stdout",
     "output_type": "stream",
     "text": []
    }
   ],
   "source": [
    "def Space : {(B: (B:X?) (B:Y?)) = (B: X? Y?)} "
   ]
  },
  {
   "cell_type": "code",
   "execution_count": 2,
   "id": "d5d3df2d-430a-48da-a9cd-c0683f91dbdc",
   "metadata": {},
   "outputs": [
    {
     "name": "stdout",
     "output_type": "stream",
     "text": [
      "(= (x:(x:(?:X)) (x:(?:Y))):(x:(?:X) (?:Y)))"
     ]
    }
   ],
   "source": [
    "Space:x"
   ]
  },
  {
   "cell_type": "code",
   "execution_count": 3,
   "id": "246e5e64-a1bc-4b1e-ae23-8bdb1cf77de9",
   "metadata": {},
   "outputs": [
    {
     "name": "stdout",
     "output_type": "stream",
     "text": []
    }
   ],
   "source": [
    "let X : 1 2 3 "
   ]
  },
  {
   "cell_type": "code",
   "execution_count": 4,
   "id": "f8a78456-8cd6-4985-ba6d-574dda1cb659",
   "metadata": {},
   "outputs": [
    {
     "name": "stdout",
     "output_type": "stream",
     "text": [
      "(= (x:(x:1 2 3) (x:(?:Y))):(x:1 2 3 (?:Y)))"
     ]
    }
   ],
   "source": [
    "Space:x"
   ]
  },
  {
   "cell_type": "code",
   "execution_count": null,
   "id": "9cda9237-c171-4df1-ae5b-1121232d2120",
   "metadata": {},
   "outputs": [],
   "source": []
  }
 ],
 "metadata": {
  "kernelspec": {
   "display_name": "coda",
   "language": "",
   "name": "coda"
  },
  "language_info": {
   "file_extension": ".co",
   "mimetype": "text/plain",
   "name": "Any text"
  }
 },
 "nbformat": 4,
 "nbformat_minor": 5
}
