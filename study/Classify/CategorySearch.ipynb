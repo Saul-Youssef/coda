{
 "cells": [
  {
   "cell_type": "markdown",
   "id": "d1a85f2e-2756-40cd-b843-fd5c58ed4efd",
   "metadata": {},
   "source": [
    "After the success of finding even and odd atoms, let's try to find all categories from the same search space..."
   ]
  },
  {
   "cell_type": "code",
   "execution_count": 7,
   "id": "b05b090d-64e1-4129-88e6-c7b365258aad",
   "metadata": {},
   "outputs": [
    {
     "data": {
      "text/plain": [
       "eval: False, true: 0, false:0, undecided:0, codas:143, datas:11568"
      ]
     },
     "execution_count": 7,
     "metadata": {},
     "output_type": "execute_result"
    }
   ],
   "source": [
    "from base import *\n",
    "from Space import Space\n",
    "import Generate\n",
    "\n",
    "S = Generate.Gen(Generate.codas,3).space()\n",
    "S"
   ]
  },
  {
   "cell_type": "code",
   "execution_count": 8,
   "id": "cebbb448-724c-44ef-88be-d835206f4365",
   "metadata": {},
   "outputs": [],
   "source": [
    "#\n",
    "#   We'll use Even and Odd for a few atoms just to filter\n",
    "#   the space down somewhat. \n",
    "#\n",
    "Even = Generate.EvenAtoms(2)\n",
    "Odd = Generate.OddAtoms(2)"
   ]
  },
  {
   "cell_type": "markdown",
   "id": "e089b660-9c80-4fc2-9eb8-8fd794707f13",
   "metadata": {},
   "source": [
    "Data `C` is a **category** if \n",
    "\n",
    "`C : X Y = C: (C:X) (C:Y)` \n",
    "\n",
    "for all data `X`, `Y`.\n",
    "\n",
    "For filtering purposes, let's require this condition for X=Y. "
   ]
  },
  {
   "cell_type": "code",
   "execution_count": 12,
   "id": "eaf49b02-df7d-47a2-8d6e-392685f055a2",
   "metadata": {},
   "outputs": [
    {
     "data": {
      "text/plain": [
       "10"
      ]
     },
     "execution_count": 12,
     "metadata": {},
     "output_type": "execute_result"
    }
   ],
   "source": [
    "import Evaluate\n",
    "def eval(d): return Evaluate.default(d)\n",
    "\n",
    "def equal(x,y):\n",
    "    return data((da('=')+x)|y)\n",
    "\n",
    "def cat1(c,x): \n",
    "    left = data(c|(x+x))\n",
    "    right = data(c|((c|x)+(c|x))) \n",
    "    return not eval(equal(left,right)).atomic()\n",
    "\n",
    "Evaluate.DEPTH = 10\n",
    "Evaluate.DEPTH"
   ]
  },
  {
   "cell_type": "code",
   "execution_count": 13,
   "id": "00d9de18-e3e2-412a-a247-58b7d9068178",
   "metadata": {
    "collapsed": true,
    "jupyter": {
     "outputs_hidden": true
    },
    "tags": []
   },
   "outputs": [
    {
     "name": "stdout",
     "output_type": "stream",
     "text": [
      "100 ... aaaa\n",
      "200 ... aaaa\n",
      "300 ... aaaa\n",
      "400 ... aaaa\n",
      "500 ... aaaa\n",
      "600 ... aaaa\n",
      "700 ... aaaa\n",
      "800 ... aaaa\n",
      "900 ... aaaa\n",
      "1000 ... aaaa\n",
      "1100 ... aaaa\n",
      "1200 ... aaaa\n",
      "1300 ... aaaa\n",
      "1400 ... aaaa\n",
      "1500 ... aaaa\n",
      "1600 ... aaaa\n",
      "1700 ... aaaa\n",
      "1800 ... aaaa\n",
      "1900 ... aaaa\n",
      "2000 ... aaaa\n",
      "2100 ... aaaa\n",
      "2200 ... aaaa\n",
      "2300 ... aaaa\n",
      "2400 ... aaaa\n",
      "2500 ... aaaa\n",
      "2600 ... aaaa\n",
      "2700 ... aaaa\n",
      "2800 ... aaaa\n",
      "2900 ... aaaa\n",
      "3000 ... aaaa\n",
      "3100 ... aaaa\n",
      "3200 ... aaaa\n",
      "3300 ... aaaa\n",
      "3400 ... aaaa\n",
      "3500 ... aaaa\n",
      "3600 ... aaaa\n",
      "3700 ... aaaa\n",
      "3800 ... aaaa\n",
      "3900 ... aaaa\n",
      "4000 ... aaaa\n",
      "4100 ... aaaa\n",
      "4200 ... aaaa\n",
      "4300 ... aaaa\n",
      "4400 ... aaaa\n",
      "4500 ... aaaa\n",
      "4600 ... aaaa\n",
      "4700 ... aaaa\n",
      "4800 ... aaaa\n",
      "4900 ... aaaa\n",
      "5000 ... aaaa\n",
      "5100 ... aaaa\n",
      "5200 ... aaaa\n",
      "5300 ... aaaa\n",
      "5400 ... aaaa\n",
      "5500 ... aaaa\n",
      "5600 ... aaaa\n",
      "5700 ... aaaa\n",
      "5800 ... aaaa\n",
      "5900 ... aaaa\n",
      "6000 ... aaaa\n",
      "6100 ... aaaa\n",
      "6200 ... aaaa\n",
      "6300 ... aaaa\n",
      "6400 ... aaaa\n",
      "6500 ... aaaa\n",
      "6600 ... aaaa\n",
      "6700 ... aaaa\n",
      "6800 ... aaaa\n",
      "6900 ... aaaa\n",
      "7000 ... aaaa\n",
      "7100 ... aaaa\n",
      "7200 ... aaaa\n",
      "7300 ... aaaa\n",
      "7400 ... aaaa\n",
      "7500 ... aaaa\n",
      "7600 ... aaaa\n",
      "7700 ... aaaa\n",
      "7800 ... aaaa\n",
      "7900 ... aaaa\n",
      "8000 ... aaaa\n",
      "8100 ... aaaa\n",
      "8200 ... aaaa\n",
      "8300 ... aaaa\n",
      "8400 ... aaaa\n",
      "8500 ... aaaa\n",
      "8600 ... aaaa\n",
      "8700 ... aaaa\n",
      "8800 ... aaaa\n",
      "8900 ... aaaa\n",
      "9000 ... aaaa\n",
      "9100 ... aaaa\n",
      "9200 ... aaaa\n",
      "9300 ... aaaa\n",
      "9400 ... aaaa\n",
      "9500 ... aaaa\n",
      "9600 ... aaaa\n",
      "9700 ... aaaa\n",
      "9800 ... aaaa\n",
      "9900 ... aaaa\n",
      "10000 ... aaaa\n",
      "10100 ... aaaa\n",
      "10200 ... aaaa\n",
      "10300 ... aaaa\n",
      "10400 ... aaaa\n",
      "10500 ... aaaa\n",
      "10600 ... aaaa\n",
      "10700 ... aaaa\n",
      "10800 ... aaaa\n",
      "10900 ... aaaa\n",
      "11000 ... aaaa\n",
      "11100 ... aaaa\n",
      "11200 ... aaaa\n",
      "11300 ... aaaa\n",
      "11400 ... aaaa\n",
      "11500 ... aaaa\n"
     ]
    }
   ],
   "source": [
    "S1 = S.subop(cat1,Even)"
   ]
  },
  {
   "cell_type": "code",
   "execution_count": 15,
   "id": "5af9c327-599d-42bb-bb2c-c6ee09b52505",
   "metadata": {},
   "outputs": [
    {
     "data": {
      "text/plain": [
       "eval: False, true: 0, false:0, undecided:0, codas:143, datas:4531"
      ]
     },
     "execution_count": 15,
     "metadata": {},
     "output_type": "execute_result"
    }
   ],
   "source": [
    "S1"
   ]
  },
  {
   "cell_type": "code",
   "execution_count": 16,
   "id": "a82bef8a-cc54-4267-b79d-b5e83c331f30",
   "metadata": {},
   "outputs": [],
   "source": [
    "Evaluate.DEPTH = 50"
   ]
  },
  {
   "cell_type": "code",
   "execution_count": 17,
   "id": "57a4024c-aadb-4216-9e3f-416a5e0b46ae",
   "metadata": {
    "collapsed": true,
    "jupyter": {
     "outputs_hidden": true
    },
    "tags": []
   },
   "outputs": [
    {
     "name": "stdout",
     "output_type": "stream",
     "text": [
      "100 ... aaaa\n",
      "200 ... aaaa\n",
      "300 ... aaaa\n",
      "400 ... aaaa\n",
      "500 ... aaaa\n",
      "600 ... aaaa\n",
      "700 ... aaaa\n",
      "800 ... aaaa\n",
      "900 ... aaaa\n",
      "1000 ... aaaa\n",
      "1100 ... aaaa\n",
      "1200 ... aaaa\n",
      "1300 ... aaaa\n",
      "1400 ... aaaa\n",
      "1500 ... aaaa\n",
      "1600 ... aaaa\n",
      "1700 ... aaaa\n",
      "1800 ... aaaa\n",
      "1900 ... aaaa\n",
      "2000 ... aaaa\n",
      "2100 ... aaaa\n",
      "2200 ... aaaa\n",
      "2300 ... aaaa\n",
      "2400 ... aaaa\n",
      "2500 ... aaaa\n",
      "2600 ... aaaa\n",
      "2700 ... aaaa\n",
      "2800 ... aaaa\n",
      "2900 ... aaaa\n",
      "3000 ... aaaa\n",
      "3100 ... aaaa\n",
      "3200 ... aaaa\n",
      "3300 ... aaaa\n",
      "3400 ... aaaa\n",
      "3500 ... aaaa\n",
      "3600 ... aaaa\n",
      "3700 ... aaaa\n",
      "3800 ... aaaa\n",
      "3900 ... aaaa\n",
      "4000 ... aaaa\n",
      "4100 ... aaaa\n",
      "4200 ... aaaa\n",
      "4300 ... aaaa\n",
      "4400 ... aaaa\n",
      "4500 ... aaaa\n"
     ]
    }
   ],
   "source": [
    "S2 = S1.subop(cat1,Odd)"
   ]
  },
  {
   "cell_type": "code",
   "execution_count": 18,
   "id": "088de381-f2fc-462e-921e-c4f415aa013b",
   "metadata": {},
   "outputs": [
    {
     "data": {
      "text/plain": [
       "eval: False, true: 0, false:0, undecided:0, codas:143, datas:4528"
      ]
     },
     "execution_count": 18,
     "metadata": {},
     "output_type": "execute_result"
    }
   ],
   "source": [
    "S2"
   ]
  },
  {
   "cell_type": "code",
   "execution_count": 19,
   "id": "63123e4a-0ce5-44dc-82cd-698cb0fe3a2b",
   "metadata": {},
   "outputs": [],
   "source": [
    "\n",
    "def cat2(c,x): \n",
    "    left = data(c|(x+x))\n",
    "    right = data(c|((c|x)+(c|x))) \n",
    "    return eval(equal(left,right)).empty()\n"
   ]
  },
  {
   "cell_type": "code",
   "execution_count": 29,
   "id": "47c7cb70-43be-4e04-841c-1f1568aa6020",
   "metadata": {
    "tags": []
   },
   "outputs": [
    {
     "name": "stdout",
     "output_type": "stream",
     "text": [
      "100 ... aaaa\n",
      "200 ... aaaa\n",
      "300 ... aaaa\n",
      "400 ... aaaa\n",
      "500 ... aaaa\n",
      "600 ... aaaa\n",
      "700 ... aaaa\n",
      "800 ... aaaa\n",
      "900 ... aaaa\n",
      "1000 ... aaaa\n",
      "1100 ... aaaa\n",
      "1200 ... aaaa\n",
      "1300 ... aaaa\n",
      "1400 ... aaaa\n",
      "1500 ... aaaa\n",
      "1600 ... aaaa\n",
      "1700 ... aaaa\n",
      "1800 ... aaaa\n",
      "1900 ... aaaa\n",
      "2000 ... aaaa\n",
      "2100 ... aaaa\n",
      "2200 ... aaaa\n",
      "2300 ... aaaa\n",
      "2400 ... aaaa\n",
      "2500 ... aaaa\n",
      "2600 ... aaaa\n",
      "2700 ... aaaa\n",
      "2800 ... aaaa\n",
      "2900 ... aaaa\n",
      "3000 ... aaaa\n",
      "3100 ... aaaa\n",
      "3200 ... aaaa\n",
      "3300 ... aaaa\n",
      "3400 ... aaaa\n",
      "3500 ... aaaa\n",
      "3600 ... aaaa\n",
      "3700 ... aaaa\n",
      "3800 ... aaaa\n",
      "3900 ... aaaa\n",
      "4000 ... aaaa\n",
      "4100 ... aaaa\n",
      "4200 ... aaaa\n",
      "4300 ... aaaa\n",
      "4400 ... aaaa\n",
      "4500 ... aaaa\n"
     ]
    },
    {
     "data": {
      "text/plain": [
       "eval: False, true: 0, false:0, undecided:0, codas:143, datas:2318"
      ]
     },
     "execution_count": 29,
     "metadata": {},
     "output_type": "execute_result"
    }
   ],
   "source": [
    "S3 = S2.subop(cat2,Generate.EvenAtoms(5))\n",
    "S3"
   ]
  },
  {
   "cell_type": "code",
   "execution_count": 30,
   "id": "e2f13d51-e458-462d-9ba6-db5fbd54f1f6",
   "metadata": {},
   "outputs": [],
   "source": [
    "Ran10 = Space(*[s for s in S.data_sample(5)])"
   ]
  },
  {
   "cell_type": "code",
   "execution_count": 31,
   "id": "1292f843-0524-407b-aee6-aa1eb92a10db",
   "metadata": {},
   "outputs": [
    {
     "name": "stdout",
     "output_type": "stream",
     "text": [
      "100 ... aaaa\n",
      "200 ... aaaa\n",
      "300 ... aaaa\n",
      "400 ... aaaa\n",
      "500 ... aaaa\n",
      "600 ... aaaa\n",
      "700 ... aaaa\n",
      "800 ... aaaa\n",
      "900 ... aaaa\n",
      "1000 ... aaaa\n",
      "1100 ... aaaa\n",
      "1200 ... aaaa\n",
      "1300 ... aaaa\n",
      "1400 ... aaaa\n",
      "1500 ... aaaa\n",
      "1600 ... aaaa\n",
      "1700 ... aaaa\n",
      "1800 ... aaaa\n",
      "1900 ... aaaa\n",
      "2000 ... aaaa\n",
      "2100 ... aaaa\n",
      "2200 ... aaaa\n",
      "2300 ... aaaa\n"
     ]
    }
   ],
   "source": [
    "S4 = S3.subop(cat2,Ran10)"
   ]
  },
  {
   "cell_type": "code",
   "execution_count": 32,
   "id": "9019a579-7c68-4538-912b-ccac01b033a0",
   "metadata": {},
   "outputs": [
    {
     "data": {
      "text/plain": [
       "eval: False, true: 0, false:0, undecided:0, codas:143, datas:2019"
      ]
     },
     "execution_count": 32,
     "metadata": {},
     "output_type": "execute_result"
    }
   ],
   "source": [
    "S4"
   ]
  },
  {
   "cell_type": "code",
   "execution_count": 33,
   "id": "b18fed3e-45c3-462d-9345-81c76a1fcd85",
   "metadata": {},
   "outputs": [],
   "source": [
    "Ran200 = Space(*[s for s in S.data_sample(200)])"
   ]
  },
  {
   "cell_type": "code",
   "execution_count": 34,
   "id": "79fb8b99-b925-4b8a-80bf-8acb1ad7c024",
   "metadata": {},
   "outputs": [
    {
     "data": {
      "text/plain": [
       "eval: False, true: 0, false:0, undecided:0, codas:122, datas:200"
      ]
     },
     "execution_count": 34,
     "metadata": {},
     "output_type": "execute_result"
    }
   ],
   "source": [
    "Ran200"
   ]
  },
  {
   "cell_type": "code",
   "execution_count": 35,
   "id": "719c3e62-ed40-47e5-b538-2517d99b1564",
   "metadata": {
    "collapsed": true,
    "jupyter": {
     "outputs_hidden": true
    },
    "tags": []
   },
   "outputs": [
    {
     "name": "stdout",
     "output_type": "stream",
     "text": [
      "100 ... aaaa\n",
      "200 ... aaaa\n",
      "300 ... aaaa\n",
      "400 ... aaaa\n",
      "500 ... aaaa\n",
      "600 ... aaaa\n",
      "700 ... aaaa\n",
      "800 ... aaaa\n",
      "900 ... aaaa\n",
      "1000 ... aaaa\n",
      "1100 ... aaaa\n",
      "1200 ... aaaa\n",
      "1300 ... aaaa\n",
      "1400 ... aaaa\n",
      "1500 ... aaaa\n",
      "1600 ... aaaa\n",
      "1700 ... aaaa\n",
      "1800 ... aaaa\n",
      "1900 ... aaaa\n",
      "2000 ... aaaa\n"
     ]
    }
   ],
   "source": [
    "S5 = S4.subop(cat2,Ran200)"
   ]
  },
  {
   "cell_type": "code",
   "execution_count": 36,
   "id": "267efdfc-f5a7-4f80-a468-f4b2674160fa",
   "metadata": {},
   "outputs": [
    {
     "data": {
      "text/plain": [
       "eval: False, true: 0, false:0, undecided:0, codas:143, datas:2017"
      ]
     },
     "execution_count": 36,
     "metadata": {},
     "output_type": "execute_result"
    }
   ],
   "source": [
    "S5"
   ]
  },
  {
   "cell_type": "code",
   "execution_count": 37,
   "id": "9d6132bc-a4bb-4460-903f-f6e750a7ae43",
   "metadata": {
    "collapsed": true,
    "jupyter": {
     "outputs_hidden": true
    },
    "tags": []
   },
   "outputs": [
    {
     "name": "stdout",
     "output_type": "stream",
     "text": [
      "apbin {b B}\n",
      "nth1 =\n",
      "endswith {B pass}\n",
      "nth1 {rev B}\n",
      "null {B last}\n",
      "pass ap\n",
      "endswith {B bin}\n",
      "some {rev B}\n",
      "imply 1\n",
      "ap2 app\n"
     ]
    }
   ],
   "source": [
    "for i in range(10): print(S5[i])"
   ]
  },
  {
   "cell_type": "code",
   "execution_count": 38,
   "id": "a6a0a26b-f527-49bf-b687-53f48cc328f4",
   "metadata": {},
   "outputs": [
    {
     "data": {
      "text/plain": [
       "91"
      ]
     },
     "execution_count": 38,
     "metadata": {},
     "output_type": "execute_result"
    }
   ],
   "source": [
    "len(Generate.Window(2,2))"
   ]
  },
  {
   "cell_type": "code",
   "execution_count": 39,
   "id": "ed423d0d-e55c-4db3-8f6f-543aba376169",
   "metadata": {},
   "outputs": [
    {
     "name": "stdout",
     "output_type": "stream",
     "text": [
      "100 ... aaaa\n",
      "200 ... aaaa\n",
      "300 ... aaaa\n",
      "400 ... aaaa\n",
      "500 ... aaaa\n",
      "600 ... aaaa\n",
      "700 ... aaaa\n",
      "800 ... aaaa\n",
      "900 ... aaaa\n",
      "1000 ... aaaa\n",
      "1100 ... aaaa\n",
      "1200 ... aaaa\n",
      "1300 ... aaaa\n",
      "1400 ... aaaa\n",
      "1500 ... aaaa\n",
      "1600 ... aaaa\n",
      "1700 ... aaaa\n",
      "1800 ... aaaa\n",
      "1900 ... aaaa\n",
      "2000 ... aaaa\n"
     ]
    },
    {
     "data": {
      "text/plain": [
       "eval: False, true: 0, false:0, undecided:0, codas:143, datas:2016"
      ]
     },
     "execution_count": 39,
     "metadata": {},
     "output_type": "execute_result"
    }
   ],
   "source": [
    "S6 = S5.subop(cat2,Generate.Window(2,2))\n",
    "S6"
   ]
  },
  {
   "cell_type": "code",
   "execution_count": 40,
   "id": "4b7f88d3-4f6e-44d8-9834-2b5b27515523",
   "metadata": {},
   "outputs": [
    {
     "name": "stdout",
     "output_type": "stream",
     "text": [
      "apbin {b B}\n",
      "nth1 =\n",
      "endswith {B pass}\n",
      "nth1 {rev B}\n",
      "null {B last}\n",
      "pass ap\n",
      "endswith {B bin}\n",
      "some {rev B}\n",
      "imply 1\n",
      "ap2 app\n",
      "endswith {𝝞𝝞𝝞𝟬𝝞𝟬𝝞𝝞𝝞𝝞𝝞𝝞𝟬𝝞𝝞𝟬𝟬 B}\n",
      "nth1 {B has1}\n",
      "if put\n",
      "rep {counts B}\n",
      "null rep\n",
      "null {has1 B}\n",
      "apif {B 𝝞𝝞𝝞𝟬𝝞𝟬𝝞𝝞𝝞𝟬𝝞𝟬𝝞𝝞𝝞𝝞𝟬}\n",
      "rep apbin\n",
      "ap imply\n",
      "apif {join B}\n",
      "pass app\n",
      "or {B apby}\n",
      "rep {join B}\n",
      "{B} first\n",
      "pass B\n",
      "ap {B A}\n",
      "nth1 dom\n",
      "or {startswith B}\n",
      "nth1 {3 B}\n",
      "{B =} app\n",
      "apif {B 𝝞𝝞𝝞𝟬𝝞𝟬𝝞𝝞𝝞𝝞𝝞𝝞𝟬𝝞𝝞𝟬𝟬}\n",
      "or {B apif}\n",
      "imply {B put}\n",
      "rep {B =}\n",
      "ap2 {collect B}\n",
      "ap2 {dom B}\n",
      "endswith A\n",
      "nth1 rep\n",
      "or {B has1}\n",
      "null {B nth1}\n",
      "or {equiv B}\n",
      "apif some\n",
      "rep {B post}\n",
      "put =\n",
      "rep 2\n",
      "apbin {app B}\n",
      "or {B *}\n",
      "or {bin B}\n",
      "pass {null B}\n",
      "pass {B 𝝞𝟬𝟬𝝞𝟬𝝞𝝞𝝞𝟬𝟬𝝞𝝞𝝞𝟬}\n",
      "ap2 {A B}\n",
      "imply {get1 B}\n",
      "nth1 {b B}\n",
      "{B =} =\n",
      "pass {B rep}\n",
      "if {ap B}\n",
      "apif {apif B}\n",
      "endswith {some B}\n",
      "endswith wrap\n",
      "startswith post\n",
      "ap2 {B app}\n",
      "endswith {B b}\n",
      "apif {B last}\n",
      "{= B} split\n",
      "nth1 wrap\n",
      "some {nth1 B}\n",
      "some {3 B}\n",
      "some {B b}\n",
      "apbin {𝝞𝝞𝝞𝟬𝝞𝟬𝝞𝝞𝝞𝟬𝝞𝟬𝝞𝝞𝝞𝝞𝟬 B}\n",
      "imply has1\n",
      "ap2 null\n",
      "ap2\n",
      "rep {B none}\n",
      "pass {B tail}\n",
      "imply {none B}\n",
      "null {B startswith}\n",
      "some {B apif}\n",
      "ap rep\n",
      "if {collect B}\n",
      "pass {put B}\n",
      "or apby\n",
      "null 0\n",
      "some {B or}\n",
      "apbin {apby B}\n",
      "pass imply\n",
      "pass {B apbin}\n",
      "null {B}\n",
      "if {none B}\n",
      "{B} 𝝞\n",
      "ap2 {ap B}\n",
      "startswith {B ap}\n",
      "null some\n",
      "or {B wrap}\n",
      "imply post\n",
      "nth1 {B}\n",
      "ap2 {bin B}\n",
      "or {app B}\n",
      "apif none\n",
      "pass {a B}\n",
      "or {split B}\n"
     ]
    }
   ],
   "source": []
  },
  {
   "cell_type": "code",
   "execution_count": null,
   "id": "a81a7dcc-ed50-40df-bdbf-aac0de7ad46b",
   "metadata": {},
   "outputs": [],
   "source": []
  }
 ],
 "metadata": {
  "kernelspec": {
   "display_name": "Python 3 (ipykernel)",
   "language": "python",
   "name": "python3"
  },
  "language_info": {
   "codemirror_mode": {
    "name": "ipython",
    "version": 3
   },
   "file_extension": ".py",
   "mimetype": "text/x-python",
   "name": "python",
   "nbconvert_exporter": "python",
   "pygments_lexer": "ipython3",
   "version": "3.11.1"
  }
 },
 "nbformat": 4,
 "nbformat_minor": 5
}
