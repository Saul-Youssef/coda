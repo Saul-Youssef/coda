{
 "cells": [
  {
   "cell_type": "markdown",
   "id": "81e09019-ecb3-4a7b-bc13-7b616f5f31f4",
   "metadata": {},
   "source": [
    "# Basic data samples \n",
    "\n",
    "Making data samples using the Sample module.\n",
    "\n"
   ]
  },
  {
   "cell_type": "markdown",
   "id": "249eac67-bf0f-4492-951d-e9a5f597851c",
   "metadata": {},
   "source": [
    "## Atoms and pure data \n",
    "\n",
    "First, let's sample data consisting of just sequences of (:) atoms and then samples of all pure data with "
   ]
  },
  {
   "cell_type": "code",
   "execution_count": 1,
   "id": "039a4c42-25de-4cd3-92be-d04eccfdecc1",
   "metadata": {},
   "outputs": [
    {
     "ename": "error",
     "evalue": "[in] is already defined",
     "output_type": "error",
     "traceback": [
      "\u001b[0;31m---------------------------------------------------------------------------\u001b[0m",
      "\u001b[0;31merror\u001b[0m                                     Traceback (most recent call last)",
      "Cell \u001b[0;32mIn[1], line 1\u001b[0m\n\u001b[0;32m----> 1\u001b[0m \u001b[38;5;28;01mfrom\u001b[39;00m \u001b[38;5;21;01mbase\u001b[39;00m \u001b[38;5;28;01mimport\u001b[39;00m \u001b[38;5;241m*\u001b[39m\n\u001b[1;32m      2\u001b[0m \u001b[38;5;28;01mimport\u001b[39;00m \u001b[38;5;21;01mSample\u001b[39;00m \n",
      "File \u001b[0;32m~/coda/py/base.py:254\u001b[0m\n\u001b[1;32m    250\u001b[0m \u001b[38;5;28;01mdef\u001b[39;00m \u001b[38;5;21mda\u001b[39m(text): \u001b[38;5;28;01mreturn\u001b[39;00m UNICODE\u001b[38;5;241m.\u001b[39mda(text)\n\u001b[1;32m    251\u001b[0m \u001b[38;5;66;03m#\u001b[39;00m\n\u001b[1;32m    252\u001b[0m \u001b[38;5;66;03m#   Import builtin definitions from other source files\u001b[39;00m\n\u001b[1;32m    253\u001b[0m \u001b[38;5;66;03m#\u001b[39;00m\n\u001b[0;32m--> 254\u001b[0m \u001b[38;5;28;01mimport\u001b[39;00m \u001b[38;5;21;01mbuiltin\u001b[39;00m\n\u001b[1;32m    256\u001b[0m \u001b[38;5;28;01mif\u001b[39;00m \u001b[38;5;18m__name__\u001b[39m\u001b[38;5;241m==\u001b[39m\u001b[38;5;124m'\u001b[39m\u001b[38;5;124m__main__\u001b[39m\u001b[38;5;124m'\u001b[39m:\n\u001b[1;32m    257\u001b[0m     \u001b[38;5;28mprint\u001b[39m(UNICODE)\n",
      "File \u001b[0;32m~/coda/py/builtin.py:4\u001b[0m\n\u001b[1;32m      1\u001b[0m \u001b[38;5;66;03m#\u001b[39;00m\n\u001b[1;32m      2\u001b[0m \u001b[38;5;66;03m#   Import built in definitions\u001b[39;00m\n\u001b[1;32m      3\u001b[0m \u001b[38;5;66;03m#\u001b[39;00m\n\u001b[0;32m----> 4\u001b[0m \u001b[38;5;28;01mimport\u001b[39;00m \u001b[38;5;21;01mLanguage\u001b[39;00m\u001b[38;5;241m,\u001b[39m\u001b[38;5;21;01mBasic\u001b[39;00m\u001b[38;5;241m,\u001b[39m\u001b[38;5;21;01mHelp\u001b[39;00m\u001b[38;5;241m,\u001b[39m\u001b[38;5;21;01mSequence\u001b[39;00m\u001b[38;5;241m,\u001b[39m\u001b[38;5;21;01mLogic\u001b[39;00m\u001b[38;5;241m,\u001b[39m\u001b[38;5;21;01mImport\u001b[39;00m\u001b[38;5;241m,\u001b[39m \\\n\u001b[1;32m      5\u001b[0m     Define,Apply,Code,Collect,Compile,Text,Sample,IO,Variable\n",
      "File \u001b[0;32m~/coda/py/Sequence.py:191\u001b[0m\n\u001b[1;32m    189\u001b[0m \u001b[38;5;28;01mdef\u001b[39;00m \u001b[38;5;21mIn_0\u001b[39m(domain,A,B):\n\u001b[1;32m    190\u001b[0m     \u001b[38;5;28;01mif\u001b[39;00m B\u001b[38;5;241m.\u001b[39mempty(): \u001b[38;5;28;01mreturn\u001b[39;00m data()\n\u001b[0;32m--> 191\u001b[0m \u001b[43mCONTEXT\u001b[49m\u001b[38;5;241;43m.\u001b[39;49m\u001b[43mdefine\u001b[49m\u001b[43m(\u001b[49m\u001b[38;5;124;43m'\u001b[39;49m\u001b[38;5;124;43min\u001b[39;49m\u001b[38;5;124;43m'\u001b[39;49m\u001b[43m,\u001b[49m\u001b[43mIn\u001b[49m\u001b[43m,\u001b[49m\u001b[43mIn_0\u001b[49m\u001b[43m)\u001b[49m\n",
      "File \u001b[0;32m~/coda/py/base.py:124\u001b[0m, in \u001b[0;36mContext.define\u001b[0;34m(self, name, *pfs)\u001b[0m\n\u001b[0;32m--> 124\u001b[0m \u001b[38;5;28;01mdef\u001b[39;00m \u001b[38;5;21mdefine\u001b[39m(\u001b[38;5;28mself\u001b[39m,name,\u001b[38;5;241m*\u001b[39mpfs): \u001b[38;5;28;01mreturn\u001b[39;00m \u001b[38;5;28;43mself\u001b[39;49m\u001b[38;5;241;43m.\u001b[39;49m\u001b[43madd\u001b[49m\u001b[43m(\u001b[49m\u001b[43mDefinition\u001b[49m\u001b[43m(\u001b[49m\u001b[43mda\u001b[49m\u001b[43m(\u001b[49m\u001b[43mname\u001b[49m\u001b[43m)\u001b[49m\u001b[43m,\u001b[49m\u001b[38;5;241;43m*\u001b[39;49m\u001b[43mpfs\u001b[49m\u001b[43m)\u001b[49m\u001b[43m)\u001b[49m\n",
      "File \u001b[0;32m~/coda/py/base.py:126\u001b[0m, in \u001b[0;36mContext.add\u001b[0;34m(self, definition)\u001b[0m\n\u001b[1;32m    125\u001b[0m \u001b[38;5;28;01mdef\u001b[39;00m \u001b[38;5;21madd\u001b[39m(\u001b[38;5;28mself\u001b[39m,definition):\n\u001b[0;32m--> 126\u001b[0m     \u001b[38;5;28;01mif\u001b[39;00m definition\u001b[38;5;241m.\u001b[39mdomain() \u001b[38;5;129;01min\u001b[39;00m \u001b[38;5;28mself\u001b[39m\u001b[38;5;241m.\u001b[39m_definitions: \u001b[38;5;28;01mraise\u001b[39;00m error(\u001b[38;5;124m'\u001b[39m\u001b[38;5;124m[\u001b[39m\u001b[38;5;124m'\u001b[39m\u001b[38;5;241m+\u001b[39m\u001b[38;5;28mstr\u001b[39m(definition\u001b[38;5;241m.\u001b[39mdomain())\u001b[38;5;241m+\u001b[39m\u001b[38;5;124m'\u001b[39m\u001b[38;5;124m]\u001b[39m\u001b[38;5;124m'\u001b[39m\u001b[38;5;241m+\u001b[39m\u001b[38;5;124m'\u001b[39m\u001b[38;5;124m is already defined\u001b[39m\u001b[38;5;124m'\u001b[39m)\n\u001b[1;32m    127\u001b[0m     \u001b[38;5;28mself\u001b[39m\u001b[38;5;241m.\u001b[39m_definitions[definition\u001b[38;5;241m.\u001b[39mdomain()] \u001b[38;5;241m=\u001b[39m definition\n\u001b[1;32m    128\u001b[0m     \u001b[38;5;28;01mreturn\u001b[39;00m \u001b[38;5;28mself\u001b[39m\n",
      "\u001b[0;31merror\u001b[0m: [in] is already defined"
     ]
    }
   ],
   "source": [
    "from base import *\n",
    "import Sample "
   ]
  },
  {
   "cell_type": "code",
   "execution_count": null,
   "id": "a66a5bf3-3a00-4e2d-96eb-3c568a37e54a",
   "metadata": {},
   "outputs": [],
   "source": [
    "#\n",
    "#   Use oddAtoms and evenAtoms to get datas consisting of sequences of (:). \n",
    "for d in Sample. oddAtoms(4): print(len(d),d)\n",
    "for d in Sample.evenAtoms(4): print(len(d),d)"
   ]
  },
  {
   "cell_type": "code",
   "execution_count": null,
   "id": "24c3c3f9-4e2f-4e07-a8ad-79d760bc02b4",
   "metadata": {},
   "outputs": [],
   "source": [
    "#\n",
    "#   For pure samples, use pure(width,depth) for all pure data with width \n",
    "#   less than or equal to 'width' and depth less than or equal to 'depth'. \n",
    "#\n",
    "import Set \n",
    "def pure(width,depth):\n",
    "    L = Sample.pure(width,depth)\n",
    "    return Set.Set(*L)\n",
    "pure(2,2)"
   ]
  },
  {
   "cell_type": "markdown",
   "id": "f606f38e-b41b-489b-8b58-bad7313e9af4",
   "metadata": {},
   "source": [
    "### Pure Data Sizes \n",
    "\n",
    "|         | width 1  | width 2 | width 3 | width 4  | width 5 |\n",
    "|---------|---------:|--------:|--------:|---------:|--------:|\n",
    "|depth 1  |    2     |    3    |    4    |     5    |    6    |\n",
    "|depth 2  |    5     |     91   |    4369   |   406,901    |    62,193,781    |\n",
    "|depth 3  |    26     |     68,583,243   |    ?    |     ?    |    ?    |\n",
    "|depth 4  |    677     |     ?   |    ?    |     ?    |    ?    |\n",
    "|depth 5  |    458,330     |     ?   |    ?    |     ?    |    ?    |\n",
    "\n",
    "The sizes of these samples grows very rapidly with maximum width and depth. "
   ]
  },
  {
   "cell_type": "code",
   "execution_count": null,
   "id": "fe6d008b-be7d-4d6e-ac8b-7e56e3b2dcee",
   "metadata": {
    "tags": []
   },
   "outputs": [],
   "source": [
    "for s in pure(3,2).sample(10): print(s)"
   ]
  },
  {
   "cell_type": "markdown",
   "id": "e90db51c-748c-404c-84c9-1d7cc31e1673",
   "metadata": {},
   "source": [
    "## Coda based samples \n",
    "\n",
    "The Domain class in Sample lets you get data samples using a given collections of codas.  You specify a sample with a list of codas, and a specified maximum width and maximum depth."
   ]
  },
  {
   "cell_type": "code",
   "execution_count": null,
   "id": "73eb91b3-98e7-4eca-a696-440fb6925511",
   "metadata": {
    "tags": []
   },
   "outputs": [],
   "source": [
    "#\n",
    "#   For example, let's make data samples \n",
    "#   with 'a' and 'b' for base codas. \n",
    "#\n",
    "DOM = Sample.Domain(co('a'),co('b'))\n",
    "def window(D,width,depth):\n",
    "    W = Set.Set(*D.window(width,depth))\n",
    "    return W\n",
    "for s in window(DOM,2,2): print(s)"
   ]
  },
  {
   "cell_type": "code",
   "execution_count": null,
   "id": "c559f53c-2a11-4ae5-892f-060c107a98ee",
   "metadata": {},
   "outputs": [],
   "source": [
    "#\n",
    "#   For a more interesting sample, \n",
    "#\n",
    "DOM2 = Sample.Domain(*Sample.codas)\n",
    "print(len(Sample.codas),','.join([str(c) for c in Sample.codas]))"
   ]
  },
  {
   "cell_type": "code",
   "execution_count": null,
   "id": "31dd6ff7-d2ec-48fe-ad99-1ce0336aca7a",
   "metadata": {},
   "outputs": [],
   "source": [
    "S22 = window(DOM2,2,2)"
   ]
  },
  {
   "cell_type": "code",
   "execution_count": null,
   "id": "e4530a0e-972c-42f5-a4c6-9305b02e2853",
   "metadata": {
    "tags": []
   },
   "outputs": [],
   "source": [
    "for s in S22.sample(10): print(s)"
   ]
  },
  {
   "cell_type": "code",
   "execution_count": null,
   "id": "7f3e0f31-cdcd-4ec8-a429-d584e104e99c",
   "metadata": {
    "tags": []
   },
   "outputs": [],
   "source": [
    "for s in window(DOM2,3,1).sample(10): print(s)"
   ]
  },
  {
   "cell_type": "code",
   "execution_count": null,
   "id": "7be7455c-24ba-493e-8e43-176d32e5cb5e",
   "metadata": {},
   "outputs": [],
   "source": [
    "def pr(w,d): print(w,d,len(window(DOM2,w,d)))"
   ]
  },
  {
   "cell_type": "markdown",
   "id": "8ea9ce25-eff1-4031-ae3f-8ce3e678d12c",
   "metadata": {},
   "source": [
    "### Coda Sample Sizes  \n",
    "\n",
    "|         | width 1  | width 2 | width 3 | width 4  | width 5 |\n",
    "|---------|---------:|--------:|--------:|---------:|--------:|\n",
    "|depth 1  |    63     |    3969    |    250,047    |     15,752,961    |    ?    |\n",
    "|depth 2  |    4032    |    16,257,024   |     ?   |      ?    |    ?    |\n",
    "|depth 3  |    16,261,056     |     ?   |    ?    |     ?    |    ?    |\n",
    "|depth 4  |    ?     |     ?   |    ?    |     ?    |    ?    |\n",
    "|depth 5  |    ?     |     ?   |    ?    |     ?    |    ?    |\n",
    "\n",
    "In either case of pure data or coda samples like the above, any data will eventually appear in the sample for large enough width and depth.  Coda samples grow rapidly with width and depth as well, but they are far more practical for \n",
    "searching since the base set of codas can be used to aim towards known definitions. "
   ]
  },
  {
   "cell_type": "code",
   "execution_count": null,
   "id": "1351b83d-d5bd-43b6-81f7-9008b3a7549b",
   "metadata": {},
   "outputs": [],
   "source": [
    "','.join([str(l) for l in L])"
   ]
  },
  {
   "cell_type": "code",
   "execution_count": null,
   "id": "2072a5b2-d344-47e2-9ca4-b26989d07647",
   "metadata": {},
   "outputs": [],
   "source": [
    "DOM3 = Sample.Domain(*L)"
   ]
  },
  {
   "cell_type": "code",
   "execution_count": null,
   "id": "4e75826f-9329-45e8-b54e-68b070add764",
   "metadata": {},
   "outputs": [],
   "source": [
    "for d in window(DOM3,3,1).sample(10): print(d)"
   ]
  },
  {
   "cell_type": "code",
   "execution_count": null,
   "id": "1fa8005e-6369-44dd-9116-5c6b54b1cf18",
   "metadata": {},
   "outputs": [],
   "source": []
  },
  {
   "cell_type": "code",
   "execution_count": null,
   "id": "96683f29-a652-4d40-bf88-3add6cb03190",
   "metadata": {},
   "outputs": [],
   "source": []
  }
 ],
 "metadata": {
  "kernelspec": {
   "display_name": "Python 3 (ipykernel)",
   "language": "python",
   "name": "python3"
  },
  "language_info": {
   "codemirror_mode": {
    "name": "ipython",
    "version": 3
   },
   "file_extension": ".py",
   "mimetype": "text/x-python",
   "name": "python",
   "nbconvert_exporter": "python",
   "pygments_lexer": "ipython3",
   "version": "3.10.7"
  }
 },
 "nbformat": 4,
 "nbformat_minor": 5
}
