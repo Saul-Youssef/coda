{
 "cells": [
  {
   "cell_type": "markdown",
   "id": "e9f67ed1-dabc-4225-9735-8dfe6293a1e5",
   "metadata": {},
   "source": [
    "## Theorem \n",
    "\n",
    "Data which is never false is called a **theorem**.  "
   ]
  },
  {
   "cell_type": "code",
   "execution_count": 1,
   "id": "c177a7ad-1107-41fe-b2aa-c8a4af03950d",
   "metadata": {},
   "outputs": [
    {
     "name": "stdout",
     "output_type": "stream",
     "text": [
      "◎ ◎ ◎ ◎ ◎"
     ]
    }
   ],
   "source": [
    "theorem (x?=(first 10:x?)) : sample.odd : 10"
   ]
  },
  {
   "cell_type": "code",
   "execution_count": 2,
   "id": "fa5c4980-28b9-4506-a41b-13c14b1b23b3",
   "metadata": {},
   "outputs": [
    {
     "name": "stdout",
     "output_type": "stream",
     "text": [
      "(:◎) (:◎ ◎ ◎) (:◎ ◎ ◎ ◎ ◎) (:◎ ◎ ◎ ◎ ◎ ◎ ◎) (:◎ ◎ ◎ ◎ ◎ ◎ ◎ ◎ ◎) (:◎ ◎ ◎ ◎ ◎ ◎ ◎ ◎ ◎ ◎ ◎) (:◎ ◎ ◎ ◎ ◎ ◎ ◎ ◎ ◎ ◎ ◎ ◎ ◎) (:◎ ◎ ◎ ◎ ◎ ◎ ◎ ◎ ◎ ◎ ◎ ◎ ◎ ◎ ◎) (:◎ ◎ ◎ ◎ ◎ ◎ ◎ ◎ ◎ ◎ ◎ ◎ ◎ ◎ ◎ ◎ ◎) (:◎ ◎ ◎ ◎ ◎ ◎ ◎ ◎ ◎ ◎ ◎ ◎ ◎ ◎ ◎ ◎ ◎ ◎ ◎) (:◎ ◎ ◎ ◎ ◎ ◎ ◎ ◎ ◎ ◎ ◎ ◎ ◎ ◎ ◎ ◎ ◎ ◎ ◎ ◎ ◎) (:◎ ◎ ◎ ◎ ◎ ◎ ◎ ◎ ◎ ◎ ◎ ◎ ◎ ◎ ◎ ◎ ◎ ◎ ◎ ◎ ◎ ◎ ◎) (:◎ ◎ ◎ ◎ ◎ ◎ ◎ ◎ ◎ ◎ ◎ ◎ ◎ ◎ ◎ ◎ ◎ ◎ ◎ ◎ ◎ ◎ ◎ ◎ ◎) (:◎ ◎ ◎ ◎ ◎ ◎ ◎ ◎ ◎ ◎ ◎ ◎ ◎ ◎ ◎ ◎ ◎ ◎ ◎ ◎ ◎ ◎ ◎ ◎ ◎ ◎ ◎) (:◎ ◎ ◎ ◎ ◎ ◎ ◎ ◎ ◎ ◎ ◎ ◎ ◎ ◎ ◎ ◎ ◎ ◎ ◎ ◎ ◎ ◎ ◎ ◎ ◎ ◎ ◎ ◎ ◎) (:◎ ◎ ◎ ◎ ◎ ◎ ◎ ◎ ◎ ◎ ◎ ◎ ◎ ◎ ◎ ◎ ◎ ◎ ◎ ◎ ◎ ◎ ◎ ◎ ◎ ◎ ◎ ◎ ◎ ◎ ◎) (:◎ ◎ ◎ ◎ ◎ ◎ ◎ ◎ ◎ ◎ ◎ ◎ ◎ ◎ ◎ ◎ ◎ ◎ ◎ ◎ ◎ ◎ ◎ ◎ ◎ ◎ ◎ ◎ ◎ ◎ ◎ ◎ ◎) (:◎ ◎ ◎ ◎ ◎ ◎ ◎ ◎ ◎ ◎ ◎ ◎ ◎ ◎ ◎ ◎ ◎ ◎ ◎ ◎ ◎ ◎ ◎ ◎ ◎ ◎ ◎ ◎ ◎ ◎ ◎ ◎ ◎ ◎ ◎) (:◎ ◎ ◎ ◎ ◎ ◎ ◎ ◎ ◎ ◎ ◎ ◎ ◎ ◎ ◎ ◎ ◎ ◎ ◎ ◎ ◎ ◎ ◎ ◎ ◎ ◎ ◎ ◎ ◎ ◎ ◎ ◎ ◎ ◎ ◎ ◎ ◎) (:◎ ◎ ◎ ◎ ◎ ◎ ◎ ◎ ◎ ◎ ◎ ◎ ◎ ◎ ◎ ◎ ◎ ◎ ◎ ◎ ◎ ◎ ◎ ◎ ◎ ◎ ◎ ◎ ◎ ◎ ◎ ◎ ◎ ◎ ◎ ◎ ◎ ◎ ◎)"
     ]
    }
   ],
   "source": [
    "sample.odd: 20 "
   ]
  },
  {
   "cell_type": "code",
   "execution_count": 3,
   "id": "13f3166f-5ee9-48d4-8e0b-181b8ecd75c4",
   "metadata": {},
   "outputs": [
    {
     "name": "stdout",
     "output_type": "stream",
     "text": []
    }
   ],
   "source": [
    "theorem (x?=x?) : (sample.odd:10) (sample.even:10) (sample.pure:1 1)"
   ]
  },
  {
   "cell_type": "code",
   "execution_count": 4,
   "id": "9db9d2d0-699f-47eb-9bab-05796f2097bc",
   "metadata": {},
   "outputs": [
    {
     "name": "stdout",
     "output_type": "stream",
     "text": [
      "◎ ◎ ◎ ◎ ◎ ◎ ◎"
     ]
    }
   ],
   "source": [
    "theorem (x?=(first 5:x?)) : (sample.pure : 2 2) (sample.odd:10)"
   ]
  },
  {
   "cell_type": "markdown",
   "id": "8c4fdad8-9e1a-4da5-9bdb-db8329dfe3d3",
   "metadata": {},
   "source": [
    "For example, let's address the following issue: \n",
    "\n",
    "* is int_max a space?\n",
    "\n"
   ]
  },
  {
   "cell_type": "markdown",
   "id": "f6e99b8a-ea0d-4c1c-bc0c-a9946f482ff1",
   "metadata": {},
   "source": [
    "Is idempotent : int_max a theorem?  "
   ]
  },
  {
   "cell_type": "markdown",
   "id": "9a6af2e8-aa83-498d-bb72-ded5674b0885",
   "metadata": {},
   "source": [
    "## Which basic operations are nullpotent? \n",
    "\n",
    "* Data A is **idempotent** if A:A:X is equal to A:X for all data X. \n",
    "* Data A is **nullpotent** if A:X is equal to () for all data X. "
   ]
  },
  {
   "cell_type": "code",
   "execution_count": 5,
   "id": "8d27bd40-e322-4910-b721-31d528e3b3f6",
   "metadata": {},
   "outputs": [
    {
     "name": "stdout",
     "output_type": "stream",
     "text": []
    }
   ],
   "source": [
    "let nullpotent : {bool : B : x?} \n",
    "let basics : defs :  Basic Number Sequence Apply"
   ]
  },
  {
   "cell_type": "code",
   "execution_count": 6,
   "id": "a3d6ca38-d0d8-4348-9189-11a37ec9894c",
   "metadata": {},
   "outputs": [
    {
     "name": "stdout",
     "output_type": "stream",
     "text": [
      "pass null bin put get domain left right if nif * nat code_sort ints int_sum int_prod int_sort int_min int_max int_inv int_div nats floats float_sum float_prod float_sort float_min float_max float_inv float_div rev first tail last rep nth1 once count ap aq by ax nth pre post while kernel ker mor hasnt has isnt is"
     ]
    }
   ],
   "source": [
    "basics?"
   ]
  },
  {
   "cell_type": "code",
   "execution_count": 7,
   "id": "48c2af8a-c327-47c4-9ccd-b45a28b16d49",
   "metadata": {},
   "outputs": [
    {
     "name": "stdout",
     "output_type": "stream",
     "text": []
    }
   ],
   "source": [
    "def thm : {(bin A : (bool : theorem (nullpotent:A) : B))}"
   ]
  },
  {
   "cell_type": "code",
   "execution_count": 8,
   "id": "9e1d373b-05b6-43ae-b9ef-ba9944e212c5",
   "metadata": {},
   "outputs": [
    {
     "name": "stdout",
     "output_type": "stream",
     "text": [
      "pass null bin put"
     ]
    }
   ],
   "source": [
    "first 4 : basics?"
   ]
  },
  {
   "cell_type": "code",
   "execution_count": 9,
   "id": "7f8c8d5a-b1a7-4e08-b76d-5f4814cdbe67",
   "metadata": {},
   "outputs": [
    {
     "name": "stdout",
     "output_type": "stream",
     "text": []
    }
   ],
   "source": [
    "let 1 : ap {thm B : pure : 2 2} : first 4 : basics?"
   ]
  },
  {
   "cell_type": "code",
   "execution_count": 10,
   "id": "e5006b12-7fc8-4837-8666-b89f603d9c08",
   "metadata": {},
   "outputs": [
    {
     "name": "stdout",
     "output_type": "stream",
     "text": []
    }
   ],
   "source": [
    "theorem (x?=x?) : pure : 2 2 "
   ]
  },
  {
   "cell_type": "code",
   "execution_count": 11,
   "id": "b149f497-d814-43df-aec5-0e824b354b7d",
   "metadata": {},
   "outputs": [
    {
     "name": "stdout",
     "output_type": "stream",
     "text": [
      "(((:):(:)):(((:):):((:):)((:):)((:):(:))((:):(:))((:):)((:):)((:):(:))((:):))) (((:):(:)):(((:):):((:):)((:):)((:):(:))((:):(:))((:):)((:):)((:):(:))((:):)))"
     ]
    }
   ],
   "source": [
    "pure : 2 2 "
   ]
  },
  {
   "cell_type": "code",
   "execution_count": null,
   "id": "4b3c0003-ea34-491f-b63c-7e14cad7fb5c",
   "metadata": {},
   "outputs": [],
   "source": [
    "1?"
   ]
  },
  {
   "cell_type": "code",
   "execution_count": null,
   "id": "fa833185-2381-417e-a99a-49fc290f02f3",
   "metadata": {},
   "outputs": [],
   "source": [
    "bool : theorem (nif:x?) : sample.atom : 10 "
   ]
  },
  {
   "cell_type": "code",
   "execution_count": null,
   "id": "db26b7e9-7874-4400-8741-6dea031ee824",
   "metadata": {},
   "outputs": [],
   "source": [
    "sample.atom: 10"
   ]
  },
  {
   "cell_type": "code",
   "execution_count": null,
   "id": "c612250d-82ec-47ec-ac0f-2ce105e88a9e",
   "metadata": {},
   "outputs": [],
   "source": []
  }
 ],
 "metadata": {
  "kernelspec": {
   "display_name": "coda",
   "language": "",
   "name": "coda"
  },
  "language_info": {
   "file_extension": ".co",
   "mimetype": "text/plain",
   "name": "Any text"
  }
 },
 "nbformat": 4,
 "nbformat_minor": 5
}
