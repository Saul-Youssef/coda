{
 "cells": [
  {
   "cell_type": "markdown",
   "id": "bd9c1216-31b9-4c51-85cf-5341ebd3dcfe",
   "metadata": {},
   "source": [
    "## What are the Rings?\n",
    "\n",
    "A ring is data R such that \n",
    "\n",
    "* R X Y : Z = (R X:Z) (R Y:Z) and \n",
    "* R X : Y Z = (R X:Y) (R X:Z) \n",
    "\n",
    "Without loss of generality, R = ar A for some data A."
   ]
  },
  {
   "cell_type": "code",
   "execution_count": 1,
   "id": "339b3844-28a9-445a-bc72-df1a5e869c40",
   "metadata": {},
   "outputs": [
    {
     "name": "stdout",
     "output_type": "stream",
     "text": []
    }
   ],
   "source": [
    "import : dir co : up : ."
   ]
  },
  {
   "cell_type": "code",
   "execution_count": 2,
   "id": "cdd67258-df51-4467-b7ba-b0dad128c1d0",
   "metadata": {},
   "outputs": [
    {
     "name": "stdout",
     "output_type": "stream",
     "text": []
    }
   ],
   "source": [
    "Let Dom : (permutation 2 : 0 1 2 3)\n",
    "          (permutation 1 : 0 1 2)\n",
    "          (permutation 0 :) "
   ]
  },
  {
   "cell_type": "code",
   "execution_count": 3,
   "id": "18a77f7b-3db9-40f0-8c3c-da0b35c22bf5",
   "metadata": {},
   "outputs": [
    {
     "name": "stdout",
     "output_type": "stream",
     "text": [
      "(:0 0) (:0 1) (:0 2) (:0 3) (:1 0) (:1 1) (:1 2) (:1 3) (:2 0) (:2 1) (:2 2) (:2 3) (:3 0) (:3 1) (:3 2) (:3 3) (:0) (:1) (:2) ◎"
     ]
    }
   ],
   "source": [
    "Dom?"
   ]
  },
  {
   "cell_type": "code",
   "execution_count": 4,
   "id": "3565e19c-2221-4708-9c20-58390e0ed95d",
   "metadata": {},
   "outputs": [
    {
     "name": "stdout",
     "output_type": "stream",
     "text": []
    }
   ],
   "source": [
    "Def Test : {count : theorem (ring_left:ar A) (ring_right:ar A) : B}"
   ]
  },
  {
   "cell_type": "code",
   "execution_count": 5,
   "id": "582b57b5-77da-46e6-a60d-c028cf2d0687",
   "metadata": {},
   "outputs": [
    {
     "name": "stdout",
     "output_type": "stream",
     "text": [
      "0"
     ]
    }
   ],
   "source": [
    "Test {|} : Dom?"
   ]
  },
  {
   "cell_type": "code",
   "execution_count": null,
   "id": "e04d4c33-5063-46de-9d22-94d5d79877c6",
   "metadata": {},
   "outputs": [],
   "source": [
    "Test bin : Dom?"
   ]
  },
  {
   "cell_type": "code",
   "execution_count": null,
   "id": "bc792cdb-d88e-471e-8934-fd6402792e76",
   "metadata": {},
   "outputs": [],
   "source": [
    "Test {| ^} : Dom?"
   ]
  },
  {
   "cell_type": "code",
   "execution_count": null,
   "id": "2f81699b-02b2-4f39-b755-4d50781b759d",
   "metadata": {},
   "outputs": [],
   "source": [
    "Test rev : Dom?"
   ]
  },
  {
   "cell_type": "code",
   "execution_count": null,
   "id": "a7a4a176-4aef-4917-ad56-f59a57c7ecc1",
   "metadata": {
    "tags": []
   },
   "outputs": [],
   "source": [
    "Test nth : Dom?"
   ]
  },
  {
   "cell_type": "code",
   "execution_count": null,
   "id": "e23964b8-b0b1-46b7-8601-d3598fc4808f",
   "metadata": {},
   "outputs": [],
   "source": []
  }
 ],
 "metadata": {
  "kernelspec": {
   "display_name": "coda",
   "language": "",
   "name": "coda"
  },
  "language_info": {
   "file_extension": ".co",
   "mimetype": "text/plain",
   "name": "Any text"
  }
 },
 "nbformat": 4,
 "nbformat_minor": 5
}
