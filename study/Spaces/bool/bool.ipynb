{
 "cells": [
  {
   "cell_type": "markdown",
   "id": "e93e3adb-594c-4245-a548-c97bdada2c4f",
   "metadata": {},
   "source": [
    "# bool\n",
    "\n",
    "As we know, data is defined to be **true** if it is equal to empty data *()* and is defined to be **false** if it is atomic.  Data can also be **undecided** and, in cases like Godel's theorem, data can be **undecidable**.  Here we consider the built-in partial function **bool** which computes the logical value of data. **bool** is defined by \n",
    "\n",
    "* (bool:B) -> () if B is empty\n",
    "* (bool:B) -> (:) if B is atomic \n",
    "\n",
    "so that bool:X is the logical value of the data X.  Bool is also a **space**, meaning that bool is idempotent and \n",
    "\n",
    "* bool : X Y = bool : (bool : X) (bool:Y) \n",
    "\n",
    "for all data X and Y.  Bool is nice and organic.  It's perhaps the most basic naturally occurring space within the space **pass** of all pure data.  \n",
    "\n",
    "1. Demonstrate basic properties of **bool**.\n",
    "2. What are the endomorphisms of **bool**?\n",
    "3. What are the endomorphisms of \"boolean variables\" (Up b:bool)?\n"
   ]
  },
  {
   "cell_type": "code",
   "execution_count": 1,
   "id": "eda65bcc-a3e5-4922-94c2-53a7caaedc47",
   "metadata": {},
   "outputs": [
    {
     "name": "stdout",
     "output_type": "stream",
     "text": [
      "(defaultTime:100)"
     ]
    }
   ],
   "source": [
    "#\n",
    "#   Set a convenient defaultTime for evaluation and import \n",
    "#   space-related definitions.\n",
    "#\n",
    "defaultTime:100\n",
    "import : dir co : up : ."
   ]
  },
  {
   "cell_type": "markdown",
   "id": "c62f21c6-c25d-4855-a4ee-bf3c56820733",
   "metadata": {},
   "source": [
    "### 1. Demonstrate basic properties of **bool**"
   ]
  },
  {
   "cell_type": "code",
   "execution_count": 2,
   "id": "3cd9ae6f-b843-4de4-a284-30f4135a83cb",
   "metadata": {},
   "outputs": [
    {
     "name": "stdout",
     "output_type": "stream",
     "text": [
      "◎\n",
      "1\n",
      "0"
     ]
    }
   ],
   "source": [
    "#\n",
    "#   Basic property\n",
    "#\n",
    "bool: (pass : a b c )\n",
    "bool: (null : a b c )\n",
    "#\n",
    "#   It is sometimes convenient to use count for display purposes, \n",
    "#   so that \"true\" data get's count 0. bool:X is true if and only \n",
    "#   if count:X is 0. \n",
    "#\n",
    "count : bool: (pass : a b c )\n",
    "count : bool: (null : a b c )\n",
    "#\n",
    "#   Although count is equivalent in some sense to bool, note that \n",
    "#   count is not a space. \n",
    "#"
   ]
  },
  {
   "cell_type": "code",
   "execution_count": 3,
   "id": "d9dc099e-07fa-448c-b861-2692939fffd4",
   "metadata": {},
   "outputs": [
    {
     "name": "stdout",
     "output_type": "stream",
     "text": [
      "◎\n",
      "◎\n",
      "◎\n",
      "◎"
     ]
    }
   ],
   "source": [
    "#\n",
    "#   bool is a space, meaning the the following should all be equal\n",
    "#\n",
    "bool : a b c \n",
    "bool : bool : a b c \n",
    "bool : (bool : a b ) (bool: c)\n",
    "bool : (bool : ) (bool : a b c )"
   ]
  },
  {
   "cell_type": "markdown",
   "id": "4117cf23-68dd-4a39-8293-97ec783b81bd",
   "metadata": {},
   "source": [
    "### 2. Endomorphisms of bool \n",
    "\n",
    "For any data X, bool\\*X\\*bool is an endomorphism of bool (End bool:X), thus motivating a definition \n",
    "\n",
    "* Def end : {End bool : B}"
   ]
  },
  {
   "cell_type": "code",
   "execution_count": 4,
   "id": "c6980433-e476-484d-bdfb-d3ea7f584e1e",
   "metadata": {},
   "outputs": [
    {
     "name": "stdout",
     "output_type": "stream",
     "text": []
    }
   ],
   "source": [
    "Def end : {End bool:B} "
   ]
  },
  {
   "cell_type": "code",
   "execution_count": 5,
   "id": "caaeda03-8ae0-47eb-802b-34579fe99595",
   "metadata": {},
   "outputs": [
    {
     "name": "stdout",
     "output_type": "stream",
     "text": []
    }
   ],
   "source": [
    "#\n",
    "#   Since bool:X is either () or (:), there are only four \n",
    "#   possible small endomorphisms of bool.  \n",
    "#\n",
    "#   As with all spaces, bool is an endomorphism of itself, thus e1.  \n",
    "#   e2,e3 and e4 are the other possibilities.\n",
    "#\n",
    "Def e1 : bool \n",
    "Def e2 : end : null \n",
    "Def e3 : end : const (:) \n",
    "Def e4 : end : not "
   ]
  },
  {
   "cell_type": "code",
   "execution_count": 6,
   "id": "6d1e98df-7a2c-4f07-a021-bec6d580f264",
   "metadata": {},
   "outputs": [
    {
     "name": "stdout",
     "output_type": "stream",
     "text": [
      "0\n",
      "1\n",
      "-\n",
      "0\n",
      "0\n",
      "-\n",
      "1\n",
      "1\n",
      "-\n",
      "1\n",
      "0"
     ]
    }
   ],
   "source": [
    "count : e1 : ()\n",
    "count : e1 : (:) \n",
    "-\n",
    "count : e2 : () \n",
    "count : e2 : (:) \n",
    "-\n",
    "count : e3 : ()\n",
    "count : e3 : (:) \n",
    "- \n",
    "count : e4 : ()\n",
    "count : e4 : (:) "
   ]
  },
  {
   "cell_type": "markdown",
   "id": "2e907fb7-9647-4c49-aaad-d4d757c09d39",
   "metadata": {},
   "source": [
    "Thus, the four small endomorphisms have the familiar conceptual meaning \n",
    "\n",
    "* IDENTITY \n",
    "* TRUE \n",
    "* FALSE\n",
    "* NOT \n",
    "\n",
    "In other words, e1,e2,e3 and e4 each have familiar conceptual meaning."
   ]
  },
  {
   "cell_type": "code",
   "execution_count": 7,
   "id": "59dd70c4-6378-4e5e-949f-f5b347d38935",
   "metadata": {},
   "outputs": [
    {
     "name": "stdout",
     "output_type": "stream",
     "text": [
      "0\n",
      "1"
     ]
    }
   ],
   "source": [
    "#\n",
    "#   end:X is an endomorphism for any X, but these are \n",
    "#   equal to e1,e2,e3 or e4.  (end:rev), for instance is e1.  \n",
    "#\n",
    "count : (end : rev) : () \n",
    "count : (end : rev) : (:)"
   ]
  },
  {
   "cell_type": "markdown",
   "id": "8f1f556b-6498-4de8-b4a9-96f0f651faf2",
   "metadata": {},
   "source": [
    "### 3. Boolean sequences and their endomorphisms \n",
    "\n",
    "The space **bool** is analogous to the space **stick=ap {|}** for the natural numbers.  bool:X is one boolean value, just as stick:X is one natural number.  As with natural numbers, if we want to have a space of sequences of booleans, we introduce an atom **b** to store boolean values.  **b** is then like a bool valued variable.  The \"functor\" **Up** constructs a new space (**Up b:bool**) from the space bool."
   ]
  },
  {
   "cell_type": "code",
   "execution_count": 8,
   "id": "04663bd7-e4e5-419f-8873-4902dad50a64",
   "metadata": {},
   "outputs": [
    {
     "name": "stdout",
     "output_type": "stream",
     "text": []
    }
   ],
   "source": [
    "#\n",
    "#   Define L to be (Up b : bool), sequences of \"boolean variables.\" \n",
    "#\n",
    "Def b : \n",
    "Def L : Up b : bool "
   ]
  },
  {
   "cell_type": "code",
   "execution_count": 9,
   "id": "da1acaa4-218b-4066-bb34-bdefabd2b23d",
   "metadata": {},
   "outputs": [
    {
     "name": "stdout",
     "output_type": "stream",
     "text": [
      "(b:◎) (b:) (b:) (b:◎) (b:◎)\n",
      "(b:◎) (b:) (b:) (b:◎) (b:◎)\n",
      "(b:◎) (b:) (b:) (b:◎) (b:◎)"
     ]
    }
   ],
   "source": [
    "#\n",
    "#   These three should be the same, since L is a space \n",
    "#\n",
    "L     : (b:x) (b:) zz (b:y) (b:y)\n",
    "L : L : (b:x) (b:) zz (b:y) (b:y)\n",
    "L : ( L : (b:x) (b:) zz ) ( L : (b:y) (b:y)) "
   ]
  },
  {
   "cell_type": "code",
   "execution_count": 10,
   "id": "64f5b2fa-f6a1-4181-8324-8371eabfa18a",
   "metadata": {},
   "outputs": [
    {
     "name": "stdout",
     "output_type": "stream",
     "text": []
    }
   ],
   "source": [
    "#\n",
    "#   E : X is a \"big\" endomorphism L*X*L \n",
    "#   e : X is a \"small\" endomorphism L*(put b)*X*(get b)*L \n",
    "#   LS : is a sample of data from L for testing, all data up to length 3.\n",
    "#\n",
    "Def E : End L \n",
    "Def e : {End L : Down b : B}"
   ]
  },
  {
   "cell_type": "code",
   "execution_count": 39,
   "id": "e21ee54f-d04d-4bf9-a290-f5a443f9a0c0",
   "metadata": {},
   "outputs": [
    {
     "name": "stdout",
     "output_type": "stream",
     "text": [
      "(b:◎) (b:)\n",
      "(b:) (b:◎)\n",
      "(b:) (b:◎) (b:) (b:◎)\n",
      "(b:◎)\n",
      "(b:)"
     ]
    }
   ],
   "source": [
    "#\n",
    "#   (E:X) and (e:X) are endomorphisms for any X.  Here are a few examples.\n",
    "#\n",
    "(E:rev) : (b:) (b:(:))\n",
    "(E:pass) : (b:) (b:(:))\n",
    "(E:{B B}) : (b:) (b:(:))\n",
    "(e:rev) : (b:) (b:(:))\n",
    "(e:not) : (b:) (b:(:))"
   ]
  },
  {
   "cell_type": "code",
   "execution_count": 40,
   "id": "dcee49a3-f72a-4f3a-9b65-549a7b76f371",
   "metadata": {
    "collapsed": true,
    "jupyter": {
     "outputs_hidden": true
    },
    "tags": []
   },
   "outputs": [
    {
     "name": "stdout",
     "output_type": "stream",
     "text": [
      " ◎ \n",
      " (:(b:)) \n",
      " (:(b:◎)) \n",
      " (:(b:) (b:)) \n",
      " (:(b:) (b:◎)) \n",
      " (:(b:◎) (b:)) \n",
      " (:(b:◎) (b:◎)) \n",
      " (:(b:) (b:) (b:)) \n",
      " (:(b:) (b:) (b:◎)) \n",
      " (:(b:) (b:◎) (b:)) \n",
      " (:(b:) (b:◎) (b:◎)) \n",
      " (:(b:◎) (b:) (b:)) \n",
      " (:(b:◎) (b:) (b:◎)) \n",
      " (:(b:◎) (b:◎) (b:)) \n",
      " (:(b:◎) (b:◎) (b:◎)) \n"
     ]
    }
   ],
   "source": [
    "#\n",
    "#   Let's also make a sample of data for more systematic testing.  LS contains all \n",
    "#   data in L up to width 3. \n",
    "#\n",
    "Let LS : sum (:permutation 0) (:permutation 1) (:permutation 2) (:permutation 3) : (b:) (b:(:))\n",
    "tab : LS?"
   ]
  },
  {
   "cell_type": "code",
   "execution_count": 47,
   "id": "a4484686-2c9d-46a8-8d46-77c28867cd45",
   "metadata": {},
   "outputs": [
    {
     "name": "stdout",
     "output_type": "stream",
     "text": [
      " (bin:0) \n",
      " (bin (b:):0) \n",
      " (bin (b:◎):1) \n",
      " (bin (b:) (b:):0) \n",
      " (bin (b:) (b:◎):1) \n",
      " (bin (b:◎) (b:):1) \n",
      " (bin (b:◎) (b:◎):2) \n",
      " (bin (b:) (b:) (b:):0) \n",
      " (bin (b:) (b:) (b:◎):1) \n",
      " (bin (b:) (b:◎) (b:):1) \n",
      " (bin (b:) (b:◎) (b:◎):2) \n",
      " (bin (b:◎) (b:) (b:):1) \n",
      " (bin (b:◎) (b:) (b:◎):2) \n",
      " (bin (b:◎) (b:◎) (b:):2) \n",
      " (bin (b:◎) (b:◎) (b:◎):3) \n"
     ]
    }
   ],
   "source": [
    "tab : ap {bin (get:B) : count : get b : get : B} : LS?"
   ]
  },
  {
   "cell_type": "markdown",
   "id": "522f5a7e-8361-4e9c-831a-5971e48ed07e",
   "metadata": {},
   "source": [
    "Note that a small endomorphism like (e:rev), applied to some l in L, is a function only of the number of (:) atoms \n",
    "in l.  This means that a small endomorphism cannot distinguish between all false values and a mixture of true and false values. "
   ]
  },
  {
   "cell_type": "code",
   "execution_count": null,
   "id": "a5effcb5-9c2f-4129-af6b-04063f3fd414",
   "metadata": {},
   "outputs": [],
   "source": []
  },
  {
   "cell_type": "markdown",
   "id": "14d1ba13-0ad7-4b45-b400-f98422ee6e5c",
   "metadata": {},
   "source": [
    "Here we'll do a quick demo/search for \"small\" and \"big\" endomorphisms, and continue in a new notebook."
   ]
  },
  {
   "cell_type": "code",
   "execution_count": 12,
   "id": "58f4eb5e-6da2-4515-8975-813115960b8e",
   "metadata": {},
   "outputs": [
    {
     "name": "stdout",
     "output_type": "stream",
     "text": []
    }
   ],
   "source": [
    "#\n",
    "#  Make a random variety of data in L \n",
    "#\n",
    "Let T1 : (b:) (b:(:)) (b:(:)) (b:(:))\n",
    "Let T2 : (b:) (b:) (b:) (b:)\n",
    "Let T3 : (b:(:)) (b:(:)) (b:(:)) (b:(:))\n",
    "Let T4 : "
   ]
  },
  {
   "cell_type": "code",
   "execution_count": 13,
   "id": "ca396c2d-3fd3-4465-af8c-09ba5b842dca",
   "metadata": {},
   "outputs": [
    {
     "name": "stdout",
     "output_type": "stream",
     "text": [
      "(b:) (b:◎) (b:◎) (b:◎)\n",
      "(b:) (b:) (b:) (b:)\n",
      "(b:◎) (b:◎) (b:◎) (b:◎)"
     ]
    }
   ],
   "source": [
    "T1?\n",
    "T2?\n",
    "T3?\n",
    "T4?"
   ]
  },
  {
   "cell_type": "code",
   "execution_count": null,
   "id": "cc243769-e9de-413b-92c4-6eb592bfb9b3",
   "metadata": {
    "jupyter": {
     "source_hidden": true
    },
    "tags": []
   },
   "outputs": [],
   "source": [
    "(e:pass) : T1?\n",
    "(e:pass) : T2?\n",
    "(e:pass) : T3?\n",
    "(e:pass) : T4?\n",
    "-\n",
    "(e:null) : T1?\n",
    "(e:null) : T2?\n",
    "(e:null) : T3?\n",
    "(e:null) : T4?\n",
    "-\n",
    "(e:not) : T1? \n",
    "(e:not) : T2? \n",
    "(e:not) : T3?\n",
    "(e:not) : T4?\n",
    "- \n",
    "(e:first 2) : T1?\n",
    "(e:first 2) : T2?\n",
    "(e:first 2) : T3?\n",
    "(e:first 2) : T4?"
   ]
  },
  {
   "cell_type": "markdown",
   "id": "fac5ba6b-c23d-46c2-b3ea-4f56b4b745d4",
   "metadata": {},
   "source": [
    "First, let's mainly consider \"small\" endomorphisms.  These are mappings from sequences of boolean values to a single boolean.\n",
    "\n",
    "Foreshadowing future search strategies, we'll just randomly try (e:org) where org can be any of the \"organics\". The plan is \n",
    "\n",
    "1. Apply (e:org) to each of T1? T2? T3? and T4?, storing the results in a with atom.  \n",
    "2. Compute them in parallel using dom.\n",
    "3. Write the results to disk to conveniently extract the decided results, while leaving undecided results behind. \n",
    "4. Collect all org \"commands\" that have the values on T1? T2? T3? and T4?"
   ]
  },
  {
   "cell_type": "code",
   "execution_count": 14,
   "id": "73808fd5-474c-453f-89df-dd76a4a5b126",
   "metadata": {},
   "outputs": [
    {
     "name": "stdout",
     "output_type": "stream",
     "text": []
    }
   ],
   "source": [
    "Def smalltest : {((e:B):T1?) ((e:B):T2?) ((e:B):T3?) ((e:B):T4?)} "
   ]
  },
  {
   "cell_type": "code",
   "execution_count": 34,
   "id": "bc7b67a5-19bf-403e-9ae8-dc7edb4eae2e",
   "metadata": {
    "tags": []
   },
   "outputs": [
    {
     "name": "stdout",
     "output_type": "stream",
     "text": [
      " (bin (b:◎) (b:) (b:◎) (b:):aj ap backstrip bool collect equal equiv frontstrip has if isnt more once pass post pre prod rev starts) \n",
      " (bin (b:) (b:) (b:) (b:):aq ar arg back common const domain dup ends front get hasnt ints is item ker left less nats nif null right sum width) \n",
      " (bin (b:◎) (b:◎) (b:◎) (b:◎):bin count grp plus put star) \n",
      " (bin (b:) (b:◎) (b:) (b:◎):not) \n"
     ]
    }
   ],
   "source": [
    "#write T123 100 : dom 60 : ap {with B : ((e:B):T1?) ((e:B):T2?) ((e:B):T3?) ((e:B):T4?)} : Organic? (:{not : width | | |: (:) : B})\n",
    "write T123 60 : dom 60 : ap {with B : smalltest : B} : Organic? (:{not : width | | |: (:) : B})\n",
    "tab : collect : ap {(bin (right:B):arg:B)} : read : T123"
   ]
  },
  {
   "cell_type": "code",
   "execution_count": 37,
   "id": "625357ef-e969-471e-a6aa-906b006f67de",
   "metadata": {},
   "outputs": [
    {
     "name": "stdout",
     "output_type": "stream",
     "text": [
      "(b:) (b:◎) (b:◎) (b:◎) 3\n",
      "(b:) (b:) (b:) (b:) 0\n",
      "(b:◎) (b:◎) (b:◎) (b:◎) 4\n",
      "0"
     ]
    }
   ],
   "source": [
    "T1? (count:get b:T1?)\n",
    "T2? (count:get b:T2?)\n",
    "T3? (count:get b:T3?)\n",
    "T4? (count:get b:T4?)"
   ]
  },
  {
   "cell_type": "markdown",
   "id": "7ef25f3c-1d3d-4213-9aa3-500f4b713028",
   "metadata": {},
   "source": [
    "Although there are 52 different Organic \"commands\", their corresponding small endomorphisms (e:X) fall into only four categories.\n",
    "\n",
    "* Group 1: True if all values in X are true (\"ALL\").\n",
    "* Group 2: True no matter what is in X (\"TRUE\").\n",
    "* Group 3: False no matter what is in X (\"FALSE\").\n",
    "* Group 4: True if any value in X is false (\"NOTALL\").\n",
    "\n",
    "Where I have included conjectured interpretations. "
   ]
  },
  {
   "cell_type": "code",
   "execution_count": null,
   "id": "2ef893cd-d7b0-4167-881b-147ed07b502f",
   "metadata": {},
   "outputs": [],
   "source": [
    "smalltest : pass\n",
    "smalltest : rev \n",
    "smalltest : not\n",
    "smalltest : once"
   ]
  },
  {
   "cell_type": "code",
   "execution_count": null,
   "id": "c6365244-314b-490e-93aa-30ef3b476829",
   "metadata": {},
   "outputs": [],
   "source": [
    "(e:not): (b:) (b:) (b:(:))\n",
    "some : is (b:) : (b:) (b:) (b:(:))"
   ]
  },
  {
   "cell_type": "code",
   "execution_count": null,
   "id": "0981ef72-806c-4923-920c-684c58c29fbe",
   "metadata": {
    "tags": []
   },
   "outputs": [],
   "source": [
    "#\n",
    "#   Let's give these small endomorphisms names\n",
    "#\n",
    "Def ALL   : (e:pass)\n",
    "Def TRUE  : (e:const ( ))\n",
    "Def FALSE : (e:const (:))\n",
    "Def ANY   : (e:not)\n",
    "#\n",
    "#   And let's test against the sample of all L data up to width 3, to test \n",
    "#   more systematically.\n",
    "#\n",
    "Let LD : sum (:permutation 0) (:permutation 1) (:permutation 2) (:permutation 3) : (b:) (b:(:))\n",
    "tab : LD?"
   ]
  },
  {
   "cell_type": "code",
   "execution_count": null,
   "id": "e64d841b-7b1a-49e1-a179-7a4c6a7b3123",
   "metadata": {},
   "outputs": [],
   "source": [
    "#\n",
    "#   commute A : B tests whether endomorphism A commutes with endomorphism B \n",
    "#   for all the L values in LD.\n",
    "#\n",
    "Def commute1 : {count : ((get:first:A)*(get:last:A):get:B)=((get:last:A)*(get:first:A):get:B)} \n",
    "Def commute : {ap commute1 (:A) (:B) : LD?} "
   ]
  },
  {
   "cell_type": "code",
   "execution_count": null,
   "id": "dbae7724-573b-4c34-80af-5f7c1a0c7f20",
   "metadata": {},
   "outputs": [],
   "source": [
    "#\n",
    "#   First, let's test how the four small endomorphisms mutually commute.\n",
    "#\n",
    "commute ALL : ALL \n",
    "commute ALL : ANY \n",
    "commute ALL : TRUE \n",
    "commute ALL : FALSE \n",
    "- \n",
    "commute ANY : ANY \n",
    "commute ANY : TRUE \n",
    "commute ANY : FALSE\n",
    "- \n",
    "commute TRUE : TRUE\n",
    "commute TRUE : FALSE\n",
    "-\n",
    "commute FALSE : FALSE "
   ]
  },
  {
   "cell_type": "code",
   "execution_count": null,
   "id": "6944ae1d-f3ba-4a70-94a4-3f74d37bc127",
   "metadata": {},
   "outputs": [],
   "source": [
    "#\n",
    "#   Let's examine a few of the above cases in detail.\n",
    "#\n",
    "ap {ALL:get:B} : LD?\n",
    "ap {ANY:get:B} : LD?\n",
    "ap {TRUE:get:B} : LD?\n",
    "-\n",
    "#\n",
    "#  ALL commutes with TRUE \n",
    "#\n",
    "ap {ALL:TRUE:get:B} : LD?\n",
    "ap {TRUE:ALL:get:B} : LD?\n",
    "-\n",
    "#\n",
    "#  ANY does not commute with TRUE \n",
    "#\n",
    "ap {ANY:TRUE:get:B} : LD?\n",
    "ap {TRUE:ANY:get:B} : LD?\n",
    "-\n",
    "#\n",
    "#  ANY does not commute with FALSE \n",
    "#\n",
    "ap {ANY:FALSE:get:B} : LD?\n",
    "ap {FALSE:ANY:get:B} : LD?"
   ]
  },
  {
   "cell_type": "markdown",
   "id": "2f6439af-fde9-4853-a8b1-fa5d6aec1b02",
   "metadata": {},
   "source": [
    "From the above, we conclude that the small endomorphisms ALL and ANY commute, but neither TRUE nor FALSE can be added to such a structure because they fail to commute with ANY.  \n",
    "\n",
    "Thus, so far, we have a potential space L with structure ANY,ALL. If large endomorphisms commute with ANY and ALL, they could also be added.  A typical large endomorphism won't commute, however.  For instance..."
   ]
  },
  {
   "cell_type": "code",
   "execution_count": null,
   "id": "6bd6b6b5-7e38-42ea-8edd-db5781b89721",
   "metadata": {},
   "outputs": [],
   "source": [
    "commute ANY : (E:first 2)\n",
    "commute ANY : (E:first) \n",
    "commute ALL : (E:first)"
   ]
  },
  {
   "cell_type": "markdown",
   "id": "f69d4ffa-8c3a-4142-ad14-109aed96abe1",
   "metadata": {},
   "source": [
    "It is clear, however, that ANY and ALL will commute with (E:perm) for any permutation.  For example..."
   ]
  },
  {
   "cell_type": "code",
   "execution_count": null,
   "id": "987e0594-dd47-4ef0-b3b3-136a22bb0188",
   "metadata": {},
   "outputs": [],
   "source": [
    "#\n",
    "#   (E:rev) reverses the order of L:X as a sequence.\n",
    "#\n",
    "(E:rev) : (b:) (b:) (b:(:)) \n",
    "#\n",
    "#    Naturally, permuting the order does not affect ANY or ALL.\n",
    "#\n",
    "commute ANY : (E:rev) \n",
    "commute ALL : (E:rev)"
   ]
  },
  {
   "cell_type": "markdown",
   "id": "c55cb25c-a232-4191-809d-1457bc3990b3",
   "metadata": {},
   "source": [
    "It is also clear that (E:once), for instance, will also not affect ANY or ALL, because \"it only removes redundant values\".  "
   ]
  },
  {
   "cell_type": "code",
   "execution_count": null,
   "id": "21f95132-c530-4a00-9295-edfb5640993e",
   "metadata": {},
   "outputs": [],
   "source": [
    "#\n",
    "#   recall the meaning of once\n",
    "#\n",
    "once : a b a a b b b a b a a a b "
   ]
  },
  {
   "cell_type": "code",
   "execution_count": null,
   "id": "1d638665-e1a1-4051-8033-b5afb0a8efa1",
   "metadata": {},
   "outputs": [],
   "source": [
    "#\n",
    "#   As expected, (E:once) commutes with ANY and ALL\n",
    "#\n",
    "commute ANY : (E:once) \n",
    "commute ALL : (E:once)\n",
    "commute TRUE : (E:once)\n",
    "commute FALSE : (E:once)\n",
    "#\n",
    "#   So does, for instance, doubling the input.\n",
    "#\n",
    "commute ANY : (E:{B B}) \n",
    "commute ALL : (E:{B B})\n",
    "commute ANY : (E:{pass:B})"
   ]
  },
  {
   "cell_type": "code",
   "execution_count": null,
   "id": "cf289365-f31f-4950-8978-36bb8106ca25",
   "metadata": {},
   "outputs": [],
   "source": [
    "ANY:(b:(:))"
   ]
  },
  {
   "cell_type": "code",
   "execution_count": null,
   "id": "93916871-3746-4f99-8a06-136e1dce8901",
   "metadata": {},
   "outputs": [],
   "source": [
    "tab : ap {put : (ANY:get:B} : LD?"
   ]
  },
  {
   "cell_type": "code",
   "execution_count": null,
   "id": "24251bbc-6bbc-4e93-86ab-562dca1335b9",
   "metadata": {},
   "outputs": [],
   "source": [
    "tab : ap {put bin (get:B) ||| : (E:{B B}):get:B} : LD?"
   ]
  },
  {
   "cell_type": "code",
   "execution_count": null,
   "id": "e50b0e46-2fea-4602-a8e5-3efdc02d6fed",
   "metadata": {},
   "outputs": [],
   "source": [
    "tab : ap {put bin (get:B) ||| : (ANY:E:{B B}):get:B} : LD?"
   ]
  },
  {
   "cell_type": "markdown",
   "id": "95601ea8-83e8-4b26-bc8d-f520da4da951",
   "metadata": {},
   "source": [
    "### Conclusion \n",
    "\n",
    "Thus, it seems that the space L has an essentially unique, maximal, mutually commuting structure:\n",
    "\n",
    "1. ANY, ALL\n",
    "2. E(f) for any f that preserves the presence or absence of true values (b()) and preserves the presence or absence of false (b(:)) values.  This includes any permutation, endomorphisms, like doubling E({B B}) and endomorphisms like E(once).\n",
    "\n",
    "This needs a proof, but it is also pretty clear that any endomorphism which fails to satisfy 1 or 2 will not commute with the rest and, thus, the above structure should be maximal on L."
   ]
  },
  {
   "cell_type": "code",
   "execution_count": null,
   "id": "d36a2ecb-b4f2-4296-8104-5e08124bc1e3",
   "metadata": {},
   "outputs": [],
   "source": []
  }
 ],
 "metadata": {
  "kernelspec": {
   "display_name": "coda",
   "language": "",
   "name": "coda"
  },
  "language_info": {
   "file_extension": ".co",
   "mimetype": "text/plain",
   "name": "Any text"
  }
 },
 "nbformat": 4,
 "nbformat_minor": 5
}
