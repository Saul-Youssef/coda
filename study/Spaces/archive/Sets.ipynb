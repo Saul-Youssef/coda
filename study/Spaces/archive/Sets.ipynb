{
 "cells": [
  {
   "cell_type": "markdown",
   "id": "9d99b95b-c79e-4f2c-8bca-04c64fcd2765",
   "metadata": {},
   "source": [
    "## Set and set-like spaces\n",
    "\n",
    "Lots of mathematics is defined as sets with additional structure.  A group, for instance, is a set with a binary operator. \n",
    "Here we explore making sets in various ways in coda. \n",
    "\n"
   ]
  },
  {
   "cell_type": "markdown",
   "id": "531d8e09-5648-4db9-89b4-95d716b23914",
   "metadata": {},
   "source": [
    "Let's consider the set S = {1,2,3} and look at related structures in coda.  \n",
    "\n",
    "\"Consider the set {1,2,3}\" is typical of a mathematical statement in that it is not quite precise.  Does it mean the character \"2\" or the number 2? Are 1,2,3 numbers in the sense of a ring? Abelian group? Ordered set?  \n",
    "\n",
    "Let's explore, keeping these issues in mind.  "
   ]
  },
  {
   "cell_type": "markdown",
   "id": "e75056e6-6a8d-478e-9a47-7cef8c67dd69",
   "metadata": {},
   "source": [
    "## Spaces as Sets \n",
    "\n",
    "The natural and more suitable structure for set roles is the coda concept of a *space*.  \n",
    "\n",
    "- Data A is a *space* if A : X Y = A : (A:X) Y = A : X (A:Y) for all data X and all data Y.\n",
    "\n",
    "Spaces are already sets *with* additional structure.  Every space A is set in the sense that it represents the collection of data A:X for any data X.  If we define a binary product \n",
    "\n",
    "- (A:X) \\* (A:Y) &rightarrow; A:X Y \n",
    "\n",
    "This is automatically a monoid because \\* is associative and because A always has a neutral element (A:) where \n",
    "\n",
    "- (A:) \\* (A:X) = (A:X) * (A:) = (A:X) \n",
    "\n",
    "for any space A and for any data X.  \n",
    "\n"
   ]
  },
  {
   "cell_type": "code",
   "execution_count": 1,
   "id": "c497935f-6123-4bbb-b8f8-055a01db6941",
   "metadata": {},
   "outputs": [
    {
     "name": "stdout",
     "output_type": "stream",
     "text": []
    }
   ],
   "source": [
    "#\n",
    "#   S1 : sequences of 1,2,3,4 \n",
    "#   S2 : sequences of 1,2,3,4 without repetition\n",
    "#   S3 : subsets of 1,2,3,4 \n",
    "#   S4 : (), 1, 2, 3 or 4.\n",
    "#\n",
    "def S1 : in 1 2 3 4\n",
    "def S2 : once * in 1 2 3 4\n",
    "def S3 : code_sort * once * in 1 2 3 4\n",
    "def S4 : first * in 1 2 3 4"
   ]
  },
  {
   "cell_type": "markdown",
   "id": "a0bf02f5-ce4a-4f25-95f2-eab7a2587bd1",
   "metadata": {},
   "source": [
    "\n",
    "|    Space   |   Description                       |      Typical data  |              Operation   |   Neutral data  |\n",
    "|------------|-------------------------------------|--------------------|--------------------------|-----------------|\n",
    "|    S1      | Finite sequences                    |  3 1 2 2 1, 2 2 3  |    Concatenation         |   ()            |\n",
    "|    S2      | Finite sequences without repetition | 1 2, 2 3 4         |    Concatenation         |   ()            |\n",
    "|    S3      | Subsets                             | {1,2}, {}, {1,3,4} |    Set union             |   ()            |\n",
    "|    S4      | (), 1, 2, 3 or 4                    | (), 1, 2, 3, 4     |    x*y &rightarrow; x    |   ()            |\n",
    "\n",
    "\n"
   ]
  },
  {
   "cell_type": "code",
   "execution_count": 2,
   "id": "c36ba4e6-ad0d-42ab-8e79-77e0005e9955",
   "metadata": {},
   "outputs": [
    {
     "name": "stdout",
     "output_type": "stream",
     "text": [
      "3"
     ]
    }
   ],
   "source": [
    "S4 : 3 1 2 5 5 1 1 1. 4 4 "
   ]
  },
  {
   "cell_type": "code",
   "execution_count": 3,
   "id": "316dd67a-3477-4ec1-972c-8294e0333fde",
   "metadata": {},
   "outputs": [
    {
     "name": "stdout",
     "output_type": "stream",
     "text": [
      "1 2 4"
     ]
    }
   ],
   "source": [
    "S3 : 4 4 2 2 1 1  "
   ]
  },
  {
   "cell_type": "code",
   "execution_count": 4,
   "id": "158cc787-34c4-42f4-bd04-724c41492b0e",
   "metadata": {},
   "outputs": [
    {
     "name": "stdout",
     "output_type": "stream",
     "text": []
    }
   ],
   "source": [
    "let foo : 1 1 2 3 "
   ]
  },
  {
   "cell_type": "code",
   "execution_count": 5,
   "id": "125104ff-9961-42b5-93fd-67a0dea4eaa7",
   "metadata": {},
   "outputs": [
    {
     "name": "stdout",
     "output_type": "stream",
     "text": [
      "1 2 3"
     ]
    }
   ],
   "source": [
    "S3 : S3 : S3 : (S3:foo?) (S3 : foo?)"
   ]
  },
  {
   "cell_type": "code",
   "execution_count": 1,
   "id": "d90c94bb-028e-484c-9be6-7d9ac7c6ef40",
   "metadata": {},
   "outputs": [
    {
     "name": "stdout",
     "output_type": "stream",
     "text": [
      "(a:1) (b:1) (c:1) (a:2) (b:2) (c:2) (a:3) (b:3) (c:3)"
     ]
    }
   ],
   "source": [
    "ap app a b c : 1 2 3 "
   ]
  },
  {
   "cell_type": "code",
   "execution_count": 2,
   "id": "74495038-180d-4cd8-b1c6-05d7eaf6caef",
   "metadata": {},
   "outputs": [
    {
     "name": "stdout",
     "output_type": "stream",
     "text": []
    }
   ],
   "source": [
    "def S4 : ap app "
   ]
  },
  {
   "cell_type": "code",
   "execution_count": 3,
   "id": "873a4a3b-7c13-4239-b371-76811c0a4b51",
   "metadata": {},
   "outputs": [
    {
     "name": "stdout",
     "output_type": "stream",
     "text": [
      "(a:1) (b:1) (c:1) (a:2) (b:2) (c:2) (a:3) (b:3) (c:3)"
     ]
    }
   ],
   "source": [
    "S4 a b c : 1 2 3 "
   ]
  },
  {
   "cell_type": "code",
   "execution_count": 4,
   "id": "a8a97763-ea11-42a4-9513-d8d8429107cd",
   "metadata": {},
   "outputs": [
    {
     "name": "stdout",
     "output_type": "stream",
     "text": [
      "(a:1) (b:1) (a:2) (b:2) (a:3) (b:3)"
     ]
    }
   ],
   "source": [
    "S4 a b : 1 2 3 "
   ]
  },
  {
   "cell_type": "code",
   "execution_count": 5,
   "id": "c95564e3-2625-478d-a861-6ba2ee7b5006",
   "metadata": {},
   "outputs": [
    {
     "name": "stdout",
     "output_type": "stream",
     "text": [
      "(ap app c:(a:1)) (ap app c:) (ap app c:(b:1)) (ap app c:) (ap app c:(a:2)) (ap app c:) (ap app c:(b:2)) (ap app c:) (ap app c:(a:3)) (ap app c:) (ap app c:(b:3)) (ap app c:)"
     ]
    }
   ],
   "source": [
    "S4 c : S4 a b : 1 2 3 "
   ]
  },
  {
   "cell_type": "code",
   "execution_count": 6,
   "id": "70da7ffd-5714-4463-b4ba-f72fb97af648",
   "metadata": {},
   "outputs": [
    {
     "name": "stdout",
     "output_type": "stream",
     "text": [
      "(c:1) (c:2) (c:3)"
     ]
    }
   ],
   "source": [
    "S4 c : 1 2 3 "
   ]
  },
  {
   "cell_type": "code",
   "execution_count": 7,
   "id": "5fc3d16c-7dbd-4546-a10c-ca6e8b04b9d2",
   "metadata": {},
   "outputs": [
    {
     "name": "stdout",
     "output_type": "stream",
     "text": [
      "(a:1) (b:1) (a:2) (b:2) (a:3) (b:3) (a:4) (b:4)"
     ]
    }
   ],
   "source": [
    "S4 a b : 1 2 3 4 "
   ]
  },
  {
   "cell_type": "code",
   "execution_count": 10,
   "id": "d42b22ce-320d-4824-a0ca-b7e7f79f9210",
   "metadata": {},
   "outputs": [
    {
     "name": "stdout",
     "output_type": "stream",
     "text": [
      "(a:1) (b:1) (c:1) (a:2) (b:2) (c:2) (a:3) (b:3) (c:3) (a:4) (b:4) (c:4)"
     ]
    }
   ],
   "source": [
    "S4 a b c : 1 2 3 4"
   ]
  },
  {
   "cell_type": "code",
   "execution_count": 11,
   "id": "6ee1ae5f-7c5a-4936-9289-c9fec2daf930",
   "metadata": {},
   "outputs": [
    {
     "name": "stdout",
     "output_type": "stream",
     "text": [
      "\u001b[;1mcode:\u001b[0m\n",
      "    \u001b[34;7mpre\u001b[0m\n",
      "\u001b[;1mmodule:\u001b[0m\n",
      "    Sequence\n",
      "\u001b[;1msummary:\u001b[0m\n",
      "    Pre and post avoids parentheses\n",
      "\u001b[;1mdescription:\u001b[0m\n",
      "\u001b[;1mpath:\u001b[0m\n",
      "    /Users/youssef/coda/py/Sequence.py\n",
      "\u001b[;1mdemos:\u001b[0m\n",
      "    1. \u001b[35;4mpre 0 : 1 2 3\u001b[0m\n",
      "    2. \u001b[35;4mpost 99 : 1 2 3\u001b[0m\n"
     ]
    }
   ],
   "source": [
    "help : pre"
   ]
  },
  {
   "cell_type": "code",
   "execution_count": null,
   "id": "bbdd3a8e-dbff-4cca-962b-b14d1a9c6401",
   "metadata": {},
   "outputs": [],
   "source": []
  }
 ],
 "metadata": {
  "kernelspec": {
   "display_name": "coda",
   "language": "",
   "name": "coda"
  },
  "language_info": {
   "file_extension": ".co",
   "mimetype": "text/plain",
   "name": "Any text"
  }
 },
 "nbformat": 4,
 "nbformat_minor": 5
}
