{
 "cells": [
  {
   "cell_type": "markdown",
   "id": "bd9c1216-31b9-4c51-85cf-5341ebd3dcfe",
   "metadata": {},
   "source": [
    "## Search for Rings\n",
    "\n",
    "A ring is data R such that \n",
    "\n",
    "* R X Y : Z = (R X:Z) (R Y:Z) and \n",
    "* R X : Y Z = (R X:Y) (R X:Z) \n",
    "\n",
    "for all data X, Y and Z.  Thus R:X=() so R must be nilpotent.  For efficiency, let's first find the nilpotents and then see which of these are rings in a separate step."
   ]
  },
  {
   "cell_type": "code",
   "execution_count": 1,
   "id": "339b3844-28a9-445a-bc72-df1a5e869c40",
   "metadata": {},
   "outputs": [
    {
     "name": "stdout",
     "output_type": "stream",
     "text": []
    }
   ],
   "source": [
    "import : dir co : up : ."
   ]
  },
  {
   "cell_type": "code",
   "execution_count": 2,
   "id": "cdd67258-df51-4467-b7ba-b0dad128c1d0",
   "metadata": {},
   "outputs": [
    {
     "name": "stdout",
     "output_type": "stream",
     "text": [
      "◎ (:0) (:1) (:2) (:0 0) (:0 1) (:0 2) (:1 0) (:1 1) (:1 2) (:2 0) (:2 1) (:2 2) (:0 0 0) (:0 0 1) (:0 1 0) (:0 1 1) (:1 0 0) (:1 0 1) (:1 1 0) (:1 1 1) (:1 2 a b)"
     ]
    }
   ],
   "source": [
    "S5?"
   ]
  },
  {
   "cell_type": "code",
   "execution_count": 3,
   "id": "03db2fb2-63d0-4a19-a0f4-6de9cc406c8b",
   "metadata": {},
   "outputs": [
    {
     "name": "stdout",
     "output_type": "stream",
     "text": []
    }
   ],
   "source": [
    "Def Left : {theorem (ring_left:ar A) : B}\n",
    "Def Right: {theorem (ring_right:ar A) : B}"
   ]
  },
  {
   "cell_type": "code",
   "execution_count": null,
   "id": "15686521-cf3f-4447-a4c1-3b543dead8f1",
   "metadata": {},
   "outputs": [],
   "source": [
    "Left {|} : S5?"
   ]
  },
  {
   "cell_type": "code",
   "execution_count": null,
   "id": "38fd9cbf-65ff-485b-b9d7-ea7a011c32b3",
   "metadata": {},
   "outputs": [],
   "source": [
    "Right {|} : S5?"
   ]
  },
  {
   "cell_type": "code",
   "execution_count": null,
   "id": "702e8309-6dd6-48bd-9311-49f390dec980",
   "metadata": {},
   "outputs": [],
   "source": [
    "Def Test : {count:(Left B:A) (Right B:A)} "
   ]
  },
  {
   "cell_type": "code",
   "execution_count": null,
   "id": "8543b872-1a5a-4838-ba23-b03e4e8a5e68",
   "metadata": {},
   "outputs": [],
   "source": [
    "Test S5? : {|}"
   ]
  },
  {
   "cell_type": "code",
   "execution_count": null,
   "id": "6e1d049f-97af-46da-b656-ea5fd8d0e287",
   "metadata": {},
   "outputs": [],
   "source": [
    "Test S5? : bin "
   ]
  },
  {
   "cell_type": "code",
   "execution_count": null,
   "id": "66be7787-2f61-41fa-ba61-2e7092f633f4",
   "metadata": {},
   "outputs": [],
   "source": [
    "Def TEST : ap {( bin (get:B) : Test S5? : (get:B)}"
   ]
  },
  {
   "cell_type": "code",
   "execution_count": null,
   "id": "dd93ab1e-2d16-4ca9-bcb7-03f2cad521d5",
   "metadata": {},
   "outputs": [],
   "source": [
    "Let Results1 : TEST : first 100 : S4?"
   ]
  },
  {
   "cell_type": "code",
   "execution_count": null,
   "id": "329a27a3-3dfd-495f-acca-4d509345811d",
   "metadata": {},
   "outputs": [],
   "source": []
  }
 ],
 "metadata": {
  "kernelspec": {
   "display_name": "coda",
   "language": "",
   "name": "coda"
  },
  "language_info": {
   "file_extension": ".co",
   "mimetype": "text/plain",
   "name": "Any text"
  }
 },
 "nbformat": 4,
 "nbformat_minor": 5
}
