{
 "cells": [
  {
   "cell_type": "markdown",
   "id": "be7f4f3a-1a7e-496f-afa7-070e784da5a9",
   "metadata": {
    "tags": []
   },
   "source": [
    "## Startup notebook \n",
    "\n",
    "Run this first to make sure that the most basic things work."
   ]
  },
  {
   "cell_type": "code",
   "execution_count": 1,
   "id": "5d9a3f47-a7ce-4cee-9a8c-dd1ca5f1cff8",
   "metadata": {},
   "outputs": [],
   "source": [
    "from base import *"
   ]
  },
  {
   "cell_type": "code",
   "execution_count": 2,
   "id": "7c7c88a5-c1bf-4ad2-bb10-5d3d0a892f16",
   "metadata": {},
   "outputs": [
    {
     "name": "stdout",
     "output_type": "stream",
     "text": [
      "𝟬 (:)\n",
      "𝟭 (:(:))\n"
     ]
    }
   ],
   "source": [
    "z = data()\n",
    "bit0 = z|z\n",
    "bit1 = z|data(z|z)\n",
    "def pr(*X): \n",
    "    for x in X: print(str(x),repr(x))\n",
    "pr(bit0,bit1)"
   ]
  },
  {
   "cell_type": "code",
   "execution_count": 3,
   "id": "addfd0a2-d707-465f-b05f-f008864a9899",
   "metadata": {},
   "outputs": [
    {
     "data": {
      "text/plain": [
       "'𝟭'"
      ]
     },
     "execution_count": 3,
     "metadata": {},
     "output_type": "execute_result"
    }
   ],
   "source": [
    "str(bit1)"
   ]
  },
  {
   "cell_type": "code",
   "execution_count": 4,
   "id": "66c9a7ec-b919-4a6d-bfb3-99f53082d5ac",
   "metadata": {},
   "outputs": [
    {
     "name": "stdout",
     "output_type": "stream",
     "text": [
      "hello world ((:(:)):((:):(:)(:(:))(:(:))(:)(:(:))(:)(:)(:))((:):(:)(:(:))(:(:))(:)(:)(:(:))(:)(:(:)))((:):(:)(:(:))(:(:))(:)(:(:))(:(:))(:)(:))((:):(:)(:(:))(:(:))(:)(:(:))(:(:))(:)(:))((:):(:)(:(:))(:(:))(:)(:(:))(:(:))(:(:))(:(:)))((:):(:)(:)(:(:))(:)(:)(:)(:)(:))((:):(:)(:(:))(:(:))(:(:))(:)(:(:))(:(:))(:(:)))((:):(:)(:(:))(:(:))(:)(:(:))(:(:))(:(:))(:(:)))((:):(:)(:(:))(:(:))(:(:))(:)(:)(:(:))(:))((:):(:)(:(:))(:(:))(:)(:(:))(:(:))(:)(:))((:):(:)(:(:))(:(:))(:)(:)(:(:))(:)(:)))\n"
     ]
    }
   ],
   "source": [
    "pr(da('hello world'))"
   ]
  },
  {
   "cell_type": "code",
   "execution_count": 5,
   "id": "d4406f55-4751-4bca-8840-184ac8db2f14",
   "metadata": {},
   "outputs": [
    {
     "data": {
      "text/plain": [
       "[, 𝟬, 𝟭, wrap, startswith, endswith, pure, unicode, nat, one, int1, nat1, float1, int_add, int_mult, int_diff, int_max, int_min, float_add, float_mult, float_diff, float_max, float_min, code_add, code_min, code_max, int_inv, float_inv, pass, null, domain, if, put, has1, get1, language, ap, apall, app, dis, adis, apif, readpath, dir, help, source, demo, defs, rev, first, tail, last, rep, nth1, def, const, let, some, none, ^, =, coda, home, start, startcontext, homecontext]"
      ]
     },
     "execution_count": 5,
     "metadata": {},
     "output_type": "execute_result"
    }
   ],
   "source": [
    "CONTEXT"
   ]
  },
  {
   "cell_type": "code",
   "execution_count": 6,
   "id": "8187c1d4-6d91-44c3-ba57-0db8e0608f95",
   "metadata": {},
   "outputs": [],
   "source": [
    "c = da('pass')|(da('x')+da('y')+da('z'))"
   ]
  },
  {
   "cell_type": "code",
   "execution_count": 7,
   "id": "06b106f6-983b-4478-8733-53bbdfc51670",
   "metadata": {},
   "outputs": [
    {
     "name": "stdout",
     "output_type": "stream",
     "text": [
      "(pass:x y z) (((:(:)):((:):(:)(:(:))(:(:))(:(:))(:)(:)(:)(:))((:):(:)(:(:))(:(:))(:)(:)(:)(:)(:(:)))((:):(:)(:(:))(:(:))(:(:))(:)(:)(:(:))(:(:)))((:):(:)(:(:))(:(:))(:(:))(:)(:)(:(:))(:(:)))):((:(:)):((:):(:)(:(:))(:(:))(:(:))(:(:))(:)(:)(:)))((:(:)):((:):(:)(:(:))(:(:))(:(:))(:(:))(:)(:)(:(:))))((:(:)):((:):(:)(:(:))(:(:))(:(:))(:(:))(:)(:(:))(:))))\n"
     ]
    }
   ],
   "source": [
    "pr(c)"
   ]
  },
  {
   "cell_type": "code",
   "execution_count": 8,
   "id": "84179092-e894-4974-ac9e-4027ef700e82",
   "metadata": {},
   "outputs": [],
   "source": [
    "domain = c.domain()"
   ]
  },
  {
   "cell_type": "code",
   "execution_count": 9,
   "id": "ab316c71-27dd-45a7-af0a-99c0e07a5644",
   "metadata": {},
   "outputs": [
    {
     "data": {
      "text/plain": [
       "base.data"
      ]
     },
     "execution_count": 9,
     "metadata": {},
     "output_type": "execute_result"
    }
   ],
   "source": [
    "type(domain)"
   ]
  },
  {
   "cell_type": "code",
   "execution_count": 10,
   "id": "d99ff861-04ab-4531-bee1-aee94b0b6c54",
   "metadata": {},
   "outputs": [
    {
     "name": "stdout",
     "output_type": "stream",
     "text": [
      "pass ((:(:)):((:):(:)(:(:))(:(:))(:(:))(:)(:)(:)(:))((:):(:)(:(:))(:(:))(:)(:)(:)(:)(:(:)))((:):(:)(:(:))(:(:))(:(:))(:)(:)(:(:))(:(:)))((:):(:)(:(:))(:(:))(:(:))(:)(:)(:(:))(:(:))))\n"
     ]
    }
   ],
   "source": [
    "pr(domain)"
   ]
  },
  {
   "cell_type": "code",
   "execution_count": 11,
   "id": "0d74fed4-c628-496e-b98a-f06ccdac8587",
   "metadata": {},
   "outputs": [
    {
     "data": {
      "text/plain": [
       "True"
      ]
     },
     "execution_count": 11,
     "metadata": {},
     "output_type": "execute_result"
    }
   ],
   "source": [
    "c in CONTEXT"
   ]
  },
  {
   "cell_type": "code",
   "execution_count": 12,
   "id": "38259d61-150b-4cbb-97e5-9512f8ab3c12",
   "metadata": {},
   "outputs": [
    {
     "data": {
      "text/plain": [
       "[, 𝟬, 𝟭, wrap, startswith, endswith, pure, unicode, nat, one, int1, nat1, float1, int_add, int_mult, int_diff, int_max, int_min, float_add, float_mult, float_diff, float_max, float_min, code_add, code_min, code_max, int_inv, float_inv, pass, null, domain, if, put, has1, get1, language, ap, apall, app, dis, adis, apif, readpath, dir, help, source, demo, defs, rev, first, tail, last, rep, nth1, def, const, let, some, none, ^, =, coda, home, start, startcontext, homecontext]"
      ]
     },
     "execution_count": 12,
     "metadata": {},
     "output_type": "execute_result"
    }
   ],
   "source": [
    "CONTEXT"
   ]
  },
  {
   "cell_type": "code",
   "execution_count": null,
   "id": "cf1d7145-d61a-4f9f-b704-9f3146c5085d",
   "metadata": {},
   "outputs": [],
   "source": []
  },
  {
   "cell_type": "code",
   "execution_count": 13,
   "id": "8a414b47-5b4b-425f-b26c-0cf39d2e7d7d",
   "metadata": {},
   "outputs": [
    {
     "name": "stdout",
     "output_type": "stream",
     "text": [
      "∎\n"
     ]
    }
   ],
   "source": [
    "print(u'\\u220E')"
   ]
  },
  {
   "cell_type": "code",
   "execution_count": 25,
   "id": "7c7a513d-a3ca-4d5f-97b9-8eca1bf2cea2",
   "metadata": {},
   "outputs": [],
   "source": [
    "u = '\\u220E'"
   ]
  },
  {
   "cell_type": "code",
   "execution_count": 15,
   "id": "8b16e733-053e-45e5-8acb-27af0c09408f",
   "metadata": {},
   "outputs": [
    {
     "data": {
      "text/plain": [
       "b'\\xe2\\x88\\x8e'"
      ]
     },
     "execution_count": 15,
     "metadata": {},
     "output_type": "execute_result"
    }
   ],
   "source": [
    "u.encode('utf-8')"
   ]
  },
  {
   "cell_type": "code",
   "execution_count": 16,
   "id": "3790b40e-05d5-4a05-9424-74ad8aa35b32",
   "metadata": {},
   "outputs": [
    {
     "data": {
      "text/plain": [
       "'∎'"
      ]
     },
     "execution_count": 16,
     "metadata": {},
     "output_type": "execute_result"
    }
   ],
   "source": [
    "str(u)"
   ]
  },
  {
   "cell_type": "code",
   "execution_count": 17,
   "id": "c980f6df-16d7-4e0f-b6b8-5d87862ad713",
   "metadata": {},
   "outputs": [],
   "source": [
    "from base import * \n",
    "x = da('\\u220E')"
   ]
  },
  {
   "cell_type": "code",
   "execution_count": 18,
   "id": "e87e92e1-67d3-4957-aaba-b4dcc56e151a",
   "metadata": {},
   "outputs": [],
   "source": [
    "u = u'\\u220E'"
   ]
  },
  {
   "cell_type": "code",
   "execution_count": 26,
   "id": "350731c8-5338-48d5-879e-a4e074196557",
   "metadata": {},
   "outputs": [],
   "source": [
    "x = '\\u220E'"
   ]
  },
  {
   "cell_type": "code",
   "execution_count": 27,
   "id": "afad713e-530c-4688-805a-f80dc168e97c",
   "metadata": {},
   "outputs": [
    {
     "data": {
      "text/plain": [
       "'∎'"
      ]
     },
     "execution_count": 27,
     "metadata": {},
     "output_type": "execute_result"
    }
   ],
   "source": [
    "str(x)"
   ]
  },
  {
   "cell_type": "code",
   "execution_count": 21,
   "id": "9c7f2af5-d25b-42d8-bd41-5cd54fb8f521",
   "metadata": {},
   "outputs": [],
   "source": [
    "xx = da(x)"
   ]
  },
  {
   "cell_type": "code",
   "execution_count": null,
   "id": "112c9c48-a02a-4395-8865-fe03f0672a8d",
   "metadata": {},
   "outputs": [],
   "source": []
  },
  {
   "cell_type": "code",
   "execution_count": 22,
   "id": "78bdb3fc-151c-4e86-950d-5f423476ba3e",
   "metadata": {},
   "outputs": [],
   "source": [
    "x = '22OE'"
   ]
  },
  {
   "cell_type": "code",
   "execution_count": 23,
   "id": "a97f5ae4-6627-4358-9ddf-f4c0dbdf3c58",
   "metadata": {},
   "outputs": [
    {
     "name": "stdout",
     "output_type": "stream",
     "text": [
      "∎\n"
     ]
    }
   ],
   "source": [
    "print(chr(int('0x220E',16)))"
   ]
  },
  {
   "cell_type": "code",
   "execution_count": null,
   "id": "c3715817-4942-4186-821f-a678842ff956",
   "metadata": {},
   "outputs": [],
   "source": []
  }
 ],
 "metadata": {
  "kernelspec": {
   "display_name": "Python 3 (ipykernel)",
   "language": "python",
   "name": "python3"
  },
  "language_info": {
   "codemirror_mode": {
    "name": "ipython",
    "version": 3
   },
   "file_extension": ".py",
   "mimetype": "text/x-python",
   "name": "python",
   "nbconvert_exporter": "python",
   "pygments_lexer": "ipython3",
   "version": "3.10.7"
  }
 },
 "nbformat": 4,
 "nbformat_minor": 5
}
