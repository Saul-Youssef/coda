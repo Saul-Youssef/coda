{
 "cells": [
  {
   "cell_type": "code",
   "execution_count": 2,
   "id": "2dac42e4-0c1e-43b9-a353-2b51976aa26b",
   "metadata": {
    "tags": []
   },
   "outputs": [
    {
     "name": "stdout",
     "output_type": "stream",
     "text": [
      "(defaultTime:1000)"
     ]
    }
   ],
   "source": [
    "defaultTime:1000"
   ]
  },
  {
   "cell_type": "code",
   "execution_count": 3,
   "id": "258e54a0-3f30-424f-ae3e-e7112b046e1a",
   "metadata": {
    "tags": []
   },
   "outputs": [
    {
     "name": "stdout",
     "output_type": "stream",
     "text": []
    }
   ],
   "source": [
    "import : dir co : up : up : up : ."
   ]
  },
  {
   "cell_type": "code",
   "execution_count": 4,
   "id": "4146b613-d7c6-4330-ad1d-0f2fddb2728c",
   "metadata": {},
   "outputs": [
    {
     "name": "stdout",
     "output_type": "stream",
     "text": []
    }
   ],
   "source": [
    "Def F : {ap {if (right:B):(:arg:B)} : B} "
   ]
  },
  {
   "cell_type": "code",
   "execution_count": 5,
   "id": "e79222e3-246d-4688-8c0f-78c14366c0cb",
   "metadata": {},
   "outputs": [
    {
     "name": "stdout",
     "output_type": "stream",
     "text": [
      "6141"
     ]
    }
   ],
   "source": [
    "#\n",
    "#   Search space a.k.a. \n",
    "#\n",
    "Let Domain : C12?: \n",
    "count : Domain? "
   ]
  },
  {
   "cell_type": "code",
   "execution_count": 6,
   "id": "cedf1413-0586-46e6-9f71-5a7773e033b4",
   "metadata": {},
   "outputs": [
    {
     "name": "stdout",
     "output_type": "stream",
     "text": []
    }
   ],
   "source": [
    "out algebraic_L1 3600 : dom 100 : property algebraic_L1 S6? : Domain? \n",
    "out algebraic_L1.can 3600 : F : in stable : algebraic_L1 "
   ]
  },
  {
   "cell_type": "code",
   "execution_count": null,
   "id": "f15b32cf-c7d0-4b7d-94b5-e00946ba553d",
   "metadata": {},
   "outputs": [],
   "source": [
    "out algebraic_L2 3600 : dom 100 : property algebraic_L2 S6? : in : algebraic_L1.can \n",
    "out algebraic_L2.can 3600 : F : in stable : algebraic_L2 "
   ]
  },
  {
   "cell_type": "code",
   "execution_count": null,
   "id": "17531a7e-9a8f-4c4d-b12a-10fa70beeea0",
   "metadata": {},
   "outputs": [],
   "source": []
  },
  {
   "cell_type": "code",
   "execution_count": null,
   "id": "ce24fac2-8372-49c5-a6bf-ca42cb18aa08",
   "metadata": {},
   "outputs": [],
   "source": [
    "out algebraic_R1 3600 : dom 500 : property algebraic_R1 S6? : Domain? \n",
    "out algebraic_R1.can 3600 : F : in stable : algebraic_R1 "
   ]
  },
  {
   "cell_type": "code",
   "execution_count": null,
   "id": "db804ee7-492a-4ba0-ba4d-77326975682e",
   "metadata": {},
   "outputs": [],
   "source": [
    "out algebraic_R2 3600 : dom 500 : property algebraic_R2 S6? : in : algebraic_R1.can \n",
    "out algebraic_R2.can 3600 : F : in stable : algebraic_R2 "
   ]
  },
  {
   "cell_type": "code",
   "execution_count": null,
   "id": "0914e655-ae66-49d0-bd7c-21df4f4b9c5a",
   "metadata": {},
   "outputs": [],
   "source": []
  },
  {
   "cell_type": "code",
   "execution_count": null,
   "id": "cc77c96f-e133-4274-ae74-d43bc113b7b0",
   "metadata": {
    "tags": []
   },
   "outputs": [],
   "source": [
    "out algebraic_L3 7200 : dom 3600 : property algebraic_L3 S6? : in : algebraic_L2.can \n",
    "out algebraic_L3.can 3600 : F : in stable : algebraic_L3 "
   ]
  },
  {
   "cell_type": "code",
   "execution_count": null,
   "id": "97599da6-a54f-4bae-a7aa-96fe293fd902",
   "metadata": {},
   "outputs": [],
   "source": [
    "out algebraic_R3 7200 : dom 3600 : property algebraic_R3 S6? : in : algebraic_R2.can \n",
    "out algebraic_R3.can 3600 : F : in stable : algebraic_R3 "
   ]
  },
  {
   "cell_type": "code",
   "execution_count": null,
   "id": "afc3b506-32ef-4748-8811-ee29132b477c",
   "metadata": {},
   "outputs": [],
   "source": [
    "count : in : algebraic_L1.can \n",
    "count : in : algebraic_L2.can\n",
    "count : in : algebraic_L3.can\n",
    "count : in : algebraic_R1.can\n",
    "count : in : algebraic_R2.can\n",
    "count : in : algebraic_R3.can"
   ]
  },
  {
   "cell_type": "code",
   "execution_count": null,
   "id": "5f73dfe7-802c-43c8-a2e3-0c37e09e0073",
   "metadata": {},
   "outputs": [],
   "source": []
  }
 ],
 "metadata": {
  "kernelspec": {
   "display_name": "coda",
   "language": "",
   "name": "coda"
  },
  "language_info": {
   "file_extension": ".co",
   "mimetype": "text/plain",
   "name": "Any text"
  }
 },
 "nbformat": 4,
 "nbformat_minor": 5
}
