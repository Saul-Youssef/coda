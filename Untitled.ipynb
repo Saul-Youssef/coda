{
 "cells": [
  {
   "cell_type": "code",
   "execution_count": null,
   "id": "1d7a9372-532e-4611-b1ad-b8d21264050d",
   "metadata": {},
   "outputs": [],
   "source": []
  }
 ],
 "metadata": {
  "kernelspec": {
   "display_name": "coda",
   "language": "",
   "name": "coda"
  },
  "language_info": {
   "file_extension": ".co",
   "mimetype": "text/plain",
   "name": "Any text"
  }
 },
 "nbformat": 4,
 "nbformat_minor": 5
}
