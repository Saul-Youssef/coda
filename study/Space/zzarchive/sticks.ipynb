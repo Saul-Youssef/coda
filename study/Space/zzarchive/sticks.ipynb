{
 "cells": [
  {
   "cell_type": "markdown",
   "id": "a3bc85fa-62b1-442d-aed5-21852f873561",
   "metadata": {},
   "source": [
    "| Space | Elements | Operation | Space | Simple | Idempotent | Distributive | Distributive 2 | Commutative | Involution | Nilpotent | Semilattice | \n",
    "|-------|----------|-----------|-----:|-------:|-----------:|-------------:|--------:|------------:|-----------:|----------:|---------:|\n",
    "| rep \\| | sequences of \\|s | counting | Y | Y | Y | Y | Y | Y | N | N | N |\n"
   ]
  },
  {
   "cell_type": "code",
   "execution_count": 1,
   "id": "ee501de0-76b8-42ec-9434-812f1420b822",
   "metadata": {},
   "outputs": [
    {
     "name": "stdout",
     "output_type": "stream",
     "text": []
    }
   ],
   "source": [
    "import : endswith  dir co : up : up : ."
   ]
  },
  {
   "cell_type": "code",
   "execution_count": 5,
   "id": "d7df401b-8157-4401-8605-2f6f826cde23",
   "metadata": {},
   "outputs": [
    {
     "name": "stdout",
     "output_type": "stream",
     "text": [
      "/Users/youssef/coda/study/Classify.co /Users/youssef/coda/study/Algebra.co /Users/youssef/coda/study/Natural.co /Users/youssef/coda/study/Short.co /Users/youssef/coda/study/Search.co"
     ]
    }
   ],
   "source": [
    "dir co : up : up : ."
   ]
  },
  {
   "cell_type": "code",
   "execution_count": 2,
   "id": "dbd423d7-00e5-49a4-a681-cd3244065b34",
   "metadata": {},
   "outputs": [
    {
     "name": "stdout",
     "output_type": "stream",
     "text": []
    }
   ],
   "source": [
    "#Def OP : {rep |:B} \n",
    "Def OP : {ap {|}:B} "
   ]
  },
  {
   "cell_type": "code",
   "execution_count": 3,
   "id": "126e04ce-4f05-4b55-869a-8949d6abcf09",
   "metadata": {
    "jupyter": {
     "source_hidden": true
    },
    "tags": []
   },
   "outputs": [
    {
     "name": "stdout",
     "output_type": "stream",
     "text": [
      "(count:(ap {if (not:right:B):B}:(ap do1:(ap {with (right:B):bool:A} (simple:OP):(assign (simple:OP):(S1:))))))\n",
      "(count:(ap {if (not:right:B):B}:(ap do1:(ap {with (right:B):bool:A} (idempotent:OP):(assign (idempotent:OP):(S1:))))))\n",
      "(count:(ap {if (not:right:B):B}:(ap do1:(ap {with (right:B):bool:A} (distributive:OP):(assign (distributive:OP):(S1:))))))\n",
      "(count:(ap {if (not:right:B):B}:(ap do1:(ap {with (right:B):bool:A} (distributive2:OP):(assign (distributive2:OP):(S1:))))))\n",
      "(count:(ap {if (not:right:B):B}:(ap do1:(ap {with (right:B):bool:A} (commutative:OP):(assign (commutative:OP):(S1:))))))\n",
      "(count:(ap {if (not:right:B):B}:(ap do1:(ap {with (right:B):bool:A} (involution:OP):(assign (involution:OP):(S1:))))))\n",
      "(count:(ap {if (not:right:B):B}:(ap do1:(ap {with (right:B):bool:A} (nilpotent:OP):(assign (nilpotent:OP):(S1:))))))\n",
      "(count:(ap {if (not:right:B):B}:(ap do1:(ap {with (right:B):bool:A} (semilattice:OP):(assign (semilattice:OP):(S1:))))))"
     ]
    }
   ],
   "source": [
    "count : theorem (simple:        OP) : S1?\n",
    "count : theorem (idempotent:    OP) : S1?\n",
    "count : theorem (distributive:  OP) : S1?\n",
    "count : theorem (distributive2: OP) : S1?\n",
    "count : theorem (commutative:   OP) : S1? \n",
    "count : theorem (involution:    OP) : S1? \n",
    "count : theorem (nilpotent:     OP) : S1? \n",
    "count : theorem (semilattice:   OP) : S1? "
   ]
  },
  {
   "cell_type": "code",
   "execution_count": 4,
   "id": "1306d4c6-5067-4ef9-b9f1-932d0c1d9833",
   "metadata": {},
   "outputs": [
    {
     "name": "stdout",
     "output_type": "stream",
     "text": [
      "(count:(ap {if (not:right:B):B}:(ap do1:(ap {with (right:B):bool:A} (simple:OP):(assign (simple:OP):(S2:))))))\n",
      "(count:(ap {if (not:right:B):B}:(ap do1:(ap {with (right:B):bool:A} (idempotent:OP):(assign (idempotent:OP):(S2:))))))\n",
      "(count:(ap {if (not:right:B):B}:(ap do1:(ap {with (right:B):bool:A} (distributive:OP):(assign (distributive:OP):(S2:))))))\n",
      "(count:(ap {if (not:right:B):B}:(ap do1:(ap {with (right:B):bool:A} (distributive2:OP):(assign (distributive2:OP):(S2:))))))\n",
      "(count:(ap {if (not:right:B):B}:(ap do1:(ap {with (right:B):bool:A} (commutative:OP):(assign (commutative:OP):(S2:))))))\n",
      "(count:(ap {if (not:right:B):B}:(ap do1:(ap {with (right:B):bool:A} (involution:OP):(assign (involution:OP):(S2:))))))\n",
      "(count:(ap {if (not:right:B):B}:(ap do1:(ap {with (right:B):bool:A} (nilpotent:OP):(assign (nilpotent:OP):(S2:))))))\n",
      "(count:(ap {if (not:right:B):B}:(ap do1:(ap {with (right:B):bool:A} (semilattice:OP):(assign (semilattice:OP):(S2:))))))"
     ]
    }
   ],
   "source": [
    "count : theorem (simple:        OP) : S2?\n",
    "count : theorem (idempotent:    OP) : S2?\n",
    "count : theorem (distributive:  OP) : S2?\n",
    "count : theorem (distributive2: OP) : S2?\n",
    "count : theorem (commutative:   OP) : S2? \n",
    "count : theorem (involution:    OP) : S2? \n",
    "count : theorem (nilpotent:     OP) : S2? \n",
    "count : theorem (semilattice:   OP) : S2? "
   ]
  },
  {
   "cell_type": "code",
   "execution_count": null,
   "id": "d09a0ac1-f24e-4c26-8e4a-7492d94c16e0",
   "metadata": {},
   "outputs": [],
   "source": []
  }
 ],
 "metadata": {
  "kernelspec": {
   "display_name": "coda",
   "language": "",
   "name": "coda"
  },
  "language_info": {
   "file_extension": ".co",
   "mimetype": "text/plain",
   "name": "Any text"
  }
 },
 "nbformat": 4,
 "nbformat_minor": 5
}
