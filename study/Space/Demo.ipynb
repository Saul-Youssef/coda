{
 "cells": [
  {
   "cell_type": "markdown",
   "id": "68dac4b6-28cc-4683-adb5-875abf770faa",
   "metadata": {},
   "source": [
    "Find \"all\" single command spaces"
   ]
  },
  {
   "cell_type": "code",
   "execution_count": 1,
   "id": "a0420036-425e-461f-ba1b-30ba506ecb6c",
   "metadata": {},
   "outputs": [
    {
     "name": "stdout",
     "output_type": "stream",
     "text": []
    }
   ],
   "source": [
    "#\n",
    "#  import testing harness \n",
    "#\n",
    "import : . "
   ]
  },
  {
   "cell_type": "code",
   "execution_count": 2,
   "id": "db82e644-892f-4dd3-9a95-6ec69448ec2b",
   "metadata": {},
   "outputs": [
    {
     "name": "stdout",
     "output_type": "stream",
     "text": [
      "Time Apply Text Sequence Search Source Define Number Import Log Logic defs Basic IO Help Evaluate Collect  Path Variable Sample Language"
     ]
    }
   ],
   "source": [
    "once : module : defs : "
   ]
  },
  {
   "cell_type": "code",
   "execution_count": 3,
   "id": "89dfef88-926f-4e92-bb0d-f97df9b31b1d",
   "metadata": {},
   "outputs": [
    {
     "name": "stdout",
     "output_type": "stream",
     "text": []
    }
   ],
   "source": [
    "Let Candidates : isnt <*> <=> : defs : Apply Sequence Search Number Logic Basic Collect "
   ]
  },
  {
   "cell_type": "code",
   "execution_count": 4,
   "id": "872d4d28-c985-42e9-8f48-6c1c7e8b5dfe",
   "metadata": {},
   "outputs": [
    {
     "name": "stdout",
     "output_type": "stream",
     "text": [
      "bool not equal or and nor xor nand xnor iff imply some ap by aq pass null bin put get arg domain right left if nif collect nat code_sort ints int_sum int_prod int_sort int_min int_max int_inv int_div nats floats float_sum float_prod float_sort float_min float_max float_inv float_div rev first tail last skip rep nth1 once count nth pre post in equiv while kernel ker hasnt has isnt is cases\n",
      "68"
     ]
    }
   ],
   "source": [
    "Candidates? \n",
    "count : Candidates?"
   ]
  },
  {
   "cell_type": "code",
   "execution_count": null,
   "id": "f16d73fa-fe79-4257-9e1a-1bf6fb946573",
   "metadata": {},
   "outputs": [],
   "source": []
  },
  {
   "cell_type": "code",
   "execution_count": null,
   "id": "6e3e1d18-584d-4597-875a-c22bfcaba581",
   "metadata": {},
   "outputs": [],
   "source": [
    "#   All spaces are idempotent \n",
    "IDEMP1 S1? : Candidates?"
   ]
  },
  {
   "cell_type": "code",
   "execution_count": null,
   "id": "20343ed2-45f2-4a83-9899-c730d613f898",
   "metadata": {},
   "outputs": [],
   "source": []
  },
  {
   "cell_type": "code",
   "execution_count": null,
   "id": "9f072ec6-5175-4b47-ba45-51af08fe37c8",
   "metadata": {},
   "outputs": [],
   "source": []
  }
 ],
 "metadata": {
  "kernelspec": {
   "display_name": "coda",
   "language": "",
   "name": "coda"
  },
  "language_info": {
   "file_extension": ".co",
   "mimetype": "text/plain",
   "name": "Any text"
  }
 },
 "nbformat": 4,
 "nbformat_minor": 5
}
