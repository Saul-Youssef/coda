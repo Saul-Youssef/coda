{
 "cells": [
  {
   "cell_type": "code",
   "execution_count": 2,
   "id": "249ed7af-883c-45e5-81f0-6ce2d92882a4",
   "metadata": {},
   "outputs": [],
   "source": [
    "class rem(object):\n",
    "    def __init__(self,p,q):\n",
    "        self._p = p\n",
    "        self._q = q\n",
    "    def __call__(self,N):\n",
    "        n = N\n",
    "        while (n>=self._p) and (n>=self._q): n = n - self._p\n",
    "        return n"
   ]
  },
  {
   "cell_type": "code",
   "execution_count": 9,
   "id": "c0f03100-a149-4412-b30e-dc95d264f037",
   "metadata": {},
   "outputs": [
    {
     "name": "stdout",
     "output_type": "stream",
     "text": [
      "0 0\n",
      "1 1\n",
      "2 2\n",
      "3 0\n",
      "4 1\n",
      "5 2\n",
      "6 0\n",
      "7 1\n",
      "8 2\n",
      "9 0\n"
     ]
    }
   ],
   "source": [
    "for i in range(10): print(i,rem(3,3)(i))"
   ]
  },
  {
   "cell_type": "code",
   "execution_count": null,
   "id": "c2b53a59-d85e-42b3-8730-bcc6a2d76639",
   "metadata": {},
   "outputs": [],
   "source": [
    "for i in range(10): print(i,rem(2,5)(i))"
   ]
  },
  {
   "cell_type": "code",
   "execution_count": null,
   "id": "506981f9-20de-4a4f-b6a6-9e51477da32a",
   "metadata": {},
   "outputs": [],
   "source": [
    "f(0)"
   ]
  },
  {
   "cell_type": "code",
   "execution_count": null,
   "id": "20283601-9f40-4984-9bd5-b7a6e7512643",
   "metadata": {},
   "outputs": [],
   "source": [
    "f(5)"
   ]
  },
  {
   "cell_type": "code",
   "execution_count": null,
   "id": "e98b49a8-e06b-439a-b345-16576e875b8c",
   "metadata": {},
   "outputs": [],
   "source": []
  }
 ],
 "metadata": {
  "kernelspec": {
   "display_name": "Python 3 (ipykernel)",
   "language": "python",
   "name": "python3"
  },
  "language_info": {
   "codemirror_mode": {
    "name": "ipython",
    "version": 3
   },
   "file_extension": ".py",
   "mimetype": "text/x-python",
   "name": "python",
   "nbconvert_exporter": "python",
   "pygments_lexer": "ipython3",
   "version": "3.11.1"
  }
 },
 "nbformat": 4,
 "nbformat_minor": 5
}
