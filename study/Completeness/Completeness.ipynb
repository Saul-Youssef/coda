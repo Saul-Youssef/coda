{
 "cells": [
  {
   "cell_type": "markdown",
   "id": "1f301acf-f7c7-40c1-ba39-d62020da5c35",
   "metadata": {},
   "source": [
    "\n",
    "The mapping S&rightarrow;`S:` from finite byte strings to data is clearly onto (since the string '(:)' makes an atom and since all data is made from atoms).  This is limiting in the sense that there are more real numbers (for instance), than finite strings and more real numbers than data, so many real numbers cannot be computed by Coda.  \n",
    "\n",
    "As far as I can tell, this is a limitation of little importance.  For example, the set of real numbers which can be specified by finite strings is every real number that can be asked for by humans and this is only countably infinite.  "
   ]
  },
  {
   "cell_type": "code",
   "execution_count": 1,
   "id": "603388be-4d7d-4935-a1c4-b30dab53918a",
   "metadata": {},
   "outputs": [
    {
     "name": "stdout",
     "output_type": "stream",
     "text": [
      "0 1 2 3 4 5 6 7 8 9 10 11 12 13 14 15 16 17 18 19 20 21 22 23 24 25 26 27 28 29 30 31 32 33 34 35 36 37 38 39 40 41 42 43 44 45 46 47 48 49 50 51 52 53 54 55 56 57 58 59 60 61 62 63 64 65 66 67 68 69 70 71 72 73 74 75 76 77 78 79 80 81 82 83 84 85 86 87 88 89 90 91 92 (rev:(rev:93)) (rev:(rev:(nat:94)))"
     ]
    }
   ],
   "source": [
    "rev : rev : nat : 0"
   ]
  },
  {
   "cell_type": "code",
   "execution_count": null,
   "id": "5fc16278-ae87-463a-82d0-117313528bb5",
   "metadata": {},
   "outputs": [],
   "source": []
  }
 ],
 "metadata": {
  "kernelspec": {
   "display_name": "coda",
   "language": "",
   "name": "coda"
  },
  "language_info": {
   "file_extension": ".co",
   "mimetype": "text/plain",
   "name": "Any text"
  }
 },
 "nbformat": 4,
 "nbformat_minor": 5
}
