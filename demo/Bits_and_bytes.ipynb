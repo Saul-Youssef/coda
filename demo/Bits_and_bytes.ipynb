{
 "cells": [
  {
   "cell_type": "markdown",
   "id": "0179d8ce-1447-4477-8a33-2990581f6bcb",
   "metadata": {},
   "source": [
    "### Data, bits, bytes and character sequences\n",
    "\n"
   ]
  },
  {
   "cell_type": "markdown",
   "id": "bb7df90c-556e-4937-966a-84dd51109973",
   "metadata": {},
   "source": [
    "Let's see how data works down to the bottom level.  Recall that \"data\" and \"coda\" are defined this way.  \n",
    "\n",
    "* **Data** is a finite sequence of **coda**s.\n",
    "* A **coda** is a pair of data. \n",
    "\n",
    "This means that an empty sequence of codas () is valid data, a pair (:) of empty sequences is a valid coda etc.  All data in Coda is made this way.  "
   ]
  },
  {
   "cell_type": "code",
   "execution_count": null,
   "id": "37935cbd-6386-40d3-9b8f-3ba06e487492",
   "metadata": {},
   "outputs": [],
   "source": [
    "#\n",
    "#  The text you enter into these cells are compiled by the Coda compiler\n",
    "#  and translated into \"data\" as defined above. \"Hello World\" compiles\n",
    "#  into a two sequences of characters, as you might expect. \n",
    "#\n",
    "Hello World"
   ]
  },
  {
   "cell_type": "code",
   "execution_count": 2,
   "id": "c1b83b4f-2e6e-44d8-8bfa-1101693079e9",
   "metadata": {},
   "outputs": [
    {
     "name": "stdout",
     "output_type": "stream",
     "text": [
      "(:(:(:(:))(:)(:(:))(:(:))(:)(:(:))(:(:))(:(:)))(:(:(:))(:)(:)(:(:))(:(:))(:)(:(:))(:))(:(:(:))(:)(:)(:(:))(:)(:)(:(:))(:(:)))(:(:(:))(:)(:)(:(:))(:)(:)(:(:))(:(:)))(:(:(:))(:)(:)(:(:))(:)(:)(:)(:))) (:(:(:(:))(:)(:(:))(:)(:(:))(:)(:)(:))(:(:(:))(:)(:)(:(:))(:)(:)(:)(:))(:(:(:))(:)(:)(:)(:(:))(:(:))(:)(:(:)))(:(:(:))(:)(:)(:(:))(:)(:)(:(:))(:(:)))(:(:(:))(:)(:)(:(:))(:(:))(:)(:(:))(:(:))))"
     ]
    }
   ],
   "source": [
    "#\n",
    "#...You can see the true internal representation using \"pure\"\n",
    "#\n",
    "pure : Hello World"
   ]
  },
  {
   "cell_type": "code",
   "execution_count": 3,
   "id": "264c560e-69f8-4df9-8d7f-f7994219d706",
   "metadata": {},
   "outputs": [
    {
     "name": "stdout",
     "output_type": "stream",
     "text": [
      "(:(:(:a)a(:a)(:a)a(:a)(:a)(:a))(:(:a)aa(:a)(:a)a(:a)a)(:(:a)aa(:a)aa(:a)(:a))(:(:a)aa(:a)aa(:a)(:a))(:(:a)aa(:a)aaaa)) (:(:(:a)a(:a)a(:a)aaa)(:(:a)aa(:a)aaaa)(:(:a)aaa(:a)(:a)a(:a))(:(:a)aa(:a)aa(:a)(:a))(:(:a)aa(:a)(:a)a(:a)(:a)))"
     ]
    }
   ],
   "source": [
    "#\n",
    "#   An argument to \"pure\" displays (:) as the supplied character for readability. \n",
    "#\n",
    "#   I am using \"a\" because (:) is the foundational \"atom\" of data, as we will see.  It \n",
    "#   is also the foundation of the internal logic in Coda where () is \"true\" and \n",
    "#   (:) is \"false.\"  We will see more in other tutorials. \n",
    "#\n",
    "pure a : Hello World"
   ]
  },
  {
   "cell_type": "markdown",
   "id": "60d20dc9-cb09-4678-9b1c-6a37fdd9e3cd",
   "metadata": {},
   "source": [
    "### Get and Put\n",
    "\n",
    "We can take apart and put together data using the commands **get** and **put**..."
   ]
  },
  {
   "cell_type": "code",
   "execution_count": 4,
   "id": "57f43447-181c-475c-8727-bb9184e7048a",
   "metadata": {},
   "outputs": [
    {
     "name": "stdout",
     "output_type": "stream",
     "text": [
      "H e l l o W o r l d"
     ]
    }
   ],
   "source": [
    "#\n",
    "#   get X : (X:Y) -> Y in general.  Since the default bits, bit sequences, and \n",
    "#   character sequences all have domain (), they are all (:<something>), so get \n",
    "#   with no argument gets <something> as a sequence. \n",
    "#\n",
    "get : Hello World"
   ]
  },
  {
   "cell_type": "code",
   "execution_count": 5,
   "id": "80d9e100-946e-491b-a4ac-16533ca933bc",
   "metadata": {},
   "outputs": [
    {
     "name": "stdout",
     "output_type": "stream",
     "text": [
      "10"
     ]
    }
   ],
   "source": [
    "#\n",
    "#   The get broke up \"Hello World\" into individual characters \n",
    "#\n",
    "count : get : Hello World"
   ]
  },
  {
   "cell_type": "code",
   "execution_count": 6,
   "id": "e61bd13d-c373-4021-a3de-f78b9cbc29e7",
   "metadata": {},
   "outputs": [
    {
     "name": "stdout",
     "output_type": "stream",
     "text": [
      "0 | 0 0 | 0 0 0 0 | | 0 0 | 0 | 0 | | 0 | | 0 0 0 | | 0 | | 0 0 0 | | 0 | | | | 0 | 0 | 0 | | | 0 | | 0 | | | | 0 | | | 0 0 | 0 0 | | 0 | | 0 0 0 | | 0 0 | 0 0"
     ]
    }
   ],
   "source": [
    "#\n",
    "#  Doing it again gets down to 0 and 1 bits\n",
    "#\n",
    "get : get : Hello World"
   ]
  },
  {
   "cell_type": "code",
   "execution_count": 7,
   "id": "6127972f-b4e4-40a0-91c4-44eb7dca0f48",
   "metadata": {},
   "outputs": [
    {
     "name": "stdout",
     "output_type": "stream",
     "text": [
      "(:(:)) (:) (:(:)) (:(:)) (:) (:(:)) (:(:)) (:(:)) (:(:)) (:) (:) (:(:)) (:(:)) (:) (:(:)) (:) (:(:)) (:) (:) (:(:)) (:) (:) (:(:)) (:(:)) (:(:)) (:) (:) (:(:)) (:) (:) (:(:)) (:(:)) (:(:)) (:) (:) (:(:)) (:) (:) (:) (:) (:(:)) (:) (:(:)) (:) (:(:)) (:) (:) (:) (:(:)) (:) (:) (:(:)) (:) (:) (:) (:) (:(:)) (:) (:) (:) (:(:)) (:(:)) (:) (:(:)) (:(:)) (:) (:) (:(:)) (:) (:) (:(:)) (:(:)) (:(:)) (:) (:) (:(:)) (:(:)) (:) (:(:)) (:(:))"
     ]
    }
   ],
   "source": [
    "#\n",
    "#  In Coda, binary data is not fundamental.  If you use \"pure\" you will see that bits\n",
    "#  bits are also made of pure data.  \n",
    "#\n",
    "pure : get : get : Hello World "
   ]
  },
  {
   "cell_type": "code",
   "execution_count": 8,
   "id": "9fe0507b-0c5c-4058-9e2f-ff566e3e2653",
   "metadata": {},
   "outputs": [
    {
     "name": "stdout",
     "output_type": "stream",
     "text": [
      "| | | | | | | | | | | | | | | | | | | | | | | | | | | | | | | | | | | | | |"
     ]
    }
   ],
   "source": [
    "#\n",
    "#  What happens if you keep going?  \n",
    "#\n",
    "get : get : get : Hello World "
   ]
  },
  {
   "cell_type": "code",
   "execution_count": 9,
   "id": "55fd4c83-c375-448d-993b-99b000cf6919",
   "metadata": {},
   "outputs": [
    {
     "name": "stdout",
     "output_type": "stream",
     "text": [
      "(:) (:) (:) (:) (:) (:) (:) (:) (:) (:) (:) (:) (:) (:) (:) (:) (:) (:) (:) (:) (:) (:) (:) (:) (:) (:) (:) (:) (:) (:) (:) (:) (:) (:) (:) (:) (:) (:)"
     ]
    }
   ],
   "source": [
    "#\n",
    "#...You get a bunch of \"1\"s.  That's because everything is ultimately \n",
    "#   made of the atom (:).  \n",
    "#\n",
    "pure : get : get : get : Hello World "
   ]
  },
  {
   "cell_type": "code",
   "execution_count": 10,
   "id": "d2d21487-563d-4613-b32e-197048280a5a",
   "metadata": {},
   "outputs": [
    {
     "name": "stdout",
     "output_type": "stream",
     "text": [
      "0 | 0 0 | 0 0 0"
     ]
    }
   ],
   "source": [
    "#\n",
    "#   Now let's use put together with get to re-arrange the bits\n",
    "#   from the H character from Hello World.\n",
    "#\n",
    "#...first get the bits...\n",
    "#\n",
    "get : get : H"
   ]
  },
  {
   "cell_type": "code",
   "execution_count": 11,
   "id": "a50d7221-aa90-4bd8-91fd-718adedc9598",
   "metadata": {},
   "outputs": [
    {
     "name": "stdout",
     "output_type": "stream",
     "text": [
      "0 | 0 0 | | 0 0"
     ]
    }
   ],
   "source": [
    "#\n",
    "#   Rearrange them using \"nth\"...\n",
    "#\n",
    "nth 1 2 3 4 5 5 6 7 : get : get : H"
   ]
  },
  {
   "cell_type": "code",
   "execution_count": 12,
   "id": "cd036135-2720-4697-96b1-7040150850e1",
   "metadata": {},
   "outputs": [
    {
     "name": "stdout",
     "output_type": "stream",
     "text": [
      "L"
     ]
    }
   ],
   "source": [
    "#\n",
    "#   Put them back together with \"put\", and we have a new character....\n",
    "#\n",
    "put : nth 1 2 3 4 5 5 6 7 : get : get : H"
   ]
  },
  {
   "cell_type": "code",
   "execution_count": 13,
   "id": "d2e67705-7545-4536-a206-7439c359442f",
   "metadata": {},
   "outputs": [
    {
     "name": "stdout",
     "output_type": "stream",
     "text": [
      "\u001b[;1mcode:\u001b[0m\n",
      "    \u001b[34;7mget\u001b[0m\n",
      "\u001b[;1mmodule:\u001b[0m\n",
      "    Basic\n",
      "\u001b[;1msummary:\u001b[0m\n",
      "    select  A : ... gets data of the form (A:<something>)\n",
      "\u001b[;1mdescription:\u001b[0m\n",
      "    exclude A : ... gets data that isn't of the form (A:<something>)\n",
      "    get A     : ... gets <something> from data of the form (A:<something>)\n",
      "    is  A     : ... gets data exactly equal to A\n",
      "\u001b[;1mpath:\u001b[0m\n",
      "    /Users/youssef/coda/co/Basic.co\n",
      "\u001b[;1msource code:\u001b[0m\n",
      "    def has : {ap has1 A : B} \n",
      "    def hasnt : {ap {^:has1 A:B} : B} \n",
      "    def get : {ap get1 A : B}\n",
      "    def is : {apif {A=B} A : B}\n",
      "    def isnt : {apif {^:(A=B)} A : B} \n",
      "\u001b[;1mdemos:\u001b[0m\n",
      "    1. \u001b[35;4mhas bin : x y z (bin:a b c)\u001b[0m\n",
      "    2. \u001b[35;4mhas : x y z (bin:a b c)\u001b[0m\n",
      "    3. \u001b[35;4mget bin : x y z (bin:a b c)\u001b[0m\n",
      "    4. \u001b[35;4mget : x y z (bin: a b c)\u001b[0m\n",
      "    5. \u001b[35;4mcount : get : x y z\u001b[0m\n",
      "    6. \u001b[35;4mcount : count : get : x y z\u001b[0m\n"
     ]
    }
   ],
   "source": [
    "#\n",
    "#   Note that get and put work the same way from large scale to small.  You can \n",
    "#   see more examples via help. \n",
    "#\n",
    "help : get "
   ]
  },
  {
   "cell_type": "code",
   "execution_count": null,
   "id": "cb821dc1-4ddf-498a-8533-54f6bf5afdc7",
   "metadata": {},
   "outputs": [],
   "source": []
  }
 ],
 "metadata": {
  "kernelspec": {
   "display_name": "coda",
   "language": "",
   "name": "coda"
  },
  "language_info": {
   "file_extension": ".co",
   "mimetype": "text/plain",
   "name": "Any text"
  }
 },
 "nbformat": 4,
 "nbformat_minor": 5
}
