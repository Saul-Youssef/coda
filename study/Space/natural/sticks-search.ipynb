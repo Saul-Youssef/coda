{
 "cells": [
  {
   "cell_type": "code",
   "execution_count": 1,
   "id": "b0ceed10-0ced-4598-9355-13365514ecf8",
   "metadata": {},
   "outputs": [
    {
     "name": "stdout",
     "output_type": "stream",
     "text": [
      "(defaultTime:100)"
     ]
    }
   ],
   "source": [
    "defaultTime:100"
   ]
  },
  {
   "cell_type": "code",
   "execution_count": 2,
   "id": "8986ef58-143b-42fe-94aa-8af7a7b534d5",
   "metadata": {},
   "outputs": [
    {
     "name": "stdout",
     "output_type": "stream",
     "text": []
    }
   ],
   "source": [
    "import : dir co : up : ."
   ]
  },
  {
   "cell_type": "code",
   "execution_count": 3,
   "id": "5eccb97d-8f4f-4eb9-8e0c-848efd4f3d7c",
   "metadata": {},
   "outputs": [
    {
     "name": "stdout",
     "output_type": "stream",
     "text": []
    }
   ],
   "source": [
    "Def stick : ap const | \n",
    "Def end : {End stick:B}\n"
   ]
  },
  {
   "cell_type": "code",
   "execution_count": 4,
   "id": "66deca37-cd36-4b58-abd8-c4d5187dd8dd",
   "metadata": {},
   "outputs": [
    {
     "name": "stdout",
     "output_type": "stream",
     "text": []
    }
   ],
   "source": [
    "#\n",
    "#   Create a sample of data from stick \n",
    "#\n",
    "Def mul : {dup (stick:A) : B} \n",
    "Def mod : {while frontstrip A : B} \n",
    "\n",
    "Def identity : pass\n",
    "Def double : {B B}\n",
    "Def add3 : post | | | \n",
    "Def mul2 : mul | | \n",
    "Def mod2 : mod | | \n",
    "Def min2 : minwidth | | \n",
    "Def max2 : maxwidth | | \n",
    "Def is2 : {if (B=| |):B} \n",
    "Let orgs : ap {put : prod (:stick) (:get:B) (:stick)} : permutation 2 : Organic? \n",
    "Let endos : \n",
    "    (ap : identity double add3 mul2 mod2 min2 max2 is2) \n",
    "\n",
    "Let S4 : (:) (:|) (:| |) (:| | |) (:| | | |) "
   ]
  },
  {
   "cell_type": "code",
   "execution_count": 5,
   "id": "2e570afb-a295-4955-8fc4-cbdd26784d25",
   "metadata": {},
   "outputs": [
    {
     "name": "stdout",
     "output_type": "stream",
     "text": [
      "ai aj ap aq ar arg atoms back backstrip bin bool collect common const count domain dup ends equal equiv front frontstrip get grp has hasnt if ints is isnt ker left less maxwidth minwidth more nats nif not null once pass plus post pre prod put rev right star starts sum while width"
     ]
    }
   ],
   "source": [
    "Organic?"
   ]
  },
  {
   "cell_type": "code",
   "execution_count": 6,
   "id": "b8deb2a0-d1c7-426b-b8e5-29c6890dc001",
   "metadata": {},
   "outputs": [
    {
     "name": "stdout",
     "output_type": "stream",
     "text": [
      "2916"
     ]
    }
   ],
   "source": [
    "count : permutation 2 : Organic?"
   ]
  },
  {
   "cell_type": "code",
   "execution_count": null,
   "id": "815f8379-e221-424c-8540-9cd5a9dd96e9",
   "metadata": {},
   "outputs": [],
   "source": [
    "write test 5000 : dom 100 : ap {with (get:B) : bool : idempotent (get:B) : S4?} : endos? orgs? "
   ]
  },
  {
   "cell_type": "code",
   "execution_count": 10,
   "id": "57f9a142-61cd-452d-a574-b30ef68b096d",
   "metadata": {},
   "outputs": [
    {
     "name": "stdout",
     "output_type": "stream",
     "text": [
      " (:prod (:stick) (:ai ai) (:stick)) \n",
      " (:prod (:stick) (:ai aj) (:stick)) \n",
      " (:prod (:stick) (:ai ap) (:stick)) \n",
      " (:prod (:stick) (:ai aq) (:stick)) \n",
      " (:prod (:stick) (:ai ar) (:stick)) \n",
      " (:prod (:stick) (:ai arg) (:stick)) \n",
      " (:prod (:stick) (:ai atoms) (:stick)) \n",
      " (:prod (:stick) (:ai back) (:stick)) \n",
      " (:prod (:stick) (:ai backstrip) (:stick)) \n",
      " (:prod (:stick) (:ai bin) (:stick)) \n"
     ]
    }
   ],
   "source": [
    "tab : first 10 : orgs?"
   ]
  },
  {
   "cell_type": "code",
   "execution_count": 11,
   "id": "ac13852d-7594-4964-a653-0d3d28c36ee6",
   "metadata": {},
   "outputs": [
    {
     "name": "stdout",
     "output_type": "stream",
     "text": [
      "(:identity) (:double) (:add3) (:mul2) (:mod2) (:min2) (:max2) (:is2)"
     ]
    }
   ],
   "source": [
    "endos?"
   ]
  },
  {
   "cell_type": "code",
   "execution_count": null,
   "id": "682f401c-0045-4734-9dfe-1b7a3967362e",
   "metadata": {},
   "outputs": [],
   "source": []
  }
 ],
 "metadata": {
  "kernelspec": {
   "display_name": "coda",
   "language": "",
   "name": "coda"
  },
  "language_info": {
   "file_extension": ".co",
   "mimetype": "text/plain",
   "name": "Any text"
  }
 },
 "nbformat": 4,
 "nbformat_minor": 5
}
