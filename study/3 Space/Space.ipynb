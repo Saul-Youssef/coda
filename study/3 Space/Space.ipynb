{
 "cells": [
  {
   "cell_type": "markdown",
   "id": "f222d34e-b9ee-4455-83f6-11115c259143",
   "metadata": {},
   "source": [
    "Data A is a **space** if \n",
    "\n",
    "1. A X : Y Z = A : (A X:Y) (A X:Z) and \n",
    "2. A X Y : Z = A X: A Y: Z \n",
    "\n",
    "for all data X,Y,Z.\n",
    "\n",
    "As an example, let's consider the pure space of natural numbers defined by \n",
    "\n",
    "..."
   ]
  },
  {
   "cell_type": "code",
   "execution_count": 1,
   "id": "719cf407-1548-4919-9755-08fe5d4bc853",
   "metadata": {},
   "outputs": [
    {
     "name": "stdout",
     "output_type": "stream",
     "text": []
    }
   ],
   "source": [
    "import : . "
   ]
  },
  {
   "cell_type": "code",
   "execution_count": 2,
   "id": "a424e892-018b-4303-90e3-ad4a25a4b68a",
   "metadata": {},
   "outputs": [
    {
     "name": "stdout",
     "output_type": "stream",
     "text": []
    }
   ],
   "source": [
    "#\n",
    "#  Misc Candidate spaces \n",
    "#\n",
    "Def F2 : {put bin A (arg bin:B) : (get bin:B)} \n",
    "Def F1 : {put bin : (get bin:B) } \n",
    "Def F0 : int_sum \n",
    "Def IS : is \n",
    "Def COLLECT : collect \n",
    "Def ISNT : isnt \n",
    "Def n : {int_prod : (int_prod:A) (int_sum:B)}\n",
    "Def box : \n",
    "Def connes : { int_sum : (int_sum:A) (int_max:B) } "
   ]
  },
  {
   "cell_type": "code",
   "execution_count": 8,
   "id": "0cc77287-3a3b-48fc-a779-1e2ba7482534",
   "metadata": {},
   "outputs": [
    {
     "name": "stdout",
     "output_type": "stream",
     "text": [
      "(bin connes:0)"
     ]
    }
   ],
   "source": [
    "IDEMP1 S1? S2? S3? : connes "
   ]
  },
  {
   "cell_type": "code",
   "execution_count": 6,
   "id": "b63a84ed-219c-4075-bcff-c02d59b2fbbb",
   "metadata": {},
   "outputs": [
    {
     "name": "stdout",
     "output_type": "stream",
     "text": [
      "(bin pass:0) (bin rev:0) (bin box:12) (bin bin:12) (bin is:0) (bin {first 3:B}:0) (bin isnt:0) (bin collect:0)\n",
      "(bin pass:0) (bin rev:832) (bin is:0) (bin isnt:0) (bin {first 3:B}:0) (bin collect:0)\n",
      "(bin pass:0) (bin is:0) (bin isnt:0) (bin collect:0)"
     ]
    }
   ],
   "source": [
    "IDEMP1 S1? : pass rev box bin is {first 3:B} isnt collect \n",
    "IDEMP1 S1? S2? : pass rev is isnt {first 3:B} collect \n",
    "IDEMP1 S3? : pass is isnt collect "
   ]
  },
  {
   "cell_type": "code",
   "execution_count": 7,
   "id": "ba53ac05-db90-40b7-9579-ad02a7e869d3",
   "metadata": {},
   "outputs": [
    {
     "name": "stdout",
     "output_type": "stream",
     "text": [
      "(bin pass:0) (bin is:0) (bin isnt:0) (bin collect:0)"
     ]
    }
   ],
   "source": [
    "IDEMP2 S1? : pass is isnt collect "
   ]
  },
  {
   "cell_type": "code",
   "execution_count": null,
   "id": "bc006b9e-a543-416c-857e-c6b060ebecd9",
   "metadata": {},
   "outputs": [],
   "source": [
    "IDEMP2 S2? : pass is isnt collect "
   ]
  },
  {
   "cell_type": "code",
   "execution_count": null,
   "id": "57914c6f-971f-4132-b02e-2b7f0cc88ecf",
   "metadata": {},
   "outputs": [],
   "source": []
  }
 ],
 "metadata": {
  "kernelspec": {
   "display_name": "coda",
   "language": "",
   "name": "coda"
  },
  "language_info": {
   "file_extension": ".co",
   "mimetype": "text/plain",
   "name": "Any text"
  }
 },
 "nbformat": 4,
 "nbformat_minor": 5
}
