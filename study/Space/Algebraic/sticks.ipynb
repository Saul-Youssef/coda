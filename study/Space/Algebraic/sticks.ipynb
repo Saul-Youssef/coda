{
 "cells": [
  {
   "cell_type": "markdown",
   "id": "c08ab240-37c5-4876-8a1a-49b17a70e9f9",
   "metadata": {},
   "source": [
    "The space of \"sticks\" is the space of finite sequences of |, which is the same as the space of natural numbers.  \n",
    "\n",
    "D:(sticks:X) (sticks:Y) = D:(sticks:Y) (sticks:X) \n",
    "\n",
    "for all X,Y.  \n"
   ]
  },
  {
   "cell_type": "code",
   "execution_count": 1,
   "id": "ea050ed9-6f34-4ede-8331-a9031107982a",
   "metadata": {},
   "outputs": [
    {
     "name": "stdout",
     "output_type": "stream",
     "text": [
      "(defaultTime:1000)"
     ]
    }
   ],
   "source": [
    "defaultTime : 1000"
   ]
  },
  {
   "cell_type": "code",
   "execution_count": 2,
   "id": "47062844-02e4-4fd9-ad12-5f3ad272a16a",
   "metadata": {},
   "outputs": [
    {
     "name": "stdout",
     "output_type": "stream",
     "text": [
      "(:|) (:| |) (:| | |)"
     ]
    }
   ],
   "source": [
    "ap {put:rep B:|} : 1 2 3"
   ]
  },
  {
   "cell_type": "code",
   "execution_count": 3,
   "id": "e04690df-dd2f-41d7-bfca-f872061d74ae",
   "metadata": {},
   "outputs": [
    {
     "name": "stdout",
     "output_type": "stream",
     "text": []
    }
   ],
   "source": [
    "Let SPACE : permutation 2 : ap {put:rep B:|} : 1 2 3"
   ]
  },
  {
   "cell_type": "code",
   "execution_count": 4,
   "id": "de1b46e8-0188-4d17-b0c0-be6d821db7d8",
   "metadata": {},
   "outputs": [
    {
     "name": "stdout",
     "output_type": "stream",
     "text": [
      "(:(:|) (:|)) (:(:|) (:| |)) (:(:|) (:| | |)) (:(:| |) (:|)) (:(:| |) (:| |)) (:(:| |) (:| | |)) (:(:| | |) (:|)) (:(:| | |) (:| |)) (:(:| | |) (:| | |))"
     ]
    }
   ],
   "source": [
    "SPACE?"
   ]
  },
  {
   "cell_type": "code",
   "execution_count": 5,
   "id": "de9cbbd9-7d0b-4202-ab46-97fed0a940aa",
   "metadata": {},
   "outputs": [
    {
     "name": "stdout",
     "output_type": "stream",
     "text": []
    }
   ],
   "source": [
    "Let SEARCH : (ap : defs:Basic Sequence Apply Number Logic Collect)"
   ]
  },
  {
   "cell_type": "code",
   "execution_count": 6,
   "id": "c3b8edf8-f6c4-48ce-afdb-2771d46be85a",
   "metadata": {},
   "outputs": [
    {
     "name": "stdout",
     "output_type": "stream",
     "text": [
      "9"
     ]
    }
   ],
   "source": [
    "count: SPACE?"
   ]
  },
  {
   "cell_type": "code",
   "execution_count": 7,
   "id": "594bfe71-ff22-45e3-bb39-0131365ccbc5",
   "metadata": {},
   "outputs": [
    {
     "name": "stdout",
     "output_type": "stream",
     "text": []
    }
   ],
   "source": [
    "Def TEST : {count:((A:(arg:B) (right:B))=(A:(right:B) (arg:B)))} "
   ]
  },
  {
   "cell_type": "code",
   "execution_count": 8,
   "id": "0aeb29e5-81fc-4a89-bde4-5c99da0c93fa",
   "metadata": {},
   "outputs": [
    {
     "name": "stdout",
     "output_type": "stream",
     "text": []
    }
   ],
   "source": [
    "Let PAIRS : ar bin SPACE? : SPACE?"
   ]
  },
  {
   "cell_type": "code",
   "execution_count": 9,
   "id": "b436d7c5-a995-4665-9064-475f51d41ba3",
   "metadata": {},
   "outputs": [
    {
     "name": "stdout",
     "output_type": "stream",
     "text": [
      "(bin (:(:|) (:|)):(:(:|) (:| |)))"
     ]
    }
   ],
   "source": [
    "nth 2 : PAIRS?"
   ]
  },
  {
   "cell_type": "code",
   "execution_count": 10,
   "id": "15ca8db0-2b77-4058-b95b-e2907f184978",
   "metadata": {},
   "outputs": [
    {
     "name": "stdout",
     "output_type": "stream",
     "text": [
      "0"
     ]
    }
   ],
   "source": [
    "TEST pass : nth 1 : PAIRS?"
   ]
  },
  {
   "cell_type": "code",
   "execution_count": 11,
   "id": "16cf370f-d8fd-4d55-8951-05f32d0f0de0",
   "metadata": {},
   "outputs": [
    {
     "name": "stdout",
     "output_type": "stream",
     "text": [
      "(with pass:288)"
     ]
    }
   ],
   "source": [
    "do 100 : (with pass : nat_sum : ap TEST pass : PAIRS?)"
   ]
  },
  {
   "cell_type": "code",
   "execution_count": 14,
   "id": "be406949-8cd7-412e-936d-bbebe0a0b469",
   "metadata": {},
   "outputs": [
    {
     "name": "stdout",
     "output_type": "stream",
     "text": []
    }
   ],
   "source": [
    "Def Search : ap {with (get:B) : nat_sum : ap TEST (get:B) : PAIRS?} "
   ]
  },
  {
   "cell_type": "code",
   "execution_count": 16,
   "id": "f3638b8a-6259-43ec-916a-dbc698d238ad",
   "metadata": {},
   "outputs": [
    {
     "name": "stdout",
     "output_type": "stream",
     "text": [
      "(with =:288) (with ab:288)"
     ]
    }
   ],
   "source": [
    "dom 100 : first 2 : Search : SEARCH?"
   ]
  },
  {
   "cell_type": "code",
   "execution_count": 26,
   "id": "b3d4891f-0dcb-44b7-a33d-f634cd5d94ed",
   "metadata": {},
   "outputs": [
    {
     "name": "stdout",
     "output_type": "stream",
     "text": [
      "(T3:)"
     ]
    }
   ],
   "source": [
    "T3?"
   ]
  },
  {
   "cell_type": "code",
   "execution_count": 30,
   "id": "fc332672-5d53-4c89-a9fe-d908c1520221",
   "metadata": {},
   "outputs": [
    {
     "name": "stdout",
     "output_type": "stream",
     "text": []
    }
   ],
   "source": [
    "write T4 2000 : dom 500 : Search : SEARCH?"
   ]
  },
  {
   "cell_type": "code",
   "execution_count": 32,
   "id": "897073e8-9f2d-4892-9f02-33ae7f6fd250",
   "metadata": {},
   "outputs": [
    {
     "name": "stdout",
     "output_type": "stream",
     "text": [
      " (with =:288) \n",
      " (with ab:288) \n",
      " (with and:0) \n",
      " (with ap:288) \n",
      " (with aq:0) \n",
      " (with ar:0) \n",
      " (with arg:0) \n",
      " (with bin:288) \n",
      " (with bool:0) \n",
      " (with by:288) \n",
      " (with collect:288) \n",
      " (with const:0) \n",
      " (with count:0) \n",
      " (with depth:0) \n",
      " (with domain:0) \n",
      " (with equal:288) \n",
      " (with first:144) \n",
      " (with float_div:288) \n",
      " (with float_inv:0) \n",
      " (with float_max:0) \n",
      " (with float_min:0) \n",
      " (with float_prod:0) \n",
      " (with float_sort:0) \n",
      " (with float_sum:0) \n",
      " (with floats:0) \n",
      " (with get:288) \n",
      " (with has:288) \n",
      " (with hasnt:0) \n",
      " (with head:0) \n",
      " (with if:288) \n",
      " (with iff:0) \n",
      " (with imply:0) \n",
      " (with int_div:288) \n",
      " (with int_inv:0) \n",
      " (with int_max:0) \n",
      " (with int_min:0) \n",
      " (with int_prod:0) \n",
      " (with int_sort:0) \n",
      " (with int_sum:0) \n",
      " (with ints:0) \n",
      " (with is:0) \n",
      " (with isnt:288) \n",
      " (with ker:0) \n",
      " (with kernel:0) \n",
      " (with last:144) \n",
      " (with left:0) \n",
      " (with nand:0) \n",
      " (with nat:0) \n",
      " (with nat_max:0) \n",
      " (with nat_min:0) \n",
      " (with nat_prod:0) \n",
      " (with nat_sort:0) \n",
      " (with nat_sum:0) \n",
      " (with nats:0) \n",
      " (with nif:0) \n",
      " (with nor:0) \n",
      " (with not:0) \n",
      " (with nth:0) \n",
      " (with nth1:0) \n",
      " (with null:0) \n",
      " (with once:288) \n",
      " (with or:0) \n",
      " (with pass:288) \n",
      " (with plus:288) \n",
      " (with post:288) \n",
      " (with pre:288) \n",
      " (with prod:288) \n",
      " (with put:288) \n",
      " (with rep:288) \n",
      " (with rev:288) \n",
      " (with right:288) \n",
      " (with ring:0) \n",
      " (with skip:288) \n",
      " (with some:288) \n",
      " (with star:288) \n",
      " (with stick:0) \n",
      " (with sum:0) \n",
      " (with swap:288) \n",
      " (with tail:288) \n",
      " (with text_sort:0) \n",
      " (with xnor:0) \n",
      " (with xor:0) \n"
     ]
    }
   ],
   "source": [
    "tab : read stable : T4"
   ]
  },
  {
   "cell_type": "code",
   "execution_count": null,
   "id": "241275a2-0368-4ab0-a253-9f15b4da718e",
   "metadata": {},
   "outputs": [],
   "source": []
  }
 ],
 "metadata": {
  "kernelspec": {
   "display_name": "coda",
   "language": "",
   "name": "coda"
  },
  "language_info": {
   "file_extension": ".co",
   "mimetype": "text/plain",
   "name": "Any text"
  }
 },
 "nbformat": 4,
 "nbformat_minor": 5
}
