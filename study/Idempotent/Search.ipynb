{
 "cells": [
  {
   "cell_type": "markdown",
   "id": "9bf437ab-0c1d-4c9b-8234-4f1f1ca92672",
   "metadata": {},
   "source": [
    "Let's search for \"low lying\" idempotents."
   ]
  },
  {
   "cell_type": "code",
   "execution_count": null,
   "id": "095a9796-2a4c-4c84-ba70-bd1df0c1c539",
   "metadata": {},
   "outputs": [],
   "source": [
    "defaultTime:1000"
   ]
  },
  {
   "cell_type": "code",
   "execution_count": 1,
   "id": "d7f79fe4-af79-4689-a9f5-a043aae1fcd0",
   "metadata": {},
   "outputs": [
    {
     "name": "stdout",
     "output_type": "stream",
     "text": []
    }
   ],
   "source": [
    "write T1 100 : a b c x? d e f "
   ]
  },
  {
   "cell_type": "code",
   "execution_count": null,
   "id": "19fb6f07-c1d8-47af-ae6c-437649c4a963",
   "metadata": {},
   "outputs": [],
   "source": []
  },
  {
   "cell_type": "code",
   "execution_count": 2,
   "id": "acc4b573-2915-4ee3-ad77-fda6258f26e0",
   "metadata": {},
   "outputs": [
    {
     "name": "stdout",
     "output_type": "stream",
     "text": [
      "a b c (x:) d e f"
     ]
    }
   ],
   "source": [
    "read stable : T1"
   ]
  },
  {
   "cell_type": "code",
   "execution_count": null,
   "id": "dfd94aa1-5bc1-4ddd-ac23-c0aa5fa7d340",
   "metadata": {},
   "outputs": [],
   "source": [
    "defs:"
   ]
  },
  {
   "cell_type": "code",
   "execution_count": null,
   "id": "e535f100-010c-410f-ae26-165ad135b8f6",
   "metadata": {},
   "outputs": [],
   "source": [
    "tab : text_sort : once : module : defs :"
   ]
  },
  {
   "cell_type": "code",
   "execution_count": null,
   "id": "d2596991-56b5-43db-9249-97394767adf4",
   "metadata": {
    "tags": []
   },
   "outputs": [],
   "source": [
    "tab : defs : Apply Basic Collect Logic Number"
   ]
  },
  {
   "cell_type": "code",
   "execution_count": null,
   "id": "8120013d-71bb-404f-b0fd-0461224faaa8",
   "metadata": {},
   "outputs": [],
   "source": [
    "import : dir co : ."
   ]
  },
  {
   "cell_type": "code",
   "execution_count": null,
   "id": "32a9310c-bd60-425b-ac1f-bb595e046c4b",
   "metadata": {},
   "outputs": [],
   "source": [
    "C1?:"
   ]
  },
  {
   "cell_type": "code",
   "execution_count": null,
   "id": "4bf0d242-d19a-4a73-9f9f-77cb3954c1ea",
   "metadata": {},
   "outputs": [],
   "source": [
    "permutation 2 : a b "
   ]
  },
  {
   "cell_type": "code",
   "execution_count": null,
   "id": "bfb1ea62-08ab-4f1b-82a7-1e3929502104",
   "metadata": {},
   "outputs": [],
   "source": [
    "Def IDEMP : {((get:A):(get:A):(get:B))=((get:A):(get:B))} "
   ]
  },
  {
   "cell_type": "code",
   "execution_count": null,
   "id": "027ff5ac-6e4d-41d7-85de-2d248b1111cc",
   "metadata": {},
   "outputs": [],
   "source": [
    "count : IDEMP (:pass) : (:1 2 3)\n",
    "count : IDEMP (:rev) : (:1 2 3) "
   ]
  },
  {
   "cell_type": "code",
   "execution_count": null,
   "id": "a58ed4f1-f325-4ebe-a31e-d6b145cd33f4",
   "metadata": {},
   "outputs": [],
   "source": [
    "count : ap IDEMP (:pass) : (:1 2 3) (:a b c)\n",
    "count : ap IDEMP (:rev) : (:1 2 3) (:a b c)\n",
    "count : ap IDEMP (:rev) : (:1 1 1) (:a b c)\n",
    "count : ap IDEMP (:rev) : (:1 1 1) (:a a)"
   ]
  },
  {
   "cell_type": "code",
   "execution_count": null,
   "id": "db103b09-c153-495e-a82b-9eb526c4e82b",
   "metadata": {},
   "outputs": [],
   "source": [
    "Def SEARCH : ap {with B: count : ap IDEMP B : A} "
   ]
  },
  {
   "cell_type": "code",
   "execution_count": null,
   "id": "4fe262a2-c387-44d6-b05a-ae4df3b6d600",
   "metadata": {},
   "outputs": [],
   "source": [
    "do 100 : SEARCH (:1 2 3) (:a b c) : (:pass) (:rev) "
   ]
  },
  {
   "cell_type": "code",
   "execution_count": null,
   "id": "c321bd9a-793f-4c26-b32d-86009b181bf9",
   "metadata": {},
   "outputs": [],
   "source": [
    "S2?"
   ]
  },
  {
   "cell_type": "code",
   "execution_count": null,
   "id": "1ed2beab-e512-457d-ac88-d7b1dd8bf35c",
   "metadata": {},
   "outputs": [],
   "source": [
    "dom 100 : SEARCH S2? : (:pass) (:rev)"
   ]
  },
  {
   "cell_type": "code",
   "execution_count": null,
   "id": "700c1598-9118-4e21-a304-a211fe0c399d",
   "metadata": {},
   "outputs": [],
   "source": [
    "by : defs : Basic Apply "
   ]
  },
  {
   "cell_type": "code",
   "execution_count": null,
   "id": "ebadfa8e-aa0c-4672-ab3c-43f9a255f777",
   "metadata": {},
   "outputs": [],
   "source": [
    "write T1 1000 : dom 100 : SEARCH S2? : by : defs : Basic Apply "
   ]
  },
  {
   "cell_type": "code",
   "execution_count": null,
   "id": "495e085a-333b-419a-90b5-d03f022af19a",
   "metadata": {},
   "outputs": [],
   "source": []
  }
 ],
 "metadata": {
  "kernelspec": {
   "display_name": "coda",
   "language": "",
   "name": "coda"
  },
  "language_info": {
   "file_extension": ".co",
   "mimetype": "text/plain",
   "name": "Any text"
  }
 },
 "nbformat": 4,
 "nbformat_minor": 5
}
