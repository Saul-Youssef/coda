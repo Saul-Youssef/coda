{
 "cells": [
  {
   "cell_type": "markdown",
   "id": "81e09019-ecb3-4a7b-bc13-7b616f5f31f4",
   "metadata": {},
   "source": [
    "# Basic data samples \n",
    "\n",
    "Making data samples using the Sample module.\n",
    "\n"
   ]
  },
  {
   "cell_type": "markdown",
   "id": "249eac67-bf0f-4492-951d-e9a5f597851c",
   "metadata": {},
   "source": [
    "## Atoms and pure data \n",
    "\n",
    "First, let's sample data consisting of just sequences of (:) atoms and then samples of all pure data with "
   ]
  },
  {
   "cell_type": "code",
   "execution_count": 1,
   "id": "039a4c42-25de-4cd3-92be-d04eccfdecc1",
   "metadata": {},
   "outputs": [],
   "source": [
    "from base import *\n",
    "import Sample "
   ]
  },
  {
   "cell_type": "code",
   "execution_count": 2,
   "id": "a66a5bf3-3a00-4e2d-96eb-3c568a37e54a",
   "metadata": {},
   "outputs": [
    {
     "name": "stdout",
     "output_type": "stream",
     "text": [
      "1 ◎\n",
      "3 ◎ ◎ ◎\n",
      "5 ◎ ◎ ◎ ◎ ◎\n",
      "7 ◎ ◎ ◎ ◎ ◎ ◎ ◎\n",
      "0 \n",
      "2 ◎ ◎\n",
      "4 ◎ ◎ ◎ ◎\n",
      "6 ◎ ◎ ◎ ◎ ◎ ◎\n"
     ]
    }
   ],
   "source": [
    "#\n",
    "#   Use oddAtoms and evenAtoms to get datas consisting of sequences of (:). \n",
    "for d in Sample. oddAtoms(4): print(len(d),d)\n",
    "for d in Sample.evenAtoms(4): print(len(d),d)"
   ]
  },
  {
   "cell_type": "code",
   "execution_count": 3,
   "id": "24c3c3f9-4e2f-4e07-a8ad-79d760bc02b4",
   "metadata": {},
   "outputs": [
    {
     "data": {
      "text/plain": [
       "91"
      ]
     },
     "execution_count": 3,
     "metadata": {},
     "output_type": "execute_result"
    }
   ],
   "source": [
    "#\n",
    "#   For pure samples, use pure(width,depth) for all pure data with width \n",
    "#   less than or equal to 'width' and depth less than or equal to 'depth'. \n",
    "#\n",
    "import Set \n",
    "def pure(width,depth):\n",
    "    L = Sample.pure(width,depth)\n",
    "    return Set.Set(*L)\n",
    "pure(2,2)"
   ]
  },
  {
   "cell_type": "markdown",
   "id": "f606f38e-b41b-489b-8b58-bad7313e9af4",
   "metadata": {},
   "source": [
    "### Pure Data Sizes \n",
    "\n",
    "|         | width 1  | width 2 | width 3 | width 4  | width 5 |\n",
    "|---------|---------:|--------:|--------:|---------:|--------:|\n",
    "|depth 1  |    2     |    3    |    4    |     5    |    6    |\n",
    "|depth 2  |    5     |     91   |    4369   |   406,901    |    62,193,781    |\n",
    "|depth 3  |    26     |     68,583,243   |    ?    |     ?    |    ?    |\n",
    "|depth 4  |    677     |     ?   |    ?    |     ?    |    ?    |\n",
    "|depth 5  |    458,330     |     ?   |    ?    |     ?    |    ?    |\n",
    "\n",
    "The sizes of these samples grows very rapidly with maximum width and depth. "
   ]
  },
  {
   "cell_type": "code",
   "execution_count": 4,
   "id": "fe6d008b-be7d-4d6e-ac8b-7e56e3b2dcee",
   "metadata": {
    "tags": []
   },
   "outputs": [
    {
     "name": "stdout",
     "output_type": "stream",
     "text": [
      " (:◎) ◎\n",
      "◎◎ ◎ \n",
      " ◎◎ (:◎ ◎)\n",
      "◎ ◎◎◎ ◎◎\n",
      " ◎ 𝝞\n",
      "◎◎◎ 𝝞 𝟬\n",
      " ◎◎ ◎\n",
      "◎◎◎ (:◎ ◎) 𝟬\n",
      "◎◎◎ ◎◎◎\n",
      "(:◎ ◎) ◎◎ 𝟬\n"
     ]
    }
   ],
   "source": [
    "for s in pure(3,2).sample(10): print(s)"
   ]
  },
  {
   "cell_type": "markdown",
   "id": "e90db51c-748c-404c-84c9-1d7cc31e1673",
   "metadata": {},
   "source": [
    "## Coda based samples \n",
    "\n",
    "The Domain class in Sample lets you get data samples using a given collections of codas.  You specify a sample with a list of codas, and a specified maximum width and maximum depth."
   ]
  },
  {
   "cell_type": "code",
   "execution_count": 5,
   "id": "73eb91b3-98e7-4eca-a696-440fb6925511",
   "metadata": {
    "collapsed": true,
    "jupyter": {
     "outputs_hidden": true
    },
    "tags": []
   },
   "outputs": [
    {
     "name": "stdout",
     "output_type": "stream",
     "text": [
      "\n",
      "a\n",
      "b\n",
      "◎\n",
      "(:a)\n",
      "(:b)\n",
      "(a:)\n",
      "(a:a)\n",
      "(a:b)\n",
      "(b:)\n",
      "(b:a)\n",
      "(b:b)\n",
      "a\n",
      "a a\n",
      "a b\n",
      "a ◎\n",
      "a (:a)\n",
      "a (:b)\n",
      "a (a:)\n",
      "a (a:a)\n",
      "a (a:b)\n",
      "a (b:)\n",
      "a (b:a)\n",
      "a (b:b)\n",
      "b\n",
      "b a\n",
      "b b\n",
      "b ◎\n",
      "b (:a)\n",
      "b (:b)\n",
      "b (a:)\n",
      "b (a:a)\n",
      "b (a:b)\n",
      "b (b:)\n",
      "b (b:a)\n",
      "b (b:b)\n",
      "◎\n",
      "◎ a\n",
      "◎ b\n",
      "◎ ◎\n",
      "◎ (:a)\n",
      "◎ (:b)\n",
      "◎ (a:)\n",
      "◎ (a:a)\n",
      "◎ (a:b)\n",
      "◎ (b:)\n",
      "◎ (b:a)\n",
      "◎ (b:b)\n",
      "(:a)\n",
      "(:a) a\n",
      "(:a) b\n",
      "(:a) ◎\n",
      "(:a) (:a)\n",
      "(:a) (:b)\n",
      "(:a) (a:)\n",
      "(:a) (a:a)\n",
      "(:a) (a:b)\n",
      "(:a) (b:)\n",
      "(:a) (b:a)\n",
      "(:a) (b:b)\n",
      "(:b)\n",
      "(:b) a\n",
      "(:b) b\n",
      "(:b) ◎\n",
      "(:b) (:a)\n",
      "(:b) (:b)\n",
      "(:b) (a:)\n",
      "(:b) (a:a)\n",
      "(:b) (a:b)\n",
      "(:b) (b:)\n",
      "(:b) (b:a)\n",
      "(:b) (b:b)\n",
      "(a:)\n",
      "(a:) a\n",
      "(a:) b\n",
      "(a:) ◎\n",
      "(a:) (:a)\n",
      "(a:) (:b)\n",
      "(a:) (a:)\n",
      "(a:) (a:a)\n",
      "(a:) (a:b)\n",
      "(a:) (b:)\n",
      "(a:) (b:a)\n",
      "(a:) (b:b)\n",
      "(a:a)\n",
      "(a:a) a\n",
      "(a:a) b\n",
      "(a:a) ◎\n",
      "(a:a) (:a)\n",
      "(a:a) (:b)\n",
      "(a:a) (a:)\n",
      "(a:a) (a:a)\n",
      "(a:a) (a:b)\n",
      "(a:a) (b:)\n",
      "(a:a) (b:a)\n",
      "(a:a) (b:b)\n",
      "(a:b)\n",
      "(a:b) a\n",
      "(a:b) b\n",
      "(a:b) ◎\n",
      "(a:b) (:a)\n",
      "(a:b) (:b)\n",
      "(a:b) (a:)\n",
      "(a:b) (a:a)\n",
      "(a:b) (a:b)\n",
      "(a:b) (b:)\n",
      "(a:b) (b:a)\n",
      "(a:b) (b:b)\n",
      "(b:)\n",
      "(b:) a\n",
      "(b:) b\n",
      "(b:) ◎\n",
      "(b:) (:a)\n",
      "(b:) (:b)\n",
      "(b:) (a:)\n",
      "(b:) (a:a)\n",
      "(b:) (a:b)\n",
      "(b:) (b:)\n",
      "(b:) (b:a)\n",
      "(b:) (b:b)\n",
      "(b:a)\n",
      "(b:a) a\n",
      "(b:a) b\n",
      "(b:a) ◎\n",
      "(b:a) (:a)\n",
      "(b:a) (:b)\n",
      "(b:a) (a:)\n",
      "(b:a) (a:a)\n",
      "(b:a) (a:b)\n",
      "(b:a) (b:)\n",
      "(b:a) (b:a)\n",
      "(b:a) (b:b)\n",
      "(b:b)\n",
      "(b:b) a\n",
      "(b:b) b\n",
      "(b:b) ◎\n",
      "(b:b) (:a)\n",
      "(b:b) (:b)\n",
      "(b:b) (a:)\n",
      "(b:b) (a:a)\n",
      "(b:b) (a:b)\n",
      "(b:b) (b:)\n",
      "(b:b) (b:a)\n",
      "(b:b) (b:b)\n"
     ]
    }
   ],
   "source": [
    "#\n",
    "#   For example, let's make data samples \n",
    "#   with 'a' and 'b' for base codas. \n",
    "#\n",
    "DOM = Sample.Domain(co('a'),co('b'))\n",
    "def window(D,width,depth):\n",
    "    W = Set.Set(*D.window(width,depth))\n",
    "    return W\n",
    "for s in window(DOM,2,2): print(s)"
   ]
  },
  {
   "cell_type": "code",
   "execution_count": 6,
   "id": "c559f53c-2a11-4ae5-892f-060c107a98ee",
   "metadata": {},
   "outputs": [
    {
     "name": "stdout",
     "output_type": "stream",
     "text": [
      "78 ◎,𝟬,𝝞,nat,one,count,int1,nat1,int_add,int_mult,int_diff,int_max,int_min,int_div,int_sort,int_inv,pass,null,bin,domain,if,nif,put,has1,get1,left1,right1,sel1,*,some,rev,first,tail,last,rep,nth1,pre,post,bool,not,=,equal,or,and,nor,xor,nand,xnor,iff,imply,ap,app,ap2,aps,apby,apif,reduce,replace,rreplace,with,variables,0,1,2,3,a,b,A,B,?,(?:X),(?:Y),(?:Z),(?:W),(?:X),(?:Y),(?:Z),(?:W)\n"
     ]
    }
   ],
   "source": [
    "#\n",
    "#   For a more interesting sample, \n",
    "#\n",
    "DOM2 = Sample.Domain(*Sample.codas)\n",
    "print(len(Sample.codas),','.join([str(c) for c in Sample.codas]))"
   ]
  },
  {
   "cell_type": "code",
   "execution_count": 7,
   "id": "31dd6ff7-d2ec-48fe-ad99-1ce0336aca7a",
   "metadata": {},
   "outputs": [],
   "source": [
    "S22 = window(DOM2,2,2)"
   ]
  },
  {
   "cell_type": "code",
   "execution_count": 24,
   "id": "e4530a0e-972c-42f5-a4c6-9305b02e2853",
   "metadata": {
    "tags": []
   },
   "outputs": [
    {
     "name": "stdout",
     "output_type": "stream",
     "text": [
      "(int_add:=) (variables:domain)\n",
      "(int1:sel1) (nif:xnor)\n",
      "((?:W):post) (pre:1)\n",
      "(pre:b) (int_max:sel1)\n",
      "(variables:nand) sel1\n",
      "(has1:1) ((?:Z):ap2)\n",
      "(get1:int_div) ((?:W):or)\n",
      "(nth1:nat1) (tail:(?:W))\n",
      "(bool:int_diff) (xnor:*)\n",
      "(nat1:apby) (int1:(?:X))\n"
     ]
    }
   ],
   "source": [
    "for s in S22.sample(10): print(s)"
   ]
  },
  {
   "cell_type": "code",
   "execution_count": 9,
   "id": "7f3e0f31-cdcd-4ec8-a429-d584e104e99c",
   "metadata": {
    "tags": []
   },
   "outputs": [
    {
     "name": "stdout",
     "output_type": "stream",
     "text": [
      "aps put (?:Z)\n",
      "* rreplace or\n",
      "int_inv xor ◎\n",
      "has1 tail imply\n",
      "first bin if\n",
      "* rreplace int_inv\n",
      "tail with nand\n",
      "a nth1 0\n",
      "int_max * and\n",
      "3 nat1 int_diff\n"
     ]
    }
   ],
   "source": [
    "for s in window(DOM2,3,1).sample(10): print(s)"
   ]
  },
  {
   "cell_type": "code",
   "execution_count": 10,
   "id": "7be7455c-24ba-493e-8e43-176d32e5cb5e",
   "metadata": {},
   "outputs": [],
   "source": [
    "def pr(w,d): print(w,d,len(window(DOM2,w,d)))"
   ]
  },
  {
   "cell_type": "markdown",
   "id": "8ea9ce25-eff1-4031-ae3f-8ce3e678d12c",
   "metadata": {},
   "source": [
    "### Coda Sample Sizes  \n",
    "\n",
    "|         | width 1  | width 2 | width 3 | width 4  | width 5 |\n",
    "|---------|---------:|--------:|--------:|---------:|--------:|\n",
    "|depth 1  |    63     |    3969    |    250,047    |     15,752,961    |    ?    |\n",
    "|depth 2  |    4032    |    16,257,024   |     ?   |      ?    |    ?    |\n",
    "|depth 3  |    16,261,056     |     ?   |    ?    |     ?    |    ?    |\n",
    "|depth 4  |    ?     |     ?   |    ?    |     ?    |    ?    |\n",
    "|depth 5  |    ?     |     ?   |    ?    |     ?    |    ?    |\n",
    "\n",
    "In either case of pure data or coda samples like the above, any data will eventually appear in the sample for large enough width and depth.  Coda samples grow rapidly with width and depth as well, but they are far more practical for \n",
    "searching since the base set of codas can be used to aim towards known definitions. "
   ]
  },
  {
   "cell_type": "code",
   "execution_count": 25,
   "id": "1351b83d-d5bd-43b6-81f7-9008b3a7549b",
   "metadata": {},
   "outputs": [
    {
     "data": {
      "text/plain": [
       "'◎,𝟬,𝝞,nat,one,count,int1,nat1,int_add,int_mult,int_diff,int_max,int_min,int_div,int_sort,int_inv,pass,null,bin,domain,if,nif,put,has1,get1,left1,right1,sel1,*,some,rev,first,tail,last,rep,nth1,pre,post,bool,not,=,equal,or,and,nor,xor,nand,xnor,iff,imply,ap,app,ap2,aps,apby,apif,reduce,replace,rreplace,with,variables,0,1,2,3,a,b,A,B,?,(?:X),(?:Y),(?:Z),(?:W),(?:X),(?:Y),(?:Z),(?:W),(?:X),(?:Y),(?:Z),(?:W),(?:X),(?:Y),(?:Z),(?:W),(?:X),(?:Y),(?:Z),(?:W)'"
      ]
     },
     "execution_count": 25,
     "metadata": {},
     "output_type": "execute_result"
    }
   ],
   "source": [
    "','.join([str(l) for l in L])"
   ]
  },
  {
   "cell_type": "code",
   "execution_count": 26,
   "id": "2072a5b2-d344-47e2-9ca4-b26989d07647",
   "metadata": {},
   "outputs": [],
   "source": [
    "DOM3 = Sample.Domain(*L)"
   ]
  },
  {
   "cell_type": "code",
   "execution_count": 43,
   "id": "4e75826f-9329-45e8-b54e-68b070add764",
   "metadata": {},
   "outputs": [
    {
     "name": "stdout",
     "output_type": "stream",
     "text": [
      "2 null imply\n",
      "or ◎ equal\n",
      "some and imply\n",
      "with = *\n",
      "(?:W) or null\n",
      "(?:Z) (?:W) (?:W)\n",
      "𝟬 bool (?:Z)\n",
      "reduce first B\n",
      "left1 (?:W) b\n",
      "imply rep rreplace\n"
     ]
    }
   ],
   "source": [
    "for d in window(DOM3,3,1).sample(10): print(d)"
   ]
  },
  {
   "cell_type": "code",
   "execution_count": null,
   "id": "1fa8005e-6369-44dd-9116-5c6b54b1cf18",
   "metadata": {},
   "outputs": [],
   "source": []
  },
  {
   "cell_type": "code",
   "execution_count": null,
   "id": "96683f29-a652-4d40-bf88-3add6cb03190",
   "metadata": {},
   "outputs": [],
   "source": []
  }
 ],
 "metadata": {
  "kernelspec": {
   "display_name": "Python 3 (ipykernel)",
   "language": "python",
   "name": "python3"
  },
  "language_info": {
   "codemirror_mode": {
    "name": "ipython",
    "version": 3
   },
   "file_extension": ".py",
   "mimetype": "text/x-python",
   "name": "python",
   "nbconvert_exporter": "python",
   "pygments_lexer": "ipython3",
   "version": "3.10.7"
  }
 },
 "nbformat": 4,
 "nbformat_minor": 5
}
