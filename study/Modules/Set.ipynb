{
 "cells": [
  {
   "cell_type": "markdown",
   "id": "7fc240b7-9fe4-4174-9e7b-31dee4eac5c7",
   "metadata": {},
   "source": [
    "The Set module makes collections of data"
   ]
  },
  {
   "cell_type": "code",
   "execution_count": 1,
   "id": "b71cca2d-7bc7-44d7-9043-144b61516b9a",
   "metadata": {},
   "outputs": [],
   "source": [
    "import Generate\n",
    "from Space import Space \n",
    "\n",
    "S = Generate.Gen(Generate.codas,3).set()"
   ]
  },
  {
   "cell_type": "code",
   "execution_count": 2,
   "id": "85d2f65b-1372-4380-b33f-5d9de260f3d3",
   "metadata": {},
   "outputs": [
    {
     "data": {
      "text/plain": [
       "14098"
      ]
     },
     "execution_count": 2,
     "metadata": {},
     "output_type": "execute_result"
    }
   ],
   "source": [
    "S"
   ]
  },
  {
   "cell_type": "code",
   "execution_count": 3,
   "id": "16b4cb96-a11d-4814-8b60-330c7ad95709",
   "metadata": {},
   "outputs": [],
   "source": [
    "E = S.eval(4)"
   ]
  },
  {
   "cell_type": "code",
   "execution_count": 4,
   "id": "2dc5359d-b4a8-4a5a-8f4e-29a2e9bbe317",
   "metadata": {},
   "outputs": [],
   "source": [
    "Zero = S.subset(lambda s:s.empty())"
   ]
  },
  {
   "cell_type": "code",
   "execution_count": 5,
   "id": "910a20d3-8411-4b0b-ab1f-fa3da41387de",
   "metadata": {},
   "outputs": [
    {
     "data": {
      "text/plain": [
       "1"
      ]
     },
     "execution_count": 5,
     "metadata": {},
     "output_type": "execute_result"
    }
   ],
   "source": [
    "Zero"
   ]
  },
  {
   "cell_type": "code",
   "execution_count": 6,
   "id": "bd90d03e-e70d-4a58-a05d-cd37ce982ad4",
   "metadata": {},
   "outputs": [
    {
     "data": {
      "text/plain": [
       "95/196 ,◎,𝟬,𝝞,language,nat,one,count,int1,nat1,float1,int_add,int_mult,int_diff,int_max,int_min,float_add,float_mult,float_diff,float_max,float_min,code_add,code_min,code_max,int_sort,float_sort,int_inv,float_inv,pass,null,bin,domain,if,put,has1,get1,*,readpath,dir,out,in,help,source,demo,defs,rev,first,tail,last,rep,nth1,pre,post,bool,not,=,or,and,nor,xor,nand,xnor,iff,imply,home,start,startcontext,homecontext,setDefaultDepth,getDefaultDepth,step,eval,def,?,let,ap,app,ap2,aps,apby,apif,wrap,startswith,endswith,join,split,equiv,collect,counts,coda,codx,codes,alphabet,allcodes,pure"
      ]
     },
     "execution_count": 6,
     "metadata": {},
     "output_type": "execute_result"
    }
   ],
   "source": [
    "from base import * \n",
    "CONTEXT"
   ]
  },
  {
   "cell_type": "code",
   "execution_count": 7,
   "id": "c0ae6ccb-2c6b-4b22-b751-4b47df4dc3bd",
   "metadata": {},
   "outputs": [
    {
     "data": {
      "text/plain": [
       "(1, 14097, 0)"
      ]
     },
     "execution_count": 7,
     "metadata": {},
     "output_type": "execute_result"
    }
   ],
   "source": [
    "len(E.empty()),len(E.atomic()),len(E.undecided())"
   ]
  },
  {
   "cell_type": "code",
   "execution_count": 8,
   "id": "2c736186-9879-42e9-881d-e7c33a017187",
   "metadata": {},
   "outputs": [],
   "source": [
    "atoms = Generate.EvenAtoms(2)+Generate.OddAtoms(2)"
   ]
  },
  {
   "cell_type": "code",
   "execution_count": 9,
   "id": "9bb9215d-2afa-4022-a430-455030eb7623",
   "metadata": {},
   "outputs": [
    {
     "data": {
      "text/plain": [
       "4"
      ]
     },
     "execution_count": 9,
     "metadata": {},
     "output_type": "execute_result"
    }
   ],
   "source": [
    "atoms"
   ]
  },
  {
   "cell_type": "code",
   "execution_count": 10,
   "id": "661ce87b-e81c-4098-bb75-4f90b58532f8",
   "metadata": {},
   "outputs": [
    {
     "name": "stdout",
     "output_type": "stream",
     "text": [
      "\n",
      "◎ ◎\n",
      "◎\n",
      "◎ ◎ ◎\n"
     ]
    }
   ],
   "source": [
    "for atom in atoms: print(atom)"
   ]
  },
  {
   "cell_type": "code",
   "execution_count": 11,
   "id": "81e63d40-5611-41bb-bd67-f6fe70a34272",
   "metadata": {},
   "outputs": [],
   "source": [
    "Idempotent = S.idempotent(atoms)"
   ]
  },
  {
   "cell_type": "code",
   "execution_count": 12,
   "id": "a477394c-fcad-4485-a37f-842dc5175bf0",
   "metadata": {},
   "outputs": [
    {
     "data": {
      "text/plain": [
       "14098"
      ]
     },
     "execution_count": 12,
     "metadata": {},
     "output_type": "execute_result"
    }
   ],
   "source": [
    "Idempotent"
   ]
  },
  {
   "cell_type": "code",
   "execution_count": null,
   "id": "bed691aa-092d-45ca-97c6-66e2bb863cdc",
   "metadata": {},
   "outputs": [],
   "source": [
    "Idempotent.eval(10)"
   ]
  },
  {
   "cell_type": "code",
   "execution_count": null,
   "id": "3765603c-3222-4b95-a099-9e27f1d83608",
   "metadata": {},
   "outputs": [],
   "source": []
  }
 ],
 "metadata": {
  "kernelspec": {
   "display_name": "Python 3 (ipykernel)",
   "language": "python",
   "name": "python3"
  },
  "language_info": {
   "codemirror_mode": {
    "name": "ipython",
    "version": 3
   },
   "file_extension": ".py",
   "mimetype": "text/x-python",
   "name": "python",
   "nbconvert_exporter": "python",
   "pygments_lexer": "ipython3",
   "version": "3.10.7"
  }
 },
 "nbformat": 4,
 "nbformat_minor": 5
}
