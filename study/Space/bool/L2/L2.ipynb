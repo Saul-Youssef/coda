{
 "cells": [
  {
   "cell_type": "markdown",
   "id": "1025b5a9-bedc-4da1-86f1-1e3dff89ea35",
   "metadata": {
    "tags": []
   },
   "source": [
    "## Boolean operator\n",
    "\n",
    "A boolean operator is a morphism from the product space **bool x bool** to **bool**.  "
   ]
  },
  {
   "cell_type": "code",
   "execution_count": 1,
   "id": "4cbe56a4-bdde-4905-9c85-247fd8981988",
   "metadata": {},
   "outputs": [
    {
     "name": "stdout",
     "output_type": "stream",
     "text": [
      "(defaultTime:60)"
     ]
    }
   ],
   "source": [
    "defaultTime:60"
   ]
  },
  {
   "cell_type": "code",
   "execution_count": 2,
   "id": "430df704-e3ba-4ff1-8dce-7db27ee066df",
   "metadata": {},
   "outputs": [
    {
     "name": "stdout",
     "output_type": "stream",
     "text": []
    }
   ],
   "source": [
    "import : dir co : up : up : ."
   ]
  },
  {
   "cell_type": "code",
   "execution_count": 3,
   "id": "6e788f78-13e0-4319-966c-77515bbaa4e0",
   "metadata": {},
   "outputs": [
    {
     "name": "stdout",
     "output_type": "stream",
     "text": []
    }
   ],
   "source": [
    "#\n",
    "#  b is an atom to hold single boolean values \n",
    "#  L is the space of sequences of boolean values \n",
    "#  L is the space of sequences of boolean values with length <=2\n",
    "#  (E:X) is an endomorphism of L \n",
    "#  (e:X) is the special case of an \"inner\" endomorphism of L \n",
    "#\n",
    "Def b:\n",
    "Def L : (front | |) * (Seq b : bool) \n",
    "Def E : {end L:B}\n",
    "Def e : {E:in b:B}"
   ]
  },
  {
   "cell_type": "code",
   "execution_count": 4,
   "id": "3ed2a0d7-65fc-4d01-b883-e34d4752a6af",
   "metadata": {},
   "outputs": [
    {
     "name": "stdout",
     "output_type": "stream",
     "text": [
      "(b:◎) (b:)\n",
      "(b:◎) (b:)\n",
      "(b:◎) (b:)"
     ]
    }
   ],
   "source": [
    "#\n",
    "#  L is the space of <=2 boolean values \n",
    "#\n",
    "L : (b:(:)) (b:) (b:(:)) (b:)\n",
    "L : L : (b:(:)) (b:) (b:(:)) (b:)\n",
    "L : (L: (b:(:))) (L : (b:) (b:(:)) (b:))"
   ]
  },
  {
   "cell_type": "code",
   "execution_count": 5,
   "id": "55298ae0-67da-4b53-a8c7-8a1328bf6722",
   "metadata": {},
   "outputs": [
    {
     "name": "stdout",
     "output_type": "stream",
     "text": [
      "7\n",
      "4"
     ]
    }
   ],
   "source": [
    "#\n",
    "# We can enumerate the entire space L \n",
    "#\n",
    "Let Domain  : aq permutation 0 1 2 : (b:) (b:(:)) \n",
    "Let Domain2 : permutation 2 : (b:) (b:(:)) \n",
    "count : Domain?\n",
    "count : Domain2?"
   ]
  },
  {
   "cell_type": "markdown",
   "id": "bdc49a14-7b91-4e98-8a83-a167e3ffe8a6",
   "metadata": {},
   "source": [
    "L1 has 27 endomorphisms.  L2 already has 7^7=823,543, which is rather huge for repeating exactly the same analysis that we did for L1. \n",
    "\n",
    "First, let's examine the inner endomorphisms of L.  Inner endomorphisms are automatically algebraic and automatically make an L element of length 1.  In other words, each inner endomorphism defines an operator from two booleans to one boolean. "
   ]
  },
  {
   "cell_type": "code",
   "execution_count": 6,
   "id": "ae32b696-c13b-47bf-8b58-15edd58715f9",
   "metadata": {
    "tags": []
   },
   "outputs": [
    {
     "name": "stdout",
     "output_type": "stream",
     "text": []
    }
   ],
   "source": [
    "Def TRUE  : (e:const)\n",
    "Def OR    : (e:{B=(:) (:)})\n",
    "Def XNOR  : (e:{B=(:)}) \n",
    "Def AND   : (e:bool)\n",
    "Def NAND  : (e:not)\n",
    "Def XOR   : (e:{B=(:)}) \n",
    "Def NOR   : (e:{(B=((:) (:)))}) \n",
    "Def FALSE : (e:const (:)) "
   ]
  },
  {
   "cell_type": "code",
   "execution_count": 7,
   "id": "232fe2f4-b73e-4529-8471-f076e2540b3f",
   "metadata": {},
   "outputs": [
    {
     "name": "stdout",
     "output_type": "stream",
     "text": []
    }
   ],
   "source": [
    "Def spec : ap {A:get:B} "
   ]
  },
  {
   "cell_type": "code",
   "execution_count": 8,
   "id": "195c5387-d387-4241-b3df-c34e483ca1fa",
   "metadata": {},
   "outputs": [
    {
     "name": "stdout",
     "output_type": "stream",
     "text": [
      "◎ (:(b:)) (:(b:◎)) (:(b:) (b:)) (:(b:) (b:◎)) (:(b:◎) (b:)) (:(b:◎) (b:◎))"
     ]
    }
   ],
   "source": [
    "Domain?"
   ]
  },
  {
   "cell_type": "code",
   "execution_count": 9,
   "id": "e72d7b80-f15c-46bc-8f68-137b95b5515e",
   "metadata": {},
   "outputs": [
    {
     "name": "stdout",
     "output_type": "stream",
     "text": []
    }
   ],
   "source": [
    "Def str : ap {map (bin (b:):T) (bin (b:(:)):F):B}"
   ]
  },
  {
   "cell_type": "code",
   "execution_count": 10,
   "id": "2f3f38a7-8e9f-45c6-b0c7-0c95b8a30b31",
   "metadata": {},
   "outputs": [
    {
     "name": "stdout",
     "output_type": "stream",
     "text": [
      " T F TT TF FT FF"
     ]
    }
   ],
   "source": [
    "ap {join : str : get:B} : Domain?"
   ]
  },
  {
   "cell_type": "code",
   "execution_count": 11,
   "id": "930de6bf-275a-4c74-a2ab-940a2afaa6fe",
   "metadata": {},
   "outputs": [
    {
     "name": "stdout",
     "output_type": "stream",
     "text": [
      " T F TT TF FT FF\n",
      ",\n",
      "T T T T T T T\n",
      "F F F F F F T\n",
      "F F T F T T F\n",
      "T T F T F F F\n",
      "F F T F T T T\n",
      "F F T F T T F\n",
      "F F F F F F T\n",
      "F F F F F F F"
     ]
    }
   ],
   "source": [
    "#\n",
    "#   \"Truth table\" for the eight inner endomorphisms.\n",
    "#\n",
    "ap {join : str : get:B} : Domain?\n",
    ",\n",
    "str : spec TRUE : Domain?\n",
    "str : spec OR   : Domain?\n",
    "str : spec XNOR : Domain?\n",
    "str : spec AND  : Domain?\n",
    "str : spec NAND : Domain?\n",
    "str : spec XOR  : Domain?\n",
    "str : spec NOR  : Domain?\n",
    "str : spec FALSE: Domain?"
   ]
  },
  {
   "cell_type": "code",
   "execution_count": 20,
   "id": "c2fe5334-3316-4561-b0c3-077382de21d5",
   "metadata": {},
   "outputs": [
    {
     "name": "stdout",
     "output_type": "stream",
     "text": [
      "F F F"
     ]
    }
   ],
   "source": [
    "str : spec FALSE : first 3 : Domain?"
   ]
  },
  {
   "cell_type": "code",
   "execution_count": 13,
   "id": "47419177-a9a0-4390-9781-872a3063dfd6",
   "metadata": {},
   "outputs": [
    {
     "name": "stdout",
     "output_type": "stream",
     "text": []
    }
   ],
   "source": [
    "Let endos : ap : TRUE OR XNOR AND NAND XOR NOR FALSE "
   ]
  },
  {
   "cell_type": "markdown",
   "id": "af7f0927-2abe-4c36-959d-b07c12b7aa1c",
   "metadata": {},
   "source": [
    "Notice that the middle two values above are always the same.  That's because an inner endomorphism can't distinguish between (b:(:)) (b:) and (b:) (b:(:)) since their concatenated contents are both (:).  This means that the inner endomorphisms are exactly the 8 commutative operators out of the 16 total classical boolean operators.\n",
    "\n",
    "1. The 8 symmetric operators TRUE, OR, XNOR, AND, NAND, XOR, NOR, FALSE are algebraic inner endomorphisms of L2. \n",
    "\n",
    "2. The remaining 8 nonsymmetric operators are less commonly used (see TruthTable.png) for names. \n",
    "\n",
    "3. Since there are 7 data in L2, the space of endormorphisms of L2 is already enormous with 7^7 = 823,543 different endomorphisms(!).\n"
   ]
  },
  {
   "cell_type": "code",
   "execution_count": null,
   "id": "f8567b30-74d3-4237-a901-9b439231e267",
   "metadata": {
    "tags": []
   },
   "outputs": [],
   "source": [
    "#\n",
    "#   There are no involutions \n",
    "#\n",
    "dom 100 : ap {with (get:B) : bool : involution (get:B) : L_contents?} : endos? "
   ]
  },
  {
   "cell_type": "code",
   "execution_count": null,
   "id": "606bec86-3255-4764-a103-d093a007fda4",
   "metadata": {},
   "outputs": [],
   "source": [
    "#\n",
    "#   TRUE, FALSE and AND are idempotent.  Only TRUE and FALSE are spaces.  \n",
    "#\n",
    "dom 100 : ap {with (get:B) : bool : idempotent (get:B) : L_contents?} : endos?"
   ]
  },
  {
   "cell_type": "code",
   "execution_count": null,
   "id": "9b4dc15b-0db2-49a7-abcf-3c4abb86b1e2",
   "metadata": {},
   "outputs": [],
   "source": [
    "dom 200 : ap {with (get:B) : bool : ap preSpace (get:B) : permutation 2 : L_contents?} : (:AND)"
   ]
  },
  {
   "cell_type": "code",
   "execution_count": null,
   "id": "7ea18948-2937-4226-a50a-f523f054fe31",
   "metadata": {},
   "outputs": [],
   "source": [
    "dom 100 : ap {with (get:B) : bool : algebraic (get:B) : L_contents?} : endos? "
   ]
  },
  {
   "cell_type": "code",
   "execution_count": null,
   "id": "0be1332e-7262-426c-8e0d-6c4af0233bbb",
   "metadata": {},
   "outputs": [],
   "source": [
    "defaultTime:120"
   ]
  },
  {
   "cell_type": "code",
   "execution_count": null,
   "id": "d52f9d71-66ac-4f3d-ac9a-c6936ed49628",
   "metadata": {},
   "outputs": [],
   "source": [
    "tab : dom 100 : ap {with (get:B) : bool : commutator (get:B) : L_contents?} : combination 2 : endos?"
   ]
  },
  {
   "cell_type": "markdown",
   "id": "4178f188-a44d-43a3-897b-af5fb68fe17f",
   "metadata": {},
   "source": [
    "  |               |  TRUE |   OR  | XNOR  | AND    | NAND   | XOR   | NOR    | FALSE     |\n",
    "  |:-------------:|:-----:|:-----:|:----:|:------:|:------:|:------:|:------:|:--------:|\n",
    "  |  TRUE         |   -   |   X   |   X  |   -    |   X    |   X    |   X    |    X     |\n",
    "  |  OR           |       |   -   |   X  |   X    |   X    |   X    |   -    |    X     |\n",
    "  |  XNOR         |       |       |   -  |   X    |   X    |   -    |   X    |    X     |\n",
    "  |  AND          |       |       |      |   -    |   -    |   X    |   X    |    -     |\n",
    "  |  NAND         |       |       |      |        |   -    |   X    |   X    |    -     |\n",
    "  |  XOR          |       |       |      |        |        |   -    |   X    |    X     |\n",
    "  |  NOR          |       |       |      |        |        |        |   -    |    -     |\n",
    "  |  FALSE        |       |       |      |        |        |        |        |    -     |"
   ]
  },
  {
   "cell_type": "code",
   "execution_count": null,
   "id": "ccf7bc84-b264-4a5a-bd63-829f7660ed42",
   "metadata": {},
   "outputs": [],
   "source": [
    "#\n",
    "#    Check that TRUE and AND indeed commute on \n",
    "#    all elements of L\n",
    "#\n",
    "spec TRUE : L_contents?\n",
    "spec AND : L_contents?\n",
    ",\n",
    "spec (TRUE*AND) : L_contents?\n",
    "spec (AND*TRUE) : L_contents?\n",
    ",\n",
    "spec (OR*NOR) : L_contents?\n",
    "spec (NOR*OR) : L_contents?\n",
    ",\n",
    "spec (OR*XOR) : L_contents?\n",
    "spec (XOR*OR) : L_contents?"
   ]
  },
  {
   "cell_type": "code",
   "execution_count": null,
   "id": "e646ecfe-d694-4d0a-a61d-d410f5297880",
   "metadata": {},
   "outputs": [],
   "source": [
    "spec (AND) : L_contents?\n",
    "spec (AND*AND) : L_contents?"
   ]
  },
  {
   "cell_type": "markdown",
   "id": "0001499d-718c-4a3d-8aa7-92c5a477cf5e",
   "metadata": {},
   "source": [
    "Since inner endomorphisms always go from a sequence of booleans to a single boolean, none of these 8 can be involutions.  All are symmetric and are thus algebraic endomorphisms.  Of the eight, only TRUE and FALSE are spaces.  "
   ]
  },
  {
   "cell_type": "markdown",
   "id": "bb8f39d0-b1ff-4f48-ab6e-82e582081171",
   "metadata": {},
   "source": [
    "L_contents?"
   ]
  },
  {
   "cell_type": "code",
   "execution_count": null,
   "id": "a4c87a16-544f-4f07-8115-de031af380dc",
   "metadata": {},
   "outputs": [],
   "source": [
    "count : L_contents?"
   ]
  },
  {
   "cell_type": "code",
   "execution_count": null,
   "id": "6a7be813-06d6-46b7-8639-25aa1527d1c1",
   "metadata": {},
   "outputs": [],
   "source": [
    "tab : L_contents?"
   ]
  },
  {
   "cell_type": "code",
   "execution_count": null,
   "id": "87bdea6c-87e0-44c4-b139-8ecb9a357e4b",
   "metadata": {},
   "outputs": [],
   "source": []
  },
  {
   "cell_type": "code",
   "execution_count": null,
   "id": "44986965-55fe-4ac6-ba6b-4db6e5108338",
   "metadata": {},
   "outputs": [],
   "source": []
  }
 ],
 "metadata": {
  "kernelspec": {
   "display_name": "coda",
   "language": "",
   "name": "coda"
  },
  "language_info": {
   "file_extension": ".co",
   "mimetype": "text/plain",
   "name": "Any text"
  }
 },
 "nbformat": 4,
 "nbformat_minor": 5
}
