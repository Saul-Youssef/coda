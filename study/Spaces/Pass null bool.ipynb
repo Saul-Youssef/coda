{
 "cells": [
  {
   "cell_type": "markdown",
   "id": "eab73a3c-d67f-4a2a-873e-9e0653187be1",
   "metadata": {},
   "source": [
    "## Simple Space Examples \n",
    "1. Length\n",
    "2. Number of characters\n",
    "3. Bool \n",
    "4. Pass \n",
    "5. Null "
   ]
  },
  {
   "cell_type": "markdown",
   "id": "4c5b0737-44c7-40f3-a28f-764901f28f59",
   "metadata": {},
   "source": [
    "## Pass\n",
    "\n",
    "pass is a space, because \n",
    "\n",
    "* pass : X Y = pass : (pass:X) Y = pass : X (pass : Y) = X Y \n",
    "\n",
    "for all data X,Y.  Automorphisms of pass must satisfy \n",
    "\n",
    "* F : pass : X = pass : F : X \n",
    "\n",
    "for all X, so any data F is a morphism of pass.  \n",
    "\n",
    "Since pass commutes with any other space, pass can be added to any space trivially.  Since a morphism of space (S,pass) must be a morphism of both, this addition is trivial. \n",
    "\n",
    "null is also a space, because \n",
    "\n",
    "* null : X Y = null : (null:X) Y = null : X (null:Y) = ()\n",
    "\n",
    "An automorphism of null is data F satisfying F : null : X = null : F : X, meaning that (F:) = () for any data X.  \n"
   ]
  },
  {
   "cell_type": "markdown",
   "id": "461b9b8f-296c-495e-8ec9-2283d950e96d",
   "metadata": {},
   "source": [
    "## Length is a space\n",
    "\n",
    "If A is some data, we define the *length* of A to be the number of atoms in A, so \n",
    "\n",
    "length : (length : A) B = length : A B \n",
    "\n",
    "Meaning that length is a space.\n",
    "\n",
    "Let's work this out as a simple example."
   ]
  },
  {
   "cell_type": "code",
   "execution_count": 1,
   "id": "b6f9a65b-8d1a-4081-b55a-ba5b39c40959",
   "metadata": {},
   "outputs": [
    {
     "name": "stdout",
     "output_type": "stream",
     "text": []
    }
   ],
   "source": [
    "#\n",
    "#  type len and sum len are spaces.  Only type len is a type. \n",
    "#\n",
    "def len:  \n",
    "let type len: {some (has len:B) : (ap put len : ap one : B)} \n",
    "let sum  len: {put len : aps int_add : pre 0 : get len : B} \n",
    "let term len: {get len:B}"
   ]
  },
  {
   "cell_type": "code",
   "execution_count": 2,
   "id": "1ec37d1b-a6a9-4c88-96e5-359d45a49619",
   "metadata": {},
   "outputs": [
    {
     "name": "stdout",
     "output_type": "stream",
     "text": [
      "(len:1) (len:1) (len:1) (len:1) (len:1) (len:1) (len:1) (len:1)"
     ]
    }
   ],
   "source": [
    "type len : a b b ab ab ab a b"
   ]
  },
  {
   "cell_type": "code",
   "execution_count": 3,
   "id": "e6c0d47f-a219-4e40-b261-69743ae314a5",
   "metadata": {},
   "outputs": [
    {
     "name": "stdout",
     "output_type": "stream",
     "text": [
      "(len:3)"
     ]
    }
   ],
   "source": [
    "sum len : type len : a b a "
   ]
  },
  {
   "cell_type": "code",
   "execution_count": 4,
   "id": "23c75e4c-63af-4c73-bff8-8062643b2e13",
   "metadata": {},
   "outputs": [
    {
     "name": "stdout",
     "output_type": "stream",
     "text": [
      "(len:2)"
     ]
    }
   ],
   "source": [
    "sum len : type len : hello world"
   ]
  },
  {
   "cell_type": "code",
   "execution_count": 5,
   "id": "9f0a0d46-32a2-4f0b-a14e-58614464896d",
   "metadata": {},
   "outputs": [
    {
     "name": "stdout",
     "output_type": "stream",
     "text": [
      "(len:10)"
     ]
    }
   ],
   "source": [
    "sum len : type len : get 1? : hello world"
   ]
  },
  {
   "cell_type": "markdown",
   "id": "bf7edebf-d863-4bad-b93f-7364c9a6ca49",
   "metadata": {},
   "source": [
    "## Number of characters is a space too"
   ]
  },
  {
   "cell_type": "code",
   "execution_count": 9,
   "id": "6c259e74-99f6-44e0-89c9-d51d5d125527",
   "metadata": {},
   "outputs": [
    {
     "name": "stdout",
     "output_type": "stream",
     "text": []
    }
   ],
   "source": [
    "#\n",
    "#   nchar is a space too\n",
    "#\n",
    "def nchar:\n",
    "let type nchar : {some (has nchar:B) : ap {put nchar : count : get 1?:B} : B} \n",
    "let sum  nchar : {put nchar : aps int_add : pre 0 : get nchar : B} \n",
    "let term nchar : {get nchar:B} "
   ]
  },
  {
   "cell_type": "code",
   "execution_count": 13,
   "id": "bf63455b-6b63-4276-8692-6f7db7fabcb6",
   "metadata": {},
   "outputs": [
    {
     "name": "stdout",
     "output_type": "stream",
     "text": [
      "(nchar:1) (nchar:1) (nchar:0) (nchar:0) (nchar:0) (nchar:1) (nchar:5) (nchar:2) (nchar:2) (nchar:1) (nchar:1)"
     ]
    }
   ],
   "source": [
    "type nchar :  a b (:) (:) (:) b abssg ab ab a b"
   ]
  },
  {
   "cell_type": "code",
   "execution_count": 14,
   "id": "43bc584f-5805-4a87-b8b9-62538e810743",
   "metadata": {},
   "outputs": [
    {
     "name": "stdout",
     "output_type": "stream",
     "text": [
      "(nchar:14)"
     ]
    }
   ],
   "source": [
    "sum nchar : type nchar : a b (:) (:) (:) b abssg ab ab a b"
   ]
  },
  {
   "cell_type": "code",
   "execution_count": 11,
   "id": "88c717d9-6531-4f83-9316-771d0f2aec70",
   "metadata": {},
   "outputs": [
    {
     "name": "stdout",
     "output_type": "stream",
     "text": [
      "(nchar:0)"
     ]
    }
   ],
   "source": [
    "sum nchar : type nchar : "
   ]
  },
  {
   "cell_type": "markdown",
   "id": "51d082de-d1af-46db-99b4-18a5d981bafe",
   "metadata": {},
   "source": [
    "## bool\n",
    "\n",
    "bool is idempotent and distributive and is therefore a space as well. "
   ]
  },
  {
   "cell_type": "code",
   "execution_count": 1,
   "id": "71fc2d79-19ec-4d4d-b833-96cad964c817",
   "metadata": {},
   "outputs": [
    {
     "name": "stdout",
     "output_type": "stream",
     "text": [
      "◎"
     ]
    }
   ],
   "source": [
    "bool : a b c "
   ]
  },
  {
   "cell_type": "code",
   "execution_count": 2,
   "id": "f7510be9-add7-4a4c-8312-058755d58443",
   "metadata": {},
   "outputs": [
    {
     "name": "stdout",
     "output_type": "stream",
     "text": [
      "◎"
     ]
    }
   ],
   "source": [
    "bool : (bool:a b) c "
   ]
  },
  {
   "cell_type": "code",
   "execution_count": null,
   "id": "b28b8339-036f-4023-9beb-04e35080b5ed",
   "metadata": {},
   "outputs": [],
   "source": []
  }
 ],
 "metadata": {
  "kernelspec": {
   "display_name": "coda",
   "language": "",
   "name": "coda"
  },
  "language_info": {
   "file_extension": ".co",
   "mimetype": "text/plain",
   "name": "Any text"
  }
 },
 "nbformat": 4,
 "nbformat_minor": 5
}
