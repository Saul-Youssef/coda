{
 "cells": [
  {
   "cell_type": "markdown",
   "id": "9ca75758-a242-41db-8b2f-2c0b03771cd8",
   "metadata": {},
   "source": [
    "## Algebraic properties: Which operators are nullpotent and idempotent?\n",
    "\n",
    "* Data A is **idempotent** if A:A:X is equal to A:X for all data X. \n",
    "* Data A is **nullpotent** if A:X is equal to () for all data X. "
   ]
  },
  {
   "cell_type": "code",
   "execution_count": 1,
   "id": "06f50b88-b854-43a9-a074-bd7d96ece516",
   "metadata": {
    "tags": []
   },
   "outputs": [
    {
     "name": "stdout",
     "output_type": "stream",
     "text": []
    }
   ],
   "source": [
    "#\n",
    "#   Prepare some samples for testing purposes \n",
    "#   \n",
    "#   S1: hydrogen atoms\n",
    "#   S2: more general atoms mix \n",
    "#   S3: pure data mix\n",
    "#   S4: mix with operators and language.\n",
    "#\n",
    "Let S1 : sample.atom : 5\n",
    "Let S2 : permutation 3 : a b 0 1 \n",
    "Let S3 : sample.pure : 2 2 \n",
    "Let S4 : sample.data <A> <B> <{$}> 0 1 a b (defs:Basic) : 2 2 \n",
    "#\n",
    "#   idempotent A : B is true if A is idempotent for B as a test case \n",
    "#\n",
    "Def idempotent : {(A:A:B)=(A:B)}\n",
    "#\n",
    "#   Idempotent A : (:B1) (:B2)... is true if A is idempotent for all test cases B1, B2,...\n",
    "#\n",
    "Def Idempotent : count * (ap {idempotent A : get : B})  "
   ]
  },
  {
   "cell_type": "code",
   "execution_count": 2,
   "id": "72fc165b-4a0e-45ab-9476-65a14b200572",
   "metadata": {},
   "outputs": [
    {
     "name": "stdout",
     "output_type": "stream",
     "text": [
      "(with pass:0)\n",
      "(with null:0)\n",
      "(with first:0)\n",
      "(with bin:11)\n",
      "(with rev:2)"
     ]
    }
   ],
   "source": [
    "#\n",
    "#    Let's try a few tests\n",
    "#\n",
    "put with pass  : count : idempotent pass : 1 2 3\n",
    "put with null  : count : idempotent null : 1 2 3 \n",
    "put with first : count : idempotent first : 1 2 3 \n",
    "put with bin   : count : idempotent bin : 1 2 3 \n",
    "put with rev   : count : idempotent rev : 1 2 3 "
   ]
  },
  {
   "cell_type": "code",
   "execution_count": 3,
   "id": "37fa42bd-69c3-46a3-924c-0000f38d6c1c",
   "metadata": {},
   "outputs": [
    {
     "name": "stdout",
     "output_type": "stream",
     "text": [
      "(with pass:0)\n",
      "(with null:0)\n",
      "(with first:0)\n",
      "(with bin:11)\n",
      "(with rev:2)"
     ]
    }
   ],
   "source": [
    "#\n",
    "#   To check, let's compute the same thing with idempotent and Idempotent \n",
    "#\n",
    "put with pass  : Idempotent pass  : (:1 2 3)\n",
    "put with null  : Idempotent null  : (:1 2 3)\n",
    "put with first : Idempotent first : (:1 2 3)\n",
    "put with bin   : Idempotent bin   : (:1 2 3)\n",
    "put with rev   : Idempotent rev   : (:1 2 3)"
   ]
  },
  {
   "cell_type": "code",
   "execution_count": 4,
   "id": "3958aa4f-d59c-418f-8106-063c977b0d9b",
   "metadata": {},
   "outputs": [
    {
     "name": "stdout",
     "output_type": "stream",
     "text": [
      "(with pass:0)\n",
      "(with first:0)\n",
      "(with bin:716)\n",
      "(with rev:(count rev:◎ ◎ ◎ ◎ ◎ ◎ ◎ ◎ ◎ ◎ ◎ ◎ ◎ ◎ ◎ ◎ ◎ ◎ ◎ ◎ ◎ ◎ ◎ ◎ ◎ ◎ ◎ ◎ ◎ ◎ ◎ ◎ ◎ ◎ ◎ ◎ ◎ ◎ ◎ ◎ ◎ ◎ ◎ ◎ ◎ ◎ ◎ ◎ ◎ ◎ ◎ ◎ ◎ ◎ ◎ ◎ ◎ ◎ ◎ ◎ ◎ ◎ ◎ ◎ ◎ ◎ ◎ ◎ ◎ ◎ ◎ ◎ ◎ ◎ ◎ ◎ ◎ ◎ ◎ ◎ ◎ ◎ ◎ ◎ ◎ ◎ ◎ ◎ ◎ ◎ ◎ ◎ ◎ ◎ ◎ ◎ ◎ ◎ ◎ ◎ ◎ ◎ ◎ ◎ ◎ ◎ ◎ ◎ ◎ ◎ ◎ ◎ ◎ ◎ ◎ ◎ ◎ ◎ ◎ ◎ ◎ ◎ ◎ ◎ ◎ ◎ ◎ ◎ ◎ ◎ ◎ ◎ ◎ ◎ ◎ ◎ ◎ ◎ ◎ ◎ ◎ ◎ ◎ ◎ ◎ ◎ ◎ ◎ ◎ ◎ ◎ ◎ ◎ ◎ ◎ ◎ ◎ ◎ ◎ ◎ ◎ ◎ ◎ ◎ ◎ ◎ ◎ ◎ ◎ ◎ ◎ ◎ ◎ ◎ ◎ ◎ ◎ ◎ ◎ ◎ ◎ ◎ ◎ ◎ ◎ ◎ ◎ ◎ ◎ ◎ ◎ ◎ ◎ ◎ ◎ ◎ ◎ ◎ ◎ ◎ ◎ ◎ ◎ ◎ ◎ ◎ ◎ ◎ ◎ ◎ ◎ ◎ ◎ ◎ ◎ ◎ ◎ ◎ ◎ ◎ ◎ ◎ ◎ ◎ ◎ ◎ ◎ ◎ ◎ ◎ ◎ ◎ ◎ ◎ ◎ ◎ (= ◎:◎) (= ◎:) (= ◎:◎) (=:◎) (= ◎:◎) (= ◎:) (= 𝟬:𝟬) (= 𝟬:𝝞)))"
     ]
    }
   ],
   "source": [
    "#\n",
    "#   Check pass, first, ,bin, rev against the whole sample: S1? S2?  \n",
    "#\n",
    "put with pass : Idempotent pass : S1? S2? \n",
    "put with first: Idempotent first : S1? S2?\n",
    "put with bin  : Idempotent bin : S1? S2? \n",
    "put with rev : Idempotent rev : S1? S2? "
   ]
  },
  {
   "cell_type": "code",
   "execution_count": 5,
   "id": "3688bada-1142-4100-bffc-d6d4882eb44b",
   "metadata": {},
   "outputs": [
    {
     "name": "stdout",
     "output_type": "stream",
     "text": []
    }
   ],
   "source": [
    "#\n",
    "#    Now we can set up IDEM to set things up for testing multiple \n",
    "#\n",
    "Def IDEM12 : {eval A : with B : Idempotent B : S1? S2?} "
   ]
  },
  {
   "cell_type": "code",
   "execution_count": null,
   "id": "46516b68-352f-4fb6-a33c-d4a3cef30e92",
   "metadata": {},
   "outputs": [],
   "source": [
    "ap IDEM12 1000 : pass first bin rev {first 3:B} "
   ]
  },
  {
   "cell_type": "code",
   "execution_count": 7,
   "id": "e8e471fd-80e5-4f5a-b558-4faffed27bce",
   "metadata": {},
   "outputs": [
    {
     "name": "stdout",
     "output_type": "stream",
     "text": [
      "[ 0] ({multi : ap IDEM12 100 : pass first bin rev {first 3:B}}:)\n",
      "[ 1] (({multi}:):({ ap IDEM12 100 : pass first bin rev {first 3:B}}:))\n",
      "[ 2] (multi:({ap IDEM12 100 : pass first bin rev {first 3:B}}:))\n",
      "[ 3] (multi:(({ap IDEM12 100}:):({ pass first bin rev {first 3:B}}:)))\n",
      "[ 4] (multi:(ap ({IDEM12}:) ({100}:):({ pass first bin rev {first 3:B}}:)))\n",
      "[ 5] (multi:(ap IDEM12 100:({pass}:)) (ap IDEM12 100:({first bin rev {first 3:B}}:)))\n",
      "[ 6] (multi:({eval A : with B : Idempotent B : S1? S2?} 100:pass) (IDEM12 100:first) (ap IDEM12 100:({bin}:)) (ap IDEM12 100:({rev {first 3:B}}:)))\n",
      "[ 7] (multi:(({eval A} 100:pass):({ with B : Idempotent B : S1? S2?} 100:pass)) (({eval A } 100:first):({ with B : Idempotent B : S1? S2?} 100:first)) ({eval A : with B : Idempotent B : S1? S2?} 100:bin) (IDEM12 100:rev) (IDEM12 100:{first 3:B}))\n",
      "[ 8] (multi:(eval 100:({ with B : Idempotent B : S1? S2?} 100:pass)) (({eval} 100:first) ({A} 100:first):({ with B : Idempotent B : S1? S2?} 100:first)) (({eval A} 100:bin):({ with B : Idempotent B : S1? S2?} 100:bin)) (({eval A } 100:rev):({ with B : Idempotent B : S1? S2?} 100:rev)) (({eval A } 100:{first 3:B}):({ with B : Idempotent B : S1? S2?} 100:{first 3:B})))\n",
      "[ 9] (multi:(ap eval1 100:(({with B } 100:pass):({ Idempotent B : S1? S2?} 100:pass))) (ap eval1 100:) (ap eval1 100:({with B : Idempotent B : S1? S2?} 100:first)) (eval 100:({ with B : Idempotent B : S1? S2?} 100:bin)) (({eval} 100:rev) ({A} 100:rev):({ with B : Idempotent B : S1? S2?} 100:rev)) (({eval} 100:{first 3:B}) ({A} 100:{first 3:B}):({ with B : Idempotent B : S1? S2?} 100:{first 3:B})))\n",
      "[10] (multi:(ap eval1 100:(({with} 100:pass) ({B} 100:pass):({ Idempotent B : S1? S2?} 100:pass))) (ap eval1 100:) (ap eval1 100:(({with B} 100:first):({ Idempotent B : S1? S2?} 100:first))) (ap eval1 100:) (ap eval1 100:(({with B } 100:bin):({ Idempotent B : S1? S2?} 100:bin))) (ap eval1 100:) (ap eval1 100:({with B : Idempotent B : S1? S2?} 100:rev)) (ap eval1 100:({with B : Idempotent B : S1? S2?} 100:{first 3:B})))"
     ]
    }
   ],
   "source": [
    "step 10 : multi : ap IDEM12 100 : pass first bin rev {first 3:B}"
   ]
  },
  {
   "cell_type": "code",
   "execution_count": 9,
   "id": "3c08adfa-5e6e-4681-b055-eef4fce5a688",
   "metadata": {},
   "outputs": [
    {
     "name": "stdout",
     "output_type": "stream",
     "text": [
      "(with:c b a)"
     ]
    }
   ],
   "source": []
  },
  {
   "cell_type": "code",
   "execution_count": null,
   "id": "57febb30-ad5c-4325-966e-0711d44db211",
   "metadata": {},
   "outputs": [],
   "source": [
    "multi : ap IDEM12 1000 : defs : Sequence "
   ]
  },
  {
   "cell_type": "code",
   "execution_count": null,
   "id": "0e1dd94f-14ea-4343-851b-e66ab1e69615",
   "metadata": {},
   "outputs": [],
   "source": [
    "ap IDEM12 100 : defs : Number "
   ]
  },
  {
   "cell_type": "code",
   "execution_count": null,
   "id": "af2ecc83-ba0c-42d3-846f-7975e1b7dfff",
   "metadata": {},
   "outputs": [],
   "source": [
    "ap IDEM12 100 : defs : Basic "
   ]
  },
  {
   "cell_type": "code",
   "execution_count": null,
   "id": "f822055c-3f70-4727-8cc1-987db0c1f352",
   "metadata": {},
   "outputs": [],
   "source": [
    "ap IDEM12 100 : defs : Logic "
   ]
  },
  {
   "cell_type": "code",
   "execution_count": null,
   "id": "c4f633e0-092f-4a90-9c8c-18d62febd90c",
   "metadata": {},
   "outputs": [],
   "source": [
    "ap IDEM12 100 : defs : Text "
   ]
  },
  {
   "cell_type": "code",
   "execution_count": null,
   "id": "c8237e3a-1e98-4c2a-8b7d-47f3e5d2408b",
   "metadata": {},
   "outputs": [],
   "source": [
    "ap IDEM12 100 : defs : Collect "
   ]
  },
  {
   "cell_type": "code",
   "execution_count": null,
   "id": "c34fceb6-71cf-4c0f-81e9-ce3a23b22ecf",
   "metadata": {},
   "outputs": [],
   "source": [
    "ap IDEM12 100 : defs : Apply "
   ]
  },
  {
   "cell_type": "code",
   "execution_count": null,
   "id": "09f4647f-b387-4567-ab62-cdc25fa57b7b",
   "metadata": {},
   "outputs": [],
   "source": []
  }
 ],
 "metadata": {
  "kernelspec": {
   "display_name": "coda",
   "language": "",
   "name": "coda"
  },
  "language_info": {
   "file_extension": ".co",
   "mimetype": "text/plain",
   "name": "Any text"
  }
 },
 "nbformat": 4,
 "nbformat_minor": 5
}
