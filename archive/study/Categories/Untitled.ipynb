{
 "cells": [
  {
   "cell_type": "code",
   "execution_count": 1,
   "id": "9d2060f1-b31a-41ba-bfe0-e47ac4f776fc",
   "metadata": {},
   "outputs": [
    {
     "name": "stdout",
     "output_type": "stream",
     "text": []
    }
   ],
   "source": [
    "aps not : "
   ]
  },
  {
   "cell_type": "code",
   "execution_count": 2,
   "id": "37b7eca5-7c25-48d1-bd5b-e5a39a9573e0",
   "metadata": {},
   "outputs": [
    {
     "name": "stdout",
     "output_type": "stream",
     "text": [
      "x"
     ]
    }
   ],
   "source": [
    "aps not : x "
   ]
  },
  {
   "cell_type": "code",
   "execution_count": 3,
   "id": "beb0b2e3-3815-490f-bcd4-e2453e327d0e",
   "metadata": {},
   "outputs": [
    {
     "name": "stdout",
     "output_type": "stream",
     "text": []
    }
   ],
   "source": [
    "aps not : x y "
   ]
  },
  {
   "cell_type": "code",
   "execution_count": 4,
   "id": "72824239-5eda-4199-8370-e81e219889d8",
   "metadata": {},
   "outputs": [
    {
     "name": "stdout",
     "output_type": "stream",
     "text": [
      "◎"
     ]
    }
   ],
   "source": [
    "aps not : x y z "
   ]
  },
  {
   "cell_type": "code",
   "execution_count": 5,
   "id": "ff2d772d-3195-4669-be70-32107d6321f3",
   "metadata": {},
   "outputs": [
    {
     "name": "stdout",
     "output_type": "stream",
     "text": []
    }
   ],
   "source": [
    "aps not : x y z w "
   ]
  },
  {
   "cell_type": "code",
   "execution_count": 6,
   "id": "1a6808f7-26c2-4490-8da6-876ceb48f83d",
   "metadata": {},
   "outputs": [
    {
     "name": "stdout",
     "output_type": "stream",
     "text": []
    }
   ],
   "source": [
    "aps not : x x x x x x x x "
   ]
  },
  {
   "cell_type": "code",
   "execution_count": 7,
   "id": "065dd175-99ae-42c1-8488-89c8b9a72e38",
   "metadata": {},
   "outputs": [
    {
     "name": "stdout",
     "output_type": "stream",
     "text": [
      "◎"
     ]
    }
   ],
   "source": [
    "aps not : x x x x x x x x x "
   ]
  },
  {
   "cell_type": "code",
   "execution_count": 8,
   "id": "021d77a8-ef03-4b06-81a0-e33600a477a3",
   "metadata": {},
   "outputs": [
    {
     "name": "stdout",
     "output_type": "stream",
     "text": [
      "◎ ◎"
     ]
    }
   ],
   "source": [
    "aps not : 1 2 3 4 \n",
    "aps not : 1 2 3 4 5 \n",
    "aps not : 1 2 3 4 5 6 \n",
    "aps not : 1 2 3 4 5 6 7"
   ]
  },
  {
   "cell_type": "code",
   "execution_count": null,
   "id": "8f678e74-83d9-4c1f-8e9b-17102fe4a8aa",
   "metadata": {},
   "outputs": [],
   "source": []
  }
 ],
 "metadata": {
  "kernelspec": {
   "display_name": "coda",
   "language": "",
   "name": "coda"
  },
  "language_info": {
   "file_extension": ".co",
   "mimetype": "text/plain",
   "name": "Any text"
  }
 },
 "nbformat": 4,
 "nbformat_minor": 5
}
