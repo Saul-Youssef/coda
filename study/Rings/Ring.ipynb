{
 "cells": [
  {
   "cell_type": "code",
   "execution_count": 1,
   "id": "d90057cf-4b56-4304-9039-fe3ee427fcc5",
   "metadata": {},
   "outputs": [
    {
     "name": "stdout",
     "output_type": "stream",
     "text": []
    }
   ],
   "source": [
    "import : ."
   ]
  },
  {
   "cell_type": "code",
   "execution_count": 2,
   "id": "c47b203c-5ef9-446d-8bbe-01a242ec20fe",
   "metadata": {},
   "outputs": [
    {
     "name": "stdout",
     "output_type": "stream",
     "text": []
    }
   ],
   "source": [
    "def n: \n",
    "let type  n : {some (has n:B) : ap put n : ap nat1 : B }\n",
    "let sum   n : {ap put n : aps int_add : pre 0 : get n : B}\n",
    "let prod  n : {ap put n : aps int_mult: pre 1 : get n : B}\n",
    "let term  n : {get n:B}\n",
    "let inv   n : {ap put n : ap {int_diff B:0} : get n : rev : B}\n",
    "let invol n : {ap put n : ap {int_diff B:0} : get n : rev : B}\n",
    "let equiv n : {reduce id:B} "
   ]
  },
  {
   "cell_type": "code",
   "execution_count": 3,
   "id": "6f52bf6a-42df-4a48-9aad-0acb8b891faa",
   "metadata": {},
   "outputs": [
    {
     "name": "stdout",
     "output_type": "stream",
     "text": [
      "(n:-2) (n:-5)"
     ]
    }
   ],
   "source": [
    "invol n : type n : 5 2 "
   ]
  },
  {
   "cell_type": "code",
   "execution_count": 4,
   "id": "dbe90b4e-f7f7-4124-a00c-ad745fb75549",
   "metadata": {},
   "outputs": [
    {
     "name": "stdout",
     "output_type": "stream",
     "text": [
      "-45 -161 -6 -6 -1"
     ]
    }
   ],
   "source": [
    "term n : invol n : type n : 1  6 6 161 agag 45"
   ]
  },
  {
   "cell_type": "code",
   "execution_count": 5,
   "id": "563dccba-1e3f-4f5a-a71d-b96ad2950170",
   "metadata": {},
   "outputs": [
    {
     "name": "stdout",
     "output_type": "stream",
     "text": [
      "(n:2) (n:4) (n:6)"
     ]
    }
   ],
   "source": [
    "ap put n : ap int_mult 2 : get n : type n : 1 2 3 "
   ]
  },
  {
   "cell_type": "code",
   "execution_count": 6,
   "id": "9e7f94fc-0149-4e37-8e24-d7121853859a",
   "metadata": {},
   "outputs": [
    {
     "name": "stdout",
     "output_type": "stream",
     "text": []
    }
   ],
   "source": [
    "def f2 : {ap put n : ap int_mult 2 : get n : B}"
   ]
  },
  {
   "cell_type": "code",
   "execution_count": 7,
   "id": "7f99b2e2-a9f0-4bda-af34-8cdada665415",
   "metadata": {},
   "outputs": [
    {
     "name": "stdout",
     "output_type": "stream",
     "text": []
    }
   ],
   "source": [
    "def f3 : {ap put n : ap int_mult 3 : get n : B}"
   ]
  },
  {
   "cell_type": "code",
   "execution_count": 8,
   "id": "a0686f0a-afad-4e16-b420-d747a2d2d76a",
   "metadata": {},
   "outputs": [
    {
     "name": "stdout",
     "output_type": "stream",
     "text": []
    }
   ],
   "source": [
    "def vec:"
   ]
  },
  {
   "cell_type": "code",
   "execution_count": 9,
   "id": "30e66dc3-9567-4165-b279-c99b1decbf7b",
   "metadata": {},
   "outputs": [
    {
     "name": "stdout",
     "output_type": "stream",
     "text": [
      "(vec 1:(n:2) (n:4) (n:6)) (vec 2:(f4:(n:1) (n:2) (n:3)))"
     ]
    }
   ],
   "source": [
    "app {put vec 1 :f2:B} {put vec 2:f4:B} : type n : 1 2 3 "
   ]
  },
  {
   "cell_type": "code",
   "execution_count": 10,
   "id": "bafd971a-ab97-48b9-872c-734113b77f24",
   "metadata": {},
   "outputs": [
    {
     "name": "stdout",
     "output_type": "stream",
     "text": [
      "(vec n:(n:2) (f4:(n:1))) (vec n:(n:4) (f4:(n:2)))"
     ]
    }
   ],
   "source": [
    "ap {put vec n : app f2 f4 :B}  : type n : 1 2"
   ]
  },
  {
   "cell_type": "code",
   "execution_count": 11,
   "id": "1a01250f-69da-47d9-bb7d-e0832e6c0a7a",
   "metadata": {},
   "outputs": [
    {
     "name": "stdout",
     "output_type": "stream",
     "text": [
      "(vec n:(n:2) (n:3)) (vec n:(n:4) (n:6))"
     ]
    }
   ],
   "source": [
    "ap {put vec (first:A) : app (tail:A):B} n f2 f3 : type n : 1 2 "
   ]
  },
  {
   "cell_type": "code",
   "execution_count": 12,
   "id": "01053dfe-c4e0-4ab4-b23f-7a058778f504",
   "metadata": {},
   "outputs": [
    {
     "name": "stdout",
     "output_type": "stream",
     "text": []
    }
   ],
   "source": [
    "def product : {ap {put vec (first:A): app (tail:A):B} A : B} "
   ]
  },
  {
   "cell_type": "code",
   "execution_count": 13,
   "id": "45c9c3d8-a3e9-4469-8c7e-ffb58f7e8d45",
   "metadata": {},
   "outputs": [
    {
     "name": "stdout",
     "output_type": "stream",
     "text": [
      "(vec n:(n:2) (f4:(n:1))) (vec n:(n:4) (f4:(n:2)))"
     ]
    }
   ],
   "source": [
    "product n f2 f4 : type n : 1 2 "
   ]
  },
  {
   "cell_type": "code",
   "execution_count": 14,
   "id": "6bfb2641-7b0f-43aa-ba76-4f7345f17a76",
   "metadata": {},
   "outputs": [
    {
     "name": "stdout",
     "output_type": "stream",
     "text": []
    }
   ],
   "source": [
    "def product1: {nth (tail:A) : sel vec (first:A) : B}\n",
    "def product-: {ap product1 A : B} "
   ]
  },
  {
   "cell_type": "code",
   "execution_count": 15,
   "id": "2f2e4dee-8273-4dd3-ae2d-d2a8707d294b",
   "metadata": {},
   "outputs": [
    {
     "name": "stdout",
     "output_type": "stream",
     "text": [
      "(vec n:(n:2) (n:3)) (vec n:(n:4) (n:6))"
     ]
    }
   ],
   "source": [
    "product n f2 f3 : type n : 1 2 "
   ]
  },
  {
   "cell_type": "code",
   "execution_count": 16,
   "id": "67ed33ad-d9ac-4ca4-8b1b-377120c63084",
   "metadata": {},
   "outputs": [
    {
     "name": "stdout",
     "output_type": "stream",
     "text": [
      "ap {nth 1 : sel vec n:B : product n f2 f4 : type n : 1 2 3 4"
     ]
    }
   ],
   "source": [
    "ap {nth 1 : sel vec n:B : product n f2 f4 : type n : 1 2 3 4 "
   ]
  },
  {
   "cell_type": "code",
   "execution_count": 17,
   "id": "2c91d899-886d-4c3a-9c34-971dc6c9195f",
   "metadata": {},
   "outputs": [
    {
     "name": "stdout",
     "output_type": "stream",
     "text": [
      "(n:2) (n:4)"
     ]
    }
   ],
   "source": [
    "product- n 1 : product n f2 f3 : type n : 1 2"
   ]
  },
  {
   "cell_type": "raw",
   "id": "24bdf1e4-ea47-4d60-b8f9-5d525cee9398",
   "metadata": {},
   "source": []
  }
 ],
 "metadata": {
  "kernelspec": {
   "display_name": "coda",
   "language": "",
   "name": "coda"
  },
  "language_info": {
   "file_extension": ".co",
   "mimetype": "text/plain",
   "name": "Any text"
  }
 },
 "nbformat": 4,
 "nbformat_minor": 5
}
