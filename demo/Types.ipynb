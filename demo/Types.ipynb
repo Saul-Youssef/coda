{
 "cells": [
  {
   "cell_type": "markdown",
   "id": "09feecc5-037d-4ad7-811d-902babb9be95",
   "metadata": {},
   "source": [
    "Data T is a *type* if T is idempotent and distributive."
   ]
  },
  {
   "cell_type": "code",
   "execution_count": 1,
   "id": "5f9b8a81-c148-4cec-9ba8-b590f3629f82",
   "metadata": {},
   "outputs": [
    {
     "name": "stdout",
     "output_type": "stream",
     "text": [
      "|"
     ]
    }
   ],
   "source": [
    "(make n : make n : 1 2 3) = (make n : 1 2 3 4)"
   ]
  },
  {
   "cell_type": "code",
   "execution_count": 2,
   "id": "4034819f-c008-40ab-a480-574b4b6d11bf",
   "metadata": {},
   "outputs": [
    {
     "name": "stdout",
     "output_type": "stream",
     "text": [
      "(n:1) (n:2) (n:3)"
     ]
    }
   ],
   "source": [
    "make n : 1 2 3 "
   ]
  },
  {
   "cell_type": "code",
   "execution_count": 3,
   "id": "37cc8fc1-143f-4105-88be-755f2e06fb12",
   "metadata": {},
   "outputs": [
    {
     "name": "stdout",
     "output_type": "stream",
     "text": [
      "(n:1) (n:2) (n:3) (n:4)"
     ]
    }
   ],
   "source": [
    "make n : 1 2 3 4 "
   ]
  },
  {
   "cell_type": "code",
   "execution_count": 4,
   "id": "b671f29d-c1b7-4c0c-8eeb-35dadc7773c3",
   "metadata": {},
   "outputs": [
    {
     "name": "stdout",
     "output_type": "stream",
     "text": [
      "| |"
     ]
    }
   ],
   "source": [
    "(n:1)=(n:2)"
   ]
  },
  {
   "cell_type": "code",
   "execution_count": 5,
   "id": "716d52e6-91a9-4983-b958-ffdf68e308d4",
   "metadata": {},
   "outputs": [
    {
     "name": "stdout",
     "output_type": "stream",
     "text": [
      "| | |"
     ]
    }
   ],
   "source": [
    "(make n : 1 2 3) = (make n : 999)"
   ]
  },
  {
   "cell_type": "code",
   "execution_count": 7,
   "id": "2bf1fcd8-40b1-4f8d-917d-eb5e8d3698fa",
   "metadata": {},
   "outputs": [
    {
     "name": "stdout",
     "output_type": "stream",
     "text": [
      "| |"
     ]
    }
   ],
   "source": [
    "(make n:1)=(make n:2)"
   ]
  },
  {
   "cell_type": "code",
   "execution_count": null,
   "id": "f4533f78-1edd-430d-ac10-572ae47209c1",
   "metadata": {},
   "outputs": [],
   "source": []
  }
 ],
 "metadata": {
  "kernelspec": {
   "display_name": "coda",
   "language": "",
   "name": "coda"
  },
  "language_info": {
   "file_extension": ".co",
   "mimetype": "text/plain",
   "name": "Any text"
  }
 },
 "nbformat": 4,
 "nbformat_minor": 5
}
