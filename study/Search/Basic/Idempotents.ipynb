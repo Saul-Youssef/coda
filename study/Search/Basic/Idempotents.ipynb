{
 "cells": [
  {
   "cell_type": "markdown",
   "id": "0b5a6908-b394-4b22-bbe7-ea8900436f89",
   "metadata": {},
   "source": [
    "### Search for Idempotents\n",
    "\n",
    "This is a preliminary for searching for types.  Idempotent data is data D that satisfies D:X = D:D:X for all X.  If data is both idempotent and distributive, it is called a **type**.  Intuitively, if data `T` is a type, `T:X` is a property of `X`."
   ]
  },
  {
   "cell_type": "code",
   "execution_count": 62,
   "id": "b38d1874-9e2e-4942-a6dc-10ce8abb2ea5",
   "metadata": {
    "tags": []
   },
   "outputs": [
    {
     "name": "stdout",
     "output_type": "stream",
     "text": [
      "131\n"
     ]
    }
   ],
   "source": [
    "#\n",
    "#   Standard setup and some generic search parameters \n",
    "#\n",
    "from base import *; import __init__\n",
    "import Search,Evaluate,Logic,Substitute\n",
    "\n",
    "Evaluate.generic(data(colon(data(b'{coda:homecontext:}'),data())),1000)\n",
    "\n",
    "lengths = [(0,1.),(1,1.),(2,0.2),(3,0.1),(4,0.1)]\n",
    "codes = [(b'x',1.),(b'y',1.),(b'0',1.),(b'1.1',1.),(b'2',1.)]\n",
    "flags = []\n",
    "for flag,defs in DEF.defs():\n",
    "    if not flag in Search.EXCLUDED: flags.append((flag,1.0))\n",
    "print(len(flags))\n",
    "S  = Search.DataSearch(lengths,codes,flags,5)\n",
    "IS = Search.DataSearch(lengths,codes,flags,2)  # idempotent search is shallower "
   ]
  },
  {
   "cell_type": "code",
   "execution_count": 2,
   "id": "f61af253-af17-4bd1-9696-a07f431e7e19",
   "metadata": {},
   "outputs": [
    {
     "data": {
      "text/plain": []
     },
     "execution_count": 2,
     "metadata": {},
     "output_type": "execute_result"
    }
   ],
   "source": [
    "#\n",
    "#    Repeatedly execute this cell to see samples\n",
    "#\n",
    "D = IS.sample(); D"
   ]
  },
  {
   "cell_type": "markdown",
   "id": "940e707b-e26c-43c2-8a40-70c15eb6874a",
   "metadata": {},
   "source": [
    "`Idempotent:T?` is data which is never false if `T?` is idempotent.  This means that `Idempotent:T?` is never false for any data `X?`.  `T?` and `X?` is language shorthand for `(?:T)` and `(?:X)` respectively. These are undecided colons and function as variables."
   ]
  },
  {
   "cell_type": "code",
   "execution_count": 3,
   "id": "b451314b-a1d7-4445-b629-273ac29bdd86",
   "metadata": {},
   "outputs": [
    {
     "data": {
      "text/plain": [
       "(= ((?:T):((?:T):(?:X))):((?:T):(?:X)))"
      ]
     },
     "execution_count": 3,
     "metadata": {},
     "output_type": "execute_result"
    }
   ],
   "source": [
    "Idempotent = Evaluate.code2data('Idempotent:T?',100)\n",
    "Idempotent"
   ]
  },
  {
   "cell_type": "code",
   "execution_count": 4,
   "id": "c20c875c-2293-42ac-b367-12be5335a24d",
   "metadata": {
    "tags": []
   },
   "outputs": [
    {
     "name": "stdout",
     "output_type": "stream",
     "text": [
      "===> 1 e \n"
     ]
    }
   ],
   "source": [
    "#\n",
    "#   Repeat this cell to do repeated single searches for a T? such that with (X?=0) : Idempotent : T? is empty.\n",
    "#\n",
    "DEF.close()\n",
    "T = IS.sample()\n",
    "X = S.sample()\n",
    "Sub = Substitute.Substitute()\n",
    "Sub.var('T',T); Sub.var('X',X)\n",
    "D = Sub(Idempotent)\n",
    "D,n = Evaluate.depth(D,50) \n",
    "print('===>',50-n,Logic.zen(D),D)"
   ]
  },
  {
   "cell_type": "code",
   "execution_count": 5,
   "id": "71499e63-9036-4e58-a2c5-57d76efb9a41",
   "metadata": {
    "tags": []
   },
   "outputs": [
    {
     "name": "stdout",
     "output_type": "stream",
     "text": [
      "Number of idempotent candidates: 193\n"
     ]
    }
   ],
   "source": [
    "def pr(a):\n",
    "    x = str(a)\n",
    "    while len(x)<3: x=' '+x\n",
    "    return x\n",
    "#\n",
    "#  Search for idempotents.  NIDEM potential idempotents are gotten by sampling IS.  \n",
    "#  To test if T from IS is idempotent, X is substituted into Idempotent:T to \n",
    "#  see if it is empty at DEPTH_SEARCH level of generic evaluation.  If this \n",
    "#\n",
    "NIDEM = 50000\n",
    "NTRY = 20\n",
    "DEPTH_IDEMPOTENT = 30\n",
    "DEPTH_SEARCH = 20\n",
    "N = 0\n",
    "Candidates = []\n",
    "stat = {'a':0,'e':0,'u':0} \n",
    "for i in range(NIDEM):\n",
    "    T = IS.sample()\n",
    "    T = Evaluate.generic(T,DEPTH_IDEMPOTENT)\n",
    "    if not T.empty():\n",
    "        N += 1 \n",
    "        for j in range(NTRY):\n",
    "            X = S.sample()\n",
    "            Sub = Substitute.Substitute()\n",
    "            Sub = Sub.var('T',T).var('X',X)\n",
    "            D = Sub(Idempotent)\n",
    "            D,n = Evaluate.depth(D,DEPTH_SEARCH)\n",
    "            z = Logic.zen(D)\n",
    "            if z in ['a','u']: break \n",
    "        stat[z] += 1 \n",
    "        if 100*(N//1000)==N: print(N,stat)\n",
    "        if z=='e': \n",
    "#            print(pr(N),pr(len(T)),pr(DEPTH_SEARCH-n),z,T)\n",
    "            Candidates.append(T)\n",
    "print('Number of idempotent candidates:',len(Candidates))"
   ]
  },
  {
   "cell_type": "code",
   "execution_count": 6,
   "id": "43e8411b-cd73-45d8-9be9-fc850d8f8152",
   "metadata": {
    "tags": []
   },
   "outputs": [
    {
     "data": {
      "text/plain": [
       "0.00386"
      ]
     },
     "execution_count": 6,
     "metadata": {},
     "output_type": "execute_result"
    }
   ],
   "source": [
    "193/50000"
   ]
  },
  {
   "cell_type": "code",
   "execution_count": 7,
   "id": "9d8c1386-b54c-4363-865e-0d585162fef5",
   "metadata": {
    "collapsed": true,
    "jupyter": {
     "outputs_hidden": true
    },
    "tags": []
   },
   "outputs": [
    {
     "name": "stdout",
     "output_type": "stream",
     "text": [
      "Got one\n",
      "Got one\n",
      "Got one\n",
      "Got one\n",
      "Got one\n",
      "Got one\n",
      "Got one\n",
      "Got one\n",
      "Got one\n",
      "Got one\n",
      "Got one\n",
      "Got one\n",
      "Got one\n",
      "Got one\n",
      "Got one\n",
      "Got one\n",
      "Got one\n",
      "Got one\n",
      "Got one\n",
      "Got one\n",
      "Got one\n",
      "Got one\n",
      "Got one\n",
      "Got one\n",
      "Got one\n",
      "Got one\n",
      "Got one\n",
      "Got one\n",
      "Got one\n",
      "Got one\n",
      "Got one\n",
      "Got one\n",
      "Got one\n",
      "Got one\n",
      "Got one\n",
      "Got one\n",
      "Got one\n",
      "Got one\n",
      "Got one\n",
      "Got one\n",
      "Got one\n",
      "Got one\n",
      "Got one\n",
      "Got one\n",
      "Got one\n",
      "Got one\n",
      "Got one\n",
      "Got one\n",
      "Got one\n",
      "Got one\n",
      "Got one\n",
      "Got one\n",
      "Got one\n",
      "Got one\n",
      "Got one\n",
      "Got one\n",
      "Got one\n",
      "Got one\n",
      "Got one\n",
      "Got one\n",
      "Got one\n",
      "Got one\n",
      "Got one\n",
      "Got one\n",
      "Got one\n",
      "Got one\n",
      "Got one\n",
      "Got one\n",
      "Got one\n",
      "Got one\n",
      "Got one\n",
      "Got one\n",
      "Got one\n",
      "Got one\n",
      "Got one\n",
      "Got one\n",
      "Got one\n",
      "Got one\n",
      "Got one\n",
      "Got one\n",
      "Got one\n",
      "Got one\n",
      "Got one\n",
      "Got one\n",
      "Got one\n",
      "Got one\n",
      "Got one\n",
      "Got one\n",
      "Got one\n",
      "Got one\n",
      "Got one\n",
      "Got one\n",
      "Got one\n",
      "Got one\n",
      "Got one\n",
      "Got one\n",
      "Got one\n",
      "Got one\n",
      "Got one\n",
      "Got one\n",
      "Got one\n",
      "Got one\n",
      "Got one\n",
      "Got one\n",
      "Got one\n",
      "Got one\n",
      "Got one\n",
      "Got one\n",
      "Got one\n",
      "Got one\n",
      "Got one\n",
      "Got one\n",
      "Got one\n",
      "Got one\n",
      "Got one\n",
      "Got one\n",
      "Got one\n",
      "Got one\n",
      "Got one\n",
      "Got one\n",
      "Got one\n",
      "Got one\n",
      "Got one\n",
      "Got one\n",
      "Got one\n",
      "Got one\n",
      "Got one\n",
      "Got one\n",
      "Got one\n",
      "Got one\n",
      "Got one\n",
      "Got one\n",
      "Got one\n",
      "Got one\n",
      "Got one\n",
      "Got one\n",
      "Got one\n",
      "Got one\n",
      "Got one\n",
      "Got one\n",
      "Got one\n",
      "Got one\n",
      "Got one\n",
      "Got one\n",
      "Got one\n",
      "Got one\n",
      "Got one\n",
      "Got one\n",
      "Got one\n",
      "Got one\n",
      "Got one\n",
      "Got one\n",
      "Got one\n",
      "Got one\n",
      "Got one\n",
      "Got one\n",
      "Got one\n",
      "Got one\n",
      "Got one\n",
      "Got one\n",
      "Got one\n",
      "Got one\n",
      "Got one\n",
      "Got one\n",
      "Got one\n",
      "Got one\n",
      "Got one\n",
      "Got one\n",
      "Got one\n",
      "Got one\n",
      "Got one\n",
      "Got one\n",
      "Got one\n",
      "Got one\n",
      "Got one\n",
      "Got one\n",
      "Got one\n",
      "Got one\n",
      "Got one\n",
      "Got one\n",
      "Got one\n",
      "Got one\n",
      "Got one\n",
      "Got one\n",
      "Got one\n",
      "Got one\n",
      "Got one\n",
      "Got one\n",
      "Got one\n",
      "Got one\n",
      "Got one\n",
      "Got one\n",
      "Got one\n"
     ]
    }
   ],
   "source": [
    "Candidates2 = []; NTRY2 = 1000; DEPTH2 = 100\n",
    "for candidate in Candidates:\n",
    "    z = ''\n",
    "    for i in range(NTRY2):\n",
    "        X = S.sample()\n",
    "        Sub = Substitute.Substitute().var('T',candidate).var('X',X)\n",
    "        D = Sub(Idempotent)\n",
    "        D,n = Evaluate.depth(D,DEPTH2)\n",
    "        z = Logic.zen(D)\n",
    "        if z in ['a','u']: break \n",
    "    if z=='e': Candidates2.append(candidate); print('Got one')\n"
   ]
  },
  {
   "cell_type": "code",
   "execution_count": 8,
   "id": "584b965a-d7be-4709-808a-e82f6168d735",
   "metadata": {},
   "outputs": [
    {
     "data": {
      "text/plain": [
       "193"
      ]
     },
     "execution_count": 8,
     "metadata": {},
     "output_type": "execute_result"
    }
   ],
   "source": [
    "len(Candidates2)"
   ]
  },
  {
   "cell_type": "code",
   "execution_count": 9,
   "id": "115c5b80-0b73-4a4e-9200-fcbf262d8cbb",
   "metadata": {
    "collapsed": true,
    "jupyter": {
     "outputs_hidden": true
    },
    "tags": []
   },
   "outputs": [
    {
     "name": "stdout",
     "output_type": "stream",
     "text": [
      "(ap put n:(app int:(ap get1 ({   A} n:(({ap sel1 A } (({pf:):({A} n:)):):({ B} (({pf:):({A} n:)):))):(({ap sel1 A } (({pf:):({A} n:)):):({ B} (({pf:):({A} n:)):)))))\n",
      "(if (= (n:2):(ap put (({postfix :n):({ B}:n)):(app int:({ap get1        A : B} ({pf:1):(({A} n:1):({B} n:1)))))):2)\n",
      "(ap put n:(app int:(ap get1 ({   A} n:(({ap sel1 A } (({pf:):({A} n:)):):({ B} (({pf:):({A} n:)):))):(({ap sel1 A } (({pf:):({A} n:)):):({ B} (({pf:):({A} n:)):)))))\n",
      "(= (coda:(if (=:(ap put (({postfix :n):({ B}:n)):(app int:({ap get1        A : B} ({pf:):(({A} n:):({B} n:)))))):)):)\n",
      "(ap sel1 (ap get1 int:(if (= (({postfix}:2) ({:2):2):):x)) (ap get1 int:(ap put (({pf:x):({A} 2:x)):(nat1:x))) (ap get1 int:(({ap sel1 A } (({pf:x):({A} 2:x)):x):({ B} (({pf:x):({A} 2:x)):x))) (ap get1 int:(({ap put (pf:x):({ap nat1 : B} 2:x))) (ap get1 int:(({sel (pf:x):({ B} 2:x))) (ap get1 int:(int 2:x)):(ap put n:(app int:(ap get1 ({   A} n:(({ap sel1 A } (({pf:):({A} n:)):):({ B} (({pf:):({A} n:)):))):(({ap sel1 A } (({pf:):({A} n:)):):({ B} (({pf:):({A} n:)):))))))\n",
      "(ap get1 ext:(ap put ext:(ap {last:split <.>:B}:(ap get1 fn:(ap put fn:(ap {last:split </>:B}:(({ap get1        A } path:):({ B} path:))))))))\n",
      "(ap put n:(app int:(ap get1 ({   A} n:(({ap sel1 A } (({pf:):({A} n:)):):({ B} (({pf:):({A} n:)):))):(({ap sel1 A } (({pf:):({A} n:)):):({ B} (({pf:):({A} n:)):)))))\n",
      "(if (=:(ap put (({postfix :n):({ B}:n)):(app int:({ap get1        A : B} ({pf:):(({A} n:):({B} n:)))))):)\n",
      "(ap put n:(app int:(ap get1 ({   A} n:(({ap sel1 A } (({pf:):({A} n:)):):({ B} (({pf:):({A} n:)):))):(({ap sel1 A } (({pf:):({A} n:)):):({ B} (({pf:):({A} n:)):)))))\n",
      "(ap get1 path:(ap put path:(ap get1:(ap put n:(app int:(ap get1 ({   A} n:(({ap sel1 A } (({pf:):({A} n:)):):({ B} (({pf:):({A} n:)):))):(({ap sel1 A } (({pf:):({A} n:)):):({ B} (({pf:):({A} n:)):)))))))) (ap get1 path:(ap sel1 path:(ap put n:(app int:(ap get1 ({   A} n:(({ap sel1 A } (({pf:):({A} n:)):):({ B} (({pf:):({A} n:)):))):(({ap sel1 A } (({pf:):({A} n:)):):({ B} (({pf:):({A} n:)):)))))))\n",
      "(if (=:(ap put (({postfix :n):({ B}:n)):(app int:({ap get1        A : B} ({pf:):(({A} n:):({B} n:)))))):)\n",
      "(ap put n:(app int:(ap get1 ({   A} n:(({ap sel1 A } (({pf:):({A} n:)):):({ B} (({pf:):({A} n:)):))):(({ap sel1 A } (({pf:):({A} n:)):):({ B} (({pf:):({A} n:)):)))))\n",
      "(ap get1 ext:(ap put ext:(ap {last:split <.>:B}:(ap get1 fn:(ap put fn:(ap {last:split </>:B}:(({ap get1        A } path:):({ B} path:))))))))\n",
      "(if (= (ap put n:(ap nat1:(join 0:(ap put n:(app int:(ap get1 ({   A} n:(({ap sel1 A } (({pf:):({A} n:)):):({ B} (({pf:):({A} n:)):))):(({ap sel1 A } (({pf:):({A} n:)):):({ B} (({pf:):({A} n:)):)))))))) (ap sel1 n:(join 0:(ap put n:(app int:(ap get1 ({   A} n:(({ap sel1 A } (({pf:):({A} n:)):):({ B} (({pf:):({A} n:)):))):(({ap sel1 A } (({pf:):({A} n:)):):({ B} (({pf:):({A} n:)):))))))):(ap put (({postfix :n):({ B}:n)):(app int:({ap get1        A : B} ({pf:1):(({A} n:1):({B} n:1)))))):y)\n",
      "(ap put n:(app int:(ap get1 ({   A} n:(({ap sel1 A } (({pf:):({A} n:)):):({ B} (({pf:):({A} n:)):))):(({ap sel1 A } (({pf:):({A} n:)):):({ B} (({pf:):({A} n:)):)))))\n",
      "(if (=:(ap put (({postfix :n):({ B}:n)):(app int:({ap get1        A : B} ({pf:1 1):(({A} n:1 1):({B} n:1 1)))))):(ext:) 0)\n",
      "(if (=:(ap put (({postfix :n):({ B}:n)):(app int:({ap get1        A : B} ({pf:):(({A} n:):({B} n:)))))):)\n",
      "(ap put n:(app int:(ap get1 ({   A} n:(({ap sel1 A } (({pf:):({A} n:)):):({ B} (({pf:):({A} n:)):))):(({ap sel1 A } (({pf:):({A} n:)):):({ B} (({pf:):({A} n:)):)))))\n",
      "(if (=:(ap put (({postfix :n):({ B}:n)):(app int:({ap get1        A : B} ({pf:):(({A} n:):({B} n:)))))):)\n",
      "(ap get1 ext:(ap put ext:(ap {last:split <.>:B}:(ap get1 fn:(ap put fn:(ap {last:split </>:B}:(({ap get1        A } path:):({ B} path:))))))))\n",
      "(apx:(ap get1 ext:(ap put ext:(ap {last:split <.>:B}:(ap get1 fn:(ap put fn:(ap {last:split </>:B}:(({ap get1        A } path:):({ B} path:)))))))))\n",
      "(if (=:(ap put (({postfix :n):({ B}:n)):(app int:({ap get1        A : B} ({pf:):(({A} n:):({B} n:)))))):)\n",
      "(ap put int:(app int:(ap get1 int:(ap put ({pf:):(({ap} int:) ({nat1} int:):))) (ap get1 int:({ap sel1 A : B} ({pf:):))))\n",
      "(apx:((ap get1 ext:(ap put ext:(ap {last:split <.>:B}:(ap get1 fn:(ap put fn:(ap {last:split </>:B}:(({ap get1        A } path:):({ B} path:)))))))):))\n",
      "(ap get1 ext:(ap put ext:(ap {last:split <.>:B}:(ap get1 fn:(ap put fn:(ap {last:split </>:B}:(({ap get1        A } path:):({ B} path:))))))))\n",
      "(if (=:(ap put (({postfix :n):({ B}:n)):(app int:({ap get1        A : B} ({pf:1 1 1):(({A} n:1 1 1):({B} n:1 1 1)))))):x_ 2_ (int:))\n",
      "(if (=:(ap put (({postfix :n):({ B}:n)):(app int:({ap get1        A : B} ({pf:):(({A} n:):({B} n:)))))):)\n",
      "(if (=:(ap put (({postfix :n):({ B}:n)):(app int:({ap get1        A : B} ({pf:):(({A} n:):({B} n:)))))):)\n",
      "(if (=:(ap put (({postfix :n):({ B}:n)):(app int:({ap get1        A : B} ({pf:):(({A} n:):({B} n:)))))):)\n",
      "(if (=:(ap put (({postfix :n):({ B}:n)):(app int:({ap get1        A : B} ({pf:):(({A} n:):({B} n:)))))):)\n",
      "(if (ap put n:(app int:(ap get1 ({   A} n:(ap put (({pf:1):({A} n:1)):(nat1:1)) (({ap sel1 A } (({pf:1):({A} n:1)):1):({ B} (({pf:1):({A} n:1)):1))):(ap put (({pf:1):({A} n:1)):(nat1:1))) (ap get1 ({   A} n:(ap put (({pf:1):({A} n:1)):(nat1:1)) (({ap sel1 A } (({pf:1):({A} n:1)):1):({ B} (({pf:1):({A} n:1)):1))):(({ap sel1 A } (({pf:1):({A} n:1)):1):({ B} (({pf:1):({A} n:1)):1))))):)\n",
      "(ap put n:(app int:(ap get1 ({   A} n:(({ap sel1 A } (({pf:):({A} n:)):):({ B} (({pf:):({A} n:)):))):(({ap sel1 A } (({pf:):({A} n:)):):({ B} (({pf:):({A} n:)):)))))\n",
      "(if (=:(ap put (({postfix :n):({ B}:n)):(app int:({ap get1        A : B} ({pf:):(({A} n:):({B} n:)))))):)\n",
      "(if (=:(ap put (({postfix :n):({ B}:n)):(app int:({ap get1        A : B} ({pf:):(({A} n:):({B} n:)))))):)\n",
      "(= ((prefix:(if (=:(ap put (({postfix :n):({ B}:n)):(app int:({ap get1        A : B} ({pf:):(({A} n:):({B} n:)))))):)):(?:X) (?:Y)):((prefix:(if (=:(ap put (({postfix :n):({ B}:n)):(app int:({ap get1        A : B} ({pf:):(({A} n:):({B} n:)))))):)):((prefix:(if (=:(ap put (({postfix :n):({ B}:n)):(app int:({ap get1        A : B} ({pf:):(({A} n:):({B} n:)))))):)):(?:X)) ((prefix:(if (=:(ap put (({postfix :n):({ B}:n)):(app int:({ap get1        A : B} ({pf:):(({A} n:):({B} n:)))))):)):(?:Y))))\n",
      "(rev:) (rev:(float:x))\n",
      "(ap get1 ext:(ap put ext:(ap {last:split <.>:B}:(ap get1 fn:(ap put fn:(ap {last:split </>:B}:(({ap get1        A } path:):({ B} path:))))))))\n",
      "(ap get1 ext:(ap put ext:(ap {last:split <.>:B}:(ap get1 fn:(ap put fn:(ap {last:split </>:B}:(({ap get1        A } path:):({ B} path:))))))))\n",
      "(if (= (n:2):(ap put (({postfix :n):({ B}:n)):(app int:({ap get1        A : B} ({pf:1):(({A} n:1):({B} n:1)))))):1)\n",
      "(ap get1 ext:(ap put ext:(ap {last:split <.>:B}:(ap get1 fn:(ap put fn:(ap {last:split </>:B}:(({ap get1        A } path:):({ B} path:))))))))\n",
      "(ap put n:(app int:(ap get1 ({   A} n:(({ap sel1 A } (({pf:):({A} n:)):):({ B} (({pf:):({A} n:)):))):(({ap sel1 A } (({pf:):({A} n:)):):({ B} (({pf:):({A} n:)):)))))\n",
      "(ap put n:(app int:(ap get1 ({   A} n:(({ap sel1 A } (({pf:):({A} n:)):):({ B} (({pf:):({A} n:)):))):(({ap sel1 A } (({pf:):({A} n:)):):({ B} (({pf:):({A} n:)):)))))\n",
      "(if (=:(ap put (({postfix :n):({ B}:n)):(app int:({ap get1        A : B} ({pf:):(({A} n:):({B} n:)))))):)\n",
      "(if (= (n:0):(ap put (({postfix :n):({ B}:n)):(app int:({ap get1        A : B} ({pf:):(({A} n:):({B} n:)))))):)\n",
      "(ap get1 ext:(ap put ext:(ap {last:split <.>:B}:(ap ({get1} fn:(({ap put (pf:):({get : B} fn:)) (({sel (pf:):({ B} fn:)) ({ap put fn:)) ({       A} fn:(({ap put (pf:):({get : B} fn:)) (({sel (pf:):({ B} fn:)) ({ap put fn:)):(({ap put (pf:):({get : B} fn:)))))) (ap get1 ext:(ap put ext:(ap {last:split <.>:B}:(ap ({get1} fn:(({ap put (pf:):({get : B} fn:)) (({sel (pf:):({ B} fn:)) ({ap put fn:)) ({       A} fn:(({ap put (pf:):({get : B} fn:)) (({sel (pf:):({ B} fn:)) ({ap put fn:)):(({sel (pf:):({ B} fn:)) ({ap put fn:)))))\n",
      "(if (=:(ap put (({postfix :n):({ B}:n)):(app int:({ap get1        A : B} ({pf:):(({A} n:):({B} n:)))))):)\n",
      "(ap get1 ext:(ap put ext:(ap {last:split <.>:B}:(ap get1 fn:(ap put fn:(ap {last:split </>:B}:(({ap get1        A } path:):({ B} path:))))))))\n",
      "(if (=:(ap put (({postfix :n):({ B}:n)):(app int:({ap get1        A : B} ({pf:):(({A} n:):({B} n:)))))):)\n",
      "(apif y:(ap put n:(app int:(ap get1 ({   A} n:(({ap sel1 A } (({pf:):({A} n:)):):({ B} (({pf:):({A} n:)):))):(({ap sel1 A } (({pf:):({A} n:)):):({ B} (({pf:):({A} n:)):))))))\n",
      "(ap get1 ext:(ap put ext:(ap {last:split <.>:B}:(ap get1 fn:(ap put fn:(ap {last:split </>:B}:(({ap get1        A } path:):({ B} path:))))))))\n",
      "(if (=:(ap put (({postfix :n):({ B}:n)):(app int:({ap get1        A : B} ({pf:):(({A} n:):({B} n:)))))):)\n",
      "(ap put n:(app int:(ap get1 ({   A} n:(({ap sel1 A } (({pf:):({A} n:)):):({ B} (({pf:):({A} n:)):))):(({ap sel1 A } (({pf:):({A} n:)):):({ B} (({pf:):({A} n:)):)))))\n",
      "(ap get1 ext:(ap put ext:(ap {last:split <.>:B}:(ap get1 fn:(ap put fn:(ap {last:split </>:B}:(({ap get1        A } path:):({ B} path:))))))))\n",
      "(ap put n:(app int:(ap get1 ({   A} n:(({ap sel1 A } (({pf:):({A} n:)):):({ B} (({pf:):({A} n:)):))):(({ap sel1 A } (({pf:):({A} n:)):):({ B} (({pf:):({A} n:)):)))))\n",
      "(ap get1 ext:(ap put ext:(ap {last:split <.>:B}:(ap get1 fn:(ap put fn:(if (= ({     A}:(#:1)):#):1)))))) (ap get1 ext:(ap put ext:(ap {last:split <.>:B}:(ap get1 fn:(ap put fn:(ap {last:split </>:B}:(({ap get1        A } path:(#:1)):({ B} path:(#:1)))))))))\n",
      "(if (=:(ap put (({postfix :n):({ B}:n)):(app int:({ap get1        A : B} ({pf:1 1):(({A} n:1 1):({B} n:1 1)))))):2 x)\n",
      "(if (=:(ap put (({postfix :n):({ B}:n)):(app int:({ap get1        A : B} ({pf:):(({A} n:):({B} n:)))))):)\n",
      "(ap put n:(app int:(ap get1 ({   A} n:(({ap sel1 A } (({pf:):({A} n:)):):({ B} (({pf:):({A} n:)):))):(({ap sel1 A } (({pf:):({A} n:)):):({ B} (({pf:):({A} n:)):)))))\n",
      "(if (= (n:2):(ap put (({postfix :n):({ B}:n)):(app int:({ap get1        A : B} ({pf:):(({A} n:):({B} n:)))))):)\n",
      "(int:(if (=:(ap put (({postfix :n):({ B}:n)):(app int:({ap get1        A : B} ({pf:1):(({A} n:1):({B} n:1)))))):1))\n",
      "(if (=:(ap put (({postfix :n):({ B}:n)):(app int:({ap get1        A : B} ({pf:):(({A} n:):({B} n:)))))):)\n",
      "(if (=:(ap put (({postfix :n):({ B}:n)):(app int:({ap get1        A : B} ({pf:1):(({A} n:1):({B} n:1)))))):x)\n",
      "(ap get1 ext:(ap put ext:(ap {last:split <.>:B}:(ap get1 fn:(ap put fn:(ap {last:split </>:B}:(({ap get1        A } path:):({ B} path:))))))))\n",
      "(if (=:(ap put (({postfix :n):({ B}:n)):(app int:({ap get1        A : B} ({pf:):(({A} n:):({B} n:)))))):)\n",
      "(ap put fn:(ap {last:split </>:B}:(({ap} path:) ({get1        A} path:):)))\n",
      "(ap put n:(app int:(ap get1 ({   A} n:(ap put (({pf:(ap one:(if (= (n:2):(ap put (({postfix :n):({ B}:n)):(app int:({ap get1        A : B} ({pf:):(({A} n:):({B} n:)))))):))):({A} n:(ap one:(if (= (n:2):(ap put (({postfix :n):({ B}:n)):(app int:({ap get1        A : B} ({pf:):(({A} n:):({B} n:)))))):)))):(ap nat1:(ap one:(if (= (n:2):(ap put (({postfix :n):({ B}:n)):(app int:({ap get1        A : B} ({pf:):(({A} n:):({B} n:)))))):)))) (({ap sel1 A } (({pf:(ap one:(if (= (n:2):(ap put (({postfix :n):({ B}:n)):(app int:({ap get1        A : B} ({pf:):(({A} n:):({B} n:)))))):))):({A} n:(ap one:(if (= (n:2):(ap put (({postfix :n):({ B}:n)):(app int:({ap get1        A : B} ({pf:):(({A} n:):({B} n:)))))):)))):(ap one:(if (= (n:2):(ap put (({postfix :n):({ B}:n)):(app int:({ap get1        A : B} ({pf:):(({A} n:):({B} n:)))))):))):({ B} (({pf:(ap one:(if (= (n:2):(ap put (({postfix :n):({ B}:n)):(app int:({ap get1        A : B} ({pf:):(({A} n:):({B} n:)))))):))):({A} n:(ap one:(if (= (n:2):(ap put (({postfix :n):({ B}:n)):(app int:({ap get1        A : B} ({pf:):(({A} n:):({B} n:)))))):)))):(ap one:(if (= (n:2):(ap put (({postfix :n):({ B}:n)):(app int:({ap get1        A : B} ({pf:):(({A} n:):({B} n:)))))):))))):(ap put (({pf:(ap one:(if (= (n:2):(ap put (({postfix :n):({ B}:n)):(app int:({ap get1        A : B} ({pf:):(({A} n:):({B} n:)))))):))):({A} n:(ap one:(if (= (n:2):(ap put (({postfix :n):({ B}:n)):(app int:({ap get1        A : B} ({pf:):(({A} n:):({B} n:)))))):)))):(ap nat1:(ap one:(if (= (n:2):(ap put (({postfix :n):({ B}:n)):(app int:({ap get1        A : B} ({pf:):(({A} n:):({B} n:)))))):))))) (ap get1 ({   A} n:(ap put (({pf:(ap one:(if (= (n:2):(ap put (({postfix :n):({ B}:n)):(app int:({ap get1        A : B} ({pf:):(({A} n:):({B} n:)))))):))):({A} n:(ap one:(if (= (n:2):(ap put (({postfix :n):({ B}:n)):(app int:({ap get1        A : B} ({pf:):(({A} n:):({B} n:)))))):)))):(ap nat1:(ap one:(if (= (n:2):(ap put (({postfix :n):({ B}:n)):(app int:({ap get1        A : B} ({pf:):(({A} n:):({B} n:)))))):)))) (({ap sel1 A } (({pf:(ap one:(if (= (n:2):(ap put (({postfix :n):({ B}:n)):(app int:({ap get1        A : B} ({pf:):(({A} n:):({B} n:)))))):))):({A} n:(ap one:(if (= (n:2):(ap put (({postfix :n):({ B}:n)):(app int:({ap get1        A : B} ({pf:):(({A} n:):({B} n:)))))):)))):(ap one:(if (= (n:2):(ap put (({postfix :n):({ B}:n)):(app int:({ap get1        A : B} ({pf:):(({A} n:):({B} n:)))))):))):({ B} (({pf:(ap one:(if (= (n:2):(ap put (({postfix :n):({ B}:n)):(app int:({ap get1        A : B} ({pf:):(({A} n:):({B} n:)))))):))):({A} n:(ap one:(if (= (n:2):(ap put (({postfix :n):({ B}:n)):(app int:({ap get1        A : B} ({pf:):(({A} n:):({B} n:)))))):)))):(ap one:(if (= (n:2):(ap put (({postfix :n):({ B}:n)):(app int:({ap get1        A : B} ({pf:):(({A} n:):({B} n:)))))):))))):(({ap sel1 A } (({pf:(ap one:(if (= (n:2):(ap put (({postfix :n):({ B}:n)):(app int:({ap get1        A : B} ({pf:):(({A} n:):({B} n:)))))):))):({A} n:(ap one:(if (= (n:2):(ap put (({postfix :n):({ B}:n)):(app int:({ap get1        A : B} ({pf:):(({A} n:):({B} n:)))))):)))):(ap one:(if (= (n:2):(ap put (({postfix :n):({ B}:n)):(app int:({ap get1        A : B} ({pf:):(({A} n:):({B} n:)))))):))):({ B} (({pf:(ap one:(if (= (n:2):(ap put (({postfix :n):({ B}:n)):(app int:({ap get1        A : B} ({pf:):(({A} n:):({B} n:)))))):))):({A} n:(ap one:(if (= (n:2):(ap put (({postfix :n):({ B}:n)):(app int:({ap get1        A : B} ({pf:):(({A} n:):({B} n:)))))):)))):(ap one:(if (= (n:2):(ap put (({postfix :n):({ B}:n)):(app int:({ap get1        A : B} ({pf:):(({A} n:):({B} n:)))))):)))))))\n",
      "(ap put float:(app float:(ap get1 float:(disr {ap put (pf:))))\n",
      "(ap put n:(app int:(ap get1 ({   A} n:(({ap sel1 A } (({pf:):({A} n:)):):({ B} (({pf:):({A} n:)):))):(({ap sel1 A } (({pf:):({A} n:)):):({ B} (({pf:):({A} n:)):)))))\n",
      "(if (=:(ap put (({postfix :n):({ B}:n)):(app int:({ap get1        A : B} ({pf:):(({A} n:):({B} n:)))))):)\n",
      "(endswith 1:(ap right1:(if (=:(ap put (({postfix :n):({ B}:n)):(app int:({ap get1        A : B} ({pf:):(({A} n:):({B} n:)))))):)))\n",
      "(if (= (n:2):(ap put (({postfix :n):({ B}:n)):(app int:({ap get1        A : B} ({pf:):(({A} n:):({B} n:)))))):)\n",
      "(ap put n:(app int:(ap get1 ({   A} n:(({ap sel1 A } (({pf:):({A} n:)):):({ B} (({pf:):({A} n:)):))):(({ap sel1 A } (({pf:):({A} n:)):):({ B} (({pf:):({A} n:)):)))))\n",
      "(ap put n:(app int:(ap get1 ({   A} n:(({ap sel1 A } (({pf:):({A} n:)):):({ B} (({pf:):({A} n:)):))):(({ap sel1 A } (({pf:):({A} n:)):):({ B} (({pf:):({A} n:)):)))))\n",
      "(contains y (contains:(ap put n:(app int:(ap get1 ({   A} n:(({ap sel1 A } (({pf:):({A} n:)):):({ B} (({pf:):({A} n:)):))):(({ap sel1 A } (({pf:):({A} n:)):):({ B} (({pf:):({A} n:)):)))))):1)\n",
      "(ap put n:(app int:(ap get1 ({   A} n:(({ap sel1 A } (({pf:):({A} n:)):):({ B} (({pf:):({A} n:)):))):(({ap sel1 A } (({pf:):({A} n:)):):({ B} (({pf:):({A} n:)):)))))\n",
      "(if (=:(ap put (({postfix :n):({ B}:n)):(app int:({ap get1        A : B} ({pf:):(({A} n:):({B} n:)))))):)\n",
      "(ap put n:(app int:(ap get1 ({   A} n:(({ap sel1 A } (({pf:):({A} n:)):):({ B} (({pf:):({A} n:)):))):(({ap sel1 A } (({pf:):({A} n:)):):({ B} (({pf:):({A} n:)):)))))\n",
      "(if (=:(ap put (({postfix :n):({ B}:n)):(app int:({ap get1        A : B} ({pf:1):(({A} n:1):({B} n:1)))))):0)\n",
      "(if (=:(ap put (({postfix :n):({ B}:n)):(app int:({ap get1        A : B} ({pf:):(({A} n:):({B} n:)))))):)\n",
      "(ap put n:(app int:(ap get1 ({   A} n:(({ap sel1 A } (({pf:):({A} n:)):):({ B} (({pf:):({A} n:)):))):(({ap sel1 A } (({pf:):({A} n:)):):({ B} (({pf:):({A} n:)):)))))\n",
      "(if (= (n:0) (n:1):(ap put (({postfix :n):({ B}:n)):(app int:({ap get1        A : B} ({pf:1):(({A} n:1):({B} n:1)))))):1)\n",
      "(ap get1 ext:(ap put ext:(ap {last:split <.>:B}:(ap get1 fn:(ap put fn:(ap {last:split </>:B}:(({ap get1        A } path:):({ B} path:))))))))\n",
      "(if (=:(ap put (({postfix :n):({ B}:n)):(app int:({ap get1        A : B} ({pf:):(({A} n:):({B} n:)))))):)\n",
      "(if (= (n:0):(ap put (({postfix :n):({ B}:n)):(app int:({ap get1        A : B} ({pf:):(({A} n:):({B} n:)))))):)\n",
      "(if (= (n:0):(ap put (({postfix :n):({ B}:n)):(app int:({ap get1        A : B} ({pf:1):(({A} n:1):({B} n:1)))))):1)\n",
      "(ap put n:(app int:(ap get1 ({   A} n:(({ap sel1 A } (({pf:):({A} n:)):):({ B} (({pf:):({A} n:)):))):(({ap sel1 A } (({pf:):({A} n:)):):({ B} (({pf:):({A} n:)):)))))\n",
      "(ap put n:(app int:(ap get1 ({   A} n:(({ap sel1 A } (({pf:):({A} n:)):):({ B} (({pf:):({A} n:)):))):(({ap sel1 A } (({pf:):({A} n:)):):({ B} (({pf:):({A} n:)):)))))\n",
      "(if (=:(ap put (({postfix :n):({ B}:n)):(app int:({ap get1        A : B} ({pf:):(({A} n:):({B} n:)))))):)\n",
      "(if (=:(ap put (({postfix :n):({ B}:n)):(app int:({ap get1        A : B} ({pf:):(({A} n:):({B} n:)))))):)\n",
      "(if (=:(ap put (({postfix :n):({ B}:n)):(app int:({ap get1        A : B} ({pf:):(({A} n:):({B} n:)))))):)\n",
      "(ap put n:(app int:(ap get1 n:(disr {ap put (pf:))))\n",
      "(ap put n:(app int:(ap get1 ({   A} n:(({ap sel1 A } (({pf:):({A} n:)):):({ B} (({pf:):({A} n:)):))):(({ap sel1 A } (({pf:):({A} n:)):):({ B} (({pf:):({A} n:)):)))))\n",
      "(apif {A=B} 2:(ap get1 ext:(ap put ext:(ap {last:split <.>:B}:(ap get1 fn:(ap put fn:(ap {last:split </>:B}:(({ap get1        A } path:):({ B} path:)))))))))\n",
      "(if (= (n:0):(ap put (({postfix :n):({ B}:n)):(app int:({ap get1        A : B} ({pf:):(({A} n:):({B} n:)))))):)\n",
      "(= ((endswith y 0:(ap get1 ext:(ap put ext:(ap {last:split <.>:B}:(ap get1 fn:(ap put fn:(ap {last:split </>:B}:(({ap get1        A } path:):({ B} path:))))))))):(?:X)):(?:X))\n",
      "(ap get1 ext:(ap put ext:(ap {last:split <.>:B}:(ap get1 fn:(ap put fn:(ap {last:split </>:B}:(({ap get1        A } path:):({ B} path:))))))))\n",
      "(if (=:(ap put (({postfix :n):({ B}:n)):(app int:({ap get1        A : B} ({pf:):(({A} n:):({B} n:)))))):)\n",
      "(ap put n:(app int:(ap get1 ({   A} n:(({ap sel1 A } (({pf:):({A} n:)):):({ B} (({pf:):({A} n:)):))):(({ap sel1 A } (({pf:):({A} n:)):):({ B} (({pf:):({A} n:)):)))))\n",
      "(ap put n:(app int:(ap get1 ({   A} n:(({ap sel1 A } (({pf:):({A} n:)):):({ B} (({pf:):({A} n:)):))):(({ap sel1 A } (({pf:):({A} n:)):):({ B} (({pf:):({A} n:)):)))))\n",
      "(one:(ap put n:(app int:(ap get1 ({   A} n:(({ap sel1 A } (({pf:):({A} n:)):):({ B} (({pf:):({A} n:)):))):(({ap sel1 A } (({pf:):({A} n:)):):({ B} (({pf:):({A} n:)):))))))\n",
      "(ap put n:(app int:(ap get1 ({   A} n:(({ap sel1 A } (({pf:):({A} n:)):):({ B} (({pf:):({A} n:)):))):(({ap sel1 A } (({pf:):({A} n:)):):({ B} (({pf:):({A} n:)):)))))\n",
      "(ap put int:(app int:(ap get1 int:(ap put int:(ap nat1:(if (=:(ap put (({postfix :n):({ B}:n)):(app int:({ap get1        A : B} ({pf:1):(({A} n:1):({B} n:1)))))):2)))) (ap get1 int:(ap sel1 int:(if (=:(ap put (({postfix :n):({ B}:n)):(app int:({ap get1        A : B} ({pf:1):(({A} n:1):({B} n:1)))))):2)))))\n",
      "(ap put n:(app int:(ap get1 ({   A} n:(({ap sel1 A } (({pf:):({A} n:)):):({ B} (({pf:):({A} n:)):))):(({ap sel1 A } (({pf:):({A} n:)):):({ B} (({pf:):({A} n:)):)))))\n",
      "(nth1 (float:4.0):) (dis nth1 x:)\n",
      "(if (=:(ap put (({postfix :n):({ B}:n)):(app int:({ap get1        A : B} ({pf:):(({A} n:):({B} n:)))))):)\n",
      "(if (= (n:0):(ap put (({postfix :n):({ B}:n)):(app int:({ap get1        A : B} ({pf:):(({A} n:):({B} n:)))))):)\n",
      "(ap put n:(app int:(ap get1 ({   A} n:(({ap sel1 A } (({pf:):({A} n:)):):({ B} (({pf:):({A} n:)):))):(({ap sel1 A } (({pf:):({A} n:)):):({ B} (({pf:):({A} n:)):)))))\n",
      "(ap put n:(app int:(ap get1 ({   A} n:(({ap sel1 A } (({pf:):({A} n:)):):({ B} (({pf:):({A} n:)):))):(({ap sel1 A } (({pf:):({A} n:)):):({ B} (({pf:):({A} n:)):)))))\n",
      "(ap put n:(app int:(ap get1 ({   A} n:(({ap sel1 A } (({pf:):({A} n:)):):({ B} (({pf:):({A} n:)):))):(({ap sel1 A } (({pf:):({A} n:)):):({ B} (({pf:):({A} n:)):)))))\n",
      "(ap put n:(app int:(ap get1 ({   A} n:(({ap sel1 A } (({pf:):({A} n:)):):({ B} (({pf:):({A} n:)):))):(({ap sel1 A } (({pf:):({A} n:)):):({ B} (({pf:):({A} n:)):)))))\n",
      "(int:(apif {select A:B}:(ap put n:(app int:(ap get1 ({   A} n:(({ap sel1 A } (({pf:):({A} n:)):):({ B} (({pf:):({A} n:)):))):(({ap sel1 A } (({pf:):({A} n:)):):({ B} (({pf:):({A} n:)):)))))))\n",
      "(if (=:(ap put (({postfix :n):({ B}:n)):(app int:({ap get1        A : B} ({pf:):(({A} n:):({B} n:)))))):)\n",
      "(dis nth1 (if (=:(ap put (({postfix :n):({ B}:n)):(app int:({ap get1        A : B} ({pf:):(({A} n:):({B} n:)))))):):)\n",
      "(ap get1 ext:(ap put ext:(ap {last:split <.>:B}:(ap get1 fn:(ap put fn:(ap {last:split </>:B}:(({ap get1        A } path:):({ B} path:))))))))\n",
      "(ap put n:(app int:(ap get1 ({   A} n:(({ap sel1 A } (({pf:):({A} n:)):):({ B} (({pf:):({A} n:)):))):(({ap sel1 A } (({pf:):({A} n:)):):({ B} (({pf:):({A} n:)):)))))\n",
      "(ap put int:(ap nat1:(if (=:(ap put (({postfix :n):({ B}:n)):(app int:({ap get1        A : B} ({pf:1):(({A} n:1):({B} n:1)))))):y))) (ap sel1 int:(if (=:(ap put (({postfix :n):({ B}:n)):(app int:({ap get1        A : B} ({pf:1):(({A} n:1):({B} n:1)))))):y))\n",
      "(ap put n:(app int:(ap get1 ({   A} n:(({ap sel1 A } (({pf:):({A} n:)):):({ B} (({pf:):({A} n:)):))):(({ap sel1 A } (({pf:):({A} n:)):):({ B} (({pf:):({A} n:)):)))))\n",
      "(ap {def B:}:(if (=:(ap put (({postfix :n):({ B}:n)):(app int:({ap get1        A : B} ({pf:):(({A} n:):({B} n:)))))):))\n",
      "(if (=:(ap put (({postfix :n):({ B}:n)):(app int:({ap get1        A : B} ({pf:):(({A} n:):({B} n:)))))):)\n",
      "(ap put n:(app int:(ap get1 ({   A} n:(({ap sel1 A } (({pf:):({A} n:)):):({ B} (({pf:):({A} n:)):))):(({ap sel1 A } (({pf:):({A} n:)):):({ B} (({pf:):({A} n:)):)))))\n",
      "(ap get1 ext:(ap put ext:(ap {last:split <.>:B}:(ap get1 fn:(ap put fn:(ap {last:split </>:B}:(({ap get1        A } path:):({ B} path:))))))))\n",
      "(if (=:(ap put (({postfix :n):({ B}:n)):(app int:({ap get1        A : B} ({pf:):(({A} n:):({B} n:)))))):)\n",
      "(ap put n:(app int:(ap get1 ({   A} n:(({ap sel1 A } (({pf:):({A} n:)):):({ B} (({pf:):({A} n:)):))):(({ap sel1 A } (({pf:):({A} n:)):):({ B} (({pf:):({A} n:)):)))))\n",
      "(ap (Inv:2):(if (=:(ap put (({postfix :n):({ B}:n)):(app int:({ap get1        A : B} ({pf:):(({A} n:):({B} n:)))))):))\n",
      "(if (=:(ap put (({postfix :n):({ B}:n)):(app int:({ap get1        A : B} ({pf:):(({A} n:):({B} n:)))))):)\n",
      "(ap put n:(app int:(ap get1 ({   A} n:(({ap sel1 A } (({pf:):({A} n:)):):({ B} (({pf:):({A} n:)):))):(({ap sel1 A } (({pf:):({A} n:)):):({ B} (({pf:):({A} n:)):)))))\n",
      "(ap get1 ext:(ap put ext:(ap {last:split <.>:B}:(ap get1 fn:(ap put fn:(ap {last:split </>:B}:(({ap get1        A } path:):({ B} path:))))))))\n",
      "(if (= (n:1) (n:0) (n:2):(ap put (({postfix :n):({ B}:n)):(app int:({ap get1        A : B} ({pf:1 1):(({A} n:1 1):({B} n:1 1)))))):0 x)\n",
      "(= ((if (=:(ap put (({postfix :n):({ B}:n)):(app int:({ap get1        A : B} ({pf:):(({A} n:):({B} n:)))))):):((if (=:(ap put (({postfix :n):({ B}:n)):(app int:({ap get1        A : B} ({pf:):(({A} n:):({B} n:)))))):):(?:X))):((if (=:(ap put (({postfix :n):({ B}:n)):(app int:({ap get1        A : B} ({pf:):(({A} n:):({B} n:)))))):):(?:X))) (= ((if (=:(ap put (({postfix :n):({ B}:n)):(app int:({ap get1        A : B} ({pf:):(({A} n:):({B} n:)))))):):(?:X) (?:Y)):((if (=:(ap put (({postfix :n):({ B}:n)):(app int:({ap get1        A : B} ({pf:):(({A} n:):({B} n:)))))):):(?:X)) ((if (=:(ap put (({postfix :n):({ B}:n)):(app int:({ap get1        A : B} ({pf:):(({A} n:):({B} n:)))))):):(?:Y)))\n",
      "(ap put n:(app int:(ap get1 ({   A} n:(({ap sel1 A } (({pf:):({A} n:)):):({ B} (({pf:):({A} n:)):))):(({ap sel1 A } (({pf:):({A} n:)):):({ B} (({pf:):({A} n:)):)))))\n",
      "(if (=:(ap put (({postfix :n):({ B}:n)):(app int:({ap get1        A : B} ({pf:1):(({A} n:1):({B} n:1)))))):0)\n",
      "(= ((ap put n:(app int:(ap get1 ({   A} n:(({ap sel1 A } (({pf:):({A} n:)):):({ B} (({pf:):({A} n:)):))):(({ap sel1 A } (({pf:):({A} n:)):):({ B} (({pf:):({A} n:)):))))):(?:X) (?:Y)):((ap put n:(app int:(ap get1 ({   A} n:(({ap sel1 A } (({pf:):({A} n:)):):({ B} (({pf:):({A} n:)):))):(({ap sel1 A } (({pf:):({A} n:)):):({ B} (({pf:):({A} n:)):))))):((ap put n:(app int:(ap get1 ({   A} n:(({ap sel1 A } (({pf:):({A} n:)):):({ B} (({pf:):({A} n:)):))):(({ap sel1 A } (({pf:):({A} n:)):):({ B} (({pf:):({A} n:)):))))):(?:X)) ((ap put n:(app int:(ap get1 ({   A} n:(({ap sel1 A } (({pf:):({A} n:)):):({ B} (({pf:):({A} n:)):))):(({ap sel1 A } (({pf:):({A} n:)):):({ B} (({pf:):({A} n:)):))))):(?:Y))))\n",
      "(apall (ap put n:(app int:(ap get1 ({   A} n:(({ap sel1 A } (({pf:):({A} n:)):):({ B} (({pf:):({A} n:)):))):(({ap sel1 A } (({pf:):({A} n:)):):({ B} (({pf:):({A} n:)):))))):)\n",
      "(ap get1 ext:(ap put ext:(ap {last:split <.>:B}:(ap get1 fn:(ap put fn:(ap {last:split </>:B}:(({ap get1        A } path:):({ B} path:))))))))\n",
      "(ap put n:(app int:(ap get1 ({   A} n:(({ap sel1 A } (({pf:):({A} n:)):):({ B} (({pf:):({A} n:)):))):(({ap sel1 A } (({pf:):({A} n:)):):({ B} (({pf:):({A} n:)):)))))\n",
      "(ap put n:(app int:(ap get1 ({   A} n:(({ap sel1 A } (({pf:):({A} n:)):):({ B} (({pf:):({A} n:)):))):(({ap sel1 A } (({pf:):({A} n:)):):({ B} (({pf:):({A} n:)):)))))\n",
      "(if (=:(ap put (({postfix :n):({ B}:n)):(app int:({ap get1        A : B} ({pf:):(({A} n:):({B} n:)))))):)\n",
      "(= (?:X) (?:Y):((if (=:(ap put (({postfix :n):({ B}:n)):(app int:({ap get1        A : B} ({pf:1):(({A} n:1):({B} n:1)))))):1):(?:X)) (?:Y)) (= (?:X) (?:Y):(?:X) ((if (=:(ap put (({postfix :n):({ B}:n)):(app int:({ap get1        A : B} ({pf:1):(({A} n:1):({B} n:1)))))):1):(?:Y))) (= ((?:X):(?:Y)):(((if (=:(ap put (({postfix :n):({ B}:n)):(app int:({ap get1        A : B} ({pf:1):(({A} n:1):({B} n:1)))))):1):(?:X)):(?:Y))) (= ((?:X):(?:Y)):((?:X):((if (=:(ap put (({postfix :n):({ B}:n)):(app int:({ap get1        A : B} ({pf:1):(({A} n:1):({B} n:1)))))):1):(?:Y))))\n",
      "(ap put n:(app int:(ap get1 ({   A} n:(({ap sel1 A } (({pf:):({A} n:)):):({ B} (({pf:):({A} n:)):))):(({ap sel1 A } (({pf:):({A} n:)):):({ B} (({pf:):({A} n:)):)))))\n",
      "(wrap x:(if (=:(ap put (({postfix :n):({ B}:n)):(app int:({ap get1        A : B} ({pf:1 1):(({A} n:1 1):({B} n:1 1)))))):x 1))\n",
      "(ap put n:(app int:(ap get1 ({   A} n:(({ap sel1 A } (({pf:):({A} n:)):):({ B} (({pf:):({A} n:)):))):(({ap sel1 A } (({pf:):({A} n:)):):({ B} (({pf:):({A} n:)):)))))\n",
      "((ap get1 ext:(ap put ext:(ap {last:split <.>:B}:(ap get1 fn:(ap put fn:(ap {last:split </>:B}:(({ap get1        A } path:):({ B} path:)))))))):)\n",
      "(if (= (n:1):(ap put (({postfix :n):({ B}:n)):(app int:({ap get1        A : B} ({pf:1 1):(({A} n:1 1):({B} n:1 1)))))):1 (# y:))\n",
      "(= (ap get1 ext:(ap put ext:(ap {last:split <.>:B}:(ap get1 fn:(ap put fn:(ap {last:split </>:B}:(({ap get1        A } path:):({ B} path:)))))))) (?:X):(?:X)) (= (?:X) (ap get1 ext:(ap put ext:(ap {last:split <.>:B}:(ap get1 fn:(ap put fn:(ap {last:split </>:B}:(({ap get1        A } path:):({ B} path:)))))))):(?:X))\n",
      "(ap put n:(app int:(ap get1 ({   A} n:(({ap sel1 A } (({pf:):({A} n:)):):({ B} (({pf:):({A} n:)):))):(({ap sel1 A } (({pf:):({A} n:)):):({ B} (({pf:):({A} n:)):)))))\n",
      "(ap put n:(app int:(ap get1 ({   A} n:(({ap sel1 A } (({pf:):({A} n:)):):({ B} (({pf:):({A} n:)):))):(({ap sel1 A } (({pf:):({A} n:)):):({ B} (({pf:):({A} n:)):)))))\n",
      "(ap get1 ext:(ap put ext:(ap {last:split <.>:B}:(ap get1 fn:(ap put fn:(ap {last:split </>:B}:(({ap get1        A } path:):({ B} path:))))))))\n",
      "(ap put n:(app int:(ap get1 ({   A} n:(({ap sel1 A } (({pf:):({A} n:)):):({ B} (({pf:):({A} n:)):))):(({ap sel1 A } (({pf:):({A} n:)):):({ B} (({pf:):({A} n:)):)))))\n",
      "(ap put n:(app int:(ap get1 ({   A} n:(({ap sel1 A } (({pf:):({A} n:)):):({ B} (({pf:):({A} n:)):))):(({ap sel1 A } (({pf:):({A} n:)):):({ B} (({pf:):({A} n:)):)))))\n",
      "(get1 0:((if (=:(ap put (({postfix :n):({ B}:n)):(app int:({ap get1        A : B} ({pf:):(({A} n:):({B} n:)))))):):y))\n",
      "(ap get1 ext:(ap put ext:(ap {last:split <.>:B}:(ap get1 fn:(ap put fn:(ap {last:split </>:B}:(({ap get1        A } path:):({ B} path:))))))))\n",
      "(ap get1 n:(ap put n:(ap nat1:(ap get1 ext:(ap put ext:(ap {last:split <.>:B}:(ap get1 fn:(ap put fn:(ap {last:split </>:B}:(({ap get1        A } path:):({ B} path:))))))))))) (ap get1 n:(ap sel1 n:(ap get1 ext:(ap put ext:(ap {last:split <.>:B}:(ap get1 fn:(ap put fn:(ap {last:split </>:B}:(({ap get1        A } path:):({ B} path:))))))))))\n",
      "(ap put n:(app int:(ap get1 ({   A} n:(({ap sel1 A } (({pf:):({A} n:)):):({ B} (({pf:):({A} n:)):))):(({ap sel1 A } (({pf:):({A} n:)):):({ B} (({pf:):({A} n:)):)))))\n",
      "(if (=:(ap put (({postfix :n):({ B}:n)):(app int:({ap get1        A : B} ({pf:):(({A} n:):({B} n:)))))):)\n",
      "(if (= (n:0):(ap put (({postfix :n):({ B}:n)):(app int:({ap get1        A : B} ({pf:):(({A} n:):({B} n:)))))):)\n",
      "(if (= (n:0):(ap put (({postfix :n):({ B}:n)):(app int:({ap get1        A : B} ({pf:1 1 1):(({A} n:1 1 1):({B} n:1 1 1)))))):1 02 01)\n",
      "(if (= (n:0):(ap put (({postfix :n):({ B}:n)):(app int:({ap get1        A : B} ({pf:):(({A} n:):({B} n:)))))):)\n",
      "(ap get1 ext:(ap put ext:(ap {last:split <.>:B}:({ap get1        A : B} fn:(({fn} ext:):({B} ext:))))))\n",
      "((ap get1 ext:(ap put ext:(ap {last:split <.>:B}:(ap get1 fn:(ap put fn:(ap {last:split </>:B}:(({ap get1        A } path:):({ B} path:)))))))):)\n",
      "(ap put n:(app int:(ap get1 ({   A} n:(({ap sel1 A } (({pf:):({A} n:)):):({ B} (({pf:):({A} n:)):))):(({ap sel1 A } (({pf:):({A} n:)):):({ B} (({pf:):({A} n:)):)))))\n",
      "(apif {A=B}:(if (=:(ap put (({postfix :n):({ B}:n)):(app int:({ap get1        A : B} ({pf:):(({A} n:):({B} n:)))))):))\n",
      "(if (=:(ap put (({postfix :n):({ B}:n)):(app int:({ap get1        A : B} ({pf:1):(({A} n:1):({B} n:1)))))):x)\n",
      "(ap left1 x 1 2 ((ap get1 ext:(ap put ext:(ap {last:split <.>:B}:(ap get1 fn:(ap put fn:(ap {last:split </>:B}:(({ap get1        A } path:):({ B} path:)))))))):):(if (=:(ap put (({postfix :n):({ B}:n)):(app int:({ap get1        A : B} ({pf:):(({A} n:):({B} n:)))))):))\n",
      "(ap {def B:}:(ap put float:(app float:(ap get1 float:(ap put float:(ap float1:(ap get1 ext:(ap put ext:(ap {last:split <.>:B}:(ap get1 fn:(ap put fn:(ap {last:split </>:B}:(({ap get1        A } path:):({ B} path:))))))))))) 0 (ap get1 float:(ap sel1 float:(ap get1 ext:(ap put ext:(ap {last:split <.>:B}:(ap get1 fn:(ap put fn:(ap {last:split </>:B}:(({ap get1        A } path:):({ B} path:)))))))))))))\n",
      "(ap put n:(app int:(ap get1 ({   A} n:(({ap sel1 A } (({pf:):({A} n:)):):({ B} (({pf:):({A} n:)):))):(({ap sel1 A } (({pf:):({A} n:)):):({ B} (({pf:):({A} n:)):)))))\n",
      "(apall (ap put float:(ap float1:(ap get1 ext:(ap put ext:(ap {last:split <.>:B}:(ap get1 fn:(ap put fn:(ap {last:split </>:B}:(({ap get1        A } path:):({ B} path:)))))))))) (ap sel1 float:(ap get1 ext:(ap put ext:(ap {last:split <.>:B}:(ap get1 fn:(ap put fn:(ap {last:split </>:B}:(({ap get1        A } path:):({ B} path:))))))))):0)\n",
      "(ap get1 ext:(ap put ext:(ap {last:split <.>:B}:(ap get1 fn:(ap put fn:(ap {last:split </>:B}:(({ap get1        A } path:):({ B} path:))))))))\n",
      "(if (=:(ap put (({postfix :n):({ B}:n)):(app int:({ap get1        A : B} ({pf:1):(({A} n:1):({B} n:1)))))):x)\n",
      "(ap put n:(app int:(ap get1 ({   A} n:(({ap sel1 A } (({pf:):({A} n:)):):({ B} (({pf:):({A} n:)):))):(({ap sel1 A } (({pf:):({A} n:)):):({ B} (({pf:):({A} n:)):)))))\n",
      "(if (=:(ap put (({postfix :n):({ B}:n)):(app int:({ap get1        A : B} ({pf:):(({A} n:):({B} n:)))))):)\n",
      "(ap put n:(app int:(ap get1 ({   A} n:(({ap sel1 A } (({pf:):({A} n:)):):({ B} (({pf:):({A} n:)):))):(({ap sel1 A } (({pf:):({A} n:)):):({ B} (({pf:):({A} n:)):)))))\n",
      "(postfix:(ap put n:(app int:(ap get1 ({   A} n:(({ap sel1 A } (({pf:):({A} n:)):):({ B} (({pf:):({A} n:)):))):(({ap sel1 A } (({pf:):({A} n:)):):({ B} (({pf:):({A} n:)):))))))\n",
      "(if (=:(ap put (({postfix :n):({ B}:n)):(app int:({ap get1        A : B} ({pf:1):(({A} n:1):({B} n:1)))))):x)\n",
      "(ap put n:(app int:(ap get1 ({   A} n:(({ap sel1 A } (({pf:):({A} n:)):):({ B} (({pf:):({A} n:)):))):(({ap sel1 A } (({pf:):({A} n:)):):({ B} (({pf:):({A} n:)):)))))\n",
      "(apif {not:(A=B)}:(ap put n:(app int:(ap get1 ({   A} n:(({ap sel1 A } (({pf:):({A} n:)):):({ B} (({pf:):({A} n:)):))):(({ap sel1 A } (({pf:):({A} n:)):):({ B} (({pf:):({A} n:)):))))))\n",
      "(float:(if (=:(ap put (({postfix :n):({ B}:n)):(app int:({ap get1        A : B} ({pf:1):(({A} n:1):({B} n:1)))))):2))\n",
      "(disr {ap put (pf:)\n",
      "(if (=:(ap put (({postfix :n):({ B}:n)):(app int:({ap get1        A : B} ({pf:):(({A} n:):({B} n:)))))):)\n",
      "(if (=:(ap put (({postfix :n):({ B}:n)):(app int:({ap get1        A : B} ({pf:):(({A} n:):({B} n:)))))):)\n",
      "(ap put n:(app int:(ap get1 ({   A} n:(({ap sel1 A } (({pf:):({A} n:)):):({ B} (({pf:):({A} n:)):))):(({ap sel1 A } (({pf:):({A} n:)):):({ B} (({pf:):({A} n:)):)))))\n",
      "(if (=:(ap put (({postfix :n):({ B}:n)):(app int:({ap get1        A : B} ({pf:1):(({A} n:1):({B} n:1)))))):1)\n",
      "(if (=:(ap put (({postfix :n):({ B}:n)):(app int:({ap get1        A : B} ({pf:1):(({A} n:1):({B} n:1)))))):x)\n",
      "(ap put int:(app int:(ap get1 int:(disr {ap put (pf:))))\n",
      "(ap get1 ext:(ap put ext:(ap {last:split <.>:B}:(ap get1 fn:(ap put fn:(ap {last:split </>:B}:(({ap get1        A } path:):({ B} path:))))))))\n",
      "(ap get1 ext:(ap put ext:(ap {last:split <.>:B}:(ap get1 fn:(ap put fn:(ap {last:split </>:B}:(({ap get1        A } path:):({ B} path:))))))))\n",
      "(if (=:(ap put (({postfix :n):({ B}:n)):(app int:({ap get1        A : B} ({pf:):(({A} n:):({B} n:)))))):)\n",
      "(if (=:(ap put (({postfix :n):({ B}:n)):(app int:({ap get1        A : B} ({pf:1):(({A} n:1):({B} n:1)))))):0)\n",
      "(if (=:(ap put (({postfix :n):({ B}:n)):(app int:({ap get1        A : B} ({pf:):(({A} n:):({B} n:)))))):)\n",
      "(ap put n:(app int:(ap get1 ({   A} n:(({ap sel1 A } (({pf:):({A} n:)):):({ B} (({pf:):({A} n:)):))):(({ap sel1 A } (({pf:):({A} n:)):):({ B} (({pf:):({A} n:)):)))))\n",
      "(if (=:(ap put (({postfix :n):({ B}:n)):(app int:({ap get1        A : B} ({pf:):(({A} n:):({B} n:)))))):)\n",
      "(ap get1 ext:(ap put ext:(ap {last:split <.>:B}:(ap get1 fn:(ap put fn:(ap {last:split </>:B}:(({ap get1        A } path:):({ B} path:))))))))\n",
      "(if (= (n:1) (ap put n:(ap nat1:(1:y))) (ap sel1 n:(1:y)):(ap put (({postfix :n):({ B}:n)):(app int:({ap get1        A : B} ({pf:1 1):(({A} n:1 1):({B} n:1 1)))))):2 1)\n",
      "(ap get1 ext:(ap put ext:(ap {last:split <.>:B}:(ap get1 fn:(ap put fn:(ap {last:split </>:B}:(({ap get1        A } path:):({ B} path:))))))))\n"
     ]
    }
   ],
   "source": [
    "for c in Candidates2: print(c)"
   ]
  },
  {
   "cell_type": "markdown",
   "id": "7ba45491-c356-4d0f-83ad-cf057305feb8",
   "metadata": {},
   "source": [
    "So summarize up to this point, searching 50,000 randomly generated data, there are 193 candidate idempotents (0.4%). All 193 continue to pass a second round of testing with 1000 tries each, so that each potential idempotent I satisfies I:I:X = I:X for 1000 randomly generated X.  \n",
    "\n",
    "This raises an interesting question: are all of the 193 just equivalent to pass and null?  How rare are non-pass/null idempotents? Recall that every type is an idempotent.  This result might indicate that actual types and categories are quite rare.  Interesting... "
   ]
  },
  {
   "cell_type": "code",
   "execution_count": 63,
   "id": "bed4ffe2-b764-4ad9-9dd1-c1f4d502c924",
   "metadata": {},
   "outputs": [
    {
     "name": "stdout",
     "output_type": "stream",
     "text": [
      "(ap put n:(app int:(ap get1 ({   A} n:(({ap sel1 A } (({pf:):({A} n:)):):({ B} (({pf:):({A} n:)):))):(({ap sel1 A } (({pf:):({A} n:)):):({ B} (({pf:):({A} n:)):)))))\n"
     ]
    },
    {
     "name": "stdin",
     "output_type": "stream",
     "text": [
      "q to quit: a b c 1.1\n"
     ]
    },
    {
     "name": "stdout",
     "output_type": "stream",
     "text": [
      "a b c 1.1\n"
     ]
    },
    {
     "name": "stdin",
     "output_type": "stream",
     "text": [
      "q to quit: q\n"
     ]
    }
   ],
   "source": [
    "from start import *\n",
    "n = 100\n",
    "C = Candidates2[n]\n",
    "print(C)\n",
    "while True:\n",
    "    x = input('q to quit:')\n",
    "    if x=='q': break\n",
    "    B = co(x)\n",
    "    D = Evaluate.generic(data(colon(C,B)),100)\n",
    "    print(D)"
   ]
  },
  {
   "cell_type": "code",
   "execution_count": 94,
   "id": "2cd55878-ab8b-4ee9-8c8b-d2ee0ea5726a",
   "metadata": {},
   "outputs": [
    {
     "name": "stdout",
     "output_type": "stream",
     "text": [
      "TESTING: (ap put n:(app int:(ap get1 ({   A} n:(({ap sel1 A } (({pf:):({A} n:)):):({ B} (({pf:):({A} n:)):))):(({ap sel1 A } (({pf:):({A} n:)):):({ B} (({pf:):({A} n:)):)))))\n",
      "HUH? \n",
      "HUH? \n",
      "HUH? (null 0 (:) (startswith (float:):2) (apx (:):(disr:) 0):)\n",
      "HUH? 1.1\n",
      "HUH? \n",
      "HUH? \n",
      "HUH? \n",
      "HUH? \n",
      "HUH? (float1 (contains 1.1 (disr:):):)\n",
      "HUH? \n",
      "=> \n",
      "\n",
      "=> \n",
      "\n",
      "=> \n",
      "\n",
      "=> 1.1\n",
      "\n",
      "=> (1.1:)\n",
      "\n",
      "=> ((1.1:):)\n",
      "\n",
      "=> (((1.1:):):)\n",
      "\n",
      "=> ((((1.1:):):):)\n",
      "\n",
      "=> (((((1.1:):):):):(float1:))\n",
      "\n",
      "=> ((((((1.1:):):):):(float1:)):)\n",
      "\n",
      "['null-like', 'null-like', 'null-like', 'pass-like', 'interest', 'interest', 'interest', 'interest', 'interest', 'interest']\n"
     ]
    }
   ],
   "source": [
    "def classify(D,n):\n",
    "    print('TESTING:',D)\n",
    "    tests = []\n",
    "    for i in range(n): tests.append(IS.sample())\n",
    "    results = []\n",
    "    for test in tests:\n",
    "        print('HUH?',test)\n",
    "        D = Evaluate.generic(data(colon(D,test)),500)\n",
    "        results.append(D)\n",
    "    res = []\n",
    "    for i in range(n):\n",
    "        print('=>',results[i]); print()\n",
    "        if   results[i].empty()  : res.append('null-like')\n",
    "        elif results[i]==tests[i]: res.append('pass-like')\n",
    "        else                     : res.append('interest')\n",
    "    return res \n",
    "print(classify(Candidates2[2],10))"
   ]
  },
  {
   "cell_type": "code",
   "execution_count": null,
   "id": "243075e5-58ac-4a28-993b-382892672879",
   "metadata": {},
   "outputs": [],
   "source": []
  }
 ],
 "metadata": {
  "kernelspec": {
   "display_name": "Python 3 (ipykernel)",
   "language": "python",
   "name": "python3"
  },
  "language_info": {
   "codemirror_mode": {
    "name": "ipython",
    "version": 3
   },
   "file_extension": ".py",
   "mimetype": "text/x-python",
   "name": "python",
   "nbconvert_exporter": "python",
   "pygments_lexer": "ipython3",
   "version": "3.10.7"
  }
 },
 "nbformat": 4,
 "nbformat_minor": 5
}
