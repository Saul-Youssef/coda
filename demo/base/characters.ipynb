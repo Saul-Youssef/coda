{
 "cells": [
  {
   "cell_type": "code",
   "execution_count": 2,
   "id": "49b96420-fca7-4473-b00e-ee190b291d59",
   "metadata": {
    "tags": []
   },
   "outputs": [],
   "source": [
    "import string,Name"
   ]
  },
  {
   "cell_type": "code",
   "execution_count": 3,
   "id": "11f2f92d-d6f6-494c-b598-d8f2fcaef196",
   "metadata": {},
   "outputs": [
    {
     "data": {
      "text/plain": [
       "'0123456789abcdefghijklmnopqrstuvwxyzABCDEFGHIJKLMNOPQRSTUVWXYZ!\"#$%&\\'()*+,-./:;<=>?@[\\\\]^_`{|}~ \\t\\n\\r\\x0b\\x0c'"
      ]
     },
     "execution_count": 3,
     "metadata": {},
     "output_type": "execute_result"
    }
   ],
   "source": [
    "string.printable"
   ]
  },
  {
   "cell_type": "code",
   "execution_count": 4,
   "id": "f3a04d76-928c-49bf-afcb-7e6e4a604b8d",
   "metadata": {},
   "outputs": [
    {
     "data": {
      "text/plain": [
       "'0b1100001'"
      ]
     },
     "execution_count": 4,
     "metadata": {},
     "output_type": "execute_result"
    }
   ],
   "source": [
    "bin(ord('a'))"
   ]
  },
  {
   "cell_type": "code",
   "execution_count": 5,
   "id": "6cebbaf4-52ef-40f2-97ba-8ede678738ee",
   "metadata": {},
   "outputs": [
    {
     "name": "stdout",
     "output_type": "stream",
     "text": [
      "a a\n"
     ]
    }
   ],
   "source": [
    "#\n",
    "#   print unicode string a and pure data a \n",
    "#\n",
    "print('a',Name.byte('a'))"
   ]
  },
  {
   "cell_type": "code",
   "execution_count": 2,
   "id": "b976cefa-f3fd-4e7c-a709-a7c15d7f05d1",
   "metadata": {},
   "outputs": [
    {
     "ename": "NameError",
     "evalue": "name 'Name' is not defined",
     "output_type": "error",
     "traceback": [
      "\u001b[0;31m---------------------------------------------------------------------------\u001b[0m",
      "\u001b[0;31mNameError\u001b[0m                                 Traceback (most recent call last)",
      "Cell \u001b[0;32mIn[2], line 1\u001b[0m\n\u001b[0;32m----> 1\u001b[0m \u001b[38;5;28;01mfor\u001b[39;00m key,value \u001b[38;5;129;01min\u001b[39;00m Name\u001b[38;5;241m.\u001b[39mNAME\u001b[38;5;241m.\u001b[39mitems(): \u001b[38;5;28mprint\u001b[39m(key,value)\n",
      "\u001b[0;31mNameError\u001b[0m: name 'Name' is not defined"
     ]
    }
   ],
   "source": [
    "for key,value in Name.NAME.items(): print(key,value)"
   ]
  },
  {
   "cell_type": "code",
   "execution_count": null,
   "id": "f1e8ddb6-5e63-46a3-a94c-a1331e726e08",
   "metadata": {},
   "outputs": [],
   "source": []
  }
 ],
 "metadata": {
  "kernelspec": {
   "display_name": "Python 3 (ipykernel)",
   "language": "python",
   "name": "python3"
  },
  "language_info": {
   "codemirror_mode": {
    "name": "ipython",
    "version": 3
   },
   "file_extension": ".py",
   "mimetype": "text/x-python",
   "name": "python",
   "nbconvert_exporter": "python",
   "pygments_lexer": "ipython3",
   "version": "3.10.7"
  }
 },
 "nbformat": 4,
 "nbformat_minor": 5
}
