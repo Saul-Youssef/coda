{
 "cells": [
  {
   "cell_type": "markdown",
   "id": "6e362ba0-41fd-4632-9a20-eaff991a269a",
   "metadata": {},
   "source": [
    "## Spaces \n",
    "\n",
    "Data A is a **space** if \n",
    "\n",
    "* A X : Y Z = A : (A X : Y) (A X : Z)\n",
    "* A X Y : Z = A X : A Y : Z \n",
    "\n",
    "for all data X, Y and Z.  A space A is **simple** if A X : Y = A : Y, so \n",
    "\n",
    "* A : Y Z = A : (A : Y) (A : Z)\n",
    "* A : Y = A : A : Y \n",
    "\n",
    "for all Y, Z.  "
   ]
  },
  {
   "cell_type": "code",
   "execution_count": 1,
   "id": "fb66dadc-e33e-4701-a732-8112b132c026",
   "metadata": {},
   "outputs": [
    {
     "name": "stdout",
     "output_type": "stream",
     "text": []
    }
   ],
   "source": [
    "#\n",
    "#   Prepare some samples for testing purposes \n",
    "#   \n",
    "#   S1: hydrogen atoms\n",
    "#   S2: more general atoms mix \n",
    "#   S3: pure data mix\n",
    "#   S4: mix with operators and language.\n",
    "#\n",
    "Let S1 : sample.atom : 5\n",
    "Let S2 : permutation 3 : a b 0 1 \n",
    "Let S3 : sample.pure : 2 2 \n",
    "Let S4 : sample.data <A> <B> <{$}> 0 1 a b (defs:Basic) : 2 2 \n"
   ]
  },
  {
   "cell_type": "code",
   "execution_count": 2,
   "id": "98c18c98-94a9-4555-9b46-f5b053670fbd",
   "metadata": {},
   "outputs": [
    {
     "name": "stdout",
     "output_type": "stream",
     "text": []
    }
   ],
   "source": [
    "Def P : rep | "
   ]
  },
  {
   "cell_type": "code",
   "execution_count": 6,
   "id": "9bec5128-775f-4ad1-979e-1d16a3d273ee",
   "metadata": {},
   "outputs": [
    {
     "name": "stdout",
     "output_type": "stream",
     "text": [
      "(with:| | | | | | | | | | | | | | | | | | | | | | | | | | | | | | | | | | | | | | | | | | | | | | | | | | | | | | | | | | | | | | | | | | | | | | | | | | | | | | | | | | | | | | | | | | | | | | | | | | | | | | | | | | | | | | | | | | | | | | | | | | | | | | | | | | | | | | | | | | | | | | | | | | | | | | | | | | | | | | | | | | | | | | | | | | | | | | | | | | | | | | | | | | | | | | | | |)"
     ]
    }
   ],
   "source": [
    "eval 500 : with : P : S1? S2? S3? S4?"
   ]
  },
  {
   "cell_type": "code",
   "execution_count": 4,
   "id": "afe9245d-1505-4467-8877-bb159e6357c2",
   "metadata": {},
   "outputs": [
    {
     "name": "stdout",
     "output_type": "stream",
     "text": [
      "0"
     ]
    }
   ],
   "source": [
    "count : ((P:(P:S1?) (P:S2?))=(P:S1? S2?))"
   ]
  },
  {
   "cell_type": "code",
   "execution_count": null,
   "id": "363933b6-6d19-4a46-82d9-bb1efb05d9f4",
   "metadata": {},
   "outputs": [],
   "source": []
  }
 ],
 "metadata": {
  "kernelspec": {
   "display_name": "coda",
   "language": "",
   "name": "coda"
  },
  "language_info": {
   "file_extension": ".co",
   "mimetype": "text/plain",
   "name": "Any text"
  }
 },
 "nbformat": 4,
 "nbformat_minor": 5
}
