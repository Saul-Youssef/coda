{
 "cells": [
  {
   "cell_type": "markdown",
   "id": "461b9b8f-296c-495e-8ec9-2283d950e96d",
   "metadata": {},
   "source": [
    "## Length is a space\n",
    "\n",
    "If A is some data, we define the *length* of A to be the number of atoms in A, so \n",
    "\n",
    "length : (length : A) (length : B) = length : A B \n",
    "\n",
    "Meaning that length is a space.\n",
    "\n",
    "Let's work this out as a simple example."
   ]
  },
  {
   "cell_type": "code",
   "execution_count": 1,
   "id": "b6f9a65b-8d1a-4081-b55a-ba5b39c40959",
   "metadata": {},
   "outputs": [
    {
     "name": "stdout",
     "output_type": "stream",
     "text": []
    }
   ],
   "source": [
    "#\n",
    "#   \n",
    "def len:  \n",
    "let type len: {some (has len:B) : (ap put len : ap one : B)} \n",
    "let sum  len: {put len : aps int_add : pre 0 : get len : B} "
   ]
  },
  {
   "cell_type": "code",
   "execution_count": 2,
   "id": "1ec37d1b-a6a9-4c88-96e5-359d45a49619",
   "metadata": {},
   "outputs": [
    {
     "name": "stdout",
     "output_type": "stream",
     "text": [
      "(len:1) (len:1) (len:1) (len:1) (len:1) (len:1) (len:1) (len:1)"
     ]
    }
   ],
   "source": [
    "type len : a b b ab ab ab a b"
   ]
  },
  {
   "cell_type": "code",
   "execution_count": 3,
   "id": "e6c0d47f-a219-4e40-b261-69743ae314a5",
   "metadata": {},
   "outputs": [
    {
     "name": "stdout",
     "output_type": "stream",
     "text": [
      "(len:3)"
     ]
    }
   ],
   "source": [
    "sum len : type len : a b a "
   ]
  },
  {
   "cell_type": "code",
   "execution_count": 4,
   "id": "e0157057-0abb-429a-8e80-5a11c445eba0",
   "metadata": {},
   "outputs": [
    {
     "name": "stdout",
     "output_type": "stream",
     "text": []
    }
   ],
   "source": [
    "let a : (:) \n",
    "let 0 : ((:):)\n",
    "let 1 : ((:):(:))"
   ]
  },
  {
   "cell_type": "code",
   "execution_count": 5,
   "id": "23c75e4c-63af-4c73-bff8-8062643b2e13",
   "metadata": {},
   "outputs": [
    {
     "name": "stdout",
     "output_type": "stream",
     "text": [
      "(len:2)"
     ]
    }
   ],
   "source": [
    "sum len : type len : hello world"
   ]
  },
  {
   "cell_type": "code",
   "execution_count": 7,
   "id": "9f0a0d46-32a2-4f0b-a14e-58614464896d",
   "metadata": {},
   "outputs": [
    {
     "name": "stdout",
     "output_type": "stream",
     "text": [
      "(len:10)"
     ]
    }
   ],
   "source": [
    "sum len : type len : get 1? : hello world"
   ]
  },
  {
   "cell_type": "code",
   "execution_count": null,
   "id": "6c259e74-99f6-44e0-89c9-d51d5d125527",
   "metadata": {},
   "outputs": [],
   "source": []
  }
 ],
 "metadata": {
  "kernelspec": {
   "display_name": "coda",
   "language": "",
   "name": "coda"
  },
  "language_info": {
   "file_extension": ".co",
   "mimetype": "text/plain",
   "name": "Any text"
  }
 },
 "nbformat": 4,
 "nbformat_minor": 5
}
