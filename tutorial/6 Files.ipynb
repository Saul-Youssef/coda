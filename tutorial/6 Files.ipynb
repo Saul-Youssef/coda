{
 "cells": [
  {
   "cell_type": "markdown",
   "id": "f42511f5-b41f-421b-8101-2eb0c0aa37ed",
   "metadata": {},
   "source": [
    "## Reading and writing data to files"
   ]
  },
  {
   "cell_type": "code",
   "execution_count": 1,
   "id": "fe06d64b-ee94-4c2f-af6a-592f3e51f9d0",
   "metadata": {},
   "outputs": [
    {
     "name": "stdout",
     "output_type": "stream",
     "text": [
      "(out file1:a b c)"
     ]
    }
   ],
   "source": [
    "out file1 : a b c "
   ]
  },
  {
   "cell_type": "code",
   "execution_count": 2,
   "id": "e7f88924-db3e-4620-a1ba-ef7c2814233e",
   "metadata": {},
   "outputs": [
    {
     "name": "stdout",
     "output_type": "stream",
     "text": [
      "(in:file1)"
     ]
    }
   ],
   "source": [
    "in : file1 "
   ]
  },
  {
   "cell_type": "code",
   "execution_count": 3,
   "id": "236ae557-7898-4ed1-8c25-7d3f9b8d3283",
   "metadata": {},
   "outputs": [
    {
     "name": "stdout",
     "output_type": "stream",
     "text": [
      "(out file2:a b c = Def Let ab allcodes alphabet and ap apby aq ar arg as assign bin bool by cache.clear cache.reset cases co coda codes collect const count d2s def defaultTime defs demo digits dir do do1 dom domain domulti down down1 endswith equal equiv eval first float_div float_inv float_max float_min float_prod float_sort float_sum floats get has hasnt head help home if iff imply import info int_div int_inv int_max int_min int_prod int_sort int_sum ints is isnt join ker kernel language last left let letters localdef log logging logs module more multi name nand nat nat_max nat_min nat_prod nat_sort nat_sum nats nchar nif nor not nth nth1 null once or pass pause permutation plus post pre printable prod pure put read readpath rep rev right ring s2d sample.atom sample.data sample.even sample.odd sample.pure sample.window skip some source sources split star startswith stat stata step stick sum swap tab tail term text_sort theorem uni up up1 use use1 with wrap write xnor xor ◎ 𝝞 𝟬 0 1 2 3 4 5 6 7 8 9 10 11 12 13 14 15 16 17 18 19 20 21 22 23 24 25 26 27 28 29 30 31 32 33 34 35 36 37 38 39 40 41 42 43 44 45 46 47 48 49 50 51 52 53 54 55 56 57 58 59 60 61 62 63 64 65 66 67 68 69 70 71 72 73 74 75 76 77 78 79 80 81 82 83 84 85 86 87 88 89 90 91 92 93 94 95 96 97 98 99 100 101 102 103 104 105 106 107 108 109 110 111 112 113 114 115 116 117 118 119 120 121 122 123 124 125 126 127 128 129 130 131 132 133 134 135 136 137 138 139 140 141 142 143 144 145 146 147 148 149 150 151 152 153 154 155 156 157 158 159 160 161 162 163 164 165 166 167 168 169 170 171 172 173 174 175 176 177 178 179 180 181 182 183 184 185 186 187 188 189 190 191 192 193 194 195 196 197 198 199 200 201 202 203 204 205 206 207 208 209 210 211 212 213 214 215 216 217 218 219 220 221 222 223 224 225 226 227 228 229 230 231 232 233 234 235 236 237 238 239 240 241 242 243 244 245 246 (nat:247))"
     ]
    }
   ],
   "source": [
    "out file2 : a b c (defs:) (nat:0)"
   ]
  },
  {
   "cell_type": "code",
   "execution_count": 4,
   "id": "01c30ff1-e0b3-4e6d-94ed-3f0f4ba708a7",
   "metadata": {},
   "outputs": [
    {
     "name": "stdout",
     "output_type": "stream",
     "text": [
      "(in:file2)"
     ]
    }
   ],
   "source": [
    "in : file2 "
   ]
  },
  {
   "cell_type": "markdown",
   "id": "fcaab325-2670-4c1a-a1ec-b68b751dd3c6",
   "metadata": {},
   "source": [
    "## Operations related to the operating system"
   ]
  },
  {
   "cell_type": "code",
   "execution_count": 5,
   "id": "5e3c39ae-edfe-499f-ab28-5023629ba822",
   "metadata": {},
   "outputs": [
    {
     "name": "stdout",
     "output_type": "stream",
     "text": [
      "/Users/youssef/coda/tutorial/5 Equivalence.ipynb /Users/youssef/coda/tutorial/6 Files.ipynb /Users/youssef/coda/tutorial/7 Evaluation.ipynb /Users/youssef/coda/tutorial/2 Bits and bytes.ipynb /Users/youssef/coda/tutorial/3 Logic.ipynb /Users/youssef/coda/tutorial/8 Sample.ipynb /Users/youssef/coda/tutorial/.ipynb_checkpoints /Users/youssef/coda/tutorial/4 Number.ipynb /Users/youssef/coda/tutorial/1 Language.ipynb"
     ]
    }
   ],
   "source": [
    "dir : ."
   ]
  },
  {
   "cell_type": "code",
   "execution_count": 6,
   "id": "d6aec8ac-c3e5-4409-aba7-dbe9e6ae65d1",
   "metadata": {},
   "outputs": [
    {
     "name": "stdout",
     "output_type": "stream",
     "text": [
      "/Users/youssef/.config /Users/youssef/coda.sav.14 /Users/youssef/Music /Users/youssef/coda.sav.13 /Users/youssef/Home /Users/youssef/.serverauth.4682 /Users/youssef/.condarc /Users/youssef/.serverauth.2984 /Users/youssef/.serverauth.489 /Users/youssef/.x2go /Users/youssef/coda.sav.12 /Users/youssef/coda.sav.15 /Users/youssef/.coda-sav /Users/youssef/coda.sus.1 /Users/youssef/.serverauth.361 /Users/youssef/.DS_Store /Users/youssef/.serverauth.366 /Users/youssef/.serverauth.1027 /Users/youssef/.CFUserTextEncoding /Users/youssef/.serverauth.3545 /Users/youssef/archive /Users/youssef/.serverauth.735 /Users/youssef/.xonshrc /Users/youssef/.serverauth.562 /Users/youssef/.bashrc /Users/youssef/.zshrc /Users/youssef/.serverauth.3790 /Users/youssef/.serverauth.3964 /Users/youssef/Pictures /Users/youssef/.serverauth.4974 /Users/youssef/.atom /Users/youssef/.zprofile /Users/youssef/.serverauth.1467 /Users/youssef/coda.sav.7 /Users/youssef/coda.sav.9 /Users/youssef/.serverauth.606 /Users/youssef/.serverauth.9521 /Users/youssef/.zsh_history /Users/youssef/.ipython /Users/youssef/Desktop /Users/youssef/Library /Users/youssef/.serverauth.630 /Users/youssef/coda.sav /Users/youssef/coda.new.1 /Users/youssef/coda.sav.8 /Users/youssef/.lesshst /Users/youssef/coda.sav.6 /Users/youssef/.serverauth.1942 /Users/youssef/coda.sav.10 /Users/youssef/.serverauth.47714 /Users/youssef/coda.sav.17 /Users/youssef/.cups /Users/youssef/.coda /Users/youssef/.bash_sessions /Users/youssef/.serverauth.9766 /Users/youssef/coda.sav.16 /Users/youssef/.serverauth.470 /Users/youssef/.serverauth.828 /Users/youssef/Public /Users/youssef/coda.sav.11 /Users/youssef/.x2goclient /Users/youssef/.tcshrc /Users/youssef/work /Users/youssef/.anaconda /Users/youssef/ttt /Users/youssef/.ssh /Users/youssef/Movies /Users/youssef/Applications /Users/youssef/.serverauth.955 /Users/youssef/.serverauth.532 /Users/youssef/.serverauth.963 /Users/youssef/.Trash /Users/youssef/.serverauth.521 /Users/youssef/.jupyter /Users/youssef/.serverauth.517 /Users/youssef/.serverauth.2885 /Users/youssef/Documents /Users/youssef/.serverauth.48036 /Users/youssef/.bash_profile /Users/youssef/.Xauthority /Users/youssef/.serverauth.8911 /Users/youssef/Downloads /Users/youssef/.python_history /Users/youssef/tmp /Users/youssef/.continuum /Users/youssef/.cache /Users/youssef/.serverauth.7214 /Users/youssef/coda.sav.3 /Users/youssef/coda.sav.4 /Users/youssef/.serverauth.1940 /Users/youssef/coda /Users/youssef/.bash_history /Users/youssef/.viminfo /Users/youssef/.zsh_sessions /Users/youssef/.globus /Users/youssef/.serverauth.632 /Users/youssef/.conda /Users/youssef/coda.sav.5 /Users/youssef/.serverauth.659 /Users/youssef/.serverauth.5529 /Users/youssef/coda.sav.2"
     ]
    }
   ],
   "source": [
    "dir : ~"
   ]
  }
 ],
 "metadata": {
  "kernelspec": {
   "display_name": "coda",
   "language": "",
   "name": "coda"
  },
  "language_info": {
   "file_extension": ".co",
   "mimetype": "text/plain",
   "name": "Any text"
  }
 },
 "nbformat": 4,
 "nbformat_minor": 5
}
