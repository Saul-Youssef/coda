{
 "cells": [
  {
   "cell_type": "code",
   "execution_count": 1,
   "id": "27296b21-bcc1-4d5c-b582-cd25c4d183ae",
   "metadata": {},
   "outputs": [
    {
     "name": "stdout",
     "output_type": "stream",
     "text": []
    }
   ],
   "source": [
    "help : all"
   ]
  },
  {
   "cell_type": "code",
   "execution_count": 2,
   "id": "add518d0-20dc-40bf-9535-647c3860697e",
   "metadata": {},
   "outputs": [
    {
     "name": "stdout",
     "output_type": "stream",
     "text": [
      "= Def Let ab allcodes alphabet and ap apby aq ar arg as assign bin bool by cache.clear cache.reset cases co coda codes collect const count d2s def defaultTime defs demo digits dir do do1 dom domain domulti down down1 endswith equal equiv eval first float_div float_inv float_max float_min float_prod float_sort float_sum floats get has hasnt head help home if iff imply import info int_div int_inv int_max int_min int_prod int_sort int_sum ints is isnt join ker kernel language last left let letters localdef log logging logs module more multi name nand nat nat_max nat_min nat_prod nat_sort nat_sum nats nchar nif nor not nth nth1 null once or pass pause permutation plus post pre printable prod pure put read readpath rep rev right ring s2d sample.atom sample.data sample.even sample.odd sample.pure sample.window skip some source sources split star startswith stat stata step stick sum swap tab tail term text_sort theorem uni up up1 use use1 with wrap write xnor xor ◎ 𝝞 𝟬"
     ]
    }
   ],
   "source": [
    "defs:"
   ]
  },
  {
   "cell_type": "code",
   "execution_count": 3,
   "id": "617767af-1206-4efa-ba0e-cfaee01cfe99",
   "metadata": {},
   "outputs": [
    {
     "name": "stdout",
     "output_type": "stream",
     "text": [
      "\u001b[;1mcode:\u001b[0m\n",
      "    \u001b[34;7maq\u001b[0m\n",
      "\u001b[;1mmodule:\u001b[0m\n",
      "    Apply\n",
      "\u001b[;1msummary:\u001b[0m\n",
      "    Apply argument to input in various ways.\n",
      "\u001b[;1mdescription:\u001b[0m\n",
      "\u001b[;1mpath:\u001b[0m\n",
      "    /Users/youssef/coda/py/Apply.py\n",
      "\u001b[;1mdemos:\u001b[0m\n",
      "    1. \u001b[35;4map foo : 1 2 3\u001b[0m\n",
      "    2. \u001b[35;4map {bin : B} : 1 2 3\u001b[0m\n",
      "    3. \u001b[35;4map {first A : get bin : B} 2 : (bin:a b c d e) (bin:x y z)\u001b[0m\n",
      "    4. \u001b[35;4map bin a b c : 1 2 3\u001b[0m\n",
      "    5. \u001b[35;4maq bin a b c : 1 2 3\u001b[0m\n",
      "    6. \u001b[35;4mar bin a b c : 1 2 3\u001b[0m\n",
      "    7. \u001b[35;4mar {|} a b c : 1 2 3\u001b[0m\n",
      "    8. \u001b[35;4mas {int_sum : A B} : 1 2 3 4 5\u001b[0m\n",
      "    9. \u001b[35;4mas {int_prod : A B} : 1 2 3 4 5\u001b[0m\n",
      "    10. \u001b[35;4mas {int_prod : A B} :\u001b[0m\n",
      "    11. \u001b[35;4map {if (count:get bin:B)=2:B} : (bin:a b) (bin:a b c) (bin:x y) (bin:a b c d)\u001b[0m\n"
     ]
    }
   ],
   "source": [
    "help : aq"
   ]
  },
  {
   "cell_type": "code",
   "execution_count": 14,
   "id": "7dd38781-35a8-4487-97c5-43e6ab51a47e",
   "metadata": {},
   "outputs": [
    {
     "name": "stdout",
     "output_type": "stream",
     "text": [
      "(bin a:1 2 3) (bin b:1 2 3) (bin c:1 2 3)"
     ]
    }
   ],
   "source": [
    "demo as : 5"
   ]
  },
  {
   "cell_type": "code",
   "execution_count": null,
   "id": "16def741-8a88-43db-9292-435b8f94247d",
   "metadata": {},
   "outputs": [],
   "source": []
  }
 ],
 "metadata": {
  "kernelspec": {
   "display_name": "coda",
   "language": "",
   "name": "coda"
  },
  "language_info": {
   "file_extension": ".co",
   "mimetype": "text/plain",
   "name": "Any text"
  }
 },
 "nbformat": 4,
 "nbformat_minor": 5
}
