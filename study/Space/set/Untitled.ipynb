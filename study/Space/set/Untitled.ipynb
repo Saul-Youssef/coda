{
 "cells": [
  {
   "cell_type": "code",
   "execution_count": 2,
   "id": "b56cdf0e-e211-4440-8a32-374ad26f7969",
   "metadata": {},
   "outputs": [
    {
     "name": "stdout",
     "output_type": "stream",
     "text": [
      "a"
     ]
    }
   ],
   "source": [
    "first * (is a b c) : a a a b b b b "
   ]
  },
  {
   "cell_type": "code",
   "execution_count": 3,
   "id": "1b195a9b-8bd5-47f7-b7d3-a66d4fff0354",
   "metadata": {},
   "outputs": [
    {
     "name": "stdout",
     "output_type": "stream",
     "text": []
    }
   ],
   "source": [
    "Def S : first * (is a b c)"
   ]
  },
  {
   "cell_type": "code",
   "execution_count": 4,
   "id": "22078e01-8bee-420c-9658-186e7ed26e60",
   "metadata": {},
   "outputs": [
    {
     "name": "stdout",
     "output_type": "stream",
     "text": [
      "a"
     ]
    }
   ],
   "source": [
    "S: a b c "
   ]
  },
  {
   "cell_type": "code",
   "execution_count": 5,
   "id": "679df5e1-1346-4d1b-bb32-f33618c5c756",
   "metadata": {},
   "outputs": [
    {
     "name": "stdout",
     "output_type": "stream",
     "text": [
      "a"
     ]
    }
   ],
   "source": [
    "S : (S:a b) (S:c)"
   ]
  },
  {
   "cell_type": "code",
   "execution_count": 6,
   "id": "5cad68d4-d915-41bc-bd9b-7729b313b60e",
   "metadata": {},
   "outputs": [
    {
     "name": "stdout",
     "output_type": "stream",
     "text": []
    }
   ],
   "source": [
    "S :"
   ]
  },
  {
   "cell_type": "code",
   "execution_count": 9,
   "id": "7534eec0-5b70-4c48-8f67-30e5581ac68b",
   "metadata": {},
   "outputs": [
    {
     "name": "stdout",
     "output_type": "stream",
     "text": []
    }
   ],
   "source": [
    "fun (bin a:b) : (S:b)"
   ]
  },
  {
   "cell_type": "code",
   "execution_count": null,
   "id": "de679a72-082a-4ae9-b6c6-b6f49752ac28",
   "metadata": {},
   "outputs": [],
   "source": []
  }
 ],
 "metadata": {
  "kernelspec": {
   "display_name": "coda",
   "language": "",
   "name": "coda"
  },
  "language_info": {
   "file_extension": ".co",
   "mimetype": "text/plain",
   "name": "Any text"
  }
 },
 "nbformat": 4,
 "nbformat_minor": 5
}
