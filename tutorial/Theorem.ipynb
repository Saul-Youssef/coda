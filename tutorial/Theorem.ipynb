{
 "cells": [
  {
   "cell_type": "markdown",
   "id": "e9f67ed1-dabc-4225-9735-8dfe6293a1e5",
   "metadata": {},
   "source": [
    "## Theorem \n",
    "\n",
    "Data which is never false is called a **theorem**.  "
   ]
  },
  {
   "cell_type": "code",
   "execution_count": 1,
   "id": "c177a7ad-1107-41fe-b2aa-c8a4af03950d",
   "metadata": {},
   "outputs": [
    {
     "name": "stdout",
     "output_type": "stream",
     "text": [
      "◎ ◎ ◎ ◎ ◎"
     ]
    }
   ],
   "source": [
    "theorem (x?=(first 10:x?)) : sample.odd : 10"
   ]
  },
  {
   "cell_type": "code",
   "execution_count": 2,
   "id": "fa5c4980-28b9-4506-a41b-13c14b1b23b3",
   "metadata": {},
   "outputs": [
    {
     "name": "stdout",
     "output_type": "stream",
     "text": [
      "(:◎) (:◎ ◎ ◎) (:◎ ◎ ◎ ◎ ◎) (:◎ ◎ ◎ ◎ ◎ ◎ ◎) (:◎ ◎ ◎ ◎ ◎ ◎ ◎ ◎ ◎) (:◎ ◎ ◎ ◎ ◎ ◎ ◎ ◎ ◎ ◎ ◎) (:◎ ◎ ◎ ◎ ◎ ◎ ◎ ◎ ◎ ◎ ◎ ◎ ◎) (:◎ ◎ ◎ ◎ ◎ ◎ ◎ ◎ ◎ ◎ ◎ ◎ ◎ ◎ ◎) (:◎ ◎ ◎ ◎ ◎ ◎ ◎ ◎ ◎ ◎ ◎ ◎ ◎ ◎ ◎ ◎ ◎) (:◎ ◎ ◎ ◎ ◎ ◎ ◎ ◎ ◎ ◎ ◎ ◎ ◎ ◎ ◎ ◎ ◎ ◎ ◎) (:◎ ◎ ◎ ◎ ◎ ◎ ◎ ◎ ◎ ◎ ◎ ◎ ◎ ◎ ◎ ◎ ◎ ◎ ◎ ◎ ◎) (:◎ ◎ ◎ ◎ ◎ ◎ ◎ ◎ ◎ ◎ ◎ ◎ ◎ ◎ ◎ ◎ ◎ ◎ ◎ ◎ ◎ ◎ ◎) (:◎ ◎ ◎ ◎ ◎ ◎ ◎ ◎ ◎ ◎ ◎ ◎ ◎ ◎ ◎ ◎ ◎ ◎ ◎ ◎ ◎ ◎ ◎ ◎ ◎) (:◎ ◎ ◎ ◎ ◎ ◎ ◎ ◎ ◎ ◎ ◎ ◎ ◎ ◎ ◎ ◎ ◎ ◎ ◎ ◎ ◎ ◎ ◎ ◎ ◎ ◎ ◎) (:◎ ◎ ◎ ◎ ◎ ◎ ◎ ◎ ◎ ◎ ◎ ◎ ◎ ◎ ◎ ◎ ◎ ◎ ◎ ◎ ◎ ◎ ◎ ◎ ◎ ◎ ◎ ◎ ◎) (:◎ ◎ ◎ ◎ ◎ ◎ ◎ ◎ ◎ ◎ ◎ ◎ ◎ ◎ ◎ ◎ ◎ ◎ ◎ ◎ ◎ ◎ ◎ ◎ ◎ ◎ ◎ ◎ ◎ ◎ ◎) (:◎ ◎ ◎ ◎ ◎ ◎ ◎ ◎ ◎ ◎ ◎ ◎ ◎ ◎ ◎ ◎ ◎ ◎ ◎ ◎ ◎ ◎ ◎ ◎ ◎ ◎ ◎ ◎ ◎ ◎ ◎ ◎ ◎) (:◎ ◎ ◎ ◎ ◎ ◎ ◎ ◎ ◎ ◎ ◎ ◎ ◎ ◎ ◎ ◎ ◎ ◎ ◎ ◎ ◎ ◎ ◎ ◎ ◎ ◎ ◎ ◎ ◎ ◎ ◎ ◎ ◎ ◎ ◎) (:◎ ◎ ◎ ◎ ◎ ◎ ◎ ◎ ◎ ◎ ◎ ◎ ◎ ◎ ◎ ◎ ◎ ◎ ◎ ◎ ◎ ◎ ◎ ◎ ◎ ◎ ◎ ◎ ◎ ◎ ◎ ◎ ◎ ◎ ◎ ◎ ◎) (:◎ ◎ ◎ ◎ ◎ ◎ ◎ ◎ ◎ ◎ ◎ ◎ ◎ ◎ ◎ ◎ ◎ ◎ ◎ ◎ ◎ ◎ ◎ ◎ ◎ ◎ ◎ ◎ ◎ ◎ ◎ ◎ ◎ ◎ ◎ ◎ ◎ ◎ ◎)"
     ]
    }
   ],
   "source": [
    "sample.odd: 20 "
   ]
  },
  {
   "cell_type": "code",
   "execution_count": 3,
   "id": "13f3166f-5ee9-48d4-8e0b-181b8ecd75c4",
   "metadata": {},
   "outputs": [
    {
     "name": "stdout",
     "output_type": "stream",
     "text": []
    }
   ],
   "source": [
    "theorem (x?=x?) : (sample.odd:10) (sample.even:10) (sample.pure:1 1)"
   ]
  },
  {
   "cell_type": "code",
   "execution_count": 4,
   "id": "9db9d2d0-699f-47eb-9bab-05796f2097bc",
   "metadata": {},
   "outputs": [
    {
     "name": "stdout",
     "output_type": "stream",
     "text": [
      "◎ ◎ ◎ ◎ ◎ ◎ ◎"
     ]
    }
   ],
   "source": [
    "theorem (x?=(first 5:x?)) : (sample.pure : 2 2) (sample.odd:10)"
   ]
  },
  {
   "cell_type": "markdown",
   "id": "8c4fdad8-9e1a-4da5-9bdb-db8329dfe3d3",
   "metadata": {},
   "source": [
    "For example, let's address the following issue: \n",
    "\n",
    "* is int_max a space?\n",
    "\n"
   ]
  },
  {
   "cell_type": "code",
   "execution_count": 5,
   "id": "1bdb18a9-cdba-4e6c-ab5d-2a8913a9d234",
   "metadata": {},
   "outputs": [
    {
     "name": "stdout",
     "output_type": "stream",
     "text": []
    }
   ],
   "source": [
    "def idempotent : { (B : B : x?) = (B : x?) } "
   ]
  },
  {
   "cell_type": "markdown",
   "id": "f6e99b8a-ea0d-4c1c-bc0c-a9946f482ff1",
   "metadata": {},
   "source": [
    "Is idempotent : int_max a theorem?  "
   ]
  },
  {
   "cell_type": "code",
   "execution_count": 6,
   "id": "bbfbe02f-5662-450f-b6f7-f4f722662f94",
   "metadata": {},
   "outputs": [
    {
     "name": "stdout",
     "output_type": "stream",
     "text": []
    }
   ],
   "source": [
    "let thm : idempotent:int_max "
   ]
  },
  {
   "cell_type": "code",
   "execution_count": 7,
   "id": "a24179b2-4aea-4479-bf64-5e9a88c0b2ee",
   "metadata": {},
   "outputs": [
    {
     "name": "stdout",
     "output_type": "stream",
     "text": []
    }
   ],
   "source": [
    "theorem thm? : put : 1 2 3 4 5 "
   ]
  },
  {
   "cell_type": "code",
   "execution_count": 8,
   "id": "779ce5b8-e886-41a7-a128-632f6fe9393a",
   "metadata": {},
   "outputs": [
    {
     "name": "stdout",
     "output_type": "stream",
     "text": []
    }
   ],
   "source": [
    "theorem thm? : ap sample.even sample.odd : 5"
   ]
  },
  {
   "cell_type": "code",
   "execution_count": 9,
   "id": "e3d1d20a-cf3e-4e0e-85d8-3007bf716b20",
   "metadata": {},
   "outputs": [
    {
     "name": "stdout",
     "output_type": "stream",
     "text": [
      "(:b a) (:a b) ◎ (:a) (:a a) (:b b) (:b)"
     ]
    }
   ],
   "source": [
    "sample.data a b : 3 "
   ]
  },
  {
   "cell_type": "code",
   "execution_count": 10,
   "id": "bfac3d11-6eb9-4327-9688-71d1b4e1a244",
   "metadata": {},
   "outputs": [
    {
     "name": "stdout",
     "output_type": "stream",
     "text": []
    }
   ],
   "source": [
    "let sample : sample.data <A> <B> <{$}> (defs:Apply Basic Logic Number Sequence) : 2 "
   ]
  },
  {
   "cell_type": "code",
   "execution_count": 11,
   "id": "dfc15b02-89dd-4019-a3be-dc31ebcf3cc8",
   "metadata": {
    "collapsed": true,
    "jupyter": {
     "outputs_hidden": true
    },
    "tags": []
   },
   "outputs": [
    {
     "name": "stdout",
     "output_type": "stream",
     "text": [
      "(:{B : int_inv}) (:{mor B}) (:{B : hasnt}) (:int_sort) (:{some B}) (:{ints : B}) (:{bin : B}) (:{B : int_div}) (:{B : while}) (:iff) (:{iff B}) (:{B tail}) (:nth1) (:once) (:{B float_sum}) (:{by B}) (:{xnor B}) (:{B domain}) (:{B : tail}) (:left) (:{right B}) (:{B *}) (:{B : nor}) (:{has : B}) (:if) (:{B ax}) (:int_sum) (:{int_inv B}) (:{B : int_max}) (:ax) (:{B kernel}) (:{B : some}) (:{B float_max}) (:{int_prod B}) (:{ints B}) (:A) (:{B : null}) (:{rev B}) (:rep) (:{B nif}) (:{once : B}) (:has) (:{B ker}) (:{floats B}) (:{B : xnor}) (:{get : B}) (:{int_min : B}) (:{nats B}) (:{B rep}) (:{tail : B}) (:{float_sort B}) (:{in B}) (:{B : put}) (:{B : ax}) (:domain) (:{int_max B}) (:float_inv) (:count) (:{kernel : B}) (:float_max) (:{B ints}) (:{B while}) (:{float_prod : B}) (:{nif B}) (:nand) (:put) (:{int_sort B}) ◎ (:{float_prod B}) (:{isnt : B}) (:{bool B}) (:{B not}) (:{nif : B}) (:{nor B}) (:{rep B}) (:{first B}) (:{B : once}) (:{is : B}) (:{ker B}) (:{last B}) (:{B post}) (:hasnt) (:float_min) (:{not B}) (:{kernel B}) (:{B : float_div}) (:{nand : B}) (:{B : rev}) (:{= B}) (:{nth B}) (:{B by}) (:{B has}) (:{B int_sort}) (:{B : *}) (:{equal : B}) (:{B nats}) (:{put B}) (:{post B}) (:{B : float_max}) (:{A : B}) (:{domain : B}) (:{rev : B}) (:{xor B}) (:{tail B}) (:{float_min : B}) (:int_max) (:{B : int_min}) (:{B : pre}) (:get) (:*) (:{rep : B}) (:{nth1 B}) (:{xnor : B}) (:{hasnt : B}) (:{float_max : B}) (:in) (:{float_sum : B}) (:{B rev}) (:{floats : B}) (:{and B}) (:{B int_sum}) (:{get B}) (:{float_sum B}) (:{post : B}) (:{B float_min}) (:{B or}) (:{first : B}) (:{once B}) (:{B if}) (:{has B}) (:{B : bin}) (:{hasnt B}) (:{B : has}) (:kernel) (:{B int_prod}) (:{B : right}) (:{pass B}) (:{B once}) (:{B : ap}) (:{aq : B}) (:{B left}) (:int_inv) (:{B bool}) (:{aq B}) (:{nats : B}) (:{ax B}) (:{right : B}) (:{B bin}) (:{B nat}) (:{B floats}) (:{not : B}) (:{count B}) (:{A B}) (:post) (:{int_div : B}) (:{some : B}) (:bin) (:{B : in}) (:{B : count}) (:{B : ints}) (:{B nor}) (:{int_sum : B}) (:{null : B}) (:{B : last}) (:{B : int_sort}) (:{B}) (:{B : kernel}) (:{imply B}) (:{int_sum B}) (:tail) (:{or B}) (:{B first}) (:{int_prod : B}) (:{ker : B}) (:{imply : B}) (:{B : left}) (:{isnt B}) (:{nor : B}) (:{B mor}) (:{B : isnt}) (:float_sort) (:{domain B}) (:{B : int_sum}) (:{and : B}) (:imply) (:{B : nth}) (:{B : aq}) (:{B get}) (:float_sum) (:{B : or}) (:{B xor}) (:{B : int_prod}) (:{B : nth1}) (:{B int_inv}) (:first) (:{float_inv : B}) (:{B : post}) (:right) (:float_prod) (:{B equal}) (:{ax : B}) (:{if : B}) (:{B nth1}) (:{B some}) (:{B last}) (:pre) (:xnor) (:{B iff}) (:last) (:{B : nif}) (:{B : A}) (:{B code_sort}) (:bool) (:{= : B}) (:{B : float_sum}) (:{by : B}) (:{bin B}) (:ap) (:{bool : B}) (:not) (:{float_inv B}) (:{count : B}) (:{B : domain}) (:{int_sort : B}) (:{B : mor}) (:{B ap}) (:isnt) (:ints) (:aq) (:{iff : B}) (:{xor : B}) (:{nand B}) (:{B : pass}) (:{B imply}) (:{B : and}) (:{B is}) (:{B : bool}) (:{ap : B}) (:{B : if}) (:{float_sort : B}) (:float_div) (:=) (:{B and}) (:{B : nat}) (:{B : float_sort}) (:{B put}) (:{pre : B}) (:{in : B}) (:floats) (:and) (:{B int_div}) (:{B : imply}) (:{B : nand}) (:{B aq}) (:{nth1 : B}) (:{B : code_sort}) (:ker) (:{B : =}) (:{B hasnt}) (:{* : B}) (:{B nth}) (:{code_sort : B}) (:mor) (:{B : ker}) (:{B float_inv}) (:{ap B}) (:{B right}) (:{B : floats}) (:{B pre}) (:{B : get}) (:is) (:{code_sort B}) (:{B : equal}) (:{B A}) (:{float_min B}) (:pass) (:{equal B}) (:{B xnor}) (:{int_min B}) (:{B : iff}) (:{B int_max}) (:{B float_sort}) (:{null B}) (:nif) (:{is B}) (:by) (:{if B}) (:{B null}) (:{B : not}) (:{or : B}) (:{* B}) (:{float_div B}) (:some) (:{B isnt}) (:{nat : B}) (:int_min) (:rev) (:{mor : B}) (:{B : float_inv}) (:{B count}) (:{nat B}) (:{B : by}) (:nth) (:null) (:or) (:{int_inv : B}) (:{B : float_prod}) (:{pre B}) (:{B : xor}) (:nat) (:{left : B}) (:B) (:int_div) (:{nth : B}) (:nor) (:{B : is}) (:{B nand}) (:{B : first}) (:{B : nats}) (:{pass : B}) (:equal) (:{float_div : B}) (:{left B}) (:{float_max B}) (:code_sort) (:while) (:{B : rep}) (:xor) (:{B float_div}) (:{B float_prod}) (:{B =}) (:{B int_min}) (:{int_max : B}) (:{B : float_min}) (:{while B}) (:{int_div B}) (:{put : B}) (:nats) (:{B in}) (:int_prod) (:{last : B}) (:{B pass}) (:{while : B})"
     ]
    }
   ],
   "source": [
    "sample?"
   ]
  },
  {
   "cell_type": "code",
   "execution_count": 12,
   "id": "6aa8be00-a2ca-4ec9-8370-4ff691f76766",
   "metadata": {},
   "outputs": [
    {
     "name": "stdout",
     "output_type": "stream",
     "text": []
    }
   ],
   "source": [
    "theorem thm? : sample?"
   ]
  },
  {
   "cell_type": "code",
   "execution_count": 13,
   "id": "5bf2cc77-bfb4-4be6-83c9-a98900da8b0c",
   "metadata": {},
   "outputs": [
    {
     "name": "stdout",
     "output_type": "stream",
     "text": [
      "343"
     ]
    }
   ],
   "source": [
    "count : sample?"
   ]
  },
  {
   "cell_type": "code",
   "execution_count": 14,
   "id": "45519abf-14be-4706-91aa-ef378bbf67af",
   "metadata": {},
   "outputs": [
    {
     "name": "stdout",
     "output_type": "stream",
     "text": [
      "42778"
     ]
    }
   ],
   "source": [
    "let sample2 : sample.data <A> <B> <{$}> (defs:Apply Basic Logic Number Sequence) : 3 \n",
    "count : sample2?"
   ]
  },
  {
   "cell_type": "code",
   "execution_count": null,
   "id": "b1acf544-f73f-498d-a08f-31f1d8f2094d",
   "metadata": {},
   "outputs": [],
   "source": []
  }
 ],
 "metadata": {
  "kernelspec": {
   "display_name": "coda",
   "language": "",
   "name": "coda"
  },
  "language_info": {
   "file_extension": ".co",
   "mimetype": "text/plain",
   "name": "Any text"
  }
 },
 "nbformat": 4,
 "nbformat_minor": 5
}
