{
 "cells": [
  {
   "cell_type": "code",
   "execution_count": 3,
   "id": "a60f4d92-ca5b-4d95-83a5-6b2e7d9faf47",
   "metadata": {},
   "outputs": [
    {
     "name": "stdout",
     "output_type": "stream",
     "text": []
    }
   ],
   "source": [
    "import : endswith Classify.co : dir co : ."
   ]
  },
  {
   "cell_type": "code",
   "execution_count": 4,
   "id": "2184ead2-70cb-4e6b-90ed-e897c342c44b",
   "metadata": {},
   "outputs": [
    {
     "name": "stdout",
     "output_type": "stream",
     "text": [
      "(bin 1:(:null)) (bin 2:(:pass) (:first 100))"
     ]
    }
   ],
   "source": [
    "classify (permutation 3:|) : (:null) (:pass) (:first 100) "
   ]
  },
  {
   "cell_type": "code",
   "execution_count": null,
   "id": "24fce2a2-3483-4d7f-bef1-b10908c9710e",
   "metadata": {},
   "outputs": [],
   "source": []
  }
 ],
 "metadata": {
  "kernelspec": {
   "display_name": "coda",
   "language": "",
   "name": "coda"
  },
  "language_info": {
   "file_extension": ".co",
   "mimetype": "text/plain",
   "name": "Any text"
  }
 },
 "nbformat": 4,
 "nbformat_minor": 5
}
