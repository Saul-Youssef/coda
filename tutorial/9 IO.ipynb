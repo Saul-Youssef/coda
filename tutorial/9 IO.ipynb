{
 "cells": [
  {
   "cell_type": "code",
   "execution_count": 1,
   "id": "f7dfb28d-7bc1-4aed-9d84-00618d2afbad",
   "metadata": {},
   "outputs": [
    {
     "name": "stdout",
     "output_type": "stream",
     "text": []
    }
   ],
   "source": [
    "help : IO"
   ]
  },
  {
   "cell_type": "code",
   "execution_count": 2,
   "id": "862983fe-28fb-45e9-a606-70e2907cbefa",
   "metadata": {},
   "outputs": [
    {
     "name": "stdout",
     "output_type": "stream",
     "text": [
      "1"
     ]
    }
   ],
   "source": [
    "depth : (:)"
   ]
  },
  {
   "cell_type": "code",
   "execution_count": 3,
   "id": "d31a2f37-fa4f-4221-a4fb-1788a7235aac",
   "metadata": {},
   "outputs": [
    {
     "name": "stdout",
     "output_type": "stream",
     "text": [
      "\u001b[;1mcode:\u001b[0m\n",
      "    \u001b[34;7mwrite\u001b[0m\n",
      "\u001b[;1mmodule:\u001b[0m\n",
      "    IO\n",
      "\u001b[;1msummary:\u001b[0m\n",
      "    Write input to argument specified file\n",
      "\u001b[;1mdescription:\u001b[0m\n",
      "    write file1 : a b c\n",
      "    read : file1\n",
      "    write file2 : nat : 0\n",
      "    read : file1 file2\n",
      "\u001b[;1mpath:\u001b[0m\n",
      "    /Users/youssef/coda/py/IO.py\n",
      "\u001b[;1mdemos:\u001b[0m\n"
     ]
    }
   ],
   "source": [
    "help : write"
   ]
  },
  {
   "cell_type": "code",
   "execution_count": 4,
   "id": "1e015203-744f-4611-b1d4-0630ed64d508",
   "metadata": {},
   "outputs": [
    {
     "name": "stdout",
     "output_type": "stream",
     "text": []
    }
   ],
   "source": [
    "write file1 : a b c "
   ]
  },
  {
   "cell_type": "code",
   "execution_count": 7,
   "id": "d8ccc5c0-d12b-4a5c-a657-9bc3d1869e87",
   "metadata": {},
   "outputs": [
    {
     "name": "stdout",
     "output_type": "stream",
     "text": [
      "a b c"
     ]
    }
   ],
   "source": [
    "read : file1 "
   ]
  },
  {
   "cell_type": "code",
   "execution_count": 6,
   "id": "247b7b12-85d1-4b95-98d8-4350293fbdcf",
   "metadata": {},
   "outputs": [
    {
     "name": "stdout",
     "output_type": "stream",
     "text": [
      " /Users/youssef/coda/tutorial/5 Equivalence.ipynb \n",
      " /Users/youssef/coda/tutorial/6 Files.ipynb \n",
      " /Users/youssef/coda/tutorial/7 Evaluation.ipynb \n",
      " /Users/youssef/coda/tutorial/9 IO.ipynb \n",
      " /Users/youssef/coda/tutorial/2 Bits and bytes.ipynb \n",
      " /Users/youssef/coda/tutorial/3 Logic.ipynb \n",
      " /Users/youssef/coda/tutorial/file1 \n",
      " /Users/youssef/coda/tutorial/8 Sample.ipynb \n",
      " /Users/youssef/coda/tutorial/.ipynb_checkpoints \n",
      " /Users/youssef/coda/tutorial/4 Number.ipynb \n",
      " /Users/youssef/coda/tutorial/1 Language.ipynb \n"
     ]
    }
   ],
   "source": [
    "tab :dir : ."
   ]
  },
  {
   "cell_type": "code",
   "execution_count": 8,
   "id": "b23abd2a-fc65-41c7-b6e4-bf413a7e8cf1",
   "metadata": {},
   "outputs": [
    {
     "name": "stdout",
     "output_type": "stream",
     "text": []
    }
   ],
   "source": [
    "help : remove"
   ]
  },
  {
   "cell_type": "code",
   "execution_count": null,
   "id": "d08a4420-50e8-448f-89d5-01f50915fd5f",
   "metadata": {},
   "outputs": [],
   "source": []
  }
 ],
 "metadata": {
  "kernelspec": {
   "display_name": "coda",
   "language": "",
   "name": "coda"
  },
  "language_info": {
   "file_extension": ".co",
   "mimetype": "text/plain",
   "name": "Any text"
  }
 },
 "nbformat": 4,
 "nbformat_minor": 5
}
