{
 "cells": [
  {
   "cell_type": "code",
   "execution_count": 1,
   "id": "bda7ff20-e8d2-414c-a44a-2f1e25ec9c42",
   "metadata": {},
   "outputs": [],
   "source": [
    "from start import * \n",
    "from Set import Set,eval100\n",
    "from Compile import compile \n",
    "from Theorem import theorem \n",
    "import Sample,Evaluate\n",
    "\n",
    "DOMAIN = Sample.Domain(*Sample.codas)\n",
    "TINY = Set(*[data(c) for c in Sample.codas])\n",
    "S21 = Set(*DOMAIN.window(2,1))\n",
    "S31 = Set(*DOMAIN.window(3,1))\n",
    "PURE = Sample.pure(2,2)\n",
    "#S41 = Set.Set(*DOMAIN.window(4,1))\n",
    "#\n",
    "#     The evaluation depth is controlled by these \n",
    "#\n",
    "#e10   = Set.eval10\n",
    "e100  = eval100  \n",
    "#e1000 = Set.eval1000  "
   ]
  },
  {
   "cell_type": "code",
   "execution_count": 3,
   "id": "f7da62af-f04b-40f8-9dce-4026efe45923",
   "metadata": {},
   "outputs": [
    {
     "name": "stdout",
     "output_type": "stream",
     "text": [
      "𝟬\n",
      "imply null\n",
      "count (?:Z)\n",
      "has1 tail\n",
      "has1 int_min\n",
      "int_div reduce\n",
      "= null\n",
      "not equal\n",
      "not apby\n",
      "domain int1\n"
     ]
    }
   ],
   "source": [
    "for s in S21.sample(10): print(s)"
   ]
  },
  {
   "cell_type": "code",
   "execution_count": 4,
   "id": "8fbaf058-1a0c-4a42-b0b9-de9f92835aad",
   "metadata": {},
   "outputs": [],
   "source": [
    "SPACE = compile('Space')"
   ]
  },
  {
   "cell_type": "code",
   "execution_count": 10,
   "id": "fac82e3f-eee0-4981-bb71-921342d54d0e",
   "metadata": {},
   "outputs": [
    {
     "name": "stdout",
     "output_type": "stream",
     "text": [
      "(= (a:(a:(?:X)) (a:(?:Y))):(a:(?:X) (?:Y)))\n"
     ]
    }
   ],
   "source": [
    "print(Evaluate.default(data(SPACE|da('a'))))"
   ]
  },
  {
   "cell_type": "code",
   "execution_count": 12,
   "id": "5bd72fe9-4bf9-42b9-958f-e0d9bb36781e",
   "metadata": {},
   "outputs": [
    {
     "ename": "KeyboardInterrupt",
     "evalue": "",
     "output_type": "error",
     "traceback": [
      "\u001b[0;31m---------------------------------------------------------------------------\u001b[0m",
      "\u001b[0;31mKeyboardInterrupt\u001b[0m                         Traceback (most recent call last)",
      "Cell \u001b[0;32mIn[12], line 1\u001b[0m\n\u001b[0;32m----> 1\u001b[0m sub \u001b[38;5;241m=\u001b[39m \u001b[43mS21\u001b[49m\u001b[38;5;241;43m.\u001b[39;49m\u001b[43mproperty\u001b[49m\u001b[43m(\u001b[49m\u001b[43mSPACE\u001b[49m\u001b[43m,\u001b[49m\u001b[43mSample\u001b[49m\u001b[38;5;241;43m.\u001b[39;49m\u001b[43mAtoms\u001b[49m\u001b[43m(\u001b[49m\u001b[38;5;241;43m3\u001b[39;49m\u001b[43m)\u001b[49m\u001b[43m)\u001b[49m\u001b[38;5;241m.\u001b[39mmultieval(e100)\n",
      "File \u001b[0;32m~/coda/py/Set.py:123\u001b[0m, in \u001b[0;36mSet.property\u001b[0;34m(self, P, X)\u001b[0m\n\u001b[1;32m    121\u001b[0m \u001b[38;5;28;01mdef\u001b[39;00m \u001b[38;5;21mproperty\u001b[39m(\u001b[38;5;28mself\u001b[39m,P,X):\n\u001b[1;32m    122\u001b[0m     sub \u001b[38;5;241m=\u001b[39m Subset()\n\u001b[0;32m--> 123\u001b[0m     \u001b[38;5;28;01mfor\u001b[39;00m s \u001b[38;5;129;01min\u001b[39;00m \u001b[38;5;28mself\u001b[39m: sub\u001b[38;5;241m.\u001b[39mset(s,\u001b[43mtheorem\u001b[49m\u001b[43m(\u001b[49m\u001b[43mdata\u001b[49m\u001b[43m(\u001b[49m\u001b[43mP\u001b[49m\u001b[38;5;241;43m|\u001b[39;49m\u001b[43ms\u001b[49m\u001b[43m)\u001b[49m\u001b[43m,\u001b[49m\u001b[43mX\u001b[49m\u001b[43m)\u001b[49m)\n\u001b[1;32m    124\u001b[0m     \u001b[38;5;28;01mreturn\u001b[39;00m sub\n",
      "File \u001b[0;32m~/coda/py/Theorem.py:9\u001b[0m, in \u001b[0;36mtheorem\u001b[0;34m(T, S)\u001b[0m\n\u001b[1;32m      7\u001b[0m \u001b[38;5;28;01mdef\u001b[39;00m \u001b[38;5;21mtheorem\u001b[39m(T,S):\n\u001b[1;32m      8\u001b[0m     \u001b[38;5;28;01mimport\u001b[39;00m \u001b[38;5;21;01mEvaluate\u001b[39;00m\n\u001b[0;32m----> 9\u001b[0m     T \u001b[38;5;241m=\u001b[39m \u001b[43mEvaluate\u001b[49m\u001b[38;5;241;43m.\u001b[39;49m\u001b[43mdefault\u001b[49m\u001b[43m(\u001b[49m\u001b[43mT\u001b[49m\u001b[43m)\u001b[49m\n\u001b[1;32m     10\u001b[0m     \u001b[38;5;28;01mif\u001b[39;00m \u001b[38;5;129;01mnot\u001b[39;00m T\u001b[38;5;241m.\u001b[39meval()\u001b[38;5;241m==\u001b[39mT: \u001b[38;5;28;01mreturn\u001b[39;00m\n\u001b[1;32m     11\u001b[0m     \u001b[38;5;28mvars\u001b[39m \u001b[38;5;241m=\u001b[39m variables(T)\n",
      "File \u001b[0;32m~/coda/py/Evaluate.py:24\u001b[0m, in \u001b[0;36mdefault\u001b[0;34m(D)\u001b[0m\n\u001b[0;32m---> 24\u001b[0m \u001b[38;5;28;01mdef\u001b[39;00m \u001b[38;5;21mdefault\u001b[39m(D): \u001b[38;5;28;01mreturn\u001b[39;00m \u001b[43mdepth\u001b[49m\u001b[43m(\u001b[49m\u001b[43mD\u001b[49m\u001b[43m,\u001b[49m\u001b[43mDEPTH\u001b[49m\u001b[43m)\u001b[49m[\u001b[38;5;241m0\u001b[39m]\n",
      "File \u001b[0;32m~/coda/py/Evaluate.py:12\u001b[0m, in \u001b[0;36mdepth\u001b[0;34m(D, n)\u001b[0m\n\u001b[1;32m     10\u001b[0m D2 \u001b[38;5;241m=\u001b[39m D\u001b[38;5;241m.\u001b[39meval()\n\u001b[1;32m     11\u001b[0m \u001b[38;5;28;01mif\u001b[39;00m D\u001b[38;5;241m==\u001b[39mD2: \u001b[38;5;28;01mreturn\u001b[39;00m D2,n\n\u001b[0;32m---> 12\u001b[0m \u001b[38;5;28;01mreturn\u001b[39;00m \u001b[43mdepth\u001b[49m\u001b[43m(\u001b[49m\u001b[43mD2\u001b[49m\u001b[43m,\u001b[49m\u001b[43mn\u001b[49m\u001b[38;5;241;43m-\u001b[39;49m\u001b[38;5;241;43m1\u001b[39;49m\u001b[43m)\u001b[49m\n",
      "File \u001b[0;32m~/coda/py/Evaluate.py:12\u001b[0m, in \u001b[0;36mdepth\u001b[0;34m(D, n)\u001b[0m\n\u001b[1;32m     10\u001b[0m D2 \u001b[38;5;241m=\u001b[39m D\u001b[38;5;241m.\u001b[39meval()\n\u001b[1;32m     11\u001b[0m \u001b[38;5;28;01mif\u001b[39;00m D\u001b[38;5;241m==\u001b[39mD2: \u001b[38;5;28;01mreturn\u001b[39;00m D2,n\n\u001b[0;32m---> 12\u001b[0m \u001b[38;5;28;01mreturn\u001b[39;00m \u001b[43mdepth\u001b[49m\u001b[43m(\u001b[49m\u001b[43mD2\u001b[49m\u001b[43m,\u001b[49m\u001b[43mn\u001b[49m\u001b[38;5;241;43m-\u001b[39;49m\u001b[38;5;241;43m1\u001b[39;49m\u001b[43m)\u001b[49m\n",
      "    \u001b[0;31m[... skipping similar frames: depth at line 12 (7 times)]\u001b[0m\n",
      "File \u001b[0;32m~/coda/py/Evaluate.py:12\u001b[0m, in \u001b[0;36mdepth\u001b[0;34m(D, n)\u001b[0m\n\u001b[1;32m     10\u001b[0m D2 \u001b[38;5;241m=\u001b[39m D\u001b[38;5;241m.\u001b[39meval()\n\u001b[1;32m     11\u001b[0m \u001b[38;5;28;01mif\u001b[39;00m D\u001b[38;5;241m==\u001b[39mD2: \u001b[38;5;28;01mreturn\u001b[39;00m D2,n\n\u001b[0;32m---> 12\u001b[0m \u001b[38;5;28;01mreturn\u001b[39;00m \u001b[43mdepth\u001b[49m\u001b[43m(\u001b[49m\u001b[43mD2\u001b[49m\u001b[43m,\u001b[49m\u001b[43mn\u001b[49m\u001b[38;5;241;43m-\u001b[39;49m\u001b[38;5;241;43m1\u001b[39;49m\u001b[43m)\u001b[49m\n",
      "File \u001b[0;32m~/coda/py/Evaluate.py:10\u001b[0m, in \u001b[0;36mdepth\u001b[0;34m(D, n)\u001b[0m\n\u001b[1;32m      8\u001b[0m     \u001b[38;5;28;01mreturn\u001b[39;00m D,n\n\u001b[1;32m      9\u001b[0m \u001b[38;5;28;01melse\u001b[39;00m:\n\u001b[0;32m---> 10\u001b[0m     D2 \u001b[38;5;241m=\u001b[39m \u001b[43mD\u001b[49m\u001b[38;5;241;43m.\u001b[39;49m\u001b[43meval\u001b[49m\u001b[43m(\u001b[49m\u001b[43m)\u001b[49m\n\u001b[1;32m     11\u001b[0m     \u001b[38;5;28;01mif\u001b[39;00m D\u001b[38;5;241m==\u001b[39mD2: \u001b[38;5;28;01mreturn\u001b[39;00m D2,n\n\u001b[1;32m     12\u001b[0m     \u001b[38;5;28;01mreturn\u001b[39;00m depth(D2,n\u001b[38;5;241m-\u001b[39m\u001b[38;5;241m1\u001b[39m)\n",
      "File \u001b[0;32m~/coda/py/base.py:44\u001b[0m, in \u001b[0;36mdata.eval\u001b[0;34m(self)\u001b[0m\n\u001b[0;32m---> 44\u001b[0m \u001b[38;5;28;01mdef\u001b[39;00m \u001b[38;5;21meval\u001b[39m(\u001b[38;5;28mself\u001b[39m): \u001b[38;5;28;01mreturn\u001b[39;00m \u001b[43mCACHE\u001b[49m\u001b[38;5;241;43m.\u001b[39;49m\u001b[43mdata\u001b[49m\u001b[43m(\u001b[49m\u001b[38;5;28;43mself\u001b[39;49m\u001b[43m,\u001b[49m\u001b[38;5;28;43;01mlambda\u001b[39;49;00m\u001b[43m \u001b[49m\u001b[38;5;28;43mself\u001b[39;49m\u001b[43m:\u001b[49m\u001b[43m \u001b[49m\u001b[38;5;28;43mself\u001b[39;49m\u001b[38;5;241;43m.\u001b[39;49m\u001b[43m_eval\u001b[49m\u001b[43m(\u001b[49m\u001b[43m)\u001b[49m\u001b[43m)\u001b[49m\n",
      "File \u001b[0;32m~/coda/py/base.py:144\u001b[0m, in \u001b[0;36mCache.data\u001b[0;34m(self, d, F)\u001b[0m\n\u001b[1;32m    143\u001b[0m \u001b[38;5;28;01mdef\u001b[39;00m \u001b[38;5;21mdata\u001b[39m(\u001b[38;5;28mself\u001b[39m,d,F):\n\u001b[0;32m--> 144\u001b[0m     \u001b[38;5;28;01mif\u001b[39;00m \u001b[38;5;28mself\u001b[39m\u001b[38;5;241m.\u001b[39m_off \u001b[38;5;129;01mor\u001b[39;00m \u001b[38;5;129;01mnot\u001b[39;00m d \u001b[38;5;129;01min\u001b[39;00m \u001b[38;5;28mself\u001b[39m\u001b[38;5;241m.\u001b[39m_data: \u001b[38;5;28mself\u001b[39m\u001b[38;5;241m.\u001b[39m_data[d] \u001b[38;5;241m=\u001b[39m data(\u001b[38;5;241m*\u001b[39m[c \u001b[38;5;28;01mfor\u001b[39;00m c \u001b[38;5;129;01min\u001b[39;00m \u001b[38;5;28mself\u001b[39m\u001b[38;5;241m.\u001b[39mexpand(\u001b[43mF\u001b[49m\u001b[43m(\u001b[49m\u001b[43md\u001b[49m\u001b[43m)\u001b[49m)])\n\u001b[1;32m    145\u001b[0m     \u001b[38;5;28;01mreturn\u001b[39;00m \u001b[38;5;28mself\u001b[39m\u001b[38;5;241m.\u001b[39m_data[d]\n",
      "File \u001b[0;32m~/coda/py/base.py:44\u001b[0m, in \u001b[0;36mdata.eval.<locals>.<lambda>\u001b[0;34m(self)\u001b[0m\n\u001b[0;32m---> 44\u001b[0m \u001b[38;5;28;01mdef\u001b[39;00m \u001b[38;5;21meval\u001b[39m(\u001b[38;5;28mself\u001b[39m): \u001b[38;5;28;01mreturn\u001b[39;00m CACHE\u001b[38;5;241m.\u001b[39mdata(\u001b[38;5;28mself\u001b[39m,\u001b[38;5;28;01mlambda\u001b[39;00m \u001b[38;5;28mself\u001b[39m: \u001b[38;5;28;43mself\u001b[39;49m\u001b[38;5;241;43m.\u001b[39;49m\u001b[43m_eval\u001b[49m\u001b[43m(\u001b[49m\u001b[43m)\u001b[49m)\n",
      "File \u001b[0;32m~/coda/py/base.py:48\u001b[0m, in \u001b[0;36mdata._eval\u001b[0;34m(self)\u001b[0m\n\u001b[1;32m     46\u001b[0m result \u001b[38;5;241m=\u001b[39m []\n\u001b[1;32m     47\u001b[0m \u001b[38;5;28;01mfor\u001b[39;00m c \u001b[38;5;129;01min\u001b[39;00m \u001b[38;5;28mself\u001b[39m:\n\u001b[0;32m---> 48\u001b[0m     \u001b[38;5;28;01mfor\u001b[39;00m d \u001b[38;5;129;01min\u001b[39;00m \u001b[43mc\u001b[49m\u001b[38;5;241;43m.\u001b[39;49m\u001b[43meval\u001b[49m\u001b[43m(\u001b[49m\u001b[43m)\u001b[49m: result\u001b[38;5;241m.\u001b[39mappend(d)\n\u001b[1;32m     49\u001b[0m \u001b[38;5;28;01mreturn\u001b[39;00m data(\u001b[38;5;241m*\u001b[39mresult)\n",
      "File \u001b[0;32m~/coda/py/base.py:78\u001b[0m, in \u001b[0;36mcoda.eval\u001b[0;34m(self)\u001b[0m\n\u001b[1;32m     76\u001b[0m \u001b[38;5;28;01mdef\u001b[39;00m \u001b[38;5;21meval\u001b[39m(\u001b[38;5;28mself\u001b[39m):\n\u001b[1;32m     77\u001b[0m     c \u001b[38;5;241m=\u001b[39m \u001b[38;5;28mself\u001b[39m\u001b[38;5;241m.\u001b[39mleft()\u001b[38;5;241m.\u001b[39meval() \u001b[38;5;241m|\u001b[39m \u001b[38;5;28mself\u001b[39m\u001b[38;5;241m.\u001b[39mright()\u001b[38;5;241m.\u001b[39meval()\n\u001b[0;32m---> 78\u001b[0m     \u001b[38;5;28;01mreturn\u001b[39;00m \u001b[43mCONTEXT\u001b[49m\u001b[43m(\u001b[49m\u001b[43mc\u001b[49m\u001b[43m)\u001b[49m\n",
      "File \u001b[0;32m~/coda/py/base.py:117\u001b[0m, in \u001b[0;36mContext.__call__\u001b[0;34m(self, c)\u001b[0m\n\u001b[1;32m    116\u001b[0m \u001b[38;5;28;01mdef\u001b[39;00m \u001b[38;5;21m__call__\u001b[39m(\u001b[38;5;28mself\u001b[39m,c):\n\u001b[0;32m--> 117\u001b[0m     \u001b[38;5;28;01mif\u001b[39;00m c \u001b[38;5;129;01min\u001b[39;00m \u001b[38;5;28mself\u001b[39m: \u001b[38;5;28;01mreturn\u001b[39;00m \u001b[43mCACHE\u001b[49m\u001b[38;5;241;43m.\u001b[39;49m\u001b[43mcoda\u001b[49m\u001b[43m(\u001b[49m\u001b[43mc\u001b[49m\u001b[43m,\u001b[49m\u001b[38;5;28;43;01mlambda\u001b[39;49;00m\u001b[43m \u001b[49m\u001b[43mc\u001b[49m\u001b[43m:\u001b[49m\u001b[38;5;28;43mself\u001b[39;49m\u001b[43m[\u001b[49m\u001b[43mc\u001b[49m\u001b[43m]\u001b[49m\u001b[43m(\u001b[49m\u001b[43mc\u001b[49m\u001b[43m)\u001b[49m\u001b[43m)\u001b[49m\n\u001b[1;32m    118\u001b[0m     \u001b[38;5;28;01mreturn\u001b[39;00m data(c)\n",
      "File \u001b[0;32m~/coda/py/base.py:141\u001b[0m, in \u001b[0;36mCache.coda\u001b[0;34m(self, c, F)\u001b[0m\n\u001b[1;32m    140\u001b[0m \u001b[38;5;28;01mdef\u001b[39;00m \u001b[38;5;21mcoda\u001b[39m(\u001b[38;5;28mself\u001b[39m,c,F):\n\u001b[0;32m--> 141\u001b[0m     \u001b[38;5;28;01mif\u001b[39;00m \u001b[38;5;28mself\u001b[39m\u001b[38;5;241m.\u001b[39m_off \u001b[38;5;129;01mor\u001b[39;00m (\u001b[38;5;129;01mnot\u001b[39;00m c \u001b[38;5;129;01min\u001b[39;00m \u001b[38;5;28mself\u001b[39m\u001b[38;5;241m.\u001b[39m_coda) \u001b[38;5;129;01mor\u001b[39;00m (c\u001b[38;5;241m.\u001b[39mdomain()\u001b[38;5;241m==\u001b[39mda(\u001b[38;5;124m'\u001b[39m\u001b[38;5;124m?\u001b[39m\u001b[38;5;124m'\u001b[39m)): \u001b[38;5;28mself\u001b[39m\u001b[38;5;241m.\u001b[39m_coda[c] \u001b[38;5;241m=\u001b[39m data(\u001b[38;5;241m*\u001b[39m[c \u001b[38;5;28;01mfor\u001b[39;00m c \u001b[38;5;129;01min\u001b[39;00m \u001b[38;5;28mself\u001b[39m\u001b[38;5;241m.\u001b[39mexpand(\u001b[43mF\u001b[49m\u001b[43m(\u001b[49m\u001b[43mc\u001b[49m\u001b[43m)\u001b[49m)])\n\u001b[1;32m    142\u001b[0m     \u001b[38;5;28;01mreturn\u001b[39;00m \u001b[38;5;28mself\u001b[39m\u001b[38;5;241m.\u001b[39m_coda[c]\n",
      "File \u001b[0;32m~/coda/py/base.py:117\u001b[0m, in \u001b[0;36mContext.__call__.<locals>.<lambda>\u001b[0;34m(c)\u001b[0m\n\u001b[1;32m    116\u001b[0m \u001b[38;5;28;01mdef\u001b[39;00m \u001b[38;5;21m__call__\u001b[39m(\u001b[38;5;28mself\u001b[39m,c):\n\u001b[0;32m--> 117\u001b[0m     \u001b[38;5;28;01mif\u001b[39;00m c \u001b[38;5;129;01min\u001b[39;00m \u001b[38;5;28mself\u001b[39m: \u001b[38;5;28;01mreturn\u001b[39;00m CACHE\u001b[38;5;241m.\u001b[39mcoda(c,\u001b[38;5;28;01mlambda\u001b[39;00m c:\u001b[38;5;28;43mself\u001b[39;49m\u001b[43m[\u001b[49m\u001b[43mc\u001b[49m\u001b[43m]\u001b[49m\u001b[43m(\u001b[49m\u001b[43mc\u001b[49m\u001b[43m)\u001b[49m)\n\u001b[1;32m    118\u001b[0m     \u001b[38;5;28;01mreturn\u001b[39;00m data(c)\n",
      "File \u001b[0;32m~/coda/py/base.py:95\u001b[0m, in \u001b[0;36mDefinition.__call__\u001b[0;34m(self, c)\u001b[0m\n\u001b[1;32m     93\u001b[0m domain,A \u001b[38;5;241m=\u001b[39m c\u001b[38;5;241m.\u001b[39mleft()\u001b[38;5;241m.\u001b[39msplit(); B \u001b[38;5;241m=\u001b[39m c\u001b[38;5;241m.\u001b[39mright()\n\u001b[1;32m     94\u001b[0m \u001b[38;5;28;01mfor\u001b[39;00m pf \u001b[38;5;129;01min\u001b[39;00m \u001b[38;5;28mself\u001b[39m\u001b[38;5;241m.\u001b[39m_pfs:\n\u001b[0;32m---> 95\u001b[0m     R \u001b[38;5;241m=\u001b[39m \u001b[43mpf\u001b[49m\u001b[43m(\u001b[49m\u001b[43mdomain\u001b[49m\u001b[43m,\u001b[49m\u001b[43mA\u001b[49m\u001b[43m,\u001b[49m\u001b[43mB\u001b[49m\u001b[43m)\u001b[49m\n\u001b[1;32m     96\u001b[0m     \u001b[38;5;28;01mif\u001b[39;00m \u001b[38;5;129;01mnot\u001b[39;00m R \u001b[38;5;129;01mis\u001b[39;00m \u001b[38;5;28;01mNone\u001b[39;00m: \u001b[38;5;28;01mreturn\u001b[39;00m R\n\u001b[1;32m     97\u001b[0m \u001b[38;5;28;01mreturn\u001b[39;00m data(c)\n",
      "File \u001b[0;32m~/coda/py/Logic.py:47\u001b[0m, in \u001b[0;36meq_\u001b[0;34m(domain, A, B)\u001b[0m\n\u001b[1;32m     45\u001b[0m \u001b[38;5;28;01mdef\u001b[39;00m \u001b[38;5;21meq_\u001b[39m(domain,A,B):\n\u001b[1;32m     46\u001b[0m     \u001b[38;5;28;01mif\u001b[39;00m A\u001b[38;5;241m==\u001b[39mB: \u001b[38;5;28;01mreturn\u001b[39;00m data()\n\u001b[0;32m---> 47\u001b[0m     \u001b[38;5;28;01mif\u001b[39;00m \u001b[43mA\u001b[49m\u001b[38;5;241;43m.\u001b[39;49m\u001b[43matomic\u001b[49m\u001b[43m \u001b[49m\u001b[43m(\u001b[49m\u001b[43m)\u001b[49m \u001b[38;5;129;01mand\u001b[39;00m B\u001b[38;5;241m.\u001b[39mempty(): \u001b[38;5;28;01mreturn\u001b[39;00m ATOM\n\u001b[1;32m     48\u001b[0m     \u001b[38;5;28;01mif\u001b[39;00m A\u001b[38;5;241m.\u001b[39mempty() \u001b[38;5;129;01mand\u001b[39;00m B\u001b[38;5;241m.\u001b[39matomic (): \u001b[38;5;28;01mreturn\u001b[39;00m ATOM\n\u001b[1;32m     49\u001b[0m     \u001b[38;5;28;01mif\u001b[39;00m A\u001b[38;5;241m.\u001b[39mempty() \u001b[38;5;129;01mand\u001b[39;00m B\u001b[38;5;241m.\u001b[39mempty(): \u001b[38;5;28;01mreturn\u001b[39;00m data()\n",
      "File \u001b[0;32m~/coda/py/base.py:37\u001b[0m, in \u001b[0;36mdata.atomic\u001b[0;34m(self)\u001b[0m\n\u001b[1;32m     33\u001b[0m \u001b[38;5;66;03m#\u001b[39;00m\n\u001b[1;32m     34\u001b[0m \u001b[38;5;66;03m#   Logic\u001b[39;00m\n\u001b[1;32m     35\u001b[0m \u001b[38;5;66;03m#\u001b[39;00m\n\u001b[1;32m     36\u001b[0m     \u001b[38;5;28;01mdef\u001b[39;00m \u001b[38;5;21mempty\u001b[39m    (\u001b[38;5;28mself\u001b[39m): \u001b[38;5;28;01mreturn\u001b[39;00m \u001b[38;5;28mlen\u001b[39m(\u001b[38;5;28mself\u001b[39m)\u001b[38;5;241m==\u001b[39m\u001b[38;5;241m0\u001b[39m\n\u001b[0;32m---> 37\u001b[0m     \u001b[38;5;28;01mdef\u001b[39;00m \u001b[38;5;21matomic\u001b[39m   (\u001b[38;5;28mself\u001b[39m): \u001b[38;5;28;01mreturn\u001b[39;00m \u001b[38;5;28many\u001b[39m([c\u001b[38;5;241m.\u001b[39matom() \u001b[38;5;28;01mfor\u001b[39;00m c \u001b[38;5;129;01min\u001b[39;00m \u001b[38;5;28mself\u001b[39m])\n\u001b[1;32m     38\u001b[0m     \u001b[38;5;28;01mdef\u001b[39;00m \u001b[38;5;21mundecided\u001b[39m(\u001b[38;5;28mself\u001b[39m): \u001b[38;5;28;01mreturn\u001b[39;00m \u001b[38;5;129;01mnot\u001b[39;00m \u001b[38;5;28mself\u001b[39m\u001b[38;5;241m.\u001b[39mempty() \u001b[38;5;129;01mand\u001b[39;00m \u001b[38;5;129;01mnot\u001b[39;00m \u001b[38;5;28mself\u001b[39m\u001b[38;5;241m.\u001b[39matomic()\n\u001b[1;32m     39\u001b[0m     \u001b[38;5;28;01mdef\u001b[39;00m \u001b[38;5;21minvariant\u001b[39m(\u001b[38;5;28mself\u001b[39m): \u001b[38;5;28;01mreturn\u001b[39;00m \u001b[38;5;28mall\u001b[39m([c\u001b[38;5;241m.\u001b[39matom() \u001b[38;5;28;01mfor\u001b[39;00m c \u001b[38;5;129;01min\u001b[39;00m \u001b[38;5;28mself\u001b[39m])\n",
      "File \u001b[0;32m~/coda/py/base.py:37\u001b[0m, in \u001b[0;36m<listcomp>\u001b[0;34m(.0)\u001b[0m\n\u001b[0;32m---> 37\u001b[0m \u001b[38;5;28;01mdef\u001b[39;00m \u001b[38;5;21matomic\u001b[39m   (\u001b[38;5;28mself\u001b[39m): \u001b[38;5;28;01mreturn\u001b[39;00m \u001b[38;5;28many\u001b[39m([\u001b[43mc\u001b[49m\u001b[38;5;241;43m.\u001b[39;49m\u001b[43matom\u001b[49m\u001b[43m(\u001b[49m\u001b[43m)\u001b[49m \u001b[38;5;28;01mfor\u001b[39;00m c \u001b[38;5;129;01min\u001b[39;00m \u001b[38;5;28mself\u001b[39m])\n",
      "File \u001b[0;32m~/coda/py/base.py:72\u001b[0m, in \u001b[0;36mcoda.atom\u001b[0;34m(self)\u001b[0m\n\u001b[0;32m---> 72\u001b[0m \u001b[38;5;28;01mdef\u001b[39;00m \u001b[38;5;21matom\u001b[39m(\u001b[38;5;28mself\u001b[39m): \u001b[38;5;28;01mreturn\u001b[39;00m \u001b[43mCONTEXT\u001b[49m\u001b[38;5;241;43m.\u001b[39;49m\u001b[43minvariant\u001b[49m\u001b[43m(\u001b[49m\u001b[38;5;28;43mself\u001b[39;49m\u001b[43m)\u001b[49m\n",
      "File \u001b[0;32m~/coda/py/base.py:112\u001b[0m, in \u001b[0;36mContext.invariant\u001b[0;34m(self, c)\u001b[0m\n\u001b[0;32m--> 112\u001b[0m \u001b[38;5;28;01mdef\u001b[39;00m \u001b[38;5;21minvariant\u001b[39m(\u001b[38;5;28mself\u001b[39m,c): \u001b[38;5;28;01mreturn\u001b[39;00m c \u001b[38;5;129;01min\u001b[39;00m \u001b[38;5;28mself\u001b[39m \u001b[38;5;129;01mand\u001b[39;00m \u001b[38;5;28mlen\u001b[39m(\u001b[38;5;28;43mself\u001b[39;49m\u001b[43m[\u001b[49m\u001b[43mc\u001b[49m\u001b[43m]\u001b[49m)\u001b[38;5;241m==\u001b[39m\u001b[38;5;241m0\u001b[39m\n",
      "File \u001b[0;32m~/coda/py/base.py:109\u001b[0m, in \u001b[0;36mContext.__getitem__\u001b[0;34m(self, c)\u001b[0m\n\u001b[0;32m--> 109\u001b[0m \u001b[38;5;28;01mdef\u001b[39;00m \u001b[38;5;21m__getitem__\u001b[39m(\u001b[38;5;28mself\u001b[39m,c): \u001b[38;5;28;01mreturn\u001b[39;00m \u001b[38;5;28mself\u001b[39m\u001b[38;5;241m.\u001b[39m_definitions[\u001b[38;5;28;43mself\u001b[39;49m\u001b[38;5;241;43m.\u001b[39;49m\u001b[43mdomain\u001b[49m\u001b[43m(\u001b[49m\u001b[43mc\u001b[49m\u001b[43m)\u001b[49m]\n",
      "File \u001b[0;32m~/coda/py/base.py:105\u001b[0m, in \u001b[0;36mContext.domain\u001b[0;34m(self, c)\u001b[0m\n\u001b[1;32m    104\u001b[0m \u001b[38;5;28;01mdef\u001b[39;00m \u001b[38;5;21mdomain\u001b[39m(\u001b[38;5;28mself\u001b[39m,c): \u001b[38;5;66;03m# handles the {...} -> language convention\u001b[39;00m\n\u001b[0;32m--> 105\u001b[0m     d \u001b[38;5;241m=\u001b[39m c\u001b[38;5;241m.\u001b[39mdomain(); s \u001b[38;5;241m=\u001b[39m \u001b[38;5;28;43mstr\u001b[39;49m\u001b[43m(\u001b[49m\u001b[43md\u001b[49m\u001b[43m)\u001b[49m\n\u001b[1;32m    106\u001b[0m     \u001b[38;5;28;01mif\u001b[39;00m s\u001b[38;5;241m.\u001b[39mstartswith(\u001b[38;5;124m'\u001b[39m\u001b[38;5;124m{\u001b[39m\u001b[38;5;124m'\u001b[39m) \u001b[38;5;129;01mand\u001b[39;00m s\u001b[38;5;241m.\u001b[39mendswith(\u001b[38;5;124m'\u001b[39m\u001b[38;5;124m}\u001b[39m\u001b[38;5;124m'\u001b[39m): d \u001b[38;5;241m=\u001b[39m da(\u001b[38;5;124m'\u001b[39m\u001b[38;5;124mlanguage\u001b[39m\u001b[38;5;124m'\u001b[39m)\n\u001b[1;32m    107\u001b[0m     \u001b[38;5;28;01mreturn\u001b[39;00m d\n",
      "File \u001b[0;32m~/coda/py/base.py:18\u001b[0m, in \u001b[0;36mdata.__str__\u001b[0;34m(self)\u001b[0m\n\u001b[0;32m---> 18\u001b[0m \u001b[38;5;28;01mdef\u001b[39;00m \u001b[38;5;21m__str__\u001b[39m(\u001b[38;5;28mself\u001b[39m): \u001b[38;5;28;01mreturn\u001b[39;00m \u001b[43mUNICODE\u001b[49m\u001b[38;5;241;43m.\u001b[39;49m\u001b[43mdata\u001b[49m\u001b[43m(\u001b[49m\u001b[38;5;28;43mself\u001b[39;49m\u001b[43m)\u001b[49m\n",
      "File \u001b[0;32m~/coda/py/base.py:200\u001b[0m, in \u001b[0;36mUnicode.data\u001b[0;34m(self, D, sep)\u001b[0m\n\u001b[1;32m    198\u001b[0m \u001b[38;5;28;01mdef\u001b[39;00m \u001b[38;5;21mco\u001b[39m(\u001b[38;5;28mself\u001b[39m,text): \u001b[38;5;28;01mreturn\u001b[39;00m data(ATOMS\u001b[38;5;241m.\u001b[39mbit1)\u001b[38;5;241m|\u001b[39mdata(\u001b[38;5;241m*\u001b[39m[\u001b[38;5;28mself\u001b[39m\u001b[38;5;241m.\u001b[39mbyte(c) \u001b[38;5;28;01mfor\u001b[39;00m c \u001b[38;5;129;01min\u001b[39;00m text])\n\u001b[1;32m    199\u001b[0m \u001b[38;5;28;01mdef\u001b[39;00m \u001b[38;5;21mda\u001b[39m(\u001b[38;5;28mself\u001b[39m,text): \u001b[38;5;28;01mreturn\u001b[39;00m data(\u001b[38;5;28mself\u001b[39m\u001b[38;5;241m.\u001b[39mco(text))\n\u001b[0;32m--> 200\u001b[0m \u001b[38;5;28;01mdef\u001b[39;00m \u001b[38;5;21mdata\u001b[39m(\u001b[38;5;28mself\u001b[39m,D,sep\u001b[38;5;241m=\u001b[39m\u001b[38;5;124m'\u001b[39m\u001b[38;5;124m \u001b[39m\u001b[38;5;124m'\u001b[39m): \u001b[38;5;28;01mreturn\u001b[39;00m sep\u001b[38;5;241m.\u001b[39mjoin([\u001b[38;5;28mself\u001b[39m\u001b[38;5;241m.\u001b[39mcoda(c) \u001b[38;5;28;01mfor\u001b[39;00m c \u001b[38;5;129;01min\u001b[39;00m D])\n\u001b[1;32m    201\u001b[0m \u001b[38;5;28;01mdef\u001b[39;00m \u001b[38;5;21mcoda\u001b[39m(\u001b[38;5;28mself\u001b[39m,c):\n\u001b[1;32m    202\u001b[0m     \u001b[38;5;28;01mif\u001b[39;00m c \u001b[38;5;129;01min\u001b[39;00m \u001b[38;5;28mself\u001b[39m: \u001b[38;5;28;01mreturn\u001b[39;00m \u001b[38;5;28mself\u001b[39m[c]\n",
      "File \u001b[0;32m~/coda/py/base.py:200\u001b[0m, in \u001b[0;36m<listcomp>\u001b[0;34m(.0)\u001b[0m\n\u001b[0;32m--> 200\u001b[0m \u001b[38;5;28;01mdef\u001b[39;00m \u001b[38;5;21mdata\u001b[39m(\u001b[38;5;28mself\u001b[39m,D,sep\u001b[38;5;241m=\u001b[39m\u001b[38;5;124m'\u001b[39m\u001b[38;5;124m \u001b[39m\u001b[38;5;124m'\u001b[39m): \u001b[38;5;28;01mreturn\u001b[39;00m sep\u001b[38;5;241m.\u001b[39mjoin([\u001b[38;5;28;43mself\u001b[39;49m\u001b[38;5;241;43m.\u001b[39;49m\u001b[43mcoda\u001b[49m\u001b[43m(\u001b[49m\u001b[43mc\u001b[49m\u001b[43m)\u001b[49m \u001b[38;5;28;01mfor\u001b[39;00m c \u001b[38;5;129;01min\u001b[39;00m D])\n",
      "File \u001b[0;32m~/coda/py/base.py:202\u001b[0m, in \u001b[0;36mUnicode.coda\u001b[0;34m(self, c)\u001b[0m\n\u001b[1;32m    201\u001b[0m \u001b[38;5;28;01mdef\u001b[39;00m \u001b[38;5;21mcoda\u001b[39m(\u001b[38;5;28mself\u001b[39m,c):\n\u001b[0;32m--> 202\u001b[0m     \u001b[38;5;28;01mif\u001b[39;00m \u001b[43mc\u001b[49m\u001b[43m \u001b[49m\u001b[38;5;129;43;01min\u001b[39;49;00m\u001b[43m \u001b[49m\u001b[38;5;28;43mself\u001b[39;49m: \u001b[38;5;28;01mreturn\u001b[39;00m \u001b[38;5;28mself\u001b[39m[c]\n\u001b[1;32m    203\u001b[0m     \u001b[38;5;28;01mif\u001b[39;00m c\u001b[38;5;241m.\u001b[39mdomain() \u001b[38;5;129;01min\u001b[39;00m [data(ATOMS\u001b[38;5;241m.\u001b[39matom),data(ATOMS\u001b[38;5;241m.\u001b[39mbit0),data(ATOMS\u001b[38;5;241m.\u001b[39mbit1)]: \u001b[38;5;28;01mreturn\u001b[39;00m \u001b[38;5;28mself\u001b[39m\u001b[38;5;241m.\u001b[39mdata(c\u001b[38;5;241m.\u001b[39mright(),\u001b[38;5;124m'\u001b[39m\u001b[38;5;124m'\u001b[39m)\n\u001b[1;32m    204\u001b[0m     \u001b[38;5;28;01mreturn\u001b[39;00m \u001b[38;5;124m'\u001b[39m\u001b[38;5;124m(\u001b[39m\u001b[38;5;124m'\u001b[39m\u001b[38;5;241m+\u001b[39m\u001b[38;5;28mself\u001b[39m\u001b[38;5;241m.\u001b[39mdata(c\u001b[38;5;241m.\u001b[39mleft())\u001b[38;5;241m+\u001b[39m\u001b[38;5;124m'\u001b[39m\u001b[38;5;124m:\u001b[39m\u001b[38;5;124m'\u001b[39m\u001b[38;5;241m+\u001b[39m\u001b[38;5;28mself\u001b[39m\u001b[38;5;241m.\u001b[39mdata(c\u001b[38;5;241m.\u001b[39mright())\u001b[38;5;241m+\u001b[39m\u001b[38;5;124m'\u001b[39m\u001b[38;5;124m)\u001b[39m\u001b[38;5;124m'\u001b[39m\n",
      "File \u001b[0;32m~/coda/py/base.py:186\u001b[0m, in \u001b[0;36mUnicode.__contains__\u001b[0;34m(self, c)\u001b[0m\n\u001b[0;32m--> 186\u001b[0m \u001b[38;5;28;01mdef\u001b[39;00m \u001b[38;5;21m__contains__\u001b[39m(\u001b[38;5;28mself\u001b[39m,c): \u001b[38;5;28;01mreturn\u001b[39;00m \u001b[43mc\u001b[49m\u001b[43m \u001b[49m\u001b[38;5;129;43;01min\u001b[39;49;00m\u001b[43m \u001b[49m\u001b[38;5;28;43mself\u001b[39;49m\u001b[38;5;241;43m.\u001b[39;49m\u001b[43m_map\u001b[49m\n",
      "File \u001b[0;32m~/coda/py/base.py:56\u001b[0m, in \u001b[0;36mcoda.__hash__\u001b[0;34m(self)\u001b[0m\n\u001b[0;32m---> 56\u001b[0m \u001b[38;5;28;01mdef\u001b[39;00m \u001b[38;5;21m__hash__\u001b[39m(\u001b[38;5;28mself\u001b[39m): \u001b[38;5;28;01mreturn\u001b[39;00m \u001b[38;5;28;43mhash\u001b[39;49m\u001b[43m(\u001b[49m\u001b[43m(\u001b[49m\u001b[38;5;28;43mself\u001b[39;49m\u001b[38;5;241;43m.\u001b[39;49m\u001b[43m_left\u001b[49m\u001b[43m,\u001b[49m\u001b[38;5;28;43mself\u001b[39;49m\u001b[38;5;241;43m.\u001b[39;49m\u001b[43m_right\u001b[49m\u001b[43m,\u001b[49m\u001b[43m)\u001b[49m\u001b[43m)\u001b[49m\n",
      "File \u001b[0;32m~/coda/py/base.py:17\u001b[0m, in \u001b[0;36mdata.__hash__\u001b[0;34m(self)\u001b[0m\n\u001b[0;32m---> 17\u001b[0m \u001b[38;5;28;01mdef\u001b[39;00m \u001b[38;5;21m__hash__\u001b[39m(\u001b[38;5;28mself\u001b[39m): \u001b[38;5;28;01mreturn\u001b[39;00m \u001b[38;5;28;43mhash\u001b[39;49m\u001b[43m(\u001b[49m\u001b[38;5;28;43mtuple\u001b[39;49m\u001b[43m(\u001b[49m\u001b[38;5;28;43mself\u001b[39;49m\u001b[38;5;241;43m.\u001b[39;49m\u001b[43m_sequence\u001b[49m\u001b[43m)\u001b[49m\u001b[43m)\u001b[49m\n",
      "File \u001b[0;32m~/coda/py/base.py:56\u001b[0m, in \u001b[0;36mcoda.__hash__\u001b[0;34m(self)\u001b[0m\n\u001b[0;32m---> 56\u001b[0m \u001b[38;5;28;01mdef\u001b[39;00m \u001b[38;5;21m__hash__\u001b[39m(\u001b[38;5;28mself\u001b[39m): \u001b[38;5;28;01mreturn\u001b[39;00m \u001b[38;5;28;43mhash\u001b[39;49m\u001b[43m(\u001b[49m\u001b[43m(\u001b[49m\u001b[38;5;28;43mself\u001b[39;49m\u001b[38;5;241;43m.\u001b[39;49m\u001b[43m_left\u001b[49m\u001b[43m,\u001b[49m\u001b[38;5;28;43mself\u001b[39;49m\u001b[38;5;241;43m.\u001b[39;49m\u001b[43m_right\u001b[49m\u001b[43m,\u001b[49m\u001b[43m)\u001b[49m\u001b[43m)\u001b[49m\n",
      "File \u001b[0;32m~/coda/py/base.py:17\u001b[0m, in \u001b[0;36mdata.__hash__\u001b[0;34m(self)\u001b[0m\n\u001b[0;32m---> 17\u001b[0m \u001b[38;5;28;01mdef\u001b[39;00m \u001b[38;5;21m__hash__\u001b[39m(\u001b[38;5;28mself\u001b[39m): \u001b[38;5;28;01mreturn\u001b[39;00m \u001b[38;5;28;43mhash\u001b[39;49m\u001b[43m(\u001b[49m\u001b[38;5;28;43mtuple\u001b[39;49m\u001b[43m(\u001b[49m\u001b[38;5;28;43mself\u001b[39;49m\u001b[38;5;241;43m.\u001b[39;49m\u001b[43m_sequence\u001b[49m\u001b[43m)\u001b[49m\u001b[43m)\u001b[49m\n",
      "File \u001b[0;32m~/coda/py/base.py:56\u001b[0m, in \u001b[0;36mcoda.__hash__\u001b[0;34m(self)\u001b[0m\n\u001b[0;32m---> 56\u001b[0m \u001b[38;5;28;01mdef\u001b[39;00m \u001b[38;5;21m__hash__\u001b[39m(\u001b[38;5;28mself\u001b[39m): \u001b[38;5;28;01mreturn\u001b[39;00m \u001b[38;5;28;43mhash\u001b[39;49m\u001b[43m(\u001b[49m\u001b[43m(\u001b[49m\u001b[38;5;28;43mself\u001b[39;49m\u001b[38;5;241;43m.\u001b[39;49m\u001b[43m_left\u001b[49m\u001b[43m,\u001b[49m\u001b[38;5;28;43mself\u001b[39;49m\u001b[38;5;241;43m.\u001b[39;49m\u001b[43m_right\u001b[49m\u001b[43m,\u001b[49m\u001b[43m)\u001b[49m\u001b[43m)\u001b[49m\n",
      "File \u001b[0;32m~/coda/py/base.py:17\u001b[0m, in \u001b[0;36mdata.__hash__\u001b[0;34m(self)\u001b[0m\n\u001b[1;32m     15\u001b[0m \u001b[38;5;28;01mdef\u001b[39;00m \u001b[38;5;21m__init__\u001b[39m(\u001b[38;5;28mself\u001b[39m,\u001b[38;5;241m*\u001b[39mcodas): \u001b[38;5;28mself\u001b[39m\u001b[38;5;241m.\u001b[39m_sequence \u001b[38;5;241m=\u001b[39m codas\n\u001b[1;32m     16\u001b[0m \u001b[38;5;28;01mdef\u001b[39;00m \u001b[38;5;21m__repr__\u001b[39m(\u001b[38;5;28mself\u001b[39m): \u001b[38;5;28;01mreturn\u001b[39;00m \u001b[38;5;124m'\u001b[39m\u001b[38;5;124m'\u001b[39m\u001b[38;5;241m.\u001b[39mjoin([\u001b[38;5;28mrepr\u001b[39m(c) \u001b[38;5;28;01mfor\u001b[39;00m c \u001b[38;5;129;01min\u001b[39;00m \u001b[38;5;28mself\u001b[39m])\n\u001b[0;32m---> 17\u001b[0m \u001b[38;5;28;01mdef\u001b[39;00m \u001b[38;5;21m__hash__\u001b[39m(\u001b[38;5;28mself\u001b[39m): \u001b[38;5;28;01mreturn\u001b[39;00m \u001b[38;5;28mhash\u001b[39m(\u001b[38;5;28mtuple\u001b[39m(\u001b[38;5;28mself\u001b[39m\u001b[38;5;241m.\u001b[39m_sequence))\n\u001b[1;32m     18\u001b[0m \u001b[38;5;28;01mdef\u001b[39;00m \u001b[38;5;21m__str__\u001b[39m(\u001b[38;5;28mself\u001b[39m): \u001b[38;5;28;01mreturn\u001b[39;00m UNICODE\u001b[38;5;241m.\u001b[39mdata(\u001b[38;5;28mself\u001b[39m)\n\u001b[1;32m     19\u001b[0m \u001b[38;5;28;01mdef\u001b[39;00m \u001b[38;5;21m__eq__\u001b[39m(\u001b[38;5;28mself\u001b[39m,A): \u001b[38;5;28;01mreturn\u001b[39;00m \u001b[38;5;28mself\u001b[39m\u001b[38;5;241m.\u001b[39m_sequence\u001b[38;5;241m==\u001b[39mA\u001b[38;5;241m.\u001b[39m_sequence\n",
      "\u001b[0;31mKeyboardInterrupt\u001b[0m: "
     ]
    }
   ],
   "source": [
    "sub = S21.property(SPACE,Sample.Atoms(3)).multieval(e100)"
   ]
  },
  {
   "cell_type": "code",
   "execution_count": null,
   "id": "47a5fbb7-fa43-4e5e-a9bf-73b856457506",
   "metadata": {},
   "outputs": [],
   "source": []
  }
 ],
 "metadata": {
  "kernelspec": {
   "display_name": "Python 3 (ipykernel)",
   "language": "python",
   "name": "python3"
  },
  "language_info": {
   "codemirror_mode": {
    "name": "ipython",
    "version": 3
   },
   "file_extension": ".py",
   "mimetype": "text/x-python",
   "name": "python",
   "nbconvert_exporter": "python",
   "pygments_lexer": "ipython3",
   "version": "3.10.7"
  }
 },
 "nbformat": 4,
 "nbformat_minor": 5
}
