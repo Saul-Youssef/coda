{
 "cells": [
  {
   "cell_type": "code",
   "execution_count": 1,
   "id": "e7e00a80-ad06-4af8-8b36-840b176e33b0",
   "metadata": {},
   "outputs": [
    {
     "name": "stdout",
     "output_type": "stream",
     "text": [
      "(defaultTime:100)"
     ]
    }
   ],
   "source": [
    "defaultTime:100"
   ]
  },
  {
   "cell_type": "code",
   "execution_count": 2,
   "id": "1bcf37c8-aee0-47e2-8549-74c2e0a74b85",
   "metadata": {},
   "outputs": [
    {
     "name": "stdout",
     "output_type": "stream",
     "text": []
    }
   ],
   "source": [
    "import : dir co : up . : up : ."
   ]
  },
  {
   "cell_type": "code",
   "execution_count": 3,
   "id": "06c87658-6cb6-4feb-8548-a87adfda80ff",
   "metadata": {},
   "outputs": [
    {
     "name": "stdout",
     "output_type": "stream",
     "text": []
    }
   ],
   "source": [
    "Def Test : {put bin (get:B) : count : bool : theorem (semilattice:(get:B)) : A}\n",
    "Def TEST : {multi : ap {with:Test A:B} A : B} "
   ]
  },
  {
   "cell_type": "code",
   "execution_count": 4,
   "id": "84770bf3-4301-4781-adff-2c5554c71501",
   "metadata": {},
   "outputs": [
    {
     "name": "stdout",
     "output_type": "stream",
     "text": [
      "(with (def x:{A} a b):◎) (with (def x:{A} b):◎)"
     ]
    }
   ],
   "source": [
    "theorem (semilattice:pass) : (:a b) (:b)"
   ]
  },
  {
   "cell_type": "code",
   "execution_count": 12,
   "id": "266f2fac-148d-4cfa-b8c4-f9f135871b77",
   "metadata": {},
   "outputs": [
    {
     "name": "stdout",
     "output_type": "stream",
     "text": [
      "2\n",
      "0"
     ]
    }
   ],
   "source": [
    "count : theorem (semilattice:pass) : (:a) (:b)\n",
    "count : theorem (semilattice:first) : (:a) (:b)"
   ]
  },
  {
   "cell_type": "code",
   "execution_count": 19,
   "id": "7df5f5b7-c173-48c4-8f6d-89a7ec3ff451",
   "metadata": {},
   "outputs": [
    {
     "name": "stdout",
     "output_type": "stream",
     "text": [
      "(with:(bin pass:(count:(bool:(ap {if (not:right:B):B}:(with (def x:{A} a):◎)) (ap {if (not:right:B):B}:(with (def x:{A} b):◎)))))) \n",
      " (with:(bin null:0)) \n",
      " (with:(bin first:(count:(bool:(ap {if (not:right:B):B}:(do1:(with ({right:B} (equal (first 1:(x:) (x:)):(first 1:(x:))):(:(let x:a))):(({bool} (equal (first 1:(x:) (x:)):(first 1:(x:))):(:(let x:a))):({A} (equal (first 1:(x:) (x:)):(first 1:(x:))):(:(let x:a))))))) (ap {if (not:right:B):B}:(do1:(with ({right:B} (equal (first 1:(x:) (x:)):(first 1:(x:))):(:(let x:b))):(({bool} (equal (first 1:(x:) (x:)):(first 1:(x:))):(:(let x:b))):({A} (equal (first 1:(x:) (x:)):(first 1:(x:))):(:(let x:b))))))))))) \n"
     ]
    }
   ],
   "source": [
    "ap post <\\n> : eval 1000 : TEST (:a) (:b) : (:pass) (:null) (:first)"
   ]
  },
  {
   "cell_type": "code",
   "execution_count": 7,
   "id": "894e81f0-3ea0-4c7c-b8b2-d9c552847cc9",
   "metadata": {},
   "outputs": [
    {
     "name": "stdout",
     "output_type": "stream",
     "text": [
      "(:0) (:1) ◎ (:0 1)"
     ]
    }
   ],
   "source": [
    "TEST S0? : "
   ]
  },
  {
   "cell_type": "code",
   "execution_count": null,
   "id": "4819a31c-ceb3-46ab-ba62-7bb619b5b101",
   "metadata": {},
   "outputs": [],
   "source": [
    "theorem (semilattice:first) : (:a) "
   ]
  },
  {
   "cell_type": "code",
   "execution_count": 9,
   "id": "c109fa18-0ecc-4363-9e75-36778ae18b2e",
   "metadata": {},
   "outputs": [
    {
     "name": "stdout",
     "output_type": "stream",
     "text": [
      "{by : defs : Apply Sequence Number Logic Basic Collect}"
     ]
    }
   ],
   "source": [
    "(C1:)"
   ]
  },
  {
   "cell_type": "code",
   "execution_count": null,
   "id": "573c5135-fcfe-4a60-857e-8c63caaed24d",
   "metadata": {},
   "outputs": [],
   "source": [
    "do : cases (x?=(rev:x?)) : (:a a) (:b b) "
   ]
  },
  {
   "cell_type": "code",
   "execution_count": null,
   "id": "d12e08fd-5cb0-4fc0-a897-a80f5f9f50ba",
   "metadata": {},
   "outputs": [],
   "source": []
  }
 ],
 "metadata": {
  "kernelspec": {
   "display_name": "coda",
   "language": "",
   "name": "coda"
  },
  "language_info": {
   "file_extension": ".co",
   "mimetype": "text/plain",
   "name": "Any text"
  }
 },
 "nbformat": 4,
 "nbformat_minor": 5
}
