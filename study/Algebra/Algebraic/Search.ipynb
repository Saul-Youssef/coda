{
 "cells": [
  {
   "cell_type": "code",
   "execution_count": 1,
   "id": "29477f33-b2d3-4569-911f-5e5852e9c08b",
   "metadata": {},
   "outputs": [
    {
     "name": "stdout",
     "output_type": "stream",
     "text": [
      "(defaultTime:1000)"
     ]
    }
   ],
   "source": [
    "defaultTime:1000"
   ]
  },
  {
   "cell_type": "code",
   "execution_count": 2,
   "id": "09287192-52a8-4062-b8e5-59fd5be2bd96",
   "metadata": {},
   "outputs": [
    {
     "name": "stdout",
     "output_type": "stream",
     "text": []
    }
   ],
   "source": [
    "import : dir co : up : up : ."
   ]
  },
  {
   "cell_type": "code",
   "execution_count": 3,
   "id": "644da841-84da-4c92-96a5-387c6811d2d2",
   "metadata": {},
   "outputs": [
    {
     "name": "stdout",
     "output_type": "stream",
     "text": [
      "6139"
     ]
    }
   ],
   "source": [
    "count : C12?:"
   ]
  },
  {
   "cell_type": "code",
   "execution_count": 4,
   "id": "d73e44f3-d775-4fc1-921d-9f046cd66567",
   "metadata": {},
   "outputs": [
    {
     "name": "stdout",
     "output_type": "stream",
     "text": []
    }
   ],
   "source": [
    "Def F : ap {if (right:B):(:arg:B)} "
   ]
  },
  {
   "cell_type": "code",
   "execution_count": 5,
   "id": "3da52336-e9bf-4d7b-bfec-ffff97ba6baa",
   "metadata": {},
   "outputs": [
    {
     "name": "stdout",
     "output_type": "stream",
     "text": []
    }
   ],
   "source": [
    "out algebraic_L1.C12-S6 3600 : dom 100 : property algebraic_L1 S6? : C12?:"
   ]
  },
  {
   "cell_type": "code",
   "execution_count": 15,
   "id": "3131500d-9d99-4f04-9ed7-91bff32b744b",
   "metadata": {},
   "outputs": [
    {
     "name": "stdout",
     "output_type": "stream",
     "text": [
      "(with =:◎) (with ab:◎) (with and:) (with ap:◎) (with apby:◎) (with aq:) (with ar:) (with arg:) (with bin:◎) (with bool:)"
     ]
    }
   ],
   "source": [
    "first 10 : in stable : algebraic_L1.C12-S6 "
   ]
  },
  {
   "cell_type": "code",
   "execution_count": 17,
   "id": "6c7d1b67-1029-446e-b1bd-37bdac537934",
   "metadata": {},
   "outputs": [
    {
     "name": "stdout",
     "output_type": "stream",
     "text": []
    }
   ],
   "source": [
    "out algebraic_L2.C12-S6 3600 : dom 100 : property algebraic_L2 S6? : F : in stable : algebraic_L1.C12-S6 "
   ]
  },
  {
   "cell_type": "code",
   "execution_count": null,
   "id": "c5f287bd-969f-4385-b754-e7ce3ab752ed",
   "metadata": {},
   "outputs": [],
   "source": [
    "out algebraic_L3.C12-S6 3600 : dom 100 : property algebraic_L3 S6? : F : in stable : algebraic_L2.C12-S6 "
   ]
  },
  {
   "cell_type": "code",
   "execution_count": null,
   "id": "bb61d27f-2358-49e4-bca8-e1b796705d3f",
   "metadata": {},
   "outputs": [],
   "source": []
  },
  {
   "cell_type": "code",
   "execution_count": null,
   "id": "fe585f88-c9f9-4808-981b-e32844557f3e",
   "metadata": {},
   "outputs": [],
   "source": [
    "out algebraic_R1.C12-S6 3600 : dom 100 : property algebraic_R1 S6? : C12?:"
   ]
  },
  {
   "cell_type": "code",
   "execution_count": null,
   "id": "9655aa8c-263c-42e3-a50f-038b84c2920c",
   "metadata": {},
   "outputs": [],
   "source": [
    "out algebraic_R2.C12-S6 3600 : dom 100 : property algebraic_R2 S6? : F : in stable : algebraic_R1.C12-S6 "
   ]
  },
  {
   "cell_type": "code",
   "execution_count": null,
   "id": "8031b994-973f-4f8c-8470-957f33d7c041",
   "metadata": {},
   "outputs": [],
   "source": [
    "out algebraic_R3.C12-S6 3600 : dom 100 : property algebraic_R3 S6? : F : in stable : algebraic_R2.C12-S6 "
   ]
  },
  {
   "cell_type": "code",
   "execution_count": null,
   "id": "16843408-c4e1-4bdf-8ce7-2867512da3a1",
   "metadata": {},
   "outputs": [],
   "source": []
  }
 ],
 "metadata": {
  "kernelspec": {
   "display_name": "coda",
   "language": "",
   "name": "coda"
  },
  "language_info": {
   "file_extension": ".co",
   "mimetype": "text/plain",
   "name": "Any text"
  }
 },
 "nbformat": 4,
 "nbformat_minor": 5
}
