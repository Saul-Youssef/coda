{
 "cells": [
  {
   "cell_type": "markdown",
   "id": "2e5eb5b7-ded3-4493-9be2-4b998d82e8fb",
   "metadata": {},
   "source": [
    "## Search for Endomorphisms of L\n",
    "\n",
    "Continuing from the **bool.ipynb** notebook, we would like to find endomorphisms of L by systematic searching.  The motivation is partly to understand **bool**, but mostly to explore a procedures that can be applied to other spaces.  \n",
    "\n",
    "Given a collection of data from L (such as L3), and given a collection of potential endomorphisms (\n",
    "\n",
    "1. "
   ]
  },
  {
   "cell_type": "code",
   "execution_count": 1,
   "id": "ab323aa3-31b6-45e6-a5eb-efa8f6f6f644",
   "metadata": {},
   "outputs": [
    {
     "name": "stdout",
     "output_type": "stream",
     "text": [
      "(defaultTime:100)"
     ]
    }
   ],
   "source": [
    "#\n",
    "#    Basic definitions \n",
    "#\n",
    "defaultTime : 100 \n",
    "import : dir co : up : .\n",
    "import : dir co : ."
   ]
  },
  {
   "cell_type": "code",
   "execution_count": 2,
   "id": "5658bbf5-3613-4468-b41c-f4433ab08f03",
   "metadata": {},
   "outputs": [
    {
     "name": "stdout",
     "output_type": "stream",
     "text": [
      "(b:◎)\n",
      "(b:◎) (b:◎) (b:◎)\n",
      "0 0 0 0 0 0 0 0 0 0 0 0 0 0 0"
     ]
    }
   ],
   "source": [
    "#\n",
    "#    Demo \n",
    "#\n",
    "ANY : get :last : L3?\n",
    "(E:pass) : get : last : L3?\n",
    "ap {count:(get:B)=((E:pass):get:B)} : L3?\n",
    "bool : ap {(get:B)=((E:pass):get:B)} : L3?"
   ]
  },
  {
   "cell_type": "code",
   "execution_count": 3,
   "id": "966eb679-9d38-479b-ab68-b0c5ef480d65",
   "metadata": {},
   "outputs": [
    {
     "name": "stdout",
     "output_type": "stream",
     "text": []
    }
   ],
   "source": [
    "#\n",
    "#   First, eliminate trivial endomorphisms who are equal to pass or null on all test data \n",
    "#\n",
    "Def passTest : ap {bool:(get:B)=((E:A):get:B)} \n",
    "Def nullTest : ap {bool:(E:A):get:B} "
   ]
  },
  {
   "cell_type": "code",
   "execution_count": 4,
   "id": "6572385a-876e-46b7-8b94-72aa495a6a0c",
   "metadata": {},
   "outputs": [
    {
     "name": "stdout",
     "output_type": "stream",
     "text": [
      "◎ ◎ ◎ ◎ ◎ ◎ ◎ ◎ ◎ ◎ ◎ ◎ ◎ ◎\n",
      "◎ ◎ ◎ ◎ ◎ ◎ ◎ ◎ ◎ ◎ ◎ ◎ ◎ ◎"
     ]
    }
   ],
   "source": [
    "passTest null : L3?\n",
    "nullTest pass : L3?"
   ]
  },
  {
   "cell_type": "code",
   "execution_count": 5,
   "id": "b963c474-8ff2-46ce-9550-400cb9f701f7",
   "metadata": {},
   "outputs": [
    {
     "name": "stdout",
     "output_type": "stream",
     "text": [
      "(with pass:) (with null:◎) (with once:◎)"
     ]
    }
   ],
   "source": [
    "do 100 : ap {with (get:B): bool : passTest (get:B) : A} L3? : (:pass) (:null) (:once)"
   ]
  },
  {
   "cell_type": "code",
   "execution_count": 6,
   "id": "7510df48-9da3-4086-97d4-6a8d81e82663",
   "metadata": {},
   "outputs": [
    {
     "name": "stdout",
     "output_type": "stream",
     "text": [
      "(with pass:◎) (with null:) (with once:◎)"
     ]
    }
   ],
   "source": [
    "do 100 : ap {with (get:B): bool : nullTest (get:B) : A} L3? : (:pass) (:null) (:once)"
   ]
  },
  {
   "cell_type": "code",
   "execution_count": 7,
   "id": "188c1229-0b2f-49c9-b719-1c406ba3bb8e",
   "metadata": {},
   "outputs": [
    {
     "name": "stdout",
     "output_type": "stream",
     "text": []
    }
   ],
   "source": [
    "Def passTester : ap {with (get:B): bool : passTest (get:B) : A}\n",
    "Def nullTester : ap {with (get:B): bool : nullTest (get:B) : A}"
   ]
  },
  {
   "cell_type": "code",
   "execution_count": 8,
   "id": "867b4131-c2cb-46fb-9e02-347937c502a0",
   "metadata": {},
   "outputs": [
    {
     "name": "stdout",
     "output_type": "stream",
     "text": []
    }
   ],
   "source": [
    "write null1 200 : dom 100 : nullTester L3? : first 10 : (:pass) (:null) (:once) (:ANY) (:ALL) (ap : Organic?) "
   ]
  },
  {
   "cell_type": "code",
   "execution_count": 9,
   "id": "598487bf-e9e7-4b89-9fbf-c7df86547498",
   "metadata": {},
   "outputs": [
    {
     "name": "stdout",
     "output_type": "stream",
     "text": [
      "(with pass:◎) (with null:) (with once:◎) (with ANY:◎) (with ALL:◎) (with aj:◎) (with ap:◎) (with aq:) (with ar:)"
     ]
    }
   ],
   "source": [
    "read : null1"
   ]
  },
  {
   "cell_type": "code",
   "execution_count": 10,
   "id": "34cbcf2a-8bca-4cad-a174-eaab8d7b998c",
   "metadata": {},
   "outputs": [
    {
     "name": "stdout",
     "output_type": "stream",
     "text": []
    }
   ],
   "source": [
    "write pass1 200 : dom 100 : passTester L3? : first 10 : (:pass) (:null) (:once) (:ANY) (:ALL) (ap : Organic?) "
   ]
  },
  {
   "cell_type": "code",
   "execution_count": 11,
   "id": "d9a5e653-7fa3-4f9e-be30-d19ef6f66b69",
   "metadata": {},
   "outputs": [
    {
     "name": "stdout",
     "output_type": "stream",
     "text": [
      "(with pass:) (with null:◎) (with once:◎) (with ANY:◎) (with ALL:◎) (with ap:◎) (with aq:◎) (with ar:◎)"
     ]
    }
   ],
   "source": [
    "read : pass1 "
   ]
  },
  {
   "cell_type": "code",
   "execution_count": 8,
   "id": "4a070965-2474-4ba4-9268-cbfa9981fc51",
   "metadata": {},
   "outputs": [
    {
     "name": "stdout",
     "output_type": "stream",
     "text": [
      "55\n",
      "3083\n",
      " (:ends const) \n",
      " (:left some) \n",
      " (:nats equiv) \n",
      " (:post dup) \n",
      " (:ar b) \n",
      " (:has nif) \n",
      " (:hasnt aq) \n",
      " (:isnt while) \n",
      " (:sum star) \n",
      " (:equiv count) \n"
     ]
    }
   ],
   "source": [
    "Let Level1 : (:ANY) (:ALL) (ap : Organic?) \n",
    "Let Level2 : once : Level1? (sample.data a b Organic? : 2) \n",
    "count : Level1?\n",
    "count : Level2? \n",
    "tab : first 10 : skip 100 : Level2? "
   ]
  },
  {
   "cell_type": "markdown",
   "id": "490ffec0-b30e-45d9-a8d5-00ebcfdae49b",
   "metadata": {},
   "source": [
    "## Level 1"
   ]
  },
  {
   "cell_type": "code",
   "execution_count": 14,
   "id": "104006ac-9c04-4760-9e6e-3d8b9b454b21",
   "metadata": {},
   "outputs": [
    {
     "name": "stdout",
     "output_type": "stream",
     "text": []
    }
   ],
   "source": [
    "write Level1.pass 200 : dom 100 : passTester L3? : Level1?\n",
    "write Level1.null 200 : dom 100 : nullTester L3? : Level1? "
   ]
  },
  {
   "cell_type": "code",
   "execution_count": 19,
   "id": "827b0c8d-585f-4c60-8411-fc7424b2c2b6",
   "metadata": {},
   "outputs": [
    {
     "name": "stdout",
     "output_type": "stream",
     "text": [
      "(with ANY:◎) (with ALL:◎) (with aj:◎) (with ap:◎) (with aq:) (with ar:) (with arg:) (with atoms:◎) (with back:) (with backstrip:◎) (with bin:◎) (with bool:◎) (with collect:◎) (with common:) (with const:) (with count:◎) (with domain:◎) (with dup:) (with ends:) (with equal:◎) (with equiv:◎) (with front:) (with frontstrip:◎) (with get:) (with grp:◎) (with has:) (with hasnt:◎) (with if:◎) (with ints:) (with is:) (with isnt:◎) (with ker:) (with left:◎) (with less:) (with more:◎) (with nats:) (with nif:) (with not:◎) (with null:) (with once:◎) (with pass:◎) (with plus:◎) (with post:◎) (with pre:◎) (with prod:◎) (with put:◎) (with rev:◎) (with right:◎) (with star:◎) (with starts:◎) (with sum:) (with width:)\n",
      "-\n",
      "(with ANY:◎) (with ALL:◎) (with ap:◎) (with aq:◎) (with ar:◎) (with arg:◎) (with atoms:◎) (with back:◎) (with backstrip:) (with bin:◎) (with bool:◎) (with collect:◎) (with common:◎) (with const:◎) (with count:◎) (with domain:◎) (with dup:◎) (with ends:◎) (with equal:) (with equiv:◎) (with front:◎) (with frontstrip:) (with get:◎) (with grp:◎) (with has:◎) (with hasnt:) (with if:) (with ints:◎) (with is:◎) (with isnt:) (with ker:◎) (with left:◎) (with less:◎) (with more:) (with nats:◎) (with nif:◎) (with not:◎) (with null:◎) (with once:◎) (with pass:) (with plus:◎) (with post:) (with pre:) (with prod:) (with put:◎) (with rev:◎) (with right:◎) (with star:◎) (with starts:) (with sum:◎) (with width:◎)"
     ]
    }
   ],
   "source": [
    "read : Level1.null \n",
    "-\n",
    "read : Level1.pass "
   ]
  },
  {
   "cell_type": "code",
   "execution_count": 54,
   "id": "f0ebf34b-35ac-407b-a8ab-452717622376",
   "metadata": {},
   "outputs": [
    {
     "name": "stdout",
     "output_type": "stream",
     "text": []
    }
   ],
   "source": [
    "write Level1.nontrivial 100 : ap {(:arg:B)} : ap {if ((count:right:B)=2):B} : collect: ap read : Level1.null Level1.pass "
   ]
  },
  {
   "cell_type": "code",
   "execution_count": 56,
   "id": "20aa1ebc-db7f-4839-b0b4-4fc3c3c662b8",
   "metadata": {},
   "outputs": [
    {
     "name": "stdout",
     "output_type": "stream",
     "text": [
      "(:ANY) (:ALL) (:ap) (:atoms) (:bin) (:bool) (:collect) (:count) (:domain) (:equiv) (:grp) (:left) (:not) (:once) (:plus) (:put) (:rev) (:right) (:star)"
     ]
    }
   ],
   "source": [
    "read : Level1.nontrivial "
   ]
  },
  {
   "cell_type": "code",
   "execution_count": null,
   "id": "9a9b9366-e7e9-4391-bdef-699b0acb57ac",
   "metadata": {},
   "outputs": [],
   "source": []
  },
  {
   "cell_type": "markdown",
   "id": "a4f1499e-abf4-4e9d-910f-ab93d7d6d911",
   "metadata": {},
   "source": [
    "## Level 2"
   ]
  },
  {
   "cell_type": "code",
   "execution_count": 9,
   "id": "c95bfbce-9b85-4be3-882b-39e3899f290a",
   "metadata": {},
   "outputs": [
    {
     "name": "stdout",
     "output_type": "stream",
     "text": [
      "3083\n",
      "3083"
     ]
    }
   ],
   "source": [
    "count : Level2?\n",
    "count : once : Level2?"
   ]
  },
  {
   "cell_type": "code",
   "execution_count": 10,
   "id": "611b8616-f518-4a61-a16c-39539a0a6e1c",
   "metadata": {},
   "outputs": [
    {
     "name": "stdout",
     "output_type": "stream",
     "text": []
    }
   ],
   "source": [
    "write Level2.pass 600 : dom 100 : passTester L3? : Level2?\n",
    "write Level2.null 600 : dom 100 : nullTester L3? : Level2? "
   ]
  },
  {
   "cell_type": "code",
   "execution_count": 11,
   "id": "6118d0a0-60c0-405d-b17f-0a4cfaea1ccc",
   "metadata": {},
   "outputs": [
    {
     "name": "stdout",
     "output_type": "stream",
     "text": [
      " (with ANY:◎) \n",
      " (with ALL:◎) \n",
      " (with aj:◎) \n",
      " (with ap:◎) \n",
      " (with aq:) \n",
      " (with ar:) \n",
      " (with arg:) \n",
      " (with atoms:◎) \n",
      " (with back:) \n",
      " (with backstrip:◎) \n"
     ]
    }
   ],
   "source": [
    "tab : first 10 : collect : read : Level2.null "
   ]
  },
  {
   "cell_type": "code",
   "execution_count": 13,
   "id": "8712e890-dd8d-4933-ae20-a6c9237204bc",
   "metadata": {
    "collapsed": true,
    "jupyter": {
     "outputs_hidden": true
    },
    "tags": []
   },
   "outputs": [
    {
     "name": "stdout",
     "output_type": "stream",
     "text": [
      "(with ANY:◎ ◎) (with ALL:◎ ◎) (with ap:◎ ◎) (with atoms:◎ ◎) (with bin:◎ ◎) (with bool:◎ ◎) (with collect:◎ ◎) (with count:◎ ◎) (with domain:◎ ◎) (with equiv:◎ ◎) (with grp:◎ ◎) (with left:◎ ◎) (with not:◎ ◎) (with once:◎ ◎) (with plus:◎ ◎) (with put:◎ ◎) (with rev:◎ ◎) (with right:◎ ◎) (with star:◎ ◎) (with count sum:◎ ◎) (with not aq:◎ ◎) (with width has:◎ ◎) (with back domain:◎ ◎) (with right left:◎ ◎) (with atoms dup:◎ ◎) (with put star:◎ ◎) (with aj bin:◎ ◎) (with aj rev:◎ ◎) (with right isnt:◎ ◎) (with right dup:◎ ◎) (with star less:◎ ◎) (with domain once:◎ ◎) (with back rev:◎ ◎) (with equal grp:◎ ◎) (with atoms pre:◎ ◎) (with b const:◎ ◎) (with more bool:◎ ◎) (with width ai:◎ ◎) (with back b:◎ ◎) (with not frontstrip:◎ ◎) (with equal collect:◎ ◎) (with bool grp:◎ ◎) (with more sum:◎ ◎) (with some collect:◎ ◎) (with const atoms:◎ ◎) (with aj width:◎ ◎) (with back bin:◎ ◎) (with bool starts:◎ ◎) (with some ints:◎ ◎) (with equal ar:◎ ◎) (with rev bool:◎ ◎) (with front once:◎ ◎) (with some arg:◎ ◎) (with not equiv:◎ ◎) (with bool pre:◎ ◎) (with width ap:◎ ◎) (with plus get:◎ ◎) (with equiv get:◎ ◎) (with equal put:◎ ◎) (with back isnt:◎ ◎) (with post const:◎ ◎) (with const ints:◎ ◎) (with b backstrip:◎ ◎) (with width ints:◎ ◎) (with domain ap:◎ ◎) (with some pre:◎ ◎) (with grp const:◎ ◎) (with equiv ints:◎ ◎) (with less not:◎ ◎) (with less bin:◎ ◎) (with width sum:◎ ◎) (with once null:◎ ◎) (with left grp:◎ ◎) (with star sum:◎ ◎) (with some aj:◎ ◎) (with more common:◎ ◎) (with count has:◎ ◎) (with count arg:◎ ◎) (with domain pass:◎ ◎) (with less b:◎ ◎) (with grp nif:◎ ◎) (with pre aj:◎ ◎) (with atoms ints:◎ ◎) (with count equal:◎ ◎) (with aj nats:◎ ◎) (with pre get:◎ ◎) (with less atoms:◎ ◎) (with count collect:◎ ◎) (with pre b:◎ ◎) (with bool less:◎ ◎) (with not get:◎ ◎) (with not isnt:◎ ◎) (with equiv rev:◎ ◎) (with pre nif:◎ ◎) (with plus nif:◎ ◎) (with less collect:◎ ◎) (with post ai:◎ ◎) (with left post:◎ ◎) (with more collect:◎ ◎) (with star null:◎ ◎) (with const null:◎ ◎) (with some aq:◎ ◎) (with b ends:◎ ◎) (with star aq:◎ ◎) (with more grp:◎ ◎) (with b common:◎ ◎) (with aj starts:◎ ◎) (with atoms collect:◎ ◎) (with plus aq:◎ ◎) (with width nats:◎ ◎) (with star not:◎ ◎) (with grp rev:◎ ◎) (with once hasnt:◎ ◎) (with back a:◎ ◎) (with post ker:◎ ◎) (with collect not:◎ ◎) (with bin pass:◎ ◎) (with grp equal:◎ ◎) (with left domain:◎ ◎) (with back is:◎ ◎) (with right null:◎ ◎) (with bool if:◎ ◎) (with equal right:◎ ◎) (with width collect:◎ ◎) (with pre if:◎ ◎) (with const rev:◎ ◎) (with atoms a:◎ ◎) (with front atoms:◎ ◎) (with not ar:◎ ◎) (with more star:◎ ◎) (with width right:◎ ◎) (with not const:◎ ◎) (with domain ar:◎ ◎) (with more ends:◎ ◎) (with back star:◎ ◎) (with not atoms:◎ ◎) (with b equal:◎ ◎) (with bin star:◎ ◎) (with atoms aq:◎ ◎) (with collect const:◎ ◎) (with bin const:◎ ◎) (with more put:◎ ◎) (with more bin:◎ ◎) (with atoms ends:◎ ◎) (with const width:◎ ◎) (with ap bin:◎ ◎) (with front frontstrip:◎ ◎) (with put equiv:◎ ◎) (with pre put:◎ ◎) (with bin width:◎ ◎) (with not rev:◎ ◎) (with count less:◎ ◎) (with some left:◎ ◎) (with right some:◎ ◎) (with atoms some:◎ ◎) (with star grp:◎ ◎) (with not prod:◎ ◎) (with rev nif:◎ ◎) (with back prod:◎ ◎) (with const plus:◎ ◎) (with width bin:◎ ◎) (with rev back:◎ ◎) (with star pre:◎ ◎) (with star ends:◎ ◎) (with right ap:◎ ◎) (with once b:◎ ◎) (with domain get:◎ ◎) (with bin starts:◎ ◎) (with more a:◎ ◎) (with collect prod:◎ ◎) (with front aq:◎ ◎) (with collect post:◎ ◎) (with bin front:◎ ◎) (with width grp:◎ ◎) (with collect equiv:◎ ◎) (with equiv pre:◎ ◎) (with width once:◎ ◎) (with less isnt:◎ ◎) (with not a:◎ ◎) (with post right:◎ ◎) (with plus ap:◎ ◎) (with put left:◎ ◎) (with while collect:◎ ◎) (with post if:◎ ◎) (with less if:◎ ◎) (with b nats:◎ ◎) (with some if:◎ ◎) (with left has:◎ ◎) (with right domain:◎ ◎) (with pre sum:◎ ◎) (with count left:◎ ◎) (with count back:◎ ◎) (with pre aq:◎ ◎) (with bool bin:◎ ◎) (with count dup:◎ ◎) (with left back:◎ ◎) (with plus ker:◎ ◎) (with front less:◎ ◎) (with grp grp:◎ ◎) (with left prod:◎ ◎) (with domain left:◎ ◎) (with bool right:◎ ◎) (with less null:◎ ◎) (with aj plus:◎ ◎) (with right a:◎ ◎) (with aj equal:◎ ◎) (with once equiv:◎ ◎) (with some ker:◎ ◎) (with b bool:◎ ◎) (with width rev:◎ ◎) (with once common:◎ ◎) (with not right:◎ ◎) (with bin ker:◎ ◎) (with once dup:◎ ◎) (with equiv isnt:◎ ◎) (with star dup:◎ ◎) (with collect rev:◎ ◎) (with atoms backstrip:◎ ◎) (with left nif:◎ ◎) (with left pass:◎ ◎) (with front ar:◎ ◎) (with rev common:◎ ◎) (with aj count:◎ ◎) (with equal null:◎ ◎) (with grp if:◎ ◎) (with plus backstrip:◎ ◎) (with domain common:◎ ◎) (with once left:◎ ◎) (with not arg:◎ ◎) (with grp bool:◎ ◎) (with rev left:◎ ◎) (with right const:◎ ◎) (with collect bin:◎ ◎) (with once aq:◎ ◎) (with equal sum:◎ ◎) (with equal nif:◎ ◎) (with pre arg:◎ ◎) (with less prod:◎ ◎) (with equal plus:◎ ◎) (with atoms const:◎ ◎) (with plus some:◎ ◎) (with collect once:◎ ◎) (with once backstrip:◎ ◎) (with star ar:◎ ◎) (with equal b:◎ ◎) (with b not:◎ ◎) (with equiv has:◎ ◎) (with front hasnt:◎ ◎) (with front plus:◎ ◎) (with grp left:◎ ◎) (with aj if:◎ ◎) (with right not:◎ ◎) (with bin once:◎ ◎) (with equiv aj:◎ ◎) (with width b:◎ ◎) (with equiv if:◎ ◎) (with some equiv:◎ ◎) (with bin put:◎ ◎) (with back ai:◎ ◎) (with right equiv:◎ ◎) (with rev ap:◎ ◎) (with front rev:◎ ◎) (with left ai:◎ ◎) (with domain backstrip:◎ ◎) (with not left:◎ ◎) (with pre has:◎ ◎) (with bool atoms:◎ ◎) (with more plus:◎ ◎) (with left is:◎ ◎) (with left aj:◎ ◎) (with aj right:◎ ◎) (with rev isnt:◎ ◎) (with count common:◎ ◎) (with put ap:◎ ◎) (with front ends:◎ ◎) (with domain ker:◎ ◎) (with grp pass:◎ ◎) (with equiv starts:◎ ◎) (with plus grp:◎ ◎) (with once back:◎ ◎) (with more while:◎ ◎) (with left null:◎ ◎) (with rev b:◎ ◎) (with back while:◎ ◎) (with count ends:◎ ◎) (with pre ints:◎ ◎) (with less aj:◎ ◎) (with collect common:◎ ◎) (with some get:◎ ◎) (with less some:◎ ◎) (with equal not:◎ ◎) (with domain is:◎ ◎) (with count isnt:◎ ◎) (with bin rev:◎ ◎) (with front bin:◎ ◎) (with bool hasnt:◎ ◎) (with once ai:◎ ◎) (with const more:◎ ◎) (with grp back:◎ ◎) (with aj frontstrip:◎ ◎) (with b b:◎ ◎) (with bool domain:◎ ◎) (with equiv some:◎ ◎) (with bin ar:◎ ◎) (with not post:◎ ◎) (with right is:◎ ◎) (with b pass:◎ ◎) (with once once:◎ ◎) (with width less:◎ ◎) (with const star:◎ ◎) (with pre starts:◎ ◎) (with plus ints:◎ ◎) (with equiv once:◎ ◎) (with left width:◎ ◎) (with left b:◎ ◎) (with right ker:◎ ◎) (with pre nats:◎ ◎) (with bool const:◎ ◎) (with domain plus:◎ ◎) (with collect ker:◎ ◎) (with back aq:◎ ◎) (with star isnt:◎ ◎) (with right aq:◎ ◎) (with more b:◎ ◎) (with once ar:◎ ◎) (with left count:◎ ◎) (with back nats:◎ ◎) (with count ker:◎ ◎) (with equiv grp:◎ ◎) (with once star:◎ ◎) (with front not:◎ ◎) (with rev more:◎ ◎) (with domain nats:◎ ◎) (with domain isnt:◎ ◎) (with star aj:◎ ◎) (with more if:◎ ◎) (with not if:◎ ◎) (with once bin:◎ ◎) (with more starts:◎ ◎) (with not more:◎ ◎) (with atoms common:◎ ◎) (with once a:◎ ◎) (with width hasnt:◎ ◎) (with b dup:◎ ◎) (with bool once:◎ ◎) (with bool dup:◎ ◎) (with domain bool:◎ ◎) (with put grp:◎ ◎) (with plus bool:◎ ◎) (with rev ker:◎ ◎) (with once post:◎ ◎) (with right if:◎ ◎) (with bool aj:◎ ◎) (with back left:◎ ◎) (with right pass:◎ ◎) (with left hasnt:◎ ◎) (with grp is:◎ ◎) (with post some:◎ ◎) (with less count:◎ ◎) (with right front:◎ ◎) (with back has:◎ ◎) (with collect if:◎ ◎) (with grp bin:◎ ◎) (with width a:◎ ◎) (with equal arg:◎ ◎) (with plus a:◎ ◎) (with bin isnt:◎ ◎) (with left plus:◎ ◎) (with atoms bool:◎ ◎) (with right bin:◎ ◎) (with count nif:◎ ◎) (with aj once:◎ ◎) (with while bool:◎ ◎) (with bin ends:◎ ◎) (with equal more:◎ ◎) (with b:◎ ◎) (with const domain:◎ ◎) (with equal bin:◎ ◎) (with aj has:◎ ◎) (with grp starts:◎ ◎) (with bin has:◎ ◎) (with width not:◎ ◎) (with front ap:◎ ◎) (with plus ai:◎ ◎) (with front ker:◎ ◎) (with back grp:◎ ◎) (with post ap:◎ ◎) (with left rev:◎ ◎) (with plus less:◎ ◎) (with post more:◎ ◎) (with aj left:◎ ◎) (with count right:◎ ◎) (with count count:◎ ◎) (with less equiv:◎ ◎) (with b post:◎ ◎) (with const nats:◎ ◎) (with equal pass:◎ ◎) (with const bin:◎ ◎) (with atoms null:◎ ◎) (with equiv backstrip:◎ ◎) (with plus count:◎ ◎) (with pre ai:◎ ◎) (with not ints:◎ ◎) (with not backstrip:◎ ◎) (with star domain:◎ ◎) (with right starts:◎ ◎) (with pre is:◎ ◎) (with grp ai:◎ ◎) (with not bin:◎ ◎) (with once pass:◎ ◎) (with width is:◎ ◎) (with less arg:◎ ◎) (with atoms pass:◎ ◎) (with front star:◎ ◎) (with equiv left:◎ ◎) (with atoms while:◎ ◎) (with b more:◎ ◎) (with collect star:◎ ◎) (with aj nif:◎ ◎) (with plus const:◎ ◎) (with bin if:◎ ◎) (with b back:◎ ◎) (with front width:◎ ◎) (with pre width:◎ ◎) (with bool ar:◎ ◎) (with collect arg:◎ ◎) (with some isnt:◎ ◎) (with collect dup:◎ ◎) (with aj grp:◎ ◎) (with post back:◎ ◎) (with star right:◎ ◎) (with less left:◎ ◎) (with b while:◎ ◎) (with b prod:◎ ◎) (with aj bool:◎ ◎) (with not count:◎ ◎) (with count ap:◎ ◎) (with ap grp:◎ ◎) (with star starts:◎ ◎) (with back front:◎ ◎) (with some while:◎ ◎) (with atoms not:◎ ◎) (with equal hasnt:◎ ◎) (with grp ker:◎ ◎) (with pre ar:◎ ◎) (with pre atoms:◎ ◎) (with once front:◎ ◎) (with some nif:◎ ◎) (with rev atoms:◎ ◎) (with front more:◎ ◎) (with pre domain:◎ ◎) (with rev aj:◎ ◎) (with aj get:◎ ◎) (with const ai:◎ ◎) (with star ker:◎ ◎) (with plus plus:◎ ◎) (with post b:◎ ◎) (with some right:◎ ◎) (with collect has:◎ ◎) (with front post:◎ ◎) (with left bool:◎ ◎) (with some star:◎ ◎) (with bin is:◎ ◎) (with star star:◎ ◎) (with collect backstrip:◎ ◎) (with bin frontstrip:◎ ◎) (with width common:◎ ◎) (with b right:◎ ◎) (with const starts:◎ ◎) (with aj back:◎ ◎) (with atoms get:◎ ◎) (with plus if:◎ ◎) (with const back:◎ ◎) (with some a:◎ ◎) (with plus post:◎ ◎) (with star is:◎ ◎) (with count rev:◎ ◎) (with pre const:◎ ◎) (with plus back:◎ ◎) (with bool while:◎ ◎) (with b null:◎ ◎) (with more ai:◎ ◎) (with grp ends:◎ ◎) (with some count:◎ ◎) (with equiv star:◎ ◎) (with const arg:◎ ◎) (with bin ai:◎ ◎) (with left aq:◎ ◎) (with bool left:◎ ◎) (with star count:◎ ◎) (with star hasnt:◎ ◎) (with back starts:◎ ◎) (with once ker:◎ ◎) (with plus collect:◎ ◎) (with while count:◎ ◎) (with left frontstrip:◎ ◎) (with atoms ap:◎ ◎) (with bin equal:◎ ◎) (with pre bin:◎ ◎) (with domain ends:◎ ◎) (with back const:◎ ◎) (with some dup:◎ ◎) (with const equal:◎ ◎) (with bool equal:◎ ◎) (with bool prod:◎ ◎) (with pre equiv:◎ ◎) (with atoms equal:◎ ◎) (with atoms nif:◎ ◎) (with less is:◎ ◎) (with post hasnt:◎ ◎) (with plus more:◎ ◎) (with bin bin:◎ ◎) (with equal frontstrip:◎ ◎) (with grp plus:◎ ◎) (with star get:◎ ◎) (with bool ai:◎ ◎) (with aj const:◎ ◎) (with less aq:◎ ◎) (with some ai:◎ ◎) (with star has:◎ ◎) (with bin bool:◎ ◎) (with once right:◎ ◎) (with once put:◎ ◎) (with bool bool:◎ ◎) (with right less:◎ ◎) (with right backstrip:◎ ◎) (with collect ends:◎ ◎) (with collect back:◎ ◎) (with more once:◎ ◎) (with aj front:◎ ◎) (with const common:◎ ◎) (with right frontstrip:◎ ◎) (with aj domain:◎ ◎) (with bin a:◎ ◎) (with domain count:◎ ◎) (with equiv collect:◎ ◎) (with atoms prod:◎ ◎) (with post plus:◎ ◎) (with right rev:◎ ◎) (with aj collect:◎ ◎) (with once aj:◎ ◎) (with count a:◎ ◎) (with rev rev:◎ ◎) (with once sum:◎ ◎) (with ap right:◎ ◎) (with post collect:◎ ◎) (with collect left:◎ ◎) (with post atoms:◎ ◎) (with b ai:◎ ◎) (with post get:◎ ◎) (with aj common:◎ ◎) (with count get:◎ ◎) (with ap put:◎ ◎) (with domain null:◎ ◎) (with collect sum:◎ ◎) (with equal domain:◎ ◎) (with width width:◎ ◎) (with put once:◎ ◎) (with post ends:◎ ◎) (with less nats:◎ ◎) (with post post:◎ ◎) (with aj is:◎ ◎) (with grp width:◎ ◎) (with domain nif:◎ ◎) (with front is:◎ ◎) (with collect pass:◎ ◎) (with post domain:◎ ◎) (with some prod:◎ ◎) (with once not:◎ ◎) (with post nif:◎ ◎) (with right ai:◎ ◎) (with equal left:◎ ◎) (with right nats:◎ ◎) (with width frontstrip:◎ ◎) (with less domain:◎ ◎) (with once less:◎ ◎) (with b plus:◎ ◎) (with pre dup:◎ ◎) (with back back:◎ ◎) (with grp count:◎ ◎) (with ap b:◎ ◎) (with rev collect:◎ ◎) (with collect null:◎ ◎) (with aj ints:◎ ◎) (with star put:◎ ◎) (with plus once:◎ ◎) (with bin common:◎ ◎) (with equal ker:◎ ◎) (with left put:◎ ◎) (with back get:◎ ◎) (with front nif:◎ ◎) (with pre isnt:◎ ◎) (with domain ai:◎ ◎) (with front aj:◎ ◎) (with post backstrip:◎ ◎) (with left dup:◎ ◎) (with atoms isnt:◎ ◎) (with const pre:◎ ◎) (with width star:◎ ◎) (with front right:◎ ◎) (with right arg:◎ ◎) (with count hasnt:◎ ◎) (with star front:◎ ◎) (with more nats:◎ ◎) (with equiv is:◎ ◎) (with equal count:◎ ◎) (with domain a:◎ ◎) (with atoms ai:◎ ◎) (with less sum:◎ ◎) (with width backstrip:◎ ◎) (with b front:◎ ◎) (with post prod:◎ ◎) (with less put:◎ ◎) (with equiv const:◎ ◎) (with domain more:◎ ◎) (with domain frontstrip:◎ ◎) (with back atoms:◎ ◎) (with back count:◎ ◎) (with back frontstrip:◎ ◎) (with const ker:◎ ◎) (with rev frontstrip:◎ ◎) (with some front:◎ ◎) (with count some:◎ ◎) (with atoms domain:◎ ◎) (with bin equiv:◎ ◎) (with pre front:◎ ◎) (with grp sum:◎ ◎) (with pre null:◎ ◎) (with aj atoms:◎ ◎) (with star a:◎ ◎) (with less more:◎ ◎) (with right prod:◎ ◎) (with some atoms:◎ ◎) (with once some:◎ ◎) (with pre once:◎ ◎) (with rev arg:◎ ◎) (with domain has:◎ ◎) (with once width:◎ ◎) (with not aj:◎ ◎) (with atoms bin:◎ ◎) (with bool isnt:◎ ◎) (with count prod:◎ ◎) (with some nats:◎ ◎) (with equiv hasnt:◎ ◎) (with bin back:◎ ◎) (with some starts:◎ ◎) (with domain star:◎ ◎) (with const left:◎ ◎) (with plus null:◎ ◎) (with aj ai:◎ ◎) (with rev dup:◎ ◎) (with const get:◎ ◎) (with less ar:◎ ◎) (with bool back:◎ ◎) (with back bool:◎ ◎) (with less ap:◎ ◎) (with pre equal:◎ ◎) (with left starts:◎ ◎) (with equiv b:◎ ◎) (with grp collect:◎ ◎) (with const a:◎ ◎) (with plus sum:◎ ◎) (with left common:◎ ◎) (with rev front:◎ ◎) (with ap count:◎ ◎) (with collect ar:◎ ◎) (with atoms star:◎ ◎) (with equiv frontstrip:◎ ◎) (with rev sum:◎ ◎) (with width domain:◎ ◎) (with rev starts:◎ ◎) (with domain atoms:◎ ◎) (with more rev:◎ ◎) (with star atoms:◎ ◎) (with equiv ker:◎ ◎) (with right star:◎ ◎) (with width bool:◎ ◎) (with front equal:◎ ◎) (with more const:◎ ◎) (with grp hasnt:◎ ◎) (with some backstrip:◎ ◎) (with plus rev:◎ ◎) (with star nif:◎ ◎) (with post ar:◎ ◎) (with rev post:◎ ◎) (with count atoms:◎ ◎) (with front grp:◎ ◎) (with width some:◎ ◎) (with width put:◎ ◎) (with count equiv:◎ ◎) (with domain put:◎ ◎) (with equal isnt:◎ ◎) (with once grp:◎ ◎) (with count width:◎ ◎) (with collect b:◎ ◎) (with width aj:◎ ◎) (with post equal:◎ ◎) (with right once:◎ ◎) (with collect ai:◎ ◎) (with less equal:◎ ◎) (with star plus:◎ ◎) (with grp more:◎ ◎) (with rev nats:◎ ◎) (with pre post:◎ ◎) (with bool has:◎ ◎) (with back right:◎ ◎) (with bool sum:◎ ◎) (with star b:◎ ◎) (with not pass:◎ ◎) (with less bool:◎ ◎) (with not ap:◎ ◎) (with bool a:◎ ◎) (with equiv bool:◎ ◎) (with rev ints:◎ ◎) (with right back:◎ ◎) (with grp common:◎ ◎) (with back ap:◎ ◎) (with less has:◎ ◎) (with equal ints:◎ ◎) (with post nats:◎ ◎) (with put not:◎ ◎) (with collect some:◎ ◎) (with right atoms:◎ ◎) (with put rev:◎ ◎) (with post has:◎ ◎) (with bin domain:◎ ◎) (with star nats:◎ ◎) (with b aq:◎ ◎) (with equiv atoms:◎ ◎) (with plus put:◎ ◎) (with width count:◎ ◎) (with front nats:◎ ◎) (with star once:◎ ◎) (with front domain:◎ ◎) (with post rev:◎ ◎) (with plus equiv:◎ ◎) (with rev plus:◎ ◎) (with equiv right:◎ ◎) (with b width:◎ ◎) (with equiv nats:◎ ◎) (with left ends:◎ ◎) (with bin atoms:◎ ◎) (with right equal:◎ ◎) (with b once:◎ ◎) (with pre ker:◎ ◎) (with once is:◎ ◎) (with bool is:◎ ◎) (with collect front:◎ ◎) (with front back:◎ ◎) (with post once:◎ ◎) (with bool ker:◎ ◎) (with post bool:◎ ◎) (with bool put:◎ ◎) (with some rev:◎ ◎) (with right plus:◎ ◎) (with count while:◎ ◎) (with star prod:◎ ◎) (with count nats:◎ ◎) (with once pre:◎ ◎) (with grp has:◎ ◎) (with domain right:◎ ◎) (with once count:◎ ◎) (with aj null:◎ ◎) (with aj b:◎ ◎) (with star common:◎ ◎) (with aj ar:◎ ◎) (with bin nats:◎ ◎) (with post ints:◎ ◎) (with once rev:◎ ◎) (with left pre:◎ ◎) (with aj ends:◎ ◎) (with count more:◎ ◎) (with pre less:◎ ◎) (with grp not:◎ ◎) (with not has:◎ ◎) (with get b:◎ ◎) (with right ar:◎ ◎) (with star backstrip:◎ ◎) (with star more:◎ ◎) (with atoms frontstrip:◎ ◎) (with rev grp:◎ ◎) (with collect width:◎ ◎) (with more null:◎ ◎) (with back plus:◎ ◎) (with back sum:◎ ◎) (with equiv post:◎ ◎) (with equiv sum:◎ ◎) (with some width:◎ ◎) (with bin left:◎ ◎) (with back post:◎ ◎) (with bool get:◎ ◎) (with more isnt:◎ ◎) (with right common:◎ ◎) (with put domain:◎ ◎) (with post while:◎ ◎) (with grp equiv:◎ ◎) (with count aj:◎ ◎) (with collect put:◎ ◎) (with b if:◎ ◎) (with plus isnt:◎ ◎) (with grp prod:◎ ◎) (with once nif:◎ ◎) (with while once:◎ ◎) (with rev equiv:◎ ◎) (with const if:◎ ◎) (with equal is:◎ ◎) (with some ends:◎ ◎) (with collect aj:◎ ◎) (with width dup:◎ ◎) (with left collect:◎ ◎) (with b left:◎ ◎) (with less less:◎ ◎) (with domain width:◎ ◎) (with count pre:◎ ◎) (with count is:◎ ◎) (with b a:◎ ◎) (with rev ar:◎ ◎) (with rev ends:◎ ◎) (with more arg:◎ ◎) (with equal equal:◎ ◎) (with bool frontstrip:◎ ◎) (with front dup:◎ ◎) (with front backstrip:◎ ◎) (with b atoms:◎ ◎) (with post pre:◎ ◎) (with rev has:◎ ◎) (with front arg:◎ ◎) (with back arg:◎ ◎) (with less right:◎ ◎) (with pre right:◎ ◎) (with plus is:◎ ◎) (with equal rev:◎ ◎) (with not pre:◎ ◎) (with left bin:◎ ◎) (with rev a:◎ ◎) (with b get:◎ ◎) (with width post:◎ ◎) (with collect count:◎ ◎) (with right grp:◎ ◎) (with equal less:◎ ◎) (with plus pass:◎ ◎) (with post is:◎ ◎) (with equal while:◎ ◎) (with not ai:◎ ◎) (with once ints:◎ ◎) (with more equal:◎ ◎) (with equal has:◎ ◎) (with left backstrip:◎ ◎) (with left isnt:◎ ◎) (with right aj:◎ ◎) (with some once:◎ ◎) (with grp domain:◎ ◎) (with equiv back:◎ ◎) (with post bin:◎ ◎) (with more equiv:◎ ◎) (with collect equal:◎ ◎) (with pre some:◎ ◎) (with domain front:◎ ◎) (with ap atoms:◎ ◎) (with back ar:◎ ◎) (with not plus:◎ ◎) (with const dup:◎ ◎) (with not hasnt:◎ ◎) (with more back:◎ ◎) (with collect domain:◎ ◎) (with more hasnt:◎ ◎) (with right ends:◎ ◎) (with star width:◎ ◎) (with bool some:◎ ◎) (with once ap:◎ ◎) (with front collect:◎ ◎) (with front prod:◎ ◎) (with collect atoms:◎ ◎) (with plus star:◎ ◎) (with more ap:◎ ◎) (with const right:◎ ◎) (with collect frontstrip:◎ ◎) (with const ends:◎ ◎) (with atoms plus:◎ ◎) (with left sum:◎ ◎) (with bool nif:◎ ◎) (with const less:◎ ◎) (with equiv less:◎ ◎) (with some not:◎ ◎) (with equiv ar:◎ ◎) (with equiv more:◎ ◎) (with domain less:◎ ◎) (with plus dup:◎ ◎) (with domain bin:◎ ◎) (with not common:◎ ◎) (with grp ap:◎ ◎) (with post starts:◎ ◎) (with once has:◎ ◎) (with some sum:◎ ◎) (with domain starts:◎ ◎) (with less const:◎ ◎) (with not ker:◎ ◎) (with pre ap:◎ ◎) (with count if:◎ ◎) (with more left:◎ ◎) (with count front:◎ ◎) (with count ar:◎ ◎) (with grp pre:◎ ◎) (with count plus:◎ ◎) (with right count:◎ ◎) (with back some:◎ ◎) (with equal if:◎ ◎) (with left star:◎ ◎) (with equal bool:◎ ◎) (with post front:◎ ◎) (with atoms back:◎ ◎) (with const sum:◎ ◎) (with put plus:◎ ◎) (with aj aj:◎ ◎) (with pre pass:◎ ◎) (with post equiv:◎ ◎) (with atoms ar:◎ ◎) (with count ints:◎ ◎) (with domain sum:◎ ◎) (with star ints:◎ ◎) (with width while:◎ ◎) (with bool star:◎ ◎) (with bin grp:◎ ◎) (with equal back:◎ ◎) (with some bin:◎ ◎) (with atoms aj:◎ ◎) (with const some:◎ ◎) (with const has:◎ ◎) (with grp atoms:◎ ◎) (with more atoms:◎ ◎) (with some equal:◎ ◎) (with grp arg:◎ ◎) (with domain grp:◎ ◎) (with width null:◎ ◎) (with plus ends:◎ ◎) (with const count:◎ ◎) (with width aq:◎ ◎) (with const pass:◎ ◎) (with less backstrip:◎ ◎) (with more is:◎ ◎) (with plus nats:◎ ◎) (with right b:◎ ◎) (with rev right:◎ ◎) (with plus width:◎ ◎) (with more prod:◎ ◎) (with not some:◎ ◎) (with some is:◎ ◎) (with plus domain:◎ ◎) (with grp null:◎ ◎) (with atoms nats:◎ ◎) (with more pre:◎ ◎) (with width pre:◎ ◎) (with back not:◎ ◎) (with collect a:◎ ◎) (with pre more:◎ ◎) (with atoms hasnt:◎ ◎) (with left equiv:◎ ◎) (with pre ends:◎ ◎) (with more more:◎ ◎) (with plus equal:◎ ◎) (with right hasnt:◎ ◎) (with less pre:◎ ◎) (with grp front:◎ ◎) (with grp nats:◎ ◎) (with domain ints:◎ ◎) (with star while:◎ ◎) (with once ends:◎ ◎) (with bool b:◎ ◎) (with equal once:◎ ◎) (with less back:◎ ◎) (with aj backstrip:◎ ◎) (with aj post:◎ ◎) (with right bool:◎ ◎) (with rev not:◎ ◎) (with b pre:◎ ◎) (with equiv domain:◎ ◎) (with atoms is:◎ ◎) (with atoms has:◎ ◎) (with while atoms:◎ ◎) (with plus not:◎ ◎) (with front equiv:◎ ◎) (with post aj:◎ ◎) (with bin ap:◎ ◎) (with front ints:◎ ◎) (with front const:◎ ◎) (with width arg:◎ ◎) (with put right:◎ ◎) (with put bin:◎ ◎) (with more domain:◎ ◎) (with collect ap:◎ ◎) (with bool post:◎ ◎) (with equal common:◎ ◎) (with left right:◎ ◎) (with pre while:◎ ◎) (with not is:◎ ◎) (with count b:◎ ◎) (with post sum:◎ ◎) (with left get:◎ ◎) (with bin more:◎ ◎) (with less once:◎ ◎) (with domain const:◎ ◎) (with back aj:◎ ◎) (with some hasnt:◎ ◎) (with once nats:◎ ◎) (with less ends:◎ ◎) (with not grp:◎ ◎) (with back less:◎ ◎) (with domain rev:◎ ◎) (with plus aj:◎ ◎) (with width back:◎ ◎) (with front a:◎ ◎) (with collect while:◎ ◎) (with equiv aq:◎ ◎) (with equal nats:◎ ◎) (with width left:◎ ◎) (with right get:◎ ◎) (with count star:◎ ◎) (with bin count:◎ ◎) (with const bool:◎ ◎) (with equal ap:◎ ◎) (with left some:◎ ◎) (with width equiv:◎ ◎) (with atoms rev:◎ ◎) (with front put:◎ ◎) (with aj aq:◎ ◎) (with some some:◎ ◎) (with grp ar:◎ ◎) (with b arg:◎ ◎) (with bin plus:◎ ◎) (with aj isnt:◎ ◎) (with collect ints:◎ ◎) (with domain b:◎ ◎) (with domain dup:◎ ◎) (with bin null:◎ ◎) (with const aq:◎ ◎) (with grp ints:◎ ◎) (with bin some:◎ ◎) (with plus while:◎ ◎) (with more not:◎ ◎) (with b equiv:◎ ◎) (with more count:◎ ◎) (with bin aj:◎ ◎) (with grp aq:◎ ◎) (with less ker:◎ ◎) (with const not:◎ ◎) (with some back:◎ ◎) (with pre star:◎ ◎) (with equiv plus:◎ ◎) (with bin hasnt:◎ ◎) (with count null:◎ ◎) (with grp aj:◎ ◎) (with atoms right:◎ ◎) (with const b:◎ ◎) (with left equal:◎ ◎) (with pre count:◎ ◎) (with bool aq:◎ ◎) (with domain hasnt:◎ ◎) (with left arg:◎ ◎) (with not b:◎ ◎) (with less hasnt:◎ ◎) (with bin right:◎ ◎) (with domain arg:◎ ◎) (with plus left:◎ ◎) (with bin prod:◎ ◎) (with aj some:◎ ◎) (with grp once:◎ ◎) (with width ends:◎ ◎) (with grp post:◎ ◎) (with some grp:◎ ◎) (with atoms if:◎ ◎) (with rev backstrip:◎ ◎) (with once atoms:◎ ◎) (with equiv bin:◎ ◎) (with equiv not:◎ ◎) (with domain prod:◎ ◎) (with star post:◎ ◎) (with post a:◎ ◎) (with equal dup:◎ ◎) (with once plus:◎ ◎) (with atoms b:◎ ◎) (with pre backstrip:◎ ◎) (with ker right:◎ ◎) (with collect more:◎ ◎) (with rev less:◎ ◎) (with b grp:◎ ◎) (with once bool:◎ ◎) (with equal width:◎ ◎) (with pre common:◎ ◎) (with some common:◎ ◎) (with count const:◎ ◎) (with less dup:◎ ◎) (with domain equiv:◎ ◎) (with bool plus:◎ ◎) (with not while:◎ ◎) (with bin get:◎ ◎) (with rev put:◎ ◎) (with bin aq:◎ ◎) (with grp b:◎ ◎) (with count put:◎ ◎) (with some put:◎ ◎) (with more frontstrip:◎ ◎) (with domain some:◎ ◎) (with count not:◎ ◎) (with plus starts:◎ ◎) (with back more:◎ ◎) (with post frontstrip:◎ ◎) (with equiv a:◎ ◎) (with right while:◎ ◎) (with post common:◎ ◎) (with post less:◎ ◎) (with back once:◎ ◎) (with front front:◎ ◎) (with star frontstrip:◎ ◎) (with grp frontstrip:◎ ◎) (with count ai:◎ ◎) (with less frontstrip:◎ ◎) (with const backstrip:◎ ◎) (with const ar:◎ ◎) (with less front:◎ ◎) (with equiv equiv:◎ ◎) (with collect nif:◎ ◎) (with back equiv:◎ ◎) (with aj less:◎ ◎) (with right right:◎ ◎) (with more aj:◎ ◎) (with const post:◎ ◎) (with grp some:◎ ◎) (with bool arg:◎ ◎) (with rev pre:◎ ◎) (with star equal:◎ ◎) (with back hasnt:◎ ◎) (with post width:◎ ◎) (with rev const:◎ ◎) (with equal post:◎ ◎) (with bin dup:◎ ◎) (with plus arg:◎ ◎) (with bool more:◎ ◎) (with const put:◎ ◎) (with aj equiv:◎ ◎) (with more ar:◎ ◎) (with const grp:◎ ◎) (with some more:◎ ◎) (with ap bool:◎ ◎) (with domain equal:◎ ◎) (with left atoms:◎ ◎) (with count post:◎ ◎) (with not null:◎ ◎) (with some plus:◎ ◎) (with bool pass:◎ ◎) (with width const:◎ ◎) (with pre pre:◎ ◎) (with right put:◎ ◎) (with ap equiv:◎ ◎) (with less width:◎ ◎) (with aj prod:◎ ◎) (with equal const:◎ ◎) (with count grp:◎ ◎) (with once frontstrip:◎ ◎) (with rev pass:◎ ◎) (with collect is:◎ ◎) (with rev width:◎ ◎) (with not star:◎ ◎) (with width starts:◎ ◎) (with b frontstrip:◎ ◎) (with atoms width:◎ ◎) (with not collect:◎ ◎) (with back equal:◎ ◎) (with const aj:◎ ◎) (with width isnt:◎ ◎) (with bool ap:◎ ◎) (with back pass:◎ ◎) (with atoms once:◎ ◎) (with equal equiv:◎ ◎) (with put atoms:◎ ◎) (with left not:◎ ◎) (with domain aj:◎ ◎) (with some post:◎ ◎) (with equiv ends:◎ ◎) (with const once:◎ ◎) (with grp put:◎ ◎) (with b is:◎ ◎) (with const prod:◎ ◎) (with pre frontstrip:◎ ◎) (with atoms less:◎ ◎) (with more right:◎ ◎) (with once starts:◎ ◎) (with equal ends:◎ ◎) (with ap domain:◎ ◎) (with star ap:◎ ◎) (with front pass:◎ ◎) (with left less:◎ ◎) (with width equal:◎ ◎) (with bin backstrip:◎ ◎) (with equal aq:◎ ◎) (with equiv ap:◎ ◎) (with b ar:◎ ◎) (with domain domain:◎ ◎) (with collect hasnt:◎ ◎) (with left left:◎ ◎) (with grp isnt:◎ ◎) (with b starts:◎ ◎) (with pre back:◎ ◎) (with equiv nif:◎ ◎) (with rev is:◎ ◎) (with b nif:◎ ◎) (with width more:◎ ◎) (with width get:◎ ◎) (with pre plus:◎ ◎) (with pre grp:◎ ◎) (with bool not:◎ ◎) (with b rev:◎ ◎) (with not less:◎ ◎) (with post star:◎ ◎) (with some ap:◎ ◎) (with left more:◎ ◎) (with back collect:◎ ◎) (with post grp:◎ ◎) (with some has:◎ ◎) (with plus atoms:◎ ◎) (with b count:◎ ◎) (with left while:◎ ◎) (with star bin:◎ ◎) (with right nif:◎ ◎) (with back backstrip:◎ ◎) (with collect right:◎ ◎) (with rev null:◎ ◎) (with bin while:◎ ◎) (with less a:◎ ◎) (with b bin:◎ ◎) (with const isnt:◎ ◎) (with front has:◎ ◎) (with aj pass:◎ ◎) (with some pass:◎ ◎) (with atoms more:◎ ◎) (with aj sum:◎ ◎) (with pre rev:◎ ◎) (with not bool:◎ ◎) (with not ends:◎ ◎) (with pre bool:◎ ◎) (with front get:◎ ◎) (with left a:◎ ◎) (with right has:◎ ◎) (with left ints:◎ ◎) (with atoms atoms:◎ ◎) (with count pass:◎ ◎) (with bin less:◎ ◎) (with b put:◎ ◎) (with equal pre:◎ ◎) (with once get:◎ ◎) (with not not:◎ ◎) (with more nif:◎ ◎) (with atoms front:◎ ◎) (with rev prod:◎ ◎) (with once prod:◎ ◎) (with bin not:◎ ◎) (with post left:◎ ◎) (with collect aq:◎ ◎) (with b ap:◎ ◎) (with front common:◎ ◎) (with front while:◎ ◎) (with less starts:◎ ◎) (with put bool:◎ ◎) (with collect isnt:◎ ◎) (with ap plus:◎ ◎) (with collect grp:◎ ◎) (with rev while:◎ ◎) (with more pass:◎ ◎) (with left ap:◎ ◎) (with equal front:◎ ◎) (with more some:◎ ◎) (with more ker:◎ ◎) (with star ai:◎ ◎) (with star if:◎ ◎) (with bin b:◎ ◎) (with less star:◎ ◎) (with some null:◎ ◎) (with front ai:◎ ◎) (with not width:◎ ◎) (with star pass:◎ ◎) (with equiv front:◎ ◎) (with more dup:◎ ◎) (with bool width:◎ ◎) (with bin sum:◎ ◎) (with width prod:◎ ◎) (with rev count:◎ ◎) (with grp dup:◎ ◎) (with post null:◎ ◎) (with bool collect:◎ ◎) (with b less:◎ ◎) (with domain while:◎ ◎) (with count backstrip:◎ ◎) (with back ints:◎ ◎) (with star equiv:◎ ◎) (with collect nats:◎ ◎) (with equal star:◎ ◎) (with grp while:◎ ◎) (with equal some:◎ ◎) (with width ker:◎ ◎) (with front isnt:◎ ◎) (with bin ints:◎ ◎) (with atoms equiv:◎ ◎) (with rev some:◎ ◎) (with equal get:◎ ◎) (with plus pre:◎ ◎) (with less rev:◎ ◎) (with star some:◎ ◎) (with const hasnt:◎ ◎) (with right pre:◎ ◎) (with plus front:◎ ◎) (with right collect:◎ ◎) (with star const:◎ ◎) (with rev equal:◎ ◎) (with front count:◎ ◎) (with left const:◎ ◎) (with domain not:◎ ◎) (with post aq:◎ ◎) (with plus frontstrip:◎ ◎) (with width nif:◎ ◎) (with not once:◎ ◎) (with some domain:◎ ◎) (with some bool:◎ ◎) (with equiv prod:◎ ◎) (with right ints:◎ ◎) (with const ap:◎ ◎) (with domain post:◎ ◎) (with less plus:◎ ◎) (with star bool:◎ ◎) (with some const:◎ ◎) (with rev domain:◎ ◎) (with plus ar:◎ ◎) (with front bool:◎ ◎) (with once domain:◎ ◎) (with atoms starts:◎ ◎) (with not nats:◎ ◎) (with equiv arg:◎ ◎) (with front null:◎ ◎) (with right width:◎ ◎) (with collect bool:◎ ◎) (with front starts:◎ ◎) (with once isnt:◎ ◎) (with const collect:◎ ◎) (with rev star:◎ ◎) (with bool backstrip:◎ ◎) (with star left:◎ ◎) (with equiv common:◎ ◎) (with atoms arg:◎ ◎) (with collect pre:◎ ◎) (with equiv dup:◎ ◎) (with more front:◎ ◎) (with less get:◎ ◎) (with rev bin:◎ ◎) (with some less:◎ ◎) (with more backstrip:◎ ◎) (with back nif:◎ ◎) (with pre prod:◎ ◎) (with rev hasnt:◎ ◎) (with b collect:◎ ◎) (with width front:◎ ◎) (with left if:◎ ◎) (with width pass:◎ ◎) (with b domain:◎ ◎) (with put count:◎ ◎) (with post pass:◎ ◎) (with not dup:◎ ◎) (with put collect:◎ ◎) (with atoms ker:◎ ◎) (with const const:◎ ◎) (with b star:◎ ◎) (with equiv equal:◎ ◎) (with width atoms:◎ ◎) (with grp right:◎ ◎) (with count starts:◎ ◎) (with less common:◎ ◎) (with front sum:◎ ◎) (with grp less:◎ ◎) (with equal starts:◎ ◎) (with front left:◎ ◎) (with back ker:◎ ◎) (with some frontstrip:◎ ◎) (with pre left:◎ ◎) (with more get:◎ ◎) (with back width:◎ ◎) (with equiv width:◎ ◎) (with equiv count:◎ ◎) (with front some:◎ ◎) (with bool rev:◎ ◎) (with front pre:◎ ◎) (with right post:◎ ◎) (with count once:◎ ◎) (with left ar:◎ ◎) (with aj dup:◎ ◎) (with equal a:◎ ◎) (with grp a:◎ ◎) (with not sum:◎ ◎) (with less grp:◎ ◎) (with b ints:◎ ◎) (with equiv null:◎ ◎) (with collect starts:◎ ◎) (with domain pre:◎ ◎) (with b has:◎ ◎) (with plus b:◎ ◎) (with bool nats:◎ ◎) (with aj star:◎ ◎) (with back dup:◎ ◎) (with plus common:◎ ◎) (with not front:◎ ◎) (with aj hasnt:◎ ◎) (with:◎ ◎) (with atoms sum:◎ ◎) (with star collect:◎ ◎) (with b aj:◎ ◎) (with plus has:◎ ◎) (with collect less:◎ ◎) (with equal atoms:◎ ◎) (with b isnt:◎ ◎) (with domain if:◎ ◎) (with plus prod:◎ ◎) (with rev if:◎ ◎) (with const equiv:◎ ◎) (with more has:◎ ◎) (with less pass:◎ ◎) (with back if:◎ ◎) (with aj more:◎ ◎) (with more ints:◎ ◎) (with count domain:◎ ◎) (with bin collect:◎ ◎) (with bool null:◎ ◎) (with right sum:◎ ◎) (with collect plus:◎ ◎) (with not back:◎ ◎) (with left front:◎ ◎) (with back null:◎ ◎) (with put b:◎ ◎) (with once const:◎ ◎) (with ap ap:◎ ◎) (with const is:◎ ◎) (with count bool:◎ ◎) (with const while:◎ ◎) (with left nats:◎ ◎) (with pre collect:◎ ◎) (with more width:◎ ◎) (with collect collect:◎ ◎) (with back ends:◎ ◎) (with rev once:◎ ◎) (with bin nif:◎ ◎) (with not starts:◎ ◎) (with pre a:◎ ◎) (with count bin:◎ ◎) (with once collect:◎ ◎) (with less post:◎ ◎) (with back put:◎ ◎) (with back common:◎ ◎) (with once equal:◎ ◎) (with b hasnt:◎ ◎) (with count aq:◎ ◎) (with width plus:◎ ◎) (with once while:◎ ◎) (with const frontstrip:◎ ◎) (with collect get:◎ ◎) (with less nif:◎ ◎) (with not equal:◎ ◎) (with atoms left:◎ ◎) (with left once:◎ ◎) (with rev ai:◎ ◎) (with star rev:◎ ◎) (with more post:◎ ◎) (with bool ints:◎ ◎) (with b some:◎ ◎) (with bool ends:◎ ◎) (with grp backstrip:◎ ◎) (with post count:◎ ◎) (with not put:◎ ◎) (with plus right:◎ ◎) (with domain collect:◎ ◎) (with plus hasnt:◎ ◎) (with rev aq:◎ ◎) (with count frontstrip:◎ ◎) (with once more:◎ ◎) (with aj arg:◎ ◎) (with bool equiv:◎ ◎) (with const nif:◎ ◎) (with equal prod:◎ ◎) (with domain back:◎ ◎) (with right more:◎ ◎) (with equiv pass:◎ ◎) (with back pre:◎ ◎) (with put put:◎ ◎) (with grp get:◎ ◎) (with post arg:◎ ◎) (with atoms put:◎ ◎) (with less while:◎ ◎) (with equiv put:◎ ◎) (with ap left:◎ ◎) (with width if:◎ ◎) (with star back:◎ ◎) (with pre hasnt:◎ ◎) (with domain aq:◎ ◎) (with grp star:◎ ◎) (with bool front:◎ ◎) (with pre not:◎ ◎) (with not nif:◎ ◎) (with atoms post:◎ ◎) (with equal aj:◎ ◎) (with aj not:◎ ◎) (with not domain:◎ ◎) (with less ints:◎ ◎) (with some ar:◎ ◎) (with bool common:◎ ◎) (with atoms grp:◎ ◎) (with front b:◎ ◎) (with once if:◎ ◎) (with bool count:◎ ◎) (with some b:◎ ◎) (with const front:◎ ◎) (with post put:◎ ◎) (with equal ai:◎ ◎) (with b sum:◎ ◎) (with more less:◎ ◎) (with once arg:◎ ◎) (with more aq:◎ ◎) (with bin post:◎ ◎) (with bin arg:◎ ◎) (with b ker:◎ ◎) (with less ai:◎ ◎) (with rev get:◎ ◎) (with left ker:◎ ◎) (with atoms count:◎ ◎) (with plus bin:◎ ◎) (with width ar:◎ ◎) (with ap star:◎ ◎) (with post not:◎ ◎) (with post isnt:◎ ◎) (with bin pre:◎ ◎) (with front if:◎ ◎) (with star arg:◎ ◎) (with post dup:◎ ◎) (with equal backstrip:◎ ◎)"
     ]
    }
   ],
   "source": [
    "eval 600 : ap {if ((count:right:B)=2):B} : collect : ap read : Level2.null Level2.pass "
   ]
  },
  {
   "cell_type": "code",
   "execution_count": 14,
   "id": "592f5449-83d4-468e-b5a0-e2825640ace3",
   "metadata": {},
   "outputs": [
    {
     "name": "stdout",
     "output_type": "stream",
     "text": [
      "1537"
     ]
    }
   ],
   "source": [
    "eval 600 : count : ap {(:arg:B)} : ap {if ((count:right:B)=2):B} : collect : ap read : Level2.null Level2.pass "
   ]
  },
  {
   "cell_type": "code",
   "execution_count": 16,
   "id": "c8a3e8ed-deac-4d7d-95be-26141ad6eb8d",
   "metadata": {},
   "outputs": [
    {
     "name": "stdout",
     "output_type": "stream",
     "text": []
    }
   ],
   "source": [
    "write Level2.nontrivial 600 : ap {(:arg:B)} : ap {if ((count:right:B)=2):B} : collect : ap read : Level2.null Level2.pass "
   ]
  },
  {
   "cell_type": "code",
   "execution_count": 17,
   "id": "11eea88a-92b8-4805-960b-ec9f94f8a352",
   "metadata": {},
   "outputs": [
    {
     "name": "stdout",
     "output_type": "stream",
     "text": [
      " (:ANY) \n",
      " (:ALL) \n",
      " (:ap) \n",
      " (:atoms) \n",
      " (:bin) \n",
      " (:bool) \n",
      " (:collect) \n",
      " (:count) \n",
      " (:domain) \n",
      " (:equiv) \n",
      " (:grp) \n",
      " (:left) \n",
      " (:not) \n",
      " (:once) \n",
      " (:plus) \n",
      " (:put) \n",
      " (:rev) \n",
      " (:right) \n",
      " (:star) \n",
      " (:count sum) \n",
      " (:not aq) \n",
      " (:width has) \n",
      " (:back domain) \n",
      " (:right left) \n",
      " (:atoms dup) \n",
      " (:put star) \n",
      " (:aj bin) \n",
      " (:aj rev) \n",
      " (:right isnt) \n",
      " (:right dup) \n",
      " (:star less) \n",
      " (:domain once) \n",
      " (:back rev) \n",
      " (:equal grp) \n",
      " (:atoms pre) \n",
      " (:b const) \n",
      " (:more bool) \n",
      " (:width ai) \n",
      " (:back b) \n",
      " (:not frontstrip) \n",
      " (:equal collect) \n",
      " (:bool grp) \n",
      " (:more sum) \n",
      " (:some collect) \n",
      " (:const atoms) \n",
      " (:aj width) \n",
      " (:back bin) \n",
      " (:bool starts) \n",
      " (:some ints) \n",
      " (:equal ar) \n",
      " (:rev bool) \n",
      " (:front once) \n",
      " (:some arg) \n",
      " (:not equiv) \n",
      " (:bool pre) \n",
      " (:width ap) \n",
      " (:plus get) \n",
      " (:equiv get) \n",
      " (:equal put) \n",
      " (:back isnt) \n",
      " (:post const) \n",
      " (:const ints) \n",
      " (:b backstrip) \n",
      " (:width ints) \n",
      " (:domain ap) \n",
      " (:some pre) \n",
      " (:grp const) \n",
      " (:equiv ints) \n",
      " (:less not) \n",
      " (:less bin) \n",
      " (:width sum) \n",
      " (:once null) \n",
      " (:left grp) \n",
      " (:star sum) \n",
      " (:some aj) \n",
      " (:more common) \n",
      " (:count has) \n",
      " (:count arg) \n",
      " (:domain pass) \n",
      " (:less b) \n",
      " (:grp nif) \n",
      " (:pre aj) \n",
      " (:atoms ints) \n",
      " (:count equal) \n",
      " (:aj nats) \n",
      " (:pre get) \n",
      " (:less atoms) \n",
      " (:count collect) \n",
      " (:pre b) \n",
      " (:bool less) \n",
      " (:not get) \n",
      " (:not isnt) \n",
      " (:equiv rev) \n",
      " (:pre nif) \n",
      " (:plus nif) \n",
      " (:less collect) \n",
      " (:post ai) \n",
      " (:left post) \n",
      " (:more collect) \n",
      " (:star null) \n"
     ]
    }
   ],
   "source": [
    "tab : first 100 : read : Level2.nontrivial "
   ]
  },
  {
   "cell_type": "code",
   "execution_count": null,
   "id": "b4ff7ccc-09fa-42d2-a51d-25996fd83026",
   "metadata": {},
   "outputs": [],
   "source": []
  }
 ],
 "metadata": {
  "kernelspec": {
   "display_name": "coda",
   "language": "",
   "name": "coda"
  },
  "language_info": {
   "file_extension": ".co",
   "mimetype": "text/plain",
   "name": "Any text"
  }
 },
 "nbformat": 4,
 "nbformat_minor": 5
}
