{
 "cells": [
  {
   "cell_type": "code",
   "execution_count": 1,
   "id": "1e81ec9d-202f-4487-9f07-4e5370aae6db",
   "metadata": {},
   "outputs": [
    {
     "name": "stdout",
     "output_type": "stream",
     "text": [
      "\u001b[;1mcode:\u001b[0m\n",
      "    \u001b[34;7mCommutative\u001b[0m\n",
      "\u001b[;1mmodule:\u001b[0m\n",
      "    Algebra\n",
      "\u001b[;1msummary:\u001b[0m\n",
      "    Commutative\n",
      "\u001b[;1mdescription:\u001b[0m\n",
      "\u001b[;1mpath:\u001b[0m\n",
      "    /Users/youssef/coda/co/Algebra.co\n",
      "\u001b[;1msource code:\u001b[0m\n",
      "    def Commutative : { B : X? Y? = B : Y? X? }\n",
      "\u001b[;1mdemos:\u001b[0m\n",
      "    1. \u001b[35;4mCommutative : pass\u001b[0m\n",
      "    2. \u001b[35;4mCommutative : sum n\u001b[0m\n",
      "    3. \u001b[35;4mCommutative : prod n\u001b[0m\n"
     ]
    }
   ],
   "source": [
    "help : Commutative"
   ]
  },
  {
   "cell_type": "code",
   "execution_count": 2,
   "id": "115c858e-4379-4401-befe-6cfd618fb8c3",
   "metadata": {},
   "outputs": [
    {
     "name": "stdout",
     "output_type": "stream",
     "text": [
      "(= (?:X) (?:Y):(?:Y) (?:X))"
     ]
    }
   ],
   "source": [
    "Commutative : pass"
   ]
  },
  {
   "cell_type": "code",
   "execution_count": 3,
   "id": "d578bf5a-a3ed-4b9f-8ce3-c63e939259e0",
   "metadata": {},
   "outputs": [
    {
     "name": "stdout",
     "output_type": "stream",
     "text": [
      "(Help:Type)"
     ]
    }
   ],
   "source": [
    "Help : Type"
   ]
  },
  {
   "cell_type": "code",
   "execution_count": 4,
   "id": "75f78e8c-e45f-4819-a9d0-e7bc2293b815",
   "metadata": {},
   "outputs": [
    {
     "name": "stdout",
     "output_type": "stream",
     "text": []
    }
   ],
   "source": [
    "Idempotent : pass"
   ]
  },
  {
   "cell_type": "code",
   "execution_count": 5,
   "id": "ddb5e77c-b7b6-40ba-8ef1-b5d7d3aabc6e",
   "metadata": {},
   "outputs": [
    {
     "name": "stdout",
     "output_type": "stream",
     "text": [
      "(= (ap:(ap:(?:X))) (ap:(ap:)):(ap:(?:X)) (ap:))"
     ]
    }
   ],
   "source": [
    "Idempotent : ap "
   ]
  },
  {
   "cell_type": "code",
   "execution_count": 6,
   "id": "9075bca4-b307-486c-ae56-c6dabbcb58ad",
   "metadata": {},
   "outputs": [
    {
     "name": "stdout",
     "output_type": "stream",
     "text": []
    }
   ],
   "source": [
    "Associative : pass "
   ]
  },
  {
   "cell_type": "code",
   "execution_count": 7,
   "id": "9c97513e-e9e3-4555-ae46-5b8e80179a75",
   "metadata": {},
   "outputs": [
    {
     "name": "stdout",
     "output_type": "stream",
     "text": []
    }
   ],
   "source": [
    "Category : pass "
   ]
  },
  {
   "cell_type": "code",
   "execution_count": 8,
   "id": "7690a853-9dbd-4e5f-8a8d-6727d73f83c0",
   "metadata": {},
   "outputs": [
    {
     "name": "stdout",
     "output_type": "stream",
     "text": [
      "(= (ap put n:(ap nat1:(?:X))) (ap put n:(ap nat1:)) (ap put n:(ap nat1:(?:Y))) (ap put n:(ap nat1:)) (ap has1 n:(?:X)) (ap has1 n:) (ap has1 n:(?:Y)) (ap has1 n:):(ap put n:(ap nat1:(ap put n:(ap nat1:(?:X))))) (ap put n:(ap nat1:(ap put n:(ap nat1:)))) (ap put n:(ap nat1:(ap has1 n:(?:X)))) (ap put n:(ap nat1:(ap has1 n:))) (ap put n:(ap nat1:(ap put n:(ap nat1:(?:Y))))) (ap put n:(ap nat1:(ap put n:(ap nat1:)))) (ap put n:(ap nat1:(ap has1 n:(?:Y)))) (ap put n:(ap nat1:(ap has1 n:))) (ap has1 n:(ap put n:(ap nat1:(?:X)))) (ap has1 n:(ap put n:(ap nat1:))) (ap has1 n:(ap has1 n:(?:X))) (ap has1 n:(ap has1 n:)) (ap has1 n:(ap put n:(ap nat1:(?:Y)))) (ap has1 n:(ap put n:(ap nat1:))) (ap has1 n:(ap has1 n:(?:Y))) (ap has1 n:(ap has1 n:)))"
     ]
    }
   ],
   "source": [
    "Category : make n "
   ]
  },
  {
   "cell_type": "code",
   "execution_count": 9,
   "id": "4ec60014-c5d2-4ebd-b2ad-c26bc0eb3dce",
   "metadata": {},
   "outputs": [
    {
     "name": "stdout",
     "output_type": "stream",
     "text": [
      "(= (ap put n:(ap nat1:(ap put n:(ap nat1:(?:X))))) (ap put n:(ap nat1:(ap put n:(ap nat1:)))) (ap put n:(ap nat1:(ap has1 n:(?:X)))) (ap put n:(ap nat1:(ap has1 n:))) (ap has1 n:(ap put n:(ap nat1:(?:X)))) (ap has1 n:(ap put n:(ap nat1:))) (ap has1 n:(ap has1 n:(?:X))) (ap has1 n:(ap has1 n:)):(ap put n:(ap nat1:(?:X))) (ap put n:(ap nat1:)) (ap has1 n:(?:X)) (ap has1 n:))"
     ]
    }
   ],
   "source": [
    "Idempotent : make n "
   ]
  },
  {
   "cell_type": "code",
   "execution_count": null,
   "id": "23ef3327-a8db-49b7-bca6-7ded938f845b",
   "metadata": {},
   "outputs": [],
   "source": []
  }
 ],
 "metadata": {
  "kernelspec": {
   "display_name": "coda",
   "language": "",
   "name": "coda"
  },
  "language_info": {
   "file_extension": ".co",
   "mimetype": "text/plain",
   "name": "Any text"
  }
 },
 "nbformat": 4,
 "nbformat_minor": 5
}
