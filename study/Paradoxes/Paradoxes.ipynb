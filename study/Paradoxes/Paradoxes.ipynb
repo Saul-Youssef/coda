{
 "cells": [
  {
   "cell_type": "markdown",
   "id": "cee53bbf-cec4-4a75-9f39-4bc5561b8b21",
   "metadata": {
    "tags": []
   },
   "source": [
    "\n",
    "## Computing Paradoxes in Coda\n",
    "\n",
    "Both the internal language and the internal logic of Coda are internal in the sense that they \n",
    "are consequences of the foundations without any additional axioms.  \n",
    "\n",
    "* **Data** is a finite sequence of codas.\n",
    "* A **coda** is a pair of data.\n",
    "* A **definition** is a partial function from coda to data. \n",
    "\n",
    "There is no separate theory of logic and there are no separate non-data logical values as in classical predicate logic.  In Coda, mathematical objects like functions, values, variables, morphisms, categories, theorems etc. are all just data with different properties.  Mathematical questions are also data where the logical answer comes from the coarsest non-trivial classification of data:\n",
    "\n",
    "* Empty data, equivalent to the empty sequence (\"true\").\n",
    "* Atomic data, containing one or more atoms in it's sequence (\"false\").\n",
    "* Undecided data, which is neither empty nor atomic (\"undecided\").\n",
    "\n",
    "This classification comes from noticing that data is \"entirely made of `(:)`\".  If there were a definition `(:)`&rightarrow;`()`, then all data would collapse to the empty sequence.  The only alternative is a duality between empty and atomic data.  This is a \"2+\" valued logic where \"undecided\" data like `(foo:bar)` may become decided with a later definitions.  As we will see, below, however, some data remains undecided independent of any future definition.\n",
    "\n",
    "Partly to see if \"Coda logic\" matches our intuition, let's directly examine common paradoxes in Coda.  We'll formulate each as data and classify the results.\n",
    "\n",
    "1. The Liar Paradox\n",
    "2. Berry's Paradox\n",
    "3. Yablo's Paradox \n",
    "4. Curry's Paradox \n",
    "\n",
    "These problems may seem like unimportant oddities, but there does seem to be a large literature still, and I don't know of anything like a simple satisfying resolution for any of them in classical logic.  Let's see how it goes with Coda..."
   ]
  },
  {
   "cell_type": "markdown",
   "id": "66e8cc46-f3ed-4ef3-85e1-a2a24637a9cf",
   "metadata": {},
   "source": [
    "### The Liar Paradox \n",
    "\n",
    "Consider the sentence \"This sentence is false.\"  Supposing that it is true, leads immediately to a contradiction (in classical logic).  It must, therefore, be false.  But if it is false, it must, therefore be true.  \n",
    "\n",
    "We can formulate this in Coda as follows."
   ]
  },
  {
   "cell_type": "code",
   "execution_count": 1,
   "id": "8512b4af-9053-47ea-8d32-37dc6031ff1f",
   "metadata": {},
   "outputs": [
    {
     "name": "stdout",
     "output_type": "stream",
     "text": []
    }
   ],
   "source": [
    "#\n",
    "#   Here we define the coda (?:This_sentence_is_false) to be the negation of itself.  \n",
    "#\n",
    "let This_sentence_is_false? : (not : This_sentence_is_false?) "
   ]
  },
  {
   "cell_type": "code",
   "execution_count": 2,
   "id": "228e0345-0a7a-4b6e-96c7-9c5406c1ec00",
   "metadata": {
    "tags": []
   },
   "outputs": [
    {
     "name": "stdout",
     "output_type": "stream",
     "text": [
      "[ 0] (not:(?:This_sentence_is_false))\n",
      "[ 1] (not:(not:(?:This_sentence_is_false)))\n",
      "[ 2] (not:(not:(not:(?:This_sentence_is_false))))\n",
      "[ 3] (not:(not:(not:(not:(?:This_sentence_is_false)))))\n",
      "[ 4] (not:(not:(not:(not:(not:(?:This_sentence_is_false))))))\n",
      "[ 5] (not:(not:(not:(not:(not:(not:(?:This_sentence_is_false)))))))\n",
      "[ 6] (not:(not:(not:(not:(not:(not:(not:(?:This_sentence_is_false))))))))\n",
      "[ 7] (not:(not:(not:(not:(not:(not:(not:(not:(?:This_sentence_is_false)))))))))\n",
      "[ 8] (not:(not:(not:(not:(not:(not:(not:(not:(not:(?:This_sentence_is_false))))))))))\n",
      "[ 9] (not:(not:(not:(not:(not:(not:(not:(not:(not:(not:(?:This_sentence_is_false)))))))))))\n",
      "[10] (not:(not:(not:(not:(not:(not:(not:(not:(not:(not:(not:(?:This_sentence_is_false))))))))))))"
     ]
    }
   ],
   "source": [
    "#\n",
    "#    We can examine the logical value of This_sentence_is_false? directly by simply \n",
    "#    Evaluating `This_sentence_is_false?` step by step. \n",
    "#\n",
    "step 10 : This_sentence_is_false?"
   ]
  },
  {
   "cell_type": "markdown",
   "id": "e06a30bc-aec2-4802-ba97-503118814fcd",
   "metadata": {},
   "source": [
    "Thus, we have directly computed that `This_sentence_is_false?` is neither true nor false.  Furthermore, it is clear that no future definition can resolve this since (?:This_sentence_is_false) is already defined.  Thus, `This_sentence_is_false?` is merely **undecidable** data in Coda rather than being a logic paradox.   "
   ]
  },
  {
   "cell_type": "code",
   "execution_count": 3,
   "id": "df12dea2-cd51-4f74-9ec8-8a462d43a1fd",
   "metadata": {},
   "outputs": [
    {
     "name": "stdout",
     "output_type": "stream",
     "text": [
      "(some ◎:(?:This_sentence_is_true))"
     ]
    }
   ],
   "source": [
    "#\n",
    "#    A lesser known variation on this is the \"Truthteller sentence\": \"This sentence is true.\"\n",
    "#\n",
    "let This_sentence_is_true? : This_sentence_is_true? \n",
    "logic : This_sentence_is_true?"
   ]
  },
  {
   "cell_type": "markdown",
   "id": "cabb7d14-ceef-4711-a3c1-4bd3ff55311a",
   "metadata": {},
   "source": [
    "Although this is not looping forever like `This_sentence_is_false?`, `This_sentence_is_true?` is also \"undecided\" and \"undecidable\" in Coda.  "
   ]
  },
  {
   "cell_type": "markdown",
   "id": "93c0a9db-05a8-4440-90b6-637af9a680df",
   "metadata": {},
   "source": [
    "## Berry's Paradox\n",
    "\n",
    "A paradox of G. G. Berry, reported by Bertrand Russell, is the following.  \n",
    "\n",
    "* Let N = The smallest positive integer not definable in less than twelve words.\n",
    "\n",
    "The problem is this reasoning.\n",
    "\n",
    ">Surely, for any positive integer N, N either is or isn't definable in less than twelve words.  There is, thus, \n",
    "a smallest such integer. But if this integer exists, it **is** definable in less than twelve words.  A contradiction.\n",
    "\n",
    "To make a precise version of this in Coda, let's say that \n",
    "\n",
    "* A byte string s **defines a positive number** n if `s:` in coda is equal to the character representation of the number n.\n",
    "\n",
    "Then, this concrete Coda expression\n",
    "\n",
    "`app int_max : ap {coda : B} : codes 52 : alphabet :`\n",
    "\n",
    "computes the maximum number definable in 52 or fewer characters.  It helps to read the code from right to left.\n",
    "\n",
    "1) `alphabet:` is a standard set of alphanumeric characters. \n",
    "2) `codes 52 : alphabet :` is the finite, but very large, sequence of all strings in the input alphabet with 52 or fewer characters.\n",
    "3) `ap {coda:B}` applies the coda compiler to each string, producing data as input to...\n",
    "4) `app int_max` computes the maximum integer input.\n",
    "\n",
    "This is far to large a computation to do in practice, but the point, and the resolution of the paradox, is that the above expression actually is 51<52 characters long, so the full expression will appear again as input to `coda`, and the expression will, therefore, loop forever, even on an infinitely capable computer. \n",
    "\n",
    "This is the resolution of the paradox.  The question corresponds to data which is **undecidable**. "
   ]
  },
  {
   "cell_type": "code",
   "execution_count": 4,
   "id": "62ce1e66-f09e-4f29-b9b2-31c2d1c66f87",
   "metadata": {},
   "outputs": [
    {
     "name": "stdout",
     "output_type": "stream",
     "text": [
      "33"
     ]
    }
   ],
   "source": [
    "#\n",
    "#    Just to demonstrate that the code above is real, reduce the alphabet to 1 2 3 and \n",
    "#    and 52 to 2 and we get the correct maximum answer: 33. \n",
    "#\n",
    "app int_max : ap {coda : B} : codes 2 : 1 2 3 "
   ]
  },
  {
   "cell_type": "markdown",
   "id": "b645f0c5-d0bd-4d24-b1ae-c411309ee972",
   "metadata": {},
   "source": [
    "## Yablo's Paradox\n",
    "\n",
    "Stephen Yablo (of MIT) has pointed out that paradoxes do not require self-referential statements.  His example is as follows. \n",
    "\n",
    "* Let Y<sub>1</sub> = true if all Y<sub>i</sub> are false for i > 1\n",
    "* Let Y<sub>2</sub> = true if all Y<sub>i</sub> are false for i > 2\n",
    "* Let Y<sub>3</sub> = true if all Y<sub>i</sub> are false for i > 3\n",
    "* ...\n",
    "\n",
    "> Suppose that Y<sub>n</sub> is true for some n.  Then all sentences greater than n are false.  But that means that all sentences greater than Y<sub>n+1</sub> are also false, which means that Y<sub>n+1</sub> is true.  That is a contradition, so all the Y<sub>n</sub> must be false.  But if all the Y<sub>n</sub> are false, Y<sub>1</sub>, for instance, is true.  Contradiction.\n",
    "\n",
    "To compute this one in Coda, we can define \n",
    "\n",
    "`def Yablo : {ap not : Yablo : skip 1 : nat : B}` \n",
    "\n",
    "so that (Yablo : n) is true if all (Yablo:n+1) (Yablo:n+2)... are not true.  Here (nat:k) are the natural numbers starting at k, skip 1 skips the first one and {ap not : Yablo : skip 1 : nat : B} : 5, for instance is true if all the Yablos greater than or equal to 5 are false. \n"
   ]
  },
  {
   "cell_type": "code",
   "execution_count": 5,
   "id": "dcf44d05-6a89-4572-a4a9-849c0ad6b7f4",
   "metadata": {},
   "outputs": [
    {
     "name": "stdout",
     "output_type": "stream",
     "text": []
    }
   ],
   "source": [
    "def Yablo : {ap not : Yablo : skip 1 : nat : nat1 : B} "
   ]
  },
  {
   "cell_type": "code",
   "execution_count": 6,
   "id": "14b5eb99-1de8-447c-a0c9-450e01d24cca",
   "metadata": {
    "tags": []
   },
   "outputs": [
    {
     "name": "stdout",
     "output_type": "stream",
     "text": [
      "[ 0] (({Yablo}:):({1}:))\n",
      "[ 1] ({ap not : Yablo : skip 1 : nat : nat1 : B}:1)\n",
      "[ 2] (({ap not }:1):({ Yablo : skip 1 : nat : nat1 : B}:1))\n",
      "[ 3] (({ap not}:1):({Yablo : skip 1 : nat : nat1 : B}:1))\n",
      "[ 4] (({ap}:1) ({not}:1):(({Yablo }:1):({ skip 1 : nat : nat1 : B}:1)))\n",
      "[ 5] (ap not:(({Yablo}:1):({skip 1 : nat : nat1 : B}:1))) (ap not:)\n",
      "[ 6] (ap not:({ap not : Yablo : skip 1 : nat : nat1 : B}:(({skip 1 }:1):({ nat : nat1 : B}:1)))) (ap not:)\n",
      "[ 7] (ap not:(({ap not }:(({skip 1}:1):({nat : nat1 : B}:1))):({ Yablo : skip 1 : nat : nat1 : B}:(({skip 1}:1):({nat : nat1 : B}:1))))) (ap not:)\n",
      "[ 8] (ap not:(({ap not}:(({skip}:1) ({1}:1):(({nat }:1):({ nat1 : B}:1)))):({Yablo : skip 1 : nat : nat1 : B}:(({skip}:1) ({1}:1):(({nat }:1):({ nat1 : B}:1)))))) (ap not:)\n",
      "[ 9] (ap not:(({ap}:(skip 1:(({nat}:1):({nat1 : B}:1)))) ({not}:(skip 1:(({nat}:1):({nat1 : B}:1)))):(({Yablo }:(skip 1:(({nat}:1):({nat1 : B}:1)))):({ skip 1 : nat : nat1 : B}:(skip 1:(({nat}:1):({nat1 : B}:1))))))) (ap not:)\n",
      "[10] (ap not:(ap not:(({Yablo}:(skip 1:(nat:(({nat1 }:1):({ B}:1))))):({skip 1 : nat : nat1 : B}:(skip 1:(nat:(({nat1 }:1):({ B}:1)))))))) (ap not:(ap not:))\n",
      "[11] (ap not:(ap not:({ap not : Yablo : skip 1 : nat : nat1 : B}:(({skip 1 }:(skip 1:(nat:(({nat1}:1):({B}:1))))):({ nat : nat1 : B}:(skip 1:(nat:(({nat1}:1):({B}:1))))))))) (ap not:(ap not:))\n",
      "[12] (ap not:(ap not:(({ap not }:(({skip 1}:(skip 1:1 (nat:2))):({nat : nat1 : B}:(skip 1:1 (nat:2))))):({ Yablo : skip 1 : nat : nat1 : B}:(({skip 1}:(skip 1:1 (nat:2))):({nat : nat1 : B}:(skip 1:1 (nat:2)))))))) (ap not:(ap not:))\n",
      "[13] (ap not:(ap not:(({ap not}:(({skip}:(skip 1:1 2 (nat:3))) ({1}:(skip 1:1 2 (nat:3))):(({nat }:(skip 1:1 2 (nat:3))):({ nat1 : B}:(skip 1:1 2 (nat:3)))))):({Yablo : skip 1 : nat : nat1 : B}:(({skip}:(skip 1:1 2 (nat:3))) ({1}:(skip 1:1 2 (nat:3))):(({nat }:(skip 1:1 2 (nat:3))):({ nat1 : B}:(skip 1:1 2 (nat:3))))))))) (ap not:(ap not:))\n",
      "[14] (ap not:(ap not:(({ap}:(skip 1:(({nat}:(skip 1:1 2 3 (nat:4))):({nat1 : B}:(skip 1:1 2 3 (nat:4)))))) ({not}:(skip 1:(({nat}:(skip 1:1 2 3 (nat:4))):({nat1 : B}:(skip 1:1 2 3 (nat:4)))))):(({Yablo }:(skip 1:(({nat}:(skip 1:1 2 3 (nat:4))):({nat1 : B}:(skip 1:1 2 3 (nat:4)))))):({ skip 1 : nat : nat1 : B}:(skip 1:(({nat}:(skip 1:1 2 3 (nat:4))):({nat1 : B}:(skip 1:1 2 3 (nat:4)))))))))) (ap not:(ap not:))\n",
      "[15] (ap not:(ap not:(ap not:(({Yablo}:(skip 1:(nat:(({nat1 }:(skip 1:1 2 3 4 (nat:5))):({ B}:(skip 1:1 2 3 4 (nat:5))))))):({skip 1 : nat : nat1 : B}:(skip 1:(nat:(({nat1 }:(skip 1:1 2 3 4 (nat:5))):({ B}:(skip 1:1 2 3 4 (nat:5))))))))))) (ap not:(ap not:(ap not:)))\n",
      "[16] (ap not:(ap not:(ap not:({ap not : Yablo : skip 1 : nat : nat1 : B}:(({skip 1 }:(skip 1:(nat:(({nat1}:(skip 1:1 2 3 4 5 (nat:6))):({B}:(skip 1:1 2 3 4 5 (nat:6))))))):({ nat : nat1 : B}:(skip 1:(nat:(({nat1}:(skip 1:1 2 3 4 5 (nat:6))):({B}:(skip 1:1 2 3 4 5 (nat:6)))))))))))) (ap not:(ap not:(ap not:)))\n",
      "[17] (ap not:(ap not:(ap not:(({ap not }:(({skip 1}:(skip 1:(nat:(nat1:(skip 1:1 2 3 4 5 6 (nat:7)))))):({nat : nat1 : B}:(skip 1:(nat:(nat1:(skip 1:1 2 3 4 5 6 (nat:7)))))))):({ Yablo : skip 1 : nat : nat1 : B}:(({skip 1}:(skip 1:(nat:(nat1:(skip 1:1 2 3 4 5 6 (nat:7)))))):({nat : nat1 : B}:(skip 1:(nat:(nat1:(skip 1:1 2 3 4 5 6 (nat:7)))))))))))) (ap not:(ap not:(ap not:)))\n",
      "[18] (ap not:(ap not:(ap not:(({ap not}:(({skip}:(skip 1:(nat:(nat1:(skip 1:1 2 3 4 5 6 7 (nat:8)))))) ({1}:(skip 1:(nat:(nat1:(skip 1:1 2 3 4 5 6 7 (nat:8)))))):(({nat }:(skip 1:(nat:(nat1:(skip 1:1 2 3 4 5 6 7 (nat:8)))))):({ nat1 : B}:(skip 1:(nat:(nat1:(skip 1:1 2 3 4 5 6 7 (nat:8))))))))):({Yablo : skip 1 : nat : nat1 : B}:(({skip}:(skip 1:(nat:(nat1:(skip 1:1 2 3 4 5 6 7 (nat:8)))))) ({1}:(skip 1:(nat:(nat1:(skip 1:1 2 3 4 5 6 7 (nat:8)))))):(({nat }:(skip 1:(nat:(nat1:(skip 1:1 2 3 4 5 6 7 (nat:8)))))):({ nat1 : B}:(skip 1:(nat:(nat1:(skip 1:1 2 3 4 5 6 7 (nat:8))))))))))))) (ap not:(ap not:(ap not:)))\n",
      "[19] (ap not:(ap not:(ap not:(({ap}:(skip 1:(({nat}:(skip 1:(nat:(nat1:(skip 1:1 2 3 4 5 6 7 8 (nat:9)))))):({nat1 : B}:(skip 1:(nat:(nat1:(skip 1:1 2 3 4 5 6 7 8 (nat:9))))))))) ({not}:(skip 1:(({nat}:(skip 1:(nat:(nat1:(skip 1:1 2 3 4 5 6 7 8 (nat:9)))))):({nat1 : B}:(skip 1:(nat:(nat1:(skip 1:1 2 3 4 5 6 7 8 (nat:9))))))))):(({Yablo }:(skip 1:(({nat}:(skip 1:(nat:(nat1:(skip 1:1 2 3 4 5 6 7 8 (nat:9)))))):({nat1 : B}:(skip 1:(nat:(nat1:(skip 1:1 2 3 4 5 6 7 8 (nat:9))))))))):({ skip 1 : nat : nat1 : B}:(skip 1:(({nat}:(skip 1:(nat:(nat1:(skip 1:1 2 3 4 5 6 7 8 (nat:9)))))):({nat1 : B}:(skip 1:(nat:(nat1:(skip 1:1 2 3 4 5 6 7 8 (nat:9)))))))))))))) (ap not:(ap not:(ap not:)))\n",
      "[20] (ap not:(ap not:(ap not:(ap not:(({Yablo}:(skip 1:(nat:(({nat1 }:(skip 1:(nat:(nat1:(skip 1:1 2 3 4 5 6 7 8 9 (nat:10)))))):({ B}:(skip 1:(nat:(nat1:(skip 1:1 2 3 4 5 6 7 8 9 (nat:10)))))))))):({skip 1 : nat : nat1 : B}:(skip 1:(nat:(({nat1 }:(skip 1:(nat:(nat1:(skip 1:1 2 3 4 5 6 7 8 9 (nat:10)))))):({ B}:(skip 1:(nat:(nat1:(skip 1:1 2 3 4 5 6 7 8 9 (nat:10))))))))))))))) (ap not:(ap not:(ap not:(ap not:))))"
     ]
    }
   ],
   "source": [
    "#\n",
    "#   Of course, we cannot fully evaluate Yablo:1.  This is not a proof, but a partial evaluation \n",
    "#   of Yablo:1 appears to be recursing forever, which would be as expected.  \n",
    "#\n",
    "step 20 : Yablo : 1"
   ]
  },
  {
   "cell_type": "markdown",
   "id": "13f7690a-7bbf-4631-bc96-ee5678ea225d",
   "metadata": {},
   "source": [
    "Unlike the previous examples, it would take some more effort to prove that (Yablo:1) is undecidable, but this is clearly to be expected. "
   ]
  },
  {
   "cell_type": "markdown",
   "id": "3443a29b-dd31-4db6-96d9-aebc96402b0e",
   "metadata": {},
   "source": [
    "## Curry's Paradox\n",
    "\n",
    "Finally, a very basic paradox is due to Curry.  Consider \n",
    "\n",
    "* If this sentence is true, then Germany borders China.\n",
    "\n",
    ">Let A be \"The above sentence is true\" and B be \"Germany borders China.\"  If A is true, then the sentence is true and, thus Germany borders China.  We have shown that A implies B, which is the sentence above.  We suspect, however, that Germany does not border China.\n",
    "\n",
    "We use the `imply` definition to create Curry's sentence in Coda.  In coda `imply A:B` has the same truth table as classical implication in the case where A and B are either true or false. \n",
    "\n",
    "let Curry's_sentence? : (imply Curry's_sentence? : Germany_borders_China?)"
   ]
  },
  {
   "cell_type": "code",
   "execution_count": 7,
   "id": "0a59b7d9-afef-469f-a297-370e919e7c8b",
   "metadata": {},
   "outputs": [
    {
     "name": "stdout",
     "output_type": "stream",
     "text": []
    }
   ],
   "source": [
    "#\n",
    "#   We can define and evalute this easily\n",
    "#\n",
    "let Curry's_sentence? : (imply Curry's_sentence? : Germany_borders_China?)"
   ]
  },
  {
   "cell_type": "code",
   "execution_count": 8,
   "id": "93095d93-8a95-4268-8cc3-deacae1697ac",
   "metadata": {
    "tags": []
   },
   "outputs": [
    {
     "name": "stdout",
     "output_type": "stream",
     "text": [
      "[0] (imply (?:Curry's_sentence):(?:Germany_borders_China))\n",
      "[1] (imply (imply (?:Curry's_sentence):(?:Germany_borders_China)):(?:Germany_borders_China))\n",
      "[2] (imply (imply (imply (?:Curry's_sentence):(?:Germany_borders_China)):(?:Germany_borders_China)):(?:Germany_borders_China))\n",
      "[3] (imply (imply (imply (imply (?:Curry's_sentence):(?:Germany_borders_China)):(?:Germany_borders_China)):(?:Germany_borders_China)):(?:Germany_borders_China))\n",
      "[4] (imply (imply (imply (imply (imply (?:Curry's_sentence):(?:Germany_borders_China)):(?:Germany_borders_China)):(?:Germany_borders_China)):(?:Germany_borders_China)):(?:Germany_borders_China))\n",
      "[5] (imply (imply (imply (imply (imply (imply (?:Curry's_sentence):(?:Germany_borders_China)):(?:Germany_borders_China)):(?:Germany_borders_China)):(?:Germany_borders_China)):(?:Germany_borders_China)):(?:Germany_borders_China))"
     ]
    }
   ],
   "source": [
    "step 5 : Curry's_sentence?"
   ]
  },
  {
   "cell_type": "markdown",
   "id": "9e0183db-f7ee-428e-87cf-6bfc2c7f5499",
   "metadata": {},
   "source": [
    "Thus, Curry's sentence is undecidable in Coda."
   ]
  }
 ],
 "metadata": {
  "kernelspec": {
   "display_name": "coda",
   "language": "",
   "name": "coda"
  },
  "language_info": {
   "file_extension": ".co",
   "mimetype": "text/plain",
   "name": "Any text"
  }
 },
 "nbformat": 4,
 "nbformat_minor": 5
}
