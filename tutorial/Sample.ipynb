{
 "cells": [
  {
   "cell_type": "markdown",
   "id": "cb495b81-3c39-45b9-9f59-de8be85b63cb",
   "metadata": {},
   "source": [
    "## Sampling the space of pure data \n",
    "\n"
   ]
  },
  {
   "cell_type": "markdown",
   "id": "860acdb4-9d93-497e-9d09-5022f77ead13",
   "metadata": {},
   "source": [
    "One easy way to produce sample data is with **rep** which repeats it's arguments once for each input atom..."
   ]
  },
  {
   "cell_type": "code",
   "execution_count": 1,
   "id": "5a6d76de-ae50-4243-a6b5-173bc6cd2852",
   "metadata": {},
   "outputs": [
    {
     "name": "stdout",
     "output_type": "stream",
     "text": [
      "a a a a\n",
      "a b a b a b a b\n",
      "◎ ◎ ◎ ◎"
     ]
    }
   ],
   "source": [
    "rep a : 1 2 3 4 \n",
    "rep a b : 1 2 3 4 \n",
    "rep (:) : 1 2 3 4 "
   ]
  },
  {
   "cell_type": "markdown",
   "id": "a07b75d3-10cb-4d19-92e9-3fd88fb45305",
   "metadata": {},
   "source": [
    "In most sampling situations, we'll want some specified collection d1, d2, d3,.... where d1, d2, d3 are each data.  To produce a sequence like that, you don't want to produce d1 d2 d3 because concatenation destroys the sequence.  Instead, an easy solution is to produce a sequence \n",
    "\n",
    "* (:d1) (:d2) (:d3)\n",
    "\n",
    "where each data in the collection has it's own container.  We'll do a bit of this by hand..."
   ]
  },
  {
   "cell_type": "code",
   "execution_count": 2,
   "id": "075d5f8e-da63-4ad4-b4e7-2732baab880c",
   "metadata": {},
   "outputs": [
    {
     "name": "stdout",
     "output_type": "stream",
     "text": [
      "(:x y z) (:a b c)\n",
      "(repn a:5)"
     ]
    }
   ],
   "source": [
    "(put : x y z ) (put : a b c )\n",
    "repn a : 5"
   ]
  },
  {
   "cell_type": "code",
   "execution_count": 3,
   "id": "58bf9d24-244b-4bcf-b0a0-b0e41deb8fe7",
   "metadata": {},
   "outputs": [
    {
     "name": "stdout",
     "output_type": "stream",
     "text": [
      "(repn a:5)"
     ]
    }
   ],
   "source": [
    "def repn : {rep A : first B : nat : 0} \n",
    "repn a : 5"
   ]
  },
  {
   "cell_type": "code",
   "execution_count": 4,
   "id": "3dd09049-0151-41bd-ae0f-6185a69930d7",
   "metadata": {},
   "outputs": [
    {
     "name": "stdout",
     "output_type": "stream",
     "text": [
      "◎ (:a) (:a a) (:a a a) (:a a a a)"
     ]
    }
   ],
   "source": [
    "ap {put : repn a:B} : first 5 : nat : 0 "
   ]
  },
  {
   "cell_type": "markdown",
   "id": "06f85e5b-3167-4c80-a618-315a317c616f",
   "metadata": {},
   "source": [
    "For convenience, **sample.odd** and **sample.even** produces even and odd sequences of the simplest atom (:) (\"Hydrogen\"), packaged as above..."
   ]
  },
  {
   "cell_type": "code",
   "execution_count": 5,
   "id": "16d9dd05-9b1c-46bb-89b1-01ef01b21185",
   "metadata": {},
   "outputs": [
    {
     "name": "stdout",
     "output_type": "stream",
     "text": [
      "(:◎) (:◎ ◎ ◎) (:◎ ◎ ◎ ◎ ◎) (:◎ ◎ ◎ ◎ ◎ ◎ ◎)\n",
      "◎ (:◎ ◎) (:◎ ◎ ◎ ◎) (:◎ ◎ ◎ ◎ ◎ ◎)"
     ]
    }
   ],
   "source": [
    "sample.odd : 4 \n",
    "sample.even : 4"
   ]
  },
  {
   "cell_type": "markdown",
   "id": "1a375534-5abc-4518-926c-930d7784bc74",
   "metadata": {},
   "source": [
    "The **sample.pure** operator lets one sample the whole space of pure data via \n",
    "\n",
    "* sample.pure : width depth \n",
    "\n",
    "where **width** is the maximum data length and **depth** is the maximum depth.  For example..."
   ]
  },
  {
   "cell_type": "code",
   "execution_count": 6,
   "id": "7939c7d8-4ff0-43f1-8a45-3309a1ab0b05",
   "metadata": {},
   "outputs": [
    {
     "name": "stdout",
     "output_type": "stream",
     "text": [
      "◎ (:◎) (:(:◎)) (:(:◎ ◎)) (:𝟬) (:𝝞) (:◎◎) (:) (:◎) (:◎◎) (:◎ ◎) (:◎ (:◎)) (:◎ (:◎ ◎)) (:◎ 𝟬) (:◎ 𝝞) (:◎ ◎◎) (:◎ ) (:◎ ◎) (:◎ ◎◎) (:(:◎) ◎) (:(:◎) (:◎)) (:(:◎) (:◎ ◎)) (:(:◎) 𝟬) (:(:◎) 𝝞) (:(:◎) ◎◎) (:(:◎) ) (:(:◎) ◎) (:(:◎) ◎◎) (:(:◎ ◎) ◎) (:(:◎ ◎) (:◎)) (:(:◎ ◎) (:◎ ◎)) (:(:◎ ◎) 𝟬) (:(:◎ ◎) 𝝞) (:(:◎ ◎) ◎◎) (:(:◎ ◎) ) (:(:◎ ◎) ◎) (:(:◎ ◎) ◎◎) (:𝟬 ◎) (:𝟬 (:◎)) (:𝟬 (:◎ ◎)) (:𝟬 𝟬) (:𝟬 𝝞) (:𝟬 ◎◎) (:𝟬 ) (:𝟬 ◎) (:𝟬 ◎◎) (:𝝞 ◎) (:𝝞 (:◎)) (:𝝞 (:◎ ◎)) (:𝝞 𝟬) (:𝝞 𝝞) (:𝝞 ◎◎) (:𝝞 ) (:𝝞 ◎) (:𝝞 ◎◎) (:◎◎ ◎) (:◎◎ (:◎)) (:◎◎ (:◎ ◎)) (:◎◎ 𝟬) (:◎◎ 𝝞) (:◎◎ ◎◎) (:◎◎ ) (:◎◎ ◎) (:◎◎ ◎◎) (: ◎) (: (:◎)) (: (:◎ ◎)) (: 𝟬) (: 𝝞) (: ◎◎) (: ) (: ◎) (: ◎◎) (:◎ ◎) (:◎ (:◎)) (:◎ (:◎ ◎)) (:◎ 𝟬) (:◎ 𝝞) (:◎ ◎◎) (:◎ ) (:◎ ◎) (:◎ ◎◎) (:◎◎ ◎) (:◎◎ (:◎)) (:◎◎ (:◎ ◎)) (:◎◎ 𝟬) (:◎◎ 𝝞) (:◎◎ ◎◎) (:◎◎ ) (:◎◎ ◎) (:◎◎ ◎◎)"
     ]
    }
   ],
   "source": [
    "#\n",
    "#  sample.pure : <width> <depth> \n",
    "#\n",
    "sample.pure : 2 2 "
   ]
  },
  {
   "cell_type": "markdown",
   "id": "d29e73bd-5a15-4c3f-81d5-49de6113e75a",
   "metadata": {},
   "source": [
    "The direct approach is rarely useful because the universe of pure data grows enormously rapidly with **width** and **depth**.  So much so that\n",
    "\n",
    "* sample.pure : 2 3 \n",
    "\n",
    "is already challenging for a laptop.  \n",
    "\n",
    "### Size of sample.pure versus width and depth:\n",
    "\n",
    "|         | width 1  | width 2 | width 3 | width 4  | width 5 |\n",
    "|---------|---------:|--------:|--------:|---------:|--------:|\n",
    "|depth 1  |    2     |    3    |    4    |     5    |    6    |\n",
    "|depth 2  |    5     |     91   |    4369   |   406,901    |    62,193,781    |\n",
    "|depth 3  |    26     |     68,583,243   |    ?    |     ?    |    ?    |\n",
    "|depth 4  |    677     |     ?   |    ?    |     ?    |    ?    |\n",
    "|depth 5  |    458,330     |     ?   |    ?    |     ?    |    ?    |"
   ]
  },
  {
   "cell_type": "markdown",
   "id": "74c5b1d4-41ec-4167-ac3b-9848da6e9f50",
   "metadata": {},
   "source": [
    "### Practical searching \n",
    "\n",
    "Although **sample.pure** samples all pure data and, therefore, all mathematical objects, these samples are typically far too huge to be practically helpful.  Instead, the operator **sample.data** is much more practical.  This operation works by providing a sequence of codas and a width.\n",
    "\n",
    "* sample.data <...sequence of codas..> : width \n",
    "\n",
    "A few examples will illustrate. "
   ]
  },
  {
   "cell_type": "code",
   "execution_count": 7,
   "id": "65606b46-1287-4abb-b922-342c006bb61e",
   "metadata": {},
   "outputs": [
    {
     "name": "stdout",
     "output_type": "stream",
     "text": [
      "(:a a) ◎ (:a a a) (:a) (:a a a a)"
     ]
    }
   ],
   "source": [
    "#\n",
    "#   Just one argument coda \"a\" and width <= 5 gives \n",
    "#\n",
    "sample.data a : 5 "
   ]
  },
  {
   "cell_type": "code",
   "execution_count": 8,
   "id": "79e6c97f-9ff3-4756-8b5c-75e2f1008cf1",
   "metadata": {},
   "outputs": [
    {
     "name": "stdout",
     "output_type": "stream",
     "text": [
      "(:a a a b) (:b a b) (:b b b) (:b b a a) (:a a b a) (:b b) (:b a a) (:a a a) (:a b a) (:a b b a) (:b b a) (:a b a b) (:b a b b) (:b a a a) (:a a b b) (:a) (:a b b b) (:a a b) (:a a a a) (:a b a a) (:b a) (:b) (:b a a b) (:b b b a) (:a b) (:b a b a) (:b b b b) (:b b a b) (:a b b) ◎ (:a a)"
     ]
    }
   ],
   "source": [
    "#\n",
    "#   Note that the sample is delivered, as usual, as (:data1) (:data2) ... \n",
    "#\n",
    "#   If you provide two codas, a and b, all permutations are included. \n",
    "#\n",
    "sample.data a b : 5"
   ]
  },
  {
   "cell_type": "code",
   "execution_count": 9,
   "id": "69870386-210d-48b9-b2d2-c5c184c2ea88",
   "metadata": {},
   "outputs": [
    {
     "name": "stdout",
     "output_type": "stream",
     "text": [
      "(:B {B : A}) (:{a : B} A) (:a {A B}) (:A {a : B}) (:A {B}) (:A {B A}) (:A {B : a}) (:A a) (:{B A} A) (:a) (:{B a} B) (:a {a : B}) ◎ (:{B : A} B) (:{A : B} a) (:a {B : a}) (:B a) (:{B A} a) (:{A B} B) (:{A : B} A) (:{B : a} B) (:a {B}) (:{A B}) (:a {a B}) (:a B) (:A B) (:A {A : B}) (:{a B} B) (:a A) (:{a : B}) (:a a) (:{B} A) (:{a : B} B) (:A {B : A}) (:{B : a}) (:{B a} A) (:{B}) (:B B) (:B {a B}) (:{A B} A) (:B {B a}) (:{B : a} A) (:B {A : B}) (:A) (:{B A}) (:B {B : a}) (:{B : a} a) (:A A) (:A {B a}) (:{B : A} a) (:{B} a) (:{a : B} a) (:a {A : B}) (:a {B : A}) (:a {B A}) (:{B : A} A) (:{B : A}) (:{B a} a) (:B {a : B}) (:B A) (:a {B a}) (:{A : B} B) (:{A B} a) (:B {A B}) (:{a B} a) (:{B} B) (:{A : B}) (:A {A B}) (:{B A} B) (:{B a}) (:{a B}) (:A {a B}) (:B {B}) (:B) (:{a B} A) (:B {B A})"
     ]
    }
   ],
   "source": [
    "#\n",
    "#   Including the coda <{$}> generates source code intermixed with permutations of the other coda\n",
    "#   that you prescribe. \n",
    "#\n",
    "sample.data <A> <B> <{$}> a : 3"
   ]
  },
  {
   "cell_type": "code",
   "execution_count": 10,
   "id": "889b9f68-04bb-472a-b6f4-09eafa7d8b27",
   "metadata": {},
   "outputs": [
    {
     "name": "stdout",
     "output_type": "stream",
     "text": [
      "(:(y:)) (:{B : (y:)}) (:{B A}) (:{B (x:)}) (:{(y:) : B}) (:(x:)) (:{A : B}) (:{(y:) B}) (:{B : (x:)}) (:{B (x:)}) (:{A B}) (:{B : A}) ◎ (:{B}) (:{B (y:)}) (:{(x:) : B}) (:{(x:) B}) (:{(x:) : B}) (:B) (:{B : (x:)}) (:(x:)) (:{(x:) B}) (:A)"
     ]
    }
   ],
   "source": [
    "#\n",
    "#   One can add some chosen number of \"variables\" \n",
    "#\n",
    "sample.data <A> <B> <{$}> x? y? (x:) : 2 "
   ]
  },
  {
   "cell_type": "code",
   "execution_count": 11,
   "id": "85363d1f-0261-410d-a16e-333e09c5ab5f",
   "metadata": {},
   "outputs": [
    {
     "name": "stdout",
     "output_type": "stream",
     "text": [
      "◎ 𝟬 𝝞 language pass null bin put get domain left right if nif * readpath dir terminal help source demo info module defs nat code_sort ints int_sum int_prod int_sort int_min int_max int_inv int_div nats floats float_sum float_prod float_sort float_min float_max float_inv float_div rev first tail last rep nth1 once count bool not = equal or and nor xor nand xnor iff imply some home start startcontext homecontext setDefaultDepth getDefaultDepth step eval def ap aq by ax unicode wrap startswith endswith join split coda codx codes digits letters printable alphabet allcodes pure replace rreplace with undefined theorem sample.even sample.odd sample.pure sample.window sample.data nth pre post in import arg let while kernel ker mor hasnt has isnt is sample.letter sample.variable sample.domain sample.number sample.module repn"
     ]
    }
   ],
   "source": [
    "#\n",
    "#   To meaningfully search, one should add domains representing established definitions.  To do this, first see \n",
    "#   all currently available definitions like so...\n",
    "#\n",
    "defs:"
   ]
  },
  {
   "cell_type": "code",
   "execution_count": 12,
   "id": "09fc2c9a-d9d3-44d9-af3c-62c1e16859f9",
   "metadata": {},
   "outputs": [
    {
     "name": "stdout",
     "output_type": "stream",
     "text": [
      "   Language Basic Basic Basic Basic Basic Basic Basic Basic Basic Basic Basic IO IO IO Help Help Help Help Help Help Number Number Number Number Number Number Number Number Number Number Number Number Number Number Number Number Number Number Number Sequence Sequence Sequence Sequence Sequence Sequence Sequence Sequence Logic Logic Logic Logic Logic Logic Logic Logic Logic Logic Logic Logic Logic Import Import Import Import Evaluate Evaluate Evaluate Evaluate Define Apply Apply Apply Apply Code Code Code Code Code Code Compile Compile Text Text Text Text Text Text Text Variable Variable Variable Variable Theorem Sample Sample Sample Sample Sample Sequence Sequence Sequence Logic Import Define  Apply Apply Apply Apply Basic Basic Basic Basic   Sample   "
     ]
    }
   ],
   "source": [
    "#\n",
    "#    Each definition is in a \"module\" which is either a python file (.py) or a coda file (.co). \n",
    "#\n",
    "module : defs:"
   ]
  },
  {
   "cell_type": "code",
   "execution_count": 13,
   "id": "92b373f7-5be7-4738-bb3c-b41e99287a3d",
   "metadata": {},
   "outputs": [
    {
     "name": "stdout",
     "output_type": "stream",
     "text": [
      "pass null bin put get domain left right if nif * nat code_sort ints int_sum int_prod int_sort int_min int_max int_inv int_div nats floats float_sum float_prod float_sort float_min float_max float_inv float_div rev first tail last rep nth1 once count bool not = equal or and nor xor nand xnor iff imply some ap aq by ax nth pre post in while kernel ker mor hasnt has isnt is"
     ]
    }
   ],
   "source": [
    "#\n",
    "#    Typically one would want some but not all definitions for a search.  For instance, one typically doesn't want to search \n",
    "#    over IO operations or Sample operations (to avoid recursion) or over help system operations.  A typical choice is...\n",
    "#\n",
    "defs : Apply Basic Logic Number Sequence  "
   ]
  },
  {
   "cell_type": "code",
   "execution_count": 14,
   "id": "09850719-7520-48a2-bf40-fff6aabdc5ee",
   "metadata": {},
   "outputs": [
    {
     "name": "stdout",
     "output_type": "stream",
     "text": [
      "(:once) (:{(x:) : B}) (:{B : A}) (:{B aq}) (:{B =}) (:{floats B}) (:{tail : B}) (:{B int_min}) (:{B float_inv}) (:{float_sort : B}) (:float_div) (:{once B}) (:{B nth}) (:{B : kernel}) (:{bool : B}) (:{B nat}) (:{B nif}) (:{B : left}) (:{imply : B}) (:{hasnt B}) (:{B float_sum}) (:{B : equal}) (:count) (:{B nth1}) (:{is : B}) (:{(y:) B}) (:*) (:or) (:{int_sum B}) (:{ax B}) (:{pass : B}) (:nor) (:{equal : B}) (:{float_div : B}) (:{hasnt : B}) (:{code_sort : B}) (:{B xnor}) (:right) (:{B nats}) (:aq) (:{xor : B}) (:{B get}) (:{B ap}) (:{ax : B}) (:{B : nat}) (:not) (:{B : some}) (:{bool B}) (:{B : has}) (:{bin B}) (:{first B}) (:equal) (:{* B}) (:{int_max : B}) (:{nth B}) (:{B : tail}) (:{bin : B}) (:{float_inv : B}) (:{B : float_sum}) (:pre) (:{int_div : B}) (:nth1) (:{int_prod B}) (:{B code_sort}) (:{(z:) B}) (:{rep : B}) (:int_sort) (:{B is}) (:while) (:{B pre}) (:{B : not}) (:{domain B}) (:{B : while}) (:{int_sort : B}) (:hasnt) (:{B while}) (:{B some}) (:{B : aq}) (:{nth : B}) (:int_inv) (:{once : B}) (:{B : xnor}) (:{(z:) : B}) (:{B : int_min}) (:{B float_min}) (:{float_min : B}) (:{B : int_sort}) (:{mor : B}) (:{B : is}) (:{B : domain}) (:{B : float_div}) ◎ (:{B post}) (:{by B}) (:int_sum) (:{B : if}) (:{B float_prod}) (:{B : bool}) (:{B xor}) (:{(y:) : B}) (:{while B}) (:int_prod) (:{nats : B}) (:ax) (:{ap B}) (:{count : B}) (:{B nand}) (:{float_inv B}) (:{B pass}) (:{isnt : B}) (:tail) (:is) (:{B : put}) (:{and B}) (:{B : bin}) (:{B float_sort}) (:by) (:(z:)) (:{B int_div}) (:put) (:{xnor : B}) (:{B (x:)}) (:{last B}) (:{B has}) (:{null : B}) (:{B nor}) (:{B int_inv}) (:{nor B}) (:{int_max B}) (:{xnor B}) (:{B int_prod}) (:{B : null}) (:{A : B}) (:{B : float_inv}) (:{code_sort B}) (:if) (:{B : first}) (:{B int_max}) (:mor) (:{nth1 : B}) (:{get B}) (:{or B}) (:{nth1 B}) (:nats) (:domain) (:{B : by}) (:{get : B}) (:float_inv) (:pass) (:{A B}) (:{isnt B}) (:rev) (:bool) (:{int_sort B}) (:{B : nth}) (:{not B}) (:{B : nand}) (:{nat : B}) (:first) (:{B imply}) (:{B : int_sum}) (:{has : B}) (:{float_prod : B}) (:{B kernel}) (:{int_min B}) (:{B : ap}) (:{B : floats}) (:left) (:{B : (y:)}) (:bin) (:{B : right}) (:isnt) (:{B : post}) (:{B : pass}) (:{B once}) (:{B : and}) (:null) (:{B : or}) (:float_sort) (:{B : float_prod}) (:{by : B}) (:{rev B}) (:{int_inv : B}) (:{B : rev}) (:{kernel B}) (:{B iff}) (:nif) (:=) (:(x:)) (:{B : imply}) (:get) (:{B : nats}) (:{* : B}) (:ker) (:{nand B}) (:{int_min : B}) (:{if : B}) (:has) (:xor) (:{B : iff}) (:{B float_div}) (:{B int_sum}) (:{float_prod B}) (:{not : B}) (:nand) (:nat) (:{put : B}) (:{ker B}) (:{B : hasnt}) (:{ker : B}) (:{int_sum : B}) (:{B count}) (:{B first}) (:{B : get}) (:{B last}) (:{B}) (:{post : B}) (:int_max) (:{B equal}) (:{B : code_sort}) (:{has B}) (:{B domain}) (:{B : pre}) (:nth) (:{B : (z:)}) (:{some B}) (:{ints B}) (:float_sum) (:{or : B}) (:{domain : B}) (:rep) (:last) (:{iff : B}) (:{B : ker}) (:{B : once}) (:{B or}) (:{B bin}) (:{B : ax}) (:{B : *}) (:{kernel : B}) (:ints) (:{= B}) (:{B : count}) (:{B : in}) (:{imply B}) (:{B : mor}) (:imply) (:{B : rep}) (:{B : ints}) (:(y:)) (:{ap : B}) (:{B left}) (:{B (y:)}) (:kernel) (:{B : nif}) (:{count B}) (:{float_sum : B}) (:{B A}) (:{(x:) B}) (:{nat B}) (:{B : int_prod}) (:{B : last}) (:{aq B}) (:{if B}) (:{B and}) (:{B ax}) (:{B : float_min}) (:{float_max : B}) (:{int_div B}) (:{nif B}) (:{float_sort B}) (:{left B}) (:{nand : B}) (:{rev : B}) (:{nif : B}) (:{put B}) (:{and : B}) (:{B tail}) (:{last : B}) (:{int_prod : B}) (:code_sort) (:{B int_sort}) (:{is B}) (:{B floats}) (:{B in}) (:{float_min B}) (:{nor : B}) (:xnor) (:float_prod) (:{tail B}) (:in) (:{equal B}) (:{first : B}) (:{B : nth1}) (:{B rev}) (:post) (:{in : B}) (:{B : float_sort}) (:{right : B}) (:int_min) (:{aq : B}) (:{B : nor}) (:{left : B}) (:and) (:{B : (x:)}) (:{B float_max}) (:{null B}) (:{= : B}) (:{B ker}) (:{float_max B}) (:{rep B}) (:iff) (:{mor B}) (:{floats : B}) (:{B : float_max}) (:{nats B}) (:{B isnt}) (:{post B}) (:{while : B}) (:{pass B}) (:{xor B}) (:{int_inv B}) (:{B : isnt}) (:{B : xor}) (:float_max) (:{B (z:)}) (:{ints : B}) (:{right B}) (:{B if}) (:{B : int_div}) (:{float_sum B}) (:A) (:{B : int_max}) (:{B bool}) (:{B mor}) (:some) (:{pre : B}) (:{B not}) (:{iff B}) (:int_div) (:{B rep}) (:floats) (:{B right}) (:ap) (:{B hasnt}) (:{B put}) (:{in B}) (:{float_div B}) (:{B by}) (:{B *}) (:{B ints}) (:{B : =}) (:float_min) (:{some : B}) (:{pre B}) (:{B null}) (:B) (:{B : int_inv})"
     ]
    }
   ],
   "source": [
    "#\n",
    "#    To create a typical sample, we start with A, B and {$} for language purposes, add a few \"variables\" (x? y? z?) and \n",
    "#    mix in the above definitions. \n",
    "#    \n",
    "let sample : sample.data <A> <B> <{$}> (x? y? z?) (defs:Apply Basic Logic Number Sequence) : 2 \n",
    "sample?"
   ]
  },
  {
   "cell_type": "code",
   "execution_count": 15,
   "id": "5bdbe692-f37a-4121-aec5-75af22cbc55a",
   "metadata": {},
   "outputs": [
    {
     "name": "stdout",
     "output_type": "stream",
     "text": [
      "358\n",
      "(x:) (y:) (z:)"
     ]
    }
   ],
   "source": [
    "#\n",
    "#   sample? is then a collection of data that can be used, for instance, to test for theorems or search for \n",
    "#   algebraic structures of interest, as shown in study tutorials. \n",
    "#\n",
    "count : sample? \n",
    "undefined : sample?"
   ]
  },
  {
   "cell_type": "markdown",
   "id": "48b98844-2d76-4057-8827-80519f471fb5",
   "metadata": {},
   "source": [
    "For larger scale searching, one would typically increase from width=2 and search in parallel and, perhaps add more variables.\n",
    "\n",
    "This can be useful for theorem testing and for searching for algebraic structures of interest as illustrated in the theorem tutorial and in various study notebooks. "
   ]
  },
  {
   "cell_type": "code",
   "execution_count": null,
   "id": "b2925b26-aed6-4366-9377-d46976470cd9",
   "metadata": {},
   "outputs": [],
   "source": []
  }
 ],
 "metadata": {
  "kernelspec": {
   "display_name": "coda",
   "language": "",
   "name": "coda"
  },
  "language_info": {
   "file_extension": ".co",
   "mimetype": "text/plain",
   "name": "Any text"
  }
 },
 "nbformat": 4,
 "nbformat_minor": 5
}
