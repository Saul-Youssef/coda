{
 "cells": [
  {
   "cell_type": "code",
   "execution_count": 1,
   "id": "7984958e-460a-4798-8e98-d5721e703717",
   "metadata": {},
   "outputs": [
    {
     "name": "stdout",
     "output_type": "stream",
     "text": [
      "(defaultTime:5000)"
     ]
    }
   ],
   "source": [
    "defaultTime:5000"
   ]
  },
  {
   "cell_type": "code",
   "execution_count": 2,
   "id": "e48956f9-58b2-4003-ab87-6c9c599e2fdb",
   "metadata": {},
   "outputs": [
    {
     "name": "stdout",
     "output_type": "stream",
     "text": []
    }
   ],
   "source": [
    "import : dir co : up : up : up : .\n",
    "Def F  : ap { if (right:B):(:arg:B)}  \n",
    "Def nF : ap {nif (right:B):(:arg:B)}  "
   ]
  },
  {
   "cell_type": "code",
   "execution_count": 3,
   "id": "27ce8b0b-10ee-4fed-83cc-54e9dac152c1",
   "metadata": {},
   "outputs": [
    {
     "name": "stdout",
     "output_type": "stream",
     "text": [
      "eval.step> step 3, time:0.01/5000.00, GB:0.10/2.00, context:224, cache:757/11\n"
     ]
    }
   ],
   "source": [
    "log:eval.step"
   ]
  },
  {
   "cell_type": "code",
   "execution_count": 4,
   "id": "adb3d40a-ecb6-4b81-9175-8bac070fe888",
   "metadata": {},
   "outputs": [
    {
     "name": "stdout",
     "output_type": "stream",
     "text": [
      "eval.step> step 46, time:9686.34/7200.00, GB:10.19/2.00, context:224, cache:20613/9536\n",
      "eval.step> step 4, time:9873.28/5000.00, GB:2.87/2.00, context:224, cache:772/36\n"
     ]
    }
   ],
   "source": [
    "write L1.1 7200 : dom 1000 : property algebraic_L1 S7? : first 20000 : C13? :"
   ]
  },
  {
   "cell_type": "code",
   "execution_count": 5,
   "id": "7802d989-69d3-4014-b652-008a1c6e2c24",
   "metadata": {},
   "outputs": [
    {
     "name": "stdout",
     "output_type": "stream",
     "text": [
      "eval.step> step 48, time:10195.15/7200.00, GB:11.29/2.00, context:224, cache:20392/9458\n",
      "eval.step> step 4, time:10357.46/5000.00, GB:2.86/2.00, context:224, cache:783/54\n"
     ]
    }
   ],
   "source": [
    "write L1.2 7200 : dom 1000 : property algebraic_L1 S7? : first 20000 : skip 20000: C13? :"
   ]
  },
  {
   "cell_type": "code",
   "execution_count": 6,
   "id": "943a1500-9f9f-4198-ba7d-b617c448b7df",
   "metadata": {},
   "outputs": [
    {
     "name": "stdout",
     "output_type": "stream",
     "text": [
      "eval.step> step 45, time:10150.20/7200.00, GB:5.41/2.00, context:224, cache:389/9438\n",
      "eval.step> step 4, time:12758.28/5000.00, GB:3.44/2.00, context:224, cache:794/72\n"
     ]
    }
   ],
   "source": [
    "write L1.3 7200 : dom 1000 : property algebraic_L1 S7? : first 20000 : skip 40000: C13? :"
   ]
  },
  {
   "cell_type": "code",
   "execution_count": 7,
   "id": "b2a6203a-d805-40e2-9663-71554f15cb6c",
   "metadata": {},
   "outputs": [
    {
     "name": "stdout",
     "output_type": "stream",
     "text": [
      "eval.step> step 44, time:7267.65/7200.00, GB:4.45/2.00, context:224, cache:387/9433\n",
      "eval.step> step 4, time:9273.18/5000.00, GB:4.79/2.00, context:224, cache:805/90\n"
     ]
    }
   ],
   "source": [
    "write L1.4 7200 : dom 1000 : property algebraic_L1 S7? : first 20000 : skip 60000: C13? :"
   ]
  },
  {
   "cell_type": "code",
   "execution_count": 8,
   "id": "5bf34812-6809-408b-864e-3ae6976343d6",
   "metadata": {},
   "outputs": [
    {
     "name": "stdout",
     "output_type": "stream",
     "text": [
      "eval.step> step 25, time:7301.84/7200.00, GB:8.55/2.00, context:224, cache:71827/668\n",
      "eval.step> step 4, time:7353.89/5000.00, GB:8.08/2.00, context:224, cache:816/108\n"
     ]
    }
   ],
   "source": [
    "write L2.1 7200 : dom 1000 : property algebraic_L2 S7? : F : read stable : L1.1"
   ]
  },
  {
   "cell_type": "code",
   "execution_count": 9,
   "id": "c5612c25-8507-4929-ba00-50ea21b8006b",
   "metadata": {},
   "outputs": [
    {
     "name": "stdout",
     "output_type": "stream",
     "text": [
      "eval.step> step 29, time:21903.49/7200.00, GB:9.40/2.00, context:224, cache:78542/685\n",
      "eval.step> step 4, time:21907.75/5000.00, GB:8.40/2.00, context:224, cache:827/126\n"
     ]
    }
   ],
   "source": [
    "write L2.2 7200 : dom 1000 : property algebraic_L2 S7? : F : read stable : L1.2"
   ]
  },
  {
   "cell_type": "code",
   "execution_count": 24,
   "id": "97b64f62-d38d-4e68-82e3-101d7a07e626",
   "metadata": {},
   "outputs": [
    {
     "name": "stdout",
     "output_type": "stream",
     "text": [
      "eval.step> step 17, time:825.16/7201.00, GB:9.83/2.00, context:224, cache:157/238\n",
      "eval.step> step 4, time:825.22/5000.00, GB:9.83/2.00, context:224, cache:996/401\n"
     ]
    }
   ],
   "source": [
    "write L2.3 7201 : dom 1000 : property algebraic_L2 S7? : F : read stable : L1.3"
   ]
  },
  {
   "cell_type": "code",
   "execution_count": 25,
   "id": "d9d665a7-6d4c-4aef-a1d7-d02a3e02c760",
   "metadata": {},
   "outputs": [
    {
     "name": "stdout",
     "output_type": "stream",
     "text": [
      "eval.step> step 18, time:330.69/7201.00, GB:9.82/2.00, context:224, cache:159/242\n",
      "eval.step> step 3, time:330.73/5000.00, GB:9.82/2.00, context:224, cache:1001/410\n"
     ]
    }
   ],
   "source": [
    "write L2.4 7201 : dom 1000 : property algebraic_L2 S7? : F : read stable : L1.4"
   ]
  },
  {
   "cell_type": "code",
   "execution_count": null,
   "id": "b9fc8174-0c44-46ce-b5a3-ac5ee9f07294",
   "metadata": {},
   "outputs": [],
   "source": []
  },
  {
   "cell_type": "code",
   "execution_count": 26,
   "id": "9387c6df-b57c-4f41-b2dd-421f6e39a2cb",
   "metadata": {},
   "outputs": [
    {
     "name": "stdout",
     "output_type": "stream",
     "text": [
      "eval.step> step 18, time:94.06/7201.00, GB:9.82/2.00, context:224, cache:159/242\n",
      "eval.step> step 3, time:94.10/5000.00, GB:9.82/2.00, context:224, cache:1006/419\n"
     ]
    }
   ],
   "source": [
    "write L2R1.1 7201 : dom 1000 : property algebraic_R1 S7? : F : read stable : L2.1"
   ]
  },
  {
   "cell_type": "code",
   "execution_count": 27,
   "id": "5a686af9-537b-4b51-89bb-c33c0d600b7b",
   "metadata": {},
   "outputs": [
    {
     "name": "stdout",
     "output_type": "stream",
     "text": [
      "eval.step> step 30, time:44407.55/7201.00, GB:11.11/2.00, context:224, cache:39427/731\n",
      "eval.step> step 3, time:44449.32/5000.00, GB:10.31/2.00, context:224, cache:1011/428\n"
     ]
    }
   ],
   "source": [
    "write L2R1.2 7201 : dom 1000 : property algebraic_R1 S7? : F : read stable : L2.2"
   ]
  },
  {
   "cell_type": "code",
   "execution_count": 28,
   "id": "a9a0704b-c5fc-4e3d-9463-7a6ad5f16d46",
   "metadata": {},
   "outputs": [
    {
     "name": "stdout",
     "output_type": "stream",
     "text": [
      "eval.step> step 18, time:0.46/7201.00, GB:10.31/2.00, context:224, cache:160/243\n",
      "eval.step> step 3, time:0.50/5000.00, GB:10.31/2.00, context:224, cache:1016/437\n"
     ]
    }
   ],
   "source": [
    "write L2R1.3 7201 : dom 1000 : property algebraic_R1 S7? : F : read stable : L2.3"
   ]
  },
  {
   "cell_type": "code",
   "execution_count": 29,
   "id": "8f090848-eab4-477c-98bc-bcd60d23c0d6",
   "metadata": {},
   "outputs": [
    {
     "name": "stdout",
     "output_type": "stream",
     "text": [
      "eval.step> step 18, time:0.46/7201.00, GB:10.31/2.00, context:224, cache:160/243\n",
      "eval.step> step 3, time:0.50/5000.00, GB:10.31/2.00, context:224, cache:1021/446\n"
     ]
    }
   ],
   "source": [
    "write L2R1.4 7201 : dom 1000 : property algebraic_R1 S7? : F : read stable : L2.4"
   ]
  },
  {
   "cell_type": "code",
   "execution_count": null,
   "id": "cc6511d9-1b8c-4332-84c4-84ff3e3a5ede",
   "metadata": {},
   "outputs": [],
   "source": []
  },
  {
   "cell_type": "code",
   "execution_count": 30,
   "id": "0ba63f1c-017d-4e7d-8cae-f87cc5d2423a",
   "metadata": {},
   "outputs": [
    {
     "name": "stdout",
     "output_type": "stream",
     "text": [
      "eval.step> step 18, time:0.46/3600.00, GB:10.31/2.00, context:224, cache:158/241\n",
      "eval.step> step 4, time:0.53/5000.00, GB:10.31/2.00, context:224, cache:1027/457\n"
     ]
    }
   ],
   "source": [
    "write L2R1.idem.1 3600 : dom 1000 : property idempotent S7? : F : read stable : L2R1.1 "
   ]
  },
  {
   "cell_type": "code",
   "execution_count": 31,
   "id": "b165a176-77f2-4185-9d17-ff3a82d176f6",
   "metadata": {},
   "outputs": [
    {
     "name": "stdout",
     "output_type": "stream",
     "text": [
      "eval.step> step 31, time:3214.33/3600.00, GB:10.54/2.00, context:224, cache:40843/6276\n",
      "eval.step> step 3, time:3217.93/5000.00, GB:10.31/2.00, context:224, cache:1032/466\n"
     ]
    }
   ],
   "source": [
    "write L2R1.idem.2 3600 : dom 1000 : property idempotent S7? : F : read stable : L2R1.2"
   ]
  },
  {
   "cell_type": "code",
   "execution_count": 32,
   "id": "9383647e-af55-4a5a-8510-9e336a248624",
   "metadata": {},
   "outputs": [
    {
     "name": "stdout",
     "output_type": "stream",
     "text": [
      "eval.step> step 17, time:0.47/3601.00, GB:10.31/2.00, context:224, cache:157/238\n",
      "eval.step> step 4, time:0.53/5000.00, GB:10.31/2.00, context:224, cache:1041/479\n"
     ]
    }
   ],
   "source": [
    "write L2R1.idem.3 3601 : dom 1000 : property idempotent S7? : F : read stable : L2R1.3"
   ]
  },
  {
   "cell_type": "code",
   "execution_count": 33,
   "id": "46c2c976-50f9-42aa-b383-faee30f042d1",
   "metadata": {},
   "outputs": [
    {
     "name": "stdout",
     "output_type": "stream",
     "text": [
      "eval.step> step 18, time:0.45/3601.00, GB:10.31/2.00, context:224, cache:159/242\n",
      "eval.step> step 3, time:0.50/5000.00, GB:10.31/2.00, context:224, cache:1046/488\n"
     ]
    }
   ],
   "source": [
    "write L2R1.idem.4 3601 : dom 1000 : property idempotent S7? : F : read stable : L2R1.4"
   ]
  },
  {
   "cell_type": "code",
   "execution_count": null,
   "id": "9edb2014-f61b-4c7e-82ed-109d6550c081",
   "metadata": {},
   "outputs": [],
   "source": []
  },
  {
   "cell_type": "code",
   "execution_count": 34,
   "id": "40d3dac7-e746-40bb-b207-5cf873b750fe",
   "metadata": {},
   "outputs": [
    {
     "name": "stdout",
     "output_type": "stream",
     "text": [
      "eval.step> step 18, time:0.48/3601.00, GB:10.31/2.00, context:224, cache:160/243\n",
      "eval.step> step 4, time:0.56/5000.00, GB:10.31/2.00, context:224, cache:1052/499\n"
     ]
    }
   ],
   "source": [
    "write L2R1.nidem.semi.1 3601 : dom 1000 : property semilattice S7? : nF : read stable : L2R1.idem.1 "
   ]
  },
  {
   "cell_type": "code",
   "execution_count": 35,
   "id": "bd80dc70-0883-4e2d-94c6-575e40934cfb",
   "metadata": {},
   "outputs": [
    {
     "name": "stdout",
     "output_type": "stream",
     "text": [
      "eval.step> step 30, time:2210.01/3601.00, GB:10.21/2.00, context:224, cache:37867/1390\n",
      "eval.step> step 3, time:2210.54/5000.00, GB:10.18/2.00, context:224, cache:1057/508\n"
     ]
    }
   ],
   "source": [
    "write L2R1.nidem.semi.2 3601 : dom 1000 : property semilattice S7? : nF : read stable : L2R1.idem.2"
   ]
  },
  {
   "cell_type": "code",
   "execution_count": 36,
   "id": "84b9ce7d-4cc7-4183-9cd3-2c5344396b33",
   "metadata": {},
   "outputs": [
    {
     "name": "stdout",
     "output_type": "stream",
     "text": [
      "eval.step> step 18, time:0.49/3601.00, GB:10.18/2.00, context:224, cache:161/244\n",
      "eval.step> step 3, time:0.55/5000.00, GB:10.18/2.00, context:224, cache:1062/517\n"
     ]
    }
   ],
   "source": [
    "write L2R1.nidem.semi.3 3601 : dom 1000 : property semilattice S7? : nF : read stable : L2R1.idem.3"
   ]
  },
  {
   "cell_type": "code",
   "execution_count": 37,
   "id": "3fdc6275-fcbd-4b2f-9243-06e6e6e1dc48",
   "metadata": {},
   "outputs": [
    {
     "name": "stdout",
     "output_type": "stream",
     "text": [
      "eval.step> step 18, time:0.49/3601.00, GB:10.18/2.00, context:224, cache:161/244\n",
      "eval.step> step 3, time:0.54/5000.00, GB:10.18/2.00, context:224, cache:1067/526\n"
     ]
    }
   ],
   "source": [
    "write L2R1.nidem.semi.4 3601 : dom 1000 : property semilattice S7? : nF : read stable : L2R1.idem.4"
   ]
  },
  {
   "cell_type": "code",
   "execution_count": null,
   "id": "cc2a0ecf-e2ee-42ba-b172-a49442f53b79",
   "metadata": {},
   "outputs": [],
   "source": []
  }
 ],
 "metadata": {
  "kernelspec": {
   "display_name": "coda",
   "language": "",
   "name": "coda"
  },
  "language_info": {
   "file_extension": ".co",
   "mimetype": "text/plain",
   "name": "Any text"
  }
 },
 "nbformat": 4,
 "nbformat_minor": 5
}
