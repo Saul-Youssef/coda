{
 "cells": [
  {
   "cell_type": "markdown",
   "id": "84b895d0-487d-4892-9c17-a9cda2b7dee7",
   "metadata": {
    "tags": []
   },
   "source": [
    "### coda\n",
    "\n",
    "The tiny core of the coda system is contained in the base module.  To run this demo, your PYTHONPATH should include the .../py directory of coda. "
   ]
  },
  {
   "cell_type": "code",
   "execution_count": 1,
   "id": "0dbf3a5e-00ba-4e7e-abc5-124ca7ae7bfb",
   "metadata": {},
   "outputs": [],
   "source": [
    "from base import *  # tiny core system"
   ]
  },
  {
   "cell_type": "markdown",
   "id": "536790a6-da15-4ce7-8488-2a81a705b8cd",
   "metadata": {},
   "source": [
    "By definition, data is a finite sequence of data. From the definition, the empty sequence of data is data.  An empty data is created in python by `data()`.  This can be displayed either as `()` or as a symbol representing the empty set `0` in python by using `repr(data())` or `str(data())` respectively.  We sometimes refer to this as \"pure data.\""
   ]
  },
  {
   "cell_type": "code",
   "execution_count": 2,
   "id": "2715c40b-284e-4d94-9233-9cda75ce5a6e",
   "metadata": {},
   "outputs": [
    {
     "name": "stdout",
     "output_type": "stream",
     "text": [
      "() ∅\n"
     ]
    }
   ],
   "source": [
    "#\n",
    "#  create an empty pure data and display it\n",
    "#\n",
    "z = data()\n",
    "print(repr(z),z)"
   ]
  },
  {
   "cell_type": "markdown",
   "id": "baf1349a-e44e-4f0a-8786-9158f6169e0b",
   "metadata": {},
   "source": [
    "The data constructor takes tuples of data as arguments. "
   ]
  },
  {
   "cell_type": "code",
   "execution_count": 3,
   "id": "5fc64bc0-7719-4278-9276-a2be06be9804",
   "metadata": {},
   "outputs": [
    {
     "name": "stdout",
     "output_type": "stream",
     "text": [
      "(()()()()) (∅∅∅∅)\n"
     ]
    }
   ],
   "source": [
    "zz = data(z,z,z,z)\n",
    "print(repr(zz),zz)"
   ]
  },
  {
   "cell_type": "markdown",
   "id": "0f678d06-1e95-47fe-98bd-5afc6987d2d3",
   "metadata": {},
   "source": [
    "In addition to the data constructor, there are two foundational operations from data to data. If x and y are data, the operations are\n",
    "\n",
    "1. Concatenation, indicated by x y in the language or by x+y in python.\n",
    "2. Colon, indicated by x:y in the language or by x|y in python. \n",
    "\n",
    "As you can see, all data are merely recursive sequences of empty sequences."
   ]
  },
  {
   "cell_type": "code",
   "execution_count": 4,
   "id": "3973d872-e10f-4ec6-a899-03f3acca7065",
   "metadata": {},
   "outputs": [
    {
     "name": "stdout",
     "output_type": "stream",
     "text": [
      "() 5740354900026072187\n",
      "() 5740354900026072187\n",
      "(()()) 9028247024705308198\n",
      "(()) -5486347211504344842\n",
      "(()()) 9028247024705308198\n",
      "((())(())(()())) 2585886989908069190\n"
     ]
    }
   ],
   "source": [
    "L = [z,z+z,z & z,z|z,z|(z|z),data(z|z,z|z,(z|(z|z)))]\n",
    "for l in L: print(repr(l),hash(l))"
   ]
  },
  {
   "cell_type": "code",
   "execution_count": 5,
   "id": "0d90a7ac-983c-4a04-a16c-adc063668a30",
   "metadata": {},
   "outputs": [
    {
     "name": "stdout",
     "output_type": "stream",
     "text": [
      "()  ->  ∅\n",
      "()  ->  ∅\n",
      "(()())  ->  𝟭\n",
      "(())  ->  𝟬\n",
      "(()())  ->  𝟭\n",
      "((())(())(()()))  ->  (𝟬𝟬𝟭)\n"
     ]
    }
   ],
   "source": [
    "#\n",
    "#   z|z is defined as a zero bit and \n",
    "#   z|(z|z) is defined as a one bit.\n",
    "#\n",
    "for l in L: print(repr(l),' -> ',str(l))"
   ]
  },
  {
   "cell_type": "markdown",
   "id": "7614f151-e399-490e-a6ef-d43df39444c9",
   "metadata": {},
   "source": [
    "For more examples, we can use the Universe module to create all data with specified width and depth less than specified values. The 3,2 universe, for example is all data with width <= 3 and depth <= 2.  "
   ]
  },
  {
   "cell_type": "code",
   "execution_count": 6,
   "id": "14f7bddb-a532-4333-9754-9c76777426c2",
   "metadata": {},
   "outputs": [
    {
     "name": "stdout",
     "output_type": "stream",
     "text": [
      "()  ->  ∅\n",
      "(())  ->  𝟬\n"
     ]
    }
   ],
   "source": [
    "#\n",
    "#   The 1,1 universe contains only empty and the zero bit. \n",
    "#\n",
    "import Universe\n",
    "for d in Universe.universe(1,1): print(repr(d),' -> ',d)"
   ]
  },
  {
   "cell_type": "code",
   "execution_count": 7,
   "id": "feac1630-d2f5-4733-a65b-ef833c67da10",
   "metadata": {},
   "outputs": [
    {
     "name": "stdout",
     "output_type": "stream",
     "text": [
      "()  ->  ∅\n",
      "(())  ->  𝟬\n",
      "(()())  ->  𝟭\n"
     ]
    }
   ],
   "source": [
    "#\n",
    "#   The 2,1 universe also contains binary 1. \n",
    "#\n",
    "for d in Universe.universe(2,1): print(repr(d),' -> ',d)"
   ]
  },
  {
   "cell_type": "code",
   "execution_count": 8,
   "id": "761a6330-81a9-43f2-a45d-d5c41334625a",
   "metadata": {
    "tags": []
   },
   "outputs": [
    {
     "name": "stdout",
     "output_type": "stream",
     "text": [
      "∅\n",
      "𝟬\n",
      "𝟭\n",
      "(∅∅∅)\n",
      "(𝟬)\n",
      "(𝟭)\n",
      "((∅∅∅))\n",
      "(𝟬𝟬)\n",
      "(𝟬𝟭)\n",
      "(𝟬(∅∅∅))\n",
      "(𝟭𝟬)\n",
      "(𝟭𝟭)\n",
      "(𝟭(∅∅∅))\n",
      "((∅∅∅)𝟬)\n",
      "((∅∅∅)𝟭)\n",
      "((∅∅∅)(∅∅∅))\n",
      "(𝟬𝟬𝟬)\n",
      "(𝟬𝟬𝟭)\n",
      "(𝟬𝟬(∅∅∅))\n",
      "(𝟬𝟭𝟬)\n",
      "(𝟬𝟭𝟭)\n",
      "(𝟬𝟭(∅∅∅))\n",
      "(𝟬(∅∅∅)𝟬)\n",
      "(𝟬(∅∅∅)𝟭)\n",
      "(𝟬(∅∅∅)(∅∅∅))\n",
      "(𝟭𝟬𝟬)\n",
      "(𝟭𝟬𝟭)\n",
      "(𝟭𝟬(∅∅∅))\n",
      "(𝟭𝟭𝟬)\n",
      "(𝟭𝟭𝟭)\n",
      "(𝟭𝟭(∅∅∅))\n",
      "(𝟭(∅∅∅)𝟬)\n",
      "(𝟭(∅∅∅)𝟭)\n",
      "(𝟭(∅∅∅)(∅∅∅))\n",
      "((∅∅∅)𝟬𝟬)\n",
      "((∅∅∅)𝟬𝟭)\n",
      "((∅∅∅)𝟬(∅∅∅))\n",
      "((∅∅∅)𝟭𝟬)\n",
      "((∅∅∅)𝟭𝟭)\n",
      "((∅∅∅)𝟭(∅∅∅))\n",
      "((∅∅∅)(∅∅∅)𝟬)\n",
      "((∅∅∅)(∅∅∅)𝟭)\n",
      "((∅∅∅)(∅∅∅)(∅∅∅))\n"
     ]
    }
   ],
   "source": [
    "U = Universe.universe(3,2)\n",
    "for d in U: print(d)"
   ]
  },
  {
   "cell_type": "code",
   "execution_count": 9,
   "id": "4828e6a1-f93c-45c4-bf98-b0f45dc970a1",
   "metadata": {},
   "outputs": [
    {
     "name": "stdout",
     "output_type": "stream",
     "text": [
      "60922\n"
     ]
    }
   ],
   "source": [
    "#\n",
    "#   The sizes of universes grows very rapidly.\n",
    "#\n",
    "print(len(Universe.universe(3,3)))\n"
   ]
  },
  {
   "cell_type": "markdown",
   "id": "4691cf3c-c245-4d5b-bd64-143eaa680fa3",
   "metadata": {},
   "source": [
    "## Universe Sizes for given widths and depths \n",
    "\n",
    "| Depth     | 1  |  2  |  3    |  4  |      5  |\n",
    "|----------:|---:|----:|------:|----:|--------:|\n",
    "| Width 1:   | 2  |  3  |  4    |  5  |      6  |\n",
    "| Width 2:   | 3  |  9  | 51    | 1857| 3265299 | \n",
    "| Width 3:   | 4  | 43  | 60922 | \n",
    "| Width 4:   | 5  | 345 | \n",
    "| Width 5:   | 6  | 3911| \n",
    "| Width 6:   | 7  | 55993 |\n",
    "| Width 7:   | 8  | 960807 | "
   ]
  },
  {
   "cell_type": "code",
   "execution_count": 10,
   "id": "9e75f246-841f-470a-8343-fbe22dd85bbb",
   "metadata": {},
   "outputs": [
    {
     "name": "stdout",
     "output_type": "stream",
     "text": [
      "960807\n"
     ]
    }
   ],
   "source": [
    "U = Universe.universe(7,2)\n",
    "print(len(U))"
   ]
  }
 ],
 "metadata": {
  "kernelspec": {
   "display_name": "Python 3 (ipykernel)",
   "language": "python",
   "name": "python3"
  },
  "language_info": {
   "codemirror_mode": {
    "name": "ipython",
    "version": 3
   },
   "file_extension": ".py",
   "mimetype": "text/x-python",
   "name": "python",
   "nbconvert_exporter": "python",
   "pygments_lexer": "ipython3",
   "version": "3.10.7"
  }
 },
 "nbformat": 4,
 "nbformat_minor": 5
}
