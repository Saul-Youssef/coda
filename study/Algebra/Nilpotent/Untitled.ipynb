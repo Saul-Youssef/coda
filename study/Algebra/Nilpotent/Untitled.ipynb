{
 "cells": [
  {
   "cell_type": "code",
   "execution_count": 3,
   "id": "46cde0cb-3204-4587-b33b-776818bfae07",
   "metadata": {},
   "outputs": [
    {
     "name": "stdout",
     "output_type": "stream",
     "text": [
      "(defaultTime:1.0)"
     ]
    }
   ],
   "source": [
    "defaultTime:1.0"
   ]
  },
  {
   "cell_type": "code",
   "execution_count": 4,
   "id": "d4ca9e35-13d2-4b2b-a8fb-240b3dc67f33",
   "metadata": {},
   "outputs": [
    {
     "name": "stdout",
     "output_type": "stream",
     "text": [
      "0 1 2 3 4 5 6 7 8 9 10 11 12 13 14 15 16 17 18 19 20 21 22 23 24 25 26 27 28 29 30 31 32 33 34 35 36 37 38 39 40 41 42 43 44 45 46 47 48 49 50 51 52 53 54 55 56 57 58 59 60 61 62 63 64 65 66 67 68 69 70 71 72 73 74 75 76 77 78 79 80 81 82 83 84 85 86 87 88 89 90 91 92 93 94 95 96 97 98 99 100 101 102 103 104 105 106 107 108 109 110 111 112 113 114 115 116 117 118 119 120 121 122 123 124 125 126 127 128 129 130 131 132 133 134 135 136 137 138 139 140 141 142 143 144 145 146 147 148 149 150 151 152 153 154 155 156 157 158 159 160 161 162 163 164 165 166 167 168 169 170 171 172 173 174 175 176 177 178 179 180 181 182 183 184 185 186 187 188 189 190 191 192 193 194 195 196 197 198 199 200 201 202 203 204 205 206 207 208 209 210 211 212 213 214 215 216 217 218 219 220 221 222 223 224 225 226 227 228 229 230 231 232 233 234 235 236 237 238 239 240 241 242 243 244 245 246 247 248 249 250 251 252 253 254 255 256 257 258 259 260 261 262 263 264 265 266 267 268 269 270 271 272 273 274 275 276 277 278 279 280 281 282 283 284 285 286 287 288 289 290 291 292 293 294 295 296 297 298 299 300 301 302 303 304 305 306 307 308 309 310 311 312 313 314 315 316 317 318 319 320 321 322 323 324 325 326 327 328 329 330 331 332 333 334 335 336 337 338 339 340 341 342 343 344 345 346 347 348 349 350 351 352 353 354 355 356 357 358 359 360 361 362 363 364 365 366 367 368 369 370 371 372 373 374 375 376 377 378 379 380 381 382 383 384 385 386 387 388 389 390 391 392 393 394 395 396 397 398 399 400 401 402 403 404 405 406 407 408 409 410 411 412 413 414 415 416 417 (nat:418)"
     ]
    }
   ],
   "source": [
    "nat:0"
   ]
  },
  {
   "cell_type": "code",
   "execution_count": 2,
   "id": "bb37897f-dc52-4e9b-bf47-92643d2c0603",
   "metadata": {},
   "outputs": [
    {
     "name": "stdout",
     "output_type": "stream",
     "text": []
    }
   ],
   "source": [
    "import : dir co : up : up : ."
   ]
  },
  {
   "cell_type": "code",
   "execution_count": 3,
   "id": "89c25820-9c69-4455-912a-da4a09e45698",
   "metadata": {},
   "outputs": [
    {
     "name": "stdout",
     "output_type": "stream",
     "text": [
      "\u001b[;1mcode:\u001b[0m\n",
      "    \u001b[34;7mwap\u001b[0m\n",
      "\u001b[;1mmodule:\u001b[0m\n",
      "    Algebra\n",
      "\u001b[;1msummary:\u001b[0m\n",
      "    demo: wap 10 int_sum : first 100 : nat : 0\n",
      "\u001b[;1mdescription:\u001b[0m\n",
      "\u001b[;1mpath:\u001b[0m\n",
      "    /Users/youssef/coda/study/Algebra.co\n",
      "\u001b[;1msource code:\u001b[0m\n",
      "    def wap : {ap {with:A:get:B} (tail 1:A) : by (head 1:A) : B} \n",
      "\u001b[;1mdemos:\u001b[0m\n",
      "    1. \u001b[35;4mwap 10 int_sum : first 100 : nat : 0\u001b[0m\n",
      "    2. \u001b[35;4mdo : wap 10 int_sum : first 100 : nat : 0\u001b[0m\n"
     ]
    }
   ],
   "source": [
    "help : wap"
   ]
  },
  {
   "cell_type": "code",
   "execution_count": 5,
   "id": "7514a929-b7fd-42fb-8980-8b6293385273",
   "metadata": {},
   "outputs": [
    {
     "name": "stdout",
     "output_type": "stream",
     "text": [
      "(with:45) (with:145) (with:245) (with:345) (with:445) (with:545) (with:645) (with:745) (with:845) (with:945)"
     ]
    }
   ],
   "source": [
    "demo wap : 2"
   ]
  },
  {
   "cell_type": "code",
   "execution_count": null,
   "id": "1368a7b7-9f75-473e-b830-a01ee8530460",
   "metadata": {},
   "outputs": [],
   "source": [
    "Def F : {count:B} "
   ]
  },
  {
   "cell_type": "code",
   "execution_count": null,
   "id": "d9ee6d13-e4c2-4526-a9b6-aa9ed590bbc5",
   "metadata": {},
   "outputs": [],
   "source": [
    "Let X : first 200 : nat:0 "
   ]
  },
  {
   "cell_type": "code",
   "execution_count": null,
   "id": "5979dc57-5e95-41ef-b3c5-316d39e2239d",
   "metadata": {},
   "outputs": [],
   "source": [
    "X?"
   ]
  },
  {
   "cell_type": "code",
   "execution_count": null,
   "id": "2559d444-5ad3-40c2-870a-0c5da1fa3345",
   "metadata": {},
   "outputs": [],
   "source": [
    "Def G : {int_sum:B}"
   ]
  },
  {
   "cell_type": "code",
   "execution_count": null,
   "id": "1052cb6d-b9de-43c2-8737-acee5d3f927a",
   "metadata": {},
   "outputs": [],
   "source": [
    "Def apw : {with:"
   ]
  },
  {
   "cell_type": "code",
   "execution_count": null,
   "id": "03226df6-438d-49af-a858-a37e0c5bb512",
   "metadata": {},
   "outputs": [],
   "source": [
    "ap {with:G:get:B} : by 10 : X?"
   ]
  },
  {
   "cell_type": "code",
   "execution_count": null,
   "id": "c77395ae-7fbb-4d60-806d-044bf13f391c",
   "metadata": {},
   "outputs": [],
   "source": [
    "multi : ap {with:G:get:B} : by 10 : X?"
   ]
  },
  {
   "cell_type": "code",
   "execution_count": null,
   "id": "c2a6db46-64a7-4c8e-8a7c-919152c45333",
   "metadata": {},
   "outputs": [],
   "source": [
    "do : {ap {with:A:get:B} (tail 1:A) : by (head 1:A) : B} 10 G : X?"
   ]
  },
  {
   "cell_type": "code",
   "execution_count": null,
   "id": "91b8492c-0ca8-4f04-a9ae-a47cf5d424a5",
   "metadata": {},
   "outputs": [],
   "source": [
    "Def apw : {ap {with:A:get:B} (tail 1:A) : by (head 1:A) : B}"
   ]
  },
  {
   "cell_type": "code",
   "execution_count": null,
   "id": "72b05426-07d2-4a7d-937b-b8c6a21eec88",
   "metadata": {},
   "outputs": [],
   "source": [
    "multi : wap 10 G : X?"
   ]
  },
  {
   "cell_type": "code",
   "execution_count": null,
   "id": "9b6bda72-dd8f-417e-8c5a-b04fcbc4a26a",
   "metadata": {},
   "outputs": [],
   "source": [
    "{put bin (tail 1:A) : get with : do : cases ((head 1:A):(tail 1:A)) : B} semilattice pass : S6?"
   ]
  },
  {
   "cell_type": "code",
   "execution_count": null,
   "id": "8db54afe-04da-438d-8a00-86f59f6e27ea",
   "metadata": {},
   "outputs": [],
   "source": [
    "Def _G  : {put with (tail 1:A) : bool : get with : do : cases ((head 1:A):(tail 1:A)) : B}\n",
    "Def _GG : {_G (head 1:A) (get:tail 1:A) : B}\n",
    "Def _GTest : {sum (co 2 : _GG A ) : B} "
   ]
  },
  {
   "cell_type": "code",
   "execution_count": null,
   "id": "10871e41-0ede-4996-9a54-991ed386cf67",
   "metadata": {},
   "outputs": [],
   "source": [
    "tab : multi 100 : property nilpotent (C0?:) (:{head 0:B}) (:{tail 0:B}) : S6?"
   ]
  },
  {
   "cell_type": "code",
   "execution_count": null,
   "id": "09095e22-3f7a-4c16-a995-2cf55f5cbfa1",
   "metadata": {},
   "outputs": [],
   "source": [
    "out Result : multi 10 : property idempotent (C0?:) : S6?"
   ]
  },
  {
   "cell_type": "code",
   "execution_count": null,
   "id": "4e7752d8-ea66-4519-af5a-bbd267331cf9",
   "metadata": {},
   "outputs": [],
   "source": [
    "in stable : Result "
   ]
  },
  {
   "cell_type": "code",
   "execution_count": null,
   "id": "ab89266a-9152-471d-b559-14f8ef3bef56",
   "metadata": {},
   "outputs": [],
   "source": [
    "#F : first\n",
    "#F : float_div \n",
    "#F : float_inv \n",
    "#F : float_max "
   ]
  },
  {
   "cell_type": "code",
   "execution_count": null,
   "id": "a93aa4d1-efe8-4711-ab50-5db31b1ee10f",
   "metadata": {},
   "outputs": [],
   "source": [
    "#F : left"
   ]
  },
  {
   "cell_type": "code",
   "execution_count": null,
   "id": "af3c8ef5-3e47-48a7-b1cc-028bfef85805",
   "metadata": {},
   "outputs": [],
   "source": [
    "#F : domain"
   ]
  },
  {
   "cell_type": "code",
   "execution_count": null,
   "id": "f13d3913-d658-4b3c-9bf8-b2d8fa9c1db2",
   "metadata": {},
   "outputs": [],
   "source": []
  }
 ],
 "metadata": {
  "kernelspec": {
   "display_name": "coda",
   "language": "",
   "name": "coda"
  },
  "language_info": {
   "file_extension": ".co",
   "mimetype": "text/plain",
   "name": "Any text"
  }
 },
 "nbformat": 4,
 "nbformat_minor": 5
}
