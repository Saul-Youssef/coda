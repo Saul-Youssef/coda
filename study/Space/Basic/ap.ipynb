{
 "cells": [
  {
   "cell_type": "markdown",
   "id": "be45fcff-52f1-47aa-a18a-99e95a2f6b5f",
   "metadata": {},
   "source": [
    "| Space | Elements | Operation | Space | Simple | Idempotent | Distributive | Distributive 2 | Commutative | Involution | Nilpotent | \n",
    "|-------|----------|-----------|-----:|-------:|-----------:|-------------:|--------:|------------:|-----------:|----------:|\n",
    "| x | x | x | x | x | x | x | x | x | x |\n"
   ]
  },
  {
   "cell_type": "code",
   "execution_count": 1,
   "id": "b896d017-55a9-4dd9-a6ed-2b2716416623",
   "metadata": {},
   "outputs": [
    {
     "name": "stdout",
     "output_type": "stream",
     "text": []
    }
   ],
   "source": [
    "import : dir co : up : ."
   ]
  },
  {
   "cell_type": "code",
   "execution_count": 2,
   "id": "f7630e27-1256-4853-8683-6cf2a3e9b673",
   "metadata": {},
   "outputs": [
    {
     "name": "stdout",
     "output_type": "stream",
     "text": []
    }
   ],
   "source": [
    "Let OP : ap {first A : get bin : B}"
   ]
  },
  {
   "cell_type": "code",
   "execution_count": null,
   "id": "c68abdf5-f816-4004-960f-1ab258137933",
   "metadata": {},
   "outputs": [],
   "source": [
    "count : theorem (simple:        OP) : S1?\n",
    "count : theorem (idempotent:    OP) : S1?\n",
    "count : theorem (distributive:  OP) : S1?\n",
    "count : theorem (distributive2: OP) : S1?\n",
    "count : theorem (commutative:   OP) : S1? \n",
    "count : theorem (involution:    OP) : S1? \n",
    "count : theorem (nilpotent:     OP) : S1? "
   ]
  },
  {
   "cell_type": "code",
   "execution_count": null,
   "id": "bdf86bd6-dc31-42e2-a6fc-2fbf327561b2",
   "metadata": {
    "tags": []
   },
   "outputs": [],
   "source": [
    "count : theorem (simple:        OP) : S2?\n",
    "count : theorem (idempotent:    OP) : S2?\n",
    "count : theorem (distributive:  OP) : S2?\n",
    "count : theorem (distributive2: OP) : S2?\n",
    "count : theorem (commutative:   OP) : S2? \n",
    "count : theorem (involution:    OP) : S2? \n",
    "count : theorem (nilpotent:     OP) : S2? "
   ]
  }
 ],
 "metadata": {
  "kernelspec": {
   "display_name": "coda",
   "language": "",
   "name": "coda"
  },
  "language_info": {
   "file_extension": ".co",
   "mimetype": "text/plain",
   "name": "Any text"
  }
 },
 "nbformat": 4,
 "nbformat_minor": 5
}
